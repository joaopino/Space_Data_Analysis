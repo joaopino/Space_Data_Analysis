{
 "cells": [
  {
   "cell_type": "markdown",
   "id": "8e877a44",
   "metadata": {},
   "source": [
    "# Análise Dados de Crime"
   ]
  },
  {
   "cell_type": "code",
   "execution_count": 1,
   "id": "95b5d8a2",
   "metadata": {},
   "outputs": [],
   "source": [
    "import os\n",
    "import pandas as pd\n",
    "import matplotlib.pyplot as plt\n",
    "import plotly.express as px\n",
    "from sklearn.cluster import KMeans\n",
    "from sklearn.preprocessing import StandardScaler\n",
    "from sklearn.decomposition import PCA"
   ]
  },
  {
   "cell_type": "markdown",
   "id": "bf8af0f9",
   "metadata": {},
   "source": [
    "### Funções"
   ]
  },
  {
   "cell_type": "code",
   "execution_count": 2,
   "id": "b2db6d95",
   "metadata": {},
   "outputs": [],
   "source": [
    "def processar_ficheiro(caminho_ficheiro, header=4, pasta_saida='.'):\n",
    "    \n",
    "    df = pd.read_excel(caminho_ficheiro, header=header)\n",
    "    \n",
    "    df.columns = df.columns.map(str).str.strip()\n",
    "\n",
    "    if len(df.columns) >= 2:\n",
    "        df.columns.values[0] = 'local'\n",
    "        df.columns.values[1] = 'codigo'\n",
    "\n",
    "    df = df.loc[:, ~df.columns.str.startswith('Unnamed')]\n",
    "    df = df[~df.iloc[:, 1:].isna().all(axis=1)]\n",
    "    df = df.fillna(0)\n",
    "    \n",
    "    return df\n"
   ]
  },
  {
   "cell_type": "code",
   "execution_count": 3,
   "id": "e6854574",
   "metadata": {},
   "outputs": [],
   "source": [
    "\n",
    "def carregar_municipios(df):\n",
    "    df['codigo'] = df['codigo'].astype(str)\n",
    "    df_municipios = df[df['codigo'].str.match(r'^\\d{7}$')].copy()\n",
    "    return df_municipios"
   ]
  },
  {
   "cell_type": "code",
   "execution_count": 4,
   "id": "84f8ab42",
   "metadata": {},
   "outputs": [],
   "source": [
    "from sklearn.cluster import KMeans\n",
    "from sklearn.preprocessing import StandardScaler\n",
    "from sklearn.decomposition import PCA\n",
    "import numpy as np\n",
    "\n",
    "def aplicar_kmeans(df, n_clusters=3, nome_cluster='cluster'):\n",
    "    dados_numericos = df.drop(columns=['local', 'codigo'])\n",
    "    scaler = StandardScaler()\n",
    "    dados_escalados = scaler.fit_transform(dados_numericos)\n",
    "\n",
    "    kmeans = KMeans(n_clusters=n_clusters, random_state=42, n_init='auto')\n",
    "    labels = kmeans.fit_predict(dados_escalados)\n",
    "\n",
    "    centroides = kmeans.cluster_centers_\n",
    "    ordem = np.argsort(centroides[:, 0]) \n",
    "    mapeamento = {old: new for new, old in enumerate(ordem)}\n",
    "    labels_ordenados = np.vectorize(mapeamento.get)(labels)\n",
    "\n",
    "    df[nome_cluster] = labels_ordenados\n",
    "\n",
    "    pca = PCA(n_components=2)\n",
    "    reduzido = pca.fit_transform(dados_escalados)\n",
    "    df['PCA1'] = reduzido[:, 0]\n",
    "    df['PCA2'] = reduzido[:, 1]\n",
    "\n",
    "    print(df[nome_cluster].value_counts().sort_index())\n",
    "\n",
    "    return df\n"
   ]
  },
  {
   "cell_type": "code",
   "execution_count": 5,
   "id": "997eaa34",
   "metadata": {},
   "outputs": [],
   "source": [
    "def plotar_clusters(df, cluster_col, titulo='Clusters'):\n",
    "    fig = px.scatter(\n",
    "        df, x='PCA1', y='PCA2',\n",
    "        color=cluster_col,\n",
    "        hover_data=['local', 'Total', cluster_col],\n",
    "        title=titulo,\n",
    "    )\n",
    "    fig.show()"
   ]
  },
  {
   "cell_type": "markdown",
   "id": "74391509",
   "metadata": {},
   "source": [
    "### Análise do Número de Crimes"
   ]
  },
  {
   "cell_type": "code",
   "execution_count": 6,
   "id": "a60c93cb",
   "metadata": {},
   "outputs": [
    {
     "name": "stdout",
     "output_type": "stream",
     "text": [
      "(147, 18)\n"
     ]
    }
   ],
   "source": [
    "df_crimes = processar_ficheiro('/Users/joaopino/Principal/2Semester/ADE/project/data/dados_municipio/Crime (2)/Crimes registados .xls',4)\n",
    "df_crimes_municipios = carregar_municipios(df_crimes)\n",
    "print(df_crimes_municipios.shape)\n",
    "# df_crimes_municipios = aplicar_kmeans(df_crimes_municipios, n_clusters=3, nome_cluster='cluster_num_crimes')\n",
    "# df_crimes_municipios\n",
    "# plotar_clusters(df_crimes_municipios, 'cluster_num_crimes', titulo='Clusters de Número de Crimes')\n",
    "\n"
   ]
  },
  {
   "cell_type": "markdown",
   "id": "5c5b5fe8",
   "metadata": {},
   "source": [
    "### Análise da Taxa de Criminalidade"
   ]
  },
  {
   "cell_type": "code",
   "execution_count": 7,
   "id": "42a6bba1",
   "metadata": {},
   "outputs": [
    {
     "ename": "FileNotFoundError",
     "evalue": "[Errno 2] No such file or directory: './Taxa de criminalidade.xls'",
     "output_type": "error",
     "traceback": [
      "\u001b[31m---------------------------------------------------------------------------\u001b[39m",
      "\u001b[31mFileNotFoundError\u001b[39m                         Traceback (most recent call last)",
      "\u001b[36mCell\u001b[39m\u001b[36m \u001b[39m\u001b[32mIn[7]\u001b[39m\u001b[32m, line 1\u001b[39m\n\u001b[32m----> \u001b[39m\u001b[32m1\u001b[39m df_taxa_criminalidade = \u001b[43mprocessar_ficheiro\u001b[49m\u001b[43m(\u001b[49m\u001b[33;43m'\u001b[39;49m\u001b[33;43m./Taxa de criminalidade.xls\u001b[39;49m\u001b[33;43m'\u001b[39;49m\u001b[43m,\u001b[49m\u001b[32;43m4\u001b[39;49m\u001b[43m)\u001b[49m\n\u001b[32m      2\u001b[39m df_taxa_criminalidade_municipios = carregar_municipios(df_taxa_criminalidade)\n\u001b[32m      3\u001b[39m df_taxa_criminalidade_municipios = aplicar_kmeans(df_taxa_criminalidade_municipios, n_clusters=\u001b[32m3\u001b[39m, nome_cluster=\u001b[33m'\u001b[39m\u001b[33mcluster_taxa_crime\u001b[39m\u001b[33m'\u001b[39m)\n",
      "\u001b[36mCell\u001b[39m\u001b[36m \u001b[39m\u001b[32mIn[2]\u001b[39m\u001b[32m, line 3\u001b[39m, in \u001b[36mprocessar_ficheiro\u001b[39m\u001b[34m(caminho_ficheiro, header, pasta_saida)\u001b[39m\n\u001b[32m      1\u001b[39m \u001b[38;5;28;01mdef\u001b[39;00m\u001b[38;5;250m \u001b[39m\u001b[34mprocessar_ficheiro\u001b[39m(caminho_ficheiro, header=\u001b[32m4\u001b[39m, pasta_saida=\u001b[33m'\u001b[39m\u001b[33m.\u001b[39m\u001b[33m'\u001b[39m):\n\u001b[32m----> \u001b[39m\u001b[32m3\u001b[39m     df = \u001b[43mpd\u001b[49m\u001b[43m.\u001b[49m\u001b[43mread_excel\u001b[49m\u001b[43m(\u001b[49m\u001b[43mcaminho_ficheiro\u001b[49m\u001b[43m,\u001b[49m\u001b[43m \u001b[49m\u001b[43mheader\u001b[49m\u001b[43m=\u001b[49m\u001b[43mheader\u001b[49m\u001b[43m)\u001b[49m\n\u001b[32m      5\u001b[39m     df.columns = df.columns.map(\u001b[38;5;28mstr\u001b[39m).str.strip()\n\u001b[32m      7\u001b[39m     \u001b[38;5;28;01mif\u001b[39;00m \u001b[38;5;28mlen\u001b[39m(df.columns) >= \u001b[32m2\u001b[39m:\n",
      "\u001b[36mFile \u001b[39m\u001b[32m~/Principal/2Semester/ADE/project/ade_venv/lib/python3.13/site-packages/pandas/io/excel/_base.py:495\u001b[39m, in \u001b[36mread_excel\u001b[39m\u001b[34m(io, sheet_name, header, names, index_col, usecols, dtype, engine, converters, true_values, false_values, skiprows, nrows, na_values, keep_default_na, na_filter, verbose, parse_dates, date_parser, date_format, thousands, decimal, comment, skipfooter, storage_options, dtype_backend, engine_kwargs)\u001b[39m\n\u001b[32m    493\u001b[39m \u001b[38;5;28;01mif\u001b[39;00m \u001b[38;5;129;01mnot\u001b[39;00m \u001b[38;5;28misinstance\u001b[39m(io, ExcelFile):\n\u001b[32m    494\u001b[39m     should_close = \u001b[38;5;28;01mTrue\u001b[39;00m\n\u001b[32m--> \u001b[39m\u001b[32m495\u001b[39m     io = \u001b[43mExcelFile\u001b[49m\u001b[43m(\u001b[49m\n\u001b[32m    496\u001b[39m \u001b[43m        \u001b[49m\u001b[43mio\u001b[49m\u001b[43m,\u001b[49m\n\u001b[32m    497\u001b[39m \u001b[43m        \u001b[49m\u001b[43mstorage_options\u001b[49m\u001b[43m=\u001b[49m\u001b[43mstorage_options\u001b[49m\u001b[43m,\u001b[49m\n\u001b[32m    498\u001b[39m \u001b[43m        \u001b[49m\u001b[43mengine\u001b[49m\u001b[43m=\u001b[49m\u001b[43mengine\u001b[49m\u001b[43m,\u001b[49m\n\u001b[32m    499\u001b[39m \u001b[43m        \u001b[49m\u001b[43mengine_kwargs\u001b[49m\u001b[43m=\u001b[49m\u001b[43mengine_kwargs\u001b[49m\u001b[43m,\u001b[49m\n\u001b[32m    500\u001b[39m \u001b[43m    \u001b[49m\u001b[43m)\u001b[49m\n\u001b[32m    501\u001b[39m \u001b[38;5;28;01melif\u001b[39;00m engine \u001b[38;5;129;01mand\u001b[39;00m engine != io.engine:\n\u001b[32m    502\u001b[39m     \u001b[38;5;28;01mraise\u001b[39;00m \u001b[38;5;167;01mValueError\u001b[39;00m(\n\u001b[32m    503\u001b[39m         \u001b[33m\"\u001b[39m\u001b[33mEngine should not be specified when passing \u001b[39m\u001b[33m\"\u001b[39m\n\u001b[32m    504\u001b[39m         \u001b[33m\"\u001b[39m\u001b[33man ExcelFile - ExcelFile already has the engine set\u001b[39m\u001b[33m\"\u001b[39m\n\u001b[32m    505\u001b[39m     )\n",
      "\u001b[36mFile \u001b[39m\u001b[32m~/Principal/2Semester/ADE/project/ade_venv/lib/python3.13/site-packages/pandas/io/excel/_base.py:1550\u001b[39m, in \u001b[36mExcelFile.__init__\u001b[39m\u001b[34m(self, path_or_buffer, engine, storage_options, engine_kwargs)\u001b[39m\n\u001b[32m   1548\u001b[39m     ext = \u001b[33m\"\u001b[39m\u001b[33mxls\u001b[39m\u001b[33m\"\u001b[39m\n\u001b[32m   1549\u001b[39m \u001b[38;5;28;01melse\u001b[39;00m:\n\u001b[32m-> \u001b[39m\u001b[32m1550\u001b[39m     ext = \u001b[43minspect_excel_format\u001b[49m\u001b[43m(\u001b[49m\n\u001b[32m   1551\u001b[39m \u001b[43m        \u001b[49m\u001b[43mcontent_or_path\u001b[49m\u001b[43m=\u001b[49m\u001b[43mpath_or_buffer\u001b[49m\u001b[43m,\u001b[49m\u001b[43m \u001b[49m\u001b[43mstorage_options\u001b[49m\u001b[43m=\u001b[49m\u001b[43mstorage_options\u001b[49m\n\u001b[32m   1552\u001b[39m \u001b[43m    \u001b[49m\u001b[43m)\u001b[49m\n\u001b[32m   1553\u001b[39m     \u001b[38;5;28;01mif\u001b[39;00m ext \u001b[38;5;129;01mis\u001b[39;00m \u001b[38;5;28;01mNone\u001b[39;00m:\n\u001b[32m   1554\u001b[39m         \u001b[38;5;28;01mraise\u001b[39;00m \u001b[38;5;167;01mValueError\u001b[39;00m(\n\u001b[32m   1555\u001b[39m             \u001b[33m\"\u001b[39m\u001b[33mExcel file format cannot be determined, you must specify \u001b[39m\u001b[33m\"\u001b[39m\n\u001b[32m   1556\u001b[39m             \u001b[33m\"\u001b[39m\u001b[33man engine manually.\u001b[39m\u001b[33m\"\u001b[39m\n\u001b[32m   1557\u001b[39m         )\n",
      "\u001b[36mFile \u001b[39m\u001b[32m~/Principal/2Semester/ADE/project/ade_venv/lib/python3.13/site-packages/pandas/io/excel/_base.py:1402\u001b[39m, in \u001b[36minspect_excel_format\u001b[39m\u001b[34m(content_or_path, storage_options)\u001b[39m\n\u001b[32m   1399\u001b[39m \u001b[38;5;28;01mif\u001b[39;00m \u001b[38;5;28misinstance\u001b[39m(content_or_path, \u001b[38;5;28mbytes\u001b[39m):\n\u001b[32m   1400\u001b[39m     content_or_path = BytesIO(content_or_path)\n\u001b[32m-> \u001b[39m\u001b[32m1402\u001b[39m \u001b[38;5;28;01mwith\u001b[39;00m \u001b[43mget_handle\u001b[49m\u001b[43m(\u001b[49m\n\u001b[32m   1403\u001b[39m \u001b[43m    \u001b[49m\u001b[43mcontent_or_path\u001b[49m\u001b[43m,\u001b[49m\u001b[43m \u001b[49m\u001b[33;43m\"\u001b[39;49m\u001b[33;43mrb\u001b[39;49m\u001b[33;43m\"\u001b[39;49m\u001b[43m,\u001b[49m\u001b[43m \u001b[49m\u001b[43mstorage_options\u001b[49m\u001b[43m=\u001b[49m\u001b[43mstorage_options\u001b[49m\u001b[43m,\u001b[49m\u001b[43m \u001b[49m\u001b[43mis_text\u001b[49m\u001b[43m=\u001b[49m\u001b[38;5;28;43;01mFalse\u001b[39;49;00m\n\u001b[32m   1404\u001b[39m \u001b[43m\u001b[49m\u001b[43m)\u001b[49m \u001b[38;5;28;01mas\u001b[39;00m handle:\n\u001b[32m   1405\u001b[39m     stream = handle.handle\n\u001b[32m   1406\u001b[39m     stream.seek(\u001b[32m0\u001b[39m)\n",
      "\u001b[36mFile \u001b[39m\u001b[32m~/Principal/2Semester/ADE/project/ade_venv/lib/python3.13/site-packages/pandas/io/common.py:882\u001b[39m, in \u001b[36mget_handle\u001b[39m\u001b[34m(path_or_buf, mode, encoding, compression, memory_map, is_text, errors, storage_options)\u001b[39m\n\u001b[32m    873\u001b[39m         handle = \u001b[38;5;28mopen\u001b[39m(\n\u001b[32m    874\u001b[39m             handle,\n\u001b[32m    875\u001b[39m             ioargs.mode,\n\u001b[32m   (...)\u001b[39m\u001b[32m    878\u001b[39m             newline=\u001b[33m\"\u001b[39m\u001b[33m\"\u001b[39m,\n\u001b[32m    879\u001b[39m         )\n\u001b[32m    880\u001b[39m     \u001b[38;5;28;01melse\u001b[39;00m:\n\u001b[32m    881\u001b[39m         \u001b[38;5;66;03m# Binary mode\u001b[39;00m\n\u001b[32m--> \u001b[39m\u001b[32m882\u001b[39m         handle = \u001b[38;5;28;43mopen\u001b[39;49m\u001b[43m(\u001b[49m\u001b[43mhandle\u001b[49m\u001b[43m,\u001b[49m\u001b[43m \u001b[49m\u001b[43mioargs\u001b[49m\u001b[43m.\u001b[49m\u001b[43mmode\u001b[49m\u001b[43m)\u001b[49m\n\u001b[32m    883\u001b[39m     handles.append(handle)\n\u001b[32m    885\u001b[39m \u001b[38;5;66;03m# Convert BytesIO or file objects passed with an encoding\u001b[39;00m\n",
      "\u001b[31mFileNotFoundError\u001b[39m: [Errno 2] No such file or directory: './Taxa de criminalidade.xls'"
     ]
    }
   ],
   "source": [
    "df_taxa_criminalidade = processar_ficheiro('./Taxa de criminalidade.xls',4)\n",
    "df_taxa_criminalidade_municipios = carregar_municipios(df_taxa_criminalidade)\n",
    "df_taxa_criminalidade_municipios = aplicar_kmeans(df_taxa_criminalidade_municipios, n_clusters=3, nome_cluster='cluster_taxa_crime')\n",
    "plotar_clusters(df_taxa_criminalidade_municipios, 'cluster_taxa_crime', titulo='Clusters de Taxa de Criminalidade')\n"
   ]
  },
  {
   "cell_type": "markdown",
   "id": "33564a64",
   "metadata": {},
   "source": [
    "### Análise Geral"
   ]
  },
  {
   "cell_type": "code",
   "execution_count": null,
   "id": "4fc8b998",
   "metadata": {},
   "outputs": [
    {
     "name": "stdout",
     "output_type": "stream",
     "text": [
      "    codigo              local  cluster_taxa_crime  cluster_num_crimes\n",
      "0  1111601  Arcos de Valdevez                   1                   0\n",
      "1  1111602            Caminha                   1                   0\n",
      "2  1111603            Melgaço                   1                   0\n",
      "3  1111604             Monção                   0                   0\n",
      "4  1111605   Paredes de Coura                   1                   0\n"
     ]
    }
   ],
   "source": [
    "df_cluster_crime = pd.merge(\n",
    "    df_taxa_criminalidade_municipios[['codigo', 'local', 'cluster_taxa_crime']],\n",
    "    df_crimes_municipios[['codigo', 'cluster_num_crimes']],\n",
    "    on='codigo',\n",
    "    how='inner'\n",
    ")\n",
    "\n",
    "print(df_cluster_crime.head())"
   ]
  },
  {
   "cell_type": "code",
   "execution_count": null,
   "id": "76469f2a",
   "metadata": {},
   "outputs": [
    {
     "name": "stderr",
     "output_type": "stream",
     "text": [
      "/Users/mariainesfernandes/anaconda3/lib/python3.11/site-packages/sklearn/base.py:1389: ConvergenceWarning:\n",
      "\n",
      "Number of distinct clusters (9) found smaller than n_clusters (10). Possibly due to duplicate points in X.\n",
      "\n"
     ]
    },
    {
     "data": {
      "image/png": "[encoded data removed]",
      "text/plain": [
       "<Figure size 800x500 with 1 Axes>"
      ]
     },
     "metadata": {},
     "output_type": "display_data"
    }
   ],
   "source": [
    "X_meta = df_cluster_crime[['cluster_taxa_crime', 'cluster_num_crimes']]\n",
    "\n",
    "inercia = []\n",
    "k_range = range(1, 11)\n",
    "\n",
    "for k in k_range:\n",
    "    kmeans = KMeans(n_clusters=k, random_state=42, n_init='auto')\n",
    "    kmeans.fit(X_meta)\n",
    "    inercia.append(kmeans.inertia_)\n",
    "\n",
    "plt.figure(figsize=(8, 5))\n",
    "plt.plot(k_range, inercia, marker='o')\n",
    "plt.title('Método do Cotovelo')\n",
    "plt.xlabel('Número de clusters (k)')\n",
    "plt.ylabel('Inércia (Distância intra-cluster)')\n",
    "plt.xticks(k_range)\n",
    "plt.grid(True)\n",
    "plt.show()"
   ]
  },
  {
   "cell_type": "code",
   "execution_count": null,
   "id": "5c956f16",
   "metadata": {},
   "outputs": [
    {
     "data": {
      "application/vnd.plotly.v1+json": {
       "config": {
        "plotlyServerURL": "https://plot.ly"
       },
       "data": [
        {
         "customdata": [
          [
           "Arcos de Valdevez",
           "1111601"
          ],
          [
           "Caminha",
           "1111602"
          ],
          [
           "Melgaço",
           "1111603"
          ],
          [
           "Monção",
           "1111604"
          ],
          [
           "Paredes de Coura",
           "1111605"
          ],
          [
           "Ponte da Barca",
           "1111606"
          ],
          [
           "Ponte de Lima",
           "1111607"
          ],
          [
           "Valença",
           "1111608"
          ],
          [
           "Viana do Castelo",
           "1111609"
          ],
          [
           "Vila Nova de Cerveira",
           "1111610"
          ],
          [
           "Amares",
           "1120301"
          ],
          [
           "Barcelos",
           "1120302"
          ],
          [
           "Braga",
           "1120303"
          ],
          [
           "Esposende",
           "1120306"
          ],
          [
           "Terras de Bouro",
           "1120310"
          ],
          [
           "Vila Verde",
           "1120313"
          ],
          [
           "Cabeceiras de Basto",
           "1190304"
          ],
          [
           "Fafe",
           "1190307"
          ],
          [
           "Guimarães",
           "1190308"
          ],
          [
           "Mondim de Basto",
           "1191705"
          ],
          [
           "Póvoa de Lanhoso",
           "1190309"
          ],
          [
           "Vieira do Minho",
           "1190311"
          ],
          [
           "Vila Nova de Famalicão",
           "1190312"
          ],
          [
           "Vizela",
           "1190314"
          ],
          [
           "Águeda",
           "1910101"
          ],
          [
           "Albergaria-a-Velha",
           "1910102"
          ],
          [
           "Anadia",
           "1910103"
          ],
          [
           "Aveiro",
           "1910105"
          ],
          [
           "Estarreja",
           "1910108"
          ],
          [
           "Ílhavo",
           "1910110"
          ],
          [
           "Murtosa",
           "1910112"
          ],
          [
           "Oliveira do Bairro",
           "1910114"
          ],
          [
           "Ovar",
           "1910115"
          ],
          [
           "Sever do Vouga",
           "1910117"
          ],
          [
           "Vagos",
           "1910118"
          ],
          [
           "Arganil",
           "1920601"
          ],
          [
           "Cantanhede",
           "1920602"
          ],
          [
           "Coimbra",
           "1920603"
          ],
          [
           "Condeixa-a-Nova",
           "1920604"
          ],
          [
           "Figueira da Foz",
           "1920605"
          ],
          [
           "Góis",
           "1920606"
          ],
          [
           "Lousã",
           "1920607"
          ],
          [
           "Mealhada",
           "1920111"
          ],
          [
           "Mira",
           "1920608"
          ],
          [
           "Miranda do Corvo",
           "1920609"
          ],
          [
           "Montemor-o-Velho",
           "1920610"
          ],
          [
           "Mortágua",
           "1921808"
          ],
          [
           "Oliveira do Hospital",
           "1920611"
          ],
          [
           "Pampilhosa da Serra",
           "1920612"
          ],
          [
           "Penacova",
           "1920613"
          ],
          [
           "Penela",
           "1920614"
          ],
          [
           "Soure",
           "1920615"
          ],
          [
           "Tábua",
           "1920616"
          ],
          [
           "Vila Nova de Poiares",
           "1920617"
          ],
          [
           "Alvaiázere",
           "1931002"
          ],
          [
           "Ansião",
           "1931003"
          ],
          [
           "Batalha",
           "1931004"
          ],
          [
           "Castanheira de Pêra",
           "1931007"
          ],
          [
           "Figueiró dos Vinhos",
           "1931008"
          ],
          [
           "Leiria",
           "1931009"
          ],
          [
           "Marinha Grande",
           "1931010"
          ],
          [
           "Pedrógão Grande",
           "1931013"
          ],
          [
           "Pombal",
           "1931015"
          ],
          [
           "Porto de Mós",
           "1931016"
          ],
          [
           "Aguiar da Beira",
           "1940901"
          ],
          [
           "Carregal do Sal",
           "1941802"
          ],
          [
           "Castro Daire",
           "1941803"
          ],
          [
           "Mangualde",
           "1941806"
          ],
          [
           "Nelas",
           "1941809"
          ],
          [
           "Oliveira de Frades",
           "1941810"
          ],
          [
           "Penalva do Castelo",
           "1941811"
          ],
          [
           "Santa Comba Dão",
           "1941814"
          ],
          [
           "São Pedro do Sul",
           "1941816"
          ],
          [
           "Sátão",
           "1941817"
          ],
          [
           "Tondela",
           "1941821"
          ],
          [
           "Vila Nova de Paiva",
           "1941822"
          ],
          [
           "Viseu",
           "1941823"
          ],
          [
           "Vouzela",
           "1941824"
          ],
          [
           "Castelo Branco",
           "1950502"
          ],
          [
           "Idanha-a-Nova",
           "1950505"
          ],
          [
           "Oleiros",
           "1950506"
          ],
          [
           "Penamacor",
           "1950507"
          ],
          [
           "Proença-a-Nova",
           "1950508"
          ],
          [
           "Sertã",
           "1950509"
          ],
          [
           "Vila de Rei",
           "1950510"
          ],
          [
           "Vila Velha de Ródão",
           "1950511"
          ],
          [
           "Almeida",
           "1960902"
          ],
          [
           "Belmonte",
           "1960501"
          ],
          [
           "Celorico da Beira",
           "1960903"
          ],
          [
           "Covilhã",
           "1960503"
          ],
          [
           "Figueira de Castelo Rodrigo",
           "1960904"
          ],
          [
           "Fornos de Algodres",
           "1960905"
          ],
          [
           "Fundão",
           "1960504"
          ],
          [
           "Gouveia",
           "1960906"
          ],
          [
           "Guarda",
           "1960907"
          ],
          [
           "Manteigas",
           "1960908"
          ],
          [
           "Mêda",
           "1960909"
          ],
          [
           "Pinhel",
           "1960910"
          ],
          [
           "Sabugal",
           "1960911"
          ],
          [
           "Seia",
           "1960912"
          ],
          [
           "Trancoso",
           "1960913"
          ],
          [
           "Albufeira",
           "1500801"
          ],
          [
           "Alcoutim",
           "1500802"
          ],
          [
           "Aljezur",
           "1500803"
          ],
          [
           "Castro Marim",
           "1500804"
          ],
          [
           "Faro",
           "1500805"
          ],
          [
           "Lagoa",
           "1500806"
          ],
          [
           "Lagos",
           "1500807"
          ],
          [
           "Loulé",
           "1500808"
          ],
          [
           "Monchique",
           "1500809"
          ],
          [
           "Olhão",
           "1500810"
          ],
          [
           "Portimão",
           "1500811"
          ],
          [
           "São Brás de Alportel",
           "1500812"
          ],
          [
           "Silves",
           "1500813"
          ],
          [
           "Tavira",
           "1500814"
          ],
          [
           "Vila do Bispo",
           "1500815"
          ],
          [
           "Vila Real de Santo António",
           "1500816"
          ],
          [
           "Angra do Heroísmo",
           "2004301"
          ],
          [
           "Calheta (R.A.A.)",
           "2004501"
          ],
          [
           "Corvo",
           "2004901"
          ],
          [
           "Horta",
           "2004701"
          ],
          [
           "Lagoa (R.A.A.)",
           "2004201"
          ],
          [
           "Lajes das Flores",
           "2004801"
          ],
          [
           "Lajes do Pico",
           "2004601"
          ],
          [
           "Madalena",
           "2004602"
          ],
          [
           "Nordeste",
           "2004202"
          ],
          [
           "Ponta Delgada",
           "2004203"
          ],
          [
           "Povoação",
           "2004204"
          ],
          [
           "Ribeira Grande",
           "2004205"
          ],
          [
           "Santa Cruz da Graciosa",
           "2004401"
          ],
          [
           "Santa Cruz das Flores",
           "2004802"
          ],
          [
           "São Roque do Pico",
           "2004603"
          ],
          [
           "Velas",
           "2004502"
          ],
          [
           "Vila da Praia da Vitória",
           "2004302"
          ],
          [
           "Vila do Porto",
           "2004101"
          ],
          [
           "Vila Franca do Campo",
           "2004206"
          ],
          [
           "Calheta (R.A.M.)",
           "3003101"
          ],
          [
           "Câmara de Lobos",
           "3003102"
          ],
          [
           "Funchal",
           "3003103"
          ],
          [
           "Machico",
           "3003104"
          ],
          [
           "Ponta do Sol",
           "3003105"
          ],
          [
           "Porto Moniz",
           "3003106"
          ],
          [
           "Ribeira Brava",
           "3003107"
          ],
          [
           "Santa Cruz",
           "3003108"
          ],
          [
           "Santana",
           "3003109"
          ],
          [
           "São Vicente",
           "3003110"
          ],
          [
           "Porto Santo",
           "3003201"
          ]
         ],
         "hovertemplate": "cluster_taxa_crime=%{x}<br>cluster_num_crimes=%{y}<br>local=%{customdata[0]}<br>codigo=%{customdata[1]}<br>cluster_global=%{marker.color}<extra></extra>",
         "legendgroup": "",
         "marker": {
          "color": [
           1,
           1,
           1,
           0,
           1,
           0,
           0,
           1,
           1,
           1,
           0,
           0,
           2,
           1,
           1,
           0,
           0,
           0,
           2,
           0,
           0,
           0,
           2,
           0,
           1,
           1,
           0,
           2,
           1,
           1,
           1,
           1,
           1,
           0,
           1,
           0,
           1,
           2,
           0,
           1,
           0,
           0,
           1,
           1,
           0,
           0,
           0,
           0,
           0,
           0,
           0,
           0,
           0,
           0,
           0,
           0,
           1,
           1,
           0,
           2,
           1,
           0,
           1,
           1,
           1,
           1,
           0,
           1,
           1,
           1,
           0,
           1,
           0,
           0,
           0,
           0,
           2,
           0,
           1,
           1,
           0,
           1,
           1,
           1,
           0,
           1,
           1,
           1,
           1,
           1,
           1,
           0,
           1,
           0,
           0,
           0,
           0,
           0,
           1,
           1,
           0,
           2,
           1,
           1,
           1,
           2,
           1,
           1,
           2,
           1,
           1,
           2,
           1,
           1,
           1,
           1,
           1,
           1,
           0,
           0,
           1,
           1,
           0,
           0,
           1,
           1,
           2,
           1,
           1,
           0,
           1,
           0,
           0,
           1,
           0,
           1,
           0,
           1,
           2,
           0,
           0,
           0,
           0,
           0,
           0,
           0,
           1
          ],
          "coloraxis": "coloraxis",
          "symbol": "circle"
         },
         "mode": "markers",
         "name": "",
         "orientation": "v",
         "showlegend": false,
         "type": "scatter",
         "x": [
          1,
          1,
          1,
          0,
          1,
          0,
          0,
          1,
          1,
          1,
          0,
          0,
          0,
          1,
          1,
          0,
          0,
          0,
          0,
          0,
          0,
          0,
          0,
          0,
          1,
          1,
          0,
          1,
          1,
          1,
          1,
          1,
          1,
          0,
          1,
          0,
          1,
          1,
          0,
          1,
          0,
          0,
          1,
          1,
          0,
          0,
          0,
          0,
          0,
          0,
          0,
          0,
          0,
          0,
          0,
          0,
          1,
          1,
          0,
          1,
          1,
          0,
          1,
          1,
          1,
          1,
          0,
          1,
          1,
          1,
          0,
          1,
          0,
          0,
          0,
          0,
          1,
          0,
          1,
          1,
          0,
          1,
          1,
          1,
          0,
          1,
          1,
          1,
          1,
          1,
          1,
          0,
          1,
          0,
          0,
          0,
          0,
          0,
          1,
          1,
          0,
          2,
          1,
          2,
          2,
          2,
          2,
          2,
          2,
          1,
          2,
          2,
          1,
          2,
          2,
          2,
          2,
          1,
          0,
          0,
          1,
          2,
          0,
          0,
          1,
          1,
          2,
          1,
          2,
          0,
          1,
          0,
          0,
          1,
          0,
          1,
          0,
          1,
          1,
          0,
          0,
          0,
          0,
          0,
          0,
          0,
          1
         ],
         "xaxis": "x",
         "y": [
          0,
          0,
          0,
          0,
          0,
          0,
          1,
          0,
          1,
          0,
          0,
          1,
          2,
          1,
          0,
          1,
          0,
          1,
          2,
          0,
          0,
          0,
          2,
          0,
          1,
          0,
          0,
          2,
          0,
          1,
          0,
          1,
          1,
          0,
          0,
          0,
          1,
          2,
          0,
          1,
          0,
          0,
          0,
          0,
          0,
          0,
          0,
          0,
          0,
          0,
          0,
          0,
          0,
          0,
          0,
          0,
          0,
          0,
          0,
          2,
          1,
          0,
          1,
          0,
          0,
          0,
          0,
          0,
          0,
          0,
          0,
          0,
          0,
          0,
          0,
          0,
          2,
          0,
          1,
          0,
          0,
          0,
          0,
          0,
          0,
          0,
          0,
          0,
          0,
          1,
          0,
          0,
          1,
          0,
          1,
          0,
          0,
          0,
          0,
          1,
          0,
          2,
          0,
          0,
          0,
          2,
          0,
          1,
          2,
          0,
          1,
          2,
          0,
          1,
          1,
          0,
          0,
          1,
          0,
          0,
          0,
          0,
          0,
          0,
          0,
          0,
          2,
          0,
          1,
          0,
          0,
          0,
          0,
          0,
          0,
          0,
          0,
          1,
          2,
          0,
          0,
          0,
          0,
          0,
          0,
          0,
          0
         ],
         "yaxis": "y"
        }
       ],
       "layout": {
        "coloraxis": {
         "colorbar": {
          "title": {
           "text": "cluster_global"
          }
         },
         "colorscale": [
          [
           0,
           "#0d0887"
          ],
          [
           0.1111111111111111,
           "#46039f"
          ],
          [
           0.2222222222222222,
           "#7201a8"
          ],
          [
           0.3333333333333333,
           "#9c179e"
          ],
          [
           0.4444444444444444,
           "#bd3786"
          ],
          [
           0.5555555555555556,
           "#d8576b"
          ],
          [
           0.6666666666666666,
           "#ed7953"
          ],
          [
           0.7777777777777778,
           "#fb9f3a"
          ],
          [
           0.8888888888888888,
           "#fdca26"
          ],
          [
           1,
           "#f0f921"
          ]
         ]
        },
        "legend": {
         "tracegroupgap": 0
        },
        "template": {
         "data": {
          "bar": [
           {
            "error_x": {
             "color": "#2a3f5f"
            },
            "error_y": {
             "color": "#2a3f5f"
            },
            "marker": {
             "line": {
              "color": "#E5ECF6",
              "width": 0.5
             },
             "pattern": {
              "fillmode": "overlay",
              "size": 10,
              "solidity": 0.2
             }
            },
            "type": "bar"
           }
          ],
          "barpolar": [
           {
            "marker": {
             "line": {
              "color": "#E5ECF6",
              "width": 0.5
             },
             "pattern": {
              "fillmode": "overlay",
              "size": 10,
              "solidity": 0.2
             }
            },
            "type": "barpolar"
           }
          ],
          "carpet": [
           {
            "aaxis": {
             "endlinecolor": "#2a3f5f",
             "gridcolor": "white",
             "linecolor": "white",
             "minorgridcolor": "white",
             "startlinecolor": "#2a3f5f"
            },
            "baxis": {
             "endlinecolor": "#2a3f5f",
             "gridcolor": "white",
             "linecolor": "white",
             "minorgridcolor": "white",
             "startlinecolor": "#2a3f5f"
            },
            "type": "carpet"
           }
          ],
          "choropleth": [
           {
            "colorbar": {
             "outlinewidth": 0,
             "ticks": ""
            },
            "type": "choropleth"
           }
          ],
          "contour": [
           {
            "colorbar": {
             "outlinewidth": 0,
             "ticks": ""
            },
            "colorscale": [
             [
              0,
              "#0d0887"
             ],
             [
              0.1111111111111111,
              "#46039f"
             ],
             [
              0.2222222222222222,
              "#7201a8"
             ],
             [
              0.3333333333333333,
              "#9c179e"
             ],
             [
              0.4444444444444444,
              "#bd3786"
             ],
             [
              0.5555555555555556,
              "#d8576b"
             ],
             [
              0.6666666666666666,
              "#ed7953"
             ],
             [
              0.7777777777777778,
              "#fb9f3a"
             ],
             [
              0.8888888888888888,
              "#fdca26"
             ],
             [
              1,
              "#f0f921"
             ]
            ],
            "type": "contour"
           }
          ],
          "contourcarpet": [
           {
            "colorbar": {
             "outlinewidth": 0,
             "ticks": ""
            },
            "type": "contourcarpet"
           }
          ],
          "heatmap": [
           {
            "colorbar": {
             "outlinewidth": 0,
             "ticks": ""
            },
            "colorscale": [
             [
              0,
              "#0d0887"
             ],
             [
              0.1111111111111111,
              "#46039f"
             ],
             [
              0.2222222222222222,
              "#7201a8"
             ],
             [
              0.3333333333333333,
              "#9c179e"
             ],
             [
              0.4444444444444444,
              "#bd3786"
             ],
             [
              0.5555555555555556,
              "#d8576b"
             ],
             [
              0.6666666666666666,
              "#ed7953"
             ],
             [
              0.7777777777777778,
              "#fb9f3a"
             ],
             [
              0.8888888888888888,
              "#fdca26"
             ],
             [
              1,
              "#f0f921"
             ]
            ],
            "type": "heatmap"
           }
          ],
          "heatmapgl": [
           {
            "colorbar": {
             "outlinewidth": 0,
             "ticks": ""
            },
            "colorscale": [
             [
              0,
              "#0d0887"
             ],
             [
              0.1111111111111111,
              "#46039f"
             ],
             [
              0.2222222222222222,
              "#7201a8"
             ],
             [
              0.3333333333333333,
              "#9c179e"
             ],
             [
              0.4444444444444444,
              "#bd3786"
             ],
             [
              0.5555555555555556,
              "#d8576b"
             ],
             [
              0.6666666666666666,
              "#ed7953"
             ],
             [
              0.7777777777777778,
              "#fb9f3a"
             ],
             [
              0.8888888888888888,
              "#fdca26"
             ],
             [
              1,
              "#f0f921"
             ]
            ],
            "type": "heatmapgl"
           }
          ],
          "histogram": [
           {
            "marker": {
             "pattern": {
              "fillmode": "overlay",
              "size": 10,
              "solidity": 0.2
             }
            },
            "type": "histogram"
           }
          ],
          "histogram2d": [
           {
            "colorbar": {
             "outlinewidth": 0,
             "ticks": ""
            },
            "colorscale": [
             [
              0,
              "#0d0887"
             ],
             [
              0.1111111111111111,
              "#46039f"
             ],
             [
              0.2222222222222222,
              "#7201a8"
             ],
             [
              0.3333333333333333,
              "#9c179e"
             ],
             [
              0.4444444444444444,
              "#bd3786"
             ],
             [
              0.5555555555555556,
              "#d8576b"
             ],
             [
              0.6666666666666666,
              "#ed7953"
             ],
             [
              0.7777777777777778,
              "#fb9f3a"
             ],
             [
              0.8888888888888888,
              "#fdca26"
             ],
             [
              1,
              "#f0f921"
             ]
            ],
            "type": "histogram2d"
           }
          ],
          "histogram2dcontour": [
           {
            "colorbar": {
             "outlinewidth": 0,
             "ticks": ""
            },
            "colorscale": [
             [
              0,
              "#0d0887"
             ],
             [
              0.1111111111111111,
              "#46039f"
             ],
             [
              0.2222222222222222,
              "#7201a8"
             ],
             [
              0.3333333333333333,
              "#9c179e"
             ],
             [
              0.4444444444444444,
              "#bd3786"
             ],
             [
              0.5555555555555556,
              "#d8576b"
             ],
             [
              0.6666666666666666,
              "#ed7953"
             ],
             [
              0.7777777777777778,
              "#fb9f3a"
             ],
             [
              0.8888888888888888,
              "#fdca26"
             ],
             [
              1,
              "#f0f921"
             ]
            ],
            "type": "histogram2dcontour"
           }
          ],
          "mesh3d": [
           {
            "colorbar": {
             "outlinewidth": 0,
             "ticks": ""
            },
            "type": "mesh3d"
           }
          ],
          "parcoords": [
           {
            "line": {
             "colorbar": {
              "outlinewidth": 0,
              "ticks": ""
             }
            },
            "type": "parcoords"
           }
          ],
          "pie": [
           {
            "automargin": true,
            "type": "pie"
           }
          ],
          "scatter": [
           {
            "fillpattern": {
             "fillmode": "overlay",
             "size": 10,
             "solidity": 0.2
            },
            "type": "scatter"
           }
          ],
          "scatter3d": [
           {
            "line": {
             "colorbar": {
              "outlinewidth": 0,
              "ticks": ""
             }
            },
            "marker": {
             "colorbar": {
              "outlinewidth": 0,
              "ticks": ""
             }
            },
            "type": "scatter3d"
           }
          ],
          "scattercarpet": [
           {
            "marker": {
             "colorbar": {
              "outlinewidth": 0,
              "ticks": ""
             }
            },
            "type": "scattercarpet"
           }
          ],
          "scattergeo": [
           {
            "marker": {
             "colorbar": {
              "outlinewidth": 0,
              "ticks": ""
             }
            },
            "type": "scattergeo"
           }
          ],
          "scattergl": [
           {
            "marker": {
             "colorbar": {
              "outlinewidth": 0,
              "ticks": ""
             }
            },
            "type": "scattergl"
           }
          ],
          "scattermapbox": [
           {
            "marker": {
             "colorbar": {
              "outlinewidth": 0,
              "ticks": ""
             }
            },
            "type": "scattermapbox"
           }
          ],
          "scatterpolar": [
           {
            "marker": {
             "colorbar": {
              "outlinewidth": 0,
              "ticks": ""
             }
            },
            "type": "scatterpolar"
           }
          ],
          "scatterpolargl": [
           {
            "marker": {
             "colorbar": {
              "outlinewidth": 0,
              "ticks": ""
             }
            },
            "type": "scatterpolargl"
           }
          ],
          "scatterternary": [
           {
            "marker": {
             "colorbar": {
              "outlinewidth": 0,
              "ticks": ""
             }
            },
            "type": "scatterternary"
           }
          ],
          "surface": [
           {
            "colorbar": {
             "outlinewidth": 0,
             "ticks": ""
            },
            "colorscale": [
             [
              0,
              "#0d0887"
             ],
             [
              0.1111111111111111,
              "#46039f"
             ],
             [
              0.2222222222222222,
              "#7201a8"
             ],
             [
              0.3333333333333333,
              "#9c179e"
             ],
             [
              0.4444444444444444,
              "#bd3786"
             ],
             [
              0.5555555555555556,
              "#d8576b"
             ],
             [
              0.6666666666666666,
              "#ed7953"
             ],
             [
              0.7777777777777778,
              "#fb9f3a"
             ],
             [
              0.8888888888888888,
              "#fdca26"
             ],
             [
              1,
              "#f0f921"
             ]
            ],
            "type": "surface"
           }
          ],
          "table": [
           {
            "cells": {
             "fill": {
              "color": "#EBF0F8"
             },
             "line": {
              "color": "white"
             }
            },
            "header": {
             "fill": {
              "color": "#C8D4E3"
             },
             "line": {
              "color": "white"
             }
            },
            "type": "table"
           }
          ]
         },
         "layout": {
          "annotationdefaults": {
           "arrowcolor": "#2a3f5f",
           "arrowhead": 0,
           "arrowwidth": 1
          },
          "autotypenumbers": "strict",
          "coloraxis": {
           "colorbar": {
            "outlinewidth": 0,
            "ticks": ""
           }
          },
          "colorscale": {
           "diverging": [
            [
             0,
             "#8e0152"
            ],
            [
             0.1,
             "#c51b7d"
            ],
            [
             0.2,
             "#de77ae"
            ],
            [
             0.3,
             "#f1b6da"
            ],
            [
             0.4,
             "#fde0ef"
            ],
            [
             0.5,
             "#f7f7f7"
            ],
            [
             0.6,
             "#e6f5d0"
            ],
            [
             0.7,
             "#b8e186"
            ],
            [
             0.8,
             "#7fbc41"
            ],
            [
             0.9,
             "#4d9221"
            ],
            [
             1,
             "#276419"
            ]
           ],
           "sequential": [
            [
             0,
             "#0d0887"
            ],
            [
             0.1111111111111111,
             "#46039f"
            ],
            [
             0.2222222222222222,
             "#7201a8"
            ],
            [
             0.3333333333333333,
             "#9c179e"
            ],
            [
             0.4444444444444444,
             "#bd3786"
            ],
            [
             0.5555555555555556,
             "#d8576b"
            ],
            [
             0.6666666666666666,
             "#ed7953"
            ],
            [
             0.7777777777777778,
             "#fb9f3a"
            ],
            [
             0.8888888888888888,
             "#fdca26"
            ],
            [
             1,
             "#f0f921"
            ]
           ],
           "sequentialminus": [
            [
             0,
             "#0d0887"
            ],
            [
             0.1111111111111111,
             "#46039f"
            ],
            [
             0.2222222222222222,
             "#7201a8"
            ],
            [
             0.3333333333333333,
             "#9c179e"
            ],
            [
             0.4444444444444444,
             "#bd3786"
            ],
            [
             0.5555555555555556,
             "#d8576b"
            ],
            [
             0.6666666666666666,
             "#ed7953"
            ],
            [
             0.7777777777777778,
             "#fb9f3a"
            ],
            [
             0.8888888888888888,
             "#fdca26"
            ],
            [
             1,
             "#f0f921"
            ]
           ]
          },
          "colorway": [
           "#636efa",
           "#EF553B",
           "#00cc96",
           "#ab63fa",
           "#FFA15A",
           "#19d3f3",
           "#FF6692",
           "#B6E880",
           "#FF97FF",
           "#FECB52"
          ],
          "font": {
           "color": "#2a3f5f"
          },
          "geo": {
           "bgcolor": "white",
           "lakecolor": "white",
           "landcolor": "#E5ECF6",
           "showlakes": true,
           "showland": true,
           "subunitcolor": "white"
          },
          "hoverlabel": {
           "align": "left"
          },
          "hovermode": "closest",
          "mapbox": {
           "style": "light"
          },
          "paper_bgcolor": "white",
          "plot_bgcolor": "#E5ECF6",
          "polar": {
           "angularaxis": {
            "gridcolor": "white",
            "linecolor": "white",
            "ticks": ""
           },
           "bgcolor": "#E5ECF6",
           "radialaxis": {
            "gridcolor": "white",
            "linecolor": "white",
            "ticks": ""
           }
          },
          "scene": {
           "xaxis": {
            "backgroundcolor": "#E5ECF6",
            "gridcolor": "white",
            "gridwidth": 2,
            "linecolor": "white",
            "showbackground": true,
            "ticks": "",
            "zerolinecolor": "white"
           },
           "yaxis": {
            "backgroundcolor": "#E5ECF6",
            "gridcolor": "white",
            "gridwidth": 2,
            "linecolor": "white",
            "showbackground": true,
            "ticks": "",
            "zerolinecolor": "white"
           },
           "zaxis": {
            "backgroundcolor": "#E5ECF6",
            "gridcolor": "white",
            "gridwidth": 2,
            "linecolor": "white",
            "showbackground": true,
            "ticks": "",
            "zerolinecolor": "white"
           }
          },
          "shapedefaults": {
           "line": {
            "color": "#2a3f5f"
           }
          },
          "ternary": {
           "aaxis": {
            "gridcolor": "white",
            "linecolor": "white",
            "ticks": ""
           },
           "baxis": {
            "gridcolor": "white",
            "linecolor": "white",
            "ticks": ""
           },
           "bgcolor": "#E5ECF6",
           "caxis": {
            "gridcolor": "white",
            "linecolor": "white",
            "ticks": ""
           }
          },
          "title": {
           "x": 0.05
          },
          "xaxis": {
           "automargin": true,
           "gridcolor": "white",
           "linecolor": "white",
           "ticks": "",
           "title": {
            "standoff": 15
           },
           "zerolinecolor": "white",
           "zerolinewidth": 2
          },
          "yaxis": {
           "automargin": true,
           "gridcolor": "white",
           "linecolor": "white",
           "ticks": "",
           "title": {
            "standoff": 15
           },
           "zerolinecolor": "white",
           "zerolinewidth": 2
          }
         }
        },
        "title": {
         "text": "Cluster Global com base nos clusters de Taxa e Número de Crimes"
        },
        "xaxis": {
         "anchor": "y",
         "domain": [
          0,
          1
         ],
         "title": {
          "text": "cluster_taxa_crime"
         }
        },
        "yaxis": {
         "anchor": "x",
         "domain": [
          0,
          1
         ],
         "title": {
          "text": "cluster_num_crimes"
         }
        }
       }
      }
     },
     "metadata": {},
     "output_type": "display_data"
    },
    {
     "name": "stdout",
     "output_type": "stream",
     "text": [
      "cluster_global\n",
      "0    64\n",
      "1    70\n",
      "2    13\n",
      "Name: count, dtype: int64\n"
     ]
    }
   ],
   "source": [
    "X_meta = df_cluster_crime[['cluster_taxa_crime', 'cluster_num_crimes']]\n",
    "\n",
    "kmeans_meta = KMeans(n_clusters=3, random_state=42, n_init='auto')\n",
    "df_cluster_crime['cluster_global'] = kmeans_meta.fit_predict(X_meta)\n",
    "\n",
    "fig = px.scatter(\n",
    "    df_cluster_crime,\n",
    "    x='cluster_taxa_crime',\n",
    "    y='cluster_num_crimes',\n",
    "    color='cluster_global',\n",
    "    hover_data=['local', 'codigo'],\n",
    "    title='Cluster Global com base nos clusters de Taxa e Número de Crimes'\n",
    ")\n",
    "fig.show()\n",
    "print(df_cluster_crime['cluster_global'].value_counts().sort_index())\n"
   ]
  }
 ],
 "metadata": {
  "kernelspec": {
   "display_name": "ade_venv",
   "language": "python",
   "name": "python3"
  },
  "language_info": {
   "codemirror_mode": {
    "name": "ipython",
    "version": 3
   },
   "file_extension": ".py",
   "mimetype": "text/x-python",
   "name": "python",
   "nbconvert_exporter": "python",
   "pygments_lexer": "ipython3",
   "version": "3.13.0"
  }
 },
 "nbformat": 4,
 "nbformat_minor": 5
}
