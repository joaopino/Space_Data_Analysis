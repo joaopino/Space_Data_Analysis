{
 "cells": [
  {
   "cell_type": "markdown",
   "id": "1ee3319b",
   "metadata": {},
   "source": [
    "# Análise deos Fatores da Proteção Social"
   ]
  },
  {
   "cell_type": "code",
   "execution_count": 1,
   "id": "bc35cb56",
   "metadata": {},
   "outputs": [],
   "source": [
    "\n",
    "import pandas as pd\n",
    "import os\n",
    "import pandas as pd\n",
    "from sklearn.preprocessing import StandardScaler\n",
    "from sklearn.cluster import KMeans\n",
    "import plotly.express as px\n",
    "import numpy as np\n",
    "import matplotlib.pyplot as plt\n",
    "from auxiliary.auxiliary_funcs import processar_ficheiro,carregar_municipios,aplicar_kmeans,elbow_rule, save_clustered_df_to_csv,filter_for_only_municipalities\n",
    "data_path ='../data/dados_municipio/proteção social (8)/'"
   ]
  },
  {
   "cell_type": "markdown",
   "id": "4cb5e0eb",
   "metadata": {},
   "source": [
    "#### Súbsidios de Desemprego"
   ]
  },
  {
   "cell_type": "code",
   "execution_count": 3,
   "id": "41c9317f",
   "metadata": {},
   "outputs": [
    {
     "ename": "FileNotFoundError",
     "evalue": "[Errno 2] No such file or directory: '../data/dados_municipio/proteção social (8)/Beneficiários de subsídios de desemprego.xls'",
     "output_type": "error",
     "traceback": [
      "\u001b[1;31m---------------------------------------------------------------------------\u001b[0m",
      "\u001b[1;31mFileNotFoundError\u001b[0m                         Traceback (most recent call last)",
      "Cell \u001b[1;32mIn[3], line 1\u001b[0m\n\u001b[1;32m----> 1\u001b[0m df_desemprego \u001b[38;5;241m=\u001b[39m \u001b[43mprocessar_ficheiro\u001b[49m\u001b[43m(\u001b[49m\u001b[43mdata_path\u001b[49m\u001b[38;5;241;43m+\u001b[39;49m\u001b[38;5;124;43m'\u001b[39;49m\u001b[38;5;124;43mBeneficiários de subsídios de desemprego.xls\u001b[39;49m\u001b[38;5;124;43m'\u001b[39;49m\u001b[43m,\u001b[49m\u001b[38;5;241;43m4\u001b[39;49m\u001b[43m)\u001b[49m\n\u001b[0;32m      2\u001b[0m df_desemprego \u001b[38;5;241m=\u001b[39m carregar_municipios(df_desemprego)\n\u001b[0;32m      3\u001b[0m df_desemprego \u001b[38;5;241m=\u001b[39m df_desemprego[[\u001b[38;5;124m'\u001b[39m\u001b[38;5;124mlocal\u001b[39m\u001b[38;5;124m'\u001b[39m,\u001b[38;5;124m'\u001b[39m\u001b[38;5;124mcodigo\u001b[39m\u001b[38;5;124m'\u001b[39m,\u001b[38;5;124m'\u001b[39m\u001b[38;5;124mHM\u001b[39m\u001b[38;5;124m'\u001b[39m]]\n",
      "File \u001b[1;32m~\\Desktop\\Curso\\ADE\\Projeto\\Space_Data_Analysis\\clustering_and_exploratory\\auxiliary\\auxiliary_funcs.py:28\u001b[0m, in \u001b[0;36mprocessar_ficheiro\u001b[1;34m(caminho_ficheiro, header, pasta_saida, padding_left, padding_right)\u001b[0m\n\u001b[0;32m     12\u001b[0m \u001b[38;5;250m\u001b[39m\u001b[38;5;124;03m'''\u001b[39;00m\n\u001b[0;32m     13\u001b[0m \u001b[38;5;124;03mProcesses an Excel file and returns a DataFrame.\u001b[39;00m\n\u001b[0;32m     14\u001b[0m \u001b[38;5;124;03m\u001b[39;00m\n\u001b[1;32m   (...)\u001b[0m\n\u001b[0;32m     23\u001b[0m \u001b[38;5;124;03mdf (DataFrame): Processed DataFrame.\u001b[39;00m\n\u001b[0;32m     24\u001b[0m \u001b[38;5;124;03m'''\u001b[39;00m\n\u001b[0;32m     26\u001b[0m nome_base \u001b[38;5;241m=\u001b[39m os\u001b[38;5;241m.\u001b[39mpath\u001b[38;5;241m.\u001b[39msplitext(os\u001b[38;5;241m.\u001b[39mpath\u001b[38;5;241m.\u001b[39mbasename(caminho_ficheiro))[\u001b[38;5;241m0\u001b[39m]\n\u001b[1;32m---> 28\u001b[0m df \u001b[38;5;241m=\u001b[39m \u001b[43mpd\u001b[49m\u001b[38;5;241;43m.\u001b[39;49m\u001b[43mread_excel\u001b[49m\u001b[43m(\u001b[49m\u001b[43mcaminho_ficheiro\u001b[49m\u001b[43m,\u001b[49m\u001b[43m \u001b[49m\u001b[43mheader\u001b[49m\u001b[38;5;241;43m=\u001b[39;49m\u001b[43mheader\u001b[49m\u001b[43m)\u001b[49m\n\u001b[0;32m     29\u001b[0m df\u001b[38;5;241m.\u001b[39mcolumns \u001b[38;5;241m=\u001b[39m df\u001b[38;5;241m.\u001b[39mcolumns\u001b[38;5;241m.\u001b[39mmap(\u001b[38;5;28mstr\u001b[39m)\u001b[38;5;241m.\u001b[39mstr\u001b[38;5;241m.\u001b[39mstrip()\n\u001b[0;32m     31\u001b[0m \u001b[38;5;66;03m# Remove left-padding columns\u001b[39;00m\n",
      "File \u001b[1;32m~\\AppData\\Local\\Programs\\Python\\Python313\\Lib\\site-packages\\pandas\\io\\excel\\_base.py:495\u001b[0m, in \u001b[0;36mread_excel\u001b[1;34m(io, sheet_name, header, names, index_col, usecols, dtype, engine, converters, true_values, false_values, skiprows, nrows, na_values, keep_default_na, na_filter, verbose, parse_dates, date_parser, date_format, thousands, decimal, comment, skipfooter, storage_options, dtype_backend, engine_kwargs)\u001b[0m\n\u001b[0;32m    493\u001b[0m \u001b[38;5;28;01mif\u001b[39;00m \u001b[38;5;129;01mnot\u001b[39;00m \u001b[38;5;28misinstance\u001b[39m(io, ExcelFile):\n\u001b[0;32m    494\u001b[0m     should_close \u001b[38;5;241m=\u001b[39m \u001b[38;5;28;01mTrue\u001b[39;00m\n\u001b[1;32m--> 495\u001b[0m     io \u001b[38;5;241m=\u001b[39m \u001b[43mExcelFile\u001b[49m\u001b[43m(\u001b[49m\n\u001b[0;32m    496\u001b[0m \u001b[43m        \u001b[49m\u001b[43mio\u001b[49m\u001b[43m,\u001b[49m\n\u001b[0;32m    497\u001b[0m \u001b[43m        \u001b[49m\u001b[43mstorage_options\u001b[49m\u001b[38;5;241;43m=\u001b[39;49m\u001b[43mstorage_options\u001b[49m\u001b[43m,\u001b[49m\n\u001b[0;32m    498\u001b[0m \u001b[43m        \u001b[49m\u001b[43mengine\u001b[49m\u001b[38;5;241;43m=\u001b[39;49m\u001b[43mengine\u001b[49m\u001b[43m,\u001b[49m\n\u001b[0;32m    499\u001b[0m \u001b[43m        \u001b[49m\u001b[43mengine_kwargs\u001b[49m\u001b[38;5;241;43m=\u001b[39;49m\u001b[43mengine_kwargs\u001b[49m\u001b[43m,\u001b[49m\n\u001b[0;32m    500\u001b[0m \u001b[43m    \u001b[49m\u001b[43m)\u001b[49m\n\u001b[0;32m    501\u001b[0m \u001b[38;5;28;01melif\u001b[39;00m engine \u001b[38;5;129;01mand\u001b[39;00m engine \u001b[38;5;241m!=\u001b[39m io\u001b[38;5;241m.\u001b[39mengine:\n\u001b[0;32m    502\u001b[0m     \u001b[38;5;28;01mraise\u001b[39;00m \u001b[38;5;167;01mValueError\u001b[39;00m(\n\u001b[0;32m    503\u001b[0m         \u001b[38;5;124m\"\u001b[39m\u001b[38;5;124mEngine should not be specified when passing \u001b[39m\u001b[38;5;124m\"\u001b[39m\n\u001b[0;32m    504\u001b[0m         \u001b[38;5;124m\"\u001b[39m\u001b[38;5;124man ExcelFile - ExcelFile already has the engine set\u001b[39m\u001b[38;5;124m\"\u001b[39m\n\u001b[0;32m    505\u001b[0m     )\n",
      "File \u001b[1;32m~\\AppData\\Local\\Programs\\Python\\Python313\\Lib\\site-packages\\pandas\\io\\excel\\_base.py:1550\u001b[0m, in \u001b[0;36mExcelFile.__init__\u001b[1;34m(self, path_or_buffer, engine, storage_options, engine_kwargs)\u001b[0m\n\u001b[0;32m   1548\u001b[0m     ext \u001b[38;5;241m=\u001b[39m \u001b[38;5;124m\"\u001b[39m\u001b[38;5;124mxls\u001b[39m\u001b[38;5;124m\"\u001b[39m\n\u001b[0;32m   1549\u001b[0m \u001b[38;5;28;01melse\u001b[39;00m:\n\u001b[1;32m-> 1550\u001b[0m     ext \u001b[38;5;241m=\u001b[39m \u001b[43minspect_excel_format\u001b[49m\u001b[43m(\u001b[49m\n\u001b[0;32m   1551\u001b[0m \u001b[43m        \u001b[49m\u001b[43mcontent_or_path\u001b[49m\u001b[38;5;241;43m=\u001b[39;49m\u001b[43mpath_or_buffer\u001b[49m\u001b[43m,\u001b[49m\u001b[43m \u001b[49m\u001b[43mstorage_options\u001b[49m\u001b[38;5;241;43m=\u001b[39;49m\u001b[43mstorage_options\u001b[49m\n\u001b[0;32m   1552\u001b[0m \u001b[43m    \u001b[49m\u001b[43m)\u001b[49m\n\u001b[0;32m   1553\u001b[0m     \u001b[38;5;28;01mif\u001b[39;00m ext \u001b[38;5;129;01mis\u001b[39;00m \u001b[38;5;28;01mNone\u001b[39;00m:\n\u001b[0;32m   1554\u001b[0m         \u001b[38;5;28;01mraise\u001b[39;00m \u001b[38;5;167;01mValueError\u001b[39;00m(\n\u001b[0;32m   1555\u001b[0m             \u001b[38;5;124m\"\u001b[39m\u001b[38;5;124mExcel file format cannot be determined, you must specify \u001b[39m\u001b[38;5;124m\"\u001b[39m\n\u001b[0;32m   1556\u001b[0m             \u001b[38;5;124m\"\u001b[39m\u001b[38;5;124man engine manually.\u001b[39m\u001b[38;5;124m\"\u001b[39m\n\u001b[0;32m   1557\u001b[0m         )\n",
      "File \u001b[1;32m~\\AppData\\Local\\Programs\\Python\\Python313\\Lib\\site-packages\\pandas\\io\\excel\\_base.py:1402\u001b[0m, in \u001b[0;36minspect_excel_format\u001b[1;34m(content_or_path, storage_options)\u001b[0m\n\u001b[0;32m   1399\u001b[0m \u001b[38;5;28;01mif\u001b[39;00m \u001b[38;5;28misinstance\u001b[39m(content_or_path, \u001b[38;5;28mbytes\u001b[39m):\n\u001b[0;32m   1400\u001b[0m     content_or_path \u001b[38;5;241m=\u001b[39m BytesIO(content_or_path)\n\u001b[1;32m-> 1402\u001b[0m \u001b[38;5;28;01mwith\u001b[39;00m \u001b[43mget_handle\u001b[49m\u001b[43m(\u001b[49m\n\u001b[0;32m   1403\u001b[0m \u001b[43m    \u001b[49m\u001b[43mcontent_or_path\u001b[49m\u001b[43m,\u001b[49m\u001b[43m \u001b[49m\u001b[38;5;124;43m\"\u001b[39;49m\u001b[38;5;124;43mrb\u001b[39;49m\u001b[38;5;124;43m\"\u001b[39;49m\u001b[43m,\u001b[49m\u001b[43m \u001b[49m\u001b[43mstorage_options\u001b[49m\u001b[38;5;241;43m=\u001b[39;49m\u001b[43mstorage_options\u001b[49m\u001b[43m,\u001b[49m\u001b[43m \u001b[49m\u001b[43mis_text\u001b[49m\u001b[38;5;241;43m=\u001b[39;49m\u001b[38;5;28;43;01mFalse\u001b[39;49;00m\n\u001b[0;32m   1404\u001b[0m \u001b[43m\u001b[49m\u001b[43m)\u001b[49m \u001b[38;5;28;01mas\u001b[39;00m handle:\n\u001b[0;32m   1405\u001b[0m     stream \u001b[38;5;241m=\u001b[39m handle\u001b[38;5;241m.\u001b[39mhandle\n\u001b[0;32m   1406\u001b[0m     stream\u001b[38;5;241m.\u001b[39mseek(\u001b[38;5;241m0\u001b[39m)\n",
      "File \u001b[1;32m~\\AppData\\Local\\Programs\\Python\\Python313\\Lib\\site-packages\\pandas\\io\\common.py:882\u001b[0m, in \u001b[0;36mget_handle\u001b[1;34m(path_or_buf, mode, encoding, compression, memory_map, is_text, errors, storage_options)\u001b[0m\n\u001b[0;32m    873\u001b[0m         handle \u001b[38;5;241m=\u001b[39m \u001b[38;5;28mopen\u001b[39m(\n\u001b[0;32m    874\u001b[0m             handle,\n\u001b[0;32m    875\u001b[0m             ioargs\u001b[38;5;241m.\u001b[39mmode,\n\u001b[1;32m   (...)\u001b[0m\n\u001b[0;32m    878\u001b[0m             newline\u001b[38;5;241m=\u001b[39m\u001b[38;5;124m\"\u001b[39m\u001b[38;5;124m\"\u001b[39m,\n\u001b[0;32m    879\u001b[0m         )\n\u001b[0;32m    880\u001b[0m     \u001b[38;5;28;01melse\u001b[39;00m:\n\u001b[0;32m    881\u001b[0m         \u001b[38;5;66;03m# Binary mode\u001b[39;00m\n\u001b[1;32m--> 882\u001b[0m         handle \u001b[38;5;241m=\u001b[39m \u001b[38;5;28;43mopen\u001b[39;49m\u001b[43m(\u001b[49m\u001b[43mhandle\u001b[49m\u001b[43m,\u001b[49m\u001b[43m \u001b[49m\u001b[43mioargs\u001b[49m\u001b[38;5;241;43m.\u001b[39;49m\u001b[43mmode\u001b[49m\u001b[43m)\u001b[49m\n\u001b[0;32m    883\u001b[0m     handles\u001b[38;5;241m.\u001b[39mappend(handle)\n\u001b[0;32m    885\u001b[0m \u001b[38;5;66;03m# Convert BytesIO or file objects passed with an encoding\u001b[39;00m\n",
      "\u001b[1;31mFileNotFoundError\u001b[0m: [Errno 2] No such file or directory: '../data/dados_municipio/proteção social (8)/Beneficiários de subsídios de desemprego.xls'"
     ]
    }
   ],
   "source": [
    "\n",
    "df_desemprego = processar_ficheiro(data_path+'Beneficiários de subsídios de desemprego.xls',4)\n",
    "df_desemprego = carregar_municipios(df_desemprego)\n",
    "df_desemprego = df_desemprego[['local','codigo','HM']]\n",
    "df_desemprego\n"
   ]
  },
  {
   "cell_type": "code",
   "execution_count": null,
   "id": "68bd4bbd",
   "metadata": {},
   "outputs": [],
   "source": [
    "clustered_df = aplicar_kmeans(df_desemprego, 3, nome_cluster='Num_Beneficiarios_sub_desemprego')\n",
    "save_clustered_df_to_csv(clustered_df, \"csv_files/\", \"6_Num_Beneficiarios_Desemprego.csv\")"
   ]
  },
  {
   "cell_type": "markdown",
   "id": "a7148065",
   "metadata": {},
   "source": [
    "#### Duração Subsídio de desemprego"
   ]
  },
  {
   "cell_type": "code",
   "execution_count": null,
   "id": "c6c7b08f",
   "metadata": {},
   "outputs": [],
   "source": [
    "df_duraçcao_sub_desemprego = processar_ficheiro(data_path+'Duração média do subsídio de desemprego.xls',4)\n",
    "df_duraçcao_sub_desemprego = carregar_municipios(df_duraçcao_sub_desemprego)\n",
    "df_duraçcao_sub_desemprego = df_duraçcao_sub_desemprego[['local','codigo','HM']]\n",
    "df_duraçcao_sub_desemprego\n"
   ]
  },
  {
   "cell_type": "code",
   "execution_count": null,
   "id": "c9292141",
   "metadata": {},
   "outputs": [],
   "source": [
    "clustered_df = aplicar_kmeans(df_duraçcao_sub_desemprego, 3, nome_cluster='Duracao_sub_desemprego')\n",
    "save_clustered_df_to_csv(clustered_df, \"csv_files/\", \"6_Duracao_Desemprego.csv\")"
   ]
  },
  {
   "cell_type": "markdown",
   "id": "3db3c7cf",
   "metadata": {},
   "source": [
    "### Rendimento Social"
   ]
  },
  {
   "cell_type": "code",
   "execution_count": null,
   "id": "f9371719",
   "metadata": {},
   "outputs": [],
   "source": [
    "df_benef_rsi_1000hab = processar_ficheiro(data_path+'Beneficiários do rendimento social de inserção - 1000 habitantes em idade ativa.xls',2)\n",
    "df_benef_rsi_1000hab = carregar_municipios(df_benef_rsi_1000hab)\n",
    "df_benef_rsi_1000hab\n"
   ]
  },
  {
   "cell_type": "code",
   "execution_count": null,
   "id": "d8606e27",
   "metadata": {},
   "outputs": [],
   "source": [
    "clustered_df = aplicar_kmeans(df_benef_rsi_1000hab, 3, nome_cluster='beneficiarios_rsi_por_100hab')\n",
    "save_clustered_df_to_csv(clustered_df, \"csv_files/\", \"6_Benificiários_RSI_por_cada_1000_hab.csv\")"
   ]
  },
  {
   "cell_type": "markdown",
   "id": "edd56d3d",
   "metadata": {},
   "source": [
    "#### Bnefeciários Abono Família "
   ]
  },
  {
   "cell_type": "code",
   "execution_count": null,
   "id": "4a887ec1",
   "metadata": {},
   "outputs": [],
   "source": [
    "df_ben_abono_fam = processar_ficheiro(data_path+'Beneficiários do abono de família para crianças e jovens da segurança social.xls',0)\n",
    "df_ben_abono_fam = carregar_municipios(df_ben_abono_fam)\n",
    "df_ben_abono_fam"
   ]
  },
  {
   "cell_type": "code",
   "execution_count": null,
   "id": "b0191c1f",
   "metadata": {},
   "outputs": [],
   "source": [
    "clustered_df = aplicar_kmeans(df_ben_abono_fam, 3, nome_cluster='beneficiarios_abono_familia')\n",
    "save_clustered_df_to_csv(clustered_df, \"csv_files/\", \"6_Benificiários_Abono_Familia.csv\")"
   ]
  },
  {
   "cell_type": "markdown",
   "id": "53129989",
   "metadata": {},
   "source": [
    "#### Valor Médio das Pensões"
   ]
  },
  {
   "cell_type": "code",
   "execution_count": null,
   "id": "003048a5",
   "metadata": {},
   "outputs": [],
   "source": [
    "df_pensoes = processar_ficheiro(data_path+'Valor médio das pensões da segurança social (€: N.º).xls',4)\n",
    "df_pensoes = carregar_municipios(df_pensoes)\n",
    "df_pensoes = df_pensoes[['local','codigo','Total']]\n",
    "df_pensoes"
   ]
  },
  {
   "cell_type": "code",
   "execution_count": null,
   "id": "14721d48",
   "metadata": {},
   "outputs": [],
   "source": [
    "\n",
    "clustered_df = aplicar_kmeans(df_pensoes, 3, nome_cluster='total_medio_pensoes')\n",
    "save_clustered_df_to_csv(clustered_df, \"csv_files/\", \"6_Valor_Médio_Pensões.csv\")"
   ]
  },
  {
   "cell_type": "markdown",
   "id": "b04fa541",
   "metadata": {},
   "source": [
    "#### RSI\n"
   ]
  },
  {
   "cell_type": "code",
   "execution_count": null,
   "id": "041e3664",
   "metadata": {},
   "outputs": [],
   "source": [
    "df_rsi = processar_ficheiro(data_path+'Valor processado do rendimento social de inserção.xls',2)\n",
    "df_rsi = carregar_municipios(df_rsi)\n",
    "df_rsi"
   ]
  },
  {
   "cell_type": "code",
   "execution_count": null,
   "id": "ddd6dd63",
   "metadata": {},
   "outputs": [],
   "source": [
    "clustered_df = aplicar_kmeans(df_rsi, 4, nome_cluster='valor_rsi')\n",
    "save_clustered_df_to_csv(clustered_df, \"csv_files/\", \"6_Valor_Processado_RSI.csv\")"
   ]
  }
 ],
 "metadata": {
  "kernelspec": {
   "display_name": "Python 3 (ipykernel)",
   "language": "python",
   "name": "python3"
  },
  "language_info": {
   "codemirror_mode": {
    "name": "ipython",
    "version": 3
   },
   "file_extension": ".py",
   "mimetype": "text/x-python",
   "name": "python",
   "nbconvert_exporter": "python",
   "pygments_lexer": "ipython3",
   "version": "3.13.2"
  }
 },
 "nbformat": 4,
 "nbformat_minor": 5
}
