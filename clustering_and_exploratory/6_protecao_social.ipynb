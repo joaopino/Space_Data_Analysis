{
 "cells": [
  {
   "cell_type": "markdown",
   "id": "1ee3319b",
   "metadata": {},
   "source": [
    "# Análise deos Fatores da Proteção Social"
   ]
  },
  {
   "cell_type": "code",
<<<<<<< HEAD
   "execution_count": 15,
=======
   "execution_count": 1,
>>>>>>> more_clusters
   "id": "bc35cb56",
   "metadata": {},
   "outputs": [],
   "source": [
    "\n",
    "import pandas as pd\n",
    "import os\n",
    "import pandas as pd\n",
    "from sklearn.preprocessing import StandardScaler\n",
    "from sklearn.cluster import KMeans\n",
    "import plotly.express as px\n",
    "import numpy as np\n",
    "import matplotlib.pyplot as plt\n",
    "from auxiliary.auxiliary_funcs import processar_ficheiro,carregar_municipios,aplicar_kmeans,elbow_rule, save_clustered_df_to_csv,filter_for_only_municipalities\n",
    "data_path ='../data/dados_municipio/proteção social (8)/'"
   ]
  },
  {
   "cell_type": "markdown",
   "id": "4cb5e0eb",
   "metadata": {},
   "source": [
    "#### Súbsidios de Desemprego"
   ]
  },
  {
   "cell_type": "code",
<<<<<<< HEAD
   "execution_count": 16,
=======
   "execution_count": 2,
>>>>>>> more_clusters
   "id": "41c9317f",
   "metadata": {},
   "outputs": [
    {
     "data": {
      "text/html": [
       "<div>\n",
       "<style scoped>\n",
       "    .dataframe tbody tr th:only-of-type {\n",
       "        vertical-align: middle;\n",
       "    }\n",
       "\n",
       "    .dataframe tbody tr th {\n",
       "        vertical-align: top;\n",
       "    }\n",
       "\n",
       "    .dataframe thead th {\n",
       "        text-align: right;\n",
       "    }\n",
       "</style>\n",
       "<table border=\"1\" class=\"dataframe\">\n",
       "  <thead>\n",
       "    <tr style=\"text-align: right;\">\n",
       "      <th></th>\n",
       "      <th>local</th>\n",
       "      <th>codigo</th>\n",
       "      <th>HM</th>\n",
       "    </tr>\n",
       "  </thead>\n",
       "  <tbody>\n",
       "    <tr>\n",
       "      <th>4</th>\n",
       "      <td>Arcos de Valdevez</td>\n",
       "      <td>1111601</td>\n",
       "      <td>376.0</td>\n",
       "    </tr>\n",
       "    <tr>\n",
       "      <th>5</th>\n",
       "      <td>Caminha</td>\n",
       "      <td>1111602</td>\n",
       "      <td>404.0</td>\n",
       "    </tr>\n",
       "    <tr>\n",
       "      <th>6</th>\n",
       "      <td>Melgaço</td>\n",
       "      <td>1111603</td>\n",
       "      <td>72.0</td>\n",
       "    </tr>\n",
       "    <tr>\n",
       "      <th>7</th>\n",
       "      <td>Monção</td>\n",
       "      <td>1111604</td>\n",
       "      <td>344.0</td>\n",
       "    </tr>\n",
       "    <tr>\n",
       "      <th>8</th>\n",
       "      <td>Paredes de Coura</td>\n",
       "      <td>1111605</td>\n",
       "      <td>296.0</td>\n",
       "    </tr>\n",
       "    <tr>\n",
       "      <th>...</th>\n",
       "      <td>...</td>\n",
       "      <td>...</td>\n",
       "      <td>...</td>\n",
       "    </tr>\n",
       "    <tr>\n",
       "      <th>339</th>\n",
       "      <td>Porto Santo</td>\n",
       "      <td>3003201</td>\n",
       "      <td>304.0</td>\n",
       "    </tr>\n",
       "    <tr>\n",
       "      <th>340</th>\n",
       "      <td>Ribeira Brava</td>\n",
       "      <td>3003107</td>\n",
       "      <td>335.0</td>\n",
       "    </tr>\n",
       "    <tr>\n",
       "      <th>341</th>\n",
       "      <td>Santa Cruz</td>\n",
       "      <td>3003108</td>\n",
       "      <td>1260.0</td>\n",
       "    </tr>\n",
       "    <tr>\n",
       "      <th>342</th>\n",
       "      <td>Santana</td>\n",
       "      <td>3003109</td>\n",
       "      <td>159.0</td>\n",
       "    </tr>\n",
       "    <tr>\n",
       "      <th>343</th>\n",
       "      <td>São Vicente</td>\n",
       "      <td>3003110</td>\n",
       "      <td>104.0</td>\n",
       "    </tr>\n",
       "  </tbody>\n",
       "</table>\n",
       "<p>308 rows × 3 columns</p>\n",
       "</div>"
      ],
      "text/plain": [
       "                 local   codigo      HM\n",
       "4    Arcos de Valdevez  1111601   376.0\n",
       "5              Caminha  1111602   404.0\n",
       "6              Melgaço  1111603    72.0\n",
       "7               Monção  1111604   344.0\n",
       "8     Paredes de Coura  1111605   296.0\n",
       "..                 ...      ...     ...\n",
       "339        Porto Santo  3003201   304.0\n",
       "340      Ribeira Brava  3003107   335.0\n",
       "341         Santa Cruz  3003108  1260.0\n",
       "342            Santana  3003109   159.0\n",
       "343        São Vicente  3003110   104.0\n",
       "\n",
       "[308 rows x 3 columns]"
      ]
     },
<<<<<<< HEAD
     "execution_count": 16,
=======
     "execution_count": 2,
>>>>>>> more_clusters
     "metadata": {},
     "output_type": "execute_result"
    }
   ],
   "source": [
    "\n",
    "df_desemprego = processar_ficheiro(data_path+'Beneficiários de subsídios de desemprego.xls',4)\n",
    "df_desemprego = carregar_municipios(df_desemprego)\n",
    "df_desemprego = df_desemprego[['local','codigo','HM']]\n",
    "#save_clustered_df_to_csv(df_desemprego.rename(columns={'HM': 'Desemprego'}), \"csv_bruto/\", \"6_Desemprego.csv\")\n",
    "df_desemprego\n"
   ]
  },
  {
   "cell_type": "code",
<<<<<<< HEAD
   "execution_count": 17,
=======
   "execution_count": 3,
>>>>>>> more_clusters
   "id": "68bd4bbd",
   "metadata": {},
   "outputs": [
    {
     "data": {
      "application/vnd.plotly.v1+json": {
       "config": {
        "plotlyServerURL": "https://plot.ly"
       },
       "data": [
        {
         "customdata": [
          [
           "Arcos de Valdevez",
           "1111601",
           376
          ],
          [
           "Caminha",
           "1111602",
           404
          ],
          [
           "Melgaço",
           "1111603",
           72
          ],
          [
           "Monção",
           "1111604",
           344
          ],
          [
           "Paredes de Coura",
           "1111605",
           296
          ],
          [
           "Ponte da Barca",
           "1111606",
           209
          ],
          [
           "Ponte de Lima",
           "1111607",
           917
          ],
          [
           "Valença",
           "1111608",
           459
          ],
          [
           "Viana do Castelo",
           "1111609",
           2623
          ],
          [
           "Vila Nova de Cerveira",
           "1111610",
           290
          ],
          [
           "Amares",
           "1120301",
           476
          ],
          [
           "Barcelos",
           "1120302",
           2726
          ],
          [
           "Braga",
           "1120303",
           5959
          ],
          [
           "Esposende",
           "1120306",
           817
          ],
          [
           "Terras de Bouro",
           "1120310",
           268
          ],
          [
           "Vila Verde",
           "1120313",
           1023
          ],
          [
           "Cabeceiras de Basto",
           "1190304",
           396
          ],
          [
           "Fafe",
           "1190307",
           1872
          ],
          [
           "Guimarães",
           "1190308",
           6253
          ],
          [
           "Mondim de Basto",
           "1191705",
           110
          ],
          [
           "Póvoa de Lanhoso",
           "1190309",
           573
          ],
          [
           "Vieira do Minho",
           "1190311",
           356
          ],
          [
           "Vila Nova de Famalicão",
           "1190312",
           4484
          ],
          [
           "Vizela",
           "1190314",
           970
          ],
          [
           "Arouca",
           "11A0104",
           467
          ],
          [
           "Espinho",
           "11A0107",
           973
          ],
          [
           "Gondomar",
           "11A1304",
           6083
          ],
          [
           "Maia",
           "11A1306",
           4878
          ],
          [
           "Matosinhos",
           "11A1308",
           6450
          ],
          [
           "Oliveira de Azeméis",
           "11A0113",
           2411
          ],
          [
           "Paredes",
           "11A1310",
           2852
          ],
          [
           "Porto",
           "11A1312",
           8439
          ],
          [
           "Póvoa de Varzim",
           "11A1313",
           2356
          ],
          [
           "Santa Maria da Feira",
           "11A0109",
           4775
          ],
          [
           "Santo Tirso",
           "11A1314",
           2590
          ],
          [
           "São João da Madeira",
           "11A0116",
           1086
          ],
          [
           "Trofa",
           "11A1318",
           1541
          ],
          [
           "Vale de Cambra",
           "11A0119",
           580
          ],
          [
           "Valongo",
           "11A1315",
           3572
          ],
          [
           "Vila do Conde",
           "11A1316",
           3224
          ],
          [
           "Vila Nova de Gaia",
           "11A1317",
           11501
          ],
          [
           "Boticas",
           "11B1702",
           55
          ],
          [
           "Chaves",
           "11B1703",
           820
          ],
          [
           "Montalegre",
           "11B1706",
           125
          ],
          [
           "Ribeira de Pena",
           "11B1709",
           156
          ],
          [
           "Valpaços",
           "11B1712",
           205
          ],
          [
           "Vila Pouca de Aguiar",
           "11B1713",
           278
          ],
          [
           "Amarante",
           "11C1301",
           1643
          ],
          [
           "Baião",
           "11C1302",
           433
          ],
          [
           "Castelo de Paiva",
           "11C0106",
           402
          ],
          [
           "Celorico de Basto",
           "11C0305",
           386
          ],
          [
           "Cinfães",
           "11C1804",
           566
          ],
          [
           "Felgueiras",
           "11C1303",
           2220
          ],
          [
           "Lousada",
           "11C1305",
           1565
          ],
          [
           "Marco de Canaveses",
           "11C1307",
           1609
          ],
          [
           "Paços de Ferreira",
           "11C1309",
           1739
          ],
          [
           "Penafiel",
           "11C1311",
           2101
          ],
          [
           "Resende",
           "11C1813",
           219
          ],
          [
           "Alijó",
           "11D1701",
           215
          ],
          [
           "Armamar",
           "11D1801",
           144
          ],
          [
           "Carrazeda de Ansiães",
           "11D0403",
           99
          ],
          [
           "Freixo de Espada à Cinta",
           "11D0404",
           44
          ],
          [
           "Lamego",
           "11D1805",
           839
          ],
          [
           "Mesão Frio",
           "11D1704",
           69
          ],
          [
           "Moimenta da Beira",
           "11D1807",
           225
          ],
          [
           "Murça",
           "11D1707",
           106
          ],
          [
           "Penedono",
           "11D1812",
           37
          ],
          [
           "Peso da Régua",
           "11D1708",
           378
          ],
          [
           "Sabrosa",
           "11D1710",
           128
          ],
          [
           "Santa Marta de Penaguião",
           "11D1711",
           165
          ],
          [
           "São João da Pesqueira",
           "11D1815",
           100
          ],
          [
           "Sernancelhe",
           "11D1818",
           71
          ],
          [
           "Tabuaço",
           "11D1819",
           112
          ],
          [
           "Tarouca",
           "11D1820",
           220
          ],
          [
           "Torre de Moncorvo",
           "11D0409",
           156
          ],
          [
           "Vila Nova de Foz Côa",
           "11D0914",
           122
          ],
          [
           "Vila Real",
           "11D1714",
           1334
          ],
          [
           "Alfândega da Fé",
           "11E0401",
           102
          ],
          [
           "Bragança",
           "11E0402",
           710
          ],
          [
           "Macedo de Cavaleiros",
           "11E0405",
           239
          ],
          [
           "Miranda do Douro",
           "11E0406",
           73
          ],
          [
           "Mirandela",
           "11E0407",
           517
          ],
          [
           "Mogadouro",
           "11E0408",
           122
          ],
          [
           "Vila Flor",
           "11E0410",
           124
          ],
          [
           "Vimioso",
           "11E0411",
           45
          ],
          [
           "Vinhais",
           "11E0412",
           107
          ],
          [
           "Alcobaça",
           "16B1001",
           1383
          ],
          [
           "Alenquer",
           "16B1101",
           1863
          ],
          [
           "Arruda dos Vinhos",
           "16B1102",
           393
          ],
          [
           "Bombarral",
           "16B1005",
           434
          ],
          [
           "Cadaval",
           "16B1104",
           487
          ],
          [
           "Caldas da Rainha",
           "16B1006",
           1594
          ],
          [
           "Lourinhã",
           "16B1108",
           752
          ],
          [
           "Nazaré",
           "16B1011",
           552
          ],
          [
           "Óbidos",
           "16B1012",
           312
          ],
          [
           "Peniche",
           "16B1014",
           1330
          ],
          [
           "Sobral de Monte Agraço",
           "16B1112",
           261
          ],
          [
           "Torres Vedras",
           "16B1113",
           2121
          ],
          [
           "Águeda",
           "16D0101",
           1086
          ],
          [
           "Albergaria-a-Velha",
           "16D0102",
           583
          ],
          [
           "Anadia",
           "16D0103",
           652
          ],
          [
           "Aveiro",
           "16D0105",
           2532
          ],
          [
           "Estarreja",
           "16D0108",
           774
          ],
          [
           "Ílhavo",
           "16D0110",
           1239
          ],
          [
           "Murtosa",
           "16D0112",
           301
          ],
          [
           "Oliveira do Bairro",
           "16D0114",
           614
          ],
          [
           "Ovar",
           "16D0115",
           1998
          ],
          [
           "Sever do Vouga",
           "16D0117",
           178
          ],
          [
           "Vagos",
           "16D0118",
           533
          ],
          [
           "Arganil",
           "16E0601",
           212
          ],
          [
           "Cantanhede",
           "16E0602",
           867
          ],
          [
           "Coimbra",
           "16E0603",
           3600
          ],
          [
           "Condeixa-a-Nova",
           "16E0604",
           418
          ],
          [
           "Figueira da Foz",
           "16E0605",
           1944
          ],
          [
           "Góis",
           "16E0606",
           60
          ],
          [
           "Lousã",
           "16E0607",
           404
          ],
          [
           "Mealhada",
           "16E0111",
           540
          ],
          [
           "Mira",
           "16E0608",
           293
          ],
          [
           "Miranda do Corvo",
           "16E0609",
           248
          ],
          [
           "Montemor-o-Velho",
           "16E0610",
           658
          ],
          [
           "Mortágua",
           "16E1808",
           161
          ],
          [
           "Oliveira do Hospital",
           "16E0611",
           521
          ],
          [
           "Pampilhosa da Serra",
           "16E0612",
           43
          ],
          [
           "Penacova",
           "16E0613",
           229
          ],
          [
           "Penela",
           "16E0614",
           79
          ],
          [
           "Soure",
           "16E0615",
           338
          ],
          [
           "Tábua",
           "16E0616",
           237
          ],
          [
           "Vila Nova de Poiares",
           "16E0617",
           156
          ],
          [
           "Alvaiázere",
           "16F1002",
           76
          ],
          [
           "Ansião",
           "16F1003",
           220
          ],
          [
           "Batalha",
           "16F1004",
           385
          ],
          [
           "Castanheira de Pêra",
           "16F1007",
           49
          ],
          [
           "Figueiró dos Vinhos",
           "16F1008",
           80
          ],
          [
           "Leiria",
           "16F1009",
           3534
          ],
          [
           "Marinha Grande",
           "16F1010",
           1796
          ],
          [
           "Pedrógão Grande",
           "16F1013",
           49
          ],
          [
           "Pombal",
           "16F1015",
           914
          ],
          [
           "Porto de Mós",
           "16F1016",
           547
          ],
          [
           "Aguiar da Beira",
           "16G0901",
           87
          ],
          [
           "Carregal do Sal",
           "16G1802",
           249
          ],
          [
           "Castro Daire",
           "16G1803",
           387
          ],
          [
           "Mangualde",
           "16G1806",
           601
          ],
          [
           "Nelas",
           "16G1809",
           418
          ],
          [
           "Oliveira de Frades",
           "16G1810",
           305
          ],
          [
           "Penalva do Castelo",
           "16G1811",
           204
          ],
          [
           "Santa Comba Dão",
           "16G1814",
           294
          ],
          [
           "São Pedro do Sul",
           "16G1816",
           501
          ],
          [
           "Sátão",
           "16G1817",
           325
          ],
          [
           "Tondela",
           "16G1821",
           657
          ],
          [
           "Vila Nova de Paiva",
           "16G1822",
           142
          ],
          [
           "Viseu",
           "16G1823",
           2871
          ],
          [
           "Vouzela",
           "16G1824",
           321
          ],
          [
           "Castelo Branco",
           "16H0502",
           1641
          ],
          [
           "Idanha-a-Nova",
           "16H0505",
           177
          ],
          [
           "Oleiros",
           "16H0506",
           41
          ],
          [
           "Penamacor",
           "16H0507",
           74
          ],
          [
           "Proença-a-Nova",
           "16H0508",
           119
          ],
          [
           "Vila Velha de Ródão",
           "16H0511",
           73
          ],
          [
           "Abrantes",
           "16I1401",
           1308
          ],
          [
           "Alcanena",
           "16I1402",
           346
          ],
          [
           "Constância",
           "16I1408",
           97
          ],
          [
           "Entroncamento",
           "16I1410",
           555
          ],
          [
           "Ferreira do Zêzere",
           "16I1411",
           99
          ],
          [
           "Mação",
           "16I1413",
           111
          ],
          [
           "Ourém",
           "16I1421",
           925
          ],
          [
           "Sardoal",
           "16I1417",
           122
          ],
          [
           "Sertã",
           "16I0509",
           239
          ],
          [
           "Tomar",
           "16I1418",
           744
          ],
          [
           "Torres Novas",
           "16I1419",
           828
          ],
          [
           "Vila de Rei",
           "16I0510",
           65
          ],
          [
           "Vila Nova da Barquinha",
           "16I1420",
           140
          ],
          [
           "Almeida",
           "16J0902",
           95
          ],
          [
           "Belmonte",
           "16J0501",
           184
          ],
          [
           "Celorico da Beira",
           "16J0903",
           167
          ],
          [
           "Covilhã",
           "16J0503",
           1202
          ],
          [
           "Figueira de Castelo Rodrigo",
           "16J0904",
           103
          ],
          [
           "Fornos de Algodres",
           "16J0905",
           84
          ],
          [
           "Fundão",
           "16J0504",
           607
          ],
          [
           "Gouveia",
           "16J0906",
           236
          ],
          [
           "Guarda",
           "16J0907",
           1003
          ],
          [
           "Manteigas",
           "16J0908",
           64
          ],
          [
           "Mêda",
           "16J0909",
           49
          ],
          [
           "Pinhel",
           "16J0910",
           125
          ],
          [
           "Sabugal",
           "16J0911",
           146
          ],
          [
           "Seia",
           "16J0912",
           427
          ],
          [
           "Trancoso",
           "16J0913",
           113
          ],
          [
           "Alcochete",
           "1701502",
           620
          ],
          [
           "Almada",
           "1701503",
           5635
          ],
          [
           "Amadora",
           "1701115",
           5431
          ],
          [
           "Barreiro",
           "1701504",
           2967
          ],
          [
           "Cascais",
           "1701105",
           5990
          ],
          [
           "Lisboa",
           "1701106",
           15300
          ],
          [
           "Loures",
           "1701107",
           6591
          ],
          [
           "Mafra",
           "1701109",
           2030
          ],
          [
           "Moita",
           "1701506",
           2871
          ],
          [
           "Montijo",
           "1701507",
           2186
          ],
          [
           "Odivelas",
           "1701116",
           4622
          ],
          [
           "Oeiras",
           "1701110",
           4520
          ],
          [
           "Palmela",
           "1701508",
           2535
          ],
          [
           "Seixal",
           "1701510",
           5277
          ],
          [
           "Sesimbra",
           "1701511",
           1836
          ],
          [
           "Setúbal",
           "1701512",
           5217
          ],
          [
           "Sintra",
           "1701111",
           12902
          ],
          [
           "Vila Franca de Xira",
           "1701114",
           5016
          ],
          [
           "Alcácer do Sal",
           "1811501",
           310
          ],
          [
           "Grândola",
           "1811505",
           271
          ],
          [
           "Odemira",
           "1810211",
           2961
          ],
          [
           "Santiago do Cacém",
           "1811509",
           964
          ],
          [
           "Sines",
           "1811513",
           760
          ],
          [
           "Aljustrel",
           "1840201",
           198
          ],
          [
           "Almodôvar",
           "1840202",
           190
          ],
          [
           "Alvito",
           "1840203",
           59
          ],
          [
           "Barrancos",
           "1840204",
           67
          ],
          [
           "Beja",
           "1840205",
           812
          ],
          [
           "Castro Verde",
           "1840206",
           176
          ],
          [
           "Cuba",
           "1840207",
           103
          ],
          [
           "Ferreira do Alentejo",
           "1840208",
           268
          ],
          [
           "Mértola",
           "1840209",
           179
          ],
          [
           "Moura",
           "1840210",
           438
          ],
          [
           "Ourique",
           "1840212",
           156
          ],
          [
           "Serpa",
           "1840213",
           508
          ],
          [
           "Vidigueira",
           "1840214",
           199
          ],
          [
           "Almeirim",
           "1851403",
           932
          ],
          [
           "Alpiarça",
           "1851404",
           251
          ],
          [
           "Azambuja",
           "1851103",
           818
          ],
          [
           "Benavente",
           "1851405",
           1216
          ],
          [
           "Cartaxo",
           "1851406",
           825
          ],
          [
           "Chamusca",
           "1851407",
           262
          ],
          [
           "Coruche",
           "1851409",
           616
          ],
          [
           "Golegã",
           "1851412",
           136
          ],
          [
           "Rio Maior",
           "1851414",
           597
          ],
          [
           "Salvaterra de Magos",
           "1851415",
           930
          ],
          [
           "Santarém",
           "1851416",
           1542
          ],
          [
           "Alter do Chão",
           "1861201",
           108
          ],
          [
           "Arronches",
           "1861202",
           52
          ],
          [
           "Avis",
           "1861203",
           135
          ],
          [
           "Campo Maior",
           "1861204",
           313
          ],
          [
           "Castelo de Vide",
           "1861205",
           61
          ],
          [
           "Crato",
           "1861206",
           64
          ],
          [
           "Elvas",
           "1861207",
           779
          ],
          [
           "Fronteira",
           "1861208",
           96
          ],
          [
           "Gavião",
           "1861209",
           82
          ],
          [
           "Marvão",
           "1861210",
           56
          ],
          [
           "Monforte",
           "1861211",
           80
          ],
          [
           "Nisa",
           "1861212",
           141
          ],
          [
           "Ponte de Sor",
           "1861213",
           654
          ],
          [
           "Portalegre",
           "1861214",
           688
          ],
          [
           "Sousel",
           "1861215",
           190
          ],
          [
           "Alandroal",
           "1870701",
           135
          ],
          [
           "Arraiolos",
           "1870702",
           155
          ],
          [
           "Borba",
           "1870703",
           227
          ],
          [
           "Estremoz",
           "1870704",
           287
          ],
          [
           "Évora",
           "1870705",
           1403
          ],
          [
           "Montemor-o-Novo",
           "1870706",
           322
          ],
          [
           "Mora",
           "1870707",
           82
          ],
          [
           "Mourão",
           "1870708",
           95
          ],
          [
           "Portel",
           "1870709",
           224
          ],
          [
           "Redondo",
           "1870710",
           242
          ],
          [
           "Reguengos de Monsaraz",
           "1870711",
           325
          ],
          [
           "Vendas Novas",
           "1870712",
           295
          ],
          [
           "Viana do Alentejo",
           "1870713",
           122
          ],
          [
           "Vila Viçosa",
           "1870714",
           195
          ],
          [
           "Albufeira",
           "1500801",
           5547
          ],
          [
           "Alcoutim",
           "1500802",
           37
          ],
          [
           "Aljezur",
           "1500803",
           186
          ],
          [
           "Castro Marim",
           "1500804",
           253
          ],
          [
           "Faro",
           "1500805",
           2357
          ],
          [
           "Lagoa",
           "1500806",
           1343
          ],
          [
           "Lagos",
           "1500807",
           1592
          ],
          [
           "Loulé",
           "1500808",
           3673
          ],
          [
           "Monchique",
           "1500809",
           116
          ],
          [
           "Olhão",
           "1500810",
           1513
          ],
          [
           "Portimão",
           "1500811",
           4021
          ],
          [
           "São Brás de Alportel",
           "1500812",
           254
          ],
          [
           "Silves",
           "1500813",
           2268
          ],
          [
           "Tavira",
           "1500814",
           923
          ],
          [
           "Vila do Bispo",
           "1500815",
           277
          ],
          [
           "Vila Real de Santo António",
           "1500816",
           1014
          ],
          [
           "Angra do Heroísmo",
           "2004301",
           1029
          ],
          [
           "Calheta",
           "2004501",
           79
          ],
          [
           "Corvo",
           "2004901",
           10
          ],
          [
           "Horta",
           "2004701",
           432
          ],
          [
           "Lagoa",
           "2004201",
           565
          ],
          [
           "Lajes das Flores",
           "2004801",
           91
          ],
          [
           "Lajes do Pico",
           "2004601",
           201
          ],
          [
           "Madalena",
           "2004602",
           203
          ],
          [
           "Nordeste",
           "2004202",
           380
          ],
          [
           "Ponta Delgada",
           "2004203",
           1921
          ],
          [
           "Povoação",
           "2004204",
           508
          ],
          [
           "Ribeira Grande",
           "2004205",
           1303
          ],
          [
           "Santa Cruz da Graciosa",
           "2004401",
           176
          ],
          [
           "Santa Cruz das Flores",
           "2004802",
           97
          ],
          [
           "São Roque do Pico",
           "2004603",
           115
          ],
          [
           "Velas",
           "2004502",
           181
          ],
          [
           "Vila da Praia da Vitória",
           "2004302",
           498
          ],
          [
           "Vila do Porto",
           "2004101",
           267
          ],
          [
           "Vila Franca do Campo",
           "2004206",
           486
          ],
          [
           "Calheta",
           "3003101",
           222
          ],
          [
           "Câmara de Lobos",
           "3003102",
           877
          ],
          [
           "Funchal",
           "3003103",
           3154
          ],
          [
           "Machico",
           "3003104",
           810
          ],
          [
           "Ponta do Sol",
           "3003105",
           201
          ],
          [
           "Porto Moniz",
           "3003106",
           69
          ],
          [
           "Porto Santo",
           "3003201",
           304
          ],
          [
           "Ribeira Brava",
           "3003107",
           335
          ],
          [
           "Santa Cruz",
           "3003108",
           1260
          ],
          [
           "Santana",
           "3003109",
           159
          ],
          [
           "São Vicente",
           "3003110",
           104
          ]
         ],
         "hovertemplate": "valor=%{x}<br>y=%{y}<br>local=%{customdata[0]}<br>codigo=%{customdata[1]}<br>HM=%{customdata[2]}<br>Num_Beneficiarios_sub_desemprego=%{marker.color}<extra></extra>",
         "legendgroup": "",
         "marker": {
          "color": {
           "bdata": "AAAAAAAAAAABAAABAQAAAAAAAQAAAAEAAAABAQEBAQIBAQEAAAABAQIAAAAAAAAAAAAAAAAAAAAAAAAAAAAAAAAAAAAAAAAAAAAAAAAAAAAAAAAAAAAAAAAAAAAAAAAAAAAAAAABAAAAAAAAAAAAAQAAAAAAAAAAAAAAAAAAAAAAAAAAAAEAAAAAAAAAAAAAAAAAAAAAAQAAAAAAAAAAAAAAAAAAAAAAAAAAAAAAAAAAAAAAAAAAAAAAAAEBAQECAQABAAEBAQEAAQIBAAABAAAAAAAAAAAAAAAAAAAAAAAAAAAAAAAAAAAAAAAAAAAAAAAAAAAAAAAAAAAAAAAAAAAAAAAAAAEAAAABAAABAAABAAAAAAAAAAAAAAAAAAAAAAAAAAAAAAAAAAABAAAAAAAAAAA=",
           "dtype": "i1"
          },
          "coloraxis": "coloraxis",
          "size": 10,
          "symbol": "circle"
         },
         "mode": "markers",
         "name": "",
         "orientation": "v",
         "showlegend": false,
         "type": "scatter",
         "x": {
          "bdata": "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",
          "dtype": "f8"
         },
         "xaxis": "x",
         "y": {
          "bdata": "AAAAAAAAAAAAAAAAAAAAAAAAAAAAAAAAAAAAAAAAAAAAAAAAAAAAAAAAAAAAAAAAAAAAAAAAAAAAAAAAAAAAAAAAAAAAAAAAAAAAAAAAAAAAAAAAAAAAAAAAAAAAAAAAAAAAAAAAAAAAAAAAAAAAAAAAAAAAAAAAAAAAAAAAAAAAAAAAAAAAAAAAAAAAAAAAAAAAAAAAAAAAAAAAAAAAAAAAAAAAAAAAAAAAAAAAAAAAAAAAAAAAAAAAAAAAAAAAAAAAAAAAAAAAAAAAAAAAAAAAAAAAAAAAAAAAAAAAAAAAAAAAAAAAAAAAAAAAAAAAAAAAAAAAAAAAAAAAAAAAAAAAAAAAAAAAAAAAAAAAAAAAAAAAAAAAAAAAAAAAAAAAAAAAAAAAAAAAAAAAAAAAAAAAAAA=",
          "dtype": "i1"
         },
         "yaxis": "y"
        }
       ],
       "layout": {
        "coloraxis": {
         "colorbar": {
          "title": {
           "text": "Num_Beneficiarios_sub_desemprego"
          }
         },
         "colorscale": [
          [
           0,
           "#440154"
          ],
          [
           0.1111111111111111,
           "#482878"
          ],
          [
           0.2222222222222222,
           "#3e4989"
          ],
          [
           0.3333333333333333,
           "#31688e"
          ],
          [
           0.4444444444444444,
           "#26828e"
          ],
          [
           0.5555555555555556,
           "#1f9e89"
          ],
          [
           0.6666666666666666,
           "#35b779"
          ],
          [
           0.7777777777777778,
           "#6ece58"
          ],
          [
           0.8888888888888888,
           "#b5de2b"
          ],
          [
           1,
           "#fde725"
          ]
         ]
        },
        "height": 300,
        "legend": {
         "tracegroupgap": 0
        },
        "margin": {
         "t": 60
        },
        "template": {
         "data": {
          "bar": [
           {
            "error_x": {
             "color": "#2a3f5f"
            },
            "error_y": {
             "color": "#2a3f5f"
            },
            "marker": {
             "line": {
              "color": "#E5ECF6",
              "width": 0.5
             },
             "pattern": {
              "fillmode": "overlay",
              "size": 10,
              "solidity": 0.2
             }
            },
            "type": "bar"
           }
          ],
          "barpolar": [
           {
            "marker": {
             "line": {
              "color": "#E5ECF6",
              "width": 0.5
             },
             "pattern": {
              "fillmode": "overlay",
              "size": 10,
              "solidity": 0.2
             }
            },
            "type": "barpolar"
           }
          ],
          "carpet": [
           {
            "aaxis": {
             "endlinecolor": "#2a3f5f",
             "gridcolor": "white",
             "linecolor": "white",
             "minorgridcolor": "white",
             "startlinecolor": "#2a3f5f"
            },
            "baxis": {
             "endlinecolor": "#2a3f5f",
             "gridcolor": "white",
             "linecolor": "white",
             "minorgridcolor": "white",
             "startlinecolor": "#2a3f5f"
            },
            "type": "carpet"
           }
          ],
          "choropleth": [
           {
            "colorbar": {
             "outlinewidth": 0,
             "ticks": ""
            },
            "type": "choropleth"
           }
          ],
          "contour": [
           {
            "colorbar": {
             "outlinewidth": 0,
             "ticks": ""
            },
            "colorscale": [
             [
              0,
              "#0d0887"
             ],
             [
              0.1111111111111111,
              "#46039f"
             ],
             [
              0.2222222222222222,
              "#7201a8"
             ],
             [
              0.3333333333333333,
              "#9c179e"
             ],
             [
              0.4444444444444444,
              "#bd3786"
             ],
             [
              0.5555555555555556,
              "#d8576b"
             ],
             [
              0.6666666666666666,
              "#ed7953"
             ],
             [
              0.7777777777777778,
              "#fb9f3a"
             ],
             [
              0.8888888888888888,
              "#fdca26"
             ],
             [
              1,
              "#f0f921"
             ]
            ],
            "type": "contour"
           }
          ],
          "contourcarpet": [
           {
            "colorbar": {
             "outlinewidth": 0,
             "ticks": ""
            },
            "type": "contourcarpet"
           }
          ],
          "heatmap": [
           {
            "colorbar": {
             "outlinewidth": 0,
             "ticks": ""
            },
            "colorscale": [
             [
              0,
              "#0d0887"
             ],
             [
              0.1111111111111111,
              "#46039f"
             ],
             [
              0.2222222222222222,
              "#7201a8"
             ],
             [
              0.3333333333333333,
              "#9c179e"
             ],
             [
              0.4444444444444444,
              "#bd3786"
             ],
             [
              0.5555555555555556,
              "#d8576b"
             ],
             [
              0.6666666666666666,
              "#ed7953"
             ],
             [
              0.7777777777777778,
              "#fb9f3a"
             ],
             [
              0.8888888888888888,
              "#fdca26"
             ],
             [
              1,
              "#f0f921"
             ]
            ],
            "type": "heatmap"
           }
          ],
          "histogram": [
           {
            "marker": {
             "pattern": {
              "fillmode": "overlay",
              "size": 10,
              "solidity": 0.2
             }
            },
            "type": "histogram"
           }
          ],
          "histogram2d": [
           {
            "colorbar": {
             "outlinewidth": 0,
             "ticks": ""
            },
            "colorscale": [
             [
              0,
              "#0d0887"
             ],
             [
              0.1111111111111111,
              "#46039f"
             ],
             [
              0.2222222222222222,
              "#7201a8"
             ],
             [
              0.3333333333333333,
              "#9c179e"
             ],
             [
              0.4444444444444444,
              "#bd3786"
             ],
             [
              0.5555555555555556,
              "#d8576b"
             ],
             [
              0.6666666666666666,
              "#ed7953"
             ],
             [
              0.7777777777777778,
              "#fb9f3a"
             ],
             [
              0.8888888888888888,
              "#fdca26"
             ],
             [
              1,
              "#f0f921"
             ]
            ],
            "type": "histogram2d"
           }
          ],
          "histogram2dcontour": [
           {
            "colorbar": {
             "outlinewidth": 0,
             "ticks": ""
            },
            "colorscale": [
             [
              0,
              "#0d0887"
             ],
             [
              0.1111111111111111,
              "#46039f"
             ],
             [
              0.2222222222222222,
              "#7201a8"
             ],
             [
              0.3333333333333333,
              "#9c179e"
             ],
             [
              0.4444444444444444,
              "#bd3786"
             ],
             [
              0.5555555555555556,
              "#d8576b"
             ],
             [
              0.6666666666666666,
              "#ed7953"
             ],
             [
              0.7777777777777778,
              "#fb9f3a"
             ],
             [
              0.8888888888888888,
              "#fdca26"
             ],
             [
              1,
              "#f0f921"
             ]
            ],
            "type": "histogram2dcontour"
           }
          ],
          "mesh3d": [
           {
            "colorbar": {
             "outlinewidth": 0,
             "ticks": ""
            },
            "type": "mesh3d"
           }
          ],
          "parcoords": [
           {
            "line": {
             "colorbar": {
              "outlinewidth": 0,
              "ticks": ""
             }
            },
            "type": "parcoords"
           }
          ],
          "pie": [
           {
            "automargin": true,
            "type": "pie"
           }
          ],
          "scatter": [
           {
            "fillpattern": {
             "fillmode": "overlay",
             "size": 10,
             "solidity": 0.2
            },
            "type": "scatter"
           }
          ],
          "scatter3d": [
           {
            "line": {
             "colorbar": {
              "outlinewidth": 0,
              "ticks": ""
             }
            },
            "marker": {
             "colorbar": {
              "outlinewidth": 0,
              "ticks": ""
             }
            },
            "type": "scatter3d"
           }
          ],
          "scattercarpet": [
           {
            "marker": {
             "colorbar": {
              "outlinewidth": 0,
              "ticks": ""
             }
            },
            "type": "scattercarpet"
           }
          ],
          "scattergeo": [
           {
            "marker": {
             "colorbar": {
              "outlinewidth": 0,
              "ticks": ""
             }
            },
            "type": "scattergeo"
           }
          ],
          "scattergl": [
           {
            "marker": {
             "colorbar": {
              "outlinewidth": 0,
              "ticks": ""
             }
            },
            "type": "scattergl"
           }
          ],
          "scattermap": [
           {
            "marker": {
             "colorbar": {
              "outlinewidth": 0,
              "ticks": ""
             }
            },
            "type": "scattermap"
           }
          ],
          "scattermapbox": [
           {
            "marker": {
             "colorbar": {
              "outlinewidth": 0,
              "ticks": ""
             }
            },
            "type": "scattermapbox"
           }
          ],
          "scatterpolar": [
           {
            "marker": {
             "colorbar": {
              "outlinewidth": 0,
              "ticks": ""
             }
            },
            "type": "scatterpolar"
           }
          ],
          "scatterpolargl": [
           {
            "marker": {
             "colorbar": {
              "outlinewidth": 0,
              "ticks": ""
             }
            },
            "type": "scatterpolargl"
           }
          ],
          "scatterternary": [
           {
            "marker": {
             "colorbar": {
              "outlinewidth": 0,
              "ticks": ""
             }
            },
            "type": "scatterternary"
           }
          ],
          "surface": [
           {
            "colorbar": {
             "outlinewidth": 0,
             "ticks": ""
            },
            "colorscale": [
             [
              0,
              "#0d0887"
             ],
             [
              0.1111111111111111,
              "#46039f"
             ],
             [
              0.2222222222222222,
              "#7201a8"
             ],
             [
              0.3333333333333333,
              "#9c179e"
             ],
             [
              0.4444444444444444,
              "#bd3786"
             ],
             [
              0.5555555555555556,
              "#d8576b"
             ],
             [
              0.6666666666666666,
              "#ed7953"
             ],
             [
              0.7777777777777778,
              "#fb9f3a"
             ],
             [
              0.8888888888888888,
              "#fdca26"
             ],
             [
              1,
              "#f0f921"
             ]
            ],
            "type": "surface"
           }
          ],
          "table": [
           {
            "cells": {
             "fill": {
              "color": "#EBF0F8"
             },
             "line": {
              "color": "white"
             }
            },
            "header": {
             "fill": {
              "color": "#C8D4E3"
             },
             "line": {
              "color": "white"
             }
            },
            "type": "table"
           }
          ]
         },
         "layout": {
          "annotationdefaults": {
           "arrowcolor": "#2a3f5f",
           "arrowhead": 0,
           "arrowwidth": 1
          },
          "autotypenumbers": "strict",
          "coloraxis": {
           "colorbar": {
            "outlinewidth": 0,
            "ticks": ""
           }
          },
          "colorscale": {
           "diverging": [
            [
             0,
             "#8e0152"
            ],
            [
             0.1,
             "#c51b7d"
            ],
            [
             0.2,
             "#de77ae"
            ],
            [
             0.3,
             "#f1b6da"
            ],
            [
             0.4,
             "#fde0ef"
            ],
            [
             0.5,
             "#f7f7f7"
            ],
            [
             0.6,
             "#e6f5d0"
            ],
            [
             0.7,
             "#b8e186"
            ],
            [
             0.8,
             "#7fbc41"
            ],
            [
             0.9,
             "#4d9221"
            ],
            [
             1,
             "#276419"
            ]
           ],
           "sequential": [
            [
             0,
             "#0d0887"
            ],
            [
             0.1111111111111111,
             "#46039f"
            ],
            [
             0.2222222222222222,
             "#7201a8"
            ],
            [
             0.3333333333333333,
             "#9c179e"
            ],
            [
             0.4444444444444444,
             "#bd3786"
            ],
            [
             0.5555555555555556,
             "#d8576b"
            ],
            [
             0.6666666666666666,
             "#ed7953"
            ],
            [
             0.7777777777777778,
             "#fb9f3a"
            ],
            [
             0.8888888888888888,
             "#fdca26"
            ],
            [
             1,
             "#f0f921"
            ]
           ],
           "sequentialminus": [
            [
             0,
             "#0d0887"
            ],
            [
             0.1111111111111111,
             "#46039f"
            ],
            [
             0.2222222222222222,
             "#7201a8"
            ],
            [
             0.3333333333333333,
             "#9c179e"
            ],
            [
             0.4444444444444444,
             "#bd3786"
            ],
            [
             0.5555555555555556,
             "#d8576b"
            ],
            [
             0.6666666666666666,
             "#ed7953"
            ],
            [
             0.7777777777777778,
             "#fb9f3a"
            ],
            [
             0.8888888888888888,
             "#fdca26"
            ],
            [
             1,
             "#f0f921"
            ]
           ]
          },
          "colorway": [
           "#636efa",
           "#EF553B",
           "#00cc96",
           "#ab63fa",
           "#FFA15A",
           "#19d3f3",
           "#FF6692",
           "#B6E880",
           "#FF97FF",
           "#FECB52"
          ],
          "font": {
           "color": "#2a3f5f"
          },
          "geo": {
           "bgcolor": "white",
           "lakecolor": "white",
           "landcolor": "#E5ECF6",
           "showlakes": true,
           "showland": true,
           "subunitcolor": "white"
          },
          "hoverlabel": {
           "align": "left"
          },
          "hovermode": "closest",
          "mapbox": {
           "style": "light"
          },
          "paper_bgcolor": "white",
          "plot_bgcolor": "#E5ECF6",
          "polar": {
           "angularaxis": {
            "gridcolor": "white",
            "linecolor": "white",
            "ticks": ""
           },
           "bgcolor": "#E5ECF6",
           "radialaxis": {
            "gridcolor": "white",
            "linecolor": "white",
            "ticks": ""
           }
          },
          "scene": {
           "xaxis": {
            "backgroundcolor": "#E5ECF6",
            "gridcolor": "white",
            "gridwidth": 2,
            "linecolor": "white",
            "showbackground": true,
            "ticks": "",
            "zerolinecolor": "white"
           },
           "yaxis": {
            "backgroundcolor": "#E5ECF6",
            "gridcolor": "white",
            "gridwidth": 2,
            "linecolor": "white",
            "showbackground": true,
            "ticks": "",
            "zerolinecolor": "white"
           },
           "zaxis": {
            "backgroundcolor": "#E5ECF6",
            "gridcolor": "white",
            "gridwidth": 2,
            "linecolor": "white",
            "showbackground": true,
            "ticks": "",
            "zerolinecolor": "white"
           }
          },
          "shapedefaults": {
           "line": {
            "color": "#2a3f5f"
           }
          },
          "ternary": {
           "aaxis": {
            "gridcolor": "white",
            "linecolor": "white",
            "ticks": ""
           },
           "baxis": {
            "gridcolor": "white",
            "linecolor": "white",
            "ticks": ""
           },
           "bgcolor": "#E5ECF6",
           "caxis": {
            "gridcolor": "white",
            "linecolor": "white",
            "ticks": ""
           }
          },
          "title": {
           "x": 0.05
          },
          "xaxis": {
           "automargin": true,
           "gridcolor": "white",
           "linecolor": "white",
           "ticks": "",
           "title": {
            "standoff": 15
           },
           "zerolinecolor": "white",
           "zerolinewidth": 2
          },
          "yaxis": {
           "automargin": true,
           "gridcolor": "white",
           "linecolor": "white",
           "ticks": "",
           "title": {
            "standoff": 15
           },
           "zerolinecolor": "white",
           "zerolinewidth": 2
          }
         }
        },
        "xaxis": {
         "anchor": "y",
         "domain": [
          0,
          1
         ],
         "title": {
          "text": "HM"
         }
        },
        "yaxis": {
         "anchor": "x",
         "domain": [
          0,
          1
         ],
         "showgrid": false,
         "showticklabels": false,
         "title": {
          "text": "y"
         }
        }
       }
      }
     },
     "metadata": {},
     "output_type": "display_data"
    },
    {
     "name": "stdout",
     "output_type": "stream",
     "text": [
      "Num_Beneficiarios_sub_desemprego\n",
      "0    267\n",
      "1     37\n",
      "2      4\n",
      "Name: count, dtype: int64\n",
      "File saved to csv_files/6_Num_Beneficiarios_Desemprego.csv\n"
     ]
    }
   ],
   "source": [
    "clustered_df = aplicar_kmeans(df_desemprego, 3, nome_cluster='Num_Beneficiarios_sub_desemprego')\n",
    "save_clustered_df_to_csv(clustered_df, \"csv_files/\", \"6_Num_Beneficiarios_Desemprego.csv\")"
   ]
  },
  {
   "cell_type": "markdown",
   "id": "a7148065",
   "metadata": {},
   "source": [
    "#### Duração Subsídio de desemprego"
   ]
  },
  {
   "cell_type": "code",
   "execution_count": null,
   "id": "3c102f37",
   "metadata": {},
   "outputs": [],
   "source": []
  },
  {
   "cell_type": "code",
<<<<<<< HEAD
   "execution_count": 18,
=======
   "execution_count": 4,
>>>>>>> more_clusters
   "id": "c6c7b08f",
   "metadata": {},
   "outputs": [
    {
     "data": {
      "text/html": [
       "<div>\n",
       "<style scoped>\n",
       "    .dataframe tbody tr th:only-of-type {\n",
       "        vertical-align: middle;\n",
       "    }\n",
       "\n",
       "    .dataframe tbody tr th {\n",
       "        vertical-align: top;\n",
       "    }\n",
       "\n",
       "    .dataframe thead th {\n",
       "        text-align: right;\n",
       "    }\n",
       "</style>\n",
       "<table border=\"1\" class=\"dataframe\">\n",
       "  <thead>\n",
       "    <tr style=\"text-align: right;\">\n",
       "      <th></th>\n",
       "      <th>local</th>\n",
       "      <th>codigo</th>\n",
       "      <th>HM</th>\n",
       "    </tr>\n",
       "  </thead>\n",
       "  <tbody>\n",
       "    <tr>\n",
       "      <th>4</th>\n",
       "      <td>Arcos de Valdevez</td>\n",
       "      <td>1111601</td>\n",
       "      <td>150.0</td>\n",
       "    </tr>\n",
       "    <tr>\n",
       "      <th>5</th>\n",
       "      <td>Caminha</td>\n",
       "      <td>1111602</td>\n",
       "      <td>163.0</td>\n",
       "    </tr>\n",
       "    <tr>\n",
       "      <th>6</th>\n",
       "      <td>Melgaço</td>\n",
       "      <td>1111603</td>\n",
       "      <td>206.0</td>\n",
       "    </tr>\n",
       "    <tr>\n",
       "      <th>7</th>\n",
       "      <td>Monção</td>\n",
       "      <td>1111604</td>\n",
       "      <td>171.0</td>\n",
       "    </tr>\n",
       "    <tr>\n",
       "      <th>8</th>\n",
       "      <td>Paredes de Coura</td>\n",
       "      <td>1111605</td>\n",
       "      <td>159.0</td>\n",
       "    </tr>\n",
       "    <tr>\n",
       "      <th>...</th>\n",
       "      <td>...</td>\n",
       "      <td>...</td>\n",
       "      <td>...</td>\n",
       "    </tr>\n",
       "    <tr>\n",
       "      <th>342</th>\n",
       "      <td>Ribeira Brava</td>\n",
       "      <td>3003107</td>\n",
       "      <td>164.0</td>\n",
       "    </tr>\n",
       "    <tr>\n",
       "      <th>343</th>\n",
       "      <td>Santa Cruz</td>\n",
       "      <td>3003108</td>\n",
       "      <td>180.0</td>\n",
       "    </tr>\n",
       "    <tr>\n",
       "      <th>344</th>\n",
       "      <td>Santana</td>\n",
       "      <td>3003109</td>\n",
       "      <td>169.0</td>\n",
       "    </tr>\n",
       "    <tr>\n",
       "      <th>345</th>\n",
       "      <td>São Vicente</td>\n",
       "      <td>3003110</td>\n",
       "      <td>176.0</td>\n",
       "    </tr>\n",
       "    <tr>\n",
       "      <th>346</th>\n",
       "      <td>Porto Santo</td>\n",
       "      <td>3003201</td>\n",
       "      <td>158.0</td>\n",
       "    </tr>\n",
       "  </tbody>\n",
       "</table>\n",
       "<p>308 rows × 3 columns</p>\n",
       "</div>"
      ],
      "text/plain": [
       "                 local   codigo     HM\n",
       "4    Arcos de Valdevez  1111601  150.0\n",
       "5              Caminha  1111602  163.0\n",
       "6              Melgaço  1111603  206.0\n",
       "7               Monção  1111604  171.0\n",
       "8     Paredes de Coura  1111605  159.0\n",
       "..                 ...      ...    ...\n",
       "342      Ribeira Brava  3003107  164.0\n",
       "343         Santa Cruz  3003108  180.0\n",
       "344            Santana  3003109  169.0\n",
       "345        São Vicente  3003110  176.0\n",
       "346        Porto Santo  3003201  158.0\n",
       "\n",
       "[308 rows x 3 columns]"
      ]
     },
<<<<<<< HEAD
     "execution_count": 18,
=======
     "execution_count": 4,
>>>>>>> more_clusters
     "metadata": {},
     "output_type": "execute_result"
    }
   ],
   "source": [
    "df_duraçcao_sub_desemprego = processar_ficheiro(data_path+'Duração média do subsídio de desemprego.xls',4)\n",
    "df_duraçcao_sub_desemprego = carregar_municipios(df_duraçcao_sub_desemprego)\n",
    "df_duraçcao_sub_desemprego = df_duraçcao_sub_desemprego[['local','codigo','HM']]\n",
    "#save_clustered_df_to_csv(df_duraçcao_sub_desemprego.rename(columns={'HM': 'Duracao_Sub_desemprego'}), \"csv_bruto/\", \"6_Duração_Sub_desemprego.csv\")\n",
    "df_duraçcao_sub_desemprego\n"
   ]
  },
  {
   "cell_type": "code",
<<<<<<< HEAD
   "execution_count": 19,
=======
   "execution_count": 5,
>>>>>>> more_clusters
   "id": "c9292141",
   "metadata": {},
   "outputs": [
    {
     "data": {
      "application/vnd.plotly.v1+json": {
       "config": {
        "plotlyServerURL": "https://plot.ly"
       },
       "data": [
        {
         "customdata": [
          [
           "Arcos de Valdevez",
           "1111601",
           150
          ],
          [
           "Caminha",
           "1111602",
           163
          ],
          [
           "Melgaço",
           "1111603",
           206
          ],
          [
           "Monção",
           "1111604",
           171
          ],
          [
           "Paredes de Coura",
           "1111605",
           159
          ],
          [
           "Ponte da Barca",
           "1111606",
           138
          ],
          [
           "Ponte de Lima",
           "1111607",
           169
          ],
          [
           "Valença",
           "1111608",
           154
          ],
          [
           "Viana do Castelo",
           "1111609",
           144
          ],
          [
           "Vila Nova de Cerveira",
           "1111610",
           170
          ],
          [
           "Amares",
           "1120301",
           173
          ],
          [
           "Barcelos",
           "1120302",
           179
          ],
          [
           "Braga",
           "1120303",
           177
          ],
          [
           "Esposende",
           "1120306",
           166
          ],
          [
           "Terras de Bouro",
           "1120310",
           159
          ],
          [
           "Vila Verde",
           "1120313",
           185
          ],
          [
           "Cabeceiras de Basto",
           "1190304",
           174
          ],
          [
           "Fafe",
           "1190307",
           183
          ],
          [
           "Guimarães",
           "1190308",
           188
          ],
          [
           "Mondim de Basto",
           "1191705",
           207
          ],
          [
           "Póvoa de Lanhoso",
           "1190309",
           182
          ],
          [
           "Vieira do Minho",
           "1190311",
           180
          ],
          [
           "Vila Nova de Famalicão",
           "1190312",
           181
          ],
          [
           "Vizela",
           "1190314",
           191
          ],
          [
           "Arouca",
           "11A0104",
           179
          ],
          [
           "Espinho",
           "11A0107",
           188
          ],
          [
           "Gondomar",
           "11A1304",
           180
          ],
          [
           "Maia",
           "11A1306",
           174
          ],
          [
           "Matosinhos",
           "11A1308",
           178
          ],
          [
           "Oliveira de Azeméis",
           "11A0113",
           170
          ],
          [
           "Paredes",
           "11A1310",
           182
          ],
          [
           "Porto",
           "11A1312",
           176
          ],
          [
           "Póvoa de Varzim",
           "11A1313",
           170
          ],
          [
           "Santa Maria da Feira",
           "11A0109",
           172
          ],
          [
           "Santo Tirso",
           "11A1314",
           190
          ],
          [
           "São João da Madeira",
           "11A0116",
           170
          ],
          [
           "Trofa",
           "11A1318",
           177
          ],
          [
           "Vale de Cambra",
           "11A0119",
           169
          ],
          [
           "Valongo",
           "11A1315",
           177
          ],
          [
           "Vila do Conde",
           "11A1316",
           172
          ],
          [
           "Vila Nova de Gaia",
           "11A1317",
           182
          ],
          [
           "Boticas",
           "11B1702",
           177
          ],
          [
           "Chaves",
           "11B1703",
           187
          ],
          [
           "Montalegre",
           "11B1706",
           189
          ],
          [
           "Ribeira de Pena",
           "11B1709",
           178
          ],
          [
           "Valpaços",
           "11B1712",
           183
          ],
          [
           "Vila Pouca de Aguiar",
           "11B1713",
           200
          ],
          [
           "Amarante",
           "11C1301",
           174
          ],
          [
           "Baião",
           "11C1302",
           182
          ],
          [
           "Castelo de Paiva",
           "11C0106",
           180
          ],
          [
           "Celorico de Basto",
           "11C0305",
           189
          ],
          [
           "Cinfães",
           "11C1804",
           182
          ],
          [
           "Felgueiras",
           "11C1303",
           172
          ],
          [
           "Lousada",
           "11C1305",
           166
          ],
          [
           "Marco de Canaveses",
           "11C1307",
           191
          ],
          [
           "Paços de Ferreira",
           "11C1309",
           181
          ],
          [
           "Penafiel",
           "11C1311",
           181
          ],
          [
           "Resende",
           "11C1813",
           216
          ],
          [
           "Alijó",
           "11D1701",
           192
          ],
          [
           "Armamar",
           "11D1801",
           195
          ],
          [
           "Carrazeda de Ansiães",
           "11D0403",
           200
          ],
          [
           "Freixo de Espada à Cinta",
           "11D0404",
           193
          ],
          [
           "Lamego",
           "11D1805",
           179
          ],
          [
           "Mesão Frio",
           "11D1704",
           206
          ],
          [
           "Moimenta da Beira",
           "11D1807",
           199
          ],
          [
           "Murça",
           "11D1707",
           210
          ],
          [
           "Penedono",
           "11D1812",
           176
          ],
          [
           "Peso da Régua",
           "11D1708",
           192
          ],
          [
           "Sabrosa",
           "11D1710",
           176
          ],
          [
           "Santa Marta de Penaguião",
           "11D1711",
           183
          ],
          [
           "São João da Pesqueira",
           "11D1815",
           182
          ],
          [
           "Sernancelhe",
           "11D1818",
           189
          ],
          [
           "Tabuaço",
           "11D1819",
           196
          ],
          [
           "Tarouca",
           "11D1820",
           186
          ],
          [
           "Torre de Moncorvo",
           "11D0409",
           188
          ],
          [
           "Vila Nova de Foz Côa",
           "11D0914",
           168
          ],
          [
           "Vila Real",
           "11D1714",
           183
          ],
          [
           "Alfândega da Fé",
           "11E0401",
           179
          ],
          [
           "Bragança",
           "11E0402",
           168
          ],
          [
           "Macedo de Cavaleiros",
           "11E0405",
           180
          ],
          [
           "Miranda do Douro",
           "11E0406",
           213
          ],
          [
           "Mirandela",
           "11E0407",
           172
          ],
          [
           "Mogadouro",
           "11E0408",
           174
          ],
          [
           "Vila Flor",
           "11E0410",
           194
          ],
          [
           "Vimioso",
           "11E0411",
           198
          ],
          [
           "Vinhais",
           "11E0412",
           183
          ],
          [
           "Águeda",
           "1910101",
           158
          ],
          [
           "Albergaria-a-Velha",
           "1910102",
           167
          ],
          [
           "Anadia",
           "1910103",
           172
          ],
          [
           "Aveiro",
           "1910105",
           160
          ],
          [
           "Estarreja",
           "1910108",
           170
          ],
          [
           "Ílhavo",
           "1910110",
           158
          ],
          [
           "Murtosa",
           "1910112",
           162
          ],
          [
           "Oliveira do Bairro",
           "1910114",
           151
          ],
          [
           "Ovar",
           "1910115",
           177
          ],
          [
           "Sever do Vouga",
           "1910117",
           172
          ],
          [
           "Vagos",
           "1910118",
           167
          ],
          [
           "Arganil",
           "1920601",
           180
          ],
          [
           "Cantanhede",
           "1920602",
           161
          ],
          [
           "Coimbra",
           "1920603",
           164
          ],
          [
           "Condeixa-a-Nova",
           "1920604",
           157
          ],
          [
           "Figueira da Foz",
           "1920605",
           156
          ],
          [
           "Góis",
           "1920606",
           204
          ],
          [
           "Lousã",
           "1920607",
           162
          ],
          [
           "Mealhada",
           "1920111",
           169
          ],
          [
           "Mira",
           "1920608",
           152
          ],
          [
           "Miranda do Corvo",
           "1920609",
           159
          ],
          [
           "Montemor-o-Velho",
           "1920610",
           158
          ],
          [
           "Mortágua",
           "1921808",
           151
          ],
          [
           "Oliveira do Hospital",
           "1920611",
           177
          ],
          [
           "Pampilhosa da Serra",
           "1920612",
           182
          ],
          [
           "Penacova",
           "1920613",
           171
          ],
          [
           "Penela",
           "1920614",
           174
          ],
          [
           "Soure",
           "1920615",
           186
          ],
          [
           "Tábua",
           "1920616",
           186
          ],
          [
           "Vila Nova de Poiares",
           "1920617",
           189
          ],
          [
           "Alvaiázere",
           "1931002",
           154
          ],
          [
           "Ansião",
           "1931003",
           188
          ],
          [
           "Batalha",
           "1931004",
           158
          ],
          [
           "Castanheira de Pêra",
           "1931007",
           171
          ],
          [
           "Figueiró dos Vinhos",
           "1931008",
           179
          ],
          [
           "Leiria",
           "1931009",
           161
          ],
          [
           "Marinha Grande",
           "1931010",
           158
          ],
          [
           "Pedrógão Grande",
           "1931013",
           190
          ],
          [
           "Pombal",
           "1931015",
           164
          ],
          [
           "Porto de Mós",
           "1931016",
           168
          ],
          [
           "Aguiar da Beira",
           "1940901",
           184
          ],
          [
           "Carregal do Sal",
           "1941802",
           155
          ],
          [
           "Castro Daire",
           "1941803",
           172
          ],
          [
           "Mangualde",
           "1941806",
           186
          ],
          [
           "Nelas",
           "1941809",
           156
          ],
          [
           "Oliveira de Frades",
           "1941810",
           166
          ],
          [
           "Penalva do Castelo",
           "1941811",
           185
          ],
          [
           "Santa Comba Dão",
           "1941814",
           169
          ],
          [
           "São Pedro do Sul",
           "1941816",
           156
          ],
          [
           "Sátão",
           "1941817",
           184
          ],
          [
           "Tondela",
           "1941821",
           162
          ],
          [
           "Vila Nova de Paiva",
           "1941822",
           153
          ],
          [
           "Viseu",
           "1941823",
           164
          ],
          [
           "Vouzela",
           "1941824",
           177
          ],
          [
           "Castelo Branco",
           "1950502",
           175
          ],
          [
           "Idanha-a-Nova",
           "1950505",
           187
          ],
          [
           "Oleiros",
           "1950506",
           184
          ],
          [
           "Penamacor",
           "1950507",
           206
          ],
          [
           "Proença-a-Nova",
           "1950508",
           159
          ],
          [
           "Sertã",
           "1950509",
           170
          ],
          [
           "Vila de Rei",
           "1950510",
           183
          ],
          [
           "Vila Velha de Ródão",
           "1950511",
           162
          ],
          [
           "Almeida",
           "1960902",
           173
          ],
          [
           "Belmonte",
           "1960501",
           189
          ],
          [
           "Celorico da Beira",
           "1960903",
           175
          ],
          [
           "Covilhã",
           "1960503",
           173
          ],
          [
           "Figueira de Castelo Rodrigo",
           "1960904",
           171
          ],
          [
           "Fornos de Algodres",
           "1960905",
           176
          ],
          [
           "Fundão",
           "1960504",
           179
          ],
          [
           "Gouveia",
           "1960906",
           178
          ],
          [
           "Guarda",
           "1960907",
           152
          ],
          [
           "Manteigas",
           "1960908",
           170
          ],
          [
           "Mêda",
           "1960909",
           151
          ],
          [
           "Pinhel",
           "1960910",
           149
          ],
          [
           "Sabugal",
           "1960911",
           176
          ],
          [
           "Seia",
           "1960912",
           176
          ],
          [
           "Trancoso",
           "1960913",
           162
          ],
          [
           "Alcobaça",
           "1D11001",
           176
          ],
          [
           "Alenquer",
           "1D11101",
           175
          ],
          [
           "Arruda dos Vinhos",
           "1D11102",
           183
          ],
          [
           "Bombarral",
           "1D11005",
           166
          ],
          [
           "Cadaval",
           "1D11104",
           158
          ],
          [
           "Caldas da Rainha",
           "1D11006",
           160
          ],
          [
           "Lourinhã",
           "1D11108",
           159
          ],
          [
           "Nazaré",
           "1D11011",
           173
          ],
          [
           "Óbidos",
           "1D11012",
           158
          ],
          [
           "Peniche",
           "1D11014",
           150
          ],
          [
           "Sobral de Monte Agraço",
           "1D11112",
           186
          ],
          [
           "Torres Vedras",
           "1D11113",
           177
          ],
          [
           "Abrantes",
           "1D21401",
           160
          ],
          [
           "Alcanena",
           "1D21402",
           173
          ],
          [
           "Constância",
           "1D21408",
           162
          ],
          [
           "Entroncamento",
           "1D21410",
           161
          ],
          [
           "Ferreira do Zêzere",
           "1D21411",
           155
          ],
          [
           "Mação",
           "1D21413",
           176
          ],
          [
           "Ourém",
           "1D21421",
           147
          ],
          [
           "Sardoal",
           "1D21417",
           198
          ],
          [
           "Tomar",
           "1D21418",
           170
          ],
          [
           "Torres Novas",
           "1D21419",
           154
          ],
          [
           "Vila Nova da Barquinha",
           "1D21420",
           157
          ],
          [
           "Almeirim",
           "1D31403",
           143
          ],
          [
           "Alpiarça",
           "1D31404",
           146
          ],
          [
           "Azambuja",
           "1D31103",
           168
          ],
          [
           "Benavente",
           "1D31405",
           161
          ],
          [
           "Cartaxo",
           "1D31406",
           171
          ],
          [
           "Chamusca",
           "1D31407",
           155
          ],
          [
           "Coruche",
           "1D31409",
           162
          ],
          [
           "Golegã",
           "1D31412",
           168
          ],
          [
           "Rio Maior",
           "1D31414",
           165
          ],
          [
           "Salvaterra de Magos",
           "1D31415",
           161
          ],
          [
           "Santarém",
           "1D31416",
           161
          ],
          [
           "Amadora",
           "1A01115",
           181
          ],
          [
           "Cascais",
           "1A01105",
           196
          ],
          [
           "Lisboa",
           "1A01106",
           190
          ],
          [
           "Loures",
           "1A01107",
           190
          ],
          [
           "Mafra",
           "1A01109",
           186
          ],
          [
           "Odivelas",
           "1A01116",
           181
          ],
          [
           "Oeiras",
           "1A01110",
           193
          ],
          [
           "Sintra",
           "1A01111",
           182
          ],
          [
           "Vila Franca de Xira",
           "1A01114",
           184
          ],
          [
           "Alcochete",
           "1B01502",
           183
          ],
          [
           "Almada",
           "1B01503",
           190
          ],
          [
           "Barreiro",
           "1B01504",
           176
          ],
          [
           "Moita",
           "1B01506",
           177
          ],
          [
           "Montijo",
           "1B01507",
           173
          ],
          [
           "Palmela",
           "1B01508",
           175
          ],
          [
           "Seixal",
           "1B01510",
           176
          ],
          [
           "Sesimbra",
           "1B01511",
           179
          ],
          [
           "Setúbal",
           "1B01512",
           171
          ],
          [
           "Alcácer do Sal",
           "1C11501",
           154
          ],
          [
           "Grândola",
           "1C11505",
           161
          ],
          [
           "Odemira",
           "1C10211",
           133
          ],
          [
           "Santiago do Cacém",
           "1C11509",
           150
          ],
          [
           "Sines",
           "1C11513",
           121
          ],
          [
           "Aljustrel",
           "1C20201",
           185
          ],
          [
           "Almodôvar",
           "1C20202",
           176
          ],
          [
           "Alvito",
           "1C20203",
           220
          ],
          [
           "Barrancos",
           "1C20204",
           189
          ],
          [
           "Beja",
           "1C20205",
           158
          ],
          [
           "Castro Verde",
           "1C20206",
           166
          ],
          [
           "Cuba",
           "1C20207",
           188
          ],
          [
           "Ferreira do Alentejo",
           "1C20208",
           144
          ],
          [
           "Mértola",
           "1C20209",
           187
          ],
          [
           "Moura",
           "1C20210",
           166
          ],
          [
           "Ourique",
           "1C20212",
           196
          ],
          [
           "Serpa",
           "1C20213",
           166
          ],
          [
           "Vidigueira",
           "1C20214",
           156
          ],
          [
           "Alter do Chão",
           "1C31201",
           160
          ],
          [
           "Arronches",
           "1C31202",
           195
          ],
          [
           "Avis",
           "1C31203",
           167
          ],
          [
           "Campo Maior",
           "1C31204",
           190
          ],
          [
           "Castelo de Vide",
           "1C31205",
           204
          ],
          [
           "Crato",
           "1C31206",
           184
          ],
          [
           "Elvas",
           "1C31207",
           173
          ],
          [
           "Fronteira",
           "1C31208",
           177
          ],
          [
           "Gavião",
           "1C31209",
           194
          ],
          [
           "Marvão",
           "1C31210",
           195
          ],
          [
           "Monforte",
           "1C31211",
           188
          ],
          [
           "Nisa",
           "1C31212",
           168
          ],
          [
           "Ponte de Sor",
           "1C31213",
           150
          ],
          [
           "Portalegre",
           "1C31214",
           172
          ],
          [
           "Sousel",
           "1C31215",
           149
          ],
          [
           "Alandroal",
           "1C40701",
           157
          ],
          [
           "Arraiolos",
           "1C40702",
           171
          ],
          [
           "Borba",
           "1C40703",
           146
          ],
          [
           "Estremoz",
           "1C40704",
           158
          ],
          [
           "Évora",
           "1C40705",
           163
          ],
          [
           "Montemor-o-Novo",
           "1C40706",
           159
          ],
          [
           "Mora",
           "1C40707",
           138
          ],
          [
           "Mourão",
           "1C40708",
           183
          ],
          [
           "Portel",
           "1C40709",
           167
          ],
          [
           "Redondo",
           "1C40710",
           170
          ],
          [
           "Reguengos de Monsaraz",
           "1C40711",
           168
          ],
          [
           "Vendas Novas",
           "1C40712",
           132
          ],
          [
           "Viana do Alentejo",
           "1C40713",
           150
          ],
          [
           "Vila Viçosa",
           "1C40714",
           154
          ],
          [
           "Albufeira",
           "1500801",
           111
          ],
          [
           "Alcoutim",
           "1500802",
           138
          ],
          [
           "Aljezur",
           "1500803",
           138
          ],
          [
           "Castro Marim",
           "1500804",
           129
          ],
          [
           "Faro",
           "1500805",
           149
          ],
          [
           "Lagoa",
           "1500806",
           126
          ],
          [
           "Lagos",
           "1500807",
           133
          ],
          [
           "Loulé",
           "1500808",
           125
          ],
          [
           "Monchique",
           "1500809",
           174
          ],
          [
           "Olhão",
           "1500810",
           156
          ],
          [
           "Portimão",
           "1500811",
           130
          ],
          [
           "São Brás de Alportel",
           "1500812",
           171
          ],
          [
           "Silves",
           "1500813",
           132
          ],
          [
           "Tavira",
           "1500814",
           131
          ],
          [
           "Vila do Bispo",
           "1500815",
           113
          ],
          [
           "Vila Real de Santo António",
           "1500816",
           140
          ],
          [
           "Angra do Heroísmo",
           "2004301",
           179
          ],
          [
           "Calheta (R.A.A.)",
           "2004501",
           198
          ],
          [
           "Corvo",
           "2004901",
           164
          ],
          [
           "Horta",
           "2004701",
           171
          ],
          [
           "Lagoa (R.A.A.)",
           "2004201",
           197
          ],
          [
           "Lajes das Flores",
           "2004801",
           190
          ],
          [
           "Lajes do Pico",
           "2004601",
           170
          ],
          [
           "Madalena",
           "2004602",
           172
          ],
          [
           "Nordeste",
           "2004202",
           223
          ],
          [
           "Ponta Delgada",
           "2004203",
           175
          ],
          [
           "Povoação",
           "2004204",
           217
          ],
          [
           "Ribeira Grande",
           "2004205",
           178
          ],
          [
           "Santa Cruz da Graciosa",
           "2004401",
           199
          ],
          [
           "Santa Cruz das Flores",
           "2004802",
           184
          ],
          [
           "São Roque do Pico",
           "2004603",
           190
          ],
          [
           "Velas",
           "2004502",
           183
          ],
          [
           "Vila da Praia da Vitória",
           "2004302",
           178
          ],
          [
           "Vila do Porto",
           "2004101",
           186
          ],
          [
           "Vila Franca do Campo",
           "2004206",
           178
          ],
          [
           "Calheta (R.A.M.)",
           "3003101",
           186
          ],
          [
           "Câmara de Lobos",
           "3003102",
           169
          ],
          [
           "Funchal",
           "3003103",
           181
          ],
          [
           "Machico",
           "3003104",
           174
          ],
          [
           "Ponta do Sol",
           "3003105",
           178
          ],
          [
           "Porto Moniz",
           "3003106",
           212
          ],
          [
           "Ribeira Brava",
           "3003107",
           164
          ],
          [
           "Santa Cruz",
           "3003108",
           180
          ],
          [
           "Santana",
           "3003109",
           169
          ],
          [
           "São Vicente",
           "3003110",
           176
          ],
          [
           "Porto Santo",
           "3003201",
           158
          ]
         ],
         "hovertemplate": "valor=%{x}<br>y=%{y}<br>local=%{customdata[0]}<br>codigo=%{customdata[1]}<br>HM=%{customdata[2]}<br>Duracao_sub_desemprego=%{marker.color}<extra></extra>",
         "legendgroup": "",
         "marker": {
          "color": {
           "bdata": "AAECAQAAAQAAAQEBAQEAAgEBAgIBAQECAQIBAQEBAQEBAQIBAQEBAQEBAgIBAQIBAQECAQEBAgEBAgICAgIBAgICAQIBAQECAgICAQEBAQECAQECAgEAAQEAAQAAAAEBAQEAAQAAAgABAAAAAAEBAQECAgIAAgABAQAAAgEBAQABAgABAgEAAQAAAQEBAgECAAEBAAECAQEBAQEBAAEAAAEBAAEBAQEAAAABAAACAQABAAAAAQACAQAAAAABAAEAAAEBAAABAgICAgECAQEBAgEBAQEBAQEAAAAAAAIBAgIAAQIAAgECAQAAAgECAgEBAQICAgEAAQAAAQAAAQAAAQEBAQAAAAAAAAAAAAAAAQAAAQAAAAABAgEBAgIBAQIBAgECAQIBAQIBAgEBAQECAQEBAQA=",
           "dtype": "i1"
          },
          "coloraxis": "coloraxis",
          "size": 10,
          "symbol": "circle"
         },
         "mode": "markers",
         "name": "",
         "orientation": "v",
         "showlegend": false,
         "type": "scatter",
         "x": {
          "bdata": "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",
          "dtype": "f8"
         },
         "xaxis": "x",
         "y": {
          "bdata": "AAAAAAAAAAAAAAAAAAAAAAAAAAAAAAAAAAAAAAAAAAAAAAAAAAAAAAAAAAAAAAAAAAAAAAAAAAAAAAAAAAAAAAAAAAAAAAAAAAAAAAAAAAAAAAAAAAAAAAAAAAAAAAAAAAAAAAAAAAAAAAAAAAAAAAAAAAAAAAAAAAAAAAAAAAAAAAAAAAAAAAAAAAAAAAAAAAAAAAAAAAAAAAAAAAAAAAAAAAAAAAAAAAAAAAAAAAAAAAAAAAAAAAAAAAAAAAAAAAAAAAAAAAAAAAAAAAAAAAAAAAAAAAAAAAAAAAAAAAAAAAAAAAAAAAAAAAAAAAAAAAAAAAAAAAAAAAAAAAAAAAAAAAAAAAAAAAAAAAAAAAAAAAAAAAAAAAAAAAAAAAAAAAAAAAAAAAAAAAAAAAAAAAAAAAA=",
          "dtype": "i1"
         },
         "yaxis": "y"
        }
       ],
       "layout": {
        "coloraxis": {
         "colorbar": {
          "title": {
           "text": "Duracao_sub_desemprego"
          }
         },
         "colorscale": [
          [
           0,
           "#440154"
          ],
          [
           0.1111111111111111,
           "#482878"
          ],
          [
           0.2222222222222222,
           "#3e4989"
          ],
          [
           0.3333333333333333,
           "#31688e"
          ],
          [
           0.4444444444444444,
           "#26828e"
          ],
          [
           0.5555555555555556,
           "#1f9e89"
          ],
          [
           0.6666666666666666,
           "#35b779"
          ],
          [
           0.7777777777777778,
           "#6ece58"
          ],
          [
           0.8888888888888888,
           "#b5de2b"
          ],
          [
           1,
           "#fde725"
          ]
         ]
        },
        "height": 300,
        "legend": {
         "tracegroupgap": 0
        },
        "margin": {
         "t": 60
        },
        "template": {
         "data": {
          "bar": [
           {
            "error_x": {
             "color": "#2a3f5f"
            },
            "error_y": {
             "color": "#2a3f5f"
            },
            "marker": {
             "line": {
              "color": "#E5ECF6",
              "width": 0.5
             },
             "pattern": {
              "fillmode": "overlay",
              "size": 10,
              "solidity": 0.2
             }
            },
            "type": "bar"
           }
          ],
          "barpolar": [
           {
            "marker": {
             "line": {
              "color": "#E5ECF6",
              "width": 0.5
             },
             "pattern": {
              "fillmode": "overlay",
              "size": 10,
              "solidity": 0.2
             }
            },
            "type": "barpolar"
           }
          ],
          "carpet": [
           {
            "aaxis": {
             "endlinecolor": "#2a3f5f",
             "gridcolor": "white",
             "linecolor": "white",
             "minorgridcolor": "white",
             "startlinecolor": "#2a3f5f"
            },
            "baxis": {
             "endlinecolor": "#2a3f5f",
             "gridcolor": "white",
             "linecolor": "white",
             "minorgridcolor": "white",
             "startlinecolor": "#2a3f5f"
            },
            "type": "carpet"
           }
          ],
          "choropleth": [
           {
            "colorbar": {
             "outlinewidth": 0,
             "ticks": ""
            },
            "type": "choropleth"
           }
          ],
          "contour": [
           {
            "colorbar": {
             "outlinewidth": 0,
             "ticks": ""
            },
            "colorscale": [
             [
              0,
              "#0d0887"
             ],
             [
              0.1111111111111111,
              "#46039f"
             ],
             [
              0.2222222222222222,
              "#7201a8"
             ],
             [
              0.3333333333333333,
              "#9c179e"
             ],
             [
              0.4444444444444444,
              "#bd3786"
             ],
             [
              0.5555555555555556,
              "#d8576b"
             ],
             [
              0.6666666666666666,
              "#ed7953"
             ],
             [
              0.7777777777777778,
              "#fb9f3a"
             ],
             [
              0.8888888888888888,
              "#fdca26"
             ],
             [
              1,
              "#f0f921"
             ]
            ],
            "type": "contour"
           }
          ],
          "contourcarpet": [
           {
            "colorbar": {
             "outlinewidth": 0,
             "ticks": ""
            },
            "type": "contourcarpet"
           }
          ],
          "heatmap": [
           {
            "colorbar": {
             "outlinewidth": 0,
             "ticks": ""
            },
            "colorscale": [
             [
              0,
              "#0d0887"
             ],
             [
              0.1111111111111111,
              "#46039f"
             ],
             [
              0.2222222222222222,
              "#7201a8"
             ],
             [
              0.3333333333333333,
              "#9c179e"
             ],
             [
              0.4444444444444444,
              "#bd3786"
             ],
             [
              0.5555555555555556,
              "#d8576b"
             ],
             [
              0.6666666666666666,
              "#ed7953"
             ],
             [
              0.7777777777777778,
              "#fb9f3a"
             ],
             [
              0.8888888888888888,
              "#fdca26"
             ],
             [
              1,
              "#f0f921"
             ]
            ],
            "type": "heatmap"
           }
          ],
          "histogram": [
           {
            "marker": {
             "pattern": {
              "fillmode": "overlay",
              "size": 10,
              "solidity": 0.2
             }
            },
            "type": "histogram"
           }
          ],
          "histogram2d": [
           {
            "colorbar": {
             "outlinewidth": 0,
             "ticks": ""
            },
            "colorscale": [
             [
              0,
              "#0d0887"
             ],
             [
              0.1111111111111111,
              "#46039f"
             ],
             [
              0.2222222222222222,
              "#7201a8"
             ],
             [
              0.3333333333333333,
              "#9c179e"
             ],
             [
              0.4444444444444444,
              "#bd3786"
             ],
             [
              0.5555555555555556,
              "#d8576b"
             ],
             [
              0.6666666666666666,
              "#ed7953"
             ],
             [
              0.7777777777777778,
              "#fb9f3a"
             ],
             [
              0.8888888888888888,
              "#fdca26"
             ],
             [
              1,
              "#f0f921"
             ]
            ],
            "type": "histogram2d"
           }
          ],
          "histogram2dcontour": [
           {
            "colorbar": {
             "outlinewidth": 0,
             "ticks": ""
            },
            "colorscale": [
             [
              0,
              "#0d0887"
             ],
             [
              0.1111111111111111,
              "#46039f"
             ],
             [
              0.2222222222222222,
              "#7201a8"
             ],
             [
              0.3333333333333333,
              "#9c179e"
             ],
             [
              0.4444444444444444,
              "#bd3786"
             ],
             [
              0.5555555555555556,
              "#d8576b"
             ],
             [
              0.6666666666666666,
              "#ed7953"
             ],
             [
              0.7777777777777778,
              "#fb9f3a"
             ],
             [
              0.8888888888888888,
              "#fdca26"
             ],
             [
              1,
              "#f0f921"
             ]
            ],
            "type": "histogram2dcontour"
           }
          ],
          "mesh3d": [
           {
            "colorbar": {
             "outlinewidth": 0,
             "ticks": ""
            },
            "type": "mesh3d"
           }
          ],
          "parcoords": [
           {
            "line": {
             "colorbar": {
              "outlinewidth": 0,
              "ticks": ""
             }
            },
            "type": "parcoords"
           }
          ],
          "pie": [
           {
            "automargin": true,
            "type": "pie"
           }
          ],
          "scatter": [
           {
            "fillpattern": {
             "fillmode": "overlay",
             "size": 10,
             "solidity": 0.2
            },
            "type": "scatter"
           }
          ],
          "scatter3d": [
           {
            "line": {
             "colorbar": {
              "outlinewidth": 0,
              "ticks": ""
             }
            },
            "marker": {
             "colorbar": {
              "outlinewidth": 0,
              "ticks": ""
             }
            },
            "type": "scatter3d"
           }
          ],
          "scattercarpet": [
           {
            "marker": {
             "colorbar": {
              "outlinewidth": 0,
              "ticks": ""
             }
            },
            "type": "scattercarpet"
           }
          ],
          "scattergeo": [
           {
            "marker": {
             "colorbar": {
              "outlinewidth": 0,
              "ticks": ""
             }
            },
            "type": "scattergeo"
           }
          ],
          "scattergl": [
           {
            "marker": {
             "colorbar": {
              "outlinewidth": 0,
              "ticks": ""
             }
            },
            "type": "scattergl"
           }
          ],
          "scattermap": [
           {
            "marker": {
             "colorbar": {
              "outlinewidth": 0,
              "ticks": ""
             }
            },
            "type": "scattermap"
           }
          ],
          "scattermapbox": [
           {
            "marker": {
             "colorbar": {
              "outlinewidth": 0,
              "ticks": ""
             }
            },
            "type": "scattermapbox"
           }
          ],
          "scatterpolar": [
           {
            "marker": {
             "colorbar": {
              "outlinewidth": 0,
              "ticks": ""
             }
            },
            "type": "scatterpolar"
           }
          ],
          "scatterpolargl": [
           {
            "marker": {
             "colorbar": {
              "outlinewidth": 0,
              "ticks": ""
             }
            },
            "type": "scatterpolargl"
           }
          ],
          "scatterternary": [
           {
            "marker": {
             "colorbar": {
              "outlinewidth": 0,
              "ticks": ""
             }
            },
            "type": "scatterternary"
           }
          ],
          "surface": [
           {
            "colorbar": {
             "outlinewidth": 0,
             "ticks": ""
            },
            "colorscale": [
             [
              0,
              "#0d0887"
             ],
             [
              0.1111111111111111,
              "#46039f"
             ],
             [
              0.2222222222222222,
              "#7201a8"
             ],
             [
              0.3333333333333333,
              "#9c179e"
             ],
             [
              0.4444444444444444,
              "#bd3786"
             ],
             [
              0.5555555555555556,
              "#d8576b"
             ],
             [
              0.6666666666666666,
              "#ed7953"
             ],
             [
              0.7777777777777778,
              "#fb9f3a"
             ],
             [
              0.8888888888888888,
              "#fdca26"
             ],
             [
              1,
              "#f0f921"
             ]
            ],
            "type": "surface"
           }
          ],
          "table": [
           {
            "cells": {
             "fill": {
              "color": "#EBF0F8"
             },
             "line": {
              "color": "white"
             }
            },
            "header": {
             "fill": {
              "color": "#C8D4E3"
             },
             "line": {
              "color": "white"
             }
            },
            "type": "table"
           }
          ]
         },
         "layout": {
          "annotationdefaults": {
           "arrowcolor": "#2a3f5f",
           "arrowhead": 0,
           "arrowwidth": 1
          },
          "autotypenumbers": "strict",
          "coloraxis": {
           "colorbar": {
            "outlinewidth": 0,
            "ticks": ""
           }
          },
          "colorscale": {
           "diverging": [
            [
             0,
             "#8e0152"
            ],
            [
             0.1,
             "#c51b7d"
            ],
            [
             0.2,
             "#de77ae"
            ],
            [
             0.3,
             "#f1b6da"
            ],
            [
             0.4,
             "#fde0ef"
            ],
            [
             0.5,
             "#f7f7f7"
            ],
            [
             0.6,
             "#e6f5d0"
            ],
            [
             0.7,
             "#b8e186"
            ],
            [
             0.8,
             "#7fbc41"
            ],
            [
             0.9,
             "#4d9221"
            ],
            [
             1,
             "#276419"
            ]
           ],
           "sequential": [
            [
             0,
             "#0d0887"
            ],
            [
             0.1111111111111111,
             "#46039f"
            ],
            [
             0.2222222222222222,
             "#7201a8"
            ],
            [
             0.3333333333333333,
             "#9c179e"
            ],
            [
             0.4444444444444444,
             "#bd3786"
            ],
            [
             0.5555555555555556,
             "#d8576b"
            ],
            [
             0.6666666666666666,
             "#ed7953"
            ],
            [
             0.7777777777777778,
             "#fb9f3a"
            ],
            [
             0.8888888888888888,
             "#fdca26"
            ],
            [
             1,
             "#f0f921"
            ]
           ],
           "sequentialminus": [
            [
             0,
             "#0d0887"
            ],
            [
             0.1111111111111111,
             "#46039f"
            ],
            [
             0.2222222222222222,
             "#7201a8"
            ],
            [
             0.3333333333333333,
             "#9c179e"
            ],
            [
             0.4444444444444444,
             "#bd3786"
            ],
            [
             0.5555555555555556,
             "#d8576b"
            ],
            [
             0.6666666666666666,
             "#ed7953"
            ],
            [
             0.7777777777777778,
             "#fb9f3a"
            ],
            [
             0.8888888888888888,
             "#fdca26"
            ],
            [
             1,
             "#f0f921"
            ]
           ]
          },
          "colorway": [
           "#636efa",
           "#EF553B",
           "#00cc96",
           "#ab63fa",
           "#FFA15A",
           "#19d3f3",
           "#FF6692",
           "#B6E880",
           "#FF97FF",
           "#FECB52"
          ],
          "font": {
           "color": "#2a3f5f"
          },
          "geo": {
           "bgcolor": "white",
           "lakecolor": "white",
           "landcolor": "#E5ECF6",
           "showlakes": true,
           "showland": true,
           "subunitcolor": "white"
          },
          "hoverlabel": {
           "align": "left"
          },
          "hovermode": "closest",
          "mapbox": {
           "style": "light"
          },
          "paper_bgcolor": "white",
          "plot_bgcolor": "#E5ECF6",
          "polar": {
           "angularaxis": {
            "gridcolor": "white",
            "linecolor": "white",
            "ticks": ""
           },
           "bgcolor": "#E5ECF6",
           "radialaxis": {
            "gridcolor": "white",
            "linecolor": "white",
            "ticks": ""
           }
          },
          "scene": {
           "xaxis": {
            "backgroundcolor": "#E5ECF6",
            "gridcolor": "white",
            "gridwidth": 2,
            "linecolor": "white",
            "showbackground": true,
            "ticks": "",
            "zerolinecolor": "white"
           },
           "yaxis": {
            "backgroundcolor": "#E5ECF6",
            "gridcolor": "white",
            "gridwidth": 2,
            "linecolor": "white",
            "showbackground": true,
            "ticks": "",
            "zerolinecolor": "white"
           },
           "zaxis": {
            "backgroundcolor": "#E5ECF6",
            "gridcolor": "white",
            "gridwidth": 2,
            "linecolor": "white",
            "showbackground": true,
            "ticks": "",
            "zerolinecolor": "white"
           }
          },
          "shapedefaults": {
           "line": {
            "color": "#2a3f5f"
           }
          },
          "ternary": {
           "aaxis": {
            "gridcolor": "white",
            "linecolor": "white",
            "ticks": ""
           },
           "baxis": {
            "gridcolor": "white",
            "linecolor": "white",
            "ticks": ""
           },
           "bgcolor": "#E5ECF6",
           "caxis": {
            "gridcolor": "white",
            "linecolor": "white",
            "ticks": ""
           }
          },
          "title": {
           "x": 0.05
          },
          "xaxis": {
           "automargin": true,
           "gridcolor": "white",
           "linecolor": "white",
           "ticks": "",
           "title": {
            "standoff": 15
           },
           "zerolinecolor": "white",
           "zerolinewidth": 2
          },
          "yaxis": {
           "automargin": true,
           "gridcolor": "white",
           "linecolor": "white",
           "ticks": "",
           "title": {
            "standoff": 15
           },
           "zerolinecolor": "white",
           "zerolinewidth": 2
          }
         }
        },
        "xaxis": {
         "anchor": "y",
         "domain": [
          0,
          1
         ],
         "title": {
          "text": "HM"
         }
        },
        "yaxis": {
         "anchor": "x",
         "domain": [
          0,
          1
         ],
         "showgrid": false,
         "showticklabels": false,
         "title": {
          "text": "y"
         }
        }
       }
      }
     },
     "metadata": {},
     "output_type": "display_data"
    },
    {
     "name": "stdout",
     "output_type": "stream",
     "text": [
      "Duracao_sub_desemprego\n",
      "0     87\n",
      "1    152\n",
      "2     69\n",
      "Name: count, dtype: int64\n",
      "File saved to csv_files/6_Duracao_Desemprego.csv\n"
     ]
    }
   ],
   "source": [
    "clustered_df = aplicar_kmeans(df_duraçcao_sub_desemprego, 3, nome_cluster='Duracao_sub_desemprego')\n",
    "save_clustered_df_to_csv(clustered_df, \"csv_files/\", \"6_Duracao_Desemprego.csv\")"
   ]
  },
  {
   "cell_type": "markdown",
   "id": "3db3c7cf",
   "metadata": {},
   "source": [
    "### Rendimento Social"
   ]
  },
  {
   "cell_type": "code",
<<<<<<< HEAD
   "execution_count": 20,
=======
   "execution_count": 6,
>>>>>>> more_clusters
   "id": "f9371719",
   "metadata": {},
   "outputs": [
    {
     "data": {
      "text/html": [
       "<div>\n",
       "<style scoped>\n",
       "    .dataframe tbody tr th:only-of-type {\n",
       "        vertical-align: middle;\n",
       "    }\n",
       "\n",
       "    .dataframe tbody tr th {\n",
       "        vertical-align: top;\n",
       "    }\n",
       "\n",
       "    .dataframe thead th {\n",
       "        text-align: right;\n",
       "    }\n",
       "</style>\n",
       "<table border=\"1\" class=\"dataframe\">\n",
       "  <thead>\n",
       "    <tr style=\"text-align: right;\">\n",
       "      <th></th>\n",
       "      <th>local</th>\n",
       "      <th>codigo</th>\n",
       "      <th>Total_2022</th>\n",
       "    </tr>\n",
       "  </thead>\n",
       "  <tbody>\n",
       "    <tr>\n",
       "      <th>4</th>\n",
       "      <td>Arcos de Valdevez</td>\n",
       "      <td>1111601</td>\n",
       "      <td>9.37</td>\n",
       "    </tr>\n",
       "    <tr>\n",
       "      <th>5</th>\n",
       "      <td>Caminha</td>\n",
       "      <td>1111602</td>\n",
       "      <td>16.61</td>\n",
       "    </tr>\n",
       "    <tr>\n",
       "      <th>6</th>\n",
       "      <td>Melgaço</td>\n",
       "      <td>1111603</td>\n",
       "      <td>9.05</td>\n",
       "    </tr>\n",
       "    <tr>\n",
       "      <th>7</th>\n",
       "      <td>Monção</td>\n",
       "      <td>1111604</td>\n",
       "      <td>8.81</td>\n",
       "    </tr>\n",
       "    <tr>\n",
       "      <th>8</th>\n",
       "      <td>Paredes de Coura</td>\n",
       "      <td>1111605</td>\n",
       "      <td>9.56</td>\n",
       "    </tr>\n",
       "    <tr>\n",
       "      <th>...</th>\n",
       "      <td>...</td>\n",
       "      <td>...</td>\n",
       "      <td>...</td>\n",
       "    </tr>\n",
       "    <tr>\n",
       "      <th>339</th>\n",
       "      <td>Porto Santo</td>\n",
       "      <td>3003201</td>\n",
       "      <td>11.37</td>\n",
       "    </tr>\n",
       "    <tr>\n",
       "      <th>340</th>\n",
       "      <td>Ribeira Brava</td>\n",
       "      <td>3003107</td>\n",
       "      <td>23.84</td>\n",
       "    </tr>\n",
       "    <tr>\n",
       "      <th>341</th>\n",
       "      <td>Santa Cruz</td>\n",
       "      <td>3003108</td>\n",
       "      <td>20.58</td>\n",
       "    </tr>\n",
       "    <tr>\n",
       "      <th>342</th>\n",
       "      <td>Santana</td>\n",
       "      <td>3003109</td>\n",
       "      <td>41.08</td>\n",
       "    </tr>\n",
       "    <tr>\n",
       "      <th>343</th>\n",
       "      <td>São Vicente</td>\n",
       "      <td>3003110</td>\n",
       "      <td>21.51</td>\n",
       "    </tr>\n",
       "  </tbody>\n",
       "</table>\n",
       "<p>308 rows × 3 columns</p>\n",
       "</div>"
      ],
      "text/plain": [
       "                 local   codigo  Total_2022\n",
       "4    Arcos de Valdevez  1111601        9.37\n",
       "5              Caminha  1111602       16.61\n",
       "6              Melgaço  1111603        9.05\n",
       "7               Monção  1111604        8.81\n",
       "8     Paredes de Coura  1111605        9.56\n",
       "..                 ...      ...         ...\n",
       "339        Porto Santo  3003201       11.37\n",
       "340      Ribeira Brava  3003107       23.84\n",
       "341         Santa Cruz  3003108       20.58\n",
       "342            Santana  3003109       41.08\n",
       "343        São Vicente  3003110       21.51\n",
       "\n",
       "[308 rows x 3 columns]"
      ]
     },
<<<<<<< HEAD
     "execution_count": 20,
=======
     "execution_count": 6,
>>>>>>> more_clusters
     "metadata": {},
     "output_type": "execute_result"
    }
   ],
   "source": [
    "df_benef_rsi_1000hab = processar_ficheiro(data_path+'Beneficiários do rendimento social de inserção - 1000 habitantes em idade ativa.xls',2)\n",
    "df_benef_rsi_1000hab = carregar_municipios(df_benef_rsi_1000hab)\n",
    "'''save_clustered_df_to_csv(\n",
    "    df_benef_rsi_1000hab.rename(columns={'Total_2022': 'Beneficiários_RSI_1000_habitantes'}),\n",
    "    \"csv_bruto/\",\n",
    "    \"6_Beneficiários_RSI_1000_habitantes.csv\"\n",
    ")'''\n",
    "df_benef_rsi_1000hab\n",
    "\n",
    "\n"
   ]
  },
  {
   "cell_type": "code",
<<<<<<< HEAD
   "execution_count": 21,
=======
   "execution_count": 7,
>>>>>>> more_clusters
   "id": "d8606e27",
   "metadata": {},
   "outputs": [
    {
     "data": {
      "application/vnd.plotly.v1+json": {
       "config": {
        "plotlyServerURL": "https://plot.ly"
       },
       "data": [
        {
         "customdata": [
          [
           "Arcos de Valdevez",
           "1111601",
           9.37
          ],
          [
           "Caminha",
           "1111602",
           16.61
          ],
          [
           "Melgaço",
           "1111603",
           9.05
          ],
          [
           "Monção",
           "1111604",
           8.81
          ],
          [
           "Paredes de Coura",
           "1111605",
           9.56
          ],
          [
           "Ponte da Barca",
           "1111606",
           11.5
          ],
          [
           "Ponte de Lima",
           "1111607",
           8.19
          ],
          [
           "Valença",
           "1111608",
           22.63
          ],
          [
           "Viana do Castelo",
           "1111609",
           17.95
          ],
          [
           "Vila Nova de Cerveira",
           "1111610",
           12.68
          ],
          [
           "Amares",
           "1120301",
           12.96
          ],
          [
           "Barcelos",
           "1120302",
           5.53
          ],
          [
           "Braga",
           "1120303",
           14.02
          ],
          [
           "Esposende",
           "1120306",
           9.71
          ],
          [
           "Terras de Bouro",
           "1120310",
           9.26
          ],
          [
           "Vila Verde",
           "1120313",
           7.98
          ],
          [
           "Cabeceiras de Basto",
           "1190304",
           24.91
          ],
          [
           "Fafe",
           "1190307",
           13.22
          ],
          [
           "Guimarães",
           "1190308",
           9.81
          ],
          [
           "Mondim de Basto",
           "1191705",
           33.19
          ],
          [
           "Póvoa de Lanhoso",
           "1190309",
           10.41
          ],
          [
           "Vieira do Minho",
           "1190311",
           19.21
          ],
          [
           "Vila Nova de Famalicão",
           "1190312",
           13.33
          ],
          [
           "Vizela",
           "1190314",
           6.7
          ],
          [
           "Arouca",
           "11A0104",
           13.03
          ],
          [
           "Espinho",
           "11A0107",
           34.39
          ],
          [
           "Gondomar",
           "11A1304",
           40.85
          ],
          [
           "Maia",
           "11A1306",
           29.6
          ],
          [
           "Matosinhos",
           "11A1308",
           36.84
          ],
          [
           "Oliveira de Azeméis",
           "11A0113",
           9.99
          ],
          [
           "Paredes",
           "11A1310",
           31.61
          ],
          [
           "Porto",
           "11A1312",
           70.26
          ],
          [
           "Póvoa de Varzim",
           "11A1313",
           23.27
          ],
          [
           "Santa Maria da Feira",
           "11A0109",
           18.86
          ],
          [
           "Santo Tirso",
           "11A1314",
           21.92
          ],
          [
           "São João da Madeira",
           "11A0116",
           21.36
          ],
          [
           "Trofa",
           "11A1318",
           19.95
          ],
          [
           "Vale de Cambra",
           "11A0119",
           9.96
          ],
          [
           "Valongo",
           "11A1315",
           39.95
          ],
          [
           "Vila do Conde",
           "11A1316",
           15.68
          ],
          [
           "Vila Nova de Gaia",
           "11A1317",
           48.3
          ],
          [
           "Boticas",
           "11B1702",
           18.27
          ],
          [
           "Chaves",
           "11B1703",
           37.26
          ],
          [
           "Montalegre",
           "11B1706",
           27.58
          ],
          [
           "Ribeira de Pena",
           "11B1709",
           41.37
          ],
          [
           "Valpaços",
           "11B1712",
           43.47
          ],
          [
           "Vila Pouca de Aguiar",
           "11B1713",
           31.21
          ],
          [
           "Amarante",
           "11C1301",
           36.81
          ],
          [
           "Baião",
           "11C1302",
           45.99
          ],
          [
           "Castelo de Paiva",
           "11C0106",
           19.99
          ],
          [
           "Celorico de Basto",
           "11C0305",
           27.07
          ],
          [
           "Cinfães",
           "11C1804",
           43.31
          ],
          [
           "Felgueiras",
           "11C1303",
           18.21
          ],
          [
           "Lousada",
           "11C1305",
           17.99
          ],
          [
           "Marco de Canaveses",
           "11C1307",
           43.65
          ],
          [
           "Paços de Ferreira",
           "11C1309",
           27.09
          ],
          [
           "Penafiel",
           "11C1311",
           28.82
          ],
          [
           "Resende",
           "11C1813",
           60.75
          ],
          [
           "Alijó",
           "11D1701",
           38.86
          ],
          [
           "Armamar",
           "11D1801",
           33.32
          ],
          [
           "Carrazeda de Ansiães",
           "11D0403",
           31.24
          ],
          [
           "Freixo de Espada à Cinta",
           "11D0404",
           51.9
          ],
          [
           "Lamego",
           "11D1805",
           35.23
          ],
          [
           "Mesão Frio",
           "11D1704",
           50.04
          ],
          [
           "Moimenta da Beira",
           "11D1807",
           68.83
          ],
          [
           "Murça",
           "11D1707",
           70.89
          ],
          [
           "Penedono",
           "11D1812",
           37.07
          ],
          [
           "Peso da Régua",
           "11D1708",
           70.81
          ],
          [
           "Sabrosa",
           "11D1710",
           37.33
          ],
          [
           "Santa Marta de Penaguião",
           "11D1711",
           68.62
          ],
          [
           "São João da Pesqueira",
           "11D1815",
           13.95
          ],
          [
           "Sernancelhe",
           "11D1818",
           27.83
          ],
          [
           "Tabuaço",
           "11D1819",
           54.44
          ],
          [
           "Tarouca",
           "11D1820",
           36.24
          ],
          [
           "Torre de Moncorvo",
           "11D0409",
           22.09
          ],
          [
           "Vila Nova de Foz Côa",
           "11D0914",
           21.75
          ],
          [
           "Vila Real",
           "11D1714",
           34.74
          ],
          [
           "Alfândega da Fé",
           "11E0401",
           44.43
          ],
          [
           "Bragança",
           "11E0402",
           19.8
          ],
          [
           "Macedo de Cavaleiros",
           "11E0405",
           36.6
          ],
          [
           "Miranda do Douro",
           "11E0406",
           21.47
          ],
          [
           "Mirandela",
           "11E0407",
           30.44
          ],
          [
           "Mogadouro",
           "11E0408",
           36.75
          ],
          [
           "Vila Flor",
           "11E0410",
           20.19
          ],
          [
           "Vimioso",
           "11E0411",
           20.38
          ],
          [
           "Vinhais",
           "11E0412",
           37.36
          ],
          [
           "Alcobaça",
           "16B1001",
           14.7
          ],
          [
           "Alenquer",
           "16B1101",
           15.99
          ],
          [
           "Arruda dos Vinhos",
           "16B1102",
           12.53
          ],
          [
           "Bombarral",
           "16B1005",
           14.29
          ],
          [
           "Cadaval",
           "16B1104",
           14.73
          ],
          [
           "Caldas da Rainha",
           "16B1006",
           14.63
          ],
          [
           "Lourinhã",
           "16B1108",
           21.03
          ],
          [
           "Nazaré",
           "16B1011",
           13.14
          ],
          [
           "Óbidos",
           "16B1012",
           8.25
          ],
          [
           "Peniche",
           "16B1014",
           19.89
          ],
          [
           "Sobral de Monte Agraço",
           "16B1112",
           10.94
          ],
          [
           "Torres Vedras",
           "16B1113",
           14.72
          ],
          [
           "Águeda",
           "16D0101",
           16.23
          ],
          [
           "Albergaria-a-Velha",
           "16D0102",
           20.59
          ],
          [
           "Anadia",
           "16D0103",
           10.63
          ],
          [
           "Aveiro",
           "16D0105",
           20.87
          ],
          [
           "Estarreja",
           "16D0108",
           34.17
          ],
          [
           "Ílhavo",
           "16D0110",
           23.61
          ],
          [
           "Murtosa",
           "16D0112",
           10.6
          ],
          [
           "Oliveira do Bairro",
           "16D0114",
           20.83
          ],
          [
           "Ovar",
           "16D0115",
           25.41
          ],
          [
           "Sever do Vouga",
           "16D0117",
           10.58
          ],
          [
           "Vagos",
           "16D0118",
           16.62
          ],
          [
           "Arganil",
           "16E0601",
           16.21
          ],
          [
           "Cantanhede",
           "16E0602",
           15.99
          ],
          [
           "Coimbra",
           "16E0603",
           27.32
          ],
          [
           "Condeixa-a-Nova",
           "16E0604",
           10.16
          ],
          [
           "Figueira da Foz",
           "16E0605",
           33.96
          ],
          [
           "Góis",
           "16E0606",
           25.92
          ],
          [
           "Lousã",
           "16E0607",
           25.4
          ],
          [
           "Mealhada",
           "16E0111",
           11.65
          ],
          [
           "Mira",
           "16E0608",
           13.6
          ],
          [
           "Miranda do Corvo",
           "16E0609",
           16.23
          ],
          [
           "Montemor-o-Velho",
           "16E0610",
           11
          ],
          [
           "Mortágua",
           "16E1808",
           12.1
          ],
          [
           "Oliveira do Hospital",
           "16E0611",
           17.39
          ],
          [
           "Pampilhosa da Serra",
           "16E0612",
           24.25
          ],
          [
           "Penacova",
           "16E0613",
           13.69
          ],
          [
           "Penela",
           "16E0614",
           11.78
          ],
          [
           "Soure",
           "16E0615",
           11.57
          ],
          [
           "Tábua",
           "16E0616",
           23.54
          ],
          [
           "Vila Nova de Poiares",
           "16E0617",
           18.47
          ],
          [
           "Alvaiázere",
           "16F1002",
           19.92
          ],
          [
           "Ansião",
           "16F1003",
           21.44
          ],
          [
           "Batalha",
           "16F1004",
           13.89
          ],
          [
           "Castanheira de Pêra",
           "16F1007",
           25.67
          ],
          [
           "Figueiró dos Vinhos",
           "16F1008",
           27.11
          ],
          [
           "Leiria",
           "16F1009",
           17.25
          ],
          [
           "Marinha Grande",
           "16F1010",
           26.55
          ],
          [
           "Pedrógão Grande",
           "16F1013",
           37.5
          ],
          [
           "Pombal",
           "16F1015",
           18.64
          ],
          [
           "Porto de Mós",
           "16F1016",
           14.66
          ],
          [
           "Aguiar da Beira",
           "16G0901",
           19.74
          ],
          [
           "Carregal do Sal",
           "16G1802",
           21.95
          ],
          [
           "Castro Daire",
           "16G1803",
           30.37
          ],
          [
           "Mangualde",
           "16G1806",
           30.35
          ],
          [
           "Nelas",
           "16G1809",
           20.74
          ],
          [
           "Oliveira de Frades",
           "16G1810",
           6.4
          ],
          [
           "Penalva do Castelo",
           "16G1811",
           21.89
          ],
          [
           "Santa Comba Dão",
           "16G1814",
           21
          ],
          [
           "São Pedro do Sul",
           "16G1816",
           18.3
          ],
          [
           "Sátão",
           "16G1817",
           30.31
          ],
          [
           "Tondela",
           "16G1821",
           13.68
          ],
          [
           "Vila Nova de Paiva",
           "16G1822",
           25.53
          ],
          [
           "Viseu",
           "16G1823",
           30.09
          ],
          [
           "Vouzela",
           "16G1824",
           7.94
          ],
          [
           "Castelo Branco",
           "16H0502",
           27.36
          ],
          [
           "Idanha-a-Nova",
           "16H0505",
           59.08
          ],
          [
           "Oleiros",
           "16H0506",
           11.94
          ],
          [
           "Penamacor",
           "16H0507",
           30.92
          ],
          [
           "Proença-a-Nova",
           "16H0508",
           16.89
          ],
          [
           "Vila Velha de Ródão",
           "16H0511",
           23.69
          ],
          [
           "Abrantes",
           "16I1401",
           32.44
          ],
          [
           "Alcanena",
           "16I1402",
           15.68
          ],
          [
           "Constância",
           "16I1408",
           28.19
          ],
          [
           "Entroncamento",
           "16I1410",
           29.54
          ],
          [
           "Ferreira do Zêzere",
           "16I1411",
           15.82
          ],
          [
           "Mação",
           "16I1413",
           16.41
          ],
          [
           "Ourém",
           "16I1421",
           12.16
          ],
          [
           "Sardoal",
           "16I1417",
           29.05
          ],
          [
           "Sertã",
           "16I0509",
           20.42
          ],
          [
           "Tomar",
           "16I1418",
           25.14
          ],
          [
           "Torres Novas",
           "16I1419",
           16.41
          ],
          [
           "Vila de Rei",
           "16I0510",
           13.67
          ],
          [
           "Vila Nova da Barquinha",
           "16I1420",
           25.96
          ],
          [
           "Almeida",
           "16J0902",
           23.83
          ],
          [
           "Belmonte",
           "16J0501",
           36.23
          ],
          [
           "Celorico da Beira",
           "16J0903",
           28.84
          ],
          [
           "Covilhã",
           "16J0503",
           27.39
          ],
          [
           "Figueira de Castelo Rodrigo",
           "16J0904",
           63.28
          ],
          [
           "Fornos de Algodres",
           "16J0905",
           24.83
          ],
          [
           "Fundão",
           "16J0504",
           35.63
          ],
          [
           "Gouveia",
           "16J0906",
           31.42
          ],
          [
           "Guarda",
           "16J0907",
           30.6
          ],
          [
           "Manteigas",
           "16J0908",
           24.88
          ],
          [
           "Mêda",
           "16J0909",
           22.36
          ],
          [
           "Pinhel",
           "16J0910",
           20.12
          ],
          [
           "Sabugal",
           "16J0911",
           25.65
          ],
          [
           "Seia",
           "16J0912",
           31.29
          ],
          [
           "Trancoso",
           "16J0913",
           14.59
          ],
          [
           "Alcochete",
           "1701502",
           19.01
          ],
          [
           "Almada",
           "1701503",
           42.38
          ],
          [
           "Amadora",
           "1701115",
           32.44
          ],
          [
           "Barreiro",
           "1701504",
           43.69
          ],
          [
           "Cascais",
           "1701105",
           24.04
          ],
          [
           "Lisboa",
           "1701106",
           43.57
          ],
          [
           "Loures",
           "1701107",
           30.85
          ],
          [
           "Mafra",
           "1701109",
           11.9
          ],
          [
           "Moita",
           "1701506",
           52.05
          ],
          [
           "Montijo",
           "1701507",
           38.63
          ],
          [
           "Odivelas",
           "1701116",
           25.79
          ],
          [
           "Oeiras",
           "1701110",
           13.45
          ],
          [
           "Palmela",
           "1701508",
           15.15
          ],
          [
           "Seixal",
           "1701510",
           30.36
          ],
          [
           "Sesimbra",
           "1701511",
           27.51
          ],
          [
           "Setúbal",
           "1701512",
           35.34
          ],
          [
           "Sintra",
           "1701111",
           20.66
          ],
          [
           "Vila Franca de Xira",
           "1701114",
           21.45
          ],
          [
           "Alcácer do Sal",
           "1811501",
           14.11
          ],
          [
           "Grândola",
           "1811505",
           20.51
          ],
          [
           "Odemira",
           "1810211",
           15.43
          ],
          [
           "Santiago do Cacém",
           "1811509",
           11.61
          ],
          [
           "Sines",
           "1811513",
           30.16
          ],
          [
           "Aljustrel",
           "1840201",
           47.65
          ],
          [
           "Almodôvar",
           "1840202",
           19.43
          ],
          [
           "Alvito",
           "1840203",
           32.66
          ],
          [
           "Barrancos",
           "1840204",
           52.61
          ],
          [
           "Beja",
           "1840205",
           53.92
          ],
          [
           "Castro Verde",
           "1840206",
           20.98
          ],
          [
           "Cuba",
           "1840207",
           56.23
          ],
          [
           "Ferreira do Alentejo",
           "1840208",
           27.37
          ],
          [
           "Mértola",
           "1840209",
           27.65
          ],
          [
           "Moura",
           "1840210",
           132.55
          ],
          [
           "Ourique",
           "1840212",
           16.4
          ],
          [
           "Serpa",
           "1840213",
           61.26
          ],
          [
           "Vidigueira",
           "1840214",
           68.43
          ],
          [
           "Almeirim",
           "1851403",
           21.42
          ],
          [
           "Alpiarça",
           "1851404",
           12.63
          ],
          [
           "Azambuja",
           "1851103",
           26.44
          ],
          [
           "Benavente",
           "1851405",
           27.78
          ],
          [
           "Cartaxo",
           "1851406",
           11.05
          ],
          [
           "Chamusca",
           "1851407",
           20.56
          ],
          [
           "Coruche",
           "1851409",
           33.04
          ],
          [
           "Golegã",
           "1851412",
           18.86
          ],
          [
           "Rio Maior",
           "1851414",
           18.26
          ],
          [
           "Salvaterra de Magos",
           "1851415",
           19.41
          ],
          [
           "Santarém",
           "1851416",
           25.69
          ],
          [
           "Alter do Chão",
           "1861201",
           51.18
          ],
          [
           "Arronches",
           "1861202",
           11.74
          ],
          [
           "Avis",
           "1861203",
           65.48
          ],
          [
           "Campo Maior",
           "1861204",
           56.23
          ],
          [
           "Castelo de Vide",
           "1861205",
           14.47
          ],
          [
           "Crato",
           "1861206",
           47.41
          ],
          [
           "Elvas",
           "1861207",
           70.87
          ],
          [
           "Fronteira",
           "1861208",
           10.97
          ],
          [
           "Gavião",
           "1861209",
           23.32
          ],
          [
           "Marvão",
           "1861210",
           23.93
          ],
          [
           "Monforte",
           "1861211",
           127.62
          ],
          [
           "Nisa",
           "1861212",
           29.56
          ],
          [
           "Ponte de Sor",
           "1861213",
           25.02
          ],
          [
           "Portalegre",
           "1861214",
           20.98
          ],
          [
           "Sousel",
           "1861215",
           38.56
          ],
          [
           "Alandroal",
           "1870701",
           12.86
          ],
          [
           "Arraiolos",
           "1870702",
           6.9
          ],
          [
           "Borba",
           "1870703",
           47.65
          ],
          [
           "Estremoz",
           "1870704",
           42.04
          ],
          [
           "Évora",
           "1870705",
           24.13
          ],
          [
           "Montemor-o-Novo",
           "1870706",
           10.66
          ],
          [
           "Mora",
           "1870707",
           13.61
          ],
          [
           "Mourão",
           "1870708",
           144.74
          ],
          [
           "Portel",
           "1870709",
           28.41
          ],
          [
           "Redondo",
           "1870710",
           32.09
          ],
          [
           "Reguengos de Monsaraz",
           "1870711",
           53.9
          ],
          [
           "Vendas Novas",
           "1870712",
           19
          ],
          [
           "Viana do Alentejo",
           "1870713",
           28.96
          ],
          [
           "Vila Viçosa",
           "1870714",
           16.7
          ],
          [
           "Albufeira",
           "1500801",
           36.27
          ],
          [
           "Alcoutim",
           "1500802",
           7.74
          ],
          [
           "Aljezur",
           "1500803",
           23.69
          ],
          [
           "Castro Marim",
           "1500804",
           30.19
          ],
          [
           "Faro",
           "1500805",
           33.43
          ],
          [
           "Lagoa",
           "1500806",
           33.96
          ],
          [
           "Lagos",
           "1500807",
           24.28
          ],
          [
           "Loulé",
           "1500808",
           28.49
          ],
          [
           "Monchique",
           "1500809",
           14.28
          ],
          [
           "Olhão",
           "1500810",
           29.54
          ],
          [
           "Portimão",
           "1500811",
           45.42
          ],
          [
           "São Brás de Alportel",
           "1500812",
           21.32
          ],
          [
           "Silves",
           "1500813",
           20.53
          ],
          [
           "Tavira",
           "1500814",
           16.56
          ],
          [
           "Vila do Bispo",
           "1500815",
           13.87
          ],
          [
           "Vila Real de Santo António",
           "1500816",
           33.35
          ],
          [
           "Angra do Heroísmo",
           "2004301",
           39.71
          ],
          [
           "Calheta",
           "2004501",
           12.98
          ],
          [
           "Corvo",
           "2004901",
           29.89
          ],
          [
           "Horta",
           "2004701",
           17.12
          ],
          [
           "Lagoa",
           "2004201",
           90.1
          ],
          [
           "Lajes das Flores",
           "2004801",
           12.62
          ],
          [
           "Lajes do Pico",
           "2004601",
           11.94
          ],
          [
           "Madalena",
           "2004602",
           17.12
          ],
          [
           "Nordeste",
           "2004202",
           92.54
          ],
          [
           "Ponta Delgada",
           "2004203",
           85
          ],
          [
           "Povoação",
           "2004204",
           84.44
          ],
          [
           "Ribeira Grande",
           "2004205",
           157.1
          ],
          [
           "Santa Cruz da Graciosa",
           "2004401",
           58.71
          ],
          [
           "Santa Cruz das Flores",
           "2004802",
           17.77
          ],
          [
           "São Roque do Pico",
           "2004603",
           13.1
          ],
          [
           "Velas",
           "2004502",
           10.64
          ],
          [
           "Vila da Praia da Vitória",
           "2004302",
           47.74
          ],
          [
           "Vila do Porto",
           "2004101",
           33.67
          ],
          [
           "Vila Franca do Campo",
           "2004206",
           63.05
          ],
          [
           "Calheta",
           "3003101",
           36.52
          ],
          [
           "Câmara de Lobos",
           "3003102",
           27.49
          ],
          [
           "Funchal",
           "3003103",
           34.95
          ],
          [
           "Machico",
           "3003104",
           27.39
          ],
          [
           "Ponta do Sol",
           "3003105",
           26.97
          ],
          [
           "Porto Moniz",
           "3003106",
           19.82
          ],
          [
           "Porto Santo",
           "3003201",
           11.37
          ],
          [
           "Ribeira Brava",
           "3003107",
           23.84
          ],
          [
           "Santa Cruz",
           "3003108",
           20.58
          ],
          [
           "Santana",
           "3003109",
           41.08
          ],
          [
           "São Vicente",
           "3003110",
           21.51
          ]
         ],
         "hovertemplate": "valor=%{x}<br>y=%{y}<br>local=%{customdata[0]}<br>codigo=%{customdata[1]}<br>Total_2022=%{customdata[2]}<br>beneficiarios_rsi_por_100hab=%{marker.color}<extra></extra>",
         "legendgroup": "",
         "marker": {
          "color": {
           "bdata": "AAAAAAAAAAAAAAAAAAAAAAAAAAEAAAAAAAEBAAEAAAEAAAAAAAABAAEAAQABAQABAQAAAQAAAQAAAQEBAAEBAQEBAQEBAQAAAQEAAAEBAAEAAAEAAAEAAAAAAAAAAAAAAAAAAAAAAQAAAAAAAAAAAAABAAAAAAAAAAAAAAAAAAAAAAAAAAAAAQAAAAAAAAAAAAAAAAAAAAAAAQAAAAABAAAAAAAAAAAAAAAAAAEAAAEAAQAAAAAAAAAAAAEBAQABAAABAQAAAAAAAQAAAAAAAAABAAEBAQABAAACAAEBAAAAAAAAAQAAAAABAAEBAAEBAAAAAgAAAAEAAAEBAAAAAgAAAQAAAAEAAAABAQAAAAABAAAAAAEBAAAAAgAAAAICAgIBAAAAAQEBAQABAAAAAAAAAQA=",
           "dtype": "i1"
          },
          "coloraxis": "coloraxis",
          "size": 10,
          "symbol": "circle"
         },
         "mode": "markers",
         "name": "",
         "orientation": "v",
         "showlegend": false,
         "type": "scatter",
         "x": {
          "bdata": "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",
          "dtype": "f8"
         },
         "xaxis": "x",
         "y": {
          "bdata": "AAAAAAAAAAAAAAAAAAAAAAAAAAAAAAAAAAAAAAAAAAAAAAAAAAAAAAAAAAAAAAAAAAAAAAAAAAAAAAAAAAAAAAAAAAAAAAAAAAAAAAAAAAAAAAAAAAAAAAAAAAAAAAAAAAAAAAAAAAAAAAAAAAAAAAAAAAAAAAAAAAAAAAAAAAAAAAAAAAAAAAAAAAAAAAAAAAAAAAAAAAAAAAAAAAAAAAAAAAAAAAAAAAAAAAAAAAAAAAAAAAAAAAAAAAAAAAAAAAAAAAAAAAAAAAAAAAAAAAAAAAAAAAAAAAAAAAAAAAAAAAAAAAAAAAAAAAAAAAAAAAAAAAAAAAAAAAAAAAAAAAAAAAAAAAAAAAAAAAAAAAAAAAAAAAAAAAAAAAAAAAAAAAAAAAAAAAAAAAAAAAAAAAAAAAA=",
          "dtype": "i1"
         },
         "yaxis": "y"
        }
       ],
       "layout": {
        "coloraxis": {
         "colorbar": {
          "title": {
           "text": "beneficiarios_rsi_por_100hab"
          }
         },
         "colorscale": [
          [
           0,
           "#440154"
          ],
          [
           0.1111111111111111,
           "#482878"
          ],
          [
           0.2222222222222222,
           "#3e4989"
          ],
          [
           0.3333333333333333,
           "#31688e"
          ],
          [
           0.4444444444444444,
           "#26828e"
          ],
          [
           0.5555555555555556,
           "#1f9e89"
          ],
          [
           0.6666666666666666,
           "#35b779"
          ],
          [
           0.7777777777777778,
           "#6ece58"
          ],
          [
           0.8888888888888888,
           "#b5de2b"
          ],
          [
           1,
           "#fde725"
          ]
         ]
        },
        "height": 300,
        "legend": {
         "tracegroupgap": 0
        },
        "margin": {
         "t": 60
        },
        "template": {
         "data": {
          "bar": [
           {
            "error_x": {
             "color": "#2a3f5f"
            },
            "error_y": {
             "color": "#2a3f5f"
            },
            "marker": {
             "line": {
              "color": "#E5ECF6",
              "width": 0.5
             },
             "pattern": {
              "fillmode": "overlay",
              "size": 10,
              "solidity": 0.2
             }
            },
            "type": "bar"
           }
          ],
          "barpolar": [
           {
            "marker": {
             "line": {
              "color": "#E5ECF6",
              "width": 0.5
             },
             "pattern": {
              "fillmode": "overlay",
              "size": 10,
              "solidity": 0.2
             }
            },
            "type": "barpolar"
           }
          ],
          "carpet": [
           {
            "aaxis": {
             "endlinecolor": "#2a3f5f",
             "gridcolor": "white",
             "linecolor": "white",
             "minorgridcolor": "white",
             "startlinecolor": "#2a3f5f"
            },
            "baxis": {
             "endlinecolor": "#2a3f5f",
             "gridcolor": "white",
             "linecolor": "white",
             "minorgridcolor": "white",
             "startlinecolor": "#2a3f5f"
            },
            "type": "carpet"
           }
          ],
          "choropleth": [
           {
            "colorbar": {
             "outlinewidth": 0,
             "ticks": ""
            },
            "type": "choropleth"
           }
          ],
          "contour": [
           {
            "colorbar": {
             "outlinewidth": 0,
             "ticks": ""
            },
            "colorscale": [
             [
              0,
              "#0d0887"
             ],
             [
              0.1111111111111111,
              "#46039f"
             ],
             [
              0.2222222222222222,
              "#7201a8"
             ],
             [
              0.3333333333333333,
              "#9c179e"
             ],
             [
              0.4444444444444444,
              "#bd3786"
             ],
             [
              0.5555555555555556,
              "#d8576b"
             ],
             [
              0.6666666666666666,
              "#ed7953"
             ],
             [
              0.7777777777777778,
              "#fb9f3a"
             ],
             [
              0.8888888888888888,
              "#fdca26"
             ],
             [
              1,
              "#f0f921"
             ]
            ],
            "type": "contour"
           }
          ],
          "contourcarpet": [
           {
            "colorbar": {
             "outlinewidth": 0,
             "ticks": ""
            },
            "type": "contourcarpet"
           }
          ],
          "heatmap": [
           {
            "colorbar": {
             "outlinewidth": 0,
             "ticks": ""
            },
            "colorscale": [
             [
              0,
              "#0d0887"
             ],
             [
              0.1111111111111111,
              "#46039f"
             ],
             [
              0.2222222222222222,
              "#7201a8"
             ],
             [
              0.3333333333333333,
              "#9c179e"
             ],
             [
              0.4444444444444444,
              "#bd3786"
             ],
             [
              0.5555555555555556,
              "#d8576b"
             ],
             [
              0.6666666666666666,
              "#ed7953"
             ],
             [
              0.7777777777777778,
              "#fb9f3a"
             ],
             [
              0.8888888888888888,
              "#fdca26"
             ],
             [
              1,
              "#f0f921"
             ]
            ],
            "type": "heatmap"
           }
          ],
          "histogram": [
           {
            "marker": {
             "pattern": {
              "fillmode": "overlay",
              "size": 10,
              "solidity": 0.2
             }
            },
            "type": "histogram"
           }
          ],
          "histogram2d": [
           {
            "colorbar": {
             "outlinewidth": 0,
             "ticks": ""
            },
            "colorscale": [
             [
              0,
              "#0d0887"
             ],
             [
              0.1111111111111111,
              "#46039f"
             ],
             [
              0.2222222222222222,
              "#7201a8"
             ],
             [
              0.3333333333333333,
              "#9c179e"
             ],
             [
              0.4444444444444444,
              "#bd3786"
             ],
             [
              0.5555555555555556,
              "#d8576b"
             ],
             [
              0.6666666666666666,
              "#ed7953"
             ],
             [
              0.7777777777777778,
              "#fb9f3a"
             ],
             [
              0.8888888888888888,
              "#fdca26"
             ],
             [
              1,
              "#f0f921"
             ]
            ],
            "type": "histogram2d"
           }
          ],
          "histogram2dcontour": [
           {
            "colorbar": {
             "outlinewidth": 0,
             "ticks": ""
            },
            "colorscale": [
             [
              0,
              "#0d0887"
             ],
             [
              0.1111111111111111,
              "#46039f"
             ],
             [
              0.2222222222222222,
              "#7201a8"
             ],
             [
              0.3333333333333333,
              "#9c179e"
             ],
             [
              0.4444444444444444,
              "#bd3786"
             ],
             [
              0.5555555555555556,
              "#d8576b"
             ],
             [
              0.6666666666666666,
              "#ed7953"
             ],
             [
              0.7777777777777778,
              "#fb9f3a"
             ],
             [
              0.8888888888888888,
              "#fdca26"
             ],
             [
              1,
              "#f0f921"
             ]
            ],
            "type": "histogram2dcontour"
           }
          ],
          "mesh3d": [
           {
            "colorbar": {
             "outlinewidth": 0,
             "ticks": ""
            },
            "type": "mesh3d"
           }
          ],
          "parcoords": [
           {
            "line": {
             "colorbar": {
              "outlinewidth": 0,
              "ticks": ""
             }
            },
            "type": "parcoords"
           }
          ],
          "pie": [
           {
            "automargin": true,
            "type": "pie"
           }
          ],
          "scatter": [
           {
            "fillpattern": {
             "fillmode": "overlay",
             "size": 10,
             "solidity": 0.2
            },
            "type": "scatter"
           }
          ],
          "scatter3d": [
           {
            "line": {
             "colorbar": {
              "outlinewidth": 0,
              "ticks": ""
             }
            },
            "marker": {
             "colorbar": {
              "outlinewidth": 0,
              "ticks": ""
             }
            },
            "type": "scatter3d"
           }
          ],
          "scattercarpet": [
           {
            "marker": {
             "colorbar": {
              "outlinewidth": 0,
              "ticks": ""
             }
            },
            "type": "scattercarpet"
           }
          ],
          "scattergeo": [
           {
            "marker": {
             "colorbar": {
              "outlinewidth": 0,
              "ticks": ""
             }
            },
            "type": "scattergeo"
           }
          ],
          "scattergl": [
           {
            "marker": {
             "colorbar": {
              "outlinewidth": 0,
              "ticks": ""
             }
            },
            "type": "scattergl"
           }
          ],
          "scattermap": [
           {
            "marker": {
             "colorbar": {
              "outlinewidth": 0,
              "ticks": ""
             }
            },
            "type": "scattermap"
           }
          ],
          "scattermapbox": [
           {
            "marker": {
             "colorbar": {
              "outlinewidth": 0,
              "ticks": ""
             }
            },
            "type": "scattermapbox"
           }
          ],
          "scatterpolar": [
           {
            "marker": {
             "colorbar": {
              "outlinewidth": 0,
              "ticks": ""
             }
            },
            "type": "scatterpolar"
           }
          ],
          "scatterpolargl": [
           {
            "marker": {
             "colorbar": {
              "outlinewidth": 0,
              "ticks": ""
             }
            },
            "type": "scatterpolargl"
           }
          ],
          "scatterternary": [
           {
            "marker": {
             "colorbar": {
              "outlinewidth": 0,
              "ticks": ""
             }
            },
            "type": "scatterternary"
           }
          ],
          "surface": [
           {
            "colorbar": {
             "outlinewidth": 0,
             "ticks": ""
            },
            "colorscale": [
             [
              0,
              "#0d0887"
             ],
             [
              0.1111111111111111,
              "#46039f"
             ],
             [
              0.2222222222222222,
              "#7201a8"
             ],
             [
              0.3333333333333333,
              "#9c179e"
             ],
             [
              0.4444444444444444,
              "#bd3786"
             ],
             [
              0.5555555555555556,
              "#d8576b"
             ],
             [
              0.6666666666666666,
              "#ed7953"
             ],
             [
              0.7777777777777778,
              "#fb9f3a"
             ],
             [
              0.8888888888888888,
              "#fdca26"
             ],
             [
              1,
              "#f0f921"
             ]
            ],
            "type": "surface"
           }
          ],
          "table": [
           {
            "cells": {
             "fill": {
              "color": "#EBF0F8"
             },
             "line": {
              "color": "white"
             }
            },
            "header": {
             "fill": {
              "color": "#C8D4E3"
             },
             "line": {
              "color": "white"
             }
            },
            "type": "table"
           }
          ]
         },
         "layout": {
          "annotationdefaults": {
           "arrowcolor": "#2a3f5f",
           "arrowhead": 0,
           "arrowwidth": 1
          },
          "autotypenumbers": "strict",
          "coloraxis": {
           "colorbar": {
            "outlinewidth": 0,
            "ticks": ""
           }
          },
          "colorscale": {
           "diverging": [
            [
             0,
             "#8e0152"
            ],
            [
             0.1,
             "#c51b7d"
            ],
            [
             0.2,
             "#de77ae"
            ],
            [
             0.3,
             "#f1b6da"
            ],
            [
             0.4,
             "#fde0ef"
            ],
            [
             0.5,
             "#f7f7f7"
            ],
            [
             0.6,
             "#e6f5d0"
            ],
            [
             0.7,
             "#b8e186"
            ],
            [
             0.8,
             "#7fbc41"
            ],
            [
             0.9,
             "#4d9221"
            ],
            [
             1,
             "#276419"
            ]
           ],
           "sequential": [
            [
             0,
             "#0d0887"
            ],
            [
             0.1111111111111111,
             "#46039f"
            ],
            [
             0.2222222222222222,
             "#7201a8"
            ],
            [
             0.3333333333333333,
             "#9c179e"
            ],
            [
             0.4444444444444444,
             "#bd3786"
            ],
            [
             0.5555555555555556,
             "#d8576b"
            ],
            [
             0.6666666666666666,
             "#ed7953"
            ],
            [
             0.7777777777777778,
             "#fb9f3a"
            ],
            [
             0.8888888888888888,
             "#fdca26"
            ],
            [
             1,
             "#f0f921"
            ]
           ],
           "sequentialminus": [
            [
             0,
             "#0d0887"
            ],
            [
             0.1111111111111111,
             "#46039f"
            ],
            [
             0.2222222222222222,
             "#7201a8"
            ],
            [
             0.3333333333333333,
             "#9c179e"
            ],
            [
             0.4444444444444444,
             "#bd3786"
            ],
            [
             0.5555555555555556,
             "#d8576b"
            ],
            [
             0.6666666666666666,
             "#ed7953"
            ],
            [
             0.7777777777777778,
             "#fb9f3a"
            ],
            [
             0.8888888888888888,
             "#fdca26"
            ],
            [
             1,
             "#f0f921"
            ]
           ]
          },
          "colorway": [
           "#636efa",
           "#EF553B",
           "#00cc96",
           "#ab63fa",
           "#FFA15A",
           "#19d3f3",
           "#FF6692",
           "#B6E880",
           "#FF97FF",
           "#FECB52"
          ],
          "font": {
           "color": "#2a3f5f"
          },
          "geo": {
           "bgcolor": "white",
           "lakecolor": "white",
           "landcolor": "#E5ECF6",
           "showlakes": true,
           "showland": true,
           "subunitcolor": "white"
          },
          "hoverlabel": {
           "align": "left"
          },
          "hovermode": "closest",
          "mapbox": {
           "style": "light"
          },
          "paper_bgcolor": "white",
          "plot_bgcolor": "#E5ECF6",
          "polar": {
           "angularaxis": {
            "gridcolor": "white",
            "linecolor": "white",
            "ticks": ""
           },
           "bgcolor": "#E5ECF6",
           "radialaxis": {
            "gridcolor": "white",
            "linecolor": "white",
            "ticks": ""
           }
          },
          "scene": {
           "xaxis": {
            "backgroundcolor": "#E5ECF6",
            "gridcolor": "white",
            "gridwidth": 2,
            "linecolor": "white",
            "showbackground": true,
            "ticks": "",
            "zerolinecolor": "white"
           },
           "yaxis": {
            "backgroundcolor": "#E5ECF6",
            "gridcolor": "white",
            "gridwidth": 2,
            "linecolor": "white",
            "showbackground": true,
            "ticks": "",
            "zerolinecolor": "white"
           },
           "zaxis": {
            "backgroundcolor": "#E5ECF6",
            "gridcolor": "white",
            "gridwidth": 2,
            "linecolor": "white",
            "showbackground": true,
            "ticks": "",
            "zerolinecolor": "white"
           }
          },
          "shapedefaults": {
           "line": {
            "color": "#2a3f5f"
           }
          },
          "ternary": {
           "aaxis": {
            "gridcolor": "white",
            "linecolor": "white",
            "ticks": ""
           },
           "baxis": {
            "gridcolor": "white",
            "linecolor": "white",
            "ticks": ""
           },
           "bgcolor": "#E5ECF6",
           "caxis": {
            "gridcolor": "white",
            "linecolor": "white",
            "ticks": ""
           }
          },
          "title": {
           "x": 0.05
          },
          "xaxis": {
           "automargin": true,
           "gridcolor": "white",
           "linecolor": "white",
           "ticks": "",
           "title": {
            "standoff": 15
           },
           "zerolinecolor": "white",
           "zerolinewidth": 2
          },
          "yaxis": {
           "automargin": true,
           "gridcolor": "white",
           "linecolor": "white",
           "ticks": "",
           "title": {
            "standoff": 15
           },
           "zerolinecolor": "white",
           "zerolinewidth": 2
          }
         }
        },
        "xaxis": {
         "anchor": "y",
         "domain": [
          0,
          1
         ],
         "title": {
          "text": "Total_2022"
         }
        },
        "yaxis": {
         "anchor": "x",
         "domain": [
          0,
          1
         ],
         "showgrid": false,
         "showticklabels": false,
         "title": {
          "text": "y"
         }
        }
       }
      }
     },
     "metadata": {},
     "output_type": "display_data"
    },
    {
     "name": "stdout",
     "output_type": "stream",
     "text": [
      "beneficiarios_rsi_por_100hab\n",
      "0    222\n",
      "1     78\n",
      "2      8\n",
      "Name: count, dtype: int64\n",
      "File saved to csv_files/6_Benificiários_RSI_por_cada_1000_hab.csv\n"
     ]
    }
   ],
   "source": [
    "clustered_df = aplicar_kmeans(df_benef_rsi_1000hab, 3, nome_cluster='beneficiarios_rsi_por_100hab')\n",
    "save_clustered_df_to_csv(clustered_df, \"csv_files/\", \"6_Benificiários_RSI_por_cada_1000_hab.csv\")"
   ]
  },
  {
   "cell_type": "markdown",
   "id": "edd56d3d",
   "metadata": {},
   "source": [
    "#### Bnefeciários Abono Família "
   ]
  },
  {
   "cell_type": "code",
<<<<<<< HEAD
   "execution_count": 22,
=======
   "execution_count": 8,
>>>>>>> more_clusters
   "id": "4a887ec1",
   "metadata": {},
   "outputs": [
    {
     "data": {
      "text/html": [
       "<div>\n",
       "<style scoped>\n",
       "    .dataframe tbody tr th:only-of-type {\n",
       "        vertical-align: middle;\n",
       "    }\n",
       "\n",
       "    .dataframe tbody tr th {\n",
       "        vertical-align: top;\n",
       "    }\n",
       "\n",
       "    .dataframe thead th {\n",
       "        text-align: right;\n",
       "    }\n",
       "</style>\n",
       "<table border=\"1\" class=\"dataframe\">\n",
       "  <thead>\n",
       "    <tr style=\"text-align: right;\">\n",
       "      <th></th>\n",
       "      <th>local</th>\n",
       "      <th>codigo</th>\n",
       "      <th>Beneficiarios</th>\n",
       "    </tr>\n",
       "  </thead>\n",
       "  <tbody>\n",
       "    <tr>\n",
       "      <th>4</th>\n",
       "      <td>Arcos de Valdevez</td>\n",
       "      <td>1111601</td>\n",
       "      <td>1405.0</td>\n",
       "    </tr>\n",
       "    <tr>\n",
       "      <th>5</th>\n",
       "      <td>Caminha</td>\n",
       "      <td>1111602</td>\n",
       "      <td>1201.0</td>\n",
       "    </tr>\n",
       "    <tr>\n",
       "      <th>6</th>\n",
       "      <td>Melgaço</td>\n",
       "      <td>1111603</td>\n",
       "      <td>375.0</td>\n",
       "    </tr>\n",
       "    <tr>\n",
       "      <th>7</th>\n",
       "      <td>Monção</td>\n",
       "      <td>1111604</td>\n",
       "      <td>1266.0</td>\n",
       "    </tr>\n",
       "    <tr>\n",
       "      <th>8</th>\n",
       "      <td>Paredes de Coura</td>\n",
       "      <td>1111605</td>\n",
       "      <td>691.0</td>\n",
       "    </tr>\n",
       "    <tr>\n",
       "      <th>...</th>\n",
       "      <td>...</td>\n",
       "      <td>...</td>\n",
       "      <td>...</td>\n",
       "    </tr>\n",
       "    <tr>\n",
       "      <th>342</th>\n",
       "      <td>Ribeira Brava</td>\n",
       "      <td>3003107</td>\n",
       "      <td>1134.0</td>\n",
       "    </tr>\n",
       "    <tr>\n",
       "      <th>343</th>\n",
       "      <td>Santa Cruz</td>\n",
       "      <td>3003108</td>\n",
       "      <td>3609.0</td>\n",
       "    </tr>\n",
       "    <tr>\n",
       "      <th>344</th>\n",
       "      <td>Santana</td>\n",
       "      <td>3003109</td>\n",
       "      <td>467.0</td>\n",
       "    </tr>\n",
       "    <tr>\n",
       "      <th>345</th>\n",
       "      <td>São Vicente</td>\n",
       "      <td>3003110</td>\n",
       "      <td>319.0</td>\n",
       "    </tr>\n",
       "    <tr>\n",
       "      <th>346</th>\n",
       "      <td>Porto Santo</td>\n",
       "      <td>3003201</td>\n",
       "      <td>361.0</td>\n",
       "    </tr>\n",
       "  </tbody>\n",
       "</table>\n",
       "<p>308 rows × 3 columns</p>\n",
       "</div>"
      ],
      "text/plain": [
       "                 local   codigo  Beneficiarios\n",
       "4    Arcos de Valdevez  1111601         1405.0\n",
       "5              Caminha  1111602         1201.0\n",
       "6              Melgaço  1111603          375.0\n",
       "7               Monção  1111604         1266.0\n",
       "8     Paredes de Coura  1111605          691.0\n",
       "..                 ...      ...            ...\n",
       "342      Ribeira Brava  3003107         1134.0\n",
       "343         Santa Cruz  3003108         3609.0\n",
       "344            Santana  3003109          467.0\n",
       "345        São Vicente  3003110          319.0\n",
       "346        Porto Santo  3003201          361.0\n",
       "\n",
       "[308 rows x 3 columns]"
      ]
     },
<<<<<<< HEAD
     "execution_count": 22,
=======
     "execution_count": 8,
>>>>>>> more_clusters
     "metadata": {},
     "output_type": "execute_result"
    }
   ],
   "source": [
    "df_ben_abono_fam = processar_ficheiro(data_path+'Beneficiários do abono de família para crianças e jovens da segurança social.xls',0)\n",
    "df_ben_abono_fam = carregar_municipios(df_ben_abono_fam)\n",
    "#save_clustered_df_to_csv(df_ben_abono_fam.rename(columns={'Beneficiarios': 'Beneficiários_Abono_Familia'}),\"csv_bruto/\", \"6_Beneficiários_Abono_Familia.csv\")\n",
    "df_ben_abono_fam\n"
   ]
  },
  {
   "cell_type": "code",
<<<<<<< HEAD
   "execution_count": 23,
=======
   "execution_count": 9,
>>>>>>> more_clusters
   "id": "b0191c1f",
   "metadata": {},
   "outputs": [
    {
     "data": {
      "application/vnd.plotly.v1+json": {
       "config": {
        "plotlyServerURL": "https://plot.ly"
       },
       "data": [
        {
         "customdata": [
          [
           "Arcos de Valdevez",
           "1111601",
           1405
          ],
          [
           "Caminha",
           "1111602",
           1201
          ],
          [
           "Melgaço",
           "1111603",
           375
          ],
          [
           "Monção",
           "1111604",
           1266
          ],
          [
           "Paredes de Coura",
           "1111605",
           691
          ],
          [
           "Ponte da Barca",
           "1111606",
           845
          ],
          [
           "Ponte de Lima",
           "1111607",
           3419
          ],
          [
           "Valença",
           "1111608",
           1179
          ],
          [
           "Viana do Castelo",
           "1111609",
           6146
          ],
          [
           "Vila Nova de Cerveira",
           "1111610",
           727
          ],
          [
           "Amares",
           "1120301",
           1603
          ],
          [
           "Barcelos",
           "1120302",
           9323
          ],
          [
           "Braga",
           "1120303",
           13540
          ],
          [
           "Esposende",
           "1120306",
           2836
          ],
          [
           "Terras de Bouro",
           "1120310",
           468
          ],
          [
           "Vila Verde",
           "1120313",
           4145
          ],
          [
           "Cabeceiras de Basto",
           "1190304",
           1479
          ],
          [
           "Fafe",
           "1190307",
           4075
          ],
          [
           "Guimarães",
           "1190308",
           12093
          ],
          [
           "Mondim de Basto",
           "1191705",
           512
          ],
          [
           "Póvoa de Lanhoso",
           "1190309",
           1740
          ],
          [
           "Vieira do Minho",
           "1190311",
           834
          ],
          [
           "Vila Nova de Famalicão",
           "1190312",
           10051
          ],
          [
           "Vizela",
           "1190314",
           2244
          ],
          [
           "Arouca",
           "11A0104",
           1782
          ],
          [
           "Espinho",
           "11A0107",
           2165
          ],
          [
           "Gondomar",
           "11A1304",
           13542
          ],
          [
           "Maia",
           "11A1306",
           9430
          ],
          [
           "Matosinhos",
           "11A1308",
           11639
          ],
          [
           "Oliveira de Azeméis",
           "11A0113",
           4680
          ],
          [
           "Paredes",
           "11A1310",
           8660
          ],
          [
           "Porto",
           "11A1312",
           13622
          ],
          [
           "Póvoa de Varzim",
           "11A1313",
           5577
          ],
          [
           "Santa Maria da Feira",
           "11A0109",
           10804
          ],
          [
           "Santo Tirso",
           "11A1314",
           4743
          ],
          [
           "São João da Madeira",
           "11A0116",
           1723
          ],
          [
           "Trofa",
           "11A1318",
           3062
          ],
          [
           "Vale de Cambra",
           "11A0119",
           1327
          ],
          [
           "Valongo",
           "11A1315",
           8082
          ],
          [
           "Vila do Conde",
           "11A1316",
           6411
          ],
          [
           "Vila Nova de Gaia",
           "11A1317",
           23436
          ],
          [
           "Boticas",
           "11B1702",
           301
          ],
          [
           "Chaves",
           "11B1703",
           2695
          ],
          [
           "Montalegre",
           "11B1706",
           527
          ],
          [
           "Ribeira de Pena",
           "11B1709",
           431
          ],
          [
           "Valpaços",
           "11B1712",
           1018
          ],
          [
           "Vila Pouca de Aguiar",
           "11B1713",
           741
          ],
          [
           "Amarante",
           "11C1301",
           4642
          ],
          [
           "Baião",
           "11C1302",
           1576
          ],
          [
           "Castelo de Paiva",
           "11C0106",
           1411
          ],
          [
           "Celorico de Basto",
           "11C0305",
           1445
          ],
          [
           "Cinfães",
           "11C1804",
           1635
          ],
          [
           "Felgueiras",
           "11C1303",
           5205
          ],
          [
           "Lousada",
           "11C1305",
           5065
          ],
          [
           "Marco de Canaveses",
           "11C1307",
           4867
          ],
          [
           "Paços de Ferreira",
           "11C1309",
           5778
          ],
          [
           "Penafiel",
           "11C1311",
           6787
          ],
          [
           "Resende",
           "11C1813",
           904
          ],
          [
           "Alijó",
           "11D1701",
           739
          ],
          [
           "Armamar",
           "11D1801",
           407
          ],
          [
           "Carrazeda de Ansiães",
           "11D0403",
           392
          ],
          [
           "Freixo de Espada à Cinta",
           "11D0404",
           243
          ],
          [
           "Lamego",
           "11D1805",
           1880
          ],
          [
           "Mesão Frio",
           "11D1704",
           284
          ],
          [
           "Moimenta da Beira",
           "11D1807",
           821
          ],
          [
           "Murça",
           "11D1707",
           368
          ],
          [
           "Penedono",
           "11D1812",
           176
          ],
          [
           "Peso da Régua",
           "11D1708",
           1148
          ],
          [
           "Sabrosa",
           "11D1710",
           408
          ],
          [
           "Santa Marta de Penaguião",
           "11D1711",
           412
          ],
          [
           "São João da Pesqueira",
           "11D1815",
           539
          ],
          [
           "Sernancelhe",
           "11D1818",
           348
          ],
          [
           "Tabuaço",
           "11D1819",
           358
          ],
          [
           "Tarouca",
           "11D1820",
           637
          ],
          [
           "Torre de Moncorvo",
           "11D0409",
           411
          ],
          [
           "Vila Nova de Foz Côa",
           "11D0914",
           374
          ],
          [
           "Vila Real",
           "11D1714",
           3520
          ],
          [
           "Alfândega da Fé",
           "11E0401",
           294
          ],
          [
           "Bragança",
           "11E0402",
           3476
          ],
          [
           "Macedo de Cavaleiros",
           "11E0405",
           1019
          ],
          [
           "Miranda do Douro",
           "11E0406",
           385
          ],
          [
           "Mirandela",
           "11E0407",
           1815
          ],
          [
           "Mogadouro",
           "11E0408",
           533
          ],
          [
           "Vila Flor",
           "11E0410",
           475
          ],
          [
           "Vimioso",
           "11E0411",
           244
          ],
          [
           "Vinhais",
           "11E0412",
           414
          ],
          [
           "Águeda",
           "1910101",
           3558
          ],
          [
           "Albergaria-a-Velha",
           "1910102",
           1888
          ],
          [
           "Anadia",
           "1910103",
           1905
          ],
          [
           "Aveiro",
           "1910105",
           5528
          ],
          [
           "Estarreja",
           "1910108",
           2103
          ],
          [
           "Ílhavo",
           "1910110",
           3035
          ],
          [
           "Murtosa",
           "1910112",
           920
          ],
          [
           "Oliveira do Bairro",
           "1910114",
           2005
          ],
          [
           "Ovar",
           "1910115",
           4076
          ],
          [
           "Sever do Vouga",
           "1910117",
           698
          ],
          [
           "Vagos",
           "1910118",
           1962
          ],
          [
           "Arganil",
           "1920601",
           806
          ],
          [
           "Cantanhede",
           "1920602",
           2202
          ],
          [
           "Coimbra",
           "1920603",
           7991
          ],
          [
           "Condeixa-a-Nova",
           "1920604",
           1069
          ],
          [
           "Figueira da Foz",
           "1920605",
           4073
          ],
          [
           "Góis",
           "1920606",
           232
          ],
          [
           "Lousã",
           "1920607",
           1361
          ],
          [
           "Mealhada",
           "1920111",
           1254
          ],
          [
           "Mira",
           "1920608",
           797
          ],
          [
           "Miranda do Corvo",
           "1920609",
           801
          ],
          [
           "Montemor-o-Velho",
           "1920610",
           1568
          ],
          [
           "Mortágua",
           "1921808",
           580
          ],
          [
           "Oliveira do Hospital",
           "1920611",
           1528
          ],
          [
           "Pampilhosa da Serra",
           "1920612",
           178
          ],
          [
           "Penacova",
           "1920613",
           793
          ],
          [
           "Penela",
           "1920614",
           332
          ],
          [
           "Soure",
           "1920615",
           960
          ],
          [
           "Tábua",
           "1920616",
           910
          ],
          [
           "Vila Nova de Poiares",
           "1920617",
           553
          ],
          [
           "Alvaiázere",
           "1931002",
           398
          ],
          [
           "Ansião",
           "1931003",
           770
          ],
          [
           "Batalha",
           "1931004",
           1200
          ],
          [
           "Castanheira de Pêra",
           "1931007",
           163
          ],
          [
           "Figueiró dos Vinhos",
           "1931008",
           341
          ],
          [
           "Leiria",
           "1931009",
           9370
          ],
          [
           "Marinha Grande",
           "1931010",
           3224
          ],
          [
           "Pedrógão Grande",
           "1931013",
           245
          ],
          [
           "Pombal",
           "1931015",
           3579
          ],
          [
           "Porto de Mós",
           "1931016",
           1765
          ],
          [
           "Aguiar da Beira",
           "1940901",
           287
          ],
          [
           "Carregal do Sal",
           "1941802",
           726
          ],
          [
           "Castro Daire",
           "1941803",
           1069
          ],
          [
           "Mangualde",
           "1941806",
           1419
          ],
          [
           "Nelas",
           "1941809",
           921
          ],
          [
           "Oliveira de Frades",
           "1941810",
           771
          ],
          [
           "Penalva do Castelo",
           "1941811",
           495
          ],
          [
           "Santa Comba Dão",
           "1941814",
           760
          ],
          [
           "São Pedro do Sul",
           "1941816",
           1142
          ],
          [
           "Sátão",
           "1941817",
           814
          ],
          [
           "Tondela",
           "1941821",
           1741
          ],
          [
           "Vila Nova de Paiva",
           "1941822",
           299
          ],
          [
           "Viseu",
           "1941823",
           7801
          ],
          [
           "Vouzela",
           "1941824",
           688
          ],
          [
           "Castelo Branco",
           "1950502",
           4045
          ],
          [
           "Idanha-a-Nova",
           "1950505",
           558
          ],
          [
           "Oleiros",
           "1950506",
           189
          ],
          [
           "Penamacor",
           "1950507",
           242
          ],
          [
           "Proença-a-Nova",
           "1950508",
           389
          ],
          [
           "Sertã",
           "1950509",
           1130
          ],
          [
           "Vila de Rei",
           "1950510",
           239
          ],
          [
           "Vila Velha de Ródão",
           "1950511",
           227
          ],
          [
           "Almeida",
           "1960902",
           266
          ],
          [
           "Belmonte",
           "1960501",
           463
          ],
          [
           "Celorico da Beira",
           "1960903",
           446
          ],
          [
           "Covilhã",
           "1960503",
           3492
          ],
          [
           "Figueira de Castelo Rodrigo",
           "1960904",
           367
          ],
          [
           "Fornos de Algodres",
           "1960905",
           290
          ],
          [
           "Fundão",
           "1960504",
           1946
          ],
          [
           "Gouveia",
           "1960906",
           775
          ],
          [
           "Guarda",
           "1960907",
           2692
          ],
          [
           "Manteigas",
           "1960908",
           189
          ],
          [
           "Mêda",
           "1960909",
           301
          ],
          [
           "Pinhel",
           "1960910",
           501
          ],
          [
           "Sabugal",
           "1960911",
           569
          ],
          [
           "Seia",
           "1960912",
           1438
          ],
          [
           "Trancoso",
           "1960913",
           540
          ],
          [
           "Alcobaça",
           "1D11001",
           4296
          ],
          [
           "Alenquer",
           "1D11101",
           4107
          ],
          [
           "Arruda dos Vinhos",
           "1D11102",
           1093
          ],
          [
           "Bombarral",
           "1D11005",
           1061
          ],
          [
           "Cadaval",
           "1D11104",
           1013
          ],
          [
           "Caldas da Rainha",
           "1D11006",
           4104
          ],
          [
           "Lourinhã",
           "1D11108",
           2446
          ],
          [
           "Nazaré",
           "1D11011",
           1245
          ],
          [
           "Óbidos",
           "1D11012",
           917
          ],
          [
           "Peniche",
           "1D11014",
           2360
          ],
          [
           "Sobral de Monte Agraço",
           "1D11112",
           942
          ],
          [
           "Torres Vedras",
           "1D11113",
           6916
          ],
          [
           "Abrantes",
           "1D21401",
           2507
          ],
          [
           "Alcanena",
           "1D21402",
           1042
          ],
          [
           "Constância",
           "1D21408",
           294
          ],
          [
           "Entroncamento",
           "1D21410",
           1940
          ],
          [
           "Ferreira do Zêzere",
           "1D21411",
           589
          ],
          [
           "Mação",
           "1D21413",
           345
          ],
          [
           "Ourém",
           "1D21421",
           3650
          ],
          [
           "Sardoal",
           "1D21417",
           239
          ],
          [
           "Tomar",
           "1D21418",
           2581
          ],
          [
           "Torres Novas",
           "1D21419",
           2581
          ],
          [
           "Vila Nova da Barquinha",
           "1D21420",
           530
          ],
          [
           "Almeirim",
           "1D31403",
           2094
          ],
          [
           "Alpiarça",
           "1D31404",
           637
          ],
          [
           "Azambuja",
           "1D31103",
           1825
          ],
          [
           "Benavente",
           "1D31405",
           2943
          ],
          [
           "Cartaxo",
           "1D31406",
           1947
          ],
          [
           "Chamusca",
           "1D31407",
           685
          ],
          [
           "Coruche",
           "1D31409",
           1216
          ],
          [
           "Golegã",
           "1D31412",
           435
          ],
          [
           "Rio Maior",
           "1D31414",
           2063
          ],
          [
           "Salvaterra de Magos",
           "1D31415",
           1917
          ],
          [
           "Santarém",
           "1D31416",
           4818
          ],
          [
           "Amadora",
           "1A01115",
           15693
          ],
          [
           "Cascais",
           "1A01105",
           13789
          ],
          [
           "Lisboa",
           "1A01106",
           30188
          ],
          [
           "Loures",
           "1A01107",
           17582
          ],
          [
           "Mafra",
           "1A01109",
           6954
          ],
          [
           "Odivelas",
           "1A01116",
           12681
          ],
          [
           "Oeiras",
           "1A01110",
           9212
          ],
          [
           "Sintra",
           "1A01111",
           36780
          ],
          [
           "Vila Franca de Xira",
           "1A01114",
           11446
          ],
          [
           "Alcochete",
           "1B01502",
           1243
          ],
          [
           "Almada",
           "1B01503",
           14146
          ],
          [
           "Barreiro",
           "1B01504",
           6667
          ],
          [
           "Moita",
           "1B01506",
           6917
          ],
          [
           "Montijo",
           "1B01507",
           4960
          ],
          [
           "Palmela",
           "1B01508",
           5476
          ],
          [
           "Seixal",
           "1B01510",
           14624
          ],
          [
           "Sesimbra",
           "1B01511",
           4699
          ],
          [
           "Setúbal",
           "1B01512",
           10481
          ],
          [
           "Alcácer do Sal",
           "1C11501",
           805
          ],
          [
           "Grândola",
           "1C11505",
           1136
          ],
          [
           "Odemira",
           "1C10211",
           2314
          ],
          [
           "Santiago do Cacém",
           "1C11509",
           1849
          ],
          [
           "Sines",
           "1C11513",
           1154
          ],
          [
           "Aljustrel",
           "1C20201",
           592
          ],
          [
           "Almodôvar",
           "1C20202",
           356
          ],
          [
           "Alvito",
           "1C20203",
           204
          ],
          [
           "Barrancos",
           "1C20204",
           127
          ],
          [
           "Beja",
           "1C20205",
           2821
          ],
          [
           "Castro Verde",
           "1C20206",
           375
          ],
          [
           "Cuba",
           "1C20207",
           353
          ],
          [
           "Ferreira do Alentejo",
           "1C20208",
           602
          ],
          [
           "Mértola",
           "1C20209",
           362
          ],
          [
           "Moura",
           "1C20210",
           1335
          ],
          [
           "Ourique",
           "1C20212",
           323
          ],
          [
           "Serpa",
           "1C20213",
           1151
          ],
          [
           "Vidigueira",
           "1C20214",
           482
          ],
          [
           "Alter do Chão",
           "1C31201",
           278
          ],
          [
           "Arronches",
           "1C31202",
           202
          ],
          [
           "Avis",
           "1C31203",
           309
          ],
          [
           "Campo Maior",
           "1C31204",
           840
          ],
          [
           "Castelo de Vide",
           "1C31205",
           202
          ],
          [
           "Crato",
           "1C31206",
           243
          ],
          [
           "Elvas",
           "1C31207",
           2110
          ],
          [
           "Fronteira",
           "1C31208",
           234
          ],
          [
           "Gavião",
           "1C31209",
           219
          ],
          [
           "Marvão",
           "1C31210",
           193
          ],
          [
           "Monforte",
           "1C31211",
           269
          ],
          [
           "Nisa",
           "1C31212",
           351
          ],
          [
           "Ponte de Sor",
           "1C31213",
           1356
          ],
          [
           "Portalegre",
           "1C31214",
           1927
          ],
          [
           "Sousel",
           "1C31215",
           347
          ],
          [
           "Alandroal",
           "1C40701",
           356
          ],
          [
           "Arraiolos",
           "1C40702",
           493
          ],
          [
           "Borba",
           "1C40703",
           527
          ],
          [
           "Estremoz",
           "1C40704",
           971
          ],
          [
           "Évora",
           "1C40705",
           4207
          ],
          [
           "Montemor-o-Novo",
           "1C40706",
           1164
          ],
          [
           "Mora",
           "1C40707",
           276
          ],
          [
           "Mourão",
           "1C40708",
           226
          ],
          [
           "Portel",
           "1C40709",
           476
          ],
          [
           "Redondo",
           "1C40710",
           572
          ],
          [
           "Reguengos de Monsaraz",
           "1C40711",
           874
          ],
          [
           "Vendas Novas",
           "1C40712",
           889
          ],
          [
           "Viana do Alentejo",
           "1C40713",
           471
          ],
          [
           "Vila Viçosa",
           "1C40714",
           566
          ],
          [
           "Albufeira",
           "1500801",
           5031
          ],
          [
           "Alcoutim",
           "1500802",
           128
          ],
          [
           "Aljezur",
           "1500803",
           539
          ],
          [
           "Castro Marim",
           "1500804",
           524
          ],
          [
           "Faro",
           "1500805",
           5768
          ],
          [
           "Lagoa",
           "1500806",
           2323
          ],
          [
           "Lagos",
           "1500807",
           3003
          ],
          [
           "Loulé",
           "1500808",
           7149
          ],
          [
           "Monchique",
           "1500809",
           384
          ],
          [
           "Olhão",
           "1500810",
           4475
          ],
          [
           "Portimão",
           "1500811",
           6468
          ],
          [
           "São Brás de Alportel",
           "1500812",
           955
          ],
          [
           "Silves",
           "1500813",
           3794
          ],
          [
           "Tavira",
           "1500814",
           2241
          ],
          [
           "Vila do Bispo",
           "1500815",
           474
          ],
          [
           "Vila Real de Santo António",
           "1500816",
           1935
          ],
          [
           "Angra do Heroísmo",
           "2004301",
           2700
          ],
          [
           "Calheta (R.A.A.)",
           "2004501",
           265
          ],
          [
           "Corvo",
           "2004901",
           26
          ],
          [
           "Horta",
           "2004701",
           1062
          ],
          [
           "Lagoa (R.A.A.)",
           "2004201",
           1621
          ],
          [
           "Lajes das Flores",
           "2004801",
           91
          ],
          [
           "Lajes do Pico",
           "2004601",
           340
          ],
          [
           "Madalena",
           "2004602",
           538
          ],
          [
           "Nordeste",
           "2004202",
           444
          ],
          [
           "Ponta Delgada",
           "2004203",
           6014
          ],
          [
           "Povoação",
           "2004204",
           569
          ],
          [
           "Ribeira Grande",
           "2004205",
           4099
          ],
          [
           "Santa Cruz da Graciosa",
           "2004401",
           336
          ],
          [
           "Santa Cruz das Flores",
           "2004802",
           140
          ],
          [
           "São Roque do Pico",
           "2004603",
           261
          ],
          [
           "Velas",
           "2004502",
           393
          ],
          [
           "Vila da Praia da Vitória",
           "2004302",
           1492
          ],
          [
           "Vila do Porto",
           "2004101",
           462
          ],
          [
           "Vila Franca do Campo",
           "2004206",
           1113
          ],
          [
           "Calheta (R.A.M.)",
           "3003101",
           822
          ],
          [
           "Câmara de Lobos",
           "3003102",
           3344
          ],
          [
           "Funchal",
           "3003103",
           7079
          ],
          [
           "Machico",
           "3003104",
           1514
          ],
          [
           "Ponta do Sol",
           "3003105",
           730
          ],
          [
           "Porto Moniz",
           "3003106",
           167
          ],
          [
           "Ribeira Brava",
           "3003107",
           1134
          ],
          [
           "Santa Cruz",
           "3003108",
           3609
          ],
          [
           "Santana",
           "3003109",
           467
          ],
          [
           "São Vicente",
           "3003110",
           319
          ],
          [
           "Porto Santo",
           "3003201",
           361
          ]
         ],
         "hovertemplate": "valor=%{x}<br>y=%{y}<br>local=%{customdata[0]}<br>codigo=%{customdata[1]}<br>Beneficiarios=%{customdata[2]}<br>beneficiarios_abono_familia=%{marker.color}<extra></extra>",
         "legendgroup": "",
         "marker": {
          "color": {
           "bdata": "AAAAAAAAAAABAAABAQAAAAAAAQAAAAEAAAABAQEAAQEBAQAAAAABAQIAAAAAAAAAAAAAAAAAAAEBAAAAAAAAAAAAAAAAAAAAAAAAAAAAAAAAAAAAAAAAAAABAAAAAAAAAAAAAQAAAAAAAAAAAAAAAAAAAAAAAAAAAAEAAAAAAAAAAAAAAAAAAAAAAQAAAAAAAAAAAAAAAAAAAAAAAAAAAAAAAAAAAAAAAAAAAAAAAQAAAAAAAAAAAAAAAAAAAAAAAAAAAAABAQIBAQEBAgEAAQEBAAEBAAEAAAAAAAAAAAAAAAAAAAAAAAAAAAAAAAAAAAAAAAAAAAAAAAAAAAAAAAAAAAAAAAAAAAABAAABAAABAAAAAAAAAAAAAAAAAAABAAAAAAAAAAAAAAABAAAAAAAAAAA=",
           "dtype": "i1"
          },
          "coloraxis": "coloraxis",
          "size": 10,
          "symbol": "circle"
         },
         "mode": "markers",
         "name": "",
         "orientation": "v",
         "showlegend": false,
         "type": "scatter",
         "x": {
          "bdata": "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",
          "dtype": "f8"
         },
         "xaxis": "x",
         "y": {
          "bdata": "AAAAAAAAAAAAAAAAAAAAAAAAAAAAAAAAAAAAAAAAAAAAAAAAAAAAAAAAAAAAAAAAAAAAAAAAAAAAAAAAAAAAAAAAAAAAAAAAAAAAAAAAAAAAAAAAAAAAAAAAAAAAAAAAAAAAAAAAAAAAAAAAAAAAAAAAAAAAAAAAAAAAAAAAAAAAAAAAAAAAAAAAAAAAAAAAAAAAAAAAAAAAAAAAAAAAAAAAAAAAAAAAAAAAAAAAAAAAAAAAAAAAAAAAAAAAAAAAAAAAAAAAAAAAAAAAAAAAAAAAAAAAAAAAAAAAAAAAAAAAAAAAAAAAAAAAAAAAAAAAAAAAAAAAAAAAAAAAAAAAAAAAAAAAAAAAAAAAAAAAAAAAAAAAAAAAAAAAAAAAAAAAAAAAAAAAAAAAAAAAAAAAAAAAAAA=",
          "dtype": "i1"
         },
         "yaxis": "y"
        }
       ],
       "layout": {
        "coloraxis": {
         "colorbar": {
          "title": {
           "text": "beneficiarios_abono_familia"
          }
         },
         "colorscale": [
          [
           0,
           "#440154"
          ],
          [
           0.1111111111111111,
           "#482878"
          ],
          [
           0.2222222222222222,
           "#3e4989"
          ],
          [
           0.3333333333333333,
           "#31688e"
          ],
          [
           0.4444444444444444,
           "#26828e"
          ],
          [
           0.5555555555555556,
           "#1f9e89"
          ],
          [
           0.6666666666666666,
           "#35b779"
          ],
          [
           0.7777777777777778,
           "#6ece58"
          ],
          [
           0.8888888888888888,
           "#b5de2b"
          ],
          [
           1,
           "#fde725"
          ]
         ]
        },
        "height": 300,
        "legend": {
         "tracegroupgap": 0
        },
        "margin": {
         "t": 60
        },
        "template": {
         "data": {
          "bar": [
           {
            "error_x": {
             "color": "#2a3f5f"
            },
            "error_y": {
             "color": "#2a3f5f"
            },
            "marker": {
             "line": {
              "color": "#E5ECF6",
              "width": 0.5
             },
             "pattern": {
              "fillmode": "overlay",
              "size": 10,
              "solidity": 0.2
             }
            },
            "type": "bar"
           }
          ],
          "barpolar": [
           {
            "marker": {
             "line": {
              "color": "#E5ECF6",
              "width": 0.5
             },
             "pattern": {
              "fillmode": "overlay",
              "size": 10,
              "solidity": 0.2
             }
            },
            "type": "barpolar"
           }
          ],
          "carpet": [
           {
            "aaxis": {
             "endlinecolor": "#2a3f5f",
             "gridcolor": "white",
             "linecolor": "white",
             "minorgridcolor": "white",
             "startlinecolor": "#2a3f5f"
            },
            "baxis": {
             "endlinecolor": "#2a3f5f",
             "gridcolor": "white",
             "linecolor": "white",
             "minorgridcolor": "white",
             "startlinecolor": "#2a3f5f"
            },
            "type": "carpet"
           }
          ],
          "choropleth": [
           {
            "colorbar": {
             "outlinewidth": 0,
             "ticks": ""
            },
            "type": "choropleth"
           }
          ],
          "contour": [
           {
            "colorbar": {
             "outlinewidth": 0,
             "ticks": ""
            },
            "colorscale": [
             [
              0,
              "#0d0887"
             ],
             [
              0.1111111111111111,
              "#46039f"
             ],
             [
              0.2222222222222222,
              "#7201a8"
             ],
             [
              0.3333333333333333,
              "#9c179e"
             ],
             [
              0.4444444444444444,
              "#bd3786"
             ],
             [
              0.5555555555555556,
              "#d8576b"
             ],
             [
              0.6666666666666666,
              "#ed7953"
             ],
             [
              0.7777777777777778,
              "#fb9f3a"
             ],
             [
              0.8888888888888888,
              "#fdca26"
             ],
             [
              1,
              "#f0f921"
             ]
            ],
            "type": "contour"
           }
          ],
          "contourcarpet": [
           {
            "colorbar": {
             "outlinewidth": 0,
             "ticks": ""
            },
            "type": "contourcarpet"
           }
          ],
          "heatmap": [
           {
            "colorbar": {
             "outlinewidth": 0,
             "ticks": ""
            },
            "colorscale": [
             [
              0,
              "#0d0887"
             ],
             [
              0.1111111111111111,
              "#46039f"
             ],
             [
              0.2222222222222222,
              "#7201a8"
             ],
             [
              0.3333333333333333,
              "#9c179e"
             ],
             [
              0.4444444444444444,
              "#bd3786"
             ],
             [
              0.5555555555555556,
              "#d8576b"
             ],
             [
              0.6666666666666666,
              "#ed7953"
             ],
             [
              0.7777777777777778,
              "#fb9f3a"
             ],
             [
              0.8888888888888888,
              "#fdca26"
             ],
             [
              1,
              "#f0f921"
             ]
            ],
            "type": "heatmap"
           }
          ],
          "histogram": [
           {
            "marker": {
             "pattern": {
              "fillmode": "overlay",
              "size": 10,
              "solidity": 0.2
             }
            },
            "type": "histogram"
           }
          ],
          "histogram2d": [
           {
            "colorbar": {
             "outlinewidth": 0,
             "ticks": ""
            },
            "colorscale": [
             [
              0,
              "#0d0887"
             ],
             [
              0.1111111111111111,
              "#46039f"
             ],
             [
              0.2222222222222222,
              "#7201a8"
             ],
             [
              0.3333333333333333,
              "#9c179e"
             ],
             [
              0.4444444444444444,
              "#bd3786"
             ],
             [
              0.5555555555555556,
              "#d8576b"
             ],
             [
              0.6666666666666666,
              "#ed7953"
             ],
             [
              0.7777777777777778,
              "#fb9f3a"
             ],
             [
              0.8888888888888888,
              "#fdca26"
             ],
             [
              1,
              "#f0f921"
             ]
            ],
            "type": "histogram2d"
           }
          ],
          "histogram2dcontour": [
           {
            "colorbar": {
             "outlinewidth": 0,
             "ticks": ""
            },
            "colorscale": [
             [
              0,
              "#0d0887"
             ],
             [
              0.1111111111111111,
              "#46039f"
             ],
             [
              0.2222222222222222,
              "#7201a8"
             ],
             [
              0.3333333333333333,
              "#9c179e"
             ],
             [
              0.4444444444444444,
              "#bd3786"
             ],
             [
              0.5555555555555556,
              "#d8576b"
             ],
             [
              0.6666666666666666,
              "#ed7953"
             ],
             [
              0.7777777777777778,
              "#fb9f3a"
             ],
             [
              0.8888888888888888,
              "#fdca26"
             ],
             [
              1,
              "#f0f921"
             ]
            ],
            "type": "histogram2dcontour"
           }
          ],
          "mesh3d": [
           {
            "colorbar": {
             "outlinewidth": 0,
             "ticks": ""
            },
            "type": "mesh3d"
           }
          ],
          "parcoords": [
           {
            "line": {
             "colorbar": {
              "outlinewidth": 0,
              "ticks": ""
             }
            },
            "type": "parcoords"
           }
          ],
          "pie": [
           {
            "automargin": true,
            "type": "pie"
           }
          ],
          "scatter": [
           {
            "fillpattern": {
             "fillmode": "overlay",
             "size": 10,
             "solidity": 0.2
            },
            "type": "scatter"
           }
          ],
          "scatter3d": [
           {
            "line": {
             "colorbar": {
              "outlinewidth": 0,
              "ticks": ""
             }
            },
            "marker": {
             "colorbar": {
              "outlinewidth": 0,
              "ticks": ""
             }
            },
            "type": "scatter3d"
           }
          ],
          "scattercarpet": [
           {
            "marker": {
             "colorbar": {
              "outlinewidth": 0,
              "ticks": ""
             }
            },
            "type": "scattercarpet"
           }
          ],
          "scattergeo": [
           {
            "marker": {
             "colorbar": {
              "outlinewidth": 0,
              "ticks": ""
             }
            },
            "type": "scattergeo"
           }
          ],
          "scattergl": [
           {
            "marker": {
             "colorbar": {
              "outlinewidth": 0,
              "ticks": ""
             }
            },
            "type": "scattergl"
           }
          ],
          "scattermap": [
           {
            "marker": {
             "colorbar": {
              "outlinewidth": 0,
              "ticks": ""
             }
            },
            "type": "scattermap"
           }
          ],
          "scattermapbox": [
           {
            "marker": {
             "colorbar": {
              "outlinewidth": 0,
              "ticks": ""
             }
            },
            "type": "scattermapbox"
           }
          ],
          "scatterpolar": [
           {
            "marker": {
             "colorbar": {
              "outlinewidth": 0,
              "ticks": ""
             }
            },
            "type": "scatterpolar"
           }
          ],
          "scatterpolargl": [
           {
            "marker": {
             "colorbar": {
              "outlinewidth": 0,
              "ticks": ""
             }
            },
            "type": "scatterpolargl"
           }
          ],
          "scatterternary": [
           {
            "marker": {
             "colorbar": {
              "outlinewidth": 0,
              "ticks": ""
             }
            },
            "type": "scatterternary"
           }
          ],
          "surface": [
           {
            "colorbar": {
             "outlinewidth": 0,
             "ticks": ""
            },
            "colorscale": [
             [
              0,
              "#0d0887"
             ],
             [
              0.1111111111111111,
              "#46039f"
             ],
             [
              0.2222222222222222,
              "#7201a8"
             ],
             [
              0.3333333333333333,
              "#9c179e"
             ],
             [
              0.4444444444444444,
              "#bd3786"
             ],
             [
              0.5555555555555556,
              "#d8576b"
             ],
             [
              0.6666666666666666,
              "#ed7953"
             ],
             [
              0.7777777777777778,
              "#fb9f3a"
             ],
             [
              0.8888888888888888,
              "#fdca26"
             ],
             [
              1,
              "#f0f921"
             ]
            ],
            "type": "surface"
           }
          ],
          "table": [
           {
            "cells": {
             "fill": {
              "color": "#EBF0F8"
             },
             "line": {
              "color": "white"
             }
            },
            "header": {
             "fill": {
              "color": "#C8D4E3"
             },
             "line": {
              "color": "white"
             }
            },
            "type": "table"
           }
          ]
         },
         "layout": {
          "annotationdefaults": {
           "arrowcolor": "#2a3f5f",
           "arrowhead": 0,
           "arrowwidth": 1
          },
          "autotypenumbers": "strict",
          "coloraxis": {
           "colorbar": {
            "outlinewidth": 0,
            "ticks": ""
           }
          },
          "colorscale": {
           "diverging": [
            [
             0,
             "#8e0152"
            ],
            [
             0.1,
             "#c51b7d"
            ],
            [
             0.2,
             "#de77ae"
            ],
            [
             0.3,
             "#f1b6da"
            ],
            [
             0.4,
             "#fde0ef"
            ],
            [
             0.5,
             "#f7f7f7"
            ],
            [
             0.6,
             "#e6f5d0"
            ],
            [
             0.7,
             "#b8e186"
            ],
            [
             0.8,
             "#7fbc41"
            ],
            [
             0.9,
             "#4d9221"
            ],
            [
             1,
             "#276419"
            ]
           ],
           "sequential": [
            [
             0,
             "#0d0887"
            ],
            [
             0.1111111111111111,
             "#46039f"
            ],
            [
             0.2222222222222222,
             "#7201a8"
            ],
            [
             0.3333333333333333,
             "#9c179e"
            ],
            [
             0.4444444444444444,
             "#bd3786"
            ],
            [
             0.5555555555555556,
             "#d8576b"
            ],
            [
             0.6666666666666666,
             "#ed7953"
            ],
            [
             0.7777777777777778,
             "#fb9f3a"
            ],
            [
             0.8888888888888888,
             "#fdca26"
            ],
            [
             1,
             "#f0f921"
            ]
           ],
           "sequentialminus": [
            [
             0,
             "#0d0887"
            ],
            [
             0.1111111111111111,
             "#46039f"
            ],
            [
             0.2222222222222222,
             "#7201a8"
            ],
            [
             0.3333333333333333,
             "#9c179e"
            ],
            [
             0.4444444444444444,
             "#bd3786"
            ],
            [
             0.5555555555555556,
             "#d8576b"
            ],
            [
             0.6666666666666666,
             "#ed7953"
            ],
            [
             0.7777777777777778,
             "#fb9f3a"
            ],
            [
             0.8888888888888888,
             "#fdca26"
            ],
            [
             1,
             "#f0f921"
            ]
           ]
          },
          "colorway": [
           "#636efa",
           "#EF553B",
           "#00cc96",
           "#ab63fa",
           "#FFA15A",
           "#19d3f3",
           "#FF6692",
           "#B6E880",
           "#FF97FF",
           "#FECB52"
          ],
          "font": {
           "color": "#2a3f5f"
          },
          "geo": {
           "bgcolor": "white",
           "lakecolor": "white",
           "landcolor": "#E5ECF6",
           "showlakes": true,
           "showland": true,
           "subunitcolor": "white"
          },
          "hoverlabel": {
           "align": "left"
          },
          "hovermode": "closest",
          "mapbox": {
           "style": "light"
          },
          "paper_bgcolor": "white",
          "plot_bgcolor": "#E5ECF6",
          "polar": {
           "angularaxis": {
            "gridcolor": "white",
            "linecolor": "white",
            "ticks": ""
           },
           "bgcolor": "#E5ECF6",
           "radialaxis": {
            "gridcolor": "white",
            "linecolor": "white",
            "ticks": ""
           }
          },
          "scene": {
           "xaxis": {
            "backgroundcolor": "#E5ECF6",
            "gridcolor": "white",
            "gridwidth": 2,
            "linecolor": "white",
            "showbackground": true,
            "ticks": "",
            "zerolinecolor": "white"
           },
           "yaxis": {
            "backgroundcolor": "#E5ECF6",
            "gridcolor": "white",
            "gridwidth": 2,
            "linecolor": "white",
            "showbackground": true,
            "ticks": "",
            "zerolinecolor": "white"
           },
           "zaxis": {
            "backgroundcolor": "#E5ECF6",
            "gridcolor": "white",
            "gridwidth": 2,
            "linecolor": "white",
            "showbackground": true,
            "ticks": "",
            "zerolinecolor": "white"
           }
          },
          "shapedefaults": {
           "line": {
            "color": "#2a3f5f"
           }
          },
          "ternary": {
           "aaxis": {
            "gridcolor": "white",
            "linecolor": "white",
            "ticks": ""
           },
           "baxis": {
            "gridcolor": "white",
            "linecolor": "white",
            "ticks": ""
           },
           "bgcolor": "#E5ECF6",
           "caxis": {
            "gridcolor": "white",
            "linecolor": "white",
            "ticks": ""
           }
          },
          "title": {
           "x": 0.05
          },
          "xaxis": {
           "automargin": true,
           "gridcolor": "white",
           "linecolor": "white",
           "ticks": "",
           "title": {
            "standoff": 15
           },
           "zerolinecolor": "white",
           "zerolinewidth": 2
          },
          "yaxis": {
           "automargin": true,
           "gridcolor": "white",
           "linecolor": "white",
           "ticks": "",
           "title": {
            "standoff": 15
           },
           "zerolinecolor": "white",
           "zerolinewidth": 2
          }
         }
        },
        "xaxis": {
         "anchor": "y",
         "domain": [
          0,
          1
         ],
         "title": {
          "text": "Beneficiarios"
         }
        },
        "yaxis": {
         "anchor": "x",
         "domain": [
          0,
          1
         ],
         "showgrid": false,
         "showticklabels": false,
         "title": {
          "text": "y"
         }
        }
       }
      }
     },
     "metadata": {},
     "output_type": "display_data"
    },
    {
     "name": "stdout",
     "output_type": "stream",
     "text": [
      "beneficiarios_abono_familia\n",
      "0    266\n",
      "1     39\n",
      "2      3\n",
      "Name: count, dtype: int64\n",
      "File saved to csv_files/6_Benificiários_Abono_Familia.csv\n"
     ]
    }
   ],
   "source": [
    "clustered_df = aplicar_kmeans(df_ben_abono_fam, 3, nome_cluster='beneficiarios_abono_familia')\n",
    "save_clustered_df_to_csv(clustered_df, \"csv_files/\", \"6_Benificiários_Abono_Familia.csv\")"
   ]
  },
  {
   "cell_type": "markdown",
   "id": "53129989",
   "metadata": {},
   "source": [
    "#### Valor Médio das Pensões"
   ]
  },
  {
   "cell_type": "code",
<<<<<<< HEAD
   "execution_count": 24,
=======
   "execution_count": 10,
>>>>>>> more_clusters
   "id": "003048a5",
   "metadata": {},
   "outputs": [
    {
     "data": {
      "text/html": [
       "<div>\n",
       "<style scoped>\n",
       "    .dataframe tbody tr th:only-of-type {\n",
       "        vertical-align: middle;\n",
       "    }\n",
       "\n",
       "    .dataframe tbody tr th {\n",
       "        vertical-align: top;\n",
       "    }\n",
       "\n",
       "    .dataframe thead th {\n",
       "        text-align: right;\n",
       "    }\n",
       "</style>\n",
       "<table border=\"1\" class=\"dataframe\">\n",
       "  <thead>\n",
       "    <tr style=\"text-align: right;\">\n",
       "      <th></th>\n",
       "      <th>local</th>\n",
       "      <th>codigo</th>\n",
       "      <th>Total</th>\n",
       "    </tr>\n",
       "  </thead>\n",
       "  <tbody>\n",
       "    <tr>\n",
       "      <th>4</th>\n",
       "      <td>Arcos de Valdevez</td>\n",
       "      <td>1111601</td>\n",
       "      <td>4027.0</td>\n",
       "    </tr>\n",
       "    <tr>\n",
       "      <th>5</th>\n",
       "      <td>Caminha</td>\n",
       "      <td>1111602</td>\n",
       "      <td>5410.0</td>\n",
       "    </tr>\n",
       "    <tr>\n",
       "      <th>6</th>\n",
       "      <td>Melgaço</td>\n",
       "      <td>1111603</td>\n",
       "      <td>3963.0</td>\n",
       "    </tr>\n",
       "    <tr>\n",
       "      <th>7</th>\n",
       "      <td>Monção</td>\n",
       "      <td>1111604</td>\n",
       "      <td>4197.0</td>\n",
       "    </tr>\n",
       "    <tr>\n",
       "      <th>8</th>\n",
       "      <td>Paredes de Coura</td>\n",
       "      <td>1111605</td>\n",
       "      <td>4452.0</td>\n",
       "    </tr>\n",
       "    <tr>\n",
       "      <th>...</th>\n",
       "      <td>...</td>\n",
       "      <td>...</td>\n",
       "      <td>...</td>\n",
       "    </tr>\n",
       "    <tr>\n",
       "      <th>342</th>\n",
       "      <td>Ribeira Brava</td>\n",
       "      <td>3003107</td>\n",
       "      <td>4815.0</td>\n",
       "    </tr>\n",
       "    <tr>\n",
       "      <th>343</th>\n",
       "      <td>Santa Cruz</td>\n",
       "      <td>3003108</td>\n",
       "      <td>5638.0</td>\n",
       "    </tr>\n",
       "    <tr>\n",
       "      <th>344</th>\n",
       "      <td>Santana</td>\n",
       "      <td>3003109</td>\n",
       "      <td>4337.0</td>\n",
       "    </tr>\n",
       "    <tr>\n",
       "      <th>345</th>\n",
       "      <td>São Vicente</td>\n",
       "      <td>3003110</td>\n",
       "      <td>4376.0</td>\n",
       "    </tr>\n",
       "    <tr>\n",
       "      <th>346</th>\n",
       "      <td>Porto Santo</td>\n",
       "      <td>3003201</td>\n",
       "      <td>7019.0</td>\n",
       "    </tr>\n",
       "  </tbody>\n",
       "</table>\n",
       "<p>308 rows × 3 columns</p>\n",
       "</div>"
      ],
      "text/plain": [
       "                 local   codigo   Total\n",
       "4    Arcos de Valdevez  1111601  4027.0\n",
       "5              Caminha  1111602  5410.0\n",
       "6              Melgaço  1111603  3963.0\n",
       "7               Monção  1111604  4197.0\n",
       "8     Paredes de Coura  1111605  4452.0\n",
       "..                 ...      ...     ...\n",
       "342      Ribeira Brava  3003107  4815.0\n",
       "343         Santa Cruz  3003108  5638.0\n",
       "344            Santana  3003109  4337.0\n",
       "345        São Vicente  3003110  4376.0\n",
       "346        Porto Santo  3003201  7019.0\n",
       "\n",
       "[308 rows x 3 columns]"
      ]
     },
<<<<<<< HEAD
     "execution_count": 24,
=======
     "execution_count": 10,
>>>>>>> more_clusters
     "metadata": {},
     "output_type": "execute_result"
    }
   ],
   "source": [
    "df_pensoes = processar_ficheiro(data_path+'Valor médio das pensões da segurança social (€: N.º).xls',4)\n",
    "df_pensoes = carregar_municipios(df_pensoes)\n",
    "df_pensoes = df_pensoes[['local','codigo','Total']]\n",
    "#save_clustered_df_to_csv( df_pensoes.rename(columns={'Total': 'Valor_Medio_Pensoes'}), \"csv_bruto/\", \"6_Valor_Medio_Pensoes.csv\")\n",
    "df_pensoes\n"
   ]
  },
  {
   "cell_type": "code",
<<<<<<< HEAD
   "execution_count": 25,
=======
   "execution_count": 11,
>>>>>>> more_clusters
   "id": "14721d48",
   "metadata": {},
   "outputs": [
    {
     "data": {
      "application/vnd.plotly.v1+json": {
       "config": {
        "plotlyServerURL": "https://plot.ly"
       },
       "data": [
        {
         "customdata": [
          [
           "Arcos de Valdevez",
           "1111601",
           4027
          ],
          [
           "Caminha",
           "1111602",
           5410
          ],
          [
           "Melgaço",
           "1111603",
           3963
          ],
          [
           "Monção",
           "1111604",
           4197
          ],
          [
           "Paredes de Coura",
           "1111605",
           4452
          ],
          [
           "Ponte da Barca",
           "1111606",
           4352
          ],
          [
           "Ponte de Lima",
           "1111607",
           4773
          ],
          [
           "Valença",
           "1111608",
           4612
          ],
          [
           "Viana do Castelo",
           "1111609",
           5777
          ],
          [
           "Vila Nova de Cerveira",
           "1111610",
           4739
          ],
          [
           "Amares",
           "1120301",
           4736
          ],
          [
           "Barcelos",
           "1120302",
           5454
          ],
          [
           "Braga",
           "1120303",
           6156
          ],
          [
           "Esposende",
           "1120306",
           5329
          ],
          [
           "Terras de Bouro",
           "1120310",
           4753
          ],
          [
           "Vila Verde",
           "1120313",
           4641
          ],
          [
           "Cabeceiras de Basto",
           "1190304",
           4484
          ],
          [
           "Fafe",
           "1190307",
           4929
          ],
          [
           "Guimarães",
           "1190308",
           6208
          ],
          [
           "Mondim de Basto",
           "1191705",
           4386
          ],
          [
           "Póvoa de Lanhoso",
           "1190309",
           4621
          ],
          [
           "Vieira do Minho",
           "1190311",
           4551
          ],
          [
           "Vila Nova de Famalicão",
           "1190312",
           6221
          ],
          [
           "Vizela",
           "1190314",
           6106
          ],
          [
           "Arouca",
           "11A0104",
           4887
          ],
          [
           "Espinho",
           "11A0107",
           6501
          ],
          [
           "Gondomar",
           "11A1304",
           6369
          ],
          [
           "Maia",
           "11A1306",
           7375
          ],
          [
           "Matosinhos",
           "11A1308",
           7758
          ],
          [
           "Oliveira de Azeméis",
           "11A0113",
           6262
          ],
          [
           "Paredes",
           "11A1310",
           5271
          ],
          [
           "Porto",
           "11A1312",
           8059
          ],
          [
           "Póvoa de Varzim",
           "11A1313",
           5726
          ],
          [
           "Santa Maria da Feira",
           "11A0109",
           5904
          ],
          [
           "Santo Tirso",
           "11A1314",
           5999
          ],
          [
           "São João da Madeira",
           "11A0116",
           6471
          ],
          [
           "Trofa",
           "11A1318",
           6638
          ],
          [
           "Vale de Cambra",
           "11A0119",
           6075
          ],
          [
           "Valongo",
           "11A1315",
           6396
          ],
          [
           "Vila do Conde",
           "11A1316",
           6181
          ],
          [
           "Vila Nova de Gaia",
           "11A1317",
           7043
          ],
          [
           "Boticas",
           "11B1702",
           3904
          ],
          [
           "Chaves",
           "11B1703",
           4427
          ],
          [
           "Montalegre",
           "11B1706",
           4264
          ],
          [
           "Ribeira de Pena",
           "11B1709",
           4033
          ],
          [
           "Valpaços",
           "11B1712",
           4000
          ],
          [
           "Vila Pouca de Aguiar",
           "11B1713",
           4094
          ],
          [
           "Amarante",
           "11C1301",
           5069
          ],
          [
           "Baião",
           "11C1302",
           5044
          ],
          [
           "Castelo de Paiva",
           "11C0106",
           5511
          ],
          [
           "Celorico de Basto",
           "11C0305",
           4405
          ],
          [
           "Cinfães",
           "11C1804",
           4895
          ],
          [
           "Felgueiras",
           "11C1303",
           5355
          ],
          [
           "Lousada",
           "11C1305",
           5292
          ],
          [
           "Marco de Canaveses",
           "11C1307",
           5417
          ],
          [
           "Paços de Ferreira",
           "11C1309",
           5051
          ],
          [
           "Penafiel",
           "11C1311",
           5588
          ],
          [
           "Resende",
           "11C1813",
           4406
          ],
          [
           "Alijó",
           "11D1701",
           4382
          ],
          [
           "Armamar",
           "11D1801",
           4626
          ],
          [
           "Carrazeda de Ansiães",
           "11D0403",
           4195
          ],
          [
           "Freixo de Espada à Cinta",
           "11D0404",
           4258
          ],
          [
           "Lamego",
           "11D1805",
           4908
          ],
          [
           "Mesão Frio",
           "11D1704",
           4962
          ],
          [
           "Moimenta da Beira",
           "11D1807",
           4397
          ],
          [
           "Murça",
           "11D1707",
           4173
          ],
          [
           "Penedono",
           "11D1812",
           4119
          ],
          [
           "Peso da Régua",
           "11D1708",
           5176
          ],
          [
           "Sabrosa",
           "11D1710",
           4376
          ],
          [
           "Santa Marta de Penaguião",
           "11D1711",
           4587
          ],
          [
           "São João da Pesqueira",
           "11D1815",
           4443
          ],
          [
           "Sernancelhe",
           "11D1818",
           4092
          ],
          [
           "Tabuaço",
           "11D1819",
           4422
          ],
          [
           "Tarouca",
           "11D1820",
           4470
          ],
          [
           "Torre de Moncorvo",
           "11D0409",
           4213
          ],
          [
           "Vila Nova de Foz Côa",
           "11D0914",
           4193
          ],
          [
           "Vila Real",
           "11D1714",
           4689
          ],
          [
           "Alfândega da Fé",
           "11E0401",
           4163
          ],
          [
           "Bragança",
           "11E0402",
           4437
          ],
          [
           "Macedo de Cavaleiros",
           "11E0405",
           4176
          ],
          [
           "Miranda do Douro",
           "11E0406",
           4782
          ],
          [
           "Mirandela",
           "11E0407",
           4362
          ],
          [
           "Mogadouro",
           "11E0408",
           4275
          ],
          [
           "Vila Flor",
           "11E0410",
           4230
          ],
          [
           "Vimioso",
           "11E0411",
           3834
          ],
          [
           "Vinhais",
           "11E0412",
           4113
          ],
          [
           "Águeda",
           "1910101",
           6397
          ],
          [
           "Albergaria-a-Velha",
           "1910102",
           6016
          ],
          [
           "Anadia",
           "1910103",
           5680
          ],
          [
           "Aveiro",
           "1910105",
           6924
          ],
          [
           "Estarreja",
           "1910108",
           6473
          ],
          [
           "Ílhavo",
           "1910110",
           6752
          ],
          [
           "Murtosa",
           "1910112",
           5181
          ],
          [
           "Oliveira do Bairro",
           "1910114",
           5174
          ],
          [
           "Ovar",
           "1910115",
           6507
          ],
          [
           "Sever do Vouga",
           "1910117",
           5154
          ],
          [
           "Vagos",
           "1910118",
           4960
          ],
          [
           "Arganil",
           "1920601",
           5198
          ],
          [
           "Cantanhede",
           "1920602",
           4895
          ],
          [
           "Coimbra",
           "1920603",
           6272
          ],
          [
           "Condeixa-a-Nova",
           "1920604",
           5586
          ],
          [
           "Figueira da Foz",
           "1920605",
           6762
          ],
          [
           "Góis",
           "1920606",
           5321
          ],
          [
           "Lousã",
           "1920607",
           6008
          ],
          [
           "Mealhada",
           "1920111",
           5821
          ],
          [
           "Mira",
           "1920608",
           4867
          ],
          [
           "Miranda do Corvo",
           "1920609",
           5359
          ],
          [
           "Montemor-o-Velho",
           "1920610",
           5808
          ],
          [
           "Mortágua",
           "1921808",
           4599
          ],
          [
           "Oliveira do Hospital",
           "1920611",
           5233
          ],
          [
           "Pampilhosa da Serra",
           "1920612",
           5420
          ],
          [
           "Penacova",
           "1920613",
           4838
          ],
          [
           "Penela",
           "1920614",
           4895
          ],
          [
           "Soure",
           "1920615",
           5704
          ],
          [
           "Tábua",
           "1920616",
           5188
          ],
          [
           "Vila Nova de Poiares",
           "1920617",
           5230
          ],
          [
           "Alvaiázere",
           "1931002",
           4592
          ],
          [
           "Ansião",
           "1931003",
           4907
          ],
          [
           "Batalha",
           "1931004",
           5658
          ],
          [
           "Castanheira de Pêra",
           "1931007",
           5269
          ],
          [
           "Figueiró dos Vinhos",
           "1931008",
           4760
          ],
          [
           "Leiria",
           "1931009",
           6424
          ],
          [
           "Marinha Grande",
           "1931010",
           7591
          ],
          [
           "Pedrógão Grande",
           "1931013",
           4919
          ],
          [
           "Pombal",
           "1931015",
           4988
          ],
          [
           "Porto de Mós",
           "1931016",
           5616
          ],
          [
           "Aguiar da Beira",
           "1940901",
           4126
          ],
          [
           "Carregal do Sal",
           "1941802",
           4779
          ],
          [
           "Castro Daire",
           "1941803",
           4431
          ],
          [
           "Mangualde",
           "1941806",
           5402
          ],
          [
           "Nelas",
           "1941809",
           5215
          ],
          [
           "Oliveira de Frades",
           "1941810",
           5140
          ],
          [
           "Penalva do Castelo",
           "1941811",
           4341
          ],
          [
           "Santa Comba Dão",
           "1941814",
           5286
          ],
          [
           "São Pedro do Sul",
           "1941816",
           4726
          ],
          [
           "Sátão",
           "1941817",
           4261
          ],
          [
           "Tondela",
           "1941821",
           4828
          ],
          [
           "Vila Nova de Paiva",
           "1941822",
           3875
          ],
          [
           "Viseu",
           "1941823",
           5182
          ],
          [
           "Vouzela",
           "1941824",
           4895
          ],
          [
           "Castelo Branco",
           "1950502",
           5330
          ],
          [
           "Idanha-a-Nova",
           "1950505",
           4800
          ],
          [
           "Oleiros",
           "1950506",
           4629
          ],
          [
           "Penamacor",
           "1950507",
           4429
          ],
          [
           "Proença-a-Nova",
           "1950508",
           4868
          ],
          [
           "Sertã",
           "1950509",
           4999
          ],
          [
           "Vila de Rei",
           "1950510",
           5274
          ],
          [
           "Vila Velha de Ródão",
           "1950511",
           6307
          ],
          [
           "Almeida",
           "1960902",
           4328
          ],
          [
           "Belmonte",
           "1960501",
           4876
          ],
          [
           "Celorico da Beira",
           "1960903",
           4556
          ],
          [
           "Covilhã",
           "1960503",
           5253
          ],
          [
           "Figueira de Castelo Rodrigo",
           "1960904",
           4413
          ],
          [
           "Fornos de Algodres",
           "1960905",
           4445
          ],
          [
           "Fundão",
           "1960504",
           4967
          ],
          [
           "Gouveia",
           "1960906",
           4591
          ],
          [
           "Guarda",
           "1960907",
           5140
          ],
          [
           "Manteigas",
           "1960908",
           4730
          ],
          [
           "Mêda",
           "1960909",
           4109
          ],
          [
           "Pinhel",
           "1960910",
           4335
          ],
          [
           "Sabugal",
           "1960911",
           4100
          ],
          [
           "Seia",
           "1960912",
           5231
          ],
          [
           "Trancoso",
           "1960913",
           4354
          ],
          [
           "Alcobaça",
           "1D11001",
           6071
          ],
          [
           "Alenquer",
           "1D11101",
           6602
          ],
          [
           "Arruda dos Vinhos",
           "1D11102",
           6908
          ],
          [
           "Bombarral",
           "1D11005",
           5467
          ],
          [
           "Cadaval",
           "1D11104",
           5772
          ],
          [
           "Caldas da Rainha",
           "1D11006",
           6077
          ],
          [
           "Lourinhã",
           "1D11108",
           5908
          ],
          [
           "Nazaré",
           "1D11011",
           5876
          ],
          [
           "Óbidos",
           "1D11012",
           5865
          ],
          [
           "Peniche",
           "1D11014",
           5763
          ],
          [
           "Sobral de Monte Agraço",
           "1D11112",
           6404
          ],
          [
           "Torres Vedras",
           "1D11113",
           6461
          ],
          [
           "Abrantes",
           "1D21401",
           5842
          ],
          [
           "Alcanena",
           "1D21402",
           5940
          ],
          [
           "Constância",
           "1D21408",
           6263
          ],
          [
           "Entroncamento",
           "1D21410",
           7317
          ],
          [
           "Ferreira do Zêzere",
           "1D21411",
           5044
          ],
          [
           "Mação",
           "1D21413",
           5150
          ],
          [
           "Ourém",
           "1D21421",
           5237
          ],
          [
           "Sardoal",
           "1D21417",
           5690
          ],
          [
           "Tomar",
           "1D21418",
           5733
          ],
          [
           "Torres Novas",
           "1D21419",
           6174
          ],
          [
           "Vila Nova da Barquinha",
           "1D21420",
           6420
          ],
          [
           "Almeirim",
           "1D31403",
           5436
          ],
          [
           "Alpiarça",
           "1D31404",
           5204
          ],
          [
           "Azambuja",
           "1D31103",
           6504
          ],
          [
           "Benavente",
           "1D31405",
           6599
          ],
          [
           "Cartaxo",
           "1D31406",
           6769
          ],
          [
           "Chamusca",
           "1D31407",
           5357
          ],
          [
           "Coruche",
           "1D31409",
           5578
          ],
          [
           "Golegã",
           "1D31412",
           5700
          ],
          [
           "Rio Maior",
           "1D31414",
           5984
          ],
          [
           "Salvaterra de Magos",
           "1D31415",
           6118
          ],
          [
           "Santarém",
           "1D31416",
           6106
          ],
          [
           "Amadora",
           "1A01115",
           7606
          ],
          [
           "Cascais",
           "1A01105",
           9530
          ],
          [
           "Lisboa",
           "1A01106",
           9357
          ],
          [
           "Loures",
           "1A01107",
           8004
          ],
          [
           "Mafra",
           "1A01109",
           7335
          ],
          [
           "Odivelas",
           "1A01116",
           7569
          ],
          [
           "Oeiras",
           "1A01110",
           10323
          ],
          [
           "Sintra",
           "1A01111",
           7852
          ],
          [
           "Vila Franca de Xira",
           "1A01114",
           7946
          ],
          [
           "Alcochete",
           "1B01502",
           7534
          ],
          [
           "Almada",
           "1B01503",
           7685
          ],
          [
           "Barreiro",
           "1B01504",
           7637
          ],
          [
           "Moita",
           "1B01506",
           6905
          ],
          [
           "Montijo",
           "1B01507",
           6438
          ],
          [
           "Palmela",
           "1B01508",
           7131
          ],
          [
           "Seixal",
           "1B01510",
           7457
          ],
          [
           "Sesimbra",
           "1B01511",
           7469
          ],
          [
           "Setúbal",
           "1B01512",
           7803
          ],
          [
           "Alcácer do Sal",
           "1C11501",
           5509
          ],
          [
           "Grândola",
           "1C11505",
           5479
          ],
          [
           "Odemira",
           "1C10211",
           4997
          ],
          [
           "Santiago do Cacém",
           "1C11509",
           7577
          ],
          [
           "Sines",
           "1C11513",
           7809
          ],
          [
           "Aljustrel",
           "1C20201",
           6508
          ],
          [
           "Almodôvar",
           "1C20202",
           5351
          ],
          [
           "Alvito",
           "1C20203",
           5160
          ],
          [
           "Barrancos",
           "1C20204",
           4344
          ],
          [
           "Beja",
           "1C20205",
           5268
          ],
          [
           "Castro Verde",
           "1C20206",
           6554
          ],
          [
           "Cuba",
           "1C20207",
           5148
          ],
          [
           "Ferreira do Alentejo",
           "1C20208",
           5070
          ],
          [
           "Mértola",
           "1C20209",
           4940
          ],
          [
           "Moura",
           "1C20210",
           4664
          ],
          [
           "Ourique",
           "1C20212",
           4779
          ],
          [
           "Serpa",
           "1C20213",
           4779
          ],
          [
           "Vidigueira",
           "1C20214",
           5033
          ],
          [
           "Alter do Chão",
           "1C31201",
           5327
          ],
          [
           "Arronches",
           "1C31202",
           4671
          ],
          [
           "Avis",
           "1C31203",
           5396
          ],
          [
           "Campo Maior",
           "1C31204",
           5982
          ],
          [
           "Castelo de Vide",
           "1C31205",
           5479
          ],
          [
           "Crato",
           "1C31206",
           5470
          ],
          [
           "Elvas",
           "1C31207",
           5248
          ],
          [
           "Fronteira",
           "1C31208",
           5627
          ],
          [
           "Gavião",
           "1C31209",
           5570
          ],
          [
           "Marvão",
           "1C31210",
           5245
          ],
          [
           "Monforte",
           "1C31211",
           5152
          ],
          [
           "Nisa",
           "1C31212",
           5516
          ],
          [
           "Ponte de Sor",
           "1C31213",
           5593
          ],
          [
           "Portalegre",
           "1C31214",
           5395
          ],
          [
           "Sousel",
           "1C31215",
           5096
          ],
          [
           "Alandroal",
           "1C40701",
           5444
          ],
          [
           "Arraiolos",
           "1C40702",
           5529
          ],
          [
           "Borba",
           "1C40703",
           6230
          ],
          [
           "Estremoz",
           "1C40704",
           5795
          ],
          [
           "Évora",
           "1C40705",
           6042
          ],
          [
           "Montemor-o-Novo",
           "1C40706",
           5795
          ],
          [
           "Mora",
           "1C40707",
           5820
          ],
          [
           "Mourão",
           "1C40708",
           5116
          ],
          [
           "Portel",
           "1C40709",
           4831
          ],
          [
           "Redondo",
           "1C40710",
           5338
          ],
          [
           "Reguengos de Monsaraz",
           "1C40711",
           5543
          ],
          [
           "Vendas Novas",
           "1C40712",
           6038
          ],
          [
           "Viana do Alentejo",
           "1C40713",
           5268
          ],
          [
           "Vila Viçosa",
           "1C40714",
           6551
          ],
          [
           "Albufeira",
           "1500801",
           6180
          ],
          [
           "Alcoutim",
           "1500802",
           4462
          ],
          [
           "Aljezur",
           "1500803",
           4984
          ],
          [
           "Castro Marim",
           "1500804",
           5497
          ],
          [
           "Faro",
           "1500805",
           6502
          ],
          [
           "Lagoa",
           "1500806",
           5891
          ],
          [
           "Lagos",
           "1500807",
           5856
          ],
          [
           "Loulé",
           "1500808",
           6020
          ],
          [
           "Monchique",
           "1500809",
           4861
          ],
          [
           "Olhão",
           "1500810",
           5663
          ],
          [
           "Portimão",
           "1500811",
           6272
          ],
          [
           "São Brás de Alportel",
           "1500812",
           5283
          ],
          [
           "Silves",
           "1500813",
           5592
          ],
          [
           "Tavira",
           "1500814",
           5371
          ],
          [
           "Vila do Bispo",
           "1500815",
           5668
          ],
          [
           "Vila Real de Santo António",
           "1500816",
           5794
          ],
          [
           "Angra do Heroísmo",
           "2004301",
           5548
          ],
          [
           "Calheta (R.A.A.)",
           "2004501",
           4228
          ],
          [
           "Corvo",
           "2004901",
           5216
          ],
          [
           "Horta",
           "2004701",
           5227
          ],
          [
           "Lagoa (R.A.A.)",
           "2004201",
           6046
          ],
          [
           "Lajes das Flores",
           "2004801",
           4848
          ],
          [
           "Lajes do Pico",
           "2004601",
           4877
          ],
          [
           "Madalena",
           "2004602",
           5289
          ],
          [
           "Nordeste",
           "2004202",
           4455
          ],
          [
           "Ponta Delgada",
           "2004203",
           6967
          ],
          [
           "Povoação",
           "2004204",
           4680
          ],
          [
           "Ribeira Grande",
           "2004205",
           5268
          ],
          [
           "Santa Cruz da Graciosa",
           "2004401",
           4490
          ],
          [
           "Santa Cruz das Flores",
           "2004802",
           5539
          ],
          [
           "São Roque do Pico",
           "2004603",
           4822
          ],
          [
           "Velas",
           "2004502",
           5025
          ],
          [
           "Vila da Praia da Vitória",
           "2004302",
           6603
          ],
          [
           "Vila do Porto",
           "2004101",
           7262
          ],
          [
           "Vila Franca do Campo",
           "2004206",
           4878
          ],
          [
           "Calheta (R.A.M.)",
           "3003101",
           4365
          ],
          [
           "Câmara de Lobos",
           "3003102",
           4828
          ],
          [
           "Funchal",
           "3003103",
           6382
          ],
          [
           "Machico",
           "3003104",
           5586
          ],
          [
           "Ponta do Sol",
           "3003105",
           4476
          ],
          [
           "Porto Moniz",
           "3003106",
           4097
          ],
          [
           "Ribeira Brava",
           "3003107",
           4815
          ],
          [
           "Santa Cruz",
           "3003108",
           5638
          ],
          [
           "Santana",
           "3003109",
           4337
          ],
          [
           "São Vicente",
           "3003110",
           4376
          ],
          [
           "Porto Santo",
           "3003201",
           7019
          ]
         ],
         "hovertemplate": "valor=%{x}<br>y=%{y}<br>local=%{customdata[0]}<br>codigo=%{customdata[1]}<br>Total=%{customdata[2]}<br>total_medio_pensoes=%{marker.color}<extra></extra>",
         "legendgroup": "",
         "marker": {
          "color": {
           "bdata": "AAEAAAAAAAABAAABAQEAAAAAAQAAAAEBAAEBAgIBAAIBAQEBAQEBAQIAAAAAAAAAAAEAAAEAAQABAAAAAAAAAAAAAAAAAAAAAAAAAAAAAAAAAAAAAAABAQECAQEAAAEAAAAAAQEBAQEBAAEBAAABAAABAAAAAAEAAAECAAABAAAAAQAAAAAAAAAAAAABAAAAAAAAAQAAAAAAAAAAAAAAAAAAAAEBAgEBAQEBAQEBAQEBAQIAAAABAQEBAQABAQEBAQEBAQECAgICAgICAgICAgICAQICAgIBAQACAgEBAAAAAQAAAAAAAAABAAEBAQEAAQEAAAEBAQABAQEBAQEBAAABAQEAAQEAAAEBAQEBAAEBAAEBAQEBAAAAAQAAAAACAAAAAQAAAQIAAAABAQAAAAEAAAI=",
           "dtype": "i1"
          },
          "coloraxis": "coloraxis",
          "size": 10,
          "symbol": "circle"
         },
         "mode": "markers",
         "name": "",
         "orientation": "v",
         "showlegend": false,
         "type": "scatter",
         "x": {
          "bdata": "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",
          "dtype": "f8"
         },
         "xaxis": "x",
         "y": {
          "bdata": "AAAAAAAAAAAAAAAAAAAAAAAAAAAAAAAAAAAAAAAAAAAAAAAAAAAAAAAAAAAAAAAAAAAAAAAAAAAAAAAAAAAAAAAAAAAAAAAAAAAAAAAAAAAAAAAAAAAAAAAAAAAAAAAAAAAAAAAAAAAAAAAAAAAAAAAAAAAAAAAAAAAAAAAAAAAAAAAAAAAAAAAAAAAAAAAAAAAAAAAAAAAAAAAAAAAAAAAAAAAAAAAAAAAAAAAAAAAAAAAAAAAAAAAAAAAAAAAAAAAAAAAAAAAAAAAAAAAAAAAAAAAAAAAAAAAAAAAAAAAAAAAAAAAAAAAAAAAAAAAAAAAAAAAAAAAAAAAAAAAAAAAAAAAAAAAAAAAAAAAAAAAAAAAAAAAAAAAAAAAAAAAAAAAAAAAAAAAAAAAAAAAAAAAAAAA=",
          "dtype": "i1"
         },
         "yaxis": "y"
        }
       ],
       "layout": {
        "coloraxis": {
         "colorbar": {
          "title": {
           "text": "total_medio_pensoes"
          }
         },
         "colorscale": [
          [
           0,
           "#440154"
          ],
          [
           0.1111111111111111,
           "#482878"
          ],
          [
           0.2222222222222222,
           "#3e4989"
          ],
          [
           0.3333333333333333,
           "#31688e"
          ],
          [
           0.4444444444444444,
           "#26828e"
          ],
          [
           0.5555555555555556,
           "#1f9e89"
          ],
          [
           0.6666666666666666,
           "#35b779"
          ],
          [
           0.7777777777777778,
           "#6ece58"
          ],
          [
           0.8888888888888888,
           "#b5de2b"
          ],
          [
           1,
           "#fde725"
          ]
         ]
        },
        "height": 300,
        "legend": {
         "tracegroupgap": 0
        },
        "margin": {
         "t": 60
        },
        "template": {
         "data": {
          "bar": [
           {
            "error_x": {
             "color": "#2a3f5f"
            },
            "error_y": {
             "color": "#2a3f5f"
            },
            "marker": {
             "line": {
              "color": "#E5ECF6",
              "width": 0.5
             },
             "pattern": {
              "fillmode": "overlay",
              "size": 10,
              "solidity": 0.2
             }
            },
            "type": "bar"
           }
          ],
          "barpolar": [
           {
            "marker": {
             "line": {
              "color": "#E5ECF6",
              "width": 0.5
             },
             "pattern": {
              "fillmode": "overlay",
              "size": 10,
              "solidity": 0.2
             }
            },
            "type": "barpolar"
           }
          ],
          "carpet": [
           {
            "aaxis": {
             "endlinecolor": "#2a3f5f",
             "gridcolor": "white",
             "linecolor": "white",
             "minorgridcolor": "white",
             "startlinecolor": "#2a3f5f"
            },
            "baxis": {
             "endlinecolor": "#2a3f5f",
             "gridcolor": "white",
             "linecolor": "white",
             "minorgridcolor": "white",
             "startlinecolor": "#2a3f5f"
            },
            "type": "carpet"
           }
          ],
          "choropleth": [
           {
            "colorbar": {
             "outlinewidth": 0,
             "ticks": ""
            },
            "type": "choropleth"
           }
          ],
          "contour": [
           {
            "colorbar": {
             "outlinewidth": 0,
             "ticks": ""
            },
            "colorscale": [
             [
              0,
              "#0d0887"
             ],
             [
              0.1111111111111111,
              "#46039f"
             ],
             [
              0.2222222222222222,
              "#7201a8"
             ],
             [
              0.3333333333333333,
              "#9c179e"
             ],
             [
              0.4444444444444444,
              "#bd3786"
             ],
             [
              0.5555555555555556,
              "#d8576b"
             ],
             [
              0.6666666666666666,
              "#ed7953"
             ],
             [
              0.7777777777777778,
              "#fb9f3a"
             ],
             [
              0.8888888888888888,
              "#fdca26"
             ],
             [
              1,
              "#f0f921"
             ]
            ],
            "type": "contour"
           }
          ],
          "contourcarpet": [
           {
            "colorbar": {
             "outlinewidth": 0,
             "ticks": ""
            },
            "type": "contourcarpet"
           }
          ],
          "heatmap": [
           {
            "colorbar": {
             "outlinewidth": 0,
             "ticks": ""
            },
            "colorscale": [
             [
              0,
              "#0d0887"
             ],
             [
              0.1111111111111111,
              "#46039f"
             ],
             [
              0.2222222222222222,
              "#7201a8"
             ],
             [
              0.3333333333333333,
              "#9c179e"
             ],
             [
              0.4444444444444444,
              "#bd3786"
             ],
             [
              0.5555555555555556,
              "#d8576b"
             ],
             [
              0.6666666666666666,
              "#ed7953"
             ],
             [
              0.7777777777777778,
              "#fb9f3a"
             ],
             [
              0.8888888888888888,
              "#fdca26"
             ],
             [
              1,
              "#f0f921"
             ]
            ],
            "type": "heatmap"
           }
          ],
          "histogram": [
           {
            "marker": {
             "pattern": {
              "fillmode": "overlay",
              "size": 10,
              "solidity": 0.2
             }
            },
            "type": "histogram"
           }
          ],
          "histogram2d": [
           {
            "colorbar": {
             "outlinewidth": 0,
             "ticks": ""
            },
            "colorscale": [
             [
              0,
              "#0d0887"
             ],
             [
              0.1111111111111111,
              "#46039f"
             ],
             [
              0.2222222222222222,
              "#7201a8"
             ],
             [
              0.3333333333333333,
              "#9c179e"
             ],
             [
              0.4444444444444444,
              "#bd3786"
             ],
             [
              0.5555555555555556,
              "#d8576b"
             ],
             [
              0.6666666666666666,
              "#ed7953"
             ],
             [
              0.7777777777777778,
              "#fb9f3a"
             ],
             [
              0.8888888888888888,
              "#fdca26"
             ],
             [
              1,
              "#f0f921"
             ]
            ],
            "type": "histogram2d"
           }
          ],
          "histogram2dcontour": [
           {
            "colorbar": {
             "outlinewidth": 0,
             "ticks": ""
            },
            "colorscale": [
             [
              0,
              "#0d0887"
             ],
             [
              0.1111111111111111,
              "#46039f"
             ],
             [
              0.2222222222222222,
              "#7201a8"
             ],
             [
              0.3333333333333333,
              "#9c179e"
             ],
             [
              0.4444444444444444,
              "#bd3786"
             ],
             [
              0.5555555555555556,
              "#d8576b"
             ],
             [
              0.6666666666666666,
              "#ed7953"
             ],
             [
              0.7777777777777778,
              "#fb9f3a"
             ],
             [
              0.8888888888888888,
              "#fdca26"
             ],
             [
              1,
              "#f0f921"
             ]
            ],
            "type": "histogram2dcontour"
           }
          ],
          "mesh3d": [
           {
            "colorbar": {
             "outlinewidth": 0,
             "ticks": ""
            },
            "type": "mesh3d"
           }
          ],
          "parcoords": [
           {
            "line": {
             "colorbar": {
              "outlinewidth": 0,
              "ticks": ""
             }
            },
            "type": "parcoords"
           }
          ],
          "pie": [
           {
            "automargin": true,
            "type": "pie"
           }
          ],
          "scatter": [
           {
            "fillpattern": {
             "fillmode": "overlay",
             "size": 10,
             "solidity": 0.2
            },
            "type": "scatter"
           }
          ],
          "scatter3d": [
           {
            "line": {
             "colorbar": {
              "outlinewidth": 0,
              "ticks": ""
             }
            },
            "marker": {
             "colorbar": {
              "outlinewidth": 0,
              "ticks": ""
             }
            },
            "type": "scatter3d"
           }
          ],
          "scattercarpet": [
           {
            "marker": {
             "colorbar": {
              "outlinewidth": 0,
              "ticks": ""
             }
            },
            "type": "scattercarpet"
           }
          ],
          "scattergeo": [
           {
            "marker": {
             "colorbar": {
              "outlinewidth": 0,
              "ticks": ""
             }
            },
            "type": "scattergeo"
           }
          ],
          "scattergl": [
           {
            "marker": {
             "colorbar": {
              "outlinewidth": 0,
              "ticks": ""
             }
            },
            "type": "scattergl"
           }
          ],
          "scattermap": [
           {
            "marker": {
             "colorbar": {
              "outlinewidth": 0,
              "ticks": ""
             }
            },
            "type": "scattermap"
           }
          ],
          "scattermapbox": [
           {
            "marker": {
             "colorbar": {
              "outlinewidth": 0,
              "ticks": ""
             }
            },
            "type": "scattermapbox"
           }
          ],
          "scatterpolar": [
           {
            "marker": {
             "colorbar": {
              "outlinewidth": 0,
              "ticks": ""
             }
            },
            "type": "scatterpolar"
           }
          ],
          "scatterpolargl": [
           {
            "marker": {
             "colorbar": {
              "outlinewidth": 0,
              "ticks": ""
             }
            },
            "type": "scatterpolargl"
           }
          ],
          "scatterternary": [
           {
            "marker": {
             "colorbar": {
              "outlinewidth": 0,
              "ticks": ""
             }
            },
            "type": "scatterternary"
           }
          ],
          "surface": [
           {
            "colorbar": {
             "outlinewidth": 0,
             "ticks": ""
            },
            "colorscale": [
             [
              0,
              "#0d0887"
             ],
             [
              0.1111111111111111,
              "#46039f"
             ],
             [
              0.2222222222222222,
              "#7201a8"
             ],
             [
              0.3333333333333333,
              "#9c179e"
             ],
             [
              0.4444444444444444,
              "#bd3786"
             ],
             [
              0.5555555555555556,
              "#d8576b"
             ],
             [
              0.6666666666666666,
              "#ed7953"
             ],
             [
              0.7777777777777778,
              "#fb9f3a"
             ],
             [
              0.8888888888888888,
              "#fdca26"
             ],
             [
              1,
              "#f0f921"
             ]
            ],
            "type": "surface"
           }
          ],
          "table": [
           {
            "cells": {
             "fill": {
              "color": "#EBF0F8"
             },
             "line": {
              "color": "white"
             }
            },
            "header": {
             "fill": {
              "color": "#C8D4E3"
             },
             "line": {
              "color": "white"
             }
            },
            "type": "table"
           }
          ]
         },
         "layout": {
          "annotationdefaults": {
           "arrowcolor": "#2a3f5f",
           "arrowhead": 0,
           "arrowwidth": 1
          },
          "autotypenumbers": "strict",
          "coloraxis": {
           "colorbar": {
            "outlinewidth": 0,
            "ticks": ""
           }
          },
          "colorscale": {
           "diverging": [
            [
             0,
             "#8e0152"
            ],
            [
             0.1,
             "#c51b7d"
            ],
            [
             0.2,
             "#de77ae"
            ],
            [
             0.3,
             "#f1b6da"
            ],
            [
             0.4,
             "#fde0ef"
            ],
            [
             0.5,
             "#f7f7f7"
            ],
            [
             0.6,
             "#e6f5d0"
            ],
            [
             0.7,
             "#b8e186"
            ],
            [
             0.8,
             "#7fbc41"
            ],
            [
             0.9,
             "#4d9221"
            ],
            [
             1,
             "#276419"
            ]
           ],
           "sequential": [
            [
             0,
             "#0d0887"
            ],
            [
             0.1111111111111111,
             "#46039f"
            ],
            [
             0.2222222222222222,
             "#7201a8"
            ],
            [
             0.3333333333333333,
             "#9c179e"
            ],
            [
             0.4444444444444444,
             "#bd3786"
            ],
            [
             0.5555555555555556,
             "#d8576b"
            ],
            [
             0.6666666666666666,
             "#ed7953"
            ],
            [
             0.7777777777777778,
             "#fb9f3a"
            ],
            [
             0.8888888888888888,
             "#fdca26"
            ],
            [
             1,
             "#f0f921"
            ]
           ],
           "sequentialminus": [
            [
             0,
             "#0d0887"
            ],
            [
             0.1111111111111111,
             "#46039f"
            ],
            [
             0.2222222222222222,
             "#7201a8"
            ],
            [
             0.3333333333333333,
             "#9c179e"
            ],
            [
             0.4444444444444444,
             "#bd3786"
            ],
            [
             0.5555555555555556,
             "#d8576b"
            ],
            [
             0.6666666666666666,
             "#ed7953"
            ],
            [
             0.7777777777777778,
             "#fb9f3a"
            ],
            [
             0.8888888888888888,
             "#fdca26"
            ],
            [
             1,
             "#f0f921"
            ]
           ]
          },
          "colorway": [
           "#636efa",
           "#EF553B",
           "#00cc96",
           "#ab63fa",
           "#FFA15A",
           "#19d3f3",
           "#FF6692",
           "#B6E880",
           "#FF97FF",
           "#FECB52"
          ],
          "font": {
           "color": "#2a3f5f"
          },
          "geo": {
           "bgcolor": "white",
           "lakecolor": "white",
           "landcolor": "#E5ECF6",
           "showlakes": true,
           "showland": true,
           "subunitcolor": "white"
          },
          "hoverlabel": {
           "align": "left"
          },
          "hovermode": "closest",
          "mapbox": {
           "style": "light"
          },
          "paper_bgcolor": "white",
          "plot_bgcolor": "#E5ECF6",
          "polar": {
           "angularaxis": {
            "gridcolor": "white",
            "linecolor": "white",
            "ticks": ""
           },
           "bgcolor": "#E5ECF6",
           "radialaxis": {
            "gridcolor": "white",
            "linecolor": "white",
            "ticks": ""
           }
          },
          "scene": {
           "xaxis": {
            "backgroundcolor": "#E5ECF6",
            "gridcolor": "white",
            "gridwidth": 2,
            "linecolor": "white",
            "showbackground": true,
            "ticks": "",
            "zerolinecolor": "white"
           },
           "yaxis": {
            "backgroundcolor": "#E5ECF6",
            "gridcolor": "white",
            "gridwidth": 2,
            "linecolor": "white",
            "showbackground": true,
            "ticks": "",
            "zerolinecolor": "white"
           },
           "zaxis": {
            "backgroundcolor": "#E5ECF6",
            "gridcolor": "white",
            "gridwidth": 2,
            "linecolor": "white",
            "showbackground": true,
            "ticks": "",
            "zerolinecolor": "white"
           }
          },
          "shapedefaults": {
           "line": {
            "color": "#2a3f5f"
           }
          },
          "ternary": {
           "aaxis": {
            "gridcolor": "white",
            "linecolor": "white",
            "ticks": ""
           },
           "baxis": {
            "gridcolor": "white",
            "linecolor": "white",
            "ticks": ""
           },
           "bgcolor": "#E5ECF6",
           "caxis": {
            "gridcolor": "white",
            "linecolor": "white",
            "ticks": ""
           }
          },
          "title": {
           "x": 0.05
          },
          "xaxis": {
           "automargin": true,
           "gridcolor": "white",
           "linecolor": "white",
           "ticks": "",
           "title": {
            "standoff": 15
           },
           "zerolinecolor": "white",
           "zerolinewidth": 2
          },
          "yaxis": {
           "automargin": true,
           "gridcolor": "white",
           "linecolor": "white",
           "ticks": "",
           "title": {
            "standoff": 15
           },
           "zerolinecolor": "white",
           "zerolinewidth": 2
          }
         }
        },
        "xaxis": {
         "anchor": "y",
         "domain": [
          0,
          1
         ],
         "title": {
          "text": "Total"
         }
        },
        "yaxis": {
         "anchor": "x",
         "domain": [
          0,
          1
         ],
         "showgrid": false,
         "showticklabels": false,
         "title": {
          "text": "y"
         }
        }
       }
      }
     },
     "metadata": {},
     "output_type": "display_data"
    },
    {
     "name": "stdout",
     "output_type": "stream",
     "text": [
      "total_medio_pensoes\n",
      "0    159\n",
      "1    119\n",
      "2     30\n",
      "Name: count, dtype: int64\n",
      "File saved to csv_files/6_Valor_Médio_Pensões.csv\n"
     ]
    }
   ],
   "source": [
    "\n",
    "clustered_df = aplicar_kmeans(df_pensoes, 3, nome_cluster='total_medio_pensoes')\n",
    "save_clustered_df_to_csv(clustered_df, \"csv_files/\", \"6_Valor_Médio_Pensões.csv\")"
   ]
  },
  {
   "cell_type": "markdown",
   "id": "b04fa541",
   "metadata": {},
   "source": [
    "#### RSI\n"
   ]
  },
  {
   "cell_type": "code",
<<<<<<< HEAD
   "execution_count": 26,
=======
   "execution_count": 12,
>>>>>>> more_clusters
   "id": "041e3664",
   "metadata": {},
   "outputs": [
    {
     "data": {
      "text/html": [
       "<div>\n",
       "<style scoped>\n",
       "    .dataframe tbody tr th:only-of-type {\n",
       "        vertical-align: middle;\n",
       "    }\n",
       "\n",
       "    .dataframe tbody tr th {\n",
       "        vertical-align: top;\n",
       "    }\n",
       "\n",
       "    .dataframe thead th {\n",
       "        text-align: right;\n",
       "    }\n",
       "</style>\n",
       "<table border=\"1\" class=\"dataframe\">\n",
       "  <thead>\n",
       "    <tr style=\"text-align: right;\">\n",
       "      <th></th>\n",
       "      <th>local</th>\n",
       "      <th>codigo</th>\n",
       "      <th>valor</th>\n",
       "    </tr>\n",
       "  </thead>\n",
       "  <tbody>\n",
       "    <tr>\n",
       "      <th>4</th>\n",
       "      <td>Arcos de Valdevez</td>\n",
       "      <td>1111601</td>\n",
       "      <td>271.0</td>\n",
       "    </tr>\n",
       "    <tr>\n",
       "      <th>5</th>\n",
       "      <td>Caminha</td>\n",
       "      <td>1111602</td>\n",
       "      <td>265.0</td>\n",
       "    </tr>\n",
       "    <tr>\n",
       "      <th>6</th>\n",
       "      <td>Melgaço</td>\n",
       "      <td>1111603</td>\n",
       "      <td>84.0</td>\n",
       "    </tr>\n",
       "    <tr>\n",
       "      <th>7</th>\n",
       "      <td>Monção</td>\n",
       "      <td>1111604</td>\n",
       "      <td>171.0</td>\n",
       "    </tr>\n",
       "    <tr>\n",
       "      <th>8</th>\n",
       "      <td>Paredes de Coura</td>\n",
       "      <td>1111605</td>\n",
       "      <td>113.0</td>\n",
       "    </tr>\n",
       "    <tr>\n",
       "      <th>...</th>\n",
       "      <td>...</td>\n",
       "      <td>...</td>\n",
       "      <td>...</td>\n",
       "    </tr>\n",
       "    <tr>\n",
       "      <th>342</th>\n",
       "      <td>Ribeira Brava</td>\n",
       "      <td>3003107</td>\n",
       "      <td>230.0</td>\n",
       "    </tr>\n",
       "    <tr>\n",
       "      <th>343</th>\n",
       "      <td>Santa Cruz</td>\n",
       "      <td>3003108</td>\n",
       "      <td>550.0</td>\n",
       "    </tr>\n",
       "    <tr>\n",
       "      <th>344</th>\n",
       "      <td>Santana</td>\n",
       "      <td>3003109</td>\n",
       "      <td>252.0</td>\n",
       "    </tr>\n",
       "    <tr>\n",
       "      <th>345</th>\n",
       "      <td>São Vicente</td>\n",
       "      <td>3003110</td>\n",
       "      <td>148.0</td>\n",
       "    </tr>\n",
       "    <tr>\n",
       "      <th>346</th>\n",
       "      <td>Porto Santo</td>\n",
       "      <td>3003201</td>\n",
       "      <td>69.0</td>\n",
       "    </tr>\n",
       "  </tbody>\n",
       "</table>\n",
       "<p>308 rows × 3 columns</p>\n",
       "</div>"
      ],
      "text/plain": [
       "                 local   codigo  valor\n",
       "4    Arcos de Valdevez  1111601  271.0\n",
       "5              Caminha  1111602  265.0\n",
       "6              Melgaço  1111603   84.0\n",
       "7               Monção  1111604  171.0\n",
       "8     Paredes de Coura  1111605  113.0\n",
       "..                 ...      ...    ...\n",
       "342      Ribeira Brava  3003107  230.0\n",
       "343         Santa Cruz  3003108  550.0\n",
       "344            Santana  3003109  252.0\n",
       "345        São Vicente  3003110  148.0\n",
       "346        Porto Santo  3003201   69.0\n",
       "\n",
       "[308 rows x 3 columns]"
      ]
     },
<<<<<<< HEAD
     "execution_count": 26,
=======
     "execution_count": 12,
>>>>>>> more_clusters
     "metadata": {},
     "output_type": "execute_result"
    }
   ],
   "source": [
    "df_rsi = processar_ficheiro(data_path+'Valor processado do rendimento social de inserção.xls',2)\n",
    "df_rsi = carregar_municipios(df_rsi)\n",
    "#save_clustered_df_to_csv( df_rsi.rename(columns={'Total_2022': 'Valor_Processado_RSI'}), \"csv_bruto/\", \"6_Valor_Processado_RSI.csv\")\n",
    "df_rsi\n",
    "\n"
   ]
  },
  {
   "cell_type": "code",
<<<<<<< HEAD
   "execution_count": 27,
=======
   "execution_count": 13,
>>>>>>> more_clusters
   "id": "ddd6dd63",
   "metadata": {},
   "outputs": [
    {
     "data": {
      "application/vnd.plotly.v1+json": {
       "config": {
        "plotlyServerURL": "https://plot.ly"
       },
       "data": [
        {
         "customdata": [
          [
           "Arcos de Valdevez",
           "1111601"
          ],
          [
           "Caminha",
           "1111602"
          ],
          [
           "Melgaço",
           "1111603"
          ],
          [
           "Monção",
           "1111604"
          ],
          [
           "Paredes de Coura",
           "1111605"
          ],
          [
           "Ponte da Barca",
           "1111606"
          ],
          [
           "Ponte de Lima",
           "1111607"
          ],
          [
           "Valença",
           "1111608"
          ],
          [
           "Viana do Castelo",
           "1111609"
          ],
          [
           "Vila Nova de Cerveira",
           "1111610"
          ],
          [
           "Amares",
           "1120301"
          ],
          [
           "Barcelos",
           "1120302"
          ],
          [
           "Braga",
           "1120303"
          ],
          [
           "Esposende",
           "1120306"
          ],
          [
           "Terras de Bouro",
           "1120310"
          ],
          [
           "Vila Verde",
           "1120313"
          ],
          [
           "Cabeceiras de Basto",
           "1190304"
          ],
          [
           "Fafe",
           "1190307"
          ],
          [
           "Guimarães",
           "1190308"
          ],
          [
           "Mondim de Basto",
           "1191705"
          ],
          [
           "Póvoa de Lanhoso",
           "1190309"
          ],
          [
           "Vieira do Minho",
           "1190311"
          ],
          [
           "Vila Nova de Famalicão",
           "1190312"
          ],
          [
           "Vizela",
           "1190314"
          ],
          [
           "Arouca",
           "11A0104"
          ],
          [
           "Espinho",
           "11A0107"
          ],
          [
           "Gondomar",
           "11A1304"
          ],
          [
           "Maia",
           "11A1306"
          ],
          [
           "Matosinhos",
           "11A1308"
          ],
          [
           "Oliveira de Azeméis",
           "11A0113"
          ],
          [
           "Paredes",
           "11A1310"
          ],
          [
           "Porto",
           "11A1312"
          ],
          [
           "Póvoa de Varzim",
           "11A1313"
          ],
          [
           "Santa Maria da Feira",
           "11A0109"
          ],
          [
           "Santo Tirso",
           "11A1314"
          ],
          [
           "São João da Madeira",
           "11A0116"
          ],
          [
           "Trofa",
           "11A1318"
          ],
          [
           "Vale de Cambra",
           "11A0119"
          ],
          [
           "Valongo",
           "11A1315"
          ],
          [
           "Vila do Conde",
           "11A1316"
          ],
          [
           "Vila Nova de Gaia",
           "11A1317"
          ],
          [
           "Boticas",
           "11B1702"
          ],
          [
           "Chaves",
           "11B1703"
          ],
          [
           "Montalegre",
           "11B1706"
          ],
          [
           "Ribeira de Pena",
           "11B1709"
          ],
          [
           "Valpaços",
           "11B1712"
          ],
          [
           "Vila Pouca de Aguiar",
           "11B1713"
          ],
          [
           "Amarante",
           "11C1301"
          ],
          [
           "Baião",
           "11C1302"
          ],
          [
           "Castelo de Paiva",
           "11C0106"
          ],
          [
           "Celorico de Basto",
           "11C0305"
          ],
          [
           "Cinfães",
           "11C1804"
          ],
          [
           "Felgueiras",
           "11C1303"
          ],
          [
           "Lousada",
           "11C1305"
          ],
          [
           "Marco de Canaveses",
           "11C1307"
          ],
          [
           "Paços de Ferreira",
           "11C1309"
          ],
          [
           "Penafiel",
           "11C1311"
          ],
          [
           "Resende",
           "11C1813"
          ],
          [
           "Alijó",
           "11D1701"
          ],
          [
           "Armamar",
           "11D1801"
          ],
          [
           "Carrazeda de Ansiães",
           "11D0403"
          ],
          [
           "Freixo de Espada à Cinta",
           "11D0404"
          ],
          [
           "Lamego",
           "11D1805"
          ],
          [
           "Mesão Frio",
           "11D1704"
          ],
          [
           "Moimenta da Beira",
           "11D1807"
          ],
          [
           "Murça",
           "11D1707"
          ],
          [
           "Penedono",
           "11D1812"
          ],
          [
           "Peso da Régua",
           "11D1708"
          ],
          [
           "Sabrosa",
           "11D1710"
          ],
          [
           "Santa Marta de Penaguião",
           "11D1711"
          ],
          [
           "São João da Pesqueira",
           "11D1815"
          ],
          [
           "Sernancelhe",
           "11D1818"
          ],
          [
           "Tabuaço",
           "11D1819"
          ],
          [
           "Tarouca",
           "11D1820"
          ],
          [
           "Torre de Moncorvo",
           "11D0409"
          ],
          [
           "Vila Nova de Foz Côa",
           "11D0914"
          ],
          [
           "Vila Real",
           "11D1714"
          ],
          [
           "Alfândega da Fé",
           "11E0401"
          ],
          [
           "Bragança",
           "11E0402"
          ],
          [
           "Macedo de Cavaleiros",
           "11E0405"
          ],
          [
           "Miranda do Douro",
           "11E0406"
          ],
          [
           "Mirandela",
           "11E0407"
          ],
          [
           "Mogadouro",
           "11E0408"
          ],
          [
           "Vila Flor",
           "11E0410"
          ],
          [
           "Vimioso",
           "11E0411"
          ],
          [
           "Vinhais",
           "11E0412"
          ],
          [
           "Águeda",
           "1910101"
          ],
          [
           "Albergaria-a-Velha",
           "1910102"
          ],
          [
           "Anadia",
           "1910103"
          ],
          [
           "Aveiro",
           "1910105"
          ],
          [
           "Estarreja",
           "1910108"
          ],
          [
           "Ílhavo",
           "1910110"
          ],
          [
           "Murtosa",
           "1910112"
          ],
          [
           "Oliveira do Bairro",
           "1910114"
          ],
          [
           "Ovar",
           "1910115"
          ],
          [
           "Sever do Vouga",
           "1910117"
          ],
          [
           "Vagos",
           "1910118"
          ],
          [
           "Arganil",
           "1920601"
          ],
          [
           "Cantanhede",
           "1920602"
          ],
          [
           "Coimbra",
           "1920603"
          ],
          [
           "Condeixa-a-Nova",
           "1920604"
          ],
          [
           "Figueira da Foz",
           "1920605"
          ],
          [
           "Góis",
           "1920606"
          ],
          [
           "Lousã",
           "1920607"
          ],
          [
           "Mealhada",
           "1920111"
          ],
          [
           "Mira",
           "1920608"
          ],
          [
           "Miranda do Corvo",
           "1920609"
          ],
          [
           "Montemor-o-Velho",
           "1920610"
          ],
          [
           "Mortágua",
           "1921808"
          ],
          [
           "Oliveira do Hospital",
           "1920611"
          ],
          [
           "Pampilhosa da Serra",
           "1920612"
          ],
          [
           "Penacova",
           "1920613"
          ],
          [
           "Penela",
           "1920614"
          ],
          [
           "Soure",
           "1920615"
          ],
          [
           "Tábua",
           "1920616"
          ],
          [
           "Vila Nova de Poiares",
           "1920617"
          ],
          [
           "Alvaiázere",
           "1931002"
          ],
          [
           "Ansião",
           "1931003"
          ],
          [
           "Batalha",
           "1931004"
          ],
          [
           "Castanheira de Pêra",
           "1931007"
          ],
          [
           "Figueiró dos Vinhos",
           "1931008"
          ],
          [
           "Leiria",
           "1931009"
          ],
          [
           "Marinha Grande",
           "1931010"
          ],
          [
           "Pedrógão Grande",
           "1931013"
          ],
          [
           "Pombal",
           "1931015"
          ],
          [
           "Porto de Mós",
           "1931016"
          ],
          [
           "Aguiar da Beira",
           "1940901"
          ],
          [
           "Carregal do Sal",
           "1941802"
          ],
          [
           "Castro Daire",
           "1941803"
          ],
          [
           "Mangualde",
           "1941806"
          ],
          [
           "Nelas",
           "1941809"
          ],
          [
           "Oliveira de Frades",
           "1941810"
          ],
          [
           "Penalva do Castelo",
           "1941811"
          ],
          [
           "Santa Comba Dão",
           "1941814"
          ],
          [
           "São Pedro do Sul",
           "1941816"
          ],
          [
           "Sátão",
           "1941817"
          ],
          [
           "Tondela",
           "1941821"
          ],
          [
           "Vila Nova de Paiva",
           "1941822"
          ],
          [
           "Viseu",
           "1941823"
          ],
          [
           "Vouzela",
           "1941824"
          ],
          [
           "Castelo Branco",
           "1950502"
          ],
          [
           "Idanha-a-Nova",
           "1950505"
          ],
          [
           "Oleiros",
           "1950506"
          ],
          [
           "Penamacor",
           "1950507"
          ],
          [
           "Proença-a-Nova",
           "1950508"
          ],
          [
           "Sertã",
           "1950509"
          ],
          [
           "Vila de Rei",
           "1950510"
          ],
          [
           "Vila Velha de Ródão",
           "1950511"
          ],
          [
           "Almeida",
           "1960902"
          ],
          [
           "Belmonte",
           "1960501"
          ],
          [
           "Celorico da Beira",
           "1960903"
          ],
          [
           "Covilhã",
           "1960503"
          ],
          [
           "Figueira de Castelo Rodrigo",
           "1960904"
          ],
          [
           "Fornos de Algodres",
           "1960905"
          ],
          [
           "Fundão",
           "1960504"
          ],
          [
           "Gouveia",
           "1960906"
          ],
          [
           "Guarda",
           "1960907"
          ],
          [
           "Manteigas",
           "1960908"
          ],
          [
           "Mêda",
           "1960909"
          ],
          [
           "Pinhel",
           "1960910"
          ],
          [
           "Sabugal",
           "1960911"
          ],
          [
           "Seia",
           "1960912"
          ],
          [
           "Trancoso",
           "1960913"
          ],
          [
           "Alcobaça",
           "1D11001"
          ],
          [
           "Alenquer",
           "1D11101"
          ],
          [
           "Arruda dos Vinhos",
           "1D11102"
          ],
          [
           "Bombarral",
           "1D11005"
          ],
          [
           "Cadaval",
           "1D11104"
          ],
          [
           "Caldas da Rainha",
           "1D11006"
          ],
          [
           "Lourinhã",
           "1D11108"
          ],
          [
           "Nazaré",
           "1D11011"
          ],
          [
           "Óbidos",
           "1D11012"
          ],
          [
           "Peniche",
           "1D11014"
          ],
          [
           "Sobral de Monte Agraço",
           "1D11112"
          ],
          [
           "Torres Vedras",
           "1D11113"
          ],
          [
           "Abrantes",
           "1D21401"
          ],
          [
           "Alcanena",
           "1D21402"
          ],
          [
           "Constância",
           "1D21408"
          ],
          [
           "Entroncamento",
           "1D21410"
          ],
          [
           "Ferreira do Zêzere",
           "1D21411"
          ],
          [
           "Mação",
           "1D21413"
          ],
          [
           "Ourém",
           "1D21421"
          ],
          [
           "Sardoal",
           "1D21417"
          ],
          [
           "Tomar",
           "1D21418"
          ],
          [
           "Torres Novas",
           "1D21419"
          ],
          [
           "Vila Nova da Barquinha",
           "1D21420"
          ],
          [
           "Almeirim",
           "1D31403"
          ],
          [
           "Alpiarça",
           "1D31404"
          ],
          [
           "Azambuja",
           "1D31103"
          ],
          [
           "Benavente",
           "1D31405"
          ],
          [
           "Cartaxo",
           "1D31406"
          ],
          [
           "Chamusca",
           "1D31407"
          ],
          [
           "Coruche",
           "1D31409"
          ],
          [
           "Golegã",
           "1D31412"
          ],
          [
           "Rio Maior",
           "1D31414"
          ],
          [
           "Salvaterra de Magos",
           "1D31415"
          ],
          [
           "Santarém",
           "1D31416"
          ],
          [
           "Amadora",
           "1A01115"
          ],
          [
           "Cascais",
           "1A01105"
          ],
          [
           "Lisboa",
           "1A01106"
          ],
          [
           "Loures",
           "1A01107"
          ],
          [
           "Mafra",
           "1A01109"
          ],
          [
           "Odivelas",
           "1A01116"
          ],
          [
           "Oeiras",
           "1A01110"
          ],
          [
           "Sintra",
           "1A01111"
          ],
          [
           "Vila Franca de Xira",
           "1A01114"
          ],
          [
           "Alcochete",
           "1B01502"
          ],
          [
           "Almada",
           "1B01503"
          ],
          [
           "Barreiro",
           "1B01504"
          ],
          [
           "Moita",
           "1B01506"
          ],
          [
           "Montijo",
           "1B01507"
          ],
          [
           "Palmela",
           "1B01508"
          ],
          [
           "Seixal",
           "1B01510"
          ],
          [
           "Sesimbra",
           "1B01511"
          ],
          [
           "Setúbal",
           "1B01512"
          ],
          [
           "Alcácer do Sal",
           "1C11501"
          ],
          [
           "Grândola",
           "1C11505"
          ],
          [
           "Odemira",
           "1C10211"
          ],
          [
           "Santiago do Cacém",
           "1C11509"
          ],
          [
           "Sines",
           "1C11513"
          ],
          [
           "Aljustrel",
           "1C20201"
          ],
          [
           "Almodôvar",
           "1C20202"
          ],
          [
           "Alvito",
           "1C20203"
          ],
          [
           "Barrancos",
           "1C20204"
          ],
          [
           "Beja",
           "1C20205"
          ],
          [
           "Castro Verde",
           "1C20206"
          ],
          [
           "Cuba",
           "1C20207"
          ],
          [
           "Ferreira do Alentejo",
           "1C20208"
          ],
          [
           "Mértola",
           "1C20209"
          ],
          [
           "Moura",
           "1C20210"
          ],
          [
           "Ourique",
           "1C20212"
          ],
          [
           "Serpa",
           "1C20213"
          ],
          [
           "Vidigueira",
           "1C20214"
          ],
          [
           "Alter do Chão",
           "1C31201"
          ],
          [
           "Arronches",
           "1C31202"
          ],
          [
           "Avis",
           "1C31203"
          ],
          [
           "Campo Maior",
           "1C31204"
          ],
          [
           "Castelo de Vide",
           "1C31205"
          ],
          [
           "Crato",
           "1C31206"
          ],
          [
           "Elvas",
           "1C31207"
          ],
          [
           "Fronteira",
           "1C31208"
          ],
          [
           "Gavião",
           "1C31209"
          ],
          [
           "Marvão",
           "1C31210"
          ],
          [
           "Monforte",
           "1C31211"
          ],
          [
           "Nisa",
           "1C31212"
          ],
          [
           "Ponte de Sor",
           "1C31213"
          ],
          [
           "Portalegre",
           "1C31214"
          ],
          [
           "Sousel",
           "1C31215"
          ],
          [
           "Alandroal",
           "1C40701"
          ],
          [
           "Arraiolos",
           "1C40702"
          ],
          [
           "Borba",
           "1C40703"
          ],
          [
           "Estremoz",
           "1C40704"
          ],
          [
           "Évora",
           "1C40705"
          ],
          [
           "Montemor-o-Novo",
           "1C40706"
          ],
          [
           "Mora",
           "1C40707"
          ],
          [
           "Mourão",
           "1C40708"
          ],
          [
           "Portel",
           "1C40709"
          ],
          [
           "Redondo",
           "1C40710"
          ],
          [
           "Reguengos de Monsaraz",
           "1C40711"
          ],
          [
           "Vendas Novas",
           "1C40712"
          ],
          [
           "Viana do Alentejo",
           "1C40713"
          ],
          [
           "Vila Viçosa",
           "1C40714"
          ],
          [
           "Albufeira",
           "1500801"
          ],
          [
           "Alcoutim",
           "1500802"
          ],
          [
           "Aljezur",
           "1500803"
          ],
          [
           "Castro Marim",
           "1500804"
          ],
          [
           "Faro",
           "1500805"
          ],
          [
           "Lagoa",
           "1500806"
          ],
          [
           "Lagos",
           "1500807"
          ],
          [
           "Loulé",
           "1500808"
          ],
          [
           "Monchique",
           "1500809"
          ],
          [
           "Olhão",
           "1500810"
          ],
          [
           "Portimão",
           "1500811"
          ],
          [
           "São Brás de Alportel",
           "1500812"
          ],
          [
           "Silves",
           "1500813"
          ],
          [
           "Tavira",
           "1500814"
          ],
          [
           "Vila do Bispo",
           "1500815"
          ],
          [
           "Vila Real de Santo António",
           "1500816"
          ],
          [
           "Angra do Heroísmo",
           "2004301"
          ],
          [
           "Calheta (R.A.A.)",
           "2004501"
          ],
          [
           "Corvo",
           "2004901"
          ],
          [
           "Horta",
           "2004701"
          ],
          [
           "Lagoa (R.A.A.)",
           "2004201"
          ],
          [
           "Lajes das Flores",
           "2004801"
          ],
          [
           "Lajes do Pico",
           "2004601"
          ],
          [
           "Madalena",
           "2004602"
          ],
          [
           "Nordeste",
           "2004202"
          ],
          [
           "Ponta Delgada",
           "2004203"
          ],
          [
           "Povoação",
           "2004204"
          ],
          [
           "Ribeira Grande",
           "2004205"
          ],
          [
           "Santa Cruz da Graciosa",
           "2004401"
          ],
          [
           "Santa Cruz das Flores",
           "2004802"
          ],
          [
           "São Roque do Pico",
           "2004603"
          ],
          [
           "Velas",
           "2004502"
          ],
          [
           "Vila da Praia da Vitória",
           "2004302"
          ],
          [
           "Vila do Porto",
           "2004101"
          ],
          [
           "Vila Franca do Campo",
           "2004206"
          ],
          [
           "Calheta (R.A.M.)",
           "3003101"
          ],
          [
           "Câmara de Lobos",
           "3003102"
          ],
          [
           "Funchal",
           "3003103"
          ],
          [
           "Machico",
           "3003104"
          ],
          [
           "Ponta do Sol",
           "3003105"
          ],
          [
           "Porto Moniz",
           "3003106"
          ],
          [
           "Ribeira Brava",
           "3003107"
          ],
          [
           "Santa Cruz",
           "3003108"
          ],
          [
           "Santana",
           "3003109"
          ],
          [
           "São Vicente",
           "3003110"
          ],
          [
           "Porto Santo",
           "3003201"
          ]
         ],
         "hovertemplate": "valor=%{x}<br>y=%{y}<br>local=%{customdata[0]}<br>codigo=%{customdata[1]}<br>valor_rsi=%{marker.color}<extra></extra>",
         "legendgroup": "",
         "marker": {
          "color": {
           "bdata": "AAAAAAAAAAABAAAAAQAAAAAAAQAAAAEAAAACAgIAAQMBAQEAAAACAQMAAQAAAAABAAAAAAAAAQEBAAAAAAAAAAAAAAAAAAAAAAAAAAEAAAAAAAAAAAAAAAABAAAAAAEAAAAAAgABAAAAAAAAAAAAAAAAAAAAAAAAAAEAAAAAAAAAAAAAAAAAAAAAAQABAAAAAAAAAAAAAAEAAAAAAAAAAAAAAAAAAAAAAAAAAAAAAAAAAAAAAAAAAAAAAAAAAAAAAAAAAAECAgMCAAEBAgEAAgEBAQACAQIAAAAAAAAAAAABAAAAAAEAAAAAAAAAAAABAAAAAAAAAAAAAAAAAQAAAAAAAAAAAAEAAAABAAABAAABAAAAAAAAAAAAAAAAAAACAAEAAAAAAAAAAAABAAAAAAAAAAA=",
           "dtype": "i1"
          },
          "coloraxis": "coloraxis",
          "size": 10,
          "symbol": "circle"
         },
         "mode": "markers",
         "name": "",
         "orientation": "v",
         "showlegend": false,
         "type": "scatter",
         "x": {
          "bdata": "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",
          "dtype": "f8"
         },
         "xaxis": "x",
         "y": {
          "bdata": "AAAAAAAAAAAAAAAAAAAAAAAAAAAAAAAAAAAAAAAAAAAAAAAAAAAAAAAAAAAAAAAAAAAAAAAAAAAAAAAAAAAAAAAAAAAAAAAAAAAAAAAAAAAAAAAAAAAAAAAAAAAAAAAAAAAAAAAAAAAAAAAAAAAAAAAAAAAAAAAAAAAAAAAAAAAAAAAAAAAAAAAAAAAAAAAAAAAAAAAAAAAAAAAAAAAAAAAAAAAAAAAAAAAAAAAAAAAAAAAAAAAAAAAAAAAAAAAAAAAAAAAAAAAAAAAAAAAAAAAAAAAAAAAAAAAAAAAAAAAAAAAAAAAAAAAAAAAAAAAAAAAAAAAAAAAAAAAAAAAAAAAAAAAAAAAAAAAAAAAAAAAAAAAAAAAAAAAAAAAAAAAAAAAAAAAAAAAAAAAAAAAAAAAAAAA=",
          "dtype": "i1"
         },
         "yaxis": "y"
        }
       ],
       "layout": {
        "coloraxis": {
         "colorbar": {
          "title": {
           "text": "valor_rsi"
          }
         },
         "colorscale": [
          [
           0,
           "#440154"
          ],
          [
           0.1111111111111111,
           "#482878"
          ],
          [
           0.2222222222222222,
           "#3e4989"
          ],
          [
           0.3333333333333333,
           "#31688e"
          ],
          [
           0.4444444444444444,
           "#26828e"
          ],
          [
           0.5555555555555556,
           "#1f9e89"
          ],
          [
           0.6666666666666666,
           "#35b779"
          ],
          [
           0.7777777777777778,
           "#6ece58"
          ],
          [
           0.8888888888888888,
           "#b5de2b"
          ],
          [
           1,
           "#fde725"
          ]
         ]
        },
        "height": 300,
        "legend": {
         "tracegroupgap": 0
        },
        "margin": {
         "t": 60
        },
        "template": {
         "data": {
          "bar": [
           {
            "error_x": {
             "color": "#2a3f5f"
            },
            "error_y": {
             "color": "#2a3f5f"
            },
            "marker": {
             "line": {
              "color": "#E5ECF6",
              "width": 0.5
             },
             "pattern": {
              "fillmode": "overlay",
              "size": 10,
              "solidity": 0.2
             }
            },
            "type": "bar"
           }
          ],
          "barpolar": [
           {
            "marker": {
             "line": {
              "color": "#E5ECF6",
              "width": 0.5
             },
             "pattern": {
              "fillmode": "overlay",
              "size": 10,
              "solidity": 0.2
             }
            },
            "type": "barpolar"
           }
          ],
          "carpet": [
           {
            "aaxis": {
             "endlinecolor": "#2a3f5f",
             "gridcolor": "white",
             "linecolor": "white",
             "minorgridcolor": "white",
             "startlinecolor": "#2a3f5f"
            },
            "baxis": {
             "endlinecolor": "#2a3f5f",
             "gridcolor": "white",
             "linecolor": "white",
             "minorgridcolor": "white",
             "startlinecolor": "#2a3f5f"
            },
            "type": "carpet"
           }
          ],
          "choropleth": [
           {
            "colorbar": {
             "outlinewidth": 0,
             "ticks": ""
            },
            "type": "choropleth"
           }
          ],
          "contour": [
           {
            "colorbar": {
             "outlinewidth": 0,
             "ticks": ""
            },
            "colorscale": [
             [
              0,
              "#0d0887"
             ],
             [
              0.1111111111111111,
              "#46039f"
             ],
             [
              0.2222222222222222,
              "#7201a8"
             ],
             [
              0.3333333333333333,
              "#9c179e"
             ],
             [
              0.4444444444444444,
              "#bd3786"
             ],
             [
              0.5555555555555556,
              "#d8576b"
             ],
             [
              0.6666666666666666,
              "#ed7953"
             ],
             [
              0.7777777777777778,
              "#fb9f3a"
             ],
             [
              0.8888888888888888,
              "#fdca26"
             ],
             [
              1,
              "#f0f921"
             ]
            ],
            "type": "contour"
           }
          ],
          "contourcarpet": [
           {
            "colorbar": {
             "outlinewidth": 0,
             "ticks": ""
            },
            "type": "contourcarpet"
           }
          ],
          "heatmap": [
           {
            "colorbar": {
             "outlinewidth": 0,
             "ticks": ""
            },
            "colorscale": [
             [
              0,
              "#0d0887"
             ],
             [
              0.1111111111111111,
              "#46039f"
             ],
             [
              0.2222222222222222,
              "#7201a8"
             ],
             [
              0.3333333333333333,
              "#9c179e"
             ],
             [
              0.4444444444444444,
              "#bd3786"
             ],
             [
              0.5555555555555556,
              "#d8576b"
             ],
             [
              0.6666666666666666,
              "#ed7953"
             ],
             [
              0.7777777777777778,
              "#fb9f3a"
             ],
             [
              0.8888888888888888,
              "#fdca26"
             ],
             [
              1,
              "#f0f921"
             ]
            ],
            "type": "heatmap"
           }
          ],
          "histogram": [
           {
            "marker": {
             "pattern": {
              "fillmode": "overlay",
              "size": 10,
              "solidity": 0.2
             }
            },
            "type": "histogram"
           }
          ],
          "histogram2d": [
           {
            "colorbar": {
             "outlinewidth": 0,
             "ticks": ""
            },
            "colorscale": [
             [
              0,
              "#0d0887"
             ],
             [
              0.1111111111111111,
              "#46039f"
             ],
             [
              0.2222222222222222,
              "#7201a8"
             ],
             [
              0.3333333333333333,
              "#9c179e"
             ],
             [
              0.4444444444444444,
              "#bd3786"
             ],
             [
              0.5555555555555556,
              "#d8576b"
             ],
             [
              0.6666666666666666,
              "#ed7953"
             ],
             [
              0.7777777777777778,
              "#fb9f3a"
             ],
             [
              0.8888888888888888,
              "#fdca26"
             ],
             [
              1,
              "#f0f921"
             ]
            ],
            "type": "histogram2d"
           }
          ],
          "histogram2dcontour": [
           {
            "colorbar": {
             "outlinewidth": 0,
             "ticks": ""
            },
            "colorscale": [
             [
              0,
              "#0d0887"
             ],
             [
              0.1111111111111111,
              "#46039f"
             ],
             [
              0.2222222222222222,
              "#7201a8"
             ],
             [
              0.3333333333333333,
              "#9c179e"
             ],
             [
              0.4444444444444444,
              "#bd3786"
             ],
             [
              0.5555555555555556,
              "#d8576b"
             ],
             [
              0.6666666666666666,
              "#ed7953"
             ],
             [
              0.7777777777777778,
              "#fb9f3a"
             ],
             [
              0.8888888888888888,
              "#fdca26"
             ],
             [
              1,
              "#f0f921"
             ]
            ],
            "type": "histogram2dcontour"
           }
          ],
          "mesh3d": [
           {
            "colorbar": {
             "outlinewidth": 0,
             "ticks": ""
            },
            "type": "mesh3d"
           }
          ],
          "parcoords": [
           {
            "line": {
             "colorbar": {
              "outlinewidth": 0,
              "ticks": ""
             }
            },
            "type": "parcoords"
           }
          ],
          "pie": [
           {
            "automargin": true,
            "type": "pie"
           }
          ],
          "scatter": [
           {
            "fillpattern": {
             "fillmode": "overlay",
             "size": 10,
             "solidity": 0.2
            },
            "type": "scatter"
           }
          ],
          "scatter3d": [
           {
            "line": {
             "colorbar": {
              "outlinewidth": 0,
              "ticks": ""
             }
            },
            "marker": {
             "colorbar": {
              "outlinewidth": 0,
              "ticks": ""
             }
            },
            "type": "scatter3d"
           }
          ],
          "scattercarpet": [
           {
            "marker": {
             "colorbar": {
              "outlinewidth": 0,
              "ticks": ""
             }
            },
            "type": "scattercarpet"
           }
          ],
          "scattergeo": [
           {
            "marker": {
             "colorbar": {
              "outlinewidth": 0,
              "ticks": ""
             }
            },
            "type": "scattergeo"
           }
          ],
          "scattergl": [
           {
            "marker": {
             "colorbar": {
              "outlinewidth": 0,
              "ticks": ""
             }
            },
            "type": "scattergl"
           }
          ],
          "scattermap": [
           {
            "marker": {
             "colorbar": {
              "outlinewidth": 0,
              "ticks": ""
             }
            },
            "type": "scattermap"
           }
          ],
          "scattermapbox": [
           {
            "marker": {
             "colorbar": {
              "outlinewidth": 0,
              "ticks": ""
             }
            },
            "type": "scattermapbox"
           }
          ],
          "scatterpolar": [
           {
            "marker": {
             "colorbar": {
              "outlinewidth": 0,
              "ticks": ""
             }
            },
            "type": "scatterpolar"
           }
          ],
          "scatterpolargl": [
           {
            "marker": {
             "colorbar": {
              "outlinewidth": 0,
              "ticks": ""
             }
            },
            "type": "scatterpolargl"
           }
          ],
          "scatterternary": [
           {
            "marker": {
             "colorbar": {
              "outlinewidth": 0,
              "ticks": ""
             }
            },
            "type": "scatterternary"
           }
          ],
          "surface": [
           {
            "colorbar": {
             "outlinewidth": 0,
             "ticks": ""
            },
            "colorscale": [
             [
              0,
              "#0d0887"
             ],
             [
              0.1111111111111111,
              "#46039f"
             ],
             [
              0.2222222222222222,
              "#7201a8"
             ],
             [
              0.3333333333333333,
              "#9c179e"
             ],
             [
              0.4444444444444444,
              "#bd3786"
             ],
             [
              0.5555555555555556,
              "#d8576b"
             ],
             [
              0.6666666666666666,
              "#ed7953"
             ],
             [
              0.7777777777777778,
              "#fb9f3a"
             ],
             [
              0.8888888888888888,
              "#fdca26"
             ],
             [
              1,
              "#f0f921"
             ]
            ],
            "type": "surface"
           }
          ],
          "table": [
           {
            "cells": {
             "fill": {
              "color": "#EBF0F8"
             },
             "line": {
              "color": "white"
             }
            },
            "header": {
             "fill": {
              "color": "#C8D4E3"
             },
             "line": {
              "color": "white"
             }
            },
            "type": "table"
           }
          ]
         },
         "layout": {
          "annotationdefaults": {
           "arrowcolor": "#2a3f5f",
           "arrowhead": 0,
           "arrowwidth": 1
          },
          "autotypenumbers": "strict",
          "coloraxis": {
           "colorbar": {
            "outlinewidth": 0,
            "ticks": ""
           }
          },
          "colorscale": {
           "diverging": [
            [
             0,
             "#8e0152"
            ],
            [
             0.1,
             "#c51b7d"
            ],
            [
             0.2,
             "#de77ae"
            ],
            [
             0.3,
             "#f1b6da"
            ],
            [
             0.4,
             "#fde0ef"
            ],
            [
             0.5,
             "#f7f7f7"
            ],
            [
             0.6,
             "#e6f5d0"
            ],
            [
             0.7,
             "#b8e186"
            ],
            [
             0.8,
             "#7fbc41"
            ],
            [
             0.9,
             "#4d9221"
            ],
            [
             1,
             "#276419"
            ]
           ],
           "sequential": [
            [
             0,
             "#0d0887"
            ],
            [
             0.1111111111111111,
             "#46039f"
            ],
            [
             0.2222222222222222,
             "#7201a8"
            ],
            [
             0.3333333333333333,
             "#9c179e"
            ],
            [
             0.4444444444444444,
             "#bd3786"
            ],
            [
             0.5555555555555556,
             "#d8576b"
            ],
            [
             0.6666666666666666,
             "#ed7953"
            ],
            [
             0.7777777777777778,
             "#fb9f3a"
            ],
            [
             0.8888888888888888,
             "#fdca26"
            ],
            [
             1,
             "#f0f921"
            ]
           ],
           "sequentialminus": [
            [
             0,
             "#0d0887"
            ],
            [
             0.1111111111111111,
             "#46039f"
            ],
            [
             0.2222222222222222,
             "#7201a8"
            ],
            [
             0.3333333333333333,
             "#9c179e"
            ],
            [
             0.4444444444444444,
             "#bd3786"
            ],
            [
             0.5555555555555556,
             "#d8576b"
            ],
            [
             0.6666666666666666,
             "#ed7953"
            ],
            [
             0.7777777777777778,
             "#fb9f3a"
            ],
            [
             0.8888888888888888,
             "#fdca26"
            ],
            [
             1,
             "#f0f921"
            ]
           ]
          },
          "colorway": [
           "#636efa",
           "#EF553B",
           "#00cc96",
           "#ab63fa",
           "#FFA15A",
           "#19d3f3",
           "#FF6692",
           "#B6E880",
           "#FF97FF",
           "#FECB52"
          ],
          "font": {
           "color": "#2a3f5f"
          },
          "geo": {
           "bgcolor": "white",
           "lakecolor": "white",
           "landcolor": "#E5ECF6",
           "showlakes": true,
           "showland": true,
           "subunitcolor": "white"
          },
          "hoverlabel": {
           "align": "left"
          },
          "hovermode": "closest",
          "mapbox": {
           "style": "light"
          },
          "paper_bgcolor": "white",
          "plot_bgcolor": "#E5ECF6",
          "polar": {
           "angularaxis": {
            "gridcolor": "white",
            "linecolor": "white",
            "ticks": ""
           },
           "bgcolor": "#E5ECF6",
           "radialaxis": {
            "gridcolor": "white",
            "linecolor": "white",
            "ticks": ""
           }
          },
          "scene": {
           "xaxis": {
            "backgroundcolor": "#E5ECF6",
            "gridcolor": "white",
            "gridwidth": 2,
            "linecolor": "white",
            "showbackground": true,
            "ticks": "",
            "zerolinecolor": "white"
           },
           "yaxis": {
            "backgroundcolor": "#E5ECF6",
            "gridcolor": "white",
            "gridwidth": 2,
            "linecolor": "white",
            "showbackground": true,
            "ticks": "",
            "zerolinecolor": "white"
           },
           "zaxis": {
            "backgroundcolor": "#E5ECF6",
            "gridcolor": "white",
            "gridwidth": 2,
            "linecolor": "white",
            "showbackground": true,
            "ticks": "",
            "zerolinecolor": "white"
           }
          },
          "shapedefaults": {
           "line": {
            "color": "#2a3f5f"
           }
          },
          "ternary": {
           "aaxis": {
            "gridcolor": "white",
            "linecolor": "white",
            "ticks": ""
           },
           "baxis": {
            "gridcolor": "white",
            "linecolor": "white",
            "ticks": ""
           },
           "bgcolor": "#E5ECF6",
           "caxis": {
            "gridcolor": "white",
            "linecolor": "white",
            "ticks": ""
           }
          },
          "title": {
           "x": 0.05
          },
          "xaxis": {
           "automargin": true,
           "gridcolor": "white",
           "linecolor": "white",
           "ticks": "",
           "title": {
            "standoff": 15
           },
           "zerolinecolor": "white",
           "zerolinewidth": 2
          },
          "yaxis": {
           "automargin": true,
           "gridcolor": "white",
           "linecolor": "white",
           "ticks": "",
           "title": {
            "standoff": 15
           },
           "zerolinecolor": "white",
           "zerolinewidth": 2
          }
         }
        },
        "xaxis": {
         "anchor": "y",
         "domain": [
          0,
          1
         ],
         "title": {
          "text": "valor"
         }
        },
        "yaxis": {
         "anchor": "x",
         "domain": [
          0,
          1
         ],
         "showgrid": false,
         "showticklabels": false,
         "title": {
          "text": "y"
         }
        }
       }
      }
     },
     "metadata": {},
     "output_type": "display_data"
    },
    {
     "name": "stdout",
     "output_type": "stream",
     "text": [
      "valor_rsi\n",
      "0    252\n",
      "1     40\n",
      "2     13\n",
      "3      3\n",
      "Name: count, dtype: int64\n",
      "File saved to csv_files/6_Valor_Processado_RSI.csv\n"
     ]
    }
   ],
   "source": [
    "clustered_df = aplicar_kmeans(df_rsi, 4, nome_cluster='valor_rsi')\n",
    "save_clustered_df_to_csv(clustered_df, \"csv_files/\", \"6_Valor_Processado_RSI.csv\")"
   ]
  }
 ],
 "metadata": {
  "kernelspec": {
   "display_name": "ade_venv",
   "language": "python",
   "name": "python3"
  },
  "language_info": {
   "codemirror_mode": {
    "name": "ipython",
    "version": 3
   },
   "file_extension": ".py",
   "mimetype": "text/x-python",
   "name": "python",
   "nbconvert_exporter": "python",
   "pygments_lexer": "ipython3",
   "version": "3.13.0"
  }
 },
 "nbformat": 4,
 "nbformat_minor": 5
}
