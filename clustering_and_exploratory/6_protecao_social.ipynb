{
 "cells": [
  {
   "cell_type": "markdown",
   "id": "1ee3319b",
   "metadata": {},
   "source": [
    "# Análise deos Fatores da Proteção Social"
   ]
  },
  {
   "cell_type": "code",
   "execution_count": 1,
   "id": "bc35cb56",
   "metadata": {},
   "outputs": [],
   "source": [
    "\n",
    "import pandas as pd\n",
    "import os\n",
    "import pandas as pd\n",
    "from sklearn.preprocessing import StandardScaler\n",
    "from sklearn.cluster import KMeans\n",
    "import plotly.express as px\n",
    "import numpy as np\n",
    "import matplotlib.pyplot as plt\n",
    "from auxiliary.auxiliary_funcs import processar_ficheiro,carregar_municipios,aplicar_kmeans,elbow_rule, save_clustered_df_to_csv,filter_for_only_municipalities\n",
    "data_path ='../data/dados_municipio/proteção social (8)/'"
   ]
  },
  {
   "cell_type": "markdown",
   "id": "4cb5e0eb",
   "metadata": {},
   "source": [
    "#### Súbsidios de Desemprego"
   ]
  },
  {
   "cell_type": "code",
   "execution_count": 2,
   "id": "41c9317f",
   "metadata": {},
   "outputs": [
    {
     "data": {
      "text/html": [
       "<div>\n",
       "<style scoped>\n",
       "    .dataframe tbody tr th:only-of-type {\n",
       "        vertical-align: middle;\n",
       "    }\n",
       "\n",
       "    .dataframe tbody tr th {\n",
       "        vertical-align: top;\n",
       "    }\n",
       "\n",
       "    .dataframe thead th {\n",
       "        text-align: right;\n",
       "    }\n",
       "</style>\n",
       "<table border=\"1\" class=\"dataframe\">\n",
       "  <thead>\n",
       "    <tr style=\"text-align: right;\">\n",
       "      <th></th>\n",
       "      <th>local</th>\n",
       "      <th>codigo</th>\n",
       "      <th>HM</th>\n",
       "    </tr>\n",
       "  </thead>\n",
       "  <tbody>\n",
       "    <tr>\n",
       "      <th>4</th>\n",
       "      <td>Arcos de Valdevez</td>\n",
       "      <td>1111601</td>\n",
       "      <td>376.0</td>\n",
       "    </tr>\n",
       "    <tr>\n",
       "      <th>5</th>\n",
       "      <td>Caminha</td>\n",
       "      <td>1111602</td>\n",
       "      <td>404.0</td>\n",
       "    </tr>\n",
       "    <tr>\n",
       "      <th>6</th>\n",
       "      <td>Melgaço</td>\n",
       "      <td>1111603</td>\n",
       "      <td>72.0</td>\n",
       "    </tr>\n",
       "    <tr>\n",
       "      <th>7</th>\n",
       "      <td>Monção</td>\n",
       "      <td>1111604</td>\n",
       "      <td>344.0</td>\n",
       "    </tr>\n",
       "    <tr>\n",
       "      <th>8</th>\n",
       "      <td>Paredes de Coura</td>\n",
       "      <td>1111605</td>\n",
       "      <td>296.0</td>\n",
       "    </tr>\n",
       "    <tr>\n",
       "      <th>...</th>\n",
       "      <td>...</td>\n",
       "      <td>...</td>\n",
       "      <td>...</td>\n",
       "    </tr>\n",
       "    <tr>\n",
       "      <th>339</th>\n",
       "      <td>Porto Santo</td>\n",
       "      <td>3003201</td>\n",
       "      <td>304.0</td>\n",
       "    </tr>\n",
       "    <tr>\n",
       "      <th>340</th>\n",
       "      <td>Ribeira Brava</td>\n",
       "      <td>3003107</td>\n",
       "      <td>335.0</td>\n",
       "    </tr>\n",
       "    <tr>\n",
       "      <th>341</th>\n",
       "      <td>Santa Cruz</td>\n",
       "      <td>3003108</td>\n",
       "      <td>1260.0</td>\n",
       "    </tr>\n",
       "    <tr>\n",
       "      <th>342</th>\n",
       "      <td>Santana</td>\n",
       "      <td>3003109</td>\n",
       "      <td>159.0</td>\n",
       "    </tr>\n",
       "    <tr>\n",
       "      <th>343</th>\n",
       "      <td>São Vicente</td>\n",
       "      <td>3003110</td>\n",
       "      <td>104.0</td>\n",
       "    </tr>\n",
       "  </tbody>\n",
       "</table>\n",
       "<p>308 rows × 3 columns</p>\n",
       "</div>"
      ],
      "text/plain": [
       "                 local   codigo      HM\n",
       "4    Arcos de Valdevez  1111601   376.0\n",
       "5              Caminha  1111602   404.0\n",
       "6              Melgaço  1111603    72.0\n",
       "7               Monção  1111604   344.0\n",
       "8     Paredes de Coura  1111605   296.0\n",
       "..                 ...      ...     ...\n",
       "339        Porto Santo  3003201   304.0\n",
       "340      Ribeira Brava  3003107   335.0\n",
       "341         Santa Cruz  3003108  1260.0\n",
       "342            Santana  3003109   159.0\n",
       "343        São Vicente  3003110   104.0\n",
       "\n",
       "[308 rows x 3 columns]"
      ]
     },
     "execution_count": 2,
     "metadata": {},
     "output_type": "execute_result"
    }
   ],
   "source": [
    "\n",
    "df_desemprego = processar_ficheiro(data_path+'Beneficiários de subsídios de desemprego.xls',4)\n",
    "df_desemprego = carregar_municipios(df_desemprego)\n",
    "df_desemprego = df_desemprego[['local','codigo','HM']]\n",
    "#save_clustered_df_to_csv(df_desemprego.rename(columns={'HM': 'Desemprego'}), \"csv_bruto/\", \"6_Desemprego.csv\")\n",
    "df_desemprego\n"
   ]
  },
  {
   "cell_type": "code",
   "execution_count": 3,
   "id": "68bd4bbd",
   "metadata": {},
   "outputs": [
    {
     "data": {
      "application/vnd.plotly.v1+json": {
       "config": {
        "plotlyServerURL": "https://plot.ly"
       },
       "data": [
        {
         "customdata": [
          [
           "Arcos de Valdevez",
           "1111601",
           376
          ],
          [
           "Caminha",
           "1111602",
           404
          ],
          [
           "Melgaço",
           "1111603",
           72
          ],
          [
           "Monção",
           "1111604",
           344
          ],
          [
           "Paredes de Coura",
           "1111605",
           296
          ],
          [
           "Ponte da Barca",
           "1111606",
           209
          ],
          [
           "Ponte de Lima",
           "1111607",
           917
          ],
          [
           "Valença",
           "1111608",
           459
          ],
          [
           "Viana do Castelo",
           "1111609",
           2623
          ],
          [
           "Vila Nova de Cerveira",
           "1111610",
           290
          ],
          [
           "Amares",
           "1120301",
           476
          ],
          [
           "Barcelos",
           "1120302",
           2726
          ],
          [
           "Braga",
           "1120303",
           5959
          ],
          [
           "Esposende",
           "1120306",
           817
          ],
          [
           "Terras de Bouro",
           "1120310",
           268
          ],
          [
           "Vila Verde",
           "1120313",
           1023
          ],
          [
           "Cabeceiras de Basto",
           "1190304",
           396
          ],
          [
           "Fafe",
           "1190307",
           1872
          ],
          [
           "Guimarães",
           "1190308",
           6253
          ],
          [
           "Mondim de Basto",
           "1191705",
           110
          ],
          [
           "Póvoa de Lanhoso",
           "1190309",
           573
          ],
          [
           "Vieira do Minho",
           "1190311",
           356
          ],
          [
           "Vila Nova de Famalicão",
           "1190312",
           4484
          ],
          [
           "Vizela",
           "1190314",
           970
          ],
          [
           "Arouca",
           "11A0104",
           467
          ],
          [
           "Espinho",
           "11A0107",
           973
          ],
          [
           "Gondomar",
           "11A1304",
           6083
          ],
          [
           "Maia",
           "11A1306",
           4878
          ],
          [
           "Matosinhos",
           "11A1308",
           6450
          ],
          [
           "Oliveira de Azeméis",
           "11A0113",
           2411
          ],
          [
           "Paredes",
           "11A1310",
           2852
          ],
          [
           "Porto",
           "11A1312",
           8439
          ],
          [
           "Póvoa de Varzim",
           "11A1313",
           2356
          ],
          [
           "Santa Maria da Feira",
           "11A0109",
           4775
          ],
          [
           "Santo Tirso",
           "11A1314",
           2590
          ],
          [
           "São João da Madeira",
           "11A0116",
           1086
          ],
          [
           "Trofa",
           "11A1318",
           1541
          ],
          [
           "Vale de Cambra",
           "11A0119",
           580
          ],
          [
           "Valongo",
           "11A1315",
           3572
          ],
          [
           "Vila do Conde",
           "11A1316",
           3224
          ],
          [
           "Vila Nova de Gaia",
           "11A1317",
           11501
          ],
          [
           "Boticas",
           "11B1702",
           55
          ],
          [
           "Chaves",
           "11B1703",
           820
          ],
          [
           "Montalegre",
           "11B1706",
           125
          ],
          [
           "Ribeira de Pena",
           "11B1709",
           156
          ],
          [
           "Valpaços",
           "11B1712",
           205
          ],
          [
           "Vila Pouca de Aguiar",
           "11B1713",
           278
          ],
          [
           "Amarante",
           "11C1301",
           1643
          ],
          [
           "Baião",
           "11C1302",
           433
          ],
          [
           "Castelo de Paiva",
           "11C0106",
           402
          ],
          [
           "Celorico de Basto",
           "11C0305",
           386
          ],
          [
           "Cinfães",
           "11C1804",
           566
          ],
          [
           "Felgueiras",
           "11C1303",
           2220
          ],
          [
           "Lousada",
           "11C1305",
           1565
          ],
          [
           "Marco de Canaveses",
           "11C1307",
           1609
          ],
          [
           "Paços de Ferreira",
           "11C1309",
           1739
          ],
          [
           "Penafiel",
           "11C1311",
           2101
          ],
          [
           "Resende",
           "11C1813",
           219
          ],
          [
           "Alijó",
           "11D1701",
           215
          ],
          [
           "Armamar",
           "11D1801",
           144
          ],
          [
           "Carrazeda de Ansiães",
           "11D0403",
           99
          ],
          [
           "Freixo de Espada à Cinta",
           "11D0404",
           44
          ],
          [
           "Lamego",
           "11D1805",
           839
          ],
          [
           "Mesão Frio",
           "11D1704",
           69
          ],
          [
           "Moimenta da Beira",
           "11D1807",
           225
          ],
          [
           "Murça",
           "11D1707",
           106
          ],
          [
           "Penedono",
           "11D1812",
           37
          ],
          [
           "Peso da Régua",
           "11D1708",
           378
          ],
          [
           "Sabrosa",
           "11D1710",
           128
          ],
          [
           "Santa Marta de Penaguião",
           "11D1711",
           165
          ],
          [
           "São João da Pesqueira",
           "11D1815",
           100
          ],
          [
           "Sernancelhe",
           "11D1818",
           71
          ],
          [
           "Tabuaço",
           "11D1819",
           112
          ],
          [
           "Tarouca",
           "11D1820",
           220
          ],
          [
           "Torre de Moncorvo",
           "11D0409",
           156
          ],
          [
           "Vila Nova de Foz Côa",
           "11D0914",
           122
          ],
          [
           "Vila Real",
           "11D1714",
           1334
          ],
          [
           "Alfândega da Fé",
           "11E0401",
           102
          ],
          [
           "Bragança",
           "11E0402",
           710
          ],
          [
           "Macedo de Cavaleiros",
           "11E0405",
           239
          ],
          [
           "Miranda do Douro",
           "11E0406",
           73
          ],
          [
           "Mirandela",
           "11E0407",
           517
          ],
          [
           "Mogadouro",
           "11E0408",
           122
          ],
          [
           "Vila Flor",
           "11E0410",
           124
          ],
          [
           "Vimioso",
           "11E0411",
           45
          ],
          [
           "Vinhais",
           "11E0412",
           107
          ],
          [
           "Alcobaça",
           "16B1001",
           1383
          ],
          [
           "Alenquer",
           "16B1101",
           1863
          ],
          [
           "Arruda dos Vinhos",
           "16B1102",
           393
          ],
          [
           "Bombarral",
           "16B1005",
           434
          ],
          [
           "Cadaval",
           "16B1104",
           487
          ],
          [
           "Caldas da Rainha",
           "16B1006",
           1594
          ],
          [
           "Lourinhã",
           "16B1108",
           752
          ],
          [
           "Nazaré",
           "16B1011",
           552
          ],
          [
           "Óbidos",
           "16B1012",
           312
          ],
          [
           "Peniche",
           "16B1014",
           1330
          ],
          [
           "Sobral de Monte Agraço",
           "16B1112",
           261
          ],
          [
           "Torres Vedras",
           "16B1113",
           2121
          ],
          [
           "Águeda",
           "16D0101",
           1086
          ],
          [
           "Albergaria-a-Velha",
           "16D0102",
           583
          ],
          [
           "Anadia",
           "16D0103",
           652
          ],
          [
           "Aveiro",
           "16D0105",
           2532
          ],
          [
           "Estarreja",
           "16D0108",
           774
          ],
          [
           "Ílhavo",
           "16D0110",
           1239
          ],
          [
           "Murtosa",
           "16D0112",
           301
          ],
          [
           "Oliveira do Bairro",
           "16D0114",
           614
          ],
          [
           "Ovar",
           "16D0115",
           1998
          ],
          [
           "Sever do Vouga",
           "16D0117",
           178
          ],
          [
           "Vagos",
           "16D0118",
           533
          ],
          [
           "Arganil",
           "16E0601",
           212
          ],
          [
           "Cantanhede",
           "16E0602",
           867
          ],
          [
           "Coimbra",
           "16E0603",
           3600
          ],
          [
           "Condeixa-a-Nova",
           "16E0604",
           418
          ],
          [
           "Figueira da Foz",
           "16E0605",
           1944
          ],
          [
           "Góis",
           "16E0606",
           60
          ],
          [
           "Lousã",
           "16E0607",
           404
          ],
          [
           "Mealhada",
           "16E0111",
           540
          ],
          [
           "Mira",
           "16E0608",
           293
          ],
          [
           "Miranda do Corvo",
           "16E0609",
           248
          ],
          [
           "Montemor-o-Velho",
           "16E0610",
           658
          ],
          [
           "Mortágua",
           "16E1808",
           161
          ],
          [
           "Oliveira do Hospital",
           "16E0611",
           521
          ],
          [
           "Pampilhosa da Serra",
           "16E0612",
           43
          ],
          [
           "Penacova",
           "16E0613",
           229
          ],
          [
           "Penela",
           "16E0614",
           79
          ],
          [
           "Soure",
           "16E0615",
           338
          ],
          [
           "Tábua",
           "16E0616",
           237
          ],
          [
           "Vila Nova de Poiares",
           "16E0617",
           156
          ],
          [
           "Alvaiázere",
           "16F1002",
           76
          ],
          [
           "Ansião",
           "16F1003",
           220
          ],
          [
           "Batalha",
           "16F1004",
           385
          ],
          [
           "Castanheira de Pêra",
           "16F1007",
           49
          ],
          [
           "Figueiró dos Vinhos",
           "16F1008",
           80
          ],
          [
           "Leiria",
           "16F1009",
           3534
          ],
          [
           "Marinha Grande",
           "16F1010",
           1796
          ],
          [
           "Pedrógão Grande",
           "16F1013",
           49
          ],
          [
           "Pombal",
           "16F1015",
           914
          ],
          [
           "Porto de Mós",
           "16F1016",
           547
          ],
          [
           "Aguiar da Beira",
           "16G0901",
           87
          ],
          [
           "Carregal do Sal",
           "16G1802",
           249
          ],
          [
           "Castro Daire",
           "16G1803",
           387
          ],
          [
           "Mangualde",
           "16G1806",
           601
          ],
          [
           "Nelas",
           "16G1809",
           418
          ],
          [
           "Oliveira de Frades",
           "16G1810",
           305
          ],
          [
           "Penalva do Castelo",
           "16G1811",
           204
          ],
          [
           "Santa Comba Dão",
           "16G1814",
           294
          ],
          [
           "São Pedro do Sul",
           "16G1816",
           501
          ],
          [
           "Sátão",
           "16G1817",
           325
          ],
          [
           "Tondela",
           "16G1821",
           657
          ],
          [
           "Vila Nova de Paiva",
           "16G1822",
           142
          ],
          [
           "Viseu",
           "16G1823",
           2871
          ],
          [
           "Vouzela",
           "16G1824",
           321
          ],
          [
           "Castelo Branco",
           "16H0502",
           1641
          ],
          [
           "Idanha-a-Nova",
           "16H0505",
           177
          ],
          [
           "Oleiros",
           "16H0506",
           41
          ],
          [
           "Penamacor",
           "16H0507",
           74
          ],
          [
           "Proença-a-Nova",
           "16H0508",
           119
          ],
          [
           "Vila Velha de Ródão",
           "16H0511",
           73
          ],
          [
           "Abrantes",
           "16I1401",
           1308
          ],
          [
           "Alcanena",
           "16I1402",
           346
          ],
          [
           "Constância",
           "16I1408",
           97
          ],
          [
           "Entroncamento",
           "16I1410",
           555
          ],
          [
           "Ferreira do Zêzere",
           "16I1411",
           99
          ],
          [
           "Mação",
           "16I1413",
           111
          ],
          [
           "Ourém",
           "16I1421",
           925
          ],
          [
           "Sardoal",
           "16I1417",
           122
          ],
          [
           "Sertã",
           "16I0509",
           239
          ],
          [
           "Tomar",
           "16I1418",
           744
          ],
          [
           "Torres Novas",
           "16I1419",
           828
          ],
          [
           "Vila de Rei",
           "16I0510",
           65
          ],
          [
           "Vila Nova da Barquinha",
           "16I1420",
           140
          ],
          [
           "Almeida",
           "16J0902",
           95
          ],
          [
           "Belmonte",
           "16J0501",
           184
          ],
          [
           "Celorico da Beira",
           "16J0903",
           167
          ],
          [
           "Covilhã",
           "16J0503",
           1202
          ],
          [
           "Figueira de Castelo Rodrigo",
           "16J0904",
           103
          ],
          [
           "Fornos de Algodres",
           "16J0905",
           84
          ],
          [
           "Fundão",
           "16J0504",
           607
          ],
          [
           "Gouveia",
           "16J0906",
           236
          ],
          [
           "Guarda",
           "16J0907",
           1003
          ],
          [
           "Manteigas",
           "16J0908",
           64
          ],
          [
           "Mêda",
           "16J0909",
           49
          ],
          [
           "Pinhel",
           "16J0910",
           125
          ],
          [
           "Sabugal",
           "16J0911",
           146
          ],
          [
           "Seia",
           "16J0912",
           427
          ],
          [
           "Trancoso",
           "16J0913",
           113
          ],
          [
           "Alcochete",
           "1701502",
           620
          ],
          [
           "Almada",
           "1701503",
           5635
          ],
          [
           "Amadora",
           "1701115",
           5431
          ],
          [
           "Barreiro",
           "1701504",
           2967
          ],
          [
           "Cascais",
           "1701105",
           5990
          ],
          [
           "Lisboa",
           "1701106",
           15300
          ],
          [
           "Loures",
           "1701107",
           6591
          ],
          [
           "Mafra",
           "1701109",
           2030
          ],
          [
           "Moita",
           "1701506",
           2871
          ],
          [
           "Montijo",
           "1701507",
           2186
          ],
          [
           "Odivelas",
           "1701116",
           4622
          ],
          [
           "Oeiras",
           "1701110",
           4520
          ],
          [
           "Palmela",
           "1701508",
           2535
          ],
          [
           "Seixal",
           "1701510",
           5277
          ],
          [
           "Sesimbra",
           "1701511",
           1836
          ],
          [
           "Setúbal",
           "1701512",
           5217
          ],
          [
           "Sintra",
           "1701111",
           12902
          ],
          [
           "Vila Franca de Xira",
           "1701114",
           5016
          ],
          [
           "Alcácer do Sal",
           "1811501",
           310
          ],
          [
           "Grândola",
           "1811505",
           271
          ],
          [
           "Odemira",
           "1810211",
           2961
          ],
          [
           "Santiago do Cacém",
           "1811509",
           964
          ],
          [
           "Sines",
           "1811513",
           760
          ],
          [
           "Aljustrel",
           "1840201",
           198
          ],
          [
           "Almodôvar",
           "1840202",
           190
          ],
          [
           "Alvito",
           "1840203",
           59
          ],
          [
           "Barrancos",
           "1840204",
           67
          ],
          [
           "Beja",
           "1840205",
           812
          ],
          [
           "Castro Verde",
           "1840206",
           176
          ],
          [
           "Cuba",
           "1840207",
           103
          ],
          [
           "Ferreira do Alentejo",
           "1840208",
           268
          ],
          [
           "Mértola",
           "1840209",
           179
          ],
          [
           "Moura",
           "1840210",
           438
          ],
          [
           "Ourique",
           "1840212",
           156
          ],
          [
           "Serpa",
           "1840213",
           508
          ],
          [
           "Vidigueira",
           "1840214",
           199
          ],
          [
           "Almeirim",
           "1851403",
           932
          ],
          [
           "Alpiarça",
           "1851404",
           251
          ],
          [
           "Azambuja",
           "1851103",
           818
          ],
          [
           "Benavente",
           "1851405",
           1216
          ],
          [
           "Cartaxo",
           "1851406",
           825
          ],
          [
           "Chamusca",
           "1851407",
           262
          ],
          [
           "Coruche",
           "1851409",
           616
          ],
          [
           "Golegã",
           "1851412",
           136
          ],
          [
           "Rio Maior",
           "1851414",
           597
          ],
          [
           "Salvaterra de Magos",
           "1851415",
           930
          ],
          [
           "Santarém",
           "1851416",
           1542
          ],
          [
           "Alter do Chão",
           "1861201",
           108
          ],
          [
           "Arronches",
           "1861202",
           52
          ],
          [
           "Avis",
           "1861203",
           135
          ],
          [
           "Campo Maior",
           "1861204",
           313
          ],
          [
           "Castelo de Vide",
           "1861205",
           61
          ],
          [
           "Crato",
           "1861206",
           64
          ],
          [
           "Elvas",
           "1861207",
           779
          ],
          [
           "Fronteira",
           "1861208",
           96
          ],
          [
           "Gavião",
           "1861209",
           82
          ],
          [
           "Marvão",
           "1861210",
           56
          ],
          [
           "Monforte",
           "1861211",
           80
          ],
          [
           "Nisa",
           "1861212",
           141
          ],
          [
           "Ponte de Sor",
           "1861213",
           654
          ],
          [
           "Portalegre",
           "1861214",
           688
          ],
          [
           "Sousel",
           "1861215",
           190
          ],
          [
           "Alandroal",
           "1870701",
           135
          ],
          [
           "Arraiolos",
           "1870702",
           155
          ],
          [
           "Borba",
           "1870703",
           227
          ],
          [
           "Estremoz",
           "1870704",
           287
          ],
          [
           "Évora",
           "1870705",
           1403
          ],
          [
           "Montemor-o-Novo",
           "1870706",
           322
          ],
          [
           "Mora",
           "1870707",
           82
          ],
          [
           "Mourão",
           "1870708",
           95
          ],
          [
           "Portel",
           "1870709",
           224
          ],
          [
           "Redondo",
           "1870710",
           242
          ],
          [
           "Reguengos de Monsaraz",
           "1870711",
           325
          ],
          [
           "Vendas Novas",
           "1870712",
           295
          ],
          [
           "Viana do Alentejo",
           "1870713",
           122
          ],
          [
           "Vila Viçosa",
           "1870714",
           195
          ],
          [
           "Albufeira",
           "1500801",
           5547
          ],
          [
           "Alcoutim",
           "1500802",
           37
          ],
          [
           "Aljezur",
           "1500803",
           186
          ],
          [
           "Castro Marim",
           "1500804",
           253
          ],
          [
           "Faro",
           "1500805",
           2357
          ],
          [
           "Lagoa",
           "1500806",
           1343
          ],
          [
           "Lagos",
           "1500807",
           1592
          ],
          [
           "Loulé",
           "1500808",
           3673
          ],
          [
           "Monchique",
           "1500809",
           116
          ],
          [
           "Olhão",
           "1500810",
           1513
          ],
          [
           "Portimão",
           "1500811",
           4021
          ],
          [
           "São Brás de Alportel",
           "1500812",
           254
          ],
          [
           "Silves",
           "1500813",
           2268
          ],
          [
           "Tavira",
           "1500814",
           923
          ],
          [
           "Vila do Bispo",
           "1500815",
           277
          ],
          [
           "Vila Real de Santo António",
           "1500816",
           1014
          ],
          [
           "Angra do Heroísmo",
           "2004301",
           1029
          ],
          [
           "Calheta",
           "2004501",
           79
          ],
          [
           "Corvo",
           "2004901",
           10
          ],
          [
           "Horta",
           "2004701",
           432
          ],
          [
           "Lagoa",
           "2004201",
           565
          ],
          [
           "Lajes das Flores",
           "2004801",
           91
          ],
          [
           "Lajes do Pico",
           "2004601",
           201
          ],
          [
           "Madalena",
           "2004602",
           203
          ],
          [
           "Nordeste",
           "2004202",
           380
          ],
          [
           "Ponta Delgada",
           "2004203",
           1921
          ],
          [
           "Povoação",
           "2004204",
           508
          ],
          [
           "Ribeira Grande",
           "2004205",
           1303
          ],
          [
           "Santa Cruz da Graciosa",
           "2004401",
           176
          ],
          [
           "Santa Cruz das Flores",
           "2004802",
           97
          ],
          [
           "São Roque do Pico",
           "2004603",
           115
          ],
          [
           "Velas",
           "2004502",
           181
          ],
          [
           "Vila da Praia da Vitória",
           "2004302",
           498
          ],
          [
           "Vila do Porto",
           "2004101",
           267
          ],
          [
           "Vila Franca do Campo",
           "2004206",
           486
          ],
          [
           "Calheta",
           "3003101",
           222
          ],
          [
           "Câmara de Lobos",
           "3003102",
           877
          ],
          [
           "Funchal",
           "3003103",
           3154
          ],
          [
           "Machico",
           "3003104",
           810
          ],
          [
           "Ponta do Sol",
           "3003105",
           201
          ],
          [
           "Porto Moniz",
           "3003106",
           69
          ],
          [
           "Porto Santo",
           "3003201",
           304
          ],
          [
           "Ribeira Brava",
           "3003107",
           335
          ],
          [
           "Santa Cruz",
           "3003108",
           1260
          ],
          [
           "Santana",
           "3003109",
           159
          ],
          [
           "São Vicente",
           "3003110",
           104
          ]
         ],
         "hovertemplate": "valor=%{x}<br>y=%{y}<br>local=%{customdata[0]}<br>codigo=%{customdata[1]}<br>HM=%{customdata[2]}<br>Num_Beneficiarios_sub_desemprego=%{marker.color}<extra></extra>",
         "legendgroup": "",
         "marker": {
          "color": [
           0,
           0,
           0,
           0,
           0,
           0,
           0,
           0,
           1,
           0,
           0,
           1,
           1,
           0,
           0,
           0,
           0,
           0,
           1,
           0,
           0,
           0,
           1,
           0,
           0,
           0,
           1,
           1,
           1,
           1,
           1,
           2,
           1,
           1,
           1,
           0,
           0,
           0,
           1,
           1,
           2,
           0,
           0,
           0,
           0,
           0,
           0,
           0,
           0,
           0,
           0,
           0,
           0,
           0,
           0,
           0,
           0,
           0,
           0,
           0,
           0,
           0,
           0,
           0,
           0,
           0,
           0,
           0,
           0,
           0,
           0,
           0,
           0,
           0,
           0,
           0,
           0,
           0,
           0,
           0,
           0,
           0,
           0,
           0,
           0,
           0,
           0,
           0,
           0,
           0,
           0,
           0,
           0,
           0,
           0,
           0,
           0,
           0,
           0,
           0,
           0,
           1,
           0,
           0,
           0,
           0,
           0,
           0,
           0,
           0,
           0,
           1,
           0,
           0,
           0,
           0,
           0,
           0,
           0,
           0,
           0,
           0,
           0,
           0,
           0,
           0,
           0,
           0,
           0,
           0,
           0,
           0,
           0,
           1,
           0,
           0,
           0,
           0,
           0,
           0,
           0,
           0,
           0,
           0,
           0,
           0,
           0,
           0,
           0,
           0,
           1,
           0,
           0,
           0,
           0,
           0,
           0,
           0,
           0,
           0,
           0,
           0,
           0,
           0,
           0,
           0,
           0,
           0,
           0,
           0,
           0,
           0,
           0,
           0,
           0,
           0,
           0,
           0,
           0,
           0,
           0,
           0,
           0,
           0,
           0,
           0,
           0,
           1,
           1,
           1,
           1,
           2,
           1,
           0,
           1,
           0,
           1,
           1,
           1,
           1,
           0,
           1,
           2,
           1,
           0,
           0,
           1,
           0,
           0,
           0,
           0,
           0,
           0,
           0,
           0,
           0,
           0,
           0,
           0,
           0,
           0,
           0,
           0,
           0,
           0,
           0,
           0,
           0,
           0,
           0,
           0,
           0,
           0,
           0,
           0,
           0,
           0,
           0,
           0,
           0,
           0,
           0,
           0,
           0,
           0,
           0,
           0,
           0,
           0,
           0,
           0,
           0,
           0,
           0,
           0,
           0,
           0,
           0,
           0,
           0,
           0,
           0,
           1,
           0,
           0,
           0,
           1,
           0,
           0,
           1,
           0,
           0,
           1,
           0,
           0,
           0,
           0,
           0,
           0,
           0,
           0,
           0,
           0,
           0,
           0,
           0,
           0,
           0,
           0,
           0,
           0,
           0,
           0,
           0,
           0,
           0,
           0,
           0,
           0,
           1,
           0,
           0,
           0,
           0,
           0,
           0,
           0,
           0
          ],
          "coloraxis": "coloraxis",
          "size": 10,
          "symbol": "circle"
         },
         "mode": "markers",
         "name": "",
         "orientation": "v",
         "showlegend": false,
         "type": "scatter",
         "x": [
          -0.38054450081649294,
          -0.36555753511655303,
          -0.5432601284158401,
          -0.3976724616164242,
          -0.42336440281632115,
          -0.46993104624113435,
          -0.09097491354265454,
          -0.3361188524916711,
          0.8221594966036825,
          -0.42657589546630825,
          -0.32701962331670764,
          0.8772901204284613,
          2.6077494099965195,
          -0.14449979104243982,
          -0.43835136851626105,
          -0.03423854339288213,
          -0.36983952531653586,
          0.42018766658029494,
          2.765112549845888,
          -0.5229206749659218,
          -0.2751004921419159,
          -0.39124947631644996,
          1.8182574668746865,
          -0.06260672846776834,
          -0.3318368622916883,
          -0.06100098214277477,
          2.674120258096253,
          2.0291454842238403,
          2.870556558520465,
          0.7086867563041376,
          0.9447314660781907,
          3.9351663719911945,
          0.6792480736792558,
          1.9740148603990617,
          0.8044962870287533,
          -0.0005178705680174015,
          0.24302032205600566,
          -0.27135375071693096,
          1.3301105840766447,
          1.143844010377392,
          5.574098121034621,
          -0.5523593575908037,
          -0.14289404471744627,
          -0.514891943340954,
          -0.49829923131602055,
          -0.4720720413411258,
          -0.4329988807662825,
          0.2976156971057866,
          -0.3500353206416153,
          -0.36662803266654875,
          -0.3751920130665144,
          -0.2788472335669009,
          0.6064542402795478,
          0.2558662926559541,
          0.27941723875585966,
          0.3489995795055805,
          0.5427596360548033,
          -0.4645785584911558,
          -0.46671955359114725,
          -0.5047222166159948,
          -0.5288084114908982,
          -0.5582470941157801,
          -0.13272431799248705,
          -0.5448658747408337,
          -0.4613670658411687,
          -0.5250616700659132,
          -0.5619938355407651,
          -0.3794740032664972,
          -0.5132861970159605,
          -0.4934819923410399,
          -0.5282731627159003,
          -0.543795377190838,
          -0.5218501774159261,
          -0.464043309716158,
          -0.49829923131602055,
          -0.5164976896659476,
          0.1322238256314501,
          -0.5272026651659046,
          -0.20177140996721007,
          -0.4538735829911988,
          -0.5427248796408424,
          -0.3050744235417957,
          -0.5164976896659476,
          -0.5154271921159519,
          -0.5577118453407822,
          -0.5245264212909153,
          0.1584510156063449,
          0.4153704276053143,
          -0.3714452716415294,
          -0.34950007186661747,
          -0.32113188679173127,
          0.27138850713089185,
          -0.17929096141730025,
          -0.2863407164168708,
          -0.4148004224163555,
          0.1300828305314587,
          -0.442098109941246,
          0.5534646115547603,
          -0.0005178705680174015,
          -0.2697480043919374,
          -0.23281583891708554,
          0.7734518580788778,
          -0.1675154883673475,
          0.08137519200665408,
          -0.4206881589413319,
          -0.25315529236700396,
          0.4876290122300244,
          -0.4865237582660678,
          -0.29651044314183,
          -0.4683252999161408,
          -0.11773735229254717,
          1.3450975497765845,
          -0.3580640522665831,
          0.45872557838014033,
          -0.5496831137158145,
          -0.36555753511655303,
          -0.29276370171684507,
          -0.4249701491413147,
          -0.4490563440162181,
          -0.2296043462670984,
          -0.4956229874410313,
          -0.30293342844180426,
          -0.5587823428907779,
          -0.4592260707411773,
          -0.5395133869908553,
          -0.4008839542664113,
          -0.45494408054119445,
          -0.49829923131602055,
          -0.5411191333158488,
          -0.464043309716158,
          -0.37572726184151223,
          -0.5555708502407908,
          -0.5389781382158574,
          1.3097711306267263,
          0.3795087596804581,
          -0.5555708502407908,
          -0.09258065986764809,
          -0.2890169602918601,
          -0.5352313967908724,
          -0.44852109524122025,
          -0.37465676429151656,
          -0.26011352644197605,
          -0.3580640522665831,
          -0.4185471638413405,
          -0.4726072901161236,
          -0.42443490036631687,
          -0.31363840394176135,
          -0.4078421883413834,
          -0.23013959504209627,
          -0.5057927141659905,
          0.9549011928031499,
          -0.40998318344137485,
          0.29654519955579095,
          -0.48705900704106564,
          -0.5598528404407737,
          -0.5421896308658445,
          -0.5181034359909411,
          -0.5427248796408424,
          0.11830735748150593,
          -0.3966019640664285,
          -0.5298789090408939,
          -0.28473497009187726,
          -0.5288084114908982,
          -0.522385426190924,
          -0.08669292334267172,
          -0.5164976896659476,
          -0.4538735829911988,
          -0.18357295161728307,
          -0.13861205451746345,
          -0.5470068698408251,
          -0.5068632117159863,
          -0.5309494065908896,
          -0.48331226561608065,
          -0.4924114947910442,
          0.06157098733173353,
          -0.5266674163909068,
          -0.536837143115866,
          -0.2569020337919889,
          -0.45547932931619234,
          -0.044943518892839186,
          -0.547542118615823,
          -0.5555708502407908,
          -0.514891943340954,
          -0.503651719065999,
          -0.35324681329160246,
          -0.5213149286409282,
          -0.24994379971701683,
          2.434328806897215,
          2.325138056797653,
          1.0062850752029437,
          2.624342122021453,
          7.607508217251463,
          2.9460266357951626,
          0.5047569730299557,
          0.9549011928031499,
          0.5882557819296207,
          1.8921217978243903,
          1.837526422774609,
          0.7750576044038714,
          2.242709745447984,
          0.4009187106803722,
          2.210594818948113,
          6.323981654806612,
          2.1030098151735444,
          -0.4158709199663512,
          -0.4367456221912675,
          1.0030735825529566,
          -0.06581822111775545,
          -0.17500897121731743,
          -0.4758187827661107,
          -0.48010077296609355,
          -0.5502183624908122,
          -0.5459363722908295,
          -0.1471760349174291,
          -0.4875942558160635,
          -0.5266674163909068,
          -0.43835136851626105,
          -0.4859885094910699,
          -0.34735907676662603,
          -0.49829923131602055,
          -0.30989166251677636,
          -0.4752835339911129,
          -0.08294618191768674,
          -0.4474505976912245,
          -0.14396454226744196,
          0.06906447018170347,
          -0.140217800842457,
          -0.44156286116624816,
          -0.25208479481700824,
          -0.5090042068159776,
          -0.26225452154196743,
          -0.08401667946768245,
          0.2435555708310035,
          -0.5239911725159175,
          -0.5539651039157972,
          -0.5095394555909755,
          -0.4142651736413577,
          -0.5491478649408166,
          -0.547542118615823,
          -0.16483924449235823,
          -0.5304141578158917,
          -0.5379076406658617,
          -0.5518241088158058,
          -0.5389781382158574,
          -0.5063279629409884,
          -0.23174534136708982,
          -0.21354688301716285,
          -0.48010077296609355,
          -0.5095394555909755,
          -0.4988344800910184,
          -0.460296568291173,
          -0.42818164179130186,
          0.16915599110630195,
          -0.40944793466637697,
          -0.5379076406658617,
          -0.5309494065908896,
          -0.46190231461616654,
          -0.45226783666620524,
          -0.4078421883413834,
          -0.423899651591319,
          -0.5164976896659476,
          -0.4774245290911043,
          2.387226914697404,
          -0.5619938355407651,
          -0.482241768066085,
          -0.4463801001412288,
          0.6797833224542535,
          0.13704106460643078,
          0.27031800958089613,
          1.3841707103514278,
          -0.5197091823159347,
          0.22803335635606578,
          1.5704372840506806,
          -0.445844851366231,
          0.6321461814794447,
          -0.08776342089266742,
          -0.43353412954128034,
          -0.03905578236786281,
          -0.031027050742895013,
          -0.5395133869908553,
          -0.5764455524657071,
          -0.3505705694166132,
          -0.2793824823418987,
          -0.533090401690881,
          -0.4742130364411172,
          -0.47314253889112146,
          -0.3784035057165015,
          0.44641485655518975,
          -0.30989166251677636,
          0.11563111360651666,
          -0.4875942558160635,
          -0.5298789090408939,
          -0.5202444310909325,
          -0.48491801194107426,
          -0.3152441502667549,
          -0.4388866172912589,
          -0.3216671355667291,
          -0.46297281216616226,
          -0.11238486454256864,
          1.1063765961275422,
          -0.14824653246742478,
          -0.4742130364411172,
          -0.5448658747408337,
          -0.41908241261633833,
          -0.4024897005914049,
          0.09261541628160899,
          -0.496693484991027,
          -0.5261321676159089
         ],
         "xaxis": "x",
         "y": [
          0,
          0,
          0,
          0,
          0,
          0,
          0,
          0,
          0,
          0,
          0,
          0,
          0,
          0,
          0,
          0,
          0,
          0,
          0,
          0,
          0,
          0,
          0,
          0,
          0,
          0,
          0,
          0,
          0,
          0,
          0,
          0,
          0,
          0,
          0,
          0,
          0,
          0,
          0,
          0,
          0,
          0,
          0,
          0,
          0,
          0,
          0,
          0,
          0,
          0,
          0,
          0,
          0,
          0,
          0,
          0,
          0,
          0,
          0,
          0,
          0,
          0,
          0,
          0,
          0,
          0,
          0,
          0,
          0,
          0,
          0,
          0,
          0,
          0,
          0,
          0,
          0,
          0,
          0,
          0,
          0,
          0,
          0,
          0,
          0,
          0,
          0,
          0,
          0,
          0,
          0,
          0,
          0,
          0,
          0,
          0,
          0,
          0,
          0,
          0,
          0,
          0,
          0,
          0,
          0,
          0,
          0,
          0,
          0,
          0,
          0,
          0,
          0,
          0,
          0,
          0,
          0,
          0,
          0,
          0,
          0,
          0,
          0,
          0,
          0,
          0,
          0,
          0,
          0,
          0,
          0,
          0,
          0,
          0,
          0,
          0,
          0,
          0,
          0,
          0,
          0,
          0,
          0,
          0,
          0,
          0,
          0,
          0,
          0,
          0,
          0,
          0,
          0,
          0,
          0,
          0,
          0,
          0,
          0,
          0,
          0,
          0,
          0,
          0,
          0,
          0,
          0,
          0,
          0,
          0,
          0,
          0,
          0,
          0,
          0,
          0,
          0,
          0,
          0,
          0,
          0,
          0,
          0,
          0,
          0,
          0,
          0,
          0,
          0,
          0,
          0,
          0,
          0,
          0,
          0,
          0,
          0,
          0,
          0,
          0,
          0,
          0,
          0,
          0,
          0,
          0,
          0,
          0,
          0,
          0,
          0,
          0,
          0,
          0,
          0,
          0,
          0,
          0,
          0,
          0,
          0,
          0,
          0,
          0,
          0,
          0,
          0,
          0,
          0,
          0,
          0,
          0,
          0,
          0,
          0,
          0,
          0,
          0,
          0,
          0,
          0,
          0,
          0,
          0,
          0,
          0,
          0,
          0,
          0,
          0,
          0,
          0,
          0,
          0,
          0,
          0,
          0,
          0,
          0,
          0,
          0,
          0,
          0,
          0,
          0,
          0,
          0,
          0,
          0,
          0,
          0,
          0,
          0,
          0,
          0,
          0,
          0,
          0,
          0,
          0,
          0,
          0,
          0,
          0,
          0,
          0,
          0,
          0,
          0,
          0,
          0,
          0,
          0,
          0,
          0,
          0,
          0,
          0,
          0,
          0,
          0,
          0,
          0,
          0,
          0,
          0,
          0,
          0
         ],
         "yaxis": "y"
        }
       ],
       "layout": {
        "coloraxis": {
         "colorbar": {
          "title": {
           "text": "Num_Beneficiarios_sub_desemprego"
          }
         },
         "colorscale": [
          [
           0,
           "#440154"
          ],
          [
           0.1111111111111111,
           "#482878"
          ],
          [
           0.2222222222222222,
           "#3e4989"
          ],
          [
           0.3333333333333333,
           "#31688e"
          ],
          [
           0.4444444444444444,
           "#26828e"
          ],
          [
           0.5555555555555556,
           "#1f9e89"
          ],
          [
           0.6666666666666666,
           "#35b779"
          ],
          [
           0.7777777777777778,
           "#6ece58"
          ],
          [
           0.8888888888888888,
           "#b5de2b"
          ],
          [
           1,
           "#fde725"
          ]
         ]
        },
        "height": 300,
        "legend": {
         "tracegroupgap": 0
        },
        "margin": {
         "t": 60
        },
        "template": {
         "data": {
          "bar": [
           {
            "error_x": {
             "color": "#2a3f5f"
            },
            "error_y": {
             "color": "#2a3f5f"
            },
            "marker": {
             "line": {
              "color": "#E5ECF6",
              "width": 0.5
             },
             "pattern": {
              "fillmode": "overlay",
              "size": 10,
              "solidity": 0.2
             }
            },
            "type": "bar"
           }
          ],
          "barpolar": [
           {
            "marker": {
             "line": {
              "color": "#E5ECF6",
              "width": 0.5
             },
             "pattern": {
              "fillmode": "overlay",
              "size": 10,
              "solidity": 0.2
             }
            },
            "type": "barpolar"
           }
          ],
          "carpet": [
           {
            "aaxis": {
             "endlinecolor": "#2a3f5f",
             "gridcolor": "white",
             "linecolor": "white",
             "minorgridcolor": "white",
             "startlinecolor": "#2a3f5f"
            },
            "baxis": {
             "endlinecolor": "#2a3f5f",
             "gridcolor": "white",
             "linecolor": "white",
             "minorgridcolor": "white",
             "startlinecolor": "#2a3f5f"
            },
            "type": "carpet"
           }
          ],
          "choropleth": [
           {
            "colorbar": {
             "outlinewidth": 0,
             "ticks": ""
            },
            "type": "choropleth"
           }
          ],
          "contour": [
           {
            "colorbar": {
             "outlinewidth": 0,
             "ticks": ""
            },
            "colorscale": [
             [
              0,
              "#0d0887"
             ],
             [
              0.1111111111111111,
              "#46039f"
             ],
             [
              0.2222222222222222,
              "#7201a8"
             ],
             [
              0.3333333333333333,
              "#9c179e"
             ],
             [
              0.4444444444444444,
              "#bd3786"
             ],
             [
              0.5555555555555556,
              "#d8576b"
             ],
             [
              0.6666666666666666,
              "#ed7953"
             ],
             [
              0.7777777777777778,
              "#fb9f3a"
             ],
             [
              0.8888888888888888,
              "#fdca26"
             ],
             [
              1,
              "#f0f921"
             ]
            ],
            "type": "contour"
           }
          ],
          "contourcarpet": [
           {
            "colorbar": {
             "outlinewidth": 0,
             "ticks": ""
            },
            "type": "contourcarpet"
           }
          ],
          "heatmap": [
           {
            "colorbar": {
             "outlinewidth": 0,
             "ticks": ""
            },
            "colorscale": [
             [
              0,
              "#0d0887"
             ],
             [
              0.1111111111111111,
              "#46039f"
             ],
             [
              0.2222222222222222,
              "#7201a8"
             ],
             [
              0.3333333333333333,
              "#9c179e"
             ],
             [
              0.4444444444444444,
              "#bd3786"
             ],
             [
              0.5555555555555556,
              "#d8576b"
             ],
             [
              0.6666666666666666,
              "#ed7953"
             ],
             [
              0.7777777777777778,
              "#fb9f3a"
             ],
             [
              0.8888888888888888,
              "#fdca26"
             ],
             [
              1,
              "#f0f921"
             ]
            ],
            "type": "heatmap"
           }
          ],
          "heatmapgl": [
           {
            "colorbar": {
             "outlinewidth": 0,
             "ticks": ""
            },
            "colorscale": [
             [
              0,
              "#0d0887"
             ],
             [
              0.1111111111111111,
              "#46039f"
             ],
             [
              0.2222222222222222,
              "#7201a8"
             ],
             [
              0.3333333333333333,
              "#9c179e"
             ],
             [
              0.4444444444444444,
              "#bd3786"
             ],
             [
              0.5555555555555556,
              "#d8576b"
             ],
             [
              0.6666666666666666,
              "#ed7953"
             ],
             [
              0.7777777777777778,
              "#fb9f3a"
             ],
             [
              0.8888888888888888,
              "#fdca26"
             ],
             [
              1,
              "#f0f921"
             ]
            ],
            "type": "heatmapgl"
           }
          ],
          "histogram": [
           {
            "marker": {
             "pattern": {
              "fillmode": "overlay",
              "size": 10,
              "solidity": 0.2
             }
            },
            "type": "histogram"
           }
          ],
          "histogram2d": [
           {
            "colorbar": {
             "outlinewidth": 0,
             "ticks": ""
            },
            "colorscale": [
             [
              0,
              "#0d0887"
             ],
             [
              0.1111111111111111,
              "#46039f"
             ],
             [
              0.2222222222222222,
              "#7201a8"
             ],
             [
              0.3333333333333333,
              "#9c179e"
             ],
             [
              0.4444444444444444,
              "#bd3786"
             ],
             [
              0.5555555555555556,
              "#d8576b"
             ],
             [
              0.6666666666666666,
              "#ed7953"
             ],
             [
              0.7777777777777778,
              "#fb9f3a"
             ],
             [
              0.8888888888888888,
              "#fdca26"
             ],
             [
              1,
              "#f0f921"
             ]
            ],
            "type": "histogram2d"
           }
          ],
          "histogram2dcontour": [
           {
            "colorbar": {
             "outlinewidth": 0,
             "ticks": ""
            },
            "colorscale": [
             [
              0,
              "#0d0887"
             ],
             [
              0.1111111111111111,
              "#46039f"
             ],
             [
              0.2222222222222222,
              "#7201a8"
             ],
             [
              0.3333333333333333,
              "#9c179e"
             ],
             [
              0.4444444444444444,
              "#bd3786"
             ],
             [
              0.5555555555555556,
              "#d8576b"
             ],
             [
              0.6666666666666666,
              "#ed7953"
             ],
             [
              0.7777777777777778,
              "#fb9f3a"
             ],
             [
              0.8888888888888888,
              "#fdca26"
             ],
             [
              1,
              "#f0f921"
             ]
            ],
            "type": "histogram2dcontour"
           }
          ],
          "mesh3d": [
           {
            "colorbar": {
             "outlinewidth": 0,
             "ticks": ""
            },
            "type": "mesh3d"
           }
          ],
          "parcoords": [
           {
            "line": {
             "colorbar": {
              "outlinewidth": 0,
              "ticks": ""
             }
            },
            "type": "parcoords"
           }
          ],
          "pie": [
           {
            "automargin": true,
            "type": "pie"
           }
          ],
          "scatter": [
           {
            "fillpattern": {
             "fillmode": "overlay",
             "size": 10,
             "solidity": 0.2
            },
            "type": "scatter"
           }
          ],
          "scatter3d": [
           {
            "line": {
             "colorbar": {
              "outlinewidth": 0,
              "ticks": ""
             }
            },
            "marker": {
             "colorbar": {
              "outlinewidth": 0,
              "ticks": ""
             }
            },
            "type": "scatter3d"
           }
          ],
          "scattercarpet": [
           {
            "marker": {
             "colorbar": {
              "outlinewidth": 0,
              "ticks": ""
             }
            },
            "type": "scattercarpet"
           }
          ],
          "scattergeo": [
           {
            "marker": {
             "colorbar": {
              "outlinewidth": 0,
              "ticks": ""
             }
            },
            "type": "scattergeo"
           }
          ],
          "scattergl": [
           {
            "marker": {
             "colorbar": {
              "outlinewidth": 0,
              "ticks": ""
             }
            },
            "type": "scattergl"
           }
          ],
          "scattermapbox": [
           {
            "marker": {
             "colorbar": {
              "outlinewidth": 0,
              "ticks": ""
             }
            },
            "type": "scattermapbox"
           }
          ],
          "scatterpolar": [
           {
            "marker": {
             "colorbar": {
              "outlinewidth": 0,
              "ticks": ""
             }
            },
            "type": "scatterpolar"
           }
          ],
          "scatterpolargl": [
           {
            "marker": {
             "colorbar": {
              "outlinewidth": 0,
              "ticks": ""
             }
            },
            "type": "scatterpolargl"
           }
          ],
          "scatterternary": [
           {
            "marker": {
             "colorbar": {
              "outlinewidth": 0,
              "ticks": ""
             }
            },
            "type": "scatterternary"
           }
          ],
          "surface": [
           {
            "colorbar": {
             "outlinewidth": 0,
             "ticks": ""
            },
            "colorscale": [
             [
              0,
              "#0d0887"
             ],
             [
              0.1111111111111111,
              "#46039f"
             ],
             [
              0.2222222222222222,
              "#7201a8"
             ],
             [
              0.3333333333333333,
              "#9c179e"
             ],
             [
              0.4444444444444444,
              "#bd3786"
             ],
             [
              0.5555555555555556,
              "#d8576b"
             ],
             [
              0.6666666666666666,
              "#ed7953"
             ],
             [
              0.7777777777777778,
              "#fb9f3a"
             ],
             [
              0.8888888888888888,
              "#fdca26"
             ],
             [
              1,
              "#f0f921"
             ]
            ],
            "type": "surface"
           }
          ],
          "table": [
           {
            "cells": {
             "fill": {
              "color": "#EBF0F8"
             },
             "line": {
              "color": "white"
             }
            },
            "header": {
             "fill": {
              "color": "#C8D4E3"
             },
             "line": {
              "color": "white"
             }
            },
            "type": "table"
           }
          ]
         },
         "layout": {
          "annotationdefaults": {
           "arrowcolor": "#2a3f5f",
           "arrowhead": 0,
           "arrowwidth": 1
          },
          "autotypenumbers": "strict",
          "coloraxis": {
           "colorbar": {
            "outlinewidth": 0,
            "ticks": ""
           }
          },
          "colorscale": {
           "diverging": [
            [
             0,
             "#8e0152"
            ],
            [
             0.1,
             "#c51b7d"
            ],
            [
             0.2,
             "#de77ae"
            ],
            [
             0.3,
             "#f1b6da"
            ],
            [
             0.4,
             "#fde0ef"
            ],
            [
             0.5,
             "#f7f7f7"
            ],
            [
             0.6,
             "#e6f5d0"
            ],
            [
             0.7,
             "#b8e186"
            ],
            [
             0.8,
             "#7fbc41"
            ],
            [
             0.9,
             "#4d9221"
            ],
            [
             1,
             "#276419"
            ]
           ],
           "sequential": [
            [
             0,
             "#0d0887"
            ],
            [
             0.1111111111111111,
             "#46039f"
            ],
            [
             0.2222222222222222,
             "#7201a8"
            ],
            [
             0.3333333333333333,
             "#9c179e"
            ],
            [
             0.4444444444444444,
             "#bd3786"
            ],
            [
             0.5555555555555556,
             "#d8576b"
            ],
            [
             0.6666666666666666,
             "#ed7953"
            ],
            [
             0.7777777777777778,
             "#fb9f3a"
            ],
            [
             0.8888888888888888,
             "#fdca26"
            ],
            [
             1,
             "#f0f921"
            ]
           ],
           "sequentialminus": [
            [
             0,
             "#0d0887"
            ],
            [
             0.1111111111111111,
             "#46039f"
            ],
            [
             0.2222222222222222,
             "#7201a8"
            ],
            [
             0.3333333333333333,
             "#9c179e"
            ],
            [
             0.4444444444444444,
             "#bd3786"
            ],
            [
             0.5555555555555556,
             "#d8576b"
            ],
            [
             0.6666666666666666,
             "#ed7953"
            ],
            [
             0.7777777777777778,
             "#fb9f3a"
            ],
            [
             0.8888888888888888,
             "#fdca26"
            ],
            [
             1,
             "#f0f921"
            ]
           ]
          },
          "colorway": [
           "#636efa",
           "#EF553B",
           "#00cc96",
           "#ab63fa",
           "#FFA15A",
           "#19d3f3",
           "#FF6692",
           "#B6E880",
           "#FF97FF",
           "#FECB52"
          ],
          "font": {
           "color": "#2a3f5f"
          },
          "geo": {
           "bgcolor": "white",
           "lakecolor": "white",
           "landcolor": "#E5ECF6",
           "showlakes": true,
           "showland": true,
           "subunitcolor": "white"
          },
          "hoverlabel": {
           "align": "left"
          },
          "hovermode": "closest",
          "mapbox": {
           "style": "light"
          },
          "paper_bgcolor": "white",
          "plot_bgcolor": "#E5ECF6",
          "polar": {
           "angularaxis": {
            "gridcolor": "white",
            "linecolor": "white",
            "ticks": ""
           },
           "bgcolor": "#E5ECF6",
           "radialaxis": {
            "gridcolor": "white",
            "linecolor": "white",
            "ticks": ""
           }
          },
          "scene": {
           "xaxis": {
            "backgroundcolor": "#E5ECF6",
            "gridcolor": "white",
            "gridwidth": 2,
            "linecolor": "white",
            "showbackground": true,
            "ticks": "",
            "zerolinecolor": "white"
           },
           "yaxis": {
            "backgroundcolor": "#E5ECF6",
            "gridcolor": "white",
            "gridwidth": 2,
            "linecolor": "white",
            "showbackground": true,
            "ticks": "",
            "zerolinecolor": "white"
           },
           "zaxis": {
            "backgroundcolor": "#E5ECF6",
            "gridcolor": "white",
            "gridwidth": 2,
            "linecolor": "white",
            "showbackground": true,
            "ticks": "",
            "zerolinecolor": "white"
           }
          },
          "shapedefaults": {
           "line": {
            "color": "#2a3f5f"
           }
          },
          "ternary": {
           "aaxis": {
            "gridcolor": "white",
            "linecolor": "white",
            "ticks": ""
           },
           "baxis": {
            "gridcolor": "white",
            "linecolor": "white",
            "ticks": ""
           },
           "bgcolor": "#E5ECF6",
           "caxis": {
            "gridcolor": "white",
            "linecolor": "white",
            "ticks": ""
           }
          },
          "title": {
           "x": 0.05
          },
          "xaxis": {
           "automargin": true,
           "gridcolor": "white",
           "linecolor": "white",
           "ticks": "",
           "title": {
            "standoff": 15
           },
           "zerolinecolor": "white",
           "zerolinewidth": 2
          },
          "yaxis": {
           "automargin": true,
           "gridcolor": "white",
           "linecolor": "white",
           "ticks": "",
           "title": {
            "standoff": 15
           },
           "zerolinecolor": "white",
           "zerolinewidth": 2
          }
         }
        },
        "xaxis": {
         "anchor": "y",
         "domain": [
          0,
          1
         ],
         "title": {
          "text": "HM"
         }
        },
        "yaxis": {
         "anchor": "x",
         "domain": [
          0,
          1
         ],
         "showgrid": false,
         "showticklabels": false,
         "title": {
          "text": "y"
         }
        }
       }
      }
     },
     "metadata": {},
     "output_type": "display_data"
    },
    {
     "name": "stdout",
     "output_type": "stream",
     "text": [
      "Num_Beneficiarios_sub_desemprego\n",
      "0    267\n",
      "1     37\n",
      "2      4\n",
      "Name: count, dtype: int64\n",
      "File saved to csv_files/6_Num_Beneficiarios_Desemprego.csv\n"
     ]
    }
   ],
   "source": [
    "clustered_df = aplicar_kmeans(df_desemprego, 3, nome_cluster='Num_Beneficiarios_sub_desemprego')\n",
    "save_clustered_df_to_csv(clustered_df, \"csv_files/\", \"6_Num_Beneficiarios_Desemprego.csv\")"
   ]
  },
  {
   "cell_type": "markdown",
   "id": "a7148065",
   "metadata": {},
   "source": [
    "#### Duração Subsídio de desemprego"
   ]
  },
  {
   "cell_type": "code",
   "execution_count": null,
   "id": "3c102f37",
   "metadata": {},
   "outputs": [],
   "source": []
  },
  {
   "cell_type": "code",
   "execution_count": 4,
   "id": "c6c7b08f",
   "metadata": {},
   "outputs": [
    {
     "data": {
      "text/html": [
       "<div>\n",
       "<style scoped>\n",
       "    .dataframe tbody tr th:only-of-type {\n",
       "        vertical-align: middle;\n",
       "    }\n",
       "\n",
       "    .dataframe tbody tr th {\n",
       "        vertical-align: top;\n",
       "    }\n",
       "\n",
       "    .dataframe thead th {\n",
       "        text-align: right;\n",
       "    }\n",
       "</style>\n",
       "<table border=\"1\" class=\"dataframe\">\n",
       "  <thead>\n",
       "    <tr style=\"text-align: right;\">\n",
       "      <th></th>\n",
       "      <th>local</th>\n",
       "      <th>codigo</th>\n",
       "      <th>HM</th>\n",
       "    </tr>\n",
       "  </thead>\n",
       "  <tbody>\n",
       "    <tr>\n",
       "      <th>4</th>\n",
       "      <td>Arcos de Valdevez</td>\n",
       "      <td>1111601</td>\n",
       "      <td>150.0</td>\n",
       "    </tr>\n",
       "    <tr>\n",
       "      <th>5</th>\n",
       "      <td>Caminha</td>\n",
       "      <td>1111602</td>\n",
       "      <td>163.0</td>\n",
       "    </tr>\n",
       "    <tr>\n",
       "      <th>6</th>\n",
       "      <td>Melgaço</td>\n",
       "      <td>1111603</td>\n",
       "      <td>206.0</td>\n",
       "    </tr>\n",
       "    <tr>\n",
       "      <th>7</th>\n",
       "      <td>Monção</td>\n",
       "      <td>1111604</td>\n",
       "      <td>171.0</td>\n",
       "    </tr>\n",
       "    <tr>\n",
       "      <th>8</th>\n",
       "      <td>Paredes de Coura</td>\n",
       "      <td>1111605</td>\n",
       "      <td>159.0</td>\n",
       "    </tr>\n",
       "    <tr>\n",
       "      <th>...</th>\n",
       "      <td>...</td>\n",
       "      <td>...</td>\n",
       "      <td>...</td>\n",
       "    </tr>\n",
       "    <tr>\n",
       "      <th>342</th>\n",
       "      <td>Ribeira Brava</td>\n",
       "      <td>3003107</td>\n",
       "      <td>164.0</td>\n",
       "    </tr>\n",
       "    <tr>\n",
       "      <th>343</th>\n",
       "      <td>Santa Cruz</td>\n",
       "      <td>3003108</td>\n",
       "      <td>180.0</td>\n",
       "    </tr>\n",
       "    <tr>\n",
       "      <th>344</th>\n",
       "      <td>Santana</td>\n",
       "      <td>3003109</td>\n",
       "      <td>169.0</td>\n",
       "    </tr>\n",
       "    <tr>\n",
       "      <th>345</th>\n",
       "      <td>São Vicente</td>\n",
       "      <td>3003110</td>\n",
       "      <td>176.0</td>\n",
       "    </tr>\n",
       "    <tr>\n",
       "      <th>346</th>\n",
       "      <td>Porto Santo</td>\n",
       "      <td>3003201</td>\n",
       "      <td>158.0</td>\n",
       "    </tr>\n",
       "  </tbody>\n",
       "</table>\n",
       "<p>308 rows × 3 columns</p>\n",
       "</div>"
      ],
      "text/plain": [
       "                 local   codigo     HM\n",
       "4    Arcos de Valdevez  1111601  150.0\n",
       "5              Caminha  1111602  163.0\n",
       "6              Melgaço  1111603  206.0\n",
       "7               Monção  1111604  171.0\n",
       "8     Paredes de Coura  1111605  159.0\n",
       "..                 ...      ...    ...\n",
       "342      Ribeira Brava  3003107  164.0\n",
       "343         Santa Cruz  3003108  180.0\n",
       "344            Santana  3003109  169.0\n",
       "345        São Vicente  3003110  176.0\n",
       "346        Porto Santo  3003201  158.0\n",
       "\n",
       "[308 rows x 3 columns]"
      ]
     },
     "execution_count": 4,
     "metadata": {},
     "output_type": "execute_result"
    }
   ],
   "source": [
    "df_duraçcao_sub_desemprego = processar_ficheiro(data_path+'Duração média do subsídio de desemprego.xls',4)\n",
    "df_duraçcao_sub_desemprego = carregar_municipios(df_duraçcao_sub_desemprego)\n",
    "df_duraçcao_sub_desemprego = df_duraçcao_sub_desemprego[['local','codigo','HM']]\n",
    "#save_clustered_df_to_csv(df_duraçcao_sub_desemprego.rename(columns={'HM': 'Duracao_Sub_desemprego'}), \"csv_bruto/\", \"6_Duração_Sub_desemprego.csv\")\n",
    "df_duraçcao_sub_desemprego\n"
   ]
  },
  {
   "cell_type": "code",
   "execution_count": 5,
   "id": "c9292141",
   "metadata": {},
   "outputs": [
    {
     "data": {
      "application/vnd.plotly.v1+json": {
       "config": {
        "plotlyServerURL": "https://plot.ly"
       },
       "data": [
        {
         "customdata": [
          [
           "Arcos de Valdevez",
           "1111601",
           150
          ],
          [
           "Caminha",
           "1111602",
           163
          ],
          [
           "Melgaço",
           "1111603",
           206
          ],
          [
           "Monção",
           "1111604",
           171
          ],
          [
           "Paredes de Coura",
           "1111605",
           159
          ],
          [
           "Ponte da Barca",
           "1111606",
           138
          ],
          [
           "Ponte de Lima",
           "1111607",
           169
          ],
          [
           "Valença",
           "1111608",
           154
          ],
          [
           "Viana do Castelo",
           "1111609",
           144
          ],
          [
           "Vila Nova de Cerveira",
           "1111610",
           170
          ],
          [
           "Amares",
           "1120301",
           173
          ],
          [
           "Barcelos",
           "1120302",
           179
          ],
          [
           "Braga",
           "1120303",
           177
          ],
          [
           "Esposende",
           "1120306",
           166
          ],
          [
           "Terras de Bouro",
           "1120310",
           159
          ],
          [
           "Vila Verde",
           "1120313",
           185
          ],
          [
           "Cabeceiras de Basto",
           "1190304",
           174
          ],
          [
           "Fafe",
           "1190307",
           183
          ],
          [
           "Guimarães",
           "1190308",
           188
          ],
          [
           "Mondim de Basto",
           "1191705",
           207
          ],
          [
           "Póvoa de Lanhoso",
           "1190309",
           182
          ],
          [
           "Vieira do Minho",
           "1190311",
           180
          ],
          [
           "Vila Nova de Famalicão",
           "1190312",
           181
          ],
          [
           "Vizela",
           "1190314",
           191
          ],
          [
           "Arouca",
           "11A0104",
           179
          ],
          [
           "Espinho",
           "11A0107",
           188
          ],
          [
           "Gondomar",
           "11A1304",
           180
          ],
          [
           "Maia",
           "11A1306",
           174
          ],
          [
           "Matosinhos",
           "11A1308",
           178
          ],
          [
           "Oliveira de Azeméis",
           "11A0113",
           170
          ],
          [
           "Paredes",
           "11A1310",
           182
          ],
          [
           "Porto",
           "11A1312",
           176
          ],
          [
           "Póvoa de Varzim",
           "11A1313",
           170
          ],
          [
           "Santa Maria da Feira",
           "11A0109",
           172
          ],
          [
           "Santo Tirso",
           "11A1314",
           190
          ],
          [
           "São João da Madeira",
           "11A0116",
           170
          ],
          [
           "Trofa",
           "11A1318",
           177
          ],
          [
           "Vale de Cambra",
           "11A0119",
           169
          ],
          [
           "Valongo",
           "11A1315",
           177
          ],
          [
           "Vila do Conde",
           "11A1316",
           172
          ],
          [
           "Vila Nova de Gaia",
           "11A1317",
           182
          ],
          [
           "Boticas",
           "11B1702",
           177
          ],
          [
           "Chaves",
           "11B1703",
           187
          ],
          [
           "Montalegre",
           "11B1706",
           189
          ],
          [
           "Ribeira de Pena",
           "11B1709",
           178
          ],
          [
           "Valpaços",
           "11B1712",
           183
          ],
          [
           "Vila Pouca de Aguiar",
           "11B1713",
           200
          ],
          [
           "Amarante",
           "11C1301",
           174
          ],
          [
           "Baião",
           "11C1302",
           182
          ],
          [
           "Castelo de Paiva",
           "11C0106",
           180
          ],
          [
           "Celorico de Basto",
           "11C0305",
           189
          ],
          [
           "Cinfães",
           "11C1804",
           182
          ],
          [
           "Felgueiras",
           "11C1303",
           172
          ],
          [
           "Lousada",
           "11C1305",
           166
          ],
          [
           "Marco de Canaveses",
           "11C1307",
           191
          ],
          [
           "Paços de Ferreira",
           "11C1309",
           181
          ],
          [
           "Penafiel",
           "11C1311",
           181
          ],
          [
           "Resende",
           "11C1813",
           216
          ],
          [
           "Alijó",
           "11D1701",
           192
          ],
          [
           "Armamar",
           "11D1801",
           195
          ],
          [
           "Carrazeda de Ansiães",
           "11D0403",
           200
          ],
          [
           "Freixo de Espada à Cinta",
           "11D0404",
           193
          ],
          [
           "Lamego",
           "11D1805",
           179
          ],
          [
           "Mesão Frio",
           "11D1704",
           206
          ],
          [
           "Moimenta da Beira",
           "11D1807",
           199
          ],
          [
           "Murça",
           "11D1707",
           210
          ],
          [
           "Penedono",
           "11D1812",
           176
          ],
          [
           "Peso da Régua",
           "11D1708",
           192
          ],
          [
           "Sabrosa",
           "11D1710",
           176
          ],
          [
           "Santa Marta de Penaguião",
           "11D1711",
           183
          ],
          [
           "São João da Pesqueira",
           "11D1815",
           182
          ],
          [
           "Sernancelhe",
           "11D1818",
           189
          ],
          [
           "Tabuaço",
           "11D1819",
           196
          ],
          [
           "Tarouca",
           "11D1820",
           186
          ],
          [
           "Torre de Moncorvo",
           "11D0409",
           188
          ],
          [
           "Vila Nova de Foz Côa",
           "11D0914",
           168
          ],
          [
           "Vila Real",
           "11D1714",
           183
          ],
          [
           "Alfândega da Fé",
           "11E0401",
           179
          ],
          [
           "Bragança",
           "11E0402",
           168
          ],
          [
           "Macedo de Cavaleiros",
           "11E0405",
           180
          ],
          [
           "Miranda do Douro",
           "11E0406",
           213
          ],
          [
           "Mirandela",
           "11E0407",
           172
          ],
          [
           "Mogadouro",
           "11E0408",
           174
          ],
          [
           "Vila Flor",
           "11E0410",
           194
          ],
          [
           "Vimioso",
           "11E0411",
           198
          ],
          [
           "Vinhais",
           "11E0412",
           183
          ],
          [
           "Águeda",
           "1910101",
           158
          ],
          [
           "Albergaria-a-Velha",
           "1910102",
           167
          ],
          [
           "Anadia",
           "1910103",
           172
          ],
          [
           "Aveiro",
           "1910105",
           160
          ],
          [
           "Estarreja",
           "1910108",
           170
          ],
          [
           "Ílhavo",
           "1910110",
           158
          ],
          [
           "Murtosa",
           "1910112",
           162
          ],
          [
           "Oliveira do Bairro",
           "1910114",
           151
          ],
          [
           "Ovar",
           "1910115",
           177
          ],
          [
           "Sever do Vouga",
           "1910117",
           172
          ],
          [
           "Vagos",
           "1910118",
           167
          ],
          [
           "Arganil",
           "1920601",
           180
          ],
          [
           "Cantanhede",
           "1920602",
           161
          ],
          [
           "Coimbra",
           "1920603",
           164
          ],
          [
           "Condeixa-a-Nova",
           "1920604",
           157
          ],
          [
           "Figueira da Foz",
           "1920605",
           156
          ],
          [
           "Góis",
           "1920606",
           204
          ],
          [
           "Lousã",
           "1920607",
           162
          ],
          [
           "Mealhada",
           "1920111",
           169
          ],
          [
           "Mira",
           "1920608",
           152
          ],
          [
           "Miranda do Corvo",
           "1920609",
           159
          ],
          [
           "Montemor-o-Velho",
           "1920610",
           158
          ],
          [
           "Mortágua",
           "1921808",
           151
          ],
          [
           "Oliveira do Hospital",
           "1920611",
           177
          ],
          [
           "Pampilhosa da Serra",
           "1920612",
           182
          ],
          [
           "Penacova",
           "1920613",
           171
          ],
          [
           "Penela",
           "1920614",
           174
          ],
          [
           "Soure",
           "1920615",
           186
          ],
          [
           "Tábua",
           "1920616",
           186
          ],
          [
           "Vila Nova de Poiares",
           "1920617",
           189
          ],
          [
           "Alvaiázere",
           "1931002",
           154
          ],
          [
           "Ansião",
           "1931003",
           188
          ],
          [
           "Batalha",
           "1931004",
           158
          ],
          [
           "Castanheira de Pêra",
           "1931007",
           171
          ],
          [
           "Figueiró dos Vinhos",
           "1931008",
           179
          ],
          [
           "Leiria",
           "1931009",
           161
          ],
          [
           "Marinha Grande",
           "1931010",
           158
          ],
          [
           "Pedrógão Grande",
           "1931013",
           190
          ],
          [
           "Pombal",
           "1931015",
           164
          ],
          [
           "Porto de Mós",
           "1931016",
           168
          ],
          [
           "Aguiar da Beira",
           "1940901",
           184
          ],
          [
           "Carregal do Sal",
           "1941802",
           155
          ],
          [
           "Castro Daire",
           "1941803",
           172
          ],
          [
           "Mangualde",
           "1941806",
           186
          ],
          [
           "Nelas",
           "1941809",
           156
          ],
          [
           "Oliveira de Frades",
           "1941810",
           166
          ],
          [
           "Penalva do Castelo",
           "1941811",
           185
          ],
          [
           "Santa Comba Dão",
           "1941814",
           169
          ],
          [
           "São Pedro do Sul",
           "1941816",
           156
          ],
          [
           "Sátão",
           "1941817",
           184
          ],
          [
           "Tondela",
           "1941821",
           162
          ],
          [
           "Vila Nova de Paiva",
           "1941822",
           153
          ],
          [
           "Viseu",
           "1941823",
           164
          ],
          [
           "Vouzela",
           "1941824",
           177
          ],
          [
           "Castelo Branco",
           "1950502",
           175
          ],
          [
           "Idanha-a-Nova",
           "1950505",
           187
          ],
          [
           "Oleiros",
           "1950506",
           184
          ],
          [
           "Penamacor",
           "1950507",
           206
          ],
          [
           "Proença-a-Nova",
           "1950508",
           159
          ],
          [
           "Sertã",
           "1950509",
           170
          ],
          [
           "Vila de Rei",
           "1950510",
           183
          ],
          [
           "Vila Velha de Ródão",
           "1950511",
           162
          ],
          [
           "Almeida",
           "1960902",
           173
          ],
          [
           "Belmonte",
           "1960501",
           189
          ],
          [
           "Celorico da Beira",
           "1960903",
           175
          ],
          [
           "Covilhã",
           "1960503",
           173
          ],
          [
           "Figueira de Castelo Rodrigo",
           "1960904",
           171
          ],
          [
           "Fornos de Algodres",
           "1960905",
           176
          ],
          [
           "Fundão",
           "1960504",
           179
          ],
          [
           "Gouveia",
           "1960906",
           178
          ],
          [
           "Guarda",
           "1960907",
           152
          ],
          [
           "Manteigas",
           "1960908",
           170
          ],
          [
           "Mêda",
           "1960909",
           151
          ],
          [
           "Pinhel",
           "1960910",
           149
          ],
          [
           "Sabugal",
           "1960911",
           176
          ],
          [
           "Seia",
           "1960912",
           176
          ],
          [
           "Trancoso",
           "1960913",
           162
          ],
          [
           "Alcobaça",
           "1D11001",
           176
          ],
          [
           "Alenquer",
           "1D11101",
           175
          ],
          [
           "Arruda dos Vinhos",
           "1D11102",
           183
          ],
          [
           "Bombarral",
           "1D11005",
           166
          ],
          [
           "Cadaval",
           "1D11104",
           158
          ],
          [
           "Caldas da Rainha",
           "1D11006",
           160
          ],
          [
           "Lourinhã",
           "1D11108",
           159
          ],
          [
           "Nazaré",
           "1D11011",
           173
          ],
          [
           "Óbidos",
           "1D11012",
           158
          ],
          [
           "Peniche",
           "1D11014",
           150
          ],
          [
           "Sobral de Monte Agraço",
           "1D11112",
           186
          ],
          [
           "Torres Vedras",
           "1D11113",
           177
          ],
          [
           "Abrantes",
           "1D21401",
           160
          ],
          [
           "Alcanena",
           "1D21402",
           173
          ],
          [
           "Constância",
           "1D21408",
           162
          ],
          [
           "Entroncamento",
           "1D21410",
           161
          ],
          [
           "Ferreira do Zêzere",
           "1D21411",
           155
          ],
          [
           "Mação",
           "1D21413",
           176
          ],
          [
           "Ourém",
           "1D21421",
           147
          ],
          [
           "Sardoal",
           "1D21417",
           198
          ],
          [
           "Tomar",
           "1D21418",
           170
          ],
          [
           "Torres Novas",
           "1D21419",
           154
          ],
          [
           "Vila Nova da Barquinha",
           "1D21420",
           157
          ],
          [
           "Almeirim",
           "1D31403",
           143
          ],
          [
           "Alpiarça",
           "1D31404",
           146
          ],
          [
           "Azambuja",
           "1D31103",
           168
          ],
          [
           "Benavente",
           "1D31405",
           161
          ],
          [
           "Cartaxo",
           "1D31406",
           171
          ],
          [
           "Chamusca",
           "1D31407",
           155
          ],
          [
           "Coruche",
           "1D31409",
           162
          ],
          [
           "Golegã",
           "1D31412",
           168
          ],
          [
           "Rio Maior",
           "1D31414",
           165
          ],
          [
           "Salvaterra de Magos",
           "1D31415",
           161
          ],
          [
           "Santarém",
           "1D31416",
           161
          ],
          [
           "Amadora",
           "1A01115",
           181
          ],
          [
           "Cascais",
           "1A01105",
           196
          ],
          [
           "Lisboa",
           "1A01106",
           190
          ],
          [
           "Loures",
           "1A01107",
           190
          ],
          [
           "Mafra",
           "1A01109",
           186
          ],
          [
           "Odivelas",
           "1A01116",
           181
          ],
          [
           "Oeiras",
           "1A01110",
           193
          ],
          [
           "Sintra",
           "1A01111",
           182
          ],
          [
           "Vila Franca de Xira",
           "1A01114",
           184
          ],
          [
           "Alcochete",
           "1B01502",
           183
          ],
          [
           "Almada",
           "1B01503",
           190
          ],
          [
           "Barreiro",
           "1B01504",
           176
          ],
          [
           "Moita",
           "1B01506",
           177
          ],
          [
           "Montijo",
           "1B01507",
           173
          ],
          [
           "Palmela",
           "1B01508",
           175
          ],
          [
           "Seixal",
           "1B01510",
           176
          ],
          [
           "Sesimbra",
           "1B01511",
           179
          ],
          [
           "Setúbal",
           "1B01512",
           171
          ],
          [
           "Alcácer do Sal",
           "1C11501",
           154
          ],
          [
           "Grândola",
           "1C11505",
           161
          ],
          [
           "Odemira",
           "1C10211",
           133
          ],
          [
           "Santiago do Cacém",
           "1C11509",
           150
          ],
          [
           "Sines",
           "1C11513",
           121
          ],
          [
           "Aljustrel",
           "1C20201",
           185
          ],
          [
           "Almodôvar",
           "1C20202",
           176
          ],
          [
           "Alvito",
           "1C20203",
           220
          ],
          [
           "Barrancos",
           "1C20204",
           189
          ],
          [
           "Beja",
           "1C20205",
           158
          ],
          [
           "Castro Verde",
           "1C20206",
           166
          ],
          [
           "Cuba",
           "1C20207",
           188
          ],
          [
           "Ferreira do Alentejo",
           "1C20208",
           144
          ],
          [
           "Mértola",
           "1C20209",
           187
          ],
          [
           "Moura",
           "1C20210",
           166
          ],
          [
           "Ourique",
           "1C20212",
           196
          ],
          [
           "Serpa",
           "1C20213",
           166
          ],
          [
           "Vidigueira",
           "1C20214",
           156
          ],
          [
           "Alter do Chão",
           "1C31201",
           160
          ],
          [
           "Arronches",
           "1C31202",
           195
          ],
          [
           "Avis",
           "1C31203",
           167
          ],
          [
           "Campo Maior",
           "1C31204",
           190
          ],
          [
           "Castelo de Vide",
           "1C31205",
           204
          ],
          [
           "Crato",
           "1C31206",
           184
          ],
          [
           "Elvas",
           "1C31207",
           173
          ],
          [
           "Fronteira",
           "1C31208",
           177
          ],
          [
           "Gavião",
           "1C31209",
           194
          ],
          [
           "Marvão",
           "1C31210",
           195
          ],
          [
           "Monforte",
           "1C31211",
           188
          ],
          [
           "Nisa",
           "1C31212",
           168
          ],
          [
           "Ponte de Sor",
           "1C31213",
           150
          ],
          [
           "Portalegre",
           "1C31214",
           172
          ],
          [
           "Sousel",
           "1C31215",
           149
          ],
          [
           "Alandroal",
           "1C40701",
           157
          ],
          [
           "Arraiolos",
           "1C40702",
           171
          ],
          [
           "Borba",
           "1C40703",
           146
          ],
          [
           "Estremoz",
           "1C40704",
           158
          ],
          [
           "Évora",
           "1C40705",
           163
          ],
          [
           "Montemor-o-Novo",
           "1C40706",
           159
          ],
          [
           "Mora",
           "1C40707",
           138
          ],
          [
           "Mourão",
           "1C40708",
           183
          ],
          [
           "Portel",
           "1C40709",
           167
          ],
          [
           "Redondo",
           "1C40710",
           170
          ],
          [
           "Reguengos de Monsaraz",
           "1C40711",
           168
          ],
          [
           "Vendas Novas",
           "1C40712",
           132
          ],
          [
           "Viana do Alentejo",
           "1C40713",
           150
          ],
          [
           "Vila Viçosa",
           "1C40714",
           154
          ],
          [
           "Albufeira",
           "1500801",
           111
          ],
          [
           "Alcoutim",
           "1500802",
           138
          ],
          [
           "Aljezur",
           "1500803",
           138
          ],
          [
           "Castro Marim",
           "1500804",
           129
          ],
          [
           "Faro",
           "1500805",
           149
          ],
          [
           "Lagoa",
           "1500806",
           126
          ],
          [
           "Lagos",
           "1500807",
           133
          ],
          [
           "Loulé",
           "1500808",
           125
          ],
          [
           "Monchique",
           "1500809",
           174
          ],
          [
           "Olhão",
           "1500810",
           156
          ],
          [
           "Portimão",
           "1500811",
           130
          ],
          [
           "São Brás de Alportel",
           "1500812",
           171
          ],
          [
           "Silves",
           "1500813",
           132
          ],
          [
           "Tavira",
           "1500814",
           131
          ],
          [
           "Vila do Bispo",
           "1500815",
           113
          ],
          [
           "Vila Real de Santo António",
           "1500816",
           140
          ],
          [
           "Angra do Heroísmo",
           "2004301",
           179
          ],
          [
           "Calheta (R.A.A.)",
           "2004501",
           198
          ],
          [
           "Corvo",
           "2004901",
           164
          ],
          [
           "Horta",
           "2004701",
           171
          ],
          [
           "Lagoa (R.A.A.)",
           "2004201",
           197
          ],
          [
           "Lajes das Flores",
           "2004801",
           190
          ],
          [
           "Lajes do Pico",
           "2004601",
           170
          ],
          [
           "Madalena",
           "2004602",
           172
          ],
          [
           "Nordeste",
           "2004202",
           223
          ],
          [
           "Ponta Delgada",
           "2004203",
           175
          ],
          [
           "Povoação",
           "2004204",
           217
          ],
          [
           "Ribeira Grande",
           "2004205",
           178
          ],
          [
           "Santa Cruz da Graciosa",
           "2004401",
           199
          ],
          [
           "Santa Cruz das Flores",
           "2004802",
           184
          ],
          [
           "São Roque do Pico",
           "2004603",
           190
          ],
          [
           "Velas",
           "2004502",
           183
          ],
          [
           "Vila da Praia da Vitória",
           "2004302",
           178
          ],
          [
           "Vila do Porto",
           "2004101",
           186
          ],
          [
           "Vila Franca do Campo",
           "2004206",
           178
          ],
          [
           "Calheta (R.A.M.)",
           "3003101",
           186
          ],
          [
           "Câmara de Lobos",
           "3003102",
           169
          ],
          [
           "Funchal",
           "3003103",
           181
          ],
          [
           "Machico",
           "3003104",
           174
          ],
          [
           "Ponta do Sol",
           "3003105",
           178
          ],
          [
           "Porto Moniz",
           "3003106",
           212
          ],
          [
           "Ribeira Brava",
           "3003107",
           164
          ],
          [
           "Santa Cruz",
           "3003108",
           180
          ],
          [
           "Santana",
           "3003109",
           169
          ],
          [
           "São Vicente",
           "3003110",
           176
          ],
          [
           "Porto Santo",
           "3003201",
           158
          ]
         ],
         "hovertemplate": "valor=%{x}<br>y=%{y}<br>local=%{customdata[0]}<br>codigo=%{customdata[1]}<br>HM=%{customdata[2]}<br>Duracao_sub_desemprego=%{marker.color}<extra></extra>",
         "legendgroup": "",
         "marker": {
          "color": [
           0,
           1,
           2,
           1,
           0,
           0,
           1,
           0,
           0,
           1,
           1,
           1,
           1,
           1,
           0,
           2,
           1,
           1,
           2,
           2,
           1,
           1,
           1,
           2,
           1,
           2,
           1,
           1,
           1,
           1,
           1,
           1,
           1,
           1,
           2,
           1,
           1,
           1,
           1,
           1,
           1,
           1,
           2,
           2,
           1,
           1,
           2,
           1,
           1,
           1,
           2,
           1,
           1,
           1,
           2,
           1,
           1,
           2,
           2,
           2,
           2,
           2,
           1,
           2,
           2,
           2,
           1,
           2,
           1,
           1,
           1,
           2,
           2,
           2,
           2,
           1,
           1,
           1,
           1,
           1,
           2,
           1,
           1,
           2,
           2,
           1,
           0,
           1,
           1,
           0,
           1,
           0,
           0,
           0,
           1,
           1,
           1,
           1,
           0,
           1,
           0,
           0,
           2,
           0,
           1,
           0,
           0,
           0,
           0,
           1,
           1,
           1,
           1,
           2,
           2,
           2,
           0,
           2,
           0,
           1,
           1,
           0,
           0,
           2,
           1,
           1,
           1,
           0,
           1,
           2,
           0,
           1,
           2,
           1,
           0,
           1,
           0,
           0,
           1,
           1,
           1,
           2,
           1,
           2,
           0,
           1,
           1,
           0,
           1,
           2,
           1,
           1,
           1,
           1,
           1,
           1,
           0,
           1,
           0,
           0,
           1,
           1,
           0,
           1,
           1,
           1,
           1,
           0,
           0,
           0,
           1,
           0,
           0,
           2,
           1,
           0,
           1,
           0,
           0,
           0,
           1,
           0,
           2,
           1,
           0,
           0,
           0,
           0,
           1,
           0,
           1,
           0,
           0,
           1,
           1,
           0,
           0,
           1,
           2,
           2,
           2,
           2,
           1,
           2,
           1,
           1,
           1,
           2,
           1,
           1,
           1,
           1,
           1,
           1,
           1,
           0,
           0,
           0,
           0,
           0,
           2,
           1,
           2,
           2,
           0,
           1,
           2,
           0,
           2,
           1,
           2,
           1,
           0,
           0,
           2,
           1,
           2,
           2,
           1,
           1,
           1,
           2,
           2,
           2,
           1,
           0,
           1,
           0,
           0,
           1,
           0,
           0,
           1,
           0,
           0,
           1,
           1,
           1,
           1,
           0,
           0,
           0,
           0,
           0,
           0,
           0,
           0,
           0,
           0,
           0,
           1,
           0,
           0,
           1,
           0,
           0,
           0,
           0,
           1,
           2,
           1,
           1,
           2,
           2,
           1,
           1,
           2,
           1,
           2,
           1,
           2,
           1,
           2,
           1,
           1,
           2,
           1,
           2,
           1,
           1,
           1,
           1,
           2,
           1,
           1,
           1,
           1,
           0
          ],
          "coloraxis": "coloraxis",
          "size": 10,
          "symbol": "circle"
         },
         "mode": "markers",
         "name": "",
         "orientation": "v",
         "showlegend": false,
         "type": "scatter",
         "x": [
          -1.245125800428241,
          -0.5200699969211617,
          1.8781915069868695,
          -0.07388181014757457,
          -0.7431640903079554,
          -1.9144080805886219,
          -0.18542885684097138,
          -1.0220317070414473,
          -1.5797669405084314,
          -0.12965533349427297,
          0.03766523654582223,
          0.3723063766260126,
          0.26075932993261586,
          -0.3527494268810666,
          -0.7431640903079554,
          0.706947516706203,
          0.09343875989252064,
          0.5954004700128063,
          0.8742680867462983,
          1.9339650303335678,
          0.5396269466661079,
          0.42807989997271106,
          0.48385342331940945,
          1.0415886567863935,
          0.3723063766260126,
          0.8742680867462983,
          0.42807989997271106,
          0.09343875989252064,
          0.31653285327931424,
          -0.12965533349427297,
          0.5396269466661079,
          0.20498580658591745,
          -0.12965533349427297,
          -0.018108286800876165,
          0.9858151334396951,
          -0.12965533349427297,
          0.26075932993261586,
          -0.18542885684097138,
          0.26075932993261586,
          -0.018108286800876165,
          0.5396269466661079,
          0.26075932993261586,
          0.8184945633995999,
          0.9300416100929967,
          0.31653285327931424,
          0.5954004700128063,
          1.543550366906679,
          0.09343875989252064,
          0.5396269466661079,
          0.42807989997271106,
          0.9300416100929967,
          0.5396269466661079,
          -0.018108286800876165,
          -0.3527494268810666,
          1.0415886567863935,
          0.48385342331940945,
          0.48385342331940945,
          2.4359267404538536,
          1.097362180133092,
          1.264682750173187,
          1.543550366906679,
          1.1531357034797902,
          0.3723063766260126,
          1.8781915069868695,
          1.4877768435599807,
          2.101285600373663,
          0.20498580658591745,
          1.097362180133092,
          0.20498580658591745,
          0.5954004700128063,
          0.5396269466661079,
          0.9300416100929967,
          1.3204562735198855,
          0.7627210400529014,
          0.8742680867462983,
          -0.24120238018766976,
          0.5954004700128063,
          0.3723063766260126,
          -0.24120238018766976,
          0.42807989997271106,
          2.2686061704137583,
          -0.018108286800876165,
          0.09343875989252064,
          1.2089092268264887,
          1.4320033202132822,
          0.5954004700128063,
          -0.7989376136546538,
          -0.2969759035343682,
          -0.018108286800876165,
          -0.687390566961257,
          -0.12965533349427297,
          -0.7989376136546538,
          -0.5758435202678602,
          -1.1893522770815426,
          0.26075932993261586,
          -0.018108286800876165,
          -0.2969759035343682,
          0.42807989997271106,
          -0.6316170436145586,
          -0.4642964735744634,
          -0.8547111370013522,
          -0.9104846603480506,
          1.7666444602934728,
          -0.5758435202678602,
          -0.18542885684097138,
          -1.1335787537348443,
          -0.7431640903079554,
          -0.7989376136546538,
          -1.1893522770815426,
          0.26075932993261586,
          0.5396269466661079,
          -0.07388181014757457,
          0.09343875989252064,
          0.7627210400529014,
          0.7627210400529014,
          0.9300416100929967,
          -1.0220317070414473,
          0.8742680867462983,
          -0.7989376136546538,
          -0.07388181014757457,
          0.3723063766260126,
          -0.6316170436145586,
          -0.7989376136546538,
          0.9858151334396951,
          -0.4642964735744634,
          -0.24120238018766976,
          0.6511739933595047,
          -0.966258183694749,
          -0.018108286800876165,
          0.7627210400529014,
          -0.9104846603480506,
          -0.3527494268810666,
          0.706947516706203,
          -0.18542885684097138,
          -0.9104846603480506,
          0.6511739933595047,
          -0.5758435202678602,
          -1.0778052303881458,
          -0.4642964735744634,
          0.26075932993261586,
          0.14921228323921903,
          0.8184945633995999,
          0.6511739933595047,
          1.8781915069868695,
          -0.7431640903079554,
          -0.12965533349427297,
          0.5954004700128063,
          -0.5758435202678602,
          0.03766523654582223,
          0.9300416100929967,
          0.14921228323921903,
          0.03766523654582223,
          -0.07388181014757457,
          0.20498580658591745,
          0.3723063766260126,
          0.31653285327931424,
          -1.1335787537348443,
          -0.12965533349427297,
          -1.1893522770815426,
          -1.3008993237749393,
          0.20498580658591745,
          0.20498580658591745,
          -0.5758435202678602,
          0.20498580658591745,
          0.14921228323921903,
          0.5954004700128063,
          -0.3527494268810666,
          -0.7989376136546538,
          -0.687390566961257,
          -0.7431640903079554,
          0.03766523654582223,
          -0.7989376136546538,
          -1.245125800428241,
          0.7627210400529014,
          0.26075932993261586,
          -0.687390566961257,
          0.03766523654582223,
          -0.5758435202678602,
          -0.6316170436145586,
          -0.966258183694749,
          0.20498580658591745,
          -1.4124463704683363,
          1.4320033202132822,
          -0.12965533349427297,
          -1.0220317070414473,
          -0.8547111370013522,
          -1.6355404638551299,
          -1.4682198938150346,
          -0.24120238018766976,
          -0.6316170436145586,
          -0.07388181014757457,
          -0.966258183694749,
          -0.5758435202678602,
          -0.24120238018766976,
          -0.40852295022776497,
          -0.6316170436145586,
          -0.6316170436145586,
          0.48385342331940945,
          1.3204562735198855,
          0.9858151334396951,
          0.9858151334396951,
          0.7627210400529014,
          0.48385342331940945,
          1.1531357034797902,
          0.5396269466661079,
          0.6511739933595047,
          0.5954004700128063,
          0.9858151334396951,
          0.20498580658591745,
          0.26075932993261586,
          0.03766523654582223,
          0.14921228323921903,
          0.20498580658591745,
          0.3723063766260126,
          -0.07388181014757457,
          -1.0220317070414473,
          -0.6316170436145586,
          -2.1932756973221137,
          -1.245125800428241,
          -2.8625579774824947,
          0.706947516706203,
          0.20498580658591745,
          2.659020833840647,
          0.9300416100929967,
          -0.7989376136546538,
          -0.3527494268810666,
          0.8742680867462983,
          -1.5797669405084314,
          0.8184945633995999,
          -0.3527494268810666,
          1.3204562735198855,
          -0.3527494268810666,
          -0.9104846603480506,
          -0.687390566961257,
          1.264682750173187,
          -0.2969759035343682,
          0.9858151334396951,
          1.7666444602934728,
          0.6511739933595047,
          0.03766523654582223,
          0.26075932993261586,
          1.2089092268264887,
          1.264682750173187,
          0.8742680867462983,
          -0.24120238018766976,
          -1.245125800428241,
          -0.018108286800876165,
          -1.3008993237749393,
          -0.8547111370013522,
          -0.07388181014757457,
          -1.4682198938150346,
          -0.7989376136546538,
          -0.5200699969211617,
          -0.7431640903079554,
          -1.9144080805886219,
          0.5954004700128063,
          -0.2969759035343682,
          -0.12965533349427297,
          -0.24120238018766976,
          -2.2490492206688124,
          -1.245125800428241,
          -1.0220317070414473,
          -3.420293210949479,
          -1.9144080805886219,
          -1.9144080805886219,
          -2.4163697907089072,
          -1.3008993237749393,
          -2.5836903607490025,
          -2.1932756973221137,
          -2.639463884095701,
          0.09343875989252064,
          -0.9104846603480506,
          -2.360596267362209,
          -0.07388181014757457,
          -2.2490492206688124,
          -2.3048227440155107,
          -3.308746164256082,
          -1.8028610338952251,
          0.3723063766260126,
          1.4320033202132822,
          -0.4642964735744634,
          -0.07388181014757457,
          1.376229796866584,
          0.9858151334396951,
          -0.12965533349427297,
          -0.018108286800876165,
          2.8263414038807424,
          0.14921228323921903,
          2.491700263800552,
          0.31653285327931424,
          1.4877768435599807,
          0.6511739933595047,
          0.9858151334396951,
          0.5954004700128063,
          0.31653285327931424,
          0.7627210400529014,
          0.31653285327931424,
          0.7627210400529014,
          -0.18542885684097138,
          0.48385342331940945,
          0.09343875989252064,
          0.31653285327931424,
          2.21283264706706,
          -0.4642964735744634,
          0.42807989997271106,
          -0.18542885684097138,
          0.20498580658591745,
          -0.7989376136546538
         ],
         "xaxis": "x",
         "y": [
          0,
          0,
          0,
          0,
          0,
          0,
          0,
          0,
          0,
          0,
          0,
          0,
          0,
          0,
          0,
          0,
          0,
          0,
          0,
          0,
          0,
          0,
          0,
          0,
          0,
          0,
          0,
          0,
          0,
          0,
          0,
          0,
          0,
          0,
          0,
          0,
          0,
          0,
          0,
          0,
          0,
          0,
          0,
          0,
          0,
          0,
          0,
          0,
          0,
          0,
          0,
          0,
          0,
          0,
          0,
          0,
          0,
          0,
          0,
          0,
          0,
          0,
          0,
          0,
          0,
          0,
          0,
          0,
          0,
          0,
          0,
          0,
          0,
          0,
          0,
          0,
          0,
          0,
          0,
          0,
          0,
          0,
          0,
          0,
          0,
          0,
          0,
          0,
          0,
          0,
          0,
          0,
          0,
          0,
          0,
          0,
          0,
          0,
          0,
          0,
          0,
          0,
          0,
          0,
          0,
          0,
          0,
          0,
          0,
          0,
          0,
          0,
          0,
          0,
          0,
          0,
          0,
          0,
          0,
          0,
          0,
          0,
          0,
          0,
          0,
          0,
          0,
          0,
          0,
          0,
          0,
          0,
          0,
          0,
          0,
          0,
          0,
          0,
          0,
          0,
          0,
          0,
          0,
          0,
          0,
          0,
          0,
          0,
          0,
          0,
          0,
          0,
          0,
          0,
          0,
          0,
          0,
          0,
          0,
          0,
          0,
          0,
          0,
          0,
          0,
          0,
          0,
          0,
          0,
          0,
          0,
          0,
          0,
          0,
          0,
          0,
          0,
          0,
          0,
          0,
          0,
          0,
          0,
          0,
          0,
          0,
          0,
          0,
          0,
          0,
          0,
          0,
          0,
          0,
          0,
          0,
          0,
          0,
          0,
          0,
          0,
          0,
          0,
          0,
          0,
          0,
          0,
          0,
          0,
          0,
          0,
          0,
          0,
          0,
          0,
          0,
          0,
          0,
          0,
          0,
          0,
          0,
          0,
          0,
          0,
          0,
          0,
          0,
          0,
          0,
          0,
          0,
          0,
          0,
          0,
          0,
          0,
          0,
          0,
          0,
          0,
          0,
          0,
          0,
          0,
          0,
          0,
          0,
          0,
          0,
          0,
          0,
          0,
          0,
          0,
          0,
          0,
          0,
          0,
          0,
          0,
          0,
          0,
          0,
          0,
          0,
          0,
          0,
          0,
          0,
          0,
          0,
          0,
          0,
          0,
          0,
          0,
          0,
          0,
          0,
          0,
          0,
          0,
          0,
          0,
          0,
          0,
          0,
          0,
          0,
          0,
          0,
          0,
          0,
          0,
          0,
          0,
          0,
          0,
          0,
          0,
          0,
          0,
          0,
          0,
          0,
          0,
          0
         ],
         "yaxis": "y"
        }
       ],
       "layout": {
        "coloraxis": {
         "colorbar": {
          "title": {
           "text": "Duracao_sub_desemprego"
          }
         },
         "colorscale": [
          [
           0,
           "#440154"
          ],
          [
           0.1111111111111111,
           "#482878"
          ],
          [
           0.2222222222222222,
           "#3e4989"
          ],
          [
           0.3333333333333333,
           "#31688e"
          ],
          [
           0.4444444444444444,
           "#26828e"
          ],
          [
           0.5555555555555556,
           "#1f9e89"
          ],
          [
           0.6666666666666666,
           "#35b779"
          ],
          [
           0.7777777777777778,
           "#6ece58"
          ],
          [
           0.8888888888888888,
           "#b5de2b"
          ],
          [
           1,
           "#fde725"
          ]
         ]
        },
        "height": 300,
        "legend": {
         "tracegroupgap": 0
        },
        "margin": {
         "t": 60
        },
        "template": {
         "data": {
          "bar": [
           {
            "error_x": {
             "color": "#2a3f5f"
            },
            "error_y": {
             "color": "#2a3f5f"
            },
            "marker": {
             "line": {
              "color": "#E5ECF6",
              "width": 0.5
             },
             "pattern": {
              "fillmode": "overlay",
              "size": 10,
              "solidity": 0.2
             }
            },
            "type": "bar"
           }
          ],
          "barpolar": [
           {
            "marker": {
             "line": {
              "color": "#E5ECF6",
              "width": 0.5
             },
             "pattern": {
              "fillmode": "overlay",
              "size": 10,
              "solidity": 0.2
             }
            },
            "type": "barpolar"
           }
          ],
          "carpet": [
           {
            "aaxis": {
             "endlinecolor": "#2a3f5f",
             "gridcolor": "white",
             "linecolor": "white",
             "minorgridcolor": "white",
             "startlinecolor": "#2a3f5f"
            },
            "baxis": {
             "endlinecolor": "#2a3f5f",
             "gridcolor": "white",
             "linecolor": "white",
             "minorgridcolor": "white",
             "startlinecolor": "#2a3f5f"
            },
            "type": "carpet"
           }
          ],
          "choropleth": [
           {
            "colorbar": {
             "outlinewidth": 0,
             "ticks": ""
            },
            "type": "choropleth"
           }
          ],
          "contour": [
           {
            "colorbar": {
             "outlinewidth": 0,
             "ticks": ""
            },
            "colorscale": [
             [
              0,
              "#0d0887"
             ],
             [
              0.1111111111111111,
              "#46039f"
             ],
             [
              0.2222222222222222,
              "#7201a8"
             ],
             [
              0.3333333333333333,
              "#9c179e"
             ],
             [
              0.4444444444444444,
              "#bd3786"
             ],
             [
              0.5555555555555556,
              "#d8576b"
             ],
             [
              0.6666666666666666,
              "#ed7953"
             ],
             [
              0.7777777777777778,
              "#fb9f3a"
             ],
             [
              0.8888888888888888,
              "#fdca26"
             ],
             [
              1,
              "#f0f921"
             ]
            ],
            "type": "contour"
           }
          ],
          "contourcarpet": [
           {
            "colorbar": {
             "outlinewidth": 0,
             "ticks": ""
            },
            "type": "contourcarpet"
           }
          ],
          "heatmap": [
           {
            "colorbar": {
             "outlinewidth": 0,
             "ticks": ""
            },
            "colorscale": [
             [
              0,
              "#0d0887"
             ],
             [
              0.1111111111111111,
              "#46039f"
             ],
             [
              0.2222222222222222,
              "#7201a8"
             ],
             [
              0.3333333333333333,
              "#9c179e"
             ],
             [
              0.4444444444444444,
              "#bd3786"
             ],
             [
              0.5555555555555556,
              "#d8576b"
             ],
             [
              0.6666666666666666,
              "#ed7953"
             ],
             [
              0.7777777777777778,
              "#fb9f3a"
             ],
             [
              0.8888888888888888,
              "#fdca26"
             ],
             [
              1,
              "#f0f921"
             ]
            ],
            "type": "heatmap"
           }
          ],
          "heatmapgl": [
           {
            "colorbar": {
             "outlinewidth": 0,
             "ticks": ""
            },
            "colorscale": [
             [
              0,
              "#0d0887"
             ],
             [
              0.1111111111111111,
              "#46039f"
             ],
             [
              0.2222222222222222,
              "#7201a8"
             ],
             [
              0.3333333333333333,
              "#9c179e"
             ],
             [
              0.4444444444444444,
              "#bd3786"
             ],
             [
              0.5555555555555556,
              "#d8576b"
             ],
             [
              0.6666666666666666,
              "#ed7953"
             ],
             [
              0.7777777777777778,
              "#fb9f3a"
             ],
             [
              0.8888888888888888,
              "#fdca26"
             ],
             [
              1,
              "#f0f921"
             ]
            ],
            "type": "heatmapgl"
           }
          ],
          "histogram": [
           {
            "marker": {
             "pattern": {
              "fillmode": "overlay",
              "size": 10,
              "solidity": 0.2
             }
            },
            "type": "histogram"
           }
          ],
          "histogram2d": [
           {
            "colorbar": {
             "outlinewidth": 0,
             "ticks": ""
            },
            "colorscale": [
             [
              0,
              "#0d0887"
             ],
             [
              0.1111111111111111,
              "#46039f"
             ],
             [
              0.2222222222222222,
              "#7201a8"
             ],
             [
              0.3333333333333333,
              "#9c179e"
             ],
             [
              0.4444444444444444,
              "#bd3786"
             ],
             [
              0.5555555555555556,
              "#d8576b"
             ],
             [
              0.6666666666666666,
              "#ed7953"
             ],
             [
              0.7777777777777778,
              "#fb9f3a"
             ],
             [
              0.8888888888888888,
              "#fdca26"
             ],
             [
              1,
              "#f0f921"
             ]
            ],
            "type": "histogram2d"
           }
          ],
          "histogram2dcontour": [
           {
            "colorbar": {
             "outlinewidth": 0,
             "ticks": ""
            },
            "colorscale": [
             [
              0,
              "#0d0887"
             ],
             [
              0.1111111111111111,
              "#46039f"
             ],
             [
              0.2222222222222222,
              "#7201a8"
             ],
             [
              0.3333333333333333,
              "#9c179e"
             ],
             [
              0.4444444444444444,
              "#bd3786"
             ],
             [
              0.5555555555555556,
              "#d8576b"
             ],
             [
              0.6666666666666666,
              "#ed7953"
             ],
             [
              0.7777777777777778,
              "#fb9f3a"
             ],
             [
              0.8888888888888888,
              "#fdca26"
             ],
             [
              1,
              "#f0f921"
             ]
            ],
            "type": "histogram2dcontour"
           }
          ],
          "mesh3d": [
           {
            "colorbar": {
             "outlinewidth": 0,
             "ticks": ""
            },
            "type": "mesh3d"
           }
          ],
          "parcoords": [
           {
            "line": {
             "colorbar": {
              "outlinewidth": 0,
              "ticks": ""
             }
            },
            "type": "parcoords"
           }
          ],
          "pie": [
           {
            "automargin": true,
            "type": "pie"
           }
          ],
          "scatter": [
           {
            "fillpattern": {
             "fillmode": "overlay",
             "size": 10,
             "solidity": 0.2
            },
            "type": "scatter"
           }
          ],
          "scatter3d": [
           {
            "line": {
             "colorbar": {
              "outlinewidth": 0,
              "ticks": ""
             }
            },
            "marker": {
             "colorbar": {
              "outlinewidth": 0,
              "ticks": ""
             }
            },
            "type": "scatter3d"
           }
          ],
          "scattercarpet": [
           {
            "marker": {
             "colorbar": {
              "outlinewidth": 0,
              "ticks": ""
             }
            },
            "type": "scattercarpet"
           }
          ],
          "scattergeo": [
           {
            "marker": {
             "colorbar": {
              "outlinewidth": 0,
              "ticks": ""
             }
            },
            "type": "scattergeo"
           }
          ],
          "scattergl": [
           {
            "marker": {
             "colorbar": {
              "outlinewidth": 0,
              "ticks": ""
             }
            },
            "type": "scattergl"
           }
          ],
          "scattermapbox": [
           {
            "marker": {
             "colorbar": {
              "outlinewidth": 0,
              "ticks": ""
             }
            },
            "type": "scattermapbox"
           }
          ],
          "scatterpolar": [
           {
            "marker": {
             "colorbar": {
              "outlinewidth": 0,
              "ticks": ""
             }
            },
            "type": "scatterpolar"
           }
          ],
          "scatterpolargl": [
           {
            "marker": {
             "colorbar": {
              "outlinewidth": 0,
              "ticks": ""
             }
            },
            "type": "scatterpolargl"
           }
          ],
          "scatterternary": [
           {
            "marker": {
             "colorbar": {
              "outlinewidth": 0,
              "ticks": ""
             }
            },
            "type": "scatterternary"
           }
          ],
          "surface": [
           {
            "colorbar": {
             "outlinewidth": 0,
             "ticks": ""
            },
            "colorscale": [
             [
              0,
              "#0d0887"
             ],
             [
              0.1111111111111111,
              "#46039f"
             ],
             [
              0.2222222222222222,
              "#7201a8"
             ],
             [
              0.3333333333333333,
              "#9c179e"
             ],
             [
              0.4444444444444444,
              "#bd3786"
             ],
             [
              0.5555555555555556,
              "#d8576b"
             ],
             [
              0.6666666666666666,
              "#ed7953"
             ],
             [
              0.7777777777777778,
              "#fb9f3a"
             ],
             [
              0.8888888888888888,
              "#fdca26"
             ],
             [
              1,
              "#f0f921"
             ]
            ],
            "type": "surface"
           }
          ],
          "table": [
           {
            "cells": {
             "fill": {
              "color": "#EBF0F8"
             },
             "line": {
              "color": "white"
             }
            },
            "header": {
             "fill": {
              "color": "#C8D4E3"
             },
             "line": {
              "color": "white"
             }
            },
            "type": "table"
           }
          ]
         },
         "layout": {
          "annotationdefaults": {
           "arrowcolor": "#2a3f5f",
           "arrowhead": 0,
           "arrowwidth": 1
          },
          "autotypenumbers": "strict",
          "coloraxis": {
           "colorbar": {
            "outlinewidth": 0,
            "ticks": ""
           }
          },
          "colorscale": {
           "diverging": [
            [
             0,
             "#8e0152"
            ],
            [
             0.1,
             "#c51b7d"
            ],
            [
             0.2,
             "#de77ae"
            ],
            [
             0.3,
             "#f1b6da"
            ],
            [
             0.4,
             "#fde0ef"
            ],
            [
             0.5,
             "#f7f7f7"
            ],
            [
             0.6,
             "#e6f5d0"
            ],
            [
             0.7,
             "#b8e186"
            ],
            [
             0.8,
             "#7fbc41"
            ],
            [
             0.9,
             "#4d9221"
            ],
            [
             1,
             "#276419"
            ]
           ],
           "sequential": [
            [
             0,
             "#0d0887"
            ],
            [
             0.1111111111111111,
             "#46039f"
            ],
            [
             0.2222222222222222,
             "#7201a8"
            ],
            [
             0.3333333333333333,
             "#9c179e"
            ],
            [
             0.4444444444444444,
             "#bd3786"
            ],
            [
             0.5555555555555556,
             "#d8576b"
            ],
            [
             0.6666666666666666,
             "#ed7953"
            ],
            [
             0.7777777777777778,
             "#fb9f3a"
            ],
            [
             0.8888888888888888,
             "#fdca26"
            ],
            [
             1,
             "#f0f921"
            ]
           ],
           "sequentialminus": [
            [
             0,
             "#0d0887"
            ],
            [
             0.1111111111111111,
             "#46039f"
            ],
            [
             0.2222222222222222,
             "#7201a8"
            ],
            [
             0.3333333333333333,
             "#9c179e"
            ],
            [
             0.4444444444444444,
             "#bd3786"
            ],
            [
             0.5555555555555556,
             "#d8576b"
            ],
            [
             0.6666666666666666,
             "#ed7953"
            ],
            [
             0.7777777777777778,
             "#fb9f3a"
            ],
            [
             0.8888888888888888,
             "#fdca26"
            ],
            [
             1,
             "#f0f921"
            ]
           ]
          },
          "colorway": [
           "#636efa",
           "#EF553B",
           "#00cc96",
           "#ab63fa",
           "#FFA15A",
           "#19d3f3",
           "#FF6692",
           "#B6E880",
           "#FF97FF",
           "#FECB52"
          ],
          "font": {
           "color": "#2a3f5f"
          },
          "geo": {
           "bgcolor": "white",
           "lakecolor": "white",
           "landcolor": "#E5ECF6",
           "showlakes": true,
           "showland": true,
           "subunitcolor": "white"
          },
          "hoverlabel": {
           "align": "left"
          },
          "hovermode": "closest",
          "mapbox": {
           "style": "light"
          },
          "paper_bgcolor": "white",
          "plot_bgcolor": "#E5ECF6",
          "polar": {
           "angularaxis": {
            "gridcolor": "white",
            "linecolor": "white",
            "ticks": ""
           },
           "bgcolor": "#E5ECF6",
           "radialaxis": {
            "gridcolor": "white",
            "linecolor": "white",
            "ticks": ""
           }
          },
          "scene": {
           "xaxis": {
            "backgroundcolor": "#E5ECF6",
            "gridcolor": "white",
            "gridwidth": 2,
            "linecolor": "white",
            "showbackground": true,
            "ticks": "",
            "zerolinecolor": "white"
           },
           "yaxis": {
            "backgroundcolor": "#E5ECF6",
            "gridcolor": "white",
            "gridwidth": 2,
            "linecolor": "white",
            "showbackground": true,
            "ticks": "",
            "zerolinecolor": "white"
           },
           "zaxis": {
            "backgroundcolor": "#E5ECF6",
            "gridcolor": "white",
            "gridwidth": 2,
            "linecolor": "white",
            "showbackground": true,
            "ticks": "",
            "zerolinecolor": "white"
           }
          },
          "shapedefaults": {
           "line": {
            "color": "#2a3f5f"
           }
          },
          "ternary": {
           "aaxis": {
            "gridcolor": "white",
            "linecolor": "white",
            "ticks": ""
           },
           "baxis": {
            "gridcolor": "white",
            "linecolor": "white",
            "ticks": ""
           },
           "bgcolor": "#E5ECF6",
           "caxis": {
            "gridcolor": "white",
            "linecolor": "white",
            "ticks": ""
           }
          },
          "title": {
           "x": 0.05
          },
          "xaxis": {
           "automargin": true,
           "gridcolor": "white",
           "linecolor": "white",
           "ticks": "",
           "title": {
            "standoff": 15
           },
           "zerolinecolor": "white",
           "zerolinewidth": 2
          },
          "yaxis": {
           "automargin": true,
           "gridcolor": "white",
           "linecolor": "white",
           "ticks": "",
           "title": {
            "standoff": 15
           },
           "zerolinecolor": "white",
           "zerolinewidth": 2
          }
         }
        },
        "xaxis": {
         "anchor": "y",
         "domain": [
          0,
          1
         ],
         "title": {
          "text": "HM"
         }
        },
        "yaxis": {
         "anchor": "x",
         "domain": [
          0,
          1
         ],
         "showgrid": false,
         "showticklabels": false,
         "title": {
          "text": "y"
         }
        }
       }
      }
     },
     "metadata": {},
     "output_type": "display_data"
    },
    {
     "name": "stdout",
     "output_type": "stream",
     "text": [
      "Duracao_sub_desemprego\n",
      "0     87\n",
      "1    152\n",
      "2     69\n",
      "Name: count, dtype: int64\n",
      "File saved to csv_files/6_Duracao_Desemprego.csv\n"
     ]
    }
   ],
   "source": [
    "clustered_df = aplicar_kmeans(df_duraçcao_sub_desemprego, 3, nome_cluster='Duracao_sub_desemprego')\n",
    "save_clustered_df_to_csv(clustered_df, \"csv_files/\", \"6_Duracao_Desemprego.csv\")"
   ]
  },
  {
   "cell_type": "markdown",
   "id": "3db3c7cf",
   "metadata": {},
   "source": [
    "### Rendimento Social"
   ]
  },
  {
   "cell_type": "code",
   "execution_count": 6,
   "id": "f9371719",
   "metadata": {},
   "outputs": [
    {
     "data": {
      "text/html": [
       "<div>\n",
       "<style scoped>\n",
       "    .dataframe tbody tr th:only-of-type {\n",
       "        vertical-align: middle;\n",
       "    }\n",
       "\n",
       "    .dataframe tbody tr th {\n",
       "        vertical-align: top;\n",
       "    }\n",
       "\n",
       "    .dataframe thead th {\n",
       "        text-align: right;\n",
       "    }\n",
       "</style>\n",
       "<table border=\"1\" class=\"dataframe\">\n",
       "  <thead>\n",
       "    <tr style=\"text-align: right;\">\n",
       "      <th></th>\n",
       "      <th>local</th>\n",
       "      <th>codigo</th>\n",
       "      <th>Total_2022</th>\n",
       "    </tr>\n",
       "  </thead>\n",
       "  <tbody>\n",
       "    <tr>\n",
       "      <th>4</th>\n",
       "      <td>Arcos de Valdevez</td>\n",
       "      <td>1111601</td>\n",
       "      <td>9.37</td>\n",
       "    </tr>\n",
       "    <tr>\n",
       "      <th>5</th>\n",
       "      <td>Caminha</td>\n",
       "      <td>1111602</td>\n",
       "      <td>16.61</td>\n",
       "    </tr>\n",
       "    <tr>\n",
       "      <th>6</th>\n",
       "      <td>Melgaço</td>\n",
       "      <td>1111603</td>\n",
       "      <td>9.05</td>\n",
       "    </tr>\n",
       "    <tr>\n",
       "      <th>7</th>\n",
       "      <td>Monção</td>\n",
       "      <td>1111604</td>\n",
       "      <td>8.81</td>\n",
       "    </tr>\n",
       "    <tr>\n",
       "      <th>8</th>\n",
       "      <td>Paredes de Coura</td>\n",
       "      <td>1111605</td>\n",
       "      <td>9.56</td>\n",
       "    </tr>\n",
       "    <tr>\n",
       "      <th>...</th>\n",
       "      <td>...</td>\n",
       "      <td>...</td>\n",
       "      <td>...</td>\n",
       "    </tr>\n",
       "    <tr>\n",
       "      <th>339</th>\n",
       "      <td>Porto Santo</td>\n",
       "      <td>3003201</td>\n",
       "      <td>11.37</td>\n",
       "    </tr>\n",
       "    <tr>\n",
       "      <th>340</th>\n",
       "      <td>Ribeira Brava</td>\n",
       "      <td>3003107</td>\n",
       "      <td>23.84</td>\n",
       "    </tr>\n",
       "    <tr>\n",
       "      <th>341</th>\n",
       "      <td>Santa Cruz</td>\n",
       "      <td>3003108</td>\n",
       "      <td>20.58</td>\n",
       "    </tr>\n",
       "    <tr>\n",
       "      <th>342</th>\n",
       "      <td>Santana</td>\n",
       "      <td>3003109</td>\n",
       "      <td>41.08</td>\n",
       "    </tr>\n",
       "    <tr>\n",
       "      <th>343</th>\n",
       "      <td>São Vicente</td>\n",
       "      <td>3003110</td>\n",
       "      <td>21.51</td>\n",
       "    </tr>\n",
       "  </tbody>\n",
       "</table>\n",
       "<p>308 rows × 3 columns</p>\n",
       "</div>"
      ],
      "text/plain": [
       "                 local   codigo  Total_2022\n",
       "4    Arcos de Valdevez  1111601        9.37\n",
       "5              Caminha  1111602       16.61\n",
       "6              Melgaço  1111603        9.05\n",
       "7               Monção  1111604        8.81\n",
       "8     Paredes de Coura  1111605        9.56\n",
       "..                 ...      ...         ...\n",
       "339        Porto Santo  3003201       11.37\n",
       "340      Ribeira Brava  3003107       23.84\n",
       "341         Santa Cruz  3003108       20.58\n",
       "342            Santana  3003109       41.08\n",
       "343        São Vicente  3003110       21.51\n",
       "\n",
       "[308 rows x 3 columns]"
      ]
     },
     "execution_count": 6,
     "metadata": {},
     "output_type": "execute_result"
    }
   ],
   "source": [
    "df_benef_rsi_1000hab = processar_ficheiro(data_path+'Beneficiários do rendimento social de inserção - 1000 habitantes em idade ativa.xls',2)\n",
    "df_benef_rsi_1000hab = carregar_municipios(df_benef_rsi_1000hab)\n",
    "'''save_clustered_df_to_csv(\n",
    "    df_benef_rsi_1000hab.rename(columns={'Total_2022': 'Beneficiários_RSI_1000_habitantes'}),\n",
    "    \"csv_bruto/\",\n",
    "    \"6_Beneficiários_RSI_1000_habitantes.csv\"\n",
    ")'''\n",
    "df_benef_rsi_1000hab\n",
    "\n",
    "\n"
   ]
  },
  {
   "cell_type": "code",
   "execution_count": 7,
   "id": "d8606e27",
   "metadata": {},
   "outputs": [
    {
     "data": {
      "application/vnd.plotly.v1+json": {
       "config": {
        "plotlyServerURL": "https://plot.ly"
       },
       "data": [
        {
         "customdata": [
          [
           "Arcos de Valdevez",
           "1111601",
           9.37
          ],
          [
           "Caminha",
           "1111602",
           16.61
          ],
          [
           "Melgaço",
           "1111603",
           9.05
          ],
          [
           "Monção",
           "1111604",
           8.81
          ],
          [
           "Paredes de Coura",
           "1111605",
           9.56
          ],
          [
           "Ponte da Barca",
           "1111606",
           11.5
          ],
          [
           "Ponte de Lima",
           "1111607",
           8.19
          ],
          [
           "Valença",
           "1111608",
           22.63
          ],
          [
           "Viana do Castelo",
           "1111609",
           17.95
          ],
          [
           "Vila Nova de Cerveira",
           "1111610",
           12.68
          ],
          [
           "Amares",
           "1120301",
           12.96
          ],
          [
           "Barcelos",
           "1120302",
           5.53
          ],
          [
           "Braga",
           "1120303",
           14.02
          ],
          [
           "Esposende",
           "1120306",
           9.71
          ],
          [
           "Terras de Bouro",
           "1120310",
           9.26
          ],
          [
           "Vila Verde",
           "1120313",
           7.98
          ],
          [
           "Cabeceiras de Basto",
           "1190304",
           24.91
          ],
          [
           "Fafe",
           "1190307",
           13.22
          ],
          [
           "Guimarães",
           "1190308",
           9.81
          ],
          [
           "Mondim de Basto",
           "1191705",
           33.19
          ],
          [
           "Póvoa de Lanhoso",
           "1190309",
           10.41
          ],
          [
           "Vieira do Minho",
           "1190311",
           19.21
          ],
          [
           "Vila Nova de Famalicão",
           "1190312",
           13.33
          ],
          [
           "Vizela",
           "1190314",
           6.7
          ],
          [
           "Arouca",
           "11A0104",
           13.03
          ],
          [
           "Espinho",
           "11A0107",
           34.39
          ],
          [
           "Gondomar",
           "11A1304",
           40.85
          ],
          [
           "Maia",
           "11A1306",
           29.6
          ],
          [
           "Matosinhos",
           "11A1308",
           36.84
          ],
          [
           "Oliveira de Azeméis",
           "11A0113",
           9.99
          ],
          [
           "Paredes",
           "11A1310",
           31.61
          ],
          [
           "Porto",
           "11A1312",
           70.26
          ],
          [
           "Póvoa de Varzim",
           "11A1313",
           23.27
          ],
          [
           "Santa Maria da Feira",
           "11A0109",
           18.86
          ],
          [
           "Santo Tirso",
           "11A1314",
           21.92
          ],
          [
           "São João da Madeira",
           "11A0116",
           21.36
          ],
          [
           "Trofa",
           "11A1318",
           19.95
          ],
          [
           "Vale de Cambra",
           "11A0119",
           9.96
          ],
          [
           "Valongo",
           "11A1315",
           39.95
          ],
          [
           "Vila do Conde",
           "11A1316",
           15.68
          ],
          [
           "Vila Nova de Gaia",
           "11A1317",
           48.3
          ],
          [
           "Boticas",
           "11B1702",
           18.27
          ],
          [
           "Chaves",
           "11B1703",
           37.26
          ],
          [
           "Montalegre",
           "11B1706",
           27.58
          ],
          [
           "Ribeira de Pena",
           "11B1709",
           41.37
          ],
          [
           "Valpaços",
           "11B1712",
           43.47
          ],
          [
           "Vila Pouca de Aguiar",
           "11B1713",
           31.21
          ],
          [
           "Amarante",
           "11C1301",
           36.81
          ],
          [
           "Baião",
           "11C1302",
           45.99
          ],
          [
           "Castelo de Paiva",
           "11C0106",
           19.99
          ],
          [
           "Celorico de Basto",
           "11C0305",
           27.07
          ],
          [
           "Cinfães",
           "11C1804",
           43.31
          ],
          [
           "Felgueiras",
           "11C1303",
           18.21
          ],
          [
           "Lousada",
           "11C1305",
           17.99
          ],
          [
           "Marco de Canaveses",
           "11C1307",
           43.65
          ],
          [
           "Paços de Ferreira",
           "11C1309",
           27.09
          ],
          [
           "Penafiel",
           "11C1311",
           28.82
          ],
          [
           "Resende",
           "11C1813",
           60.75
          ],
          [
           "Alijó",
           "11D1701",
           38.86
          ],
          [
           "Armamar",
           "11D1801",
           33.32
          ],
          [
           "Carrazeda de Ansiães",
           "11D0403",
           31.24
          ],
          [
           "Freixo de Espada à Cinta",
           "11D0404",
           51.9
          ],
          [
           "Lamego",
           "11D1805",
           35.23
          ],
          [
           "Mesão Frio",
           "11D1704",
           50.04
          ],
          [
           "Moimenta da Beira",
           "11D1807",
           68.83
          ],
          [
           "Murça",
           "11D1707",
           70.89
          ],
          [
           "Penedono",
           "11D1812",
           37.07
          ],
          [
           "Peso da Régua",
           "11D1708",
           70.81
          ],
          [
           "Sabrosa",
           "11D1710",
           37.33
          ],
          [
           "Santa Marta de Penaguião",
           "11D1711",
           68.62
          ],
          [
           "São João da Pesqueira",
           "11D1815",
           13.95
          ],
          [
           "Sernancelhe",
           "11D1818",
           27.83
          ],
          [
           "Tabuaço",
           "11D1819",
           54.44
          ],
          [
           "Tarouca",
           "11D1820",
           36.24
          ],
          [
           "Torre de Moncorvo",
           "11D0409",
           22.09
          ],
          [
           "Vila Nova de Foz Côa",
           "11D0914",
           21.75
          ],
          [
           "Vila Real",
           "11D1714",
           34.74
          ],
          [
           "Alfândega da Fé",
           "11E0401",
           44.43
          ],
          [
           "Bragança",
           "11E0402",
           19.8
          ],
          [
           "Macedo de Cavaleiros",
           "11E0405",
           36.6
          ],
          [
           "Miranda do Douro",
           "11E0406",
           21.47
          ],
          [
           "Mirandela",
           "11E0407",
           30.44
          ],
          [
           "Mogadouro",
           "11E0408",
           36.75
          ],
          [
           "Vila Flor",
           "11E0410",
           20.19
          ],
          [
           "Vimioso",
           "11E0411",
           20.38
          ],
          [
           "Vinhais",
           "11E0412",
           37.36
          ],
          [
           "Alcobaça",
           "16B1001",
           14.7
          ],
          [
           "Alenquer",
           "16B1101",
           15.99
          ],
          [
           "Arruda dos Vinhos",
           "16B1102",
           12.53
          ],
          [
           "Bombarral",
           "16B1005",
           14.29
          ],
          [
           "Cadaval",
           "16B1104",
           14.73
          ],
          [
           "Caldas da Rainha",
           "16B1006",
           14.63
          ],
          [
           "Lourinhã",
           "16B1108",
           21.03
          ],
          [
           "Nazaré",
           "16B1011",
           13.14
          ],
          [
           "Óbidos",
           "16B1012",
           8.25
          ],
          [
           "Peniche",
           "16B1014",
           19.89
          ],
          [
           "Sobral de Monte Agraço",
           "16B1112",
           10.94
          ],
          [
           "Torres Vedras",
           "16B1113",
           14.72
          ],
          [
           "Águeda",
           "16D0101",
           16.23
          ],
          [
           "Albergaria-a-Velha",
           "16D0102",
           20.59
          ],
          [
           "Anadia",
           "16D0103",
           10.63
          ],
          [
           "Aveiro",
           "16D0105",
           20.87
          ],
          [
           "Estarreja",
           "16D0108",
           34.17
          ],
          [
           "Ílhavo",
           "16D0110",
           23.61
          ],
          [
           "Murtosa",
           "16D0112",
           10.6
          ],
          [
           "Oliveira do Bairro",
           "16D0114",
           20.83
          ],
          [
           "Ovar",
           "16D0115",
           25.41
          ],
          [
           "Sever do Vouga",
           "16D0117",
           10.58
          ],
          [
           "Vagos",
           "16D0118",
           16.62
          ],
          [
           "Arganil",
           "16E0601",
           16.21
          ],
          [
           "Cantanhede",
           "16E0602",
           15.99
          ],
          [
           "Coimbra",
           "16E0603",
           27.32
          ],
          [
           "Condeixa-a-Nova",
           "16E0604",
           10.16
          ],
          [
           "Figueira da Foz",
           "16E0605",
           33.96
          ],
          [
           "Góis",
           "16E0606",
           25.92
          ],
          [
           "Lousã",
           "16E0607",
           25.4
          ],
          [
           "Mealhada",
           "16E0111",
           11.65
          ],
          [
           "Mira",
           "16E0608",
           13.6
          ],
          [
           "Miranda do Corvo",
           "16E0609",
           16.23
          ],
          [
           "Montemor-o-Velho",
           "16E0610",
           11
          ],
          [
           "Mortágua",
           "16E1808",
           12.1
          ],
          [
           "Oliveira do Hospital",
           "16E0611",
           17.39
          ],
          [
           "Pampilhosa da Serra",
           "16E0612",
           24.25
          ],
          [
           "Penacova",
           "16E0613",
           13.69
          ],
          [
           "Penela",
           "16E0614",
           11.78
          ],
          [
           "Soure",
           "16E0615",
           11.57
          ],
          [
           "Tábua",
           "16E0616",
           23.54
          ],
          [
           "Vila Nova de Poiares",
           "16E0617",
           18.47
          ],
          [
           "Alvaiázere",
           "16F1002",
           19.92
          ],
          [
           "Ansião",
           "16F1003",
           21.44
          ],
          [
           "Batalha",
           "16F1004",
           13.89
          ],
          [
           "Castanheira de Pêra",
           "16F1007",
           25.67
          ],
          [
           "Figueiró dos Vinhos",
           "16F1008",
           27.11
          ],
          [
           "Leiria",
           "16F1009",
           17.25
          ],
          [
           "Marinha Grande",
           "16F1010",
           26.55
          ],
          [
           "Pedrógão Grande",
           "16F1013",
           37.5
          ],
          [
           "Pombal",
           "16F1015",
           18.64
          ],
          [
           "Porto de Mós",
           "16F1016",
           14.66
          ],
          [
           "Aguiar da Beira",
           "16G0901",
           19.74
          ],
          [
           "Carregal do Sal",
           "16G1802",
           21.95
          ],
          [
           "Castro Daire",
           "16G1803",
           30.37
          ],
          [
           "Mangualde",
           "16G1806",
           30.35
          ],
          [
           "Nelas",
           "16G1809",
           20.74
          ],
          [
           "Oliveira de Frades",
           "16G1810",
           6.4
          ],
          [
           "Penalva do Castelo",
           "16G1811",
           21.89
          ],
          [
           "Santa Comba Dão",
           "16G1814",
           21
          ],
          [
           "São Pedro do Sul",
           "16G1816",
           18.3
          ],
          [
           "Sátão",
           "16G1817",
           30.31
          ],
          [
           "Tondela",
           "16G1821",
           13.68
          ],
          [
           "Vila Nova de Paiva",
           "16G1822",
           25.53
          ],
          [
           "Viseu",
           "16G1823",
           30.09
          ],
          [
           "Vouzela",
           "16G1824",
           7.94
          ],
          [
           "Castelo Branco",
           "16H0502",
           27.36
          ],
          [
           "Idanha-a-Nova",
           "16H0505",
           59.08
          ],
          [
           "Oleiros",
           "16H0506",
           11.94
          ],
          [
           "Penamacor",
           "16H0507",
           30.92
          ],
          [
           "Proença-a-Nova",
           "16H0508",
           16.89
          ],
          [
           "Vila Velha de Ródão",
           "16H0511",
           23.69
          ],
          [
           "Abrantes",
           "16I1401",
           32.44
          ],
          [
           "Alcanena",
           "16I1402",
           15.68
          ],
          [
           "Constância",
           "16I1408",
           28.19
          ],
          [
           "Entroncamento",
           "16I1410",
           29.54
          ],
          [
           "Ferreira do Zêzere",
           "16I1411",
           15.82
          ],
          [
           "Mação",
           "16I1413",
           16.41
          ],
          [
           "Ourém",
           "16I1421",
           12.16
          ],
          [
           "Sardoal",
           "16I1417",
           29.05
          ],
          [
           "Sertã",
           "16I0509",
           20.42
          ],
          [
           "Tomar",
           "16I1418",
           25.14
          ],
          [
           "Torres Novas",
           "16I1419",
           16.41
          ],
          [
           "Vila de Rei",
           "16I0510",
           13.67
          ],
          [
           "Vila Nova da Barquinha",
           "16I1420",
           25.96
          ],
          [
           "Almeida",
           "16J0902",
           23.83
          ],
          [
           "Belmonte",
           "16J0501",
           36.23
          ],
          [
           "Celorico da Beira",
           "16J0903",
           28.84
          ],
          [
           "Covilhã",
           "16J0503",
           27.39
          ],
          [
           "Figueira de Castelo Rodrigo",
           "16J0904",
           63.28
          ],
          [
           "Fornos de Algodres",
           "16J0905",
           24.83
          ],
          [
           "Fundão",
           "16J0504",
           35.63
          ],
          [
           "Gouveia",
           "16J0906",
           31.42
          ],
          [
           "Guarda",
           "16J0907",
           30.6
          ],
          [
           "Manteigas",
           "16J0908",
           24.88
          ],
          [
           "Mêda",
           "16J0909",
           22.36
          ],
          [
           "Pinhel",
           "16J0910",
           20.12
          ],
          [
           "Sabugal",
           "16J0911",
           25.65
          ],
          [
           "Seia",
           "16J0912",
           31.29
          ],
          [
           "Trancoso",
           "16J0913",
           14.59
          ],
          [
           "Alcochete",
           "1701502",
           19.01
          ],
          [
           "Almada",
           "1701503",
           42.38
          ],
          [
           "Amadora",
           "1701115",
           32.44
          ],
          [
           "Barreiro",
           "1701504",
           43.69
          ],
          [
           "Cascais",
           "1701105",
           24.04
          ],
          [
           "Lisboa",
           "1701106",
           43.57
          ],
          [
           "Loures",
           "1701107",
           30.85
          ],
          [
           "Mafra",
           "1701109",
           11.9
          ],
          [
           "Moita",
           "1701506",
           52.05
          ],
          [
           "Montijo",
           "1701507",
           38.63
          ],
          [
           "Odivelas",
           "1701116",
           25.79
          ],
          [
           "Oeiras",
           "1701110",
           13.45
          ],
          [
           "Palmela",
           "1701508",
           15.15
          ],
          [
           "Seixal",
           "1701510",
           30.36
          ],
          [
           "Sesimbra",
           "1701511",
           27.51
          ],
          [
           "Setúbal",
           "1701512",
           35.34
          ],
          [
           "Sintra",
           "1701111",
           20.66
          ],
          [
           "Vila Franca de Xira",
           "1701114",
           21.45
          ],
          [
           "Alcácer do Sal",
           "1811501",
           14.11
          ],
          [
           "Grândola",
           "1811505",
           20.51
          ],
          [
           "Odemira",
           "1810211",
           15.43
          ],
          [
           "Santiago do Cacém",
           "1811509",
           11.61
          ],
          [
           "Sines",
           "1811513",
           30.16
          ],
          [
           "Aljustrel",
           "1840201",
           47.65
          ],
          [
           "Almodôvar",
           "1840202",
           19.43
          ],
          [
           "Alvito",
           "1840203",
           32.66
          ],
          [
           "Barrancos",
           "1840204",
           52.61
          ],
          [
           "Beja",
           "1840205",
           53.92
          ],
          [
           "Castro Verde",
           "1840206",
           20.98
          ],
          [
           "Cuba",
           "1840207",
           56.23
          ],
          [
           "Ferreira do Alentejo",
           "1840208",
           27.37
          ],
          [
           "Mértola",
           "1840209",
           27.65
          ],
          [
           "Moura",
           "1840210",
           132.55
          ],
          [
           "Ourique",
           "1840212",
           16.4
          ],
          [
           "Serpa",
           "1840213",
           61.26
          ],
          [
           "Vidigueira",
           "1840214",
           68.43
          ],
          [
           "Almeirim",
           "1851403",
           21.42
          ],
          [
           "Alpiarça",
           "1851404",
           12.63
          ],
          [
           "Azambuja",
           "1851103",
           26.44
          ],
          [
           "Benavente",
           "1851405",
           27.78
          ],
          [
           "Cartaxo",
           "1851406",
           11.05
          ],
          [
           "Chamusca",
           "1851407",
           20.56
          ],
          [
           "Coruche",
           "1851409",
           33.04
          ],
          [
           "Golegã",
           "1851412",
           18.86
          ],
          [
           "Rio Maior",
           "1851414",
           18.26
          ],
          [
           "Salvaterra de Magos",
           "1851415",
           19.41
          ],
          [
           "Santarém",
           "1851416",
           25.69
          ],
          [
           "Alter do Chão",
           "1861201",
           51.18
          ],
          [
           "Arronches",
           "1861202",
           11.74
          ],
          [
           "Avis",
           "1861203",
           65.48
          ],
          [
           "Campo Maior",
           "1861204",
           56.23
          ],
          [
           "Castelo de Vide",
           "1861205",
           14.47
          ],
          [
           "Crato",
           "1861206",
           47.41
          ],
          [
           "Elvas",
           "1861207",
           70.87
          ],
          [
           "Fronteira",
           "1861208",
           10.97
          ],
          [
           "Gavião",
           "1861209",
           23.32
          ],
          [
           "Marvão",
           "1861210",
           23.93
          ],
          [
           "Monforte",
           "1861211",
           127.62
          ],
          [
           "Nisa",
           "1861212",
           29.56
          ],
          [
           "Ponte de Sor",
           "1861213",
           25.02
          ],
          [
           "Portalegre",
           "1861214",
           20.98
          ],
          [
           "Sousel",
           "1861215",
           38.56
          ],
          [
           "Alandroal",
           "1870701",
           12.86
          ],
          [
           "Arraiolos",
           "1870702",
           6.9
          ],
          [
           "Borba",
           "1870703",
           47.65
          ],
          [
           "Estremoz",
           "1870704",
           42.04
          ],
          [
           "Évora",
           "1870705",
           24.13
          ],
          [
           "Montemor-o-Novo",
           "1870706",
           10.66
          ],
          [
           "Mora",
           "1870707",
           13.61
          ],
          [
           "Mourão",
           "1870708",
           144.74
          ],
          [
           "Portel",
           "1870709",
           28.41
          ],
          [
           "Redondo",
           "1870710",
           32.09
          ],
          [
           "Reguengos de Monsaraz",
           "1870711",
           53.9
          ],
          [
           "Vendas Novas",
           "1870712",
           19
          ],
          [
           "Viana do Alentejo",
           "1870713",
           28.96
          ],
          [
           "Vila Viçosa",
           "1870714",
           16.7
          ],
          [
           "Albufeira",
           "1500801",
           36.27
          ],
          [
           "Alcoutim",
           "1500802",
           7.74
          ],
          [
           "Aljezur",
           "1500803",
           23.69
          ],
          [
           "Castro Marim",
           "1500804",
           30.19
          ],
          [
           "Faro",
           "1500805",
           33.43
          ],
          [
           "Lagoa",
           "1500806",
           33.96
          ],
          [
           "Lagos",
           "1500807",
           24.28
          ],
          [
           "Loulé",
           "1500808",
           28.49
          ],
          [
           "Monchique",
           "1500809",
           14.28
          ],
          [
           "Olhão",
           "1500810",
           29.54
          ],
          [
           "Portimão",
           "1500811",
           45.42
          ],
          [
           "São Brás de Alportel",
           "1500812",
           21.32
          ],
          [
           "Silves",
           "1500813",
           20.53
          ],
          [
           "Tavira",
           "1500814",
           16.56
          ],
          [
           "Vila do Bispo",
           "1500815",
           13.87
          ],
          [
           "Vila Real de Santo António",
           "1500816",
           33.35
          ],
          [
           "Angra do Heroísmo",
           "2004301",
           39.71
          ],
          [
           "Calheta",
           "2004501",
           12.98
          ],
          [
           "Corvo",
           "2004901",
           29.89
          ],
          [
           "Horta",
           "2004701",
           17.12
          ],
          [
           "Lagoa",
           "2004201",
           90.1
          ],
          [
           "Lajes das Flores",
           "2004801",
           12.62
          ],
          [
           "Lajes do Pico",
           "2004601",
           11.94
          ],
          [
           "Madalena",
           "2004602",
           17.12
          ],
          [
           "Nordeste",
           "2004202",
           92.54
          ],
          [
           "Ponta Delgada",
           "2004203",
           85
          ],
          [
           "Povoação",
           "2004204",
           84.44
          ],
          [
           "Ribeira Grande",
           "2004205",
           157.1
          ],
          [
           "Santa Cruz da Graciosa",
           "2004401",
           58.71
          ],
          [
           "Santa Cruz das Flores",
           "2004802",
           17.77
          ],
          [
           "São Roque do Pico",
           "2004603",
           13.1
          ],
          [
           "Velas",
           "2004502",
           10.64
          ],
          [
           "Vila da Praia da Vitória",
           "2004302",
           47.74
          ],
          [
           "Vila do Porto",
           "2004101",
           33.67
          ],
          [
           "Vila Franca do Campo",
           "2004206",
           63.05
          ],
          [
           "Calheta",
           "3003101",
           36.52
          ],
          [
           "Câmara de Lobos",
           "3003102",
           27.49
          ],
          [
           "Funchal",
           "3003103",
           34.95
          ],
          [
           "Machico",
           "3003104",
           27.39
          ],
          [
           "Ponta do Sol",
           "3003105",
           26.97
          ],
          [
           "Porto Moniz",
           "3003106",
           19.82
          ],
          [
           "Porto Santo",
           "3003201",
           11.37
          ],
          [
           "Ribeira Brava",
           "3003107",
           23.84
          ],
          [
           "Santa Cruz",
           "3003108",
           20.58
          ],
          [
           "Santana",
           "3003109",
           41.08
          ],
          [
           "São Vicente",
           "3003110",
           21.51
          ]
         ],
         "hovertemplate": "valor=%{x}<br>y=%{y}<br>local=%{customdata[0]}<br>codigo=%{customdata[1]}<br>Total_2022=%{customdata[2]}<br>beneficiarios_rsi_por_100hab=%{marker.color}<extra></extra>",
         "legendgroup": "",
         "marker": {
          "color": [
           0,
           0,
           0,
           0,
           0,
           0,
           0,
           0,
           0,
           0,
           0,
           0,
           0,
           0,
           0,
           0,
           0,
           0,
           0,
           1,
           0,
           0,
           0,
           0,
           0,
           1,
           1,
           0,
           1,
           0,
           0,
           1,
           0,
           0,
           0,
           0,
           0,
           0,
           1,
           0,
           1,
           0,
           1,
           0,
           1,
           1,
           0,
           1,
           1,
           0,
           0,
           1,
           0,
           0,
           1,
           0,
           0,
           1,
           1,
           1,
           0,
           1,
           1,
           1,
           1,
           1,
           1,
           1,
           1,
           1,
           0,
           0,
           1,
           1,
           0,
           0,
           1,
           1,
           0,
           1,
           0,
           0,
           1,
           0,
           0,
           1,
           0,
           0,
           0,
           0,
           0,
           0,
           0,
           0,
           0,
           0,
           0,
           0,
           0,
           0,
           0,
           0,
           1,
           0,
           0,
           0,
           0,
           0,
           0,
           0,
           0,
           0,
           0,
           1,
           0,
           0,
           0,
           0,
           0,
           0,
           0,
           0,
           0,
           0,
           0,
           0,
           0,
           0,
           0,
           0,
           0,
           0,
           0,
           0,
           0,
           1,
           0,
           0,
           0,
           0,
           0,
           0,
           0,
           0,
           0,
           0,
           0,
           0,
           0,
           0,
           0,
           0,
           0,
           1,
           0,
           0,
           0,
           0,
           1,
           0,
           0,
           0,
           0,
           0,
           0,
           0,
           0,
           0,
           0,
           0,
           0,
           0,
           1,
           0,
           0,
           1,
           0,
           1,
           0,
           0,
           0,
           0,
           0,
           0,
           0,
           0,
           0,
           1,
           1,
           1,
           0,
           1,
           0,
           0,
           1,
           1,
           0,
           0,
           0,
           0,
           0,
           1,
           0,
           0,
           0,
           0,
           0,
           0,
           0,
           1,
           0,
           1,
           1,
           1,
           0,
           1,
           0,
           0,
           2,
           0,
           1,
           1,
           0,
           0,
           0,
           0,
           0,
           0,
           1,
           0,
           0,
           0,
           0,
           1,
           0,
           1,
           1,
           0,
           1,
           1,
           0,
           0,
           0,
           2,
           0,
           0,
           0,
           1,
           0,
           0,
           1,
           1,
           0,
           0,
           0,
           2,
           0,
           0,
           1,
           0,
           0,
           0,
           1,
           0,
           0,
           0,
           1,
           1,
           0,
           0,
           0,
           0,
           1,
           0,
           0,
           0,
           0,
           1,
           1,
           0,
           0,
           0,
           2,
           0,
           0,
           0,
           2,
           2,
           2,
           2,
           1,
           0,
           0,
           0,
           1,
           1,
           1,
           1,
           0,
           1,
           0,
           0,
           0,
           0,
           0,
           0,
           1,
           0
          ],
          "coloraxis": "coloraxis",
          "size": 10,
          "symbol": "circle"
         },
         "mode": "markers",
         "name": "",
         "orientation": "v",
         "showlegend": false,
         "type": "scatter",
         "x": [
          -0.9408429028051183,
          -0.5832348142277257,
          -0.9566487851731799,
          -0.968503196949226,
          -0.9314581601490818,
          -0.8356349982927086,
          -0.9991270940373452,
          -0.28588665217856785,
          -0.517047681811468,
          -0.7773508070604817,
          -0.7635206599884278,
          -1.1305134912218568,
          -0.7111636746442239,
          -0.9240491527890529,
          -0.9462761748691394,
          -1.0094997043413856,
          -0.17326974030612927,
          -0.7506783805643777,
          -0.9191098145490337,
          0.23570746596746323,
          -0.8894737851089183,
          -0.4548120199872256,
          -0.7452451085003566,
          -1.0727232338136319,
          -0.7600631232204144,
          0.2949795248476942,
          0.6140607751529368,
          0.05838522315077288,
          0.41599331172816556,
          -0.9102190057169991,
          0.1576659217751594,
          2.0667201515425937,
          -0.25427488744244475,
          -0.472099703827293,
          -0.3209559536827043,
          -0.3486162478268121,
          -0.41826091701108337,
          -0.9117008071890048,
          0.5696067309927637,
          -0.6291706598599046,
          0.9820414740343695,
          -0.5012417994434064,
          0.43673853233624604,
          -0.04138940929761581,
          0.6397453340010366,
          0.7434714370414406,
          0.13790856881508254,
          0.41451151025615973,
          0.8679427606899254,
          -0.41628518171507567,
          -0.0665800343217138,
          0.7355684958574099,
          -0.504205402387418,
          -0.5150719465154604,
          0.7523622458734752,
          -0.06559216667370997,
          0.0198583848786228,
          1.596989084916764,
          0.5157679441765539,
          0.24212860567948835,
          0.13939037028708817,
          1.159857650675062,
          0.33646996606385554,
          1.0679859594107042,
          1.9960876147103181,
          2.0978379824547146,
          0.42735378968020965,
          2.0938865118626993,
          0.44019606910425957,
          1.9857150044062781,
          -0.7146212114122374,
          -0.02904106369756772,
          1.2853168419715506,
          0.38635728228805005,
          -0.3125590786746717,
          -0.32935282869073707,
          0.31226720868776153,
          0.7908890841456253,
          -0.4256699243711121,
          0.40413889995211927,
          -0.343182975762791,
          0.09987566436693444,
          0.4115479073121481,
          -0.4064065052350371,
          -0.3970217625790006,
          0.4416778705762654,
          -0.6775761746120932,
          -0.613858711315845,
          -0.7847598144205106,
          -0.697827461396172,
          -0.6760943731400874,
          -0.6810337113801065,
          -0.3649160640188755,
          -0.7546298511563931,
          -0.9961634910933337,
          -0.4212245199550948,
          -0.8632952924368162,
          -0.6765883069640892,
          -0.6020042995397988,
          -0.3866491522749602,
          -0.878607240980876,
          -0.3728190052029063,
          0.2841129807196519,
          -0.23748113742637936,
          -0.8800890424528818,
          -0.37479474049891415,
          -0.1485730491060331,
          -0.8810769101008855,
          -0.5827408804037237,
          -0.6029921671878026,
          -0.613858711315845,
          -0.05423168872166571,
          -0.9018221307089663,
          0.2737403704156115,
          -0.12338242408193492,
          -0.1490669829300351,
          -0.8282259909326797,
          -0.7319088952523047,
          -0.6020042995397988,
          -0.8603316894928048,
          -0.8059989688525933,
          -0.5447079759555756,
          -0.20586937269025624,
          -0.7274634908362874,
          -0.8218048512206548,
          -0.8321774615246952,
          -0.24093867419439283,
          -0.49136312296336804,
          -0.419742718483089,
          -0.34466477723479666,
          -0.7175848143562489,
          -0.13573076968198303,
          -0.06460429902570615,
          -0.5516230494916027,
          -0.0922645931698138,
          0.44859294411229234,
          -0.48296624795533527,
          -0.6795519099081008,
          -0.4286335273151238,
          -0.31947415221069864,
          0.09641812759892096,
          0.09543025995091714,
          -0.3792401449149314,
          -1.0875412485336895,
          -0.3224377551547101,
          -0.3663978654908813,
          -0.49975999797140064,
          0.09345452465490932,
          -0.7279574246602893,
          -0.14264584321800997,
          0.08258798052686706,
          -1.0114754396373933,
          -0.052255953425658065,
          1.514502136308443,
          -0.8139019100366239,
          0.12358448791902679,
          -0.5694046671556718,
          -0.23352966683436388,
          0.19866242916731897,
          -0.6291706598599046,
          -0.011259446033498328,
          0.05542162020676123,
          -0.6222555863238777,
          -0.5931134907077642,
          -0.8030353659085816,
          0.03121886283066706,
          -0.3950460272829928,
          -0.161909262354085,
          -0.5931134907077642,
          -0.7284513584842912,
          -0.12140668878592728,
          -0.2266145932983371,
          0.3858633484640479,
          0.020846252526626623,
          -0.05077415195365224,
          1.721954342389251,
          -0.17722121089814474,
          0.3562273190239328,
          0.14828117911912297,
          0.10777860555096523,
          -0.1747515417781351,
          -0.2992228654266198,
          -0.40986404200305054,
          -0.13671863732998701,
          0.14186003940709782,
          -0.6830094466761143,
          -0.464690696467264,
          0.6896326502252311,
          0.19866242916731897,
          0.7543379811694828,
          -0.21624198299429667,
          0.7484107752814598,
          0.12012695115101331,
          -0.8158776453326315,
          1.1672666580350908,
          0.5044074662245098,
          -0.12980356379396005,
          -0.7393179026123335,
          -0.6553491525320065,
          0.09592419377491897,
          -0.044846946065629105,
          0.34190323812787704,
          -0.38319161550694675,
          -0.34417084341079485,
          -0.7067182702282067,
          -0.3906006228669755,
          -0.6415190054599527,
          -0.8302017262286875,
          0.08604551729488054,
          0.9499357754742446,
          -0.4439454758591833,
          0.20952897329536121,
          1.1949269521791985,
          1.2596322831234508,
          -0.3673857331388852,
          1.3737309964678948,
          -0.051762019601656065,
          -0.037931872529602326,
          5.143433941250575,
          -0.5936074245317662,
          1.6221797099408626,
          1.9763302617502416,
          -0.34565264488280045,
          -0.7798204761804912,
          -0.09769786523383493,
          -0.03151073281757719,
          -0.8578620203727951,
          -0.38813095374696605,
          0.22829845860743445,
          -0.472099703827293,
          -0.5017357332674083,
          -0.44493334350718716,
          -0.13474290203397918,
          1.1242944153469236,
          -0.8237805865166625,
          1.830619783669674,
          1.3737309964678948,
          -0.6889366525641373,
          0.9380813636981983,
          2.0968501148067107,
          -0.8618134909648104,
          -0.2518052183224351,
          -0.22167525505831778,
          4.899924566017626,
          0.05640948785476506,
          -0.16783646824210816,
          -0.3673857331388852,
          0.5009499294564963,
          -0.768459998228447,
          -1.0628445573335932,
          0.9499357754742446,
          0.6728389002091655,
          -0.21179657857827935,
          -0.8771254395088701,
          -0.7314149614283028,
          5.745539272708919,
          -0.0003929019054560691,
          0.18137474532725192,
          1.2586444154754466,
          -0.46518463029126605,
          0.026773458414649755,
          -0.5787894098117085,
          0.3878390837600559,
          -1.021354116117432,
          -0.23352966683436388,
          0.08752731876688635,
          0.24756187774350946,
          0.2737403704156115,
          -0.2043875712182504,
          0.003558568686559234,
          -0.6983213952201739,
          0.05542162020676123,
          0.8397885327218158,
          -0.3505919831228198,
          -0.3896127552189717,
          -0.5857044833477354,
          -0.7185726820042528,
          0.24361040715149418,
          0.5577523192167174,
          -0.7625327923404239,
          0.07270930404682863,
          -0.5580441892036276,
          3.046684858362409,
          -0.7803144100044932,
          -0.8139019100366239,
          -0.5580441892036276,
          3.1672047114188793,
          2.7947786081214283,
          2.7671183139773206,
          6.356041479175297,
          1.496226584820372,
          -0.5259384906435026,
          -0.7566055864524008,
          -0.878113307156874,
          0.954381179890262,
          0.25941628951955575,
          1.7105938644372063,
          0.400187429360104,
          -0.04583481371363311,
          0.322639818991802,
          -0.05077415195365224,
          -0.0715193725617331,
          -0.42468205672310827,
          -0.8420561380047336,
          -0.2261206594743351,
          -0.3871430860989622,
          0.6254212531049809,
          -0.3412072404667832
         ],
         "xaxis": "x",
         "y": [
          0,
          0,
          0,
          0,
          0,
          0,
          0,
          0,
          0,
          0,
          0,
          0,
          0,
          0,
          0,
          0,
          0,
          0,
          0,
          0,
          0,
          0,
          0,
          0,
          0,
          0,
          0,
          0,
          0,
          0,
          0,
          0,
          0,
          0,
          0,
          0,
          0,
          0,
          0,
          0,
          0,
          0,
          0,
          0,
          0,
          0,
          0,
          0,
          0,
          0,
          0,
          0,
          0,
          0,
          0,
          0,
          0,
          0,
          0,
          0,
          0,
          0,
          0,
          0,
          0,
          0,
          0,
          0,
          0,
          0,
          0,
          0,
          0,
          0,
          0,
          0,
          0,
          0,
          0,
          0,
          0,
          0,
          0,
          0,
          0,
          0,
          0,
          0,
          0,
          0,
          0,
          0,
          0,
          0,
          0,
          0,
          0,
          0,
          0,
          0,
          0,
          0,
          0,
          0,
          0,
          0,
          0,
          0,
          0,
          0,
          0,
          0,
          0,
          0,
          0,
          0,
          0,
          0,
          0,
          0,
          0,
          0,
          0,
          0,
          0,
          0,
          0,
          0,
          0,
          0,
          0,
          0,
          0,
          0,
          0,
          0,
          0,
          0,
          0,
          0,
          0,
          0,
          0,
          0,
          0,
          0,
          0,
          0,
          0,
          0,
          0,
          0,
          0,
          0,
          0,
          0,
          0,
          0,
          0,
          0,
          0,
          0,
          0,
          0,
          0,
          0,
          0,
          0,
          0,
          0,
          0,
          0,
          0,
          0,
          0,
          0,
          0,
          0,
          0,
          0,
          0,
          0,
          0,
          0,
          0,
          0,
          0,
          0,
          0,
          0,
          0,
          0,
          0,
          0,
          0,
          0,
          0,
          0,
          0,
          0,
          0,
          0,
          0,
          0,
          0,
          0,
          0,
          0,
          0,
          0,
          0,
          0,
          0,
          0,
          0,
          0,
          0,
          0,
          0,
          0,
          0,
          0,
          0,
          0,
          0,
          0,
          0,
          0,
          0,
          0,
          0,
          0,
          0,
          0,
          0,
          0,
          0,
          0,
          0,
          0,
          0,
          0,
          0,
          0,
          0,
          0,
          0,
          0,
          0,
          0,
          0,
          0,
          0,
          0,
          0,
          0,
          0,
          0,
          0,
          0,
          0,
          0,
          0,
          0,
          0,
          0,
          0,
          0,
          0,
          0,
          0,
          0,
          0,
          0,
          0,
          0,
          0,
          0,
          0,
          0,
          0,
          0,
          0,
          0,
          0,
          0,
          0,
          0,
          0,
          0,
          0,
          0,
          0,
          0,
          0,
          0,
          0,
          0,
          0,
          0,
          0,
          0,
          0,
          0,
          0,
          0,
          0,
          0
         ],
         "yaxis": "y"
        }
       ],
       "layout": {
        "coloraxis": {
         "colorbar": {
          "title": {
           "text": "beneficiarios_rsi_por_100hab"
          }
         },
         "colorscale": [
          [
           0,
           "#440154"
          ],
          [
           0.1111111111111111,
           "#482878"
          ],
          [
           0.2222222222222222,
           "#3e4989"
          ],
          [
           0.3333333333333333,
           "#31688e"
          ],
          [
           0.4444444444444444,
           "#26828e"
          ],
          [
           0.5555555555555556,
           "#1f9e89"
          ],
          [
           0.6666666666666666,
           "#35b779"
          ],
          [
           0.7777777777777778,
           "#6ece58"
          ],
          [
           0.8888888888888888,
           "#b5de2b"
          ],
          [
           1,
           "#fde725"
          ]
         ]
        },
        "height": 300,
        "legend": {
         "tracegroupgap": 0
        },
        "margin": {
         "t": 60
        },
        "template": {
         "data": {
          "bar": [
           {
            "error_x": {
             "color": "#2a3f5f"
            },
            "error_y": {
             "color": "#2a3f5f"
            },
            "marker": {
             "line": {
              "color": "#E5ECF6",
              "width": 0.5
             },
             "pattern": {
              "fillmode": "overlay",
              "size": 10,
              "solidity": 0.2
             }
            },
            "type": "bar"
           }
          ],
          "barpolar": [
           {
            "marker": {
             "line": {
              "color": "#E5ECF6",
              "width": 0.5
             },
             "pattern": {
              "fillmode": "overlay",
              "size": 10,
              "solidity": 0.2
             }
            },
            "type": "barpolar"
           }
          ],
          "carpet": [
           {
            "aaxis": {
             "endlinecolor": "#2a3f5f",
             "gridcolor": "white",
             "linecolor": "white",
             "minorgridcolor": "white",
             "startlinecolor": "#2a3f5f"
            },
            "baxis": {
             "endlinecolor": "#2a3f5f",
             "gridcolor": "white",
             "linecolor": "white",
             "minorgridcolor": "white",
             "startlinecolor": "#2a3f5f"
            },
            "type": "carpet"
           }
          ],
          "choropleth": [
           {
            "colorbar": {
             "outlinewidth": 0,
             "ticks": ""
            },
            "type": "choropleth"
           }
          ],
          "contour": [
           {
            "colorbar": {
             "outlinewidth": 0,
             "ticks": ""
            },
            "colorscale": [
             [
              0,
              "#0d0887"
             ],
             [
              0.1111111111111111,
              "#46039f"
             ],
             [
              0.2222222222222222,
              "#7201a8"
             ],
             [
              0.3333333333333333,
              "#9c179e"
             ],
             [
              0.4444444444444444,
              "#bd3786"
             ],
             [
              0.5555555555555556,
              "#d8576b"
             ],
             [
              0.6666666666666666,
              "#ed7953"
             ],
             [
              0.7777777777777778,
              "#fb9f3a"
             ],
             [
              0.8888888888888888,
              "#fdca26"
             ],
             [
              1,
              "#f0f921"
             ]
            ],
            "type": "contour"
           }
          ],
          "contourcarpet": [
           {
            "colorbar": {
             "outlinewidth": 0,
             "ticks": ""
            },
            "type": "contourcarpet"
           }
          ],
          "heatmap": [
           {
            "colorbar": {
             "outlinewidth": 0,
             "ticks": ""
            },
            "colorscale": [
             [
              0,
              "#0d0887"
             ],
             [
              0.1111111111111111,
              "#46039f"
             ],
             [
              0.2222222222222222,
              "#7201a8"
             ],
             [
              0.3333333333333333,
              "#9c179e"
             ],
             [
              0.4444444444444444,
              "#bd3786"
             ],
             [
              0.5555555555555556,
              "#d8576b"
             ],
             [
              0.6666666666666666,
              "#ed7953"
             ],
             [
              0.7777777777777778,
              "#fb9f3a"
             ],
             [
              0.8888888888888888,
              "#fdca26"
             ],
             [
              1,
              "#f0f921"
             ]
            ],
            "type": "heatmap"
           }
          ],
          "heatmapgl": [
           {
            "colorbar": {
             "outlinewidth": 0,
             "ticks": ""
            },
            "colorscale": [
             [
              0,
              "#0d0887"
             ],
             [
              0.1111111111111111,
              "#46039f"
             ],
             [
              0.2222222222222222,
              "#7201a8"
             ],
             [
              0.3333333333333333,
              "#9c179e"
             ],
             [
              0.4444444444444444,
              "#bd3786"
             ],
             [
              0.5555555555555556,
              "#d8576b"
             ],
             [
              0.6666666666666666,
              "#ed7953"
             ],
             [
              0.7777777777777778,
              "#fb9f3a"
             ],
             [
              0.8888888888888888,
              "#fdca26"
             ],
             [
              1,
              "#f0f921"
             ]
            ],
            "type": "heatmapgl"
           }
          ],
          "histogram": [
           {
            "marker": {
             "pattern": {
              "fillmode": "overlay",
              "size": 10,
              "solidity": 0.2
             }
            },
            "type": "histogram"
           }
          ],
          "histogram2d": [
           {
            "colorbar": {
             "outlinewidth": 0,
             "ticks": ""
            },
            "colorscale": [
             [
              0,
              "#0d0887"
             ],
             [
              0.1111111111111111,
              "#46039f"
             ],
             [
              0.2222222222222222,
              "#7201a8"
             ],
             [
              0.3333333333333333,
              "#9c179e"
             ],
             [
              0.4444444444444444,
              "#bd3786"
             ],
             [
              0.5555555555555556,
              "#d8576b"
             ],
             [
              0.6666666666666666,
              "#ed7953"
             ],
             [
              0.7777777777777778,
              "#fb9f3a"
             ],
             [
              0.8888888888888888,
              "#fdca26"
             ],
             [
              1,
              "#f0f921"
             ]
            ],
            "type": "histogram2d"
           }
          ],
          "histogram2dcontour": [
           {
            "colorbar": {
             "outlinewidth": 0,
             "ticks": ""
            },
            "colorscale": [
             [
              0,
              "#0d0887"
             ],
             [
              0.1111111111111111,
              "#46039f"
             ],
             [
              0.2222222222222222,
              "#7201a8"
             ],
             [
              0.3333333333333333,
              "#9c179e"
             ],
             [
              0.4444444444444444,
              "#bd3786"
             ],
             [
              0.5555555555555556,
              "#d8576b"
             ],
             [
              0.6666666666666666,
              "#ed7953"
             ],
             [
              0.7777777777777778,
              "#fb9f3a"
             ],
             [
              0.8888888888888888,
              "#fdca26"
             ],
             [
              1,
              "#f0f921"
             ]
            ],
            "type": "histogram2dcontour"
           }
          ],
          "mesh3d": [
           {
            "colorbar": {
             "outlinewidth": 0,
             "ticks": ""
            },
            "type": "mesh3d"
           }
          ],
          "parcoords": [
           {
            "line": {
             "colorbar": {
              "outlinewidth": 0,
              "ticks": ""
             }
            },
            "type": "parcoords"
           }
          ],
          "pie": [
           {
            "automargin": true,
            "type": "pie"
           }
          ],
          "scatter": [
           {
            "fillpattern": {
             "fillmode": "overlay",
             "size": 10,
             "solidity": 0.2
            },
            "type": "scatter"
           }
          ],
          "scatter3d": [
           {
            "line": {
             "colorbar": {
              "outlinewidth": 0,
              "ticks": ""
             }
            },
            "marker": {
             "colorbar": {
              "outlinewidth": 0,
              "ticks": ""
             }
            },
            "type": "scatter3d"
           }
          ],
          "scattercarpet": [
           {
            "marker": {
             "colorbar": {
              "outlinewidth": 0,
              "ticks": ""
             }
            },
            "type": "scattercarpet"
           }
          ],
          "scattergeo": [
           {
            "marker": {
             "colorbar": {
              "outlinewidth": 0,
              "ticks": ""
             }
            },
            "type": "scattergeo"
           }
          ],
          "scattergl": [
           {
            "marker": {
             "colorbar": {
              "outlinewidth": 0,
              "ticks": ""
             }
            },
            "type": "scattergl"
           }
          ],
          "scattermapbox": [
           {
            "marker": {
             "colorbar": {
              "outlinewidth": 0,
              "ticks": ""
             }
            },
            "type": "scattermapbox"
           }
          ],
          "scatterpolar": [
           {
            "marker": {
             "colorbar": {
              "outlinewidth": 0,
              "ticks": ""
             }
            },
            "type": "scatterpolar"
           }
          ],
          "scatterpolargl": [
           {
            "marker": {
             "colorbar": {
              "outlinewidth": 0,
              "ticks": ""
             }
            },
            "type": "scatterpolargl"
           }
          ],
          "scatterternary": [
           {
            "marker": {
             "colorbar": {
              "outlinewidth": 0,
              "ticks": ""
             }
            },
            "type": "scatterternary"
           }
          ],
          "surface": [
           {
            "colorbar": {
             "outlinewidth": 0,
             "ticks": ""
            },
            "colorscale": [
             [
              0,
              "#0d0887"
             ],
             [
              0.1111111111111111,
              "#46039f"
             ],
             [
              0.2222222222222222,
              "#7201a8"
             ],
             [
              0.3333333333333333,
              "#9c179e"
             ],
             [
              0.4444444444444444,
              "#bd3786"
             ],
             [
              0.5555555555555556,
              "#d8576b"
             ],
             [
              0.6666666666666666,
              "#ed7953"
             ],
             [
              0.7777777777777778,
              "#fb9f3a"
             ],
             [
              0.8888888888888888,
              "#fdca26"
             ],
             [
              1,
              "#f0f921"
             ]
            ],
            "type": "surface"
           }
          ],
          "table": [
           {
            "cells": {
             "fill": {
              "color": "#EBF0F8"
             },
             "line": {
              "color": "white"
             }
            },
            "header": {
             "fill": {
              "color": "#C8D4E3"
             },
             "line": {
              "color": "white"
             }
            },
            "type": "table"
           }
          ]
         },
         "layout": {
          "annotationdefaults": {
           "arrowcolor": "#2a3f5f",
           "arrowhead": 0,
           "arrowwidth": 1
          },
          "autotypenumbers": "strict",
          "coloraxis": {
           "colorbar": {
            "outlinewidth": 0,
            "ticks": ""
           }
          },
          "colorscale": {
           "diverging": [
            [
             0,
             "#8e0152"
            ],
            [
             0.1,
             "#c51b7d"
            ],
            [
             0.2,
             "#de77ae"
            ],
            [
             0.3,
             "#f1b6da"
            ],
            [
             0.4,
             "#fde0ef"
            ],
            [
             0.5,
             "#f7f7f7"
            ],
            [
             0.6,
             "#e6f5d0"
            ],
            [
             0.7,
             "#b8e186"
            ],
            [
             0.8,
             "#7fbc41"
            ],
            [
             0.9,
             "#4d9221"
            ],
            [
             1,
             "#276419"
            ]
           ],
           "sequential": [
            [
             0,
             "#0d0887"
            ],
            [
             0.1111111111111111,
             "#46039f"
            ],
            [
             0.2222222222222222,
             "#7201a8"
            ],
            [
             0.3333333333333333,
             "#9c179e"
            ],
            [
             0.4444444444444444,
             "#bd3786"
            ],
            [
             0.5555555555555556,
             "#d8576b"
            ],
            [
             0.6666666666666666,
             "#ed7953"
            ],
            [
             0.7777777777777778,
             "#fb9f3a"
            ],
            [
             0.8888888888888888,
             "#fdca26"
            ],
            [
             1,
             "#f0f921"
            ]
           ],
           "sequentialminus": [
            [
             0,
             "#0d0887"
            ],
            [
             0.1111111111111111,
             "#46039f"
            ],
            [
             0.2222222222222222,
             "#7201a8"
            ],
            [
             0.3333333333333333,
             "#9c179e"
            ],
            [
             0.4444444444444444,
             "#bd3786"
            ],
            [
             0.5555555555555556,
             "#d8576b"
            ],
            [
             0.6666666666666666,
             "#ed7953"
            ],
            [
             0.7777777777777778,
             "#fb9f3a"
            ],
            [
             0.8888888888888888,
             "#fdca26"
            ],
            [
             1,
             "#f0f921"
            ]
           ]
          },
          "colorway": [
           "#636efa",
           "#EF553B",
           "#00cc96",
           "#ab63fa",
           "#FFA15A",
           "#19d3f3",
           "#FF6692",
           "#B6E880",
           "#FF97FF",
           "#FECB52"
          ],
          "font": {
           "color": "#2a3f5f"
          },
          "geo": {
           "bgcolor": "white",
           "lakecolor": "white",
           "landcolor": "#E5ECF6",
           "showlakes": true,
           "showland": true,
           "subunitcolor": "white"
          },
          "hoverlabel": {
           "align": "left"
          },
          "hovermode": "closest",
          "mapbox": {
           "style": "light"
          },
          "paper_bgcolor": "white",
          "plot_bgcolor": "#E5ECF6",
          "polar": {
           "angularaxis": {
            "gridcolor": "white",
            "linecolor": "white",
            "ticks": ""
           },
           "bgcolor": "#E5ECF6",
           "radialaxis": {
            "gridcolor": "white",
            "linecolor": "white",
            "ticks": ""
           }
          },
          "scene": {
           "xaxis": {
            "backgroundcolor": "#E5ECF6",
            "gridcolor": "white",
            "gridwidth": 2,
            "linecolor": "white",
            "showbackground": true,
            "ticks": "",
            "zerolinecolor": "white"
           },
           "yaxis": {
            "backgroundcolor": "#E5ECF6",
            "gridcolor": "white",
            "gridwidth": 2,
            "linecolor": "white",
            "showbackground": true,
            "ticks": "",
            "zerolinecolor": "white"
           },
           "zaxis": {
            "backgroundcolor": "#E5ECF6",
            "gridcolor": "white",
            "gridwidth": 2,
            "linecolor": "white",
            "showbackground": true,
            "ticks": "",
            "zerolinecolor": "white"
           }
          },
          "shapedefaults": {
           "line": {
            "color": "#2a3f5f"
           }
          },
          "ternary": {
           "aaxis": {
            "gridcolor": "white",
            "linecolor": "white",
            "ticks": ""
           },
           "baxis": {
            "gridcolor": "white",
            "linecolor": "white",
            "ticks": ""
           },
           "bgcolor": "#E5ECF6",
           "caxis": {
            "gridcolor": "white",
            "linecolor": "white",
            "ticks": ""
           }
          },
          "title": {
           "x": 0.05
          },
          "xaxis": {
           "automargin": true,
           "gridcolor": "white",
           "linecolor": "white",
           "ticks": "",
           "title": {
            "standoff": 15
           },
           "zerolinecolor": "white",
           "zerolinewidth": 2
          },
          "yaxis": {
           "automargin": true,
           "gridcolor": "white",
           "linecolor": "white",
           "ticks": "",
           "title": {
            "standoff": 15
           },
           "zerolinecolor": "white",
           "zerolinewidth": 2
          }
         }
        },
        "xaxis": {
         "anchor": "y",
         "domain": [
          0,
          1
         ],
         "title": {
          "text": "Total_2022"
         }
        },
        "yaxis": {
         "anchor": "x",
         "domain": [
          0,
          1
         ],
         "showgrid": false,
         "showticklabels": false,
         "title": {
          "text": "y"
         }
        }
       }
      }
     },
     "metadata": {},
     "output_type": "display_data"
    },
    {
     "name": "stdout",
     "output_type": "stream",
     "text": [
      "beneficiarios_rsi_por_100hab\n",
      "0    222\n",
      "1     78\n",
      "2      8\n",
      "Name: count, dtype: int64\n",
      "File saved to csv_files/6_Benificiários_RSI_por_cada_1000_hab.csv\n"
     ]
    }
   ],
   "source": [
    "clustered_df = aplicar_kmeans(df_benef_rsi_1000hab, 3, nome_cluster='beneficiarios_rsi_por_100hab')\n",
    "save_clustered_df_to_csv(clustered_df, \"csv_files/\", \"6_Benificiários_RSI_por_cada_1000_hab.csv\")"
   ]
  },
  {
   "cell_type": "markdown",
   "id": "edd56d3d",
   "metadata": {},
   "source": [
    "#### Bnefeciários Abono Família "
   ]
  },
  {
   "cell_type": "code",
   "execution_count": 8,
   "id": "4a887ec1",
   "metadata": {},
   "outputs": [
    {
     "data": {
      "text/html": [
       "<div>\n",
       "<style scoped>\n",
       "    .dataframe tbody tr th:only-of-type {\n",
       "        vertical-align: middle;\n",
       "    }\n",
       "\n",
       "    .dataframe tbody tr th {\n",
       "        vertical-align: top;\n",
       "    }\n",
       "\n",
       "    .dataframe thead th {\n",
       "        text-align: right;\n",
       "    }\n",
       "</style>\n",
       "<table border=\"1\" class=\"dataframe\">\n",
       "  <thead>\n",
       "    <tr style=\"text-align: right;\">\n",
       "      <th></th>\n",
       "      <th>local</th>\n",
       "      <th>codigo</th>\n",
       "      <th>Beneficiarios</th>\n",
       "    </tr>\n",
       "  </thead>\n",
       "  <tbody>\n",
       "    <tr>\n",
       "      <th>4</th>\n",
       "      <td>Arcos de Valdevez</td>\n",
       "      <td>1111601</td>\n",
       "      <td>1405.0</td>\n",
       "    </tr>\n",
       "    <tr>\n",
       "      <th>5</th>\n",
       "      <td>Caminha</td>\n",
       "      <td>1111602</td>\n",
       "      <td>1201.0</td>\n",
       "    </tr>\n",
       "    <tr>\n",
       "      <th>6</th>\n",
       "      <td>Melgaço</td>\n",
       "      <td>1111603</td>\n",
       "      <td>375.0</td>\n",
       "    </tr>\n",
       "    <tr>\n",
       "      <th>7</th>\n",
       "      <td>Monção</td>\n",
       "      <td>1111604</td>\n",
       "      <td>1266.0</td>\n",
       "    </tr>\n",
       "    <tr>\n",
       "      <th>8</th>\n",
       "      <td>Paredes de Coura</td>\n",
       "      <td>1111605</td>\n",
       "      <td>691.0</td>\n",
       "    </tr>\n",
       "    <tr>\n",
       "      <th>...</th>\n",
       "      <td>...</td>\n",
       "      <td>...</td>\n",
       "      <td>...</td>\n",
       "    </tr>\n",
       "    <tr>\n",
       "      <th>342</th>\n",
       "      <td>Ribeira Brava</td>\n",
       "      <td>3003107</td>\n",
       "      <td>1134.0</td>\n",
       "    </tr>\n",
       "    <tr>\n",
       "      <th>343</th>\n",
       "      <td>Santa Cruz</td>\n",
       "      <td>3003108</td>\n",
       "      <td>3609.0</td>\n",
       "    </tr>\n",
       "    <tr>\n",
       "      <th>344</th>\n",
       "      <td>Santana</td>\n",
       "      <td>3003109</td>\n",
       "      <td>467.0</td>\n",
       "    </tr>\n",
       "    <tr>\n",
       "      <th>345</th>\n",
       "      <td>São Vicente</td>\n",
       "      <td>3003110</td>\n",
       "      <td>319.0</td>\n",
       "    </tr>\n",
       "    <tr>\n",
       "      <th>346</th>\n",
       "      <td>Porto Santo</td>\n",
       "      <td>3003201</td>\n",
       "      <td>361.0</td>\n",
       "    </tr>\n",
       "  </tbody>\n",
       "</table>\n",
       "<p>308 rows × 3 columns</p>\n",
       "</div>"
      ],
      "text/plain": [
       "                 local   codigo  Beneficiarios\n",
       "4    Arcos de Valdevez  1111601         1405.0\n",
       "5              Caminha  1111602         1201.0\n",
       "6              Melgaço  1111603          375.0\n",
       "7               Monção  1111604         1266.0\n",
       "8     Paredes de Coura  1111605          691.0\n",
       "..                 ...      ...            ...\n",
       "342      Ribeira Brava  3003107         1134.0\n",
       "343         Santa Cruz  3003108         3609.0\n",
       "344            Santana  3003109          467.0\n",
       "345        São Vicente  3003110          319.0\n",
       "346        Porto Santo  3003201          361.0\n",
       "\n",
       "[308 rows x 3 columns]"
      ]
     },
     "execution_count": 8,
     "metadata": {},
     "output_type": "execute_result"
    }
   ],
   "source": [
    "df_ben_abono_fam = processar_ficheiro(data_path+'Beneficiários do abono de família para crianças e jovens da segurança social.xls',0)\n",
    "df_ben_abono_fam = carregar_municipios(df_ben_abono_fam)\n",
    "#save_clustered_df_to_csv(df_ben_abono_fam.rename(columns={'Beneficiarios': 'Beneficiários_Abono_Familia'}),\"csv_bruto/\", \"6_Beneficiários_Abono_Familia.csv\")\n",
    "df_ben_abono_fam\n"
   ]
  },
  {
   "cell_type": "code",
   "execution_count": 9,
   "id": "b0191c1f",
   "metadata": {},
   "outputs": [
    {
     "data": {
      "application/vnd.plotly.v1+json": {
       "config": {
        "plotlyServerURL": "https://plot.ly"
       },
       "data": [
        {
         "customdata": [
          [
           "Arcos de Valdevez",
           "1111601",
           1405
          ],
          [
           "Caminha",
           "1111602",
           1201
          ],
          [
           "Melgaço",
           "1111603",
           375
          ],
          [
           "Monção",
           "1111604",
           1266
          ],
          [
           "Paredes de Coura",
           "1111605",
           691
          ],
          [
           "Ponte da Barca",
           "1111606",
           845
          ],
          [
           "Ponte de Lima",
           "1111607",
           3419
          ],
          [
           "Valença",
           "1111608",
           1179
          ],
          [
           "Viana do Castelo",
           "1111609",
           6146
          ],
          [
           "Vila Nova de Cerveira",
           "1111610",
           727
          ],
          [
           "Amares",
           "1120301",
           1603
          ],
          [
           "Barcelos",
           "1120302",
           9323
          ],
          [
           "Braga",
           "1120303",
           13540
          ],
          [
           "Esposende",
           "1120306",
           2836
          ],
          [
           "Terras de Bouro",
           "1120310",
           468
          ],
          [
           "Vila Verde",
           "1120313",
           4145
          ],
          [
           "Cabeceiras de Basto",
           "1190304",
           1479
          ],
          [
           "Fafe",
           "1190307",
           4075
          ],
          [
           "Guimarães",
           "1190308",
           12093
          ],
          [
           "Mondim de Basto",
           "1191705",
           512
          ],
          [
           "Póvoa de Lanhoso",
           "1190309",
           1740
          ],
          [
           "Vieira do Minho",
           "1190311",
           834
          ],
          [
           "Vila Nova de Famalicão",
           "1190312",
           10051
          ],
          [
           "Vizela",
           "1190314",
           2244
          ],
          [
           "Arouca",
           "11A0104",
           1782
          ],
          [
           "Espinho",
           "11A0107",
           2165
          ],
          [
           "Gondomar",
           "11A1304",
           13542
          ],
          [
           "Maia",
           "11A1306",
           9430
          ],
          [
           "Matosinhos",
           "11A1308",
           11639
          ],
          [
           "Oliveira de Azeméis",
           "11A0113",
           4680
          ],
          [
           "Paredes",
           "11A1310",
           8660
          ],
          [
           "Porto",
           "11A1312",
           13622
          ],
          [
           "Póvoa de Varzim",
           "11A1313",
           5577
          ],
          [
           "Santa Maria da Feira",
           "11A0109",
           10804
          ],
          [
           "Santo Tirso",
           "11A1314",
           4743
          ],
          [
           "São João da Madeira",
           "11A0116",
           1723
          ],
          [
           "Trofa",
           "11A1318",
           3062
          ],
          [
           "Vale de Cambra",
           "11A0119",
           1327
          ],
          [
           "Valongo",
           "11A1315",
           8082
          ],
          [
           "Vila do Conde",
           "11A1316",
           6411
          ],
          [
           "Vila Nova de Gaia",
           "11A1317",
           23436
          ],
          [
           "Boticas",
           "11B1702",
           301
          ],
          [
           "Chaves",
           "11B1703",
           2695
          ],
          [
           "Montalegre",
           "11B1706",
           527
          ],
          [
           "Ribeira de Pena",
           "11B1709",
           431
          ],
          [
           "Valpaços",
           "11B1712",
           1018
          ],
          [
           "Vila Pouca de Aguiar",
           "11B1713",
           741
          ],
          [
           "Amarante",
           "11C1301",
           4642
          ],
          [
           "Baião",
           "11C1302",
           1576
          ],
          [
           "Castelo de Paiva",
           "11C0106",
           1411
          ],
          [
           "Celorico de Basto",
           "11C0305",
           1445
          ],
          [
           "Cinfães",
           "11C1804",
           1635
          ],
          [
           "Felgueiras",
           "11C1303",
           5205
          ],
          [
           "Lousada",
           "11C1305",
           5065
          ],
          [
           "Marco de Canaveses",
           "11C1307",
           4867
          ],
          [
           "Paços de Ferreira",
           "11C1309",
           5778
          ],
          [
           "Penafiel",
           "11C1311",
           6787
          ],
          [
           "Resende",
           "11C1813",
           904
          ],
          [
           "Alijó",
           "11D1701",
           739
          ],
          [
           "Armamar",
           "11D1801",
           407
          ],
          [
           "Carrazeda de Ansiães",
           "11D0403",
           392
          ],
          [
           "Freixo de Espada à Cinta",
           "11D0404",
           243
          ],
          [
           "Lamego",
           "11D1805",
           1880
          ],
          [
           "Mesão Frio",
           "11D1704",
           284
          ],
          [
           "Moimenta da Beira",
           "11D1807",
           821
          ],
          [
           "Murça",
           "11D1707",
           368
          ],
          [
           "Penedono",
           "11D1812",
           176
          ],
          [
           "Peso da Régua",
           "11D1708",
           1148
          ],
          [
           "Sabrosa",
           "11D1710",
           408
          ],
          [
           "Santa Marta de Penaguião",
           "11D1711",
           412
          ],
          [
           "São João da Pesqueira",
           "11D1815",
           539
          ],
          [
           "Sernancelhe",
           "11D1818",
           348
          ],
          [
           "Tabuaço",
           "11D1819",
           358
          ],
          [
           "Tarouca",
           "11D1820",
           637
          ],
          [
           "Torre de Moncorvo",
           "11D0409",
           411
          ],
          [
           "Vila Nova de Foz Côa",
           "11D0914",
           374
          ],
          [
           "Vila Real",
           "11D1714",
           3520
          ],
          [
           "Alfândega da Fé",
           "11E0401",
           294
          ],
          [
           "Bragança",
           "11E0402",
           3476
          ],
          [
           "Macedo de Cavaleiros",
           "11E0405",
           1019
          ],
          [
           "Miranda do Douro",
           "11E0406",
           385
          ],
          [
           "Mirandela",
           "11E0407",
           1815
          ],
          [
           "Mogadouro",
           "11E0408",
           533
          ],
          [
           "Vila Flor",
           "11E0410",
           475
          ],
          [
           "Vimioso",
           "11E0411",
           244
          ],
          [
           "Vinhais",
           "11E0412",
           414
          ],
          [
           "Águeda",
           "1910101",
           3558
          ],
          [
           "Albergaria-a-Velha",
           "1910102",
           1888
          ],
          [
           "Anadia",
           "1910103",
           1905
          ],
          [
           "Aveiro",
           "1910105",
           5528
          ],
          [
           "Estarreja",
           "1910108",
           2103
          ],
          [
           "Ílhavo",
           "1910110",
           3035
          ],
          [
           "Murtosa",
           "1910112",
           920
          ],
          [
           "Oliveira do Bairro",
           "1910114",
           2005
          ],
          [
           "Ovar",
           "1910115",
           4076
          ],
          [
           "Sever do Vouga",
           "1910117",
           698
          ],
          [
           "Vagos",
           "1910118",
           1962
          ],
          [
           "Arganil",
           "1920601",
           806
          ],
          [
           "Cantanhede",
           "1920602",
           2202
          ],
          [
           "Coimbra",
           "1920603",
           7991
          ],
          [
           "Condeixa-a-Nova",
           "1920604",
           1069
          ],
          [
           "Figueira da Foz",
           "1920605",
           4073
          ],
          [
           "Góis",
           "1920606",
           232
          ],
          [
           "Lousã",
           "1920607",
           1361
          ],
          [
           "Mealhada",
           "1920111",
           1254
          ],
          [
           "Mira",
           "1920608",
           797
          ],
          [
           "Miranda do Corvo",
           "1920609",
           801
          ],
          [
           "Montemor-o-Velho",
           "1920610",
           1568
          ],
          [
           "Mortágua",
           "1921808",
           580
          ],
          [
           "Oliveira do Hospital",
           "1920611",
           1528
          ],
          [
           "Pampilhosa da Serra",
           "1920612",
           178
          ],
          [
           "Penacova",
           "1920613",
           793
          ],
          [
           "Penela",
           "1920614",
           332
          ],
          [
           "Soure",
           "1920615",
           960
          ],
          [
           "Tábua",
           "1920616",
           910
          ],
          [
           "Vila Nova de Poiares",
           "1920617",
           553
          ],
          [
           "Alvaiázere",
           "1931002",
           398
          ],
          [
           "Ansião",
           "1931003",
           770
          ],
          [
           "Batalha",
           "1931004",
           1200
          ],
          [
           "Castanheira de Pêra",
           "1931007",
           163
          ],
          [
           "Figueiró dos Vinhos",
           "1931008",
           341
          ],
          [
           "Leiria",
           "1931009",
           9370
          ],
          [
           "Marinha Grande",
           "1931010",
           3224
          ],
          [
           "Pedrógão Grande",
           "1931013",
           245
          ],
          [
           "Pombal",
           "1931015",
           3579
          ],
          [
           "Porto de Mós",
           "1931016",
           1765
          ],
          [
           "Aguiar da Beira",
           "1940901",
           287
          ],
          [
           "Carregal do Sal",
           "1941802",
           726
          ],
          [
           "Castro Daire",
           "1941803",
           1069
          ],
          [
           "Mangualde",
           "1941806",
           1419
          ],
          [
           "Nelas",
           "1941809",
           921
          ],
          [
           "Oliveira de Frades",
           "1941810",
           771
          ],
          [
           "Penalva do Castelo",
           "1941811",
           495
          ],
          [
           "Santa Comba Dão",
           "1941814",
           760
          ],
          [
           "São Pedro do Sul",
           "1941816",
           1142
          ],
          [
           "Sátão",
           "1941817",
           814
          ],
          [
           "Tondela",
           "1941821",
           1741
          ],
          [
           "Vila Nova de Paiva",
           "1941822",
           299
          ],
          [
           "Viseu",
           "1941823",
           7801
          ],
          [
           "Vouzela",
           "1941824",
           688
          ],
          [
           "Castelo Branco",
           "1950502",
           4045
          ],
          [
           "Idanha-a-Nova",
           "1950505",
           558
          ],
          [
           "Oleiros",
           "1950506",
           189
          ],
          [
           "Penamacor",
           "1950507",
           242
          ],
          [
           "Proença-a-Nova",
           "1950508",
           389
          ],
          [
           "Sertã",
           "1950509",
           1130
          ],
          [
           "Vila de Rei",
           "1950510",
           239
          ],
          [
           "Vila Velha de Ródão",
           "1950511",
           227
          ],
          [
           "Almeida",
           "1960902",
           266
          ],
          [
           "Belmonte",
           "1960501",
           463
          ],
          [
           "Celorico da Beira",
           "1960903",
           446
          ],
          [
           "Covilhã",
           "1960503",
           3492
          ],
          [
           "Figueira de Castelo Rodrigo",
           "1960904",
           367
          ],
          [
           "Fornos de Algodres",
           "1960905",
           290
          ],
          [
           "Fundão",
           "1960504",
           1946
          ],
          [
           "Gouveia",
           "1960906",
           775
          ],
          [
           "Guarda",
           "1960907",
           2692
          ],
          [
           "Manteigas",
           "1960908",
           189
          ],
          [
           "Mêda",
           "1960909",
           301
          ],
          [
           "Pinhel",
           "1960910",
           501
          ],
          [
           "Sabugal",
           "1960911",
           569
          ],
          [
           "Seia",
           "1960912",
           1438
          ],
          [
           "Trancoso",
           "1960913",
           540
          ],
          [
           "Alcobaça",
           "1D11001",
           4296
          ],
          [
           "Alenquer",
           "1D11101",
           4107
          ],
          [
           "Arruda dos Vinhos",
           "1D11102",
           1093
          ],
          [
           "Bombarral",
           "1D11005",
           1061
          ],
          [
           "Cadaval",
           "1D11104",
           1013
          ],
          [
           "Caldas da Rainha",
           "1D11006",
           4104
          ],
          [
           "Lourinhã",
           "1D11108",
           2446
          ],
          [
           "Nazaré",
           "1D11011",
           1245
          ],
          [
           "Óbidos",
           "1D11012",
           917
          ],
          [
           "Peniche",
           "1D11014",
           2360
          ],
          [
           "Sobral de Monte Agraço",
           "1D11112",
           942
          ],
          [
           "Torres Vedras",
           "1D11113",
           6916
          ],
          [
           "Abrantes",
           "1D21401",
           2507
          ],
          [
           "Alcanena",
           "1D21402",
           1042
          ],
          [
           "Constância",
           "1D21408",
           294
          ],
          [
           "Entroncamento",
           "1D21410",
           1940
          ],
          [
           "Ferreira do Zêzere",
           "1D21411",
           589
          ],
          [
           "Mação",
           "1D21413",
           345
          ],
          [
           "Ourém",
           "1D21421",
           3650
          ],
          [
           "Sardoal",
           "1D21417",
           239
          ],
          [
           "Tomar",
           "1D21418",
           2581
          ],
          [
           "Torres Novas",
           "1D21419",
           2581
          ],
          [
           "Vila Nova da Barquinha",
           "1D21420",
           530
          ],
          [
           "Almeirim",
           "1D31403",
           2094
          ],
          [
           "Alpiarça",
           "1D31404",
           637
          ],
          [
           "Azambuja",
           "1D31103",
           1825
          ],
          [
           "Benavente",
           "1D31405",
           2943
          ],
          [
           "Cartaxo",
           "1D31406",
           1947
          ],
          [
           "Chamusca",
           "1D31407",
           685
          ],
          [
           "Coruche",
           "1D31409",
           1216
          ],
          [
           "Golegã",
           "1D31412",
           435
          ],
          [
           "Rio Maior",
           "1D31414",
           2063
          ],
          [
           "Salvaterra de Magos",
           "1D31415",
           1917
          ],
          [
           "Santarém",
           "1D31416",
           4818
          ],
          [
           "Amadora",
           "1A01115",
           15693
          ],
          [
           "Cascais",
           "1A01105",
           13789
          ],
          [
           "Lisboa",
           "1A01106",
           30188
          ],
          [
           "Loures",
           "1A01107",
           17582
          ],
          [
           "Mafra",
           "1A01109",
           6954
          ],
          [
           "Odivelas",
           "1A01116",
           12681
          ],
          [
           "Oeiras",
           "1A01110",
           9212
          ],
          [
           "Sintra",
           "1A01111",
           36780
          ],
          [
           "Vila Franca de Xira",
           "1A01114",
           11446
          ],
          [
           "Alcochete",
           "1B01502",
           1243
          ],
          [
           "Almada",
           "1B01503",
           14146
          ],
          [
           "Barreiro",
           "1B01504",
           6667
          ],
          [
           "Moita",
           "1B01506",
           6917
          ],
          [
           "Montijo",
           "1B01507",
           4960
          ],
          [
           "Palmela",
           "1B01508",
           5476
          ],
          [
           "Seixal",
           "1B01510",
           14624
          ],
          [
           "Sesimbra",
           "1B01511",
           4699
          ],
          [
           "Setúbal",
           "1B01512",
           10481
          ],
          [
           "Alcácer do Sal",
           "1C11501",
           805
          ],
          [
           "Grândola",
           "1C11505",
           1136
          ],
          [
           "Odemira",
           "1C10211",
           2314
          ],
          [
           "Santiago do Cacém",
           "1C11509",
           1849
          ],
          [
           "Sines",
           "1C11513",
           1154
          ],
          [
           "Aljustrel",
           "1C20201",
           592
          ],
          [
           "Almodôvar",
           "1C20202",
           356
          ],
          [
           "Alvito",
           "1C20203",
           204
          ],
          [
           "Barrancos",
           "1C20204",
           127
          ],
          [
           "Beja",
           "1C20205",
           2821
          ],
          [
           "Castro Verde",
           "1C20206",
           375
          ],
          [
           "Cuba",
           "1C20207",
           353
          ],
          [
           "Ferreira do Alentejo",
           "1C20208",
           602
          ],
          [
           "Mértola",
           "1C20209",
           362
          ],
          [
           "Moura",
           "1C20210",
           1335
          ],
          [
           "Ourique",
           "1C20212",
           323
          ],
          [
           "Serpa",
           "1C20213",
           1151
          ],
          [
           "Vidigueira",
           "1C20214",
           482
          ],
          [
           "Alter do Chão",
           "1C31201",
           278
          ],
          [
           "Arronches",
           "1C31202",
           202
          ],
          [
           "Avis",
           "1C31203",
           309
          ],
          [
           "Campo Maior",
           "1C31204",
           840
          ],
          [
           "Castelo de Vide",
           "1C31205",
           202
          ],
          [
           "Crato",
           "1C31206",
           243
          ],
          [
           "Elvas",
           "1C31207",
           2110
          ],
          [
           "Fronteira",
           "1C31208",
           234
          ],
          [
           "Gavião",
           "1C31209",
           219
          ],
          [
           "Marvão",
           "1C31210",
           193
          ],
          [
           "Monforte",
           "1C31211",
           269
          ],
          [
           "Nisa",
           "1C31212",
           351
          ],
          [
           "Ponte de Sor",
           "1C31213",
           1356
          ],
          [
           "Portalegre",
           "1C31214",
           1927
          ],
          [
           "Sousel",
           "1C31215",
           347
          ],
          [
           "Alandroal",
           "1C40701",
           356
          ],
          [
           "Arraiolos",
           "1C40702",
           493
          ],
          [
           "Borba",
           "1C40703",
           527
          ],
          [
           "Estremoz",
           "1C40704",
           971
          ],
          [
           "Évora",
           "1C40705",
           4207
          ],
          [
           "Montemor-o-Novo",
           "1C40706",
           1164
          ],
          [
           "Mora",
           "1C40707",
           276
          ],
          [
           "Mourão",
           "1C40708",
           226
          ],
          [
           "Portel",
           "1C40709",
           476
          ],
          [
           "Redondo",
           "1C40710",
           572
          ],
          [
           "Reguengos de Monsaraz",
           "1C40711",
           874
          ],
          [
           "Vendas Novas",
           "1C40712",
           889
          ],
          [
           "Viana do Alentejo",
           "1C40713",
           471
          ],
          [
           "Vila Viçosa",
           "1C40714",
           566
          ],
          [
           "Albufeira",
           "1500801",
           5031
          ],
          [
           "Alcoutim",
           "1500802",
           128
          ],
          [
           "Aljezur",
           "1500803",
           539
          ],
          [
           "Castro Marim",
           "1500804",
           524
          ],
          [
           "Faro",
           "1500805",
           5768
          ],
          [
           "Lagoa",
           "1500806",
           2323
          ],
          [
           "Lagos",
           "1500807",
           3003
          ],
          [
           "Loulé",
           "1500808",
           7149
          ],
          [
           "Monchique",
           "1500809",
           384
          ],
          [
           "Olhão",
           "1500810",
           4475
          ],
          [
           "Portimão",
           "1500811",
           6468
          ],
          [
           "São Brás de Alportel",
           "1500812",
           955
          ],
          [
           "Silves",
           "1500813",
           3794
          ],
          [
           "Tavira",
           "1500814",
           2241
          ],
          [
           "Vila do Bispo",
           "1500815",
           474
          ],
          [
           "Vila Real de Santo António",
           "1500816",
           1935
          ],
          [
           "Angra do Heroísmo",
           "2004301",
           2700
          ],
          [
           "Calheta (R.A.A.)",
           "2004501",
           265
          ],
          [
           "Corvo",
           "2004901",
           26
          ],
          [
           "Horta",
           "2004701",
           1062
          ],
          [
           "Lagoa (R.A.A.)",
           "2004201",
           1621
          ],
          [
           "Lajes das Flores",
           "2004801",
           91
          ],
          [
           "Lajes do Pico",
           "2004601",
           340
          ],
          [
           "Madalena",
           "2004602",
           538
          ],
          [
           "Nordeste",
           "2004202",
           444
          ],
          [
           "Ponta Delgada",
           "2004203",
           6014
          ],
          [
           "Povoação",
           "2004204",
           569
          ],
          [
           "Ribeira Grande",
           "2004205",
           4099
          ],
          [
           "Santa Cruz da Graciosa",
           "2004401",
           336
          ],
          [
           "Santa Cruz das Flores",
           "2004802",
           140
          ],
          [
           "São Roque do Pico",
           "2004603",
           261
          ],
          [
           "Velas",
           "2004502",
           393
          ],
          [
           "Vila da Praia da Vitória",
           "2004302",
           1492
          ],
          [
           "Vila do Porto",
           "2004101",
           462
          ],
          [
           "Vila Franca do Campo",
           "2004206",
           1113
          ],
          [
           "Calheta (R.A.M.)",
           "3003101",
           822
          ],
          [
           "Câmara de Lobos",
           "3003102",
           3344
          ],
          [
           "Funchal",
           "3003103",
           7079
          ],
          [
           "Machico",
           "3003104",
           1514
          ],
          [
           "Ponta do Sol",
           "3003105",
           730
          ],
          [
           "Porto Moniz",
           "3003106",
           167
          ],
          [
           "Ribeira Brava",
           "3003107",
           1134
          ],
          [
           "Santa Cruz",
           "3003108",
           3609
          ],
          [
           "Santana",
           "3003109",
           467
          ],
          [
           "São Vicente",
           "3003110",
           319
          ],
          [
           "Porto Santo",
           "3003201",
           361
          ]
         ],
         "hovertemplate": "valor=%{x}<br>y=%{y}<br>local=%{customdata[0]}<br>codigo=%{customdata[1]}<br>Beneficiarios=%{customdata[2]}<br>beneficiarios_abono_familia=%{marker.color}<extra></extra>",
         "legendgroup": "",
         "marker": {
          "color": [
           0,
           0,
           0,
           0,
           0,
           0,
           0,
           0,
           1,
           0,
           0,
           1,
           1,
           0,
           0,
           0,
           0,
           0,
           1,
           0,
           0,
           0,
           1,
           0,
           0,
           0,
           1,
           1,
           1,
           0,
           1,
           1,
           1,
           1,
           0,
           0,
           0,
           0,
           1,
           1,
           2,
           0,
           0,
           0,
           0,
           0,
           0,
           0,
           0,
           0,
           0,
           0,
           0,
           0,
           0,
           1,
           1,
           0,
           0,
           0,
           0,
           0,
           0,
           0,
           0,
           0,
           0,
           0,
           0,
           0,
           0,
           0,
           0,
           0,
           0,
           0,
           0,
           0,
           0,
           0,
           0,
           0,
           0,
           0,
           0,
           0,
           0,
           0,
           0,
           1,
           0,
           0,
           0,
           0,
           0,
           0,
           0,
           0,
           0,
           1,
           0,
           0,
           0,
           0,
           0,
           0,
           0,
           0,
           0,
           0,
           0,
           0,
           0,
           0,
           0,
           0,
           0,
           0,
           0,
           0,
           0,
           1,
           0,
           0,
           0,
           0,
           0,
           0,
           0,
           0,
           0,
           0,
           0,
           0,
           0,
           0,
           0,
           0,
           1,
           0,
           0,
           0,
           0,
           0,
           0,
           0,
           0,
           0,
           0,
           0,
           0,
           0,
           0,
           0,
           0,
           0,
           0,
           0,
           0,
           0,
           0,
           0,
           0,
           0,
           0,
           0,
           0,
           0,
           0,
           0,
           0,
           0,
           0,
           0,
           1,
           0,
           0,
           0,
           0,
           0,
           0,
           0,
           0,
           0,
           0,
           0,
           0,
           0,
           0,
           0,
           0,
           0,
           0,
           0,
           0,
           0,
           0,
           1,
           1,
           2,
           1,
           1,
           1,
           1,
           2,
           1,
           0,
           1,
           1,
           1,
           0,
           1,
           1,
           0,
           1,
           0,
           0,
           0,
           0,
           0,
           0,
           0,
           0,
           0,
           0,
           0,
           0,
           0,
           0,
           0,
           0,
           0,
           0,
           0,
           0,
           0,
           0,
           0,
           0,
           0,
           0,
           0,
           0,
           0,
           0,
           0,
           0,
           0,
           0,
           0,
           0,
           0,
           0,
           0,
           0,
           0,
           0,
           0,
           0,
           0,
           0,
           0,
           0,
           0,
           0,
           0,
           1,
           0,
           0,
           1,
           0,
           0,
           1,
           0,
           0,
           0,
           0,
           0,
           0,
           0,
           0,
           0,
           0,
           0,
           0,
           0,
           0,
           1,
           0,
           0,
           0,
           0,
           0,
           0,
           0,
           0,
           0,
           0,
           0,
           1,
           0,
           0,
           0,
           0,
           0,
           0,
           0,
           0
          ],
          "coloraxis": "coloraxis",
          "size": 10,
          "symbol": "circle"
         },
         "mode": "markers",
         "name": "",
         "orientation": "v",
         "showlegend": false,
         "type": "scatter",
         "x": [
          -0.2928877041565599,
          -0.3413994064746679,
          -0.5378242403705362,
          -0.32594224642232955,
          -0.4626786622699377,
          -0.4260570830690131,
          0.18604645500358405,
          -0.3466310606462285,
          0.8345337698147621,
          -0.4541177736255657,
          -0.245802816612514,
          1.59003219268059,
          2.592845176383831,
          0.047407619457226574,
          -0.5157086113725753,
          0.3586910426650858,
          -0.27529032194312864,
          0.34204487030102915,
          2.2487450133725457,
          -0.5052453030294539,
          -0.21322387927143172,
          -0.4286729101547934,
          1.7631523852667792,
          -0.09337143825022388,
          -0.20323617585299772,
          -0.11215783277537353,
          2.593320781308518,
          1.6154770561513623,
          2.140782695468521,
          0.48591536001894725,
          1.4323691601467394,
          2.6123449782960115,
          0.699224168741216,
          1.94221763941156,
          0.5008969151465983,
          -0.21726652113127404,
          0.10115097594689516,
          -0.3114362962193659,
          1.2949193369121001,
          0.8975514223358336,
          4.946138343736752,
          -0.5554216225839675,
          0.013877472266769624,
          -0.501678266094299,
          -0.5245073024792909,
          -0.3849172570835588,
          -0.45078853915275435,
          0.476878866449888,
          -0.252223483095793,
          -0.2914608893824979,
          -0.2833756056628133,
          -0.23819313781751666,
          0.6107616527493721,
          0.5774693080212588,
          0.5303844204772129,
          0.7470224636722929,
          0.9869651481770523,
          -0.41202673779073673,
          -0.4512641440774417,
          -0.5302145615755389,
          -0.533781598510694,
          -0.5692141653999002,
          -0.17993153454331842,
          -0.5594642644438099,
          -0.43176434216526105,
          -0.5394888576069419,
          -0.5851469303769258,
          -0.3540029369788822,
          -0.5299767591131952,
          -0.5290255492638206,
          -0.498824636546175,
          -0.5442449068538152,
          -0.5418668822303786,
          -0.4755199952364957,
          -0.5292633517261642,
          -0.53806204283288,
          0.21006450370029434,
          -0.5570862398203732,
          0.19960119535717302,
          -0.3846794546212151,
          -0.5354462157470996,
          -0.19538869459565675,
          -0.500251451320237,
          -0.5140439941361696,
          -0.5689763629375565,
          -0.5285499443391333,
          0.21910099726935367,
          -0.1780291148445691,
          -0.17398647298472678,
          0.6875718480863763,
          -0.12690158544068084,
          0.09473030946361617,
          -0.4082218983932381,
          -0.15020622675036013,
          0.3422826727633728,
          -0.461014045033532,
          -0.16043173263113777,
          -0.435331379100416,
          -0.10335914166865787,
          1.2732793128388264,
          -0.3727893315040318,
          0.3415692653763418,
          -0.5718299924856806,
          -0.30335101249968127,
          -0.32879587597045357,
          -0.437471601261509,
          -0.4365203914121344,
          -0.25412590279454234,
          -0.48907473559008463,
          -0.26363800128828896,
          -0.5846713254522385,
          -0.4384228111108837,
          -0.5480497462513139,
          -0.39870979989949146,
          -0.41059992301667475,
          -0.4954954020733636,
          -0.5323547837366319,
          -0.443892267744788,
          -0.3416372089370115,
          -0.5882383623873935,
          -0.5459095240902209,
          1.6012089084107424,
          0.1396749748465691,
          -0.5687385604752129,
          0.22409484897857065,
          -0.20727881771284004,
          -0.5587508570567788,
          -0.45435557608790933,
          -0.3727893315040318,
          -0.2895584696837486,
          -0.4079840959308944,
          -0.4436544652824444,
          -0.5092879448892963,
          -0.4462702923682247,
          -0.35542975175294417,
          -0.4334289594016667,
          -0.21298607680908804,
          -0.5558972275086549,
          1.22809684499353,
          -0.46339206965696866,
          0.33491079643071914,
          -0.4943063897616453,
          -0.5820554983664582,
          -0.5694519678622438,
          -0.5344950058977249,
          -0.3582833813010682,
          -0.5701653752492749,
          -0.5730190047973989,
          -0.5637447087659959,
          -0.5168976236842936,
          -0.520940265544136,
          0.20340603475467167,
          -0.5397266600692856,
          -0.5580374496697479,
          -0.16423657202863645,
          -0.4427032554330697,
          0.013164064879738625,
          -0.5820554983664582,
          -0.5554216225839675,
          -0.5078611301152343,
          -0.491690562675865,
          -0.28504022289921893,
          -0.4985868340838313,
          0.3945992144789794,
          0.34965454909602645,
          -0.36708207240778384,
          -0.37469175120278114,
          -0.38610626939527715,
          0.3489411417089955,
          -0.04533534085680329,
          -0.33093609813154656,
          -0.4089353057802691,
          -0.06578635261835859,
          -0.40299024422167745,
          1.0176416658193852,
          -0.030829390653839644,
          -0.3792099979873108,
          -0.5570862398203732,
          -0.16566338680269846,
          -0.48693451342899163,
          -0.5449583142408462,
          0.24097882380497096,
          -0.5701653752492749,
          -0.013232008440408336,
          -0.013232008440408336,
          -0.5009648587072679,
          -0.12904180760177383,
          -0.4755199952364957,
          -0.19301066997222008,
          0.07285248292799887,
          -0.16399876956629278,
          -0.4641054770439997,
          -0.33783236953951284,
          -0.5235560926299162,
          -0.1364136839344275,
          -0.17113284343660276,
          0.5187320998223732,
          3.1048338778097446,
          2.6520579895074037,
          6.5517805694811875,
          3.5540427291769303,
          1.0266781593884446,
          2.3885728612306214,
          1.563636119360443,
          8.119374401250637,
          2.094886820236194,
          -0.33141170305623385,
          2.7369534685640926,
          0.9584288526958122,
          1.017879468281729,
          0.5525000494751738,
          0.6752061200445056,
          2.8506230455643653,
          0.4904336068034769,
          1.8654074440745556,
          -0.4355691815627597,
          -0.35685656652700615,
          -0.07672526588616724,
          -0.18730341087597208,
          -0.35257612220482015,
          -0.4862211060419606,
          -0.5423424871550659,
          -0.5784884614313032,
          -0.5967992510317655,
          0.043840582522071576,
          -0.5378242403705362,
          -0.5430558945420969,
          -0.483843081418524,
          -0.5409156723810039,
          -0.3095338765206166,
          -0.5501899684124069,
          -0.35328952959185117,
          -0.512379376899764,
          -0.5608910792178718,
          -0.5789640663559905,
          -0.5535192028852182,
          -0.4272460953807314,
          -0.5789640663559905,
          -0.5692141653999002,
          -0.12523696820427518,
          -0.5713543875609932,
          -0.5749214244961481,
          -0.5811042885170835,
          -0.5630313013789648,
          -0.5435314994667843,
          -0.3045400248113996,
          -0.16875481881316612,
          -0.5444827093161589,
          -0.5423424871550659,
          -0.5097635498139836,
          -0.501678266094299,
          -0.3960939728137111,
          0.3734347953303931,
          -0.3501980975813835,
          -0.5613666841425592,
          -0.5732568072597425,
          -0.5138061916738259,
          -0.49097715528883396,
          -0.41916081166104674,
          -0.41559377472589176,
          -0.5149952039855442,
          -0.492403970062896,
          0.5693840243015741,
          -0.5965614485694218,
          -0.498824636546175,
          -0.50239167348133,
          0.7446444390488562,
          -0.07458504372507424,
          0.08712063066861885,
          1.0730496395454596,
          -0.5356840182094432,
          0.43716585523849566,
          0.9111061626894227,
          -0.39989881221120976,
          0.2752223783824589,
          -0.09408484563725489,
          -0.5142817965985133,
          -0.16685239911441677,
          0.015066484578487955,
          -0.5639825112283395,
          -0.6208172997284758,
          -0.37445394874043747,
          -0.241522372290328,
          -0.6053601396761374,
          -0.5461473265525646,
          -0.4990624390085186,
          -0.5214158704688232,
          0.8031438447853981,
          -0.491690562675865,
          0.3477521293972771,
          -0.5470985364019392,
          -0.5937078190212978,
          -0.5649337210777142,
          -0.5335437960483502,
          -0.27219888993266095,
          -0.5171354261466372,
          -0.3623260231609105,
          -0.4315265397029174,
          0.16821127032780905,
          1.0564034671814029,
          -0.2669672357611003,
          -0.4534043662385347,
          -0.5872871525380188,
          -0.3573321714516935,
          0.23122892284888064,
          -0.5159464138349189,
          -0.5511411782617816,
          -0.5411534748433475
         ],
         "xaxis": "x",
         "y": [
          0,
          0,
          0,
          0,
          0,
          0,
          0,
          0,
          0,
          0,
          0,
          0,
          0,
          0,
          0,
          0,
          0,
          0,
          0,
          0,
          0,
          0,
          0,
          0,
          0,
          0,
          0,
          0,
          0,
          0,
          0,
          0,
          0,
          0,
          0,
          0,
          0,
          0,
          0,
          0,
          0,
          0,
          0,
          0,
          0,
          0,
          0,
          0,
          0,
          0,
          0,
          0,
          0,
          0,
          0,
          0,
          0,
          0,
          0,
          0,
          0,
          0,
          0,
          0,
          0,
          0,
          0,
          0,
          0,
          0,
          0,
          0,
          0,
          0,
          0,
          0,
          0,
          0,
          0,
          0,
          0,
          0,
          0,
          0,
          0,
          0,
          0,
          0,
          0,
          0,
          0,
          0,
          0,
          0,
          0,
          0,
          0,
          0,
          0,
          0,
          0,
          0,
          0,
          0,
          0,
          0,
          0,
          0,
          0,
          0,
          0,
          0,
          0,
          0,
          0,
          0,
          0,
          0,
          0,
          0,
          0,
          0,
          0,
          0,
          0,
          0,
          0,
          0,
          0,
          0,
          0,
          0,
          0,
          0,
          0,
          0,
          0,
          0,
          0,
          0,
          0,
          0,
          0,
          0,
          0,
          0,
          0,
          0,
          0,
          0,
          0,
          0,
          0,
          0,
          0,
          0,
          0,
          0,
          0,
          0,
          0,
          0,
          0,
          0,
          0,
          0,
          0,
          0,
          0,
          0,
          0,
          0,
          0,
          0,
          0,
          0,
          0,
          0,
          0,
          0,
          0,
          0,
          0,
          0,
          0,
          0,
          0,
          0,
          0,
          0,
          0,
          0,
          0,
          0,
          0,
          0,
          0,
          0,
          0,
          0,
          0,
          0,
          0,
          0,
          0,
          0,
          0,
          0,
          0,
          0,
          0,
          0,
          0,
          0,
          0,
          0,
          0,
          0,
          0,
          0,
          0,
          0,
          0,
          0,
          0,
          0,
          0,
          0,
          0,
          0,
          0,
          0,
          0,
          0,
          0,
          0,
          0,
          0,
          0,
          0,
          0,
          0,
          0,
          0,
          0,
          0,
          0,
          0,
          0,
          0,
          0,
          0,
          0,
          0,
          0,
          0,
          0,
          0,
          0,
          0,
          0,
          0,
          0,
          0,
          0,
          0,
          0,
          0,
          0,
          0,
          0,
          0,
          0,
          0,
          0,
          0,
          0,
          0,
          0,
          0,
          0,
          0,
          0,
          0,
          0,
          0,
          0,
          0,
          0,
          0,
          0,
          0,
          0,
          0,
          0,
          0,
          0,
          0,
          0,
          0,
          0,
          0,
          0,
          0,
          0,
          0,
          0,
          0
         ],
         "yaxis": "y"
        }
       ],
       "layout": {
        "coloraxis": {
         "colorbar": {
          "title": {
           "text": "beneficiarios_abono_familia"
          }
         },
         "colorscale": [
          [
           0,
           "#440154"
          ],
          [
           0.1111111111111111,
           "#482878"
          ],
          [
           0.2222222222222222,
           "#3e4989"
          ],
          [
           0.3333333333333333,
           "#31688e"
          ],
          [
           0.4444444444444444,
           "#26828e"
          ],
          [
           0.5555555555555556,
           "#1f9e89"
          ],
          [
           0.6666666666666666,
           "#35b779"
          ],
          [
           0.7777777777777778,
           "#6ece58"
          ],
          [
           0.8888888888888888,
           "#b5de2b"
          ],
          [
           1,
           "#fde725"
          ]
         ]
        },
        "height": 300,
        "legend": {
         "tracegroupgap": 0
        },
        "margin": {
         "t": 60
        },
        "template": {
         "data": {
          "bar": [
           {
            "error_x": {
             "color": "#2a3f5f"
            },
            "error_y": {
             "color": "#2a3f5f"
            },
            "marker": {
             "line": {
              "color": "#E5ECF6",
              "width": 0.5
             },
             "pattern": {
              "fillmode": "overlay",
              "size": 10,
              "solidity": 0.2
             }
            },
            "type": "bar"
           }
          ],
          "barpolar": [
           {
            "marker": {
             "line": {
              "color": "#E5ECF6",
              "width": 0.5
             },
             "pattern": {
              "fillmode": "overlay",
              "size": 10,
              "solidity": 0.2
             }
            },
            "type": "barpolar"
           }
          ],
          "carpet": [
           {
            "aaxis": {
             "endlinecolor": "#2a3f5f",
             "gridcolor": "white",
             "linecolor": "white",
             "minorgridcolor": "white",
             "startlinecolor": "#2a3f5f"
            },
            "baxis": {
             "endlinecolor": "#2a3f5f",
             "gridcolor": "white",
             "linecolor": "white",
             "minorgridcolor": "white",
             "startlinecolor": "#2a3f5f"
            },
            "type": "carpet"
           }
          ],
          "choropleth": [
           {
            "colorbar": {
             "outlinewidth": 0,
             "ticks": ""
            },
            "type": "choropleth"
           }
          ],
          "contour": [
           {
            "colorbar": {
             "outlinewidth": 0,
             "ticks": ""
            },
            "colorscale": [
             [
              0,
              "#0d0887"
             ],
             [
              0.1111111111111111,
              "#46039f"
             ],
             [
              0.2222222222222222,
              "#7201a8"
             ],
             [
              0.3333333333333333,
              "#9c179e"
             ],
             [
              0.4444444444444444,
              "#bd3786"
             ],
             [
              0.5555555555555556,
              "#d8576b"
             ],
             [
              0.6666666666666666,
              "#ed7953"
             ],
             [
              0.7777777777777778,
              "#fb9f3a"
             ],
             [
              0.8888888888888888,
              "#fdca26"
             ],
             [
              1,
              "#f0f921"
             ]
            ],
            "type": "contour"
           }
          ],
          "contourcarpet": [
           {
            "colorbar": {
             "outlinewidth": 0,
             "ticks": ""
            },
            "type": "contourcarpet"
           }
          ],
          "heatmap": [
           {
            "colorbar": {
             "outlinewidth": 0,
             "ticks": ""
            },
            "colorscale": [
             [
              0,
              "#0d0887"
             ],
             [
              0.1111111111111111,
              "#46039f"
             ],
             [
              0.2222222222222222,
              "#7201a8"
             ],
             [
              0.3333333333333333,
              "#9c179e"
             ],
             [
              0.4444444444444444,
              "#bd3786"
             ],
             [
              0.5555555555555556,
              "#d8576b"
             ],
             [
              0.6666666666666666,
              "#ed7953"
             ],
             [
              0.7777777777777778,
              "#fb9f3a"
             ],
             [
              0.8888888888888888,
              "#fdca26"
             ],
             [
              1,
              "#f0f921"
             ]
            ],
            "type": "heatmap"
           }
          ],
          "heatmapgl": [
           {
            "colorbar": {
             "outlinewidth": 0,
             "ticks": ""
            },
            "colorscale": [
             [
              0,
              "#0d0887"
             ],
             [
              0.1111111111111111,
              "#46039f"
             ],
             [
              0.2222222222222222,
              "#7201a8"
             ],
             [
              0.3333333333333333,
              "#9c179e"
             ],
             [
              0.4444444444444444,
              "#bd3786"
             ],
             [
              0.5555555555555556,
              "#d8576b"
             ],
             [
              0.6666666666666666,
              "#ed7953"
             ],
             [
              0.7777777777777778,
              "#fb9f3a"
             ],
             [
              0.8888888888888888,
              "#fdca26"
             ],
             [
              1,
              "#f0f921"
             ]
            ],
            "type": "heatmapgl"
           }
          ],
          "histogram": [
           {
            "marker": {
             "pattern": {
              "fillmode": "overlay",
              "size": 10,
              "solidity": 0.2
             }
            },
            "type": "histogram"
           }
          ],
          "histogram2d": [
           {
            "colorbar": {
             "outlinewidth": 0,
             "ticks": ""
            },
            "colorscale": [
             [
              0,
              "#0d0887"
             ],
             [
              0.1111111111111111,
              "#46039f"
             ],
             [
              0.2222222222222222,
              "#7201a8"
             ],
             [
              0.3333333333333333,
              "#9c179e"
             ],
             [
              0.4444444444444444,
              "#bd3786"
             ],
             [
              0.5555555555555556,
              "#d8576b"
             ],
             [
              0.6666666666666666,
              "#ed7953"
             ],
             [
              0.7777777777777778,
              "#fb9f3a"
             ],
             [
              0.8888888888888888,
              "#fdca26"
             ],
             [
              1,
              "#f0f921"
             ]
            ],
            "type": "histogram2d"
           }
          ],
          "histogram2dcontour": [
           {
            "colorbar": {
             "outlinewidth": 0,
             "ticks": ""
            },
            "colorscale": [
             [
              0,
              "#0d0887"
             ],
             [
              0.1111111111111111,
              "#46039f"
             ],
             [
              0.2222222222222222,
              "#7201a8"
             ],
             [
              0.3333333333333333,
              "#9c179e"
             ],
             [
              0.4444444444444444,
              "#bd3786"
             ],
             [
              0.5555555555555556,
              "#d8576b"
             ],
             [
              0.6666666666666666,
              "#ed7953"
             ],
             [
              0.7777777777777778,
              "#fb9f3a"
             ],
             [
              0.8888888888888888,
              "#fdca26"
             ],
             [
              1,
              "#f0f921"
             ]
            ],
            "type": "histogram2dcontour"
           }
          ],
          "mesh3d": [
           {
            "colorbar": {
             "outlinewidth": 0,
             "ticks": ""
            },
            "type": "mesh3d"
           }
          ],
          "parcoords": [
           {
            "line": {
             "colorbar": {
              "outlinewidth": 0,
              "ticks": ""
             }
            },
            "type": "parcoords"
           }
          ],
          "pie": [
           {
            "automargin": true,
            "type": "pie"
           }
          ],
          "scatter": [
           {
            "fillpattern": {
             "fillmode": "overlay",
             "size": 10,
             "solidity": 0.2
            },
            "type": "scatter"
           }
          ],
          "scatter3d": [
           {
            "line": {
             "colorbar": {
              "outlinewidth": 0,
              "ticks": ""
             }
            },
            "marker": {
             "colorbar": {
              "outlinewidth": 0,
              "ticks": ""
             }
            },
            "type": "scatter3d"
           }
          ],
          "scattercarpet": [
           {
            "marker": {
             "colorbar": {
              "outlinewidth": 0,
              "ticks": ""
             }
            },
            "type": "scattercarpet"
           }
          ],
          "scattergeo": [
           {
            "marker": {
             "colorbar": {
              "outlinewidth": 0,
              "ticks": ""
             }
            },
            "type": "scattergeo"
           }
          ],
          "scattergl": [
           {
            "marker": {
             "colorbar": {
              "outlinewidth": 0,
              "ticks": ""
             }
            },
            "type": "scattergl"
           }
          ],
          "scattermapbox": [
           {
            "marker": {
             "colorbar": {
              "outlinewidth": 0,
              "ticks": ""
             }
            },
            "type": "scattermapbox"
           }
          ],
          "scatterpolar": [
           {
            "marker": {
             "colorbar": {
              "outlinewidth": 0,
              "ticks": ""
             }
            },
            "type": "scatterpolar"
           }
          ],
          "scatterpolargl": [
           {
            "marker": {
             "colorbar": {
              "outlinewidth": 0,
              "ticks": ""
             }
            },
            "type": "scatterpolargl"
           }
          ],
          "scatterternary": [
           {
            "marker": {
             "colorbar": {
              "outlinewidth": 0,
              "ticks": ""
             }
            },
            "type": "scatterternary"
           }
          ],
          "surface": [
           {
            "colorbar": {
             "outlinewidth": 0,
             "ticks": ""
            },
            "colorscale": [
             [
              0,
              "#0d0887"
             ],
             [
              0.1111111111111111,
              "#46039f"
             ],
             [
              0.2222222222222222,
              "#7201a8"
             ],
             [
              0.3333333333333333,
              "#9c179e"
             ],
             [
              0.4444444444444444,
              "#bd3786"
             ],
             [
              0.5555555555555556,
              "#d8576b"
             ],
             [
              0.6666666666666666,
              "#ed7953"
             ],
             [
              0.7777777777777778,
              "#fb9f3a"
             ],
             [
              0.8888888888888888,
              "#fdca26"
             ],
             [
              1,
              "#f0f921"
             ]
            ],
            "type": "surface"
           }
          ],
          "table": [
           {
            "cells": {
             "fill": {
              "color": "#EBF0F8"
             },
             "line": {
              "color": "white"
             }
            },
            "header": {
             "fill": {
              "color": "#C8D4E3"
             },
             "line": {
              "color": "white"
             }
            },
            "type": "table"
           }
          ]
         },
         "layout": {
          "annotationdefaults": {
           "arrowcolor": "#2a3f5f",
           "arrowhead": 0,
           "arrowwidth": 1
          },
          "autotypenumbers": "strict",
          "coloraxis": {
           "colorbar": {
            "outlinewidth": 0,
            "ticks": ""
           }
          },
          "colorscale": {
           "diverging": [
            [
             0,
             "#8e0152"
            ],
            [
             0.1,
             "#c51b7d"
            ],
            [
             0.2,
             "#de77ae"
            ],
            [
             0.3,
             "#f1b6da"
            ],
            [
             0.4,
             "#fde0ef"
            ],
            [
             0.5,
             "#f7f7f7"
            ],
            [
             0.6,
             "#e6f5d0"
            ],
            [
             0.7,
             "#b8e186"
            ],
            [
             0.8,
             "#7fbc41"
            ],
            [
             0.9,
             "#4d9221"
            ],
            [
             1,
             "#276419"
            ]
           ],
           "sequential": [
            [
             0,
             "#0d0887"
            ],
            [
             0.1111111111111111,
             "#46039f"
            ],
            [
             0.2222222222222222,
             "#7201a8"
            ],
            [
             0.3333333333333333,
             "#9c179e"
            ],
            [
             0.4444444444444444,
             "#bd3786"
            ],
            [
             0.5555555555555556,
             "#d8576b"
            ],
            [
             0.6666666666666666,
             "#ed7953"
            ],
            [
             0.7777777777777778,
             "#fb9f3a"
            ],
            [
             0.8888888888888888,
             "#fdca26"
            ],
            [
             1,
             "#f0f921"
            ]
           ],
           "sequentialminus": [
            [
             0,
             "#0d0887"
            ],
            [
             0.1111111111111111,
             "#46039f"
            ],
            [
             0.2222222222222222,
             "#7201a8"
            ],
            [
             0.3333333333333333,
             "#9c179e"
            ],
            [
             0.4444444444444444,
             "#bd3786"
            ],
            [
             0.5555555555555556,
             "#d8576b"
            ],
            [
             0.6666666666666666,
             "#ed7953"
            ],
            [
             0.7777777777777778,
             "#fb9f3a"
            ],
            [
             0.8888888888888888,
             "#fdca26"
            ],
            [
             1,
             "#f0f921"
            ]
           ]
          },
          "colorway": [
           "#636efa",
           "#EF553B",
           "#00cc96",
           "#ab63fa",
           "#FFA15A",
           "#19d3f3",
           "#FF6692",
           "#B6E880",
           "#FF97FF",
           "#FECB52"
          ],
          "font": {
           "color": "#2a3f5f"
          },
          "geo": {
           "bgcolor": "white",
           "lakecolor": "white",
           "landcolor": "#E5ECF6",
           "showlakes": true,
           "showland": true,
           "subunitcolor": "white"
          },
          "hoverlabel": {
           "align": "left"
          },
          "hovermode": "closest",
          "mapbox": {
           "style": "light"
          },
          "paper_bgcolor": "white",
          "plot_bgcolor": "#E5ECF6",
          "polar": {
           "angularaxis": {
            "gridcolor": "white",
            "linecolor": "white",
            "ticks": ""
           },
           "bgcolor": "#E5ECF6",
           "radialaxis": {
            "gridcolor": "white",
            "linecolor": "white",
            "ticks": ""
           }
          },
          "scene": {
           "xaxis": {
            "backgroundcolor": "#E5ECF6",
            "gridcolor": "white",
            "gridwidth": 2,
            "linecolor": "white",
            "showbackground": true,
            "ticks": "",
            "zerolinecolor": "white"
           },
           "yaxis": {
            "backgroundcolor": "#E5ECF6",
            "gridcolor": "white",
            "gridwidth": 2,
            "linecolor": "white",
            "showbackground": true,
            "ticks": "",
            "zerolinecolor": "white"
           },
           "zaxis": {
            "backgroundcolor": "#E5ECF6",
            "gridcolor": "white",
            "gridwidth": 2,
            "linecolor": "white",
            "showbackground": true,
            "ticks": "",
            "zerolinecolor": "white"
           }
          },
          "shapedefaults": {
           "line": {
            "color": "#2a3f5f"
           }
          },
          "ternary": {
           "aaxis": {
            "gridcolor": "white",
            "linecolor": "white",
            "ticks": ""
           },
           "baxis": {
            "gridcolor": "white",
            "linecolor": "white",
            "ticks": ""
           },
           "bgcolor": "#E5ECF6",
           "caxis": {
            "gridcolor": "white",
            "linecolor": "white",
            "ticks": ""
           }
          },
          "title": {
           "x": 0.05
          },
          "xaxis": {
           "automargin": true,
           "gridcolor": "white",
           "linecolor": "white",
           "ticks": "",
           "title": {
            "standoff": 15
           },
           "zerolinecolor": "white",
           "zerolinewidth": 2
          },
          "yaxis": {
           "automargin": true,
           "gridcolor": "white",
           "linecolor": "white",
           "ticks": "",
           "title": {
            "standoff": 15
           },
           "zerolinecolor": "white",
           "zerolinewidth": 2
          }
         }
        },
        "xaxis": {
         "anchor": "y",
         "domain": [
          0,
          1
         ],
         "title": {
          "text": "Beneficiarios"
         }
        },
        "yaxis": {
         "anchor": "x",
         "domain": [
          0,
          1
         ],
         "showgrid": false,
         "showticklabels": false,
         "title": {
          "text": "y"
         }
        }
       }
      }
     },
     "metadata": {},
     "output_type": "display_data"
    },
    {
     "name": "stdout",
     "output_type": "stream",
     "text": [
      "beneficiarios_abono_familia\n",
      "0    266\n",
      "1     39\n",
      "2      3\n",
      "Name: count, dtype: int64\n",
      "File saved to csv_files/6_Benificiários_Abono_Familia.csv\n"
     ]
    }
   ],
   "source": [
    "clustered_df = aplicar_kmeans(df_ben_abono_fam, 3, nome_cluster='beneficiarios_abono_familia')\n",
    "save_clustered_df_to_csv(clustered_df, \"csv_files/\", \"6_Benificiários_Abono_Familia.csv\")"
   ]
  },
  {
   "cell_type": "markdown",
   "id": "53129989",
   "metadata": {},
   "source": [
    "#### Valor Médio das Pensões"
   ]
  },
  {
   "cell_type": "code",
   "execution_count": 10,
   "id": "003048a5",
   "metadata": {},
   "outputs": [
    {
     "data": {
      "text/html": [
       "<div>\n",
       "<style scoped>\n",
       "    .dataframe tbody tr th:only-of-type {\n",
       "        vertical-align: middle;\n",
       "    }\n",
       "\n",
       "    .dataframe tbody tr th {\n",
       "        vertical-align: top;\n",
       "    }\n",
       "\n",
       "    .dataframe thead th {\n",
       "        text-align: right;\n",
       "    }\n",
       "</style>\n",
       "<table border=\"1\" class=\"dataframe\">\n",
       "  <thead>\n",
       "    <tr style=\"text-align: right;\">\n",
       "      <th></th>\n",
       "      <th>local</th>\n",
       "      <th>codigo</th>\n",
       "      <th>Total</th>\n",
       "    </tr>\n",
       "  </thead>\n",
       "  <tbody>\n",
       "    <tr>\n",
       "      <th>4</th>\n",
       "      <td>Arcos de Valdevez</td>\n",
       "      <td>1111601</td>\n",
       "      <td>4027.0</td>\n",
       "    </tr>\n",
       "    <tr>\n",
       "      <th>5</th>\n",
       "      <td>Caminha</td>\n",
       "      <td>1111602</td>\n",
       "      <td>5410.0</td>\n",
       "    </tr>\n",
       "    <tr>\n",
       "      <th>6</th>\n",
       "      <td>Melgaço</td>\n",
       "      <td>1111603</td>\n",
       "      <td>3963.0</td>\n",
       "    </tr>\n",
       "    <tr>\n",
       "      <th>7</th>\n",
       "      <td>Monção</td>\n",
       "      <td>1111604</td>\n",
       "      <td>4197.0</td>\n",
       "    </tr>\n",
       "    <tr>\n",
       "      <th>8</th>\n",
       "      <td>Paredes de Coura</td>\n",
       "      <td>1111605</td>\n",
       "      <td>4452.0</td>\n",
       "    </tr>\n",
       "    <tr>\n",
       "      <th>...</th>\n",
       "      <td>...</td>\n",
       "      <td>...</td>\n",
       "      <td>...</td>\n",
       "    </tr>\n",
       "    <tr>\n",
       "      <th>342</th>\n",
       "      <td>Ribeira Brava</td>\n",
       "      <td>3003107</td>\n",
       "      <td>4815.0</td>\n",
       "    </tr>\n",
       "    <tr>\n",
       "      <th>343</th>\n",
       "      <td>Santa Cruz</td>\n",
       "      <td>3003108</td>\n",
       "      <td>5638.0</td>\n",
       "    </tr>\n",
       "    <tr>\n",
       "      <th>344</th>\n",
       "      <td>Santana</td>\n",
       "      <td>3003109</td>\n",
       "      <td>4337.0</td>\n",
       "    </tr>\n",
       "    <tr>\n",
       "      <th>345</th>\n",
       "      <td>São Vicente</td>\n",
       "      <td>3003110</td>\n",
       "      <td>4376.0</td>\n",
       "    </tr>\n",
       "    <tr>\n",
       "      <th>346</th>\n",
       "      <td>Porto Santo</td>\n",
       "      <td>3003201</td>\n",
       "      <td>7019.0</td>\n",
       "    </tr>\n",
       "  </tbody>\n",
       "</table>\n",
       "<p>308 rows × 3 columns</p>\n",
       "</div>"
      ],
      "text/plain": [
       "                 local   codigo   Total\n",
       "4    Arcos de Valdevez  1111601  4027.0\n",
       "5              Caminha  1111602  5410.0\n",
       "6              Melgaço  1111603  3963.0\n",
       "7               Monção  1111604  4197.0\n",
       "8     Paredes de Coura  1111605  4452.0\n",
       "..                 ...      ...     ...\n",
       "342      Ribeira Brava  3003107  4815.0\n",
       "343         Santa Cruz  3003108  5638.0\n",
       "344            Santana  3003109  4337.0\n",
       "345        São Vicente  3003110  4376.0\n",
       "346        Porto Santo  3003201  7019.0\n",
       "\n",
       "[308 rows x 3 columns]"
      ]
     },
     "execution_count": 10,
     "metadata": {},
     "output_type": "execute_result"
    }
   ],
   "source": [
    "df_pensoes = processar_ficheiro(data_path+'Valor médio das pensões da segurança social (€: N.º).xls',4)\n",
    "df_pensoes = carregar_municipios(df_pensoes)\n",
    "df_pensoes = df_pensoes[['local','codigo','Total']]\n",
    "#save_clustered_df_to_csv( df_pensoes.rename(columns={'Total': 'Valor_Medio_Pensoes'}), \"csv_bruto/\", \"6_Valor_Medio_Pensoes.csv\")\n",
    "df_pensoes\n"
   ]
  },
  {
   "cell_type": "code",
   "execution_count": 11,
   "id": "14721d48",
   "metadata": {},
   "outputs": [
    {
     "data": {
      "application/vnd.plotly.v1+json": {
       "config": {
        "plotlyServerURL": "https://plot.ly"
       },
       "data": [
        {
         "customdata": [
          [
           "Arcos de Valdevez",
           "1111601",
           4027
          ],
          [
           "Caminha",
           "1111602",
           5410
          ],
          [
           "Melgaço",
           "1111603",
           3963
          ],
          [
           "Monção",
           "1111604",
           4197
          ],
          [
           "Paredes de Coura",
           "1111605",
           4452
          ],
          [
           "Ponte da Barca",
           "1111606",
           4352
          ],
          [
           "Ponte de Lima",
           "1111607",
           4773
          ],
          [
           "Valença",
           "1111608",
           4612
          ],
          [
           "Viana do Castelo",
           "1111609",
           5777
          ],
          [
           "Vila Nova de Cerveira",
           "1111610",
           4739
          ],
          [
           "Amares",
           "1120301",
           4736
          ],
          [
           "Barcelos",
           "1120302",
           5454
          ],
          [
           "Braga",
           "1120303",
           6156
          ],
          [
           "Esposende",
           "1120306",
           5329
          ],
          [
           "Terras de Bouro",
           "1120310",
           4753
          ],
          [
           "Vila Verde",
           "1120313",
           4641
          ],
          [
           "Cabeceiras de Basto",
           "1190304",
           4484
          ],
          [
           "Fafe",
           "1190307",
           4929
          ],
          [
           "Guimarães",
           "1190308",
           6208
          ],
          [
           "Mondim de Basto",
           "1191705",
           4386
          ],
          [
           "Póvoa de Lanhoso",
           "1190309",
           4621
          ],
          [
           "Vieira do Minho",
           "1190311",
           4551
          ],
          [
           "Vila Nova de Famalicão",
           "1190312",
           6221
          ],
          [
           "Vizela",
           "1190314",
           6106
          ],
          [
           "Arouca",
           "11A0104",
           4887
          ],
          [
           "Espinho",
           "11A0107",
           6501
          ],
          [
           "Gondomar",
           "11A1304",
           6369
          ],
          [
           "Maia",
           "11A1306",
           7375
          ],
          [
           "Matosinhos",
           "11A1308",
           7758
          ],
          [
           "Oliveira de Azeméis",
           "11A0113",
           6262
          ],
          [
           "Paredes",
           "11A1310",
           5271
          ],
          [
           "Porto",
           "11A1312",
           8059
          ],
          [
           "Póvoa de Varzim",
           "11A1313",
           5726
          ],
          [
           "Santa Maria da Feira",
           "11A0109",
           5904
          ],
          [
           "Santo Tirso",
           "11A1314",
           5999
          ],
          [
           "São João da Madeira",
           "11A0116",
           6471
          ],
          [
           "Trofa",
           "11A1318",
           6638
          ],
          [
           "Vale de Cambra",
           "11A0119",
           6075
          ],
          [
           "Valongo",
           "11A1315",
           6396
          ],
          [
           "Vila do Conde",
           "11A1316",
           6181
          ],
          [
           "Vila Nova de Gaia",
           "11A1317",
           7043
          ],
          [
           "Boticas",
           "11B1702",
           3904
          ],
          [
           "Chaves",
           "11B1703",
           4427
          ],
          [
           "Montalegre",
           "11B1706",
           4264
          ],
          [
           "Ribeira de Pena",
           "11B1709",
           4033
          ],
          [
           "Valpaços",
           "11B1712",
           4000
          ],
          [
           "Vila Pouca de Aguiar",
           "11B1713",
           4094
          ],
          [
           "Amarante",
           "11C1301",
           5069
          ],
          [
           "Baião",
           "11C1302",
           5044
          ],
          [
           "Castelo de Paiva",
           "11C0106",
           5511
          ],
          [
           "Celorico de Basto",
           "11C0305",
           4405
          ],
          [
           "Cinfães",
           "11C1804",
           4895
          ],
          [
           "Felgueiras",
           "11C1303",
           5355
          ],
          [
           "Lousada",
           "11C1305",
           5292
          ],
          [
           "Marco de Canaveses",
           "11C1307",
           5417
          ],
          [
           "Paços de Ferreira",
           "11C1309",
           5051
          ],
          [
           "Penafiel",
           "11C1311",
           5588
          ],
          [
           "Resende",
           "11C1813",
           4406
          ],
          [
           "Alijó",
           "11D1701",
           4382
          ],
          [
           "Armamar",
           "11D1801",
           4626
          ],
          [
           "Carrazeda de Ansiães",
           "11D0403",
           4195
          ],
          [
           "Freixo de Espada à Cinta",
           "11D0404",
           4258
          ],
          [
           "Lamego",
           "11D1805",
           4908
          ],
          [
           "Mesão Frio",
           "11D1704",
           4962
          ],
          [
           "Moimenta da Beira",
           "11D1807",
           4397
          ],
          [
           "Murça",
           "11D1707",
           4173
          ],
          [
           "Penedono",
           "11D1812",
           4119
          ],
          [
           "Peso da Régua",
           "11D1708",
           5176
          ],
          [
           "Sabrosa",
           "11D1710",
           4376
          ],
          [
           "Santa Marta de Penaguião",
           "11D1711",
           4587
          ],
          [
           "São João da Pesqueira",
           "11D1815",
           4443
          ],
          [
           "Sernancelhe",
           "11D1818",
           4092
          ],
          [
           "Tabuaço",
           "11D1819",
           4422
          ],
          [
           "Tarouca",
           "11D1820",
           4470
          ],
          [
           "Torre de Moncorvo",
           "11D0409",
           4213
          ],
          [
           "Vila Nova de Foz Côa",
           "11D0914",
           4193
          ],
          [
           "Vila Real",
           "11D1714",
           4689
          ],
          [
           "Alfândega da Fé",
           "11E0401",
           4163
          ],
          [
           "Bragança",
           "11E0402",
           4437
          ],
          [
           "Macedo de Cavaleiros",
           "11E0405",
           4176
          ],
          [
           "Miranda do Douro",
           "11E0406",
           4782
          ],
          [
           "Mirandela",
           "11E0407",
           4362
          ],
          [
           "Mogadouro",
           "11E0408",
           4275
          ],
          [
           "Vila Flor",
           "11E0410",
           4230
          ],
          [
           "Vimioso",
           "11E0411",
           3834
          ],
          [
           "Vinhais",
           "11E0412",
           4113
          ],
          [
           "Águeda",
           "1910101",
           6397
          ],
          [
           "Albergaria-a-Velha",
           "1910102",
           6016
          ],
          [
           "Anadia",
           "1910103",
           5680
          ],
          [
           "Aveiro",
           "1910105",
           6924
          ],
          [
           "Estarreja",
           "1910108",
           6473
          ],
          [
           "Ílhavo",
           "1910110",
           6752
          ],
          [
           "Murtosa",
           "1910112",
           5181
          ],
          [
           "Oliveira do Bairro",
           "1910114",
           5174
          ],
          [
           "Ovar",
           "1910115",
           6507
          ],
          [
           "Sever do Vouga",
           "1910117",
           5154
          ],
          [
           "Vagos",
           "1910118",
           4960
          ],
          [
           "Arganil",
           "1920601",
           5198
          ],
          [
           "Cantanhede",
           "1920602",
           4895
          ],
          [
           "Coimbra",
           "1920603",
           6272
          ],
          [
           "Condeixa-a-Nova",
           "1920604",
           5586
          ],
          [
           "Figueira da Foz",
           "1920605",
           6762
          ],
          [
           "Góis",
           "1920606",
           5321
          ],
          [
           "Lousã",
           "1920607",
           6008
          ],
          [
           "Mealhada",
           "1920111",
           5821
          ],
          [
           "Mira",
           "1920608",
           4867
          ],
          [
           "Miranda do Corvo",
           "1920609",
           5359
          ],
          [
           "Montemor-o-Velho",
           "1920610",
           5808
          ],
          [
           "Mortágua",
           "1921808",
           4599
          ],
          [
           "Oliveira do Hospital",
           "1920611",
           5233
          ],
          [
           "Pampilhosa da Serra",
           "1920612",
           5420
          ],
          [
           "Penacova",
           "1920613",
           4838
          ],
          [
           "Penela",
           "1920614",
           4895
          ],
          [
           "Soure",
           "1920615",
           5704
          ],
          [
           "Tábua",
           "1920616",
           5188
          ],
          [
           "Vila Nova de Poiares",
           "1920617",
           5230
          ],
          [
           "Alvaiázere",
           "1931002",
           4592
          ],
          [
           "Ansião",
           "1931003",
           4907
          ],
          [
           "Batalha",
           "1931004",
           5658
          ],
          [
           "Castanheira de Pêra",
           "1931007",
           5269
          ],
          [
           "Figueiró dos Vinhos",
           "1931008",
           4760
          ],
          [
           "Leiria",
           "1931009",
           6424
          ],
          [
           "Marinha Grande",
           "1931010",
           7591
          ],
          [
           "Pedrógão Grande",
           "1931013",
           4919
          ],
          [
           "Pombal",
           "1931015",
           4988
          ],
          [
           "Porto de Mós",
           "1931016",
           5616
          ],
          [
           "Aguiar da Beira",
           "1940901",
           4126
          ],
          [
           "Carregal do Sal",
           "1941802",
           4779
          ],
          [
           "Castro Daire",
           "1941803",
           4431
          ],
          [
           "Mangualde",
           "1941806",
           5402
          ],
          [
           "Nelas",
           "1941809",
           5215
          ],
          [
           "Oliveira de Frades",
           "1941810",
           5140
          ],
          [
           "Penalva do Castelo",
           "1941811",
           4341
          ],
          [
           "Santa Comba Dão",
           "1941814",
           5286
          ],
          [
           "São Pedro do Sul",
           "1941816",
           4726
          ],
          [
           "Sátão",
           "1941817",
           4261
          ],
          [
           "Tondela",
           "1941821",
           4828
          ],
          [
           "Vila Nova de Paiva",
           "1941822",
           3875
          ],
          [
           "Viseu",
           "1941823",
           5182
          ],
          [
           "Vouzela",
           "1941824",
           4895
          ],
          [
           "Castelo Branco",
           "1950502",
           5330
          ],
          [
           "Idanha-a-Nova",
           "1950505",
           4800
          ],
          [
           "Oleiros",
           "1950506",
           4629
          ],
          [
           "Penamacor",
           "1950507",
           4429
          ],
          [
           "Proença-a-Nova",
           "1950508",
           4868
          ],
          [
           "Sertã",
           "1950509",
           4999
          ],
          [
           "Vila de Rei",
           "1950510",
           5274
          ],
          [
           "Vila Velha de Ródão",
           "1950511",
           6307
          ],
          [
           "Almeida",
           "1960902",
           4328
          ],
          [
           "Belmonte",
           "1960501",
           4876
          ],
          [
           "Celorico da Beira",
           "1960903",
           4556
          ],
          [
           "Covilhã",
           "1960503",
           5253
          ],
          [
           "Figueira de Castelo Rodrigo",
           "1960904",
           4413
          ],
          [
           "Fornos de Algodres",
           "1960905",
           4445
          ],
          [
           "Fundão",
           "1960504",
           4967
          ],
          [
           "Gouveia",
           "1960906",
           4591
          ],
          [
           "Guarda",
           "1960907",
           5140
          ],
          [
           "Manteigas",
           "1960908",
           4730
          ],
          [
           "Mêda",
           "1960909",
           4109
          ],
          [
           "Pinhel",
           "1960910",
           4335
          ],
          [
           "Sabugal",
           "1960911",
           4100
          ],
          [
           "Seia",
           "1960912",
           5231
          ],
          [
           "Trancoso",
           "1960913",
           4354
          ],
          [
           "Alcobaça",
           "1D11001",
           6071
          ],
          [
           "Alenquer",
           "1D11101",
           6602
          ],
          [
           "Arruda dos Vinhos",
           "1D11102",
           6908
          ],
          [
           "Bombarral",
           "1D11005",
           5467
          ],
          [
           "Cadaval",
           "1D11104",
           5772
          ],
          [
           "Caldas da Rainha",
           "1D11006",
           6077
          ],
          [
           "Lourinhã",
           "1D11108",
           5908
          ],
          [
           "Nazaré",
           "1D11011",
           5876
          ],
          [
           "Óbidos",
           "1D11012",
           5865
          ],
          [
           "Peniche",
           "1D11014",
           5763
          ],
          [
           "Sobral de Monte Agraço",
           "1D11112",
           6404
          ],
          [
           "Torres Vedras",
           "1D11113",
           6461
          ],
          [
           "Abrantes",
           "1D21401",
           5842
          ],
          [
           "Alcanena",
           "1D21402",
           5940
          ],
          [
           "Constância",
           "1D21408",
           6263
          ],
          [
           "Entroncamento",
           "1D21410",
           7317
          ],
          [
           "Ferreira do Zêzere",
           "1D21411",
           5044
          ],
          [
           "Mação",
           "1D21413",
           5150
          ],
          [
           "Ourém",
           "1D21421",
           5237
          ],
          [
           "Sardoal",
           "1D21417",
           5690
          ],
          [
           "Tomar",
           "1D21418",
           5733
          ],
          [
           "Torres Novas",
           "1D21419",
           6174
          ],
          [
           "Vila Nova da Barquinha",
           "1D21420",
           6420
          ],
          [
           "Almeirim",
           "1D31403",
           5436
          ],
          [
           "Alpiarça",
           "1D31404",
           5204
          ],
          [
           "Azambuja",
           "1D31103",
           6504
          ],
          [
           "Benavente",
           "1D31405",
           6599
          ],
          [
           "Cartaxo",
           "1D31406",
           6769
          ],
          [
           "Chamusca",
           "1D31407",
           5357
          ],
          [
           "Coruche",
           "1D31409",
           5578
          ],
          [
           "Golegã",
           "1D31412",
           5700
          ],
          [
           "Rio Maior",
           "1D31414",
           5984
          ],
          [
           "Salvaterra de Magos",
           "1D31415",
           6118
          ],
          [
           "Santarém",
           "1D31416",
           6106
          ],
          [
           "Amadora",
           "1A01115",
           7606
          ],
          [
           "Cascais",
           "1A01105",
           9530
          ],
          [
           "Lisboa",
           "1A01106",
           9357
          ],
          [
           "Loures",
           "1A01107",
           8004
          ],
          [
           "Mafra",
           "1A01109",
           7335
          ],
          [
           "Odivelas",
           "1A01116",
           7569
          ],
          [
           "Oeiras",
           "1A01110",
           10323
          ],
          [
           "Sintra",
           "1A01111",
           7852
          ],
          [
           "Vila Franca de Xira",
           "1A01114",
           7946
          ],
          [
           "Alcochete",
           "1B01502",
           7534
          ],
          [
           "Almada",
           "1B01503",
           7685
          ],
          [
           "Barreiro",
           "1B01504",
           7637
          ],
          [
           "Moita",
           "1B01506",
           6905
          ],
          [
           "Montijo",
           "1B01507",
           6438
          ],
          [
           "Palmela",
           "1B01508",
           7131
          ],
          [
           "Seixal",
           "1B01510",
           7457
          ],
          [
           "Sesimbra",
           "1B01511",
           7469
          ],
          [
           "Setúbal",
           "1B01512",
           7803
          ],
          [
           "Alcácer do Sal",
           "1C11501",
           5509
          ],
          [
           "Grândola",
           "1C11505",
           5479
          ],
          [
           "Odemira",
           "1C10211",
           4997
          ],
          [
           "Santiago do Cacém",
           "1C11509",
           7577
          ],
          [
           "Sines",
           "1C11513",
           7809
          ],
          [
           "Aljustrel",
           "1C20201",
           6508
          ],
          [
           "Almodôvar",
           "1C20202",
           5351
          ],
          [
           "Alvito",
           "1C20203",
           5160
          ],
          [
           "Barrancos",
           "1C20204",
           4344
          ],
          [
           "Beja",
           "1C20205",
           5268
          ],
          [
           "Castro Verde",
           "1C20206",
           6554
          ],
          [
           "Cuba",
           "1C20207",
           5148
          ],
          [
           "Ferreira do Alentejo",
           "1C20208",
           5070
          ],
          [
           "Mértola",
           "1C20209",
           4940
          ],
          [
           "Moura",
           "1C20210",
           4664
          ],
          [
           "Ourique",
           "1C20212",
           4779
          ],
          [
           "Serpa",
           "1C20213",
           4779
          ],
          [
           "Vidigueira",
           "1C20214",
           5033
          ],
          [
           "Alter do Chão",
           "1C31201",
           5327
          ],
          [
           "Arronches",
           "1C31202",
           4671
          ],
          [
           "Avis",
           "1C31203",
           5396
          ],
          [
           "Campo Maior",
           "1C31204",
           5982
          ],
          [
           "Castelo de Vide",
           "1C31205",
           5479
          ],
          [
           "Crato",
           "1C31206",
           5470
          ],
          [
           "Elvas",
           "1C31207",
           5248
          ],
          [
           "Fronteira",
           "1C31208",
           5627
          ],
          [
           "Gavião",
           "1C31209",
           5570
          ],
          [
           "Marvão",
           "1C31210",
           5245
          ],
          [
           "Monforte",
           "1C31211",
           5152
          ],
          [
           "Nisa",
           "1C31212",
           5516
          ],
          [
           "Ponte de Sor",
           "1C31213",
           5593
          ],
          [
           "Portalegre",
           "1C31214",
           5395
          ],
          [
           "Sousel",
           "1C31215",
           5096
          ],
          [
           "Alandroal",
           "1C40701",
           5444
          ],
          [
           "Arraiolos",
           "1C40702",
           5529
          ],
          [
           "Borba",
           "1C40703",
           6230
          ],
          [
           "Estremoz",
           "1C40704",
           5795
          ],
          [
           "Évora",
           "1C40705",
           6042
          ],
          [
           "Montemor-o-Novo",
           "1C40706",
           5795
          ],
          [
           "Mora",
           "1C40707",
           5820
          ],
          [
           "Mourão",
           "1C40708",
           5116
          ],
          [
           "Portel",
           "1C40709",
           4831
          ],
          [
           "Redondo",
           "1C40710",
           5338
          ],
          [
           "Reguengos de Monsaraz",
           "1C40711",
           5543
          ],
          [
           "Vendas Novas",
           "1C40712",
           6038
          ],
          [
           "Viana do Alentejo",
           "1C40713",
           5268
          ],
          [
           "Vila Viçosa",
           "1C40714",
           6551
          ],
          [
           "Albufeira",
           "1500801",
           6180
          ],
          [
           "Alcoutim",
           "1500802",
           4462
          ],
          [
           "Aljezur",
           "1500803",
           4984
          ],
          [
           "Castro Marim",
           "1500804",
           5497
          ],
          [
           "Faro",
           "1500805",
           6502
          ],
          [
           "Lagoa",
           "1500806",
           5891
          ],
          [
           "Lagos",
           "1500807",
           5856
          ],
          [
           "Loulé",
           "1500808",
           6020
          ],
          [
           "Monchique",
           "1500809",
           4861
          ],
          [
           "Olhão",
           "1500810",
           5663
          ],
          [
           "Portimão",
           "1500811",
           6272
          ],
          [
           "São Brás de Alportel",
           "1500812",
           5283
          ],
          [
           "Silves",
           "1500813",
           5592
          ],
          [
           "Tavira",
           "1500814",
           5371
          ],
          [
           "Vila do Bispo",
           "1500815",
           5668
          ],
          [
           "Vila Real de Santo António",
           "1500816",
           5794
          ],
          [
           "Angra do Heroísmo",
           "2004301",
           5548
          ],
          [
           "Calheta (R.A.A.)",
           "2004501",
           4228
          ],
          [
           "Corvo",
           "2004901",
           5216
          ],
          [
           "Horta",
           "2004701",
           5227
          ],
          [
           "Lagoa (R.A.A.)",
           "2004201",
           6046
          ],
          [
           "Lajes das Flores",
           "2004801",
           4848
          ],
          [
           "Lajes do Pico",
           "2004601",
           4877
          ],
          [
           "Madalena",
           "2004602",
           5289
          ],
          [
           "Nordeste",
           "2004202",
           4455
          ],
          [
           "Ponta Delgada",
           "2004203",
           6967
          ],
          [
           "Povoação",
           "2004204",
           4680
          ],
          [
           "Ribeira Grande",
           "2004205",
           5268
          ],
          [
           "Santa Cruz da Graciosa",
           "2004401",
           4490
          ],
          [
           "Santa Cruz das Flores",
           "2004802",
           5539
          ],
          [
           "São Roque do Pico",
           "2004603",
           4822
          ],
          [
           "Velas",
           "2004502",
           5025
          ],
          [
           "Vila da Praia da Vitória",
           "2004302",
           6603
          ],
          [
           "Vila do Porto",
           "2004101",
           7262
          ],
          [
           "Vila Franca do Campo",
           "2004206",
           4878
          ],
          [
           "Calheta (R.A.M.)",
           "3003101",
           4365
          ],
          [
           "Câmara de Lobos",
           "3003102",
           4828
          ],
          [
           "Funchal",
           "3003103",
           6382
          ],
          [
           "Machico",
           "3003104",
           5586
          ],
          [
           "Ponta do Sol",
           "3003105",
           4476
          ],
          [
           "Porto Moniz",
           "3003106",
           4097
          ],
          [
           "Ribeira Brava",
           "3003107",
           4815
          ],
          [
           "Santa Cruz",
           "3003108",
           5638
          ],
          [
           "Santana",
           "3003109",
           4337
          ],
          [
           "São Vicente",
           "3003110",
           4376
          ],
          [
           "Porto Santo",
           "3003201",
           7019
          ]
         ],
         "hovertemplate": "valor=%{x}<br>y=%{y}<br>local=%{customdata[0]}<br>codigo=%{customdata[1]}<br>Total=%{customdata[2]}<br>total_medio_pensoes=%{marker.color}<extra></extra>",
         "legendgroup": "",
         "marker": {
          "color": [
           0,
           1,
           0,
           0,
           0,
           0,
           0,
           0,
           1,
           0,
           0,
           1,
           1,
           1,
           0,
           0,
           0,
           0,
           1,
           0,
           0,
           0,
           1,
           1,
           0,
           1,
           1,
           2,
           2,
           1,
           0,
           2,
           1,
           1,
           1,
           1,
           1,
           1,
           1,
           1,
           2,
           0,
           0,
           0,
           0,
           0,
           0,
           0,
           0,
           1,
           0,
           0,
           1,
           0,
           1,
           0,
           1,
           0,
           0,
           0,
           0,
           0,
           0,
           0,
           0,
           0,
           0,
           0,
           0,
           0,
           0,
           0,
           0,
           0,
           0,
           0,
           0,
           0,
           0,
           0,
           0,
           0,
           0,
           0,
           0,
           0,
           1,
           1,
           1,
           2,
           1,
           1,
           0,
           0,
           1,
           0,
           0,
           0,
           0,
           1,
           1,
           1,
           1,
           1,
           1,
           0,
           1,
           1,
           0,
           0,
           1,
           0,
           0,
           1,
           0,
           0,
           0,
           0,
           1,
           0,
           0,
           1,
           2,
           0,
           0,
           1,
           0,
           0,
           0,
           1,
           0,
           0,
           0,
           0,
           0,
           0,
           0,
           0,
           0,
           0,
           1,
           0,
           0,
           0,
           0,
           0,
           0,
           1,
           0,
           0,
           0,
           0,
           0,
           0,
           0,
           0,
           0,
           0,
           0,
           0,
           0,
           0,
           0,
           1,
           1,
           2,
           1,
           1,
           1,
           1,
           1,
           1,
           1,
           1,
           1,
           1,
           1,
           1,
           2,
           0,
           0,
           0,
           1,
           1,
           1,
           1,
           1,
           0,
           1,
           1,
           1,
           1,
           1,
           1,
           1,
           1,
           1,
           2,
           2,
           2,
           2,
           2,
           2,
           2,
           2,
           2,
           2,
           2,
           2,
           2,
           1,
           2,
           2,
           2,
           2,
           1,
           1,
           0,
           2,
           2,
           1,
           1,
           0,
           0,
           0,
           1,
           0,
           0,
           0,
           0,
           0,
           0,
           0,
           1,
           0,
           1,
           1,
           1,
           1,
           0,
           1,
           1,
           0,
           0,
           1,
           1,
           1,
           0,
           1,
           1,
           1,
           1,
           1,
           1,
           1,
           0,
           0,
           1,
           1,
           1,
           0,
           1,
           1,
           0,
           0,
           1,
           1,
           1,
           1,
           1,
           0,
           1,
           1,
           0,
           1,
           1,
           1,
           1,
           1,
           0,
           0,
           0,
           1,
           0,
           0,
           0,
           0,
           2,
           0,
           0,
           0,
           1,
           0,
           0,
           1,
           2,
           0,
           0,
           0,
           1,
           1,
           0,
           0,
           0,
           1,
           0,
           0,
           2
          ],
          "coloraxis": "coloraxis",
          "size": 10,
          "symbol": "circle"
         },
         "mode": "markers",
         "name": "",
         "orientation": "v",
         "showlegend": false,
         "type": "scatter",
         "x": [
          -1.394640971121429,
          -0.0501724819557014,
          -1.4568578787907034,
          -1.2293773101249186,
          -0.9814818186301533,
          -1.0786957368633947,
          -0.6694251411014486,
          -0.8259395494569671,
          0.30660259796029427,
          -0.7024778733007507,
          -0.705394290847748,
          -0.007398357933075215,
          0.6750433480642789,
          -0.12891575572462688,
          -0.6888679247480969,
          -0.7977475131693271,
          -0.950373364795516,
          -0.5177714286575922,
          0.7255945855455643,
          -1.0456430046640925,
          -0.8171902968159754,
          -0.8852400395792444,
          0.7382323949158858,
          0.6264363889476582,
          -0.5586012743155535,
          1.0104313659689614,
          0.8821089939010829,
          1.8600810113274906,
          2.232410318160805,
          0.7780901013915147,
          -0.18529982829990685,
          2.525024212042861,
          0.2570234996613412,
          0.4300642741165107,
          0.52241749643809,
          0.981267190498989,
          1.1436144339485022,
          0.5963000742953534,
          0.9083567518240581,
          0.6993468276225893,
          1.5373308027931294,
          -1.5142140905483157,
          -1.0057852981884636,
          -1.164243984908647,
          -1.3888081360274345,
          -1.420888729044404,
          -1.3295076459051571,
          -0.3816719431310543,
          -0.40597542268936465,
          0.04801357545987234,
          -1.0271723601997766,
          -0.5508241608568942,
          -0.10364013698398412,
          -0.16488490547092616,
          -0.0433675076793745,
          -0.3991704484130377,
          0.12286829249946817,
          -1.0262002210174443,
          -1.0495315613934222,
          -0.8123296009043134,
          -1.2313215884895834,
          -1.1700768200026415,
          -0.5381863514865728,
          -0.48569083564062254,
          -1.034949473658436,
          -1.2527086505008966,
          -1.3052041663468468,
          -0.2776530506214861,
          -1.0553643964874166,
          -0.8502430290152775,
          -0.990231071271145,
          -1.331451924269822,
          -1.0106459941001256,
          -0.9639833133481699,
          -1.2138230832076,
          -1.2332658668542482,
          -0.7510848324173713,
          -1.2624300423242207,
          -0.9960639063651395,
          -1.2497922329538993,
          -0.6606758884604569,
          -1.0689743450400704,
          -1.1535504539029904,
          -1.197296717107949,
          -1.5822638333115846,
          -1.3110370014408415,
          0.9093288910063905,
          0.5389438625377411,
          0.21230509727405017,
          1.4216462400955723,
          0.9832114688636538,
          1.254438300734397,
          -0.27279235470982405,
          -0.2795973289861509,
          1.016264201062956,
          -0.29904011263279917,
          -0.48763511400528736,
          -0.256265988610173,
          -0.5508241608568942,
          0.7878114932148388,
          0.12092401413480333,
          1.2641596925577212,
          -0.1366928691832862,
          0.5311667490790817,
          0.34937672198292047,
          -0.5780440579622018,
          -0.09975158025465447,
          0.3367389126125991,
          -0.8385773588272886,
          -0.22224111722853854,
          -0.040451090132377264,
          -0.6062360942498418,
          -0.5508241608568942,
          0.2356364376500281,
          -0.2659873804334971,
          -0.22515753477553577,
          -0.8453823331036154,
          -0.5391584906689052,
          0.1909180352627371,
          -0.18724410666457167,
          -0.68206295047177,
          0.9355766489293657,
          2.070063074711292,
          -0.5274928204809163,
          -0.4604152168999798,
          0.15008818960477574,
          -1.29839919207052,
          -0.6635923060074541,
          -1.001896741459134,
          -0.057949595414360705,
          -0.23973962251052197,
          -0.31265006118545297,
          -1.089389267869051,
          -0.17071774056492064,
          -0.7151156826710721,
          -1.1671604024556441,
          -0.6159574860731659,
          -1.5424061268359557,
          -0.27182021552749164,
          -0.5508241608568942,
          -0.12794361654229444,
          -0.6431773831784735,
          -0.8094131833573162,
          -1.0038410198237988,
          -0.5770719187798694,
          -0.4497216858943232,
          -0.1823834107529096,
          0.8218363645964732,
          -1.1020270772393725,
          -0.56929480532121,
          -0.8803793436675823,
          -0.20279833358189028,
          -1.0193952467411174,
          -0.9882867929064801,
          -0.48083013972896044,
          -0.8463544722859478,
          -0.31265006118545297,
          -0.7112271259417424,
          -1.314925558170171,
          -1.0952221029630456,
          -1.3236748108111627,
          -0.22418539559320336,
          -1.0767514584987297,
          0.5924115175660237,
          1.1086174233845352,
          1.4060920131782537,
          0.005239451437246158,
          0.3017419020486322,
          0.5982443526600182,
          0.4339528308458404,
          0.4028443770112032,
          0.3921508460055466,
          0.29299264940764047,
          0.9161338652827173,
          0.9715457986756649,
          0.36979164481190113,
          0.46506128468047764,
          0.7790622405738471,
          1.8036969387522106,
          -0.40597542268936465,
          -0.3029286693621288,
          -0.2183525604992089,
          0.2220264890973743,
          0.26382847393766806,
          0.6925418533462623,
          0.931688092200036,
          -0.024896863215058653,
          -0.2504331535161785,
          1.0133477835159588,
          1.1057010058375378,
          1.2709646668340482,
          -0.1016958586193193,
          0.11314690067614402,
          0.23174788092069845,
          0.5078354087031038,
          0.6381020591356472,
          0.6264363889476582,
          2.0846451624462783,
          3.955040949253841,
          3.7868608707103335,
          2.4715565570145785,
          1.821195444034194,
          2.048676012699979,
          4.725947320843445,
          2.323791401300052,
          2.4151724844392986,
          2.0146511413183443,
          2.161444157850539,
          2.1147814770985827,
          1.4031755956312564,
          0.9491865974820194,
          1.6228790508383817,
          1.9397964242787484,
          1.9514620944667374,
          2.2761565813657634,
          0.04606929709520751,
          0.016905121625235116,
          -0.4516659642589881,
          2.056453126158638,
          2.281989416459758,
          1.0172363402452884,
          -0.10752869371331378,
          -0.2932072775388047,
          -1.086472850322054,
          -0.18821624584690408,
          1.0619547426325793,
          -0.3048729477267937,
          -0.3806998039487219,
          -0.5070778976519357,
          -0.7753883119756817,
          -0.6635923060074541,
          -0.6635923060074541,
          -0.41666895369502116,
          -0.1308600340892917,
          -0.7685833376993548,
          -0.06378243050835518,
          0.505891130338439,
          0.016905121625235116,
          0.008155868984243397,
          -0.20765902949355233,
          0.16078172061043228,
          0.10536978721748472,
          -0.2105754470405496,
          -0.300984390997464,
          0.05287427137153441,
          0.12772898841113023,
          -0.06475456969068759,
          -0.35542418520807917,
          -0.017119749756399346,
          0.06551208074185577,
          0.7469816475568775,
          0.3241011032422777,
          0.5642194812783837,
          0.3241011032422777,
          0.348404582800588,
          -0.3359814015614309,
          -0.6130410685261687,
          -0.12016650308363515,
          0.07912202929450957,
          0.5603309245490541,
          -0.18821624584690408,
          1.0590383250855822,
          0.6983746884402567,
          -0.9717604268068292,
          -0.4643037736293094,
          0.03440362690721856,
          1.011403505151294,
          0.4174264647461894,
          0.3834015933645549,
          0.5428324192670707,
          -0.5838768930561963,
          0.19577873117439915,
          0.7878114932148388,
          -0.17363415811191787,
          0.12675684922879782,
          -0.08808591006666551,
          0.20063942708606122,
          0.3231289640599453,
          0.08398272520617163,
          -1.1992409954726138,
          -0.23876748332818956,
          -0.22807395232253302,
          0.5681080380077134,
          -0.5965147024265176,
          -0.5683226661388776,
          -0.1678013230179234,
          -0.978565401083156,
          1.463448224935866,
          -0.759834085058363,
          -0.18821624584690408,
          -0.9445405297015216,
          0.07523347256517991,
          -0.6217903211671604,
          -0.4244460671536805,
          1.1095895625668677,
          1.750229283723928,
          -0.5673505269565452,
          -1.0660579274930733,
          -0.6159574860731659,
          0.8947468032714043,
          0.12092401413480333,
          -0.9581504782541753,
          -1.32659122835816,
          -0.6285952954434872,
          0.17147525161608881,
          -1.0932778245983807,
          -1.0553643964874166,
          1.5139994624171516
         ],
         "xaxis": "x",
         "y": [
          0,
          0,
          0,
          0,
          0,
          0,
          0,
          0,
          0,
          0,
          0,
          0,
          0,
          0,
          0,
          0,
          0,
          0,
          0,
          0,
          0,
          0,
          0,
          0,
          0,
          0,
          0,
          0,
          0,
          0,
          0,
          0,
          0,
          0,
          0,
          0,
          0,
          0,
          0,
          0,
          0,
          0,
          0,
          0,
          0,
          0,
          0,
          0,
          0,
          0,
          0,
          0,
          0,
          0,
          0,
          0,
          0,
          0,
          0,
          0,
          0,
          0,
          0,
          0,
          0,
          0,
          0,
          0,
          0,
          0,
          0,
          0,
          0,
          0,
          0,
          0,
          0,
          0,
          0,
          0,
          0,
          0,
          0,
          0,
          0,
          0,
          0,
          0,
          0,
          0,
          0,
          0,
          0,
          0,
          0,
          0,
          0,
          0,
          0,
          0,
          0,
          0,
          0,
          0,
          0,
          0,
          0,
          0,
          0,
          0,
          0,
          0,
          0,
          0,
          0,
          0,
          0,
          0,
          0,
          0,
          0,
          0,
          0,
          0,
          0,
          0,
          0,
          0,
          0,
          0,
          0,
          0,
          0,
          0,
          0,
          0,
          0,
          0,
          0,
          0,
          0,
          0,
          0,
          0,
          0,
          0,
          0,
          0,
          0,
          0,
          0,
          0,
          0,
          0,
          0,
          0,
          0,
          0,
          0,
          0,
          0,
          0,
          0,
          0,
          0,
          0,
          0,
          0,
          0,
          0,
          0,
          0,
          0,
          0,
          0,
          0,
          0,
          0,
          0,
          0,
          0,
          0,
          0,
          0,
          0,
          0,
          0,
          0,
          0,
          0,
          0,
          0,
          0,
          0,
          0,
          0,
          0,
          0,
          0,
          0,
          0,
          0,
          0,
          0,
          0,
          0,
          0,
          0,
          0,
          0,
          0,
          0,
          0,
          0,
          0,
          0,
          0,
          0,
          0,
          0,
          0,
          0,
          0,
          0,
          0,
          0,
          0,
          0,
          0,
          0,
          0,
          0,
          0,
          0,
          0,
          0,
          0,
          0,
          0,
          0,
          0,
          0,
          0,
          0,
          0,
          0,
          0,
          0,
          0,
          0,
          0,
          0,
          0,
          0,
          0,
          0,
          0,
          0,
          0,
          0,
          0,
          0,
          0,
          0,
          0,
          0,
          0,
          0,
          0,
          0,
          0,
          0,
          0,
          0,
          0,
          0,
          0,
          0,
          0,
          0,
          0,
          0,
          0,
          0,
          0,
          0,
          0,
          0,
          0,
          0,
          0,
          0,
          0,
          0,
          0,
          0,
          0,
          0,
          0,
          0,
          0,
          0,
          0,
          0,
          0,
          0,
          0,
          0
         ],
         "yaxis": "y"
        }
       ],
       "layout": {
        "coloraxis": {
         "colorbar": {
          "title": {
           "text": "total_medio_pensoes"
          }
         },
         "colorscale": [
          [
           0,
           "#440154"
          ],
          [
           0.1111111111111111,
           "#482878"
          ],
          [
           0.2222222222222222,
           "#3e4989"
          ],
          [
           0.3333333333333333,
           "#31688e"
          ],
          [
           0.4444444444444444,
           "#26828e"
          ],
          [
           0.5555555555555556,
           "#1f9e89"
          ],
          [
           0.6666666666666666,
           "#35b779"
          ],
          [
           0.7777777777777778,
           "#6ece58"
          ],
          [
           0.8888888888888888,
           "#b5de2b"
          ],
          [
           1,
           "#fde725"
          ]
         ]
        },
        "height": 300,
        "legend": {
         "tracegroupgap": 0
        },
        "margin": {
         "t": 60
        },
        "template": {
         "data": {
          "bar": [
           {
            "error_x": {
             "color": "#2a3f5f"
            },
            "error_y": {
             "color": "#2a3f5f"
            },
            "marker": {
             "line": {
              "color": "#E5ECF6",
              "width": 0.5
             },
             "pattern": {
              "fillmode": "overlay",
              "size": 10,
              "solidity": 0.2
             }
            },
            "type": "bar"
           }
          ],
          "barpolar": [
           {
            "marker": {
             "line": {
              "color": "#E5ECF6",
              "width": 0.5
             },
             "pattern": {
              "fillmode": "overlay",
              "size": 10,
              "solidity": 0.2
             }
            },
            "type": "barpolar"
           }
          ],
          "carpet": [
           {
            "aaxis": {
             "endlinecolor": "#2a3f5f",
             "gridcolor": "white",
             "linecolor": "white",
             "minorgridcolor": "white",
             "startlinecolor": "#2a3f5f"
            },
            "baxis": {
             "endlinecolor": "#2a3f5f",
             "gridcolor": "white",
             "linecolor": "white",
             "minorgridcolor": "white",
             "startlinecolor": "#2a3f5f"
            },
            "type": "carpet"
           }
          ],
          "choropleth": [
           {
            "colorbar": {
             "outlinewidth": 0,
             "ticks": ""
            },
            "type": "choropleth"
           }
          ],
          "contour": [
           {
            "colorbar": {
             "outlinewidth": 0,
             "ticks": ""
            },
            "colorscale": [
             [
              0,
              "#0d0887"
             ],
             [
              0.1111111111111111,
              "#46039f"
             ],
             [
              0.2222222222222222,
              "#7201a8"
             ],
             [
              0.3333333333333333,
              "#9c179e"
             ],
             [
              0.4444444444444444,
              "#bd3786"
             ],
             [
              0.5555555555555556,
              "#d8576b"
             ],
             [
              0.6666666666666666,
              "#ed7953"
             ],
             [
              0.7777777777777778,
              "#fb9f3a"
             ],
             [
              0.8888888888888888,
              "#fdca26"
             ],
             [
              1,
              "#f0f921"
             ]
            ],
            "type": "contour"
           }
          ],
          "contourcarpet": [
           {
            "colorbar": {
             "outlinewidth": 0,
             "ticks": ""
            },
            "type": "contourcarpet"
           }
          ],
          "heatmap": [
           {
            "colorbar": {
             "outlinewidth": 0,
             "ticks": ""
            },
            "colorscale": [
             [
              0,
              "#0d0887"
             ],
             [
              0.1111111111111111,
              "#46039f"
             ],
             [
              0.2222222222222222,
              "#7201a8"
             ],
             [
              0.3333333333333333,
              "#9c179e"
             ],
             [
              0.4444444444444444,
              "#bd3786"
             ],
             [
              0.5555555555555556,
              "#d8576b"
             ],
             [
              0.6666666666666666,
              "#ed7953"
             ],
             [
              0.7777777777777778,
              "#fb9f3a"
             ],
             [
              0.8888888888888888,
              "#fdca26"
             ],
             [
              1,
              "#f0f921"
             ]
            ],
            "type": "heatmap"
           }
          ],
          "heatmapgl": [
           {
            "colorbar": {
             "outlinewidth": 0,
             "ticks": ""
            },
            "colorscale": [
             [
              0,
              "#0d0887"
             ],
             [
              0.1111111111111111,
              "#46039f"
             ],
             [
              0.2222222222222222,
              "#7201a8"
             ],
             [
              0.3333333333333333,
              "#9c179e"
             ],
             [
              0.4444444444444444,
              "#bd3786"
             ],
             [
              0.5555555555555556,
              "#d8576b"
             ],
             [
              0.6666666666666666,
              "#ed7953"
             ],
             [
              0.7777777777777778,
              "#fb9f3a"
             ],
             [
              0.8888888888888888,
              "#fdca26"
             ],
             [
              1,
              "#f0f921"
             ]
            ],
            "type": "heatmapgl"
           }
          ],
          "histogram": [
           {
            "marker": {
             "pattern": {
              "fillmode": "overlay",
              "size": 10,
              "solidity": 0.2
             }
            },
            "type": "histogram"
           }
          ],
          "histogram2d": [
           {
            "colorbar": {
             "outlinewidth": 0,
             "ticks": ""
            },
            "colorscale": [
             [
              0,
              "#0d0887"
             ],
             [
              0.1111111111111111,
              "#46039f"
             ],
             [
              0.2222222222222222,
              "#7201a8"
             ],
             [
              0.3333333333333333,
              "#9c179e"
             ],
             [
              0.4444444444444444,
              "#bd3786"
             ],
             [
              0.5555555555555556,
              "#d8576b"
             ],
             [
              0.6666666666666666,
              "#ed7953"
             ],
             [
              0.7777777777777778,
              "#fb9f3a"
             ],
             [
              0.8888888888888888,
              "#fdca26"
             ],
             [
              1,
              "#f0f921"
             ]
            ],
            "type": "histogram2d"
           }
          ],
          "histogram2dcontour": [
           {
            "colorbar": {
             "outlinewidth": 0,
             "ticks": ""
            },
            "colorscale": [
             [
              0,
              "#0d0887"
             ],
             [
              0.1111111111111111,
              "#46039f"
             ],
             [
              0.2222222222222222,
              "#7201a8"
             ],
             [
              0.3333333333333333,
              "#9c179e"
             ],
             [
              0.4444444444444444,
              "#bd3786"
             ],
             [
              0.5555555555555556,
              "#d8576b"
             ],
             [
              0.6666666666666666,
              "#ed7953"
             ],
             [
              0.7777777777777778,
              "#fb9f3a"
             ],
             [
              0.8888888888888888,
              "#fdca26"
             ],
             [
              1,
              "#f0f921"
             ]
            ],
            "type": "histogram2dcontour"
           }
          ],
          "mesh3d": [
           {
            "colorbar": {
             "outlinewidth": 0,
             "ticks": ""
            },
            "type": "mesh3d"
           }
          ],
          "parcoords": [
           {
            "line": {
             "colorbar": {
              "outlinewidth": 0,
              "ticks": ""
             }
            },
            "type": "parcoords"
           }
          ],
          "pie": [
           {
            "automargin": true,
            "type": "pie"
           }
          ],
          "scatter": [
           {
            "fillpattern": {
             "fillmode": "overlay",
             "size": 10,
             "solidity": 0.2
            },
            "type": "scatter"
           }
          ],
          "scatter3d": [
           {
            "line": {
             "colorbar": {
              "outlinewidth": 0,
              "ticks": ""
             }
            },
            "marker": {
             "colorbar": {
              "outlinewidth": 0,
              "ticks": ""
             }
            },
            "type": "scatter3d"
           }
          ],
          "scattercarpet": [
           {
            "marker": {
             "colorbar": {
              "outlinewidth": 0,
              "ticks": ""
             }
            },
            "type": "scattercarpet"
           }
          ],
          "scattergeo": [
           {
            "marker": {
             "colorbar": {
              "outlinewidth": 0,
              "ticks": ""
             }
            },
            "type": "scattergeo"
           }
          ],
          "scattergl": [
           {
            "marker": {
             "colorbar": {
              "outlinewidth": 0,
              "ticks": ""
             }
            },
            "type": "scattergl"
           }
          ],
          "scattermapbox": [
           {
            "marker": {
             "colorbar": {
              "outlinewidth": 0,
              "ticks": ""
             }
            },
            "type": "scattermapbox"
           }
          ],
          "scatterpolar": [
           {
            "marker": {
             "colorbar": {
              "outlinewidth": 0,
              "ticks": ""
             }
            },
            "type": "scatterpolar"
           }
          ],
          "scatterpolargl": [
           {
            "marker": {
             "colorbar": {
              "outlinewidth": 0,
              "ticks": ""
             }
            },
            "type": "scatterpolargl"
           }
          ],
          "scatterternary": [
           {
            "marker": {
             "colorbar": {
              "outlinewidth": 0,
              "ticks": ""
             }
            },
            "type": "scatterternary"
           }
          ],
          "surface": [
           {
            "colorbar": {
             "outlinewidth": 0,
             "ticks": ""
            },
            "colorscale": [
             [
              0,
              "#0d0887"
             ],
             [
              0.1111111111111111,
              "#46039f"
             ],
             [
              0.2222222222222222,
              "#7201a8"
             ],
             [
              0.3333333333333333,
              "#9c179e"
             ],
             [
              0.4444444444444444,
              "#bd3786"
             ],
             [
              0.5555555555555556,
              "#d8576b"
             ],
             [
              0.6666666666666666,
              "#ed7953"
             ],
             [
              0.7777777777777778,
              "#fb9f3a"
             ],
             [
              0.8888888888888888,
              "#fdca26"
             ],
             [
              1,
              "#f0f921"
             ]
            ],
            "type": "surface"
           }
          ],
          "table": [
           {
            "cells": {
             "fill": {
              "color": "#EBF0F8"
             },
             "line": {
              "color": "white"
             }
            },
            "header": {
             "fill": {
              "color": "#C8D4E3"
             },
             "line": {
              "color": "white"
             }
            },
            "type": "table"
           }
          ]
         },
         "layout": {
          "annotationdefaults": {
           "arrowcolor": "#2a3f5f",
           "arrowhead": 0,
           "arrowwidth": 1
          },
          "autotypenumbers": "strict",
          "coloraxis": {
           "colorbar": {
            "outlinewidth": 0,
            "ticks": ""
           }
          },
          "colorscale": {
           "diverging": [
            [
             0,
             "#8e0152"
            ],
            [
             0.1,
             "#c51b7d"
            ],
            [
             0.2,
             "#de77ae"
            ],
            [
             0.3,
             "#f1b6da"
            ],
            [
             0.4,
             "#fde0ef"
            ],
            [
             0.5,
             "#f7f7f7"
            ],
            [
             0.6,
             "#e6f5d0"
            ],
            [
             0.7,
             "#b8e186"
            ],
            [
             0.8,
             "#7fbc41"
            ],
            [
             0.9,
             "#4d9221"
            ],
            [
             1,
             "#276419"
            ]
           ],
           "sequential": [
            [
             0,
             "#0d0887"
            ],
            [
             0.1111111111111111,
             "#46039f"
            ],
            [
             0.2222222222222222,
             "#7201a8"
            ],
            [
             0.3333333333333333,
             "#9c179e"
            ],
            [
             0.4444444444444444,
             "#bd3786"
            ],
            [
             0.5555555555555556,
             "#d8576b"
            ],
            [
             0.6666666666666666,
             "#ed7953"
            ],
            [
             0.7777777777777778,
             "#fb9f3a"
            ],
            [
             0.8888888888888888,
             "#fdca26"
            ],
            [
             1,
             "#f0f921"
            ]
           ],
           "sequentialminus": [
            [
             0,
             "#0d0887"
            ],
            [
             0.1111111111111111,
             "#46039f"
            ],
            [
             0.2222222222222222,
             "#7201a8"
            ],
            [
             0.3333333333333333,
             "#9c179e"
            ],
            [
             0.4444444444444444,
             "#bd3786"
            ],
            [
             0.5555555555555556,
             "#d8576b"
            ],
            [
             0.6666666666666666,
             "#ed7953"
            ],
            [
             0.7777777777777778,
             "#fb9f3a"
            ],
            [
             0.8888888888888888,
             "#fdca26"
            ],
            [
             1,
             "#f0f921"
            ]
           ]
          },
          "colorway": [
           "#636efa",
           "#EF553B",
           "#00cc96",
           "#ab63fa",
           "#FFA15A",
           "#19d3f3",
           "#FF6692",
           "#B6E880",
           "#FF97FF",
           "#FECB52"
          ],
          "font": {
           "color": "#2a3f5f"
          },
          "geo": {
           "bgcolor": "white",
           "lakecolor": "white",
           "landcolor": "#E5ECF6",
           "showlakes": true,
           "showland": true,
           "subunitcolor": "white"
          },
          "hoverlabel": {
           "align": "left"
          },
          "hovermode": "closest",
          "mapbox": {
           "style": "light"
          },
          "paper_bgcolor": "white",
          "plot_bgcolor": "#E5ECF6",
          "polar": {
           "angularaxis": {
            "gridcolor": "white",
            "linecolor": "white",
            "ticks": ""
           },
           "bgcolor": "#E5ECF6",
           "radialaxis": {
            "gridcolor": "white",
            "linecolor": "white",
            "ticks": ""
           }
          },
          "scene": {
           "xaxis": {
            "backgroundcolor": "#E5ECF6",
            "gridcolor": "white",
            "gridwidth": 2,
            "linecolor": "white",
            "showbackground": true,
            "ticks": "",
            "zerolinecolor": "white"
           },
           "yaxis": {
            "backgroundcolor": "#E5ECF6",
            "gridcolor": "white",
            "gridwidth": 2,
            "linecolor": "white",
            "showbackground": true,
            "ticks": "",
            "zerolinecolor": "white"
           },
           "zaxis": {
            "backgroundcolor": "#E5ECF6",
            "gridcolor": "white",
            "gridwidth": 2,
            "linecolor": "white",
            "showbackground": true,
            "ticks": "",
            "zerolinecolor": "white"
           }
          },
          "shapedefaults": {
           "line": {
            "color": "#2a3f5f"
           }
          },
          "ternary": {
           "aaxis": {
            "gridcolor": "white",
            "linecolor": "white",
            "ticks": ""
           },
           "baxis": {
            "gridcolor": "white",
            "linecolor": "white",
            "ticks": ""
           },
           "bgcolor": "#E5ECF6",
           "caxis": {
            "gridcolor": "white",
            "linecolor": "white",
            "ticks": ""
           }
          },
          "title": {
           "x": 0.05
          },
          "xaxis": {
           "automargin": true,
           "gridcolor": "white",
           "linecolor": "white",
           "ticks": "",
           "title": {
            "standoff": 15
           },
           "zerolinecolor": "white",
           "zerolinewidth": 2
          },
          "yaxis": {
           "automargin": true,
           "gridcolor": "white",
           "linecolor": "white",
           "ticks": "",
           "title": {
            "standoff": 15
           },
           "zerolinecolor": "white",
           "zerolinewidth": 2
          }
         }
        },
        "xaxis": {
         "anchor": "y",
         "domain": [
          0,
          1
         ],
         "title": {
          "text": "Total"
         }
        },
        "yaxis": {
         "anchor": "x",
         "domain": [
          0,
          1
         ],
         "showgrid": false,
         "showticklabels": false,
         "title": {
          "text": "y"
         }
        }
       }
      }
     },
     "metadata": {},
     "output_type": "display_data"
    },
    {
     "name": "stdout",
     "output_type": "stream",
     "text": [
      "total_medio_pensoes\n",
      "0    159\n",
      "1    119\n",
      "2     30\n",
      "Name: count, dtype: int64\n",
      "File saved to csv_files/6_Valor_Médio_Pensões.csv\n"
     ]
    }
   ],
   "source": [
    "\n",
    "clustered_df = aplicar_kmeans(df_pensoes, 3, nome_cluster='total_medio_pensoes')\n",
    "save_clustered_df_to_csv(clustered_df, \"csv_files/\", \"6_Valor_Médio_Pensões.csv\")"
   ]
  },
  {
   "cell_type": "markdown",
   "id": "b04fa541",
   "metadata": {},
   "source": [
    "#### RSI\n"
   ]
  },
  {
   "cell_type": "code",
   "execution_count": 12,
   "id": "041e3664",
   "metadata": {},
   "outputs": [
    {
     "data": {
      "text/html": [
       "<div>\n",
       "<style scoped>\n",
       "    .dataframe tbody tr th:only-of-type {\n",
       "        vertical-align: middle;\n",
       "    }\n",
       "\n",
       "    .dataframe tbody tr th {\n",
       "        vertical-align: top;\n",
       "    }\n",
       "\n",
       "    .dataframe thead th {\n",
       "        text-align: right;\n",
       "    }\n",
       "</style>\n",
       "<table border=\"1\" class=\"dataframe\">\n",
       "  <thead>\n",
       "    <tr style=\"text-align: right;\">\n",
       "      <th></th>\n",
       "      <th>local</th>\n",
       "      <th>codigo</th>\n",
       "      <th>valor</th>\n",
       "    </tr>\n",
       "  </thead>\n",
       "  <tbody>\n",
       "    <tr>\n",
       "      <th>4</th>\n",
       "      <td>Arcos de Valdevez</td>\n",
       "      <td>1111601</td>\n",
       "      <td>271.0</td>\n",
       "    </tr>\n",
       "    <tr>\n",
       "      <th>5</th>\n",
       "      <td>Caminha</td>\n",
       "      <td>1111602</td>\n",
       "      <td>265.0</td>\n",
       "    </tr>\n",
       "    <tr>\n",
       "      <th>6</th>\n",
       "      <td>Melgaço</td>\n",
       "      <td>1111603</td>\n",
       "      <td>84.0</td>\n",
       "    </tr>\n",
       "    <tr>\n",
       "      <th>7</th>\n",
       "      <td>Monção</td>\n",
       "      <td>1111604</td>\n",
       "      <td>171.0</td>\n",
       "    </tr>\n",
       "    <tr>\n",
       "      <th>8</th>\n",
       "      <td>Paredes de Coura</td>\n",
       "      <td>1111605</td>\n",
       "      <td>113.0</td>\n",
       "    </tr>\n",
       "    <tr>\n",
       "      <th>...</th>\n",
       "      <td>...</td>\n",
       "      <td>...</td>\n",
       "      <td>...</td>\n",
       "    </tr>\n",
       "    <tr>\n",
       "      <th>342</th>\n",
       "      <td>Ribeira Brava</td>\n",
       "      <td>3003107</td>\n",
       "      <td>230.0</td>\n",
       "    </tr>\n",
       "    <tr>\n",
       "      <th>343</th>\n",
       "      <td>Santa Cruz</td>\n",
       "      <td>3003108</td>\n",
       "      <td>550.0</td>\n",
       "    </tr>\n",
       "    <tr>\n",
       "      <th>344</th>\n",
       "      <td>Santana</td>\n",
       "      <td>3003109</td>\n",
       "      <td>252.0</td>\n",
       "    </tr>\n",
       "    <tr>\n",
       "      <th>345</th>\n",
       "      <td>São Vicente</td>\n",
       "      <td>3003110</td>\n",
       "      <td>148.0</td>\n",
       "    </tr>\n",
       "    <tr>\n",
       "      <th>346</th>\n",
       "      <td>Porto Santo</td>\n",
       "      <td>3003201</td>\n",
       "      <td>69.0</td>\n",
       "    </tr>\n",
       "  </tbody>\n",
       "</table>\n",
       "<p>308 rows × 3 columns</p>\n",
       "</div>"
      ],
      "text/plain": [
       "                 local   codigo  valor\n",
       "4    Arcos de Valdevez  1111601  271.0\n",
       "5              Caminha  1111602  265.0\n",
       "6              Melgaço  1111603   84.0\n",
       "7               Monção  1111604  171.0\n",
       "8     Paredes de Coura  1111605  113.0\n",
       "..                 ...      ...    ...\n",
       "342      Ribeira Brava  3003107  230.0\n",
       "343         Santa Cruz  3003108  550.0\n",
       "344            Santana  3003109  252.0\n",
       "345        São Vicente  3003110  148.0\n",
       "346        Porto Santo  3003201   69.0\n",
       "\n",
       "[308 rows x 3 columns]"
      ]
     },
     "execution_count": 12,
     "metadata": {},
     "output_type": "execute_result"
    }
   ],
   "source": [
    "df_rsi = processar_ficheiro(data_path+'Valor processado do rendimento social de inserção.xls',2)\n",
    "df_rsi = carregar_municipios(df_rsi)\n",
    "#save_clustered_df_to_csv( df_rsi.rename(columns={'Total_2022': 'Valor_Processado_RSI'}), \"csv_bruto/\", \"6_Valor_Processado_RSI.csv\")\n",
    "df_rsi\n",
    "\n"
   ]
  },
  {
   "cell_type": "code",
   "execution_count": 13,
   "id": "ddd6dd63",
   "metadata": {},
   "outputs": [
    {
     "data": {
      "application/vnd.plotly.v1+json": {
       "config": {
        "plotlyServerURL": "https://plot.ly"
       },
       "data": [
        {
         "customdata": [
          [
           "Arcos de Valdevez",
           "1111601"
          ],
          [
           "Caminha",
           "1111602"
          ],
          [
           "Melgaço",
           "1111603"
          ],
          [
           "Monção",
           "1111604"
          ],
          [
           "Paredes de Coura",
           "1111605"
          ],
          [
           "Ponte da Barca",
           "1111606"
          ],
          [
           "Ponte de Lima",
           "1111607"
          ],
          [
           "Valença",
           "1111608"
          ],
          [
           "Viana do Castelo",
           "1111609"
          ],
          [
           "Vila Nova de Cerveira",
           "1111610"
          ],
          [
           "Amares",
           "1120301"
          ],
          [
           "Barcelos",
           "1120302"
          ],
          [
           "Braga",
           "1120303"
          ],
          [
           "Esposende",
           "1120306"
          ],
          [
           "Terras de Bouro",
           "1120310"
          ],
          [
           "Vila Verde",
           "1120313"
          ],
          [
           "Cabeceiras de Basto",
           "1190304"
          ],
          [
           "Fafe",
           "1190307"
          ],
          [
           "Guimarães",
           "1190308"
          ],
          [
           "Mondim de Basto",
           "1191705"
          ],
          [
           "Póvoa de Lanhoso",
           "1190309"
          ],
          [
           "Vieira do Minho",
           "1190311"
          ],
          [
           "Vila Nova de Famalicão",
           "1190312"
          ],
          [
           "Vizela",
           "1190314"
          ],
          [
           "Arouca",
           "11A0104"
          ],
          [
           "Espinho",
           "11A0107"
          ],
          [
           "Gondomar",
           "11A1304"
          ],
          [
           "Maia",
           "11A1306"
          ],
          [
           "Matosinhos",
           "11A1308"
          ],
          [
           "Oliveira de Azeméis",
           "11A0113"
          ],
          [
           "Paredes",
           "11A1310"
          ],
          [
           "Porto",
           "11A1312"
          ],
          [
           "Póvoa de Varzim",
           "11A1313"
          ],
          [
           "Santa Maria da Feira",
           "11A0109"
          ],
          [
           "Santo Tirso",
           "11A1314"
          ],
          [
           "São João da Madeira",
           "11A0116"
          ],
          [
           "Trofa",
           "11A1318"
          ],
          [
           "Vale de Cambra",
           "11A0119"
          ],
          [
           "Valongo",
           "11A1315"
          ],
          [
           "Vila do Conde",
           "11A1316"
          ],
          [
           "Vila Nova de Gaia",
           "11A1317"
          ],
          [
           "Boticas",
           "11B1702"
          ],
          [
           "Chaves",
           "11B1703"
          ],
          [
           "Montalegre",
           "11B1706"
          ],
          [
           "Ribeira de Pena",
           "11B1709"
          ],
          [
           "Valpaços",
           "11B1712"
          ],
          [
           "Vila Pouca de Aguiar",
           "11B1713"
          ],
          [
           "Amarante",
           "11C1301"
          ],
          [
           "Baião",
           "11C1302"
          ],
          [
           "Castelo de Paiva",
           "11C0106"
          ],
          [
           "Celorico de Basto",
           "11C0305"
          ],
          [
           "Cinfães",
           "11C1804"
          ],
          [
           "Felgueiras",
           "11C1303"
          ],
          [
           "Lousada",
           "11C1305"
          ],
          [
           "Marco de Canaveses",
           "11C1307"
          ],
          [
           "Paços de Ferreira",
           "11C1309"
          ],
          [
           "Penafiel",
           "11C1311"
          ],
          [
           "Resende",
           "11C1813"
          ],
          [
           "Alijó",
           "11D1701"
          ],
          [
           "Armamar",
           "11D1801"
          ],
          [
           "Carrazeda de Ansiães",
           "11D0403"
          ],
          [
           "Freixo de Espada à Cinta",
           "11D0404"
          ],
          [
           "Lamego",
           "11D1805"
          ],
          [
           "Mesão Frio",
           "11D1704"
          ],
          [
           "Moimenta da Beira",
           "11D1807"
          ],
          [
           "Murça",
           "11D1707"
          ],
          [
           "Penedono",
           "11D1812"
          ],
          [
           "Peso da Régua",
           "11D1708"
          ],
          [
           "Sabrosa",
           "11D1710"
          ],
          [
           "Santa Marta de Penaguião",
           "11D1711"
          ],
          [
           "São João da Pesqueira",
           "11D1815"
          ],
          [
           "Sernancelhe",
           "11D1818"
          ],
          [
           "Tabuaço",
           "11D1819"
          ],
          [
           "Tarouca",
           "11D1820"
          ],
          [
           "Torre de Moncorvo",
           "11D0409"
          ],
          [
           "Vila Nova de Foz Côa",
           "11D0914"
          ],
          [
           "Vila Real",
           "11D1714"
          ],
          [
           "Alfândega da Fé",
           "11E0401"
          ],
          [
           "Bragança",
           "11E0402"
          ],
          [
           "Macedo de Cavaleiros",
           "11E0405"
          ],
          [
           "Miranda do Douro",
           "11E0406"
          ],
          [
           "Mirandela",
           "11E0407"
          ],
          [
           "Mogadouro",
           "11E0408"
          ],
          [
           "Vila Flor",
           "11E0410"
          ],
          [
           "Vimioso",
           "11E0411"
          ],
          [
           "Vinhais",
           "11E0412"
          ],
          [
           "Águeda",
           "1910101"
          ],
          [
           "Albergaria-a-Velha",
           "1910102"
          ],
          [
           "Anadia",
           "1910103"
          ],
          [
           "Aveiro",
           "1910105"
          ],
          [
           "Estarreja",
           "1910108"
          ],
          [
           "Ílhavo",
           "1910110"
          ],
          [
           "Murtosa",
           "1910112"
          ],
          [
           "Oliveira do Bairro",
           "1910114"
          ],
          [
           "Ovar",
           "1910115"
          ],
          [
           "Sever do Vouga",
           "1910117"
          ],
          [
           "Vagos",
           "1910118"
          ],
          [
           "Arganil",
           "1920601"
          ],
          [
           "Cantanhede",
           "1920602"
          ],
          [
           "Coimbra",
           "1920603"
          ],
          [
           "Condeixa-a-Nova",
           "1920604"
          ],
          [
           "Figueira da Foz",
           "1920605"
          ],
          [
           "Góis",
           "1920606"
          ],
          [
           "Lousã",
           "1920607"
          ],
          [
           "Mealhada",
           "1920111"
          ],
          [
           "Mira",
           "1920608"
          ],
          [
           "Miranda do Corvo",
           "1920609"
          ],
          [
           "Montemor-o-Velho",
           "1920610"
          ],
          [
           "Mortágua",
           "1921808"
          ],
          [
           "Oliveira do Hospital",
           "1920611"
          ],
          [
           "Pampilhosa da Serra",
           "1920612"
          ],
          [
           "Penacova",
           "1920613"
          ],
          [
           "Penela",
           "1920614"
          ],
          [
           "Soure",
           "1920615"
          ],
          [
           "Tábua",
           "1920616"
          ],
          [
           "Vila Nova de Poiares",
           "1920617"
          ],
          [
           "Alvaiázere",
           "1931002"
          ],
          [
           "Ansião",
           "1931003"
          ],
          [
           "Batalha",
           "1931004"
          ],
          [
           "Castanheira de Pêra",
           "1931007"
          ],
          [
           "Figueiró dos Vinhos",
           "1931008"
          ],
          [
           "Leiria",
           "1931009"
          ],
          [
           "Marinha Grande",
           "1931010"
          ],
          [
           "Pedrógão Grande",
           "1931013"
          ],
          [
           "Pombal",
           "1931015"
          ],
          [
           "Porto de Mós",
           "1931016"
          ],
          [
           "Aguiar da Beira",
           "1940901"
          ],
          [
           "Carregal do Sal",
           "1941802"
          ],
          [
           "Castro Daire",
           "1941803"
          ],
          [
           "Mangualde",
           "1941806"
          ],
          [
           "Nelas",
           "1941809"
          ],
          [
           "Oliveira de Frades",
           "1941810"
          ],
          [
           "Penalva do Castelo",
           "1941811"
          ],
          [
           "Santa Comba Dão",
           "1941814"
          ],
          [
           "São Pedro do Sul",
           "1941816"
          ],
          [
           "Sátão",
           "1941817"
          ],
          [
           "Tondela",
           "1941821"
          ],
          [
           "Vila Nova de Paiva",
           "1941822"
          ],
          [
           "Viseu",
           "1941823"
          ],
          [
           "Vouzela",
           "1941824"
          ],
          [
           "Castelo Branco",
           "1950502"
          ],
          [
           "Idanha-a-Nova",
           "1950505"
          ],
          [
           "Oleiros",
           "1950506"
          ],
          [
           "Penamacor",
           "1950507"
          ],
          [
           "Proença-a-Nova",
           "1950508"
          ],
          [
           "Sertã",
           "1950509"
          ],
          [
           "Vila de Rei",
           "1950510"
          ],
          [
           "Vila Velha de Ródão",
           "1950511"
          ],
          [
           "Almeida",
           "1960902"
          ],
          [
           "Belmonte",
           "1960501"
          ],
          [
           "Celorico da Beira",
           "1960903"
          ],
          [
           "Covilhã",
           "1960503"
          ],
          [
           "Figueira de Castelo Rodrigo",
           "1960904"
          ],
          [
           "Fornos de Algodres",
           "1960905"
          ],
          [
           "Fundão",
           "1960504"
          ],
          [
           "Gouveia",
           "1960906"
          ],
          [
           "Guarda",
           "1960907"
          ],
          [
           "Manteigas",
           "1960908"
          ],
          [
           "Mêda",
           "1960909"
          ],
          [
           "Pinhel",
           "1960910"
          ],
          [
           "Sabugal",
           "1960911"
          ],
          [
           "Seia",
           "1960912"
          ],
          [
           "Trancoso",
           "1960913"
          ],
          [
           "Alcobaça",
           "1D11001"
          ],
          [
           "Alenquer",
           "1D11101"
          ],
          [
           "Arruda dos Vinhos",
           "1D11102"
          ],
          [
           "Bombarral",
           "1D11005"
          ],
          [
           "Cadaval",
           "1D11104"
          ],
          [
           "Caldas da Rainha",
           "1D11006"
          ],
          [
           "Lourinhã",
           "1D11108"
          ],
          [
           "Nazaré",
           "1D11011"
          ],
          [
           "Óbidos",
           "1D11012"
          ],
          [
           "Peniche",
           "1D11014"
          ],
          [
           "Sobral de Monte Agraço",
           "1D11112"
          ],
          [
           "Torres Vedras",
           "1D11113"
          ],
          [
           "Abrantes",
           "1D21401"
          ],
          [
           "Alcanena",
           "1D21402"
          ],
          [
           "Constância",
           "1D21408"
          ],
          [
           "Entroncamento",
           "1D21410"
          ],
          [
           "Ferreira do Zêzere",
           "1D21411"
          ],
          [
           "Mação",
           "1D21413"
          ],
          [
           "Ourém",
           "1D21421"
          ],
          [
           "Sardoal",
           "1D21417"
          ],
          [
           "Tomar",
           "1D21418"
          ],
          [
           "Torres Novas",
           "1D21419"
          ],
          [
           "Vila Nova da Barquinha",
           "1D21420"
          ],
          [
           "Almeirim",
           "1D31403"
          ],
          [
           "Alpiarça",
           "1D31404"
          ],
          [
           "Azambuja",
           "1D31103"
          ],
          [
           "Benavente",
           "1D31405"
          ],
          [
           "Cartaxo",
           "1D31406"
          ],
          [
           "Chamusca",
           "1D31407"
          ],
          [
           "Coruche",
           "1D31409"
          ],
          [
           "Golegã",
           "1D31412"
          ],
          [
           "Rio Maior",
           "1D31414"
          ],
          [
           "Salvaterra de Magos",
           "1D31415"
          ],
          [
           "Santarém",
           "1D31416"
          ],
          [
           "Amadora",
           "1A01115"
          ],
          [
           "Cascais",
           "1A01105"
          ],
          [
           "Lisboa",
           "1A01106"
          ],
          [
           "Loures",
           "1A01107"
          ],
          [
           "Mafra",
           "1A01109"
          ],
          [
           "Odivelas",
           "1A01116"
          ],
          [
           "Oeiras",
           "1A01110"
          ],
          [
           "Sintra",
           "1A01111"
          ],
          [
           "Vila Franca de Xira",
           "1A01114"
          ],
          [
           "Alcochete",
           "1B01502"
          ],
          [
           "Almada",
           "1B01503"
          ],
          [
           "Barreiro",
           "1B01504"
          ],
          [
           "Moita",
           "1B01506"
          ],
          [
           "Montijo",
           "1B01507"
          ],
          [
           "Palmela",
           "1B01508"
          ],
          [
           "Seixal",
           "1B01510"
          ],
          [
           "Sesimbra",
           "1B01511"
          ],
          [
           "Setúbal",
           "1B01512"
          ],
          [
           "Alcácer do Sal",
           "1C11501"
          ],
          [
           "Grândola",
           "1C11505"
          ],
          [
           "Odemira",
           "1C10211"
          ],
          [
           "Santiago do Cacém",
           "1C11509"
          ],
          [
           "Sines",
           "1C11513"
          ],
          [
           "Aljustrel",
           "1C20201"
          ],
          [
           "Almodôvar",
           "1C20202"
          ],
          [
           "Alvito",
           "1C20203"
          ],
          [
           "Barrancos",
           "1C20204"
          ],
          [
           "Beja",
           "1C20205"
          ],
          [
           "Castro Verde",
           "1C20206"
          ],
          [
           "Cuba",
           "1C20207"
          ],
          [
           "Ferreira do Alentejo",
           "1C20208"
          ],
          [
           "Mértola",
           "1C20209"
          ],
          [
           "Moura",
           "1C20210"
          ],
          [
           "Ourique",
           "1C20212"
          ],
          [
           "Serpa",
           "1C20213"
          ],
          [
           "Vidigueira",
           "1C20214"
          ],
          [
           "Alter do Chão",
           "1C31201"
          ],
          [
           "Arronches",
           "1C31202"
          ],
          [
           "Avis",
           "1C31203"
          ],
          [
           "Campo Maior",
           "1C31204"
          ],
          [
           "Castelo de Vide",
           "1C31205"
          ],
          [
           "Crato",
           "1C31206"
          ],
          [
           "Elvas",
           "1C31207"
          ],
          [
           "Fronteira",
           "1C31208"
          ],
          [
           "Gavião",
           "1C31209"
          ],
          [
           "Marvão",
           "1C31210"
          ],
          [
           "Monforte",
           "1C31211"
          ],
          [
           "Nisa",
           "1C31212"
          ],
          [
           "Ponte de Sor",
           "1C31213"
          ],
          [
           "Portalegre",
           "1C31214"
          ],
          [
           "Sousel",
           "1C31215"
          ],
          [
           "Alandroal",
           "1C40701"
          ],
          [
           "Arraiolos",
           "1C40702"
          ],
          [
           "Borba",
           "1C40703"
          ],
          [
           "Estremoz",
           "1C40704"
          ],
          [
           "Évora",
           "1C40705"
          ],
          [
           "Montemor-o-Novo",
           "1C40706"
          ],
          [
           "Mora",
           "1C40707"
          ],
          [
           "Mourão",
           "1C40708"
          ],
          [
           "Portel",
           "1C40709"
          ],
          [
           "Redondo",
           "1C40710"
          ],
          [
           "Reguengos de Monsaraz",
           "1C40711"
          ],
          [
           "Vendas Novas",
           "1C40712"
          ],
          [
           "Viana do Alentejo",
           "1C40713"
          ],
          [
           "Vila Viçosa",
           "1C40714"
          ],
          [
           "Albufeira",
           "1500801"
          ],
          [
           "Alcoutim",
           "1500802"
          ],
          [
           "Aljezur",
           "1500803"
          ],
          [
           "Castro Marim",
           "1500804"
          ],
          [
           "Faro",
           "1500805"
          ],
          [
           "Lagoa",
           "1500806"
          ],
          [
           "Lagos",
           "1500807"
          ],
          [
           "Loulé",
           "1500808"
          ],
          [
           "Monchique",
           "1500809"
          ],
          [
           "Olhão",
           "1500810"
          ],
          [
           "Portimão",
           "1500811"
          ],
          [
           "São Brás de Alportel",
           "1500812"
          ],
          [
           "Silves",
           "1500813"
          ],
          [
           "Tavira",
           "1500814"
          ],
          [
           "Vila do Bispo",
           "1500815"
          ],
          [
           "Vila Real de Santo António",
           "1500816"
          ],
          [
           "Angra do Heroísmo",
           "2004301"
          ],
          [
           "Calheta (R.A.A.)",
           "2004501"
          ],
          [
           "Corvo",
           "2004901"
          ],
          [
           "Horta",
           "2004701"
          ],
          [
           "Lagoa (R.A.A.)",
           "2004201"
          ],
          [
           "Lajes das Flores",
           "2004801"
          ],
          [
           "Lajes do Pico",
           "2004601"
          ],
          [
           "Madalena",
           "2004602"
          ],
          [
           "Nordeste",
           "2004202"
          ],
          [
           "Ponta Delgada",
           "2004203"
          ],
          [
           "Povoação",
           "2004204"
          ],
          [
           "Ribeira Grande",
           "2004205"
          ],
          [
           "Santa Cruz da Graciosa",
           "2004401"
          ],
          [
           "Santa Cruz das Flores",
           "2004802"
          ],
          [
           "São Roque do Pico",
           "2004603"
          ],
          [
           "Velas",
           "2004502"
          ],
          [
           "Vila da Praia da Vitória",
           "2004302"
          ],
          [
           "Vila do Porto",
           "2004101"
          ],
          [
           "Vila Franca do Campo",
           "2004206"
          ],
          [
           "Calheta (R.A.M.)",
           "3003101"
          ],
          [
           "Câmara de Lobos",
           "3003102"
          ],
          [
           "Funchal",
           "3003103"
          ],
          [
           "Machico",
           "3003104"
          ],
          [
           "Ponta do Sol",
           "3003105"
          ],
          [
           "Porto Moniz",
           "3003106"
          ],
          [
           "Ribeira Brava",
           "3003107"
          ],
          [
           "Santa Cruz",
           "3003108"
          ],
          [
           "Santana",
           "3003109"
          ],
          [
           "São Vicente",
           "3003110"
          ],
          [
           "Porto Santo",
           "3003201"
          ]
         ],
         "hovertemplate": "valor=%{x}<br>y=%{y}<br>local=%{customdata[0]}<br>codigo=%{customdata[1]}<br>valor_rsi=%{marker.color}<extra></extra>",
         "legendgroup": "",
         "marker": {
          "color": [
           0,
           0,
           0,
           0,
           0,
           0,
           0,
           0,
           1,
           0,
           0,
           0,
           1,
           0,
           0,
           0,
           0,
           0,
           1,
           0,
           0,
           0,
           1,
           0,
           0,
           0,
           2,
           2,
           2,
           0,
           1,
           3,
           1,
           1,
           1,
           0,
           0,
           0,
           2,
           1,
           3,
           0,
           1,
           0,
           0,
           0,
           0,
           1,
           0,
           0,
           0,
           0,
           0,
           0,
           1,
           1,
           1,
           0,
           0,
           0,
           0,
           0,
           0,
           0,
           0,
           0,
           0,
           0,
           0,
           0,
           0,
           0,
           0,
           0,
           0,
           0,
           1,
           0,
           0,
           0,
           0,
           0,
           0,
           0,
           0,
           0,
           0,
           0,
           0,
           1,
           0,
           0,
           0,
           0,
           1,
           0,
           0,
           0,
           0,
           2,
           0,
           1,
           0,
           0,
           0,
           0,
           0,
           0,
           0,
           0,
           0,
           0,
           0,
           0,
           0,
           0,
           0,
           0,
           0,
           0,
           0,
           1,
           0,
           0,
           0,
           0,
           0,
           0,
           0,
           0,
           0,
           0,
           0,
           0,
           0,
           0,
           0,
           0,
           1,
           0,
           1,
           0,
           0,
           0,
           0,
           0,
           0,
           0,
           0,
           0,
           0,
           1,
           0,
           0,
           0,
           0,
           0,
           0,
           0,
           0,
           0,
           0,
           0,
           0,
           0,
           0,
           0,
           0,
           0,
           0,
           0,
           0,
           0,
           0,
           0,
           0,
           0,
           0,
           0,
           0,
           0,
           0,
           0,
           0,
           0,
           0,
           0,
           0,
           0,
           0,
           0,
           0,
           0,
           0,
           0,
           0,
           1,
           2,
           2,
           3,
           2,
           0,
           1,
           1,
           2,
           1,
           0,
           2,
           1,
           1,
           1,
           0,
           2,
           1,
           2,
           0,
           0,
           0,
           0,
           0,
           0,
           0,
           0,
           0,
           1,
           0,
           0,
           0,
           0,
           1,
           0,
           0,
           0,
           0,
           0,
           0,
           0,
           0,
           0,
           1,
           0,
           0,
           0,
           0,
           0,
           0,
           0,
           0,
           0,
           0,
           0,
           0,
           1,
           0,
           0,
           0,
           0,
           0,
           0,
           0,
           0,
           0,
           1,
           0,
           0,
           0,
           1,
           0,
           0,
           1,
           0,
           0,
           1,
           0,
           0,
           0,
           0,
           0,
           0,
           0,
           0,
           0,
           0,
           0,
           0,
           0,
           0,
           2,
           0,
           1,
           0,
           0,
           0,
           0,
           0,
           0,
           0,
           0,
           0,
           1,
           0,
           0,
           0,
           0,
           0,
           0,
           0,
           0
          ],
          "coloraxis": "coloraxis",
          "size": 10,
          "symbol": "circle"
         },
         "mode": "markers",
         "name": "",
         "orientation": "v",
         "showlegend": false,
         "type": "scatter",
         "x": [
          -0.31989861990971513,
          -0.32237546191404376,
          -0.3970935290446236,
          -0.3611793199818587,
          -0.38512212602370194,
          -0.3694354599962874,
          -0.27531546383180006,
          -0.2550879207964497,
          0.32242907321283876,
          -0.3776916000107161,
          -0.31783458490610794,
          -0.16138073163268385,
          0.7847729140208466,
          -0.304624760883022,
          -0.40617528306049516,
          -0.2699489728224214,
          -0.26705932381737135,
          -0.1518861706160908,
          0.2592696021024591,
          -0.35581282897248,
          -0.30627598888590774,
          -0.320724233911158,
          0.4128338063708331,
          -0.36159212698258014,
          -0.304624760883022,
          0.011998208670319132,
          2.495445125010476,
          1.5311279713252022,
          2.589565121174963,
          -0.10606459353601146,
          0.750097125960246,
          7.79588701427371,
          0.34265661624818905,
          0.8157334390749543,
          0.30880644218903136,
          -0.20555108070987746,
          -0.08872669950571116,
          -0.311229672894565,
          1.3730228900488923,
          0.19404609598847225,
          6.235063744545961,
          -0.38429651202225906,
          0.25349030409235895,
          -0.3083400238895149,
          -0.32113704091187945,
          -0.11555915455260447,
          -0.2798563408397359,
          0.4264564373946405,
          -0.011944597371524136,
          -0.3000838838750862,
          -0.20802792271420606,
          -0.049097227436453346,
          0.023143997689797895,
          -0.08748827850354686,
          0.5461704676038568,
          0.2283090770483514,
          0.4194387183823761,
          -0.21587125572791335,
          -0.19646932669400585,
          -0.3661330039905159,
          -0.3533359869681514,
          -0.3426030049493941,
          0.028097681698455123,
          -0.35828967097680864,
          -0.11184389154611156,
          -0.28563563884983595,
          -0.37934282801360186,
          0.03140013770422661,
          -0.34920791696093706,
          -0.21793529073152051,
          -0.3694354599962874,
          -0.34590546095516556,
          -0.301735111877972,
          -0.2967814278693147,
          -0.3578768639760872,
          -0.37356353000350173,
          0.4726908214754413,
          -0.34384142595155837,
          0.0016780336522832409,
          -0.1514733636153694,
          -0.36984826699700885,
          -0.1134951195489973,
          -0.2687105518202571,
          -0.3776916000107161,
          -0.3826452840193733,
          -0.2687105518202571,
          -0.09822126052230418,
          -0.21834809773224195,
          -0.29843265587220047,
          0.3414181952460248,
          0.04419715472659111,
          -0.020613544386674284,
          -0.404111248056888,
          -0.19316687068823438,
          0.170103289946629,
          -0.3764531790085518,
          -0.28976370885705033,
          -0.34219019794867267,
          -0.16468318763845533,
          1.5567220053699313,
          -0.3714994949998946,
          0.5346118715836566,
          -0.3991575640482308,
          -0.2348603777610994,
          -0.3285675669248653,
          -0.3636561619861873,
          -0.3372365139400154,
          -0.2943045858649861,
          -0.3921398450359664,
          -0.2798563408397359,
          -0.3921398450359664,
          -0.35251037296670856,
          -0.39998317804967365,
          -0.320724233911158,
          -0.29513019986642897,
          -0.38429651202225906,
          -0.35952809197897295,
          -0.31453212890033644,
          -0.33847493494217973,
          -0.3942038800395735,
          -0.362417740984023,
          0.6014866057005293,
          0.07350645177781304,
          -0.362417740984023,
          0.026446453695569378,
          -0.27242581482675005,
          -0.39337826603813064,
          -0.3442542329522798,
          -0.23981406176975661,
          -0.18614915167597,
          -0.2934789718635432,
          -0.3983319500467879,
          -0.36902265299556597,
          -0.3066887958866292,
          -0.311229672894565,
          -0.26705932381737135,
          -0.26210563980871415,
          -0.3970935290446236,
          0.9965429053909431,
          -0.3950294940410164,
          0.20147662200145808,
          -0.12464090856847607,
          -0.40700089706193804,
          -0.36035370598041583,
          -0.3859477400251448,
          -0.27655388483396437,
          -0.41443142307492387,
          -0.40287282705472366,
          -0.37686598600927323,
          -0.32485230391837233,
          -0.34466703995300124,
          0.18702837697620783,
          -0.32485230391837233,
          -0.3776916000107161,
          0.03511540071071953,
          -0.25550072779717115,
          0.09414680181388482,
          -0.39544230104173783,
          -0.40122159905183796,
          -0.37397633700422317,
          -0.2914149368599361,
          -0.096157225518697,
          -0.37356353000350173,
          -0.0879010855042683,
          -0.11184389154611156,
          -0.3640689689869087,
          -0.3661330039905159,
          -0.35251037296670856,
          -0.21091757171925613,
          -0.18449792367308424,
          -0.3669586179919588,
          -0.3847093190229805,
          -0.24022686877047805,
          -0.3743891440049446,
          0.06690153976627007,
          0.07639610078286309,
          -0.35251037296670856,
          -0.3764531790085518,
          -0.19151564268534862,
          -0.36860984599484453,
          -0.3847093190229805,
          -0.18325950267091992,
          -0.3950294940410164,
          -0.006578106362145472,
          -0.17170090665071971,
          -0.33847493494217973,
          -0.22742985174811353,
          -0.3962679150431807,
          -0.19110283568462721,
          -0.11060547054394725,
          -0.2988454628729219,
          -0.3752147580063875,
          -0.16592160864061964,
          -0.3913142310345235,
          -0.28274598984478594,
          -0.2431165177755281,
          0.22789627004762997,
          1.7292753316714913,
          1.7164783146491267,
          10.716496544377867,
          2.2007009264953705,
          0.0016780336522832409,
          1.0832323755424447,
          0.5362630995865424,
          2.8459182686229747,
          0.8755904541795625,
          -0.27160020082530717,
          2.9937031748812486,
          1.0976806205676948,
          1.1022214975756306,
          0.48383661049492005,
          -0.023090386391002898,
          1.830413046848243,
          0.19156925398414362,
          1.5476402513540597,
          -0.36860984599484453,
          -0.3153577429017793,
          -0.2488958157856282,
          -0.31164247989528643,
          -0.26829774481953567,
          -0.21174318572069897,
          -0.3776916000107161,
          -0.39337826603813064,
          -0.4065880900612166,
          0.38435012332105406,
          -0.3772787930099947,
          -0.2963686208685933,
          -0.3289803739255867,
          -0.3516847589652657,
          0.4252180163924762,
          -0.3983319500467879,
          0.007044524661661904,
          -0.2699489728224214,
          -0.3545744079703157,
          -0.423100370090074,
          -0.29719423487003616,
          -0.22288897474017774,
          -0.4156698440770882,
          -0.3681970389941231,
          0.20684311301083674,
          -0.413605809073481,
          -0.3970935290446236,
          -0.4008087920511165,
          -0.2530238857928426,
          -0.35251037296670856,
          -0.26375686781159985,
          -0.21793529073152051,
          -0.3516847589652657,
          -0.410716160068431,
          -0.40700089706193804,
          -0.27737949883540725,
          -0.18449792367308424,
          0.1482245189083929,
          -0.36324335498546584,
          -0.4065880900612166,
          -0.2592159908036641,
          -0.3537487939688728,
          -0.3475566889580513,
          -0.17665459065937694,
          -0.33888774194290117,
          -0.3628305479847444,
          -0.39172703803524495,
          0.21509925302526547,
          -0.41732107207997393,
          -0.37356353000350173,
          -0.32815475992414384,
          0.5870383606752789,
          -0.09945968152446849,
          -0.10977985654250438,
          0.44750959443143373,
          -0.38842458202947344,
          0.037179435714326706,
          0.81160536906774,
          -0.32732914592270096,
          -0.1551886266218623,
          -0.23940125476903518,
          -0.3995703710489522,
          -0.2488958157856282,
          -0.03258494740759592,
          -0.4181466860814168,
          -0.42805405409873126,
          -0.3310444089291939,
          -0.08666266450210398,
          -0.42227475608863113,
          -0.41154177406987386,
          -0.38223247701865193,
          -0.29389177886426465,
          1.5909849864298105,
          -0.2744898498303572,
          0.8859106291975983,
          -0.3372365139400154,
          -0.41443142307492387,
          -0.410716160068431,
          -0.39998317804967365,
          -0.17500336265649122,
          -0.3950294940410164,
          -0.25673914879933546,
          -0.29017651585777177,
          -0.14610687260599073,
          1.0733250075251302,
          -0.25756476280077834,
          -0.3351724789364082,
          -0.40947773906626667,
          -0.336823706939294,
          -0.20472546670843458,
          -0.3277419529234224,
          -0.3706738809984517,
          -0.4032856340554451
         ],
         "xaxis": "x",
         "y": [
          0,
          0,
          0,
          0,
          0,
          0,
          0,
          0,
          0,
          0,
          0,
          0,
          0,
          0,
          0,
          0,
          0,
          0,
          0,
          0,
          0,
          0,
          0,
          0,
          0,
          0,
          0,
          0,
          0,
          0,
          0,
          0,
          0,
          0,
          0,
          0,
          0,
          0,
          0,
          0,
          0,
          0,
          0,
          0,
          0,
          0,
          0,
          0,
          0,
          0,
          0,
          0,
          0,
          0,
          0,
          0,
          0,
          0,
          0,
          0,
          0,
          0,
          0,
          0,
          0,
          0,
          0,
          0,
          0,
          0,
          0,
          0,
          0,
          0,
          0,
          0,
          0,
          0,
          0,
          0,
          0,
          0,
          0,
          0,
          0,
          0,
          0,
          0,
          0,
          0,
          0,
          0,
          0,
          0,
          0,
          0,
          0,
          0,
          0,
          0,
          0,
          0,
          0,
          0,
          0,
          0,
          0,
          0,
          0,
          0,
          0,
          0,
          0,
          0,
          0,
          0,
          0,
          0,
          0,
          0,
          0,
          0,
          0,
          0,
          0,
          0,
          0,
          0,
          0,
          0,
          0,
          0,
          0,
          0,
          0,
          0,
          0,
          0,
          0,
          0,
          0,
          0,
          0,
          0,
          0,
          0,
          0,
          0,
          0,
          0,
          0,
          0,
          0,
          0,
          0,
          0,
          0,
          0,
          0,
          0,
          0,
          0,
          0,
          0,
          0,
          0,
          0,
          0,
          0,
          0,
          0,
          0,
          0,
          0,
          0,
          0,
          0,
          0,
          0,
          0,
          0,
          0,
          0,
          0,
          0,
          0,
          0,
          0,
          0,
          0,
          0,
          0,
          0,
          0,
          0,
          0,
          0,
          0,
          0,
          0,
          0,
          0,
          0,
          0,
          0,
          0,
          0,
          0,
          0,
          0,
          0,
          0,
          0,
          0,
          0,
          0,
          0,
          0,
          0,
          0,
          0,
          0,
          0,
          0,
          0,
          0,
          0,
          0,
          0,
          0,
          0,
          0,
          0,
          0,
          0,
          0,
          0,
          0,
          0,
          0,
          0,
          0,
          0,
          0,
          0,
          0,
          0,
          0,
          0,
          0,
          0,
          0,
          0,
          0,
          0,
          0,
          0,
          0,
          0,
          0,
          0,
          0,
          0,
          0,
          0,
          0,
          0,
          0,
          0,
          0,
          0,
          0,
          0,
          0,
          0,
          0,
          0,
          0,
          0,
          0,
          0,
          0,
          0,
          0,
          0,
          0,
          0,
          0,
          0,
          0,
          0,
          0,
          0,
          0,
          0,
          0,
          0,
          0,
          0,
          0,
          0,
          0,
          0,
          0,
          0,
          0,
          0,
          0
         ],
         "yaxis": "y"
        }
       ],
       "layout": {
        "coloraxis": {
         "colorbar": {
          "title": {
           "text": "valor_rsi"
          }
         },
         "colorscale": [
          [
           0,
           "#440154"
          ],
          [
           0.1111111111111111,
           "#482878"
          ],
          [
           0.2222222222222222,
           "#3e4989"
          ],
          [
           0.3333333333333333,
           "#31688e"
          ],
          [
           0.4444444444444444,
           "#26828e"
          ],
          [
           0.5555555555555556,
           "#1f9e89"
          ],
          [
           0.6666666666666666,
           "#35b779"
          ],
          [
           0.7777777777777778,
           "#6ece58"
          ],
          [
           0.8888888888888888,
           "#b5de2b"
          ],
          [
           1,
           "#fde725"
          ]
         ]
        },
        "height": 300,
        "legend": {
         "tracegroupgap": 0
        },
        "margin": {
         "t": 60
        },
        "template": {
         "data": {
          "bar": [
           {
            "error_x": {
             "color": "#2a3f5f"
            },
            "error_y": {
             "color": "#2a3f5f"
            },
            "marker": {
             "line": {
              "color": "#E5ECF6",
              "width": 0.5
             },
             "pattern": {
              "fillmode": "overlay",
              "size": 10,
              "solidity": 0.2
             }
            },
            "type": "bar"
           }
          ],
          "barpolar": [
           {
            "marker": {
             "line": {
              "color": "#E5ECF6",
              "width": 0.5
             },
             "pattern": {
              "fillmode": "overlay",
              "size": 10,
              "solidity": 0.2
             }
            },
            "type": "barpolar"
           }
          ],
          "carpet": [
           {
            "aaxis": {
             "endlinecolor": "#2a3f5f",
             "gridcolor": "white",
             "linecolor": "white",
             "minorgridcolor": "white",
             "startlinecolor": "#2a3f5f"
            },
            "baxis": {
             "endlinecolor": "#2a3f5f",
             "gridcolor": "white",
             "linecolor": "white",
             "minorgridcolor": "white",
             "startlinecolor": "#2a3f5f"
            },
            "type": "carpet"
           }
          ],
          "choropleth": [
           {
            "colorbar": {
             "outlinewidth": 0,
             "ticks": ""
            },
            "type": "choropleth"
           }
          ],
          "contour": [
           {
            "colorbar": {
             "outlinewidth": 0,
             "ticks": ""
            },
            "colorscale": [
             [
              0,
              "#0d0887"
             ],
             [
              0.1111111111111111,
              "#46039f"
             ],
             [
              0.2222222222222222,
              "#7201a8"
             ],
             [
              0.3333333333333333,
              "#9c179e"
             ],
             [
              0.4444444444444444,
              "#bd3786"
             ],
             [
              0.5555555555555556,
              "#d8576b"
             ],
             [
              0.6666666666666666,
              "#ed7953"
             ],
             [
              0.7777777777777778,
              "#fb9f3a"
             ],
             [
              0.8888888888888888,
              "#fdca26"
             ],
             [
              1,
              "#f0f921"
             ]
            ],
            "type": "contour"
           }
          ],
          "contourcarpet": [
           {
            "colorbar": {
             "outlinewidth": 0,
             "ticks": ""
            },
            "type": "contourcarpet"
           }
          ],
          "heatmap": [
           {
            "colorbar": {
             "outlinewidth": 0,
             "ticks": ""
            },
            "colorscale": [
             [
              0,
              "#0d0887"
             ],
             [
              0.1111111111111111,
              "#46039f"
             ],
             [
              0.2222222222222222,
              "#7201a8"
             ],
             [
              0.3333333333333333,
              "#9c179e"
             ],
             [
              0.4444444444444444,
              "#bd3786"
             ],
             [
              0.5555555555555556,
              "#d8576b"
             ],
             [
              0.6666666666666666,
              "#ed7953"
             ],
             [
              0.7777777777777778,
              "#fb9f3a"
             ],
             [
              0.8888888888888888,
              "#fdca26"
             ],
             [
              1,
              "#f0f921"
             ]
            ],
            "type": "heatmap"
           }
          ],
          "heatmapgl": [
           {
            "colorbar": {
             "outlinewidth": 0,
             "ticks": ""
            },
            "colorscale": [
             [
              0,
              "#0d0887"
             ],
             [
              0.1111111111111111,
              "#46039f"
             ],
             [
              0.2222222222222222,
              "#7201a8"
             ],
             [
              0.3333333333333333,
              "#9c179e"
             ],
             [
              0.4444444444444444,
              "#bd3786"
             ],
             [
              0.5555555555555556,
              "#d8576b"
             ],
             [
              0.6666666666666666,
              "#ed7953"
             ],
             [
              0.7777777777777778,
              "#fb9f3a"
             ],
             [
              0.8888888888888888,
              "#fdca26"
             ],
             [
              1,
              "#f0f921"
             ]
            ],
            "type": "heatmapgl"
           }
          ],
          "histogram": [
           {
            "marker": {
             "pattern": {
              "fillmode": "overlay",
              "size": 10,
              "solidity": 0.2
             }
            },
            "type": "histogram"
           }
          ],
          "histogram2d": [
           {
            "colorbar": {
             "outlinewidth": 0,
             "ticks": ""
            },
            "colorscale": [
             [
              0,
              "#0d0887"
             ],
             [
              0.1111111111111111,
              "#46039f"
             ],
             [
              0.2222222222222222,
              "#7201a8"
             ],
             [
              0.3333333333333333,
              "#9c179e"
             ],
             [
              0.4444444444444444,
              "#bd3786"
             ],
             [
              0.5555555555555556,
              "#d8576b"
             ],
             [
              0.6666666666666666,
              "#ed7953"
             ],
             [
              0.7777777777777778,
              "#fb9f3a"
             ],
             [
              0.8888888888888888,
              "#fdca26"
             ],
             [
              1,
              "#f0f921"
             ]
            ],
            "type": "histogram2d"
           }
          ],
          "histogram2dcontour": [
           {
            "colorbar": {
             "outlinewidth": 0,
             "ticks": ""
            },
            "colorscale": [
             [
              0,
              "#0d0887"
             ],
             [
              0.1111111111111111,
              "#46039f"
             ],
             [
              0.2222222222222222,
              "#7201a8"
             ],
             [
              0.3333333333333333,
              "#9c179e"
             ],
             [
              0.4444444444444444,
              "#bd3786"
             ],
             [
              0.5555555555555556,
              "#d8576b"
             ],
             [
              0.6666666666666666,
              "#ed7953"
             ],
             [
              0.7777777777777778,
              "#fb9f3a"
             ],
             [
              0.8888888888888888,
              "#fdca26"
             ],
             [
              1,
              "#f0f921"
             ]
            ],
            "type": "histogram2dcontour"
           }
          ],
          "mesh3d": [
           {
            "colorbar": {
             "outlinewidth": 0,
             "ticks": ""
            },
            "type": "mesh3d"
           }
          ],
          "parcoords": [
           {
            "line": {
             "colorbar": {
              "outlinewidth": 0,
              "ticks": ""
             }
            },
            "type": "parcoords"
           }
          ],
          "pie": [
           {
            "automargin": true,
            "type": "pie"
           }
          ],
          "scatter": [
           {
            "fillpattern": {
             "fillmode": "overlay",
             "size": 10,
             "solidity": 0.2
            },
            "type": "scatter"
           }
          ],
          "scatter3d": [
           {
            "line": {
             "colorbar": {
              "outlinewidth": 0,
              "ticks": ""
             }
            },
            "marker": {
             "colorbar": {
              "outlinewidth": 0,
              "ticks": ""
             }
            },
            "type": "scatter3d"
           }
          ],
          "scattercarpet": [
           {
            "marker": {
             "colorbar": {
              "outlinewidth": 0,
              "ticks": ""
             }
            },
            "type": "scattercarpet"
           }
          ],
          "scattergeo": [
           {
            "marker": {
             "colorbar": {
              "outlinewidth": 0,
              "ticks": ""
             }
            },
            "type": "scattergeo"
           }
          ],
          "scattergl": [
           {
            "marker": {
             "colorbar": {
              "outlinewidth": 0,
              "ticks": ""
             }
            },
            "type": "scattergl"
           }
          ],
          "scattermapbox": [
           {
            "marker": {
             "colorbar": {
              "outlinewidth": 0,
              "ticks": ""
             }
            },
            "type": "scattermapbox"
           }
          ],
          "scatterpolar": [
           {
            "marker": {
             "colorbar": {
              "outlinewidth": 0,
              "ticks": ""
             }
            },
            "type": "scatterpolar"
           }
          ],
          "scatterpolargl": [
           {
            "marker": {
             "colorbar": {
              "outlinewidth": 0,
              "ticks": ""
             }
            },
            "type": "scatterpolargl"
           }
          ],
          "scatterternary": [
           {
            "marker": {
             "colorbar": {
              "outlinewidth": 0,
              "ticks": ""
             }
            },
            "type": "scatterternary"
           }
          ],
          "surface": [
           {
            "colorbar": {
             "outlinewidth": 0,
             "ticks": ""
            },
            "colorscale": [
             [
              0,
              "#0d0887"
             ],
             [
              0.1111111111111111,
              "#46039f"
             ],
             [
              0.2222222222222222,
              "#7201a8"
             ],
             [
              0.3333333333333333,
              "#9c179e"
             ],
             [
              0.4444444444444444,
              "#bd3786"
             ],
             [
              0.5555555555555556,
              "#d8576b"
             ],
             [
              0.6666666666666666,
              "#ed7953"
             ],
             [
              0.7777777777777778,
              "#fb9f3a"
             ],
             [
              0.8888888888888888,
              "#fdca26"
             ],
             [
              1,
              "#f0f921"
             ]
            ],
            "type": "surface"
           }
          ],
          "table": [
           {
            "cells": {
             "fill": {
              "color": "#EBF0F8"
             },
             "line": {
              "color": "white"
             }
            },
            "header": {
             "fill": {
              "color": "#C8D4E3"
             },
             "line": {
              "color": "white"
             }
            },
            "type": "table"
           }
          ]
         },
         "layout": {
          "annotationdefaults": {
           "arrowcolor": "#2a3f5f",
           "arrowhead": 0,
           "arrowwidth": 1
          },
          "autotypenumbers": "strict",
          "coloraxis": {
           "colorbar": {
            "outlinewidth": 0,
            "ticks": ""
           }
          },
          "colorscale": {
           "diverging": [
            [
             0,
             "#8e0152"
            ],
            [
             0.1,
             "#c51b7d"
            ],
            [
             0.2,
             "#de77ae"
            ],
            [
             0.3,
             "#f1b6da"
            ],
            [
             0.4,
             "#fde0ef"
            ],
            [
             0.5,
             "#f7f7f7"
            ],
            [
             0.6,
             "#e6f5d0"
            ],
            [
             0.7,
             "#b8e186"
            ],
            [
             0.8,
             "#7fbc41"
            ],
            [
             0.9,
             "#4d9221"
            ],
            [
             1,
             "#276419"
            ]
           ],
           "sequential": [
            [
             0,
             "#0d0887"
            ],
            [
             0.1111111111111111,
             "#46039f"
            ],
            [
             0.2222222222222222,
             "#7201a8"
            ],
            [
             0.3333333333333333,
             "#9c179e"
            ],
            [
             0.4444444444444444,
             "#bd3786"
            ],
            [
             0.5555555555555556,
             "#d8576b"
            ],
            [
             0.6666666666666666,
             "#ed7953"
            ],
            [
             0.7777777777777778,
             "#fb9f3a"
            ],
            [
             0.8888888888888888,
             "#fdca26"
            ],
            [
             1,
             "#f0f921"
            ]
           ],
           "sequentialminus": [
            [
             0,
             "#0d0887"
            ],
            [
             0.1111111111111111,
             "#46039f"
            ],
            [
             0.2222222222222222,
             "#7201a8"
            ],
            [
             0.3333333333333333,
             "#9c179e"
            ],
            [
             0.4444444444444444,
             "#bd3786"
            ],
            [
             0.5555555555555556,
             "#d8576b"
            ],
            [
             0.6666666666666666,
             "#ed7953"
            ],
            [
             0.7777777777777778,
             "#fb9f3a"
            ],
            [
             0.8888888888888888,
             "#fdca26"
            ],
            [
             1,
             "#f0f921"
            ]
           ]
          },
          "colorway": [
           "#636efa",
           "#EF553B",
           "#00cc96",
           "#ab63fa",
           "#FFA15A",
           "#19d3f3",
           "#FF6692",
           "#B6E880",
           "#FF97FF",
           "#FECB52"
          ],
          "font": {
           "color": "#2a3f5f"
          },
          "geo": {
           "bgcolor": "white",
           "lakecolor": "white",
           "landcolor": "#E5ECF6",
           "showlakes": true,
           "showland": true,
           "subunitcolor": "white"
          },
          "hoverlabel": {
           "align": "left"
          },
          "hovermode": "closest",
          "mapbox": {
           "style": "light"
          },
          "paper_bgcolor": "white",
          "plot_bgcolor": "#E5ECF6",
          "polar": {
           "angularaxis": {
            "gridcolor": "white",
            "linecolor": "white",
            "ticks": ""
           },
           "bgcolor": "#E5ECF6",
           "radialaxis": {
            "gridcolor": "white",
            "linecolor": "white",
            "ticks": ""
           }
          },
          "scene": {
           "xaxis": {
            "backgroundcolor": "#E5ECF6",
            "gridcolor": "white",
            "gridwidth": 2,
            "linecolor": "white",
            "showbackground": true,
            "ticks": "",
            "zerolinecolor": "white"
           },
           "yaxis": {
            "backgroundcolor": "#E5ECF6",
            "gridcolor": "white",
            "gridwidth": 2,
            "linecolor": "white",
            "showbackground": true,
            "ticks": "",
            "zerolinecolor": "white"
           },
           "zaxis": {
            "backgroundcolor": "#E5ECF6",
            "gridcolor": "white",
            "gridwidth": 2,
            "linecolor": "white",
            "showbackground": true,
            "ticks": "",
            "zerolinecolor": "white"
           }
          },
          "shapedefaults": {
           "line": {
            "color": "#2a3f5f"
           }
          },
          "ternary": {
           "aaxis": {
            "gridcolor": "white",
            "linecolor": "white",
            "ticks": ""
           },
           "baxis": {
            "gridcolor": "white",
            "linecolor": "white",
            "ticks": ""
           },
           "bgcolor": "#E5ECF6",
           "caxis": {
            "gridcolor": "white",
            "linecolor": "white",
            "ticks": ""
           }
          },
          "title": {
           "x": 0.05
          },
          "xaxis": {
           "automargin": true,
           "gridcolor": "white",
           "linecolor": "white",
           "ticks": "",
           "title": {
            "standoff": 15
           },
           "zerolinecolor": "white",
           "zerolinewidth": 2
          },
          "yaxis": {
           "automargin": true,
           "gridcolor": "white",
           "linecolor": "white",
           "ticks": "",
           "title": {
            "standoff": 15
           },
           "zerolinecolor": "white",
           "zerolinewidth": 2
          }
         }
        },
        "xaxis": {
         "anchor": "y",
         "domain": [
          0,
          1
         ],
         "title": {
          "text": "valor"
         }
        },
        "yaxis": {
         "anchor": "x",
         "domain": [
          0,
          1
         ],
         "showgrid": false,
         "showticklabels": false,
         "title": {
          "text": "y"
         }
        }
       }
      }
     },
     "metadata": {},
     "output_type": "display_data"
    },
    {
     "name": "stdout",
     "output_type": "stream",
     "text": [
      "valor_rsi\n",
      "0    252\n",
      "1     40\n",
      "2     13\n",
      "3      3\n",
      "Name: count, dtype: int64\n",
      "File saved to csv_files/6_Valor_Processado_RSI.csv\n"
     ]
    }
   ],
   "source": [
    "clustered_df = aplicar_kmeans(df_rsi, 4, nome_cluster='valor_rsi')\n",
    "save_clustered_df_to_csv(clustered_df, \"csv_files/\", \"6_Valor_Processado_RSI.csv\")"
   ]
  }
 ],
 "metadata": {
  "kernelspec": {
   "display_name": "base",
   "language": "python",
   "name": "python3"
  },
  "language_info": {
   "codemirror_mode": {
    "name": "ipython",
    "version": 3
   },
   "file_extension": ".py",
   "mimetype": "text/x-python",
   "name": "python",
   "nbconvert_exporter": "python",
   "pygments_lexer": "ipython3",
   "version": "3.11.5"
  }
 },
 "nbformat": 4,
 "nbformat_minor": 5
}
