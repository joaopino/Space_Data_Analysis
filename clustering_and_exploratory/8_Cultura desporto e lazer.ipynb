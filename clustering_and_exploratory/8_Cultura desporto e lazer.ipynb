{
 "cells": [
  {
   "cell_type": "markdown",
   "id": "f8524855-42c1-493b-8982-38289b4ce992",
   "metadata": {},
   "source": [
    "# Análise dos fatores de Cultura desporto e lazer"
   ]
  },
  {
   "cell_type": "code",
   "execution_count": 9,
   "id": "ab6f054b-b992-452e-bfdb-4fc5f095e43a",
   "metadata": {},
   "outputs": [],
   "source": [
    "import pandas as pd\n",
    "import os\n",
    "import pandas as pd\n",
    "from sklearn.preprocessing import StandardScaler\n",
    "from sklearn.cluster import KMeans\n",
    "import plotly.express as px\n",
    "import numpy as np\n",
    "import matplotlib.pyplot as plt\n",
    "from auxiliary.auxiliary_funcs import processar_ficheiro,carregar_municipios,aplicar_kmeans,elbow_rule, save_clustered_df_to_csv,filter_for_only_municipalities\n",
    "data_path ='../data/dados_municipio/Cultura, Desporto e Lazer (7)/'"
   ]
  },
  {
   "cell_type": "markdown",
   "id": "be2e1a54-4747-48b4-9539-51007a7bdd9d",
   "metadata": {},
   "source": [
    "**Bens imoveis**"
   ]
  },
  {
   "cell_type": "code",
   "execution_count": 10,
   "id": "e620bdd9-7e9d-4a55-83c5-8a73b956b128",
   "metadata": {},
   "outputs": [
    {
     "data": {
      "text/html": [
       "<div>\n",
       "<style scoped>\n",
       "    .dataframe tbody tr th:only-of-type {\n",
       "        vertical-align: middle;\n",
       "    }\n",
       "\n",
       "    .dataframe tbody tr th {\n",
       "        vertical-align: top;\n",
       "    }\n",
       "\n",
       "    .dataframe thead th {\n",
       "        text-align: right;\n",
       "    }\n",
       "</style>\n",
       "<table border=\"1\" class=\"dataframe\">\n",
       "  <thead>\n",
       "    <tr style=\"text-align: right;\">\n",
       "      <th></th>\n",
       "      <th>local</th>\n",
       "      <th>codigo</th>\n",
       "      <th>Bens imóveis culturais</th>\n",
       "    </tr>\n",
       "  </thead>\n",
       "  <tbody>\n",
       "    <tr>\n",
       "      <th>4</th>\n",
       "      <td>Arcos de Valdevez</td>\n",
       "      <td>1111601</td>\n",
       "      <td>29.0</td>\n",
       "    </tr>\n",
       "    <tr>\n",
       "      <th>5</th>\n",
       "      <td>Caminha</td>\n",
       "      <td>1111602</td>\n",
       "      <td>20.0</td>\n",
       "    </tr>\n",
       "    <tr>\n",
       "      <th>6</th>\n",
       "      <td>Melgaço</td>\n",
       "      <td>1111603</td>\n",
       "      <td>23.0</td>\n",
       "    </tr>\n",
       "    <tr>\n",
       "      <th>7</th>\n",
       "      <td>Monção</td>\n",
       "      <td>1111604</td>\n",
       "      <td>13.0</td>\n",
       "    </tr>\n",
       "    <tr>\n",
       "      <th>8</th>\n",
       "      <td>Paredes de Coura</td>\n",
       "      <td>1111605</td>\n",
       "      <td>9.0</td>\n",
       "    </tr>\n",
       "    <tr>\n",
       "      <th>...</th>\n",
       "      <td>...</td>\n",
       "      <td>...</td>\n",
       "      <td>...</td>\n",
       "    </tr>\n",
       "    <tr>\n",
       "      <th>339</th>\n",
       "      <td>Porto Santo</td>\n",
       "      <td>3003201</td>\n",
       "      <td>4.0</td>\n",
       "    </tr>\n",
       "    <tr>\n",
       "      <th>340</th>\n",
       "      <td>Ribeira Brava</td>\n",
       "      <td>3003107</td>\n",
       "      <td>5.0</td>\n",
       "    </tr>\n",
       "    <tr>\n",
       "      <th>341</th>\n",
       "      <td>Santa Cruz</td>\n",
       "      <td>3003108</td>\n",
       "      <td>15.0</td>\n",
       "    </tr>\n",
       "    <tr>\n",
       "      <th>342</th>\n",
       "      <td>Santana</td>\n",
       "      <td>3003109</td>\n",
       "      <td>7.0</td>\n",
       "    </tr>\n",
       "    <tr>\n",
       "      <th>343</th>\n",
       "      <td>São Vicente</td>\n",
       "      <td>3003110</td>\n",
       "      <td>7.0</td>\n",
       "    </tr>\n",
       "  </tbody>\n",
       "</table>\n",
       "<p>308 rows × 3 columns</p>\n",
       "</div>"
      ],
      "text/plain": [
       "                 local   codigo  Bens imóveis culturais\n",
       "4    Arcos de Valdevez  1111601                    29.0\n",
       "5              Caminha  1111602                    20.0\n",
       "6              Melgaço  1111603                    23.0\n",
       "7               Monção  1111604                    13.0\n",
       "8     Paredes de Coura  1111605                     9.0\n",
       "..                 ...      ...                     ...\n",
       "339        Porto Santo  3003201                     4.0\n",
       "340      Ribeira Brava  3003107                     5.0\n",
       "341         Santa Cruz  3003108                    15.0\n",
       "342            Santana  3003109                     7.0\n",
       "343        São Vicente  3003110                     7.0\n",
       "\n",
       "[308 rows x 3 columns]"
      ]
     },
     "execution_count": 10,
     "metadata": {},
     "output_type": "execute_result"
    }
   ],
   "source": [
    "df_bens_imoveis = processar_ficheiro(data_path+'Bens imóveis culturais.xls',0)\n",
    "df_bens_imoveis = carregar_municipios(df_bens_imoveis)\n",
    "df_bens_imoveis = df_bens_imoveis[['local','codigo','Bens imóveis culturais']]\n",
    "df_bens_imoveis\n"
   ]
  },
  {
   "cell_type": "code",
   "execution_count": 11,
   "id": "3ba9fd36-ef41-46c6-83a6-da824ab2c3c5",
   "metadata": {},
   "outputs": [
    {
     "data": {
      "application/vnd.plotly.v1+json": {
       "config": {
        "plotlyServerURL": "https://plot.ly"
       },
       "data": [
        {
         "customdata": [
          [
           "Arcos de Valdevez",
           "1111601",
           29
          ],
          [
           "Caminha",
           "1111602",
           20
          ],
          [
           "Melgaço",
           "1111603",
           23
          ],
          [
           "Monção",
           "1111604",
           13
          ],
          [
           "Paredes de Coura",
           "1111605",
           9
          ],
          [
           "Ponte da Barca",
           "1111606",
           11
          ],
          [
           "Ponte de Lima",
           "1111607",
           51
          ],
          [
           "Valença",
           "1111608",
           9
          ],
          [
           "Viana do Castelo",
           "1111609",
           38
          ],
          [
           "Vila Nova de Cerveira",
           "1111610",
           8
          ],
          [
           "Amares",
           "1120301",
           15
          ],
          [
           "Barcelos",
           "1120302",
           23
          ],
          [
           "Braga",
           "1120303",
           81
          ],
          [
           "Esposende",
           "1120306",
           10
          ],
          [
           "Terras de Bouro",
           "1120310",
           7
          ],
          [
           "Vila Verde",
           "1120313",
           13
          ],
          [
           "Cabeceiras de Basto",
           "1190304",
           12
          ],
          [
           "Fafe",
           "1190307",
           9
          ],
          [
           "Guimarães",
           "1190308",
           54
          ],
          [
           "Mondim de Basto",
           "1191705",
           6
          ],
          [
           "Póvoa de Lanhoso",
           "1190309",
           14
          ],
          [
           "Vieira do Minho",
           "1190311",
           10
          ],
          [
           "Vila Nova de Famalicão",
           "1190312",
           16
          ],
          [
           "Vizela",
           "1190314",
           6
          ],
          [
           "Arouca",
           "11A0104",
           13
          ],
          [
           "Espinho",
           "11A0107",
           1
          ],
          [
           "Gondomar",
           "11A1304",
           6
          ],
          [
           "Maia",
           "11A1306",
           3
          ],
          [
           "Matosinhos",
           "11A1308",
           32
          ],
          [
           "Oliveira de Azeméis",
           "11A0113",
           11
          ],
          [
           "Paredes",
           "11A1310",
           13
          ],
          [
           "Porto",
           "11A1312",
           131
          ],
          [
           "Póvoa de Varzim",
           "11A1313",
           13
          ],
          [
           "Santa Maria da Feira",
           "11A0109",
           15
          ],
          [
           "Santo Tirso",
           "11A1314",
           12
          ],
          [
           "São João da Madeira",
           "11A0116",
           1
          ],
          [
           "Trofa",
           "11A1318",
           3
          ],
          [
           "Vale de Cambra",
           "11A0119",
           3
          ],
          [
           "Valongo",
           "11A1315",
           3
          ],
          [
           "Vila do Conde",
           "11A1316",
           24
          ],
          [
           "Vila Nova de Gaia",
           "11A1317",
           24
          ],
          [
           "Boticas",
           "11B1702",
           11
          ],
          [
           "Chaves",
           "11B1703",
           24
          ],
          [
           "Montalegre",
           "11B1706",
           12
          ],
          [
           "Ribeira de Pena",
           "11B1709",
           5
          ],
          [
           "Valpaços",
           "11B1712",
           17
          ],
          [
           "Vila Pouca de Aguiar",
           "11B1713",
           18
          ],
          [
           "Amarante",
           "11C1301",
           25
          ],
          [
           "Baião",
           "11C1302",
           11
          ],
          [
           "Castelo de Paiva",
           "11C0106",
           10
          ],
          [
           "Celorico de Basto",
           "11C0305",
           6
          ],
          [
           "Cinfães",
           "11C1804",
           9
          ],
          [
           "Felgueiras",
           "11C1303",
           14
          ],
          [
           "Lousada",
           "11C1305",
           5
          ],
          [
           "Marco de Canaveses",
           "11C1307",
           24
          ],
          [
           "Paços de Ferreira",
           "11C1309",
           5
          ],
          [
           "Penafiel",
           "11C1311",
           23
          ],
          [
           "Resende",
           "11C1813",
           14
          ],
          [
           "Alijó",
           "11D1701",
           15
          ],
          [
           "Armamar",
           "11D1801",
           12
          ],
          [
           "Carrazeda de Ansiães",
           "11D0403",
           15
          ],
          [
           "Freixo de Espada à Cinta",
           "11D0404",
           11
          ],
          [
           "Lamego",
           "11D1805",
           33
          ],
          [
           "Mesão Frio",
           "11D1704",
           11
          ],
          [
           "Moimenta da Beira",
           "11D1807",
           12
          ],
          [
           "Murça",
           "11D1707",
           5
          ],
          [
           "Penedono",
           "11D1812",
           4
          ],
          [
           "Peso da Régua",
           "11D1708",
           29
          ],
          [
           "Sabrosa",
           "11D1710",
           26
          ],
          [
           "Santa Marta de Penaguião",
           "11D1711",
           14
          ],
          [
           "São João da Pesqueira",
           "11D1815",
           7
          ],
          [
           "Sernancelhe",
           "11D1818",
           19
          ],
          [
           "Tabuaço",
           "11D1819",
           21
          ],
          [
           "Tarouca",
           "11D1820",
           12
          ],
          [
           "Torre de Moncorvo",
           "11D0409",
           19
          ],
          [
           "Vila Nova de Foz Côa",
           "11D0914",
           22
          ],
          [
           "Vila Real",
           "11D1714",
           43
          ],
          [
           "Alfândega da Fé",
           "11E0401",
           2
          ],
          [
           "Bragança",
           "11E0402",
           30
          ],
          [
           "Macedo de Cavaleiros",
           "11E0405",
           9
          ],
          [
           "Miranda do Douro",
           "11E0406",
           10
          ],
          [
           "Mirandela",
           "11E0407",
           17
          ],
          [
           "Mogadouro",
           "11E0408",
           16
          ],
          [
           "Vila Flor",
           "11E0410",
           9
          ],
          [
           "Vimioso",
           "11E0411",
           6
          ],
          [
           "Vinhais",
           "11E0412",
           11
          ],
          [
           "Alcobaça",
           "16B1001",
           22
          ],
          [
           "Alenquer",
           "16B1101",
           24
          ],
          [
           "Arruda dos Vinhos",
           "16B1102",
           3
          ],
          [
           "Bombarral",
           "16B1005",
           9
          ],
          [
           "Cadaval",
           "16B1104",
           5
          ],
          [
           "Caldas da Rainha",
           "16B1006",
           13
          ],
          [
           "Lourinhã",
           "16B1108",
           6
          ],
          [
           "Nazaré",
           "16B1011",
           13
          ],
          [
           "Óbidos",
           "16B1012",
           9
          ],
          [
           "Peniche",
           "16B1014",
           16
          ],
          [
           "Sobral de Monte Agraço",
           "16B1112",
           3
          ],
          [
           "Torres Vedras",
           "16B1113",
           33
          ],
          [
           "Águeda",
           "16D0101",
           12
          ],
          [
           "Albergaria-a-Velha",
           "16D0102",
           8
          ],
          [
           "Anadia",
           "16D0103",
           9
          ],
          [
           "Aveiro",
           "16D0105",
           22
          ],
          [
           "Estarreja",
           "16D0108",
           4
          ],
          [
           "Ílhavo",
           "16D0110",
           5
          ],
          [
           "Murtosa",
           "16D0112",
           3
          ],
          [
           "Oliveira do Bairro",
           "16D0114",
           0
          ],
          [
           "Ovar",
           "16D0115",
           8
          ],
          [
           "Sever do Vouga",
           "16D0117",
           7
          ],
          [
           "Vagos",
           "16D0118",
           0
          ],
          [
           "Arganil",
           "16E0601",
           12
          ],
          [
           "Cantanhede",
           "16E0602",
           7
          ],
          [
           "Coimbra",
           "16E0603",
           62
          ],
          [
           "Condeixa-a-Nova",
           "16E0604",
           12
          ],
          [
           "Figueira da Foz",
           "16E0605",
           47
          ],
          [
           "Góis",
           "16E0606",
           8
          ],
          [
           "Lousã",
           "16E0607",
           17
          ],
          [
           "Mealhada",
           "16E0111",
           2
          ],
          [
           "Mira",
           "16E0608",
           2
          ],
          [
           "Miranda do Corvo",
           "16E0609",
           3
          ],
          [
           "Montemor-o-Velho",
           "16E0610",
           23
          ],
          [
           "Mortágua",
           "16E1808",
           1
          ],
          [
           "Oliveira do Hospital",
           "16E0611",
           23
          ],
          [
           "Pampilhosa da Serra",
           "16E0612",
           0
          ],
          [
           "Penacova",
           "16E0613",
           5
          ],
          [
           "Penela",
           "16E0614",
           7
          ],
          [
           "Soure",
           "16E0615",
           4
          ],
          [
           "Tábua",
           "16E0616",
           10
          ],
          [
           "Vila Nova de Poiares",
           "16E0617",
           1
          ],
          [
           "Alvaiázere",
           "16F1002",
           3
          ],
          [
           "Ansião",
           "16F1003",
           5
          ],
          [
           "Batalha",
           "16F1004",
           16
          ],
          [
           "Castanheira de Pêra",
           "16F1007",
           1
          ],
          [
           "Figueiró dos Vinhos",
           "16F1008",
           5
          ],
          [
           "Leiria",
           "16F1009",
           17
          ],
          [
           "Marinha Grande",
           "16F1010",
           3
          ],
          [
           "Pedrógão Grande",
           "16F1013",
           5
          ],
          [
           "Pombal",
           "16F1015",
           15
          ],
          [
           "Porto de Mós",
           "16F1016",
           7
          ],
          [
           "Aguiar da Beira",
           "16G0901",
           7
          ],
          [
           "Carregal do Sal",
           "16G1802",
           12
          ],
          [
           "Castro Daire",
           "16G1803",
           14
          ],
          [
           "Mangualde",
           "16G1806",
           28
          ],
          [
           "Nelas",
           "16G1809",
           16
          ],
          [
           "Oliveira de Frades",
           "16G1810",
           6
          ],
          [
           "Penalva do Castelo",
           "16G1811",
           7
          ],
          [
           "Santa Comba Dão",
           "16G1814",
           7
          ],
          [
           "São Pedro do Sul",
           "16G1816",
           11
          ],
          [
           "Sátão",
           "16G1817",
           15
          ],
          [
           "Tondela",
           "16G1821",
           20
          ],
          [
           "Vila Nova de Paiva",
           "16G1822",
           6
          ],
          [
           "Viseu",
           "16G1823",
           33
          ],
          [
           "Vouzela",
           "16G1824",
           9
          ],
          [
           "Castelo Branco",
           "16H0502",
           22
          ],
          [
           "Idanha-a-Nova",
           "16H0505",
           20
          ],
          [
           "Oleiros",
           "16H0506",
           3
          ],
          [
           "Penamacor",
           "16H0507",
           6
          ],
          [
           "Proença-a-Nova",
           "16H0508",
           1
          ],
          [
           "Vila Velha de Ródão",
           "16H0511",
           5
          ],
          [
           "Abrantes",
           "16I1401",
           45
          ],
          [
           "Alcanena",
           "16I1402",
           3
          ],
          [
           "Constância",
           "16I1408",
           5
          ],
          [
           "Entroncamento",
           "16I1410",
           0
          ],
          [
           "Ferreira do Zêzere",
           "16I1411",
           9
          ],
          [
           "Mação",
           "16I1413",
           11
          ],
          [
           "Ourém",
           "16I1421",
           8
          ],
          [
           "Sardoal",
           "16I1417",
           7
          ],
          [
           "Sertã",
           "16I0509",
           16
          ],
          [
           "Tomar",
           "16I1418",
           30
          ],
          [
           "Torres Novas",
           "16I1419",
           12
          ],
          [
           "Vila de Rei",
           "16I0510",
           3
          ],
          [
           "Vila Nova da Barquinha",
           "16I1420",
           5
          ],
          [
           "Almeida",
           "16J0902",
           10
          ],
          [
           "Belmonte",
           "16J0501",
           5
          ],
          [
           "Celorico da Beira",
           "16J0903",
           11
          ],
          [
           "Covilhã",
           "16J0503",
           25
          ],
          [
           "Figueira de Castelo Rodrigo",
           "16J0904",
           17
          ],
          [
           "Fornos de Algodres",
           "16J0905",
           11
          ],
          [
           "Fundão",
           "16J0504",
           27
          ],
          [
           "Gouveia",
           "16J0906",
           10
          ],
          [
           "Guarda",
           "16J0907",
           29
          ],
          [
           "Manteigas",
           "16J0908",
           1
          ],
          [
           "Mêda",
           "16J0909",
           13
          ],
          [
           "Pinhel",
           "16J0910",
           16
          ],
          [
           "Sabugal",
           "16J0911",
           21
          ],
          [
           "Seia",
           "16J0912",
           14
          ],
          [
           "Trancoso",
           "16J0913",
           17
          ],
          [
           "Alcochete",
           "1701502",
           7
          ],
          [
           "Almada",
           "1701503",
           20
          ],
          [
           "Amadora",
           "1701115",
           14
          ],
          [
           "Barreiro",
           "1701504",
           9
          ],
          [
           "Cascais",
           "1701105",
           61
          ],
          [
           "Lisboa",
           "1701106",
           307
          ],
          [
           "Loures",
           "1701107",
           27
          ],
          [
           "Mafra",
           "1701109",
           33
          ],
          [
           "Moita",
           "1701506",
           5
          ],
          [
           "Montijo",
           "1701507",
           15
          ],
          [
           "Odivelas",
           "1701116",
           11
          ],
          [
           "Oeiras",
           "1701110",
           20
          ],
          [
           "Palmela",
           "1701508",
           13
          ],
          [
           "Seixal",
           "1701510",
           16
          ],
          [
           "Sesimbra",
           "1701511",
           11
          ],
          [
           "Setúbal",
           "1701512",
           35
          ],
          [
           "Sintra",
           "1701111",
           74
          ],
          [
           "Vila Franca de Xira",
           "1701114",
           23
          ],
          [
           "Alcácer do Sal",
           "1811501",
           17
          ],
          [
           "Grândola",
           "1811505",
           12
          ],
          [
           "Odemira",
           "1810211",
           3
          ],
          [
           "Santiago do Cacém",
           "1811509",
           17
          ],
          [
           "Sines",
           "1811513",
           6
          ],
          [
           "Aljustrel",
           "1840201",
           4
          ],
          [
           "Almodôvar",
           "1840202",
           7
          ],
          [
           "Alvito",
           "1840203",
           20
          ],
          [
           "Barrancos",
           "1840204",
           1
          ],
          [
           "Beja",
           "1840205",
           18
          ],
          [
           "Castro Verde",
           "1840206",
           7
          ],
          [
           "Cuba",
           "1840207",
           6
          ],
          [
           "Ferreira do Alentejo",
           "1840208",
           16
          ],
          [
           "Mértola",
           "1840209",
           5
          ],
          [
           "Moura",
           "1840210",
           21
          ],
          [
           "Ourique",
           "1840212",
           3
          ],
          [
           "Serpa",
           "1840213",
           9
          ],
          [
           "Vidigueira",
           "1840214",
           7
          ],
          [
           "Almeirim",
           "1851403",
           1
          ],
          [
           "Alpiarça",
           "1851404",
           3
          ],
          [
           "Azambuja",
           "1851103",
           10
          ],
          [
           "Benavente",
           "1851405",
           3
          ],
          [
           "Cartaxo",
           "1851406",
           4
          ],
          [
           "Chamusca",
           "1851407",
           2
          ],
          [
           "Coruche",
           "1851409",
           4
          ],
          [
           "Golegã",
           "1851412",
           5
          ],
          [
           "Rio Maior",
           "1851414",
           5
          ],
          [
           "Salvaterra de Magos",
           "1851415",
           2
          ],
          [
           "Santarém",
           "1851416",
           47
          ],
          [
           "Alter do Chão",
           "1861201",
           12
          ],
          [
           "Arronches",
           "1861202",
           5
          ],
          [
           "Avis",
           "1861203",
           11
          ],
          [
           "Campo Maior",
           "1861204",
           18
          ],
          [
           "Castelo de Vide",
           "1861205",
           37
          ],
          [
           "Crato",
           "1861206",
           9
          ],
          [
           "Elvas",
           "1861207",
           41
          ],
          [
           "Fronteira",
           "1861208",
           10
          ],
          [
           "Gavião",
           "1861209",
           7
          ],
          [
           "Marvão",
           "1861210",
           10
          ],
          [
           "Monforte",
           "1861211",
           12
          ],
          [
           "Nisa",
           "1861212",
           17
          ],
          [
           "Ponte de Sor",
           "1861213",
           1
          ],
          [
           "Portalegre",
           "1861214",
           46
          ],
          [
           "Sousel",
           "1861215",
           6
          ],
          [
           "Alandroal",
           "1870701",
           12
          ],
          [
           "Arraiolos",
           "1870702",
           15
          ],
          [
           "Borba",
           "1870703",
           19
          ],
          [
           "Estremoz",
           "1870704",
           30
          ],
          [
           "Évora",
           "1870705",
           85
          ],
          [
           "Montemor-o-Novo",
           "1870706",
           27
          ],
          [
           "Mora",
           "1870707",
           7
          ],
          [
           "Mourão",
           "1870708",
           3
          ],
          [
           "Portel",
           "1870709",
           7
          ],
          [
           "Redondo",
           "1870710",
           9
          ],
          [
           "Reguengos de Monsaraz",
           "1870711",
           22
          ],
          [
           "Vendas Novas",
           "1870712",
           2
          ],
          [
           "Viana do Alentejo",
           "1870713",
           8
          ],
          [
           "Vila Viçosa",
           "1870714",
           26
          ],
          [
           "Albufeira",
           "1500801",
           3
          ],
          [
           "Alcoutim",
           "1500802",
           7
          ],
          [
           "Aljezur",
           "1500803",
           3
          ],
          [
           "Castro Marim",
           "1500804",
           3
          ],
          [
           "Faro",
           "1500805",
           41
          ],
          [
           "Lagoa",
           "1500806",
           4
          ],
          [
           "Lagos",
           "1500807",
           14
          ],
          [
           "Loulé",
           "1500808",
           18
          ],
          [
           "Monchique",
           "1500809",
           3
          ],
          [
           "Olhão",
           "1500810",
           6
          ],
          [
           "Portimão",
           "1500811",
           15
          ],
          [
           "São Brás de Alportel",
           "1500812",
           1
          ],
          [
           "Silves",
           "1500813",
           54
          ],
          [
           "Tavira",
           "1500814",
           21
          ],
          [
           "Vila do Bispo",
           "1500815",
           9
          ],
          [
           "Vila Real de Santo António",
           "1500816",
           4
          ],
          [
           "Angra do Heroísmo",
           "2004301",
           70
          ],
          [
           "Calheta",
           "2004501",
           6
          ],
          [
           "Corvo",
           "2004901",
           4
          ],
          [
           "Horta",
           "2004701",
           38
          ],
          [
           "Lagoa",
           "2004201",
           12
          ],
          [
           "Lajes das Flores",
           "2004801",
           9
          ],
          [
           "Lajes do Pico",
           "2004601",
           14
          ],
          [
           "Madalena",
           "2004602",
           8
          ],
          [
           "Nordeste",
           "2004202",
           6
          ],
          [
           "Ponta Delgada",
           "2004203",
           54
          ],
          [
           "Povoação",
           "2004204",
           4
          ],
          [
           "Ribeira Grande",
           "2004205",
           22
          ],
          [
           "Santa Cruz da Graciosa",
           "2004401",
           17
          ],
          [
           "Santa Cruz das Flores",
           "2004802",
           9
          ],
          [
           "São Roque do Pico",
           "2004603",
           12
          ],
          [
           "Velas",
           "2004502",
           12
          ],
          [
           "Vila da Praia da Vitória",
           "2004302",
           13
          ],
          [
           "Vila do Porto",
           "2004101",
           14
          ],
          [
           "Vila Franca do Campo",
           "2004206",
           8
          ],
          [
           "Calheta",
           "3003101",
           24
          ],
          [
           "Câmara de Lobos",
           "3003102",
           5
          ],
          [
           "Funchal",
           "3003103",
           81
          ],
          [
           "Machico",
           "3003104",
           16
          ],
          [
           "Ponta do Sol",
           "3003105",
           14
          ],
          [
           "Porto Moniz",
           "3003106",
           2
          ],
          [
           "Porto Santo",
           "3003201",
           4
          ],
          [
           "Ribeira Brava",
           "3003107",
           5
          ],
          [
           "Santa Cruz",
           "3003108",
           15
          ],
          [
           "Santana",
           "3003109",
           7
          ],
          [
           "São Vicente",
           "3003110",
           7
          ]
         ],
         "hovertemplate": "valor=%{x}<br>y=%{y}<br>local=%{customdata[0]}<br>codigo=%{customdata[1]}<br>Bens imóveis culturais=%{customdata[2]}<br>Bens imóveis=%{marker.color}<extra></extra>",
         "legendgroup": "",
         "marker": {
          "color": [
           0,
           0,
           0,
           0,
           0,
           0,
           1,
           0,
           1,
           0,
           0,
           0,
           1,
           0,
           0,
           0,
           0,
           0,
           1,
           0,
           0,
           0,
           0,
           0,
           0,
           0,
           0,
           0,
           0,
           0,
           0,
           1,
           0,
           0,
           0,
           0,
           0,
           0,
           0,
           0,
           0,
           0,
           0,
           0,
           0,
           0,
           0,
           0,
           0,
           0,
           0,
           0,
           0,
           0,
           0,
           0,
           0,
           0,
           0,
           0,
           0,
           0,
           0,
           0,
           0,
           0,
           0,
           0,
           0,
           0,
           0,
           0,
           0,
           0,
           0,
           0,
           1,
           0,
           0,
           0,
           0,
           0,
           0,
           0,
           0,
           0,
           0,
           0,
           0,
           0,
           0,
           0,
           0,
           0,
           0,
           0,
           0,
           0,
           0,
           0,
           0,
           0,
           0,
           0,
           0,
           0,
           0,
           0,
           0,
           0,
           0,
           1,
           0,
           1,
           0,
           0,
           0,
           0,
           0,
           0,
           0,
           0,
           0,
           0,
           0,
           0,
           0,
           0,
           0,
           0,
           0,
           0,
           0,
           0,
           0,
           0,
           0,
           0,
           0,
           0,
           0,
           0,
           0,
           0,
           0,
           0,
           0,
           0,
           0,
           0,
           0,
           0,
           0,
           0,
           0,
           0,
           0,
           0,
           1,
           0,
           0,
           0,
           0,
           0,
           0,
           0,
           0,
           0,
           0,
           0,
           0,
           0,
           0,
           0,
           0,
           0,
           0,
           0,
           0,
           0,
           0,
           0,
           0,
           0,
           0,
           0,
           0,
           0,
           0,
           0,
           1,
           2,
           0,
           0,
           0,
           0,
           0,
           0,
           0,
           0,
           0,
           1,
           1,
           0,
           0,
           0,
           0,
           0,
           0,
           0,
           0,
           0,
           0,
           0,
           0,
           0,
           0,
           0,
           0,
           0,
           0,
           0,
           0,
           0,
           0,
           0,
           0,
           0,
           0,
           0,
           0,
           0,
           1,
           0,
           0,
           0,
           0,
           1,
           0,
           1,
           0,
           0,
           0,
           0,
           0,
           0,
           1,
           0,
           0,
           0,
           0,
           0,
           1,
           0,
           0,
           0,
           0,
           0,
           0,
           0,
           0,
           0,
           0,
           0,
           0,
           0,
           1,
           0,
           0,
           0,
           0,
           0,
           0,
           0,
           1,
           0,
           0,
           0,
           1,
           0,
           0,
           1,
           0,
           0,
           0,
           0,
           0,
           1,
           0,
           0,
           0,
           0,
           0,
           0,
           0,
           0,
           0,
           0,
           0,
           1,
           0,
           0,
           0,
           0,
           0,
           0,
           0,
           0
          ],
          "coloraxis": "coloraxis",
          "size": 10,
          "symbol": "circle"
         },
         "mode": "markers",
         "name": "",
         "orientation": "v",
         "showlegend": false,
         "type": "scatter",
         "x": [
          0.5860218825152157,
          0.18787172115928974,
          0.32058844161126504,
          -0.12180062656198598,
          -0.2987562538312864,
          -0.2102784401966362,
          1.5592778324963679,
          -0.2987562538312864,
          0.9841720438711417,
          -0.3429951606486115,
          -0.03332281292733578,
          0.32058844161126504,
          2.886445037016121,
          -0.2545173470139613,
          -0.38723406746593664,
          -0.12180062656198598,
          -0.1660395333793111,
          -0.2987562538312864,
          1.6919945529483431,
          -0.4314729742832617,
          -0.07756171974466088,
          -0.2545173470139613,
          0.01091609388998933,
          -0.4314729742832617,
          -0.12180062656198598,
          -0.6526675083698873,
          -0.4314729742832617,
          -0.5641896947352371,
          0.718738602967191,
          -0.2102784401966362,
          -0.12180062656198598,
          5.098390377882376,
          -0.12180062656198598,
          -0.03332281292733578,
          -0.1660395333793111,
          -0.6526675083698873,
          -0.5641896947352371,
          -0.5641896947352371,
          -0.5641896947352371,
          0.36482734842859016,
          0.36482734842859016,
          -0.2102784401966362,
          0.36482734842859016,
          -0.1660395333793111,
          -0.4757118811005868,
          0.05515500070731443,
          0.09939390752463954,
          0.4090662552459153,
          -0.2102784401966362,
          -0.2545173470139613,
          -0.4314729742832617,
          -0.2987562538312864,
          -0.07756171974466088,
          -0.4757118811005868,
          0.36482734842859016,
          -0.4757118811005868,
          0.32058844161126504,
          -0.07756171974466088,
          -0.03332281292733578,
          -0.1660395333793111,
          -0.03332281292733578,
          -0.2102784401966362,
          0.7629775097845161,
          -0.2102784401966362,
          -0.1660395333793111,
          -0.4757118811005868,
          -0.5199507879179119,
          0.5860218825152157,
          0.4533051620632404,
          -0.07756171974466088,
          -0.38723406746593664,
          0.14363281434196465,
          0.23211062797661486,
          -0.1660395333793111,
          0.14363281434196465,
          0.27634953479394,
          1.2053665779577671,
          -0.6084286015525622,
          0.6302607893325408,
          -0.2987562538312864,
          -0.2545173470139613,
          0.05515500070731443,
          0.01091609388998933,
          -0.2987562538312864,
          -0.4314729742832617,
          -0.2102784401966362,
          0.27634953479394,
          0.36482734842859016,
          -0.5641896947352371,
          -0.2987562538312864,
          -0.4757118811005868,
          -0.12180062656198598,
          -0.4314729742832617,
          -0.12180062656198598,
          -0.2987562538312864,
          0.01091609388998933,
          -0.5641896947352371,
          0.7629775097845161,
          -0.1660395333793111,
          -0.3429951606486115,
          -0.2987562538312864,
          0.27634953479394,
          -0.5199507879179119,
          -0.4757118811005868,
          -0.5641896947352371,
          -0.6969064151872123,
          -0.3429951606486115,
          -0.38723406746593664,
          -0.6969064151872123,
          -0.1660395333793111,
          -0.38723406746593664,
          2.045905807486944,
          -0.1660395333793111,
          1.3823222052270676,
          -0.3429951606486115,
          0.05515500070731443,
          -0.6084286015525622,
          -0.6084286015525622,
          -0.5641896947352371,
          0.32058844161126504,
          -0.6526675083698873,
          0.32058844161126504,
          -0.6969064151872123,
          -0.4757118811005868,
          -0.38723406746593664,
          -0.5199507879179119,
          -0.2545173470139613,
          -0.6526675083698873,
          -0.5641896947352371,
          -0.4757118811005868,
          0.01091609388998933,
          -0.6526675083698873,
          -0.4757118811005868,
          0.05515500070731443,
          -0.5641896947352371,
          -0.4757118811005868,
          -0.03332281292733578,
          -0.38723406746593664,
          -0.38723406746593664,
          -0.1660395333793111,
          -0.07756171974466088,
          0.5417829756978906,
          0.01091609388998933,
          -0.4314729742832617,
          -0.38723406746593664,
          -0.38723406746593664,
          -0.2102784401966362,
          -0.03332281292733578,
          0.18787172115928974,
          -0.4314729742832617,
          0.7629775097845161,
          -0.2987562538312864,
          0.27634953479394,
          0.18787172115928974,
          -0.5641896947352371,
          -0.4314729742832617,
          -0.6526675083698873,
          -0.4757118811005868,
          1.2938443915924174,
          -0.5641896947352371,
          -0.4757118811005868,
          -0.6969064151872123,
          -0.2987562538312864,
          -0.2102784401966362,
          -0.3429951606486115,
          -0.38723406746593664,
          0.01091609388998933,
          0.6302607893325408,
          -0.1660395333793111,
          -0.5641896947352371,
          -0.4757118811005868,
          -0.2545173470139613,
          -0.4757118811005868,
          -0.2102784401966362,
          0.4090662552459153,
          0.05515500070731443,
          -0.2102784401966362,
          0.49754406888056546,
          -0.2545173470139613,
          0.5860218825152157,
          -0.6526675083698873,
          -0.12180062656198598,
          0.01091609388998933,
          0.23211062797661486,
          -0.07756171974466088,
          0.05515500070731443,
          -0.38723406746593664,
          0.18787172115928974,
          -0.07756171974466088,
          -0.2987562538312864,
          2.001666900669619,
          12.884437977731595,
          0.49754406888056546,
          0.7629775097845161,
          -0.4757118811005868,
          -0.03332281292733578,
          -0.2102784401966362,
          0.18787172115928974,
          -0.12180062656198598,
          0.01091609388998933,
          -0.2102784401966362,
          0.8514553234191663,
          2.5767726892948453,
          0.32058844161126504,
          0.05515500070731443,
          -0.1660395333793111,
          -0.5641896947352371,
          0.05515500070731443,
          -0.4314729742832617,
          -0.5199507879179119,
          -0.38723406746593664,
          0.18787172115928974,
          -0.6526675083698873,
          0.09939390752463954,
          -0.38723406746593664,
          -0.4314729742832617,
          0.01091609388998933,
          -0.4757118811005868,
          0.23211062797661486,
          -0.5641896947352371,
          -0.2987562538312864,
          -0.38723406746593664,
          -0.6526675083698873,
          -0.5641896947352371,
          -0.2545173470139613,
          -0.5641896947352371,
          -0.5199507879179119,
          -0.6084286015525622,
          -0.5199507879179119,
          -0.4757118811005868,
          -0.4757118811005868,
          -0.6084286015525622,
          1.3823222052270676,
          -0.1660395333793111,
          -0.4757118811005868,
          -0.2102784401966362,
          0.09939390752463954,
          0.9399331370538165,
          -0.2987562538312864,
          1.116888764323117,
          -0.2545173470139613,
          -0.38723406746593664,
          -0.2545173470139613,
          -0.1660395333793111,
          0.05515500070731443,
          -0.6526675083698873,
          1.3380832984097424,
          -0.4314729742832617,
          -0.1660395333793111,
          -0.03332281292733578,
          0.14363281434196465,
          0.6302607893325408,
          3.0634006642854215,
          0.49754406888056546,
          -0.38723406746593664,
          -0.5641896947352371,
          -0.38723406746593664,
          -0.2987562538312864,
          0.27634953479394,
          -0.6084286015525622,
          -0.3429951606486115,
          0.4533051620632404,
          -0.5641896947352371,
          -0.38723406746593664,
          -0.5641896947352371,
          -0.5641896947352371,
          1.116888764323117,
          -0.5199507879179119,
          -0.07756171974466088,
          0.09939390752463954,
          -0.5641896947352371,
          -0.4314729742832617,
          -0.03332281292733578,
          -0.6526675083698873,
          1.6919945529483431,
          0.23211062797661486,
          -0.2987562538312864,
          -0.5199507879179119,
          2.399817062025545,
          -0.4314729742832617,
          -0.5199507879179119,
          0.9841720438711417,
          -0.1660395333793111,
          -0.2987562538312864,
          -0.07756171974466088,
          -0.3429951606486115,
          -0.4314729742832617,
          1.6919945529483431,
          -0.5199507879179119,
          0.27634953479394,
          0.05515500070731443,
          -0.2987562538312864,
          -0.1660395333793111,
          -0.1660395333793111,
          -0.12180062656198598,
          -0.07756171974466088,
          -0.3429951606486115,
          0.36482734842859016,
          -0.4757118811005868,
          2.886445037016121,
          0.01091609388998933,
          -0.07756171974466088,
          -0.6084286015525622,
          -0.5199507879179119,
          -0.4757118811005868,
          -0.03332281292733578,
          -0.38723406746593664,
          -0.38723406746593664
         ],
         "xaxis": "x",
         "y": [
          0,
          0,
          0,
          0,
          0,
          0,
          0,
          0,
          0,
          0,
          0,
          0,
          0,
          0,
          0,
          0,
          0,
          0,
          0,
          0,
          0,
          0,
          0,
          0,
          0,
          0,
          0,
          0,
          0,
          0,
          0,
          0,
          0,
          0,
          0,
          0,
          0,
          0,
          0,
          0,
          0,
          0,
          0,
          0,
          0,
          0,
          0,
          0,
          0,
          0,
          0,
          0,
          0,
          0,
          0,
          0,
          0,
          0,
          0,
          0,
          0,
          0,
          0,
          0,
          0,
          0,
          0,
          0,
          0,
          0,
          0,
          0,
          0,
          0,
          0,
          0,
          0,
          0,
          0,
          0,
          0,
          0,
          0,
          0,
          0,
          0,
          0,
          0,
          0,
          0,
          0,
          0,
          0,
          0,
          0,
          0,
          0,
          0,
          0,
          0,
          0,
          0,
          0,
          0,
          0,
          0,
          0,
          0,
          0,
          0,
          0,
          0,
          0,
          0,
          0,
          0,
          0,
          0,
          0,
          0,
          0,
          0,
          0,
          0,
          0,
          0,
          0,
          0,
          0,
          0,
          0,
          0,
          0,
          0,
          0,
          0,
          0,
          0,
          0,
          0,
          0,
          0,
          0,
          0,
          0,
          0,
          0,
          0,
          0,
          0,
          0,
          0,
          0,
          0,
          0,
          0,
          0,
          0,
          0,
          0,
          0,
          0,
          0,
          0,
          0,
          0,
          0,
          0,
          0,
          0,
          0,
          0,
          0,
          0,
          0,
          0,
          0,
          0,
          0,
          0,
          0,
          0,
          0,
          0,
          0,
          0,
          0,
          0,
          0,
          0,
          0,
          0,
          0,
          0,
          0,
          0,
          0,
          0,
          0,
          0,
          0,
          0,
          0,
          0,
          0,
          0,
          0,
          0,
          0,
          0,
          0,
          0,
          0,
          0,
          0,
          0,
          0,
          0,
          0,
          0,
          0,
          0,
          0,
          0,
          0,
          0,
          0,
          0,
          0,
          0,
          0,
          0,
          0,
          0,
          0,
          0,
          0,
          0,
          0,
          0,
          0,
          0,
          0,
          0,
          0,
          0,
          0,
          0,
          0,
          0,
          0,
          0,
          0,
          0,
          0,
          0,
          0,
          0,
          0,
          0,
          0,
          0,
          0,
          0,
          0,
          0,
          0,
          0,
          0,
          0,
          0,
          0,
          0,
          0,
          0,
          0,
          0,
          0,
          0,
          0,
          0,
          0,
          0,
          0,
          0,
          0,
          0,
          0,
          0,
          0,
          0,
          0,
          0,
          0,
          0,
          0,
          0,
          0,
          0,
          0,
          0,
          0,
          0,
          0,
          0,
          0,
          0,
          0
         ],
         "yaxis": "y"
        }
       ],
       "layout": {
        "coloraxis": {
         "colorbar": {
          "title": {
           "text": "Bens imóveis"
          }
         },
         "colorscale": [
          [
           0,
           "#440154"
          ],
          [
           0.1111111111111111,
           "#482878"
          ],
          [
           0.2222222222222222,
           "#3e4989"
          ],
          [
           0.3333333333333333,
           "#31688e"
          ],
          [
           0.4444444444444444,
           "#26828e"
          ],
          [
           0.5555555555555556,
           "#1f9e89"
          ],
          [
           0.6666666666666666,
           "#35b779"
          ],
          [
           0.7777777777777778,
           "#6ece58"
          ],
          [
           0.8888888888888888,
           "#b5de2b"
          ],
          [
           1,
           "#fde725"
          ]
         ]
        },
        "height": 300,
        "legend": {
         "tracegroupgap": 0
        },
        "margin": {
         "t": 60
        },
        "template": {
         "data": {
          "bar": [
           {
            "error_x": {
             "color": "#2a3f5f"
            },
            "error_y": {
             "color": "#2a3f5f"
            },
            "marker": {
             "line": {
              "color": "#E5ECF6",
              "width": 0.5
             },
             "pattern": {
              "fillmode": "overlay",
              "size": 10,
              "solidity": 0.2
             }
            },
            "type": "bar"
           }
          ],
          "barpolar": [
           {
            "marker": {
             "line": {
              "color": "#E5ECF6",
              "width": 0.5
             },
             "pattern": {
              "fillmode": "overlay",
              "size": 10,
              "solidity": 0.2
             }
            },
            "type": "barpolar"
           }
          ],
          "carpet": [
           {
            "aaxis": {
             "endlinecolor": "#2a3f5f",
             "gridcolor": "white",
             "linecolor": "white",
             "minorgridcolor": "white",
             "startlinecolor": "#2a3f5f"
            },
            "baxis": {
             "endlinecolor": "#2a3f5f",
             "gridcolor": "white",
             "linecolor": "white",
             "minorgridcolor": "white",
             "startlinecolor": "#2a3f5f"
            },
            "type": "carpet"
           }
          ],
          "choropleth": [
           {
            "colorbar": {
             "outlinewidth": 0,
             "ticks": ""
            },
            "type": "choropleth"
           }
          ],
          "contour": [
           {
            "colorbar": {
             "outlinewidth": 0,
             "ticks": ""
            },
            "colorscale": [
             [
              0,
              "#0d0887"
             ],
             [
              0.1111111111111111,
              "#46039f"
             ],
             [
              0.2222222222222222,
              "#7201a8"
             ],
             [
              0.3333333333333333,
              "#9c179e"
             ],
             [
              0.4444444444444444,
              "#bd3786"
             ],
             [
              0.5555555555555556,
              "#d8576b"
             ],
             [
              0.6666666666666666,
              "#ed7953"
             ],
             [
              0.7777777777777778,
              "#fb9f3a"
             ],
             [
              0.8888888888888888,
              "#fdca26"
             ],
             [
              1,
              "#f0f921"
             ]
            ],
            "type": "contour"
           }
          ],
          "contourcarpet": [
           {
            "colorbar": {
             "outlinewidth": 0,
             "ticks": ""
            },
            "type": "contourcarpet"
           }
          ],
          "heatmap": [
           {
            "colorbar": {
             "outlinewidth": 0,
             "ticks": ""
            },
            "colorscale": [
             [
              0,
              "#0d0887"
             ],
             [
              0.1111111111111111,
              "#46039f"
             ],
             [
              0.2222222222222222,
              "#7201a8"
             ],
             [
              0.3333333333333333,
              "#9c179e"
             ],
             [
              0.4444444444444444,
              "#bd3786"
             ],
             [
              0.5555555555555556,
              "#d8576b"
             ],
             [
              0.6666666666666666,
              "#ed7953"
             ],
             [
              0.7777777777777778,
              "#fb9f3a"
             ],
             [
              0.8888888888888888,
              "#fdca26"
             ],
             [
              1,
              "#f0f921"
             ]
            ],
            "type": "heatmap"
           }
          ],
          "heatmapgl": [
           {
            "colorbar": {
             "outlinewidth": 0,
             "ticks": ""
            },
            "colorscale": [
             [
              0,
              "#0d0887"
             ],
             [
              0.1111111111111111,
              "#46039f"
             ],
             [
              0.2222222222222222,
              "#7201a8"
             ],
             [
              0.3333333333333333,
              "#9c179e"
             ],
             [
              0.4444444444444444,
              "#bd3786"
             ],
             [
              0.5555555555555556,
              "#d8576b"
             ],
             [
              0.6666666666666666,
              "#ed7953"
             ],
             [
              0.7777777777777778,
              "#fb9f3a"
             ],
             [
              0.8888888888888888,
              "#fdca26"
             ],
             [
              1,
              "#f0f921"
             ]
            ],
            "type": "heatmapgl"
           }
          ],
          "histogram": [
           {
            "marker": {
             "pattern": {
              "fillmode": "overlay",
              "size": 10,
              "solidity": 0.2
             }
            },
            "type": "histogram"
           }
          ],
          "histogram2d": [
           {
            "colorbar": {
             "outlinewidth": 0,
             "ticks": ""
            },
            "colorscale": [
             [
              0,
              "#0d0887"
             ],
             [
              0.1111111111111111,
              "#46039f"
             ],
             [
              0.2222222222222222,
              "#7201a8"
             ],
             [
              0.3333333333333333,
              "#9c179e"
             ],
             [
              0.4444444444444444,
              "#bd3786"
             ],
             [
              0.5555555555555556,
              "#d8576b"
             ],
             [
              0.6666666666666666,
              "#ed7953"
             ],
             [
              0.7777777777777778,
              "#fb9f3a"
             ],
             [
              0.8888888888888888,
              "#fdca26"
             ],
             [
              1,
              "#f0f921"
             ]
            ],
            "type": "histogram2d"
           }
          ],
          "histogram2dcontour": [
           {
            "colorbar": {
             "outlinewidth": 0,
             "ticks": ""
            },
            "colorscale": [
             [
              0,
              "#0d0887"
             ],
             [
              0.1111111111111111,
              "#46039f"
             ],
             [
              0.2222222222222222,
              "#7201a8"
             ],
             [
              0.3333333333333333,
              "#9c179e"
             ],
             [
              0.4444444444444444,
              "#bd3786"
             ],
             [
              0.5555555555555556,
              "#d8576b"
             ],
             [
              0.6666666666666666,
              "#ed7953"
             ],
             [
              0.7777777777777778,
              "#fb9f3a"
             ],
             [
              0.8888888888888888,
              "#fdca26"
             ],
             [
              1,
              "#f0f921"
             ]
            ],
            "type": "histogram2dcontour"
           }
          ],
          "mesh3d": [
           {
            "colorbar": {
             "outlinewidth": 0,
             "ticks": ""
            },
            "type": "mesh3d"
           }
          ],
          "parcoords": [
           {
            "line": {
             "colorbar": {
              "outlinewidth": 0,
              "ticks": ""
             }
            },
            "type": "parcoords"
           }
          ],
          "pie": [
           {
            "automargin": true,
            "type": "pie"
           }
          ],
          "scatter": [
           {
            "fillpattern": {
             "fillmode": "overlay",
             "size": 10,
             "solidity": 0.2
            },
            "type": "scatter"
           }
          ],
          "scatter3d": [
           {
            "line": {
             "colorbar": {
              "outlinewidth": 0,
              "ticks": ""
             }
            },
            "marker": {
             "colorbar": {
              "outlinewidth": 0,
              "ticks": ""
             }
            },
            "type": "scatter3d"
           }
          ],
          "scattercarpet": [
           {
            "marker": {
             "colorbar": {
              "outlinewidth": 0,
              "ticks": ""
             }
            },
            "type": "scattercarpet"
           }
          ],
          "scattergeo": [
           {
            "marker": {
             "colorbar": {
              "outlinewidth": 0,
              "ticks": ""
             }
            },
            "type": "scattergeo"
           }
          ],
          "scattergl": [
           {
            "marker": {
             "colorbar": {
              "outlinewidth": 0,
              "ticks": ""
             }
            },
            "type": "scattergl"
           }
          ],
          "scattermapbox": [
           {
            "marker": {
             "colorbar": {
              "outlinewidth": 0,
              "ticks": ""
             }
            },
            "type": "scattermapbox"
           }
          ],
          "scatterpolar": [
           {
            "marker": {
             "colorbar": {
              "outlinewidth": 0,
              "ticks": ""
             }
            },
            "type": "scatterpolar"
           }
          ],
          "scatterpolargl": [
           {
            "marker": {
             "colorbar": {
              "outlinewidth": 0,
              "ticks": ""
             }
            },
            "type": "scatterpolargl"
           }
          ],
          "scatterternary": [
           {
            "marker": {
             "colorbar": {
              "outlinewidth": 0,
              "ticks": ""
             }
            },
            "type": "scatterternary"
           }
          ],
          "surface": [
           {
            "colorbar": {
             "outlinewidth": 0,
             "ticks": ""
            },
            "colorscale": [
             [
              0,
              "#0d0887"
             ],
             [
              0.1111111111111111,
              "#46039f"
             ],
             [
              0.2222222222222222,
              "#7201a8"
             ],
             [
              0.3333333333333333,
              "#9c179e"
             ],
             [
              0.4444444444444444,
              "#bd3786"
             ],
             [
              0.5555555555555556,
              "#d8576b"
             ],
             [
              0.6666666666666666,
              "#ed7953"
             ],
             [
              0.7777777777777778,
              "#fb9f3a"
             ],
             [
              0.8888888888888888,
              "#fdca26"
             ],
             [
              1,
              "#f0f921"
             ]
            ],
            "type": "surface"
           }
          ],
          "table": [
           {
            "cells": {
             "fill": {
              "color": "#EBF0F8"
             },
             "line": {
              "color": "white"
             }
            },
            "header": {
             "fill": {
              "color": "#C8D4E3"
             },
             "line": {
              "color": "white"
             }
            },
            "type": "table"
           }
          ]
         },
         "layout": {
          "annotationdefaults": {
           "arrowcolor": "#2a3f5f",
           "arrowhead": 0,
           "arrowwidth": 1
          },
          "autotypenumbers": "strict",
          "coloraxis": {
           "colorbar": {
            "outlinewidth": 0,
            "ticks": ""
           }
          },
          "colorscale": {
           "diverging": [
            [
             0,
             "#8e0152"
            ],
            [
             0.1,
             "#c51b7d"
            ],
            [
             0.2,
             "#de77ae"
            ],
            [
             0.3,
             "#f1b6da"
            ],
            [
             0.4,
             "#fde0ef"
            ],
            [
             0.5,
             "#f7f7f7"
            ],
            [
             0.6,
             "#e6f5d0"
            ],
            [
             0.7,
             "#b8e186"
            ],
            [
             0.8,
             "#7fbc41"
            ],
            [
             0.9,
             "#4d9221"
            ],
            [
             1,
             "#276419"
            ]
           ],
           "sequential": [
            [
             0,
             "#0d0887"
            ],
            [
             0.1111111111111111,
             "#46039f"
            ],
            [
             0.2222222222222222,
             "#7201a8"
            ],
            [
             0.3333333333333333,
             "#9c179e"
            ],
            [
             0.4444444444444444,
             "#bd3786"
            ],
            [
             0.5555555555555556,
             "#d8576b"
            ],
            [
             0.6666666666666666,
             "#ed7953"
            ],
            [
             0.7777777777777778,
             "#fb9f3a"
            ],
            [
             0.8888888888888888,
             "#fdca26"
            ],
            [
             1,
             "#f0f921"
            ]
           ],
           "sequentialminus": [
            [
             0,
             "#0d0887"
            ],
            [
             0.1111111111111111,
             "#46039f"
            ],
            [
             0.2222222222222222,
             "#7201a8"
            ],
            [
             0.3333333333333333,
             "#9c179e"
            ],
            [
             0.4444444444444444,
             "#bd3786"
            ],
            [
             0.5555555555555556,
             "#d8576b"
            ],
            [
             0.6666666666666666,
             "#ed7953"
            ],
            [
             0.7777777777777778,
             "#fb9f3a"
            ],
            [
             0.8888888888888888,
             "#fdca26"
            ],
            [
             1,
             "#f0f921"
            ]
           ]
          },
          "colorway": [
           "#636efa",
           "#EF553B",
           "#00cc96",
           "#ab63fa",
           "#FFA15A",
           "#19d3f3",
           "#FF6692",
           "#B6E880",
           "#FF97FF",
           "#FECB52"
          ],
          "font": {
           "color": "#2a3f5f"
          },
          "geo": {
           "bgcolor": "white",
           "lakecolor": "white",
           "landcolor": "#E5ECF6",
           "showlakes": true,
           "showland": true,
           "subunitcolor": "white"
          },
          "hoverlabel": {
           "align": "left"
          },
          "hovermode": "closest",
          "mapbox": {
           "style": "light"
          },
          "paper_bgcolor": "white",
          "plot_bgcolor": "#E5ECF6",
          "polar": {
           "angularaxis": {
            "gridcolor": "white",
            "linecolor": "white",
            "ticks": ""
           },
           "bgcolor": "#E5ECF6",
           "radialaxis": {
            "gridcolor": "white",
            "linecolor": "white",
            "ticks": ""
           }
          },
          "scene": {
           "xaxis": {
            "backgroundcolor": "#E5ECF6",
            "gridcolor": "white",
            "gridwidth": 2,
            "linecolor": "white",
            "showbackground": true,
            "ticks": "",
            "zerolinecolor": "white"
           },
           "yaxis": {
            "backgroundcolor": "#E5ECF6",
            "gridcolor": "white",
            "gridwidth": 2,
            "linecolor": "white",
            "showbackground": true,
            "ticks": "",
            "zerolinecolor": "white"
           },
           "zaxis": {
            "backgroundcolor": "#E5ECF6",
            "gridcolor": "white",
            "gridwidth": 2,
            "linecolor": "white",
            "showbackground": true,
            "ticks": "",
            "zerolinecolor": "white"
           }
          },
          "shapedefaults": {
           "line": {
            "color": "#2a3f5f"
           }
          },
          "ternary": {
           "aaxis": {
            "gridcolor": "white",
            "linecolor": "white",
            "ticks": ""
           },
           "baxis": {
            "gridcolor": "white",
            "linecolor": "white",
            "ticks": ""
           },
           "bgcolor": "#E5ECF6",
           "caxis": {
            "gridcolor": "white",
            "linecolor": "white",
            "ticks": ""
           }
          },
          "title": {
           "x": 0.05
          },
          "xaxis": {
           "automargin": true,
           "gridcolor": "white",
           "linecolor": "white",
           "ticks": "",
           "title": {
            "standoff": 15
           },
           "zerolinecolor": "white",
           "zerolinewidth": 2
          },
          "yaxis": {
           "automargin": true,
           "gridcolor": "white",
           "linecolor": "white",
           "ticks": "",
           "title": {
            "standoff": 15
           },
           "zerolinecolor": "white",
           "zerolinewidth": 2
          }
         }
        },
        "xaxis": {
         "anchor": "y",
         "domain": [
          0,
          1
         ],
         "title": {
          "text": "Bens imóveis culturais"
         }
        },
        "yaxis": {
         "anchor": "x",
         "domain": [
          0,
          1
         ],
         "showgrid": false,
         "showticklabels": false,
         "title": {
          "text": "y"
         }
        }
       }
      }
     },
     "metadata": {},
     "output_type": "display_data"
    },
    {
     "name": "stdout",
     "output_type": "stream",
     "text": [
      "Bens imóveis\n",
      "0    284\n",
      "1     23\n",
      "2      1\n",
      "Name: count, dtype: int64\n",
      "File saved to csv_files/8_Bens imóveis.csv\n"
     ]
    }
   ],
   "source": [
    "clustered_df = aplicar_kmeans(df_bens_imoveis, 3, nome_cluster='Bens imóveis')\n",
    "save_clustered_df_to_csv(clustered_df, \"csv_files/\", \"8_Bens imóveis.csv\")"
   ]
  },
  {
   "cell_type": "markdown",
   "id": "5dcbd117-5119-4441-b288-891a33697758",
   "metadata": {},
   "source": [
    "**Valor médio dos bilhetes vendidos**"
   ]
  },
  {
   "cell_type": "code",
   "execution_count": 12,
   "id": "cdb6ded7-4d65-4e15-a2ed-4fd04325d2c9",
   "metadata": {},
   "outputs": [
    {
     "data": {
      "text/html": [
       "<div>\n",
       "<style scoped>\n",
       "    .dataframe tbody tr th:only-of-type {\n",
       "        vertical-align: middle;\n",
       "    }\n",
       "\n",
       "    .dataframe tbody tr th {\n",
       "        vertical-align: top;\n",
       "    }\n",
       "\n",
       "    .dataframe thead th {\n",
       "        text-align: right;\n",
       "    }\n",
       "</style>\n",
       "<table border=\"1\" class=\"dataframe\">\n",
       "  <thead>\n",
       "    <tr style=\"text-align: right;\">\n",
       "      <th></th>\n",
       "      <th>local</th>\n",
       "      <th>codigo</th>\n",
       "      <th>Valor médio dos bilhetes vendidos de espetáculos ao vivo</th>\n",
       "    </tr>\n",
       "  </thead>\n",
       "  <tbody>\n",
       "    <tr>\n",
       "      <th>4</th>\n",
       "      <td>Arcos de Valdevez</td>\n",
       "      <td>1111601</td>\n",
       "      <td>0.0</td>\n",
       "    </tr>\n",
       "    <tr>\n",
       "      <th>5</th>\n",
       "      <td>Caminha</td>\n",
       "      <td>1111602</td>\n",
       "      <td>0.0</td>\n",
       "    </tr>\n",
       "    <tr>\n",
       "      <th>6</th>\n",
       "      <td>Melgaço</td>\n",
       "      <td>1111603</td>\n",
       "      <td>0.0</td>\n",
       "    </tr>\n",
       "    <tr>\n",
       "      <th>7</th>\n",
       "      <td>Monção</td>\n",
       "      <td>1111604</td>\n",
       "      <td>3.9</td>\n",
       "    </tr>\n",
       "    <tr>\n",
       "      <th>8</th>\n",
       "      <td>Paredes de Coura</td>\n",
       "      <td>1111605</td>\n",
       "      <td>0.0</td>\n",
       "    </tr>\n",
       "    <tr>\n",
       "      <th>...</th>\n",
       "      <td>...</td>\n",
       "      <td>...</td>\n",
       "      <td>...</td>\n",
       "    </tr>\n",
       "    <tr>\n",
       "      <th>339</th>\n",
       "      <td>Porto Santo</td>\n",
       "      <td>3003201</td>\n",
       "      <td>0.0</td>\n",
       "    </tr>\n",
       "    <tr>\n",
       "      <th>340</th>\n",
       "      <td>Ribeira Brava</td>\n",
       "      <td>3003107</td>\n",
       "      <td>0.0</td>\n",
       "    </tr>\n",
       "    <tr>\n",
       "      <th>341</th>\n",
       "      <td>Santa Cruz</td>\n",
       "      <td>3003108</td>\n",
       "      <td>0.0</td>\n",
       "    </tr>\n",
       "    <tr>\n",
       "      <th>342</th>\n",
       "      <td>Santana</td>\n",
       "      <td>3003109</td>\n",
       "      <td>0.0</td>\n",
       "    </tr>\n",
       "    <tr>\n",
       "      <th>343</th>\n",
       "      <td>São Vicente</td>\n",
       "      <td>3003110</td>\n",
       "      <td>0.0</td>\n",
       "    </tr>\n",
       "  </tbody>\n",
       "</table>\n",
       "<p>308 rows × 3 columns</p>\n",
       "</div>"
      ],
      "text/plain": [
       "                 local   codigo  \\\n",
       "4    Arcos de Valdevez  1111601   \n",
       "5              Caminha  1111602   \n",
       "6              Melgaço  1111603   \n",
       "7               Monção  1111604   \n",
       "8     Paredes de Coura  1111605   \n",
       "..                 ...      ...   \n",
       "339        Porto Santo  3003201   \n",
       "340      Ribeira Brava  3003107   \n",
       "341         Santa Cruz  3003108   \n",
       "342            Santana  3003109   \n",
       "343        São Vicente  3003110   \n",
       "\n",
       "     Valor médio dos bilhetes vendidos de espetáculos ao vivo  \n",
       "4                                                  0.0         \n",
       "5                                                  0.0         \n",
       "6                                                  0.0         \n",
       "7                                                  3.9         \n",
       "8                                                  0.0         \n",
       "..                                                 ...         \n",
       "339                                                0.0         \n",
       "340                                                0.0         \n",
       "341                                                0.0         \n",
       "342                                                0.0         \n",
       "343                                                0.0         \n",
       "\n",
       "[308 rows x 3 columns]"
      ]
     },
     "execution_count": 12,
     "metadata": {},
     "output_type": "execute_result"
    }
   ],
   "source": [
    "df_valor_médio_dos_bilhetes_vendidos = processar_ficheiro(data_path+'Valor médio dos bilhetes vendidos de espetáculos ao vivo.xls',0)\n",
    "df_valor_médio_dos_bilhetes_vendidos = carregar_municipios(df_valor_médio_dos_bilhetes_vendidos)\n",
    "df_valor_médio_dos_bilhetes_vendidos = df_valor_médio_dos_bilhetes_vendidos[['local','codigo','Valor médio dos bilhetes vendidos de espetáculos ao vivo']]\n",
    "df_valor_médio_dos_bilhetes_vendidos\n"
   ]
  },
  {
   "cell_type": "code",
   "execution_count": 13,
   "id": "c91b6242-952b-4ec3-bae0-4d5516d98aec",
   "metadata": {},
   "outputs": [
    {
     "data": {
      "application/vnd.plotly.v1+json": {
       "config": {
        "plotlyServerURL": "https://plot.ly"
       },
       "data": [
        {
         "customdata": [
          [
           "Arcos de Valdevez",
           "1111601",
           0
          ],
          [
           "Caminha",
           "1111602",
           0
          ],
          [
           "Melgaço",
           "1111603",
           0
          ],
          [
           "Monção",
           "1111604",
           3.9
          ],
          [
           "Paredes de Coura",
           "1111605",
           0
          ],
          [
           "Ponte da Barca",
           "1111606",
           0
          ],
          [
           "Ponte de Lima",
           "1111607",
           6.5
          ],
          [
           "Valença",
           "1111608",
           0
          ],
          [
           "Viana do Castelo",
           "1111609",
           39.3
          ],
          [
           "Vila Nova de Cerveira",
           "1111610",
           0
          ],
          [
           "Amares",
           "1120301",
           0
          ],
          [
           "Barcelos",
           "1120302",
           6.6
          ],
          [
           "Braga",
           "1120303",
           18.1
          ],
          [
           "Esposende",
           "1120306",
           5.2
          ],
          [
           "Terras de Bouro",
           "1120310",
           0
          ],
          [
           "Vila Verde",
           "1120313",
           0
          ],
          [
           "Cabeceiras de Basto",
           "1190304",
           0
          ],
          [
           "Fafe",
           "1190307",
           16.4
          ],
          [
           "Guimarães",
           "1190308",
           16.3
          ],
          [
           "Mondim de Basto",
           "1191705",
           4.9
          ],
          [
           "Póvoa de Lanhoso",
           "1190309",
           20.5
          ],
          [
           "Vieira do Minho",
           "1190311",
           0
          ],
          [
           "Vila Nova de Famalicão",
           "1190312",
           10.1
          ],
          [
           "Vizela",
           "1190314",
           0
          ],
          [
           "Arouca",
           "11A0104",
           4
          ],
          [
           "Espinho",
           "11A0107",
           10.4
          ],
          [
           "Gondomar",
           "11A1304",
           24
          ],
          [
           "Maia",
           "11A1306",
           13.1
          ],
          [
           "Matosinhos",
           "11A1308",
           1.7
          ],
          [
           "Oliveira de Azeméis",
           "11A0113",
           5
          ],
          [
           "Paredes",
           "11A1310",
           0
          ],
          [
           "Porto",
           "11A1312",
           22.4
          ],
          [
           "Póvoa de Varzim",
           "11A1313",
           12.8
          ],
          [
           "Santa Maria da Feira",
           "11A0109",
           8.1
          ],
          [
           "Santo Tirso",
           "11A1314",
           1.4
          ],
          [
           "São João da Madeira",
           "11A0116",
           7.4
          ],
          [
           "Trofa",
           "11A1318",
           4.9
          ],
          [
           "Vale de Cambra",
           "11A0119",
           0
          ],
          [
           "Valongo",
           "11A1315",
           4.1
          ],
          [
           "Vila do Conde",
           "11A1316",
           16.8
          ],
          [
           "Vila Nova de Gaia",
           "11A1317",
           24.6
          ],
          [
           "Boticas",
           "11B1702",
           0
          ],
          [
           "Chaves",
           "11B1703",
           0
          ],
          [
           "Montalegre",
           "11B1706",
           0
          ],
          [
           "Ribeira de Pena",
           "11B1709",
           0
          ],
          [
           "Valpaços",
           "11B1712",
           0
          ],
          [
           "Vila Pouca de Aguiar",
           "11B1713",
           0
          ],
          [
           "Amarante",
           "11C1301",
           9.7
          ],
          [
           "Baião",
           "11C1302",
           0
          ],
          [
           "Castelo de Paiva",
           "11C0106",
           0
          ],
          [
           "Celorico de Basto",
           "11C0305",
           0
          ],
          [
           "Cinfães",
           "11C1804",
           5
          ],
          [
           "Felgueiras",
           "11C1303",
           6.5
          ],
          [
           "Lousada",
           "11C1305",
           8.2
          ],
          [
           "Marco de Canaveses",
           "11C1307",
           4.3
          ],
          [
           "Paços de Ferreira",
           "11C1309",
           7.5
          ],
          [
           "Penafiel",
           "11C1311",
           4.8
          ],
          [
           "Resende",
           "11C1813",
           0
          ],
          [
           "Alijó",
           "11D1701",
           0
          ],
          [
           "Armamar",
           "11D1801",
           0
          ],
          [
           "Carrazeda de Ansiães",
           "11D0403",
           29.7
          ],
          [
           "Freixo de Espada à Cinta",
           "11D0404",
           0
          ],
          [
           "Lamego",
           "11D1805",
           4.3
          ],
          [
           "Mesão Frio",
           "11D1704",
           0
          ],
          [
           "Moimenta da Beira",
           "11D1807",
           0
          ],
          [
           "Murça",
           "11D1707",
           0
          ],
          [
           "Penedono",
           "11D1812",
           0
          ],
          [
           "Peso da Régua",
           "11D1708",
           16
          ],
          [
           "Sabrosa",
           "11D1710",
           0
          ],
          [
           "Santa Marta de Penaguião",
           "11D1711",
           0
          ],
          [
           "São João da Pesqueira",
           "11D1815",
           0
          ],
          [
           "Sernancelhe",
           "11D1818",
           0
          ],
          [
           "Tabuaço",
           "11D1819",
           0
          ],
          [
           "Tarouca",
           "11D1820",
           0
          ],
          [
           "Torre de Moncorvo",
           "11D0409",
           0
          ],
          [
           "Vila Nova de Foz Côa",
           "11D0914",
           0
          ],
          [
           "Vila Real",
           "11D1714",
           8.4
          ],
          [
           "Alfândega da Fé",
           "11E0401",
           0
          ],
          [
           "Bragança",
           "11E0402",
           5.6
          ],
          [
           "Macedo de Cavaleiros",
           "11E0405",
           5.3
          ],
          [
           "Miranda do Douro",
           "11E0406",
           0
          ],
          [
           "Mirandela",
           "11E0407",
           0
          ],
          [
           "Mogadouro",
           "11E0408",
           0
          ],
          [
           "Vila Flor",
           "11E0410",
           0
          ],
          [
           "Vimioso",
           "11E0411",
           6
          ],
          [
           "Vinhais",
           "11E0412",
           0
          ],
          [
           "Alcobaça",
           "16B1001",
           9.7
          ],
          [
           "Alenquer",
           "16B1101",
           9.9
          ],
          [
           "Arruda dos Vinhos",
           "16B1102",
           4.1
          ],
          [
           "Bombarral",
           "16B1005",
           3
          ],
          [
           "Cadaval",
           "16B1104",
           0
          ],
          [
           "Caldas da Rainha",
           "16B1006",
           11
          ],
          [
           "Lourinhã",
           "16B1108",
           9.5
          ],
          [
           "Nazaré",
           "16B1011",
           0
          ],
          [
           "Óbidos",
           "16B1012",
           18.7
          ],
          [
           "Peniche",
           "16B1014",
           0
          ],
          [
           "Sobral de Monte Agraço",
           "16B1112",
           12.6
          ],
          [
           "Torres Vedras",
           "16B1113",
           8.3
          ],
          [
           "Águeda",
           "16D0101",
           13.8
          ],
          [
           "Albergaria-a-Velha",
           "16D0102",
           8.9
          ],
          [
           "Anadia",
           "16D0103",
           0
          ],
          [
           "Aveiro",
           "16D0105",
           7.9
          ],
          [
           "Estarreja",
           "16D0108",
           10.7
          ],
          [
           "Ílhavo",
           "16D0110",
           6.3
          ],
          [
           "Murtosa",
           "16D0112",
           0
          ],
          [
           "Oliveira do Bairro",
           "16D0114",
           6.8
          ],
          [
           "Ovar",
           "16D0115",
           13.9
          ],
          [
           "Sever do Vouga",
           "16D0117",
           8.4
          ],
          [
           "Vagos",
           "16D0118",
           0
          ],
          [
           "Arganil",
           "16E0601",
           0
          ],
          [
           "Cantanhede",
           "16E0602",
           5.8
          ],
          [
           "Coimbra",
           "16E0603",
           73.5
          ],
          [
           "Condeixa-a-Nova",
           "16E0604",
           2.8
          ],
          [
           "Figueira da Foz",
           "16E0605",
           14
          ],
          [
           "Góis",
           "16E0606",
           0
          ],
          [
           "Lousã",
           "16E0607",
           0
          ],
          [
           "Mealhada",
           "16E0111",
           12.2
          ],
          [
           "Mira",
           "16E0608",
           0
          ],
          [
           "Miranda do Corvo",
           "16E0609",
           7.1
          ],
          [
           "Montemor-o-Velho",
           "16E0610",
           4.1
          ],
          [
           "Mortágua",
           "16E1808",
           5
          ],
          [
           "Oliveira do Hospital",
           "16E0611",
           0
          ],
          [
           "Pampilhosa da Serra",
           "16E0612",
           2.3
          ],
          [
           "Penacova",
           "16E0613",
           11
          ],
          [
           "Penela",
           "16E0614",
           0
          ],
          [
           "Soure",
           "16E0615",
           0
          ],
          [
           "Tábua",
           "16E0616",
           12.3
          ],
          [
           "Vila Nova de Poiares",
           "16E0617",
           5
          ],
          [
           "Alvaiázere",
           "16F1002",
           0
          ],
          [
           "Ansião",
           "16F1003",
           0
          ],
          [
           "Batalha",
           "16F1004",
           13.4
          ],
          [
           "Castanheira de Pêra",
           "16F1007",
           0
          ],
          [
           "Figueiró dos Vinhos",
           "16F1008",
           0
          ],
          [
           "Leiria",
           "16F1009",
           7.6
          ],
          [
           "Marinha Grande",
           "16F1010",
           6.7
          ],
          [
           "Pedrógão Grande",
           "16F1013",
           0
          ],
          [
           "Pombal",
           "16F1015",
           6.5
          ],
          [
           "Porto de Mós",
           "16F1016",
           11.7
          ],
          [
           "Aguiar da Beira",
           "16G0901",
           6.7
          ],
          [
           "Carregal do Sal",
           "16G1802",
           0
          ],
          [
           "Castro Daire",
           "16G1803",
           0
          ],
          [
           "Mangualde",
           "16G1806",
           0
          ],
          [
           "Nelas",
           "16G1809",
           0
          ],
          [
           "Oliveira de Frades",
           "16G1810",
           0
          ],
          [
           "Penalva do Castelo",
           "16G1811",
           0
          ],
          [
           "Santa Comba Dão",
           "16G1814",
           0
          ],
          [
           "São Pedro do Sul",
           "16G1816",
           0
          ],
          [
           "Sátão",
           "16G1817",
           0
          ],
          [
           "Tondela",
           "16G1821",
           4.1
          ],
          [
           "Vila Nova de Paiva",
           "16G1822",
           5.5
          ],
          [
           "Viseu",
           "16G1823",
           6.6
          ],
          [
           "Vouzela",
           "16G1824",
           4.4
          ],
          [
           "Castelo Branco",
           "16H0502",
           10.3
          ],
          [
           "Idanha-a-Nova",
           "16H0505",
           277.3
          ],
          [
           "Oleiros",
           "16H0506",
           0
          ],
          [
           "Penamacor",
           "16H0507",
           0
          ],
          [
           "Proença-a-Nova",
           "16H0508",
           0
          ],
          [
           "Vila Velha de Ródão",
           "16H0511",
           20.3
          ],
          [
           "Abrantes",
           "16I1401",
           1
          ],
          [
           "Alcanena",
           "16I1402",
           7
          ],
          [
           "Constância",
           "16I1408",
           0
          ],
          [
           "Entroncamento",
           "16I1410",
           6.5
          ],
          [
           "Ferreira do Zêzere",
           "16I1411",
           7.4
          ],
          [
           "Mação",
           "16I1413",
           3.3
          ],
          [
           "Ourém",
           "16I1421",
           5.8
          ],
          [
           "Sardoal",
           "16I1417",
           0
          ],
          [
           "Sertã",
           "16I0509",
           0
          ],
          [
           "Tomar",
           "16I1418",
           15.7
          ],
          [
           "Torres Novas",
           "16I1419",
           12.5
          ],
          [
           "Vila de Rei",
           "16I0510",
           0
          ],
          [
           "Vila Nova da Barquinha",
           "16I1420",
           0
          ],
          [
           "Almeida",
           "16J0902",
           0
          ],
          [
           "Belmonte",
           "16J0501",
           0
          ],
          [
           "Celorico da Beira",
           "16J0903",
           0
          ],
          [
           "Covilhã",
           "16J0503",
           3.5
          ],
          [
           "Figueira de Castelo Rodrigo",
           "16J0904",
           0
          ],
          [
           "Fornos de Algodres",
           "16J0905",
           0
          ],
          [
           "Fundão",
           "16J0504",
           13
          ],
          [
           "Gouveia",
           "16J0906",
           7.4
          ],
          [
           "Guarda",
           "16J0907",
           11.9
          ],
          [
           "Manteigas",
           "16J0908",
           1.8
          ],
          [
           "Mêda",
           "16J0909",
           0
          ],
          [
           "Pinhel",
           "16J0910",
           0
          ],
          [
           "Sabugal",
           "16J0911",
           0
          ],
          [
           "Seia",
           "16J0912",
           7.8
          ],
          [
           "Trancoso",
           "16J0913",
           3
          ],
          [
           "Alcochete",
           "1701502",
           15
          ],
          [
           "Almada",
           "1701503",
           17.7
          ],
          [
           "Amadora",
           "1701115",
           9.6
          ],
          [
           "Barreiro",
           "1701504",
           8.3
          ],
          [
           "Cascais",
           "1701105",
           15.3
          ],
          [
           "Lisboa",
           "1701106",
           26.9
          ],
          [
           "Loures",
           "1701107",
           4.9
          ],
          [
           "Mafra",
           "1701109",
           5
          ],
          [
           "Moita",
           "1701506",
           7.5
          ],
          [
           "Montijo",
           "1701507",
           7.7
          ],
          [
           "Odivelas",
           "1701116",
           10.5
          ],
          [
           "Oeiras",
           "1701110",
           66.9
          ],
          [
           "Palmela",
           "1701508",
           8.3
          ],
          [
           "Seixal",
           "1701510",
           7.7
          ],
          [
           "Sesimbra",
           "1701511",
           50.9
          ],
          [
           "Setúbal",
           "1701512",
           10.1
          ],
          [
           "Sintra",
           "1701111",
           12.9
          ],
          [
           "Vila Franca de Xira",
           "1701114",
           12.1
          ],
          [
           "Alcácer do Sal",
           "1811501",
           0
          ],
          [
           "Grândola",
           "1811505",
           0
          ],
          [
           "Odemira",
           "1810211",
           77.6
          ],
          [
           "Santiago do Cacém",
           "1811509",
           2.6
          ],
          [
           "Sines",
           "1811513",
           23.1
          ],
          [
           "Aljustrel",
           "1840201",
           5
          ],
          [
           "Almodôvar",
           "1840202",
           0
          ],
          [
           "Alvito",
           "1840203",
           0
          ],
          [
           "Barrancos",
           "1840204",
           0
          ],
          [
           "Beja",
           "1840205",
           13.3
          ],
          [
           "Castro Verde",
           "1840206",
           3.8
          ],
          [
           "Cuba",
           "1840207",
           0
          ],
          [
           "Ferreira do Alentejo",
           "1840208",
           0
          ],
          [
           "Mértola",
           "1840209",
           0
          ],
          [
           "Moura",
           "1840210",
           0
          ],
          [
           "Ourique",
           "1840212",
           0
          ],
          [
           "Serpa",
           "1840213",
           15
          ],
          [
           "Vidigueira",
           "1840214",
           0
          ],
          [
           "Almeirim",
           "1851403",
           6.4
          ],
          [
           "Alpiarça",
           "1851404",
           0
          ],
          [
           "Azambuja",
           "1851103",
           0
          ],
          [
           "Benavente",
           "1851405",
           6.1
          ],
          [
           "Cartaxo",
           "1851406",
           10.8
          ],
          [
           "Chamusca",
           "1851407",
           3.8
          ],
          [
           "Coruche",
           "1851409",
           0
          ],
          [
           "Golegã",
           "1851412",
           0
          ],
          [
           "Rio Maior",
           "1851414",
           4.8
          ],
          [
           "Salvaterra de Magos",
           "1851415",
           0
          ],
          [
           "Santarém",
           "1851416",
           8.1
          ],
          [
           "Alter do Chão",
           "1861201",
           7.3
          ],
          [
           "Arronches",
           "1861202",
           0
          ],
          [
           "Avis",
           "1861203",
           6.2
          ],
          [
           "Campo Maior",
           "1861204",
           0
          ],
          [
           "Castelo de Vide",
           "1861205",
           0
          ],
          [
           "Crato",
           "1861206",
           0
          ],
          [
           "Elvas",
           "1861207",
           7.2
          ],
          [
           "Fronteira",
           "1861208",
           0
          ],
          [
           "Gavião",
           "1861209",
           0
          ],
          [
           "Marvão",
           "1861210",
           0
          ],
          [
           "Monforte",
           "1861211",
           0
          ],
          [
           "Nisa",
           "1861212",
           12.4
          ],
          [
           "Ponte de Sor",
           "1861213",
           10.9
          ],
          [
           "Portalegre",
           "1861214",
           0
          ],
          [
           "Sousel",
           "1861215",
           3.4
          ],
          [
           "Alandroal",
           "1870701",
           0
          ],
          [
           "Arraiolos",
           "1870702",
           0
          ],
          [
           "Borba",
           "1870703",
           0
          ],
          [
           "Estremoz",
           "1870704",
           5.5
          ],
          [
           "Évora",
           "1870705",
           12.2
          ],
          [
           "Montemor-o-Novo",
           "1870706",
           3
          ],
          [
           "Mora",
           "1870707",
           0
          ],
          [
           "Mourão",
           "1870708",
           0
          ],
          [
           "Portel",
           "1870709",
           4.5
          ],
          [
           "Redondo",
           "1870710",
           0
          ],
          [
           "Reguengos de Monsaraz",
           "1870711",
           5
          ],
          [
           "Vendas Novas",
           "1870712",
           0
          ],
          [
           "Viana do Alentejo",
           "1870713",
           0
          ],
          [
           "Vila Viçosa",
           "1870714",
           0
          ],
          [
           "Albufeira",
           "1500801",
           15.6
          ],
          [
           "Alcoutim",
           "1500802",
           0
          ],
          [
           "Aljezur",
           "1500803",
           8.9
          ],
          [
           "Castro Marim",
           "1500804",
           0
          ],
          [
           "Faro",
           "1500805",
           19.9
          ],
          [
           "Lagoa",
           "1500806",
           7.9
          ],
          [
           "Lagos",
           "1500807",
           9.3
          ],
          [
           "Loulé",
           "1500808",
           8.7
          ],
          [
           "Monchique",
           "1500809",
           0
          ],
          [
           "Olhão",
           "1500810",
           11.8
          ],
          [
           "Portimão",
           "1500811",
           15.9
          ],
          [
           "São Brás de Alportel",
           "1500812",
           0
          ],
          [
           "Silves",
           "1500813",
           13.5
          ],
          [
           "Tavira",
           "1500814",
           9.7
          ],
          [
           "Vila do Bispo",
           "1500815",
           2.8
          ],
          [
           "Vila Real de Santo António",
           "1500816",
           0
          ],
          [
           "Angra do Heroísmo",
           "2004301",
           15.8
          ],
          [
           "Calheta",
           "2004501",
           0
          ],
          [
           "Corvo",
           "2004901",
           0
          ],
          [
           "Horta",
           "2004701",
           0
          ],
          [
           "Lagoa",
           "2004201",
           11.7
          ],
          [
           "Lajes das Flores",
           "2004801",
           0
          ],
          [
           "Lajes do Pico",
           "2004601",
           0
          ],
          [
           "Madalena",
           "2004602",
           0
          ],
          [
           "Nordeste",
           "2004202",
           0
          ],
          [
           "Ponta Delgada",
           "2004203",
           18.8
          ],
          [
           "Povoação",
           "2004204",
           0
          ],
          [
           "Ribeira Grande",
           "2004205",
           10.2
          ],
          [
           "Santa Cruz da Graciosa",
           "2004401",
           0
          ],
          [
           "Santa Cruz das Flores",
           "2004802",
           0
          ],
          [
           "São Roque do Pico",
           "2004603",
           0
          ],
          [
           "Velas",
           "2004502",
           0
          ],
          [
           "Vila da Praia da Vitória",
           "2004302",
           0
          ],
          [
           "Vila do Porto",
           "2004101",
           22.6
          ],
          [
           "Vila Franca do Campo",
           "2004206",
           0
          ],
          [
           "Calheta",
           "3003101",
           10
          ],
          [
           "Câmara de Lobos",
           "3003102",
           0
          ],
          [
           "Funchal",
           "3003103",
           14.1
          ],
          [
           "Machico",
           "3003104",
           4.3
          ],
          [
           "Ponta do Sol",
           "3003105",
           10.4
          ],
          [
           "Porto Moniz",
           "3003106",
           0
          ],
          [
           "Porto Santo",
           "3003201",
           0
          ],
          [
           "Ribeira Brava",
           "3003107",
           0
          ],
          [
           "Santa Cruz",
           "3003108",
           0
          ],
          [
           "Santana",
           "3003109",
           0
          ],
          [
           "São Vicente",
           "3003110",
           0
          ]
         ],
         "hovertemplate": "valor=%{x}<br>y=%{y}<br>local=%{customdata[0]}<br>codigo=%{customdata[1]}<br>Valor médio dos bilhetes vendidos de espetáculos ao vivo=%{customdata[2]}<br>Valor médio dos bilhetes vendidos=%{marker.color}<extra></extra>",
         "legendgroup": "",
         "marker": {
          "color": [
           0,
           0,
           0,
           0,
           0,
           0,
           0,
           0,
           1,
           0,
           0,
           0,
           0,
           0,
           0,
           0,
           0,
           0,
           0,
           0,
           0,
           0,
           0,
           0,
           0,
           0,
           0,
           0,
           0,
           0,
           0,
           0,
           0,
           0,
           0,
           0,
           0,
           0,
           0,
           0,
           0,
           0,
           0,
           0,
           0,
           0,
           0,
           0,
           0,
           0,
           0,
           0,
           0,
           0,
           0,
           0,
           0,
           0,
           0,
           0,
           0,
           0,
           0,
           0,
           0,
           0,
           0,
           0,
           0,
           0,
           0,
           0,
           0,
           0,
           0,
           0,
           0,
           0,
           0,
           0,
           0,
           0,
           0,
           0,
           0,
           0,
           0,
           0,
           0,
           0,
           0,
           0,
           0,
           0,
           0,
           0,
           0,
           0,
           0,
           0,
           0,
           0,
           0,
           0,
           0,
           0,
           0,
           0,
           0,
           0,
           0,
           1,
           0,
           0,
           0,
           0,
           0,
           0,
           0,
           0,
           0,
           0,
           0,
           0,
           0,
           0,
           0,
           0,
           0,
           0,
           0,
           0,
           0,
           0,
           0,
           0,
           0,
           0,
           0,
           0,
           0,
           0,
           0,
           0,
           0,
           0,
           0,
           0,
           0,
           0,
           0,
           0,
           0,
           2,
           0,
           0,
           0,
           0,
           0,
           0,
           0,
           0,
           0,
           0,
           0,
           0,
           0,
           0,
           0,
           0,
           0,
           0,
           0,
           0,
           0,
           0,
           0,
           0,
           0,
           0,
           0,
           0,
           0,
           0,
           0,
           0,
           0,
           0,
           0,
           0,
           0,
           0,
           0,
           0,
           0,
           0,
           0,
           1,
           0,
           0,
           1,
           0,
           0,
           0,
           0,
           0,
           1,
           0,
           0,
           0,
           0,
           0,
           0,
           0,
           0,
           0,
           0,
           0,
           0,
           0,
           0,
           0,
           0,
           0,
           0,
           0,
           0,
           0,
           0,
           0,
           0,
           0,
           0,
           0,
           0,
           0,
           0,
           0,
           0,
           0,
           0,
           0,
           0,
           0,
           0,
           0,
           0,
           0,
           0,
           0,
           0,
           0,
           0,
           0,
           0,
           0,
           0,
           0,
           0,
           0,
           0,
           0,
           0,
           0,
           0,
           0,
           0,
           0,
           0,
           0,
           0,
           0,
           0,
           0,
           0,
           0,
           0,
           0,
           0,
           0,
           0,
           0,
           0,
           0,
           0,
           0,
           0,
           0,
           0,
           0,
           0,
           0,
           0,
           0,
           0,
           0,
           0,
           0,
           0,
           0,
           0,
           0,
           0,
           0,
           0,
           0,
           0,
           0
          ],
          "coloraxis": "coloraxis",
          "size": 10,
          "symbol": "circle"
         },
         "mode": "markers",
         "name": "",
         "orientation": "v",
         "showlegend": false,
         "type": "scatter",
         "x": [
          -0.36316896062708365,
          -0.36316896062708365,
          -0.36316896062708365,
          -0.1487273563871717,
          -0.36316896062708365,
          -0.36316896062708365,
          -0.005766286893897061,
          -0.36316896062708365,
          1.7977425897904904,
          -0.36316896062708365,
          -0.36316896062708365,
          -0.00026778422107882573,
          0.6320600231530207,
          -0.07724682164053437,
          -0.36316896062708365,
          -0.36316896062708365,
          -0.36316896062708365,
          0.5385854777151101,
          0.533086975042292,
          -0.09374232965898913,
          0.7640240873006587,
          -0.36316896062708365,
          0.1921798093275601,
          -0.36316896062708365,
          -0.14322885371435343,
          0.2086753173460149,
          0.9564716808492976,
          0.35713488951210776,
          -0.2696944151891733,
          -0.08824382698617089,
          -0.36316896062708365,
          0.8684956380842055,
          0.340639381493653,
          0.082209755871195,
          -0.2861899232076281,
          0.04372023716146725,
          -0.09374232965898913,
          -0.36316896062708365,
          -0.1377303510415352,
          0.5605794884063833,
          0.9894626968862072,
          -0.36316896062708365,
          -0.36316896062708365,
          -0.36316896062708365,
          -0.36316896062708365,
          -0.36316896062708365,
          -0.36316896062708365,
          0.17018579863628705,
          -0.36316896062708365,
          -0.36316896062708365,
          -0.36316896062708365,
          -0.08824382698617089,
          -0.005766286893897061,
          0.08770825854401323,
          -0.12673334569589867,
          0.04921873983428549,
          -0.0992408323318074,
          -0.36316896062708365,
          -0.36316896062708365,
          -0.36316896062708365,
          1.2698863331999382,
          -0.36316896062708365,
          -0.12673334569589867,
          -0.36316896062708365,
          -0.36316896062708365,
          -0.36316896062708365,
          -0.36316896062708365,
          0.5165914670238372,
          -0.36316896062708365,
          -0.36316896062708365,
          -0.36316896062708365,
          -0.36316896062708365,
          -0.36316896062708365,
          -0.36316896062708365,
          -0.36316896062708365,
          -0.36316896062708365,
          0.0987052638896498,
          -0.36316896062708365,
          -0.05525281094926138,
          -0.07174831896771613,
          -0.36316896062708365,
          -0.36316896062708365,
          -0.36316896062708365,
          -0.36316896062708365,
          -0.03325880025798834,
          -0.36316896062708365,
          0.17018579863628705,
          0.18118280398192363,
          -0.1377303510415352,
          -0.198213880442536,
          -0.36316896062708365,
          0.24166633338292443,
          0.15918879329065058,
          -0.36316896062708365,
          0.66505103918993,
          -0.36316896062708365,
          0.3296423761480165,
          0.09320676121683157,
          0.3956244082218356,
          0.12619777725374107,
          -0.36316896062708365,
          0.07121275052555853,
          0.2251708253644696,
          -0.01676329223953358,
          -0.36316896062708365,
          0.010729221124557695,
          0.40112291089465385,
          0.0987052638896498,
          -0.36316896062708365,
          -0.36316896062708365,
          -0.044255805603624854,
          3.6782305038943335,
          -0.2092108857881725,
          0.40662141356747206,
          -0.36316896062708365,
          -0.36316896062708365,
          0.30764836545674346,
          -0.36316896062708365,
          0.02722472914301245,
          -0.1377303510415352,
          -0.08824382698617089,
          -0.36316896062708365,
          -0.2367033991522638,
          0.24166633338292443,
          -0.36316896062708365,
          -0.36316896062708365,
          0.3131468681295618,
          -0.08824382698617089,
          -0.36316896062708365,
          -0.36316896062708365,
          0.37363039753056254,
          -0.36316896062708365,
          -0.36316896062708365,
          0.054717242507103726,
          0.005230718451739459,
          -0.36316896062708365,
          -0.005766286893897061,
          0.28015585209265215,
          0.005230718451739459,
          -0.36316896062708365,
          -0.36316896062708365,
          -0.36316896062708365,
          -0.36316896062708365,
          -0.36316896062708365,
          -0.36316896062708365,
          -0.36316896062708365,
          -0.36316896062708365,
          -0.36316896062708365,
          -0.1377303510415352,
          -0.06075131362207961,
          -0.00026778422107882573,
          -0.1212348430230804,
          0.20317681467319668,
          14.88417895109794,
          -0.36316896062708365,
          -0.36316896062708365,
          -0.36316896062708365,
          0.7530270819550222,
          -0.3081839338989011,
          0.021726226470194215,
          -0.36316896062708365,
          -0.005766286893897061,
          0.04372023716146725,
          -0.18171837242408123,
          -0.044255805603624854,
          -0.36316896062708365,
          -0.36316896062708365,
          0.5000959590053824,
          0.32414387347519824,
          -0.36316896062708365,
          -0.36316896062708365,
          -0.36316896062708365,
          -0.36316896062708365,
          -0.36316896062708365,
          -0.1707213670784447,
          -0.36316896062708365,
          -0.36316896062708365,
          0.3516363868392895,
          0.04372023716146725,
          0.2911528574382887,
          -0.26419591251635505,
          -0.36316896062708365,
          -0.36316896062708365,
          -0.36316896062708365,
          0.06571424785274024,
          -0.198213880442536,
          0.4616064402956547,
          0.6100660124617475,
          0.16468729596346882,
          0.09320676121683157,
          0.47810194831410946,
          1.115928258361027,
          -0.09374232965898913,
          -0.08824382698617089,
          0.04921873983428549,
          0.06021574517992201,
          0.21417382001883314,
          3.3153293274883295,
          0.09320676121683157,
          0.06021574517992201,
          2.435568899837408,
          0.1921798093275601,
          0.3461378841664713,
          0.3021498627839252,
          -0.36316896062708365,
          -0.36316896062708365,
          3.9036691134798818,
          -0.22020789113380898,
          0.9069851567939334,
          -0.08824382698617089,
          -0.36316896062708365,
          -0.36316896062708365,
          -0.36316896062708365,
          0.36813189485774434,
          -0.15422585905998995,
          -0.36316896062708365,
          -0.36316896062708365,
          -0.36316896062708365,
          -0.36316896062708365,
          -0.36316896062708365,
          0.4616064402956547,
          -0.36316896062708365,
          -0.011264789566715297,
          -0.36316896062708365,
          -0.36316896062708365,
          -0.0277602975851701,
          0.23066932803728796,
          -0.15422585905998995,
          -0.36316896062708365,
          -0.36316896062708365,
          -0.0992408323318074,
          -0.36316896062708365,
          0.082209755871195,
          0.03822173448864897,
          -0.36316896062708365,
          -0.022261794912351817,
          -0.36316896062708365,
          -0.36316896062708365,
          -0.36316896062708365,
          0.032723231815830735,
          -0.36316896062708365,
          -0.36316896062708365,
          -0.36316896062708365,
          -0.36316896062708365,
          0.31864537080238,
          0.2361678307101062,
          -0.36316896062708365,
          -0.17621986975126297,
          -0.36316896062708365,
          -0.36316896062708365,
          -0.36316896062708365,
          -0.06075131362207961,
          0.30764836545674346,
          -0.198213880442536,
          -0.36316896062708365,
          -0.36316896062708365,
          -0.11573634035026216,
          -0.36316896062708365,
          -0.08824382698617089,
          -0.36316896062708365,
          -0.36316896062708365,
          -0.36316896062708365,
          0.4945974563325641,
          -0.36316896062708365,
          0.12619777725374107,
          -0.36316896062708365,
          0.7310330712637491,
          0.07121275052555853,
          0.14819178794501411,
          0.11520077190810452,
          -0.36316896062708365,
          0.2856543547654705,
          0.5110929643510189,
          -0.36316896062708365,
          0.3791289002033808,
          0.17018579863628705,
          -0.2092108857881725,
          -0.36316896062708365,
          0.5055944616782008,
          -0.36316896062708365,
          -0.36316896062708365,
          -0.36316896062708365,
          0.28015585209265215,
          -0.36316896062708365,
          -0.36316896062708365,
          -0.36316896062708365,
          -0.36316896062708365,
          0.6705495418627484,
          -0.36316896062708365,
          0.19767831200037833,
          -0.36316896062708365,
          -0.36316896062708365,
          -0.36316896062708365,
          -0.36316896062708365,
          -0.36316896062708365,
          0.8794926434298421,
          -0.36316896062708365,
          0.18668130665474186,
          -0.36316896062708365,
          0.4121199162402903,
          -0.12673334569589867,
          0.2086753173460149,
          -0.36316896062708365,
          -0.36316896062708365,
          -0.36316896062708365,
          -0.36316896062708365,
          -0.36316896062708365,
          -0.36316896062708365
         ],
         "xaxis": "x",
         "y": [
          0,
          0,
          0,
          0,
          0,
          0,
          0,
          0,
          0,
          0,
          0,
          0,
          0,
          0,
          0,
          0,
          0,
          0,
          0,
          0,
          0,
          0,
          0,
          0,
          0,
          0,
          0,
          0,
          0,
          0,
          0,
          0,
          0,
          0,
          0,
          0,
          0,
          0,
          0,
          0,
          0,
          0,
          0,
          0,
          0,
          0,
          0,
          0,
          0,
          0,
          0,
          0,
          0,
          0,
          0,
          0,
          0,
          0,
          0,
          0,
          0,
          0,
          0,
          0,
          0,
          0,
          0,
          0,
          0,
          0,
          0,
          0,
          0,
          0,
          0,
          0,
          0,
          0,
          0,
          0,
          0,
          0,
          0,
          0,
          0,
          0,
          0,
          0,
          0,
          0,
          0,
          0,
          0,
          0,
          0,
          0,
          0,
          0,
          0,
          0,
          0,
          0,
          0,
          0,
          0,
          0,
          0,
          0,
          0,
          0,
          0,
          0,
          0,
          0,
          0,
          0,
          0,
          0,
          0,
          0,
          0,
          0,
          0,
          0,
          0,
          0,
          0,
          0,
          0,
          0,
          0,
          0,
          0,
          0,
          0,
          0,
          0,
          0,
          0,
          0,
          0,
          0,
          0,
          0,
          0,
          0,
          0,
          0,
          0,
          0,
          0,
          0,
          0,
          0,
          0,
          0,
          0,
          0,
          0,
          0,
          0,
          0,
          0,
          0,
          0,
          0,
          0,
          0,
          0,
          0,
          0,
          0,
          0,
          0,
          0,
          0,
          0,
          0,
          0,
          0,
          0,
          0,
          0,
          0,
          0,
          0,
          0,
          0,
          0,
          0,
          0,
          0,
          0,
          0,
          0,
          0,
          0,
          0,
          0,
          0,
          0,
          0,
          0,
          0,
          0,
          0,
          0,
          0,
          0,
          0,
          0,
          0,
          0,
          0,
          0,
          0,
          0,
          0,
          0,
          0,
          0,
          0,
          0,
          0,
          0,
          0,
          0,
          0,
          0,
          0,
          0,
          0,
          0,
          0,
          0,
          0,
          0,
          0,
          0,
          0,
          0,
          0,
          0,
          0,
          0,
          0,
          0,
          0,
          0,
          0,
          0,
          0,
          0,
          0,
          0,
          0,
          0,
          0,
          0,
          0,
          0,
          0,
          0,
          0,
          0,
          0,
          0,
          0,
          0,
          0,
          0,
          0,
          0,
          0,
          0,
          0,
          0,
          0,
          0,
          0,
          0,
          0,
          0,
          0,
          0,
          0,
          0,
          0,
          0,
          0,
          0,
          0,
          0,
          0,
          0,
          0,
          0,
          0,
          0,
          0,
          0,
          0,
          0,
          0,
          0,
          0,
          0,
          0
         ],
         "yaxis": "y"
        }
       ],
       "layout": {
        "coloraxis": {
         "colorbar": {
          "title": {
           "text": "Valor médio dos bilhetes vendidos"
          }
         },
         "colorscale": [
          [
           0,
           "#440154"
          ],
          [
           0.1111111111111111,
           "#482878"
          ],
          [
           0.2222222222222222,
           "#3e4989"
          ],
          [
           0.3333333333333333,
           "#31688e"
          ],
          [
           0.4444444444444444,
           "#26828e"
          ],
          [
           0.5555555555555556,
           "#1f9e89"
          ],
          [
           0.6666666666666666,
           "#35b779"
          ],
          [
           0.7777777777777778,
           "#6ece58"
          ],
          [
           0.8888888888888888,
           "#b5de2b"
          ],
          [
           1,
           "#fde725"
          ]
         ]
        },
        "height": 300,
        "legend": {
         "tracegroupgap": 0
        },
        "margin": {
         "t": 60
        },
        "template": {
         "data": {
          "bar": [
           {
            "error_x": {
             "color": "#2a3f5f"
            },
            "error_y": {
             "color": "#2a3f5f"
            },
            "marker": {
             "line": {
              "color": "#E5ECF6",
              "width": 0.5
             },
             "pattern": {
              "fillmode": "overlay",
              "size": 10,
              "solidity": 0.2
             }
            },
            "type": "bar"
           }
          ],
          "barpolar": [
           {
            "marker": {
             "line": {
              "color": "#E5ECF6",
              "width": 0.5
             },
             "pattern": {
              "fillmode": "overlay",
              "size": 10,
              "solidity": 0.2
             }
            },
            "type": "barpolar"
           }
          ],
          "carpet": [
           {
            "aaxis": {
             "endlinecolor": "#2a3f5f",
             "gridcolor": "white",
             "linecolor": "white",
             "minorgridcolor": "white",
             "startlinecolor": "#2a3f5f"
            },
            "baxis": {
             "endlinecolor": "#2a3f5f",
             "gridcolor": "white",
             "linecolor": "white",
             "minorgridcolor": "white",
             "startlinecolor": "#2a3f5f"
            },
            "type": "carpet"
           }
          ],
          "choropleth": [
           {
            "colorbar": {
             "outlinewidth": 0,
             "ticks": ""
            },
            "type": "choropleth"
           }
          ],
          "contour": [
           {
            "colorbar": {
             "outlinewidth": 0,
             "ticks": ""
            },
            "colorscale": [
             [
              0,
              "#0d0887"
             ],
             [
              0.1111111111111111,
              "#46039f"
             ],
             [
              0.2222222222222222,
              "#7201a8"
             ],
             [
              0.3333333333333333,
              "#9c179e"
             ],
             [
              0.4444444444444444,
              "#bd3786"
             ],
             [
              0.5555555555555556,
              "#d8576b"
             ],
             [
              0.6666666666666666,
              "#ed7953"
             ],
             [
              0.7777777777777778,
              "#fb9f3a"
             ],
             [
              0.8888888888888888,
              "#fdca26"
             ],
             [
              1,
              "#f0f921"
             ]
            ],
            "type": "contour"
           }
          ],
          "contourcarpet": [
           {
            "colorbar": {
             "outlinewidth": 0,
             "ticks": ""
            },
            "type": "contourcarpet"
           }
          ],
          "heatmap": [
           {
            "colorbar": {
             "outlinewidth": 0,
             "ticks": ""
            },
            "colorscale": [
             [
              0,
              "#0d0887"
             ],
             [
              0.1111111111111111,
              "#46039f"
             ],
             [
              0.2222222222222222,
              "#7201a8"
             ],
             [
              0.3333333333333333,
              "#9c179e"
             ],
             [
              0.4444444444444444,
              "#bd3786"
             ],
             [
              0.5555555555555556,
              "#d8576b"
             ],
             [
              0.6666666666666666,
              "#ed7953"
             ],
             [
              0.7777777777777778,
              "#fb9f3a"
             ],
             [
              0.8888888888888888,
              "#fdca26"
             ],
             [
              1,
              "#f0f921"
             ]
            ],
            "type": "heatmap"
           }
          ],
          "heatmapgl": [
           {
            "colorbar": {
             "outlinewidth": 0,
             "ticks": ""
            },
            "colorscale": [
             [
              0,
              "#0d0887"
             ],
             [
              0.1111111111111111,
              "#46039f"
             ],
             [
              0.2222222222222222,
              "#7201a8"
             ],
             [
              0.3333333333333333,
              "#9c179e"
             ],
             [
              0.4444444444444444,
              "#bd3786"
             ],
             [
              0.5555555555555556,
              "#d8576b"
             ],
             [
              0.6666666666666666,
              "#ed7953"
             ],
             [
              0.7777777777777778,
              "#fb9f3a"
             ],
             [
              0.8888888888888888,
              "#fdca26"
             ],
             [
              1,
              "#f0f921"
             ]
            ],
            "type": "heatmapgl"
           }
          ],
          "histogram": [
           {
            "marker": {
             "pattern": {
              "fillmode": "overlay",
              "size": 10,
              "solidity": 0.2
             }
            },
            "type": "histogram"
           }
          ],
          "histogram2d": [
           {
            "colorbar": {
             "outlinewidth": 0,
             "ticks": ""
            },
            "colorscale": [
             [
              0,
              "#0d0887"
             ],
             [
              0.1111111111111111,
              "#46039f"
             ],
             [
              0.2222222222222222,
              "#7201a8"
             ],
             [
              0.3333333333333333,
              "#9c179e"
             ],
             [
              0.4444444444444444,
              "#bd3786"
             ],
             [
              0.5555555555555556,
              "#d8576b"
             ],
             [
              0.6666666666666666,
              "#ed7953"
             ],
             [
              0.7777777777777778,
              "#fb9f3a"
             ],
             [
              0.8888888888888888,
              "#fdca26"
             ],
             [
              1,
              "#f0f921"
             ]
            ],
            "type": "histogram2d"
           }
          ],
          "histogram2dcontour": [
           {
            "colorbar": {
             "outlinewidth": 0,
             "ticks": ""
            },
            "colorscale": [
             [
              0,
              "#0d0887"
             ],
             [
              0.1111111111111111,
              "#46039f"
             ],
             [
              0.2222222222222222,
              "#7201a8"
             ],
             [
              0.3333333333333333,
              "#9c179e"
             ],
             [
              0.4444444444444444,
              "#bd3786"
             ],
             [
              0.5555555555555556,
              "#d8576b"
             ],
             [
              0.6666666666666666,
              "#ed7953"
             ],
             [
              0.7777777777777778,
              "#fb9f3a"
             ],
             [
              0.8888888888888888,
              "#fdca26"
             ],
             [
              1,
              "#f0f921"
             ]
            ],
            "type": "histogram2dcontour"
           }
          ],
          "mesh3d": [
           {
            "colorbar": {
             "outlinewidth": 0,
             "ticks": ""
            },
            "type": "mesh3d"
           }
          ],
          "parcoords": [
           {
            "line": {
             "colorbar": {
              "outlinewidth": 0,
              "ticks": ""
             }
            },
            "type": "parcoords"
           }
          ],
          "pie": [
           {
            "automargin": true,
            "type": "pie"
           }
          ],
          "scatter": [
           {
            "fillpattern": {
             "fillmode": "overlay",
             "size": 10,
             "solidity": 0.2
            },
            "type": "scatter"
           }
          ],
          "scatter3d": [
           {
            "line": {
             "colorbar": {
              "outlinewidth": 0,
              "ticks": ""
             }
            },
            "marker": {
             "colorbar": {
              "outlinewidth": 0,
              "ticks": ""
             }
            },
            "type": "scatter3d"
           }
          ],
          "scattercarpet": [
           {
            "marker": {
             "colorbar": {
              "outlinewidth": 0,
              "ticks": ""
             }
            },
            "type": "scattercarpet"
           }
          ],
          "scattergeo": [
           {
            "marker": {
             "colorbar": {
              "outlinewidth": 0,
              "ticks": ""
             }
            },
            "type": "scattergeo"
           }
          ],
          "scattergl": [
           {
            "marker": {
             "colorbar": {
              "outlinewidth": 0,
              "ticks": ""
             }
            },
            "type": "scattergl"
           }
          ],
          "scattermapbox": [
           {
            "marker": {
             "colorbar": {
              "outlinewidth": 0,
              "ticks": ""
             }
            },
            "type": "scattermapbox"
           }
          ],
          "scatterpolar": [
           {
            "marker": {
             "colorbar": {
              "outlinewidth": 0,
              "ticks": ""
             }
            },
            "type": "scatterpolar"
           }
          ],
          "scatterpolargl": [
           {
            "marker": {
             "colorbar": {
              "outlinewidth": 0,
              "ticks": ""
             }
            },
            "type": "scatterpolargl"
           }
          ],
          "scatterternary": [
           {
            "marker": {
             "colorbar": {
              "outlinewidth": 0,
              "ticks": ""
             }
            },
            "type": "scatterternary"
           }
          ],
          "surface": [
           {
            "colorbar": {
             "outlinewidth": 0,
             "ticks": ""
            },
            "colorscale": [
             [
              0,
              "#0d0887"
             ],
             [
              0.1111111111111111,
              "#46039f"
             ],
             [
              0.2222222222222222,
              "#7201a8"
             ],
             [
              0.3333333333333333,
              "#9c179e"
             ],
             [
              0.4444444444444444,
              "#bd3786"
             ],
             [
              0.5555555555555556,
              "#d8576b"
             ],
             [
              0.6666666666666666,
              "#ed7953"
             ],
             [
              0.7777777777777778,
              "#fb9f3a"
             ],
             [
              0.8888888888888888,
              "#fdca26"
             ],
             [
              1,
              "#f0f921"
             ]
            ],
            "type": "surface"
           }
          ],
          "table": [
           {
            "cells": {
             "fill": {
              "color": "#EBF0F8"
             },
             "line": {
              "color": "white"
             }
            },
            "header": {
             "fill": {
              "color": "#C8D4E3"
             },
             "line": {
              "color": "white"
             }
            },
            "type": "table"
           }
          ]
         },
         "layout": {
          "annotationdefaults": {
           "arrowcolor": "#2a3f5f",
           "arrowhead": 0,
           "arrowwidth": 1
          },
          "autotypenumbers": "strict",
          "coloraxis": {
           "colorbar": {
            "outlinewidth": 0,
            "ticks": ""
           }
          },
          "colorscale": {
           "diverging": [
            [
             0,
             "#8e0152"
            ],
            [
             0.1,
             "#c51b7d"
            ],
            [
             0.2,
             "#de77ae"
            ],
            [
             0.3,
             "#f1b6da"
            ],
            [
             0.4,
             "#fde0ef"
            ],
            [
             0.5,
             "#f7f7f7"
            ],
            [
             0.6,
             "#e6f5d0"
            ],
            [
             0.7,
             "#b8e186"
            ],
            [
             0.8,
             "#7fbc41"
            ],
            [
             0.9,
             "#4d9221"
            ],
            [
             1,
             "#276419"
            ]
           ],
           "sequential": [
            [
             0,
             "#0d0887"
            ],
            [
             0.1111111111111111,
             "#46039f"
            ],
            [
             0.2222222222222222,
             "#7201a8"
            ],
            [
             0.3333333333333333,
             "#9c179e"
            ],
            [
             0.4444444444444444,
             "#bd3786"
            ],
            [
             0.5555555555555556,
             "#d8576b"
            ],
            [
             0.6666666666666666,
             "#ed7953"
            ],
            [
             0.7777777777777778,
             "#fb9f3a"
            ],
            [
             0.8888888888888888,
             "#fdca26"
            ],
            [
             1,
             "#f0f921"
            ]
           ],
           "sequentialminus": [
            [
             0,
             "#0d0887"
            ],
            [
             0.1111111111111111,
             "#46039f"
            ],
            [
             0.2222222222222222,
             "#7201a8"
            ],
            [
             0.3333333333333333,
             "#9c179e"
            ],
            [
             0.4444444444444444,
             "#bd3786"
            ],
            [
             0.5555555555555556,
             "#d8576b"
            ],
            [
             0.6666666666666666,
             "#ed7953"
            ],
            [
             0.7777777777777778,
             "#fb9f3a"
            ],
            [
             0.8888888888888888,
             "#fdca26"
            ],
            [
             1,
             "#f0f921"
            ]
           ]
          },
          "colorway": [
           "#636efa",
           "#EF553B",
           "#00cc96",
           "#ab63fa",
           "#FFA15A",
           "#19d3f3",
           "#FF6692",
           "#B6E880",
           "#FF97FF",
           "#FECB52"
          ],
          "font": {
           "color": "#2a3f5f"
          },
          "geo": {
           "bgcolor": "white",
           "lakecolor": "white",
           "landcolor": "#E5ECF6",
           "showlakes": true,
           "showland": true,
           "subunitcolor": "white"
          },
          "hoverlabel": {
           "align": "left"
          },
          "hovermode": "closest",
          "mapbox": {
           "style": "light"
          },
          "paper_bgcolor": "white",
          "plot_bgcolor": "#E5ECF6",
          "polar": {
           "angularaxis": {
            "gridcolor": "white",
            "linecolor": "white",
            "ticks": ""
           },
           "bgcolor": "#E5ECF6",
           "radialaxis": {
            "gridcolor": "white",
            "linecolor": "white",
            "ticks": ""
           }
          },
          "scene": {
           "xaxis": {
            "backgroundcolor": "#E5ECF6",
            "gridcolor": "white",
            "gridwidth": 2,
            "linecolor": "white",
            "showbackground": true,
            "ticks": "",
            "zerolinecolor": "white"
           },
           "yaxis": {
            "backgroundcolor": "#E5ECF6",
            "gridcolor": "white",
            "gridwidth": 2,
            "linecolor": "white",
            "showbackground": true,
            "ticks": "",
            "zerolinecolor": "white"
           },
           "zaxis": {
            "backgroundcolor": "#E5ECF6",
            "gridcolor": "white",
            "gridwidth": 2,
            "linecolor": "white",
            "showbackground": true,
            "ticks": "",
            "zerolinecolor": "white"
           }
          },
          "shapedefaults": {
           "line": {
            "color": "#2a3f5f"
           }
          },
          "ternary": {
           "aaxis": {
            "gridcolor": "white",
            "linecolor": "white",
            "ticks": ""
           },
           "baxis": {
            "gridcolor": "white",
            "linecolor": "white",
            "ticks": ""
           },
           "bgcolor": "#E5ECF6",
           "caxis": {
            "gridcolor": "white",
            "linecolor": "white",
            "ticks": ""
           }
          },
          "title": {
           "x": 0.05
          },
          "xaxis": {
           "automargin": true,
           "gridcolor": "white",
           "linecolor": "white",
           "ticks": "",
           "title": {
            "standoff": 15
           },
           "zerolinecolor": "white",
           "zerolinewidth": 2
          },
          "yaxis": {
           "automargin": true,
           "gridcolor": "white",
           "linecolor": "white",
           "ticks": "",
           "title": {
            "standoff": 15
           },
           "zerolinecolor": "white",
           "zerolinewidth": 2
          }
         }
        },
        "xaxis": {
         "anchor": "y",
         "domain": [
          0,
          1
         ],
         "title": {
          "text": "Valor médio dos bilhetes vendidos de espetáculos ao vivo"
         }
        },
        "yaxis": {
         "anchor": "x",
         "domain": [
          0,
          1
         ],
         "showgrid": false,
         "showticklabels": false,
         "title": {
          "text": "y"
         }
        }
       }
      }
     },
     "metadata": {},
     "output_type": "display_data"
    },
    {
     "name": "stdout",
     "output_type": "stream",
     "text": [
      "Valor médio dos bilhetes vendidos\n",
      "0    302\n",
      "1      5\n",
      "2      1\n",
      "Name: count, dtype: int64\n",
      "File saved to csv_files/8_Valor médio dos bilhetes vendidos.csv\n"
     ]
    }
   ],
   "source": [
    "clustered_df = aplicar_kmeans(df_valor_médio_dos_bilhetes_vendidos, 3, nome_cluster='Valor médio dos bilhetes vendidos')\n",
    "save_clustered_df_to_csv(clustered_df, \"csv_files/\", \"8_Valor médio dos bilhetes vendidos.csv\")"
   ]
  },
  {
   "cell_type": "markdown",
   "id": "7eb5cb0e-b2a3-40ef-b6f9-9be28fd6da09",
   "metadata": {},
   "source": [
    "**Sessões de espetáculos ao vivo**"
   ]
  },
  {
   "cell_type": "code",
   "execution_count": 14,
   "id": "eebb525b-51f4-45c6-9db1-0ef2d885f532",
   "metadata": {},
   "outputs": [
    {
     "data": {
      "text/html": [
       "<div>\n",
       "<style scoped>\n",
       "    .dataframe tbody tr th:only-of-type {\n",
       "        vertical-align: middle;\n",
       "    }\n",
       "\n",
       "    .dataframe tbody tr th {\n",
       "        vertical-align: top;\n",
       "    }\n",
       "\n",
       "    .dataframe thead th {\n",
       "        text-align: right;\n",
       "    }\n",
       "</style>\n",
       "<table border=\"1\" class=\"dataframe\">\n",
       "  <thead>\n",
       "    <tr style=\"text-align: right;\">\n",
       "      <th></th>\n",
       "      <th>local</th>\n",
       "      <th>codigo</th>\n",
       "      <th>Sessões de espetáculos ao vivo</th>\n",
       "    </tr>\n",
       "  </thead>\n",
       "  <tbody>\n",
       "    <tr>\n",
       "      <th>4</th>\n",
       "      <td>Arcos de Valdevez</td>\n",
       "      <td>1111601</td>\n",
       "      <td>36.0</td>\n",
       "    </tr>\n",
       "    <tr>\n",
       "      <th>5</th>\n",
       "      <td>Caminha</td>\n",
       "      <td>1111602</td>\n",
       "      <td>41.0</td>\n",
       "    </tr>\n",
       "    <tr>\n",
       "      <th>6</th>\n",
       "      <td>Melgaço</td>\n",
       "      <td>1111603</td>\n",
       "      <td>0.0</td>\n",
       "    </tr>\n",
       "    <tr>\n",
       "      <th>7</th>\n",
       "      <td>Monção</td>\n",
       "      <td>1111604</td>\n",
       "      <td>203.0</td>\n",
       "    </tr>\n",
       "    <tr>\n",
       "      <th>8</th>\n",
       "      <td>Paredes de Coura</td>\n",
       "      <td>1111605</td>\n",
       "      <td>128.0</td>\n",
       "    </tr>\n",
       "    <tr>\n",
       "      <th>...</th>\n",
       "      <td>...</td>\n",
       "      <td>...</td>\n",
       "      <td>...</td>\n",
       "    </tr>\n",
       "    <tr>\n",
       "      <th>339</th>\n",
       "      <td>Porto Santo</td>\n",
       "      <td>3003201</td>\n",
       "      <td>11.0</td>\n",
       "    </tr>\n",
       "    <tr>\n",
       "      <th>340</th>\n",
       "      <td>Ribeira Brava</td>\n",
       "      <td>3003107</td>\n",
       "      <td>33.0</td>\n",
       "    </tr>\n",
       "    <tr>\n",
       "      <th>341</th>\n",
       "      <td>Santa Cruz</td>\n",
       "      <td>3003108</td>\n",
       "      <td>118.0</td>\n",
       "    </tr>\n",
       "    <tr>\n",
       "      <th>342</th>\n",
       "      <td>Santana</td>\n",
       "      <td>3003109</td>\n",
       "      <td>13.0</td>\n",
       "    </tr>\n",
       "    <tr>\n",
       "      <th>343</th>\n",
       "      <td>São Vicente</td>\n",
       "      <td>3003110</td>\n",
       "      <td>3.0</td>\n",
       "    </tr>\n",
       "  </tbody>\n",
       "</table>\n",
       "<p>308 rows × 3 columns</p>\n",
       "</div>"
      ],
      "text/plain": [
       "                 local   codigo  Sessões de espetáculos ao vivo\n",
       "4    Arcos de Valdevez  1111601                            36.0\n",
       "5              Caminha  1111602                            41.0\n",
       "6              Melgaço  1111603                             0.0\n",
       "7               Monção  1111604                           203.0\n",
       "8     Paredes de Coura  1111605                           128.0\n",
       "..                 ...      ...                             ...\n",
       "339        Porto Santo  3003201                            11.0\n",
       "340      Ribeira Brava  3003107                            33.0\n",
       "341         Santa Cruz  3003108                           118.0\n",
       "342            Santana  3003109                            13.0\n",
       "343        São Vicente  3003110                             3.0\n",
       "\n",
       "[308 rows x 3 columns]"
      ]
     },
     "execution_count": 14,
     "metadata": {},
     "output_type": "execute_result"
    }
   ],
   "source": [
    "df_sessoes_de_espetaculo = processar_ficheiro(data_path+'Sessões de espetáculos ao vivo.xls',0)\n",
    "df_sessoes_de_espetaculo = carregar_municipios(df_sessoes_de_espetaculo)\n",
    "df_sessoes_de_espetaculo = df_sessoes_de_espetaculo[['local','codigo','Sessões de espetáculos ao vivo']]\n",
    "df_sessoes_de_espetaculo"
   ]
  },
  {
   "cell_type": "code",
   "execution_count": 15,
   "id": "1b124f7b-86dd-420a-b428-21d7faf3c46a",
   "metadata": {},
   "outputs": [
    {
     "data": {
      "application/vnd.plotly.v1+json": {
       "config": {
        "plotlyServerURL": "https://plot.ly"
       },
       "data": [
        {
         "customdata": [
          [
           "Arcos de Valdevez",
           "1111601",
           0
          ],
          [
           "Caminha",
           "1111602",
           0
          ],
          [
           "Melgaço",
           "1111603",
           0
          ],
          [
           "Monção",
           "1111604",
           0
          ],
          [
           "Paredes de Coura",
           "1111605",
           0
          ],
          [
           "Ponte da Barca",
           "1111606",
           0
          ],
          [
           "Ponte de Lima",
           "1111607",
           0
          ],
          [
           "Valença",
           "1111608",
           0
          ],
          [
           "Viana do Castelo",
           "1111609",
           0
          ],
          [
           "Vila Nova de Cerveira",
           "1111610",
           0
          ],
          [
           "Amares",
           "1120301",
           0
          ],
          [
           "Barcelos",
           "1120302",
           0
          ],
          [
           "Braga",
           "1120303",
           1
          ],
          [
           "Esposende",
           "1120306",
           0
          ],
          [
           "Terras de Bouro",
           "1120310",
           0
          ],
          [
           "Vila Verde",
           "1120313",
           0
          ],
          [
           "Cabeceiras de Basto",
           "1190304",
           0
          ],
          [
           "Fafe",
           "1190307",
           0
          ],
          [
           "Guimarães",
           "1190308",
           1
          ],
          [
           "Mondim de Basto",
           "1191705",
           0
          ],
          [
           "Póvoa de Lanhoso",
           "1190309",
           0
          ],
          [
           "Vieira do Minho",
           "1190311",
           0
          ],
          [
           "Vila Nova de Famalicão",
           "1190312",
           1
          ],
          [
           "Vizela",
           "1190314",
           0
          ],
          [
           "Arouca",
           "11A0104",
           0
          ],
          [
           "Espinho",
           "11A0107",
           0
          ],
          [
           "Gondomar",
           "11A1304",
           0
          ],
          [
           "Maia",
           "11A1306",
           0
          ],
          [
           "Matosinhos",
           "11A1308",
           1
          ],
          [
           "Oliveira de Azeméis",
           "11A0113",
           0
          ],
          [
           "Paredes",
           "11A1310",
           0
          ],
          [
           "Porto",
           "11A1312",
           2
          ],
          [
           "Póvoa de Varzim",
           "11A1313",
           0
          ],
          [
           "Santa Maria da Feira",
           "11A0109",
           1
          ],
          [
           "Santo Tirso",
           "11A1314",
           0
          ],
          [
           "São João da Madeira",
           "11A0116",
           0
          ],
          [
           "Trofa",
           "11A1318",
           0
          ],
          [
           "Vale de Cambra",
           "11A0119",
           0
          ],
          [
           "Valongo",
           "11A1315",
           0
          ],
          [
           "Vila do Conde",
           "11A1316",
           0
          ],
          [
           "Vila Nova de Gaia",
           "11A1317",
           1
          ],
          [
           "Boticas",
           "11B1702",
           0
          ],
          [
           "Chaves",
           "11B1703",
           0
          ],
          [
           "Montalegre",
           "11B1706",
           0
          ],
          [
           "Ribeira de Pena",
           "11B1709",
           0
          ],
          [
           "Valpaços",
           "11B1712",
           0
          ],
          [
           "Vila Pouca de Aguiar",
           "11B1713",
           0
          ],
          [
           "Amarante",
           "11C1301",
           0
          ],
          [
           "Baião",
           "11C1302",
           0
          ],
          [
           "Castelo de Paiva",
           "11C0106",
           0
          ],
          [
           "Celorico de Basto",
           "11C0305",
           0
          ],
          [
           "Cinfães",
           "11C1804",
           0
          ],
          [
           "Felgueiras",
           "11C1303",
           0
          ],
          [
           "Lousada",
           "11C1305",
           0
          ],
          [
           "Marco de Canaveses",
           "11C1307",
           0
          ],
          [
           "Paços de Ferreira",
           "11C1309",
           0
          ],
          [
           "Penafiel",
           "11C1311",
           0
          ],
          [
           "Resende",
           "11C1813",
           0
          ],
          [
           "Alijó",
           "11D1701",
           0
          ],
          [
           "Armamar",
           "11D1801",
           0
          ],
          [
           "Carrazeda de Ansiães",
           "11D0403",
           0
          ],
          [
           "Freixo de Espada à Cinta",
           "11D0404",
           0
          ],
          [
           "Lamego",
           "11D1805",
           0
          ],
          [
           "Mesão Frio",
           "11D1704",
           0
          ],
          [
           "Moimenta da Beira",
           "11D1807",
           0
          ],
          [
           "Murça",
           "11D1707",
           0
          ],
          [
           "Penedono",
           "11D1812",
           0
          ],
          [
           "Peso da Régua",
           "11D1708",
           0
          ],
          [
           "Sabrosa",
           "11D1710",
           0
          ],
          [
           "Santa Marta de Penaguião",
           "11D1711",
           0
          ],
          [
           "São João da Pesqueira",
           "11D1815",
           0
          ],
          [
           "Sernancelhe",
           "11D1818",
           0
          ],
          [
           "Tabuaço",
           "11D1819",
           0
          ],
          [
           "Tarouca",
           "11D1820",
           0
          ],
          [
           "Torre de Moncorvo",
           "11D0409",
           0
          ],
          [
           "Vila Nova de Foz Côa",
           "11D0914",
           0
          ],
          [
           "Vila Real",
           "11D1714",
           0
          ],
          [
           "Alfândega da Fé",
           "11E0401",
           0
          ],
          [
           "Bragança",
           "11E0402",
           0
          ],
          [
           "Macedo de Cavaleiros",
           "11E0405",
           0
          ],
          [
           "Miranda do Douro",
           "11E0406",
           0
          ],
          [
           "Mirandela",
           "11E0407",
           0
          ],
          [
           "Mogadouro",
           "11E0408",
           0
          ],
          [
           "Vila Flor",
           "11E0410",
           0
          ],
          [
           "Vimioso",
           "11E0411",
           0
          ],
          [
           "Vinhais",
           "11E0412",
           0
          ],
          [
           "Alcobaça",
           "16B1001",
           1
          ],
          [
           "Alenquer",
           "16B1101",
           0
          ],
          [
           "Arruda dos Vinhos",
           "16B1102",
           0
          ],
          [
           "Bombarral",
           "16B1005",
           0
          ],
          [
           "Cadaval",
           "16B1104",
           0
          ],
          [
           "Caldas da Rainha",
           "16B1006",
           0
          ],
          [
           "Lourinhã",
           "16B1108",
           0
          ],
          [
           "Nazaré",
           "16B1011",
           0
          ],
          [
           "Óbidos",
           "16B1012",
           0
          ],
          [
           "Peniche",
           "16B1014",
           0
          ],
          [
           "Sobral de Monte Agraço",
           "16B1112",
           0
          ],
          [
           "Torres Vedras",
           "16B1113",
           0
          ],
          [
           "Águeda",
           "16D0101",
           0
          ],
          [
           "Albergaria-a-Velha",
           "16D0102",
           0
          ],
          [
           "Anadia",
           "16D0103",
           0
          ],
          [
           "Aveiro",
           "16D0105",
           1
          ],
          [
           "Estarreja",
           "16D0108",
           0
          ],
          [
           "Ílhavo",
           "16D0110",
           1
          ],
          [
           "Murtosa",
           "16D0112",
           0
          ],
          [
           "Oliveira do Bairro",
           "16D0114",
           0
          ],
          [
           "Ovar",
           "16D0115",
           0
          ],
          [
           "Sever do Vouga",
           "16D0117",
           0
          ],
          [
           "Vagos",
           "16D0118",
           0
          ],
          [
           "Arganil",
           "16E0601",
           0
          ],
          [
           "Cantanhede",
           "16E0602",
           0
          ],
          [
           "Coimbra",
           "16E0603",
           1
          ],
          [
           "Condeixa-a-Nova",
           "16E0604",
           0
          ],
          [
           "Figueira da Foz",
           "16E0605",
           0
          ],
          [
           "Góis",
           "16E0606",
           0
          ],
          [
           "Lousã",
           "16E0607",
           0
          ],
          [
           "Mealhada",
           "16E0111",
           0
          ],
          [
           "Mira",
           "16E0608",
           0
          ],
          [
           "Miranda do Corvo",
           "16E0609",
           0
          ],
          [
           "Montemor-o-Velho",
           "16E0610",
           0
          ],
          [
           "Mortágua",
           "16E1808",
           0
          ],
          [
           "Oliveira do Hospital",
           "16E0611",
           0
          ],
          [
           "Pampilhosa da Serra",
           "16E0612",
           0
          ],
          [
           "Penacova",
           "16E0613",
           0
          ],
          [
           "Penela",
           "16E0614",
           0
          ],
          [
           "Soure",
           "16E0615",
           0
          ],
          [
           "Tábua",
           "16E0616",
           0
          ],
          [
           "Vila Nova de Poiares",
           "16E0617",
           0
          ],
          [
           "Alvaiázere",
           "16F1002",
           0
          ],
          [
           "Ansião",
           "16F1003",
           0
          ],
          [
           "Batalha",
           "16F1004",
           0
          ],
          [
           "Castanheira de Pêra",
           "16F1007",
           0
          ],
          [
           "Figueiró dos Vinhos",
           "16F1008",
           0
          ],
          [
           "Leiria",
           "16F1009",
           1
          ],
          [
           "Marinha Grande",
           "16F1010",
           0
          ],
          [
           "Pedrógão Grande",
           "16F1013",
           0
          ],
          [
           "Pombal",
           "16F1015",
           0
          ],
          [
           "Porto de Mós",
           "16F1016",
           0
          ],
          [
           "Aguiar da Beira",
           "16G0901",
           0
          ],
          [
           "Carregal do Sal",
           "16G1802",
           0
          ],
          [
           "Castro Daire",
           "16G1803",
           0
          ],
          [
           "Mangualde",
           "16G1806",
           0
          ],
          [
           "Nelas",
           "16G1809",
           0
          ],
          [
           "Oliveira de Frades",
           "16G1810",
           0
          ],
          [
           "Penalva do Castelo",
           "16G1811",
           0
          ],
          [
           "Santa Comba Dão",
           "16G1814",
           0
          ],
          [
           "São Pedro do Sul",
           "16G1816",
           0
          ],
          [
           "Sátão",
           "16G1817",
           0
          ],
          [
           "Tondela",
           "16G1821",
           0
          ],
          [
           "Vila Nova de Paiva",
           "16G1822",
           0
          ],
          [
           "Viseu",
           "16G1823",
           1
          ],
          [
           "Vouzela",
           "16G1824",
           0
          ],
          [
           "Castelo Branco",
           "16H0502",
           0
          ],
          [
           "Idanha-a-Nova",
           "16H0505",
           0
          ],
          [
           "Oleiros",
           "16H0506",
           0
          ],
          [
           "Penamacor",
           "16H0507",
           0
          ],
          [
           "Proença-a-Nova",
           "16H0508",
           0
          ],
          [
           "Vila Velha de Ródão",
           "16H0511",
           0
          ],
          [
           "Abrantes",
           "16I1401",
           0
          ],
          [
           "Alcanena",
           "16I1402",
           0
          ],
          [
           "Constância",
           "16I1408",
           0
          ],
          [
           "Entroncamento",
           "16I1410",
           0
          ],
          [
           "Ferreira do Zêzere",
           "16I1411",
           0
          ],
          [
           "Mação",
           "16I1413",
           0
          ],
          [
           "Ourém",
           "16I1421",
           0
          ],
          [
           "Sardoal",
           "16I1417",
           0
          ],
          [
           "Sertã",
           "16I0509",
           0
          ],
          [
           "Tomar",
           "16I1418",
           0
          ],
          [
           "Torres Novas",
           "16I1419",
           0
          ],
          [
           "Vila de Rei",
           "16I0510",
           0
          ],
          [
           "Vila Nova da Barquinha",
           "16I1420",
           0
          ],
          [
           "Almeida",
           "16J0902",
           0
          ],
          [
           "Belmonte",
           "16J0501",
           0
          ],
          [
           "Celorico da Beira",
           "16J0903",
           0
          ],
          [
           "Covilhã",
           "16J0503",
           0
          ],
          [
           "Figueira de Castelo Rodrigo",
           "16J0904",
           0
          ],
          [
           "Fornos de Algodres",
           "16J0905",
           0
          ],
          [
           "Fundão",
           "16J0504",
           0
          ],
          [
           "Gouveia",
           "16J0906",
           0
          ],
          [
           "Guarda",
           "16J0907",
           0
          ],
          [
           "Manteigas",
           "16J0908",
           0
          ],
          [
           "Mêda",
           "16J0909",
           0
          ],
          [
           "Pinhel",
           "16J0910",
           0
          ],
          [
           "Sabugal",
           "16J0911",
           0
          ],
          [
           "Seia",
           "16J0912",
           0
          ],
          [
           "Trancoso",
           "16J0913",
           0
          ],
          [
           "Alcochete",
           "1701502",
           0
          ],
          [
           "Almada",
           "1701503",
           1
          ],
          [
           "Amadora",
           "1701115",
           0
          ],
          [
           "Barreiro",
           "1701504",
           0
          ],
          [
           "Cascais",
           "1701105",
           1
          ],
          [
           "Lisboa",
           "1701106",
           2
          ],
          [
           "Loures",
           "1701107",
           0
          ],
          [
           "Mafra",
           "1701109",
           0
          ],
          [
           "Moita",
           "1701506",
           0
          ],
          [
           "Montijo",
           "1701507",
           0
          ],
          [
           "Odivelas",
           "1701116",
           0
          ],
          [
           "Oeiras",
           "1701110",
           1
          ],
          [
           "Palmela",
           "1701508",
           0
          ],
          [
           "Seixal",
           "1701510",
           0
          ],
          [
           "Sesimbra",
           "1701511",
           0
          ],
          [
           "Setúbal",
           "1701512",
           1
          ],
          [
           "Sintra",
           "1701111",
           1
          ],
          [
           "Vila Franca de Xira",
           "1701114",
           0
          ],
          [
           "Alcácer do Sal",
           "1811501",
           0
          ],
          [
           "Grândola",
           "1811505",
           0
          ],
          [
           "Odemira",
           "1810211",
           0
          ],
          [
           "Santiago do Cacém",
           "1811509",
           0
          ],
          [
           "Sines",
           "1811513",
           0
          ],
          [
           "Aljustrel",
           "1840201",
           0
          ],
          [
           "Almodôvar",
           "1840202",
           0
          ],
          [
           "Alvito",
           "1840203",
           0
          ],
          [
           "Barrancos",
           "1840204",
           0
          ],
          [
           "Beja",
           "1840205",
           1
          ],
          [
           "Castro Verde",
           "1840206",
           0
          ],
          [
           "Cuba",
           "1840207",
           0
          ],
          [
           "Ferreira do Alentejo",
           "1840208",
           0
          ],
          [
           "Mértola",
           "1840209",
           0
          ],
          [
           "Moura",
           "1840210",
           0
          ],
          [
           "Ourique",
           "1840212",
           0
          ],
          [
           "Serpa",
           "1840213",
           0
          ],
          [
           "Vidigueira",
           "1840214",
           0
          ],
          [
           "Almeirim",
           "1851403",
           0
          ],
          [
           "Alpiarça",
           "1851404",
           0
          ],
          [
           "Azambuja",
           "1851103",
           0
          ],
          [
           "Benavente",
           "1851405",
           0
          ],
          [
           "Cartaxo",
           "1851406",
           0
          ],
          [
           "Chamusca",
           "1851407",
           0
          ],
          [
           "Coruche",
           "1851409",
           0
          ],
          [
           "Golegã",
           "1851412",
           0
          ],
          [
           "Rio Maior",
           "1851414",
           0
          ],
          [
           "Salvaterra de Magos",
           "1851415",
           0
          ],
          [
           "Santarém",
           "1851416",
           0
          ],
          [
           "Alter do Chão",
           "1861201",
           0
          ],
          [
           "Arronches",
           "1861202",
           0
          ],
          [
           "Avis",
           "1861203",
           0
          ],
          [
           "Campo Maior",
           "1861204",
           0
          ],
          [
           "Castelo de Vide",
           "1861205",
           0
          ],
          [
           "Crato",
           "1861206",
           0
          ],
          [
           "Elvas",
           "1861207",
           0
          ],
          [
           "Fronteira",
           "1861208",
           0
          ],
          [
           "Gavião",
           "1861209",
           0
          ],
          [
           "Marvão",
           "1861210",
           0
          ],
          [
           "Monforte",
           "1861211",
           0
          ],
          [
           "Nisa",
           "1861212",
           0
          ],
          [
           "Ponte de Sor",
           "1861213",
           0
          ],
          [
           "Portalegre",
           "1861214",
           0
          ],
          [
           "Sousel",
           "1861215",
           0
          ],
          [
           "Alandroal",
           "1870701",
           0
          ],
          [
           "Arraiolos",
           "1870702",
           0
          ],
          [
           "Borba",
           "1870703",
           0
          ],
          [
           "Estremoz",
           "1870704",
           0
          ],
          [
           "Évora",
           "1870705",
           1
          ],
          [
           "Montemor-o-Novo",
           "1870706",
           0
          ],
          [
           "Mora",
           "1870707",
           0
          ],
          [
           "Mourão",
           "1870708",
           0
          ],
          [
           "Portel",
           "1870709",
           0
          ],
          [
           "Redondo",
           "1870710",
           0
          ],
          [
           "Reguengos de Monsaraz",
           "1870711",
           0
          ],
          [
           "Vendas Novas",
           "1870712",
           0
          ],
          [
           "Viana do Alentejo",
           "1870713",
           0
          ],
          [
           "Vila Viçosa",
           "1870714",
           0
          ],
          [
           "Albufeira",
           "1500801",
           0
          ],
          [
           "Alcoutim",
           "1500802",
           0
          ],
          [
           "Aljezur",
           "1500803",
           0
          ],
          [
           "Castro Marim",
           "1500804",
           0
          ],
          [
           "Faro",
           "1500805",
           1
          ],
          [
           "Lagoa",
           "1500806",
           0
          ],
          [
           "Lagos",
           "1500807",
           0
          ],
          [
           "Loulé",
           "1500808",
           1
          ],
          [
           "Monchique",
           "1500809",
           0
          ],
          [
           "Olhão",
           "1500810",
           0
          ],
          [
           "Portimão",
           "1500811",
           0
          ],
          [
           "São Brás de Alportel",
           "1500812",
           0
          ],
          [
           "Silves",
           "1500813",
           0
          ],
          [
           "Tavira",
           "1500814",
           0
          ],
          [
           "Vila do Bispo",
           "1500815",
           0
          ],
          [
           "Vila Real de Santo António",
           "1500816",
           0
          ],
          [
           "Angra do Heroísmo",
           "2004301",
           0
          ],
          [
           "Calheta",
           "2004501",
           0
          ],
          [
           "Corvo",
           "2004901",
           0
          ],
          [
           "Horta",
           "2004701",
           0
          ],
          [
           "Lagoa",
           "2004201",
           0
          ],
          [
           "Lajes das Flores",
           "2004801",
           0
          ],
          [
           "Lajes do Pico",
           "2004601",
           0
          ],
          [
           "Madalena",
           "2004602",
           0
          ],
          [
           "Nordeste",
           "2004202",
           0
          ],
          [
           "Ponta Delgada",
           "2004203",
           0
          ],
          [
           "Povoação",
           "2004204",
           0
          ],
          [
           "Ribeira Grande",
           "2004205",
           0
          ],
          [
           "Santa Cruz da Graciosa",
           "2004401",
           0
          ],
          [
           "Santa Cruz das Flores",
           "2004802",
           0
          ],
          [
           "São Roque do Pico",
           "2004603",
           0
          ],
          [
           "Velas",
           "2004502",
           0
          ],
          [
           "Vila da Praia da Vitória",
           "2004302",
           0
          ],
          [
           "Vila do Porto",
           "2004101",
           0
          ],
          [
           "Vila Franca do Campo",
           "2004206",
           0
          ],
          [
           "Calheta",
           "3003101",
           0
          ],
          [
           "Câmara de Lobos",
           "3003102",
           0
          ],
          [
           "Funchal",
           "3003103",
           1
          ],
          [
           "Machico",
           "3003104",
           0
          ],
          [
           "Ponta do Sol",
           "3003105",
           0
          ],
          [
           "Porto Moniz",
           "3003106",
           0
          ],
          [
           "Porto Santo",
           "3003201",
           0
          ],
          [
           "Ribeira Brava",
           "3003107",
           0
          ],
          [
           "Santa Cruz",
           "3003108",
           0
          ],
          [
           "Santana",
           "3003109",
           0
          ],
          [
           "São Vicente",
           "3003110",
           0
          ]
         ],
         "hovertemplate": "valor=%{x}<br>y=%{y}<br>local=%{customdata[0]}<br>codigo=%{customdata[1]}<br>Sessões de espetáculos ao vivo=%{marker.color}<extra></extra>",
         "legendgroup": "",
         "marker": {
          "color": [
           0,
           0,
           0,
           0,
           0,
           0,
           0,
           0,
           0,
           0,
           0,
           0,
           1,
           0,
           0,
           0,
           0,
           0,
           1,
           0,
           0,
           0,
           1,
           0,
           0,
           0,
           0,
           0,
           1,
           0,
           0,
           2,
           0,
           1,
           0,
           0,
           0,
           0,
           0,
           0,
           1,
           0,
           0,
           0,
           0,
           0,
           0,
           0,
           0,
           0,
           0,
           0,
           0,
           0,
           0,
           0,
           0,
           0,
           0,
           0,
           0,
           0,
           0,
           0,
           0,
           0,
           0,
           0,
           0,
           0,
           0,
           0,
           0,
           0,
           0,
           0,
           0,
           0,
           0,
           0,
           0,
           0,
           0,
           0,
           0,
           0,
           1,
           0,
           0,
           0,
           0,
           0,
           0,
           0,
           0,
           0,
           0,
           0,
           0,
           0,
           0,
           1,
           0,
           1,
           0,
           0,
           0,
           0,
           0,
           0,
           0,
           1,
           0,
           0,
           0,
           0,
           0,
           0,
           0,
           0,
           0,
           0,
           0,
           0,
           0,
           0,
           0,
           0,
           0,
           0,
           0,
           0,
           0,
           1,
           0,
           0,
           0,
           0,
           0,
           0,
           0,
           0,
           0,
           0,
           0,
           0,
           0,
           0,
           0,
           0,
           1,
           0,
           0,
           0,
           0,
           0,
           0,
           0,
           0,
           0,
           0,
           0,
           0,
           0,
           0,
           0,
           0,
           0,
           0,
           0,
           0,
           0,
           0,
           0,
           0,
           0,
           0,
           0,
           0,
           0,
           0,
           0,
           0,
           0,
           0,
           0,
           0,
           1,
           0,
           0,
           1,
           2,
           0,
           0,
           0,
           0,
           0,
           1,
           0,
           0,
           0,
           1,
           1,
           0,
           0,
           0,
           0,
           0,
           0,
           0,
           0,
           0,
           0,
           1,
           0,
           0,
           0,
           0,
           0,
           0,
           0,
           0,
           0,
           0,
           0,
           0,
           0,
           0,
           0,
           0,
           0,
           0,
           0,
           0,
           0,
           0,
           0,
           0,
           0,
           0,
           0,
           0,
           0,
           0,
           0,
           0,
           0,
           0,
           0,
           0,
           0,
           0,
           1,
           0,
           0,
           0,
           0,
           0,
           0,
           0,
           0,
           0,
           0,
           0,
           0,
           0,
           1,
           0,
           0,
           1,
           0,
           0,
           0,
           0,
           0,
           0,
           0,
           0,
           0,
           0,
           0,
           0,
           0,
           0,
           0,
           0,
           0,
           0,
           0,
           0,
           0,
           0,
           0,
           0,
           0,
           0,
           0,
           0,
           0,
           1,
           0,
           0,
           0,
           0,
           0,
           0,
           0,
           0
          ],
          "coloraxis": "coloraxis",
          "size": 10,
          "symbol": "circle"
         },
         "mode": "markers",
         "name": "",
         "orientation": "v",
         "showlegend": false,
         "type": "scatter",
         "x": [
          -0.188255466970296,
          -0.1791110871086301,
          -0.2540950019742905,
          0.11716682040934523,
          -0.019998877515643346,
          -0.2540950019742905,
          0.1775197274963402,
          -0.16265120335763147,
          0.020236393875686636,
          -0.14619131960663284,
          -0.23214849030629234,
          0.2067817430536711,
          0.6438831004413014,
          -0.03645876126664198,
          -0.2540950019742905,
          -0.2467794980849578,
          -0.2540950019742905,
          -0.02365662946030971,
          0.39515596820398874,
          -0.12424480793863467,
          -0.15533569946829875,
          -0.2376351182232919,
          0.3512629448679924,
          -0.2266618623892928,
          -0.007196745709311079,
          -0.016341125570976982,
          0.0531561613776839,
          0.06412941721168298,
          0.44636449542931783,
          -0.19374209488729555,
          -0.1973998468319619,
          8.760434665655959,
          0.012920889986353913,
          0.39515596820398874,
          0.00743426206935437,
          0.21226837097067064,
          -0.22117523447229326,
          -0.2449506221126246,
          0.00011875818002164594,
          -0.07120740474097241,
          0.8578615892042836,
          -0.18093996308096327,
          -0.005367869736977897,
          -0.2540950019742905,
          -0.2540950019742905,
          -0.25043725002962414,
          -0.18642659099796283,
          -0.10412717224296968,
          -0.16448007932996464,
          -0.23214849030629234,
          -0.2449506221126246,
          -0.1791110871086301,
          -0.04560314112830788,
          -0.08949616446430422,
          -0.15716457544063192,
          -0.1973998468319619,
          -0.18276883905329647,
          -0.1772822111362969,
          -0.23031961433395917,
          -0.16082232738529828,
          -0.16082232738529828,
          -0.2540950019742905,
          -0.2266618623892928,
          -0.21020197863829418,
          -0.21203085461062735,
          -0.2540950019742905,
          -0.25043725002962414,
          -0.24312174614029144,
          -0.25226612600195736,
          -0.2540950019742905,
          -0.2376351182232919,
          -0.2540950019742905,
          -0.2540950019742905,
          -0.2540950019742905,
          -0.2540950019742905,
          -0.2266618623892928,
          0.17569085152400704,
          -0.2540950019742905,
          -0.054747520989973784,
          -0.2467794980849578,
          -0.23214849030629234,
          -0.20837310266596099,
          -0.2540950019742905,
          -0.23214849030629234,
          -0.23580624225095873,
          -0.19557097085962874,
          0.3732094565359906,
          -0.10046942029830332,
          -0.14436244363429965,
          -0.2376351182232919,
          -0.22483298641695962,
          -0.00902562168164426,
          -0.07486515668563878,
          -0.21385973058296054,
          -0.22300411044462645,
          -0.09498279238130376,
          -0.1791110871086301,
          0.30736992153199605,
          -0.0913250404366374,
          -0.16630895530229783,
          -0.24860837405729097,
          0.6603429841923,
          0.04401178151601799,
          0.3640650766743247,
          -0.2540950019742905,
          -0.13521806377263376,
          -0.13704693974496693,
          -0.13704693974496693,
          -0.24312174614029144,
          -0.15533569946829875,
          0.033038525682018906,
          2.906202678217446,
          -0.13338918780030057,
          0.0824181769350148,
          -0.20105759877662827,
          -0.17362445919163055,
          -0.16265120335763147,
          -0.2467794980849578,
          -0.2175174825276269,
          0.08790480485201434,
          -0.20288647474896146,
          -0.13704693974496693,
          -0.18642659099796283,
          -0.188255466970296,
          -0.20837310266596099,
          0.023894145820353,
          -0.19557097085962874,
          -0.11875818002163513,
          -0.1772822111362969,
          -0.22483298641695962,
          -0.10595604821530286,
          -0.25226612600195736,
          -0.188255466970296,
          1.1907170161689224,
          0.1482577119390093,
          -0.20105759877662827,
          0.06412941721168298,
          -0.22117523447229326,
          -0.24129287016795825,
          -0.23580624225095873,
          -0.18642659099796283,
          -0.14436244363429965,
          -0.24860837405729097,
          -0.1900843429426292,
          -0.2449506221126246,
          -0.19374209488729555,
          -0.22117523447229326,
          -0.25226612600195736,
          -0.012683373626310621,
          -0.20105759877662827,
          0.6383964725243019,
          -0.1992287228042951,
          -0.03462988529430879,
          -0.1699667072469642,
          -0.16630895530229783,
          -0.2540950019742905,
          -0.25043725002962414,
          -0.24129287016795825,
          -0.20654422669362782,
          -0.14253356766196648,
          -0.22300411044462645,
          -0.18093996308096327,
          -0.2175174825276269,
          -0.21203085461062735,
          0.21409724694300383,
          -0.20288647474896146,
          -0.25043725002962414,
          -0.08400953654730468,
          0.034867401654352086,
          -0.21385973058296054,
          -0.2266618623892928,
          -0.13521806377263376,
          -0.11327155210463558,
          -0.22483298641695962,
          0.09522030874134706,
          -0.25226612600195736,
          -0.24312174614029144,
          0.08058930096268162,
          -0.23946399419562509,
          0.2854234098639979,
          -0.07120740474097241,
          -0.2540950019742905,
          -0.24860837405729097,
          -0.1407046916896333,
          -0.10412717224296968,
          -0.22117523447229326,
          -0.1022982962706365,
          0.9108989924019458,
          0.12631120027101114,
          0.07327379707334888,
          0.8103108139236208,
          14.204998435291838,
          0.14094220804967658,
          -0.15899345141296511,
          -0.11875818002163513,
          0.27810790597466517,
          0.20312399110900475,
          1.1797437603349235,
          0.2854234098639979,
          -0.02365662946030971,
          0.14094220804967658,
          0.47379763501431554,
          0.801166434061955,
          0.256161394306667,
          -0.17545333516396375,
          -0.049260893072974245,
          -0.13887581571730012,
          -0.09864054432597014,
          -0.02731438140497607,
          0.16471759569000793,
          -0.12607368391096785,
          -0.188255466970296,
          -0.23946399419562509,
          0.47745538695898193,
          -0.021827753487976526,
          -0.24129287016795825,
          -0.1900843429426292,
          -0.04194538918364152,
          -0.12607368391096785,
          -0.21568860655529373,
          -0.1407046916896333,
          -0.25226612600195736,
          -0.17362445919163055,
          -0.20105759877662827,
          -0.11692930404930195,
          -0.23214849030629234,
          -0.188255466970296,
          -0.23946399419562509,
          -0.14436244363429965,
          -0.2540950019742905,
          -0.06937852876863923,
          -0.18459771502562963,
          -0.10961380015996922,
          -0.24312174614029144,
          -0.25226612600195736,
          -0.1516779475236324,
          -0.10778492418763604,
          -0.22300411044462645,
          -0.2540950019742905,
          -0.06937852876863923,
          -0.2540950019742905,
          -0.23580624225095873,
          -0.2540950019742905,
          -0.24312174614029144,
          -0.2467794980849578,
          -0.15716457544063192,
          -0.06572077682397287,
          -0.2449506221126246,
          -0.188255466970296,
          -0.09498279238130376,
          -0.12424480793863467,
          -0.09681166835363696,
          0.7060648835006296,
          -0.0035389937646447163,
          -0.24129287016795825,
          -0.21020197863829418,
          -0.23214849030629234,
          -0.2467794980849578,
          -0.22849073836162598,
          -0.2175174825276269,
          -0.23580624225095873,
          -0.14619131960663284,
          -0.014512249598643803,
          -0.016341125570976982,
          -0.168137831274631,
          -0.2376351182232919,
          0.7444712789196264,
          -0.20105759877662827,
          0.15740209180067521,
          0.5176906583503119,
          -0.23397736627862553,
          0.005605386097021189,
          0.005605386097021189,
          -0.25043725002962414,
          -0.1498490715512992,
          0.00743426206935437,
          -0.18093996308096327,
          -0.18276883905329647,
          0.22141275083233655,
          -0.20288647474896146,
          -0.2540950019742905,
          -0.20105759877662827,
          0.07510267304568206,
          -0.2467794980849578,
          -0.2540950019742905,
          -0.2540950019742905,
          -0.19557097085962874,
          0.023894145820353,
          -0.2540950019742905,
          -0.18276883905329647,
          -0.1717955832192974,
          -0.25226612600195736,
          -0.25226612600195736,
          -0.25043725002962414,
          -0.19374209488729555,
          -0.1791110871086301,
          -0.23031961433395917,
          -0.18459771502562963,
          -0.16265120335763147,
          1.0956154656075971,
          -0.10961380015996922,
          -0.030972133349642432,
          -0.24860837405729097,
          -0.23397736627862553,
          -0.19374209488729555,
          -0.03828763723897516,
          -0.23031961433395917,
          -0.24860837405729097
         ],
         "xaxis": "x",
         "y": [
          0,
          0,
          0,
          0,
          0,
          0,
          0,
          0,
          0,
          0,
          0,
          0,
          0,
          0,
          0,
          0,
          0,
          0,
          0,
          0,
          0,
          0,
          0,
          0,
          0,
          0,
          0,
          0,
          0,
          0,
          0,
          0,
          0,
          0,
          0,
          0,
          0,
          0,
          0,
          0,
          0,
          0,
          0,
          0,
          0,
          0,
          0,
          0,
          0,
          0,
          0,
          0,
          0,
          0,
          0,
          0,
          0,
          0,
          0,
          0,
          0,
          0,
          0,
          0,
          0,
          0,
          0,
          0,
          0,
          0,
          0,
          0,
          0,
          0,
          0,
          0,
          0,
          0,
          0,
          0,
          0,
          0,
          0,
          0,
          0,
          0,
          0,
          0,
          0,
          0,
          0,
          0,
          0,
          0,
          0,
          0,
          0,
          0,
          0,
          0,
          0,
          0,
          0,
          0,
          0,
          0,
          0,
          0,
          0,
          0,
          0,
          0,
          0,
          0,
          0,
          0,
          0,
          0,
          0,
          0,
          0,
          0,
          0,
          0,
          0,
          0,
          0,
          0,
          0,
          0,
          0,
          0,
          0,
          0,
          0,
          0,
          0,
          0,
          0,
          0,
          0,
          0,
          0,
          0,
          0,
          0,
          0,
          0,
          0,
          0,
          0,
          0,
          0,
          0,
          0,
          0,
          0,
          0,
          0,
          0,
          0,
          0,
          0,
          0,
          0,
          0,
          0,
          0,
          0,
          0,
          0,
          0,
          0,
          0,
          0,
          0,
          0,
          0,
          0,
          0,
          0,
          0,
          0,
          0,
          0,
          0,
          0,
          0,
          0,
          0,
          0,
          0,
          0,
          0,
          0,
          0,
          0,
          0,
          0,
          0,
          0,
          0,
          0,
          0,
          0,
          0,
          0,
          0,
          0,
          0,
          0,
          0,
          0,
          0,
          0,
          0,
          0,
          0,
          0,
          0,
          0,
          0,
          0,
          0,
          0,
          0,
          0,
          0,
          0,
          0,
          0,
          0,
          0,
          0,
          0,
          0,
          0,
          0,
          0,
          0,
          0,
          0,
          0,
          0,
          0,
          0,
          0,
          0,
          0,
          0,
          0,
          0,
          0,
          0,
          0,
          0,
          0,
          0,
          0,
          0,
          0,
          0,
          0,
          0,
          0,
          0,
          0,
          0,
          0,
          0,
          0,
          0,
          0,
          0,
          0,
          0,
          0,
          0,
          0,
          0,
          0,
          0,
          0,
          0,
          0,
          0,
          0,
          0,
          0,
          0,
          0,
          0,
          0,
          0,
          0,
          0,
          0,
          0,
          0,
          0,
          0,
          0,
          0,
          0,
          0,
          0,
          0,
          0
         ],
         "yaxis": "y"
        }
       ],
       "layout": {
        "coloraxis": {
         "colorbar": {
          "title": {
           "text": "Sessões de espetáculos ao vivo"
          }
         },
         "colorscale": [
          [
           0,
           "#440154"
          ],
          [
           0.1111111111111111,
           "#482878"
          ],
          [
           0.2222222222222222,
           "#3e4989"
          ],
          [
           0.3333333333333333,
           "#31688e"
          ],
          [
           0.4444444444444444,
           "#26828e"
          ],
          [
           0.5555555555555556,
           "#1f9e89"
          ],
          [
           0.6666666666666666,
           "#35b779"
          ],
          [
           0.7777777777777778,
           "#6ece58"
          ],
          [
           0.8888888888888888,
           "#b5de2b"
          ],
          [
           1,
           "#fde725"
          ]
         ]
        },
        "height": 300,
        "legend": {
         "tracegroupgap": 0
        },
        "margin": {
         "t": 60
        },
        "template": {
         "data": {
          "bar": [
           {
            "error_x": {
             "color": "#2a3f5f"
            },
            "error_y": {
             "color": "#2a3f5f"
            },
            "marker": {
             "line": {
              "color": "#E5ECF6",
              "width": 0.5
             },
             "pattern": {
              "fillmode": "overlay",
              "size": 10,
              "solidity": 0.2
             }
            },
            "type": "bar"
           }
          ],
          "barpolar": [
           {
            "marker": {
             "line": {
              "color": "#E5ECF6",
              "width": 0.5
             },
             "pattern": {
              "fillmode": "overlay",
              "size": 10,
              "solidity": 0.2
             }
            },
            "type": "barpolar"
           }
          ],
          "carpet": [
           {
            "aaxis": {
             "endlinecolor": "#2a3f5f",
             "gridcolor": "white",
             "linecolor": "white",
             "minorgridcolor": "white",
             "startlinecolor": "#2a3f5f"
            },
            "baxis": {
             "endlinecolor": "#2a3f5f",
             "gridcolor": "white",
             "linecolor": "white",
             "minorgridcolor": "white",
             "startlinecolor": "#2a3f5f"
            },
            "type": "carpet"
           }
          ],
          "choropleth": [
           {
            "colorbar": {
             "outlinewidth": 0,
             "ticks": ""
            },
            "type": "choropleth"
           }
          ],
          "contour": [
           {
            "colorbar": {
             "outlinewidth": 0,
             "ticks": ""
            },
            "colorscale": [
             [
              0,
              "#0d0887"
             ],
             [
              0.1111111111111111,
              "#46039f"
             ],
             [
              0.2222222222222222,
              "#7201a8"
             ],
             [
              0.3333333333333333,
              "#9c179e"
             ],
             [
              0.4444444444444444,
              "#bd3786"
             ],
             [
              0.5555555555555556,
              "#d8576b"
             ],
             [
              0.6666666666666666,
              "#ed7953"
             ],
             [
              0.7777777777777778,
              "#fb9f3a"
             ],
             [
              0.8888888888888888,
              "#fdca26"
             ],
             [
              1,
              "#f0f921"
             ]
            ],
            "type": "contour"
           }
          ],
          "contourcarpet": [
           {
            "colorbar": {
             "outlinewidth": 0,
             "ticks": ""
            },
            "type": "contourcarpet"
           }
          ],
          "heatmap": [
           {
            "colorbar": {
             "outlinewidth": 0,
             "ticks": ""
            },
            "colorscale": [
             [
              0,
              "#0d0887"
             ],
             [
              0.1111111111111111,
              "#46039f"
             ],
             [
              0.2222222222222222,
              "#7201a8"
             ],
             [
              0.3333333333333333,
              "#9c179e"
             ],
             [
              0.4444444444444444,
              "#bd3786"
             ],
             [
              0.5555555555555556,
              "#d8576b"
             ],
             [
              0.6666666666666666,
              "#ed7953"
             ],
             [
              0.7777777777777778,
              "#fb9f3a"
             ],
             [
              0.8888888888888888,
              "#fdca26"
             ],
             [
              1,
              "#f0f921"
             ]
            ],
            "type": "heatmap"
           }
          ],
          "heatmapgl": [
           {
            "colorbar": {
             "outlinewidth": 0,
             "ticks": ""
            },
            "colorscale": [
             [
              0,
              "#0d0887"
             ],
             [
              0.1111111111111111,
              "#46039f"
             ],
             [
              0.2222222222222222,
              "#7201a8"
             ],
             [
              0.3333333333333333,
              "#9c179e"
             ],
             [
              0.4444444444444444,
              "#bd3786"
             ],
             [
              0.5555555555555556,
              "#d8576b"
             ],
             [
              0.6666666666666666,
              "#ed7953"
             ],
             [
              0.7777777777777778,
              "#fb9f3a"
             ],
             [
              0.8888888888888888,
              "#fdca26"
             ],
             [
              1,
              "#f0f921"
             ]
            ],
            "type": "heatmapgl"
           }
          ],
          "histogram": [
           {
            "marker": {
             "pattern": {
              "fillmode": "overlay",
              "size": 10,
              "solidity": 0.2
             }
            },
            "type": "histogram"
           }
          ],
          "histogram2d": [
           {
            "colorbar": {
             "outlinewidth": 0,
             "ticks": ""
            },
            "colorscale": [
             [
              0,
              "#0d0887"
             ],
             [
              0.1111111111111111,
              "#46039f"
             ],
             [
              0.2222222222222222,
              "#7201a8"
             ],
             [
              0.3333333333333333,
              "#9c179e"
             ],
             [
              0.4444444444444444,
              "#bd3786"
             ],
             [
              0.5555555555555556,
              "#d8576b"
             ],
             [
              0.6666666666666666,
              "#ed7953"
             ],
             [
              0.7777777777777778,
              "#fb9f3a"
             ],
             [
              0.8888888888888888,
              "#fdca26"
             ],
             [
              1,
              "#f0f921"
             ]
            ],
            "type": "histogram2d"
           }
          ],
          "histogram2dcontour": [
           {
            "colorbar": {
             "outlinewidth": 0,
             "ticks": ""
            },
            "colorscale": [
             [
              0,
              "#0d0887"
             ],
             [
              0.1111111111111111,
              "#46039f"
             ],
             [
              0.2222222222222222,
              "#7201a8"
             ],
             [
              0.3333333333333333,
              "#9c179e"
             ],
             [
              0.4444444444444444,
              "#bd3786"
             ],
             [
              0.5555555555555556,
              "#d8576b"
             ],
             [
              0.6666666666666666,
              "#ed7953"
             ],
             [
              0.7777777777777778,
              "#fb9f3a"
             ],
             [
              0.8888888888888888,
              "#fdca26"
             ],
             [
              1,
              "#f0f921"
             ]
            ],
            "type": "histogram2dcontour"
           }
          ],
          "mesh3d": [
           {
            "colorbar": {
             "outlinewidth": 0,
             "ticks": ""
            },
            "type": "mesh3d"
           }
          ],
          "parcoords": [
           {
            "line": {
             "colorbar": {
              "outlinewidth": 0,
              "ticks": ""
             }
            },
            "type": "parcoords"
           }
          ],
          "pie": [
           {
            "automargin": true,
            "type": "pie"
           }
          ],
          "scatter": [
           {
            "fillpattern": {
             "fillmode": "overlay",
             "size": 10,
             "solidity": 0.2
            },
            "type": "scatter"
           }
          ],
          "scatter3d": [
           {
            "line": {
             "colorbar": {
              "outlinewidth": 0,
              "ticks": ""
             }
            },
            "marker": {
             "colorbar": {
              "outlinewidth": 0,
              "ticks": ""
             }
            },
            "type": "scatter3d"
           }
          ],
          "scattercarpet": [
           {
            "marker": {
             "colorbar": {
              "outlinewidth": 0,
              "ticks": ""
             }
            },
            "type": "scattercarpet"
           }
          ],
          "scattergeo": [
           {
            "marker": {
             "colorbar": {
              "outlinewidth": 0,
              "ticks": ""
             }
            },
            "type": "scattergeo"
           }
          ],
          "scattergl": [
           {
            "marker": {
             "colorbar": {
              "outlinewidth": 0,
              "ticks": ""
             }
            },
            "type": "scattergl"
           }
          ],
          "scattermapbox": [
           {
            "marker": {
             "colorbar": {
              "outlinewidth": 0,
              "ticks": ""
             }
            },
            "type": "scattermapbox"
           }
          ],
          "scatterpolar": [
           {
            "marker": {
             "colorbar": {
              "outlinewidth": 0,
              "ticks": ""
             }
            },
            "type": "scatterpolar"
           }
          ],
          "scatterpolargl": [
           {
            "marker": {
             "colorbar": {
              "outlinewidth": 0,
              "ticks": ""
             }
            },
            "type": "scatterpolargl"
           }
          ],
          "scatterternary": [
           {
            "marker": {
             "colorbar": {
              "outlinewidth": 0,
              "ticks": ""
             }
            },
            "type": "scatterternary"
           }
          ],
          "surface": [
           {
            "colorbar": {
             "outlinewidth": 0,
             "ticks": ""
            },
            "colorscale": [
             [
              0,
              "#0d0887"
             ],
             [
              0.1111111111111111,
              "#46039f"
             ],
             [
              0.2222222222222222,
              "#7201a8"
             ],
             [
              0.3333333333333333,
              "#9c179e"
             ],
             [
              0.4444444444444444,
              "#bd3786"
             ],
             [
              0.5555555555555556,
              "#d8576b"
             ],
             [
              0.6666666666666666,
              "#ed7953"
             ],
             [
              0.7777777777777778,
              "#fb9f3a"
             ],
             [
              0.8888888888888888,
              "#fdca26"
             ],
             [
              1,
              "#f0f921"
             ]
            ],
            "type": "surface"
           }
          ],
          "table": [
           {
            "cells": {
             "fill": {
              "color": "#EBF0F8"
             },
             "line": {
              "color": "white"
             }
            },
            "header": {
             "fill": {
              "color": "#C8D4E3"
             },
             "line": {
              "color": "white"
             }
            },
            "type": "table"
           }
          ]
         },
         "layout": {
          "annotationdefaults": {
           "arrowcolor": "#2a3f5f",
           "arrowhead": 0,
           "arrowwidth": 1
          },
          "autotypenumbers": "strict",
          "coloraxis": {
           "colorbar": {
            "outlinewidth": 0,
            "ticks": ""
           }
          },
          "colorscale": {
           "diverging": [
            [
             0,
             "#8e0152"
            ],
            [
             0.1,
             "#c51b7d"
            ],
            [
             0.2,
             "#de77ae"
            ],
            [
             0.3,
             "#f1b6da"
            ],
            [
             0.4,
             "#fde0ef"
            ],
            [
             0.5,
             "#f7f7f7"
            ],
            [
             0.6,
             "#e6f5d0"
            ],
            [
             0.7,
             "#b8e186"
            ],
            [
             0.8,
             "#7fbc41"
            ],
            [
             0.9,
             "#4d9221"
            ],
            [
             1,
             "#276419"
            ]
           ],
           "sequential": [
            [
             0,
             "#0d0887"
            ],
            [
             0.1111111111111111,
             "#46039f"
            ],
            [
             0.2222222222222222,
             "#7201a8"
            ],
            [
             0.3333333333333333,
             "#9c179e"
            ],
            [
             0.4444444444444444,
             "#bd3786"
            ],
            [
             0.5555555555555556,
             "#d8576b"
            ],
            [
             0.6666666666666666,
             "#ed7953"
            ],
            [
             0.7777777777777778,
             "#fb9f3a"
            ],
            [
             0.8888888888888888,
             "#fdca26"
            ],
            [
             1,
             "#f0f921"
            ]
           ],
           "sequentialminus": [
            [
             0,
             "#0d0887"
            ],
            [
             0.1111111111111111,
             "#46039f"
            ],
            [
             0.2222222222222222,
             "#7201a8"
            ],
            [
             0.3333333333333333,
             "#9c179e"
            ],
            [
             0.4444444444444444,
             "#bd3786"
            ],
            [
             0.5555555555555556,
             "#d8576b"
            ],
            [
             0.6666666666666666,
             "#ed7953"
            ],
            [
             0.7777777777777778,
             "#fb9f3a"
            ],
            [
             0.8888888888888888,
             "#fdca26"
            ],
            [
             1,
             "#f0f921"
            ]
           ]
          },
          "colorway": [
           "#636efa",
           "#EF553B",
           "#00cc96",
           "#ab63fa",
           "#FFA15A",
           "#19d3f3",
           "#FF6692",
           "#B6E880",
           "#FF97FF",
           "#FECB52"
          ],
          "font": {
           "color": "#2a3f5f"
          },
          "geo": {
           "bgcolor": "white",
           "lakecolor": "white",
           "landcolor": "#E5ECF6",
           "showlakes": true,
           "showland": true,
           "subunitcolor": "white"
          },
          "hoverlabel": {
           "align": "left"
          },
          "hovermode": "closest",
          "mapbox": {
           "style": "light"
          },
          "paper_bgcolor": "white",
          "plot_bgcolor": "#E5ECF6",
          "polar": {
           "angularaxis": {
            "gridcolor": "white",
            "linecolor": "white",
            "ticks": ""
           },
           "bgcolor": "#E5ECF6",
           "radialaxis": {
            "gridcolor": "white",
            "linecolor": "white",
            "ticks": ""
           }
          },
          "scene": {
           "xaxis": {
            "backgroundcolor": "#E5ECF6",
            "gridcolor": "white",
            "gridwidth": 2,
            "linecolor": "white",
            "showbackground": true,
            "ticks": "",
            "zerolinecolor": "white"
           },
           "yaxis": {
            "backgroundcolor": "#E5ECF6",
            "gridcolor": "white",
            "gridwidth": 2,
            "linecolor": "white",
            "showbackground": true,
            "ticks": "",
            "zerolinecolor": "white"
           },
           "zaxis": {
            "backgroundcolor": "#E5ECF6",
            "gridcolor": "white",
            "gridwidth": 2,
            "linecolor": "white",
            "showbackground": true,
            "ticks": "",
            "zerolinecolor": "white"
           }
          },
          "shapedefaults": {
           "line": {
            "color": "#2a3f5f"
           }
          },
          "ternary": {
           "aaxis": {
            "gridcolor": "white",
            "linecolor": "white",
            "ticks": ""
           },
           "baxis": {
            "gridcolor": "white",
            "linecolor": "white",
            "ticks": ""
           },
           "bgcolor": "#E5ECF6",
           "caxis": {
            "gridcolor": "white",
            "linecolor": "white",
            "ticks": ""
           }
          },
          "title": {
           "x": 0.05
          },
          "xaxis": {
           "automargin": true,
           "gridcolor": "white",
           "linecolor": "white",
           "ticks": "",
           "title": {
            "standoff": 15
           },
           "zerolinecolor": "white",
           "zerolinewidth": 2
          },
          "yaxis": {
           "automargin": true,
           "gridcolor": "white",
           "linecolor": "white",
           "ticks": "",
           "title": {
            "standoff": 15
           },
           "zerolinecolor": "white",
           "zerolinewidth": 2
          }
         }
        },
        "xaxis": {
         "anchor": "y",
         "domain": [
          0,
          1
         ],
         "title": {
          "text": "Sessões de espetáculos ao vivo"
         }
        },
        "yaxis": {
         "anchor": "x",
         "domain": [
          0,
          1
         ],
         "showgrid": false,
         "showticklabels": false,
         "title": {
          "text": "y"
         }
        }
       }
      }
     },
     "metadata": {},
     "output_type": "display_data"
    },
    {
     "name": "stdout",
     "output_type": "stream",
     "text": [
      "Sessões de espetáculos ao vivo\n",
      "0    284\n",
      "1     22\n",
      "2      2\n",
      "Name: count, dtype: int64\n",
      "File saved to csv_files/8_Sessões de espetáculos ao vivo.csv\n"
     ]
    }
   ],
   "source": [
    "clustered_df = aplicar_kmeans(df_sessoes_de_espetaculo, 3, nome_cluster='Sessões de espetáculos ao vivo')\n",
    "save_clustered_df_to_csv(clustered_df, \"csv_files/\", \"8_Sessões de espetáculos ao vivo.csv\")"
   ]
  },
  {
   "cell_type": "markdown",
   "id": "cf1c73c5-bc68-4fea-94a8-f056b4b28b53",
   "metadata": {},
   "source": [
    "**Despesas em bibliotecas e arquivos**"
   ]
  },
  {
   "cell_type": "code",
   "execution_count": 16,
   "id": "de44e693-14a1-4a10-a9ff-49e3546160d0",
   "metadata": {},
   "outputs": [
    {
     "data": {
      "text/html": [
       "<div>\n",
       "<style scoped>\n",
       "    .dataframe tbody tr th:only-of-type {\n",
       "        vertical-align: middle;\n",
       "    }\n",
       "\n",
       "    .dataframe tbody tr th {\n",
       "        vertical-align: top;\n",
       "    }\n",
       "\n",
       "    .dataframe thead th {\n",
       "        text-align: right;\n",
       "    }\n",
       "</style>\n",
       "<table border=\"1\" class=\"dataframe\">\n",
       "  <thead>\n",
       "    <tr style=\"text-align: right;\">\n",
       "      <th></th>\n",
       "      <th>local</th>\n",
       "      <th>codigo</th>\n",
       "      <th>Despesas em bibliotecas e arquivos</th>\n",
       "    </tr>\n",
       "  </thead>\n",
       "  <tbody>\n",
       "    <tr>\n",
       "      <th>4</th>\n",
       "      <td>Arcos de Valdevez</td>\n",
       "      <td>1111601</td>\n",
       "      <td>225317.0</td>\n",
       "    </tr>\n",
       "    <tr>\n",
       "      <th>5</th>\n",
       "      <td>Caminha</td>\n",
       "      <td>1111602</td>\n",
       "      <td>359086.0</td>\n",
       "    </tr>\n",
       "    <tr>\n",
       "      <th>6</th>\n",
       "      <td>Melgaço</td>\n",
       "      <td>1111603</td>\n",
       "      <td>236997.0</td>\n",
       "    </tr>\n",
       "    <tr>\n",
       "      <th>7</th>\n",
       "      <td>Monção</td>\n",
       "      <td>1111604</td>\n",
       "      <td>305366.0</td>\n",
       "    </tr>\n",
       "    <tr>\n",
       "      <th>8</th>\n",
       "      <td>Paredes de Coura</td>\n",
       "      <td>1111605</td>\n",
       "      <td>221217.0</td>\n",
       "    </tr>\n",
       "    <tr>\n",
       "      <th>...</th>\n",
       "      <td>...</td>\n",
       "      <td>...</td>\n",
       "      <td>...</td>\n",
       "    </tr>\n",
       "    <tr>\n",
       "      <th>339</th>\n",
       "      <td>Porto Santo</td>\n",
       "      <td>3003201</td>\n",
       "      <td>39758.0</td>\n",
       "    </tr>\n",
       "    <tr>\n",
       "      <th>340</th>\n",
       "      <td>Ribeira Brava</td>\n",
       "      <td>3003107</td>\n",
       "      <td>86757.0</td>\n",
       "    </tr>\n",
       "    <tr>\n",
       "      <th>341</th>\n",
       "      <td>Santa Cruz</td>\n",
       "      <td>3003108</td>\n",
       "      <td>53693.0</td>\n",
       "    </tr>\n",
       "    <tr>\n",
       "      <th>342</th>\n",
       "      <td>Santana</td>\n",
       "      <td>3003109</td>\n",
       "      <td>0.0</td>\n",
       "    </tr>\n",
       "    <tr>\n",
       "      <th>343</th>\n",
       "      <td>São Vicente</td>\n",
       "      <td>3003110</td>\n",
       "      <td>22654.0</td>\n",
       "    </tr>\n",
       "  </tbody>\n",
       "</table>\n",
       "<p>308 rows × 3 columns</p>\n",
       "</div>"
      ],
      "text/plain": [
       "                 local   codigo  Despesas em bibliotecas e arquivos\n",
       "4    Arcos de Valdevez  1111601                            225317.0\n",
       "5              Caminha  1111602                            359086.0\n",
       "6              Melgaço  1111603                            236997.0\n",
       "7               Monção  1111604                            305366.0\n",
       "8     Paredes de Coura  1111605                            221217.0\n",
       "..                 ...      ...                                 ...\n",
       "339        Porto Santo  3003201                             39758.0\n",
       "340      Ribeira Brava  3003107                             86757.0\n",
       "341         Santa Cruz  3003108                             53693.0\n",
       "342            Santana  3003109                                 0.0\n",
       "343        São Vicente  3003110                             22654.0\n",
       "\n",
       "[308 rows x 3 columns]"
      ]
     },
     "execution_count": 16,
     "metadata": {},
     "output_type": "execute_result"
    }
   ],
   "source": [
    "df_despesas_bibliotecas_arquivos = processar_ficheiro(data_path+'Despesas em bibliotecas e arquivos.xls',0,padding_left=1)\n",
    "df_despesas_bibliotecas_arquivos = carregar_municipios(df_despesas_bibliotecas_arquivos)\n",
    "df_despesas_bibliotecas_arquivos = df_despesas_bibliotecas_arquivos[['local','codigo','Despesas em bibliotecas e arquivos']]\n",
    "\n",
    "df_despesas_bibliotecas_arquivos"
   ]
  },
  {
   "cell_type": "code",
   "execution_count": 17,
   "id": "3f75e565-a06a-4b4e-8cdf-7aff47683d38",
   "metadata": {
    "scrolled": true
   },
   "outputs": [
    {
     "data": {
      "application/vnd.plotly.v1+json": {
       "config": {
        "plotlyServerURL": "https://plot.ly"
       },
       "data": [
        {
         "customdata": [
          [
           "Arcos de Valdevez",
           "1111601",
           0
          ],
          [
           "Caminha",
           "1111602",
           0
          ],
          [
           "Melgaço",
           "1111603",
           0
          ],
          [
           "Monção",
           "1111604",
           0
          ],
          [
           "Paredes de Coura",
           "1111605",
           0
          ],
          [
           "Ponte da Barca",
           "1111606",
           0
          ],
          [
           "Ponte de Lima",
           "1111607",
           0
          ],
          [
           "Valença",
           "1111608",
           0
          ],
          [
           "Viana do Castelo",
           "1111609",
           1
          ],
          [
           "Vila Nova de Cerveira",
           "1111610",
           0
          ],
          [
           "Amares",
           "1120301",
           0
          ],
          [
           "Barcelos",
           "1120302",
           1
          ],
          [
           "Braga",
           "1120303",
           0
          ],
          [
           "Esposende",
           "1120306",
           0
          ],
          [
           "Terras de Bouro",
           "1120310",
           0
          ],
          [
           "Vila Verde",
           "1120313",
           0
          ],
          [
           "Cabeceiras de Basto",
           "1190304",
           0
          ],
          [
           "Fafe",
           "1190307",
           0
          ],
          [
           "Guimarães",
           "1190308",
           1
          ],
          [
           "Mondim de Basto",
           "1191705",
           0
          ],
          [
           "Póvoa de Lanhoso",
           "1190309",
           0
          ],
          [
           "Vieira do Minho",
           "1190311",
           0
          ],
          [
           "Vila Nova de Famalicão",
           "1190312",
           1
          ],
          [
           "Vizela",
           "1190314",
           0
          ],
          [
           "Arouca",
           "11A0104",
           0
          ],
          [
           "Espinho",
           "11A0107",
           0
          ],
          [
           "Gondomar",
           "11A1304",
           0
          ],
          [
           "Maia",
           "11A1306",
           0
          ],
          [
           "Matosinhos",
           "11A1308",
           1
          ],
          [
           "Oliveira de Azeméis",
           "11A0113",
           0
          ],
          [
           "Paredes",
           "11A1310",
           0
          ],
          [
           "Porto",
           "11A1312",
           2
          ],
          [
           "Póvoa de Varzim",
           "11A1313",
           1
          ],
          [
           "Santa Maria da Feira",
           "11A0109",
           1
          ],
          [
           "Santo Tirso",
           "11A1314",
           0
          ],
          [
           "São João da Madeira",
           "11A0116",
           0
          ],
          [
           "Trofa",
           "11A1318",
           0
          ],
          [
           "Vale de Cambra",
           "11A0119",
           0
          ],
          [
           "Valongo",
           "11A1315",
           1
          ],
          [
           "Vila do Conde",
           "11A1316",
           1
          ],
          [
           "Vila Nova de Gaia",
           "11A1317",
           1
          ],
          [
           "Boticas",
           "11B1702",
           0
          ],
          [
           "Chaves",
           "11B1703",
           0
          ],
          [
           "Montalegre",
           "11B1706",
           0
          ],
          [
           "Ribeira de Pena",
           "11B1709",
           0
          ],
          [
           "Valpaços",
           "11B1712",
           0
          ],
          [
           "Vila Pouca de Aguiar",
           "11B1713",
           0
          ],
          [
           "Amarante",
           "11C1301",
           0
          ],
          [
           "Baião",
           "11C1302",
           0
          ],
          [
           "Castelo de Paiva",
           "11C0106",
           0
          ],
          [
           "Celorico de Basto",
           "11C0305",
           0
          ],
          [
           "Cinfães",
           "11C1804",
           0
          ],
          [
           "Felgueiras",
           "11C1303",
           0
          ],
          [
           "Lousada",
           "11C1305",
           0
          ],
          [
           "Marco de Canaveses",
           "11C1307",
           0
          ],
          [
           "Paços de Ferreira",
           "11C1309",
           0
          ],
          [
           "Penafiel",
           "11C1311",
           1
          ],
          [
           "Resende",
           "11C1813",
           0
          ],
          [
           "Alijó",
           "11D1701",
           0
          ],
          [
           "Armamar",
           "11D1801",
           0
          ],
          [
           "Carrazeda de Ansiães",
           "11D0403",
           0
          ],
          [
           "Freixo de Espada à Cinta",
           "11D0404",
           0
          ],
          [
           "Lamego",
           "11D1805",
           0
          ],
          [
           "Mesão Frio",
           "11D1704",
           0
          ],
          [
           "Moimenta da Beira",
           "11D1807",
           0
          ],
          [
           "Murça",
           "11D1707",
           0
          ],
          [
           "Penedono",
           "11D1812",
           0
          ],
          [
           "Peso da Régua",
           "11D1708",
           0
          ],
          [
           "Sabrosa",
           "11D1710",
           0
          ],
          [
           "Santa Marta de Penaguião",
           "11D1711",
           0
          ],
          [
           "São João da Pesqueira",
           "11D1815",
           0
          ],
          [
           "Sernancelhe",
           "11D1818",
           0
          ],
          [
           "Tabuaço",
           "11D1819",
           0
          ],
          [
           "Tarouca",
           "11D1820",
           0
          ],
          [
           "Torre de Moncorvo",
           "11D0409",
           0
          ],
          [
           "Vila Nova de Foz Côa",
           "11D0914",
           0
          ],
          [
           "Vila Real",
           "11D1714",
           0
          ],
          [
           "Alfândega da Fé",
           "11E0401",
           0
          ],
          [
           "Bragança",
           "11E0402",
           0
          ],
          [
           "Macedo de Cavaleiros",
           "11E0405",
           0
          ],
          [
           "Miranda do Douro",
           "11E0406",
           0
          ],
          [
           "Mirandela",
           "11E0407",
           0
          ],
          [
           "Mogadouro",
           "11E0408",
           0
          ],
          [
           "Vila Flor",
           "11E0410",
           0
          ],
          [
           "Vimioso",
           "11E0411",
           0
          ],
          [
           "Vinhais",
           "11E0412",
           0
          ],
          [
           "Alcobaça",
           "16B1001",
           0
          ],
          [
           "Alenquer",
           "16B1101",
           0
          ],
          [
           "Arruda dos Vinhos",
           "16B1102",
           0
          ],
          [
           "Bombarral",
           "16B1005",
           0
          ],
          [
           "Cadaval",
           "16B1104",
           0
          ],
          [
           "Caldas da Rainha",
           "16B1006",
           0
          ],
          [
           "Lourinhã",
           "16B1108",
           0
          ],
          [
           "Nazaré",
           "16B1011",
           0
          ],
          [
           "Óbidos",
           "16B1012",
           0
          ],
          [
           "Peniche",
           "16B1014",
           0
          ],
          [
           "Sobral de Monte Agraço",
           "16B1112",
           0
          ],
          [
           "Torres Vedras",
           "16B1113",
           0
          ],
          [
           "Águeda",
           "16D0101",
           0
          ],
          [
           "Albergaria-a-Velha",
           "16D0102",
           0
          ],
          [
           "Anadia",
           "16D0103",
           0
          ],
          [
           "Aveiro",
           "16D0105",
           1
          ],
          [
           "Estarreja",
           "16D0108",
           0
          ],
          [
           "Ílhavo",
           "16D0110",
           0
          ],
          [
           "Murtosa",
           "16D0112",
           0
          ],
          [
           "Oliveira do Bairro",
           "16D0114",
           0
          ],
          [
           "Ovar",
           "16D0115",
           0
          ],
          [
           "Sever do Vouga",
           "16D0117",
           0
          ],
          [
           "Vagos",
           "16D0118",
           0
          ],
          [
           "Arganil",
           "16E0601",
           0
          ],
          [
           "Cantanhede",
           "16E0602",
           0
          ],
          [
           "Coimbra",
           "16E0603",
           1
          ],
          [
           "Condeixa-a-Nova",
           "16E0604",
           0
          ],
          [
           "Figueira da Foz",
           "16E0605",
           1
          ],
          [
           "Góis",
           "16E0606",
           0
          ],
          [
           "Lousã",
           "16E0607",
           0
          ],
          [
           "Mealhada",
           "16E0111",
           0
          ],
          [
           "Mira",
           "16E0608",
           0
          ],
          [
           "Miranda do Corvo",
           "16E0609",
           0
          ],
          [
           "Montemor-o-Velho",
           "16E0610",
           0
          ],
          [
           "Mortágua",
           "16E1808",
           0
          ],
          [
           "Oliveira do Hospital",
           "16E0611",
           0
          ],
          [
           "Pampilhosa da Serra",
           "16E0612",
           0
          ],
          [
           "Penacova",
           "16E0613",
           0
          ],
          [
           "Penela",
           "16E0614",
           0
          ],
          [
           "Soure",
           "16E0615",
           0
          ],
          [
           "Tábua",
           "16E0616",
           0
          ],
          [
           "Vila Nova de Poiares",
           "16E0617",
           0
          ],
          [
           "Alvaiázere",
           "16F1002",
           0
          ],
          [
           "Ansião",
           "16F1003",
           0
          ],
          [
           "Batalha",
           "16F1004",
           0
          ],
          [
           "Castanheira de Pêra",
           "16F1007",
           0
          ],
          [
           "Figueiró dos Vinhos",
           "16F1008",
           0
          ],
          [
           "Leiria",
           "16F1009",
           0
          ],
          [
           "Marinha Grande",
           "16F1010",
           0
          ],
          [
           "Pedrógão Grande",
           "16F1013",
           0
          ],
          [
           "Pombal",
           "16F1015",
           0
          ],
          [
           "Porto de Mós",
           "16F1016",
           0
          ],
          [
           "Aguiar da Beira",
           "16G0901",
           0
          ],
          [
           "Carregal do Sal",
           "16G1802",
           0
          ],
          [
           "Castro Daire",
           "16G1803",
           0
          ],
          [
           "Mangualde",
           "16G1806",
           0
          ],
          [
           "Nelas",
           "16G1809",
           0
          ],
          [
           "Oliveira de Frades",
           "16G1810",
           0
          ],
          [
           "Penalva do Castelo",
           "16G1811",
           0
          ],
          [
           "Santa Comba Dão",
           "16G1814",
           0
          ],
          [
           "São Pedro do Sul",
           "16G1816",
           0
          ],
          [
           "Sátão",
           "16G1817",
           0
          ],
          [
           "Tondela",
           "16G1821",
           0
          ],
          [
           "Vila Nova de Paiva",
           "16G1822",
           0
          ],
          [
           "Viseu",
           "16G1823",
           0
          ],
          [
           "Vouzela",
           "16G1824",
           0
          ],
          [
           "Castelo Branco",
           "16H0502",
           0
          ],
          [
           "Idanha-a-Nova",
           "16H0505",
           0
          ],
          [
           "Oleiros",
           "16H0506",
           0
          ],
          [
           "Penamacor",
           "16H0507",
           0
          ],
          [
           "Proença-a-Nova",
           "16H0508",
           0
          ],
          [
           "Vila Velha de Ródão",
           "16H0511",
           0
          ],
          [
           "Abrantes",
           "16I1401",
           1
          ],
          [
           "Alcanena",
           "16I1402",
           0
          ],
          [
           "Constância",
           "16I1408",
           0
          ],
          [
           "Entroncamento",
           "16I1410",
           0
          ],
          [
           "Ferreira do Zêzere",
           "16I1411",
           0
          ],
          [
           "Mação",
           "16I1413",
           0
          ],
          [
           "Ourém",
           "16I1421",
           0
          ],
          [
           "Sardoal",
           "16I1417",
           1
          ],
          [
           "Sertã",
           "16I0509",
           0
          ],
          [
           "Tomar",
           "16I1418",
           0
          ],
          [
           "Torres Novas",
           "16I1419",
           1
          ],
          [
           "Vila de Rei",
           "16I0510",
           0
          ],
          [
           "Vila Nova da Barquinha",
           "16I1420",
           0
          ],
          [
           "Almeida",
           "16J0902",
           0
          ],
          [
           "Belmonte",
           "16J0501",
           0
          ],
          [
           "Celorico da Beira",
           "16J0903",
           0
          ],
          [
           "Covilhã",
           "16J0503",
           0
          ],
          [
           "Figueira de Castelo Rodrigo",
           "16J0904",
           0
          ],
          [
           "Fornos de Algodres",
           "16J0905",
           0
          ],
          [
           "Fundão",
           "16J0504",
           0
          ],
          [
           "Gouveia",
           "16J0906",
           0
          ],
          [
           "Guarda",
           "16J0907",
           0
          ],
          [
           "Manteigas",
           "16J0908",
           0
          ],
          [
           "Mêda",
           "16J0909",
           0
          ],
          [
           "Pinhel",
           "16J0910",
           0
          ],
          [
           "Sabugal",
           "16J0911",
           0
          ],
          [
           "Seia",
           "16J0912",
           0
          ],
          [
           "Trancoso",
           "16J0913",
           0
          ],
          [
           "Alcochete",
           "1701502",
           0
          ],
          [
           "Almada",
           "1701503",
           1
          ],
          [
           "Amadora",
           "1701115",
           1
          ],
          [
           "Barreiro",
           "1701504",
           0
          ],
          [
           "Cascais",
           "1701105",
           0
          ],
          [
           "Lisboa",
           "1701106",
           1
          ],
          [
           "Loures",
           "1701107",
           1
          ],
          [
           "Mafra",
           "1701109",
           0
          ],
          [
           "Moita",
           "1701506",
           0
          ],
          [
           "Montijo",
           "1701507",
           0
          ],
          [
           "Odivelas",
           "1701116",
           1
          ],
          [
           "Oeiras",
           "1701110",
           0
          ],
          [
           "Palmela",
           "1701508",
           1
          ],
          [
           "Seixal",
           "1701510",
           1
          ],
          [
           "Sesimbra",
           "1701511",
           1
          ],
          [
           "Setúbal",
           "1701512",
           1
          ],
          [
           "Sintra",
           "1701111",
           1
          ],
          [
           "Vila Franca de Xira",
           "1701114",
           1
          ],
          [
           "Alcácer do Sal",
           "1811501",
           0
          ],
          [
           "Grândola",
           "1811505",
           1
          ],
          [
           "Odemira",
           "1810211",
           0
          ],
          [
           "Santiago do Cacém",
           "1811509",
           1
          ],
          [
           "Sines",
           "1811513",
           0
          ],
          [
           "Aljustrel",
           "1840201",
           0
          ],
          [
           "Almodôvar",
           "1840202",
           0
          ],
          [
           "Alvito",
           "1840203",
           0
          ],
          [
           "Barrancos",
           "1840204",
           0
          ],
          [
           "Beja",
           "1840205",
           1
          ],
          [
           "Castro Verde",
           "1840206",
           0
          ],
          [
           "Cuba",
           "1840207",
           0
          ],
          [
           "Ferreira do Alentejo",
           "1840208",
           0
          ],
          [
           "Mértola",
           "1840209",
           0
          ],
          [
           "Moura",
           "1840210",
           0
          ],
          [
           "Ourique",
           "1840212",
           0
          ],
          [
           "Serpa",
           "1840213",
           0
          ],
          [
           "Vidigueira",
           "1840214",
           0
          ],
          [
           "Almeirim",
           "1851403",
           0
          ],
          [
           "Alpiarça",
           "1851404",
           0
          ],
          [
           "Azambuja",
           "1851103",
           0
          ],
          [
           "Benavente",
           "1851405",
           0
          ],
          [
           "Cartaxo",
           "1851406",
           0
          ],
          [
           "Chamusca",
           "1851407",
           0
          ],
          [
           "Coruche",
           "1851409",
           0
          ],
          [
           "Golegã",
           "1851412",
           0
          ],
          [
           "Rio Maior",
           "1851414",
           0
          ],
          [
           "Salvaterra de Magos",
           "1851415",
           0
          ],
          [
           "Santarém",
           "1851416",
           0
          ],
          [
           "Alter do Chão",
           "1861201",
           0
          ],
          [
           "Arronches",
           "1861202",
           0
          ],
          [
           "Avis",
           "1861203",
           0
          ],
          [
           "Campo Maior",
           "1861204",
           0
          ],
          [
           "Castelo de Vide",
           "1861205",
           0
          ],
          [
           "Crato",
           "1861206",
           0
          ],
          [
           "Elvas",
           "1861207",
           0
          ],
          [
           "Fronteira",
           "1861208",
           0
          ],
          [
           "Gavião",
           "1861209",
           0
          ],
          [
           "Marvão",
           "1861210",
           0
          ],
          [
           "Monforte",
           "1861211",
           0
          ],
          [
           "Nisa",
           "1861212",
           0
          ],
          [
           "Ponte de Sor",
           "1861213",
           0
          ],
          [
           "Portalegre",
           "1861214",
           0
          ],
          [
           "Sousel",
           "1861215",
           0
          ],
          [
           "Alandroal",
           "1870701",
           0
          ],
          [
           "Arraiolos",
           "1870702",
           0
          ],
          [
           "Borba",
           "1870703",
           0
          ],
          [
           "Estremoz",
           "1870704",
           0
          ],
          [
           "Évora",
           "1870705",
           0
          ],
          [
           "Montemor-o-Novo",
           "1870706",
           0
          ],
          [
           "Mora",
           "1870707",
           0
          ],
          [
           "Mourão",
           "1870708",
           0
          ],
          [
           "Portel",
           "1870709",
           0
          ],
          [
           "Redondo",
           "1870710",
           0
          ],
          [
           "Reguengos de Monsaraz",
           "1870711",
           0
          ],
          [
           "Vendas Novas",
           "1870712",
           0
          ],
          [
           "Viana do Alentejo",
           "1870713",
           0
          ],
          [
           "Vila Viçosa",
           "1870714",
           0
          ],
          [
           "Albufeira",
           "1500801",
           0
          ],
          [
           "Alcoutim",
           "1500802",
           0
          ],
          [
           "Aljezur",
           "1500803",
           0
          ],
          [
           "Castro Marim",
           "1500804",
           0
          ],
          [
           "Faro",
           "1500805",
           1
          ],
          [
           "Lagoa",
           "1500806",
           0
          ],
          [
           "Lagos",
           "1500807",
           1
          ],
          [
           "Loulé",
           "1500808",
           1
          ],
          [
           "Monchique",
           "1500809",
           0
          ],
          [
           "Olhão",
           "1500810",
           1
          ],
          [
           "Portimão",
           "1500811",
           1
          ],
          [
           "São Brás de Alportel",
           "1500812",
           0
          ],
          [
           "Silves",
           "1500813",
           0
          ],
          [
           "Tavira",
           "1500814",
           0
          ],
          [
           "Vila do Bispo",
           "1500815",
           0
          ],
          [
           "Vila Real de Santo António",
           "1500816",
           0
          ],
          [
           "Angra do Heroísmo",
           "2004301",
           0
          ],
          [
           "Calheta",
           "2004501",
           0
          ],
          [
           "Corvo",
           "2004901",
           0
          ],
          [
           "Horta",
           "2004701",
           0
          ],
          [
           "Lagoa",
           "2004201",
           0
          ],
          [
           "Lajes das Flores",
           "2004801",
           0
          ],
          [
           "Lajes do Pico",
           "2004601",
           0
          ],
          [
           "Madalena",
           "2004602",
           0
          ],
          [
           "Nordeste",
           "2004202",
           0
          ],
          [
           "Ponta Delgada",
           "2004203",
           0
          ],
          [
           "Povoação",
           "2004204",
           0
          ],
          [
           "Ribeira Grande",
           "2004205",
           0
          ],
          [
           "Santa Cruz da Graciosa",
           "2004401",
           0
          ],
          [
           "Santa Cruz das Flores",
           "2004802",
           0
          ],
          [
           "São Roque do Pico",
           "2004603",
           0
          ],
          [
           "Velas",
           "2004502",
           0
          ],
          [
           "Vila da Praia da Vitória",
           "2004302",
           0
          ],
          [
           "Vila do Porto",
           "2004101",
           0
          ],
          [
           "Vila Franca do Campo",
           "2004206",
           0
          ],
          [
           "Calheta",
           "3003101",
           0
          ],
          [
           "Câmara de Lobos",
           "3003102",
           0
          ],
          [
           "Funchal",
           "3003103",
           0
          ],
          [
           "Machico",
           "3003104",
           0
          ],
          [
           "Ponta do Sol",
           "3003105",
           0
          ],
          [
           "Porto Moniz",
           "3003106",
           0
          ],
          [
           "Porto Santo",
           "3003201",
           0
          ],
          [
           "Ribeira Brava",
           "3003107",
           0
          ],
          [
           "Santa Cruz",
           "3003108",
           0
          ],
          [
           "Santana",
           "3003109",
           0
          ],
          [
           "São Vicente",
           "3003110",
           0
          ]
         ],
         "hovertemplate": "valor=%{x}<br>y=%{y}<br>local=%{customdata[0]}<br>codigo=%{customdata[1]}<br>Despesas em bibliotecas e arquivos=%{marker.color}<extra></extra>",
         "legendgroup": "",
         "marker": {
          "color": [
           0,
           0,
           0,
           0,
           0,
           0,
           0,
           0,
           1,
           0,
           0,
           1,
           0,
           0,
           0,
           0,
           0,
           0,
           1,
           0,
           0,
           0,
           1,
           0,
           0,
           0,
           0,
           0,
           1,
           0,
           0,
           2,
           1,
           1,
           0,
           0,
           0,
           0,
           1,
           1,
           1,
           0,
           0,
           0,
           0,
           0,
           0,
           0,
           0,
           0,
           0,
           0,
           0,
           0,
           0,
           0,
           1,
           0,
           0,
           0,
           0,
           0,
           0,
           0,
           0,
           0,
           0,
           0,
           0,
           0,
           0,
           0,
           0,
           0,
           0,
           0,
           0,
           0,
           0,
           0,
           0,
           0,
           0,
           0,
           0,
           0,
           0,
           0,
           0,
           0,
           0,
           0,
           0,
           0,
           0,
           0,
           0,
           0,
           0,
           0,
           0,
           1,
           0,
           0,
           0,
           0,
           0,
           0,
           0,
           0,
           0,
           1,
           0,
           1,
           0,
           0,
           0,
           0,
           0,
           0,
           0,
           0,
           0,
           0,
           0,
           0,
           0,
           0,
           0,
           0,
           0,
           0,
           0,
           0,
           0,
           0,
           0,
           0,
           0,
           0,
           0,
           0,
           0,
           0,
           0,
           0,
           0,
           0,
           0,
           0,
           0,
           0,
           0,
           0,
           0,
           0,
           0,
           0,
           1,
           0,
           0,
           0,
           0,
           0,
           0,
           1,
           0,
           0,
           1,
           0,
           0,
           0,
           0,
           0,
           0,
           0,
           0,
           0,
           0,
           0,
           0,
           0,
           0,
           0,
           0,
           0,
           0,
           1,
           1,
           0,
           0,
           1,
           1,
           0,
           0,
           0,
           1,
           0,
           1,
           1,
           1,
           1,
           1,
           1,
           0,
           1,
           0,
           1,
           0,
           0,
           0,
           0,
           0,
           1,
           0,
           0,
           0,
           0,
           0,
           0,
           0,
           0,
           0,
           0,
           0,
           0,
           0,
           0,
           0,
           0,
           0,
           0,
           0,
           0,
           0,
           0,
           0,
           0,
           0,
           0,
           0,
           0,
           0,
           0,
           0,
           0,
           0,
           0,
           0,
           0,
           0,
           0,
           0,
           0,
           0,
           0,
           0,
           0,
           0,
           0,
           0,
           0,
           0,
           0,
           0,
           0,
           1,
           0,
           1,
           1,
           0,
           1,
           1,
           0,
           0,
           0,
           0,
           0,
           0,
           0,
           0,
           0,
           0,
           0,
           0,
           0,
           0,
           0,
           0,
           0,
           0,
           0,
           0,
           0,
           0,
           0,
           0,
           0,
           0,
           0,
           0,
           0,
           0,
           0,
           0,
           0,
           0,
           0
          ],
          "coloraxis": "coloraxis",
          "size": 10,
          "symbol": "circle"
         },
         "mode": "markers",
         "name": "",
         "orientation": "v",
         "showlegend": false,
         "type": "scatter",
         "x": [
          -0.16060444251980655,
          0.1818097657886456,
          -0.1307066489125977,
          0.04430039313631174,
          -0.17109938719356993,
          -0.36063040877392655,
          -0.023804118568602536,
          0.13542978955842153,
          1.655786349079662,
          0.10235023589524003,
          -0.27534234497267723,
          1.181117919683568,
          -0.10729524306229528,
          0.17653157654052365,
          -0.5881582495585133,
          0.20649592345541978,
          -0.589942390153053,
          0.3840217522260324,
          3.536872075236374,
          -0.5968997705489771,
          0.27311578445038703,
          -0.3188118938628845,
          2.1473183627466716,
          -0.7334492397250522,
          -0.1454661247635537,
          0.1520809151932583,
          -0.5597271884630279,
          0.46325858451294594,
          1.9627327638760008,
          0.5728053289662088,
          -0.19912088947251816,
          10.54432871570996,
          1.4557910997367824,
          2.1527450170657882,
          0.04758966238162539,
          0.012457195150551626,
          -0.7148117538300105,
          0.4564163925341729,
          0.9955826563070516,
          1.6060735879798673,
          3.2945028468375237,
          -0.522075934510251,
          0.042401064124620906,
          -0.28105057097816316,
          -0.14035943826985664,
          -0.1892479622513705,
          -0.39135755898462304,
          -0.13127747151314628,
          -0.3027546285120265,
          -0.3741484094622544,
          0.49749258209024144,
          -0.3639939105547375,
          0.14756040975572998,
          -0.28105313072076654,
          -0.7189099017379849,
          -0.40360336759908255,
          0.7934474621477654,
          0.09829560361152266,
          -0.3907099441059737,
          -0.6292523573128053,
          -0.4870228192998813,
          -0.3616722240134928,
          -0.17755249829663272,
          -0.500776316307718,
          -0.6734847094988129,
          -0.4746823002090976,
          -0.6529402153642703,
          -0.7291923877756696,
          -0.6609035746033136,
          -0.6285356293838654,
          -0.4285147826149521,
          -0.5267244270779472,
          -0.5513133145257938,
          -0.6146669439588776,
          -0.13070920865520105,
          -0.5121338942388127,
          0.45217489904041047,
          -0.5192115825370945,
          -0.20851002534163135,
          -0.6227966864671391,
          -0.5225750843179056,
          -0.21515255739734257,
          -0.4769092762740181,
          -0.29424860384107143,
          -0.7368536973875169,
          -0.7038176593485924,
          -0.24460239604896394,
          0.0790284210360551,
          -0.5916804553807324,
          -0.6737202058183218,
          -0.44298756729433214,
          -0.17223079342425368,
          0.08228953311273182,
          -0.18867202016561518,
          -0.5403141005591691,
          -0.44096793038028353,
          0.1215150287665733,
          0.33632606829768286,
          -0.36567310170253964,
          0.6059207190258373,
          -0.3736031842877394,
          1.4147789037457978,
          -0.17932895966336243,
          0.5547821812959727,
          -0.43507796264995924,
          -0.13395240253365426,
          -0.03392534082227581,
          -0.08734204946912806,
          -0.5426613845264473,
          0.04449493357416687,
          0.22689707200417444,
          4.42991763443814,
          -0.2574343857195922,
          0.912982322239327,
          -0.45479054043841094,
          -0.2860958236493797,
          -0.044282059395457915,
          -0.33231453609559225,
          -0.28492090179443885,
          -0.15711551335143106,
          -0.3332437226606108,
          -0.172806735510009,
          0.04679358243198138,
          -0.36259629109330466,
          -0.4357102190729884,
          0.03417917088263847,
          -0.3718753580304735,
          -0.6118205101839447,
          -0.43300457114124014,
          -0.38555206276020954,
          -0.49181465745336544,
          -0.5573491875845094,
          -0.08269099715882854,
          0.5905827413465227,
          0.16868852520383804,
          -0.34230521147649434,
          0.6150103650103578,
          -0.08173877291037976,
          -0.4004958400786072,
          -0.4604475715918297,
          -0.22218673007136738,
          0.38313864102787426,
          -0.5524242428156506,
          -0.36299817068203166,
          0.18147443950760586,
          -0.3270081896788333,
          -0.4783273736762778,
          -0.3475629227837894,
          0.197367881331849,
          -0.5662289346755546,
          0.7289163511171374,
          -0.3430321783758477,
          0.20466570749401958,
          -0.2518541468442741,
          -0.6033068062851795,
          -0.5648313152141217,
          -0.07358087323348125,
          -0.476320535475246,
          1.3784612756893697,
          -0.3151489021974807,
          -0.242150162634948,
          -0.47412427632156573,
          -0.3780264195063402,
          -0.30304387942620586,
          -0.26674928905320805,
          1.9632754293079124,
          0.5586704303104719,
          0.6277860403437121,
          1.2945068377844695,
          -0.40219294942463285,
          -0.734258118387713,
          -0.4337392172684036,
          -0.688466882956261,
          -0.47590073768829544,
          -0.12242332184813469,
          -0.6832347690749995,
          -0.5943221097473967,
          -0.6003886997173526,
          -0.2904345873620696,
          0.3151569969679211,
          -0.5364924048523572,
          -0.5099965091650097,
          -0.558042877830019,
          -0.5762068113434398,
          -0.12077740735417619,
          -0.4972950663671526,
          -0.13466657071999086,
          3.431728088060885,
          1.1330485133351282,
          -0.33085292306907543,
          -0.5407287788609129,
          1.4012353056314364,
          1.4324744043628042,
          -0.6956367219882638,
          0.728253377782868,
          -0.7137033852827569,
          1.2692063418928898,
          0.1602157771867266,
          2.3672719251679255,
          1.6790211326903328,
          1.672862391986656,
          1.095415177580575,
          2.886264857483748,
          2.779349528426736,
          0.5832618775009218,
          0.8035379674901985,
          -0.1574047642656104,
          1.2555321969057571,
          -0.24501707435070777,
          -0.37526445723731805,
          -0.43427676321510855,
          -0.4930023780213231,
          0.386113061932975,
          0.8254391252045202,
          -0.27156160514751904,
          -0.4478613172111237,
          -0.45509770955081374,
          -0.3291020591283793,
          0.08326735478721417,
          0.05586275047567496,
          0.3275231134847384,
          -0.20912948305164372,
          -0.1852086884232733,
          -0.23044957919500353,
          -0.019081393465409015,
          0.12278978058304506,
          -0.5464907594610693,
          -0.21957323287333996,
          -0.0840297425403842,
          -0.49717987795000157,
          -0.24693176181801874,
          -0.20210554934803232,
          0.08110693202998093,
          -0.5354301116719641,
          -0.7327197130830955,
          -0.4435020755576069,
          -0.4620397314911177,
          -0.4231342036626959,
          -0.4369644929486333,
          -0.6907424941306453,
          -0.6149101195061965,
          -0.49790684484935493,
          -0.5590974917826022,
          -0.29521618654514037,
          -0.22141624754775693,
          0.058681027081970934,
          -0.3354655792403246,
          -0.5172508197029232,
          -0.4622061147603359,
          -0.462464648763275,
          -0.6521671730980565,
          -0.3536807076058125,
          -0.45088437322568825,
          0.03817748882908198,
          -0.7373579666803782,
          -0.5711206027905696,
          -0.13998571584976652,
          0.11769845254496814,
          -0.3928217317537432,
          -0.394577715179646,
          -0.26508545636102604,
          -0.7373579666803782,
          0.16626444895845902,
          -0.6112676057816195,
          -0.7373579666803782,
          -0.4293441392184397,
          0.9634322892088886,
          0.623360245382508,
          1.6064524298851641,
          2.882025923732589,
          -0.6449666171548135,
          1.0143916449565182,
          1.8263522377117472,
          -0.17967708465741897,
          0.12443569507700356,
          0.587587842500595,
          -0.47903898212001106,
          0.4229912736195382,
          -0.7373579666803782,
          -0.7054123789904838,
          -0.6769429217559482,
          -0.6778055550132794,
          -0.7209756140188939,
          -0.7373579666803782,
          -0.5745839345329116,
          -0.349654232490732,
          -0.6949993460800279,
          -0.2554019500925268,
          -0.5652792701697091,
          -0.3172222937061998,
          -0.6832757249566531,
          -0.7262896396634629,
          -0.5925917237475274,
          -0.7048441161325386,
          -0.41803519639680886,
          -0.2823227630520316,
          -0.1393099438024803,
          -0.700364566576664,
          -0.01619144406621905,
          -0.142821910654286,
          -0.4639723371566522,
          -0.6207642508400738,
          -0.693530053825701,
          -0.6355877202561137,
          -0.5152823776409418,
          -0.599917707078335,
          -0.7373579666803782,
          -0.6793695577439305
         ],
         "xaxis": "x",
         "y": [
          0,
          0,
          0,
          0,
          0,
          0,
          0,
          0,
          0,
          0,
          0,
          0,
          0,
          0,
          0,
          0,
          0,
          0,
          0,
          0,
          0,
          0,
          0,
          0,
          0,
          0,
          0,
          0,
          0,
          0,
          0,
          0,
          0,
          0,
          0,
          0,
          0,
          0,
          0,
          0,
          0,
          0,
          0,
          0,
          0,
          0,
          0,
          0,
          0,
          0,
          0,
          0,
          0,
          0,
          0,
          0,
          0,
          0,
          0,
          0,
          0,
          0,
          0,
          0,
          0,
          0,
          0,
          0,
          0,
          0,
          0,
          0,
          0,
          0,
          0,
          0,
          0,
          0,
          0,
          0,
          0,
          0,
          0,
          0,
          0,
          0,
          0,
          0,
          0,
          0,
          0,
          0,
          0,
          0,
          0,
          0,
          0,
          0,
          0,
          0,
          0,
          0,
          0,
          0,
          0,
          0,
          0,
          0,
          0,
          0,
          0,
          0,
          0,
          0,
          0,
          0,
          0,
          0,
          0,
          0,
          0,
          0,
          0,
          0,
          0,
          0,
          0,
          0,
          0,
          0,
          0,
          0,
          0,
          0,
          0,
          0,
          0,
          0,
          0,
          0,
          0,
          0,
          0,
          0,
          0,
          0,
          0,
          0,
          0,
          0,
          0,
          0,
          0,
          0,
          0,
          0,
          0,
          0,
          0,
          0,
          0,
          0,
          0,
          0,
          0,
          0,
          0,
          0,
          0,
          0,
          0,
          0,
          0,
          0,
          0,
          0,
          0,
          0,
          0,
          0,
          0,
          0,
          0,
          0,
          0,
          0,
          0,
          0,
          0,
          0,
          0,
          0,
          0,
          0,
          0,
          0,
          0,
          0,
          0,
          0,
          0,
          0,
          0,
          0,
          0,
          0,
          0,
          0,
          0,
          0,
          0,
          0,
          0,
          0,
          0,
          0,
          0,
          0,
          0,
          0,
          0,
          0,
          0,
          0,
          0,
          0,
          0,
          0,
          0,
          0,
          0,
          0,
          0,
          0,
          0,
          0,
          0,
          0,
          0,
          0,
          0,
          0,
          0,
          0,
          0,
          0,
          0,
          0,
          0,
          0,
          0,
          0,
          0,
          0,
          0,
          0,
          0,
          0,
          0,
          0,
          0,
          0,
          0,
          0,
          0,
          0,
          0,
          0,
          0,
          0,
          0,
          0,
          0,
          0,
          0,
          0,
          0,
          0,
          0,
          0,
          0,
          0,
          0,
          0,
          0,
          0,
          0,
          0,
          0,
          0,
          0,
          0,
          0,
          0,
          0,
          0,
          0,
          0,
          0,
          0,
          0,
          0,
          0,
          0,
          0,
          0,
          0,
          0
         ],
         "yaxis": "y"
        }
       ],
       "layout": {
        "coloraxis": {
         "colorbar": {
          "title": {
           "text": "Despesas em bibliotecas e arquivos"
          }
         },
         "colorscale": [
          [
           0,
           "#440154"
          ],
          [
           0.1111111111111111,
           "#482878"
          ],
          [
           0.2222222222222222,
           "#3e4989"
          ],
          [
           0.3333333333333333,
           "#31688e"
          ],
          [
           0.4444444444444444,
           "#26828e"
          ],
          [
           0.5555555555555556,
           "#1f9e89"
          ],
          [
           0.6666666666666666,
           "#35b779"
          ],
          [
           0.7777777777777778,
           "#6ece58"
          ],
          [
           0.8888888888888888,
           "#b5de2b"
          ],
          [
           1,
           "#fde725"
          ]
         ]
        },
        "height": 300,
        "legend": {
         "tracegroupgap": 0
        },
        "margin": {
         "t": 60
        },
        "template": {
         "data": {
          "bar": [
           {
            "error_x": {
             "color": "#2a3f5f"
            },
            "error_y": {
             "color": "#2a3f5f"
            },
            "marker": {
             "line": {
              "color": "#E5ECF6",
              "width": 0.5
             },
             "pattern": {
              "fillmode": "overlay",
              "size": 10,
              "solidity": 0.2
             }
            },
            "type": "bar"
           }
          ],
          "barpolar": [
           {
            "marker": {
             "line": {
              "color": "#E5ECF6",
              "width": 0.5
             },
             "pattern": {
              "fillmode": "overlay",
              "size": 10,
              "solidity": 0.2
             }
            },
            "type": "barpolar"
           }
          ],
          "carpet": [
           {
            "aaxis": {
             "endlinecolor": "#2a3f5f",
             "gridcolor": "white",
             "linecolor": "white",
             "minorgridcolor": "white",
             "startlinecolor": "#2a3f5f"
            },
            "baxis": {
             "endlinecolor": "#2a3f5f",
             "gridcolor": "white",
             "linecolor": "white",
             "minorgridcolor": "white",
             "startlinecolor": "#2a3f5f"
            },
            "type": "carpet"
           }
          ],
          "choropleth": [
           {
            "colorbar": {
             "outlinewidth": 0,
             "ticks": ""
            },
            "type": "choropleth"
           }
          ],
          "contour": [
           {
            "colorbar": {
             "outlinewidth": 0,
             "ticks": ""
            },
            "colorscale": [
             [
              0,
              "#0d0887"
             ],
             [
              0.1111111111111111,
              "#46039f"
             ],
             [
              0.2222222222222222,
              "#7201a8"
             ],
             [
              0.3333333333333333,
              "#9c179e"
             ],
             [
              0.4444444444444444,
              "#bd3786"
             ],
             [
              0.5555555555555556,
              "#d8576b"
             ],
             [
              0.6666666666666666,
              "#ed7953"
             ],
             [
              0.7777777777777778,
              "#fb9f3a"
             ],
             [
              0.8888888888888888,
              "#fdca26"
             ],
             [
              1,
              "#f0f921"
             ]
            ],
            "type": "contour"
           }
          ],
          "contourcarpet": [
           {
            "colorbar": {
             "outlinewidth": 0,
             "ticks": ""
            },
            "type": "contourcarpet"
           }
          ],
          "heatmap": [
           {
            "colorbar": {
             "outlinewidth": 0,
             "ticks": ""
            },
            "colorscale": [
             [
              0,
              "#0d0887"
             ],
             [
              0.1111111111111111,
              "#46039f"
             ],
             [
              0.2222222222222222,
              "#7201a8"
             ],
             [
              0.3333333333333333,
              "#9c179e"
             ],
             [
              0.4444444444444444,
              "#bd3786"
             ],
             [
              0.5555555555555556,
              "#d8576b"
             ],
             [
              0.6666666666666666,
              "#ed7953"
             ],
             [
              0.7777777777777778,
              "#fb9f3a"
             ],
             [
              0.8888888888888888,
              "#fdca26"
             ],
             [
              1,
              "#f0f921"
             ]
            ],
            "type": "heatmap"
           }
          ],
          "heatmapgl": [
           {
            "colorbar": {
             "outlinewidth": 0,
             "ticks": ""
            },
            "colorscale": [
             [
              0,
              "#0d0887"
             ],
             [
              0.1111111111111111,
              "#46039f"
             ],
             [
              0.2222222222222222,
              "#7201a8"
             ],
             [
              0.3333333333333333,
              "#9c179e"
             ],
             [
              0.4444444444444444,
              "#bd3786"
             ],
             [
              0.5555555555555556,
              "#d8576b"
             ],
             [
              0.6666666666666666,
              "#ed7953"
             ],
             [
              0.7777777777777778,
              "#fb9f3a"
             ],
             [
              0.8888888888888888,
              "#fdca26"
             ],
             [
              1,
              "#f0f921"
             ]
            ],
            "type": "heatmapgl"
           }
          ],
          "histogram": [
           {
            "marker": {
             "pattern": {
              "fillmode": "overlay",
              "size": 10,
              "solidity": 0.2
             }
            },
            "type": "histogram"
           }
          ],
          "histogram2d": [
           {
            "colorbar": {
             "outlinewidth": 0,
             "ticks": ""
            },
            "colorscale": [
             [
              0,
              "#0d0887"
             ],
             [
              0.1111111111111111,
              "#46039f"
             ],
             [
              0.2222222222222222,
              "#7201a8"
             ],
             [
              0.3333333333333333,
              "#9c179e"
             ],
             [
              0.4444444444444444,
              "#bd3786"
             ],
             [
              0.5555555555555556,
              "#d8576b"
             ],
             [
              0.6666666666666666,
              "#ed7953"
             ],
             [
              0.7777777777777778,
              "#fb9f3a"
             ],
             [
              0.8888888888888888,
              "#fdca26"
             ],
             [
              1,
              "#f0f921"
             ]
            ],
            "type": "histogram2d"
           }
          ],
          "histogram2dcontour": [
           {
            "colorbar": {
             "outlinewidth": 0,
             "ticks": ""
            },
            "colorscale": [
             [
              0,
              "#0d0887"
             ],
             [
              0.1111111111111111,
              "#46039f"
             ],
             [
              0.2222222222222222,
              "#7201a8"
             ],
             [
              0.3333333333333333,
              "#9c179e"
             ],
             [
              0.4444444444444444,
              "#bd3786"
             ],
             [
              0.5555555555555556,
              "#d8576b"
             ],
             [
              0.6666666666666666,
              "#ed7953"
             ],
             [
              0.7777777777777778,
              "#fb9f3a"
             ],
             [
              0.8888888888888888,
              "#fdca26"
             ],
             [
              1,
              "#f0f921"
             ]
            ],
            "type": "histogram2dcontour"
           }
          ],
          "mesh3d": [
           {
            "colorbar": {
             "outlinewidth": 0,
             "ticks": ""
            },
            "type": "mesh3d"
           }
          ],
          "parcoords": [
           {
            "line": {
             "colorbar": {
              "outlinewidth": 0,
              "ticks": ""
             }
            },
            "type": "parcoords"
           }
          ],
          "pie": [
           {
            "automargin": true,
            "type": "pie"
           }
          ],
          "scatter": [
           {
            "fillpattern": {
             "fillmode": "overlay",
             "size": 10,
             "solidity": 0.2
            },
            "type": "scatter"
           }
          ],
          "scatter3d": [
           {
            "line": {
             "colorbar": {
              "outlinewidth": 0,
              "ticks": ""
             }
            },
            "marker": {
             "colorbar": {
              "outlinewidth": 0,
              "ticks": ""
             }
            },
            "type": "scatter3d"
           }
          ],
          "scattercarpet": [
           {
            "marker": {
             "colorbar": {
              "outlinewidth": 0,
              "ticks": ""
             }
            },
            "type": "scattercarpet"
           }
          ],
          "scattergeo": [
           {
            "marker": {
             "colorbar": {
              "outlinewidth": 0,
              "ticks": ""
             }
            },
            "type": "scattergeo"
           }
          ],
          "scattergl": [
           {
            "marker": {
             "colorbar": {
              "outlinewidth": 0,
              "ticks": ""
             }
            },
            "type": "scattergl"
           }
          ],
          "scattermapbox": [
           {
            "marker": {
             "colorbar": {
              "outlinewidth": 0,
              "ticks": ""
             }
            },
            "type": "scattermapbox"
           }
          ],
          "scatterpolar": [
           {
            "marker": {
             "colorbar": {
              "outlinewidth": 0,
              "ticks": ""
             }
            },
            "type": "scatterpolar"
           }
          ],
          "scatterpolargl": [
           {
            "marker": {
             "colorbar": {
              "outlinewidth": 0,
              "ticks": ""
             }
            },
            "type": "scatterpolargl"
           }
          ],
          "scatterternary": [
           {
            "marker": {
             "colorbar": {
              "outlinewidth": 0,
              "ticks": ""
             }
            },
            "type": "scatterternary"
           }
          ],
          "surface": [
           {
            "colorbar": {
             "outlinewidth": 0,
             "ticks": ""
            },
            "colorscale": [
             [
              0,
              "#0d0887"
             ],
             [
              0.1111111111111111,
              "#46039f"
             ],
             [
              0.2222222222222222,
              "#7201a8"
             ],
             [
              0.3333333333333333,
              "#9c179e"
             ],
             [
              0.4444444444444444,
              "#bd3786"
             ],
             [
              0.5555555555555556,
              "#d8576b"
             ],
             [
              0.6666666666666666,
              "#ed7953"
             ],
             [
              0.7777777777777778,
              "#fb9f3a"
             ],
             [
              0.8888888888888888,
              "#fdca26"
             ],
             [
              1,
              "#f0f921"
             ]
            ],
            "type": "surface"
           }
          ],
          "table": [
           {
            "cells": {
             "fill": {
              "color": "#EBF0F8"
             },
             "line": {
              "color": "white"
             }
            },
            "header": {
             "fill": {
              "color": "#C8D4E3"
             },
             "line": {
              "color": "white"
             }
            },
            "type": "table"
           }
          ]
         },
         "layout": {
          "annotationdefaults": {
           "arrowcolor": "#2a3f5f",
           "arrowhead": 0,
           "arrowwidth": 1
          },
          "autotypenumbers": "strict",
          "coloraxis": {
           "colorbar": {
            "outlinewidth": 0,
            "ticks": ""
           }
          },
          "colorscale": {
           "diverging": [
            [
             0,
             "#8e0152"
            ],
            [
             0.1,
             "#c51b7d"
            ],
            [
             0.2,
             "#de77ae"
            ],
            [
             0.3,
             "#f1b6da"
            ],
            [
             0.4,
             "#fde0ef"
            ],
            [
             0.5,
             "#f7f7f7"
            ],
            [
             0.6,
             "#e6f5d0"
            ],
            [
             0.7,
             "#b8e186"
            ],
            [
             0.8,
             "#7fbc41"
            ],
            [
             0.9,
             "#4d9221"
            ],
            [
             1,
             "#276419"
            ]
           ],
           "sequential": [
            [
             0,
             "#0d0887"
            ],
            [
             0.1111111111111111,
             "#46039f"
            ],
            [
             0.2222222222222222,
             "#7201a8"
            ],
            [
             0.3333333333333333,
             "#9c179e"
            ],
            [
             0.4444444444444444,
             "#bd3786"
            ],
            [
             0.5555555555555556,
             "#d8576b"
            ],
            [
             0.6666666666666666,
             "#ed7953"
            ],
            [
             0.7777777777777778,
             "#fb9f3a"
            ],
            [
             0.8888888888888888,
             "#fdca26"
            ],
            [
             1,
             "#f0f921"
            ]
           ],
           "sequentialminus": [
            [
             0,
             "#0d0887"
            ],
            [
             0.1111111111111111,
             "#46039f"
            ],
            [
             0.2222222222222222,
             "#7201a8"
            ],
            [
             0.3333333333333333,
             "#9c179e"
            ],
            [
             0.4444444444444444,
             "#bd3786"
            ],
            [
             0.5555555555555556,
             "#d8576b"
            ],
            [
             0.6666666666666666,
             "#ed7953"
            ],
            [
             0.7777777777777778,
             "#fb9f3a"
            ],
            [
             0.8888888888888888,
             "#fdca26"
            ],
            [
             1,
             "#f0f921"
            ]
           ]
          },
          "colorway": [
           "#636efa",
           "#EF553B",
           "#00cc96",
           "#ab63fa",
           "#FFA15A",
           "#19d3f3",
           "#FF6692",
           "#B6E880",
           "#FF97FF",
           "#FECB52"
          ],
          "font": {
           "color": "#2a3f5f"
          },
          "geo": {
           "bgcolor": "white",
           "lakecolor": "white",
           "landcolor": "#E5ECF6",
           "showlakes": true,
           "showland": true,
           "subunitcolor": "white"
          },
          "hoverlabel": {
           "align": "left"
          },
          "hovermode": "closest",
          "mapbox": {
           "style": "light"
          },
          "paper_bgcolor": "white",
          "plot_bgcolor": "#E5ECF6",
          "polar": {
           "angularaxis": {
            "gridcolor": "white",
            "linecolor": "white",
            "ticks": ""
           },
           "bgcolor": "#E5ECF6",
           "radialaxis": {
            "gridcolor": "white",
            "linecolor": "white",
            "ticks": ""
           }
          },
          "scene": {
           "xaxis": {
            "backgroundcolor": "#E5ECF6",
            "gridcolor": "white",
            "gridwidth": 2,
            "linecolor": "white",
            "showbackground": true,
            "ticks": "",
            "zerolinecolor": "white"
           },
           "yaxis": {
            "backgroundcolor": "#E5ECF6",
            "gridcolor": "white",
            "gridwidth": 2,
            "linecolor": "white",
            "showbackground": true,
            "ticks": "",
            "zerolinecolor": "white"
           },
           "zaxis": {
            "backgroundcolor": "#E5ECF6",
            "gridcolor": "white",
            "gridwidth": 2,
            "linecolor": "white",
            "showbackground": true,
            "ticks": "",
            "zerolinecolor": "white"
           }
          },
          "shapedefaults": {
           "line": {
            "color": "#2a3f5f"
           }
          },
          "ternary": {
           "aaxis": {
            "gridcolor": "white",
            "linecolor": "white",
            "ticks": ""
           },
           "baxis": {
            "gridcolor": "white",
            "linecolor": "white",
            "ticks": ""
           },
           "bgcolor": "#E5ECF6",
           "caxis": {
            "gridcolor": "white",
            "linecolor": "white",
            "ticks": ""
           }
          },
          "title": {
           "x": 0.05
          },
          "xaxis": {
           "automargin": true,
           "gridcolor": "white",
           "linecolor": "white",
           "ticks": "",
           "title": {
            "standoff": 15
           },
           "zerolinecolor": "white",
           "zerolinewidth": 2
          },
          "yaxis": {
           "automargin": true,
           "gridcolor": "white",
           "linecolor": "white",
           "ticks": "",
           "title": {
            "standoff": 15
           },
           "zerolinecolor": "white",
           "zerolinewidth": 2
          }
         }
        },
        "xaxis": {
         "anchor": "y",
         "domain": [
          0,
          1
         ],
         "title": {
          "text": "Despesas em bibliotecas e arquivos"
         }
        },
        "yaxis": {
         "anchor": "x",
         "domain": [
          0,
          1
         ],
         "showgrid": false,
         "showticklabels": false,
         "title": {
          "text": "y"
         }
        }
       }
      }
     },
     "metadata": {},
     "output_type": "display_data"
    },
    {
     "name": "stdout",
     "output_type": "stream",
     "text": [
      "Despesas em bibliotecas e arquivos\n",
      "0    271\n",
      "1     36\n",
      "2      1\n",
      "Name: count, dtype: int64\n",
      "File saved to csv_files/8_Despesas em bibliotecas e arquivos.csv\n"
     ]
    }
   ],
   "source": [
    "clustered_df = aplicar_kmeans(df_despesas_bibliotecas_arquivos, 3, nome_cluster='Despesas em bibliotecas e arquivos')\n",
    "save_clustered_df_to_csv(clustered_df, \"csv_files/\", \"8_Despesas em bibliotecas e arquivos.csv\")"
   ]
  },
  {
   "cell_type": "code",
   "execution_count": null,
   "id": "2d1a7973-c81d-48d4-a3fc-c0a98a827936",
   "metadata": {},
   "outputs": [],
   "source": []
  }
 ],
 "metadata": {
  "kernelspec": {
   "display_name": "base",
   "language": "python",
   "name": "python3"
  },
  "language_info": {
   "codemirror_mode": {
    "name": "ipython",
    "version": 3
   },
   "file_extension": ".py",
   "mimetype": "text/x-python",
   "name": "python",
   "nbconvert_exporter": "python",
   "pygments_lexer": "ipython3",
   "version": "3.11.5"
  }
 },
 "nbformat": 4,
 "nbformat_minor": 5
}
