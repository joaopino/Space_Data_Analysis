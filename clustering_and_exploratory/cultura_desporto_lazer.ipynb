{
 "cells": [
  {
   "cell_type": "markdown",
   "id": "27b50d18",
   "metadata": {},
   "source": [
    "# Análise da Cultura Desporto e Lazer"
   ]
  },
  {
   "cell_type": "code",
   "execution_count": 3,
   "id": "b6ecba96",
   "metadata": {},
   "outputs": [],
   "source": [
    "import pandas as pd\n",
    "import os\n",
    "import pandas as pd\n",
    "from sklearn.preprocessing import StandardScaler\n",
    "from sklearn.cluster import KMeans\n",
    "import plotly.express as px\n",
    "import numpy as np\n",
    "import matplotlib.pyplot as plt\n"
   ]
  },
  {
   "cell_type": "markdown",
   "id": "26641294",
   "metadata": {},
   "source": [
    "### Funções:"
   ]
  },
  {
   "cell_type": "code",
   "execution_count": 1,
   "id": "e2c93aa7",
   "metadata": {},
   "outputs": [],
   "source": [
    "def processar_ficheiro(caminho_ficheiro, header=4, pasta_saida='.'):\n",
    "    nome_base = os.path.splitext(os.path.basename(caminho_ficheiro))[0]\n",
    "    \n",
    "    df = pd.read_excel(caminho_ficheiro, header=header)\n",
    "    \n",
    "    df.columns = df.columns.map(str).str.strip()\n",
    "\n",
    "    if len(df.columns) >= 2:\n",
    "        df.columns.values[0] = 'local'\n",
    "        df.columns.values[1] = 'codigo'\n",
    "\n",
    "    df = df.loc[:, ~df.columns.str.startswith('Unnamed')]\n",
    "    df = df[~df.iloc[:, 1:].isna().all(axis=1)]\n",
    "    df = df.fillna(0)\n",
    "\n",
    "    nome_base = os.path.splitext(os.path.basename(caminho_ficheiro))[0]\n",
    "    caminho_csv = os.path.join(pasta_saida, f'{nome_base}.csv')\n",
    "    df.to_csv(caminho_csv, index=False)\n",
    "\n",
    "    return df\n"
   ]
  },
  {
   "cell_type": "code",
   "execution_count": 2,
   "id": "a8f7a4c9",
   "metadata": {},
   "outputs": [],
   "source": [
    "def carregar_municipios(df):\n",
    "    df['codigo'] = df['codigo'].astype(str)\n",
    "    df_municipios = df[df['codigo'].astype(str).apply(lambda x: len(x) >= 7)].copy()\n",
    "    return df_municipios"
   ]
  },
  {
   "cell_type": "code",
   "execution_count": 4,
   "id": "869d6db9",
   "metadata": {},
   "outputs": [],
   "source": [
    "def aplicar_kmeans(df, n_clusters=3, nome_cluster='cluster'):\n",
    "    dados_numericos = df.drop(columns=['local', 'codigo'])\n",
    "    scaler = StandardScaler()\n",
    "    dados_escalados = scaler.fit_transform(dados_numericos)\n",
    "\n",
    "    kmeans = KMeans(n_clusters=n_clusters, random_state=42, n_init='auto')\n",
    "    labels = kmeans.fit_predict(dados_escalados)\n",
    "\n",
    "    # Ordena os clusters\n",
    "    centroides = kmeans.cluster_centers_\n",
    "    ordem = np.argsort(centroides[:, 0])\n",
    "    novo_mapeamento = {old: new for new, old in enumerate(ordem)}\n",
    "    labels_ordenados = np.vectorize(novo_mapeamento.get)(labels)\n",
    "\n",
    "    df[nome_cluster] = labels_ordenados\n",
    "\n",
    "    coluna = dados_numericos.columns[0]\n",
    "    df_plot = df.copy()\n",
    "    df_plot['valor'] = dados_escalados[:, 0]\n",
    "    df_plot['y'] = 0 \n",
    "\n",
    "    fig = px.scatter(\n",
    "        df_plot, \n",
    "        x='valor', \n",
    "        y='y', \n",
    "        color=nome_cluster,\n",
    "        hover_data=['local', 'codigo', coluna],\n",
    "        color_continuous_scale='viridis',\n",
    "    )\n",
    "    fig.update_traces(marker=dict(size=10))\n",
    "    fig.update_layout(\n",
    "        xaxis_title=coluna,\n",
    "        yaxis=dict(showticklabels=False, showgrid=False),\n",
    "        height=300\n",
    "    )\n",
    "    fig.show()\n",
    "\n",
    "    print(df[nome_cluster].value_counts().sort_index())\n",
    "    return df\n",
    "\n"
   ]
  },
  {
   "cell_type": "code",
   "execution_count": 5,
   "id": "7c7e2586",
   "metadata": {},
   "outputs": [],
   "source": [
    "def elbow_rule(df, max_k=10):\n",
    "    X = df.drop(columns=['local', 'codigo'])\n",
    "    inertias = []\n",
    "    ks = range(1, max_k + 1)\n",
    "\n",
    "    for k in ks:\n",
    "        kmeans = KMeans(n_clusters=k, random_state=42, n_init='auto')\n",
    "        kmeans.fit(X)\n",
    "        inertias.append(kmeans.inertia_)\n",
    "\n",
    "    plt.figure(figsize=(8, 5))\n",
    "    plt.plot(ks, inertias, marker='o')\n",
    "    plt.xlabel('Número de clusters (k)')\n",
    "    plt.ylabel('Inércia')\n",
    "    plt.title('Regra do Cotovelo (Elbow Method)')\n",
    "    plt.grid(True)\n",
    "    plt.xticks(ks)\n",
    "    plt.show()\n",
    "def elbow_rule(df, max_k=10):\n",
    "    X = df.drop(columns=['local', 'codigo'])\n",
    "    inertias = []\n",
    "    ks = range(1, max_k + 1)\n",
    "\n",
    "    for k in ks:\n",
    "        kmeans = KMeans(n_clusters=k, random_state=42, n_init='auto')\n",
    "        kmeans.fit(X)\n",
    "        inertias.append(kmeans.inertia_)\n",
    "\n",
    "    plt.figure(figsize=(8, 5))\n",
    "    plt.plot(ks, inertias, marker='o')\n",
    "    plt.xlabel('Número de clusters (k)')\n",
    "    plt.ylabel('Inércia')\n",
    "    plt.title('Regra do Cotovelo (Elbow Method)')\n",
    "    plt.grid(True)\n",
    "    plt.xticks(ks)\n",
    "    plt.show()"
   ]
  },
  {
   "cell_type": "markdown",
   "id": "4ad17dd0",
   "metadata": {},
   "source": [
    "### Análise da Bens Imóveis e Culturais"
   ]
  },
  {
   "cell_type": "code",
   "execution_count": 6,
   "id": "6e0c99cf",
   "metadata": {},
   "outputs": [
    {
     "data": {
      "application/vnd.plotly.v1+json": {
       "config": {
        "plotlyServerURL": "https://plot.ly"
       },
       "data": [
        {
         "customdata": [
          [
           "Arcos de Valdevez",
           "1111601",
           29
          ],
          [
           "Caminha",
           "1111602",
           20
          ],
          [
           "Melgaço",
           "1111603",
           23
          ],
          [
           "Monção",
           "1111604",
           13
          ],
          [
           "Paredes de Coura",
           "1111605",
           9
          ],
          [
           "Ponte da Barca",
           "1111606",
           11
          ],
          [
           "Ponte de Lima",
           "1111607",
           51
          ],
          [
           "Valença",
           "1111608",
           9
          ],
          [
           "Viana do Castelo",
           "1111609",
           38
          ],
          [
           "Vila Nova de Cerveira",
           "1111610",
           8
          ],
          [
           "Amares",
           "1120301",
           15
          ],
          [
           "Barcelos",
           "1120302",
           23
          ],
          [
           "Braga",
           "1120303",
           81
          ],
          [
           "Esposende",
           "1120306",
           10
          ],
          [
           "Terras de Bouro",
           "1120310",
           7
          ],
          [
           "Vila Verde",
           "1120313",
           13
          ],
          [
           "Cabeceiras de Basto",
           "1190304",
           12
          ],
          [
           "Fafe",
           "1190307",
           9
          ],
          [
           "Guimarães",
           "1190308",
           54
          ],
          [
           "Mondim de Basto",
           "1191705",
           6
          ],
          [
           "Póvoa de Lanhoso",
           "1190309",
           14
          ],
          [
           "Vieira do Minho",
           "1190311",
           10
          ],
          [
           "Vila Nova de Famalicão",
           "1190312",
           16
          ],
          [
           "Vizela",
           "1190314",
           6
          ],
          [
           "Arouca",
           "11A0104",
           13
          ],
          [
           "Espinho",
           "11A0107",
           1
          ],
          [
           "Gondomar",
           "11A1304",
           6
          ],
          [
           "Maia",
           "11A1306",
           3
          ],
          [
           "Matosinhos",
           "11A1308",
           32
          ],
          [
           "Oliveira de Azeméis",
           "11A0113",
           11
          ],
          [
           "Paredes",
           "11A1310",
           13
          ],
          [
           "Porto",
           "11A1312",
           131
          ],
          [
           "Póvoa de Varzim",
           "11A1313",
           13
          ],
          [
           "Santa Maria da Feira",
           "11A0109",
           15
          ],
          [
           "Santo Tirso",
           "11A1314",
           12
          ],
          [
           "São João da Madeira",
           "11A0116",
           1
          ],
          [
           "Trofa",
           "11A1318",
           3
          ],
          [
           "Vale de Cambra",
           "11A0119",
           3
          ],
          [
           "Valongo",
           "11A1315",
           3
          ],
          [
           "Vila do Conde",
           "11A1316",
           24
          ],
          [
           "Vila Nova de Gaia",
           "11A1317",
           24
          ],
          [
           "Boticas",
           "11B1702",
           11
          ],
          [
           "Chaves",
           "11B1703",
           24
          ],
          [
           "Montalegre",
           "11B1706",
           12
          ],
          [
           "Ribeira de Pena",
           "11B1709",
           5
          ],
          [
           "Valpaços",
           "11B1712",
           17
          ],
          [
           "Vila Pouca de Aguiar",
           "11B1713",
           18
          ],
          [
           "Amarante",
           "11C1301",
           25
          ],
          [
           "Baião",
           "11C1302",
           11
          ],
          [
           "Castelo de Paiva",
           "11C0106",
           10
          ],
          [
           "Celorico de Basto",
           "11C0305",
           6
          ],
          [
           "Cinfães",
           "11C1804",
           9
          ],
          [
           "Felgueiras",
           "11C1303",
           14
          ],
          [
           "Lousada",
           "11C1305",
           5
          ],
          [
           "Marco de Canaveses",
           "11C1307",
           24
          ],
          [
           "Paços de Ferreira",
           "11C1309",
           5
          ],
          [
           "Penafiel",
           "11C1311",
           23
          ],
          [
           "Resende",
           "11C1813",
           14
          ],
          [
           "Alijó",
           "11D1701",
           15
          ],
          [
           "Armamar",
           "11D1801",
           12
          ],
          [
           "Carrazeda de Ansiães",
           "11D0403",
           15
          ],
          [
           "Freixo de Espada à Cinta",
           "11D0404",
           11
          ],
          [
           "Lamego",
           "11D1805",
           33
          ],
          [
           "Mesão Frio",
           "11D1704",
           11
          ],
          [
           "Moimenta da Beira",
           "11D1807",
           12
          ],
          [
           "Murça",
           "11D1707",
           5
          ],
          [
           "Penedono",
           "11D1812",
           4
          ],
          [
           "Peso da Régua",
           "11D1708",
           29
          ],
          [
           "Sabrosa",
           "11D1710",
           26
          ],
          [
           "Santa Marta de Penaguião",
           "11D1711",
           14
          ],
          [
           "São João da Pesqueira",
           "11D1815",
           7
          ],
          [
           "Sernancelhe",
           "11D1818",
           19
          ],
          [
           "Tabuaço",
           "11D1819",
           21
          ],
          [
           "Tarouca",
           "11D1820",
           12
          ],
          [
           "Torre de Moncorvo",
           "11D0409",
           19
          ],
          [
           "Vila Nova de Foz Côa",
           "11D0914",
           22
          ],
          [
           "Vila Real",
           "11D1714",
           43
          ],
          [
           "Alfândega da Fé",
           "11E0401",
           2
          ],
          [
           "Bragança",
           "11E0402",
           30
          ],
          [
           "Macedo de Cavaleiros",
           "11E0405",
           9
          ],
          [
           "Miranda do Douro",
           "11E0406",
           10
          ],
          [
           "Mirandela",
           "11E0407",
           17
          ],
          [
           "Mogadouro",
           "11E0408",
           16
          ],
          [
           "Vila Flor",
           "11E0410",
           9
          ],
          [
           "Vimioso",
           "11E0411",
           6
          ],
          [
           "Vinhais",
           "11E0412",
           11
          ],
          [
           "Alcobaça",
           "16B1001",
           22
          ],
          [
           "Alenquer",
           "16B1101",
           24
          ],
          [
           "Arruda dos Vinhos",
           "16B1102",
           3
          ],
          [
           "Bombarral",
           "16B1005",
           9
          ],
          [
           "Cadaval",
           "16B1104",
           5
          ],
          [
           "Caldas da Rainha",
           "16B1006",
           13
          ],
          [
           "Lourinhã",
           "16B1108",
           6
          ],
          [
           "Nazaré",
           "16B1011",
           13
          ],
          [
           "Óbidos",
           "16B1012",
           9
          ],
          [
           "Peniche",
           "16B1014",
           16
          ],
          [
           "Sobral de Monte Agraço",
           "16B1112",
           3
          ],
          [
           "Torres Vedras",
           "16B1113",
           33
          ],
          [
           "Águeda",
           "16D0101",
           12
          ],
          [
           "Albergaria-a-Velha",
           "16D0102",
           8
          ],
          [
           "Anadia",
           "16D0103",
           9
          ],
          [
           "Aveiro",
           "16D0105",
           22
          ],
          [
           "Estarreja",
           "16D0108",
           4
          ],
          [
           "Ílhavo",
           "16D0110",
           5
          ],
          [
           "Murtosa",
           "16D0112",
           3
          ],
          [
           "Oliveira do Bairro",
           "16D0114",
           0
          ],
          [
           "Ovar",
           "16D0115",
           8
          ],
          [
           "Sever do Vouga",
           "16D0117",
           7
          ],
          [
           "Vagos",
           "16D0118",
           0
          ],
          [
           "Arganil",
           "16E0601",
           12
          ],
          [
           "Cantanhede",
           "16E0602",
           7
          ],
          [
           "Coimbra",
           "16E0603",
           62
          ],
          [
           "Condeixa-a-Nova",
           "16E0604",
           12
          ],
          [
           "Figueira da Foz",
           "16E0605",
           47
          ],
          [
           "Góis",
           "16E0606",
           8
          ],
          [
           "Lousã",
           "16E0607",
           17
          ],
          [
           "Mealhada",
           "16E0111",
           2
          ],
          [
           "Mira",
           "16E0608",
           2
          ],
          [
           "Miranda do Corvo",
           "16E0609",
           3
          ],
          [
           "Montemor-o-Velho",
           "16E0610",
           23
          ],
          [
           "Mortágua",
           "16E1808",
           1
          ],
          [
           "Oliveira do Hospital",
           "16E0611",
           23
          ],
          [
           "Pampilhosa da Serra",
           "16E0612",
           0
          ],
          [
           "Penacova",
           "16E0613",
           5
          ],
          [
           "Penela",
           "16E0614",
           7
          ],
          [
           "Soure",
           "16E0615",
           4
          ],
          [
           "Tábua",
           "16E0616",
           10
          ],
          [
           "Vila Nova de Poiares",
           "16E0617",
           1
          ],
          [
           "Alvaiázere",
           "16F1002",
           3
          ],
          [
           "Ansião",
           "16F1003",
           5
          ],
          [
           "Batalha",
           "16F1004",
           16
          ],
          [
           "Castanheira de Pêra",
           "16F1007",
           1
          ],
          [
           "Figueiró dos Vinhos",
           "16F1008",
           5
          ],
          [
           "Leiria",
           "16F1009",
           17
          ],
          [
           "Marinha Grande",
           "16F1010",
           3
          ],
          [
           "Pedrógão Grande",
           "16F1013",
           5
          ],
          [
           "Pombal",
           "16F1015",
           15
          ],
          [
           "Porto de Mós",
           "16F1016",
           7
          ],
          [
           "Aguiar da Beira",
           "16G0901",
           7
          ],
          [
           "Carregal do Sal",
           "16G1802",
           12
          ],
          [
           "Castro Daire",
           "16G1803",
           14
          ],
          [
           "Mangualde",
           "16G1806",
           28
          ],
          [
           "Nelas",
           "16G1809",
           16
          ],
          [
           "Oliveira de Frades",
           "16G1810",
           6
          ],
          [
           "Penalva do Castelo",
           "16G1811",
           7
          ],
          [
           "Santa Comba Dão",
           "16G1814",
           7
          ],
          [
           "São Pedro do Sul",
           "16G1816",
           11
          ],
          [
           "Sátão",
           "16G1817",
           15
          ],
          [
           "Tondela",
           "16G1821",
           20
          ],
          [
           "Vila Nova de Paiva",
           "16G1822",
           6
          ],
          [
           "Viseu",
           "16G1823",
           33
          ],
          [
           "Vouzela",
           "16G1824",
           9
          ],
          [
           "Castelo Branco",
           "16H0502",
           22
          ],
          [
           "Idanha-a-Nova",
           "16H0505",
           20
          ],
          [
           "Oleiros",
           "16H0506",
           3
          ],
          [
           "Penamacor",
           "16H0507",
           6
          ],
          [
           "Proença-a-Nova",
           "16H0508",
           1
          ],
          [
           "Vila Velha de Ródão",
           "16H0511",
           5
          ],
          [
           "Abrantes",
           "16I1401",
           45
          ],
          [
           "Alcanena",
           "16I1402",
           3
          ],
          [
           "Constância",
           "16I1408",
           5
          ],
          [
           "Entroncamento",
           "16I1410",
           0
          ],
          [
           "Ferreira do Zêzere",
           "16I1411",
           9
          ],
          [
           "Mação",
           "16I1413",
           11
          ],
          [
           "Ourém",
           "16I1421",
           8
          ],
          [
           "Sardoal",
           "16I1417",
           7
          ],
          [
           "Sertã",
           "16I0509",
           16
          ],
          [
           "Tomar",
           "16I1418",
           30
          ],
          [
           "Torres Novas",
           "16I1419",
           12
          ],
          [
           "Vila de Rei",
           "16I0510",
           3
          ],
          [
           "Vila Nova da Barquinha",
           "16I1420",
           5
          ],
          [
           "Almeida",
           "16J0902",
           10
          ],
          [
           "Belmonte",
           "16J0501",
           5
          ],
          [
           "Celorico da Beira",
           "16J0903",
           11
          ],
          [
           "Covilhã",
           "16J0503",
           25
          ],
          [
           "Figueira de Castelo Rodrigo",
           "16J0904",
           17
          ],
          [
           "Fornos de Algodres",
           "16J0905",
           11
          ],
          [
           "Fundão",
           "16J0504",
           27
          ],
          [
           "Gouveia",
           "16J0906",
           10
          ],
          [
           "Guarda",
           "16J0907",
           29
          ],
          [
           "Manteigas",
           "16J0908",
           1
          ],
          [
           "Mêda",
           "16J0909",
           13
          ],
          [
           "Pinhel",
           "16J0910",
           16
          ],
          [
           "Sabugal",
           "16J0911",
           21
          ],
          [
           "Seia",
           "16J0912",
           14
          ],
          [
           "Trancoso",
           "16J0913",
           17
          ],
          [
           "Alcochete",
           "1701502",
           7
          ],
          [
           "Almada",
           "1701503",
           20
          ],
          [
           "Amadora",
           "1701115",
           14
          ],
          [
           "Barreiro",
           "1701504",
           9
          ],
          [
           "Cascais",
           "1701105",
           61
          ],
          [
           "Lisboa",
           "1701106",
           307
          ],
          [
           "Loures",
           "1701107",
           27
          ],
          [
           "Mafra",
           "1701109",
           33
          ],
          [
           "Moita",
           "1701506",
           5
          ],
          [
           "Montijo",
           "1701507",
           15
          ],
          [
           "Odivelas",
           "1701116",
           11
          ],
          [
           "Oeiras",
           "1701110",
           20
          ],
          [
           "Palmela",
           "1701508",
           13
          ],
          [
           "Seixal",
           "1701510",
           16
          ],
          [
           "Sesimbra",
           "1701511",
           11
          ],
          [
           "Setúbal",
           "1701512",
           35
          ],
          [
           "Sintra",
           "1701111",
           74
          ],
          [
           "Vila Franca de Xira",
           "1701114",
           23
          ],
          [
           "Alcácer do Sal",
           "1811501",
           17
          ],
          [
           "Grândola",
           "1811505",
           12
          ],
          [
           "Odemira",
           "1810211",
           3
          ],
          [
           "Santiago do Cacém",
           "1811509",
           17
          ],
          [
           "Sines",
           "1811513",
           6
          ],
          [
           "Aljustrel",
           "1840201",
           4
          ],
          [
           "Almodôvar",
           "1840202",
           7
          ],
          [
           "Alvito",
           "1840203",
           20
          ],
          [
           "Barrancos",
           "1840204",
           1
          ],
          [
           "Beja",
           "1840205",
           18
          ],
          [
           "Castro Verde",
           "1840206",
           7
          ],
          [
           "Cuba",
           "1840207",
           6
          ],
          [
           "Ferreira do Alentejo",
           "1840208",
           16
          ],
          [
           "Mértola",
           "1840209",
           5
          ],
          [
           "Moura",
           "1840210",
           21
          ],
          [
           "Ourique",
           "1840212",
           3
          ],
          [
           "Serpa",
           "1840213",
           9
          ],
          [
           "Vidigueira",
           "1840214",
           7
          ],
          [
           "Almeirim",
           "1851403",
           1
          ],
          [
           "Alpiarça",
           "1851404",
           3
          ],
          [
           "Azambuja",
           "1851103",
           10
          ],
          [
           "Benavente",
           "1851405",
           3
          ],
          [
           "Cartaxo",
           "1851406",
           4
          ],
          [
           "Chamusca",
           "1851407",
           2
          ],
          [
           "Coruche",
           "1851409",
           4
          ],
          [
           "Golegã",
           "1851412",
           5
          ],
          [
           "Rio Maior",
           "1851414",
           5
          ],
          [
           "Salvaterra de Magos",
           "1851415",
           2
          ],
          [
           "Santarém",
           "1851416",
           47
          ],
          [
           "Alter do Chão",
           "1861201",
           12
          ],
          [
           "Arronches",
           "1861202",
           5
          ],
          [
           "Avis",
           "1861203",
           11
          ],
          [
           "Campo Maior",
           "1861204",
           18
          ],
          [
           "Castelo de Vide",
           "1861205",
           37
          ],
          [
           "Crato",
           "1861206",
           9
          ],
          [
           "Elvas",
           "1861207",
           41
          ],
          [
           "Fronteira",
           "1861208",
           10
          ],
          [
           "Gavião",
           "1861209",
           7
          ],
          [
           "Marvão",
           "1861210",
           10
          ],
          [
           "Monforte",
           "1861211",
           12
          ],
          [
           "Nisa",
           "1861212",
           17
          ],
          [
           "Ponte de Sor",
           "1861213",
           1
          ],
          [
           "Portalegre",
           "1861214",
           46
          ],
          [
           "Sousel",
           "1861215",
           6
          ],
          [
           "Alandroal",
           "1870701",
           12
          ],
          [
           "Arraiolos",
           "1870702",
           15
          ],
          [
           "Borba",
           "1870703",
           19
          ],
          [
           "Estremoz",
           "1870704",
           30
          ],
          [
           "Évora",
           "1870705",
           85
          ],
          [
           "Montemor-o-Novo",
           "1870706",
           27
          ],
          [
           "Mora",
           "1870707",
           7
          ],
          [
           "Mourão",
           "1870708",
           3
          ],
          [
           "Portel",
           "1870709",
           7
          ],
          [
           "Redondo",
           "1870710",
           9
          ],
          [
           "Reguengos de Monsaraz",
           "1870711",
           22
          ],
          [
           "Vendas Novas",
           "1870712",
           2
          ],
          [
           "Viana do Alentejo",
           "1870713",
           8
          ],
          [
           "Vila Viçosa",
           "1870714",
           26
          ],
          [
           "Albufeira",
           "1500801",
           3
          ],
          [
           "Alcoutim",
           "1500802",
           7
          ],
          [
           "Aljezur",
           "1500803",
           3
          ],
          [
           "Castro Marim",
           "1500804",
           3
          ],
          [
           "Faro",
           "1500805",
           41
          ],
          [
           "Lagoa",
           "1500806",
           4
          ],
          [
           "Lagos",
           "1500807",
           14
          ],
          [
           "Loulé",
           "1500808",
           18
          ],
          [
           "Monchique",
           "1500809",
           3
          ],
          [
           "Olhão",
           "1500810",
           6
          ],
          [
           "Portimão",
           "1500811",
           15
          ],
          [
           "São Brás de Alportel",
           "1500812",
           1
          ],
          [
           "Silves",
           "1500813",
           54
          ],
          [
           "Tavira",
           "1500814",
           21
          ],
          [
           "Vila do Bispo",
           "1500815",
           9
          ],
          [
           "Vila Real de Santo António",
           "1500816",
           4
          ],
          [
           "Angra do Heroísmo",
           "2004301",
           70
          ],
          [
           "Calheta",
           "2004501",
           6
          ],
          [
           "Corvo",
           "2004901",
           4
          ],
          [
           "Horta",
           "2004701",
           38
          ],
          [
           "Lagoa",
           "2004201",
           12
          ],
          [
           "Lajes das Flores",
           "2004801",
           9
          ],
          [
           "Lajes do Pico",
           "2004601",
           14
          ],
          [
           "Madalena",
           "2004602",
           8
          ],
          [
           "Nordeste",
           "2004202",
           6
          ],
          [
           "Ponta Delgada",
           "2004203",
           54
          ],
          [
           "Povoação",
           "2004204",
           4
          ],
          [
           "Ribeira Grande",
           "2004205",
           22
          ],
          [
           "Santa Cruz da Graciosa",
           "2004401",
           17
          ],
          [
           "Santa Cruz das Flores",
           "2004802",
           9
          ],
          [
           "São Roque do Pico",
           "2004603",
           12
          ],
          [
           "Velas",
           "2004502",
           12
          ],
          [
           "Vila da Praia da Vitória",
           "2004302",
           13
          ],
          [
           "Vila do Porto",
           "2004101",
           14
          ],
          [
           "Vila Franca do Campo",
           "2004206",
           8
          ],
          [
           "Calheta",
           "3003101",
           24
          ],
          [
           "Câmara de Lobos",
           "3003102",
           5
          ],
          [
           "Funchal",
           "3003103",
           81
          ],
          [
           "Machico",
           "3003104",
           16
          ],
          [
           "Ponta do Sol",
           "3003105",
           14
          ],
          [
           "Porto Moniz",
           "3003106",
           2
          ],
          [
           "Porto Santo",
           "3003201",
           4
          ],
          [
           "Ribeira Brava",
           "3003107",
           5
          ],
          [
           "Santa Cruz",
           "3003108",
           15
          ],
          [
           "Santana",
           "3003109",
           7
          ],
          [
           "São Vicente",
           "3003110",
           7
          ]
         ],
         "hovertemplate": "valor=%{x}<br>y=%{y}<br>local=%{customdata[0]}<br>codigo=%{customdata[1]}<br>Bens imóveis culturais=%{customdata[2]}<br>cluster_densidade=%{marker.color}<extra></extra>",
         "legendgroup": "",
         "marker": {
          "color": {
           "bdata": "AQEBAQAAAgACAAEBAwAAAQEAAgABAAEAAQAAAAIAAQMBAQEAAAAAAQEAAQEAAQEBAAAAAAEAAQABAQEBAQACAAEAAAEBAQABAQEBAQIAAQAAAQEAAAABAQAAAAEAAQABAAIBAAABAAAAAAAAAAEAAgECAAEAAAABAAEAAAAAAAAAAAEAAAEAAAEAAAEBAQEAAAAAAQEAAgABAQAAAAACAAAAAAAAAAEBAQAAAAAAAQEAAQABAAEBAQEBAAEBAAIEAQIAAQABAQEAAgMBAQEAAQAAAAEAAQAAAQABAAAAAAAAAAAAAAAAAAIBAAABAgACAAAAAQEAAgABAQEBAwEAAAAAAQAAAQAAAAACAAEBAAABAAIBAAADAAACAQABAAACAAEBAAEBAQEAAQADAQEAAAABAAA=",
           "dtype": "i1"
          },
          "coloraxis": "coloraxis",
          "size": 10,
          "symbol": "circle"
         },
         "mode": "markers",
         "name": "",
         "orientation": "v",
         "showlegend": false,
         "type": "scatter",
         "x": {
          "bdata": "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",
          "dtype": "f8"
         },
         "xaxis": "x",
         "y": {
          "bdata": "AAAAAAAAAAAAAAAAAAAAAAAAAAAAAAAAAAAAAAAAAAAAAAAAAAAAAAAAAAAAAAAAAAAAAAAAAAAAAAAAAAAAAAAAAAAAAAAAAAAAAAAAAAAAAAAAAAAAAAAAAAAAAAAAAAAAAAAAAAAAAAAAAAAAAAAAAAAAAAAAAAAAAAAAAAAAAAAAAAAAAAAAAAAAAAAAAAAAAAAAAAAAAAAAAAAAAAAAAAAAAAAAAAAAAAAAAAAAAAAAAAAAAAAAAAAAAAAAAAAAAAAAAAAAAAAAAAAAAAAAAAAAAAAAAAAAAAAAAAAAAAAAAAAAAAAAAAAAAAAAAAAAAAAAAAAAAAAAAAAAAAAAAAAAAAAAAAAAAAAAAAAAAAAAAAAAAAAAAAAAAAAAAAAAAAAAAAAAAAAAAAAAAAAAAAA=",
          "dtype": "i1"
         },
         "yaxis": "y"
        }
       ],
       "layout": {
        "coloraxis": {
         "colorbar": {
          "title": {
           "text": "cluster_densidade"
          }
         },
         "colorscale": [
          [
           0,
           "#440154"
          ],
          [
           0.1111111111111111,
           "#482878"
          ],
          [
           0.2222222222222222,
           "#3e4989"
          ],
          [
           0.3333333333333333,
           "#31688e"
          ],
          [
           0.4444444444444444,
           "#26828e"
          ],
          [
           0.5555555555555556,
           "#1f9e89"
          ],
          [
           0.6666666666666666,
           "#35b779"
          ],
          [
           0.7777777777777778,
           "#6ece58"
          ],
          [
           0.8888888888888888,
           "#b5de2b"
          ],
          [
           1,
           "#fde725"
          ]
         ]
        },
        "height": 300,
        "legend": {
         "tracegroupgap": 0
        },
        "margin": {
         "t": 60
        },
        "template": {
         "data": {
          "bar": [
           {
            "error_x": {
             "color": "#2a3f5f"
            },
            "error_y": {
             "color": "#2a3f5f"
            },
            "marker": {
             "line": {
              "color": "#E5ECF6",
              "width": 0.5
             },
             "pattern": {
              "fillmode": "overlay",
              "size": 10,
              "solidity": 0.2
             }
            },
            "type": "bar"
           }
          ],
          "barpolar": [
           {
            "marker": {
             "line": {
              "color": "#E5ECF6",
              "width": 0.5
             },
             "pattern": {
              "fillmode": "overlay",
              "size": 10,
              "solidity": 0.2
             }
            },
            "type": "barpolar"
           }
          ],
          "carpet": [
           {
            "aaxis": {
             "endlinecolor": "#2a3f5f",
             "gridcolor": "white",
             "linecolor": "white",
             "minorgridcolor": "white",
             "startlinecolor": "#2a3f5f"
            },
            "baxis": {
             "endlinecolor": "#2a3f5f",
             "gridcolor": "white",
             "linecolor": "white",
             "minorgridcolor": "white",
             "startlinecolor": "#2a3f5f"
            },
            "type": "carpet"
           }
          ],
          "choropleth": [
           {
            "colorbar": {
             "outlinewidth": 0,
             "ticks": ""
            },
            "type": "choropleth"
           }
          ],
          "contour": [
           {
            "colorbar": {
             "outlinewidth": 0,
             "ticks": ""
            },
            "colorscale": [
             [
              0,
              "#0d0887"
             ],
             [
              0.1111111111111111,
              "#46039f"
             ],
             [
              0.2222222222222222,
              "#7201a8"
             ],
             [
              0.3333333333333333,
              "#9c179e"
             ],
             [
              0.4444444444444444,
              "#bd3786"
             ],
             [
              0.5555555555555556,
              "#d8576b"
             ],
             [
              0.6666666666666666,
              "#ed7953"
             ],
             [
              0.7777777777777778,
              "#fb9f3a"
             ],
             [
              0.8888888888888888,
              "#fdca26"
             ],
             [
              1,
              "#f0f921"
             ]
            ],
            "type": "contour"
           }
          ],
          "contourcarpet": [
           {
            "colorbar": {
             "outlinewidth": 0,
             "ticks": ""
            },
            "type": "contourcarpet"
           }
          ],
          "heatmap": [
           {
            "colorbar": {
             "outlinewidth": 0,
             "ticks": ""
            },
            "colorscale": [
             [
              0,
              "#0d0887"
             ],
             [
              0.1111111111111111,
              "#46039f"
             ],
             [
              0.2222222222222222,
              "#7201a8"
             ],
             [
              0.3333333333333333,
              "#9c179e"
             ],
             [
              0.4444444444444444,
              "#bd3786"
             ],
             [
              0.5555555555555556,
              "#d8576b"
             ],
             [
              0.6666666666666666,
              "#ed7953"
             ],
             [
              0.7777777777777778,
              "#fb9f3a"
             ],
             [
              0.8888888888888888,
              "#fdca26"
             ],
             [
              1,
              "#f0f921"
             ]
            ],
            "type": "heatmap"
           }
          ],
          "histogram": [
           {
            "marker": {
             "pattern": {
              "fillmode": "overlay",
              "size": 10,
              "solidity": 0.2
             }
            },
            "type": "histogram"
           }
          ],
          "histogram2d": [
           {
            "colorbar": {
             "outlinewidth": 0,
             "ticks": ""
            },
            "colorscale": [
             [
              0,
              "#0d0887"
             ],
             [
              0.1111111111111111,
              "#46039f"
             ],
             [
              0.2222222222222222,
              "#7201a8"
             ],
             [
              0.3333333333333333,
              "#9c179e"
             ],
             [
              0.4444444444444444,
              "#bd3786"
             ],
             [
              0.5555555555555556,
              "#d8576b"
             ],
             [
              0.6666666666666666,
              "#ed7953"
             ],
             [
              0.7777777777777778,
              "#fb9f3a"
             ],
             [
              0.8888888888888888,
              "#fdca26"
             ],
             [
              1,
              "#f0f921"
             ]
            ],
            "type": "histogram2d"
           }
          ],
          "histogram2dcontour": [
           {
            "colorbar": {
             "outlinewidth": 0,
             "ticks": ""
            },
            "colorscale": [
             [
              0,
              "#0d0887"
             ],
             [
              0.1111111111111111,
              "#46039f"
             ],
             [
              0.2222222222222222,
              "#7201a8"
             ],
             [
              0.3333333333333333,
              "#9c179e"
             ],
             [
              0.4444444444444444,
              "#bd3786"
             ],
             [
              0.5555555555555556,
              "#d8576b"
             ],
             [
              0.6666666666666666,
              "#ed7953"
             ],
             [
              0.7777777777777778,
              "#fb9f3a"
             ],
             [
              0.8888888888888888,
              "#fdca26"
             ],
             [
              1,
              "#f0f921"
             ]
            ],
            "type": "histogram2dcontour"
           }
          ],
          "mesh3d": [
           {
            "colorbar": {
             "outlinewidth": 0,
             "ticks": ""
            },
            "type": "mesh3d"
           }
          ],
          "parcoords": [
           {
            "line": {
             "colorbar": {
              "outlinewidth": 0,
              "ticks": ""
             }
            },
            "type": "parcoords"
           }
          ],
          "pie": [
           {
            "automargin": true,
            "type": "pie"
           }
          ],
          "scatter": [
           {
            "fillpattern": {
             "fillmode": "overlay",
             "size": 10,
             "solidity": 0.2
            },
            "type": "scatter"
           }
          ],
          "scatter3d": [
           {
            "line": {
             "colorbar": {
              "outlinewidth": 0,
              "ticks": ""
             }
            },
            "marker": {
             "colorbar": {
              "outlinewidth": 0,
              "ticks": ""
             }
            },
            "type": "scatter3d"
           }
          ],
          "scattercarpet": [
           {
            "marker": {
             "colorbar": {
              "outlinewidth": 0,
              "ticks": ""
             }
            },
            "type": "scattercarpet"
           }
          ],
          "scattergeo": [
           {
            "marker": {
             "colorbar": {
              "outlinewidth": 0,
              "ticks": ""
             }
            },
            "type": "scattergeo"
           }
          ],
          "scattergl": [
           {
            "marker": {
             "colorbar": {
              "outlinewidth": 0,
              "ticks": ""
             }
            },
            "type": "scattergl"
           }
          ],
          "scattermap": [
           {
            "marker": {
             "colorbar": {
              "outlinewidth": 0,
              "ticks": ""
             }
            },
            "type": "scattermap"
           }
          ],
          "scattermapbox": [
           {
            "marker": {
             "colorbar": {
              "outlinewidth": 0,
              "ticks": ""
             }
            },
            "type": "scattermapbox"
           }
          ],
          "scatterpolar": [
           {
            "marker": {
             "colorbar": {
              "outlinewidth": 0,
              "ticks": ""
             }
            },
            "type": "scatterpolar"
           }
          ],
          "scatterpolargl": [
           {
            "marker": {
             "colorbar": {
              "outlinewidth": 0,
              "ticks": ""
             }
            },
            "type": "scatterpolargl"
           }
          ],
          "scatterternary": [
           {
            "marker": {
             "colorbar": {
              "outlinewidth": 0,
              "ticks": ""
             }
            },
            "type": "scatterternary"
           }
          ],
          "surface": [
           {
            "colorbar": {
             "outlinewidth": 0,
             "ticks": ""
            },
            "colorscale": [
             [
              0,
              "#0d0887"
             ],
             [
              0.1111111111111111,
              "#46039f"
             ],
             [
              0.2222222222222222,
              "#7201a8"
             ],
             [
              0.3333333333333333,
              "#9c179e"
             ],
             [
              0.4444444444444444,
              "#bd3786"
             ],
             [
              0.5555555555555556,
              "#d8576b"
             ],
             [
              0.6666666666666666,
              "#ed7953"
             ],
             [
              0.7777777777777778,
              "#fb9f3a"
             ],
             [
              0.8888888888888888,
              "#fdca26"
             ],
             [
              1,
              "#f0f921"
             ]
            ],
            "type": "surface"
           }
          ],
          "table": [
           {
            "cells": {
             "fill": {
              "color": "#EBF0F8"
             },
             "line": {
              "color": "white"
             }
            },
            "header": {
             "fill": {
              "color": "#C8D4E3"
             },
             "line": {
              "color": "white"
             }
            },
            "type": "table"
           }
          ]
         },
         "layout": {
          "annotationdefaults": {
           "arrowcolor": "#2a3f5f",
           "arrowhead": 0,
           "arrowwidth": 1
          },
          "autotypenumbers": "strict",
          "coloraxis": {
           "colorbar": {
            "outlinewidth": 0,
            "ticks": ""
           }
          },
          "colorscale": {
           "diverging": [
            [
             0,
             "#8e0152"
            ],
            [
             0.1,
             "#c51b7d"
            ],
            [
             0.2,
             "#de77ae"
            ],
            [
             0.3,
             "#f1b6da"
            ],
            [
             0.4,
             "#fde0ef"
            ],
            [
             0.5,
             "#f7f7f7"
            ],
            [
             0.6,
             "#e6f5d0"
            ],
            [
             0.7,
             "#b8e186"
            ],
            [
             0.8,
             "#7fbc41"
            ],
            [
             0.9,
             "#4d9221"
            ],
            [
             1,
             "#276419"
            ]
           ],
           "sequential": [
            [
             0,
             "#0d0887"
            ],
            [
             0.1111111111111111,
             "#46039f"
            ],
            [
             0.2222222222222222,
             "#7201a8"
            ],
            [
             0.3333333333333333,
             "#9c179e"
            ],
            [
             0.4444444444444444,
             "#bd3786"
            ],
            [
             0.5555555555555556,
             "#d8576b"
            ],
            [
             0.6666666666666666,
             "#ed7953"
            ],
            [
             0.7777777777777778,
             "#fb9f3a"
            ],
            [
             0.8888888888888888,
             "#fdca26"
            ],
            [
             1,
             "#f0f921"
            ]
           ],
           "sequentialminus": [
            [
             0,
             "#0d0887"
            ],
            [
             0.1111111111111111,
             "#46039f"
            ],
            [
             0.2222222222222222,
             "#7201a8"
            ],
            [
             0.3333333333333333,
             "#9c179e"
            ],
            [
             0.4444444444444444,
             "#bd3786"
            ],
            [
             0.5555555555555556,
             "#d8576b"
            ],
            [
             0.6666666666666666,
             "#ed7953"
            ],
            [
             0.7777777777777778,
             "#fb9f3a"
            ],
            [
             0.8888888888888888,
             "#fdca26"
            ],
            [
             1,
             "#f0f921"
            ]
           ]
          },
          "colorway": [
           "#636efa",
           "#EF553B",
           "#00cc96",
           "#ab63fa",
           "#FFA15A",
           "#19d3f3",
           "#FF6692",
           "#B6E880",
           "#FF97FF",
           "#FECB52"
          ],
          "font": {
           "color": "#2a3f5f"
          },
          "geo": {
           "bgcolor": "white",
           "lakecolor": "white",
           "landcolor": "#E5ECF6",
           "showlakes": true,
           "showland": true,
           "subunitcolor": "white"
          },
          "hoverlabel": {
           "align": "left"
          },
          "hovermode": "closest",
          "mapbox": {
           "style": "light"
          },
          "paper_bgcolor": "white",
          "plot_bgcolor": "#E5ECF6",
          "polar": {
           "angularaxis": {
            "gridcolor": "white",
            "linecolor": "white",
            "ticks": ""
           },
           "bgcolor": "#E5ECF6",
           "radialaxis": {
            "gridcolor": "white",
            "linecolor": "white",
            "ticks": ""
           }
          },
          "scene": {
           "xaxis": {
            "backgroundcolor": "#E5ECF6",
            "gridcolor": "white",
            "gridwidth": 2,
            "linecolor": "white",
            "showbackground": true,
            "ticks": "",
            "zerolinecolor": "white"
           },
           "yaxis": {
            "backgroundcolor": "#E5ECF6",
            "gridcolor": "white",
            "gridwidth": 2,
            "linecolor": "white",
            "showbackground": true,
            "ticks": "",
            "zerolinecolor": "white"
           },
           "zaxis": {
            "backgroundcolor": "#E5ECF6",
            "gridcolor": "white",
            "gridwidth": 2,
            "linecolor": "white",
            "showbackground": true,
            "ticks": "",
            "zerolinecolor": "white"
           }
          },
          "shapedefaults": {
           "line": {
            "color": "#2a3f5f"
           }
          },
          "ternary": {
           "aaxis": {
            "gridcolor": "white",
            "linecolor": "white",
            "ticks": ""
           },
           "baxis": {
            "gridcolor": "white",
            "linecolor": "white",
            "ticks": ""
           },
           "bgcolor": "#E5ECF6",
           "caxis": {
            "gridcolor": "white",
            "linecolor": "white",
            "ticks": ""
           }
          },
          "title": {
           "x": 0.05
          },
          "xaxis": {
           "automargin": true,
           "gridcolor": "white",
           "linecolor": "white",
           "ticks": "",
           "title": {
            "standoff": 15
           },
           "zerolinecolor": "white",
           "zerolinewidth": 2
          },
          "yaxis": {
           "automargin": true,
           "gridcolor": "white",
           "linecolor": "white",
           "ticks": "",
           "title": {
            "standoff": 15
           },
           "zerolinecolor": "white",
           "zerolinewidth": 2
          }
         }
        },
        "xaxis": {
         "anchor": "y",
         "domain": [
          0,
          1
         ],
         "title": {
          "text": "Bens imóveis culturais"
         }
        },
        "yaxis": {
         "anchor": "x",
         "domain": [
          0,
          1
         ],
         "showgrid": false,
         "showticklabels": false,
         "title": {
          "text": "y"
         }
        }
       }
      }
     },
     "metadata": {},
     "output_type": "display_data"
    },
    {
     "name": "stdout",
     "output_type": "stream",
     "text": [
      "cluster_densidade\n",
      "0    161\n",
      "1    118\n",
      "2     22\n",
      "3      6\n",
      "4      1\n",
      "Name: count, dtype: int64\n"
     ]
    },
    {
     "data": {
      "text/html": [
       "<div>\n",
       "<style scoped>\n",
       "    .dataframe tbody tr th:only-of-type {\n",
       "        vertical-align: middle;\n",
       "    }\n",
       "\n",
       "    .dataframe tbody tr th {\n",
       "        vertical-align: top;\n",
       "    }\n",
       "\n",
       "    .dataframe thead th {\n",
       "        text-align: right;\n",
       "    }\n",
       "</style>\n",
       "<table border=\"1\" class=\"dataframe\">\n",
       "  <thead>\n",
       "    <tr style=\"text-align: right;\">\n",
       "      <th></th>\n",
       "      <th>local</th>\n",
       "      <th>codigo</th>\n",
       "      <th>Bens imóveis culturais</th>\n",
       "      <th>cluster_densidade</th>\n",
       "    </tr>\n",
       "  </thead>\n",
       "  <tbody>\n",
       "    <tr>\n",
       "      <th>4</th>\n",
       "      <td>Arcos de Valdevez</td>\n",
       "      <td>1111601</td>\n",
       "      <td>29.0</td>\n",
       "      <td>1</td>\n",
       "    </tr>\n",
       "    <tr>\n",
       "      <th>5</th>\n",
       "      <td>Caminha</td>\n",
       "      <td>1111602</td>\n",
       "      <td>20.0</td>\n",
       "      <td>1</td>\n",
       "    </tr>\n",
       "    <tr>\n",
       "      <th>6</th>\n",
       "      <td>Melgaço</td>\n",
       "      <td>1111603</td>\n",
       "      <td>23.0</td>\n",
       "      <td>1</td>\n",
       "    </tr>\n",
       "    <tr>\n",
       "      <th>7</th>\n",
       "      <td>Monção</td>\n",
       "      <td>1111604</td>\n",
       "      <td>13.0</td>\n",
       "      <td>1</td>\n",
       "    </tr>\n",
       "    <tr>\n",
       "      <th>8</th>\n",
       "      <td>Paredes de Coura</td>\n",
       "      <td>1111605</td>\n",
       "      <td>9.0</td>\n",
       "      <td>0</td>\n",
       "    </tr>\n",
       "    <tr>\n",
       "      <th>...</th>\n",
       "      <td>...</td>\n",
       "      <td>...</td>\n",
       "      <td>...</td>\n",
       "      <td>...</td>\n",
       "    </tr>\n",
       "    <tr>\n",
       "      <th>339</th>\n",
       "      <td>Porto Santo</td>\n",
       "      <td>3003201</td>\n",
       "      <td>4.0</td>\n",
       "      <td>0</td>\n",
       "    </tr>\n",
       "    <tr>\n",
       "      <th>340</th>\n",
       "      <td>Ribeira Brava</td>\n",
       "      <td>3003107</td>\n",
       "      <td>5.0</td>\n",
       "      <td>0</td>\n",
       "    </tr>\n",
       "    <tr>\n",
       "      <th>341</th>\n",
       "      <td>Santa Cruz</td>\n",
       "      <td>3003108</td>\n",
       "      <td>15.0</td>\n",
       "      <td>1</td>\n",
       "    </tr>\n",
       "    <tr>\n",
       "      <th>342</th>\n",
       "      <td>Santana</td>\n",
       "      <td>3003109</td>\n",
       "      <td>7.0</td>\n",
       "      <td>0</td>\n",
       "    </tr>\n",
       "    <tr>\n",
       "      <th>343</th>\n",
       "      <td>São Vicente</td>\n",
       "      <td>3003110</td>\n",
       "      <td>7.0</td>\n",
       "      <td>0</td>\n",
       "    </tr>\n",
       "  </tbody>\n",
       "</table>\n",
       "<p>308 rows × 4 columns</p>\n",
       "</div>"
      ],
      "text/plain": [
       "                 local   codigo  Bens imóveis culturais  cluster_densidade\n",
       "4    Arcos de Valdevez  1111601                    29.0                  1\n",
       "5              Caminha  1111602                    20.0                  1\n",
       "6              Melgaço  1111603                    23.0                  1\n",
       "7               Monção  1111604                    13.0                  1\n",
       "8     Paredes de Coura  1111605                     9.0                  0\n",
       "..                 ...      ...                     ...                ...\n",
       "339        Porto Santo  3003201                     4.0                  0\n",
       "340      Ribeira Brava  3003107                     5.0                  0\n",
       "341         Santa Cruz  3003108                    15.0                  1\n",
       "342            Santana  3003109                     7.0                  0\n",
       "343        São Vicente  3003110                     7.0                  0\n",
       "\n",
       "[308 rows x 4 columns]"
      ]
     },
     "execution_count": 6,
     "metadata": {},
     "output_type": "execute_result"
    }
   ],
   "source": [
    "df_bens_imoveis_cult = processar_ficheiro('/Users/joaopino/Principal/2Semester/ADE/project/data/dados_municipio/Cultura_Desporto_e_Lazer_(7)/Bens imóveis culturais.xls',0)\n",
    "df_bens_imoveis_cult = carregar_municipios(df_bens_imoveis_cult)\n",
    "aplicar_kmeans(df_bens_imoveis_cult,5,nome_cluster='cluster_densidade')\n"
   ]
  },
  {
   "cell_type": "markdown",
   "id": "edc6ca4b",
   "metadata": {},
   "source": [
    "### Análise das Despersas das Câmaras Municipais em cultura e desporto no total de despesas"
   ]
  },
  {
   "cell_type": "code",
   "execution_count": 8,
   "id": "d827233f",
   "metadata": {},
   "outputs": [
    {
     "data": {
      "application/vnd.plotly.v1+json": {
       "config": {
        "plotlyServerURL": "https://plot.ly"
       },
       "data": [
        {
         "customdata": [
          [
           "Arcos de Valdevez",
           "1111601",
           15.3
          ],
          [
           "Caminha",
           "1111602",
           8
          ],
          [
           "Melgaço",
           "1111603",
           5.7
          ],
          [
           "Monção",
           "1111604",
           13.2
          ],
          [
           "Paredes de Coura",
           "1111605",
           13.1
          ],
          [
           "Ponte da Barca",
           "1111606",
           6.9
          ],
          [
           "Ponte de Lima",
           "1111607",
           9.3
          ],
          [
           "Valença",
           "1111608",
           14.1
          ],
          [
           "Viana do Castelo",
           "1111609",
           6.3
          ],
          [
           "Vila Nova de Cerveira",
           "1111610",
           26.6
          ],
          [
           "Amares",
           "1120301",
           3.5
          ],
          [
           "Barcelos",
           "1120302",
           14.4
          ],
          [
           "Braga",
           "1120303",
           7.2
          ],
          [
           "Esposende",
           "1120306",
           11.4
          ],
          [
           "Terras de Bouro",
           "1120310",
           1.9
          ],
          [
           "Vila Verde",
           "1120313",
           4.6
          ],
          [
           "Cabeceiras de Basto",
           "1190304",
           3.1
          ],
          [
           "Fafe",
           "1190307",
           10.8
          ],
          [
           "Guimarães",
           "1190308",
           11
          ],
          [
           "Mondim de Basto",
           "1191705",
           7.7
          ],
          [
           "Póvoa de Lanhoso",
           "1190309",
           11.5
          ],
          [
           "Vieira do Minho",
           "1190311",
           3.5
          ],
          [
           "Vila Nova de Famalicão",
           "1190312",
           11.7
          ],
          [
           "Vizela",
           "1190314",
           6
          ],
          [
           "Arouca",
           "11A0104",
           15.4
          ],
          [
           "Espinho",
           "11A0107",
           3.7
          ],
          [
           "Gondomar",
           "11A1304",
           5.9
          ],
          [
           "Maia",
           "11A1306",
           13.5
          ],
          [
           "Matosinhos",
           "11A1308",
           13.9
          ],
          [
           "Oliveira de Azeméis",
           "11A0113",
           7.5
          ],
          [
           "Paredes",
           "11A1310",
           5.1
          ],
          [
           "Porto",
           "11A1312",
           12.8
          ],
          [
           "Póvoa de Varzim",
           "11A1313",
           16.6
          ],
          [
           "Santa Maria da Feira",
           "11A0109",
           8.5
          ],
          [
           "Santo Tirso",
           "11A1314",
           7.8
          ],
          [
           "São João da Madeira",
           "11A0116",
           10
          ],
          [
           "Trofa",
           "11A1318",
           3.1
          ],
          [
           "Vale de Cambra",
           "11A0119",
           17.8
          ],
          [
           "Valongo",
           "11A1315",
           13.7
          ],
          [
           "Vila do Conde",
           "11A1316",
           9.6
          ],
          [
           "Vila Nova de Gaia",
           "11A1317",
           6.5
          ],
          [
           "Boticas",
           "11B1702",
           8.2
          ],
          [
           "Chaves",
           "11B1703",
           11.6
          ],
          [
           "Montalegre",
           "11B1706",
           21.8
          ],
          [
           "Ribeira de Pena",
           "11B1709",
           13
          ],
          [
           "Valpaços",
           "11B1712",
           7.9
          ],
          [
           "Vila Pouca de Aguiar",
           "11B1713",
           12.6
          ],
          [
           "Amarante",
           "11C1301",
           12.6
          ],
          [
           "Baião",
           "11C1302",
           9.7
          ],
          [
           "Castelo de Paiva",
           "11C0106",
           6.5
          ],
          [
           "Celorico de Basto",
           "11C0305",
           21.8
          ],
          [
           "Cinfães",
           "11C1804",
           14.4
          ],
          [
           "Felgueiras",
           "11C1303",
           12.8
          ],
          [
           "Lousada",
           "11C1305",
           3.9
          ],
          [
           "Marco de Canaveses",
           "11C1307",
           12.3
          ],
          [
           "Paços de Ferreira",
           "11C1309",
           8.1
          ],
          [
           "Penafiel",
           "11C1311",
           9
          ],
          [
           "Resende",
           "11C1813",
           11.5
          ],
          [
           "Alijó",
           "11D1701",
           7
          ],
          [
           "Armamar",
           "11D1801",
           29.8
          ],
          [
           "Carrazeda de Ansiães",
           "11D0403",
           15.4
          ],
          [
           "Freixo de Espada à Cinta",
           "11D0404",
           6.3
          ],
          [
           "Lamego",
           "11D1805",
           4.4
          ],
          [
           "Mesão Frio",
           "11D1704",
           11.5
          ],
          [
           "Moimenta da Beira",
           "11D1807",
           9
          ],
          [
           "Murça",
           "11D1707",
           5.6
          ],
          [
           "Penedono",
           "11D1812",
           15
          ],
          [
           "Peso da Régua",
           "11D1708",
           2.2
          ],
          [
           "Sabrosa",
           "11D1710",
           8.8
          ],
          [
           "Santa Marta de Penaguião",
           "11D1711",
           8.6
          ],
          [
           "São João da Pesqueira",
           "11D1815",
           6.1
          ],
          [
           "Sernancelhe",
           "11D1818",
           15.9
          ],
          [
           "Tabuaço",
           "11D1819",
           3.6
          ],
          [
           "Tarouca",
           "11D1820",
           11.6
          ],
          [
           "Torre de Moncorvo",
           "11D0409",
           8.1
          ],
          [
           "Vila Nova de Foz Côa",
           "11D0914",
           6.1
          ],
          [
           "Vila Real",
           "11D1714",
           13.8
          ],
          [
           "Alfândega da Fé",
           "11E0401",
           17.6
          ],
          [
           "Bragança",
           "11E0402",
           16.4
          ],
          [
           "Macedo de Cavaleiros",
           "11E0405",
           3.7
          ],
          [
           "Miranda do Douro",
           "11E0406",
           6.6
          ],
          [
           "Mirandela",
           "11E0407",
           8.1
          ],
          [
           "Mogadouro",
           "11E0408",
           12.7
          ],
          [
           "Vila Flor",
           "11E0410",
           10.8
          ],
          [
           "Vimioso",
           "11E0411",
           7.1
          ],
          [
           "Vinhais",
           "11E0412",
           5.7
          ],
          [
           "Alcobaça",
           "16B1001",
           10.3
          ],
          [
           "Alenquer",
           "16B1101",
           6.9
          ],
          [
           "Arruda dos Vinhos",
           "16B1102",
           7.6
          ],
          [
           "Bombarral",
           "16B1005",
           3.7
          ],
          [
           "Cadaval",
           "16B1104",
           4.9
          ],
          [
           "Caldas da Rainha",
           "16B1006",
           13.6
          ],
          [
           "Lourinhã",
           "16B1108",
           4.8
          ],
          [
           "Nazaré",
           "16B1011",
           21.9
          ],
          [
           "Óbidos",
           "16B1012",
           3.1
          ],
          [
           "Peniche",
           "16B1014",
           6.6
          ],
          [
           "Sobral de Monte Agraço",
           "16B1112",
           15.1
          ],
          [
           "Torres Vedras",
           "16B1113",
           7
          ],
          [
           "Águeda",
           "16D0101",
           11.5
          ],
          [
           "Albergaria-a-Velha",
           "16D0102",
           17.3
          ],
          [
           "Anadia",
           "16D0103",
           6.8
          ],
          [
           "Aveiro",
           "16D0105",
           12.5
          ],
          [
           "Estarreja",
           "16D0108",
           10.5
          ],
          [
           "Ílhavo",
           "16D0110",
           15.4
          ],
          [
           "Murtosa",
           "16D0112",
           14.4
          ],
          [
           "Oliveira do Bairro",
           "16D0114",
           9.2
          ],
          [
           "Ovar",
           "16D0115",
           10.5
          ],
          [
           "Sever do Vouga",
           "16D0117",
           6.6
          ],
          [
           "Vagos",
           "16D0118",
           8.2
          ],
          [
           "Arganil",
           "16E0601",
           9.5
          ],
          [
           "Cantanhede",
           "16E0602",
           8
          ],
          [
           "Coimbra",
           "16E0603",
           13.3
          ],
          [
           "Condeixa-a-Nova",
           "16E0604",
           14.2
          ],
          [
           "Figueira da Foz",
           "16E0605",
           11.5
          ],
          [
           "Góis",
           "16E0606",
           13.4
          ],
          [
           "Lousã",
           "16E0607",
           22.3
          ],
          [
           "Mealhada",
           "16E0111",
           11.2
          ],
          [
           "Mira",
           "16E0608",
           8.1
          ],
          [
           "Miranda do Corvo",
           "16E0609",
           6.6
          ],
          [
           "Montemor-o-Velho",
           "16E0610",
           12.7
          ],
          [
           "Mortágua",
           "16E1808",
           16.5
          ],
          [
           "Oliveira do Hospital",
           "16E0611",
           6.6
          ],
          [
           "Pampilhosa da Serra",
           "16E0612",
           12.7
          ],
          [
           "Penacova",
           "16E0613",
           13.1
          ],
          [
           "Penela",
           "16E0614",
           16
          ],
          [
           "Soure",
           "16E0615",
           7.8
          ],
          [
           "Tábua",
           "16E0616",
           5.5
          ],
          [
           "Vila Nova de Poiares",
           "16E0617",
           7.5
          ],
          [
           "Alvaiázere",
           "16F1002",
           12.4
          ],
          [
           "Ansião",
           "16F1003",
           10.5
          ],
          [
           "Batalha",
           "16F1004",
           12.9
          ],
          [
           "Castanheira de Pêra",
           "16F1007",
           3.9
          ],
          [
           "Figueiró dos Vinhos",
           "16F1008",
           10.1
          ],
          [
           "Leiria",
           "16F1009",
           9.4
          ],
          [
           "Marinha Grande",
           "16F1010",
           12.5
          ],
          [
           "Pedrógão Grande",
           "16F1013",
           12.1
          ],
          [
           "Pombal",
           "16F1015",
           11.9
          ],
          [
           "Porto de Mós",
           "16F1016",
           7.3
          ],
          [
           "Aguiar da Beira",
           "16G0901",
           7.1
          ],
          [
           "Carregal do Sal",
           "16G1802",
           7.4
          ],
          [
           "Castro Daire",
           "16G1803",
           4.3
          ],
          [
           "Mangualde",
           "16G1806",
           3.9
          ],
          [
           "Nelas",
           "16G1809",
           3.1
          ],
          [
           "Oliveira de Frades",
           "16G1810",
           10
          ],
          [
           "Penalva do Castelo",
           "16G1811",
           9.4
          ],
          [
           "Santa Comba Dão",
           "16G1814",
           8.4
          ],
          [
           "São Pedro do Sul",
           "16G1816",
           8.1
          ],
          [
           "Sátão",
           "16G1817",
           11.7
          ],
          [
           "Tondela",
           "16G1821",
           7.7
          ],
          [
           "Vila Nova de Paiva",
           "16G1822",
           8.2
          ],
          [
           "Viseu",
           "16G1823",
           9.8
          ],
          [
           "Vouzela",
           "16G1824",
           12.4
          ],
          [
           "Castelo Branco",
           "16H0502",
           14.4
          ],
          [
           "Idanha-a-Nova",
           "16H0505",
           21.5
          ],
          [
           "Oleiros",
           "16H0506",
           7.7
          ],
          [
           "Penamacor",
           "16H0507",
           21.6
          ],
          [
           "Proença-a-Nova",
           "16H0508",
           12.1
          ],
          [
           "Vila Velha de Ródão",
           "16H0511",
           8.7
          ],
          [
           "Abrantes",
           "16I1401",
           22.8
          ],
          [
           "Alcanena",
           "16I1402",
           10.6
          ],
          [
           "Constância",
           "16I1408",
           19.4
          ],
          [
           "Entroncamento",
           "16I1410",
           9.8
          ],
          [
           "Ferreira do Zêzere",
           "16I1411",
           8.2
          ],
          [
           "Mação",
           "16I1413",
           18.3
          ],
          [
           "Ourém",
           "16I1421",
           12.7
          ],
          [
           "Sardoal",
           "16I1417",
           21.7
          ],
          [
           "Sertã",
           "16I0509",
           15.4
          ],
          [
           "Tomar",
           "16I1418",
           11.9
          ],
          [
           "Torres Novas",
           "16I1419",
           15.7
          ],
          [
           "Vila de Rei",
           "16I0510",
           11
          ],
          [
           "Vila Nova da Barquinha",
           "16I1420",
           6.9
          ],
          [
           "Almeida",
           "16J0902",
           12.4
          ],
          [
           "Belmonte",
           "16J0501",
           7.3
          ],
          [
           "Celorico da Beira",
           "16J0903",
           6.3
          ],
          [
           "Covilhã",
           "16J0503",
           8.4
          ],
          [
           "Figueira de Castelo Rodrigo",
           "16J0904",
           2.4
          ],
          [
           "Fornos de Algodres",
           "16J0905",
           4.2
          ],
          [
           "Fundão",
           "16J0504",
           3.5
          ],
          [
           "Gouveia",
           "16J0906",
           11.8
          ],
          [
           "Guarda",
           "16J0907",
           7.1
          ],
          [
           "Manteigas",
           "16J0908",
           8.1
          ],
          [
           "Mêda",
           "16J0909",
           7.3
          ],
          [
           "Pinhel",
           "16J0910",
           9.1
          ],
          [
           "Sabugal",
           "16J0911",
           10.5
          ],
          [
           "Seia",
           "16J0912",
           11.9
          ],
          [
           "Trancoso",
           "16J0913",
           17.7
          ],
          [
           "Alcochete",
           "1701502",
           6
          ],
          [
           "Almada",
           "1701503",
           11.1
          ],
          [
           "Amadora",
           "1701115",
           8.1
          ],
          [
           "Barreiro",
           "1701504",
           6.4
          ],
          [
           "Cascais",
           "1701105",
           3
          ],
          [
           "Lisboa",
           "1701106",
           7.8
          ],
          [
           "Loures",
           "1701107",
           3.6
          ],
          [
           "Mafra",
           "1701109",
           5
          ],
          [
           "Moita",
           "1701506",
           10.2
          ],
          [
           "Montijo",
           "1701507",
           6.3
          ],
          [
           "Odivelas",
           "1701116",
           7.7
          ],
          [
           "Oeiras",
           "1701110",
           3.5
          ],
          [
           "Palmela",
           "1701508",
           8.9
          ],
          [
           "Seixal",
           "1701510",
           9.4
          ],
          [
           "Sesimbra",
           "1701511",
           7.2
          ],
          [
           "Setúbal",
           "1701512",
           6.8
          ],
          [
           "Sintra",
           "1701111",
           3.3
          ],
          [
           "Vila Franca de Xira",
           "1701114",
           9.9
          ],
          [
           "Alcácer do Sal",
           "1811501",
           13.2
          ],
          [
           "Grândola",
           "1811505",
           11.2
          ],
          [
           "Odemira",
           "1810211",
           6.8
          ],
          [
           "Santiago do Cacém",
           "1811509",
           12.7
          ],
          [
           "Sines",
           "1811513",
           10.9
          ],
          [
           "Aljustrel",
           "1840201",
           9.4
          ],
          [
           "Almodôvar",
           "1840202",
           4.3
          ],
          [
           "Alvito",
           "1840203",
           13.4
          ],
          [
           "Barrancos",
           "1840204",
           15
          ],
          [
           "Beja",
           "1840205",
           9.5
          ],
          [
           "Castro Verde",
           "1840206",
           12
          ],
          [
           "Cuba",
           "1840207",
           15
          ],
          [
           "Ferreira do Alentejo",
           "1840208",
           5.2
          ],
          [
           "Mértola",
           "1840209",
           7.9
          ],
          [
           "Moura",
           "1840210",
           8.9
          ],
          [
           "Ourique",
           "1840212",
           6.6
          ],
          [
           "Serpa",
           "1840213",
           21.7
          ],
          [
           "Vidigueira",
           "1840214",
           9.6
          ],
          [
           "Almeirim",
           "1851403",
           8.2
          ],
          [
           "Alpiarça",
           "1851404",
           9
          ],
          [
           "Azambuja",
           "1851103",
           7.5
          ],
          [
           "Benavente",
           "1851405",
           16.2
          ],
          [
           "Cartaxo",
           "1851406",
           5
          ],
          [
           "Chamusca",
           "1851407",
           7.8
          ],
          [
           "Coruche",
           "1851409",
           12.2
          ],
          [
           "Golegã",
           "1851412",
           15
          ],
          [
           "Rio Maior",
           "1851414",
           12.3
          ],
          [
           "Salvaterra de Magos",
           "1851415",
           13.8
          ],
          [
           "Santarém",
           "1851416",
           11.5
          ],
          [
           "Alter do Chão",
           "1861201",
           16.4
          ],
          [
           "Arronches",
           "1861202",
           17.7
          ],
          [
           "Avis",
           "1861203",
           14.6
          ],
          [
           "Campo Maior",
           "1861204",
           10.1
          ],
          [
           "Castelo de Vide",
           "1861205",
           19.8
          ],
          [
           "Crato",
           "1861206",
           10.3
          ],
          [
           "Elvas",
           "1861207",
           20.4
          ],
          [
           "Fronteira",
           "1861208",
           9.6
          ],
          [
           "Gavião",
           "1861209",
           4.7
          ],
          [
           "Marvão",
           "1861210",
           3.2
          ],
          [
           "Monforte",
           "1861211",
           6.5
          ],
          [
           "Nisa",
           "1861212",
           15.5
          ],
          [
           "Ponte de Sor",
           "1861213",
           13.7
          ],
          [
           "Portalegre",
           "1861214",
           7.3
          ],
          [
           "Sousel",
           "1861215",
           8.4
          ],
          [
           "Alandroal",
           "1870701",
           7.4
          ],
          [
           "Arraiolos",
           "1870702",
           13.9
          ],
          [
           "Borba",
           "1870703",
           11.6
          ],
          [
           "Estremoz",
           "1870704",
           3.7
          ],
          [
           "Évora",
           "1870705",
           8.2
          ],
          [
           "Montemor-o-Novo",
           "1870706",
           16
          ],
          [
           "Mora",
           "1870707",
           11.6
          ],
          [
           "Mourão",
           "1870708",
           19.5
          ],
          [
           "Portel",
           "1870709",
           20.4
          ],
          [
           "Redondo",
           "1870710",
           15
          ],
          [
           "Reguengos de Monsaraz",
           "1870711",
           10.3
          ],
          [
           "Vendas Novas",
           "1870712",
           7
          ],
          [
           "Viana do Alentejo",
           "1870713",
           22.6
          ],
          [
           "Vila Viçosa",
           "1870714",
           8.8
          ],
          [
           "Albufeira",
           "1500801",
           7.3
          ],
          [
           "Alcoutim",
           "1500802",
           11.4
          ],
          [
           "Aljezur",
           "1500803",
           9.6
          ],
          [
           "Castro Marim",
           "1500804",
           12.2
          ],
          [
           "Faro",
           "1500805",
           11.5
          ],
          [
           "Lagoa",
           "1500806",
           16.1
          ],
          [
           "Lagos",
           "1500807",
           16.2
          ],
          [
           "Loulé",
           "1500808",
           11.9
          ],
          [
           "Monchique",
           "1500809",
           5.5
          ],
          [
           "Olhão",
           "1500810",
           8.1
          ],
          [
           "Portimão",
           "1500811",
           9.3
          ],
          [
           "São Brás de Alportel",
           "1500812",
           16.4
          ],
          [
           "Silves",
           "1500813",
           10.8
          ],
          [
           "Tavira",
           "1500814",
           16.9
          ],
          [
           "Vila do Bispo",
           "1500815",
           7.3
          ],
          [
           "Vila Real de Santo António",
           "1500816",
           9.3
          ],
          [
           "Angra do Heroísmo",
           "2004301",
           13.3
          ],
          [
           "Calheta",
           "2004501",
           2.4
          ],
          [
           "Corvo",
           "2004901",
           1.5
          ],
          [
           "Horta",
           "2004701",
           8.8
          ],
          [
           "Lagoa",
           "2004201",
           7
          ],
          [
           "Lajes das Flores",
           "2004801",
           5.2
          ],
          [
           "Lajes do Pico",
           "2004601",
           6.6
          ],
          [
           "Madalena",
           "2004602",
           10.6
          ],
          [
           "Nordeste",
           "2004202",
           5
          ],
          [
           "Ponta Delgada",
           "2004203",
           9
          ],
          [
           "Povoação",
           "2004204",
           2.7
          ],
          [
           "Ribeira Grande",
           "2004205",
           8.5
          ],
          [
           "Santa Cruz da Graciosa",
           "2004401",
           9.9
          ],
          [
           "Santa Cruz das Flores",
           "2004802",
           6.4
          ],
          [
           "São Roque do Pico",
           "2004603",
           13.7
          ],
          [
           "Velas",
           "2004502",
           7.7
          ],
          [
           "Vila da Praia da Vitória",
           "2004302",
           3.5
          ],
          [
           "Vila do Porto",
           "2004101",
           12.6
          ],
          [
           "Vila Franca do Campo",
           "2004206",
           8.4
          ],
          [
           "Calheta",
           "3003101",
           6.4
          ],
          [
           "Câmara de Lobos",
           "3003102",
           14
          ],
          [
           "Funchal",
           "3003103",
           3.1
          ],
          [
           "Machico",
           "3003104",
           11.1
          ],
          [
           "Ponta do Sol",
           "3003105",
           16
          ],
          [
           "Porto Moniz",
           "3003106",
           3.9
          ],
          [
           "Porto Santo",
           "3003201",
           12.6
          ],
          [
           "Ribeira Brava",
           "3003107",
           7.2
          ],
          [
           "Santa Cruz",
           "3003108",
           3.7
          ],
          [
           "Santana",
           "3003109",
           6.3
          ],
          [
           "São Vicente",
           "3003110",
           11.3
          ]
         ],
         "hovertemplate": "valor=%{x}<br>y=%{y}<br>local=%{customdata[0]}<br>codigo=%{customdata[1]}<br>Despesas das câmaras municipais em cultura e desporto no total de despesas=%{customdata[2]}<br>cluster_despesas_cm_cult_desporto=%{marker.color}<extra></extra>",
         "legendgroup": "",
         "marker": {
          "color": {
           "bdata": "AgEAAgIBAQIAAwACAQIAAAABAQECAAIAAgAAAgIBAAICAQEBAAMCAQABAgMCAQICAQADAgIAAgEBAgEDAgAAAgEAAgABAQACAAIBAAIDAgAAAQIBAQABAQEAAAIAAwAAAgECAwECAQICAQEAAQEBAgICAgMCAQACAgACAgIBAAECAQIAAQECAgIBAQEAAAABAQEBAgEBAQICAwEDAgEDAQMBAQMCAwICAgEBAgEAAQAAAAIBAQEBAQIDAAIBAAABAAABAAEAAQEBAQABAgIBAgEBAAICAQICAAEBAAMBAQEBAgABAgICAgICAwIBAwEDAQAAAAICAQEBAgIAAQICAwMCAQEDAQECAQICAgICAAEBAgECAQECAAABAQAAAQABAAEBAAIBAAIBAAIAAgIAAgEAAAI=",
           "dtype": "i1"
          },
          "coloraxis": "coloraxis",
          "size": 10,
          "symbol": "circle"
         },
         "mode": "markers",
         "name": "",
         "orientation": "v",
         "showlegend": false,
         "type": "scatter",
         "x": {
          "bdata": "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",
          "dtype": "f8"
         },
         "xaxis": "x",
         "y": {
          "bdata": "AAAAAAAAAAAAAAAAAAAAAAAAAAAAAAAAAAAAAAAAAAAAAAAAAAAAAAAAAAAAAAAAAAAAAAAAAAAAAAAAAAAAAAAAAAAAAAAAAAAAAAAAAAAAAAAAAAAAAAAAAAAAAAAAAAAAAAAAAAAAAAAAAAAAAAAAAAAAAAAAAAAAAAAAAAAAAAAAAAAAAAAAAAAAAAAAAAAAAAAAAAAAAAAAAAAAAAAAAAAAAAAAAAAAAAAAAAAAAAAAAAAAAAAAAAAAAAAAAAAAAAAAAAAAAAAAAAAAAAAAAAAAAAAAAAAAAAAAAAAAAAAAAAAAAAAAAAAAAAAAAAAAAAAAAAAAAAAAAAAAAAAAAAAAAAAAAAAAAAAAAAAAAAAAAAAAAAAAAAAAAAAAAAAAAAAAAAAAAAAAAAAAAAAAAAA=",
          "dtype": "i1"
         },
         "yaxis": "y"
        }
       ],
       "layout": {
        "coloraxis": {
         "colorbar": {
          "title": {
           "text": "cluster_despesas_cm_cult_desporto"
          }
         },
         "colorscale": [
          [
           0,
           "#440154"
          ],
          [
           0.1111111111111111,
           "#482878"
          ],
          [
           0.2222222222222222,
           "#3e4989"
          ],
          [
           0.3333333333333333,
           "#31688e"
          ],
          [
           0.4444444444444444,
           "#26828e"
          ],
          [
           0.5555555555555556,
           "#1f9e89"
          ],
          [
           0.6666666666666666,
           "#35b779"
          ],
          [
           0.7777777777777778,
           "#6ece58"
          ],
          [
           0.8888888888888888,
           "#b5de2b"
          ],
          [
           1,
           "#fde725"
          ]
         ]
        },
        "height": 300,
        "legend": {
         "tracegroupgap": 0
        },
        "margin": {
         "t": 60
        },
        "template": {
         "data": {
          "bar": [
           {
            "error_x": {
             "color": "#2a3f5f"
            },
            "error_y": {
             "color": "#2a3f5f"
            },
            "marker": {
             "line": {
              "color": "#E5ECF6",
              "width": 0.5
             },
             "pattern": {
              "fillmode": "overlay",
              "size": 10,
              "solidity": 0.2
             }
            },
            "type": "bar"
           }
          ],
          "barpolar": [
           {
            "marker": {
             "line": {
              "color": "#E5ECF6",
              "width": 0.5
             },
             "pattern": {
              "fillmode": "overlay",
              "size": 10,
              "solidity": 0.2
             }
            },
            "type": "barpolar"
           }
          ],
          "carpet": [
           {
            "aaxis": {
             "endlinecolor": "#2a3f5f",
             "gridcolor": "white",
             "linecolor": "white",
             "minorgridcolor": "white",
             "startlinecolor": "#2a3f5f"
            },
            "baxis": {
             "endlinecolor": "#2a3f5f",
             "gridcolor": "white",
             "linecolor": "white",
             "minorgridcolor": "white",
             "startlinecolor": "#2a3f5f"
            },
            "type": "carpet"
           }
          ],
          "choropleth": [
           {
            "colorbar": {
             "outlinewidth": 0,
             "ticks": ""
            },
            "type": "choropleth"
           }
          ],
          "contour": [
           {
            "colorbar": {
             "outlinewidth": 0,
             "ticks": ""
            },
            "colorscale": [
             [
              0,
              "#0d0887"
             ],
             [
              0.1111111111111111,
              "#46039f"
             ],
             [
              0.2222222222222222,
              "#7201a8"
             ],
             [
              0.3333333333333333,
              "#9c179e"
             ],
             [
              0.4444444444444444,
              "#bd3786"
             ],
             [
              0.5555555555555556,
              "#d8576b"
             ],
             [
              0.6666666666666666,
              "#ed7953"
             ],
             [
              0.7777777777777778,
              "#fb9f3a"
             ],
             [
              0.8888888888888888,
              "#fdca26"
             ],
             [
              1,
              "#f0f921"
             ]
            ],
            "type": "contour"
           }
          ],
          "contourcarpet": [
           {
            "colorbar": {
             "outlinewidth": 0,
             "ticks": ""
            },
            "type": "contourcarpet"
           }
          ],
          "heatmap": [
           {
            "colorbar": {
             "outlinewidth": 0,
             "ticks": ""
            },
            "colorscale": [
             [
              0,
              "#0d0887"
             ],
             [
              0.1111111111111111,
              "#46039f"
             ],
             [
              0.2222222222222222,
              "#7201a8"
             ],
             [
              0.3333333333333333,
              "#9c179e"
             ],
             [
              0.4444444444444444,
              "#bd3786"
             ],
             [
              0.5555555555555556,
              "#d8576b"
             ],
             [
              0.6666666666666666,
              "#ed7953"
             ],
             [
              0.7777777777777778,
              "#fb9f3a"
             ],
             [
              0.8888888888888888,
              "#fdca26"
             ],
             [
              1,
              "#f0f921"
             ]
            ],
            "type": "heatmap"
           }
          ],
          "histogram": [
           {
            "marker": {
             "pattern": {
              "fillmode": "overlay",
              "size": 10,
              "solidity": 0.2
             }
            },
            "type": "histogram"
           }
          ],
          "histogram2d": [
           {
            "colorbar": {
             "outlinewidth": 0,
             "ticks": ""
            },
            "colorscale": [
             [
              0,
              "#0d0887"
             ],
             [
              0.1111111111111111,
              "#46039f"
             ],
             [
              0.2222222222222222,
              "#7201a8"
             ],
             [
              0.3333333333333333,
              "#9c179e"
             ],
             [
              0.4444444444444444,
              "#bd3786"
             ],
             [
              0.5555555555555556,
              "#d8576b"
             ],
             [
              0.6666666666666666,
              "#ed7953"
             ],
             [
              0.7777777777777778,
              "#fb9f3a"
             ],
             [
              0.8888888888888888,
              "#fdca26"
             ],
             [
              1,
              "#f0f921"
             ]
            ],
            "type": "histogram2d"
           }
          ],
          "histogram2dcontour": [
           {
            "colorbar": {
             "outlinewidth": 0,
             "ticks": ""
            },
            "colorscale": [
             [
              0,
              "#0d0887"
             ],
             [
              0.1111111111111111,
              "#46039f"
             ],
             [
              0.2222222222222222,
              "#7201a8"
             ],
             [
              0.3333333333333333,
              "#9c179e"
             ],
             [
              0.4444444444444444,
              "#bd3786"
             ],
             [
              0.5555555555555556,
              "#d8576b"
             ],
             [
              0.6666666666666666,
              "#ed7953"
             ],
             [
              0.7777777777777778,
              "#fb9f3a"
             ],
             [
              0.8888888888888888,
              "#fdca26"
             ],
             [
              1,
              "#f0f921"
             ]
            ],
            "type": "histogram2dcontour"
           }
          ],
          "mesh3d": [
           {
            "colorbar": {
             "outlinewidth": 0,
             "ticks": ""
            },
            "type": "mesh3d"
           }
          ],
          "parcoords": [
           {
            "line": {
             "colorbar": {
              "outlinewidth": 0,
              "ticks": ""
             }
            },
            "type": "parcoords"
           }
          ],
          "pie": [
           {
            "automargin": true,
            "type": "pie"
           }
          ],
          "scatter": [
           {
            "fillpattern": {
             "fillmode": "overlay",
             "size": 10,
             "solidity": 0.2
            },
            "type": "scatter"
           }
          ],
          "scatter3d": [
           {
            "line": {
             "colorbar": {
              "outlinewidth": 0,
              "ticks": ""
             }
            },
            "marker": {
             "colorbar": {
              "outlinewidth": 0,
              "ticks": ""
             }
            },
            "type": "scatter3d"
           }
          ],
          "scattercarpet": [
           {
            "marker": {
             "colorbar": {
              "outlinewidth": 0,
              "ticks": ""
             }
            },
            "type": "scattercarpet"
           }
          ],
          "scattergeo": [
           {
            "marker": {
             "colorbar": {
              "outlinewidth": 0,
              "ticks": ""
             }
            },
            "type": "scattergeo"
           }
          ],
          "scattergl": [
           {
            "marker": {
             "colorbar": {
              "outlinewidth": 0,
              "ticks": ""
             }
            },
            "type": "scattergl"
           }
          ],
          "scattermap": [
           {
            "marker": {
             "colorbar": {
              "outlinewidth": 0,
              "ticks": ""
             }
            },
            "type": "scattermap"
           }
          ],
          "scattermapbox": [
           {
            "marker": {
             "colorbar": {
              "outlinewidth": 0,
              "ticks": ""
             }
            },
            "type": "scattermapbox"
           }
          ],
          "scatterpolar": [
           {
            "marker": {
             "colorbar": {
              "outlinewidth": 0,
              "ticks": ""
             }
            },
            "type": "scatterpolar"
           }
          ],
          "scatterpolargl": [
           {
            "marker": {
             "colorbar": {
              "outlinewidth": 0,
              "ticks": ""
             }
            },
            "type": "scatterpolargl"
           }
          ],
          "scatterternary": [
           {
            "marker": {
             "colorbar": {
              "outlinewidth": 0,
              "ticks": ""
             }
            },
            "type": "scatterternary"
           }
          ],
          "surface": [
           {
            "colorbar": {
             "outlinewidth": 0,
             "ticks": ""
            },
            "colorscale": [
             [
              0,
              "#0d0887"
             ],
             [
              0.1111111111111111,
              "#46039f"
             ],
             [
              0.2222222222222222,
              "#7201a8"
             ],
             [
              0.3333333333333333,
              "#9c179e"
             ],
             [
              0.4444444444444444,
              "#bd3786"
             ],
             [
              0.5555555555555556,
              "#d8576b"
             ],
             [
              0.6666666666666666,
              "#ed7953"
             ],
             [
              0.7777777777777778,
              "#fb9f3a"
             ],
             [
              0.8888888888888888,
              "#fdca26"
             ],
             [
              1,
              "#f0f921"
             ]
            ],
            "type": "surface"
           }
          ],
          "table": [
           {
            "cells": {
             "fill": {
              "color": "#EBF0F8"
             },
             "line": {
              "color": "white"
             }
            },
            "header": {
             "fill": {
              "color": "#C8D4E3"
             },
             "line": {
              "color": "white"
             }
            },
            "type": "table"
           }
          ]
         },
         "layout": {
          "annotationdefaults": {
           "arrowcolor": "#2a3f5f",
           "arrowhead": 0,
           "arrowwidth": 1
          },
          "autotypenumbers": "strict",
          "coloraxis": {
           "colorbar": {
            "outlinewidth": 0,
            "ticks": ""
           }
          },
          "colorscale": {
           "diverging": [
            [
             0,
             "#8e0152"
            ],
            [
             0.1,
             "#c51b7d"
            ],
            [
             0.2,
             "#de77ae"
            ],
            [
             0.3,
             "#f1b6da"
            ],
            [
             0.4,
             "#fde0ef"
            ],
            [
             0.5,
             "#f7f7f7"
            ],
            [
             0.6,
             "#e6f5d0"
            ],
            [
             0.7,
             "#b8e186"
            ],
            [
             0.8,
             "#7fbc41"
            ],
            [
             0.9,
             "#4d9221"
            ],
            [
             1,
             "#276419"
            ]
           ],
           "sequential": [
            [
             0,
             "#0d0887"
            ],
            [
             0.1111111111111111,
             "#46039f"
            ],
            [
             0.2222222222222222,
             "#7201a8"
            ],
            [
             0.3333333333333333,
             "#9c179e"
            ],
            [
             0.4444444444444444,
             "#bd3786"
            ],
            [
             0.5555555555555556,
             "#d8576b"
            ],
            [
             0.6666666666666666,
             "#ed7953"
            ],
            [
             0.7777777777777778,
             "#fb9f3a"
            ],
            [
             0.8888888888888888,
             "#fdca26"
            ],
            [
             1,
             "#f0f921"
            ]
           ],
           "sequentialminus": [
            [
             0,
             "#0d0887"
            ],
            [
             0.1111111111111111,
             "#46039f"
            ],
            [
             0.2222222222222222,
             "#7201a8"
            ],
            [
             0.3333333333333333,
             "#9c179e"
            ],
            [
             0.4444444444444444,
             "#bd3786"
            ],
            [
             0.5555555555555556,
             "#d8576b"
            ],
            [
             0.6666666666666666,
             "#ed7953"
            ],
            [
             0.7777777777777778,
             "#fb9f3a"
            ],
            [
             0.8888888888888888,
             "#fdca26"
            ],
            [
             1,
             "#f0f921"
            ]
           ]
          },
          "colorway": [
           "#636efa",
           "#EF553B",
           "#00cc96",
           "#ab63fa",
           "#FFA15A",
           "#19d3f3",
           "#FF6692",
           "#B6E880",
           "#FF97FF",
           "#FECB52"
          ],
          "font": {
           "color": "#2a3f5f"
          },
          "geo": {
           "bgcolor": "white",
           "lakecolor": "white",
           "landcolor": "#E5ECF6",
           "showlakes": true,
           "showland": true,
           "subunitcolor": "white"
          },
          "hoverlabel": {
           "align": "left"
          },
          "hovermode": "closest",
          "mapbox": {
           "style": "light"
          },
          "paper_bgcolor": "white",
          "plot_bgcolor": "#E5ECF6",
          "polar": {
           "angularaxis": {
            "gridcolor": "white",
            "linecolor": "white",
            "ticks": ""
           },
           "bgcolor": "#E5ECF6",
           "radialaxis": {
            "gridcolor": "white",
            "linecolor": "white",
            "ticks": ""
           }
          },
          "scene": {
           "xaxis": {
            "backgroundcolor": "#E5ECF6",
            "gridcolor": "white",
            "gridwidth": 2,
            "linecolor": "white",
            "showbackground": true,
            "ticks": "",
            "zerolinecolor": "white"
           },
           "yaxis": {
            "backgroundcolor": "#E5ECF6",
            "gridcolor": "white",
            "gridwidth": 2,
            "linecolor": "white",
            "showbackground": true,
            "ticks": "",
            "zerolinecolor": "white"
           },
           "zaxis": {
            "backgroundcolor": "#E5ECF6",
            "gridcolor": "white",
            "gridwidth": 2,
            "linecolor": "white",
            "showbackground": true,
            "ticks": "",
            "zerolinecolor": "white"
           }
          },
          "shapedefaults": {
           "line": {
            "color": "#2a3f5f"
           }
          },
          "ternary": {
           "aaxis": {
            "gridcolor": "white",
            "linecolor": "white",
            "ticks": ""
           },
           "baxis": {
            "gridcolor": "white",
            "linecolor": "white",
            "ticks": ""
           },
           "bgcolor": "#E5ECF6",
           "caxis": {
            "gridcolor": "white",
            "linecolor": "white",
            "ticks": ""
           }
          },
          "title": {
           "x": 0.05
          },
          "xaxis": {
           "automargin": true,
           "gridcolor": "white",
           "linecolor": "white",
           "ticks": "",
           "title": {
            "standoff": 15
           },
           "zerolinecolor": "white",
           "zerolinewidth": 2
          },
          "yaxis": {
           "automargin": true,
           "gridcolor": "white",
           "linecolor": "white",
           "ticks": "",
           "title": {
            "standoff": 15
           },
           "zerolinecolor": "white",
           "zerolinewidth": 2
          }
         }
        },
        "xaxis": {
         "anchor": "y",
         "domain": [
          0,
          1
         ],
         "title": {
          "text": "Despesas das câmaras municipais em cultura e desporto no total de despesas"
         }
        },
        "yaxis": {
         "anchor": "x",
         "domain": [
          0,
          1
         ],
         "showgrid": false,
         "showticklabels": false,
         "title": {
          "text": "y"
         }
        }
       }
      }
     },
     "metadata": {},
     "output_type": "display_data"
    },
    {
     "name": "stdout",
     "output_type": "stream",
     "text": [
      "cluster_despesas_cm_cult_desporto\n",
      "0     72\n",
      "1    112\n",
      "2    101\n",
      "3     23\n",
      "Name: count, dtype: int64\n"
     ]
    },
    {
     "data": {
      "text/html": [
       "<div>\n",
       "<style scoped>\n",
       "    .dataframe tbody tr th:only-of-type {\n",
       "        vertical-align: middle;\n",
       "    }\n",
       "\n",
       "    .dataframe tbody tr th {\n",
       "        vertical-align: top;\n",
       "    }\n",
       "\n",
       "    .dataframe thead th {\n",
       "        text-align: right;\n",
       "    }\n",
       "</style>\n",
       "<table border=\"1\" class=\"dataframe\">\n",
       "  <thead>\n",
       "    <tr style=\"text-align: right;\">\n",
       "      <th></th>\n",
       "      <th>local</th>\n",
       "      <th>codigo</th>\n",
       "      <th>Despesas das câmaras municipais em cultura e desporto no total de despesas</th>\n",
       "      <th>cluster_despesas_cm_cult_desporto</th>\n",
       "    </tr>\n",
       "  </thead>\n",
       "  <tbody>\n",
       "    <tr>\n",
       "      <th>4</th>\n",
       "      <td>Arcos de Valdevez</td>\n",
       "      <td>1111601</td>\n",
       "      <td>15.3</td>\n",
       "      <td>2</td>\n",
       "    </tr>\n",
       "    <tr>\n",
       "      <th>5</th>\n",
       "      <td>Caminha</td>\n",
       "      <td>1111602</td>\n",
       "      <td>8.0</td>\n",
       "      <td>1</td>\n",
       "    </tr>\n",
       "    <tr>\n",
       "      <th>6</th>\n",
       "      <td>Melgaço</td>\n",
       "      <td>1111603</td>\n",
       "      <td>5.7</td>\n",
       "      <td>0</td>\n",
       "    </tr>\n",
       "    <tr>\n",
       "      <th>7</th>\n",
       "      <td>Monção</td>\n",
       "      <td>1111604</td>\n",
       "      <td>13.2</td>\n",
       "      <td>2</td>\n",
       "    </tr>\n",
       "    <tr>\n",
       "      <th>8</th>\n",
       "      <td>Paredes de Coura</td>\n",
       "      <td>1111605</td>\n",
       "      <td>13.1</td>\n",
       "      <td>2</td>\n",
       "    </tr>\n",
       "    <tr>\n",
       "      <th>...</th>\n",
       "      <td>...</td>\n",
       "      <td>...</td>\n",
       "      <td>...</td>\n",
       "      <td>...</td>\n",
       "    </tr>\n",
       "    <tr>\n",
       "      <th>339</th>\n",
       "      <td>Porto Santo</td>\n",
       "      <td>3003201</td>\n",
       "      <td>12.6</td>\n",
       "      <td>2</td>\n",
       "    </tr>\n",
       "    <tr>\n",
       "      <th>340</th>\n",
       "      <td>Ribeira Brava</td>\n",
       "      <td>3003107</td>\n",
       "      <td>7.2</td>\n",
       "      <td>1</td>\n",
       "    </tr>\n",
       "    <tr>\n",
       "      <th>341</th>\n",
       "      <td>Santa Cruz</td>\n",
       "      <td>3003108</td>\n",
       "      <td>3.7</td>\n",
       "      <td>0</td>\n",
       "    </tr>\n",
       "    <tr>\n",
       "      <th>342</th>\n",
       "      <td>Santana</td>\n",
       "      <td>3003109</td>\n",
       "      <td>6.3</td>\n",
       "      <td>0</td>\n",
       "    </tr>\n",
       "    <tr>\n",
       "      <th>343</th>\n",
       "      <td>São Vicente</td>\n",
       "      <td>3003110</td>\n",
       "      <td>11.3</td>\n",
       "      <td>2</td>\n",
       "    </tr>\n",
       "  </tbody>\n",
       "</table>\n",
       "<p>308 rows × 4 columns</p>\n",
       "</div>"
      ],
      "text/plain": [
       "                 local   codigo  \\\n",
       "4    Arcos de Valdevez  1111601   \n",
       "5              Caminha  1111602   \n",
       "6              Melgaço  1111603   \n",
       "7               Monção  1111604   \n",
       "8     Paredes de Coura  1111605   \n",
       "..                 ...      ...   \n",
       "339        Porto Santo  3003201   \n",
       "340      Ribeira Brava  3003107   \n",
       "341         Santa Cruz  3003108   \n",
       "342            Santana  3003109   \n",
       "343        São Vicente  3003110   \n",
       "\n",
       "     Despesas das câmaras municipais em cultura e desporto no total de despesas  \\\n",
       "4                                                 15.3                            \n",
       "5                                                  8.0                            \n",
       "6                                                  5.7                            \n",
       "7                                                 13.2                            \n",
       "8                                                 13.1                            \n",
       "..                                                 ...                            \n",
       "339                                               12.6                            \n",
       "340                                                7.2                            \n",
       "341                                                3.7                            \n",
       "342                                                6.3                            \n",
       "343                                               11.3                            \n",
       "\n",
       "     cluster_despesas_cm_cult_desporto  \n",
       "4                                    2  \n",
       "5                                    1  \n",
       "6                                    0  \n",
       "7                                    2  \n",
       "8                                    2  \n",
       "..                                 ...  \n",
       "339                                  2  \n",
       "340                                  1  \n",
       "341                                  0  \n",
       "342                                  0  \n",
       "343                                  2  \n",
       "\n",
       "[308 rows x 4 columns]"
      ]
     },
     "execution_count": 8,
     "metadata": {},
     "output_type": "execute_result"
    }
   ],
   "source": [
    "df_despesas = processar_ficheiro('/Users/joaopino/Principal/2Semester/ADE/project/data/dados_municipio/Cultura_Desporto_e_Lazer_(7)/Despesas das câmaras municipais em cultura e desporto no total de despesas.xls',0)\n",
    "df_despesas = carregar_municipios(df_despesas)\n",
    "aplicar_kmeans(df_despesas,4,nome_cluster='cluster_despesas_cm_cult_desporto')"
   ]
  },
  {
   "cell_type": "markdown",
   "id": "0df65f88",
   "metadata": {},
   "source": [
    "### Análise das Despesas em atividades e equipamentos desportivos dos municípios por habitante"
   ]
  },
  {
   "cell_type": "code",
   "execution_count": null,
   "id": "f8a96c48",
   "metadata": {},
   "outputs": [
    {
     "name": "stdout",
     "output_type": "stream",
     "text": [
      "(308, 3)\n"
     ]
    },
    {
     "data": {
      "application/vnd.plotly.v1+json": {
       "config": {
        "plotlyServerURL": "https://plot.ly"
       },
       "data": [
        {
         "customdata": [
          [
           "Arcos de Valdevez",
           "1111601",
           117.9
          ],
          [
           "Caminha",
           "1111602",
           16.5
          ],
          [
           "Melgaço",
           "1111603",
           19.7
          ],
          [
           "Monção",
           "1111604",
           39.6
          ],
          [
           "Paredes de Coura",
           "1111605",
           43.9
          ],
          [
           "Ponte da Barca",
           "1111606",
           20.3
          ],
          [
           "Ponte de Lima",
           "1111607",
           32.6
          ],
          [
           "Valença",
           "1111608",
           93.2
          ],
          [
           "Viana do Castelo",
           "1111609",
           25.3
          ],
          [
           "Vila Nova de Cerveira",
           "1111610",
           58.9
          ],
          [
           "Amares",
           "1120301",
           19.6
          ],
          [
           "Barcelos",
           "1120302",
           66.9
          ],
          [
           "Braga",
           "1120303",
           17.5
          ],
          [
           "Esposende",
           "1120306",
           35
          ],
          [
           "Terras de Bouro",
           "1120310",
           10.8
          ],
          [
           "Vila Verde",
           "1120313",
           16.9
          ],
          [
           "Cabeceiras de Basto",
           "1190304",
           21.5
          ],
          [
           "Fafe",
           "1190307",
           51
          ],
          [
           "Guimarães",
           "1190308",
           25.2
          ],
          [
           "Mondim de Basto",
           "1191705",
           26.3
          ],
          [
           "Póvoa de Lanhoso",
           "1190309",
           52.7
          ],
          [
           "Vieira do Minho",
           "1190311",
           20
          ],
          [
           "Vila Nova de Famalicão",
           "1190312",
           56.7
          ],
          [
           "Vizela",
           "1190314",
           25.8
          ],
          [
           "Arouca",
           "11A0104",
           103.1
          ],
          [
           "Espinho",
           "11A0107",
           7.8
          ],
          [
           "Gondomar",
           "11A1304",
           22.7
          ],
          [
           "Maia",
           "11A1306",
           67.8
          ],
          [
           "Matosinhos",
           "11A1308",
           83.6
          ],
          [
           "Oliveira de Azeméis",
           "11A0113",
           20
          ],
          [
           "Paredes",
           "11A1310",
           29.5
          ],
          [
           "Porto",
           "11A1312",
           59.4
          ],
          [
           "Póvoa de Varzim",
           "11A1313",
           51.8
          ],
          [
           "Santa Maria da Feira",
           "11A0109",
           29.5
          ],
          [
           "Santo Tirso",
           "11A1314",
           31.9
          ],
          [
           "São João da Madeira",
           "11A0116",
           60.8
          ],
          [
           "Trofa",
           "11A1318",
           6.4
          ],
          [
           "Vale de Cambra",
           "11A0119",
           54.8
          ],
          [
           "Valongo",
           "11A1315",
           44.7
          ],
          [
           "Vila do Conde",
           "11A1316",
           22.2
          ],
          [
           "Vila Nova de Gaia",
           "11A1317",
           27.3
          ],
          [
           "Boticas",
           "11B1702",
           99.9
          ],
          [
           "Chaves",
           "11B1703",
           30.1
          ],
          [
           "Montalegre",
           "11B1706",
           338.7
          ],
          [
           "Ribeira de Pena",
           "11B1709",
           307.8
          ],
          [
           "Valpaços",
           "11B1712",
           53.1
          ],
          [
           "Vila Pouca de Aguiar",
           "11B1713",
           165.6
          ],
          [
           "Amarante",
           "11C1301",
           37.4
          ],
          [
           "Baião",
           "11C1302",
           39.2
          ],
          [
           "Castelo de Paiva",
           "11C0106",
           26
          ],
          [
           "Celorico de Basto",
           "11C0305",
           76.9
          ],
          [
           "Cinfães",
           "11C1804",
           99.9
          ],
          [
           "Felgueiras",
           "11C1303",
           90.7
          ],
          [
           "Lousada",
           "11C1305",
           15.9
          ],
          [
           "Marco de Canaveses",
           "11C1307",
           50.3
          ],
          [
           "Paços de Ferreira",
           "11C1309",
           47.8
          ],
          [
           "Penafiel",
           "11C1311",
           43.9
          ],
          [
           "Resende",
           "11C1813",
           80.1
          ],
          [
           "Alijó",
           "11D1701",
           42.1
          ],
          [
           "Armamar",
           "11D1801",
           548.6
          ],
          [
           "Carrazeda de Ansiães",
           "11D0403",
           49.3
          ],
          [
           "Freixo de Espada à Cinta",
           "11D0404",
           122.6
          ],
          [
           "Lamego",
           "11D1805",
           30.1
          ],
          [
           "Mesão Frio",
           "11D1704",
           64.4
          ],
          [
           "Moimenta da Beira",
           "11D1807",
           63.2
          ],
          [
           "Murça",
           "11D1707",
           30.9
          ],
          [
           "Penedono",
           "11D1812",
           48.3
          ],
          [
           "Peso da Régua",
           "11D1708",
           28.8
          ],
          [
           "Sabrosa",
           "11D1710",
           53.6
          ],
          [
           "Santa Marta de Penaguião",
           "11D1711",
           40.7
          ],
          [
           "São João da Pesqueira",
           "11D1815",
           10.7
          ],
          [
           "Sernancelhe",
           "11D1818",
           72.3
          ],
          [
           "Tabuaço",
           "11D1819",
           13.7
          ],
          [
           "Tarouca",
           "11D1820",
           53.8
          ],
          [
           "Torre de Moncorvo",
           "11D0409",
           115.6
          ],
          [
           "Vila Nova de Foz Côa",
           "11D0914",
           23.1
          ],
          [
           "Vila Real",
           "11D1714",
           67
          ],
          [
           "Alfândega da Fé",
           "11E0401",
           59.3
          ],
          [
           "Bragança",
           "11E0402",
           25.3
          ],
          [
           "Macedo de Cavaleiros",
           "11E0405",
           46
          ],
          [
           "Miranda do Douro",
           "11E0406",
           48.8
          ],
          [
           "Mirandela",
           "11E0407",
           60
          ],
          [
           "Mogadouro",
           "11E0408",
           83.3
          ],
          [
           "Vila Flor",
           "11E0410",
           95.5
          ],
          [
           "Vimioso",
           "11E0411",
           22.9
          ],
          [
           "Vinhais",
           "11E0412",
           76.6
          ],
          [
           "Águeda",
           "1910101",
           38.5
          ],
          [
           "Albergaria-a-Velha",
           "1910102",
           85.1
          ],
          [
           "Anadia",
           "1910103",
           22.7
          ],
          [
           "Aveiro",
           "1910105",
           66.1
          ],
          [
           "Estarreja",
           "1910108",
           54.5
          ],
          [
           "Ílhavo",
           "1910110",
           40.8
          ],
          [
           "Murtosa",
           "1910112",
           41
          ],
          [
           "Oliveira do Bairro",
           "1910114",
           51.3
          ],
          [
           "Ovar",
           "1910115",
           22.2
          ],
          [
           "Sever do Vouga",
           "1910117",
           32
          ],
          [
           "Vagos",
           "1910118",
           41.5
          ],
          [
           "Arganil",
           "1920601",
           41.8
          ],
          [
           "Cantanhede",
           "1920602",
           41
          ],
          [
           "Coimbra",
           "1920603",
           45.1
          ],
          [
           "Condeixa-a-Nova",
           "1920604",
           22.6
          ],
          [
           "Figueira da Foz",
           "1920605",
           14.6
          ],
          [
           "Góis",
           "1920606",
           47.2
          ],
          [
           "Lousã",
           "1920607",
           80.6
          ],
          [
           "Mealhada",
           "1920111",
           83.6
          ],
          [
           "Mira",
           "1920608",
           62.4
          ],
          [
           "Miranda do Corvo",
           "1920609",
           42.3
          ],
          [
           "Montemor-o-Velho",
           "1920610",
           74.7
          ],
          [
           "Mortágua",
           "1921808",
           139.3
          ],
          [
           "Oliveira do Hospital",
           "1920611",
           47.5
          ],
          [
           "Pampilhosa da Serra",
           "1920612",
           51.4
          ],
          [
           "Penacova",
           "1920613",
           60.7
          ],
          [
           "Penela",
           "1920614",
           94.3
          ],
          [
           "Soure",
           "1920615",
           48.3
          ],
          [
           "Tábua",
           "1920616",
           37.2
          ],
          [
           "Vila Nova de Poiares",
           "1920617",
           21.1
          ],
          [
           "Alvaiázere",
           "1931002",
           33.9
          ],
          [
           "Ansião",
           "1931003",
           61.1
          ],
          [
           "Batalha",
           "1931004",
           49.8
          ],
          [
           "Castanheira de Pêra",
           "1931007",
           6.7
          ],
          [
           "Figueiró dos Vinhos",
           "1931008",
           57.5
          ],
          [
           "Leiria",
           "1931009",
           23.1
          ],
          [
           "Marinha Grande",
           "1931010",
           35.5
          ],
          [
           "Pedrógão Grande",
           "1931013",
           80.7
          ],
          [
           "Pombal",
           "1931015",
           44
          ],
          [
           "Porto de Mós",
           "1931016",
           36.2
          ],
          [
           "Aguiar da Beira",
           "1940901",
           23.1
          ],
          [
           "Carregal do Sal",
           "1941802",
           35.5
          ],
          [
           "Castro Daire",
           "1941803",
           31.8
          ],
          [
           "Mangualde",
           "1941806",
           40.7
          ],
          [
           "Nelas",
           "1941809",
           21.3
          ],
          [
           "Oliveira de Frades",
           "1941810",
           66.8
          ],
          [
           "Penalva do Castelo",
           "1941811",
           82.7
          ],
          [
           "Santa Comba Dão",
           "1941814",
           30.5
          ],
          [
           "São Pedro do Sul",
           "1941816",
           75.9
          ],
          [
           "Sátão",
           "1941817",
           89.8
          ],
          [
           "Tondela",
           "1941821",
           40.7
          ],
          [
           "Vila Nova de Paiva",
           "1941822",
           95.3
          ],
          [
           "Viseu",
           "1941823",
           50.2
          ],
          [
           "Vouzela",
           "1941824",
           94.6
          ],
          [
           "Castelo Branco",
           "1950502",
           45.4
          ],
          [
           "Idanha-a-Nova",
           "1950505",
           241.1
          ],
          [
           "Oleiros",
           "1950506",
           79.8
          ],
          [
           "Penamacor",
           "1950507",
           85.2
          ],
          [
           "Proença-a-Nova",
           "1950508",
           122.6
          ],
          [
           "Sertã",
           "1950509",
           124.5
          ],
          [
           "Vila de Rei",
           "1950510",
           99.8
          ],
          [
           "Vila Velha de Ródão",
           "1950511",
           44.7
          ],
          [
           "Almeida",
           "1960902",
           123.9
          ],
          [
           "Belmonte",
           "1960501",
           31.2
          ],
          [
           "Celorico da Beira",
           "1960903",
           50.9
          ],
          [
           "Covilhã",
           "1960503",
           35
          ],
          [
           "Figueira de Castelo Rodrigo",
           "1960904",
           15.5
          ],
          [
           "Fornos de Algodres",
           "1960905",
           41.5
          ],
          [
           "Fundão",
           "1960504",
           24.6
          ],
          [
           "Gouveia",
           "1960906",
           61.7
          ],
          [
           "Guarda",
           "1960907",
           35.8
          ],
          [
           "Manteigas",
           "1960908",
           55.2
          ],
          [
           "Mêda",
           "1960909",
           24.3
          ],
          [
           "Pinhel",
           "1960910",
           33.3
          ],
          [
           "Sabugal",
           "1960911",
           63.5
          ],
          [
           "Seia",
           "1960912",
           42.7
          ],
          [
           "Trancoso",
           "1960913",
           80.3
          ],
          [
           "Alcobaça",
           "1D11001",
           25
          ],
          [
           "Alenquer",
           "1D11101",
           13.1
          ],
          [
           "Arruda dos Vinhos",
           "1D11102",
           36.3
          ],
          [
           "Bombarral",
           "1D11005",
           23.4
          ],
          [
           "Cadaval",
           "1D11104",
           15.4
          ],
          [
           "Caldas da Rainha",
           "1D11006",
           49
          ],
          [
           "Lourinhã",
           "1D11108",
           18
          ],
          [
           "Nazaré",
           "1D11011",
           135.3
          ],
          [
           "Óbidos",
           "1D11012",
           38.4
          ],
          [
           "Peniche",
           "1D11014",
           36.5
          ],
          [
           "Sobral de Monte Agraço",
           "1D11112",
           45.7
          ],
          [
           "Torres Vedras",
           "1D11113",
           14.2
          ],
          [
           "Abrantes",
           "1D21401",
           111.8
          ],
          [
           "Alcanena",
           "1D21402",
           81
          ],
          [
           "Constância",
           "1D21408",
           150.7
          ],
          [
           "Entroncamento",
           "1D21410",
           49.9
          ],
          [
           "Ferreira do Zêzere",
           "1D21411",
           42.1
          ],
          [
           "Mação",
           "1D21413",
           152.4
          ],
          [
           "Ourém",
           "1D21421",
           55.9
          ],
          [
           "Sardoal",
           "1D21417",
           125.9
          ],
          [
           "Tomar",
           "1D21418",
           45
          ],
          [
           "Torres Novas",
           "1D21419",
           57.8
          ],
          [
           "Vila Nova da Barquinha",
           "1D21420",
           39.5
          ],
          [
           "Almeirim",
           "1D31403",
           50.7
          ],
          [
           "Alpiarça",
           "1D31404",
           58.4
          ],
          [
           "Azambuja",
           "1D31103",
           19.5
          ],
          [
           "Benavente",
           "1D31405",
           75.5
          ],
          [
           "Cartaxo",
           "1D31406",
           26
          ],
          [
           "Chamusca",
           "1D31407",
           72.4
          ],
          [
           "Coruche",
           "1D31409",
           70.3
          ],
          [
           "Golegã",
           "1D31412",
           33.4
          ],
          [
           "Rio Maior",
           "1D31414",
           85.2
          ],
          [
           "Salvaterra de Magos",
           "1D31415",
           42.3
          ],
          [
           "Santarém",
           "1D31416",
           50.7
          ],
          [
           "Amadora",
           "1A01115",
           6.4
          ],
          [
           "Cascais",
           "1A01105",
           16.8
          ],
          [
           "Lisboa",
           "1A01106",
           17.6
          ],
          [
           "Loures",
           "1A01107",
           9.2
          ],
          [
           "Mafra",
           "1A01109",
           7.6
          ],
          [
           "Odivelas",
           "1A01116",
           30.9
          ],
          [
           "Oeiras",
           "1A01110",
           20.9
          ],
          [
           "Sintra",
           "1A01111",
           12.8
          ],
          [
           "Vila Franca de Xira",
           "1A01114",
           30.6
          ],
          [
           "Alcochete",
           "1B01502",
           31.4
          ],
          [
           "Almada",
           "1B01503",
           30.7
          ],
          [
           "Barreiro",
           "1B01504",
           16.8
          ],
          [
           "Moita",
           "1B01506",
           49.4
          ],
          [
           "Montijo",
           "1B01507",
           11.4
          ],
          [
           "Palmela",
           "1B01508",
           18.4
          ],
          [
           "Seixal",
           "1B01510",
           54.2
          ],
          [
           "Sesimbra",
           "1B01511",
           30
          ],
          [
           "Setúbal",
           "1B01512",
           17.4
          ],
          [
           "Alcácer do Sal",
           "1C11501",
           152.3
          ],
          [
           "Grândola",
           "1C11505",
           142.5
          ],
          [
           "Odemira",
           "1C10211",
           42
          ],
          [
           "Santiago do Cacém",
           "1C11509",
           60
          ],
          [
           "Sines",
           "1C11513",
           44.2
          ],
          [
           "Aljustrel",
           "1C20201",
           74.6
          ],
          [
           "Almodôvar",
           "1C20202",
           51.6
          ],
          [
           "Alvito",
           "1C20203",
           138.2
          ],
          [
           "Barrancos",
           "1C20204",
           66.2
          ],
          [
           "Beja",
           "1C20205",
           26.6
          ],
          [
           "Castro Verde",
           "1C20206",
           98.8
          ],
          [
           "Cuba",
           "1C20207",
           68.5
          ],
          [
           "Ferreira do Alentejo",
           "1C20208",
           21.6
          ],
          [
           "Mértola",
           "1C20209",
           84.3
          ],
          [
           "Moura",
           "1C20210",
           58.5
          ],
          [
           "Ourique",
           "1C20212",
           39.5
          ],
          [
           "Serpa",
           "1C20213",
           97.4
          ],
          [
           "Vidigueira",
           "1C20214",
           118
          ],
          [
           "Alter do Chão",
           "1C31201",
           124.8
          ],
          [
           "Arronches",
           "1C31202",
           219.9
          ],
          [
           "Avis",
           "1C31203",
           171.2
          ],
          [
           "Campo Maior",
           "1C31204",
           50.5
          ],
          [
           "Castelo de Vide",
           "1C31205",
           173.7
          ],
          [
           "Crato",
           "1C31206",
           109.4
          ],
          [
           "Elvas",
           "1C31207",
           20.8
          ],
          [
           "Fronteira",
           "1C31208",
           86.7
          ],
          [
           "Gavião",
           "1C31209",
           22.7
          ],
          [
           "Marvão",
           "1C31210",
           16
          ],
          [
           "Monforte",
           "1C31211",
           96.3
          ],
          [
           "Nisa",
           "1C31212",
           101.7
          ],
          [
           "Ponte de Sor",
           "1C31213",
           82.2
          ],
          [
           "Portalegre",
           "1C31214",
           34.7
          ],
          [
           "Sousel",
           "1C31215",
           92.5
          ],
          [
           "Alandroal",
           "1C40701",
           63.1
          ],
          [
           "Arraiolos",
           "1C40702",
           92.6
          ],
          [
           "Borba",
           "1C40703",
           30.4
          ],
          [
           "Estremoz",
           "1C40704",
           10.1
          ],
          [
           "Évora",
           "1C40705",
           28.2
          ],
          [
           "Montemor-o-Novo",
           "1C40706",
           105.1
          ],
          [
           "Mora",
           "1C40707",
           55.4
          ],
          [
           "Mourão",
           "1C40708",
           190.3
          ],
          [
           "Portel",
           "1C40709",
           264
          ],
          [
           "Redondo",
           "1C40710",
           50.8
          ],
          [
           "Reguengos de Monsaraz",
           "1C40711",
           74.9
          ],
          [
           "Vendas Novas",
           "1C40712",
           55.3
          ],
          [
           "Viana do Alentejo",
           "1C40713",
           107.6
          ],
          [
           "Vila Viçosa",
           "1C40714",
           57.1
          ],
          [
           "Albufeira",
           "1500801",
           79.7
          ],
          [
           "Alcoutim",
           "1500802",
           145.9
          ],
          [
           "Aljezur",
           "1500803",
           86.9
          ],
          [
           "Castro Marim",
           "1500804",
           75
          ],
          [
           "Faro",
           "1500805",
           46.2
          ],
          [
           "Lagoa",
           "1500806",
           202.4
          ],
          [
           "Lagos",
           "1500807",
           131.9
          ],
          [
           "Loulé",
           "1500808",
           181.2
          ],
          [
           "Monchique",
           "1500809",
           89.1
          ],
          [
           "Olhão",
           "1500810",
           44.9
          ],
          [
           "Portimão",
           "1500811",
           32.7
          ],
          [
           "São Brás de Alportel",
           "1500812",
           95
          ],
          [
           "Silves",
           "1500813",
           50.5
          ],
          [
           "Tavira",
           "1500814",
           50
          ],
          [
           "Vila do Bispo",
           "1500815",
           62
          ],
          [
           "Vila Real de Santo António",
           "1500816",
           67.3
          ],
          [
           "Angra do Heroísmo",
           "2004301",
           35.9
          ],
          [
           "Calheta (R.A.A.)",
           "2004501",
           11.4
          ],
          [
           "Corvo",
           "2004901",
           0.6
          ],
          [
           "Horta",
           "2004701",
           20.2
          ],
          [
           "Lagoa (R.A.A.)",
           "2004201",
           11.5
          ],
          [
           "Lajes das Flores",
           "2004801",
           2.5
          ],
          [
           "Lajes do Pico",
           "2004601",
           20
          ],
          [
           "Madalena",
           "2004602",
           17.6
          ],
          [
           "Nordeste",
           "2004202",
           20.6
          ],
          [
           "Ponta Delgada",
           "2004203",
           18.5
          ],
          [
           "Povoação",
           "2004204",
           15.6
          ],
          [
           "Ribeira Grande",
           "2004205",
           23.1
          ],
          [
           "Santa Cruz da Graciosa",
           "2004401",
           93
          ],
          [
           "Santa Cruz das Flores",
           "2004802",
           14
          ],
          [
           "São Roque do Pico",
           "2004603",
           21.1
          ],
          [
           "Velas",
           "2004502",
           28.9
          ],
          [
           "Vila da Praia da Vitória",
           "2004302",
           13
          ],
          [
           "Vila do Porto",
           "2004101",
           92.3
          ],
          [
           "Vila Franca do Campo",
           "2004206",
           17.7
          ],
          [
           "Calheta (R.A.M.)",
           "3003101",
           36.3
          ],
          [
           "Câmara de Lobos",
           "3003102",
           33.3
          ],
          [
           "Funchal",
           "3003103",
           5.2
          ],
          [
           "Machico",
           "3003104",
           41.1
          ],
          [
           "Ponta do Sol",
           "3003105",
           31.4
          ],
          [
           "Porto Moniz",
           "3003106",
           78
          ],
          [
           "Ribeira Brava",
           "3003107",
           18.9
          ],
          [
           "Santa Cruz",
           "3003108",
           2.6
          ],
          [
           "Santana",
           "3003109",
           22.9
          ],
          [
           "São Vicente",
           "3003110",
           57.5
          ],
          [
           "Porto Santo",
           "3003201",
           19.9
          ]
         ],
         "hovertemplate": "valor=%{x}<br>y=%{y}<br>local=%{customdata[0]}<br>codigo=%{customdata[1]}<br>Despesas em atividades e equipamentos desportivos dos municípios por habitante=%{customdata[2]}<br>cluster_indice_renovacao=%{marker.color}<extra></extra>",
         "legendgroup": "",
         "marker": {
          "color": {
           "bdata": "AQAAAAAAAAEAAAAAAAAAAAAAAAAAAAAAAQAAAAEAAAAAAAAAAAAAAAABAAICAAEAAAABAQEAAAAAAQACAAEAAAAAAAAAAAABAAABAAAAAAAAAAEBAAEAAQAAAAAAAAAAAAAAAAAAAAEBAAABAQAAAAEAAAAAAAAAAAAAAQAAAAAAAAAAAQABAQABAAEAAgEBAQEBAAEAAAAAAAAAAAAAAAAAAQAAAAAAAAABAAAAAAEBAQAAAQABAAAAAAAAAQABAAABAAAAAAAAAAAAAAAAAAAAAAAAAAABAQAAAAEAAQAAAQAAAQAAAQEBAQEAAQEAAQAAAQEBAAEAAQAAAAEAAQIAAQABAAEBAQEAAQEBAQAAAQAAAAAAAAAAAAAAAAAAAAABAAAAAAEAAAAAAAABAAAAAAA=",
           "dtype": "i1"
          },
          "coloraxis": "coloraxis",
          "size": 10,
          "symbol": "circle"
         },
         "mode": "markers",
         "name": "",
         "orientation": "v",
         "showlegend": false,
         "type": "scatter",
         "x": {
          "bdata": "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",
          "dtype": "f8"
         },
         "xaxis": "x",
         "y": {
          "bdata": "AAAAAAAAAAAAAAAAAAAAAAAAAAAAAAAAAAAAAAAAAAAAAAAAAAAAAAAAAAAAAAAAAAAAAAAAAAAAAAAAAAAAAAAAAAAAAAAAAAAAAAAAAAAAAAAAAAAAAAAAAAAAAAAAAAAAAAAAAAAAAAAAAAAAAAAAAAAAAAAAAAAAAAAAAAAAAAAAAAAAAAAAAAAAAAAAAAAAAAAAAAAAAAAAAAAAAAAAAAAAAAAAAAAAAAAAAAAAAAAAAAAAAAAAAAAAAAAAAAAAAAAAAAAAAAAAAAAAAAAAAAAAAAAAAAAAAAAAAAAAAAAAAAAAAAAAAAAAAAAAAAAAAAAAAAAAAAAAAAAAAAAAAAAAAAAAAAAAAAAAAAAAAAAAAAAAAAAAAAAAAAAAAAAAAAAAAAAAAAAAAAAAAAAAAAA=",
          "dtype": "i1"
         },
         "yaxis": "y"
        }
       ],
       "layout": {
        "coloraxis": {
         "colorbar": {
          "title": {
           "text": "cluster_indice_renovacao"
          }
         },
         "colorscale": [
          [
           0,
           "#440154"
          ],
          [
           0.1111111111111111,
           "#482878"
          ],
          [
           0.2222222222222222,
           "#3e4989"
          ],
          [
           0.3333333333333333,
           "#31688e"
          ],
          [
           0.4444444444444444,
           "#26828e"
          ],
          [
           0.5555555555555556,
           "#1f9e89"
          ],
          [
           0.6666666666666666,
           "#35b779"
          ],
          [
           0.7777777777777778,
           "#6ece58"
          ],
          [
           0.8888888888888888,
           "#b5de2b"
          ],
          [
           1,
           "#fde725"
          ]
         ]
        },
        "height": 300,
        "legend": {
         "tracegroupgap": 0
        },
        "margin": {
         "t": 60
        },
        "template": {
         "data": {
          "bar": [
           {
            "error_x": {
             "color": "#2a3f5f"
            },
            "error_y": {
             "color": "#2a3f5f"
            },
            "marker": {
             "line": {
              "color": "#E5ECF6",
              "width": 0.5
             },
             "pattern": {
              "fillmode": "overlay",
              "size": 10,
              "solidity": 0.2
             }
            },
            "type": "bar"
           }
          ],
          "barpolar": [
           {
            "marker": {
             "line": {
              "color": "#E5ECF6",
              "width": 0.5
             },
             "pattern": {
              "fillmode": "overlay",
              "size": 10,
              "solidity": 0.2
             }
            },
            "type": "barpolar"
           }
          ],
          "carpet": [
           {
            "aaxis": {
             "endlinecolor": "#2a3f5f",
             "gridcolor": "white",
             "linecolor": "white",
             "minorgridcolor": "white",
             "startlinecolor": "#2a3f5f"
            },
            "baxis": {
             "endlinecolor": "#2a3f5f",
             "gridcolor": "white",
             "linecolor": "white",
             "minorgridcolor": "white",
             "startlinecolor": "#2a3f5f"
            },
            "type": "carpet"
           }
          ],
          "choropleth": [
           {
            "colorbar": {
             "outlinewidth": 0,
             "ticks": ""
            },
            "type": "choropleth"
           }
          ],
          "contour": [
           {
            "colorbar": {
             "outlinewidth": 0,
             "ticks": ""
            },
            "colorscale": [
             [
              0,
              "#0d0887"
             ],
             [
              0.1111111111111111,
              "#46039f"
             ],
             [
              0.2222222222222222,
              "#7201a8"
             ],
             [
              0.3333333333333333,
              "#9c179e"
             ],
             [
              0.4444444444444444,
              "#bd3786"
             ],
             [
              0.5555555555555556,
              "#d8576b"
             ],
             [
              0.6666666666666666,
              "#ed7953"
             ],
             [
              0.7777777777777778,
              "#fb9f3a"
             ],
             [
              0.8888888888888888,
              "#fdca26"
             ],
             [
              1,
              "#f0f921"
             ]
            ],
            "type": "contour"
           }
          ],
          "contourcarpet": [
           {
            "colorbar": {
             "outlinewidth": 0,
             "ticks": ""
            },
            "type": "contourcarpet"
           }
          ],
          "heatmap": [
           {
            "colorbar": {
             "outlinewidth": 0,
             "ticks": ""
            },
            "colorscale": [
             [
              0,
              "#0d0887"
             ],
             [
              0.1111111111111111,
              "#46039f"
             ],
             [
              0.2222222222222222,
              "#7201a8"
             ],
             [
              0.3333333333333333,
              "#9c179e"
             ],
             [
              0.4444444444444444,
              "#bd3786"
             ],
             [
              0.5555555555555556,
              "#d8576b"
             ],
             [
              0.6666666666666666,
              "#ed7953"
             ],
             [
              0.7777777777777778,
              "#fb9f3a"
             ],
             [
              0.8888888888888888,
              "#fdca26"
             ],
             [
              1,
              "#f0f921"
             ]
            ],
            "type": "heatmap"
           }
          ],
          "histogram": [
           {
            "marker": {
             "pattern": {
              "fillmode": "overlay",
              "size": 10,
              "solidity": 0.2
             }
            },
            "type": "histogram"
           }
          ],
          "histogram2d": [
           {
            "colorbar": {
             "outlinewidth": 0,
             "ticks": ""
            },
            "colorscale": [
             [
              0,
              "#0d0887"
             ],
             [
              0.1111111111111111,
              "#46039f"
             ],
             [
              0.2222222222222222,
              "#7201a8"
             ],
             [
              0.3333333333333333,
              "#9c179e"
             ],
             [
              0.4444444444444444,
              "#bd3786"
             ],
             [
              0.5555555555555556,
              "#d8576b"
             ],
             [
              0.6666666666666666,
              "#ed7953"
             ],
             [
              0.7777777777777778,
              "#fb9f3a"
             ],
             [
              0.8888888888888888,
              "#fdca26"
             ],
             [
              1,
              "#f0f921"
             ]
            ],
            "type": "histogram2d"
           }
          ],
          "histogram2dcontour": [
           {
            "colorbar": {
             "outlinewidth": 0,
             "ticks": ""
            },
            "colorscale": [
             [
              0,
              "#0d0887"
             ],
             [
              0.1111111111111111,
              "#46039f"
             ],
             [
              0.2222222222222222,
              "#7201a8"
             ],
             [
              0.3333333333333333,
              "#9c179e"
             ],
             [
              0.4444444444444444,
              "#bd3786"
             ],
             [
              0.5555555555555556,
              "#d8576b"
             ],
             [
              0.6666666666666666,
              "#ed7953"
             ],
             [
              0.7777777777777778,
              "#fb9f3a"
             ],
             [
              0.8888888888888888,
              "#fdca26"
             ],
             [
              1,
              "#f0f921"
             ]
            ],
            "type": "histogram2dcontour"
           }
          ],
          "mesh3d": [
           {
            "colorbar": {
             "outlinewidth": 0,
             "ticks": ""
            },
            "type": "mesh3d"
           }
          ],
          "parcoords": [
           {
            "line": {
             "colorbar": {
              "outlinewidth": 0,
              "ticks": ""
             }
            },
            "type": "parcoords"
           }
          ],
          "pie": [
           {
            "automargin": true,
            "type": "pie"
           }
          ],
          "scatter": [
           {
            "fillpattern": {
             "fillmode": "overlay",
             "size": 10,
             "solidity": 0.2
            },
            "type": "scatter"
           }
          ],
          "scatter3d": [
           {
            "line": {
             "colorbar": {
              "outlinewidth": 0,
              "ticks": ""
             }
            },
            "marker": {
             "colorbar": {
              "outlinewidth": 0,
              "ticks": ""
             }
            },
            "type": "scatter3d"
           }
          ],
          "scattercarpet": [
           {
            "marker": {
             "colorbar": {
              "outlinewidth": 0,
              "ticks": ""
             }
            },
            "type": "scattercarpet"
           }
          ],
          "scattergeo": [
           {
            "marker": {
             "colorbar": {
              "outlinewidth": 0,
              "ticks": ""
             }
            },
            "type": "scattergeo"
           }
          ],
          "scattergl": [
           {
            "marker": {
             "colorbar": {
              "outlinewidth": 0,
              "ticks": ""
             }
            },
            "type": "scattergl"
           }
          ],
          "scattermap": [
           {
            "marker": {
             "colorbar": {
              "outlinewidth": 0,
              "ticks": ""
             }
            },
            "type": "scattermap"
           }
          ],
          "scattermapbox": [
           {
            "marker": {
             "colorbar": {
              "outlinewidth": 0,
              "ticks": ""
             }
            },
            "type": "scattermapbox"
           }
          ],
          "scatterpolar": [
           {
            "marker": {
             "colorbar": {
              "outlinewidth": 0,
              "ticks": ""
             }
            },
            "type": "scatterpolar"
           }
          ],
          "scatterpolargl": [
           {
            "marker": {
             "colorbar": {
              "outlinewidth": 0,
              "ticks": ""
             }
            },
            "type": "scatterpolargl"
           }
          ],
          "scatterternary": [
           {
            "marker": {
             "colorbar": {
              "outlinewidth": 0,
              "ticks": ""
             }
            },
            "type": "scatterternary"
           }
          ],
          "surface": [
           {
            "colorbar": {
             "outlinewidth": 0,
             "ticks": ""
            },
            "colorscale": [
             [
              0,
              "#0d0887"
             ],
             [
              0.1111111111111111,
              "#46039f"
             ],
             [
              0.2222222222222222,
              "#7201a8"
             ],
             [
              0.3333333333333333,
              "#9c179e"
             ],
             [
              0.4444444444444444,
              "#bd3786"
             ],
             [
              0.5555555555555556,
              "#d8576b"
             ],
             [
              0.6666666666666666,
              "#ed7953"
             ],
             [
              0.7777777777777778,
              "#fb9f3a"
             ],
             [
              0.8888888888888888,
              "#fdca26"
             ],
             [
              1,
              "#f0f921"
             ]
            ],
            "type": "surface"
           }
          ],
          "table": [
           {
            "cells": {
             "fill": {
              "color": "#EBF0F8"
             },
             "line": {
              "color": "white"
             }
            },
            "header": {
             "fill": {
              "color": "#C8D4E3"
             },
             "line": {
              "color": "white"
             }
            },
            "type": "table"
           }
          ]
         },
         "layout": {
          "annotationdefaults": {
           "arrowcolor": "#2a3f5f",
           "arrowhead": 0,
           "arrowwidth": 1
          },
          "autotypenumbers": "strict",
          "coloraxis": {
           "colorbar": {
            "outlinewidth": 0,
            "ticks": ""
           }
          },
          "colorscale": {
           "diverging": [
            [
             0,
             "#8e0152"
            ],
            [
             0.1,
             "#c51b7d"
            ],
            [
             0.2,
             "#de77ae"
            ],
            [
             0.3,
             "#f1b6da"
            ],
            [
             0.4,
             "#fde0ef"
            ],
            [
             0.5,
             "#f7f7f7"
            ],
            [
             0.6,
             "#e6f5d0"
            ],
            [
             0.7,
             "#b8e186"
            ],
            [
             0.8,
             "#7fbc41"
            ],
            [
             0.9,
             "#4d9221"
            ],
            [
             1,
             "#276419"
            ]
           ],
           "sequential": [
            [
             0,
             "#0d0887"
            ],
            [
             0.1111111111111111,
             "#46039f"
            ],
            [
             0.2222222222222222,
             "#7201a8"
            ],
            [
             0.3333333333333333,
             "#9c179e"
            ],
            [
             0.4444444444444444,
             "#bd3786"
            ],
            [
             0.5555555555555556,
             "#d8576b"
            ],
            [
             0.6666666666666666,
             "#ed7953"
            ],
            [
             0.7777777777777778,
             "#fb9f3a"
            ],
            [
             0.8888888888888888,
             "#fdca26"
            ],
            [
             1,
             "#f0f921"
            ]
           ],
           "sequentialminus": [
            [
             0,
             "#0d0887"
            ],
            [
             0.1111111111111111,
             "#46039f"
            ],
            [
             0.2222222222222222,
             "#7201a8"
            ],
            [
             0.3333333333333333,
             "#9c179e"
            ],
            [
             0.4444444444444444,
             "#bd3786"
            ],
            [
             0.5555555555555556,
             "#d8576b"
            ],
            [
             0.6666666666666666,
             "#ed7953"
            ],
            [
             0.7777777777777778,
             "#fb9f3a"
            ],
            [
             0.8888888888888888,
             "#fdca26"
            ],
            [
             1,
             "#f0f921"
            ]
           ]
          },
          "colorway": [
           "#636efa",
           "#EF553B",
           "#00cc96",
           "#ab63fa",
           "#FFA15A",
           "#19d3f3",
           "#FF6692",
           "#B6E880",
           "#FF97FF",
           "#FECB52"
          ],
          "font": {
           "color": "#2a3f5f"
          },
          "geo": {
           "bgcolor": "white",
           "lakecolor": "white",
           "landcolor": "#E5ECF6",
           "showlakes": true,
           "showland": true,
           "subunitcolor": "white"
          },
          "hoverlabel": {
           "align": "left"
          },
          "hovermode": "closest",
          "mapbox": {
           "style": "light"
          },
          "paper_bgcolor": "white",
          "plot_bgcolor": "#E5ECF6",
          "polar": {
           "angularaxis": {
            "gridcolor": "white",
            "linecolor": "white",
            "ticks": ""
           },
           "bgcolor": "#E5ECF6",
           "radialaxis": {
            "gridcolor": "white",
            "linecolor": "white",
            "ticks": ""
           }
          },
          "scene": {
           "xaxis": {
            "backgroundcolor": "#E5ECF6",
            "gridcolor": "white",
            "gridwidth": 2,
            "linecolor": "white",
            "showbackground": true,
            "ticks": "",
            "zerolinecolor": "white"
           },
           "yaxis": {
            "backgroundcolor": "#E5ECF6",
            "gridcolor": "white",
            "gridwidth": 2,
            "linecolor": "white",
            "showbackground": true,
            "ticks": "",
            "zerolinecolor": "white"
           },
           "zaxis": {
            "backgroundcolor": "#E5ECF6",
            "gridcolor": "white",
            "gridwidth": 2,
            "linecolor": "white",
            "showbackground": true,
            "ticks": "",
            "zerolinecolor": "white"
           }
          },
          "shapedefaults": {
           "line": {
            "color": "#2a3f5f"
           }
          },
          "ternary": {
           "aaxis": {
            "gridcolor": "white",
            "linecolor": "white",
            "ticks": ""
           },
           "baxis": {
            "gridcolor": "white",
            "linecolor": "white",
            "ticks": ""
           },
           "bgcolor": "#E5ECF6",
           "caxis": {
            "gridcolor": "white",
            "linecolor": "white",
            "ticks": ""
           }
          },
          "title": {
           "x": 0.05
          },
          "xaxis": {
           "automargin": true,
           "gridcolor": "white",
           "linecolor": "white",
           "ticks": "",
           "title": {
            "standoff": 15
           },
           "zerolinecolor": "white",
           "zerolinewidth": 2
          },
          "yaxis": {
           "automargin": true,
           "gridcolor": "white",
           "linecolor": "white",
           "ticks": "",
           "title": {
            "standoff": 15
           },
           "zerolinecolor": "white",
           "zerolinewidth": 2
          }
         }
        },
        "xaxis": {
         "anchor": "y",
         "domain": [
          0,
          1
         ],
         "title": {
          "text": "Despesas em atividades e equipamentos desportivos dos municípios por habitante"
         }
        },
        "yaxis": {
         "anchor": "x",
         "domain": [
          0,
          1
         ],
         "showgrid": false,
         "showticklabels": false,
         "title": {
          "text": "y"
         }
        }
       }
      }
     },
     "metadata": {},
     "output_type": "display_data"
    },
    {
     "name": "stdout",
     "output_type": "stream",
     "text": [
      "cluster_indice_renovacao\n",
      "0    224\n",
      "1     79\n",
      "2      5\n",
      "Name: count, dtype: int64\n"
     ]
    },
    {
     "data": {
      "text/html": [
       "<div>\n",
       "<style scoped>\n",
       "    .dataframe tbody tr th:only-of-type {\n",
       "        vertical-align: middle;\n",
       "    }\n",
       "\n",
       "    .dataframe tbody tr th {\n",
       "        vertical-align: top;\n",
       "    }\n",
       "\n",
       "    .dataframe thead th {\n",
       "        text-align: right;\n",
       "    }\n",
       "</style>\n",
       "<table border=\"1\" class=\"dataframe\">\n",
       "  <thead>\n",
       "    <tr style=\"text-align: right;\">\n",
       "      <th></th>\n",
       "      <th>local</th>\n",
       "      <th>codigo</th>\n",
       "      <th>Despesas em atividades e equipamentos desportivos dos municípios por habitante</th>\n",
       "      <th>cluster_indice_renovacao</th>\n",
       "    </tr>\n",
       "  </thead>\n",
       "  <tbody>\n",
       "    <tr>\n",
       "      <th>4</th>\n",
       "      <td>Arcos de Valdevez</td>\n",
       "      <td>1111601</td>\n",
       "      <td>117.9</td>\n",
       "      <td>1</td>\n",
       "    </tr>\n",
       "    <tr>\n",
       "      <th>5</th>\n",
       "      <td>Caminha</td>\n",
       "      <td>1111602</td>\n",
       "      <td>16.5</td>\n",
       "      <td>0</td>\n",
       "    </tr>\n",
       "    <tr>\n",
       "      <th>6</th>\n",
       "      <td>Melgaço</td>\n",
       "      <td>1111603</td>\n",
       "      <td>19.7</td>\n",
       "      <td>0</td>\n",
       "    </tr>\n",
       "    <tr>\n",
       "      <th>7</th>\n",
       "      <td>Monção</td>\n",
       "      <td>1111604</td>\n",
       "      <td>39.6</td>\n",
       "      <td>0</td>\n",
       "    </tr>\n",
       "    <tr>\n",
       "      <th>8</th>\n",
       "      <td>Paredes de Coura</td>\n",
       "      <td>1111605</td>\n",
       "      <td>43.9</td>\n",
       "      <td>0</td>\n",
       "    </tr>\n",
       "    <tr>\n",
       "      <th>...</th>\n",
       "      <td>...</td>\n",
       "      <td>...</td>\n",
       "      <td>...</td>\n",
       "      <td>...</td>\n",
       "    </tr>\n",
       "    <tr>\n",
       "      <th>342</th>\n",
       "      <td>Ribeira Brava</td>\n",
       "      <td>3003107</td>\n",
       "      <td>18.9</td>\n",
       "      <td>0</td>\n",
       "    </tr>\n",
       "    <tr>\n",
       "      <th>343</th>\n",
       "      <td>Santa Cruz</td>\n",
       "      <td>3003108</td>\n",
       "      <td>2.6</td>\n",
       "      <td>0</td>\n",
       "    </tr>\n",
       "    <tr>\n",
       "      <th>344</th>\n",
       "      <td>Santana</td>\n",
       "      <td>3003109</td>\n",
       "      <td>22.9</td>\n",
       "      <td>0</td>\n",
       "    </tr>\n",
       "    <tr>\n",
       "      <th>345</th>\n",
       "      <td>São Vicente</td>\n",
       "      <td>3003110</td>\n",
       "      <td>57.5</td>\n",
       "      <td>0</td>\n",
       "    </tr>\n",
       "    <tr>\n",
       "      <th>346</th>\n",
       "      <td>Porto Santo</td>\n",
       "      <td>3003201</td>\n",
       "      <td>19.9</td>\n",
       "      <td>0</td>\n",
       "    </tr>\n",
       "  </tbody>\n",
       "</table>\n",
       "<p>308 rows × 4 columns</p>\n",
       "</div>"
      ],
      "text/plain": [
       "                 local   codigo  \\\n",
       "4    Arcos de Valdevez  1111601   \n",
       "5              Caminha  1111602   \n",
       "6              Melgaço  1111603   \n",
       "7               Monção  1111604   \n",
       "8     Paredes de Coura  1111605   \n",
       "..                 ...      ...   \n",
       "342      Ribeira Brava  3003107   \n",
       "343         Santa Cruz  3003108   \n",
       "344            Santana  3003109   \n",
       "345        São Vicente  3003110   \n",
       "346        Porto Santo  3003201   \n",
       "\n",
       "     Despesas em atividades e equipamentos desportivos dos municípios por habitante  \\\n",
       "4                                                117.9                                \n",
       "5                                                 16.5                                \n",
       "6                                                 19.7                                \n",
       "7                                                 39.6                                \n",
       "8                                                 43.9                                \n",
       "..                                                 ...                                \n",
       "342                                               18.9                                \n",
       "343                                                2.6                                \n",
       "344                                               22.9                                \n",
       "345                                               57.5                                \n",
       "346                                               19.9                                \n",
       "\n",
       "     cluster_indice_renovacao  \n",
       "4                           1  \n",
       "5                           0  \n",
       "6                           0  \n",
       "7                           0  \n",
       "8                           0  \n",
       "..                        ...  \n",
       "342                         0  \n",
       "343                         0  \n",
       "344                         0  \n",
       "345                         0  \n",
       "346                         0  \n",
       "\n",
       "[308 rows x 4 columns]"
      ]
     },
     "execution_count": 10,
     "metadata": {},
     "output_type": "execute_result"
    }
   ],
   "source": [
    "df_indice_renovacao = processar_ficheiro('/Users/joaopino/Principal/2Semester/ADE/project/data/dados_municipio/Cultura_Desporto_e_Lazer_(7)/Despesas em atividades e equipamentos desportivos dos municípios por habitante.xls',0)\n",
    "df_indice_renovacao = carregar_municipios(df_indice_renovacao)\n",
    "print(df_indice_renovacao.shape)\n",
    "\n",
    "aplicar_kmeans(df_indice_renovacao,nome_cluster='cluster_indice_renovacao')"
   ]
  },
  {
   "cell_type": "markdown",
   "id": "0cdee14e",
   "metadata": {},
   "source": [
    "### Análise de Despesas em bibliotecas e arquivos"
   ]
  },
  {
   "cell_type": "code",
   "execution_count": 13,
   "id": "5dae954b",
   "metadata": {},
   "outputs": [
    {
     "name": "stdout",
     "output_type": "stream",
     "text": [
      "(257, 3)\n"
     ]
    },
    {
     "data": {
      "application/vnd.plotly.v1+json": {
       "config": {
        "plotlyServerURL": "https://plot.ly"
       },
       "data": [
        {
         "customdata": [
          [
           "2023",
           "Portugal",
           88722301
          ],
          [
           0,
           "Continente",
           86473670
          ],
          [
           0,
           "Alto Minho",
           3377844
          ],
          [
           0,
           "Arcos de Valdevez",
           225317
          ],
          [
           0,
           "Caminha",
           359086
          ],
          [
           0,
           "Melgaço",
           236997
          ],
          [
           0,
           "Paredes de Coura",
           221217
          ],
          [
           0,
           "Ponte da Barca",
           147174
          ],
          [
           0,
           "Ponte de Lima",
           278760
          ],
          [
           0,
           "Valença",
           340967
          ],
          [
           0,
           "Viana do Castelo",
           934916
          ],
          [
           0,
           "Vila Nova de Cerveira",
           328044
          ],
          [
           0,
           "Barcelos",
           749480
          ],
          [
           0,
           "Esposende",
           357024
          ],
          [
           0,
           "Terras de Bouro",
           58287
          ],
          [
           0,
           "Vila Verde",
           368730
          ],
          [
           0,
           "Cabeceiras de Basto",
           57590
          ],
          [
           0,
           "Guimarães",
           1669789
          ],
          [
           0,
           "Mondim de Basto",
           54872
          ],
          [
           0,
           "Póvoa de Lanhoso",
           394756
          ],
          [
           0,
           "Vieira do Minho",
           163511
          ],
          [
           0,
           "Vila Nova de Famalicão",
           1126940
          ],
          [
           0,
           "Área Metropolitana do Porto",
           13529612
          ],
          [
           0,
           "Espinho",
           347472
          ],
          [
           0,
           "Gondomar",
           69394
          ],
          [
           0,
           "Matosinhos",
           1054829
          ],
          [
           0,
           "Oliveira de Azeméis",
           511834
          ],
          [
           0,
           "Paredes",
           210270
          ],
          [
           0,
           "Póvoa de Varzim",
           856785
          ],
          [
           0,
           "Santa Maria da Feira",
           1129060
          ],
          [
           0,
           "Santo Tirso",
           306651
          ],
          [
           0,
           "São João da Madeira",
           292926
          ],
          [
           0,
           "Vale de Cambra",
           466365
          ],
          [
           0,
           "Valongo",
           676998
          ],
          [
           0,
           "Vila do Conde",
           915495
          ],
          [
           0,
           "Vila Nova de Gaia",
           1575104
          ],
          [
           0,
           "Alto Tâmega",
           1149513
          ],
          [
           0,
           "Boticas",
           84103
          ],
          [
           0,
           "Montalegre",
           178263
          ],
          [
           0,
           "Ribeira de Pena",
           233226
          ],
          [
           0,
           "Valpaços",
           214127
          ],
          [
           0,
           "Vila Pouca de Aguiar",
           135170
          ],
          [
           0,
           "Tâmega e Sousa",
           2762775
          ],
          [
           0,
           "Amarante",
           236774
          ],
          [
           0,
           "Castelo de Paiva",
           141893
          ],
          [
           0,
           "Celorico de Basto",
           482412
          ],
          [
           0,
           "Cinfães",
           145860
          ],
          [
           0,
           "Felgueiras",
           345706
          ],
          [
           0,
           "Lousada",
           178262
          ],
          [
           0,
           "Marco de Canaveses",
           7207
          ],
          [
           0,
           "Paços de Ferreira",
           130386
          ],
          [
           0,
           "Penafiel",
           598031
          ],
          [
           0,
           "Resende",
           326460
          ],
          [
           0,
           "Armamar",
           42233
          ],
          [
           0,
           "Carrazeda de Ansiães",
           97797
          ],
          [
           0,
           "Freixo de Espada à Cinta",
           146767
          ],
          [
           0,
           "Mesão Frio",
           92424
          ],
          [
           0,
           "Moimenta da Beira",
           24953
          ],
          [
           0,
           "Penedono",
           32979
          ],
          [
           0,
           "Peso da Régua",
           3190
          ],
          [
           0,
           "Sabrosa",
           29868
          ],
          [
           0,
           "Santa Marta de Penaguião",
           42513
          ],
          [
           0,
           "São João da Pesqueira",
           120654
          ],
          [
           0,
           "Sernancelhe",
           82287
          ],
          [
           0,
           "Tabuaço",
           72681
          ],
          [
           0,
           "Tarouca",
           47931
          ],
          [
           0,
           "Torre de Moncorvo",
           236996
          ],
          [
           0,
           "Vila Nova de Foz Côa",
           87987
          ],
          [
           0,
           "Vila Real",
           464708
          ],
          [
           0,
           "Terras de Trás-os-Montes",
           912649
          ],
          [
           0,
           "Alfândega da Fé",
           85222
          ],
          [
           0,
           "Bragança",
           206602
          ],
          [
           0,
           "Macedo de Cavaleiros",
           44755
          ],
          [
           0,
           "Miranda do Douro",
           83908
          ],
          [
           0,
           "Mirandela",
           204007
          ],
          [
           0,
           "Mogadouro",
           101748
          ],
          [
           0,
           "Vila Flor",
           173107
          ],
          [
           0,
           "Vimioso",
           197
          ],
          [
           0,
           "Vinhais",
           13103
          ],
          [
           0,
           "Alcobaça",
           192502
          ],
          [
           0,
           "Alenquer",
           318933
          ],
          [
           0,
           "Arruda dos Vinhos",
           56911
          ],
          [
           0,
           "Bombarral",
           24861
          ],
          [
           0,
           "Cadaval",
           115000
          ],
          [
           0,
           "Caldas da Rainha",
           220775
          ],
          [
           0,
           "Lourinhã",
           320207
          ],
          [
           0,
           "Peniche",
           115789
          ],
          [
           0,
           "Sobral de Monte Agraço",
           335531
          ],
          [
           0,
           "Torres Vedras",
           419450
          ],
          [
           0,
           "Região de Aveiro",
           3334263
          ],
          [
           0,
           "Albergaria-a-Velha",
           524771
          ],
          [
           0,
           "Estarreja",
           218002
          ],
          [
           0,
           "Murtosa",
           118090
          ],
          [
           0,
           "Oliveira do Bairro",
           235729
          ],
          [
           0,
           "Sever do Vouga",
           253938
          ],
          [
           0,
           "Região de Coimbra",
           6094386
          ],
          [
           0,
           "Arganil",
           305442
          ],
          [
           0,
           "Cantanhede",
           376700
          ],
          [
           0,
           "Coimbra",
           2018670
          ],
          [
           0,
           "Condeixa-a-Nova",
           187489
          ],
          [
           0,
           "Figueira da Foz",
           644729
          ],
          [
           0,
           "Mealhada",
           270760
          ],
          [
           0,
           "Miranda do Corvo",
           176751
          ],
          [
           0,
           "Montemor-o-Velho",
           226680
          ],
          [
           0,
           "Mortágua",
           157873
          ],
          [
           0,
           "Oliveira do Hospital",
           220550
          ],
          [
           0,
           "Pampilhosa da Serra",
           306340
          ],
          [
           0,
           "Penacova",
           146406
          ],
          [
           0,
           "Vila Nova de Poiares",
           49043
          ],
          [
           0,
           "Região de Leiria",
           2489862
          ],
          [
           0,
           "Alvaiázere",
           118900
          ],
          [
           0,
           "Batalha",
           95925
          ],
          [
           0,
           "Castanheira de Pêra",
           70323
          ],
          [
           0,
           "Figueiró dos Vinhos",
           255755
          ],
          [
           0,
           "Marinha Grande",
           353960
          ],
          [
           0,
           "Pedrógão Grande",
           154333
          ],
          [
           0,
           "Porto de Mós",
           256127
          ],
          [
           0,
           "Viseu Dão Lafões",
           3028897
          ],
          [
           0,
           "Aguiar da Beira",
           131600
          ],
          [
           0,
           "Carregal do Sal",
           108179
          ],
          [
           0,
           "Castro Daire",
           201259
          ],
          [
           0,
           "Mangualde",
           437738
          ],
          [
           0,
           "Oliveira de Frades",
           146249
          ],
          [
           0,
           "Penalva do Castelo",
           358955
          ],
          [
           0,
           "Santa Comba Dão",
           160309
          ],
          [
           0,
           "São Pedro do Sul",
           101194
          ],
          [
           0,
           "Tondela",
           365164
          ],
          [
           0,
           "Vila Nova de Paiva",
           66854
          ],
          [
           0,
           "Vouzela",
           154049
          ],
          [
           0,
           "Beira Baixa",
           1038745
          ],
          [
           0,
           "Castelo Branco",
           368015
          ],
          [
           0,
           "Idanha-a-Nova",
           189669
          ],
          [
           0,
           "Oleiros",
           52369
          ],
          [
           0,
           "Penamacor",
           67400
          ],
          [
           0,
           "Proença-a-Nova",
           259314
          ],
          [
           0,
           "Vila Velha de Ródão",
           101978
          ],
          [
           0,
           "Médio Tejo",
           4802303
          ],
          [
           0,
           "Abrantes",
           826575
          ],
          [
           0,
           "Alcanena",
           164942
          ],
          [
           0,
           "Constância",
           193460
          ],
          [
           0,
           "Entroncamento",
           102836
          ],
          [
           0,
           "Ferreira do Zêzere",
           140378
          ],
          [
           0,
           "Sardoal",
           1055041
          ],
          [
           0,
           "Torres Novas",
           793777
          ],
          [
           0,
           "Vila de Rei",
           130937
          ],
          [
           0,
           "Vila Nova da Barquinha",
           1211
          ],
          [
           0,
           "Beiras e Serra da Estrela",
           1831358
          ],
          [
           0,
           "Almeida",
           118613
          ],
          [
           0,
           "Belmonte",
           19100
          ],
          [
           0,
           "Celorico da Beira",
           102142
          ],
          [
           0,
           "Covilhã",
           240233
          ],
          [
           0,
           "Figueira de Castelo Rodrigo",
           21144
          ],
          [
           0,
           "Fornos de Algodres",
           55879
          ],
          [
           0,
           "Gouveia",
           174597
          ],
          [
           0,
           "Manteigas",
           78471
          ],
          [
           0,
           "Sabugal",
           62956
          ],
          [
           0,
           "Trancoso",
           93784
          ],
          [
           0,
           "Área Metropolitana de Lisboa",
           12850199
          ],
          [
           0,
           "Área Metropolitana de Lisboa",
           12850199
          ],
          [
           0,
           "Alcochete",
           235450
          ],
          [
           0,
           "Amadora",
           730701
          ],
          [
           0,
           "Barreiro",
           158807
          ],
          [
           0,
           "Cascais",
           76816
          ],
          [
           0,
           "Montijo",
           9241
          ],
          [
           0,
           "Odivelas",
           783893
          ],
          [
           0,
           "Palmela",
           1212868
          ],
          [
           0,
           "Sesimbra",
           941587
          ],
          [
           0,
           "Setúbal",
           715999
          ],
          [
           0,
           "Vila Franca de Xira",
           1373852
          ],
          [
           0,
           "Alentejo",
           11513454
          ],
          [
           0,
           "Alentejo Litoral",
           2315350
          ],
          [
           0,
           "Alcácer do Sal",
           515919
          ],
          [
           0,
           "Grândola",
           601973
          ],
          [
           0,
           "Odemira",
           226567
          ],
          [
           0,
           "Santiago do Cacém",
           778551
          ],
          [
           0,
           "Baixo Alentejo",
           3222419
          ],
          [
           0,
           "Aljustrel",
           141457
          ],
          [
           0,
           "Almodôvar",
           118403
          ],
          [
           0,
           "Barrancos",
           438900
          ],
          [
           0,
           "Castro Verde",
           181970
          ],
          [
           0,
           "Ferreira do Alentejo",
           110269
          ],
          [
           0,
           "Mértola",
           159491
          ],
          [
           0,
           "Ourique",
           309883
          ],
          [
           0,
           "Vidigueira",
           206360
          ],
          [
           0,
           "Lezíria do Tejo",
           2376717
          ],
          [
           0,
           "Almeirim",
           215705
          ],
          [
           0,
           "Alpiarça",
           198031
          ],
          [
           0,
           "Azambuja",
           280605
          ],
          [
           0,
           "Benavente",
           336029
          ],
          [
           0,
           "Cartaxo",
           74565
          ],
          [
           0,
           "Chamusca",
           202280
          ],
          [
           0,
           "Coruche",
           255232
          ],
          [
           0,
           "Rio Maior",
           191592
          ],
          [
           0,
           "Salvaterra de Magos",
           209104
          ],
          [
           0,
           "Santarém",
           319745
          ],
          [
           0,
           "Alto Alentejo",
           1700661
          ],
          [
           0,
           "Alter do Chão",
           78886
          ],
          [
           0,
           "Arronches",
           1812
          ],
          [
           0,
           "Campo Maior",
           107557
          ],
          [
           0,
           "Castelo de Vide",
           122756
          ],
          [
           0,
           "Fronteira",
           47836
          ],
          [
           0,
           "Monforte",
           172729
          ],
          [
           0,
           "Ponte de Sor",
           310984
          ],
          [
           0,
           "Portalegre",
           157005
          ],
          [
           0,
           "Alentejo Central",
           1898307
          ],
          [
           0,
           "Alandroal",
           107492
          ],
          [
           0,
           "Arraiolos",
           107391
          ],
          [
           0,
           "Estremoz",
           149889
          ],
          [
           0,
           "Montemor-o-Novo",
           302974
          ],
          [
           0,
           "Redondo",
           334040
          ],
          [
           0,
           "Reguengos de Monsaraz",
           134598
          ],
          [
           0,
           "Vendas Novas",
           133912
          ],
          [
           0,
           "Viana do Alentejo",
           184500
          ],
          [
           0,
           "Vila Viçosa",
           0
          ],
          [
           0,
           "Algarve",
           7396591
          ],
          [
           0,
           "Algarve",
           7396591
          ],
          [
           0,
           "Albufeira",
           353013
          ],
          [
           0,
           "Alcoutim",
           49259
          ],
          [
           0,
           "Aljezur",
           0
          ],
          [
           0,
           "Castro Marim",
           120330
          ],
          [
           0,
           "Monchique",
           36094
          ],
          [
           0,
           "Portimão",
           1001550
          ],
          [
           0,
           "São Brás de Alportel",
           217866
          ],
          [
           0,
           "Vila do Bispo",
           100916
          ],
          [
           0,
           "Vila Real de Santo António",
           453307
          ],
          [
           0,
           "Região Autónoma dos Açores",
           1347846
          ],
          [
           0,
           "Região Autónoma dos Açores",
           1347846
          ],
          [
           0,
           "Região Autónoma dos Açores",
           1347846
          ],
          [
           0,
           "Angra do Heroísmo",
           0
          ],
          [
           0,
           "Calheta",
           12480
          ],
          [
           0,
           "Lajes das Flores",
           0
          ],
          [
           0,
           "Lajes do Pico",
           63590
          ],
          [
           0,
           "Madalena",
           151462
          ],
          [
           0,
           "Nordeste",
           16548
          ],
          [
           0,
           "Ponta Delgada",
           188283
          ],
          [
           0,
           "Povoação",
           67225
          ],
          [
           0,
           "Ribeira Grande",
           164132
          ],
          [
           0,
           "Santa Cruz da Graciosa",
           21128
          ],
          [
           0,
           "Santa Cruz das Flores",
           4324
          ],
          [
           0,
           "São Roque do Pico",
           56555
          ],
          [
           0,
           "Vila da Praia da Vitória",
           124748
          ],
          [
           0,
           "Vila do Porto",
           177766
          ],
          [
           0,
           "Vila Franca do Campo",
           233636
          ],
          [
           0,
           "Região Autónoma da Madeira",
           900785
          ],
          [
           0,
           "Região Autónoma da Madeira",
           900785
          ],
          [
           0,
           "Região Autónoma da Madeira",
           900785
          ],
          [
           0,
           "Calheta",
           14452
          ],
          [
           0,
           "Câmara de Lobos",
           281734
          ],
          [
           0,
           "Funchal",
           232264
          ],
          [
           0,
           "Machico",
           106802
          ],
          [
           0,
           "Ponta do Sol",
           45549
          ],
          [
           0,
           "Porto Moniz",
           17122
          ],
          [
           0,
           "Porto Santo",
           39758
          ],
          [
           0,
           "Ribeira Brava",
           86757
          ],
          [
           0,
           "Santa Cruz",
           53693
          ],
          [
           0,
           "Santana",
           0
          ],
          [
           0,
           "São Vicente",
           22654
          ]
         ],
         "hovertemplate": "valor=%{x}<br>y=%{y}<br>local=%{customdata[0]}<br>codigo=%{customdata[1]}<br>Despesas em bibliotecas e arquivos=%{customdata[2]}<br>cluster_indice_renovacao=%{marker.color}<extra></extra>",
         "legendgroup": "",
         "marker": {
          "color": {
           "bdata": "AgIAAAAAAAAAAAAAAAAAAAAAAAAAAAEAAAAAAAAAAAAAAAAAAAAAAAAAAAAAAAAAAAAAAAAAAAAAAAAAAAAAAAAAAAAAAAAAAAAAAAAAAAAAAAAAAAAAAAAAAAAAAAABAAAAAAAAAAAAAAAAAAAAAAAAAAAAAAAAAAAAAAAAAAAAAAAAAAAAAAAAAAAAAAAAAAAAAAAAAAAAAAAAAAEBAAAAAAAAAAAAAAEAAAAAAAAAAAAAAAAAAAAAAAAAAAAAAAAAAAAAAAAAAAAAAAAAAAAAAAAAAAEBAAAAAAAAAAAAAAAAAAAAAAAAAAAAAAAAAAAAAAAAAAAAAAAAAAAAAAA=",
           "dtype": "i1"
          },
          "coloraxis": "coloraxis",
          "size": 10,
          "symbol": "circle"
         },
         "mode": "markers",
         "name": "",
         "orientation": "v",
         "showlegend": false,
         "type": "scatter",
         "x": {
          "bdata": "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",
          "dtype": "f8"
         },
         "xaxis": "x",
         "y": {
          "bdata": "AAAAAAAAAAAAAAAAAAAAAAAAAAAAAAAAAAAAAAAAAAAAAAAAAAAAAAAAAAAAAAAAAAAAAAAAAAAAAAAAAAAAAAAAAAAAAAAAAAAAAAAAAAAAAAAAAAAAAAAAAAAAAAAAAAAAAAAAAAAAAAAAAAAAAAAAAAAAAAAAAAAAAAAAAAAAAAAAAAAAAAAAAAAAAAAAAAAAAAAAAAAAAAAAAAAAAAAAAAAAAAAAAAAAAAAAAAAAAAAAAAAAAAAAAAAAAAAAAAAAAAAAAAAAAAAAAAAAAAAAAAAAAAAAAAAAAAAAAAAAAAAAAAAAAAAAAAAAAAAAAAAAAAAAAAAAAAAAAAAAAAA=",
          "dtype": "i1"
         },
         "yaxis": "y"
        }
       ],
       "layout": {
        "coloraxis": {
         "colorbar": {
          "title": {
           "text": "cluster_indice_renovacao"
          }
         },
         "colorscale": [
          [
           0,
           "#440154"
          ],
          [
           0.1111111111111111,
           "#482878"
          ],
          [
           0.2222222222222222,
           "#3e4989"
          ],
          [
           0.3333333333333333,
           "#31688e"
          ],
          [
           0.4444444444444444,
           "#26828e"
          ],
          [
           0.5555555555555556,
           "#1f9e89"
          ],
          [
           0.6666666666666666,
           "#35b779"
          ],
          [
           0.7777777777777778,
           "#6ece58"
          ],
          [
           0.8888888888888888,
           "#b5de2b"
          ],
          [
           1,
           "#fde725"
          ]
         ]
        },
        "height": 300,
        "legend": {
         "tracegroupgap": 0
        },
        "margin": {
         "t": 60
        },
        "template": {
         "data": {
          "bar": [
           {
            "error_x": {
             "color": "#2a3f5f"
            },
            "error_y": {
             "color": "#2a3f5f"
            },
            "marker": {
             "line": {
              "color": "#E5ECF6",
              "width": 0.5
             },
             "pattern": {
              "fillmode": "overlay",
              "size": 10,
              "solidity": 0.2
             }
            },
            "type": "bar"
           }
          ],
          "barpolar": [
           {
            "marker": {
             "line": {
              "color": "#E5ECF6",
              "width": 0.5
             },
             "pattern": {
              "fillmode": "overlay",
              "size": 10,
              "solidity": 0.2
             }
            },
            "type": "barpolar"
           }
          ],
          "carpet": [
           {
            "aaxis": {
             "endlinecolor": "#2a3f5f",
             "gridcolor": "white",
             "linecolor": "white",
             "minorgridcolor": "white",
             "startlinecolor": "#2a3f5f"
            },
            "baxis": {
             "endlinecolor": "#2a3f5f",
             "gridcolor": "white",
             "linecolor": "white",
             "minorgridcolor": "white",
             "startlinecolor": "#2a3f5f"
            },
            "type": "carpet"
           }
          ],
          "choropleth": [
           {
            "colorbar": {
             "outlinewidth": 0,
             "ticks": ""
            },
            "type": "choropleth"
           }
          ],
          "contour": [
           {
            "colorbar": {
             "outlinewidth": 0,
             "ticks": ""
            },
            "colorscale": [
             [
              0,
              "#0d0887"
             ],
             [
              0.1111111111111111,
              "#46039f"
             ],
             [
              0.2222222222222222,
              "#7201a8"
             ],
             [
              0.3333333333333333,
              "#9c179e"
             ],
             [
              0.4444444444444444,
              "#bd3786"
             ],
             [
              0.5555555555555556,
              "#d8576b"
             ],
             [
              0.6666666666666666,
              "#ed7953"
             ],
             [
              0.7777777777777778,
              "#fb9f3a"
             ],
             [
              0.8888888888888888,
              "#fdca26"
             ],
             [
              1,
              "#f0f921"
             ]
            ],
            "type": "contour"
           }
          ],
          "contourcarpet": [
           {
            "colorbar": {
             "outlinewidth": 0,
             "ticks": ""
            },
            "type": "contourcarpet"
           }
          ],
          "heatmap": [
           {
            "colorbar": {
             "outlinewidth": 0,
             "ticks": ""
            },
            "colorscale": [
             [
              0,
              "#0d0887"
             ],
             [
              0.1111111111111111,
              "#46039f"
             ],
             [
              0.2222222222222222,
              "#7201a8"
             ],
             [
              0.3333333333333333,
              "#9c179e"
             ],
             [
              0.4444444444444444,
              "#bd3786"
             ],
             [
              0.5555555555555556,
              "#d8576b"
             ],
             [
              0.6666666666666666,
              "#ed7953"
             ],
             [
              0.7777777777777778,
              "#fb9f3a"
             ],
             [
              0.8888888888888888,
              "#fdca26"
             ],
             [
              1,
              "#f0f921"
             ]
            ],
            "type": "heatmap"
           }
          ],
          "histogram": [
           {
            "marker": {
             "pattern": {
              "fillmode": "overlay",
              "size": 10,
              "solidity": 0.2
             }
            },
            "type": "histogram"
           }
          ],
          "histogram2d": [
           {
            "colorbar": {
             "outlinewidth": 0,
             "ticks": ""
            },
            "colorscale": [
             [
              0,
              "#0d0887"
             ],
             [
              0.1111111111111111,
              "#46039f"
             ],
             [
              0.2222222222222222,
              "#7201a8"
             ],
             [
              0.3333333333333333,
              "#9c179e"
             ],
             [
              0.4444444444444444,
              "#bd3786"
             ],
             [
              0.5555555555555556,
              "#d8576b"
             ],
             [
              0.6666666666666666,
              "#ed7953"
             ],
             [
              0.7777777777777778,
              "#fb9f3a"
             ],
             [
              0.8888888888888888,
              "#fdca26"
             ],
             [
              1,
              "#f0f921"
             ]
            ],
            "type": "histogram2d"
           }
          ],
          "histogram2dcontour": [
           {
            "colorbar": {
             "outlinewidth": 0,
             "ticks": ""
            },
            "colorscale": [
             [
              0,
              "#0d0887"
             ],
             [
              0.1111111111111111,
              "#46039f"
             ],
             [
              0.2222222222222222,
              "#7201a8"
             ],
             [
              0.3333333333333333,
              "#9c179e"
             ],
             [
              0.4444444444444444,
              "#bd3786"
             ],
             [
              0.5555555555555556,
              "#d8576b"
             ],
             [
              0.6666666666666666,
              "#ed7953"
             ],
             [
              0.7777777777777778,
              "#fb9f3a"
             ],
             [
              0.8888888888888888,
              "#fdca26"
             ],
             [
              1,
              "#f0f921"
             ]
            ],
            "type": "histogram2dcontour"
           }
          ],
          "mesh3d": [
           {
            "colorbar": {
             "outlinewidth": 0,
             "ticks": ""
            },
            "type": "mesh3d"
           }
          ],
          "parcoords": [
           {
            "line": {
             "colorbar": {
              "outlinewidth": 0,
              "ticks": ""
             }
            },
            "type": "parcoords"
           }
          ],
          "pie": [
           {
            "automargin": true,
            "type": "pie"
           }
          ],
          "scatter": [
           {
            "fillpattern": {
             "fillmode": "overlay",
             "size": 10,
             "solidity": 0.2
            },
            "type": "scatter"
           }
          ],
          "scatter3d": [
           {
            "line": {
             "colorbar": {
              "outlinewidth": 0,
              "ticks": ""
             }
            },
            "marker": {
             "colorbar": {
              "outlinewidth": 0,
              "ticks": ""
             }
            },
            "type": "scatter3d"
           }
          ],
          "scattercarpet": [
           {
            "marker": {
             "colorbar": {
              "outlinewidth": 0,
              "ticks": ""
             }
            },
            "type": "scattercarpet"
           }
          ],
          "scattergeo": [
           {
            "marker": {
             "colorbar": {
              "outlinewidth": 0,
              "ticks": ""
             }
            },
            "type": "scattergeo"
           }
          ],
          "scattergl": [
           {
            "marker": {
             "colorbar": {
              "outlinewidth": 0,
              "ticks": ""
             }
            },
            "type": "scattergl"
           }
          ],
          "scattermap": [
           {
            "marker": {
             "colorbar": {
              "outlinewidth": 0,
              "ticks": ""
             }
            },
            "type": "scattermap"
           }
          ],
          "scattermapbox": [
           {
            "marker": {
             "colorbar": {
              "outlinewidth": 0,
              "ticks": ""
             }
            },
            "type": "scattermapbox"
           }
          ],
          "scatterpolar": [
           {
            "marker": {
             "colorbar": {
              "outlinewidth": 0,
              "ticks": ""
             }
            },
            "type": "scatterpolar"
           }
          ],
          "scatterpolargl": [
           {
            "marker": {
             "colorbar": {
              "outlinewidth": 0,
              "ticks": ""
             }
            },
            "type": "scatterpolargl"
           }
          ],
          "scatterternary": [
           {
            "marker": {
             "colorbar": {
              "outlinewidth": 0,
              "ticks": ""
             }
            },
            "type": "scatterternary"
           }
          ],
          "surface": [
           {
            "colorbar": {
             "outlinewidth": 0,
             "ticks": ""
            },
            "colorscale": [
             [
              0,
              "#0d0887"
             ],
             [
              0.1111111111111111,
              "#46039f"
             ],
             [
              0.2222222222222222,
              "#7201a8"
             ],
             [
              0.3333333333333333,
              "#9c179e"
             ],
             [
              0.4444444444444444,
              "#bd3786"
             ],
             [
              0.5555555555555556,
              "#d8576b"
             ],
             [
              0.6666666666666666,
              "#ed7953"
             ],
             [
              0.7777777777777778,
              "#fb9f3a"
             ],
             [
              0.8888888888888888,
              "#fdca26"
             ],
             [
              1,
              "#f0f921"
             ]
            ],
            "type": "surface"
           }
          ],
          "table": [
           {
            "cells": {
             "fill": {
              "color": "#EBF0F8"
             },
             "line": {
              "color": "white"
             }
            },
            "header": {
             "fill": {
              "color": "#C8D4E3"
             },
             "line": {
              "color": "white"
             }
            },
            "type": "table"
           }
          ]
         },
         "layout": {
          "annotationdefaults": {
           "arrowcolor": "#2a3f5f",
           "arrowhead": 0,
           "arrowwidth": 1
          },
          "autotypenumbers": "strict",
          "coloraxis": {
           "colorbar": {
            "outlinewidth": 0,
            "ticks": ""
           }
          },
          "colorscale": {
           "diverging": [
            [
             0,
             "#8e0152"
            ],
            [
             0.1,
             "#c51b7d"
            ],
            [
             0.2,
             "#de77ae"
            ],
            [
             0.3,
             "#f1b6da"
            ],
            [
             0.4,
             "#fde0ef"
            ],
            [
             0.5,
             "#f7f7f7"
            ],
            [
             0.6,
             "#e6f5d0"
            ],
            [
             0.7,
             "#b8e186"
            ],
            [
             0.8,
             "#7fbc41"
            ],
            [
             0.9,
             "#4d9221"
            ],
            [
             1,
             "#276419"
            ]
           ],
           "sequential": [
            [
             0,
             "#0d0887"
            ],
            [
             0.1111111111111111,
             "#46039f"
            ],
            [
             0.2222222222222222,
             "#7201a8"
            ],
            [
             0.3333333333333333,
             "#9c179e"
            ],
            [
             0.4444444444444444,
             "#bd3786"
            ],
            [
             0.5555555555555556,
             "#d8576b"
            ],
            [
             0.6666666666666666,
             "#ed7953"
            ],
            [
             0.7777777777777778,
             "#fb9f3a"
            ],
            [
             0.8888888888888888,
             "#fdca26"
            ],
            [
             1,
             "#f0f921"
            ]
           ],
           "sequentialminus": [
            [
             0,
             "#0d0887"
            ],
            [
             0.1111111111111111,
             "#46039f"
            ],
            [
             0.2222222222222222,
             "#7201a8"
            ],
            [
             0.3333333333333333,
             "#9c179e"
            ],
            [
             0.4444444444444444,
             "#bd3786"
            ],
            [
             0.5555555555555556,
             "#d8576b"
            ],
            [
             0.6666666666666666,
             "#ed7953"
            ],
            [
             0.7777777777777778,
             "#fb9f3a"
            ],
            [
             0.8888888888888888,
             "#fdca26"
            ],
            [
             1,
             "#f0f921"
            ]
           ]
          },
          "colorway": [
           "#636efa",
           "#EF553B",
           "#00cc96",
           "#ab63fa",
           "#FFA15A",
           "#19d3f3",
           "#FF6692",
           "#B6E880",
           "#FF97FF",
           "#FECB52"
          ],
          "font": {
           "color": "#2a3f5f"
          },
          "geo": {
           "bgcolor": "white",
           "lakecolor": "white",
           "landcolor": "#E5ECF6",
           "showlakes": true,
           "showland": true,
           "subunitcolor": "white"
          },
          "hoverlabel": {
           "align": "left"
          },
          "hovermode": "closest",
          "mapbox": {
           "style": "light"
          },
          "paper_bgcolor": "white",
          "plot_bgcolor": "#E5ECF6",
          "polar": {
           "angularaxis": {
            "gridcolor": "white",
            "linecolor": "white",
            "ticks": ""
           },
           "bgcolor": "#E5ECF6",
           "radialaxis": {
            "gridcolor": "white",
            "linecolor": "white",
            "ticks": ""
           }
          },
          "scene": {
           "xaxis": {
            "backgroundcolor": "#E5ECF6",
            "gridcolor": "white",
            "gridwidth": 2,
            "linecolor": "white",
            "showbackground": true,
            "ticks": "",
            "zerolinecolor": "white"
           },
           "yaxis": {
            "backgroundcolor": "#E5ECF6",
            "gridcolor": "white",
            "gridwidth": 2,
            "linecolor": "white",
            "showbackground": true,
            "ticks": "",
            "zerolinecolor": "white"
           },
           "zaxis": {
            "backgroundcolor": "#E5ECF6",
            "gridcolor": "white",
            "gridwidth": 2,
            "linecolor": "white",
            "showbackground": true,
            "ticks": "",
            "zerolinecolor": "white"
           }
          },
          "shapedefaults": {
           "line": {
            "color": "#2a3f5f"
           }
          },
          "ternary": {
           "aaxis": {
            "gridcolor": "white",
            "linecolor": "white",
            "ticks": ""
           },
           "baxis": {
            "gridcolor": "white",
            "linecolor": "white",
            "ticks": ""
           },
           "bgcolor": "#E5ECF6",
           "caxis": {
            "gridcolor": "white",
            "linecolor": "white",
            "ticks": ""
           }
          },
          "title": {
           "x": 0.05
          },
          "xaxis": {
           "automargin": true,
           "gridcolor": "white",
           "linecolor": "white",
           "ticks": "",
           "title": {
            "standoff": 15
           },
           "zerolinecolor": "white",
           "zerolinewidth": 2
          },
          "yaxis": {
           "automargin": true,
           "gridcolor": "white",
           "linecolor": "white",
           "ticks": "",
           "title": {
            "standoff": 15
           },
           "zerolinecolor": "white",
           "zerolinewidth": 2
          }
         }
        },
        "xaxis": {
         "anchor": "y",
         "domain": [
          0,
          1
         ],
         "title": {
          "text": "Despesas em bibliotecas e arquivos"
         }
        },
        "yaxis": {
         "anchor": "x",
         "domain": [
          0,
          1
         ],
         "showgrid": false,
         "showticklabels": false,
         "title": {
          "text": "y"
         }
        }
       }
      }
     },
     "metadata": {},
     "output_type": "display_data"
    },
    {
     "name": "stdout",
     "output_type": "stream",
     "text": [
      "cluster_indice_renovacao\n",
      "0    248\n",
      "1      7\n",
      "2      2\n",
      "Name: count, dtype: int64\n"
     ]
    },
    {
     "data": {
      "text/html": [
       "<div>\n",
       "<style scoped>\n",
       "    .dataframe tbody tr th:only-of-type {\n",
       "        vertical-align: middle;\n",
       "    }\n",
       "\n",
       "    .dataframe tbody tr th {\n",
       "        vertical-align: top;\n",
       "    }\n",
       "\n",
       "    .dataframe thead th {\n",
       "        text-align: right;\n",
       "    }\n",
       "</style>\n",
       "<table border=\"1\" class=\"dataframe\">\n",
       "  <thead>\n",
       "    <tr style=\"text-align: right;\">\n",
       "      <th></th>\n",
       "      <th>local</th>\n",
       "      <th>codigo</th>\n",
       "      <th>Despesas em bibliotecas e arquivos</th>\n",
       "      <th>cluster_indice_renovacao</th>\n",
       "    </tr>\n",
       "  </thead>\n",
       "  <tbody>\n",
       "    <tr>\n",
       "      <th>0</th>\n",
       "      <td>2023</td>\n",
       "      <td>Portugal</td>\n",
       "      <td>88722301.0</td>\n",
       "      <td>2</td>\n",
       "    </tr>\n",
       "    <tr>\n",
       "      <th>1</th>\n",
       "      <td>0</td>\n",
       "      <td>Continente</td>\n",
       "      <td>86473670.0</td>\n",
       "      <td>2</td>\n",
       "    </tr>\n",
       "    <tr>\n",
       "      <th>3</th>\n",
       "      <td>0</td>\n",
       "      <td>Alto Minho</td>\n",
       "      <td>3377844.0</td>\n",
       "      <td>0</td>\n",
       "    </tr>\n",
       "    <tr>\n",
       "      <th>4</th>\n",
       "      <td>0</td>\n",
       "      <td>Arcos de Valdevez</td>\n",
       "      <td>225317.0</td>\n",
       "      <td>0</td>\n",
       "    </tr>\n",
       "    <tr>\n",
       "      <th>5</th>\n",
       "      <td>0</td>\n",
       "      <td>Caminha</td>\n",
       "      <td>359086.0</td>\n",
       "      <td>0</td>\n",
       "    </tr>\n",
       "    <tr>\n",
       "      <th>...</th>\n",
       "      <td>...</td>\n",
       "      <td>...</td>\n",
       "      <td>...</td>\n",
       "      <td>...</td>\n",
       "    </tr>\n",
       "    <tr>\n",
       "      <th>339</th>\n",
       "      <td>0</td>\n",
       "      <td>Porto Santo</td>\n",
       "      <td>39758.0</td>\n",
       "      <td>0</td>\n",
       "    </tr>\n",
       "    <tr>\n",
       "      <th>340</th>\n",
       "      <td>0</td>\n",
       "      <td>Ribeira Brava</td>\n",
       "      <td>86757.0</td>\n",
       "      <td>0</td>\n",
       "    </tr>\n",
       "    <tr>\n",
       "      <th>341</th>\n",
       "      <td>0</td>\n",
       "      <td>Santa Cruz</td>\n",
       "      <td>53693.0</td>\n",
       "      <td>0</td>\n",
       "    </tr>\n",
       "    <tr>\n",
       "      <th>342</th>\n",
       "      <td>0</td>\n",
       "      <td>Santana</td>\n",
       "      <td>0.0</td>\n",
       "      <td>0</td>\n",
       "    </tr>\n",
       "    <tr>\n",
       "      <th>343</th>\n",
       "      <td>0</td>\n",
       "      <td>São Vicente</td>\n",
       "      <td>22654.0</td>\n",
       "      <td>0</td>\n",
       "    </tr>\n",
       "  </tbody>\n",
       "</table>\n",
       "<p>257 rows × 4 columns</p>\n",
       "</div>"
      ],
      "text/plain": [
       "    local             codigo  Despesas em bibliotecas e arquivos  \\\n",
       "0    2023           Portugal                          88722301.0   \n",
       "1       0         Continente                          86473670.0   \n",
       "3       0         Alto Minho                           3377844.0   \n",
       "4       0  Arcos de Valdevez                            225317.0   \n",
       "5       0            Caminha                            359086.0   \n",
       "..    ...                ...                                 ...   \n",
       "339     0        Porto Santo                             39758.0   \n",
       "340     0      Ribeira Brava                             86757.0   \n",
       "341     0         Santa Cruz                             53693.0   \n",
       "342     0            Santana                                 0.0   \n",
       "343     0        São Vicente                             22654.0   \n",
       "\n",
       "     cluster_indice_renovacao  \n",
       "0                           2  \n",
       "1                           2  \n",
       "3                           0  \n",
       "4                           0  \n",
       "5                           0  \n",
       "..                        ...  \n",
       "339                         0  \n",
       "340                         0  \n",
       "341                         0  \n",
       "342                         0  \n",
       "343                         0  \n",
       "\n",
       "[257 rows x 4 columns]"
      ]
     },
     "execution_count": 13,
     "metadata": {},
     "output_type": "execute_result"
    }
   ],
   "source": [
    "df_indice_renovacao = processar_ficheiro('/Users/joaopino/Principal/2Semester/ADE/project/data/dados_municipio/Cultura_Desporto_e_Lazer_(7)/Despesas em bibliotecas e arquivos.xls',0)\n",
    "df_indice_renovacao = carregar_municipios(df_indice_renovacao)\n",
    "print(df_indice_renovacao.shape)\n",
    "\n",
    "aplicar_kmeans(df_indice_renovacao,nome_cluster='cluster_indice_renovacao')\n"
   ]
  },
  {
   "cell_type": "markdown",
   "id": "19d3f267",
   "metadata": {},
   "source": [
    "# VER CÓDIGO ESTÁ MAL"
   ]
  },
  {
   "cell_type": "code",
   "execution_count": null,
   "id": "ecac9a49",
   "metadata": {},
   "outputs": [],
   "source": [
    "df_pedido_residencia = processar_ficheiro('./População estrangeira que solicitou estatuto de residente.xls', 2).iloc[:, :8]\n",
    "#df_indice_renovacao = carregar_municipios(df_pedido_residencia)\n",
    "#print(df_pedido_residencia)"
   ]
  },
  {
   "cell_type": "markdown",
   "id": "ffd770f6",
   "metadata": {},
   "source": [
    "### Análise Saldo Migratório"
   ]
  },
  {
   "cell_type": "code",
   "execution_count": null,
   "id": "294cac42",
   "metadata": {},
   "outputs": [
    {
     "name": "stdout",
     "output_type": "stream",
     "text": [
      "(308, 3)\n"
     ]
    },
    {
     "data": {
      "application/vnd.plotly.v1+json": {
       "config": {
        "plotlyServerURL": "https://plot.ly"
       },
       "data": [
        {
         "customdata": [
          [
           "Arcos de Valdevez",
           "1111601",
           403
          ],
          [
           "Caminha",
           "1111602",
           332
          ],
          [
           "Melgaço",
           "1111603",
           134
          ],
          [
           "Monção",
           "1111604",
           310
          ],
          [
           "Paredes de Coura",
           "1111605",
           115
          ],
          [
           "Ponte da Barca",
           "1111606",
           161
          ],
          [
           "Ponte de Lima",
           "1111607",
           276
          ],
          [
           "Valença",
           "1111608",
           295
          ],
          [
           "Viana do Castelo",
           "1111609",
           822
          ],
          [
           "Vila Nova de Cerveira",
           "1111610",
           194
          ],
          [
           "Amares",
           "1120301",
           388
          ],
          [
           "Barcelos",
           "1120302",
           446
          ],
          [
           "Braga",
           "1120303",
           3098
          ],
          [
           "Esposende",
           "1120306",
           677
          ],
          [
           "Terras de Bouro",
           "1120310",
           84
          ],
          [
           "Vila Verde",
           "1120313",
           741
          ],
          [
           "Cabeceiras de Basto",
           "1190304",
           149
          ],
          [
           "Fafe",
           "1190307",
           285
          ],
          [
           "Guimarães",
           "1190308",
           509
          ],
          [
           "Mondim de Basto",
           "1191705",
           55
          ],
          [
           "Póvoa de Lanhoso",
           "1190309",
           418
          ],
          [
           "Vieira do Minho",
           "1190311",
           168
          ],
          [
           "Vila Nova de Famalicão",
           "1190312",
           1088
          ],
          [
           "Vizela",
           "1190314",
           186
          ],
          [
           "Arouca",
           "11A0104",
           37
          ],
          [
           "Espinho",
           "11A0107",
           689
          ],
          [
           "Gondomar",
           "11A1304",
           1668
          ],
          [
           "Maia",
           "11A1306",
           2463
          ],
          [
           "Matosinhos",
           "11A1308",
           2861
          ],
          [
           "Oliveira de Azeméis",
           "11A0113",
           629
          ],
          [
           "Paredes",
           "11A1310",
           586
          ],
          [
           "Porto",
           "11A1312",
           6748
          ],
          [
           "Póvoa de Varzim",
           "11A1313",
           1439
          ],
          [
           "Santa Maria da Feira",
           "11A0109",
           1498
          ],
          [
           "Santo Tirso",
           "11A1314",
           437
          ],
          [
           "São João da Madeira",
           "11A0116",
           563
          ],
          [
           "Trofa",
           "11A1318",
           457
          ],
          [
           "Vale de Cambra",
           "11A0119",
           137
          ],
          [
           "Valongo",
           "11A1315",
           1817
          ],
          [
           "Vila do Conde",
           "11A1316",
           1479
          ],
          [
           "Vila Nova de Gaia",
           "11A1317",
           3228
          ],
          [
           "Boticas",
           "11B1702",
           50
          ],
          [
           "Chaves",
           "11B1703",
           457
          ],
          [
           "Montalegre",
           "11B1706",
           155
          ],
          [
           "Ribeira de Pena",
           "11B1709",
           81
          ],
          [
           "Valpaços",
           "11B1712",
           248
          ],
          [
           "Vila Pouca de Aguiar",
           "11B1713",
           174
          ],
          [
           "Amarante",
           "11C1301",
           359
          ],
          [
           "Baião",
           "11C1302",
           61
          ],
          [
           "Castelo de Paiva",
           "11C0106",
           102
          ],
          [
           "Celorico de Basto",
           "11C0305",
           188
          ],
          [
           "Cinfães",
           "11C1804",
           46
          ],
          [
           "Felgueiras",
           "11C1303",
           0
          ],
          [
           "Lousada",
           "11C1305",
           396
          ],
          [
           "Marco de Canaveses",
           "11C1307",
           196
          ],
          [
           "Paços de Ferreira",
           "11C1309",
           106
          ],
          [
           "Penafiel",
           "11C1311",
           467
          ],
          [
           "Resende",
           "11C1813",
           -17
          ],
          [
           "Alijó",
           "11D1701",
           87
          ],
          [
           "Armamar",
           "11D1801",
           37
          ],
          [
           "Carrazeda de Ansiães",
           "11D0403",
           68
          ],
          [
           "Freixo de Espada à Cinta",
           "11D0404",
           18
          ],
          [
           "Lamego",
           "11D1805",
           145
          ],
          [
           "Mesão Frio",
           "11D1704",
           12
          ],
          [
           "Moimenta da Beira",
           "11D1807",
           184
          ],
          [
           "Murça",
           "11D1707",
           93
          ],
          [
           "Penedono",
           "11D1812",
           37
          ],
          [
           "Peso da Régua",
           "11D1708",
           62
          ],
          [
           "Sabrosa",
           "11D1710",
           80
          ],
          [
           "Santa Marta de Penaguião",
           "11D1711",
           59
          ],
          [
           "São João da Pesqueira",
           "11D1815",
           45
          ],
          [
           "Sernancelhe",
           "11D1818",
           128
          ],
          [
           "Tabuaço",
           "11D1819",
           48
          ],
          [
           "Tarouca",
           "11D1820",
           180
          ],
          [
           "Torre de Moncorvo",
           "11D0409",
           72
          ],
          [
           "Vila Nova de Foz Côa",
           "11D0914",
           123
          ],
          [
           "Vila Real",
           "11D1714",
           503
          ],
          [
           "Alfândega da Fé",
           "11E0401",
           32
          ],
          [
           "Bragança",
           "11E0402",
           618
          ],
          [
           "Macedo de Cavaleiros",
           "11E0405",
           234
          ],
          [
           "Miranda do Douro",
           "11E0406",
           28
          ],
          [
           "Mirandela",
           "11E0407",
           261
          ],
          [
           "Mogadouro",
           "11E0408",
           62
          ],
          [
           "Vila Flor",
           "11E0410",
           81
          ],
          [
           "Vimioso",
           "11E0411",
           94
          ],
          [
           "Vinhais",
           "11E0412",
           70
          ],
          [
           "Águeda",
           "1910101",
           785
          ],
          [
           "Albergaria-a-Velha",
           "1910102",
           521
          ],
          [
           "Anadia",
           "1910103",
           540
          ],
          [
           "Aveiro",
           "1910105",
           2394
          ],
          [
           "Estarreja",
           "1910108",
           550
          ],
          [
           "Ílhavo",
           "1910110",
           1294
          ],
          [
           "Murtosa",
           "1910112",
           358
          ],
          [
           "Oliveira do Bairro",
           "1910114",
           864
          ],
          [
           "Ovar",
           "1910115",
           934
          ],
          [
           "Sever do Vouga",
           "1910117",
           125
          ],
          [
           "Vagos",
           "1910118",
           803
          ],
          [
           "Arganil",
           "1920601",
           311
          ],
          [
           "Cantanhede",
           "1920602",
           741
          ],
          [
           "Coimbra",
           "1920603",
           2483
          ],
          [
           "Condeixa-a-Nova",
           "1920604",
           401
          ],
          [
           "Figueira da Foz",
           "1920605",
           1280
          ],
          [
           "Góis",
           "1920606",
           84
          ],
          [
           "Lousã",
           "1920607",
           260
          ],
          [
           "Mealhada",
           "1920111",
           287
          ],
          [
           "Mira",
           "1920608",
           327
          ],
          [
           "Miranda do Corvo",
           "1920609",
           218
          ],
          [
           "Montemor-o-Velho",
           "1920610",
           321
          ],
          [
           "Mortágua",
           "1921808",
           192
          ],
          [
           "Oliveira do Hospital",
           "1920611",
           267
          ],
          [
           "Pampilhosa da Serra",
           "1920612",
           129
          ],
          [
           "Penacova",
           "1920613",
           139
          ],
          [
           "Penela",
           "1920614",
           140
          ],
          [
           "Soure",
           "1920615",
           259
          ],
          [
           "Tábua",
           "1920616",
           268
          ],
          [
           "Vila Nova de Poiares",
           "1920617",
           128
          ],
          [
           "Alvaiázere",
           "1931002",
           157
          ],
          [
           "Ansião",
           "1931003",
           252
          ],
          [
           "Batalha",
           "1931004",
           399
          ],
          [
           "Castanheira de Pêra",
           "1931007",
           64
          ],
          [
           "Figueiró dos Vinhos",
           "1931008",
           120
          ],
          [
           "Leiria",
           "1931009",
           2501
          ],
          [
           "Marinha Grande",
           "1931010",
           956
          ],
          [
           "Pedrógão Grande",
           "1931013",
           143
          ],
          [
           "Pombal",
           "1931015",
           970
          ],
          [
           "Porto de Mós",
           "1931016",
           429
          ],
          [
           "Aguiar da Beira",
           "1940901",
           132
          ],
          [
           "Carregal do Sal",
           "1941802",
           181
          ],
          [
           "Castro Daire",
           "1941803",
           254
          ],
          [
           "Mangualde",
           "1941806",
           360
          ],
          [
           "Nelas",
           "1941809",
           274
          ],
          [
           "Oliveira de Frades",
           "1941810",
           189
          ],
          [
           "Penalva do Castelo",
           "1941811",
           150
          ],
          [
           "Santa Comba Dão",
           "1941814",
           220
          ],
          [
           "São Pedro do Sul",
           "1941816",
           300
          ],
          [
           "Sátão",
           "1941817",
           206
          ],
          [
           "Tondela",
           "1941821",
           413
          ],
          [
           "Vila Nova de Paiva",
           "1941822",
           121
          ],
          [
           "Viseu",
           "1941823",
           1882
          ],
          [
           "Vouzela",
           "1941824",
           186
          ],
          [
           "Castelo Branco",
           "1950502",
           872
          ],
          [
           "Idanha-a-Nova",
           "1950505",
           240
          ],
          [
           "Oleiros",
           "1950506",
           105
          ],
          [
           "Penamacor",
           "1950507",
           130
          ],
          [
           "Proença-a-Nova",
           "1950508",
           89
          ],
          [
           "Sertã",
           "1950509",
           197
          ],
          [
           "Vila de Rei",
           "1950510",
           98
          ],
          [
           "Vila Velha de Ródão",
           "1950511",
           107
          ],
          [
           "Almeida",
           "1960902",
           83
          ],
          [
           "Belmonte",
           "1960501",
           120
          ],
          [
           "Celorico da Beira",
           "1960903",
           132
          ],
          [
           "Covilhã",
           "1960503",
           635
          ],
          [
           "Figueira de Castelo Rodrigo",
           "1960904",
           53
          ],
          [
           "Fornos de Algodres",
           "1960905",
           74
          ],
          [
           "Fundão",
           "1960504",
           572
          ],
          [
           "Gouveia",
           "1960906",
           281
          ],
          [
           "Guarda",
           "1960907",
           390
          ],
          [
           "Manteigas",
           "1960908",
           43
          ],
          [
           "Mêda",
           "1960909",
           65
          ],
          [
           "Pinhel",
           "1960910",
           70
          ],
          [
           "Sabugal",
           "1960911",
           314
          ],
          [
           "Seia",
           "1960912",
           233
          ],
          [
           "Trancoso",
           "1960913",
           121
          ],
          [
           "Alcobaça",
           "1D11001",
           1242
          ],
          [
           "Alenquer",
           "1D11101",
           1489
          ],
          [
           "Arruda dos Vinhos",
           "1D11102",
           442
          ],
          [
           "Bombarral",
           "1D11005",
           517
          ],
          [
           "Cadaval",
           "1D11104",
           477
          ],
          [
           "Caldas da Rainha",
           "1D11006",
           1651
          ],
          [
           "Lourinhã",
           "1D11108",
           834
          ],
          [
           "Nazaré",
           "1D11011",
           379
          ],
          [
           "Óbidos",
           "1D11012",
           528
          ],
          [
           "Peniche",
           "1D11014",
           557
          ],
          [
           "Sobral de Monte Agraço",
           "1D11112",
           427
          ],
          [
           "Torres Vedras",
           "1D11113",
           2164
          ],
          [
           "Abrantes",
           "1D21401",
           359
          ],
          [
           "Alcanena",
           "1D21402",
           230
          ],
          [
           "Constância",
           "1D21408",
           101
          ],
          [
           "Entroncamento",
           "1D21410",
           667
          ],
          [
           "Ferreira do Zêzere",
           "1D21411",
           222
          ],
          [
           "Mação",
           "1D21413",
           128
          ],
          [
           "Ourém",
           "1D21421",
           1106
          ],
          [
           "Sardoal",
           "1D21417",
           97
          ],
          [
           "Tomar",
           "1D21418",
           797
          ],
          [
           "Torres Novas",
           "1D21419",
           633
          ],
          [
           "Vila Nova da Barquinha",
           "1D21420",
           319
          ],
          [
           "Almeirim",
           "1D31403",
           396
          ],
          [
           "Alpiarça",
           "1D31404",
           184
          ],
          [
           "Azambuja",
           "1D31103",
           648
          ],
          [
           "Benavente",
           "1D31405",
           757
          ],
          [
           "Cartaxo",
           "1D31406",
           503
          ],
          [
           "Chamusca",
           "1D31407",
           71
          ],
          [
           "Coruche",
           "1D31409",
           223
          ],
          [
           "Golegã",
           "1D31412",
           77
          ],
          [
           "Rio Maior",
           "1D31414",
           400
          ],
          [
           "Salvaterra de Magos",
           "1D31415",
           593
          ],
          [
           "Santarém",
           "1D31416",
           941
          ],
          [
           "Amadora",
           "1A01115",
           2849
          ],
          [
           "Cascais",
           "1A01105",
           2962
          ],
          [
           "Lisboa",
           "1A01106",
           10480
          ],
          [
           "Loures",
           "1A01107",
           2391
          ],
          [
           "Mafra",
           "1A01109",
           813
          ],
          [
           "Odivelas",
           "1A01116",
           2102
          ],
          [
           "Oeiras",
           "1A01110",
           2140
          ],
          [
           "Sintra",
           "1A01111",
           3779
          ],
          [
           "Vila Franca de Xira",
           "1A01114",
           863
          ],
          [
           "Alcochete",
           "1B01502",
           306
          ],
          [
           "Almada",
           "1B01503",
           2146
          ],
          [
           "Barreiro",
           "1B01504",
           1192
          ],
          [
           "Moita",
           "1B01506",
           1139
          ],
          [
           "Montijo",
           "1B01507",
           1133
          ],
          [
           "Palmela",
           "1B01508",
           1503
          ],
          [
           "Seixal",
           "1B01510",
           2760
          ],
          [
           "Sesimbra",
           "1B01511",
           983
          ],
          [
           "Setúbal",
           "1B01512",
           626
          ],
          [
           "Alcácer do Sal",
           "1C11501",
           109
          ],
          [
           "Grândola",
           "1C11505",
           264
          ],
          [
           "Odemira",
           "1C10211",
           1279
          ],
          [
           "Santiago do Cacém",
           "1C11509",
           332
          ],
          [
           "Sines",
           "1C11513",
           176
          ],
          [
           "Aljustrel",
           "1C20201",
           101
          ],
          [
           "Almodôvar",
           "1C20202",
           75
          ],
          [
           "Alvito",
           "1C20203",
           46
          ],
          [
           "Barrancos",
           "1C20204",
           -5
          ],
          [
           "Beja",
           "1C20205",
           384
          ],
          [
           "Castro Verde",
           "1C20206",
           96
          ],
          [
           "Cuba",
           "1C20207",
           90
          ],
          [
           "Ferreira do Alentejo",
           "1C20208",
           131
          ],
          [
           "Mértola",
           "1C20209",
           57
          ],
          [
           "Moura",
           "1C20210",
           75
          ],
          [
           "Ourique",
           "1C20212",
           79
          ],
          [
           "Serpa",
           "1C20213",
           154
          ],
          [
           "Vidigueira",
           "1C20214",
           83
          ],
          [
           "Alter do Chão",
           "1C31201",
           61
          ],
          [
           "Arronches",
           "1C31202",
           29
          ],
          [
           "Avis",
           "1C31203",
           63
          ],
          [
           "Campo Maior",
           "1C31204",
           22
          ],
          [
           "Castelo de Vide",
           "1C31205",
           30
          ],
          [
           "Crato",
           "1C31206",
           80
          ],
          [
           "Elvas",
           "1C31207",
           88
          ],
          [
           "Fronteira",
           "1C31208",
           76
          ],
          [
           "Gavião",
           "1C31209",
           49
          ],
          [
           "Marvão",
           "1C31210",
           30
          ],
          [
           "Monforte",
           "1C31211",
           52
          ],
          [
           "Nisa",
           "1C31212",
           67
          ],
          [
           "Ponte de Sor",
           "1C31213",
           137
          ],
          [
           "Portalegre",
           "1C31214",
           47
          ],
          [
           "Sousel",
           "1C31215",
           72
          ],
          [
           "Alandroal",
           "1C40701",
           52
          ],
          [
           "Arraiolos",
           "1C40702",
           129
          ],
          [
           "Borba",
           "1C40703",
           50
          ],
          [
           "Estremoz",
           "1C40704",
           55
          ],
          [
           "Évora",
           "1C40705",
           312
          ],
          [
           "Montemor-o-Novo",
           "1C40706",
           223
          ],
          [
           "Mora",
           "1C40707",
           58
          ],
          [
           "Mourão",
           "1C40708",
           35
          ],
          [
           "Portel",
           "1C40709",
           60
          ],
          [
           "Redondo",
           "1C40710",
           73
          ],
          [
           "Reguengos de Monsaraz",
           "1C40711",
           99
          ],
          [
           "Vendas Novas",
           "1C40712",
           165
          ],
          [
           "Viana do Alentejo",
           "1C40713",
           86
          ],
          [
           "Vila Viçosa",
           "1C40714",
           34
          ],
          [
           "Albufeira",
           "1500801",
           877
          ],
          [
           "Alcoutim",
           "1500802",
           11
          ],
          [
           "Aljezur",
           "1500803",
           130
          ],
          [
           "Castro Marim",
           "1500804",
           173
          ],
          [
           "Faro",
           "1500805",
           660
          ],
          [
           "Lagoa",
           "1500806",
           463
          ],
          [
           "Lagos",
           "1500807",
           525
          ],
          [
           "Loulé",
           "1500808",
           956
          ],
          [
           "Monchique",
           "1500809",
           33
          ],
          [
           "Olhão",
           "1500810",
           382
          ],
          [
           "Portimão",
           "1500811",
           999
          ],
          [
           "São Brás de Alportel",
           "1500812",
           160
          ],
          [
           "Silves",
           "1500813",
           730
          ],
          [
           "Tavira",
           "1500814",
           378
          ],
          [
           "Vila do Bispo",
           "1500815",
           88
          ],
          [
           "Vila Real de Santo António",
           "1500816",
           245
          ],
          [
           "Angra do Heroísmo",
           "2004301",
           10
          ],
          [
           "Calheta (R.A.A.)",
           "2004501",
           9
          ],
          [
           "Corvo",
           "2004901",
           5
          ],
          [
           "Horta",
           "2004701",
           74
          ],
          [
           "Lagoa (R.A.A.)",
           "2004201",
           175
          ],
          [
           "Lajes das Flores",
           "2004801",
           23
          ],
          [
           "Lajes do Pico",
           "2004601",
           58
          ],
          [
           "Madalena",
           "2004602",
           57
          ],
          [
           "Nordeste",
           "2004202",
           14
          ],
          [
           "Ponta Delgada",
           "2004203",
           386
          ],
          [
           "Povoação",
           "2004204",
           4
          ],
          [
           "Ribeira Grande",
           "2004205",
           125
          ],
          [
           "Santa Cruz da Graciosa",
           "2004401",
           1
          ],
          [
           "Santa Cruz das Flores",
           "2004802",
           46
          ],
          [
           "São Roque do Pico",
           "2004603",
           66
          ],
          [
           "Velas",
           "2004502",
           31
          ],
          [
           "Vila da Praia da Vitória",
           "2004302",
           139
          ],
          [
           "Vila do Porto",
           "2004101",
           16
          ],
          [
           "Vila Franca do Campo",
           "2004206",
           -12
          ],
          [
           "Calheta (R.A.M.)",
           "3003101",
           279
          ],
          [
           "Câmara de Lobos",
           "3003102",
           363
          ],
          [
           "Funchal",
           "3003103",
           1090
          ],
          [
           "Machico",
           "3003104",
           144
          ],
          [
           "Ponta do Sol",
           "3003105",
           213
          ],
          [
           "Porto Moniz",
           "3003106",
           71
          ],
          [
           "Ribeira Brava",
           "3003107",
           292
          ],
          [
           "Santa Cruz",
           "3003108",
           685
          ],
          [
           "Santana",
           "3003109",
           82
          ],
          [
           "São Vicente",
           "3003110",
           152
          ],
          [
           "Porto Santo",
           "3003201",
           221
          ]
         ],
         "hovertemplate": "valor=%{x}<br>y=%{y}<br>local=%{customdata[0]}<br>codigo=%{customdata[1]}<br>Saldo migratório=%{customdata[2]}<br>cluster_saldo_migratorio=%{marker.color}<extra></extra>",
         "legendgroup": "",
         "marker": {
          "color": [
           0,
           0,
           0,
           0,
           0,
           0,
           0,
           0,
           0,
           0,
           0,
           0,
           1,
           0,
           0,
           0,
           0,
           0,
           0,
           0,
           0,
           0,
           0,
           0,
           0,
           0,
           1,
           1,
           1,
           0,
           0,
           2,
           1,
           1,
           0,
           0,
           0,
           0,
           1,
           1,
           1,
           0,
           0,
           0,
           0,
           0,
           0,
           0,
           0,
           0,
           0,
           0,
           0,
           0,
           0,
           0,
           0,
           0,
           0,
           0,
           0,
           0,
           0,
           0,
           0,
           0,
           0,
           0,
           0,
           0,
           0,
           0,
           0,
           0,
           0,
           0,
           0,
           0,
           0,
           0,
           0,
           0,
           0,
           0,
           0,
           0,
           0,
           0,
           0,
           1,
           0,
           1,
           0,
           0,
           0,
           0,
           0,
           0,
           0,
           1,
           0,
           1,
           0,
           0,
           0,
           0,
           0,
           0,
           0,
           0,
           0,
           0,
           0,
           0,
           0,
           0,
           0,
           0,
           0,
           0,
           0,
           1,
           0,
           0,
           0,
           0,
           0,
           0,
           0,
           0,
           0,
           0,
           0,
           0,
           0,
           0,
           0,
           0,
           1,
           0,
           0,
           0,
           0,
           0,
           0,
           0,
           0,
           0,
           0,
           0,
           0,
           0,
           0,
           0,
           0,
           0,
           0,
           0,
           0,
           0,
           0,
           0,
           0,
           1,
           1,
           0,
           0,
           0,
           1,
           0,
           0,
           0,
           0,
           0,
           1,
           0,
           0,
           0,
           0,
           0,
           0,
           0,
           0,
           0,
           0,
           0,
           0,
           0,
           0,
           0,
           0,
           0,
           0,
           0,
           0,
           0,
           0,
           1,
           1,
           2,
           1,
           0,
           1,
           1,
           1,
           0,
           0,
           1,
           1,
           0,
           0,
           1,
           1,
           0,
           0,
           0,
           0,
           1,
           0,
           0,
           0,
           0,
           0,
           0,
           0,
           0,
           0,
           0,
           0,
           0,
           0,
           0,
           0,
           0,
           0,
           0,
           0,
           0,
           0,
           0,
           0,
           0,
           0,
           0,
           0,
           0,
           0,
           0,
           0,
           0,
           0,
           0,
           0,
           0,
           0,
           0,
           0,
           0,
           0,
           0,
           0,
           0,
           0,
           0,
           0,
           0,
           0,
           0,
           0,
           0,
           0,
           0,
           0,
           0,
           0,
           0,
           0,
           0,
           0,
           0,
           0,
           0,
           0,
           0,
           0,
           0,
           0,
           0,
           0,
           0,
           0,
           0,
           0,
           0,
           0,
           0,
           0,
           0,
           0,
           0,
           0,
           0,
           0,
           0,
           0,
           0,
           0,
           0
          ],
          "coloraxis": "coloraxis",
          "size": 10,
          "symbol": "circle"
         },
         "mode": "markers",
         "name": "",
         "orientation": "v",
         "showlegend": false,
         "type": "scatter",
         "x": [
          -0.11085993908704395,
          -0.1876337031544182,
          -0.4017351860465324,
          -0.21142275680909756,
          -0.42228027783921,
          -0.3725395292885168,
          -0.24818765791178385,
          -0.22764256611910622,
          0.342213400972531,
          -0.3368559488064978,
          -0.1270797483970526,
          -0.06436315239835248,
          2.8032991336111768,
          0.18542191097578073,
          -0.45580121707989457,
          0.2546264306984843,
          -0.38551537673652375,
          -0.23845577232577864,
          0.0037600467036838455,
          -0.4871595150792446,
          -0.09464012977703529,
          -0.3649702849438461,
          0.6298446860700178,
          -0.3455065137718357,
          -0.506623286251255,
          0.19839775842378762,
          1.2570106460570187,
          2.1166605394874773,
          2.54702614651304,
          0.13351852118375304,
          0.08702173449506158,
          6.750119399046615,
          1.00938822392422,
          1.0731861405435874,
          -0.07409503798435767,
          0.062151360219714985,
          -0.052468625571012804,
          -0.39849122418453065,
          1.418127418536438,
          1.05264104875091,
          2.9438708142979184,
          -0.49256611818258084,
          -0.052468625571012804,
          -0.3790274530125203,
          -0.4590451789418963,
          -0.27846463529046667,
          -0.35848236121984267,
          -0.15843804639640266,
          -0.4806715913552411,
          -0.43633744590788415,
          -0.34334387253050125,
          -0.4968914006652498,
          -0.5466321492159429,
          -0.11842918343171464,
          -0.3346933075651633,
          -0.4320121634252152,
          -0.04165541936434037,
          -0.5650145997672861,
          -0.4525572552178928,
          -0.506623286251255,
          -0.47310234701057047,
          -0.5271683780439326,
          -0.3898406592191927,
          -0.5336563017679361,
          -0.3476691550131702,
          -0.4460693314938894,
          -0.506623286251255,
          -0.4795902707345739,
          -0.4601264995625635,
          -0.48283423259657565,
          -0.497972721285917,
          -0.40822310977053583,
          -0.4947287594239153,
          -0.3519944374958392,
          -0.46877706452790147,
          -0.41362971287387207,
          -0.002727877020319614,
          -0.5120298893545912,
          0.12162399435641337,
          -0.29360312397980803,
          -0.5163551718372602,
          -0.2644074672217925,
          -0.4795902707345739,
          -0.4590451789418963,
          -0.4449880108732221,
          -0.47093970576923594,
          0.30220453800784297,
          0.016735894151690765,
          0.037280985944368385,
          2.0420494166614374,
          0.04809419215104082,
          0.8525967339274698,
          -0.1595193670170699,
          0.3876288670405552,
          0.4633213104872622,
          -0.4114670716325376,
          0.3216683091798534,
          -0.21034143618843032,
          0.2546264306984843,
          2.138286951900822,
          -0.11302258032837843,
          0.8374582452381284,
          -0.45580121707989457,
          -0.2654887878424597,
          -0.23629313108444416,
          -0.19304030625775442,
          -0.31090425391048393,
          -0.1995282299817579,
          -0.3390185900478323,
          -0.257919543497789,
          -0.4071417891498686,
          -0.3963285829431962,
          -0.39524726232252894,
          -0.26657010846312695,
          -0.25683822287712177,
          -0.40822310977053583,
          -0.3768648117711858,
          -0.27413935280779766,
          -0.11518522156971292,
          -0.4774276294932394,
          -0.4168736747358738,
          2.1577507230728323,
          0.4871103641419416,
          -0.39200330046052717,
          0.502248852831283,
          -0.08274560294969562,
          -0.4038978272878669,
          -0.35091311687517196,
          -0.2719767115664632,
          -0.1573567257757354,
          -0.25035029915311835,
          -0.342262551909834,
          -0.3844340561158565,
          -0.30874161266914946,
          -0.22223596301577,
          -0.3238801013584909,
          -0.10004673288037151,
          -0.41579235411520654,
          1.488413258879809,
          -0.3455065137718357,
          0.39627943200589316,
          -0.2871152002558046,
          -0.43309348404588244,
          -0.40606046852920136,
          -0.45039461397655833,
          -0.33361198694449606,
          -0.44066272839055315,
          -0.43093084280454796,
          -0.4568825377005618,
          -0.4168736747358738,
          -0.4038978272878669,
          0.1400064449077565,
          -0.48932215632057907,
          -0.466614423286567,
          0.07188324580572017,
          -0.2427810548084476,
          -0.1249171071557181,
          -0.5001353625272515,
          -0.4763463088725722,
          -0.47093970576923594,
          -0.20709747432642858,
          -0.2946844446004753,
          -0.41579235411520654,
          0.7963680616527732,
          1.0634542549575823,
          -0.06868843488102146,
          0.012410611669021791,
          -0.030842213157667938,
          1.2386281955056757,
          0.3551892484205379,
          -0.1368116339830578,
          0.02430513849636147,
          0.055663436495711524,
          -0.0849082441910301,
          1.7933456739079714,
          -0.15843804639640266,
          -0.29792840646247704,
          -0.43741876652855144,
          0.17460870476910828,
          -0.306578971427815,
          -0.40822310977053583,
          0.6493084572420281,
          -0.4417440490112204,
          0.3151803854558499,
          0.13784380366642202,
          -0.20169087122309237,
          -0.11842918343171464,
          -0.3476691550131702,
          0.15406361297643067,
          0.2719275606291602,
          -0.002727877020319614,
          -0.4698583851485687,
          -0.30549765080714775,
          -0.4633704614245652,
          -0.11410390094904567,
          0.09459097883973228,
          0.47089055483193293,
          2.5340502990650333,
          2.6562395292004317,
          10.785607955376767,
          2.038805454799436,
          0.3324815153865258,
          1.7263037954266025,
          1.7673939790119577,
          3.5396784762855695,
          0.386547546419888,
          -0.21574803929176653,
          1.7738819027359611,
          0.742302030619411,
          0.6849920377240472,
          0.6785041140000436,
          1.0785927436469236,
          2.4378127638256486,
          0.5163060208999571,
          0.1302745593217513,
          -0.4287682015632135,
          -0.26116350535979077,
          0.8363769246174612,
          -0.1876337031544182,
          -0.35631971997850814,
          -0.43741876652855144,
          -0.46553310266589976,
          -0.4968914006652498,
          -0.5520387523192792,
          -0.13140503087972155,
          -0.4428253696318876,
          -0.4493132933558911,
          -0.4049791479085341,
          -0.4849968738379101,
          -0.46553310266589976,
          -0.46120782018323075,
          -0.3801087736331875,
          -0.4568825377005618,
          -0.4806715913552411,
          -0.515273851216593,
          -0.47850895011390665,
          -0.5228430955612636,
          -0.5141925305959257,
          -0.4601264995625635,
          -0.45147593459722557,
          -0.4644517820452325,
          -0.4936474388032481,
          -0.5141925305959257,
          -0.4904034769412463,
          -0.4741836676312377,
          -0.39849122418453065,
          -0.49581008004458255,
          -0.46877706452790147,
          -0.4904034769412463,
          -0.4071417891498686,
          -0.49256611818258084,
          -0.4871595150792446,
          -0.20926011556776308,
          -0.30549765080714775,
          -0.4839155532172429,
          -0.5087859274925894,
          -0.4817529119759084,
          -0.46769574390723423,
          -0.4395814077698859,
          -0.36821424680584786,
          -0.45363857583856004,
          -0.5098672481132567,
          0.4016860351092294,
          -0.5347376223886033,
          -0.40606046852920136,
          -0.3595636818405099,
          0.16703946042443757,
          -0.04598070184700934,
          0.02106117663435974,
          0.4871103641419416,
          -0.5109485687339239,
          -0.13356767212105605,
          0.533607150830633,
          -0.37362084990918404,
          0.2427319038711446,
          -0.13789295460372503,
          -0.45147593459722557,
          -0.2817085971524684,
          -0.5358189430092706,
          -0.5369002636299378,
          -0.5412255461126068,
          -0.466614423286567,
          -0.35740104059917543,
          -0.5217617749405964,
          -0.4839155532172429,
          -0.4849968738379101,
          -0.5314936605266016,
          -0.12924238963838708,
          -0.542306866733274,
          -0.4114670716325376,
          -0.5455508285952757,
          -0.4968914006652498,
          -0.47526498825190494,
          -0.5131112099752585,
          -0.3963285829431962,
          -0.529331019285267,
          -0.5596079966639499,
          -0.2449436960497821,
          -0.15411276391373369,
          0.6320073273113522,
          -0.39092197983985993,
          -0.31631085701382017,
          -0.4698583851485687,
          -0.23088652798110795,
          0.19407247594111868,
          -0.45796385832122904,
          -0.382271414874522,
          -0.3076602920484822
         ],
         "xaxis": "x",
         "y": [
          0,
          0,
          0,
          0,
          0,
          0,
          0,
          0,
          0,
          0,
          0,
          0,
          0,
          0,
          0,
          0,
          0,
          0,
          0,
          0,
          0,
          0,
          0,
          0,
          0,
          0,
          0,
          0,
          0,
          0,
          0,
          0,
          0,
          0,
          0,
          0,
          0,
          0,
          0,
          0,
          0,
          0,
          0,
          0,
          0,
          0,
          0,
          0,
          0,
          0,
          0,
          0,
          0,
          0,
          0,
          0,
          0,
          0,
          0,
          0,
          0,
          0,
          0,
          0,
          0,
          0,
          0,
          0,
          0,
          0,
          0,
          0,
          0,
          0,
          0,
          0,
          0,
          0,
          0,
          0,
          0,
          0,
          0,
          0,
          0,
          0,
          0,
          0,
          0,
          0,
          0,
          0,
          0,
          0,
          0,
          0,
          0,
          0,
          0,
          0,
          0,
          0,
          0,
          0,
          0,
          0,
          0,
          0,
          0,
          0,
          0,
          0,
          0,
          0,
          0,
          0,
          0,
          0,
          0,
          0,
          0,
          0,
          0,
          0,
          0,
          0,
          0,
          0,
          0,
          0,
          0,
          0,
          0,
          0,
          0,
          0,
          0,
          0,
          0,
          0,
          0,
          0,
          0,
          0,
          0,
          0,
          0,
          0,
          0,
          0,
          0,
          0,
          0,
          0,
          0,
          0,
          0,
          0,
          0,
          0,
          0,
          0,
          0,
          0,
          0,
          0,
          0,
          0,
          0,
          0,
          0,
          0,
          0,
          0,
          0,
          0,
          0,
          0,
          0,
          0,
          0,
          0,
          0,
          0,
          0,
          0,
          0,
          0,
          0,
          0,
          0,
          0,
          0,
          0,
          0,
          0,
          0,
          0,
          0,
          0,
          0,
          0,
          0,
          0,
          0,
          0,
          0,
          0,
          0,
          0,
          0,
          0,
          0,
          0,
          0,
          0,
          0,
          0,
          0,
          0,
          0,
          0,
          0,
          0,
          0,
          0,
          0,
          0,
          0,
          0,
          0,
          0,
          0,
          0,
          0,
          0,
          0,
          0,
          0,
          0,
          0,
          0,
          0,
          0,
          0,
          0,
          0,
          0,
          0,
          0,
          0,
          0,
          0,
          0,
          0,
          0,
          0,
          0,
          0,
          0,
          0,
          0,
          0,
          0,
          0,
          0,
          0,
          0,
          0,
          0,
          0,
          0,
          0,
          0,
          0,
          0,
          0,
          0,
          0,
          0,
          0,
          0,
          0,
          0,
          0,
          0,
          0,
          0,
          0,
          0,
          0,
          0,
          0,
          0,
          0,
          0,
          0,
          0,
          0,
          0,
          0,
          0,
          0,
          0,
          0,
          0,
          0,
          0
         ],
         "yaxis": "y"
        }
       ],
       "layout": {
        "coloraxis": {
         "colorbar": {
          "title": {
           "text": "cluster_saldo_migratorio"
          }
         },
         "colorscale": [
          [
           0,
           "#440154"
          ],
          [
           0.1111111111111111,
           "#482878"
          ],
          [
           0.2222222222222222,
           "#3e4989"
          ],
          [
           0.3333333333333333,
           "#31688e"
          ],
          [
           0.4444444444444444,
           "#26828e"
          ],
          [
           0.5555555555555556,
           "#1f9e89"
          ],
          [
           0.6666666666666666,
           "#35b779"
          ],
          [
           0.7777777777777778,
           "#6ece58"
          ],
          [
           0.8888888888888888,
           "#b5de2b"
          ],
          [
           1,
           "#fde725"
          ]
         ]
        },
        "height": 300,
        "legend": {
         "tracegroupgap": 0
        },
        "margin": {
         "t": 60
        },
        "template": {
         "data": {
          "bar": [
           {
            "error_x": {
             "color": "#2a3f5f"
            },
            "error_y": {
             "color": "#2a3f5f"
            },
            "marker": {
             "line": {
              "color": "#E5ECF6",
              "width": 0.5
             },
             "pattern": {
              "fillmode": "overlay",
              "size": 10,
              "solidity": 0.2
             }
            },
            "type": "bar"
           }
          ],
          "barpolar": [
           {
            "marker": {
             "line": {
              "color": "#E5ECF6",
              "width": 0.5
             },
             "pattern": {
              "fillmode": "overlay",
              "size": 10,
              "solidity": 0.2
             }
            },
            "type": "barpolar"
           }
          ],
          "carpet": [
           {
            "aaxis": {
             "endlinecolor": "#2a3f5f",
             "gridcolor": "white",
             "linecolor": "white",
             "minorgridcolor": "white",
             "startlinecolor": "#2a3f5f"
            },
            "baxis": {
             "endlinecolor": "#2a3f5f",
             "gridcolor": "white",
             "linecolor": "white",
             "minorgridcolor": "white",
             "startlinecolor": "#2a3f5f"
            },
            "type": "carpet"
           }
          ],
          "choropleth": [
           {
            "colorbar": {
             "outlinewidth": 0,
             "ticks": ""
            },
            "type": "choropleth"
           }
          ],
          "contour": [
           {
            "colorbar": {
             "outlinewidth": 0,
             "ticks": ""
            },
            "colorscale": [
             [
              0,
              "#0d0887"
             ],
             [
              0.1111111111111111,
              "#46039f"
             ],
             [
              0.2222222222222222,
              "#7201a8"
             ],
             [
              0.3333333333333333,
              "#9c179e"
             ],
             [
              0.4444444444444444,
              "#bd3786"
             ],
             [
              0.5555555555555556,
              "#d8576b"
             ],
             [
              0.6666666666666666,
              "#ed7953"
             ],
             [
              0.7777777777777778,
              "#fb9f3a"
             ],
             [
              0.8888888888888888,
              "#fdca26"
             ],
             [
              1,
              "#f0f921"
             ]
            ],
            "type": "contour"
           }
          ],
          "contourcarpet": [
           {
            "colorbar": {
             "outlinewidth": 0,
             "ticks": ""
            },
            "type": "contourcarpet"
           }
          ],
          "heatmap": [
           {
            "colorbar": {
             "outlinewidth": 0,
             "ticks": ""
            },
            "colorscale": [
             [
              0,
              "#0d0887"
             ],
             [
              0.1111111111111111,
              "#46039f"
             ],
             [
              0.2222222222222222,
              "#7201a8"
             ],
             [
              0.3333333333333333,
              "#9c179e"
             ],
             [
              0.4444444444444444,
              "#bd3786"
             ],
             [
              0.5555555555555556,
              "#d8576b"
             ],
             [
              0.6666666666666666,
              "#ed7953"
             ],
             [
              0.7777777777777778,
              "#fb9f3a"
             ],
             [
              0.8888888888888888,
              "#fdca26"
             ],
             [
              1,
              "#f0f921"
             ]
            ],
            "type": "heatmap"
           }
          ],
          "heatmapgl": [
           {
            "colorbar": {
             "outlinewidth": 0,
             "ticks": ""
            },
            "colorscale": [
             [
              0,
              "#0d0887"
             ],
             [
              0.1111111111111111,
              "#46039f"
             ],
             [
              0.2222222222222222,
              "#7201a8"
             ],
             [
              0.3333333333333333,
              "#9c179e"
             ],
             [
              0.4444444444444444,
              "#bd3786"
             ],
             [
              0.5555555555555556,
              "#d8576b"
             ],
             [
              0.6666666666666666,
              "#ed7953"
             ],
             [
              0.7777777777777778,
              "#fb9f3a"
             ],
             [
              0.8888888888888888,
              "#fdca26"
             ],
             [
              1,
              "#f0f921"
             ]
            ],
            "type": "heatmapgl"
           }
          ],
          "histogram": [
           {
            "marker": {
             "pattern": {
              "fillmode": "overlay",
              "size": 10,
              "solidity": 0.2
             }
            },
            "type": "histogram"
           }
          ],
          "histogram2d": [
           {
            "colorbar": {
             "outlinewidth": 0,
             "ticks": ""
            },
            "colorscale": [
             [
              0,
              "#0d0887"
             ],
             [
              0.1111111111111111,
              "#46039f"
             ],
             [
              0.2222222222222222,
              "#7201a8"
             ],
             [
              0.3333333333333333,
              "#9c179e"
             ],
             [
              0.4444444444444444,
              "#bd3786"
             ],
             [
              0.5555555555555556,
              "#d8576b"
             ],
             [
              0.6666666666666666,
              "#ed7953"
             ],
             [
              0.7777777777777778,
              "#fb9f3a"
             ],
             [
              0.8888888888888888,
              "#fdca26"
             ],
             [
              1,
              "#f0f921"
             ]
            ],
            "type": "histogram2d"
           }
          ],
          "histogram2dcontour": [
           {
            "colorbar": {
             "outlinewidth": 0,
             "ticks": ""
            },
            "colorscale": [
             [
              0,
              "#0d0887"
             ],
             [
              0.1111111111111111,
              "#46039f"
             ],
             [
              0.2222222222222222,
              "#7201a8"
             ],
             [
              0.3333333333333333,
              "#9c179e"
             ],
             [
              0.4444444444444444,
              "#bd3786"
             ],
             [
              0.5555555555555556,
              "#d8576b"
             ],
             [
              0.6666666666666666,
              "#ed7953"
             ],
             [
              0.7777777777777778,
              "#fb9f3a"
             ],
             [
              0.8888888888888888,
              "#fdca26"
             ],
             [
              1,
              "#f0f921"
             ]
            ],
            "type": "histogram2dcontour"
           }
          ],
          "mesh3d": [
           {
            "colorbar": {
             "outlinewidth": 0,
             "ticks": ""
            },
            "type": "mesh3d"
           }
          ],
          "parcoords": [
           {
            "line": {
             "colorbar": {
              "outlinewidth": 0,
              "ticks": ""
             }
            },
            "type": "parcoords"
           }
          ],
          "pie": [
           {
            "automargin": true,
            "type": "pie"
           }
          ],
          "scatter": [
           {
            "fillpattern": {
             "fillmode": "overlay",
             "size": 10,
             "solidity": 0.2
            },
            "type": "scatter"
           }
          ],
          "scatter3d": [
           {
            "line": {
             "colorbar": {
              "outlinewidth": 0,
              "ticks": ""
             }
            },
            "marker": {
             "colorbar": {
              "outlinewidth": 0,
              "ticks": ""
             }
            },
            "type": "scatter3d"
           }
          ],
          "scattercarpet": [
           {
            "marker": {
             "colorbar": {
              "outlinewidth": 0,
              "ticks": ""
             }
            },
            "type": "scattercarpet"
           }
          ],
          "scattergeo": [
           {
            "marker": {
             "colorbar": {
              "outlinewidth": 0,
              "ticks": ""
             }
            },
            "type": "scattergeo"
           }
          ],
          "scattergl": [
           {
            "marker": {
             "colorbar": {
              "outlinewidth": 0,
              "ticks": ""
             }
            },
            "type": "scattergl"
           }
          ],
          "scattermapbox": [
           {
            "marker": {
             "colorbar": {
              "outlinewidth": 0,
              "ticks": ""
             }
            },
            "type": "scattermapbox"
           }
          ],
          "scatterpolar": [
           {
            "marker": {
             "colorbar": {
              "outlinewidth": 0,
              "ticks": ""
             }
            },
            "type": "scatterpolar"
           }
          ],
          "scatterpolargl": [
           {
            "marker": {
             "colorbar": {
              "outlinewidth": 0,
              "ticks": ""
             }
            },
            "type": "scatterpolargl"
           }
          ],
          "scatterternary": [
           {
            "marker": {
             "colorbar": {
              "outlinewidth": 0,
              "ticks": ""
             }
            },
            "type": "scatterternary"
           }
          ],
          "surface": [
           {
            "colorbar": {
             "outlinewidth": 0,
             "ticks": ""
            },
            "colorscale": [
             [
              0,
              "#0d0887"
             ],
             [
              0.1111111111111111,
              "#46039f"
             ],
             [
              0.2222222222222222,
              "#7201a8"
             ],
             [
              0.3333333333333333,
              "#9c179e"
             ],
             [
              0.4444444444444444,
              "#bd3786"
             ],
             [
              0.5555555555555556,
              "#d8576b"
             ],
             [
              0.6666666666666666,
              "#ed7953"
             ],
             [
              0.7777777777777778,
              "#fb9f3a"
             ],
             [
              0.8888888888888888,
              "#fdca26"
             ],
             [
              1,
              "#f0f921"
             ]
            ],
            "type": "surface"
           }
          ],
          "table": [
           {
            "cells": {
             "fill": {
              "color": "#EBF0F8"
             },
             "line": {
              "color": "white"
             }
            },
            "header": {
             "fill": {
              "color": "#C8D4E3"
             },
             "line": {
              "color": "white"
             }
            },
            "type": "table"
           }
          ]
         },
         "layout": {
          "annotationdefaults": {
           "arrowcolor": "#2a3f5f",
           "arrowhead": 0,
           "arrowwidth": 1
          },
          "autotypenumbers": "strict",
          "coloraxis": {
           "colorbar": {
            "outlinewidth": 0,
            "ticks": ""
           }
          },
          "colorscale": {
           "diverging": [
            [
             0,
             "#8e0152"
            ],
            [
             0.1,
             "#c51b7d"
            ],
            [
             0.2,
             "#de77ae"
            ],
            [
             0.3,
             "#f1b6da"
            ],
            [
             0.4,
             "#fde0ef"
            ],
            [
             0.5,
             "#f7f7f7"
            ],
            [
             0.6,
             "#e6f5d0"
            ],
            [
             0.7,
             "#b8e186"
            ],
            [
             0.8,
             "#7fbc41"
            ],
            [
             0.9,
             "#4d9221"
            ],
            [
             1,
             "#276419"
            ]
           ],
           "sequential": [
            [
             0,
             "#0d0887"
            ],
            [
             0.1111111111111111,
             "#46039f"
            ],
            [
             0.2222222222222222,
             "#7201a8"
            ],
            [
             0.3333333333333333,
             "#9c179e"
            ],
            [
             0.4444444444444444,
             "#bd3786"
            ],
            [
             0.5555555555555556,
             "#d8576b"
            ],
            [
             0.6666666666666666,
             "#ed7953"
            ],
            [
             0.7777777777777778,
             "#fb9f3a"
            ],
            [
             0.8888888888888888,
             "#fdca26"
            ],
            [
             1,
             "#f0f921"
            ]
           ],
           "sequentialminus": [
            [
             0,
             "#0d0887"
            ],
            [
             0.1111111111111111,
             "#46039f"
            ],
            [
             0.2222222222222222,
             "#7201a8"
            ],
            [
             0.3333333333333333,
             "#9c179e"
            ],
            [
             0.4444444444444444,
             "#bd3786"
            ],
            [
             0.5555555555555556,
             "#d8576b"
            ],
            [
             0.6666666666666666,
             "#ed7953"
            ],
            [
             0.7777777777777778,
             "#fb9f3a"
            ],
            [
             0.8888888888888888,
             "#fdca26"
            ],
            [
             1,
             "#f0f921"
            ]
           ]
          },
          "colorway": [
           "#636efa",
           "#EF553B",
           "#00cc96",
           "#ab63fa",
           "#FFA15A",
           "#19d3f3",
           "#FF6692",
           "#B6E880",
           "#FF97FF",
           "#FECB52"
          ],
          "font": {
           "color": "#2a3f5f"
          },
          "geo": {
           "bgcolor": "white",
           "lakecolor": "white",
           "landcolor": "#E5ECF6",
           "showlakes": true,
           "showland": true,
           "subunitcolor": "white"
          },
          "hoverlabel": {
           "align": "left"
          },
          "hovermode": "closest",
          "mapbox": {
           "style": "light"
          },
          "paper_bgcolor": "white",
          "plot_bgcolor": "#E5ECF6",
          "polar": {
           "angularaxis": {
            "gridcolor": "white",
            "linecolor": "white",
            "ticks": ""
           },
           "bgcolor": "#E5ECF6",
           "radialaxis": {
            "gridcolor": "white",
            "linecolor": "white",
            "ticks": ""
           }
          },
          "scene": {
           "xaxis": {
            "backgroundcolor": "#E5ECF6",
            "gridcolor": "white",
            "gridwidth": 2,
            "linecolor": "white",
            "showbackground": true,
            "ticks": "",
            "zerolinecolor": "white"
           },
           "yaxis": {
            "backgroundcolor": "#E5ECF6",
            "gridcolor": "white",
            "gridwidth": 2,
            "linecolor": "white",
            "showbackground": true,
            "ticks": "",
            "zerolinecolor": "white"
           },
           "zaxis": {
            "backgroundcolor": "#E5ECF6",
            "gridcolor": "white",
            "gridwidth": 2,
            "linecolor": "white",
            "showbackground": true,
            "ticks": "",
            "zerolinecolor": "white"
           }
          },
          "shapedefaults": {
           "line": {
            "color": "#2a3f5f"
           }
          },
          "ternary": {
           "aaxis": {
            "gridcolor": "white",
            "linecolor": "white",
            "ticks": ""
           },
           "baxis": {
            "gridcolor": "white",
            "linecolor": "white",
            "ticks": ""
           },
           "bgcolor": "#E5ECF6",
           "caxis": {
            "gridcolor": "white",
            "linecolor": "white",
            "ticks": ""
           }
          },
          "title": {
           "x": 0.05
          },
          "xaxis": {
           "automargin": true,
           "gridcolor": "white",
           "linecolor": "white",
           "ticks": "",
           "title": {
            "standoff": 15
           },
           "zerolinecolor": "white",
           "zerolinewidth": 2
          },
          "yaxis": {
           "automargin": true,
           "gridcolor": "white",
           "linecolor": "white",
           "ticks": "",
           "title": {
            "standoff": 15
           },
           "zerolinecolor": "white",
           "zerolinewidth": 2
          }
         }
        },
        "xaxis": {
         "anchor": "y",
         "domain": [
          0,
          1
         ],
         "title": {
          "text": "Saldo migratório"
         }
        },
        "yaxis": {
         "anchor": "x",
         "domain": [
          0,
          1
         ],
         "showgrid": false,
         "showticklabels": false,
         "title": {
          "text": "y"
         }
        }
       }
      }
     },
     "metadata": {},
     "output_type": "display_data"
    },
    {
     "name": "stdout",
     "output_type": "stream",
     "text": [
      "cluster_saldo_migratorio\n",
      "0    276\n",
      "1     30\n",
      "2      2\n",
      "Name: count, dtype: int64\n"
     ]
    },
    {
     "data": {
      "text/html": [
       "<div>\n",
       "<style scoped>\n",
       "    .dataframe tbody tr th:only-of-type {\n",
       "        vertical-align: middle;\n",
       "    }\n",
       "\n",
       "    .dataframe tbody tr th {\n",
       "        vertical-align: top;\n",
       "    }\n",
       "\n",
       "    .dataframe thead th {\n",
       "        text-align: right;\n",
       "    }\n",
       "</style>\n",
       "<table border=\"1\" class=\"dataframe\">\n",
       "  <thead>\n",
       "    <tr style=\"text-align: right;\">\n",
       "      <th></th>\n",
       "      <th>local</th>\n",
       "      <th>codigo</th>\n",
       "      <th>Saldo migratório</th>\n",
       "      <th>cluster_saldo_migratorio</th>\n",
       "    </tr>\n",
       "  </thead>\n",
       "  <tbody>\n",
       "    <tr>\n",
       "      <th>4</th>\n",
       "      <td>Arcos de Valdevez</td>\n",
       "      <td>1111601</td>\n",
       "      <td>403.0</td>\n",
       "      <td>0</td>\n",
       "    </tr>\n",
       "    <tr>\n",
       "      <th>5</th>\n",
       "      <td>Caminha</td>\n",
       "      <td>1111602</td>\n",
       "      <td>332.0</td>\n",
       "      <td>0</td>\n",
       "    </tr>\n",
       "    <tr>\n",
       "      <th>6</th>\n",
       "      <td>Melgaço</td>\n",
       "      <td>1111603</td>\n",
       "      <td>134.0</td>\n",
       "      <td>0</td>\n",
       "    </tr>\n",
       "    <tr>\n",
       "      <th>7</th>\n",
       "      <td>Monção</td>\n",
       "      <td>1111604</td>\n",
       "      <td>310.0</td>\n",
       "      <td>0</td>\n",
       "    </tr>\n",
       "    <tr>\n",
       "      <th>8</th>\n",
       "      <td>Paredes de Coura</td>\n",
       "      <td>1111605</td>\n",
       "      <td>115.0</td>\n",
       "      <td>0</td>\n",
       "    </tr>\n",
       "    <tr>\n",
       "      <th>...</th>\n",
       "      <td>...</td>\n",
       "      <td>...</td>\n",
       "      <td>...</td>\n",
       "      <td>...</td>\n",
       "    </tr>\n",
       "    <tr>\n",
       "      <th>342</th>\n",
       "      <td>Ribeira Brava</td>\n",
       "      <td>3003107</td>\n",
       "      <td>292.0</td>\n",
       "      <td>0</td>\n",
       "    </tr>\n",
       "    <tr>\n",
       "      <th>343</th>\n",
       "      <td>Santa Cruz</td>\n",
       "      <td>3003108</td>\n",
       "      <td>685.0</td>\n",
       "      <td>0</td>\n",
       "    </tr>\n",
       "    <tr>\n",
       "      <th>344</th>\n",
       "      <td>Santana</td>\n",
       "      <td>3003109</td>\n",
       "      <td>82.0</td>\n",
       "      <td>0</td>\n",
       "    </tr>\n",
       "    <tr>\n",
       "      <th>345</th>\n",
       "      <td>São Vicente</td>\n",
       "      <td>3003110</td>\n",
       "      <td>152.0</td>\n",
       "      <td>0</td>\n",
       "    </tr>\n",
       "    <tr>\n",
       "      <th>346</th>\n",
       "      <td>Porto Santo</td>\n",
       "      <td>3003201</td>\n",
       "      <td>221.0</td>\n",
       "      <td>0</td>\n",
       "    </tr>\n",
       "  </tbody>\n",
       "</table>\n",
       "<p>308 rows × 4 columns</p>\n",
       "</div>"
      ],
      "text/plain": [
       "                 local   codigo  Saldo migratório  cluster_saldo_migratorio\n",
       "4    Arcos de Valdevez  1111601             403.0                         0\n",
       "5              Caminha  1111602             332.0                         0\n",
       "6              Melgaço  1111603             134.0                         0\n",
       "7               Monção  1111604             310.0                         0\n",
       "8     Paredes de Coura  1111605             115.0                         0\n",
       "..                 ...      ...               ...                       ...\n",
       "342      Ribeira Brava  3003107             292.0                         0\n",
       "343         Santa Cruz  3003108             685.0                         0\n",
       "344            Santana  3003109              82.0                         0\n",
       "345        São Vicente  3003110             152.0                         0\n",
       "346        Porto Santo  3003201             221.0                         0\n",
       "\n",
       "[308 rows x 4 columns]"
      ]
     },
     "execution_count": 235,
     "metadata": {},
     "output_type": "execute_result"
    }
   ],
   "source": [
    "df_saldo_migratorio = processar_ficheiro('./Saldo migratório.xls', 0)\n",
    "df_saldo_migratorio = carregar_municipios(df_saldo_migratorio)\n",
    "print(df_saldo_migratorio.shape)\n",
    "aplicar_kmeans(df_saldo_migratorio,nome_cluster='cluster_saldo_migratorio')"
   ]
  },
  {
   "cell_type": "markdown",
   "id": "35b940a0",
   "metadata": {},
   "source": [
    "### Análise Saldo Natural"
   ]
  },
  {
   "cell_type": "code",
   "execution_count": null,
   "id": "47fad060",
   "metadata": {},
   "outputs": [
    {
     "name": "stdout",
     "output_type": "stream",
     "text": [
      "(308, 3)\n"
     ]
    },
    {
     "data": {
      "image/png": "[encoded data removed]",
      "text/plain": [
       "<Figure size 800x500 with 1 Axes>"
      ]
     },
     "metadata": {},
     "output_type": "display_data"
    },
    {
     "data": {
      "application/vnd.plotly.v1+json": {
       "config": {
        "plotlyServerURL": "https://plot.ly"
       },
       "data": [
        {
         "customdata": [
          [
           "Arcos de Valdevez",
           "1111601",
           -296
          ],
          [
           "Caminha",
           "1111602",
           -113
          ],
          [
           "Melgaço",
           "1111603",
           -142
          ],
          [
           "Monção",
           "1111604",
           -227
          ],
          [
           "Paredes de Coura",
           "1111605",
           -79
          ],
          [
           "Ponte da Barca",
           "1111606",
           -89
          ],
          [
           "Ponte de Lima",
           "1111607",
           -237
          ],
          [
           "Valença",
           "1111608",
           -94
          ],
          [
           "Viana do Castelo",
           "1111609",
           -328
          ],
          [
           "Vila Nova de Cerveira",
           "1111610",
           -69
          ],
          [
           "Amares",
           "1120301",
           -72
          ],
          [
           "Barcelos",
           "1120302",
           -135
          ],
          [
           "Braga",
           "1120303",
           108
          ],
          [
           "Esposende",
           "1120306",
           -5
          ],
          [
           "Terras de Bouro",
           "1120310",
           -67
          ],
          [
           "Vila Verde",
           "1120313",
           -61
          ],
          [
           "Cabeceiras de Basto",
           "1190304",
           -80
          ],
          [
           "Fafe",
           "1190307",
           -213
          ],
          [
           "Guimarães",
           "1190308",
           -270
          ],
          [
           "Mondim de Basto",
           "1191705",
           -53
          ],
          [
           "Póvoa de Lanhoso",
           "1190309",
           -43
          ],
          [
           "Vieira do Minho",
           "1190311",
           -103
          ],
          [
           "Vila Nova de Famalicão",
           "1190312",
           -119
          ],
          [
           "Vizela",
           "1190314",
           31
          ],
          [
           "Arouca",
           "11A0104",
           -85
          ],
          [
           "Espinho",
           "11A0107",
           -249
          ],
          [
           "Gondomar",
           "11A1304",
           -466
          ],
          [
           "Maia",
           "11A1306",
           -169
          ],
          [
           "Matosinhos",
           "11A1308",
           -635
          ],
          [
           "Oliveira de Azeméis",
           "11A0113",
           -240
          ],
          [
           "Paredes",
           "11A1310",
           5
          ],
          [
           "Porto",
           "11A1312",
           -1085
          ],
          [
           "Póvoa de Varzim",
           "11A1313",
           -95
          ],
          [
           "Santa Maria da Feira",
           "11A0109",
           -254
          ],
          [
           "Santo Tirso",
           "11A1314",
           -321
          ],
          [
           "São João da Madeira",
           "11A0116",
           -60
          ],
          [
           "Trofa",
           "11A1318",
           -12
          ],
          [
           "Vale de Cambra",
           "11A0119",
           -132
          ],
          [
           "Valongo",
           "11A1315",
           -90
          ],
          [
           "Vila do Conde",
           "11A1316",
           -162
          ],
          [
           "Vila Nova de Gaia",
           "11A1317",
           -671
          ],
          [
           "Boticas",
           "11B1702",
           -80
          ],
          [
           "Chaves",
           "11B1703",
           -382
          ],
          [
           "Montalegre",
           "11B1706",
           -148
          ],
          [
           "Ribeira de Pena",
           "11B1709",
           -67
          ],
          [
           "Valpaços",
           "11B1712",
           -207
          ],
          [
           "Vila Pouca de Aguiar",
           "11B1713",
           -129
          ],
          [
           "Amarante",
           "11C1301",
           -279
          ],
          [
           "Baião",
           "11C1302",
           -104
          ],
          [
           "Castelo de Paiva",
           "11C0106",
           -62
          ],
          [
           "Celorico de Basto",
           "11C0305",
           -157
          ],
          [
           "Cinfães",
           "11C1804",
           -138
          ],
          [
           "Felgueiras",
           "11C1303",
           -41
          ],
          [
           "Lousada",
           "11C1305",
           -10
          ],
          [
           "Marco de Canaveses",
           "11C1307",
           -131
          ],
          [
           "Paços de Ferreira",
           "11C1309",
           -24
          ],
          [
           "Penafiel",
           "11C1311",
           -97
          ],
          [
           "Resende",
           "11C1813",
           -85
          ],
          [
           "Alijó",
           "11D1701",
           -91
          ],
          [
           "Armamar",
           "11D1801",
           -65
          ],
          [
           "Carrazeda de Ansiães",
           "11D0403",
           -87
          ],
          [
           "Freixo de Espada à Cinta",
           "11D0404",
           -77
          ],
          [
           "Lamego",
           "11D1805",
           -192
          ],
          [
           "Mesão Frio",
           "11D1704",
           -45
          ],
          [
           "Moimenta da Beira",
           "11D1807",
           -64
          ],
          [
           "Murça",
           "11D1707",
           -88
          ],
          [
           "Penedono",
           "11D1812",
           -36
          ],
          [
           "Peso da Régua",
           "11D1708",
           -117
          ],
          [
           "Sabrosa",
           "11D1710",
           -67
          ],
          [
           "Santa Marta de Penaguião",
           "11D1711",
           -63
          ],
          [
           "São João da Pesqueira",
           "11D1815",
           -57
          ],
          [
           "Sernancelhe",
           "11D1818",
           -57
          ],
          [
           "Tabuaço",
           "11D1819",
           -49
          ],
          [
           "Tarouca",
           "11D1820",
           -59
          ],
          [
           "Torre de Moncorvo",
           "11D0409",
           -163
          ],
          [
           "Vila Nova de Foz Côa",
           "11D0914",
           -71
          ],
          [
           "Vila Real",
           "11D1714",
           -224
          ],
          [
           "Alfândega da Fé",
           "11E0401",
           -66
          ],
          [
           "Bragança",
           "11E0402",
           -300
          ],
          [
           "Macedo de Cavaleiros",
           "11E0405",
           -147
          ],
          [
           "Miranda do Douro",
           "11E0406",
           -103
          ],
          [
           "Mirandela",
           "11E0407",
           -178
          ],
          [
           "Mogadouro",
           "11E0408",
           -105
          ],
          [
           "Vila Flor",
           "11E0410",
           -82
          ],
          [
           "Vimioso",
           "11E0411",
           -70
          ],
          [
           "Vinhais",
           "11E0412",
           -130
          ],
          [
           "Águeda",
           "1910101",
           -195
          ],
          [
           "Albergaria-a-Velha",
           "1910102",
           -89
          ],
          [
           "Anadia",
           "1910103",
           -214
          ],
          [
           "Aveiro",
           "1910105",
           -123
          ],
          [
           "Estarreja",
           "1910108",
           -149
          ],
          [
           "Ílhavo",
           "1910110",
           -107
          ],
          [
           "Murtosa",
           "1910112",
           -46
          ],
          [
           "Oliveira do Bairro",
           "1910114",
           -94
          ],
          [
           "Ovar",
           "1910115",
           -115
          ],
          [
           "Sever do Vouga",
           "1910117",
           -61
          ],
          [
           "Vagos",
           "1910118",
           -88
          ],
          [
           "Arganil",
           "1920601",
           -123
          ],
          [
           "Cantanhede",
           "1920602",
           -228
          ],
          [
           "Coimbra",
           "1920603",
           -481
          ],
          [
           "Condeixa-a-Nova",
           "1920604",
           -70
          ],
          [
           "Figueira da Foz",
           "1920605",
           -401
          ],
          [
           "Góis",
           "1920606",
           -59
          ],
          [
           "Lousã",
           "1920607",
           -95
          ],
          [
           "Mealhada",
           "1920111",
           -114
          ],
          [
           "Mira",
           "1920608",
           -92
          ],
          [
           "Miranda do Corvo",
           "1920609",
           -104
          ],
          [
           "Montemor-o-Velho",
           "1920610",
           -159
          ],
          [
           "Mortágua",
           "1921808",
           -112
          ],
          [
           "Oliveira do Hospital",
           "1920611",
           -79
          ],
          [
           "Pampilhosa da Serra",
           "1920612",
           -74
          ],
          [
           "Penacova",
           "1920613",
           -112
          ],
          [
           "Penela",
           "1920614",
           -55
          ],
          [
           "Soure",
           "1920615",
           -212
          ],
          [
           "Tábua",
           "1920616",
           -79
          ],
          [
           "Vila Nova de Poiares",
           "1920617",
           -50
          ],
          [
           "Alvaiázere",
           "1931002",
           -64
          ],
          [
           "Ansião",
           "1931003",
           -113
          ],
          [
           "Batalha",
           "1931004",
           -65
          ],
          [
           "Castanheira de Pêra",
           "1931007",
           -21
          ],
          [
           "Figueiró dos Vinhos",
           "1931008",
           -49
          ],
          [
           "Leiria",
           "1931009",
           -267
          ],
          [
           "Marinha Grande",
           "1931010",
           -143
          ],
          [
           "Pedrógão Grande",
           "1931013",
           -30
          ],
          [
           "Pombal",
           "1931015",
           -368
          ],
          [
           "Porto de Mós",
           "1931016",
           -116
          ],
          [
           "Aguiar da Beira",
           "1940901",
           -98
          ],
          [
           "Carregal do Sal",
           "1941802",
           -81
          ],
          [
           "Castro Daire",
           "1941803",
           -171
          ],
          [
           "Mangualde",
           "1941806",
           -165
          ],
          [
           "Nelas",
           "1941809",
           -88
          ],
          [
           "Oliveira de Frades",
           "1941810",
           -62
          ],
          [
           "Penalva do Castelo",
           "1941811",
           -94
          ],
          [
           "Santa Comba Dão",
           "1941814",
           -75
          ],
          [
           "São Pedro do Sul",
           "1941816",
           -193
          ],
          [
           "Sátão",
           "1941817",
           -84
          ],
          [
           "Tondela",
           "1941821",
           -241
          ],
          [
           "Vila Nova de Paiva",
           "1941822",
           -34
          ],
          [
           "Viseu",
           "1941823",
           -276
          ],
          [
           "Vouzela",
           "1941824",
           -82
          ],
          [
           "Castelo Branco",
           "1950502",
           -387
          ],
          [
           "Idanha-a-Nova",
           "1950505",
           -166
          ],
          [
           "Oleiros",
           "1950506",
           -89
          ],
          [
           "Penamacor",
           "1950507",
           -104
          ],
          [
           "Proença-a-Nova",
           "1950508",
           -107
          ],
          [
           "Sertã",
           "1950509",
           -145
          ],
          [
           "Vila de Rei",
           "1950510",
           -64
          ],
          [
           "Vila Velha de Ródão",
           "1950511",
           -56
          ],
          [
           "Almeida",
           "1960902",
           -125
          ],
          [
           "Belmonte",
           "1960501",
           -59
          ],
          [
           "Celorico da Beira",
           "1960903",
           -81
          ],
          [
           "Covilhã",
           "1960503",
           -336
          ],
          [
           "Figueira de Castelo Rodrigo",
           "1960904",
           -80
          ],
          [
           "Fornos de Algodres",
           "1960905",
           -56
          ],
          [
           "Fundão",
           "1960504",
           -257
          ],
          [
           "Gouveia",
           "1960906",
           -169
          ],
          [
           "Guarda",
           "1960907",
           -267
          ],
          [
           "Manteigas",
           "1960908",
           -18
          ],
          [
           "Mêda",
           "1960909",
           -54
          ],
          [
           "Pinhel",
           "1960910",
           -139
          ],
          [
           "Sabugal",
           "1960911",
           -249
          ],
          [
           "Seia",
           "1960912",
           -249
          ],
          [
           "Trancoso",
           "1960913",
           -112
          ],
          [
           "Alcobaça",
           "1D11001",
           -274
          ],
          [
           "Alenquer",
           "1D11101",
           -20
          ],
          [
           "Arruda dos Vinhos",
           "1D11102",
           -10
          ],
          [
           "Bombarral",
           "1D11005",
           -96
          ],
          [
           "Cadaval",
           "1D11104",
           -111
          ],
          [
           "Caldas da Rainha",
           "1D11006",
           -231
          ],
          [
           "Lourinhã",
           "1D11108",
           -103
          ],
          [
           "Nazaré",
           "1D11011",
           -41
          ],
          [
           "Óbidos",
           "1D11012",
           -80
          ],
          [
           "Peniche",
           "1D11014",
           -142
          ],
          [
           "Sobral de Monte Agraço",
           "1D11112",
           -31
          ],
          [
           "Torres Vedras",
           "1D11113",
           -153
          ],
          [
           "Abrantes",
           "1D21401",
           -319
          ],
          [
           "Alcanena",
           "1D21402",
           -79
          ],
          [
           "Constância",
           "1D21408",
           -30
          ],
          [
           "Entroncamento",
           "1D21410",
           21
          ],
          [
           "Ferreira do Zêzere",
           "1D21411",
           -68
          ],
          [
           "Mação",
           "1D21413",
           -123
          ],
          [
           "Ourém",
           "1D21421",
           -280
          ],
          [
           "Sardoal",
           "1D21417",
           -47
          ],
          [
           "Tomar",
           "1D21418",
           -337
          ],
          [
           "Torres Novas",
           "1D21419",
           -267
          ],
          [
           "Vila Nova da Barquinha",
           "1D21420",
           -30
          ],
          [
           "Almeirim",
           "1D31403",
           -176
          ],
          [
           "Alpiarça",
           "1D31404",
           -49
          ],
          [
           "Azambuja",
           "1D31103",
           -76
          ],
          [
           "Benavente",
           "1D31405",
           -52
          ],
          [
           "Cartaxo",
           "1D31406",
           -134
          ],
          [
           "Chamusca",
           "1D31407",
           -84
          ],
          [
           "Coruche",
           "1D31409",
           -290
          ],
          [
           "Golegã",
           "1D31412",
           -51
          ],
          [
           "Rio Maior",
           "1D31414",
           -63
          ],
          [
           "Salvaterra de Magos",
           "1D31415",
           -154
          ],
          [
           "Santarém",
           "1D31416",
           -261
          ],
          [
           "Amadora",
           "1A01115",
           433
          ],
          [
           "Cascais",
           "1A01105",
           -461
          ],
          [
           "Lisboa",
           "1A01106",
           -804
          ],
          [
           "Loures",
           "1A01107",
           267
          ],
          [
           "Mafra",
           "1A01109",
           91
          ],
          [
           "Odivelas",
           "1A01116",
           434
          ],
          [
           "Oeiras",
           "1A01110",
           -318
          ],
          [
           "Sintra",
           "1A01111",
           1121
          ],
          [
           "Vila Franca de Xira",
           "1A01114",
           166
          ],
          [
           "Alcochete",
           "1B01502",
           -5
          ],
          [
           "Almada",
           "1B01503",
           -424
          ],
          [
           "Barreiro",
           "1B01504",
           -173
          ],
          [
           "Moita",
           "1B01506",
           -8
          ],
          [
           "Montijo",
           "1B01507",
           69
          ],
          [
           "Palmela",
           "1B01508",
           -165
          ],
          [
           "Seixal",
           "1B01510",
           252
          ],
          [
           "Sesimbra",
           "1B01511",
           -142
          ],
          [
           "Setúbal",
           "1B01512",
           -330
          ],
          [
           "Alcácer do Sal",
           "1C11501",
           -103
          ],
          [
           "Grândola",
           "1C11505",
           -72
          ],
          [
           "Odemira",
           "1C10211",
           -73
          ],
          [
           "Santiago do Cacém",
           "1C11509",
           -190
          ],
          [
           "Sines",
           "1C11513",
           -53
          ],
          [
           "Aljustrel",
           "1C20201",
           -61
          ],
          [
           "Almodôvar",
           "1C20202",
           -95
          ],
          [
           "Alvito",
           "1C20203",
           -23
          ],
          [
           "Barrancos",
           "1C20204",
           -23
          ],
          [
           "Beja",
           "1C20205",
           -154
          ],
          [
           "Castro Verde",
           "1C20206",
           -71
          ],
          [
           "Cuba",
           "1C20207",
           -53
          ],
          [
           "Ferreira do Alentejo",
           "1C20208",
           -111
          ],
          [
           "Mértola",
           "1C20209",
           -106
          ],
          [
           "Moura",
           "1C20210",
           -83
          ],
          [
           "Ourique",
           "1C20212",
           -86
          ],
          [
           "Serpa",
           "1C20213",
           -153
          ],
          [
           "Vidigueira",
           "1C20214",
           -74
          ],
          [
           "Alter do Chão",
           "1C31201",
           -51
          ],
          [
           "Arronches",
           "1C31202",
           -42
          ],
          [
           "Avis",
           "1C31203",
           -61
          ],
          [
           "Campo Maior",
           "1C31204",
           -62
          ],
          [
           "Castelo de Vide",
           "1C31205",
           -49
          ],
          [
           "Crato",
           "1C31206",
           -71
          ],
          [
           "Elvas",
           "1C31207",
           -175
          ],
          [
           "Fronteira",
           "1C31208",
           -48
          ],
          [
           "Gavião",
           "1C31209",
           -102
          ],
          [
           "Marvão",
           "1C31210",
           -35
          ],
          [
           "Monforte",
           "1C31211",
           -7
          ],
          [
           "Nisa",
           "1C31212",
           -152
          ],
          [
           "Ponte de Sor",
           "1C31213",
           -173
          ],
          [
           "Portalegre",
           "1C31214",
           -173
          ],
          [
           "Sousel",
           "1C31215",
           -65
          ],
          [
           "Alandroal",
           "1C40701",
           -76
          ],
          [
           "Arraiolos",
           "1C40702",
           -45
          ],
          [
           "Borba",
           "1C40703",
           -75
          ],
          [
           "Estremoz",
           "1C40704",
           -104
          ],
          [
           "Évora",
           "1C40705",
           -232
          ],
          [
           "Montemor-o-Novo",
           "1C40706",
           -142
          ],
          [
           "Mora",
           "1C40707",
           -56
          ],
          [
           "Mourão",
           "1C40708",
           -34
          ],
          [
           "Portel",
           "1C40709",
           -60
          ],
          [
           "Redondo",
           "1C40710",
           -48
          ],
          [
           "Reguengos de Monsaraz",
           "1C40711",
           -110
          ],
          [
           "Vendas Novas",
           "1C40712",
           -91
          ],
          [
           "Viana do Alentejo",
           "1C40713",
           -51
          ],
          [
           "Vila Viçosa",
           "1C40714",
           -80
          ],
          [
           "Albufeira",
           "1500801",
           105
          ],
          [
           "Alcoutim",
           "1500802",
           -52
          ],
          [
           "Aljezur",
           "1500803",
           -21
          ],
          [
           "Castro Marim",
           "1500804",
           -64
          ],
          [
           "Faro",
           "1500805",
           -166
          ],
          [
           "Lagoa",
           "1500806",
           -30
          ],
          [
           "Lagos",
           "1500807",
           -87
          ],
          [
           "Loulé",
           "1500808",
           -81
          ],
          [
           "Monchique",
           "1500809",
           -49
          ],
          [
           "Olhão",
           "1500810",
           -219
          ],
          [
           "Portimão",
           "1500811",
           -77
          ],
          [
           "São Brás de Alportel",
           "1500812",
           -46
          ],
          [
           "Silves",
           "1500813",
           -180
          ],
          [
           "Tavira",
           "1500814",
           -186
          ],
          [
           "Vila do Bispo",
           "1500815",
           -28
          ],
          [
           "Vila Real de Santo António",
           "1500816",
           -95
          ],
          [
           "Angra do Heroísmo",
           "2004301",
           -147
          ],
          [
           "Calheta (R.A.A.)",
           "2004501",
           -19
          ],
          [
           "Corvo",
           "2004901",
           -4
          ],
          [
           "Horta",
           "2004701",
           -31
          ],
          [
           "Lagoa (R.A.A.)",
           "2004201",
           17
          ],
          [
           "Lajes das Flores",
           "2004801",
           -8
          ],
          [
           "Lajes do Pico",
           "2004601",
           -30
          ],
          [
           "Madalena",
           "2004602",
           -30
          ],
          [
           "Nordeste",
           "2004202",
           -29
          ],
          [
           "Ponta Delgada",
           "2004203",
           -37
          ],
          [
           "Povoação",
           "2004204",
           -36
          ],
          [
           "Ribeira Grande",
           "2004205",
           3
          ],
          [
           "Santa Cruz da Graciosa",
           "2004401",
           -38
          ],
          [
           "Santa Cruz das Flores",
           "2004802",
           -24
          ],
          [
           "São Roque do Pico",
           "2004603",
           -18
          ],
          [
           "Velas",
           "2004502",
           -52
          ],
          [
           "Vila da Praia da Vitória",
           "2004302",
           -49
          ],
          [
           "Vila do Porto",
           "2004101",
           -27
          ],
          [
           "Vila Franca do Campo",
           "2004206",
           -24
          ],
          [
           "Calheta (R.A.M.)",
           "3003101",
           -44
          ],
          [
           "Câmara de Lobos",
           "3003102",
           45
          ],
          [
           "Funchal",
           "3003103",
           -468
          ],
          [
           "Machico",
           "3003104",
           -108
          ],
          [
           "Ponta do Sol",
           "3003105",
           -22
          ],
          [
           "Porto Moniz",
           "3003106",
           -24
          ],
          [
           "Ribeira Brava",
           "3003107",
           -66
          ],
          [
           "Santa Cruz",
           "3003108",
           -8
          ],
          [
           "Santana",
           "3003109",
           -53
          ],
          [
           "São Vicente",
           "3003110",
           -24
          ],
          [
           "Porto Santo",
           "3003201",
           -9
          ]
         ],
         "hovertemplate": "valor=%{x}<br>y=%{y}<br>local=%{customdata[0]}<br>codigo=%{customdata[1]}<br>Saldo natural=%{customdata[2]}<br>cluster_saldo_natural=%{marker.color}<extra></extra>",
         "legendgroup": "",
         "marker": {
          "color": [
           1,
           2,
           1,
           1,
           2,
           2,
           1,
           2,
           1,
           2,
           2,
           1,
           2,
           2,
           2,
           2,
           2,
           1,
           1,
           2,
           2,
           2,
           2,
           2,
           2,
           1,
           0,
           1,
           0,
           1,
           2,
           0,
           2,
           1,
           1,
           2,
           2,
           1,
           2,
           1,
           0,
           2,
           1,
           1,
           2,
           1,
           2,
           1,
           2,
           2,
           1,
           1,
           2,
           2,
           2,
           2,
           2,
           2,
           2,
           2,
           2,
           2,
           1,
           2,
           2,
           2,
           2,
           2,
           2,
           2,
           2,
           2,
           2,
           2,
           1,
           2,
           1,
           2,
           1,
           1,
           2,
           1,
           2,
           2,
           2,
           2,
           1,
           2,
           1,
           2,
           1,
           2,
           2,
           2,
           2,
           2,
           2,
           2,
           1,
           0,
           2,
           1,
           2,
           2,
           2,
           2,
           2,
           1,
           2,
           2,
           2,
           2,
           2,
           1,
           2,
           2,
           2,
           2,
           2,
           2,
           2,
           1,
           1,
           2,
           1,
           2,
           2,
           2,
           1,
           1,
           2,
           2,
           2,
           2,
           1,
           2,
           1,
           2,
           1,
           2,
           1,
           1,
           2,
           2,
           2,
           1,
           2,
           2,
           2,
           2,
           2,
           1,
           2,
           2,
           1,
           1,
           1,
           2,
           2,
           1,
           1,
           1,
           2,
           1,
           2,
           2,
           2,
           2,
           1,
           2,
           2,
           2,
           1,
           2,
           1,
           1,
           2,
           2,
           2,
           2,
           2,
           1,
           2,
           1,
           1,
           2,
           1,
           2,
           2,
           2,
           1,
           2,
           1,
           2,
           2,
           1,
           1,
           2,
           0,
           0,
           2,
           2,
           2,
           1,
           2,
           2,
           2,
           0,
           1,
           2,
           2,
           1,
           2,
           1,
           1,
           2,
           2,
           2,
           1,
           2,
           2,
           2,
           2,
           2,
           1,
           2,
           2,
           2,
           2,
           2,
           2,
           1,
           2,
           2,
           2,
           2,
           2,
           2,
           2,
           1,
           2,
           2,
           2,
           2,
           1,
           1,
           1,
           2,
           2,
           2,
           2,
           2,
           1,
           1,
           2,
           2,
           2,
           2,
           2,
           2,
           2,
           2,
           2,
           2,
           2,
           2,
           1,
           2,
           2,
           2,
           2,
           1,
           2,
           2,
           1,
           1,
           2,
           2,
           1,
           2,
           2,
           2,
           2,
           2,
           2,
           2,
           2,
           2,
           2,
           2,
           2,
           2,
           2,
           2,
           2,
           2,
           2,
           2,
           2,
           0,
           2,
           2,
           2,
           2,
           2,
           2,
           2,
           2
          ],
          "coloraxis": "coloraxis",
          "size": 10,
          "symbol": "circle"
         },
         "mode": "markers",
         "name": "",
         "orientation": "v",
         "showlegend": false,
         "type": "scatter",
         "x": [
          -1.2113087891155547,
          -0.022608172956540724,
          -0.21098149464294186,
          -0.7631101961375658,
          0.19824330764130887,
          0.13328698981841194,
          -0.8280665139604627,
          0.10080883090696346,
          -1.419169006148825,
          0.26319962546420583,
          0.24371273011733674,
          -0.165512072166914,
          1.4129264509294814,
          0.6789200595307462,
          0.2761908890287852,
          0.3151646797225234,
          0.19174767585901917,
          -0.6721713511855101,
          -1.0424223627760227,
          0.3671297339808409,
          0.4320860518037378,
          0.04234814486635621,
          -0.06158196365027888,
          0.9127628036931751,
          0.15926951694757072,
          -0.9060140953479392,
          -2.3155661921048027,
          -0.3863635527647636,
          -3.413327963311761,
          -0.8475534093073319,
          0.7438763773536432,
          -6.336362265342123,
          0.09431319912467377,
          -0.9384922542593876,
          -1.3736995836727972,
          0.32166031150481306,
          0.6334506370547184,
          -0.1460251768200449,
          0.12679135803612224,
          -0.3408941302887357,
          -3.6471707074741895,
          0.19174767585901917,
          -1.7699331223924686,
          -0.24995528533668002,
          0.2761908890287852,
          -0.633197560491772,
          -0.12653828147317583,
          -1.10088304881663,
          0.03585251308406652,
          0.30866904794023364,
          -0.30841597137728727,
          -0.18499896751378306,
          0.44507731536831724,
          0.6464419006192977,
          -0.13952954503775522,
          0.555503055667242,
          0.08132193556009439,
          0.15926951694757072,
          0.12029572625383254,
          0.2891821525933646,
          0.14627825338299133,
          0.21123457120588826,
          -0.5357630837574265,
          0.41909478823915847,
          0.2956777843756543,
          0.13978262160070162,
          0.4775554742797657,
          -0.0485907000856995,
          0.2761908890287852,
          0.30217341615794396,
          0.34114720685168215,
          0.34114720685168215,
          0.3931122611099997,
          0.32815594328710274,
          -0.3473897620710254,
          0.2502083618996264,
          -0.7436233007906967,
          0.28268652081107487,
          -1.2372913162447137,
          -0.2434596535543903,
          0.04234814486635621,
          -0.4448242388053708,
          0.029356881301776827,
          0.17875641229443978,
          0.2567039936819161,
          -0.1330339132554655,
          -0.5552499791042956,
          0.13328698981841194,
          -0.6786669829677998,
          -0.08756449077943766,
          -0.2564509171189697,
          0.01636561773719744,
          0.4125991564568688,
          0.10080883090696346,
          -0.03559943652112011,
          0.3151646797225234,
          0.13978262160070162,
          -0.08756449077943766,
          -0.7696058279198555,
          -2.4130006688391483,
          0.2567039936819161,
          -1.8933501262559727,
          0.32815594328710274,
          0.09431319912467377,
          -0.029103804738830417,
          0.11380009447154285,
          0.03585251308406652,
          -0.3214072349418666,
          -0.016112541174251028,
          0.19824330764130887,
          0.23072146655275733,
          -0.016112541174251028,
          0.3541384704162615,
          -0.6656757194032205,
          0.19824330764130887,
          0.38661662932771,
          0.2956777843756543,
          -0.022608172956540724,
          0.2891821525933646,
          0.5749899510141111,
          0.3931122611099997,
          -1.0229354674291538,
          -0.21747712642523154,
          0.5165292649735038,
          -1.6789942774404127,
          -0.042095068303409804,
          0.07482630377780469,
          0.1852520440767295,
          -0.39935481632934294,
          -0.3603810256356048,
          0.13978262160070162,
          0.30866904794023364,
          0.10080883090696346,
          0.22422583477046765,
          -0.5422587155397163,
          0.1657651487298604,
          -0.8540490410896217,
          0.4905467378443451,
          -1.081396153469761,
          0.17875641229443978,
          -1.802411281303917,
          -0.3668766574178945,
          0.13328698981841194,
          0.03585251308406652,
          0.01636561773719744,
          -0.23046838998981092,
          0.2956777843756543,
          0.34764283863397183,
          -0.10055575434401705,
          0.32815594328710274,
          0.1852520440767295,
          -1.4711340604071426,
          0.19174767585901917,
          0.34764283863397183,
          -0.9579791496062567,
          -0.3863635527647636,
          -1.0229354674291538,
          0.5944768463609802,
          0.36063410219855124,
          -0.19149459929607276,
          -0.9060140953479392,
          -0.9060140953479392,
          -0.016112541174251028,
          -1.0684048899051815,
          0.5814855827964008,
          0.6464419006192977,
          0.08781756734238408,
          -0.009616909391961335,
          -0.7890927232667246,
          0.04234814486635621,
          0.44507731536831724,
          0.19174767585901917,
          -0.21098149464294186,
          0.5100336331912142,
          -0.2824334442481285,
          -1.3607083201082177,
          0.19824330764130887,
          0.5165292649735038,
          0.8478064858702782,
          0.2696952572464955,
          -0.08756449077943766,
          -1.1073786805989196,
          0.40610352467457905,
          -1.4776296921894323,
          -1.0229354674291538,
          0.5165292649735038,
          -0.43183297524079145,
          0.3931122611099997,
          0.21773020298817794,
          0.3736253657631306,
          -0.15901644038462429,
          0.1657651487298604,
          -1.1723349984218165,
          0.3801209975454203,
          0.30217341615794396,
          -0.2889290760304182,
          -0.9839616767354155,
          3.5240067801736323,
          -2.283088033193354,
          -4.511089734518719,
          2.445731904313543,
          1.3025007106305568,
          3.530502411955922,
          -1.354212688325928,
          7.993001446388941,
          1.7896730943022838,
          0.6789200595307462,
          -2.0427496572486357,
          -0.41234607989392236,
          0.6594331641838771,
          1.1595968114201836,
          -0.3603810256356048,
          2.3482974275791975,
          -0.21098149464294186,
          -1.4321602697134044,
          0.04234814486635621,
          0.24371273011733674,
          0.23721709833504703,
          -0.5227718201928472,
          0.3671297339808409,
          0.3151646797225234,
          0.09431319912467377,
          0.5619986874495317,
          0.5619986874495317,
          -0.2889290760304182,
          0.2502083618996264,
          0.3671297339808409,
          -0.009616909391961335,
          0.022861249519487134,
          0.1722607805121501,
          0.152773885165281,
          -0.2824334442481285,
          0.23072146655275733,
          0.3801209975454203,
          0.43858168358602756,
          0.3151646797225234,
          0.30866904794023364,
          0.3931122611099997,
          0.2502083618996264,
          -0.42533734345850177,
          0.3996078928922894,
          0.04884377664864591,
          0.4840511060620554,
          0.6659287959661668,
          -0.27593781246583876,
          -0.41234607989392236,
          -0.41234607989392236,
          0.2891821525933646,
          0.21773020298817794,
          0.41909478823915847,
          0.22422583477046765,
          0.03585251308406652,
          -0.7955883550490143,
          -0.21098149464294186,
          0.34764283863397183,
          0.4905467378443451,
          0.32166031150481306,
          0.3996078928922894,
          -0.0031212776096716413,
          0.12029572625383254,
          0.3801209975454203,
          0.19174767585901917,
          1.3934395555826125,
          0.3736253657631306,
          0.5749899510141111,
          0.2956777843756543,
          -0.3668766574178945,
          0.5165292649735038,
          0.14627825338299133,
          0.1852520440767295,
          0.3931122611099997,
          -0.7111451418792483,
          0.21123457120588826,
          0.4125991564568688,
          -0.4578155023699502,
          -0.49678929306368835,
          0.5295205285380833,
          0.09431319912467377,
          -0.2434596535543903,
          0.5879812145786905,
          0.6854156913130359,
          0.5100336331912142,
          0.8218239587411195,
          0.6594331641838771,
          0.5165292649735038,
          0.5165292649735038,
          0.5230248967557936,
          0.471059842497476,
          0.4775554742797657,
          0.7308851137890637,
          0.46456421071518633,
          0.555503055667242,
          0.5944768463609802,
          0.3736253657631306,
          0.3931122611099997,
          0.5360161603203729,
          0.555503055667242,
          0.42559042002144815,
          1.0037016486452308,
          -2.328557455669382,
          0.009869985954907746,
          0.5684943192318215,
          0.555503055667242,
          0.28268652081107487,
          0.6594331641838771,
          0.3671297339808409,
          0.555503055667242,
          0.6529375324015875
         ],
         "xaxis": "x",
         "y": [
          0,
          0,
          0,
          0,
          0,
          0,
          0,
          0,
          0,
          0,
          0,
          0,
          0,
          0,
          0,
          0,
          0,
          0,
          0,
          0,
          0,
          0,
          0,
          0,
          0,
          0,
          0,
          0,
          0,
          0,
          0,
          0,
          0,
          0,
          0,
          0,
          0,
          0,
          0,
          0,
          0,
          0,
          0,
          0,
          0,
          0,
          0,
          0,
          0,
          0,
          0,
          0,
          0,
          0,
          0,
          0,
          0,
          0,
          0,
          0,
          0,
          0,
          0,
          0,
          0,
          0,
          0,
          0,
          0,
          0,
          0,
          0,
          0,
          0,
          0,
          0,
          0,
          0,
          0,
          0,
          0,
          0,
          0,
          0,
          0,
          0,
          0,
          0,
          0,
          0,
          0,
          0,
          0,
          0,
          0,
          0,
          0,
          0,
          0,
          0,
          0,
          0,
          0,
          0,
          0,
          0,
          0,
          0,
          0,
          0,
          0,
          0,
          0,
          0,
          0,
          0,
          0,
          0,
          0,
          0,
          0,
          0,
          0,
          0,
          0,
          0,
          0,
          0,
          0,
          0,
          0,
          0,
          0,
          0,
          0,
          0,
          0,
          0,
          0,
          0,
          0,
          0,
          0,
          0,
          0,
          0,
          0,
          0,
          0,
          0,
          0,
          0,
          0,
          0,
          0,
          0,
          0,
          0,
          0,
          0,
          0,
          0,
          0,
          0,
          0,
          0,
          0,
          0,
          0,
          0,
          0,
          0,
          0,
          0,
          0,
          0,
          0,
          0,
          0,
          0,
          0,
          0,
          0,
          0,
          0,
          0,
          0,
          0,
          0,
          0,
          0,
          0,
          0,
          0,
          0,
          0,
          0,
          0,
          0,
          0,
          0,
          0,
          0,
          0,
          0,
          0,
          0,
          0,
          0,
          0,
          0,
          0,
          0,
          0,
          0,
          0,
          0,
          0,
          0,
          0,
          0,
          0,
          0,
          0,
          0,
          0,
          0,
          0,
          0,
          0,
          0,
          0,
          0,
          0,
          0,
          0,
          0,
          0,
          0,
          0,
          0,
          0,
          0,
          0,
          0,
          0,
          0,
          0,
          0,
          0,
          0,
          0,
          0,
          0,
          0,
          0,
          0,
          0,
          0,
          0,
          0,
          0,
          0,
          0,
          0,
          0,
          0,
          0,
          0,
          0,
          0,
          0,
          0,
          0,
          0,
          0,
          0,
          0,
          0,
          0,
          0,
          0,
          0,
          0,
          0,
          0,
          0,
          0,
          0,
          0,
          0,
          0,
          0,
          0,
          0,
          0,
          0,
          0,
          0,
          0,
          0,
          0,
          0,
          0,
          0,
          0,
          0,
          0
         ],
         "yaxis": "y"
        }
       ],
       "layout": {
        "coloraxis": {
         "colorbar": {
          "title": {
           "text": "cluster_saldo_natural"
          }
         },
         "colorscale": [
          [
           0,
           "#440154"
          ],
          [
           0.1111111111111111,
           "#482878"
          ],
          [
           0.2222222222222222,
           "#3e4989"
          ],
          [
           0.3333333333333333,
           "#31688e"
          ],
          [
           0.4444444444444444,
           "#26828e"
          ],
          [
           0.5555555555555556,
           "#1f9e89"
          ],
          [
           0.6666666666666666,
           "#35b779"
          ],
          [
           0.7777777777777778,
           "#6ece58"
          ],
          [
           0.8888888888888888,
           "#b5de2b"
          ],
          [
           1,
           "#fde725"
          ]
         ]
        },
        "height": 300,
        "legend": {
         "tracegroupgap": 0
        },
        "margin": {
         "t": 60
        },
        "template": {
         "data": {
          "bar": [
           {
            "error_x": {
             "color": "#2a3f5f"
            },
            "error_y": {
             "color": "#2a3f5f"
            },
            "marker": {
             "line": {
              "color": "#E5ECF6",
              "width": 0.5
             },
             "pattern": {
              "fillmode": "overlay",
              "size": 10,
              "solidity": 0.2
             }
            },
            "type": "bar"
           }
          ],
          "barpolar": [
           {
            "marker": {
             "line": {
              "color": "#E5ECF6",
              "width": 0.5
             },
             "pattern": {
              "fillmode": "overlay",
              "size": 10,
              "solidity": 0.2
             }
            },
            "type": "barpolar"
           }
          ],
          "carpet": [
           {
            "aaxis": {
             "endlinecolor": "#2a3f5f",
             "gridcolor": "white",
             "linecolor": "white",
             "minorgridcolor": "white",
             "startlinecolor": "#2a3f5f"
            },
            "baxis": {
             "endlinecolor": "#2a3f5f",
             "gridcolor": "white",
             "linecolor": "white",
             "minorgridcolor": "white",
             "startlinecolor": "#2a3f5f"
            },
            "type": "carpet"
           }
          ],
          "choropleth": [
           {
            "colorbar": {
             "outlinewidth": 0,
             "ticks": ""
            },
            "type": "choropleth"
           }
          ],
          "contour": [
           {
            "colorbar": {
             "outlinewidth": 0,
             "ticks": ""
            },
            "colorscale": [
             [
              0,
              "#0d0887"
             ],
             [
              0.1111111111111111,
              "#46039f"
             ],
             [
              0.2222222222222222,
              "#7201a8"
             ],
             [
              0.3333333333333333,
              "#9c179e"
             ],
             [
              0.4444444444444444,
              "#bd3786"
             ],
             [
              0.5555555555555556,
              "#d8576b"
             ],
             [
              0.6666666666666666,
              "#ed7953"
             ],
             [
              0.7777777777777778,
              "#fb9f3a"
             ],
             [
              0.8888888888888888,
              "#fdca26"
             ],
             [
              1,
              "#f0f921"
             ]
            ],
            "type": "contour"
           }
          ],
          "contourcarpet": [
           {
            "colorbar": {
             "outlinewidth": 0,
             "ticks": ""
            },
            "type": "contourcarpet"
           }
          ],
          "heatmap": [
           {
            "colorbar": {
             "outlinewidth": 0,
             "ticks": ""
            },
            "colorscale": [
             [
              0,
              "#0d0887"
             ],
             [
              0.1111111111111111,
              "#46039f"
             ],
             [
              0.2222222222222222,
              "#7201a8"
             ],
             [
              0.3333333333333333,
              "#9c179e"
             ],
             [
              0.4444444444444444,
              "#bd3786"
             ],
             [
              0.5555555555555556,
              "#d8576b"
             ],
             [
              0.6666666666666666,
              "#ed7953"
             ],
             [
              0.7777777777777778,
              "#fb9f3a"
             ],
             [
              0.8888888888888888,
              "#fdca26"
             ],
             [
              1,
              "#f0f921"
             ]
            ],
            "type": "heatmap"
           }
          ],
          "heatmapgl": [
           {
            "colorbar": {
             "outlinewidth": 0,
             "ticks": ""
            },
            "colorscale": [
             [
              0,
              "#0d0887"
             ],
             [
              0.1111111111111111,
              "#46039f"
             ],
             [
              0.2222222222222222,
              "#7201a8"
             ],
             [
              0.3333333333333333,
              "#9c179e"
             ],
             [
              0.4444444444444444,
              "#bd3786"
             ],
             [
              0.5555555555555556,
              "#d8576b"
             ],
             [
              0.6666666666666666,
              "#ed7953"
             ],
             [
              0.7777777777777778,
              "#fb9f3a"
             ],
             [
              0.8888888888888888,
              "#fdca26"
             ],
             [
              1,
              "#f0f921"
             ]
            ],
            "type": "heatmapgl"
           }
          ],
          "histogram": [
           {
            "marker": {
             "pattern": {
              "fillmode": "overlay",
              "size": 10,
              "solidity": 0.2
             }
            },
            "type": "histogram"
           }
          ],
          "histogram2d": [
           {
            "colorbar": {
             "outlinewidth": 0,
             "ticks": ""
            },
            "colorscale": [
             [
              0,
              "#0d0887"
             ],
             [
              0.1111111111111111,
              "#46039f"
             ],
             [
              0.2222222222222222,
              "#7201a8"
             ],
             [
              0.3333333333333333,
              "#9c179e"
             ],
             [
              0.4444444444444444,
              "#bd3786"
             ],
             [
              0.5555555555555556,
              "#d8576b"
             ],
             [
              0.6666666666666666,
              "#ed7953"
             ],
             [
              0.7777777777777778,
              "#fb9f3a"
             ],
             [
              0.8888888888888888,
              "#fdca26"
             ],
             [
              1,
              "#f0f921"
             ]
            ],
            "type": "histogram2d"
           }
          ],
          "histogram2dcontour": [
           {
            "colorbar": {
             "outlinewidth": 0,
             "ticks": ""
            },
            "colorscale": [
             [
              0,
              "#0d0887"
             ],
             [
              0.1111111111111111,
              "#46039f"
             ],
             [
              0.2222222222222222,
              "#7201a8"
             ],
             [
              0.3333333333333333,
              "#9c179e"
             ],
             [
              0.4444444444444444,
              "#bd3786"
             ],
             [
              0.5555555555555556,
              "#d8576b"
             ],
             [
              0.6666666666666666,
              "#ed7953"
             ],
             [
              0.7777777777777778,
              "#fb9f3a"
             ],
             [
              0.8888888888888888,
              "#fdca26"
             ],
             [
              1,
              "#f0f921"
             ]
            ],
            "type": "histogram2dcontour"
           }
          ],
          "mesh3d": [
           {
            "colorbar": {
             "outlinewidth": 0,
             "ticks": ""
            },
            "type": "mesh3d"
           }
          ],
          "parcoords": [
           {
            "line": {
             "colorbar": {
              "outlinewidth": 0,
              "ticks": ""
             }
            },
            "type": "parcoords"
           }
          ],
          "pie": [
           {
            "automargin": true,
            "type": "pie"
           }
          ],
          "scatter": [
           {
            "fillpattern": {
             "fillmode": "overlay",
             "size": 10,
             "solidity": 0.2
            },
            "type": "scatter"
           }
          ],
          "scatter3d": [
           {
            "line": {
             "colorbar": {
              "outlinewidth": 0,
              "ticks": ""
             }
            },
            "marker": {
             "colorbar": {
              "outlinewidth": 0,
              "ticks": ""
             }
            },
            "type": "scatter3d"
           }
          ],
          "scattercarpet": [
           {
            "marker": {
             "colorbar": {
              "outlinewidth": 0,
              "ticks": ""
             }
            },
            "type": "scattercarpet"
           }
          ],
          "scattergeo": [
           {
            "marker": {
             "colorbar": {
              "outlinewidth": 0,
              "ticks": ""
             }
            },
            "type": "scattergeo"
           }
          ],
          "scattergl": [
           {
            "marker": {
             "colorbar": {
              "outlinewidth": 0,
              "ticks": ""
             }
            },
            "type": "scattergl"
           }
          ],
          "scattermapbox": [
           {
            "marker": {
             "colorbar": {
              "outlinewidth": 0,
              "ticks": ""
             }
            },
            "type": "scattermapbox"
           }
          ],
          "scatterpolar": [
           {
            "marker": {
             "colorbar": {
              "outlinewidth": 0,
              "ticks": ""
             }
            },
            "type": "scatterpolar"
           }
          ],
          "scatterpolargl": [
           {
            "marker": {
             "colorbar": {
              "outlinewidth": 0,
              "ticks": ""
             }
            },
            "type": "scatterpolargl"
           }
          ],
          "scatterternary": [
           {
            "marker": {
             "colorbar": {
              "outlinewidth": 0,
              "ticks": ""
             }
            },
            "type": "scatterternary"
           }
          ],
          "surface": [
           {
            "colorbar": {
             "outlinewidth": 0,
             "ticks": ""
            },
            "colorscale": [
             [
              0,
              "#0d0887"
             ],
             [
              0.1111111111111111,
              "#46039f"
             ],
             [
              0.2222222222222222,
              "#7201a8"
             ],
             [
              0.3333333333333333,
              "#9c179e"
             ],
             [
              0.4444444444444444,
              "#bd3786"
             ],
             [
              0.5555555555555556,
              "#d8576b"
             ],
             [
              0.6666666666666666,
              "#ed7953"
             ],
             [
              0.7777777777777778,
              "#fb9f3a"
             ],
             [
              0.8888888888888888,
              "#fdca26"
             ],
             [
              1,
              "#f0f921"
             ]
            ],
            "type": "surface"
           }
          ],
          "table": [
           {
            "cells": {
             "fill": {
              "color": "#EBF0F8"
             },
             "line": {
              "color": "white"
             }
            },
            "header": {
             "fill": {
              "color": "#C8D4E3"
             },
             "line": {
              "color": "white"
             }
            },
            "type": "table"
           }
          ]
         },
         "layout": {
          "annotationdefaults": {
           "arrowcolor": "#2a3f5f",
           "arrowhead": 0,
           "arrowwidth": 1
          },
          "autotypenumbers": "strict",
          "coloraxis": {
           "colorbar": {
            "outlinewidth": 0,
            "ticks": ""
           }
          },
          "colorscale": {
           "diverging": [
            [
             0,
             "#8e0152"
            ],
            [
             0.1,
             "#c51b7d"
            ],
            [
             0.2,
             "#de77ae"
            ],
            [
             0.3,
             "#f1b6da"
            ],
            [
             0.4,
             "#fde0ef"
            ],
            [
             0.5,
             "#f7f7f7"
            ],
            [
             0.6,
             "#e6f5d0"
            ],
            [
             0.7,
             "#b8e186"
            ],
            [
             0.8,
             "#7fbc41"
            ],
            [
             0.9,
             "#4d9221"
            ],
            [
             1,
             "#276419"
            ]
           ],
           "sequential": [
            [
             0,
             "#0d0887"
            ],
            [
             0.1111111111111111,
             "#46039f"
            ],
            [
             0.2222222222222222,
             "#7201a8"
            ],
            [
             0.3333333333333333,
             "#9c179e"
            ],
            [
             0.4444444444444444,
             "#bd3786"
            ],
            [
             0.5555555555555556,
             "#d8576b"
            ],
            [
             0.6666666666666666,
             "#ed7953"
            ],
            [
             0.7777777777777778,
             "#fb9f3a"
            ],
            [
             0.8888888888888888,
             "#fdca26"
            ],
            [
             1,
             "#f0f921"
            ]
           ],
           "sequentialminus": [
            [
             0,
             "#0d0887"
            ],
            [
             0.1111111111111111,
             "#46039f"
            ],
            [
             0.2222222222222222,
             "#7201a8"
            ],
            [
             0.3333333333333333,
             "#9c179e"
            ],
            [
             0.4444444444444444,
             "#bd3786"
            ],
            [
             0.5555555555555556,
             "#d8576b"
            ],
            [
             0.6666666666666666,
             "#ed7953"
            ],
            [
             0.7777777777777778,
             "#fb9f3a"
            ],
            [
             0.8888888888888888,
             "#fdca26"
            ],
            [
             1,
             "#f0f921"
            ]
           ]
          },
          "colorway": [
           "#636efa",
           "#EF553B",
           "#00cc96",
           "#ab63fa",
           "#FFA15A",
           "#19d3f3",
           "#FF6692",
           "#B6E880",
           "#FF97FF",
           "#FECB52"
          ],
          "font": {
           "color": "#2a3f5f"
          },
          "geo": {
           "bgcolor": "white",
           "lakecolor": "white",
           "landcolor": "#E5ECF6",
           "showlakes": true,
           "showland": true,
           "subunitcolor": "white"
          },
          "hoverlabel": {
           "align": "left"
          },
          "hovermode": "closest",
          "mapbox": {
           "style": "light"
          },
          "paper_bgcolor": "white",
          "plot_bgcolor": "#E5ECF6",
          "polar": {
           "angularaxis": {
            "gridcolor": "white",
            "linecolor": "white",
            "ticks": ""
           },
           "bgcolor": "#E5ECF6",
           "radialaxis": {
            "gridcolor": "white",
            "linecolor": "white",
            "ticks": ""
           }
          },
          "scene": {
           "xaxis": {
            "backgroundcolor": "#E5ECF6",
            "gridcolor": "white",
            "gridwidth": 2,
            "linecolor": "white",
            "showbackground": true,
            "ticks": "",
            "zerolinecolor": "white"
           },
           "yaxis": {
            "backgroundcolor": "#E5ECF6",
            "gridcolor": "white",
            "gridwidth": 2,
            "linecolor": "white",
            "showbackground": true,
            "ticks": "",
            "zerolinecolor": "white"
           },
           "zaxis": {
            "backgroundcolor": "#E5ECF6",
            "gridcolor": "white",
            "gridwidth": 2,
            "linecolor": "white",
            "showbackground": true,
            "ticks": "",
            "zerolinecolor": "white"
           }
          },
          "shapedefaults": {
           "line": {
            "color": "#2a3f5f"
           }
          },
          "ternary": {
           "aaxis": {
            "gridcolor": "white",
            "linecolor": "white",
            "ticks": ""
           },
           "baxis": {
            "gridcolor": "white",
            "linecolor": "white",
            "ticks": ""
           },
           "bgcolor": "#E5ECF6",
           "caxis": {
            "gridcolor": "white",
            "linecolor": "white",
            "ticks": ""
           }
          },
          "title": {
           "x": 0.05
          },
          "xaxis": {
           "automargin": true,
           "gridcolor": "white",
           "linecolor": "white",
           "ticks": "",
           "title": {
            "standoff": 15
           },
           "zerolinecolor": "white",
           "zerolinewidth": 2
          },
          "yaxis": {
           "automargin": true,
           "gridcolor": "white",
           "linecolor": "white",
           "ticks": "",
           "title": {
            "standoff": 15
           },
           "zerolinecolor": "white",
           "zerolinewidth": 2
          }
         }
        },
        "xaxis": {
         "anchor": "y",
         "domain": [
          0,
          1
         ],
         "title": {
          "text": "Saldo natural"
         }
        },
        "yaxis": {
         "anchor": "x",
         "domain": [
          0,
          1
         ],
         "showgrid": false,
         "showticklabels": false,
         "title": {
          "text": "y"
         }
        }
       }
      }
     },
     "metadata": {},
     "output_type": "display_data"
    },
    {
     "name": "stdout",
     "output_type": "stream",
     "text": [
      "cluster_saldo_natural\n",
      "0      9\n",
      "1     84\n",
      "2    215\n",
      "Name: count, dtype: int64\n"
     ]
    },
    {
     "data": {
      "text/html": [
       "<div>\n",
       "<style scoped>\n",
       "    .dataframe tbody tr th:only-of-type {\n",
       "        vertical-align: middle;\n",
       "    }\n",
       "\n",
       "    .dataframe tbody tr th {\n",
       "        vertical-align: top;\n",
       "    }\n",
       "\n",
       "    .dataframe thead th {\n",
       "        text-align: right;\n",
       "    }\n",
       "</style>\n",
       "<table border=\"1\" class=\"dataframe\">\n",
       "  <thead>\n",
       "    <tr style=\"text-align: right;\">\n",
       "      <th></th>\n",
       "      <th>local</th>\n",
       "      <th>codigo</th>\n",
       "      <th>Saldo natural</th>\n",
       "      <th>cluster_saldo_natural</th>\n",
       "    </tr>\n",
       "  </thead>\n",
       "  <tbody>\n",
       "    <tr>\n",
       "      <th>4</th>\n",
       "      <td>Arcos de Valdevez</td>\n",
       "      <td>1111601</td>\n",
       "      <td>-296.0</td>\n",
       "      <td>1</td>\n",
       "    </tr>\n",
       "    <tr>\n",
       "      <th>5</th>\n",
       "      <td>Caminha</td>\n",
       "      <td>1111602</td>\n",
       "      <td>-113.0</td>\n",
       "      <td>2</td>\n",
       "    </tr>\n",
       "    <tr>\n",
       "      <th>6</th>\n",
       "      <td>Melgaço</td>\n",
       "      <td>1111603</td>\n",
       "      <td>-142.0</td>\n",
       "      <td>1</td>\n",
       "    </tr>\n",
       "    <tr>\n",
       "      <th>7</th>\n",
       "      <td>Monção</td>\n",
       "      <td>1111604</td>\n",
       "      <td>-227.0</td>\n",
       "      <td>1</td>\n",
       "    </tr>\n",
       "    <tr>\n",
       "      <th>8</th>\n",
       "      <td>Paredes de Coura</td>\n",
       "      <td>1111605</td>\n",
       "      <td>-79.0</td>\n",
       "      <td>2</td>\n",
       "    </tr>\n",
       "    <tr>\n",
       "      <th>...</th>\n",
       "      <td>...</td>\n",
       "      <td>...</td>\n",
       "      <td>...</td>\n",
       "      <td>...</td>\n",
       "    </tr>\n",
       "    <tr>\n",
       "      <th>342</th>\n",
       "      <td>Ribeira Brava</td>\n",
       "      <td>3003107</td>\n",
       "      <td>-66.0</td>\n",
       "      <td>2</td>\n",
       "    </tr>\n",
       "    <tr>\n",
       "      <th>343</th>\n",
       "      <td>Santa Cruz</td>\n",
       "      <td>3003108</td>\n",
       "      <td>-8.0</td>\n",
       "      <td>2</td>\n",
       "    </tr>\n",
       "    <tr>\n",
       "      <th>344</th>\n",
       "      <td>Santana</td>\n",
       "      <td>3003109</td>\n",
       "      <td>-53.0</td>\n",
       "      <td>2</td>\n",
       "    </tr>\n",
       "    <tr>\n",
       "      <th>345</th>\n",
       "      <td>São Vicente</td>\n",
       "      <td>3003110</td>\n",
       "      <td>-24.0</td>\n",
       "      <td>2</td>\n",
       "    </tr>\n",
       "    <tr>\n",
       "      <th>346</th>\n",
       "      <td>Porto Santo</td>\n",
       "      <td>3003201</td>\n",
       "      <td>-9.0</td>\n",
       "      <td>2</td>\n",
       "    </tr>\n",
       "  </tbody>\n",
       "</table>\n",
       "<p>308 rows × 4 columns</p>\n",
       "</div>"
      ],
      "text/plain": [
       "                 local   codigo  Saldo natural  cluster_saldo_natural\n",
       "4    Arcos de Valdevez  1111601         -296.0                      1\n",
       "5              Caminha  1111602         -113.0                      2\n",
       "6              Melgaço  1111603         -142.0                      1\n",
       "7               Monção  1111604         -227.0                      1\n",
       "8     Paredes de Coura  1111605          -79.0                      2\n",
       "..                 ...      ...            ...                    ...\n",
       "342      Ribeira Brava  3003107          -66.0                      2\n",
       "343         Santa Cruz  3003108           -8.0                      2\n",
       "344            Santana  3003109          -53.0                      2\n",
       "345        São Vicente  3003110          -24.0                      2\n",
       "346        Porto Santo  3003201           -9.0                      2\n",
       "\n",
       "[308 rows x 4 columns]"
      ]
     },
     "execution_count": 236,
     "metadata": {},
     "output_type": "execute_result"
    }
   ],
   "source": [
    "df_saldo_natural= processar_ficheiro('./Saldo natural.xls', 0)\n",
    "df_saldo_natural = carregar_municipios(df_saldo_natural)\n",
    "print(df_saldo_natural.shape)\n",
    "\n",
    "elbow_rule(df_saldo_natural, max_k=10)\n",
    "aplicar_kmeans(df_saldo_natural,3,nome_cluster='cluster_saldo_natural')"
   ]
  },
  {
   "cell_type": "markdown",
   "id": "3425cc2e",
   "metadata": {},
   "source": [
    "### Análise Taxa de Crescimento"
   ]
  },
  {
   "cell_type": "code",
   "execution_count": null,
   "id": "ae25407e",
   "metadata": {},
   "outputs": [
    {
     "data": {
      "image/png": "[encoded data removed]",
      "text/plain": [
       "<Figure size 800x500 with 1 Axes>"
      ]
     },
     "metadata": {},
     "output_type": "display_data"
    },
    {
     "name": "stdout",
     "output_type": "stream",
     "text": [
      "                 local   codigo  Taxa de crescimento efetivo\n",
      "4    Arcos de Valdevez  1111601                         0.70\n",
      "5              Caminha  1111602                         1.45\n",
      "6              Melgaço  1111603                        -0.21\n",
      "7               Monção  1111604                         0.65\n",
      "8     Paredes de Coura  1111605                         0.38\n",
      "..                 ...      ...                          ...\n",
      "339        Porto Santo  3003201                         3.70\n",
      "340      Ribeira Brava  3003107                         1.67\n",
      "341         Santa Cruz  3003108                         1.47\n",
      "342            Santana  3003109                         0.48\n",
      "343        São Vicente  3003110                         2.13\n",
      "\n",
      "[308 rows x 3 columns]\n"
     ]
    },
    {
     "data": {
      "application/vnd.plotly.v1+json": {
       "config": {
        "plotlyServerURL": "https://plot.ly"
       },
       "data": [
        {
         "customdata": [
          [
           "Arcos de Valdevez",
           "1111601",
           0.7
          ],
          [
           "Caminha",
           "1111602",
           1.45
          ],
          [
           "Melgaço",
           "1111603",
           -0.21
          ],
          [
           "Monção",
           "1111604",
           0.65
          ],
          [
           "Paredes de Coura",
           "1111605",
           0.38
          ],
          [
           "Ponte da Barca",
           "1111606",
           0.66
          ],
          [
           "Ponte de Lima",
           "1111607",
           0.16
          ],
          [
           "Valença",
           "1111608",
           1.62
          ],
          [
           "Viana do Castelo",
           "1111609",
           0.61
          ],
          [
           "Vila Nova de Cerveira",
           "1111610",
           1.47
          ],
          [
           "Amares",
           "1120301",
           1.86
          ],
          [
           "Barcelos",
           "1120302",
           0.27
          ],
          [
           "Braga",
           "1120303",
           1.66
          ],
          [
           "Esposende",
           "1120306",
           1.81
          ],
          [
           "Terras de Bouro",
           "1120310",
           0.34
          ],
          [
           "Vila Verde",
           "1120313",
           1.31
          ],
          [
           "Cabeceiras de Basto",
           "1190304",
           0.33
          ],
          [
           "Fafe",
           "1190307",
           0.34
          ],
          [
           "Guimarães",
           "1190308",
           0.19
          ],
          [
           "Mondim de Basto",
           "1191705",
           -0.06
          ],
          [
           "Póvoa de Lanhoso",
           "1190309",
           1.32
          ],
          [
           "Vieira do Minho",
           "1190311",
           0.72
          ],
          [
           "Vila Nova de Famalicão",
           "1190312",
           0.68
          ],
          [
           "Vizela",
           "1190314",
           0.95
          ],
          [
           "Arouca",
           "11A0104",
           -0.12
          ],
          [
           "Espinho",
           "11A0107",
           1.58
          ],
          [
           "Gondomar",
           "11A1304",
           0.79
          ],
          [
           "Maia",
           "11A1306",
           1.6
          ],
          [
           "Matosinhos",
           "11A1308",
           1.35
          ],
          [
           "Oliveira de Azeméis",
           "11A0113",
           0.61
          ],
          [
           "Paredes",
           "11A1310",
           0.74
          ],
          [
           "Porto",
           "11A1312",
           2.34
          ],
          [
           "Póvoa de Varzim",
           "11A1313",
           1.89
          ],
          [
           "Santa Maria da Feira",
           "11A0109",
           0.92
          ],
          [
           "Santo Tirso",
           "11A1314",
           0.18
          ],
          [
           "São João da Madeira",
           "11A0116",
           2.18
          ],
          [
           "Trofa",
           "11A1318",
           1.05
          ],
          [
           "Vale de Cambra",
           "11A0119",
           0.03
          ],
          [
           "Valongo",
           "11A1315",
           1.77
          ],
          [
           "Vila do Conde",
           "11A1316",
           1.59
          ],
          [
           "Vila Nova de Gaia",
           "11A1317",
           0.87
          ],
          [
           "Boticas",
           "11B1702",
           -0.29
          ],
          [
           "Chaves",
           "11B1703",
           0.25
          ],
          [
           "Montalegre",
           "11B1706",
           0.03
          ],
          [
           "Ribeira de Pena",
           "11B1709",
           0.43
          ],
          [
           "Valpaços",
           "11B1712",
           0.23
          ],
          [
           "Vila Pouca de Aguiar",
           "11B1713",
           0.16
          ],
          [
           "Amarante",
           "11C1301",
           0.31
          ],
          [
           "Baião",
           "11C1302",
           -0.45
          ],
          [
           "Castelo de Paiva",
           "11C0106",
           0.36
          ],
          [
           "Celorico de Basto",
           "11C0305",
           0.45
          ],
          [
           "Cinfães",
           "11C1804",
           -0.73
          ],
          [
           "Felgueiras",
           "11C1303",
           0.02
          ],
          [
           "Lousada",
           "11C1305",
           0.79
          ],
          [
           "Marco de Canaveses",
           "11C1307",
           0.23
          ],
          [
           "Paços de Ferreira",
           "11C1309",
           0.18
          ],
          [
           "Penafiel",
           "11C1311",
           0.46
          ],
          [
           "Resende",
           "11C1813",
           -1
          ],
          [
           "Alijó",
           "11D1701",
           -0.37
          ],
          [
           "Armamar",
           "11D1801",
           -0.76
          ],
          [
           "Carrazeda de Ansiães",
           "11D0403",
           -0.11
          ],
          [
           "Freixo de Espada à Cinta",
           "11D0404",
           -1.01
          ],
          [
           "Lamego",
           "11D1805",
           -0.14
          ],
          [
           "Mesão Frio",
           "11D1704",
           -0.83
          ],
          [
           "Moimenta da Beira",
           "11D1807",
           1.21
          ],
          [
           "Murça",
           "11D1707",
           0.63
          ],
          [
           "Penedono",
           "11D1812",
           0.46
          ],
          [
           "Peso da Régua",
           "11D1708",
           -0.17
          ],
          [
           "Sabrosa",
           "11D1710",
           0.64
          ],
          [
           "Santa Marta de Penaguião",
           "11D1711",
           -0.17
          ],
          [
           "São João da Pesqueira",
           "11D1815",
           -0.06
          ],
          [
           "Sernancelhe",
           "11D1818",
           0.95
          ],
          [
           "Tabuaço",
           "11D1819",
           0.18
          ],
          [
           "Tarouca",
           "11D1820",
           1.82
          ],
          [
           "Torre de Moncorvo",
           "11D0409",
           -0.09
          ],
          [
           "Vila Nova de Foz Côa",
           "11D0914",
           0.8
          ],
          [
           "Vila Real",
           "11D1714",
           0.53
          ],
          [
           "Alfândega da Fé",
           "11E0401",
           -0.54
          ],
          [
           "Bragança",
           "11E0402",
           1.1
          ],
          [
           "Macedo de Cavaleiros",
           "11E0405",
           0.54
          ],
          [
           "Miranda do Douro",
           "11E0406",
           -0.87
          ],
          [
           "Mirandela",
           "11E0407",
           0.32
          ],
          [
           "Mogadouro",
           "11E0408",
           -0.28
          ],
          [
           "Vila Flor",
           "11E0410",
           0.18
          ],
          [
           "Vimioso",
           "11E0411",
           0.7
          ],
          [
           "Vinhais",
           "11E0412",
           -0.84
          ],
          [
           "Alcobaça",
           "16B1001",
           1.79
          ],
          [
           "Alenquer",
           "16B1101",
           2.94
          ],
          [
           "Arruda dos Vinhos",
           "16B1102",
           2.72
          ],
          [
           "Bombarral",
           "16B1005",
           3.2
          ],
          [
           "Cadaval",
           "16B1104",
           2.58
          ],
          [
           "Caldas da Rainha",
           "16B1006",
           2.63
          ],
          [
           "Lourinhã",
           "16B1108",
           2.55
          ],
          [
           "Nazaré",
           "16B1011",
           2.23
          ],
          [
           "Óbidos",
           "16B1012",
           3.58
          ],
          [
           "Peniche",
           "16B1014",
           1.5
          ],
          [
           "Sobral de Monte Agraço",
           "16B1112",
           3.52
          ],
          [
           "Torres Vedras",
           "16B1113",
           2.2
          ],
          [
           "Águeda",
           "16D0101",
           1.19
          ],
          [
           "Albergaria-a-Velha",
           "16D0102",
           1.78
          ],
          [
           "Anadia",
           "16D0103",
           1.17
          ],
          [
           "Aveiro",
           "16D0105",
           2.63
          ],
          [
           "Estarreja",
           "16D0108",
           1.64
          ],
          [
           "Ílhavo",
           "16D0110",
           2.87
          ],
          [
           "Murtosa",
           "16D0112",
           2.88
          ],
          [
           "Oliveira do Bairro",
           "16D0114",
           3.27
          ],
          [
           "Ovar",
           "16D0115",
           1.51
          ],
          [
           "Sever do Vouga",
           "16D0117",
           0.27
          ],
          [
           "Vagos",
           "16D0118",
           3.01
          ],
          [
           "Arganil",
           "16E0601",
           1.53
          ],
          [
           "Cantanhede",
           "16E0602",
           1.36
          ],
          [
           "Coimbra",
           "16E0603",
           1.4
          ],
          [
           "Condeixa-a-Nova",
           "16E0604",
           2.02
          ],
          [
           "Figueira da Foz",
           "16E0605",
           1.41
          ],
          [
           "Góis",
           "16E0606",
           0.71
          ],
          [
           "Lousã",
           "16E0607",
           1.17
          ],
          [
           "Mealhada",
           "16E0111",
           0.83
          ],
          [
           "Mira",
           "16E0608",
           1.87
          ],
          [
           "Miranda do Corvo",
           "16E0609",
           0.71
          ],
          [
           "Montemor-o-Velho",
           "16E0610",
           0.68
          ],
          [
           "Mortágua",
           "16E1808",
           1.27
          ],
          [
           "Oliveira do Hospital",
           "16E0611",
           0.78
          ],
          [
           "Pampilhosa da Serra",
           "16E0612",
           1.56
          ],
          [
           "Penacova",
           "16E0613",
           0.24
          ],
          [
           "Penela",
           "16E0614",
           1.36
          ],
          [
           "Soure",
           "16E0615",
           0.52
          ],
          [
           "Tábua",
           "16E0616",
           1.67
          ],
          [
           "Vila Nova de Poiares",
           "16E0617",
           1.2
          ],
          [
           "Alvaiázere",
           "16F1002",
           1.03
          ],
          [
           "Ansião",
           "16F1003",
           1.36
          ],
          [
           "Batalha",
           "16F1004",
           2.64
          ],
          [
           "Castanheira de Pêra",
           "16F1007",
           1.04
          ],
          [
           "Figueiró dos Vinhos",
           "16F1008",
           1.09
          ],
          [
           "Leiria",
           "16F1009",
           1.78
          ],
          [
           "Marinha Grande",
           "16F1010",
           2.15
          ],
          [
           "Pedrógão Grande",
           "16F1013",
           2.85
          ],
          [
           "Pombal",
           "16F1015",
           1.3
          ],
          [
           "Porto de Mós",
           "16F1016",
           1.39
          ],
          [
           "Aguiar da Beira",
           "16G0901",
           0.34
          ],
          [
           "Carregal do Sal",
           "16G1802",
           1.08
          ],
          [
           "Castro Daire",
           "16G1803",
           0.8
          ],
          [
           "Mangualde",
           "16G1806",
           1.42
          ],
          [
           "Nelas",
           "16G1809",
           1.27
          ],
          [
           "Oliveira de Frades",
           "16G1810",
           1.44
          ],
          [
           "Penalva do Castelo",
           "16G1811",
           0.85
          ],
          [
           "Santa Comba Dão",
           "16G1814",
           1.11
          ],
          [
           "São Pedro do Sul",
           "16G1816",
           0.87
          ],
          [
           "Sátão",
           "16G1817",
           0.92
          ],
          [
           "Tondela",
           "16G1821",
           0.67
          ],
          [
           "Vila Nova de Paiva",
           "16G1822",
           1.33
          ],
          [
           "Viseu",
           "16G1823",
           1.59
          ],
          [
           "Vouzela",
           "16G1824",
           1.16
          ],
          [
           "Castelo Branco",
           "16H0502",
           0.78
          ],
          [
           "Idanha-a-Nova",
           "16H0505",
           1.02
          ],
          [
           "Oleiros",
           "16H0506",
           0.18
          ],
          [
           "Penamacor",
           "16H0507",
           1.03
          ],
          [
           "Proença-a-Nova",
           "16H0508",
           -0.17
          ],
          [
           "Vila Velha de Ródão",
           "16H0511",
           1.37
          ],
          [
           "Abrantes",
           "16I1401",
           -0.14
          ],
          [
           "Alcanena",
           "16I1402",
           1.07
          ],
          [
           "Constância",
           "16I1408",
           2.07
          ],
          [
           "Entroncamento",
           "16I1410",
           2.95
          ],
          [
           "Ferreira do Zêzere",
           "16I1411",
           1.52
          ],
          [
           "Mação",
           "16I1413",
           0.23
          ],
          [
           "Ourém",
           "16I1421",
           1.77
          ],
          [
           "Sardoal",
           "16I1417",
           1.5
          ],
          [
           "Sertã",
           "16I0509",
           0.23
          ],
          [
           "Tomar",
           "16I1418",
           1.1
          ],
          [
           "Torres Novas",
           "16I1419",
           0.92
          ],
          [
           "Vila de Rei",
           "16I0510",
           1.11
          ],
          [
           "Vila Nova da Barquinha",
           "16I1420",
           3.69
          ],
          [
           "Almeida",
           "16J0902",
           -0.37
          ],
          [
           "Belmonte",
           "16J0501",
           0.61
          ],
          [
           "Celorico da Beira",
           "16J0903",
           1.02
          ],
          [
           "Covilhã",
           "16J0503",
           0.64
          ],
          [
           "Figueira de Castelo Rodrigo",
           "16J0904",
           -0.42
          ],
          [
           "Fornos de Algodres",
           "16J0905",
           0.23
          ],
          [
           "Fundão",
           "16J0504",
           1.31
          ],
          [
           "Gouveia",
           "16J0906",
           0.88
          ],
          [
           "Guarda",
           "16J0907",
           0.3
          ],
          [
           "Manteigas",
           "16J0908",
           0.2
          ],
          [
           "Mêda",
           "16J0909",
           -0.09
          ],
          [
           "Pinhel",
           "16J0910",
           -0.61
          ],
          [
           "Sabugal",
           "16J0911",
           0.54
          ],
          [
           "Seia",
           "16J0912",
           0
          ],
          [
           "Trancoso",
           "16J0913",
           0.29
          ],
          [
           "Alcochete",
           "1701502",
           1.39
          ],
          [
           "Almada",
           "1701503",
           1.03
          ],
          [
           "Amadora",
           "1701115",
           1.78
          ],
          [
           "Barreiro",
           "1701504",
           1.21
          ],
          [
           "Cascais",
           "1701105",
           1.1
          ],
          [
           "Lisboa",
           "1701106",
           1.71
          ],
          [
           "Loures",
           "1701107",
           1.29
          ],
          [
           "Mafra",
           "1701109",
           0.87
          ],
          [
           "Moita",
           "1701506",
           1.61
          ],
          [
           "Montijo",
           "1701507",
           1.97
          ],
          [
           "Odivelas",
           "1701116",
           1.68
          ],
          [
           "Oeiras",
           "1701110",
           1.05
          ],
          [
           "Palmela",
           "1701508",
           1.78
          ],
          [
           "Seixal",
           "1701510",
           1.72
          ],
          [
           "Sesimbra",
           "1701511",
           1.62
          ],
          [
           "Setúbal",
           "1701512",
           0.23
          ],
          [
           "Sintra",
           "1701111",
           1.24
          ],
          [
           "Vila Franca de Xira",
           "1701114",
           0.71
          ],
          [
           "Alcácer do Sal",
           "1811501",
           0.23
          ],
          [
           "Grândola",
           "1811505",
           1.15
          ],
          [
           "Odemira",
           "1810211",
           3.66
          ],
          [
           "Santiago do Cacém",
           "1811509",
           0.43
          ],
          [
           "Sines",
           "1811513",
           0.86
          ],
          [
           "Aljustrel",
           "1840201",
           0.17
          ],
          [
           "Almodôvar",
           "1840202",
           0.07
          ],
          [
           "Alvito",
           "1840203",
           0.7
          ],
          [
           "Barrancos",
           "1840204",
           -1.87
          ],
          [
           "Beja",
           "1840205",
           0.66
          ],
          [
           "Castro Verde",
           "1840206",
           0.11
          ],
          [
           "Cuba",
           "1840207",
           0.52
          ],
          [
           "Ferreira do Alentejo",
           "1840208",
           0.61
          ],
          [
           "Mértola",
           "1840209",
           -0.68
          ],
          [
           "Moura",
           "1840210",
           -0.05
          ],
          [
           "Ourique",
           "1840212",
           0.21
          ],
          [
           "Serpa",
           "1840213",
           -0.1
          ],
          [
           "Vidigueira",
           "1840214",
           -0.23
          ],
          [
           "Almeirim",
           "1851403",
           1.01
          ],
          [
           "Alpiarça",
           "1851404",
           1.62
          ],
          [
           "Azambuja",
           "1851103",
           2.51
          ],
          [
           "Benavente",
           "1851405",
           2.28
          ],
          [
           "Cartaxo",
           "1851406",
           1.5
          ],
          [
           "Chamusca",
           "1851407",
           -0.34
          ],
          [
           "Coruche",
           "1851409",
           -0.05
          ],
          [
           "Golegã",
           "1851412",
           0.46
          ],
          [
           "Rio Maior",
           "1851414",
           1.64
          ],
          [
           "Salvaterra de Magos",
           "1851415",
           2.05
          ],
          [
           "Santarém",
           "1851416",
           1.11
          ],
          [
           "Alter do Chão",
           "1861201",
           0.5
          ],
          [
           "Arronches",
           "1861202",
           -0.29
          ],
          [
           "Avis",
           "1861203",
           0.47
          ],
          [
           "Campo Maior",
           "1861204",
           -0.5
          ],
          [
           "Castelo de Vide",
           "1861205",
           -0.41
          ],
          [
           "Crato",
           "1861206",
           0.4
          ],
          [
           "Elvas",
           "1861207",
           -0.2
          ],
          [
           "Fronteira",
           "1861208",
           1.12
          ],
          [
           "Gavião",
           "1861209",
           -1.11
          ],
          [
           "Marvão",
           "1861210",
           -0.43
          ],
          [
           "Monforte",
           "1861211",
           0.9
          ],
          [
           "Nisa",
           "1861212",
           -0.68
          ],
          [
           "Ponte de Sor",
           "1861213",
           -0.06
          ],
          [
           "Portalegre",
           "1861214",
           -0.63
          ],
          [
           "Sousel",
           "1861215",
           0.16
          ],
          [
           "Alandroal",
           "1870701",
           -0.26
          ],
          [
           "Arraiolos",
           "1870702",
           0.5
          ],
          [
           "Borba",
           "1870703",
           -0.08
          ],
          [
           "Estremoz",
           "1870704",
           -0.61
          ],
          [
           "Évora",
           "1870705",
           0.28
          ],
          [
           "Montemor-o-Novo",
           "1870706",
           0.35
          ],
          [
           "Mora",
           "1870707",
           -0.53
          ],
          [
           "Mourão",
           "1870708",
           1.16
          ],
          [
           "Portel",
           "1870709",
           0.02
          ],
          [
           "Redondo",
           "1870710",
           0.41
          ],
          [
           "Reguengos de Monsaraz",
           "1870711",
           0.41
          ],
          [
           "Vendas Novas",
           "1870712",
           0.75
          ],
          [
           "Viana do Alentejo",
           "1870713",
           0.71
          ],
          [
           "Vila Viçosa",
           "1870714",
           -0.3
          ],
          [
           "Albufeira",
           "1500801",
           2.15
          ],
          [
           "Alcoutim",
           "1500802",
           -1.85
          ],
          [
           "Aljezur",
           "1500803",
           1.65
          ],
          [
           "Castro Marim",
           "1500804",
           1.61
          ],
          [
           "Faro",
           "1500805",
           0.79
          ],
          [
           "Lagoa",
           "1500806",
           1.67
          ],
          [
           "Lagos",
           "1500807",
           1.18
          ],
          [
           "Loulé",
           "1500808",
           1.11
          ],
          [
           "Monchique",
           "1500809",
           -0.75
          ],
          [
           "Olhão",
           "1500810",
           0.5
          ],
          [
           "Portimão",
           "1500811",
           1.44
          ],
          [
           "São Brás de Alportel",
           "1500812",
           0.93
          ],
          [
           "Silves",
           "1500813",
           1.38
          ],
          [
           "Tavira",
           "1500814",
           0.68
          ],
          [
           "Vila do Bispo",
           "1500815",
           0.98
          ],
          [
           "Vila Real de Santo António",
           "1500816",
           0.83
          ],
          [
           "Angra do Heroísmo",
           "2004301",
           -0.37
          ],
          [
           "Calheta",
           "2004501",
           -0.57
          ],
          [
           "Corvo",
           "2004901",
           0.23
          ],
          [
           "Horta",
           "2004701",
           0.21
          ],
          [
           "Lagoa",
           "2004201",
           1.32
          ],
          [
           "Lajes das Flores",
           "2004801",
           0.49
          ],
          [
           "Lajes do Pico",
           "2004601",
           0.41
          ],
          [
           "Madalena",
           "2004602",
           0.74
          ],
          [
           "Nordeste",
           "2004202",
           -0.05
          ],
          [
           "Ponta Delgada",
           "2004203",
           0.55
          ],
          [
           "Povoação",
           "2004204",
           -0.26
          ],
          [
           "Ribeira Grande",
           "2004205",
           0.74
          ],
          [
           "Santa Cruz da Graciosa",
           "2004401",
           -0.29
          ],
          [
           "Santa Cruz das Flores",
           "2004802",
           1.39
          ],
          [
           "São Roque do Pico",
           "2004603",
           1.57
          ],
          [
           "Velas",
           "2004502",
           0.02
          ],
          [
           "Vila da Praia da Vitória",
           "2004302",
           0.37
          ],
          [
           "Vila do Porto",
           "2004101",
           -0.13
          ],
          [
           "Vila Franca do Campo",
           "2004206",
           0.1
          ],
          [
           "Calheta",
           "3003101",
           1.69
          ],
          [
           "Câmara de Lobos",
           "3003102",
           1.12
          ],
          [
           "Funchal",
           "3003103",
           0.52
          ],
          [
           "Machico",
           "3003104",
           0.23
          ],
          [
           "Ponta do Sol",
           "3003105",
           1.98
          ],
          [
           "Porto Moniz",
           "3003106",
           1.11
          ],
          [
           "Porto Santo",
           "3003201",
           3.7
          ],
          [
           "Ribeira Brava",
           "3003107",
           1.67
          ],
          [
           "Santa Cruz",
           "3003108",
           1.47
          ],
          [
           "Santana",
           "3003109",
           0.48
          ],
          [
           "São Vicente",
           "3003110",
           2.13
          ]
         ],
         "hovertemplate": "valor=%{x}<br>y=%{y}<br>local=%{customdata[0]}<br>codigo=%{customdata[1]}<br>Taxa de crescimento efetivo=%{customdata[2]}<br>cluster_taxa_crescimento=%{marker.color}<extra></extra>",
         "legendgroup": "",
         "marker": {
          "color": [
           1,
           3,
           0,
           1,
           1,
           1,
           1,
           3,
           1,
           3,
           3,
           1,
           3,
           3,
           1,
           2,
           1,
           1,
           1,
           0,
           2,
           1,
           1,
           2,
           0,
           3,
           2,
           3,
           2,
           1,
           1,
           3,
           3,
           2,
           1,
           3,
           2,
           1,
           3,
           3,
           2,
           0,
           1,
           1,
           1,
           1,
           1,
           1,
           0,
           1,
           1,
           0,
           1,
           2,
           1,
           1,
           1,
           0,
           0,
           0,
           0,
           0,
           0,
           0,
           2,
           1,
           1,
           0,
           1,
           0,
           0,
           2,
           1,
           3,
           0,
           2,
           1,
           0,
           2,
           1,
           0,
           1,
           0,
           1,
           1,
           0,
           3,
           4,
           4,
           4,
           4,
           4,
           4,
           3,
           4,
           3,
           4,
           3,
           2,
           3,
           2,
           4,
           3,
           4,
           4,
           4,
           3,
           1,
           4,
           3,
           2,
           2,
           3,
           2,
           1,
           2,
           2,
           3,
           1,
           1,
           2,
           2,
           3,
           1,
           2,
           1,
           3,
           2,
           2,
           2,
           4,
           2,
           2,
           3,
           3,
           4,
           2,
           2,
           1,
           2,
           2,
           2,
           2,
           3,
           2,
           2,
           2,
           2,
           1,
           2,
           3,
           2,
           2,
           2,
           1,
           2,
           0,
           2,
           0,
           2,
           3,
           4,
           3,
           1,
           3,
           3,
           1,
           2,
           2,
           2,
           4,
           0,
           1,
           2,
           1,
           0,
           1,
           2,
           2,
           1,
           1,
           0,
           0,
           1,
           1,
           1,
           2,
           2,
           3,
           2,
           2,
           3,
           2,
           2,
           3,
           3,
           3,
           2,
           3,
           3,
           3,
           1,
           2,
           1,
           1,
           2,
           4,
           1,
           2,
           1,
           1,
           1,
           0,
           1,
           1,
           1,
           1,
           0,
           0,
           1,
           0,
           0,
           2,
           3,
           4,
           3,
           3,
           0,
           0,
           1,
           3,
           3,
           2,
           1,
           0,
           1,
           0,
           0,
           1,
           0,
           2,
           0,
           0,
           2,
           0,
           0,
           0,
           1,
           0,
           1,
           0,
           0,
           1,
           1,
           0,
           2,
           1,
           1,
           1,
           1,
           1,
           0,
           3,
           0,
           3,
           3,
           2,
           3,
           2,
           2,
           0,
           1,
           3,
           2,
           2,
           1,
           2,
           2,
           0,
           0,
           1,
           1,
           2,
           1,
           1,
           1,
           0,
           1,
           0,
           1,
           0,
           2,
           3,
           1,
           1,
           0,
           1,
           3,
           2,
           1,
           1,
           3,
           2,
           4,
           3,
           3,
           1,
           3
          ],
          "coloraxis": "coloraxis",
          "size": 10,
          "symbol": "circle"
         },
         "mode": "markers",
         "name": "",
         "orientation": "v",
         "showlegend": false,
         "type": "scatter",
         "x": [
          -0.1547712828499419,
          0.6297836071728058,
          -1.106697882744209,
          -0.2070749421847917,
          -0.48951470259298085,
          -0.19661421031782172,
          -0.7196508036663202,
          0.8076160489112953,
          -0.2489178696526716,
          0.6507050709067457,
          1.0586736137185744,
          -0.6045827531296505,
          0.849458976379175,
          1.0063699543837248,
          -0.5313576300608608,
          0.4833333610352263,
          -0.5418183619278307,
          -0.5313576300608608,
          -0.6882686080654102,
          -0.9497869047396594,
          0.4937940929021963,
          -0.13384981911600197,
          -0.17569274658388176,
          0.1067470138243073,
          -1.0125512959414793,
          0.7657731214434155,
          -0.060624696047212115,
          0.7866945851773554,
          0.5251762885031062,
          -0.2489178696526716,
          -0.112928355382062,
          1.5607887433331329,
          1.090055809319484,
          0.07536481822339748,
          -0.6987293399323802,
          1.3934170334616138,
          0.2113543324940071,
          -0.8556403179369297,
          0.9645270269158448,
          0.7762338533103854,
          0.023061158888547595,
          -1.1903837376799686,
          -0.6255042168635905,
          -0.8556403179369297,
          -0.43721104325813104,
          -0.6464256805975305,
          -0.7196508036663202,
          -0.5627398256617707,
          -1.3577554475514884,
          -0.5104361663269208,
          -0.4162895795241911,
          -1.6506559398266472,
          -0.8661010498038997,
          -0.060624696047212115,
          -0.6464256805975305,
          -0.6987293399323802,
          -0.4058288476572211,
          -1.9330957002348363,
          -1.2740695926157286,
          -1.6820381354275575,
          -1.0020905640745092,
          -1.9435564321018066,
          -1.0334727596754192,
          -1.755263258496347,
          0.3787260423655265,
          -0.22799640591873166,
          -0.4058288476572211,
          -1.0648549552763291,
          -0.21753567405176166,
          -1.0648549552763291,
          -0.9497869047396594,
          0.1067470138243073,
          -0.6987293399323802,
          1.0168306862506946,
          -0.9811691003405694,
          -0.05016396418024214,
          -0.3326037245884313,
          -1.451902034354218,
          0.26365799182885696,
          -0.32214299272146135,
          -1.797106185964227,
          -0.5522790937948008,
          -1.179923005812999,
          -0.6987293399323802,
          -0.1547712828499419,
          -1.765723990363317,
          0.9854484906497848,
          2.188432655351331,
          1.9582965542779922,
          2.4604116838925507,
          1.8118463081404124,
          1.8641499674752622,
          1.7804641125395022,
          1.4457206927964634,
          2.857919494837409,
          0.6820872665076556,
          2.7951551036355893,
          1.4143384971955537,
          0.35780457863158655,
          0.9749877587828147,
          0.3368831148976466,
          1.8641499674752622,
          0.8285375126452351,
          2.1152075322825414,
          2.1256682641495113,
          2.5336368069613404,
          0.6925479983746257,
          -0.6045827531296505,
          2.261657778420121,
          0.7134694621085655,
          0.5356370203700762,
          0.5774799478379559,
          1.226045323590094,
          0.5879406797049258,
          -0.14431055098297194,
          0.3368831148976466,
          -0.01878176857933232,
          1.0691343455855447,
          -0.14431055098297194,
          -0.17569274658388176,
          0.44149043356734635,
          -0.0710854279141821,
          0.7448516577094755,
          -0.6359649487305604,
          0.5356370203700762,
          -0.3430644564554013,
          0.859919708246145,
          0.36826531049855654,
          0.19043286876006713,
          0.5356370203700762,
          1.8746106993422322,
          0.2008936006270371,
          0.253197259961887,
          0.9749877587828147,
          1.3620348378607037,
          2.0942860685486018,
          0.4728726291682563,
          0.5670192159709859,
          -0.5313576300608608,
          0.24273652809491703,
          -0.05016396418024214,
          0.5984014115718959,
          0.44149043356734635,
          0.6193228753058357,
          0.002139695154607638,
          0.27411872369582696,
          0.023061158888547595,
          0.07536481822339748,
          -0.18615347845085173,
          0.5042548247691663,
          0.7762338533103854,
          0.3264223830306766,
          -0.0710854279141821,
          0.17997213689309716,
          -0.6987293399323802,
          0.19043286876006713,
          -1.0648549552763291,
          0.5460977522370462,
          -1.0334727596754192,
          0.23227579622794703,
          1.2783489829249437,
          2.1988933872183014,
          0.7030087302415956,
          -0.6464256805975305,
          0.9645270269158448,
          0.6820872665076556,
          -0.6464256805975305,
          0.26365799182885696,
          0.07536481822339748,
          0.27411872369582696,
          2.972987545374079,
          -1.2740695926157286,
          -0.2489178696526716,
          0.17997213689309716,
          -0.21753567405176166,
          -1.3263732519505784,
          -0.6464256805975305,
          0.4833333610352263,
          0.03352189075551757,
          -0.5732005575287407,
          -0.6778078761984402,
          -0.9811691003405694,
          -1.5251271574230079,
          -0.32214299272146135,
          -0.8870225135378397,
          -0.5836612893957107,
          0.5670192159709859,
          0.19043286876006713,
          0.9749877587828147,
          0.3787260423655265,
          0.26365799182885696,
          0.9017626357140249,
          0.46241189730128635,
          0.023061158888547595,
          0.7971553170443254,
          1.173741664255244,
          0.870380440113115,
          0.2113543324940071,
          0.9749877587828147,
          0.9122233675809949,
          0.8076160489112953,
          -0.6464256805975305,
          0.4101082379664364,
          -0.14431055098297194,
          -0.6464256805975305,
          0.3159616511637066,
          2.941605349773169,
          -0.43721104325813104,
          0.012600427021577616,
          -0.7091900717993501,
          -0.81379739046905,
          -0.1547712828499419,
          -2.843179372661224,
          -0.19661421031782172,
          -0.77195446300117,
          -0.3430644564554013,
          -0.2489178696526716,
          -1.5983522804917976,
          -0.9393261728726896,
          -0.6673471443314704,
          -0.9916298322075393,
          -1.127619346478149,
          0.16951140502612716,
          0.8076160489112953,
          1.7386211850716224,
          1.498024352131313,
          0.6820872665076556,
          -1.2426873970148187,
          -0.9393261728726896,
          -0.4058288476572211,
          0.8285375126452351,
          1.2574275191910038,
          0.27411872369582696,
          -0.3639859201893412,
          -1.1903837376799686,
          -0.39536811579025116,
          -1.410059106886338,
          -1.3159125200836084,
          -0.4685932388590409,
          -1.096237150877239,
          0.2845794555627969,
          -2.0481637507715065,
          -1.3368339838175485,
          0.05444335448945753,
          -1.5983522804917976,
          -0.9497869047396594,
          -1.5460486211569477,
          -0.7196508036663202,
          -1.159001542079059,
          -0.3639859201893412,
          -0.9707083684735994,
          -1.5251271574230079,
          -0.5941220212626805,
          -0.5208968981938908,
          -1.441441302487248,
          0.3264223830306766,
          -0.8661010498038997,
          -0.458132506992071,
          -0.458132506992071,
          -0.10246762351509203,
          -0.14431055098297194,
          -1.2008444695469387,
          1.3620348378607037,
          -2.8222579089272837,
          0.8389982445122051,
          0.7971553170443254,
          -0.060624696047212115,
          0.859919708246145,
          0.34734384676461655,
          0.27411872369582696,
          -1.6715774035605873,
          -0.3639859201893412,
          0.6193228753058357,
          0.08582555009036746,
          0.5565584841040159,
          -0.17569274658388176,
          0.13812920942521723,
          -0.01878176857933232,
          -1.2740695926157286,
          -1.4832842299551279,
          -0.6464256805975305,
          -0.6673471443314704,
          0.4937940929021963,
          -0.3744466520563112,
          -0.458132506992071,
          -0.112928355382062,
          -0.9393261728726896,
          -0.31168226085449136,
          -1.159001542079059,
          -0.112928355382062,
          -1.1903837376799686,
          0.5670192159709859,
          0.7553123895764455,
          -0.8661010498038997,
          -0.49997543445995085,
          -1.0230120278084494,
          -0.78241519486814,
          0.8808411719800849,
          0.2845794555627969,
          -0.3430644564554013,
          -0.6464256805975305,
          1.1842023961222141,
          0.27411872369582696,
          2.983448277241049,
          0.859919708246145,
          0.6507050709067457,
          -0.3849073839232812,
          1.3411133741267636
         ],
         "xaxis": "x",
         "y": [
          0,
          0,
          0,
          0,
          0,
          0,
          0,
          0,
          0,
          0,
          0,
          0,
          0,
          0,
          0,
          0,
          0,
          0,
          0,
          0,
          0,
          0,
          0,
          0,
          0,
          0,
          0,
          0,
          0,
          0,
          0,
          0,
          0,
          0,
          0,
          0,
          0,
          0,
          0,
          0,
          0,
          0,
          0,
          0,
          0,
          0,
          0,
          0,
          0,
          0,
          0,
          0,
          0,
          0,
          0,
          0,
          0,
          0,
          0,
          0,
          0,
          0,
          0,
          0,
          0,
          0,
          0,
          0,
          0,
          0,
          0,
          0,
          0,
          0,
          0,
          0,
          0,
          0,
          0,
          0,
          0,
          0,
          0,
          0,
          0,
          0,
          0,
          0,
          0,
          0,
          0,
          0,
          0,
          0,
          0,
          0,
          0,
          0,
          0,
          0,
          0,
          0,
          0,
          0,
          0,
          0,
          0,
          0,
          0,
          0,
          0,
          0,
          0,
          0,
          0,
          0,
          0,
          0,
          0,
          0,
          0,
          0,
          0,
          0,
          0,
          0,
          0,
          0,
          0,
          0,
          0,
          0,
          0,
          0,
          0,
          0,
          0,
          0,
          0,
          0,
          0,
          0,
          0,
          0,
          0,
          0,
          0,
          0,
          0,
          0,
          0,
          0,
          0,
          0,
          0,
          0,
          0,
          0,
          0,
          0,
          0,
          0,
          0,
          0,
          0,
          0,
          0,
          0,
          0,
          0,
          0,
          0,
          0,
          0,
          0,
          0,
          0,
          0,
          0,
          0,
          0,
          0,
          0,
          0,
          0,
          0,
          0,
          0,
          0,
          0,
          0,
          0,
          0,
          0,
          0,
          0,
          0,
          0,
          0,
          0,
          0,
          0,
          0,
          0,
          0,
          0,
          0,
          0,
          0,
          0,
          0,
          0,
          0,
          0,
          0,
          0,
          0,
          0,
          0,
          0,
          0,
          0,
          0,
          0,
          0,
          0,
          0,
          0,
          0,
          0,
          0,
          0,
          0,
          0,
          0,
          0,
          0,
          0,
          0,
          0,
          0,
          0,
          0,
          0,
          0,
          0,
          0,
          0,
          0,
          0,
          0,
          0,
          0,
          0,
          0,
          0,
          0,
          0,
          0,
          0,
          0,
          0,
          0,
          0,
          0,
          0,
          0,
          0,
          0,
          0,
          0,
          0,
          0,
          0,
          0,
          0,
          0,
          0,
          0,
          0,
          0,
          0,
          0,
          0,
          0,
          0,
          0,
          0,
          0,
          0,
          0,
          0,
          0,
          0,
          0,
          0,
          0,
          0,
          0,
          0,
          0,
          0,
          0,
          0,
          0,
          0,
          0,
          0
         ],
         "yaxis": "y"
        }
       ],
       "layout": {
        "coloraxis": {
         "colorbar": {
          "title": {
           "text": "cluster_taxa_crescimento"
          }
         },
         "colorscale": [
          [
           0,
           "#440154"
          ],
          [
           0.1111111111111111,
           "#482878"
          ],
          [
           0.2222222222222222,
           "#3e4989"
          ],
          [
           0.3333333333333333,
           "#31688e"
          ],
          [
           0.4444444444444444,
           "#26828e"
          ],
          [
           0.5555555555555556,
           "#1f9e89"
          ],
          [
           0.6666666666666666,
           "#35b779"
          ],
          [
           0.7777777777777778,
           "#6ece58"
          ],
          [
           0.8888888888888888,
           "#b5de2b"
          ],
          [
           1,
           "#fde725"
          ]
         ]
        },
        "height": 300,
        "legend": {
         "tracegroupgap": 0
        },
        "margin": {
         "t": 60
        },
        "template": {
         "data": {
          "bar": [
           {
            "error_x": {
             "color": "#2a3f5f"
            },
            "error_y": {
             "color": "#2a3f5f"
            },
            "marker": {
             "line": {
              "color": "#E5ECF6",
              "width": 0.5
             },
             "pattern": {
              "fillmode": "overlay",
              "size": 10,
              "solidity": 0.2
             }
            },
            "type": "bar"
           }
          ],
          "barpolar": [
           {
            "marker": {
             "line": {
              "color": "#E5ECF6",
              "width": 0.5
             },
             "pattern": {
              "fillmode": "overlay",
              "size": 10,
              "solidity": 0.2
             }
            },
            "type": "barpolar"
           }
          ],
          "carpet": [
           {
            "aaxis": {
             "endlinecolor": "#2a3f5f",
             "gridcolor": "white",
             "linecolor": "white",
             "minorgridcolor": "white",
             "startlinecolor": "#2a3f5f"
            },
            "baxis": {
             "endlinecolor": "#2a3f5f",
             "gridcolor": "white",
             "linecolor": "white",
             "minorgridcolor": "white",
             "startlinecolor": "#2a3f5f"
            },
            "type": "carpet"
           }
          ],
          "choropleth": [
           {
            "colorbar": {
             "outlinewidth": 0,
             "ticks": ""
            },
            "type": "choropleth"
           }
          ],
          "contour": [
           {
            "colorbar": {
             "outlinewidth": 0,
             "ticks": ""
            },
            "colorscale": [
             [
              0,
              "#0d0887"
             ],
             [
              0.1111111111111111,
              "#46039f"
             ],
             [
              0.2222222222222222,
              "#7201a8"
             ],
             [
              0.3333333333333333,
              "#9c179e"
             ],
             [
              0.4444444444444444,
              "#bd3786"
             ],
             [
              0.5555555555555556,
              "#d8576b"
             ],
             [
              0.6666666666666666,
              "#ed7953"
             ],
             [
              0.7777777777777778,
              "#fb9f3a"
             ],
             [
              0.8888888888888888,
              "#fdca26"
             ],
             [
              1,
              "#f0f921"
             ]
            ],
            "type": "contour"
           }
          ],
          "contourcarpet": [
           {
            "colorbar": {
             "outlinewidth": 0,
             "ticks": ""
            },
            "type": "contourcarpet"
           }
          ],
          "heatmap": [
           {
            "colorbar": {
             "outlinewidth": 0,
             "ticks": ""
            },
            "colorscale": [
             [
              0,
              "#0d0887"
             ],
             [
              0.1111111111111111,
              "#46039f"
             ],
             [
              0.2222222222222222,
              "#7201a8"
             ],
             [
              0.3333333333333333,
              "#9c179e"
             ],
             [
              0.4444444444444444,
              "#bd3786"
             ],
             [
              0.5555555555555556,
              "#d8576b"
             ],
             [
              0.6666666666666666,
              "#ed7953"
             ],
             [
              0.7777777777777778,
              "#fb9f3a"
             ],
             [
              0.8888888888888888,
              "#fdca26"
             ],
             [
              1,
              "#f0f921"
             ]
            ],
            "type": "heatmap"
           }
          ],
          "heatmapgl": [
           {
            "colorbar": {
             "outlinewidth": 0,
             "ticks": ""
            },
            "colorscale": [
             [
              0,
              "#0d0887"
             ],
             [
              0.1111111111111111,
              "#46039f"
             ],
             [
              0.2222222222222222,
              "#7201a8"
             ],
             [
              0.3333333333333333,
              "#9c179e"
             ],
             [
              0.4444444444444444,
              "#bd3786"
             ],
             [
              0.5555555555555556,
              "#d8576b"
             ],
             [
              0.6666666666666666,
              "#ed7953"
             ],
             [
              0.7777777777777778,
              "#fb9f3a"
             ],
             [
              0.8888888888888888,
              "#fdca26"
             ],
             [
              1,
              "#f0f921"
             ]
            ],
            "type": "heatmapgl"
           }
          ],
          "histogram": [
           {
            "marker": {
             "pattern": {
              "fillmode": "overlay",
              "size": 10,
              "solidity": 0.2
             }
            },
            "type": "histogram"
           }
          ],
          "histogram2d": [
           {
            "colorbar": {
             "outlinewidth": 0,
             "ticks": ""
            },
            "colorscale": [
             [
              0,
              "#0d0887"
             ],
             [
              0.1111111111111111,
              "#46039f"
             ],
             [
              0.2222222222222222,
              "#7201a8"
             ],
             [
              0.3333333333333333,
              "#9c179e"
             ],
             [
              0.4444444444444444,
              "#bd3786"
             ],
             [
              0.5555555555555556,
              "#d8576b"
             ],
             [
              0.6666666666666666,
              "#ed7953"
             ],
             [
              0.7777777777777778,
              "#fb9f3a"
             ],
             [
              0.8888888888888888,
              "#fdca26"
             ],
             [
              1,
              "#f0f921"
             ]
            ],
            "type": "histogram2d"
           }
          ],
          "histogram2dcontour": [
           {
            "colorbar": {
             "outlinewidth": 0,
             "ticks": ""
            },
            "colorscale": [
             [
              0,
              "#0d0887"
             ],
             [
              0.1111111111111111,
              "#46039f"
             ],
             [
              0.2222222222222222,
              "#7201a8"
             ],
             [
              0.3333333333333333,
              "#9c179e"
             ],
             [
              0.4444444444444444,
              "#bd3786"
             ],
             [
              0.5555555555555556,
              "#d8576b"
             ],
             [
              0.6666666666666666,
              "#ed7953"
             ],
             [
              0.7777777777777778,
              "#fb9f3a"
             ],
             [
              0.8888888888888888,
              "#fdca26"
             ],
             [
              1,
              "#f0f921"
             ]
            ],
            "type": "histogram2dcontour"
           }
          ],
          "mesh3d": [
           {
            "colorbar": {
             "outlinewidth": 0,
             "ticks": ""
            },
            "type": "mesh3d"
           }
          ],
          "parcoords": [
           {
            "line": {
             "colorbar": {
              "outlinewidth": 0,
              "ticks": ""
             }
            },
            "type": "parcoords"
           }
          ],
          "pie": [
           {
            "automargin": true,
            "type": "pie"
           }
          ],
          "scatter": [
           {
            "fillpattern": {
             "fillmode": "overlay",
             "size": 10,
             "solidity": 0.2
            },
            "type": "scatter"
           }
          ],
          "scatter3d": [
           {
            "line": {
             "colorbar": {
              "outlinewidth": 0,
              "ticks": ""
             }
            },
            "marker": {
             "colorbar": {
              "outlinewidth": 0,
              "ticks": ""
             }
            },
            "type": "scatter3d"
           }
          ],
          "scattercarpet": [
           {
            "marker": {
             "colorbar": {
              "outlinewidth": 0,
              "ticks": ""
             }
            },
            "type": "scattercarpet"
           }
          ],
          "scattergeo": [
           {
            "marker": {
             "colorbar": {
              "outlinewidth": 0,
              "ticks": ""
             }
            },
            "type": "scattergeo"
           }
          ],
          "scattergl": [
           {
            "marker": {
             "colorbar": {
              "outlinewidth": 0,
              "ticks": ""
             }
            },
            "type": "scattergl"
           }
          ],
          "scattermapbox": [
           {
            "marker": {
             "colorbar": {
              "outlinewidth": 0,
              "ticks": ""
             }
            },
            "type": "scattermapbox"
           }
          ],
          "scatterpolar": [
           {
            "marker": {
             "colorbar": {
              "outlinewidth": 0,
              "ticks": ""
             }
            },
            "type": "scatterpolar"
           }
          ],
          "scatterpolargl": [
           {
            "marker": {
             "colorbar": {
              "outlinewidth": 0,
              "ticks": ""
             }
            },
            "type": "scatterpolargl"
           }
          ],
          "scatterternary": [
           {
            "marker": {
             "colorbar": {
              "outlinewidth": 0,
              "ticks": ""
             }
            },
            "type": "scatterternary"
           }
          ],
          "surface": [
           {
            "colorbar": {
             "outlinewidth": 0,
             "ticks": ""
            },
            "colorscale": [
             [
              0,
              "#0d0887"
             ],
             [
              0.1111111111111111,
              "#46039f"
             ],
             [
              0.2222222222222222,
              "#7201a8"
             ],
             [
              0.3333333333333333,
              "#9c179e"
             ],
             [
              0.4444444444444444,
              "#bd3786"
             ],
             [
              0.5555555555555556,
              "#d8576b"
             ],
             [
              0.6666666666666666,
              "#ed7953"
             ],
             [
              0.7777777777777778,
              "#fb9f3a"
             ],
             [
              0.8888888888888888,
              "#fdca26"
             ],
             [
              1,
              "#f0f921"
             ]
            ],
            "type": "surface"
           }
          ],
          "table": [
           {
            "cells": {
             "fill": {
              "color": "#EBF0F8"
             },
             "line": {
              "color": "white"
             }
            },
            "header": {
             "fill": {
              "color": "#C8D4E3"
             },
             "line": {
              "color": "white"
             }
            },
            "type": "table"
           }
          ]
         },
         "layout": {
          "annotationdefaults": {
           "arrowcolor": "#2a3f5f",
           "arrowhead": 0,
           "arrowwidth": 1
          },
          "autotypenumbers": "strict",
          "coloraxis": {
           "colorbar": {
            "outlinewidth": 0,
            "ticks": ""
           }
          },
          "colorscale": {
           "diverging": [
            [
             0,
             "#8e0152"
            ],
            [
             0.1,
             "#c51b7d"
            ],
            [
             0.2,
             "#de77ae"
            ],
            [
             0.3,
             "#f1b6da"
            ],
            [
             0.4,
             "#fde0ef"
            ],
            [
             0.5,
             "#f7f7f7"
            ],
            [
             0.6,
             "#e6f5d0"
            ],
            [
             0.7,
             "#b8e186"
            ],
            [
             0.8,
             "#7fbc41"
            ],
            [
             0.9,
             "#4d9221"
            ],
            [
             1,
             "#276419"
            ]
           ],
           "sequential": [
            [
             0,
             "#0d0887"
            ],
            [
             0.1111111111111111,
             "#46039f"
            ],
            [
             0.2222222222222222,
             "#7201a8"
            ],
            [
             0.3333333333333333,
             "#9c179e"
            ],
            [
             0.4444444444444444,
             "#bd3786"
            ],
            [
             0.5555555555555556,
             "#d8576b"
            ],
            [
             0.6666666666666666,
             "#ed7953"
            ],
            [
             0.7777777777777778,
             "#fb9f3a"
            ],
            [
             0.8888888888888888,
             "#fdca26"
            ],
            [
             1,
             "#f0f921"
            ]
           ],
           "sequentialminus": [
            [
             0,
             "#0d0887"
            ],
            [
             0.1111111111111111,
             "#46039f"
            ],
            [
             0.2222222222222222,
             "#7201a8"
            ],
            [
             0.3333333333333333,
             "#9c179e"
            ],
            [
             0.4444444444444444,
             "#bd3786"
            ],
            [
             0.5555555555555556,
             "#d8576b"
            ],
            [
             0.6666666666666666,
             "#ed7953"
            ],
            [
             0.7777777777777778,
             "#fb9f3a"
            ],
            [
             0.8888888888888888,
             "#fdca26"
            ],
            [
             1,
             "#f0f921"
            ]
           ]
          },
          "colorway": [
           "#636efa",
           "#EF553B",
           "#00cc96",
           "#ab63fa",
           "#FFA15A",
           "#19d3f3",
           "#FF6692",
           "#B6E880",
           "#FF97FF",
           "#FECB52"
          ],
          "font": {
           "color": "#2a3f5f"
          },
          "geo": {
           "bgcolor": "white",
           "lakecolor": "white",
           "landcolor": "#E5ECF6",
           "showlakes": true,
           "showland": true,
           "subunitcolor": "white"
          },
          "hoverlabel": {
           "align": "left"
          },
          "hovermode": "closest",
          "mapbox": {
           "style": "light"
          },
          "paper_bgcolor": "white",
          "plot_bgcolor": "#E5ECF6",
          "polar": {
           "angularaxis": {
            "gridcolor": "white",
            "linecolor": "white",
            "ticks": ""
           },
           "bgcolor": "#E5ECF6",
           "radialaxis": {
            "gridcolor": "white",
            "linecolor": "white",
            "ticks": ""
           }
          },
          "scene": {
           "xaxis": {
            "backgroundcolor": "#E5ECF6",
            "gridcolor": "white",
            "gridwidth": 2,
            "linecolor": "white",
            "showbackground": true,
            "ticks": "",
            "zerolinecolor": "white"
           },
           "yaxis": {
            "backgroundcolor": "#E5ECF6",
            "gridcolor": "white",
            "gridwidth": 2,
            "linecolor": "white",
            "showbackground": true,
            "ticks": "",
            "zerolinecolor": "white"
           },
           "zaxis": {
            "backgroundcolor": "#E5ECF6",
            "gridcolor": "white",
            "gridwidth": 2,
            "linecolor": "white",
            "showbackground": true,
            "ticks": "",
            "zerolinecolor": "white"
           }
          },
          "shapedefaults": {
           "line": {
            "color": "#2a3f5f"
           }
          },
          "ternary": {
           "aaxis": {
            "gridcolor": "white",
            "linecolor": "white",
            "ticks": ""
           },
           "baxis": {
            "gridcolor": "white",
            "linecolor": "white",
            "ticks": ""
           },
           "bgcolor": "#E5ECF6",
           "caxis": {
            "gridcolor": "white",
            "linecolor": "white",
            "ticks": ""
           }
          },
          "title": {
           "x": 0.05
          },
          "xaxis": {
           "automargin": true,
           "gridcolor": "white",
           "linecolor": "white",
           "ticks": "",
           "title": {
            "standoff": 15
           },
           "zerolinecolor": "white",
           "zerolinewidth": 2
          },
          "yaxis": {
           "automargin": true,
           "gridcolor": "white",
           "linecolor": "white",
           "ticks": "",
           "title": {
            "standoff": 15
           },
           "zerolinecolor": "white",
           "zerolinewidth": 2
          }
         }
        },
        "xaxis": {
         "anchor": "y",
         "domain": [
          0,
          1
         ],
         "title": {
          "text": "Taxa de crescimento efetivo"
         }
        },
        "yaxis": {
         "anchor": "x",
         "domain": [
          0,
          1
         ],
         "showgrid": false,
         "showticklabels": false,
         "title": {
          "text": "y"
         }
        }
       }
      }
     },
     "metadata": {},
     "output_type": "display_data"
    },
    {
     "name": "stdout",
     "output_type": "stream",
     "text": [
      "cluster_taxa_crescimento\n",
      "0    56\n",
      "1    97\n",
      "2    77\n",
      "3    58\n",
      "4    20\n",
      "Name: count, dtype: int64\n"
     ]
    },
    {
     "data": {
      "text/html": [
       "<div>\n",
       "<style scoped>\n",
       "    .dataframe tbody tr th:only-of-type {\n",
       "        vertical-align: middle;\n",
       "    }\n",
       "\n",
       "    .dataframe tbody tr th {\n",
       "        vertical-align: top;\n",
       "    }\n",
       "\n",
       "    .dataframe thead th {\n",
       "        text-align: right;\n",
       "    }\n",
       "</style>\n",
       "<table border=\"1\" class=\"dataframe\">\n",
       "  <thead>\n",
       "    <tr style=\"text-align: right;\">\n",
       "      <th></th>\n",
       "      <th>local</th>\n",
       "      <th>codigo</th>\n",
       "      <th>Taxa de crescimento efetivo</th>\n",
       "      <th>cluster_taxa_crescimento</th>\n",
       "    </tr>\n",
       "  </thead>\n",
       "  <tbody>\n",
       "    <tr>\n",
       "      <th>4</th>\n",
       "      <td>Arcos de Valdevez</td>\n",
       "      <td>1111601</td>\n",
       "      <td>0.70</td>\n",
       "      <td>1</td>\n",
       "    </tr>\n",
       "    <tr>\n",
       "      <th>5</th>\n",
       "      <td>Caminha</td>\n",
       "      <td>1111602</td>\n",
       "      <td>1.45</td>\n",
       "      <td>3</td>\n",
       "    </tr>\n",
       "    <tr>\n",
       "      <th>6</th>\n",
       "      <td>Melgaço</td>\n",
       "      <td>1111603</td>\n",
       "      <td>-0.21</td>\n",
       "      <td>0</td>\n",
       "    </tr>\n",
       "    <tr>\n",
       "      <th>7</th>\n",
       "      <td>Monção</td>\n",
       "      <td>1111604</td>\n",
       "      <td>0.65</td>\n",
       "      <td>1</td>\n",
       "    </tr>\n",
       "    <tr>\n",
       "      <th>8</th>\n",
       "      <td>Paredes de Coura</td>\n",
       "      <td>1111605</td>\n",
       "      <td>0.38</td>\n",
       "      <td>1</td>\n",
       "    </tr>\n",
       "    <tr>\n",
       "      <th>...</th>\n",
       "      <td>...</td>\n",
       "      <td>...</td>\n",
       "      <td>...</td>\n",
       "      <td>...</td>\n",
       "    </tr>\n",
       "    <tr>\n",
       "      <th>339</th>\n",
       "      <td>Porto Santo</td>\n",
       "      <td>3003201</td>\n",
       "      <td>3.70</td>\n",
       "      <td>4</td>\n",
       "    </tr>\n",
       "    <tr>\n",
       "      <th>340</th>\n",
       "      <td>Ribeira Brava</td>\n",
       "      <td>3003107</td>\n",
       "      <td>1.67</td>\n",
       "      <td>3</td>\n",
       "    </tr>\n",
       "    <tr>\n",
       "      <th>341</th>\n",
       "      <td>Santa Cruz</td>\n",
       "      <td>3003108</td>\n",
       "      <td>1.47</td>\n",
       "      <td>3</td>\n",
       "    </tr>\n",
       "    <tr>\n",
       "      <th>342</th>\n",
       "      <td>Santana</td>\n",
       "      <td>3003109</td>\n",
       "      <td>0.48</td>\n",
       "      <td>1</td>\n",
       "    </tr>\n",
       "    <tr>\n",
       "      <th>343</th>\n",
       "      <td>São Vicente</td>\n",
       "      <td>3003110</td>\n",
       "      <td>2.13</td>\n",
       "      <td>3</td>\n",
       "    </tr>\n",
       "  </tbody>\n",
       "</table>\n",
       "<p>308 rows × 4 columns</p>\n",
       "</div>"
      ],
      "text/plain": [
       "                 local   codigo  Taxa de crescimento efetivo  \\\n",
       "4    Arcos de Valdevez  1111601                         0.70   \n",
       "5              Caminha  1111602                         1.45   \n",
       "6              Melgaço  1111603                        -0.21   \n",
       "7               Monção  1111604                         0.65   \n",
       "8     Paredes de Coura  1111605                         0.38   \n",
       "..                 ...      ...                          ...   \n",
       "339        Porto Santo  3003201                         3.70   \n",
       "340      Ribeira Brava  3003107                         1.67   \n",
       "341         Santa Cruz  3003108                         1.47   \n",
       "342            Santana  3003109                         0.48   \n",
       "343        São Vicente  3003110                         2.13   \n",
       "\n",
       "     cluster_taxa_crescimento  \n",
       "4                           1  \n",
       "5                           3  \n",
       "6                           0  \n",
       "7                           1  \n",
       "8                           1  \n",
       "..                        ...  \n",
       "339                         4  \n",
       "340                         3  \n",
       "341                         3  \n",
       "342                         1  \n",
       "343                         3  \n",
       "\n",
       "[308 rows x 4 columns]"
      ]
     },
     "execution_count": 237,
     "metadata": {},
     "output_type": "execute_result"
    }
   ],
   "source": [
    "df_taxa_crescimento = processar_ficheiro('./Taxa de crescimento efetivo.xls', 0)\n",
    "df_taxa_crescimento = carregar_municipios(df_taxa_crescimento)\n",
    "elbow_rule(df_taxa_crescimento, max_k=10)\n",
    "\n",
    "print(df_taxa_crescimento)\n",
    "aplicar_kmeans(df_taxa_crescimento,5,nome_cluster='cluster_taxa_crescimento')\n",
    "\n"
   ]
  },
  {
   "cell_type": "markdown",
   "id": "5d124513",
   "metadata": {},
   "source": [
    "### Análise Global"
   ]
  },
  {
   "cell_type": "code",
   "execution_count": null,
   "id": "dd59c5dc",
   "metadata": {},
   "outputs": [],
   "source": [
    "from functools import reduce\n",
    "dataframes = [\n",
    "    df_taxa_crescimento[['local', 'cluster_taxa_crescimento']],\n",
    "    df_densidade_pop[['local', 'cluster_densidade']],\n",
    "    df_idade[['local', 'cluster_idade']],\n",
    "    df_saldo_natural[['local', 'cluster_saldo_natural']],\n",
    "    df_saldo_migratorio[['local', 'cluster_saldo_migratorio']],\n",
    "    df_indice_renovacao[['local', 'cluster_indice_renovacao']],\n",
    "]\n",
    "\n",
    "df_cluster_populacao = reduce(\n",
    "    lambda left, right: pd.merge(left, right, on='local', how='inner'),\n",
    "    dataframes\n",
    ")\n"
   ]
  },
  {
   "cell_type": "code",
   "execution_count": null,
   "id": "9fd81e41",
   "metadata": {},
   "outputs": [],
   "source": [
    "def kmeans_com_cotovelo(df, colunas_numericas, nome_cluster='cluster_final', max_k=10, k_escolhido=3):\n",
    "    print(df.shape)\n",
    "    df = df.copy()\n",
    "    X = df[colunas_numericas].values\n",
    "    X_scaled = StandardScaler().fit_transform(X)\n",
    "\n",
    "    # Gráfico do cotovelo\n",
    "    inercia = []\n",
    "    for k in range(1, max_k + 1):\n",
    "        kmeans = KMeans(n_clusters=k, random_state=42, n_init='auto')\n",
    "        kmeans.fit(X_scaled)\n",
    "        inercia.append(kmeans.inertia_)\n",
    "\n",
    "    plt.figure(figsize=(8, 4))\n",
    "    plt.plot(range(1, max_k + 1), inercia, marker='o')\n",
    "    plt.title('Método do Cotovelo')\n",
    "    plt.xlabel('Número de clusters (k)')\n",
    "    plt.ylabel('Inércia (Soma das Distâncias ao Centro)')\n",
    "    plt.grid(True)\n",
    "    plt.show()\n",
    "\n",
    "    return df\n"
   ]
  },
  {
   "cell_type": "code",
   "execution_count": null,
   "id": "1838a4b4",
   "metadata": {},
   "outputs": [
    {
     "name": "stdout",
     "output_type": "stream",
     "text": [
      "(312, 7)\n"
     ]
    },
    {
     "data": {
      "image/png": "[encoded data removed]",
      "text/plain": [
       "<Figure size 800x400 with 1 Axes>"
      ]
     },
     "metadata": {},
     "output_type": "display_data"
    }
   ],
   "source": [
    "colunas_cluster = [\n",
    "    'cluster_taxa_crescimento',\n",
    "    'cluster_densidade',\n",
    "    'cluster_idade',\n",
    "    'cluster_saldo_natural',\n",
    "    'cluster_saldo_migratorio',\n",
    "    'cluster_indice_renovacao'\n",
    "]\n",
    "\n",
    "df_resultado = kmeans_com_cotovelo(df_cluster_populacao, colunas_numericas=colunas_cluster, k_escolhido=3)\n"
   ]
  },
  {
   "cell_type": "code",
   "execution_count": null,
   "id": "01c97b97",
   "metadata": {},
   "outputs": [
    {
     "name": "stdout",
     "output_type": "stream",
     "text": [
      "cluster_final\n",
      "0    81\n",
      "1    23\n",
      "2    62\n",
      "3    22\n",
      "4    72\n",
      "5    52\n",
      "Name: count, dtype: int64\n"
     ]
    }
   ],
   "source": [
    "X = df_cluster_populacao[colunas_cluster].values\n",
    "\n",
    "scaler = StandardScaler()\n",
    "X_scaled = scaler.fit_transform(X)\n",
    "\n",
    "kmeans = KMeans(n_clusters=6, random_state=42, n_init='auto')\n",
    "df_cluster_populacao['cluster_final'] = kmeans.fit_predict(X_scaled)\n",
    "\n",
    "\n",
    "print(df_cluster_populacao['cluster_final'].value_counts().sort_index())\n"
   ]
  }
 ],
 "metadata": {
  "kernelspec": {
   "display_name": "ade_venv",
   "language": "python",
   "name": "python3"
  },
  "language_info": {
   "codemirror_mode": {
    "name": "ipython",
    "version": 3
   },
   "file_extension": ".py",
   "mimetype": "text/x-python",
   "name": "python",
   "nbconvert_exporter": "python",
   "pygments_lexer": "ipython3",
   "version": "3.13.0"
  }
 },
 "nbformat": 4,
 "nbformat_minor": 5
}
