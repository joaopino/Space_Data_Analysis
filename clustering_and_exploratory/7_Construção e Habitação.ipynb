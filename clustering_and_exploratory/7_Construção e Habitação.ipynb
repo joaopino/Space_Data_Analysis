{
 "cells": [
  {
   "cell_type": "markdown",
   "id": "1839df8f-d39d-43af-a20c-bf705f3a02f9",
   "metadata": {},
   "source": [
    "# Análise dos fatores de Construção e Habitação"
   ]
  },
  {
   "cell_type": "code",
   "execution_count": null,
   "id": "ddbc4358-303d-4dc7-835e-9d1a20a6b32d",
   "metadata": {},
   "outputs": [],
   "source": [
    "import pandas as pd\n",
    "import os\n",
    "import pandas as pd\n",
    "from sklearn.preprocessing import StandardScaler\n",
    "from sklearn.cluster import KMeans\n",
    "import plotly.express as px\n",
    "import numpy as np\n",
    "import matplotlib.pyplot as plt\n",
    "from auxiliary.auxiliary_funcs import processar_ficheiro,carregar_municipios,aplicar_kmeans,elbow_rule, save_clustered_df_to_csv,filter_for_only_municipalities\n",
    "\n",
    "data_path ='../data/dados_municipio/Construção e Habitação (9)/'\n"
   ]
  },
  {
   "cell_type": "markdown",
   "id": "3f0c81a5-3e58-4cc3-a6cc-31136d14942e",
   "metadata": {},
   "source": [
    "**Valor mediano das rendas**"
   ]
  },
  {
   "cell_type": "code",
   "execution_count": 57,
   "id": "7faeaf26-98ef-4b4c-99ea-91a27d913a47",
   "metadata": {},
   "outputs": [
    {
     "data": {
      "text/html": [
       "<div>\n",
       "<style scoped>\n",
       "    .dataframe tbody tr th:only-of-type {\n",
       "        vertical-align: middle;\n",
       "    }\n",
       "\n",
       "    .dataframe tbody tr th {\n",
       "        vertical-align: top;\n",
       "    }\n",
       "\n",
       "    .dataframe thead th {\n",
       "        text-align: right;\n",
       "    }\n",
       "</style>\n",
       "<table border=\"1\" class=\"dataframe\">\n",
       "  <thead>\n",
       "    <tr style=\"text-align: right;\">\n",
       "      <th></th>\n",
       "      <th>local</th>\n",
       "      <th>codigo</th>\n",
       "      <th>Valor mediano das rendas por m2</th>\n",
       "    </tr>\n",
       "  </thead>\n",
       "  <tbody>\n",
       "    <tr>\n",
       "      <th>4</th>\n",
       "      <td>Arcos de Valdevez</td>\n",
       "      <td>1111601</td>\n",
       "      <td>4.64</td>\n",
       "    </tr>\n",
       "    <tr>\n",
       "      <th>5</th>\n",
       "      <td>Caminha</td>\n",
       "      <td>1111602</td>\n",
       "      <td>5.83</td>\n",
       "    </tr>\n",
       "    <tr>\n",
       "      <th>6</th>\n",
       "      <td>Melgaço</td>\n",
       "      <td>1111603</td>\n",
       "      <td>3.29</td>\n",
       "    </tr>\n",
       "    <tr>\n",
       "      <th>7</th>\n",
       "      <td>Monção</td>\n",
       "      <td>1111604</td>\n",
       "      <td>6.58</td>\n",
       "    </tr>\n",
       "    <tr>\n",
       "      <th>8</th>\n",
       "      <td>Paredes de Coura</td>\n",
       "      <td>1111605</td>\n",
       "      <td>3.84</td>\n",
       "    </tr>\n",
       "    <tr>\n",
       "      <th>...</th>\n",
       "      <td>...</td>\n",
       "      <td>...</td>\n",
       "      <td>...</td>\n",
       "    </tr>\n",
       "    <tr>\n",
       "      <th>627</th>\n",
       "      <td>Calheta (R.A.M.)</td>\n",
       "      <td>3003101</td>\n",
       "      <td>5.59</td>\n",
       "    </tr>\n",
       "    <tr>\n",
       "      <th>628</th>\n",
       "      <td>Câmara de Lobos</td>\n",
       "      <td>3003102</td>\n",
       "      <td>6.78</td>\n",
       "    </tr>\n",
       "    <tr>\n",
       "      <th>629</th>\n",
       "      <td>Funchal</td>\n",
       "      <td>3003103</td>\n",
       "      <td>11.51</td>\n",
       "    </tr>\n",
       "    <tr>\n",
       "      <th>630</th>\n",
       "      <td>Machico</td>\n",
       "      <td>3003104</td>\n",
       "      <td>5.98</td>\n",
       "    </tr>\n",
       "    <tr>\n",
       "      <th>634</th>\n",
       "      <td>Santa Cruz</td>\n",
       "      <td>3003108</td>\n",
       "      <td>9.02</td>\n",
       "    </tr>\n",
       "  </tbody>\n",
       "</table>\n",
       "<p>212 rows × 3 columns</p>\n",
       "</div>"
      ],
      "text/plain": [
       "                 local   codigo  Valor mediano das rendas por m2\n",
       "4    Arcos de Valdevez  1111601                             4.64\n",
       "5              Caminha  1111602                             5.83\n",
       "6              Melgaço  1111603                             3.29\n",
       "7               Monção  1111604                             6.58\n",
       "8     Paredes de Coura  1111605                             3.84\n",
       "..                 ...      ...                              ...\n",
       "627   Calheta (R.A.M.)  3003101                             5.59\n",
       "628    Câmara de Lobos  3003102                             6.78\n",
       "629            Funchal  3003103                            11.51\n",
       "630            Machico  3003104                             5.98\n",
       "634         Santa Cruz  3003108                             9.02\n",
       "\n",
       "[212 rows x 3 columns]"
      ]
     },
     "execution_count": 57,
     "metadata": {},
     "output_type": "execute_result"
    }
   ],
   "source": [
    "df_valor_mediano_rendas = processar_ficheiro(data_path+'Valor mediano das rendas por m2.xls',0)\n",
    "df_valor_mediano_rendas = carregar_municipios(df_valor_mediano_rendas)\n",
    "df_valor_mediano_rendas = df_valor_mediano_rendas[['local','codigo','Valor mediano das rendas por m2']]\n",
    "df_valor_mediano_rendas = df_valor_mediano_rendas[df_valor_mediano_rendas['Valor mediano das rendas por m2'] != 0.0] # remove 0 values\n",
    "df_valor_mediano_rendas = df_valor_mediano_rendas[df_valor_mediano_rendas['codigo'].str.len() <= 7]\n",
    "\n",
    "\n",
    "df_valor_mediano_rendas\n"
   ]
  },
  {
   "cell_type": "code",
   "execution_count": 58,
   "id": "8fe73704-0c24-4f92-af30-f6754c431e7b",
   "metadata": {
    "scrolled": true
   },
   "outputs": [
    {
     "data": {
      "application/vnd.plotly.v1+json": {
       "config": {
        "plotlyServerURL": "https://plot.ly"
       },
       "data": [
        {
         "customdata": [
          [
           "Arcos de Valdevez",
           "1111601",
           4.64
          ],
          [
           "Caminha",
           "1111602",
           5.83
          ],
          [
           "Melgaço",
           "1111603",
           3.29
          ],
          [
           "Monção",
           "1111604",
           6.58
          ],
          [
           "Paredes de Coura",
           "1111605",
           3.84
          ],
          [
           "Ponte da Barca",
           "1111606",
           3.64
          ],
          [
           "Ponte de Lima",
           "1111607",
           5.32
          ],
          [
           "Valença",
           "1111608",
           4.79
          ],
          [
           "Viana do Castelo",
           "1111609",
           6.99
          ],
          [
           "Vila Nova de Cerveira",
           "1111610",
           4.55
          ],
          [
           "Amares",
           "1120301",
           4.47
          ],
          [
           "Barcelos",
           "1120302",
           5.42
          ],
          [
           "Braga",
           "1120303",
           7.69
          ],
          [
           "Esposende",
           "1120306",
           7.37
          ],
          [
           "Vila Verde",
           "1120313",
           5
          ],
          [
           "Cabeceiras de Basto",
           "1190304",
           4.23
          ],
          [
           "Fafe",
           "1190307",
           4.12
          ],
          [
           "Guimarães",
           "1190308",
           5.75
          ],
          [
           "Póvoa de Lanhoso",
           "1190309",
           4.68
          ],
          [
           "Vila Nova de Famalicão",
           "1190312",
           5.71
          ],
          [
           "Vizela",
           "1190314",
           4.83
          ],
          [
           "Arouca",
           "11A0104",
           5.03
          ],
          [
           "Espinho",
           "11A0107",
           8.04
          ],
          [
           "Gondomar",
           "11A1304",
           7.56
          ],
          [
           "Maia",
           "11A1306",
           8.57
          ],
          [
           "Matosinhos",
           "11A1308",
           11.11
          ],
          [
           "Oliveira de Azeméis",
           "11A0113",
           4.88
          ],
          [
           "Paredes",
           "11A1310",
           5.19
          ],
          [
           "Porto",
           "11A1312",
           12.58
          ],
          [
           "Póvoa de Varzim",
           "11A1313",
           8.15
          ],
          [
           "Santa Maria da Feira",
           "11A0109",
           5.86
          ],
          [
           "Santo Tirso",
           "11A1314",
           5.15
          ],
          [
           "São João da Madeira",
           "11A0116",
           6.38
          ],
          [
           "Trofa",
           "11A1318",
           6.8
          ],
          [
           "Vale de Cambra",
           "11A0119",
           4.65
          ],
          [
           "Valongo",
           "11A1315",
           7.75
          ],
          [
           "Vila do Conde",
           "11A1316",
           7.19
          ],
          [
           "Vila Nova de Gaia",
           "11A1317",
           9.39
          ],
          [
           "Chaves",
           "11B1703",
           4.84
          ],
          [
           "Valpaços",
           "11B1712",
           3.08
          ],
          [
           "Vila Pouca de Aguiar",
           "11B1713",
           3.59
          ],
          [
           "Amarante",
           "11C1301",
           4.17
          ],
          [
           "Baião",
           "11C1302",
           3.43
          ],
          [
           "Castelo de Paiva",
           "11C0106",
           3.51
          ],
          [
           "Celorico de Basto",
           "11C0305",
           3.58
          ],
          [
           "Cinfães",
           "11C1804",
           3.72
          ],
          [
           "Felgueiras",
           "11C1303",
           3.45
          ],
          [
           "Lousada",
           "11C1305",
           4.24
          ],
          [
           "Marco de Canaveses",
           "11C1307",
           4.07
          ],
          [
           "Paços de Ferreira",
           "11C1309",
           4.59
          ],
          [
           "Penafiel",
           "11C1311",
           4.74
          ],
          [
           "Lamego",
           "11D1805",
           3.77
          ],
          [
           "Moimenta da Beira",
           "11D1807",
           3.03
          ],
          [
           "Peso da Régua",
           "11D1708",
           4.38
          ],
          [
           "Vila Nova de Foz Côa",
           "11D0914",
           2.57
          ],
          [
           "Vila Real",
           "11D1714",
           4.96
          ],
          [
           "Bragança",
           "11E0402",
           3.23
          ],
          [
           "Macedo de Cavaleiros",
           "11E0405",
           3.07
          ],
          [
           "Miranda do Douro",
           "11E0406",
           2.97
          ],
          [
           "Mirandela",
           "11E0407",
           2.78
          ],
          [
           "Vila Flor",
           "11E0410",
           2.5
          ],
          [
           "Águeda",
           "1910101",
           5.21
          ],
          [
           "Albergaria-a-Velha",
           "1910102",
           5.55
          ],
          [
           "Anadia",
           "1910103",
           5.22
          ],
          [
           "Aveiro",
           "1910105",
           8.18
          ],
          [
           "Estarreja",
           "1910108",
           5.66
          ],
          [
           "Ílhavo",
           "1910110",
           7.07
          ],
          [
           "Murtosa",
           "1910112",
           5.17
          ],
          [
           "Oliveira do Bairro",
           "1910114",
           5.33
          ],
          [
           "Ovar",
           "1910115",
           6.19
          ],
          [
           "Sever do Vouga",
           "1910117",
           3.85
          ],
          [
           "Vagos",
           "1910118",
           5.97
          ],
          [
           "Arganil",
           "1920601",
           4.66
          ],
          [
           "Cantanhede",
           "1920602",
           4.76
          ],
          [
           "Coimbra",
           "1920603",
           7.76
          ],
          [
           "Condeixa-a-Nova",
           "1920604",
           5.51
          ],
          [
           "Figueira da Foz",
           "1920605",
           7.14
          ],
          [
           "Lousã",
           "1920607",
           4.78
          ],
          [
           "Mealhada",
           "1920111",
           4.97
          ],
          [
           "Mira",
           "1920608",
           4.58
          ],
          [
           "Miranda do Corvo",
           "1920609",
           5.22
          ],
          [
           "Montemor-o-Velho",
           "1920610",
           4.98
          ],
          [
           "Mortágua",
           "1921808",
           3.46
          ],
          [
           "Oliveira do Hospital",
           "1920611",
           3.81
          ],
          [
           "Penacova",
           "1920613",
           3.72
          ],
          [
           "Soure",
           "1920615",
           4.41
          ],
          [
           "Tábua",
           "1920616",
           3.85
          ],
          [
           "Vila Nova de Poiares",
           "1920617",
           3.77
          ],
          [
           "Ansião",
           "1931003",
           3.65
          ],
          [
           "Batalha",
           "1931004",
           6.05
          ],
          [
           "Leiria",
           "1931009",
           6.42
          ],
          [
           "Marinha Grande",
           "1931010",
           5.68
          ],
          [
           "Pombal",
           "1931015",
           4.76
          ],
          [
           "Porto de Mós",
           "1931016",
           4.22
          ],
          [
           "Carregal do Sal",
           "1941802",
           3.79
          ],
          [
           "Castro Daire",
           "1941803",
           3.4
          ],
          [
           "Mangualde",
           "1941806",
           4.29
          ],
          [
           "Nelas",
           "1941809",
           3.91
          ],
          [
           "Oliveira de Frades",
           "1941810",
           4.2
          ],
          [
           "Santa Comba Dão",
           "1941814",
           4.01
          ],
          [
           "São Pedro do Sul",
           "1941816",
           5.27
          ],
          [
           "Sátão",
           "1941817",
           2.79
          ],
          [
           "Tondela",
           "1941821",
           5
          ],
          [
           "Viseu",
           "1941823",
           5.72
          ],
          [
           "Vouzela",
           "1941824",
           3.44
          ],
          [
           "Castelo Branco",
           "1950502",
           4.54
          ],
          [
           "Proença-a-Nova",
           "1950508",
           4.26
          ],
          [
           "Sertã",
           "1950509",
           4.17
          ],
          [
           "Belmonte",
           "1960501",
           3.22
          ],
          [
           "Covilhã",
           "1960503",
           5
          ],
          [
           "Fundão",
           "1960504",
           4.5
          ],
          [
           "Gouveia",
           "1960906",
           2.99
          ],
          [
           "Guarda",
           "1960907",
           4.17
          ],
          [
           "Sabugal",
           "1960911",
           3.52
          ],
          [
           "Seia",
           "1960912",
           3.85
          ],
          [
           "Alcobaça",
           "1D11001",
           6.2
          ],
          [
           "Alenquer",
           "1D11101",
           7.82
          ],
          [
           "Arruda dos Vinhos",
           "1D11102",
           6.75
          ],
          [
           "Bombarral",
           "1D11005",
           5.8
          ],
          [
           "Cadaval",
           "1D11104",
           4.9
          ],
          [
           "Caldas da Rainha",
           "1D11006",
           7.04
          ],
          [
           "Lourinhã",
           "1D11108",
           6.21
          ],
          [
           "Nazaré",
           "1D11011",
           7.86
          ],
          [
           "Óbidos",
           "1D11012",
           6.61
          ],
          [
           "Peniche",
           "1D11014",
           6.64
          ],
          [
           "Sobral de Monte Agraço",
           "1D11112",
           5.29
          ],
          [
           "Torres Vedras",
           "1D11113",
           8.09
          ],
          [
           "Abrantes",
           "1D21401",
           5.26
          ],
          [
           "Alcanena",
           "1D21402",
           4.6
          ],
          [
           "Entroncamento",
           "1D21410",
           6.79
          ],
          [
           "Ferreira do Zêzere",
           "1D21411",
           4.37
          ],
          [
           "Mação",
           "1D21413",
           3.33
          ],
          [
           "Ourém",
           "1D21421",
           5.7
          ],
          [
           "Tomar",
           "1D21418",
           6
          ],
          [
           "Torres Novas",
           "1D21419",
           6
          ],
          [
           "Almeirim",
           "1D31403",
           5.86
          ],
          [
           "Azambuja",
           "1D31103",
           6.24
          ],
          [
           "Benavente",
           "1D31405",
           7.1
          ],
          [
           "Cartaxo",
           "1D31406",
           5.16
          ],
          [
           "Chamusca",
           "1D31407",
           3.74
          ],
          [
           "Coruche",
           "1D31409",
           5.57
          ],
          [
           "Golegã",
           "1D31412",
           4.74
          ],
          [
           "Rio Maior",
           "1D31414",
           4.53
          ],
          [
           "Salvaterra de Magos",
           "1D31415",
           6.13
          ],
          [
           "Santarém",
           "1D31416",
           6.67
          ],
          [
           "Amadora",
           "1A01115",
           11.8
          ],
          [
           "Cascais",
           "1A01105",
           15.31
          ],
          [
           "Lisboa",
           "1A01106",
           15.93
          ],
          [
           "Loures",
           "1A01107",
           10.56
          ],
          [
           "Mafra",
           "1A01109",
           9.49
          ],
          [
           "Odivelas",
           "1A01116",
           11.41
          ],
          [
           "Oeiras",
           "1A01110",
           13.8
          ],
          [
           "Sintra",
           "1A01111",
           10.2
          ],
          [
           "Vila Franca de Xira",
           "1A01114",
           9.76
          ],
          [
           "Alcochete",
           "1B01502",
           9.24
          ],
          [
           "Almada",
           "1B01503",
           11.76
          ],
          [
           "Barreiro",
           "1B01504",
           10.04
          ],
          [
           "Moita",
           "1B01506",
           9.1
          ],
          [
           "Montijo",
           "1B01507",
           9.12
          ],
          [
           "Palmela",
           "1B01508",
           8.3
          ],
          [
           "Seixal",
           "1B01510",
           9.94
          ],
          [
           "Sesimbra",
           "1B01511",
           9.07
          ],
          [
           "Setúbal",
           "1B01512",
           9.65
          ],
          [
           "Alcácer do Sal",
           "1C11501",
           7.26
          ],
          [
           "Grândola",
           "1C11505",
           9.11
          ],
          [
           "Odemira",
           "1C10211",
           6.17
          ],
          [
           "Santiago do Cacém",
           "1C11509",
           8.59
          ],
          [
           "Sines",
           "1C11513",
           11.45
          ],
          [
           "Aljustrel",
           "1C20201",
           5.56
          ],
          [
           "Almodôvar",
           "1C20202",
           4.88
          ],
          [
           "Beja",
           "1C20205",
           6.15
          ],
          [
           "Ferreira do Alentejo",
           "1C20208",
           4.29
          ],
          [
           "Moura",
           "1C20210",
           4
          ],
          [
           "Campo Maior",
           "1C31204",
           2.97
          ],
          [
           "Elvas",
           "1C31207",
           4.78
          ],
          [
           "Ponte de Sor",
           "1C31213",
           4.68
          ],
          [
           "Portalegre",
           "1C31214",
           3.78
          ],
          [
           "Arraiolos",
           "1C40702",
           4.2
          ],
          [
           "Borba",
           "1C40703",
           3.11
          ],
          [
           "Estremoz",
           "1C40704",
           4.25
          ],
          [
           "Évora",
           "1C40705",
           7.31
          ],
          [
           "Montemor-o-Novo",
           "1C40706",
           5
          ],
          [
           "Redondo",
           "1C40710",
           5.08
          ],
          [
           "Reguengos de Monsaraz",
           "1C40711",
           4.14
          ],
          [
           "Vendas Novas",
           "1C40712",
           5.64
          ],
          [
           "Vila Viçosa",
           "1C40714",
           3.6
          ],
          [
           "Albufeira",
           "1500801",
           10.31
          ],
          [
           "Aljezur",
           "1500803",
           7.56
          ],
          [
           "Castro Marim",
           "1500804",
           7.51
          ],
          [
           "Faro",
           "1500805",
           8.33
          ],
          [
           "Lagoa",
           "1500806",
           8.75
          ],
          [
           "Lagos",
           "1500807",
           10.11
          ],
          [
           "Loulé",
           "1500808",
           10.81
          ],
          [
           "Olhão",
           "1500810",
           8.09
          ],
          [
           "Portimão",
           "1500811",
           10.42
          ],
          [
           "São Brás de Alportel",
           "1500812",
           6.03
          ],
          [
           "Silves",
           "1500813",
           8.59
          ],
          [
           "Tavira",
           "1500814",
           9.61
          ],
          [
           "Vila do Bispo",
           "1500815",
           8.02
          ],
          [
           "Vila Real de Santo António",
           "1500816",
           8.91
          ],
          [
           "Angra do Heroísmo",
           "2004301",
           4.95
          ],
          [
           "Horta",
           "2004701",
           4.15
          ],
          [
           "Lagoa (R.A.A.)",
           "2004201",
           4.62
          ],
          [
           "Madalena",
           "2004602",
           4.29
          ],
          [
           "Ponta Delgada",
           "2004203",
           6.08
          ],
          [
           "Ribeira Grande",
           "2004205",
           4.41
          ],
          [
           "Vila da Praia da Vitória",
           "2004302",
           5.45
          ],
          [
           "Calheta (R.A.M.)",
           "3003101",
           5.59
          ],
          [
           "Câmara de Lobos",
           "3003102",
           6.78
          ],
          [
           "Funchal",
           "3003103",
           11.51
          ],
          [
           "Machico",
           "3003104",
           5.98
          ],
          [
           "Santa Cruz",
           "3003108",
           9.02
          ]
         ],
         "hovertemplate": "valor=%{x}<br>y=%{y}<br>local=%{customdata[0]}<br>codigo=%{customdata[1]}<br>Valor mediano das rendas por m2=%{customdata[2]}<br>Rendas=%{marker.color}<extra></extra>",
         "legendgroup": "",
         "marker": {
          "color": {
           "bdata": "AAEAAQAAAAABAAAAAQEAAAABAAEAAAEBAQIAAAIBAQABAQABAQIAAAAAAAAAAAAAAAAAAAAAAAAAAAAAAAABAAEBAQAAAQABAAABAAEAAAAAAAAAAAAAAAABAQEAAAAAAAAAAAAAAAEAAAAAAAAAAAAAAAEBAQEAAQEBAQEAAQAAAQAAAQEBAQEBAAABAAABAQICAgICAgICAgICAgICAQICAgECAQECAQABAAAAAAAAAAAAAQAAAAEAAgEBAQICAgECAQECAQIAAAAAAQAAAQECAQI=",
           "dtype": "i1"
          },
          "coloraxis": "coloraxis",
          "size": 10,
          "symbol": "circle"
         },
         "mode": "markers",
         "name": "",
         "orientation": "v",
         "showlegend": false,
         "type": "scatter",
         "x": {
          "bdata": "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",
          "dtype": "f8"
         },
         "xaxis": "x",
         "y": {
          "bdata": "AAAAAAAAAAAAAAAAAAAAAAAAAAAAAAAAAAAAAAAAAAAAAAAAAAAAAAAAAAAAAAAAAAAAAAAAAAAAAAAAAAAAAAAAAAAAAAAAAAAAAAAAAAAAAAAAAAAAAAAAAAAAAAAAAAAAAAAAAAAAAAAAAAAAAAAAAAAAAAAAAAAAAAAAAAAAAAAAAAAAAAAAAAAAAAAAAAAAAAAAAAAAAAAAAAAAAAAAAAAAAAAAAAAAAAAAAAAAAAAAAAAAAAAAAAAAAAAAAAAAAAAAAAAAAAAAAAAAAAAAAAA=",
          "dtype": "i1"
         },
         "yaxis": "y"
        }
       ],
       "layout": {
        "coloraxis": {
         "colorbar": {
          "title": {
           "text": "Rendas"
          }
         },
         "colorscale": [
          [
           0,
           "#440154"
          ],
          [
           0.1111111111111111,
           "#482878"
          ],
          [
           0.2222222222222222,
           "#3e4989"
          ],
          [
           0.3333333333333333,
           "#31688e"
          ],
          [
           0.4444444444444444,
           "#26828e"
          ],
          [
           0.5555555555555556,
           "#1f9e89"
          ],
          [
           0.6666666666666666,
           "#35b779"
          ],
          [
           0.7777777777777778,
           "#6ece58"
          ],
          [
           0.8888888888888888,
           "#b5de2b"
          ],
          [
           1,
           "#fde725"
          ]
         ]
        },
        "height": 300,
        "legend": {
         "tracegroupgap": 0
        },
        "margin": {
         "t": 60
        },
        "template": {
         "data": {
          "bar": [
           {
            "error_x": {
             "color": "#2a3f5f"
            },
            "error_y": {
             "color": "#2a3f5f"
            },
            "marker": {
             "line": {
              "color": "#E5ECF6",
              "width": 0.5
             },
             "pattern": {
              "fillmode": "overlay",
              "size": 10,
              "solidity": 0.2
             }
            },
            "type": "bar"
           }
          ],
          "barpolar": [
           {
            "marker": {
             "line": {
              "color": "#E5ECF6",
              "width": 0.5
             },
             "pattern": {
              "fillmode": "overlay",
              "size": 10,
              "solidity": 0.2
             }
            },
            "type": "barpolar"
           }
          ],
          "carpet": [
           {
            "aaxis": {
             "endlinecolor": "#2a3f5f",
             "gridcolor": "white",
             "linecolor": "white",
             "minorgridcolor": "white",
             "startlinecolor": "#2a3f5f"
            },
            "baxis": {
             "endlinecolor": "#2a3f5f",
             "gridcolor": "white",
             "linecolor": "white",
             "minorgridcolor": "white",
             "startlinecolor": "#2a3f5f"
            },
            "type": "carpet"
           }
          ],
          "choropleth": [
           {
            "colorbar": {
             "outlinewidth": 0,
             "ticks": ""
            },
            "type": "choropleth"
           }
          ],
          "contour": [
           {
            "colorbar": {
             "outlinewidth": 0,
             "ticks": ""
            },
            "colorscale": [
             [
              0,
              "#0d0887"
             ],
             [
              0.1111111111111111,
              "#46039f"
             ],
             [
              0.2222222222222222,
              "#7201a8"
             ],
             [
              0.3333333333333333,
              "#9c179e"
             ],
             [
              0.4444444444444444,
              "#bd3786"
             ],
             [
              0.5555555555555556,
              "#d8576b"
             ],
             [
              0.6666666666666666,
              "#ed7953"
             ],
             [
              0.7777777777777778,
              "#fb9f3a"
             ],
             [
              0.8888888888888888,
              "#fdca26"
             ],
             [
              1,
              "#f0f921"
             ]
            ],
            "type": "contour"
           }
          ],
          "contourcarpet": [
           {
            "colorbar": {
             "outlinewidth": 0,
             "ticks": ""
            },
            "type": "contourcarpet"
           }
          ],
          "heatmap": [
           {
            "colorbar": {
             "outlinewidth": 0,
             "ticks": ""
            },
            "colorscale": [
             [
              0,
              "#0d0887"
             ],
             [
              0.1111111111111111,
              "#46039f"
             ],
             [
              0.2222222222222222,
              "#7201a8"
             ],
             [
              0.3333333333333333,
              "#9c179e"
             ],
             [
              0.4444444444444444,
              "#bd3786"
             ],
             [
              0.5555555555555556,
              "#d8576b"
             ],
             [
              0.6666666666666666,
              "#ed7953"
             ],
             [
              0.7777777777777778,
              "#fb9f3a"
             ],
             [
              0.8888888888888888,
              "#fdca26"
             ],
             [
              1,
              "#f0f921"
             ]
            ],
            "type": "heatmap"
           }
          ],
          "histogram": [
           {
            "marker": {
             "pattern": {
              "fillmode": "overlay",
              "size": 10,
              "solidity": 0.2
             }
            },
            "type": "histogram"
           }
          ],
          "histogram2d": [
           {
            "colorbar": {
             "outlinewidth": 0,
             "ticks": ""
            },
            "colorscale": [
             [
              0,
              "#0d0887"
             ],
             [
              0.1111111111111111,
              "#46039f"
             ],
             [
              0.2222222222222222,
              "#7201a8"
             ],
             [
              0.3333333333333333,
              "#9c179e"
             ],
             [
              0.4444444444444444,
              "#bd3786"
             ],
             [
              0.5555555555555556,
              "#d8576b"
             ],
             [
              0.6666666666666666,
              "#ed7953"
             ],
             [
              0.7777777777777778,
              "#fb9f3a"
             ],
             [
              0.8888888888888888,
              "#fdca26"
             ],
             [
              1,
              "#f0f921"
             ]
            ],
            "type": "histogram2d"
           }
          ],
          "histogram2dcontour": [
           {
            "colorbar": {
             "outlinewidth": 0,
             "ticks": ""
            },
            "colorscale": [
             [
              0,
              "#0d0887"
             ],
             [
              0.1111111111111111,
              "#46039f"
             ],
             [
              0.2222222222222222,
              "#7201a8"
             ],
             [
              0.3333333333333333,
              "#9c179e"
             ],
             [
              0.4444444444444444,
              "#bd3786"
             ],
             [
              0.5555555555555556,
              "#d8576b"
             ],
             [
              0.6666666666666666,
              "#ed7953"
             ],
             [
              0.7777777777777778,
              "#fb9f3a"
             ],
             [
              0.8888888888888888,
              "#fdca26"
             ],
             [
              1,
              "#f0f921"
             ]
            ],
            "type": "histogram2dcontour"
           }
          ],
          "mesh3d": [
           {
            "colorbar": {
             "outlinewidth": 0,
             "ticks": ""
            },
            "type": "mesh3d"
           }
          ],
          "parcoords": [
           {
            "line": {
             "colorbar": {
              "outlinewidth": 0,
              "ticks": ""
             }
            },
            "type": "parcoords"
           }
          ],
          "pie": [
           {
            "automargin": true,
            "type": "pie"
           }
          ],
          "scatter": [
           {
            "fillpattern": {
             "fillmode": "overlay",
             "size": 10,
             "solidity": 0.2
            },
            "type": "scatter"
           }
          ],
          "scatter3d": [
           {
            "line": {
             "colorbar": {
              "outlinewidth": 0,
              "ticks": ""
             }
            },
            "marker": {
             "colorbar": {
              "outlinewidth": 0,
              "ticks": ""
             }
            },
            "type": "scatter3d"
           }
          ],
          "scattercarpet": [
           {
            "marker": {
             "colorbar": {
              "outlinewidth": 0,
              "ticks": ""
             }
            },
            "type": "scattercarpet"
           }
          ],
          "scattergeo": [
           {
            "marker": {
             "colorbar": {
              "outlinewidth": 0,
              "ticks": ""
             }
            },
            "type": "scattergeo"
           }
          ],
          "scattergl": [
           {
            "marker": {
             "colorbar": {
              "outlinewidth": 0,
              "ticks": ""
             }
            },
            "type": "scattergl"
           }
          ],
          "scattermap": [
           {
            "marker": {
             "colorbar": {
              "outlinewidth": 0,
              "ticks": ""
             }
            },
            "type": "scattermap"
           }
          ],
          "scattermapbox": [
           {
            "marker": {
             "colorbar": {
              "outlinewidth": 0,
              "ticks": ""
             }
            },
            "type": "scattermapbox"
           }
          ],
          "scatterpolar": [
           {
            "marker": {
             "colorbar": {
              "outlinewidth": 0,
              "ticks": ""
             }
            },
            "type": "scatterpolar"
           }
          ],
          "scatterpolargl": [
           {
            "marker": {
             "colorbar": {
              "outlinewidth": 0,
              "ticks": ""
             }
            },
            "type": "scatterpolargl"
           }
          ],
          "scatterternary": [
           {
            "marker": {
             "colorbar": {
              "outlinewidth": 0,
              "ticks": ""
             }
            },
            "type": "scatterternary"
           }
          ],
          "surface": [
           {
            "colorbar": {
             "outlinewidth": 0,
             "ticks": ""
            },
            "colorscale": [
             [
              0,
              "#0d0887"
             ],
             [
              0.1111111111111111,
              "#46039f"
             ],
             [
              0.2222222222222222,
              "#7201a8"
             ],
             [
              0.3333333333333333,
              "#9c179e"
             ],
             [
              0.4444444444444444,
              "#bd3786"
             ],
             [
              0.5555555555555556,
              "#d8576b"
             ],
             [
              0.6666666666666666,
              "#ed7953"
             ],
             [
              0.7777777777777778,
              "#fb9f3a"
             ],
             [
              0.8888888888888888,
              "#fdca26"
             ],
             [
              1,
              "#f0f921"
             ]
            ],
            "type": "surface"
           }
          ],
          "table": [
           {
            "cells": {
             "fill": {
              "color": "#EBF0F8"
             },
             "line": {
              "color": "white"
             }
            },
            "header": {
             "fill": {
              "color": "#C8D4E3"
             },
             "line": {
              "color": "white"
             }
            },
            "type": "table"
           }
          ]
         },
         "layout": {
          "annotationdefaults": {
           "arrowcolor": "#2a3f5f",
           "arrowhead": 0,
           "arrowwidth": 1
          },
          "autotypenumbers": "strict",
          "coloraxis": {
           "colorbar": {
            "outlinewidth": 0,
            "ticks": ""
           }
          },
          "colorscale": {
           "diverging": [
            [
             0,
             "#8e0152"
            ],
            [
             0.1,
             "#c51b7d"
            ],
            [
             0.2,
             "#de77ae"
            ],
            [
             0.3,
             "#f1b6da"
            ],
            [
             0.4,
             "#fde0ef"
            ],
            [
             0.5,
             "#f7f7f7"
            ],
            [
             0.6,
             "#e6f5d0"
            ],
            [
             0.7,
             "#b8e186"
            ],
            [
             0.8,
             "#7fbc41"
            ],
            [
             0.9,
             "#4d9221"
            ],
            [
             1,
             "#276419"
            ]
           ],
           "sequential": [
            [
             0,
             "#0d0887"
            ],
            [
             0.1111111111111111,
             "#46039f"
            ],
            [
             0.2222222222222222,
             "#7201a8"
            ],
            [
             0.3333333333333333,
             "#9c179e"
            ],
            [
             0.4444444444444444,
             "#bd3786"
            ],
            [
             0.5555555555555556,
             "#d8576b"
            ],
            [
             0.6666666666666666,
             "#ed7953"
            ],
            [
             0.7777777777777778,
             "#fb9f3a"
            ],
            [
             0.8888888888888888,
             "#fdca26"
            ],
            [
             1,
             "#f0f921"
            ]
           ],
           "sequentialminus": [
            [
             0,
             "#0d0887"
            ],
            [
             0.1111111111111111,
             "#46039f"
            ],
            [
             0.2222222222222222,
             "#7201a8"
            ],
            [
             0.3333333333333333,
             "#9c179e"
            ],
            [
             0.4444444444444444,
             "#bd3786"
            ],
            [
             0.5555555555555556,
             "#d8576b"
            ],
            [
             0.6666666666666666,
             "#ed7953"
            ],
            [
             0.7777777777777778,
             "#fb9f3a"
            ],
            [
             0.8888888888888888,
             "#fdca26"
            ],
            [
             1,
             "#f0f921"
            ]
           ]
          },
          "colorway": [
           "#636efa",
           "#EF553B",
           "#00cc96",
           "#ab63fa",
           "#FFA15A",
           "#19d3f3",
           "#FF6692",
           "#B6E880",
           "#FF97FF",
           "#FECB52"
          ],
          "font": {
           "color": "#2a3f5f"
          },
          "geo": {
           "bgcolor": "white",
           "lakecolor": "white",
           "landcolor": "#E5ECF6",
           "showlakes": true,
           "showland": true,
           "subunitcolor": "white"
          },
          "hoverlabel": {
           "align": "left"
          },
          "hovermode": "closest",
          "mapbox": {
           "style": "light"
          },
          "paper_bgcolor": "white",
          "plot_bgcolor": "#E5ECF6",
          "polar": {
           "angularaxis": {
            "gridcolor": "white",
            "linecolor": "white",
            "ticks": ""
           },
           "bgcolor": "#E5ECF6",
           "radialaxis": {
            "gridcolor": "white",
            "linecolor": "white",
            "ticks": ""
           }
          },
          "scene": {
           "xaxis": {
            "backgroundcolor": "#E5ECF6",
            "gridcolor": "white",
            "gridwidth": 2,
            "linecolor": "white",
            "showbackground": true,
            "ticks": "",
            "zerolinecolor": "white"
           },
           "yaxis": {
            "backgroundcolor": "#E5ECF6",
            "gridcolor": "white",
            "gridwidth": 2,
            "linecolor": "white",
            "showbackground": true,
            "ticks": "",
            "zerolinecolor": "white"
           },
           "zaxis": {
            "backgroundcolor": "#E5ECF6",
            "gridcolor": "white",
            "gridwidth": 2,
            "linecolor": "white",
            "showbackground": true,
            "ticks": "",
            "zerolinecolor": "white"
           }
          },
          "shapedefaults": {
           "line": {
            "color": "#2a3f5f"
           }
          },
          "ternary": {
           "aaxis": {
            "gridcolor": "white",
            "linecolor": "white",
            "ticks": ""
           },
           "baxis": {
            "gridcolor": "white",
            "linecolor": "white",
            "ticks": ""
           },
           "bgcolor": "#E5ECF6",
           "caxis": {
            "gridcolor": "white",
            "linecolor": "white",
            "ticks": ""
           }
          },
          "title": {
           "x": 0.05
          },
          "xaxis": {
           "automargin": true,
           "gridcolor": "white",
           "linecolor": "white",
           "ticks": "",
           "title": {
            "standoff": 15
           },
           "zerolinecolor": "white",
           "zerolinewidth": 2
          },
          "yaxis": {
           "automargin": true,
           "gridcolor": "white",
           "linecolor": "white",
           "ticks": "",
           "title": {
            "standoff": 15
           },
           "zerolinecolor": "white",
           "zerolinewidth": 2
          }
         }
        },
        "xaxis": {
         "anchor": "y",
         "domain": [
          0,
          1
         ],
         "title": {
          "text": "Valor mediano das rendas por m2"
         }
        },
        "yaxis": {
         "anchor": "x",
         "domain": [
          0,
          1
         ],
         "showgrid": false,
         "showticklabels": false,
         "title": {
          "text": "y"
         }
        }
       }
      }
     },
     "metadata": {},
     "output_type": "display_data"
    },
    {
     "name": "stdout",
     "output_type": "stream",
     "text": [
      "Rendas\n",
      "0    114\n",
      "1     67\n",
      "2     31\n",
      "Name: count, dtype: int64\n",
      "File saved to csv_files/7_Rendas.csv\n"
     ]
    }
   ],
   "source": [
    "clustered_df = aplicar_kmeans(df_valor_mediano_rendas, 3, nome_cluster='Rendas')\n",
    "save_clustered_df_to_csv(clustered_df, \"csv_files/\", \"7_Rendas.csv\")"
   ]
  },
  {
   "cell_type": "markdown",
   "id": "076c87c7-641c-4ba0-b19c-013019adfcf6",
   "metadata": {},
   "source": [
    "**Valor mediano vendas**"
   ]
  },
  {
   "cell_type": "code",
   "execution_count": 59,
   "id": "fe1f95ad-5a1f-44aa-89e3-145dae7a64d9",
   "metadata": {
    "scrolled": true
   },
   "outputs": [
    {
     "data": {
      "text/html": [
       "<div>\n",
       "<style scoped>\n",
       "    .dataframe tbody tr th:only-of-type {\n",
       "        vertical-align: middle;\n",
       "    }\n",
       "\n",
       "    .dataframe tbody tr th {\n",
       "        vertical-align: top;\n",
       "    }\n",
       "\n",
       "    .dataframe thead th {\n",
       "        text-align: right;\n",
       "    }\n",
       "</style>\n",
       "<table border=\"1\" class=\"dataframe\">\n",
       "  <thead>\n",
       "    <tr style=\"text-align: right;\">\n",
       "      <th></th>\n",
       "      <th>local</th>\n",
       "      <th>codigo</th>\n",
       "      <th>Valor mediano das rendas por m2</th>\n",
       "      <th>Rendas</th>\n",
       "    </tr>\n",
       "  </thead>\n",
       "  <tbody>\n",
       "    <tr>\n",
       "      <th>4</th>\n",
       "      <td>Arcos de Valdevez</td>\n",
       "      <td>1111601</td>\n",
       "      <td>4.64</td>\n",
       "      <td>0</td>\n",
       "    </tr>\n",
       "    <tr>\n",
       "      <th>5</th>\n",
       "      <td>Caminha</td>\n",
       "      <td>1111602</td>\n",
       "      <td>5.83</td>\n",
       "      <td>1</td>\n",
       "    </tr>\n",
       "    <tr>\n",
       "      <th>6</th>\n",
       "      <td>Melgaço</td>\n",
       "      <td>1111603</td>\n",
       "      <td>3.29</td>\n",
       "      <td>0</td>\n",
       "    </tr>\n",
       "    <tr>\n",
       "      <th>7</th>\n",
       "      <td>Monção</td>\n",
       "      <td>1111604</td>\n",
       "      <td>6.58</td>\n",
       "      <td>1</td>\n",
       "    </tr>\n",
       "    <tr>\n",
       "      <th>8</th>\n",
       "      <td>Paredes de Coura</td>\n",
       "      <td>1111605</td>\n",
       "      <td>3.84</td>\n",
       "      <td>0</td>\n",
       "    </tr>\n",
       "    <tr>\n",
       "      <th>...</th>\n",
       "      <td>...</td>\n",
       "      <td>...</td>\n",
       "      <td>...</td>\n",
       "      <td>...</td>\n",
       "    </tr>\n",
       "    <tr>\n",
       "      <th>627</th>\n",
       "      <td>Calheta (R.A.M.)</td>\n",
       "      <td>3003101</td>\n",
       "      <td>5.59</td>\n",
       "      <td>1</td>\n",
       "    </tr>\n",
       "    <tr>\n",
       "      <th>628</th>\n",
       "      <td>Câmara de Lobos</td>\n",
       "      <td>3003102</td>\n",
       "      <td>6.78</td>\n",
       "      <td>1</td>\n",
       "    </tr>\n",
       "    <tr>\n",
       "      <th>629</th>\n",
       "      <td>Funchal</td>\n",
       "      <td>3003103</td>\n",
       "      <td>11.51</td>\n",
       "      <td>2</td>\n",
       "    </tr>\n",
       "    <tr>\n",
       "      <th>630</th>\n",
       "      <td>Machico</td>\n",
       "      <td>3003104</td>\n",
       "      <td>5.98</td>\n",
       "      <td>1</td>\n",
       "    </tr>\n",
       "    <tr>\n",
       "      <th>634</th>\n",
       "      <td>Santa Cruz</td>\n",
       "      <td>3003108</td>\n",
       "      <td>9.02</td>\n",
       "      <td>2</td>\n",
       "    </tr>\n",
       "  </tbody>\n",
       "</table>\n",
       "<p>212 rows × 4 columns</p>\n",
       "</div>"
      ],
      "text/plain": [
       "                 local   codigo  Valor mediano das rendas por m2  Rendas\n",
       "4    Arcos de Valdevez  1111601                             4.64       0\n",
       "5              Caminha  1111602                             5.83       1\n",
       "6              Melgaço  1111603                             3.29       0\n",
       "7               Monção  1111604                             6.58       1\n",
       "8     Paredes de Coura  1111605                             3.84       0\n",
       "..                 ...      ...                              ...     ...\n",
       "627   Calheta (R.A.M.)  3003101                             5.59       1\n",
       "628    Câmara de Lobos  3003102                             6.78       1\n",
       "629            Funchal  3003103                            11.51       2\n",
       "630            Machico  3003104                             5.98       1\n",
       "634         Santa Cruz  3003108                             9.02       2\n",
       "\n",
       "[212 rows x 4 columns]"
      ]
     },
     "execution_count": 59,
     "metadata": {},
     "output_type": "execute_result"
    }
   ],
   "source": [
    "df_valor_mediano_vendas = processar_ficheiro(data_path+'Valor mediano das vendas por m2.xls',0)\n",
    "df_valor_mediano_vendas = carregar_municipios(df_valor_mediano_vendas)\n",
    "df_valor_mediano_vendas = df_valor_mediano_vendas[['local','codigo','Valor mediano das vendas por m2']]\n",
    "df_valor_mediano_vendas = df_valor_mediano_rendas[df_valor_mediano_rendas['Valor mediano das rendas por m2'] != 0.0] # remove 0 values\n",
    "df_valor_mediano_vendas = df_valor_mediano_rendas[df_valor_mediano_rendas['codigo'].str.len() <= 7]\n",
    "df_valor_mediano_vendas\n"
   ]
  },
  {
   "cell_type": "code",
   "execution_count": 60,
   "id": "7c7df1cd-9cdb-4401-aa57-c0687e441bbd",
   "metadata": {},
   "outputs": [
    {
     "data": {
      "application/vnd.plotly.v1+json": {
       "config": {
        "plotlyServerURL": "https://plot.ly"
       },
       "data": [
        {
         "customdata": [
          [
           "Arcos de Valdevez",
           "1111601",
           4.64
          ],
          [
           "Caminha",
           "1111602",
           5.83
          ],
          [
           "Melgaço",
           "1111603",
           3.29
          ],
          [
           "Monção",
           "1111604",
           6.58
          ],
          [
           "Paredes de Coura",
           "1111605",
           3.84
          ],
          [
           "Ponte da Barca",
           "1111606",
           3.64
          ],
          [
           "Ponte de Lima",
           "1111607",
           5.32
          ],
          [
           "Valença",
           "1111608",
           4.79
          ],
          [
           "Viana do Castelo",
           "1111609",
           6.99
          ],
          [
           "Vila Nova de Cerveira",
           "1111610",
           4.55
          ],
          [
           "Amares",
           "1120301",
           4.47
          ],
          [
           "Barcelos",
           "1120302",
           5.42
          ],
          [
           "Braga",
           "1120303",
           7.69
          ],
          [
           "Esposende",
           "1120306",
           7.37
          ],
          [
           "Vila Verde",
           "1120313",
           5
          ],
          [
           "Cabeceiras de Basto",
           "1190304",
           4.23
          ],
          [
           "Fafe",
           "1190307",
           4.12
          ],
          [
           "Guimarães",
           "1190308",
           5.75
          ],
          [
           "Póvoa de Lanhoso",
           "1190309",
           4.68
          ],
          [
           "Vila Nova de Famalicão",
           "1190312",
           5.71
          ],
          [
           "Vizela",
           "1190314",
           4.83
          ],
          [
           "Arouca",
           "11A0104",
           5.03
          ],
          [
           "Espinho",
           "11A0107",
           8.04
          ],
          [
           "Gondomar",
           "11A1304",
           7.56
          ],
          [
           "Maia",
           "11A1306",
           8.57
          ],
          [
           "Matosinhos",
           "11A1308",
           11.11
          ],
          [
           "Oliveira de Azeméis",
           "11A0113",
           4.88
          ],
          [
           "Paredes",
           "11A1310",
           5.19
          ],
          [
           "Porto",
           "11A1312",
           12.58
          ],
          [
           "Póvoa de Varzim",
           "11A1313",
           8.15
          ],
          [
           "Santa Maria da Feira",
           "11A0109",
           5.86
          ],
          [
           "Santo Tirso",
           "11A1314",
           5.15
          ],
          [
           "São João da Madeira",
           "11A0116",
           6.38
          ],
          [
           "Trofa",
           "11A1318",
           6.8
          ],
          [
           "Vale de Cambra",
           "11A0119",
           4.65
          ],
          [
           "Valongo",
           "11A1315",
           7.75
          ],
          [
           "Vila do Conde",
           "11A1316",
           7.19
          ],
          [
           "Vila Nova de Gaia",
           "11A1317",
           9.39
          ],
          [
           "Chaves",
           "11B1703",
           4.84
          ],
          [
           "Valpaços",
           "11B1712",
           3.08
          ],
          [
           "Vila Pouca de Aguiar",
           "11B1713",
           3.59
          ],
          [
           "Amarante",
           "11C1301",
           4.17
          ],
          [
           "Baião",
           "11C1302",
           3.43
          ],
          [
           "Castelo de Paiva",
           "11C0106",
           3.51
          ],
          [
           "Celorico de Basto",
           "11C0305",
           3.58
          ],
          [
           "Cinfães",
           "11C1804",
           3.72
          ],
          [
           "Felgueiras",
           "11C1303",
           3.45
          ],
          [
           "Lousada",
           "11C1305",
           4.24
          ],
          [
           "Marco de Canaveses",
           "11C1307",
           4.07
          ],
          [
           "Paços de Ferreira",
           "11C1309",
           4.59
          ],
          [
           "Penafiel",
           "11C1311",
           4.74
          ],
          [
           "Lamego",
           "11D1805",
           3.77
          ],
          [
           "Moimenta da Beira",
           "11D1807",
           3.03
          ],
          [
           "Peso da Régua",
           "11D1708",
           4.38
          ],
          [
           "Vila Nova de Foz Côa",
           "11D0914",
           2.57
          ],
          [
           "Vila Real",
           "11D1714",
           4.96
          ],
          [
           "Bragança",
           "11E0402",
           3.23
          ],
          [
           "Macedo de Cavaleiros",
           "11E0405",
           3.07
          ],
          [
           "Miranda do Douro",
           "11E0406",
           2.97
          ],
          [
           "Mirandela",
           "11E0407",
           2.78
          ],
          [
           "Vila Flor",
           "11E0410",
           2.5
          ],
          [
           "Águeda",
           "1910101",
           5.21
          ],
          [
           "Albergaria-a-Velha",
           "1910102",
           5.55
          ],
          [
           "Anadia",
           "1910103",
           5.22
          ],
          [
           "Aveiro",
           "1910105",
           8.18
          ],
          [
           "Estarreja",
           "1910108",
           5.66
          ],
          [
           "Ílhavo",
           "1910110",
           7.07
          ],
          [
           "Murtosa",
           "1910112",
           5.17
          ],
          [
           "Oliveira do Bairro",
           "1910114",
           5.33
          ],
          [
           "Ovar",
           "1910115",
           6.19
          ],
          [
           "Sever do Vouga",
           "1910117",
           3.85
          ],
          [
           "Vagos",
           "1910118",
           5.97
          ],
          [
           "Arganil",
           "1920601",
           4.66
          ],
          [
           "Cantanhede",
           "1920602",
           4.76
          ],
          [
           "Coimbra",
           "1920603",
           7.76
          ],
          [
           "Condeixa-a-Nova",
           "1920604",
           5.51
          ],
          [
           "Figueira da Foz",
           "1920605",
           7.14
          ],
          [
           "Lousã",
           "1920607",
           4.78
          ],
          [
           "Mealhada",
           "1920111",
           4.97
          ],
          [
           "Mira",
           "1920608",
           4.58
          ],
          [
           "Miranda do Corvo",
           "1920609",
           5.22
          ],
          [
           "Montemor-o-Velho",
           "1920610",
           4.98
          ],
          [
           "Mortágua",
           "1921808",
           3.46
          ],
          [
           "Oliveira do Hospital",
           "1920611",
           3.81
          ],
          [
           "Penacova",
           "1920613",
           3.72
          ],
          [
           "Soure",
           "1920615",
           4.41
          ],
          [
           "Tábua",
           "1920616",
           3.85
          ],
          [
           "Vila Nova de Poiares",
           "1920617",
           3.77
          ],
          [
           "Ansião",
           "1931003",
           3.65
          ],
          [
           "Batalha",
           "1931004",
           6.05
          ],
          [
           "Leiria",
           "1931009",
           6.42
          ],
          [
           "Marinha Grande",
           "1931010",
           5.68
          ],
          [
           "Pombal",
           "1931015",
           4.76
          ],
          [
           "Porto de Mós",
           "1931016",
           4.22
          ],
          [
           "Carregal do Sal",
           "1941802",
           3.79
          ],
          [
           "Castro Daire",
           "1941803",
           3.4
          ],
          [
           "Mangualde",
           "1941806",
           4.29
          ],
          [
           "Nelas",
           "1941809",
           3.91
          ],
          [
           "Oliveira de Frades",
           "1941810",
           4.2
          ],
          [
           "Santa Comba Dão",
           "1941814",
           4.01
          ],
          [
           "São Pedro do Sul",
           "1941816",
           5.27
          ],
          [
           "Sátão",
           "1941817",
           2.79
          ],
          [
           "Tondela",
           "1941821",
           5
          ],
          [
           "Viseu",
           "1941823",
           5.72
          ],
          [
           "Vouzela",
           "1941824",
           3.44
          ],
          [
           "Castelo Branco",
           "1950502",
           4.54
          ],
          [
           "Proença-a-Nova",
           "1950508",
           4.26
          ],
          [
           "Sertã",
           "1950509",
           4.17
          ],
          [
           "Belmonte",
           "1960501",
           3.22
          ],
          [
           "Covilhã",
           "1960503",
           5
          ],
          [
           "Fundão",
           "1960504",
           4.5
          ],
          [
           "Gouveia",
           "1960906",
           2.99
          ],
          [
           "Guarda",
           "1960907",
           4.17
          ],
          [
           "Sabugal",
           "1960911",
           3.52
          ],
          [
           "Seia",
           "1960912",
           3.85
          ],
          [
           "Alcobaça",
           "1D11001",
           6.2
          ],
          [
           "Alenquer",
           "1D11101",
           7.82
          ],
          [
           "Arruda dos Vinhos",
           "1D11102",
           6.75
          ],
          [
           "Bombarral",
           "1D11005",
           5.8
          ],
          [
           "Cadaval",
           "1D11104",
           4.9
          ],
          [
           "Caldas da Rainha",
           "1D11006",
           7.04
          ],
          [
           "Lourinhã",
           "1D11108",
           6.21
          ],
          [
           "Nazaré",
           "1D11011",
           7.86
          ],
          [
           "Óbidos",
           "1D11012",
           6.61
          ],
          [
           "Peniche",
           "1D11014",
           6.64
          ],
          [
           "Sobral de Monte Agraço",
           "1D11112",
           5.29
          ],
          [
           "Torres Vedras",
           "1D11113",
           8.09
          ],
          [
           "Abrantes",
           "1D21401",
           5.26
          ],
          [
           "Alcanena",
           "1D21402",
           4.6
          ],
          [
           "Entroncamento",
           "1D21410",
           6.79
          ],
          [
           "Ferreira do Zêzere",
           "1D21411",
           4.37
          ],
          [
           "Mação",
           "1D21413",
           3.33
          ],
          [
           "Ourém",
           "1D21421",
           5.7
          ],
          [
           "Tomar",
           "1D21418",
           6
          ],
          [
           "Torres Novas",
           "1D21419",
           6
          ],
          [
           "Almeirim",
           "1D31403",
           5.86
          ],
          [
           "Azambuja",
           "1D31103",
           6.24
          ],
          [
           "Benavente",
           "1D31405",
           7.1
          ],
          [
           "Cartaxo",
           "1D31406",
           5.16
          ],
          [
           "Chamusca",
           "1D31407",
           3.74
          ],
          [
           "Coruche",
           "1D31409",
           5.57
          ],
          [
           "Golegã",
           "1D31412",
           4.74
          ],
          [
           "Rio Maior",
           "1D31414",
           4.53
          ],
          [
           "Salvaterra de Magos",
           "1D31415",
           6.13
          ],
          [
           "Santarém",
           "1D31416",
           6.67
          ],
          [
           "Amadora",
           "1A01115",
           11.8
          ],
          [
           "Cascais",
           "1A01105",
           15.31
          ],
          [
           "Lisboa",
           "1A01106",
           15.93
          ],
          [
           "Loures",
           "1A01107",
           10.56
          ],
          [
           "Mafra",
           "1A01109",
           9.49
          ],
          [
           "Odivelas",
           "1A01116",
           11.41
          ],
          [
           "Oeiras",
           "1A01110",
           13.8
          ],
          [
           "Sintra",
           "1A01111",
           10.2
          ],
          [
           "Vila Franca de Xira",
           "1A01114",
           9.76
          ],
          [
           "Alcochete",
           "1B01502",
           9.24
          ],
          [
           "Almada",
           "1B01503",
           11.76
          ],
          [
           "Barreiro",
           "1B01504",
           10.04
          ],
          [
           "Moita",
           "1B01506",
           9.1
          ],
          [
           "Montijo",
           "1B01507",
           9.12
          ],
          [
           "Palmela",
           "1B01508",
           8.3
          ],
          [
           "Seixal",
           "1B01510",
           9.94
          ],
          [
           "Sesimbra",
           "1B01511",
           9.07
          ],
          [
           "Setúbal",
           "1B01512",
           9.65
          ],
          [
           "Alcácer do Sal",
           "1C11501",
           7.26
          ],
          [
           "Grândola",
           "1C11505",
           9.11
          ],
          [
           "Odemira",
           "1C10211",
           6.17
          ],
          [
           "Santiago do Cacém",
           "1C11509",
           8.59
          ],
          [
           "Sines",
           "1C11513",
           11.45
          ],
          [
           "Aljustrel",
           "1C20201",
           5.56
          ],
          [
           "Almodôvar",
           "1C20202",
           4.88
          ],
          [
           "Beja",
           "1C20205",
           6.15
          ],
          [
           "Ferreira do Alentejo",
           "1C20208",
           4.29
          ],
          [
           "Moura",
           "1C20210",
           4
          ],
          [
           "Campo Maior",
           "1C31204",
           2.97
          ],
          [
           "Elvas",
           "1C31207",
           4.78
          ],
          [
           "Ponte de Sor",
           "1C31213",
           4.68
          ],
          [
           "Portalegre",
           "1C31214",
           3.78
          ],
          [
           "Arraiolos",
           "1C40702",
           4.2
          ],
          [
           "Borba",
           "1C40703",
           3.11
          ],
          [
           "Estremoz",
           "1C40704",
           4.25
          ],
          [
           "Évora",
           "1C40705",
           7.31
          ],
          [
           "Montemor-o-Novo",
           "1C40706",
           5
          ],
          [
           "Redondo",
           "1C40710",
           5.08
          ],
          [
           "Reguengos de Monsaraz",
           "1C40711",
           4.14
          ],
          [
           "Vendas Novas",
           "1C40712",
           5.64
          ],
          [
           "Vila Viçosa",
           "1C40714",
           3.6
          ],
          [
           "Albufeira",
           "1500801",
           10.31
          ],
          [
           "Aljezur",
           "1500803",
           7.56
          ],
          [
           "Castro Marim",
           "1500804",
           7.51
          ],
          [
           "Faro",
           "1500805",
           8.33
          ],
          [
           "Lagoa",
           "1500806",
           8.75
          ],
          [
           "Lagos",
           "1500807",
           10.11
          ],
          [
           "Loulé",
           "1500808",
           10.81
          ],
          [
           "Olhão",
           "1500810",
           8.09
          ],
          [
           "Portimão",
           "1500811",
           10.42
          ],
          [
           "São Brás de Alportel",
           "1500812",
           6.03
          ],
          [
           "Silves",
           "1500813",
           8.59
          ],
          [
           "Tavira",
           "1500814",
           9.61
          ],
          [
           "Vila do Bispo",
           "1500815",
           8.02
          ],
          [
           "Vila Real de Santo António",
           "1500816",
           8.91
          ],
          [
           "Angra do Heroísmo",
           "2004301",
           4.95
          ],
          [
           "Horta",
           "2004701",
           4.15
          ],
          [
           "Lagoa (R.A.A.)",
           "2004201",
           4.62
          ],
          [
           "Madalena",
           "2004602",
           4.29
          ],
          [
           "Ponta Delgada",
           "2004203",
           6.08
          ],
          [
           "Ribeira Grande",
           "2004205",
           4.41
          ],
          [
           "Vila da Praia da Vitória",
           "2004302",
           5.45
          ],
          [
           "Calheta (R.A.M.)",
           "3003101",
           5.59
          ],
          [
           "Câmara de Lobos",
           "3003102",
           6.78
          ],
          [
           "Funchal",
           "3003103",
           11.51
          ],
          [
           "Machico",
           "3003104",
           5.98
          ],
          [
           "Santa Cruz",
           "3003108",
           9.02
          ]
         ],
         "hovertemplate": "valor=%{x}<br>y=%{y}<br>local=%{customdata[0]}<br>codigo=%{customdata[1]}<br>Valor mediano das rendas por m2=%{customdata[2]}<br>Vendas=%{marker.color}<extra></extra>",
         "legendgroup": "",
         "marker": {
          "color": {
           "bdata": "AAEAAQAAAAABAAAAAQEAAAABAAEAAAEBAQIAAAIBAQABAQABAQIAAAAAAAAAAAAAAAAAAAAAAAAAAAAAAAABAAEBAQAAAQABAAABAAEAAAAAAAAAAAAAAAABAQEAAAAAAAAAAAAAAAEAAAAAAAAAAAAAAAEBAQEAAQEBAQEAAQAAAQAAAQEBAQEBAAABAAABAQICAgICAgICAgICAgICAQICAgECAQECAQABAAAAAAAAAAAAAQAAAAEAAgEBAQICAgECAQECAQIAAAAAAQAAAQECAQI=",
           "dtype": "i1"
          },
          "coloraxis": "coloraxis",
          "size": 10,
          "symbol": "circle"
         },
         "mode": "markers",
         "name": "",
         "orientation": "v",
         "showlegend": false,
         "type": "scatter",
         "x": {
          "bdata": "NC3zZfaT4b9tKmhhu+mvv2UGF6rZoPG/DFgMOcNOzz9xNsqd4Q3sv7/4v2tcrO6/e5fFualY0b/utvWWNDrfv+b7KBxZZNo/CisIqa3B4r+RRTfI3s3jv1yqn9dddM2/CqbwXtpc5j/wOzTiFSziP65rPrMyutm/IZXEJXLy5r+aWaWwNWPov2rpLKpmVri/8Z9b1t0N4b+DU+kmK4e8v2icxncDLt6/yBfb2w3x2L8Qul5HMfLqP+0aRIwKqeQ/52T7Wnvx8D/7lAOVg8kAQEG7yxDG3ty/rq0eX0nA1L/U9kM8hZkFQI1+P9L0Yuw/OYtNppSgqb80yE1+eszVv8xONQHY1MQ/5j0JyG9q1T/hSQ1CcHLhv+35Uzb/Jec/hoAUuE6h3z/XzMwa90/2P8jV+i/36t2/NdkEI9oA879UaT0f+1PvvwfpJ/2Wu+e/MM/Nri628L/tQTYfFjDwv6RMI0OBde+/Od6QTCug7b/f6+eKqJTwv9Gx3gHs0Oa/LsoiZNQK6b/HnXAZlTvivwpM+P64ROC/pm0TmYz47L+AkcN8qVTzv2dDTAuW++S/wf1qtrZX9r80hm3SY8bav1iwyBVsBfK/3sr3NJ0R879xO3XoO7nzv/EqfT229/S/XJkPNAzN9r9uIIfPMDrUv/V97Ywepca/zlm7hyT30799KPE9h8fsPw9samEQ4sC/8zCHWrt83D/0OrbuYUbVv9vQ+XGdFdG/saXrsQrCtT8fU+R5W+zrv5geCsLfonS/kWYnHupQ4b9qhSy3rAHgvz3dOVqFR+c/ArNLy4C9yL9ZnxlREVLeP459wd5Afd+/lL+hileD2r8XgVY9G13iv85Zu4ck99O/7vjVQktA2r83+vR45YPwv2Pgewl0cuy/Od6QTCug7b90mZqfA5fkvx9T5Hlb7Ou/pm0TmYz47L9vFdpH1oruvyjJYPVrXZw/2YOTPzrtxj8do3aEvqu/v2qFLLesAeC/dHiqSfgT578Ep0dRgLXsvymkpuR36PC/PkFhTk0p5r86/4CiNiPrvxQ/dpEEV+e/FB6GO/nT6b+oeMAg56fSv0k5iivz5vS/rms+szK62b8EOboH+nq7v4jd2pxrpfC/Wg7uzDPj4r8x6xK6343mvwfpJ/2Wu+e/AKK7Jy8W8r+uaz6zMrrZv56bhVxMaeO/IViPxLWX878H6Sf9lrvnv0RQQw1TH/C/H1PkeVvs678xwBrRO862PyMxnTGqEOg/wFwOYTIb1D/QZEEOcRmzv/stNIGtWNy/Dd0jg5az2z+x2knwbNq3P2e+NMHClug/7H/pc4Zw0D/M00xLqznRP2HrKJHOIdK/pyrc+s+Z6z9IP4xo8+rSv3e6ivUOGuK/Rnc9gGMn1T+3JjIvHB3lv8Q/S2LNXfG/A24YRlyTvb8F28oWVqZ9PwXbyhZWpn0/OYtNppSgqb9LKtdNAP+6P9OE6jHgRd0/lAGCNm6J1b+XF8UEH13tv2hjvm3tmMW/Ckz4/rhE4L+q8dPwuQTjv/sMou3H8a4/syewItAC0j8uJkGAzQsDQB7RTU6IiQ5AQIpcvZNIEEDMPtVOHvn9P2o9Ss6V9/Y/2r0/ovHEAUD0iyeDAJgJQBxDq8ivnfs/K7rpsii8+D/4o5ANiVT1P9xCW1xH6gJAlSh8qX6R+j/CbEcS3mn0PxJQLTZki/Q/StC37NBZ7j8CuP713+n5P8qXbtyUN/Q/8Fd57cYD+D92d1NXUrvgP2peOiShevQ/l3CNc6ipsz83SOF+ARPxPyqhJcZ35gFAtfBV/QUfxr9Bu8sQxt7cv5c7LzVGkbE/PkFhTk0p5r9kAWxff/Xpv3E7deg7ufO/jn3B3kB937/xn1vW3Q3hv1aKLXUG1+y/FD92kQRX5789BCztkM7yv4HO+N1lr+a/CujQCvFi4T+uaz6zMrrZv6E24HTQode/+pLZaCkg6L+chpmAQe7BvwOGV/t0Mu+/WqUbjhFW/D/tGkSMCqnkP1qqxthrAeQ/OnppWGO+7j+9YhCeMh/yPzDEICfUBvs/PdiODyuc/z+nKtz6z5nrP5UHjFNzDv0/KfXn++L7kz83SOF+ARPxP02RraW6wPc/cPOS/ySv6j9DfT+9YyvzP9RMORpwCdu/p6/zRKP+57/U876tAtfhvz5BYU5NKea/xwPLtdx3pD90mZqfA5fkv48C2SgU4su/6EiPTryMxL+msHE4V+TUPyN2/vvAGAJAtqfDeG7+Tr9/36+CxePzPw==",
          "dtype": "f8"
         },
         "xaxis": "x",
         "y": {
          "bdata": "AAAAAAAAAAAAAAAAAAAAAAAAAAAAAAAAAAAAAAAAAAAAAAAAAAAAAAAAAAAAAAAAAAAAAAAAAAAAAAAAAAAAAAAAAAAAAAAAAAAAAAAAAAAAAAAAAAAAAAAAAAAAAAAAAAAAAAAAAAAAAAAAAAAAAAAAAAAAAAAAAAAAAAAAAAAAAAAAAAAAAAAAAAAAAAAAAAAAAAAAAAAAAAAAAAAAAAAAAAAAAAAAAAAAAAAAAAAAAAAAAAAAAAAAAAAAAAAAAAAAAAAAAAAAAAAAAAAAAAAAAAA=",
          "dtype": "i1"
         },
         "yaxis": "y"
        }
       ],
       "layout": {
        "coloraxis": {
         "colorbar": {
          "title": {
           "text": "Vendas"
          }
         },
         "colorscale": [
          [
           0,
           "#440154"
          ],
          [
           0.1111111111111111,
           "#482878"
          ],
          [
           0.2222222222222222,
           "#3e4989"
          ],
          [
           0.3333333333333333,
           "#31688e"
          ],
          [
           0.4444444444444444,
           "#26828e"
          ],
          [
           0.5555555555555556,
           "#1f9e89"
          ],
          [
           0.6666666666666666,
           "#35b779"
          ],
          [
           0.7777777777777778,
           "#6ece58"
          ],
          [
           0.8888888888888888,
           "#b5de2b"
          ],
          [
           1,
           "#fde725"
          ]
         ]
        },
        "height": 300,
        "legend": {
         "tracegroupgap": 0
        },
        "margin": {
         "t": 60
        },
        "template": {
         "data": {
          "bar": [
           {
            "error_x": {
             "color": "#2a3f5f"
            },
            "error_y": {
             "color": "#2a3f5f"
            },
            "marker": {
             "line": {
              "color": "#E5ECF6",
              "width": 0.5
             },
             "pattern": {
              "fillmode": "overlay",
              "size": 10,
              "solidity": 0.2
             }
            },
            "type": "bar"
           }
          ],
          "barpolar": [
           {
            "marker": {
             "line": {
              "color": "#E5ECF6",
              "width": 0.5
             },
             "pattern": {
              "fillmode": "overlay",
              "size": 10,
              "solidity": 0.2
             }
            },
            "type": "barpolar"
           }
          ],
          "carpet": [
           {
            "aaxis": {
             "endlinecolor": "#2a3f5f",
             "gridcolor": "white",
             "linecolor": "white",
             "minorgridcolor": "white",
             "startlinecolor": "#2a3f5f"
            },
            "baxis": {
             "endlinecolor": "#2a3f5f",
             "gridcolor": "white",
             "linecolor": "white",
             "minorgridcolor": "white",
             "startlinecolor": "#2a3f5f"
            },
            "type": "carpet"
           }
          ],
          "choropleth": [
           {
            "colorbar": {
             "outlinewidth": 0,
             "ticks": ""
            },
            "type": "choropleth"
           }
          ],
          "contour": [
           {
            "colorbar": {
             "outlinewidth": 0,
             "ticks": ""
            },
            "colorscale": [
             [
              0,
              "#0d0887"
             ],
             [
              0.1111111111111111,
              "#46039f"
             ],
             [
              0.2222222222222222,
              "#7201a8"
             ],
             [
              0.3333333333333333,
              "#9c179e"
             ],
             [
              0.4444444444444444,
              "#bd3786"
             ],
             [
              0.5555555555555556,
              "#d8576b"
             ],
             [
              0.6666666666666666,
              "#ed7953"
             ],
             [
              0.7777777777777778,
              "#fb9f3a"
             ],
             [
              0.8888888888888888,
              "#fdca26"
             ],
             [
              1,
              "#f0f921"
             ]
            ],
            "type": "contour"
           }
          ],
          "contourcarpet": [
           {
            "colorbar": {
             "outlinewidth": 0,
             "ticks": ""
            },
            "type": "contourcarpet"
           }
          ],
          "heatmap": [
           {
            "colorbar": {
             "outlinewidth": 0,
             "ticks": ""
            },
            "colorscale": [
             [
              0,
              "#0d0887"
             ],
             [
              0.1111111111111111,
              "#46039f"
             ],
             [
              0.2222222222222222,
              "#7201a8"
             ],
             [
              0.3333333333333333,
              "#9c179e"
             ],
             [
              0.4444444444444444,
              "#bd3786"
             ],
             [
              0.5555555555555556,
              "#d8576b"
             ],
             [
              0.6666666666666666,
              "#ed7953"
             ],
             [
              0.7777777777777778,
              "#fb9f3a"
             ],
             [
              0.8888888888888888,
              "#fdca26"
             ],
             [
              1,
              "#f0f921"
             ]
            ],
            "type": "heatmap"
           }
          ],
          "histogram": [
           {
            "marker": {
             "pattern": {
              "fillmode": "overlay",
              "size": 10,
              "solidity": 0.2
             }
            },
            "type": "histogram"
           }
          ],
          "histogram2d": [
           {
            "colorbar": {
             "outlinewidth": 0,
             "ticks": ""
            },
            "colorscale": [
             [
              0,
              "#0d0887"
             ],
             [
              0.1111111111111111,
              "#46039f"
             ],
             [
              0.2222222222222222,
              "#7201a8"
             ],
             [
              0.3333333333333333,
              "#9c179e"
             ],
             [
              0.4444444444444444,
              "#bd3786"
             ],
             [
              0.5555555555555556,
              "#d8576b"
             ],
             [
              0.6666666666666666,
              "#ed7953"
             ],
             [
              0.7777777777777778,
              "#fb9f3a"
             ],
             [
              0.8888888888888888,
              "#fdca26"
             ],
             [
              1,
              "#f0f921"
             ]
            ],
            "type": "histogram2d"
           }
          ],
          "histogram2dcontour": [
           {
            "colorbar": {
             "outlinewidth": 0,
             "ticks": ""
            },
            "colorscale": [
             [
              0,
              "#0d0887"
             ],
             [
              0.1111111111111111,
              "#46039f"
             ],
             [
              0.2222222222222222,
              "#7201a8"
             ],
             [
              0.3333333333333333,
              "#9c179e"
             ],
             [
              0.4444444444444444,
              "#bd3786"
             ],
             [
              0.5555555555555556,
              "#d8576b"
             ],
             [
              0.6666666666666666,
              "#ed7953"
             ],
             [
              0.7777777777777778,
              "#fb9f3a"
             ],
             [
              0.8888888888888888,
              "#fdca26"
             ],
             [
              1,
              "#f0f921"
             ]
            ],
            "type": "histogram2dcontour"
           }
          ],
          "mesh3d": [
           {
            "colorbar": {
             "outlinewidth": 0,
             "ticks": ""
            },
            "type": "mesh3d"
           }
          ],
          "parcoords": [
           {
            "line": {
             "colorbar": {
              "outlinewidth": 0,
              "ticks": ""
             }
            },
            "type": "parcoords"
           }
          ],
          "pie": [
           {
            "automargin": true,
            "type": "pie"
           }
          ],
          "scatter": [
           {
            "fillpattern": {
             "fillmode": "overlay",
             "size": 10,
             "solidity": 0.2
            },
            "type": "scatter"
           }
          ],
          "scatter3d": [
           {
            "line": {
             "colorbar": {
              "outlinewidth": 0,
              "ticks": ""
             }
            },
            "marker": {
             "colorbar": {
              "outlinewidth": 0,
              "ticks": ""
             }
            },
            "type": "scatter3d"
           }
          ],
          "scattercarpet": [
           {
            "marker": {
             "colorbar": {
              "outlinewidth": 0,
              "ticks": ""
             }
            },
            "type": "scattercarpet"
           }
          ],
          "scattergeo": [
           {
            "marker": {
             "colorbar": {
              "outlinewidth": 0,
              "ticks": ""
             }
            },
            "type": "scattergeo"
           }
          ],
          "scattergl": [
           {
            "marker": {
             "colorbar": {
              "outlinewidth": 0,
              "ticks": ""
             }
            },
            "type": "scattergl"
           }
          ],
          "scattermap": [
           {
            "marker": {
             "colorbar": {
              "outlinewidth": 0,
              "ticks": ""
             }
            },
            "type": "scattermap"
           }
          ],
          "scattermapbox": [
           {
            "marker": {
             "colorbar": {
              "outlinewidth": 0,
              "ticks": ""
             }
            },
            "type": "scattermapbox"
           }
          ],
          "scatterpolar": [
           {
            "marker": {
             "colorbar": {
              "outlinewidth": 0,
              "ticks": ""
             }
            },
            "type": "scatterpolar"
           }
          ],
          "scatterpolargl": [
           {
            "marker": {
             "colorbar": {
              "outlinewidth": 0,
              "ticks": ""
             }
            },
            "type": "scatterpolargl"
           }
          ],
          "scatterternary": [
           {
            "marker": {
             "colorbar": {
              "outlinewidth": 0,
              "ticks": ""
             }
            },
            "type": "scatterternary"
           }
          ],
          "surface": [
           {
            "colorbar": {
             "outlinewidth": 0,
             "ticks": ""
            },
            "colorscale": [
             [
              0,
              "#0d0887"
             ],
             [
              0.1111111111111111,
              "#46039f"
             ],
             [
              0.2222222222222222,
              "#7201a8"
             ],
             [
              0.3333333333333333,
              "#9c179e"
             ],
             [
              0.4444444444444444,
              "#bd3786"
             ],
             [
              0.5555555555555556,
              "#d8576b"
             ],
             [
              0.6666666666666666,
              "#ed7953"
             ],
             [
              0.7777777777777778,
              "#fb9f3a"
             ],
             [
              0.8888888888888888,
              "#fdca26"
             ],
             [
              1,
              "#f0f921"
             ]
            ],
            "type": "surface"
           }
          ],
          "table": [
           {
            "cells": {
             "fill": {
              "color": "#EBF0F8"
             },
             "line": {
              "color": "white"
             }
            },
            "header": {
             "fill": {
              "color": "#C8D4E3"
             },
             "line": {
              "color": "white"
             }
            },
            "type": "table"
           }
          ]
         },
         "layout": {
          "annotationdefaults": {
           "arrowcolor": "#2a3f5f",
           "arrowhead": 0,
           "arrowwidth": 1
          },
          "autotypenumbers": "strict",
          "coloraxis": {
           "colorbar": {
            "outlinewidth": 0,
            "ticks": ""
           }
          },
          "colorscale": {
           "diverging": [
            [
             0,
             "#8e0152"
            ],
            [
             0.1,
             "#c51b7d"
            ],
            [
             0.2,
             "#de77ae"
            ],
            [
             0.3,
             "#f1b6da"
            ],
            [
             0.4,
             "#fde0ef"
            ],
            [
             0.5,
             "#f7f7f7"
            ],
            [
             0.6,
             "#e6f5d0"
            ],
            [
             0.7,
             "#b8e186"
            ],
            [
             0.8,
             "#7fbc41"
            ],
            [
             0.9,
             "#4d9221"
            ],
            [
             1,
             "#276419"
            ]
           ],
           "sequential": [
            [
             0,
             "#0d0887"
            ],
            [
             0.1111111111111111,
             "#46039f"
            ],
            [
             0.2222222222222222,
             "#7201a8"
            ],
            [
             0.3333333333333333,
             "#9c179e"
            ],
            [
             0.4444444444444444,
             "#bd3786"
            ],
            [
             0.5555555555555556,
             "#d8576b"
            ],
            [
             0.6666666666666666,
             "#ed7953"
            ],
            [
             0.7777777777777778,
             "#fb9f3a"
            ],
            [
             0.8888888888888888,
             "#fdca26"
            ],
            [
             1,
             "#f0f921"
            ]
           ],
           "sequentialminus": [
            [
             0,
             "#0d0887"
            ],
            [
             0.1111111111111111,
             "#46039f"
            ],
            [
             0.2222222222222222,
             "#7201a8"
            ],
            [
             0.3333333333333333,
             "#9c179e"
            ],
            [
             0.4444444444444444,
             "#bd3786"
            ],
            [
             0.5555555555555556,
             "#d8576b"
            ],
            [
             0.6666666666666666,
             "#ed7953"
            ],
            [
             0.7777777777777778,
             "#fb9f3a"
            ],
            [
             0.8888888888888888,
             "#fdca26"
            ],
            [
             1,
             "#f0f921"
            ]
           ]
          },
          "colorway": [
           "#636efa",
           "#EF553B",
           "#00cc96",
           "#ab63fa",
           "#FFA15A",
           "#19d3f3",
           "#FF6692",
           "#B6E880",
           "#FF97FF",
           "#FECB52"
          ],
          "font": {
           "color": "#2a3f5f"
          },
          "geo": {
           "bgcolor": "white",
           "lakecolor": "white",
           "landcolor": "#E5ECF6",
           "showlakes": true,
           "showland": true,
           "subunitcolor": "white"
          },
          "hoverlabel": {
           "align": "left"
          },
          "hovermode": "closest",
          "mapbox": {
           "style": "light"
          },
          "paper_bgcolor": "white",
          "plot_bgcolor": "#E5ECF6",
          "polar": {
           "angularaxis": {
            "gridcolor": "white",
            "linecolor": "white",
            "ticks": ""
           },
           "bgcolor": "#E5ECF6",
           "radialaxis": {
            "gridcolor": "white",
            "linecolor": "white",
            "ticks": ""
           }
          },
          "scene": {
           "xaxis": {
            "backgroundcolor": "#E5ECF6",
            "gridcolor": "white",
            "gridwidth": 2,
            "linecolor": "white",
            "showbackground": true,
            "ticks": "",
            "zerolinecolor": "white"
           },
           "yaxis": {
            "backgroundcolor": "#E5ECF6",
            "gridcolor": "white",
            "gridwidth": 2,
            "linecolor": "white",
            "showbackground": true,
            "ticks": "",
            "zerolinecolor": "white"
           },
           "zaxis": {
            "backgroundcolor": "#E5ECF6",
            "gridcolor": "white",
            "gridwidth": 2,
            "linecolor": "white",
            "showbackground": true,
            "ticks": "",
            "zerolinecolor": "white"
           }
          },
          "shapedefaults": {
           "line": {
            "color": "#2a3f5f"
           }
          },
          "ternary": {
           "aaxis": {
            "gridcolor": "white",
            "linecolor": "white",
            "ticks": ""
           },
           "baxis": {
            "gridcolor": "white",
            "linecolor": "white",
            "ticks": ""
           },
           "bgcolor": "#E5ECF6",
           "caxis": {
            "gridcolor": "white",
            "linecolor": "white",
            "ticks": ""
           }
          },
          "title": {
           "x": 0.05
          },
          "xaxis": {
           "automargin": true,
           "gridcolor": "white",
           "linecolor": "white",
           "ticks": "",
           "title": {
            "standoff": 15
           },
           "zerolinecolor": "white",
           "zerolinewidth": 2
          },
          "yaxis": {
           "automargin": true,
           "gridcolor": "white",
           "linecolor": "white",
           "ticks": "",
           "title": {
            "standoff": 15
           },
           "zerolinecolor": "white",
           "zerolinewidth": 2
          }
         }
        },
        "xaxis": {
         "anchor": "y",
         "domain": [
          0,
          1
         ],
         "title": {
          "text": "Valor mediano das rendas por m2"
         }
        },
        "yaxis": {
         "anchor": "x",
         "domain": [
          0,
          1
         ],
         "showgrid": false,
         "showticklabels": false,
         "title": {
          "text": "y"
         }
        }
       }
      }
     },
     "metadata": {},
     "output_type": "display_data"
    },
    {
     "name": "stdout",
     "output_type": "stream",
     "text": [
      "Vendas\n",
      "0    114\n",
      "1     67\n",
      "2     31\n",
      "Name: count, dtype: int64\n",
      "File saved to csv_files/7_Vendas.csv\n"
     ]
    }
   ],
   "source": [
    "clustered_df = aplicar_kmeans(df_valor_mediano_rendas, 3, nome_cluster='Vendas')\n",
    "save_clustered_df_to_csv(clustered_df, \"csv_files/\", \"7_Vendas.csv\")"
   ]
  },
  {
   "cell_type": "markdown",
   "id": "3366e832-fddc-413c-b26a-daeffa1240e6",
   "metadata": {},
   "source": [
    "**Alojamentos**"
   ]
  },
  {
   "cell_type": "code",
   "execution_count": 61,
   "id": "dfd451e6-9c63-4d04-a9dd-07bf19444785",
   "metadata": {},
   "outputs": [
    {
     "data": {
      "text/html": [
       "<div>\n",
       "<style scoped>\n",
       "    .dataframe tbody tr th:only-of-type {\n",
       "        vertical-align: middle;\n",
       "    }\n",
       "\n",
       "    .dataframe tbody tr th {\n",
       "        vertical-align: top;\n",
       "    }\n",
       "\n",
       "    .dataframe thead th {\n",
       "        text-align: right;\n",
       "    }\n",
       "</style>\n",
       "<table border=\"1\" class=\"dataframe\">\n",
       "  <thead>\n",
       "    <tr style=\"text-align: right;\">\n",
       "      <th></th>\n",
       "      <th>local</th>\n",
       "      <th>codigo</th>\n",
       "      <th>Alojamentos</th>\n",
       "    </tr>\n",
       "  </thead>\n",
       "  <tbody>\n",
       "    <tr>\n",
       "      <th>5</th>\n",
       "      <td>Arcos de Valdevez</td>\n",
       "      <td>1111601</td>\n",
       "      <td>17810</td>\n",
       "    </tr>\n",
       "    <tr>\n",
       "      <th>42</th>\n",
       "      <td>Caminha</td>\n",
       "      <td>1111602</td>\n",
       "      <td>14378</td>\n",
       "    </tr>\n",
       "    <tr>\n",
       "      <th>57</th>\n",
       "      <td>Melgaço</td>\n",
       "      <td>1111603</td>\n",
       "      <td>7846</td>\n",
       "    </tr>\n",
       "    <tr>\n",
       "      <th>71</th>\n",
       "      <td>Monção</td>\n",
       "      <td>1111604</td>\n",
       "      <td>13863</td>\n",
       "    </tr>\n",
       "    <tr>\n",
       "      <th>96</th>\n",
       "      <td>Paredes de Coura</td>\n",
       "      <td>1111605</td>\n",
       "      <td>6341</td>\n",
       "    </tr>\n",
       "    <tr>\n",
       "      <th>...</th>\n",
       "      <td>...</td>\n",
       "      <td>...</td>\n",
       "      <td>...</td>\n",
       "    </tr>\n",
       "    <tr>\n",
       "      <th>3413</th>\n",
       "      <td>Porto Santo</td>\n",
       "      <td>3003201</td>\n",
       "      <td>4562</td>\n",
       "    </tr>\n",
       "    <tr>\n",
       "      <th>3415</th>\n",
       "      <td>Ribeira Brava</td>\n",
       "      <td>3003107</td>\n",
       "      <td>6980</td>\n",
       "    </tr>\n",
       "    <tr>\n",
       "      <th>3420</th>\n",
       "      <td>Santa Cruz</td>\n",
       "      <td>3003108</td>\n",
       "      <td>20391</td>\n",
       "    </tr>\n",
       "    <tr>\n",
       "      <th>3426</th>\n",
       "      <td>Santana</td>\n",
       "      <td>3003109</td>\n",
       "      <td>4888</td>\n",
       "    </tr>\n",
       "    <tr>\n",
       "      <th>3433</th>\n",
       "      <td>São Vicente</td>\n",
       "      <td>3003110</td>\n",
       "      <td>3786</td>\n",
       "    </tr>\n",
       "  </tbody>\n",
       "</table>\n",
       "<p>306 rows × 3 columns</p>\n",
       "</div>"
      ],
      "text/plain": [
       "                  local   codigo Alojamentos\n",
       "5     Arcos de Valdevez  1111601       17810\n",
       "42              Caminha  1111602       14378\n",
       "57              Melgaço  1111603        7846\n",
       "71               Monção  1111604       13863\n",
       "96     Paredes de Coura  1111605        6341\n",
       "...                 ...      ...         ...\n",
       "3413        Porto Santo  3003201        4562\n",
       "3415      Ribeira Brava  3003107        6980\n",
       "3420         Santa Cruz  3003108       20391\n",
       "3426            Santana  3003109        4888\n",
       "3433        São Vicente  3003110        3786\n",
       "\n",
       "[306 rows x 3 columns]"
      ]
     },
     "execution_count": 61,
     "metadata": {},
     "output_type": "execute_result"
    }
   ],
   "source": [
    "df_alojamentos = processar_ficheiro(data_path+'Alojamentos.xls',0)\n",
    "df_alojamentos = filter_for_only_municipalities(df_alojamentos)\n",
    "df_alojamentos = df_alojamentos[['local','codigo','Alojamentos']]\n",
    "df_alojamentos"
   ]
  },
  {
   "cell_type": "code",
   "execution_count": 62,
   "id": "b4d2935b-c481-48cc-aad3-355fe7052a4d",
   "metadata": {},
   "outputs": [
    {
     "data": {
      "application/vnd.plotly.v1+json": {
       "config": {
        "plotlyServerURL": "https://plot.ly"
       },
       "data": [
        {
         "customdata": [
          [
           "Arcos de Valdevez",
           "1111601",
           0
          ],
          [
           "Caminha",
           "1111602",
           0
          ],
          [
           "Melgaço",
           "1111603",
           0
          ],
          [
           "Monção",
           "1111604",
           0
          ],
          [
           "Paredes de Coura",
           "1111605",
           0
          ],
          [
           "Ponte da Barca",
           "1111606",
           0
          ],
          [
           "Ponte de Lima",
           "1111607",
           0
          ],
          [
           "Valença",
           "1111608",
           0
          ],
          [
           "Viana do Castelo",
           "1111609",
           1
          ],
          [
           "Vila Nova de Cerveira",
           "1111610",
           0
          ],
          [
           "Amares",
           "1120301",
           0
          ],
          [
           "Barcelos",
           "1120302",
           1
          ],
          [
           "Braga",
           "1120303",
           1
          ],
          [
           "Esposende",
           "1120306",
           0
          ],
          [
           "Terras de Bouro",
           "1120310",
           0
          ],
          [
           "Vila Verde",
           "1120313",
           0
          ],
          [
           "Cabeceiras de Basto",
           "1190304",
           0
          ],
          [
           "Fafe",
           "1190307",
           0
          ],
          [
           "Guimarães",
           "1190308",
           1
          ],
          [
           "Mondim de Basto",
           "1191705",
           0
          ],
          [
           "Póvoa de Lanhoso",
           "1190309",
           0
          ],
          [
           "Vieira do Minho",
           "1190311",
           0
          ],
          [
           "Vila Nova de Famalicão",
           "1190312",
           1
          ],
          [
           "Vizela",
           "1190314",
           0
          ],
          [
           "Arouca",
           "11A0104",
           0
          ],
          [
           "Espinho",
           "11A0107",
           0
          ],
          [
           "Gondomar",
           "11A1304",
           1
          ],
          [
           "Maia",
           "11A1306",
           1
          ],
          [
           "Matosinhos",
           "11A1308",
           1
          ],
          [
           "Oliveira de Azeméis",
           "11A0113",
           0
          ],
          [
           "Paredes",
           "11A1310",
           0
          ],
          [
           "Porto",
           "11A1312",
           1
          ],
          [
           "Póvoa de Varzim",
           "11A1313",
           0
          ],
          [
           "Santa Maria da Feira",
           "11A0109",
           1
          ],
          [
           "Santo Tirso",
           "11A1314",
           0
          ],
          [
           "São João da Madeira",
           "11A0116",
           0
          ],
          [
           "Trofa",
           "11A1318",
           0
          ],
          [
           "Vale de Cambra",
           "11A0119",
           0
          ],
          [
           "Valongo",
           "11A1315",
           0
          ],
          [
           "Vila do Conde",
           "11A1316",
           0
          ],
          [
           "Vila Nova de Gaia",
           "11A1317",
           1
          ],
          [
           "Boticas",
           "11B1702",
           0
          ],
          [
           "Chaves",
           "11B1703",
           0
          ],
          [
           "Montalegre",
           "11B1706",
           0
          ],
          [
           "Ribeira de Pena",
           "11B1709",
           0
          ],
          [
           "Valpaços",
           "11B1712",
           0
          ],
          [
           "Vila Pouca de Aguiar",
           "11B1713",
           0
          ],
          [
           "Amarante",
           "11C1301",
           0
          ],
          [
           "Baião",
           "11C1302",
           0
          ],
          [
           "Castelo de Paiva",
           "11C0106",
           0
          ],
          [
           "Celorico de Basto",
           "11C0305",
           0
          ],
          [
           "Cinfães",
           "11C1804",
           0
          ],
          [
           "Felgueiras",
           "11C1303",
           0
          ],
          [
           "Lousada",
           "11C1305",
           0
          ],
          [
           "Marco de Canaveses",
           "11C1307",
           0
          ],
          [
           "Paços de Ferreira",
           "11C1309",
           0
          ],
          [
           "Penafiel",
           "11C1311",
           0
          ],
          [
           "Resende",
           "11C1813",
           0
          ],
          [
           "Alijó",
           "11D1701",
           0
          ],
          [
           "Armamar",
           "11D1801",
           0
          ],
          [
           "Carrazeda de Ansiães",
           "11D0403",
           0
          ],
          [
           "Freixo de Espada à Cinta",
           "11D0404",
           0
          ],
          [
           "Lamego",
           "11D1805",
           0
          ],
          [
           "Mesão Frio",
           "11D1704",
           0
          ],
          [
           "Moimenta da Beira",
           "11D1807",
           0
          ],
          [
           "Murça",
           "11D1707",
           0
          ],
          [
           "Penedono",
           "11D1812",
           0
          ],
          [
           "Peso da Régua",
           "11D1708",
           0
          ],
          [
           "Sabrosa",
           "11D1710",
           0
          ],
          [
           "Santa Marta de Penaguião",
           "11D1711",
           0
          ],
          [
           "São João da Pesqueira",
           "11D1815",
           0
          ],
          [
           "Sernancelhe",
           "11D1818",
           0
          ],
          [
           "Tabuaço",
           "11D1819",
           0
          ],
          [
           "Tarouca",
           "11D1820",
           0
          ],
          [
           "Torre de Moncorvo",
           "11D0409",
           0
          ],
          [
           "Vila Nova de Foz Côa",
           "11D0914",
           0
          ],
          [
           "Vila Real",
           "11D1714",
           0
          ],
          [
           "Alfândega da Fé",
           "11E0401",
           0
          ],
          [
           "Bragança",
           "11E0402",
           0
          ],
          [
           "Macedo de Cavaleiros",
           "11E0405",
           0
          ],
          [
           "Miranda do Douro",
           "11E0406",
           0
          ],
          [
           "Mirandela",
           "11E0407",
           0
          ],
          [
           "Mogadouro",
           "11E0408",
           0
          ],
          [
           "Vila Flor",
           "11E0410",
           0
          ],
          [
           "Vimioso",
           "11E0411",
           0
          ],
          [
           "Vinhais",
           "11E0412",
           0
          ],
          [
           "Alcobaça",
           "16B1001",
           0
          ],
          [
           "Alenquer",
           "16B1101",
           0
          ],
          [
           "Arruda dos Vinhos",
           "16B1102",
           0
          ],
          [
           "Bombarral",
           "16B1005",
           0
          ],
          [
           "Cadaval",
           "16B1104",
           0
          ],
          [
           "Caldas da Rainha",
           "16B1006",
           0
          ],
          [
           "Lourinhã",
           "16B1108",
           0
          ],
          [
           "Nazaré",
           "16B1011",
           0
          ],
          [
           "Óbidos",
           "16B1012",
           0
          ],
          [
           "Peniche",
           "16B1014",
           0
          ],
          [
           "Sobral de Monte Agraço",
           "16B1112",
           0
          ],
          [
           "Torres Vedras",
           "16B1113",
           1
          ],
          [
           "Águeda",
           "16D0101",
           0
          ],
          [
           "Albergaria-a-Velha",
           "16D0102",
           0
          ],
          [
           "Anadia",
           "16D0103",
           0
          ],
          [
           "Aveiro",
           "16D0105",
           0
          ],
          [
           "Estarreja",
           "16D0108",
           0
          ],
          [
           "Ílhavo",
           "16D0110",
           0
          ],
          [
           "Murtosa",
           "16D0112",
           0
          ],
          [
           "Oliveira do Bairro",
           "16D0114",
           0
          ],
          [
           "Ovar",
           "16D0115",
           0
          ],
          [
           "Sever do Vouga",
           "16D0117",
           0
          ],
          [
           "Vagos",
           "16D0118",
           0
          ],
          [
           "Arganil",
           "16E0601",
           0
          ],
          [
           "Cantanhede",
           "16E0602",
           0
          ],
          [
           "Coimbra",
           "16E0603",
           1
          ],
          [
           "Condeixa-a-Nova",
           "16E0604",
           0
          ],
          [
           "Figueira da Foz",
           "16E0605",
           1
          ],
          [
           "Góis",
           "16E0606",
           0
          ],
          [
           "Lousã",
           "16E0607",
           0
          ],
          [
           "Mealhada",
           "16E0111",
           0
          ],
          [
           "Mira",
           "16E0608",
           0
          ],
          [
           "Miranda do Corvo",
           "16E0609",
           0
          ],
          [
           "Montemor-o-Velho",
           "16E0610",
           0
          ],
          [
           "Mortágua",
           "16E1808",
           0
          ],
          [
           "Oliveira do Hospital",
           "16E0611",
           0
          ],
          [
           "Pampilhosa da Serra",
           "16E0612",
           0
          ],
          [
           "Penacova",
           "16E0613",
           0
          ],
          [
           "Penela",
           "16E0614",
           0
          ],
          [
           "Soure",
           "16E0615",
           0
          ],
          [
           "Tábua",
           "16E0616",
           0
          ],
          [
           "Vila Nova de Poiares",
           "16E0617",
           0
          ],
          [
           "Alvaiázere",
           "16F1002",
           0
          ],
          [
           "Ansião",
           "16F1003",
           0
          ],
          [
           "Batalha",
           "16F1004",
           0
          ],
          [
           "Castanheira de Pêra",
           "16F1007",
           0
          ],
          [
           "Figueiró dos Vinhos",
           "16F1008",
           0
          ],
          [
           "Leiria",
           "16F1009",
           1
          ],
          [
           "Marinha Grande",
           "16F1010",
           0
          ],
          [
           "Pedrógão Grande",
           "16F1013",
           0
          ],
          [
           "Pombal",
           "16F1015",
           0
          ],
          [
           "Porto de Mós",
           "16F1016",
           0
          ],
          [
           "Aguiar da Beira",
           "16G0901",
           0
          ],
          [
           "Carregal do Sal",
           "16G1802",
           0
          ],
          [
           "Castro Daire",
           "16G1803",
           0
          ],
          [
           "Mangualde",
           "16G1806",
           0
          ],
          [
           "Nelas",
           "16G1809",
           0
          ],
          [
           "Oliveira de Frades",
           "16G1810",
           0
          ],
          [
           "Penalva do Castelo",
           "16G1811",
           0
          ],
          [
           "Santa Comba Dão",
           "16G1814",
           0
          ],
          [
           "São Pedro do Sul",
           "16G1816",
           0
          ],
          [
           "Sátão",
           "16G1817",
           0
          ],
          [
           "Tondela",
           "16G1821",
           0
          ],
          [
           "Vila Nova de Paiva",
           "16G1822",
           0
          ],
          [
           "Viseu",
           "16G1823",
           1
          ],
          [
           "Vouzela",
           "16G1824",
           0
          ],
          [
           "Castelo Branco",
           "16H0502",
           0
          ],
          [
           "Idanha-a-Nova",
           "16H0505",
           0
          ],
          [
           "Oleiros",
           "16H0506",
           0
          ],
          [
           "Penamacor",
           "16H0507",
           0
          ],
          [
           "Proença-a-Nova",
           "16H0508",
           0
          ],
          [
           "Vila Velha de Ródão",
           "16H0511",
           0
          ],
          [
           "Abrantes",
           "16I1401",
           0
          ],
          [
           "Alcanena",
           "16I1402",
           0
          ],
          [
           "Constância",
           "16I1408",
           0
          ],
          [
           "Entroncamento",
           "16I1410",
           0
          ],
          [
           "Ferreira do Zêzere",
           "16I1411",
           0
          ],
          [
           "Mação",
           "16I1413",
           0
          ],
          [
           "Ourém",
           "16I1421",
           0
          ],
          [
           "Sardoal",
           "16I1417",
           0
          ],
          [
           "Sertã",
           "16I0509",
           0
          ],
          [
           "Tomar",
           "16I1418",
           0
          ],
          [
           "Torres Novas",
           "16I1419",
           0
          ],
          [
           "Vila de Rei",
           "16I0510",
           0
          ],
          [
           "Vila Nova da Barquinha",
           "16I1420",
           0
          ],
          [
           "Almeida",
           "16J0902",
           0
          ],
          [
           "Belmonte",
           "16J0501",
           0
          ],
          [
           "Celorico da Beira",
           "16J0903",
           0
          ],
          [
           "Covilhã",
           "16J0503",
           0
          ],
          [
           "Figueira de Castelo Rodrigo",
           "16J0904",
           0
          ],
          [
           "Fornos de Algodres",
           "16J0905",
           0
          ],
          [
           "Fundão",
           "16J0504",
           0
          ],
          [
           "Gouveia",
           "16J0906",
           0
          ],
          [
           "Guarda",
           "16J0907",
           0
          ],
          [
           "Manteigas",
           "16J0908",
           0
          ],
          [
           "Mêda",
           "16J0909",
           0
          ],
          [
           "Pinhel",
           "16J0910",
           0
          ],
          [
           "Sabugal",
           "16J0911",
           0
          ],
          [
           "Seia",
           "16J0912",
           0
          ],
          [
           "Trancoso",
           "16J0913",
           0
          ],
          [
           "Alcochete",
           "1701502",
           0
          ],
          [
           "Almada",
           "1701503",
           1
          ],
          [
           "Amadora",
           "1701115",
           1
          ],
          [
           "Barreiro",
           "1701504",
           0
          ],
          [
           "Cascais",
           "1701105",
           1
          ],
          [
           "Lisboa",
           "1701106",
           2
          ],
          [
           "Loures",
           "1701107",
           1
          ],
          [
           "Mafra",
           "1701109",
           1
          ],
          [
           "Moita",
           "1701506",
           0
          ],
          [
           "Montijo",
           "1701507",
           0
          ],
          [
           "Odivelas",
           "1701116",
           1
          ],
          [
           "Oeiras",
           "1701110",
           1
          ],
          [
           "Palmela",
           "1701508",
           0
          ],
          [
           "Seixal",
           "1701510",
           1
          ],
          [
           "Sesimbra",
           "1701511",
           0
          ],
          [
           "Setúbal",
           "1701512",
           1
          ],
          [
           "Sintra",
           "1701111",
           2
          ],
          [
           "Vila Franca de Xira",
           "1701114",
           1
          ],
          [
           "Alcácer do Sal",
           "1811501",
           0
          ],
          [
           "Grândola",
           "1811505",
           0
          ],
          [
           "Odemira",
           "1810211",
           0
          ],
          [
           "Santiago do Cacém",
           "1811509",
           0
          ],
          [
           "Sines",
           "1811513",
           0
          ],
          [
           "Aljustrel",
           "1840201",
           0
          ],
          [
           "Almodôvar",
           "1840202",
           0
          ],
          [
           "Alvito",
           "1840203",
           0
          ],
          [
           "Barrancos",
           "1840204",
           0
          ],
          [
           "Beja",
           "1840205",
           0
          ],
          [
           "Castro Verde",
           "1840206",
           0
          ],
          [
           "Cuba",
           "1840207",
           0
          ],
          [
           "Ferreira do Alentejo",
           "1840208",
           0
          ],
          [
           "Mértola",
           "1840209",
           0
          ],
          [
           "Moura",
           "1840210",
           0
          ],
          [
           "Ourique",
           "1840212",
           0
          ],
          [
           "Serpa",
           "1840213",
           0
          ],
          [
           "Vidigueira",
           "1840214",
           0
          ],
          [
           "Almeirim",
           "1851403",
           0
          ],
          [
           "Alpiarça",
           "1851404",
           0
          ],
          [
           "Azambuja",
           "1851103",
           0
          ],
          [
           "Benavente",
           "1851405",
           0
          ],
          [
           "Cartaxo",
           "1851406",
           0
          ],
          [
           "Chamusca",
           "1851407",
           0
          ],
          [
           "Coruche",
           "1851409",
           0
          ],
          [
           "Golegã",
           "1851412",
           0
          ],
          [
           "Rio Maior",
           "1851414",
           0
          ],
          [
           "Salvaterra de Magos",
           "1851415",
           0
          ],
          [
           "Santarém",
           "1851416",
           0
          ],
          [
           "Alter do Chão",
           "1861201",
           0
          ],
          [
           "Arronches",
           "1861202",
           0
          ],
          [
           "Avis",
           "1861203",
           0
          ],
          [
           "Campo Maior",
           "1861204",
           0
          ],
          [
           "Castelo de Vide",
           "1861205",
           0
          ],
          [
           "Crato",
           "1861206",
           0
          ],
          [
           "Elvas",
           "1861207",
           0
          ],
          [
           "Fronteira",
           "1861208",
           0
          ],
          [
           "Gavião",
           "1861209",
           0
          ],
          [
           "Marvão",
           "1861210",
           0
          ],
          [
           "Monforte",
           "1861211",
           0
          ],
          [
           "Nisa",
           "1861212",
           0
          ],
          [
           "Ponte de Sor",
           "1861213",
           0
          ],
          [
           "Portalegre",
           "1861214",
           0
          ],
          [
           "Sousel",
           "1861215",
           0
          ],
          [
           "Alandroal",
           "1870701",
           0
          ],
          [
           "Arraiolos",
           "1870702",
           0
          ],
          [
           "Borba",
           "1870703",
           0
          ],
          [
           "Estremoz",
           "1870704",
           0
          ],
          [
           "Évora",
           "1870705",
           0
          ],
          [
           "Montemor-o-Novo",
           "1870706",
           0
          ],
          [
           "Mora",
           "1870707",
           0
          ],
          [
           "Mourão",
           "1870708",
           0
          ],
          [
           "Portel",
           "1870709",
           0
          ],
          [
           "Redondo",
           "1870710",
           0
          ],
          [
           "Reguengos de Monsaraz",
           "1870711",
           0
          ],
          [
           "Vendas Novas",
           "1870712",
           0
          ],
          [
           "Viana do Alentejo",
           "1870713",
           0
          ],
          [
           "Vila Viçosa",
           "1870714",
           0
          ],
          [
           "Albufeira",
           "1500801",
           1
          ],
          [
           "Alcoutim",
           "1500802",
           0
          ],
          [
           "Aljezur",
           "1500803",
           0
          ],
          [
           "Castro Marim",
           "1500804",
           0
          ],
          [
           "Faro",
           "1500805",
           0
          ],
          [
           "Lagoa",
           "2004201",
           0
          ],
          [
           "Lagos",
           "1500807",
           0
          ],
          [
           "Loulé",
           "1500808",
           1
          ],
          [
           "Monchique",
           "1500809",
           0
          ],
          [
           "Olhão",
           "1500810",
           0
          ],
          [
           "Portimão",
           "1500811",
           1
          ],
          [
           "São Brás de Alportel",
           "1500812",
           0
          ],
          [
           "Silves",
           "1500813",
           0
          ],
          [
           "Tavira",
           "1500814",
           0
          ],
          [
           "Vila do Bispo",
           "1500815",
           0
          ],
          [
           "Vila Real de Santo António",
           "1500816",
           0
          ],
          [
           "Angra do Heroísmo",
           "2004301",
           0
          ],
          [
           "Calheta",
           "3003101",
           0
          ],
          [
           "Corvo",
           "2004901",
           0
          ],
          [
           "Horta",
           "2004701",
           0
          ],
          [
           "Lajes das Flores",
           "2004801",
           0
          ],
          [
           "Lajes do Pico",
           "2004601",
           0
          ],
          [
           "Madalena",
           "2004602",
           0
          ],
          [
           "Nordeste",
           "2004202",
           0
          ],
          [
           "Ponta Delgada",
           "2004203",
           0
          ],
          [
           "Povoação",
           "2004204",
           0
          ],
          [
           "Ribeira Grande",
           "2004205",
           0
          ],
          [
           "Santa Cruz da Graciosa",
           "2004401",
           0
          ],
          [
           "Santa Cruz das Flores",
           "2004802",
           0
          ],
          [
           "São Roque do Pico",
           "2004603",
           0
          ],
          [
           "Velas",
           "2004502",
           0
          ],
          [
           "Vila da Praia da Vitória",
           "2004302",
           0
          ],
          [
           "Vila do Porto",
           "2004101",
           0
          ],
          [
           "Vila Franca do Campo",
           "2004206",
           0
          ],
          [
           "Câmara de Lobos",
           "3003102",
           0
          ],
          [
           "Funchal",
           "3003103",
           1
          ],
          [
           "Machico",
           "3003104",
           0
          ],
          [
           "Ponta do Sol",
           "3003105",
           0
          ],
          [
           "Porto Moniz",
           "3003106",
           0
          ],
          [
           "Porto Santo",
           "3003201",
           0
          ],
          [
           "Ribeira Brava",
           "3003107",
           0
          ],
          [
           "Santa Cruz",
           "3003108",
           0
          ],
          [
           "Santana",
           "3003109",
           0
          ],
          [
           "São Vicente",
           "3003110",
           0
          ]
         ],
         "hovertemplate": "valor=%{x}<br>y=%{y}<br>local=%{customdata[0]}<br>codigo=%{customdata[1]}<br>Alojamentos=%{marker.color}<extra></extra>",
         "legendgroup": "",
         "marker": {
          "color": {
           "bdata": "AAAAAAAAAAABAAABAQAAAAAAAQAAAAEAAAABAQEAAAEAAQAAAAAAAAEAAAAAAAAAAAAAAAAAAAAAAAAAAAAAAAAAAAAAAAAAAAAAAAAAAAAAAAAAAAAAAAAAAAAAAAAAAAEAAAAAAAAAAAAAAAAAAQABAAAAAAAAAAAAAAAAAAAAAAAAAAEAAAAAAAAAAAAAAAAAAAAAAQAAAAAAAAAAAAAAAAAAAAAAAAAAAAAAAAAAAAAAAAAAAAAAAAEBAAECAQEAAAEBAAEAAQIBAAAAAAAAAAAAAAAAAAAAAAAAAAAAAAAAAAAAAAAAAAAAAAAAAAAAAAAAAAAAAAAAAAAAAAAAAAAAAAEAAAAAAAABAAABAAAAAAAAAAAAAAAAAAAAAAAAAAAAAAAAAQAAAAAAAAAA",
           "dtype": "i1"
          },
          "coloraxis": "coloraxis",
          "size": 10,
          "symbol": "circle"
         },
         "mode": "markers",
         "name": "",
         "orientation": "v",
         "showlegend": false,
         "type": "scatter",
         "x": {
          "bdata": "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",
          "dtype": "f8"
         },
         "xaxis": "x",
         "y": {
          "bdata": "AAAAAAAAAAAAAAAAAAAAAAAAAAAAAAAAAAAAAAAAAAAAAAAAAAAAAAAAAAAAAAAAAAAAAAAAAAAAAAAAAAAAAAAAAAAAAAAAAAAAAAAAAAAAAAAAAAAAAAAAAAAAAAAAAAAAAAAAAAAAAAAAAAAAAAAAAAAAAAAAAAAAAAAAAAAAAAAAAAAAAAAAAAAAAAAAAAAAAAAAAAAAAAAAAAAAAAAAAAAAAAAAAAAAAAAAAAAAAAAAAAAAAAAAAAAAAAAAAAAAAAAAAAAAAAAAAAAAAAAAAAAAAAAAAAAAAAAAAAAAAAAAAAAAAAAAAAAAAAAAAAAAAAAAAAAAAAAAAAAAAAAAAAAAAAAAAAAAAAAAAAAAAAAAAAAAAAAAAAAAAAAAAAAAAAAAAAAAAAAAAAAAAAAA",
          "dtype": "i1"
         },
         "yaxis": "y"
        }
       ],
       "layout": {
        "coloraxis": {
         "colorbar": {
          "title": {
           "text": "Alojamentos"
          }
         },
         "colorscale": [
          [
           0,
           "#440154"
          ],
          [
           0.1111111111111111,
           "#482878"
          ],
          [
           0.2222222222222222,
           "#3e4989"
          ],
          [
           0.3333333333333333,
           "#31688e"
          ],
          [
           0.4444444444444444,
           "#26828e"
          ],
          [
           0.5555555555555556,
           "#1f9e89"
          ],
          [
           0.6666666666666666,
           "#35b779"
          ],
          [
           0.7777777777777778,
           "#6ece58"
          ],
          [
           0.8888888888888888,
           "#b5de2b"
          ],
          [
           1,
           "#fde725"
          ]
         ]
        },
        "height": 300,
        "legend": {
         "tracegroupgap": 0
        },
        "margin": {
         "t": 60
        },
        "template": {
         "data": {
          "bar": [
           {
            "error_x": {
             "color": "#2a3f5f"
            },
            "error_y": {
             "color": "#2a3f5f"
            },
            "marker": {
             "line": {
              "color": "#E5ECF6",
              "width": 0.5
             },
             "pattern": {
              "fillmode": "overlay",
              "size": 10,
              "solidity": 0.2
             }
            },
            "type": "bar"
           }
          ],
          "barpolar": [
           {
            "marker": {
             "line": {
              "color": "#E5ECF6",
              "width": 0.5
             },
             "pattern": {
              "fillmode": "overlay",
              "size": 10,
              "solidity": 0.2
             }
            },
            "type": "barpolar"
           }
          ],
          "carpet": [
           {
            "aaxis": {
             "endlinecolor": "#2a3f5f",
             "gridcolor": "white",
             "linecolor": "white",
             "minorgridcolor": "white",
             "startlinecolor": "#2a3f5f"
            },
            "baxis": {
             "endlinecolor": "#2a3f5f",
             "gridcolor": "white",
             "linecolor": "white",
             "minorgridcolor": "white",
             "startlinecolor": "#2a3f5f"
            },
            "type": "carpet"
           }
          ],
          "choropleth": [
           {
            "colorbar": {
             "outlinewidth": 0,
             "ticks": ""
            },
            "type": "choropleth"
           }
          ],
          "contour": [
           {
            "colorbar": {
             "outlinewidth": 0,
             "ticks": ""
            },
            "colorscale": [
             [
              0,
              "#0d0887"
             ],
             [
              0.1111111111111111,
              "#46039f"
             ],
             [
              0.2222222222222222,
              "#7201a8"
             ],
             [
              0.3333333333333333,
              "#9c179e"
             ],
             [
              0.4444444444444444,
              "#bd3786"
             ],
             [
              0.5555555555555556,
              "#d8576b"
             ],
             [
              0.6666666666666666,
              "#ed7953"
             ],
             [
              0.7777777777777778,
              "#fb9f3a"
             ],
             [
              0.8888888888888888,
              "#fdca26"
             ],
             [
              1,
              "#f0f921"
             ]
            ],
            "type": "contour"
           }
          ],
          "contourcarpet": [
           {
            "colorbar": {
             "outlinewidth": 0,
             "ticks": ""
            },
            "type": "contourcarpet"
           }
          ],
          "heatmap": [
           {
            "colorbar": {
             "outlinewidth": 0,
             "ticks": ""
            },
            "colorscale": [
             [
              0,
              "#0d0887"
             ],
             [
              0.1111111111111111,
              "#46039f"
             ],
             [
              0.2222222222222222,
              "#7201a8"
             ],
             [
              0.3333333333333333,
              "#9c179e"
             ],
             [
              0.4444444444444444,
              "#bd3786"
             ],
             [
              0.5555555555555556,
              "#d8576b"
             ],
             [
              0.6666666666666666,
              "#ed7953"
             ],
             [
              0.7777777777777778,
              "#fb9f3a"
             ],
             [
              0.8888888888888888,
              "#fdca26"
             ],
             [
              1,
              "#f0f921"
             ]
            ],
            "type": "heatmap"
           }
          ],
          "histogram": [
           {
            "marker": {
             "pattern": {
              "fillmode": "overlay",
              "size": 10,
              "solidity": 0.2
             }
            },
            "type": "histogram"
           }
          ],
          "histogram2d": [
           {
            "colorbar": {
             "outlinewidth": 0,
             "ticks": ""
            },
            "colorscale": [
             [
              0,
              "#0d0887"
             ],
             [
              0.1111111111111111,
              "#46039f"
             ],
             [
              0.2222222222222222,
              "#7201a8"
             ],
             [
              0.3333333333333333,
              "#9c179e"
             ],
             [
              0.4444444444444444,
              "#bd3786"
             ],
             [
              0.5555555555555556,
              "#d8576b"
             ],
             [
              0.6666666666666666,
              "#ed7953"
             ],
             [
              0.7777777777777778,
              "#fb9f3a"
             ],
             [
              0.8888888888888888,
              "#fdca26"
             ],
             [
              1,
              "#f0f921"
             ]
            ],
            "type": "histogram2d"
           }
          ],
          "histogram2dcontour": [
           {
            "colorbar": {
             "outlinewidth": 0,
             "ticks": ""
            },
            "colorscale": [
             [
              0,
              "#0d0887"
             ],
             [
              0.1111111111111111,
              "#46039f"
             ],
             [
              0.2222222222222222,
              "#7201a8"
             ],
             [
              0.3333333333333333,
              "#9c179e"
             ],
             [
              0.4444444444444444,
              "#bd3786"
             ],
             [
              0.5555555555555556,
              "#d8576b"
             ],
             [
              0.6666666666666666,
              "#ed7953"
             ],
             [
              0.7777777777777778,
              "#fb9f3a"
             ],
             [
              0.8888888888888888,
              "#fdca26"
             ],
             [
              1,
              "#f0f921"
             ]
            ],
            "type": "histogram2dcontour"
           }
          ],
          "mesh3d": [
           {
            "colorbar": {
             "outlinewidth": 0,
             "ticks": ""
            },
            "type": "mesh3d"
           }
          ],
          "parcoords": [
           {
            "line": {
             "colorbar": {
              "outlinewidth": 0,
              "ticks": ""
             }
            },
            "type": "parcoords"
           }
          ],
          "pie": [
           {
            "automargin": true,
            "type": "pie"
           }
          ],
          "scatter": [
           {
            "fillpattern": {
             "fillmode": "overlay",
             "size": 10,
             "solidity": 0.2
            },
            "type": "scatter"
           }
          ],
          "scatter3d": [
           {
            "line": {
             "colorbar": {
              "outlinewidth": 0,
              "ticks": ""
             }
            },
            "marker": {
             "colorbar": {
              "outlinewidth": 0,
              "ticks": ""
             }
            },
            "type": "scatter3d"
           }
          ],
          "scattercarpet": [
           {
            "marker": {
             "colorbar": {
              "outlinewidth": 0,
              "ticks": ""
             }
            },
            "type": "scattercarpet"
           }
          ],
          "scattergeo": [
           {
            "marker": {
             "colorbar": {
              "outlinewidth": 0,
              "ticks": ""
             }
            },
            "type": "scattergeo"
           }
          ],
          "scattergl": [
           {
            "marker": {
             "colorbar": {
              "outlinewidth": 0,
              "ticks": ""
             }
            },
            "type": "scattergl"
           }
          ],
          "scattermap": [
           {
            "marker": {
             "colorbar": {
              "outlinewidth": 0,
              "ticks": ""
             }
            },
            "type": "scattermap"
           }
          ],
          "scattermapbox": [
           {
            "marker": {
             "colorbar": {
              "outlinewidth": 0,
              "ticks": ""
             }
            },
            "type": "scattermapbox"
           }
          ],
          "scatterpolar": [
           {
            "marker": {
             "colorbar": {
              "outlinewidth": 0,
              "ticks": ""
             }
            },
            "type": "scatterpolar"
           }
          ],
          "scatterpolargl": [
           {
            "marker": {
             "colorbar": {
              "outlinewidth": 0,
              "ticks": ""
             }
            },
            "type": "scatterpolargl"
           }
          ],
          "scatterternary": [
           {
            "marker": {
             "colorbar": {
              "outlinewidth": 0,
              "ticks": ""
             }
            },
            "type": "scatterternary"
           }
          ],
          "surface": [
           {
            "colorbar": {
             "outlinewidth": 0,
             "ticks": ""
            },
            "colorscale": [
             [
              0,
              "#0d0887"
             ],
             [
              0.1111111111111111,
              "#46039f"
             ],
             [
              0.2222222222222222,
              "#7201a8"
             ],
             [
              0.3333333333333333,
              "#9c179e"
             ],
             [
              0.4444444444444444,
              "#bd3786"
             ],
             [
              0.5555555555555556,
              "#d8576b"
             ],
             [
              0.6666666666666666,
              "#ed7953"
             ],
             [
              0.7777777777777778,
              "#fb9f3a"
             ],
             [
              0.8888888888888888,
              "#fdca26"
             ],
             [
              1,
              "#f0f921"
             ]
            ],
            "type": "surface"
           }
          ],
          "table": [
           {
            "cells": {
             "fill": {
              "color": "#EBF0F8"
             },
             "line": {
              "color": "white"
             }
            },
            "header": {
             "fill": {
              "color": "#C8D4E3"
             },
             "line": {
              "color": "white"
             }
            },
            "type": "table"
           }
          ]
         },
         "layout": {
          "annotationdefaults": {
           "arrowcolor": "#2a3f5f",
           "arrowhead": 0,
           "arrowwidth": 1
          },
          "autotypenumbers": "strict",
          "coloraxis": {
           "colorbar": {
            "outlinewidth": 0,
            "ticks": ""
           }
          },
          "colorscale": {
           "diverging": [
            [
             0,
             "#8e0152"
            ],
            [
             0.1,
             "#c51b7d"
            ],
            [
             0.2,
             "#de77ae"
            ],
            [
             0.3,
             "#f1b6da"
            ],
            [
             0.4,
             "#fde0ef"
            ],
            [
             0.5,
             "#f7f7f7"
            ],
            [
             0.6,
             "#e6f5d0"
            ],
            [
             0.7,
             "#b8e186"
            ],
            [
             0.8,
             "#7fbc41"
            ],
            [
             0.9,
             "#4d9221"
            ],
            [
             1,
             "#276419"
            ]
           ],
           "sequential": [
            [
             0,
             "#0d0887"
            ],
            [
             0.1111111111111111,
             "#46039f"
            ],
            [
             0.2222222222222222,
             "#7201a8"
            ],
            [
             0.3333333333333333,
             "#9c179e"
            ],
            [
             0.4444444444444444,
             "#bd3786"
            ],
            [
             0.5555555555555556,
             "#d8576b"
            ],
            [
             0.6666666666666666,
             "#ed7953"
            ],
            [
             0.7777777777777778,
             "#fb9f3a"
            ],
            [
             0.8888888888888888,
             "#fdca26"
            ],
            [
             1,
             "#f0f921"
            ]
           ],
           "sequentialminus": [
            [
             0,
             "#0d0887"
            ],
            [
             0.1111111111111111,
             "#46039f"
            ],
            [
             0.2222222222222222,
             "#7201a8"
            ],
            [
             0.3333333333333333,
             "#9c179e"
            ],
            [
             0.4444444444444444,
             "#bd3786"
            ],
            [
             0.5555555555555556,
             "#d8576b"
            ],
            [
             0.6666666666666666,
             "#ed7953"
            ],
            [
             0.7777777777777778,
             "#fb9f3a"
            ],
            [
             0.8888888888888888,
             "#fdca26"
            ],
            [
             1,
             "#f0f921"
            ]
           ]
          },
          "colorway": [
           "#636efa",
           "#EF553B",
           "#00cc96",
           "#ab63fa",
           "#FFA15A",
           "#19d3f3",
           "#FF6692",
           "#B6E880",
           "#FF97FF",
           "#FECB52"
          ],
          "font": {
           "color": "#2a3f5f"
          },
          "geo": {
           "bgcolor": "white",
           "lakecolor": "white",
           "landcolor": "#E5ECF6",
           "showlakes": true,
           "showland": true,
           "subunitcolor": "white"
          },
          "hoverlabel": {
           "align": "left"
          },
          "hovermode": "closest",
          "mapbox": {
           "style": "light"
          },
          "paper_bgcolor": "white",
          "plot_bgcolor": "#E5ECF6",
          "polar": {
           "angularaxis": {
            "gridcolor": "white",
            "linecolor": "white",
            "ticks": ""
           },
           "bgcolor": "#E5ECF6",
           "radialaxis": {
            "gridcolor": "white",
            "linecolor": "white",
            "ticks": ""
           }
          },
          "scene": {
           "xaxis": {
            "backgroundcolor": "#E5ECF6",
            "gridcolor": "white",
            "gridwidth": 2,
            "linecolor": "white",
            "showbackground": true,
            "ticks": "",
            "zerolinecolor": "white"
           },
           "yaxis": {
            "backgroundcolor": "#E5ECF6",
            "gridcolor": "white",
            "gridwidth": 2,
            "linecolor": "white",
            "showbackground": true,
            "ticks": "",
            "zerolinecolor": "white"
           },
           "zaxis": {
            "backgroundcolor": "#E5ECF6",
            "gridcolor": "white",
            "gridwidth": 2,
            "linecolor": "white",
            "showbackground": true,
            "ticks": "",
            "zerolinecolor": "white"
           }
          },
          "shapedefaults": {
           "line": {
            "color": "#2a3f5f"
           }
          },
          "ternary": {
           "aaxis": {
            "gridcolor": "white",
            "linecolor": "white",
            "ticks": ""
           },
           "baxis": {
            "gridcolor": "white",
            "linecolor": "white",
            "ticks": ""
           },
           "bgcolor": "#E5ECF6",
           "caxis": {
            "gridcolor": "white",
            "linecolor": "white",
            "ticks": ""
           }
          },
          "title": {
           "x": 0.05
          },
          "xaxis": {
           "automargin": true,
           "gridcolor": "white",
           "linecolor": "white",
           "ticks": "",
           "title": {
            "standoff": 15
           },
           "zerolinecolor": "white",
           "zerolinewidth": 2
          },
          "yaxis": {
           "automargin": true,
           "gridcolor": "white",
           "linecolor": "white",
           "ticks": "",
           "title": {
            "standoff": 15
           },
           "zerolinecolor": "white",
           "zerolinewidth": 2
          }
         }
        },
        "xaxis": {
         "anchor": "y",
         "domain": [
          0,
          1
         ],
         "title": {
          "text": "Alojamentos"
         }
        },
        "yaxis": {
         "anchor": "x",
         "domain": [
          0,
          1
         ],
         "showgrid": false,
         "showticklabels": false,
         "title": {
          "text": "y"
         }
        }
       }
      }
     },
     "metadata": {},
     "output_type": "display_data"
    },
    {
     "name": "stdout",
     "output_type": "stream",
     "text": [
      "Alojamentos\n",
      "0    274\n",
      "1     30\n",
      "2      2\n",
      "Name: count, dtype: int64\n",
      "File saved to csv_files/7_Alojamentos.csv\n"
     ]
    }
   ],
   "source": [
    "clustered_df = aplicar_kmeans(df_alojamentos, 3, nome_cluster='Alojamentos')\n",
    "save_clustered_df_to_csv(clustered_df, \"csv_files/\", \"7_Alojamentos.csv\")"
   ]
  },
  {
   "cell_type": "markdown",
   "id": "761d79a1-480b-4df6-8252-c32d50e17e62",
   "metadata": {},
   "source": [
    "**Densidade de Alojamentos**"
   ]
  },
  {
   "cell_type": "code",
   "execution_count": 63,
   "id": "1512a2ff-af66-4938-ae2f-7c6789167807",
   "metadata": {},
   "outputs": [
    {
     "data": {
      "text/html": [
       "<div>\n",
       "<style scoped>\n",
       "    .dataframe tbody tr th:only-of-type {\n",
       "        vertical-align: middle;\n",
       "    }\n",
       "\n",
       "    .dataframe tbody tr th {\n",
       "        vertical-align: top;\n",
       "    }\n",
       "\n",
       "    .dataframe thead th {\n",
       "        text-align: right;\n",
       "    }\n",
       "</style>\n",
       "<table border=\"1\" class=\"dataframe\">\n",
       "  <thead>\n",
       "    <tr style=\"text-align: right;\">\n",
       "      <th></th>\n",
       "      <th>local</th>\n",
       "      <th>codigo</th>\n",
       "      <th>Densidade de alojamentos</th>\n",
       "    </tr>\n",
       "  </thead>\n",
       "  <tbody>\n",
       "    <tr>\n",
       "      <th>4</th>\n",
       "      <td>Arcos de Valdevez</td>\n",
       "      <td>1111601</td>\n",
       "      <td>39.8</td>\n",
       "    </tr>\n",
       "    <tr>\n",
       "      <th>41</th>\n",
       "      <td>Caminha</td>\n",
       "      <td>1111602</td>\n",
       "      <td>105.3</td>\n",
       "    </tr>\n",
       "    <tr>\n",
       "      <th>56</th>\n",
       "      <td>Melgaço</td>\n",
       "      <td>1111603</td>\n",
       "      <td>32.9</td>\n",
       "    </tr>\n",
       "    <tr>\n",
       "      <th>70</th>\n",
       "      <td>Monção</td>\n",
       "      <td>1111604</td>\n",
       "      <td>65.6</td>\n",
       "    </tr>\n",
       "    <tr>\n",
       "      <th>95</th>\n",
       "      <td>Paredes de Coura</td>\n",
       "      <td>1111605</td>\n",
       "      <td>45.9</td>\n",
       "    </tr>\n",
       "    <tr>\n",
       "      <th>...</th>\n",
       "      <td>...</td>\n",
       "      <td>...</td>\n",
       "      <td>...</td>\n",
       "    </tr>\n",
       "    <tr>\n",
       "      <th>3412</th>\n",
       "      <td>Porto Santo</td>\n",
       "      <td>3003201</td>\n",
       "      <td>106.9</td>\n",
       "    </tr>\n",
       "    <tr>\n",
       "      <th>3414</th>\n",
       "      <td>Ribeira Brava</td>\n",
       "      <td>3003107</td>\n",
       "      <td>106.6</td>\n",
       "    </tr>\n",
       "    <tr>\n",
       "      <th>3419</th>\n",
       "      <td>Santa Cruz</td>\n",
       "      <td>3003108</td>\n",
       "      <td>250.8</td>\n",
       "    </tr>\n",
       "    <tr>\n",
       "      <th>3425</th>\n",
       "      <td>Santana</td>\n",
       "      <td>3003109</td>\n",
       "      <td>51.2</td>\n",
       "    </tr>\n",
       "    <tr>\n",
       "      <th>3432</th>\n",
       "      <td>São Vicente</td>\n",
       "      <td>3003110</td>\n",
       "      <td>48.0</td>\n",
       "    </tr>\n",
       "  </tbody>\n",
       "</table>\n",
       "<p>306 rows × 3 columns</p>\n",
       "</div>"
      ],
      "text/plain": [
       "                  local   codigo  Densidade de alojamentos\n",
       "4     Arcos de Valdevez  1111601                      39.8\n",
       "41              Caminha  1111602                     105.3\n",
       "56              Melgaço  1111603                      32.9\n",
       "70               Monção  1111604                      65.6\n",
       "95     Paredes de Coura  1111605                      45.9\n",
       "...                 ...      ...                       ...\n",
       "3412        Porto Santo  3003201                     106.9\n",
       "3414      Ribeira Brava  3003107                     106.6\n",
       "3419         Santa Cruz  3003108                     250.8\n",
       "3425            Santana  3003109                      51.2\n",
       "3432        São Vicente  3003110                      48.0\n",
       "\n",
       "[306 rows x 3 columns]"
      ]
     },
     "execution_count": 63,
     "metadata": {},
     "output_type": "execute_result"
    }
   ],
   "source": [
    "df_densidade_alojamentos = processar_ficheiro(data_path+'Densidade de alojamentos.xls',0)\n",
    "df_densidade_alojamentos = filter_for_only_municipalities(df_densidade_alojamentos)\n",
    "df_densidade_alojamentos = df_densidade_alojamentos[['local','codigo','Densidade de alojamentos']]\n",
    "df_densidade_alojamentos"
   ]
  },
  {
   "cell_type": "code",
   "execution_count": 64,
   "id": "9c235982-99a1-47bc-bbdb-5f380609e4b0",
   "metadata": {},
   "outputs": [
    {
     "data": {
      "application/vnd.plotly.v1+json": {
       "config": {
        "plotlyServerURL": "https://plot.ly"
       },
       "data": [
        {
         "customdata": [
          [
           "Arcos de Valdevez",
           "1111601",
           39.8
          ],
          [
           "Caminha",
           "1111602",
           105.3
          ],
          [
           "Melgaço",
           "1111603",
           32.9
          ],
          [
           "Monção",
           "1111604",
           65.6
          ],
          [
           "Paredes de Coura",
           "1111605",
           45.9
          ],
          [
           "Ponte da Barca",
           "1111606",
           45.9
          ],
          [
           "Ponte de Lima",
           "1111607",
           71.5
          ],
          [
           "Valença",
           "1111608",
           72.8
          ],
          [
           "Viana do Castelo",
           "1111609",
           154.5
          ],
          [
           "Vila Nova de Cerveira",
           "1111610",
           57.4
          ],
          [
           "Amares",
           "1120301",
           123.6
          ],
          [
           "Barcelos",
           "1120302",
           131.7
          ],
          [
           "Braga",
           "1120303",
           483.8
          ],
          [
           "Esposende",
           "1120306",
           231.2
          ],
          [
           "Terras de Bouro",
           "1120310",
           17.6
          ],
          [
           "Vila Verde",
           "1120313",
           107.2
          ],
          [
           "Cabeceiras de Basto",
           "1190304",
           40.4
          ],
          [
           "Fafe",
           "1190307",
           120.5
          ],
          [
           "Guimarães",
           "1190308",
           290.1
          ],
          [
           "Mondim de Basto",
           "1191705",
           26.7
          ],
          [
           "Póvoa de Lanhoso",
           "1190309",
           92.8
          ],
          [
           "Vieira do Minho",
           "1190311",
           37.1
          ],
          [
           "Vila Nova de Famalicão",
           "1190312",
           286.4
          ],
          [
           "Vizela",
           "1190314",
           398.6
          ],
          [
           "Arouca",
           "11A0104",
           33.9
          ],
          [
           "Espinho",
           "11A0107",
           762
          ],
          [
           "Gondomar",
           "11A1304",
           565.4
          ],
          [
           "Maia",
           "11A1306",
           719.9
          ],
          [
           "Matosinhos",
           "11A1308",
           1318.8
          ],
          [
           "Oliveira de Azeméis",
           "11A0113",
           190.4
          ],
          [
           "Paredes",
           "11A1310",
           230.6
          ],
          [
           "Porto",
           "11A1312",
           3225.8
          ],
          [
           "Póvoa de Varzim",
           "11A1313",
           439.9
          ],
          [
           "Santa Maria da Feira",
           "11A0109",
           289.7
          ],
          [
           "Santo Tirso",
           "11A1314",
           226.7
          ],
          [
           "São João da Madeira",
           "11A0116",
           1336.1
          ],
          [
           "Trofa",
           "11A1318",
           222.2
          ],
          [
           "Vale de Cambra",
           "11A0119",
           81
          ],
          [
           "Valongo",
           "11A1315",
           556.4
          ],
          [
           "Vila do Conde",
           "11A1316",
           260.3
          ],
          [
           "Vila Nova de Gaia",
           "11A1317",
           856.5
          ],
          [
           "Boticas",
           "11B1702",
           14.8
          ],
          [
           "Chaves",
           "11B1703",
           48.5
          ],
          [
           "Montalegre",
           "11B1706",
           13.5
          ],
          [
           "Ribeira de Pena",
           "11B1709",
           23.2
          ],
          [
           "Valpaços",
           "11B1712",
           24.9
          ],
          [
           "Vila Pouca de Aguiar",
           "11B1713",
           23.5
          ],
          [
           "Amarante",
           "11C1301",
           97.7
          ],
          [
           "Baião",
           "11C1302",
           68.1
          ],
          [
           "Castelo de Paiva",
           "11C0106",
           66.5
          ],
          [
           "Celorico de Basto",
           "11C0305",
           60.3
          ],
          [
           "Cinfães",
           "11C1804",
           50.8
          ],
          [
           "Felgueiras",
           "11C1303",
           218.1
          ],
          [
           "Lousada",
           "11C1305",
           208.7
          ],
          [
           "Marco de Canaveses",
           "11C1307",
           124.2
          ],
          [
           "Paços de Ferreira",
           "11C1309",
           315.5
          ],
          [
           "Penafiel",
           "11C1311",
           150.2
          ],
          [
           "Resende",
           "11C1813",
           62.5
          ],
          [
           "Alijó",
           "11D1701",
           29.2
          ],
          [
           "Armamar",
           "11D1801",
           41.4
          ],
          [
           "Carrazeda de Ansiães",
           "11D0403",
           19.2
          ],
          [
           "Freixo de Espada à Cinta",
           "11D0404",
           13.2
          ],
          [
           "Lamego",
           "11D1805",
           100.9
          ],
          [
           "Mesão Frio",
           "11D1704",
           89.8
          ],
          [
           "Moimenta da Beira",
           "11D1807",
           36
          ],
          [
           "Murça",
           "11D1707",
           22.4
          ],
          [
           "Penedono",
           "11D1812",
           20.8
          ],
          [
           "Peso da Régua",
           "11D1708",
           98.8
          ],
          [
           "Sabrosa",
           "11D1710",
           30.7
          ],
          [
           "Santa Marta de Penaguião",
           "11D1711",
           67.3
          ],
          [
           "São João da Pesqueira",
           "11D1815",
           21.2
          ],
          [
           "Sernancelhe",
           "11D1818",
           20.3
          ],
          [
           "Tabuaço",
           "11D1819",
           32.4
          ],
          [
           "Tarouca",
           "11D1820",
           62.4
          ],
          [
           "Torre de Moncorvo",
           "11D0409",
           13.8
          ],
          [
           "Vila Nova de Foz Côa",
           "11D0914",
           16.4
          ],
          [
           "Vila Real",
           "11D1714",
           81.5
          ],
          [
           "Alfândega da Fé",
           "11E0401",
           12.1
          ],
          [
           "Bragança",
           "11E0402",
           21.9
          ],
          [
           "Macedo de Cavaleiros",
           "11E0405",
           16.9
          ],
          [
           "Miranda do Douro",
           "11E0406",
           11.8
          ],
          [
           "Mirandela",
           "11E0407",
           23.4
          ],
          [
           "Mogadouro",
           "11E0408",
           9.6
          ],
          [
           "Vila Flor",
           "11E0410",
           20.1
          ],
          [
           "Vimioso",
           "11E0411",
           9.9
          ],
          [
           "Vinhais",
           "11E0412",
           10.4
          ],
          [
           "Alcobaça",
           "16B1001",
           87
          ],
          [
           "Alenquer",
           "16B1101",
           77.8
          ],
          [
           "Arruda dos Vinhos",
           "16B1102",
           86.1
          ],
          [
           "Bombarral",
           "16B1005",
           88.6
          ],
          [
           "Cadaval",
           "16B1104",
           50.5
          ],
          [
           "Caldas da Rainha",
           "16B1006",
           123.8
          ],
          [
           "Lourinhã",
           "16B1108",
           120.9
          ],
          [
           "Nazaré",
           "16B1011",
           166.7
          ],
          [
           "Óbidos",
           "16B1012",
           65.2
          ],
          [
           "Peniche",
           "16B1014",
           278.3
          ],
          [
           "Sobral de Monte Agraço",
           "16B1112",
           105.1
          ],
          [
           "Torres Vedras",
           "16B1113",
           114
          ],
          [
           "Águeda",
           "16D0101",
           69
          ],
          [
           "Albergaria-a-Velha",
           "16D0102",
           79
          ],
          [
           "Anadia",
           "16D0103",
           69.2
          ],
          [
           "Aveiro",
           "16D0105",
           214.3
          ],
          [
           "Estarreja",
           "16D0108",
           120.6
          ],
          [
           "Ílhavo",
           "16D0110",
           307.8
          ],
          [
           "Murtosa",
           "16D0112",
           106.9
          ],
          [
           "Oliveira do Bairro",
           "16D0114",
           131.7
          ],
          [
           "Ovar",
           "16D0115",
           193.7
          ],
          [
           "Sever do Vouga",
           "16D0117",
           54.8
          ],
          [
           "Vagos",
           "16D0118",
           80.9
          ],
          [
           "Arganil",
           "16E0601",
           32.6
          ],
          [
           "Cantanhede",
           "16E0602",
           53.8
          ],
          [
           "Coimbra",
           "16E0603",
           256.8
          ],
          [
           "Condeixa-a-Nova",
           "16E0604",
           60.6
          ],
          [
           "Figueira da Foz",
           "16E0605",
           116.4
          ],
          [
           "Góis",
           "16E0606",
           19.2
          ],
          [
           "Lousã",
           "16E0607",
           75.6
          ],
          [
           "Mealhada",
           "16E0111",
           94.1
          ],
          [
           "Mira",
           "16E0608",
           71.4
          ],
          [
           "Miranda do Corvo",
           "16E0609",
           57.6
          ],
          [
           "Montemor-o-Velho",
           "16E0610",
           58.2
          ],
          [
           "Mortágua",
           "16E1808",
           24.7
          ],
          [
           "Oliveira do Hospital",
           "16E0611",
           59.5
          ],
          [
           "Pampilhosa da Serra",
           "16E0612",
           14.1
          ],
          [
           "Penacova",
           "16E0613",
           38.7
          ],
          [
           "Penela",
           "16E0614",
           32.5
          ],
          [
           "Soure",
           "16E0615",
           42.5
          ],
          [
           "Tábua",
           "16E0616",
           43.6
          ],
          [
           "Vila Nova de Poiares",
           "16E0617",
           52.6
          ],
          [
           "Alvaiázere",
           "16F1002",
           35.7
          ],
          [
           "Ansião",
           "16F1003",
           48.5
          ],
          [
           "Batalha",
           "16F1004",
           82
          ],
          [
           "Castanheira de Pêra",
           "16F1007",
           40.3
          ],
          [
           "Figueiró dos Vinhos",
           "16F1008",
           28.3
          ],
          [
           "Leiria",
           "16F1009",
           124.6
          ],
          [
           "Marinha Grande",
           "16F1010",
           117.8
          ],
          [
           "Pedrógão Grande",
           "16F1013",
           27.7
          ],
          [
           "Pombal",
           "16F1015",
           54.2
          ],
          [
           "Porto de Mós",
           "16F1016",
           50.5
          ],
          [
           "Aguiar da Beira",
           "16G0901",
           24.4
          ],
          [
           "Carregal do Sal",
           "16G1802",
           57.6
          ],
          [
           "Castro Daire",
           "16G1803",
           34.1
          ],
          [
           "Mangualde",
           "16G1806",
           58.4
          ],
          [
           "Nelas",
           "16G1809",
           70.6
          ],
          [
           "Oliveira de Frades",
           "16G1810",
           41.2
          ],
          [
           "Penalva do Castelo",
           "16G1811",
           42.1
          ],
          [
           "Santa Comba Dão",
           "16G1814",
           64
          ],
          [
           "São Pedro do Sul",
           "16G1816",
           33.6
          ],
          [
           "Sátão",
           "16G1817",
           46.9
          ],
          [
           "Tondela",
           "16G1821",
           47.4
          ],
          [
           "Vila Nova de Paiva",
           "16G1822",
           26.5
          ],
          [
           "Viseu",
           "16G1823",
           112
          ],
          [
           "Vouzela",
           "16G1824",
           34.7
          ],
          [
           "Castelo Branco",
           "16H0502",
           27.6
          ],
          [
           "Idanha-a-Nova",
           "16H0505",
           8.7
          ],
          [
           "Oleiros",
           "16H0506",
           10.7
          ],
          [
           "Penamacor",
           "16H0507",
           12.2
          ],
          [
           "Proença-a-Nova",
           "16H0508",
           16.6
          ],
          [
           "Vila Velha de Ródão",
           "16H0511",
           10.8
          ],
          [
           "Abrantes",
           "16I1401",
           35.2
          ],
          [
           "Alcanena",
           "16I1402",
           63.1
          ],
          [
           "Constância",
           "16I1408",
           27.8
          ],
          [
           "Entroncamento",
           "16I1410",
           794.7
          ],
          [
           "Ferreira do Zêzere",
           "16I1411",
           39.5
          ],
          [
           "Mação",
           "16I1413",
           16.8
          ],
          [
           "Ourém",
           "16I1421",
           71.9
          ],
          [
           "Sardoal",
           "16I1417",
           31.4
          ],
          [
           "Sertã",
           "16I0509",
           27
          ],
          [
           "Tomar",
           "16I1418",
           74.4
          ],
          [
           "Torres Novas",
           "16I1419",
           77.8
          ],
          [
           "Vila de Rei",
           "16I0510",
           15.9
          ],
          [
           "Vila Nova da Barquinha",
           "16I1420",
           82.9
          ],
          [
           "Almeida",
           "16J0902",
           13
          ],
          [
           "Belmonte",
           "16J0501",
           42.8
          ],
          [
           "Celorico da Beira",
           "16J0903",
           25.6
          ],
          [
           "Covilhã",
           "16J0503",
           64.2
          ],
          [
           "Figueira de Castelo Rodrigo",
           "16J0904",
           10.8
          ],
          [
           "Fornos de Algodres",
           "16J0905",
           30.3
          ],
          [
           "Fundão",
           "16J0504",
           32.2
          ],
          [
           "Gouveia",
           "16J0906",
           37.3
          ],
          [
           "Guarda",
           "16J0907",
           40
          ],
          [
           "Manteigas",
           "16J0908",
           22.6
          ],
          [
           "Mêda",
           "16J0909",
           17.7
          ],
          [
           "Pinhel",
           "16J0910",
           16.7
          ],
          [
           "Sabugal",
           "16J0911",
           19
          ],
          [
           "Seia",
           "16J0912",
           40.5
          ],
          [
           "Trancoso",
           "16J0913",
           23.6
          ],
          [
           "Alcochete",
           "1701502",
           71.7
          ],
          [
           "Almada",
           "1701503",
           1452.8
          ],
          [
           "Amadora",
           "1701115",
           3666.5
          ],
          [
           "Barreiro",
           "1701504",
           1149.1
          ],
          [
           "Cascais",
           "1701105",
           1136.4
          ],
          [
           "Lisboa",
           "1701106",
           3200.5
          ],
          [
           "Loures",
           "1701107",
           586.3
          ],
          [
           "Mafra",
           "1701109",
           154.2
          ],
          [
           "Moita",
           "1701506",
           626.5
          ],
          [
           "Montijo",
           "1701507",
           80.2
          ],
          [
           "Odivelas",
           "1701116",
           2710.8
          ],
          [
           "Oeiras",
           "1701110",
           1893.2
          ],
          [
           "Palmela",
           "1701508",
           74.8
          ],
          [
           "Seixal",
           "1701510",
           869.3
          ],
          [
           "Sesimbra",
           "1701511",
           169.6
          ],
          [
           "Setúbal",
           "1701512",
           274.9
          ],
          [
           "Sintra",
           "1701111",
           577.2
          ],
          [
           "Vila Franca de Xira",
           "1701114",
           205.3
          ],
          [
           "Alcácer do Sal",
           "1811501",
           5.9
          ],
          [
           "Grândola",
           "1811505",
           15.2
          ],
          [
           "Odemira",
           "1810211",
           13
          ],
          [
           "Santiago do Cacém",
           "1811509",
           17.5
          ],
          [
           "Sines",
           "1811513",
           42.7
          ],
          [
           "Aljustrel",
           "1840201",
           12.9
          ],
          [
           "Almodôvar",
           "1840202",
           7.2
          ],
          [
           "Alvito",
           "1840203",
           6.6
          ],
          [
           "Barrancos",
           "1840204",
           7.6
          ],
          [
           "Beja",
           "1840205",
           17.7
          ],
          [
           "Castro Verde",
           "1840206",
           8.6
          ],
          [
           "Cuba",
           "1840207",
           17.2
          ],
          [
           "Ferreira do Alentejo",
           "1840208",
           8.2
          ],
          [
           "Mértola",
           "1840209",
           6.7
          ],
          [
           "Moura",
           "1840210",
           10.9
          ],
          [
           "Ourique",
           "1840212",
           6.5
          ],
          [
           "Serpa",
           "1840213",
           9.5
          ],
          [
           "Vidigueira",
           "1840214",
           12.3
          ],
          [
           "Almeirim",
           "1851403",
           54.7
          ],
          [
           "Alpiarça",
           "1851404",
           42.1
          ],
          [
           "Azambuja",
           "1851103",
           45.7
          ],
          [
           "Benavente",
           "1851405",
           29.1
          ],
          [
           "Cartaxo",
           "1851406",
           83.8
          ],
          [
           "Chamusca",
           "1851407",
           8.1
          ],
          [
           "Coruche",
           "1851409",
           10.8
          ],
          [
           "Golegã",
           "1851412",
           41.4
          ],
          [
           "Rio Maior",
           "1851414",
           44.9
          ],
          [
           "Salvaterra de Magos",
           "1851415",
           48.9
          ],
          [
           "Santarém",
           "1851416",
           63.1
          ],
          [
           "Alter do Chão",
           "1861201",
           8.3
          ],
          [
           "Arronches",
           "1861202",
           8.1
          ],
          [
           "Avis",
           "1861203",
           5.9
          ],
          [
           "Campo Maior",
           "1861204",
           20.8
          ],
          [
           "Castelo de Vide",
           "1861205",
           11
          ],
          [
           "Crato",
           "1861206",
           8.1
          ],
          [
           "Elvas",
           "1861207",
           21.3
          ],
          [
           "Fronteira",
           "1861208",
           10.3
          ],
          [
           "Gavião",
           "1861209",
           12
          ],
          [
           "Marvão",
           "1861210",
           19.2
          ],
          [
           "Monforte",
           "1861211",
           5.7
          ],
          [
           "Nisa",
           "1861212",
           12.4
          ],
          [
           "Ponte de Sor",
           "1861213",
           12.5
          ],
          [
           "Portalegre",
           "1861214",
           32.8
          ],
          [
           "Sousel",
           "1861215",
           13.2
          ],
          [
           "Alandroal",
           "1870701",
           8.2
          ],
          [
           "Arraiolos",
           "1870702",
           7
          ],
          [
           "Borba",
           "1870703",
           29
          ],
          [
           "Estremoz",
           "1870704",
           18.3
          ],
          [
           "Évora",
           "1870705",
           22.8
          ],
          [
           "Montemor-o-Novo",
           "1870706",
           8.4
          ],
          [
           "Mora",
           "1870707",
           8.6
          ],
          [
           "Mourão",
           "1870708",
           7
          ],
          [
           "Portel",
           "1870709",
           7.1
          ],
          [
           "Redondo",
           "1870710",
           12.4
          ],
          [
           "Reguengos de Monsaraz",
           "1870711",
           14.2
          ],
          [
           "Vendas Novas",
           "1870712",
           28.9
          ],
          [
           "Viana do Alentejo",
           "1870713",
           9.1
          ],
          [
           "Vila Viçosa",
           "1870714",
           24.8
          ],
          [
           "Albufeira",
           "1500801",
           320.8
          ],
          [
           "Alcoutim",
           "1500802",
           6.3
          ],
          [
           "Aljezur",
           "1500803",
           18.4
          ],
          [
           "Castro Marim",
           "1500804",
           28.4
          ],
          [
           "Faro",
           "1500805",
           191.2
          ],
          [
           "Lagoa",
           "2004201",
           239.8
          ],
          [
           "Lagos",
           "1500807",
           131.5
          ],
          [
           "Loulé",
           "1500808",
           87.9
          ],
          [
           "Monchique",
           "1500809",
           11.9
          ],
          [
           "Olhão",
           "1500810",
           206.2
          ],
          [
           "Portimão",
           "1500811",
           271.5
          ],
          [
           "São Brás de Alportel",
           "1500812",
           44.9
          ],
          [
           "Silves",
           "1500813",
           49.4
          ],
          [
           "Tavira",
           "1500814",
           42.2
          ],
          [
           "Vila do Bispo",
           "1500815",
           33.5
          ],
          [
           "Vila Real de Santo António",
           "1500816",
           339.3
          ],
          [
           "Angra do Heroísmo",
           "2004301",
           65.5
          ],
          [
           "Calheta",
           "3003101",
           19.2
          ],
          [
           "Corvo",
           "2004901",
           12
          ],
          [
           "Horta",
           "2004701",
           42.9
          ],
          [
           "Lajes das Flores",
           "2004801",
           14.8
          ],
          [
           "Lajes do Pico",
           "2004601",
           20.9
          ],
          [
           "Madalena",
           "2004602",
           24.7
          ],
          [
           "Nordeste",
           "2004202",
           25.9
          ],
          [
           "Ponta Delgada",
           "2004203",
           125.3
          ],
          [
           "Povoação",
           "2004204",
           33.7
          ],
          [
           "Ribeira Grande",
           "2004205",
           65.2
          ],
          [
           "Santa Cruz da Graciosa",
           "2004401",
           47.7
          ],
          [
           "Santa Cruz das Flores",
           "2004802",
           16.8
          ],
          [
           "São Roque do Pico",
           "2004603",
           16.2
          ],
          [
           "Velas",
           "2004502",
           27.8
          ],
          [
           "Vila da Praia da Vitória",
           "2004302",
           61.2
          ],
          [
           "Vila do Porto",
           "2004101",
           37.7
          ],
          [
           "Vila Franca do Campo",
           "2004206",
           54.8
          ],
          [
           "Câmara de Lobos",
           "3003102",
           263.6
          ],
          [
           "Funchal",
           "3003103",
           686.2
          ],
          [
           "Machico",
           "3003104",
           146
          ],
          [
           "Ponta do Sol",
           "3003105",
           105.7
          ],
          [
           "Porto Moniz",
           "3003106",
           24.4
          ],
          [
           "Porto Santo",
           "3003201",
           106.9
          ],
          [
           "Ribeira Brava",
           "3003107",
           106.6
          ],
          [
           "Santa Cruz",
           "3003108",
           250.8
          ],
          [
           "Santana",
           "3003109",
           51.2
          ],
          [
           "São Vicente",
           "3003110",
           48
          ]
         ],
         "hovertemplate": "valor=%{x}<br>y=%{y}<br>local=%{customdata[0]}<br>codigo=%{customdata[1]}<br>Densidade de alojamentos=%{customdata[2]}<br>Densidade_alojamentos=%{marker.color}<extra></extra>",
         "legendgroup": "",
         "marker": {
          "color": {
           "bdata": "AAAAAAAAAAAAAAAAAAAAAAAAAAAAAAAAAAEBAQEAAAIAAAABAAABAAEAAAAAAAAAAAAAAAAAAAAAAAAAAAAAAAAAAAAAAAAAAAAAAAAAAAAAAAAAAAAAAAAAAAAAAAAAAAAAAAAAAAAAAAAAAAAAAAAAAAAAAAAAAAAAAAAAAAAAAAAAAAAAAAAAAAAAAAAAAAAAAAAAAAAAAAAAAAAAAAABAAAAAAAAAAAAAAAAAAAAAAAAAAAAAAAAAAECAQECAQABAAIBAAEAAAEAAAAAAAAAAAAAAAAAAAAAAAAAAAAAAAAAAAAAAAAAAAAAAAAAAAAAAAAAAAAAAAAAAAAAAAAAAAAAAAAAAAAAAAAAAAAAAAAAAAAAAAAAAAAAAAAAAAAAAAAAAAAAAQAAAAAAAAAA",
           "dtype": "i1"
          },
          "coloraxis": "coloraxis",
          "size": 10,
          "symbol": "circle"
         },
         "mode": "markers",
         "name": "",
         "orientation": "v",
         "showlegend": false,
         "type": "scatter",
         "x": {
          "bdata": "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",
          "dtype": "f8"
         },
         "xaxis": "x",
         "y": {
          "bdata": "AAAAAAAAAAAAAAAAAAAAAAAAAAAAAAAAAAAAAAAAAAAAAAAAAAAAAAAAAAAAAAAAAAAAAAAAAAAAAAAAAAAAAAAAAAAAAAAAAAAAAAAAAAAAAAAAAAAAAAAAAAAAAAAAAAAAAAAAAAAAAAAAAAAAAAAAAAAAAAAAAAAAAAAAAAAAAAAAAAAAAAAAAAAAAAAAAAAAAAAAAAAAAAAAAAAAAAAAAAAAAAAAAAAAAAAAAAAAAAAAAAAAAAAAAAAAAAAAAAAAAAAAAAAAAAAAAAAAAAAAAAAAAAAAAAAAAAAAAAAAAAAAAAAAAAAAAAAAAAAAAAAAAAAAAAAAAAAAAAAAAAAAAAAAAAAAAAAAAAAAAAAAAAAAAAAAAAAAAAAAAAAAAAAAAAAAAAAAAAAAAAAAAAAA",
          "dtype": "i1"
         },
         "yaxis": "y"
        }
       ],
       "layout": {
        "coloraxis": {
         "colorbar": {
          "title": {
           "text": "Densidade_alojamentos"
          }
         },
         "colorscale": [
          [
           0,
           "#440154"
          ],
          [
           0.1111111111111111,
           "#482878"
          ],
          [
           0.2222222222222222,
           "#3e4989"
          ],
          [
           0.3333333333333333,
           "#31688e"
          ],
          [
           0.4444444444444444,
           "#26828e"
          ],
          [
           0.5555555555555556,
           "#1f9e89"
          ],
          [
           0.6666666666666666,
           "#35b779"
          ],
          [
           0.7777777777777778,
           "#6ece58"
          ],
          [
           0.8888888888888888,
           "#b5de2b"
          ],
          [
           1,
           "#fde725"
          ]
         ]
        },
        "height": 300,
        "legend": {
         "tracegroupgap": 0
        },
        "margin": {
         "t": 60
        },
        "template": {
         "data": {
          "bar": [
           {
            "error_x": {
             "color": "#2a3f5f"
            },
            "error_y": {
             "color": "#2a3f5f"
            },
            "marker": {
             "line": {
              "color": "#E5ECF6",
              "width": 0.5
             },
             "pattern": {
              "fillmode": "overlay",
              "size": 10,
              "solidity": 0.2
             }
            },
            "type": "bar"
           }
          ],
          "barpolar": [
           {
            "marker": {
             "line": {
              "color": "#E5ECF6",
              "width": 0.5
             },
             "pattern": {
              "fillmode": "overlay",
              "size": 10,
              "solidity": 0.2
             }
            },
            "type": "barpolar"
           }
          ],
          "carpet": [
           {
            "aaxis": {
             "endlinecolor": "#2a3f5f",
             "gridcolor": "white",
             "linecolor": "white",
             "minorgridcolor": "white",
             "startlinecolor": "#2a3f5f"
            },
            "baxis": {
             "endlinecolor": "#2a3f5f",
             "gridcolor": "white",
             "linecolor": "white",
             "minorgridcolor": "white",
             "startlinecolor": "#2a3f5f"
            },
            "type": "carpet"
           }
          ],
          "choropleth": [
           {
            "colorbar": {
             "outlinewidth": 0,
             "ticks": ""
            },
            "type": "choropleth"
           }
          ],
          "contour": [
           {
            "colorbar": {
             "outlinewidth": 0,
             "ticks": ""
            },
            "colorscale": [
             [
              0,
              "#0d0887"
             ],
             [
              0.1111111111111111,
              "#46039f"
             ],
             [
              0.2222222222222222,
              "#7201a8"
             ],
             [
              0.3333333333333333,
              "#9c179e"
             ],
             [
              0.4444444444444444,
              "#bd3786"
             ],
             [
              0.5555555555555556,
              "#d8576b"
             ],
             [
              0.6666666666666666,
              "#ed7953"
             ],
             [
              0.7777777777777778,
              "#fb9f3a"
             ],
             [
              0.8888888888888888,
              "#fdca26"
             ],
             [
              1,
              "#f0f921"
             ]
            ],
            "type": "contour"
           }
          ],
          "contourcarpet": [
           {
            "colorbar": {
             "outlinewidth": 0,
             "ticks": ""
            },
            "type": "contourcarpet"
           }
          ],
          "heatmap": [
           {
            "colorbar": {
             "outlinewidth": 0,
             "ticks": ""
            },
            "colorscale": [
             [
              0,
              "#0d0887"
             ],
             [
              0.1111111111111111,
              "#46039f"
             ],
             [
              0.2222222222222222,
              "#7201a8"
             ],
             [
              0.3333333333333333,
              "#9c179e"
             ],
             [
              0.4444444444444444,
              "#bd3786"
             ],
             [
              0.5555555555555556,
              "#d8576b"
             ],
             [
              0.6666666666666666,
              "#ed7953"
             ],
             [
              0.7777777777777778,
              "#fb9f3a"
             ],
             [
              0.8888888888888888,
              "#fdca26"
             ],
             [
              1,
              "#f0f921"
             ]
            ],
            "type": "heatmap"
           }
          ],
          "histogram": [
           {
            "marker": {
             "pattern": {
              "fillmode": "overlay",
              "size": 10,
              "solidity": 0.2
             }
            },
            "type": "histogram"
           }
          ],
          "histogram2d": [
           {
            "colorbar": {
             "outlinewidth": 0,
             "ticks": ""
            },
            "colorscale": [
             [
              0,
              "#0d0887"
             ],
             [
              0.1111111111111111,
              "#46039f"
             ],
             [
              0.2222222222222222,
              "#7201a8"
             ],
             [
              0.3333333333333333,
              "#9c179e"
             ],
             [
              0.4444444444444444,
              "#bd3786"
             ],
             [
              0.5555555555555556,
              "#d8576b"
             ],
             [
              0.6666666666666666,
              "#ed7953"
             ],
             [
              0.7777777777777778,
              "#fb9f3a"
             ],
             [
              0.8888888888888888,
              "#fdca26"
             ],
             [
              1,
              "#f0f921"
             ]
            ],
            "type": "histogram2d"
           }
          ],
          "histogram2dcontour": [
           {
            "colorbar": {
             "outlinewidth": 0,
             "ticks": ""
            },
            "colorscale": [
             [
              0,
              "#0d0887"
             ],
             [
              0.1111111111111111,
              "#46039f"
             ],
             [
              0.2222222222222222,
              "#7201a8"
             ],
             [
              0.3333333333333333,
              "#9c179e"
             ],
             [
              0.4444444444444444,
              "#bd3786"
             ],
             [
              0.5555555555555556,
              "#d8576b"
             ],
             [
              0.6666666666666666,
              "#ed7953"
             ],
             [
              0.7777777777777778,
              "#fb9f3a"
             ],
             [
              0.8888888888888888,
              "#fdca26"
             ],
             [
              1,
              "#f0f921"
             ]
            ],
            "type": "histogram2dcontour"
           }
          ],
          "mesh3d": [
           {
            "colorbar": {
             "outlinewidth": 0,
             "ticks": ""
            },
            "type": "mesh3d"
           }
          ],
          "parcoords": [
           {
            "line": {
             "colorbar": {
              "outlinewidth": 0,
              "ticks": ""
             }
            },
            "type": "parcoords"
           }
          ],
          "pie": [
           {
            "automargin": true,
            "type": "pie"
           }
          ],
          "scatter": [
           {
            "fillpattern": {
             "fillmode": "overlay",
             "size": 10,
             "solidity": 0.2
            },
            "type": "scatter"
           }
          ],
          "scatter3d": [
           {
            "line": {
             "colorbar": {
              "outlinewidth": 0,
              "ticks": ""
             }
            },
            "marker": {
             "colorbar": {
              "outlinewidth": 0,
              "ticks": ""
             }
            },
            "type": "scatter3d"
           }
          ],
          "scattercarpet": [
           {
            "marker": {
             "colorbar": {
              "outlinewidth": 0,
              "ticks": ""
             }
            },
            "type": "scattercarpet"
           }
          ],
          "scattergeo": [
           {
            "marker": {
             "colorbar": {
              "outlinewidth": 0,
              "ticks": ""
             }
            },
            "type": "scattergeo"
           }
          ],
          "scattergl": [
           {
            "marker": {
             "colorbar": {
              "outlinewidth": 0,
              "ticks": ""
             }
            },
            "type": "scattergl"
           }
          ],
          "scattermap": [
           {
            "marker": {
             "colorbar": {
              "outlinewidth": 0,
              "ticks": ""
             }
            },
            "type": "scattermap"
           }
          ],
          "scattermapbox": [
           {
            "marker": {
             "colorbar": {
              "outlinewidth": 0,
              "ticks": ""
             }
            },
            "type": "scattermapbox"
           }
          ],
          "scatterpolar": [
           {
            "marker": {
             "colorbar": {
              "outlinewidth": 0,
              "ticks": ""
             }
            },
            "type": "scatterpolar"
           }
          ],
          "scatterpolargl": [
           {
            "marker": {
             "colorbar": {
              "outlinewidth": 0,
              "ticks": ""
             }
            },
            "type": "scatterpolargl"
           }
          ],
          "scatterternary": [
           {
            "marker": {
             "colorbar": {
              "outlinewidth": 0,
              "ticks": ""
             }
            },
            "type": "scatterternary"
           }
          ],
          "surface": [
           {
            "colorbar": {
             "outlinewidth": 0,
             "ticks": ""
            },
            "colorscale": [
             [
              0,
              "#0d0887"
             ],
             [
              0.1111111111111111,
              "#46039f"
             ],
             [
              0.2222222222222222,
              "#7201a8"
             ],
             [
              0.3333333333333333,
              "#9c179e"
             ],
             [
              0.4444444444444444,
              "#bd3786"
             ],
             [
              0.5555555555555556,
              "#d8576b"
             ],
             [
              0.6666666666666666,
              "#ed7953"
             ],
             [
              0.7777777777777778,
              "#fb9f3a"
             ],
             [
              0.8888888888888888,
              "#fdca26"
             ],
             [
              1,
              "#f0f921"
             ]
            ],
            "type": "surface"
           }
          ],
          "table": [
           {
            "cells": {
             "fill": {
              "color": "#EBF0F8"
             },
             "line": {
              "color": "white"
             }
            },
            "header": {
             "fill": {
              "color": "#C8D4E3"
             },
             "line": {
              "color": "white"
             }
            },
            "type": "table"
           }
          ]
         },
         "layout": {
          "annotationdefaults": {
           "arrowcolor": "#2a3f5f",
           "arrowhead": 0,
           "arrowwidth": 1
          },
          "autotypenumbers": "strict",
          "coloraxis": {
           "colorbar": {
            "outlinewidth": 0,
            "ticks": ""
           }
          },
          "colorscale": {
           "diverging": [
            [
             0,
             "#8e0152"
            ],
            [
             0.1,
             "#c51b7d"
            ],
            [
             0.2,
             "#de77ae"
            ],
            [
             0.3,
             "#f1b6da"
            ],
            [
             0.4,
             "#fde0ef"
            ],
            [
             0.5,
             "#f7f7f7"
            ],
            [
             0.6,
             "#e6f5d0"
            ],
            [
             0.7,
             "#b8e186"
            ],
            [
             0.8,
             "#7fbc41"
            ],
            [
             0.9,
             "#4d9221"
            ],
            [
             1,
             "#276419"
            ]
           ],
           "sequential": [
            [
             0,
             "#0d0887"
            ],
            [
             0.1111111111111111,
             "#46039f"
            ],
            [
             0.2222222222222222,
             "#7201a8"
            ],
            [
             0.3333333333333333,
             "#9c179e"
            ],
            [
             0.4444444444444444,
             "#bd3786"
            ],
            [
             0.5555555555555556,
             "#d8576b"
            ],
            [
             0.6666666666666666,
             "#ed7953"
            ],
            [
             0.7777777777777778,
             "#fb9f3a"
            ],
            [
             0.8888888888888888,
             "#fdca26"
            ],
            [
             1,
             "#f0f921"
            ]
           ],
           "sequentialminus": [
            [
             0,
             "#0d0887"
            ],
            [
             0.1111111111111111,
             "#46039f"
            ],
            [
             0.2222222222222222,
             "#7201a8"
            ],
            [
             0.3333333333333333,
             "#9c179e"
            ],
            [
             0.4444444444444444,
             "#bd3786"
            ],
            [
             0.5555555555555556,
             "#d8576b"
            ],
            [
             0.6666666666666666,
             "#ed7953"
            ],
            [
             0.7777777777777778,
             "#fb9f3a"
            ],
            [
             0.8888888888888888,
             "#fdca26"
            ],
            [
             1,
             "#f0f921"
            ]
           ]
          },
          "colorway": [
           "#636efa",
           "#EF553B",
           "#00cc96",
           "#ab63fa",
           "#FFA15A",
           "#19d3f3",
           "#FF6692",
           "#B6E880",
           "#FF97FF",
           "#FECB52"
          ],
          "font": {
           "color": "#2a3f5f"
          },
          "geo": {
           "bgcolor": "white",
           "lakecolor": "white",
           "landcolor": "#E5ECF6",
           "showlakes": true,
           "showland": true,
           "subunitcolor": "white"
          },
          "hoverlabel": {
           "align": "left"
          },
          "hovermode": "closest",
          "mapbox": {
           "style": "light"
          },
          "paper_bgcolor": "white",
          "plot_bgcolor": "#E5ECF6",
          "polar": {
           "angularaxis": {
            "gridcolor": "white",
            "linecolor": "white",
            "ticks": ""
           },
           "bgcolor": "#E5ECF6",
           "radialaxis": {
            "gridcolor": "white",
            "linecolor": "white",
            "ticks": ""
           }
          },
          "scene": {
           "xaxis": {
            "backgroundcolor": "#E5ECF6",
            "gridcolor": "white",
            "gridwidth": 2,
            "linecolor": "white",
            "showbackground": true,
            "ticks": "",
            "zerolinecolor": "white"
           },
           "yaxis": {
            "backgroundcolor": "#E5ECF6",
            "gridcolor": "white",
            "gridwidth": 2,
            "linecolor": "white",
            "showbackground": true,
            "ticks": "",
            "zerolinecolor": "white"
           },
           "zaxis": {
            "backgroundcolor": "#E5ECF6",
            "gridcolor": "white",
            "gridwidth": 2,
            "linecolor": "white",
            "showbackground": true,
            "ticks": "",
            "zerolinecolor": "white"
           }
          },
          "shapedefaults": {
           "line": {
            "color": "#2a3f5f"
           }
          },
          "ternary": {
           "aaxis": {
            "gridcolor": "white",
            "linecolor": "white",
            "ticks": ""
           },
           "baxis": {
            "gridcolor": "white",
            "linecolor": "white",
            "ticks": ""
           },
           "bgcolor": "#E5ECF6",
           "caxis": {
            "gridcolor": "white",
            "linecolor": "white",
            "ticks": ""
           }
          },
          "title": {
           "x": 0.05
          },
          "xaxis": {
           "automargin": true,
           "gridcolor": "white",
           "linecolor": "white",
           "ticks": "",
           "title": {
            "standoff": 15
           },
           "zerolinecolor": "white",
           "zerolinewidth": 2
          },
          "yaxis": {
           "automargin": true,
           "gridcolor": "white",
           "linecolor": "white",
           "ticks": "",
           "title": {
            "standoff": 15
           },
           "zerolinecolor": "white",
           "zerolinewidth": 2
          }
         }
        },
        "xaxis": {
         "anchor": "y",
         "domain": [
          0,
          1
         ],
         "title": {
          "text": "Densidade de alojamentos"
         }
        },
        "yaxis": {
         "anchor": "x",
         "domain": [
          0,
          1
         ],
         "showgrid": false,
         "showticklabels": false,
         "title": {
          "text": "y"
         }
        }
       }
      }
     },
     "metadata": {},
     "output_type": "display_data"
    },
    {
     "name": "stdout",
     "output_type": "stream",
     "text": [
      "Densidade_alojamentos\n",
      "0    285\n",
      "1     17\n",
      "2      4\n",
      "Name: count, dtype: int64\n",
      "File saved to csv_files/7_Densidade Alojamentos.csv\n"
     ]
    }
   ],
   "source": [
    "clustered_df = aplicar_kmeans(df_densidade_alojamentos, 3, nome_cluster='Densidade_alojamentos')\n",
    "save_clustered_df_to_csv(clustered_df, \"csv_files/\", \"7_Densidade Alojamentos.csv\")"
   ]
  },
  {
   "cell_type": "markdown",
   "id": "d2889666-b7e2-455f-8ae4-2edd128c27b9",
   "metadata": {},
   "source": [
    "**Edifícios concluídos**"
   ]
  },
  {
   "cell_type": "code",
   "execution_count": 65,
   "id": "80ac4532-5f83-4982-a834-7ed34bb1cc3d",
   "metadata": {},
   "outputs": [
    {
     "data": {
      "text/html": [
       "<div>\n",
       "<style scoped>\n",
       "    .dataframe tbody tr th:only-of-type {\n",
       "        vertical-align: middle;\n",
       "    }\n",
       "\n",
       "    .dataframe tbody tr th {\n",
       "        vertical-align: top;\n",
       "    }\n",
       "\n",
       "    .dataframe thead th {\n",
       "        text-align: right;\n",
       "    }\n",
       "</style>\n",
       "<table border=\"1\" class=\"dataframe\">\n",
       "  <thead>\n",
       "    <tr style=\"text-align: right;\">\n",
       "      <th></th>\n",
       "      <th>local</th>\n",
       "      <th>codigo</th>\n",
       "      <th>Total</th>\n",
       "    </tr>\n",
       "  </thead>\n",
       "  <tbody>\n",
       "    <tr>\n",
       "      <th>4</th>\n",
       "      <td>Arcos de Valdevez</td>\n",
       "      <td>1111601</td>\n",
       "      <td>100.0</td>\n",
       "    </tr>\n",
       "    <tr>\n",
       "      <th>5</th>\n",
       "      <td>Caminha</td>\n",
       "      <td>1111602</td>\n",
       "      <td>33.0</td>\n",
       "    </tr>\n",
       "    <tr>\n",
       "      <th>6</th>\n",
       "      <td>Melgaço</td>\n",
       "      <td>1111603</td>\n",
       "      <td>12.0</td>\n",
       "    </tr>\n",
       "    <tr>\n",
       "      <th>7</th>\n",
       "      <td>Monção</td>\n",
       "      <td>1111604</td>\n",
       "      <td>74.0</td>\n",
       "    </tr>\n",
       "    <tr>\n",
       "      <th>8</th>\n",
       "      <td>Paredes de Coura</td>\n",
       "      <td>1111605</td>\n",
       "      <td>16.0</td>\n",
       "    </tr>\n",
       "    <tr>\n",
       "      <th>...</th>\n",
       "      <td>...</td>\n",
       "      <td>...</td>\n",
       "      <td>...</td>\n",
       "    </tr>\n",
       "    <tr>\n",
       "      <th>339</th>\n",
       "      <td>Porto Santo</td>\n",
       "      <td>3003201</td>\n",
       "      <td>15.0</td>\n",
       "    </tr>\n",
       "    <tr>\n",
       "      <th>340</th>\n",
       "      <td>Ribeira Brava</td>\n",
       "      <td>3003107</td>\n",
       "      <td>4.0</td>\n",
       "    </tr>\n",
       "    <tr>\n",
       "      <th>341</th>\n",
       "      <td>Santa Cruz</td>\n",
       "      <td>3003108</td>\n",
       "      <td>61.0</td>\n",
       "    </tr>\n",
       "    <tr>\n",
       "      <th>342</th>\n",
       "      <td>Santana</td>\n",
       "      <td>3003109</td>\n",
       "      <td>12.0</td>\n",
       "    </tr>\n",
       "    <tr>\n",
       "      <th>343</th>\n",
       "      <td>São Vicente</td>\n",
       "      <td>3003110</td>\n",
       "      <td>26.0</td>\n",
       "    </tr>\n",
       "  </tbody>\n",
       "</table>\n",
       "<p>308 rows × 3 columns</p>\n",
       "</div>"
      ],
      "text/plain": [
       "                 local   codigo  Total\n",
       "4    Arcos de Valdevez  1111601  100.0\n",
       "5              Caminha  1111602   33.0\n",
       "6              Melgaço  1111603   12.0\n",
       "7               Monção  1111604   74.0\n",
       "8     Paredes de Coura  1111605   16.0\n",
       "..                 ...      ...    ...\n",
       "339        Porto Santo  3003201   15.0\n",
       "340      Ribeira Brava  3003107    4.0\n",
       "341         Santa Cruz  3003108   61.0\n",
       "342            Santana  3003109   12.0\n",
       "343        São Vicente  3003110   26.0\n",
       "\n",
       "[308 rows x 3 columns]"
      ]
     },
     "execution_count": 65,
     "metadata": {},
     "output_type": "execute_result"
    }
   ],
   "source": [
    "df_edificios_concluidos = processar_ficheiro(data_path+'Edifícios concluídos.xls',1)\n",
    "df_edificios_concluidos = carregar_municipios(df_edificios_concluidos)\n",
    "df_edificios_concluidos = df_edificios_concluidos[['local','codigo','Total']]\n",
    "df_edificios_concluidos"
   ]
  },
  {
   "cell_type": "code",
   "execution_count": 66,
   "id": "51fcbeea-3dd6-41d4-b0a3-ce5beeea779c",
   "metadata": {},
   "outputs": [
    {
     "data": {
      "application/vnd.plotly.v1+json": {
       "config": {
        "plotlyServerURL": "https://plot.ly"
       },
       "data": [
        {
         "customdata": [
          [
           "Arcos de Valdevez",
           "1111601",
           100
          ],
          [
           "Caminha",
           "1111602",
           33
          ],
          [
           "Melgaço",
           "1111603",
           12
          ],
          [
           "Monção",
           "1111604",
           74
          ],
          [
           "Paredes de Coura",
           "1111605",
           16
          ],
          [
           "Ponte da Barca",
           "1111606",
           55
          ],
          [
           "Ponte de Lima",
           "1111607",
           135
          ],
          [
           "Valença",
           "1111608",
           62
          ],
          [
           "Viana do Castelo",
           "1111609",
           110
          ],
          [
           "Vila Nova de Cerveira",
           "1111610",
           40
          ],
          [
           "Amares",
           "1120301",
           67
          ],
          [
           "Barcelos",
           "1120302",
           248
          ],
          [
           "Braga",
           "1120303",
           425
          ],
          [
           "Esposende",
           "1120306",
           139
          ],
          [
           "Terras de Bouro",
           "1120310",
           4
          ],
          [
           "Vila Verde",
           "1120313",
           131
          ],
          [
           "Cabeceiras de Basto",
           "1190304",
           107
          ],
          [
           "Fafe",
           "1190307",
           84
          ],
          [
           "Guimarães",
           "1190308",
           279
          ],
          [
           "Mondim de Basto",
           "1191705",
           32
          ],
          [
           "Póvoa de Lanhoso",
           "1190309",
           10
          ],
          [
           "Vieira do Minho",
           "1190311",
           38
          ],
          [
           "Vila Nova de Famalicão",
           "1190312",
           310
          ],
          [
           "Vizela",
           "1190314",
           64
          ],
          [
           "Arouca",
           "11A0104",
           77
          ],
          [
           "Espinho",
           "11A0107",
           53
          ],
          [
           "Gondomar",
           "11A1304",
           90
          ],
          [
           "Maia",
           "11A1306",
           111
          ],
          [
           "Matosinhos",
           "11A1308",
           149
          ],
          [
           "Oliveira de Azeméis",
           "11A0113",
           74
          ],
          [
           "Paredes",
           "11A1310",
           217
          ],
          [
           "Porto",
           "11A1312",
           358
          ],
          [
           "Póvoa de Varzim",
           "11A1313",
           76
          ],
          [
           "Santa Maria da Feira",
           "11A0109",
           165
          ],
          [
           "Santo Tirso",
           "11A1314",
           114
          ],
          [
           "São João da Madeira",
           "11A0116",
           14
          ],
          [
           "Trofa",
           "11A1318",
           46
          ],
          [
           "Vale de Cambra",
           "11A0119",
           55
          ],
          [
           "Valongo",
           "11A1315",
           93
          ],
          [
           "Vila do Conde",
           "11A1316",
           222
          ],
          [
           "Vila Nova de Gaia",
           "11A1317",
           391
          ],
          [
           "Boticas",
           "11B1702",
           2
          ],
          [
           "Chaves",
           "11B1703",
           66
          ],
          [
           "Montalegre",
           "11B1706",
           19
          ],
          [
           "Ribeira de Pena",
           "11B1709",
           14
          ],
          [
           "Valpaços",
           "11B1712",
           35
          ],
          [
           "Vila Pouca de Aguiar",
           "11B1713",
           42
          ],
          [
           "Amarante",
           "11C1301",
           69
          ],
          [
           "Baião",
           "11C1302",
           36
          ],
          [
           "Castelo de Paiva",
           "11C0106",
           46
          ],
          [
           "Celorico de Basto",
           "11C0305",
           92
          ],
          [
           "Cinfães",
           "11C1804",
           18
          ],
          [
           "Felgueiras",
           "11C1303",
           89
          ],
          [
           "Lousada",
           "11C1305",
           119
          ],
          [
           "Marco de Canaveses",
           "11C1307",
           49
          ],
          [
           "Paços de Ferreira",
           "11C1309",
           143
          ],
          [
           "Penafiel",
           "11C1311",
           228
          ],
          [
           "Resende",
           "11C1813",
           12
          ],
          [
           "Alijó",
           "11D1701",
           21
          ],
          [
           "Armamar",
           "11D1801",
           10
          ],
          [
           "Carrazeda de Ansiães",
           "11D0403",
           22
          ],
          [
           "Freixo de Espada à Cinta",
           "11D0404",
           3
          ],
          [
           "Lamego",
           "11D1805",
           55
          ],
          [
           "Mesão Frio",
           "11D1704",
           3
          ],
          [
           "Moimenta da Beira",
           "11D1807",
           37
          ],
          [
           "Murça",
           "11D1707",
           14
          ],
          [
           "Penedono",
           "11D1812",
           12
          ],
          [
           "Peso da Régua",
           "11D1708",
           22
          ],
          [
           "Sabrosa",
           "11D1710",
           17
          ],
          [
           "Santa Marta de Penaguião",
           "11D1711",
           1
          ],
          [
           "São João da Pesqueira",
           "11D1815",
           26
          ],
          [
           "Sernancelhe",
           "11D1818",
           32
          ],
          [
           "Tabuaço",
           "11D1819",
           3
          ],
          [
           "Tarouca",
           "11D1820",
           35
          ],
          [
           "Torre de Moncorvo",
           "11D0409",
           6
          ],
          [
           "Vila Nova de Foz Côa",
           "11D0914",
           24
          ],
          [
           "Vila Real",
           "11D1714",
           50
          ],
          [
           "Alfândega da Fé",
           "11E0401",
           10
          ],
          [
           "Bragança",
           "11E0402",
           72
          ],
          [
           "Macedo de Cavaleiros",
           "11E0405",
           35
          ],
          [
           "Miranda do Douro",
           "11E0406",
           29
          ],
          [
           "Mirandela",
           "11E0407",
           56
          ],
          [
           "Mogadouro",
           "11E0408",
           10
          ],
          [
           "Vila Flor",
           "11E0410",
           9
          ],
          [
           "Vimioso",
           "11E0411",
           7
          ],
          [
           "Vinhais",
           "11E0412",
           12
          ],
          [
           "Alcobaça",
           "16B1001",
           153
          ],
          [
           "Alenquer",
           "16B1101",
           57
          ],
          [
           "Arruda dos Vinhos",
           "16B1102",
           37
          ],
          [
           "Bombarral",
           "16B1005",
           43
          ],
          [
           "Cadaval",
           "16B1104",
           76
          ],
          [
           "Caldas da Rainha",
           "16B1006",
           154
          ],
          [
           "Lourinhã",
           "16B1108",
           89
          ],
          [
           "Nazaré",
           "16B1011",
           29
          ],
          [
           "Óbidos",
           "16B1012",
           29
          ],
          [
           "Peniche",
           "16B1014",
           59
          ],
          [
           "Sobral de Monte Agraço",
           "16B1112",
           26
          ],
          [
           "Torres Vedras",
           "16B1113",
           190
          ],
          [
           "Águeda",
           "16D0101",
           65
          ],
          [
           "Albergaria-a-Velha",
           "16D0102",
           48
          ],
          [
           "Anadia",
           "16D0103",
           41
          ],
          [
           "Aveiro",
           "16D0105",
           178
          ],
          [
           "Estarreja",
           "16D0108",
           48
          ],
          [
           "Ílhavo",
           "16D0110",
           137
          ],
          [
           "Murtosa",
           "16D0112",
           108
          ],
          [
           "Oliveira do Bairro",
           "16D0114",
           62
          ],
          [
           "Ovar",
           "16D0115",
           59
          ],
          [
           "Sever do Vouga",
           "16D0117",
           30
          ],
          [
           "Vagos",
           "16D0118",
           44
          ],
          [
           "Arganil",
           "16E0601",
           18
          ],
          [
           "Cantanhede",
           "16E0602",
           141
          ],
          [
           "Coimbra",
           "16E0603",
           157
          ],
          [
           "Condeixa-a-Nova",
           "16E0604",
           44
          ],
          [
           "Figueira da Foz",
           "16E0605",
           110
          ],
          [
           "Góis",
           "16E0606",
           3
          ],
          [
           "Lousã",
           "16E0607",
           28
          ],
          [
           "Mealhada",
           "16E0111",
           78
          ],
          [
           "Mira",
           "16E0608",
           39
          ],
          [
           "Miranda do Corvo",
           "16E0609",
           28
          ],
          [
           "Montemor-o-Velho",
           "16E0610",
           20
          ],
          [
           "Mortágua",
           "16E1808",
           63
          ],
          [
           "Oliveira do Hospital",
           "16E0611",
           21
          ],
          [
           "Pampilhosa da Serra",
           "16E0612",
           9
          ],
          [
           "Penacova",
           "16E0613",
           22
          ],
          [
           "Penela",
           "16E0614",
           10
          ],
          [
           "Soure",
           "16E0615",
           13
          ],
          [
           "Tábua",
           "16E0616",
           10
          ],
          [
           "Vila Nova de Poiares",
           "16E0617",
           8
          ],
          [
           "Alvaiázere",
           "16F1002",
           26
          ],
          [
           "Ansião",
           "16F1003",
           26
          ],
          [
           "Batalha",
           "16F1004",
           78
          ],
          [
           "Castanheira de Pêra",
           "16F1007",
           6
          ],
          [
           "Figueiró dos Vinhos",
           "16F1008",
           5
          ],
          [
           "Leiria",
           "16F1009",
           420
          ],
          [
           "Marinha Grande",
           "16F1010",
           35
          ],
          [
           "Pedrógão Grande",
           "16F1013",
           10
          ],
          [
           "Pombal",
           "16F1015",
           83
          ],
          [
           "Porto de Mós",
           "16F1016",
           74
          ],
          [
           "Aguiar da Beira",
           "16G0901",
           18
          ],
          [
           "Carregal do Sal",
           "16G1802",
           50
          ],
          [
           "Castro Daire",
           "16G1803",
           41
          ],
          [
           "Mangualde",
           "16G1806",
           57
          ],
          [
           "Nelas",
           "16G1809",
           70
          ],
          [
           "Oliveira de Frades",
           "16G1810",
           46
          ],
          [
           "Penalva do Castelo",
           "16G1811",
           29
          ],
          [
           "Santa Comba Dão",
           "16G1814",
           21
          ],
          [
           "São Pedro do Sul",
           "16G1816",
           17
          ],
          [
           "Sátão",
           "16G1817",
           24
          ],
          [
           "Tondela",
           "16G1821",
           26
          ],
          [
           "Vila Nova de Paiva",
           "16G1822",
           19
          ],
          [
           "Viseu",
           "16G1823",
           124
          ],
          [
           "Vouzela",
           "16G1824",
           34
          ],
          [
           "Castelo Branco",
           "16H0502",
           76
          ],
          [
           "Idanha-a-Nova",
           "16H0505",
           57
          ],
          [
           "Oleiros",
           "16H0506",
           9
          ],
          [
           "Penamacor",
           "16H0507",
           2
          ],
          [
           "Proença-a-Nova",
           "16H0508",
           8
          ],
          [
           "Vila Velha de Ródão",
           "16H0511",
           21
          ],
          [
           "Abrantes",
           "16I1401",
           55
          ],
          [
           "Alcanena",
           "16I1402",
           16
          ],
          [
           "Constância",
           "16I1408",
           19
          ],
          [
           "Entroncamento",
           "16I1410",
           25
          ],
          [
           "Ferreira do Zêzere",
           "16I1411",
           12
          ],
          [
           "Mação",
           "16I1413",
           25
          ],
          [
           "Ourém",
           "16I1421",
           52
          ],
          [
           "Sardoal",
           "16I1417",
           8
          ],
          [
           "Sertã",
           "16I0509",
           11
          ],
          [
           "Tomar",
           "16I1418",
           29
          ],
          [
           "Torres Novas",
           "16I1419",
           84
          ],
          [
           "Vila de Rei",
           "16I0510",
           27
          ],
          [
           "Vila Nova da Barquinha",
           "16I1420",
           37
          ],
          [
           "Almeida",
           "16J0902",
           20
          ],
          [
           "Belmonte",
           "16J0501",
           6
          ],
          [
           "Celorico da Beira",
           "16J0903",
           14
          ],
          [
           "Covilhã",
           "16J0503",
           33
          ],
          [
           "Figueira de Castelo Rodrigo",
           "16J0904",
           15
          ],
          [
           "Fornos de Algodres",
           "16J0905",
           10
          ],
          [
           "Fundão",
           "16J0504",
           69
          ],
          [
           "Gouveia",
           "16J0906",
           24
          ],
          [
           "Guarda",
           "16J0907",
           2
          ],
          [
           "Manteigas",
           "16J0908",
           8
          ],
          [
           "Mêda",
           "16J0909",
           17
          ],
          [
           "Pinhel",
           "16J0910",
           24
          ],
          [
           "Sabugal",
           "16J0911",
           7
          ],
          [
           "Seia",
           "16J0912",
           48
          ],
          [
           "Trancoso",
           "16J0913",
           29
          ],
          [
           "Alcochete",
           "1701502",
           63
          ],
          [
           "Almada",
           "1701503",
           206
          ],
          [
           "Amadora",
           "1701115",
           15
          ],
          [
           "Barreiro",
           "1701504",
           38
          ],
          [
           "Cascais",
           "1701105",
           219
          ],
          [
           "Lisboa",
           "1701106",
           163
          ],
          [
           "Loures",
           "1701107",
           170
          ],
          [
           "Mafra",
           "1701109",
           383
          ],
          [
           "Moita",
           "1701506",
           55
          ],
          [
           "Montijo",
           "1701507",
           130
          ],
          [
           "Odivelas",
           "1701116",
           195
          ],
          [
           "Oeiras",
           "1701110",
           99
          ],
          [
           "Palmela",
           "1701508",
           117
          ],
          [
           "Seixal",
           "1701510",
           422
          ],
          [
           "Sesimbra",
           "1701511",
           82
          ],
          [
           "Setúbal",
           "1701512",
           268
          ],
          [
           "Sintra",
           "1701111",
           368
          ],
          [
           "Vila Franca de Xira",
           "1701114",
           77
          ],
          [
           "Alcácer do Sal",
           "1811501",
           31
          ],
          [
           "Grândola",
           "1811505",
           65
          ],
          [
           "Odemira",
           "1810211",
           36
          ],
          [
           "Santiago do Cacém",
           "1811509",
           50
          ],
          [
           "Sines",
           "1811513",
           35
          ],
          [
           "Aljustrel",
           "1840201",
           15
          ],
          [
           "Almodôvar",
           "1840202",
           10
          ],
          [
           "Alvito",
           "1840203",
           3
          ],
          [
           "Barrancos",
           "1840204",
           2
          ],
          [
           "Beja",
           "1840205",
           17
          ],
          [
           "Castro Verde",
           "1840206",
           26
          ],
          [
           "Cuba",
           "1840207",
           15
          ],
          [
           "Ferreira do Alentejo",
           "1840208",
           14
          ],
          [
           "Mértola",
           "1840209",
           21
          ],
          [
           "Moura",
           "1840210",
           16
          ],
          [
           "Ourique",
           "1840212",
           4
          ],
          [
           "Serpa",
           "1840213",
           23
          ],
          [
           "Vidigueira",
           "1840214",
           15
          ],
          [
           "Almeirim",
           "1851403",
           38
          ],
          [
           "Alpiarça",
           "1851404",
           9
          ],
          [
           "Azambuja",
           "1851103",
           17
          ],
          [
           "Benavente",
           "1851405",
           52
          ],
          [
           "Cartaxo",
           "1851406",
           55
          ],
          [
           "Chamusca",
           "1851407",
           7
          ],
          [
           "Coruche",
           "1851409",
           36
          ],
          [
           "Golegã",
           "1851412",
           13
          ],
          [
           "Rio Maior",
           "1851414",
           119
          ],
          [
           "Salvaterra de Magos",
           "1851415",
           89
          ],
          [
           "Santarém",
           "1851416",
           89
          ],
          [
           "Alter do Chão",
           "1861201",
           11
          ],
          [
           "Arronches",
           "1861202",
           2
          ],
          [
           "Avis",
           "1861203",
           6
          ],
          [
           "Campo Maior",
           "1861204",
           10
          ],
          [
           "Castelo de Vide",
           "1861205",
           18
          ],
          [
           "Crato",
           "1861206",
           6
          ],
          [
           "Elvas",
           "1861207",
           46
          ],
          [
           "Fronteira",
           "1861208",
           4
          ],
          [
           "Gavião",
           "1861209",
           7
          ],
          [
           "Marvão",
           "1861210",
           3
          ],
          [
           "Monforte",
           "1861211",
           3
          ],
          [
           "Nisa",
           "1861212",
           12
          ],
          [
           "Ponte de Sor",
           "1861213",
           30
          ],
          [
           "Portalegre",
           "1861214",
           20
          ],
          [
           "Sousel",
           "1861215",
           3
          ],
          [
           "Alandroal",
           "1870701",
           15
          ],
          [
           "Arraiolos",
           "1870702",
           19
          ],
          [
           "Borba",
           "1870703",
           19
          ],
          [
           "Estremoz",
           "1870704",
           25
          ],
          [
           "Évora",
           "1870705",
           80
          ],
          [
           "Montemor-o-Novo",
           "1870706",
           25
          ],
          [
           "Mora",
           "1870707",
           12
          ],
          [
           "Mourão",
           "1870708",
           13
          ],
          [
           "Portel",
           "1870709",
           22
          ],
          [
           "Redondo",
           "1870710",
           7
          ],
          [
           "Reguengos de Monsaraz",
           "1870711",
           9
          ],
          [
           "Vendas Novas",
           "1870712",
           15
          ],
          [
           "Viana do Alentejo",
           "1870713",
           12
          ],
          [
           "Vila Viçosa",
           "1870714",
           13
          ],
          [
           "Albufeira",
           "1500801",
           68
          ],
          [
           "Alcoutim",
           "1500802",
           17
          ],
          [
           "Aljezur",
           "1500803",
           13
          ],
          [
           "Castro Marim",
           "1500804",
           29
          ],
          [
           "Faro",
           "1500805",
           6
          ],
          [
           "Lagoa",
           "1500806",
           41
          ],
          [
           "Lagos",
           "1500807",
           79
          ],
          [
           "Loulé",
           "1500808",
           63
          ],
          [
           "Monchique",
           "1500809",
           9
          ],
          [
           "Olhão",
           "1500810",
           90
          ],
          [
           "Portimão",
           "1500811",
           35
          ],
          [
           "São Brás de Alportel",
           "1500812",
           26
          ],
          [
           "Silves",
           "1500813",
           105
          ],
          [
           "Tavira",
           "1500814",
           64
          ],
          [
           "Vila do Bispo",
           "1500815",
           46
          ],
          [
           "Vila Real de Santo António",
           "1500816",
           55
          ],
          [
           "Angra do Heroísmo",
           "2004301",
           30
          ],
          [
           "Calheta",
           "2004501",
           3
          ],
          [
           "Corvo",
           "2004901",
           0
          ],
          [
           "Horta",
           "2004701",
           33
          ],
          [
           "Lagoa",
           "2004201",
           94
          ],
          [
           "Lajes das Flores",
           "2004801",
           6
          ],
          [
           "Lajes do Pico",
           "2004601",
           10
          ],
          [
           "Madalena",
           "2004602",
           69
          ],
          [
           "Nordeste",
           "2004202",
           24
          ],
          [
           "Ponta Delgada",
           "2004203",
           181
          ],
          [
           "Povoação",
           "2004204",
           13
          ],
          [
           "Ribeira Grande",
           "2004205",
           110
          ],
          [
           "Santa Cruz da Graciosa",
           "2004401",
           12
          ],
          [
           "Santa Cruz das Flores",
           "2004802",
           10
          ],
          [
           "São Roque do Pico",
           "2004603",
           22
          ],
          [
           "Velas",
           "2004502",
           20
          ],
          [
           "Vila da Praia da Vitória",
           "2004302",
           55
          ],
          [
           "Vila do Porto",
           "2004101",
           21
          ],
          [
           "Vila Franca do Campo",
           "2004206",
           28
          ],
          [
           "Calheta",
           "3003101",
           37
          ],
          [
           "Câmara de Lobos",
           "3003102",
           50
          ],
          [
           "Funchal",
           "3003103",
           178
          ],
          [
           "Machico",
           "3003104",
           49
          ],
          [
           "Ponta do Sol",
           "3003105",
           37
          ],
          [
           "Porto Moniz",
           "3003106",
           3
          ],
          [
           "Porto Santo",
           "3003201",
           15
          ],
          [
           "Ribeira Brava",
           "3003107",
           4
          ],
          [
           "Santa Cruz",
           "3003108",
           61
          ],
          [
           "Santana",
           "3003109",
           12
          ],
          [
           "São Vicente",
           "3003110",
           26
          ]
         ],
         "hovertemplate": "valor=%{x}<br>y=%{y}<br>local=%{customdata[0]}<br>codigo=%{customdata[1]}<br>Total=%{customdata[2]}<br>Edificios Concluidos=%{marker.color}<extra></extra>",
         "legendgroup": "",
         "marker": {
          "color": {
           "bdata": "AQAAAAAAAQABAAACAgEAAQEBAgAAAAIAAAABAQEAAQIAAQEAAAABAQIAAAAAAAAAAAABAAEBAAEBAAAAAAAAAAAAAAAAAAAAAAAAAAAAAAAAAAAAAAABAAAAAAEBAAAAAAEAAAABAAEBAAAAAAABAQABAAAAAAAAAAAAAAAAAAAAAAAAAAIAAAEAAAAAAAAAAAAAAAAAAQAAAAAAAAAAAAAAAAAAAAAAAQAAAAAAAAAAAAAAAAAAAAAAAAEAAAEBAQIAAQEBAQIBAgIAAAAAAAAAAAAAAAAAAAAAAAAAAAAAAAAAAAABAQEAAAAAAAAAAAAAAAAAAAAAAAAAAAAAAAAAAAAAAAAAAAAAAAAAAAEAAAEAAAAAAAAAAQAAAAABAAEAAAAAAAAAAAABAAAAAAAAAAA=",
           "dtype": "i1"
          },
          "coloraxis": "coloraxis",
          "size": 10,
          "symbol": "circle"
         },
         "mode": "markers",
         "name": "",
         "orientation": "v",
         "showlegend": false,
         "type": "scatter",
         "x": {
          "bdata": "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",
          "dtype": "f8"
         },
         "xaxis": "x",
         "y": {
          "bdata": "AAAAAAAAAAAAAAAAAAAAAAAAAAAAAAAAAAAAAAAAAAAAAAAAAAAAAAAAAAAAAAAAAAAAAAAAAAAAAAAAAAAAAAAAAAAAAAAAAAAAAAAAAAAAAAAAAAAAAAAAAAAAAAAAAAAAAAAAAAAAAAAAAAAAAAAAAAAAAAAAAAAAAAAAAAAAAAAAAAAAAAAAAAAAAAAAAAAAAAAAAAAAAAAAAAAAAAAAAAAAAAAAAAAAAAAAAAAAAAAAAAAAAAAAAAAAAAAAAAAAAAAAAAAAAAAAAAAAAAAAAAAAAAAAAAAAAAAAAAAAAAAAAAAAAAAAAAAAAAAAAAAAAAAAAAAAAAAAAAAAAAAAAAAAAAAAAAAAAAAAAAAAAAAAAAAAAAAAAAAAAAAAAAAAAAAAAAAAAAAAAAAAAAAAAAA=",
          "dtype": "i1"
         },
         "yaxis": "y"
        }
       ],
       "layout": {
        "coloraxis": {
         "colorbar": {
          "title": {
           "text": "Edificios Concluidos"
          }
         },
         "colorscale": [
          [
           0,
           "#440154"
          ],
          [
           0.1111111111111111,
           "#482878"
          ],
          [
           0.2222222222222222,
           "#3e4989"
          ],
          [
           0.3333333333333333,
           "#31688e"
          ],
          [
           0.4444444444444444,
           "#26828e"
          ],
          [
           0.5555555555555556,
           "#1f9e89"
          ],
          [
           0.6666666666666666,
           "#35b779"
          ],
          [
           0.7777777777777778,
           "#6ece58"
          ],
          [
           0.8888888888888888,
           "#b5de2b"
          ],
          [
           1,
           "#fde725"
          ]
         ]
        },
        "height": 300,
        "legend": {
         "tracegroupgap": 0
        },
        "margin": {
         "t": 60
        },
        "template": {
         "data": {
          "bar": [
           {
            "error_x": {
             "color": "#2a3f5f"
            },
            "error_y": {
             "color": "#2a3f5f"
            },
            "marker": {
             "line": {
              "color": "#E5ECF6",
              "width": 0.5
             },
             "pattern": {
              "fillmode": "overlay",
              "size": 10,
              "solidity": 0.2
             }
            },
            "type": "bar"
           }
          ],
          "barpolar": [
           {
            "marker": {
             "line": {
              "color": "#E5ECF6",
              "width": 0.5
             },
             "pattern": {
              "fillmode": "overlay",
              "size": 10,
              "solidity": 0.2
             }
            },
            "type": "barpolar"
           }
          ],
          "carpet": [
           {
            "aaxis": {
             "endlinecolor": "#2a3f5f",
             "gridcolor": "white",
             "linecolor": "white",
             "minorgridcolor": "white",
             "startlinecolor": "#2a3f5f"
            },
            "baxis": {
             "endlinecolor": "#2a3f5f",
             "gridcolor": "white",
             "linecolor": "white",
             "minorgridcolor": "white",
             "startlinecolor": "#2a3f5f"
            },
            "type": "carpet"
           }
          ],
          "choropleth": [
           {
            "colorbar": {
             "outlinewidth": 0,
             "ticks": ""
            },
            "type": "choropleth"
           }
          ],
          "contour": [
           {
            "colorbar": {
             "outlinewidth": 0,
             "ticks": ""
            },
            "colorscale": [
             [
              0,
              "#0d0887"
             ],
             [
              0.1111111111111111,
              "#46039f"
             ],
             [
              0.2222222222222222,
              "#7201a8"
             ],
             [
              0.3333333333333333,
              "#9c179e"
             ],
             [
              0.4444444444444444,
              "#bd3786"
             ],
             [
              0.5555555555555556,
              "#d8576b"
             ],
             [
              0.6666666666666666,
              "#ed7953"
             ],
             [
              0.7777777777777778,
              "#fb9f3a"
             ],
             [
              0.8888888888888888,
              "#fdca26"
             ],
             [
              1,
              "#f0f921"
             ]
            ],
            "type": "contour"
           }
          ],
          "contourcarpet": [
           {
            "colorbar": {
             "outlinewidth": 0,
             "ticks": ""
            },
            "type": "contourcarpet"
           }
          ],
          "heatmap": [
           {
            "colorbar": {
             "outlinewidth": 0,
             "ticks": ""
            },
            "colorscale": [
             [
              0,
              "#0d0887"
             ],
             [
              0.1111111111111111,
              "#46039f"
             ],
             [
              0.2222222222222222,
              "#7201a8"
             ],
             [
              0.3333333333333333,
              "#9c179e"
             ],
             [
              0.4444444444444444,
              "#bd3786"
             ],
             [
              0.5555555555555556,
              "#d8576b"
             ],
             [
              0.6666666666666666,
              "#ed7953"
             ],
             [
              0.7777777777777778,
              "#fb9f3a"
             ],
             [
              0.8888888888888888,
              "#fdca26"
             ],
             [
              1,
              "#f0f921"
             ]
            ],
            "type": "heatmap"
           }
          ],
          "histogram": [
           {
            "marker": {
             "pattern": {
              "fillmode": "overlay",
              "size": 10,
              "solidity": 0.2
             }
            },
            "type": "histogram"
           }
          ],
          "histogram2d": [
           {
            "colorbar": {
             "outlinewidth": 0,
             "ticks": ""
            },
            "colorscale": [
             [
              0,
              "#0d0887"
             ],
             [
              0.1111111111111111,
              "#46039f"
             ],
             [
              0.2222222222222222,
              "#7201a8"
             ],
             [
              0.3333333333333333,
              "#9c179e"
             ],
             [
              0.4444444444444444,
              "#bd3786"
             ],
             [
              0.5555555555555556,
              "#d8576b"
             ],
             [
              0.6666666666666666,
              "#ed7953"
             ],
             [
              0.7777777777777778,
              "#fb9f3a"
             ],
             [
              0.8888888888888888,
              "#fdca26"
             ],
             [
              1,
              "#f0f921"
             ]
            ],
            "type": "histogram2d"
           }
          ],
          "histogram2dcontour": [
           {
            "colorbar": {
             "outlinewidth": 0,
             "ticks": ""
            },
            "colorscale": [
             [
              0,
              "#0d0887"
             ],
             [
              0.1111111111111111,
              "#46039f"
             ],
             [
              0.2222222222222222,
              "#7201a8"
             ],
             [
              0.3333333333333333,
              "#9c179e"
             ],
             [
              0.4444444444444444,
              "#bd3786"
             ],
             [
              0.5555555555555556,
              "#d8576b"
             ],
             [
              0.6666666666666666,
              "#ed7953"
             ],
             [
              0.7777777777777778,
              "#fb9f3a"
             ],
             [
              0.8888888888888888,
              "#fdca26"
             ],
             [
              1,
              "#f0f921"
             ]
            ],
            "type": "histogram2dcontour"
           }
          ],
          "mesh3d": [
           {
            "colorbar": {
             "outlinewidth": 0,
             "ticks": ""
            },
            "type": "mesh3d"
           }
          ],
          "parcoords": [
           {
            "line": {
             "colorbar": {
              "outlinewidth": 0,
              "ticks": ""
             }
            },
            "type": "parcoords"
           }
          ],
          "pie": [
           {
            "automargin": true,
            "type": "pie"
           }
          ],
          "scatter": [
           {
            "fillpattern": {
             "fillmode": "overlay",
             "size": 10,
             "solidity": 0.2
            },
            "type": "scatter"
           }
          ],
          "scatter3d": [
           {
            "line": {
             "colorbar": {
              "outlinewidth": 0,
              "ticks": ""
             }
            },
            "marker": {
             "colorbar": {
              "outlinewidth": 0,
              "ticks": ""
             }
            },
            "type": "scatter3d"
           }
          ],
          "scattercarpet": [
           {
            "marker": {
             "colorbar": {
              "outlinewidth": 0,
              "ticks": ""
             }
            },
            "type": "scattercarpet"
           }
          ],
          "scattergeo": [
           {
            "marker": {
             "colorbar": {
              "outlinewidth": 0,
              "ticks": ""
             }
            },
            "type": "scattergeo"
           }
          ],
          "scattergl": [
           {
            "marker": {
             "colorbar": {
              "outlinewidth": 0,
              "ticks": ""
             }
            },
            "type": "scattergl"
           }
          ],
          "scattermap": [
           {
            "marker": {
             "colorbar": {
              "outlinewidth": 0,
              "ticks": ""
             }
            },
            "type": "scattermap"
           }
          ],
          "scattermapbox": [
           {
            "marker": {
             "colorbar": {
              "outlinewidth": 0,
              "ticks": ""
             }
            },
            "type": "scattermapbox"
           }
          ],
          "scatterpolar": [
           {
            "marker": {
             "colorbar": {
              "outlinewidth": 0,
              "ticks": ""
             }
            },
            "type": "scatterpolar"
           }
          ],
          "scatterpolargl": [
           {
            "marker": {
             "colorbar": {
              "outlinewidth": 0,
              "ticks": ""
             }
            },
            "type": "scatterpolargl"
           }
          ],
          "scatterternary": [
           {
            "marker": {
             "colorbar": {
              "outlinewidth": 0,
              "ticks": ""
             }
            },
            "type": "scatterternary"
           }
          ],
          "surface": [
           {
            "colorbar": {
             "outlinewidth": 0,
             "ticks": ""
            },
            "colorscale": [
             [
              0,
              "#0d0887"
             ],
             [
              0.1111111111111111,
              "#46039f"
             ],
             [
              0.2222222222222222,
              "#7201a8"
             ],
             [
              0.3333333333333333,
              "#9c179e"
             ],
             [
              0.4444444444444444,
              "#bd3786"
             ],
             [
              0.5555555555555556,
              "#d8576b"
             ],
             [
              0.6666666666666666,
              "#ed7953"
             ],
             [
              0.7777777777777778,
              "#fb9f3a"
             ],
             [
              0.8888888888888888,
              "#fdca26"
             ],
             [
              1,
              "#f0f921"
             ]
            ],
            "type": "surface"
           }
          ],
          "table": [
           {
            "cells": {
             "fill": {
              "color": "#EBF0F8"
             },
             "line": {
              "color": "white"
             }
            },
            "header": {
             "fill": {
              "color": "#C8D4E3"
             },
             "line": {
              "color": "white"
             }
            },
            "type": "table"
           }
          ]
         },
         "layout": {
          "annotationdefaults": {
           "arrowcolor": "#2a3f5f",
           "arrowhead": 0,
           "arrowwidth": 1
          },
          "autotypenumbers": "strict",
          "coloraxis": {
           "colorbar": {
            "outlinewidth": 0,
            "ticks": ""
           }
          },
          "colorscale": {
           "diverging": [
            [
             0,
             "#8e0152"
            ],
            [
             0.1,
             "#c51b7d"
            ],
            [
             0.2,
             "#de77ae"
            ],
            [
             0.3,
             "#f1b6da"
            ],
            [
             0.4,
             "#fde0ef"
            ],
            [
             0.5,
             "#f7f7f7"
            ],
            [
             0.6,
             "#e6f5d0"
            ],
            [
             0.7,
             "#b8e186"
            ],
            [
             0.8,
             "#7fbc41"
            ],
            [
             0.9,
             "#4d9221"
            ],
            [
             1,
             "#276419"
            ]
           ],
           "sequential": [
            [
             0,
             "#0d0887"
            ],
            [
             0.1111111111111111,
             "#46039f"
            ],
            [
             0.2222222222222222,
             "#7201a8"
            ],
            [
             0.3333333333333333,
             "#9c179e"
            ],
            [
             0.4444444444444444,
             "#bd3786"
            ],
            [
             0.5555555555555556,
             "#d8576b"
            ],
            [
             0.6666666666666666,
             "#ed7953"
            ],
            [
             0.7777777777777778,
             "#fb9f3a"
            ],
            [
             0.8888888888888888,
             "#fdca26"
            ],
            [
             1,
             "#f0f921"
            ]
           ],
           "sequentialminus": [
            [
             0,
             "#0d0887"
            ],
            [
             0.1111111111111111,
             "#46039f"
            ],
            [
             0.2222222222222222,
             "#7201a8"
            ],
            [
             0.3333333333333333,
             "#9c179e"
            ],
            [
             0.4444444444444444,
             "#bd3786"
            ],
            [
             0.5555555555555556,
             "#d8576b"
            ],
            [
             0.6666666666666666,
             "#ed7953"
            ],
            [
             0.7777777777777778,
             "#fb9f3a"
            ],
            [
             0.8888888888888888,
             "#fdca26"
            ],
            [
             1,
             "#f0f921"
            ]
           ]
          },
          "colorway": [
           "#636efa",
           "#EF553B",
           "#00cc96",
           "#ab63fa",
           "#FFA15A",
           "#19d3f3",
           "#FF6692",
           "#B6E880",
           "#FF97FF",
           "#FECB52"
          ],
          "font": {
           "color": "#2a3f5f"
          },
          "geo": {
           "bgcolor": "white",
           "lakecolor": "white",
           "landcolor": "#E5ECF6",
           "showlakes": true,
           "showland": true,
           "subunitcolor": "white"
          },
          "hoverlabel": {
           "align": "left"
          },
          "hovermode": "closest",
          "mapbox": {
           "style": "light"
          },
          "paper_bgcolor": "white",
          "plot_bgcolor": "#E5ECF6",
          "polar": {
           "angularaxis": {
            "gridcolor": "white",
            "linecolor": "white",
            "ticks": ""
           },
           "bgcolor": "#E5ECF6",
           "radialaxis": {
            "gridcolor": "white",
            "linecolor": "white",
            "ticks": ""
           }
          },
          "scene": {
           "xaxis": {
            "backgroundcolor": "#E5ECF6",
            "gridcolor": "white",
            "gridwidth": 2,
            "linecolor": "white",
            "showbackground": true,
            "ticks": "",
            "zerolinecolor": "white"
           },
           "yaxis": {
            "backgroundcolor": "#E5ECF6",
            "gridcolor": "white",
            "gridwidth": 2,
            "linecolor": "white",
            "showbackground": true,
            "ticks": "",
            "zerolinecolor": "white"
           },
           "zaxis": {
            "backgroundcolor": "#E5ECF6",
            "gridcolor": "white",
            "gridwidth": 2,
            "linecolor": "white",
            "showbackground": true,
            "ticks": "",
            "zerolinecolor": "white"
           }
          },
          "shapedefaults": {
           "line": {
            "color": "#2a3f5f"
           }
          },
          "ternary": {
           "aaxis": {
            "gridcolor": "white",
            "linecolor": "white",
            "ticks": ""
           },
           "baxis": {
            "gridcolor": "white",
            "linecolor": "white",
            "ticks": ""
           },
           "bgcolor": "#E5ECF6",
           "caxis": {
            "gridcolor": "white",
            "linecolor": "white",
            "ticks": ""
           }
          },
          "title": {
           "x": 0.05
          },
          "xaxis": {
           "automargin": true,
           "gridcolor": "white",
           "linecolor": "white",
           "ticks": "",
           "title": {
            "standoff": 15
           },
           "zerolinecolor": "white",
           "zerolinewidth": 2
          },
          "yaxis": {
           "automargin": true,
           "gridcolor": "white",
           "linecolor": "white",
           "ticks": "",
           "title": {
            "standoff": 15
           },
           "zerolinecolor": "white",
           "zerolinewidth": 2
          }
         }
        },
        "xaxis": {
         "anchor": "y",
         "domain": [
          0,
          1
         ],
         "title": {
          "text": "Total"
         }
        },
        "yaxis": {
         "anchor": "x",
         "domain": [
          0,
          1
         ],
         "showgrid": false,
         "showticklabels": false,
         "title": {
          "text": "y"
         }
        }
       }
      }
     },
     "metadata": {},
     "output_type": "display_data"
    },
    {
     "name": "stdout",
     "output_type": "stream",
     "text": [
      "Edificios Concluidos\n",
      "0    246\n",
      "1     51\n",
      "2     11\n",
      "Name: count, dtype: int64\n",
      "File saved to csv_files/7_Edificios Concluidos.csv\n"
     ]
    }
   ],
   "source": [
    "clustered_df = aplicar_kmeans(df_edificios_concluidos, 3, nome_cluster='Edificios Concluidos')\n",
    "save_clustered_df_to_csv(clustered_df, \"csv_files/\", \"7_Edificios Concluidos.csv\")"
   ]
  },
  {
   "cell_type": "code",
   "execution_count": null,
   "id": "8715bc01-7681-4492-94ef-df9d12820156",
   "metadata": {},
   "outputs": [],
   "source": []
  }
 ],
 "metadata": {
  "kernelspec": {
   "display_name": "ade_venv",
   "language": "python",
   "name": "python3"
  },
  "language_info": {
   "codemirror_mode": {
    "name": "ipython",
    "version": 3
   },
   "file_extension": ".py",
   "mimetype": "text/x-python",
   "name": "python",
   "nbconvert_exporter": "python",
   "pygments_lexer": "ipython3",
   "version": "3.13.0"
  }
 },
 "nbformat": 4,
 "nbformat_minor": 5
}
