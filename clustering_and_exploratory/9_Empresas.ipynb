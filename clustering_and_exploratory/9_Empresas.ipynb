{
 "cells": [
  {
   "cell_type": "markdown",
   "id": "792575ba-59b5-4315-8a62-21c048a644a3",
   "metadata": {},
   "source": [
    "# Análise dos fatores de Empresas"
   ]
  },
  {
   "cell_type": "code",
   "execution_count": 1,
   "id": "da328e26-546d-4c28-b684-66b685e9cd09",
   "metadata": {},
   "outputs": [],
   "source": [
    "import pandas as pd\n",
    "import os\n",
    "import pandas as pd\n",
    "from sklearn.preprocessing import StandardScaler\n",
    "from sklearn.cluster import KMeans\n",
    "import plotly.express as px\n",
    "import numpy as np\n",
    "import matplotlib.pyplot as plt\n",
    "from auxiliary.auxiliary_funcs import processar_ficheiro,carregar_municipios,aplicar_kmeans,elbow_rule, save_clustered_df_to_csv,filter_for_only_municipalities\n",
    "data_path ='../data/dados_municipio/Empresas (5)/'"
   ]
  },
  {
   "cell_type": "markdown",
   "id": "1808d833-3e19-48ae-b2ea-022484a0c741",
   "metadata": {},
   "source": [
    "**Estabelecimentos**"
   ]
  },
  {
   "cell_type": "code",
   "execution_count": 2,
   "id": "3fad8edf-e1f8-4983-9159-a4988823c3b4",
   "metadata": {},
   "outputs": [
    {
     "data": {
      "text/html": [
       "<div>\n",
       "<style scoped>\n",
       "    .dataframe tbody tr th:only-of-type {\n",
       "        vertical-align: middle;\n",
       "    }\n",
       "\n",
       "    .dataframe tbody tr th {\n",
       "        vertical-align: top;\n",
       "    }\n",
       "\n",
       "    .dataframe thead th {\n",
       "        text-align: right;\n",
       "    }\n",
       "</style>\n",
       "<table border=\"1\" class=\"dataframe\">\n",
       "  <thead>\n",
       "    <tr style=\"text-align: right;\">\n",
       "      <th></th>\n",
       "      <th>local</th>\n",
       "      <th>codigo</th>\n",
       "      <th>Estabelecimentos</th>\n",
       "    </tr>\n",
       "  </thead>\n",
       "  <tbody>\n",
       "    <tr>\n",
       "      <th>5</th>\n",
       "      <td>Arcos de Valdevez</td>\n",
       "      <td>1111601</td>\n",
       "      <td>3067</td>\n",
       "    </tr>\n",
       "    <tr>\n",
       "      <th>6</th>\n",
       "      <td>Caminha</td>\n",
       "      <td>1111602</td>\n",
       "      <td>2691</td>\n",
       "    </tr>\n",
       "    <tr>\n",
       "      <th>7</th>\n",
       "      <td>Melgaço</td>\n",
       "      <td>1111603</td>\n",
       "      <td>1270</td>\n",
       "    </tr>\n",
       "    <tr>\n",
       "      <th>8</th>\n",
       "      <td>Monção</td>\n",
       "      <td>1111604</td>\n",
       "      <td>3424</td>\n",
       "    </tr>\n",
       "    <tr>\n",
       "      <th>9</th>\n",
       "      <td>Paredes de Coura</td>\n",
       "      <td>1111605</td>\n",
       "      <td>1203</td>\n",
       "    </tr>\n",
       "    <tr>\n",
       "      <th>...</th>\n",
       "      <td>...</td>\n",
       "      <td>...</td>\n",
       "      <td>...</td>\n",
       "    </tr>\n",
       "    <tr>\n",
       "      <th>343</th>\n",
       "      <td>Ribeira Brava</td>\n",
       "      <td>3003107</td>\n",
       "      <td>1525</td>\n",
       "    </tr>\n",
       "    <tr>\n",
       "      <th>344</th>\n",
       "      <td>Santa Cruz</td>\n",
       "      <td>3003108</td>\n",
       "      <td>4826</td>\n",
       "    </tr>\n",
       "    <tr>\n",
       "      <th>345</th>\n",
       "      <td>Santana</td>\n",
       "      <td>3003109</td>\n",
       "      <td>733</td>\n",
       "    </tr>\n",
       "    <tr>\n",
       "      <th>346</th>\n",
       "      <td>São Vicente</td>\n",
       "      <td>3003110</td>\n",
       "      <td>828</td>\n",
       "    </tr>\n",
       "    <tr>\n",
       "      <th>347</th>\n",
       "      <td>Porto Santo</td>\n",
       "      <td>3003201</td>\n",
       "      <td>703</td>\n",
       "    </tr>\n",
       "  </tbody>\n",
       "</table>\n",
       "<p>308 rows × 3 columns</p>\n",
       "</div>"
      ],
      "text/plain": [
       "                 local   codigo Estabelecimentos\n",
       "5    Arcos de Valdevez  1111601             3067\n",
       "6              Caminha  1111602             2691\n",
       "7              Melgaço  1111603             1270\n",
       "8               Monção  1111604             3424\n",
       "9     Paredes de Coura  1111605             1203\n",
       "..                 ...      ...              ...\n",
       "343      Ribeira Brava  3003107             1525\n",
       "344         Santa Cruz  3003108             4826\n",
       "345            Santana  3003109              733\n",
       "346        São Vicente  3003110              828\n",
       "347        Porto Santo  3003201              703\n",
       "\n",
       "[308 rows x 3 columns]"
      ]
     },
     "execution_count": 2,
     "metadata": {},
     "output_type": "execute_result"
    }
   ],
   "source": [
    "df_estabelecimentos = processar_ficheiro(data_path+'Estabelecimentos.xls',0)\n",
    "df_estabelecimentos = carregar_municipios(df_estabelecimentos)\n",
    "df_estabelecimentos = df_estabelecimentos[['local','codigo','Estabelecimentos']]\n",
    "df_estabelecimentos\n"
   ]
  },
  {
   "cell_type": "code",
   "execution_count": 3,
   "id": "0d42afba-0423-480d-8192-9ac6f8e1d507",
   "metadata": {},
   "outputs": [
    {
     "data": {
      "application/vnd.plotly.v1+json": {
       "config": {
        "plotlyServerURL": "https://plot.ly"
       },
       "data": [
        {
         "customdata": [
          [
           "Arcos de Valdevez",
           "1111601",
           0
          ],
          [
           "Caminha",
           "1111602",
           0
          ],
          [
           "Melgaço",
           "1111603",
           0
          ],
          [
           "Monção",
           "1111604",
           0
          ],
          [
           "Paredes de Coura",
           "1111605",
           0
          ],
          [
           "Ponte da Barca",
           "1111606",
           0
          ],
          [
           "Ponte de Lima",
           "1111607",
           0
          ],
          [
           "Valença",
           "1111608",
           0
          ],
          [
           "Viana do Castelo",
           "1111609",
           0
          ],
          [
           "Vila Nova de Cerveira",
           "1111610",
           0
          ],
          [
           "Amares",
           "1120301",
           0
          ],
          [
           "Barcelos",
           "1120302",
           1
          ],
          [
           "Braga",
           "1120303",
           1
          ],
          [
           "Esposende",
           "1120306",
           0
          ],
          [
           "Terras de Bouro",
           "1120310",
           0
          ],
          [
           "Vila Verde",
           "1120313",
           0
          ],
          [
           "Cabeceiras de Basto",
           "1190304",
           0
          ],
          [
           "Fafe",
           "1190307",
           0
          ],
          [
           "Guimarães",
           "1190308",
           1
          ],
          [
           "Mondim de Basto",
           "1191705",
           0
          ],
          [
           "Póvoa de Lanhoso",
           "1190309",
           0
          ],
          [
           "Vieira do Minho",
           "1190311",
           0
          ],
          [
           "Vila Nova de Famalicão",
           "1190312",
           1
          ],
          [
           "Vizela",
           "1190314",
           0
          ],
          [
           "Arouca",
           "11A0104",
           0
          ],
          [
           "Espinho",
           "11A0107",
           0
          ],
          [
           "Gondomar",
           "11A1304",
           1
          ],
          [
           "Maia",
           "11A1306",
           1
          ],
          [
           "Matosinhos",
           "11A1308",
           1
          ],
          [
           "Oliveira de Azeméis",
           "11A0113",
           0
          ],
          [
           "Paredes",
           "11A1310",
           0
          ],
          [
           "Porto",
           "11A1312",
           1
          ],
          [
           "Póvoa de Varzim",
           "11A1313",
           0
          ],
          [
           "Santa Maria da Feira",
           "11A0109",
           1
          ],
          [
           "Santo Tirso",
           "11A1314",
           0
          ],
          [
           "São João da Madeira",
           "11A0116",
           0
          ],
          [
           "Trofa",
           "11A1318",
           0
          ],
          [
           "Vale de Cambra",
           "11A0119",
           0
          ],
          [
           "Valongo",
           "11A1315",
           0
          ],
          [
           "Vila do Conde",
           "11A1316",
           0
          ],
          [
           "Vila Nova de Gaia",
           "11A1317",
           1
          ],
          [
           "Boticas",
           "11B1702",
           0
          ],
          [
           "Chaves",
           "11B1703",
           0
          ],
          [
           "Montalegre",
           "11B1706",
           0
          ],
          [
           "Ribeira de Pena",
           "11B1709",
           0
          ],
          [
           "Valpaços",
           "11B1712",
           0
          ],
          [
           "Vila Pouca de Aguiar",
           "11B1713",
           0
          ],
          [
           "Amarante",
           "11C1301",
           0
          ],
          [
           "Baião",
           "11C1302",
           0
          ],
          [
           "Castelo de Paiva",
           "11C0106",
           0
          ],
          [
           "Celorico de Basto",
           "11C0305",
           0
          ],
          [
           "Cinfães",
           "11C1804",
           0
          ],
          [
           "Felgueiras",
           "11C1303",
           0
          ],
          [
           "Lousada",
           "11C1305",
           0
          ],
          [
           "Marco de Canaveses",
           "11C1307",
           0
          ],
          [
           "Paços de Ferreira",
           "11C1309",
           0
          ],
          [
           "Penafiel",
           "11C1311",
           0
          ],
          [
           "Resende",
           "11C1813",
           0
          ],
          [
           "Alijó",
           "11D1701",
           0
          ],
          [
           "Armamar",
           "11D1801",
           0
          ],
          [
           "Carrazeda de Ansiães",
           "11D0403",
           0
          ],
          [
           "Freixo de Espada à Cinta",
           "11D0404",
           0
          ],
          [
           "Lamego",
           "11D1805",
           0
          ],
          [
           "Mesão Frio",
           "11D1704",
           0
          ],
          [
           "Moimenta da Beira",
           "11D1807",
           0
          ],
          [
           "Murça",
           "11D1707",
           0
          ],
          [
           "Penedono",
           "11D1812",
           0
          ],
          [
           "Peso da Régua",
           "11D1708",
           0
          ],
          [
           "Sabrosa",
           "11D1710",
           0
          ],
          [
           "Santa Marta de Penaguião",
           "11D1711",
           0
          ],
          [
           "São João da Pesqueira",
           "11D1815",
           0
          ],
          [
           "Sernancelhe",
           "11D1818",
           0
          ],
          [
           "Tabuaço",
           "11D1819",
           0
          ],
          [
           "Tarouca",
           "11D1820",
           0
          ],
          [
           "Torre de Moncorvo",
           "11D0409",
           0
          ],
          [
           "Vila Nova de Foz Côa",
           "11D0914",
           0
          ],
          [
           "Vila Real",
           "11D1714",
           0
          ],
          [
           "Alfândega da Fé",
           "11E0401",
           0
          ],
          [
           "Bragança",
           "11E0402",
           0
          ],
          [
           "Macedo de Cavaleiros",
           "11E0405",
           0
          ],
          [
           "Miranda do Douro",
           "11E0406",
           0
          ],
          [
           "Mirandela",
           "11E0407",
           0
          ],
          [
           "Mogadouro",
           "11E0408",
           0
          ],
          [
           "Vila Flor",
           "11E0410",
           0
          ],
          [
           "Vimioso",
           "11E0411",
           0
          ],
          [
           "Vinhais",
           "11E0412",
           0
          ],
          [
           "Águeda",
           "1910101",
           0
          ],
          [
           "Albergaria-a-Velha",
           "1910102",
           0
          ],
          [
           "Anadia",
           "1910103",
           0
          ],
          [
           "Aveiro",
           "1910105",
           0
          ],
          [
           "Estarreja",
           "1910108",
           0
          ],
          [
           "Ílhavo",
           "1910110",
           0
          ],
          [
           "Murtosa",
           "1910112",
           0
          ],
          [
           "Oliveira do Bairro",
           "1910114",
           0
          ],
          [
           "Ovar",
           "1910115",
           0
          ],
          [
           "Sever do Vouga",
           "1910117",
           0
          ],
          [
           "Vagos",
           "1910118",
           0
          ],
          [
           "Arganil",
           "1920601",
           0
          ],
          [
           "Cantanhede",
           "1920602",
           0
          ],
          [
           "Coimbra",
           "1920603",
           1
          ],
          [
           "Condeixa-a-Nova",
           "1920604",
           0
          ],
          [
           "Figueira da Foz",
           "1920605",
           0
          ],
          [
           "Góis",
           "1920606",
           0
          ],
          [
           "Lousã",
           "1920607",
           0
          ],
          [
           "Mealhada",
           "1920111",
           0
          ],
          [
           "Mira",
           "1920608",
           0
          ],
          [
           "Miranda do Corvo",
           "1920609",
           0
          ],
          [
           "Montemor-o-Velho",
           "1920610",
           0
          ],
          [
           "Mortágua",
           "1921808",
           0
          ],
          [
           "Oliveira do Hospital",
           "1920611",
           0
          ],
          [
           "Pampilhosa da Serra",
           "1920612",
           0
          ],
          [
           "Penacova",
           "1920613",
           0
          ],
          [
           "Penela",
           "1920614",
           0
          ],
          [
           "Soure",
           "1920615",
           0
          ],
          [
           "Tábua",
           "1920616",
           0
          ],
          [
           "Vila Nova de Poiares",
           "1920617",
           0
          ],
          [
           "Alvaiázere",
           "1931002",
           0
          ],
          [
           "Ansião",
           "1931003",
           0
          ],
          [
           "Batalha",
           "1931004",
           0
          ],
          [
           "Castanheira de Pêra",
           "1931007",
           0
          ],
          [
           "Figueiró dos Vinhos",
           "1931008",
           0
          ],
          [
           "Leiria",
           "1931009",
           1
          ],
          [
           "Marinha Grande",
           "1931010",
           0
          ],
          [
           "Pedrógão Grande",
           "1931013",
           0
          ],
          [
           "Pombal",
           "1931015",
           0
          ],
          [
           "Porto de Mós",
           "1931016",
           0
          ],
          [
           "Aguiar da Beira",
           "1940901",
           0
          ],
          [
           "Carregal do Sal",
           "1941802",
           0
          ],
          [
           "Castro Daire",
           "1941803",
           0
          ],
          [
           "Mangualde",
           "1941806",
           0
          ],
          [
           "Nelas",
           "1941809",
           0
          ],
          [
           "Oliveira de Frades",
           "1941810",
           0
          ],
          [
           "Penalva do Castelo",
           "1941811",
           0
          ],
          [
           "Santa Comba Dão",
           "1941814",
           0
          ],
          [
           "São Pedro do Sul",
           "1941816",
           0
          ],
          [
           "Sátão",
           "1941817",
           0
          ],
          [
           "Tondela",
           "1941821",
           0
          ],
          [
           "Vila Nova de Paiva",
           "1941822",
           0
          ],
          [
           "Viseu",
           "1941823",
           1
          ],
          [
           "Vouzela",
           "1941824",
           0
          ],
          [
           "Castelo Branco",
           "1950502",
           0
          ],
          [
           "Idanha-a-Nova",
           "1950505",
           0
          ],
          [
           "Oleiros",
           "1950506",
           0
          ],
          [
           "Penamacor",
           "1950507",
           0
          ],
          [
           "Proença-a-Nova",
           "1950508",
           0
          ],
          [
           "Sertã",
           "1950509",
           0
          ],
          [
           "Vila de Rei",
           "1950510",
           0
          ],
          [
           "Vila Velha de Ródão",
           "1950511",
           0
          ],
          [
           "Almeida",
           "1960902",
           0
          ],
          [
           "Belmonte",
           "1960501",
           0
          ],
          [
           "Celorico da Beira",
           "1960903",
           0
          ],
          [
           "Covilhã",
           "1960503",
           0
          ],
          [
           "Figueira de Castelo Rodrigo",
           "1960904",
           0
          ],
          [
           "Fornos de Algodres",
           "1960905",
           0
          ],
          [
           "Fundão",
           "1960504",
           0
          ],
          [
           "Gouveia",
           "1960906",
           0
          ],
          [
           "Guarda",
           "1960907",
           0
          ],
          [
           "Manteigas",
           "1960908",
           0
          ],
          [
           "Mêda",
           "1960909",
           0
          ],
          [
           "Pinhel",
           "1960910",
           0
          ],
          [
           "Sabugal",
           "1960911",
           0
          ],
          [
           "Seia",
           "1960912",
           0
          ],
          [
           "Trancoso",
           "1960913",
           0
          ],
          [
           "Alcobaça",
           "1D11001",
           0
          ],
          [
           "Alenquer",
           "1D11101",
           0
          ],
          [
           "Arruda dos Vinhos",
           "1D11102",
           0
          ],
          [
           "Bombarral",
           "1D11005",
           0
          ],
          [
           "Cadaval",
           "1D11104",
           0
          ],
          [
           "Caldas da Rainha",
           "1D11006",
           0
          ],
          [
           "Lourinhã",
           "1D11108",
           0
          ],
          [
           "Nazaré",
           "1D11011",
           0
          ],
          [
           "Óbidos",
           "1D11012",
           0
          ],
          [
           "Peniche",
           "1D11014",
           0
          ],
          [
           "Sobral de Monte Agraço",
           "1D11112",
           0
          ],
          [
           "Torres Vedras",
           "1D11113",
           0
          ],
          [
           "Abrantes",
           "1D21401",
           0
          ],
          [
           "Alcanena",
           "1D21402",
           0
          ],
          [
           "Constância",
           "1D21408",
           0
          ],
          [
           "Entroncamento",
           "1D21410",
           0
          ],
          [
           "Ferreira do Zêzere",
           "1D21411",
           0
          ],
          [
           "Mação",
           "1D21413",
           0
          ],
          [
           "Ourém",
           "1D21421",
           0
          ],
          [
           "Sardoal",
           "1D21417",
           0
          ],
          [
           "Tomar",
           "1D21418",
           0
          ],
          [
           "Torres Novas",
           "1D21419",
           0
          ],
          [
           "Vila Nova da Barquinha",
           "1D21420",
           0
          ],
          [
           "Almeirim",
           "1D31403",
           0
          ],
          [
           "Alpiarça",
           "1D31404",
           0
          ],
          [
           "Azambuja",
           "1D31103",
           0
          ],
          [
           "Benavente",
           "1D31405",
           0
          ],
          [
           "Cartaxo",
           "1D31406",
           0
          ],
          [
           "Chamusca",
           "1D31407",
           0
          ],
          [
           "Coruche",
           "1D31409",
           0
          ],
          [
           "Golegã",
           "1D31412",
           0
          ],
          [
           "Rio Maior",
           "1D31414",
           0
          ],
          [
           "Salvaterra de Magos",
           "1D31415",
           0
          ],
          [
           "Santarém",
           "1D31416",
           0
          ],
          [
           "Amadora",
           "1A01115",
           1
          ],
          [
           "Cascais",
           "1A01105",
           1
          ],
          [
           "Lisboa",
           "1A01106",
           2
          ],
          [
           "Loures",
           "1A01107",
           1
          ],
          [
           "Mafra",
           "1A01109",
           1
          ],
          [
           "Odivelas",
           "1A01116",
           1
          ],
          [
           "Oeiras",
           "1A01110",
           1
          ],
          [
           "Sintra",
           "1A01111",
           1
          ],
          [
           "Vila Franca de Xira",
           "1A01114",
           1
          ],
          [
           "Alcochete",
           "1B01502",
           0
          ],
          [
           "Almada",
           "1B01503",
           1
          ],
          [
           "Barreiro",
           "1B01504",
           0
          ],
          [
           "Moita",
           "1B01506",
           0
          ],
          [
           "Montijo",
           "1B01507",
           0
          ],
          [
           "Palmela",
           "1B01508",
           0
          ],
          [
           "Seixal",
           "1B01510",
           1
          ],
          [
           "Sesimbra",
           "1B01511",
           0
          ],
          [
           "Setúbal",
           "1B01512",
           1
          ],
          [
           "Alcácer do Sal",
           "1C11501",
           0
          ],
          [
           "Grândola",
           "1C11505",
           0
          ],
          [
           "Odemira",
           "1C10211",
           0
          ],
          [
           "Santiago do Cacém",
           "1C11509",
           0
          ],
          [
           "Sines",
           "1C11513",
           0
          ],
          [
           "Aljustrel",
           "1C20201",
           0
          ],
          [
           "Almodôvar",
           "1C20202",
           0
          ],
          [
           "Alvito",
           "1C20203",
           0
          ],
          [
           "Barrancos",
           "1C20204",
           0
          ],
          [
           "Beja",
           "1C20205",
           0
          ],
          [
           "Castro Verde",
           "1C20206",
           0
          ],
          [
           "Cuba",
           "1C20207",
           0
          ],
          [
           "Ferreira do Alentejo",
           "1C20208",
           0
          ],
          [
           "Mértola",
           "1C20209",
           0
          ],
          [
           "Moura",
           "1C20210",
           0
          ],
          [
           "Ourique",
           "1C20212",
           0
          ],
          [
           "Serpa",
           "1C20213",
           0
          ],
          [
           "Vidigueira",
           "1C20214",
           0
          ],
          [
           "Alter do Chão",
           "1C31201",
           0
          ],
          [
           "Arronches",
           "1C31202",
           0
          ],
          [
           "Avis",
           "1C31203",
           0
          ],
          [
           "Campo Maior",
           "1C31204",
           0
          ],
          [
           "Castelo de Vide",
           "1C31205",
           0
          ],
          [
           "Crato",
           "1C31206",
           0
          ],
          [
           "Elvas",
           "1C31207",
           0
          ],
          [
           "Fronteira",
           "1C31208",
           0
          ],
          [
           "Gavião",
           "1C31209",
           0
          ],
          [
           "Marvão",
           "1C31210",
           0
          ],
          [
           "Monforte",
           "1C31211",
           0
          ],
          [
           "Nisa",
           "1C31212",
           0
          ],
          [
           "Ponte de Sor",
           "1C31213",
           0
          ],
          [
           "Portalegre",
           "1C31214",
           0
          ],
          [
           "Sousel",
           "1C31215",
           0
          ],
          [
           "Alandroal",
           "1C40701",
           0
          ],
          [
           "Arraiolos",
           "1C40702",
           0
          ],
          [
           "Borba",
           "1C40703",
           0
          ],
          [
           "Estremoz",
           "1C40704",
           0
          ],
          [
           "Évora",
           "1C40705",
           0
          ],
          [
           "Montemor-o-Novo",
           "1C40706",
           0
          ],
          [
           "Mora",
           "1C40707",
           0
          ],
          [
           "Mourão",
           "1C40708",
           0
          ],
          [
           "Portel",
           "1C40709",
           0
          ],
          [
           "Redondo",
           "1C40710",
           0
          ],
          [
           "Reguengos de Monsaraz",
           "1C40711",
           0
          ],
          [
           "Vendas Novas",
           "1C40712",
           0
          ],
          [
           "Viana do Alentejo",
           "1C40713",
           0
          ],
          [
           "Vila Viçosa",
           "1C40714",
           0
          ],
          [
           "Albufeira",
           "1500801",
           0
          ],
          [
           "Alcoutim",
           "1500802",
           0
          ],
          [
           "Aljezur",
           "1500803",
           0
          ],
          [
           "Castro Marim",
           "1500804",
           0
          ],
          [
           "Faro",
           "1500805",
           0
          ],
          [
           "Lagoa",
           "1500806",
           0
          ],
          [
           "Lagos",
           "1500807",
           0
          ],
          [
           "Loulé",
           "1500808",
           1
          ],
          [
           "Monchique",
           "1500809",
           0
          ],
          [
           "Olhão",
           "1500810",
           0
          ],
          [
           "Portimão",
           "1500811",
           0
          ],
          [
           "São Brás de Alportel",
           "1500812",
           0
          ],
          [
           "Silves",
           "1500813",
           0
          ],
          [
           "Tavira",
           "1500814",
           0
          ],
          [
           "Vila do Bispo",
           "1500815",
           0
          ],
          [
           "Vila Real de Santo António",
           "1500816",
           0
          ],
          [
           "Angra do Heroísmo",
           "2004301",
           0
          ],
          [
           "Calheta (R.A.A.)",
           "2004501",
           0
          ],
          [
           "Corvo",
           "2004901",
           0
          ],
          [
           "Horta",
           "2004701",
           0
          ],
          [
           "Lagoa (R.A.A.)",
           "2004201",
           0
          ],
          [
           "Lajes das Flores",
           "2004801",
           0
          ],
          [
           "Lajes do Pico",
           "2004601",
           0
          ],
          [
           "Madalena",
           "2004602",
           0
          ],
          [
           "Nordeste",
           "2004202",
           0
          ],
          [
           "Ponta Delgada",
           "2004203",
           0
          ],
          [
           "Povoação",
           "2004204",
           0
          ],
          [
           "Ribeira Grande",
           "2004205",
           0
          ],
          [
           "Santa Cruz da Graciosa",
           "2004401",
           0
          ],
          [
           "Santa Cruz das Flores",
           "2004802",
           0
          ],
          [
           "São Roque do Pico",
           "2004603",
           0
          ],
          [
           "Velas",
           "2004502",
           0
          ],
          [
           "Vila da Praia da Vitória",
           "2004302",
           0
          ],
          [
           "Vila do Porto",
           "2004101",
           0
          ],
          [
           "Vila Franca do Campo",
           "2004206",
           0
          ],
          [
           "Calheta (R.A.M.)",
           "3003101",
           0
          ],
          [
           "Câmara de Lobos",
           "3003102",
           0
          ],
          [
           "Funchal",
           "3003103",
           1
          ],
          [
           "Machico",
           "3003104",
           0
          ],
          [
           "Ponta do Sol",
           "3003105",
           0
          ],
          [
           "Porto Moniz",
           "3003106",
           0
          ],
          [
           "Ribeira Brava",
           "3003107",
           0
          ],
          [
           "Santa Cruz",
           "3003108",
           0
          ],
          [
           "Santana",
           "3003109",
           0
          ],
          [
           "São Vicente",
           "3003110",
           0
          ],
          [
           "Porto Santo",
           "3003201",
           0
          ]
         ],
         "hovertemplate": "valor=%{x}<br>y=%{y}<br>local=%{customdata[0]}<br>codigo=%{customdata[1]}<br>Estabelecimentos=%{marker.color}<extra></extra>",
         "legendgroup": "",
         "marker": {
          "color": [
           0,
           0,
           0,
           0,
           0,
           0,
           0,
           0,
           0,
           0,
           0,
           1,
           1,
           0,
           0,
           0,
           0,
           0,
           1,
           0,
           0,
           0,
           1,
           0,
           0,
           0,
           1,
           1,
           1,
           0,
           0,
           1,
           0,
           1,
           0,
           0,
           0,
           0,
           0,
           0,
           1,
           0,
           0,
           0,
           0,
           0,
           0,
           0,
           0,
           0,
           0,
           0,
           0,
           0,
           0,
           0,
           0,
           0,
           0,
           0,
           0,
           0,
           0,
           0,
           0,
           0,
           0,
           0,
           0,
           0,
           0,
           0,
           0,
           0,
           0,
           0,
           0,
           0,
           0,
           0,
           0,
           0,
           0,
           0,
           0,
           0,
           0,
           0,
           0,
           0,
           0,
           0,
           0,
           0,
           0,
           0,
           0,
           0,
           0,
           1,
           0,
           0,
           0,
           0,
           0,
           0,
           0,
           0,
           0,
           0,
           0,
           0,
           0,
           0,
           0,
           0,
           0,
           0,
           0,
           0,
           0,
           1,
           0,
           0,
           0,
           0,
           0,
           0,
           0,
           0,
           0,
           0,
           0,
           0,
           0,
           0,
           0,
           0,
           1,
           0,
           0,
           0,
           0,
           0,
           0,
           0,
           0,
           0,
           0,
           0,
           0,
           0,
           0,
           0,
           0,
           0,
           0,
           0,
           0,
           0,
           0,
           0,
           0,
           0,
           0,
           0,
           0,
           0,
           0,
           0,
           0,
           0,
           0,
           0,
           0,
           0,
           0,
           0,
           0,
           0,
           0,
           0,
           0,
           0,
           0,
           0,
           0,
           0,
           0,
           0,
           0,
           0,
           0,
           0,
           0,
           0,
           0,
           1,
           1,
           2,
           1,
           1,
           1,
           1,
           1,
           1,
           0,
           1,
           0,
           0,
           0,
           0,
           1,
           0,
           1,
           0,
           0,
           0,
           0,
           0,
           0,
           0,
           0,
           0,
           0,
           0,
           0,
           0,
           0,
           0,
           0,
           0,
           0,
           0,
           0,
           0,
           0,
           0,
           0,
           0,
           0,
           0,
           0,
           0,
           0,
           0,
           0,
           0,
           0,
           0,
           0,
           0,
           0,
           0,
           0,
           0,
           0,
           0,
           0,
           0,
           0,
           0,
           0,
           0,
           0,
           0,
           0,
           0,
           0,
           1,
           0,
           0,
           0,
           0,
           0,
           0,
           0,
           0,
           0,
           0,
           0,
           0,
           0,
           0,
           0,
           0,
           0,
           0,
           0,
           0,
           0,
           0,
           0,
           0,
           0,
           0,
           0,
           0,
           0,
           1,
           0,
           0,
           0,
           0,
           0,
           0,
           0,
           0
          ],
          "coloraxis": "coloraxis",
          "size": 10,
          "symbol": "circle"
         },
         "mode": "markers",
         "name": "",
         "orientation": "v",
         "showlegend": false,
         "type": "scatter",
         "x": [
          -0.18440349638407455,
          -0.2184828214637009,
          -0.3472772920438846,
          -0.15204626485900377,
          -0.35334993773626483,
          -0.3279717169322877,
          0.056055145733608265,
          -0.25917861125293556,
          0.63295648650973,
          -0.3441956509462588,
          -0.246217591342333,
          0.9625108109499467,
          2.149395816050232,
          0.038834210188052394,
          -0.3756465174426161,
          0.1073554063587905,
          -0.2879103826631525,
          0.043728581343105116,
          1.2212780266476415,
          -0.39386445451975677,
          -0.23017493033410463,
          -0.3225335267600069,
          1.0719090699156621,
          -0.2405981281643095,
          -0.212228902765578,
          -0.09693927111322498,
          1.199706538964261,
          1.2913400433671927,
          1.8530144516609282,
          0.28871904860435527,
          0.422226617333849,
          4.53984294277913,
          0.4364565482846504,
          1.1881957030996,
          0.20306755339093263,
          -0.14262006856038373,
          -0.00458067468732268,
          -0.2149479978517184,
          0.5135882122281664,
          0.5091470235874704,
          4.042792361032665,
          -0.39748991463461064,
          0.007745889703180472,
          -0.30513131820870837,
          -0.3891513563704468,
          -0.13962906396562927,
          -0.30340922465415276,
          0.11070895696503033,
          -0.30785041329484875,
          -0.32235225375426424,
          -0.29561448540721696,
          -0.2943455743670181,
          0.1787769706214117,
          0.023154095191309412,
          0.010193075280706834,
          0.11397187106839882,
          0.22617986162312603,
          -0.33096272152704215,
          -0.24793968489688858,
          -0.3693019622416218,
          -0.36404504507508373,
          -0.4052846538815465,
          -0.15123053633316166,
          -0.4074599299504588,
          -0.3312346310356562,
          -0.3506308426501244,
          -0.406462928418874,
          -0.22908729229964847,
          -0.36576713862963933,
          -0.3278810804294164,
          -0.31419496849584305,
          -0.37365251437944647,
          -0.38471016772975075,
          -0.3738337873851892,
          -0.34591774450081436,
          -0.33984509880843417,
          0.24349143367155326,
          -0.3616884960004287,
          0.16273430961318333,
          -0.17787766817733758,
          -0.3484555665812121,
          -0.12268003792868744,
          -0.28809165566889516,
          -0.35924131042290236,
          -0.40002773671500835,
          -0.29226093480097715,
          0.1168722391602819,
          -0.16446346575237827,
          -0.08325315917965162,
          0.693320397422047,
          -0.1885727755161565,
          0.0033047010624844835,
          -0.341114009848633,
          -0.16364773722653614,
          0.15575529889208964,
          -0.3142856049987144,
          -0.16518855777534905,
          -0.3419297383744751,
          0.026054463283192508,
          1.713434237239054,
          -0.28220028298225763,
          0.2669662879152321,
          -0.41670485324333617,
          -0.2721396311635382,
          -0.22256146409291153,
          -0.3146481510101998,
          -0.33032826600694276,
          -0.19890533684349002,
          -0.343198649414674,
          -0.2617164333333333,
          -0.43492279032047687,
          -0.3117477829183167,
          -0.393139362496786,
          -0.3015058580938545,
          -0.3465522000209138,
          -0.38135661712351093,
          -0.37845624903162783,
          -0.31673279057624076,
          -0.2443142247820347,
          -0.43528533633196226,
          -0.40120601125233585,
          1.4337299893780782,
          0.024694915740122305,
          -0.41688612624907884,
          0.19663236168706702,
          -0.16990165592465908,
          -0.39051090391351695,
          -0.3761903364598442,
          -0.32316798228010635,
          -0.26162579683046194,
          -0.33893873377972067,
          -0.3449207429692296,
          -0.37809370302014245,
          -0.354437575770721,
          -0.29733657896177257,
          -0.33694473071655107,
          -0.169357836907431,
          -0.40918202350501437,
          0.8298189707462951,
          -0.3521716631989373,
          0.14125345843267417,
          -0.36205104201191407,
          -0.4045595618585757,
          -0.4117198455854121,
          -0.38235361865509576,
          -0.2916264792808777,
          -0.4218711339070029,
          -0.433653879280278,
          -0.3956771845771837,
          -0.3915079054451018,
          -0.3982150066575814,
          0.03448365805022775,
          -0.3788187950431132,
          -0.417701854774921,
          -0.13899460844552985,
          -0.3362196386935803,
          0.008561618229022593,
          -0.43147860321136566,
          -0.3882449913417333,
          -0.30712532127187797,
          -0.3315971770471416,
          -0.239419853626982,
          -0.3377604592423932,
          0.2639752833204776,
          0.01001180227496414,
          -0.2729553596893803,
          -0.27830291335878976,
          -0.28818229217176655,
          0.29606060533693435,
          -0.07573032944132985,
          -0.2144041788344903,
          -0.24313595024470722,
          -0.10554973888600291,
          -0.32606835037198945,
          0.7339255507084103,
          -0.14361707009196853,
          -0.3117477829183167,
          -0.43048160167978083,
          -0.25546251463521036,
          -0.3791813410545986,
          -0.3957678210800551,
          0.14279427898148706,
          -0.42368386396442986,
          -0.055699662306762224,
          -0.10663737692045908,
          -0.4036531968298622,
          -0.18730386447595765,
          -0.38389443920390864,
          -0.26289470787066077,
          -0.1311092326957227,
          -0.22083937053835592,
          -0.3722023303335049,
          -0.275493181769778,
          -0.40129664775520724,
          -0.20724389510765392,
          -0.2614445238247193,
          0.24983598887254752,
          1.6452755870798015,
          3.1486632602068294,
          12.890999680842144,
          1.9090278104354204,
          0.79918383277578,
          1.542675065829437,
          2.298492863273597,
          4.310713863520365,
          0.9289753048875484,
          -0.234978664986286,
          1.8408691602761675,
          0.3087497157389229,
          0.08007381899451514,
          0.2330682358413484,
          0.32361410220982373,
          1.4321891688292654,
          0.20904956258044152,
          1.0395518383905913,
          -0.28528192407988345,
          -0.23905730761549662,
          -0.024792614827632994,
          -0.10627483090897369,
          -0.28881674769186594,
          -0.37809370302014245,
          -0.37573715394548746,
          -0.43138796670849433,
          -0.4370074298865178,
          0.021703911145367866,
          -0.38235361865509576,
          -0.4011153747494645,
          -0.3510840251644811,
          -0.3812659806206396,
          -0.2680609885343276,
          -0.3925049069766866,
          -0.2701456281003685,
          -0.3915079054451018,
          -0.4263123225476989,
          -0.427128051073541,
          -0.41742994526630695,
          -0.3878824453302479,
          -0.4220524069127456,
          -0.42196177040987426,
          -0.20325588898131466,
          -0.4184269467978918,
          -0.4319317857257224,
          -0.4148014866830379,
          -0.43102542069700894,
          -0.3896045388848035,
          -0.2962489409273164,
          -0.18503795190417396,
          -0.40002773671500835,
          -0.3979430971489674,
          -0.3770967014885577,
          -0.3759184269512301,
          -0.2862789256114682,
          0.27122620355018534,
          -0.23796966958104046,
          -0.41452957717442385,
          -0.4334726062745353,
          -0.3896045388848035,
          -0.3768247919799436,
          -0.3192706126566385,
          -0.3327754515844691,
          -0.38525398674697886,
          -0.37319933186508975,
          0.6702987256927249,
          -0.42857823511948256,
          -0.3134698764728723,
          -0.3696645082531072,
          0.7311158191193986,
          0.06267161044321658,
          0.2652441943606765,
          1.131457252302137,
          -0.38153789012925365,
          0.1791395166328971,
          0.6175482810216011,
          -0.2774871848329476,
          0.15358002282317731,
          0.028954831375075603,
          -0.3312346310356562,
          -0.1866694089558582,
          -0.0034930366528665197,
          -0.4045595618585757,
          -0.4532313639004889,
          -0.22555246868766596,
          -0.3201769776853519,
          -0.435738518846319,
          -0.39014835790203156,
          -0.349996387130025,
          -0.4171580357576929,
          0.39557948548967303,
          -0.41208239159689747,
          -0.1724394780050568,
          -0.4051033808758038,
          -0.4258591400333422,
          -0.4049221078700611,
          -0.38307871067806654,
          -0.21449481533736164,
          -0.3832599836838092,
          -0.3537124837477502,
          -0.2805688259305734,
          -0.16183500716910923,
          1.1537538320084884,
          -0.28936056670909405,
          -0.30340922465415276,
          -0.427128051073541,
          -0.3241649838116912,
          -0.024973887833375688,
          -0.39594909408579776,
          -0.38733862631301985,
          -0.3986681891719382
         ],
         "xaxis": "x",
         "y": [
          0,
          0,
          0,
          0,
          0,
          0,
          0,
          0,
          0,
          0,
          0,
          0,
          0,
          0,
          0,
          0,
          0,
          0,
          0,
          0,
          0,
          0,
          0,
          0,
          0,
          0,
          0,
          0,
          0,
          0,
          0,
          0,
          0,
          0,
          0,
          0,
          0,
          0,
          0,
          0,
          0,
          0,
          0,
          0,
          0,
          0,
          0,
          0,
          0,
          0,
          0,
          0,
          0,
          0,
          0,
          0,
          0,
          0,
          0,
          0,
          0,
          0,
          0,
          0,
          0,
          0,
          0,
          0,
          0,
          0,
          0,
          0,
          0,
          0,
          0,
          0,
          0,
          0,
          0,
          0,
          0,
          0,
          0,
          0,
          0,
          0,
          0,
          0,
          0,
          0,
          0,
          0,
          0,
          0,
          0,
          0,
          0,
          0,
          0,
          0,
          0,
          0,
          0,
          0,
          0,
          0,
          0,
          0,
          0,
          0,
          0,
          0,
          0,
          0,
          0,
          0,
          0,
          0,
          0,
          0,
          0,
          0,
          0,
          0,
          0,
          0,
          0,
          0,
          0,
          0,
          0,
          0,
          0,
          0,
          0,
          0,
          0,
          0,
          0,
          0,
          0,
          0,
          0,
          0,
          0,
          0,
          0,
          0,
          0,
          0,
          0,
          0,
          0,
          0,
          0,
          0,
          0,
          0,
          0,
          0,
          0,
          0,
          0,
          0,
          0,
          0,
          0,
          0,
          0,
          0,
          0,
          0,
          0,
          0,
          0,
          0,
          0,
          0,
          0,
          0,
          0,
          0,
          0,
          0,
          0,
          0,
          0,
          0,
          0,
          0,
          0,
          0,
          0,
          0,
          0,
          0,
          0,
          0,
          0,
          0,
          0,
          0,
          0,
          0,
          0,
          0,
          0,
          0,
          0,
          0,
          0,
          0,
          0,
          0,
          0,
          0,
          0,
          0,
          0,
          0,
          0,
          0,
          0,
          0,
          0,
          0,
          0,
          0,
          0,
          0,
          0,
          0,
          0,
          0,
          0,
          0,
          0,
          0,
          0,
          0,
          0,
          0,
          0,
          0,
          0,
          0,
          0,
          0,
          0,
          0,
          0,
          0,
          0,
          0,
          0,
          0,
          0,
          0,
          0,
          0,
          0,
          0,
          0,
          0,
          0,
          0,
          0,
          0,
          0,
          0,
          0,
          0,
          0,
          0,
          0,
          0,
          0,
          0,
          0,
          0,
          0,
          0,
          0,
          0,
          0,
          0,
          0,
          0,
          0,
          0,
          0,
          0,
          0,
          0,
          0,
          0,
          0,
          0,
          0,
          0,
          0,
          0,
          0,
          0,
          0,
          0,
          0,
          0
         ],
         "yaxis": "y"
        }
       ],
       "layout": {
        "coloraxis": {
         "colorbar": {
          "title": {
           "text": "Estabelecimentos"
          }
         },
         "colorscale": [
          [
           0,
           "#440154"
          ],
          [
           0.1111111111111111,
           "#482878"
          ],
          [
           0.2222222222222222,
           "#3e4989"
          ],
          [
           0.3333333333333333,
           "#31688e"
          ],
          [
           0.4444444444444444,
           "#26828e"
          ],
          [
           0.5555555555555556,
           "#1f9e89"
          ],
          [
           0.6666666666666666,
           "#35b779"
          ],
          [
           0.7777777777777778,
           "#6ece58"
          ],
          [
           0.8888888888888888,
           "#b5de2b"
          ],
          [
           1,
           "#fde725"
          ]
         ]
        },
        "height": 300,
        "legend": {
         "tracegroupgap": 0
        },
        "margin": {
         "t": 60
        },
        "template": {
         "data": {
          "bar": [
           {
            "error_x": {
             "color": "#2a3f5f"
            },
            "error_y": {
             "color": "#2a3f5f"
            },
            "marker": {
             "line": {
              "color": "#E5ECF6",
              "width": 0.5
             },
             "pattern": {
              "fillmode": "overlay",
              "size": 10,
              "solidity": 0.2
             }
            },
            "type": "bar"
           }
          ],
          "barpolar": [
           {
            "marker": {
             "line": {
              "color": "#E5ECF6",
              "width": 0.5
             },
             "pattern": {
              "fillmode": "overlay",
              "size": 10,
              "solidity": 0.2
             }
            },
            "type": "barpolar"
           }
          ],
          "carpet": [
           {
            "aaxis": {
             "endlinecolor": "#2a3f5f",
             "gridcolor": "white",
             "linecolor": "white",
             "minorgridcolor": "white",
             "startlinecolor": "#2a3f5f"
            },
            "baxis": {
             "endlinecolor": "#2a3f5f",
             "gridcolor": "white",
             "linecolor": "white",
             "minorgridcolor": "white",
             "startlinecolor": "#2a3f5f"
            },
            "type": "carpet"
           }
          ],
          "choropleth": [
           {
            "colorbar": {
             "outlinewidth": 0,
             "ticks": ""
            },
            "type": "choropleth"
           }
          ],
          "contour": [
           {
            "colorbar": {
             "outlinewidth": 0,
             "ticks": ""
            },
            "colorscale": [
             [
              0,
              "#0d0887"
             ],
             [
              0.1111111111111111,
              "#46039f"
             ],
             [
              0.2222222222222222,
              "#7201a8"
             ],
             [
              0.3333333333333333,
              "#9c179e"
             ],
             [
              0.4444444444444444,
              "#bd3786"
             ],
             [
              0.5555555555555556,
              "#d8576b"
             ],
             [
              0.6666666666666666,
              "#ed7953"
             ],
             [
              0.7777777777777778,
              "#fb9f3a"
             ],
             [
              0.8888888888888888,
              "#fdca26"
             ],
             [
              1,
              "#f0f921"
             ]
            ],
            "type": "contour"
           }
          ],
          "contourcarpet": [
           {
            "colorbar": {
             "outlinewidth": 0,
             "ticks": ""
            },
            "type": "contourcarpet"
           }
          ],
          "heatmap": [
           {
            "colorbar": {
             "outlinewidth": 0,
             "ticks": ""
            },
            "colorscale": [
             [
              0,
              "#0d0887"
             ],
             [
              0.1111111111111111,
              "#46039f"
             ],
             [
              0.2222222222222222,
              "#7201a8"
             ],
             [
              0.3333333333333333,
              "#9c179e"
             ],
             [
              0.4444444444444444,
              "#bd3786"
             ],
             [
              0.5555555555555556,
              "#d8576b"
             ],
             [
              0.6666666666666666,
              "#ed7953"
             ],
             [
              0.7777777777777778,
              "#fb9f3a"
             ],
             [
              0.8888888888888888,
              "#fdca26"
             ],
             [
              1,
              "#f0f921"
             ]
            ],
            "type": "heatmap"
           }
          ],
          "heatmapgl": [
           {
            "colorbar": {
             "outlinewidth": 0,
             "ticks": ""
            },
            "colorscale": [
             [
              0,
              "#0d0887"
             ],
             [
              0.1111111111111111,
              "#46039f"
             ],
             [
              0.2222222222222222,
              "#7201a8"
             ],
             [
              0.3333333333333333,
              "#9c179e"
             ],
             [
              0.4444444444444444,
              "#bd3786"
             ],
             [
              0.5555555555555556,
              "#d8576b"
             ],
             [
              0.6666666666666666,
              "#ed7953"
             ],
             [
              0.7777777777777778,
              "#fb9f3a"
             ],
             [
              0.8888888888888888,
              "#fdca26"
             ],
             [
              1,
              "#f0f921"
             ]
            ],
            "type": "heatmapgl"
           }
          ],
          "histogram": [
           {
            "marker": {
             "pattern": {
              "fillmode": "overlay",
              "size": 10,
              "solidity": 0.2
             }
            },
            "type": "histogram"
           }
          ],
          "histogram2d": [
           {
            "colorbar": {
             "outlinewidth": 0,
             "ticks": ""
            },
            "colorscale": [
             [
              0,
              "#0d0887"
             ],
             [
              0.1111111111111111,
              "#46039f"
             ],
             [
              0.2222222222222222,
              "#7201a8"
             ],
             [
              0.3333333333333333,
              "#9c179e"
             ],
             [
              0.4444444444444444,
              "#bd3786"
             ],
             [
              0.5555555555555556,
              "#d8576b"
             ],
             [
              0.6666666666666666,
              "#ed7953"
             ],
             [
              0.7777777777777778,
              "#fb9f3a"
             ],
             [
              0.8888888888888888,
              "#fdca26"
             ],
             [
              1,
              "#f0f921"
             ]
            ],
            "type": "histogram2d"
           }
          ],
          "histogram2dcontour": [
           {
            "colorbar": {
             "outlinewidth": 0,
             "ticks": ""
            },
            "colorscale": [
             [
              0,
              "#0d0887"
             ],
             [
              0.1111111111111111,
              "#46039f"
             ],
             [
              0.2222222222222222,
              "#7201a8"
             ],
             [
              0.3333333333333333,
              "#9c179e"
             ],
             [
              0.4444444444444444,
              "#bd3786"
             ],
             [
              0.5555555555555556,
              "#d8576b"
             ],
             [
              0.6666666666666666,
              "#ed7953"
             ],
             [
              0.7777777777777778,
              "#fb9f3a"
             ],
             [
              0.8888888888888888,
              "#fdca26"
             ],
             [
              1,
              "#f0f921"
             ]
            ],
            "type": "histogram2dcontour"
           }
          ],
          "mesh3d": [
           {
            "colorbar": {
             "outlinewidth": 0,
             "ticks": ""
            },
            "type": "mesh3d"
           }
          ],
          "parcoords": [
           {
            "line": {
             "colorbar": {
              "outlinewidth": 0,
              "ticks": ""
             }
            },
            "type": "parcoords"
           }
          ],
          "pie": [
           {
            "automargin": true,
            "type": "pie"
           }
          ],
          "scatter": [
           {
            "fillpattern": {
             "fillmode": "overlay",
             "size": 10,
             "solidity": 0.2
            },
            "type": "scatter"
           }
          ],
          "scatter3d": [
           {
            "line": {
             "colorbar": {
              "outlinewidth": 0,
              "ticks": ""
             }
            },
            "marker": {
             "colorbar": {
              "outlinewidth": 0,
              "ticks": ""
             }
            },
            "type": "scatter3d"
           }
          ],
          "scattercarpet": [
           {
            "marker": {
             "colorbar": {
              "outlinewidth": 0,
              "ticks": ""
             }
            },
            "type": "scattercarpet"
           }
          ],
          "scattergeo": [
           {
            "marker": {
             "colorbar": {
              "outlinewidth": 0,
              "ticks": ""
             }
            },
            "type": "scattergeo"
           }
          ],
          "scattergl": [
           {
            "marker": {
             "colorbar": {
              "outlinewidth": 0,
              "ticks": ""
             }
            },
            "type": "scattergl"
           }
          ],
          "scattermapbox": [
           {
            "marker": {
             "colorbar": {
              "outlinewidth": 0,
              "ticks": ""
             }
            },
            "type": "scattermapbox"
           }
          ],
          "scatterpolar": [
           {
            "marker": {
             "colorbar": {
              "outlinewidth": 0,
              "ticks": ""
             }
            },
            "type": "scatterpolar"
           }
          ],
          "scatterpolargl": [
           {
            "marker": {
             "colorbar": {
              "outlinewidth": 0,
              "ticks": ""
             }
            },
            "type": "scatterpolargl"
           }
          ],
          "scatterternary": [
           {
            "marker": {
             "colorbar": {
              "outlinewidth": 0,
              "ticks": ""
             }
            },
            "type": "scatterternary"
           }
          ],
          "surface": [
           {
            "colorbar": {
             "outlinewidth": 0,
             "ticks": ""
            },
            "colorscale": [
             [
              0,
              "#0d0887"
             ],
             [
              0.1111111111111111,
              "#46039f"
             ],
             [
              0.2222222222222222,
              "#7201a8"
             ],
             [
              0.3333333333333333,
              "#9c179e"
             ],
             [
              0.4444444444444444,
              "#bd3786"
             ],
             [
              0.5555555555555556,
              "#d8576b"
             ],
             [
              0.6666666666666666,
              "#ed7953"
             ],
             [
              0.7777777777777778,
              "#fb9f3a"
             ],
             [
              0.8888888888888888,
              "#fdca26"
             ],
             [
              1,
              "#f0f921"
             ]
            ],
            "type": "surface"
           }
          ],
          "table": [
           {
            "cells": {
             "fill": {
              "color": "#EBF0F8"
             },
             "line": {
              "color": "white"
             }
            },
            "header": {
             "fill": {
              "color": "#C8D4E3"
             },
             "line": {
              "color": "white"
             }
            },
            "type": "table"
           }
          ]
         },
         "layout": {
          "annotationdefaults": {
           "arrowcolor": "#2a3f5f",
           "arrowhead": 0,
           "arrowwidth": 1
          },
          "autotypenumbers": "strict",
          "coloraxis": {
           "colorbar": {
            "outlinewidth": 0,
            "ticks": ""
           }
          },
          "colorscale": {
           "diverging": [
            [
             0,
             "#8e0152"
            ],
            [
             0.1,
             "#c51b7d"
            ],
            [
             0.2,
             "#de77ae"
            ],
            [
             0.3,
             "#f1b6da"
            ],
            [
             0.4,
             "#fde0ef"
            ],
            [
             0.5,
             "#f7f7f7"
            ],
            [
             0.6,
             "#e6f5d0"
            ],
            [
             0.7,
             "#b8e186"
            ],
            [
             0.8,
             "#7fbc41"
            ],
            [
             0.9,
             "#4d9221"
            ],
            [
             1,
             "#276419"
            ]
           ],
           "sequential": [
            [
             0,
             "#0d0887"
            ],
            [
             0.1111111111111111,
             "#46039f"
            ],
            [
             0.2222222222222222,
             "#7201a8"
            ],
            [
             0.3333333333333333,
             "#9c179e"
            ],
            [
             0.4444444444444444,
             "#bd3786"
            ],
            [
             0.5555555555555556,
             "#d8576b"
            ],
            [
             0.6666666666666666,
             "#ed7953"
            ],
            [
             0.7777777777777778,
             "#fb9f3a"
            ],
            [
             0.8888888888888888,
             "#fdca26"
            ],
            [
             1,
             "#f0f921"
            ]
           ],
           "sequentialminus": [
            [
             0,
             "#0d0887"
            ],
            [
             0.1111111111111111,
             "#46039f"
            ],
            [
             0.2222222222222222,
             "#7201a8"
            ],
            [
             0.3333333333333333,
             "#9c179e"
            ],
            [
             0.4444444444444444,
             "#bd3786"
            ],
            [
             0.5555555555555556,
             "#d8576b"
            ],
            [
             0.6666666666666666,
             "#ed7953"
            ],
            [
             0.7777777777777778,
             "#fb9f3a"
            ],
            [
             0.8888888888888888,
             "#fdca26"
            ],
            [
             1,
             "#f0f921"
            ]
           ]
          },
          "colorway": [
           "#636efa",
           "#EF553B",
           "#00cc96",
           "#ab63fa",
           "#FFA15A",
           "#19d3f3",
           "#FF6692",
           "#B6E880",
           "#FF97FF",
           "#FECB52"
          ],
          "font": {
           "color": "#2a3f5f"
          },
          "geo": {
           "bgcolor": "white",
           "lakecolor": "white",
           "landcolor": "#E5ECF6",
           "showlakes": true,
           "showland": true,
           "subunitcolor": "white"
          },
          "hoverlabel": {
           "align": "left"
          },
          "hovermode": "closest",
          "mapbox": {
           "style": "light"
          },
          "paper_bgcolor": "white",
          "plot_bgcolor": "#E5ECF6",
          "polar": {
           "angularaxis": {
            "gridcolor": "white",
            "linecolor": "white",
            "ticks": ""
           },
           "bgcolor": "#E5ECF6",
           "radialaxis": {
            "gridcolor": "white",
            "linecolor": "white",
            "ticks": ""
           }
          },
          "scene": {
           "xaxis": {
            "backgroundcolor": "#E5ECF6",
            "gridcolor": "white",
            "gridwidth": 2,
            "linecolor": "white",
            "showbackground": true,
            "ticks": "",
            "zerolinecolor": "white"
           },
           "yaxis": {
            "backgroundcolor": "#E5ECF6",
            "gridcolor": "white",
            "gridwidth": 2,
            "linecolor": "white",
            "showbackground": true,
            "ticks": "",
            "zerolinecolor": "white"
           },
           "zaxis": {
            "backgroundcolor": "#E5ECF6",
            "gridcolor": "white",
            "gridwidth": 2,
            "linecolor": "white",
            "showbackground": true,
            "ticks": "",
            "zerolinecolor": "white"
           }
          },
          "shapedefaults": {
           "line": {
            "color": "#2a3f5f"
           }
          },
          "ternary": {
           "aaxis": {
            "gridcolor": "white",
            "linecolor": "white",
            "ticks": ""
           },
           "baxis": {
            "gridcolor": "white",
            "linecolor": "white",
            "ticks": ""
           },
           "bgcolor": "#E5ECF6",
           "caxis": {
            "gridcolor": "white",
            "linecolor": "white",
            "ticks": ""
           }
          },
          "title": {
           "x": 0.05
          },
          "xaxis": {
           "automargin": true,
           "gridcolor": "white",
           "linecolor": "white",
           "ticks": "",
           "title": {
            "standoff": 15
           },
           "zerolinecolor": "white",
           "zerolinewidth": 2
          },
          "yaxis": {
           "automargin": true,
           "gridcolor": "white",
           "linecolor": "white",
           "ticks": "",
           "title": {
            "standoff": 15
           },
           "zerolinecolor": "white",
           "zerolinewidth": 2
          }
         }
        },
        "xaxis": {
         "anchor": "y",
         "domain": [
          0,
          1
         ],
         "title": {
          "text": "Estabelecimentos"
         }
        },
        "yaxis": {
         "anchor": "x",
         "domain": [
          0,
          1
         ],
         "showgrid": false,
         "showticklabels": false,
         "title": {
          "text": "y"
         }
        }
       }
      }
     },
     "metadata": {},
     "output_type": "display_data"
    },
    {
     "name": "stdout",
     "output_type": "stream",
     "text": [
      "Estabelecimentos\n",
      "0    281\n",
      "1     26\n",
      "2      1\n",
      "Name: count, dtype: int64\n",
      "File saved to csv_files/9_Estabelecimentos.csv\n"
     ]
    }
   ],
   "source": [
    "clustered_df = aplicar_kmeans(df_estabelecimentos, 3, nome_cluster='Estabelecimentos')\n",
    "save_clustered_df_to_csv(clustered_df, \"csv_files/\", \"9_Estabelecimentos.csv\")"
   ]
  },
  {
   "cell_type": "markdown",
   "id": "f91eb20f-75aa-4ce7-9967-1d79d291aa8c",
   "metadata": {},
   "source": [
    "**Volume de negócios**"
   ]
  },
  {
   "cell_type": "code",
   "execution_count": 4,
   "id": "d2a2e242-14d2-4801-a031-f7f0c30e35c3",
   "metadata": {},
   "outputs": [
    {
     "data": {
      "text/html": [
       "<div>\n",
       "<style scoped>\n",
       "    .dataframe tbody tr th:only-of-type {\n",
       "        vertical-align: middle;\n",
       "    }\n",
       "\n",
       "    .dataframe tbody tr th {\n",
       "        vertical-align: top;\n",
       "    }\n",
       "\n",
       "    .dataframe thead th {\n",
       "        text-align: right;\n",
       "    }\n",
       "</style>\n",
       "<table border=\"1\" class=\"dataframe\">\n",
       "  <thead>\n",
       "    <tr style=\"text-align: right;\">\n",
       "      <th></th>\n",
       "      <th>local</th>\n",
       "      <th>codigo</th>\n",
       "      <th>Volume de negócios</th>\n",
       "    </tr>\n",
       "  </thead>\n",
       "  <tbody>\n",
       "    <tr>\n",
       "      <th>5</th>\n",
       "      <td>Arcos de Valdevez</td>\n",
       "      <td>1111601</td>\n",
       "      <td>556968151</td>\n",
       "    </tr>\n",
       "    <tr>\n",
       "      <th>6</th>\n",
       "      <td>Caminha</td>\n",
       "      <td>1111602</td>\n",
       "      <td>272644311</td>\n",
       "    </tr>\n",
       "    <tr>\n",
       "      <th>7</th>\n",
       "      <td>Melgaço</td>\n",
       "      <td>1111603</td>\n",
       "      <td>176837471</td>\n",
       "    </tr>\n",
       "    <tr>\n",
       "      <th>8</th>\n",
       "      <td>Monção</td>\n",
       "      <td>1111604</td>\n",
       "      <td>442685032</td>\n",
       "    </tr>\n",
       "    <tr>\n",
       "      <th>9</th>\n",
       "      <td>Paredes de Coura</td>\n",
       "      <td>1111605</td>\n",
       "      <td>239292075</td>\n",
       "    </tr>\n",
       "    <tr>\n",
       "      <th>...</th>\n",
       "      <td>...</td>\n",
       "      <td>...</td>\n",
       "      <td>...</td>\n",
       "    </tr>\n",
       "    <tr>\n",
       "      <th>343</th>\n",
       "      <td>Ribeira Brava</td>\n",
       "      <td>3003107</td>\n",
       "      <td>196348988</td>\n",
       "    </tr>\n",
       "    <tr>\n",
       "      <th>344</th>\n",
       "      <td>Santa Cruz</td>\n",
       "      <td>3003108</td>\n",
       "      <td>1215538817</td>\n",
       "    </tr>\n",
       "    <tr>\n",
       "      <th>345</th>\n",
       "      <td>Santana</td>\n",
       "      <td>3003109</td>\n",
       "      <td>69161459</td>\n",
       "    </tr>\n",
       "    <tr>\n",
       "      <th>346</th>\n",
       "      <td>São Vicente</td>\n",
       "      <td>3003110</td>\n",
       "      <td>69477867</td>\n",
       "    </tr>\n",
       "    <tr>\n",
       "      <th>347</th>\n",
       "      <td>Porto Santo</td>\n",
       "      <td>3003201</td>\n",
       "      <td>165242561</td>\n",
       "    </tr>\n",
       "  </tbody>\n",
       "</table>\n",
       "<p>308 rows × 3 columns</p>\n",
       "</div>"
      ],
      "text/plain": [
       "                 local   codigo Volume de negócios\n",
       "5    Arcos de Valdevez  1111601          556968151\n",
       "6              Caminha  1111602          272644311\n",
       "7              Melgaço  1111603          176837471\n",
       "8               Monção  1111604          442685032\n",
       "9     Paredes de Coura  1111605          239292075\n",
       "..                 ...      ...                ...\n",
       "343      Ribeira Brava  3003107          196348988\n",
       "344         Santa Cruz  3003108         1215538817\n",
       "345            Santana  3003109           69161459\n",
       "346        São Vicente  3003110           69477867\n",
       "347        Porto Santo  3003201          165242561\n",
       "\n",
       "[308 rows x 3 columns]"
      ]
     },
     "execution_count": 4,
     "metadata": {},
     "output_type": "execute_result"
    }
   ],
   "source": [
    "df_volume_de_negócios = processar_ficheiro(data_path+'Volume de negócios.xls',0)\n",
    "df_volume_de_negócios = carregar_municipios(df_volume_de_negócios)\n",
    "df_volume_de_negócios = df_volume_de_negócios[['local','codigo','Volume de negócios']]\n",
    "df_volume_de_negócios"
   ]
  },
  {
   "cell_type": "code",
   "execution_count": 5,
   "id": "2949ee7e-1db1-448c-a4af-3f43ff61164d",
   "metadata": {},
   "outputs": [
    {
     "data": {
      "application/vnd.plotly.v1+json": {
       "config": {
        "plotlyServerURL": "https://plot.ly"
       },
       "data": [
        {
         "customdata": [
          [
           "Arcos de Valdevez",
           "1111601",
           0
          ],
          [
           "Caminha",
           "1111602",
           0
          ],
          [
           "Melgaço",
           "1111603",
           0
          ],
          [
           "Monção",
           "1111604",
           0
          ],
          [
           "Paredes de Coura",
           "1111605",
           0
          ],
          [
           "Ponte da Barca",
           "1111606",
           0
          ],
          [
           "Ponte de Lima",
           "1111607",
           0
          ],
          [
           "Valença",
           "1111608",
           0
          ],
          [
           "Viana do Castelo",
           "1111609",
           0
          ],
          [
           "Vila Nova de Cerveira",
           "1111610",
           0
          ],
          [
           "Amares",
           "1120301",
           0
          ],
          [
           "Barcelos",
           "1120302",
           0
          ],
          [
           "Braga",
           "1120303",
           1
          ],
          [
           "Esposende",
           "1120306",
           0
          ],
          [
           "Terras de Bouro",
           "1120310",
           0
          ],
          [
           "Vila Verde",
           "1120313",
           0
          ],
          [
           "Cabeceiras de Basto",
           "1190304",
           0
          ],
          [
           "Fafe",
           "1190307",
           0
          ],
          [
           "Guimarães",
           "1190308",
           1
          ],
          [
           "Mondim de Basto",
           "1191705",
           0
          ],
          [
           "Póvoa de Lanhoso",
           "1190309",
           0
          ],
          [
           "Vieira do Minho",
           "1190311",
           0
          ],
          [
           "Vila Nova de Famalicão",
           "1190312",
           1
          ],
          [
           "Vizela",
           "1190314",
           0
          ],
          [
           "Arouca",
           "11A0104",
           0
          ],
          [
           "Espinho",
           "11A0107",
           0
          ],
          [
           "Gondomar",
           "11A1304",
           0
          ],
          [
           "Maia",
           "11A1306",
           1
          ],
          [
           "Matosinhos",
           "11A1308",
           1
          ],
          [
           "Oliveira de Azeméis",
           "11A0113",
           0
          ],
          [
           "Paredes",
           "11A1310",
           0
          ],
          [
           "Porto",
           "11A1312",
           1
          ],
          [
           "Póvoa de Varzim",
           "11A1313",
           0
          ],
          [
           "Santa Maria da Feira",
           "11A0109",
           1
          ],
          [
           "Santo Tirso",
           "11A1314",
           0
          ],
          [
           "São João da Madeira",
           "11A0116",
           0
          ],
          [
           "Trofa",
           "11A1318",
           0
          ],
          [
           "Vale de Cambra",
           "11A0119",
           0
          ],
          [
           "Valongo",
           "11A1315",
           0
          ],
          [
           "Vila do Conde",
           "11A1316",
           0
          ],
          [
           "Vila Nova de Gaia",
           "11A1317",
           1
          ],
          [
           "Boticas",
           "11B1702",
           0
          ],
          [
           "Chaves",
           "11B1703",
           0
          ],
          [
           "Montalegre",
           "11B1706",
           0
          ],
          [
           "Ribeira de Pena",
           "11B1709",
           0
          ],
          [
           "Valpaços",
           "11B1712",
           0
          ],
          [
           "Vila Pouca de Aguiar",
           "11B1713",
           0
          ],
          [
           "Amarante",
           "11C1301",
           0
          ],
          [
           "Baião",
           "11C1302",
           0
          ],
          [
           "Castelo de Paiva",
           "11C0106",
           0
          ],
          [
           "Celorico de Basto",
           "11C0305",
           0
          ],
          [
           "Cinfães",
           "11C1804",
           0
          ],
          [
           "Felgueiras",
           "11C1303",
           0
          ],
          [
           "Lousada",
           "11C1305",
           0
          ],
          [
           "Marco de Canaveses",
           "11C1307",
           0
          ],
          [
           "Paços de Ferreira",
           "11C1309",
           0
          ],
          [
           "Penafiel",
           "11C1311",
           0
          ],
          [
           "Resende",
           "11C1813",
           0
          ],
          [
           "Alijó",
           "11D1701",
           0
          ],
          [
           "Armamar",
           "11D1801",
           0
          ],
          [
           "Carrazeda de Ansiães",
           "11D0403",
           0
          ],
          [
           "Freixo de Espada à Cinta",
           "11D0404",
           0
          ],
          [
           "Lamego",
           "11D1805",
           0
          ],
          [
           "Mesão Frio",
           "11D1704",
           0
          ],
          [
           "Moimenta da Beira",
           "11D1807",
           0
          ],
          [
           "Murça",
           "11D1707",
           0
          ],
          [
           "Penedono",
           "11D1812",
           0
          ],
          [
           "Peso da Régua",
           "11D1708",
           0
          ],
          [
           "Sabrosa",
           "11D1710",
           0
          ],
          [
           "Santa Marta de Penaguião",
           "11D1711",
           0
          ],
          [
           "São João da Pesqueira",
           "11D1815",
           0
          ],
          [
           "Sernancelhe",
           "11D1818",
           0
          ],
          [
           "Tabuaço",
           "11D1819",
           0
          ],
          [
           "Tarouca",
           "11D1820",
           0
          ],
          [
           "Torre de Moncorvo",
           "11D0409",
           0
          ],
          [
           "Vila Nova de Foz Côa",
           "11D0914",
           0
          ],
          [
           "Vila Real",
           "11D1714",
           0
          ],
          [
           "Alfândega da Fé",
           "11E0401",
           0
          ],
          [
           "Bragança",
           "11E0402",
           0
          ],
          [
           "Macedo de Cavaleiros",
           "11E0405",
           0
          ],
          [
           "Miranda do Douro",
           "11E0406",
           0
          ],
          [
           "Mirandela",
           "11E0407",
           0
          ],
          [
           "Mogadouro",
           "11E0408",
           0
          ],
          [
           "Vila Flor",
           "11E0410",
           0
          ],
          [
           "Vimioso",
           "11E0411",
           0
          ],
          [
           "Vinhais",
           "11E0412",
           0
          ],
          [
           "Águeda",
           "1910101",
           0
          ],
          [
           "Albergaria-a-Velha",
           "1910102",
           0
          ],
          [
           "Anadia",
           "1910103",
           0
          ],
          [
           "Aveiro",
           "1910105",
           1
          ],
          [
           "Estarreja",
           "1910108",
           0
          ],
          [
           "Ílhavo",
           "1910110",
           0
          ],
          [
           "Murtosa",
           "1910112",
           0
          ],
          [
           "Oliveira do Bairro",
           "1910114",
           0
          ],
          [
           "Ovar",
           "1910115",
           0
          ],
          [
           "Sever do Vouga",
           "1910117",
           0
          ],
          [
           "Vagos",
           "1910118",
           0
          ],
          [
           "Arganil",
           "1920601",
           0
          ],
          [
           "Cantanhede",
           "1920602",
           0
          ],
          [
           "Coimbra",
           "1920603",
           0
          ],
          [
           "Condeixa-a-Nova",
           "1920604",
           0
          ],
          [
           "Figueira da Foz",
           "1920605",
           0
          ],
          [
           "Góis",
           "1920606",
           0
          ],
          [
           "Lousã",
           "1920607",
           0
          ],
          [
           "Mealhada",
           "1920111",
           0
          ],
          [
           "Mira",
           "1920608",
           0
          ],
          [
           "Miranda do Corvo",
           "1920609",
           0
          ],
          [
           "Montemor-o-Velho",
           "1920610",
           0
          ],
          [
           "Mortágua",
           "1921808",
           0
          ],
          [
           "Oliveira do Hospital",
           "1920611",
           0
          ],
          [
           "Pampilhosa da Serra",
           "1920612",
           0
          ],
          [
           "Penacova",
           "1920613",
           0
          ],
          [
           "Penela",
           "1920614",
           0
          ],
          [
           "Soure",
           "1920615",
           0
          ],
          [
           "Tábua",
           "1920616",
           0
          ],
          [
           "Vila Nova de Poiares",
           "1920617",
           0
          ],
          [
           "Alvaiázere",
           "1931002",
           0
          ],
          [
           "Ansião",
           "1931003",
           0
          ],
          [
           "Batalha",
           "1931004",
           0
          ],
          [
           "Castanheira de Pêra",
           "1931007",
           0
          ],
          [
           "Figueiró dos Vinhos",
           "1931008",
           0
          ],
          [
           "Leiria",
           "1931009",
           1
          ],
          [
           "Marinha Grande",
           "1931010",
           0
          ],
          [
           "Pedrógão Grande",
           "1931013",
           0
          ],
          [
           "Pombal",
           "1931015",
           0
          ],
          [
           "Porto de Mós",
           "1931016",
           0
          ],
          [
           "Aguiar da Beira",
           "1940901",
           0
          ],
          [
           "Carregal do Sal",
           "1941802",
           0
          ],
          [
           "Castro Daire",
           "1941803",
           0
          ],
          [
           "Mangualde",
           "1941806",
           0
          ],
          [
           "Nelas",
           "1941809",
           0
          ],
          [
           "Oliveira de Frades",
           "1941810",
           0
          ],
          [
           "Penalva do Castelo",
           "1941811",
           0
          ],
          [
           "Santa Comba Dão",
           "1941814",
           0
          ],
          [
           "São Pedro do Sul",
           "1941816",
           0
          ],
          [
           "Sátão",
           "1941817",
           0
          ],
          [
           "Tondela",
           "1941821",
           0
          ],
          [
           "Vila Nova de Paiva",
           "1941822",
           0
          ],
          [
           "Viseu",
           "1941823",
           0
          ],
          [
           "Vouzela",
           "1941824",
           0
          ],
          [
           "Castelo Branco",
           "1950502",
           0
          ],
          [
           "Idanha-a-Nova",
           "1950505",
           0
          ],
          [
           "Oleiros",
           "1950506",
           0
          ],
          [
           "Penamacor",
           "1950507",
           0
          ],
          [
           "Proença-a-Nova",
           "1950508",
           0
          ],
          [
           "Sertã",
           "1950509",
           0
          ],
          [
           "Vila de Rei",
           "1950510",
           0
          ],
          [
           "Vila Velha de Ródão",
           "1950511",
           0
          ],
          [
           "Almeida",
           "1960902",
           0
          ],
          [
           "Belmonte",
           "1960501",
           0
          ],
          [
           "Celorico da Beira",
           "1960903",
           0
          ],
          [
           "Covilhã",
           "1960503",
           0
          ],
          [
           "Figueira de Castelo Rodrigo",
           "1960904",
           0
          ],
          [
           "Fornos de Algodres",
           "1960905",
           0
          ],
          [
           "Fundão",
           "1960504",
           0
          ],
          [
           "Gouveia",
           "1960906",
           0
          ],
          [
           "Guarda",
           "1960907",
           0
          ],
          [
           "Manteigas",
           "1960908",
           0
          ],
          [
           "Mêda",
           "1960909",
           0
          ],
          [
           "Pinhel",
           "1960910",
           0
          ],
          [
           "Sabugal",
           "1960911",
           0
          ],
          [
           "Seia",
           "1960912",
           0
          ],
          [
           "Trancoso",
           "1960913",
           0
          ],
          [
           "Alcobaça",
           "1D11001",
           0
          ],
          [
           "Alenquer",
           "1D11101",
           0
          ],
          [
           "Arruda dos Vinhos",
           "1D11102",
           0
          ],
          [
           "Bombarral",
           "1D11005",
           0
          ],
          [
           "Cadaval",
           "1D11104",
           0
          ],
          [
           "Caldas da Rainha",
           "1D11006",
           0
          ],
          [
           "Lourinhã",
           "1D11108",
           0
          ],
          [
           "Nazaré",
           "1D11011",
           0
          ],
          [
           "Óbidos",
           "1D11012",
           0
          ],
          [
           "Peniche",
           "1D11014",
           0
          ],
          [
           "Sobral de Monte Agraço",
           "1D11112",
           0
          ],
          [
           "Torres Vedras",
           "1D11113",
           0
          ],
          [
           "Abrantes",
           "1D21401",
           0
          ],
          [
           "Alcanena",
           "1D21402",
           0
          ],
          [
           "Constância",
           "1D21408",
           0
          ],
          [
           "Entroncamento",
           "1D21410",
           0
          ],
          [
           "Ferreira do Zêzere",
           "1D21411",
           0
          ],
          [
           "Mação",
           "1D21413",
           0
          ],
          [
           "Ourém",
           "1D21421",
           0
          ],
          [
           "Sardoal",
           "1D21417",
           0
          ],
          [
           "Tomar",
           "1D21418",
           0
          ],
          [
           "Torres Novas",
           "1D21419",
           0
          ],
          [
           "Vila Nova da Barquinha",
           "1D21420",
           0
          ],
          [
           "Almeirim",
           "1D31403",
           0
          ],
          [
           "Alpiarça",
           "1D31404",
           0
          ],
          [
           "Azambuja",
           "1D31103",
           0
          ],
          [
           "Benavente",
           "1D31405",
           0
          ],
          [
           "Cartaxo",
           "1D31406",
           0
          ],
          [
           "Chamusca",
           "1D31407",
           0
          ],
          [
           "Coruche",
           "1D31409",
           0
          ],
          [
           "Golegã",
           "1D31412",
           0
          ],
          [
           "Rio Maior",
           "1D31414",
           0
          ],
          [
           "Salvaterra de Magos",
           "1D31415",
           0
          ],
          [
           "Santarém",
           "1D31416",
           0
          ],
          [
           "Amadora",
           "1A01115",
           1
          ],
          [
           "Cascais",
           "1A01105",
           1
          ],
          [
           "Lisboa",
           "1A01106",
           2
          ],
          [
           "Loures",
           "1A01107",
           1
          ],
          [
           "Mafra",
           "1A01109",
           0
          ],
          [
           "Odivelas",
           "1A01116",
           0
          ],
          [
           "Oeiras",
           "1A01110",
           1
          ],
          [
           "Sintra",
           "1A01111",
           1
          ],
          [
           "Vila Franca de Xira",
           "1A01114",
           1
          ],
          [
           "Alcochete",
           "1B01502",
           0
          ],
          [
           "Almada",
           "1B01503",
           0
          ],
          [
           "Barreiro",
           "1B01504",
           0
          ],
          [
           "Moita",
           "1B01506",
           0
          ],
          [
           "Montijo",
           "1B01507",
           0
          ],
          [
           "Palmela",
           "1B01508",
           1
          ],
          [
           "Seixal",
           "1B01510",
           0
          ],
          [
           "Sesimbra",
           "1B01511",
           0
          ],
          [
           "Setúbal",
           "1B01512",
           1
          ],
          [
           "Alcácer do Sal",
           "1C11501",
           0
          ],
          [
           "Grândola",
           "1C11505",
           0
          ],
          [
           "Odemira",
           "1C10211",
           0
          ],
          [
           "Santiago do Cacém",
           "1C11509",
           0
          ],
          [
           "Sines",
           "1C11513",
           0
          ],
          [
           "Aljustrel",
           "1C20201",
           0
          ],
          [
           "Almodôvar",
           "1C20202",
           0
          ],
          [
           "Alvito",
           "1C20203",
           0
          ],
          [
           "Barrancos",
           "1C20204",
           0
          ],
          [
           "Beja",
           "1C20205",
           0
          ],
          [
           "Castro Verde",
           "1C20206",
           0
          ],
          [
           "Cuba",
           "1C20207",
           0
          ],
          [
           "Ferreira do Alentejo",
           "1C20208",
           0
          ],
          [
           "Mértola",
           "1C20209",
           0
          ],
          [
           "Moura",
           "1C20210",
           0
          ],
          [
           "Ourique",
           "1C20212",
           0
          ],
          [
           "Serpa",
           "1C20213",
           0
          ],
          [
           "Vidigueira",
           "1C20214",
           0
          ],
          [
           "Alter do Chão",
           "1C31201",
           0
          ],
          [
           "Arronches",
           "1C31202",
           0
          ],
          [
           "Avis",
           "1C31203",
           0
          ],
          [
           "Campo Maior",
           "1C31204",
           0
          ],
          [
           "Castelo de Vide",
           "1C31205",
           0
          ],
          [
           "Crato",
           "1C31206",
           0
          ],
          [
           "Elvas",
           "1C31207",
           0
          ],
          [
           "Fronteira",
           "1C31208",
           0
          ],
          [
           "Gavião",
           "1C31209",
           0
          ],
          [
           "Marvão",
           "1C31210",
           0
          ],
          [
           "Monforte",
           "1C31211",
           0
          ],
          [
           "Nisa",
           "1C31212",
           0
          ],
          [
           "Ponte de Sor",
           "1C31213",
           0
          ],
          [
           "Portalegre",
           "1C31214",
           0
          ],
          [
           "Sousel",
           "1C31215",
           0
          ],
          [
           "Alandroal",
           "1C40701",
           0
          ],
          [
           "Arraiolos",
           "1C40702",
           0
          ],
          [
           "Borba",
           "1C40703",
           0
          ],
          [
           "Estremoz",
           "1C40704",
           0
          ],
          [
           "Évora",
           "1C40705",
           0
          ],
          [
           "Montemor-o-Novo",
           "1C40706",
           0
          ],
          [
           "Mora",
           "1C40707",
           0
          ],
          [
           "Mourão",
           "1C40708",
           0
          ],
          [
           "Portel",
           "1C40709",
           0
          ],
          [
           "Redondo",
           "1C40710",
           0
          ],
          [
           "Reguengos de Monsaraz",
           "1C40711",
           0
          ],
          [
           "Vendas Novas",
           "1C40712",
           0
          ],
          [
           "Viana do Alentejo",
           "1C40713",
           0
          ],
          [
           "Vila Viçosa",
           "1C40714",
           0
          ],
          [
           "Albufeira",
           "1500801",
           0
          ],
          [
           "Alcoutim",
           "1500802",
           0
          ],
          [
           "Aljezur",
           "1500803",
           0
          ],
          [
           "Castro Marim",
           "1500804",
           0
          ],
          [
           "Faro",
           "1500805",
           0
          ],
          [
           "Lagoa",
           "1500806",
           0
          ],
          [
           "Lagos",
           "1500807",
           0
          ],
          [
           "Loulé",
           "1500808",
           0
          ],
          [
           "Monchique",
           "1500809",
           0
          ],
          [
           "Olhão",
           "1500810",
           0
          ],
          [
           "Portimão",
           "1500811",
           0
          ],
          [
           "São Brás de Alportel",
           "1500812",
           0
          ],
          [
           "Silves",
           "1500813",
           0
          ],
          [
           "Tavira",
           "1500814",
           0
          ],
          [
           "Vila do Bispo",
           "1500815",
           0
          ],
          [
           "Vila Real de Santo António",
           "1500816",
           0
          ],
          [
           "Angra do Heroísmo",
           "2004301",
           0
          ],
          [
           "Calheta (R.A.A.)",
           "2004501",
           0
          ],
          [
           "Corvo",
           "2004901",
           0
          ],
          [
           "Horta",
           "2004701",
           0
          ],
          [
           "Lagoa (R.A.A.)",
           "2004201",
           0
          ],
          [
           "Lajes das Flores",
           "2004801",
           0
          ],
          [
           "Lajes do Pico",
           "2004601",
           0
          ],
          [
           "Madalena",
           "2004602",
           0
          ],
          [
           "Nordeste",
           "2004202",
           0
          ],
          [
           "Ponta Delgada",
           "2004203",
           0
          ],
          [
           "Povoação",
           "2004204",
           0
          ],
          [
           "Ribeira Grande",
           "2004205",
           0
          ],
          [
           "Santa Cruz da Graciosa",
           "2004401",
           0
          ],
          [
           "Santa Cruz das Flores",
           "2004802",
           0
          ],
          [
           "São Roque do Pico",
           "2004603",
           0
          ],
          [
           "Velas",
           "2004502",
           0
          ],
          [
           "Vila da Praia da Vitória",
           "2004302",
           0
          ],
          [
           "Vila do Porto",
           "2004101",
           0
          ],
          [
           "Vila Franca do Campo",
           "2004206",
           0
          ],
          [
           "Calheta (R.A.M.)",
           "3003101",
           0
          ],
          [
           "Câmara de Lobos",
           "3003102",
           0
          ],
          [
           "Funchal",
           "3003103",
           1
          ],
          [
           "Machico",
           "3003104",
           0
          ],
          [
           "Ponta do Sol",
           "3003105",
           0
          ],
          [
           "Porto Moniz",
           "3003106",
           0
          ],
          [
           "Ribeira Brava",
           "3003107",
           0
          ],
          [
           "Santa Cruz",
           "3003108",
           0
          ],
          [
           "Santana",
           "3003109",
           0
          ],
          [
           "São Vicente",
           "3003110",
           0
          ],
          [
           "Porto Santo",
           "3003201",
           0
          ]
         ],
         "hovertemplate": "valor=%{x}<br>y=%{y}<br>local=%{customdata[0]}<br>codigo=%{customdata[1]}<br>Volume de negócios=%{marker.color}<extra></extra>",
         "legendgroup": "",
         "marker": {
          "color": [
           0,
           0,
           0,
           0,
           0,
           0,
           0,
           0,
           0,
           0,
           0,
           0,
           1,
           0,
           0,
           0,
           0,
           0,
           1,
           0,
           0,
           0,
           1,
           0,
           0,
           0,
           0,
           1,
           1,
           0,
           0,
           1,
           0,
           1,
           0,
           0,
           0,
           0,
           0,
           0,
           1,
           0,
           0,
           0,
           0,
           0,
           0,
           0,
           0,
           0,
           0,
           0,
           0,
           0,
           0,
           0,
           0,
           0,
           0,
           0,
           0,
           0,
           0,
           0,
           0,
           0,
           0,
           0,
           0,
           0,
           0,
           0,
           0,
           0,
           0,
           0,
           0,
           0,
           0,
           0,
           0,
           0,
           0,
           0,
           0,
           0,
           0,
           0,
           0,
           1,
           0,
           0,
           0,
           0,
           0,
           0,
           0,
           0,
           0,
           0,
           0,
           0,
           0,
           0,
           0,
           0,
           0,
           0,
           0,
           0,
           0,
           0,
           0,
           0,
           0,
           0,
           0,
           0,
           0,
           0,
           0,
           1,
           0,
           0,
           0,
           0,
           0,
           0,
           0,
           0,
           0,
           0,
           0,
           0,
           0,
           0,
           0,
           0,
           0,
           0,
           0,
           0,
           0,
           0,
           0,
           0,
           0,
           0,
           0,
           0,
           0,
           0,
           0,
           0,
           0,
           0,
           0,
           0,
           0,
           0,
           0,
           0,
           0,
           0,
           0,
           0,
           0,
           0,
           0,
           0,
           0,
           0,
           0,
           0,
           0,
           0,
           0,
           0,
           0,
           0,
           0,
           0,
           0,
           0,
           0,
           0,
           0,
           0,
           0,
           0,
           0,
           0,
           0,
           0,
           0,
           0,
           0,
           1,
           1,
           2,
           1,
           0,
           0,
           1,
           1,
           1,
           0,
           0,
           0,
           0,
           0,
           1,
           0,
           0,
           1,
           0,
           0,
           0,
           0,
           0,
           0,
           0,
           0,
           0,
           0,
           0,
           0,
           0,
           0,
           0,
           0,
           0,
           0,
           0,
           0,
           0,
           0,
           0,
           0,
           0,
           0,
           0,
           0,
           0,
           0,
           0,
           0,
           0,
           0,
           0,
           0,
           0,
           0,
           0,
           0,
           0,
           0,
           0,
           0,
           0,
           0,
           0,
           0,
           0,
           0,
           0,
           0,
           0,
           0,
           0,
           0,
           0,
           0,
           0,
           0,
           0,
           0,
           0,
           0,
           0,
           0,
           0,
           0,
           0,
           0,
           0,
           0,
           0,
           0,
           0,
           0,
           0,
           0,
           0,
           0,
           0,
           0,
           0,
           0,
           1,
           0,
           0,
           0,
           0,
           0,
           0,
           0,
           0
          ],
          "coloraxis": "coloraxis",
          "size": 10,
          "symbol": "circle"
         },
         "mode": "markers",
         "name": "",
         "orientation": "v",
         "showlegend": false,
         "type": "scatter",
         "x": [
          -0.1835855536878385,
          -0.22654063493839136,
          -0.24101494211065916,
          -0.20085122040861575,
          -0.23157942453573085,
          -0.23806101204297941,
          -0.07894506239469547,
          -0.17890156476466573,
          0.3115575871088918,
          -0.14102685476664464,
          -0.18778416279157778,
          0.48922025756758775,
          1.5345376236268373,
          -0.07244154168344336,
          -0.2540138449605169,
          -0.06272501144745893,
          -0.22122130751819566,
          -0.06921213943873691,
          0.7701916903399789,
          -0.2512856405544505,
          -0.17113305922572378,
          -0.24076025388717895,
          0.9405635997473866,
          -0.15622526118676092,
          -0.15128884809523474,
          -0.16858136681801492,
          0.38437483650154103,
          1.4306164969476431,
          1.4685797548275672,
          0.2545467977928671,
          0.17175937600492638,
          2.7352922773041173,
          0.0782300719994027,
          0.6389105424958216,
          0.17030498164877267,
          -0.006012029984295384,
          0.1783123418309527,
          -0.10619428113081524,
          0.13020369867722714,
          0.44184833607875246,
          1.6612768448308224,
          -0.2547335084067787,
          -0.14452234830121724,
          -0.25060765092096987,
          -0.244994178383299,
          -0.23747913461651476,
          -0.2230162188776258,
          -0.0036583215377690085,
          -0.23169559703260337,
          -0.2247937132081428,
          -0.22203057941402296,
          -0.22008365305414662,
          0.07284445955353544,
          -0.07061542516009767,
          -0.03833603733815146,
          0.08880355012243765,
          0.027448919198614887,
          -0.2475099942948809,
          -0.23272607901926565,
          -0.24514625426818512,
          -0.24949097802051043,
          -0.25995835843515447,
          -0.1839676046056546,
          -0.2595118064208632,
          -0.23641970849950342,
          -0.25830130289356423,
          -0.2632892305665086,
          -0.22122709697879314,
          -0.25089363510625246,
          -0.2572077609436081,
          -0.23985694574733432,
          -0.25302166638720813,
          -0.2596649525424047,
          -0.24555204256365512,
          -0.24845041308715377,
          -0.24927849117423842,
          0.013674099154837149,
          -0.25913139862753387,
          -0.1302577819812281,
          -0.22480044826603365,
          -0.2325620744675808,
          -0.20191875473159265,
          -0.228200592235408,
          -0.2526313397179083,
          -0.26163129000990887,
          -0.2574766063856804,
          0.07254215743189599,
          -0.013403034621986923,
          -0.12291487106547015,
          0.6683095830992548,
          0.10896938459077526,
          0.20032922356552724,
          -0.24324811991282586,
          -0.07306191756497837,
          0.25343601602850896,
          -0.20543941182027697,
          -0.08197666589986531,
          -0.23114803335128267,
          -0.028812069477717618,
          0.5796873691512475,
          -0.20286966226610711,
          0.3211884568659883,
          -0.2588244443605909,
          -0.18441920836659803,
          -0.086785223933806,
          -0.21415654980991153,
          -0.24239718266458618,
          -0.19648508013909682,
          -0.19695984431075642,
          -0.1819701846495827,
          -0.2554168422739478,
          -0.21424744242260108,
          -0.22797636269937321,
          -0.22065109784679854,
          -0.21793377030239325,
          -0.22641533007769232,
          -0.2369011874845999,
          -0.20070316848664851,
          -0.1401085491122907,
          -0.26069350193910423,
          -0.2540806666152963,
          0.9579756767764244,
          0.07708329453836403,
          -0.25958262182295855,
          0.10128102699612455,
          -0.13221325603301445,
          -0.24928868123524517,
          -0.21921709388596328,
          -0.2238910167831793,
          0.015611414384658701,
          -0.1787137631595112,
          -0.119809524115204,
          -0.24882425246164233,
          -0.23392170483692085,
          -0.2193771660280061,
          -0.24106188930154,
          -0.09544231521114784,
          -0.24929175174481388,
          0.2605952390423719,
          -0.2369518989352925,
          -0.03273477855149288,
          -0.25342052458307046,
          -0.24679328004254208,
          -0.25169894331928866,
          -0.24769094390776125,
          -0.20204588657872224,
          -0.25983439907525346,
          -0.2111469030769155,
          -0.2562571554140448,
          -0.24886895735263048,
          -0.25219417176341585,
          -0.09718659881710548,
          -0.2559440125383897,
          -0.25862665105986277,
          -0.15843935828891773,
          -0.2471710315822187,
          -0.013309554042907278,
          -0.26141205964537717,
          -0.2574253932049013,
          -0.2450915492212546,
          -0.24839940703433272,
          -0.19207718115095246,
          -0.23445899823480906,
          0.10237014704367141,
          0.024231180025557523,
          -0.1947389496044107,
          -0.17727321193075726,
          -0.19920516878529693,
          0.046845161958425786,
          -0.12726525707070466,
          -0.20488905591509043,
          -0.1792370348557864,
          -0.1459778533829343,
          -0.21968258896819315,
          0.37208263294243427,
          -0.06626966637229433,
          0.03315737810993693,
          -0.2433477046480074,
          -0.2110632161301323,
          -0.20156012543837992,
          -0.24856324570235752,
          0.039126259259705296,
          -0.2618602479856446,
          -0.13836138656368685,
          -0.0026087848365153534,
          -0.2545320668741541,
          -0.14911824892180742,
          -0.22841619295063892,
          0.20104199725001126,
          0.01873424982373889,
          -0.15357802235920076,
          -0.21686654629365837,
          -0.16499444162439666,
          -0.2389700443777192,
          -0.10763889681139599,
          -0.18195899430104132,
          0.17634478153799837,
          0.6640491111744092,
          1.064224082767505,
          15.759883932242921,
          1.3175810329195525,
          0.27595138224058136,
          0.2055083243005999,
          3.869700997906096,
          2.139930864887392,
          0.8271581615247329,
          0.04889562721835977,
          0.3574880802100204,
          -0.013266463722661175,
          -0.1358200984456094,
          0.03840759972685048,
          1.0958555492578261,
          0.40168220271836197,
          -0.12695309967693882,
          0.8962529895934339,
          -0.2124268251389868,
          -0.19129711203103525,
          -0.11604366166785986,
          -0.14360194084952418,
          -0.014008682814346703,
          -0.19982485967911376,
          -0.25117980723258515,
          -0.25944858994074615,
          -0.2611997346036588,
          0.0011843996165350852,
          -0.18530663835818625,
          -0.25693357277862744,
          -0.19511935467833577,
          -0.25637795935853286,
          -0.21371214008186729,
          -0.25182490159240084,
          -0.2015456770924537,
          -0.25212964966709667,
          -0.25822008335291546,
          -0.2631609148720566,
          -0.254226415352931,
          -0.17380973122316626,
          -0.2605362393948989,
          -0.24673946665805374,
          -0.17083240536522362,
          -0.25882713717512307,
          -0.2621045820773942,
          -0.2637077967382974,
          -0.25825307305033945,
          -0.2563250746506003,
          -0.2130523314788196,
          -0.13909547448554863,
          -0.24070426059801794,
          -0.257589137600245,
          -0.23801341340369964,
          -0.25017957967589255,
          -0.2075234009894946,
          0.06617133911632779,
          -0.19442721266075952,
          -0.24981393613261801,
          -0.26173295297425925,
          -0.25398916349634976,
          -0.24091427293748882,
          -0.2271240779863213,
          -0.19955396154005708,
          -0.24698532799745293,
          -0.24098528942442163,
          0.12597713152934006,
          -0.25710736280439594,
          -0.24552360650866914,
          -0.24526146258516845,
          0.2075315846402889,
          -0.10421732091487053,
          -0.09277031741639907,
          0.3019931443908006,
          -0.25261617843483114,
          -0.11157959625514977,
          0.053678565593662665,
          -0.23156675996792297,
          -0.08786022876244881,
          -0.14970160494880097,
          -0.23538490794779382,
          -0.1946182861624762,
          -0.1193636433405316,
          -0.25636057209198865,
          -0.2664611214901633,
          -0.21593609683741288,
          -0.21695481226398608,
          -0.26426608559895254,
          -0.2598345209952112,
          -0.23867802643868957,
          -0.26110000664651944,
          0.19910552684844735,
          -0.2541210869337904,
          -0.11979130637281349,
          -0.25247552525647293,
          -0.26177147590396793,
          -0.2557064976549851,
          -0.2407529858260526,
          -0.1847508516516089,
          -0.24527807406610772,
          -0.2325105669868293,
          -0.21166930169334433,
          -0.20402706036049412,
          0.7839203451726794,
          -0.15430155264724627,
          -0.24653167274814924,
          -0.255606845236853,
          -0.23806718086047154,
          -0.0840900049949792,
          -0.2572824202236289,
          -0.25723461793118546,
          -0.24276667809292096
         ],
         "xaxis": "x",
         "y": [
          0,
          0,
          0,
          0,
          0,
          0,
          0,
          0,
          0,
          0,
          0,
          0,
          0,
          0,
          0,
          0,
          0,
          0,
          0,
          0,
          0,
          0,
          0,
          0,
          0,
          0,
          0,
          0,
          0,
          0,
          0,
          0,
          0,
          0,
          0,
          0,
          0,
          0,
          0,
          0,
          0,
          0,
          0,
          0,
          0,
          0,
          0,
          0,
          0,
          0,
          0,
          0,
          0,
          0,
          0,
          0,
          0,
          0,
          0,
          0,
          0,
          0,
          0,
          0,
          0,
          0,
          0,
          0,
          0,
          0,
          0,
          0,
          0,
          0,
          0,
          0,
          0,
          0,
          0,
          0,
          0,
          0,
          0,
          0,
          0,
          0,
          0,
          0,
          0,
          0,
          0,
          0,
          0,
          0,
          0,
          0,
          0,
          0,
          0,
          0,
          0,
          0,
          0,
          0,
          0,
          0,
          0,
          0,
          0,
          0,
          0,
          0,
          0,
          0,
          0,
          0,
          0,
          0,
          0,
          0,
          0,
          0,
          0,
          0,
          0,
          0,
          0,
          0,
          0,
          0,
          0,
          0,
          0,
          0,
          0,
          0,
          0,
          0,
          0,
          0,
          0,
          0,
          0,
          0,
          0,
          0,
          0,
          0,
          0,
          0,
          0,
          0,
          0,
          0,
          0,
          0,
          0,
          0,
          0,
          0,
          0,
          0,
          0,
          0,
          0,
          0,
          0,
          0,
          0,
          0,
          0,
          0,
          0,
          0,
          0,
          0,
          0,
          0,
          0,
          0,
          0,
          0,
          0,
          0,
          0,
          0,
          0,
          0,
          0,
          0,
          0,
          0,
          0,
          0,
          0,
          0,
          0,
          0,
          0,
          0,
          0,
          0,
          0,
          0,
          0,
          0,
          0,
          0,
          0,
          0,
          0,
          0,
          0,
          0,
          0,
          0,
          0,
          0,
          0,
          0,
          0,
          0,
          0,
          0,
          0,
          0,
          0,
          0,
          0,
          0,
          0,
          0,
          0,
          0,
          0,
          0,
          0,
          0,
          0,
          0,
          0,
          0,
          0,
          0,
          0,
          0,
          0,
          0,
          0,
          0,
          0,
          0,
          0,
          0,
          0,
          0,
          0,
          0,
          0,
          0,
          0,
          0,
          0,
          0,
          0,
          0,
          0,
          0,
          0,
          0,
          0,
          0,
          0,
          0,
          0,
          0,
          0,
          0,
          0,
          0,
          0,
          0,
          0,
          0,
          0,
          0,
          0,
          0,
          0,
          0,
          0,
          0,
          0,
          0,
          0,
          0,
          0,
          0,
          0,
          0,
          0,
          0,
          0,
          0,
          0,
          0,
          0,
          0
         ],
         "yaxis": "y"
        }
       ],
       "layout": {
        "coloraxis": {
         "colorbar": {
          "title": {
           "text": "Volume de negócios"
          }
         },
         "colorscale": [
          [
           0,
           "#440154"
          ],
          [
           0.1111111111111111,
           "#482878"
          ],
          [
           0.2222222222222222,
           "#3e4989"
          ],
          [
           0.3333333333333333,
           "#31688e"
          ],
          [
           0.4444444444444444,
           "#26828e"
          ],
          [
           0.5555555555555556,
           "#1f9e89"
          ],
          [
           0.6666666666666666,
           "#35b779"
          ],
          [
           0.7777777777777778,
           "#6ece58"
          ],
          [
           0.8888888888888888,
           "#b5de2b"
          ],
          [
           1,
           "#fde725"
          ]
         ]
        },
        "height": 300,
        "legend": {
         "tracegroupgap": 0
        },
        "margin": {
         "t": 60
        },
        "template": {
         "data": {
          "bar": [
           {
            "error_x": {
             "color": "#2a3f5f"
            },
            "error_y": {
             "color": "#2a3f5f"
            },
            "marker": {
             "line": {
              "color": "#E5ECF6",
              "width": 0.5
             },
             "pattern": {
              "fillmode": "overlay",
              "size": 10,
              "solidity": 0.2
             }
            },
            "type": "bar"
           }
          ],
          "barpolar": [
           {
            "marker": {
             "line": {
              "color": "#E5ECF6",
              "width": 0.5
             },
             "pattern": {
              "fillmode": "overlay",
              "size": 10,
              "solidity": 0.2
             }
            },
            "type": "barpolar"
           }
          ],
          "carpet": [
           {
            "aaxis": {
             "endlinecolor": "#2a3f5f",
             "gridcolor": "white",
             "linecolor": "white",
             "minorgridcolor": "white",
             "startlinecolor": "#2a3f5f"
            },
            "baxis": {
             "endlinecolor": "#2a3f5f",
             "gridcolor": "white",
             "linecolor": "white",
             "minorgridcolor": "white",
             "startlinecolor": "#2a3f5f"
            },
            "type": "carpet"
           }
          ],
          "choropleth": [
           {
            "colorbar": {
             "outlinewidth": 0,
             "ticks": ""
            },
            "type": "choropleth"
           }
          ],
          "contour": [
           {
            "colorbar": {
             "outlinewidth": 0,
             "ticks": ""
            },
            "colorscale": [
             [
              0,
              "#0d0887"
             ],
             [
              0.1111111111111111,
              "#46039f"
             ],
             [
              0.2222222222222222,
              "#7201a8"
             ],
             [
              0.3333333333333333,
              "#9c179e"
             ],
             [
              0.4444444444444444,
              "#bd3786"
             ],
             [
              0.5555555555555556,
              "#d8576b"
             ],
             [
              0.6666666666666666,
              "#ed7953"
             ],
             [
              0.7777777777777778,
              "#fb9f3a"
             ],
             [
              0.8888888888888888,
              "#fdca26"
             ],
             [
              1,
              "#f0f921"
             ]
            ],
            "type": "contour"
           }
          ],
          "contourcarpet": [
           {
            "colorbar": {
             "outlinewidth": 0,
             "ticks": ""
            },
            "type": "contourcarpet"
           }
          ],
          "heatmap": [
           {
            "colorbar": {
             "outlinewidth": 0,
             "ticks": ""
            },
            "colorscale": [
             [
              0,
              "#0d0887"
             ],
             [
              0.1111111111111111,
              "#46039f"
             ],
             [
              0.2222222222222222,
              "#7201a8"
             ],
             [
              0.3333333333333333,
              "#9c179e"
             ],
             [
              0.4444444444444444,
              "#bd3786"
             ],
             [
              0.5555555555555556,
              "#d8576b"
             ],
             [
              0.6666666666666666,
              "#ed7953"
             ],
             [
              0.7777777777777778,
              "#fb9f3a"
             ],
             [
              0.8888888888888888,
              "#fdca26"
             ],
             [
              1,
              "#f0f921"
             ]
            ],
            "type": "heatmap"
           }
          ],
          "heatmapgl": [
           {
            "colorbar": {
             "outlinewidth": 0,
             "ticks": ""
            },
            "colorscale": [
             [
              0,
              "#0d0887"
             ],
             [
              0.1111111111111111,
              "#46039f"
             ],
             [
              0.2222222222222222,
              "#7201a8"
             ],
             [
              0.3333333333333333,
              "#9c179e"
             ],
             [
              0.4444444444444444,
              "#bd3786"
             ],
             [
              0.5555555555555556,
              "#d8576b"
             ],
             [
              0.6666666666666666,
              "#ed7953"
             ],
             [
              0.7777777777777778,
              "#fb9f3a"
             ],
             [
              0.8888888888888888,
              "#fdca26"
             ],
             [
              1,
              "#f0f921"
             ]
            ],
            "type": "heatmapgl"
           }
          ],
          "histogram": [
           {
            "marker": {
             "pattern": {
              "fillmode": "overlay",
              "size": 10,
              "solidity": 0.2
             }
            },
            "type": "histogram"
           }
          ],
          "histogram2d": [
           {
            "colorbar": {
             "outlinewidth": 0,
             "ticks": ""
            },
            "colorscale": [
             [
              0,
              "#0d0887"
             ],
             [
              0.1111111111111111,
              "#46039f"
             ],
             [
              0.2222222222222222,
              "#7201a8"
             ],
             [
              0.3333333333333333,
              "#9c179e"
             ],
             [
              0.4444444444444444,
              "#bd3786"
             ],
             [
              0.5555555555555556,
              "#d8576b"
             ],
             [
              0.6666666666666666,
              "#ed7953"
             ],
             [
              0.7777777777777778,
              "#fb9f3a"
             ],
             [
              0.8888888888888888,
              "#fdca26"
             ],
             [
              1,
              "#f0f921"
             ]
            ],
            "type": "histogram2d"
           }
          ],
          "histogram2dcontour": [
           {
            "colorbar": {
             "outlinewidth": 0,
             "ticks": ""
            },
            "colorscale": [
             [
              0,
              "#0d0887"
             ],
             [
              0.1111111111111111,
              "#46039f"
             ],
             [
              0.2222222222222222,
              "#7201a8"
             ],
             [
              0.3333333333333333,
              "#9c179e"
             ],
             [
              0.4444444444444444,
              "#bd3786"
             ],
             [
              0.5555555555555556,
              "#d8576b"
             ],
             [
              0.6666666666666666,
              "#ed7953"
             ],
             [
              0.7777777777777778,
              "#fb9f3a"
             ],
             [
              0.8888888888888888,
              "#fdca26"
             ],
             [
              1,
              "#f0f921"
             ]
            ],
            "type": "histogram2dcontour"
           }
          ],
          "mesh3d": [
           {
            "colorbar": {
             "outlinewidth": 0,
             "ticks": ""
            },
            "type": "mesh3d"
           }
          ],
          "parcoords": [
           {
            "line": {
             "colorbar": {
              "outlinewidth": 0,
              "ticks": ""
             }
            },
            "type": "parcoords"
           }
          ],
          "pie": [
           {
            "automargin": true,
            "type": "pie"
           }
          ],
          "scatter": [
           {
            "fillpattern": {
             "fillmode": "overlay",
             "size": 10,
             "solidity": 0.2
            },
            "type": "scatter"
           }
          ],
          "scatter3d": [
           {
            "line": {
             "colorbar": {
              "outlinewidth": 0,
              "ticks": ""
             }
            },
            "marker": {
             "colorbar": {
              "outlinewidth": 0,
              "ticks": ""
             }
            },
            "type": "scatter3d"
           }
          ],
          "scattercarpet": [
           {
            "marker": {
             "colorbar": {
              "outlinewidth": 0,
              "ticks": ""
             }
            },
            "type": "scattercarpet"
           }
          ],
          "scattergeo": [
           {
            "marker": {
             "colorbar": {
              "outlinewidth": 0,
              "ticks": ""
             }
            },
            "type": "scattergeo"
           }
          ],
          "scattergl": [
           {
            "marker": {
             "colorbar": {
              "outlinewidth": 0,
              "ticks": ""
             }
            },
            "type": "scattergl"
           }
          ],
          "scattermapbox": [
           {
            "marker": {
             "colorbar": {
              "outlinewidth": 0,
              "ticks": ""
             }
            },
            "type": "scattermapbox"
           }
          ],
          "scatterpolar": [
           {
            "marker": {
             "colorbar": {
              "outlinewidth": 0,
              "ticks": ""
             }
            },
            "type": "scatterpolar"
           }
          ],
          "scatterpolargl": [
           {
            "marker": {
             "colorbar": {
              "outlinewidth": 0,
              "ticks": ""
             }
            },
            "type": "scatterpolargl"
           }
          ],
          "scatterternary": [
           {
            "marker": {
             "colorbar": {
              "outlinewidth": 0,
              "ticks": ""
             }
            },
            "type": "scatterternary"
           }
          ],
          "surface": [
           {
            "colorbar": {
             "outlinewidth": 0,
             "ticks": ""
            },
            "colorscale": [
             [
              0,
              "#0d0887"
             ],
             [
              0.1111111111111111,
              "#46039f"
             ],
             [
              0.2222222222222222,
              "#7201a8"
             ],
             [
              0.3333333333333333,
              "#9c179e"
             ],
             [
              0.4444444444444444,
              "#bd3786"
             ],
             [
              0.5555555555555556,
              "#d8576b"
             ],
             [
              0.6666666666666666,
              "#ed7953"
             ],
             [
              0.7777777777777778,
              "#fb9f3a"
             ],
             [
              0.8888888888888888,
              "#fdca26"
             ],
             [
              1,
              "#f0f921"
             ]
            ],
            "type": "surface"
           }
          ],
          "table": [
           {
            "cells": {
             "fill": {
              "color": "#EBF0F8"
             },
             "line": {
              "color": "white"
             }
            },
            "header": {
             "fill": {
              "color": "#C8D4E3"
             },
             "line": {
              "color": "white"
             }
            },
            "type": "table"
           }
          ]
         },
         "layout": {
          "annotationdefaults": {
           "arrowcolor": "#2a3f5f",
           "arrowhead": 0,
           "arrowwidth": 1
          },
          "autotypenumbers": "strict",
          "coloraxis": {
           "colorbar": {
            "outlinewidth": 0,
            "ticks": ""
           }
          },
          "colorscale": {
           "diverging": [
            [
             0,
             "#8e0152"
            ],
            [
             0.1,
             "#c51b7d"
            ],
            [
             0.2,
             "#de77ae"
            ],
            [
             0.3,
             "#f1b6da"
            ],
            [
             0.4,
             "#fde0ef"
            ],
            [
             0.5,
             "#f7f7f7"
            ],
            [
             0.6,
             "#e6f5d0"
            ],
            [
             0.7,
             "#b8e186"
            ],
            [
             0.8,
             "#7fbc41"
            ],
            [
             0.9,
             "#4d9221"
            ],
            [
             1,
             "#276419"
            ]
           ],
           "sequential": [
            [
             0,
             "#0d0887"
            ],
            [
             0.1111111111111111,
             "#46039f"
            ],
            [
             0.2222222222222222,
             "#7201a8"
            ],
            [
             0.3333333333333333,
             "#9c179e"
            ],
            [
             0.4444444444444444,
             "#bd3786"
            ],
            [
             0.5555555555555556,
             "#d8576b"
            ],
            [
             0.6666666666666666,
             "#ed7953"
            ],
            [
             0.7777777777777778,
             "#fb9f3a"
            ],
            [
             0.8888888888888888,
             "#fdca26"
            ],
            [
             1,
             "#f0f921"
            ]
           ],
           "sequentialminus": [
            [
             0,
             "#0d0887"
            ],
            [
             0.1111111111111111,
             "#46039f"
            ],
            [
             0.2222222222222222,
             "#7201a8"
            ],
            [
             0.3333333333333333,
             "#9c179e"
            ],
            [
             0.4444444444444444,
             "#bd3786"
            ],
            [
             0.5555555555555556,
             "#d8576b"
            ],
            [
             0.6666666666666666,
             "#ed7953"
            ],
            [
             0.7777777777777778,
             "#fb9f3a"
            ],
            [
             0.8888888888888888,
             "#fdca26"
            ],
            [
             1,
             "#f0f921"
            ]
           ]
          },
          "colorway": [
           "#636efa",
           "#EF553B",
           "#00cc96",
           "#ab63fa",
           "#FFA15A",
           "#19d3f3",
           "#FF6692",
           "#B6E880",
           "#FF97FF",
           "#FECB52"
          ],
          "font": {
           "color": "#2a3f5f"
          },
          "geo": {
           "bgcolor": "white",
           "lakecolor": "white",
           "landcolor": "#E5ECF6",
           "showlakes": true,
           "showland": true,
           "subunitcolor": "white"
          },
          "hoverlabel": {
           "align": "left"
          },
          "hovermode": "closest",
          "mapbox": {
           "style": "light"
          },
          "paper_bgcolor": "white",
          "plot_bgcolor": "#E5ECF6",
          "polar": {
           "angularaxis": {
            "gridcolor": "white",
            "linecolor": "white",
            "ticks": ""
           },
           "bgcolor": "#E5ECF6",
           "radialaxis": {
            "gridcolor": "white",
            "linecolor": "white",
            "ticks": ""
           }
          },
          "scene": {
           "xaxis": {
            "backgroundcolor": "#E5ECF6",
            "gridcolor": "white",
            "gridwidth": 2,
            "linecolor": "white",
            "showbackground": true,
            "ticks": "",
            "zerolinecolor": "white"
           },
           "yaxis": {
            "backgroundcolor": "#E5ECF6",
            "gridcolor": "white",
            "gridwidth": 2,
            "linecolor": "white",
            "showbackground": true,
            "ticks": "",
            "zerolinecolor": "white"
           },
           "zaxis": {
            "backgroundcolor": "#E5ECF6",
            "gridcolor": "white",
            "gridwidth": 2,
            "linecolor": "white",
            "showbackground": true,
            "ticks": "",
            "zerolinecolor": "white"
           }
          },
          "shapedefaults": {
           "line": {
            "color": "#2a3f5f"
           }
          },
          "ternary": {
           "aaxis": {
            "gridcolor": "white",
            "linecolor": "white",
            "ticks": ""
           },
           "baxis": {
            "gridcolor": "white",
            "linecolor": "white",
            "ticks": ""
           },
           "bgcolor": "#E5ECF6",
           "caxis": {
            "gridcolor": "white",
            "linecolor": "white",
            "ticks": ""
           }
          },
          "title": {
           "x": 0.05
          },
          "xaxis": {
           "automargin": true,
           "gridcolor": "white",
           "linecolor": "white",
           "ticks": "",
           "title": {
            "standoff": 15
           },
           "zerolinecolor": "white",
           "zerolinewidth": 2
          },
          "yaxis": {
           "automargin": true,
           "gridcolor": "white",
           "linecolor": "white",
           "ticks": "",
           "title": {
            "standoff": 15
           },
           "zerolinecolor": "white",
           "zerolinewidth": 2
          }
         }
        },
        "xaxis": {
         "anchor": "y",
         "domain": [
          0,
          1
         ],
         "title": {
          "text": "Volume de negócios"
         }
        },
        "yaxis": {
         "anchor": "x",
         "domain": [
          0,
          1
         ],
         "showgrid": false,
         "showticklabels": false,
         "title": {
          "text": "y"
         }
        }
       }
      }
     },
     "metadata": {},
     "output_type": "display_data"
    },
    {
     "name": "stdout",
     "output_type": "stream",
     "text": [
      "Volume de negócios\n",
      "0    288\n",
      "1     19\n",
      "2      1\n",
      "Name: count, dtype: int64\n",
      "File saved to csv_files/9_Volume de negócios.csv\n"
     ]
    }
   ],
   "source": [
    "clustered_df = aplicar_kmeans(df_volume_de_negócios, 3, nome_cluster='Volume de negócios')\n",
    "save_clustered_df_to_csv(clustered_df, \"csv_files/\", \"9_Volume de negócios.csv\")"
   ]
  },
  {
   "cell_type": "markdown",
   "id": "20a61b40-aa4c-4ed4-82bf-4440009db6c2",
   "metadata": {},
   "source": [
    "**Pessoal ao serviço dos estabelecimentos** "
   ]
  },
  {
   "cell_type": "code",
   "execution_count": 6,
   "id": "148ee6c1-9742-4556-9419-ea62c4e0bf8e",
   "metadata": {},
   "outputs": [
    {
     "data": {
      "text/html": [
       "<div>\n",
       "<style scoped>\n",
       "    .dataframe tbody tr th:only-of-type {\n",
       "        vertical-align: middle;\n",
       "    }\n",
       "\n",
       "    .dataframe tbody tr th {\n",
       "        vertical-align: top;\n",
       "    }\n",
       "\n",
       "    .dataframe thead th {\n",
       "        text-align: right;\n",
       "    }\n",
       "</style>\n",
       "<table border=\"1\" class=\"dataframe\">\n",
       "  <thead>\n",
       "    <tr style=\"text-align: right;\">\n",
       "      <th></th>\n",
       "      <th>local</th>\n",
       "      <th>codigo</th>\n",
       "      <th>Pessoal ao serviço dos estabelecimentos</th>\n",
       "    </tr>\n",
       "  </thead>\n",
       "  <tbody>\n",
       "    <tr>\n",
       "      <th>5</th>\n",
       "      <td>Arcos de Valdevez</td>\n",
       "      <td>1111601</td>\n",
       "      <td>8040</td>\n",
       "    </tr>\n",
       "    <tr>\n",
       "      <th>6</th>\n",
       "      <td>Caminha</td>\n",
       "      <td>1111602</td>\n",
       "      <td>4992</td>\n",
       "    </tr>\n",
       "    <tr>\n",
       "      <th>7</th>\n",
       "      <td>Melgaço</td>\n",
       "      <td>1111603</td>\n",
       "      <td>2041</td>\n",
       "    </tr>\n",
       "    <tr>\n",
       "      <th>8</th>\n",
       "      <td>Monção</td>\n",
       "      <td>1111604</td>\n",
       "      <td>6586</td>\n",
       "    </tr>\n",
       "    <tr>\n",
       "      <th>9</th>\n",
       "      <td>Paredes de Coura</td>\n",
       "      <td>1111605</td>\n",
       "      <td>2735</td>\n",
       "    </tr>\n",
       "    <tr>\n",
       "      <th>...</th>\n",
       "      <td>...</td>\n",
       "      <td>...</td>\n",
       "      <td>...</td>\n",
       "    </tr>\n",
       "    <tr>\n",
       "      <th>343</th>\n",
       "      <td>Ribeira Brava</td>\n",
       "      <td>3003107</td>\n",
       "      <td>3195</td>\n",
       "    </tr>\n",
       "    <tr>\n",
       "      <th>344</th>\n",
       "      <td>Santa Cruz</td>\n",
       "      <td>3003108</td>\n",
       "      <td>12190</td>\n",
       "    </tr>\n",
       "    <tr>\n",
       "      <th>345</th>\n",
       "      <td>Santana</td>\n",
       "      <td>3003109</td>\n",
       "      <td>1348</td>\n",
       "    </tr>\n",
       "    <tr>\n",
       "      <th>346</th>\n",
       "      <td>São Vicente</td>\n",
       "      <td>3003110</td>\n",
       "      <td>1462</td>\n",
       "    </tr>\n",
       "    <tr>\n",
       "      <th>347</th>\n",
       "      <td>Porto Santo</td>\n",
       "      <td>3003201</td>\n",
       "      <td>2049</td>\n",
       "    </tr>\n",
       "  </tbody>\n",
       "</table>\n",
       "<p>308 rows × 3 columns</p>\n",
       "</div>"
      ],
      "text/plain": [
       "                 local   codigo Pessoal ao serviço dos estabelecimentos\n",
       "5    Arcos de Valdevez  1111601                                    8040\n",
       "6              Caminha  1111602                                    4992\n",
       "7              Melgaço  1111603                                    2041\n",
       "8               Monção  1111604                                    6586\n",
       "9     Paredes de Coura  1111605                                    2735\n",
       "..                 ...      ...                                     ...\n",
       "343      Ribeira Brava  3003107                                    3195\n",
       "344         Santa Cruz  3003108                                   12190\n",
       "345            Santana  3003109                                    1348\n",
       "346        São Vicente  3003110                                    1462\n",
       "347        Porto Santo  3003201                                    2049\n",
       "\n",
       "[308 rows x 3 columns]"
      ]
     },
     "execution_count": 6,
     "metadata": {},
     "output_type": "execute_result"
    }
   ],
   "source": [
    "df_pessoal_ao_servico = processar_ficheiro(data_path+'Pessoal ao serviço dos estabelecimentos .xls',0)\n",
    "df_pessoal_ao_servico = carregar_municipios(df_pessoal_ao_servico)\n",
    "df_pessoal_ao_servico = df_pessoal_ao_servico[['local','codigo','Pessoal ao serviço dos estabelecimentos']]\n",
    "df_pessoal_ao_servico"
   ]
  },
  {
   "cell_type": "code",
   "execution_count": 7,
   "id": "c73cafb9-5e29-4580-af0b-be0890be6181",
   "metadata": {},
   "outputs": [
    {
     "data": {
      "application/vnd.plotly.v1+json": {
       "config": {
        "plotlyServerURL": "https://plot.ly"
       },
       "data": [
        {
         "customdata": [
          [
           "Arcos de Valdevez",
           "1111601",
           8040
          ],
          [
           "Caminha",
           "1111602",
           4992
          ],
          [
           "Melgaço",
           "1111603",
           2041
          ],
          [
           "Monção",
           "1111604",
           6586
          ],
          [
           "Paredes de Coura",
           "1111605",
           2735
          ],
          [
           "Ponte da Barca",
           "1111606",
           3043
          ],
          [
           "Ponte de Lima",
           "1111607",
           15109
          ],
          [
           "Valença",
           "1111608",
           7138
          ],
          [
           "Viana do Castelo",
           "1111609",
           37113
          ],
          [
           "Vila Nova de Cerveira",
           "1111610",
           6343
          ],
          [
           "Amares",
           "1120301",
           5982
          ],
          [
           "Barcelos",
           "1120302",
           57202
          ],
          [
           "Braga",
           "1120303",
           98441
          ],
          [
           "Esposende",
           "1120306",
           16517
          ],
          [
           "Terras de Bouro",
           "1120310",
           1807
          ],
          [
           "Vila Verde",
           "1120313",
           17435
          ],
          [
           "Cabeceiras de Basto",
           "1190304",
           4565
          ],
          [
           "Fafe",
           "1190307",
           17256
          ],
          [
           "Guimarães",
           "1190308",
           74943
          ],
          [
           "Mondim de Basto",
           "1191705",
           1650
          ],
          [
           "Póvoa de Lanhoso",
           "1190309",
           7409
          ],
          [
           "Vieira do Minho",
           "1190311",
           2862
          ],
          [
           "Vila Nova de Famalicão",
           "1190312",
           66967
          ],
          [
           "Vizela",
           "1190314",
           9603
          ],
          [
           "Arouca",
           "11A0104",
           8592
          ],
          [
           "Espinho",
           "11A0107",
           9709
          ],
          [
           "Gondomar",
           "11A1304",
           43443
          ],
          [
           "Maia",
           "11A1306",
           90919
          ],
          [
           "Matosinhos",
           "11A1308",
           94635
          ],
          [
           "Oliveira de Azeméis",
           "11A0113",
           31118
          ],
          [
           "Paredes",
           "11A1310",
           35044
          ],
          [
           "Porto",
           "11A1312",
           191013
          ],
          [
           "Póvoa de Varzim",
           "11A1313",
           26490
          ],
          [
           "Santa Maria da Feira",
           "11A0109",
           55875
          ],
          [
           "Santo Tirso",
           "11A1314",
           26413
          ],
          [
           "São João da Madeira",
           "11A0116",
           18661
          ],
          [
           "Trofa",
           "11A1318",
           24064
          ],
          [
           "Vale de Cambra",
           "11A0119",
           9553
          ],
          [
           "Valongo",
           "11A1315",
           29125
          ],
          [
           "Vila do Conde",
           "11A1316",
           35670
          ],
          [
           "Vila Nova de Gaia",
           "11A1317",
           123076
          ],
          [
           "Boticas",
           "11B1702",
           1444
          ],
          [
           "Chaves",
           "11B1703",
           11234
          ],
          [
           "Montalegre",
           "11B1706",
           2601
          ],
          [
           "Ribeira de Pena",
           "11B1709",
           1844
          ],
          [
           "Valpaços",
           "11B1712",
           4780
          ],
          [
           "Vila Pouca de Aguiar",
           "11B1713",
           3250
          ],
          [
           "Amarante",
           "11C1301",
           20026
          ],
          [
           "Baião",
           "11C1302",
           4846
          ],
          [
           "Castelo de Paiva",
           "11C0106",
           4983
          ],
          [
           "Celorico de Basto",
           "11C0305",
           4423
          ],
          [
           "Cinfães",
           "11C1804",
           7947
          ],
          [
           "Felgueiras",
           "11C1303",
           31274
          ],
          [
           "Lousada",
           "11C1305",
           20222
          ],
          [
           "Marco de Canaveses",
           "11C1307",
           19616
          ],
          [
           "Paços de Ferreira",
           "11C1309",
           25656
          ],
          [
           "Penafiel",
           "11C1311",
           25581
          ],
          [
           "Resende",
           "11C1813",
           2720
          ],
          [
           "Alijó",
           "11D1701",
           3715
          ],
          [
           "Armamar",
           "11D1801",
           1965
          ],
          [
           "Carrazeda de Ansiães",
           "11D0403",
           1686
          ],
          [
           "Freixo de Espada à Cinta",
           "11D0404",
           1022
          ],
          [
           "Lamego",
           "11D1805",
           7487
          ],
          [
           "Mesão Frio",
           "11D1704",
           1210
          ],
          [
           "Moimenta da Beira",
           "11D1807",
           2943
          ],
          [
           "Murça",
           "11D1707",
           1666
          ],
          [
           "Penedono",
           "11D1812",
           916
          ],
          [
           "Peso da Régua",
           "11D1708",
           4941
          ],
          [
           "Sabrosa",
           "11D1710",
           1944
          ],
          [
           "Santa Marta de Penaguião",
           "11D1711",
           2117
          ],
          [
           "São João da Pesqueira",
           "11D1815",
           2824
          ],
          [
           "Sernancelhe",
           "11D1818",
           1847
          ],
          [
           "Tabuaço",
           "11D1819",
           1369
          ],
          [
           "Tarouca",
           "11D1820",
           2308
          ],
          [
           "Torre de Moncorvo",
           "11D0409",
           1895
          ],
          [
           "Vila Nova de Foz Côa",
           "11D0914",
           2131
          ],
          [
           "Vila Real",
           "11D1714",
           18139
          ],
          [
           "Alfândega da Fé",
           "11E0401",
           1382
          ],
          [
           "Bragança",
           "11E0402",
           12499
          ],
          [
           "Macedo de Cavaleiros",
           "11E0405",
           4857
          ],
          [
           "Miranda do Douro",
           "11E0406",
           1924
          ],
          [
           "Mirandela",
           "11E0407",
           6715
          ],
          [
           "Mogadouro",
           "11E0408",
           2758
          ],
          [
           "Vila Flor",
           "11E0410",
           1899
          ],
          [
           "Vimioso",
           "11E0411",
           909
          ],
          [
           "Vinhais",
           "11E0412",
           2283
          ],
          [
           "Águeda",
           "1910101",
           23822
          ],
          [
           "Albergaria-a-Velha",
           "1910102",
           11439
          ],
          [
           "Anadia",
           "1910103",
           10931
          ],
          [
           "Aveiro",
           "1910105",
           53265
          ],
          [
           "Estarreja",
           "1910108",
           11526
          ],
          [
           "Ílhavo",
           "1910110",
           15005
          ],
          [
           "Murtosa",
           "1910112",
           2816
          ],
          [
           "Oliveira do Bairro",
           "1910114",
           10996
          ],
          [
           "Ovar",
           "1910115",
           24687
          ],
          [
           "Sever do Vouga",
           "1910117",
           4823
          ],
          [
           "Vagos",
           "1910118",
           10320
          ],
          [
           "Arganil",
           "1920601",
           3269
          ],
          [
           "Cantanhede",
           "1920602",
           13455
          ],
          [
           "Coimbra",
           "1920603",
           61331
          ],
          [
           "Condeixa-a-Nova",
           "1920604",
           4705
          ],
          [
           "Figueira da Foz",
           "1920605",
           23792
          ],
          [
           "Góis",
           "1920606",
           880
          ],
          [
           "Lousã",
           "1920607",
           5133
          ],
          [
           "Mealhada",
           "1920111",
           8003
          ],
          [
           "Mira",
           "1920608",
           3926
          ],
          [
           "Miranda do Corvo",
           "1920609",
           2602
          ],
          [
           "Montemor-o-Velho",
           "1920610",
           6224
          ],
          [
           "Mortágua",
           "1921808",
           4324
          ],
          [
           "Oliveira do Hospital",
           "1920611",
           6654
          ],
          [
           "Pampilhosa da Serra",
           "1920612",
           561
          ],
          [
           "Penacova",
           "1920613",
           3829
          ],
          [
           "Penela",
           "1920614",
           2774
          ],
          [
           "Soure",
           "1920615",
           3678
          ],
          [
           "Tábua",
           "1920616",
           4238
          ],
          [
           "Vila Nova de Poiares",
           "1920617",
           2507
          ],
          [
           "Alvaiázere",
           "1931002",
           2107
          ],
          [
           "Ansião",
           "1931003",
           4472
          ],
          [
           "Batalha",
           "1931004",
           7594
          ],
          [
           "Castanheira de Pêra",
           "1931007",
           808
          ],
          [
           "Figueiró dos Vinhos",
           "1931008",
           1199
          ],
          [
           "Leiria",
           "1931009",
           68727
          ],
          [
           "Marinha Grande",
           "1931010",
           18870
          ],
          [
           "Pedrógão Grande",
           "1931013",
           876
          ],
          [
           "Pombal",
           "1931015",
           21892
          ],
          [
           "Porto de Mós",
           "1931016",
           9341
          ],
          [
           "Aguiar da Beira",
           "1940901",
           1545
          ],
          [
           "Carregal do Sal",
           "1941802",
           3829
          ],
          [
           "Castro Daire",
           "1941803",
           3437
          ],
          [
           "Mangualde",
           "1941806",
           7812
          ],
          [
           "Nelas",
           "1941809",
           4525
          ],
          [
           "Oliveira de Frades",
           "1941810",
           5765
          ],
          [
           "Penalva do Castelo",
           "1941811",
           1756
          ],
          [
           "Santa Comba Dão",
           "1941814",
           2643
          ],
          [
           "São Pedro do Sul",
           "1941816",
           3778
          ],
          [
           "Sátão",
           "1941817",
           2928
          ],
          [
           "Tondela",
           "1941821",
           9765
          ],
          [
           "Vila Nova de Paiva",
           "1941822",
           1188
          ],
          [
           "Viseu",
           "1941823",
           41005
          ],
          [
           "Vouzela",
           "1941824",
           2459
          ],
          [
           "Castelo Branco",
           "1950502",
           16998
          ],
          [
           "Idanha-a-Nova",
           "1950505",
           1918
          ],
          [
           "Oleiros",
           "1950506",
           1267
          ],
          [
           "Penamacor",
           "1950507",
           977
          ],
          [
           "Proença-a-Nova",
           "1950508",
           1764
          ],
          [
           "Sertã",
           "1950509",
           4464
          ],
          [
           "Vila de Rei",
           "1950510",
           839
          ],
          [
           "Vila Velha de Ródão",
           "1950511",
           1151
          ],
          [
           "Almeida",
           "1960902",
           1174
          ],
          [
           "Belmonte",
           "1960501",
           1960
          ],
          [
           "Celorico da Beira",
           "1960903",
           1449
          ],
          [
           "Covilhã",
           "1960503",
           15374
          ],
          [
           "Figueira de Castelo Rodrigo",
           "1960904",
           1407
          ],
          [
           "Fornos de Algodres",
           "1960905",
           1019
          ],
          [
           "Fundão",
           "1960504",
           9168
          ],
          [
           "Gouveia",
           "1960906",
           2620
          ],
          [
           "Guarda",
           "1960907",
           13983
          ],
          [
           "Manteigas",
           "1960908",
           809
          ],
          [
           "Mêda",
           "1960909",
           1305
          ],
          [
           "Pinhel",
           "1960910",
           2718
          ],
          [
           "Sabugal",
           "1960911",
           2248
          ],
          [
           "Seia",
           "1960912",
           6307
          ],
          [
           "Trancoso",
           "1960913",
           2782
          ],
          [
           "Alcobaça",
           "1D11001",
           23492
          ],
          [
           "Alenquer",
           "1D11101",
           19458
          ],
          [
           "Arruda dos Vinhos",
           "1D11102",
           5148
          ],
          [
           "Bombarral",
           "1D11005",
           5073
          ],
          [
           "Cadaval",
           "1D11104",
           4186
          ],
          [
           "Caldas da Rainha",
           "1D11006",
           27177
          ],
          [
           "Lourinhã",
           "1D11108",
           9217
          ],
          [
           "Nazaré",
           "1D11011",
           6187
          ],
          [
           "Óbidos",
           "1D11012",
           5772
          ],
          [
           "Peniche",
           "1D11014",
           9602
          ],
          [
           "Sobral de Monte Agraço",
           "1D11112",
           3329
          ],
          [
           "Torres Vedras",
           "1D11113",
           37215
          ],
          [
           "Abrantes",
           "1D21401",
           9432
          ],
          [
           "Alcanena",
           "1D21402",
           5751
          ],
          [
           "Constância",
           "1D21408",
           1129
          ],
          [
           "Entroncamento",
           "1D21410",
           5344
          ],
          [
           "Ferreira do Zêzere",
           "1D21411",
           2618
          ],
          [
           "Mação",
           "1D21413",
           1652
          ],
          [
           "Ourém",
           "1D21421",
           20247
          ],
          [
           "Sardoal",
           "1D21417",
           743
          ],
          [
           "Tomar",
           "1D21418",
           10406
          ],
          [
           "Torres Novas",
           "1D21419",
           11916
          ],
          [
           "Vila Nova da Barquinha",
           "1D21420",
           1263
          ],
          [
           "Almeirim",
           "1D31403",
           8098
          ],
          [
           "Alpiarça",
           "1D31404",
           2174
          ],
          [
           "Azambuja",
           "1D31103",
           10841
          ],
          [
           "Benavente",
           "1D31405",
           12273
          ],
          [
           "Cartaxo",
           "1D31406",
           5947
          ],
          [
           "Chamusca",
           "1D31407",
           2640
          ],
          [
           "Coruche",
           "1D31409",
           5321
          ],
          [
           "Golegã",
           "1D31412",
           1763
          ],
          [
           "Rio Maior",
           "1D31414",
           8811
          ],
          [
           "Salvaterra de Magos",
           "1D31415",
           5593
          ],
          [
           "Santarém",
           "1D31416",
           23943
          ],
          [
           "Amadora",
           "1A01115",
           65669
          ],
          [
           "Cascais",
           "1A01105",
           94319
          ],
          [
           "Lisboa",
           "1A01106",
           608505
          ],
          [
           "Loures",
           "1A01107",
           85516
          ],
          [
           "Mafra",
           "1A01109",
           39605
          ],
          [
           "Odivelas",
           "1A01116",
           49328
          ],
          [
           "Oeiras",
           "1A01110",
           125280
          ],
          [
           "Sintra",
           "1A01111",
           134829
          ],
          [
           "Vila Franca de Xira",
           "1A01114",
           53071
          ],
          [
           "Alcochete",
           "1B01502",
           8514
          ],
          [
           "Almada",
           "1B01503",
           52525
          ],
          [
           "Barreiro",
           "1B01504",
           19505
          ],
          [
           "Moita",
           "1B01506",
           12267
          ],
          [
           "Montijo",
           "1B01507",
           23394
          ],
          [
           "Palmela",
           "1B01508",
           37076
          ],
          [
           "Seixal",
           "1B01510",
           45093
          ],
          [
           "Sesimbra",
           "1B01511",
           14125
          ],
          [
           "Setúbal",
           "1B01512",
           44925
          ],
          [
           "Alcácer do Sal",
           "1C11501",
           4027
          ],
          [
           "Grândola",
           "1C11505",
           6022
          ],
          [
           "Odemira",
           "1C10211",
           23119
          ],
          [
           "Santiago do Cacém",
           "1C11509",
           9051
          ],
          [
           "Sines",
           "1C11513",
           8713
          ],
          [
           "Aljustrel",
           "1C20201",
           2726
          ],
          [
           "Almodôvar",
           "1C20202",
           1684
          ],
          [
           "Alvito",
           "1C20203",
           615
          ],
          [
           "Barrancos",
           "1C20204",
           438
          ],
          [
           "Beja",
           "1C20205",
           15356
          ],
          [
           "Castro Verde",
           "1C20206",
           3527
          ],
          [
           "Cuba",
           "1C20207",
           1226
          ],
          [
           "Ferreira do Alentejo",
           "1C20208",
           3508
          ],
          [
           "Mértola",
           "1C20209",
           1454
          ],
          [
           "Moura",
           "1C20210",
           3700
          ],
          [
           "Ourique",
           "1C20212",
           1251
          ],
          [
           "Serpa",
           "1C20213",
           4893
          ],
          [
           "Vidigueira",
           "1C20214",
           1498
          ],
          [
           "Alter do Chão",
           "1C31201",
           752
          ],
          [
           "Arronches",
           "1C31202",
           637
          ],
          [
           "Avis",
           "1C31203",
           1248
          ],
          [
           "Campo Maior",
           "1C31204",
           2989
          ],
          [
           "Castelo de Vide",
           "1C31205",
           770
          ],
          [
           "Crato",
           "1C31206",
           732
          ],
          [
           "Elvas",
           "1C31207",
           7728
          ],
          [
           "Fronteira",
           "1C31208",
           872
          ],
          [
           "Gavião",
           "1C31209",
           649
          ],
          [
           "Marvão",
           "1C31210",
           781
          ],
          [
           "Monforte",
           "1C31211",
           767
          ],
          [
           "Nisa",
           "1C31212",
           1258
          ],
          [
           "Ponte de Sor",
           "1C31213",
           4355
          ],
          [
           "Portalegre",
           "1C31214",
           7118
          ],
          [
           "Sousel",
           "1C31215",
           1388
          ],
          [
           "Alandroal",
           "1C40701",
           1363
          ],
          [
           "Arraiolos",
           "1C40702",
           2064
          ],
          [
           "Borba",
           "1C40703",
           1712
          ],
          [
           "Estremoz",
           "1C40704",
           4517
          ],
          [
           "Évora",
           "1C40705",
           24163
          ],
          [
           "Montemor-o-Novo",
           "1C40706",
           5283
          ],
          [
           "Mora",
           "1C40707",
           1108
          ],
          [
           "Mourão",
           "1C40708",
           682
          ],
          [
           "Portel",
           "1C40709",
           1295
          ],
          [
           "Redondo",
           "1C40710",
           2016
          ],
          [
           "Reguengos de Monsaraz",
           "1C40711",
           3484
          ],
          [
           "Vendas Novas",
           "1C40712",
           4231
          ],
          [
           "Viana do Alentejo",
           "1C40713",
           1451
          ],
          [
           "Vila Viçosa",
           "1C40714",
           2337
          ],
          [
           "Albufeira",
           "1500801",
           34123
          ],
          [
           "Alcoutim",
           "1500802",
           594
          ],
          [
           "Aljezur",
           "1500803",
           2890
          ],
          [
           "Castro Marim",
           "1500804",
           2406
          ],
          [
           "Faro",
           "1500805",
           34343
          ],
          [
           "Lagoa",
           "1500806",
           14430
          ],
          [
           "Lagos",
           "1500807",
           17895
          ],
          [
           "Loulé",
           "1500808",
           49911
          ],
          [
           "Monchique",
           "1500809",
           1545
          ],
          [
           "Olhão",
           "1500810",
           15561
          ],
          [
           "Portimão",
           "1500811",
           30089
          ],
          [
           "São Brás de Alportel",
           "1500812",
           3739
          ],
          [
           "Silves",
           "1500813",
           14541
          ],
          [
           "Tavira",
           "1500814",
           11687
          ],
          [
           "Vila do Bispo",
           "1500815",
           3445
          ],
          [
           "Vila Real de Santo António",
           "1500816",
           7490
          ],
          [
           "Angra do Heroísmo",
           "2004301",
           11714
          ],
          [
           "Calheta (R.A.A.)",
           "2004501",
           1162
          ],
          [
           "Corvo",
           "2004901",
           171
          ],
          [
           "Horta",
           "2004701",
           5213
          ],
          [
           "Lagoa (R.A.A.)",
           "2004201",
           3977
          ],
          [
           "Lajes das Flores",
           "2004801",
           429
          ],
          [
           "Lajes do Pico",
           "2004601",
           1226
          ],
          [
           "Madalena",
           "2004602",
           2591
          ],
          [
           "Nordeste",
           "2004202",
           776
          ],
          [
           "Ponta Delgada",
           "2004203",
           30630
          ],
          [
           "Povoação",
           "2004204",
           1647
          ],
          [
           "Ribeira Grande",
           "2004205",
           9189
          ],
          [
           "Santa Cruz da Graciosa",
           "2004401",
           1098
          ],
          [
           "Santa Cruz das Flores",
           "2004802",
           651
          ],
          [
           "São Roque do Pico",
           "2004603",
           1129
          ],
          [
           "Velas",
           "2004502",
           1733
          ],
          [
           "Vila da Praia da Vitória",
           "2004302",
           6040
          ],
          [
           "Vila do Porto",
           "2004101",
           1763
          ],
          [
           "Vila Franca do Campo",
           "2004206",
           2421
          ],
          [
           "Calheta (R.A.M.)",
           "3003101",
           5363
          ],
          [
           "Câmara de Lobos",
           "3003102",
           7019
          ],
          [
           "Funchal",
           "3003103",
           61051
          ],
          [
           "Machico",
           "3003104",
           5088
          ],
          [
           "Ponta do Sol",
           "3003105",
           2833
          ],
          [
           "Porto Moniz",
           "3003106",
           761
          ],
          [
           "Ribeira Brava",
           "3003107",
           3195
          ],
          [
           "Santa Cruz",
           "3003108",
           12190
          ],
          [
           "Santana",
           "3003109",
           1348
          ],
          [
           "São Vicente",
           "3003110",
           1462
          ],
          [
           "Porto Santo",
           "3003201",
           2049
          ]
         ],
         "hovertemplate": "valor=%{x}<br>y=%{y}<br>local=%{customdata[0]}<br>codigo=%{customdata[1]}<br>Pessoal ao serviço dos estabelecimentos=%{customdata[2]}<br>Pessoal ao serviço dos estabelecimentos =%{marker.color}<extra></extra>",
         "legendgroup": "",
         "marker": {
          "color": [
           0,
           0,
           0,
           0,
           0,
           0,
           0,
           0,
           0,
           0,
           0,
           1,
           1,
           0,
           0,
           0,
           0,
           0,
           1,
           0,
           0,
           0,
           1,
           0,
           0,
           0,
           1,
           1,
           1,
           0,
           0,
           1,
           0,
           1,
           0,
           0,
           0,
           0,
           0,
           0,
           1,
           0,
           0,
           0,
           0,
           0,
           0,
           0,
           0,
           0,
           0,
           0,
           0,
           0,
           0,
           0,
           0,
           0,
           0,
           0,
           0,
           0,
           0,
           0,
           0,
           0,
           0,
           0,
           0,
           0,
           0,
           0,
           0,
           0,
           0,
           0,
           0,
           0,
           0,
           0,
           0,
           0,
           0,
           0,
           0,
           0,
           0,
           0,
           0,
           1,
           0,
           0,
           0,
           0,
           0,
           0,
           0,
           0,
           0,
           1,
           0,
           0,
           0,
           0,
           0,
           0,
           0,
           0,
           0,
           0,
           0,
           0,
           0,
           0,
           0,
           0,
           0,
           0,
           0,
           0,
           0,
           1,
           0,
           0,
           0,
           0,
           0,
           0,
           0,
           0,
           0,
           0,
           0,
           0,
           0,
           0,
           0,
           0,
           0,
           0,
           0,
           0,
           0,
           0,
           0,
           0,
           0,
           0,
           0,
           0,
           0,
           0,
           0,
           0,
           0,
           0,
           0,
           0,
           0,
           0,
           0,
           0,
           0,
           0,
           0,
           0,
           0,
           0,
           0,
           0,
           0,
           0,
           0,
           0,
           0,
           0,
           0,
           0,
           0,
           0,
           0,
           0,
           0,
           0,
           0,
           0,
           0,
           0,
           0,
           0,
           0,
           0,
           0,
           0,
           0,
           0,
           0,
           1,
           1,
           2,
           1,
           0,
           1,
           1,
           1,
           1,
           0,
           1,
           0,
           0,
           0,
           0,
           1,
           0,
           1,
           0,
           0,
           0,
           0,
           0,
           0,
           0,
           0,
           0,
           0,
           0,
           0,
           0,
           0,
           0,
           0,
           0,
           0,
           0,
           0,
           0,
           0,
           0,
           0,
           0,
           0,
           0,
           0,
           0,
           0,
           0,
           0,
           0,
           0,
           0,
           0,
           0,
           0,
           0,
           0,
           0,
           0,
           0,
           0,
           0,
           0,
           0,
           0,
           0,
           0,
           0,
           0,
           0,
           0,
           1,
           0,
           0,
           0,
           0,
           0,
           0,
           0,
           0,
           0,
           0,
           0,
           0,
           0,
           0,
           0,
           0,
           0,
           0,
           0,
           0,
           0,
           0,
           0,
           0,
           0,
           0,
           0,
           0,
           0,
           1,
           0,
           0,
           0,
           0,
           0,
           0,
           0,
           0
          ],
          "coloraxis": "coloraxis",
          "size": 10,
          "symbol": "circle"
         },
         "mode": "markers",
         "name": "",
         "orientation": "v",
         "showlegend": false,
         "type": "scatter",
         "x": [
          -0.1777618887745721,
          -0.2521069996490795,
          -0.3240861407877512,
          -0.213227043371532,
          -0.3071584810282669,
          -0.2996459173309742,
          -0.005338795345473396,
          -0.19976296817378655,
          0.5313704630805964,
          -0.21915416343140906,
          -0.22795947347920997,
          1.021370112804343,
          2.027248730702575,
          0.029004352985007715,
          -0.32979373788244765,
          0.05139569543343219,
          -0.26252214477487174,
          0.04702962757039517,
          1.4540986600565202,
          -0.33362319405282087,
          -0.19315288777779197,
          -0.3040607680751624,
          1.259552530025329,
          -0.13963806715486898,
          -0.16429781357682666,
          -0.13705257445385266,
          0.6857682819243077,
          1.8437763146927177,
          1.9344149078717432,
          0.38514377682971984,
          0.4809045725296267,
          4.285213167669405,
          0.2722601898457237,
          0.9890026711604876,
          0.2703820489214005,
          0.08129960157914941,
          0.21308655500925555,
          -0.14085763918365027,
          0.33653163576249767,
          0.4961736143299684,
          2.6281318692831164,
          -0.3386478308113998,
          -0.09985562757602333,
          -0.3104269340654008,
          -0.3288912545811495,
          -0.25727798505111216,
          -0.29459688913181964,
          0.11459391796487861,
          -0.2556681499731209,
          -0.25232652261426014,
          -0.2659857293366106,
          -0.1800302927481053,
          0.3889488415595175,
          0.11937464031770126,
          0.10459342732887203,
          0.2519177284056518,
          0.2500883703624799,
          -0.3075243526369013,
          -0.2832548692641536,
          -0.3259398902714988,
          -0.33274510219209835,
          -0.3489410187343139,
          -0.19125035541289315,
          -0.34435542790609625,
          -0.30208506138853675,
          -0.3332329310036109,
          -0.3515265114353302,
          -0.2533509631184364,
          -0.3264521105235869,
          -0.32223239130400366,
          -0.3049876428170362,
          -0.3288180802594226,
          -0.34047718885457173,
          -0.3175736261540591,
          -0.3276472911117926,
          -0.32189091113594487,
          0.06856726959867275,
          -0.3401601001270886,
          -0.06900045524785671,
          -0.255399844126789,
          -0.3269399393350994,
          -0.21008054753727626,
          -0.3065974778950275,
          -0.32754972534949006,
          -0.3516972515193596,
          -0.31818341216844975,
          0.2071838263899541,
          -0.09485538225802004,
          -0.10724623407043794,
          0.9253410112581043,
          -0.0927333269279406,
          -0.007875505165338477,
          -0.3051827743416412,
          -0.10566079043302226,
          0.22828242248787042,
          -0.25622915310636024,
          -0.1221494042621453,
          -0.29413345176088274,
          -0.04568223805755845,
          1.1220823709411019,
          -0.2591073430942841,
          0.20645208317268532,
          -0.3524046032960527,
          -0.24866780652791626,
          -0.17866437207587024,
          -0.2781082753026966,
          -0.31040254262482514,
          -0.22205674485990853,
          -0.2684004819535975,
          -0.21156842541238943,
          -0.3601854728396774,
          -0.2804742450385323,
          -0.3062072148458175,
          -0.28415735256545177,
          -0.27049814584310133,
          -0.3127197294795096,
          -0.3224763057097599,
          -0.2647905487484049,
          -0.1886404712713012,
          -0.3541607870174978,
          -0.3446237337524281,
          1.3024814654384302,
          0.08639741265945519,
          -0.35250216905835524,
          0.16010834607899632,
          -0.14602862458568294,
          -0.3361842953132616,
          -0.2804742450385323,
          -0.2900356897441776,
          -0.18332313722581478,
          -0.2634978023978967,
          -0.23325241608412076,
          -0.33103770135180455,
          -0.30940249356122446,
          -0.2817182085078892,
          -0.30245093299717113,
          -0.13568665378161762,
          -0.34489203959876,
          0.626301949800932,
          -0.3138905186271396,
          0.04073663590188372,
          -0.32708628797855316,
          -0.3429651157932856,
          -0.350038633560217,
          -0.33084256982719956,
          -0.2649856802730099,
          -0.3534046523596534,
          -0.34579452290005813,
          -0.34523351976681876,
          -0.3260618474743769,
          -0.33852587360852165,
          0.0011249364070674386,
          -0.339550314112698,
          -0.34901419305604076,
          -0.15024834380526622,
          -0.3099634966944639,
          -0.03280355743362803,
          -0.35413639557692217,
          -0.3420382410514118,
          -0.30757313551805254,
          -0.3190371125885967,
          -0.22003225529213158,
          -0.3060120833212125,
          0.19913465099999758,
          0.10073957971792316,
          -0.24830193491928187,
          -0.2501312929624538,
          -0.2717665007530339,
          0.28901710952117865,
          -0.14905316321706055,
          -0.2229592281612067,
          -0.2330816760000914,
          -0.13966245859544463,
          -0.2926699653263452,
          0.5338583900193103,
          -0.143809003493301,
          -0.23359389625217952,
          -0.3463311345927219,
          -0.24352121256645923,
          -0.3100122795756151,
          -0.33357441117166964,
          0.11998442633209191,
          -0.35574623065491345,
          -0.12005174037264148,
          -0.08322066510344654,
          -0.34306268155558806,
          -0.1763471852211858,
          -0.32084207919119295,
          -0.10944146372224427,
          -0.07451292081794814,
          -0.22881317389935688,
          -0.30947566788295133,
          -0.24408221569969862,
          -0.33086696126777515,
          -0.1589560880907646,
          -0.2374477438631284,
          0.21013519069960482,
          1.2278924401581666,
          1.9267072126498455,
          14.468444476468568,
          1.7119893612626116,
          0.5921539329950559,
          0.8293119097118655,
          2.6818906043117954,
          2.914804470368446,
          0.9206090717864329,
          -0.16620034594172547,
          0.9072913452321412,
          0.10188597742497757,
          -0.07465926946140189,
          0.19674428982358627,
          0.5304679797792983,
          0.7260141588740903,
          -0.02933997287188917,
          0.7219163968573852,
          -0.2756447398045584,
          -0.22698381585618493,
          0.19003664366528916,
          -0.15310214235261443,
          -0.16134644926717595,
          -0.30737800399344756,
          -0.33279388507324964,
          -0.35886833504859356,
          -0.36318562003047933,
          0.0006858904767061744,
          -0.2878404600923713,
          -0.3439651648568862,
          -0.2883038974633082,
          -0.33840391640564355,
          -0.28362074087278805,
          -0.34335537884249556,
          -0.25452175226606644,
          -0.337330693020316,
          -0.3555267076897328,
          -0.35833172335592983,
          -0.34342855316422244,
          -0.30096305512205795,
          -0.35508766175937156,
          -0.35601453650124537,
          -0.18537201823416735,
          -0.35259973482065776,
          -0.3580390260690223,
          -0.3548193559130397,
          -0.35516083608109844,
          -0.3431846387584662,
          -0.26764434729575315,
          -0.20025079698529907,
          -0.34001375148363483,
          -0.3406235374980255,
          -0.3235251376545118,
          -0.3321109247371321,
          -0.26369293392250176,
          0.2155013076262425,
          -0.2450090904415724,
          -0.34684335484481005,
          -0.35723410853002663,
          -0.34228215545716806,
          -0.3246959268021419,
          -0.2888892920371232,
          -0.27066888592713073,
          -0.3384770907273704,
          -0.316866274377366,
          0.45844005575947533,
          -0.35938055530068175,
          -0.30337780773904494,
          -0.3151832649776478,
          0.463806172686113,
          -0.021900583496323307,
          0.06261575809822005,
          0.8435321195674554,
          -0.3361842953132616,
          0.005686135794709461,
          0.3600449844774009,
          -0.2826694746903386,
          -0.019193133592428843,
          -0.08880630499526485,
          -0.2898405582195726,
          -0.19117718109116627,
          -0.08814773609972294,
          -0.34552621705372627,
          -0.36969813466417145,
          -0.2467164912818662,
          -0.2768643118333397,
          -0.36340514299565996,
          -0.3439651648568862,
          -0.310670848471157,
          -0.3549413131159178,
          0.3732407538288145,
          -0.33369636837454775,
          -0.14973612355317806,
          -0.3470872692505663,
          -0.35799024318787104,
          -0.3463311345927219,
          -0.33159870448504397,
          -0.22654476992582367,
          -0.33086696126777515,
          -0.31481739336901343,
          -0.24305777519552232,
          -0.20266554960228603,
          1.1152527675799266,
          -0.24976542135381943,
          -0.3047681198518556,
          -0.3553071847245522,
          -0.29593841836347906,
          -0.07653741038572508,
          -0.34098940910665987,
          -0.33820878488103856,
          -0.3238910092631462
         ],
         "xaxis": "x",
         "y": [
          0,
          0,
          0,
          0,
          0,
          0,
          0,
          0,
          0,
          0,
          0,
          0,
          0,
          0,
          0,
          0,
          0,
          0,
          0,
          0,
          0,
          0,
          0,
          0,
          0,
          0,
          0,
          0,
          0,
          0,
          0,
          0,
          0,
          0,
          0,
          0,
          0,
          0,
          0,
          0,
          0,
          0,
          0,
          0,
          0,
          0,
          0,
          0,
          0,
          0,
          0,
          0,
          0,
          0,
          0,
          0,
          0,
          0,
          0,
          0,
          0,
          0,
          0,
          0,
          0,
          0,
          0,
          0,
          0,
          0,
          0,
          0,
          0,
          0,
          0,
          0,
          0,
          0,
          0,
          0,
          0,
          0,
          0,
          0,
          0,
          0,
          0,
          0,
          0,
          0,
          0,
          0,
          0,
          0,
          0,
          0,
          0,
          0,
          0,
          0,
          0,
          0,
          0,
          0,
          0,
          0,
          0,
          0,
          0,
          0,
          0,
          0,
          0,
          0,
          0,
          0,
          0,
          0,
          0,
          0,
          0,
          0,
          0,
          0,
          0,
          0,
          0,
          0,
          0,
          0,
          0,
          0,
          0,
          0,
          0,
          0,
          0,
          0,
          0,
          0,
          0,
          0,
          0,
          0,
          0,
          0,
          0,
          0,
          0,
          0,
          0,
          0,
          0,
          0,
          0,
          0,
          0,
          0,
          0,
          0,
          0,
          0,
          0,
          0,
          0,
          0,
          0,
          0,
          0,
          0,
          0,
          0,
          0,
          0,
          0,
          0,
          0,
          0,
          0,
          0,
          0,
          0,
          0,
          0,
          0,
          0,
          0,
          0,
          0,
          0,
          0,
          0,
          0,
          0,
          0,
          0,
          0,
          0,
          0,
          0,
          0,
          0,
          0,
          0,
          0,
          0,
          0,
          0,
          0,
          0,
          0,
          0,
          0,
          0,
          0,
          0,
          0,
          0,
          0,
          0,
          0,
          0,
          0,
          0,
          0,
          0,
          0,
          0,
          0,
          0,
          0,
          0,
          0,
          0,
          0,
          0,
          0,
          0,
          0,
          0,
          0,
          0,
          0,
          0,
          0,
          0,
          0,
          0,
          0,
          0,
          0,
          0,
          0,
          0,
          0,
          0,
          0,
          0,
          0,
          0,
          0,
          0,
          0,
          0,
          0,
          0,
          0,
          0,
          0,
          0,
          0,
          0,
          0,
          0,
          0,
          0,
          0,
          0,
          0,
          0,
          0,
          0,
          0,
          0,
          0,
          0,
          0,
          0,
          0,
          0,
          0,
          0,
          0,
          0,
          0,
          0,
          0,
          0,
          0,
          0,
          0,
          0,
          0,
          0,
          0,
          0,
          0,
          0
         ],
         "yaxis": "y"
        }
       ],
       "layout": {
        "coloraxis": {
         "colorbar": {
          "title": {
           "text": "Pessoal ao serviço dos estabelecimentos "
          }
         },
         "colorscale": [
          [
           0,
           "#440154"
          ],
          [
           0.1111111111111111,
           "#482878"
          ],
          [
           0.2222222222222222,
           "#3e4989"
          ],
          [
           0.3333333333333333,
           "#31688e"
          ],
          [
           0.4444444444444444,
           "#26828e"
          ],
          [
           0.5555555555555556,
           "#1f9e89"
          ],
          [
           0.6666666666666666,
           "#35b779"
          ],
          [
           0.7777777777777778,
           "#6ece58"
          ],
          [
           0.8888888888888888,
           "#b5de2b"
          ],
          [
           1,
           "#fde725"
          ]
         ]
        },
        "height": 300,
        "legend": {
         "tracegroupgap": 0
        },
        "margin": {
         "t": 60
        },
        "template": {
         "data": {
          "bar": [
           {
            "error_x": {
             "color": "#2a3f5f"
            },
            "error_y": {
             "color": "#2a3f5f"
            },
            "marker": {
             "line": {
              "color": "#E5ECF6",
              "width": 0.5
             },
             "pattern": {
              "fillmode": "overlay",
              "size": 10,
              "solidity": 0.2
             }
            },
            "type": "bar"
           }
          ],
          "barpolar": [
           {
            "marker": {
             "line": {
              "color": "#E5ECF6",
              "width": 0.5
             },
             "pattern": {
              "fillmode": "overlay",
              "size": 10,
              "solidity": 0.2
             }
            },
            "type": "barpolar"
           }
          ],
          "carpet": [
           {
            "aaxis": {
             "endlinecolor": "#2a3f5f",
             "gridcolor": "white",
             "linecolor": "white",
             "minorgridcolor": "white",
             "startlinecolor": "#2a3f5f"
            },
            "baxis": {
             "endlinecolor": "#2a3f5f",
             "gridcolor": "white",
             "linecolor": "white",
             "minorgridcolor": "white",
             "startlinecolor": "#2a3f5f"
            },
            "type": "carpet"
           }
          ],
          "choropleth": [
           {
            "colorbar": {
             "outlinewidth": 0,
             "ticks": ""
            },
            "type": "choropleth"
           }
          ],
          "contour": [
           {
            "colorbar": {
             "outlinewidth": 0,
             "ticks": ""
            },
            "colorscale": [
             [
              0,
              "#0d0887"
             ],
             [
              0.1111111111111111,
              "#46039f"
             ],
             [
              0.2222222222222222,
              "#7201a8"
             ],
             [
              0.3333333333333333,
              "#9c179e"
             ],
             [
              0.4444444444444444,
              "#bd3786"
             ],
             [
              0.5555555555555556,
              "#d8576b"
             ],
             [
              0.6666666666666666,
              "#ed7953"
             ],
             [
              0.7777777777777778,
              "#fb9f3a"
             ],
             [
              0.8888888888888888,
              "#fdca26"
             ],
             [
              1,
              "#f0f921"
             ]
            ],
            "type": "contour"
           }
          ],
          "contourcarpet": [
           {
            "colorbar": {
             "outlinewidth": 0,
             "ticks": ""
            },
            "type": "contourcarpet"
           }
          ],
          "heatmap": [
           {
            "colorbar": {
             "outlinewidth": 0,
             "ticks": ""
            },
            "colorscale": [
             [
              0,
              "#0d0887"
             ],
             [
              0.1111111111111111,
              "#46039f"
             ],
             [
              0.2222222222222222,
              "#7201a8"
             ],
             [
              0.3333333333333333,
              "#9c179e"
             ],
             [
              0.4444444444444444,
              "#bd3786"
             ],
             [
              0.5555555555555556,
              "#d8576b"
             ],
             [
              0.6666666666666666,
              "#ed7953"
             ],
             [
              0.7777777777777778,
              "#fb9f3a"
             ],
             [
              0.8888888888888888,
              "#fdca26"
             ],
             [
              1,
              "#f0f921"
             ]
            ],
            "type": "heatmap"
           }
          ],
          "heatmapgl": [
           {
            "colorbar": {
             "outlinewidth": 0,
             "ticks": ""
            },
            "colorscale": [
             [
              0,
              "#0d0887"
             ],
             [
              0.1111111111111111,
              "#46039f"
             ],
             [
              0.2222222222222222,
              "#7201a8"
             ],
             [
              0.3333333333333333,
              "#9c179e"
             ],
             [
              0.4444444444444444,
              "#bd3786"
             ],
             [
              0.5555555555555556,
              "#d8576b"
             ],
             [
              0.6666666666666666,
              "#ed7953"
             ],
             [
              0.7777777777777778,
              "#fb9f3a"
             ],
             [
              0.8888888888888888,
              "#fdca26"
             ],
             [
              1,
              "#f0f921"
             ]
            ],
            "type": "heatmapgl"
           }
          ],
          "histogram": [
           {
            "marker": {
             "pattern": {
              "fillmode": "overlay",
              "size": 10,
              "solidity": 0.2
             }
            },
            "type": "histogram"
           }
          ],
          "histogram2d": [
           {
            "colorbar": {
             "outlinewidth": 0,
             "ticks": ""
            },
            "colorscale": [
             [
              0,
              "#0d0887"
             ],
             [
              0.1111111111111111,
              "#46039f"
             ],
             [
              0.2222222222222222,
              "#7201a8"
             ],
             [
              0.3333333333333333,
              "#9c179e"
             ],
             [
              0.4444444444444444,
              "#bd3786"
             ],
             [
              0.5555555555555556,
              "#d8576b"
             ],
             [
              0.6666666666666666,
              "#ed7953"
             ],
             [
              0.7777777777777778,
              "#fb9f3a"
             ],
             [
              0.8888888888888888,
              "#fdca26"
             ],
             [
              1,
              "#f0f921"
             ]
            ],
            "type": "histogram2d"
           }
          ],
          "histogram2dcontour": [
           {
            "colorbar": {
             "outlinewidth": 0,
             "ticks": ""
            },
            "colorscale": [
             [
              0,
              "#0d0887"
             ],
             [
              0.1111111111111111,
              "#46039f"
             ],
             [
              0.2222222222222222,
              "#7201a8"
             ],
             [
              0.3333333333333333,
              "#9c179e"
             ],
             [
              0.4444444444444444,
              "#bd3786"
             ],
             [
              0.5555555555555556,
              "#d8576b"
             ],
             [
              0.6666666666666666,
              "#ed7953"
             ],
             [
              0.7777777777777778,
              "#fb9f3a"
             ],
             [
              0.8888888888888888,
              "#fdca26"
             ],
             [
              1,
              "#f0f921"
             ]
            ],
            "type": "histogram2dcontour"
           }
          ],
          "mesh3d": [
           {
            "colorbar": {
             "outlinewidth": 0,
             "ticks": ""
            },
            "type": "mesh3d"
           }
          ],
          "parcoords": [
           {
            "line": {
             "colorbar": {
              "outlinewidth": 0,
              "ticks": ""
             }
            },
            "type": "parcoords"
           }
          ],
          "pie": [
           {
            "automargin": true,
            "type": "pie"
           }
          ],
          "scatter": [
           {
            "fillpattern": {
             "fillmode": "overlay",
             "size": 10,
             "solidity": 0.2
            },
            "type": "scatter"
           }
          ],
          "scatter3d": [
           {
            "line": {
             "colorbar": {
              "outlinewidth": 0,
              "ticks": ""
             }
            },
            "marker": {
             "colorbar": {
              "outlinewidth": 0,
              "ticks": ""
             }
            },
            "type": "scatter3d"
           }
          ],
          "scattercarpet": [
           {
            "marker": {
             "colorbar": {
              "outlinewidth": 0,
              "ticks": ""
             }
            },
            "type": "scattercarpet"
           }
          ],
          "scattergeo": [
           {
            "marker": {
             "colorbar": {
              "outlinewidth": 0,
              "ticks": ""
             }
            },
            "type": "scattergeo"
           }
          ],
          "scattergl": [
           {
            "marker": {
             "colorbar": {
              "outlinewidth": 0,
              "ticks": ""
             }
            },
            "type": "scattergl"
           }
          ],
          "scattermapbox": [
           {
            "marker": {
             "colorbar": {
              "outlinewidth": 0,
              "ticks": ""
             }
            },
            "type": "scattermapbox"
           }
          ],
          "scatterpolar": [
           {
            "marker": {
             "colorbar": {
              "outlinewidth": 0,
              "ticks": ""
             }
            },
            "type": "scatterpolar"
           }
          ],
          "scatterpolargl": [
           {
            "marker": {
             "colorbar": {
              "outlinewidth": 0,
              "ticks": ""
             }
            },
            "type": "scatterpolargl"
           }
          ],
          "scatterternary": [
           {
            "marker": {
             "colorbar": {
              "outlinewidth": 0,
              "ticks": ""
             }
            },
            "type": "scatterternary"
           }
          ],
          "surface": [
           {
            "colorbar": {
             "outlinewidth": 0,
             "ticks": ""
            },
            "colorscale": [
             [
              0,
              "#0d0887"
             ],
             [
              0.1111111111111111,
              "#46039f"
             ],
             [
              0.2222222222222222,
              "#7201a8"
             ],
             [
              0.3333333333333333,
              "#9c179e"
             ],
             [
              0.4444444444444444,
              "#bd3786"
             ],
             [
              0.5555555555555556,
              "#d8576b"
             ],
             [
              0.6666666666666666,
              "#ed7953"
             ],
             [
              0.7777777777777778,
              "#fb9f3a"
             ],
             [
              0.8888888888888888,
              "#fdca26"
             ],
             [
              1,
              "#f0f921"
             ]
            ],
            "type": "surface"
           }
          ],
          "table": [
           {
            "cells": {
             "fill": {
              "color": "#EBF0F8"
             },
             "line": {
              "color": "white"
             }
            },
            "header": {
             "fill": {
              "color": "#C8D4E3"
             },
             "line": {
              "color": "white"
             }
            },
            "type": "table"
           }
          ]
         },
         "layout": {
          "annotationdefaults": {
           "arrowcolor": "#2a3f5f",
           "arrowhead": 0,
           "arrowwidth": 1
          },
          "autotypenumbers": "strict",
          "coloraxis": {
           "colorbar": {
            "outlinewidth": 0,
            "ticks": ""
           }
          },
          "colorscale": {
           "diverging": [
            [
             0,
             "#8e0152"
            ],
            [
             0.1,
             "#c51b7d"
            ],
            [
             0.2,
             "#de77ae"
            ],
            [
             0.3,
             "#f1b6da"
            ],
            [
             0.4,
             "#fde0ef"
            ],
            [
             0.5,
             "#f7f7f7"
            ],
            [
             0.6,
             "#e6f5d0"
            ],
            [
             0.7,
             "#b8e186"
            ],
            [
             0.8,
             "#7fbc41"
            ],
            [
             0.9,
             "#4d9221"
            ],
            [
             1,
             "#276419"
            ]
           ],
           "sequential": [
            [
             0,
             "#0d0887"
            ],
            [
             0.1111111111111111,
             "#46039f"
            ],
            [
             0.2222222222222222,
             "#7201a8"
            ],
            [
             0.3333333333333333,
             "#9c179e"
            ],
            [
             0.4444444444444444,
             "#bd3786"
            ],
            [
             0.5555555555555556,
             "#d8576b"
            ],
            [
             0.6666666666666666,
             "#ed7953"
            ],
            [
             0.7777777777777778,
             "#fb9f3a"
            ],
            [
             0.8888888888888888,
             "#fdca26"
            ],
            [
             1,
             "#f0f921"
            ]
           ],
           "sequentialminus": [
            [
             0,
             "#0d0887"
            ],
            [
             0.1111111111111111,
             "#46039f"
            ],
            [
             0.2222222222222222,
             "#7201a8"
            ],
            [
             0.3333333333333333,
             "#9c179e"
            ],
            [
             0.4444444444444444,
             "#bd3786"
            ],
            [
             0.5555555555555556,
             "#d8576b"
            ],
            [
             0.6666666666666666,
             "#ed7953"
            ],
            [
             0.7777777777777778,
             "#fb9f3a"
            ],
            [
             0.8888888888888888,
             "#fdca26"
            ],
            [
             1,
             "#f0f921"
            ]
           ]
          },
          "colorway": [
           "#636efa",
           "#EF553B",
           "#00cc96",
           "#ab63fa",
           "#FFA15A",
           "#19d3f3",
           "#FF6692",
           "#B6E880",
           "#FF97FF",
           "#FECB52"
          ],
          "font": {
           "color": "#2a3f5f"
          },
          "geo": {
           "bgcolor": "white",
           "lakecolor": "white",
           "landcolor": "#E5ECF6",
           "showlakes": true,
           "showland": true,
           "subunitcolor": "white"
          },
          "hoverlabel": {
           "align": "left"
          },
          "hovermode": "closest",
          "mapbox": {
           "style": "light"
          },
          "paper_bgcolor": "white",
          "plot_bgcolor": "#E5ECF6",
          "polar": {
           "angularaxis": {
            "gridcolor": "white",
            "linecolor": "white",
            "ticks": ""
           },
           "bgcolor": "#E5ECF6",
           "radialaxis": {
            "gridcolor": "white",
            "linecolor": "white",
            "ticks": ""
           }
          },
          "scene": {
           "xaxis": {
            "backgroundcolor": "#E5ECF6",
            "gridcolor": "white",
            "gridwidth": 2,
            "linecolor": "white",
            "showbackground": true,
            "ticks": "",
            "zerolinecolor": "white"
           },
           "yaxis": {
            "backgroundcolor": "#E5ECF6",
            "gridcolor": "white",
            "gridwidth": 2,
            "linecolor": "white",
            "showbackground": true,
            "ticks": "",
            "zerolinecolor": "white"
           },
           "zaxis": {
            "backgroundcolor": "#E5ECF6",
            "gridcolor": "white",
            "gridwidth": 2,
            "linecolor": "white",
            "showbackground": true,
            "ticks": "",
            "zerolinecolor": "white"
           }
          },
          "shapedefaults": {
           "line": {
            "color": "#2a3f5f"
           }
          },
          "ternary": {
           "aaxis": {
            "gridcolor": "white",
            "linecolor": "white",
            "ticks": ""
           },
           "baxis": {
            "gridcolor": "white",
            "linecolor": "white",
            "ticks": ""
           },
           "bgcolor": "#E5ECF6",
           "caxis": {
            "gridcolor": "white",
            "linecolor": "white",
            "ticks": ""
           }
          },
          "title": {
           "x": 0.05
          },
          "xaxis": {
           "automargin": true,
           "gridcolor": "white",
           "linecolor": "white",
           "ticks": "",
           "title": {
            "standoff": 15
           },
           "zerolinecolor": "white",
           "zerolinewidth": 2
          },
          "yaxis": {
           "automargin": true,
           "gridcolor": "white",
           "linecolor": "white",
           "ticks": "",
           "title": {
            "standoff": 15
           },
           "zerolinecolor": "white",
           "zerolinewidth": 2
          }
         }
        },
        "xaxis": {
         "anchor": "y",
         "domain": [
          0,
          1
         ],
         "title": {
          "text": "Pessoal ao serviço dos estabelecimentos"
         }
        },
        "yaxis": {
         "anchor": "x",
         "domain": [
          0,
          1
         ],
         "showgrid": false,
         "showticklabels": false,
         "title": {
          "text": "y"
         }
        }
       }
      }
     },
     "metadata": {},
     "output_type": "display_data"
    },
    {
     "name": "stdout",
     "output_type": "stream",
     "text": [
      "Pessoal ao serviço dos estabelecimentos \n",
      "0    282\n",
      "1     25\n",
      "2      1\n",
      "Name: count, dtype: int64\n",
      "File saved to csv_files/9_Pessoal ao serviço dos estabelecimentos .csv\n"
     ]
    }
   ],
   "source": [
    "clustered_df = aplicar_kmeans(df_pessoal_ao_servico, 3, nome_cluster='Pessoal ao serviço dos estabelecimentos ')\n",
    "save_clustered_df_to_csv(clustered_df, \"csv_files/\", \"9_Pessoal ao serviço dos estabelecimentos .csv\")"
   ]
  }
 ],
 "metadata": {
  "kernelspec": {
   "display_name": "base",
   "language": "python",
   "name": "python3"
  },
  "language_info": {
   "codemirror_mode": {
    "name": "ipython",
    "version": 3
   },
   "file_extension": ".py",
   "mimetype": "text/x-python",
   "name": "python",
   "nbconvert_exporter": "python",
   "pygments_lexer": "ipython3",
   "version": "3.11.5"
  }
 },
 "nbformat": 4,
 "nbformat_minor": 5
}
