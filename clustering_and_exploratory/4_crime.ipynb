{
 "cells": [
  {
   "cell_type": "markdown",
   "id": "8e877a44",
   "metadata": {},
   "source": [
    "# Análise Dados de Crime"
   ]
  },
  {
   "cell_type": "code",
<<<<<<< HEAD
   "execution_count": 1,
=======
   "execution_count": 5,
>>>>>>> more_clusters
   "id": "95b5d8a2",
   "metadata": {},
   "outputs": [],
   "source": [
    "import os\n",
    "import pandas as pd\n",
    "import matplotlib.pyplot as plt\n",
    "import plotly.express as px\n",
    "from sklearn.cluster import KMeans\n",
    "from sklearn.preprocessing import StandardScaler\n",
    "from sklearn.decomposition import PCA\n",
    "import numpy as np"
   ]
  },
  {
   "cell_type": "markdown",
   "id": "bf8af0f9",
   "metadata": {},
   "source": [
    "### Funções"
   ]
  },
  {
   "cell_type": "code",
<<<<<<< HEAD
   "execution_count": 2,
=======
   "execution_count": 6,
>>>>>>> more_clusters
   "id": "3b30d58c",
   "metadata": {},
   "outputs": [],
   "source": [
    "\n",
    "from auxiliary.auxiliary_funcs import processar_ficheiro,carregar_municipios,aplicar_kmeans,elbow_rule, save_clustered_df_to_csv,filter_for_only_municipalities\n",
    "data_path ='../data/dados_municipio/Crime (2)/'"
   ]
  },
  {
   "cell_type": "markdown",
   "id": "74391509",
   "metadata": {},
   "source": [
    "### Análise do Número de Crimes"
   ]
  },
  {
   "cell_type": "code",
<<<<<<< HEAD
   "execution_count": 3,
=======
   "execution_count": 8,
>>>>>>> more_clusters
   "id": "a60c93cb",
   "metadata": {},
   "outputs": [
    {
     "data": {
      "text/html": [
       "<div>\n",
       "<style scoped>\n",
       "    .dataframe tbody tr th:only-of-type {\n",
       "        vertical-align: middle;\n",
       "    }\n",
       "\n",
       "    .dataframe tbody tr th {\n",
       "        vertical-align: top;\n",
       "    }\n",
       "\n",
       "    .dataframe thead th {\n",
       "        text-align: right;\n",
       "    }\n",
       "</style>\n",
       "<table border=\"1\" class=\"dataframe\">\n",
       "  <thead>\n",
       "    <tr style=\"text-align: right;\">\n",
       "      <th></th>\n",
       "      <th>local</th>\n",
       "      <th>codigo</th>\n",
       "      <th>Total</th>\n",
       "    </tr>\n",
       "  </thead>\n",
       "  <tbody>\n",
       "    <tr>\n",
       "      <th>4</th>\n",
       "      <td>Arcos de Valdevez</td>\n",
       "      <td>1111601</td>\n",
       "      <td>643.0</td>\n",
       "    </tr>\n",
       "    <tr>\n",
       "      <th>5</th>\n",
       "      <td>Caminha</td>\n",
       "      <td>1111602</td>\n",
       "      <td>591.0</td>\n",
       "    </tr>\n",
       "    <tr>\n",
       "      <th>6</th>\n",
       "      <td>Melgaço</td>\n",
       "      <td>1111603</td>\n",
       "      <td>317.0</td>\n",
       "    </tr>\n",
       "    <tr>\n",
       "      <th>7</th>\n",
       "      <td>Monção</td>\n",
       "      <td>1111604</td>\n",
       "      <td>329.0</td>\n",
       "    </tr>\n",
       "    <tr>\n",
       "      <th>8</th>\n",
       "      <td>Paredes de Coura</td>\n",
       "      <td>1111605</td>\n",
       "      <td>241.0</td>\n",
       "    </tr>\n",
       "    <tr>\n",
       "      <th>...</th>\n",
       "      <td>...</td>\n",
       "      <td>...</td>\n",
       "      <td>...</td>\n",
       "    </tr>\n",
       "    <tr>\n",
       "      <th>342</th>\n",
       "      <td>Ribeira Brava</td>\n",
       "      <td>3003107</td>\n",
       "      <td>260.0</td>\n",
       "    </tr>\n",
       "    <tr>\n",
       "      <th>343</th>\n",
       "      <td>Santa Cruz</td>\n",
       "      <td>3003108</td>\n",
       "      <td>774.0</td>\n",
       "    </tr>\n",
       "    <tr>\n",
       "      <th>344</th>\n",
       "      <td>Santana</td>\n",
       "      <td>3003109</td>\n",
       "      <td>107.0</td>\n",
       "    </tr>\n",
       "    <tr>\n",
       "      <th>345</th>\n",
       "      <td>São Vicente</td>\n",
       "      <td>3003110</td>\n",
       "      <td>88.0</td>\n",
       "    </tr>\n",
       "    <tr>\n",
       "      <th>346</th>\n",
       "      <td>Porto Santo</td>\n",
       "      <td>3003201</td>\n",
       "      <td>239.0</td>\n",
       "    </tr>\n",
       "  </tbody>\n",
       "</table>\n",
       "<p>308 rows × 3 columns</p>\n",
       "</div>"
      ],
      "text/plain": [
       "                 local   codigo  Total\n",
       "4    Arcos de Valdevez  1111601  643.0\n",
       "5              Caminha  1111602  591.0\n",
       "6              Melgaço  1111603  317.0\n",
       "7               Monção  1111604  329.0\n",
       "8     Paredes de Coura  1111605  241.0\n",
       "..                 ...      ...    ...\n",
       "342      Ribeira Brava  3003107  260.0\n",
       "343         Santa Cruz  3003108  774.0\n",
       "344            Santana  3003109  107.0\n",
       "345        São Vicente  3003110   88.0\n",
       "346        Porto Santo  3003201  239.0\n",
       "\n",
       "[308 rows x 3 columns]"
      ]
     },
<<<<<<< HEAD
     "execution_count": 3,
=======
     "execution_count": 8,
>>>>>>> more_clusters
     "metadata": {},
     "output_type": "execute_result"
    }
   ],
   "source": [
    "df_crimes = processar_ficheiro(data_path+'Crimes registados .xls',4)\n",
    "df_crimes_municipios = carregar_municipios(df_crimes)\n",
    "df_crimes_municipios = df_crimes_municipios [['local','codigo','Total']]\n",
    "'''save_clustered_df_to_csv(\n",
    "    df_crimes_municipios.rename(columns={'Total': 'Total_Crimes'}),\n",
    "    \"csv_bruto/\",\n",
    "    \"4_Num_Total_crimes.csv\"\n",
    ")'''\n",
    "df_crimes_municipios\n"
   ]
  },
  {
   "cell_type": "code",
<<<<<<< HEAD
   "execution_count": 4,
=======
   "execution_count": 9,
>>>>>>> more_clusters
   "id": "13fec1ec",
   "metadata": {},
   "outputs": [
    {
     "data": {
      "application/vnd.plotly.v1+json": {
       "config": {
        "plotlyServerURL": "https://plot.ly"
       },
       "data": [
        {
         "customdata": [
          [
           "Arcos de Valdevez",
           "1111601",
           643
          ],
          [
           "Caminha",
           "1111602",
           591
          ],
          [
           "Melgaço",
           "1111603",
           317
          ],
          [
           "Monção",
           "1111604",
           329
          ],
          [
           "Paredes de Coura",
           "1111605",
           241
          ],
          [
           "Ponte da Barca",
           "1111606",
           325
          ],
          [
           "Ponte de Lima",
           "1111607",
           921
          ],
          [
           "Valença",
           "1111608",
           524
          ],
          [
           "Viana do Castelo",
           "1111609",
           2520
          ],
          [
           "Vila Nova de Cerveira",
           "1111610",
           330
          ],
          [
           "Amares",
           "1120301",
           355
          ],
          [
           "Barcelos",
           "1120302",
           1906
          ],
          [
           "Braga",
           "1120303",
           4675
          ],
          [
           "Esposende",
           "1120306",
           1012
          ],
          [
           "Terras de Bouro",
           "1120310",
           206
          ],
          [
           "Vila Verde",
           "1120313",
           1308
          ],
          [
           "Cabeceiras de Basto",
           "1190304",
           348
          ],
          [
           "Fafe",
           "1190307",
           1281
          ],
          [
           "Guimarães",
           "1190308",
           3032
          ],
          [
           "Mondim de Basto",
           "1191705",
           152
          ],
          [
           "Póvoa de Lanhoso",
           "1190309",
           578
          ],
          [
           "Vieira do Minho",
           "1190311",
           266
          ],
          [
           "Vila Nova de Famalicão",
           "1190312",
           2757
          ],
          [
           "Vizela",
           "1190314",
           411
          ],
          [
           "Arouca",
           "11A0104",
           304
          ],
          [
           "Espinho",
           "11A0107",
           1069
          ],
          [
           "Gondomar",
           "11A1304",
           3256
          ],
          [
           "Maia",
           "11A1306",
           4048
          ],
          [
           "Matosinhos",
           "11A1308",
           5202
          ],
          [
           "Oliveira de Azeméis",
           "11A0113",
           1234
          ],
          [
           "Paredes",
           "11A1310",
           1956
          ],
          [
           "Porto",
           "11A1312",
           15310
          ],
          [
           "Póvoa de Varzim",
           "11A1313",
           1504
          ],
          [
           "Santa Maria da Feira",
           "11A0109",
           2970
          ],
          [
           "Santo Tirso",
           "11A1314",
           1444
          ],
          [
           "São João da Madeira",
           "11A0116",
           657
          ],
          [
           "Trofa",
           "11A1318",
           719
          ],
          [
           "Vale de Cambra",
           "11A0119",
           611
          ],
          [
           "Valongo",
           "11A1315",
           2159
          ],
          [
           "Vila do Conde",
           "11A1316",
           2229
          ],
          [
           "Vila Nova de Gaia",
           "11A1317",
           8217
          ],
          [
           "Boticas",
           "11B1702",
           113
          ],
          [
           "Chaves",
           "11B1703",
           1113
          ],
          [
           "Montalegre",
           "11B1706",
           254
          ],
          [
           "Ribeira de Pena",
           "11B1709",
           151
          ],
          [
           "Valpaços",
           "11B1712",
           449
          ],
          [
           "Vila Pouca de Aguiar",
           "11B1713",
           251
          ],
          [
           "Amarante",
           "11C1301",
           1034
          ],
          [
           "Baião",
           "11C1302",
           421
          ],
          [
           "Castelo de Paiva",
           "11C0106",
           269
          ],
          [
           "Celorico de Basto",
           "11C0305",
           328
          ],
          [
           "Cinfães",
           "11C1804",
           337
          ],
          [
           "Felgueiras",
           "11C1303",
           1424
          ],
          [
           "Lousada",
           "11C1305",
           962
          ],
          [
           "Marco de Canaveses",
           "11C1307",
           1173
          ],
          [
           "Paços de Ferreira",
           "11C1309",
           1255
          ],
          [
           "Penafiel",
           "11C1311",
           1606
          ],
          [
           "Resende",
           "11C1813",
           213
          ],
          [
           "Alijó",
           "11D1701",
           229
          ],
          [
           "Armamar",
           "11D1801",
           117
          ],
          [
           "Carrazeda de Ansiães",
           "11D0403",
           116
          ],
          [
           "Freixo de Espada à Cinta",
           "11D0404",
           126
          ],
          [
           "Lamego",
           "11D1805",
           522
          ],
          [
           "Mesão Frio",
           "11D1704",
           96
          ],
          [
           "Moimenta da Beira",
           "11D1807",
           294
          ],
          [
           "Murça",
           "11D1707",
           112
          ],
          [
           "Penedono",
           "11D1812",
           45
          ],
          [
           "Peso da Régua",
           "11D1708",
           308
          ],
          [
           "Sabrosa",
           "11D1710",
           102
          ],
          [
           "Santa Marta de Penaguião",
           "11D1711",
           95
          ],
          [
           "São João da Pesqueira",
           "11D1815",
           143
          ],
          [
           "Sernancelhe",
           "11D1818",
           81
          ],
          [
           "Tabuaço",
           "11D1819",
           89
          ],
          [
           "Tarouca",
           "11D1820",
           127
          ],
          [
           "Torre de Moncorvo",
           "11D0409",
           230
          ],
          [
           "Vila Nova de Foz Côa",
           "11D0914",
           239
          ],
          [
           "Vila Real",
           "11D1714",
           1205
          ],
          [
           "Alfândega da Fé",
           "11E0401",
           110
          ],
          [
           "Bragança",
           "11E0402",
           1012
          ],
          [
           "Macedo de Cavaleiros",
           "11E0405",
           364
          ],
          [
           "Miranda do Douro",
           "11E0406",
           187
          ],
          [
           "Mirandela",
           "11E0407",
           593
          ],
          [
           "Mogadouro",
           "11E0408",
           118
          ],
          [
           "Vila Flor",
           "11E0410",
           153
          ],
          [
           "Vimioso",
           "11E0411",
           108
          ],
          [
           "Vinhais",
           "11E0412",
           141
          ],
          [
           "Águeda",
           "1910101",
           1420
          ],
          [
           "Albergaria-a-Velha",
           "1910102",
           830
          ],
          [
           "Anadia",
           "1910103",
           648
          ],
          [
           "Aveiro",
           "1910105",
           2786
          ],
          [
           "Estarreja",
           "1910108",
           855
          ],
          [
           "Ílhavo",
           "1910110",
           1466
          ],
          [
           "Murtosa",
           "1910112",
           355
          ],
          [
           "Oliveira do Bairro",
           "1910114",
           889
          ],
          [
           "Ovar",
           "1910115",
           1561
          ],
          [
           "Sever do Vouga",
           "1910117",
           271
          ],
          [
           "Vagos",
           "1910118",
           554
          ],
          [
           "Arganil",
           "1920601",
           244
          ],
          [
           "Cantanhede",
           "1920602",
           1094
          ],
          [
           "Coimbra",
           "1920603",
           4003
          ],
          [
           "Condeixa-a-Nova",
           "1920604",
           211
          ],
          [
           "Figueira da Foz",
           "1920605",
           1579
          ],
          [
           "Góis",
           "1920606",
           96
          ],
          [
           "Lousã",
           "1920607",
           303
          ],
          [
           "Mealhada",
           "1920111",
           500
          ],
          [
           "Mira",
           "1920608",
           326
          ],
          [
           "Miranda do Corvo",
           "1920609",
           205
          ],
          [
           "Montemor-o-Velho",
           "1920610",
           425
          ],
          [
           "Mortágua",
           "1921808",
           210
          ],
          [
           "Oliveira do Hospital",
           "1920611",
           379
          ],
          [
           "Pampilhosa da Serra",
           "1920612",
           75
          ],
          [
           "Penacova",
           "1920613",
           241
          ],
          [
           "Penela",
           "1920614",
           125
          ],
          [
           "Soure",
           "1920615",
           250
          ],
          [
           "Tábua",
           "1920616",
           253
          ],
          [
           "Vila Nova de Poiares",
           "1920617",
           141
          ],
          [
           "Alvaiázere",
           "1931002",
           148
          ],
          [
           "Ansião",
           "1931003",
           230
          ],
          [
           "Batalha",
           "1931004",
           457
          ],
          [
           "Castanheira de Pêra",
           "1931007",
           100
          ],
          [
           "Figueiró dos Vinhos",
           "1931008",
           109
          ],
          [
           "Leiria",
           "1931009",
           3584
          ],
          [
           "Marinha Grande",
           "1931010",
           1258
          ],
          [
           "Pedrógão Grande",
           "1931013",
           78
          ],
          [
           "Pombal",
           "1931015",
           1164
          ],
          [
           "Porto de Mós",
           "1931016",
           690
          ],
          [
           "Aguiar da Beira",
           "1940901",
           140
          ],
          [
           "Carregal do Sal",
           "1941802",
           242
          ],
          [
           "Castro Daire",
           "1941803",
           250
          ],
          [
           "Mangualde",
           "1941806",
           586
          ],
          [
           "Nelas",
           "1941809",
           333
          ],
          [
           "Oliveira de Frades",
           "1941810",
           267
          ],
          [
           "Penalva do Castelo",
           "1941811",
           132
          ],
          [
           "Santa Comba Dão",
           "1941814",
           307
          ],
          [
           "São Pedro do Sul",
           "1941816",
           320
          ],
          [
           "Sátão",
           "1941817",
           169
          ],
          [
           "Tondela",
           "1941821",
           578
          ],
          [
           "Vila Nova de Paiva",
           "1941822",
           79
          ],
          [
           "Viseu",
           "1941823",
           2671
          ],
          [
           "Vouzela",
           "1941824",
           234
          ],
          [
           "Castelo Branco",
           "1950502",
           1750
          ],
          [
           "Idanha-a-Nova",
           "1950505",
           424
          ],
          [
           "Oleiros",
           "1950506",
           144
          ],
          [
           "Penamacor",
           "1950507",
           202
          ],
          [
           "Proença-a-Nova",
           "1950508",
           216
          ],
          [
           "Sertã",
           "1950509",
           490
          ],
          [
           "Vila de Rei",
           "1950510",
           62
          ],
          [
           "Vila Velha de Ródão",
           "1950511",
           119
          ],
          [
           "Almeida",
           "1960902",
           280
          ],
          [
           "Belmonte",
           "1960501",
           269
          ],
          [
           "Celorico da Beira",
           "1960903",
           171
          ],
          [
           "Covilhã",
           "1960503",
           1534
          ],
          [
           "Figueira de Castelo Rodrigo",
           "1960904",
           211
          ],
          [
           "Fornos de Algodres",
           "1960905",
           121
          ],
          [
           "Fundão",
           "1960504",
           1159
          ],
          [
           "Gouveia",
           "1960906",
           299
          ],
          [
           "Guarda",
           "1960907",
           988
          ],
          [
           "Manteigas",
           "1960908",
           84
          ],
          [
           "Mêda",
           "1960909",
           113
          ],
          [
           "Pinhel",
           "1960910",
           199
          ],
          [
           "Sabugal",
           "1960911",
           301
          ],
          [
           "Seia",
           "1960912",
           774
          ],
          [
           "Trancoso",
           "1960913",
           173
          ],
          [
           "Alcobaça",
           "1D11001",
           1402
          ],
          [
           "Alenquer",
           "1D11101",
           1314
          ],
          [
           "Arruda dos Vinhos",
           "1D11102",
           402
          ],
          [
           "Bombarral",
           "1D11005",
           348
          ],
          [
           "Cadaval",
           "1D11104",
           332
          ],
          [
           "Caldas da Rainha",
           "1D11006",
           1339
          ],
          [
           "Lourinhã",
           "1D11108",
           793
          ],
          [
           "Nazaré",
           "1D11011",
           604
          ],
          [
           "Óbidos",
           "1D11012",
           365
          ],
          [
           "Peniche",
           "1D11014",
           1045
          ],
          [
           "Sobral de Monte Agraço",
           "1D11112",
           403
          ],
          [
           "Torres Vedras",
           "1D11113",
           2300
          ],
          [
           "Abrantes",
           "1D21401",
           840
          ],
          [
           "Alcanena",
           "1D21402",
           358
          ],
          [
           "Constância",
           "1D21408",
           89
          ],
          [
           "Entroncamento",
           "1D21410",
           912
          ],
          [
           "Ferreira do Zêzere",
           "1D21411",
           188
          ],
          [
           "Mação",
           "1D21413",
           215
          ],
          [
           "Ourém",
           "1D21421",
           1252
          ],
          [
           "Sardoal",
           "1D21417",
           107
          ],
          [
           "Tomar",
           "1D21418",
           1143
          ],
          [
           "Torres Novas",
           "1D21419",
           1036
          ],
          [
           "Vila Nova da Barquinha",
           "1D21420",
           215
          ],
          [
           "Almeirim",
           "1D31403",
           895
          ],
          [
           "Alpiarça",
           "1D31404",
           340
          ],
          [
           "Azambuja",
           "1D31103",
           983
          ],
          [
           "Benavente",
           "1D31405",
           1072
          ],
          [
           "Cartaxo",
           "1D31406",
           694
          ],
          [
           "Chamusca",
           "1D31407",
           249
          ],
          [
           "Coruche",
           "1D31409",
           633
          ],
          [
           "Golegã",
           "1D31412",
           186
          ],
          [
           "Rio Maior",
           "1D31414",
           861
          ],
          [
           "Salvaterra de Magos",
           "1D31415",
           788
          ],
          [
           "Santarém",
           "1D31416",
           1666
          ],
          [
           "Amadora",
           "1A01115",
           5241
          ],
          [
           "Cascais",
           "1A01105",
           6281
          ],
          [
           "Lisboa",
           "1A01106",
           30853
          ],
          [
           "Loures",
           "1A01107",
           6210
          ],
          [
           "Mafra",
           "1A01109",
           2340
          ],
          [
           "Odivelas",
           "1A01116",
           2803
          ],
          [
           "Oeiras",
           "1A01110",
           4729
          ],
          [
           "Sintra",
           "1A01111",
           11383
          ],
          [
           "Vila Franca de Xira",
           "1A01114",
           3321
          ],
          [
           "Alcochete",
           "1B01502",
           606
          ],
          [
           "Almada",
           "1B01503",
           7439
          ],
          [
           "Barreiro",
           "1B01504",
           3286
          ],
          [
           "Moita",
           "1B01506",
           2403
          ],
          [
           "Montijo",
           "1B01507",
           2324
          ],
          [
           "Palmela",
           "1B01508",
           2493
          ],
          [
           "Seixal",
           "1B01510",
           4548
          ],
          [
           "Sesimbra",
           "1B01511",
           2092
          ],
          [
           "Setúbal",
           "1B01512",
           4226
          ],
          [
           "Alcácer do Sal",
           "1C11501",
           615
          ],
          [
           "Grândola",
           "1C11505",
           714
          ],
          [
           "Odemira",
           "1C10211",
           850
          ],
          [
           "Santiago do Cacém",
           "1C11509",
           1001
          ],
          [
           "Sines",
           "1C11513",
           886
          ],
          [
           "Aljustrel",
           "1C20201",
           307
          ],
          [
           "Almodôvar",
           "1C20202",
           196
          ],
          [
           "Alvito",
           "1C20203",
           107
          ],
          [
           "Barrancos",
           "1C20204",
           71
          ],
          [
           "Beja",
           "1C20205",
           1542
          ],
          [
           "Castro Verde",
           "1C20206",
           226
          ],
          [
           "Cuba",
           "1C20207",
           225
          ],
          [
           "Ferreira do Alentejo",
           "1C20208",
           387
          ],
          [
           "Mértola",
           "1C20209",
           137
          ],
          [
           "Moura",
           "1C20210",
           421
          ],
          [
           "Ourique",
           "1C20212",
           148
          ],
          [
           "Serpa",
           "1C20213",
           422
          ],
          [
           "Vidigueira",
           "1C20214",
           190
          ],
          [
           "Alter do Chão",
           "1C31201",
           112
          ],
          [
           "Arronches",
           "1C31202",
           65
          ],
          [
           "Avis",
           "1C31203",
           280
          ],
          [
           "Campo Maior",
           "1C31204",
           392
          ],
          [
           "Castelo de Vide",
           "1C31205",
           118
          ],
          [
           "Crato",
           "1C31206",
           103
          ],
          [
           "Elvas",
           "1C31207",
           881
          ],
          [
           "Fronteira",
           "1C31208",
           69
          ],
          [
           "Gavião",
           "1C31209",
           105
          ],
          [
           "Marvão",
           "1C31210",
           62
          ],
          [
           "Monforte",
           "1C31211",
           65
          ],
          [
           "Nisa",
           "1C31212",
           165
          ],
          [
           "Ponte de Sor",
           "1C31213",
           604
          ],
          [
           "Portalegre",
           "1C31214",
           663
          ],
          [
           "Sousel",
           "1C31215",
           134
          ],
          [
           "Alandroal",
           "1C40701",
           91
          ],
          [
           "Arraiolos",
           "1C40702",
           158
          ],
          [
           "Borba",
           "1C40703",
           211
          ],
          [
           "Estremoz",
           "1C40704",
           405
          ],
          [
           "Évora",
           "1C40705",
           1441
          ],
          [
           "Montemor-o-Novo",
           "1C40706",
           536
          ],
          [
           "Mora",
           "1C40707",
           118
          ],
          [
           "Mourão",
           "1C40708",
           157
          ],
          [
           "Portel",
           "1C40709",
           179
          ],
          [
           "Redondo",
           "1C40710",
           174
          ],
          [
           "Reguengos de Monsaraz",
           "1C40711",
           378
          ],
          [
           "Vendas Novas",
           "1C40712",
           334
          ],
          [
           "Viana do Alentejo",
           "1C40713",
           200
          ],
          [
           "Vila Viçosa",
           "1C40714",
           192
          ],
          [
           "Albufeira",
           "1500801",
           3819
          ],
          [
           "Alcoutim",
           "1500802",
           99
          ],
          [
           "Aljezur",
           "1500803",
           354
          ],
          [
           "Castro Marim",
           "1500804",
           309
          ],
          [
           "Faro",
           "1500805",
           3500
          ],
          [
           "Lagoa",
           "1500806",
           1126
          ],
          [
           "Lagos",
           "1500807",
           1490
          ],
          [
           "Loulé",
           "1500808",
           4650
          ],
          [
           "Monchique",
           "1500809",
           178
          ],
          [
           "Olhão",
           "1500810",
           2082
          ],
          [
           "Portimão",
           "1500811",
           3099
          ],
          [
           "São Brás de Alportel",
           "1500812",
           435
          ],
          [
           "Silves",
           "1500813",
           1753
          ],
          [
           "Tavira",
           "1500814",
           1314
          ],
          [
           "Vila do Bispo",
           "1500815",
           356
          ],
          [
           "Vila Real de Santo António",
           "1500816",
           939
          ],
          [
           "Angra do Heroísmo",
           "2004301",
           1180
          ],
          [
           "Calheta (R.A.A.)",
           "2004501",
           74
          ],
          [
           "Corvo",
           "2004901",
           3
          ],
          [
           "Horta",
           "2004701",
           448
          ],
          [
           "Lagoa (R.A.A.)",
           "2004201",
           670
          ],
          [
           "Lajes das Flores",
           "2004801",
           21
          ],
          [
           "Lajes do Pico",
           "2004601",
           51
          ],
          [
           "Madalena",
           "2004602",
           232
          ],
          [
           "Nordeste",
           "2004202",
           120
          ],
          [
           "Ponta Delgada",
           "2004203",
           3335
          ],
          [
           "Povoação",
           "2004204",
           165
          ],
          [
           "Ribeira Grande",
           "2004205",
           1868
          ],
          [
           "Santa Cruz da Graciosa",
           "2004401",
           128
          ],
          [
           "Santa Cruz das Flores",
           "2004802",
           77
          ],
          [
           "São Roque do Pico",
           "2004603",
           85
          ],
          [
           "Velas",
           "2004502",
           118
          ],
          [
           "Vila da Praia da Vitória",
           "2004302",
           592
          ],
          [
           "Vila do Porto",
           "2004101",
           134
          ],
          [
           "Vila Franca do Campo",
           "2004206",
           263
          ],
          [
           "Calheta (R.A.M.)",
           "3003101",
           147
          ],
          [
           "Câmara de Lobos",
           "3003102",
           963
          ],
          [
           "Funchal",
           "3003103",
           3551
          ],
          [
           "Machico",
           "3003104",
           475
          ],
          [
           "Ponta do Sol",
           "3003105",
           114
          ],
          [
           "Porto Moniz",
           "3003106",
           72
          ],
          [
           "Ribeira Brava",
           "3003107",
           260
          ],
          [
           "Santa Cruz",
           "3003108",
           774
          ],
          [
           "Santana",
           "3003109",
           107
          ],
          [
           "São Vicente",
           "3003110",
           88
          ],
          [
           "Porto Santo",
           "3003201",
           239
          ]
         ],
         "hovertemplate": "valor=%{x}<br>y=%{y}<br>local=%{customdata[0]}<br>codigo=%{customdata[1]}<br>Total=%{customdata[2]}<br>num_crimes_municipios=%{marker.color}<extra></extra>",
         "legendgroup": "",
         "marker": {
          "color": {
           "bdata": "AAAAAAAAAAABAAABAgAAAQABAQAAAAEAAAABAgIBAQMBAQEAAAABAQIAAAAAAAAAAAAAAAEAAAEBAAAAAAAAAAAAAAAAAAAAAAAAAAAAAAAAAAAAAAABAAABAAEAAAEAAAAAAgABAAAAAAAAAAAAAAAAAAAAAAAAAAEBAAAAAAAAAAAAAAAAAAAAAQABAAAAAAAAAAAAAAEAAAAAAAAAAAAAAAEBAAAAAQAAAAAAAQAAAAAAAAEAAAAAAAAAAAAAAAAAAAECAgQCAQECAwEAAgEBAQECAQIAAAAAAAAAAAABAAAAAAAAAAAAAAAAAAAAAAAAAAAAAAAAAAAAAQAAAAAAAAAAAAIAAAABAAECAAEBAAEBAAAAAAAAAAAAAAABAAEAAAAAAAAAAAABAAAAAAAAAAA=",
           "dtype": "i1"
          },
          "coloraxis": "coloraxis",
          "size": 10,
          "symbol": "circle"
         },
         "mode": "markers",
         "name": "",
         "orientation": "v",
         "showlegend": false,
         "type": "scatter",
         "x": {
          "bdata": "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",
          "dtype": "f8"
         },
         "xaxis": "x",
         "y": {
          "bdata": "AAAAAAAAAAAAAAAAAAAAAAAAAAAAAAAAAAAAAAAAAAAAAAAAAAAAAAAAAAAAAAAAAAAAAAAAAAAAAAAAAAAAAAAAAAAAAAAAAAAAAAAAAAAAAAAAAAAAAAAAAAAAAAAAAAAAAAAAAAAAAAAAAAAAAAAAAAAAAAAAAAAAAAAAAAAAAAAAAAAAAAAAAAAAAAAAAAAAAAAAAAAAAAAAAAAAAAAAAAAAAAAAAAAAAAAAAAAAAAAAAAAAAAAAAAAAAAAAAAAAAAAAAAAAAAAAAAAAAAAAAAAAAAAAAAAAAAAAAAAAAAAAAAAAAAAAAAAAAAAAAAAAAAAAAAAAAAAAAAAAAAAAAAAAAAAAAAAAAAAAAAAAAAAAAAAAAAAAAAAAAAAAAAAAAAAAAAAAAAAAAAAAAAAAAAA=",
          "dtype": "i1"
         },
         "yaxis": "y"
        }
       ],
       "layout": {
        "coloraxis": {
         "colorbar": {
          "title": {
           "text": "num_crimes_municipios"
          }
         },
         "colorscale": [
          [
           0,
           "#440154"
          ],
          [
           0.1111111111111111,
           "#482878"
          ],
          [
           0.2222222222222222,
           "#3e4989"
          ],
          [
           0.3333333333333333,
           "#31688e"
          ],
          [
           0.4444444444444444,
           "#26828e"
          ],
          [
           0.5555555555555556,
           "#1f9e89"
          ],
          [
           0.6666666666666666,
           "#35b779"
          ],
          [
           0.7777777777777778,
           "#6ece58"
          ],
          [
           0.8888888888888888,
           "#b5de2b"
          ],
          [
           1,
           "#fde725"
          ]
         ]
        },
        "height": 300,
        "legend": {
         "tracegroupgap": 0
        },
        "margin": {
         "t": 60
        },
        "template": {
         "data": {
          "bar": [
           {
            "error_x": {
             "color": "#2a3f5f"
            },
            "error_y": {
             "color": "#2a3f5f"
            },
            "marker": {
             "line": {
              "color": "#E5ECF6",
              "width": 0.5
             },
             "pattern": {
              "fillmode": "overlay",
              "size": 10,
              "solidity": 0.2
             }
            },
            "type": "bar"
           }
          ],
          "barpolar": [
           {
            "marker": {
             "line": {
              "color": "#E5ECF6",
              "width": 0.5
             },
             "pattern": {
              "fillmode": "overlay",
              "size": 10,
              "solidity": 0.2
             }
            },
            "type": "barpolar"
           }
          ],
          "carpet": [
           {
            "aaxis": {
             "endlinecolor": "#2a3f5f",
             "gridcolor": "white",
             "linecolor": "white",
             "minorgridcolor": "white",
             "startlinecolor": "#2a3f5f"
            },
            "baxis": {
             "endlinecolor": "#2a3f5f",
             "gridcolor": "white",
             "linecolor": "white",
             "minorgridcolor": "white",
             "startlinecolor": "#2a3f5f"
            },
            "type": "carpet"
           }
          ],
          "choropleth": [
           {
            "colorbar": {
             "outlinewidth": 0,
             "ticks": ""
            },
            "type": "choropleth"
           }
          ],
          "contour": [
           {
            "colorbar": {
             "outlinewidth": 0,
             "ticks": ""
            },
            "colorscale": [
             [
              0,
              "#0d0887"
             ],
             [
              0.1111111111111111,
              "#46039f"
             ],
             [
              0.2222222222222222,
              "#7201a8"
             ],
             [
              0.3333333333333333,
              "#9c179e"
             ],
             [
              0.4444444444444444,
              "#bd3786"
             ],
             [
              0.5555555555555556,
              "#d8576b"
             ],
             [
              0.6666666666666666,
              "#ed7953"
             ],
             [
              0.7777777777777778,
              "#fb9f3a"
             ],
             [
              0.8888888888888888,
              "#fdca26"
             ],
             [
              1,
              "#f0f921"
             ]
            ],
            "type": "contour"
           }
          ],
          "contourcarpet": [
           {
            "colorbar": {
             "outlinewidth": 0,
             "ticks": ""
            },
            "type": "contourcarpet"
           }
          ],
          "heatmap": [
           {
            "colorbar": {
             "outlinewidth": 0,
             "ticks": ""
            },
            "colorscale": [
             [
              0,
              "#0d0887"
             ],
             [
              0.1111111111111111,
              "#46039f"
             ],
             [
              0.2222222222222222,
              "#7201a8"
             ],
             [
              0.3333333333333333,
              "#9c179e"
             ],
             [
              0.4444444444444444,
              "#bd3786"
             ],
             [
              0.5555555555555556,
              "#d8576b"
             ],
             [
              0.6666666666666666,
              "#ed7953"
             ],
             [
              0.7777777777777778,
              "#fb9f3a"
             ],
             [
              0.8888888888888888,
              "#fdca26"
             ],
             [
              1,
              "#f0f921"
             ]
            ],
            "type": "heatmap"
           }
          ],
          "histogram": [
           {
            "marker": {
             "pattern": {
              "fillmode": "overlay",
              "size": 10,
              "solidity": 0.2
             }
            },
            "type": "histogram"
           }
          ],
          "histogram2d": [
           {
            "colorbar": {
             "outlinewidth": 0,
             "ticks": ""
            },
            "colorscale": [
             [
              0,
              "#0d0887"
             ],
             [
              0.1111111111111111,
              "#46039f"
             ],
             [
              0.2222222222222222,
              "#7201a8"
             ],
             [
              0.3333333333333333,
              "#9c179e"
             ],
             [
              0.4444444444444444,
              "#bd3786"
             ],
             [
              0.5555555555555556,
              "#d8576b"
             ],
             [
              0.6666666666666666,
              "#ed7953"
             ],
             [
              0.7777777777777778,
              "#fb9f3a"
             ],
             [
              0.8888888888888888,
              "#fdca26"
             ],
             [
              1,
              "#f0f921"
             ]
            ],
            "type": "histogram2d"
           }
          ],
          "histogram2dcontour": [
           {
            "colorbar": {
             "outlinewidth": 0,
             "ticks": ""
            },
            "colorscale": [
             [
              0,
              "#0d0887"
             ],
             [
              0.1111111111111111,
              "#46039f"
             ],
             [
              0.2222222222222222,
              "#7201a8"
             ],
             [
              0.3333333333333333,
              "#9c179e"
             ],
             [
              0.4444444444444444,
              "#bd3786"
             ],
             [
              0.5555555555555556,
              "#d8576b"
             ],
             [
              0.6666666666666666,
              "#ed7953"
             ],
             [
              0.7777777777777778,
              "#fb9f3a"
             ],
             [
              0.8888888888888888,
              "#fdca26"
             ],
             [
              1,
              "#f0f921"
             ]
            ],
            "type": "histogram2dcontour"
           }
          ],
          "mesh3d": [
           {
            "colorbar": {
             "outlinewidth": 0,
             "ticks": ""
            },
            "type": "mesh3d"
           }
          ],
          "parcoords": [
           {
            "line": {
             "colorbar": {
              "outlinewidth": 0,
              "ticks": ""
             }
            },
            "type": "parcoords"
           }
          ],
          "pie": [
           {
            "automargin": true,
            "type": "pie"
           }
          ],
          "scatter": [
           {
            "fillpattern": {
             "fillmode": "overlay",
             "size": 10,
             "solidity": 0.2
            },
            "type": "scatter"
           }
          ],
          "scatter3d": [
           {
            "line": {
             "colorbar": {
              "outlinewidth": 0,
              "ticks": ""
             }
            },
            "marker": {
             "colorbar": {
              "outlinewidth": 0,
              "ticks": ""
             }
            },
            "type": "scatter3d"
           }
          ],
          "scattercarpet": [
           {
            "marker": {
             "colorbar": {
              "outlinewidth": 0,
              "ticks": ""
             }
            },
            "type": "scattercarpet"
           }
          ],
          "scattergeo": [
           {
            "marker": {
             "colorbar": {
              "outlinewidth": 0,
              "ticks": ""
             }
            },
            "type": "scattergeo"
           }
          ],
          "scattergl": [
           {
            "marker": {
             "colorbar": {
              "outlinewidth": 0,
              "ticks": ""
             }
            },
            "type": "scattergl"
           }
          ],
          "scattermap": [
           {
            "marker": {
             "colorbar": {
              "outlinewidth": 0,
              "ticks": ""
             }
            },
            "type": "scattermap"
           }
          ],
          "scattermapbox": [
           {
            "marker": {
             "colorbar": {
              "outlinewidth": 0,
              "ticks": ""
             }
            },
            "type": "scattermapbox"
           }
          ],
          "scatterpolar": [
           {
            "marker": {
             "colorbar": {
              "outlinewidth": 0,
              "ticks": ""
             }
            },
            "type": "scatterpolar"
           }
          ],
          "scatterpolargl": [
           {
            "marker": {
             "colorbar": {
              "outlinewidth": 0,
              "ticks": ""
             }
            },
            "type": "scatterpolargl"
           }
          ],
          "scatterternary": [
           {
            "marker": {
             "colorbar": {
              "outlinewidth": 0,
              "ticks": ""
             }
            },
            "type": "scatterternary"
           }
          ],
          "surface": [
           {
            "colorbar": {
             "outlinewidth": 0,
             "ticks": ""
            },
            "colorscale": [
             [
              0,
              "#0d0887"
             ],
             [
              0.1111111111111111,
              "#46039f"
             ],
             [
              0.2222222222222222,
              "#7201a8"
             ],
             [
              0.3333333333333333,
              "#9c179e"
             ],
             [
              0.4444444444444444,
              "#bd3786"
             ],
             [
              0.5555555555555556,
              "#d8576b"
             ],
             [
              0.6666666666666666,
              "#ed7953"
             ],
             [
              0.7777777777777778,
              "#fb9f3a"
             ],
             [
              0.8888888888888888,
              "#fdca26"
             ],
             [
              1,
              "#f0f921"
             ]
            ],
            "type": "surface"
           }
          ],
          "table": [
           {
            "cells": {
             "fill": {
              "color": "#EBF0F8"
             },
             "line": {
              "color": "white"
             }
            },
            "header": {
             "fill": {
              "color": "#C8D4E3"
             },
             "line": {
              "color": "white"
             }
            },
            "type": "table"
           }
          ]
         },
         "layout": {
          "annotationdefaults": {
           "arrowcolor": "#2a3f5f",
           "arrowhead": 0,
           "arrowwidth": 1
          },
          "autotypenumbers": "strict",
          "coloraxis": {
           "colorbar": {
            "outlinewidth": 0,
            "ticks": ""
           }
          },
          "colorscale": {
           "diverging": [
            [
             0,
             "#8e0152"
            ],
            [
             0.1,
             "#c51b7d"
            ],
            [
             0.2,
             "#de77ae"
            ],
            [
             0.3,
             "#f1b6da"
            ],
            [
             0.4,
             "#fde0ef"
            ],
            [
             0.5,
             "#f7f7f7"
            ],
            [
             0.6,
             "#e6f5d0"
            ],
            [
             0.7,
             "#b8e186"
            ],
            [
             0.8,
             "#7fbc41"
            ],
            [
             0.9,
             "#4d9221"
            ],
            [
             1,
             "#276419"
            ]
           ],
           "sequential": [
            [
             0,
             "#0d0887"
            ],
            [
             0.1111111111111111,
             "#46039f"
            ],
            [
             0.2222222222222222,
             "#7201a8"
            ],
            [
             0.3333333333333333,
             "#9c179e"
            ],
            [
             0.4444444444444444,
             "#bd3786"
            ],
            [
             0.5555555555555556,
             "#d8576b"
            ],
            [
             0.6666666666666666,
             "#ed7953"
            ],
            [
             0.7777777777777778,
             "#fb9f3a"
            ],
            [
             0.8888888888888888,
             "#fdca26"
            ],
            [
             1,
             "#f0f921"
            ]
           ],
           "sequentialminus": [
            [
             0,
             "#0d0887"
            ],
            [
             0.1111111111111111,
             "#46039f"
            ],
            [
             0.2222222222222222,
             "#7201a8"
            ],
            [
             0.3333333333333333,
             "#9c179e"
            ],
            [
             0.4444444444444444,
             "#bd3786"
            ],
            [
             0.5555555555555556,
             "#d8576b"
            ],
            [
             0.6666666666666666,
             "#ed7953"
            ],
            [
             0.7777777777777778,
             "#fb9f3a"
            ],
            [
             0.8888888888888888,
             "#fdca26"
            ],
            [
             1,
             "#f0f921"
            ]
           ]
          },
          "colorway": [
           "#636efa",
           "#EF553B",
           "#00cc96",
           "#ab63fa",
           "#FFA15A",
           "#19d3f3",
           "#FF6692",
           "#B6E880",
           "#FF97FF",
           "#FECB52"
          ],
          "font": {
           "color": "#2a3f5f"
          },
          "geo": {
           "bgcolor": "white",
           "lakecolor": "white",
           "landcolor": "#E5ECF6",
           "showlakes": true,
           "showland": true,
           "subunitcolor": "white"
          },
          "hoverlabel": {
           "align": "left"
          },
          "hovermode": "closest",
          "mapbox": {
           "style": "light"
          },
          "paper_bgcolor": "white",
          "plot_bgcolor": "#E5ECF6",
          "polar": {
           "angularaxis": {
            "gridcolor": "white",
            "linecolor": "white",
            "ticks": ""
           },
           "bgcolor": "#E5ECF6",
           "radialaxis": {
            "gridcolor": "white",
            "linecolor": "white",
            "ticks": ""
           }
          },
          "scene": {
           "xaxis": {
            "backgroundcolor": "#E5ECF6",
            "gridcolor": "white",
            "gridwidth": 2,
            "linecolor": "white",
            "showbackground": true,
            "ticks": "",
            "zerolinecolor": "white"
           },
           "yaxis": {
            "backgroundcolor": "#E5ECF6",
            "gridcolor": "white",
            "gridwidth": 2,
            "linecolor": "white",
            "showbackground": true,
            "ticks": "",
            "zerolinecolor": "white"
           },
           "zaxis": {
            "backgroundcolor": "#E5ECF6",
            "gridcolor": "white",
            "gridwidth": 2,
            "linecolor": "white",
            "showbackground": true,
            "ticks": "",
            "zerolinecolor": "white"
           }
          },
          "shapedefaults": {
           "line": {
            "color": "#2a3f5f"
           }
          },
          "ternary": {
           "aaxis": {
            "gridcolor": "white",
            "linecolor": "white",
            "ticks": ""
           },
           "baxis": {
            "gridcolor": "white",
            "linecolor": "white",
            "ticks": ""
           },
           "bgcolor": "#E5ECF6",
           "caxis": {
            "gridcolor": "white",
            "linecolor": "white",
            "ticks": ""
           }
          },
          "title": {
           "x": 0.05
          },
          "xaxis": {
           "automargin": true,
           "gridcolor": "white",
           "linecolor": "white",
           "ticks": "",
           "title": {
            "standoff": 15
           },
           "zerolinecolor": "white",
           "zerolinewidth": 2
          },
          "yaxis": {
           "automargin": true,
           "gridcolor": "white",
           "linecolor": "white",
           "ticks": "",
           "title": {
            "standoff": 15
           },
           "zerolinecolor": "white",
           "zerolinewidth": 2
          }
         }
        },
        "xaxis": {
         "anchor": "y",
         "domain": [
          0,
          1
         ],
         "title": {
          "text": "Total"
         }
        },
        "yaxis": {
         "anchor": "x",
         "domain": [
          0,
          1
         ],
         "showgrid": false,
         "showticklabels": false,
         "title": {
          "text": "y"
         }
        }
       }
      }
     },
     "metadata": {},
     "output_type": "display_data"
    },
    {
     "name": "stdout",
     "output_type": "stream",
     "text": [
      "num_crimes_municipios\n",
      "0    239\n",
      "1     52\n",
      "2     14\n",
      "3      2\n",
      "4      1\n",
      "Name: count, dtype: int64\n",
      "File saved to csv_files/4_Num_Total_crimes.csv\n"
     ]
    }
   ],
   "source": [
    "clustered_df = aplicar_kmeans(df_crimes_municipios, 5, nome_cluster='num_crimes_municipios')\n",
    "save_clustered_df_to_csv(clustered_df, \"csv_files/\", \"4_Num_Total_crimes.csv\")\n"
   ]
  },
  {
   "cell_type": "markdown",
   "id": "5c5b5fe8",
   "metadata": {},
   "source": [
    "### Análise da Taxa de Criminalidade"
   ]
  },
  {
   "cell_type": "code",
<<<<<<< HEAD
   "execution_count": 5,
=======
   "execution_count": 10,
>>>>>>> more_clusters
   "id": "42a6bba1",
   "metadata": {},
   "outputs": [
    {
     "data": {
      "text/plain": [
       "'save_clustered_df_to_csv(\\n    df_taxa_criminalidade_municipios.rename(columns={\\'Total\\': \\'Taxa_Criminalidade\\'}),\\n    \"csv_bruto/\",\\n    \"4_taxa_criminalidade.csv\"\\n)\\ndf_taxa_criminalidade_municipios\\n'"
      ]
     },
<<<<<<< HEAD
     "execution_count": 5,
=======
     "execution_count": 10,
>>>>>>> more_clusters
     "metadata": {},
     "output_type": "execute_result"
    }
   ],
   "source": [
    "df_taxa_criminalidade = processar_ficheiro(data_path+'Taxa de criminalidade.xls',4)\n",
    "df_taxa_criminalidade_municipios = carregar_municipios(df_taxa_criminalidade)\n",
    "df_taxa_criminalidade_municipios = df_taxa_criminalidade_municipios [['local','codigo','Total']]\n",
    "'''save_clustered_df_to_csv(\n",
    "    df_taxa_criminalidade_municipios.rename(columns={'Total': 'Taxa_Criminalidade'}),\n",
    "    \"csv_bruto/\",\n",
    "    \"4_taxa_criminalidade.csv\"\n",
    ")\n",
    "df_taxa_criminalidade_municipios\n",
    "'''"
   ]
  },
  {
   "cell_type": "code",
<<<<<<< HEAD
   "execution_count": 6,
=======
   "execution_count": 11,
>>>>>>> more_clusters
   "id": "2904556d",
   "metadata": {},
   "outputs": [
    {
     "data": {
      "application/vnd.plotly.v1+json": {
       "config": {
        "plotlyServerURL": "https://plot.ly"
       },
       "data": [
        {
         "customdata": [
          [
           "Arcos de Valdevez",
           "1111601",
           643
          ],
          [
           "Caminha",
           "1111602",
           591
          ],
          [
           "Melgaço",
           "1111603",
           317
          ],
          [
           "Monção",
           "1111604",
           329
          ],
          [
           "Paredes de Coura",
           "1111605",
           241
          ],
          [
           "Ponte da Barca",
           "1111606",
           325
          ],
          [
           "Ponte de Lima",
           "1111607",
           921
          ],
          [
           "Valença",
           "1111608",
           524
          ],
          [
           "Viana do Castelo",
           "1111609",
           2520
          ],
          [
           "Vila Nova de Cerveira",
           "1111610",
           330
          ],
          [
           "Amares",
           "1120301",
           355
          ],
          [
           "Barcelos",
           "1120302",
           1906
          ],
          [
           "Braga",
           "1120303",
           4675
          ],
          [
           "Esposende",
           "1120306",
           1012
          ],
          [
           "Terras de Bouro",
           "1120310",
           206
          ],
          [
           "Vila Verde",
           "1120313",
           1308
          ],
          [
           "Cabeceiras de Basto",
           "1190304",
           348
          ],
          [
           "Fafe",
           "1190307",
           1281
          ],
          [
           "Guimarães",
           "1190308",
           3032
          ],
          [
           "Mondim de Basto",
           "1191705",
           152
          ],
          [
           "Póvoa de Lanhoso",
           "1190309",
           578
          ],
          [
           "Vieira do Minho",
           "1190311",
           266
          ],
          [
           "Vila Nova de Famalicão",
           "1190312",
           2757
          ],
          [
           "Vizela",
           "1190314",
           411
          ],
          [
           "Arouca",
           "11A0104",
           304
          ],
          [
           "Espinho",
           "11A0107",
           1069
          ],
          [
           "Gondomar",
           "11A1304",
           3256
          ],
          [
           "Maia",
           "11A1306",
           4048
          ],
          [
           "Matosinhos",
           "11A1308",
           5202
          ],
          [
           "Oliveira de Azeméis",
           "11A0113",
           1234
          ],
          [
           "Paredes",
           "11A1310",
           1956
          ],
          [
           "Porto",
           "11A1312",
           15310
          ],
          [
           "Póvoa de Varzim",
           "11A1313",
           1504
          ],
          [
           "Santa Maria da Feira",
           "11A0109",
           2970
          ],
          [
           "Santo Tirso",
           "11A1314",
           1444
          ],
          [
           "São João da Madeira",
           "11A0116",
           657
          ],
          [
           "Trofa",
           "11A1318",
           719
          ],
          [
           "Vale de Cambra",
           "11A0119",
           611
          ],
          [
           "Valongo",
           "11A1315",
           2159
          ],
          [
           "Vila do Conde",
           "11A1316",
           2229
          ],
          [
           "Vila Nova de Gaia",
           "11A1317",
           8217
          ],
          [
           "Boticas",
           "11B1702",
           113
          ],
          [
           "Chaves",
           "11B1703",
           1113
          ],
          [
           "Montalegre",
           "11B1706",
           254
          ],
          [
           "Ribeira de Pena",
           "11B1709",
           151
          ],
          [
           "Valpaços",
           "11B1712",
           449
          ],
          [
           "Vila Pouca de Aguiar",
           "11B1713",
           251
          ],
          [
           "Amarante",
           "11C1301",
           1034
          ],
          [
           "Baião",
           "11C1302",
           421
          ],
          [
           "Castelo de Paiva",
           "11C0106",
           269
          ],
          [
           "Celorico de Basto",
           "11C0305",
           328
          ],
          [
           "Cinfães",
           "11C1804",
           337
          ],
          [
           "Felgueiras",
           "11C1303",
           1424
          ],
          [
           "Lousada",
           "11C1305",
           962
          ],
          [
           "Marco de Canaveses",
           "11C1307",
           1173
          ],
          [
           "Paços de Ferreira",
           "11C1309",
           1255
          ],
          [
           "Penafiel",
           "11C1311",
           1606
          ],
          [
           "Resende",
           "11C1813",
           213
          ],
          [
           "Alijó",
           "11D1701",
           229
          ],
          [
           "Armamar",
           "11D1801",
           117
          ],
          [
           "Carrazeda de Ansiães",
           "11D0403",
           116
          ],
          [
           "Freixo de Espada à Cinta",
           "11D0404",
           126
          ],
          [
           "Lamego",
           "11D1805",
           522
          ],
          [
           "Mesão Frio",
           "11D1704",
           96
          ],
          [
           "Moimenta da Beira",
           "11D1807",
           294
          ],
          [
           "Murça",
           "11D1707",
           112
          ],
          [
           "Penedono",
           "11D1812",
           45
          ],
          [
           "Peso da Régua",
           "11D1708",
           308
          ],
          [
           "Sabrosa",
           "11D1710",
           102
          ],
          [
           "Santa Marta de Penaguião",
           "11D1711",
           95
          ],
          [
           "São João da Pesqueira",
           "11D1815",
           143
          ],
          [
           "Sernancelhe",
           "11D1818",
           81
          ],
          [
           "Tabuaço",
           "11D1819",
           89
          ],
          [
           "Tarouca",
           "11D1820",
           127
          ],
          [
           "Torre de Moncorvo",
           "11D0409",
           230
          ],
          [
           "Vila Nova de Foz Côa",
           "11D0914",
           239
          ],
          [
           "Vila Real",
           "11D1714",
           1205
          ],
          [
           "Alfândega da Fé",
           "11E0401",
           110
          ],
          [
           "Bragança",
           "11E0402",
           1012
          ],
          [
           "Macedo de Cavaleiros",
           "11E0405",
           364
          ],
          [
           "Miranda do Douro",
           "11E0406",
           187
          ],
          [
           "Mirandela",
           "11E0407",
           593
          ],
          [
           "Mogadouro",
           "11E0408",
           118
          ],
          [
           "Vila Flor",
           "11E0410",
           153
          ],
          [
           "Vimioso",
           "11E0411",
           108
          ],
          [
           "Vinhais",
           "11E0412",
           141
          ],
          [
           "Águeda",
           "1910101",
           1420
          ],
          [
           "Albergaria-a-Velha",
           "1910102",
           830
          ],
          [
           "Anadia",
           "1910103",
           648
          ],
          [
           "Aveiro",
           "1910105",
           2786
          ],
          [
           "Estarreja",
           "1910108",
           855
          ],
          [
           "Ílhavo",
           "1910110",
           1466
          ],
          [
           "Murtosa",
           "1910112",
           355
          ],
          [
           "Oliveira do Bairro",
           "1910114",
           889
          ],
          [
           "Ovar",
           "1910115",
           1561
          ],
          [
           "Sever do Vouga",
           "1910117",
           271
          ],
          [
           "Vagos",
           "1910118",
           554
          ],
          [
           "Arganil",
           "1920601",
           244
          ],
          [
           "Cantanhede",
           "1920602",
           1094
          ],
          [
           "Coimbra",
           "1920603",
           4003
          ],
          [
           "Condeixa-a-Nova",
           "1920604",
           211
          ],
          [
           "Figueira da Foz",
           "1920605",
           1579
          ],
          [
           "Góis",
           "1920606",
           96
          ],
          [
           "Lousã",
           "1920607",
           303
          ],
          [
           "Mealhada",
           "1920111",
           500
          ],
          [
           "Mira",
           "1920608",
           326
          ],
          [
           "Miranda do Corvo",
           "1920609",
           205
          ],
          [
           "Montemor-o-Velho",
           "1920610",
           425
          ],
          [
           "Mortágua",
           "1921808",
           210
          ],
          [
           "Oliveira do Hospital",
           "1920611",
           379
          ],
          [
           "Pampilhosa da Serra",
           "1920612",
           75
          ],
          [
           "Penacova",
           "1920613",
           241
          ],
          [
           "Penela",
           "1920614",
           125
          ],
          [
           "Soure",
           "1920615",
           250
          ],
          [
           "Tábua",
           "1920616",
           253
          ],
          [
           "Vila Nova de Poiares",
           "1920617",
           141
          ],
          [
           "Alvaiázere",
           "1931002",
           148
          ],
          [
           "Ansião",
           "1931003",
           230
          ],
          [
           "Batalha",
           "1931004",
           457
          ],
          [
           "Castanheira de Pêra",
           "1931007",
           100
          ],
          [
           "Figueiró dos Vinhos",
           "1931008",
           109
          ],
          [
           "Leiria",
           "1931009",
           3584
          ],
          [
           "Marinha Grande",
           "1931010",
           1258
          ],
          [
           "Pedrógão Grande",
           "1931013",
           78
          ],
          [
           "Pombal",
           "1931015",
           1164
          ],
          [
           "Porto de Mós",
           "1931016",
           690
          ],
          [
           "Aguiar da Beira",
           "1940901",
           140
          ],
          [
           "Carregal do Sal",
           "1941802",
           242
          ],
          [
           "Castro Daire",
           "1941803",
           250
          ],
          [
           "Mangualde",
           "1941806",
           586
          ],
          [
           "Nelas",
           "1941809",
           333
          ],
          [
           "Oliveira de Frades",
           "1941810",
           267
          ],
          [
           "Penalva do Castelo",
           "1941811",
           132
          ],
          [
           "Santa Comba Dão",
           "1941814",
           307
          ],
          [
           "São Pedro do Sul",
           "1941816",
           320
          ],
          [
           "Sátão",
           "1941817",
           169
          ],
          [
           "Tondela",
           "1941821",
           578
          ],
          [
           "Vila Nova de Paiva",
           "1941822",
           79
          ],
          [
           "Viseu",
           "1941823",
           2671
          ],
          [
           "Vouzela",
           "1941824",
           234
          ],
          [
           "Castelo Branco",
           "1950502",
           1750
          ],
          [
           "Idanha-a-Nova",
           "1950505",
           424
          ],
          [
           "Oleiros",
           "1950506",
           144
          ],
          [
           "Penamacor",
           "1950507",
           202
          ],
          [
           "Proença-a-Nova",
           "1950508",
           216
          ],
          [
           "Sertã",
           "1950509",
           490
          ],
          [
           "Vila de Rei",
           "1950510",
           62
          ],
          [
           "Vila Velha de Ródão",
           "1950511",
           119
          ],
          [
           "Almeida",
           "1960902",
           280
          ],
          [
           "Belmonte",
           "1960501",
           269
          ],
          [
           "Celorico da Beira",
           "1960903",
           171
          ],
          [
           "Covilhã",
           "1960503",
           1534
          ],
          [
           "Figueira de Castelo Rodrigo",
           "1960904",
           211
          ],
          [
           "Fornos de Algodres",
           "1960905",
           121
          ],
          [
           "Fundão",
           "1960504",
           1159
          ],
          [
           "Gouveia",
           "1960906",
           299
          ],
          [
           "Guarda",
           "1960907",
           988
          ],
          [
           "Manteigas",
           "1960908",
           84
          ],
          [
           "Mêda",
           "1960909",
           113
          ],
          [
           "Pinhel",
           "1960910",
           199
          ],
          [
           "Sabugal",
           "1960911",
           301
          ],
          [
           "Seia",
           "1960912",
           774
          ],
          [
           "Trancoso",
           "1960913",
           173
          ],
          [
           "Alcobaça",
           "1D11001",
           1402
          ],
          [
           "Alenquer",
           "1D11101",
           1314
          ],
          [
           "Arruda dos Vinhos",
           "1D11102",
           402
          ],
          [
           "Bombarral",
           "1D11005",
           348
          ],
          [
           "Cadaval",
           "1D11104",
           332
          ],
          [
           "Caldas da Rainha",
           "1D11006",
           1339
          ],
          [
           "Lourinhã",
           "1D11108",
           793
          ],
          [
           "Nazaré",
           "1D11011",
           604
          ],
          [
           "Óbidos",
           "1D11012",
           365
          ],
          [
           "Peniche",
           "1D11014",
           1045
          ],
          [
           "Sobral de Monte Agraço",
           "1D11112",
           403
          ],
          [
           "Torres Vedras",
           "1D11113",
           2300
          ],
          [
           "Abrantes",
           "1D21401",
           840
          ],
          [
           "Alcanena",
           "1D21402",
           358
          ],
          [
           "Constância",
           "1D21408",
           89
          ],
          [
           "Entroncamento",
           "1D21410",
           912
          ],
          [
           "Ferreira do Zêzere",
           "1D21411",
           188
          ],
          [
           "Mação",
           "1D21413",
           215
          ],
          [
           "Ourém",
           "1D21421",
           1252
          ],
          [
           "Sardoal",
           "1D21417",
           107
          ],
          [
           "Tomar",
           "1D21418",
           1143
          ],
          [
           "Torres Novas",
           "1D21419",
           1036
          ],
          [
           "Vila Nova da Barquinha",
           "1D21420",
           215
          ],
          [
           "Almeirim",
           "1D31403",
           895
          ],
          [
           "Alpiarça",
           "1D31404",
           340
          ],
          [
           "Azambuja",
           "1D31103",
           983
          ],
          [
           "Benavente",
           "1D31405",
           1072
          ],
          [
           "Cartaxo",
           "1D31406",
           694
          ],
          [
           "Chamusca",
           "1D31407",
           249
          ],
          [
           "Coruche",
           "1D31409",
           633
          ],
          [
           "Golegã",
           "1D31412",
           186
          ],
          [
           "Rio Maior",
           "1D31414",
           861
          ],
          [
           "Salvaterra de Magos",
           "1D31415",
           788
          ],
          [
           "Santarém",
           "1D31416",
           1666
          ],
          [
           "Amadora",
           "1A01115",
           5241
          ],
          [
           "Cascais",
           "1A01105",
           6281
          ],
          [
           "Lisboa",
           "1A01106",
           30853
          ],
          [
           "Loures",
           "1A01107",
           6210
          ],
          [
           "Mafra",
           "1A01109",
           2340
          ],
          [
           "Odivelas",
           "1A01116",
           2803
          ],
          [
           "Oeiras",
           "1A01110",
           4729
          ],
          [
           "Sintra",
           "1A01111",
           11383
          ],
          [
           "Vila Franca de Xira",
           "1A01114",
           3321
          ],
          [
           "Alcochete",
           "1B01502",
           606
          ],
          [
           "Almada",
           "1B01503",
           7439
          ],
          [
           "Barreiro",
           "1B01504",
           3286
          ],
          [
           "Moita",
           "1B01506",
           2403
          ],
          [
           "Montijo",
           "1B01507",
           2324
          ],
          [
           "Palmela",
           "1B01508",
           2493
          ],
          [
           "Seixal",
           "1B01510",
           4548
          ],
          [
           "Sesimbra",
           "1B01511",
           2092
          ],
          [
           "Setúbal",
           "1B01512",
           4226
          ],
          [
           "Alcácer do Sal",
           "1C11501",
           615
          ],
          [
           "Grândola",
           "1C11505",
           714
          ],
          [
           "Odemira",
           "1C10211",
           850
          ],
          [
           "Santiago do Cacém",
           "1C11509",
           1001
          ],
          [
           "Sines",
           "1C11513",
           886
          ],
          [
           "Aljustrel",
           "1C20201",
           307
          ],
          [
           "Almodôvar",
           "1C20202",
           196
          ],
          [
           "Alvito",
           "1C20203",
           107
          ],
          [
           "Barrancos",
           "1C20204",
           71
          ],
          [
           "Beja",
           "1C20205",
           1542
          ],
          [
           "Castro Verde",
           "1C20206",
           226
          ],
          [
           "Cuba",
           "1C20207",
           225
          ],
          [
           "Ferreira do Alentejo",
           "1C20208",
           387
          ],
          [
           "Mértola",
           "1C20209",
           137
          ],
          [
           "Moura",
           "1C20210",
           421
          ],
          [
           "Ourique",
           "1C20212",
           148
          ],
          [
           "Serpa",
           "1C20213",
           422
          ],
          [
           "Vidigueira",
           "1C20214",
           190
          ],
          [
           "Alter do Chão",
           "1C31201",
           112
          ],
          [
           "Arronches",
           "1C31202",
           65
          ],
          [
           "Avis",
           "1C31203",
           280
          ],
          [
           "Campo Maior",
           "1C31204",
           392
          ],
          [
           "Castelo de Vide",
           "1C31205",
           118
          ],
          [
           "Crato",
           "1C31206",
           103
          ],
          [
           "Elvas",
           "1C31207",
           881
          ],
          [
           "Fronteira",
           "1C31208",
           69
          ],
          [
           "Gavião",
           "1C31209",
           105
          ],
          [
           "Marvão",
           "1C31210",
           62
          ],
          [
           "Monforte",
           "1C31211",
           65
          ],
          [
           "Nisa",
           "1C31212",
           165
          ],
          [
           "Ponte de Sor",
           "1C31213",
           604
          ],
          [
           "Portalegre",
           "1C31214",
           663
          ],
          [
           "Sousel",
           "1C31215",
           134
          ],
          [
           "Alandroal",
           "1C40701",
           91
          ],
          [
           "Arraiolos",
           "1C40702",
           158
          ],
          [
           "Borba",
           "1C40703",
           211
          ],
          [
           "Estremoz",
           "1C40704",
           405
          ],
          [
           "Évora",
           "1C40705",
           1441
          ],
          [
           "Montemor-o-Novo",
           "1C40706",
           536
          ],
          [
           "Mora",
           "1C40707",
           118
          ],
          [
           "Mourão",
           "1C40708",
           157
          ],
          [
           "Portel",
           "1C40709",
           179
          ],
          [
           "Redondo",
           "1C40710",
           174
          ],
          [
           "Reguengos de Monsaraz",
           "1C40711",
           378
          ],
          [
           "Vendas Novas",
           "1C40712",
           334
          ],
          [
           "Viana do Alentejo",
           "1C40713",
           200
          ],
          [
           "Vila Viçosa",
           "1C40714",
           192
          ],
          [
           "Albufeira",
           "1500801",
           3819
          ],
          [
           "Alcoutim",
           "1500802",
           99
          ],
          [
           "Aljezur",
           "1500803",
           354
          ],
          [
           "Castro Marim",
           "1500804",
           309
          ],
          [
           "Faro",
           "1500805",
           3500
          ],
          [
           "Lagoa",
           "1500806",
           1126
          ],
          [
           "Lagos",
           "1500807",
           1490
          ],
          [
           "Loulé",
           "1500808",
           4650
          ],
          [
           "Monchique",
           "1500809",
           178
          ],
          [
           "Olhão",
           "1500810",
           2082
          ],
          [
           "Portimão",
           "1500811",
           3099
          ],
          [
           "São Brás de Alportel",
           "1500812",
           435
          ],
          [
           "Silves",
           "1500813",
           1753
          ],
          [
           "Tavira",
           "1500814",
           1314
          ],
          [
           "Vila do Bispo",
           "1500815",
           356
          ],
          [
           "Vila Real de Santo António",
           "1500816",
           939
          ],
          [
           "Angra do Heroísmo",
           "2004301",
           1180
          ],
          [
           "Calheta (R.A.A.)",
           "2004501",
           74
          ],
          [
           "Corvo",
           "2004901",
           3
          ],
          [
           "Horta",
           "2004701",
           448
          ],
          [
           "Lagoa (R.A.A.)",
           "2004201",
           670
          ],
          [
           "Lajes das Flores",
           "2004801",
           21
          ],
          [
           "Lajes do Pico",
           "2004601",
           51
          ],
          [
           "Madalena",
           "2004602",
           232
          ],
          [
           "Nordeste",
           "2004202",
           120
          ],
          [
           "Ponta Delgada",
           "2004203",
           3335
          ],
          [
           "Povoação",
           "2004204",
           165
          ],
          [
           "Ribeira Grande",
           "2004205",
           1868
          ],
          [
           "Santa Cruz da Graciosa",
           "2004401",
           128
          ],
          [
           "Santa Cruz das Flores",
           "2004802",
           77
          ],
          [
           "São Roque do Pico",
           "2004603",
           85
          ],
          [
           "Velas",
           "2004502",
           118
          ],
          [
           "Vila da Praia da Vitória",
           "2004302",
           592
          ],
          [
           "Vila do Porto",
           "2004101",
           134
          ],
          [
           "Vila Franca do Campo",
           "2004206",
           263
          ],
          [
           "Calheta (R.A.M.)",
           "3003101",
           147
          ],
          [
           "Câmara de Lobos",
           "3003102",
           963
          ],
          [
           "Funchal",
           "3003103",
           3551
          ],
          [
           "Machico",
           "3003104",
           475
          ],
          [
           "Ponta do Sol",
           "3003105",
           114
          ],
          [
           "Porto Moniz",
           "3003106",
           72
          ],
          [
           "Ribeira Brava",
           "3003107",
           260
          ],
          [
           "Santa Cruz",
           "3003108",
           774
          ],
          [
           "Santana",
           "3003109",
           107
          ],
          [
           "São Vicente",
           "3003110",
           88
          ],
          [
           "Porto Santo",
           "3003201",
           239
          ]
         ],
         "hovertemplate": "valor=%{x}<br>y=%{y}<br>local=%{customdata[0]}<br>codigo=%{customdata[1]}<br>Total=%{customdata[2]}<br>taxa_criminalidade=%{marker.color}<extra></extra>",
         "legendgroup": "",
         "marker": {
          "color": {
           "bdata": "AAAAAAAAAAABAAABAQAAAQABAQAAAAEAAAABAQEBAQIBAQEAAAABAQEAAAAAAAAAAAAAAAEAAAEBAAAAAAAAAAAAAAAAAAAAAAAAAAAAAAAAAAAAAAABAAABAAEAAAEAAAAAAQABAAAAAAAAAAAAAAAAAAAAAAAAAAEBAAAAAAAAAAAAAAAAAAAAAQABAAAAAAAAAAAAAAEAAAAAAAAAAAAAAAEBAAAAAQAAAAAAAQAAAAAAAAEAAAAAAAAAAAAAAAAAAAEBAQIBAQEBAgEAAQEBAQEBAQEAAAAAAAAAAAABAAAAAAAAAAAAAAAAAAAAAAAAAAAAAAAAAAAAAQAAAAAAAAAAAAEAAAABAAEBAAEBAAEBAAAAAAAAAAAAAAABAAEAAAAAAAAAAAABAAAAAAAAAAA=",
           "dtype": "i1"
          },
          "coloraxis": "coloraxis",
          "size": 10,
          "symbol": "circle"
         },
         "mode": "markers",
         "name": "",
         "orientation": "v",
         "showlegend": false,
         "type": "scatter",
         "x": {
          "bdata": "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",
          "dtype": "f8"
         },
         "xaxis": "x",
         "y": {
          "bdata": "AAAAAAAAAAAAAAAAAAAAAAAAAAAAAAAAAAAAAAAAAAAAAAAAAAAAAAAAAAAAAAAAAAAAAAAAAAAAAAAAAAAAAAAAAAAAAAAAAAAAAAAAAAAAAAAAAAAAAAAAAAAAAAAAAAAAAAAAAAAAAAAAAAAAAAAAAAAAAAAAAAAAAAAAAAAAAAAAAAAAAAAAAAAAAAAAAAAAAAAAAAAAAAAAAAAAAAAAAAAAAAAAAAAAAAAAAAAAAAAAAAAAAAAAAAAAAAAAAAAAAAAAAAAAAAAAAAAAAAAAAAAAAAAAAAAAAAAAAAAAAAAAAAAAAAAAAAAAAAAAAAAAAAAAAAAAAAAAAAAAAAAAAAAAAAAAAAAAAAAAAAAAAAAAAAAAAAAAAAAAAAAAAAAAAAAAAAAAAAAAAAAAAAAAAAA=",
          "dtype": "i1"
         },
         "yaxis": "y"
        }
       ],
       "layout": {
        "coloraxis": {
         "colorbar": {
          "title": {
           "text": "taxa_criminalidade"
          }
         },
         "colorscale": [
          [
           0,
           "#440154"
          ],
          [
           0.1111111111111111,
           "#482878"
          ],
          [
           0.2222222222222222,
           "#3e4989"
          ],
          [
           0.3333333333333333,
           "#31688e"
          ],
          [
           0.4444444444444444,
           "#26828e"
          ],
          [
           0.5555555555555556,
           "#1f9e89"
          ],
          [
           0.6666666666666666,
           "#35b779"
          ],
          [
           0.7777777777777778,
           "#6ece58"
          ],
          [
           0.8888888888888888,
           "#b5de2b"
          ],
          [
           1,
           "#fde725"
          ]
         ]
        },
        "height": 300,
        "legend": {
         "tracegroupgap": 0
        },
        "margin": {
         "t": 60
        },
        "template": {
         "data": {
          "bar": [
           {
            "error_x": {
             "color": "#2a3f5f"
            },
            "error_y": {
             "color": "#2a3f5f"
            },
            "marker": {
             "line": {
              "color": "#E5ECF6",
              "width": 0.5
             },
             "pattern": {
              "fillmode": "overlay",
              "size": 10,
              "solidity": 0.2
             }
            },
            "type": "bar"
           }
          ],
          "barpolar": [
           {
            "marker": {
             "line": {
              "color": "#E5ECF6",
              "width": 0.5
             },
             "pattern": {
              "fillmode": "overlay",
              "size": 10,
              "solidity": 0.2
             }
            },
            "type": "barpolar"
           }
          ],
          "carpet": [
           {
            "aaxis": {
             "endlinecolor": "#2a3f5f",
             "gridcolor": "white",
             "linecolor": "white",
             "minorgridcolor": "white",
             "startlinecolor": "#2a3f5f"
            },
            "baxis": {
             "endlinecolor": "#2a3f5f",
             "gridcolor": "white",
             "linecolor": "white",
             "minorgridcolor": "white",
             "startlinecolor": "#2a3f5f"
            },
            "type": "carpet"
           }
          ],
          "choropleth": [
           {
            "colorbar": {
             "outlinewidth": 0,
             "ticks": ""
            },
            "type": "choropleth"
           }
          ],
          "contour": [
           {
            "colorbar": {
             "outlinewidth": 0,
             "ticks": ""
            },
            "colorscale": [
             [
              0,
              "#0d0887"
             ],
             [
              0.1111111111111111,
              "#46039f"
             ],
             [
              0.2222222222222222,
              "#7201a8"
             ],
             [
              0.3333333333333333,
              "#9c179e"
             ],
             [
              0.4444444444444444,
              "#bd3786"
             ],
             [
              0.5555555555555556,
              "#d8576b"
             ],
             [
              0.6666666666666666,
              "#ed7953"
             ],
             [
              0.7777777777777778,
              "#fb9f3a"
             ],
             [
              0.8888888888888888,
              "#fdca26"
             ],
             [
              1,
              "#f0f921"
             ]
            ],
            "type": "contour"
           }
          ],
          "contourcarpet": [
           {
            "colorbar": {
             "outlinewidth": 0,
             "ticks": ""
            },
            "type": "contourcarpet"
           }
          ],
          "heatmap": [
           {
            "colorbar": {
             "outlinewidth": 0,
             "ticks": ""
            },
            "colorscale": [
             [
              0,
              "#0d0887"
             ],
             [
              0.1111111111111111,
              "#46039f"
             ],
             [
              0.2222222222222222,
              "#7201a8"
             ],
             [
              0.3333333333333333,
              "#9c179e"
             ],
             [
              0.4444444444444444,
              "#bd3786"
             ],
             [
              0.5555555555555556,
              "#d8576b"
             ],
             [
              0.6666666666666666,
              "#ed7953"
             ],
             [
              0.7777777777777778,
              "#fb9f3a"
             ],
             [
              0.8888888888888888,
              "#fdca26"
             ],
             [
              1,
              "#f0f921"
             ]
            ],
            "type": "heatmap"
           }
          ],
          "histogram": [
           {
            "marker": {
             "pattern": {
              "fillmode": "overlay",
              "size": 10,
              "solidity": 0.2
             }
            },
            "type": "histogram"
           }
          ],
          "histogram2d": [
           {
            "colorbar": {
             "outlinewidth": 0,
             "ticks": ""
            },
            "colorscale": [
             [
              0,
              "#0d0887"
             ],
             [
              0.1111111111111111,
              "#46039f"
             ],
             [
              0.2222222222222222,
              "#7201a8"
             ],
             [
              0.3333333333333333,
              "#9c179e"
             ],
             [
              0.4444444444444444,
              "#bd3786"
             ],
             [
              0.5555555555555556,
              "#d8576b"
             ],
             [
              0.6666666666666666,
              "#ed7953"
             ],
             [
              0.7777777777777778,
              "#fb9f3a"
             ],
             [
              0.8888888888888888,
              "#fdca26"
             ],
             [
              1,
              "#f0f921"
             ]
            ],
            "type": "histogram2d"
           }
          ],
          "histogram2dcontour": [
           {
            "colorbar": {
             "outlinewidth": 0,
             "ticks": ""
            },
            "colorscale": [
             [
              0,
              "#0d0887"
             ],
             [
              0.1111111111111111,
              "#46039f"
             ],
             [
              0.2222222222222222,
              "#7201a8"
             ],
             [
              0.3333333333333333,
              "#9c179e"
             ],
             [
              0.4444444444444444,
              "#bd3786"
             ],
             [
              0.5555555555555556,
              "#d8576b"
             ],
             [
              0.6666666666666666,
              "#ed7953"
             ],
             [
              0.7777777777777778,
              "#fb9f3a"
             ],
             [
              0.8888888888888888,
              "#fdca26"
             ],
             [
              1,
              "#f0f921"
             ]
            ],
            "type": "histogram2dcontour"
           }
          ],
          "mesh3d": [
           {
            "colorbar": {
             "outlinewidth": 0,
             "ticks": ""
            },
            "type": "mesh3d"
           }
          ],
          "parcoords": [
           {
            "line": {
             "colorbar": {
              "outlinewidth": 0,
              "ticks": ""
             }
            },
            "type": "parcoords"
           }
          ],
          "pie": [
           {
            "automargin": true,
            "type": "pie"
           }
          ],
          "scatter": [
           {
            "fillpattern": {
             "fillmode": "overlay",
             "size": 10,
             "solidity": 0.2
            },
            "type": "scatter"
           }
          ],
          "scatter3d": [
           {
            "line": {
             "colorbar": {
              "outlinewidth": 0,
              "ticks": ""
             }
            },
            "marker": {
             "colorbar": {
              "outlinewidth": 0,
              "ticks": ""
             }
            },
            "type": "scatter3d"
           }
          ],
          "scattercarpet": [
           {
            "marker": {
             "colorbar": {
              "outlinewidth": 0,
              "ticks": ""
             }
            },
            "type": "scattercarpet"
           }
          ],
          "scattergeo": [
           {
            "marker": {
             "colorbar": {
              "outlinewidth": 0,
              "ticks": ""
             }
            },
            "type": "scattergeo"
           }
          ],
          "scattergl": [
           {
            "marker": {
             "colorbar": {
              "outlinewidth": 0,
              "ticks": ""
             }
            },
            "type": "scattergl"
           }
          ],
          "scattermap": [
           {
            "marker": {
             "colorbar": {
              "outlinewidth": 0,
              "ticks": ""
             }
            },
            "type": "scattermap"
           }
          ],
          "scattermapbox": [
           {
            "marker": {
             "colorbar": {
              "outlinewidth": 0,
              "ticks": ""
             }
            },
            "type": "scattermapbox"
           }
          ],
          "scatterpolar": [
           {
            "marker": {
             "colorbar": {
              "outlinewidth": 0,
              "ticks": ""
             }
            },
            "type": "scatterpolar"
           }
          ],
          "scatterpolargl": [
           {
            "marker": {
             "colorbar": {
              "outlinewidth": 0,
              "ticks": ""
             }
            },
            "type": "scatterpolargl"
           }
          ],
          "scatterternary": [
           {
            "marker": {
             "colorbar": {
              "outlinewidth": 0,
              "ticks": ""
             }
            },
            "type": "scatterternary"
           }
          ],
          "surface": [
           {
            "colorbar": {
             "outlinewidth": 0,
             "ticks": ""
            },
            "colorscale": [
             [
              0,
              "#0d0887"
             ],
             [
              0.1111111111111111,
              "#46039f"
             ],
             [
              0.2222222222222222,
              "#7201a8"
             ],
             [
              0.3333333333333333,
              "#9c179e"
             ],
             [
              0.4444444444444444,
              "#bd3786"
             ],
             [
              0.5555555555555556,
              "#d8576b"
             ],
             [
              0.6666666666666666,
              "#ed7953"
             ],
             [
              0.7777777777777778,
              "#fb9f3a"
             ],
             [
              0.8888888888888888,
              "#fdca26"
             ],
             [
              1,
              "#f0f921"
             ]
            ],
            "type": "surface"
           }
          ],
          "table": [
           {
            "cells": {
             "fill": {
              "color": "#EBF0F8"
             },
             "line": {
              "color": "white"
             }
            },
            "header": {
             "fill": {
              "color": "#C8D4E3"
             },
             "line": {
              "color": "white"
             }
            },
            "type": "table"
           }
          ]
         },
         "layout": {
          "annotationdefaults": {
           "arrowcolor": "#2a3f5f",
           "arrowhead": 0,
           "arrowwidth": 1
          },
          "autotypenumbers": "strict",
          "coloraxis": {
           "colorbar": {
            "outlinewidth": 0,
            "ticks": ""
           }
          },
          "colorscale": {
           "diverging": [
            [
             0,
             "#8e0152"
            ],
            [
             0.1,
             "#c51b7d"
            ],
            [
             0.2,
             "#de77ae"
            ],
            [
             0.3,
             "#f1b6da"
            ],
            [
             0.4,
             "#fde0ef"
            ],
            [
             0.5,
             "#f7f7f7"
            ],
            [
             0.6,
             "#e6f5d0"
            ],
            [
             0.7,
             "#b8e186"
            ],
            [
             0.8,
             "#7fbc41"
            ],
            [
             0.9,
             "#4d9221"
            ],
            [
             1,
             "#276419"
            ]
           ],
           "sequential": [
            [
             0,
             "#0d0887"
            ],
            [
             0.1111111111111111,
             "#46039f"
            ],
            [
             0.2222222222222222,
             "#7201a8"
            ],
            [
             0.3333333333333333,
             "#9c179e"
            ],
            [
             0.4444444444444444,
             "#bd3786"
            ],
            [
             0.5555555555555556,
             "#d8576b"
            ],
            [
             0.6666666666666666,
             "#ed7953"
            ],
            [
             0.7777777777777778,
             "#fb9f3a"
            ],
            [
             0.8888888888888888,
             "#fdca26"
            ],
            [
             1,
             "#f0f921"
            ]
           ],
           "sequentialminus": [
            [
             0,
             "#0d0887"
            ],
            [
             0.1111111111111111,
             "#46039f"
            ],
            [
             0.2222222222222222,
             "#7201a8"
            ],
            [
             0.3333333333333333,
             "#9c179e"
            ],
            [
             0.4444444444444444,
             "#bd3786"
            ],
            [
             0.5555555555555556,
             "#d8576b"
            ],
            [
             0.6666666666666666,
             "#ed7953"
            ],
            [
             0.7777777777777778,
             "#fb9f3a"
            ],
            [
             0.8888888888888888,
             "#fdca26"
            ],
            [
             1,
             "#f0f921"
            ]
           ]
          },
          "colorway": [
           "#636efa",
           "#EF553B",
           "#00cc96",
           "#ab63fa",
           "#FFA15A",
           "#19d3f3",
           "#FF6692",
           "#B6E880",
           "#FF97FF",
           "#FECB52"
          ],
          "font": {
           "color": "#2a3f5f"
          },
          "geo": {
           "bgcolor": "white",
           "lakecolor": "white",
           "landcolor": "#E5ECF6",
           "showlakes": true,
           "showland": true,
           "subunitcolor": "white"
          },
          "hoverlabel": {
           "align": "left"
          },
          "hovermode": "closest",
          "mapbox": {
           "style": "light"
          },
          "paper_bgcolor": "white",
          "plot_bgcolor": "#E5ECF6",
          "polar": {
           "angularaxis": {
            "gridcolor": "white",
            "linecolor": "white",
            "ticks": ""
           },
           "bgcolor": "#E5ECF6",
           "radialaxis": {
            "gridcolor": "white",
            "linecolor": "white",
            "ticks": ""
           }
          },
          "scene": {
           "xaxis": {
            "backgroundcolor": "#E5ECF6",
            "gridcolor": "white",
            "gridwidth": 2,
            "linecolor": "white",
            "showbackground": true,
            "ticks": "",
            "zerolinecolor": "white"
           },
           "yaxis": {
            "backgroundcolor": "#E5ECF6",
            "gridcolor": "white",
            "gridwidth": 2,
            "linecolor": "white",
            "showbackground": true,
            "ticks": "",
            "zerolinecolor": "white"
           },
           "zaxis": {
            "backgroundcolor": "#E5ECF6",
            "gridcolor": "white",
            "gridwidth": 2,
            "linecolor": "white",
            "showbackground": true,
            "ticks": "",
            "zerolinecolor": "white"
           }
          },
          "shapedefaults": {
           "line": {
            "color": "#2a3f5f"
           }
          },
          "ternary": {
           "aaxis": {
            "gridcolor": "white",
            "linecolor": "white",
            "ticks": ""
           },
           "baxis": {
            "gridcolor": "white",
            "linecolor": "white",
            "ticks": ""
           },
           "bgcolor": "#E5ECF6",
           "caxis": {
            "gridcolor": "white",
            "linecolor": "white",
            "ticks": ""
           }
          },
          "title": {
           "x": 0.05
          },
          "xaxis": {
           "automargin": true,
           "gridcolor": "white",
           "linecolor": "white",
           "ticks": "",
           "title": {
            "standoff": 15
           },
           "zerolinecolor": "white",
           "zerolinewidth": 2
          },
          "yaxis": {
           "automargin": true,
           "gridcolor": "white",
           "linecolor": "white",
           "ticks": "",
           "title": {
            "standoff": 15
           },
           "zerolinecolor": "white",
           "zerolinewidth": 2
          }
         }
        },
        "xaxis": {
         "anchor": "y",
         "domain": [
          0,
          1
         ],
         "title": {
          "text": "Total"
         }
        },
        "yaxis": {
         "anchor": "x",
         "domain": [
          0,
          1
         ],
         "showgrid": false,
         "showticklabels": false,
         "title": {
          "text": "y"
         }
        }
       }
      }
     },
     "metadata": {},
     "output_type": "display_data"
    },
    {
     "name": "stdout",
     "output_type": "stream",
     "text": [
      "taxa_criminalidade\n",
      "0    239\n",
      "1     66\n",
      "2      3\n",
      "Name: count, dtype: int64\n",
      "File saved to csv_files/4_taxa_criminalidade.csv\n"
     ]
    }
   ],
   "source": [
    "clustered_df = aplicar_kmeans(df_crimes_municipios, 3, nome_cluster='taxa_criminalidade')\n",
    "save_clustered_df_to_csv(clustered_df, \"csv_files/\", \"4_taxa_criminalidade.csv\")"
   ]
  }
 ],
 "metadata": {
  "kernelspec": {
<<<<<<< HEAD
   "display_name": "ade_venv",
=======
   "display_name": "base",
>>>>>>> more_clusters
   "language": "python",
   "name": "python3"
  },
  "language_info": {
   "codemirror_mode": {
    "name": "ipython",
    "version": 3
   },
   "file_extension": ".py",
   "mimetype": "text/x-python",
   "name": "python",
   "nbconvert_exporter": "python",
   "pygments_lexer": "ipython3",
<<<<<<< HEAD
   "version": "3.13.0"
=======
   "version": "3.11.5"
>>>>>>> more_clusters
  }
 },
 "nbformat": 4,
 "nbformat_minor": 5
}
