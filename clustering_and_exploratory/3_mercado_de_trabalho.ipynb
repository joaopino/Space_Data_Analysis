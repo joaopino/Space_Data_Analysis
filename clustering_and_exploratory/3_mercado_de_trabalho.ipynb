{
 "cells": [
  {
   "cell_type": "markdown",
   "id": "27b50d18",
   "metadata": {},
   "source": [
    "# Análise do Mercado de Trabalho\n",
    "\n",
    "Notas: Nos casos das anáises de ganho mensal por escolaridade, não foi feito o clustering visto que não era necessária essa análise."
   ]
  },
  {
   "cell_type": "markdown",
   "id": "327805dd",
   "metadata": {},
   "source": [
    "### Initial Setup"
   ]
  },
  {
   "cell_type": "code",
   "execution_count": 79,
   "id": "b6ecba96",
   "metadata": {},
   "outputs": [],
   "source": [
    "\n",
    "from auxiliary.auxiliary_funcs import processar_ficheiro,carregar_municipios,aplicar_kmeans,elbow_rule, save_clustered_df_to_csv,filter_for_only_municipalities\n",
    "data_path ='../data/dados_municipio/Mercado de trabalho (8)/'"
   ]
  },
  {
   "cell_type": "markdown",
   "id": "aac87fe1",
   "metadata": {},
   "source": [
    "## Clusterings and Analysis"
   ]
  },
  {
   "cell_type": "markdown",
   "id": "16aa5074",
   "metadata": {},
   "source": [
    "### Ganho Mensal"
   ]
  },
  {
   "cell_type": "code",
   "execution_count": 80,
   "id": "6e0c99cf",
   "metadata": {},
   "outputs": [
    {
     "data": {
      "text/html": [
       "<div>\n",
       "<style scoped>\n",
       "    .dataframe tbody tr th:only-of-type {\n",
       "        vertical-align: middle;\n",
       "    }\n",
       "\n",
       "    .dataframe tbody tr th {\n",
       "        vertical-align: top;\n",
       "    }\n",
       "\n",
       "    .dataframe thead th {\n",
       "        text-align: right;\n",
       "    }\n",
       "</style>\n",
       "<table border=\"1\" class=\"dataframe\">\n",
       "  <thead>\n",
       "    <tr style=\"text-align: right;\">\n",
       "      <th></th>\n",
       "      <th>local</th>\n",
       "      <th>codigo</th>\n",
       "      <th>1.º quartil</th>\n",
       "      <th>2.º quartil</th>\n",
       "      <th>3.º quartil</th>\n",
       "    </tr>\n",
       "  </thead>\n",
       "  <tbody>\n",
       "    <tr>\n",
       "      <th>4</th>\n",
       "      <td>Arcos de Valdevez</td>\n",
       "      <td>1111601</td>\n",
       "      <td>888.00</td>\n",
       "      <td>973.57</td>\n",
       "      <td>1152.35</td>\n",
       "    </tr>\n",
       "    <tr>\n",
       "      <th>5</th>\n",
       "      <td>Caminha</td>\n",
       "      <td>1111602</td>\n",
       "      <td>860.17</td>\n",
       "      <td>930.20</td>\n",
       "      <td>1116.53</td>\n",
       "    </tr>\n",
       "    <tr>\n",
       "      <th>6</th>\n",
       "      <td>Melgaço</td>\n",
       "      <td>1111603</td>\n",
       "      <td>869.20</td>\n",
       "      <td>920.43</td>\n",
       "      <td>1090.90</td>\n",
       "    </tr>\n",
       "    <tr>\n",
       "      <th>7</th>\n",
       "      <td>Monção</td>\n",
       "      <td>1111604</td>\n",
       "      <td>870.00</td>\n",
       "      <td>941.00</td>\n",
       "      <td>1196.50</td>\n",
       "    </tr>\n",
       "    <tr>\n",
       "      <th>8</th>\n",
       "      <td>Paredes de Coura</td>\n",
       "      <td>1111605</td>\n",
       "      <td>861.85</td>\n",
       "      <td>991.69</td>\n",
       "      <td>1213.00</td>\n",
       "    </tr>\n",
       "    <tr>\n",
       "      <th>...</th>\n",
       "      <td>...</td>\n",
       "      <td>...</td>\n",
       "      <td>...</td>\n",
       "      <td>...</td>\n",
       "      <td>...</td>\n",
       "    </tr>\n",
       "    <tr>\n",
       "      <th>342</th>\n",
       "      <td>Ribeira Brava</td>\n",
       "      <td>3003107</td>\n",
       "      <td>895.75</td>\n",
       "      <td>984.50</td>\n",
       "      <td>1188.25</td>\n",
       "    </tr>\n",
       "    <tr>\n",
       "      <th>343</th>\n",
       "      <td>Santa Cruz</td>\n",
       "      <td>3003108</td>\n",
       "      <td>905.41</td>\n",
       "      <td>1027.30</td>\n",
       "      <td>1299.75</td>\n",
       "    </tr>\n",
       "    <tr>\n",
       "      <th>344</th>\n",
       "      <td>Santana</td>\n",
       "      <td>3003109</td>\n",
       "      <td>880.00</td>\n",
       "      <td>921.56</td>\n",
       "      <td>1055.74</td>\n",
       "    </tr>\n",
       "    <tr>\n",
       "      <th>345</th>\n",
       "      <td>São Vicente</td>\n",
       "      <td>3003110</td>\n",
       "      <td>885.17</td>\n",
       "      <td>942.00</td>\n",
       "      <td>1043.76</td>\n",
       "    </tr>\n",
       "    <tr>\n",
       "      <th>346</th>\n",
       "      <td>Porto Santo</td>\n",
       "      <td>3003201</td>\n",
       "      <td>892.66</td>\n",
       "      <td>1014.92</td>\n",
       "      <td>1363.53</td>\n",
       "    </tr>\n",
       "  </tbody>\n",
       "</table>\n",
       "<p>308 rows × 5 columns</p>\n",
       "</div>"
      ],
      "text/plain": [
       "                 local   codigo  1.º quartil  2.º quartil  3.º quartil\n",
       "4    Arcos de Valdevez  1111601       888.00       973.57      1152.35\n",
       "5              Caminha  1111602       860.17       930.20      1116.53\n",
       "6              Melgaço  1111603       869.20       920.43      1090.90\n",
       "7               Monção  1111604       870.00       941.00      1196.50\n",
       "8     Paredes de Coura  1111605       861.85       991.69      1213.00\n",
       "..                 ...      ...          ...          ...          ...\n",
       "342      Ribeira Brava  3003107       895.75       984.50      1188.25\n",
       "343         Santa Cruz  3003108       905.41      1027.30      1299.75\n",
       "344            Santana  3003109       880.00       921.56      1055.74\n",
       "345        São Vicente  3003110       885.17       942.00      1043.76\n",
       "346        Porto Santo  3003201       892.66      1014.92      1363.53\n",
       "\n",
       "[308 rows x 5 columns]"
      ]
     },
     "execution_count": 80,
     "metadata": {},
     "output_type": "execute_result"
    }
   ],
   "source": [
    "original_df = processar_ficheiro(data_path+'Ganho mensal.xls',2,padding_left=1,padding_right=12) # Removed separations between gender\n",
    "only_municipalities_df = carregar_municipios(original_df)\n",
    "only_municipalities_df\n"
   ]
  },
  {
   "cell_type": "code",
   "execution_count": 81,
   "id": "3fe0728e",
   "metadata": {},
   "outputs": [
    {
     "data": {
      "application/vnd.plotly.v1+json": {
       "config": {
        "plotlyServerURL": "https://plot.ly"
       },
       "data": [
        {
         "customdata": [
          [
           "Arcos de Valdevez",
           "1111601",
           888
          ],
          [
           "Caminha",
           "1111602",
           860.17
          ],
          [
           "Melgaço",
           "1111603",
           869.2
          ],
          [
           "Monção",
           "1111604",
           870
          ],
          [
           "Paredes de Coura",
           "1111605",
           861.85
          ],
          [
           "Ponte da Barca",
           "1111606",
           854
          ],
          [
           "Ponte de Lima",
           "1111607",
           886
          ],
          [
           "Valença",
           "1111608",
           886.5
          ],
          [
           "Viana do Castelo",
           "1111609",
           921.5
          ],
          [
           "Vila Nova de Cerveira",
           "1111610",
           950.21
          ],
          [
           "Amares",
           "1120301",
           879.7
          ],
          [
           "Barcelos",
           "1120302",
           872
          ],
          [
           "Braga",
           "1120303",
           922.2
          ],
          [
           "Esposende",
           "1120306",
           869.2
          ],
          [
           "Terras de Bouro",
           "1120310",
           848.12
          ],
          [
           "Vila Verde",
           "1120313",
           869.2
          ],
          [
           "Cabeceiras de Basto",
           "1190304",
           847.3
          ],
          [
           "Fafe",
           "1190307",
           849.67
          ],
          [
           "Guimarães",
           "1190308",
           869.2
          ],
          [
           "Mondim de Basto",
           "1191705",
           856.6
          ],
          [
           "Póvoa de Lanhoso",
           "1190309",
           859.75
          ],
          [
           "Vieira do Minho",
           "1190311",
           860.17
          ],
          [
           "Vila Nova de Famalicão",
           "1190312",
           896.5
          ],
          [
           "Vizela",
           "1190314",
           840.41
          ],
          [
           "Arouca",
           "11A0104",
           880.17
          ],
          [
           "Espinho",
           "11A0107",
           882.5
          ],
          [
           "Gondomar",
           "11A1304",
           880
          ],
          [
           "Maia",
           "11A1306",
           932.17
          ],
          [
           "Matosinhos",
           "11A1308",
           956.48
          ],
          [
           "Oliveira de Azeméis",
           "11A0113",
           924.6
          ],
          [
           "Paredes",
           "11A1310",
           860.19
          ],
          [
           "Porto",
           "11A1312",
           983.12
          ],
          [
           "Póvoa de Varzim",
           "11A1313",
           872.14
          ],
          [
           "Santa Maria da Feira",
           "11A0109",
           910.5
          ],
          [
           "Santo Tirso",
           "11A1314",
           874.4
          ],
          [
           "São João da Madeira",
           "11A0116",
           938.8
          ],
          [
           "Trofa",
           "11A1318",
           913.45
          ],
          [
           "Vale de Cambra",
           "11A0119",
           940.22
          ],
          [
           "Valongo",
           "11A1315",
           896.5
          ],
          [
           "Vila do Conde",
           "11A1316",
           901.44
          ],
          [
           "Vila Nova de Gaia",
           "11A1317",
           918.14
          ],
          [
           "Boticas",
           "11B1702",
           869.2
          ],
          [
           "Chaves",
           "11B1703",
           860
          ],
          [
           "Montalegre",
           "11B1706",
           860.17
          ],
          [
           "Ribeira de Pena",
           "11B1709",
           870.04
          ],
          [
           "Valpaços",
           "11B1712",
           864.44
          ],
          [
           "Vila Pouca de Aguiar",
           "11B1713",
           869.2
          ],
          [
           "Amarante",
           "11C1301",
           869.2
          ],
          [
           "Baião",
           "11C1302",
           859
          ],
          [
           "Castelo de Paiva",
           "11C0106",
           874
          ],
          [
           "Celorico de Basto",
           "11C0305",
           844
          ],
          [
           "Cinfães",
           "11C1804",
           898.5
          ],
          [
           "Felgueiras",
           "11C1303",
           850.57
          ],
          [
           "Lousada",
           "11C1305",
           845.15
          ],
          [
           "Marco de Canaveses",
           "11C1307",
           866
          ],
          [
           "Paços de Ferreira",
           "11C1309",
           848.2
          ],
          [
           "Penafiel",
           "11C1311",
           869.2
          ],
          [
           "Resende",
           "11C1813",
           857
          ],
          [
           "Alijó",
           "11D1701",
           869.2
          ],
          [
           "Armamar",
           "11D1801",
           865
          ],
          [
           "Carrazeda de Ansiães",
           "11D0403",
           860.17
          ],
          [
           "Freixo de Espada à Cinta",
           "11D0404",
           870
          ],
          [
           "Lamego",
           "11D1805",
           867.52
          ],
          [
           "Mesão Frio",
           "11D1704",
           828.64
          ],
          [
           "Moimenta da Beira",
           "11D1807",
           860.17
          ],
          [
           "Murça",
           "11D1707",
           874.2
          ],
          [
           "Penedono",
           "11D1812",
           854.92
          ],
          [
           "Peso da Régua",
           "11D1708",
           860.17
          ],
          [
           "Sabrosa",
           "11D1710",
           869.2
          ],
          [
           "Santa Marta de Penaguião",
           "11D1711",
           853.6
          ],
          [
           "São João da Pesqueira",
           "11D1815",
           863
          ],
          [
           "Sernancelhe",
           "11D1818",
           855.4
          ],
          [
           "Tabuaço",
           "11D1819",
           869.2
          ],
          [
           "Tarouca",
           "11D1820",
           860.17
          ],
          [
           "Torre de Moncorvo",
           "11D0409",
           860.17
          ],
          [
           "Vila Nova de Foz Côa",
           "11D0914",
           861
          ],
          [
           "Vila Real",
           "11D1714",
           896.5
          ],
          [
           "Alfândega da Fé",
           "11E0401",
           848.4
          ],
          [
           "Bragança",
           "11E0402",
           886
          ],
          [
           "Macedo de Cavaleiros",
           "11E0405",
           865.7
          ],
          [
           "Miranda do Douro",
           "11E0406",
           869.2
          ],
          [
           "Mirandela",
           "11E0407",
           875.5
          ],
          [
           "Mogadouro",
           "11E0408",
           865.7
          ],
          [
           "Vila Flor",
           "11E0410",
           879.2
          ],
          [
           "Vimioso",
           "11E0411",
           853.2
          ],
          [
           "Vinhais",
           "11E0412",
           860.17
          ],
          [
           "Águeda",
           "1910101",
           920.23
          ],
          [
           "Albergaria-a-Velha",
           "1910102",
           946.87
          ],
          [
           "Anadia",
           "1910103",
           887.08
          ],
          [
           "Aveiro",
           "1910105",
           972.72
          ],
          [
           "Estarreja",
           "1910108",
           970.78
          ],
          [
           "Ílhavo",
           "1910110",
           930
          ],
          [
           "Murtosa",
           "1910112",
           878
          ],
          [
           "Oliveira do Bairro",
           "1910114",
           927.86
          ],
          [
           "Ovar",
           "1910115",
           934.4
          ],
          [
           "Sever do Vouga",
           "1910117",
           900
          ],
          [
           "Vagos",
           "1910118",
           886
          ],
          [
           "Arganil",
           "1920601",
           845
          ],
          [
           "Cantanhede",
           "1920602",
           911.6
          ],
          [
           "Coimbra",
           "1920603",
           929
          ],
          [
           "Condeixa-a-Nova",
           "1920604",
           902
          ],
          [
           "Figueira da Foz",
           "1920605",
           908.05
          ],
          [
           "Góis",
           "1920606",
           863.54
          ],
          [
           "Lousã",
           "1920607",
           886
          ],
          [
           "Mealhada",
           "1920111",
           949.5
          ],
          [
           "Mira",
           "1920608",
           865
          ],
          [
           "Miranda do Corvo",
           "1920609",
           869.2
          ],
          [
           "Montemor-o-Velho",
           "1920610",
           879.2
          ],
          [
           "Mortágua",
           "1921808",
           942.73
          ],
          [
           "Oliveira do Hospital",
           "1920611",
           869.2
          ],
          [
           "Pampilhosa da Serra",
           "1920612",
           884.07
          ],
          [
           "Penacova",
           "1920613",
           874.5
          ],
          [
           "Penela",
           "1920614",
           901.82
          ],
          [
           "Soure",
           "1920615",
           893.12
          ],
          [
           "Tábua",
           "1920616",
           855.5
          ],
          [
           "Vila Nova de Poiares",
           "1920617",
           896.75
          ],
          [
           "Alvaiázere",
           "1931002",
           886
          ],
          [
           "Ansião",
           "1931003",
           874.4
          ],
          [
           "Batalha",
           "1931004",
           926
          ],
          [
           "Castanheira de Pêra",
           "1931007",
           848.5
          ],
          [
           "Figueiró dos Vinhos",
           "1931008",
           869.2
          ],
          [
           "Leiria",
           "1931009",
           922
          ],
          [
           "Marinha Grande",
           "1931010",
           999.7
          ],
          [
           "Pedrógão Grande",
           "1931013",
           869.2
          ],
          [
           "Pombal",
           "1931015",
           893.6
          ],
          [
           "Porto de Mós",
           "1931016",
           900.17
          ],
          [
           "Aguiar da Beira",
           "1940901",
           850
          ],
          [
           "Carregal do Sal",
           "1941802",
           911
          ],
          [
           "Castro Daire",
           "1941803",
           860.17
          ],
          [
           "Mangualde",
           "1941806",
           909.2
          ],
          [
           "Nelas",
           "1941809",
           910
          ],
          [
           "Oliveira de Frades",
           "1941810",
           943.86
          ],
          [
           "Penalva do Castelo",
           "1941811",
           850
          ],
          [
           "Santa Comba Dão",
           "1941814",
           878.5
          ],
          [
           "São Pedro do Sul",
           "1941816",
           853.6
          ],
          [
           "Sátão",
           "1941817",
           844
          ],
          [
           "Tondela",
           "1941821",
           912.8
          ],
          [
           "Vila Nova de Paiva",
           "1941822",
           869.2
          ],
          [
           "Viseu",
           "1941823",
           900
          ],
          [
           "Vouzela",
           "1941824",
           896
          ],
          [
           "Castelo Branco",
           "1950502",
           886
          ],
          [
           "Idanha-a-Nova",
           "1950505",
           869.2
          ],
          [
           "Oleiros",
           "1950506",
           870
          ],
          [
           "Penamacor",
           "1950507",
           880
          ],
          [
           "Proença-a-Nova",
           "1950508",
           886
          ],
          [
           "Sertã",
           "1950509",
           869.2
          ],
          [
           "Vila de Rei",
           "1950510",
           858.7
          ],
          [
           "Vila Velha de Ródão",
           "1950511",
           954.46
          ],
          [
           "Almeida",
           "1960902",
           857.85
          ],
          [
           "Belmonte",
           "1960501",
           820
          ],
          [
           "Celorico da Beira",
           "1960903",
           844
          ],
          [
           "Covilhã",
           "1960503",
           874.66
          ],
          [
           "Figueira de Castelo Rodrigo",
           "1960904",
           869.2
          ],
          [
           "Fornos de Algodres",
           "1960905",
           850
          ],
          [
           "Fundão",
           "1960504",
           886
          ],
          [
           "Gouveia",
           "1960906",
           865.5
          ],
          [
           "Guarda",
           "1960907",
           896.5
          ],
          [
           "Manteigas",
           "1960908",
           874
          ],
          [
           "Mêda",
           "1960909",
           869.2
          ],
          [
           "Pinhel",
           "1960910",
           860.17
          ],
          [
           "Sabugal",
           "1960911",
           864
          ],
          [
           "Seia",
           "1960912",
           869.2
          ],
          [
           "Trancoso",
           "1960913",
           874
          ],
          [
           "Alcobaça",
           "1D11001",
           892
          ],
          [
           "Alenquer",
           "1D11101",
           919.03
          ],
          [
           "Arruda dos Vinhos",
           "1D11102",
           888.1
          ],
          [
           "Bombarral",
           "1D11005",
           869.2
          ],
          [
           "Cadaval",
           "1D11104",
           865
          ],
          [
           "Caldas da Rainha",
           "1D11006",
           886
          ],
          [
           "Lourinhã",
           "1D11108",
           870
          ],
          [
           "Nazaré",
           "1D11011",
           868
          ],
          [
           "Óbidos",
           "1D11012",
           900
          ],
          [
           "Peniche",
           "1D11014",
           863.97
          ],
          [
           "Sobral de Monte Agraço",
           "1D11112",
           870
          ],
          [
           "Torres Vedras",
           "1D11113",
           886
          ],
          [
           "Abrantes",
           "1D21401",
           909.2
          ],
          [
           "Alcanena",
           "1D21402",
           941.5
          ],
          [
           "Constância",
           "1D21408",
           906
          ],
          [
           "Entroncamento",
           "1D21410",
           921.76
          ],
          [
           "Ferreira do Zêzere",
           "1D21411",
           898.37
          ],
          [
           "Mação",
           "1D21413",
           869.2
          ],
          [
           "Ourém",
           "1D21421",
           890.14
          ],
          [
           "Sardoal",
           "1D21417",
           874.2
          ],
          [
           "Tomar",
           "1D21418",
           880.75
          ],
          [
           "Torres Novas",
           "1D21419",
           910
          ],
          [
           "Vila Nova da Barquinha",
           "1D21420",
           882.7
          ],
          [
           "Almeirim",
           "1D31403",
           874.4
          ],
          [
           "Alpiarça",
           "1D31404",
           874.5
          ],
          [
           "Azambuja",
           "1D31103",
           837.67
          ],
          [
           "Benavente",
           "1D31405",
           917.5
          ],
          [
           "Cartaxo",
           "1D31406",
           869.2
          ],
          [
           "Chamusca",
           "1D31407",
           874.2
          ],
          [
           "Coruche",
           "1D31409",
           892
          ],
          [
           "Golegã",
           "1D31412",
           883.33
          ],
          [
           "Rio Maior",
           "1D31414",
           889.3
          ],
          [
           "Salvaterra de Magos",
           "1D31415",
           876
          ],
          [
           "Santarém",
           "1D31416",
           906.5
          ],
          [
           "Amadora",
           "1A01115",
           888.2
          ],
          [
           "Cascais",
           "1A01105",
           886
          ],
          [
           "Lisboa",
           "1A01106",
           1010
          ],
          [
           "Loures",
           "1A01107",
           911.86
          ],
          [
           "Mafra",
           "1A01109",
           917
          ],
          [
           "Odivelas",
           "1A01116",
           869.2
          ],
          [
           "Oeiras",
           "1A01110",
           1077.56
          ],
          [
           "Sintra",
           "1A01111",
           900
          ],
          [
           "Vila Franca de Xira",
           "1A01114",
           947.65
          ],
          [
           "Alcochete",
           "1B01502",
           926.6
          ],
          [
           "Almada",
           "1B01503",
           886
          ],
          [
           "Barreiro",
           "1B01504",
           887.6
          ],
          [
           "Moita",
           "1B01506",
           875
          ],
          [
           "Montijo",
           "1B01507",
           866.3
          ],
          [
           "Palmela",
           "1B01508",
           914.47
          ],
          [
           "Seixal",
           "1B01510",
           886
          ],
          [
           "Sesimbra",
           "1B01511",
           872.5
          ],
          [
           "Setúbal",
           "1B01512",
           906.18
          ],
          [
           "Alcácer do Sal",
           "1C11501",
           880.1
          ],
          [
           "Grândola",
           "1C11505",
           904.94
          ],
          [
           "Odemira",
           "1C10211",
           869.2
          ],
          [
           "Santiago do Cacém",
           "1C11509",
           894.4
          ],
          [
           "Sines",
           "1C11513",
           1036
          ],
          [
           "Aljustrel",
           "1C20201",
           990.22
          ],
          [
           "Almodôvar",
           "1C20202",
           883.9
          ],
          [
           "Alvito",
           "1C20203",
           938.97
          ],
          [
           "Barrancos",
           "1C20204",
           869.2
          ],
          [
           "Beja",
           "1C20205",
           897
          ],
          [
           "Castro Verde",
           "1C20206",
           1083.65
          ],
          [
           "Cuba",
           "1C20207",
           876.83
          ],
          [
           "Ferreira do Alentejo",
           "1C20208",
           892
          ],
          [
           "Mértola",
           "1C20209",
           869.2
          ],
          [
           "Moura",
           "1C20210",
           869.2
          ],
          [
           "Ourique",
           "1C20212",
           886
          ],
          [
           "Serpa",
           "1C20213",
           874.4
          ],
          [
           "Vidigueira",
           "1C20214",
           880
          ],
          [
           "Alter do Chão",
           "1C31201",
           885
          ],
          [
           "Arronches",
           "1C31202",
           886
          ],
          [
           "Avis",
           "1C31203",
           906
          ],
          [
           "Campo Maior",
           "1C31204",
           1033.34
          ],
          [
           "Castelo de Vide",
           "1C31205",
           874
          ],
          [
           "Crato",
           "1C31206",
           888.23
          ],
          [
           "Elvas",
           "1C31207",
           853.94
          ],
          [
           "Fronteira",
           "1C31208",
           864
          ],
          [
           "Gavião",
           "1C31209",
           895.5
          ],
          [
           "Marvão",
           "1C31210",
           833.23
          ],
          [
           "Monforte",
           "1C31211",
           900
          ],
          [
           "Nisa",
           "1C31212",
           868
          ],
          [
           "Ponte de Sor",
           "1C31213",
           890
          ],
          [
           "Portalegre",
           "1C31214",
           898.5
          ],
          [
           "Sousel",
           "1C31215",
           873
          ],
          [
           "Alandroal",
           "1C40701",
           874.4
          ],
          [
           "Arraiolos",
           "1C40702",
           886
          ],
          [
           "Borba",
           "1C40703",
           871.67
          ],
          [
           "Estremoz",
           "1C40704",
           895
          ],
          [
           "Évora",
           "1C40705",
           934.72
          ],
          [
           "Montemor-o-Novo",
           "1C40706",
           886
          ],
          [
           "Mora",
           "1C40707",
           894.9
          ],
          [
           "Mourão",
           "1C40708",
           880.17
          ],
          [
           "Portel",
           "1C40709",
           869.2
          ],
          [
           "Redondo",
           "1C40710",
           869.2
          ],
          [
           "Reguengos de Monsaraz",
           "1C40711",
           885.5
          ],
          [
           "Vendas Novas",
           "1C40712",
           886
          ],
          [
           "Viana do Alentejo",
           "1C40713",
           869.2
          ],
          [
           "Vila Viçosa",
           "1C40714",
           920
          ],
          [
           "Albufeira",
           "1500801",
           892
          ],
          [
           "Alcoutim",
           "1500802",
           874.4
          ],
          [
           "Aljezur",
           "1500803",
           874.4
          ],
          [
           "Castro Marim",
           "1500804",
           874.4
          ],
          [
           "Faro",
           "1500805",
           912.6
          ],
          [
           "Lagoa",
           "1500806",
           902.17
          ],
          [
           "Lagos",
           "1500807",
           893.1
          ],
          [
           "Loulé",
           "1500808",
           900
          ],
          [
           "Monchique",
           "1500809",
           860.17
          ],
          [
           "Olhão",
           "1500810",
           874.4
          ],
          [
           "Portimão",
           "1500811",
           892
          ],
          [
           "São Brás de Alportel",
           "1500812",
           874.4
          ],
          [
           "Silves",
           "1500813",
           890
          ],
          [
           "Tavira",
           "1500814",
           874.4
          ],
          [
           "Vila do Bispo",
           "1500815",
           886
          ],
          [
           "Vila Real de Santo António",
           "1500816",
           870
          ],
          [
           "Angra do Heroísmo",
           "2004301",
           898.17
          ],
          [
           "Calheta (R.A.A.)",
           "2004501",
           860.5
          ],
          [
           "Corvo",
           "2004901",
           946.92
          ],
          [
           "Horta",
           "2004701",
           916.09
          ],
          [
           "Lagoa (R.A.A.)",
           "2004201",
           864.69
          ],
          [
           "Lajes das Flores",
           "2004801",
           861.78
          ],
          [
           "Lajes do Pico",
           "2004601",
           883.88
          ],
          [
           "Madalena",
           "2004602",
           891.6
          ],
          [
           "Nordeste",
           "2004202",
           850
          ],
          [
           "Ponta Delgada",
           "2004203",
           910.04
          ],
          [
           "Povoação",
           "2004204",
           864
          ],
          [
           "Ribeira Grande",
           "2004205",
           885.15
          ],
          [
           "Santa Cruz da Graciosa",
           "2004401",
           884.03
          ],
          [
           "Santa Cruz das Flores",
           "2004802",
           895.5
          ],
          [
           "São Roque do Pico",
           "2004603",
           907.2
          ],
          [
           "Velas",
           "2004502",
           883.4
          ],
          [
           "Vila da Praia da Vitória",
           "2004302",
           891.6
          ],
          [
           "Vila do Porto",
           "2004101",
           865.37
          ],
          [
           "Vila Franca do Campo",
           "2004206",
           859.18
          ],
          [
           "Calheta (R.A.M.)",
           "3003101",
           921.5
          ],
          [
           "Câmara de Lobos",
           "3003102",
           889.75
          ],
          [
           "Funchal",
           "3003103",
           919.61
          ],
          [
           "Machico",
           "3003104",
           911.4
          ],
          [
           "Ponta do Sol",
           "3003105",
           894.2
          ],
          [
           "Porto Moniz",
           "3003106",
           830.3
          ],
          [
           "Ribeira Brava",
           "3003107",
           895.75
          ],
          [
           "Santa Cruz",
           "3003108",
           905.41
          ],
          [
           "Santana",
           "3003109",
           880
          ],
          [
           "São Vicente",
           "3003110",
           885.17
          ],
          [
           "Porto Santo",
           "3003201",
           892.66
          ]
         ],
         "hovertemplate": "valor=%{x}<br>y=%{y}<br>local=%{customdata[0]}<br>codigo=%{customdata[1]}<br>1.º quartil=%{customdata[2]}<br>ganho_mensal=%{marker.color}<extra></extra>",
         "legendgroup": "",
         "marker": {
          "color": {
           "bdata": "AAAAAAAAAAABAQAAAQAAAAAAAAAAAAEAAAAAAQIBAAIAAQABAQEBAQEAAAAAAAAAAAAAAAAAAAAAAAAAAAAAAAAAAAAAAAAAAAAAAAEAAAAAAAAAAAABAQACAgEAAQEBAQABAQEBAAABAAAAAQAAAAEBAAEAAAEAAAECAAEBAAEAAQEBAAAAAAEAAQAAAAAAAAAAAgAAAAAAAAAAAQAAAAAAAAEBAQAAAQAAAQAAAQEBAQEBAAEAAAEAAAAAAQAAAQABAAEBAQIBAQACAQEBAQEAAAEBAAEAAQABAgIAAQABAgABAAAAAAAAAAECAAAAAAEAAQAAAQAAAAAAAQAAAAAAAAEAAQEAAAABAQEBAAABAAEAAAABAAEBAAAAAAABAAAAAQEAAQEAAQABAQAAAAEAAAE=",
           "dtype": "i1"
          },
          "coloraxis": "coloraxis",
          "size": 10,
          "symbol": "circle"
         },
         "mode": "markers",
         "name": "",
         "orientation": "v",
         "showlegend": false,
         "type": "scatter",
         "x": {
          "bdata": "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",
          "dtype": "f8"
         },
         "xaxis": "x",
         "y": {
          "bdata": "AAAAAAAAAAAAAAAAAAAAAAAAAAAAAAAAAAAAAAAAAAAAAAAAAAAAAAAAAAAAAAAAAAAAAAAAAAAAAAAAAAAAAAAAAAAAAAAAAAAAAAAAAAAAAAAAAAAAAAAAAAAAAAAAAAAAAAAAAAAAAAAAAAAAAAAAAAAAAAAAAAAAAAAAAAAAAAAAAAAAAAAAAAAAAAAAAAAAAAAAAAAAAAAAAAAAAAAAAAAAAAAAAAAAAAAAAAAAAAAAAAAAAAAAAAAAAAAAAAAAAAAAAAAAAAAAAAAAAAAAAAAAAAAAAAAAAAAAAAAAAAAAAAAAAAAAAAAAAAAAAAAAAAAAAAAAAAAAAAAAAAAAAAAAAAAAAAAAAAAAAAAAAAAAAAAAAAAAAAAAAAAAAAAAAAAAAAAAAAAAAAAAAAAAAAA=",
          "dtype": "i1"
         },
         "yaxis": "y"
        }
       ],
       "layout": {
        "coloraxis": {
         "colorbar": {
          "title": {
           "text": "ganho_mensal"
          }
         },
         "colorscale": [
          [
           0,
           "#440154"
          ],
          [
           0.1111111111111111,
           "#482878"
          ],
          [
           0.2222222222222222,
           "#3e4989"
          ],
          [
           0.3333333333333333,
           "#31688e"
          ],
          [
           0.4444444444444444,
           "#26828e"
          ],
          [
           0.5555555555555556,
           "#1f9e89"
          ],
          [
           0.6666666666666666,
           "#35b779"
          ],
          [
           0.7777777777777778,
           "#6ece58"
          ],
          [
           0.8888888888888888,
           "#b5de2b"
          ],
          [
           1,
           "#fde725"
          ]
         ]
        },
        "height": 300,
        "legend": {
         "tracegroupgap": 0
        },
        "margin": {
         "t": 60
        },
        "template": {
         "data": {
          "bar": [
           {
            "error_x": {
             "color": "#2a3f5f"
            },
            "error_y": {
             "color": "#2a3f5f"
            },
            "marker": {
             "line": {
              "color": "#E5ECF6",
              "width": 0.5
             },
             "pattern": {
              "fillmode": "overlay",
              "size": 10,
              "solidity": 0.2
             }
            },
            "type": "bar"
           }
          ],
          "barpolar": [
           {
            "marker": {
             "line": {
              "color": "#E5ECF6",
              "width": 0.5
             },
             "pattern": {
              "fillmode": "overlay",
              "size": 10,
              "solidity": 0.2
             }
            },
            "type": "barpolar"
           }
          ],
          "carpet": [
           {
            "aaxis": {
             "endlinecolor": "#2a3f5f",
             "gridcolor": "white",
             "linecolor": "white",
             "minorgridcolor": "white",
             "startlinecolor": "#2a3f5f"
            },
            "baxis": {
             "endlinecolor": "#2a3f5f",
             "gridcolor": "white",
             "linecolor": "white",
             "minorgridcolor": "white",
             "startlinecolor": "#2a3f5f"
            },
            "type": "carpet"
           }
          ],
          "choropleth": [
           {
            "colorbar": {
             "outlinewidth": 0,
             "ticks": ""
            },
            "type": "choropleth"
           }
          ],
          "contour": [
           {
            "colorbar": {
             "outlinewidth": 0,
             "ticks": ""
            },
            "colorscale": [
             [
              0,
              "#0d0887"
             ],
             [
              0.1111111111111111,
              "#46039f"
             ],
             [
              0.2222222222222222,
              "#7201a8"
             ],
             [
              0.3333333333333333,
              "#9c179e"
             ],
             [
              0.4444444444444444,
              "#bd3786"
             ],
             [
              0.5555555555555556,
              "#d8576b"
             ],
             [
              0.6666666666666666,
              "#ed7953"
             ],
             [
              0.7777777777777778,
              "#fb9f3a"
             ],
             [
              0.8888888888888888,
              "#fdca26"
             ],
             [
              1,
              "#f0f921"
             ]
            ],
            "type": "contour"
           }
          ],
          "contourcarpet": [
           {
            "colorbar": {
             "outlinewidth": 0,
             "ticks": ""
            },
            "type": "contourcarpet"
           }
          ],
          "heatmap": [
           {
            "colorbar": {
             "outlinewidth": 0,
             "ticks": ""
            },
            "colorscale": [
             [
              0,
              "#0d0887"
             ],
             [
              0.1111111111111111,
              "#46039f"
             ],
             [
              0.2222222222222222,
              "#7201a8"
             ],
             [
              0.3333333333333333,
              "#9c179e"
             ],
             [
              0.4444444444444444,
              "#bd3786"
             ],
             [
              0.5555555555555556,
              "#d8576b"
             ],
             [
              0.6666666666666666,
              "#ed7953"
             ],
             [
              0.7777777777777778,
              "#fb9f3a"
             ],
             [
              0.8888888888888888,
              "#fdca26"
             ],
             [
              1,
              "#f0f921"
             ]
            ],
            "type": "heatmap"
           }
          ],
          "histogram": [
           {
            "marker": {
             "pattern": {
              "fillmode": "overlay",
              "size": 10,
              "solidity": 0.2
             }
            },
            "type": "histogram"
           }
          ],
          "histogram2d": [
           {
            "colorbar": {
             "outlinewidth": 0,
             "ticks": ""
            },
            "colorscale": [
             [
              0,
              "#0d0887"
             ],
             [
              0.1111111111111111,
              "#46039f"
             ],
             [
              0.2222222222222222,
              "#7201a8"
             ],
             [
              0.3333333333333333,
              "#9c179e"
             ],
             [
              0.4444444444444444,
              "#bd3786"
             ],
             [
              0.5555555555555556,
              "#d8576b"
             ],
             [
              0.6666666666666666,
              "#ed7953"
             ],
             [
              0.7777777777777778,
              "#fb9f3a"
             ],
             [
              0.8888888888888888,
              "#fdca26"
             ],
             [
              1,
              "#f0f921"
             ]
            ],
            "type": "histogram2d"
           }
          ],
          "histogram2dcontour": [
           {
            "colorbar": {
             "outlinewidth": 0,
             "ticks": ""
            },
            "colorscale": [
             [
              0,
              "#0d0887"
             ],
             [
              0.1111111111111111,
              "#46039f"
             ],
             [
              0.2222222222222222,
              "#7201a8"
             ],
             [
              0.3333333333333333,
              "#9c179e"
             ],
             [
              0.4444444444444444,
              "#bd3786"
             ],
             [
              0.5555555555555556,
              "#d8576b"
             ],
             [
              0.6666666666666666,
              "#ed7953"
             ],
             [
              0.7777777777777778,
              "#fb9f3a"
             ],
             [
              0.8888888888888888,
              "#fdca26"
             ],
             [
              1,
              "#f0f921"
             ]
            ],
            "type": "histogram2dcontour"
           }
          ],
          "mesh3d": [
           {
            "colorbar": {
             "outlinewidth": 0,
             "ticks": ""
            },
            "type": "mesh3d"
           }
          ],
          "parcoords": [
           {
            "line": {
             "colorbar": {
              "outlinewidth": 0,
              "ticks": ""
             }
            },
            "type": "parcoords"
           }
          ],
          "pie": [
           {
            "automargin": true,
            "type": "pie"
           }
          ],
          "scatter": [
           {
            "fillpattern": {
             "fillmode": "overlay",
             "size": 10,
             "solidity": 0.2
            },
            "type": "scatter"
           }
          ],
          "scatter3d": [
           {
            "line": {
             "colorbar": {
              "outlinewidth": 0,
              "ticks": ""
             }
            },
            "marker": {
             "colorbar": {
              "outlinewidth": 0,
              "ticks": ""
             }
            },
            "type": "scatter3d"
           }
          ],
          "scattercarpet": [
           {
            "marker": {
             "colorbar": {
              "outlinewidth": 0,
              "ticks": ""
             }
            },
            "type": "scattercarpet"
           }
          ],
          "scattergeo": [
           {
            "marker": {
             "colorbar": {
              "outlinewidth": 0,
              "ticks": ""
             }
            },
            "type": "scattergeo"
           }
          ],
          "scattergl": [
           {
            "marker": {
             "colorbar": {
              "outlinewidth": 0,
              "ticks": ""
             }
            },
            "type": "scattergl"
           }
          ],
          "scattermap": [
           {
            "marker": {
             "colorbar": {
              "outlinewidth": 0,
              "ticks": ""
             }
            },
            "type": "scattermap"
           }
          ],
          "scattermapbox": [
           {
            "marker": {
             "colorbar": {
              "outlinewidth": 0,
              "ticks": ""
             }
            },
            "type": "scattermapbox"
           }
          ],
          "scatterpolar": [
           {
            "marker": {
             "colorbar": {
              "outlinewidth": 0,
              "ticks": ""
             }
            },
            "type": "scatterpolar"
           }
          ],
          "scatterpolargl": [
           {
            "marker": {
             "colorbar": {
              "outlinewidth": 0,
              "ticks": ""
             }
            },
            "type": "scatterpolargl"
           }
          ],
          "scatterternary": [
           {
            "marker": {
             "colorbar": {
              "outlinewidth": 0,
              "ticks": ""
             }
            },
            "type": "scatterternary"
           }
          ],
          "surface": [
           {
            "colorbar": {
             "outlinewidth": 0,
             "ticks": ""
            },
            "colorscale": [
             [
              0,
              "#0d0887"
             ],
             [
              0.1111111111111111,
              "#46039f"
             ],
             [
              0.2222222222222222,
              "#7201a8"
             ],
             [
              0.3333333333333333,
              "#9c179e"
             ],
             [
              0.4444444444444444,
              "#bd3786"
             ],
             [
              0.5555555555555556,
              "#d8576b"
             ],
             [
              0.6666666666666666,
              "#ed7953"
             ],
             [
              0.7777777777777778,
              "#fb9f3a"
             ],
             [
              0.8888888888888888,
              "#fdca26"
             ],
             [
              1,
              "#f0f921"
             ]
            ],
            "type": "surface"
           }
          ],
          "table": [
           {
            "cells": {
             "fill": {
              "color": "#EBF0F8"
             },
             "line": {
              "color": "white"
             }
            },
            "header": {
             "fill": {
              "color": "#C8D4E3"
             },
             "line": {
              "color": "white"
             }
            },
            "type": "table"
           }
          ]
         },
         "layout": {
          "annotationdefaults": {
           "arrowcolor": "#2a3f5f",
           "arrowhead": 0,
           "arrowwidth": 1
          },
          "autotypenumbers": "strict",
          "coloraxis": {
           "colorbar": {
            "outlinewidth": 0,
            "ticks": ""
           }
          },
          "colorscale": {
           "diverging": [
            [
             0,
             "#8e0152"
            ],
            [
             0.1,
             "#c51b7d"
            ],
            [
             0.2,
             "#de77ae"
            ],
            [
             0.3,
             "#f1b6da"
            ],
            [
             0.4,
             "#fde0ef"
            ],
            [
             0.5,
             "#f7f7f7"
            ],
            [
             0.6,
             "#e6f5d0"
            ],
            [
             0.7,
             "#b8e186"
            ],
            [
             0.8,
             "#7fbc41"
            ],
            [
             0.9,
             "#4d9221"
            ],
            [
             1,
             "#276419"
            ]
           ],
           "sequential": [
            [
             0,
             "#0d0887"
            ],
            [
             0.1111111111111111,
             "#46039f"
            ],
            [
             0.2222222222222222,
             "#7201a8"
            ],
            [
             0.3333333333333333,
             "#9c179e"
            ],
            [
             0.4444444444444444,
             "#bd3786"
            ],
            [
             0.5555555555555556,
             "#d8576b"
            ],
            [
             0.6666666666666666,
             "#ed7953"
            ],
            [
             0.7777777777777778,
             "#fb9f3a"
            ],
            [
             0.8888888888888888,
             "#fdca26"
            ],
            [
             1,
             "#f0f921"
            ]
           ],
           "sequentialminus": [
            [
             0,
             "#0d0887"
            ],
            [
             0.1111111111111111,
             "#46039f"
            ],
            [
             0.2222222222222222,
             "#7201a8"
            ],
            [
             0.3333333333333333,
             "#9c179e"
            ],
            [
             0.4444444444444444,
             "#bd3786"
            ],
            [
             0.5555555555555556,
             "#d8576b"
            ],
            [
             0.6666666666666666,
             "#ed7953"
            ],
            [
             0.7777777777777778,
             "#fb9f3a"
            ],
            [
             0.8888888888888888,
             "#fdca26"
            ],
            [
             1,
             "#f0f921"
            ]
           ]
          },
          "colorway": [
           "#636efa",
           "#EF553B",
           "#00cc96",
           "#ab63fa",
           "#FFA15A",
           "#19d3f3",
           "#FF6692",
           "#B6E880",
           "#FF97FF",
           "#FECB52"
          ],
          "font": {
           "color": "#2a3f5f"
          },
          "geo": {
           "bgcolor": "white",
           "lakecolor": "white",
           "landcolor": "#E5ECF6",
           "showlakes": true,
           "showland": true,
           "subunitcolor": "white"
          },
          "hoverlabel": {
           "align": "left"
          },
          "hovermode": "closest",
          "mapbox": {
           "style": "light"
          },
          "paper_bgcolor": "white",
          "plot_bgcolor": "#E5ECF6",
          "polar": {
           "angularaxis": {
            "gridcolor": "white",
            "linecolor": "white",
            "ticks": ""
           },
           "bgcolor": "#E5ECF6",
           "radialaxis": {
            "gridcolor": "white",
            "linecolor": "white",
            "ticks": ""
           }
          },
          "scene": {
           "xaxis": {
            "backgroundcolor": "#E5ECF6",
            "gridcolor": "white",
            "gridwidth": 2,
            "linecolor": "white",
            "showbackground": true,
            "ticks": "",
            "zerolinecolor": "white"
           },
           "yaxis": {
            "backgroundcolor": "#E5ECF6",
            "gridcolor": "white",
            "gridwidth": 2,
            "linecolor": "white",
            "showbackground": true,
            "ticks": "",
            "zerolinecolor": "white"
           },
           "zaxis": {
            "backgroundcolor": "#E5ECF6",
            "gridcolor": "white",
            "gridwidth": 2,
            "linecolor": "white",
            "showbackground": true,
            "ticks": "",
            "zerolinecolor": "white"
           }
          },
          "shapedefaults": {
           "line": {
            "color": "#2a3f5f"
           }
          },
          "ternary": {
           "aaxis": {
            "gridcolor": "white",
            "linecolor": "white",
            "ticks": ""
           },
           "baxis": {
            "gridcolor": "white",
            "linecolor": "white",
            "ticks": ""
           },
           "bgcolor": "#E5ECF6",
           "caxis": {
            "gridcolor": "white",
            "linecolor": "white",
            "ticks": ""
           }
          },
          "title": {
           "x": 0.05
          },
          "xaxis": {
           "automargin": true,
           "gridcolor": "white",
           "linecolor": "white",
           "ticks": "",
           "title": {
            "standoff": 15
           },
           "zerolinecolor": "white",
           "zerolinewidth": 2
          },
          "yaxis": {
           "automargin": true,
           "gridcolor": "white",
           "linecolor": "white",
           "ticks": "",
           "title": {
            "standoff": 15
           },
           "zerolinecolor": "white",
           "zerolinewidth": 2
          }
         }
        },
        "xaxis": {
         "anchor": "y",
         "domain": [
          0,
          1
         ],
         "title": {
          "text": "1.º quartil"
         }
        },
        "yaxis": {
         "anchor": "x",
         "domain": [
          0,
          1
         ],
         "showgrid": false,
         "showticklabels": false,
         "title": {
          "text": "y"
         }
        }
       }
      }
     },
     "metadata": {},
     "output_type": "display_data"
    },
    {
     "name": "stdout",
     "output_type": "stream",
     "text": [
      "ganho_mensal\n",
      "0    194\n",
      "1    102\n",
      "2     12\n",
      "Name: count, dtype: int64\n",
      "File saved to csv_files/3_Ganho mensal.csv\n"
     ]
    }
   ],
   "source": [
    "clustered_df = aplicar_kmeans(only_municipalities_df,3,nome_cluster='ganho_mensal')\n",
    "save_clustered_df_to_csv(clustered_df,\"csv_files/\", \"3_Ganho mensal.csv\")"
   ]
  },
  {
   "cell_type": "markdown",
   "id": "dd8d6c68",
   "metadata": {},
   "source": [
    "### População ativa"
   ]
  },
  {
   "cell_type": "code",
   "execution_count": 82,
   "id": "6d229c49",
   "metadata": {},
   "outputs": [
    {
     "data": {
      "text/html": [
       "<div>\n",
       "<style scoped>\n",
       "    .dataframe tbody tr th:only-of-type {\n",
       "        vertical-align: middle;\n",
       "    }\n",
       "\n",
       "    .dataframe tbody tr th {\n",
       "        vertical-align: top;\n",
       "    }\n",
       "\n",
       "    .dataframe thead th {\n",
       "        text-align: right;\n",
       "    }\n",
       "</style>\n",
       "<table border=\"1\" class=\"dataframe\">\n",
       "  <thead>\n",
       "    <tr style=\"text-align: right;\">\n",
       "      <th></th>\n",
       "      <th>local</th>\n",
       "      <th>codigo</th>\n",
       "      <th>HM</th>\n",
       "    </tr>\n",
       "  </thead>\n",
       "  <tbody>\n",
       "    <tr>\n",
       "      <th>4</th>\n",
       "      <td>Arcos de Valdevez</td>\n",
       "      <td>1111601</td>\n",
       "      <td>7461.0</td>\n",
       "    </tr>\n",
       "    <tr>\n",
       "      <th>41</th>\n",
       "      <td>Caminha</td>\n",
       "      <td>1111602</td>\n",
       "      <td>6745.0</td>\n",
       "    </tr>\n",
       "    <tr>\n",
       "      <th>56</th>\n",
       "      <td>Melgaço</td>\n",
       "      <td>1111603</td>\n",
       "      <td>2546.0</td>\n",
       "    </tr>\n",
       "    <tr>\n",
       "      <th>70</th>\n",
       "      <td>Monção</td>\n",
       "      <td>1111604</td>\n",
       "      <td>7049.0</td>\n",
       "    </tr>\n",
       "    <tr>\n",
       "      <th>95</th>\n",
       "      <td>Paredes de Coura</td>\n",
       "      <td>1111605</td>\n",
       "      <td>3618.0</td>\n",
       "    </tr>\n",
       "    <tr>\n",
       "      <th>...</th>\n",
       "      <td>...</td>\n",
       "      <td>...</td>\n",
       "      <td>...</td>\n",
       "    </tr>\n",
       "    <tr>\n",
       "      <th>3412</th>\n",
       "      <td>Porto Santo</td>\n",
       "      <td>3003201</td>\n",
       "      <td>2492.0</td>\n",
       "    </tr>\n",
       "    <tr>\n",
       "      <th>3414</th>\n",
       "      <td>Ribeira Brava</td>\n",
       "      <td>3003107</td>\n",
       "      <td>5279.0</td>\n",
       "    </tr>\n",
       "    <tr>\n",
       "      <th>3419</th>\n",
       "      <td>Santa Cruz</td>\n",
       "      <td>3003108</td>\n",
       "      <td>21295.0</td>\n",
       "    </tr>\n",
       "    <tr>\n",
       "      <th>3425</th>\n",
       "      <td>Santana</td>\n",
       "      <td>3003109</td>\n",
       "      <td>2552.0</td>\n",
       "    </tr>\n",
       "    <tr>\n",
       "      <th>3432</th>\n",
       "      <td>São Vicente</td>\n",
       "      <td>3003110</td>\n",
       "      <td>1904.0</td>\n",
       "    </tr>\n",
       "  </tbody>\n",
       "</table>\n",
       "<p>308 rows × 3 columns</p>\n",
       "</div>"
      ],
      "text/plain": [
       "                  local   codigo       HM\n",
       "4     Arcos de Valdevez  1111601   7461.0\n",
       "41              Caminha  1111602   6745.0\n",
       "56              Melgaço  1111603   2546.0\n",
       "70               Monção  1111604   7049.0\n",
       "95     Paredes de Coura  1111605   3618.0\n",
       "...                 ...      ...      ...\n",
       "3412        Porto Santo  3003201   2492.0\n",
       "3414      Ribeira Brava  3003107   5279.0\n",
       "3419         Santa Cruz  3003108  21295.0\n",
       "3425            Santana  3003109   2552.0\n",
       "3432        São Vicente  3003110   1904.0\n",
       "\n",
       "[308 rows x 3 columns]"
      ]
     },
     "execution_count": 82,
     "metadata": {},
     "output_type": "execute_result"
    }
   ],
   "source": [
    "original_df = processar_ficheiro(data_path+'População ativa.xls',1,padding_left=1,padding_right=4)\n",
    "only_municipalities_df = filter_for_only_municipalities(original_df)\n",
    "only_municipalities_df\n"
   ]
  },
  {
   "cell_type": "code",
   "execution_count": 83,
   "id": "fc7d3e68",
   "metadata": {},
   "outputs": [
    {
     "data": {
      "application/vnd.plotly.v1+json": {
       "config": {
        "plotlyServerURL": "https://plot.ly"
       },
       "data": [
        {
         "customdata": [
          [
           "Arcos de Valdevez",
           "1111601",
           7461
          ],
          [
           "Caminha",
           "1111602",
           6745
          ],
          [
           "Melgaço",
           "1111603",
           2546
          ],
          [
           "Monção",
           "1111604",
           7049
          ],
          [
           "Paredes de Coura",
           "1111605",
           3618
          ],
          [
           "Ponte da Barca",
           "1111606",
           4435
          ],
          [
           "Ponte de Lima",
           "1111607",
           18504
          ],
          [
           "Valença",
           "1111608",
           6112
          ],
          [
           "Viana do Castelo",
           "1111609",
           39493
          ],
          [
           "Vila Nova de Cerveira",
           "1111610",
           4097
          ],
          [
           "Amares",
           "1120301",
           8703
          ],
          [
           "Barcelos",
           "1120302",
           58284
          ],
          [
           "Braga",
           "1120303",
           97969
          ],
          [
           "Esposende",
           "1120306",
           17339
          ],
          [
           "Terras de Bouro",
           "1120310",
           2510
          ],
          [
           "Vila Verde",
           "1120313",
           21076
          ],
          [
           "Cabeceiras de Basto",
           "1190304",
           6681
          ],
          [
           "Fafe",
           "1190307",
           22316
          ],
          [
           "Guimarães",
           "1190308",
           78731
          ],
          [
           "Mondim de Basto",
           "1191705",
           2448
          ],
          [
           "Póvoa de Lanhoso",
           "1190309",
           9490
          ],
          [
           "Vieira do Minho",
           "1190311",
           4468
          ],
          [
           "Vila Nova de Famalicão",
           "1190312",
           67528
          ],
          [
           "Vizela",
           "1190314",
           12524
          ],
          [
           "Arouca",
           "11A0104",
           9444
          ],
          [
           "Espinho",
           "11A0107",
           13489
          ],
          [
           "Gondomar",
           "11A1304",
           79551
          ],
          [
           "Maia",
           "11A1306",
           68380
          ],
          [
           "Matosinhos",
           "11A1308",
           82545
          ],
          [
           "Oliveira de Azeméis",
           "11A0113",
           32861
          ],
          [
           "Paredes",
           "11A1310",
           42282
          ],
          [
           "Porto",
           "11A1312",
           106123
          ],
          [
           "Póvoa de Varzim",
           "11A1313",
           30929
          ],
          [
           "Santa Maria da Feira",
           "11A0109",
           67022
          ],
          [
           "Santo Tirso",
           "11A1314",
           32215
          ],
          [
           "São João da Madeira",
           "11A0116",
           10978
          ],
          [
           "Trofa",
           "11A1318",
           19685
          ],
          [
           "Vale de Cambra",
           "11A0119",
           9633
          ],
          [
           "Valongo",
           "11A1315",
           47032
          ],
          [
           "Vila do Conde",
           "11A1316",
           39282
          ],
          [
           "Vila Nova de Gaia",
           "11A1317",
           146725
          ],
          [
           "Boticas",
           "11B1702",
           1762
          ],
          [
           "Chaves",
           "11B1703",
           14329
          ],
          [
           "Montalegre",
           "11B1706",
           3160
          ],
          [
           "Ribeira de Pena",
           "11B1709",
           2141
          ],
          [
           "Valpaços",
           "11B1712",
           4332
          ],
          [
           "Vila Pouca de Aguiar",
           "11B1713",
           4264
          ],
          [
           "Amarante",
           "11C1301",
           23387
          ],
          [
           "Baião",
           "11C1302",
           7093
          ],
          [
           "Castelo de Paiva",
           "11C0106",
           6993
          ],
          [
           "Celorico de Basto",
           "11C0305",
           7430
          ],
          [
           "Cinfães",
           "11C1804",
           6770
          ],
          [
           "Felgueiras",
           "11C1303",
           28744
          ],
          [
           "Lousada",
           "11C1305",
           24272
          ],
          [
           "Marco de Canaveses",
           "11C1307",
           22288
          ],
          [
           "Paços de Ferreira",
           "11C1309",
           28781
          ],
          [
           "Penafiel",
           "11C1311",
           33280
          ],
          [
           "Resende",
           "11C1813",
           3790
          ],
          [
           "Alijó",
           "11D1701",
           4096
          ],
          [
           "Armamar",
           "11D1801",
           2214
          ],
          [
           "Carrazeda de Ansiães",
           "11D0403",
           1905
          ],
          [
           "Freixo de Espada à Cinta",
           "11D0404",
           1210
          ],
          [
           "Lamego",
           "11D1805",
           10327
          ],
          [
           "Mesão Frio",
           "11D1704",
           1396
          ],
          [
           "Moimenta da Beira",
           "11D1807",
           3598
          ],
          [
           "Murça",
           "11D1707",
           1806
          ],
          [
           "Penedono",
           "11D1812",
           1069
          ],
          [
           "Peso da Régua",
           "11D1708",
           6056
          ],
          [
           "Sabrosa",
           "11D1710",
           2124
          ],
          [
           "Santa Marta de Penaguião",
           "11D1711",
           2292
          ],
          [
           "São João da Pesqueira",
           "11D1815",
           2957
          ],
          [
           "Sernancelhe",
           "11D1818",
           2036
          ],
          [
           "Tabuaço",
           "11D1819",
           1792
          ],
          [
           "Tarouca",
           "11D1820",
           2972
          ],
          [
           "Torre de Moncorvo",
           "11D0409",
           2458
          ],
          [
           "Vila Nova de Foz Côa",
           "11D0914",
           2413
          ],
          [
           "Vila Real",
           "11D1714",
           22859
          ],
          [
           "Alfândega da Fé",
           "11E0401",
           1599
          ],
          [
           "Bragança",
           "11E0402",
           14856
          ],
          [
           "Macedo de Cavaleiros",
           "11E0405",
           5453
          ],
          [
           "Miranda do Douro",
           "11E0406",
           2450
          ],
          [
           "Mirandela",
           "11E0407",
           8527
          ],
          [
           "Mogadouro",
           "11E0408",
           3139
          ],
          [
           "Vila Flor",
           "11E0410",
           2300
          ],
          [
           "Vimioso",
           "11E0411",
           1381
          ],
          [
           "Vinhais",
           "11E0412",
           2410
          ],
          [
           "Alcobaça",
           "16B1001",
           25252
          ],
          [
           "Alenquer",
           "16B1101",
           21716
          ],
          [
           "Arruda dos Vinhos",
           "16B1102",
           6851
          ],
          [
           "Bombarral",
           "16B1005",
           5611
          ],
          [
           "Cadaval",
           "16B1104",
           5623
          ],
          [
           "Caldas da Rainha",
           "16B1006",
           22994
          ],
          [
           "Lourinhã",
           "16B1108",
           11589
          ],
          [
           "Nazaré",
           "16B1011",
           6517
          ],
          [
           "Óbidos",
           "16B1012",
           5156
          ],
          [
           "Peniche",
           "16B1014",
           11515
          ],
          [
           "Sobral de Monte Agraço",
           "16B1112",
           5167
          ],
          [
           "Torres Vedras",
           "16B1113",
           40190
          ],
          [
           "Águeda",
           "16D0101",
           22126
          ],
          [
           "Albergaria-a-Velha",
           "16D0102",
           12101
          ],
          [
           "Anadia",
           "16D0103",
           12504
          ],
          [
           "Aveiro",
           "16D0105",
           40964
          ],
          [
           "Estarreja",
           "16D0108",
           12223
          ],
          [
           "Ílhavo",
           "16D0110",
           19088
          ],
          [
           "Murtosa",
           "16D0112",
           4581
          ],
          [
           "Oliveira do Bairro",
           "16D0114",
           11177
          ],
          [
           "Ovar",
           "16D0115",
           26709
          ],
          [
           "Sever do Vouga",
           "16D0117",
           4842
          ],
          [
           "Vagos",
           "16D0118",
           10854
          ],
          [
           "Arganil",
           "16E0601",
           4314
          ],
          [
           "Cantanhede",
           "16E0602",
           14753
          ],
          [
           "Coimbra",
           "16E0603",
           67677
          ],
          [
           "Condeixa-a-Nova",
           "16E0604",
           8013
          ],
          [
           "Figueira da Foz",
           "16E0605",
           25558
          ],
          [
           "Góis",
           "16E0606",
           1384
          ],
          [
           "Lousã",
           "16E0607",
           7830
          ],
          [
           "Mealhada",
           "16E0111",
           9148
          ],
          [
           "Mira",
           "16E0608",
           5176
          ],
          [
           "Miranda do Corvo",
           "16E0609",
           5380
          ],
          [
           "Montemor-o-Velho",
           "16E0610",
           11308
          ],
          [
           "Mortágua",
           "16E1808",
           3675
          ],
          [
           "Oliveira do Hospital",
           "16E0611",
           8344
          ],
          [
           "Pampilhosa da Serra",
           "16E0612",
           1270
          ],
          [
           "Penacova",
           "16E0613",
           5576
          ],
          [
           "Penela",
           "16E0614",
           2250
          ],
          [
           "Soure",
           "16E0615",
           7033
          ],
          [
           "Tábua",
           "16E0616",
           4617
          ],
          [
           "Vila Nova de Poiares",
           "16E0617",
           3117
          ],
          [
           "Alvaiázere",
           "16F1002",
           2296
          ],
          [
           "Ansião",
           "16F1003",
           4779
          ],
          [
           "Batalha",
           "16F1004",
           7511
          ],
          [
           "Castanheira de Pêra",
           "16F1007",
           944
          ],
          [
           "Figueiró dos Vinhos",
           "16F1008",
           2047
          ],
          [
           "Leiria",
           "16F1009",
           63151
          ],
          [
           "Marinha Grande",
           "16F1010",
           18291
          ],
          [
           "Pedrógão Grande",
           "16F1013",
           1232
          ],
          [
           "Pombal",
           "16F1015",
           21996
          ],
          [
           "Porto de Mós",
           "16F1016",
           10978
          ],
          [
           "Aguiar da Beira",
           "16G0901",
           1817
          ],
          [
           "Carregal do Sal",
           "16G1802",
           3612
          ],
          [
           "Castro Daire",
           "16G1803",
           4865
          ],
          [
           "Mangualde",
           "16G1806",
           7585
          ],
          [
           "Nelas",
           "16G1809",
           5373
          ],
          [
           "Oliveira de Frades",
           "16G1810",
           4445
          ],
          [
           "Penalva do Castelo",
           "16G1811",
           2629
          ],
          [
           "Santa Comba Dão",
           "16G1814",
           4271
          ],
          [
           "São Pedro do Sul",
           "16G1816",
           5950
          ],
          [
           "Sátão",
           "16G1817",
           4390
          ],
          [
           "Tondela",
           "16G1821",
           10840
          ],
          [
           "Vila Nova de Paiva",
           "16G1822",
           1804
          ],
          [
           "Viseu",
           "16G1823",
           45845
          ],
          [
           "Vouzela",
           "16G1824",
           4019
          ],
          [
           "Castelo Branco",
           "16H0502",
           22944
          ],
          [
           "Idanha-a-Nova",
           "16H0505",
           2575
          ],
          [
           "Oleiros",
           "16H0506",
           1640
          ],
          [
           "Penamacor",
           "16H0507",
           1523
          ],
          [
           "Proença-a-Nova",
           "16H0508",
           2641
          ],
          [
           "Vila Velha de Ródão",
           "16H0511",
           1049
          ],
          [
           "Abrantes",
           "16I1401",
           13804
          ],
          [
           "Alcanena",
           "16I1402",
           5482
          ],
          [
           "Constância",
           "16I1408",
           1624
          ],
          [
           "Entroncamento",
           "16I1410",
           9294
          ],
          [
           "Ferreira do Zêzere",
           "16I1411",
           3048
          ],
          [
           "Mação",
           "16I1413",
           2339
          ],
          [
           "Ourém",
           "16I1421",
           19917
          ],
          [
           "Sardoal",
           "16I1417",
           1399
          ],
          [
           "Sertã",
           "16I0509",
           5872
          ],
          [
           "Tomar",
           "16I1418",
           14649
          ],
          [
           "Torres Novas",
           "16I1419",
           14819
          ],
          [
           "Vila de Rei",
           "16I0510",
           1170
          ],
          [
           "Vila Nova da Barquinha",
           "16I1420",
           2931
          ],
          [
           "Almeida",
           "16J0902",
           2006
          ],
          [
           "Belmonte",
           "16J0501",
           2516
          ],
          [
           "Celorico da Beira",
           "16J0903",
           2635
          ],
          [
           "Covilhã",
           "16J0503",
           19640
          ],
          [
           "Figueira de Castelo Rodrigo",
           "16J0904",
           1947
          ],
          [
           "Fornos de Algodres",
           "16J0905",
           1675
          ],
          [
           "Fundão",
           "16J0504",
           10751
          ],
          [
           "Gouveia",
           "16J0906",
           4328
          ],
          [
           "Guarda",
           "16J0907",
           18678
          ],
          [
           "Manteigas",
           "16J0908",
           1086
          ],
          [
           "Mêda",
           "16J0909",
           1678
          ],
          [
           "Pinhel",
           "16J0910",
           3082
          ],
          [
           "Sabugal",
           "16J0911",
           3683
          ],
          [
           "Seia",
           "16J0912",
           8492
          ],
          [
           "Trancoso",
           "16J0913",
           3194
          ],
          [
           "Alcochete",
           "1701502",
           9402
          ],
          [
           "Almada",
           "1701503",
           81707
          ],
          [
           "Amadora",
           "1701115",
           82524
          ],
          [
           "Barreiro",
           "1701504",
           35353
          ],
          [
           "Cascais",
           "1701105",
           98194
          ],
          [
           "Lisboa",
           "1701106",
           262214
          ],
          [
           "Loures",
           "1701107",
           96334
          ],
          [
           "Mafra",
           "1701109",
           43042
          ],
          [
           "Moita",
           "1701506",
           30072
          ],
          [
           "Montijo",
           "1701507",
           27473
          ],
          [
           "Odivelas",
           "1701116",
           72263
          ],
          [
           "Oeiras",
           "1701110",
           81256
          ],
          [
           "Palmela",
           "1701508",
           32709
          ],
          [
           "Seixal",
           "1701510",
           79152
          ],
          [
           "Sesimbra",
           "1701511",
           24949
          ],
          [
           "Setúbal",
           "1701512",
           56516
          ],
          [
           "Sintra",
           "1701111",
           194838
          ],
          [
           "Vila Franca de Xira",
           "1701114",
           69768
          ],
          [
           "Alcácer do Sal",
           "1811501",
           4860
          ],
          [
           "Grândola",
           "1811505",
           6059
          ],
          [
           "Odemira",
           "1810211",
           15086
          ],
          [
           "Santiago do Cacém",
           "1811509",
           12412
          ],
          [
           "Sines",
           "1811513",
           6829
          ],
          [
           "Aljustrel",
           "1840201",
           3776
          ],
          [
           "Almodôvar",
           "1840202",
           2766
          ],
          [
           "Alvito",
           "1840203",
           940
          ],
          [
           "Barrancos",
           "1840204",
           622
          ],
          [
           "Beja",
           "1840205",
           15290
          ],
          [
           "Castro Verde",
           "1840206",
           3067
          ],
          [
           "Cuba",
           "1840207",
           1940
          ],
          [
           "Ferreira do Alentejo",
           "1840208",
           3517
          ],
          [
           "Mértola",
           "1840209",
           2383
          ],
          [
           "Moura",
           "1840210",
           5537
          ],
          [
           "Ourique",
           "1840212",
           2035
          ],
          [
           "Serpa",
           "1840213",
           5845
          ],
          [
           "Vidigueira",
           "1840214",
           2239
          ],
          [
           "Almeirim",
           "1851403",
           9757
          ],
          [
           "Alpiarça",
           "1851404",
           2954
          ],
          [
           "Azambuja",
           "1851103",
           9618
          ],
          [
           "Benavente",
           "1851405",
           14354
          ],
          [
           "Cartaxo",
           "1851406",
           10526
          ],
          [
           "Chamusca",
           "1851407",
           3613
          ],
          [
           "Coruche",
           "1851409",
           7021
          ],
          [
           "Golegã",
           "1851412",
           2335
          ],
          [
           "Rio Maior",
           "1851414",
           9770
          ],
          [
           "Salvaterra de Magos",
           "1851415",
           9301
          ],
          [
           "Santarém",
           "1851416",
           26217
          ],
          [
           "Alter do Chão",
           "1861201",
           1116
          ],
          [
           "Arronches",
           "1861202",
           1199
          ],
          [
           "Avis",
           "1861203",
           1551
          ],
          [
           "Campo Maior",
           "1861204",
           3601
          ],
          [
           "Castelo de Vide",
           "1861205",
           1281
          ],
          [
           "Crato",
           "1861206",
           1210
          ],
          [
           "Elvas",
           "1861207",
           9044
          ],
          [
           "Fronteira",
           "1861208",
           1163
          ],
          [
           "Gavião",
           "1861209",
           1167
          ],
          [
           "Marvão",
           "1861210",
           1200
          ],
          [
           "Monforte",
           "1861211",
           1139
          ],
          [
           "Nisa",
           "1861212",
           2228
          ],
          [
           "Ponte de Sor",
           "1861213",
           6428
          ],
          [
           "Portalegre",
           "1861214",
           9948
          ],
          [
           "Sousel",
           "1861215",
           1778
          ],
          [
           "Alandroal",
           "1870701",
           2115
          ],
          [
           "Arraiolos",
           "1870702",
           3101
          ],
          [
           "Borba",
           "1870703",
           2635
          ],
          [
           "Estremoz",
           "1870704",
           5639
          ],
          [
           "Évora",
           "1870705",
           25767
          ],
          [
           "Montemor-o-Novo",
           "1870706",
           7081
          ],
          [
           "Mora",
           "1870707",
           1641
          ],
          [
           "Mourão",
           "1870708",
           964
          ],
          [
           "Portel",
           "1870709",
           2505
          ],
          [
           "Redondo",
           "1870710",
           2863
          ],
          [
           "Reguengos de Monsaraz",
           "1870711",
           4292
          ],
          [
           "Vendas Novas",
           "1870712",
           4879
          ],
          [
           "Viana do Alentejo",
           "1870713",
           2420
          ],
          [
           "Vila Viçosa",
           "1870714",
           3291
          ],
          [
           "Albufeira",
           "1500801",
           21748
          ],
          [
           "Alcoutim",
           "1500802",
           841
          ],
          [
           "Aljezur",
           "1500803",
           2516
          ],
          [
           "Castro Marim",
           "1500804",
           2589
          ],
          [
           "Faro",
           "1500805",
           33049
          ],
          [
           "Lagoa",
           "2004201",
           10477
          ],
          [
           "Lagos",
           "1500807",
           14634
          ],
          [
           "Loulé",
           "1500808",
           33863
          ],
          [
           "Monchique",
           "1500809",
           2146
          ],
          [
           "Olhão",
           "1500810",
           20352
          ],
          [
           "Portimão",
           "1500811",
           27442
          ],
          [
           "São Brás de Alportel",
           "1500812",
           5081
          ],
          [
           "Silves",
           "1500813",
           16848
          ],
          [
           "Tavira",
           "1500814",
           11412
          ],
          [
           "Vila do Bispo",
           "1500815",
           2352
          ],
          [
           "Vila Real de Santo António",
           "1500816",
           7961
          ],
          [
           "Angra do Heroísmo",
           "2004301",
           16426
          ],
          [
           "Calheta",
           "3003101",
           1600
          ],
          [
           "Corvo",
           "2004901",
           229
          ],
          [
           "Horta",
           "2004701",
           7159
          ],
          [
           "Lagoa",
           "2004201",
           6719
          ],
          [
           "Lajes das Flores",
           "2004801",
           709
          ],
          [
           "Lajes do Pico",
           "2004601",
           1955
          ],
          [
           "Madalena",
           "2004602",
           3055
          ],
          [
           "Nordeste",
           "2004202",
           1924
          ],
          [
           "Ponta Delgada",
           "2004203",
           33194
          ],
          [
           "Povoação",
           "2004204",
           2704
          ],
          [
           "Ribeira Grande",
           "2004205",
           14228
          ],
          [
           "Santa Cruz da Graciosa",
           "2004401",
           1954
          ],
          [
           "Santa Cruz das Flores",
           "2004802",
           1033
          ],
          [
           "São Roque do Pico",
           "2004603",
           1492
          ],
          [
           "Velas",
           "2004502",
           2406
          ],
          [
           "Vila da Praia da Vitória",
           "2004302",
           9100
          ],
          [
           "Vila do Porto",
           "2004101",
           2658
          ],
          [
           "Vila Franca do Campo",
           "2004206",
           4621
          ],
          [
           "Calheta",
           "3003101",
           4244
          ],
          [
           "Câmara de Lobos",
           "3003102",
           14514
          ],
          [
           "Funchal",
           "3003103",
           49109
          ],
          [
           "Machico",
           "3003104",
           8532
          ],
          [
           "Ponta do Sol",
           "3003105",
           3523
          ],
          [
           "Porto Moniz",
           "3003106",
           1008
          ],
          [
           "Porto Santo",
           "3003201",
           2492
          ],
          [
           "Ribeira Brava",
           "3003107",
           5279
          ],
          [
           "Santa Cruz",
           "3003108",
           21295
          ],
          [
           "Santana",
           "3003109",
           2552
          ],
          [
           "São Vicente",
           "3003110",
           1904
          ]
         ],
         "hovertemplate": "valor=%{x}<br>y=%{y}<br>local=%{customdata[0]}<br>codigo=%{customdata[1]}<br>HM=%{customdata[2]}<br>populacao_ativa=%{marker.color}<extra></extra>",
         "legendgroup": "",
         "marker": {
          "color": {
           "bdata": "AAAAAAAAAAABAAABAQAAAAAAAQAAAAEAAAABAQEAAQEAAQAAAAABAQIAAAAAAAAAAAAAAAAAAAAAAAAAAAAAAAAAAAAAAAAAAAAAAAAAAAAAAAAAAAAAAAAAAAAAAAAAAAEAAAABAAAAAAAAAAAAAQAAAAAAAAAAAAAAAAAAAAAAAAAAAAEAAAAAAAAAAAAAAAAAAAAAAQAAAAAAAAAAAAAAAAAAAAAAAAAAAAAAAAAAAAAAAAAAAAAAAAEBAAECAQEAAAEBAAEAAQIBAAAAAAAAAAAAAAAAAAAAAAAAAAAAAAAAAAAAAAAAAAAAAAAAAAAAAAAAAAAAAAAAAAAAAAAAAAAAAAAAAAAAAAAAAAAAAAAAAAAAAAAAAAAAAAAAAAAAAAAAAAAAAAABAAAAAAAAAAA=",
           "dtype": "i1"
          },
          "coloraxis": "coloraxis",
          "size": 10,
          "symbol": "circle"
         },
         "mode": "markers",
         "name": "",
         "orientation": "v",
         "showlegend": false,
         "type": "scatter",
         "x": {
          "bdata": "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",
          "dtype": "f8"
         },
         "xaxis": "x",
         "y": {
          "bdata": "AAAAAAAAAAAAAAAAAAAAAAAAAAAAAAAAAAAAAAAAAAAAAAAAAAAAAAAAAAAAAAAAAAAAAAAAAAAAAAAAAAAAAAAAAAAAAAAAAAAAAAAAAAAAAAAAAAAAAAAAAAAAAAAAAAAAAAAAAAAAAAAAAAAAAAAAAAAAAAAAAAAAAAAAAAAAAAAAAAAAAAAAAAAAAAAAAAAAAAAAAAAAAAAAAAAAAAAAAAAAAAAAAAAAAAAAAAAAAAAAAAAAAAAAAAAAAAAAAAAAAAAAAAAAAAAAAAAAAAAAAAAAAAAAAAAAAAAAAAAAAAAAAAAAAAAAAAAAAAAAAAAAAAAAAAAAAAAAAAAAAAAAAAAAAAAAAAAAAAAAAAAAAAAAAAAAAAAAAAAAAAAAAAAAAAAAAAAAAAAAAAAAAAAAAAA=",
          "dtype": "i1"
         },
         "yaxis": "y"
        }
       ],
       "layout": {
        "coloraxis": {
         "colorbar": {
          "title": {
           "text": "populacao_ativa"
          }
         },
         "colorscale": [
          [
           0,
           "#440154"
          ],
          [
           0.1111111111111111,
           "#482878"
          ],
          [
           0.2222222222222222,
           "#3e4989"
          ],
          [
           0.3333333333333333,
           "#31688e"
          ],
          [
           0.4444444444444444,
           "#26828e"
          ],
          [
           0.5555555555555556,
           "#1f9e89"
          ],
          [
           0.6666666666666666,
           "#35b779"
          ],
          [
           0.7777777777777778,
           "#6ece58"
          ],
          [
           0.8888888888888888,
           "#b5de2b"
          ],
          [
           1,
           "#fde725"
          ]
         ]
        },
        "height": 300,
        "legend": {
         "tracegroupgap": 0
        },
        "margin": {
         "t": 60
        },
        "template": {
         "data": {
          "bar": [
           {
            "error_x": {
             "color": "#2a3f5f"
            },
            "error_y": {
             "color": "#2a3f5f"
            },
            "marker": {
             "line": {
              "color": "#E5ECF6",
              "width": 0.5
             },
             "pattern": {
              "fillmode": "overlay",
              "size": 10,
              "solidity": 0.2
             }
            },
            "type": "bar"
           }
          ],
          "barpolar": [
           {
            "marker": {
             "line": {
              "color": "#E5ECF6",
              "width": 0.5
             },
             "pattern": {
              "fillmode": "overlay",
              "size": 10,
              "solidity": 0.2
             }
            },
            "type": "barpolar"
           }
          ],
          "carpet": [
           {
            "aaxis": {
             "endlinecolor": "#2a3f5f",
             "gridcolor": "white",
             "linecolor": "white",
             "minorgridcolor": "white",
             "startlinecolor": "#2a3f5f"
            },
            "baxis": {
             "endlinecolor": "#2a3f5f",
             "gridcolor": "white",
             "linecolor": "white",
             "minorgridcolor": "white",
             "startlinecolor": "#2a3f5f"
            },
            "type": "carpet"
           }
          ],
          "choropleth": [
           {
            "colorbar": {
             "outlinewidth": 0,
             "ticks": ""
            },
            "type": "choropleth"
           }
          ],
          "contour": [
           {
            "colorbar": {
             "outlinewidth": 0,
             "ticks": ""
            },
            "colorscale": [
             [
              0,
              "#0d0887"
             ],
             [
              0.1111111111111111,
              "#46039f"
             ],
             [
              0.2222222222222222,
              "#7201a8"
             ],
             [
              0.3333333333333333,
              "#9c179e"
             ],
             [
              0.4444444444444444,
              "#bd3786"
             ],
             [
              0.5555555555555556,
              "#d8576b"
             ],
             [
              0.6666666666666666,
              "#ed7953"
             ],
             [
              0.7777777777777778,
              "#fb9f3a"
             ],
             [
              0.8888888888888888,
              "#fdca26"
             ],
             [
              1,
              "#f0f921"
             ]
            ],
            "type": "contour"
           }
          ],
          "contourcarpet": [
           {
            "colorbar": {
             "outlinewidth": 0,
             "ticks": ""
            },
            "type": "contourcarpet"
           }
          ],
          "heatmap": [
           {
            "colorbar": {
             "outlinewidth": 0,
             "ticks": ""
            },
            "colorscale": [
             [
              0,
              "#0d0887"
             ],
             [
              0.1111111111111111,
              "#46039f"
             ],
             [
              0.2222222222222222,
              "#7201a8"
             ],
             [
              0.3333333333333333,
              "#9c179e"
             ],
             [
              0.4444444444444444,
              "#bd3786"
             ],
             [
              0.5555555555555556,
              "#d8576b"
             ],
             [
              0.6666666666666666,
              "#ed7953"
             ],
             [
              0.7777777777777778,
              "#fb9f3a"
             ],
             [
              0.8888888888888888,
              "#fdca26"
             ],
             [
              1,
              "#f0f921"
             ]
            ],
            "type": "heatmap"
           }
          ],
          "histogram": [
           {
            "marker": {
             "pattern": {
              "fillmode": "overlay",
              "size": 10,
              "solidity": 0.2
             }
            },
            "type": "histogram"
           }
          ],
          "histogram2d": [
           {
            "colorbar": {
             "outlinewidth": 0,
             "ticks": ""
            },
            "colorscale": [
             [
              0,
              "#0d0887"
             ],
             [
              0.1111111111111111,
              "#46039f"
             ],
             [
              0.2222222222222222,
              "#7201a8"
             ],
             [
              0.3333333333333333,
              "#9c179e"
             ],
             [
              0.4444444444444444,
              "#bd3786"
             ],
             [
              0.5555555555555556,
              "#d8576b"
             ],
             [
              0.6666666666666666,
              "#ed7953"
             ],
             [
              0.7777777777777778,
              "#fb9f3a"
             ],
             [
              0.8888888888888888,
              "#fdca26"
             ],
             [
              1,
              "#f0f921"
             ]
            ],
            "type": "histogram2d"
           }
          ],
          "histogram2dcontour": [
           {
            "colorbar": {
             "outlinewidth": 0,
             "ticks": ""
            },
            "colorscale": [
             [
              0,
              "#0d0887"
             ],
             [
              0.1111111111111111,
              "#46039f"
             ],
             [
              0.2222222222222222,
              "#7201a8"
             ],
             [
              0.3333333333333333,
              "#9c179e"
             ],
             [
              0.4444444444444444,
              "#bd3786"
             ],
             [
              0.5555555555555556,
              "#d8576b"
             ],
             [
              0.6666666666666666,
              "#ed7953"
             ],
             [
              0.7777777777777778,
              "#fb9f3a"
             ],
             [
              0.8888888888888888,
              "#fdca26"
             ],
             [
              1,
              "#f0f921"
             ]
            ],
            "type": "histogram2dcontour"
           }
          ],
          "mesh3d": [
           {
            "colorbar": {
             "outlinewidth": 0,
             "ticks": ""
            },
            "type": "mesh3d"
           }
          ],
          "parcoords": [
           {
            "line": {
             "colorbar": {
              "outlinewidth": 0,
              "ticks": ""
             }
            },
            "type": "parcoords"
           }
          ],
          "pie": [
           {
            "automargin": true,
            "type": "pie"
           }
          ],
          "scatter": [
           {
            "fillpattern": {
             "fillmode": "overlay",
             "size": 10,
             "solidity": 0.2
            },
            "type": "scatter"
           }
          ],
          "scatter3d": [
           {
            "line": {
             "colorbar": {
              "outlinewidth": 0,
              "ticks": ""
             }
            },
            "marker": {
             "colorbar": {
              "outlinewidth": 0,
              "ticks": ""
             }
            },
            "type": "scatter3d"
           }
          ],
          "scattercarpet": [
           {
            "marker": {
             "colorbar": {
              "outlinewidth": 0,
              "ticks": ""
             }
            },
            "type": "scattercarpet"
           }
          ],
          "scattergeo": [
           {
            "marker": {
             "colorbar": {
              "outlinewidth": 0,
              "ticks": ""
             }
            },
            "type": "scattergeo"
           }
          ],
          "scattergl": [
           {
            "marker": {
             "colorbar": {
              "outlinewidth": 0,
              "ticks": ""
             }
            },
            "type": "scattergl"
           }
          ],
          "scattermap": [
           {
            "marker": {
             "colorbar": {
              "outlinewidth": 0,
              "ticks": ""
             }
            },
            "type": "scattermap"
           }
          ],
          "scattermapbox": [
           {
            "marker": {
             "colorbar": {
              "outlinewidth": 0,
              "ticks": ""
             }
            },
            "type": "scattermapbox"
           }
          ],
          "scatterpolar": [
           {
            "marker": {
             "colorbar": {
              "outlinewidth": 0,
              "ticks": ""
             }
            },
            "type": "scatterpolar"
           }
          ],
          "scatterpolargl": [
           {
            "marker": {
             "colorbar": {
              "outlinewidth": 0,
              "ticks": ""
             }
            },
            "type": "scatterpolargl"
           }
          ],
          "scatterternary": [
           {
            "marker": {
             "colorbar": {
              "outlinewidth": 0,
              "ticks": ""
             }
            },
            "type": "scatterternary"
           }
          ],
          "surface": [
           {
            "colorbar": {
             "outlinewidth": 0,
             "ticks": ""
            },
            "colorscale": [
             [
              0,
              "#0d0887"
             ],
             [
              0.1111111111111111,
              "#46039f"
             ],
             [
              0.2222222222222222,
              "#7201a8"
             ],
             [
              0.3333333333333333,
              "#9c179e"
             ],
             [
              0.4444444444444444,
              "#bd3786"
             ],
             [
              0.5555555555555556,
              "#d8576b"
             ],
             [
              0.6666666666666666,
              "#ed7953"
             ],
             [
              0.7777777777777778,
              "#fb9f3a"
             ],
             [
              0.8888888888888888,
              "#fdca26"
             ],
             [
              1,
              "#f0f921"
             ]
            ],
            "type": "surface"
           }
          ],
          "table": [
           {
            "cells": {
             "fill": {
              "color": "#EBF0F8"
             },
             "line": {
              "color": "white"
             }
            },
            "header": {
             "fill": {
              "color": "#C8D4E3"
             },
             "line": {
              "color": "white"
             }
            },
            "type": "table"
           }
          ]
         },
         "layout": {
          "annotationdefaults": {
           "arrowcolor": "#2a3f5f",
           "arrowhead": 0,
           "arrowwidth": 1
          },
          "autotypenumbers": "strict",
          "coloraxis": {
           "colorbar": {
            "outlinewidth": 0,
            "ticks": ""
           }
          },
          "colorscale": {
           "diverging": [
            [
             0,
             "#8e0152"
            ],
            [
             0.1,
             "#c51b7d"
            ],
            [
             0.2,
             "#de77ae"
            ],
            [
             0.3,
             "#f1b6da"
            ],
            [
             0.4,
             "#fde0ef"
            ],
            [
             0.5,
             "#f7f7f7"
            ],
            [
             0.6,
             "#e6f5d0"
            ],
            [
             0.7,
             "#b8e186"
            ],
            [
             0.8,
             "#7fbc41"
            ],
            [
             0.9,
             "#4d9221"
            ],
            [
             1,
             "#276419"
            ]
           ],
           "sequential": [
            [
             0,
             "#0d0887"
            ],
            [
             0.1111111111111111,
             "#46039f"
            ],
            [
             0.2222222222222222,
             "#7201a8"
            ],
            [
             0.3333333333333333,
             "#9c179e"
            ],
            [
             0.4444444444444444,
             "#bd3786"
            ],
            [
             0.5555555555555556,
             "#d8576b"
            ],
            [
             0.6666666666666666,
             "#ed7953"
            ],
            [
             0.7777777777777778,
             "#fb9f3a"
            ],
            [
             0.8888888888888888,
             "#fdca26"
            ],
            [
             1,
             "#f0f921"
            ]
           ],
           "sequentialminus": [
            [
             0,
             "#0d0887"
            ],
            [
             0.1111111111111111,
             "#46039f"
            ],
            [
             0.2222222222222222,
             "#7201a8"
            ],
            [
             0.3333333333333333,
             "#9c179e"
            ],
            [
             0.4444444444444444,
             "#bd3786"
            ],
            [
             0.5555555555555556,
             "#d8576b"
            ],
            [
             0.6666666666666666,
             "#ed7953"
            ],
            [
             0.7777777777777778,
             "#fb9f3a"
            ],
            [
             0.8888888888888888,
             "#fdca26"
            ],
            [
             1,
             "#f0f921"
            ]
           ]
          },
          "colorway": [
           "#636efa",
           "#EF553B",
           "#00cc96",
           "#ab63fa",
           "#FFA15A",
           "#19d3f3",
           "#FF6692",
           "#B6E880",
           "#FF97FF",
           "#FECB52"
          ],
          "font": {
           "color": "#2a3f5f"
          },
          "geo": {
           "bgcolor": "white",
           "lakecolor": "white",
           "landcolor": "#E5ECF6",
           "showlakes": true,
           "showland": true,
           "subunitcolor": "white"
          },
          "hoverlabel": {
           "align": "left"
          },
          "hovermode": "closest",
          "mapbox": {
           "style": "light"
          },
          "paper_bgcolor": "white",
          "plot_bgcolor": "#E5ECF6",
          "polar": {
           "angularaxis": {
            "gridcolor": "white",
            "linecolor": "white",
            "ticks": ""
           },
           "bgcolor": "#E5ECF6",
           "radialaxis": {
            "gridcolor": "white",
            "linecolor": "white",
            "ticks": ""
           }
          },
          "scene": {
           "xaxis": {
            "backgroundcolor": "#E5ECF6",
            "gridcolor": "white",
            "gridwidth": 2,
            "linecolor": "white",
            "showbackground": true,
            "ticks": "",
            "zerolinecolor": "white"
           },
           "yaxis": {
            "backgroundcolor": "#E5ECF6",
            "gridcolor": "white",
            "gridwidth": 2,
            "linecolor": "white",
            "showbackground": true,
            "ticks": "",
            "zerolinecolor": "white"
           },
           "zaxis": {
            "backgroundcolor": "#E5ECF6",
            "gridcolor": "white",
            "gridwidth": 2,
            "linecolor": "white",
            "showbackground": true,
            "ticks": "",
            "zerolinecolor": "white"
           }
          },
          "shapedefaults": {
           "line": {
            "color": "#2a3f5f"
           }
          },
          "ternary": {
           "aaxis": {
            "gridcolor": "white",
            "linecolor": "white",
            "ticks": ""
           },
           "baxis": {
            "gridcolor": "white",
            "linecolor": "white",
            "ticks": ""
           },
           "bgcolor": "#E5ECF6",
           "caxis": {
            "gridcolor": "white",
            "linecolor": "white",
            "ticks": ""
           }
          },
          "title": {
           "x": 0.05
          },
          "xaxis": {
           "automargin": true,
           "gridcolor": "white",
           "linecolor": "white",
           "ticks": "",
           "title": {
            "standoff": 15
           },
           "zerolinecolor": "white",
           "zerolinewidth": 2
          },
          "yaxis": {
           "automargin": true,
           "gridcolor": "white",
           "linecolor": "white",
           "ticks": "",
           "title": {
            "standoff": 15
           },
           "zerolinecolor": "white",
           "zerolinewidth": 2
          }
         }
        },
        "xaxis": {
         "anchor": "y",
         "domain": [
          0,
          1
         ],
         "title": {
          "text": "HM"
         }
        },
        "yaxis": {
         "anchor": "x",
         "domain": [
          0,
          1
         ],
         "showgrid": false,
         "showticklabels": false,
         "title": {
          "text": "y"
         }
        }
       }
      }
     },
     "metadata": {},
     "output_type": "display_data"
    },
    {
     "name": "stdout",
     "output_type": "stream",
     "text": [
      "populacao_ativa\n",
      "0    276\n",
      "1     29\n",
      "2      3\n",
      "Name: count, dtype: int64\n",
      "File saved to csv_files/3_População ativa.csv\n"
     ]
    }
   ],
   "source": [
    "clustered_df = aplicar_kmeans(only_municipalities_df,3,nome_cluster='populacao_ativa')\n",
    "save_clustered_df_to_csv(clustered_df,\"csv_files/\", \"3_População ativa.csv\")"
   ]
  },
  {
   "cell_type": "markdown",
   "id": "514fa64c",
   "metadata": {},
   "source": [
    "### População residente empregada ou estudante"
   ]
  },
  {
   "cell_type": "code",
   "execution_count": 84,
   "id": "8f3bb4d8",
   "metadata": {},
   "outputs": [
    {
     "data": {
      "text/html": [
       "<div>\n",
       "<style scoped>\n",
       "    .dataframe tbody tr th:only-of-type {\n",
       "        vertical-align: middle;\n",
       "    }\n",
       "\n",
       "    .dataframe tbody tr th {\n",
       "        vertical-align: top;\n",
       "    }\n",
       "\n",
       "    .dataframe thead th {\n",
       "        text-align: right;\n",
       "    }\n",
       "</style>\n",
       "<table border=\"1\" class=\"dataframe\">\n",
       "  <thead>\n",
       "    <tr style=\"text-align: right;\">\n",
       "      <th></th>\n",
       "      <th>local</th>\n",
       "      <th>codigo</th>\n",
       "      <th>HM</th>\n",
       "    </tr>\n",
       "  </thead>\n",
       "  <tbody>\n",
       "    <tr>\n",
       "      <th>4</th>\n",
       "      <td>Arcos de Valdevez</td>\n",
       "      <td>1111601</td>\n",
       "      <td>9650.0</td>\n",
       "    </tr>\n",
       "    <tr>\n",
       "      <th>41</th>\n",
       "      <td>Caminha</td>\n",
       "      <td>1111602</td>\n",
       "      <td>8593.0</td>\n",
       "    </tr>\n",
       "    <tr>\n",
       "      <th>56</th>\n",
       "      <td>Melgaço</td>\n",
       "      <td>1111603</td>\n",
       "      <td>3243.0</td>\n",
       "    </tr>\n",
       "    <tr>\n",
       "      <th>70</th>\n",
       "      <td>Monção</td>\n",
       "      <td>1111604</td>\n",
       "      <td>8970.0</td>\n",
       "    </tr>\n",
       "    <tr>\n",
       "      <th>95</th>\n",
       "      <td>Paredes de Coura</td>\n",
       "      <td>1111605</td>\n",
       "      <td>4634.0</td>\n",
       "    </tr>\n",
       "    <tr>\n",
       "      <th>...</th>\n",
       "      <td>...</td>\n",
       "      <td>...</td>\n",
       "      <td>...</td>\n",
       "    </tr>\n",
       "    <tr>\n",
       "      <th>3412</th>\n",
       "      <td>Porto Santo</td>\n",
       "      <td>3003201</td>\n",
       "      <td>3053.0</td>\n",
       "    </tr>\n",
       "    <tr>\n",
       "      <th>3414</th>\n",
       "      <td>Ribeira Brava</td>\n",
       "      <td>3003107</td>\n",
       "      <td>6901.0</td>\n",
       "    </tr>\n",
       "    <tr>\n",
       "      <th>3419</th>\n",
       "      <td>Santa Cruz</td>\n",
       "      <td>3003108</td>\n",
       "      <td>27337.0</td>\n",
       "    </tr>\n",
       "    <tr>\n",
       "      <th>3425</th>\n",
       "      <td>Santana</td>\n",
       "      <td>3003109</td>\n",
       "      <td>3264.0</td>\n",
       "    </tr>\n",
       "    <tr>\n",
       "      <th>3432</th>\n",
       "      <td>São Vicente</td>\n",
       "      <td>3003110</td>\n",
       "      <td>2448.0</td>\n",
       "    </tr>\n",
       "  </tbody>\n",
       "</table>\n",
       "<p>308 rows × 3 columns</p>\n",
       "</div>"
      ],
      "text/plain": [
       "                  local   codigo       HM\n",
       "4     Arcos de Valdevez  1111601   9650.0\n",
       "41              Caminha  1111602   8593.0\n",
       "56              Melgaço  1111603   3243.0\n",
       "70               Monção  1111604   8970.0\n",
       "95     Paredes de Coura  1111605   4634.0\n",
       "...                 ...      ...      ...\n",
       "3412        Porto Santo  3003201   3053.0\n",
       "3414      Ribeira Brava  3003107   6901.0\n",
       "3419         Santa Cruz  3003108  27337.0\n",
       "3425            Santana  3003109   3264.0\n",
       "3432        São Vicente  3003110   2448.0\n",
       "\n",
       "[308 rows x 3 columns]"
      ]
     },
     "execution_count": 84,
     "metadata": {},
     "output_type": "execute_result"
    }
   ],
   "source": [
    "original_df = processar_ficheiro(data_path+'População residente empregada ou estudante.xls',1,padding_left=1,padding_right=4) # Removed separations between gender\n",
    "only_municipalities_df = filter_for_only_municipalities(original_df)\n",
    "only_municipalities_df\n",
    "\n"
   ]
  },
  {
   "cell_type": "code",
   "execution_count": 85,
   "id": "79d6692f",
   "metadata": {},
   "outputs": [
    {
     "data": {
      "application/vnd.plotly.v1+json": {
       "config": {
        "plotlyServerURL": "https://plot.ly"
       },
       "data": [
        {
         "customdata": [
          [
           "Arcos de Valdevez",
           "1111601",
           9650
          ],
          [
           "Caminha",
           "1111602",
           8593
          ],
          [
           "Melgaço",
           "1111603",
           3243
          ],
          [
           "Monção",
           "1111604",
           8970
          ],
          [
           "Paredes de Coura",
           "1111605",
           4634
          ],
          [
           "Ponte da Barca",
           "1111606",
           5793
          ],
          [
           "Ponte de Lima",
           "1111607",
           24332
          ],
          [
           "Valença",
           "1111608",
           7745
          ],
          [
           "Viana do Castelo",
           "1111609",
           51056
          ],
          [
           "Vila Nova de Cerveira",
           "1111610",
           5216
          ],
          [
           "Amares",
           "1120301",
           11404
          ],
          [
           "Barcelos",
           "1120302",
           75395
          ],
          [
           "Braga",
           "1120303",
           127582
          ],
          [
           "Esposende",
           "1120306",
           22760
          ],
          [
           "Terras de Bouro",
           "1120310",
           3181
          ],
          [
           "Vila Verde",
           "1120313",
           27863
          ],
          [
           "Cabeceiras de Basto",
           "1190304",
           8844
          ],
          [
           "Fafe",
           "1190307",
           28109
          ],
          [
           "Guimarães",
           "1190308",
           98842
          ],
          [
           "Mondim de Basto",
           "1191705",
           3192
          ],
          [
           "Póvoa de Lanhoso",
           "1190309",
           12446
          ],
          [
           "Vieira do Minho",
           "1190311",
           5703
          ],
          [
           "Vila Nova de Famalicão",
           "1190312",
           85383
          ],
          [
           "Vizela",
           "1190314",
           15602
          ],
          [
           "Arouca",
           "11A0104",
           12479
          ],
          [
           "Espinho",
           "11A0107",
           16754
          ],
          [
           "Gondomar",
           "11A1304",
           98043
          ],
          [
           "Maia",
           "11A1306",
           87488
          ],
          [
           "Matosinhos",
           "11A1308",
           102963
          ],
          [
           "Oliveira de Azeméis",
           "11A0113",
           41037
          ],
          [
           "Paredes",
           "11A1310",
           53972
          ],
          [
           "Porto",
           "11A1312",
           131345
          ],
          [
           "Póvoa de Varzim",
           "11A1313",
           39805
          ],
          [
           "Santa Maria da Feira",
           "11A0109",
           84514
          ],
          [
           "Santo Tirso",
           "11A1314",
           39660
          ],
          [
           "São João da Madeira",
           "11A0116",
           13671
          ],
          [
           "Trofa",
           "11A1318",
           24450
          ],
          [
           "Vale de Cambra",
           "11A0119",
           12340
          ],
          [
           "Valongo",
           "11A1315",
           58848
          ],
          [
           "Vila do Conde",
           "11A1316",
           50380
          ],
          [
           "Vila Nova de Gaia",
           "11A1317",
           181603
          ],
          [
           "Boticas",
           "11B1702",
           2260
          ],
          [
           "Chaves",
           "11B1703",
           18539
          ],
          [
           "Montalegre",
           "11B1706",
           3920
          ],
          [
           "Ribeira de Pena",
           "11B1709",
           2780
          ],
          [
           "Valpaços",
           "11B1712",
           5730
          ],
          [
           "Vila Pouca de Aguiar",
           "11B1713",
           5386
          ],
          [
           "Amarante",
           "11C1301",
           29860
          ],
          [
           "Baião",
           "11C1302",
           9156
          ],
          [
           "Castelo de Paiva",
           "11C0106",
           9145
          ],
          [
           "Celorico de Basto",
           "11C0305",
           9791
          ],
          [
           "Cinfães",
           "11C1804",
           8728
          ],
          [
           "Felgueiras",
           "11C1303",
           35855
          ],
          [
           "Lousada",
           "11C1305",
           30873
          ],
          [
           "Marco de Canaveses",
           "11C1307",
           28970
          ],
          [
           "Paços de Ferreira",
           "11C1309",
           36395
          ],
          [
           "Penafiel",
           "11C1311",
           43050
          ],
          [
           "Resende",
           "11C1813",
           4967
          ],
          [
           "Alijó",
           "11D1701",
           5092
          ],
          [
           "Armamar",
           "11D1801",
           2796
          ],
          [
           "Carrazeda de Ansiães",
           "11D0403",
           2412
          ],
          [
           "Freixo de Espada à Cinta",
           "11D0404",
           1515
          ],
          [
           "Lamego",
           "11D1805",
           13071
          ],
          [
           "Mesão Frio",
           "11D1704",
           1765
          ],
          [
           "Moimenta da Beira",
           "11D1807",
           4754
          ],
          [
           "Murça",
           "11D1707",
           2293
          ],
          [
           "Penedono",
           "11D1812",
           1347
          ],
          [
           "Peso da Régua",
           "11D1708",
           7638
          ],
          [
           "Sabrosa",
           "11D1710",
           2750
          ],
          [
           "Santa Marta de Penaguião",
           "11D1711",
           2964
          ],
          [
           "São João da Pesqueira",
           "11D1815",
           3777
          ],
          [
           "Sernancelhe",
           "11D1818",
           2666
          ],
          [
           "Tabuaço",
           "11D1819",
           2314
          ],
          [
           "Tarouca",
           "11D1820",
           3971
          ],
          [
           "Torre de Moncorvo",
           "11D0409",
           3037
          ],
          [
           "Vila Nova de Foz Côa",
           "11D0914",
           3008
          ],
          [
           "Vila Real",
           "11D1714",
           30103
          ],
          [
           "Alfândega da Fé",
           "11E0401",
           1932
          ],
          [
           "Bragança",
           "11E0402",
           19830
          ],
          [
           "Macedo de Cavaleiros",
           "11E0405",
           6985
          ],
          [
           "Miranda do Douro",
           "11E0406",
           3072
          ],
          [
           "Mirandela",
           "11E0407",
           11021
          ],
          [
           "Mogadouro",
           "11E0408",
           3835
          ],
          [
           "Vila Flor",
           "11E0410",
           2852
          ],
          [
           "Vimioso",
           "11E0411",
           1714
          ],
          [
           "Vinhais",
           "11E0412",
           2923
          ],
          [
           "Alcobaça",
           "16B1001",
           32826
          ],
          [
           "Alenquer",
           "16B1101",
           28539
          ],
          [
           "Arruda dos Vinhos",
           "16B1102",
           9488
          ],
          [
           "Bombarral",
           "16B1005",
           7220
          ],
          [
           "Cadaval",
           "16B1104",
           7298
          ],
          [
           "Caldas da Rainha",
           "16B1006",
           29837
          ],
          [
           "Lourinhã",
           "16B1108",
           15280
          ],
          [
           "Nazaré",
           "16B1011",
           8415
          ],
          [
           "Óbidos",
           "16B1012",
           6784
          ],
          [
           "Peniche",
           "16B1014",
           15080
          ],
          [
           "Sobral de Monte Agraço",
           "16B1112",
           6905
          ],
          [
           "Torres Vedras",
           "16B1113",
           52000
          ],
          [
           "Águeda",
           "16D0101",
           28289
          ],
          [
           "Albergaria-a-Velha",
           "16D0102",
           15579
          ],
          [
           "Anadia",
           "16D0103",
           16080
          ],
          [
           "Aveiro",
           "16D0105",
           52718
          ],
          [
           "Estarreja",
           "16D0108",
           15613
          ],
          [
           "Ílhavo",
           "16D0110",
           24727
          ],
          [
           "Murtosa",
           "16D0112",
           6104
          ],
          [
           "Oliveira do Bairro",
           "16D0114",
           14673
          ],
          [
           "Ovar",
           "16D0115",
           33823
          ],
          [
           "Sever do Vouga",
           "16D0117",
           6279
          ],
          [
           "Vagos",
           "16D0118",
           14119
          ],
          [
           "Arganil",
           "16E0601",
           5563
          ],
          [
           "Cantanhede",
           "16E0602",
           19128
          ],
          [
           "Coimbra",
           "16E0603",
           87685
          ],
          [
           "Condeixa-a-Nova",
           "16E0604",
           10827
          ],
          [
           "Figueira da Foz",
           "16E0605",
           32790
          ],
          [
           "Góis",
           "16E0606",
           1738
          ],
          [
           "Lousã",
           "16E0607",
           10367
          ],
          [
           "Mealhada",
           "16E0111",
           11841
          ],
          [
           "Mira",
           "16E0608",
           6715
          ],
          [
           "Miranda do Corvo",
           "16E0609",
           6998
          ],
          [
           "Montemor-o-Velho",
           "16E0610",
           14621
          ],
          [
           "Mortágua",
           "16E1808",
           4638
          ],
          [
           "Oliveira do Hospital",
           "16E0611",
           10774
          ],
          [
           "Pampilhosa da Serra",
           "16E0612",
           1600
          ],
          [
           "Penacova",
           "16E0613",
           7206
          ],
          [
           "Penela",
           "16E0614",
           2939
          ],
          [
           "Soure",
           "16E0615",
           9104
          ],
          [
           "Tábua",
           "16E0616",
           6008
          ],
          [
           "Vila Nova de Poiares",
           "16E0617",
           3982
          ],
          [
           "Alvaiázere",
           "16F1002",
           2963
          ],
          [
           "Ansião",
           "16F1003",
           6235
          ],
          [
           "Batalha",
           "16F1004",
           10026
          ],
          [
           "Castanheira de Pêra",
           "16F1007",
           1177
          ],
          [
           "Figueiró dos Vinhos",
           "16F1008",
           2541
          ],
          [
           "Leiria",
           "16F1009",
           82842
          ],
          [
           "Marinha Grande",
           "16F1010",
           23741
          ],
          [
           "Pedrógão Grande",
           "16F1013",
           1534
          ],
          [
           "Pombal",
           "16F1015",
           29100
          ],
          [
           "Porto de Mós",
           "16F1016",
           14377
          ],
          [
           "Aguiar da Beira",
           "16G0901",
           2332
          ],
          [
           "Carregal do Sal",
           "16G1802",
           4747
          ],
          [
           "Castro Daire",
           "16G1803",
           6433
          ],
          [
           "Mangualde",
           "16G1806",
           9856
          ],
          [
           "Nelas",
           "16G1809",
           7154
          ],
          [
           "Oliveira de Frades",
           "16G1810",
           5672
          ],
          [
           "Penalva do Castelo",
           "16G1811",
           3475
          ],
          [
           "Santa Comba Dão",
           "16G1814",
           5601
          ],
          [
           "São Pedro do Sul",
           "16G1816",
           7609
          ],
          [
           "Sátão",
           "16G1817",
           5783
          ],
          [
           "Tondela",
           "16G1821",
           13935
          ],
          [
           "Vila Nova de Paiva",
           "16G1822",
           2340
          ],
          [
           "Viseu",
           "16G1823",
           60635
          ],
          [
           "Vouzela",
           "16G1824",
           5033
          ],
          [
           "Castelo Branco",
           "16H0502",
           30078
          ],
          [
           "Idanha-a-Nova",
           "16H0505",
           3326
          ],
          [
           "Oleiros",
           "16H0506",
           2007
          ],
          [
           "Penamacor",
           "16H0507",
           1833
          ],
          [
           "Proença-a-Nova",
           "16H0508",
           3352
          ],
          [
           "Vila Velha de Ródão",
           "16H0511",
           1336
          ],
          [
           "Abrantes",
           "16I1401",
           17799
          ],
          [
           "Alcanena",
           "16I1402",
           7253
          ],
          [
           "Constância",
           "16I1408",
           2204
          ],
          [
           "Entroncamento",
           "16I1410",
           12584
          ],
          [
           "Ferreira do Zêzere",
           "16I1411",
           4058
          ],
          [
           "Mação",
           "16I1413",
           2922
          ],
          [
           "Ourém",
           "16I1421",
           26305
          ],
          [
           "Sardoal",
           "16I1417",
           1781
          ],
          [
           "Sertã",
           "16I0509",
           7740
          ],
          [
           "Tomar",
           "16I1418",
           19260
          ],
          [
           "Torres Novas",
           "16I1419",
           19704
          ],
          [
           "Vila de Rei",
           "16I0510",
           1558
          ],
          [
           "Vila Nova da Barquinha",
           "16I1420",
           3894
          ],
          [
           "Almeida",
           "16J0902",
           2442
          ],
          [
           "Belmonte",
           "16J0501",
           3155
          ],
          [
           "Celorico da Beira",
           "16J0903",
           3333
          ],
          [
           "Covilhã",
           "16J0503",
           25389
          ],
          [
           "Figueira de Castelo Rodrigo",
           "16J0904",
           2435
          ],
          [
           "Fornos de Algodres",
           "16J0905",
           2118
          ],
          [
           "Fundão",
           "16J0504",
           13812
          ],
          [
           "Gouveia",
           "16J0906",
           5574
          ],
          [
           "Guarda",
           "16J0907",
           24388
          ],
          [
           "Manteigas",
           "16J0908",
           1300
          ],
          [
           "Mêda",
           "16J0909",
           2157
          ],
          [
           "Pinhel",
           "16J0910",
           3904
          ],
          [
           "Sabugal",
           "16J0911",
           4593
          ],
          [
           "Seia",
           "16J0912",
           10894
          ],
          [
           "Trancoso",
           "16J0913",
           4109
          ],
          [
           "Alcochete",
           "1701502",
           12854
          ],
          [
           "Almada",
           "1701503",
           104827
          ],
          [
           "Amadora",
           "1701115",
           103656
          ],
          [
           "Barreiro",
           "1701504",
           45021
          ],
          [
           "Cascais",
           "1701105",
           132352
          ],
          [
           "Lisboa",
           "1701106",
           335005
          ],
          [
           "Loures",
           "1701107",
           124131
          ],
          [
           "Mafra",
           "1701109",
           58424
          ],
          [
           "Moita",
           "1701506",
           38614
          ],
          [
           "Montijo",
           "1701507",
           35287
          ],
          [
           "Odivelas",
           "1701116",
           93158
          ],
          [
           "Oeiras",
           "1701110",
           107960
          ],
          [
           "Palmela",
           "1701508",
           43031
          ],
          [
           "Seixal",
           "1701510",
           102264
          ],
          [
           "Sesimbra",
           "1701511",
           32887
          ],
          [
           "Setúbal",
           "1701512",
           73778
          ],
          [
           "Sintra",
           "1701111",
           249932
          ],
          [
           "Vila Franca de Xira",
           "1701114",
           90466
          ],
          [
           "Alcácer do Sal",
           "1811501",
           6232
          ],
          [
           "Grândola",
           "1811505",
           7825
          ],
          [
           "Odemira",
           "1810211",
           17857
          ],
          [
           "Santiago do Cacém",
           "1811509",
           15778
          ],
          [
           "Sines",
           "1811513",
           8730
          ],
          [
           "Aljustrel",
           "1840201",
           4809
          ],
          [
           "Almodôvar",
           "1840202",
           3517
          ],
          [
           "Alvito",
           "1840203",
           1247
          ],
          [
           "Barrancos",
           "1840204",
           783
          ],
          [
           "Beja",
           "1840205",
           20423
          ],
          [
           "Castro Verde",
           "1840206",
           3950
          ],
          [
           "Cuba",
           "1840207",
           2536
          ],
          [
           "Ferreira do Alentejo",
           "1840208",
           4360
          ],
          [
           "Mértola",
           "1840209",
           2957
          ],
          [
           "Moura",
           "1840210",
           6927
          ],
          [
           "Ourique",
           "1840212",
           2528
          ],
          [
           "Serpa",
           "1840213",
           7196
          ],
          [
           "Vidigueira",
           "1840214",
           2862
          ],
          [
           "Almeirim",
           "1851403",
           12857
          ],
          [
           "Alpiarça",
           "1851404",
           3892
          ],
          [
           "Azambuja",
           "1851103",
           12575
          ],
          [
           "Benavente",
           "1851405",
           18932
          ],
          [
           "Cartaxo",
           "1851406",
           13515
          ],
          [
           "Chamusca",
           "1851407",
           4584
          ],
          [
           "Coruche",
           "1851409",
           8990
          ],
          [
           "Golegã",
           "1851412",
           3068
          ],
          [
           "Rio Maior",
           "1851414",
           12827
          ],
          [
           "Salvaterra de Magos",
           "1851415",
           12080
          ],
          [
           "Santarém",
           "1851416",
           34788
          ],
          [
           "Alter do Chão",
           "1861201",
           1468
          ],
          [
           "Arronches",
           "1861202",
           1533
          ],
          [
           "Avis",
           "1861203",
           1925
          ],
          [
           "Campo Maior",
           "1861204",
           4828
          ],
          [
           "Castelo de Vide",
           "1861205",
           1609
          ],
          [
           "Crato",
           "1861206",
           1490
          ],
          [
           "Elvas",
           "1861207",
           11705
          ],
          [
           "Fronteira",
           "1861208",
           1506
          ],
          [
           "Gavião",
           "1861209",
           1429
          ],
          [
           "Marvão",
           "1861210",
           1501
          ],
          [
           "Monforte",
           "1861211",
           1538
          ],
          [
           "Nisa",
           "1861212",
           2733
          ],
          [
           "Ponte de Sor",
           "1861213",
           8169
          ],
          [
           "Portalegre",
           "1861214",
           13198
          ],
          [
           "Sousel",
           "1861215",
           2259
          ],
          [
           "Alandroal",
           "1870701",
           2612
          ],
          [
           "Arraiolos",
           "1870702",
           3942
          ],
          [
           "Borba",
           "1870703",
           3393
          ],
          [
           "Estremoz",
           "1870704",
           7186
          ],
          [
           "Évora",
           "1870705",
           33653
          ],
          [
           "Montemor-o-Novo",
           "1870706",
           9079
          ],
          [
           "Mora",
           "1870707",
           1997
          ],
          [
           "Mourão",
           "1870708",
           1219
          ],
          [
           "Portel",
           "1870709",
           3135
          ],
          [
           "Redondo",
           "1870710",
           3631
          ],
          [
           "Reguengos de Monsaraz",
           "1870711",
           5511
          ],
          [
           "Vendas Novas",
           "1870712",
           6422
          ],
          [
           "Viana do Alentejo",
           "1870713",
           3150
          ],
          [
           "Vila Viçosa",
           "1870714",
           4253
          ],
          [
           "Albufeira",
           "1500801",
           25043
          ],
          [
           "Alcoutim",
           "1500802",
           1043
          ],
          [
           "Aljezur",
           "1500803",
           3204
          ],
          [
           "Castro Marim",
           "1500804",
           3193
          ],
          [
           "Faro",
           "1500805",
           41663
          ],
          [
           "Lagoa",
           "2004201",
           13126
          ],
          [
           "Lagos",
           "1500807",
           18301
          ],
          [
           "Loulé",
           "1500808",
           41851
          ],
          [
           "Monchique",
           "1500809",
           2647
          ],
          [
           "Olhão",
           "1500810",
           26153
          ],
          [
           "Portimão",
           "1500811",
           34288
          ],
          [
           "São Brás de Alportel",
           "1500812",
           6556
          ],
          [
           "Silves",
           "1500813",
           21056
          ],
          [
           "Tavira",
           "1500814",
           14445
          ],
          [
           "Vila do Bispo",
           "1500815",
           2937
          ],
          [
           "Vila Real de Santo António",
           "1500816",
           10153
          ],
          [
           "Angra do Heroísmo",
           "2004301",
           21168
          ],
          [
           "Calheta",
           "3003101",
           2111
          ],
          [
           "Corvo",
           "2004901",
           280
          ],
          [
           "Horta",
           "2004701",
           9329
          ],
          [
           "Lagoa",
           "2004201",
           9135
          ],
          [
           "Lajes das Flores",
           "2004801",
           888
          ],
          [
           "Lajes do Pico",
           "2004601",
           2563
          ],
          [
           "Madalena",
           "2004602",
           3982
          ],
          [
           "Nordeste",
           "2004202",
           2515
          ],
          [
           "Ponta Delgada",
           "2004203",
           42999
          ],
          [
           "Povoação",
           "2004204",
           3448
          ],
          [
           "Ribeira Grande",
           "2004205",
           19773
          ],
          [
           "Santa Cruz da Graciosa",
           "2004401",
           2512
          ],
          [
           "Santa Cruz das Flores",
           "2004802",
           1320
          ],
          [
           "São Roque do Pico",
           "2004603",
           1924
          ],
          [
           "Velas",
           "2004502",
           3069
          ],
          [
           "Vila da Praia da Vitória",
           "2004302",
           11766
          ],
          [
           "Vila do Porto",
           "2004101",
           3520
          ],
          [
           "Vila Franca do Campo",
           "2004206",
           6091
          ],
          [
           "Calheta",
           "3003101",
           5519
          ],
          [
           "Câmara de Lobos",
           "3003102",
           18822
          ],
          [
           "Funchal",
           "3003103",
           61277
          ],
          [
           "Machico",
           "3003104",
           10925
          ],
          [
           "Ponta do Sol",
           "3003105",
           4578
          ],
          [
           "Porto Moniz",
           "3003106",
           1286
          ],
          [
           "Porto Santo",
           "3003201",
           3053
          ],
          [
           "Ribeira Brava",
           "3003107",
           6901
          ],
          [
           "Santa Cruz",
           "3003108",
           27337
          ],
          [
           "Santana",
           "3003109",
           3264
          ],
          [
           "São Vicente",
           "3003110",
           2448
          ]
         ],
         "hovertemplate": "valor=%{x}<br>y=%{y}<br>local=%{customdata[0]}<br>codigo=%{customdata[1]}<br>HM=%{customdata[2]}<br>residente_empregada_estudante=%{marker.color}<extra></extra>",
         "legendgroup": "",
         "marker": {
          "color": {
           "bdata": "AAAAAAAAAAABAAABAQAAAAAAAQAAAAEAAAABAQEAAQEAAQAAAAABAQIAAAAAAAAAAAAAAAAAAAAAAAAAAAAAAAAAAAAAAAAAAAAAAAAAAAAAAAAAAAAAAAAAAAAAAAAAAAEAAAABAAAAAAAAAAAAAQAAAAAAAAAAAAAAAAAAAAAAAAAAAAEAAAAAAAAAAAAAAAAAAAAAAQAAAAAAAAAAAAAAAAAAAAAAAAAAAAAAAAAAAAAAAAAAAAAAAAEBAAECAQEAAAEBAAEAAQIBAAAAAAAAAAAAAAAAAAAAAAAAAAAAAAAAAAAAAAAAAAAAAAAAAAAAAAAAAAAAAAAAAAAAAAAAAAAAAAAAAAAAAAAAAAAAAAAAAAAAAAAAAAAAAAAAAAAAAAAAAAAAAAABAAAAAAAAAAA=",
           "dtype": "i1"
          },
          "coloraxis": "coloraxis",
          "size": 10,
          "symbol": "circle"
         },
         "mode": "markers",
         "name": "",
         "orientation": "v",
         "showlegend": false,
         "type": "scatter",
         "x": {
          "bdata": "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",
          "dtype": "f8"
         },
         "xaxis": "x",
         "y": {
          "bdata": "AAAAAAAAAAAAAAAAAAAAAAAAAAAAAAAAAAAAAAAAAAAAAAAAAAAAAAAAAAAAAAAAAAAAAAAAAAAAAAAAAAAAAAAAAAAAAAAAAAAAAAAAAAAAAAAAAAAAAAAAAAAAAAAAAAAAAAAAAAAAAAAAAAAAAAAAAAAAAAAAAAAAAAAAAAAAAAAAAAAAAAAAAAAAAAAAAAAAAAAAAAAAAAAAAAAAAAAAAAAAAAAAAAAAAAAAAAAAAAAAAAAAAAAAAAAAAAAAAAAAAAAAAAAAAAAAAAAAAAAAAAAAAAAAAAAAAAAAAAAAAAAAAAAAAAAAAAAAAAAAAAAAAAAAAAAAAAAAAAAAAAAAAAAAAAAAAAAAAAAAAAAAAAAAAAAAAAAAAAAAAAAAAAAAAAAAAAAAAAAAAAAAAAAAAAA=",
          "dtype": "i1"
         },
         "yaxis": "y"
        }
       ],
       "layout": {
        "coloraxis": {
         "colorbar": {
          "title": {
           "text": "residente_empregada_estudante"
          }
         },
         "colorscale": [
          [
           0,
           "#440154"
          ],
          [
           0.1111111111111111,
           "#482878"
          ],
          [
           0.2222222222222222,
           "#3e4989"
          ],
          [
           0.3333333333333333,
           "#31688e"
          ],
          [
           0.4444444444444444,
           "#26828e"
          ],
          [
           0.5555555555555556,
           "#1f9e89"
          ],
          [
           0.6666666666666666,
           "#35b779"
          ],
          [
           0.7777777777777778,
           "#6ece58"
          ],
          [
           0.8888888888888888,
           "#b5de2b"
          ],
          [
           1,
           "#fde725"
          ]
         ]
        },
        "height": 300,
        "legend": {
         "tracegroupgap": 0
        },
        "margin": {
         "t": 60
        },
        "template": {
         "data": {
          "bar": [
           {
            "error_x": {
             "color": "#2a3f5f"
            },
            "error_y": {
             "color": "#2a3f5f"
            },
            "marker": {
             "line": {
              "color": "#E5ECF6",
              "width": 0.5
             },
             "pattern": {
              "fillmode": "overlay",
              "size": 10,
              "solidity": 0.2
             }
            },
            "type": "bar"
           }
          ],
          "barpolar": [
           {
            "marker": {
             "line": {
              "color": "#E5ECF6",
              "width": 0.5
             },
             "pattern": {
              "fillmode": "overlay",
              "size": 10,
              "solidity": 0.2
             }
            },
            "type": "barpolar"
           }
          ],
          "carpet": [
           {
            "aaxis": {
             "endlinecolor": "#2a3f5f",
             "gridcolor": "white",
             "linecolor": "white",
             "minorgridcolor": "white",
             "startlinecolor": "#2a3f5f"
            },
            "baxis": {
             "endlinecolor": "#2a3f5f",
             "gridcolor": "white",
             "linecolor": "white",
             "minorgridcolor": "white",
             "startlinecolor": "#2a3f5f"
            },
            "type": "carpet"
           }
          ],
          "choropleth": [
           {
            "colorbar": {
             "outlinewidth": 0,
             "ticks": ""
            },
            "type": "choropleth"
           }
          ],
          "contour": [
           {
            "colorbar": {
             "outlinewidth": 0,
             "ticks": ""
            },
            "colorscale": [
             [
              0,
              "#0d0887"
             ],
             [
              0.1111111111111111,
              "#46039f"
             ],
             [
              0.2222222222222222,
              "#7201a8"
             ],
             [
              0.3333333333333333,
              "#9c179e"
             ],
             [
              0.4444444444444444,
              "#bd3786"
             ],
             [
              0.5555555555555556,
              "#d8576b"
             ],
             [
              0.6666666666666666,
              "#ed7953"
             ],
             [
              0.7777777777777778,
              "#fb9f3a"
             ],
             [
              0.8888888888888888,
              "#fdca26"
             ],
             [
              1,
              "#f0f921"
             ]
            ],
            "type": "contour"
           }
          ],
          "contourcarpet": [
           {
            "colorbar": {
             "outlinewidth": 0,
             "ticks": ""
            },
            "type": "contourcarpet"
           }
          ],
          "heatmap": [
           {
            "colorbar": {
             "outlinewidth": 0,
             "ticks": ""
            },
            "colorscale": [
             [
              0,
              "#0d0887"
             ],
             [
              0.1111111111111111,
              "#46039f"
             ],
             [
              0.2222222222222222,
              "#7201a8"
             ],
             [
              0.3333333333333333,
              "#9c179e"
             ],
             [
              0.4444444444444444,
              "#bd3786"
             ],
             [
              0.5555555555555556,
              "#d8576b"
             ],
             [
              0.6666666666666666,
              "#ed7953"
             ],
             [
              0.7777777777777778,
              "#fb9f3a"
             ],
             [
              0.8888888888888888,
              "#fdca26"
             ],
             [
              1,
              "#f0f921"
             ]
            ],
            "type": "heatmap"
           }
          ],
          "histogram": [
           {
            "marker": {
             "pattern": {
              "fillmode": "overlay",
              "size": 10,
              "solidity": 0.2
             }
            },
            "type": "histogram"
           }
          ],
          "histogram2d": [
           {
            "colorbar": {
             "outlinewidth": 0,
             "ticks": ""
            },
            "colorscale": [
             [
              0,
              "#0d0887"
             ],
             [
              0.1111111111111111,
              "#46039f"
             ],
             [
              0.2222222222222222,
              "#7201a8"
             ],
             [
              0.3333333333333333,
              "#9c179e"
             ],
             [
              0.4444444444444444,
              "#bd3786"
             ],
             [
              0.5555555555555556,
              "#d8576b"
             ],
             [
              0.6666666666666666,
              "#ed7953"
             ],
             [
              0.7777777777777778,
              "#fb9f3a"
             ],
             [
              0.8888888888888888,
              "#fdca26"
             ],
             [
              1,
              "#f0f921"
             ]
            ],
            "type": "histogram2d"
           }
          ],
          "histogram2dcontour": [
           {
            "colorbar": {
             "outlinewidth": 0,
             "ticks": ""
            },
            "colorscale": [
             [
              0,
              "#0d0887"
             ],
             [
              0.1111111111111111,
              "#46039f"
             ],
             [
              0.2222222222222222,
              "#7201a8"
             ],
             [
              0.3333333333333333,
              "#9c179e"
             ],
             [
              0.4444444444444444,
              "#bd3786"
             ],
             [
              0.5555555555555556,
              "#d8576b"
             ],
             [
              0.6666666666666666,
              "#ed7953"
             ],
             [
              0.7777777777777778,
              "#fb9f3a"
             ],
             [
              0.8888888888888888,
              "#fdca26"
             ],
             [
              1,
              "#f0f921"
             ]
            ],
            "type": "histogram2dcontour"
           }
          ],
          "mesh3d": [
           {
            "colorbar": {
             "outlinewidth": 0,
             "ticks": ""
            },
            "type": "mesh3d"
           }
          ],
          "parcoords": [
           {
            "line": {
             "colorbar": {
              "outlinewidth": 0,
              "ticks": ""
             }
            },
            "type": "parcoords"
           }
          ],
          "pie": [
           {
            "automargin": true,
            "type": "pie"
           }
          ],
          "scatter": [
           {
            "fillpattern": {
             "fillmode": "overlay",
             "size": 10,
             "solidity": 0.2
            },
            "type": "scatter"
           }
          ],
          "scatter3d": [
           {
            "line": {
             "colorbar": {
              "outlinewidth": 0,
              "ticks": ""
             }
            },
            "marker": {
             "colorbar": {
              "outlinewidth": 0,
              "ticks": ""
             }
            },
            "type": "scatter3d"
           }
          ],
          "scattercarpet": [
           {
            "marker": {
             "colorbar": {
              "outlinewidth": 0,
              "ticks": ""
             }
            },
            "type": "scattercarpet"
           }
          ],
          "scattergeo": [
           {
            "marker": {
             "colorbar": {
              "outlinewidth": 0,
              "ticks": ""
             }
            },
            "type": "scattergeo"
           }
          ],
          "scattergl": [
           {
            "marker": {
             "colorbar": {
              "outlinewidth": 0,
              "ticks": ""
             }
            },
            "type": "scattergl"
           }
          ],
          "scattermap": [
           {
            "marker": {
             "colorbar": {
              "outlinewidth": 0,
              "ticks": ""
             }
            },
            "type": "scattermap"
           }
          ],
          "scattermapbox": [
           {
            "marker": {
             "colorbar": {
              "outlinewidth": 0,
              "ticks": ""
             }
            },
            "type": "scattermapbox"
           }
          ],
          "scatterpolar": [
           {
            "marker": {
             "colorbar": {
              "outlinewidth": 0,
              "ticks": ""
             }
            },
            "type": "scatterpolar"
           }
          ],
          "scatterpolargl": [
           {
            "marker": {
             "colorbar": {
              "outlinewidth": 0,
              "ticks": ""
             }
            },
            "type": "scatterpolargl"
           }
          ],
          "scatterternary": [
           {
            "marker": {
             "colorbar": {
              "outlinewidth": 0,
              "ticks": ""
             }
            },
            "type": "scatterternary"
           }
          ],
          "surface": [
           {
            "colorbar": {
             "outlinewidth": 0,
             "ticks": ""
            },
            "colorscale": [
             [
              0,
              "#0d0887"
             ],
             [
              0.1111111111111111,
              "#46039f"
             ],
             [
              0.2222222222222222,
              "#7201a8"
             ],
             [
              0.3333333333333333,
              "#9c179e"
             ],
             [
              0.4444444444444444,
              "#bd3786"
             ],
             [
              0.5555555555555556,
              "#d8576b"
             ],
             [
              0.6666666666666666,
              "#ed7953"
             ],
             [
              0.7777777777777778,
              "#fb9f3a"
             ],
             [
              0.8888888888888888,
              "#fdca26"
             ],
             [
              1,
              "#f0f921"
             ]
            ],
            "type": "surface"
           }
          ],
          "table": [
           {
            "cells": {
             "fill": {
              "color": "#EBF0F8"
             },
             "line": {
              "color": "white"
             }
            },
            "header": {
             "fill": {
              "color": "#C8D4E3"
             },
             "line": {
              "color": "white"
             }
            },
            "type": "table"
           }
          ]
         },
         "layout": {
          "annotationdefaults": {
           "arrowcolor": "#2a3f5f",
           "arrowhead": 0,
           "arrowwidth": 1
          },
          "autotypenumbers": "strict",
          "coloraxis": {
           "colorbar": {
            "outlinewidth": 0,
            "ticks": ""
           }
          },
          "colorscale": {
           "diverging": [
            [
             0,
             "#8e0152"
            ],
            [
             0.1,
             "#c51b7d"
            ],
            [
             0.2,
             "#de77ae"
            ],
            [
             0.3,
             "#f1b6da"
            ],
            [
             0.4,
             "#fde0ef"
            ],
            [
             0.5,
             "#f7f7f7"
            ],
            [
             0.6,
             "#e6f5d0"
            ],
            [
             0.7,
             "#b8e186"
            ],
            [
             0.8,
             "#7fbc41"
            ],
            [
             0.9,
             "#4d9221"
            ],
            [
             1,
             "#276419"
            ]
           ],
           "sequential": [
            [
             0,
             "#0d0887"
            ],
            [
             0.1111111111111111,
             "#46039f"
            ],
            [
             0.2222222222222222,
             "#7201a8"
            ],
            [
             0.3333333333333333,
             "#9c179e"
            ],
            [
             0.4444444444444444,
             "#bd3786"
            ],
            [
             0.5555555555555556,
             "#d8576b"
            ],
            [
             0.6666666666666666,
             "#ed7953"
            ],
            [
             0.7777777777777778,
             "#fb9f3a"
            ],
            [
             0.8888888888888888,
             "#fdca26"
            ],
            [
             1,
             "#f0f921"
            ]
           ],
           "sequentialminus": [
            [
             0,
             "#0d0887"
            ],
            [
             0.1111111111111111,
             "#46039f"
            ],
            [
             0.2222222222222222,
             "#7201a8"
            ],
            [
             0.3333333333333333,
             "#9c179e"
            ],
            [
             0.4444444444444444,
             "#bd3786"
            ],
            [
             0.5555555555555556,
             "#d8576b"
            ],
            [
             0.6666666666666666,
             "#ed7953"
            ],
            [
             0.7777777777777778,
             "#fb9f3a"
            ],
            [
             0.8888888888888888,
             "#fdca26"
            ],
            [
             1,
             "#f0f921"
            ]
           ]
          },
          "colorway": [
           "#636efa",
           "#EF553B",
           "#00cc96",
           "#ab63fa",
           "#FFA15A",
           "#19d3f3",
           "#FF6692",
           "#B6E880",
           "#FF97FF",
           "#FECB52"
          ],
          "font": {
           "color": "#2a3f5f"
          },
          "geo": {
           "bgcolor": "white",
           "lakecolor": "white",
           "landcolor": "#E5ECF6",
           "showlakes": true,
           "showland": true,
           "subunitcolor": "white"
          },
          "hoverlabel": {
           "align": "left"
          },
          "hovermode": "closest",
          "mapbox": {
           "style": "light"
          },
          "paper_bgcolor": "white",
          "plot_bgcolor": "#E5ECF6",
          "polar": {
           "angularaxis": {
            "gridcolor": "white",
            "linecolor": "white",
            "ticks": ""
           },
           "bgcolor": "#E5ECF6",
           "radialaxis": {
            "gridcolor": "white",
            "linecolor": "white",
            "ticks": ""
           }
          },
          "scene": {
           "xaxis": {
            "backgroundcolor": "#E5ECF6",
            "gridcolor": "white",
            "gridwidth": 2,
            "linecolor": "white",
            "showbackground": true,
            "ticks": "",
            "zerolinecolor": "white"
           },
           "yaxis": {
            "backgroundcolor": "#E5ECF6",
            "gridcolor": "white",
            "gridwidth": 2,
            "linecolor": "white",
            "showbackground": true,
            "ticks": "",
            "zerolinecolor": "white"
           },
           "zaxis": {
            "backgroundcolor": "#E5ECF6",
            "gridcolor": "white",
            "gridwidth": 2,
            "linecolor": "white",
            "showbackground": true,
            "ticks": "",
            "zerolinecolor": "white"
           }
          },
          "shapedefaults": {
           "line": {
            "color": "#2a3f5f"
           }
          },
          "ternary": {
           "aaxis": {
            "gridcolor": "white",
            "linecolor": "white",
            "ticks": ""
           },
           "baxis": {
            "gridcolor": "white",
            "linecolor": "white",
            "ticks": ""
           },
           "bgcolor": "#E5ECF6",
           "caxis": {
            "gridcolor": "white",
            "linecolor": "white",
            "ticks": ""
           }
          },
          "title": {
           "x": 0.05
          },
          "xaxis": {
           "automargin": true,
           "gridcolor": "white",
           "linecolor": "white",
           "ticks": "",
           "title": {
            "standoff": 15
           },
           "zerolinecolor": "white",
           "zerolinewidth": 2
          },
          "yaxis": {
           "automargin": true,
           "gridcolor": "white",
           "linecolor": "white",
           "ticks": "",
           "title": {
            "standoff": 15
           },
           "zerolinecolor": "white",
           "zerolinewidth": 2
          }
         }
        },
        "xaxis": {
         "anchor": "y",
         "domain": [
          0,
          1
         ],
         "title": {
          "text": "HM"
         }
        },
        "yaxis": {
         "anchor": "x",
         "domain": [
          0,
          1
         ],
         "showgrid": false,
         "showticklabels": false,
         "title": {
          "text": "y"
         }
        }
       }
      }
     },
     "metadata": {},
     "output_type": "display_data"
    },
    {
     "name": "stdout",
     "output_type": "stream",
     "text": [
      "residente_empregada_estudante\n",
      "0    276\n",
      "1     29\n",
      "2      3\n",
      "Name: count, dtype: int64\n",
      "File saved to csv_files/3_População residente empregada ou estudante.csv\n"
     ]
    }
   ],
   "source": [
    "clustered_df = aplicar_kmeans(only_municipalities_df,3,nome_cluster='residente_empregada_estudante')\n",
    "\n",
    "save_clustered_df_to_csv(clustered_df,\"csv_files/\", \"3_População residente empregada ou estudante.csv\")"
   ]
  },
  {
   "cell_type": "markdown",
   "id": "c6299af0",
   "metadata": {},
   "source": [
    "### Proporção da população empregada por conta de outrem com ensino superior"
   ]
  },
  {
   "cell_type": "code",
   "execution_count": 86,
   "id": "f7717ff6",
   "metadata": {},
   "outputs": [
    {
     "data": {
      "text/html": [
       "<div>\n",
       "<style scoped>\n",
       "    .dataframe tbody tr th:only-of-type {\n",
       "        vertical-align: middle;\n",
       "    }\n",
       "\n",
       "    .dataframe tbody tr th {\n",
       "        vertical-align: top;\n",
       "    }\n",
       "\n",
       "    .dataframe thead th {\n",
       "        text-align: right;\n",
       "    }\n",
       "</style>\n",
       "<table border=\"1\" class=\"dataframe\">\n",
       "  <thead>\n",
       "    <tr style=\"text-align: right;\">\n",
       "      <th></th>\n",
       "      <th>local</th>\n",
       "      <th>codigo</th>\n",
       "      <th>Proporção da população empregada por conta de outrem com ensino superior</th>\n",
       "    </tr>\n",
       "  </thead>\n",
       "  <tbody>\n",
       "    <tr>\n",
       "      <th>4</th>\n",
       "      <td>Arcos de Valdevez</td>\n",
       "      <td>1111601</td>\n",
       "      <td>14.7</td>\n",
       "    </tr>\n",
       "    <tr>\n",
       "      <th>5</th>\n",
       "      <td>Caminha</td>\n",
       "      <td>1111602</td>\n",
       "      <td>16.0</td>\n",
       "    </tr>\n",
       "    <tr>\n",
       "      <th>6</th>\n",
       "      <td>Melgaço</td>\n",
       "      <td>1111603</td>\n",
       "      <td>17.9</td>\n",
       "    </tr>\n",
       "    <tr>\n",
       "      <th>7</th>\n",
       "      <td>Monção</td>\n",
       "      <td>1111604</td>\n",
       "      <td>15.7</td>\n",
       "    </tr>\n",
       "    <tr>\n",
       "      <th>8</th>\n",
       "      <td>Paredes de Coura</td>\n",
       "      <td>1111605</td>\n",
       "      <td>14.9</td>\n",
       "    </tr>\n",
       "    <tr>\n",
       "      <th>...</th>\n",
       "      <td>...</td>\n",
       "      <td>...</td>\n",
       "      <td>...</td>\n",
       "    </tr>\n",
       "    <tr>\n",
       "      <th>342</th>\n",
       "      <td>Ribeira Brava</td>\n",
       "      <td>3003107</td>\n",
       "      <td>12.5</td>\n",
       "    </tr>\n",
       "    <tr>\n",
       "      <th>343</th>\n",
       "      <td>Santa Cruz</td>\n",
       "      <td>3003108</td>\n",
       "      <td>11.2</td>\n",
       "    </tr>\n",
       "    <tr>\n",
       "      <th>344</th>\n",
       "      <td>Santana</td>\n",
       "      <td>3003109</td>\n",
       "      <td>8.0</td>\n",
       "    </tr>\n",
       "    <tr>\n",
       "      <th>345</th>\n",
       "      <td>São Vicente</td>\n",
       "      <td>3003110</td>\n",
       "      <td>8.0</td>\n",
       "    </tr>\n",
       "    <tr>\n",
       "      <th>346</th>\n",
       "      <td>Porto Santo</td>\n",
       "      <td>3003201</td>\n",
       "      <td>5.9</td>\n",
       "    </tr>\n",
       "  </tbody>\n",
       "</table>\n",
       "<p>308 rows × 3 columns</p>\n",
       "</div>"
      ],
      "text/plain": [
       "                 local   codigo  \\\n",
       "4    Arcos de Valdevez  1111601   \n",
       "5              Caminha  1111602   \n",
       "6              Melgaço  1111603   \n",
       "7               Monção  1111604   \n",
       "8     Paredes de Coura  1111605   \n",
       "..                 ...      ...   \n",
       "342      Ribeira Brava  3003107   \n",
       "343         Santa Cruz  3003108   \n",
       "344            Santana  3003109   \n",
       "345        São Vicente  3003110   \n",
       "346        Porto Santo  3003201   \n",
       "\n",
       "     Proporção da população empregada por conta de outrem com ensino superior  \n",
       "4                                                 14.7                         \n",
       "5                                                 16.0                         \n",
       "6                                                 17.9                         \n",
       "7                                                 15.7                         \n",
       "8                                                 14.9                         \n",
       "..                                                 ...                         \n",
       "342                                               12.5                         \n",
       "343                                               11.2                         \n",
       "344                                                8.0                         \n",
       "345                                                8.0                         \n",
       "346                                                5.9                         \n",
       "\n",
       "[308 rows x 3 columns]"
      ]
     },
     "execution_count": 86,
     "metadata": {},
     "output_type": "execute_result"
    }
   ],
   "source": [
    "original_df = processar_ficheiro(data_path+'Proporção da população empregada por conta de outrem com ensino superior.xls',0,padding_left=0)\n",
    "only_municipalities_df = carregar_municipios(original_df)\n",
    "only_municipalities_df\n"
   ]
  },
  {
   "cell_type": "code",
   "execution_count": 87,
   "id": "6dd2b49e",
   "metadata": {},
   "outputs": [
    {
     "data": {
      "application/vnd.plotly.v1+json": {
       "config": {
        "plotlyServerURL": "https://plot.ly"
       },
       "data": [
        {
         "customdata": [
          [
           "Arcos de Valdevez",
           "1111601",
           14.7
          ],
          [
           "Caminha",
           "1111602",
           16
          ],
          [
           "Melgaço",
           "1111603",
           17.9
          ],
          [
           "Monção",
           "1111604",
           15.7
          ],
          [
           "Paredes de Coura",
           "1111605",
           14.9
          ],
          [
           "Ponte da Barca",
           "1111606",
           13.6
          ],
          [
           "Ponte de Lima",
           "1111607",
           14.8
          ],
          [
           "Valença",
           "1111608",
           12.7
          ],
          [
           "Viana do Castelo",
           "1111609",
           22.6
          ],
          [
           "Vila Nova de Cerveira",
           "1111610",
           14.6
          ],
          [
           "Amares",
           "1120301",
           12.1
          ],
          [
           "Barcelos",
           "1120302",
           14.5
          ],
          [
           "Braga",
           "1120303",
           28.8
          ],
          [
           "Esposende",
           "1120306",
           16.6
          ],
          [
           "Terras de Bouro",
           "1120310",
           13.8
          ],
          [
           "Vila Verde",
           "1120313",
           15.2
          ],
          [
           "Cabeceiras de Basto",
           "1190304",
           12.3
          ],
          [
           "Fafe",
           "1190307",
           12.3
          ],
          [
           "Guimarães",
           "1190308",
           15.5
          ],
          [
           "Mondim de Basto",
           "1191705",
           11.5
          ],
          [
           "Póvoa de Lanhoso",
           "1190309",
           13.7
          ],
          [
           "Vieira do Minho",
           "1190311",
           10
          ],
          [
           "Vila Nova de Famalicão",
           "1190312",
           16
          ],
          [
           "Vizela",
           "1190314",
           9.9
          ],
          [
           "Arouca",
           "11A0104",
           14.1
          ],
          [
           "Espinho",
           "11A0107",
           20.6
          ],
          [
           "Gondomar",
           "11A1304",
           18.4
          ],
          [
           "Maia",
           "11A1306",
           28.4
          ],
          [
           "Matosinhos",
           "11A1308",
           35.4
          ],
          [
           "Oliveira de Azeméis",
           "11A0113",
           15.3
          ],
          [
           "Paredes",
           "11A1310",
           14.5
          ],
          [
           "Porto",
           "11A1312",
           46.8
          ],
          [
           "Póvoa de Varzim",
           "11A1313",
           18.2
          ],
          [
           "Santa Maria da Feira",
           "11A0109",
           16.7
          ],
          [
           "Santo Tirso",
           "11A1314",
           15.7
          ],
          [
           "São João da Madeira",
           "11A0116",
           18.7
          ],
          [
           "Trofa",
           "11A1318",
           16.4
          ],
          [
           "Vale de Cambra",
           "11A0119",
           19.4
          ],
          [
           "Valongo",
           "11A1315",
           15.9
          ],
          [
           "Vila do Conde",
           "11A1316",
           20.1
          ],
          [
           "Vila Nova de Gaia",
           "11A1317",
           25.6
          ],
          [
           "Boticas",
           "11B1702",
           11.1
          ],
          [
           "Chaves",
           "11B1703",
           17
          ],
          [
           "Montalegre",
           "11B1706",
           16.2
          ],
          [
           "Ribeira de Pena",
           "11B1709",
           15.1
          ],
          [
           "Valpaços",
           "11B1712",
           15.9
          ],
          [
           "Vila Pouca de Aguiar",
           "11B1713",
           15
          ],
          [
           "Amarante",
           "11C1301",
           15.3
          ],
          [
           "Baião",
           "11C1302",
           10.6
          ],
          [
           "Castelo de Paiva",
           "11C0106",
           9.7
          ],
          [
           "Celorico de Basto",
           "11C0305",
           11.2
          ],
          [
           "Cinfães",
           "11C1804",
           4.9
          ],
          [
           "Felgueiras",
           "11C1303",
           8.3
          ],
          [
           "Lousada",
           "11C1305",
           8.9
          ],
          [
           "Marco de Canaveses",
           "11C1307",
           10
          ],
          [
           "Paços de Ferreira",
           "11C1309",
           10.2
          ],
          [
           "Penafiel",
           "11C1311",
           16
          ],
          [
           "Resende",
           "11C1813",
           12.2
          ],
          [
           "Alijó",
           "11D1701",
           16.1
          ],
          [
           "Armamar",
           "11D1801",
           13.4
          ],
          [
           "Carrazeda de Ansiães",
           "11D0403",
           11.5
          ],
          [
           "Freixo de Espada à Cinta",
           "11D0404",
           17.6
          ],
          [
           "Lamego",
           "11D1805",
           17.8
          ],
          [
           "Mesão Frio",
           "11D1704",
           11.5
          ],
          [
           "Moimenta da Beira",
           "11D1807",
           17.3
          ],
          [
           "Murça",
           "11D1707",
           18.5
          ],
          [
           "Penedono",
           "11D1812",
           12.3
          ],
          [
           "Peso da Régua",
           "11D1708",
           20.8
          ],
          [
           "Sabrosa",
           "11D1710",
           23.2
          ],
          [
           "Santa Marta de Penaguião",
           "11D1711",
           14.8
          ],
          [
           "São João da Pesqueira",
           "11D1815",
           15.8
          ],
          [
           "Sernancelhe",
           "11D1818",
           13.2
          ],
          [
           "Tabuaço",
           "11D1819",
           18.2
          ],
          [
           "Tarouca",
           "11D1820",
           9.7
          ],
          [
           "Torre de Moncorvo",
           "11D0409",
           16.1
          ],
          [
           "Vila Nova de Foz Côa",
           "11D0914",
           17.5
          ],
          [
           "Vila Real",
           "11D1714",
           29.5
          ],
          [
           "Alfândega da Fé",
           "11E0401",
           13.9
          ],
          [
           "Bragança",
           "11E0402",
           30.4
          ],
          [
           "Macedo de Cavaleiros",
           "11E0405",
           19.6
          ],
          [
           "Miranda do Douro",
           "11E0406",
           15.3
          ],
          [
           "Mirandela",
           "11E0407",
           23.2
          ],
          [
           "Mogadouro",
           "11E0408",
           16.9
          ],
          [
           "Vila Flor",
           "11E0410",
           18.1
          ],
          [
           "Vimioso",
           "11E0411",
           22.2
          ],
          [
           "Vinhais",
           "11E0412",
           14.2
          ],
          [
           "Águeda",
           "1910101",
           18.3
          ],
          [
           "Albergaria-a-Velha",
           "1910102",
           17.9
          ],
          [
           "Anadia",
           "1910103",
           18.3
          ],
          [
           "Aveiro",
           "1910105",
           31.3
          ],
          [
           "Estarreja",
           "1910108",
           16.3
          ],
          [
           "Ílhavo",
           "1910110",
           25.3
          ],
          [
           "Murtosa",
           "1910112",
           14.8
          ],
          [
           "Oliveira do Bairro",
           "1910114",
           19.1
          ],
          [
           "Ovar",
           "1910115",
           19.6
          ],
          [
           "Sever do Vouga",
           "1910117",
           15.8
          ],
          [
           "Vagos",
           "1910118",
           20.5
          ],
          [
           "Arganil",
           "1920601",
           10
          ],
          [
           "Cantanhede",
           "1920602",
           21.2
          ],
          [
           "Coimbra",
           "1920603",
           34.5
          ],
          [
           "Condeixa-a-Nova",
           "1920604",
           23.4
          ],
          [
           "Figueira da Foz",
           "1920605",
           19.9
          ],
          [
           "Góis",
           "1920606",
           12.2
          ],
          [
           "Lousã",
           "1920607",
           20.9
          ],
          [
           "Mealhada",
           "1920111",
           18.5
          ],
          [
           "Mira",
           "1920608",
           18.5
          ],
          [
           "Miranda do Corvo",
           "1920609",
           20.6
          ],
          [
           "Montemor-o-Velho",
           "1920610",
           15.3
          ],
          [
           "Mortágua",
           "1921808",
           26.5
          ],
          [
           "Oliveira do Hospital",
           "1920611",
           17.1
          ],
          [
           "Pampilhosa da Serra",
           "1920612",
           11.6
          ],
          [
           "Penacova",
           "1920613",
           12.2
          ],
          [
           "Penela",
           "1920614",
           20
          ],
          [
           "Soure",
           "1920615",
           16
          ],
          [
           "Tábua",
           "1920616",
           13.8
          ],
          [
           "Vila Nova de Poiares",
           "1920617",
           11.6
          ],
          [
           "Alvaiázere",
           "1931002",
           12.7
          ],
          [
           "Ansião",
           "1931003",
           13.1
          ],
          [
           "Batalha",
           "1931004",
           15.4
          ],
          [
           "Castanheira de Pêra",
           "1931007",
           12.4
          ],
          [
           "Figueiró dos Vinhos",
           "1931008",
           16.1
          ],
          [
           "Leiria",
           "1931009",
           22.9
          ],
          [
           "Marinha Grande",
           "1931010",
           20.8
          ],
          [
           "Pedrógão Grande",
           "1931013",
           20.6
          ],
          [
           "Pombal",
           "1931015",
           14.3
          ],
          [
           "Porto de Mós",
           "1931016",
           15.5
          ],
          [
           "Aguiar da Beira",
           "1940901",
           12.7
          ],
          [
           "Carregal do Sal",
           "1941802",
           23.3
          ],
          [
           "Castro Daire",
           "1941803",
           13.7
          ],
          [
           "Mangualde",
           "1941806",
           12.6
          ],
          [
           "Nelas",
           "1941809",
           16.9
          ],
          [
           "Oliveira de Frades",
           "1941810",
           19.7
          ],
          [
           "Penalva do Castelo",
           "1941811",
           11.7
          ],
          [
           "Santa Comba Dão",
           "1941814",
           17.1
          ],
          [
           "São Pedro do Sul",
           "1941816",
           12.6
          ],
          [
           "Sátão",
           "1941817",
           10.2
          ],
          [
           "Tondela",
           "1941821",
           19.7
          ],
          [
           "Vila Nova de Paiva",
           "1941822",
           13.4
          ],
          [
           "Viseu",
           "1941823",
           24.1
          ],
          [
           "Vouzela",
           "1941824",
           16.5
          ],
          [
           "Castelo Branco",
           "1950502",
           21.8
          ],
          [
           "Idanha-a-Nova",
           "1950505",
           25
          ],
          [
           "Oleiros",
           "1950506",
           10.8
          ],
          [
           "Penamacor",
           "1950507",
           12.6
          ],
          [
           "Proença-a-Nova",
           "1950508",
           18.5
          ],
          [
           "Sertã",
           "1950509",
           12.2
          ],
          [
           "Vila de Rei",
           "1950510",
           15.4
          ],
          [
           "Vila Velha de Ródão",
           "1950511",
           23.6
          ],
          [
           "Almeida",
           "1960902",
           10.8
          ],
          [
           "Belmonte",
           "1960501",
           17.6
          ],
          [
           "Celorico da Beira",
           "1960903",
           9.7
          ],
          [
           "Covilhã",
           "1960503",
           23.1
          ],
          [
           "Figueira de Castelo Rodrigo",
           "1960904",
           14.3
          ],
          [
           "Fornos de Algodres",
           "1960905",
           11.6
          ],
          [
           "Fundão",
           "1960504",
           23.5
          ],
          [
           "Gouveia",
           "1960906",
           19.1
          ],
          [
           "Guarda",
           "1960907",
           25
          ],
          [
           "Manteigas",
           "1960908",
           18.1
          ],
          [
           "Mêda",
           "1960909",
           15.7
          ],
          [
           "Pinhel",
           "1960910",
           13.7
          ],
          [
           "Sabugal",
           "1960911",
           16.4
          ],
          [
           "Seia",
           "1960912",
           15.7
          ],
          [
           "Trancoso",
           "1960913",
           17.5
          ],
          [
           "Alcobaça",
           "1D11001",
           14.5
          ],
          [
           "Alenquer",
           "1D11101",
           13.4
          ],
          [
           "Arruda dos Vinhos",
           "1D11102",
           16.9
          ],
          [
           "Bombarral",
           "1D11005",
           10.9
          ],
          [
           "Cadaval",
           "1D11104",
           13.2
          ],
          [
           "Caldas da Rainha",
           "1D11006",
           17.4
          ],
          [
           "Lourinhã",
           "1D11108",
           11.2
          ],
          [
           "Nazaré",
           "1D11011",
           14.5
          ],
          [
           "Óbidos",
           "1D11012",
           24.8
          ],
          [
           "Peniche",
           "1D11014",
           11.9
          ],
          [
           "Sobral de Monte Agraço",
           "1D11112",
           8.5
          ],
          [
           "Torres Vedras",
           "1D11113",
           15.3
          ],
          [
           "Abrantes",
           "1D21401",
           21.4
          ],
          [
           "Alcanena",
           "1D21402",
           19.2
          ],
          [
           "Constância",
           "1D21408",
           17.6
          ],
          [
           "Entroncamento",
           "1D21410",
           19.6
          ],
          [
           "Ferreira do Zêzere",
           "1D21411",
           12.1
          ],
          [
           "Mação",
           "1D21413",
           11.2
          ],
          [
           "Ourém",
           "1D21421",
           17.5
          ],
          [
           "Sardoal",
           "1D21417",
           11.5
          ],
          [
           "Tomar",
           "1D21418",
           19.5
          ],
          [
           "Torres Novas",
           "1D21419",
           19.3
          ],
          [
           "Vila Nova da Barquinha",
           "1D21420",
           12.7
          ],
          [
           "Almeirim",
           "1D31403",
           15.3
          ],
          [
           "Alpiarça",
           "1D31404",
           13.6
          ],
          [
           "Azambuja",
           "1D31103",
           12.6
          ],
          [
           "Benavente",
           "1D31405",
           13.3
          ],
          [
           "Cartaxo",
           "1D31406",
           15.9
          ],
          [
           "Chamusca",
           "1D31407",
           15.5
          ],
          [
           "Coruche",
           "1D31409",
           13.3
          ],
          [
           "Golegã",
           "1D31412",
           17.8
          ],
          [
           "Rio Maior",
           "1D31414",
           14.7
          ],
          [
           "Salvaterra de Magos",
           "1D31415",
           10.2
          ],
          [
           "Santarém",
           "1D31416",
           21.5
          ],
          [
           "Amadora",
           "1A01115",
           36.6
          ],
          [
           "Cascais",
           "1A01105",
           26.1
          ],
          [
           "Lisboa",
           "1A01106",
           47.8
          ],
          [
           "Loures",
           "1A01107",
           19.5
          ],
          [
           "Mafra",
           "1A01109",
           12.1
          ],
          [
           "Odivelas",
           "1A01116",
           14.5
          ],
          [
           "Oeiras",
           "1A01110",
           47.5
          ],
          [
           "Sintra",
           "1A01111",
           20.5
          ],
          [
           "Vila Franca de Xira",
           "1A01114",
           19.7
          ],
          [
           "Alcochete",
           "1B01502",
           17.7
          ],
          [
           "Almada",
           "1B01503",
           24.3
          ],
          [
           "Barreiro",
           "1B01504",
           18.9
          ],
          [
           "Moita",
           "1B01506",
           15.4
          ],
          [
           "Montijo",
           "1B01507",
           13.5
          ],
          [
           "Palmela",
           "1B01508",
           16.6
          ],
          [
           "Seixal",
           "1B01510",
           14.6
          ],
          [
           "Sesimbra",
           "1B01511",
           11.1
          ],
          [
           "Setúbal",
           "1B01512",
           19.4
          ],
          [
           "Alcácer do Sal",
           "1C11501",
           14.6
          ],
          [
           "Grândola",
           "1C11505",
           14.9
          ],
          [
           "Odemira",
           "1C10211",
           9
          ],
          [
           "Santiago do Cacém",
           "1C11509",
           14.9
          ],
          [
           "Sines",
           "1C11513",
           18.5
          ],
          [
           "Aljustrel",
           "1C20201",
           14.9
          ],
          [
           "Almodôvar",
           "1C20202",
           9.3
          ],
          [
           "Alvito",
           "1C20203",
           16.3
          ],
          [
           "Barrancos",
           "1C20204",
           8.9
          ],
          [
           "Beja",
           "1C20205",
           21.7
          ],
          [
           "Castro Verde",
           "1C20206",
           15.7
          ],
          [
           "Cuba",
           "1C20207",
           13.6
          ],
          [
           "Ferreira do Alentejo",
           "1C20208",
           12.7
          ],
          [
           "Mértola",
           "1C20209",
           10.9
          ],
          [
           "Moura",
           "1C20210",
           14.3
          ],
          [
           "Ourique",
           "1C20212",
           10.3
          ],
          [
           "Serpa",
           "1C20213",
           11.4
          ],
          [
           "Vidigueira",
           "1C20214",
           18.1
          ],
          [
           "Alter do Chão",
           "1C31201",
           12.9
          ],
          [
           "Arronches",
           "1C31202",
           20.9
          ],
          [
           "Avis",
           "1C31203",
           11.7
          ],
          [
           "Campo Maior",
           "1C31204",
           19.9
          ],
          [
           "Castelo de Vide",
           "1C31205",
           13
          ],
          [
           "Crato",
           "1C31206",
           10.8
          ],
          [
           "Elvas",
           "1C31207",
           30.3
          ],
          [
           "Fronteira",
           "1C31208",
           11.8
          ],
          [
           "Gavião",
           "1C31209",
           10.5
          ],
          [
           "Marvão",
           "1C31210",
           16.7
          ],
          [
           "Monforte",
           "1C31211",
           21.5
          ],
          [
           "Nisa",
           "1C31212",
           10.1
          ],
          [
           "Ponte de Sor",
           "1C31213",
           13.4
          ],
          [
           "Portalegre",
           "1C31214",
           21.6
          ],
          [
           "Sousel",
           "1C31215",
           13.4
          ],
          [
           "Alandroal",
           "1C40701",
           12
          ],
          [
           "Arraiolos",
           "1C40702",
           14.2
          ],
          [
           "Borba",
           "1C40703",
           12.1
          ],
          [
           "Estremoz",
           "1C40704",
           14.4
          ],
          [
           "Évora",
           "1C40705",
           24.3
          ],
          [
           "Montemor-o-Novo",
           "1C40706",
           16
          ],
          [
           "Mora",
           "1C40707",
           14
          ],
          [
           "Mourão",
           "1C40708",
           13.9
          ],
          [
           "Portel",
           "1C40709",
           10.7
          ],
          [
           "Redondo",
           "1C40710",
           16.2
          ],
          [
           "Reguengos de Monsaraz",
           "1C40711",
           13.5
          ],
          [
           "Vendas Novas",
           "1C40712",
           13.3
          ],
          [
           "Viana do Alentejo",
           "1C40713",
           12.4
          ],
          [
           "Vila Viçosa",
           "1C40714",
           16.4
          ],
          [
           "Albufeira",
           "1500801",
           11.9
          ],
          [
           "Alcoutim",
           "1500802",
           20.6
          ],
          [
           "Aljezur",
           "1500803",
           9.4
          ],
          [
           "Castro Marim",
           "1500804",
           11.6
          ],
          [
           "Faro",
           "1500805",
           25.3
          ],
          [
           "Lagoa",
           "1500806",
           13.6
          ],
          [
           "Lagos",
           "1500807",
           12
          ],
          [
           "Loulé",
           "1500808",
           14.3
          ],
          [
           "Monchique",
           "1500809",
           11.8
          ],
          [
           "Olhão",
           "1500810",
           14.4
          ],
          [
           "Portimão",
           "1500811",
           16.2
          ],
          [
           "São Brás de Alportel",
           "1500812",
           15.8
          ],
          [
           "Silves",
           "1500813",
           11.9
          ],
          [
           "Tavira",
           "1500814",
           12.6
          ],
          [
           "Vila do Bispo",
           "1500815",
           10.6
          ],
          [
           "Vila Real de Santo António",
           "1500816",
           9.3
          ],
          [
           "Angra do Heroísmo",
           "2004301",
           18.8
          ],
          [
           "Calheta (R.A.A.)",
           "2004501",
           9.9
          ],
          [
           "Corvo",
           "2004901",
           7.8
          ],
          [
           "Horta",
           "2004701",
           16.4
          ],
          [
           "Lagoa (R.A.A.)",
           "2004201",
           16.1
          ],
          [
           "Lajes das Flores",
           "2004801",
           5.9
          ],
          [
           "Lajes do Pico",
           "2004601",
           11
          ],
          [
           "Madalena",
           "2004602",
           10
          ],
          [
           "Nordeste",
           "2004202",
           8.6
          ],
          [
           "Ponta Delgada",
           "2004203",
           20.7
          ],
          [
           "Povoação",
           "2004204",
           7.2
          ],
          [
           "Ribeira Grande",
           "2004205",
           10.5
          ],
          [
           "Santa Cruz da Graciosa",
           "2004401",
           9.2
          ],
          [
           "Santa Cruz das Flores",
           "2004802",
           8.4
          ],
          [
           "São Roque do Pico",
           "2004603",
           12
          ],
          [
           "Velas",
           "2004502",
           10.9
          ],
          [
           "Vila da Praia da Vitória",
           "2004302",
           11.5
          ],
          [
           "Vila do Porto",
           "2004101",
           13.6
          ],
          [
           "Vila Franca do Campo",
           "2004206",
           8.3
          ],
          [
           "Calheta (R.A.M.)",
           "3003101",
           9.6
          ],
          [
           "Câmara de Lobos",
           "3003102",
           9
          ],
          [
           "Funchal",
           "3003103",
           20.5
          ],
          [
           "Machico",
           "3003104",
           14
          ],
          [
           "Ponta do Sol",
           "3003105",
           10.4
          ],
          [
           "Porto Moniz",
           "3003106",
           7.9
          ],
          [
           "Ribeira Brava",
           "3003107",
           12.5
          ],
          [
           "Santa Cruz",
           "3003108",
           11.2
          ],
          [
           "Santana",
           "3003109",
           8
          ],
          [
           "São Vicente",
           "3003110",
           8
          ],
          [
           "Porto Santo",
           "3003201",
           5.9
          ]
         ],
         "hovertemplate": "valor=%{x}<br>y=%{y}<br>local=%{customdata[0]}<br>codigo=%{customdata[1]}<br>Proporção da população empregada por conta de outrem com ensino superior=%{customdata[2]}<br>empregada_por_conta_outrem_com_ensino_superior=%{marker.color}<extra></extra>",
         "legendgroup": "",
         "marker": {
          "color": {
           "bdata": "AAABAAAAAAABAAAAAgEAAAAAAAAAAAAAAAEBAgIAAAIBAQABAAEAAQEAAQAAAAAAAAAAAAAAAAAAAAAAAAEBAAEBAAEBAAAAAQAAAQIAAgEAAQEBAQABAQECAAEAAQEAAQABAgEBAAEBAQEAAQEAAAEAAAAAAAAAAAEBAQAAAAEAAAEBAAEAAAEAAQEBAQAAAQAAAQABAAEAAAEBAQEAAAAAAQAAAQAAAQAAAQAAAAEBAQEAAAEAAQEAAAAAAAAAAAEAAAECAQIBAAACAQEBAQEAAAEAAAEAAAAAAQAAAAABAAAAAAAAAAEAAQABAAACAAABAQAAAQAAAAAAAQAAAAAAAAAAAAABAAABAAAAAAAAAAAAAAABAAAAAAAAAAABAAAAAAAAAAAAAAABAAAAAAAAAAA=",
           "dtype": "i1"
          },
          "coloraxis": "coloraxis",
          "size": 10,
          "symbol": "circle"
         },
         "mode": "markers",
         "name": "",
         "orientation": "v",
         "showlegend": false,
         "type": "scatter",
         "x": {
          "bdata": "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",
          "dtype": "f8"
         },
         "xaxis": "x",
         "y": {
          "bdata": "AAAAAAAAAAAAAAAAAAAAAAAAAAAAAAAAAAAAAAAAAAAAAAAAAAAAAAAAAAAAAAAAAAAAAAAAAAAAAAAAAAAAAAAAAAAAAAAAAAAAAAAAAAAAAAAAAAAAAAAAAAAAAAAAAAAAAAAAAAAAAAAAAAAAAAAAAAAAAAAAAAAAAAAAAAAAAAAAAAAAAAAAAAAAAAAAAAAAAAAAAAAAAAAAAAAAAAAAAAAAAAAAAAAAAAAAAAAAAAAAAAAAAAAAAAAAAAAAAAAAAAAAAAAAAAAAAAAAAAAAAAAAAAAAAAAAAAAAAAAAAAAAAAAAAAAAAAAAAAAAAAAAAAAAAAAAAAAAAAAAAAAAAAAAAAAAAAAAAAAAAAAAAAAAAAAAAAAAAAAAAAAAAAAAAAAAAAAAAAAAAAAAAAAAAAA=",
          "dtype": "i1"
         },
         "yaxis": "y"
        }
       ],
       "layout": {
        "coloraxis": {
         "colorbar": {
          "title": {
           "text": "empregada_por_conta_outrem_com_ensino_superior"
          }
         },
         "colorscale": [
          [
           0,
           "#440154"
          ],
          [
           0.1111111111111111,
           "#482878"
          ],
          [
           0.2222222222222222,
           "#3e4989"
          ],
          [
           0.3333333333333333,
           "#31688e"
          ],
          [
           0.4444444444444444,
           "#26828e"
          ],
          [
           0.5555555555555556,
           "#1f9e89"
          ],
          [
           0.6666666666666666,
           "#35b779"
          ],
          [
           0.7777777777777778,
           "#6ece58"
          ],
          [
           0.8888888888888888,
           "#b5de2b"
          ],
          [
           1,
           "#fde725"
          ]
         ]
        },
        "height": 300,
        "legend": {
         "tracegroupgap": 0
        },
        "margin": {
         "t": 60
        },
        "template": {
         "data": {
          "bar": [
           {
            "error_x": {
             "color": "#2a3f5f"
            },
            "error_y": {
             "color": "#2a3f5f"
            },
            "marker": {
             "line": {
              "color": "#E5ECF6",
              "width": 0.5
             },
             "pattern": {
              "fillmode": "overlay",
              "size": 10,
              "solidity": 0.2
             }
            },
            "type": "bar"
           }
          ],
          "barpolar": [
           {
            "marker": {
             "line": {
              "color": "#E5ECF6",
              "width": 0.5
             },
             "pattern": {
              "fillmode": "overlay",
              "size": 10,
              "solidity": 0.2
             }
            },
            "type": "barpolar"
           }
          ],
          "carpet": [
           {
            "aaxis": {
             "endlinecolor": "#2a3f5f",
             "gridcolor": "white",
             "linecolor": "white",
             "minorgridcolor": "white",
             "startlinecolor": "#2a3f5f"
            },
            "baxis": {
             "endlinecolor": "#2a3f5f",
             "gridcolor": "white",
             "linecolor": "white",
             "minorgridcolor": "white",
             "startlinecolor": "#2a3f5f"
            },
            "type": "carpet"
           }
          ],
          "choropleth": [
           {
            "colorbar": {
             "outlinewidth": 0,
             "ticks": ""
            },
            "type": "choropleth"
           }
          ],
          "contour": [
           {
            "colorbar": {
             "outlinewidth": 0,
             "ticks": ""
            },
            "colorscale": [
             [
              0,
              "#0d0887"
             ],
             [
              0.1111111111111111,
              "#46039f"
             ],
             [
              0.2222222222222222,
              "#7201a8"
             ],
             [
              0.3333333333333333,
              "#9c179e"
             ],
             [
              0.4444444444444444,
              "#bd3786"
             ],
             [
              0.5555555555555556,
              "#d8576b"
             ],
             [
              0.6666666666666666,
              "#ed7953"
             ],
             [
              0.7777777777777778,
              "#fb9f3a"
             ],
             [
              0.8888888888888888,
              "#fdca26"
             ],
             [
              1,
              "#f0f921"
             ]
            ],
            "type": "contour"
           }
          ],
          "contourcarpet": [
           {
            "colorbar": {
             "outlinewidth": 0,
             "ticks": ""
            },
            "type": "contourcarpet"
           }
          ],
          "heatmap": [
           {
            "colorbar": {
             "outlinewidth": 0,
             "ticks": ""
            },
            "colorscale": [
             [
              0,
              "#0d0887"
             ],
             [
              0.1111111111111111,
              "#46039f"
             ],
             [
              0.2222222222222222,
              "#7201a8"
             ],
             [
              0.3333333333333333,
              "#9c179e"
             ],
             [
              0.4444444444444444,
              "#bd3786"
             ],
             [
              0.5555555555555556,
              "#d8576b"
             ],
             [
              0.6666666666666666,
              "#ed7953"
             ],
             [
              0.7777777777777778,
              "#fb9f3a"
             ],
             [
              0.8888888888888888,
              "#fdca26"
             ],
             [
              1,
              "#f0f921"
             ]
            ],
            "type": "heatmap"
           }
          ],
          "histogram": [
           {
            "marker": {
             "pattern": {
              "fillmode": "overlay",
              "size": 10,
              "solidity": 0.2
             }
            },
            "type": "histogram"
           }
          ],
          "histogram2d": [
           {
            "colorbar": {
             "outlinewidth": 0,
             "ticks": ""
            },
            "colorscale": [
             [
              0,
              "#0d0887"
             ],
             [
              0.1111111111111111,
              "#46039f"
             ],
             [
              0.2222222222222222,
              "#7201a8"
             ],
             [
              0.3333333333333333,
              "#9c179e"
             ],
             [
              0.4444444444444444,
              "#bd3786"
             ],
             [
              0.5555555555555556,
              "#d8576b"
             ],
             [
              0.6666666666666666,
              "#ed7953"
             ],
             [
              0.7777777777777778,
              "#fb9f3a"
             ],
             [
              0.8888888888888888,
              "#fdca26"
             ],
             [
              1,
              "#f0f921"
             ]
            ],
            "type": "histogram2d"
           }
          ],
          "histogram2dcontour": [
           {
            "colorbar": {
             "outlinewidth": 0,
             "ticks": ""
            },
            "colorscale": [
             [
              0,
              "#0d0887"
             ],
             [
              0.1111111111111111,
              "#46039f"
             ],
             [
              0.2222222222222222,
              "#7201a8"
             ],
             [
              0.3333333333333333,
              "#9c179e"
             ],
             [
              0.4444444444444444,
              "#bd3786"
             ],
             [
              0.5555555555555556,
              "#d8576b"
             ],
             [
              0.6666666666666666,
              "#ed7953"
             ],
             [
              0.7777777777777778,
              "#fb9f3a"
             ],
             [
              0.8888888888888888,
              "#fdca26"
             ],
             [
              1,
              "#f0f921"
             ]
            ],
            "type": "histogram2dcontour"
           }
          ],
          "mesh3d": [
           {
            "colorbar": {
             "outlinewidth": 0,
             "ticks": ""
            },
            "type": "mesh3d"
           }
          ],
          "parcoords": [
           {
            "line": {
             "colorbar": {
              "outlinewidth": 0,
              "ticks": ""
             }
            },
            "type": "parcoords"
           }
          ],
          "pie": [
           {
            "automargin": true,
            "type": "pie"
           }
          ],
          "scatter": [
           {
            "fillpattern": {
             "fillmode": "overlay",
             "size": 10,
             "solidity": 0.2
            },
            "type": "scatter"
           }
          ],
          "scatter3d": [
           {
            "line": {
             "colorbar": {
              "outlinewidth": 0,
              "ticks": ""
             }
            },
            "marker": {
             "colorbar": {
              "outlinewidth": 0,
              "ticks": ""
             }
            },
            "type": "scatter3d"
           }
          ],
          "scattercarpet": [
           {
            "marker": {
             "colorbar": {
              "outlinewidth": 0,
              "ticks": ""
             }
            },
            "type": "scattercarpet"
           }
          ],
          "scattergeo": [
           {
            "marker": {
             "colorbar": {
              "outlinewidth": 0,
              "ticks": ""
             }
            },
            "type": "scattergeo"
           }
          ],
          "scattergl": [
           {
            "marker": {
             "colorbar": {
              "outlinewidth": 0,
              "ticks": ""
             }
            },
            "type": "scattergl"
           }
          ],
          "scattermap": [
           {
            "marker": {
             "colorbar": {
              "outlinewidth": 0,
              "ticks": ""
             }
            },
            "type": "scattermap"
           }
          ],
          "scattermapbox": [
           {
            "marker": {
             "colorbar": {
              "outlinewidth": 0,
              "ticks": ""
             }
            },
            "type": "scattermapbox"
           }
          ],
          "scatterpolar": [
           {
            "marker": {
             "colorbar": {
              "outlinewidth": 0,
              "ticks": ""
             }
            },
            "type": "scatterpolar"
           }
          ],
          "scatterpolargl": [
           {
            "marker": {
             "colorbar": {
              "outlinewidth": 0,
              "ticks": ""
             }
            },
            "type": "scatterpolargl"
           }
          ],
          "scatterternary": [
           {
            "marker": {
             "colorbar": {
              "outlinewidth": 0,
              "ticks": ""
             }
            },
            "type": "scatterternary"
           }
          ],
          "surface": [
           {
            "colorbar": {
             "outlinewidth": 0,
             "ticks": ""
            },
            "colorscale": [
             [
              0,
              "#0d0887"
             ],
             [
              0.1111111111111111,
              "#46039f"
             ],
             [
              0.2222222222222222,
              "#7201a8"
             ],
             [
              0.3333333333333333,
              "#9c179e"
             ],
             [
              0.4444444444444444,
              "#bd3786"
             ],
             [
              0.5555555555555556,
              "#d8576b"
             ],
             [
              0.6666666666666666,
              "#ed7953"
             ],
             [
              0.7777777777777778,
              "#fb9f3a"
             ],
             [
              0.8888888888888888,
              "#fdca26"
             ],
             [
              1,
              "#f0f921"
             ]
            ],
            "type": "surface"
           }
          ],
          "table": [
           {
            "cells": {
             "fill": {
              "color": "#EBF0F8"
             },
             "line": {
              "color": "white"
             }
            },
            "header": {
             "fill": {
              "color": "#C8D4E3"
             },
             "line": {
              "color": "white"
             }
            },
            "type": "table"
           }
          ]
         },
         "layout": {
          "annotationdefaults": {
           "arrowcolor": "#2a3f5f",
           "arrowhead": 0,
           "arrowwidth": 1
          },
          "autotypenumbers": "strict",
          "coloraxis": {
           "colorbar": {
            "outlinewidth": 0,
            "ticks": ""
           }
          },
          "colorscale": {
           "diverging": [
            [
             0,
             "#8e0152"
            ],
            [
             0.1,
             "#c51b7d"
            ],
            [
             0.2,
             "#de77ae"
            ],
            [
             0.3,
             "#f1b6da"
            ],
            [
             0.4,
             "#fde0ef"
            ],
            [
             0.5,
             "#f7f7f7"
            ],
            [
             0.6,
             "#e6f5d0"
            ],
            [
             0.7,
             "#b8e186"
            ],
            [
             0.8,
             "#7fbc41"
            ],
            [
             0.9,
             "#4d9221"
            ],
            [
             1,
             "#276419"
            ]
           ],
           "sequential": [
            [
             0,
             "#0d0887"
            ],
            [
             0.1111111111111111,
             "#46039f"
            ],
            [
             0.2222222222222222,
             "#7201a8"
            ],
            [
             0.3333333333333333,
             "#9c179e"
            ],
            [
             0.4444444444444444,
             "#bd3786"
            ],
            [
             0.5555555555555556,
             "#d8576b"
            ],
            [
             0.6666666666666666,
             "#ed7953"
            ],
            [
             0.7777777777777778,
             "#fb9f3a"
            ],
            [
             0.8888888888888888,
             "#fdca26"
            ],
            [
             1,
             "#f0f921"
            ]
           ],
           "sequentialminus": [
            [
             0,
             "#0d0887"
            ],
            [
             0.1111111111111111,
             "#46039f"
            ],
            [
             0.2222222222222222,
             "#7201a8"
            ],
            [
             0.3333333333333333,
             "#9c179e"
            ],
            [
             0.4444444444444444,
             "#bd3786"
            ],
            [
             0.5555555555555556,
             "#d8576b"
            ],
            [
             0.6666666666666666,
             "#ed7953"
            ],
            [
             0.7777777777777778,
             "#fb9f3a"
            ],
            [
             0.8888888888888888,
             "#fdca26"
            ],
            [
             1,
             "#f0f921"
            ]
           ]
          },
          "colorway": [
           "#636efa",
           "#EF553B",
           "#00cc96",
           "#ab63fa",
           "#FFA15A",
           "#19d3f3",
           "#FF6692",
           "#B6E880",
           "#FF97FF",
           "#FECB52"
          ],
          "font": {
           "color": "#2a3f5f"
          },
          "geo": {
           "bgcolor": "white",
           "lakecolor": "white",
           "landcolor": "#E5ECF6",
           "showlakes": true,
           "showland": true,
           "subunitcolor": "white"
          },
          "hoverlabel": {
           "align": "left"
          },
          "hovermode": "closest",
          "mapbox": {
           "style": "light"
          },
          "paper_bgcolor": "white",
          "plot_bgcolor": "#E5ECF6",
          "polar": {
           "angularaxis": {
            "gridcolor": "white",
            "linecolor": "white",
            "ticks": ""
           },
           "bgcolor": "#E5ECF6",
           "radialaxis": {
            "gridcolor": "white",
            "linecolor": "white",
            "ticks": ""
           }
          },
          "scene": {
           "xaxis": {
            "backgroundcolor": "#E5ECF6",
            "gridcolor": "white",
            "gridwidth": 2,
            "linecolor": "white",
            "showbackground": true,
            "ticks": "",
            "zerolinecolor": "white"
           },
           "yaxis": {
            "backgroundcolor": "#E5ECF6",
            "gridcolor": "white",
            "gridwidth": 2,
            "linecolor": "white",
            "showbackground": true,
            "ticks": "",
            "zerolinecolor": "white"
           },
           "zaxis": {
            "backgroundcolor": "#E5ECF6",
            "gridcolor": "white",
            "gridwidth": 2,
            "linecolor": "white",
            "showbackground": true,
            "ticks": "",
            "zerolinecolor": "white"
           }
          },
          "shapedefaults": {
           "line": {
            "color": "#2a3f5f"
           }
          },
          "ternary": {
           "aaxis": {
            "gridcolor": "white",
            "linecolor": "white",
            "ticks": ""
           },
           "baxis": {
            "gridcolor": "white",
            "linecolor": "white",
            "ticks": ""
           },
           "bgcolor": "#E5ECF6",
           "caxis": {
            "gridcolor": "white",
            "linecolor": "white",
            "ticks": ""
           }
          },
          "title": {
           "x": 0.05
          },
          "xaxis": {
           "automargin": true,
           "gridcolor": "white",
           "linecolor": "white",
           "ticks": "",
           "title": {
            "standoff": 15
           },
           "zerolinecolor": "white",
           "zerolinewidth": 2
          },
          "yaxis": {
           "automargin": true,
           "gridcolor": "white",
           "linecolor": "white",
           "ticks": "",
           "title": {
            "standoff": 15
           },
           "zerolinecolor": "white",
           "zerolinewidth": 2
          }
         }
        },
        "xaxis": {
         "anchor": "y",
         "domain": [
          0,
          1
         ],
         "title": {
          "text": "Proporção da população empregada por conta de outrem com ensino superior"
         }
        },
        "yaxis": {
         "anchor": "x",
         "domain": [
          0,
          1
         ],
         "showgrid": false,
         "showticklabels": false,
         "title": {
          "text": "y"
         }
        }
       }
      }
     },
     "metadata": {},
     "output_type": "display_data"
    },
    {
     "name": "stdout",
     "output_type": "stream",
     "text": [
      "empregada_por_conta_outrem_com_ensino_superior\n",
      "0    198\n",
      "1     98\n",
      "2     12\n",
      "Name: count, dtype: int64\n",
      "File saved to csv_files/3_Proporção da população empregada por conta de outrem com ensino superior.csv\n"
     ]
    }
   ],
   "source": [
    "clustered_df = aplicar_kmeans(only_municipalities_df,3,nome_cluster='empregada_por_conta_outrem_com_ensino_superior')\n",
    "save_clustered_df_to_csv(clustered_df,\"csv_files/\", \"3_Proporção da população empregada por conta de outrem com ensino superior.csv\")"
   ]
  },
  {
   "cell_type": "markdown",
   "id": "6aff7819",
   "metadata": {},
   "source": [
    "### Proporção população empregada outrem escalão"
   ]
  },
  {
   "cell_type": "code",
   "execution_count": 88,
   "id": "bb6c7e76",
   "metadata": {},
   "outputs": [
    {
     "data": {
      "text/html": [
       "<div>\n",
       "<style scoped>\n",
       "    .dataframe tbody tr th:only-of-type {\n",
       "        vertical-align: middle;\n",
       "    }\n",
       "\n",
       "    .dataframe tbody tr th {\n",
       "        vertical-align: top;\n",
       "    }\n",
       "\n",
       "    .dataframe thead th {\n",
       "        text-align: right;\n",
       "    }\n",
       "</style>\n",
       "<table border=\"1\" class=\"dataframe\">\n",
       "  <thead>\n",
       "    <tr style=\"text-align: right;\">\n",
       "      <th></th>\n",
       "      <th>local</th>\n",
       "      <th>codigo</th>\n",
       "      <th>População empregada por conta de outrem</th>\n",
       "    </tr>\n",
       "  </thead>\n",
       "  <tbody>\n",
       "    <tr>\n",
       "      <th>6</th>\n",
       "      <td>Arcos de Valdevez</td>\n",
       "      <td>1111601</td>\n",
       "      <td>989</td>\n",
       "    </tr>\n",
       "    <tr>\n",
       "      <th>7</th>\n",
       "      <td>Caminha</td>\n",
       "      <td>1111602</td>\n",
       "      <td>755</td>\n",
       "    </tr>\n",
       "    <tr>\n",
       "      <th>8</th>\n",
       "      <td>Melgaço</td>\n",
       "      <td>1111603</td>\n",
       "      <td>275</td>\n",
       "    </tr>\n",
       "    <tr>\n",
       "      <th>9</th>\n",
       "      <td>Monção</td>\n",
       "      <td>1111604</td>\n",
       "      <td>970</td>\n",
       "    </tr>\n",
       "    <tr>\n",
       "      <th>10</th>\n",
       "      <td>Paredes de Coura</td>\n",
       "      <td>1111605</td>\n",
       "      <td>297</td>\n",
       "    </tr>\n",
       "    <tr>\n",
       "      <th>...</th>\n",
       "      <td>...</td>\n",
       "      <td>...</td>\n",
       "      <td>...</td>\n",
       "    </tr>\n",
       "    <tr>\n",
       "      <th>341</th>\n",
       "      <td>Porto Santo</td>\n",
       "      <td>3003201</td>\n",
       "      <td>271</td>\n",
       "    </tr>\n",
       "    <tr>\n",
       "      <th>342</th>\n",
       "      <td>Ribeira Brava</td>\n",
       "      <td>3003107</td>\n",
       "      <td>392</td>\n",
       "    </tr>\n",
       "    <tr>\n",
       "      <th>343</th>\n",
       "      <td>Santa Cruz</td>\n",
       "      <td>3003108</td>\n",
       "      <td>1114</td>\n",
       "    </tr>\n",
       "    <tr>\n",
       "      <th>344</th>\n",
       "      <td>Santana</td>\n",
       "      <td>3003109</td>\n",
       "      <td>185</td>\n",
       "    </tr>\n",
       "    <tr>\n",
       "      <th>345</th>\n",
       "      <td>São Vicente</td>\n",
       "      <td>3003110</td>\n",
       "      <td>272</td>\n",
       "    </tr>\n",
       "  </tbody>\n",
       "</table>\n",
       "<p>308 rows × 3 columns</p>\n",
       "</div>"
      ],
      "text/plain": [
       "                 local   codigo População empregada por conta de outrem\n",
       "6    Arcos de Valdevez  1111601                                     989\n",
       "7              Caminha  1111602                                     755\n",
       "8              Melgaço  1111603                                     275\n",
       "9               Monção  1111604                                     970\n",
       "10    Paredes de Coura  1111605                                     297\n",
       "..                 ...      ...                                     ...\n",
       "341        Porto Santo  3003201                                     271\n",
       "342      Ribeira Brava  3003107                                     392\n",
       "343         Santa Cruz  3003108                                    1114\n",
       "344            Santana  3003109                                     185\n",
       "345        São Vicente  3003110                                     272\n",
       "\n",
       "[308 rows x 3 columns]"
      ]
     },
     "execution_count": 88,
     "metadata": {},
     "output_type": "execute_result"
    }
   ],
   "source": [
    "original_df = processar_ficheiro(data_path+'proporção população empregada outrem escalão.xls',0,padding_left=0)\n",
    "only_municipalities_df = carregar_municipios(original_df)\n",
    "only_municipalities_df\n"
   ]
  },
  {
   "cell_type": "code",
   "execution_count": 89,
   "id": "50808cca",
   "metadata": {},
   "outputs": [
    {
     "data": {
      "application/vnd.plotly.v1+json": {
       "config": {
        "plotlyServerURL": "https://plot.ly"
       },
       "data": [
        {
         "customdata": [
          [
           "Arcos de Valdevez",
           "1111601",
           989
          ],
          [
           "Caminha",
           "1111602",
           755
          ],
          [
           "Melgaço",
           "1111603",
           275
          ],
          [
           "Monção",
           "1111604",
           970
          ],
          [
           "Paredes de Coura",
           "1111605",
           297
          ],
          [
           "Ponte da Barca",
           "1111606",
           537
          ],
          [
           "Ponte de Lima",
           "1111607",
           2373
          ],
          [
           "Valença",
           "1111608",
           957
          ],
          [
           "Viana do Castelo",
           "1111609",
           3901
          ],
          [
           "Vila Nova de Cerveira",
           "1111610",
           405
          ],
          [
           "Amares",
           "1120301",
           1055
          ],
          [
           "Barcelos",
           "1120302",
           7228
          ],
          [
           "Braga",
           "1120303",
           10071
          ],
          [
           "Esposende",
           "1120306",
           1994
          ],
          [
           "Terras de Bouro",
           "1120310",
           334
          ],
          [
           "Vila Verde",
           "1120313",
           2752
          ],
          [
           "Cabeceiras de Basto",
           "1190304",
           798
          ],
          [
           "Fafe",
           "1190307",
           2696
          ],
          [
           "Guimarães",
           "1190308",
           9316
          ],
          [
           "Mondim de Basto",
           "1191705",
           273
          ],
          [
           "Póvoa de Lanhoso",
           "1190309",
           1145
          ],
          [
           "Vieira do Minho",
           "1190311",
           539
          ],
          [
           "Vila Nova de Famalicão",
           "1190312",
           6863
          ],
          [
           "Vizela",
           "1190314",
           1253
          ],
          [
           "Arouca",
           "11A0104",
           1166
          ],
          [
           "Espinho",
           "11A0107",
           1326
          ],
          [
           "Gondomar",
           "11A1304",
           4861
          ],
          [
           "Maia",
           "11A1306",
           6110
          ],
          [
           "Matosinhos",
           "11A1308",
           7269
          ],
          [
           "Oliveira de Azeméis",
           "11A0113",
           2814
          ],
          [
           "Paredes",
           "11A1310",
           4484
          ],
          [
           "Porto",
           "11A1312",
           16757
          ],
          [
           "Póvoa de Varzim",
           "11A1313",
           3513
          ],
          [
           "Santa Maria da Feira",
           "11A0109",
           6686
          ],
          [
           "Santo Tirso",
           "11A1314",
           3095
          ],
          [
           "São João da Madeira",
           "11A0116",
           1333
          ],
          [
           "Trofa",
           "11A1318",
           2270
          ],
          [
           "Vale de Cambra",
           "11A0119",
           1039
          ],
          [
           "Valongo",
           "11A1315",
           3302
          ],
          [
           "Vila do Conde",
           "11A1316",
           4463
          ],
          [
           "Vila Nova de Gaia",
           "11A1317",
           10676
          ],
          [
           "Boticas",
           "11B1702",
           231
          ],
          [
           "Chaves",
           "11B1703",
           2021
          ],
          [
           "Montalegre",
           "11B1706",
           410
          ],
          [
           "Ribeira de Pena",
           "11B1709",
           193
          ],
          [
           "Valpaços",
           "11B1712",
           591
          ],
          [
           "Vila Pouca de Aguiar",
           "11B1713",
           614
          ],
          [
           "Amarante",
           "11C1301",
           2650
          ],
          [
           "Baião",
           "11C1302",
           699
          ],
          [
           "Castelo de Paiva",
           "11C0106",
           656
          ],
          [
           "Celorico de Basto",
           "11C0305",
           761
          ],
          [
           "Cinfães",
           "11C1804",
           642
          ],
          [
           "Felgueiras",
           "11C1303",
           3411
          ],
          [
           "Lousada",
           "11C1305",
           2343
          ],
          [
           "Marco de Canaveses",
           "11C1307",
           2199
          ],
          [
           "Paços de Ferreira",
           "11C1309",
           3745
          ],
          [
           "Penafiel",
           "11C1311",
           3273
          ],
          [
           "Resende",
           "11C1813",
           363
          ],
          [
           "Alijó",
           "11D1701",
           520
          ],
          [
           "Armamar",
           "11D1801",
           329
          ],
          [
           "Carrazeda de Ansiães",
           "11D0403",
           253
          ],
          [
           "Freixo de Espada à Cinta",
           "11D0404",
           98
          ],
          [
           "Lamego",
           "11D1805",
           1129
          ],
          [
           "Mesão Frio",
           "11D1704",
           125
          ],
          [
           "Moimenta da Beira",
           "11D1807",
           569
          ],
          [
           "Murça",
           "11D1707",
           201
          ],
          [
           "Penedono",
           "11D1812",
           144
          ],
          [
           "Peso da Régua",
           "11D1708",
           698
          ],
          [
           "Sabrosa",
           "11D1710",
           263
          ],
          [
           "Santa Marta de Penaguião",
           "11D1711",
           160
          ],
          [
           "São João da Pesqueira",
           "11D1815",
           382
          ],
          [
           "Sernancelhe",
           "11D1818",
           334
          ],
          [
           "Tabuaço",
           "11D1819",
           174
          ],
          [
           "Tarouca",
           "11D1820",
           329
          ],
          [
           "Torre de Moncorvo",
           "11D0409",
           383
          ],
          [
           "Vila Nova de Foz Côa",
           "11D0914",
           310
          ],
          [
           "Vila Real",
           "11D1714",
           2297
          ],
          [
           "Alfândega da Fé",
           "11E0401",
           160
          ],
          [
           "Bragança",
           "11E0402",
           1678
          ],
          [
           "Macedo de Cavaleiros",
           "11E0405",
           713
          ],
          [
           "Miranda do Douro",
           "11E0406",
           380
          ],
          [
           "Mirandela",
           "11E0407",
           1092
          ],
          [
           "Mogadouro",
           "11E0408",
           451
          ],
          [
           "Vila Flor",
           "11E0410",
           222
          ],
          [
           "Vimioso",
           "11E0411",
           161
          ],
          [
           "Vinhais",
           "11E0412",
           309
          ],
          [
           "Alcobaça",
           "16B1001",
           3363
          ],
          [
           "Alenquer",
           "16B1101",
           1569
          ],
          [
           "Arruda dos Vinhos",
           "16B1102",
           716
          ],
          [
           "Bombarral",
           "16B1005",
           572
          ],
          [
           "Cadaval",
           "16B1104",
           545
          ],
          [
           "Caldas da Rainha",
           "16B1006",
           2745
          ],
          [
           "Lourinhã",
           "16B1108",
           1606
          ],
          [
           "Nazaré",
           "16B1011",
           779
          ],
          [
           "Óbidos",
           "16B1012",
           727
          ],
          [
           "Peniche",
           "16B1014",
           1305
          ],
          [
           "Sobral de Monte Agraço",
           "16B1112",
           482
          ],
          [
           "Torres Vedras",
           "16B1113",
           4441
          ],
          [
           "Águeda",
           "16D0101",
           2244
          ],
          [
           "Albergaria-a-Velha",
           "16D0102",
           1075
          ],
          [
           "Anadia",
           "16D0103",
           1154
          ],
          [
           "Aveiro",
           "16D0105",
           3559
          ],
          [
           "Estarreja",
           "16D0108",
           793
          ],
          [
           "Ílhavo",
           "16D0110",
           1231
          ],
          [
           "Murtosa",
           "16D0112",
           369
          ],
          [
           "Oliveira do Bairro",
           "16D0114",
           1102
          ],
          [
           "Ovar",
           "16D0115",
           2162
          ],
          [
           "Sever do Vouga",
           "16D0117",
           594
          ],
          [
           "Vagos",
           "16D0118",
           998
          ],
          [
           "Arganil",
           "16E0601",
           489
          ],
          [
           "Cantanhede",
           "16E0602",
           1449
          ],
          [
           "Coimbra",
           "16E0603",
           6298
          ],
          [
           "Condeixa-a-Nova",
           "16E0604",
           507
          ],
          [
           "Figueira da Foz",
           "16E0605",
           2373
          ],
          [
           "Góis",
           "16E0606",
           195
          ],
          [
           "Lousã",
           "16E0607",
           711
          ],
          [
           "Mealhada",
           "16E0111",
           737
          ],
          [
           "Mira",
           "16E0608",
           602
          ],
          [
           "Miranda do Corvo",
           "16E0609",
           448
          ],
          [
           "Montemor-o-Velho",
           "16E0610",
           744
          ],
          [
           "Mortágua",
           "16E1808",
           433
          ],
          [
           "Oliveira do Hospital",
           "16E0611",
           958
          ],
          [
           "Pampilhosa da Serra",
           "16E0612",
           155
          ],
          [
           "Penacova",
           "16E0613",
           512
          ],
          [
           "Penela",
           "16E0614",
           282
          ],
          [
           "Soure",
           "16E0615",
           554
          ],
          [
           "Tábua",
           "16E0616",
           479
          ],
          [
           "Vila Nova de Poiares",
           "16E0617",
           334
          ],
          [
           "Alvaiázere",
           "16F1002",
           376
          ],
          [
           "Ansião",
           "16F1003",
           615
          ],
          [
           "Batalha",
           "16F1004",
           999
          ],
          [
           "Castanheira de Pêra",
           "16F1007",
           94
          ],
          [
           "Figueiró dos Vinhos",
           "16F1008",
           287
          ],
          [
           "Leiria",
           "16F1009",
           8010
          ],
          [
           "Marinha Grande",
           "16F1010",
           1763
          ],
          [
           "Pedrógão Grande",
           "16F1013",
           207
          ],
          [
           "Pombal",
           "16F1015",
           3319
          ],
          [
           "Porto de Mós",
           "16F1016",
           1202
          ],
          [
           "Aguiar da Beira",
           "16G0901",
           361
          ],
          [
           "Carregal do Sal",
           "16G1802",
           264
          ],
          [
           "Castro Daire",
           "16G1803",
           763
          ],
          [
           "Mangualde",
           "16G1806",
           716
          ],
          [
           "Nelas",
           "16G1809",
           441
          ],
          [
           "Oliveira de Frades",
           "16G1810",
           506
          ],
          [
           "Penalva do Castelo",
           "16G1811",
           259
          ],
          [
           "Santa Comba Dão",
           "16G1814",
           394
          ],
          [
           "São Pedro do Sul",
           "16G1816",
           605
          ],
          [
           "Sátão",
           "16G1817",
           536
          ],
          [
           "Tondela",
           "16G1821",
           1094
          ],
          [
           "Vila Nova de Paiva",
           "16G1822",
           233
          ],
          [
           "Viseu",
           "16G1823",
           5067
          ],
          [
           "Vouzela",
           "16G1824",
           430
          ],
          [
           "Castelo Branco",
           "16H0502",
           2429
          ],
          [
           "Idanha-a-Nova",
           "16H0505",
           413
          ],
          [
           "Oleiros",
           "16H0506",
           188
          ],
          [
           "Penamacor",
           "16H0507",
           147
          ],
          [
           "Proença-a-Nova",
           "16H0508",
           316
          ],
          [
           "Vila Velha de Ródão",
           "16H0511",
           111
          ],
          [
           "Abrantes",
           "16I1401",
           1096
          ],
          [
           "Alcanena",
           "16I1402",
           713
          ],
          [
           "Constância",
           "16I1408",
           119
          ],
          [
           "Entroncamento",
           "16I1410",
           502
          ],
          [
           "Ferreira do Zêzere",
           "16I1411",
           373
          ],
          [
           "Mação",
           "16I1413",
           222
          ],
          [
           "Ourém",
           "16I1421",
           3074
          ],
          [
           "Sardoal",
           "16I1417",
           148
          ],
          [
           "Sertã",
           "16I0509",
           715
          ],
          [
           "Tomar",
           "16I1418",
           1501
          ],
          [
           "Torres Novas",
           "16I1419",
           1201
          ],
          [
           "Vila de Rei",
           "16I0510",
           164
          ],
          [
           "Vila Nova da Barquinha",
           "16I1420",
           164
          ],
          [
           "Almeida",
           "16J0902",
           235
          ],
          [
           "Belmonte",
           "16J0501",
           324
          ],
          [
           "Celorico da Beira",
           "16J0903",
           255
          ],
          [
           "Covilhã",
           "16J0503",
           1689
          ],
          [
           "Figueira de Castelo Rodrigo",
           "16J0904",
           311
          ],
          [
           "Fornos de Algodres",
           "16J0905",
           270
          ],
          [
           "Fundão",
           "16J0504",
           1254
          ],
          [
           "Gouveia",
           "16J0906",
           451
          ],
          [
           "Guarda",
           "16J0907",
           2071
          ],
          [
           "Manteigas",
           "16J0908",
           158
          ],
          [
           "Mêda",
           "16J0909",
           252
          ],
          [
           "Pinhel",
           "16J0910",
           503
          ],
          [
           "Sabugal",
           "16J0911",
           352
          ],
          [
           "Seia",
           "16J0912",
           911
          ],
          [
           "Trancoso",
           "16J0913",
           461
          ],
          [
           "Alcochete",
           "1701502",
           713
          ],
          [
           "Almada",
           "1701503",
           5067
          ],
          [
           "Amadora",
           "1701115",
           4926
          ],
          [
           "Barreiro",
           "1701504",
           1573
          ],
          [
           "Cascais",
           "1701105",
           8671
          ],
          [
           "Lisboa",
           "1701106",
           40361
          ],
          [
           "Loures",
           "1701107",
           6864
          ],
          [
           "Mafra",
           "1701109",
           3726
          ],
          [
           "Moita",
           "1701506",
           1341
          ],
          [
           "Montijo",
           "1701507",
           1921
          ],
          [
           "Odivelas",
           "1701116",
           4991
          ],
          [
           "Oeiras",
           "1701110",
           7461
          ],
          [
           "Palmela",
           "1701508",
           2292
          ],
          [
           "Seixal",
           "1701510",
           4568
          ],
          [
           "Sesimbra",
           "1701511",
           1751
          ],
          [
           "Setúbal",
           "1701512",
           3941
          ],
          [
           "Sintra",
           "1701111",
           12640
          ],
          [
           "Vila Franca de Xira",
           "1701114",
           3783
          ],
          [
           "Alcácer do Sal",
           "1811501",
           698
          ],
          [
           "Grândola",
           "1811505",
           815
          ],
          [
           "Odemira",
           "1810211",
           1553
          ],
          [
           "Santiago do Cacém",
           "1811509",
           1167
          ],
          [
           "Sines",
           "1811513",
           669
          ],
          [
           "Aljustrel",
           "1840201",
           373
          ],
          [
           "Almodôvar",
           "1840202",
           296
          ],
          [
           "Alvito",
           "1840203",
           47
          ],
          [
           "Barrancos",
           "1840204",
           82
          ],
          [
           "Beja",
           "1840205",
           2099
          ],
          [
           "Castro Verde",
           "1840206",
           345
          ],
          [
           "Cuba",
           "1840207",
           172
          ],
          [
           "Ferreira do Alentejo",
           "1840208",
           545
          ],
          [
           "Mértola",
           "1840209",
           385
          ],
          [
           "Moura",
           "1840210",
           679
          ],
          [
           "Ourique",
           "1840212",
           243
          ],
          [
           "Serpa",
           "1840213",
           647
          ],
          [
           "Vidigueira",
           "1840214",
           209
          ],
          [
           "Almeirim",
           "1851403",
           924
          ],
          [
           "Alpiarça",
           "1851404",
           236
          ],
          [
           "Azambuja",
           "1851103",
           604
          ],
          [
           "Benavente",
           "1851405",
           1341
          ],
          [
           "Cartaxo",
           "1851406",
           840
          ],
          [
           "Chamusca",
           "1851407",
           477
          ],
          [
           "Coruche",
           "1851409",
           860
          ],
          [
           "Golegã",
           "1851412",
           235
          ],
          [
           "Rio Maior",
           "1851414",
           978
          ],
          [
           "Salvaterra de Magos",
           "1851415",
           912
          ],
          [
           "Santarém",
           "1851416",
           2425
          ],
          [
           "Alter do Chão",
           "1861201",
           156
          ],
          [
           "Arronches",
           "1861202",
           128
          ],
          [
           "Avis",
           "1861203",
           182
          ],
          [
           "Campo Maior",
           "1861204",
           216
          ],
          [
           "Castelo de Vide",
           "1861205",
           115
          ],
          [
           "Crato",
           "1861206",
           116
          ],
          [
           "Elvas",
           "1861207",
           1060
          ],
          [
           "Fronteira",
           "1861208",
           186
          ],
          [
           "Gavião",
           "1861209",
           73
          ],
          [
           "Marvão",
           "1861210",
           159
          ],
          [
           "Monforte",
           "1861211",
           167
          ],
          [
           "Nisa",
           "1861212",
           200
          ],
          [
           "Ponte de Sor",
           "1861213",
           632
          ],
          [
           "Portalegre",
           "1861214",
           980
          ],
          [
           "Sousel",
           "1861215",
           272
          ],
          [
           "Alandroal",
           "1870701",
           223
          ],
          [
           "Arraiolos",
           "1870702",
           393
          ],
          [
           "Borba",
           "1870703",
           378
          ],
          [
           "Estremoz",
           "1870704",
           816
          ],
          [
           "Évora",
           "1870705",
           2854
          ],
          [
           "Montemor-o-Novo",
           "1870706",
           1057
          ],
          [
           "Mora",
           "1870707",
           247
          ],
          [
           "Mourão",
           "1870708",
           111
          ],
          [
           "Portel",
           "1870709",
           248
          ],
          [
           "Redondo",
           "1870710",
           294
          ],
          [
           "Reguengos de Monsaraz",
           "1870711",
           621
          ],
          [
           "Vendas Novas",
           "1870712",
           518
          ],
          [
           "Viana do Alentejo",
           "1870713",
           298
          ],
          [
           "Vila Viçosa",
           "1870714",
           367
          ],
          [
           "Albufeira",
           "1500801",
           3453
          ],
          [
           "Alcoutim",
           "1500802",
           106
          ],
          [
           "Aljezur",
           "1500803",
           516
          ],
          [
           "Castro Marim",
           "1500804",
           312
          ],
          [
           "Faro",
           "1500805",
           3521
          ],
          [
           "Lagoa",
           "1500806",
           1564
          ],
          [
           "Lagos",
           "1500807",
           2415
          ],
          [
           "Loulé",
           "1500808",
           5393
          ],
          [
           "Monchique",
           "1500809",
           297
          ],
          [
           "Olhão",
           "1500810",
           1786
          ],
          [
           "Portimão",
           "1500811",
           3084
          ],
          [
           "São Brás de Alportel",
           "1500812",
           612
          ],
          [
           "Silves",
           "1500813",
           1824
          ],
          [
           "Tavira",
           "1500814",
           1581
          ],
          [
           "Vila do Bispo",
           "1500815",
           465
          ],
          [
           "Vila Real de Santo António",
           "1500816",
           1169
          ],
          [
           "Angra do Heroísmo",
           "2004301",
           1404
          ],
          [
           "Calheta",
           "2004501",
           110
          ],
          [
           "Corvo",
           "2004901",
           9
          ],
          [
           "Horta",
           "2004701",
           646
          ],
          [
           "Lagoa",
           "2004201",
           430
          ],
          [
           "Lajes das Flores",
           "2004801",
           65
          ],
          [
           "Lajes do Pico",
           "2004601",
           147
          ],
          [
           "Madalena",
           "2004602",
           372
          ],
          [
           "Nordeste",
           "2004202",
           134
          ],
          [
           "Ponta Delgada",
           "2004203",
           2877
          ],
          [
           "Povoação",
           "2004204",
           154
          ],
          [
           "Ribeira Grande",
           "2004205",
           730
          ],
          [
           "Santa Cruz da Graciosa",
           "2004401",
           149
          ],
          [
           "Santa Cruz das Flores",
           "2004802",
           86
          ],
          [
           "São Roque do Pico",
           "2004603",
           166
          ],
          [
           "Velas",
           "2004502",
           315
          ],
          [
           "Vila da Praia da Vitória",
           "2004302",
           625
          ],
          [
           "Vila do Porto",
           "2004101",
           207
          ],
          [
           "Vila Franca do Campo",
           "2004206",
           267
          ],
          [
           "Calheta",
           "3003101",
           329
          ],
          [
           "Câmara de Lobos",
           "3003102",
           784
          ],
          [
           "Funchal",
           "3003103",
           5892
          ],
          [
           "Machico",
           "3003104",
           508
          ],
          [
           "Ponta do Sol",
           "3003105",
           317
          ],
          [
           "Porto Moniz",
           "3003106",
           109
          ],
          [
           "Porto Santo",
           "3003201",
           271
          ],
          [
           "Ribeira Brava",
           "3003107",
           392
          ],
          [
           "Santa Cruz",
           "3003108",
           1114
          ],
          [
           "Santana",
           "3003109",
           185
          ],
          [
           "São Vicente",
           "3003110",
           272
          ]
         ],
         "hovertemplate": "valor=%{x}<br>y=%{y}<br>local=%{customdata[0]}<br>codigo=%{customdata[1]}<br>População empregada por conta de outrem=%{customdata[2]}<br>pop_empregada_outrem_escalão=%{marker.color}<extra></extra>",
         "legendgroup": "",
         "marker": {
          "color": {
           "bdata": "AAAAAAAAAAABAAABAQAAAAAAAQAAAAEAAAABAQEAAQEAAQAAAAAAAQEAAAAAAAAAAAAAAAAAAAAAAAAAAAAAAAAAAAAAAAAAAAAAAAAAAAAAAAAAAAAAAAAAAAAAAAAAAAEAAAAAAAAAAAAAAAAAAQAAAAAAAAAAAAAAAAAAAAAAAAAAAAEAAAAAAAAAAAAAAAAAAAAAAQAAAAAAAAAAAAAAAAAAAAAAAAAAAAAAAAAAAAAAAAAAAAAAAAEBAAECAQAAAAEBAAEAAQEAAAAAAAAAAAAAAAAAAAAAAAAAAAAAAAAAAAAAAAAAAAAAAAAAAAAAAAAAAAAAAAAAAAAAAAAAAAAAAAAAAAAAAAABAAAAAAAAAAAAAAAAAAAAAAAAAAAAAAAAAAAAAAABAAAAAAAAAAA=",
           "dtype": "i1"
          },
          "coloraxis": "coloraxis",
          "size": 10,
          "symbol": "circle"
         },
         "mode": "markers",
         "name": "",
         "orientation": "v",
         "showlegend": false,
         "type": "scatter",
         "x": {
          "bdata": "yUMOjavAx79+zvhDpcbQv2kjWBeX09q/Pjbsj1yMyL9AK8rfqV3av8uAGvYwV9W/0/D+a1Ia0T/6LE66uhfJvxtoKmJujOg/v1FuQ8Aa2L/Vcro/HP3Ev5nLJm6lsP0/I8fVfD1JBkDQ7xAYiVXCP3A4oRlVl9m/vWn1S+AJ2T+iuyMjTsDPv7N9XQSz3dc/xgicm1xPBECyIsKQT97av/2ydpBBOMG/gYGwfHhM1b8frKLKhMf7P/T/fa/cZLm/9cHEmh9XwL8HaApxp0ezv4PexBqwTPE/OK+JJnHW9z/yB2bcluf9P6RTy/82Vto/NoBDgvWm7j+hrl1WjuQTQEGtAGGIfOQ/5XtZTFPa+j++9zvROhzgPwFyPs2QsbK/EStY/mvkzT9uZ1rWo6jFv9tSaVwFR+I/9APXBK1u7j8vzM3rnN4HQLoTdIZxv9u/kNw+5v12wz+HU+UT8//Xvy8GUokii9y/CpTsJ7w11L88nKmzcrrTvxiO1xsg59Y/iLqQi9Ly0b81q/e9UNnSv6HQutd7ptC/N6bdD1wk079uv/FIKGvjP4T7yE6DedA/rl3yUULryj/ogwTjU+rmPwbYKOxL+eE/xkIgOeL72L+8eh/+ULLVv6g2Kkkistm/khvmToRJ279T5HwQXYjev5WnFifJ48G/8u1lqaL33b8yjHpfqavUvwkJqqNAYNy/uPT2J8qR3b8tukXILvjRvyIf1O/pE9u/bPqmXAY83b+MSbG3CZbYv3A4oRlVl9m/af/ACvvw3L+oNipJIrLZv+dJ/HqtkNi/4i+ZyvoX2r/SF4bM4AXPP2z6plwGPN2/RUTn5ExnpD+Gv6o5x6fRv9VIGzHCoNi/NY1os3Jww78kYuhaLSTXv4UQ0aiv79u/x/rxH6o23b+HL04HVx3av/zH+ZeC6uI/jdgD4/AocT+XwIuDspfRv0SNW6mUm9S/pYNyEE8s1b88bAKjWuTYPyMjUJuIr5A/DNcAk/9F0L+DxMTnu1zRvxZKblzrCbW/MG39AAJ+1r/gBxBptjPuP5o9lKmvzcw/F4Fyw7ImxL9oubxLxdfAvw6lQ9XR9+Q/Erg1guj1z7+W4LWNkTy7v+pE4sy429i/VpRE9T0Fw78OeKDFmF7JPxyVzXGnJdS/NEpUSC9gx7+vbwpYfFjWv8UuXorF9KG/d57ES2DS+D8ZdlATAPjVv9Pw/mtSGtE/5QboD2qA3L/PvhSzf7LRvxPIsoghJ9G/9pcljMX6078SYQcRQjTXv5LKv9+bAdG/uVuin6mE17+wLeRAAg3Jv6T4L4zTVt2/4nfH4zLd1b/oJWVuEa7av9qGFe4Q/NS/H2wctxaO1r9wOKEZVZfZv2lH7yMztti/mJz0dha107/qSurOdlXHv+biUAPOnd6/sCfcPkST2r/2AjDlSuQAQPQo1xInUrE/LAtsNxdA3L/Tz2tglXTiPz63uQ9dqr2/EEKKspoG2b99Hx+zjQ7bv1jRUF7Dm9C/l8CLg7KX0b+TXvq5x1nXv751BVBc/dW/tR2o4lop27/TTTXftlXYvweZBtaw6tO/b4DPMo1c1b+ijpTAAVvDv3EUCg25tNu/KEwuUb5g8j+oWsFVvpTXv93clrN/RtI/mVTGXd7v179nBNu476Xcv8r113G1gd2/BjJbXtH32b/16Ev7rULevw+QwM2QRcO/hr+qOcen0b/P66MVzBfev1F02ULNEta/V0YO2kfG2L+FENGor+/bv/n2nqfkx98/JfYiNVl83b88wEDADp3RvxSGfcjFfZK/0bWNAs6/vb/Z+9JplSbdv9n70mmVJt2/JxWgkwCq27/gNLN478zZv0gcfNXLPtu/6CQfwwE/pj8+MOSNnhLav6Eh4UZk7tq/YQGqvGtPub8kYuhaLSTXv+y48pwFj8U/tfkQ1r5G3b82G5uL4E7bv6x0JAZxDda/2z7n1Ng22b8vDFqL4ATLv7Rl1vuS7ta/hr+qOcen0b8oTC5RvmDyP7kYQvXKo/E/T30DmC2Fdj+DBRv9L58CQGnwM5YrZClACezP2dvI+z9LB02iZ7fmP2l9njYJBrK/skeu8dyNvj/uUr/P5frxP9b2VT7i6P4/Yxt0bUbQzj8+cfV3F4jvPxA657DbULA/+2BOIKP36D+v9GAjkQINQCN9c2QsUOc/LbpFyC740b/BxxkTDgrPv+bp6sMHIFG/rMJaIWdMwL/Xr8aooZPSv1dGDtpHxti/5Sp/HAZj2r8l0osovZnfv5/ezNsg3t6/96SK5DK7xj9cPNp9XlzZv7P+KoSz+9y/pYNyEE8s1b+eSpIB9YXYv2eztEkHXtK/ARj4rR5/27//p1TgjgnTv+MLAr5eNdy/dBX4YIJ5yr+CFetWpKTbv6yYuxIN8NO/aX2eNgkGsr+T2b83Cv7Nv2hrhjDPmNa/1ed3u6Anzb8nFaCTAKrbv/I7nMSYNsi/5gzwESj6yr9K3sLADjHSP//4ek93Ud2/BO9G843n3b9DAhklGcbcv2IODxXZD9y/Yup3CD0t3r+96sLL4Cfev2Z2qOCBx8S/sANFMqiw3L9q2yn+Xg7fvxH6W5liQd2/6/yzs4AW3b+uCF/gnGXcv6ei7272WdO/Xz3I0SchyL9XInfNq+Pav+AQHGxT6tu/eE3qGxNb2L8fSIWqeqvYv3fIr5lV/86/Y0UTfKAs2z9CdOZMq+fEv24ZJLutadu/9ehL+61C3r/JGW9+UWTbvy8q6ZW+bdq/u562Cu2U078Feol3Cb3Vv5wrFaNNWNq/M0RMRnHm2L/yt8pDudvjPy3n1Cp7Xd6/T3nz8MHH1b+ZMC9RQg3av9Sr1FP5keQ/NpWIAUrrZD/a4bBhdPvRPxyvzaSbFfQ/QCvK36ld2r8qCOPjTD+zP2nzsAZ//d8/hpsTLSvF07/90VrvEG62P2ljAYHTnoA/IWcCCSLZ1r8ZxIYu9jbAv3Wu5eh6fqm/mugAOApI3r9N4rQVtzLgv6SnCR3rDtO/qFrBVb6U17+Q2NHjQDnfv8r113G1gd2//EXDFqTL2L8o8QiHZMfdvzA9VvDpp9s/SfjkyC9c3b+VxaUxp0zRv4D2bfj8dt2/DOD46K/I3r+P/Gjw3Bvdv6sxEJst/dm/KKDiF3x/078sC2w3F0Dcv48gAP14/tq/qDYqSSKy2b/U2HdjMivQv6VCATpOsvY/dXab1qPy1b9hMqYhdfLZvz/otXRmTd6//CEsCgjp2r8cTZ9Yb2DYv+ScTESYhMK/VQP6bgS23L9XInfNq+Pavw==",
          "dtype": "f8"
         },
         "xaxis": "x",
         "y": {
          "bdata": "AAAAAAAAAAAAAAAAAAAAAAAAAAAAAAAAAAAAAAAAAAAAAAAAAAAAAAAAAAAAAAAAAAAAAAAAAAAAAAAAAAAAAAAAAAAAAAAAAAAAAAAAAAAAAAAAAAAAAAAAAAAAAAAAAAAAAAAAAAAAAAAAAAAAAAAAAAAAAAAAAAAAAAAAAAAAAAAAAAAAAAAAAAAAAAAAAAAAAAAAAAAAAAAAAAAAAAAAAAAAAAAAAAAAAAAAAAAAAAAAAAAAAAAAAAAAAAAAAAAAAAAAAAAAAAAAAAAAAAAAAAAAAAAAAAAAAAAAAAAAAAAAAAAAAAAAAAAAAAAAAAAAAAAAAAAAAAAAAAAAAAAAAAAAAAAAAAAAAAAAAAAAAAAAAAAAAAAAAAAAAAAAAAAAAAAAAAAAAAAAAAAAAAAAAAA=",
          "dtype": "i1"
         },
         "yaxis": "y"
        }
       ],
       "layout": {
        "coloraxis": {
         "colorbar": {
          "title": {
           "text": "pop_empregada_outrem_escalão"
          }
         },
         "colorscale": [
          [
           0,
           "#440154"
          ],
          [
           0.1111111111111111,
           "#482878"
          ],
          [
           0.2222222222222222,
           "#3e4989"
          ],
          [
           0.3333333333333333,
           "#31688e"
          ],
          [
           0.4444444444444444,
           "#26828e"
          ],
          [
           0.5555555555555556,
           "#1f9e89"
          ],
          [
           0.6666666666666666,
           "#35b779"
          ],
          [
           0.7777777777777778,
           "#6ece58"
          ],
          [
           0.8888888888888888,
           "#b5de2b"
          ],
          [
           1,
           "#fde725"
          ]
         ]
        },
        "height": 300,
        "legend": {
         "tracegroupgap": 0
        },
        "margin": {
         "t": 60
        },
        "template": {
         "data": {
          "bar": [
           {
            "error_x": {
             "color": "#2a3f5f"
            },
            "error_y": {
             "color": "#2a3f5f"
            },
            "marker": {
             "line": {
              "color": "#E5ECF6",
              "width": 0.5
             },
             "pattern": {
              "fillmode": "overlay",
              "size": 10,
              "solidity": 0.2
             }
            },
            "type": "bar"
           }
          ],
          "barpolar": [
           {
            "marker": {
             "line": {
              "color": "#E5ECF6",
              "width": 0.5
             },
             "pattern": {
              "fillmode": "overlay",
              "size": 10,
              "solidity": 0.2
             }
            },
            "type": "barpolar"
           }
          ],
          "carpet": [
           {
            "aaxis": {
             "endlinecolor": "#2a3f5f",
             "gridcolor": "white",
             "linecolor": "white",
             "minorgridcolor": "white",
             "startlinecolor": "#2a3f5f"
            },
            "baxis": {
             "endlinecolor": "#2a3f5f",
             "gridcolor": "white",
             "linecolor": "white",
             "minorgridcolor": "white",
             "startlinecolor": "#2a3f5f"
            },
            "type": "carpet"
           }
          ],
          "choropleth": [
           {
            "colorbar": {
             "outlinewidth": 0,
             "ticks": ""
            },
            "type": "choropleth"
           }
          ],
          "contour": [
           {
            "colorbar": {
             "outlinewidth": 0,
             "ticks": ""
            },
            "colorscale": [
             [
              0,
              "#0d0887"
             ],
             [
              0.1111111111111111,
              "#46039f"
             ],
             [
              0.2222222222222222,
              "#7201a8"
             ],
             [
              0.3333333333333333,
              "#9c179e"
             ],
             [
              0.4444444444444444,
              "#bd3786"
             ],
             [
              0.5555555555555556,
              "#d8576b"
             ],
             [
              0.6666666666666666,
              "#ed7953"
             ],
             [
              0.7777777777777778,
              "#fb9f3a"
             ],
             [
              0.8888888888888888,
              "#fdca26"
             ],
             [
              1,
              "#f0f921"
             ]
            ],
            "type": "contour"
           }
          ],
          "contourcarpet": [
           {
            "colorbar": {
             "outlinewidth": 0,
             "ticks": ""
            },
            "type": "contourcarpet"
           }
          ],
          "heatmap": [
           {
            "colorbar": {
             "outlinewidth": 0,
             "ticks": ""
            },
            "colorscale": [
             [
              0,
              "#0d0887"
             ],
             [
              0.1111111111111111,
              "#46039f"
             ],
             [
              0.2222222222222222,
              "#7201a8"
             ],
             [
              0.3333333333333333,
              "#9c179e"
             ],
             [
              0.4444444444444444,
              "#bd3786"
             ],
             [
              0.5555555555555556,
              "#d8576b"
             ],
             [
              0.6666666666666666,
              "#ed7953"
             ],
             [
              0.7777777777777778,
              "#fb9f3a"
             ],
             [
              0.8888888888888888,
              "#fdca26"
             ],
             [
              1,
              "#f0f921"
             ]
            ],
            "type": "heatmap"
           }
          ],
          "histogram": [
           {
            "marker": {
             "pattern": {
              "fillmode": "overlay",
              "size": 10,
              "solidity": 0.2
             }
            },
            "type": "histogram"
           }
          ],
          "histogram2d": [
           {
            "colorbar": {
             "outlinewidth": 0,
             "ticks": ""
            },
            "colorscale": [
             [
              0,
              "#0d0887"
             ],
             [
              0.1111111111111111,
              "#46039f"
             ],
             [
              0.2222222222222222,
              "#7201a8"
             ],
             [
              0.3333333333333333,
              "#9c179e"
             ],
             [
              0.4444444444444444,
              "#bd3786"
             ],
             [
              0.5555555555555556,
              "#d8576b"
             ],
             [
              0.6666666666666666,
              "#ed7953"
             ],
             [
              0.7777777777777778,
              "#fb9f3a"
             ],
             [
              0.8888888888888888,
              "#fdca26"
             ],
             [
              1,
              "#f0f921"
             ]
            ],
            "type": "histogram2d"
           }
          ],
          "histogram2dcontour": [
           {
            "colorbar": {
             "outlinewidth": 0,
             "ticks": ""
            },
            "colorscale": [
             [
              0,
              "#0d0887"
             ],
             [
              0.1111111111111111,
              "#46039f"
             ],
             [
              0.2222222222222222,
              "#7201a8"
             ],
             [
              0.3333333333333333,
              "#9c179e"
             ],
             [
              0.4444444444444444,
              "#bd3786"
             ],
             [
              0.5555555555555556,
              "#d8576b"
             ],
             [
              0.6666666666666666,
              "#ed7953"
             ],
             [
              0.7777777777777778,
              "#fb9f3a"
             ],
             [
              0.8888888888888888,
              "#fdca26"
             ],
             [
              1,
              "#f0f921"
             ]
            ],
            "type": "histogram2dcontour"
           }
          ],
          "mesh3d": [
           {
            "colorbar": {
             "outlinewidth": 0,
             "ticks": ""
            },
            "type": "mesh3d"
           }
          ],
          "parcoords": [
           {
            "line": {
             "colorbar": {
              "outlinewidth": 0,
              "ticks": ""
             }
            },
            "type": "parcoords"
           }
          ],
          "pie": [
           {
            "automargin": true,
            "type": "pie"
           }
          ],
          "scatter": [
           {
            "fillpattern": {
             "fillmode": "overlay",
             "size": 10,
             "solidity": 0.2
            },
            "type": "scatter"
           }
          ],
          "scatter3d": [
           {
            "line": {
             "colorbar": {
              "outlinewidth": 0,
              "ticks": ""
             }
            },
            "marker": {
             "colorbar": {
              "outlinewidth": 0,
              "ticks": ""
             }
            },
            "type": "scatter3d"
           }
          ],
          "scattercarpet": [
           {
            "marker": {
             "colorbar": {
              "outlinewidth": 0,
              "ticks": ""
             }
            },
            "type": "scattercarpet"
           }
          ],
          "scattergeo": [
           {
            "marker": {
             "colorbar": {
              "outlinewidth": 0,
              "ticks": ""
             }
            },
            "type": "scattergeo"
           }
          ],
          "scattergl": [
           {
            "marker": {
             "colorbar": {
              "outlinewidth": 0,
              "ticks": ""
             }
            },
            "type": "scattergl"
           }
          ],
          "scattermap": [
           {
            "marker": {
             "colorbar": {
              "outlinewidth": 0,
              "ticks": ""
             }
            },
            "type": "scattermap"
           }
          ],
          "scattermapbox": [
           {
            "marker": {
             "colorbar": {
              "outlinewidth": 0,
              "ticks": ""
             }
            },
            "type": "scattermapbox"
           }
          ],
          "scatterpolar": [
           {
            "marker": {
             "colorbar": {
              "outlinewidth": 0,
              "ticks": ""
             }
            },
            "type": "scatterpolar"
           }
          ],
          "scatterpolargl": [
           {
            "marker": {
             "colorbar": {
              "outlinewidth": 0,
              "ticks": ""
             }
            },
            "type": "scatterpolargl"
           }
          ],
          "scatterternary": [
           {
            "marker": {
             "colorbar": {
              "outlinewidth": 0,
              "ticks": ""
             }
            },
            "type": "scatterternary"
           }
          ],
          "surface": [
           {
            "colorbar": {
             "outlinewidth": 0,
             "ticks": ""
            },
            "colorscale": [
             [
              0,
              "#0d0887"
             ],
             [
              0.1111111111111111,
              "#46039f"
             ],
             [
              0.2222222222222222,
              "#7201a8"
             ],
             [
              0.3333333333333333,
              "#9c179e"
             ],
             [
              0.4444444444444444,
              "#bd3786"
             ],
             [
              0.5555555555555556,
              "#d8576b"
             ],
             [
              0.6666666666666666,
              "#ed7953"
             ],
             [
              0.7777777777777778,
              "#fb9f3a"
             ],
             [
              0.8888888888888888,
              "#fdca26"
             ],
             [
              1,
              "#f0f921"
             ]
            ],
            "type": "surface"
           }
          ],
          "table": [
           {
            "cells": {
             "fill": {
              "color": "#EBF0F8"
             },
             "line": {
              "color": "white"
             }
            },
            "header": {
             "fill": {
              "color": "#C8D4E3"
             },
             "line": {
              "color": "white"
             }
            },
            "type": "table"
           }
          ]
         },
         "layout": {
          "annotationdefaults": {
           "arrowcolor": "#2a3f5f",
           "arrowhead": 0,
           "arrowwidth": 1
          },
          "autotypenumbers": "strict",
          "coloraxis": {
           "colorbar": {
            "outlinewidth": 0,
            "ticks": ""
           }
          },
          "colorscale": {
           "diverging": [
            [
             0,
             "#8e0152"
            ],
            [
             0.1,
             "#c51b7d"
            ],
            [
             0.2,
             "#de77ae"
            ],
            [
             0.3,
             "#f1b6da"
            ],
            [
             0.4,
             "#fde0ef"
            ],
            [
             0.5,
             "#f7f7f7"
            ],
            [
             0.6,
             "#e6f5d0"
            ],
            [
             0.7,
             "#b8e186"
            ],
            [
             0.8,
             "#7fbc41"
            ],
            [
             0.9,
             "#4d9221"
            ],
            [
             1,
             "#276419"
            ]
           ],
           "sequential": [
            [
             0,
             "#0d0887"
            ],
            [
             0.1111111111111111,
             "#46039f"
            ],
            [
             0.2222222222222222,
             "#7201a8"
            ],
            [
             0.3333333333333333,
             "#9c179e"
            ],
            [
             0.4444444444444444,
             "#bd3786"
            ],
            [
             0.5555555555555556,
             "#d8576b"
            ],
            [
             0.6666666666666666,
             "#ed7953"
            ],
            [
             0.7777777777777778,
             "#fb9f3a"
            ],
            [
             0.8888888888888888,
             "#fdca26"
            ],
            [
             1,
             "#f0f921"
            ]
           ],
           "sequentialminus": [
            [
             0,
             "#0d0887"
            ],
            [
             0.1111111111111111,
             "#46039f"
            ],
            [
             0.2222222222222222,
             "#7201a8"
            ],
            [
             0.3333333333333333,
             "#9c179e"
            ],
            [
             0.4444444444444444,
             "#bd3786"
            ],
            [
             0.5555555555555556,
             "#d8576b"
            ],
            [
             0.6666666666666666,
             "#ed7953"
            ],
            [
             0.7777777777777778,
             "#fb9f3a"
            ],
            [
             0.8888888888888888,
             "#fdca26"
            ],
            [
             1,
             "#f0f921"
            ]
           ]
          },
          "colorway": [
           "#636efa",
           "#EF553B",
           "#00cc96",
           "#ab63fa",
           "#FFA15A",
           "#19d3f3",
           "#FF6692",
           "#B6E880",
           "#FF97FF",
           "#FECB52"
          ],
          "font": {
           "color": "#2a3f5f"
          },
          "geo": {
           "bgcolor": "white",
           "lakecolor": "white",
           "landcolor": "#E5ECF6",
           "showlakes": true,
           "showland": true,
           "subunitcolor": "white"
          },
          "hoverlabel": {
           "align": "left"
          },
          "hovermode": "closest",
          "mapbox": {
           "style": "light"
          },
          "paper_bgcolor": "white",
          "plot_bgcolor": "#E5ECF6",
          "polar": {
           "angularaxis": {
            "gridcolor": "white",
            "linecolor": "white",
            "ticks": ""
           },
           "bgcolor": "#E5ECF6",
           "radialaxis": {
            "gridcolor": "white",
            "linecolor": "white",
            "ticks": ""
           }
          },
          "scene": {
           "xaxis": {
            "backgroundcolor": "#E5ECF6",
            "gridcolor": "white",
            "gridwidth": 2,
            "linecolor": "white",
            "showbackground": true,
            "ticks": "",
            "zerolinecolor": "white"
           },
           "yaxis": {
            "backgroundcolor": "#E5ECF6",
            "gridcolor": "white",
            "gridwidth": 2,
            "linecolor": "white",
            "showbackground": true,
            "ticks": "",
            "zerolinecolor": "white"
           },
           "zaxis": {
            "backgroundcolor": "#E5ECF6",
            "gridcolor": "white",
            "gridwidth": 2,
            "linecolor": "white",
            "showbackground": true,
            "ticks": "",
            "zerolinecolor": "white"
           }
          },
          "shapedefaults": {
           "line": {
            "color": "#2a3f5f"
           }
          },
          "ternary": {
           "aaxis": {
            "gridcolor": "white",
            "linecolor": "white",
            "ticks": ""
           },
           "baxis": {
            "gridcolor": "white",
            "linecolor": "white",
            "ticks": ""
           },
           "bgcolor": "#E5ECF6",
           "caxis": {
            "gridcolor": "white",
            "linecolor": "white",
            "ticks": ""
           }
          },
          "title": {
           "x": 0.05
          },
          "xaxis": {
           "automargin": true,
           "gridcolor": "white",
           "linecolor": "white",
           "ticks": "",
           "title": {
            "standoff": 15
           },
           "zerolinecolor": "white",
           "zerolinewidth": 2
          },
          "yaxis": {
           "automargin": true,
           "gridcolor": "white",
           "linecolor": "white",
           "ticks": "",
           "title": {
            "standoff": 15
           },
           "zerolinecolor": "white",
           "zerolinewidth": 2
          }
         }
        },
        "xaxis": {
         "anchor": "y",
         "domain": [
          0,
          1
         ],
         "title": {
          "text": "População empregada por conta de outrem"
         }
        },
        "yaxis": {
         "anchor": "x",
         "domain": [
          0,
          1
         ],
         "showgrid": false,
         "showticklabels": false,
         "title": {
          "text": "y"
         }
        }
       }
      }
     },
     "metadata": {},
     "output_type": "display_data"
    },
    {
     "name": "stdout",
     "output_type": "stream",
     "text": [
      "pop_empregada_outrem_escalão\n",
      "0    279\n",
      "1     28\n",
      "2      1\n",
      "Name: count, dtype: int64\n",
      "File saved to csv_files/3_proporção população empregada outrem escalão.csv\n"
     ]
    }
   ],
   "source": [
    "clustered_df = aplicar_kmeans(only_municipalities_df,3,nome_cluster='pop_empregada_outrem_escalão')\n",
    "save_clustered_df_to_csv(clustered_df,\"csv_files/\", \"3_proporção população empregada outrem escalão.csv\")"
   ]
  },
  {
   "cell_type": "markdown",
   "id": "edd0aed4",
   "metadata": {},
   "source": [
    "### Taxa de emprego"
   ]
  },
  {
   "cell_type": "code",
   "execution_count": 90,
   "id": "3fac48ef",
   "metadata": {},
   "outputs": [
    {
     "data": {
      "text/html": [
       "<div>\n",
       "<style scoped>\n",
       "    .dataframe tbody tr th:only-of-type {\n",
       "        vertical-align: middle;\n",
       "    }\n",
       "\n",
       "    .dataframe tbody tr th {\n",
       "        vertical-align: top;\n",
       "    }\n",
       "\n",
       "    .dataframe thead th {\n",
       "        text-align: right;\n",
       "    }\n",
       "</style>\n",
       "<table border=\"1\" class=\"dataframe\">\n",
       "  <thead>\n",
       "    <tr style=\"text-align: right;\">\n",
       "      <th></th>\n",
       "      <th>local</th>\n",
       "      <th>codigo</th>\n",
       "      <th>Taxa de emprego (%)</th>\n",
       "    </tr>\n",
       "  </thead>\n",
       "  <tbody>\n",
       "    <tr>\n",
       "      <th>5</th>\n",
       "      <td>Arcos de Valdevez</td>\n",
       "      <td>1111601</td>\n",
       "      <td>37.25</td>\n",
       "    </tr>\n",
       "    <tr>\n",
       "      <th>42</th>\n",
       "      <td>Caminha</td>\n",
       "      <td>1111602</td>\n",
       "      <td>44.67</td>\n",
       "    </tr>\n",
       "    <tr>\n",
       "      <th>57</th>\n",
       "      <td>Melgaço</td>\n",
       "      <td>1111603</td>\n",
       "      <td>33.76</td>\n",
       "    </tr>\n",
       "    <tr>\n",
       "      <th>71</th>\n",
       "      <td>Monção</td>\n",
       "      <td>1111604</td>\n",
       "      <td>41.45</td>\n",
       "    </tr>\n",
       "    <tr>\n",
       "      <th>96</th>\n",
       "      <td>Paredes de Coura</td>\n",
       "      <td>1111605</td>\n",
       "      <td>44.44</td>\n",
       "    </tr>\n",
       "    <tr>\n",
       "      <th>...</th>\n",
       "      <td>...</td>\n",
       "      <td>...</td>\n",
       "      <td>...</td>\n",
       "    </tr>\n",
       "    <tr>\n",
       "      <th>3413</th>\n",
       "      <td>Porto Santo</td>\n",
       "      <td>3003201</td>\n",
       "      <td>47.73</td>\n",
       "    </tr>\n",
       "    <tr>\n",
       "      <th>3415</th>\n",
       "      <td>Ribeira Brava</td>\n",
       "      <td>3003107</td>\n",
       "      <td>41.15</td>\n",
       "    </tr>\n",
       "    <tr>\n",
       "      <th>3420</th>\n",
       "      <td>Santa Cruz</td>\n",
       "      <td>3003108</td>\n",
       "      <td>52.7</td>\n",
       "    </tr>\n",
       "    <tr>\n",
       "      <th>3426</th>\n",
       "      <td>Santana</td>\n",
       "      <td>3003109</td>\n",
       "      <td>38.96</td>\n",
       "    </tr>\n",
       "    <tr>\n",
       "      <th>3433</th>\n",
       "      <td>São Vicente</td>\n",
       "      <td>3003110</td>\n",
       "      <td>38.62</td>\n",
       "    </tr>\n",
       "  </tbody>\n",
       "</table>\n",
       "<p>308 rows × 3 columns</p>\n",
       "</div>"
      ],
      "text/plain": [
       "                  local   codigo Taxa de emprego (%)\n",
       "5     Arcos de Valdevez  1111601               37.25\n",
       "42              Caminha  1111602               44.67\n",
       "57              Melgaço  1111603               33.76\n",
       "71               Monção  1111604               41.45\n",
       "96     Paredes de Coura  1111605               44.44\n",
       "...                 ...      ...                 ...\n",
       "3413        Porto Santo  3003201               47.73\n",
       "3415      Ribeira Brava  3003107               41.15\n",
       "3420         Santa Cruz  3003108                52.7\n",
       "3426            Santana  3003109               38.96\n",
       "3433        São Vicente  3003110               38.62\n",
       "\n",
       "[308 rows x 3 columns]"
      ]
     },
     "execution_count": 90,
     "metadata": {},
     "output_type": "execute_result"
    }
   ],
   "source": [
    "original_df = processar_ficheiro(data_path+'Taxa de emprego.xls',0,padding_left=1) # Removed separations between gender\n",
    "only_municipalities_df = filter_for_only_municipalities(original_df)\n",
    "only_municipalities_df"
   ]
  },
  {
   "cell_type": "code",
   "execution_count": 91,
   "id": "22ed3182",
   "metadata": {},
   "outputs": [
    {
     "data": {
      "application/vnd.plotly.v1+json": {
       "config": {
        "plotlyServerURL": "https://plot.ly"
       },
       "data": [
        {
         "customdata": [
          [
           "Arcos de Valdevez",
           "1111601",
           37.25
          ],
          [
           "Caminha",
           "1111602",
           44.67
          ],
          [
           "Melgaço",
           "1111603",
           33.76
          ],
          [
           "Monção",
           "1111604",
           41.45
          ],
          [
           "Paredes de Coura",
           "1111605",
           44.44
          ],
          [
           "Ponte da Barca",
           "1111606",
           42.13
          ],
          [
           "Ponte de Lima",
           "1111607",
           48.37
          ],
          [
           "Valença",
           "1111608",
           47.15
          ],
          [
           "Viana do Castelo",
           "1111609",
           49.06
          ],
          [
           "Vila Nova de Cerveira",
           "1111610",
           49.06
          ],
          [
           "Amares",
           "1120301",
           50.15
          ],
          [
           "Barcelos",
           "1120302",
           54.09
          ],
          [
           "Braga",
           "1120303",
           54.34
          ],
          [
           "Esposende",
           "1120306",
           54.17
          ],
          [
           "Terras de Bouro",
           "1120310",
           39.52
          ],
          [
           "Vila Verde",
           "1120313",
           48.76
          ],
          [
           "Cabeceiras de Basto",
           "1190304",
           44.77
          ],
          [
           "Fafe",
           "1190307",
           47.78
          ],
          [
           "Guimarães",
           "1190308",
           53.12
          ],
          [
           "Mondim de Basto",
           "1191705",
           38.61
          ],
          [
           "Póvoa de Lanhoso",
           "1190309",
           45.9
          ],
          [
           "Vieira do Minho",
           "1190311",
           37.66
          ],
          [
           "Vila Nova de Famalicão",
           "1190312",
           53.95
          ],
          [
           "Vizela",
           "1190314",
           56.04
          ],
          [
           "Arouca",
           "11A0104",
           48.66
          ],
          [
           "Espinho",
           "11A0107",
           43.73
          ],
          [
           "Gondomar",
           "11A1304",
           49.25
          ],
          [
           "Maia",
           "11A1306",
           53.59
          ],
          [
           "Matosinhos",
           "11A1308",
           49.21
          ],
          [
           "Oliveira de Azeméis",
           "11A0113",
           52.77
          ],
          [
           "Paredes",
           "11A1310",
           53.11
          ],
          [
           "Porto",
           "11A1312",
           45.62
          ],
          [
           "Póvoa de Varzim",
           "11A1313",
           50.91
          ],
          [
           "Santa Maria da Feira",
           "11A0109",
           51.76
          ],
          [
           "Santo Tirso",
           "11A1314",
           49.26
          ],
          [
           "São João da Madeira",
           "11A0116",
           51.48
          ],
          [
           "Trofa",
           "11A1318",
           53.82
          ],
          [
           "Vale de Cambra",
           "11A0119",
           48.56
          ],
          [
           "Valongo",
           "11A1315",
           51.66
          ],
          [
           "Vila do Conde",
           "11A1316",
           51.96
          ],
          [
           "Vila Nova de Gaia",
           "11A1317",
           49.19
          ],
          [
           "Boticas",
           "11B1702",
           36.31
          ],
          [
           "Chaves",
           "11B1703",
           38.75
          ],
          [
           "Montalegre",
           "11B1706",
           34.18
          ],
          [
           "Ribeira de Pena",
           "11B1709",
           37.38
          ],
          [
           "Valpaços",
           "11B1712",
           29.91
          ],
          [
           "Vila Pouca de Aguiar",
           "11B1713",
           36.09
          ],
          [
           "Amarante",
           "11C1301",
           46.11
          ],
          [
           "Baião",
           "11C1302",
           41.29
          ],
          [
           "Castelo de Paiva",
           "11C0106",
           47.24
          ],
          [
           "Celorico de Basto",
           "11C0305",
           44.38
          ],
          [
           "Cinfães",
           "11C1804",
           38.82
          ],
          [
           "Felgueiras",
           "11C1303",
           54.64
          ],
          [
           "Lousada",
           "11C1305",
           55
          ],
          [
           "Marco de Canaveses",
           "11C1307",
           46.9
          ],
          [
           "Paços de Ferreira",
           "11C1309",
           55.22
          ],
          [
           "Penafiel",
           "11C1311",
           50.78
          ],
          [
           "Resende",
           "11C1813",
           38.55
          ],
          [
           "Alijó",
           "11D1701",
           39.48
          ],
          [
           "Armamar",
           "11D1801",
           39.23
          ],
          [
           "Carrazeda de Ansiães",
           "11D0403",
           34.32
          ],
          [
           "Freixo de Espada à Cinta",
           "11D0404",
           38.67
          ],
          [
           "Lamego",
           "11D1805",
           42.58
          ],
          [
           "Mesão Frio",
           "11D1704",
           39.71
          ],
          [
           "Moimenta da Beira",
           "11D1807",
           39.79
          ],
          [
           "Murça",
           "11D1707",
           34.58
          ],
          [
           "Penedono",
           "11D1812",
           40.3
          ],
          [
           "Peso da Régua",
           "11D1708",
           42.19
          ],
          [
           "Sabrosa",
           "11D1710",
           39.5
          ],
          [
           "Santa Marta de Penaguião",
           "11D1711",
           38.44
          ],
          [
           "São João da Pesqueira",
           "11D1815",
           46.1
          ],
          [
           "Sernancelhe",
           "11D1818",
           37.47
          ],
          [
           "Tabuaço",
           "11D1819",
           36.2
          ],
          [
           "Tarouca",
           "11D1820",
           42.25
          ],
          [
           "Torre de Moncorvo",
           "11D0409",
           36.5
          ],
          [
           "Vila Nova de Foz Côa",
           "11D0914",
           39.19
          ],
          [
           "Vila Real",
           "11D1714",
           48.81
          ],
          [
           "Alfândega da Fé",
           "11E0401",
           36.36
          ],
          [
           "Bragança",
           "11E0402",
           44.99
          ],
          [
           "Macedo de Cavaleiros",
           "11E0405",
           38.94
          ],
          [
           "Miranda do Douro",
           "11E0406",
           39.16
          ],
          [
           "Mirandela",
           "11E0407",
           40.2
          ],
          [
           "Mogadouro",
           "11E0408",
           37.96
          ],
          [
           "Vila Flor",
           "11E0410",
           37.92
          ],
          [
           "Vimioso",
           "11E0411",
           33.66
          ],
          [
           "Vinhais",
           "11E0412",
           30.87
          ],
          [
           "Alcobaça",
           "16B1001",
           49.36
          ],
          [
           "Alenquer",
           "16B1101",
           53.37
          ],
          [
           "Arruda dos Vinhos",
           "16B1102",
           55.45
          ],
          [
           "Bombarral",
           "16B1005",
           46.78
          ],
          [
           "Cadaval",
           "16B1104",
           44.47
          ],
          [
           "Caldas da Rainha",
           "16B1006",
           47.55
          ],
          [
           "Lourinhã",
           "16B1108",
           47.81
          ],
          [
           "Nazaré",
           "16B1011",
           46.06
          ],
          [
           "Óbidos",
           "16B1012",
           46.32
          ],
          [
           "Peniche",
           "16B1014",
           46.73
          ],
          [
           "Sobral de Monte Agraço",
           "16B1112",
           54.93
          ],
          [
           "Torres Vedras",
           "16B1113",
           52.34
          ],
          [
           "Águeda",
           "16D0101",
           52.05
          ],
          [
           "Albergaria-a-Velha",
           "16D0102",
           53.15
          ],
          [
           "Anadia",
           "16D0103",
           48.69
          ],
          [
           "Aveiro",
           "16D0105",
           54.82
          ],
          [
           "Estarreja",
           "16D0108",
           50
          ],
          [
           "Ílhavo",
           "16D0110",
           52.64
          ],
          [
           "Murtosa",
           "16D0112",
           47.93
          ],
          [
           "Oliveira do Bairro",
           "16D0114",
           53.56
          ],
          [
           "Ovar",
           "16D0115",
           51.53
          ],
          [
           "Sever do Vouga",
           "16D0117",
           47.05
          ],
          [
           "Vagos",
           "16D0118",
           51.99
          ],
          [
           "Arganil",
           "16E0601",
           41.1
          ],
          [
           "Cantanhede",
           "16E0602",
           46.06
          ],
          [
           "Coimbra",
           "16E0603",
           51.04
          ],
          [
           "Condeixa-a-Nova",
           "16E0604",
           52.98
          ],
          [
           "Figueira da Foz",
           "16E0605",
           44.84
          ],
          [
           "Góis",
           "16E0606",
           37.31
          ],
          [
           "Lousã",
           "16E0607",
           49.59
          ],
          [
           "Mealhada",
           "16E0111",
           50.84
          ],
          [
           "Mira",
           "16E0608",
           45.52
          ],
          [
           "Miranda do Corvo",
           "16E0609",
           47.52
          ],
          [
           "Montemor-o-Velho",
           "16E0610",
           49.67
          ],
          [
           "Mortágua",
           "16E1808",
           43.43
          ],
          [
           "Oliveira do Hospital",
           "16E0611",
           45.47
          ],
          [
           "Pampilhosa da Serra",
           "16E0612",
           32.03
          ],
          [
           "Penacova",
           "16E0613",
           45.08
          ],
          [
           "Penela",
           "16E0614",
           44.17
          ],
          [
           "Soure",
           "16E0615",
           43.03
          ],
          [
           "Tábua",
           "16E0616",
           43.99
          ],
          [
           "Vila Nova de Poiares",
           "16E0617",
           48.69
          ],
          [
           "Alvaiázere",
           "16F1002",
           38.26
          ],
          [
           "Ansião",
           "16F1003",
           43.19
          ],
          [
           "Batalha",
           "16F1004",
           53.49
          ],
          [
           "Castanheira de Pêra",
           "16F1007",
           35.66
          ],
          [
           "Figueiró dos Vinhos",
           "16F1008",
           39.95
          ],
          [
           "Leiria",
           "16F1009",
           53.82
          ],
          [
           "Marinha Grande",
           "16F1010",
           50.36
          ],
          [
           "Pedrógão Grande",
           "16F1013",
           36.14
          ],
          [
           "Pombal",
           "16F1015",
           46.44
          ],
          [
           "Porto de Mós",
           "16F1016",
           51.69
          ],
          [
           "Aguiar da Beira",
           "16G0901",
           35.53
          ],
          [
           "Carregal do Sal",
           "16G1802",
           42.16
          ],
          [
           "Castro Daire",
           "16G1803",
           35.86
          ],
          [
           "Mangualde",
           "16G1806",
           42.9
          ],
          [
           "Nelas",
           "16G1809",
           43.19
          ],
          [
           "Oliveira de Frades",
           "16G1810",
           49.62
          ],
          [
           "Penalva do Castelo",
           "16G1811",
           36.9
          ],
          [
           "Santa Comba Dão",
           "16G1814",
           42.43
          ],
          [
           "São Pedro do Sul",
           "16G1816",
           39.56
          ],
          [
           "Sátão",
           "16G1817",
           41.64
          ],
          [
           "Tondela",
           "16G1821",
           43.89
          ],
          [
           "Vila Nova de Paiva",
           "16G1822",
           39.38
          ],
          [
           "Viseu",
           "16G1823",
           49.26
          ],
          [
           "Vouzela",
           "16G1824",
           42.97
          ],
          [
           "Castelo Branco",
           "16H0502",
           46.73
          ],
          [
           "Idanha-a-Nova",
           "16H0505",
           31.35
          ],
          [
           "Oleiros",
           "16H0506",
           34.37
          ],
          [
           "Penamacor",
           "16H0507",
           31.73
          ],
          [
           "Proença-a-Nova",
           "16H0508",
           37.82
          ],
          [
           "Vila Velha de Ródão",
           "16H0511",
           32.75
          ],
          [
           "Abrantes",
           "16I1401",
           41.35
          ],
          [
           "Alcanena",
           "16I1402",
           47.77
          ],
          [
           "Constância",
           "16I1408",
           46.24
          ],
          [
           "Entroncamento",
           "16I1410",
           50.59
          ],
          [
           "Ferreira do Zêzere",
           "16I1411",
           41.95
          ],
          [
           "Mação",
           "16I1413",
           37.35
          ],
          [
           "Ourém",
           "16I1421",
           48.44
          ],
          [
           "Sardoal",
           "16I1417",
           40.88
          ],
          [
           "Sertã",
           "16I0509",
           42.06
          ],
          [
           "Tomar",
           "16I1418",
           41.92
          ],
          [
           "Torres Novas",
           "16I1419",
           46.67
          ],
          [
           "Vila de Rei",
           "16I0510",
           37.34
          ],
          [
           "Vila Nova da Barquinha",
           "16I1420",
           44.76
          ],
          [
           "Almeida",
           "16J0902",
           33.91
          ],
          [
           "Belmonte",
           "16J0501",
           41.44
          ],
          [
           "Celorico da Beira",
           "16J0903",
           40.85
          ],
          [
           "Covilhã",
           "16J0503",
           43.55
          ],
          [
           "Figueira de Castelo Rodrigo",
           "16J0904",
           38.49
          ],
          [
           "Fornos de Algodres",
           "16J0905",
           39.07
          ],
          [
           "Fundão",
           "16J0504",
           42.22
          ],
          [
           "Gouveia",
           "16J0906",
           36.31
          ],
          [
           "Guarda",
           "16J0907",
           49.03
          ],
          [
           "Manteigas",
           "16J0908",
           36.62
          ],
          [
           "Mêda",
           "16J0909",
           37.36
          ],
          [
           "Pinhel",
           "16J0910",
           39.04
          ],
          [
           "Sabugal",
           "16J0911",
           33.15
          ],
          [
           "Seia",
           "16J0912",
           40.51
          ],
          [
           "Trancoso",
           "16J0913",
           39.41
          ],
          [
           "Alcochete",
           "1701502",
           54.31
          ],
          [
           "Almada",
           "1701503",
           48.03
          ],
          [
           "Amadora",
           "1701115",
           50.52
          ],
          [
           "Barreiro",
           "1701504",
           46.62
          ],
          [
           "Cascais",
           "1701105",
           49.19
          ],
          [
           "Lisboa",
           "1701106",
           50.59
          ],
          [
           "Loures",
           "1701107",
           50.92
          ],
          [
           "Mafra",
           "1701109",
           55.79
          ],
          [
           "Moita",
           "1701506",
           46.86
          ],
          [
           "Montijo",
           "1701507",
           53.44
          ],
          [
           "Odivelas",
           "1701116",
           52.69
          ],
          [
           "Oeiras",
           "1701110",
           51.08
          ],
          [
           "Palmela",
           "1701508",
           51.15
          ],
          [
           "Seixal",
           "1701510",
           50.59
          ],
          [
           "Sesimbra",
           "1701511",
           51.52
          ],
          [
           "Setúbal",
           "1701512",
           48.46
          ],
          [
           "Sintra",
           "1701111",
           53.88
          ],
          [
           "Vila Franca de Xira",
           "1701114",
           55.14
          ],
          [
           "Alcácer do Sal",
           "1811501",
           46.65
          ],
          [
           "Grândola",
           "1811505",
           46.73
          ],
          [
           "Odemira",
           "1810211",
           53.85
          ],
          [
           "Santiago do Cacém",
           "1811509",
           47.57
          ],
          [
           "Sines",
           "1811513",
           51.44
          ],
          [
           "Aljustrel",
           "1840201",
           45.21
          ],
          [
           "Almodôvar",
           "1840202",
           43.44
          ],
          [
           "Alvito",
           "1840203",
           43.89
          ],
          [
           "Barrancos",
           "1840204",
           44.69
          ],
          [
           "Beja",
           "1840205",
           50.22
          ],
          [
           "Castro Verde",
           "1840206",
           47.72
          ],
          [
           "Cuba",
           "1840207",
           47.66
          ],
          [
           "Ferreira do Alentejo",
           "1840208",
           47.97
          ],
          [
           "Mértola",
           "1840209",
           39.29
          ],
          [
           "Moura",
           "1840210",
           40.94
          ],
          [
           "Ourique",
           "1840212",
           43.42
          ],
          [
           "Serpa",
           "1840213",
           42.83
          ],
          [
           "Vidigueira",
           "1840214",
           45.48
          ],
          [
           "Almeirim",
           "1851403",
           47.38
          ],
          [
           "Alpiarça",
           "1851404",
           44.26
          ],
          [
           "Azambuja",
           "1851103",
           47.86
          ],
          [
           "Benavente",
           "1851405",
           52.61
          ],
          [
           "Cartaxo",
           "1851406",
           47.91
          ],
          [
           "Chamusca",
           "1851407",
           44.71
          ],
          [
           "Coruche",
           "1851409",
           42.19
          ],
          [
           "Golegã",
           "1851412",
           46.52
          ],
          [
           "Rio Maior",
           "1851414",
           50.98
          ],
          [
           "Salvaterra de Magos",
           "1851415",
           45.55
          ],
          [
           "Santarém",
           "1851416",
           48.05
          ],
          [
           "Alter do Chão",
           "1861201",
           38.22
          ],
          [
           "Arronches",
           "1861202",
           45.89
          ],
          [
           "Avis",
           "1861203",
           41.96
          ],
          [
           "Campo Maior",
           "1861204",
           48.97
          ],
          [
           "Castelo de Vide",
           "1861205",
           43.03
          ],
          [
           "Crato",
           "1861206",
           38.13
          ],
          [
           "Elvas",
           "1861207",
           45.21
          ],
          [
           "Fronteira",
           "1861208",
           42.58
          ],
          [
           "Gavião",
           "1861209",
           34.42
          ],
          [
           "Marvão",
           "1861210",
           41.42
          ],
          [
           "Monforte",
           "1861211",
           40.69
          ],
          [
           "Nisa",
           "1861212",
           37.47
          ],
          [
           "Ponte de Sor",
           "1861213",
           43.74
          ],
          [
           "Portalegre",
           "1861214",
           47.78
          ],
          [
           "Sousel",
           "1861215",
           42.2
          ],
          [
           "Alandroal",
           "1870701",
           43.81
          ],
          [
           "Arraiolos",
           "1870702",
           50
          ],
          [
           "Borba",
           "1870703",
           43.71
          ],
          [
           "Estremoz",
           "1870704",
           47.53
          ],
          [
           "Évora",
           "1870705",
           51.94
          ],
          [
           "Montemor-o-Novo",
           "1870706",
           48.17
          ],
          [
           "Mora",
           "1870707",
           40.48
          ],
          [
           "Mourão",
           "1870708",
           41.13
          ],
          [
           "Portel",
           "1870709",
           45.4
          ],
          [
           "Redondo",
           "1870710",
           48.21
          ],
          [
           "Reguengos de Monsaraz",
           "1870711",
           45.95
          ],
          [
           "Vendas Novas",
           "1870712",
           46.8
          ],
          [
           "Viana do Alentejo",
           "1870713",
           49.35
          ],
          [
           "Vila Viçosa",
           "1870714",
           47.42
          ],
          [
           "Albufeira",
           "1500801",
           45.91
          ],
          [
           "Alcoutim",
           "1500802",
           34.5
          ],
          [
           "Aljezur",
           "1500803",
           43.84
          ],
          [
           "Castro Marim",
           "1500804",
           40.39
          ],
          [
           "Faro",
           "1500805",
           51.61
          ],
          [
           "Lagoa",
           "2004201",
           44.06
          ],
          [
           "Lagos",
           "1500807",
           44.12
          ],
          [
           "Loulé",
           "1500808",
           47.95
          ],
          [
           "Monchique",
           "1500809",
           40.31
          ],
          [
           "Olhão",
           "1500810",
           48.01
          ],
          [
           "Portimão",
           "1500811",
           46.31
          ],
          [
           "São Brás de Alportel",
           "1500812",
           48.37
          ],
          [
           "Silves",
           "1500813",
           45.78
          ],
          [
           "Tavira",
           "1500814",
           42.63
          ],
          [
           "Vila do Bispo",
           "1500815",
           42.68
          ],
          [
           "Vila Real de Santo António",
           "1500816",
           42.41
          ],
          [
           "Angra do Heroísmo",
           "2004301",
           52.7
          ],
          [
           "Calheta",
           "3003101",
           51.73
          ],
          [
           "Corvo",
           "2004901",
           65.37
          ],
          [
           "Horta",
           "2004701",
           55.52
          ],
          [
           "Lagoa",
           "2004201",
           52.51
          ],
          [
           "Lajes das Flores",
           "2004801",
           55.08
          ],
          [
           "Lajes do Pico",
           "2004601",
           49.29
          ],
          [
           "Madalena",
           "2004602",
           53.99
          ],
          [
           "Nordeste",
           "2004202",
           46.26
          ],
          [
           "Ponta Delgada",
           "2004203",
           53.16
          ],
          [
           "Povoação",
           "2004204",
           48.09
          ],
          [
           "Ribeira Grande",
           "2004205",
           50.72
          ],
          [
           "Santa Cruz da Graciosa",
           "2004401",
           52.67
          ],
          [
           "Santa Cruz das Flores",
           "2004802",
           57.52
          ],
          [
           "São Roque do Pico",
           "2004603",
           51.38
          ],
          [
           "Velas",
           "2004502",
           53.75
          ],
          [
           "Vila da Praia da Vitória",
           "2004302",
           50.81
          ],
          [
           "Vila do Porto",
           "2004101",
           55.22
          ],
          [
           "Vila Franca do Campo",
           "2004206",
           47.37
          ],
          [
           "Calheta",
           "3003101",
           38.89
          ],
          [
           "Câmara de Lobos",
           "3003102",
           45.79
          ],
          [
           "Funchal",
           "3003103",
           46.37
          ],
          [
           "Machico",
           "3003104",
           43.53
          ],
          [
           "Ponta do Sol",
           "3003105",
           42.76
          ],
          [
           "Porto Moniz",
           "3003106",
           39.2
          ],
          [
           "Porto Santo",
           "3003201",
           47.73
          ],
          [
           "Ribeira Brava",
           "3003107",
           41.15
          ],
          [
           "Santa Cruz",
           "3003108",
           52.7
          ],
          [
           "Santana",
           "3003109",
           38.96
          ],
          [
           "São Vicente",
           "3003110",
           38.62
          ]
         ],
         "hovertemplate": "valor=%{x}<br>y=%{y}<br>local=%{customdata[0]}<br>codigo=%{customdata[1]}<br>Taxa de emprego (%)=%{customdata[2]}<br>taxa_emprego=%{marker.color}<extra></extra>",
         "legendgroup": "",
         "marker": {
          "color": {
           "bdata": "AAEAAAEBAQECAgICAgIAAQEBAgABAAICAQECAgICAgECAgICAgECAgIAAAAAAAABAAEBAAICAQICAAAAAAABAAAAAAEAAAEAAAEAAAEAAQAAAAAAAAACAgIBAQEBAQEBAgICAgECAgIBAgIBAgABAgIBAAICAQECAQEAAQEBAQEAAQIAAAICAAECAAEAAQECAAEAAQEAAgEBAAAAAAAAAQECAQABAAEBAQABAAAAAQAAAQACAAAAAAAAAgECAQICAgIBAgICAgICAQICAQECAQIBAQEBAgEBAQAAAQEBAQEBAgEBAQECAQEAAQECAQABAQAAAAABAQEBAgEBAgEAAAEBAQECAQEAAQACAQEBAAEBAQEBAQECAgICAgICAgECAQICAgICAgIBAAEBAQEAAQACAAA=",
           "dtype": "i1"
          },
          "coloraxis": "coloraxis",
          "size": 10,
          "symbol": "circle"
         },
         "mode": "markers",
         "name": "",
         "orientation": "v",
         "showlegend": false,
         "type": "scatter",
         "x": {
          "bdata": "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",
          "dtype": "f8"
         },
         "xaxis": "x",
         "y": {
          "bdata": "AAAAAAAAAAAAAAAAAAAAAAAAAAAAAAAAAAAAAAAAAAAAAAAAAAAAAAAAAAAAAAAAAAAAAAAAAAAAAAAAAAAAAAAAAAAAAAAAAAAAAAAAAAAAAAAAAAAAAAAAAAAAAAAAAAAAAAAAAAAAAAAAAAAAAAAAAAAAAAAAAAAAAAAAAAAAAAAAAAAAAAAAAAAAAAAAAAAAAAAAAAAAAAAAAAAAAAAAAAAAAAAAAAAAAAAAAAAAAAAAAAAAAAAAAAAAAAAAAAAAAAAAAAAAAAAAAAAAAAAAAAAAAAAAAAAAAAAAAAAAAAAAAAAAAAAAAAAAAAAAAAAAAAAAAAAAAAAAAAAAAAAAAAAAAAAAAAAAAAAAAAAAAAAAAAAAAAAAAAAAAAAAAAAAAAAAAAAAAAAAAAAAAAAAAAA=",
          "dtype": "i1"
         },
         "yaxis": "y"
        }
       ],
       "layout": {
        "coloraxis": {
         "colorbar": {
          "title": {
           "text": "taxa_emprego"
          }
         },
         "colorscale": [
          [
           0,
           "#440154"
          ],
          [
           0.1111111111111111,
           "#482878"
          ],
          [
           0.2222222222222222,
           "#3e4989"
          ],
          [
           0.3333333333333333,
           "#31688e"
          ],
          [
           0.4444444444444444,
           "#26828e"
          ],
          [
           0.5555555555555556,
           "#1f9e89"
          ],
          [
           0.6666666666666666,
           "#35b779"
          ],
          [
           0.7777777777777778,
           "#6ece58"
          ],
          [
           0.8888888888888888,
           "#b5de2b"
          ],
          [
           1,
           "#fde725"
          ]
         ]
        },
        "height": 300,
        "legend": {
         "tracegroupgap": 0
        },
        "margin": {
         "t": 60
        },
        "template": {
         "data": {
          "bar": [
           {
            "error_x": {
             "color": "#2a3f5f"
            },
            "error_y": {
             "color": "#2a3f5f"
            },
            "marker": {
             "line": {
              "color": "#E5ECF6",
              "width": 0.5
             },
             "pattern": {
              "fillmode": "overlay",
              "size": 10,
              "solidity": 0.2
             }
            },
            "type": "bar"
           }
          ],
          "barpolar": [
           {
            "marker": {
             "line": {
              "color": "#E5ECF6",
              "width": 0.5
             },
             "pattern": {
              "fillmode": "overlay",
              "size": 10,
              "solidity": 0.2
             }
            },
            "type": "barpolar"
           }
          ],
          "carpet": [
           {
            "aaxis": {
             "endlinecolor": "#2a3f5f",
             "gridcolor": "white",
             "linecolor": "white",
             "minorgridcolor": "white",
             "startlinecolor": "#2a3f5f"
            },
            "baxis": {
             "endlinecolor": "#2a3f5f",
             "gridcolor": "white",
             "linecolor": "white",
             "minorgridcolor": "white",
             "startlinecolor": "#2a3f5f"
            },
            "type": "carpet"
           }
          ],
          "choropleth": [
           {
            "colorbar": {
             "outlinewidth": 0,
             "ticks": ""
            },
            "type": "choropleth"
           }
          ],
          "contour": [
           {
            "colorbar": {
             "outlinewidth": 0,
             "ticks": ""
            },
            "colorscale": [
             [
              0,
              "#0d0887"
             ],
             [
              0.1111111111111111,
              "#46039f"
             ],
             [
              0.2222222222222222,
              "#7201a8"
             ],
             [
              0.3333333333333333,
              "#9c179e"
             ],
             [
              0.4444444444444444,
              "#bd3786"
             ],
             [
              0.5555555555555556,
              "#d8576b"
             ],
             [
              0.6666666666666666,
              "#ed7953"
             ],
             [
              0.7777777777777778,
              "#fb9f3a"
             ],
             [
              0.8888888888888888,
              "#fdca26"
             ],
             [
              1,
              "#f0f921"
             ]
            ],
            "type": "contour"
           }
          ],
          "contourcarpet": [
           {
            "colorbar": {
             "outlinewidth": 0,
             "ticks": ""
            },
            "type": "contourcarpet"
           }
          ],
          "heatmap": [
           {
            "colorbar": {
             "outlinewidth": 0,
             "ticks": ""
            },
            "colorscale": [
             [
              0,
              "#0d0887"
             ],
             [
              0.1111111111111111,
              "#46039f"
             ],
             [
              0.2222222222222222,
              "#7201a8"
             ],
             [
              0.3333333333333333,
              "#9c179e"
             ],
             [
              0.4444444444444444,
              "#bd3786"
             ],
             [
              0.5555555555555556,
              "#d8576b"
             ],
             [
              0.6666666666666666,
              "#ed7953"
             ],
             [
              0.7777777777777778,
              "#fb9f3a"
             ],
             [
              0.8888888888888888,
              "#fdca26"
             ],
             [
              1,
              "#f0f921"
             ]
            ],
            "type": "heatmap"
           }
          ],
          "histogram": [
           {
            "marker": {
             "pattern": {
              "fillmode": "overlay",
              "size": 10,
              "solidity": 0.2
             }
            },
            "type": "histogram"
           }
          ],
          "histogram2d": [
           {
            "colorbar": {
             "outlinewidth": 0,
             "ticks": ""
            },
            "colorscale": [
             [
              0,
              "#0d0887"
             ],
             [
              0.1111111111111111,
              "#46039f"
             ],
             [
              0.2222222222222222,
              "#7201a8"
             ],
             [
              0.3333333333333333,
              "#9c179e"
             ],
             [
              0.4444444444444444,
              "#bd3786"
             ],
             [
              0.5555555555555556,
              "#d8576b"
             ],
             [
              0.6666666666666666,
              "#ed7953"
             ],
             [
              0.7777777777777778,
              "#fb9f3a"
             ],
             [
              0.8888888888888888,
              "#fdca26"
             ],
             [
              1,
              "#f0f921"
             ]
            ],
            "type": "histogram2d"
           }
          ],
          "histogram2dcontour": [
           {
            "colorbar": {
             "outlinewidth": 0,
             "ticks": ""
            },
            "colorscale": [
             [
              0,
              "#0d0887"
             ],
             [
              0.1111111111111111,
              "#46039f"
             ],
             [
              0.2222222222222222,
              "#7201a8"
             ],
             [
              0.3333333333333333,
              "#9c179e"
             ],
             [
              0.4444444444444444,
              "#bd3786"
             ],
             [
              0.5555555555555556,
              "#d8576b"
             ],
             [
              0.6666666666666666,
              "#ed7953"
             ],
             [
              0.7777777777777778,
              "#fb9f3a"
             ],
             [
              0.8888888888888888,
              "#fdca26"
             ],
             [
              1,
              "#f0f921"
             ]
            ],
            "type": "histogram2dcontour"
           }
          ],
          "mesh3d": [
           {
            "colorbar": {
             "outlinewidth": 0,
             "ticks": ""
            },
            "type": "mesh3d"
           }
          ],
          "parcoords": [
           {
            "line": {
             "colorbar": {
              "outlinewidth": 0,
              "ticks": ""
             }
            },
            "type": "parcoords"
           }
          ],
          "pie": [
           {
            "automargin": true,
            "type": "pie"
           }
          ],
          "scatter": [
           {
            "fillpattern": {
             "fillmode": "overlay",
             "size": 10,
             "solidity": 0.2
            },
            "type": "scatter"
           }
          ],
          "scatter3d": [
           {
            "line": {
             "colorbar": {
              "outlinewidth": 0,
              "ticks": ""
             }
            },
            "marker": {
             "colorbar": {
              "outlinewidth": 0,
              "ticks": ""
             }
            },
            "type": "scatter3d"
           }
          ],
          "scattercarpet": [
           {
            "marker": {
             "colorbar": {
              "outlinewidth": 0,
              "ticks": ""
             }
            },
            "type": "scattercarpet"
           }
          ],
          "scattergeo": [
           {
            "marker": {
             "colorbar": {
              "outlinewidth": 0,
              "ticks": ""
             }
            },
            "type": "scattergeo"
           }
          ],
          "scattergl": [
           {
            "marker": {
             "colorbar": {
              "outlinewidth": 0,
              "ticks": ""
             }
            },
            "type": "scattergl"
           }
          ],
          "scattermap": [
           {
            "marker": {
             "colorbar": {
              "outlinewidth": 0,
              "ticks": ""
             }
            },
            "type": "scattermap"
           }
          ],
          "scattermapbox": [
           {
            "marker": {
             "colorbar": {
              "outlinewidth": 0,
              "ticks": ""
             }
            },
            "type": "scattermapbox"
           }
          ],
          "scatterpolar": [
           {
            "marker": {
             "colorbar": {
              "outlinewidth": 0,
              "ticks": ""
             }
            },
            "type": "scatterpolar"
           }
          ],
          "scatterpolargl": [
           {
            "marker": {
             "colorbar": {
              "outlinewidth": 0,
              "ticks": ""
             }
            },
            "type": "scatterpolargl"
           }
          ],
          "scatterternary": [
           {
            "marker": {
             "colorbar": {
              "outlinewidth": 0,
              "ticks": ""
             }
            },
            "type": "scatterternary"
           }
          ],
          "surface": [
           {
            "colorbar": {
             "outlinewidth": 0,
             "ticks": ""
            },
            "colorscale": [
             [
              0,
              "#0d0887"
             ],
             [
              0.1111111111111111,
              "#46039f"
             ],
             [
              0.2222222222222222,
              "#7201a8"
             ],
             [
              0.3333333333333333,
              "#9c179e"
             ],
             [
              0.4444444444444444,
              "#bd3786"
             ],
             [
              0.5555555555555556,
              "#d8576b"
             ],
             [
              0.6666666666666666,
              "#ed7953"
             ],
             [
              0.7777777777777778,
              "#fb9f3a"
             ],
             [
              0.8888888888888888,
              "#fdca26"
             ],
             [
              1,
              "#f0f921"
             ]
            ],
            "type": "surface"
           }
          ],
          "table": [
           {
            "cells": {
             "fill": {
              "color": "#EBF0F8"
             },
             "line": {
              "color": "white"
             }
            },
            "header": {
             "fill": {
              "color": "#C8D4E3"
             },
             "line": {
              "color": "white"
             }
            },
            "type": "table"
           }
          ]
         },
         "layout": {
          "annotationdefaults": {
           "arrowcolor": "#2a3f5f",
           "arrowhead": 0,
           "arrowwidth": 1
          },
          "autotypenumbers": "strict",
          "coloraxis": {
           "colorbar": {
            "outlinewidth": 0,
            "ticks": ""
           }
          },
          "colorscale": {
           "diverging": [
            [
             0,
             "#8e0152"
            ],
            [
             0.1,
             "#c51b7d"
            ],
            [
             0.2,
             "#de77ae"
            ],
            [
             0.3,
             "#f1b6da"
            ],
            [
             0.4,
             "#fde0ef"
            ],
            [
             0.5,
             "#f7f7f7"
            ],
            [
             0.6,
             "#e6f5d0"
            ],
            [
             0.7,
             "#b8e186"
            ],
            [
             0.8,
             "#7fbc41"
            ],
            [
             0.9,
             "#4d9221"
            ],
            [
             1,
             "#276419"
            ]
           ],
           "sequential": [
            [
             0,
             "#0d0887"
            ],
            [
             0.1111111111111111,
             "#46039f"
            ],
            [
             0.2222222222222222,
             "#7201a8"
            ],
            [
             0.3333333333333333,
             "#9c179e"
            ],
            [
             0.4444444444444444,
             "#bd3786"
            ],
            [
             0.5555555555555556,
             "#d8576b"
            ],
            [
             0.6666666666666666,
             "#ed7953"
            ],
            [
             0.7777777777777778,
             "#fb9f3a"
            ],
            [
             0.8888888888888888,
             "#fdca26"
            ],
            [
             1,
             "#f0f921"
            ]
           ],
           "sequentialminus": [
            [
             0,
             "#0d0887"
            ],
            [
             0.1111111111111111,
             "#46039f"
            ],
            [
             0.2222222222222222,
             "#7201a8"
            ],
            [
             0.3333333333333333,
             "#9c179e"
            ],
            [
             0.4444444444444444,
             "#bd3786"
            ],
            [
             0.5555555555555556,
             "#d8576b"
            ],
            [
             0.6666666666666666,
             "#ed7953"
            ],
            [
             0.7777777777777778,
             "#fb9f3a"
            ],
            [
             0.8888888888888888,
             "#fdca26"
            ],
            [
             1,
             "#f0f921"
            ]
           ]
          },
          "colorway": [
           "#636efa",
           "#EF553B",
           "#00cc96",
           "#ab63fa",
           "#FFA15A",
           "#19d3f3",
           "#FF6692",
           "#B6E880",
           "#FF97FF",
           "#FECB52"
          ],
          "font": {
           "color": "#2a3f5f"
          },
          "geo": {
           "bgcolor": "white",
           "lakecolor": "white",
           "landcolor": "#E5ECF6",
           "showlakes": true,
           "showland": true,
           "subunitcolor": "white"
          },
          "hoverlabel": {
           "align": "left"
          },
          "hovermode": "closest",
          "mapbox": {
           "style": "light"
          },
          "paper_bgcolor": "white",
          "plot_bgcolor": "#E5ECF6",
          "polar": {
           "angularaxis": {
            "gridcolor": "white",
            "linecolor": "white",
            "ticks": ""
           },
           "bgcolor": "#E5ECF6",
           "radialaxis": {
            "gridcolor": "white",
            "linecolor": "white",
            "ticks": ""
           }
          },
          "scene": {
           "xaxis": {
            "backgroundcolor": "#E5ECF6",
            "gridcolor": "white",
            "gridwidth": 2,
            "linecolor": "white",
            "showbackground": true,
            "ticks": "",
            "zerolinecolor": "white"
           },
           "yaxis": {
            "backgroundcolor": "#E5ECF6",
            "gridcolor": "white",
            "gridwidth": 2,
            "linecolor": "white",
            "showbackground": true,
            "ticks": "",
            "zerolinecolor": "white"
           },
           "zaxis": {
            "backgroundcolor": "#E5ECF6",
            "gridcolor": "white",
            "gridwidth": 2,
            "linecolor": "white",
            "showbackground": true,
            "ticks": "",
            "zerolinecolor": "white"
           }
          },
          "shapedefaults": {
           "line": {
            "color": "#2a3f5f"
           }
          },
          "ternary": {
           "aaxis": {
            "gridcolor": "white",
            "linecolor": "white",
            "ticks": ""
           },
           "baxis": {
            "gridcolor": "white",
            "linecolor": "white",
            "ticks": ""
           },
           "bgcolor": "#E5ECF6",
           "caxis": {
            "gridcolor": "white",
            "linecolor": "white",
            "ticks": ""
           }
          },
          "title": {
           "x": 0.05
          },
          "xaxis": {
           "automargin": true,
           "gridcolor": "white",
           "linecolor": "white",
           "ticks": "",
           "title": {
            "standoff": 15
           },
           "zerolinecolor": "white",
           "zerolinewidth": 2
          },
          "yaxis": {
           "automargin": true,
           "gridcolor": "white",
           "linecolor": "white",
           "ticks": "",
           "title": {
            "standoff": 15
           },
           "zerolinecolor": "white",
           "zerolinewidth": 2
          }
         }
        },
        "xaxis": {
         "anchor": "y",
         "domain": [
          0,
          1
         ],
         "title": {
          "text": "Taxa de emprego (%)"
         }
        },
        "yaxis": {
         "anchor": "x",
         "domain": [
          0,
          1
         ],
         "showgrid": false,
         "showticklabels": false,
         "title": {
          "text": "y"
         }
        }
       }
      }
     },
     "metadata": {},
     "output_type": "display_data"
    },
    {
     "name": "stdout",
     "output_type": "stream",
     "text": [
      "taxa_emprego\n",
      "0     88\n",
      "1    127\n",
      "2     93\n",
      "Name: count, dtype: int64\n",
      "File saved to csv_files/3_Taxa de emprego.csv\n"
     ]
    }
   ],
   "source": [
    "clustered_df = aplicar_kmeans(only_municipalities_df,3,nome_cluster='taxa_emprego')\n",
    "save_clustered_df_to_csv(clustered_df,\"csv_files/\", \"3_Taxa de emprego.csv\")"
   ]
  }
 ],
 "metadata": {
  "kernelspec": {
   "display_name": "ade_venv",
   "language": "python",
   "name": "python3"
  },
  "language_info": {
   "codemirror_mode": {
    "name": "ipython",
    "version": 3
   },
   "file_extension": ".py",
   "mimetype": "text/x-python",
   "name": "python",
   "nbconvert_exporter": "python",
   "pygments_lexer": "ipython3",
   "version": "3.13.0"
  }
 },
 "nbformat": 4,
 "nbformat_minor": 5
}
