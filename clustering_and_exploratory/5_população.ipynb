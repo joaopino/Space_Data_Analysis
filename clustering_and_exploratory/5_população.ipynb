{
 "cells": [
  {
   "cell_type": "markdown",
   "id": "27b50d18",
   "metadata": {},
   "source": [
    "# Análise da População"
   ]
  },
  {
   "cell_type": "code",
   "execution_count": 1,
   "id": "b6ecba96",
   "metadata": {},
   "outputs": [],
   "source": [
    "import pandas as pd\n",
    "import os\n",
    "import pandas as pd\n",
    "from sklearn.preprocessing import StandardScaler\n",
    "from sklearn.cluster import KMeans\n",
    "import plotly.express as px\n",
    "import numpy as np\n",
    "import matplotlib.pyplot as plt\n"
   ]
  },
  {
   "cell_type": "code",
   "execution_count": 2,
   "id": "e5561d0e",
   "metadata": {},
   "outputs": [],
   "source": [
    "\n",
    "from auxiliary.auxiliary_funcs import processar_ficheiro,carregar_municipios,aplicar_kmeans,elbow_rule, save_clustered_df_to_csv,filter_for_only_municipalities\n",
    "data_path ='../data/dados_municipio/População (9)/'"
   ]
  },
  {
   "cell_type": "markdown",
   "id": "4ad17dd0",
   "metadata": {},
   "source": [
    "### Análise da densidade populacional"
   ]
  },
  {
   "cell_type": "code",
   "execution_count": 3,
   "id": "6e0c99cf",
   "metadata": {},
   "outputs": [
    {
     "name": "stdout",
     "output_type": "stream",
     "text": [
      "File saved to csv_bruto/5_Densidade_População.csv\n"
     ]
    },
    {
     "data": {
      "text/html": [
       "<div>\n",
       "<style scoped>\n",
       "    .dataframe tbody tr th:only-of-type {\n",
       "        vertical-align: middle;\n",
       "    }\n",
       "\n",
       "    .dataframe tbody tr th {\n",
       "        vertical-align: top;\n",
       "    }\n",
       "\n",
       "    .dataframe thead th {\n",
       "        text-align: right;\n",
       "    }\n",
       "</style>\n",
       "<table border=\"1\" class=\"dataframe\">\n",
       "  <thead>\n",
       "    <tr style=\"text-align: right;\">\n",
       "      <th></th>\n",
       "      <th>local</th>\n",
       "      <th>codigo</th>\n",
       "      <th>Densidade populacional</th>\n",
       "    </tr>\n",
       "  </thead>\n",
       "  <tbody>\n",
       "    <tr>\n",
       "      <th>4</th>\n",
       "      <td>Arcos de Valdevez</td>\n",
       "      <td>1111601</td>\n",
       "      <td>46.3</td>\n",
       "    </tr>\n",
       "    <tr>\n",
       "      <th>5</th>\n",
       "      <td>Caminha</td>\n",
       "      <td>1111602</td>\n",
       "      <td>118.7</td>\n",
       "    </tr>\n",
       "    <tr>\n",
       "      <th>6</th>\n",
       "      <td>Melgaço</td>\n",
       "      <td>1111603</td>\n",
       "      <td>32.0</td>\n",
       "    </tr>\n",
       "    <tr>\n",
       "      <th>7</th>\n",
       "      <td>Monção</td>\n",
       "      <td>1111604</td>\n",
       "      <td>84.8</td>\n",
       "    </tr>\n",
       "    <tr>\n",
       "      <th>8</th>\n",
       "      <td>Paredes de Coura</td>\n",
       "      <td>1111605</td>\n",
       "      <td>62.8</td>\n",
       "    </tr>\n",
       "    <tr>\n",
       "      <th>...</th>\n",
       "      <td>...</td>\n",
       "      <td>...</td>\n",
       "      <td>...</td>\n",
       "    </tr>\n",
       "    <tr>\n",
       "      <th>339</th>\n",
       "      <td>Porto Santo</td>\n",
       "      <td>3003201</td>\n",
       "      <td>125.6</td>\n",
       "    </tr>\n",
       "    <tr>\n",
       "      <th>340</th>\n",
       "      <td>Ribeira Brava</td>\n",
       "      <td>3003107</td>\n",
       "      <td>196.5</td>\n",
       "    </tr>\n",
       "    <tr>\n",
       "      <th>341</th>\n",
       "      <td>Santa Cruz</td>\n",
       "      <td>3003108</td>\n",
       "      <td>535.4</td>\n",
       "    </tr>\n",
       "    <tr>\n",
       "      <th>342</th>\n",
       "      <td>Santana</td>\n",
       "      <td>3003109</td>\n",
       "      <td>67.6</td>\n",
       "    </tr>\n",
       "    <tr>\n",
       "      <th>343</th>\n",
       "      <td>São Vicente</td>\n",
       "      <td>3003110</td>\n",
       "      <td>61.7</td>\n",
       "    </tr>\n",
       "  </tbody>\n",
       "</table>\n",
       "<p>308 rows × 3 columns</p>\n",
       "</div>"
      ],
      "text/plain": [
       "                 local   codigo  Densidade populacional\n",
       "4    Arcos de Valdevez  1111601                    46.3\n",
       "5              Caminha  1111602                   118.7\n",
       "6              Melgaço  1111603                    32.0\n",
       "7               Monção  1111604                    84.8\n",
       "8     Paredes de Coura  1111605                    62.8\n",
       "..                 ...      ...                     ...\n",
       "339        Porto Santo  3003201                   125.6\n",
       "340      Ribeira Brava  3003107                   196.5\n",
       "341         Santa Cruz  3003108                   535.4\n",
       "342            Santana  3003109                    67.6\n",
       "343        São Vicente  3003110                    61.7\n",
       "\n",
       "[308 rows x 3 columns]"
      ]
     },
     "execution_count": 3,
     "metadata": {},
     "output_type": "execute_result"
    }
   ],
   "source": [
    "df_densidade_pop = processar_ficheiro(data_path+'Densidade Populacional.xls',0)\n",
    "df_densidade_pop = carregar_municipios(df_densidade_pop)\n",
    "save_clustered_df_to_csv(df_densidade_pop, \"csv_bruto/\", \"5_Densidade_População.csv\")\n",
    "df_densidade_pop\n"
   ]
  },
  {
   "cell_type": "code",
   "execution_count": 4,
   "id": "a4ecd350",
   "metadata": {},
   "outputs": [
    {
     "data": {
      "application/vnd.plotly.v1+json": {
       "config": {
        "plotlyServerURL": "https://plot.ly"
       },
       "data": [
        {
         "customdata": [
          [
           "Arcos de Valdevez",
           "1111601",
           46.3
          ],
          [
           "Caminha",
           "1111602",
           118.7
          ],
          [
           "Melgaço",
           "1111603",
           32
          ],
          [
           "Monção",
           "1111604",
           84.8
          ],
          [
           "Paredes de Coura",
           "1111605",
           62.8
          ],
          [
           "Ponte da Barca",
           "1111606",
           61
          ],
          [
           "Ponte de Lima",
           "1111607",
           128.2
          ],
          [
           "Valença",
           "1111608",
           118.9
          ],
          [
           "Viana do Castelo",
           "1111609",
           270.4
          ],
          [
           "Vila Nova de Cerveira",
           "1111610",
           84.7
          ],
          [
           "Amares",
           "1120301",
           234.5
          ],
          [
           "Barcelos",
           "1120302",
           308
          ],
          [
           "Braga",
           "1120303",
           1081
          ],
          [
           "Esposende",
           "1120306",
           382.2
          ],
          [
           "Terras de Bouro",
           "1120310",
           22.9
          ],
          [
           "Vila Verde",
           "1120313",
           207.8
          ],
          [
           "Cabeceiras de Basto",
           "1190304",
           64.1
          ],
          [
           "Fafe",
           "1190307",
           220.7
          ],
          [
           "Guimarães",
           "1190308",
           649.4
          ],
          [
           "Mondim de Basto",
           "1191705",
           37.2
          ],
          [
           "Póvoa de Lanhoso",
           "1190309",
           165.7
          ],
          [
           "Vieira do Minho",
           "1190311",
           55.4
          ],
          [
           "Vila Nova de Famalicão",
           "1190312",
           670
          ],
          [
           "Vizela",
           "1190314",
           983.7
          ],
          [
           "Arouca",
           "11A0104",
           63.6
          ],
          [
           "Espinho",
           "11A0107",
           1514
          ],
          [
           "Gondomar",
           "11A1304",
           1267.8
          ],
          [
           "Maia",
           "11A1306",
           1691.8
          ],
          [
           "Matosinhos",
           "11A1308",
           2837.9
          ],
          [
           "Oliveira de Azeméis",
           "11A0113",
           415.1
          ],
          [
           "Paredes",
           "11A1310",
           544.7
          ],
          [
           "Porto",
           "11A1312",
           5867.1
          ],
          [
           "Póvoa de Varzim",
           "11A1313",
           806
          ],
          [
           "Santa Maria da Feira",
           "11A0109",
           641.8
          ],
          [
           "Santo Tirso",
           "11A1314",
           495.8
          ],
          [
           "São João da Madeira",
           "11A0116",
           2940.6
          ],
          [
           "Trofa",
           "11A1318",
           549.7
          ],
          [
           "Vale de Cambra",
           "11A0119",
           144.2
          ],
          [
           "Valongo",
           "11A1315",
           1310
          ],
          [
           "Vila do Conde",
           "11A1316",
           560.5
          ],
          [
           "Vila Nova de Gaia",
           "11A1317",
           1831.5
          ],
          [
           "Boticas",
           "11B1702",
           15.2
          ],
          [
           "Chaves",
           "11B1703",
           63.1
          ],
          [
           "Montalegre",
           "11B1706",
           11.3
          ],
          [
           "Ribeira de Pena",
           "11B1709",
           26.8
          ],
          [
           "Valpaços",
           "11B1712",
           26.5
          ],
          [
           "Vila Pouca de Aguiar",
           "11B1713",
           26.9
          ],
          [
           "Amarante",
           "11C1301",
           172.8
          ],
          [
           "Baião",
           "11C1302",
           99
          ],
          [
           "Castelo de Paiva",
           "11C0106",
           133.8
          ],
          [
           "Celorico de Basto",
           "11C0305",
           97.1
          ],
          [
           "Cinfães",
           "11C1804",
           73.4
          ],
          [
           "Felgueiras",
           "11C1303",
           478.8
          ],
          [
           "Lousada",
           "11C1305",
           498.9
          ],
          [
           "Marco de Canaveses",
           "11C1307",
           245
          ],
          [
           "Paços de Ferreira",
           "11C1309",
           787.2
          ],
          [
           "Penafiel",
           "11C1311",
           329.8
          ],
          [
           "Resende",
           "11C1813",
           79.9
          ],
          [
           "Alijó",
           "11D1701",
           34.8
          ],
          [
           "Armamar",
           "11D1801",
           48.6
          ],
          [
           "Carrazeda de Ansiães",
           "11D0403",
           19.3
          ],
          [
           "Freixo de Espada à Cinta",
           "11D0404",
           13
          ],
          [
           "Lamego",
           "11D1805",
           146.1
          ],
          [
           "Mesão Frio",
           "11D1704",
           131.9
          ],
          [
           "Moimenta da Beira",
           "11D1807",
           43.7
          ],
          [
           "Murça",
           "11D1707",
           27.6
          ],
          [
           "Penedono",
           "11D1812",
           20.9
          ],
          [
           "Peso da Régua",
           "11D1708",
           152.1
          ],
          [
           "Sabrosa",
           "11D1710",
           35.7
          ],
          [
           "Santa Marta de Penaguião",
           "11D1711",
           86.5
          ],
          [
           "São João da Pesqueira",
           "11D1815",
           25.5
          ],
          [
           "Sernancelhe",
           "11D1818",
           25.1
          ],
          [
           "Tabuaço",
           "11D1819",
           37.7
          ],
          [
           "Tarouca",
           "11D1820",
           74.7
          ],
          [
           "Torre de Moncorvo",
           "11D0409",
           12.7
          ],
          [
           "Vila Nova de Foz Côa",
           "11D0914",
           15.9
          ],
          [
           "Vila Real",
           "11D1714",
           131.1
          ],
          [
           "Alfândega da Fé",
           "11E0401",
           13.2
          ],
          [
           "Bragança",
           "11E0402",
           29.9
          ],
          [
           "Macedo de Cavaleiros",
           "11E0405",
           20.3
          ],
          [
           "Miranda do Douro",
           "11E0406",
           13
          ],
          [
           "Mirandela",
           "11E0407",
           32.4
          ],
          [
           "Mogadouro",
           "11E0408",
           10.9
          ],
          [
           "Vila Flor",
           "11E0410",
           22.7
          ],
          [
           "Vimioso",
           "11E0411",
           8.6
          ],
          [
           "Vinhais",
           "11E0412",
           10.8
          ],
          [
           "Alcobaça",
           "16B1001",
           138
          ],
          [
           "Alenquer",
           "16B1101",
           154.2
          ],
          [
           "Arruda dos Vinhos",
           "16B1102",
           191.3
          ],
          [
           "Bombarral",
           "16B1005",
           148.4
          ],
          [
           "Cadaval",
           "16B1104",
           80.4
          ],
          [
           "Caldas da Rainha",
           "16B1006",
           206.3
          ],
          [
           "Lourinhã",
           "16B1108",
           188
          ],
          [
           "Nazaré",
           "16B1011",
           186.2
          ],
          [
           "Óbidos",
           "16B1012",
           90.6
          ],
          [
           "Peniche",
           "16B1014",
           350
          ],
          [
           "Sobral de Monte Agraço",
           "16B1112",
           220.1
          ],
          [
           "Torres Vedras",
           "16B1113",
           211.5
          ],
          [
           "Águeda",
           "16D0101",
           139.2
          ],
          [
           "Albergaria-a-Velha",
           "16D0102",
           159.5
          ],
          [
           "Anadia",
           "16D0103",
           128.7
          ],
          [
           "Aveiro",
           "16D0105",
           424.1
          ],
          [
           "Estarreja",
           "16D0108",
           246.4
          ],
          [
           "Ílhavo",
           "16D0110",
           557.1
          ],
          [
           "Murtosa",
           "16D0112",
           146.7
          ],
          [
           "Oliveira do Bairro",
           "16D0114",
           277.7
          ],
          [
           "Ovar",
           "16D0115",
           378.4
          ],
          [
           "Sever do Vouga",
           "16D0117",
           84
          ],
          [
           "Vagos",
           "16D0118",
           143.9
          ],
          [
           "Arganil",
           "16E0601",
           33.5
          ],
          [
           "Cantanhede",
           "16E0602",
           88.1
          ],
          [
           "Coimbra",
           "16E0603",
           447.1
          ],
          [
           "Condeixa-a-Nova",
           "16E0604",
           124.1
          ],
          [
           "Figueira da Foz",
           "16E0605",
           157.8
          ],
          [
           "Góis",
           "16E0606",
           14.3
          ],
          [
           "Lousã",
           "16E0607",
           124.4
          ],
          [
           "Mealhada",
           "16E0111",
           177.3
          ],
          [
           "Mira",
           "16E0608",
           99.1
          ],
          [
           "Miranda do Corvo",
           "16E0609",
           95.2
          ],
          [
           "Montemor-o-Velho",
           "16E0610",
           108
          ],
          [
           "Mortágua",
           "16E1808",
           35.6
          ],
          [
           "Oliveira do Hospital",
           "16E0611",
           82.3
          ],
          [
           "Pampilhosa da Serra",
           "16E0612",
           10.3
          ],
          [
           "Penacova",
           "16E0613",
           59.5
          ],
          [
           "Penela",
           "16E0614",
           41.1
          ],
          [
           "Soure",
           "16E0615",
           64.7
          ],
          [
           "Tábua",
           "16E0616",
           57.1
          ],
          [
           "Vila Nova de Poiares",
           "16E0617",
           83.5
          ],
          [
           "Alvaiázere",
           "16F1002",
           39.2
          ],
          [
           "Ansião",
           "16F1003",
           66.5
          ],
          [
           "Batalha",
           "16F1004",
           156
          ],
          [
           "Castanheira de Pêra",
           "16F1007",
           40.2
          ],
          [
           "Figueiró dos Vinhos",
           "16F1008",
           30.1
          ],
          [
           "Leiria",
           "16F1009",
           232.6
          ],
          [
           "Marinha Grande",
           "16F1010",
           214.4
          ],
          [
           "Pedrógão Grande",
           "16F1013",
           27.4
          ],
          [
           "Pombal",
           "16F1015",
           82
          ],
          [
           "Porto de Mós",
           "16F1016",
           90.4
          ],
          [
           "Aguiar da Beira",
           "16G0901",
           25.6
          ],
          [
           "Carregal do Sal",
           "16G1802",
           77.7
          ],
          [
           "Castro Daire",
           "16G1803",
           35.9
          ],
          [
           "Mangualde",
           "16G1806",
           83.6
          ],
          [
           "Nelas",
           "16G1809",
           104.6
          ],
          [
           "Oliveira de Frades",
           "16G1810",
           66.2
          ],
          [
           "Penalva do Castelo",
           "16G1811",
           54.2
          ],
          [
           "Santa Comba Dão",
           "16G1814",
           96.5
          ],
          [
           "São Pedro do Sul",
           "16G1816",
           43.2
          ],
          [
           "Sátão",
           "16G1817",
           54.6
          ],
          [
           "Tondela",
           "16G1821",
           69.1
          ],
          [
           "Vila Nova de Paiva",
           "16G1822",
           26.7
          ],
          [
           "Viseu",
           "16G1823",
           197.9
          ],
          [
           "Vouzela",
           "16G1824",
           49.8
          ],
          [
           "Castelo Branco",
           "16H0502",
           36.5
          ],
          [
           "Idanha-a-Nova",
           "16H0505",
           5.9
          ],
          [
           "Oleiros",
           "16H0506",
           10.4
          ],
          [
           "Penamacor",
           "16H0507",
           8.4
          ],
          [
           "Proença-a-Nova",
           "16H0508",
           18
          ],
          [
           "Vila Velha de Ródão",
           "16H0511",
           10.5
          ],
          [
           "Abrantes",
           "16I1401",
           47.4
          ],
          [
           "Alcanena",
           "16I1402",
           99.1
          ],
          [
           "Constância",
           "16I1408",
           48.2
          ],
          [
           "Entroncamento",
           "16I1410",
           1554.7
          ],
          [
           "Ferreira do Zêzere",
           "16I1411",
           41.5
          ],
          [
           "Mação",
           "16I1413",
           16
          ],
          [
           "Ourém",
           "16I1421",
           109.7
          ],
          [
           "Sardoal",
           "16I1417",
           38.8
          ],
          [
           "Sertã",
           "16I0509",
           33.3
          ],
          [
           "Tomar",
           "16I1418",
           103.8
          ],
          [
           "Torres Novas",
           "16I1419",
           127.4
          ],
          [
           "Vila de Rei",
           "16I0510",
           17.8
          ],
          [
           "Vila Nova da Barquinha",
           "16I1420",
           151.4
          ],
          [
           "Almeida",
           "16J0902",
           11
          ],
          [
           "Belmonte",
           "16J0501",
           52
          ],
          [
           "Celorico da Beira",
           "16J0903",
           26.4
          ],
          [
           "Covilhã",
           "16J0503",
           82.9
          ],
          [
           "Figueira de Castelo Rodrigo",
           "16J0904",
           10
          ],
          [
           "Fornos de Algodres",
           "16J0905",
           33.3
          ],
          [
           "Fundão",
           "16J0504",
           38
          ],
          [
           "Gouveia",
           "16J0906",
           40.3
          ],
          [
           "Guarda",
           "16J0907",
           56
          ],
          [
           "Manteigas",
           "16J0908",
           24
          ],
          [
           "Mêda",
           "16J0909",
           16
          ],
          [
           "Pinhel",
           "16J0910",
           16.3
          ],
          [
           "Sabugal",
           "16J0911",
           13.6
          ],
          [
           "Seia",
           "16J0912",
           49.2
          ],
          [
           "Trancoso",
           "16J0913",
           22.9
          ],
          [
           "Alcochete",
           "1701502",
           154.4
          ],
          [
           "Almada",
           "1701503",
           2562.1
          ],
          [
           "Amadora",
           "1701115",
           7363.6
          ],
          [
           "Barreiro",
           "1701504",
           2171.1
          ],
          [
           "Cascais",
           "1701105",
           2230.2
          ],
          [
           "Lisboa",
           "1701106",
           5572.4
          ],
          [
           "Loures",
           "1701107",
           1222.3
          ],
          [
           "Mafra",
           "1701109",
           306.4
          ],
          [
           "Moita",
           "1701506",
           1227.8
          ],
          [
           "Montijo",
           "1701507",
           166.5
          ],
          [
           "Odivelas",
           "1701116",
           5694.9
          ],
          [
           "Oeiras",
           "1701110",
           3789.2
          ],
          [
           "Palmela",
           "1701508",
           154.1
          ],
          [
           "Seixal",
           "1701510",
           1783.2
          ],
          [
           "Sesimbra",
           "1701511",
           279
          ],
          [
           "Setúbal",
           "1701512",
           535.2
          ],
          [
           "Sintra",
           "1701111",
           1223.8
          ],
          [
           "Vila Franca de Xira",
           "1701114",
           435.2
          ],
          [
           "Alcácer do Sal",
           "1811501",
           7.4
          ],
          [
           "Grândola",
           "1811505",
           17
          ],
          [
           "Odemira",
           "1810211",
           18.6
          ],
          [
           "Santiago do Cacém",
           "1811509",
           26.5
          ],
          [
           "Sines",
           "1811513",
           72
          ],
          [
           "Aljustrel",
           "1840201",
           19.4
          ],
          [
           "Almodôvar",
           "1840202",
           8.6
          ],
          [
           "Alvito",
           "1840203",
           8.5
          ],
          [
           "Barrancos",
           "1840204",
           8.7
          ],
          [
           "Beja",
           "1840205",
           29.3
          ],
          [
           "Castro Verde",
           "1840206",
           12.2
          ],
          [
           "Cuba",
           "1840207",
           25.8
          ],
          [
           "Ferreira do Alentejo",
           "1840208",
           12.1
          ],
          [
           "Mértola",
           "1840209",
           4.8
          ],
          [
           "Moura",
           "1840210",
           13.9
          ],
          [
           "Ourique",
           "1840212",
           7.3
          ],
          [
           "Serpa",
           "1840213",
           12.4
          ],
          [
           "Vidigueira",
           "1840214",
           16.6
          ],
          [
           "Almeirim",
           "1851403",
           101.7
          ],
          [
           "Alpiarça",
           "1851404",
           75.6
          ],
          [
           "Azambuja",
           "1851103",
           85.1
          ],
          [
           "Benavente",
           "1851405",
           60.6
          ],
          [
           "Cartaxo",
           "1851406",
           151.7
          ],
          [
           "Chamusca",
           "1851407",
           11.5
          ],
          [
           "Coruche",
           "1851409",
           15.6
          ],
          [
           "Golegã",
           "1851412",
           64.2
          ],
          [
           "Rio Maior",
           "1851414",
           80.5
          ],
          [
           "Salvaterra de Magos",
           "1851415",
           93.7
          ],
          [
           "Santarém",
           "1851416",
           109.2
          ],
          [
           "Alter do Chão",
           "1861201",
           8.7
          ],
          [
           "Arronches",
           "1861202",
           8.8
          ],
          [
           "Avis",
           "1861203",
           6.2
          ],
          [
           "Campo Maior",
           "1861204",
           32.2
          ],
          [
           "Castelo de Vide",
           "1861205",
           12.1
          ],
          [
           "Crato",
           "1861206",
           8.2
          ],
          [
           "Elvas",
           "1861207",
           32.4
          ],
          [
           "Fronteira",
           "1861208",
           11.8
          ],
          [
           "Gavião",
           "1861209",
           11.4
          ],
          [
           "Marvão",
           "1861210",
           19.6
          ],
          [
           "Monforte",
           "1861211",
           7.1
          ],
          [
           "Nisa",
           "1861212",
           9.9
          ],
          [
           "Ponte de Sor",
           "1861213",
           18.1
          ],
          [
           "Portalegre",
           "1861214",
           49.3
          ],
          [
           "Sousel",
           "1861215",
           15.7
          ],
          [
           "Alandroal",
           "1870701",
           9.2
          ],
          [
           "Arraiolos",
           "1870702",
           9.9
          ],
          [
           "Borba",
           "1870703",
           44.1
          ],
          [
           "Estremoz",
           "1870704",
           24.6
          ],
          [
           "Évora",
           "1870705",
           41.2
          ],
          [
           "Montemor-o-Novo",
           "1870706",
           12.9
          ],
          [
           "Mora",
           "1870707",
           9.4
          ],
          [
           "Mourão",
           "1870708",
           8.6
          ],
          [
           "Portel",
           "1870709",
           9.5
          ],
          [
           "Redondo",
           "1870710",
           17
          ],
          [
           "Reguengos de Monsaraz",
           "1870711",
           21.2
          ],
          [
           "Vendas Novas",
           "1870712",
           51.5
          ],
          [
           "Viana do Alentejo",
           "1870713",
           14
          ],
          [
           "Vila Viçosa",
           "1870714",
           37.6
          ],
          [
           "Albufeira",
           "1500801",
           330.7
          ],
          [
           "Alcoutim",
           "1500802",
           4.3
          ],
          [
           "Aljezur",
           "1500803",
           19.3
          ],
          [
           "Castro Marim",
           "1500804",
           22.3
          ],
          [
           "Faro",
           "1500805",
           340.2
          ],
          [
           "Lagoa",
           "1500806",
           277.7
          ],
          [
           "Lagos",
           "1500807",
           160.3
          ],
          [
           "Loulé",
           "1500808",
           96.4
          ],
          [
           "Monchique",
           "1500809",
           13.6
          ],
          [
           "Olhão",
           "1500810",
           342.5
          ],
          [
           "Portimão",
           "1500811",
           341.5
          ],
          [
           "São Brás de Alportel",
           "1500812",
           75
          ],
          [
           "Silves",
           "1500813",
           57.3
          ],
          [
           "Tavira",
           "1500814",
           45.6
          ],
          [
           "Vila do Bispo",
           "1500815",
           32.8
          ],
          [
           "Vila Real de Santo António",
           "1500816",
           312.7
          ],
          [
           "Angra do Heroísmo",
           "2004301",
           141.9
          ],
          [
           "Calheta",
           "2004501",
           27.8
          ],
          [
           "Corvo",
           "2004901",
           25.4
          ],
          [
           "Horta",
           "2004701",
           83.4
          ],
          [
           "Lagoa",
           "2004201",
           323
          ],
          [
           "Lajes das Flores",
           "2004801",
           20.5
          ],
          [
           "Lajes do Pico",
           "2004601",
           28.2
          ],
          [
           "Madalena",
           "2004602",
           44.1
          ],
          [
           "Nordeste",
           "2004202",
           43.7
          ],
          [
           "Ponta Delgada",
           "2004203",
           293.5
          ],
          [
           "Povoação",
           "2004204",
           55.3
          ],
          [
           "Ribeira Grande",
           "2004205",
           177.9
          ],
          [
           "Santa Cruz da Graciosa",
           "2004401",
           67.8
          ],
          [
           "Santa Cruz das Flores",
           "2004802",
           29.2
          ],
          [
           "São Roque do Pico",
           "2004603",
           23.6
          ],
          [
           "Velas",
           "2004502",
           42.2
          ],
          [
           "Vila da Praia da Vitória",
           "2004302",
           122
          ],
          [
           "Vila do Porto",
           "2004101",
           56.9
          ],
          [
           "Vila Franca do Campo",
           "2004206",
           133.2
          ],
          [
           "Calheta",
           "3003101",
           98.4
          ],
          [
           "Câmara de Lobos",
           "3003102",
           621.5
          ],
          [
           "Funchal",
           "3003103",
           1403.9
          ],
          [
           "Machico",
           "3003104",
           286.4
          ],
          [
           "Ponta do Sol",
           "3003105",
           184.6
          ],
          [
           "Porto Moniz",
           "3003106",
           30.1
          ],
          [
           "Porto Santo",
           "3003201",
           125.6
          ],
          [
           "Ribeira Brava",
           "3003107",
           196.5
          ],
          [
           "Santa Cruz",
           "3003108",
           535.4
          ],
          [
           "Santana",
           "3003109",
           67.6
          ],
          [
           "São Vicente",
           "3003110",
           61.7
          ]
         ],
         "hovertemplate": "valor=%{x}<br>y=%{y}<br>local=%{customdata[0]}<br>codigo=%{customdata[1]}<br>Densidade populacional=%{customdata[2]}<br>Densidade_População=%{marker.color}<extra></extra>",
         "legendgroup": "",
         "marker": {
          "color": {
           "bdata": "AAAAAAAAAAAAAAAAAQAAAAAAAAAAAAAAAAEBAQEAAAIAAAABAAABAAEAAAAAAAAAAAAAAAAAAAAAAAAAAAAAAAAAAAAAAAAAAAAAAAAAAAAAAAAAAAAAAAAAAAAAAAAAAAAAAAAAAAAAAAAAAAAAAAAAAAAAAAAAAAAAAAAAAAAAAAAAAAAAAAAAAAAAAAAAAAAAAAAAAAAAAAAAAAAAAAABAAAAAAAAAAAAAAAAAAAAAAAAAAAAAAAAAAECAQECAQABAAIBAAEAAAEAAAAAAAAAAAAAAAAAAAAAAAAAAAAAAAAAAAAAAAAAAAAAAAAAAAAAAAAAAAAAAAAAAAAAAAAAAAAAAAAAAAAAAAAAAAAAAAAAAAAAAAAAAAAAAAAAAAAAAAAAAAAAAAABAAAAAAAAAAA=",
           "dtype": "i1"
          },
          "coloraxis": "coloraxis",
          "size": 10,
          "symbol": "circle"
         },
         "mode": "markers",
         "name": "",
         "orientation": "v",
         "showlegend": false,
         "type": "scatter",
         "x": {
          "bdata": "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",
          "dtype": "f8"
         },
         "xaxis": "x",
         "y": {
          "bdata": "AAAAAAAAAAAAAAAAAAAAAAAAAAAAAAAAAAAAAAAAAAAAAAAAAAAAAAAAAAAAAAAAAAAAAAAAAAAAAAAAAAAAAAAAAAAAAAAAAAAAAAAAAAAAAAAAAAAAAAAAAAAAAAAAAAAAAAAAAAAAAAAAAAAAAAAAAAAAAAAAAAAAAAAAAAAAAAAAAAAAAAAAAAAAAAAAAAAAAAAAAAAAAAAAAAAAAAAAAAAAAAAAAAAAAAAAAAAAAAAAAAAAAAAAAAAAAAAAAAAAAAAAAAAAAAAAAAAAAAAAAAAAAAAAAAAAAAAAAAAAAAAAAAAAAAAAAAAAAAAAAAAAAAAAAAAAAAAAAAAAAAAAAAAAAAAAAAAAAAAAAAAAAAAAAAAAAAAAAAAAAAAAAAAAAAAAAAAAAAAAAAAAAAAAAAA=",
          "dtype": "i1"
         },
         "yaxis": "y"
        }
       ],
       "layout": {
        "coloraxis": {
         "colorbar": {
          "title": {
           "text": "Densidade_População"
          }
         },
         "colorscale": [
          [
           0,
           "#440154"
          ],
          [
           0.1111111111111111,
           "#482878"
          ],
          [
           0.2222222222222222,
           "#3e4989"
          ],
          [
           0.3333333333333333,
           "#31688e"
          ],
          [
           0.4444444444444444,
           "#26828e"
          ],
          [
           0.5555555555555556,
           "#1f9e89"
          ],
          [
           0.6666666666666666,
           "#35b779"
          ],
          [
           0.7777777777777778,
           "#6ece58"
          ],
          [
           0.8888888888888888,
           "#b5de2b"
          ],
          [
           1,
           "#fde725"
          ]
         ]
        },
        "height": 300,
        "legend": {
         "tracegroupgap": 0
        },
        "margin": {
         "t": 60
        },
        "template": {
         "data": {
          "bar": [
           {
            "error_x": {
             "color": "#2a3f5f"
            },
            "error_y": {
             "color": "#2a3f5f"
            },
            "marker": {
             "line": {
              "color": "#E5ECF6",
              "width": 0.5
             },
             "pattern": {
              "fillmode": "overlay",
              "size": 10,
              "solidity": 0.2
             }
            },
            "type": "bar"
           }
          ],
          "barpolar": [
           {
            "marker": {
             "line": {
              "color": "#E5ECF6",
              "width": 0.5
             },
             "pattern": {
              "fillmode": "overlay",
              "size": 10,
              "solidity": 0.2
             }
            },
            "type": "barpolar"
           }
          ],
          "carpet": [
           {
            "aaxis": {
             "endlinecolor": "#2a3f5f",
             "gridcolor": "white",
             "linecolor": "white",
             "minorgridcolor": "white",
             "startlinecolor": "#2a3f5f"
            },
            "baxis": {
             "endlinecolor": "#2a3f5f",
             "gridcolor": "white",
             "linecolor": "white",
             "minorgridcolor": "white",
             "startlinecolor": "#2a3f5f"
            },
            "type": "carpet"
           }
          ],
          "choropleth": [
           {
            "colorbar": {
             "outlinewidth": 0,
             "ticks": ""
            },
            "type": "choropleth"
           }
          ],
          "contour": [
           {
            "colorbar": {
             "outlinewidth": 0,
             "ticks": ""
            },
            "colorscale": [
             [
              0,
              "#0d0887"
             ],
             [
              0.1111111111111111,
              "#46039f"
             ],
             [
              0.2222222222222222,
              "#7201a8"
             ],
             [
              0.3333333333333333,
              "#9c179e"
             ],
             [
              0.4444444444444444,
              "#bd3786"
             ],
             [
              0.5555555555555556,
              "#d8576b"
             ],
             [
              0.6666666666666666,
              "#ed7953"
             ],
             [
              0.7777777777777778,
              "#fb9f3a"
             ],
             [
              0.8888888888888888,
              "#fdca26"
             ],
             [
              1,
              "#f0f921"
             ]
            ],
            "type": "contour"
           }
          ],
          "contourcarpet": [
           {
            "colorbar": {
             "outlinewidth": 0,
             "ticks": ""
            },
            "type": "contourcarpet"
           }
          ],
          "heatmap": [
           {
            "colorbar": {
             "outlinewidth": 0,
             "ticks": ""
            },
            "colorscale": [
             [
              0,
              "#0d0887"
             ],
             [
              0.1111111111111111,
              "#46039f"
             ],
             [
              0.2222222222222222,
              "#7201a8"
             ],
             [
              0.3333333333333333,
              "#9c179e"
             ],
             [
              0.4444444444444444,
              "#bd3786"
             ],
             [
              0.5555555555555556,
              "#d8576b"
             ],
             [
              0.6666666666666666,
              "#ed7953"
             ],
             [
              0.7777777777777778,
              "#fb9f3a"
             ],
             [
              0.8888888888888888,
              "#fdca26"
             ],
             [
              1,
              "#f0f921"
             ]
            ],
            "type": "heatmap"
           }
          ],
          "histogram": [
           {
            "marker": {
             "pattern": {
              "fillmode": "overlay",
              "size": 10,
              "solidity": 0.2
             }
            },
            "type": "histogram"
           }
          ],
          "histogram2d": [
           {
            "colorbar": {
             "outlinewidth": 0,
             "ticks": ""
            },
            "colorscale": [
             [
              0,
              "#0d0887"
             ],
             [
              0.1111111111111111,
              "#46039f"
             ],
             [
              0.2222222222222222,
              "#7201a8"
             ],
             [
              0.3333333333333333,
              "#9c179e"
             ],
             [
              0.4444444444444444,
              "#bd3786"
             ],
             [
              0.5555555555555556,
              "#d8576b"
             ],
             [
              0.6666666666666666,
              "#ed7953"
             ],
             [
              0.7777777777777778,
              "#fb9f3a"
             ],
             [
              0.8888888888888888,
              "#fdca26"
             ],
             [
              1,
              "#f0f921"
             ]
            ],
            "type": "histogram2d"
           }
          ],
          "histogram2dcontour": [
           {
            "colorbar": {
             "outlinewidth": 0,
             "ticks": ""
            },
            "colorscale": [
             [
              0,
              "#0d0887"
             ],
             [
              0.1111111111111111,
              "#46039f"
             ],
             [
              0.2222222222222222,
              "#7201a8"
             ],
             [
              0.3333333333333333,
              "#9c179e"
             ],
             [
              0.4444444444444444,
              "#bd3786"
             ],
             [
              0.5555555555555556,
              "#d8576b"
             ],
             [
              0.6666666666666666,
              "#ed7953"
             ],
             [
              0.7777777777777778,
              "#fb9f3a"
             ],
             [
              0.8888888888888888,
              "#fdca26"
             ],
             [
              1,
              "#f0f921"
             ]
            ],
            "type": "histogram2dcontour"
           }
          ],
          "mesh3d": [
           {
            "colorbar": {
             "outlinewidth": 0,
             "ticks": ""
            },
            "type": "mesh3d"
           }
          ],
          "parcoords": [
           {
            "line": {
             "colorbar": {
              "outlinewidth": 0,
              "ticks": ""
             }
            },
            "type": "parcoords"
           }
          ],
          "pie": [
           {
            "automargin": true,
            "type": "pie"
           }
          ],
          "scatter": [
           {
            "fillpattern": {
             "fillmode": "overlay",
             "size": 10,
             "solidity": 0.2
            },
            "type": "scatter"
           }
          ],
          "scatter3d": [
           {
            "line": {
             "colorbar": {
              "outlinewidth": 0,
              "ticks": ""
             }
            },
            "marker": {
             "colorbar": {
              "outlinewidth": 0,
              "ticks": ""
             }
            },
            "type": "scatter3d"
           }
          ],
          "scattercarpet": [
           {
            "marker": {
             "colorbar": {
              "outlinewidth": 0,
              "ticks": ""
             }
            },
            "type": "scattercarpet"
           }
          ],
          "scattergeo": [
           {
            "marker": {
             "colorbar": {
              "outlinewidth": 0,
              "ticks": ""
             }
            },
            "type": "scattergeo"
           }
          ],
          "scattergl": [
           {
            "marker": {
             "colorbar": {
              "outlinewidth": 0,
              "ticks": ""
             }
            },
            "type": "scattergl"
           }
          ],
          "scattermap": [
           {
            "marker": {
             "colorbar": {
              "outlinewidth": 0,
              "ticks": ""
             }
            },
            "type": "scattermap"
           }
          ],
          "scattermapbox": [
           {
            "marker": {
             "colorbar": {
              "outlinewidth": 0,
              "ticks": ""
             }
            },
            "type": "scattermapbox"
           }
          ],
          "scatterpolar": [
           {
            "marker": {
             "colorbar": {
              "outlinewidth": 0,
              "ticks": ""
             }
            },
            "type": "scatterpolar"
           }
          ],
          "scatterpolargl": [
           {
            "marker": {
             "colorbar": {
              "outlinewidth": 0,
              "ticks": ""
             }
            },
            "type": "scatterpolargl"
           }
          ],
          "scatterternary": [
           {
            "marker": {
             "colorbar": {
              "outlinewidth": 0,
              "ticks": ""
             }
            },
            "type": "scatterternary"
           }
          ],
          "surface": [
           {
            "colorbar": {
             "outlinewidth": 0,
             "ticks": ""
            },
            "colorscale": [
             [
              0,
              "#0d0887"
             ],
             [
              0.1111111111111111,
              "#46039f"
             ],
             [
              0.2222222222222222,
              "#7201a8"
             ],
             [
              0.3333333333333333,
              "#9c179e"
             ],
             [
              0.4444444444444444,
              "#bd3786"
             ],
             [
              0.5555555555555556,
              "#d8576b"
             ],
             [
              0.6666666666666666,
              "#ed7953"
             ],
             [
              0.7777777777777778,
              "#fb9f3a"
             ],
             [
              0.8888888888888888,
              "#fdca26"
             ],
             [
              1,
              "#f0f921"
             ]
            ],
            "type": "surface"
           }
          ],
          "table": [
           {
            "cells": {
             "fill": {
              "color": "#EBF0F8"
             },
             "line": {
              "color": "white"
             }
            },
            "header": {
             "fill": {
              "color": "#C8D4E3"
             },
             "line": {
              "color": "white"
             }
            },
            "type": "table"
           }
          ]
         },
         "layout": {
          "annotationdefaults": {
           "arrowcolor": "#2a3f5f",
           "arrowhead": 0,
           "arrowwidth": 1
          },
          "autotypenumbers": "strict",
          "coloraxis": {
           "colorbar": {
            "outlinewidth": 0,
            "ticks": ""
           }
          },
          "colorscale": {
           "diverging": [
            [
             0,
             "#8e0152"
            ],
            [
             0.1,
             "#c51b7d"
            ],
            [
             0.2,
             "#de77ae"
            ],
            [
             0.3,
             "#f1b6da"
            ],
            [
             0.4,
             "#fde0ef"
            ],
            [
             0.5,
             "#f7f7f7"
            ],
            [
             0.6,
             "#e6f5d0"
            ],
            [
             0.7,
             "#b8e186"
            ],
            [
             0.8,
             "#7fbc41"
            ],
            [
             0.9,
             "#4d9221"
            ],
            [
             1,
             "#276419"
            ]
           ],
           "sequential": [
            [
             0,
             "#0d0887"
            ],
            [
             0.1111111111111111,
             "#46039f"
            ],
            [
             0.2222222222222222,
             "#7201a8"
            ],
            [
             0.3333333333333333,
             "#9c179e"
            ],
            [
             0.4444444444444444,
             "#bd3786"
            ],
            [
             0.5555555555555556,
             "#d8576b"
            ],
            [
             0.6666666666666666,
             "#ed7953"
            ],
            [
             0.7777777777777778,
             "#fb9f3a"
            ],
            [
             0.8888888888888888,
             "#fdca26"
            ],
            [
             1,
             "#f0f921"
            ]
           ],
           "sequentialminus": [
            [
             0,
             "#0d0887"
            ],
            [
             0.1111111111111111,
             "#46039f"
            ],
            [
             0.2222222222222222,
             "#7201a8"
            ],
            [
             0.3333333333333333,
             "#9c179e"
            ],
            [
             0.4444444444444444,
             "#bd3786"
            ],
            [
             0.5555555555555556,
             "#d8576b"
            ],
            [
             0.6666666666666666,
             "#ed7953"
            ],
            [
             0.7777777777777778,
             "#fb9f3a"
            ],
            [
             0.8888888888888888,
             "#fdca26"
            ],
            [
             1,
             "#f0f921"
            ]
           ]
          },
          "colorway": [
           "#636efa",
           "#EF553B",
           "#00cc96",
           "#ab63fa",
           "#FFA15A",
           "#19d3f3",
           "#FF6692",
           "#B6E880",
           "#FF97FF",
           "#FECB52"
          ],
          "font": {
           "color": "#2a3f5f"
          },
          "geo": {
           "bgcolor": "white",
           "lakecolor": "white",
           "landcolor": "#E5ECF6",
           "showlakes": true,
           "showland": true,
           "subunitcolor": "white"
          },
          "hoverlabel": {
           "align": "left"
          },
          "hovermode": "closest",
          "mapbox": {
           "style": "light"
          },
          "paper_bgcolor": "white",
          "plot_bgcolor": "#E5ECF6",
          "polar": {
           "angularaxis": {
            "gridcolor": "white",
            "linecolor": "white",
            "ticks": ""
           },
           "bgcolor": "#E5ECF6",
           "radialaxis": {
            "gridcolor": "white",
            "linecolor": "white",
            "ticks": ""
           }
          },
          "scene": {
           "xaxis": {
            "backgroundcolor": "#E5ECF6",
            "gridcolor": "white",
            "gridwidth": 2,
            "linecolor": "white",
            "showbackground": true,
            "ticks": "",
            "zerolinecolor": "white"
           },
           "yaxis": {
            "backgroundcolor": "#E5ECF6",
            "gridcolor": "white",
            "gridwidth": 2,
            "linecolor": "white",
            "showbackground": true,
            "ticks": "",
            "zerolinecolor": "white"
           },
           "zaxis": {
            "backgroundcolor": "#E5ECF6",
            "gridcolor": "white",
            "gridwidth": 2,
            "linecolor": "white",
            "showbackground": true,
            "ticks": "",
            "zerolinecolor": "white"
           }
          },
          "shapedefaults": {
           "line": {
            "color": "#2a3f5f"
           }
          },
          "ternary": {
           "aaxis": {
            "gridcolor": "white",
            "linecolor": "white",
            "ticks": ""
           },
           "baxis": {
            "gridcolor": "white",
            "linecolor": "white",
            "ticks": ""
           },
           "bgcolor": "#E5ECF6",
           "caxis": {
            "gridcolor": "white",
            "linecolor": "white",
            "ticks": ""
           }
          },
          "title": {
           "x": 0.05
          },
          "xaxis": {
           "automargin": true,
           "gridcolor": "white",
           "linecolor": "white",
           "ticks": "",
           "title": {
            "standoff": 15
           },
           "zerolinecolor": "white",
           "zerolinewidth": 2
          },
          "yaxis": {
           "automargin": true,
           "gridcolor": "white",
           "linecolor": "white",
           "ticks": "",
           "title": {
            "standoff": 15
           },
           "zerolinecolor": "white",
           "zerolinewidth": 2
          }
         }
        },
        "xaxis": {
         "anchor": "y",
         "domain": [
          0,
          1
         ],
         "title": {
          "text": "Densidade populacional"
         }
        },
        "yaxis": {
         "anchor": "x",
         "domain": [
          0,
          1
         ],
         "showgrid": false,
         "showticklabels": false,
         "title": {
          "text": "y"
         }
        }
       }
      }
     },
     "metadata": {},
     "output_type": "display_data"
    },
    {
     "name": "stdout",
     "output_type": "stream",
     "text": [
      "Densidade_População\n",
      "0    286\n",
      "1     18\n",
      "2      4\n",
      "Name: count, dtype: int64\n",
      "File saved to csv_files/5_Densidade_População.csv\n"
     ]
    }
   ],
   "source": [
    "clustered_df = aplicar_kmeans(df_densidade_pop, 3, nome_cluster='Densidade_População')\n",
    "save_clustered_df_to_csv(clustered_df, \"csv_files/\", \"5_Densidade_População.csv\")"
   ]
  },
  {
   "cell_type": "markdown",
   "id": "edc6ca4b",
   "metadata": {},
   "source": [
    "### Análise da Idade média da população residente"
   ]
  },
  {
   "cell_type": "code",
   "execution_count": 5,
   "id": "d827233f",
   "metadata": {},
   "outputs": [
    {
     "name": "stdout",
     "output_type": "stream",
     "text": [
      "File saved to csv_bruto/5_Idade_População.csv\n"
     ]
    },
    {
     "data": {
      "text/html": [
       "<div>\n",
       "<style scoped>\n",
       "    .dataframe tbody tr th:only-of-type {\n",
       "        vertical-align: middle;\n",
       "    }\n",
       "\n",
       "    .dataframe tbody tr th {\n",
       "        vertical-align: top;\n",
       "    }\n",
       "\n",
       "    .dataframe thead th {\n",
       "        text-align: right;\n",
       "    }\n",
       "</style>\n",
       "<table border=\"1\" class=\"dataframe\">\n",
       "  <thead>\n",
       "    <tr style=\"text-align: right;\">\n",
       "      <th></th>\n",
       "      <th>local</th>\n",
       "      <th>codigo</th>\n",
       "      <th>Idade da população residente</th>\n",
       "    </tr>\n",
       "  </thead>\n",
       "  <tbody>\n",
       "    <tr>\n",
       "      <th>5</th>\n",
       "      <td>Arcos de Valdevez</td>\n",
       "      <td>1111601</td>\n",
       "      <td>33.1</td>\n",
       "    </tr>\n",
       "    <tr>\n",
       "      <th>6</th>\n",
       "      <td>Caminha</td>\n",
       "      <td>1111602</td>\n",
       "      <td>30.5</td>\n",
       "    </tr>\n",
       "    <tr>\n",
       "      <th>7</th>\n",
       "      <td>Melgaço</td>\n",
       "      <td>1111603</td>\n",
       "      <td>39.8</td>\n",
       "    </tr>\n",
       "    <tr>\n",
       "      <th>8</th>\n",
       "      <td>Monção</td>\n",
       "      <td>1111604</td>\n",
       "      <td>33.4</td>\n",
       "    </tr>\n",
       "    <tr>\n",
       "      <th>9</th>\n",
       "      <td>Paredes de Coura</td>\n",
       "      <td>1111605</td>\n",
       "      <td>31.5</td>\n",
       "    </tr>\n",
       "    <tr>\n",
       "      <th>...</th>\n",
       "      <td>...</td>\n",
       "      <td>...</td>\n",
       "      <td>...</td>\n",
       "    </tr>\n",
       "    <tr>\n",
       "      <th>343</th>\n",
       "      <td>Ribeira Brava</td>\n",
       "      <td>3003107</td>\n",
       "      <td>25.5</td>\n",
       "    </tr>\n",
       "    <tr>\n",
       "      <th>344</th>\n",
       "      <td>Santa Cruz</td>\n",
       "      <td>3003108</td>\n",
       "      <td>24.2</td>\n",
       "    </tr>\n",
       "    <tr>\n",
       "      <th>345</th>\n",
       "      <td>Santana</td>\n",
       "      <td>3003109</td>\n",
       "      <td>31.1</td>\n",
       "    </tr>\n",
       "    <tr>\n",
       "      <th>346</th>\n",
       "      <td>São Vicente</td>\n",
       "      <td>3003110</td>\n",
       "      <td>29.6</td>\n",
       "    </tr>\n",
       "    <tr>\n",
       "      <th>347</th>\n",
       "      <td>Porto Santo</td>\n",
       "      <td>3003201</td>\n",
       "      <td>27.5</td>\n",
       "    </tr>\n",
       "  </tbody>\n",
       "</table>\n",
       "<p>308 rows × 3 columns</p>\n",
       "</div>"
      ],
      "text/plain": [
       "                 local   codigo Idade da população residente\n",
       "5    Arcos de Valdevez  1111601                         33.1\n",
       "6              Caminha  1111602                         30.5\n",
       "7              Melgaço  1111603                         39.8\n",
       "8               Monção  1111604                         33.4\n",
       "9     Paredes de Coura  1111605                         31.5\n",
       "..                 ...      ...                          ...\n",
       "343      Ribeira Brava  3003107                         25.5\n",
       "344         Santa Cruz  3003108                         24.2\n",
       "345            Santana  3003109                         31.1\n",
       "346        São Vicente  3003110                         29.6\n",
       "347        Porto Santo  3003201                         27.5\n",
       "\n",
       "[308 rows x 3 columns]"
      ]
     },
     "execution_count": 5,
     "metadata": {},
     "output_type": "execute_result"
    }
   ],
   "source": [
    "df_idade = processar_ficheiro(data_path+'Idade da população residente.xls',0)\n",
    "df_idade = carregar_municipios(df_idade)\n",
    "save_clustered_df_to_csv(df_idade, \"csv_bruto/\", \"5_Idade_População.csv\")\n",
    "df_idade"
   ]
  },
  {
   "cell_type": "code",
   "execution_count": 6,
   "id": "ccb9c3ff",
   "metadata": {},
   "outputs": [
    {
     "data": {
      "application/vnd.plotly.v1+json": {
       "config": {
        "plotlyServerURL": "https://plot.ly"
       },
       "data": [
        {
         "customdata": [
          [
           "Arcos de Valdevez",
           "1111601",
           33.1
          ],
          [
           "Caminha",
           "1111602",
           30.5
          ],
          [
           "Melgaço",
           "1111603",
           39.8
          ],
          [
           "Monção",
           "1111604",
           33.4
          ],
          [
           "Paredes de Coura",
           "1111605",
           31.5
          ],
          [
           "Ponte da Barca",
           "1111606",
           30
          ],
          [
           "Ponte de Lima",
           "1111607",
           27.6
          ],
          [
           "Valença",
           "1111608",
           28.2
          ],
          [
           "Viana do Castelo",
           "1111609",
           28.4
          ],
          [
           "Vila Nova de Cerveira",
           "1111610",
           28.6
          ],
          [
           "Amares",
           "1120301",
           26.1
          ],
          [
           "Barcelos",
           "1120302",
           26.4
          ],
          [
           "Braga",
           "1120303",
           25.5
          ],
          [
           "Esposende",
           "1120306",
           25.7
          ],
          [
           "Terras de Bouro",
           "1120310",
           30
          ],
          [
           "Vila Verde",
           "1120313",
           25.7
          ],
          [
           "Cabeceiras de Basto",
           "1190304",
           26.7
          ],
          [
           "Fafe",
           "1190307",
           27.9
          ],
          [
           "Guimarães",
           "1190308",
           27.1
          ],
          [
           "Mondim de Basto",
           "1191705",
           29.9
          ],
          [
           "Póvoa de Lanhoso",
           "1190309",
           27
          ],
          [
           "Vieira do Minho",
           "1190311",
           31.1
          ],
          [
           "Vila Nova de Famalicão",
           "1190312",
           26.5
          ],
          [
           "Vizela",
           "1190314",
           26.1
          ],
          [
           "Arouca",
           "11A0104",
           27.2
          ],
          [
           "Espinho",
           "11A0107",
           29.3
          ],
          [
           "Gondomar",
           "11A1304",
           27
          ],
          [
           "Maia",
           "11A1306",
           25.8
          ],
          [
           "Matosinhos",
           "11A1308",
           27.8
          ],
          [
           "Oliveira de Azeméis",
           "11A0113",
           28.4
          ],
          [
           "Paredes",
           "11A1310",
           24.7
          ],
          [
           "Porto",
           "11A1312",
           28
          ],
          [
           "Póvoa de Varzim",
           "11A1313",
           25.8
          ],
          [
           "Santa Maria da Feira",
           "11A0109",
           27.1
          ],
          [
           "Santo Tirso",
           "11A1314",
           29.4
          ],
          [
           "São João da Madeira",
           "11A0116",
           27.5
          ],
          [
           "Trofa",
           "11A1318",
           26.9
          ],
          [
           "Vale de Cambra",
           "11A0119",
           30.7
          ],
          [
           "Valongo",
           "11A1315",
           26
          ],
          [
           "Vila do Conde",
           "11A1316",
           25.9
          ],
          [
           "Vila Nova de Gaia",
           "11A1317",
           27
          ],
          [
           "Boticas",
           "11B1702",
           37
          ],
          [
           "Chaves",
           "11B1703",
           33
          ],
          [
           "Montalegre",
           "11B1706",
           38.2
          ],
          [
           "Ribeira de Pena",
           "11B1709",
           32.1
          ],
          [
           "Valpaços",
           "11B1712",
           37.4
          ],
          [
           "Vila Pouca de Aguiar",
           "11B1713",
           34.8
          ],
          [
           "Amarante",
           "11C1301",
           27.3
          ],
          [
           "Baião",
           "11C1302",
           28.3
          ],
          [
           "Castelo de Paiva",
           "11C0106",
           26.9
          ],
          [
           "Celorico de Basto",
           "11C0305",
           27.8
          ],
          [
           "Cinfães",
           "11C1804",
           28.5
          ],
          [
           "Felgueiras",
           "11C1303",
           26.3
          ],
          [
           "Lousada",
           "11C1305",
           24.6
          ],
          [
           "Marco de Canaveses",
           "11C1307",
           25.6
          ],
          [
           "Paços de Ferreira",
           "11C1309",
           25.1
          ],
          [
           "Penafiel",
           "11C1311",
           25.3
          ],
          [
           "Resende",
           "11C1813",
           29.1
          ],
          [
           "Alijó",
           "11D1701",
           33.6
          ],
          [
           "Armamar",
           "11D1801",
           31.5
          ],
          [
           "Carrazeda de Ansiães",
           "11D0403",
           35.9
          ],
          [
           "Freixo de Espada à Cinta",
           "11D0404",
           32.1
          ],
          [
           "Lamego",
           "11D1805",
           30.3
          ],
          [
           "Mesão Frio",
           "11D1704",
           30.1
          ],
          [
           "Moimenta da Beira",
           "11D1807",
           28.5
          ],
          [
           "Murça",
           "11D1707",
           34.4
          ],
          [
           "Penedono",
           "11D1812",
           32
          ],
          [
           "Peso da Régua",
           "11D1708",
           30
          ],
          [
           "Sabrosa",
           "11D1710",
           32.2
          ],
          [
           "Santa Marta de Penaguião",
           "11D1711",
           32.9
          ],
          [
           "São João da Pesqueira",
           "11D1815",
           30
          ],
          [
           "Sernancelhe",
           "11D1818",
           32.3
          ],
          [
           "Tabuaço",
           "11D1819",
           32
          ],
          [
           "Tarouca",
           "11D1820",
           27.3
          ],
          [
           "Torre de Moncorvo",
           "11D0409",
           37.6
          ],
          [
           "Vila Nova de Foz Côa",
           "11D0914",
           34.8
          ],
          [
           "Vila Real",
           "11D1714",
           28
          ],
          [
           "Alfândega da Fé",
           "11E0401",
           34.8
          ],
          [
           "Bragança",
           "11E0402",
           28.6
          ],
          [
           "Macedo de Cavaleiros",
           "11E0405",
           33.7
          ],
          [
           "Miranda do Douro",
           "11E0406",
           37.5
          ],
          [
           "Mirandela",
           "11E0407",
           31.6
          ],
          [
           "Mogadouro",
           "11E0408",
           37
          ],
          [
           "Vila Flor",
           "11E0410",
           33.8
          ],
          [
           "Vimioso",
           "11E0411",
           38
          ],
          [
           "Vinhais",
           "11E0412",
           42.6
          ],
          [
           "Águeda",
           "1910101",
           28.5
          ],
          [
           "Albergaria-a-Velha",
           "1910102",
           26.9
          ],
          [
           "Anadia",
           "1910103",
           30
          ],
          [
           "Aveiro",
           "1910105",
           26.8
          ],
          [
           "Estarreja",
           "1910108",
           27.3
          ],
          [
           "Ílhavo",
           "1910110",
           26.3
          ],
          [
           "Murtosa",
           "1910112",
           26.3
          ],
          [
           "Oliveira do Bairro",
           "1910114",
           25.7
          ],
          [
           "Ovar",
           "1910115",
           27
          ],
          [
           "Sever do Vouga",
           "1910117",
           30.2
          ],
          [
           "Vagos",
           "1910118",
           26.6
          ],
          [
           "Arganil",
           "1920601",
           32.1
          ],
          [
           "Cantanhede",
           "1920602",
           29.7
          ],
          [
           "Coimbra",
           "1920603",
           28.4
          ],
          [
           "Condeixa-a-Nova",
           "1920604",
           26.3
          ],
          [
           "Figueira da Foz",
           "1920605",
           29.6
          ],
          [
           "Góis",
           "1920606",
           35.9
          ],
          [
           "Lousã",
           "1920607",
           26.8
          ],
          [
           "Mealhada",
           "1920111",
           29.1
          ],
          [
           "Mira",
           "1920608",
           29.6
          ],
          [
           "Miranda do Corvo",
           "1920609",
           29.4
          ],
          [
           "Montemor-o-Velho",
           "1920610",
           29.1
          ],
          [
           "Mortágua",
           "1921808",
           33.2
          ],
          [
           "Oliveira do Hospital",
           "1920611",
           29.4
          ],
          [
           "Pampilhosa da Serra",
           "1920612",
           40.3
          ],
          [
           "Penacova",
           "1920613",
           33.4
          ],
          [
           "Penela",
           "1920614",
           30.6
          ],
          [
           "Soure",
           "1920615",
           32.3
          ],
          [
           "Tábua",
           "1920616",
           29.4
          ],
          [
           "Vila Nova de Poiares",
           "1920617",
           28.5
          ],
          [
           "Alvaiázere",
           "1931002",
           34
          ],
          [
           "Ansião",
           "1931003",
           31.3
          ],
          [
           "Batalha",
           "1931004",
           25.6
          ],
          [
           "Castanheira de Pêra",
           "1931007",
           34.1
          ],
          [
           "Figueiró dos Vinhos",
           "1931008",
           34.6
          ],
          [
           "Leiria",
           "1931009",
           26.3
          ],
          [
           "Marinha Grande",
           "1931010",
           26.7
          ],
          [
           "Pedrógão Grande",
           "1931013",
           33.1
          ],
          [
           "Pombal",
           "1931015",
           28.6
          ],
          [
           "Porto de Mós",
           "1931016",
           27
          ],
          [
           "Aguiar da Beira",
           "1940901",
           34.4
          ],
          [
           "Carregal do Sal",
           "1941802",
           29.4
          ],
          [
           "Castro Daire",
           "1941803",
           31.9
          ],
          [
           "Mangualde",
           "1941806",
           29.1
          ],
          [
           "Nelas",
           "1941809",
           29.2
          ],
          [
           "Oliveira de Frades",
           "1941810",
           27.3
          ],
          [
           "Penalva do Castelo",
           "1941811",
           32.1
          ],
          [
           "Santa Comba Dão",
           "1941814",
           30.4
          ],
          [
           "São Pedro do Sul",
           "1941816",
           30.7
          ],
          [
           "Sátão",
           "1941817",
           29.4
          ],
          [
           "Tondela",
           "1941821",
           31.2
          ],
          [
           "Vila Nova de Paiva",
           "1941822",
           31
          ],
          [
           "Viseu",
           "1941823",
           26.6
          ],
          [
           "Vouzela",
           "1941824",
           30.8
          ],
          [
           "Castelo Branco",
           "1950502",
           29.5
          ],
          [
           "Idanha-a-Nova",
           "1950505",
           35.5
          ],
          [
           "Oleiros",
           "1950506",
           41.6
          ],
          [
           "Penamacor",
           "1950507",
           39.5
          ],
          [
           "Proença-a-Nova",
           "1950508",
           35.9
          ],
          [
           "Sertã",
           "1950509",
           30.4
          ],
          [
           "Vila de Rei",
           "1950510",
           31.5
          ],
          [
           "Vila Velha de Ródão",
           "1950511",
           36
          ],
          [
           "Almeida",
           "1960902",
           40.8
          ],
          [
           "Belmonte",
           "1960501",
           32
          ],
          [
           "Celorico da Beira",
           "1960903",
           33.3
          ],
          [
           "Covilhã",
           "1960503",
           30.8
          ],
          [
           "Figueira de Castelo Rodrigo",
           "1960904",
           33.4
          ],
          [
           "Fornos de Algodres",
           "1960905",
           33.7
          ],
          [
           "Fundão",
           "1960504",
           31.5
          ],
          [
           "Gouveia",
           "1960906",
           34.8
          ],
          [
           "Guarda",
           "1960907",
           28.9
          ],
          [
           "Manteigas",
           "1960908",
           33.8
          ],
          [
           "Mêda",
           "1960909",
           36
          ],
          [
           "Pinhel",
           "1960910",
           37.1
          ],
          [
           "Sabugal",
           "1960911",
           38.7
          ],
          [
           "Seia",
           "1960912",
           34
          ],
          [
           "Trancoso",
           "1960913",
           35.5
          ],
          [
           "Alcobaça",
           "1D11001",
           27.7
          ],
          [
           "Alenquer",
           "1D11101",
           24.2
          ],
          [
           "Arruda dos Vinhos",
           "1D11102",
           22.9
          ],
          [
           "Bombarral",
           "1D11005",
           27.7
          ],
          [
           "Cadaval",
           "1D11104",
           28
          ],
          [
           "Caldas da Rainha",
           "1D11006",
           27.3
          ],
          [
           "Lourinhã",
           "1D11108",
           26.2
          ],
          [
           "Nazaré",
           "1D11011",
           27.6
          ],
          [
           "Óbidos",
           "1D11012",
           27.5
          ],
          [
           "Peniche",
           "1D11014",
           26.5
          ],
          [
           "Sobral de Monte Agraço",
           "1D11112",
           23.9
          ],
          [
           "Torres Vedras",
           "1D11113",
           26
          ],
          [
           "Abrantes",
           "1D21401",
           31.4
          ],
          [
           "Alcanena",
           "1D21402",
           28.4
          ],
          [
           "Constância",
           "1D21408",
           26.7
          ],
          [
           "Entroncamento",
           "1D21410",
           24.7
          ],
          [
           "Ferreira do Zêzere",
           "1D21411",
           29.9
          ],
          [
           "Mação",
           "1D21413",
           36.5
          ],
          [
           "Ourém",
           "1D21421",
           27.3
          ],
          [
           "Sardoal",
           "1D21417",
           31.9
          ],
          [
           "Tomar",
           "1D21418",
           30
          ],
          [
           "Torres Novas",
           "1D21419",
           28.2
          ],
          [
           "Vila Nova da Barquinha",
           "1D21420",
           26.8
          ],
          [
           "Almeirim",
           "1D31403",
           26.1
          ],
          [
           "Alpiarça",
           "1D31404",
           26.5
          ],
          [
           "Azambuja",
           "1D31103",
           26.4
          ],
          [
           "Benavente",
           "1D31405",
           23.8
          ],
          [
           "Cartaxo",
           "1D31406",
           26.9
          ],
          [
           "Chamusca",
           "1D31407",
           31.3
          ],
          [
           "Coruche",
           "1D31409",
           31
          ],
          [
           "Golegã",
           "1D31412",
           28.2
          ],
          [
           "Rio Maior",
           "1D31414",
           26
          ],
          [
           "Salvaterra de Magos",
           "1D31415",
           26.9
          ],
          [
           "Santarém",
           "1D31416",
           26.8
          ],
          [
           "Amadora",
           "1A01115",
           25.2
          ],
          [
           "Cascais",
           "1A01105",
           24.8
          ],
          [
           "Lisboa",
           "1A01106",
           26.6
          ],
          [
           "Loures",
           "1A01107",
           24.4
          ],
          [
           "Mafra",
           "1A01109",
           22.8
          ],
          [
           "Odivelas",
           "1A01116",
           24.3
          ],
          [
           "Oeiras",
           "1A01110",
           25.4
          ],
          [
           "Sintra",
           "1A01111",
           23.9
          ],
          [
           "Vila Franca de Xira",
           "1A01114",
           24
          ],
          [
           "Alcochete",
           "1B01502",
           22.7
          ],
          [
           "Almada",
           "1B01503",
           25.7
          ],
          [
           "Barreiro",
           "1B01504",
           26.1
          ],
          [
           "Moita",
           "1B01506",
           24
          ],
          [
           "Montijo",
           "1B01507",
           23.3
          ],
          [
           "Palmela",
           "1B01508",
           24.4
          ],
          [
           "Seixal",
           "1B01510",
           24.5
          ],
          [
           "Sesimbra",
           "1B01511",
           24.3
          ],
          [
           "Setúbal",
           "1B01512",
           25
          ],
          [
           "Alcácer do Sal",
           "1C11501",
           30.6
          ],
          [
           "Grândola",
           "1C11505",
           28.3
          ],
          [
           "Odemira",
           "1C10211",
           29.2
          ],
          [
           "Santiago do Cacém",
           "1C11509",
           29.8
          ],
          [
           "Sines",
           "1C11513",
           25.7
          ],
          [
           "Aljustrel",
           "1C20201",
           29.2
          ],
          [
           "Almodôvar",
           "1C20202",
           30.8
          ],
          [
           "Alvito",
           "1C20203",
           26.3
          ],
          [
           "Barrancos",
           "1C20204",
           26
          ],
          [
           "Beja",
           "1C20205",
           25
          ],
          [
           "Castro Verde",
           "1C20206",
           28.2
          ],
          [
           "Cuba",
           "1C20207",
           26.3
          ],
          [
           "Ferreira do Alentejo",
           "1C20208",
           28.4
          ],
          [
           "Mértola",
           "1C20209",
           36.8
          ],
          [
           "Moura",
           "1C20210",
           23.7
          ],
          [
           "Ourique",
           "1C20212",
           32.1
          ],
          [
           "Serpa",
           "1C20213",
           28.9
          ],
          [
           "Vidigueira",
           "1C20214",
           27
          ],
          [
           "Alter do Chão",
           "1C31201",
           29.1
          ],
          [
           "Arronches",
           "1C31202",
           30.4
          ],
          [
           "Avis",
           "1C31203",
           30.4
          ],
          [
           "Campo Maior",
           "1C31204",
           24.3
          ],
          [
           "Castelo de Vide",
           "1C31205",
           33.6
          ],
          [
           "Crato",
           "1C31206",
           34.5
          ],
          [
           "Elvas",
           "1C31207",
           25.3
          ],
          [
           "Fronteira",
           "1C31208",
           31.5
          ],
          [
           "Gavião",
           "1C31209",
           38.9
          ],
          [
           "Marvão",
           "1C31210",
           33.2
          ],
          [
           "Monforte",
           "1C31211",
           25.1
          ],
          [
           "Nisa",
           "1C31212",
           37.7
          ],
          [
           "Ponte de Sor",
           "1C31213",
           29.8
          ],
          [
           "Portalegre",
           "1C31214",
           28.3
          ],
          [
           "Sousel",
           "1C31215",
           29.2
          ],
          [
           "Alandroal",
           "1C40701",
           32.6
          ],
          [
           "Arraiolos",
           "1C40702",
           29.3
          ],
          [
           "Borba",
           "1C40703",
           29.5
          ],
          [
           "Estremoz",
           "1C40704",
           29.6
          ],
          [
           "Évora",
           "1C40705",
           26.4
          ],
          [
           "Montemor-o-Novo",
           "1C40706",
           29.7
          ],
          [
           "Mora",
           "1C40707",
           34.3
          ],
          [
           "Mourão",
           "1C40708",
           25.3
          ],
          [
           "Portel",
           "1C40709",
           28.4
          ],
          [
           "Redondo",
           "1C40710",
           28.8
          ],
          [
           "Reguengos de Monsaraz",
           "1C40711",
           27.4
          ],
          [
           "Vendas Novas",
           "1C40712",
           27.6
          ],
          [
           "Viana do Alentejo",
           "1C40713",
           26.6
          ],
          [
           "Vila Viçosa",
           "1C40714",
           30.1
          ],
          [
           "Albufeira",
           "1500801",
           25.3
          ],
          [
           "Alcoutim",
           "1500802",
           41.2
          ],
          [
           "Aljezur",
           "1500803",
           28.3
          ],
          [
           "Castro Marim",
           "1500804",
           29.4
          ],
          [
           "Faro",
           "1500805",
           25.9
          ],
          [
           "Lagoa",
           "1500806",
           25.7
          ],
          [
           "Lagos",
           "1500807",
           27.3
          ],
          [
           "Loulé",
           "1500808",
           26.2
          ],
          [
           "Monchique",
           "1500809",
           34.3
          ],
          [
           "Olhão",
           "1500810",
           25
          ],
          [
           "Portimão",
           "1500811",
           24.8
          ],
          [
           "São Brás de Alportel",
           "1500812",
           27.1
          ],
          [
           "Silves",
           "1500813",
           26.9
          ],
          [
           "Tavira",
           "1500814",
           30.2
          ],
          [
           "Vila do Bispo",
           "1500815",
           29
          ],
          [
           "Vila Real de Santo António",
           "1500816",
           26.2
          ],
          [
           "Angra do Heroísmo",
           "2004301",
           25.9
          ],
          [
           "Calheta (R.A.A.)",
           "2004501",
           26.6
          ],
          [
           "Corvo",
           "2004901",
           27.6
          ],
          [
           "Horta",
           "2004701",
           26.4
          ],
          [
           "Lagoa (R.A.A.)",
           "2004201",
           21.9
          ],
          [
           "Lajes das Flores",
           "2004801",
           27.6
          ],
          [
           "Lajes do Pico",
           "2004601",
           27.9
          ],
          [
           "Madalena",
           "2004602",
           25.7
          ],
          [
           "Nordeste",
           "2004202",
           25.5
          ],
          [
           "Ponta Delgada",
           "2004203",
           24.4
          ],
          [
           "Povoação",
           "2004204",
           24.8
          ],
          [
           "Ribeira Grande",
           "2004205",
           20
          ],
          [
           "Santa Cruz da Graciosa",
           "2004401",
           25
          ],
          [
           "Santa Cruz das Flores",
           "2004802",
           26.8
          ],
          [
           "São Roque do Pico",
           "2004603",
           28.7
          ],
          [
           "Velas",
           "2004502",
           27.6
          ],
          [
           "Vila da Praia da Vitória",
           "2004302",
           26
          ],
          [
           "Vila do Porto",
           "2004101",
           24
          ],
          [
           "Vila Franca do Campo",
           "2004206",
           24
          ],
          [
           "Calheta (R.A.M.)",
           "3003101",
           28.1
          ],
          [
           "Câmara de Lobos",
           "3003102",
           23.3
          ],
          [
           "Funchal",
           "3003103",
           27.8
          ],
          [
           "Machico",
           "3003104",
           27.6
          ],
          [
           "Ponta do Sol",
           "3003105",
           25.9
          ],
          [
           "Porto Moniz",
           "3003106",
           31.1
          ],
          [
           "Ribeira Brava",
           "3003107",
           25.5
          ],
          [
           "Santa Cruz",
           "3003108",
           24.2
          ],
          [
           "Santana",
           "3003109",
           31.1
          ],
          [
           "São Vicente",
           "3003110",
           29.6
          ],
          [
           "Porto Santo",
           "3003201",
           27.5
          ]
         ],
         "hovertemplate": "valor=%{x}<br>y=%{y}<br>local=%{customdata[0]}<br>codigo=%{customdata[1]}<br>Idade da população residente=%{customdata[2]}<br>Idade_População=%{marker.color}<extra></extra>",
         "legendgroup": "",
         "marker": {
          "color": {
           "bdata": "AgECAgEBAAEBAQAAAAABAAAAAAEAAQAAAAEAAAABAAEAAAEAAAEAAAACAgIBAgIAAQAAAQAAAAAAAQIBAgEBAQECAQEBAQEBAQACAgECAQICAQICAgIBAAEAAAAAAAABAAEBAQABAgABAQEBAgECAgEBAQECAQACAgAAAgEAAgEBAQEAAQEBAQEBAAEBAgICAgEBAgIBAgECAgECAQICAgICAgAAAAABAAAAAAAAAAEBAAABAgABAQEAAAAAAAABAQEAAAAAAAAAAAAAAAAAAAAAAAAAAAABAQEBAAEBAAAAAQABAgABAQABAQEAAgIAAQICAAIBAQEBAQEBAAECAAEBAAAAAQACAQEAAAAAAgAAAAABAQAAAAAAAAAAAAAAAAAAAAEAAAAAAQAAAAABAAABAQA=",
           "dtype": "i1"
          },
          "coloraxis": "coloraxis",
          "size": 10,
          "symbol": "circle"
         },
         "mode": "markers",
         "name": "",
         "orientation": "v",
         "showlegend": false,
         "type": "scatter",
         "x": {
          "bdata": "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",
          "dtype": "f8"
         },
         "xaxis": "x",
         "y": {
          "bdata": "AAAAAAAAAAAAAAAAAAAAAAAAAAAAAAAAAAAAAAAAAAAAAAAAAAAAAAAAAAAAAAAAAAAAAAAAAAAAAAAAAAAAAAAAAAAAAAAAAAAAAAAAAAAAAAAAAAAAAAAAAAAAAAAAAAAAAAAAAAAAAAAAAAAAAAAAAAAAAAAAAAAAAAAAAAAAAAAAAAAAAAAAAAAAAAAAAAAAAAAAAAAAAAAAAAAAAAAAAAAAAAAAAAAAAAAAAAAAAAAAAAAAAAAAAAAAAAAAAAAAAAAAAAAAAAAAAAAAAAAAAAAAAAAAAAAAAAAAAAAAAAAAAAAAAAAAAAAAAAAAAAAAAAAAAAAAAAAAAAAAAAAAAAAAAAAAAAAAAAAAAAAAAAAAAAAAAAAAAAAAAAAAAAAAAAAAAAAAAAAAAAAAAAAAAAA=",
          "dtype": "i1"
         },
         "yaxis": "y"
        }
       ],
       "layout": {
        "coloraxis": {
         "colorbar": {
          "title": {
           "text": "Idade_População"
          }
         },
         "colorscale": [
          [
           0,
           "#440154"
          ],
          [
           0.1111111111111111,
           "#482878"
          ],
          [
           0.2222222222222222,
           "#3e4989"
          ],
          [
           0.3333333333333333,
           "#31688e"
          ],
          [
           0.4444444444444444,
           "#26828e"
          ],
          [
           0.5555555555555556,
           "#1f9e89"
          ],
          [
           0.6666666666666666,
           "#35b779"
          ],
          [
           0.7777777777777778,
           "#6ece58"
          ],
          [
           0.8888888888888888,
           "#b5de2b"
          ],
          [
           1,
           "#fde725"
          ]
         ]
        },
        "height": 300,
        "legend": {
         "tracegroupgap": 0
        },
        "margin": {
         "t": 60
        },
        "template": {
         "data": {
          "bar": [
           {
            "error_x": {
             "color": "#2a3f5f"
            },
            "error_y": {
             "color": "#2a3f5f"
            },
            "marker": {
             "line": {
              "color": "#E5ECF6",
              "width": 0.5
             },
             "pattern": {
              "fillmode": "overlay",
              "size": 10,
              "solidity": 0.2
             }
            },
            "type": "bar"
           }
          ],
          "barpolar": [
           {
            "marker": {
             "line": {
              "color": "#E5ECF6",
              "width": 0.5
             },
             "pattern": {
              "fillmode": "overlay",
              "size": 10,
              "solidity": 0.2
             }
            },
            "type": "barpolar"
           }
          ],
          "carpet": [
           {
            "aaxis": {
             "endlinecolor": "#2a3f5f",
             "gridcolor": "white",
             "linecolor": "white",
             "minorgridcolor": "white",
             "startlinecolor": "#2a3f5f"
            },
            "baxis": {
             "endlinecolor": "#2a3f5f",
             "gridcolor": "white",
             "linecolor": "white",
             "minorgridcolor": "white",
             "startlinecolor": "#2a3f5f"
            },
            "type": "carpet"
           }
          ],
          "choropleth": [
           {
            "colorbar": {
             "outlinewidth": 0,
             "ticks": ""
            },
            "type": "choropleth"
           }
          ],
          "contour": [
           {
            "colorbar": {
             "outlinewidth": 0,
             "ticks": ""
            },
            "colorscale": [
             [
              0,
              "#0d0887"
             ],
             [
              0.1111111111111111,
              "#46039f"
             ],
             [
              0.2222222222222222,
              "#7201a8"
             ],
             [
              0.3333333333333333,
              "#9c179e"
             ],
             [
              0.4444444444444444,
              "#bd3786"
             ],
             [
              0.5555555555555556,
              "#d8576b"
             ],
             [
              0.6666666666666666,
              "#ed7953"
             ],
             [
              0.7777777777777778,
              "#fb9f3a"
             ],
             [
              0.8888888888888888,
              "#fdca26"
             ],
             [
              1,
              "#f0f921"
             ]
            ],
            "type": "contour"
           }
          ],
          "contourcarpet": [
           {
            "colorbar": {
             "outlinewidth": 0,
             "ticks": ""
            },
            "type": "contourcarpet"
           }
          ],
          "heatmap": [
           {
            "colorbar": {
             "outlinewidth": 0,
             "ticks": ""
            },
            "colorscale": [
             [
              0,
              "#0d0887"
             ],
             [
              0.1111111111111111,
              "#46039f"
             ],
             [
              0.2222222222222222,
              "#7201a8"
             ],
             [
              0.3333333333333333,
              "#9c179e"
             ],
             [
              0.4444444444444444,
              "#bd3786"
             ],
             [
              0.5555555555555556,
              "#d8576b"
             ],
             [
              0.6666666666666666,
              "#ed7953"
             ],
             [
              0.7777777777777778,
              "#fb9f3a"
             ],
             [
              0.8888888888888888,
              "#fdca26"
             ],
             [
              1,
              "#f0f921"
             ]
            ],
            "type": "heatmap"
           }
          ],
          "histogram": [
           {
            "marker": {
             "pattern": {
              "fillmode": "overlay",
              "size": 10,
              "solidity": 0.2
             }
            },
            "type": "histogram"
           }
          ],
          "histogram2d": [
           {
            "colorbar": {
             "outlinewidth": 0,
             "ticks": ""
            },
            "colorscale": [
             [
              0,
              "#0d0887"
             ],
             [
              0.1111111111111111,
              "#46039f"
             ],
             [
              0.2222222222222222,
              "#7201a8"
             ],
             [
              0.3333333333333333,
              "#9c179e"
             ],
             [
              0.4444444444444444,
              "#bd3786"
             ],
             [
              0.5555555555555556,
              "#d8576b"
             ],
             [
              0.6666666666666666,
              "#ed7953"
             ],
             [
              0.7777777777777778,
              "#fb9f3a"
             ],
             [
              0.8888888888888888,
              "#fdca26"
             ],
             [
              1,
              "#f0f921"
             ]
            ],
            "type": "histogram2d"
           }
          ],
          "histogram2dcontour": [
           {
            "colorbar": {
             "outlinewidth": 0,
             "ticks": ""
            },
            "colorscale": [
             [
              0,
              "#0d0887"
             ],
             [
              0.1111111111111111,
              "#46039f"
             ],
             [
              0.2222222222222222,
              "#7201a8"
             ],
             [
              0.3333333333333333,
              "#9c179e"
             ],
             [
              0.4444444444444444,
              "#bd3786"
             ],
             [
              0.5555555555555556,
              "#d8576b"
             ],
             [
              0.6666666666666666,
              "#ed7953"
             ],
             [
              0.7777777777777778,
              "#fb9f3a"
             ],
             [
              0.8888888888888888,
              "#fdca26"
             ],
             [
              1,
              "#f0f921"
             ]
            ],
            "type": "histogram2dcontour"
           }
          ],
          "mesh3d": [
           {
            "colorbar": {
             "outlinewidth": 0,
             "ticks": ""
            },
            "type": "mesh3d"
           }
          ],
          "parcoords": [
           {
            "line": {
             "colorbar": {
              "outlinewidth": 0,
              "ticks": ""
             }
            },
            "type": "parcoords"
           }
          ],
          "pie": [
           {
            "automargin": true,
            "type": "pie"
           }
          ],
          "scatter": [
           {
            "fillpattern": {
             "fillmode": "overlay",
             "size": 10,
             "solidity": 0.2
            },
            "type": "scatter"
           }
          ],
          "scatter3d": [
           {
            "line": {
             "colorbar": {
              "outlinewidth": 0,
              "ticks": ""
             }
            },
            "marker": {
             "colorbar": {
              "outlinewidth": 0,
              "ticks": ""
             }
            },
            "type": "scatter3d"
           }
          ],
          "scattercarpet": [
           {
            "marker": {
             "colorbar": {
              "outlinewidth": 0,
              "ticks": ""
             }
            },
            "type": "scattercarpet"
           }
          ],
          "scattergeo": [
           {
            "marker": {
             "colorbar": {
              "outlinewidth": 0,
              "ticks": ""
             }
            },
            "type": "scattergeo"
           }
          ],
          "scattergl": [
           {
            "marker": {
             "colorbar": {
              "outlinewidth": 0,
              "ticks": ""
             }
            },
            "type": "scattergl"
           }
          ],
          "scattermap": [
           {
            "marker": {
             "colorbar": {
              "outlinewidth": 0,
              "ticks": ""
             }
            },
            "type": "scattermap"
           }
          ],
          "scattermapbox": [
           {
            "marker": {
             "colorbar": {
              "outlinewidth": 0,
              "ticks": ""
             }
            },
            "type": "scattermapbox"
           }
          ],
          "scatterpolar": [
           {
            "marker": {
             "colorbar": {
              "outlinewidth": 0,
              "ticks": ""
             }
            },
            "type": "scatterpolar"
           }
          ],
          "scatterpolargl": [
           {
            "marker": {
             "colorbar": {
              "outlinewidth": 0,
              "ticks": ""
             }
            },
            "type": "scatterpolargl"
           }
          ],
          "scatterternary": [
           {
            "marker": {
             "colorbar": {
              "outlinewidth": 0,
              "ticks": ""
             }
            },
            "type": "scatterternary"
           }
          ],
          "surface": [
           {
            "colorbar": {
             "outlinewidth": 0,
             "ticks": ""
            },
            "colorscale": [
             [
              0,
              "#0d0887"
             ],
             [
              0.1111111111111111,
              "#46039f"
             ],
             [
              0.2222222222222222,
              "#7201a8"
             ],
             [
              0.3333333333333333,
              "#9c179e"
             ],
             [
              0.4444444444444444,
              "#bd3786"
             ],
             [
              0.5555555555555556,
              "#d8576b"
             ],
             [
              0.6666666666666666,
              "#ed7953"
             ],
             [
              0.7777777777777778,
              "#fb9f3a"
             ],
             [
              0.8888888888888888,
              "#fdca26"
             ],
             [
              1,
              "#f0f921"
             ]
            ],
            "type": "surface"
           }
          ],
          "table": [
           {
            "cells": {
             "fill": {
              "color": "#EBF0F8"
             },
             "line": {
              "color": "white"
             }
            },
            "header": {
             "fill": {
              "color": "#C8D4E3"
             },
             "line": {
              "color": "white"
             }
            },
            "type": "table"
           }
          ]
         },
         "layout": {
          "annotationdefaults": {
           "arrowcolor": "#2a3f5f",
           "arrowhead": 0,
           "arrowwidth": 1
          },
          "autotypenumbers": "strict",
          "coloraxis": {
           "colorbar": {
            "outlinewidth": 0,
            "ticks": ""
           }
          },
          "colorscale": {
           "diverging": [
            [
             0,
             "#8e0152"
            ],
            [
             0.1,
             "#c51b7d"
            ],
            [
             0.2,
             "#de77ae"
            ],
            [
             0.3,
             "#f1b6da"
            ],
            [
             0.4,
             "#fde0ef"
            ],
            [
             0.5,
             "#f7f7f7"
            ],
            [
             0.6,
             "#e6f5d0"
            ],
            [
             0.7,
             "#b8e186"
            ],
            [
             0.8,
             "#7fbc41"
            ],
            [
             0.9,
             "#4d9221"
            ],
            [
             1,
             "#276419"
            ]
           ],
           "sequential": [
            [
             0,
             "#0d0887"
            ],
            [
             0.1111111111111111,
             "#46039f"
            ],
            [
             0.2222222222222222,
             "#7201a8"
            ],
            [
             0.3333333333333333,
             "#9c179e"
            ],
            [
             0.4444444444444444,
             "#bd3786"
            ],
            [
             0.5555555555555556,
             "#d8576b"
            ],
            [
             0.6666666666666666,
             "#ed7953"
            ],
            [
             0.7777777777777778,
             "#fb9f3a"
            ],
            [
             0.8888888888888888,
             "#fdca26"
            ],
            [
             1,
             "#f0f921"
            ]
           ],
           "sequentialminus": [
            [
             0,
             "#0d0887"
            ],
            [
             0.1111111111111111,
             "#46039f"
            ],
            [
             0.2222222222222222,
             "#7201a8"
            ],
            [
             0.3333333333333333,
             "#9c179e"
            ],
            [
             0.4444444444444444,
             "#bd3786"
            ],
            [
             0.5555555555555556,
             "#d8576b"
            ],
            [
             0.6666666666666666,
             "#ed7953"
            ],
            [
             0.7777777777777778,
             "#fb9f3a"
            ],
            [
             0.8888888888888888,
             "#fdca26"
            ],
            [
             1,
             "#f0f921"
            ]
           ]
          },
          "colorway": [
           "#636efa",
           "#EF553B",
           "#00cc96",
           "#ab63fa",
           "#FFA15A",
           "#19d3f3",
           "#FF6692",
           "#B6E880",
           "#FF97FF",
           "#FECB52"
          ],
          "font": {
           "color": "#2a3f5f"
          },
          "geo": {
           "bgcolor": "white",
           "lakecolor": "white",
           "landcolor": "#E5ECF6",
           "showlakes": true,
           "showland": true,
           "subunitcolor": "white"
          },
          "hoverlabel": {
           "align": "left"
          },
          "hovermode": "closest",
          "mapbox": {
           "style": "light"
          },
          "paper_bgcolor": "white",
          "plot_bgcolor": "#E5ECF6",
          "polar": {
           "angularaxis": {
            "gridcolor": "white",
            "linecolor": "white",
            "ticks": ""
           },
           "bgcolor": "#E5ECF6",
           "radialaxis": {
            "gridcolor": "white",
            "linecolor": "white",
            "ticks": ""
           }
          },
          "scene": {
           "xaxis": {
            "backgroundcolor": "#E5ECF6",
            "gridcolor": "white",
            "gridwidth": 2,
            "linecolor": "white",
            "showbackground": true,
            "ticks": "",
            "zerolinecolor": "white"
           },
           "yaxis": {
            "backgroundcolor": "#E5ECF6",
            "gridcolor": "white",
            "gridwidth": 2,
            "linecolor": "white",
            "showbackground": true,
            "ticks": "",
            "zerolinecolor": "white"
           },
           "zaxis": {
            "backgroundcolor": "#E5ECF6",
            "gridcolor": "white",
            "gridwidth": 2,
            "linecolor": "white",
            "showbackground": true,
            "ticks": "",
            "zerolinecolor": "white"
           }
          },
          "shapedefaults": {
           "line": {
            "color": "#2a3f5f"
           }
          },
          "ternary": {
           "aaxis": {
            "gridcolor": "white",
            "linecolor": "white",
            "ticks": ""
           },
           "baxis": {
            "gridcolor": "white",
            "linecolor": "white",
            "ticks": ""
           },
           "bgcolor": "#E5ECF6",
           "caxis": {
            "gridcolor": "white",
            "linecolor": "white",
            "ticks": ""
           }
          },
          "title": {
           "x": 0.05
          },
          "xaxis": {
           "automargin": true,
           "gridcolor": "white",
           "linecolor": "white",
           "ticks": "",
           "title": {
            "standoff": 15
           },
           "zerolinecolor": "white",
           "zerolinewidth": 2
          },
          "yaxis": {
           "automargin": true,
           "gridcolor": "white",
           "linecolor": "white",
           "ticks": "",
           "title": {
            "standoff": 15
           },
           "zerolinecolor": "white",
           "zerolinewidth": 2
          }
         }
        },
        "xaxis": {
         "anchor": "y",
         "domain": [
          0,
          1
         ],
         "title": {
          "text": "Idade da população residente"
         }
        },
        "yaxis": {
         "anchor": "x",
         "domain": [
          0,
          1
         ],
         "showgrid": false,
         "showticklabels": false,
         "title": {
          "text": "y"
         }
        }
       }
      }
     },
     "metadata": {},
     "output_type": "display_data"
    },
    {
     "name": "stdout",
     "output_type": "stream",
     "text": [
      "Idade_População\n",
      "0    140\n",
      "1    113\n",
      "2     55\n",
      "Name: count, dtype: int64\n",
      "File saved to csv_files/5_Idade_População.csv\n"
     ]
    }
   ],
   "source": [
    "clustered_df = aplicar_kmeans(df_idade, 3, nome_cluster='Idade_População')\n",
    "save_clustered_df_to_csv(clustered_df, \"csv_files/\", \"5_Idade_População.csv\")"
   ]
  },
  {
   "cell_type": "markdown",
   "id": "4a824f9c",
   "metadata": {},
   "source": [
    "## Índice de renovação da população em idade ativa"
   ]
  },
  {
   "cell_type": "code",
   "execution_count": 7,
   "id": "f8a96c48",
   "metadata": {},
   "outputs": [
    {
     "name": "stdout",
     "output_type": "stream",
     "text": [
      "File saved to csv_bruto/5_Indice_de_renovacao.csv\n"
     ]
    },
    {
     "data": {
      "text/html": [
       "<div>\n",
       "<style scoped>\n",
       "    .dataframe tbody tr th:only-of-type {\n",
       "        vertical-align: middle;\n",
       "    }\n",
       "\n",
       "    .dataframe tbody tr th {\n",
       "        vertical-align: top;\n",
       "    }\n",
       "\n",
       "    .dataframe thead th {\n",
       "        text-align: right;\n",
       "    }\n",
       "</style>\n",
       "<table border=\"1\" class=\"dataframe\">\n",
       "  <thead>\n",
       "    <tr style=\"text-align: right;\">\n",
       "      <th></th>\n",
       "      <th>local</th>\n",
       "      <th>codigo</th>\n",
       "      <th>Índice de renovação da população em idade ativa</th>\n",
       "    </tr>\n",
       "  </thead>\n",
       "  <tbody>\n",
       "    <tr>\n",
       "      <th>4</th>\n",
       "      <td>Arcos de Valdevez</td>\n",
       "      <td>1111601</td>\n",
       "      <td>66.1</td>\n",
       "    </tr>\n",
       "    <tr>\n",
       "      <th>5</th>\n",
       "      <td>Caminha</td>\n",
       "      <td>1111602</td>\n",
       "      <td>64.3</td>\n",
       "    </tr>\n",
       "    <tr>\n",
       "      <th>6</th>\n",
       "      <td>Melgaço</td>\n",
       "      <td>1111603</td>\n",
       "      <td>48.9</td>\n",
       "    </tr>\n",
       "    <tr>\n",
       "      <th>7</th>\n",
       "      <td>Monção</td>\n",
       "      <td>1111604</td>\n",
       "      <td>57.1</td>\n",
       "    </tr>\n",
       "    <tr>\n",
       "      <th>8</th>\n",
       "      <td>Paredes de Coura</td>\n",
       "      <td>1111605</td>\n",
       "      <td>60.6</td>\n",
       "    </tr>\n",
       "    <tr>\n",
       "      <th>...</th>\n",
       "      <td>...</td>\n",
       "      <td>...</td>\n",
       "      <td>...</td>\n",
       "    </tr>\n",
       "    <tr>\n",
       "      <th>339</th>\n",
       "      <td>Porto Santo</td>\n",
       "      <td>3003201</td>\n",
       "      <td>61.0</td>\n",
       "    </tr>\n",
       "    <tr>\n",
       "      <th>340</th>\n",
       "      <td>Ribeira Brava</td>\n",
       "      <td>3003107</td>\n",
       "      <td>79.5</td>\n",
       "    </tr>\n",
       "    <tr>\n",
       "      <th>341</th>\n",
       "      <td>Santa Cruz</td>\n",
       "      <td>3003108</td>\n",
       "      <td>74.8</td>\n",
       "    </tr>\n",
       "    <tr>\n",
       "      <th>342</th>\n",
       "      <td>Santana</td>\n",
       "      <td>3003109</td>\n",
       "      <td>58.1</td>\n",
       "    </tr>\n",
       "    <tr>\n",
       "      <th>343</th>\n",
       "      <td>São Vicente</td>\n",
       "      <td>3003110</td>\n",
       "      <td>61.9</td>\n",
       "    </tr>\n",
       "  </tbody>\n",
       "</table>\n",
       "<p>308 rows × 3 columns</p>\n",
       "</div>"
      ],
      "text/plain": [
       "                 local   codigo  \\\n",
       "4    Arcos de Valdevez  1111601   \n",
       "5              Caminha  1111602   \n",
       "6              Melgaço  1111603   \n",
       "7               Monção  1111604   \n",
       "8     Paredes de Coura  1111605   \n",
       "..                 ...      ...   \n",
       "339        Porto Santo  3003201   \n",
       "340      Ribeira Brava  3003107   \n",
       "341         Santa Cruz  3003108   \n",
       "342            Santana  3003109   \n",
       "343        São Vicente  3003110   \n",
       "\n",
       "     Índice de renovação da população em idade ativa  \n",
       "4                                               66.1  \n",
       "5                                               64.3  \n",
       "6                                               48.9  \n",
       "7                                               57.1  \n",
       "8                                               60.6  \n",
       "..                                               ...  \n",
       "339                                             61.0  \n",
       "340                                             79.5  \n",
       "341                                             74.8  \n",
       "342                                             58.1  \n",
       "343                                             61.9  \n",
       "\n",
       "[308 rows x 3 columns]"
      ]
     },
     "execution_count": 7,
     "metadata": {},
     "output_type": "execute_result"
    }
   ],
   "source": [
    "df_indice_renovacao = processar_ficheiro(data_path+'Índice de renovação da população em idade ativa.xls',0)\n",
    "df_indice_renovacao = carregar_municipios(df_indice_renovacao)\n",
    "save_clustered_df_to_csv(\n",
    "    df_indice_renovacao.rename(columns={'Índice de renovação da população em idade ativa': 'Indice Renovacao'}), \"csv_bruto/\", \"5_Indice_de_renovacao.csv\")\n",
    "df_indice_renovacao\n"
   ]
  },
  {
   "cell_type": "code",
   "execution_count": 8,
   "id": "76ddd350",
   "metadata": {},
   "outputs": [
    {
     "data": {
      "application/vnd.plotly.v1+json": {
       "config": {
        "plotlyServerURL": "https://plot.ly"
       },
       "data": [
        {
         "customdata": [
          [
           "Arcos de Valdevez",
           "1111601",
           66.1
          ],
          [
           "Caminha",
           "1111602",
           64.3
          ],
          [
           "Melgaço",
           "1111603",
           48.9
          ],
          [
           "Monção",
           "1111604",
           57.1
          ],
          [
           "Paredes de Coura",
           "1111605",
           60.6
          ],
          [
           "Ponte da Barca",
           "1111606",
           68.5
          ],
          [
           "Ponte de Lima",
           "1111607",
           75.5
          ],
          [
           "Valença",
           "1111608",
           74
          ],
          [
           "Viana do Castelo",
           "1111609",
           68.8
          ],
          [
           "Vila Nova de Cerveira",
           "1111610",
           79.8
          ],
          [
           "Amares",
           "1120301",
           84.1
          ],
          [
           "Barcelos",
           "1120302",
           80.3
          ],
          [
           "Braga",
           "1120303",
           81.6
          ],
          [
           "Esposende",
           "1120306",
           79.6
          ],
          [
           "Terras de Bouro",
           "1120310",
           68.8
          ],
          [
           "Vila Verde",
           "1120313",
           85.7
          ],
          [
           "Cabeceiras de Basto",
           "1190304",
           77
          ],
          [
           "Fafe",
           "1190307",
           71.8
          ],
          [
           "Guimarães",
           "1190308",
           71.8
          ],
          [
           "Mondim de Basto",
           "1191705",
           67.2
          ],
          [
           "Póvoa de Lanhoso",
           "1190309",
           74.8
          ],
          [
           "Vieira do Minho",
           "1190311",
           65
          ],
          [
           "Vila Nova de Famalicão",
           "1190312",
           76.5
          ],
          [
           "Vizela",
           "1190314",
           78.7
          ],
          [
           "Arouca",
           "11A0104",
           70.2
          ],
          [
           "Espinho",
           "11A0107",
           67.8
          ],
          [
           "Gondomar",
           "11A1304",
           72.2
          ],
          [
           "Maia",
           "11A1306",
           77.1
          ],
          [
           "Matosinhos",
           "11A1308",
           70
          ],
          [
           "Oliveira de Azeméis",
           "11A0113",
           67.8
          ],
          [
           "Paredes",
           "11A1310",
           82.9
          ],
          [
           "Porto",
           "11A1312",
           87.2
          ],
          [
           "Póvoa de Varzim",
           "11A1313",
           83.4
          ],
          [
           "Santa Maria da Feira",
           "11A0109",
           70.4
          ],
          [
           "Santo Tirso",
           "11A1314",
           66.1
          ],
          [
           "São João da Madeira",
           "11A0116",
           74.5
          ],
          [
           "Trofa",
           "11A1318",
           76.9
          ],
          [
           "Vale de Cambra",
           "11A0119",
           64.2
          ],
          [
           "Valongo",
           "11A1315",
           80.4
          ],
          [
           "Vila do Conde",
           "11A1316",
           75.7
          ],
          [
           "Vila Nova de Gaia",
           "11A1317",
           72.3
          ],
          [
           "Boticas",
           "11B1702",
           46
          ],
          [
           "Chaves",
           "11B1703",
           56.5
          ],
          [
           "Montalegre",
           "11B1706",
           47.6
          ],
          [
           "Ribeira de Pena",
           "11B1709",
           57.1
          ],
          [
           "Valpaços",
           "11B1712",
           49
          ],
          [
           "Vila Pouca de Aguiar",
           "11B1713",
           52.2
          ],
          [
           "Amarante",
           "11C1301",
           70.2
          ],
          [
           "Baião",
           "11C1302",
           64.4
          ],
          [
           "Castelo de Paiva",
           "11C0106",
           73.7
          ],
          [
           "Celorico de Basto",
           "11C0305",
           71.2
          ],
          [
           "Cinfães",
           "11C1804",
           67.9
          ],
          [
           "Felgueiras",
           "11C1303",
           78.6
          ],
          [
           "Lousada",
           "11C1305",
           86.2
          ],
          [
           "Marco de Canaveses",
           "11C1307",
           80.4
          ],
          [
           "Paços de Ferreira",
           "11C1309",
           83.4
          ],
          [
           "Penafiel",
           "11C1311",
           79.7
          ],
          [
           "Resende",
           "11C1813",
           62.4
          ],
          [
           "Alijó",
           "11D1701",
           53.6
          ],
          [
           "Armamar",
           "11D1801",
           58.6
          ],
          [
           "Carrazeda de Ansiães",
           "11D0403",
           51.9
          ],
          [
           "Freixo de Espada à Cinta",
           "11D0404",
           72.9
          ],
          [
           "Lamego",
           "11D1805",
           58.5
          ],
          [
           "Mesão Frio",
           "11D1704",
           67.1
          ],
          [
           "Moimenta da Beira",
           "11D1807",
           69
          ],
          [
           "Murça",
           "11D1707",
           57.7
          ],
          [
           "Penedono",
           "11D1812",
           67
          ],
          [
           "Peso da Régua",
           "11D1708",
           60.8
          ],
          [
           "Sabrosa",
           "11D1710",
           63.8
          ],
          [
           "Santa Marta de Penaguião",
           "11D1711",
           64.6
          ],
          [
           "São João da Pesqueira",
           "11D1815",
           62
          ],
          [
           "Sernancelhe",
           "11D1818",
           60.4
          ],
          [
           "Tabuaço",
           "11D1819",
           59.5
          ],
          [
           "Tarouca",
           "11D1820",
           67.2
          ],
          [
           "Torre de Moncorvo",
           "11D0409",
           49.8
          ],
          [
           "Vila Nova de Foz Côa",
           "11D0914",
           56.1
          ],
          [
           "Vila Real",
           "11D1714",
           66.8
          ],
          [
           "Alfândega da Fé",
           "11E0401",
           51.9
          ],
          [
           "Bragança",
           "11E0402",
           81.1
          ],
          [
           "Macedo de Cavaleiros",
           "11E0405",
           57
          ],
          [
           "Miranda do Douro",
           "11E0406",
           53.9
          ],
          [
           "Mirandela",
           "11E0407",
           66.8
          ],
          [
           "Mogadouro",
           "11E0408",
           47.8
          ],
          [
           "Vila Flor",
           "11E0410",
           59.6
          ],
          [
           "Vimioso",
           "11E0411",
           57.5
          ],
          [
           "Vinhais",
           "11E0412",
           41.9
          ],
          [
           "Alcobaça",
           "16B1001",
           74.2
          ],
          [
           "Alenquer",
           "16B1101",
           89.5
          ],
          [
           "Arruda dos Vinhos",
           "16B1102",
           87.2
          ],
          [
           "Bombarral",
           "16B1005",
           75.3
          ],
          [
           "Cadaval",
           "16B1104",
           79.4
          ],
          [
           "Caldas da Rainha",
           "16B1006",
           76.8
          ],
          [
           "Lourinhã",
           "16B1108",
           79.4
          ],
          [
           "Nazaré",
           "16B1011",
           72.2
          ],
          [
           "Óbidos",
           "16B1012",
           74.9
          ],
          [
           "Peniche",
           "16B1014",
           72.9
          ],
          [
           "Sobral de Monte Agraço",
           "16B1112",
           91.2
          ],
          [
           "Torres Vedras",
           "16B1113",
           81.9
          ],
          [
           "Águeda",
           "16D0101",
           68.3
          ],
          [
           "Albergaria-a-Velha",
           "16D0102",
           76.4
          ],
          [
           "Anadia",
           "16D0103",
           68.5
          ],
          [
           "Aveiro",
           "16D0105",
           83.2
          ],
          [
           "Estarreja",
           "16D0108",
           71.2
          ],
          [
           "Ílhavo",
           "16D0110",
           75.4
          ],
          [
           "Murtosa",
           "16D0112",
           78.7
          ],
          [
           "Oliveira do Bairro",
           "16D0114",
           90.2
          ],
          [
           "Ovar",
           "16D0115",
           75.5
          ],
          [
           "Sever do Vouga",
           "16D0117",
           66.2
          ],
          [
           "Vagos",
           "16D0118",
           79.8
          ],
          [
           "Arganil",
           "16E0601",
           57.3
          ],
          [
           "Cantanhede",
           "16E0602",
           68.3
          ],
          [
           "Coimbra",
           "16E0603",
           73.4
          ],
          [
           "Condeixa-a-Nova",
           "16E0604",
           69.3
          ],
          [
           "Figueira da Foz",
           "16E0605",
           64.2
          ],
          [
           "Góis",
           "16E0606",
           60.5
          ],
          [
           "Lousã",
           "16E0607",
           73.8
          ],
          [
           "Mealhada",
           "16E0111",
           68.9
          ],
          [
           "Mira",
           "16E0608",
           67.7
          ],
          [
           "Miranda do Corvo",
           "16E0609",
           65.5
          ],
          [
           "Montemor-o-Velho",
           "16E0610",
           62.7
          ],
          [
           "Mortágua",
           "16E1808",
           63.2
          ],
          [
           "Oliveira do Hospital",
           "16E0611",
           66.4
          ],
          [
           "Pampilhosa da Serra",
           "16E0612",
           41.6
          ],
          [
           "Penacova",
           "16E0613",
           58
          ],
          [
           "Penela",
           "16E0614",
           63
          ],
          [
           "Soure",
           "16E0615",
           64.3
          ],
          [
           "Tábua",
           "16E0616",
           67.8
          ],
          [
           "Vila Nova de Poiares",
           "16E0617",
           73.3
          ],
          [
           "Alvaiázere",
           "16F1002",
           54.4
          ],
          [
           "Ansião",
           "16F1003",
           61.9
          ],
          [
           "Batalha",
           "16F1004",
           78.4
          ],
          [
           "Castanheira de Pêra",
           "16F1007",
           66.6
          ],
          [
           "Figueiró dos Vinhos",
           "16F1008",
           53
          ],
          [
           "Leiria",
           "16F1009",
           79.1
          ],
          [
           "Marinha Grande",
           "16F1010",
           77.9
          ],
          [
           "Pedrógão Grande",
           "16F1013",
           58.6
          ],
          [
           "Pombal",
           "16F1015",
           70
          ],
          [
           "Porto de Mós",
           "16F1016",
           78.1
          ],
          [
           "Aguiar da Beira",
           "16G0901",
           58.6
          ],
          [
           "Carregal do Sal",
           "16G1802",
           67.9
          ],
          [
           "Castro Daire",
           "16G1803",
           61
          ],
          [
           "Mangualde",
           "16G1806",
           69.7
          ],
          [
           "Nelas",
           "16G1809",
           70.7
          ],
          [
           "Oliveira de Frades",
           "16G1810",
           75.1
          ],
          [
           "Penalva do Castelo",
           "16G1811",
           67.3
          ],
          [
           "Santa Comba Dão",
           "16G1814",
           70
          ],
          [
           "São Pedro do Sul",
           "16G1816",
           71
          ],
          [
           "Sátão",
           "16G1817",
           71.7
          ],
          [
           "Tondela",
           "16G1821",
           65.6
          ],
          [
           "Vila Nova de Paiva",
           "16G1822",
           68.1
          ],
          [
           "Viseu",
           "16G1823",
           80.1
          ],
          [
           "Vouzela",
           "16G1824",
           70.8
          ],
          [
           "Castelo Branco",
           "16H0502",
           64.7
          ],
          [
           "Idanha-a-Nova",
           "16H0505",
           57.9
          ],
          [
           "Oleiros",
           "16H0506",
           47.4
          ],
          [
           "Penamacor",
           "16H0507",
           46.8
          ],
          [
           "Proença-a-Nova",
           "16H0508",
           53.9
          ],
          [
           "Vila Velha de Ródão",
           "16H0511",
           56.2
          ],
          [
           "Abrantes",
           "16I1401",
           57.2
          ],
          [
           "Alcanena",
           "16I1402",
           64.2
          ],
          [
           "Constância",
           "16I1408",
           68.1
          ],
          [
           "Entroncamento",
           "16I1410",
           77.5
          ],
          [
           "Ferreira do Zêzere",
           "16I1411",
           67.1
          ],
          [
           "Mação",
           "16I1413",
           54.6
          ],
          [
           "Ourém",
           "16I1421",
           77.2
          ],
          [
           "Sardoal",
           "16I1417",
           65.8
          ],
          [
           "Sertã",
           "16I0509",
           63.8
          ],
          [
           "Tomar",
           "16I1418",
           64.7
          ],
          [
           "Torres Novas",
           "16I1419",
           67.2
          ],
          [
           "Vila de Rei",
           "16I0510",
           83
          ],
          [
           "Vila Nova da Barquinha",
           "16I1420",
           74.2
          ],
          [
           "Almeida",
           "16J0902",
           50.7
          ],
          [
           "Belmonte",
           "16J0501",
           59.2
          ],
          [
           "Celorico da Beira",
           "16J0903",
           61.6
          ],
          [
           "Covilhã",
           "16J0503",
           64.5
          ],
          [
           "Figueira de Castelo Rodrigo",
           "16J0904",
           57.1
          ],
          [
           "Fornos de Algodres",
           "16J0905",
           52.8
          ],
          [
           "Fundão",
           "16J0504",
           63.2
          ],
          [
           "Gouveia",
           "16J0906",
           55.1
          ],
          [
           "Guarda",
           "16J0907",
           65.4
          ],
          [
           "Manteigas",
           "16J0908",
           63
          ],
          [
           "Mêda",
           "16J0909",
           53.7
          ],
          [
           "Pinhel",
           "16J0910",
           50.8
          ],
          [
           "Sabugal",
           "16J0911",
           51.1
          ],
          [
           "Seia",
           "16J0912",
           54.6
          ],
          [
           "Trancoso",
           "16J0913",
           54.5
          ],
          [
           "Alcochete",
           "1701502",
           82.8
          ],
          [
           "Almada",
           "1701503",
           82.4
          ],
          [
           "Amadora",
           "1701115",
           91
          ],
          [
           "Barreiro",
           "1701504",
           85.1
          ],
          [
           "Cascais",
           "1701105",
           76.5
          ],
          [
           "Lisboa",
           "1701106",
           93
          ],
          [
           "Loures",
           "1701107",
           87.3
          ],
          [
           "Mafra",
           "1701109",
           83.4
          ],
          [
           "Moita",
           "1701506",
           86.4
          ],
          [
           "Montijo",
           "1701507",
           92.1
          ],
          [
           "Odivelas",
           "1701116",
           90.6
          ],
          [
           "Oeiras",
           "1701110",
           82.2
          ],
          [
           "Palmela",
           "1701508",
           84.2
          ],
          [
           "Seixal",
           "1701510",
           87.7
          ],
          [
           "Sesimbra",
           "1701511",
           81.9
          ],
          [
           "Setúbal",
           "1701512",
           81
          ],
          [
           "Sintra",
           "1701111",
           87.9
          ],
          [
           "Vila Franca de Xira",
           "1701114",
           81.6
          ],
          [
           "Alcácer do Sal",
           "1811501",
           60.9
          ],
          [
           "Grândola",
           "1811505",
           72.6
          ],
          [
           "Odemira",
           "1810211",
           95.1
          ],
          [
           "Santiago do Cacém",
           "1811509",
           61.7
          ],
          [
           "Sines",
           "1811513",
           69.1
          ],
          [
           "Aljustrel",
           "1840201",
           60.5
          ],
          [
           "Almodôvar",
           "1840202",
           63.7
          ],
          [
           "Alvito",
           "1840203",
           77.4
          ],
          [
           "Barrancos",
           "1840204",
           54
          ],
          [
           "Beja",
           "1840205",
           74
          ],
          [
           "Castro Verde",
           "1840206",
           63.2
          ],
          [
           "Cuba",
           "1840207",
           69
          ],
          [
           "Ferreira do Alentejo",
           "1840208",
           76.4
          ],
          [
           "Mértola",
           "1840209",
           48.6
          ],
          [
           "Moura",
           "1840210",
           76.2
          ],
          [
           "Ourique",
           "1840212",
           61.1
          ],
          [
           "Serpa",
           "1840213",
           60
          ],
          [
           "Vidigueira",
           "1840214",
           74
          ],
          [
           "Almeirim",
           "1851403",
           75.9
          ],
          [
           "Alpiarça",
           "1851404",
           78.3
          ],
          [
           "Azambuja",
           "1851103",
           81.2
          ],
          [
           "Benavente",
           "1851405",
           88
          ],
          [
           "Cartaxo",
           "1851406",
           76.8
          ],
          [
           "Chamusca",
           "1851407",
           60.3
          ],
          [
           "Coruche",
           "1851409",
           58.7
          ],
          [
           "Golegã",
           "1851412",
           74.6
          ],
          [
           "Rio Maior",
           "1851414",
           82.4
          ],
          [
           "Salvaterra de Magos",
           "1851415",
           77.7
          ],
          [
           "Santarém",
           "1851416",
           74.8
          ],
          [
           "Alter do Chão",
           "1861201",
           67.5
          ],
          [
           "Arronches",
           "1861202",
           65
          ],
          [
           "Avis",
           "1861203",
           68.4
          ],
          [
           "Campo Maior",
           "1861204",
           80.6
          ],
          [
           "Castelo de Vide",
           "1861205",
           58
          ],
          [
           "Crato",
           "1861206",
           59.5
          ],
          [
           "Elvas",
           "1861207",
           68.4
          ],
          [
           "Fronteira",
           "1861208",
           61.2
          ],
          [
           "Gavião",
           "1861209",
           48.3
          ],
          [
           "Marvão",
           "1861210",
           55.7
          ],
          [
           "Monforte",
           "1861211",
           81.5
          ],
          [
           "Nisa",
           "1861212",
           51.9
          ],
          [
           "Ponte de Sor",
           "1861213",
           59.7
          ],
          [
           "Portalegre",
           "1861214",
           64.7
          ],
          [
           "Sousel",
           "1861215",
           71.5
          ],
          [
           "Alandroal",
           "1870701",
           51.9
          ],
          [
           "Arraiolos",
           "1870702",
           64
          ],
          [
           "Borba",
           "1870703",
           55.4
          ],
          [
           "Estremoz",
           "1870704",
           57.7
          ],
          [
           "Évora",
           "1870705",
           72.1
          ],
          [
           "Montemor-o-Novo",
           "1870706",
           67
          ],
          [
           "Mora",
           "1870707",
           60.6
          ],
          [
           "Mourão",
           "1870708",
           78.2
          ],
          [
           "Portel",
           "1870709",
           71.7
          ],
          [
           "Redondo",
           "1870710",
           71.3
          ],
          [
           "Reguengos de Monsaraz",
           "1870711",
           67.2
          ],
          [
           "Vendas Novas",
           "1870712",
           81.1
          ],
          [
           "Viana do Alentejo",
           "1870713",
           75.5
          ],
          [
           "Vila Viçosa",
           "1870714",
           57.2
          ],
          [
           "Albufeira",
           "1500801",
           78
          ],
          [
           "Alcoutim",
           "1500802",
           64.7
          ],
          [
           "Aljezur",
           "1500803",
           59.2
          ],
          [
           "Castro Marim",
           "1500804",
           68.6
          ],
          [
           "Faro",
           "1500805",
           80.7
          ],
          [
           "Lagoa",
           "1500806",
           72
          ],
          [
           "Lagos",
           "1500807",
           67.6
          ],
          [
           "Loulé",
           "1500808",
           70
          ],
          [
           "Monchique",
           "1500809",
           44.5
          ],
          [
           "Olhão",
           "1500810",
           75
          ],
          [
           "Portimão",
           "1500811",
           81.6
          ],
          [
           "São Brás de Alportel",
           "1500812",
           69.5
          ],
          [
           "Silves",
           "1500813",
           68.3
          ],
          [
           "Tavira",
           "1500814",
           60
          ],
          [
           "Vila do Bispo",
           "1500815",
           56.8
          ],
          [
           "Vila Real de Santo António",
           "1500816",
           75.1
          ],
          [
           "Angra do Heroísmo",
           "2004301",
           79
          ],
          [
           "Calheta",
           "2004501",
           74.9
          ],
          [
           "Corvo",
           "2004901",
           79.3
          ],
          [
           "Horta",
           "2004701",
           73.7
          ],
          [
           "Lagoa",
           "2004201",
           105
          ],
          [
           "Lajes das Flores",
           "2004801",
           70.7
          ],
          [
           "Lajes do Pico",
           "2004601",
           66.9
          ],
          [
           "Madalena",
           "2004602",
           80.5
          ],
          [
           "Nordeste",
           "2004202",
           75.3
          ],
          [
           "Ponta Delgada",
           "2004203",
           90
          ],
          [
           "Povoação",
           "2004204",
           80.6
          ],
          [
           "Ribeira Grande",
           "2004205",
           115.7
          ],
          [
           "Santa Cruz da Graciosa",
           "2004401",
           76.1
          ],
          [
           "Santa Cruz das Flores",
           "2004802",
           75.4
          ],
          [
           "São Roque do Pico",
           "2004603",
           67.1
          ],
          [
           "Velas",
           "2004502",
           68.2
          ],
          [
           "Vila da Praia da Vitória",
           "2004302",
           73.4
          ],
          [
           "Vila do Porto",
           "2004101",
           87.4
          ],
          [
           "Vila Franca do Campo",
           "2004206",
           90.5
          ],
          [
           "Calheta",
           "3003101",
           62.9
          ],
          [
           "Câmara de Lobos",
           "3003102",
           91
          ],
          [
           "Funchal",
           "3003103",
           64.8
          ],
          [
           "Machico",
           "3003104",
           66.6
          ],
          [
           "Ponta do Sol",
           "3003105",
           75.7
          ],
          [
           "Porto Moniz",
           "3003106",
           64.9
          ],
          [
           "Porto Santo",
           "3003201",
           61
          ],
          [
           "Ribeira Brava",
           "3003107",
           79.5
          ],
          [
           "Santa Cruz",
           "3003108",
           74.8
          ],
          [
           "Santana",
           "3003109",
           58.1
          ],
          [
           "São Vicente",
           "3003110",
           61.9
          ]
         ],
         "hovertemplate": "valor=%{x}<br>y=%{y}<br>local=%{customdata[0]}<br>codigo=%{customdata[1]}<br>Índice de renovação da população em idade ativa=%{customdata[2]}<br>Índice De Renovação=%{marker.color}<extra></extra>",
         "legendgroup": "",
         "marker": {
          "color": {
           "bdata": "AQEAAAABAQEBAgICAgIBAgIBAQEBAQICAQEBAgEBAgICAQEBAgECAQEAAAAAAAABAQEBAQICAgICAAAAAAEAAQEAAQABAQAAAAEAAAEAAgAAAQAAAAABAgIBAgICAQEBAgIBAgECAQECAgEBAgABAQEBAAEBAQEBAQEAAAEBAQEAAAIBAAICAAECAAEAAQEBAQEBAQEBAgEBAAAAAAAAAQECAQACAQEBAQIBAAAAAQAAAQABAQAAAAAAAgICAgICAgICAgICAgICAgICAAECAAEAAQIAAQEBAgACAAABAQICAgIAAAECAgEBAQECAAABAAAAAgAAAQEAAQAAAQEAAgEBAQIBAAIBAAECAQEBAAECAQEAAAECAQIBAgEBAgECAgIBAQEBAQICAQIBAQEBAAIBAAA=",
           "dtype": "i1"
          },
          "coloraxis": "coloraxis",
          "size": 10,
          "symbol": "circle"
         },
         "mode": "markers",
         "name": "",
         "orientation": "v",
         "showlegend": false,
         "type": "scatter",
         "x": {
          "bdata": "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",
          "dtype": "f8"
         },
         "xaxis": "x",
         "y": {
          "bdata": "AAAAAAAAAAAAAAAAAAAAAAAAAAAAAAAAAAAAAAAAAAAAAAAAAAAAAAAAAAAAAAAAAAAAAAAAAAAAAAAAAAAAAAAAAAAAAAAAAAAAAAAAAAAAAAAAAAAAAAAAAAAAAAAAAAAAAAAAAAAAAAAAAAAAAAAAAAAAAAAAAAAAAAAAAAAAAAAAAAAAAAAAAAAAAAAAAAAAAAAAAAAAAAAAAAAAAAAAAAAAAAAAAAAAAAAAAAAAAAAAAAAAAAAAAAAAAAAAAAAAAAAAAAAAAAAAAAAAAAAAAAAAAAAAAAAAAAAAAAAAAAAAAAAAAAAAAAAAAAAAAAAAAAAAAAAAAAAAAAAAAAAAAAAAAAAAAAAAAAAAAAAAAAAAAAAAAAAAAAAAAAAAAAAAAAAAAAAAAAAAAAAAAAAAAAA=",
          "dtype": "i1"
         },
         "yaxis": "y"
        }
       ],
       "layout": {
        "coloraxis": {
         "colorbar": {
          "title": {
           "text": "Índice De Renovação"
          }
         },
         "colorscale": [
          [
           0,
           "#440154"
          ],
          [
           0.1111111111111111,
           "#482878"
          ],
          [
           0.2222222222222222,
           "#3e4989"
          ],
          [
           0.3333333333333333,
           "#31688e"
          ],
          [
           0.4444444444444444,
           "#26828e"
          ],
          [
           0.5555555555555556,
           "#1f9e89"
          ],
          [
           0.6666666666666666,
           "#35b779"
          ],
          [
           0.7777777777777778,
           "#6ece58"
          ],
          [
           0.8888888888888888,
           "#b5de2b"
          ],
          [
           1,
           "#fde725"
          ]
         ]
        },
        "height": 300,
        "legend": {
         "tracegroupgap": 0
        },
        "margin": {
         "t": 60
        },
        "template": {
         "data": {
          "bar": [
           {
            "error_x": {
             "color": "#2a3f5f"
            },
            "error_y": {
             "color": "#2a3f5f"
            },
            "marker": {
             "line": {
              "color": "#E5ECF6",
              "width": 0.5
             },
             "pattern": {
              "fillmode": "overlay",
              "size": 10,
              "solidity": 0.2
             }
            },
            "type": "bar"
           }
          ],
          "barpolar": [
           {
            "marker": {
             "line": {
              "color": "#E5ECF6",
              "width": 0.5
             },
             "pattern": {
              "fillmode": "overlay",
              "size": 10,
              "solidity": 0.2
             }
            },
            "type": "barpolar"
           }
          ],
          "carpet": [
           {
            "aaxis": {
             "endlinecolor": "#2a3f5f",
             "gridcolor": "white",
             "linecolor": "white",
             "minorgridcolor": "white",
             "startlinecolor": "#2a3f5f"
            },
            "baxis": {
             "endlinecolor": "#2a3f5f",
             "gridcolor": "white",
             "linecolor": "white",
             "minorgridcolor": "white",
             "startlinecolor": "#2a3f5f"
            },
            "type": "carpet"
           }
          ],
          "choropleth": [
           {
            "colorbar": {
             "outlinewidth": 0,
             "ticks": ""
            },
            "type": "choropleth"
           }
          ],
          "contour": [
           {
            "colorbar": {
             "outlinewidth": 0,
             "ticks": ""
            },
            "colorscale": [
             [
              0,
              "#0d0887"
             ],
             [
              0.1111111111111111,
              "#46039f"
             ],
             [
              0.2222222222222222,
              "#7201a8"
             ],
             [
              0.3333333333333333,
              "#9c179e"
             ],
             [
              0.4444444444444444,
              "#bd3786"
             ],
             [
              0.5555555555555556,
              "#d8576b"
             ],
             [
              0.6666666666666666,
              "#ed7953"
             ],
             [
              0.7777777777777778,
              "#fb9f3a"
             ],
             [
              0.8888888888888888,
              "#fdca26"
             ],
             [
              1,
              "#f0f921"
             ]
            ],
            "type": "contour"
           }
          ],
          "contourcarpet": [
           {
            "colorbar": {
             "outlinewidth": 0,
             "ticks": ""
            },
            "type": "contourcarpet"
           }
          ],
          "heatmap": [
           {
            "colorbar": {
             "outlinewidth": 0,
             "ticks": ""
            },
            "colorscale": [
             [
              0,
              "#0d0887"
             ],
             [
              0.1111111111111111,
              "#46039f"
             ],
             [
              0.2222222222222222,
              "#7201a8"
             ],
             [
              0.3333333333333333,
              "#9c179e"
             ],
             [
              0.4444444444444444,
              "#bd3786"
             ],
             [
              0.5555555555555556,
              "#d8576b"
             ],
             [
              0.6666666666666666,
              "#ed7953"
             ],
             [
              0.7777777777777778,
              "#fb9f3a"
             ],
             [
              0.8888888888888888,
              "#fdca26"
             ],
             [
              1,
              "#f0f921"
             ]
            ],
            "type": "heatmap"
           }
          ],
          "histogram": [
           {
            "marker": {
             "pattern": {
              "fillmode": "overlay",
              "size": 10,
              "solidity": 0.2
             }
            },
            "type": "histogram"
           }
          ],
          "histogram2d": [
           {
            "colorbar": {
             "outlinewidth": 0,
             "ticks": ""
            },
            "colorscale": [
             [
              0,
              "#0d0887"
             ],
             [
              0.1111111111111111,
              "#46039f"
             ],
             [
              0.2222222222222222,
              "#7201a8"
             ],
             [
              0.3333333333333333,
              "#9c179e"
             ],
             [
              0.4444444444444444,
              "#bd3786"
             ],
             [
              0.5555555555555556,
              "#d8576b"
             ],
             [
              0.6666666666666666,
              "#ed7953"
             ],
             [
              0.7777777777777778,
              "#fb9f3a"
             ],
             [
              0.8888888888888888,
              "#fdca26"
             ],
             [
              1,
              "#f0f921"
             ]
            ],
            "type": "histogram2d"
           }
          ],
          "histogram2dcontour": [
           {
            "colorbar": {
             "outlinewidth": 0,
             "ticks": ""
            },
            "colorscale": [
             [
              0,
              "#0d0887"
             ],
             [
              0.1111111111111111,
              "#46039f"
             ],
             [
              0.2222222222222222,
              "#7201a8"
             ],
             [
              0.3333333333333333,
              "#9c179e"
             ],
             [
              0.4444444444444444,
              "#bd3786"
             ],
             [
              0.5555555555555556,
              "#d8576b"
             ],
             [
              0.6666666666666666,
              "#ed7953"
             ],
             [
              0.7777777777777778,
              "#fb9f3a"
             ],
             [
              0.8888888888888888,
              "#fdca26"
             ],
             [
              1,
              "#f0f921"
             ]
            ],
            "type": "histogram2dcontour"
           }
          ],
          "mesh3d": [
           {
            "colorbar": {
             "outlinewidth": 0,
             "ticks": ""
            },
            "type": "mesh3d"
           }
          ],
          "parcoords": [
           {
            "line": {
             "colorbar": {
              "outlinewidth": 0,
              "ticks": ""
             }
            },
            "type": "parcoords"
           }
          ],
          "pie": [
           {
            "automargin": true,
            "type": "pie"
           }
          ],
          "scatter": [
           {
            "fillpattern": {
             "fillmode": "overlay",
             "size": 10,
             "solidity": 0.2
            },
            "type": "scatter"
           }
          ],
          "scatter3d": [
           {
            "line": {
             "colorbar": {
              "outlinewidth": 0,
              "ticks": ""
             }
            },
            "marker": {
             "colorbar": {
              "outlinewidth": 0,
              "ticks": ""
             }
            },
            "type": "scatter3d"
           }
          ],
          "scattercarpet": [
           {
            "marker": {
             "colorbar": {
              "outlinewidth": 0,
              "ticks": ""
             }
            },
            "type": "scattercarpet"
           }
          ],
          "scattergeo": [
           {
            "marker": {
             "colorbar": {
              "outlinewidth": 0,
              "ticks": ""
             }
            },
            "type": "scattergeo"
           }
          ],
          "scattergl": [
           {
            "marker": {
             "colorbar": {
              "outlinewidth": 0,
              "ticks": ""
             }
            },
            "type": "scattergl"
           }
          ],
          "scattermap": [
           {
            "marker": {
             "colorbar": {
              "outlinewidth": 0,
              "ticks": ""
             }
            },
            "type": "scattermap"
           }
          ],
          "scattermapbox": [
           {
            "marker": {
             "colorbar": {
              "outlinewidth": 0,
              "ticks": ""
             }
            },
            "type": "scattermapbox"
           }
          ],
          "scatterpolar": [
           {
            "marker": {
             "colorbar": {
              "outlinewidth": 0,
              "ticks": ""
             }
            },
            "type": "scatterpolar"
           }
          ],
          "scatterpolargl": [
           {
            "marker": {
             "colorbar": {
              "outlinewidth": 0,
              "ticks": ""
             }
            },
            "type": "scatterpolargl"
           }
          ],
          "scatterternary": [
           {
            "marker": {
             "colorbar": {
              "outlinewidth": 0,
              "ticks": ""
             }
            },
            "type": "scatterternary"
           }
          ],
          "surface": [
           {
            "colorbar": {
             "outlinewidth": 0,
             "ticks": ""
            },
            "colorscale": [
             [
              0,
              "#0d0887"
             ],
             [
              0.1111111111111111,
              "#46039f"
             ],
             [
              0.2222222222222222,
              "#7201a8"
             ],
             [
              0.3333333333333333,
              "#9c179e"
             ],
             [
              0.4444444444444444,
              "#bd3786"
             ],
             [
              0.5555555555555556,
              "#d8576b"
             ],
             [
              0.6666666666666666,
              "#ed7953"
             ],
             [
              0.7777777777777778,
              "#fb9f3a"
             ],
             [
              0.8888888888888888,
              "#fdca26"
             ],
             [
              1,
              "#f0f921"
             ]
            ],
            "type": "surface"
           }
          ],
          "table": [
           {
            "cells": {
             "fill": {
              "color": "#EBF0F8"
             },
             "line": {
              "color": "white"
             }
            },
            "header": {
             "fill": {
              "color": "#C8D4E3"
             },
             "line": {
              "color": "white"
             }
            },
            "type": "table"
           }
          ]
         },
         "layout": {
          "annotationdefaults": {
           "arrowcolor": "#2a3f5f",
           "arrowhead": 0,
           "arrowwidth": 1
          },
          "autotypenumbers": "strict",
          "coloraxis": {
           "colorbar": {
            "outlinewidth": 0,
            "ticks": ""
           }
          },
          "colorscale": {
           "diverging": [
            [
             0,
             "#8e0152"
            ],
            [
             0.1,
             "#c51b7d"
            ],
            [
             0.2,
             "#de77ae"
            ],
            [
             0.3,
             "#f1b6da"
            ],
            [
             0.4,
             "#fde0ef"
            ],
            [
             0.5,
             "#f7f7f7"
            ],
            [
             0.6,
             "#e6f5d0"
            ],
            [
             0.7,
             "#b8e186"
            ],
            [
             0.8,
             "#7fbc41"
            ],
            [
             0.9,
             "#4d9221"
            ],
            [
             1,
             "#276419"
            ]
           ],
           "sequential": [
            [
             0,
             "#0d0887"
            ],
            [
             0.1111111111111111,
             "#46039f"
            ],
            [
             0.2222222222222222,
             "#7201a8"
            ],
            [
             0.3333333333333333,
             "#9c179e"
            ],
            [
             0.4444444444444444,
             "#bd3786"
            ],
            [
             0.5555555555555556,
             "#d8576b"
            ],
            [
             0.6666666666666666,
             "#ed7953"
            ],
            [
             0.7777777777777778,
             "#fb9f3a"
            ],
            [
             0.8888888888888888,
             "#fdca26"
            ],
            [
             1,
             "#f0f921"
            ]
           ],
           "sequentialminus": [
            [
             0,
             "#0d0887"
            ],
            [
             0.1111111111111111,
             "#46039f"
            ],
            [
             0.2222222222222222,
             "#7201a8"
            ],
            [
             0.3333333333333333,
             "#9c179e"
            ],
            [
             0.4444444444444444,
             "#bd3786"
            ],
            [
             0.5555555555555556,
             "#d8576b"
            ],
            [
             0.6666666666666666,
             "#ed7953"
            ],
            [
             0.7777777777777778,
             "#fb9f3a"
            ],
            [
             0.8888888888888888,
             "#fdca26"
            ],
            [
             1,
             "#f0f921"
            ]
           ]
          },
          "colorway": [
           "#636efa",
           "#EF553B",
           "#00cc96",
           "#ab63fa",
           "#FFA15A",
           "#19d3f3",
           "#FF6692",
           "#B6E880",
           "#FF97FF",
           "#FECB52"
          ],
          "font": {
           "color": "#2a3f5f"
          },
          "geo": {
           "bgcolor": "white",
           "lakecolor": "white",
           "landcolor": "#E5ECF6",
           "showlakes": true,
           "showland": true,
           "subunitcolor": "white"
          },
          "hoverlabel": {
           "align": "left"
          },
          "hovermode": "closest",
          "mapbox": {
           "style": "light"
          },
          "paper_bgcolor": "white",
          "plot_bgcolor": "#E5ECF6",
          "polar": {
           "angularaxis": {
            "gridcolor": "white",
            "linecolor": "white",
            "ticks": ""
           },
           "bgcolor": "#E5ECF6",
           "radialaxis": {
            "gridcolor": "white",
            "linecolor": "white",
            "ticks": ""
           }
          },
          "scene": {
           "xaxis": {
            "backgroundcolor": "#E5ECF6",
            "gridcolor": "white",
            "gridwidth": 2,
            "linecolor": "white",
            "showbackground": true,
            "ticks": "",
            "zerolinecolor": "white"
           },
           "yaxis": {
            "backgroundcolor": "#E5ECF6",
            "gridcolor": "white",
            "gridwidth": 2,
            "linecolor": "white",
            "showbackground": true,
            "ticks": "",
            "zerolinecolor": "white"
           },
           "zaxis": {
            "backgroundcolor": "#E5ECF6",
            "gridcolor": "white",
            "gridwidth": 2,
            "linecolor": "white",
            "showbackground": true,
            "ticks": "",
            "zerolinecolor": "white"
           }
          },
          "shapedefaults": {
           "line": {
            "color": "#2a3f5f"
           }
          },
          "ternary": {
           "aaxis": {
            "gridcolor": "white",
            "linecolor": "white",
            "ticks": ""
           },
           "baxis": {
            "gridcolor": "white",
            "linecolor": "white",
            "ticks": ""
           },
           "bgcolor": "#E5ECF6",
           "caxis": {
            "gridcolor": "white",
            "linecolor": "white",
            "ticks": ""
           }
          },
          "title": {
           "x": 0.05
          },
          "xaxis": {
           "automargin": true,
           "gridcolor": "white",
           "linecolor": "white",
           "ticks": "",
           "title": {
            "standoff": 15
           },
           "zerolinecolor": "white",
           "zerolinewidth": 2
          },
          "yaxis": {
           "automargin": true,
           "gridcolor": "white",
           "linecolor": "white",
           "ticks": "",
           "title": {
            "standoff": 15
           },
           "zerolinecolor": "white",
           "zerolinewidth": 2
          }
         }
        },
        "xaxis": {
         "anchor": "y",
         "domain": [
          0,
          1
         ],
         "title": {
          "text": "Índice de renovação da população em idade ativa"
         }
        },
        "yaxis": {
         "anchor": "x",
         "domain": [
          0,
          1
         ],
         "showgrid": false,
         "showticklabels": false,
         "title": {
          "text": "y"
         }
        }
       }
      }
     },
     "metadata": {},
     "output_type": "display_data"
    },
    {
     "name": "stdout",
     "output_type": "stream",
     "text": [
      "Índice De Renovação\n",
      "0     84\n",
      "1    137\n",
      "2     87\n",
      "Name: count, dtype: int64\n",
      "File saved to csv_files/5_Indice_de_renovacao.csv\n"
     ]
    }
   ],
   "source": [
    "clustered_df = aplicar_kmeans(df_indice_renovacao, 3, nome_cluster='Índice De Renovação')\n",
    "save_clustered_df_to_csv(clustered_df, \"csv_files/\", \"5_Indice_de_renovacao.csv\")"
   ]
  },
  {
   "cell_type": "markdown",
   "id": "19d3f267",
   "metadata": {},
   "source": [
    "### Pedido de Residencia"
   ]
  },
  {
   "cell_type": "code",
   "execution_count": null,
   "id": "ecac9a49",
   "metadata": {},
   "outputs": [
    {
     "name": "stdout",
     "output_type": "stream",
     "text": [
      "File saved to csv_bruto/5_Num_pedidos_residencia.csv\n"
     ]
    },
    {
     "data": {
      "text/html": [
       "<div>\n",
       "<style scoped>\n",
       "    .dataframe tbody tr th:only-of-type {\n",
       "        vertical-align: middle;\n",
       "    }\n",
       "\n",
       "    .dataframe tbody tr th {\n",
       "        vertical-align: top;\n",
       "    }\n",
       "\n",
       "    .dataframe thead th {\n",
       "        text-align: right;\n",
       "    }\n",
       "</style>\n",
       "<table border=\"1\" class=\"dataframe\">\n",
       "  <thead>\n",
       "    <tr style=\"text-align: right;\">\n",
       "      <th></th>\n",
       "      <th>local</th>\n",
       "      <th>codigo</th>\n",
       "      <th>Total</th>\n",
       "    </tr>\n",
       "  </thead>\n",
       "  <tbody>\n",
       "    <tr>\n",
       "      <th>4</th>\n",
       "      <td>Arcos de Valdevez</td>\n",
       "      <td>1111601</td>\n",
       "      <td>187.0</td>\n",
       "    </tr>\n",
       "    <tr>\n",
       "      <th>5</th>\n",
       "      <td>Caminha</td>\n",
       "      <td>1111602</td>\n",
       "      <td>400.0</td>\n",
       "    </tr>\n",
       "    <tr>\n",
       "      <th>6</th>\n",
       "      <td>Melgaço</td>\n",
       "      <td>1111603</td>\n",
       "      <td>61.0</td>\n",
       "    </tr>\n",
       "    <tr>\n",
       "      <th>7</th>\n",
       "      <td>Monção</td>\n",
       "      <td>1111604</td>\n",
       "      <td>451.0</td>\n",
       "    </tr>\n",
       "    <tr>\n",
       "      <th>8</th>\n",
       "      <td>Paredes de Coura</td>\n",
       "      <td>1111605</td>\n",
       "      <td>101.0</td>\n",
       "    </tr>\n",
       "    <tr>\n",
       "      <th>...</th>\n",
       "      <td>...</td>\n",
       "      <td>...</td>\n",
       "      <td>...</td>\n",
       "    </tr>\n",
       "    <tr>\n",
       "      <th>342</th>\n",
       "      <td>Ribeira Brava</td>\n",
       "      <td>3003107</td>\n",
       "      <td>78.0</td>\n",
       "    </tr>\n",
       "    <tr>\n",
       "      <th>343</th>\n",
       "      <td>Santa Cruz</td>\n",
       "      <td>3003108</td>\n",
       "      <td>400.0</td>\n",
       "    </tr>\n",
       "    <tr>\n",
       "      <th>344</th>\n",
       "      <td>Santana</td>\n",
       "      <td>3003109</td>\n",
       "      <td>71.0</td>\n",
       "    </tr>\n",
       "    <tr>\n",
       "      <th>345</th>\n",
       "      <td>São Vicente</td>\n",
       "      <td>3003110</td>\n",
       "      <td>65.0</td>\n",
       "    </tr>\n",
       "    <tr>\n",
       "      <th>346</th>\n",
       "      <td>Porto Santo</td>\n",
       "      <td>3003201</td>\n",
       "      <td>132.0</td>\n",
       "    </tr>\n",
       "  </tbody>\n",
       "</table>\n",
       "<p>308 rows × 3 columns</p>\n",
       "</div>"
      ],
      "text/plain": [
       "                 local   codigo  Total\n",
       "4    Arcos de Valdevez  1111601  187.0\n",
       "5              Caminha  1111602  400.0\n",
       "6              Melgaço  1111603   61.0\n",
       "7               Monção  1111604  451.0\n",
       "8     Paredes de Coura  1111605  101.0\n",
       "..                 ...      ...    ...\n",
       "342      Ribeira Brava  3003107   78.0\n",
       "343         Santa Cruz  3003108  400.0\n",
       "344            Santana  3003109   71.0\n",
       "345        São Vicente  3003110   65.0\n",
       "346        Porto Santo  3003201  132.0\n",
       "\n",
       "[308 rows x 3 columns]"
      ]
     },
     "execution_count": 36,
     "metadata": {},
     "output_type": "execute_result"
    }
   ],
   "source": [
    "df_pedido_residencia = processar_ficheiro(data_path+'População estrangeira que solicitou estatuto de residente.xls', 2,padding_left=1, padding_right=46)\n",
    "df_pedido_residencia = carregar_municipios(df_pedido_residencia)\n",
    "save_clustered_df_to_csv(\n",
    "    df_pedido_residencia.rename(columns={'Total': 'Total_Pedidos_Residencia'}), \"csv_bruto/\", \"5_Num_pedidos_residencia.csv\")\n",
    "df_pedido_residencia"
   ]
  },
  {
   "cell_type": "code",
   "execution_count": 37,
   "id": "f38e3b90",
   "metadata": {},
   "outputs": [
    {
     "data": {
      "application/vnd.plotly.v1+json": {
       "config": {
        "plotlyServerURL": "https://plot.ly"
       },
       "data": [
        {
         "customdata": [
          [
           "Arcos de Valdevez",
           "1111601",
           187
          ],
          [
           "Caminha",
           "1111602",
           400
          ],
          [
           "Melgaço",
           "1111603",
           61
          ],
          [
           "Monção",
           "1111604",
           451
          ],
          [
           "Paredes de Coura",
           "1111605",
           101
          ],
          [
           "Ponte da Barca",
           "1111606",
           66
          ],
          [
           "Ponte de Lima",
           "1111607",
           450
          ],
          [
           "Valença",
           "1111608",
           700
          ],
          [
           "Viana do Castelo",
           "1111609",
           2008
          ],
          [
           "Vila Nova de Cerveira",
           "1111610",
           316
          ],
          [
           "Amares",
           "1120301",
           275
          ],
          [
           "Barcelos",
           "1120302",
           1573
          ],
          [
           "Braga",
           "1120303",
           7530
          ],
          [
           "Esposende",
           "1120306",
           574
          ],
          [
           "Terras de Bouro",
           "1120310",
           37
          ],
          [
           "Vila Verde",
           "1120313",
           532
          ],
          [
           "Cabeceiras de Basto",
           "1190304",
           50
          ],
          [
           "Fafe",
           "1190307",
           438
          ],
          [
           "Guimarães",
           "1190308",
           2428
          ],
          [
           "Mondim de Basto",
           "1191705",
           22
          ],
          [
           "Póvoa de Lanhoso",
           "1190309",
           275
          ],
          [
           "Vieira do Minho",
           "1190311",
           50
          ],
          [
           "Vila Nova de Famalicão",
           "1190312",
           2179
          ],
          [
           "Vizela",
           "1190314",
           305
          ],
          [
           "Arouca",
           "11A0104",
           108
          ],
          [
           "Espinho",
           "11A0107",
           412
          ],
          [
           "Gondomar",
           "11A1304",
           1985
          ],
          [
           "Maia",
           "11A1306",
           2151
          ],
          [
           "Matosinhos",
           "11A1308",
           3472
          ],
          [
           "Oliveira de Azeméis",
           "11A0113",
           823
          ],
          [
           "Paredes",
           "11A1310",
           740
          ],
          [
           "Porto",
           "11A1312",
           14163
          ],
          [
           "Póvoa de Varzim",
           "11A1313",
           1664
          ],
          [
           "Santa Maria da Feira",
           "11A0109",
           922
          ],
          [
           "Santo Tirso",
           "11A1314",
           435
          ],
          [
           "São João da Madeira",
           "11A0116",
           851
          ],
          [
           "Trofa",
           "11A1318",
           620
          ],
          [
           "Vale de Cambra",
           "11A0119",
           318
          ],
          [
           "Valongo",
           "11A1315",
           908
          ],
          [
           "Vila do Conde",
           "11A1316",
           1138
          ],
          [
           "Vila Nova de Gaia",
           "11A1317",
           6171
          ],
          [
           "Boticas",
           "11B1702",
           30
          ],
          [
           "Chaves",
           "11B1703",
           534
          ],
          [
           "Montalegre",
           "11B1706",
           31
          ],
          [
           "Ribeira de Pena",
           "11B1709",
           55
          ],
          [
           "Valpaços",
           "11B1712",
           43
          ],
          [
           "Vila Pouca de Aguiar",
           "11B1713",
           80
          ],
          [
           "Amarante",
           "11C1301",
           369
          ],
          [
           "Baião",
           "11C1302",
           71
          ],
          [
           "Castelo de Paiva",
           "11C0106",
           120
          ],
          [
           "Celorico de Basto",
           "11C0305",
           48
          ],
          [
           "Cinfães",
           "11C1804",
           120
          ],
          [
           "Felgueiras",
           "11C1303",
           394
          ],
          [
           "Lousada",
           "11C1305",
           257
          ],
          [
           "Marco de Canaveses",
           "11C1307",
           410
          ],
          [
           "Paços de Ferreira",
           "11C1309",
           433
          ],
          [
           "Penafiel",
           "11C1311",
           388
          ],
          [
           "Resende",
           "11C1813",
           18
          ],
          [
           "Alijó",
           "11D1701",
           26
          ],
          [
           "Armamar",
           "11D1801",
           40
          ],
          [
           "Carrazeda de Ansiães",
           "11D0403",
           39
          ],
          [
           "Freixo de Espada à Cinta",
           "11D0404",
           26
          ],
          [
           "Lamego",
           "11D1805",
           142
          ],
          [
           "Mesão Frio",
           "11D1704",
           5
          ],
          [
           "Moimenta da Beira",
           "11D1807",
           127
          ],
          [
           "Murça",
           "11D1707",
           20
          ],
          [
           "Penedono",
           "11D1812",
           19
          ],
          [
           "Peso da Régua",
           "11D1708",
           57
          ],
          [
           "Sabrosa",
           "11D1710",
           9
          ],
          [
           "Santa Marta de Penaguião",
           "11D1711",
           12
          ],
          [
           "São João da Pesqueira",
           "11D1815",
           23
          ],
          [
           "Sernancelhe",
           "11D1818",
           81
          ],
          [
           "Tabuaço",
           "11D1819",
           30
          ],
          [
           "Tarouca",
           "11D1820",
           60
          ],
          [
           "Torre de Moncorvo",
           "11D0409",
           24
          ],
          [
           "Vila Nova de Foz Côa",
           "11D0914",
           39
          ],
          [
           "Vila Real",
           "11D1714",
           952
          ],
          [
           "Alfândega da Fé",
           "11E0401",
           26
          ],
          [
           "Bragança",
           "11E0402",
           1496
          ],
          [
           "Macedo de Cavaleiros",
           "11E0405",
           104
          ],
          [
           "Miranda do Douro",
           "11E0406",
           44
          ],
          [
           "Mirandela",
           "11E0407",
           293
          ],
          [
           "Mogadouro",
           "11E0408",
           28
          ],
          [
           "Vila Flor",
           "11E0410",
           28
          ],
          [
           "Vimioso",
           "11E0411",
           36
          ],
          [
           "Vinhais",
           "11E0412",
           18
          ],
          [
           "Águeda",
           "1910101",
           1461
          ],
          [
           "Albergaria-a-Velha",
           "1910102",
           422
          ],
          [
           "Anadia",
           "1910103",
           628
          ],
          [
           "Aveiro",
           "1910105",
           3477
          ],
          [
           "Estarreja",
           "1910108",
           379
          ],
          [
           "Ílhavo",
           "1910110",
           1076
          ],
          [
           "Murtosa",
           "1910112",
           121
          ],
          [
           "Oliveira do Bairro",
           "1910114",
           738
          ],
          [
           "Ovar",
           "1910115",
           692
          ],
          [
           "Sever do Vouga",
           "1910117",
           238
          ],
          [
           "Vagos",
           "1910118",
           549
          ],
          [
           "Arganil",
           "1920601",
           254
          ],
          [
           "Cantanhede",
           "1920602",
           416
          ],
          [
           "Coimbra",
           "1920603",
           5892
          ],
          [
           "Condeixa-a-Nova",
           "1920604",
           187
          ],
          [
           "Figueira da Foz",
           "1920605",
           1693
          ],
          [
           "Góis",
           "1920606",
           56
          ],
          [
           "Lousã",
           "1920607",
           261
          ],
          [
           "Mealhada",
           "1920111",
           233
          ],
          [
           "Mira",
           "1920608",
           246
          ],
          [
           "Miranda do Corvo",
           "1920609",
           152
          ],
          [
           "Montemor-o-Velho",
           "1920610",
           205
          ],
          [
           "Mortágua",
           "1921808",
           179
          ],
          [
           "Oliveira do Hospital",
           "1920611",
           283
          ],
          [
           "Pampilhosa da Serra",
           "1920612",
           13
          ],
          [
           "Penacova",
           "1920613",
           94
          ],
          [
           "Penela",
           "1920614",
           144
          ],
          [
           "Soure",
           "1920615",
           157
          ],
          [
           "Tábua",
           "1920616",
           153
          ],
          [
           "Vila Nova de Poiares",
           "1920617",
           131
          ],
          [
           "Alvaiázere",
           "1931002",
           109
          ],
          [
           "Ansião",
           "1931003",
           189
          ],
          [
           "Batalha",
           "1931004",
           706
          ],
          [
           "Castanheira de Pêra",
           "1931007",
           37
          ],
          [
           "Figueiró dos Vinhos",
           "1931008",
           93
          ],
          [
           "Leiria",
           "1931009",
           4889
          ],
          [
           "Marinha Grande",
           "1931010",
           1477
          ],
          [
           "Pedrógão Grande",
           "1931013",
           153
          ],
          [
           "Pombal",
           "1931015",
           1314
          ],
          [
           "Porto de Mós",
           "1931016",
           541
          ],
          [
           "Aguiar da Beira",
           "1940901",
           19
          ],
          [
           "Carregal do Sal",
           "1941802",
           113
          ],
          [
           "Castro Daire",
           "1941803",
           98
          ],
          [
           "Mangualde",
           "1941806",
           274
          ],
          [
           "Nelas",
           "1941809",
           220
          ],
          [
           "Oliveira de Frades",
           "1941810",
           299
          ],
          [
           "Penalva do Castelo",
           "1941811",
           31
          ],
          [
           "Santa Comba Dão",
           "1941814",
           132
          ],
          [
           "São Pedro do Sul",
           "1941816",
           308
          ],
          [
           "Sátão",
           "1941817",
           105
          ],
          [
           "Tondela",
           "1941821",
           373
          ],
          [
           "Vila Nova de Paiva",
           "1941822",
           20
          ],
          [
           "Viseu",
           "1941823",
           2437
          ],
          [
           "Vouzela",
           "1941824",
           103
          ],
          [
           "Castelo Branco",
           "1950502",
           1295
          ],
          [
           "Idanha-a-Nova",
           "1950505",
           187
          ],
          [
           "Oleiros",
           "1950506",
           67
          ],
          [
           "Penamacor",
           "1950507",
           88
          ],
          [
           "Proença-a-Nova",
           "1950508",
           108
          ],
          [
           "Sertã",
           "1950509",
           280
          ],
          [
           "Vila de Rei",
           "1950510",
           59
          ],
          [
           "Vila Velha de Ródão",
           "1950511",
           95
          ],
          [
           "Almeida",
           "1960902",
           67
          ],
          [
           "Belmonte",
           "1960501",
           53
          ],
          [
           "Celorico da Beira",
           "1960903",
           63
          ],
          [
           "Covilhã",
           "1960503",
           1336
          ],
          [
           "Figueira de Castelo Rodrigo",
           "1960904",
           7
          ],
          [
           "Fornos de Algodres",
           "1960905",
           16
          ],
          [
           "Fundão",
           "1960504",
           517
          ],
          [
           "Gouveia",
           "1960906",
           83
          ],
          [
           "Guarda",
           "1960907",
           572
          ],
          [
           "Manteigas",
           "1960908",
           31
          ],
          [
           "Mêda",
           "1960909",
           20
          ],
          [
           "Pinhel",
           "1960910",
           40
          ],
          [
           "Sabugal",
           "1960911",
           47
          ],
          [
           "Seia",
           "1960912",
           221
          ],
          [
           "Trancoso",
           "1960913",
           53
          ],
          [
           "Alcobaça",
           "1D11001",
           1537
          ],
          [
           "Alenquer",
           "1D11101",
           1740
          ],
          [
           "Arruda dos Vinhos",
           "1D11102",
           292
          ],
          [
           "Bombarral",
           "1D11005",
           316
          ],
          [
           "Cadaval",
           "1D11104",
           171
          ],
          [
           "Caldas da Rainha",
           "1D11006",
           2119
          ],
          [
           "Lourinhã",
           "1D11108",
           754
          ],
          [
           "Nazaré",
           "1D11011",
           711
          ],
          [
           "Óbidos",
           "1D11012",
           365
          ],
          [
           "Peniche",
           "1D11014",
           766
          ],
          [
           "Sobral de Monte Agraço",
           "1D11112",
           327
          ],
          [
           "Torres Vedras",
           "1D11113",
           2406
          ],
          [
           "Abrantes",
           "1D21401",
           482
          ],
          [
           "Alcanena",
           "1D21402",
           252
          ],
          [
           "Constância",
           "1D21408",
           26
          ],
          [
           "Entroncamento",
           "1D21410",
           1179
          ],
          [
           "Ferreira do Zêzere",
           "1D21411",
           115
          ],
          [
           "Mação",
           "1D21413",
           59
          ],
          [
           "Ourém",
           "1D21421",
           1033
          ],
          [
           "Sardoal",
           "1D21417",
           54
          ],
          [
           "Tomar",
           "1D21418",
           530
          ],
          [
           "Torres Novas",
           "1D21419",
           507
          ],
          [
           "Vila Nova da Barquinha",
           "1D21420",
           56
          ],
          [
           "Almeirim",
           "1D31403",
           473
          ],
          [
           "Alpiarça",
           "1D31404",
           71
          ],
          [
           "Azambuja",
           "1D31103",
           607
          ],
          [
           "Benavente",
           "1D31405",
           797
          ],
          [
           "Cartaxo",
           "1D31406",
           440
          ],
          [
           "Chamusca",
           "1D31407",
           65
          ],
          [
           "Coruche",
           "1D31409",
           95
          ],
          [
           "Golegã",
           "1D31412",
           82
          ],
          [
           "Rio Maior",
           "1D31414",
           824
          ],
          [
           "Salvaterra de Magos",
           "1D31415",
           201
          ],
          [
           "Santarém",
           "1D31416",
           2109
          ],
          [
           "Amadora",
           "1A01115",
           11124
          ],
          [
           "Cascais",
           "1A01105",
           9894
          ],
          [
           "Lisboa",
           "1A01106",
           51119
          ],
          [
           "Loures",
           "1A01107",
           11058
          ],
          [
           "Mafra",
           "1A01109",
           2983
          ],
          [
           "Odivelas",
           "1A01116",
           10709
          ],
          [
           "Oeiras",
           "1A01110",
           5371
          ],
          [
           "Sintra",
           "1A01111",
           19177
          ],
          [
           "Vila Franca de Xira",
           "1A01114",
           4390
          ],
          [
           "Alcochete",
           "1B01502",
           357
          ],
          [
           "Almada",
           "1B01503",
           8284
          ],
          [
           "Barreiro",
           "1B01504",
           3235
          ],
          [
           "Moita",
           "1B01506",
           3077
          ],
          [
           "Montijo",
           "1B01507",
           2863
          ],
          [
           "Palmela",
           "1B01508",
           1471
          ],
          [
           "Seixal",
           "1B01510",
           7770
          ],
          [
           "Sesimbra",
           "1B01511",
           1216
          ],
          [
           "Setúbal",
           "1B01512",
           4878
          ],
          [
           "Alcácer do Sal",
           "1C11501",
           219
          ],
          [
           "Grândola",
           "1C11505",
           434
          ],
          [
           "Odemira",
           "1C10211",
           3197
          ],
          [
           "Santiago do Cacém",
           "1C11509",
           557
          ],
          [
           "Sines",
           "1C11513",
           585
          ],
          [
           "Aljustrel",
           "1C20201",
           96
          ],
          [
           "Almodôvar",
           "1C20202",
           115
          ],
          [
           "Alvito",
           "1C20203",
           33
          ],
          [
           "Barrancos",
           "1C20204",
           6
          ],
          [
           "Beja",
           "1C20205",
           1084
          ],
          [
           "Castro Verde",
           "1C20206",
           102
          ],
          [
           "Cuba",
           "1C20207",
           61
          ],
          [
           "Ferreira do Alentejo",
           "1C20208",
           272
          ],
          [
           "Mértola",
           "1C20209",
           90
          ],
          [
           "Moura",
           "1C20210",
           41
          ],
          [
           "Ourique",
           "1C20212",
           75
          ],
          [
           "Serpa",
           "1C20213",
           252
          ],
          [
           "Vidigueira",
           "1C20214",
           73
          ],
          [
           "Alter do Chão",
           "1C31201",
           36
          ],
          [
           "Arronches",
           "1C31202",
           11
          ],
          [
           "Avis",
           "1C31203",
           15
          ],
          [
           "Campo Maior",
           "1C31204",
           42
          ],
          [
           "Castelo de Vide",
           "1C31205",
           20
          ],
          [
           "Crato",
           "1C31206",
           22
          ],
          [
           "Elvas",
           "1C31207",
           201
          ],
          [
           "Fronteira",
           "1C31208",
           35
          ],
          [
           "Gavião",
           "1C31209",
           3
          ],
          [
           "Marvão",
           "1C31210",
           41
          ],
          [
           "Monforte",
           "1C31211",
           18
          ],
          [
           "Nisa",
           "1C31212",
           36
          ],
          [
           "Ponte de Sor",
           "1C31213",
           145
          ],
          [
           "Portalegre",
           "1C31214",
           350
          ],
          [
           "Sousel",
           "1C31215",
           62
          ],
          [
           "Alandroal",
           "1C40701",
           79
          ],
          [
           "Arraiolos",
           "1C40702",
           31
          ],
          [
           "Borba",
           "1C40703",
           32
          ],
          [
           "Estremoz",
           "1C40704",
           119
          ],
          [
           "Évora",
           "1C40705",
           1321
          ],
          [
           "Montemor-o-Novo",
           "1C40706",
           299
          ],
          [
           "Mora",
           "1C40707",
           24
          ],
          [
           "Mourão",
           "1C40708",
           16
          ],
          [
           "Portel",
           "1C40709",
           52
          ],
          [
           "Redondo",
           "1C40710",
           29
          ],
          [
           "Reguengos de Monsaraz",
           "1C40711",
           53
          ],
          [
           "Vendas Novas",
           "1C40712",
           230
          ],
          [
           "Viana do Alentejo",
           "1C40713",
           46
          ],
          [
           "Vila Viçosa",
           "1C40714",
           61
          ],
          [
           "Albufeira",
           "1500801",
           4376
          ],
          [
           "Alcoutim",
           "1500802",
           52
          ],
          [
           "Aljezur",
           "1500803",
           515
          ],
          [
           "Castro Marim",
           "1500804",
           256
          ],
          [
           "Faro",
           "1500805",
           2943
          ],
          [
           "Lagoa",
           "1500806",
           1377
          ],
          [
           "Lagos",
           "1500807",
           2948
          ],
          [
           "Loulé",
           "1500808",
           4953
          ],
          [
           "Monchique",
           "1500809",
           192
          ],
          [
           "Olhão",
           "1500810",
           1074
          ],
          [
           "Portimão",
           "1500811",
           3802
          ],
          [
           "São Brás de Alportel",
           "1500812",
           292
          ],
          [
           "Silves",
           "1500813",
           1911
          ],
          [
           "Tavira",
           "1500814",
           1752
          ],
          [
           "Vila do Bispo",
           "1500815",
           528
          ],
          [
           "Vila Real de Santo António",
           "1500816",
           779
          ],
          [
           "Angra do Heroísmo",
           "2004301",
           147
          ],
          [
           "Calheta (R.A.A.)",
           "2004501",
           26
          ],
          [
           "Corvo",
           "2004901",
           0
          ],
          [
           "Horta",
           "2004701",
           157
          ],
          [
           "Lagoa (R.A.A.)",
           "2004201",
           38
          ],
          [
           "Lajes das Flores",
           "2004801",
           22
          ],
          [
           "Lajes do Pico",
           "2004601",
           50
          ],
          [
           "Madalena",
           "2004602",
           105
          ],
          [
           "Nordeste",
           "2004202",
           32
          ],
          [
           "Ponta Delgada",
           "2004203",
           568
          ],
          [
           "Povoação",
           "2004204",
           19
          ],
          [
           "Ribeira Grande",
           "2004205",
           106
          ],
          [
           "Santa Cruz da Graciosa",
           "2004401",
           22
          ],
          [
           "Santa Cruz das Flores",
           "2004802",
           11
          ],
          [
           "São Roque do Pico",
           "2004603",
           39
          ],
          [
           "Velas",
           "2004502",
           23
          ],
          [
           "Vila da Praia da Vitória",
           "2004302",
           77
          ],
          [
           "Vila do Porto",
           "2004101",
           45
          ],
          [
           "Vila Franca do Campo",
           "2004206",
           42
          ],
          [
           "Calheta (R.A.M.)",
           "3003101",
           276
          ],
          [
           "Câmara de Lobos",
           "3003102",
           209
          ],
          [
           "Funchal",
           "3003103",
           1916
          ],
          [
           "Machico",
           "3003104",
           173
          ],
          [
           "Ponta do Sol",
           "3003105",
           122
          ],
          [
           "Porto Moniz",
           "3003106",
           30
          ],
          [
           "Ribeira Brava",
           "3003107",
           78
          ],
          [
           "Santa Cruz",
           "3003108",
           400
          ],
          [
           "Santana",
           "3003109",
           71
          ],
          [
           "São Vicente",
           "3003110",
           65
          ],
          [
           "Porto Santo",
           "3003201",
           132
          ]
         ],
         "hovertemplate": "valor=%{x}<br>y=%{y}<br>local=%{customdata[0]}<br>codigo=%{customdata[1]}<br>Total=%{customdata[2]}<br>num_pedidos_residencia=%{marker.color}<extra></extra>",
         "legendgroup": "",
         "marker": {
          "color": {
           "bdata": "AAAAAAAAAAAAAAAAAQAAAAAAAAAAAAAAAAAAAAAAAAEAAAAAAAAAAAEAAAAAAAAAAAAAAAAAAAAAAAAAAAAAAAAAAAAAAAAAAAAAAAAAAAAAAAAAAAAAAAAAAAAAAAAAAAAAAQAAAAAAAAAAAAAAAAAAAAAAAAAAAAAAAAAAAAAAAAAAAAAAAAAAAAAAAAAAAAAAAAAAAAAAAAAAAAAAAAAAAAAAAAAAAAAAAAAAAAAAAAAAAAAAAAAAAAAAAAAAAAAAAAABAQIBAAEBAQAAAQAAAAABAAAAAAAAAAAAAAAAAAAAAAAAAAAAAAAAAAAAAAAAAAAAAAAAAAAAAAAAAAAAAAAAAAAAAAAAAAAAAAAAAAAAAAAAAAAAAAAAAAAAAAAAAAAAAAAAAAAAAAAAAAAAAAA=",
           "dtype": "i1"
          },
          "coloraxis": "coloraxis",
          "size": 10,
          "symbol": "circle"
         },
         "mode": "markers",
         "name": "",
         "orientation": "v",
         "showlegend": false,
         "type": "scatter",
         "x": {
          "bdata": "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",
          "dtype": "f8"
         },
         "xaxis": "x",
         "y": {
          "bdata": "AAAAAAAAAAAAAAAAAAAAAAAAAAAAAAAAAAAAAAAAAAAAAAAAAAAAAAAAAAAAAAAAAAAAAAAAAAAAAAAAAAAAAAAAAAAAAAAAAAAAAAAAAAAAAAAAAAAAAAAAAAAAAAAAAAAAAAAAAAAAAAAAAAAAAAAAAAAAAAAAAAAAAAAAAAAAAAAAAAAAAAAAAAAAAAAAAAAAAAAAAAAAAAAAAAAAAAAAAAAAAAAAAAAAAAAAAAAAAAAAAAAAAAAAAAAAAAAAAAAAAAAAAAAAAAAAAAAAAAAAAAAAAAAAAAAAAAAAAAAAAAAAAAAAAAAAAAAAAAAAAAAAAAAAAAAAAAAAAAAAAAAAAAAAAAAAAAAAAAAAAAAAAAAAAAAAAAAAAAAAAAAAAAAAAAAAAAAAAAAAAAAAAAAAAAA=",
          "dtype": "i1"
         },
         "yaxis": "y"
        }
       ],
       "layout": {
        "coloraxis": {
         "colorbar": {
          "title": {
           "text": "num_pedidos_residencia"
          }
         },
         "colorscale": [
          [
           0,
           "#440154"
          ],
          [
           0.1111111111111111,
           "#482878"
          ],
          [
           0.2222222222222222,
           "#3e4989"
          ],
          [
           0.3333333333333333,
           "#31688e"
          ],
          [
           0.4444444444444444,
           "#26828e"
          ],
          [
           0.5555555555555556,
           "#1f9e89"
          ],
          [
           0.6666666666666666,
           "#35b779"
          ],
          [
           0.7777777777777778,
           "#6ece58"
          ],
          [
           0.8888888888888888,
           "#b5de2b"
          ],
          [
           1,
           "#fde725"
          ]
         ]
        },
        "height": 300,
        "legend": {
         "tracegroupgap": 0
        },
        "margin": {
         "t": 60
        },
        "template": {
         "data": {
          "bar": [
           {
            "error_x": {
             "color": "#2a3f5f"
            },
            "error_y": {
             "color": "#2a3f5f"
            },
            "marker": {
             "line": {
              "color": "#E5ECF6",
              "width": 0.5
             },
             "pattern": {
              "fillmode": "overlay",
              "size": 10,
              "solidity": 0.2
             }
            },
            "type": "bar"
           }
          ],
          "barpolar": [
           {
            "marker": {
             "line": {
              "color": "#E5ECF6",
              "width": 0.5
             },
             "pattern": {
              "fillmode": "overlay",
              "size": 10,
              "solidity": 0.2
             }
            },
            "type": "barpolar"
           }
          ],
          "carpet": [
           {
            "aaxis": {
             "endlinecolor": "#2a3f5f",
             "gridcolor": "white",
             "linecolor": "white",
             "minorgridcolor": "white",
             "startlinecolor": "#2a3f5f"
            },
            "baxis": {
             "endlinecolor": "#2a3f5f",
             "gridcolor": "white",
             "linecolor": "white",
             "minorgridcolor": "white",
             "startlinecolor": "#2a3f5f"
            },
            "type": "carpet"
           }
          ],
          "choropleth": [
           {
            "colorbar": {
             "outlinewidth": 0,
             "ticks": ""
            },
            "type": "choropleth"
           }
          ],
          "contour": [
           {
            "colorbar": {
             "outlinewidth": 0,
             "ticks": ""
            },
            "colorscale": [
             [
              0,
              "#0d0887"
             ],
             [
              0.1111111111111111,
              "#46039f"
             ],
             [
              0.2222222222222222,
              "#7201a8"
             ],
             [
              0.3333333333333333,
              "#9c179e"
             ],
             [
              0.4444444444444444,
              "#bd3786"
             ],
             [
              0.5555555555555556,
              "#d8576b"
             ],
             [
              0.6666666666666666,
              "#ed7953"
             ],
             [
              0.7777777777777778,
              "#fb9f3a"
             ],
             [
              0.8888888888888888,
              "#fdca26"
             ],
             [
              1,
              "#f0f921"
             ]
            ],
            "type": "contour"
           }
          ],
          "contourcarpet": [
           {
            "colorbar": {
             "outlinewidth": 0,
             "ticks": ""
            },
            "type": "contourcarpet"
           }
          ],
          "heatmap": [
           {
            "colorbar": {
             "outlinewidth": 0,
             "ticks": ""
            },
            "colorscale": [
             [
              0,
              "#0d0887"
             ],
             [
              0.1111111111111111,
              "#46039f"
             ],
             [
              0.2222222222222222,
              "#7201a8"
             ],
             [
              0.3333333333333333,
              "#9c179e"
             ],
             [
              0.4444444444444444,
              "#bd3786"
             ],
             [
              0.5555555555555556,
              "#d8576b"
             ],
             [
              0.6666666666666666,
              "#ed7953"
             ],
             [
              0.7777777777777778,
              "#fb9f3a"
             ],
             [
              0.8888888888888888,
              "#fdca26"
             ],
             [
              1,
              "#f0f921"
             ]
            ],
            "type": "heatmap"
           }
          ],
          "histogram": [
           {
            "marker": {
             "pattern": {
              "fillmode": "overlay",
              "size": 10,
              "solidity": 0.2
             }
            },
            "type": "histogram"
           }
          ],
          "histogram2d": [
           {
            "colorbar": {
             "outlinewidth": 0,
             "ticks": ""
            },
            "colorscale": [
             [
              0,
              "#0d0887"
             ],
             [
              0.1111111111111111,
              "#46039f"
             ],
             [
              0.2222222222222222,
              "#7201a8"
             ],
             [
              0.3333333333333333,
              "#9c179e"
             ],
             [
              0.4444444444444444,
              "#bd3786"
             ],
             [
              0.5555555555555556,
              "#d8576b"
             ],
             [
              0.6666666666666666,
              "#ed7953"
             ],
             [
              0.7777777777777778,
              "#fb9f3a"
             ],
             [
              0.8888888888888888,
              "#fdca26"
             ],
             [
              1,
              "#f0f921"
             ]
            ],
            "type": "histogram2d"
           }
          ],
          "histogram2dcontour": [
           {
            "colorbar": {
             "outlinewidth": 0,
             "ticks": ""
            },
            "colorscale": [
             [
              0,
              "#0d0887"
             ],
             [
              0.1111111111111111,
              "#46039f"
             ],
             [
              0.2222222222222222,
              "#7201a8"
             ],
             [
              0.3333333333333333,
              "#9c179e"
             ],
             [
              0.4444444444444444,
              "#bd3786"
             ],
             [
              0.5555555555555556,
              "#d8576b"
             ],
             [
              0.6666666666666666,
              "#ed7953"
             ],
             [
              0.7777777777777778,
              "#fb9f3a"
             ],
             [
              0.8888888888888888,
              "#fdca26"
             ],
             [
              1,
              "#f0f921"
             ]
            ],
            "type": "histogram2dcontour"
           }
          ],
          "mesh3d": [
           {
            "colorbar": {
             "outlinewidth": 0,
             "ticks": ""
            },
            "type": "mesh3d"
           }
          ],
          "parcoords": [
           {
            "line": {
             "colorbar": {
              "outlinewidth": 0,
              "ticks": ""
             }
            },
            "type": "parcoords"
           }
          ],
          "pie": [
           {
            "automargin": true,
            "type": "pie"
           }
          ],
          "scatter": [
           {
            "fillpattern": {
             "fillmode": "overlay",
             "size": 10,
             "solidity": 0.2
            },
            "type": "scatter"
           }
          ],
          "scatter3d": [
           {
            "line": {
             "colorbar": {
              "outlinewidth": 0,
              "ticks": ""
             }
            },
            "marker": {
             "colorbar": {
              "outlinewidth": 0,
              "ticks": ""
             }
            },
            "type": "scatter3d"
           }
          ],
          "scattercarpet": [
           {
            "marker": {
             "colorbar": {
              "outlinewidth": 0,
              "ticks": ""
             }
            },
            "type": "scattercarpet"
           }
          ],
          "scattergeo": [
           {
            "marker": {
             "colorbar": {
              "outlinewidth": 0,
              "ticks": ""
             }
            },
            "type": "scattergeo"
           }
          ],
          "scattergl": [
           {
            "marker": {
             "colorbar": {
              "outlinewidth": 0,
              "ticks": ""
             }
            },
            "type": "scattergl"
           }
          ],
          "scattermap": [
           {
            "marker": {
             "colorbar": {
              "outlinewidth": 0,
              "ticks": ""
             }
            },
            "type": "scattermap"
           }
          ],
          "scattermapbox": [
           {
            "marker": {
             "colorbar": {
              "outlinewidth": 0,
              "ticks": ""
             }
            },
            "type": "scattermapbox"
           }
          ],
          "scatterpolar": [
           {
            "marker": {
             "colorbar": {
              "outlinewidth": 0,
              "ticks": ""
             }
            },
            "type": "scatterpolar"
           }
          ],
          "scatterpolargl": [
           {
            "marker": {
             "colorbar": {
              "outlinewidth": 0,
              "ticks": ""
             }
            },
            "type": "scatterpolargl"
           }
          ],
          "scatterternary": [
           {
            "marker": {
             "colorbar": {
              "outlinewidth": 0,
              "ticks": ""
             }
            },
            "type": "scatterternary"
           }
          ],
          "surface": [
           {
            "colorbar": {
             "outlinewidth": 0,
             "ticks": ""
            },
            "colorscale": [
             [
              0,
              "#0d0887"
             ],
             [
              0.1111111111111111,
              "#46039f"
             ],
             [
              0.2222222222222222,
              "#7201a8"
             ],
             [
              0.3333333333333333,
              "#9c179e"
             ],
             [
              0.4444444444444444,
              "#bd3786"
             ],
             [
              0.5555555555555556,
              "#d8576b"
             ],
             [
              0.6666666666666666,
              "#ed7953"
             ],
             [
              0.7777777777777778,
              "#fb9f3a"
             ],
             [
              0.8888888888888888,
              "#fdca26"
             ],
             [
              1,
              "#f0f921"
             ]
            ],
            "type": "surface"
           }
          ],
          "table": [
           {
            "cells": {
             "fill": {
              "color": "#EBF0F8"
             },
             "line": {
              "color": "white"
             }
            },
            "header": {
             "fill": {
              "color": "#C8D4E3"
             },
             "line": {
              "color": "white"
             }
            },
            "type": "table"
           }
          ]
         },
         "layout": {
          "annotationdefaults": {
           "arrowcolor": "#2a3f5f",
           "arrowhead": 0,
           "arrowwidth": 1
          },
          "autotypenumbers": "strict",
          "coloraxis": {
           "colorbar": {
            "outlinewidth": 0,
            "ticks": ""
           }
          },
          "colorscale": {
           "diverging": [
            [
             0,
             "#8e0152"
            ],
            [
             0.1,
             "#c51b7d"
            ],
            [
             0.2,
             "#de77ae"
            ],
            [
             0.3,
             "#f1b6da"
            ],
            [
             0.4,
             "#fde0ef"
            ],
            [
             0.5,
             "#f7f7f7"
            ],
            [
             0.6,
             "#e6f5d0"
            ],
            [
             0.7,
             "#b8e186"
            ],
            [
             0.8,
             "#7fbc41"
            ],
            [
             0.9,
             "#4d9221"
            ],
            [
             1,
             "#276419"
            ]
           ],
           "sequential": [
            [
             0,
             "#0d0887"
            ],
            [
             0.1111111111111111,
             "#46039f"
            ],
            [
             0.2222222222222222,
             "#7201a8"
            ],
            [
             0.3333333333333333,
             "#9c179e"
            ],
            [
             0.4444444444444444,
             "#bd3786"
            ],
            [
             0.5555555555555556,
             "#d8576b"
            ],
            [
             0.6666666666666666,
             "#ed7953"
            ],
            [
             0.7777777777777778,
             "#fb9f3a"
            ],
            [
             0.8888888888888888,
             "#fdca26"
            ],
            [
             1,
             "#f0f921"
            ]
           ],
           "sequentialminus": [
            [
             0,
             "#0d0887"
            ],
            [
             0.1111111111111111,
             "#46039f"
            ],
            [
             0.2222222222222222,
             "#7201a8"
            ],
            [
             0.3333333333333333,
             "#9c179e"
            ],
            [
             0.4444444444444444,
             "#bd3786"
            ],
            [
             0.5555555555555556,
             "#d8576b"
            ],
            [
             0.6666666666666666,
             "#ed7953"
            ],
            [
             0.7777777777777778,
             "#fb9f3a"
            ],
            [
             0.8888888888888888,
             "#fdca26"
            ],
            [
             1,
             "#f0f921"
            ]
           ]
          },
          "colorway": [
           "#636efa",
           "#EF553B",
           "#00cc96",
           "#ab63fa",
           "#FFA15A",
           "#19d3f3",
           "#FF6692",
           "#B6E880",
           "#FF97FF",
           "#FECB52"
          ],
          "font": {
           "color": "#2a3f5f"
          },
          "geo": {
           "bgcolor": "white",
           "lakecolor": "white",
           "landcolor": "#E5ECF6",
           "showlakes": true,
           "showland": true,
           "subunitcolor": "white"
          },
          "hoverlabel": {
           "align": "left"
          },
          "hovermode": "closest",
          "mapbox": {
           "style": "light"
          },
          "paper_bgcolor": "white",
          "plot_bgcolor": "#E5ECF6",
          "polar": {
           "angularaxis": {
            "gridcolor": "white",
            "linecolor": "white",
            "ticks": ""
           },
           "bgcolor": "#E5ECF6",
           "radialaxis": {
            "gridcolor": "white",
            "linecolor": "white",
            "ticks": ""
           }
          },
          "scene": {
           "xaxis": {
            "backgroundcolor": "#E5ECF6",
            "gridcolor": "white",
            "gridwidth": 2,
            "linecolor": "white",
            "showbackground": true,
            "ticks": "",
            "zerolinecolor": "white"
           },
           "yaxis": {
            "backgroundcolor": "#E5ECF6",
            "gridcolor": "white",
            "gridwidth": 2,
            "linecolor": "white",
            "showbackground": true,
            "ticks": "",
            "zerolinecolor": "white"
           },
           "zaxis": {
            "backgroundcolor": "#E5ECF6",
            "gridcolor": "white",
            "gridwidth": 2,
            "linecolor": "white",
            "showbackground": true,
            "ticks": "",
            "zerolinecolor": "white"
           }
          },
          "shapedefaults": {
           "line": {
            "color": "#2a3f5f"
           }
          },
          "ternary": {
           "aaxis": {
            "gridcolor": "white",
            "linecolor": "white",
            "ticks": ""
           },
           "baxis": {
            "gridcolor": "white",
            "linecolor": "white",
            "ticks": ""
           },
           "bgcolor": "#E5ECF6",
           "caxis": {
            "gridcolor": "white",
            "linecolor": "white",
            "ticks": ""
           }
          },
          "title": {
           "x": 0.05
          },
          "xaxis": {
           "automargin": true,
           "gridcolor": "white",
           "linecolor": "white",
           "ticks": "",
           "title": {
            "standoff": 15
           },
           "zerolinecolor": "white",
           "zerolinewidth": 2
          },
          "yaxis": {
           "automargin": true,
           "gridcolor": "white",
           "linecolor": "white",
           "ticks": "",
           "title": {
            "standoff": 15
           },
           "zerolinecolor": "white",
           "zerolinewidth": 2
          }
         }
        },
        "xaxis": {
         "anchor": "y",
         "domain": [
          0,
          1
         ],
         "title": {
          "text": "Total"
         }
        },
        "yaxis": {
         "anchor": "x",
         "domain": [
          0,
          1
         ],
         "showgrid": false,
         "showticklabels": false,
         "title": {
          "text": "y"
         }
        }
       }
      }
     },
     "metadata": {},
     "output_type": "display_data"
    },
    {
     "name": "stdout",
     "output_type": "stream",
     "text": [
      "num_pedidos_residencia\n",
      "0    295\n",
      "1     12\n",
      "2      1\n",
      "Name: count, dtype: int64\n",
      "File saved to csv_files/5_Num_pedidos_residencia.csv\n"
     ]
    }
   ],
   "source": [
    "clustered_df = aplicar_kmeans(df_pedido_residencia, 3, nome_cluster='num_pedidos_residencia')\n",
    "save_clustered_df_to_csv(clustered_df, \"csv_files/\", \"5_Num_pedidos_residencia.csv\")"
   ]
  },
  {
   "cell_type": "markdown",
   "id": "ffd770f6",
   "metadata": {},
   "source": [
    "### Análise Saldo Migratório"
   ]
  },
  {
   "cell_type": "code",
   "execution_count": 11,
   "id": "294cac42",
   "metadata": {},
   "outputs": [
    {
     "name": "stdout",
     "output_type": "stream",
     "text": [
      "File saved to csv_bruto/5_Saldo_Migratorio.csv\n"
     ]
    },
    {
     "data": {
      "text/html": [
       "<div>\n",
       "<style scoped>\n",
       "    .dataframe tbody tr th:only-of-type {\n",
       "        vertical-align: middle;\n",
       "    }\n",
       "\n",
       "    .dataframe tbody tr th {\n",
       "        vertical-align: top;\n",
       "    }\n",
       "\n",
       "    .dataframe thead th {\n",
       "        text-align: right;\n",
       "    }\n",
       "</style>\n",
       "<table border=\"1\" class=\"dataframe\">\n",
       "  <thead>\n",
       "    <tr style=\"text-align: right;\">\n",
       "      <th></th>\n",
       "      <th>local</th>\n",
       "      <th>codigo</th>\n",
       "      <th>Saldo migratório</th>\n",
       "    </tr>\n",
       "  </thead>\n",
       "  <tbody>\n",
       "    <tr>\n",
       "      <th>4</th>\n",
       "      <td>Arcos de Valdevez</td>\n",
       "      <td>1111601</td>\n",
       "      <td>403.0</td>\n",
       "    </tr>\n",
       "    <tr>\n",
       "      <th>5</th>\n",
       "      <td>Caminha</td>\n",
       "      <td>1111602</td>\n",
       "      <td>332.0</td>\n",
       "    </tr>\n",
       "    <tr>\n",
       "      <th>6</th>\n",
       "      <td>Melgaço</td>\n",
       "      <td>1111603</td>\n",
       "      <td>134.0</td>\n",
       "    </tr>\n",
       "    <tr>\n",
       "      <th>7</th>\n",
       "      <td>Monção</td>\n",
       "      <td>1111604</td>\n",
       "      <td>310.0</td>\n",
       "    </tr>\n",
       "    <tr>\n",
       "      <th>8</th>\n",
       "      <td>Paredes de Coura</td>\n",
       "      <td>1111605</td>\n",
       "      <td>115.0</td>\n",
       "    </tr>\n",
       "    <tr>\n",
       "      <th>...</th>\n",
       "      <td>...</td>\n",
       "      <td>...</td>\n",
       "      <td>...</td>\n",
       "    </tr>\n",
       "    <tr>\n",
       "      <th>342</th>\n",
       "      <td>Ribeira Brava</td>\n",
       "      <td>3003107</td>\n",
       "      <td>292.0</td>\n",
       "    </tr>\n",
       "    <tr>\n",
       "      <th>343</th>\n",
       "      <td>Santa Cruz</td>\n",
       "      <td>3003108</td>\n",
       "      <td>685.0</td>\n",
       "    </tr>\n",
       "    <tr>\n",
       "      <th>344</th>\n",
       "      <td>Santana</td>\n",
       "      <td>3003109</td>\n",
       "      <td>82.0</td>\n",
       "    </tr>\n",
       "    <tr>\n",
       "      <th>345</th>\n",
       "      <td>São Vicente</td>\n",
       "      <td>3003110</td>\n",
       "      <td>152.0</td>\n",
       "    </tr>\n",
       "    <tr>\n",
       "      <th>346</th>\n",
       "      <td>Porto Santo</td>\n",
       "      <td>3003201</td>\n",
       "      <td>221.0</td>\n",
       "    </tr>\n",
       "  </tbody>\n",
       "</table>\n",
       "<p>308 rows × 3 columns</p>\n",
       "</div>"
      ],
      "text/plain": [
       "                 local   codigo  Saldo migratório\n",
       "4    Arcos de Valdevez  1111601             403.0\n",
       "5              Caminha  1111602             332.0\n",
       "6              Melgaço  1111603             134.0\n",
       "7               Monção  1111604             310.0\n",
       "8     Paredes de Coura  1111605             115.0\n",
       "..                 ...      ...               ...\n",
       "342      Ribeira Brava  3003107             292.0\n",
       "343         Santa Cruz  3003108             685.0\n",
       "344            Santana  3003109              82.0\n",
       "345        São Vicente  3003110             152.0\n",
       "346        Porto Santo  3003201             221.0\n",
       "\n",
       "[308 rows x 3 columns]"
      ]
     },
     "execution_count": 11,
     "metadata": {},
     "output_type": "execute_result"
    }
   ],
   "source": [
    "df_saldo_migratorio = processar_ficheiro(data_path+'Saldo migratório.xls', 0)\n",
    "df_saldo_migratorio = carregar_municipios(df_saldo_migratorio)\n",
    "save_clustered_df_to_csv(df_saldo_migratorio, \"csv_bruto/\", \"5_Saldo_Migratorio.csv\")\n",
    "df_saldo_migratorio"
   ]
  },
  {
   "cell_type": "code",
   "execution_count": 12,
   "id": "48263526",
   "metadata": {},
   "outputs": [
    {
     "data": {
      "application/vnd.plotly.v1+json": {
       "config": {
        "plotlyServerURL": "https://plot.ly"
       },
       "data": [
        {
         "customdata": [
          [
           "Arcos de Valdevez",
           "1111601",
           403
          ],
          [
           "Caminha",
           "1111602",
           332
          ],
          [
           "Melgaço",
           "1111603",
           134
          ],
          [
           "Monção",
           "1111604",
           310
          ],
          [
           "Paredes de Coura",
           "1111605",
           115
          ],
          [
           "Ponte da Barca",
           "1111606",
           161
          ],
          [
           "Ponte de Lima",
           "1111607",
           276
          ],
          [
           "Valença",
           "1111608",
           295
          ],
          [
           "Viana do Castelo",
           "1111609",
           822
          ],
          [
           "Vila Nova de Cerveira",
           "1111610",
           194
          ],
          [
           "Amares",
           "1120301",
           388
          ],
          [
           "Barcelos",
           "1120302",
           446
          ],
          [
           "Braga",
           "1120303",
           3098
          ],
          [
           "Esposende",
           "1120306",
           677
          ],
          [
           "Terras de Bouro",
           "1120310",
           84
          ],
          [
           "Vila Verde",
           "1120313",
           741
          ],
          [
           "Cabeceiras de Basto",
           "1190304",
           149
          ],
          [
           "Fafe",
           "1190307",
           285
          ],
          [
           "Guimarães",
           "1190308",
           509
          ],
          [
           "Mondim de Basto",
           "1191705",
           55
          ],
          [
           "Póvoa de Lanhoso",
           "1190309",
           418
          ],
          [
           "Vieira do Minho",
           "1190311",
           168
          ],
          [
           "Vila Nova de Famalicão",
           "1190312",
           1088
          ],
          [
           "Vizela",
           "1190314",
           186
          ],
          [
           "Arouca",
           "11A0104",
           37
          ],
          [
           "Espinho",
           "11A0107",
           689
          ],
          [
           "Gondomar",
           "11A1304",
           1668
          ],
          [
           "Maia",
           "11A1306",
           2463
          ],
          [
           "Matosinhos",
           "11A1308",
           2861
          ],
          [
           "Oliveira de Azeméis",
           "11A0113",
           629
          ],
          [
           "Paredes",
           "11A1310",
           586
          ],
          [
           "Porto",
           "11A1312",
           6748
          ],
          [
           "Póvoa de Varzim",
           "11A1313",
           1439
          ],
          [
           "Santa Maria da Feira",
           "11A0109",
           1498
          ],
          [
           "Santo Tirso",
           "11A1314",
           437
          ],
          [
           "São João da Madeira",
           "11A0116",
           563
          ],
          [
           "Trofa",
           "11A1318",
           457
          ],
          [
           "Vale de Cambra",
           "11A0119",
           137
          ],
          [
           "Valongo",
           "11A1315",
           1817
          ],
          [
           "Vila do Conde",
           "11A1316",
           1479
          ],
          [
           "Vila Nova de Gaia",
           "11A1317",
           3228
          ],
          [
           "Boticas",
           "11B1702",
           50
          ],
          [
           "Chaves",
           "11B1703",
           457
          ],
          [
           "Montalegre",
           "11B1706",
           155
          ],
          [
           "Ribeira de Pena",
           "11B1709",
           81
          ],
          [
           "Valpaços",
           "11B1712",
           248
          ],
          [
           "Vila Pouca de Aguiar",
           "11B1713",
           174
          ],
          [
           "Amarante",
           "11C1301",
           359
          ],
          [
           "Baião",
           "11C1302",
           61
          ],
          [
           "Castelo de Paiva",
           "11C0106",
           102
          ],
          [
           "Celorico de Basto",
           "11C0305",
           188
          ],
          [
           "Cinfães",
           "11C1804",
           46
          ],
          [
           "Felgueiras",
           "11C1303",
           0
          ],
          [
           "Lousada",
           "11C1305",
           396
          ],
          [
           "Marco de Canaveses",
           "11C1307",
           196
          ],
          [
           "Paços de Ferreira",
           "11C1309",
           106
          ],
          [
           "Penafiel",
           "11C1311",
           467
          ],
          [
           "Resende",
           "11C1813",
           -17
          ],
          [
           "Alijó",
           "11D1701",
           87
          ],
          [
           "Armamar",
           "11D1801",
           37
          ],
          [
           "Carrazeda de Ansiães",
           "11D0403",
           68
          ],
          [
           "Freixo de Espada à Cinta",
           "11D0404",
           18
          ],
          [
           "Lamego",
           "11D1805",
           145
          ],
          [
           "Mesão Frio",
           "11D1704",
           12
          ],
          [
           "Moimenta da Beira",
           "11D1807",
           184
          ],
          [
           "Murça",
           "11D1707",
           93
          ],
          [
           "Penedono",
           "11D1812",
           37
          ],
          [
           "Peso da Régua",
           "11D1708",
           62
          ],
          [
           "Sabrosa",
           "11D1710",
           80
          ],
          [
           "Santa Marta de Penaguião",
           "11D1711",
           59
          ],
          [
           "São João da Pesqueira",
           "11D1815",
           45
          ],
          [
           "Sernancelhe",
           "11D1818",
           128
          ],
          [
           "Tabuaço",
           "11D1819",
           48
          ],
          [
           "Tarouca",
           "11D1820",
           180
          ],
          [
           "Torre de Moncorvo",
           "11D0409",
           72
          ],
          [
           "Vila Nova de Foz Côa",
           "11D0914",
           123
          ],
          [
           "Vila Real",
           "11D1714",
           503
          ],
          [
           "Alfândega da Fé",
           "11E0401",
           32
          ],
          [
           "Bragança",
           "11E0402",
           618
          ],
          [
           "Macedo de Cavaleiros",
           "11E0405",
           234
          ],
          [
           "Miranda do Douro",
           "11E0406",
           28
          ],
          [
           "Mirandela",
           "11E0407",
           261
          ],
          [
           "Mogadouro",
           "11E0408",
           62
          ],
          [
           "Vila Flor",
           "11E0410",
           81
          ],
          [
           "Vimioso",
           "11E0411",
           94
          ],
          [
           "Vinhais",
           "11E0412",
           70
          ],
          [
           "Águeda",
           "1910101",
           785
          ],
          [
           "Albergaria-a-Velha",
           "1910102",
           521
          ],
          [
           "Anadia",
           "1910103",
           540
          ],
          [
           "Aveiro",
           "1910105",
           2394
          ],
          [
           "Estarreja",
           "1910108",
           550
          ],
          [
           "Ílhavo",
           "1910110",
           1294
          ],
          [
           "Murtosa",
           "1910112",
           358
          ],
          [
           "Oliveira do Bairro",
           "1910114",
           864
          ],
          [
           "Ovar",
           "1910115",
           934
          ],
          [
           "Sever do Vouga",
           "1910117",
           125
          ],
          [
           "Vagos",
           "1910118",
           803
          ],
          [
           "Arganil",
           "1920601",
           311
          ],
          [
           "Cantanhede",
           "1920602",
           741
          ],
          [
           "Coimbra",
           "1920603",
           2483
          ],
          [
           "Condeixa-a-Nova",
           "1920604",
           401
          ],
          [
           "Figueira da Foz",
           "1920605",
           1280
          ],
          [
           "Góis",
           "1920606",
           84
          ],
          [
           "Lousã",
           "1920607",
           260
          ],
          [
           "Mealhada",
           "1920111",
           287
          ],
          [
           "Mira",
           "1920608",
           327
          ],
          [
           "Miranda do Corvo",
           "1920609",
           218
          ],
          [
           "Montemor-o-Velho",
           "1920610",
           321
          ],
          [
           "Mortágua",
           "1921808",
           192
          ],
          [
           "Oliveira do Hospital",
           "1920611",
           267
          ],
          [
           "Pampilhosa da Serra",
           "1920612",
           129
          ],
          [
           "Penacova",
           "1920613",
           139
          ],
          [
           "Penela",
           "1920614",
           140
          ],
          [
           "Soure",
           "1920615",
           259
          ],
          [
           "Tábua",
           "1920616",
           268
          ],
          [
           "Vila Nova de Poiares",
           "1920617",
           128
          ],
          [
           "Alvaiázere",
           "1931002",
           157
          ],
          [
           "Ansião",
           "1931003",
           252
          ],
          [
           "Batalha",
           "1931004",
           399
          ],
          [
           "Castanheira de Pêra",
           "1931007",
           64
          ],
          [
           "Figueiró dos Vinhos",
           "1931008",
           120
          ],
          [
           "Leiria",
           "1931009",
           2501
          ],
          [
           "Marinha Grande",
           "1931010",
           956
          ],
          [
           "Pedrógão Grande",
           "1931013",
           143
          ],
          [
           "Pombal",
           "1931015",
           970
          ],
          [
           "Porto de Mós",
           "1931016",
           429
          ],
          [
           "Aguiar da Beira",
           "1940901",
           132
          ],
          [
           "Carregal do Sal",
           "1941802",
           181
          ],
          [
           "Castro Daire",
           "1941803",
           254
          ],
          [
           "Mangualde",
           "1941806",
           360
          ],
          [
           "Nelas",
           "1941809",
           274
          ],
          [
           "Oliveira de Frades",
           "1941810",
           189
          ],
          [
           "Penalva do Castelo",
           "1941811",
           150
          ],
          [
           "Santa Comba Dão",
           "1941814",
           220
          ],
          [
           "São Pedro do Sul",
           "1941816",
           300
          ],
          [
           "Sátão",
           "1941817",
           206
          ],
          [
           "Tondela",
           "1941821",
           413
          ],
          [
           "Vila Nova de Paiva",
           "1941822",
           121
          ],
          [
           "Viseu",
           "1941823",
           1882
          ],
          [
           "Vouzela",
           "1941824",
           186
          ],
          [
           "Castelo Branco",
           "1950502",
           872
          ],
          [
           "Idanha-a-Nova",
           "1950505",
           240
          ],
          [
           "Oleiros",
           "1950506",
           105
          ],
          [
           "Penamacor",
           "1950507",
           130
          ],
          [
           "Proença-a-Nova",
           "1950508",
           89
          ],
          [
           "Sertã",
           "1950509",
           197
          ],
          [
           "Vila de Rei",
           "1950510",
           98
          ],
          [
           "Vila Velha de Ródão",
           "1950511",
           107
          ],
          [
           "Almeida",
           "1960902",
           83
          ],
          [
           "Belmonte",
           "1960501",
           120
          ],
          [
           "Celorico da Beira",
           "1960903",
           132
          ],
          [
           "Covilhã",
           "1960503",
           635
          ],
          [
           "Figueira de Castelo Rodrigo",
           "1960904",
           53
          ],
          [
           "Fornos de Algodres",
           "1960905",
           74
          ],
          [
           "Fundão",
           "1960504",
           572
          ],
          [
           "Gouveia",
           "1960906",
           281
          ],
          [
           "Guarda",
           "1960907",
           390
          ],
          [
           "Manteigas",
           "1960908",
           43
          ],
          [
           "Mêda",
           "1960909",
           65
          ],
          [
           "Pinhel",
           "1960910",
           70
          ],
          [
           "Sabugal",
           "1960911",
           314
          ],
          [
           "Seia",
           "1960912",
           233
          ],
          [
           "Trancoso",
           "1960913",
           121
          ],
          [
           "Alcobaça",
           "1D11001",
           1242
          ],
          [
           "Alenquer",
           "1D11101",
           1489
          ],
          [
           "Arruda dos Vinhos",
           "1D11102",
           442
          ],
          [
           "Bombarral",
           "1D11005",
           517
          ],
          [
           "Cadaval",
           "1D11104",
           477
          ],
          [
           "Caldas da Rainha",
           "1D11006",
           1651
          ],
          [
           "Lourinhã",
           "1D11108",
           834
          ],
          [
           "Nazaré",
           "1D11011",
           379
          ],
          [
           "Óbidos",
           "1D11012",
           528
          ],
          [
           "Peniche",
           "1D11014",
           557
          ],
          [
           "Sobral de Monte Agraço",
           "1D11112",
           427
          ],
          [
           "Torres Vedras",
           "1D11113",
           2164
          ],
          [
           "Abrantes",
           "1D21401",
           359
          ],
          [
           "Alcanena",
           "1D21402",
           230
          ],
          [
           "Constância",
           "1D21408",
           101
          ],
          [
           "Entroncamento",
           "1D21410",
           667
          ],
          [
           "Ferreira do Zêzere",
           "1D21411",
           222
          ],
          [
           "Mação",
           "1D21413",
           128
          ],
          [
           "Ourém",
           "1D21421",
           1106
          ],
          [
           "Sardoal",
           "1D21417",
           97
          ],
          [
           "Tomar",
           "1D21418",
           797
          ],
          [
           "Torres Novas",
           "1D21419",
           633
          ],
          [
           "Vila Nova da Barquinha",
           "1D21420",
           319
          ],
          [
           "Almeirim",
           "1D31403",
           396
          ],
          [
           "Alpiarça",
           "1D31404",
           184
          ],
          [
           "Azambuja",
           "1D31103",
           648
          ],
          [
           "Benavente",
           "1D31405",
           757
          ],
          [
           "Cartaxo",
           "1D31406",
           503
          ],
          [
           "Chamusca",
           "1D31407",
           71
          ],
          [
           "Coruche",
           "1D31409",
           223
          ],
          [
           "Golegã",
           "1D31412",
           77
          ],
          [
           "Rio Maior",
           "1D31414",
           400
          ],
          [
           "Salvaterra de Magos",
           "1D31415",
           593
          ],
          [
           "Santarém",
           "1D31416",
           941
          ],
          [
           "Amadora",
           "1A01115",
           2849
          ],
          [
           "Cascais",
           "1A01105",
           2962
          ],
          [
           "Lisboa",
           "1A01106",
           10480
          ],
          [
           "Loures",
           "1A01107",
           2391
          ],
          [
           "Mafra",
           "1A01109",
           813
          ],
          [
           "Odivelas",
           "1A01116",
           2102
          ],
          [
           "Oeiras",
           "1A01110",
           2140
          ],
          [
           "Sintra",
           "1A01111",
           3779
          ],
          [
           "Vila Franca de Xira",
           "1A01114",
           863
          ],
          [
           "Alcochete",
           "1B01502",
           306
          ],
          [
           "Almada",
           "1B01503",
           2146
          ],
          [
           "Barreiro",
           "1B01504",
           1192
          ],
          [
           "Moita",
           "1B01506",
           1139
          ],
          [
           "Montijo",
           "1B01507",
           1133
          ],
          [
           "Palmela",
           "1B01508",
           1503
          ],
          [
           "Seixal",
           "1B01510",
           2760
          ],
          [
           "Sesimbra",
           "1B01511",
           983
          ],
          [
           "Setúbal",
           "1B01512",
           626
          ],
          [
           "Alcácer do Sal",
           "1C11501",
           109
          ],
          [
           "Grândola",
           "1C11505",
           264
          ],
          [
           "Odemira",
           "1C10211",
           1279
          ],
          [
           "Santiago do Cacém",
           "1C11509",
           332
          ],
          [
           "Sines",
           "1C11513",
           176
          ],
          [
           "Aljustrel",
           "1C20201",
           101
          ],
          [
           "Almodôvar",
           "1C20202",
           75
          ],
          [
           "Alvito",
           "1C20203",
           46
          ],
          [
           "Barrancos",
           "1C20204",
           -5
          ],
          [
           "Beja",
           "1C20205",
           384
          ],
          [
           "Castro Verde",
           "1C20206",
           96
          ],
          [
           "Cuba",
           "1C20207",
           90
          ],
          [
           "Ferreira do Alentejo",
           "1C20208",
           131
          ],
          [
           "Mértola",
           "1C20209",
           57
          ],
          [
           "Moura",
           "1C20210",
           75
          ],
          [
           "Ourique",
           "1C20212",
           79
          ],
          [
           "Serpa",
           "1C20213",
           154
          ],
          [
           "Vidigueira",
           "1C20214",
           83
          ],
          [
           "Alter do Chão",
           "1C31201",
           61
          ],
          [
           "Arronches",
           "1C31202",
           29
          ],
          [
           "Avis",
           "1C31203",
           63
          ],
          [
           "Campo Maior",
           "1C31204",
           22
          ],
          [
           "Castelo de Vide",
           "1C31205",
           30
          ],
          [
           "Crato",
           "1C31206",
           80
          ],
          [
           "Elvas",
           "1C31207",
           88
          ],
          [
           "Fronteira",
           "1C31208",
           76
          ],
          [
           "Gavião",
           "1C31209",
           49
          ],
          [
           "Marvão",
           "1C31210",
           30
          ],
          [
           "Monforte",
           "1C31211",
           52
          ],
          [
           "Nisa",
           "1C31212",
           67
          ],
          [
           "Ponte de Sor",
           "1C31213",
           137
          ],
          [
           "Portalegre",
           "1C31214",
           47
          ],
          [
           "Sousel",
           "1C31215",
           72
          ],
          [
           "Alandroal",
           "1C40701",
           52
          ],
          [
           "Arraiolos",
           "1C40702",
           129
          ],
          [
           "Borba",
           "1C40703",
           50
          ],
          [
           "Estremoz",
           "1C40704",
           55
          ],
          [
           "Évora",
           "1C40705",
           312
          ],
          [
           "Montemor-o-Novo",
           "1C40706",
           223
          ],
          [
           "Mora",
           "1C40707",
           58
          ],
          [
           "Mourão",
           "1C40708",
           35
          ],
          [
           "Portel",
           "1C40709",
           60
          ],
          [
           "Redondo",
           "1C40710",
           73
          ],
          [
           "Reguengos de Monsaraz",
           "1C40711",
           99
          ],
          [
           "Vendas Novas",
           "1C40712",
           165
          ],
          [
           "Viana do Alentejo",
           "1C40713",
           86
          ],
          [
           "Vila Viçosa",
           "1C40714",
           34
          ],
          [
           "Albufeira",
           "1500801",
           877
          ],
          [
           "Alcoutim",
           "1500802",
           11
          ],
          [
           "Aljezur",
           "1500803",
           130
          ],
          [
           "Castro Marim",
           "1500804",
           173
          ],
          [
           "Faro",
           "1500805",
           660
          ],
          [
           "Lagoa",
           "1500806",
           463
          ],
          [
           "Lagos",
           "1500807",
           525
          ],
          [
           "Loulé",
           "1500808",
           956
          ],
          [
           "Monchique",
           "1500809",
           33
          ],
          [
           "Olhão",
           "1500810",
           382
          ],
          [
           "Portimão",
           "1500811",
           999
          ],
          [
           "São Brás de Alportel",
           "1500812",
           160
          ],
          [
           "Silves",
           "1500813",
           730
          ],
          [
           "Tavira",
           "1500814",
           378
          ],
          [
           "Vila do Bispo",
           "1500815",
           88
          ],
          [
           "Vila Real de Santo António",
           "1500816",
           245
          ],
          [
           "Angra do Heroísmo",
           "2004301",
           10
          ],
          [
           "Calheta (R.A.A.)",
           "2004501",
           9
          ],
          [
           "Corvo",
           "2004901",
           5
          ],
          [
           "Horta",
           "2004701",
           74
          ],
          [
           "Lagoa (R.A.A.)",
           "2004201",
           175
          ],
          [
           "Lajes das Flores",
           "2004801",
           23
          ],
          [
           "Lajes do Pico",
           "2004601",
           58
          ],
          [
           "Madalena",
           "2004602",
           57
          ],
          [
           "Nordeste",
           "2004202",
           14
          ],
          [
           "Ponta Delgada",
           "2004203",
           386
          ],
          [
           "Povoação",
           "2004204",
           4
          ],
          [
           "Ribeira Grande",
           "2004205",
           125
          ],
          [
           "Santa Cruz da Graciosa",
           "2004401",
           1
          ],
          [
           "Santa Cruz das Flores",
           "2004802",
           46
          ],
          [
           "São Roque do Pico",
           "2004603",
           66
          ],
          [
           "Velas",
           "2004502",
           31
          ],
          [
           "Vila da Praia da Vitória",
           "2004302",
           139
          ],
          [
           "Vila do Porto",
           "2004101",
           16
          ],
          [
           "Vila Franca do Campo",
           "2004206",
           -12
          ],
          [
           "Calheta (R.A.M.)",
           "3003101",
           279
          ],
          [
           "Câmara de Lobos",
           "3003102",
           363
          ],
          [
           "Funchal",
           "3003103",
           1090
          ],
          [
           "Machico",
           "3003104",
           144
          ],
          [
           "Ponta do Sol",
           "3003105",
           213
          ],
          [
           "Porto Moniz",
           "3003106",
           71
          ],
          [
           "Ribeira Brava",
           "3003107",
           292
          ],
          [
           "Santa Cruz",
           "3003108",
           685
          ],
          [
           "Santana",
           "3003109",
           82
          ],
          [
           "São Vicente",
           "3003110",
           152
          ],
          [
           "Porto Santo",
           "3003201",
           221
          ]
         ],
         "hovertemplate": "valor=%{x}<br>y=%{y}<br>local=%{customdata[0]}<br>codigo=%{customdata[1]}<br>Saldo migratório=%{customdata[2]}<br>saldo_migratorio=%{marker.color}<extra></extra>",
         "legendgroup": "",
         "marker": {
          "color": {
           "bdata": "AAAAAAAAAAAAAAAAAQAAAAAAAAAAAAAAAAABAQEAAAIBAQAAAAABAQEAAAAAAAAAAAAAAAAAAAAAAAAAAAAAAAAAAAAAAAAAAAAAAAAAAAAAAAAAAAAAAAABAAEAAAAAAAAAAQABAAAAAAAAAAAAAAAAAAAAAAAAAAEAAAAAAAAAAAAAAAAAAAAAAQAAAAAAAAAAAAAAAAAAAAAAAAAAAAAAAAEBAAAAAQAAAAAAAQAAAAAAAAAAAAAAAAAAAAAAAAAAAAABAQIBAAEBAQAAAQAAAAEBAAAAAAEAAAAAAAAAAAAAAAAAAAAAAAAAAAAAAAAAAAAAAAAAAAAAAAAAAAAAAAAAAAAAAAAAAAAAAAAAAAAAAAAAAAAAAAAAAAAAAAAAAAAAAAAAAAAAAAAAAAAAAAA=",
           "dtype": "i1"
          },
          "coloraxis": "coloraxis",
          "size": 10,
          "symbol": "circle"
         },
         "mode": "markers",
         "name": "",
         "orientation": "v",
         "showlegend": false,
         "type": "scatter",
         "x": {
          "bdata": "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",
          "dtype": "f8"
         },
         "xaxis": "x",
         "y": {
          "bdata": "AAAAAAAAAAAAAAAAAAAAAAAAAAAAAAAAAAAAAAAAAAAAAAAAAAAAAAAAAAAAAAAAAAAAAAAAAAAAAAAAAAAAAAAAAAAAAAAAAAAAAAAAAAAAAAAAAAAAAAAAAAAAAAAAAAAAAAAAAAAAAAAAAAAAAAAAAAAAAAAAAAAAAAAAAAAAAAAAAAAAAAAAAAAAAAAAAAAAAAAAAAAAAAAAAAAAAAAAAAAAAAAAAAAAAAAAAAAAAAAAAAAAAAAAAAAAAAAAAAAAAAAAAAAAAAAAAAAAAAAAAAAAAAAAAAAAAAAAAAAAAAAAAAAAAAAAAAAAAAAAAAAAAAAAAAAAAAAAAAAAAAAAAAAAAAAAAAAAAAAAAAAAAAAAAAAAAAAAAAAAAAAAAAAAAAAAAAAAAAAAAAAAAAAAAAA=",
          "dtype": "i1"
         },
         "yaxis": "y"
        }
       ],
       "layout": {
        "coloraxis": {
         "colorbar": {
          "title": {
           "text": "saldo_migratorio"
          }
         },
         "colorscale": [
          [
           0,
           "#440154"
          ],
          [
           0.1111111111111111,
           "#482878"
          ],
          [
           0.2222222222222222,
           "#3e4989"
          ],
          [
           0.3333333333333333,
           "#31688e"
          ],
          [
           0.4444444444444444,
           "#26828e"
          ],
          [
           0.5555555555555556,
           "#1f9e89"
          ],
          [
           0.6666666666666666,
           "#35b779"
          ],
          [
           0.7777777777777778,
           "#6ece58"
          ],
          [
           0.8888888888888888,
           "#b5de2b"
          ],
          [
           1,
           "#fde725"
          ]
         ]
        },
        "height": 300,
        "legend": {
         "tracegroupgap": 0
        },
        "margin": {
         "t": 60
        },
        "template": {
         "data": {
          "bar": [
           {
            "error_x": {
             "color": "#2a3f5f"
            },
            "error_y": {
             "color": "#2a3f5f"
            },
            "marker": {
             "line": {
              "color": "#E5ECF6",
              "width": 0.5
             },
             "pattern": {
              "fillmode": "overlay",
              "size": 10,
              "solidity": 0.2
             }
            },
            "type": "bar"
           }
          ],
          "barpolar": [
           {
            "marker": {
             "line": {
              "color": "#E5ECF6",
              "width": 0.5
             },
             "pattern": {
              "fillmode": "overlay",
              "size": 10,
              "solidity": 0.2
             }
            },
            "type": "barpolar"
           }
          ],
          "carpet": [
           {
            "aaxis": {
             "endlinecolor": "#2a3f5f",
             "gridcolor": "white",
             "linecolor": "white",
             "minorgridcolor": "white",
             "startlinecolor": "#2a3f5f"
            },
            "baxis": {
             "endlinecolor": "#2a3f5f",
             "gridcolor": "white",
             "linecolor": "white",
             "minorgridcolor": "white",
             "startlinecolor": "#2a3f5f"
            },
            "type": "carpet"
           }
          ],
          "choropleth": [
           {
            "colorbar": {
             "outlinewidth": 0,
             "ticks": ""
            },
            "type": "choropleth"
           }
          ],
          "contour": [
           {
            "colorbar": {
             "outlinewidth": 0,
             "ticks": ""
            },
            "colorscale": [
             [
              0,
              "#0d0887"
             ],
             [
              0.1111111111111111,
              "#46039f"
             ],
             [
              0.2222222222222222,
              "#7201a8"
             ],
             [
              0.3333333333333333,
              "#9c179e"
             ],
             [
              0.4444444444444444,
              "#bd3786"
             ],
             [
              0.5555555555555556,
              "#d8576b"
             ],
             [
              0.6666666666666666,
              "#ed7953"
             ],
             [
              0.7777777777777778,
              "#fb9f3a"
             ],
             [
              0.8888888888888888,
              "#fdca26"
             ],
             [
              1,
              "#f0f921"
             ]
            ],
            "type": "contour"
           }
          ],
          "contourcarpet": [
           {
            "colorbar": {
             "outlinewidth": 0,
             "ticks": ""
            },
            "type": "contourcarpet"
           }
          ],
          "heatmap": [
           {
            "colorbar": {
             "outlinewidth": 0,
             "ticks": ""
            },
            "colorscale": [
             [
              0,
              "#0d0887"
             ],
             [
              0.1111111111111111,
              "#46039f"
             ],
             [
              0.2222222222222222,
              "#7201a8"
             ],
             [
              0.3333333333333333,
              "#9c179e"
             ],
             [
              0.4444444444444444,
              "#bd3786"
             ],
             [
              0.5555555555555556,
              "#d8576b"
             ],
             [
              0.6666666666666666,
              "#ed7953"
             ],
             [
              0.7777777777777778,
              "#fb9f3a"
             ],
             [
              0.8888888888888888,
              "#fdca26"
             ],
             [
              1,
              "#f0f921"
             ]
            ],
            "type": "heatmap"
           }
          ],
          "histogram": [
           {
            "marker": {
             "pattern": {
              "fillmode": "overlay",
              "size": 10,
              "solidity": 0.2
             }
            },
            "type": "histogram"
           }
          ],
          "histogram2d": [
           {
            "colorbar": {
             "outlinewidth": 0,
             "ticks": ""
            },
            "colorscale": [
             [
              0,
              "#0d0887"
             ],
             [
              0.1111111111111111,
              "#46039f"
             ],
             [
              0.2222222222222222,
              "#7201a8"
             ],
             [
              0.3333333333333333,
              "#9c179e"
             ],
             [
              0.4444444444444444,
              "#bd3786"
             ],
             [
              0.5555555555555556,
              "#d8576b"
             ],
             [
              0.6666666666666666,
              "#ed7953"
             ],
             [
              0.7777777777777778,
              "#fb9f3a"
             ],
             [
              0.8888888888888888,
              "#fdca26"
             ],
             [
              1,
              "#f0f921"
             ]
            ],
            "type": "histogram2d"
           }
          ],
          "histogram2dcontour": [
           {
            "colorbar": {
             "outlinewidth": 0,
             "ticks": ""
            },
            "colorscale": [
             [
              0,
              "#0d0887"
             ],
             [
              0.1111111111111111,
              "#46039f"
             ],
             [
              0.2222222222222222,
              "#7201a8"
             ],
             [
              0.3333333333333333,
              "#9c179e"
             ],
             [
              0.4444444444444444,
              "#bd3786"
             ],
             [
              0.5555555555555556,
              "#d8576b"
             ],
             [
              0.6666666666666666,
              "#ed7953"
             ],
             [
              0.7777777777777778,
              "#fb9f3a"
             ],
             [
              0.8888888888888888,
              "#fdca26"
             ],
             [
              1,
              "#f0f921"
             ]
            ],
            "type": "histogram2dcontour"
           }
          ],
          "mesh3d": [
           {
            "colorbar": {
             "outlinewidth": 0,
             "ticks": ""
            },
            "type": "mesh3d"
           }
          ],
          "parcoords": [
           {
            "line": {
             "colorbar": {
              "outlinewidth": 0,
              "ticks": ""
             }
            },
            "type": "parcoords"
           }
          ],
          "pie": [
           {
            "automargin": true,
            "type": "pie"
           }
          ],
          "scatter": [
           {
            "fillpattern": {
             "fillmode": "overlay",
             "size": 10,
             "solidity": 0.2
            },
            "type": "scatter"
           }
          ],
          "scatter3d": [
           {
            "line": {
             "colorbar": {
              "outlinewidth": 0,
              "ticks": ""
             }
            },
            "marker": {
             "colorbar": {
              "outlinewidth": 0,
              "ticks": ""
             }
            },
            "type": "scatter3d"
           }
          ],
          "scattercarpet": [
           {
            "marker": {
             "colorbar": {
              "outlinewidth": 0,
              "ticks": ""
             }
            },
            "type": "scattercarpet"
           }
          ],
          "scattergeo": [
           {
            "marker": {
             "colorbar": {
              "outlinewidth": 0,
              "ticks": ""
             }
            },
            "type": "scattergeo"
           }
          ],
          "scattergl": [
           {
            "marker": {
             "colorbar": {
              "outlinewidth": 0,
              "ticks": ""
             }
            },
            "type": "scattergl"
           }
          ],
          "scattermap": [
           {
            "marker": {
             "colorbar": {
              "outlinewidth": 0,
              "ticks": ""
             }
            },
            "type": "scattermap"
           }
          ],
          "scattermapbox": [
           {
            "marker": {
             "colorbar": {
              "outlinewidth": 0,
              "ticks": ""
             }
            },
            "type": "scattermapbox"
           }
          ],
          "scatterpolar": [
           {
            "marker": {
             "colorbar": {
              "outlinewidth": 0,
              "ticks": ""
             }
            },
            "type": "scatterpolar"
           }
          ],
          "scatterpolargl": [
           {
            "marker": {
             "colorbar": {
              "outlinewidth": 0,
              "ticks": ""
             }
            },
            "type": "scatterpolargl"
           }
          ],
          "scatterternary": [
           {
            "marker": {
             "colorbar": {
              "outlinewidth": 0,
              "ticks": ""
             }
            },
            "type": "scatterternary"
           }
          ],
          "surface": [
           {
            "colorbar": {
             "outlinewidth": 0,
             "ticks": ""
            },
            "colorscale": [
             [
              0,
              "#0d0887"
             ],
             [
              0.1111111111111111,
              "#46039f"
             ],
             [
              0.2222222222222222,
              "#7201a8"
             ],
             [
              0.3333333333333333,
              "#9c179e"
             ],
             [
              0.4444444444444444,
              "#bd3786"
             ],
             [
              0.5555555555555556,
              "#d8576b"
             ],
             [
              0.6666666666666666,
              "#ed7953"
             ],
             [
              0.7777777777777778,
              "#fb9f3a"
             ],
             [
              0.8888888888888888,
              "#fdca26"
             ],
             [
              1,
              "#f0f921"
             ]
            ],
            "type": "surface"
           }
          ],
          "table": [
           {
            "cells": {
             "fill": {
              "color": "#EBF0F8"
             },
             "line": {
              "color": "white"
             }
            },
            "header": {
             "fill": {
              "color": "#C8D4E3"
             },
             "line": {
              "color": "white"
             }
            },
            "type": "table"
           }
          ]
         },
         "layout": {
          "annotationdefaults": {
           "arrowcolor": "#2a3f5f",
           "arrowhead": 0,
           "arrowwidth": 1
          },
          "autotypenumbers": "strict",
          "coloraxis": {
           "colorbar": {
            "outlinewidth": 0,
            "ticks": ""
           }
          },
          "colorscale": {
           "diverging": [
            [
             0,
             "#8e0152"
            ],
            [
             0.1,
             "#c51b7d"
            ],
            [
             0.2,
             "#de77ae"
            ],
            [
             0.3,
             "#f1b6da"
            ],
            [
             0.4,
             "#fde0ef"
            ],
            [
             0.5,
             "#f7f7f7"
            ],
            [
             0.6,
             "#e6f5d0"
            ],
            [
             0.7,
             "#b8e186"
            ],
            [
             0.8,
             "#7fbc41"
            ],
            [
             0.9,
             "#4d9221"
            ],
            [
             1,
             "#276419"
            ]
           ],
           "sequential": [
            [
             0,
             "#0d0887"
            ],
            [
             0.1111111111111111,
             "#46039f"
            ],
            [
             0.2222222222222222,
             "#7201a8"
            ],
            [
             0.3333333333333333,
             "#9c179e"
            ],
            [
             0.4444444444444444,
             "#bd3786"
            ],
            [
             0.5555555555555556,
             "#d8576b"
            ],
            [
             0.6666666666666666,
             "#ed7953"
            ],
            [
             0.7777777777777778,
             "#fb9f3a"
            ],
            [
             0.8888888888888888,
             "#fdca26"
            ],
            [
             1,
             "#f0f921"
            ]
           ],
           "sequentialminus": [
            [
             0,
             "#0d0887"
            ],
            [
             0.1111111111111111,
             "#46039f"
            ],
            [
             0.2222222222222222,
             "#7201a8"
            ],
            [
             0.3333333333333333,
             "#9c179e"
            ],
            [
             0.4444444444444444,
             "#bd3786"
            ],
            [
             0.5555555555555556,
             "#d8576b"
            ],
            [
             0.6666666666666666,
             "#ed7953"
            ],
            [
             0.7777777777777778,
             "#fb9f3a"
            ],
            [
             0.8888888888888888,
             "#fdca26"
            ],
            [
             1,
             "#f0f921"
            ]
           ]
          },
          "colorway": [
           "#636efa",
           "#EF553B",
           "#00cc96",
           "#ab63fa",
           "#FFA15A",
           "#19d3f3",
           "#FF6692",
           "#B6E880",
           "#FF97FF",
           "#FECB52"
          ],
          "font": {
           "color": "#2a3f5f"
          },
          "geo": {
           "bgcolor": "white",
           "lakecolor": "white",
           "landcolor": "#E5ECF6",
           "showlakes": true,
           "showland": true,
           "subunitcolor": "white"
          },
          "hoverlabel": {
           "align": "left"
          },
          "hovermode": "closest",
          "mapbox": {
           "style": "light"
          },
          "paper_bgcolor": "white",
          "plot_bgcolor": "#E5ECF6",
          "polar": {
           "angularaxis": {
            "gridcolor": "white",
            "linecolor": "white",
            "ticks": ""
           },
           "bgcolor": "#E5ECF6",
           "radialaxis": {
            "gridcolor": "white",
            "linecolor": "white",
            "ticks": ""
           }
          },
          "scene": {
           "xaxis": {
            "backgroundcolor": "#E5ECF6",
            "gridcolor": "white",
            "gridwidth": 2,
            "linecolor": "white",
            "showbackground": true,
            "ticks": "",
            "zerolinecolor": "white"
           },
           "yaxis": {
            "backgroundcolor": "#E5ECF6",
            "gridcolor": "white",
            "gridwidth": 2,
            "linecolor": "white",
            "showbackground": true,
            "ticks": "",
            "zerolinecolor": "white"
           },
           "zaxis": {
            "backgroundcolor": "#E5ECF6",
            "gridcolor": "white",
            "gridwidth": 2,
            "linecolor": "white",
            "showbackground": true,
            "ticks": "",
            "zerolinecolor": "white"
           }
          },
          "shapedefaults": {
           "line": {
            "color": "#2a3f5f"
           }
          },
          "ternary": {
           "aaxis": {
            "gridcolor": "white",
            "linecolor": "white",
            "ticks": ""
           },
           "baxis": {
            "gridcolor": "white",
            "linecolor": "white",
            "ticks": ""
           },
           "bgcolor": "#E5ECF6",
           "caxis": {
            "gridcolor": "white",
            "linecolor": "white",
            "ticks": ""
           }
          },
          "title": {
           "x": 0.05
          },
          "xaxis": {
           "automargin": true,
           "gridcolor": "white",
           "linecolor": "white",
           "ticks": "",
           "title": {
            "standoff": 15
           },
           "zerolinecolor": "white",
           "zerolinewidth": 2
          },
          "yaxis": {
           "automargin": true,
           "gridcolor": "white",
           "linecolor": "white",
           "ticks": "",
           "title": {
            "standoff": 15
           },
           "zerolinecolor": "white",
           "zerolinewidth": 2
          }
         }
        },
        "xaxis": {
         "anchor": "y",
         "domain": [
          0,
          1
         ],
         "title": {
          "text": "Saldo migratório"
         }
        },
        "yaxis": {
         "anchor": "x",
         "domain": [
          0,
          1
         ],
         "showgrid": false,
         "showticklabels": false,
         "title": {
          "text": "y"
         }
        }
       }
      }
     },
     "metadata": {},
     "output_type": "display_data"
    },
    {
     "name": "stdout",
     "output_type": "stream",
     "text": [
      "saldo_migratorio\n",
      "0    277\n",
      "1     29\n",
      "2      2\n",
      "Name: count, dtype: int64\n",
      "File saved to csv_files/5_Saldo_Migratorio.csv\n"
     ]
    }
   ],
   "source": [
    "clustered_df = aplicar_kmeans(df_saldo_migratorio, 3, nome_cluster='saldo_migratorio')\n",
    "save_clustered_df_to_csv(clustered_df, \"csv_files/\", \"5_Saldo_Migratorio.csv\")"
   ]
  },
  {
   "cell_type": "markdown",
   "id": "35b940a0",
   "metadata": {},
   "source": [
    "### Análise Saldo Natural"
   ]
  },
  {
   "cell_type": "code",
   "execution_count": 13,
   "id": "47fad060",
   "metadata": {},
   "outputs": [
    {
     "name": "stdout",
     "output_type": "stream",
     "text": [
      "File saved to csv_files/5_Saldo_Natural.csv\n"
     ]
    },
    {
     "data": {
      "text/html": [
       "<div>\n",
       "<style scoped>\n",
       "    .dataframe tbody tr th:only-of-type {\n",
       "        vertical-align: middle;\n",
       "    }\n",
       "\n",
       "    .dataframe tbody tr th {\n",
       "        vertical-align: top;\n",
       "    }\n",
       "\n",
       "    .dataframe thead th {\n",
       "        text-align: right;\n",
       "    }\n",
       "</style>\n",
       "<table border=\"1\" class=\"dataframe\">\n",
       "  <thead>\n",
       "    <tr style=\"text-align: right;\">\n",
       "      <th></th>\n",
       "      <th>local</th>\n",
       "      <th>codigo</th>\n",
       "      <th>Saldo natural</th>\n",
       "    </tr>\n",
       "  </thead>\n",
       "  <tbody>\n",
       "    <tr>\n",
       "      <th>4</th>\n",
       "      <td>Arcos de Valdevez</td>\n",
       "      <td>1111601</td>\n",
       "      <td>-296.0</td>\n",
       "    </tr>\n",
       "    <tr>\n",
       "      <th>5</th>\n",
       "      <td>Caminha</td>\n",
       "      <td>1111602</td>\n",
       "      <td>-113.0</td>\n",
       "    </tr>\n",
       "    <tr>\n",
       "      <th>6</th>\n",
       "      <td>Melgaço</td>\n",
       "      <td>1111603</td>\n",
       "      <td>-142.0</td>\n",
       "    </tr>\n",
       "    <tr>\n",
       "      <th>7</th>\n",
       "      <td>Monção</td>\n",
       "      <td>1111604</td>\n",
       "      <td>-227.0</td>\n",
       "    </tr>\n",
       "    <tr>\n",
       "      <th>8</th>\n",
       "      <td>Paredes de Coura</td>\n",
       "      <td>1111605</td>\n",
       "      <td>-79.0</td>\n",
       "    </tr>\n",
       "    <tr>\n",
       "      <th>...</th>\n",
       "      <td>...</td>\n",
       "      <td>...</td>\n",
       "      <td>...</td>\n",
       "    </tr>\n",
       "    <tr>\n",
       "      <th>342</th>\n",
       "      <td>Ribeira Brava</td>\n",
       "      <td>3003107</td>\n",
       "      <td>-66.0</td>\n",
       "    </tr>\n",
       "    <tr>\n",
       "      <th>343</th>\n",
       "      <td>Santa Cruz</td>\n",
       "      <td>3003108</td>\n",
       "      <td>-8.0</td>\n",
       "    </tr>\n",
       "    <tr>\n",
       "      <th>344</th>\n",
       "      <td>Santana</td>\n",
       "      <td>3003109</td>\n",
       "      <td>-53.0</td>\n",
       "    </tr>\n",
       "    <tr>\n",
       "      <th>345</th>\n",
       "      <td>São Vicente</td>\n",
       "      <td>3003110</td>\n",
       "      <td>-24.0</td>\n",
       "    </tr>\n",
       "    <tr>\n",
       "      <th>346</th>\n",
       "      <td>Porto Santo</td>\n",
       "      <td>3003201</td>\n",
       "      <td>-9.0</td>\n",
       "    </tr>\n",
       "  </tbody>\n",
       "</table>\n",
       "<p>308 rows × 3 columns</p>\n",
       "</div>"
      ],
      "text/plain": [
       "                 local   codigo  Saldo natural\n",
       "4    Arcos de Valdevez  1111601         -296.0\n",
       "5              Caminha  1111602         -113.0\n",
       "6              Melgaço  1111603         -142.0\n",
       "7               Monção  1111604         -227.0\n",
       "8     Paredes de Coura  1111605          -79.0\n",
       "..                 ...      ...            ...\n",
       "342      Ribeira Brava  3003107          -66.0\n",
       "343         Santa Cruz  3003108           -8.0\n",
       "344            Santana  3003109          -53.0\n",
       "345        São Vicente  3003110          -24.0\n",
       "346        Porto Santo  3003201           -9.0\n",
       "\n",
       "[308 rows x 3 columns]"
      ]
     },
     "execution_count": 13,
     "metadata": {},
     "output_type": "execute_result"
    }
   ],
   "source": [
    "df_saldo_natural= processar_ficheiro(data_path+'Saldo natural.xls', 0)\n",
    "df_saldo_natural = carregar_municipios(df_saldo_natural)\n",
    "save_clustered_df_to_csv(df_saldo_natural, \"csv_files/\", \"5_Saldo_Natural.csv\")\n",
    "df_saldo_natural"
   ]
  },
  {
   "cell_type": "code",
   "execution_count": 14,
   "id": "4c4df7d9",
   "metadata": {},
   "outputs": [
    {
     "data": {
      "image/png": "[encoded data removed]",
      "text/plain": [
       "<Figure size 800x500 with 1 Axes>"
      ]
     },
     "metadata": {},
     "output_type": "display_data"
    }
   ],
   "source": [
    "elbow_rule(df_saldo_natural, max_k=10)"
   ]
  },
  {
   "cell_type": "code",
   "execution_count": 15,
   "id": "92b36896",
   "metadata": {},
   "outputs": [
    {
     "data": {
      "application/vnd.plotly.v1+json": {
       "config": {
        "plotlyServerURL": "https://plot.ly"
       },
       "data": [
        {
         "customdata": [
          [
           "Arcos de Valdevez",
           "1111601",
           -296
          ],
          [
           "Caminha",
           "1111602",
           -113
          ],
          [
           "Melgaço",
           "1111603",
           -142
          ],
          [
           "Monção",
           "1111604",
           -227
          ],
          [
           "Paredes de Coura",
           "1111605",
           -79
          ],
          [
           "Ponte da Barca",
           "1111606",
           -89
          ],
          [
           "Ponte de Lima",
           "1111607",
           -237
          ],
          [
           "Valença",
           "1111608",
           -94
          ],
          [
           "Viana do Castelo",
           "1111609",
           -328
          ],
          [
           "Vila Nova de Cerveira",
           "1111610",
           -69
          ],
          [
           "Amares",
           "1120301",
           -72
          ],
          [
           "Barcelos",
           "1120302",
           -135
          ],
          [
           "Braga",
           "1120303",
           108
          ],
          [
           "Esposende",
           "1120306",
           -5
          ],
          [
           "Terras de Bouro",
           "1120310",
           -67
          ],
          [
           "Vila Verde",
           "1120313",
           -61
          ],
          [
           "Cabeceiras de Basto",
           "1190304",
           -80
          ],
          [
           "Fafe",
           "1190307",
           -213
          ],
          [
           "Guimarães",
           "1190308",
           -270
          ],
          [
           "Mondim de Basto",
           "1191705",
           -53
          ],
          [
           "Póvoa de Lanhoso",
           "1190309",
           -43
          ],
          [
           "Vieira do Minho",
           "1190311",
           -103
          ],
          [
           "Vila Nova de Famalicão",
           "1190312",
           -119
          ],
          [
           "Vizela",
           "1190314",
           31
          ],
          [
           "Arouca",
           "11A0104",
           -85
          ],
          [
           "Espinho",
           "11A0107",
           -249
          ],
          [
           "Gondomar",
           "11A1304",
           -466
          ],
          [
           "Maia",
           "11A1306",
           -169
          ],
          [
           "Matosinhos",
           "11A1308",
           -635
          ],
          [
           "Oliveira de Azeméis",
           "11A0113",
           -240
          ],
          [
           "Paredes",
           "11A1310",
           5
          ],
          [
           "Porto",
           "11A1312",
           -1085
          ],
          [
           "Póvoa de Varzim",
           "11A1313",
           -95
          ],
          [
           "Santa Maria da Feira",
           "11A0109",
           -254
          ],
          [
           "Santo Tirso",
           "11A1314",
           -321
          ],
          [
           "São João da Madeira",
           "11A0116",
           -60
          ],
          [
           "Trofa",
           "11A1318",
           -12
          ],
          [
           "Vale de Cambra",
           "11A0119",
           -132
          ],
          [
           "Valongo",
           "11A1315",
           -90
          ],
          [
           "Vila do Conde",
           "11A1316",
           -162
          ],
          [
           "Vila Nova de Gaia",
           "11A1317",
           -671
          ],
          [
           "Boticas",
           "11B1702",
           -80
          ],
          [
           "Chaves",
           "11B1703",
           -382
          ],
          [
           "Montalegre",
           "11B1706",
           -148
          ],
          [
           "Ribeira de Pena",
           "11B1709",
           -67
          ],
          [
           "Valpaços",
           "11B1712",
           -207
          ],
          [
           "Vila Pouca de Aguiar",
           "11B1713",
           -129
          ],
          [
           "Amarante",
           "11C1301",
           -279
          ],
          [
           "Baião",
           "11C1302",
           -104
          ],
          [
           "Castelo de Paiva",
           "11C0106",
           -62
          ],
          [
           "Celorico de Basto",
           "11C0305",
           -157
          ],
          [
           "Cinfães",
           "11C1804",
           -138
          ],
          [
           "Felgueiras",
           "11C1303",
           -41
          ],
          [
           "Lousada",
           "11C1305",
           -10
          ],
          [
           "Marco de Canaveses",
           "11C1307",
           -131
          ],
          [
           "Paços de Ferreira",
           "11C1309",
           -24
          ],
          [
           "Penafiel",
           "11C1311",
           -97
          ],
          [
           "Resende",
           "11C1813",
           -85
          ],
          [
           "Alijó",
           "11D1701",
           -91
          ],
          [
           "Armamar",
           "11D1801",
           -65
          ],
          [
           "Carrazeda de Ansiães",
           "11D0403",
           -87
          ],
          [
           "Freixo de Espada à Cinta",
           "11D0404",
           -77
          ],
          [
           "Lamego",
           "11D1805",
           -192
          ],
          [
           "Mesão Frio",
           "11D1704",
           -45
          ],
          [
           "Moimenta da Beira",
           "11D1807",
           -64
          ],
          [
           "Murça",
           "11D1707",
           -88
          ],
          [
           "Penedono",
           "11D1812",
           -36
          ],
          [
           "Peso da Régua",
           "11D1708",
           -117
          ],
          [
           "Sabrosa",
           "11D1710",
           -67
          ],
          [
           "Santa Marta de Penaguião",
           "11D1711",
           -63
          ],
          [
           "São João da Pesqueira",
           "11D1815",
           -57
          ],
          [
           "Sernancelhe",
           "11D1818",
           -57
          ],
          [
           "Tabuaço",
           "11D1819",
           -49
          ],
          [
           "Tarouca",
           "11D1820",
           -59
          ],
          [
           "Torre de Moncorvo",
           "11D0409",
           -163
          ],
          [
           "Vila Nova de Foz Côa",
           "11D0914",
           -71
          ],
          [
           "Vila Real",
           "11D1714",
           -224
          ],
          [
           "Alfândega da Fé",
           "11E0401",
           -66
          ],
          [
           "Bragança",
           "11E0402",
           -300
          ],
          [
           "Macedo de Cavaleiros",
           "11E0405",
           -147
          ],
          [
           "Miranda do Douro",
           "11E0406",
           -103
          ],
          [
           "Mirandela",
           "11E0407",
           -178
          ],
          [
           "Mogadouro",
           "11E0408",
           -105
          ],
          [
           "Vila Flor",
           "11E0410",
           -82
          ],
          [
           "Vimioso",
           "11E0411",
           -70
          ],
          [
           "Vinhais",
           "11E0412",
           -130
          ],
          [
           "Águeda",
           "1910101",
           -195
          ],
          [
           "Albergaria-a-Velha",
           "1910102",
           -89
          ],
          [
           "Anadia",
           "1910103",
           -214
          ],
          [
           "Aveiro",
           "1910105",
           -123
          ],
          [
           "Estarreja",
           "1910108",
           -149
          ],
          [
           "Ílhavo",
           "1910110",
           -107
          ],
          [
           "Murtosa",
           "1910112",
           -46
          ],
          [
           "Oliveira do Bairro",
           "1910114",
           -94
          ],
          [
           "Ovar",
           "1910115",
           -115
          ],
          [
           "Sever do Vouga",
           "1910117",
           -61
          ],
          [
           "Vagos",
           "1910118",
           -88
          ],
          [
           "Arganil",
           "1920601",
           -123
          ],
          [
           "Cantanhede",
           "1920602",
           -228
          ],
          [
           "Coimbra",
           "1920603",
           -481
          ],
          [
           "Condeixa-a-Nova",
           "1920604",
           -70
          ],
          [
           "Figueira da Foz",
           "1920605",
           -401
          ],
          [
           "Góis",
           "1920606",
           -59
          ],
          [
           "Lousã",
           "1920607",
           -95
          ],
          [
           "Mealhada",
           "1920111",
           -114
          ],
          [
           "Mira",
           "1920608",
           -92
          ],
          [
           "Miranda do Corvo",
           "1920609",
           -104
          ],
          [
           "Montemor-o-Velho",
           "1920610",
           -159
          ],
          [
           "Mortágua",
           "1921808",
           -112
          ],
          [
           "Oliveira do Hospital",
           "1920611",
           -79
          ],
          [
           "Pampilhosa da Serra",
           "1920612",
           -74
          ],
          [
           "Penacova",
           "1920613",
           -112
          ],
          [
           "Penela",
           "1920614",
           -55
          ],
          [
           "Soure",
           "1920615",
           -212
          ],
          [
           "Tábua",
           "1920616",
           -79
          ],
          [
           "Vila Nova de Poiares",
           "1920617",
           -50
          ],
          [
           "Alvaiázere",
           "1931002",
           -64
          ],
          [
           "Ansião",
           "1931003",
           -113
          ],
          [
           "Batalha",
           "1931004",
           -65
          ],
          [
           "Castanheira de Pêra",
           "1931007",
           -21
          ],
          [
           "Figueiró dos Vinhos",
           "1931008",
           -49
          ],
          [
           "Leiria",
           "1931009",
           -267
          ],
          [
           "Marinha Grande",
           "1931010",
           -143
          ],
          [
           "Pedrógão Grande",
           "1931013",
           -30
          ],
          [
           "Pombal",
           "1931015",
           -368
          ],
          [
           "Porto de Mós",
           "1931016",
           -116
          ],
          [
           "Aguiar da Beira",
           "1940901",
           -98
          ],
          [
           "Carregal do Sal",
           "1941802",
           -81
          ],
          [
           "Castro Daire",
           "1941803",
           -171
          ],
          [
           "Mangualde",
           "1941806",
           -165
          ],
          [
           "Nelas",
           "1941809",
           -88
          ],
          [
           "Oliveira de Frades",
           "1941810",
           -62
          ],
          [
           "Penalva do Castelo",
           "1941811",
           -94
          ],
          [
           "Santa Comba Dão",
           "1941814",
           -75
          ],
          [
           "São Pedro do Sul",
           "1941816",
           -193
          ],
          [
           "Sátão",
           "1941817",
           -84
          ],
          [
           "Tondela",
           "1941821",
           -241
          ],
          [
           "Vila Nova de Paiva",
           "1941822",
           -34
          ],
          [
           "Viseu",
           "1941823",
           -276
          ],
          [
           "Vouzela",
           "1941824",
           -82
          ],
          [
           "Castelo Branco",
           "1950502",
           -387
          ],
          [
           "Idanha-a-Nova",
           "1950505",
           -166
          ],
          [
           "Oleiros",
           "1950506",
           -89
          ],
          [
           "Penamacor",
           "1950507",
           -104
          ],
          [
           "Proença-a-Nova",
           "1950508",
           -107
          ],
          [
           "Sertã",
           "1950509",
           -145
          ],
          [
           "Vila de Rei",
           "1950510",
           -64
          ],
          [
           "Vila Velha de Ródão",
           "1950511",
           -56
          ],
          [
           "Almeida",
           "1960902",
           -125
          ],
          [
           "Belmonte",
           "1960501",
           -59
          ],
          [
           "Celorico da Beira",
           "1960903",
           -81
          ],
          [
           "Covilhã",
           "1960503",
           -336
          ],
          [
           "Figueira de Castelo Rodrigo",
           "1960904",
           -80
          ],
          [
           "Fornos de Algodres",
           "1960905",
           -56
          ],
          [
           "Fundão",
           "1960504",
           -257
          ],
          [
           "Gouveia",
           "1960906",
           -169
          ],
          [
           "Guarda",
           "1960907",
           -267
          ],
          [
           "Manteigas",
           "1960908",
           -18
          ],
          [
           "Mêda",
           "1960909",
           -54
          ],
          [
           "Pinhel",
           "1960910",
           -139
          ],
          [
           "Sabugal",
           "1960911",
           -249
          ],
          [
           "Seia",
           "1960912",
           -249
          ],
          [
           "Trancoso",
           "1960913",
           -112
          ],
          [
           "Alcobaça",
           "1D11001",
           -274
          ],
          [
           "Alenquer",
           "1D11101",
           -20
          ],
          [
           "Arruda dos Vinhos",
           "1D11102",
           -10
          ],
          [
           "Bombarral",
           "1D11005",
           -96
          ],
          [
           "Cadaval",
           "1D11104",
           -111
          ],
          [
           "Caldas da Rainha",
           "1D11006",
           -231
          ],
          [
           "Lourinhã",
           "1D11108",
           -103
          ],
          [
           "Nazaré",
           "1D11011",
           -41
          ],
          [
           "Óbidos",
           "1D11012",
           -80
          ],
          [
           "Peniche",
           "1D11014",
           -142
          ],
          [
           "Sobral de Monte Agraço",
           "1D11112",
           -31
          ],
          [
           "Torres Vedras",
           "1D11113",
           -153
          ],
          [
           "Abrantes",
           "1D21401",
           -319
          ],
          [
           "Alcanena",
           "1D21402",
           -79
          ],
          [
           "Constância",
           "1D21408",
           -30
          ],
          [
           "Entroncamento",
           "1D21410",
           21
          ],
          [
           "Ferreira do Zêzere",
           "1D21411",
           -68
          ],
          [
           "Mação",
           "1D21413",
           -123
          ],
          [
           "Ourém",
           "1D21421",
           -280
          ],
          [
           "Sardoal",
           "1D21417",
           -47
          ],
          [
           "Tomar",
           "1D21418",
           -337
          ],
          [
           "Torres Novas",
           "1D21419",
           -267
          ],
          [
           "Vila Nova da Barquinha",
           "1D21420",
           -30
          ],
          [
           "Almeirim",
           "1D31403",
           -176
          ],
          [
           "Alpiarça",
           "1D31404",
           -49
          ],
          [
           "Azambuja",
           "1D31103",
           -76
          ],
          [
           "Benavente",
           "1D31405",
           -52
          ],
          [
           "Cartaxo",
           "1D31406",
           -134
          ],
          [
           "Chamusca",
           "1D31407",
           -84
          ],
          [
           "Coruche",
           "1D31409",
           -290
          ],
          [
           "Golegã",
           "1D31412",
           -51
          ],
          [
           "Rio Maior",
           "1D31414",
           -63
          ],
          [
           "Salvaterra de Magos",
           "1D31415",
           -154
          ],
          [
           "Santarém",
           "1D31416",
           -261
          ],
          [
           "Amadora",
           "1A01115",
           433
          ],
          [
           "Cascais",
           "1A01105",
           -461
          ],
          [
           "Lisboa",
           "1A01106",
           -804
          ],
          [
           "Loures",
           "1A01107",
           267
          ],
          [
           "Mafra",
           "1A01109",
           91
          ],
          [
           "Odivelas",
           "1A01116",
           434
          ],
          [
           "Oeiras",
           "1A01110",
           -318
          ],
          [
           "Sintra",
           "1A01111",
           1121
          ],
          [
           "Vila Franca de Xira",
           "1A01114",
           166
          ],
          [
           "Alcochete",
           "1B01502",
           -5
          ],
          [
           "Almada",
           "1B01503",
           -424
          ],
          [
           "Barreiro",
           "1B01504",
           -173
          ],
          [
           "Moita",
           "1B01506",
           -8
          ],
          [
           "Montijo",
           "1B01507",
           69
          ],
          [
           "Palmela",
           "1B01508",
           -165
          ],
          [
           "Seixal",
           "1B01510",
           252
          ],
          [
           "Sesimbra",
           "1B01511",
           -142
          ],
          [
           "Setúbal",
           "1B01512",
           -330
          ],
          [
           "Alcácer do Sal",
           "1C11501",
           -103
          ],
          [
           "Grândola",
           "1C11505",
           -72
          ],
          [
           "Odemira",
           "1C10211",
           -73
          ],
          [
           "Santiago do Cacém",
           "1C11509",
           -190
          ],
          [
           "Sines",
           "1C11513",
           -53
          ],
          [
           "Aljustrel",
           "1C20201",
           -61
          ],
          [
           "Almodôvar",
           "1C20202",
           -95
          ],
          [
           "Alvito",
           "1C20203",
           -23
          ],
          [
           "Barrancos",
           "1C20204",
           -23
          ],
          [
           "Beja",
           "1C20205",
           -154
          ],
          [
           "Castro Verde",
           "1C20206",
           -71
          ],
          [
           "Cuba",
           "1C20207",
           -53
          ],
          [
           "Ferreira do Alentejo",
           "1C20208",
           -111
          ],
          [
           "Mértola",
           "1C20209",
           -106
          ],
          [
           "Moura",
           "1C20210",
           -83
          ],
          [
           "Ourique",
           "1C20212",
           -86
          ],
          [
           "Serpa",
           "1C20213",
           -153
          ],
          [
           "Vidigueira",
           "1C20214",
           -74
          ],
          [
           "Alter do Chão",
           "1C31201",
           -51
          ],
          [
           "Arronches",
           "1C31202",
           -42
          ],
          [
           "Avis",
           "1C31203",
           -61
          ],
          [
           "Campo Maior",
           "1C31204",
           -62
          ],
          [
           "Castelo de Vide",
           "1C31205",
           -49
          ],
          [
           "Crato",
           "1C31206",
           -71
          ],
          [
           "Elvas",
           "1C31207",
           -175
          ],
          [
           "Fronteira",
           "1C31208",
           -48
          ],
          [
           "Gavião",
           "1C31209",
           -102
          ],
          [
           "Marvão",
           "1C31210",
           -35
          ],
          [
           "Monforte",
           "1C31211",
           -7
          ],
          [
           "Nisa",
           "1C31212",
           -152
          ],
          [
           "Ponte de Sor",
           "1C31213",
           -173
          ],
          [
           "Portalegre",
           "1C31214",
           -173
          ],
          [
           "Sousel",
           "1C31215",
           -65
          ],
          [
           "Alandroal",
           "1C40701",
           -76
          ],
          [
           "Arraiolos",
           "1C40702",
           -45
          ],
          [
           "Borba",
           "1C40703",
           -75
          ],
          [
           "Estremoz",
           "1C40704",
           -104
          ],
          [
           "Évora",
           "1C40705",
           -232
          ],
          [
           "Montemor-o-Novo",
           "1C40706",
           -142
          ],
          [
           "Mora",
           "1C40707",
           -56
          ],
          [
           "Mourão",
           "1C40708",
           -34
          ],
          [
           "Portel",
           "1C40709",
           -60
          ],
          [
           "Redondo",
           "1C40710",
           -48
          ],
          [
           "Reguengos de Monsaraz",
           "1C40711",
           -110
          ],
          [
           "Vendas Novas",
           "1C40712",
           -91
          ],
          [
           "Viana do Alentejo",
           "1C40713",
           -51
          ],
          [
           "Vila Viçosa",
           "1C40714",
           -80
          ],
          [
           "Albufeira",
           "1500801",
           105
          ],
          [
           "Alcoutim",
           "1500802",
           -52
          ],
          [
           "Aljezur",
           "1500803",
           -21
          ],
          [
           "Castro Marim",
           "1500804",
           -64
          ],
          [
           "Faro",
           "1500805",
           -166
          ],
          [
           "Lagoa",
           "1500806",
           -30
          ],
          [
           "Lagos",
           "1500807",
           -87
          ],
          [
           "Loulé",
           "1500808",
           -81
          ],
          [
           "Monchique",
           "1500809",
           -49
          ],
          [
           "Olhão",
           "1500810",
           -219
          ],
          [
           "Portimão",
           "1500811",
           -77
          ],
          [
           "São Brás de Alportel",
           "1500812",
           -46
          ],
          [
           "Silves",
           "1500813",
           -180
          ],
          [
           "Tavira",
           "1500814",
           -186
          ],
          [
           "Vila do Bispo",
           "1500815",
           -28
          ],
          [
           "Vila Real de Santo António",
           "1500816",
           -95
          ],
          [
           "Angra do Heroísmo",
           "2004301",
           -147
          ],
          [
           "Calheta (R.A.A.)",
           "2004501",
           -19
          ],
          [
           "Corvo",
           "2004901",
           -4
          ],
          [
           "Horta",
           "2004701",
           -31
          ],
          [
           "Lagoa (R.A.A.)",
           "2004201",
           17
          ],
          [
           "Lajes das Flores",
           "2004801",
           -8
          ],
          [
           "Lajes do Pico",
           "2004601",
           -30
          ],
          [
           "Madalena",
           "2004602",
           -30
          ],
          [
           "Nordeste",
           "2004202",
           -29
          ],
          [
           "Ponta Delgada",
           "2004203",
           -37
          ],
          [
           "Povoação",
           "2004204",
           -36
          ],
          [
           "Ribeira Grande",
           "2004205",
           3
          ],
          [
           "Santa Cruz da Graciosa",
           "2004401",
           -38
          ],
          [
           "Santa Cruz das Flores",
           "2004802",
           -24
          ],
          [
           "São Roque do Pico",
           "2004603",
           -18
          ],
          [
           "Velas",
           "2004502",
           -52
          ],
          [
           "Vila da Praia da Vitória",
           "2004302",
           -49
          ],
          [
           "Vila do Porto",
           "2004101",
           -27
          ],
          [
           "Vila Franca do Campo",
           "2004206",
           -24
          ],
          [
           "Calheta (R.A.M.)",
           "3003101",
           -44
          ],
          [
           "Câmara de Lobos",
           "3003102",
           45
          ],
          [
           "Funchal",
           "3003103",
           -468
          ],
          [
           "Machico",
           "3003104",
           -108
          ],
          [
           "Ponta do Sol",
           "3003105",
           -22
          ],
          [
           "Porto Moniz",
           "3003106",
           -24
          ],
          [
           "Ribeira Brava",
           "3003107",
           -66
          ],
          [
           "Santa Cruz",
           "3003108",
           -8
          ],
          [
           "Santana",
           "3003109",
           -53
          ],
          [
           "São Vicente",
           "3003110",
           -24
          ],
          [
           "Porto Santo",
           "3003201",
           -9
          ]
         ],
         "hovertemplate": "valor=%{x}<br>y=%{y}<br>local=%{customdata[0]}<br>codigo=%{customdata[1]}<br>Saldo natural=%{customdata[2]}<br>saldo_natural=%{marker.color}<extra></extra>",
         "legendgroup": "",
         "marker": {
          "color": {
           "bdata": "AAEBAAEBAAEAAQEBAQEBAQEAAAEBAQEBAQAAAQAAAQABAAABAQEBAQABAAEBAQEAAQEBAQEBAQEBAQEBAQEBAQEBAQEBAQEBAQEBAQABAAEBAQEBAQEBAQABAQEBAQEBAQEAAAEAAQEBAQEBAQEBAQEAAQEBAQEBAQABAQABAQEBAQEBAQEBAQABAAEAAQEBAQEBAQEBAQABAQABAAEBAQAAAQABAQEBAAEBAQEBAQABAQEBAQABAAABAQEBAQEBAAEBAQACAAACAQIAAgEBAAEBAQECAQABAQEBAQEBAQEBAQEBAQEBAQEBAQEBAQEBAQEBAQEBAQEBAQEBAAEBAQEBAQEBAQEBAQEBAQEBAQABAQEBAQEBAQEBAQEBAQEBAQEBAQEBAQEBAQEAAQEBAQEBAQE=",
           "dtype": "i1"
          },
          "coloraxis": "coloraxis",
          "size": 10,
          "symbol": "circle"
         },
         "mode": "markers",
         "name": "",
         "orientation": "v",
         "showlegend": false,
         "type": "scatter",
         "x": {
          "bdata": "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",
          "dtype": "f8"
         },
         "xaxis": "x",
         "y": {
          "bdata": "AAAAAAAAAAAAAAAAAAAAAAAAAAAAAAAAAAAAAAAAAAAAAAAAAAAAAAAAAAAAAAAAAAAAAAAAAAAAAAAAAAAAAAAAAAAAAAAAAAAAAAAAAAAAAAAAAAAAAAAAAAAAAAAAAAAAAAAAAAAAAAAAAAAAAAAAAAAAAAAAAAAAAAAAAAAAAAAAAAAAAAAAAAAAAAAAAAAAAAAAAAAAAAAAAAAAAAAAAAAAAAAAAAAAAAAAAAAAAAAAAAAAAAAAAAAAAAAAAAAAAAAAAAAAAAAAAAAAAAAAAAAAAAAAAAAAAAAAAAAAAAAAAAAAAAAAAAAAAAAAAAAAAAAAAAAAAAAAAAAAAAAAAAAAAAAAAAAAAAAAAAAAAAAAAAAAAAAAAAAAAAAAAAAAAAAAAAAAAAAAAAAAAAAAAAA=",
          "dtype": "i1"
         },
         "yaxis": "y"
        }
       ],
       "layout": {
        "coloraxis": {
         "colorbar": {
          "title": {
           "text": "saldo_natural"
          }
         },
         "colorscale": [
          [
           0,
           "#440154"
          ],
          [
           0.1111111111111111,
           "#482878"
          ],
          [
           0.2222222222222222,
           "#3e4989"
          ],
          [
           0.3333333333333333,
           "#31688e"
          ],
          [
           0.4444444444444444,
           "#26828e"
          ],
          [
           0.5555555555555556,
           "#1f9e89"
          ],
          [
           0.6666666666666666,
           "#35b779"
          ],
          [
           0.7777777777777778,
           "#6ece58"
          ],
          [
           0.8888888888888888,
           "#b5de2b"
          ],
          [
           1,
           "#fde725"
          ]
         ]
        },
        "height": 300,
        "legend": {
         "tracegroupgap": 0
        },
        "margin": {
         "t": 60
        },
        "template": {
         "data": {
          "bar": [
           {
            "error_x": {
             "color": "#2a3f5f"
            },
            "error_y": {
             "color": "#2a3f5f"
            },
            "marker": {
             "line": {
              "color": "#E5ECF6",
              "width": 0.5
             },
             "pattern": {
              "fillmode": "overlay",
              "size": 10,
              "solidity": 0.2
             }
            },
            "type": "bar"
           }
          ],
          "barpolar": [
           {
            "marker": {
             "line": {
              "color": "#E5ECF6",
              "width": 0.5
             },
             "pattern": {
              "fillmode": "overlay",
              "size": 10,
              "solidity": 0.2
             }
            },
            "type": "barpolar"
           }
          ],
          "carpet": [
           {
            "aaxis": {
             "endlinecolor": "#2a3f5f",
             "gridcolor": "white",
             "linecolor": "white",
             "minorgridcolor": "white",
             "startlinecolor": "#2a3f5f"
            },
            "baxis": {
             "endlinecolor": "#2a3f5f",
             "gridcolor": "white",
             "linecolor": "white",
             "minorgridcolor": "white",
             "startlinecolor": "#2a3f5f"
            },
            "type": "carpet"
           }
          ],
          "choropleth": [
           {
            "colorbar": {
             "outlinewidth": 0,
             "ticks": ""
            },
            "type": "choropleth"
           }
          ],
          "contour": [
           {
            "colorbar": {
             "outlinewidth": 0,
             "ticks": ""
            },
            "colorscale": [
             [
              0,
              "#0d0887"
             ],
             [
              0.1111111111111111,
              "#46039f"
             ],
             [
              0.2222222222222222,
              "#7201a8"
             ],
             [
              0.3333333333333333,
              "#9c179e"
             ],
             [
              0.4444444444444444,
              "#bd3786"
             ],
             [
              0.5555555555555556,
              "#d8576b"
             ],
             [
              0.6666666666666666,
              "#ed7953"
             ],
             [
              0.7777777777777778,
              "#fb9f3a"
             ],
             [
              0.8888888888888888,
              "#fdca26"
             ],
             [
              1,
              "#f0f921"
             ]
            ],
            "type": "contour"
           }
          ],
          "contourcarpet": [
           {
            "colorbar": {
             "outlinewidth": 0,
             "ticks": ""
            },
            "type": "contourcarpet"
           }
          ],
          "heatmap": [
           {
            "colorbar": {
             "outlinewidth": 0,
             "ticks": ""
            },
            "colorscale": [
             [
              0,
              "#0d0887"
             ],
             [
              0.1111111111111111,
              "#46039f"
             ],
             [
              0.2222222222222222,
              "#7201a8"
             ],
             [
              0.3333333333333333,
              "#9c179e"
             ],
             [
              0.4444444444444444,
              "#bd3786"
             ],
             [
              0.5555555555555556,
              "#d8576b"
             ],
             [
              0.6666666666666666,
              "#ed7953"
             ],
             [
              0.7777777777777778,
              "#fb9f3a"
             ],
             [
              0.8888888888888888,
              "#fdca26"
             ],
             [
              1,
              "#f0f921"
             ]
            ],
            "type": "heatmap"
           }
          ],
          "histogram": [
           {
            "marker": {
             "pattern": {
              "fillmode": "overlay",
              "size": 10,
              "solidity": 0.2
             }
            },
            "type": "histogram"
           }
          ],
          "histogram2d": [
           {
            "colorbar": {
             "outlinewidth": 0,
             "ticks": ""
            },
            "colorscale": [
             [
              0,
              "#0d0887"
             ],
             [
              0.1111111111111111,
              "#46039f"
             ],
             [
              0.2222222222222222,
              "#7201a8"
             ],
             [
              0.3333333333333333,
              "#9c179e"
             ],
             [
              0.4444444444444444,
              "#bd3786"
             ],
             [
              0.5555555555555556,
              "#d8576b"
             ],
             [
              0.6666666666666666,
              "#ed7953"
             ],
             [
              0.7777777777777778,
              "#fb9f3a"
             ],
             [
              0.8888888888888888,
              "#fdca26"
             ],
             [
              1,
              "#f0f921"
             ]
            ],
            "type": "histogram2d"
           }
          ],
          "histogram2dcontour": [
           {
            "colorbar": {
             "outlinewidth": 0,
             "ticks": ""
            },
            "colorscale": [
             [
              0,
              "#0d0887"
             ],
             [
              0.1111111111111111,
              "#46039f"
             ],
             [
              0.2222222222222222,
              "#7201a8"
             ],
             [
              0.3333333333333333,
              "#9c179e"
             ],
             [
              0.4444444444444444,
              "#bd3786"
             ],
             [
              0.5555555555555556,
              "#d8576b"
             ],
             [
              0.6666666666666666,
              "#ed7953"
             ],
             [
              0.7777777777777778,
              "#fb9f3a"
             ],
             [
              0.8888888888888888,
              "#fdca26"
             ],
             [
              1,
              "#f0f921"
             ]
            ],
            "type": "histogram2dcontour"
           }
          ],
          "mesh3d": [
           {
            "colorbar": {
             "outlinewidth": 0,
             "ticks": ""
            },
            "type": "mesh3d"
           }
          ],
          "parcoords": [
           {
            "line": {
             "colorbar": {
              "outlinewidth": 0,
              "ticks": ""
             }
            },
            "type": "parcoords"
           }
          ],
          "pie": [
           {
            "automargin": true,
            "type": "pie"
           }
          ],
          "scatter": [
           {
            "fillpattern": {
             "fillmode": "overlay",
             "size": 10,
             "solidity": 0.2
            },
            "type": "scatter"
           }
          ],
          "scatter3d": [
           {
            "line": {
             "colorbar": {
              "outlinewidth": 0,
              "ticks": ""
             }
            },
            "marker": {
             "colorbar": {
              "outlinewidth": 0,
              "ticks": ""
             }
            },
            "type": "scatter3d"
           }
          ],
          "scattercarpet": [
           {
            "marker": {
             "colorbar": {
              "outlinewidth": 0,
              "ticks": ""
             }
            },
            "type": "scattercarpet"
           }
          ],
          "scattergeo": [
           {
            "marker": {
             "colorbar": {
              "outlinewidth": 0,
              "ticks": ""
             }
            },
            "type": "scattergeo"
           }
          ],
          "scattergl": [
           {
            "marker": {
             "colorbar": {
              "outlinewidth": 0,
              "ticks": ""
             }
            },
            "type": "scattergl"
           }
          ],
          "scattermap": [
           {
            "marker": {
             "colorbar": {
              "outlinewidth": 0,
              "ticks": ""
             }
            },
            "type": "scattermap"
           }
          ],
          "scattermapbox": [
           {
            "marker": {
             "colorbar": {
              "outlinewidth": 0,
              "ticks": ""
             }
            },
            "type": "scattermapbox"
           }
          ],
          "scatterpolar": [
           {
            "marker": {
             "colorbar": {
              "outlinewidth": 0,
              "ticks": ""
             }
            },
            "type": "scatterpolar"
           }
          ],
          "scatterpolargl": [
           {
            "marker": {
             "colorbar": {
              "outlinewidth": 0,
              "ticks": ""
             }
            },
            "type": "scatterpolargl"
           }
          ],
          "scatterternary": [
           {
            "marker": {
             "colorbar": {
              "outlinewidth": 0,
              "ticks": ""
             }
            },
            "type": "scatterternary"
           }
          ],
          "surface": [
           {
            "colorbar": {
             "outlinewidth": 0,
             "ticks": ""
            },
            "colorscale": [
             [
              0,
              "#0d0887"
             ],
             [
              0.1111111111111111,
              "#46039f"
             ],
             [
              0.2222222222222222,
              "#7201a8"
             ],
             [
              0.3333333333333333,
              "#9c179e"
             ],
             [
              0.4444444444444444,
              "#bd3786"
             ],
             [
              0.5555555555555556,
              "#d8576b"
             ],
             [
              0.6666666666666666,
              "#ed7953"
             ],
             [
              0.7777777777777778,
              "#fb9f3a"
             ],
             [
              0.8888888888888888,
              "#fdca26"
             ],
             [
              1,
              "#f0f921"
             ]
            ],
            "type": "surface"
           }
          ],
          "table": [
           {
            "cells": {
             "fill": {
              "color": "#EBF0F8"
             },
             "line": {
              "color": "white"
             }
            },
            "header": {
             "fill": {
              "color": "#C8D4E3"
             },
             "line": {
              "color": "white"
             }
            },
            "type": "table"
           }
          ]
         },
         "layout": {
          "annotationdefaults": {
           "arrowcolor": "#2a3f5f",
           "arrowhead": 0,
           "arrowwidth": 1
          },
          "autotypenumbers": "strict",
          "coloraxis": {
           "colorbar": {
            "outlinewidth": 0,
            "ticks": ""
           }
          },
          "colorscale": {
           "diverging": [
            [
             0,
             "#8e0152"
            ],
            [
             0.1,
             "#c51b7d"
            ],
            [
             0.2,
             "#de77ae"
            ],
            [
             0.3,
             "#f1b6da"
            ],
            [
             0.4,
             "#fde0ef"
            ],
            [
             0.5,
             "#f7f7f7"
            ],
            [
             0.6,
             "#e6f5d0"
            ],
            [
             0.7,
             "#b8e186"
            ],
            [
             0.8,
             "#7fbc41"
            ],
            [
             0.9,
             "#4d9221"
            ],
            [
             1,
             "#276419"
            ]
           ],
           "sequential": [
            [
             0,
             "#0d0887"
            ],
            [
             0.1111111111111111,
             "#46039f"
            ],
            [
             0.2222222222222222,
             "#7201a8"
            ],
            [
             0.3333333333333333,
             "#9c179e"
            ],
            [
             0.4444444444444444,
             "#bd3786"
            ],
            [
             0.5555555555555556,
             "#d8576b"
            ],
            [
             0.6666666666666666,
             "#ed7953"
            ],
            [
             0.7777777777777778,
             "#fb9f3a"
            ],
            [
             0.8888888888888888,
             "#fdca26"
            ],
            [
             1,
             "#f0f921"
            ]
           ],
           "sequentialminus": [
            [
             0,
             "#0d0887"
            ],
            [
             0.1111111111111111,
             "#46039f"
            ],
            [
             0.2222222222222222,
             "#7201a8"
            ],
            [
             0.3333333333333333,
             "#9c179e"
            ],
            [
             0.4444444444444444,
             "#bd3786"
            ],
            [
             0.5555555555555556,
             "#d8576b"
            ],
            [
             0.6666666666666666,
             "#ed7953"
            ],
            [
             0.7777777777777778,
             "#fb9f3a"
            ],
            [
             0.8888888888888888,
             "#fdca26"
            ],
            [
             1,
             "#f0f921"
            ]
           ]
          },
          "colorway": [
           "#636efa",
           "#EF553B",
           "#00cc96",
           "#ab63fa",
           "#FFA15A",
           "#19d3f3",
           "#FF6692",
           "#B6E880",
           "#FF97FF",
           "#FECB52"
          ],
          "font": {
           "color": "#2a3f5f"
          },
          "geo": {
           "bgcolor": "white",
           "lakecolor": "white",
           "landcolor": "#E5ECF6",
           "showlakes": true,
           "showland": true,
           "subunitcolor": "white"
          },
          "hoverlabel": {
           "align": "left"
          },
          "hovermode": "closest",
          "mapbox": {
           "style": "light"
          },
          "paper_bgcolor": "white",
          "plot_bgcolor": "#E5ECF6",
          "polar": {
           "angularaxis": {
            "gridcolor": "white",
            "linecolor": "white",
            "ticks": ""
           },
           "bgcolor": "#E5ECF6",
           "radialaxis": {
            "gridcolor": "white",
            "linecolor": "white",
            "ticks": ""
           }
          },
          "scene": {
           "xaxis": {
            "backgroundcolor": "#E5ECF6",
            "gridcolor": "white",
            "gridwidth": 2,
            "linecolor": "white",
            "showbackground": true,
            "ticks": "",
            "zerolinecolor": "white"
           },
           "yaxis": {
            "backgroundcolor": "#E5ECF6",
            "gridcolor": "white",
            "gridwidth": 2,
            "linecolor": "white",
            "showbackground": true,
            "ticks": "",
            "zerolinecolor": "white"
           },
           "zaxis": {
            "backgroundcolor": "#E5ECF6",
            "gridcolor": "white",
            "gridwidth": 2,
            "linecolor": "white",
            "showbackground": true,
            "ticks": "",
            "zerolinecolor": "white"
           }
          },
          "shapedefaults": {
           "line": {
            "color": "#2a3f5f"
           }
          },
          "ternary": {
           "aaxis": {
            "gridcolor": "white",
            "linecolor": "white",
            "ticks": ""
           },
           "baxis": {
            "gridcolor": "white",
            "linecolor": "white",
            "ticks": ""
           },
           "bgcolor": "#E5ECF6",
           "caxis": {
            "gridcolor": "white",
            "linecolor": "white",
            "ticks": ""
           }
          },
          "title": {
           "x": 0.05
          },
          "xaxis": {
           "automargin": true,
           "gridcolor": "white",
           "linecolor": "white",
           "ticks": "",
           "title": {
            "standoff": 15
           },
           "zerolinecolor": "white",
           "zerolinewidth": 2
          },
          "yaxis": {
           "automargin": true,
           "gridcolor": "white",
           "linecolor": "white",
           "ticks": "",
           "title": {
            "standoff": 15
           },
           "zerolinecolor": "white",
           "zerolinewidth": 2
          }
         }
        },
        "xaxis": {
         "anchor": "y",
         "domain": [
          0,
          1
         ],
         "title": {
          "text": "Saldo natural"
         }
        },
        "yaxis": {
         "anchor": "x",
         "domain": [
          0,
          1
         ],
         "showgrid": false,
         "showticklabels": false,
         "title": {
          "text": "y"
         }
        }
       }
      }
     },
     "metadata": {},
     "output_type": "display_data"
    },
    {
     "name": "stdout",
     "output_type": "stream",
     "text": [
      "saldo_natural\n",
      "0     49\n",
      "1    254\n",
      "2      5\n",
      "Name: count, dtype: int64\n",
      "File saved to csv_files/5_Saldo_Natural.csv\n"
     ]
    }
   ],
   "source": [
    "clustered_df = aplicar_kmeans(df_saldo_natural, 3, nome_cluster='saldo_natural')\n",
    "save_clustered_df_to_csv(clustered_df, \"csv_files/\", \"5_Saldo_Natural.csv\")"
   ]
  },
  {
   "cell_type": "markdown",
   "id": "3425cc2e",
   "metadata": {},
   "source": [
    "### Análise Taxa de Crescimento"
   ]
  },
  {
   "cell_type": "code",
   "execution_count": 16,
   "id": "ae25407e",
   "metadata": {},
   "outputs": [
    {
     "name": "stdout",
     "output_type": "stream",
     "text": [
      "File saved to csv_bruto/5_Taxa_crescimento.csv\n"
     ]
    },
    {
     "data": {
      "text/html": [
       "<div>\n",
       "<style scoped>\n",
       "    .dataframe tbody tr th:only-of-type {\n",
       "        vertical-align: middle;\n",
       "    }\n",
       "\n",
       "    .dataframe tbody tr th {\n",
       "        vertical-align: top;\n",
       "    }\n",
       "\n",
       "    .dataframe thead th {\n",
       "        text-align: right;\n",
       "    }\n",
       "</style>\n",
       "<table border=\"1\" class=\"dataframe\">\n",
       "  <thead>\n",
       "    <tr style=\"text-align: right;\">\n",
       "      <th></th>\n",
       "      <th>local</th>\n",
       "      <th>codigo</th>\n",
       "      <th>Taxa de crescimento efetivo</th>\n",
       "    </tr>\n",
       "  </thead>\n",
       "  <tbody>\n",
       "    <tr>\n",
       "      <th>4</th>\n",
       "      <td>Arcos de Valdevez</td>\n",
       "      <td>1111601</td>\n",
       "      <td>0.70</td>\n",
       "    </tr>\n",
       "    <tr>\n",
       "      <th>5</th>\n",
       "      <td>Caminha</td>\n",
       "      <td>1111602</td>\n",
       "      <td>1.45</td>\n",
       "    </tr>\n",
       "    <tr>\n",
       "      <th>6</th>\n",
       "      <td>Melgaço</td>\n",
       "      <td>1111603</td>\n",
       "      <td>-0.21</td>\n",
       "    </tr>\n",
       "    <tr>\n",
       "      <th>7</th>\n",
       "      <td>Monção</td>\n",
       "      <td>1111604</td>\n",
       "      <td>0.65</td>\n",
       "    </tr>\n",
       "    <tr>\n",
       "      <th>8</th>\n",
       "      <td>Paredes de Coura</td>\n",
       "      <td>1111605</td>\n",
       "      <td>0.38</td>\n",
       "    </tr>\n",
       "    <tr>\n",
       "      <th>...</th>\n",
       "      <td>...</td>\n",
       "      <td>...</td>\n",
       "      <td>...</td>\n",
       "    </tr>\n",
       "    <tr>\n",
       "      <th>339</th>\n",
       "      <td>Porto Santo</td>\n",
       "      <td>3003201</td>\n",
       "      <td>3.70</td>\n",
       "    </tr>\n",
       "    <tr>\n",
       "      <th>340</th>\n",
       "      <td>Ribeira Brava</td>\n",
       "      <td>3003107</td>\n",
       "      <td>1.67</td>\n",
       "    </tr>\n",
       "    <tr>\n",
       "      <th>341</th>\n",
       "      <td>Santa Cruz</td>\n",
       "      <td>3003108</td>\n",
       "      <td>1.47</td>\n",
       "    </tr>\n",
       "    <tr>\n",
       "      <th>342</th>\n",
       "      <td>Santana</td>\n",
       "      <td>3003109</td>\n",
       "      <td>0.48</td>\n",
       "    </tr>\n",
       "    <tr>\n",
       "      <th>343</th>\n",
       "      <td>São Vicente</td>\n",
       "      <td>3003110</td>\n",
       "      <td>2.13</td>\n",
       "    </tr>\n",
       "  </tbody>\n",
       "</table>\n",
       "<p>308 rows × 3 columns</p>\n",
       "</div>"
      ],
      "text/plain": [
       "                 local   codigo  Taxa de crescimento efetivo\n",
       "4    Arcos de Valdevez  1111601                         0.70\n",
       "5              Caminha  1111602                         1.45\n",
       "6              Melgaço  1111603                        -0.21\n",
       "7               Monção  1111604                         0.65\n",
       "8     Paredes de Coura  1111605                         0.38\n",
       "..                 ...      ...                          ...\n",
       "339        Porto Santo  3003201                         3.70\n",
       "340      Ribeira Brava  3003107                         1.67\n",
       "341         Santa Cruz  3003108                         1.47\n",
       "342            Santana  3003109                         0.48\n",
       "343        São Vicente  3003110                         2.13\n",
       "\n",
       "[308 rows x 3 columns]"
      ]
     },
     "execution_count": 16,
     "metadata": {},
     "output_type": "execute_result"
    }
   ],
   "source": [
    "df_taxa_crescimento = processar_ficheiro(data_path+'Taxa de crescimento efetivo.xls', 0)\n",
    "df_taxa_crescimento = carregar_municipios(df_taxa_crescimento)\n",
    "save_clustered_df_to_csv(df_taxa_crescimento, \"csv_bruto/\", \"5_Taxa_crescimento.csv\")\n",
    "df_taxa_crescimento"
   ]
  },
  {
   "cell_type": "code",
   "execution_count": 17,
   "id": "0af604bd",
   "metadata": {},
   "outputs": [
    {
     "data": {
      "image/png": "[encoded data removed]",
      "text/plain": [
       "<Figure size 800x500 with 1 Axes>"
      ]
     },
     "metadata": {},
     "output_type": "display_data"
    }
   ],
   "source": [
    "elbow_rule(df_taxa_crescimento, max_k=10)"
   ]
  },
  {
   "cell_type": "code",
   "execution_count": 18,
   "id": "6a284a30",
   "metadata": {},
   "outputs": [
    {
     "data": {
      "application/vnd.plotly.v1+json": {
       "config": {
        "plotlyServerURL": "https://plot.ly"
       },
       "data": [
        {
         "customdata": [
          [
           "Arcos de Valdevez",
           "1111601",
           0.7
          ],
          [
           "Caminha",
           "1111602",
           1.45
          ],
          [
           "Melgaço",
           "1111603",
           -0.21
          ],
          [
           "Monção",
           "1111604",
           0.65
          ],
          [
           "Paredes de Coura",
           "1111605",
           0.38
          ],
          [
           "Ponte da Barca",
           "1111606",
           0.66
          ],
          [
           "Ponte de Lima",
           "1111607",
           0.16
          ],
          [
           "Valença",
           "1111608",
           1.62
          ],
          [
           "Viana do Castelo",
           "1111609",
           0.61
          ],
          [
           "Vila Nova de Cerveira",
           "1111610",
           1.47
          ],
          [
           "Amares",
           "1120301",
           1.86
          ],
          [
           "Barcelos",
           "1120302",
           0.27
          ],
          [
           "Braga",
           "1120303",
           1.66
          ],
          [
           "Esposende",
           "1120306",
           1.81
          ],
          [
           "Terras de Bouro",
           "1120310",
           0.34
          ],
          [
           "Vila Verde",
           "1120313",
           1.31
          ],
          [
           "Cabeceiras de Basto",
           "1190304",
           0.33
          ],
          [
           "Fafe",
           "1190307",
           0.34
          ],
          [
           "Guimarães",
           "1190308",
           0.19
          ],
          [
           "Mondim de Basto",
           "1191705",
           -0.06
          ],
          [
           "Póvoa de Lanhoso",
           "1190309",
           1.32
          ],
          [
           "Vieira do Minho",
           "1190311",
           0.72
          ],
          [
           "Vila Nova de Famalicão",
           "1190312",
           0.68
          ],
          [
           "Vizela",
           "1190314",
           0.95
          ],
          [
           "Arouca",
           "11A0104",
           -0.12
          ],
          [
           "Espinho",
           "11A0107",
           1.58
          ],
          [
           "Gondomar",
           "11A1304",
           0.79
          ],
          [
           "Maia",
           "11A1306",
           1.6
          ],
          [
           "Matosinhos",
           "11A1308",
           1.35
          ],
          [
           "Oliveira de Azeméis",
           "11A0113",
           0.61
          ],
          [
           "Paredes",
           "11A1310",
           0.74
          ],
          [
           "Porto",
           "11A1312",
           2.34
          ],
          [
           "Póvoa de Varzim",
           "11A1313",
           1.89
          ],
          [
           "Santa Maria da Feira",
           "11A0109",
           0.92
          ],
          [
           "Santo Tirso",
           "11A1314",
           0.18
          ],
          [
           "São João da Madeira",
           "11A0116",
           2.18
          ],
          [
           "Trofa",
           "11A1318",
           1.05
          ],
          [
           "Vale de Cambra",
           "11A0119",
           0.03
          ],
          [
           "Valongo",
           "11A1315",
           1.77
          ],
          [
           "Vila do Conde",
           "11A1316",
           1.59
          ],
          [
           "Vila Nova de Gaia",
           "11A1317",
           0.87
          ],
          [
           "Boticas",
           "11B1702",
           -0.29
          ],
          [
           "Chaves",
           "11B1703",
           0.25
          ],
          [
           "Montalegre",
           "11B1706",
           0.03
          ],
          [
           "Ribeira de Pena",
           "11B1709",
           0.43
          ],
          [
           "Valpaços",
           "11B1712",
           0.23
          ],
          [
           "Vila Pouca de Aguiar",
           "11B1713",
           0.16
          ],
          [
           "Amarante",
           "11C1301",
           0.31
          ],
          [
           "Baião",
           "11C1302",
           -0.45
          ],
          [
           "Castelo de Paiva",
           "11C0106",
           0.36
          ],
          [
           "Celorico de Basto",
           "11C0305",
           0.45
          ],
          [
           "Cinfães",
           "11C1804",
           -0.73
          ],
          [
           "Felgueiras",
           "11C1303",
           0.02
          ],
          [
           "Lousada",
           "11C1305",
           0.79
          ],
          [
           "Marco de Canaveses",
           "11C1307",
           0.23
          ],
          [
           "Paços de Ferreira",
           "11C1309",
           0.18
          ],
          [
           "Penafiel",
           "11C1311",
           0.46
          ],
          [
           "Resende",
           "11C1813",
           -1
          ],
          [
           "Alijó",
           "11D1701",
           -0.37
          ],
          [
           "Armamar",
           "11D1801",
           -0.76
          ],
          [
           "Carrazeda de Ansiães",
           "11D0403",
           -0.11
          ],
          [
           "Freixo de Espada à Cinta",
           "11D0404",
           -1.01
          ],
          [
           "Lamego",
           "11D1805",
           -0.14
          ],
          [
           "Mesão Frio",
           "11D1704",
           -0.83
          ],
          [
           "Moimenta da Beira",
           "11D1807",
           1.21
          ],
          [
           "Murça",
           "11D1707",
           0.63
          ],
          [
           "Penedono",
           "11D1812",
           0.46
          ],
          [
           "Peso da Régua",
           "11D1708",
           -0.17
          ],
          [
           "Sabrosa",
           "11D1710",
           0.64
          ],
          [
           "Santa Marta de Penaguião",
           "11D1711",
           -0.17
          ],
          [
           "São João da Pesqueira",
           "11D1815",
           -0.06
          ],
          [
           "Sernancelhe",
           "11D1818",
           0.95
          ],
          [
           "Tabuaço",
           "11D1819",
           0.18
          ],
          [
           "Tarouca",
           "11D1820",
           1.82
          ],
          [
           "Torre de Moncorvo",
           "11D0409",
           -0.09
          ],
          [
           "Vila Nova de Foz Côa",
           "11D0914",
           0.8
          ],
          [
           "Vila Real",
           "11D1714",
           0.53
          ],
          [
           "Alfândega da Fé",
           "11E0401",
           -0.54
          ],
          [
           "Bragança",
           "11E0402",
           1.1
          ],
          [
           "Macedo de Cavaleiros",
           "11E0405",
           0.54
          ],
          [
           "Miranda do Douro",
           "11E0406",
           -0.87
          ],
          [
           "Mirandela",
           "11E0407",
           0.32
          ],
          [
           "Mogadouro",
           "11E0408",
           -0.28
          ],
          [
           "Vila Flor",
           "11E0410",
           0.18
          ],
          [
           "Vimioso",
           "11E0411",
           0.7
          ],
          [
           "Vinhais",
           "11E0412",
           -0.84
          ],
          [
           "Alcobaça",
           "16B1001",
           1.79
          ],
          [
           "Alenquer",
           "16B1101",
           2.94
          ],
          [
           "Arruda dos Vinhos",
           "16B1102",
           2.72
          ],
          [
           "Bombarral",
           "16B1005",
           3.2
          ],
          [
           "Cadaval",
           "16B1104",
           2.58
          ],
          [
           "Caldas da Rainha",
           "16B1006",
           2.63
          ],
          [
           "Lourinhã",
           "16B1108",
           2.55
          ],
          [
           "Nazaré",
           "16B1011",
           2.23
          ],
          [
           "Óbidos",
           "16B1012",
           3.58
          ],
          [
           "Peniche",
           "16B1014",
           1.5
          ],
          [
           "Sobral de Monte Agraço",
           "16B1112",
           3.52
          ],
          [
           "Torres Vedras",
           "16B1113",
           2.2
          ],
          [
           "Águeda",
           "16D0101",
           1.19
          ],
          [
           "Albergaria-a-Velha",
           "16D0102",
           1.78
          ],
          [
           "Anadia",
           "16D0103",
           1.17
          ],
          [
           "Aveiro",
           "16D0105",
           2.63
          ],
          [
           "Estarreja",
           "16D0108",
           1.64
          ],
          [
           "Ílhavo",
           "16D0110",
           2.87
          ],
          [
           "Murtosa",
           "16D0112",
           2.88
          ],
          [
           "Oliveira do Bairro",
           "16D0114",
           3.27
          ],
          [
           "Ovar",
           "16D0115",
           1.51
          ],
          [
           "Sever do Vouga",
           "16D0117",
           0.27
          ],
          [
           "Vagos",
           "16D0118",
           3.01
          ],
          [
           "Arganil",
           "16E0601",
           1.53
          ],
          [
           "Cantanhede",
           "16E0602",
           1.36
          ],
          [
           "Coimbra",
           "16E0603",
           1.4
          ],
          [
           "Condeixa-a-Nova",
           "16E0604",
           2.02
          ],
          [
           "Figueira da Foz",
           "16E0605",
           1.41
          ],
          [
           "Góis",
           "16E0606",
           0.71
          ],
          [
           "Lousã",
           "16E0607",
           1.17
          ],
          [
           "Mealhada",
           "16E0111",
           0.83
          ],
          [
           "Mira",
           "16E0608",
           1.87
          ],
          [
           "Miranda do Corvo",
           "16E0609",
           0.71
          ],
          [
           "Montemor-o-Velho",
           "16E0610",
           0.68
          ],
          [
           "Mortágua",
           "16E1808",
           1.27
          ],
          [
           "Oliveira do Hospital",
           "16E0611",
           0.78
          ],
          [
           "Pampilhosa da Serra",
           "16E0612",
           1.56
          ],
          [
           "Penacova",
           "16E0613",
           0.24
          ],
          [
           "Penela",
           "16E0614",
           1.36
          ],
          [
           "Soure",
           "16E0615",
           0.52
          ],
          [
           "Tábua",
           "16E0616",
           1.67
          ],
          [
           "Vila Nova de Poiares",
           "16E0617",
           1.2
          ],
          [
           "Alvaiázere",
           "16F1002",
           1.03
          ],
          [
           "Ansião",
           "16F1003",
           1.36
          ],
          [
           "Batalha",
           "16F1004",
           2.64
          ],
          [
           "Castanheira de Pêra",
           "16F1007",
           1.04
          ],
          [
           "Figueiró dos Vinhos",
           "16F1008",
           1.09
          ],
          [
           "Leiria",
           "16F1009",
           1.78
          ],
          [
           "Marinha Grande",
           "16F1010",
           2.15
          ],
          [
           "Pedrógão Grande",
           "16F1013",
           2.85
          ],
          [
           "Pombal",
           "16F1015",
           1.3
          ],
          [
           "Porto de Mós",
           "16F1016",
           1.39
          ],
          [
           "Aguiar da Beira",
           "16G0901",
           0.34
          ],
          [
           "Carregal do Sal",
           "16G1802",
           1.08
          ],
          [
           "Castro Daire",
           "16G1803",
           0.8
          ],
          [
           "Mangualde",
           "16G1806",
           1.42
          ],
          [
           "Nelas",
           "16G1809",
           1.27
          ],
          [
           "Oliveira de Frades",
           "16G1810",
           1.44
          ],
          [
           "Penalva do Castelo",
           "16G1811",
           0.85
          ],
          [
           "Santa Comba Dão",
           "16G1814",
           1.11
          ],
          [
           "São Pedro do Sul",
           "16G1816",
           0.87
          ],
          [
           "Sátão",
           "16G1817",
           0.92
          ],
          [
           "Tondela",
           "16G1821",
           0.67
          ],
          [
           "Vila Nova de Paiva",
           "16G1822",
           1.33
          ],
          [
           "Viseu",
           "16G1823",
           1.59
          ],
          [
           "Vouzela",
           "16G1824",
           1.16
          ],
          [
           "Castelo Branco",
           "16H0502",
           0.78
          ],
          [
           "Idanha-a-Nova",
           "16H0505",
           1.02
          ],
          [
           "Oleiros",
           "16H0506",
           0.18
          ],
          [
           "Penamacor",
           "16H0507",
           1.03
          ],
          [
           "Proença-a-Nova",
           "16H0508",
           -0.17
          ],
          [
           "Vila Velha de Ródão",
           "16H0511",
           1.37
          ],
          [
           "Abrantes",
           "16I1401",
           -0.14
          ],
          [
           "Alcanena",
           "16I1402",
           1.07
          ],
          [
           "Constância",
           "16I1408",
           2.07
          ],
          [
           "Entroncamento",
           "16I1410",
           2.95
          ],
          [
           "Ferreira do Zêzere",
           "16I1411",
           1.52
          ],
          [
           "Mação",
           "16I1413",
           0.23
          ],
          [
           "Ourém",
           "16I1421",
           1.77
          ],
          [
           "Sardoal",
           "16I1417",
           1.5
          ],
          [
           "Sertã",
           "16I0509",
           0.23
          ],
          [
           "Tomar",
           "16I1418",
           1.1
          ],
          [
           "Torres Novas",
           "16I1419",
           0.92
          ],
          [
           "Vila de Rei",
           "16I0510",
           1.11
          ],
          [
           "Vila Nova da Barquinha",
           "16I1420",
           3.69
          ],
          [
           "Almeida",
           "16J0902",
           -0.37
          ],
          [
           "Belmonte",
           "16J0501",
           0.61
          ],
          [
           "Celorico da Beira",
           "16J0903",
           1.02
          ],
          [
           "Covilhã",
           "16J0503",
           0.64
          ],
          [
           "Figueira de Castelo Rodrigo",
           "16J0904",
           -0.42
          ],
          [
           "Fornos de Algodres",
           "16J0905",
           0.23
          ],
          [
           "Fundão",
           "16J0504",
           1.31
          ],
          [
           "Gouveia",
           "16J0906",
           0.88
          ],
          [
           "Guarda",
           "16J0907",
           0.3
          ],
          [
           "Manteigas",
           "16J0908",
           0.2
          ],
          [
           "Mêda",
           "16J0909",
           -0.09
          ],
          [
           "Pinhel",
           "16J0910",
           -0.61
          ],
          [
           "Sabugal",
           "16J0911",
           0.54
          ],
          [
           "Seia",
           "16J0912",
           0
          ],
          [
           "Trancoso",
           "16J0913",
           0.29
          ],
          [
           "Alcochete",
           "1701502",
           1.39
          ],
          [
           "Almada",
           "1701503",
           1.03
          ],
          [
           "Amadora",
           "1701115",
           1.78
          ],
          [
           "Barreiro",
           "1701504",
           1.21
          ],
          [
           "Cascais",
           "1701105",
           1.1
          ],
          [
           "Lisboa",
           "1701106",
           1.71
          ],
          [
           "Loures",
           "1701107",
           1.29
          ],
          [
           "Mafra",
           "1701109",
           0.87
          ],
          [
           "Moita",
           "1701506",
           1.61
          ],
          [
           "Montijo",
           "1701507",
           1.97
          ],
          [
           "Odivelas",
           "1701116",
           1.68
          ],
          [
           "Oeiras",
           "1701110",
           1.05
          ],
          [
           "Palmela",
           "1701508",
           1.78
          ],
          [
           "Seixal",
           "1701510",
           1.72
          ],
          [
           "Sesimbra",
           "1701511",
           1.62
          ],
          [
           "Setúbal",
           "1701512",
           0.23
          ],
          [
           "Sintra",
           "1701111",
           1.24
          ],
          [
           "Vila Franca de Xira",
           "1701114",
           0.71
          ],
          [
           "Alcácer do Sal",
           "1811501",
           0.23
          ],
          [
           "Grândola",
           "1811505",
           1.15
          ],
          [
           "Odemira",
           "1810211",
           3.66
          ],
          [
           "Santiago do Cacém",
           "1811509",
           0.43
          ],
          [
           "Sines",
           "1811513",
           0.86
          ],
          [
           "Aljustrel",
           "1840201",
           0.17
          ],
          [
           "Almodôvar",
           "1840202",
           0.07
          ],
          [
           "Alvito",
           "1840203",
           0.7
          ],
          [
           "Barrancos",
           "1840204",
           -1.87
          ],
          [
           "Beja",
           "1840205",
           0.66
          ],
          [
           "Castro Verde",
           "1840206",
           0.11
          ],
          [
           "Cuba",
           "1840207",
           0.52
          ],
          [
           "Ferreira do Alentejo",
           "1840208",
           0.61
          ],
          [
           "Mértola",
           "1840209",
           -0.68
          ],
          [
           "Moura",
           "1840210",
           -0.05
          ],
          [
           "Ourique",
           "1840212",
           0.21
          ],
          [
           "Serpa",
           "1840213",
           -0.1
          ],
          [
           "Vidigueira",
           "1840214",
           -0.23
          ],
          [
           "Almeirim",
           "1851403",
           1.01
          ],
          [
           "Alpiarça",
           "1851404",
           1.62
          ],
          [
           "Azambuja",
           "1851103",
           2.51
          ],
          [
           "Benavente",
           "1851405",
           2.28
          ],
          [
           "Cartaxo",
           "1851406",
           1.5
          ],
          [
           "Chamusca",
           "1851407",
           -0.34
          ],
          [
           "Coruche",
           "1851409",
           -0.05
          ],
          [
           "Golegã",
           "1851412",
           0.46
          ],
          [
           "Rio Maior",
           "1851414",
           1.64
          ],
          [
           "Salvaterra de Magos",
           "1851415",
           2.05
          ],
          [
           "Santarém",
           "1851416",
           1.11
          ],
          [
           "Alter do Chão",
           "1861201",
           0.5
          ],
          [
           "Arronches",
           "1861202",
           -0.29
          ],
          [
           "Avis",
           "1861203",
           0.47
          ],
          [
           "Campo Maior",
           "1861204",
           -0.5
          ],
          [
           "Castelo de Vide",
           "1861205",
           -0.41
          ],
          [
           "Crato",
           "1861206",
           0.4
          ],
          [
           "Elvas",
           "1861207",
           -0.2
          ],
          [
           "Fronteira",
           "1861208",
           1.12
          ],
          [
           "Gavião",
           "1861209",
           -1.11
          ],
          [
           "Marvão",
           "1861210",
           -0.43
          ],
          [
           "Monforte",
           "1861211",
           0.9
          ],
          [
           "Nisa",
           "1861212",
           -0.68
          ],
          [
           "Ponte de Sor",
           "1861213",
           -0.06
          ],
          [
           "Portalegre",
           "1861214",
           -0.63
          ],
          [
           "Sousel",
           "1861215",
           0.16
          ],
          [
           "Alandroal",
           "1870701",
           -0.26
          ],
          [
           "Arraiolos",
           "1870702",
           0.5
          ],
          [
           "Borba",
           "1870703",
           -0.08
          ],
          [
           "Estremoz",
           "1870704",
           -0.61
          ],
          [
           "Évora",
           "1870705",
           0.28
          ],
          [
           "Montemor-o-Novo",
           "1870706",
           0.35
          ],
          [
           "Mora",
           "1870707",
           -0.53
          ],
          [
           "Mourão",
           "1870708",
           1.16
          ],
          [
           "Portel",
           "1870709",
           0.02
          ],
          [
           "Redondo",
           "1870710",
           0.41
          ],
          [
           "Reguengos de Monsaraz",
           "1870711",
           0.41
          ],
          [
           "Vendas Novas",
           "1870712",
           0.75
          ],
          [
           "Viana do Alentejo",
           "1870713",
           0.71
          ],
          [
           "Vila Viçosa",
           "1870714",
           -0.3
          ],
          [
           "Albufeira",
           "1500801",
           2.15
          ],
          [
           "Alcoutim",
           "1500802",
           -1.85
          ],
          [
           "Aljezur",
           "1500803",
           1.65
          ],
          [
           "Castro Marim",
           "1500804",
           1.61
          ],
          [
           "Faro",
           "1500805",
           0.79
          ],
          [
           "Lagoa",
           "1500806",
           1.67
          ],
          [
           "Lagos",
           "1500807",
           1.18
          ],
          [
           "Loulé",
           "1500808",
           1.11
          ],
          [
           "Monchique",
           "1500809",
           -0.75
          ],
          [
           "Olhão",
           "1500810",
           0.5
          ],
          [
           "Portimão",
           "1500811",
           1.44
          ],
          [
           "São Brás de Alportel",
           "1500812",
           0.93
          ],
          [
           "Silves",
           "1500813",
           1.38
          ],
          [
           "Tavira",
           "1500814",
           0.68
          ],
          [
           "Vila do Bispo",
           "1500815",
           0.98
          ],
          [
           "Vila Real de Santo António",
           "1500816",
           0.83
          ],
          [
           "Angra do Heroísmo",
           "2004301",
           -0.37
          ],
          [
           "Calheta",
           "2004501",
           -0.57
          ],
          [
           "Corvo",
           "2004901",
           0.23
          ],
          [
           "Horta",
           "2004701",
           0.21
          ],
          [
           "Lagoa",
           "2004201",
           1.32
          ],
          [
           "Lajes das Flores",
           "2004801",
           0.49
          ],
          [
           "Lajes do Pico",
           "2004601",
           0.41
          ],
          [
           "Madalena",
           "2004602",
           0.74
          ],
          [
           "Nordeste",
           "2004202",
           -0.05
          ],
          [
           "Ponta Delgada",
           "2004203",
           0.55
          ],
          [
           "Povoação",
           "2004204",
           -0.26
          ],
          [
           "Ribeira Grande",
           "2004205",
           0.74
          ],
          [
           "Santa Cruz da Graciosa",
           "2004401",
           -0.29
          ],
          [
           "Santa Cruz das Flores",
           "2004802",
           1.39
          ],
          [
           "São Roque do Pico",
           "2004603",
           1.57
          ],
          [
           "Velas",
           "2004502",
           0.02
          ],
          [
           "Vila da Praia da Vitória",
           "2004302",
           0.37
          ],
          [
           "Vila do Porto",
           "2004101",
           -0.13
          ],
          [
           "Vila Franca do Campo",
           "2004206",
           0.1
          ],
          [
           "Calheta",
           "3003101",
           1.69
          ],
          [
           "Câmara de Lobos",
           "3003102",
           1.12
          ],
          [
           "Funchal",
           "3003103",
           0.52
          ],
          [
           "Machico",
           "3003104",
           0.23
          ],
          [
           "Ponta do Sol",
           "3003105",
           1.98
          ],
          [
           "Porto Moniz",
           "3003106",
           1.11
          ],
          [
           "Porto Santo",
           "3003201",
           3.7
          ],
          [
           "Ribeira Brava",
           "3003107",
           1.67
          ],
          [
           "Santa Cruz",
           "3003108",
           1.47
          ],
          [
           "Santana",
           "3003109",
           0.48
          ],
          [
           "São Vicente",
           "3003110",
           2.13
          ]
         ],
         "hovertemplate": "valor=%{x}<br>y=%{y}<br>local=%{customdata[0]}<br>codigo=%{customdata[1]}<br>Taxa de crescimento efetivo=%{customdata[2]}<br>taxa_crescimento=%{marker.color}<extra></extra>",
         "legendgroup": "",
         "marker": {
          "color": {
           "bdata": "AQEAAQABAAEBAQEAAQEAAQAAAAABAQEBAAEBAQEBAQIBAQACAQABAQEAAAAAAAAAAAAAAAABAAAAAAAAAAAAAAEBAAABAAABAAEAAQAAAQAAAAAAAQABAgICAgICAgIBAgIBAQECAQICAgEAAgEBAQIBAQEBAQEBAQEBAAEAAQEBAQIBAQECAgEBAAEBAQEBAQEBAQEBAQEBAQABAAEAAQICAQABAQABAQECAAEBAQAAAQEAAAAAAAAAAQEBAQEBAQEBAgEBAQEBAAEBAAECAAEAAAEAAQAAAQAAAAAAAQECAgEAAAABAgEAAAAAAAAAAQAAAQAAAAAAAAAAAAAAAQAAAAEBAAIAAQEBAQEBAAABAQEBAQEAAAAAAQAAAQAAAAEAAQEAAAAAAQEAAAIBAgEBAAI=",
           "dtype": "i1"
          },
          "coloraxis": "coloraxis",
          "size": 10,
          "symbol": "circle"
         },
         "mode": "markers",
         "name": "",
         "orientation": "v",
         "showlegend": false,
         "type": "scatter",
         "x": {
          "bdata": "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",
          "dtype": "f8"
         },
         "xaxis": "x",
         "y": {
          "bdata": "AAAAAAAAAAAAAAAAAAAAAAAAAAAAAAAAAAAAAAAAAAAAAAAAAAAAAAAAAAAAAAAAAAAAAAAAAAAAAAAAAAAAAAAAAAAAAAAAAAAAAAAAAAAAAAAAAAAAAAAAAAAAAAAAAAAAAAAAAAAAAAAAAAAAAAAAAAAAAAAAAAAAAAAAAAAAAAAAAAAAAAAAAAAAAAAAAAAAAAAAAAAAAAAAAAAAAAAAAAAAAAAAAAAAAAAAAAAAAAAAAAAAAAAAAAAAAAAAAAAAAAAAAAAAAAAAAAAAAAAAAAAAAAAAAAAAAAAAAAAAAAAAAAAAAAAAAAAAAAAAAAAAAAAAAAAAAAAAAAAAAAAAAAAAAAAAAAAAAAAAAAAAAAAAAAAAAAAAAAAAAAAAAAAAAAAAAAAAAAAAAAAAAAAAAAA=",
          "dtype": "i1"
         },
         "yaxis": "y"
        }
       ],
       "layout": {
        "coloraxis": {
         "colorbar": {
          "title": {
           "text": "taxa_crescimento"
          }
         },
         "colorscale": [
          [
           0,
           "#440154"
          ],
          [
           0.1111111111111111,
           "#482878"
          ],
          [
           0.2222222222222222,
           "#3e4989"
          ],
          [
           0.3333333333333333,
           "#31688e"
          ],
          [
           0.4444444444444444,
           "#26828e"
          ],
          [
           0.5555555555555556,
           "#1f9e89"
          ],
          [
           0.6666666666666666,
           "#35b779"
          ],
          [
           0.7777777777777778,
           "#6ece58"
          ],
          [
           0.8888888888888888,
           "#b5de2b"
          ],
          [
           1,
           "#fde725"
          ]
         ]
        },
        "height": 300,
        "legend": {
         "tracegroupgap": 0
        },
        "margin": {
         "t": 60
        },
        "template": {
         "data": {
          "bar": [
           {
            "error_x": {
             "color": "#2a3f5f"
            },
            "error_y": {
             "color": "#2a3f5f"
            },
            "marker": {
             "line": {
              "color": "#E5ECF6",
              "width": 0.5
             },
             "pattern": {
              "fillmode": "overlay",
              "size": 10,
              "solidity": 0.2
             }
            },
            "type": "bar"
           }
          ],
          "barpolar": [
           {
            "marker": {
             "line": {
              "color": "#E5ECF6",
              "width": 0.5
             },
             "pattern": {
              "fillmode": "overlay",
              "size": 10,
              "solidity": 0.2
             }
            },
            "type": "barpolar"
           }
          ],
          "carpet": [
           {
            "aaxis": {
             "endlinecolor": "#2a3f5f",
             "gridcolor": "white",
             "linecolor": "white",
             "minorgridcolor": "white",
             "startlinecolor": "#2a3f5f"
            },
            "baxis": {
             "endlinecolor": "#2a3f5f",
             "gridcolor": "white",
             "linecolor": "white",
             "minorgridcolor": "white",
             "startlinecolor": "#2a3f5f"
            },
            "type": "carpet"
           }
          ],
          "choropleth": [
           {
            "colorbar": {
             "outlinewidth": 0,
             "ticks": ""
            },
            "type": "choropleth"
           }
          ],
          "contour": [
           {
            "colorbar": {
             "outlinewidth": 0,
             "ticks": ""
            },
            "colorscale": [
             [
              0,
              "#0d0887"
             ],
             [
              0.1111111111111111,
              "#46039f"
             ],
             [
              0.2222222222222222,
              "#7201a8"
             ],
             [
              0.3333333333333333,
              "#9c179e"
             ],
             [
              0.4444444444444444,
              "#bd3786"
             ],
             [
              0.5555555555555556,
              "#d8576b"
             ],
             [
              0.6666666666666666,
              "#ed7953"
             ],
             [
              0.7777777777777778,
              "#fb9f3a"
             ],
             [
              0.8888888888888888,
              "#fdca26"
             ],
             [
              1,
              "#f0f921"
             ]
            ],
            "type": "contour"
           }
          ],
          "contourcarpet": [
           {
            "colorbar": {
             "outlinewidth": 0,
             "ticks": ""
            },
            "type": "contourcarpet"
           }
          ],
          "heatmap": [
           {
            "colorbar": {
             "outlinewidth": 0,
             "ticks": ""
            },
            "colorscale": [
             [
              0,
              "#0d0887"
             ],
             [
              0.1111111111111111,
              "#46039f"
             ],
             [
              0.2222222222222222,
              "#7201a8"
             ],
             [
              0.3333333333333333,
              "#9c179e"
             ],
             [
              0.4444444444444444,
              "#bd3786"
             ],
             [
              0.5555555555555556,
              "#d8576b"
             ],
             [
              0.6666666666666666,
              "#ed7953"
             ],
             [
              0.7777777777777778,
              "#fb9f3a"
             ],
             [
              0.8888888888888888,
              "#fdca26"
             ],
             [
              1,
              "#f0f921"
             ]
            ],
            "type": "heatmap"
           }
          ],
          "histogram": [
           {
            "marker": {
             "pattern": {
              "fillmode": "overlay",
              "size": 10,
              "solidity": 0.2
             }
            },
            "type": "histogram"
           }
          ],
          "histogram2d": [
           {
            "colorbar": {
             "outlinewidth": 0,
             "ticks": ""
            },
            "colorscale": [
             [
              0,
              "#0d0887"
             ],
             [
              0.1111111111111111,
              "#46039f"
             ],
             [
              0.2222222222222222,
              "#7201a8"
             ],
             [
              0.3333333333333333,
              "#9c179e"
             ],
             [
              0.4444444444444444,
              "#bd3786"
             ],
             [
              0.5555555555555556,
              "#d8576b"
             ],
             [
              0.6666666666666666,
              "#ed7953"
             ],
             [
              0.7777777777777778,
              "#fb9f3a"
             ],
             [
              0.8888888888888888,
              "#fdca26"
             ],
             [
              1,
              "#f0f921"
             ]
            ],
            "type": "histogram2d"
           }
          ],
          "histogram2dcontour": [
           {
            "colorbar": {
             "outlinewidth": 0,
             "ticks": ""
            },
            "colorscale": [
             [
              0,
              "#0d0887"
             ],
             [
              0.1111111111111111,
              "#46039f"
             ],
             [
              0.2222222222222222,
              "#7201a8"
             ],
             [
              0.3333333333333333,
              "#9c179e"
             ],
             [
              0.4444444444444444,
              "#bd3786"
             ],
             [
              0.5555555555555556,
              "#d8576b"
             ],
             [
              0.6666666666666666,
              "#ed7953"
             ],
             [
              0.7777777777777778,
              "#fb9f3a"
             ],
             [
              0.8888888888888888,
              "#fdca26"
             ],
             [
              1,
              "#f0f921"
             ]
            ],
            "type": "histogram2dcontour"
           }
          ],
          "mesh3d": [
           {
            "colorbar": {
             "outlinewidth": 0,
             "ticks": ""
            },
            "type": "mesh3d"
           }
          ],
          "parcoords": [
           {
            "line": {
             "colorbar": {
              "outlinewidth": 0,
              "ticks": ""
             }
            },
            "type": "parcoords"
           }
          ],
          "pie": [
           {
            "automargin": true,
            "type": "pie"
           }
          ],
          "scatter": [
           {
            "fillpattern": {
             "fillmode": "overlay",
             "size": 10,
             "solidity": 0.2
            },
            "type": "scatter"
           }
          ],
          "scatter3d": [
           {
            "line": {
             "colorbar": {
              "outlinewidth": 0,
              "ticks": ""
             }
            },
            "marker": {
             "colorbar": {
              "outlinewidth": 0,
              "ticks": ""
             }
            },
            "type": "scatter3d"
           }
          ],
          "scattercarpet": [
           {
            "marker": {
             "colorbar": {
              "outlinewidth": 0,
              "ticks": ""
             }
            },
            "type": "scattercarpet"
           }
          ],
          "scattergeo": [
           {
            "marker": {
             "colorbar": {
              "outlinewidth": 0,
              "ticks": ""
             }
            },
            "type": "scattergeo"
           }
          ],
          "scattergl": [
           {
            "marker": {
             "colorbar": {
              "outlinewidth": 0,
              "ticks": ""
             }
            },
            "type": "scattergl"
           }
          ],
          "scattermap": [
           {
            "marker": {
             "colorbar": {
              "outlinewidth": 0,
              "ticks": ""
             }
            },
            "type": "scattermap"
           }
          ],
          "scattermapbox": [
           {
            "marker": {
             "colorbar": {
              "outlinewidth": 0,
              "ticks": ""
             }
            },
            "type": "scattermapbox"
           }
          ],
          "scatterpolar": [
           {
            "marker": {
             "colorbar": {
              "outlinewidth": 0,
              "ticks": ""
             }
            },
            "type": "scatterpolar"
           }
          ],
          "scatterpolargl": [
           {
            "marker": {
             "colorbar": {
              "outlinewidth": 0,
              "ticks": ""
             }
            },
            "type": "scatterpolargl"
           }
          ],
          "scatterternary": [
           {
            "marker": {
             "colorbar": {
              "outlinewidth": 0,
              "ticks": ""
             }
            },
            "type": "scatterternary"
           }
          ],
          "surface": [
           {
            "colorbar": {
             "outlinewidth": 0,
             "ticks": ""
            },
            "colorscale": [
             [
              0,
              "#0d0887"
             ],
             [
              0.1111111111111111,
              "#46039f"
             ],
             [
              0.2222222222222222,
              "#7201a8"
             ],
             [
              0.3333333333333333,
              "#9c179e"
             ],
             [
              0.4444444444444444,
              "#bd3786"
             ],
             [
              0.5555555555555556,
              "#d8576b"
             ],
             [
              0.6666666666666666,
              "#ed7953"
             ],
             [
              0.7777777777777778,
              "#fb9f3a"
             ],
             [
              0.8888888888888888,
              "#fdca26"
             ],
             [
              1,
              "#f0f921"
             ]
            ],
            "type": "surface"
           }
          ],
          "table": [
           {
            "cells": {
             "fill": {
              "color": "#EBF0F8"
             },
             "line": {
              "color": "white"
             }
            },
            "header": {
             "fill": {
              "color": "#C8D4E3"
             },
             "line": {
              "color": "white"
             }
            },
            "type": "table"
           }
          ]
         },
         "layout": {
          "annotationdefaults": {
           "arrowcolor": "#2a3f5f",
           "arrowhead": 0,
           "arrowwidth": 1
          },
          "autotypenumbers": "strict",
          "coloraxis": {
           "colorbar": {
            "outlinewidth": 0,
            "ticks": ""
           }
          },
          "colorscale": {
           "diverging": [
            [
             0,
             "#8e0152"
            ],
            [
             0.1,
             "#c51b7d"
            ],
            [
             0.2,
             "#de77ae"
            ],
            [
             0.3,
             "#f1b6da"
            ],
            [
             0.4,
             "#fde0ef"
            ],
            [
             0.5,
             "#f7f7f7"
            ],
            [
             0.6,
             "#e6f5d0"
            ],
            [
             0.7,
             "#b8e186"
            ],
            [
             0.8,
             "#7fbc41"
            ],
            [
             0.9,
             "#4d9221"
            ],
            [
             1,
             "#276419"
            ]
           ],
           "sequential": [
            [
             0,
             "#0d0887"
            ],
            [
             0.1111111111111111,
             "#46039f"
            ],
            [
             0.2222222222222222,
             "#7201a8"
            ],
            [
             0.3333333333333333,
             "#9c179e"
            ],
            [
             0.4444444444444444,
             "#bd3786"
            ],
            [
             0.5555555555555556,
             "#d8576b"
            ],
            [
             0.6666666666666666,
             "#ed7953"
            ],
            [
             0.7777777777777778,
             "#fb9f3a"
            ],
            [
             0.8888888888888888,
             "#fdca26"
            ],
            [
             1,
             "#f0f921"
            ]
           ],
           "sequentialminus": [
            [
             0,
             "#0d0887"
            ],
            [
             0.1111111111111111,
             "#46039f"
            ],
            [
             0.2222222222222222,
             "#7201a8"
            ],
            [
             0.3333333333333333,
             "#9c179e"
            ],
            [
             0.4444444444444444,
             "#bd3786"
            ],
            [
             0.5555555555555556,
             "#d8576b"
            ],
            [
             0.6666666666666666,
             "#ed7953"
            ],
            [
             0.7777777777777778,
             "#fb9f3a"
            ],
            [
             0.8888888888888888,
             "#fdca26"
            ],
            [
             1,
             "#f0f921"
            ]
           ]
          },
          "colorway": [
           "#636efa",
           "#EF553B",
           "#00cc96",
           "#ab63fa",
           "#FFA15A",
           "#19d3f3",
           "#FF6692",
           "#B6E880",
           "#FF97FF",
           "#FECB52"
          ],
          "font": {
           "color": "#2a3f5f"
          },
          "geo": {
           "bgcolor": "white",
           "lakecolor": "white",
           "landcolor": "#E5ECF6",
           "showlakes": true,
           "showland": true,
           "subunitcolor": "white"
          },
          "hoverlabel": {
           "align": "left"
          },
          "hovermode": "closest",
          "mapbox": {
           "style": "light"
          },
          "paper_bgcolor": "white",
          "plot_bgcolor": "#E5ECF6",
          "polar": {
           "angularaxis": {
            "gridcolor": "white",
            "linecolor": "white",
            "ticks": ""
           },
           "bgcolor": "#E5ECF6",
           "radialaxis": {
            "gridcolor": "white",
            "linecolor": "white",
            "ticks": ""
           }
          },
          "scene": {
           "xaxis": {
            "backgroundcolor": "#E5ECF6",
            "gridcolor": "white",
            "gridwidth": 2,
            "linecolor": "white",
            "showbackground": true,
            "ticks": "",
            "zerolinecolor": "white"
           },
           "yaxis": {
            "backgroundcolor": "#E5ECF6",
            "gridcolor": "white",
            "gridwidth": 2,
            "linecolor": "white",
            "showbackground": true,
            "ticks": "",
            "zerolinecolor": "white"
           },
           "zaxis": {
            "backgroundcolor": "#E5ECF6",
            "gridcolor": "white",
            "gridwidth": 2,
            "linecolor": "white",
            "showbackground": true,
            "ticks": "",
            "zerolinecolor": "white"
           }
          },
          "shapedefaults": {
           "line": {
            "color": "#2a3f5f"
           }
          },
          "ternary": {
           "aaxis": {
            "gridcolor": "white",
            "linecolor": "white",
            "ticks": ""
           },
           "baxis": {
            "gridcolor": "white",
            "linecolor": "white",
            "ticks": ""
           },
           "bgcolor": "#E5ECF6",
           "caxis": {
            "gridcolor": "white",
            "linecolor": "white",
            "ticks": ""
           }
          },
          "title": {
           "x": 0.05
          },
          "xaxis": {
           "automargin": true,
           "gridcolor": "white",
           "linecolor": "white",
           "ticks": "",
           "title": {
            "standoff": 15
           },
           "zerolinecolor": "white",
           "zerolinewidth": 2
          },
          "yaxis": {
           "automargin": true,
           "gridcolor": "white",
           "linecolor": "white",
           "ticks": "",
           "title": {
            "standoff": 15
           },
           "zerolinecolor": "white",
           "zerolinewidth": 2
          }
         }
        },
        "xaxis": {
         "anchor": "y",
         "domain": [
          0,
          1
         ],
         "title": {
          "text": "Taxa de crescimento efetivo"
         }
        },
        "yaxis": {
         "anchor": "x",
         "domain": [
          0,
          1
         ],
         "showgrid": false,
         "showticklabels": false,
         "title": {
          "text": "y"
         }
        }
       }
      }
     },
     "metadata": {},
     "output_type": "display_data"
    },
    {
     "name": "stdout",
     "output_type": "stream",
     "text": [
      "taxa_crescimento\n",
      "0    127\n",
      "1    148\n",
      "2     33\n",
      "Name: count, dtype: int64\n",
      "File saved to csv_files/5_Taxa_crescimento.csv\n"
     ]
    }
   ],
   "source": [
    "clustered_df = aplicar_kmeans(df_taxa_crescimento, 3, nome_cluster='taxa_crescimento')\n",
    "save_clustered_df_to_csv(clustered_df, \"csv_files/\", \"5_Taxa_crescimento.csv\")"
   ]
  }
 ],
 "metadata": {
  "kernelspec": {
   "display_name": "ade_venv",
   "language": "python",
   "name": "python3"
  },
  "language_info": {
   "codemirror_mode": {
    "name": "ipython",
    "version": 3
   },
   "file_extension": ".py",
   "mimetype": "text/x-python",
   "name": "python",
   "nbconvert_exporter": "python",
   "pygments_lexer": "ipython3",
   "version": "3.13.0"
  }
 },
 "nbformat": 4,
 "nbformat_minor": 5
}
