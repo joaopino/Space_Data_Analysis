{
 "cells": [
  {
   "cell_type": "markdown",
   "id": "27b50d18",
   "metadata": {},
   "source": [
    "# Análise da População"
   ]
  },
  {
   "cell_type": "code",
   "execution_count": 1,
   "id": "b6ecba96",
   "metadata": {},
   "outputs": [],
   "source": [
    "import pandas as pd\n",
    "import os\n",
    "import pandas as pd\n",
    "from sklearn.preprocessing import StandardScaler\n",
    "from sklearn.cluster import KMeans\n",
    "import plotly.express as px\n",
    "import numpy as np\n",
    "import matplotlib.pyplot as plt\n"
   ]
  },
  {
   "cell_type": "code",
   "execution_count": 2,
   "id": "e5561d0e",
   "metadata": {},
   "outputs": [],
   "source": [
    "\n",
    "from auxiliary.auxiliary_funcs import processar_ficheiro,carregar_municipios,aplicar_kmeans,elbow_rule, save_clustered_df_to_csv,filter_for_only_municipalities\n",
    "data_path ='../data/dados_municipio/População (9)/'"
   ]
  },
  {
   "cell_type": "markdown",
   "id": "4ad17dd0",
   "metadata": {},
   "source": [
    "### Análise da densidade populacional"
   ]
  },
  {
   "cell_type": "code",
   "execution_count": 3,
   "id": "6e0c99cf",
   "metadata": {},
   "outputs": [
    {
     "data": {
      "text/html": [
       "<div>\n",
       "<style scoped>\n",
       "    .dataframe tbody tr th:only-of-type {\n",
       "        vertical-align: middle;\n",
       "    }\n",
       "\n",
       "    .dataframe tbody tr th {\n",
       "        vertical-align: top;\n",
       "    }\n",
       "\n",
       "    .dataframe thead th {\n",
       "        text-align: right;\n",
       "    }\n",
       "</style>\n",
       "<table border=\"1\" class=\"dataframe\">\n",
       "  <thead>\n",
       "    <tr style=\"text-align: right;\">\n",
       "      <th></th>\n",
       "      <th>local</th>\n",
       "      <th>codigo</th>\n",
       "      <th>Densidade populacional</th>\n",
       "    </tr>\n",
       "  </thead>\n",
       "  <tbody>\n",
       "    <tr>\n",
       "      <th>4</th>\n",
       "      <td>Arcos de Valdevez</td>\n",
       "      <td>1111601</td>\n",
       "      <td>46.3</td>\n",
       "    </tr>\n",
       "    <tr>\n",
       "      <th>5</th>\n",
       "      <td>Caminha</td>\n",
       "      <td>1111602</td>\n",
       "      <td>118.7</td>\n",
       "    </tr>\n",
       "    <tr>\n",
       "      <th>6</th>\n",
       "      <td>Melgaço</td>\n",
       "      <td>1111603</td>\n",
       "      <td>32.0</td>\n",
       "    </tr>\n",
       "    <tr>\n",
       "      <th>7</th>\n",
       "      <td>Monção</td>\n",
       "      <td>1111604</td>\n",
       "      <td>84.8</td>\n",
       "    </tr>\n",
       "    <tr>\n",
       "      <th>8</th>\n",
       "      <td>Paredes de Coura</td>\n",
       "      <td>1111605</td>\n",
       "      <td>62.8</td>\n",
       "    </tr>\n",
       "    <tr>\n",
       "      <th>...</th>\n",
       "      <td>...</td>\n",
       "      <td>...</td>\n",
       "      <td>...</td>\n",
       "    </tr>\n",
       "    <tr>\n",
       "      <th>339</th>\n",
       "      <td>Porto Santo</td>\n",
       "      <td>3003201</td>\n",
       "      <td>125.6</td>\n",
       "    </tr>\n",
       "    <tr>\n",
       "      <th>340</th>\n",
       "      <td>Ribeira Brava</td>\n",
       "      <td>3003107</td>\n",
       "      <td>196.5</td>\n",
       "    </tr>\n",
       "    <tr>\n",
       "      <th>341</th>\n",
       "      <td>Santa Cruz</td>\n",
       "      <td>3003108</td>\n",
       "      <td>535.4</td>\n",
       "    </tr>\n",
       "    <tr>\n",
       "      <th>342</th>\n",
       "      <td>Santana</td>\n",
       "      <td>3003109</td>\n",
       "      <td>67.6</td>\n",
       "    </tr>\n",
       "    <tr>\n",
       "      <th>343</th>\n",
       "      <td>São Vicente</td>\n",
       "      <td>3003110</td>\n",
       "      <td>61.7</td>\n",
       "    </tr>\n",
       "  </tbody>\n",
       "</table>\n",
       "<p>308 rows × 3 columns</p>\n",
       "</div>"
      ],
      "text/plain": [
       "                 local   codigo  Densidade populacional\n",
       "4    Arcos de Valdevez  1111601                    46.3\n",
       "5              Caminha  1111602                   118.7\n",
       "6              Melgaço  1111603                    32.0\n",
       "7               Monção  1111604                    84.8\n",
       "8     Paredes de Coura  1111605                    62.8\n",
       "..                 ...      ...                     ...\n",
       "339        Porto Santo  3003201                   125.6\n",
       "340      Ribeira Brava  3003107                   196.5\n",
       "341         Santa Cruz  3003108                   535.4\n",
       "342            Santana  3003109                    67.6\n",
       "343        São Vicente  3003110                    61.7\n",
       "\n",
       "[308 rows x 3 columns]"
      ]
     },
     "execution_count": 3,
     "metadata": {},
     "output_type": "execute_result"
    }
   ],
   "source": [
    "df_densidade_pop = processar_ficheiro(data_path+'Densidade Populacional.xls',0)\n",
    "df_densidade_pop = carregar_municipios(df_densidade_pop)\n",
    "#save_clustered_df_to_csv(df_densidade_pop, \"csv_bruto/\", \"5_Densidade_População.csv\")\n",
    "df_densidade_pop\n"
   ]
  },
  {
   "cell_type": "code",
   "execution_count": 4,
   "id": "a4ecd350",
   "metadata": {},
   "outputs": [
    {
     "data": {
      "application/vnd.plotly.v1+json": {
       "config": {
        "plotlyServerURL": "https://plot.ly"
       },
       "data": [
        {
         "customdata": [
          [
           "Arcos de Valdevez",
           "1111601",
           46.3
          ],
          [
           "Caminha",
           "1111602",
           118.7
          ],
          [
           "Melgaço",
           "1111603",
           32
          ],
          [
           "Monção",
           "1111604",
           84.8
          ],
          [
           "Paredes de Coura",
           "1111605",
           62.8
          ],
          [
           "Ponte da Barca",
           "1111606",
           61
          ],
          [
           "Ponte de Lima",
           "1111607",
           128.2
          ],
          [
           "Valença",
           "1111608",
           118.9
          ],
          [
           "Viana do Castelo",
           "1111609",
           270.4
          ],
          [
           "Vila Nova de Cerveira",
           "1111610",
           84.7
          ],
          [
           "Amares",
           "1120301",
           234.5
          ],
          [
           "Barcelos",
           "1120302",
           308
          ],
          [
           "Braga",
           "1120303",
           1081
          ],
          [
           "Esposende",
           "1120306",
           382.2
          ],
          [
           "Terras de Bouro",
           "1120310",
           22.9
          ],
          [
           "Vila Verde",
           "1120313",
           207.8
          ],
          [
           "Cabeceiras de Basto",
           "1190304",
           64.1
          ],
          [
           "Fafe",
           "1190307",
           220.7
          ],
          [
           "Guimarães",
           "1190308",
           649.4
          ],
          [
           "Mondim de Basto",
           "1191705",
           37.2
          ],
          [
           "Póvoa de Lanhoso",
           "1190309",
           165.7
          ],
          [
           "Vieira do Minho",
           "1190311",
           55.4
          ],
          [
           "Vila Nova de Famalicão",
           "1190312",
           670
          ],
          [
           "Vizela",
           "1190314",
           983.7
          ],
          [
           "Arouca",
           "11A0104",
           63.6
          ],
          [
           "Espinho",
           "11A0107",
           1514
          ],
          [
           "Gondomar",
           "11A1304",
           1267.8
          ],
          [
           "Maia",
           "11A1306",
           1691.8
          ],
          [
           "Matosinhos",
           "11A1308",
           2837.9
          ],
          [
           "Oliveira de Azeméis",
           "11A0113",
           415.1
          ],
          [
           "Paredes",
           "11A1310",
           544.7
          ],
          [
           "Porto",
           "11A1312",
           5867.1
          ],
          [
           "Póvoa de Varzim",
           "11A1313",
           806
          ],
          [
           "Santa Maria da Feira",
           "11A0109",
           641.8
          ],
          [
           "Santo Tirso",
           "11A1314",
           495.8
          ],
          [
           "São João da Madeira",
           "11A0116",
           2940.6
          ],
          [
           "Trofa",
           "11A1318",
           549.7
          ],
          [
           "Vale de Cambra",
           "11A0119",
           144.2
          ],
          [
           "Valongo",
           "11A1315",
           1310
          ],
          [
           "Vila do Conde",
           "11A1316",
           560.5
          ],
          [
           "Vila Nova de Gaia",
           "11A1317",
           1831.5
          ],
          [
           "Boticas",
           "11B1702",
           15.2
          ],
          [
           "Chaves",
           "11B1703",
           63.1
          ],
          [
           "Montalegre",
           "11B1706",
           11.3
          ],
          [
           "Ribeira de Pena",
           "11B1709",
           26.8
          ],
          [
           "Valpaços",
           "11B1712",
           26.5
          ],
          [
           "Vila Pouca de Aguiar",
           "11B1713",
           26.9
          ],
          [
           "Amarante",
           "11C1301",
           172.8
          ],
          [
           "Baião",
           "11C1302",
           99
          ],
          [
           "Castelo de Paiva",
           "11C0106",
           133.8
          ],
          [
           "Celorico de Basto",
           "11C0305",
           97.1
          ],
          [
           "Cinfães",
           "11C1804",
           73.4
          ],
          [
           "Felgueiras",
           "11C1303",
           478.8
          ],
          [
           "Lousada",
           "11C1305",
           498.9
          ],
          [
           "Marco de Canaveses",
           "11C1307",
           245
          ],
          [
           "Paços de Ferreira",
           "11C1309",
           787.2
          ],
          [
           "Penafiel",
           "11C1311",
           329.8
          ],
          [
           "Resende",
           "11C1813",
           79.9
          ],
          [
           "Alijó",
           "11D1701",
           34.8
          ],
          [
           "Armamar",
           "11D1801",
           48.6
          ],
          [
           "Carrazeda de Ansiães",
           "11D0403",
           19.3
          ],
          [
           "Freixo de Espada à Cinta",
           "11D0404",
           13
          ],
          [
           "Lamego",
           "11D1805",
           146.1
          ],
          [
           "Mesão Frio",
           "11D1704",
           131.9
          ],
          [
           "Moimenta da Beira",
           "11D1807",
           43.7
          ],
          [
           "Murça",
           "11D1707",
           27.6
          ],
          [
           "Penedono",
           "11D1812",
           20.9
          ],
          [
           "Peso da Régua",
           "11D1708",
           152.1
          ],
          [
           "Sabrosa",
           "11D1710",
           35.7
          ],
          [
           "Santa Marta de Penaguião",
           "11D1711",
           86.5
          ],
          [
           "São João da Pesqueira",
           "11D1815",
           25.5
          ],
          [
           "Sernancelhe",
           "11D1818",
           25.1
          ],
          [
           "Tabuaço",
           "11D1819",
           37.7
          ],
          [
           "Tarouca",
           "11D1820",
           74.7
          ],
          [
           "Torre de Moncorvo",
           "11D0409",
           12.7
          ],
          [
           "Vila Nova de Foz Côa",
           "11D0914",
           15.9
          ],
          [
           "Vila Real",
           "11D1714",
           131.1
          ],
          [
           "Alfândega da Fé",
           "11E0401",
           13.2
          ],
          [
           "Bragança",
           "11E0402",
           29.9
          ],
          [
           "Macedo de Cavaleiros",
           "11E0405",
           20.3
          ],
          [
           "Miranda do Douro",
           "11E0406",
           13
          ],
          [
           "Mirandela",
           "11E0407",
           32.4
          ],
          [
           "Mogadouro",
           "11E0408",
           10.9
          ],
          [
           "Vila Flor",
           "11E0410",
           22.7
          ],
          [
           "Vimioso",
           "11E0411",
           8.6
          ],
          [
           "Vinhais",
           "11E0412",
           10.8
          ],
          [
           "Alcobaça",
           "16B1001",
           138
          ],
          [
           "Alenquer",
           "16B1101",
           154.2
          ],
          [
           "Arruda dos Vinhos",
           "16B1102",
           191.3
          ],
          [
           "Bombarral",
           "16B1005",
           148.4
          ],
          [
           "Cadaval",
           "16B1104",
           80.4
          ],
          [
           "Caldas da Rainha",
           "16B1006",
           206.3
          ],
          [
           "Lourinhã",
           "16B1108",
           188
          ],
          [
           "Nazaré",
           "16B1011",
           186.2
          ],
          [
           "Óbidos",
           "16B1012",
           90.6
          ],
          [
           "Peniche",
           "16B1014",
           350
          ],
          [
           "Sobral de Monte Agraço",
           "16B1112",
           220.1
          ],
          [
           "Torres Vedras",
           "16B1113",
           211.5
          ],
          [
           "Águeda",
           "16D0101",
           139.2
          ],
          [
           "Albergaria-a-Velha",
           "16D0102",
           159.5
          ],
          [
           "Anadia",
           "16D0103",
           128.7
          ],
          [
           "Aveiro",
           "16D0105",
           424.1
          ],
          [
           "Estarreja",
           "16D0108",
           246.4
          ],
          [
           "Ílhavo",
           "16D0110",
           557.1
          ],
          [
           "Murtosa",
           "16D0112",
           146.7
          ],
          [
           "Oliveira do Bairro",
           "16D0114",
           277.7
          ],
          [
           "Ovar",
           "16D0115",
           378.4
          ],
          [
           "Sever do Vouga",
           "16D0117",
           84
          ],
          [
           "Vagos",
           "16D0118",
           143.9
          ],
          [
           "Arganil",
           "16E0601",
           33.5
          ],
          [
           "Cantanhede",
           "16E0602",
           88.1
          ],
          [
           "Coimbra",
           "16E0603",
           447.1
          ],
          [
           "Condeixa-a-Nova",
           "16E0604",
           124.1
          ],
          [
           "Figueira da Foz",
           "16E0605",
           157.8
          ],
          [
           "Góis",
           "16E0606",
           14.3
          ],
          [
           "Lousã",
           "16E0607",
           124.4
          ],
          [
           "Mealhada",
           "16E0111",
           177.3
          ],
          [
           "Mira",
           "16E0608",
           99.1
          ],
          [
           "Miranda do Corvo",
           "16E0609",
           95.2
          ],
          [
           "Montemor-o-Velho",
           "16E0610",
           108
          ],
          [
           "Mortágua",
           "16E1808",
           35.6
          ],
          [
           "Oliveira do Hospital",
           "16E0611",
           82.3
          ],
          [
           "Pampilhosa da Serra",
           "16E0612",
           10.3
          ],
          [
           "Penacova",
           "16E0613",
           59.5
          ],
          [
           "Penela",
           "16E0614",
           41.1
          ],
          [
           "Soure",
           "16E0615",
           64.7
          ],
          [
           "Tábua",
           "16E0616",
           57.1
          ],
          [
           "Vila Nova de Poiares",
           "16E0617",
           83.5
          ],
          [
           "Alvaiázere",
           "16F1002",
           39.2
          ],
          [
           "Ansião",
           "16F1003",
           66.5
          ],
          [
           "Batalha",
           "16F1004",
           156
          ],
          [
           "Castanheira de Pêra",
           "16F1007",
           40.2
          ],
          [
           "Figueiró dos Vinhos",
           "16F1008",
           30.1
          ],
          [
           "Leiria",
           "16F1009",
           232.6
          ],
          [
           "Marinha Grande",
           "16F1010",
           214.4
          ],
          [
           "Pedrógão Grande",
           "16F1013",
           27.4
          ],
          [
           "Pombal",
           "16F1015",
           82
          ],
          [
           "Porto de Mós",
           "16F1016",
           90.4
          ],
          [
           "Aguiar da Beira",
           "16G0901",
           25.6
          ],
          [
           "Carregal do Sal",
           "16G1802",
           77.7
          ],
          [
           "Castro Daire",
           "16G1803",
           35.9
          ],
          [
           "Mangualde",
           "16G1806",
           83.6
          ],
          [
           "Nelas",
           "16G1809",
           104.6
          ],
          [
           "Oliveira de Frades",
           "16G1810",
           66.2
          ],
          [
           "Penalva do Castelo",
           "16G1811",
           54.2
          ],
          [
           "Santa Comba Dão",
           "16G1814",
           96.5
          ],
          [
           "São Pedro do Sul",
           "16G1816",
           43.2
          ],
          [
           "Sátão",
           "16G1817",
           54.6
          ],
          [
           "Tondela",
           "16G1821",
           69.1
          ],
          [
           "Vila Nova de Paiva",
           "16G1822",
           26.7
          ],
          [
           "Viseu",
           "16G1823",
           197.9
          ],
          [
           "Vouzela",
           "16G1824",
           49.8
          ],
          [
           "Castelo Branco",
           "16H0502",
           36.5
          ],
          [
           "Idanha-a-Nova",
           "16H0505",
           5.9
          ],
          [
           "Oleiros",
           "16H0506",
           10.4
          ],
          [
           "Penamacor",
           "16H0507",
           8.4
          ],
          [
           "Proença-a-Nova",
           "16H0508",
           18
          ],
          [
           "Vila Velha de Ródão",
           "16H0511",
           10.5
          ],
          [
           "Abrantes",
           "16I1401",
           47.4
          ],
          [
           "Alcanena",
           "16I1402",
           99.1
          ],
          [
           "Constância",
           "16I1408",
           48.2
          ],
          [
           "Entroncamento",
           "16I1410",
           1554.7
          ],
          [
           "Ferreira do Zêzere",
           "16I1411",
           41.5
          ],
          [
           "Mação",
           "16I1413",
           16
          ],
          [
           "Ourém",
           "16I1421",
           109.7
          ],
          [
           "Sardoal",
           "16I1417",
           38.8
          ],
          [
           "Sertã",
           "16I0509",
           33.3
          ],
          [
           "Tomar",
           "16I1418",
           103.8
          ],
          [
           "Torres Novas",
           "16I1419",
           127.4
          ],
          [
           "Vila de Rei",
           "16I0510",
           17.8
          ],
          [
           "Vila Nova da Barquinha",
           "16I1420",
           151.4
          ],
          [
           "Almeida",
           "16J0902",
           11
          ],
          [
           "Belmonte",
           "16J0501",
           52
          ],
          [
           "Celorico da Beira",
           "16J0903",
           26.4
          ],
          [
           "Covilhã",
           "16J0503",
           82.9
          ],
          [
           "Figueira de Castelo Rodrigo",
           "16J0904",
           10
          ],
          [
           "Fornos de Algodres",
           "16J0905",
           33.3
          ],
          [
           "Fundão",
           "16J0504",
           38
          ],
          [
           "Gouveia",
           "16J0906",
           40.3
          ],
          [
           "Guarda",
           "16J0907",
           56
          ],
          [
           "Manteigas",
           "16J0908",
           24
          ],
          [
           "Mêda",
           "16J0909",
           16
          ],
          [
           "Pinhel",
           "16J0910",
           16.3
          ],
          [
           "Sabugal",
           "16J0911",
           13.6
          ],
          [
           "Seia",
           "16J0912",
           49.2
          ],
          [
           "Trancoso",
           "16J0913",
           22.9
          ],
          [
           "Alcochete",
           "1701502",
           154.4
          ],
          [
           "Almada",
           "1701503",
           2562.1
          ],
          [
           "Amadora",
           "1701115",
           7363.6
          ],
          [
           "Barreiro",
           "1701504",
           2171.1
          ],
          [
           "Cascais",
           "1701105",
           2230.2
          ],
          [
           "Lisboa",
           "1701106",
           5572.4
          ],
          [
           "Loures",
           "1701107",
           1222.3
          ],
          [
           "Mafra",
           "1701109",
           306.4
          ],
          [
           "Moita",
           "1701506",
           1227.8
          ],
          [
           "Montijo",
           "1701507",
           166.5
          ],
          [
           "Odivelas",
           "1701116",
           5694.9
          ],
          [
           "Oeiras",
           "1701110",
           3789.2
          ],
          [
           "Palmela",
           "1701508",
           154.1
          ],
          [
           "Seixal",
           "1701510",
           1783.2
          ],
          [
           "Sesimbra",
           "1701511",
           279
          ],
          [
           "Setúbal",
           "1701512",
           535.2
          ],
          [
           "Sintra",
           "1701111",
           1223.8
          ],
          [
           "Vila Franca de Xira",
           "1701114",
           435.2
          ],
          [
           "Alcácer do Sal",
           "1811501",
           7.4
          ],
          [
           "Grândola",
           "1811505",
           17
          ],
          [
           "Odemira",
           "1810211",
           18.6
          ],
          [
           "Santiago do Cacém",
           "1811509",
           26.5
          ],
          [
           "Sines",
           "1811513",
           72
          ],
          [
           "Aljustrel",
           "1840201",
           19.4
          ],
          [
           "Almodôvar",
           "1840202",
           8.6
          ],
          [
           "Alvito",
           "1840203",
           8.5
          ],
          [
           "Barrancos",
           "1840204",
           8.7
          ],
          [
           "Beja",
           "1840205",
           29.3
          ],
          [
           "Castro Verde",
           "1840206",
           12.2
          ],
          [
           "Cuba",
           "1840207",
           25.8
          ],
          [
           "Ferreira do Alentejo",
           "1840208",
           12.1
          ],
          [
           "Mértola",
           "1840209",
           4.8
          ],
          [
           "Moura",
           "1840210",
           13.9
          ],
          [
           "Ourique",
           "1840212",
           7.3
          ],
          [
           "Serpa",
           "1840213",
           12.4
          ],
          [
           "Vidigueira",
           "1840214",
           16.6
          ],
          [
           "Almeirim",
           "1851403",
           101.7
          ],
          [
           "Alpiarça",
           "1851404",
           75.6
          ],
          [
           "Azambuja",
           "1851103",
           85.1
          ],
          [
           "Benavente",
           "1851405",
           60.6
          ],
          [
           "Cartaxo",
           "1851406",
           151.7
          ],
          [
           "Chamusca",
           "1851407",
           11.5
          ],
          [
           "Coruche",
           "1851409",
           15.6
          ],
          [
           "Golegã",
           "1851412",
           64.2
          ],
          [
           "Rio Maior",
           "1851414",
           80.5
          ],
          [
           "Salvaterra de Magos",
           "1851415",
           93.7
          ],
          [
           "Santarém",
           "1851416",
           109.2
          ],
          [
           "Alter do Chão",
           "1861201",
           8.7
          ],
          [
           "Arronches",
           "1861202",
           8.8
          ],
          [
           "Avis",
           "1861203",
           6.2
          ],
          [
           "Campo Maior",
           "1861204",
           32.2
          ],
          [
           "Castelo de Vide",
           "1861205",
           12.1
          ],
          [
           "Crato",
           "1861206",
           8.2
          ],
          [
           "Elvas",
           "1861207",
           32.4
          ],
          [
           "Fronteira",
           "1861208",
           11.8
          ],
          [
           "Gavião",
           "1861209",
           11.4
          ],
          [
           "Marvão",
           "1861210",
           19.6
          ],
          [
           "Monforte",
           "1861211",
           7.1
          ],
          [
           "Nisa",
           "1861212",
           9.9
          ],
          [
           "Ponte de Sor",
           "1861213",
           18.1
          ],
          [
           "Portalegre",
           "1861214",
           49.3
          ],
          [
           "Sousel",
           "1861215",
           15.7
          ],
          [
           "Alandroal",
           "1870701",
           9.2
          ],
          [
           "Arraiolos",
           "1870702",
           9.9
          ],
          [
           "Borba",
           "1870703",
           44.1
          ],
          [
           "Estremoz",
           "1870704",
           24.6
          ],
          [
           "Évora",
           "1870705",
           41.2
          ],
          [
           "Montemor-o-Novo",
           "1870706",
           12.9
          ],
          [
           "Mora",
           "1870707",
           9.4
          ],
          [
           "Mourão",
           "1870708",
           8.6
          ],
          [
           "Portel",
           "1870709",
           9.5
          ],
          [
           "Redondo",
           "1870710",
           17
          ],
          [
           "Reguengos de Monsaraz",
           "1870711",
           21.2
          ],
          [
           "Vendas Novas",
           "1870712",
           51.5
          ],
          [
           "Viana do Alentejo",
           "1870713",
           14
          ],
          [
           "Vila Viçosa",
           "1870714",
           37.6
          ],
          [
           "Albufeira",
           "1500801",
           330.7
          ],
          [
           "Alcoutim",
           "1500802",
           4.3
          ],
          [
           "Aljezur",
           "1500803",
           19.3
          ],
          [
           "Castro Marim",
           "1500804",
           22.3
          ],
          [
           "Faro",
           "1500805",
           340.2
          ],
          [
           "Lagoa",
           "1500806",
           277.7
          ],
          [
           "Lagos",
           "1500807",
           160.3
          ],
          [
           "Loulé",
           "1500808",
           96.4
          ],
          [
           "Monchique",
           "1500809",
           13.6
          ],
          [
           "Olhão",
           "1500810",
           342.5
          ],
          [
           "Portimão",
           "1500811",
           341.5
          ],
          [
           "São Brás de Alportel",
           "1500812",
           75
          ],
          [
           "Silves",
           "1500813",
           57.3
          ],
          [
           "Tavira",
           "1500814",
           45.6
          ],
          [
           "Vila do Bispo",
           "1500815",
           32.8
          ],
          [
           "Vila Real de Santo António",
           "1500816",
           312.7
          ],
          [
           "Angra do Heroísmo",
           "2004301",
           141.9
          ],
          [
           "Calheta",
           "2004501",
           27.8
          ],
          [
           "Corvo",
           "2004901",
           25.4
          ],
          [
           "Horta",
           "2004701",
           83.4
          ],
          [
           "Lagoa",
           "2004201",
           323
          ],
          [
           "Lajes das Flores",
           "2004801",
           20.5
          ],
          [
           "Lajes do Pico",
           "2004601",
           28.2
          ],
          [
           "Madalena",
           "2004602",
           44.1
          ],
          [
           "Nordeste",
           "2004202",
           43.7
          ],
          [
           "Ponta Delgada",
           "2004203",
           293.5
          ],
          [
           "Povoação",
           "2004204",
           55.3
          ],
          [
           "Ribeira Grande",
           "2004205",
           177.9
          ],
          [
           "Santa Cruz da Graciosa",
           "2004401",
           67.8
          ],
          [
           "Santa Cruz das Flores",
           "2004802",
           29.2
          ],
          [
           "São Roque do Pico",
           "2004603",
           23.6
          ],
          [
           "Velas",
           "2004502",
           42.2
          ],
          [
           "Vila da Praia da Vitória",
           "2004302",
           122
          ],
          [
           "Vila do Porto",
           "2004101",
           56.9
          ],
          [
           "Vila Franca do Campo",
           "2004206",
           133.2
          ],
          [
           "Calheta",
           "3003101",
           98.4
          ],
          [
           "Câmara de Lobos",
           "3003102",
           621.5
          ],
          [
           "Funchal",
           "3003103",
           1403.9
          ],
          [
           "Machico",
           "3003104",
           286.4
          ],
          [
           "Ponta do Sol",
           "3003105",
           184.6
          ],
          [
           "Porto Moniz",
           "3003106",
           30.1
          ],
          [
           "Porto Santo",
           "3003201",
           125.6
          ],
          [
           "Ribeira Brava",
           "3003107",
           196.5
          ],
          [
           "Santa Cruz",
           "3003108",
           535.4
          ],
          [
           "Santana",
           "3003109",
           67.6
          ],
          [
           "São Vicente",
           "3003110",
           61.7
          ]
         ],
         "hovertemplate": "valor=%{x}<br>y=%{y}<br>local=%{customdata[0]}<br>codigo=%{customdata[1]}<br>Densidade populacional=%{customdata[2]}<br>Densidade_População=%{marker.color}<extra></extra>",
         "legendgroup": "",
         "marker": {
          "color": [
           0,
           0,
           0,
           0,
           0,
           0,
           0,
           0,
           0,
           0,
           0,
           0,
           1,
           0,
           0,
           0,
           0,
           0,
           0,
           0,
           0,
           0,
           0,
           0,
           0,
           1,
           1,
           1,
           1,
           0,
           0,
           2,
           0,
           0,
           0,
           1,
           0,
           0,
           1,
           0,
           1,
           0,
           0,
           0,
           0,
           0,
           0,
           0,
           0,
           0,
           0,
           0,
           0,
           0,
           0,
           0,
           0,
           0,
           0,
           0,
           0,
           0,
           0,
           0,
           0,
           0,
           0,
           0,
           0,
           0,
           0,
           0,
           0,
           0,
           0,
           0,
           0,
           0,
           0,
           0,
           0,
           0,
           0,
           0,
           0,
           0,
           0,
           0,
           0,
           0,
           0,
           0,
           0,
           0,
           0,
           0,
           0,
           0,
           0,
           0,
           0,
           0,
           0,
           0,
           0,
           0,
           0,
           0,
           0,
           0,
           0,
           0,
           0,
           0,
           0,
           0,
           0,
           0,
           0,
           0,
           0,
           0,
           0,
           0,
           0,
           0,
           0,
           0,
           0,
           0,
           0,
           0,
           0,
           0,
           0,
           0,
           0,
           0,
           0,
           0,
           0,
           0,
           0,
           0,
           0,
           0,
           0,
           0,
           0,
           0,
           0,
           0,
           0,
           0,
           0,
           0,
           0,
           0,
           0,
           0,
           0,
           1,
           0,
           0,
           0,
           0,
           0,
           0,
           0,
           0,
           0,
           0,
           0,
           0,
           0,
           0,
           0,
           0,
           0,
           0,
           0,
           0,
           0,
           0,
           0,
           0,
           0,
           1,
           2,
           1,
           1,
           2,
           1,
           0,
           1,
           0,
           2,
           1,
           0,
           1,
           0,
           0,
           1,
           0,
           0,
           0,
           0,
           0,
           0,
           0,
           0,
           0,
           0,
           0,
           0,
           0,
           0,
           0,
           0,
           0,
           0,
           0,
           0,
           0,
           0,
           0,
           0,
           0,
           0,
           0,
           0,
           0,
           0,
           0,
           0,
           0,
           0,
           0,
           0,
           0,
           0,
           0,
           0,
           0,
           0,
           0,
           0,
           0,
           0,
           0,
           0,
           0,
           0,
           0,
           0,
           0,
           0,
           0,
           0,
           0,
           0,
           0,
           0,
           0,
           0,
           0,
           0,
           0,
           0,
           0,
           0,
           0,
           0,
           0,
           0,
           0,
           0,
           0,
           0,
           0,
           0,
           0,
           0,
           0,
           0,
           0,
           0,
           0,
           0,
           0,
           0,
           0,
           0,
           0,
           0,
           0,
           0,
           0,
           0,
           1,
           0,
           0,
           0,
           0,
           0,
           0,
           0,
           0
          ],
          "coloraxis": "coloraxis",
          "size": 10,
          "symbol": "circle"
         },
         "mode": "markers",
         "name": "",
         "orientation": "v",
         "showlegend": false,
         "type": "scatter",
         "x": [
          -0.3075630372176018,
          -0.21945249992030955,
          -0.32496608533018856,
          -0.2607086769144837,
          -0.287482597087694,
          -0.2896731905564113,
          -0.2078910343909687,
          -0.2192091006460076,
          -0.034834150362308955,
          -0.26083037655163466,
          -0.0785243200995022,
          0.010924913206450618,
          0.9516631083833423,
          0.10122604397246013,
          -0.3360407523109256,
          -0.11101812321880751,
          -0.28590050180473164,
          -0.09531887002633418,
          0.4264074744398152,
          -0.31863770419833887,
          -0.16225367045936012,
          -0.2964883702368648,
          0.4514775996929122,
          0.8332493614354619,
          -0.2865089999904864,
          1.4786225372469828,
          1.1789980305813286,
          1.695004492101383,
          3.0898040334884924,
          0.14126522459512478,
          0.2989879543427641,
          6.776329442065259,
          0.6169891062182127,
          0.41715830201634246,
          0.23947683177594645,
          3.214789560842524,
          0.3050729362003119,
          -0.1884190924468157,
          1.230355277459032,
          0.3182164970126151,
          1.8650188852012688,
          -0.34541162437154926,
          -0.2871174981762412,
          -0.3501579102204365,
          -0.3312944664620383,
          -0.33165956537349117,
          -0.3311727668248874,
          -0.15361299622164218,
          -0.2434273284390479,
          -0.20107585471051512,
          -0.24573962154491608,
          -0.2745824355496927,
          0.21878789346028388,
          0.24324952052762605,
          -0.06574585819865181,
          0.5941095744338329,
          0.03745543410535909,
          -0.26667195913488057,
          -0.3215584954899618,
          -0.30476394556312986,
          -0.34042193924836,
          -0.34808901638887024,
          -0.18610679934094754,
          -0.20338814781638329,
          -0.31072722778352674,
          -0.3303208693648306,
          -0.33847474505394476,
          -0.17880482111189017,
          -0.3204631987556032,
          -0.2586397830829174,
          -0.33287656174500074,
          -0.3333633602936045,
          -0.3180292060125841,
          -0.27300034026673026,
          -0.34845411530032316,
          -0.34455972691149256,
          -0.20436174491359096,
          -0.34784561711456835,
          -0.3275217777103587,
          -0.33920494287685043,
          -0.34808901638887024,
          -0.3244792867815848,
          -0.35064470876904036,
          -0.3362841515852275,
          -0.3534438004235123,
          -0.3507664084061913,
          -0.19596446995017497,
          -0.17624912873172008,
          -0.13109856334871528,
          -0.18330770768647553,
          -0.26606346094912575,
          -0.11284361777607185,
          -0.13511465137469686,
          -0.13730524484341408,
          -0.25365009795972826,
          0.06203876080985224,
          -0.09604906784923992,
          -0.10651523664422215,
          -0.1945040743043635,
          -0.16979904796271938,
          -0.20728253620521392,
          0.15221819193871083,
          -0.06404206327853841,
          0.3140787093494826,
          -0.1853766015180418,
          -0.025950076850289133,
          0.09660145776072378,
          -0.26168227401169136,
          -0.18878419135826854,
          -0.32314059077292423,
          -0.25669258888850216,
          0.18020910848343077,
          -0.2128807195141579,
          -0.17186794179428563,
          -0.3465069211059078,
          -0.212515620602705,
          -0.14813651254984916,
          -0.24330562880189696,
          -0.24805191465078424,
          -0.23247436109546185,
          -0.3205848983927541,
          -0.2637511678432576,
          -0.3513749065919461,
          -0.2914986851136756,
          -0.31389141834945156,
          -0.2851703039818259,
          -0.2944194764052986,
          -0.2622907721974461,
          -0.3162037114553197,
          -0.28297971051310866,
          -0.17405853526300286,
          -0.3149867150838102,
          -0.3272783784360567,
          -0.08083661320537039,
          -0.10298594716684441,
          -0.3305642686391326,
          -0.26411626675471045,
          -0.25389349723403015,
          -0.33275486210784977,
          -0.2693493511522016,
          -0.3202197994813013,
          -0.26216907256029515,
          -0.23661214875859438,
          -0.2833448094245616,
          -0.2979487658826763,
          -0.2464698193678218,
          -0.3113357259692815,
          -0.2974619673340725,
          -0.27981551994718384,
          -0.3314161660991893,
          -0.12306638729675219,
          -0.30330354991731834,
          -0.31948960165839557,
          -0.35672969062658816,
          -0.35125320695479517,
          -0.35368719969781426,
          -0.34200403453132244,
          -0.35113150731764414,
          -0.3062243412089413,
          -0.24330562880189696,
          -0.3052507441117337,
          1.528154289567422,
          -0.3134046198008477,
          -0.3444380272743416,
          -0.2304054672638956,
          -0.31669051000392356,
          -0.3233839900472261,
          -0.237585745855802,
          -0.20886463148817633,
          -0.34224743380562433,
          -0.17965671857194684,
          -0.3505230091318894,
          -0.30062615789999736,
          -0.33178126501064215,
          -0.26302097002035185,
          -0.35174000550339896,
          -0.3233839900472261,
          -0.3176641071011312,
          -0.3148650154466592,
          -0.2957581724139591,
          -0.33470205630226507,
          -0.3444380272743416,
          -0.3440729283628887,
          -0.3473588185659645,
          -0.3040337477402241,
          -0.3360407523109256,
          -0.17600572945741816,
          2.754156434226155,
          8.597564512029319,
          2.278310852965916,
          2.3502353385221313,
          6.41768061138139,
          1.1236246956776434,
          0.008977719012035291,
          1.130318175720946,
          -0.16128007336215244,
          6.566762666891312,
          4.247532681705539,
          -0.17637082836887102,
          1.806237960457357,
          -0.02436798156732669,
          0.28742648881342325,
          1.1254501902349077,
          0.16572685166246692,
          -0.35490419606932383,
          -0.343221030902832,
          -0.3412738367084167,
          -0.33165956537349117,
          -0.2762862304698061,
          -0.3403002396112091,
          -0.3534438004235123,
          -0.3535655000606633,
          -0.3533221007863614,
          -0.3282519755332644,
          -0.3490626134860779,
          -0.3325114628335479,
          -0.34918431312322884,
          -0.35806838663524865,
          -0.3469937196545117,
          -0.35502589570647475,
          -0.34881921421177603,
          -0.3437078294514358,
          -0.2401414382359721,
          -0.27190504353237166,
          -0.2603435780030308,
          -0.2901599891050151,
          -0.17929161966049398,
          -0.3499145109461346,
          -0.34492482582294537,
          -0.28577880216758067,
          -0.26594176131197483,
          -0.2498774092080486,
          -0.2310139654496504,
          -0.3533221007863614,
          -0.3532004011492104,
          -0.3563645917151353,
          -0.32472268605588667,
          -0.34918431312322884,
          -0.35393059897211615,
          -0.3244792867815848,
          -0.3495494120346817,
          -0.3500362105832856,
          -0.34005684033690714,
          -0.35526929498077664,
          -0.35186170514054993,
          -0.34188233489417147,
          -0.30391204810307315,
          -0.34480312618579445,
          -0.35271360260060663,
          -0.35186170514054993,
          -0.3102404292349229,
          -0.33397185847935934,
          -0.31376971871230064,
          -0.34821071602602127,
          -0.35247020332630474,
          -0.3534438004235123,
          -0.3523485036891537,
          -0.343221030902832,
          -0.3381096461424919,
          -0.3012346560857521,
          -0.3468720200173607,
          -0.318150905649735,
          0.03855073083971767,
          -0.35867688482100346,
          -0.34042193924836,
          -0.33677095013383135,
          0.05011219636905851,
          -0.025950076850289133,
          -0.16882545086551173,
          -0.24659151900497275,
          -0.3473588185659645,
          0.05291128802353052,
          0.051694291652020954,
          -0.2726352413552774,
          -0.29417607713099664,
          -0.3084149346776585,
          -0.32399248823298094,
          0.01664479615254555,
          -0.19121818410128769,
          -0.33007747009052874,
          -0.3329982613821517,
          -0.2624124718345971,
          0.029179858779094053,
          -0.33896154360254854,
          -0.32959067154192495,
          -0.3102404292349229,
          -0.31072722778352674,
          -0.006721534180438035,
          -0.2966100698740158,
          -0.14740631472694343,
          -0.2813976152301462,
          -0.3283736751704154,
          -0.33518885485086886,
          -0.31255272234079107,
          -0.21543641189432797,
          -0.2946628756796005,
          -0.20180605253342088,
          -0.24415752626195364,
          0.3924532756746984,
          1.34463123674378,
          -0.015362208418155955,
          -0.13925243903782938,
          -0.3272783784360567,
          -0.21105522495689355,
          -0.12477018221686557,
          0.28766988808772503,
          -0.2816410145044482,
          -0.28882129309635457
         ],
         "xaxis": "x",
         "y": [
          0,
          0,
          0,
          0,
          0,
          0,
          0,
          0,
          0,
          0,
          0,
          0,
          0,
          0,
          0,
          0,
          0,
          0,
          0,
          0,
          0,
          0,
          0,
          0,
          0,
          0,
          0,
          0,
          0,
          0,
          0,
          0,
          0,
          0,
          0,
          0,
          0,
          0,
          0,
          0,
          0,
          0,
          0,
          0,
          0,
          0,
          0,
          0,
          0,
          0,
          0,
          0,
          0,
          0,
          0,
          0,
          0,
          0,
          0,
          0,
          0,
          0,
          0,
          0,
          0,
          0,
          0,
          0,
          0,
          0,
          0,
          0,
          0,
          0,
          0,
          0,
          0,
          0,
          0,
          0,
          0,
          0,
          0,
          0,
          0,
          0,
          0,
          0,
          0,
          0,
          0,
          0,
          0,
          0,
          0,
          0,
          0,
          0,
          0,
          0,
          0,
          0,
          0,
          0,
          0,
          0,
          0,
          0,
          0,
          0,
          0,
          0,
          0,
          0,
          0,
          0,
          0,
          0,
          0,
          0,
          0,
          0,
          0,
          0,
          0,
          0,
          0,
          0,
          0,
          0,
          0,
          0,
          0,
          0,
          0,
          0,
          0,
          0,
          0,
          0,
          0,
          0,
          0,
          0,
          0,
          0,
          0,
          0,
          0,
          0,
          0,
          0,
          0,
          0,
          0,
          0,
          0,
          0,
          0,
          0,
          0,
          0,
          0,
          0,
          0,
          0,
          0,
          0,
          0,
          0,
          0,
          0,
          0,
          0,
          0,
          0,
          0,
          0,
          0,
          0,
          0,
          0,
          0,
          0,
          0,
          0,
          0,
          0,
          0,
          0,
          0,
          0,
          0,
          0,
          0,
          0,
          0,
          0,
          0,
          0,
          0,
          0,
          0,
          0,
          0,
          0,
          0,
          0,
          0,
          0,
          0,
          0,
          0,
          0,
          0,
          0,
          0,
          0,
          0,
          0,
          0,
          0,
          0,
          0,
          0,
          0,
          0,
          0,
          0,
          0,
          0,
          0,
          0,
          0,
          0,
          0,
          0,
          0,
          0,
          0,
          0,
          0,
          0,
          0,
          0,
          0,
          0,
          0,
          0,
          0,
          0,
          0,
          0,
          0,
          0,
          0,
          0,
          0,
          0,
          0,
          0,
          0,
          0,
          0,
          0,
          0,
          0,
          0,
          0,
          0,
          0,
          0,
          0,
          0,
          0,
          0,
          0,
          0,
          0,
          0,
          0,
          0,
          0,
          0,
          0,
          0,
          0,
          0,
          0,
          0,
          0,
          0,
          0,
          0,
          0,
          0,
          0,
          0,
          0,
          0,
          0,
          0,
          0,
          0,
          0,
          0,
          0,
          0
         ],
         "yaxis": "y"
        }
       ],
       "layout": {
        "coloraxis": {
         "colorbar": {
          "title": {
           "text": "Densidade_População"
          }
         },
         "colorscale": [
          [
           0,
           "#440154"
          ],
          [
           0.1111111111111111,
           "#482878"
          ],
          [
           0.2222222222222222,
           "#3e4989"
          ],
          [
           0.3333333333333333,
           "#31688e"
          ],
          [
           0.4444444444444444,
           "#26828e"
          ],
          [
           0.5555555555555556,
           "#1f9e89"
          ],
          [
           0.6666666666666666,
           "#35b779"
          ],
          [
           0.7777777777777778,
           "#6ece58"
          ],
          [
           0.8888888888888888,
           "#b5de2b"
          ],
          [
           1,
           "#fde725"
          ]
         ]
        },
        "height": 300,
        "legend": {
         "tracegroupgap": 0
        },
        "margin": {
         "t": 60
        },
        "template": {
         "data": {
          "bar": [
           {
            "error_x": {
             "color": "#2a3f5f"
            },
            "error_y": {
             "color": "#2a3f5f"
            },
            "marker": {
             "line": {
              "color": "#E5ECF6",
              "width": 0.5
             },
             "pattern": {
              "fillmode": "overlay",
              "size": 10,
              "solidity": 0.2
             }
            },
            "type": "bar"
           }
          ],
          "barpolar": [
           {
            "marker": {
             "line": {
              "color": "#E5ECF6",
              "width": 0.5
             },
             "pattern": {
              "fillmode": "overlay",
              "size": 10,
              "solidity": 0.2
             }
            },
            "type": "barpolar"
           }
          ],
          "carpet": [
           {
            "aaxis": {
             "endlinecolor": "#2a3f5f",
             "gridcolor": "white",
             "linecolor": "white",
             "minorgridcolor": "white",
             "startlinecolor": "#2a3f5f"
            },
            "baxis": {
             "endlinecolor": "#2a3f5f",
             "gridcolor": "white",
             "linecolor": "white",
             "minorgridcolor": "white",
             "startlinecolor": "#2a3f5f"
            },
            "type": "carpet"
           }
          ],
          "choropleth": [
           {
            "colorbar": {
             "outlinewidth": 0,
             "ticks": ""
            },
            "type": "choropleth"
           }
          ],
          "contour": [
           {
            "colorbar": {
             "outlinewidth": 0,
             "ticks": ""
            },
            "colorscale": [
             [
              0,
              "#0d0887"
             ],
             [
              0.1111111111111111,
              "#46039f"
             ],
             [
              0.2222222222222222,
              "#7201a8"
             ],
             [
              0.3333333333333333,
              "#9c179e"
             ],
             [
              0.4444444444444444,
              "#bd3786"
             ],
             [
              0.5555555555555556,
              "#d8576b"
             ],
             [
              0.6666666666666666,
              "#ed7953"
             ],
             [
              0.7777777777777778,
              "#fb9f3a"
             ],
             [
              0.8888888888888888,
              "#fdca26"
             ],
             [
              1,
              "#f0f921"
             ]
            ],
            "type": "contour"
           }
          ],
          "contourcarpet": [
           {
            "colorbar": {
             "outlinewidth": 0,
             "ticks": ""
            },
            "type": "contourcarpet"
           }
          ],
          "heatmap": [
           {
            "colorbar": {
             "outlinewidth": 0,
             "ticks": ""
            },
            "colorscale": [
             [
              0,
              "#0d0887"
             ],
             [
              0.1111111111111111,
              "#46039f"
             ],
             [
              0.2222222222222222,
              "#7201a8"
             ],
             [
              0.3333333333333333,
              "#9c179e"
             ],
             [
              0.4444444444444444,
              "#bd3786"
             ],
             [
              0.5555555555555556,
              "#d8576b"
             ],
             [
              0.6666666666666666,
              "#ed7953"
             ],
             [
              0.7777777777777778,
              "#fb9f3a"
             ],
             [
              0.8888888888888888,
              "#fdca26"
             ],
             [
              1,
              "#f0f921"
             ]
            ],
            "type": "heatmap"
           }
          ],
          "heatmapgl": [
           {
            "colorbar": {
             "outlinewidth": 0,
             "ticks": ""
            },
            "colorscale": [
             [
              0,
              "#0d0887"
             ],
             [
              0.1111111111111111,
              "#46039f"
             ],
             [
              0.2222222222222222,
              "#7201a8"
             ],
             [
              0.3333333333333333,
              "#9c179e"
             ],
             [
              0.4444444444444444,
              "#bd3786"
             ],
             [
              0.5555555555555556,
              "#d8576b"
             ],
             [
              0.6666666666666666,
              "#ed7953"
             ],
             [
              0.7777777777777778,
              "#fb9f3a"
             ],
             [
              0.8888888888888888,
              "#fdca26"
             ],
             [
              1,
              "#f0f921"
             ]
            ],
            "type": "heatmapgl"
           }
          ],
          "histogram": [
           {
            "marker": {
             "pattern": {
              "fillmode": "overlay",
              "size": 10,
              "solidity": 0.2
             }
            },
            "type": "histogram"
           }
          ],
          "histogram2d": [
           {
            "colorbar": {
             "outlinewidth": 0,
             "ticks": ""
            },
            "colorscale": [
             [
              0,
              "#0d0887"
             ],
             [
              0.1111111111111111,
              "#46039f"
             ],
             [
              0.2222222222222222,
              "#7201a8"
             ],
             [
              0.3333333333333333,
              "#9c179e"
             ],
             [
              0.4444444444444444,
              "#bd3786"
             ],
             [
              0.5555555555555556,
              "#d8576b"
             ],
             [
              0.6666666666666666,
              "#ed7953"
             ],
             [
              0.7777777777777778,
              "#fb9f3a"
             ],
             [
              0.8888888888888888,
              "#fdca26"
             ],
             [
              1,
              "#f0f921"
             ]
            ],
            "type": "histogram2d"
           }
          ],
          "histogram2dcontour": [
           {
            "colorbar": {
             "outlinewidth": 0,
             "ticks": ""
            },
            "colorscale": [
             [
              0,
              "#0d0887"
             ],
             [
              0.1111111111111111,
              "#46039f"
             ],
             [
              0.2222222222222222,
              "#7201a8"
             ],
             [
              0.3333333333333333,
              "#9c179e"
             ],
             [
              0.4444444444444444,
              "#bd3786"
             ],
             [
              0.5555555555555556,
              "#d8576b"
             ],
             [
              0.6666666666666666,
              "#ed7953"
             ],
             [
              0.7777777777777778,
              "#fb9f3a"
             ],
             [
              0.8888888888888888,
              "#fdca26"
             ],
             [
              1,
              "#f0f921"
             ]
            ],
            "type": "histogram2dcontour"
           }
          ],
          "mesh3d": [
           {
            "colorbar": {
             "outlinewidth": 0,
             "ticks": ""
            },
            "type": "mesh3d"
           }
          ],
          "parcoords": [
           {
            "line": {
             "colorbar": {
              "outlinewidth": 0,
              "ticks": ""
             }
            },
            "type": "parcoords"
           }
          ],
          "pie": [
           {
            "automargin": true,
            "type": "pie"
           }
          ],
          "scatter": [
           {
            "fillpattern": {
             "fillmode": "overlay",
             "size": 10,
             "solidity": 0.2
            },
            "type": "scatter"
           }
          ],
          "scatter3d": [
           {
            "line": {
             "colorbar": {
              "outlinewidth": 0,
              "ticks": ""
             }
            },
            "marker": {
             "colorbar": {
              "outlinewidth": 0,
              "ticks": ""
             }
            },
            "type": "scatter3d"
           }
          ],
          "scattercarpet": [
           {
            "marker": {
             "colorbar": {
              "outlinewidth": 0,
              "ticks": ""
             }
            },
            "type": "scattercarpet"
           }
          ],
          "scattergeo": [
           {
            "marker": {
             "colorbar": {
              "outlinewidth": 0,
              "ticks": ""
             }
            },
            "type": "scattergeo"
           }
          ],
          "scattergl": [
           {
            "marker": {
             "colorbar": {
              "outlinewidth": 0,
              "ticks": ""
             }
            },
            "type": "scattergl"
           }
          ],
          "scattermapbox": [
           {
            "marker": {
             "colorbar": {
              "outlinewidth": 0,
              "ticks": ""
             }
            },
            "type": "scattermapbox"
           }
          ],
          "scatterpolar": [
           {
            "marker": {
             "colorbar": {
              "outlinewidth": 0,
              "ticks": ""
             }
            },
            "type": "scatterpolar"
           }
          ],
          "scatterpolargl": [
           {
            "marker": {
             "colorbar": {
              "outlinewidth": 0,
              "ticks": ""
             }
            },
            "type": "scatterpolargl"
           }
          ],
          "scatterternary": [
           {
            "marker": {
             "colorbar": {
              "outlinewidth": 0,
              "ticks": ""
             }
            },
            "type": "scatterternary"
           }
          ],
          "surface": [
           {
            "colorbar": {
             "outlinewidth": 0,
             "ticks": ""
            },
            "colorscale": [
             [
              0,
              "#0d0887"
             ],
             [
              0.1111111111111111,
              "#46039f"
             ],
             [
              0.2222222222222222,
              "#7201a8"
             ],
             [
              0.3333333333333333,
              "#9c179e"
             ],
             [
              0.4444444444444444,
              "#bd3786"
             ],
             [
              0.5555555555555556,
              "#d8576b"
             ],
             [
              0.6666666666666666,
              "#ed7953"
             ],
             [
              0.7777777777777778,
              "#fb9f3a"
             ],
             [
              0.8888888888888888,
              "#fdca26"
             ],
             [
              1,
              "#f0f921"
             ]
            ],
            "type": "surface"
           }
          ],
          "table": [
           {
            "cells": {
             "fill": {
              "color": "#EBF0F8"
             },
             "line": {
              "color": "white"
             }
            },
            "header": {
             "fill": {
              "color": "#C8D4E3"
             },
             "line": {
              "color": "white"
             }
            },
            "type": "table"
           }
          ]
         },
         "layout": {
          "annotationdefaults": {
           "arrowcolor": "#2a3f5f",
           "arrowhead": 0,
           "arrowwidth": 1
          },
          "autotypenumbers": "strict",
          "coloraxis": {
           "colorbar": {
            "outlinewidth": 0,
            "ticks": ""
           }
          },
          "colorscale": {
           "diverging": [
            [
             0,
             "#8e0152"
            ],
            [
             0.1,
             "#c51b7d"
            ],
            [
             0.2,
             "#de77ae"
            ],
            [
             0.3,
             "#f1b6da"
            ],
            [
             0.4,
             "#fde0ef"
            ],
            [
             0.5,
             "#f7f7f7"
            ],
            [
             0.6,
             "#e6f5d0"
            ],
            [
             0.7,
             "#b8e186"
            ],
            [
             0.8,
             "#7fbc41"
            ],
            [
             0.9,
             "#4d9221"
            ],
            [
             1,
             "#276419"
            ]
           ],
           "sequential": [
            [
             0,
             "#0d0887"
            ],
            [
             0.1111111111111111,
             "#46039f"
            ],
            [
             0.2222222222222222,
             "#7201a8"
            ],
            [
             0.3333333333333333,
             "#9c179e"
            ],
            [
             0.4444444444444444,
             "#bd3786"
            ],
            [
             0.5555555555555556,
             "#d8576b"
            ],
            [
             0.6666666666666666,
             "#ed7953"
            ],
            [
             0.7777777777777778,
             "#fb9f3a"
            ],
            [
             0.8888888888888888,
             "#fdca26"
            ],
            [
             1,
             "#f0f921"
            ]
           ],
           "sequentialminus": [
            [
             0,
             "#0d0887"
            ],
            [
             0.1111111111111111,
             "#46039f"
            ],
            [
             0.2222222222222222,
             "#7201a8"
            ],
            [
             0.3333333333333333,
             "#9c179e"
            ],
            [
             0.4444444444444444,
             "#bd3786"
            ],
            [
             0.5555555555555556,
             "#d8576b"
            ],
            [
             0.6666666666666666,
             "#ed7953"
            ],
            [
             0.7777777777777778,
             "#fb9f3a"
            ],
            [
             0.8888888888888888,
             "#fdca26"
            ],
            [
             1,
             "#f0f921"
            ]
           ]
          },
          "colorway": [
           "#636efa",
           "#EF553B",
           "#00cc96",
           "#ab63fa",
           "#FFA15A",
           "#19d3f3",
           "#FF6692",
           "#B6E880",
           "#FF97FF",
           "#FECB52"
          ],
          "font": {
           "color": "#2a3f5f"
          },
          "geo": {
           "bgcolor": "white",
           "lakecolor": "white",
           "landcolor": "#E5ECF6",
           "showlakes": true,
           "showland": true,
           "subunitcolor": "white"
          },
          "hoverlabel": {
           "align": "left"
          },
          "hovermode": "closest",
          "mapbox": {
           "style": "light"
          },
          "paper_bgcolor": "white",
          "plot_bgcolor": "#E5ECF6",
          "polar": {
           "angularaxis": {
            "gridcolor": "white",
            "linecolor": "white",
            "ticks": ""
           },
           "bgcolor": "#E5ECF6",
           "radialaxis": {
            "gridcolor": "white",
            "linecolor": "white",
            "ticks": ""
           }
          },
          "scene": {
           "xaxis": {
            "backgroundcolor": "#E5ECF6",
            "gridcolor": "white",
            "gridwidth": 2,
            "linecolor": "white",
            "showbackground": true,
            "ticks": "",
            "zerolinecolor": "white"
           },
           "yaxis": {
            "backgroundcolor": "#E5ECF6",
            "gridcolor": "white",
            "gridwidth": 2,
            "linecolor": "white",
            "showbackground": true,
            "ticks": "",
            "zerolinecolor": "white"
           },
           "zaxis": {
            "backgroundcolor": "#E5ECF6",
            "gridcolor": "white",
            "gridwidth": 2,
            "linecolor": "white",
            "showbackground": true,
            "ticks": "",
            "zerolinecolor": "white"
           }
          },
          "shapedefaults": {
           "line": {
            "color": "#2a3f5f"
           }
          },
          "ternary": {
           "aaxis": {
            "gridcolor": "white",
            "linecolor": "white",
            "ticks": ""
           },
           "baxis": {
            "gridcolor": "white",
            "linecolor": "white",
            "ticks": ""
           },
           "bgcolor": "#E5ECF6",
           "caxis": {
            "gridcolor": "white",
            "linecolor": "white",
            "ticks": ""
           }
          },
          "title": {
           "x": 0.05
          },
          "xaxis": {
           "automargin": true,
           "gridcolor": "white",
           "linecolor": "white",
           "ticks": "",
           "title": {
            "standoff": 15
           },
           "zerolinecolor": "white",
           "zerolinewidth": 2
          },
          "yaxis": {
           "automargin": true,
           "gridcolor": "white",
           "linecolor": "white",
           "ticks": "",
           "title": {
            "standoff": 15
           },
           "zerolinecolor": "white",
           "zerolinewidth": 2
          }
         }
        },
        "xaxis": {
         "anchor": "y",
         "domain": [
          0,
          1
         ],
         "title": {
          "text": "Densidade populacional"
         }
        },
        "yaxis": {
         "anchor": "x",
         "domain": [
          0,
          1
         ],
         "showgrid": false,
         "showticklabels": false,
         "title": {
          "text": "y"
         }
        }
       }
      }
     },
     "metadata": {},
     "output_type": "display_data"
    },
    {
     "name": "stdout",
     "output_type": "stream",
     "text": [
      "Densidade_População\n",
      "0    286\n",
      "1     18\n",
      "2      4\n",
      "Name: count, dtype: int64\n",
      "File saved to csv_files/5_Densidade_População.csv\n"
     ]
    }
   ],
   "source": [
    "clustered_df = aplicar_kmeans(df_densidade_pop, 3, nome_cluster='Densidade_População')\n",
    "save_clustered_df_to_csv(clustered_df, \"csv_files/\", \"5_Densidade_População.csv\")"
   ]
  },
  {
   "cell_type": "markdown",
   "id": "edc6ca4b",
   "metadata": {},
   "source": [
    "### Análise da Idade média da população residente"
   ]
  },
  {
   "cell_type": "code",
   "execution_count": 5,
   "id": "d827233f",
   "metadata": {},
   "outputs": [
    {
     "data": {
      "text/html": [
       "<div>\n",
       "<style scoped>\n",
       "    .dataframe tbody tr th:only-of-type {\n",
       "        vertical-align: middle;\n",
       "    }\n",
       "\n",
       "    .dataframe tbody tr th {\n",
       "        vertical-align: top;\n",
       "    }\n",
       "\n",
       "    .dataframe thead th {\n",
       "        text-align: right;\n",
       "    }\n",
       "</style>\n",
       "<table border=\"1\" class=\"dataframe\">\n",
       "  <thead>\n",
       "    <tr style=\"text-align: right;\">\n",
       "      <th></th>\n",
       "      <th>local</th>\n",
       "      <th>codigo</th>\n",
       "      <th>Idade da população residente</th>\n",
       "    </tr>\n",
       "  </thead>\n",
       "  <tbody>\n",
       "    <tr>\n",
       "      <th>5</th>\n",
       "      <td>Arcos de Valdevez</td>\n",
       "      <td>1111601</td>\n",
       "      <td>33.1</td>\n",
       "    </tr>\n",
       "    <tr>\n",
       "      <th>6</th>\n",
       "      <td>Caminha</td>\n",
       "      <td>1111602</td>\n",
       "      <td>30.5</td>\n",
       "    </tr>\n",
       "    <tr>\n",
       "      <th>7</th>\n",
       "      <td>Melgaço</td>\n",
       "      <td>1111603</td>\n",
       "      <td>39.8</td>\n",
       "    </tr>\n",
       "    <tr>\n",
       "      <th>8</th>\n",
       "      <td>Monção</td>\n",
       "      <td>1111604</td>\n",
       "      <td>33.4</td>\n",
       "    </tr>\n",
       "    <tr>\n",
       "      <th>9</th>\n",
       "      <td>Paredes de Coura</td>\n",
       "      <td>1111605</td>\n",
       "      <td>31.5</td>\n",
       "    </tr>\n",
       "    <tr>\n",
       "      <th>...</th>\n",
       "      <td>...</td>\n",
       "      <td>...</td>\n",
       "      <td>...</td>\n",
       "    </tr>\n",
       "    <tr>\n",
       "      <th>343</th>\n",
       "      <td>Ribeira Brava</td>\n",
       "      <td>3003107</td>\n",
       "      <td>25.5</td>\n",
       "    </tr>\n",
       "    <tr>\n",
       "      <th>344</th>\n",
       "      <td>Santa Cruz</td>\n",
       "      <td>3003108</td>\n",
       "      <td>24.2</td>\n",
       "    </tr>\n",
       "    <tr>\n",
       "      <th>345</th>\n",
       "      <td>Santana</td>\n",
       "      <td>3003109</td>\n",
       "      <td>31.1</td>\n",
       "    </tr>\n",
       "    <tr>\n",
       "      <th>346</th>\n",
       "      <td>São Vicente</td>\n",
       "      <td>3003110</td>\n",
       "      <td>29.6</td>\n",
       "    </tr>\n",
       "    <tr>\n",
       "      <th>347</th>\n",
       "      <td>Porto Santo</td>\n",
       "      <td>3003201</td>\n",
       "      <td>27.5</td>\n",
       "    </tr>\n",
       "  </tbody>\n",
       "</table>\n",
       "<p>308 rows × 3 columns</p>\n",
       "</div>"
      ],
      "text/plain": [
       "                 local   codigo Idade da população residente\n",
       "5    Arcos de Valdevez  1111601                         33.1\n",
       "6              Caminha  1111602                         30.5\n",
       "7              Melgaço  1111603                         39.8\n",
       "8               Monção  1111604                         33.4\n",
       "9     Paredes de Coura  1111605                         31.5\n",
       "..                 ...      ...                          ...\n",
       "343      Ribeira Brava  3003107                         25.5\n",
       "344         Santa Cruz  3003108                         24.2\n",
       "345            Santana  3003109                         31.1\n",
       "346        São Vicente  3003110                         29.6\n",
       "347        Porto Santo  3003201                         27.5\n",
       "\n",
       "[308 rows x 3 columns]"
      ]
     },
     "execution_count": 5,
     "metadata": {},
     "output_type": "execute_result"
    }
   ],
   "source": [
    "df_idade = processar_ficheiro(data_path+'Idade da população residente.xls',0)\n",
    "df_idade = carregar_municipios(df_idade)\n",
    "#save_clustered_df_to_csv(df_idade, \"csv_bruto/\", \"5_Idade_População.csv\")\n",
    "df_idade"
   ]
  },
  {
   "cell_type": "code",
   "execution_count": 6,
   "id": "ccb9c3ff",
   "metadata": {},
   "outputs": [
    {
     "data": {
      "application/vnd.plotly.v1+json": {
       "config": {
        "plotlyServerURL": "https://plot.ly"
       },
       "data": [
        {
         "customdata": [
          [
           "Arcos de Valdevez",
           "1111601",
           33.1
          ],
          [
           "Caminha",
           "1111602",
           30.5
          ],
          [
           "Melgaço",
           "1111603",
           39.8
          ],
          [
           "Monção",
           "1111604",
           33.4
          ],
          [
           "Paredes de Coura",
           "1111605",
           31.5
          ],
          [
           "Ponte da Barca",
           "1111606",
           30
          ],
          [
           "Ponte de Lima",
           "1111607",
           27.6
          ],
          [
           "Valença",
           "1111608",
           28.2
          ],
          [
           "Viana do Castelo",
           "1111609",
           28.4
          ],
          [
           "Vila Nova de Cerveira",
           "1111610",
           28.6
          ],
          [
           "Amares",
           "1120301",
           26.1
          ],
          [
           "Barcelos",
           "1120302",
           26.4
          ],
          [
           "Braga",
           "1120303",
           25.5
          ],
          [
           "Esposende",
           "1120306",
           25.7
          ],
          [
           "Terras de Bouro",
           "1120310",
           30
          ],
          [
           "Vila Verde",
           "1120313",
           25.7
          ],
          [
           "Cabeceiras de Basto",
           "1190304",
           26.7
          ],
          [
           "Fafe",
           "1190307",
           27.9
          ],
          [
           "Guimarães",
           "1190308",
           27.1
          ],
          [
           "Mondim de Basto",
           "1191705",
           29.9
          ],
          [
           "Póvoa de Lanhoso",
           "1190309",
           27
          ],
          [
           "Vieira do Minho",
           "1190311",
           31.1
          ],
          [
           "Vila Nova de Famalicão",
           "1190312",
           26.5
          ],
          [
           "Vizela",
           "1190314",
           26.1
          ],
          [
           "Arouca",
           "11A0104",
           27.2
          ],
          [
           "Espinho",
           "11A0107",
           29.3
          ],
          [
           "Gondomar",
           "11A1304",
           27
          ],
          [
           "Maia",
           "11A1306",
           25.8
          ],
          [
           "Matosinhos",
           "11A1308",
           27.8
          ],
          [
           "Oliveira de Azeméis",
           "11A0113",
           28.4
          ],
          [
           "Paredes",
           "11A1310",
           24.7
          ],
          [
           "Porto",
           "11A1312",
           28
          ],
          [
           "Póvoa de Varzim",
           "11A1313",
           25.8
          ],
          [
           "Santa Maria da Feira",
           "11A0109",
           27.1
          ],
          [
           "Santo Tirso",
           "11A1314",
           29.4
          ],
          [
           "São João da Madeira",
           "11A0116",
           27.5
          ],
          [
           "Trofa",
           "11A1318",
           26.9
          ],
          [
           "Vale de Cambra",
           "11A0119",
           30.7
          ],
          [
           "Valongo",
           "11A1315",
           26
          ],
          [
           "Vila do Conde",
           "11A1316",
           25.9
          ],
          [
           "Vila Nova de Gaia",
           "11A1317",
           27
          ],
          [
           "Boticas",
           "11B1702",
           37
          ],
          [
           "Chaves",
           "11B1703",
           33
          ],
          [
           "Montalegre",
           "11B1706",
           38.2
          ],
          [
           "Ribeira de Pena",
           "11B1709",
           32.1
          ],
          [
           "Valpaços",
           "11B1712",
           37.4
          ],
          [
           "Vila Pouca de Aguiar",
           "11B1713",
           34.8
          ],
          [
           "Amarante",
           "11C1301",
           27.3
          ],
          [
           "Baião",
           "11C1302",
           28.3
          ],
          [
           "Castelo de Paiva",
           "11C0106",
           26.9
          ],
          [
           "Celorico de Basto",
           "11C0305",
           27.8
          ],
          [
           "Cinfães",
           "11C1804",
           28.5
          ],
          [
           "Felgueiras",
           "11C1303",
           26.3
          ],
          [
           "Lousada",
           "11C1305",
           24.6
          ],
          [
           "Marco de Canaveses",
           "11C1307",
           25.6
          ],
          [
           "Paços de Ferreira",
           "11C1309",
           25.1
          ],
          [
           "Penafiel",
           "11C1311",
           25.3
          ],
          [
           "Resende",
           "11C1813",
           29.1
          ],
          [
           "Alijó",
           "11D1701",
           33.6
          ],
          [
           "Armamar",
           "11D1801",
           31.5
          ],
          [
           "Carrazeda de Ansiães",
           "11D0403",
           35.9
          ],
          [
           "Freixo de Espada à Cinta",
           "11D0404",
           32.1
          ],
          [
           "Lamego",
           "11D1805",
           30.3
          ],
          [
           "Mesão Frio",
           "11D1704",
           30.1
          ],
          [
           "Moimenta da Beira",
           "11D1807",
           28.5
          ],
          [
           "Murça",
           "11D1707",
           34.4
          ],
          [
           "Penedono",
           "11D1812",
           32
          ],
          [
           "Peso da Régua",
           "11D1708",
           30
          ],
          [
           "Sabrosa",
           "11D1710",
           32.2
          ],
          [
           "Santa Marta de Penaguião",
           "11D1711",
           32.9
          ],
          [
           "São João da Pesqueira",
           "11D1815",
           30
          ],
          [
           "Sernancelhe",
           "11D1818",
           32.3
          ],
          [
           "Tabuaço",
           "11D1819",
           32
          ],
          [
           "Tarouca",
           "11D1820",
           27.3
          ],
          [
           "Torre de Moncorvo",
           "11D0409",
           37.6
          ],
          [
           "Vila Nova de Foz Côa",
           "11D0914",
           34.8
          ],
          [
           "Vila Real",
           "11D1714",
           28
          ],
          [
           "Alfândega da Fé",
           "11E0401",
           34.8
          ],
          [
           "Bragança",
           "11E0402",
           28.6
          ],
          [
           "Macedo de Cavaleiros",
           "11E0405",
           33.7
          ],
          [
           "Miranda do Douro",
           "11E0406",
           37.5
          ],
          [
           "Mirandela",
           "11E0407",
           31.6
          ],
          [
           "Mogadouro",
           "11E0408",
           37
          ],
          [
           "Vila Flor",
           "11E0410",
           33.8
          ],
          [
           "Vimioso",
           "11E0411",
           38
          ],
          [
           "Vinhais",
           "11E0412",
           42.6
          ],
          [
           "Águeda",
           "1910101",
           28.5
          ],
          [
           "Albergaria-a-Velha",
           "1910102",
           26.9
          ],
          [
           "Anadia",
           "1910103",
           30
          ],
          [
           "Aveiro",
           "1910105",
           26.8
          ],
          [
           "Estarreja",
           "1910108",
           27.3
          ],
          [
           "Ílhavo",
           "1910110",
           26.3
          ],
          [
           "Murtosa",
           "1910112",
           26.3
          ],
          [
           "Oliveira do Bairro",
           "1910114",
           25.7
          ],
          [
           "Ovar",
           "1910115",
           27
          ],
          [
           "Sever do Vouga",
           "1910117",
           30.2
          ],
          [
           "Vagos",
           "1910118",
           26.6
          ],
          [
           "Arganil",
           "1920601",
           32.1
          ],
          [
           "Cantanhede",
           "1920602",
           29.7
          ],
          [
           "Coimbra",
           "1920603",
           28.4
          ],
          [
           "Condeixa-a-Nova",
           "1920604",
           26.3
          ],
          [
           "Figueira da Foz",
           "1920605",
           29.6
          ],
          [
           "Góis",
           "1920606",
           35.9
          ],
          [
           "Lousã",
           "1920607",
           26.8
          ],
          [
           "Mealhada",
           "1920111",
           29.1
          ],
          [
           "Mira",
           "1920608",
           29.6
          ],
          [
           "Miranda do Corvo",
           "1920609",
           29.4
          ],
          [
           "Montemor-o-Velho",
           "1920610",
           29.1
          ],
          [
           "Mortágua",
           "1921808",
           33.2
          ],
          [
           "Oliveira do Hospital",
           "1920611",
           29.4
          ],
          [
           "Pampilhosa da Serra",
           "1920612",
           40.3
          ],
          [
           "Penacova",
           "1920613",
           33.4
          ],
          [
           "Penela",
           "1920614",
           30.6
          ],
          [
           "Soure",
           "1920615",
           32.3
          ],
          [
           "Tábua",
           "1920616",
           29.4
          ],
          [
           "Vila Nova de Poiares",
           "1920617",
           28.5
          ],
          [
           "Alvaiázere",
           "1931002",
           34
          ],
          [
           "Ansião",
           "1931003",
           31.3
          ],
          [
           "Batalha",
           "1931004",
           25.6
          ],
          [
           "Castanheira de Pêra",
           "1931007",
           34.1
          ],
          [
           "Figueiró dos Vinhos",
           "1931008",
           34.6
          ],
          [
           "Leiria",
           "1931009",
           26.3
          ],
          [
           "Marinha Grande",
           "1931010",
           26.7
          ],
          [
           "Pedrógão Grande",
           "1931013",
           33.1
          ],
          [
           "Pombal",
           "1931015",
           28.6
          ],
          [
           "Porto de Mós",
           "1931016",
           27
          ],
          [
           "Aguiar da Beira",
           "1940901",
           34.4
          ],
          [
           "Carregal do Sal",
           "1941802",
           29.4
          ],
          [
           "Castro Daire",
           "1941803",
           31.9
          ],
          [
           "Mangualde",
           "1941806",
           29.1
          ],
          [
           "Nelas",
           "1941809",
           29.2
          ],
          [
           "Oliveira de Frades",
           "1941810",
           27.3
          ],
          [
           "Penalva do Castelo",
           "1941811",
           32.1
          ],
          [
           "Santa Comba Dão",
           "1941814",
           30.4
          ],
          [
           "São Pedro do Sul",
           "1941816",
           30.7
          ],
          [
           "Sátão",
           "1941817",
           29.4
          ],
          [
           "Tondela",
           "1941821",
           31.2
          ],
          [
           "Vila Nova de Paiva",
           "1941822",
           31
          ],
          [
           "Viseu",
           "1941823",
           26.6
          ],
          [
           "Vouzela",
           "1941824",
           30.8
          ],
          [
           "Castelo Branco",
           "1950502",
           29.5
          ],
          [
           "Idanha-a-Nova",
           "1950505",
           35.5
          ],
          [
           "Oleiros",
           "1950506",
           41.6
          ],
          [
           "Penamacor",
           "1950507",
           39.5
          ],
          [
           "Proença-a-Nova",
           "1950508",
           35.9
          ],
          [
           "Sertã",
           "1950509",
           30.4
          ],
          [
           "Vila de Rei",
           "1950510",
           31.5
          ],
          [
           "Vila Velha de Ródão",
           "1950511",
           36
          ],
          [
           "Almeida",
           "1960902",
           40.8
          ],
          [
           "Belmonte",
           "1960501",
           32
          ],
          [
           "Celorico da Beira",
           "1960903",
           33.3
          ],
          [
           "Covilhã",
           "1960503",
           30.8
          ],
          [
           "Figueira de Castelo Rodrigo",
           "1960904",
           33.4
          ],
          [
           "Fornos de Algodres",
           "1960905",
           33.7
          ],
          [
           "Fundão",
           "1960504",
           31.5
          ],
          [
           "Gouveia",
           "1960906",
           34.8
          ],
          [
           "Guarda",
           "1960907",
           28.9
          ],
          [
           "Manteigas",
           "1960908",
           33.8
          ],
          [
           "Mêda",
           "1960909",
           36
          ],
          [
           "Pinhel",
           "1960910",
           37.1
          ],
          [
           "Sabugal",
           "1960911",
           38.7
          ],
          [
           "Seia",
           "1960912",
           34
          ],
          [
           "Trancoso",
           "1960913",
           35.5
          ],
          [
           "Alcobaça",
           "1D11001",
           27.7
          ],
          [
           "Alenquer",
           "1D11101",
           24.2
          ],
          [
           "Arruda dos Vinhos",
           "1D11102",
           22.9
          ],
          [
           "Bombarral",
           "1D11005",
           27.7
          ],
          [
           "Cadaval",
           "1D11104",
           28
          ],
          [
           "Caldas da Rainha",
           "1D11006",
           27.3
          ],
          [
           "Lourinhã",
           "1D11108",
           26.2
          ],
          [
           "Nazaré",
           "1D11011",
           27.6
          ],
          [
           "Óbidos",
           "1D11012",
           27.5
          ],
          [
           "Peniche",
           "1D11014",
           26.5
          ],
          [
           "Sobral de Monte Agraço",
           "1D11112",
           23.9
          ],
          [
           "Torres Vedras",
           "1D11113",
           26
          ],
          [
           "Abrantes",
           "1D21401",
           31.4
          ],
          [
           "Alcanena",
           "1D21402",
           28.4
          ],
          [
           "Constância",
           "1D21408",
           26.7
          ],
          [
           "Entroncamento",
           "1D21410",
           24.7
          ],
          [
           "Ferreira do Zêzere",
           "1D21411",
           29.9
          ],
          [
           "Mação",
           "1D21413",
           36.5
          ],
          [
           "Ourém",
           "1D21421",
           27.3
          ],
          [
           "Sardoal",
           "1D21417",
           31.9
          ],
          [
           "Tomar",
           "1D21418",
           30
          ],
          [
           "Torres Novas",
           "1D21419",
           28.2
          ],
          [
           "Vila Nova da Barquinha",
           "1D21420",
           26.8
          ],
          [
           "Almeirim",
           "1D31403",
           26.1
          ],
          [
           "Alpiarça",
           "1D31404",
           26.5
          ],
          [
           "Azambuja",
           "1D31103",
           26.4
          ],
          [
           "Benavente",
           "1D31405",
           23.8
          ],
          [
           "Cartaxo",
           "1D31406",
           26.9
          ],
          [
           "Chamusca",
           "1D31407",
           31.3
          ],
          [
           "Coruche",
           "1D31409",
           31
          ],
          [
           "Golegã",
           "1D31412",
           28.2
          ],
          [
           "Rio Maior",
           "1D31414",
           26
          ],
          [
           "Salvaterra de Magos",
           "1D31415",
           26.9
          ],
          [
           "Santarém",
           "1D31416",
           26.8
          ],
          [
           "Amadora",
           "1A01115",
           25.2
          ],
          [
           "Cascais",
           "1A01105",
           24.8
          ],
          [
           "Lisboa",
           "1A01106",
           26.6
          ],
          [
           "Loures",
           "1A01107",
           24.4
          ],
          [
           "Mafra",
           "1A01109",
           22.8
          ],
          [
           "Odivelas",
           "1A01116",
           24.3
          ],
          [
           "Oeiras",
           "1A01110",
           25.4
          ],
          [
           "Sintra",
           "1A01111",
           23.9
          ],
          [
           "Vila Franca de Xira",
           "1A01114",
           24
          ],
          [
           "Alcochete",
           "1B01502",
           22.7
          ],
          [
           "Almada",
           "1B01503",
           25.7
          ],
          [
           "Barreiro",
           "1B01504",
           26.1
          ],
          [
           "Moita",
           "1B01506",
           24
          ],
          [
           "Montijo",
           "1B01507",
           23.3
          ],
          [
           "Palmela",
           "1B01508",
           24.4
          ],
          [
           "Seixal",
           "1B01510",
           24.5
          ],
          [
           "Sesimbra",
           "1B01511",
           24.3
          ],
          [
           "Setúbal",
           "1B01512",
           25
          ],
          [
           "Alcácer do Sal",
           "1C11501",
           30.6
          ],
          [
           "Grândola",
           "1C11505",
           28.3
          ],
          [
           "Odemira",
           "1C10211",
           29.2
          ],
          [
           "Santiago do Cacém",
           "1C11509",
           29.8
          ],
          [
           "Sines",
           "1C11513",
           25.7
          ],
          [
           "Aljustrel",
           "1C20201",
           29.2
          ],
          [
           "Almodôvar",
           "1C20202",
           30.8
          ],
          [
           "Alvito",
           "1C20203",
           26.3
          ],
          [
           "Barrancos",
           "1C20204",
           26
          ],
          [
           "Beja",
           "1C20205",
           25
          ],
          [
           "Castro Verde",
           "1C20206",
           28.2
          ],
          [
           "Cuba",
           "1C20207",
           26.3
          ],
          [
           "Ferreira do Alentejo",
           "1C20208",
           28.4
          ],
          [
           "Mértola",
           "1C20209",
           36.8
          ],
          [
           "Moura",
           "1C20210",
           23.7
          ],
          [
           "Ourique",
           "1C20212",
           32.1
          ],
          [
           "Serpa",
           "1C20213",
           28.9
          ],
          [
           "Vidigueira",
           "1C20214",
           27
          ],
          [
           "Alter do Chão",
           "1C31201",
           29.1
          ],
          [
           "Arronches",
           "1C31202",
           30.4
          ],
          [
           "Avis",
           "1C31203",
           30.4
          ],
          [
           "Campo Maior",
           "1C31204",
           24.3
          ],
          [
           "Castelo de Vide",
           "1C31205",
           33.6
          ],
          [
           "Crato",
           "1C31206",
           34.5
          ],
          [
           "Elvas",
           "1C31207",
           25.3
          ],
          [
           "Fronteira",
           "1C31208",
           31.5
          ],
          [
           "Gavião",
           "1C31209",
           38.9
          ],
          [
           "Marvão",
           "1C31210",
           33.2
          ],
          [
           "Monforte",
           "1C31211",
           25.1
          ],
          [
           "Nisa",
           "1C31212",
           37.7
          ],
          [
           "Ponte de Sor",
           "1C31213",
           29.8
          ],
          [
           "Portalegre",
           "1C31214",
           28.3
          ],
          [
           "Sousel",
           "1C31215",
           29.2
          ],
          [
           "Alandroal",
           "1C40701",
           32.6
          ],
          [
           "Arraiolos",
           "1C40702",
           29.3
          ],
          [
           "Borba",
           "1C40703",
           29.5
          ],
          [
           "Estremoz",
           "1C40704",
           29.6
          ],
          [
           "Évora",
           "1C40705",
           26.4
          ],
          [
           "Montemor-o-Novo",
           "1C40706",
           29.7
          ],
          [
           "Mora",
           "1C40707",
           34.3
          ],
          [
           "Mourão",
           "1C40708",
           25.3
          ],
          [
           "Portel",
           "1C40709",
           28.4
          ],
          [
           "Redondo",
           "1C40710",
           28.8
          ],
          [
           "Reguengos de Monsaraz",
           "1C40711",
           27.4
          ],
          [
           "Vendas Novas",
           "1C40712",
           27.6
          ],
          [
           "Viana do Alentejo",
           "1C40713",
           26.6
          ],
          [
           "Vila Viçosa",
           "1C40714",
           30.1
          ],
          [
           "Albufeira",
           "1500801",
           25.3
          ],
          [
           "Alcoutim",
           "1500802",
           41.2
          ],
          [
           "Aljezur",
           "1500803",
           28.3
          ],
          [
           "Castro Marim",
           "1500804",
           29.4
          ],
          [
           "Faro",
           "1500805",
           25.9
          ],
          [
           "Lagoa",
           "1500806",
           25.7
          ],
          [
           "Lagos",
           "1500807",
           27.3
          ],
          [
           "Loulé",
           "1500808",
           26.2
          ],
          [
           "Monchique",
           "1500809",
           34.3
          ],
          [
           "Olhão",
           "1500810",
           25
          ],
          [
           "Portimão",
           "1500811",
           24.8
          ],
          [
           "São Brás de Alportel",
           "1500812",
           27.1
          ],
          [
           "Silves",
           "1500813",
           26.9
          ],
          [
           "Tavira",
           "1500814",
           30.2
          ],
          [
           "Vila do Bispo",
           "1500815",
           29
          ],
          [
           "Vila Real de Santo António",
           "1500816",
           26.2
          ],
          [
           "Angra do Heroísmo",
           "2004301",
           25.9
          ],
          [
           "Calheta (R.A.A.)",
           "2004501",
           26.6
          ],
          [
           "Corvo",
           "2004901",
           27.6
          ],
          [
           "Horta",
           "2004701",
           26.4
          ],
          [
           "Lagoa (R.A.A.)",
           "2004201",
           21.9
          ],
          [
           "Lajes das Flores",
           "2004801",
           27.6
          ],
          [
           "Lajes do Pico",
           "2004601",
           27.9
          ],
          [
           "Madalena",
           "2004602",
           25.7
          ],
          [
           "Nordeste",
           "2004202",
           25.5
          ],
          [
           "Ponta Delgada",
           "2004203",
           24.4
          ],
          [
           "Povoação",
           "2004204",
           24.8
          ],
          [
           "Ribeira Grande",
           "2004205",
           20
          ],
          [
           "Santa Cruz da Graciosa",
           "2004401",
           25
          ],
          [
           "Santa Cruz das Flores",
           "2004802",
           26.8
          ],
          [
           "São Roque do Pico",
           "2004603",
           28.7
          ],
          [
           "Velas",
           "2004502",
           27.6
          ],
          [
           "Vila da Praia da Vitória",
           "2004302",
           26
          ],
          [
           "Vila do Porto",
           "2004101",
           24
          ],
          [
           "Vila Franca do Campo",
           "2004206",
           24
          ],
          [
           "Calheta (R.A.M.)",
           "3003101",
           28.1
          ],
          [
           "Câmara de Lobos",
           "3003102",
           23.3
          ],
          [
           "Funchal",
           "3003103",
           27.8
          ],
          [
           "Machico",
           "3003104",
           27.6
          ],
          [
           "Ponta do Sol",
           "3003105",
           25.9
          ],
          [
           "Porto Moniz",
           "3003106",
           31.1
          ],
          [
           "Ribeira Brava",
           "3003107",
           25.5
          ],
          [
           "Santa Cruz",
           "3003108",
           24.2
          ],
          [
           "Santana",
           "3003109",
           31.1
          ],
          [
           "São Vicente",
           "3003110",
           29.6
          ],
          [
           "Porto Santo",
           "3003201",
           27.5
          ]
         ],
         "hovertemplate": "valor=%{x}<br>y=%{y}<br>local=%{customdata[0]}<br>codigo=%{customdata[1]}<br>Idade da população residente=%{customdata[2]}<br>Idade_População=%{marker.color}<extra></extra>",
         "legendgroup": "",
         "marker": {
          "color": [
           2,
           1,
           2,
           2,
           1,
           1,
           0,
           1,
           1,
           1,
           0,
           0,
           0,
           0,
           1,
           0,
           0,
           0,
           0,
           1,
           0,
           1,
           0,
           0,
           0,
           1,
           0,
           0,
           0,
           1,
           0,
           1,
           0,
           0,
           1,
           0,
           0,
           1,
           0,
           0,
           0,
           2,
           2,
           2,
           1,
           2,
           2,
           0,
           1,
           0,
           0,
           1,
           0,
           0,
           0,
           0,
           0,
           1,
           2,
           1,
           2,
           1,
           1,
           1,
           1,
           2,
           1,
           1,
           1,
           1,
           1,
           1,
           1,
           0,
           2,
           2,
           1,
           2,
           1,
           2,
           2,
           1,
           2,
           2,
           2,
           2,
           1,
           0,
           1,
           0,
           0,
           0,
           0,
           0,
           0,
           1,
           0,
           1,
           1,
           1,
           0,
           1,
           2,
           0,
           1,
           1,
           1,
           1,
           2,
           1,
           2,
           2,
           1,
           1,
           1,
           1,
           2,
           1,
           0,
           2,
           2,
           0,
           0,
           2,
           1,
           0,
           2,
           1,
           1,
           1,
           1,
           0,
           1,
           1,
           1,
           1,
           1,
           1,
           0,
           1,
           1,
           2,
           2,
           2,
           2,
           1,
           1,
           2,
           2,
           1,
           2,
           1,
           2,
           2,
           1,
           2,
           1,
           2,
           2,
           2,
           2,
           2,
           2,
           0,
           0,
           0,
           0,
           1,
           0,
           0,
           0,
           0,
           0,
           0,
           0,
           1,
           1,
           0,
           0,
           1,
           2,
           0,
           1,
           1,
           1,
           0,
           0,
           0,
           0,
           0,
           0,
           1,
           1,
           1,
           0,
           0,
           0,
           0,
           0,
           0,
           0,
           0,
           0,
           0,
           0,
           0,
           0,
           0,
           0,
           0,
           0,
           0,
           0,
           0,
           0,
           1,
           1,
           1,
           1,
           0,
           1,
           1,
           0,
           0,
           0,
           1,
           0,
           1,
           2,
           0,
           1,
           1,
           0,
           1,
           1,
           1,
           0,
           2,
           2,
           0,
           1,
           2,
           2,
           0,
           2,
           1,
           1,
           1,
           1,
           1,
           1,
           1,
           0,
           1,
           2,
           0,
           1,
           1,
           0,
           0,
           0,
           1,
           0,
           2,
           1,
           1,
           0,
           0,
           0,
           0,
           2,
           0,
           0,
           0,
           0,
           1,
           1,
           0,
           0,
           0,
           0,
           0,
           0,
           0,
           0,
           0,
           0,
           0,
           0,
           0,
           0,
           0,
           1,
           0,
           0,
           0,
           0,
           1,
           0,
           0,
           0,
           0,
           1,
           0,
           0,
           1,
           1,
           0
          ],
          "coloraxis": "coloraxis",
          "size": 10,
          "symbol": "circle"
         },
         "mode": "markers",
         "name": "",
         "orientation": "v",
         "showlegend": false,
         "type": "scatter",
         "x": [
          0.9887773160943122,
          0.33150756036398443,
          2.6825109173993855,
          1.0646161340631954,
          0.5843036202602642,
          0.20510953041584454,
          -0.4016010133352265,
          -0.2499233773974592,
          -0.19936416541820345,
          -0.14880495343894679,
          -0.7807951031796462,
          -0.7049562852107629,
          -0.9324727391174144,
          -0.8819135271381586,
          0.20510953041584454,
          -0.8819135271381586,
          -0.6291174672418789,
          -0.3257621953663433,
          -0.5279990432833664,
          0.1798299244262162,
          -0.5532786492729947,
          0.4831851963017526,
          -0.6796766792211346,
          -0.7807951031796462,
          -0.502719437293739,
          0.02815228848844888,
          -0.5532786492729947,
          -0.8566339211485303,
          -0.35104180135597074,
          -0.19936416541820345,
          -1.1347095870344384,
          -0.300482589376715,
          -0.8566339211485303,
          -0.5279990432833664,
          0.053431894478076315,
          -0.4268806193248549,
          -0.5785582552626231,
          0.3820667723432402,
          -0.8060747091692745,
          -0.8313543151589029,
          -0.5532786492729947,
          1.974681949689803,
          0.9634977101046838,
          2.2780372215653393,
          0.7359812561980323,
          2.0758003736483146,
          1.4185306179179866,
          -0.47743983130411066,
          -0.22464377140783087,
          -0.5785582552626231,
          -0.35104180135597074,
          -0.17408455942857512,
          -0.7302358912003905,
          -1.1599891930240658,
          -0.907193133127786,
          -1.033591163075926,
          -0.9830319510966702,
          -0.022406923490806894,
          1.115175346042452,
          0.5843036202602642,
          1.6966062838038947,
          0.7359812561980323,
          0.28094834838472865,
          0.23038913640547287,
          -0.17408455942857512,
          1.3174121939594752,
          0.710701650208404,
          0.20510953041584454,
          0.7612608621876608,
          0.9382181041150555,
          0.20510953041584454,
          0.7865404681772873,
          0.710701650208404,
          -0.47743983130411066,
          2.126359585627571,
          1.4185306179179866,
          -0.300482589376715,
          1.4185306179179866,
          -0.14880495343894679,
          1.1404549520320804,
          2.1010799796379427,
          0.6095832262498925,
          1.974681949689803,
          1.165734558021707,
          2.2274780095860827,
          3.3903398851089697,
          -0.17408455942857512,
          -0.5785582552626231,
          0.20510953041584454,
          -0.6038378612522505,
          -0.47743983130411066,
          -0.7302358912003905,
          -0.7302358912003905,
          -0.8819135271381586,
          -0.5532786492729947,
          0.2556687423951003,
          -0.6543970732315063,
          0.7359812561980323,
          0.12927071244696042,
          -0.19936416541820345,
          -0.7302358912003905,
          0.10399110645733299,
          1.6966062838038947,
          -0.6038378612522505,
          -0.022406923490806894,
          0.10399110645733299,
          0.053431894478076315,
          -0.022406923490806894,
          1.0140569220839404,
          0.053431894478076315,
          2.8089089473475255,
          1.0646161340631954,
          0.35678716635361274,
          0.7865404681772873,
          0.053431894478076315,
          -0.17408455942857512,
          1.2162937700009635,
          0.5337444082810084,
          -0.907193133127786,
          1.2415733759905918,
          1.3679714059387318,
          -0.7302358912003905,
          -0.6291174672418789,
          0.9887773160943122,
          -0.14880495343894679,
          -0.5532786492729947,
          1.3174121939594752,
          0.053431894478076315,
          0.6854220442187757,
          -0.022406923490806894,
          0.0028726824988205444,
          -0.47743983130411066,
          0.7359812561980323,
          0.30622795437435607,
          0.3820667723432402,
          0.053431894478076315,
          0.50846480229138,
          0.4579055903121243,
          -0.6543970732315063,
          0.4073463783328685,
          0.07871150046770466,
          1.5954878598453832,
          3.13754382521269,
          2.606672099430502,
          1.6966062838038947,
          0.30622795437435607,
          0.5843036202602642,
          1.7218858897935232,
          2.935306977295665,
          0.710701650208404,
          1.0393365280735671,
          0.4073463783328685,
          1.0646161340631954,
          1.1404549520320804,
          0.5843036202602642,
          1.4185306179179866,
          -0.07296613547006356,
          1.165734558021707,
          1.7218858897935232,
          1.9999615556794312,
          2.4044352515134793,
          1.2162937700009635,
          1.5954878598453832,
          -0.3763214073455991,
          -1.2611076169825783,
          -1.589742494847742,
          -0.3763214073455991,
          -0.300482589376715,
          -0.47743983130411066,
          -0.7555154971900188,
          -0.4016010133352265,
          -0.4268806193248549,
          -0.6796766792211346,
          -1.3369464349514624,
          -0.8060747091692745,
          0.5590240142706359,
          -0.19936416541820345,
          -0.6291174672418789,
          -1.1347095870344384,
          0.1798299244262162,
          1.848283919741663,
          -0.47743983130411066,
          0.6854220442187757,
          0.20510953041584454,
          -0.2499233773974592,
          -0.6038378612522505,
          -0.7807951031796462,
          -0.6796766792211346,
          -0.7049562852107629,
          -1.3622260409410898,
          -0.5785582552626231,
          0.5337444082810084,
          0.4579055903121243,
          -0.2499233773974592,
          -0.8060747091692745,
          -0.5785582552626231,
          -0.6038378612522505,
          -1.0083115570862986,
          -1.10942998104481,
          -0.6543970732315063,
          -1.2105484050033224,
          -1.6150221008373695,
          -1.23582801099295,
          -0.9577523451070428,
          -1.3369464349514624,
          -1.311666828961834,
          -1.6403017068269978,
          -0.8819135271381586,
          -0.7807951031796462,
          -1.311666828961834,
          -1.4886240708892298,
          -1.2105484050033224,
          -1.185268799013694,
          -1.23582801099295,
          -1.0588707690655543,
          0.35678716635361274,
          -0.22464377140783087,
          0.0028726824988205444,
          0.15455031843658876,
          -0.8819135271381586,
          0.0028726824988205444,
          0.4073463783328685,
          -0.7302358912003905,
          -0.8060747091692745,
          -1.0588707690655543,
          -0.2499233773974592,
          -0.7302358912003905,
          -0.19936416541820345,
          1.924122737710546,
          -1.387505646930718,
          0.7359812561980323,
          -0.07296613547006356,
          -0.5532786492729947,
          -0.022406923490806894,
          0.30622795437435607,
          0.30622795437435607,
          -1.23582801099295,
          1.115175346042452,
          1.3426917999491035,
          -0.9830319510966702,
          0.5843036202602642,
          2.454994463492734,
          1.0140569220839404,
          -1.033591163075926,
          2.1516391916171993,
          0.15455031843658876,
          -0.22464377140783087,
          0.0028726824988205444,
          0.8623792861461723,
          0.02815228848844888,
          0.07871150046770466,
          0.10399110645733299,
          -0.7049562852107629,
          0.12927071244696042,
          1.2921325879698469,
          -0.9830319510966702,
          -0.19936416541820345,
          -0.098245741459691,
          -0.4521602253144832,
          -0.4016010133352265,
          -0.6543970732315063,
          0.23038913640547287,
          -0.9830319510966702,
          3.0364254012541787,
          -0.22464377140783087,
          0.053431894478076315,
          -0.8313543151589029,
          -0.8819135271381586,
          -0.47743983130411066,
          -0.7555154971900188,
          1.2921325879698469,
          -1.0588707690655543,
          -1.10942998104481,
          -0.5279990432833664,
          -0.5785582552626231,
          0.2556687423951003,
          -0.047686529480435225,
          -0.7555154971900188,
          -0.8313543151589029,
          -0.6543970732315063,
          -0.4016010133352265,
          -0.7049562852107629,
          -1.8425385547440218,
          -0.4016010133352265,
          -0.3257621953663433,
          -0.8819135271381586,
          -0.9324727391174144,
          -1.2105484050033224,
          -1.10942998104481,
          -2.322851068546953,
          -1.0588707690655543,
          -0.6038378612522505,
          -0.12352534744931934,
          -0.4016010133352265,
          -0.8060747091692745,
          -1.311666828961834,
          -1.311666828961834,
          -0.27520298338708665,
          -1.4886240708892298,
          -0.35104180135597074,
          -0.4016010133352265,
          -0.8313543151589029,
          0.4831851963017526,
          -0.9324727391174144,
          -1.2611076169825783,
          0.4831851963017526,
          0.10399110645733299,
          -0.4268806193248549
         ],
         "xaxis": "x",
         "y": [
          0,
          0,
          0,
          0,
          0,
          0,
          0,
          0,
          0,
          0,
          0,
          0,
          0,
          0,
          0,
          0,
          0,
          0,
          0,
          0,
          0,
          0,
          0,
          0,
          0,
          0,
          0,
          0,
          0,
          0,
          0,
          0,
          0,
          0,
          0,
          0,
          0,
          0,
          0,
          0,
          0,
          0,
          0,
          0,
          0,
          0,
          0,
          0,
          0,
          0,
          0,
          0,
          0,
          0,
          0,
          0,
          0,
          0,
          0,
          0,
          0,
          0,
          0,
          0,
          0,
          0,
          0,
          0,
          0,
          0,
          0,
          0,
          0,
          0,
          0,
          0,
          0,
          0,
          0,
          0,
          0,
          0,
          0,
          0,
          0,
          0,
          0,
          0,
          0,
          0,
          0,
          0,
          0,
          0,
          0,
          0,
          0,
          0,
          0,
          0,
          0,
          0,
          0,
          0,
          0,
          0,
          0,
          0,
          0,
          0,
          0,
          0,
          0,
          0,
          0,
          0,
          0,
          0,
          0,
          0,
          0,
          0,
          0,
          0,
          0,
          0,
          0,
          0,
          0,
          0,
          0,
          0,
          0,
          0,
          0,
          0,
          0,
          0,
          0,
          0,
          0,
          0,
          0,
          0,
          0,
          0,
          0,
          0,
          0,
          0,
          0,
          0,
          0,
          0,
          0,
          0,
          0,
          0,
          0,
          0,
          0,
          0,
          0,
          0,
          0,
          0,
          0,
          0,
          0,
          0,
          0,
          0,
          0,
          0,
          0,
          0,
          0,
          0,
          0,
          0,
          0,
          0,
          0,
          0,
          0,
          0,
          0,
          0,
          0,
          0,
          0,
          0,
          0,
          0,
          0,
          0,
          0,
          0,
          0,
          0,
          0,
          0,
          0,
          0,
          0,
          0,
          0,
          0,
          0,
          0,
          0,
          0,
          0,
          0,
          0,
          0,
          0,
          0,
          0,
          0,
          0,
          0,
          0,
          0,
          0,
          0,
          0,
          0,
          0,
          0,
          0,
          0,
          0,
          0,
          0,
          0,
          0,
          0,
          0,
          0,
          0,
          0,
          0,
          0,
          0,
          0,
          0,
          0,
          0,
          0,
          0,
          0,
          0,
          0,
          0,
          0,
          0,
          0,
          0,
          0,
          0,
          0,
          0,
          0,
          0,
          0,
          0,
          0,
          0,
          0,
          0,
          0,
          0,
          0,
          0,
          0,
          0,
          0,
          0,
          0,
          0,
          0,
          0,
          0,
          0,
          0,
          0,
          0,
          0,
          0,
          0,
          0,
          0,
          0,
          0,
          0,
          0,
          0,
          0,
          0,
          0,
          0,
          0,
          0,
          0,
          0,
          0,
          0
         ],
         "yaxis": "y"
        }
       ],
       "layout": {
        "coloraxis": {
         "colorbar": {
          "title": {
           "text": "Idade_População"
          }
         },
         "colorscale": [
          [
           0,
           "#440154"
          ],
          [
           0.1111111111111111,
           "#482878"
          ],
          [
           0.2222222222222222,
           "#3e4989"
          ],
          [
           0.3333333333333333,
           "#31688e"
          ],
          [
           0.4444444444444444,
           "#26828e"
          ],
          [
           0.5555555555555556,
           "#1f9e89"
          ],
          [
           0.6666666666666666,
           "#35b779"
          ],
          [
           0.7777777777777778,
           "#6ece58"
          ],
          [
           0.8888888888888888,
           "#b5de2b"
          ],
          [
           1,
           "#fde725"
          ]
         ]
        },
        "height": 300,
        "legend": {
         "tracegroupgap": 0
        },
        "margin": {
         "t": 60
        },
        "template": {
         "data": {
          "bar": [
           {
            "error_x": {
             "color": "#2a3f5f"
            },
            "error_y": {
             "color": "#2a3f5f"
            },
            "marker": {
             "line": {
              "color": "#E5ECF6",
              "width": 0.5
             },
             "pattern": {
              "fillmode": "overlay",
              "size": 10,
              "solidity": 0.2
             }
            },
            "type": "bar"
           }
          ],
          "barpolar": [
           {
            "marker": {
             "line": {
              "color": "#E5ECF6",
              "width": 0.5
             },
             "pattern": {
              "fillmode": "overlay",
              "size": 10,
              "solidity": 0.2
             }
            },
            "type": "barpolar"
           }
          ],
          "carpet": [
           {
            "aaxis": {
             "endlinecolor": "#2a3f5f",
             "gridcolor": "white",
             "linecolor": "white",
             "minorgridcolor": "white",
             "startlinecolor": "#2a3f5f"
            },
            "baxis": {
             "endlinecolor": "#2a3f5f",
             "gridcolor": "white",
             "linecolor": "white",
             "minorgridcolor": "white",
             "startlinecolor": "#2a3f5f"
            },
            "type": "carpet"
           }
          ],
          "choropleth": [
           {
            "colorbar": {
             "outlinewidth": 0,
             "ticks": ""
            },
            "type": "choropleth"
           }
          ],
          "contour": [
           {
            "colorbar": {
             "outlinewidth": 0,
             "ticks": ""
            },
            "colorscale": [
             [
              0,
              "#0d0887"
             ],
             [
              0.1111111111111111,
              "#46039f"
             ],
             [
              0.2222222222222222,
              "#7201a8"
             ],
             [
              0.3333333333333333,
              "#9c179e"
             ],
             [
              0.4444444444444444,
              "#bd3786"
             ],
             [
              0.5555555555555556,
              "#d8576b"
             ],
             [
              0.6666666666666666,
              "#ed7953"
             ],
             [
              0.7777777777777778,
              "#fb9f3a"
             ],
             [
              0.8888888888888888,
              "#fdca26"
             ],
             [
              1,
              "#f0f921"
             ]
            ],
            "type": "contour"
           }
          ],
          "contourcarpet": [
           {
            "colorbar": {
             "outlinewidth": 0,
             "ticks": ""
            },
            "type": "contourcarpet"
           }
          ],
          "heatmap": [
           {
            "colorbar": {
             "outlinewidth": 0,
             "ticks": ""
            },
            "colorscale": [
             [
              0,
              "#0d0887"
             ],
             [
              0.1111111111111111,
              "#46039f"
             ],
             [
              0.2222222222222222,
              "#7201a8"
             ],
             [
              0.3333333333333333,
              "#9c179e"
             ],
             [
              0.4444444444444444,
              "#bd3786"
             ],
             [
              0.5555555555555556,
              "#d8576b"
             ],
             [
              0.6666666666666666,
              "#ed7953"
             ],
             [
              0.7777777777777778,
              "#fb9f3a"
             ],
             [
              0.8888888888888888,
              "#fdca26"
             ],
             [
              1,
              "#f0f921"
             ]
            ],
            "type": "heatmap"
           }
          ],
          "heatmapgl": [
           {
            "colorbar": {
             "outlinewidth": 0,
             "ticks": ""
            },
            "colorscale": [
             [
              0,
              "#0d0887"
             ],
             [
              0.1111111111111111,
              "#46039f"
             ],
             [
              0.2222222222222222,
              "#7201a8"
             ],
             [
              0.3333333333333333,
              "#9c179e"
             ],
             [
              0.4444444444444444,
              "#bd3786"
             ],
             [
              0.5555555555555556,
              "#d8576b"
             ],
             [
              0.6666666666666666,
              "#ed7953"
             ],
             [
              0.7777777777777778,
              "#fb9f3a"
             ],
             [
              0.8888888888888888,
              "#fdca26"
             ],
             [
              1,
              "#f0f921"
             ]
            ],
            "type": "heatmapgl"
           }
          ],
          "histogram": [
           {
            "marker": {
             "pattern": {
              "fillmode": "overlay",
              "size": 10,
              "solidity": 0.2
             }
            },
            "type": "histogram"
           }
          ],
          "histogram2d": [
           {
            "colorbar": {
             "outlinewidth": 0,
             "ticks": ""
            },
            "colorscale": [
             [
              0,
              "#0d0887"
             ],
             [
              0.1111111111111111,
              "#46039f"
             ],
             [
              0.2222222222222222,
              "#7201a8"
             ],
             [
              0.3333333333333333,
              "#9c179e"
             ],
             [
              0.4444444444444444,
              "#bd3786"
             ],
             [
              0.5555555555555556,
              "#d8576b"
             ],
             [
              0.6666666666666666,
              "#ed7953"
             ],
             [
              0.7777777777777778,
              "#fb9f3a"
             ],
             [
              0.8888888888888888,
              "#fdca26"
             ],
             [
              1,
              "#f0f921"
             ]
            ],
            "type": "histogram2d"
           }
          ],
          "histogram2dcontour": [
           {
            "colorbar": {
             "outlinewidth": 0,
             "ticks": ""
            },
            "colorscale": [
             [
              0,
              "#0d0887"
             ],
             [
              0.1111111111111111,
              "#46039f"
             ],
             [
              0.2222222222222222,
              "#7201a8"
             ],
             [
              0.3333333333333333,
              "#9c179e"
             ],
             [
              0.4444444444444444,
              "#bd3786"
             ],
             [
              0.5555555555555556,
              "#d8576b"
             ],
             [
              0.6666666666666666,
              "#ed7953"
             ],
             [
              0.7777777777777778,
              "#fb9f3a"
             ],
             [
              0.8888888888888888,
              "#fdca26"
             ],
             [
              1,
              "#f0f921"
             ]
            ],
            "type": "histogram2dcontour"
           }
          ],
          "mesh3d": [
           {
            "colorbar": {
             "outlinewidth": 0,
             "ticks": ""
            },
            "type": "mesh3d"
           }
          ],
          "parcoords": [
           {
            "line": {
             "colorbar": {
              "outlinewidth": 0,
              "ticks": ""
             }
            },
            "type": "parcoords"
           }
          ],
          "pie": [
           {
            "automargin": true,
            "type": "pie"
           }
          ],
          "scatter": [
           {
            "fillpattern": {
             "fillmode": "overlay",
             "size": 10,
             "solidity": 0.2
            },
            "type": "scatter"
           }
          ],
          "scatter3d": [
           {
            "line": {
             "colorbar": {
              "outlinewidth": 0,
              "ticks": ""
             }
            },
            "marker": {
             "colorbar": {
              "outlinewidth": 0,
              "ticks": ""
             }
            },
            "type": "scatter3d"
           }
          ],
          "scattercarpet": [
           {
            "marker": {
             "colorbar": {
              "outlinewidth": 0,
              "ticks": ""
             }
            },
            "type": "scattercarpet"
           }
          ],
          "scattergeo": [
           {
            "marker": {
             "colorbar": {
              "outlinewidth": 0,
              "ticks": ""
             }
            },
            "type": "scattergeo"
           }
          ],
          "scattergl": [
           {
            "marker": {
             "colorbar": {
              "outlinewidth": 0,
              "ticks": ""
             }
            },
            "type": "scattergl"
           }
          ],
          "scattermapbox": [
           {
            "marker": {
             "colorbar": {
              "outlinewidth": 0,
              "ticks": ""
             }
            },
            "type": "scattermapbox"
           }
          ],
          "scatterpolar": [
           {
            "marker": {
             "colorbar": {
              "outlinewidth": 0,
              "ticks": ""
             }
            },
            "type": "scatterpolar"
           }
          ],
          "scatterpolargl": [
           {
            "marker": {
             "colorbar": {
              "outlinewidth": 0,
              "ticks": ""
             }
            },
            "type": "scatterpolargl"
           }
          ],
          "scatterternary": [
           {
            "marker": {
             "colorbar": {
              "outlinewidth": 0,
              "ticks": ""
             }
            },
            "type": "scatterternary"
           }
          ],
          "surface": [
           {
            "colorbar": {
             "outlinewidth": 0,
             "ticks": ""
            },
            "colorscale": [
             [
              0,
              "#0d0887"
             ],
             [
              0.1111111111111111,
              "#46039f"
             ],
             [
              0.2222222222222222,
              "#7201a8"
             ],
             [
              0.3333333333333333,
              "#9c179e"
             ],
             [
              0.4444444444444444,
              "#bd3786"
             ],
             [
              0.5555555555555556,
              "#d8576b"
             ],
             [
              0.6666666666666666,
              "#ed7953"
             ],
             [
              0.7777777777777778,
              "#fb9f3a"
             ],
             [
              0.8888888888888888,
              "#fdca26"
             ],
             [
              1,
              "#f0f921"
             ]
            ],
            "type": "surface"
           }
          ],
          "table": [
           {
            "cells": {
             "fill": {
              "color": "#EBF0F8"
             },
             "line": {
              "color": "white"
             }
            },
            "header": {
             "fill": {
              "color": "#C8D4E3"
             },
             "line": {
              "color": "white"
             }
            },
            "type": "table"
           }
          ]
         },
         "layout": {
          "annotationdefaults": {
           "arrowcolor": "#2a3f5f",
           "arrowhead": 0,
           "arrowwidth": 1
          },
          "autotypenumbers": "strict",
          "coloraxis": {
           "colorbar": {
            "outlinewidth": 0,
            "ticks": ""
           }
          },
          "colorscale": {
           "diverging": [
            [
             0,
             "#8e0152"
            ],
            [
             0.1,
             "#c51b7d"
            ],
            [
             0.2,
             "#de77ae"
            ],
            [
             0.3,
             "#f1b6da"
            ],
            [
             0.4,
             "#fde0ef"
            ],
            [
             0.5,
             "#f7f7f7"
            ],
            [
             0.6,
             "#e6f5d0"
            ],
            [
             0.7,
             "#b8e186"
            ],
            [
             0.8,
             "#7fbc41"
            ],
            [
             0.9,
             "#4d9221"
            ],
            [
             1,
             "#276419"
            ]
           ],
           "sequential": [
            [
             0,
             "#0d0887"
            ],
            [
             0.1111111111111111,
             "#46039f"
            ],
            [
             0.2222222222222222,
             "#7201a8"
            ],
            [
             0.3333333333333333,
             "#9c179e"
            ],
            [
             0.4444444444444444,
             "#bd3786"
            ],
            [
             0.5555555555555556,
             "#d8576b"
            ],
            [
             0.6666666666666666,
             "#ed7953"
            ],
            [
             0.7777777777777778,
             "#fb9f3a"
            ],
            [
             0.8888888888888888,
             "#fdca26"
            ],
            [
             1,
             "#f0f921"
            ]
           ],
           "sequentialminus": [
            [
             0,
             "#0d0887"
            ],
            [
             0.1111111111111111,
             "#46039f"
            ],
            [
             0.2222222222222222,
             "#7201a8"
            ],
            [
             0.3333333333333333,
             "#9c179e"
            ],
            [
             0.4444444444444444,
             "#bd3786"
            ],
            [
             0.5555555555555556,
             "#d8576b"
            ],
            [
             0.6666666666666666,
             "#ed7953"
            ],
            [
             0.7777777777777778,
             "#fb9f3a"
            ],
            [
             0.8888888888888888,
             "#fdca26"
            ],
            [
             1,
             "#f0f921"
            ]
           ]
          },
          "colorway": [
           "#636efa",
           "#EF553B",
           "#00cc96",
           "#ab63fa",
           "#FFA15A",
           "#19d3f3",
           "#FF6692",
           "#B6E880",
           "#FF97FF",
           "#FECB52"
          ],
          "font": {
           "color": "#2a3f5f"
          },
          "geo": {
           "bgcolor": "white",
           "lakecolor": "white",
           "landcolor": "#E5ECF6",
           "showlakes": true,
           "showland": true,
           "subunitcolor": "white"
          },
          "hoverlabel": {
           "align": "left"
          },
          "hovermode": "closest",
          "mapbox": {
           "style": "light"
          },
          "paper_bgcolor": "white",
          "plot_bgcolor": "#E5ECF6",
          "polar": {
           "angularaxis": {
            "gridcolor": "white",
            "linecolor": "white",
            "ticks": ""
           },
           "bgcolor": "#E5ECF6",
           "radialaxis": {
            "gridcolor": "white",
            "linecolor": "white",
            "ticks": ""
           }
          },
          "scene": {
           "xaxis": {
            "backgroundcolor": "#E5ECF6",
            "gridcolor": "white",
            "gridwidth": 2,
            "linecolor": "white",
            "showbackground": true,
            "ticks": "",
            "zerolinecolor": "white"
           },
           "yaxis": {
            "backgroundcolor": "#E5ECF6",
            "gridcolor": "white",
            "gridwidth": 2,
            "linecolor": "white",
            "showbackground": true,
            "ticks": "",
            "zerolinecolor": "white"
           },
           "zaxis": {
            "backgroundcolor": "#E5ECF6",
            "gridcolor": "white",
            "gridwidth": 2,
            "linecolor": "white",
            "showbackground": true,
            "ticks": "",
            "zerolinecolor": "white"
           }
          },
          "shapedefaults": {
           "line": {
            "color": "#2a3f5f"
           }
          },
          "ternary": {
           "aaxis": {
            "gridcolor": "white",
            "linecolor": "white",
            "ticks": ""
           },
           "baxis": {
            "gridcolor": "white",
            "linecolor": "white",
            "ticks": ""
           },
           "bgcolor": "#E5ECF6",
           "caxis": {
            "gridcolor": "white",
            "linecolor": "white",
            "ticks": ""
           }
          },
          "title": {
           "x": 0.05
          },
          "xaxis": {
           "automargin": true,
           "gridcolor": "white",
           "linecolor": "white",
           "ticks": "",
           "title": {
            "standoff": 15
           },
           "zerolinecolor": "white",
           "zerolinewidth": 2
          },
          "yaxis": {
           "automargin": true,
           "gridcolor": "white",
           "linecolor": "white",
           "ticks": "",
           "title": {
            "standoff": 15
           },
           "zerolinecolor": "white",
           "zerolinewidth": 2
          }
         }
        },
        "xaxis": {
         "anchor": "y",
         "domain": [
          0,
          1
         ],
         "title": {
          "text": "Idade da população residente"
         }
        },
        "yaxis": {
         "anchor": "x",
         "domain": [
          0,
          1
         ],
         "showgrid": false,
         "showticklabels": false,
         "title": {
          "text": "y"
         }
        }
       }
      }
     },
     "metadata": {},
     "output_type": "display_data"
    },
    {
     "name": "stdout",
     "output_type": "stream",
     "text": [
      "Idade_População\n",
      "0    140\n",
      "1    113\n",
      "2     55\n",
      "Name: count, dtype: int64\n",
      "File saved to csv_files/5_Idade_População.csv\n"
     ]
    }
   ],
   "source": [
    "clustered_df = aplicar_kmeans(df_idade, 3, nome_cluster='Idade_População')\n",
    "save_clustered_df_to_csv(clustered_df, \"csv_files/\", \"5_Idade_População.csv\")"
   ]
  },
  {
   "cell_type": "markdown",
   "id": "4a824f9c",
   "metadata": {},
   "source": [
    "## Índice de renovação da população em idade ativa"
   ]
  },
  {
   "cell_type": "code",
   "execution_count": 7,
   "id": "f8a96c48",
   "metadata": {},
   "outputs": [
    {
     "data": {
      "text/html": [
       "<div>\n",
       "<style scoped>\n",
       "    .dataframe tbody tr th:only-of-type {\n",
       "        vertical-align: middle;\n",
       "    }\n",
       "\n",
       "    .dataframe tbody tr th {\n",
       "        vertical-align: top;\n",
       "    }\n",
       "\n",
       "    .dataframe thead th {\n",
       "        text-align: right;\n",
       "    }\n",
       "</style>\n",
       "<table border=\"1\" class=\"dataframe\">\n",
       "  <thead>\n",
       "    <tr style=\"text-align: right;\">\n",
       "      <th></th>\n",
       "      <th>local</th>\n",
       "      <th>codigo</th>\n",
       "      <th>Índice de renovação da população em idade ativa</th>\n",
       "    </tr>\n",
       "  </thead>\n",
       "  <tbody>\n",
       "    <tr>\n",
       "      <th>4</th>\n",
       "      <td>Arcos de Valdevez</td>\n",
       "      <td>1111601</td>\n",
       "      <td>66.1</td>\n",
       "    </tr>\n",
       "    <tr>\n",
       "      <th>5</th>\n",
       "      <td>Caminha</td>\n",
       "      <td>1111602</td>\n",
       "      <td>64.3</td>\n",
       "    </tr>\n",
       "    <tr>\n",
       "      <th>6</th>\n",
       "      <td>Melgaço</td>\n",
       "      <td>1111603</td>\n",
       "      <td>48.9</td>\n",
       "    </tr>\n",
       "    <tr>\n",
       "      <th>7</th>\n",
       "      <td>Monção</td>\n",
       "      <td>1111604</td>\n",
       "      <td>57.1</td>\n",
       "    </tr>\n",
       "    <tr>\n",
       "      <th>8</th>\n",
       "      <td>Paredes de Coura</td>\n",
       "      <td>1111605</td>\n",
       "      <td>60.6</td>\n",
       "    </tr>\n",
       "    <tr>\n",
       "      <th>...</th>\n",
       "      <td>...</td>\n",
       "      <td>...</td>\n",
       "      <td>...</td>\n",
       "    </tr>\n",
       "    <tr>\n",
       "      <th>339</th>\n",
       "      <td>Porto Santo</td>\n",
       "      <td>3003201</td>\n",
       "      <td>61.0</td>\n",
       "    </tr>\n",
       "    <tr>\n",
       "      <th>340</th>\n",
       "      <td>Ribeira Brava</td>\n",
       "      <td>3003107</td>\n",
       "      <td>79.5</td>\n",
       "    </tr>\n",
       "    <tr>\n",
       "      <th>341</th>\n",
       "      <td>Santa Cruz</td>\n",
       "      <td>3003108</td>\n",
       "      <td>74.8</td>\n",
       "    </tr>\n",
       "    <tr>\n",
       "      <th>342</th>\n",
       "      <td>Santana</td>\n",
       "      <td>3003109</td>\n",
       "      <td>58.1</td>\n",
       "    </tr>\n",
       "    <tr>\n",
       "      <th>343</th>\n",
       "      <td>São Vicente</td>\n",
       "      <td>3003110</td>\n",
       "      <td>61.9</td>\n",
       "    </tr>\n",
       "  </tbody>\n",
       "</table>\n",
       "<p>308 rows × 3 columns</p>\n",
       "</div>"
      ],
      "text/plain": [
       "                 local   codigo  \\\n",
       "4    Arcos de Valdevez  1111601   \n",
       "5              Caminha  1111602   \n",
       "6              Melgaço  1111603   \n",
       "7               Monção  1111604   \n",
       "8     Paredes de Coura  1111605   \n",
       "..                 ...      ...   \n",
       "339        Porto Santo  3003201   \n",
       "340      Ribeira Brava  3003107   \n",
       "341         Santa Cruz  3003108   \n",
       "342            Santana  3003109   \n",
       "343        São Vicente  3003110   \n",
       "\n",
       "     Índice de renovação da população em idade ativa  \n",
       "4                                               66.1  \n",
       "5                                               64.3  \n",
       "6                                               48.9  \n",
       "7                                               57.1  \n",
       "8                                               60.6  \n",
       "..                                               ...  \n",
       "339                                             61.0  \n",
       "340                                             79.5  \n",
       "341                                             74.8  \n",
       "342                                             58.1  \n",
       "343                                             61.9  \n",
       "\n",
       "[308 rows x 3 columns]"
      ]
     },
     "execution_count": 7,
     "metadata": {},
     "output_type": "execute_result"
    }
   ],
   "source": [
    "df_indice_renovacao = processar_ficheiro(data_path+'Índice de renovação da população em idade ativa.xls',0)\n",
    "df_indice_renovacao = carregar_municipios(df_indice_renovacao)\n",
    "#save_clustered_df_to_csv(df_indice_renovacao.rename(columns={'Índice de renovação da população em idade ativa': 'Indice Renovacao'}), \"csv_bruto/\", \"5_Indice_de_renovacao.csv\")\n",
    "df_indice_renovacao\n"
   ]
  },
  {
   "cell_type": "code",
   "execution_count": 8,
   "id": "76ddd350",
   "metadata": {},
   "outputs": [
    {
     "data": {
      "application/vnd.plotly.v1+json": {
       "config": {
        "plotlyServerURL": "https://plot.ly"
       },
       "data": [
        {
         "customdata": [
          [
           "Arcos de Valdevez",
           "1111601",
           66.1
          ],
          [
           "Caminha",
           "1111602",
           64.3
          ],
          [
           "Melgaço",
           "1111603",
           48.9
          ],
          [
           "Monção",
           "1111604",
           57.1
          ],
          [
           "Paredes de Coura",
           "1111605",
           60.6
          ],
          [
           "Ponte da Barca",
           "1111606",
           68.5
          ],
          [
           "Ponte de Lima",
           "1111607",
           75.5
          ],
          [
           "Valença",
           "1111608",
           74
          ],
          [
           "Viana do Castelo",
           "1111609",
           68.8
          ],
          [
           "Vila Nova de Cerveira",
           "1111610",
           79.8
          ],
          [
           "Amares",
           "1120301",
           84.1
          ],
          [
           "Barcelos",
           "1120302",
           80.3
          ],
          [
           "Braga",
           "1120303",
           81.6
          ],
          [
           "Esposende",
           "1120306",
           79.6
          ],
          [
           "Terras de Bouro",
           "1120310",
           68.8
          ],
          [
           "Vila Verde",
           "1120313",
           85.7
          ],
          [
           "Cabeceiras de Basto",
           "1190304",
           77
          ],
          [
           "Fafe",
           "1190307",
           71.8
          ],
          [
           "Guimarães",
           "1190308",
           71.8
          ],
          [
           "Mondim de Basto",
           "1191705",
           67.2
          ],
          [
           "Póvoa de Lanhoso",
           "1190309",
           74.8
          ],
          [
           "Vieira do Minho",
           "1190311",
           65
          ],
          [
           "Vila Nova de Famalicão",
           "1190312",
           76.5
          ],
          [
           "Vizela",
           "1190314",
           78.7
          ],
          [
           "Arouca",
           "11A0104",
           70.2
          ],
          [
           "Espinho",
           "11A0107",
           67.8
          ],
          [
           "Gondomar",
           "11A1304",
           72.2
          ],
          [
           "Maia",
           "11A1306",
           77.1
          ],
          [
           "Matosinhos",
           "11A1308",
           70
          ],
          [
           "Oliveira de Azeméis",
           "11A0113",
           67.8
          ],
          [
           "Paredes",
           "11A1310",
           82.9
          ],
          [
           "Porto",
           "11A1312",
           87.2
          ],
          [
           "Póvoa de Varzim",
           "11A1313",
           83.4
          ],
          [
           "Santa Maria da Feira",
           "11A0109",
           70.4
          ],
          [
           "Santo Tirso",
           "11A1314",
           66.1
          ],
          [
           "São João da Madeira",
           "11A0116",
           74.5
          ],
          [
           "Trofa",
           "11A1318",
           76.9
          ],
          [
           "Vale de Cambra",
           "11A0119",
           64.2
          ],
          [
           "Valongo",
           "11A1315",
           80.4
          ],
          [
           "Vila do Conde",
           "11A1316",
           75.7
          ],
          [
           "Vila Nova de Gaia",
           "11A1317",
           72.3
          ],
          [
           "Boticas",
           "11B1702",
           46
          ],
          [
           "Chaves",
           "11B1703",
           56.5
          ],
          [
           "Montalegre",
           "11B1706",
           47.6
          ],
          [
           "Ribeira de Pena",
           "11B1709",
           57.1
          ],
          [
           "Valpaços",
           "11B1712",
           49
          ],
          [
           "Vila Pouca de Aguiar",
           "11B1713",
           52.2
          ],
          [
           "Amarante",
           "11C1301",
           70.2
          ],
          [
           "Baião",
           "11C1302",
           64.4
          ],
          [
           "Castelo de Paiva",
           "11C0106",
           73.7
          ],
          [
           "Celorico de Basto",
           "11C0305",
           71.2
          ],
          [
           "Cinfães",
           "11C1804",
           67.9
          ],
          [
           "Felgueiras",
           "11C1303",
           78.6
          ],
          [
           "Lousada",
           "11C1305",
           86.2
          ],
          [
           "Marco de Canaveses",
           "11C1307",
           80.4
          ],
          [
           "Paços de Ferreira",
           "11C1309",
           83.4
          ],
          [
           "Penafiel",
           "11C1311",
           79.7
          ],
          [
           "Resende",
           "11C1813",
           62.4
          ],
          [
           "Alijó",
           "11D1701",
           53.6
          ],
          [
           "Armamar",
           "11D1801",
           58.6
          ],
          [
           "Carrazeda de Ansiães",
           "11D0403",
           51.9
          ],
          [
           "Freixo de Espada à Cinta",
           "11D0404",
           72.9
          ],
          [
           "Lamego",
           "11D1805",
           58.5
          ],
          [
           "Mesão Frio",
           "11D1704",
           67.1
          ],
          [
           "Moimenta da Beira",
           "11D1807",
           69
          ],
          [
           "Murça",
           "11D1707",
           57.7
          ],
          [
           "Penedono",
           "11D1812",
           67
          ],
          [
           "Peso da Régua",
           "11D1708",
           60.8
          ],
          [
           "Sabrosa",
           "11D1710",
           63.8
          ],
          [
           "Santa Marta de Penaguião",
           "11D1711",
           64.6
          ],
          [
           "São João da Pesqueira",
           "11D1815",
           62
          ],
          [
           "Sernancelhe",
           "11D1818",
           60.4
          ],
          [
           "Tabuaço",
           "11D1819",
           59.5
          ],
          [
           "Tarouca",
           "11D1820",
           67.2
          ],
          [
           "Torre de Moncorvo",
           "11D0409",
           49.8
          ],
          [
           "Vila Nova de Foz Côa",
           "11D0914",
           56.1
          ],
          [
           "Vila Real",
           "11D1714",
           66.8
          ],
          [
           "Alfândega da Fé",
           "11E0401",
           51.9
          ],
          [
           "Bragança",
           "11E0402",
           81.1
          ],
          [
           "Macedo de Cavaleiros",
           "11E0405",
           57
          ],
          [
           "Miranda do Douro",
           "11E0406",
           53.9
          ],
          [
           "Mirandela",
           "11E0407",
           66.8
          ],
          [
           "Mogadouro",
           "11E0408",
           47.8
          ],
          [
           "Vila Flor",
           "11E0410",
           59.6
          ],
          [
           "Vimioso",
           "11E0411",
           57.5
          ],
          [
           "Vinhais",
           "11E0412",
           41.9
          ],
          [
           "Alcobaça",
           "16B1001",
           74.2
          ],
          [
           "Alenquer",
           "16B1101",
           89.5
          ],
          [
           "Arruda dos Vinhos",
           "16B1102",
           87.2
          ],
          [
           "Bombarral",
           "16B1005",
           75.3
          ],
          [
           "Cadaval",
           "16B1104",
           79.4
          ],
          [
           "Caldas da Rainha",
           "16B1006",
           76.8
          ],
          [
           "Lourinhã",
           "16B1108",
           79.4
          ],
          [
           "Nazaré",
           "16B1011",
           72.2
          ],
          [
           "Óbidos",
           "16B1012",
           74.9
          ],
          [
           "Peniche",
           "16B1014",
           72.9
          ],
          [
           "Sobral de Monte Agraço",
           "16B1112",
           91.2
          ],
          [
           "Torres Vedras",
           "16B1113",
           81.9
          ],
          [
           "Águeda",
           "16D0101",
           68.3
          ],
          [
           "Albergaria-a-Velha",
           "16D0102",
           76.4
          ],
          [
           "Anadia",
           "16D0103",
           68.5
          ],
          [
           "Aveiro",
           "16D0105",
           83.2
          ],
          [
           "Estarreja",
           "16D0108",
           71.2
          ],
          [
           "Ílhavo",
           "16D0110",
           75.4
          ],
          [
           "Murtosa",
           "16D0112",
           78.7
          ],
          [
           "Oliveira do Bairro",
           "16D0114",
           90.2
          ],
          [
           "Ovar",
           "16D0115",
           75.5
          ],
          [
           "Sever do Vouga",
           "16D0117",
           66.2
          ],
          [
           "Vagos",
           "16D0118",
           79.8
          ],
          [
           "Arganil",
           "16E0601",
           57.3
          ],
          [
           "Cantanhede",
           "16E0602",
           68.3
          ],
          [
           "Coimbra",
           "16E0603",
           73.4
          ],
          [
           "Condeixa-a-Nova",
           "16E0604",
           69.3
          ],
          [
           "Figueira da Foz",
           "16E0605",
           64.2
          ],
          [
           "Góis",
           "16E0606",
           60.5
          ],
          [
           "Lousã",
           "16E0607",
           73.8
          ],
          [
           "Mealhada",
           "16E0111",
           68.9
          ],
          [
           "Mira",
           "16E0608",
           67.7
          ],
          [
           "Miranda do Corvo",
           "16E0609",
           65.5
          ],
          [
           "Montemor-o-Velho",
           "16E0610",
           62.7
          ],
          [
           "Mortágua",
           "16E1808",
           63.2
          ],
          [
           "Oliveira do Hospital",
           "16E0611",
           66.4
          ],
          [
           "Pampilhosa da Serra",
           "16E0612",
           41.6
          ],
          [
           "Penacova",
           "16E0613",
           58
          ],
          [
           "Penela",
           "16E0614",
           63
          ],
          [
           "Soure",
           "16E0615",
           64.3
          ],
          [
           "Tábua",
           "16E0616",
           67.8
          ],
          [
           "Vila Nova de Poiares",
           "16E0617",
           73.3
          ],
          [
           "Alvaiázere",
           "16F1002",
           54.4
          ],
          [
           "Ansião",
           "16F1003",
           61.9
          ],
          [
           "Batalha",
           "16F1004",
           78.4
          ],
          [
           "Castanheira de Pêra",
           "16F1007",
           66.6
          ],
          [
           "Figueiró dos Vinhos",
           "16F1008",
           53
          ],
          [
           "Leiria",
           "16F1009",
           79.1
          ],
          [
           "Marinha Grande",
           "16F1010",
           77.9
          ],
          [
           "Pedrógão Grande",
           "16F1013",
           58.6
          ],
          [
           "Pombal",
           "16F1015",
           70
          ],
          [
           "Porto de Mós",
           "16F1016",
           78.1
          ],
          [
           "Aguiar da Beira",
           "16G0901",
           58.6
          ],
          [
           "Carregal do Sal",
           "16G1802",
           67.9
          ],
          [
           "Castro Daire",
           "16G1803",
           61
          ],
          [
           "Mangualde",
           "16G1806",
           69.7
          ],
          [
           "Nelas",
           "16G1809",
           70.7
          ],
          [
           "Oliveira de Frades",
           "16G1810",
           75.1
          ],
          [
           "Penalva do Castelo",
           "16G1811",
           67.3
          ],
          [
           "Santa Comba Dão",
           "16G1814",
           70
          ],
          [
           "São Pedro do Sul",
           "16G1816",
           71
          ],
          [
           "Sátão",
           "16G1817",
           71.7
          ],
          [
           "Tondela",
           "16G1821",
           65.6
          ],
          [
           "Vila Nova de Paiva",
           "16G1822",
           68.1
          ],
          [
           "Viseu",
           "16G1823",
           80.1
          ],
          [
           "Vouzela",
           "16G1824",
           70.8
          ],
          [
           "Castelo Branco",
           "16H0502",
           64.7
          ],
          [
           "Idanha-a-Nova",
           "16H0505",
           57.9
          ],
          [
           "Oleiros",
           "16H0506",
           47.4
          ],
          [
           "Penamacor",
           "16H0507",
           46.8
          ],
          [
           "Proença-a-Nova",
           "16H0508",
           53.9
          ],
          [
           "Vila Velha de Ródão",
           "16H0511",
           56.2
          ],
          [
           "Abrantes",
           "16I1401",
           57.2
          ],
          [
           "Alcanena",
           "16I1402",
           64.2
          ],
          [
           "Constância",
           "16I1408",
           68.1
          ],
          [
           "Entroncamento",
           "16I1410",
           77.5
          ],
          [
           "Ferreira do Zêzere",
           "16I1411",
           67.1
          ],
          [
           "Mação",
           "16I1413",
           54.6
          ],
          [
           "Ourém",
           "16I1421",
           77.2
          ],
          [
           "Sardoal",
           "16I1417",
           65.8
          ],
          [
           "Sertã",
           "16I0509",
           63.8
          ],
          [
           "Tomar",
           "16I1418",
           64.7
          ],
          [
           "Torres Novas",
           "16I1419",
           67.2
          ],
          [
           "Vila de Rei",
           "16I0510",
           83
          ],
          [
           "Vila Nova da Barquinha",
           "16I1420",
           74.2
          ],
          [
           "Almeida",
           "16J0902",
           50.7
          ],
          [
           "Belmonte",
           "16J0501",
           59.2
          ],
          [
           "Celorico da Beira",
           "16J0903",
           61.6
          ],
          [
           "Covilhã",
           "16J0503",
           64.5
          ],
          [
           "Figueira de Castelo Rodrigo",
           "16J0904",
           57.1
          ],
          [
           "Fornos de Algodres",
           "16J0905",
           52.8
          ],
          [
           "Fundão",
           "16J0504",
           63.2
          ],
          [
           "Gouveia",
           "16J0906",
           55.1
          ],
          [
           "Guarda",
           "16J0907",
           65.4
          ],
          [
           "Manteigas",
           "16J0908",
           63
          ],
          [
           "Mêda",
           "16J0909",
           53.7
          ],
          [
           "Pinhel",
           "16J0910",
           50.8
          ],
          [
           "Sabugal",
           "16J0911",
           51.1
          ],
          [
           "Seia",
           "16J0912",
           54.6
          ],
          [
           "Trancoso",
           "16J0913",
           54.5
          ],
          [
           "Alcochete",
           "1701502",
           82.8
          ],
          [
           "Almada",
           "1701503",
           82.4
          ],
          [
           "Amadora",
           "1701115",
           91
          ],
          [
           "Barreiro",
           "1701504",
           85.1
          ],
          [
           "Cascais",
           "1701105",
           76.5
          ],
          [
           "Lisboa",
           "1701106",
           93
          ],
          [
           "Loures",
           "1701107",
           87.3
          ],
          [
           "Mafra",
           "1701109",
           83.4
          ],
          [
           "Moita",
           "1701506",
           86.4
          ],
          [
           "Montijo",
           "1701507",
           92.1
          ],
          [
           "Odivelas",
           "1701116",
           90.6
          ],
          [
           "Oeiras",
           "1701110",
           82.2
          ],
          [
           "Palmela",
           "1701508",
           84.2
          ],
          [
           "Seixal",
           "1701510",
           87.7
          ],
          [
           "Sesimbra",
           "1701511",
           81.9
          ],
          [
           "Setúbal",
           "1701512",
           81
          ],
          [
           "Sintra",
           "1701111",
           87.9
          ],
          [
           "Vila Franca de Xira",
           "1701114",
           81.6
          ],
          [
           "Alcácer do Sal",
           "1811501",
           60.9
          ],
          [
           "Grândola",
           "1811505",
           72.6
          ],
          [
           "Odemira",
           "1810211",
           95.1
          ],
          [
           "Santiago do Cacém",
           "1811509",
           61.7
          ],
          [
           "Sines",
           "1811513",
           69.1
          ],
          [
           "Aljustrel",
           "1840201",
           60.5
          ],
          [
           "Almodôvar",
           "1840202",
           63.7
          ],
          [
           "Alvito",
           "1840203",
           77.4
          ],
          [
           "Barrancos",
           "1840204",
           54
          ],
          [
           "Beja",
           "1840205",
           74
          ],
          [
           "Castro Verde",
           "1840206",
           63.2
          ],
          [
           "Cuba",
           "1840207",
           69
          ],
          [
           "Ferreira do Alentejo",
           "1840208",
           76.4
          ],
          [
           "Mértola",
           "1840209",
           48.6
          ],
          [
           "Moura",
           "1840210",
           76.2
          ],
          [
           "Ourique",
           "1840212",
           61.1
          ],
          [
           "Serpa",
           "1840213",
           60
          ],
          [
           "Vidigueira",
           "1840214",
           74
          ],
          [
           "Almeirim",
           "1851403",
           75.9
          ],
          [
           "Alpiarça",
           "1851404",
           78.3
          ],
          [
           "Azambuja",
           "1851103",
           81.2
          ],
          [
           "Benavente",
           "1851405",
           88
          ],
          [
           "Cartaxo",
           "1851406",
           76.8
          ],
          [
           "Chamusca",
           "1851407",
           60.3
          ],
          [
           "Coruche",
           "1851409",
           58.7
          ],
          [
           "Golegã",
           "1851412",
           74.6
          ],
          [
           "Rio Maior",
           "1851414",
           82.4
          ],
          [
           "Salvaterra de Magos",
           "1851415",
           77.7
          ],
          [
           "Santarém",
           "1851416",
           74.8
          ],
          [
           "Alter do Chão",
           "1861201",
           67.5
          ],
          [
           "Arronches",
           "1861202",
           65
          ],
          [
           "Avis",
           "1861203",
           68.4
          ],
          [
           "Campo Maior",
           "1861204",
           80.6
          ],
          [
           "Castelo de Vide",
           "1861205",
           58
          ],
          [
           "Crato",
           "1861206",
           59.5
          ],
          [
           "Elvas",
           "1861207",
           68.4
          ],
          [
           "Fronteira",
           "1861208",
           61.2
          ],
          [
           "Gavião",
           "1861209",
           48.3
          ],
          [
           "Marvão",
           "1861210",
           55.7
          ],
          [
           "Monforte",
           "1861211",
           81.5
          ],
          [
           "Nisa",
           "1861212",
           51.9
          ],
          [
           "Ponte de Sor",
           "1861213",
           59.7
          ],
          [
           "Portalegre",
           "1861214",
           64.7
          ],
          [
           "Sousel",
           "1861215",
           71.5
          ],
          [
           "Alandroal",
           "1870701",
           51.9
          ],
          [
           "Arraiolos",
           "1870702",
           64
          ],
          [
           "Borba",
           "1870703",
           55.4
          ],
          [
           "Estremoz",
           "1870704",
           57.7
          ],
          [
           "Évora",
           "1870705",
           72.1
          ],
          [
           "Montemor-o-Novo",
           "1870706",
           67
          ],
          [
           "Mora",
           "1870707",
           60.6
          ],
          [
           "Mourão",
           "1870708",
           78.2
          ],
          [
           "Portel",
           "1870709",
           71.7
          ],
          [
           "Redondo",
           "1870710",
           71.3
          ],
          [
           "Reguengos de Monsaraz",
           "1870711",
           67.2
          ],
          [
           "Vendas Novas",
           "1870712",
           81.1
          ],
          [
           "Viana do Alentejo",
           "1870713",
           75.5
          ],
          [
           "Vila Viçosa",
           "1870714",
           57.2
          ],
          [
           "Albufeira",
           "1500801",
           78
          ],
          [
           "Alcoutim",
           "1500802",
           64.7
          ],
          [
           "Aljezur",
           "1500803",
           59.2
          ],
          [
           "Castro Marim",
           "1500804",
           68.6
          ],
          [
           "Faro",
           "1500805",
           80.7
          ],
          [
           "Lagoa",
           "1500806",
           72
          ],
          [
           "Lagos",
           "1500807",
           67.6
          ],
          [
           "Loulé",
           "1500808",
           70
          ],
          [
           "Monchique",
           "1500809",
           44.5
          ],
          [
           "Olhão",
           "1500810",
           75
          ],
          [
           "Portimão",
           "1500811",
           81.6
          ],
          [
           "São Brás de Alportel",
           "1500812",
           69.5
          ],
          [
           "Silves",
           "1500813",
           68.3
          ],
          [
           "Tavira",
           "1500814",
           60
          ],
          [
           "Vila do Bispo",
           "1500815",
           56.8
          ],
          [
           "Vila Real de Santo António",
           "1500816",
           75.1
          ],
          [
           "Angra do Heroísmo",
           "2004301",
           79
          ],
          [
           "Calheta",
           "2004501",
           74.9
          ],
          [
           "Corvo",
           "2004901",
           79.3
          ],
          [
           "Horta",
           "2004701",
           73.7
          ],
          [
           "Lagoa",
           "2004201",
           105
          ],
          [
           "Lajes das Flores",
           "2004801",
           70.7
          ],
          [
           "Lajes do Pico",
           "2004601",
           66.9
          ],
          [
           "Madalena",
           "2004602",
           80.5
          ],
          [
           "Nordeste",
           "2004202",
           75.3
          ],
          [
           "Ponta Delgada",
           "2004203",
           90
          ],
          [
           "Povoação",
           "2004204",
           80.6
          ],
          [
           "Ribeira Grande",
           "2004205",
           115.7
          ],
          [
           "Santa Cruz da Graciosa",
           "2004401",
           76.1
          ],
          [
           "Santa Cruz das Flores",
           "2004802",
           75.4
          ],
          [
           "São Roque do Pico",
           "2004603",
           67.1
          ],
          [
           "Velas",
           "2004502",
           68.2
          ],
          [
           "Vila da Praia da Vitória",
           "2004302",
           73.4
          ],
          [
           "Vila do Porto",
           "2004101",
           87.4
          ],
          [
           "Vila Franca do Campo",
           "2004206",
           90.5
          ],
          [
           "Calheta",
           "3003101",
           62.9
          ],
          [
           "Câmara de Lobos",
           "3003102",
           91
          ],
          [
           "Funchal",
           "3003103",
           64.8
          ],
          [
           "Machico",
           "3003104",
           66.6
          ],
          [
           "Ponta do Sol",
           "3003105",
           75.7
          ],
          [
           "Porto Moniz",
           "3003106",
           64.9
          ],
          [
           "Porto Santo",
           "3003201",
           61
          ],
          [
           "Ribeira Brava",
           "3003107",
           79.5
          ],
          [
           "Santa Cruz",
           "3003108",
           74.8
          ],
          [
           "Santana",
           "3003109",
           58.1
          ],
          [
           "São Vicente",
           "3003110",
           61.9
          ]
         ],
         "hovertemplate": "valor=%{x}<br>y=%{y}<br>local=%{customdata[0]}<br>codigo=%{customdata[1]}<br>Índice de renovação da população em idade ativa=%{customdata[2]}<br>Índice De Renovação=%{marker.color}<extra></extra>",
         "legendgroup": "",
         "marker": {
          "color": {
           "bdata": "AQEAAAABAQEBAgICAgIBAgIBAQEBAQICAQEBAgEBAgICAQEBAgECAQEAAAAAAAABAQEBAQICAgICAAAAAAEAAQEAAQABAQAAAAEAAAEAAgAAAQAAAAABAgIBAgICAQEBAgIBAgECAQECAgEBAgABAQEBAAEBAQEBAQEAAAEBAQEAAAIBAAICAAECAAEAAQEBAQEBAQEBAgEBAAAAAAAAAQECAQACAQEBAQIBAAAAAQAAAQABAQAAAAAAAgICAgICAgICAgICAgICAgICAAECAAEAAQIAAQEBAgACAAABAQICAgIAAAECAgEBAQECAAABAAAAAgAAAQEAAQAAAQEAAgEBAQIBAAIBAAECAQEBAAECAQEAAAECAQIBAgEBAgECAgIBAQEBAQICAQIBAQEBAAIBAAA=",
           "dtype": "i1"
          },
          "coloraxis": "coloraxis",
          "size": 10,
          "symbol": "circle"
         },
         "mode": "markers",
         "name": "",
         "orientation": "v",
         "showlegend": false,
         "type": "scatter",
         "x": {
          "bdata": "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",
          "dtype": "f8"
         },
         "xaxis": "x",
         "y": {
          "bdata": "AAAAAAAAAAAAAAAAAAAAAAAAAAAAAAAAAAAAAAAAAAAAAAAAAAAAAAAAAAAAAAAAAAAAAAAAAAAAAAAAAAAAAAAAAAAAAAAAAAAAAAAAAAAAAAAAAAAAAAAAAAAAAAAAAAAAAAAAAAAAAAAAAAAAAAAAAAAAAAAAAAAAAAAAAAAAAAAAAAAAAAAAAAAAAAAAAAAAAAAAAAAAAAAAAAAAAAAAAAAAAAAAAAAAAAAAAAAAAAAAAAAAAAAAAAAAAAAAAAAAAAAAAAAAAAAAAAAAAAAAAAAAAAAAAAAAAAAAAAAAAAAAAAAAAAAAAAAAAAAAAAAAAAAAAAAAAAAAAAAAAAAAAAAAAAAAAAAAAAAAAAAAAAAAAAAAAAAAAAAAAAAAAAAAAAAAAAAAAAAAAAAAAAAAAAA=",
          "dtype": "i1"
         },
         "yaxis": "y"
        }
       ],
       "layout": {
        "coloraxis": {
         "colorbar": {
          "title": {
           "text": "Índice De Renovação"
          }
         },
         "colorscale": [
          [
           0,
           "#440154"
          ],
          [
           0.1111111111111111,
           "#482878"
          ],
          [
           0.2222222222222222,
           "#3e4989"
          ],
          [
           0.3333333333333333,
           "#31688e"
          ],
          [
           0.4444444444444444,
           "#26828e"
          ],
          [
           0.5555555555555556,
           "#1f9e89"
          ],
          [
           0.6666666666666666,
           "#35b779"
          ],
          [
           0.7777777777777778,
           "#6ece58"
          ],
          [
           0.8888888888888888,
           "#b5de2b"
          ],
          [
           1,
           "#fde725"
          ]
         ]
        },
        "height": 300,
        "legend": {
         "tracegroupgap": 0
        },
        "margin": {
         "t": 60
        },
        "template": {
         "data": {
          "bar": [
           {
            "error_x": {
             "color": "#2a3f5f"
            },
            "error_y": {
             "color": "#2a3f5f"
            },
            "marker": {
             "line": {
              "color": "#E5ECF6",
              "width": 0.5
             },
             "pattern": {
              "fillmode": "overlay",
              "size": 10,
              "solidity": 0.2
             }
            },
            "type": "bar"
           }
          ],
          "barpolar": [
           {
            "marker": {
             "line": {
              "color": "#E5ECF6",
              "width": 0.5
             },
             "pattern": {
              "fillmode": "overlay",
              "size": 10,
              "solidity": 0.2
             }
            },
            "type": "barpolar"
           }
          ],
          "carpet": [
           {
            "aaxis": {
             "endlinecolor": "#2a3f5f",
             "gridcolor": "white",
             "linecolor": "white",
             "minorgridcolor": "white",
             "startlinecolor": "#2a3f5f"
            },
            "baxis": {
             "endlinecolor": "#2a3f5f",
             "gridcolor": "white",
             "linecolor": "white",
             "minorgridcolor": "white",
             "startlinecolor": "#2a3f5f"
            },
            "type": "carpet"
           }
          ],
          "choropleth": [
           {
            "colorbar": {
             "outlinewidth": 0,
             "ticks": ""
            },
            "type": "choropleth"
           }
          ],
          "contour": [
           {
            "colorbar": {
             "outlinewidth": 0,
             "ticks": ""
            },
            "colorscale": [
             [
              0,
              "#0d0887"
             ],
             [
              0.1111111111111111,
              "#46039f"
             ],
             [
              0.2222222222222222,
              "#7201a8"
             ],
             [
              0.3333333333333333,
              "#9c179e"
             ],
             [
              0.4444444444444444,
              "#bd3786"
             ],
             [
              0.5555555555555556,
              "#d8576b"
             ],
             [
              0.6666666666666666,
              "#ed7953"
             ],
             [
              0.7777777777777778,
              "#fb9f3a"
             ],
             [
              0.8888888888888888,
              "#fdca26"
             ],
             [
              1,
              "#f0f921"
             ]
            ],
            "type": "contour"
           }
          ],
          "contourcarpet": [
           {
            "colorbar": {
             "outlinewidth": 0,
             "ticks": ""
            },
            "type": "contourcarpet"
           }
          ],
          "heatmap": [
           {
            "colorbar": {
             "outlinewidth": 0,
             "ticks": ""
            },
            "colorscale": [
             [
              0,
              "#0d0887"
             ],
             [
              0.1111111111111111,
              "#46039f"
             ],
             [
              0.2222222222222222,
              "#7201a8"
             ],
             [
              0.3333333333333333,
              "#9c179e"
             ],
             [
              0.4444444444444444,
              "#bd3786"
             ],
             [
              0.5555555555555556,
              "#d8576b"
             ],
             [
              0.6666666666666666,
              "#ed7953"
             ],
             [
              0.7777777777777778,
              "#fb9f3a"
             ],
             [
              0.8888888888888888,
              "#fdca26"
             ],
             [
              1,
              "#f0f921"
             ]
            ],
            "type": "heatmap"
           }
          ],
          "histogram": [
           {
            "marker": {
             "pattern": {
              "fillmode": "overlay",
              "size": 10,
              "solidity": 0.2
             }
            },
            "type": "histogram"
           }
          ],
          "histogram2d": [
           {
            "colorbar": {
             "outlinewidth": 0,
             "ticks": ""
            },
            "colorscale": [
             [
              0,
              "#0d0887"
             ],
             [
              0.1111111111111111,
              "#46039f"
             ],
             [
              0.2222222222222222,
              "#7201a8"
             ],
             [
              0.3333333333333333,
              "#9c179e"
             ],
             [
              0.4444444444444444,
              "#bd3786"
             ],
             [
              0.5555555555555556,
              "#d8576b"
             ],
             [
              0.6666666666666666,
              "#ed7953"
             ],
             [
              0.7777777777777778,
              "#fb9f3a"
             ],
             [
              0.8888888888888888,
              "#fdca26"
             ],
             [
              1,
              "#f0f921"
             ]
            ],
            "type": "histogram2d"
           }
          ],
          "histogram2dcontour": [
           {
            "colorbar": {
             "outlinewidth": 0,
             "ticks": ""
            },
            "colorscale": [
             [
              0,
              "#0d0887"
             ],
             [
              0.1111111111111111,
              "#46039f"
             ],
             [
              0.2222222222222222,
              "#7201a8"
             ],
             [
              0.3333333333333333,
              "#9c179e"
             ],
             [
              0.4444444444444444,
              "#bd3786"
             ],
             [
              0.5555555555555556,
              "#d8576b"
             ],
             [
              0.6666666666666666,
              "#ed7953"
             ],
             [
              0.7777777777777778,
              "#fb9f3a"
             ],
             [
              0.8888888888888888,
              "#fdca26"
             ],
             [
              1,
              "#f0f921"
             ]
            ],
            "type": "histogram2dcontour"
           }
          ],
          "mesh3d": [
           {
            "colorbar": {
             "outlinewidth": 0,
             "ticks": ""
            },
            "type": "mesh3d"
           }
          ],
          "parcoords": [
           {
            "line": {
             "colorbar": {
              "outlinewidth": 0,
              "ticks": ""
             }
            },
            "type": "parcoords"
           }
          ],
          "pie": [
           {
            "automargin": true,
            "type": "pie"
           }
          ],
          "scatter": [
           {
            "fillpattern": {
             "fillmode": "overlay",
             "size": 10,
             "solidity": 0.2
            },
            "type": "scatter"
           }
          ],
          "scatter3d": [
           {
            "line": {
             "colorbar": {
              "outlinewidth": 0,
              "ticks": ""
             }
            },
            "marker": {
             "colorbar": {
              "outlinewidth": 0,
              "ticks": ""
             }
            },
            "type": "scatter3d"
           }
          ],
          "scattercarpet": [
           {
            "marker": {
             "colorbar": {
              "outlinewidth": 0,
              "ticks": ""
             }
            },
            "type": "scattercarpet"
           }
          ],
          "scattergeo": [
           {
            "marker": {
             "colorbar": {
              "outlinewidth": 0,
              "ticks": ""
             }
            },
            "type": "scattergeo"
           }
          ],
          "scattergl": [
           {
            "marker": {
             "colorbar": {
              "outlinewidth": 0,
              "ticks": ""
             }
            },
            "type": "scattergl"
           }
          ],
          "scattermap": [
           {
            "marker": {
             "colorbar": {
              "outlinewidth": 0,
              "ticks": ""
             }
            },
            "type": "scattermap"
           }
          ],
          "scattermapbox": [
           {
            "marker": {
             "colorbar": {
              "outlinewidth": 0,
              "ticks": ""
             }
            },
            "type": "scattermapbox"
           }
          ],
          "scatterpolar": [
           {
            "marker": {
             "colorbar": {
              "outlinewidth": 0,
              "ticks": ""
             }
            },
            "type": "scatterpolar"
           }
          ],
          "scatterpolargl": [
           {
            "marker": {
             "colorbar": {
              "outlinewidth": 0,
              "ticks": ""
             }
            },
            "type": "scatterpolargl"
           }
          ],
          "scatterternary": [
           {
            "marker": {
             "colorbar": {
              "outlinewidth": 0,
              "ticks": ""
             }
            },
            "type": "scatterternary"
           }
          ],
          "surface": [
           {
            "colorbar": {
             "outlinewidth": 0,
             "ticks": ""
            },
            "colorscale": [
             [
              0,
              "#0d0887"
             ],
             [
              0.1111111111111111,
              "#46039f"
             ],
             [
              0.2222222222222222,
              "#7201a8"
             ],
             [
              0.3333333333333333,
              "#9c179e"
             ],
             [
              0.4444444444444444,
              "#bd3786"
             ],
             [
              0.5555555555555556,
              "#d8576b"
             ],
             [
              0.6666666666666666,
              "#ed7953"
             ],
             [
              0.7777777777777778,
              "#fb9f3a"
             ],
             [
              0.8888888888888888,
              "#fdca26"
             ],
             [
              1,
              "#f0f921"
             ]
            ],
            "type": "surface"
           }
          ],
          "table": [
           {
            "cells": {
             "fill": {
              "color": "#EBF0F8"
             },
             "line": {
              "color": "white"
             }
            },
            "header": {
             "fill": {
              "color": "#C8D4E3"
             },
             "line": {
              "color": "white"
             }
            },
            "type": "table"
           }
          ]
         },
         "layout": {
          "annotationdefaults": {
           "arrowcolor": "#2a3f5f",
           "arrowhead": 0,
           "arrowwidth": 1
          },
          "autotypenumbers": "strict",
          "coloraxis": {
           "colorbar": {
            "outlinewidth": 0,
            "ticks": ""
           }
          },
          "colorscale": {
           "diverging": [
            [
             0,
             "#8e0152"
            ],
            [
             0.1,
             "#c51b7d"
            ],
            [
             0.2,
             "#de77ae"
            ],
            [
             0.3,
             "#f1b6da"
            ],
            [
             0.4,
             "#fde0ef"
            ],
            [
             0.5,
             "#f7f7f7"
            ],
            [
             0.6,
             "#e6f5d0"
            ],
            [
             0.7,
             "#b8e186"
            ],
            [
             0.8,
             "#7fbc41"
            ],
            [
             0.9,
             "#4d9221"
            ],
            [
             1,
             "#276419"
            ]
           ],
           "sequential": [
            [
             0,
             "#0d0887"
            ],
            [
             0.1111111111111111,
             "#46039f"
            ],
            [
             0.2222222222222222,
             "#7201a8"
            ],
            [
             0.3333333333333333,
             "#9c179e"
            ],
            [
             0.4444444444444444,
             "#bd3786"
            ],
            [
             0.5555555555555556,
             "#d8576b"
            ],
            [
             0.6666666666666666,
             "#ed7953"
            ],
            [
             0.7777777777777778,
             "#fb9f3a"
            ],
            [
             0.8888888888888888,
             "#fdca26"
            ],
            [
             1,
             "#f0f921"
            ]
           ],
           "sequentialminus": [
            [
             0,
             "#0d0887"
            ],
            [
             0.1111111111111111,
             "#46039f"
            ],
            [
             0.2222222222222222,
             "#7201a8"
            ],
            [
             0.3333333333333333,
             "#9c179e"
            ],
            [
             0.4444444444444444,
             "#bd3786"
            ],
            [
             0.5555555555555556,
             "#d8576b"
            ],
            [
             0.6666666666666666,
             "#ed7953"
            ],
            [
             0.7777777777777778,
             "#fb9f3a"
            ],
            [
             0.8888888888888888,
             "#fdca26"
            ],
            [
             1,
             "#f0f921"
            ]
           ]
          },
          "colorway": [
           "#636efa",
           "#EF553B",
           "#00cc96",
           "#ab63fa",
           "#FFA15A",
           "#19d3f3",
           "#FF6692",
           "#B6E880",
           "#FF97FF",
           "#FECB52"
          ],
          "font": {
           "color": "#2a3f5f"
          },
          "geo": {
           "bgcolor": "white",
           "lakecolor": "white",
           "landcolor": "#E5ECF6",
           "showlakes": true,
           "showland": true,
           "subunitcolor": "white"
          },
          "hoverlabel": {
           "align": "left"
          },
          "hovermode": "closest",
          "mapbox": {
           "style": "light"
          },
          "paper_bgcolor": "white",
          "plot_bgcolor": "#E5ECF6",
          "polar": {
           "angularaxis": {
            "gridcolor": "white",
            "linecolor": "white",
            "ticks": ""
           },
           "bgcolor": "#E5ECF6",
           "radialaxis": {
            "gridcolor": "white",
            "linecolor": "white",
            "ticks": ""
           }
          },
          "scene": {
           "xaxis": {
            "backgroundcolor": "#E5ECF6",
            "gridcolor": "white",
            "gridwidth": 2,
            "linecolor": "white",
            "showbackground": true,
            "ticks": "",
            "zerolinecolor": "white"
           },
           "yaxis": {
            "backgroundcolor": "#E5ECF6",
            "gridcolor": "white",
            "gridwidth": 2,
            "linecolor": "white",
            "showbackground": true,
            "ticks": "",
            "zerolinecolor": "white"
           },
           "zaxis": {
            "backgroundcolor": "#E5ECF6",
            "gridcolor": "white",
            "gridwidth": 2,
            "linecolor": "white",
            "showbackground": true,
            "ticks": "",
            "zerolinecolor": "white"
           }
          },
          "shapedefaults": {
           "line": {
            "color": "#2a3f5f"
           }
          },
          "ternary": {
           "aaxis": {
            "gridcolor": "white",
            "linecolor": "white",
            "ticks": ""
           },
           "baxis": {
            "gridcolor": "white",
            "linecolor": "white",
            "ticks": ""
           },
           "bgcolor": "#E5ECF6",
           "caxis": {
            "gridcolor": "white",
            "linecolor": "white",
            "ticks": ""
           }
          },
          "title": {
           "x": 0.05
          },
          "xaxis": {
           "automargin": true,
           "gridcolor": "white",
           "linecolor": "white",
           "ticks": "",
           "title": {
            "standoff": 15
           },
           "zerolinecolor": "white",
           "zerolinewidth": 2
          },
          "yaxis": {
           "automargin": true,
           "gridcolor": "white",
           "linecolor": "white",
           "ticks": "",
           "title": {
            "standoff": 15
           },
           "zerolinecolor": "white",
           "zerolinewidth": 2
          }
         }
        },
        "xaxis": {
         "anchor": "y",
         "domain": [
          0,
          1
         ],
         "title": {
          "text": "Índice de renovação da população em idade ativa"
         }
        },
        "yaxis": {
         "anchor": "x",
         "domain": [
          0,
          1
         ],
         "showgrid": false,
         "showticklabels": false,
         "title": {
          "text": "y"
         }
        }
       }
      }
     },
     "metadata": {},
     "output_type": "display_data"
    },
    {
     "name": "stdout",
     "output_type": "stream",
     "text": [
      "Índice De Renovação\n",
      "0     84\n",
      "1    137\n",
      "2     87\n",
      "Name: count, dtype: int64\n",
      "File saved to csv_files/5_Indice_de_renovacao.csv\n"
     ]
    }
   ],
   "source": [
    "clustered_df = aplicar_kmeans(df_indice_renovacao, 3, nome_cluster='Índice De Renovação')\n",
    "save_clustered_df_to_csv(clustered_df, \"csv_files/\", \"5_Indice_de_renovacao.csv\")"
   ]
  },
  {
   "cell_type": "markdown",
   "id": "19d3f267",
   "metadata": {},
   "source": [
    "### Pedido de Residencia"
   ]
  },
  {
   "cell_type": "code",
   "execution_count": 17,
   "id": "ecac9a49",
   "metadata": {},
   "outputs": [
    {
     "data": {
      "text/html": [
       "<div>\n",
       "<style scoped>\n",
       "    .dataframe tbody tr th:only-of-type {\n",
       "        vertical-align: middle;\n",
       "    }\n",
       "\n",
       "    .dataframe tbody tr th {\n",
       "        vertical-align: top;\n",
       "    }\n",
       "\n",
       "    .dataframe thead th {\n",
       "        text-align: right;\n",
       "    }\n",
       "</style>\n",
       "<table border=\"1\" class=\"dataframe\">\n",
       "  <thead>\n",
       "    <tr style=\"text-align: right;\">\n",
       "      <th></th>\n",
       "      <th>local</th>\n",
       "      <th>codigo</th>\n",
       "      <th>Total</th>\n",
       "    </tr>\n",
       "  </thead>\n",
       "  <tbody>\n",
       "    <tr>\n",
       "      <th>4</th>\n",
       "      <td>Arcos de Valdevez</td>\n",
       "      <td>1111601</td>\n",
       "      <td>187</td>\n",
       "    </tr>\n",
       "    <tr>\n",
       "      <th>5</th>\n",
       "      <td>Caminha</td>\n",
       "      <td>1111602</td>\n",
       "      <td>400</td>\n",
       "    </tr>\n",
       "    <tr>\n",
       "      <th>6</th>\n",
       "      <td>Melgaço</td>\n",
       "      <td>1111603</td>\n",
       "      <td>61</td>\n",
       "    </tr>\n",
       "    <tr>\n",
       "      <th>7</th>\n",
       "      <td>Monção</td>\n",
       "      <td>1111604</td>\n",
       "      <td>451</td>\n",
       "    </tr>\n",
       "    <tr>\n",
       "      <th>8</th>\n",
       "      <td>Paredes de Coura</td>\n",
       "      <td>1111605</td>\n",
       "      <td>101</td>\n",
       "    </tr>\n",
       "    <tr>\n",
       "      <th>...</th>\n",
       "      <td>...</td>\n",
       "      <td>...</td>\n",
       "      <td>...</td>\n",
       "    </tr>\n",
       "    <tr>\n",
       "      <th>342</th>\n",
       "      <td>Ribeira Brava</td>\n",
       "      <td>3003107</td>\n",
       "      <td>78</td>\n",
       "    </tr>\n",
       "    <tr>\n",
       "      <th>343</th>\n",
       "      <td>Santa Cruz</td>\n",
       "      <td>3003108</td>\n",
       "      <td>400</td>\n",
       "    </tr>\n",
       "    <tr>\n",
       "      <th>344</th>\n",
       "      <td>Santana</td>\n",
       "      <td>3003109</td>\n",
       "      <td>71</td>\n",
       "    </tr>\n",
       "    <tr>\n",
       "      <th>345</th>\n",
       "      <td>São Vicente</td>\n",
       "      <td>3003110</td>\n",
       "      <td>65</td>\n",
       "    </tr>\n",
       "    <tr>\n",
       "      <th>346</th>\n",
       "      <td>Porto Santo</td>\n",
       "      <td>3003201</td>\n",
       "      <td>132</td>\n",
       "    </tr>\n",
       "  </tbody>\n",
       "</table>\n",
       "<p>308 rows × 3 columns</p>\n",
       "</div>"
      ],
      "text/plain": [
       "                 local   codigo  Total\n",
       "4    Arcos de Valdevez  1111601    187\n",
       "5              Caminha  1111602    400\n",
       "6              Melgaço  1111603     61\n",
       "7               Monção  1111604    451\n",
       "8     Paredes de Coura  1111605    101\n",
       "..                 ...      ...    ...\n",
       "342      Ribeira Brava  3003107     78\n",
       "343         Santa Cruz  3003108    400\n",
       "344            Santana  3003109     71\n",
       "345        São Vicente  3003110     65\n",
       "346        Porto Santo  3003201    132\n",
       "\n",
       "[308 rows x 3 columns]"
      ]
     },
     "execution_count": 17,
     "metadata": {},
     "output_type": "execute_result"
    }
   ],
   "source": [
    "df_pedido_residencia = processar_ficheiro(data_path+'População estrangeira que solicitou estatuto de residente.xls', 1,padding_left=0, padding_right=46)\n",
    "df_pedido_residencia = carregar_municipios(df_pedido_residencia)\n",
    "#save_clustered_df_to_csv(df_pedido_residencia.rename(columns={'Total': 'Total_Pedidos_Residencia'}), \"csv_bruto/\", \"5_Num_pedidos_residencia.csv\")\n",
    "df_pedido_residencia"
   ]
  },
  {
   "cell_type": "code",
   "execution_count": 18,
   "id": "f38e3b90",
   "metadata": {},
   "outputs": [
    {
     "data": {
      "application/vnd.plotly.v1+json": {
       "config": {
        "plotlyServerURL": "https://plot.ly"
       },
       "data": [
        {
         "customdata": [
          [
           "Arcos de Valdevez",
           "1111601",
           187
          ],
          [
           "Caminha",
           "1111602",
           400
          ],
          [
           "Melgaço",
           "1111603",
           61
          ],
          [
           "Monção",
           "1111604",
           451
          ],
          [
           "Paredes de Coura",
           "1111605",
           101
          ],
          [
           "Ponte da Barca",
           "1111606",
           66
          ],
          [
           "Ponte de Lima",
           "1111607",
           450
          ],
          [
           "Valença",
           "1111608",
           700
          ],
          [
           "Viana do Castelo",
           "1111609",
           2008
          ],
          [
           "Vila Nova de Cerveira",
           "1111610",
           316
          ],
          [
           "Amares",
           "1120301",
           275
          ],
          [
           "Barcelos",
           "1120302",
           1573
          ],
          [
           "Braga",
           "1120303",
           7530
          ],
          [
           "Esposende",
           "1120306",
           574
          ],
          [
           "Terras de Bouro",
           "1120310",
           37
          ],
          [
           "Vila Verde",
           "1120313",
           532
          ],
          [
           "Cabeceiras de Basto",
           "1190304",
           50
          ],
          [
           "Fafe",
           "1190307",
           438
          ],
          [
           "Guimarães",
           "1190308",
           2428
          ],
          [
           "Mondim de Basto",
           "1191705",
           22
          ],
          [
           "Póvoa de Lanhoso",
           "1190309",
           275
          ],
          [
           "Vieira do Minho",
           "1190311",
           50
          ],
          [
           "Vila Nova de Famalicão",
           "1190312",
           2179
          ],
          [
           "Vizela",
           "1190314",
           305
          ],
          [
           "Arouca",
           "11A0104",
           108
          ],
          [
           "Espinho",
           "11A0107",
           412
          ],
          [
           "Gondomar",
           "11A1304",
           1985
          ],
          [
           "Maia",
           "11A1306",
           2151
          ],
          [
           "Matosinhos",
           "11A1308",
           3472
          ],
          [
           "Oliveira de Azeméis",
           "11A0113",
           823
          ],
          [
           "Paredes",
           "11A1310",
           740
          ],
          [
           "Porto",
           "11A1312",
           14163
          ],
          [
           "Póvoa de Varzim",
           "11A1313",
           1664
          ],
          [
           "Santa Maria da Feira",
           "11A0109",
           922
          ],
          [
           "Santo Tirso",
           "11A1314",
           435
          ],
          [
           "São João da Madeira",
           "11A0116",
           851
          ],
          [
           "Trofa",
           "11A1318",
           620
          ],
          [
           "Vale de Cambra",
           "11A0119",
           318
          ],
          [
           "Valongo",
           "11A1315",
           908
          ],
          [
           "Vila do Conde",
           "11A1316",
           1138
          ],
          [
           "Vila Nova de Gaia",
           "11A1317",
           6171
          ],
          [
           "Boticas",
           "11B1702",
           30
          ],
          [
           "Chaves",
           "11B1703",
           534
          ],
          [
           "Montalegre",
           "11B1706",
           31
          ],
          [
           "Ribeira de Pena",
           "11B1709",
           55
          ],
          [
           "Valpaços",
           "11B1712",
           43
          ],
          [
           "Vila Pouca de Aguiar",
           "11B1713",
           80
          ],
          [
           "Amarante",
           "11C1301",
           369
          ],
          [
           "Baião",
           "11C1302",
           71
          ],
          [
           "Castelo de Paiva",
           "11C0106",
           120
          ],
          [
           "Celorico de Basto",
           "11C0305",
           48
          ],
          [
           "Cinfães",
           "11C1804",
           120
          ],
          [
           "Felgueiras",
           "11C1303",
           394
          ],
          [
           "Lousada",
           "11C1305",
           257
          ],
          [
           "Marco de Canaveses",
           "11C1307",
           410
          ],
          [
           "Paços de Ferreira",
           "11C1309",
           433
          ],
          [
           "Penafiel",
           "11C1311",
           388
          ],
          [
           "Resende",
           "11C1813",
           18
          ],
          [
           "Alijó",
           "11D1701",
           26
          ],
          [
           "Armamar",
           "11D1801",
           40
          ],
          [
           "Carrazeda de Ansiães",
           "11D0403",
           39
          ],
          [
           "Freixo de Espada à Cinta",
           "11D0404",
           26
          ],
          [
           "Lamego",
           "11D1805",
           142
          ],
          [
           "Mesão Frio",
           "11D1704",
           5
          ],
          [
           "Moimenta da Beira",
           "11D1807",
           127
          ],
          [
           "Murça",
           "11D1707",
           20
          ],
          [
           "Penedono",
           "11D1812",
           19
          ],
          [
           "Peso da Régua",
           "11D1708",
           57
          ],
          [
           "Sabrosa",
           "11D1710",
           9
          ],
          [
           "Santa Marta de Penaguião",
           "11D1711",
           12
          ],
          [
           "São João da Pesqueira",
           "11D1815",
           23
          ],
          [
           "Sernancelhe",
           "11D1818",
           81
          ],
          [
           "Tabuaço",
           "11D1819",
           30
          ],
          [
           "Tarouca",
           "11D1820",
           60
          ],
          [
           "Torre de Moncorvo",
           "11D0409",
           24
          ],
          [
           "Vila Nova de Foz Côa",
           "11D0914",
           39
          ],
          [
           "Vila Real",
           "11D1714",
           952
          ],
          [
           "Alfândega da Fé",
           "11E0401",
           26
          ],
          [
           "Bragança",
           "11E0402",
           1496
          ],
          [
           "Macedo de Cavaleiros",
           "11E0405",
           104
          ],
          [
           "Miranda do Douro",
           "11E0406",
           44
          ],
          [
           "Mirandela",
           "11E0407",
           293
          ],
          [
           "Mogadouro",
           "11E0408",
           28
          ],
          [
           "Vila Flor",
           "11E0410",
           28
          ],
          [
           "Vimioso",
           "11E0411",
           36
          ],
          [
           "Vinhais",
           "11E0412",
           18
          ],
          [
           "Águeda",
           "1910101",
           1461
          ],
          [
           "Albergaria-a-Velha",
           "1910102",
           422
          ],
          [
           "Anadia",
           "1910103",
           628
          ],
          [
           "Aveiro",
           "1910105",
           3477
          ],
          [
           "Estarreja",
           "1910108",
           379
          ],
          [
           "Ílhavo",
           "1910110",
           1076
          ],
          [
           "Murtosa",
           "1910112",
           121
          ],
          [
           "Oliveira do Bairro",
           "1910114",
           738
          ],
          [
           "Ovar",
           "1910115",
           692
          ],
          [
           "Sever do Vouga",
           "1910117",
           238
          ],
          [
           "Vagos",
           "1910118",
           549
          ],
          [
           "Arganil",
           "1920601",
           254
          ],
          [
           "Cantanhede",
           "1920602",
           416
          ],
          [
           "Coimbra",
           "1920603",
           5892
          ],
          [
           "Condeixa-a-Nova",
           "1920604",
           187
          ],
          [
           "Figueira da Foz",
           "1920605",
           1693
          ],
          [
           "Góis",
           "1920606",
           56
          ],
          [
           "Lousã",
           "1920607",
           261
          ],
          [
           "Mealhada",
           "1920111",
           233
          ],
          [
           "Mira",
           "1920608",
           246
          ],
          [
           "Miranda do Corvo",
           "1920609",
           152
          ],
          [
           "Montemor-o-Velho",
           "1920610",
           205
          ],
          [
           "Mortágua",
           "1921808",
           179
          ],
          [
           "Oliveira do Hospital",
           "1920611",
           283
          ],
          [
           "Pampilhosa da Serra",
           "1920612",
           13
          ],
          [
           "Penacova",
           "1920613",
           94
          ],
          [
           "Penela",
           "1920614",
           144
          ],
          [
           "Soure",
           "1920615",
           157
          ],
          [
           "Tábua",
           "1920616",
           153
          ],
          [
           "Vila Nova de Poiares",
           "1920617",
           131
          ],
          [
           "Alvaiázere",
           "1931002",
           109
          ],
          [
           "Ansião",
           "1931003",
           189
          ],
          [
           "Batalha",
           "1931004",
           706
          ],
          [
           "Castanheira de Pêra",
           "1931007",
           37
          ],
          [
           "Figueiró dos Vinhos",
           "1931008",
           93
          ],
          [
           "Leiria",
           "1931009",
           4889
          ],
          [
           "Marinha Grande",
           "1931010",
           1477
          ],
          [
           "Pedrógão Grande",
           "1931013",
           153
          ],
          [
           "Pombal",
           "1931015",
           1314
          ],
          [
           "Porto de Mós",
           "1931016",
           541
          ],
          [
           "Aguiar da Beira",
           "1940901",
           19
          ],
          [
           "Carregal do Sal",
           "1941802",
           113
          ],
          [
           "Castro Daire",
           "1941803",
           98
          ],
          [
           "Mangualde",
           "1941806",
           274
          ],
          [
           "Nelas",
           "1941809",
           220
          ],
          [
           "Oliveira de Frades",
           "1941810",
           299
          ],
          [
           "Penalva do Castelo",
           "1941811",
           31
          ],
          [
           "Santa Comba Dão",
           "1941814",
           132
          ],
          [
           "São Pedro do Sul",
           "1941816",
           308
          ],
          [
           "Sátão",
           "1941817",
           105
          ],
          [
           "Tondela",
           "1941821",
           373
          ],
          [
           "Vila Nova de Paiva",
           "1941822",
           20
          ],
          [
           "Viseu",
           "1941823",
           2437
          ],
          [
           "Vouzela",
           "1941824",
           103
          ],
          [
           "Castelo Branco",
           "1950502",
           1295
          ],
          [
           "Idanha-a-Nova",
           "1950505",
           187
          ],
          [
           "Oleiros",
           "1950506",
           67
          ],
          [
           "Penamacor",
           "1950507",
           88
          ],
          [
           "Proença-a-Nova",
           "1950508",
           108
          ],
          [
           "Sertã",
           "1950509",
           280
          ],
          [
           "Vila de Rei",
           "1950510",
           59
          ],
          [
           "Vila Velha de Ródão",
           "1950511",
           95
          ],
          [
           "Almeida",
           "1960902",
           67
          ],
          [
           "Belmonte",
           "1960501",
           53
          ],
          [
           "Celorico da Beira",
           "1960903",
           63
          ],
          [
           "Covilhã",
           "1960503",
           1336
          ],
          [
           "Figueira de Castelo Rodrigo",
           "1960904",
           7
          ],
          [
           "Fornos de Algodres",
           "1960905",
           16
          ],
          [
           "Fundão",
           "1960504",
           517
          ],
          [
           "Gouveia",
           "1960906",
           83
          ],
          [
           "Guarda",
           "1960907",
           572
          ],
          [
           "Manteigas",
           "1960908",
           31
          ],
          [
           "Mêda",
           "1960909",
           20
          ],
          [
           "Pinhel",
           "1960910",
           40
          ],
          [
           "Sabugal",
           "1960911",
           47
          ],
          [
           "Seia",
           "1960912",
           221
          ],
          [
           "Trancoso",
           "1960913",
           53
          ],
          [
           "Alcobaça",
           "1D11001",
           1537
          ],
          [
           "Alenquer",
           "1D11101",
           1740
          ],
          [
           "Arruda dos Vinhos",
           "1D11102",
           292
          ],
          [
           "Bombarral",
           "1D11005",
           316
          ],
          [
           "Cadaval",
           "1D11104",
           171
          ],
          [
           "Caldas da Rainha",
           "1D11006",
           2119
          ],
          [
           "Lourinhã",
           "1D11108",
           754
          ],
          [
           "Nazaré",
           "1D11011",
           711
          ],
          [
           "Óbidos",
           "1D11012",
           365
          ],
          [
           "Peniche",
           "1D11014",
           766
          ],
          [
           "Sobral de Monte Agraço",
           "1D11112",
           327
          ],
          [
           "Torres Vedras",
           "1D11113",
           2406
          ],
          [
           "Abrantes",
           "1D21401",
           482
          ],
          [
           "Alcanena",
           "1D21402",
           252
          ],
          [
           "Constância",
           "1D21408",
           26
          ],
          [
           "Entroncamento",
           "1D21410",
           1179
          ],
          [
           "Ferreira do Zêzere",
           "1D21411",
           115
          ],
          [
           "Mação",
           "1D21413",
           59
          ],
          [
           "Ourém",
           "1D21421",
           1033
          ],
          [
           "Sardoal",
           "1D21417",
           54
          ],
          [
           "Tomar",
           "1D21418",
           530
          ],
          [
           "Torres Novas",
           "1D21419",
           507
          ],
          [
           "Vila Nova da Barquinha",
           "1D21420",
           56
          ],
          [
           "Almeirim",
           "1D31403",
           473
          ],
          [
           "Alpiarça",
           "1D31404",
           71
          ],
          [
           "Azambuja",
           "1D31103",
           607
          ],
          [
           "Benavente",
           "1D31405",
           797
          ],
          [
           "Cartaxo",
           "1D31406",
           440
          ],
          [
           "Chamusca",
           "1D31407",
           65
          ],
          [
           "Coruche",
           "1D31409",
           95
          ],
          [
           "Golegã",
           "1D31412",
           82
          ],
          [
           "Rio Maior",
           "1D31414",
           824
          ],
          [
           "Salvaterra de Magos",
           "1D31415",
           201
          ],
          [
           "Santarém",
           "1D31416",
           2109
          ],
          [
           "Amadora",
           "1A01115",
           11124
          ],
          [
           "Cascais",
           "1A01105",
           9894
          ],
          [
           "Lisboa",
           "1A01106",
           51119
          ],
          [
           "Loures",
           "1A01107",
           11058
          ],
          [
           "Mafra",
           "1A01109",
           2983
          ],
          [
           "Odivelas",
           "1A01116",
           10709
          ],
          [
           "Oeiras",
           "1A01110",
           5371
          ],
          [
           "Sintra",
           "1A01111",
           19177
          ],
          [
           "Vila Franca de Xira",
           "1A01114",
           4390
          ],
          [
           "Alcochete",
           "1B01502",
           357
          ],
          [
           "Almada",
           "1B01503",
           8284
          ],
          [
           "Barreiro",
           "1B01504",
           3235
          ],
          [
           "Moita",
           "1B01506",
           3077
          ],
          [
           "Montijo",
           "1B01507",
           2863
          ],
          [
           "Palmela",
           "1B01508",
           1471
          ],
          [
           "Seixal",
           "1B01510",
           7770
          ],
          [
           "Sesimbra",
           "1B01511",
           1216
          ],
          [
           "Setúbal",
           "1B01512",
           4878
          ],
          [
           "Alcácer do Sal",
           "1C11501",
           219
          ],
          [
           "Grândola",
           "1C11505",
           434
          ],
          [
           "Odemira",
           "1C10211",
           3197
          ],
          [
           "Santiago do Cacém",
           "1C11509",
           557
          ],
          [
           "Sines",
           "1C11513",
           585
          ],
          [
           "Aljustrel",
           "1C20201",
           96
          ],
          [
           "Almodôvar",
           "1C20202",
           115
          ],
          [
           "Alvito",
           "1C20203",
           33
          ],
          [
           "Barrancos",
           "1C20204",
           6
          ],
          [
           "Beja",
           "1C20205",
           1084
          ],
          [
           "Castro Verde",
           "1C20206",
           102
          ],
          [
           "Cuba",
           "1C20207",
           61
          ],
          [
           "Ferreira do Alentejo",
           "1C20208",
           272
          ],
          [
           "Mértola",
           "1C20209",
           90
          ],
          [
           "Moura",
           "1C20210",
           41
          ],
          [
           "Ourique",
           "1C20212",
           75
          ],
          [
           "Serpa",
           "1C20213",
           252
          ],
          [
           "Vidigueira",
           "1C20214",
           73
          ],
          [
           "Alter do Chão",
           "1C31201",
           36
          ],
          [
           "Arronches",
           "1C31202",
           11
          ],
          [
           "Avis",
           "1C31203",
           15
          ],
          [
           "Campo Maior",
           "1C31204",
           42
          ],
          [
           "Castelo de Vide",
           "1C31205",
           20
          ],
          [
           "Crato",
           "1C31206",
           22
          ],
          [
           "Elvas",
           "1C31207",
           201
          ],
          [
           "Fronteira",
           "1C31208",
           35
          ],
          [
           "Gavião",
           "1C31209",
           3
          ],
          [
           "Marvão",
           "1C31210",
           41
          ],
          [
           "Monforte",
           "1C31211",
           18
          ],
          [
           "Nisa",
           "1C31212",
           36
          ],
          [
           "Ponte de Sor",
           "1C31213",
           145
          ],
          [
           "Portalegre",
           "1C31214",
           350
          ],
          [
           "Sousel",
           "1C31215",
           62
          ],
          [
           "Alandroal",
           "1C40701",
           79
          ],
          [
           "Arraiolos",
           "1C40702",
           31
          ],
          [
           "Borba",
           "1C40703",
           32
          ],
          [
           "Estremoz",
           "1C40704",
           119
          ],
          [
           "Évora",
           "1C40705",
           1321
          ],
          [
           "Montemor-o-Novo",
           "1C40706",
           299
          ],
          [
           "Mora",
           "1C40707",
           24
          ],
          [
           "Mourão",
           "1C40708",
           16
          ],
          [
           "Portel",
           "1C40709",
           52
          ],
          [
           "Redondo",
           "1C40710",
           29
          ],
          [
           "Reguengos de Monsaraz",
           "1C40711",
           53
          ],
          [
           "Vendas Novas",
           "1C40712",
           230
          ],
          [
           "Viana do Alentejo",
           "1C40713",
           46
          ],
          [
           "Vila Viçosa",
           "1C40714",
           61
          ],
          [
           "Albufeira",
           "1500801",
           4376
          ],
          [
           "Alcoutim",
           "1500802",
           52
          ],
          [
           "Aljezur",
           "1500803",
           515
          ],
          [
           "Castro Marim",
           "1500804",
           256
          ],
          [
           "Faro",
           "1500805",
           2943
          ],
          [
           "Lagoa",
           "1500806",
           1377
          ],
          [
           "Lagos",
           "1500807",
           2948
          ],
          [
           "Loulé",
           "1500808",
           4953
          ],
          [
           "Monchique",
           "1500809",
           192
          ],
          [
           "Olhão",
           "1500810",
           1074
          ],
          [
           "Portimão",
           "1500811",
           3802
          ],
          [
           "São Brás de Alportel",
           "1500812",
           292
          ],
          [
           "Silves",
           "1500813",
           1911
          ],
          [
           "Tavira",
           "1500814",
           1752
          ],
          [
           "Vila do Bispo",
           "1500815",
           528
          ],
          [
           "Vila Real de Santo António",
           "1500816",
           779
          ],
          [
           "Angra do Heroísmo",
           "2004301",
           147
          ],
          [
           "Calheta (R.A.A.)",
           "2004501",
           26
          ],
          [
           "Corvo",
           "2004901",
           0
          ],
          [
           "Horta",
           "2004701",
           157
          ],
          [
           "Lagoa (R.A.A.)",
           "2004201",
           38
          ],
          [
           "Lajes das Flores",
           "2004801",
           22
          ],
          [
           "Lajes do Pico",
           "2004601",
           50
          ],
          [
           "Madalena",
           "2004602",
           105
          ],
          [
           "Nordeste",
           "2004202",
           32
          ],
          [
           "Ponta Delgada",
           "2004203",
           568
          ],
          [
           "Povoação",
           "2004204",
           19
          ],
          [
           "Ribeira Grande",
           "2004205",
           106
          ],
          [
           "Santa Cruz da Graciosa",
           "2004401",
           22
          ],
          [
           "Santa Cruz das Flores",
           "2004802",
           11
          ],
          [
           "São Roque do Pico",
           "2004603",
           39
          ],
          [
           "Velas",
           "2004502",
           23
          ],
          [
           "Vila da Praia da Vitória",
           "2004302",
           77
          ],
          [
           "Vila do Porto",
           "2004101",
           45
          ],
          [
           "Vila Franca do Campo",
           "2004206",
           42
          ],
          [
           "Calheta (R.A.M.)",
           "3003101",
           276
          ],
          [
           "Câmara de Lobos",
           "3003102",
           209
          ],
          [
           "Funchal",
           "3003103",
           1916
          ],
          [
           "Machico",
           "3003104",
           173
          ],
          [
           "Ponta do Sol",
           "3003105",
           122
          ],
          [
           "Porto Moniz",
           "3003106",
           30
          ],
          [
           "Ribeira Brava",
           "3003107",
           78
          ],
          [
           "Santa Cruz",
           "3003108",
           400
          ],
          [
           "Santana",
           "3003109",
           71
          ],
          [
           "São Vicente",
           "3003110",
           65
          ],
          [
           "Porto Santo",
           "3003201",
           132
          ]
         ],
         "hovertemplate": "valor=%{x}<br>y=%{y}<br>local=%{customdata[0]}<br>codigo=%{customdata[1]}<br>Total=%{customdata[2]}<br>num_pedidos_residencia=%{marker.color}<extra></extra>",
         "legendgroup": "",
         "marker": {
          "color": [
           0,
           0,
           0,
           0,
           0,
           0,
           0,
           0,
           0,
           0,
           0,
           0,
           1,
           0,
           0,
           0,
           0,
           0,
           0,
           0,
           0,
           0,
           0,
           0,
           0,
           0,
           0,
           0,
           0,
           0,
           0,
           1,
           0,
           0,
           0,
           0,
           0,
           0,
           0,
           0,
           1,
           0,
           0,
           0,
           0,
           0,
           0,
           0,
           0,
           0,
           0,
           0,
           0,
           0,
           0,
           0,
           0,
           0,
           0,
           0,
           0,
           0,
           0,
           0,
           0,
           0,
           0,
           0,
           0,
           0,
           0,
           0,
           0,
           0,
           0,
           0,
           0,
           0,
           0,
           0,
           0,
           0,
           0,
           0,
           0,
           0,
           0,
           0,
           0,
           0,
           0,
           0,
           0,
           0,
           0,
           0,
           0,
           0,
           0,
           1,
           0,
           0,
           0,
           0,
           0,
           0,
           0,
           0,
           0,
           0,
           0,
           0,
           0,
           0,
           0,
           0,
           0,
           0,
           0,
           0,
           0,
           0,
           0,
           0,
           0,
           0,
           0,
           0,
           0,
           0,
           0,
           0,
           0,
           0,
           0,
           0,
           0,
           0,
           0,
           0,
           0,
           0,
           0,
           0,
           0,
           0,
           0,
           0,
           0,
           0,
           0,
           0,
           0,
           0,
           0,
           0,
           0,
           0,
           0,
           0,
           0,
           0,
           0,
           0,
           0,
           0,
           0,
           0,
           0,
           0,
           0,
           0,
           0,
           0,
           0,
           0,
           0,
           0,
           0,
           0,
           0,
           0,
           0,
           0,
           0,
           0,
           0,
           0,
           0,
           0,
           0,
           0,
           0,
           0,
           0,
           0,
           0,
           1,
           1,
           2,
           1,
           0,
           1,
           1,
           1,
           0,
           0,
           1,
           0,
           0,
           0,
           0,
           1,
           0,
           0,
           0,
           0,
           0,
           0,
           0,
           0,
           0,
           0,
           0,
           0,
           0,
           0,
           0,
           0,
           0,
           0,
           0,
           0,
           0,
           0,
           0,
           0,
           0,
           0,
           0,
           0,
           0,
           0,
           0,
           0,
           0,
           0,
           0,
           0,
           0,
           0,
           0,
           0,
           0,
           0,
           0,
           0,
           0,
           0,
           0,
           0,
           0,
           0,
           0,
           0,
           0,
           0,
           0,
           0,
           0,
           0,
           0,
           0,
           0,
           0,
           0,
           0,
           0,
           0,
           0,
           0,
           0,
           0,
           0,
           0,
           0,
           0,
           0,
           0,
           0,
           0,
           0,
           0,
           0,
           0,
           0,
           0,
           0,
           0,
           0,
           0,
           0,
           0,
           0,
           0,
           0,
           0,
           0
          ],
          "coloraxis": "coloraxis",
          "size": 10,
          "symbol": "circle"
         },
         "mode": "markers",
         "name": "",
         "orientation": "v",
         "showlegend": false,
         "type": "scatter",
         "x": [
          -0.2473954782167339,
          -0.1875899901853589,
          -0.28277337254515295,
          -0.17327036629052264,
          -0.27154229498057547,
          -0.28136948784958077,
          -0.17355114322963708,
          -0.1033569084510279,
          0.26389932791065523,
          -0.21117525307097157,
          -0.22268710757466348,
          0.14176135939587528,
          1.8143495857005745,
          -0.13873480277944691,
          -0.2895120190838994,
          -0.15052743422225326,
          -0.28586191887541174,
          -0.1769204664990103,
          0.38182564233871863,
          -0.293723673170616,
          -0.22268710757466348,
          -0.28586191887541174,
          0.3119121844992239,
          -0.2142637994012304,
          -0.2695768564067744,
          -0.18422066691598565,
          0.25744145831102316,
          0.3040504302040197,
          0.6749567667741905,
          -0.0688213449399522,
          -0.09212583088645045,
          3.676743022846633,
          0.16731206085528902,
          -0.04102442796762297,
          -0.1777627973163536,
          -0.06095959064474797,
          -0.12581906358018283,
          -0.2106136991927427,
          -0.04495530511522509,
          0.019623390881095347,
          1.4327737254440551,
          -0.29147745765770045,
          -0.1499658803440244,
          -0.291196680718586,
          -0.28445803417983956,
          -0.2878273574492128,
          -0.2774386107019786,
          -0.19629407529790643,
          -0.27996560315400854,
          -0.26620753313740114,
          -0.2864234727536406,
          -0.26620753313740114,
          -0.18927465182004552,
          -0.22774109247872334,
          -0.18478222079421452,
          -0.17832435119458248,
          -0.19095931345473213,
          -0.2948467809270737,
          -0.2926005654141582,
          -0.2886696882665561,
          -0.2889504652056705,
          -0.2926005654141582,
          -0.26003044047688356,
          -0.2984968811355614,
          -0.2642420945636001,
          -0.29428522704884486,
          -0.2945660039879593,
          -0.2838964803016107,
          -0.29737377337910365,
          -0.29653144256176034,
          -0.29344289623150155,
          -0.2771578337628642,
          -0.29147745765770045,
          -0.2830541494842674,
          -0.29316211929238706,
          -0.2889504652056705,
          -0.03260111979418987,
          -0.2926005654141582,
          0.12014153508406367,
          -0.27069996416323217,
          -0.28754658051009835,
          -0.2176331226706036,
          -0.2920390115359293,
          -0.2920390115359293,
          -0.28979279602301383,
          -0.2948467809270737,
          0.11031434221505838,
          -0.1814128975248413,
          -0.12357284806726734,
          0.6763606514697627,
          -0.19348630590676208,
          0.002215220656000273,
          -0.2659267561982867,
          -0.09268738476467932,
          -0.1056031239639434,
          -0.23307585432189765,
          -0.14575422625730786,
          -0.22858342329606665,
          -0.1830975591595279,
          1.3544369594311272,
          -0.2473954782167339,
          0.17545459208960767,
          -0.2841772572407251,
          -0.2266179847222656,
          -0.23447973901746982,
          -0.23082963880898213,
          -0.2572226710857392,
          -0.24234149331267404,
          -0.2496416937296494,
          -0.220440892061748,
          -0.2962506656226459,
          -0.2735077335543765,
          -0.2594688865986547,
          -0.25581878639016703,
          -0.25694189414662477,
          -0.26311898680714235,
          -0.26929607946766,
          -0.24683392433850504,
          -0.1016722468163413,
          -0.2895120190838994,
          -0.27378851049349096,
          1.0728176894993473,
          0.11480677324088936,
          -0.25694189414662477,
          0.06904013216523619,
          -0.14800044177022334,
          -0.2945660039879593,
          -0.26817297171120225,
          -0.2723846257979188,
          -0.22296788451377791,
          -0.2381298392259575,
          -0.215948461035917,
          -0.291196680718586,
          -0.2628382098680279,
          -0.21342146858388708,
          -0.27041918722411773,
          -0.1951709675414487,
          -0.29428522704884486,
          0.38435263479074855,
          -0.2709807411023466,
          0.0637053703220619,
          -0.2473954782167339,
          -0.28108871091046633,
          -0.27519239518906313,
          -0.2695768564067744,
          -0.2212832228790913,
          -0.2833349264233818,
          -0.2732269566152621,
          -0.28108871091046633,
          -0.28501958805806843,
          -0.2822118186669241,
          0.0752172248257538,
          -0.2979353272573325,
          -0.2954083348053026,
          -0.15473908830896982,
          -0.2765962798846353,
          -0.1392963566576758,
          -0.291196680718586,
          -0.29428522704884486,
          -0.2886696882665561,
          -0.28670424969275504,
          -0.23784906228684308,
          -0.28501958805806843,
          0.13165338958775558,
          0.1886511082279862,
          -0.21791389960971808,
          -0.21117525307097157,
          -0.2518879092425649,
          0.2950655681523577,
          -0.08819495373884832,
          -0.1002683621207691,
          -0.19741718305436418,
          -0.08482563046947508,
          -0.20808670674071278,
          0.375648549678201,
          -0.1645662811779751,
          -0.22914497717429552,
          -0.2926005654141582,
          0.03113524538478725,
          -0.2676114178329734,
          -0.2833349264233818,
          -0.009858187725920503,
          -0.284738811118954,
          -0.15108898810048213,
          -0.15754685770011417,
          -0.2841772572407251,
          -0.16709327363000503,
          -0.27996560315400854,
          -0.12946916378867052,
          -0.07612154535692756,
          -0.17635891262078143,
          -0.2816502647886952,
          -0.2732269566152621,
          -0.27687705682374975,
          -0.06854056800083776,
          -0.2434646010691318,
          0.2922577987612133,
          2.82346190487786,
          2.478106269767103,
          14.053135584759755,
          2.804930626896307,
          0.537656843547231,
          2.7069394751453686,
          1.2081521741525056,
          5.084558595566419,
          0.9327099968812433,
          -0.1996633985672797,
          2.0260553977928595,
          0.608412632204069,
          0.564049875823988,
          0.5039636108534986,
          0.11312211160620275,
          1.8817360510880392,
          0.0415239921320214,
          1.0697291431690885,
          -0.23841061616507195,
          -0.17804357425546805,
          0.5977431085177204,
          -0.14350801074439234,
          -0.13564625644918812,
          -0.27294617967614765,
          -0.2676114178329734,
          -0.29063512684035714,
          -0.29821610419644695,
          0.004461436168915766,
          -0.27126151804146104,
          -0.28277337254515295,
          -0.22352943839200679,
          -0.27463084131083426,
          -0.28838891132744165,
          -0.2788424953975508,
          -0.22914497717429552,
          -0.27940404927577966,
          -0.28979279602301383,
          -0.2968122195008748,
          -0.29568911174441703,
          -0.2881081343883272,
          -0.29428522704884486,
          -0.293723673170616,
          -0.2434646010691318,
          -0.29007357296212827,
          -0.29905843501379026,
          -0.28838891132744165,
          -0.2948467809270737,
          -0.28979279602301383,
          -0.25918810965954026,
          -0.20162883714108074,
          -0.2824925956060385,
          -0.27771938764109305,
          -0.291196680718586,
          -0.2909159037794716,
          -0.2664883100765156,
          0.07100557073903725,
          -0.215948461035917,
          -0.29316211929238706,
          -0.2954083348053026,
          -0.28530036499718286,
          -0.2917582345968149,
          -0.28501958805806843,
          -0.23532206983481313,
          -0.2869850266318695,
          -0.28277337254515295,
          0.9287791197336412,
          -0.28530036499718286,
          -0.1553006421871987,
          -0.22802186941783778,
          0.5264257659826534,
          0.08672907932944571,
          0.5278296506782257,
          1.0907874136026712,
          -0.24599159352116173,
          0.0016536667777713998,
          0.7676131566819546,
          -0.21791389960971808,
          0.23666396481655488,
          0.19202043149735945,
          -0.151650541978711,
          -0.08117553026098741,
          -0.2586265557813114,
          -0.2926005654141582,
          -0.29990076583113356,
          -0.25581878639016703,
          -0.28923124214478496,
          -0.293723673170616,
          -0.28586191887541174,
          -0.27041918722411773,
          -0.2909159037794716,
          -0.14041946441413355,
          -0.2945660039879593,
          -0.2701384102850033,
          -0.293723673170616,
          -0.2968122195008748,
          -0.2889504652056705,
          -0.29344289623150155,
          -0.2782809415193219,
          -0.2872658035709839,
          -0.2881081343883272,
          -0.22240633063554904,
          -0.2412183855562163,
          0.23806784951212706,
          -0.251326355364336,
          -0.26564597925917227,
          -0.29147745765770045,
          -0.2780001645802075,
          -0.1875899901853589,
          -0.27996560315400854,
          -0.2816502647886952,
          -0.2628382098680279
         ],
         "xaxis": "x",
         "y": [
          0,
          0,
          0,
          0,
          0,
          0,
          0,
          0,
          0,
          0,
          0,
          0,
          0,
          0,
          0,
          0,
          0,
          0,
          0,
          0,
          0,
          0,
          0,
          0,
          0,
          0,
          0,
          0,
          0,
          0,
          0,
          0,
          0,
          0,
          0,
          0,
          0,
          0,
          0,
          0,
          0,
          0,
          0,
          0,
          0,
          0,
          0,
          0,
          0,
          0,
          0,
          0,
          0,
          0,
          0,
          0,
          0,
          0,
          0,
          0,
          0,
          0,
          0,
          0,
          0,
          0,
          0,
          0,
          0,
          0,
          0,
          0,
          0,
          0,
          0,
          0,
          0,
          0,
          0,
          0,
          0,
          0,
          0,
          0,
          0,
          0,
          0,
          0,
          0,
          0,
          0,
          0,
          0,
          0,
          0,
          0,
          0,
          0,
          0,
          0,
          0,
          0,
          0,
          0,
          0,
          0,
          0,
          0,
          0,
          0,
          0,
          0,
          0,
          0,
          0,
          0,
          0,
          0,
          0,
          0,
          0,
          0,
          0,
          0,
          0,
          0,
          0,
          0,
          0,
          0,
          0,
          0,
          0,
          0,
          0,
          0,
          0,
          0,
          0,
          0,
          0,
          0,
          0,
          0,
          0,
          0,
          0,
          0,
          0,
          0,
          0,
          0,
          0,
          0,
          0,
          0,
          0,
          0,
          0,
          0,
          0,
          0,
          0,
          0,
          0,
          0,
          0,
          0,
          0,
          0,
          0,
          0,
          0,
          0,
          0,
          0,
          0,
          0,
          0,
          0,
          0,
          0,
          0,
          0,
          0,
          0,
          0,
          0,
          0,
          0,
          0,
          0,
          0,
          0,
          0,
          0,
          0,
          0,
          0,
          0,
          0,
          0,
          0,
          0,
          0,
          0,
          0,
          0,
          0,
          0,
          0,
          0,
          0,
          0,
          0,
          0,
          0,
          0,
          0,
          0,
          0,
          0,
          0,
          0,
          0,
          0,
          0,
          0,
          0,
          0,
          0,
          0,
          0,
          0,
          0,
          0,
          0,
          0,
          0,
          0,
          0,
          0,
          0,
          0,
          0,
          0,
          0,
          0,
          0,
          0,
          0,
          0,
          0,
          0,
          0,
          0,
          0,
          0,
          0,
          0,
          0,
          0,
          0,
          0,
          0,
          0,
          0,
          0,
          0,
          0,
          0,
          0,
          0,
          0,
          0,
          0,
          0,
          0,
          0,
          0,
          0,
          0,
          0,
          0,
          0,
          0,
          0,
          0,
          0,
          0,
          0,
          0,
          0,
          0,
          0,
          0,
          0,
          0,
          0,
          0,
          0,
          0,
          0,
          0,
          0,
          0,
          0,
          0
         ],
         "yaxis": "y"
        }
       ],
       "layout": {
        "coloraxis": {
         "colorbar": {
          "title": {
           "text": "num_pedidos_residencia"
          }
         },
         "colorscale": [
          [
           0,
           "#440154"
          ],
          [
           0.1111111111111111,
           "#482878"
          ],
          [
           0.2222222222222222,
           "#3e4989"
          ],
          [
           0.3333333333333333,
           "#31688e"
          ],
          [
           0.4444444444444444,
           "#26828e"
          ],
          [
           0.5555555555555556,
           "#1f9e89"
          ],
          [
           0.6666666666666666,
           "#35b779"
          ],
          [
           0.7777777777777778,
           "#6ece58"
          ],
          [
           0.8888888888888888,
           "#b5de2b"
          ],
          [
           1,
           "#fde725"
          ]
         ]
        },
        "height": 300,
        "legend": {
         "tracegroupgap": 0
        },
        "margin": {
         "t": 60
        },
        "template": {
         "data": {
          "bar": [
           {
            "error_x": {
             "color": "#2a3f5f"
            },
            "error_y": {
             "color": "#2a3f5f"
            },
            "marker": {
             "line": {
              "color": "#E5ECF6",
              "width": 0.5
             },
             "pattern": {
              "fillmode": "overlay",
              "size": 10,
              "solidity": 0.2
             }
            },
            "type": "bar"
           }
          ],
          "barpolar": [
           {
            "marker": {
             "line": {
              "color": "#E5ECF6",
              "width": 0.5
             },
             "pattern": {
              "fillmode": "overlay",
              "size": 10,
              "solidity": 0.2
             }
            },
            "type": "barpolar"
           }
          ],
          "carpet": [
           {
            "aaxis": {
             "endlinecolor": "#2a3f5f",
             "gridcolor": "white",
             "linecolor": "white",
             "minorgridcolor": "white",
             "startlinecolor": "#2a3f5f"
            },
            "baxis": {
             "endlinecolor": "#2a3f5f",
             "gridcolor": "white",
             "linecolor": "white",
             "minorgridcolor": "white",
             "startlinecolor": "#2a3f5f"
            },
            "type": "carpet"
           }
          ],
          "choropleth": [
           {
            "colorbar": {
             "outlinewidth": 0,
             "ticks": ""
            },
            "type": "choropleth"
           }
          ],
          "contour": [
           {
            "colorbar": {
             "outlinewidth": 0,
             "ticks": ""
            },
            "colorscale": [
             [
              0,
              "#0d0887"
             ],
             [
              0.1111111111111111,
              "#46039f"
             ],
             [
              0.2222222222222222,
              "#7201a8"
             ],
             [
              0.3333333333333333,
              "#9c179e"
             ],
             [
              0.4444444444444444,
              "#bd3786"
             ],
             [
              0.5555555555555556,
              "#d8576b"
             ],
             [
              0.6666666666666666,
              "#ed7953"
             ],
             [
              0.7777777777777778,
              "#fb9f3a"
             ],
             [
              0.8888888888888888,
              "#fdca26"
             ],
             [
              1,
              "#f0f921"
             ]
            ],
            "type": "contour"
           }
          ],
          "contourcarpet": [
           {
            "colorbar": {
             "outlinewidth": 0,
             "ticks": ""
            },
            "type": "contourcarpet"
           }
          ],
          "heatmap": [
           {
            "colorbar": {
             "outlinewidth": 0,
             "ticks": ""
            },
            "colorscale": [
             [
              0,
              "#0d0887"
             ],
             [
              0.1111111111111111,
              "#46039f"
             ],
             [
              0.2222222222222222,
              "#7201a8"
             ],
             [
              0.3333333333333333,
              "#9c179e"
             ],
             [
              0.4444444444444444,
              "#bd3786"
             ],
             [
              0.5555555555555556,
              "#d8576b"
             ],
             [
              0.6666666666666666,
              "#ed7953"
             ],
             [
              0.7777777777777778,
              "#fb9f3a"
             ],
             [
              0.8888888888888888,
              "#fdca26"
             ],
             [
              1,
              "#f0f921"
             ]
            ],
            "type": "heatmap"
           }
          ],
          "heatmapgl": [
           {
            "colorbar": {
             "outlinewidth": 0,
             "ticks": ""
            },
            "colorscale": [
             [
              0,
              "#0d0887"
             ],
             [
              0.1111111111111111,
              "#46039f"
             ],
             [
              0.2222222222222222,
              "#7201a8"
             ],
             [
              0.3333333333333333,
              "#9c179e"
             ],
             [
              0.4444444444444444,
              "#bd3786"
             ],
             [
              0.5555555555555556,
              "#d8576b"
             ],
             [
              0.6666666666666666,
              "#ed7953"
             ],
             [
              0.7777777777777778,
              "#fb9f3a"
             ],
             [
              0.8888888888888888,
              "#fdca26"
             ],
             [
              1,
              "#f0f921"
             ]
            ],
            "type": "heatmapgl"
           }
          ],
          "histogram": [
           {
            "marker": {
             "pattern": {
              "fillmode": "overlay",
              "size": 10,
              "solidity": 0.2
             }
            },
            "type": "histogram"
           }
          ],
          "histogram2d": [
           {
            "colorbar": {
             "outlinewidth": 0,
             "ticks": ""
            },
            "colorscale": [
             [
              0,
              "#0d0887"
             ],
             [
              0.1111111111111111,
              "#46039f"
             ],
             [
              0.2222222222222222,
              "#7201a8"
             ],
             [
              0.3333333333333333,
              "#9c179e"
             ],
             [
              0.4444444444444444,
              "#bd3786"
             ],
             [
              0.5555555555555556,
              "#d8576b"
             ],
             [
              0.6666666666666666,
              "#ed7953"
             ],
             [
              0.7777777777777778,
              "#fb9f3a"
             ],
             [
              0.8888888888888888,
              "#fdca26"
             ],
             [
              1,
              "#f0f921"
             ]
            ],
            "type": "histogram2d"
           }
          ],
          "histogram2dcontour": [
           {
            "colorbar": {
             "outlinewidth": 0,
             "ticks": ""
            },
            "colorscale": [
             [
              0,
              "#0d0887"
             ],
             [
              0.1111111111111111,
              "#46039f"
             ],
             [
              0.2222222222222222,
              "#7201a8"
             ],
             [
              0.3333333333333333,
              "#9c179e"
             ],
             [
              0.4444444444444444,
              "#bd3786"
             ],
             [
              0.5555555555555556,
              "#d8576b"
             ],
             [
              0.6666666666666666,
              "#ed7953"
             ],
             [
              0.7777777777777778,
              "#fb9f3a"
             ],
             [
              0.8888888888888888,
              "#fdca26"
             ],
             [
              1,
              "#f0f921"
             ]
            ],
            "type": "histogram2dcontour"
           }
          ],
          "mesh3d": [
           {
            "colorbar": {
             "outlinewidth": 0,
             "ticks": ""
            },
            "type": "mesh3d"
           }
          ],
          "parcoords": [
           {
            "line": {
             "colorbar": {
              "outlinewidth": 0,
              "ticks": ""
             }
            },
            "type": "parcoords"
           }
          ],
          "pie": [
           {
            "automargin": true,
            "type": "pie"
           }
          ],
          "scatter": [
           {
            "fillpattern": {
             "fillmode": "overlay",
             "size": 10,
             "solidity": 0.2
            },
            "type": "scatter"
           }
          ],
          "scatter3d": [
           {
            "line": {
             "colorbar": {
              "outlinewidth": 0,
              "ticks": ""
             }
            },
            "marker": {
             "colorbar": {
              "outlinewidth": 0,
              "ticks": ""
             }
            },
            "type": "scatter3d"
           }
          ],
          "scattercarpet": [
           {
            "marker": {
             "colorbar": {
              "outlinewidth": 0,
              "ticks": ""
             }
            },
            "type": "scattercarpet"
           }
          ],
          "scattergeo": [
           {
            "marker": {
             "colorbar": {
              "outlinewidth": 0,
              "ticks": ""
             }
            },
            "type": "scattergeo"
           }
          ],
          "scattergl": [
           {
            "marker": {
             "colorbar": {
              "outlinewidth": 0,
              "ticks": ""
             }
            },
            "type": "scattergl"
           }
          ],
          "scattermapbox": [
           {
            "marker": {
             "colorbar": {
              "outlinewidth": 0,
              "ticks": ""
             }
            },
            "type": "scattermapbox"
           }
          ],
          "scatterpolar": [
           {
            "marker": {
             "colorbar": {
              "outlinewidth": 0,
              "ticks": ""
             }
            },
            "type": "scatterpolar"
           }
          ],
          "scatterpolargl": [
           {
            "marker": {
             "colorbar": {
              "outlinewidth": 0,
              "ticks": ""
             }
            },
            "type": "scatterpolargl"
           }
          ],
          "scatterternary": [
           {
            "marker": {
             "colorbar": {
              "outlinewidth": 0,
              "ticks": ""
             }
            },
            "type": "scatterternary"
           }
          ],
          "surface": [
           {
            "colorbar": {
             "outlinewidth": 0,
             "ticks": ""
            },
            "colorscale": [
             [
              0,
              "#0d0887"
             ],
             [
              0.1111111111111111,
              "#46039f"
             ],
             [
              0.2222222222222222,
              "#7201a8"
             ],
             [
              0.3333333333333333,
              "#9c179e"
             ],
             [
              0.4444444444444444,
              "#bd3786"
             ],
             [
              0.5555555555555556,
              "#d8576b"
             ],
             [
              0.6666666666666666,
              "#ed7953"
             ],
             [
              0.7777777777777778,
              "#fb9f3a"
             ],
             [
              0.8888888888888888,
              "#fdca26"
             ],
             [
              1,
              "#f0f921"
             ]
            ],
            "type": "surface"
           }
          ],
          "table": [
           {
            "cells": {
             "fill": {
              "color": "#EBF0F8"
             },
             "line": {
              "color": "white"
             }
            },
            "header": {
             "fill": {
              "color": "#C8D4E3"
             },
             "line": {
              "color": "white"
             }
            },
            "type": "table"
           }
          ]
         },
         "layout": {
          "annotationdefaults": {
           "arrowcolor": "#2a3f5f",
           "arrowhead": 0,
           "arrowwidth": 1
          },
          "autotypenumbers": "strict",
          "coloraxis": {
           "colorbar": {
            "outlinewidth": 0,
            "ticks": ""
           }
          },
          "colorscale": {
           "diverging": [
            [
             0,
             "#8e0152"
            ],
            [
             0.1,
             "#c51b7d"
            ],
            [
             0.2,
             "#de77ae"
            ],
            [
             0.3,
             "#f1b6da"
            ],
            [
             0.4,
             "#fde0ef"
            ],
            [
             0.5,
             "#f7f7f7"
            ],
            [
             0.6,
             "#e6f5d0"
            ],
            [
             0.7,
             "#b8e186"
            ],
            [
             0.8,
             "#7fbc41"
            ],
            [
             0.9,
             "#4d9221"
            ],
            [
             1,
             "#276419"
            ]
           ],
           "sequential": [
            [
             0,
             "#0d0887"
            ],
            [
             0.1111111111111111,
             "#46039f"
            ],
            [
             0.2222222222222222,
             "#7201a8"
            ],
            [
             0.3333333333333333,
             "#9c179e"
            ],
            [
             0.4444444444444444,
             "#bd3786"
            ],
            [
             0.5555555555555556,
             "#d8576b"
            ],
            [
             0.6666666666666666,
             "#ed7953"
            ],
            [
             0.7777777777777778,
             "#fb9f3a"
            ],
            [
             0.8888888888888888,
             "#fdca26"
            ],
            [
             1,
             "#f0f921"
            ]
           ],
           "sequentialminus": [
            [
             0,
             "#0d0887"
            ],
            [
             0.1111111111111111,
             "#46039f"
            ],
            [
             0.2222222222222222,
             "#7201a8"
            ],
            [
             0.3333333333333333,
             "#9c179e"
            ],
            [
             0.4444444444444444,
             "#bd3786"
            ],
            [
             0.5555555555555556,
             "#d8576b"
            ],
            [
             0.6666666666666666,
             "#ed7953"
            ],
            [
             0.7777777777777778,
             "#fb9f3a"
            ],
            [
             0.8888888888888888,
             "#fdca26"
            ],
            [
             1,
             "#f0f921"
            ]
           ]
          },
          "colorway": [
           "#636efa",
           "#EF553B",
           "#00cc96",
           "#ab63fa",
           "#FFA15A",
           "#19d3f3",
           "#FF6692",
           "#B6E880",
           "#FF97FF",
           "#FECB52"
          ],
          "font": {
           "color": "#2a3f5f"
          },
          "geo": {
           "bgcolor": "white",
           "lakecolor": "white",
           "landcolor": "#E5ECF6",
           "showlakes": true,
           "showland": true,
           "subunitcolor": "white"
          },
          "hoverlabel": {
           "align": "left"
          },
          "hovermode": "closest",
          "mapbox": {
           "style": "light"
          },
          "paper_bgcolor": "white",
          "plot_bgcolor": "#E5ECF6",
          "polar": {
           "angularaxis": {
            "gridcolor": "white",
            "linecolor": "white",
            "ticks": ""
           },
           "bgcolor": "#E5ECF6",
           "radialaxis": {
            "gridcolor": "white",
            "linecolor": "white",
            "ticks": ""
           }
          },
          "scene": {
           "xaxis": {
            "backgroundcolor": "#E5ECF6",
            "gridcolor": "white",
            "gridwidth": 2,
            "linecolor": "white",
            "showbackground": true,
            "ticks": "",
            "zerolinecolor": "white"
           },
           "yaxis": {
            "backgroundcolor": "#E5ECF6",
            "gridcolor": "white",
            "gridwidth": 2,
            "linecolor": "white",
            "showbackground": true,
            "ticks": "",
            "zerolinecolor": "white"
           },
           "zaxis": {
            "backgroundcolor": "#E5ECF6",
            "gridcolor": "white",
            "gridwidth": 2,
            "linecolor": "white",
            "showbackground": true,
            "ticks": "",
            "zerolinecolor": "white"
           }
          },
          "shapedefaults": {
           "line": {
            "color": "#2a3f5f"
           }
          },
          "ternary": {
           "aaxis": {
            "gridcolor": "white",
            "linecolor": "white",
            "ticks": ""
           },
           "baxis": {
            "gridcolor": "white",
            "linecolor": "white",
            "ticks": ""
           },
           "bgcolor": "#E5ECF6",
           "caxis": {
            "gridcolor": "white",
            "linecolor": "white",
            "ticks": ""
           }
          },
          "title": {
           "x": 0.05
          },
          "xaxis": {
           "automargin": true,
           "gridcolor": "white",
           "linecolor": "white",
           "ticks": "",
           "title": {
            "standoff": 15
           },
           "zerolinecolor": "white",
           "zerolinewidth": 2
          },
          "yaxis": {
           "automargin": true,
           "gridcolor": "white",
           "linecolor": "white",
           "ticks": "",
           "title": {
            "standoff": 15
           },
           "zerolinecolor": "white",
           "zerolinewidth": 2
          }
         }
        },
        "xaxis": {
         "anchor": "y",
         "domain": [
          0,
          1
         ],
         "title": {
          "text": "Total"
         }
        },
        "yaxis": {
         "anchor": "x",
         "domain": [
          0,
          1
         ],
         "showgrid": false,
         "showticklabels": false,
         "title": {
          "text": "y"
         }
        }
       }
      }
     },
     "metadata": {},
     "output_type": "display_data"
    },
    {
     "name": "stdout",
     "output_type": "stream",
     "text": [
      "num_pedidos_residencia\n",
      "0    295\n",
      "1     12\n",
      "2      1\n",
      "Name: count, dtype: int64\n",
      "File saved to csv_files/5_Num_pedidos_residencia.csv\n"
     ]
    }
   ],
   "source": [
    "clustered_df = aplicar_kmeans(df_pedido_residencia, 3, nome_cluster='num_pedidos_residencia')\n",
    "save_clustered_df_to_csv(clustered_df, \"csv_files/\", \"5_Num_pedidos_residencia.csv\")"
   ]
  },
  {
   "cell_type": "markdown",
   "id": "ffd770f6",
   "metadata": {},
   "source": [
    "### Análise Saldo Migratório"
   ]
  },
  {
   "cell_type": "code",
   "execution_count": 20,
   "id": "294cac42",
   "metadata": {},
   "outputs": [
    {
     "data": {
      "text/html": [
       "<div>\n",
       "<style scoped>\n",
       "    .dataframe tbody tr th:only-of-type {\n",
       "        vertical-align: middle;\n",
       "    }\n",
       "\n",
       "    .dataframe tbody tr th {\n",
       "        vertical-align: top;\n",
       "    }\n",
       "\n",
       "    .dataframe thead th {\n",
       "        text-align: right;\n",
       "    }\n",
       "</style>\n",
       "<table border=\"1\" class=\"dataframe\">\n",
       "  <thead>\n",
       "    <tr style=\"text-align: right;\">\n",
       "      <th></th>\n",
       "      <th>local</th>\n",
       "      <th>codigo</th>\n",
       "      <th>Saldo migratório</th>\n",
       "    </tr>\n",
       "  </thead>\n",
       "  <tbody>\n",
       "    <tr>\n",
       "      <th>4</th>\n",
       "      <td>Arcos de Valdevez</td>\n",
       "      <td>1111601</td>\n",
       "      <td>403.0</td>\n",
       "    </tr>\n",
       "    <tr>\n",
       "      <th>5</th>\n",
       "      <td>Caminha</td>\n",
       "      <td>1111602</td>\n",
       "      <td>332.0</td>\n",
       "    </tr>\n",
       "    <tr>\n",
       "      <th>6</th>\n",
       "      <td>Melgaço</td>\n",
       "      <td>1111603</td>\n",
       "      <td>134.0</td>\n",
       "    </tr>\n",
       "    <tr>\n",
       "      <th>7</th>\n",
       "      <td>Monção</td>\n",
       "      <td>1111604</td>\n",
       "      <td>310.0</td>\n",
       "    </tr>\n",
       "    <tr>\n",
       "      <th>8</th>\n",
       "      <td>Paredes de Coura</td>\n",
       "      <td>1111605</td>\n",
       "      <td>115.0</td>\n",
       "    </tr>\n",
       "    <tr>\n",
       "      <th>...</th>\n",
       "      <td>...</td>\n",
       "      <td>...</td>\n",
       "      <td>...</td>\n",
       "    </tr>\n",
       "    <tr>\n",
       "      <th>342</th>\n",
       "      <td>Ribeira Brava</td>\n",
       "      <td>3003107</td>\n",
       "      <td>292.0</td>\n",
       "    </tr>\n",
       "    <tr>\n",
       "      <th>343</th>\n",
       "      <td>Santa Cruz</td>\n",
       "      <td>3003108</td>\n",
       "      <td>685.0</td>\n",
       "    </tr>\n",
       "    <tr>\n",
       "      <th>344</th>\n",
       "      <td>Santana</td>\n",
       "      <td>3003109</td>\n",
       "      <td>82.0</td>\n",
       "    </tr>\n",
       "    <tr>\n",
       "      <th>345</th>\n",
       "      <td>São Vicente</td>\n",
       "      <td>3003110</td>\n",
       "      <td>152.0</td>\n",
       "    </tr>\n",
       "    <tr>\n",
       "      <th>346</th>\n",
       "      <td>Porto Santo</td>\n",
       "      <td>3003201</td>\n",
       "      <td>221.0</td>\n",
       "    </tr>\n",
       "  </tbody>\n",
       "</table>\n",
       "<p>308 rows × 3 columns</p>\n",
       "</div>"
      ],
      "text/plain": [
       "                 local   codigo  Saldo migratório\n",
       "4    Arcos de Valdevez  1111601             403.0\n",
       "5              Caminha  1111602             332.0\n",
       "6              Melgaço  1111603             134.0\n",
       "7               Monção  1111604             310.0\n",
       "8     Paredes de Coura  1111605             115.0\n",
       "..                 ...      ...               ...\n",
       "342      Ribeira Brava  3003107             292.0\n",
       "343         Santa Cruz  3003108             685.0\n",
       "344            Santana  3003109              82.0\n",
       "345        São Vicente  3003110             152.0\n",
       "346        Porto Santo  3003201             221.0\n",
       "\n",
       "[308 rows x 3 columns]"
      ]
     },
     "execution_count": 20,
     "metadata": {},
     "output_type": "execute_result"
    }
   ],
   "source": [
    "df_saldo_migratorio = processar_ficheiro(data_path+'Saldo migratório.xls', 0)\n",
    "df_saldo_migratorio = carregar_municipios(df_saldo_migratorio)\n",
    "#save_clustered_df_to_csv(df_saldo_migratorio, \"csv_bruto/\", \"5_Saldo_Migratorio.csv\")\n",
    "df_saldo_migratorio"
   ]
  },
  {
   "cell_type": "code",
   "execution_count": 21,
   "id": "48263526",
   "metadata": {},
   "outputs": [
    {
     "data": {
      "application/vnd.plotly.v1+json": {
       "config": {
        "plotlyServerURL": "https://plot.ly"
       },
       "data": [
        {
         "customdata": [
          [
           "Arcos de Valdevez",
           "1111601",
           403
          ],
          [
           "Caminha",
           "1111602",
           332
          ],
          [
           "Melgaço",
           "1111603",
           134
          ],
          [
           "Monção",
           "1111604",
           310
          ],
          [
           "Paredes de Coura",
           "1111605",
           115
          ],
          [
           "Ponte da Barca",
           "1111606",
           161
          ],
          [
           "Ponte de Lima",
           "1111607",
           276
          ],
          [
           "Valença",
           "1111608",
           295
          ],
          [
           "Viana do Castelo",
           "1111609",
           822
          ],
          [
           "Vila Nova de Cerveira",
           "1111610",
           194
          ],
          [
           "Amares",
           "1120301",
           388
          ],
          [
           "Barcelos",
           "1120302",
           446
          ],
          [
           "Braga",
           "1120303",
           3098
          ],
          [
           "Esposende",
           "1120306",
           677
          ],
          [
           "Terras de Bouro",
           "1120310",
           84
          ],
          [
           "Vila Verde",
           "1120313",
           741
          ],
          [
           "Cabeceiras de Basto",
           "1190304",
           149
          ],
          [
           "Fafe",
           "1190307",
           285
          ],
          [
           "Guimarães",
           "1190308",
           509
          ],
          [
           "Mondim de Basto",
           "1191705",
           55
          ],
          [
           "Póvoa de Lanhoso",
           "1190309",
           418
          ],
          [
           "Vieira do Minho",
           "1190311",
           168
          ],
          [
           "Vila Nova de Famalicão",
           "1190312",
           1088
          ],
          [
           "Vizela",
           "1190314",
           186
          ],
          [
           "Arouca",
           "11A0104",
           37
          ],
          [
           "Espinho",
           "11A0107",
           689
          ],
          [
           "Gondomar",
           "11A1304",
           1668
          ],
          [
           "Maia",
           "11A1306",
           2463
          ],
          [
           "Matosinhos",
           "11A1308",
           2861
          ],
          [
           "Oliveira de Azeméis",
           "11A0113",
           629
          ],
          [
           "Paredes",
           "11A1310",
           586
          ],
          [
           "Porto",
           "11A1312",
           6748
          ],
          [
           "Póvoa de Varzim",
           "11A1313",
           1439
          ],
          [
           "Santa Maria da Feira",
           "11A0109",
           1498
          ],
          [
           "Santo Tirso",
           "11A1314",
           437
          ],
          [
           "São João da Madeira",
           "11A0116",
           563
          ],
          [
           "Trofa",
           "11A1318",
           457
          ],
          [
           "Vale de Cambra",
           "11A0119",
           137
          ],
          [
           "Valongo",
           "11A1315",
           1817
          ],
          [
           "Vila do Conde",
           "11A1316",
           1479
          ],
          [
           "Vila Nova de Gaia",
           "11A1317",
           3228
          ],
          [
           "Boticas",
           "11B1702",
           50
          ],
          [
           "Chaves",
           "11B1703",
           457
          ],
          [
           "Montalegre",
           "11B1706",
           155
          ],
          [
           "Ribeira de Pena",
           "11B1709",
           81
          ],
          [
           "Valpaços",
           "11B1712",
           248
          ],
          [
           "Vila Pouca de Aguiar",
           "11B1713",
           174
          ],
          [
           "Amarante",
           "11C1301",
           359
          ],
          [
           "Baião",
           "11C1302",
           61
          ],
          [
           "Castelo de Paiva",
           "11C0106",
           102
          ],
          [
           "Celorico de Basto",
           "11C0305",
           188
          ],
          [
           "Cinfães",
           "11C1804",
           46
          ],
          [
           "Felgueiras",
           "11C1303",
           0
          ],
          [
           "Lousada",
           "11C1305",
           396
          ],
          [
           "Marco de Canaveses",
           "11C1307",
           196
          ],
          [
           "Paços de Ferreira",
           "11C1309",
           106
          ],
          [
           "Penafiel",
           "11C1311",
           467
          ],
          [
           "Resende",
           "11C1813",
           -17
          ],
          [
           "Alijó",
           "11D1701",
           87
          ],
          [
           "Armamar",
           "11D1801",
           37
          ],
          [
           "Carrazeda de Ansiães",
           "11D0403",
           68
          ],
          [
           "Freixo de Espada à Cinta",
           "11D0404",
           18
          ],
          [
           "Lamego",
           "11D1805",
           145
          ],
          [
           "Mesão Frio",
           "11D1704",
           12
          ],
          [
           "Moimenta da Beira",
           "11D1807",
           184
          ],
          [
           "Murça",
           "11D1707",
           93
          ],
          [
           "Penedono",
           "11D1812",
           37
          ],
          [
           "Peso da Régua",
           "11D1708",
           62
          ],
          [
           "Sabrosa",
           "11D1710",
           80
          ],
          [
           "Santa Marta de Penaguião",
           "11D1711",
           59
          ],
          [
           "São João da Pesqueira",
           "11D1815",
           45
          ],
          [
           "Sernancelhe",
           "11D1818",
           128
          ],
          [
           "Tabuaço",
           "11D1819",
           48
          ],
          [
           "Tarouca",
           "11D1820",
           180
          ],
          [
           "Torre de Moncorvo",
           "11D0409",
           72
          ],
          [
           "Vila Nova de Foz Côa",
           "11D0914",
           123
          ],
          [
           "Vila Real",
           "11D1714",
           503
          ],
          [
           "Alfândega da Fé",
           "11E0401",
           32
          ],
          [
           "Bragança",
           "11E0402",
           618
          ],
          [
           "Macedo de Cavaleiros",
           "11E0405",
           234
          ],
          [
           "Miranda do Douro",
           "11E0406",
           28
          ],
          [
           "Mirandela",
           "11E0407",
           261
          ],
          [
           "Mogadouro",
           "11E0408",
           62
          ],
          [
           "Vila Flor",
           "11E0410",
           81
          ],
          [
           "Vimioso",
           "11E0411",
           94
          ],
          [
           "Vinhais",
           "11E0412",
           70
          ],
          [
           "Águeda",
           "1910101",
           785
          ],
          [
           "Albergaria-a-Velha",
           "1910102",
           521
          ],
          [
           "Anadia",
           "1910103",
           540
          ],
          [
           "Aveiro",
           "1910105",
           2394
          ],
          [
           "Estarreja",
           "1910108",
           550
          ],
          [
           "Ílhavo",
           "1910110",
           1294
          ],
          [
           "Murtosa",
           "1910112",
           358
          ],
          [
           "Oliveira do Bairro",
           "1910114",
           864
          ],
          [
           "Ovar",
           "1910115",
           934
          ],
          [
           "Sever do Vouga",
           "1910117",
           125
          ],
          [
           "Vagos",
           "1910118",
           803
          ],
          [
           "Arganil",
           "1920601",
           311
          ],
          [
           "Cantanhede",
           "1920602",
           741
          ],
          [
           "Coimbra",
           "1920603",
           2483
          ],
          [
           "Condeixa-a-Nova",
           "1920604",
           401
          ],
          [
           "Figueira da Foz",
           "1920605",
           1280
          ],
          [
           "Góis",
           "1920606",
           84
          ],
          [
           "Lousã",
           "1920607",
           260
          ],
          [
           "Mealhada",
           "1920111",
           287
          ],
          [
           "Mira",
           "1920608",
           327
          ],
          [
           "Miranda do Corvo",
           "1920609",
           218
          ],
          [
           "Montemor-o-Velho",
           "1920610",
           321
          ],
          [
           "Mortágua",
           "1921808",
           192
          ],
          [
           "Oliveira do Hospital",
           "1920611",
           267
          ],
          [
           "Pampilhosa da Serra",
           "1920612",
           129
          ],
          [
           "Penacova",
           "1920613",
           139
          ],
          [
           "Penela",
           "1920614",
           140
          ],
          [
           "Soure",
           "1920615",
           259
          ],
          [
           "Tábua",
           "1920616",
           268
          ],
          [
           "Vila Nova de Poiares",
           "1920617",
           128
          ],
          [
           "Alvaiázere",
           "1931002",
           157
          ],
          [
           "Ansião",
           "1931003",
           252
          ],
          [
           "Batalha",
           "1931004",
           399
          ],
          [
           "Castanheira de Pêra",
           "1931007",
           64
          ],
          [
           "Figueiró dos Vinhos",
           "1931008",
           120
          ],
          [
           "Leiria",
           "1931009",
           2501
          ],
          [
           "Marinha Grande",
           "1931010",
           956
          ],
          [
           "Pedrógão Grande",
           "1931013",
           143
          ],
          [
           "Pombal",
           "1931015",
           970
          ],
          [
           "Porto de Mós",
           "1931016",
           429
          ],
          [
           "Aguiar da Beira",
           "1940901",
           132
          ],
          [
           "Carregal do Sal",
           "1941802",
           181
          ],
          [
           "Castro Daire",
           "1941803",
           254
          ],
          [
           "Mangualde",
           "1941806",
           360
          ],
          [
           "Nelas",
           "1941809",
           274
          ],
          [
           "Oliveira de Frades",
           "1941810",
           189
          ],
          [
           "Penalva do Castelo",
           "1941811",
           150
          ],
          [
           "Santa Comba Dão",
           "1941814",
           220
          ],
          [
           "São Pedro do Sul",
           "1941816",
           300
          ],
          [
           "Sátão",
           "1941817",
           206
          ],
          [
           "Tondela",
           "1941821",
           413
          ],
          [
           "Vila Nova de Paiva",
           "1941822",
           121
          ],
          [
           "Viseu",
           "1941823",
           1882
          ],
          [
           "Vouzela",
           "1941824",
           186
          ],
          [
           "Castelo Branco",
           "1950502",
           872
          ],
          [
           "Idanha-a-Nova",
           "1950505",
           240
          ],
          [
           "Oleiros",
           "1950506",
           105
          ],
          [
           "Penamacor",
           "1950507",
           130
          ],
          [
           "Proença-a-Nova",
           "1950508",
           89
          ],
          [
           "Sertã",
           "1950509",
           197
          ],
          [
           "Vila de Rei",
           "1950510",
           98
          ],
          [
           "Vila Velha de Ródão",
           "1950511",
           107
          ],
          [
           "Almeida",
           "1960902",
           83
          ],
          [
           "Belmonte",
           "1960501",
           120
          ],
          [
           "Celorico da Beira",
           "1960903",
           132
          ],
          [
           "Covilhã",
           "1960503",
           635
          ],
          [
           "Figueira de Castelo Rodrigo",
           "1960904",
           53
          ],
          [
           "Fornos de Algodres",
           "1960905",
           74
          ],
          [
           "Fundão",
           "1960504",
           572
          ],
          [
           "Gouveia",
           "1960906",
           281
          ],
          [
           "Guarda",
           "1960907",
           390
          ],
          [
           "Manteigas",
           "1960908",
           43
          ],
          [
           "Mêda",
           "1960909",
           65
          ],
          [
           "Pinhel",
           "1960910",
           70
          ],
          [
           "Sabugal",
           "1960911",
           314
          ],
          [
           "Seia",
           "1960912",
           233
          ],
          [
           "Trancoso",
           "1960913",
           121
          ],
          [
           "Alcobaça",
           "1D11001",
           1242
          ],
          [
           "Alenquer",
           "1D11101",
           1489
          ],
          [
           "Arruda dos Vinhos",
           "1D11102",
           442
          ],
          [
           "Bombarral",
           "1D11005",
           517
          ],
          [
           "Cadaval",
           "1D11104",
           477
          ],
          [
           "Caldas da Rainha",
           "1D11006",
           1651
          ],
          [
           "Lourinhã",
           "1D11108",
           834
          ],
          [
           "Nazaré",
           "1D11011",
           379
          ],
          [
           "Óbidos",
           "1D11012",
           528
          ],
          [
           "Peniche",
           "1D11014",
           557
          ],
          [
           "Sobral de Monte Agraço",
           "1D11112",
           427
          ],
          [
           "Torres Vedras",
           "1D11113",
           2164
          ],
          [
           "Abrantes",
           "1D21401",
           359
          ],
          [
           "Alcanena",
           "1D21402",
           230
          ],
          [
           "Constância",
           "1D21408",
           101
          ],
          [
           "Entroncamento",
           "1D21410",
           667
          ],
          [
           "Ferreira do Zêzere",
           "1D21411",
           222
          ],
          [
           "Mação",
           "1D21413",
           128
          ],
          [
           "Ourém",
           "1D21421",
           1106
          ],
          [
           "Sardoal",
           "1D21417",
           97
          ],
          [
           "Tomar",
           "1D21418",
           797
          ],
          [
           "Torres Novas",
           "1D21419",
           633
          ],
          [
           "Vila Nova da Barquinha",
           "1D21420",
           319
          ],
          [
           "Almeirim",
           "1D31403",
           396
          ],
          [
           "Alpiarça",
           "1D31404",
           184
          ],
          [
           "Azambuja",
           "1D31103",
           648
          ],
          [
           "Benavente",
           "1D31405",
           757
          ],
          [
           "Cartaxo",
           "1D31406",
           503
          ],
          [
           "Chamusca",
           "1D31407",
           71
          ],
          [
           "Coruche",
           "1D31409",
           223
          ],
          [
           "Golegã",
           "1D31412",
           77
          ],
          [
           "Rio Maior",
           "1D31414",
           400
          ],
          [
           "Salvaterra de Magos",
           "1D31415",
           593
          ],
          [
           "Santarém",
           "1D31416",
           941
          ],
          [
           "Amadora",
           "1A01115",
           2849
          ],
          [
           "Cascais",
           "1A01105",
           2962
          ],
          [
           "Lisboa",
           "1A01106",
           10480
          ],
          [
           "Loures",
           "1A01107",
           2391
          ],
          [
           "Mafra",
           "1A01109",
           813
          ],
          [
           "Odivelas",
           "1A01116",
           2102
          ],
          [
           "Oeiras",
           "1A01110",
           2140
          ],
          [
           "Sintra",
           "1A01111",
           3779
          ],
          [
           "Vila Franca de Xira",
           "1A01114",
           863
          ],
          [
           "Alcochete",
           "1B01502",
           306
          ],
          [
           "Almada",
           "1B01503",
           2146
          ],
          [
           "Barreiro",
           "1B01504",
           1192
          ],
          [
           "Moita",
           "1B01506",
           1139
          ],
          [
           "Montijo",
           "1B01507",
           1133
          ],
          [
           "Palmela",
           "1B01508",
           1503
          ],
          [
           "Seixal",
           "1B01510",
           2760
          ],
          [
           "Sesimbra",
           "1B01511",
           983
          ],
          [
           "Setúbal",
           "1B01512",
           626
          ],
          [
           "Alcácer do Sal",
           "1C11501",
           109
          ],
          [
           "Grândola",
           "1C11505",
           264
          ],
          [
           "Odemira",
           "1C10211",
           1279
          ],
          [
           "Santiago do Cacém",
           "1C11509",
           332
          ],
          [
           "Sines",
           "1C11513",
           176
          ],
          [
           "Aljustrel",
           "1C20201",
           101
          ],
          [
           "Almodôvar",
           "1C20202",
           75
          ],
          [
           "Alvito",
           "1C20203",
           46
          ],
          [
           "Barrancos",
           "1C20204",
           -5
          ],
          [
           "Beja",
           "1C20205",
           384
          ],
          [
           "Castro Verde",
           "1C20206",
           96
          ],
          [
           "Cuba",
           "1C20207",
           90
          ],
          [
           "Ferreira do Alentejo",
           "1C20208",
           131
          ],
          [
           "Mértola",
           "1C20209",
           57
          ],
          [
           "Moura",
           "1C20210",
           75
          ],
          [
           "Ourique",
           "1C20212",
           79
          ],
          [
           "Serpa",
           "1C20213",
           154
          ],
          [
           "Vidigueira",
           "1C20214",
           83
          ],
          [
           "Alter do Chão",
           "1C31201",
           61
          ],
          [
           "Arronches",
           "1C31202",
           29
          ],
          [
           "Avis",
           "1C31203",
           63
          ],
          [
           "Campo Maior",
           "1C31204",
           22
          ],
          [
           "Castelo de Vide",
           "1C31205",
           30
          ],
          [
           "Crato",
           "1C31206",
           80
          ],
          [
           "Elvas",
           "1C31207",
           88
          ],
          [
           "Fronteira",
           "1C31208",
           76
          ],
          [
           "Gavião",
           "1C31209",
           49
          ],
          [
           "Marvão",
           "1C31210",
           30
          ],
          [
           "Monforte",
           "1C31211",
           52
          ],
          [
           "Nisa",
           "1C31212",
           67
          ],
          [
           "Ponte de Sor",
           "1C31213",
           137
          ],
          [
           "Portalegre",
           "1C31214",
           47
          ],
          [
           "Sousel",
           "1C31215",
           72
          ],
          [
           "Alandroal",
           "1C40701",
           52
          ],
          [
           "Arraiolos",
           "1C40702",
           129
          ],
          [
           "Borba",
           "1C40703",
           50
          ],
          [
           "Estremoz",
           "1C40704",
           55
          ],
          [
           "Évora",
           "1C40705",
           312
          ],
          [
           "Montemor-o-Novo",
           "1C40706",
           223
          ],
          [
           "Mora",
           "1C40707",
           58
          ],
          [
           "Mourão",
           "1C40708",
           35
          ],
          [
           "Portel",
           "1C40709",
           60
          ],
          [
           "Redondo",
           "1C40710",
           73
          ],
          [
           "Reguengos de Monsaraz",
           "1C40711",
           99
          ],
          [
           "Vendas Novas",
           "1C40712",
           165
          ],
          [
           "Viana do Alentejo",
           "1C40713",
           86
          ],
          [
           "Vila Viçosa",
           "1C40714",
           34
          ],
          [
           "Albufeira",
           "1500801",
           877
          ],
          [
           "Alcoutim",
           "1500802",
           11
          ],
          [
           "Aljezur",
           "1500803",
           130
          ],
          [
           "Castro Marim",
           "1500804",
           173
          ],
          [
           "Faro",
           "1500805",
           660
          ],
          [
           "Lagoa",
           "1500806",
           463
          ],
          [
           "Lagos",
           "1500807",
           525
          ],
          [
           "Loulé",
           "1500808",
           956
          ],
          [
           "Monchique",
           "1500809",
           33
          ],
          [
           "Olhão",
           "1500810",
           382
          ],
          [
           "Portimão",
           "1500811",
           999
          ],
          [
           "São Brás de Alportel",
           "1500812",
           160
          ],
          [
           "Silves",
           "1500813",
           730
          ],
          [
           "Tavira",
           "1500814",
           378
          ],
          [
           "Vila do Bispo",
           "1500815",
           88
          ],
          [
           "Vila Real de Santo António",
           "1500816",
           245
          ],
          [
           "Angra do Heroísmo",
           "2004301",
           10
          ],
          [
           "Calheta (R.A.A.)",
           "2004501",
           9
          ],
          [
           "Corvo",
           "2004901",
           5
          ],
          [
           "Horta",
           "2004701",
           74
          ],
          [
           "Lagoa (R.A.A.)",
           "2004201",
           175
          ],
          [
           "Lajes das Flores",
           "2004801",
           23
          ],
          [
           "Lajes do Pico",
           "2004601",
           58
          ],
          [
           "Madalena",
           "2004602",
           57
          ],
          [
           "Nordeste",
           "2004202",
           14
          ],
          [
           "Ponta Delgada",
           "2004203",
           386
          ],
          [
           "Povoação",
           "2004204",
           4
          ],
          [
           "Ribeira Grande",
           "2004205",
           125
          ],
          [
           "Santa Cruz da Graciosa",
           "2004401",
           1
          ],
          [
           "Santa Cruz das Flores",
           "2004802",
           46
          ],
          [
           "São Roque do Pico",
           "2004603",
           66
          ],
          [
           "Velas",
           "2004502",
           31
          ],
          [
           "Vila da Praia da Vitória",
           "2004302",
           139
          ],
          [
           "Vila do Porto",
           "2004101",
           16
          ],
          [
           "Vila Franca do Campo",
           "2004206",
           -12
          ],
          [
           "Calheta (R.A.M.)",
           "3003101",
           279
          ],
          [
           "Câmara de Lobos",
           "3003102",
           363
          ],
          [
           "Funchal",
           "3003103",
           1090
          ],
          [
           "Machico",
           "3003104",
           144
          ],
          [
           "Ponta do Sol",
           "3003105",
           213
          ],
          [
           "Porto Moniz",
           "3003106",
           71
          ],
          [
           "Ribeira Brava",
           "3003107",
           292
          ],
          [
           "Santa Cruz",
           "3003108",
           685
          ],
          [
           "Santana",
           "3003109",
           82
          ],
          [
           "São Vicente",
           "3003110",
           152
          ],
          [
           "Porto Santo",
           "3003201",
           221
          ]
         ],
         "hovertemplate": "valor=%{x}<br>y=%{y}<br>local=%{customdata[0]}<br>codigo=%{customdata[1]}<br>Saldo migratório=%{customdata[2]}<br>saldo_migratorio=%{marker.color}<extra></extra>",
         "legendgroup": "",
         "marker": {
          "color": [
           0,
           0,
           0,
           0,
           0,
           0,
           0,
           0,
           0,
           0,
           0,
           0,
           1,
           0,
           0,
           0,
           0,
           0,
           0,
           0,
           0,
           0,
           0,
           0,
           0,
           0,
           1,
           1,
           1,
           0,
           0,
           2,
           1,
           1,
           0,
           0,
           0,
           0,
           1,
           1,
           1,
           0,
           0,
           0,
           0,
           0,
           0,
           0,
           0,
           0,
           0,
           0,
           0,
           0,
           0,
           0,
           0,
           0,
           0,
           0,
           0,
           0,
           0,
           0,
           0,
           0,
           0,
           0,
           0,
           0,
           0,
           0,
           0,
           0,
           0,
           0,
           0,
           0,
           0,
           0,
           0,
           0,
           0,
           0,
           0,
           0,
           0,
           0,
           0,
           1,
           0,
           1,
           0,
           0,
           0,
           0,
           0,
           0,
           0,
           1,
           0,
           1,
           0,
           0,
           0,
           0,
           0,
           0,
           0,
           0,
           0,
           0,
           0,
           0,
           0,
           0,
           0,
           0,
           0,
           0,
           0,
           1,
           0,
           0,
           0,
           0,
           0,
           0,
           0,
           0,
           0,
           0,
           0,
           0,
           0,
           0,
           0,
           0,
           1,
           0,
           0,
           0,
           0,
           0,
           0,
           0,
           0,
           0,
           0,
           0,
           0,
           0,
           0,
           0,
           0,
           0,
           0,
           0,
           0,
           0,
           0,
           0,
           0,
           1,
           1,
           0,
           0,
           0,
           1,
           0,
           0,
           0,
           0,
           0,
           1,
           0,
           0,
           0,
           0,
           0,
           0,
           0,
           0,
           0,
           0,
           0,
           0,
           0,
           0,
           0,
           0,
           0,
           0,
           0,
           0,
           0,
           0,
           1,
           1,
           2,
           1,
           0,
           1,
           1,
           1,
           0,
           0,
           1,
           0,
           0,
           0,
           1,
           1,
           0,
           0,
           0,
           0,
           1,
           0,
           0,
           0,
           0,
           0,
           0,
           0,
           0,
           0,
           0,
           0,
           0,
           0,
           0,
           0,
           0,
           0,
           0,
           0,
           0,
           0,
           0,
           0,
           0,
           0,
           0,
           0,
           0,
           0,
           0,
           0,
           0,
           0,
           0,
           0,
           0,
           0,
           0,
           0,
           0,
           0,
           0,
           0,
           0,
           0,
           0,
           0,
           0,
           0,
           0,
           0,
           0,
           0,
           0,
           0,
           0,
           0,
           0,
           0,
           0,
           0,
           0,
           0,
           0,
           0,
           0,
           0,
           0,
           0,
           0,
           0,
           0,
           0,
           0,
           0,
           0,
           0,
           0,
           0,
           0,
           0,
           0,
           0,
           0,
           0,
           0,
           0,
           0,
           0,
           0
          ],
          "coloraxis": "coloraxis",
          "size": 10,
          "symbol": "circle"
         },
         "mode": "markers",
         "name": "",
         "orientation": "v",
         "showlegend": false,
         "type": "scatter",
         "x": [
          -0.11085993908704395,
          -0.1876337031544182,
          -0.4017351860465324,
          -0.21142275680909756,
          -0.42228027783921,
          -0.3725395292885168,
          -0.24818765791178385,
          -0.22764256611910622,
          0.342213400972531,
          -0.3368559488064978,
          -0.1270797483970526,
          -0.06436315239835248,
          2.8032991336111768,
          0.18542191097578073,
          -0.45580121707989457,
          0.2546264306984843,
          -0.38551537673652375,
          -0.23845577232577864,
          0.0037600467036838455,
          -0.4871595150792446,
          -0.09464012977703529,
          -0.3649702849438461,
          0.6298446860700178,
          -0.3455065137718357,
          -0.506623286251255,
          0.19839775842378762,
          1.2570106460570187,
          2.1166605394874773,
          2.54702614651304,
          0.13351852118375304,
          0.08702173449506158,
          6.750119399046615,
          1.00938822392422,
          1.0731861405435874,
          -0.07409503798435767,
          0.062151360219714985,
          -0.052468625571012804,
          -0.39849122418453065,
          1.418127418536438,
          1.05264104875091,
          2.9438708142979184,
          -0.49256611818258084,
          -0.052468625571012804,
          -0.3790274530125203,
          -0.4590451789418963,
          -0.27846463529046667,
          -0.35848236121984267,
          -0.15843804639640266,
          -0.4806715913552411,
          -0.43633744590788415,
          -0.34334387253050125,
          -0.4968914006652498,
          -0.5466321492159429,
          -0.11842918343171464,
          -0.3346933075651633,
          -0.4320121634252152,
          -0.04165541936434037,
          -0.5650145997672861,
          -0.4525572552178928,
          -0.506623286251255,
          -0.47310234701057047,
          -0.5271683780439326,
          -0.3898406592191927,
          -0.5336563017679361,
          -0.3476691550131702,
          -0.4460693314938894,
          -0.506623286251255,
          -0.4795902707345739,
          -0.4601264995625635,
          -0.48283423259657565,
          -0.497972721285917,
          -0.40822310977053583,
          -0.4947287594239153,
          -0.3519944374958392,
          -0.46877706452790147,
          -0.41362971287387207,
          -0.002727877020319614,
          -0.5120298893545912,
          0.12162399435641337,
          -0.29360312397980803,
          -0.5163551718372602,
          -0.2644074672217925,
          -0.4795902707345739,
          -0.4590451789418963,
          -0.4449880108732221,
          -0.47093970576923594,
          0.30220453800784297,
          0.016735894151690765,
          0.037280985944368385,
          2.0420494166614374,
          0.04809419215104082,
          0.8525967339274698,
          -0.1595193670170699,
          0.3876288670405552,
          0.4633213104872622,
          -0.4114670716325376,
          0.3216683091798534,
          -0.21034143618843032,
          0.2546264306984843,
          2.138286951900822,
          -0.11302258032837843,
          0.8374582452381284,
          -0.45580121707989457,
          -0.2654887878424597,
          -0.23629313108444416,
          -0.19304030625775442,
          -0.31090425391048393,
          -0.1995282299817579,
          -0.3390185900478323,
          -0.257919543497789,
          -0.4071417891498686,
          -0.3963285829431962,
          -0.39524726232252894,
          -0.26657010846312695,
          -0.25683822287712177,
          -0.40822310977053583,
          -0.3768648117711858,
          -0.27413935280779766,
          -0.11518522156971292,
          -0.4774276294932394,
          -0.4168736747358738,
          2.1577507230728323,
          0.4871103641419416,
          -0.39200330046052717,
          0.502248852831283,
          -0.08274560294969562,
          -0.4038978272878669,
          -0.35091311687517196,
          -0.2719767115664632,
          -0.1573567257757354,
          -0.25035029915311835,
          -0.342262551909834,
          -0.3844340561158565,
          -0.30874161266914946,
          -0.22223596301577,
          -0.3238801013584909,
          -0.10004673288037151,
          -0.41579235411520654,
          1.488413258879809,
          -0.3455065137718357,
          0.39627943200589316,
          -0.2871152002558046,
          -0.43309348404588244,
          -0.40606046852920136,
          -0.45039461397655833,
          -0.33361198694449606,
          -0.44066272839055315,
          -0.43093084280454796,
          -0.4568825377005618,
          -0.4168736747358738,
          -0.4038978272878669,
          0.1400064449077565,
          -0.48932215632057907,
          -0.466614423286567,
          0.07188324580572017,
          -0.2427810548084476,
          -0.1249171071557181,
          -0.5001353625272515,
          -0.4763463088725722,
          -0.47093970576923594,
          -0.20709747432642858,
          -0.2946844446004753,
          -0.41579235411520654,
          0.7963680616527732,
          1.0634542549575823,
          -0.06868843488102146,
          0.012410611669021791,
          -0.030842213157667938,
          1.2386281955056757,
          0.3551892484205379,
          -0.1368116339830578,
          0.02430513849636147,
          0.055663436495711524,
          -0.0849082441910301,
          1.7933456739079714,
          -0.15843804639640266,
          -0.29792840646247704,
          -0.43741876652855144,
          0.17460870476910828,
          -0.306578971427815,
          -0.40822310977053583,
          0.6493084572420281,
          -0.4417440490112204,
          0.3151803854558499,
          0.13784380366642202,
          -0.20169087122309237,
          -0.11842918343171464,
          -0.3476691550131702,
          0.15406361297643067,
          0.2719275606291602,
          -0.002727877020319614,
          -0.4698583851485687,
          -0.30549765080714775,
          -0.4633704614245652,
          -0.11410390094904567,
          0.09459097883973228,
          0.47089055483193293,
          2.5340502990650333,
          2.6562395292004317,
          10.785607955376767,
          2.038805454799436,
          0.3324815153865258,
          1.7263037954266025,
          1.7673939790119577,
          3.5396784762855695,
          0.386547546419888,
          -0.21574803929176653,
          1.7738819027359611,
          0.742302030619411,
          0.6849920377240472,
          0.6785041140000436,
          1.0785927436469236,
          2.4378127638256486,
          0.5163060208999571,
          0.1302745593217513,
          -0.4287682015632135,
          -0.26116350535979077,
          0.8363769246174612,
          -0.1876337031544182,
          -0.35631971997850814,
          -0.43741876652855144,
          -0.46553310266589976,
          -0.4968914006652498,
          -0.5520387523192792,
          -0.13140503087972155,
          -0.4428253696318876,
          -0.4493132933558911,
          -0.4049791479085341,
          -0.4849968738379101,
          -0.46553310266589976,
          -0.46120782018323075,
          -0.3801087736331875,
          -0.4568825377005618,
          -0.4806715913552411,
          -0.515273851216593,
          -0.47850895011390665,
          -0.5228430955612636,
          -0.5141925305959257,
          -0.4601264995625635,
          -0.45147593459722557,
          -0.4644517820452325,
          -0.4936474388032481,
          -0.5141925305959257,
          -0.4904034769412463,
          -0.4741836676312377,
          -0.39849122418453065,
          -0.49581008004458255,
          -0.46877706452790147,
          -0.4904034769412463,
          -0.4071417891498686,
          -0.49256611818258084,
          -0.4871595150792446,
          -0.20926011556776308,
          -0.30549765080714775,
          -0.4839155532172429,
          -0.5087859274925894,
          -0.4817529119759084,
          -0.46769574390723423,
          -0.4395814077698859,
          -0.36821424680584786,
          -0.45363857583856004,
          -0.5098672481132567,
          0.4016860351092294,
          -0.5347376223886033,
          -0.40606046852920136,
          -0.3595636818405099,
          0.16703946042443757,
          -0.04598070184700934,
          0.02106117663435974,
          0.4871103641419416,
          -0.5109485687339239,
          -0.13356767212105605,
          0.533607150830633,
          -0.37362084990918404,
          0.2427319038711446,
          -0.13789295460372503,
          -0.45147593459722557,
          -0.2817085971524684,
          -0.5358189430092706,
          -0.5369002636299378,
          -0.5412255461126068,
          -0.466614423286567,
          -0.35740104059917543,
          -0.5217617749405964,
          -0.4839155532172429,
          -0.4849968738379101,
          -0.5314936605266016,
          -0.12924238963838708,
          -0.542306866733274,
          -0.4114670716325376,
          -0.5455508285952757,
          -0.4968914006652498,
          -0.47526498825190494,
          -0.5131112099752585,
          -0.3963285829431962,
          -0.529331019285267,
          -0.5596079966639499,
          -0.2449436960497821,
          -0.15411276391373369,
          0.6320073273113522,
          -0.39092197983985993,
          -0.31631085701382017,
          -0.4698583851485687,
          -0.23088652798110795,
          0.19407247594111868,
          -0.45796385832122904,
          -0.382271414874522,
          -0.3076602920484822
         ],
         "xaxis": "x",
         "y": [
          0,
          0,
          0,
          0,
          0,
          0,
          0,
          0,
          0,
          0,
          0,
          0,
          0,
          0,
          0,
          0,
          0,
          0,
          0,
          0,
          0,
          0,
          0,
          0,
          0,
          0,
          0,
          0,
          0,
          0,
          0,
          0,
          0,
          0,
          0,
          0,
          0,
          0,
          0,
          0,
          0,
          0,
          0,
          0,
          0,
          0,
          0,
          0,
          0,
          0,
          0,
          0,
          0,
          0,
          0,
          0,
          0,
          0,
          0,
          0,
          0,
          0,
          0,
          0,
          0,
          0,
          0,
          0,
          0,
          0,
          0,
          0,
          0,
          0,
          0,
          0,
          0,
          0,
          0,
          0,
          0,
          0,
          0,
          0,
          0,
          0,
          0,
          0,
          0,
          0,
          0,
          0,
          0,
          0,
          0,
          0,
          0,
          0,
          0,
          0,
          0,
          0,
          0,
          0,
          0,
          0,
          0,
          0,
          0,
          0,
          0,
          0,
          0,
          0,
          0,
          0,
          0,
          0,
          0,
          0,
          0,
          0,
          0,
          0,
          0,
          0,
          0,
          0,
          0,
          0,
          0,
          0,
          0,
          0,
          0,
          0,
          0,
          0,
          0,
          0,
          0,
          0,
          0,
          0,
          0,
          0,
          0,
          0,
          0,
          0,
          0,
          0,
          0,
          0,
          0,
          0,
          0,
          0,
          0,
          0,
          0,
          0,
          0,
          0,
          0,
          0,
          0,
          0,
          0,
          0,
          0,
          0,
          0,
          0,
          0,
          0,
          0,
          0,
          0,
          0,
          0,
          0,
          0,
          0,
          0,
          0,
          0,
          0,
          0,
          0,
          0,
          0,
          0,
          0,
          0,
          0,
          0,
          0,
          0,
          0,
          0,
          0,
          0,
          0,
          0,
          0,
          0,
          0,
          0,
          0,
          0,
          0,
          0,
          0,
          0,
          0,
          0,
          0,
          0,
          0,
          0,
          0,
          0,
          0,
          0,
          0,
          0,
          0,
          0,
          0,
          0,
          0,
          0,
          0,
          0,
          0,
          0,
          0,
          0,
          0,
          0,
          0,
          0,
          0,
          0,
          0,
          0,
          0,
          0,
          0,
          0,
          0,
          0,
          0,
          0,
          0,
          0,
          0,
          0,
          0,
          0,
          0,
          0,
          0,
          0,
          0,
          0,
          0,
          0,
          0,
          0,
          0,
          0,
          0,
          0,
          0,
          0,
          0,
          0,
          0,
          0,
          0,
          0,
          0,
          0,
          0,
          0,
          0,
          0,
          0,
          0,
          0,
          0,
          0,
          0,
          0,
          0,
          0,
          0,
          0,
          0,
          0,
          0,
          0,
          0,
          0,
          0,
          0
         ],
         "yaxis": "y"
        }
       ],
       "layout": {
        "coloraxis": {
         "colorbar": {
          "title": {
           "text": "saldo_migratorio"
          }
         },
         "colorscale": [
          [
           0,
           "#440154"
          ],
          [
           0.1111111111111111,
           "#482878"
          ],
          [
           0.2222222222222222,
           "#3e4989"
          ],
          [
           0.3333333333333333,
           "#31688e"
          ],
          [
           0.4444444444444444,
           "#26828e"
          ],
          [
           0.5555555555555556,
           "#1f9e89"
          ],
          [
           0.6666666666666666,
           "#35b779"
          ],
          [
           0.7777777777777778,
           "#6ece58"
          ],
          [
           0.8888888888888888,
           "#b5de2b"
          ],
          [
           1,
           "#fde725"
          ]
         ]
        },
        "height": 300,
        "legend": {
         "tracegroupgap": 0
        },
        "margin": {
         "t": 60
        },
        "template": {
         "data": {
          "bar": [
           {
            "error_x": {
             "color": "#2a3f5f"
            },
            "error_y": {
             "color": "#2a3f5f"
            },
            "marker": {
             "line": {
              "color": "#E5ECF6",
              "width": 0.5
             },
             "pattern": {
              "fillmode": "overlay",
              "size": 10,
              "solidity": 0.2
             }
            },
            "type": "bar"
           }
          ],
          "barpolar": [
           {
            "marker": {
             "line": {
              "color": "#E5ECF6",
              "width": 0.5
             },
             "pattern": {
              "fillmode": "overlay",
              "size": 10,
              "solidity": 0.2
             }
            },
            "type": "barpolar"
           }
          ],
          "carpet": [
           {
            "aaxis": {
             "endlinecolor": "#2a3f5f",
             "gridcolor": "white",
             "linecolor": "white",
             "minorgridcolor": "white",
             "startlinecolor": "#2a3f5f"
            },
            "baxis": {
             "endlinecolor": "#2a3f5f",
             "gridcolor": "white",
             "linecolor": "white",
             "minorgridcolor": "white",
             "startlinecolor": "#2a3f5f"
            },
            "type": "carpet"
           }
          ],
          "choropleth": [
           {
            "colorbar": {
             "outlinewidth": 0,
             "ticks": ""
            },
            "type": "choropleth"
           }
          ],
          "contour": [
           {
            "colorbar": {
             "outlinewidth": 0,
             "ticks": ""
            },
            "colorscale": [
             [
              0,
              "#0d0887"
             ],
             [
              0.1111111111111111,
              "#46039f"
             ],
             [
              0.2222222222222222,
              "#7201a8"
             ],
             [
              0.3333333333333333,
              "#9c179e"
             ],
             [
              0.4444444444444444,
              "#bd3786"
             ],
             [
              0.5555555555555556,
              "#d8576b"
             ],
             [
              0.6666666666666666,
              "#ed7953"
             ],
             [
              0.7777777777777778,
              "#fb9f3a"
             ],
             [
              0.8888888888888888,
              "#fdca26"
             ],
             [
              1,
              "#f0f921"
             ]
            ],
            "type": "contour"
           }
          ],
          "contourcarpet": [
           {
            "colorbar": {
             "outlinewidth": 0,
             "ticks": ""
            },
            "type": "contourcarpet"
           }
          ],
          "heatmap": [
           {
            "colorbar": {
             "outlinewidth": 0,
             "ticks": ""
            },
            "colorscale": [
             [
              0,
              "#0d0887"
             ],
             [
              0.1111111111111111,
              "#46039f"
             ],
             [
              0.2222222222222222,
              "#7201a8"
             ],
             [
              0.3333333333333333,
              "#9c179e"
             ],
             [
              0.4444444444444444,
              "#bd3786"
             ],
             [
              0.5555555555555556,
              "#d8576b"
             ],
             [
              0.6666666666666666,
              "#ed7953"
             ],
             [
              0.7777777777777778,
              "#fb9f3a"
             ],
             [
              0.8888888888888888,
              "#fdca26"
             ],
             [
              1,
              "#f0f921"
             ]
            ],
            "type": "heatmap"
           }
          ],
          "heatmapgl": [
           {
            "colorbar": {
             "outlinewidth": 0,
             "ticks": ""
            },
            "colorscale": [
             [
              0,
              "#0d0887"
             ],
             [
              0.1111111111111111,
              "#46039f"
             ],
             [
              0.2222222222222222,
              "#7201a8"
             ],
             [
              0.3333333333333333,
              "#9c179e"
             ],
             [
              0.4444444444444444,
              "#bd3786"
             ],
             [
              0.5555555555555556,
              "#d8576b"
             ],
             [
              0.6666666666666666,
              "#ed7953"
             ],
             [
              0.7777777777777778,
              "#fb9f3a"
             ],
             [
              0.8888888888888888,
              "#fdca26"
             ],
             [
              1,
              "#f0f921"
             ]
            ],
            "type": "heatmapgl"
           }
          ],
          "histogram": [
           {
            "marker": {
             "pattern": {
              "fillmode": "overlay",
              "size": 10,
              "solidity": 0.2
             }
            },
            "type": "histogram"
           }
          ],
          "histogram2d": [
           {
            "colorbar": {
             "outlinewidth": 0,
             "ticks": ""
            },
            "colorscale": [
             [
              0,
              "#0d0887"
             ],
             [
              0.1111111111111111,
              "#46039f"
             ],
             [
              0.2222222222222222,
              "#7201a8"
             ],
             [
              0.3333333333333333,
              "#9c179e"
             ],
             [
              0.4444444444444444,
              "#bd3786"
             ],
             [
              0.5555555555555556,
              "#d8576b"
             ],
             [
              0.6666666666666666,
              "#ed7953"
             ],
             [
              0.7777777777777778,
              "#fb9f3a"
             ],
             [
              0.8888888888888888,
              "#fdca26"
             ],
             [
              1,
              "#f0f921"
             ]
            ],
            "type": "histogram2d"
           }
          ],
          "histogram2dcontour": [
           {
            "colorbar": {
             "outlinewidth": 0,
             "ticks": ""
            },
            "colorscale": [
             [
              0,
              "#0d0887"
             ],
             [
              0.1111111111111111,
              "#46039f"
             ],
             [
              0.2222222222222222,
              "#7201a8"
             ],
             [
              0.3333333333333333,
              "#9c179e"
             ],
             [
              0.4444444444444444,
              "#bd3786"
             ],
             [
              0.5555555555555556,
              "#d8576b"
             ],
             [
              0.6666666666666666,
              "#ed7953"
             ],
             [
              0.7777777777777778,
              "#fb9f3a"
             ],
             [
              0.8888888888888888,
              "#fdca26"
             ],
             [
              1,
              "#f0f921"
             ]
            ],
            "type": "histogram2dcontour"
           }
          ],
          "mesh3d": [
           {
            "colorbar": {
             "outlinewidth": 0,
             "ticks": ""
            },
            "type": "mesh3d"
           }
          ],
          "parcoords": [
           {
            "line": {
             "colorbar": {
              "outlinewidth": 0,
              "ticks": ""
             }
            },
            "type": "parcoords"
           }
          ],
          "pie": [
           {
            "automargin": true,
            "type": "pie"
           }
          ],
          "scatter": [
           {
            "fillpattern": {
             "fillmode": "overlay",
             "size": 10,
             "solidity": 0.2
            },
            "type": "scatter"
           }
          ],
          "scatter3d": [
           {
            "line": {
             "colorbar": {
              "outlinewidth": 0,
              "ticks": ""
             }
            },
            "marker": {
             "colorbar": {
              "outlinewidth": 0,
              "ticks": ""
             }
            },
            "type": "scatter3d"
           }
          ],
          "scattercarpet": [
           {
            "marker": {
             "colorbar": {
              "outlinewidth": 0,
              "ticks": ""
             }
            },
            "type": "scattercarpet"
           }
          ],
          "scattergeo": [
           {
            "marker": {
             "colorbar": {
              "outlinewidth": 0,
              "ticks": ""
             }
            },
            "type": "scattergeo"
           }
          ],
          "scattergl": [
           {
            "marker": {
             "colorbar": {
              "outlinewidth": 0,
              "ticks": ""
             }
            },
            "type": "scattergl"
           }
          ],
          "scattermapbox": [
           {
            "marker": {
             "colorbar": {
              "outlinewidth": 0,
              "ticks": ""
             }
            },
            "type": "scattermapbox"
           }
          ],
          "scatterpolar": [
           {
            "marker": {
             "colorbar": {
              "outlinewidth": 0,
              "ticks": ""
             }
            },
            "type": "scatterpolar"
           }
          ],
          "scatterpolargl": [
           {
            "marker": {
             "colorbar": {
              "outlinewidth": 0,
              "ticks": ""
             }
            },
            "type": "scatterpolargl"
           }
          ],
          "scatterternary": [
           {
            "marker": {
             "colorbar": {
              "outlinewidth": 0,
              "ticks": ""
             }
            },
            "type": "scatterternary"
           }
          ],
          "surface": [
           {
            "colorbar": {
             "outlinewidth": 0,
             "ticks": ""
            },
            "colorscale": [
             [
              0,
              "#0d0887"
             ],
             [
              0.1111111111111111,
              "#46039f"
             ],
             [
              0.2222222222222222,
              "#7201a8"
             ],
             [
              0.3333333333333333,
              "#9c179e"
             ],
             [
              0.4444444444444444,
              "#bd3786"
             ],
             [
              0.5555555555555556,
              "#d8576b"
             ],
             [
              0.6666666666666666,
              "#ed7953"
             ],
             [
              0.7777777777777778,
              "#fb9f3a"
             ],
             [
              0.8888888888888888,
              "#fdca26"
             ],
             [
              1,
              "#f0f921"
             ]
            ],
            "type": "surface"
           }
          ],
          "table": [
           {
            "cells": {
             "fill": {
              "color": "#EBF0F8"
             },
             "line": {
              "color": "white"
             }
            },
            "header": {
             "fill": {
              "color": "#C8D4E3"
             },
             "line": {
              "color": "white"
             }
            },
            "type": "table"
           }
          ]
         },
         "layout": {
          "annotationdefaults": {
           "arrowcolor": "#2a3f5f",
           "arrowhead": 0,
           "arrowwidth": 1
          },
          "autotypenumbers": "strict",
          "coloraxis": {
           "colorbar": {
            "outlinewidth": 0,
            "ticks": ""
           }
          },
          "colorscale": {
           "diverging": [
            [
             0,
             "#8e0152"
            ],
            [
             0.1,
             "#c51b7d"
            ],
            [
             0.2,
             "#de77ae"
            ],
            [
             0.3,
             "#f1b6da"
            ],
            [
             0.4,
             "#fde0ef"
            ],
            [
             0.5,
             "#f7f7f7"
            ],
            [
             0.6,
             "#e6f5d0"
            ],
            [
             0.7,
             "#b8e186"
            ],
            [
             0.8,
             "#7fbc41"
            ],
            [
             0.9,
             "#4d9221"
            ],
            [
             1,
             "#276419"
            ]
           ],
           "sequential": [
            [
             0,
             "#0d0887"
            ],
            [
             0.1111111111111111,
             "#46039f"
            ],
            [
             0.2222222222222222,
             "#7201a8"
            ],
            [
             0.3333333333333333,
             "#9c179e"
            ],
            [
             0.4444444444444444,
             "#bd3786"
            ],
            [
             0.5555555555555556,
             "#d8576b"
            ],
            [
             0.6666666666666666,
             "#ed7953"
            ],
            [
             0.7777777777777778,
             "#fb9f3a"
            ],
            [
             0.8888888888888888,
             "#fdca26"
            ],
            [
             1,
             "#f0f921"
            ]
           ],
           "sequentialminus": [
            [
             0,
             "#0d0887"
            ],
            [
             0.1111111111111111,
             "#46039f"
            ],
            [
             0.2222222222222222,
             "#7201a8"
            ],
            [
             0.3333333333333333,
             "#9c179e"
            ],
            [
             0.4444444444444444,
             "#bd3786"
            ],
            [
             0.5555555555555556,
             "#d8576b"
            ],
            [
             0.6666666666666666,
             "#ed7953"
            ],
            [
             0.7777777777777778,
             "#fb9f3a"
            ],
            [
             0.8888888888888888,
             "#fdca26"
            ],
            [
             1,
             "#f0f921"
            ]
           ]
          },
          "colorway": [
           "#636efa",
           "#EF553B",
           "#00cc96",
           "#ab63fa",
           "#FFA15A",
           "#19d3f3",
           "#FF6692",
           "#B6E880",
           "#FF97FF",
           "#FECB52"
          ],
          "font": {
           "color": "#2a3f5f"
          },
          "geo": {
           "bgcolor": "white",
           "lakecolor": "white",
           "landcolor": "#E5ECF6",
           "showlakes": true,
           "showland": true,
           "subunitcolor": "white"
          },
          "hoverlabel": {
           "align": "left"
          },
          "hovermode": "closest",
          "mapbox": {
           "style": "light"
          },
          "paper_bgcolor": "white",
          "plot_bgcolor": "#E5ECF6",
          "polar": {
           "angularaxis": {
            "gridcolor": "white",
            "linecolor": "white",
            "ticks": ""
           },
           "bgcolor": "#E5ECF6",
           "radialaxis": {
            "gridcolor": "white",
            "linecolor": "white",
            "ticks": ""
           }
          },
          "scene": {
           "xaxis": {
            "backgroundcolor": "#E5ECF6",
            "gridcolor": "white",
            "gridwidth": 2,
            "linecolor": "white",
            "showbackground": true,
            "ticks": "",
            "zerolinecolor": "white"
           },
           "yaxis": {
            "backgroundcolor": "#E5ECF6",
            "gridcolor": "white",
            "gridwidth": 2,
            "linecolor": "white",
            "showbackground": true,
            "ticks": "",
            "zerolinecolor": "white"
           },
           "zaxis": {
            "backgroundcolor": "#E5ECF6",
            "gridcolor": "white",
            "gridwidth": 2,
            "linecolor": "white",
            "showbackground": true,
            "ticks": "",
            "zerolinecolor": "white"
           }
          },
          "shapedefaults": {
           "line": {
            "color": "#2a3f5f"
           }
          },
          "ternary": {
           "aaxis": {
            "gridcolor": "white",
            "linecolor": "white",
            "ticks": ""
           },
           "baxis": {
            "gridcolor": "white",
            "linecolor": "white",
            "ticks": ""
           },
           "bgcolor": "#E5ECF6",
           "caxis": {
            "gridcolor": "white",
            "linecolor": "white",
            "ticks": ""
           }
          },
          "title": {
           "x": 0.05
          },
          "xaxis": {
           "automargin": true,
           "gridcolor": "white",
           "linecolor": "white",
           "ticks": "",
           "title": {
            "standoff": 15
           },
           "zerolinecolor": "white",
           "zerolinewidth": 2
          },
          "yaxis": {
           "automargin": true,
           "gridcolor": "white",
           "linecolor": "white",
           "ticks": "",
           "title": {
            "standoff": 15
           },
           "zerolinecolor": "white",
           "zerolinewidth": 2
          }
         }
        },
        "xaxis": {
         "anchor": "y",
         "domain": [
          0,
          1
         ],
         "title": {
          "text": "Saldo migratório"
         }
        },
        "yaxis": {
         "anchor": "x",
         "domain": [
          0,
          1
         ],
         "showgrid": false,
         "showticklabels": false,
         "title": {
          "text": "y"
         }
        }
       }
      }
     },
     "metadata": {},
     "output_type": "display_data"
    },
    {
     "name": "stdout",
     "output_type": "stream",
     "text": [
      "saldo_migratorio\n",
      "0    277\n",
      "1     29\n",
      "2      2\n",
      "Name: count, dtype: int64\n",
      "File saved to csv_files/5_Saldo_Migratorio.csv\n"
     ]
    }
   ],
   "source": [
    "clustered_df = aplicar_kmeans(df_saldo_migratorio, 3, nome_cluster='saldo_migratorio')\n",
    "save_clustered_df_to_csv(clustered_df, \"csv_files/\", \"5_Saldo_Migratorio.csv\")"
   ]
  },
  {
   "cell_type": "markdown",
   "id": "35b940a0",
   "metadata": {},
   "source": [
    "### Análise Saldo Natural"
   ]
  },
  {
   "cell_type": "code",
   "execution_count": 22,
   "id": "47fad060",
   "metadata": {},
   "outputs": [
    {
     "data": {
      "text/html": [
       "<div>\n",
       "<style scoped>\n",
       "    .dataframe tbody tr th:only-of-type {\n",
       "        vertical-align: middle;\n",
       "    }\n",
       "\n",
       "    .dataframe tbody tr th {\n",
       "        vertical-align: top;\n",
       "    }\n",
       "\n",
       "    .dataframe thead th {\n",
       "        text-align: right;\n",
       "    }\n",
       "</style>\n",
       "<table border=\"1\" class=\"dataframe\">\n",
       "  <thead>\n",
       "    <tr style=\"text-align: right;\">\n",
       "      <th></th>\n",
       "      <th>local</th>\n",
       "      <th>codigo</th>\n",
       "      <th>Saldo natural</th>\n",
       "    </tr>\n",
       "  </thead>\n",
       "  <tbody>\n",
       "    <tr>\n",
       "      <th>4</th>\n",
       "      <td>Arcos de Valdevez</td>\n",
       "      <td>1111601</td>\n",
       "      <td>-296.0</td>\n",
       "    </tr>\n",
       "    <tr>\n",
       "      <th>5</th>\n",
       "      <td>Caminha</td>\n",
       "      <td>1111602</td>\n",
       "      <td>-113.0</td>\n",
       "    </tr>\n",
       "    <tr>\n",
       "      <th>6</th>\n",
       "      <td>Melgaço</td>\n",
       "      <td>1111603</td>\n",
       "      <td>-142.0</td>\n",
       "    </tr>\n",
       "    <tr>\n",
       "      <th>7</th>\n",
       "      <td>Monção</td>\n",
       "      <td>1111604</td>\n",
       "      <td>-227.0</td>\n",
       "    </tr>\n",
       "    <tr>\n",
       "      <th>8</th>\n",
       "      <td>Paredes de Coura</td>\n",
       "      <td>1111605</td>\n",
       "      <td>-79.0</td>\n",
       "    </tr>\n",
       "    <tr>\n",
       "      <th>...</th>\n",
       "      <td>...</td>\n",
       "      <td>...</td>\n",
       "      <td>...</td>\n",
       "    </tr>\n",
       "    <tr>\n",
       "      <th>342</th>\n",
       "      <td>Ribeira Brava</td>\n",
       "      <td>3003107</td>\n",
       "      <td>-66.0</td>\n",
       "    </tr>\n",
       "    <tr>\n",
       "      <th>343</th>\n",
       "      <td>Santa Cruz</td>\n",
       "      <td>3003108</td>\n",
       "      <td>-8.0</td>\n",
       "    </tr>\n",
       "    <tr>\n",
       "      <th>344</th>\n",
       "      <td>Santana</td>\n",
       "      <td>3003109</td>\n",
       "      <td>-53.0</td>\n",
       "    </tr>\n",
       "    <tr>\n",
       "      <th>345</th>\n",
       "      <td>São Vicente</td>\n",
       "      <td>3003110</td>\n",
       "      <td>-24.0</td>\n",
       "    </tr>\n",
       "    <tr>\n",
       "      <th>346</th>\n",
       "      <td>Porto Santo</td>\n",
       "      <td>3003201</td>\n",
       "      <td>-9.0</td>\n",
       "    </tr>\n",
       "  </tbody>\n",
       "</table>\n",
       "<p>308 rows × 3 columns</p>\n",
       "</div>"
      ],
      "text/plain": [
       "                 local   codigo  Saldo natural\n",
       "4    Arcos de Valdevez  1111601         -296.0\n",
       "5              Caminha  1111602         -113.0\n",
       "6              Melgaço  1111603         -142.0\n",
       "7               Monção  1111604         -227.0\n",
       "8     Paredes de Coura  1111605          -79.0\n",
       "..                 ...      ...            ...\n",
       "342      Ribeira Brava  3003107          -66.0\n",
       "343         Santa Cruz  3003108           -8.0\n",
       "344            Santana  3003109          -53.0\n",
       "345        São Vicente  3003110          -24.0\n",
       "346        Porto Santo  3003201           -9.0\n",
       "\n",
       "[308 rows x 3 columns]"
      ]
     },
     "execution_count": 22,
     "metadata": {},
     "output_type": "execute_result"
    }
   ],
   "source": [
    "df_saldo_natural= processar_ficheiro(data_path+'Saldo natural.xls', 0)\n",
    "df_saldo_natural = carregar_municipios(df_saldo_natural)\n",
    "#save_clustered_df_to_csv(df_saldo_natural, \"csv_files/\", \"5_Saldo_Natural.csv\")\n",
    "df_saldo_natural"
   ]
  },
  {
   "cell_type": "code",
   "execution_count": 14,
   "id": "4c4df7d9",
   "metadata": {},
   "outputs": [
    {
     "data": {
      "image/png": "[encoded data removed]",
      "text/plain": [
       "<Figure size 800x500 with 1 Axes>"
      ]
     },
     "metadata": {},
     "output_type": "display_data"
    }
   ],
   "source": [
    "elbow_rule(df_saldo_natural, max_k=10)"
   ]
  },
  {
   "cell_type": "code",
   "execution_count": 23,
   "id": "92b36896",
   "metadata": {},
   "outputs": [
    {
     "data": {
      "application/vnd.plotly.v1+json": {
       "config": {
        "plotlyServerURL": "https://plot.ly"
       },
       "data": [
        {
         "customdata": [
          [
           "Arcos de Valdevez",
           "1111601",
           -296
          ],
          [
           "Caminha",
           "1111602",
           -113
          ],
          [
           "Melgaço",
           "1111603",
           -142
          ],
          [
           "Monção",
           "1111604",
           -227
          ],
          [
           "Paredes de Coura",
           "1111605",
           -79
          ],
          [
           "Ponte da Barca",
           "1111606",
           -89
          ],
          [
           "Ponte de Lima",
           "1111607",
           -237
          ],
          [
           "Valença",
           "1111608",
           -94
          ],
          [
           "Viana do Castelo",
           "1111609",
           -328
          ],
          [
           "Vila Nova de Cerveira",
           "1111610",
           -69
          ],
          [
           "Amares",
           "1120301",
           -72
          ],
          [
           "Barcelos",
           "1120302",
           -135
          ],
          [
           "Braga",
           "1120303",
           108
          ],
          [
           "Esposende",
           "1120306",
           -5
          ],
          [
           "Terras de Bouro",
           "1120310",
           -67
          ],
          [
           "Vila Verde",
           "1120313",
           -61
          ],
          [
           "Cabeceiras de Basto",
           "1190304",
           -80
          ],
          [
           "Fafe",
           "1190307",
           -213
          ],
          [
           "Guimarães",
           "1190308",
           -270
          ],
          [
           "Mondim de Basto",
           "1191705",
           -53
          ],
          [
           "Póvoa de Lanhoso",
           "1190309",
           -43
          ],
          [
           "Vieira do Minho",
           "1190311",
           -103
          ],
          [
           "Vila Nova de Famalicão",
           "1190312",
           -119
          ],
          [
           "Vizela",
           "1190314",
           31
          ],
          [
           "Arouca",
           "11A0104",
           -85
          ],
          [
           "Espinho",
           "11A0107",
           -249
          ],
          [
           "Gondomar",
           "11A1304",
           -466
          ],
          [
           "Maia",
           "11A1306",
           -169
          ],
          [
           "Matosinhos",
           "11A1308",
           -635
          ],
          [
           "Oliveira de Azeméis",
           "11A0113",
           -240
          ],
          [
           "Paredes",
           "11A1310",
           5
          ],
          [
           "Porto",
           "11A1312",
           -1085
          ],
          [
           "Póvoa de Varzim",
           "11A1313",
           -95
          ],
          [
           "Santa Maria da Feira",
           "11A0109",
           -254
          ],
          [
           "Santo Tirso",
           "11A1314",
           -321
          ],
          [
           "São João da Madeira",
           "11A0116",
           -60
          ],
          [
           "Trofa",
           "11A1318",
           -12
          ],
          [
           "Vale de Cambra",
           "11A0119",
           -132
          ],
          [
           "Valongo",
           "11A1315",
           -90
          ],
          [
           "Vila do Conde",
           "11A1316",
           -162
          ],
          [
           "Vila Nova de Gaia",
           "11A1317",
           -671
          ],
          [
           "Boticas",
           "11B1702",
           -80
          ],
          [
           "Chaves",
           "11B1703",
           -382
          ],
          [
           "Montalegre",
           "11B1706",
           -148
          ],
          [
           "Ribeira de Pena",
           "11B1709",
           -67
          ],
          [
           "Valpaços",
           "11B1712",
           -207
          ],
          [
           "Vila Pouca de Aguiar",
           "11B1713",
           -129
          ],
          [
           "Amarante",
           "11C1301",
           -279
          ],
          [
           "Baião",
           "11C1302",
           -104
          ],
          [
           "Castelo de Paiva",
           "11C0106",
           -62
          ],
          [
           "Celorico de Basto",
           "11C0305",
           -157
          ],
          [
           "Cinfães",
           "11C1804",
           -138
          ],
          [
           "Felgueiras",
           "11C1303",
           -41
          ],
          [
           "Lousada",
           "11C1305",
           -10
          ],
          [
           "Marco de Canaveses",
           "11C1307",
           -131
          ],
          [
           "Paços de Ferreira",
           "11C1309",
           -24
          ],
          [
           "Penafiel",
           "11C1311",
           -97
          ],
          [
           "Resende",
           "11C1813",
           -85
          ],
          [
           "Alijó",
           "11D1701",
           -91
          ],
          [
           "Armamar",
           "11D1801",
           -65
          ],
          [
           "Carrazeda de Ansiães",
           "11D0403",
           -87
          ],
          [
           "Freixo de Espada à Cinta",
           "11D0404",
           -77
          ],
          [
           "Lamego",
           "11D1805",
           -192
          ],
          [
           "Mesão Frio",
           "11D1704",
           -45
          ],
          [
           "Moimenta da Beira",
           "11D1807",
           -64
          ],
          [
           "Murça",
           "11D1707",
           -88
          ],
          [
           "Penedono",
           "11D1812",
           -36
          ],
          [
           "Peso da Régua",
           "11D1708",
           -117
          ],
          [
           "Sabrosa",
           "11D1710",
           -67
          ],
          [
           "Santa Marta de Penaguião",
           "11D1711",
           -63
          ],
          [
           "São João da Pesqueira",
           "11D1815",
           -57
          ],
          [
           "Sernancelhe",
           "11D1818",
           -57
          ],
          [
           "Tabuaço",
           "11D1819",
           -49
          ],
          [
           "Tarouca",
           "11D1820",
           -59
          ],
          [
           "Torre de Moncorvo",
           "11D0409",
           -163
          ],
          [
           "Vila Nova de Foz Côa",
           "11D0914",
           -71
          ],
          [
           "Vila Real",
           "11D1714",
           -224
          ],
          [
           "Alfândega da Fé",
           "11E0401",
           -66
          ],
          [
           "Bragança",
           "11E0402",
           -300
          ],
          [
           "Macedo de Cavaleiros",
           "11E0405",
           -147
          ],
          [
           "Miranda do Douro",
           "11E0406",
           -103
          ],
          [
           "Mirandela",
           "11E0407",
           -178
          ],
          [
           "Mogadouro",
           "11E0408",
           -105
          ],
          [
           "Vila Flor",
           "11E0410",
           -82
          ],
          [
           "Vimioso",
           "11E0411",
           -70
          ],
          [
           "Vinhais",
           "11E0412",
           -130
          ],
          [
           "Águeda",
           "1910101",
           -195
          ],
          [
           "Albergaria-a-Velha",
           "1910102",
           -89
          ],
          [
           "Anadia",
           "1910103",
           -214
          ],
          [
           "Aveiro",
           "1910105",
           -123
          ],
          [
           "Estarreja",
           "1910108",
           -149
          ],
          [
           "Ílhavo",
           "1910110",
           -107
          ],
          [
           "Murtosa",
           "1910112",
           -46
          ],
          [
           "Oliveira do Bairro",
           "1910114",
           -94
          ],
          [
           "Ovar",
           "1910115",
           -115
          ],
          [
           "Sever do Vouga",
           "1910117",
           -61
          ],
          [
           "Vagos",
           "1910118",
           -88
          ],
          [
           "Arganil",
           "1920601",
           -123
          ],
          [
           "Cantanhede",
           "1920602",
           -228
          ],
          [
           "Coimbra",
           "1920603",
           -481
          ],
          [
           "Condeixa-a-Nova",
           "1920604",
           -70
          ],
          [
           "Figueira da Foz",
           "1920605",
           -401
          ],
          [
           "Góis",
           "1920606",
           -59
          ],
          [
           "Lousã",
           "1920607",
           -95
          ],
          [
           "Mealhada",
           "1920111",
           -114
          ],
          [
           "Mira",
           "1920608",
           -92
          ],
          [
           "Miranda do Corvo",
           "1920609",
           -104
          ],
          [
           "Montemor-o-Velho",
           "1920610",
           -159
          ],
          [
           "Mortágua",
           "1921808",
           -112
          ],
          [
           "Oliveira do Hospital",
           "1920611",
           -79
          ],
          [
           "Pampilhosa da Serra",
           "1920612",
           -74
          ],
          [
           "Penacova",
           "1920613",
           -112
          ],
          [
           "Penela",
           "1920614",
           -55
          ],
          [
           "Soure",
           "1920615",
           -212
          ],
          [
           "Tábua",
           "1920616",
           -79
          ],
          [
           "Vila Nova de Poiares",
           "1920617",
           -50
          ],
          [
           "Alvaiázere",
           "1931002",
           -64
          ],
          [
           "Ansião",
           "1931003",
           -113
          ],
          [
           "Batalha",
           "1931004",
           -65
          ],
          [
           "Castanheira de Pêra",
           "1931007",
           -21
          ],
          [
           "Figueiró dos Vinhos",
           "1931008",
           -49
          ],
          [
           "Leiria",
           "1931009",
           -267
          ],
          [
           "Marinha Grande",
           "1931010",
           -143
          ],
          [
           "Pedrógão Grande",
           "1931013",
           -30
          ],
          [
           "Pombal",
           "1931015",
           -368
          ],
          [
           "Porto de Mós",
           "1931016",
           -116
          ],
          [
           "Aguiar da Beira",
           "1940901",
           -98
          ],
          [
           "Carregal do Sal",
           "1941802",
           -81
          ],
          [
           "Castro Daire",
           "1941803",
           -171
          ],
          [
           "Mangualde",
           "1941806",
           -165
          ],
          [
           "Nelas",
           "1941809",
           -88
          ],
          [
           "Oliveira de Frades",
           "1941810",
           -62
          ],
          [
           "Penalva do Castelo",
           "1941811",
           -94
          ],
          [
           "Santa Comba Dão",
           "1941814",
           -75
          ],
          [
           "São Pedro do Sul",
           "1941816",
           -193
          ],
          [
           "Sátão",
           "1941817",
           -84
          ],
          [
           "Tondela",
           "1941821",
           -241
          ],
          [
           "Vila Nova de Paiva",
           "1941822",
           -34
          ],
          [
           "Viseu",
           "1941823",
           -276
          ],
          [
           "Vouzela",
           "1941824",
           -82
          ],
          [
           "Castelo Branco",
           "1950502",
           -387
          ],
          [
           "Idanha-a-Nova",
           "1950505",
           -166
          ],
          [
           "Oleiros",
           "1950506",
           -89
          ],
          [
           "Penamacor",
           "1950507",
           -104
          ],
          [
           "Proença-a-Nova",
           "1950508",
           -107
          ],
          [
           "Sertã",
           "1950509",
           -145
          ],
          [
           "Vila de Rei",
           "1950510",
           -64
          ],
          [
           "Vila Velha de Ródão",
           "1950511",
           -56
          ],
          [
           "Almeida",
           "1960902",
           -125
          ],
          [
           "Belmonte",
           "1960501",
           -59
          ],
          [
           "Celorico da Beira",
           "1960903",
           -81
          ],
          [
           "Covilhã",
           "1960503",
           -336
          ],
          [
           "Figueira de Castelo Rodrigo",
           "1960904",
           -80
          ],
          [
           "Fornos de Algodres",
           "1960905",
           -56
          ],
          [
           "Fundão",
           "1960504",
           -257
          ],
          [
           "Gouveia",
           "1960906",
           -169
          ],
          [
           "Guarda",
           "1960907",
           -267
          ],
          [
           "Manteigas",
           "1960908",
           -18
          ],
          [
           "Mêda",
           "1960909",
           -54
          ],
          [
           "Pinhel",
           "1960910",
           -139
          ],
          [
           "Sabugal",
           "1960911",
           -249
          ],
          [
           "Seia",
           "1960912",
           -249
          ],
          [
           "Trancoso",
           "1960913",
           -112
          ],
          [
           "Alcobaça",
           "1D11001",
           -274
          ],
          [
           "Alenquer",
           "1D11101",
           -20
          ],
          [
           "Arruda dos Vinhos",
           "1D11102",
           -10
          ],
          [
           "Bombarral",
           "1D11005",
           -96
          ],
          [
           "Cadaval",
           "1D11104",
           -111
          ],
          [
           "Caldas da Rainha",
           "1D11006",
           -231
          ],
          [
           "Lourinhã",
           "1D11108",
           -103
          ],
          [
           "Nazaré",
           "1D11011",
           -41
          ],
          [
           "Óbidos",
           "1D11012",
           -80
          ],
          [
           "Peniche",
           "1D11014",
           -142
          ],
          [
           "Sobral de Monte Agraço",
           "1D11112",
           -31
          ],
          [
           "Torres Vedras",
           "1D11113",
           -153
          ],
          [
           "Abrantes",
           "1D21401",
           -319
          ],
          [
           "Alcanena",
           "1D21402",
           -79
          ],
          [
           "Constância",
           "1D21408",
           -30
          ],
          [
           "Entroncamento",
           "1D21410",
           21
          ],
          [
           "Ferreira do Zêzere",
           "1D21411",
           -68
          ],
          [
           "Mação",
           "1D21413",
           -123
          ],
          [
           "Ourém",
           "1D21421",
           -280
          ],
          [
           "Sardoal",
           "1D21417",
           -47
          ],
          [
           "Tomar",
           "1D21418",
           -337
          ],
          [
           "Torres Novas",
           "1D21419",
           -267
          ],
          [
           "Vila Nova da Barquinha",
           "1D21420",
           -30
          ],
          [
           "Almeirim",
           "1D31403",
           -176
          ],
          [
           "Alpiarça",
           "1D31404",
           -49
          ],
          [
           "Azambuja",
           "1D31103",
           -76
          ],
          [
           "Benavente",
           "1D31405",
           -52
          ],
          [
           "Cartaxo",
           "1D31406",
           -134
          ],
          [
           "Chamusca",
           "1D31407",
           -84
          ],
          [
           "Coruche",
           "1D31409",
           -290
          ],
          [
           "Golegã",
           "1D31412",
           -51
          ],
          [
           "Rio Maior",
           "1D31414",
           -63
          ],
          [
           "Salvaterra de Magos",
           "1D31415",
           -154
          ],
          [
           "Santarém",
           "1D31416",
           -261
          ],
          [
           "Amadora",
           "1A01115",
           433
          ],
          [
           "Cascais",
           "1A01105",
           -461
          ],
          [
           "Lisboa",
           "1A01106",
           -804
          ],
          [
           "Loures",
           "1A01107",
           267
          ],
          [
           "Mafra",
           "1A01109",
           91
          ],
          [
           "Odivelas",
           "1A01116",
           434
          ],
          [
           "Oeiras",
           "1A01110",
           -318
          ],
          [
           "Sintra",
           "1A01111",
           1121
          ],
          [
           "Vila Franca de Xira",
           "1A01114",
           166
          ],
          [
           "Alcochete",
           "1B01502",
           -5
          ],
          [
           "Almada",
           "1B01503",
           -424
          ],
          [
           "Barreiro",
           "1B01504",
           -173
          ],
          [
           "Moita",
           "1B01506",
           -8
          ],
          [
           "Montijo",
           "1B01507",
           69
          ],
          [
           "Palmela",
           "1B01508",
           -165
          ],
          [
           "Seixal",
           "1B01510",
           252
          ],
          [
           "Sesimbra",
           "1B01511",
           -142
          ],
          [
           "Setúbal",
           "1B01512",
           -330
          ],
          [
           "Alcácer do Sal",
           "1C11501",
           -103
          ],
          [
           "Grândola",
           "1C11505",
           -72
          ],
          [
           "Odemira",
           "1C10211",
           -73
          ],
          [
           "Santiago do Cacém",
           "1C11509",
           -190
          ],
          [
           "Sines",
           "1C11513",
           -53
          ],
          [
           "Aljustrel",
           "1C20201",
           -61
          ],
          [
           "Almodôvar",
           "1C20202",
           -95
          ],
          [
           "Alvito",
           "1C20203",
           -23
          ],
          [
           "Barrancos",
           "1C20204",
           -23
          ],
          [
           "Beja",
           "1C20205",
           -154
          ],
          [
           "Castro Verde",
           "1C20206",
           -71
          ],
          [
           "Cuba",
           "1C20207",
           -53
          ],
          [
           "Ferreira do Alentejo",
           "1C20208",
           -111
          ],
          [
           "Mértola",
           "1C20209",
           -106
          ],
          [
           "Moura",
           "1C20210",
           -83
          ],
          [
           "Ourique",
           "1C20212",
           -86
          ],
          [
           "Serpa",
           "1C20213",
           -153
          ],
          [
           "Vidigueira",
           "1C20214",
           -74
          ],
          [
           "Alter do Chão",
           "1C31201",
           -51
          ],
          [
           "Arronches",
           "1C31202",
           -42
          ],
          [
           "Avis",
           "1C31203",
           -61
          ],
          [
           "Campo Maior",
           "1C31204",
           -62
          ],
          [
           "Castelo de Vide",
           "1C31205",
           -49
          ],
          [
           "Crato",
           "1C31206",
           -71
          ],
          [
           "Elvas",
           "1C31207",
           -175
          ],
          [
           "Fronteira",
           "1C31208",
           -48
          ],
          [
           "Gavião",
           "1C31209",
           -102
          ],
          [
           "Marvão",
           "1C31210",
           -35
          ],
          [
           "Monforte",
           "1C31211",
           -7
          ],
          [
           "Nisa",
           "1C31212",
           -152
          ],
          [
           "Ponte de Sor",
           "1C31213",
           -173
          ],
          [
           "Portalegre",
           "1C31214",
           -173
          ],
          [
           "Sousel",
           "1C31215",
           -65
          ],
          [
           "Alandroal",
           "1C40701",
           -76
          ],
          [
           "Arraiolos",
           "1C40702",
           -45
          ],
          [
           "Borba",
           "1C40703",
           -75
          ],
          [
           "Estremoz",
           "1C40704",
           -104
          ],
          [
           "Évora",
           "1C40705",
           -232
          ],
          [
           "Montemor-o-Novo",
           "1C40706",
           -142
          ],
          [
           "Mora",
           "1C40707",
           -56
          ],
          [
           "Mourão",
           "1C40708",
           -34
          ],
          [
           "Portel",
           "1C40709",
           -60
          ],
          [
           "Redondo",
           "1C40710",
           -48
          ],
          [
           "Reguengos de Monsaraz",
           "1C40711",
           -110
          ],
          [
           "Vendas Novas",
           "1C40712",
           -91
          ],
          [
           "Viana do Alentejo",
           "1C40713",
           -51
          ],
          [
           "Vila Viçosa",
           "1C40714",
           -80
          ],
          [
           "Albufeira",
           "1500801",
           105
          ],
          [
           "Alcoutim",
           "1500802",
           -52
          ],
          [
           "Aljezur",
           "1500803",
           -21
          ],
          [
           "Castro Marim",
           "1500804",
           -64
          ],
          [
           "Faro",
           "1500805",
           -166
          ],
          [
           "Lagoa",
           "1500806",
           -30
          ],
          [
           "Lagos",
           "1500807",
           -87
          ],
          [
           "Loulé",
           "1500808",
           -81
          ],
          [
           "Monchique",
           "1500809",
           -49
          ],
          [
           "Olhão",
           "1500810",
           -219
          ],
          [
           "Portimão",
           "1500811",
           -77
          ],
          [
           "São Brás de Alportel",
           "1500812",
           -46
          ],
          [
           "Silves",
           "1500813",
           -180
          ],
          [
           "Tavira",
           "1500814",
           -186
          ],
          [
           "Vila do Bispo",
           "1500815",
           -28
          ],
          [
           "Vila Real de Santo António",
           "1500816",
           -95
          ],
          [
           "Angra do Heroísmo",
           "2004301",
           -147
          ],
          [
           "Calheta (R.A.A.)",
           "2004501",
           -19
          ],
          [
           "Corvo",
           "2004901",
           -4
          ],
          [
           "Horta",
           "2004701",
           -31
          ],
          [
           "Lagoa (R.A.A.)",
           "2004201",
           17
          ],
          [
           "Lajes das Flores",
           "2004801",
           -8
          ],
          [
           "Lajes do Pico",
           "2004601",
           -30
          ],
          [
           "Madalena",
           "2004602",
           -30
          ],
          [
           "Nordeste",
           "2004202",
           -29
          ],
          [
           "Ponta Delgada",
           "2004203",
           -37
          ],
          [
           "Povoação",
           "2004204",
           -36
          ],
          [
           "Ribeira Grande",
           "2004205",
           3
          ],
          [
           "Santa Cruz da Graciosa",
           "2004401",
           -38
          ],
          [
           "Santa Cruz das Flores",
           "2004802",
           -24
          ],
          [
           "São Roque do Pico",
           "2004603",
           -18
          ],
          [
           "Velas",
           "2004502",
           -52
          ],
          [
           "Vila da Praia da Vitória",
           "2004302",
           -49
          ],
          [
           "Vila do Porto",
           "2004101",
           -27
          ],
          [
           "Vila Franca do Campo",
           "2004206",
           -24
          ],
          [
           "Calheta (R.A.M.)",
           "3003101",
           -44
          ],
          [
           "Câmara de Lobos",
           "3003102",
           45
          ],
          [
           "Funchal",
           "3003103",
           -468
          ],
          [
           "Machico",
           "3003104",
           -108
          ],
          [
           "Ponta do Sol",
           "3003105",
           -22
          ],
          [
           "Porto Moniz",
           "3003106",
           -24
          ],
          [
           "Ribeira Brava",
           "3003107",
           -66
          ],
          [
           "Santa Cruz",
           "3003108",
           -8
          ],
          [
           "Santana",
           "3003109",
           -53
          ],
          [
           "São Vicente",
           "3003110",
           -24
          ],
          [
           "Porto Santo",
           "3003201",
           -9
          ]
         ],
         "hovertemplate": "valor=%{x}<br>y=%{y}<br>local=%{customdata[0]}<br>codigo=%{customdata[1]}<br>Saldo natural=%{customdata[2]}<br>saldo_natural=%{marker.color}<extra></extra>",
         "legendgroup": "",
         "marker": {
          "color": [
           0,
           1,
           1,
           0,
           1,
           1,
           0,
           1,
           0,
           1,
           1,
           1,
           1,
           1,
           1,
           1,
           1,
           0,
           0,
           1,
           1,
           1,
           1,
           1,
           1,
           0,
           0,
           1,
           0,
           0,
           1,
           0,
           1,
           0,
           0,
           1,
           1,
           1,
           1,
           1,
           0,
           1,
           0,
           1,
           1,
           1,
           1,
           0,
           1,
           1,
           1,
           1,
           1,
           1,
           1,
           1,
           1,
           1,
           1,
           1,
           1,
           1,
           1,
           1,
           1,
           1,
           1,
           1,
           1,
           1,
           1,
           1,
           1,
           1,
           1,
           1,
           0,
           1,
           0,
           1,
           1,
           1,
           1,
           1,
           1,
           1,
           1,
           1,
           0,
           1,
           1,
           1,
           1,
           1,
           1,
           1,
           1,
           1,
           0,
           0,
           1,
           0,
           1,
           1,
           1,
           1,
           1,
           1,
           1,
           1,
           1,
           1,
           1,
           0,
           1,
           1,
           1,
           1,
           1,
           1,
           1,
           0,
           1,
           1,
           0,
           1,
           1,
           1,
           1,
           1,
           1,
           1,
           1,
           1,
           1,
           1,
           0,
           1,
           0,
           1,
           0,
           1,
           1,
           1,
           1,
           1,
           1,
           1,
           1,
           1,
           1,
           0,
           1,
           1,
           0,
           1,
           0,
           1,
           1,
           1,
           0,
           0,
           1,
           0,
           1,
           1,
           1,
           1,
           0,
           1,
           1,
           1,
           1,
           1,
           1,
           0,
           1,
           1,
           1,
           1,
           1,
           0,
           1,
           0,
           0,
           1,
           1,
           1,
           1,
           1,
           1,
           1,
           0,
           1,
           1,
           1,
           0,
           2,
           0,
           0,
           2,
           1,
           2,
           0,
           2,
           1,
           1,
           0,
           1,
           1,
           1,
           1,
           2,
           1,
           0,
           1,
           1,
           1,
           1,
           1,
           1,
           1,
           1,
           1,
           1,
           1,
           1,
           1,
           1,
           1,
           1,
           1,
           1,
           1,
           1,
           1,
           1,
           1,
           1,
           1,
           1,
           1,
           1,
           1,
           1,
           1,
           1,
           1,
           1,
           1,
           1,
           1,
           0,
           1,
           1,
           1,
           1,
           1,
           1,
           1,
           1,
           1,
           1,
           1,
           1,
           1,
           1,
           1,
           1,
           1,
           1,
           0,
           1,
           1,
           1,
           1,
           1,
           1,
           1,
           1,
           1,
           1,
           1,
           1,
           1,
           1,
           1,
           1,
           1,
           1,
           1,
           1,
           1,
           1,
           1,
           1,
           1,
           1,
           1,
           0,
           1,
           1,
           1,
           1,
           1,
           1,
           1,
           1
          ],
          "coloraxis": "coloraxis",
          "size": 10,
          "symbol": "circle"
         },
         "mode": "markers",
         "name": "",
         "orientation": "v",
         "showlegend": false,
         "type": "scatter",
         "x": [
          -1.2113087891155547,
          -0.022608172956540724,
          -0.21098149464294186,
          -0.7631101961375658,
          0.19824330764130887,
          0.13328698981841194,
          -0.8280665139604627,
          0.10080883090696346,
          -1.419169006148825,
          0.26319962546420583,
          0.24371273011733674,
          -0.165512072166914,
          1.4129264509294814,
          0.6789200595307462,
          0.2761908890287852,
          0.3151646797225234,
          0.19174767585901917,
          -0.6721713511855101,
          -1.0424223627760227,
          0.3671297339808409,
          0.4320860518037378,
          0.04234814486635621,
          -0.06158196365027888,
          0.9127628036931751,
          0.15926951694757072,
          -0.9060140953479392,
          -2.3155661921048027,
          -0.3863635527647636,
          -3.413327963311761,
          -0.8475534093073319,
          0.7438763773536432,
          -6.336362265342123,
          0.09431319912467377,
          -0.9384922542593876,
          -1.3736995836727972,
          0.32166031150481306,
          0.6334506370547184,
          -0.1460251768200449,
          0.12679135803612224,
          -0.3408941302887357,
          -3.6471707074741895,
          0.19174767585901917,
          -1.7699331223924686,
          -0.24995528533668002,
          0.2761908890287852,
          -0.633197560491772,
          -0.12653828147317583,
          -1.10088304881663,
          0.03585251308406652,
          0.30866904794023364,
          -0.30841597137728727,
          -0.18499896751378306,
          0.44507731536831724,
          0.6464419006192977,
          -0.13952954503775522,
          0.555503055667242,
          0.08132193556009439,
          0.15926951694757072,
          0.12029572625383254,
          0.2891821525933646,
          0.14627825338299133,
          0.21123457120588826,
          -0.5357630837574265,
          0.41909478823915847,
          0.2956777843756543,
          0.13978262160070162,
          0.4775554742797657,
          -0.0485907000856995,
          0.2761908890287852,
          0.30217341615794396,
          0.34114720685168215,
          0.34114720685168215,
          0.3931122611099997,
          0.32815594328710274,
          -0.3473897620710254,
          0.2502083618996264,
          -0.7436233007906967,
          0.28268652081107487,
          -1.2372913162447137,
          -0.2434596535543903,
          0.04234814486635621,
          -0.4448242388053708,
          0.029356881301776827,
          0.17875641229443978,
          0.2567039936819161,
          -0.1330339132554655,
          -0.5552499791042956,
          0.13328698981841194,
          -0.6786669829677998,
          -0.08756449077943766,
          -0.2564509171189697,
          0.01636561773719744,
          0.4125991564568688,
          0.10080883090696346,
          -0.03559943652112011,
          0.3151646797225234,
          0.13978262160070162,
          -0.08756449077943766,
          -0.7696058279198555,
          -2.4130006688391483,
          0.2567039936819161,
          -1.8933501262559727,
          0.32815594328710274,
          0.09431319912467377,
          -0.029103804738830417,
          0.11380009447154285,
          0.03585251308406652,
          -0.3214072349418666,
          -0.016112541174251028,
          0.19824330764130887,
          0.23072146655275733,
          -0.016112541174251028,
          0.3541384704162615,
          -0.6656757194032205,
          0.19824330764130887,
          0.38661662932771,
          0.2956777843756543,
          -0.022608172956540724,
          0.2891821525933646,
          0.5749899510141111,
          0.3931122611099997,
          -1.0229354674291538,
          -0.21747712642523154,
          0.5165292649735038,
          -1.6789942774404127,
          -0.042095068303409804,
          0.07482630377780469,
          0.1852520440767295,
          -0.39935481632934294,
          -0.3603810256356048,
          0.13978262160070162,
          0.30866904794023364,
          0.10080883090696346,
          0.22422583477046765,
          -0.5422587155397163,
          0.1657651487298604,
          -0.8540490410896217,
          0.4905467378443451,
          -1.081396153469761,
          0.17875641229443978,
          -1.802411281303917,
          -0.3668766574178945,
          0.13328698981841194,
          0.03585251308406652,
          0.01636561773719744,
          -0.23046838998981092,
          0.2956777843756543,
          0.34764283863397183,
          -0.10055575434401705,
          0.32815594328710274,
          0.1852520440767295,
          -1.4711340604071426,
          0.19174767585901917,
          0.34764283863397183,
          -0.9579791496062567,
          -0.3863635527647636,
          -1.0229354674291538,
          0.5944768463609802,
          0.36063410219855124,
          -0.19149459929607276,
          -0.9060140953479392,
          -0.9060140953479392,
          -0.016112541174251028,
          -1.0684048899051815,
          0.5814855827964008,
          0.6464419006192977,
          0.08781756734238408,
          -0.009616909391961335,
          -0.7890927232667246,
          0.04234814486635621,
          0.44507731536831724,
          0.19174767585901917,
          -0.21098149464294186,
          0.5100336331912142,
          -0.2824334442481285,
          -1.3607083201082177,
          0.19824330764130887,
          0.5165292649735038,
          0.8478064858702782,
          0.2696952572464955,
          -0.08756449077943766,
          -1.1073786805989196,
          0.40610352467457905,
          -1.4776296921894323,
          -1.0229354674291538,
          0.5165292649735038,
          -0.43183297524079145,
          0.3931122611099997,
          0.21773020298817794,
          0.3736253657631306,
          -0.15901644038462429,
          0.1657651487298604,
          -1.1723349984218165,
          0.3801209975454203,
          0.30217341615794396,
          -0.2889290760304182,
          -0.9839616767354155,
          3.5240067801736323,
          -2.283088033193354,
          -4.511089734518719,
          2.445731904313543,
          1.3025007106305568,
          3.530502411955922,
          -1.354212688325928,
          7.993001446388941,
          1.7896730943022838,
          0.6789200595307462,
          -2.0427496572486357,
          -0.41234607989392236,
          0.6594331641838771,
          1.1595968114201836,
          -0.3603810256356048,
          2.3482974275791975,
          -0.21098149464294186,
          -1.4321602697134044,
          0.04234814486635621,
          0.24371273011733674,
          0.23721709833504703,
          -0.5227718201928472,
          0.3671297339808409,
          0.3151646797225234,
          0.09431319912467377,
          0.5619986874495317,
          0.5619986874495317,
          -0.2889290760304182,
          0.2502083618996264,
          0.3671297339808409,
          -0.009616909391961335,
          0.022861249519487134,
          0.1722607805121501,
          0.152773885165281,
          -0.2824334442481285,
          0.23072146655275733,
          0.3801209975454203,
          0.43858168358602756,
          0.3151646797225234,
          0.30866904794023364,
          0.3931122611099997,
          0.2502083618996264,
          -0.42533734345850177,
          0.3996078928922894,
          0.04884377664864591,
          0.4840511060620554,
          0.6659287959661668,
          -0.27593781246583876,
          -0.41234607989392236,
          -0.41234607989392236,
          0.2891821525933646,
          0.21773020298817794,
          0.41909478823915847,
          0.22422583477046765,
          0.03585251308406652,
          -0.7955883550490143,
          -0.21098149464294186,
          0.34764283863397183,
          0.4905467378443451,
          0.32166031150481306,
          0.3996078928922894,
          -0.0031212776096716413,
          0.12029572625383254,
          0.3801209975454203,
          0.19174767585901917,
          1.3934395555826125,
          0.3736253657631306,
          0.5749899510141111,
          0.2956777843756543,
          -0.3668766574178945,
          0.5165292649735038,
          0.14627825338299133,
          0.1852520440767295,
          0.3931122611099997,
          -0.7111451418792483,
          0.21123457120588826,
          0.4125991564568688,
          -0.4578155023699502,
          -0.49678929306368835,
          0.5295205285380833,
          0.09431319912467377,
          -0.2434596535543903,
          0.5879812145786905,
          0.6854156913130359,
          0.5100336331912142,
          0.8218239587411195,
          0.6594331641838771,
          0.5165292649735038,
          0.5165292649735038,
          0.5230248967557936,
          0.471059842497476,
          0.4775554742797657,
          0.7308851137890637,
          0.46456421071518633,
          0.555503055667242,
          0.5944768463609802,
          0.3736253657631306,
          0.3931122611099997,
          0.5360161603203729,
          0.555503055667242,
          0.42559042002144815,
          1.0037016486452308,
          -2.328557455669382,
          0.009869985954907746,
          0.5684943192318215,
          0.555503055667242,
          0.28268652081107487,
          0.6594331641838771,
          0.3671297339808409,
          0.555503055667242,
          0.6529375324015875
         ],
         "xaxis": "x",
         "y": [
          0,
          0,
          0,
          0,
          0,
          0,
          0,
          0,
          0,
          0,
          0,
          0,
          0,
          0,
          0,
          0,
          0,
          0,
          0,
          0,
          0,
          0,
          0,
          0,
          0,
          0,
          0,
          0,
          0,
          0,
          0,
          0,
          0,
          0,
          0,
          0,
          0,
          0,
          0,
          0,
          0,
          0,
          0,
          0,
          0,
          0,
          0,
          0,
          0,
          0,
          0,
          0,
          0,
          0,
          0,
          0,
          0,
          0,
          0,
          0,
          0,
          0,
          0,
          0,
          0,
          0,
          0,
          0,
          0,
          0,
          0,
          0,
          0,
          0,
          0,
          0,
          0,
          0,
          0,
          0,
          0,
          0,
          0,
          0,
          0,
          0,
          0,
          0,
          0,
          0,
          0,
          0,
          0,
          0,
          0,
          0,
          0,
          0,
          0,
          0,
          0,
          0,
          0,
          0,
          0,
          0,
          0,
          0,
          0,
          0,
          0,
          0,
          0,
          0,
          0,
          0,
          0,
          0,
          0,
          0,
          0,
          0,
          0,
          0,
          0,
          0,
          0,
          0,
          0,
          0,
          0,
          0,
          0,
          0,
          0,
          0,
          0,
          0,
          0,
          0,
          0,
          0,
          0,
          0,
          0,
          0,
          0,
          0,
          0,
          0,
          0,
          0,
          0,
          0,
          0,
          0,
          0,
          0,
          0,
          0,
          0,
          0,
          0,
          0,
          0,
          0,
          0,
          0,
          0,
          0,
          0,
          0,
          0,
          0,
          0,
          0,
          0,
          0,
          0,
          0,
          0,
          0,
          0,
          0,
          0,
          0,
          0,
          0,
          0,
          0,
          0,
          0,
          0,
          0,
          0,
          0,
          0,
          0,
          0,
          0,
          0,
          0,
          0,
          0,
          0,
          0,
          0,
          0,
          0,
          0,
          0,
          0,
          0,
          0,
          0,
          0,
          0,
          0,
          0,
          0,
          0,
          0,
          0,
          0,
          0,
          0,
          0,
          0,
          0,
          0,
          0,
          0,
          0,
          0,
          0,
          0,
          0,
          0,
          0,
          0,
          0,
          0,
          0,
          0,
          0,
          0,
          0,
          0,
          0,
          0,
          0,
          0,
          0,
          0,
          0,
          0,
          0,
          0,
          0,
          0,
          0,
          0,
          0,
          0,
          0,
          0,
          0,
          0,
          0,
          0,
          0,
          0,
          0,
          0,
          0,
          0,
          0,
          0,
          0,
          0,
          0,
          0,
          0,
          0,
          0,
          0,
          0,
          0,
          0,
          0,
          0,
          0,
          0,
          0,
          0,
          0,
          0,
          0,
          0,
          0,
          0,
          0,
          0,
          0,
          0,
          0,
          0,
          0
         ],
         "yaxis": "y"
        }
       ],
       "layout": {
        "coloraxis": {
         "colorbar": {
          "title": {
           "text": "saldo_natural"
          }
         },
         "colorscale": [
          [
           0,
           "#440154"
          ],
          [
           0.1111111111111111,
           "#482878"
          ],
          [
           0.2222222222222222,
           "#3e4989"
          ],
          [
           0.3333333333333333,
           "#31688e"
          ],
          [
           0.4444444444444444,
           "#26828e"
          ],
          [
           0.5555555555555556,
           "#1f9e89"
          ],
          [
           0.6666666666666666,
           "#35b779"
          ],
          [
           0.7777777777777778,
           "#6ece58"
          ],
          [
           0.8888888888888888,
           "#b5de2b"
          ],
          [
           1,
           "#fde725"
          ]
         ]
        },
        "height": 300,
        "legend": {
         "tracegroupgap": 0
        },
        "margin": {
         "t": 60
        },
        "template": {
         "data": {
          "bar": [
           {
            "error_x": {
             "color": "#2a3f5f"
            },
            "error_y": {
             "color": "#2a3f5f"
            },
            "marker": {
             "line": {
              "color": "#E5ECF6",
              "width": 0.5
             },
             "pattern": {
              "fillmode": "overlay",
              "size": 10,
              "solidity": 0.2
             }
            },
            "type": "bar"
           }
          ],
          "barpolar": [
           {
            "marker": {
             "line": {
              "color": "#E5ECF6",
              "width": 0.5
             },
             "pattern": {
              "fillmode": "overlay",
              "size": 10,
              "solidity": 0.2
             }
            },
            "type": "barpolar"
           }
          ],
          "carpet": [
           {
            "aaxis": {
             "endlinecolor": "#2a3f5f",
             "gridcolor": "white",
             "linecolor": "white",
             "minorgridcolor": "white",
             "startlinecolor": "#2a3f5f"
            },
            "baxis": {
             "endlinecolor": "#2a3f5f",
             "gridcolor": "white",
             "linecolor": "white",
             "minorgridcolor": "white",
             "startlinecolor": "#2a3f5f"
            },
            "type": "carpet"
           }
          ],
          "choropleth": [
           {
            "colorbar": {
             "outlinewidth": 0,
             "ticks": ""
            },
            "type": "choropleth"
           }
          ],
          "contour": [
           {
            "colorbar": {
             "outlinewidth": 0,
             "ticks": ""
            },
            "colorscale": [
             [
              0,
              "#0d0887"
             ],
             [
              0.1111111111111111,
              "#46039f"
             ],
             [
              0.2222222222222222,
              "#7201a8"
             ],
             [
              0.3333333333333333,
              "#9c179e"
             ],
             [
              0.4444444444444444,
              "#bd3786"
             ],
             [
              0.5555555555555556,
              "#d8576b"
             ],
             [
              0.6666666666666666,
              "#ed7953"
             ],
             [
              0.7777777777777778,
              "#fb9f3a"
             ],
             [
              0.8888888888888888,
              "#fdca26"
             ],
             [
              1,
              "#f0f921"
             ]
            ],
            "type": "contour"
           }
          ],
          "contourcarpet": [
           {
            "colorbar": {
             "outlinewidth": 0,
             "ticks": ""
            },
            "type": "contourcarpet"
           }
          ],
          "heatmap": [
           {
            "colorbar": {
             "outlinewidth": 0,
             "ticks": ""
            },
            "colorscale": [
             [
              0,
              "#0d0887"
             ],
             [
              0.1111111111111111,
              "#46039f"
             ],
             [
              0.2222222222222222,
              "#7201a8"
             ],
             [
              0.3333333333333333,
              "#9c179e"
             ],
             [
              0.4444444444444444,
              "#bd3786"
             ],
             [
              0.5555555555555556,
              "#d8576b"
             ],
             [
              0.6666666666666666,
              "#ed7953"
             ],
             [
              0.7777777777777778,
              "#fb9f3a"
             ],
             [
              0.8888888888888888,
              "#fdca26"
             ],
             [
              1,
              "#f0f921"
             ]
            ],
            "type": "heatmap"
           }
          ],
          "heatmapgl": [
           {
            "colorbar": {
             "outlinewidth": 0,
             "ticks": ""
            },
            "colorscale": [
             [
              0,
              "#0d0887"
             ],
             [
              0.1111111111111111,
              "#46039f"
             ],
             [
              0.2222222222222222,
              "#7201a8"
             ],
             [
              0.3333333333333333,
              "#9c179e"
             ],
             [
              0.4444444444444444,
              "#bd3786"
             ],
             [
              0.5555555555555556,
              "#d8576b"
             ],
             [
              0.6666666666666666,
              "#ed7953"
             ],
             [
              0.7777777777777778,
              "#fb9f3a"
             ],
             [
              0.8888888888888888,
              "#fdca26"
             ],
             [
              1,
              "#f0f921"
             ]
            ],
            "type": "heatmapgl"
           }
          ],
          "histogram": [
           {
            "marker": {
             "pattern": {
              "fillmode": "overlay",
              "size": 10,
              "solidity": 0.2
             }
            },
            "type": "histogram"
           }
          ],
          "histogram2d": [
           {
            "colorbar": {
             "outlinewidth": 0,
             "ticks": ""
            },
            "colorscale": [
             [
              0,
              "#0d0887"
             ],
             [
              0.1111111111111111,
              "#46039f"
             ],
             [
              0.2222222222222222,
              "#7201a8"
             ],
             [
              0.3333333333333333,
              "#9c179e"
             ],
             [
              0.4444444444444444,
              "#bd3786"
             ],
             [
              0.5555555555555556,
              "#d8576b"
             ],
             [
              0.6666666666666666,
              "#ed7953"
             ],
             [
              0.7777777777777778,
              "#fb9f3a"
             ],
             [
              0.8888888888888888,
              "#fdca26"
             ],
             [
              1,
              "#f0f921"
             ]
            ],
            "type": "histogram2d"
           }
          ],
          "histogram2dcontour": [
           {
            "colorbar": {
             "outlinewidth": 0,
             "ticks": ""
            },
            "colorscale": [
             [
              0,
              "#0d0887"
             ],
             [
              0.1111111111111111,
              "#46039f"
             ],
             [
              0.2222222222222222,
              "#7201a8"
             ],
             [
              0.3333333333333333,
              "#9c179e"
             ],
             [
              0.4444444444444444,
              "#bd3786"
             ],
             [
              0.5555555555555556,
              "#d8576b"
             ],
             [
              0.6666666666666666,
              "#ed7953"
             ],
             [
              0.7777777777777778,
              "#fb9f3a"
             ],
             [
              0.8888888888888888,
              "#fdca26"
             ],
             [
              1,
              "#f0f921"
             ]
            ],
            "type": "histogram2dcontour"
           }
          ],
          "mesh3d": [
           {
            "colorbar": {
             "outlinewidth": 0,
             "ticks": ""
            },
            "type": "mesh3d"
           }
          ],
          "parcoords": [
           {
            "line": {
             "colorbar": {
              "outlinewidth": 0,
              "ticks": ""
             }
            },
            "type": "parcoords"
           }
          ],
          "pie": [
           {
            "automargin": true,
            "type": "pie"
           }
          ],
          "scatter": [
           {
            "fillpattern": {
             "fillmode": "overlay",
             "size": 10,
             "solidity": 0.2
            },
            "type": "scatter"
           }
          ],
          "scatter3d": [
           {
            "line": {
             "colorbar": {
              "outlinewidth": 0,
              "ticks": ""
             }
            },
            "marker": {
             "colorbar": {
              "outlinewidth": 0,
              "ticks": ""
             }
            },
            "type": "scatter3d"
           }
          ],
          "scattercarpet": [
           {
            "marker": {
             "colorbar": {
              "outlinewidth": 0,
              "ticks": ""
             }
            },
            "type": "scattercarpet"
           }
          ],
          "scattergeo": [
           {
            "marker": {
             "colorbar": {
              "outlinewidth": 0,
              "ticks": ""
             }
            },
            "type": "scattergeo"
           }
          ],
          "scattergl": [
           {
            "marker": {
             "colorbar": {
              "outlinewidth": 0,
              "ticks": ""
             }
            },
            "type": "scattergl"
           }
          ],
          "scattermapbox": [
           {
            "marker": {
             "colorbar": {
              "outlinewidth": 0,
              "ticks": ""
             }
            },
            "type": "scattermapbox"
           }
          ],
          "scatterpolar": [
           {
            "marker": {
             "colorbar": {
              "outlinewidth": 0,
              "ticks": ""
             }
            },
            "type": "scatterpolar"
           }
          ],
          "scatterpolargl": [
           {
            "marker": {
             "colorbar": {
              "outlinewidth": 0,
              "ticks": ""
             }
            },
            "type": "scatterpolargl"
           }
          ],
          "scatterternary": [
           {
            "marker": {
             "colorbar": {
              "outlinewidth": 0,
              "ticks": ""
             }
            },
            "type": "scatterternary"
           }
          ],
          "surface": [
           {
            "colorbar": {
             "outlinewidth": 0,
             "ticks": ""
            },
            "colorscale": [
             [
              0,
              "#0d0887"
             ],
             [
              0.1111111111111111,
              "#46039f"
             ],
             [
              0.2222222222222222,
              "#7201a8"
             ],
             [
              0.3333333333333333,
              "#9c179e"
             ],
             [
              0.4444444444444444,
              "#bd3786"
             ],
             [
              0.5555555555555556,
              "#d8576b"
             ],
             [
              0.6666666666666666,
              "#ed7953"
             ],
             [
              0.7777777777777778,
              "#fb9f3a"
             ],
             [
              0.8888888888888888,
              "#fdca26"
             ],
             [
              1,
              "#f0f921"
             ]
            ],
            "type": "surface"
           }
          ],
          "table": [
           {
            "cells": {
             "fill": {
              "color": "#EBF0F8"
             },
             "line": {
              "color": "white"
             }
            },
            "header": {
             "fill": {
              "color": "#C8D4E3"
             },
             "line": {
              "color": "white"
             }
            },
            "type": "table"
           }
          ]
         },
         "layout": {
          "annotationdefaults": {
           "arrowcolor": "#2a3f5f",
           "arrowhead": 0,
           "arrowwidth": 1
          },
          "autotypenumbers": "strict",
          "coloraxis": {
           "colorbar": {
            "outlinewidth": 0,
            "ticks": ""
           }
          },
          "colorscale": {
           "diverging": [
            [
             0,
             "#8e0152"
            ],
            [
             0.1,
             "#c51b7d"
            ],
            [
             0.2,
             "#de77ae"
            ],
            [
             0.3,
             "#f1b6da"
            ],
            [
             0.4,
             "#fde0ef"
            ],
            [
             0.5,
             "#f7f7f7"
            ],
            [
             0.6,
             "#e6f5d0"
            ],
            [
             0.7,
             "#b8e186"
            ],
            [
             0.8,
             "#7fbc41"
            ],
            [
             0.9,
             "#4d9221"
            ],
            [
             1,
             "#276419"
            ]
           ],
           "sequential": [
            [
             0,
             "#0d0887"
            ],
            [
             0.1111111111111111,
             "#46039f"
            ],
            [
             0.2222222222222222,
             "#7201a8"
            ],
            [
             0.3333333333333333,
             "#9c179e"
            ],
            [
             0.4444444444444444,
             "#bd3786"
            ],
            [
             0.5555555555555556,
             "#d8576b"
            ],
            [
             0.6666666666666666,
             "#ed7953"
            ],
            [
             0.7777777777777778,
             "#fb9f3a"
            ],
            [
             0.8888888888888888,
             "#fdca26"
            ],
            [
             1,
             "#f0f921"
            ]
           ],
           "sequentialminus": [
            [
             0,
             "#0d0887"
            ],
            [
             0.1111111111111111,
             "#46039f"
            ],
            [
             0.2222222222222222,
             "#7201a8"
            ],
            [
             0.3333333333333333,
             "#9c179e"
            ],
            [
             0.4444444444444444,
             "#bd3786"
            ],
            [
             0.5555555555555556,
             "#d8576b"
            ],
            [
             0.6666666666666666,
             "#ed7953"
            ],
            [
             0.7777777777777778,
             "#fb9f3a"
            ],
            [
             0.8888888888888888,
             "#fdca26"
            ],
            [
             1,
             "#f0f921"
            ]
           ]
          },
          "colorway": [
           "#636efa",
           "#EF553B",
           "#00cc96",
           "#ab63fa",
           "#FFA15A",
           "#19d3f3",
           "#FF6692",
           "#B6E880",
           "#FF97FF",
           "#FECB52"
          ],
          "font": {
           "color": "#2a3f5f"
          },
          "geo": {
           "bgcolor": "white",
           "lakecolor": "white",
           "landcolor": "#E5ECF6",
           "showlakes": true,
           "showland": true,
           "subunitcolor": "white"
          },
          "hoverlabel": {
           "align": "left"
          },
          "hovermode": "closest",
          "mapbox": {
           "style": "light"
          },
          "paper_bgcolor": "white",
          "plot_bgcolor": "#E5ECF6",
          "polar": {
           "angularaxis": {
            "gridcolor": "white",
            "linecolor": "white",
            "ticks": ""
           },
           "bgcolor": "#E5ECF6",
           "radialaxis": {
            "gridcolor": "white",
            "linecolor": "white",
            "ticks": ""
           }
          },
          "scene": {
           "xaxis": {
            "backgroundcolor": "#E5ECF6",
            "gridcolor": "white",
            "gridwidth": 2,
            "linecolor": "white",
            "showbackground": true,
            "ticks": "",
            "zerolinecolor": "white"
           },
           "yaxis": {
            "backgroundcolor": "#E5ECF6",
            "gridcolor": "white",
            "gridwidth": 2,
            "linecolor": "white",
            "showbackground": true,
            "ticks": "",
            "zerolinecolor": "white"
           },
           "zaxis": {
            "backgroundcolor": "#E5ECF6",
            "gridcolor": "white",
            "gridwidth": 2,
            "linecolor": "white",
            "showbackground": true,
            "ticks": "",
            "zerolinecolor": "white"
           }
          },
          "shapedefaults": {
           "line": {
            "color": "#2a3f5f"
           }
          },
          "ternary": {
           "aaxis": {
            "gridcolor": "white",
            "linecolor": "white",
            "ticks": ""
           },
           "baxis": {
            "gridcolor": "white",
            "linecolor": "white",
            "ticks": ""
           },
           "bgcolor": "#E5ECF6",
           "caxis": {
            "gridcolor": "white",
            "linecolor": "white",
            "ticks": ""
           }
          },
          "title": {
           "x": 0.05
          },
          "xaxis": {
           "automargin": true,
           "gridcolor": "white",
           "linecolor": "white",
           "ticks": "",
           "title": {
            "standoff": 15
           },
           "zerolinecolor": "white",
           "zerolinewidth": 2
          },
          "yaxis": {
           "automargin": true,
           "gridcolor": "white",
           "linecolor": "white",
           "ticks": "",
           "title": {
            "standoff": 15
           },
           "zerolinecolor": "white",
           "zerolinewidth": 2
          }
         }
        },
        "xaxis": {
         "anchor": "y",
         "domain": [
          0,
          1
         ],
         "title": {
          "text": "Saldo natural"
         }
        },
        "yaxis": {
         "anchor": "x",
         "domain": [
          0,
          1
         ],
         "showgrid": false,
         "showticklabels": false,
         "title": {
          "text": "y"
         }
        }
       }
      }
     },
     "metadata": {},
     "output_type": "display_data"
    },
    {
     "name": "stdout",
     "output_type": "stream",
     "text": [
      "saldo_natural\n",
      "0     49\n",
      "1    254\n",
      "2      5\n",
      "Name: count, dtype: int64\n",
      "File saved to csv_files/5_Saldo_Natural.csv\n"
     ]
    }
   ],
   "source": [
    "clustered_df = aplicar_kmeans(df_saldo_natural, 3, nome_cluster='saldo_natural')\n",
    "save_clustered_df_to_csv(clustered_df, \"csv_files/\", \"5_Saldo_Natural.csv\")"
   ]
  },
  {
   "cell_type": "markdown",
   "id": "3425cc2e",
   "metadata": {},
   "source": [
    "### Análise Taxa de Crescimento"
   ]
  },
  {
   "cell_type": "code",
   "execution_count": 24,
   "id": "ae25407e",
   "metadata": {},
   "outputs": [
    {
     "data": {
      "text/html": [
       "<div>\n",
       "<style scoped>\n",
       "    .dataframe tbody tr th:only-of-type {\n",
       "        vertical-align: middle;\n",
       "    }\n",
       "\n",
       "    .dataframe tbody tr th {\n",
       "        vertical-align: top;\n",
       "    }\n",
       "\n",
       "    .dataframe thead th {\n",
       "        text-align: right;\n",
       "    }\n",
       "</style>\n",
       "<table border=\"1\" class=\"dataframe\">\n",
       "  <thead>\n",
       "    <tr style=\"text-align: right;\">\n",
       "      <th></th>\n",
       "      <th>local</th>\n",
       "      <th>codigo</th>\n",
       "      <th>Taxa de crescimento efetivo</th>\n",
       "    </tr>\n",
       "  </thead>\n",
       "  <tbody>\n",
       "    <tr>\n",
       "      <th>4</th>\n",
       "      <td>Arcos de Valdevez</td>\n",
       "      <td>1111601</td>\n",
       "      <td>0.70</td>\n",
       "    </tr>\n",
       "    <tr>\n",
       "      <th>5</th>\n",
       "      <td>Caminha</td>\n",
       "      <td>1111602</td>\n",
       "      <td>1.45</td>\n",
       "    </tr>\n",
       "    <tr>\n",
       "      <th>6</th>\n",
       "      <td>Melgaço</td>\n",
       "      <td>1111603</td>\n",
       "      <td>-0.21</td>\n",
       "    </tr>\n",
       "    <tr>\n",
       "      <th>7</th>\n",
       "      <td>Monção</td>\n",
       "      <td>1111604</td>\n",
       "      <td>0.65</td>\n",
       "    </tr>\n",
       "    <tr>\n",
       "      <th>8</th>\n",
       "      <td>Paredes de Coura</td>\n",
       "      <td>1111605</td>\n",
       "      <td>0.38</td>\n",
       "    </tr>\n",
       "    <tr>\n",
       "      <th>...</th>\n",
       "      <td>...</td>\n",
       "      <td>...</td>\n",
       "      <td>...</td>\n",
       "    </tr>\n",
       "    <tr>\n",
       "      <th>339</th>\n",
       "      <td>Porto Santo</td>\n",
       "      <td>3003201</td>\n",
       "      <td>3.70</td>\n",
       "    </tr>\n",
       "    <tr>\n",
       "      <th>340</th>\n",
       "      <td>Ribeira Brava</td>\n",
       "      <td>3003107</td>\n",
       "      <td>1.67</td>\n",
       "    </tr>\n",
       "    <tr>\n",
       "      <th>341</th>\n",
       "      <td>Santa Cruz</td>\n",
       "      <td>3003108</td>\n",
       "      <td>1.47</td>\n",
       "    </tr>\n",
       "    <tr>\n",
       "      <th>342</th>\n",
       "      <td>Santana</td>\n",
       "      <td>3003109</td>\n",
       "      <td>0.48</td>\n",
       "    </tr>\n",
       "    <tr>\n",
       "      <th>343</th>\n",
       "      <td>São Vicente</td>\n",
       "      <td>3003110</td>\n",
       "      <td>2.13</td>\n",
       "    </tr>\n",
       "  </tbody>\n",
       "</table>\n",
       "<p>308 rows × 3 columns</p>\n",
       "</div>"
      ],
      "text/plain": [
       "                 local   codigo  Taxa de crescimento efetivo\n",
       "4    Arcos de Valdevez  1111601                         0.70\n",
       "5              Caminha  1111602                         1.45\n",
       "6              Melgaço  1111603                        -0.21\n",
       "7               Monção  1111604                         0.65\n",
       "8     Paredes de Coura  1111605                         0.38\n",
       "..                 ...      ...                          ...\n",
       "339        Porto Santo  3003201                         3.70\n",
       "340      Ribeira Brava  3003107                         1.67\n",
       "341         Santa Cruz  3003108                         1.47\n",
       "342            Santana  3003109                         0.48\n",
       "343        São Vicente  3003110                         2.13\n",
       "\n",
       "[308 rows x 3 columns]"
      ]
     },
     "execution_count": 24,
     "metadata": {},
     "output_type": "execute_result"
    }
   ],
   "source": [
    "df_taxa_crescimento = processar_ficheiro(data_path+'Taxa de crescimento efetivo.xls', 0)\n",
    "df_taxa_crescimento = carregar_municipios(df_taxa_crescimento)\n",
    "#save_clustered_df_to_csv(df_taxa_crescimento, \"csv_bruto/\", \"5_Taxa_crescimento.csv\")\n",
    "df_taxa_crescimento"
   ]
  },
  {
   "cell_type": "code",
   "execution_count": 25,
   "id": "0af604bd",
   "metadata": {},
   "outputs": [
    {
     "data": {
      "image/png": "[encoded data removed]",
      "text/plain": [
       "<Figure size 800x500 with 1 Axes>"
      ]
     },
     "metadata": {},
     "output_type": "display_data"
    }
   ],
   "source": [
    "elbow_rule(df_taxa_crescimento, max_k=10)"
   ]
  },
  {
   "cell_type": "code",
   "execution_count": 26,
   "id": "6a284a30",
   "metadata": {},
   "outputs": [
    {
     "data": {
      "application/vnd.plotly.v1+json": {
       "config": {
        "plotlyServerURL": "https://plot.ly"
       },
       "data": [
        {
         "customdata": [
          [
           "Arcos de Valdevez",
           "1111601",
           0.7
          ],
          [
           "Caminha",
           "1111602",
           1.45
          ],
          [
           "Melgaço",
           "1111603",
           -0.21
          ],
          [
           "Monção",
           "1111604",
           0.65
          ],
          [
           "Paredes de Coura",
           "1111605",
           0.38
          ],
          [
           "Ponte da Barca",
           "1111606",
           0.66
          ],
          [
           "Ponte de Lima",
           "1111607",
           0.16
          ],
          [
           "Valença",
           "1111608",
           1.62
          ],
          [
           "Viana do Castelo",
           "1111609",
           0.61
          ],
          [
           "Vila Nova de Cerveira",
           "1111610",
           1.47
          ],
          [
           "Amares",
           "1120301",
           1.86
          ],
          [
           "Barcelos",
           "1120302",
           0.27
          ],
          [
           "Braga",
           "1120303",
           1.66
          ],
          [
           "Esposende",
           "1120306",
           1.81
          ],
          [
           "Terras de Bouro",
           "1120310",
           0.34
          ],
          [
           "Vila Verde",
           "1120313",
           1.31
          ],
          [
           "Cabeceiras de Basto",
           "1190304",
           0.33
          ],
          [
           "Fafe",
           "1190307",
           0.34
          ],
          [
           "Guimarães",
           "1190308",
           0.19
          ],
          [
           "Mondim de Basto",
           "1191705",
           -0.06
          ],
          [
           "Póvoa de Lanhoso",
           "1190309",
           1.32
          ],
          [
           "Vieira do Minho",
           "1190311",
           0.72
          ],
          [
           "Vila Nova de Famalicão",
           "1190312",
           0.68
          ],
          [
           "Vizela",
           "1190314",
           0.95
          ],
          [
           "Arouca",
           "11A0104",
           -0.12
          ],
          [
           "Espinho",
           "11A0107",
           1.58
          ],
          [
           "Gondomar",
           "11A1304",
           0.79
          ],
          [
           "Maia",
           "11A1306",
           1.6
          ],
          [
           "Matosinhos",
           "11A1308",
           1.35
          ],
          [
           "Oliveira de Azeméis",
           "11A0113",
           0.61
          ],
          [
           "Paredes",
           "11A1310",
           0.74
          ],
          [
           "Porto",
           "11A1312",
           2.34
          ],
          [
           "Póvoa de Varzim",
           "11A1313",
           1.89
          ],
          [
           "Santa Maria da Feira",
           "11A0109",
           0.92
          ],
          [
           "Santo Tirso",
           "11A1314",
           0.18
          ],
          [
           "São João da Madeira",
           "11A0116",
           2.18
          ],
          [
           "Trofa",
           "11A1318",
           1.05
          ],
          [
           "Vale de Cambra",
           "11A0119",
           0.03
          ],
          [
           "Valongo",
           "11A1315",
           1.77
          ],
          [
           "Vila do Conde",
           "11A1316",
           1.59
          ],
          [
           "Vila Nova de Gaia",
           "11A1317",
           0.87
          ],
          [
           "Boticas",
           "11B1702",
           -0.29
          ],
          [
           "Chaves",
           "11B1703",
           0.25
          ],
          [
           "Montalegre",
           "11B1706",
           0.03
          ],
          [
           "Ribeira de Pena",
           "11B1709",
           0.43
          ],
          [
           "Valpaços",
           "11B1712",
           0.23
          ],
          [
           "Vila Pouca de Aguiar",
           "11B1713",
           0.16
          ],
          [
           "Amarante",
           "11C1301",
           0.31
          ],
          [
           "Baião",
           "11C1302",
           -0.45
          ],
          [
           "Castelo de Paiva",
           "11C0106",
           0.36
          ],
          [
           "Celorico de Basto",
           "11C0305",
           0.45
          ],
          [
           "Cinfães",
           "11C1804",
           -0.73
          ],
          [
           "Felgueiras",
           "11C1303",
           0.02
          ],
          [
           "Lousada",
           "11C1305",
           0.79
          ],
          [
           "Marco de Canaveses",
           "11C1307",
           0.23
          ],
          [
           "Paços de Ferreira",
           "11C1309",
           0.18
          ],
          [
           "Penafiel",
           "11C1311",
           0.46
          ],
          [
           "Resende",
           "11C1813",
           -1
          ],
          [
           "Alijó",
           "11D1701",
           -0.37
          ],
          [
           "Armamar",
           "11D1801",
           -0.76
          ],
          [
           "Carrazeda de Ansiães",
           "11D0403",
           -0.11
          ],
          [
           "Freixo de Espada à Cinta",
           "11D0404",
           -1.01
          ],
          [
           "Lamego",
           "11D1805",
           -0.14
          ],
          [
           "Mesão Frio",
           "11D1704",
           -0.83
          ],
          [
           "Moimenta da Beira",
           "11D1807",
           1.21
          ],
          [
           "Murça",
           "11D1707",
           0.63
          ],
          [
           "Penedono",
           "11D1812",
           0.46
          ],
          [
           "Peso da Régua",
           "11D1708",
           -0.17
          ],
          [
           "Sabrosa",
           "11D1710",
           0.64
          ],
          [
           "Santa Marta de Penaguião",
           "11D1711",
           -0.17
          ],
          [
           "São João da Pesqueira",
           "11D1815",
           -0.06
          ],
          [
           "Sernancelhe",
           "11D1818",
           0.95
          ],
          [
           "Tabuaço",
           "11D1819",
           0.18
          ],
          [
           "Tarouca",
           "11D1820",
           1.82
          ],
          [
           "Torre de Moncorvo",
           "11D0409",
           -0.09
          ],
          [
           "Vila Nova de Foz Côa",
           "11D0914",
           0.8
          ],
          [
           "Vila Real",
           "11D1714",
           0.53
          ],
          [
           "Alfândega da Fé",
           "11E0401",
           -0.54
          ],
          [
           "Bragança",
           "11E0402",
           1.1
          ],
          [
           "Macedo de Cavaleiros",
           "11E0405",
           0.54
          ],
          [
           "Miranda do Douro",
           "11E0406",
           -0.87
          ],
          [
           "Mirandela",
           "11E0407",
           0.32
          ],
          [
           "Mogadouro",
           "11E0408",
           -0.28
          ],
          [
           "Vila Flor",
           "11E0410",
           0.18
          ],
          [
           "Vimioso",
           "11E0411",
           0.7
          ],
          [
           "Vinhais",
           "11E0412",
           -0.84
          ],
          [
           "Alcobaça",
           "16B1001",
           1.79
          ],
          [
           "Alenquer",
           "16B1101",
           2.94
          ],
          [
           "Arruda dos Vinhos",
           "16B1102",
           2.72
          ],
          [
           "Bombarral",
           "16B1005",
           3.2
          ],
          [
           "Cadaval",
           "16B1104",
           2.58
          ],
          [
           "Caldas da Rainha",
           "16B1006",
           2.63
          ],
          [
           "Lourinhã",
           "16B1108",
           2.55
          ],
          [
           "Nazaré",
           "16B1011",
           2.23
          ],
          [
           "Óbidos",
           "16B1012",
           3.58
          ],
          [
           "Peniche",
           "16B1014",
           1.5
          ],
          [
           "Sobral de Monte Agraço",
           "16B1112",
           3.52
          ],
          [
           "Torres Vedras",
           "16B1113",
           2.2
          ],
          [
           "Águeda",
           "16D0101",
           1.19
          ],
          [
           "Albergaria-a-Velha",
           "16D0102",
           1.78
          ],
          [
           "Anadia",
           "16D0103",
           1.17
          ],
          [
           "Aveiro",
           "16D0105",
           2.63
          ],
          [
           "Estarreja",
           "16D0108",
           1.64
          ],
          [
           "Ílhavo",
           "16D0110",
           2.87
          ],
          [
           "Murtosa",
           "16D0112",
           2.88
          ],
          [
           "Oliveira do Bairro",
           "16D0114",
           3.27
          ],
          [
           "Ovar",
           "16D0115",
           1.51
          ],
          [
           "Sever do Vouga",
           "16D0117",
           0.27
          ],
          [
           "Vagos",
           "16D0118",
           3.01
          ],
          [
           "Arganil",
           "16E0601",
           1.53
          ],
          [
           "Cantanhede",
           "16E0602",
           1.36
          ],
          [
           "Coimbra",
           "16E0603",
           1.4
          ],
          [
           "Condeixa-a-Nova",
           "16E0604",
           2.02
          ],
          [
           "Figueira da Foz",
           "16E0605",
           1.41
          ],
          [
           "Góis",
           "16E0606",
           0.71
          ],
          [
           "Lousã",
           "16E0607",
           1.17
          ],
          [
           "Mealhada",
           "16E0111",
           0.83
          ],
          [
           "Mira",
           "16E0608",
           1.87
          ],
          [
           "Miranda do Corvo",
           "16E0609",
           0.71
          ],
          [
           "Montemor-o-Velho",
           "16E0610",
           0.68
          ],
          [
           "Mortágua",
           "16E1808",
           1.27
          ],
          [
           "Oliveira do Hospital",
           "16E0611",
           0.78
          ],
          [
           "Pampilhosa da Serra",
           "16E0612",
           1.56
          ],
          [
           "Penacova",
           "16E0613",
           0.24
          ],
          [
           "Penela",
           "16E0614",
           1.36
          ],
          [
           "Soure",
           "16E0615",
           0.52
          ],
          [
           "Tábua",
           "16E0616",
           1.67
          ],
          [
           "Vila Nova de Poiares",
           "16E0617",
           1.2
          ],
          [
           "Alvaiázere",
           "16F1002",
           1.03
          ],
          [
           "Ansião",
           "16F1003",
           1.36
          ],
          [
           "Batalha",
           "16F1004",
           2.64
          ],
          [
           "Castanheira de Pêra",
           "16F1007",
           1.04
          ],
          [
           "Figueiró dos Vinhos",
           "16F1008",
           1.09
          ],
          [
           "Leiria",
           "16F1009",
           1.78
          ],
          [
           "Marinha Grande",
           "16F1010",
           2.15
          ],
          [
           "Pedrógão Grande",
           "16F1013",
           2.85
          ],
          [
           "Pombal",
           "16F1015",
           1.3
          ],
          [
           "Porto de Mós",
           "16F1016",
           1.39
          ],
          [
           "Aguiar da Beira",
           "16G0901",
           0.34
          ],
          [
           "Carregal do Sal",
           "16G1802",
           1.08
          ],
          [
           "Castro Daire",
           "16G1803",
           0.8
          ],
          [
           "Mangualde",
           "16G1806",
           1.42
          ],
          [
           "Nelas",
           "16G1809",
           1.27
          ],
          [
           "Oliveira de Frades",
           "16G1810",
           1.44
          ],
          [
           "Penalva do Castelo",
           "16G1811",
           0.85
          ],
          [
           "Santa Comba Dão",
           "16G1814",
           1.11
          ],
          [
           "São Pedro do Sul",
           "16G1816",
           0.87
          ],
          [
           "Sátão",
           "16G1817",
           0.92
          ],
          [
           "Tondela",
           "16G1821",
           0.67
          ],
          [
           "Vila Nova de Paiva",
           "16G1822",
           1.33
          ],
          [
           "Viseu",
           "16G1823",
           1.59
          ],
          [
           "Vouzela",
           "16G1824",
           1.16
          ],
          [
           "Castelo Branco",
           "16H0502",
           0.78
          ],
          [
           "Idanha-a-Nova",
           "16H0505",
           1.02
          ],
          [
           "Oleiros",
           "16H0506",
           0.18
          ],
          [
           "Penamacor",
           "16H0507",
           1.03
          ],
          [
           "Proença-a-Nova",
           "16H0508",
           -0.17
          ],
          [
           "Vila Velha de Ródão",
           "16H0511",
           1.37
          ],
          [
           "Abrantes",
           "16I1401",
           -0.14
          ],
          [
           "Alcanena",
           "16I1402",
           1.07
          ],
          [
           "Constância",
           "16I1408",
           2.07
          ],
          [
           "Entroncamento",
           "16I1410",
           2.95
          ],
          [
           "Ferreira do Zêzere",
           "16I1411",
           1.52
          ],
          [
           "Mação",
           "16I1413",
           0.23
          ],
          [
           "Ourém",
           "16I1421",
           1.77
          ],
          [
           "Sardoal",
           "16I1417",
           1.5
          ],
          [
           "Sertã",
           "16I0509",
           0.23
          ],
          [
           "Tomar",
           "16I1418",
           1.1
          ],
          [
           "Torres Novas",
           "16I1419",
           0.92
          ],
          [
           "Vila de Rei",
           "16I0510",
           1.11
          ],
          [
           "Vila Nova da Barquinha",
           "16I1420",
           3.69
          ],
          [
           "Almeida",
           "16J0902",
           -0.37
          ],
          [
           "Belmonte",
           "16J0501",
           0.61
          ],
          [
           "Celorico da Beira",
           "16J0903",
           1.02
          ],
          [
           "Covilhã",
           "16J0503",
           0.64
          ],
          [
           "Figueira de Castelo Rodrigo",
           "16J0904",
           -0.42
          ],
          [
           "Fornos de Algodres",
           "16J0905",
           0.23
          ],
          [
           "Fundão",
           "16J0504",
           1.31
          ],
          [
           "Gouveia",
           "16J0906",
           0.88
          ],
          [
           "Guarda",
           "16J0907",
           0.3
          ],
          [
           "Manteigas",
           "16J0908",
           0.2
          ],
          [
           "Mêda",
           "16J0909",
           -0.09
          ],
          [
           "Pinhel",
           "16J0910",
           -0.61
          ],
          [
           "Sabugal",
           "16J0911",
           0.54
          ],
          [
           "Seia",
           "16J0912",
           0
          ],
          [
           "Trancoso",
           "16J0913",
           0.29
          ],
          [
           "Alcochete",
           "1701502",
           1.39
          ],
          [
           "Almada",
           "1701503",
           1.03
          ],
          [
           "Amadora",
           "1701115",
           1.78
          ],
          [
           "Barreiro",
           "1701504",
           1.21
          ],
          [
           "Cascais",
           "1701105",
           1.1
          ],
          [
           "Lisboa",
           "1701106",
           1.71
          ],
          [
           "Loures",
           "1701107",
           1.29
          ],
          [
           "Mafra",
           "1701109",
           0.87
          ],
          [
           "Moita",
           "1701506",
           1.61
          ],
          [
           "Montijo",
           "1701507",
           1.97
          ],
          [
           "Odivelas",
           "1701116",
           1.68
          ],
          [
           "Oeiras",
           "1701110",
           1.05
          ],
          [
           "Palmela",
           "1701508",
           1.78
          ],
          [
           "Seixal",
           "1701510",
           1.72
          ],
          [
           "Sesimbra",
           "1701511",
           1.62
          ],
          [
           "Setúbal",
           "1701512",
           0.23
          ],
          [
           "Sintra",
           "1701111",
           1.24
          ],
          [
           "Vila Franca de Xira",
           "1701114",
           0.71
          ],
          [
           "Alcácer do Sal",
           "1811501",
           0.23
          ],
          [
           "Grândola",
           "1811505",
           1.15
          ],
          [
           "Odemira",
           "1810211",
           3.66
          ],
          [
           "Santiago do Cacém",
           "1811509",
           0.43
          ],
          [
           "Sines",
           "1811513",
           0.86
          ],
          [
           "Aljustrel",
           "1840201",
           0.17
          ],
          [
           "Almodôvar",
           "1840202",
           0.07
          ],
          [
           "Alvito",
           "1840203",
           0.7
          ],
          [
           "Barrancos",
           "1840204",
           -1.87
          ],
          [
           "Beja",
           "1840205",
           0.66
          ],
          [
           "Castro Verde",
           "1840206",
           0.11
          ],
          [
           "Cuba",
           "1840207",
           0.52
          ],
          [
           "Ferreira do Alentejo",
           "1840208",
           0.61
          ],
          [
           "Mértola",
           "1840209",
           -0.68
          ],
          [
           "Moura",
           "1840210",
           -0.05
          ],
          [
           "Ourique",
           "1840212",
           0.21
          ],
          [
           "Serpa",
           "1840213",
           -0.1
          ],
          [
           "Vidigueira",
           "1840214",
           -0.23
          ],
          [
           "Almeirim",
           "1851403",
           1.01
          ],
          [
           "Alpiarça",
           "1851404",
           1.62
          ],
          [
           "Azambuja",
           "1851103",
           2.51
          ],
          [
           "Benavente",
           "1851405",
           2.28
          ],
          [
           "Cartaxo",
           "1851406",
           1.5
          ],
          [
           "Chamusca",
           "1851407",
           -0.34
          ],
          [
           "Coruche",
           "1851409",
           -0.05
          ],
          [
           "Golegã",
           "1851412",
           0.46
          ],
          [
           "Rio Maior",
           "1851414",
           1.64
          ],
          [
           "Salvaterra de Magos",
           "1851415",
           2.05
          ],
          [
           "Santarém",
           "1851416",
           1.11
          ],
          [
           "Alter do Chão",
           "1861201",
           0.5
          ],
          [
           "Arronches",
           "1861202",
           -0.29
          ],
          [
           "Avis",
           "1861203",
           0.47
          ],
          [
           "Campo Maior",
           "1861204",
           -0.5
          ],
          [
           "Castelo de Vide",
           "1861205",
           -0.41
          ],
          [
           "Crato",
           "1861206",
           0.4
          ],
          [
           "Elvas",
           "1861207",
           -0.2
          ],
          [
           "Fronteira",
           "1861208",
           1.12
          ],
          [
           "Gavião",
           "1861209",
           -1.11
          ],
          [
           "Marvão",
           "1861210",
           -0.43
          ],
          [
           "Monforte",
           "1861211",
           0.9
          ],
          [
           "Nisa",
           "1861212",
           -0.68
          ],
          [
           "Ponte de Sor",
           "1861213",
           -0.06
          ],
          [
           "Portalegre",
           "1861214",
           -0.63
          ],
          [
           "Sousel",
           "1861215",
           0.16
          ],
          [
           "Alandroal",
           "1870701",
           -0.26
          ],
          [
           "Arraiolos",
           "1870702",
           0.5
          ],
          [
           "Borba",
           "1870703",
           -0.08
          ],
          [
           "Estremoz",
           "1870704",
           -0.61
          ],
          [
           "Évora",
           "1870705",
           0.28
          ],
          [
           "Montemor-o-Novo",
           "1870706",
           0.35
          ],
          [
           "Mora",
           "1870707",
           -0.53
          ],
          [
           "Mourão",
           "1870708",
           1.16
          ],
          [
           "Portel",
           "1870709",
           0.02
          ],
          [
           "Redondo",
           "1870710",
           0.41
          ],
          [
           "Reguengos de Monsaraz",
           "1870711",
           0.41
          ],
          [
           "Vendas Novas",
           "1870712",
           0.75
          ],
          [
           "Viana do Alentejo",
           "1870713",
           0.71
          ],
          [
           "Vila Viçosa",
           "1870714",
           -0.3
          ],
          [
           "Albufeira",
           "1500801",
           2.15
          ],
          [
           "Alcoutim",
           "1500802",
           -1.85
          ],
          [
           "Aljezur",
           "1500803",
           1.65
          ],
          [
           "Castro Marim",
           "1500804",
           1.61
          ],
          [
           "Faro",
           "1500805",
           0.79
          ],
          [
           "Lagoa",
           "1500806",
           1.67
          ],
          [
           "Lagos",
           "1500807",
           1.18
          ],
          [
           "Loulé",
           "1500808",
           1.11
          ],
          [
           "Monchique",
           "1500809",
           -0.75
          ],
          [
           "Olhão",
           "1500810",
           0.5
          ],
          [
           "Portimão",
           "1500811",
           1.44
          ],
          [
           "São Brás de Alportel",
           "1500812",
           0.93
          ],
          [
           "Silves",
           "1500813",
           1.38
          ],
          [
           "Tavira",
           "1500814",
           0.68
          ],
          [
           "Vila do Bispo",
           "1500815",
           0.98
          ],
          [
           "Vila Real de Santo António",
           "1500816",
           0.83
          ],
          [
           "Angra do Heroísmo",
           "2004301",
           -0.37
          ],
          [
           "Calheta",
           "2004501",
           -0.57
          ],
          [
           "Corvo",
           "2004901",
           0.23
          ],
          [
           "Horta",
           "2004701",
           0.21
          ],
          [
           "Lagoa",
           "2004201",
           1.32
          ],
          [
           "Lajes das Flores",
           "2004801",
           0.49
          ],
          [
           "Lajes do Pico",
           "2004601",
           0.41
          ],
          [
           "Madalena",
           "2004602",
           0.74
          ],
          [
           "Nordeste",
           "2004202",
           -0.05
          ],
          [
           "Ponta Delgada",
           "2004203",
           0.55
          ],
          [
           "Povoação",
           "2004204",
           -0.26
          ],
          [
           "Ribeira Grande",
           "2004205",
           0.74
          ],
          [
           "Santa Cruz da Graciosa",
           "2004401",
           -0.29
          ],
          [
           "Santa Cruz das Flores",
           "2004802",
           1.39
          ],
          [
           "São Roque do Pico",
           "2004603",
           1.57
          ],
          [
           "Velas",
           "2004502",
           0.02
          ],
          [
           "Vila da Praia da Vitória",
           "2004302",
           0.37
          ],
          [
           "Vila do Porto",
           "2004101",
           -0.13
          ],
          [
           "Vila Franca do Campo",
           "2004206",
           0.1
          ],
          [
           "Calheta",
           "3003101",
           1.69
          ],
          [
           "Câmara de Lobos",
           "3003102",
           1.12
          ],
          [
           "Funchal",
           "3003103",
           0.52
          ],
          [
           "Machico",
           "3003104",
           0.23
          ],
          [
           "Ponta do Sol",
           "3003105",
           1.98
          ],
          [
           "Porto Moniz",
           "3003106",
           1.11
          ],
          [
           "Porto Santo",
           "3003201",
           3.7
          ],
          [
           "Ribeira Brava",
           "3003107",
           1.67
          ],
          [
           "Santa Cruz",
           "3003108",
           1.47
          ],
          [
           "Santana",
           "3003109",
           0.48
          ],
          [
           "São Vicente",
           "3003110",
           2.13
          ]
         ],
         "hovertemplate": "valor=%{x}<br>y=%{y}<br>local=%{customdata[0]}<br>codigo=%{customdata[1]}<br>Taxa de crescimento efetivo=%{customdata[2]}<br>taxa_crescimento=%{marker.color}<extra></extra>",
         "legendgroup": "",
         "marker": {
          "color": [
           1,
           1,
           0,
           1,
           0,
           1,
           0,
           1,
           1,
           1,
           1,
           0,
           1,
           1,
           0,
           1,
           0,
           0,
           0,
           0,
           1,
           1,
           1,
           1,
           0,
           1,
           1,
           1,
           1,
           1,
           1,
           2,
           1,
           1,
           0,
           2,
           1,
           0,
           1,
           1,
           1,
           0,
           0,
           0,
           0,
           0,
           0,
           0,
           0,
           0,
           0,
           0,
           0,
           1,
           0,
           0,
           0,
           0,
           0,
           0,
           0,
           0,
           0,
           0,
           1,
           1,
           0,
           0,
           1,
           0,
           0,
           1,
           0,
           1,
           0,
           1,
           0,
           0,
           1,
           0,
           0,
           0,
           0,
           0,
           1,
           0,
           1,
           2,
           2,
           2,
           2,
           2,
           2,
           2,
           2,
           1,
           2,
           2,
           1,
           1,
           1,
           2,
           1,
           2,
           2,
           2,
           1,
           0,
           2,
           1,
           1,
           1,
           2,
           1,
           1,
           1,
           1,
           1,
           1,
           1,
           1,
           1,
           1,
           0,
           1,
           0,
           1,
           1,
           1,
           1,
           2,
           1,
           1,
           1,
           2,
           2,
           1,
           1,
           0,
           1,
           1,
           1,
           1,
           1,
           1,
           1,
           1,
           1,
           1,
           1,
           1,
           1,
           1,
           1,
           0,
           1,
           0,
           1,
           0,
           1,
           2,
           2,
           1,
           0,
           1,
           1,
           0,
           1,
           1,
           1,
           2,
           0,
           1,
           1,
           1,
           0,
           0,
           1,
           1,
           0,
           0,
           0,
           0,
           0,
           0,
           0,
           1,
           1,
           1,
           1,
           1,
           1,
           1,
           1,
           1,
           2,
           1,
           1,
           1,
           1,
           1,
           0,
           1,
           1,
           0,
           1,
           2,
           0,
           1,
           0,
           0,
           1,
           0,
           1,
           0,
           0,
           1,
           0,
           0,
           0,
           0,
           0,
           1,
           1,
           2,
           2,
           1,
           0,
           0,
           0,
           1,
           2,
           1,
           0,
           0,
           0,
           0,
           0,
           0,
           0,
           1,
           0,
           0,
           1,
           0,
           0,
           0,
           0,
           0,
           0,
           0,
           0,
           0,
           0,
           0,
           1,
           0,
           0,
           0,
           1,
           1,
           0,
           2,
           0,
           1,
           1,
           1,
           1,
           1,
           1,
           0,
           0,
           1,
           1,
           1,
           1,
           1,
           1,
           0,
           0,
           0,
           0,
           1,
           0,
           0,
           1,
           0,
           0,
           0,
           1,
           0,
           1,
           1,
           0,
           0,
           0,
           0,
           1,
           1,
           0,
           0,
           2,
           1,
           2,
           1,
           1,
           0,
           2
          ],
          "coloraxis": "coloraxis",
          "size": 10,
          "symbol": "circle"
         },
         "mode": "markers",
         "name": "",
         "orientation": "v",
         "showlegend": false,
         "type": "scatter",
         "x": [
          -0.1547712828499419,
          0.6297836071728058,
          -1.106697882744209,
          -0.2070749421847917,
          -0.48951470259298085,
          -0.19661421031782172,
          -0.7196508036663202,
          0.8076160489112953,
          -0.2489178696526716,
          0.6507050709067457,
          1.0586736137185744,
          -0.6045827531296505,
          0.849458976379175,
          1.0063699543837248,
          -0.5313576300608608,
          0.4833333610352263,
          -0.5418183619278307,
          -0.5313576300608608,
          -0.6882686080654102,
          -0.9497869047396594,
          0.4937940929021963,
          -0.13384981911600197,
          -0.17569274658388176,
          0.1067470138243073,
          -1.0125512959414793,
          0.7657731214434155,
          -0.060624696047212115,
          0.7866945851773554,
          0.5251762885031062,
          -0.2489178696526716,
          -0.112928355382062,
          1.5607887433331329,
          1.090055809319484,
          0.07536481822339748,
          -0.6987293399323802,
          1.3934170334616138,
          0.2113543324940071,
          -0.8556403179369297,
          0.9645270269158448,
          0.7762338533103854,
          0.023061158888547595,
          -1.1903837376799686,
          -0.6255042168635905,
          -0.8556403179369297,
          -0.43721104325813104,
          -0.6464256805975305,
          -0.7196508036663202,
          -0.5627398256617707,
          -1.3577554475514884,
          -0.5104361663269208,
          -0.4162895795241911,
          -1.6506559398266472,
          -0.8661010498038997,
          -0.060624696047212115,
          -0.6464256805975305,
          -0.6987293399323802,
          -0.4058288476572211,
          -1.9330957002348363,
          -1.2740695926157286,
          -1.6820381354275575,
          -1.0020905640745092,
          -1.9435564321018066,
          -1.0334727596754192,
          -1.755263258496347,
          0.3787260423655265,
          -0.22799640591873166,
          -0.4058288476572211,
          -1.0648549552763291,
          -0.21753567405176166,
          -1.0648549552763291,
          -0.9497869047396594,
          0.1067470138243073,
          -0.6987293399323802,
          1.0168306862506946,
          -0.9811691003405694,
          -0.05016396418024214,
          -0.3326037245884313,
          -1.451902034354218,
          0.26365799182885696,
          -0.32214299272146135,
          -1.797106185964227,
          -0.5522790937948008,
          -1.179923005812999,
          -0.6987293399323802,
          -0.1547712828499419,
          -1.765723990363317,
          0.9854484906497848,
          2.188432655351331,
          1.9582965542779922,
          2.4604116838925507,
          1.8118463081404124,
          1.8641499674752622,
          1.7804641125395022,
          1.4457206927964634,
          2.857919494837409,
          0.6820872665076556,
          2.7951551036355893,
          1.4143384971955537,
          0.35780457863158655,
          0.9749877587828147,
          0.3368831148976466,
          1.8641499674752622,
          0.8285375126452351,
          2.1152075322825414,
          2.1256682641495113,
          2.5336368069613404,
          0.6925479983746257,
          -0.6045827531296505,
          2.261657778420121,
          0.7134694621085655,
          0.5356370203700762,
          0.5774799478379559,
          1.226045323590094,
          0.5879406797049258,
          -0.14431055098297194,
          0.3368831148976466,
          -0.01878176857933232,
          1.0691343455855447,
          -0.14431055098297194,
          -0.17569274658388176,
          0.44149043356734635,
          -0.0710854279141821,
          0.7448516577094755,
          -0.6359649487305604,
          0.5356370203700762,
          -0.3430644564554013,
          0.859919708246145,
          0.36826531049855654,
          0.19043286876006713,
          0.5356370203700762,
          1.8746106993422322,
          0.2008936006270371,
          0.253197259961887,
          0.9749877587828147,
          1.3620348378607037,
          2.0942860685486018,
          0.4728726291682563,
          0.5670192159709859,
          -0.5313576300608608,
          0.24273652809491703,
          -0.05016396418024214,
          0.5984014115718959,
          0.44149043356734635,
          0.6193228753058357,
          0.002139695154607638,
          0.27411872369582696,
          0.023061158888547595,
          0.07536481822339748,
          -0.18615347845085173,
          0.5042548247691663,
          0.7762338533103854,
          0.3264223830306766,
          -0.0710854279141821,
          0.17997213689309716,
          -0.6987293399323802,
          0.19043286876006713,
          -1.0648549552763291,
          0.5460977522370462,
          -1.0334727596754192,
          0.23227579622794703,
          1.2783489829249437,
          2.1988933872183014,
          0.7030087302415956,
          -0.6464256805975305,
          0.9645270269158448,
          0.6820872665076556,
          -0.6464256805975305,
          0.26365799182885696,
          0.07536481822339748,
          0.27411872369582696,
          2.972987545374079,
          -1.2740695926157286,
          -0.2489178696526716,
          0.17997213689309716,
          -0.21753567405176166,
          -1.3263732519505784,
          -0.6464256805975305,
          0.4833333610352263,
          0.03352189075551757,
          -0.5732005575287407,
          -0.6778078761984402,
          -0.9811691003405694,
          -1.5251271574230079,
          -0.32214299272146135,
          -0.8870225135378397,
          -0.5836612893957107,
          0.5670192159709859,
          0.19043286876006713,
          0.9749877587828147,
          0.3787260423655265,
          0.26365799182885696,
          0.9017626357140249,
          0.46241189730128635,
          0.023061158888547595,
          0.7971553170443254,
          1.173741664255244,
          0.870380440113115,
          0.2113543324940071,
          0.9749877587828147,
          0.9122233675809949,
          0.8076160489112953,
          -0.6464256805975305,
          0.4101082379664364,
          -0.14431055098297194,
          -0.6464256805975305,
          0.3159616511637066,
          2.941605349773169,
          -0.43721104325813104,
          0.012600427021577616,
          -0.7091900717993501,
          -0.81379739046905,
          -0.1547712828499419,
          -2.843179372661224,
          -0.19661421031782172,
          -0.77195446300117,
          -0.3430644564554013,
          -0.2489178696526716,
          -1.5983522804917976,
          -0.9393261728726896,
          -0.6673471443314704,
          -0.9916298322075393,
          -1.127619346478149,
          0.16951140502612716,
          0.8076160489112953,
          1.7386211850716224,
          1.498024352131313,
          0.6820872665076556,
          -1.2426873970148187,
          -0.9393261728726896,
          -0.4058288476572211,
          0.8285375126452351,
          1.2574275191910038,
          0.27411872369582696,
          -0.3639859201893412,
          -1.1903837376799686,
          -0.39536811579025116,
          -1.410059106886338,
          -1.3159125200836084,
          -0.4685932388590409,
          -1.096237150877239,
          0.2845794555627969,
          -2.0481637507715065,
          -1.3368339838175485,
          0.05444335448945753,
          -1.5983522804917976,
          -0.9497869047396594,
          -1.5460486211569477,
          -0.7196508036663202,
          -1.159001542079059,
          -0.3639859201893412,
          -0.9707083684735994,
          -1.5251271574230079,
          -0.5941220212626805,
          -0.5208968981938908,
          -1.441441302487248,
          0.3264223830306766,
          -0.8661010498038997,
          -0.458132506992071,
          -0.458132506992071,
          -0.10246762351509203,
          -0.14431055098297194,
          -1.2008444695469387,
          1.3620348378607037,
          -2.8222579089272837,
          0.8389982445122051,
          0.7971553170443254,
          -0.060624696047212115,
          0.859919708246145,
          0.34734384676461655,
          0.27411872369582696,
          -1.6715774035605873,
          -0.3639859201893412,
          0.6193228753058357,
          0.08582555009036746,
          0.5565584841040159,
          -0.17569274658388176,
          0.13812920942521723,
          -0.01878176857933232,
          -1.2740695926157286,
          -1.4832842299551279,
          -0.6464256805975305,
          -0.6673471443314704,
          0.4937940929021963,
          -0.3744466520563112,
          -0.458132506992071,
          -0.112928355382062,
          -0.9393261728726896,
          -0.31168226085449136,
          -1.159001542079059,
          -0.112928355382062,
          -1.1903837376799686,
          0.5670192159709859,
          0.7553123895764455,
          -0.8661010498038997,
          -0.49997543445995085,
          -1.0230120278084494,
          -0.78241519486814,
          0.8808411719800849,
          0.2845794555627969,
          -0.3430644564554013,
          -0.6464256805975305,
          1.1842023961222141,
          0.27411872369582696,
          2.983448277241049,
          0.859919708246145,
          0.6507050709067457,
          -0.3849073839232812,
          1.3411133741267636
         ],
         "xaxis": "x",
         "y": [
          0,
          0,
          0,
          0,
          0,
          0,
          0,
          0,
          0,
          0,
          0,
          0,
          0,
          0,
          0,
          0,
          0,
          0,
          0,
          0,
          0,
          0,
          0,
          0,
          0,
          0,
          0,
          0,
          0,
          0,
          0,
          0,
          0,
          0,
          0,
          0,
          0,
          0,
          0,
          0,
          0,
          0,
          0,
          0,
          0,
          0,
          0,
          0,
          0,
          0,
          0,
          0,
          0,
          0,
          0,
          0,
          0,
          0,
          0,
          0,
          0,
          0,
          0,
          0,
          0,
          0,
          0,
          0,
          0,
          0,
          0,
          0,
          0,
          0,
          0,
          0,
          0,
          0,
          0,
          0,
          0,
          0,
          0,
          0,
          0,
          0,
          0,
          0,
          0,
          0,
          0,
          0,
          0,
          0,
          0,
          0,
          0,
          0,
          0,
          0,
          0,
          0,
          0,
          0,
          0,
          0,
          0,
          0,
          0,
          0,
          0,
          0,
          0,
          0,
          0,
          0,
          0,
          0,
          0,
          0,
          0,
          0,
          0,
          0,
          0,
          0,
          0,
          0,
          0,
          0,
          0,
          0,
          0,
          0,
          0,
          0,
          0,
          0,
          0,
          0,
          0,
          0,
          0,
          0,
          0,
          0,
          0,
          0,
          0,
          0,
          0,
          0,
          0,
          0,
          0,
          0,
          0,
          0,
          0,
          0,
          0,
          0,
          0,
          0,
          0,
          0,
          0,
          0,
          0,
          0,
          0,
          0,
          0,
          0,
          0,
          0,
          0,
          0,
          0,
          0,
          0,
          0,
          0,
          0,
          0,
          0,
          0,
          0,
          0,
          0,
          0,
          0,
          0,
          0,
          0,
          0,
          0,
          0,
          0,
          0,
          0,
          0,
          0,
          0,
          0,
          0,
          0,
          0,
          0,
          0,
          0,
          0,
          0,
          0,
          0,
          0,
          0,
          0,
          0,
          0,
          0,
          0,
          0,
          0,
          0,
          0,
          0,
          0,
          0,
          0,
          0,
          0,
          0,
          0,
          0,
          0,
          0,
          0,
          0,
          0,
          0,
          0,
          0,
          0,
          0,
          0,
          0,
          0,
          0,
          0,
          0,
          0,
          0,
          0,
          0,
          0,
          0,
          0,
          0,
          0,
          0,
          0,
          0,
          0,
          0,
          0,
          0,
          0,
          0,
          0,
          0,
          0,
          0,
          0,
          0,
          0,
          0,
          0,
          0,
          0,
          0,
          0,
          0,
          0,
          0,
          0,
          0,
          0,
          0,
          0,
          0,
          0,
          0,
          0,
          0,
          0,
          0,
          0,
          0,
          0,
          0,
          0,
          0,
          0,
          0,
          0,
          0,
          0
         ],
         "yaxis": "y"
        }
       ],
       "layout": {
        "coloraxis": {
         "colorbar": {
          "title": {
           "text": "taxa_crescimento"
          }
         },
         "colorscale": [
          [
           0,
           "#440154"
          ],
          [
           0.1111111111111111,
           "#482878"
          ],
          [
           0.2222222222222222,
           "#3e4989"
          ],
          [
           0.3333333333333333,
           "#31688e"
          ],
          [
           0.4444444444444444,
           "#26828e"
          ],
          [
           0.5555555555555556,
           "#1f9e89"
          ],
          [
           0.6666666666666666,
           "#35b779"
          ],
          [
           0.7777777777777778,
           "#6ece58"
          ],
          [
           0.8888888888888888,
           "#b5de2b"
          ],
          [
           1,
           "#fde725"
          ]
         ]
        },
        "height": 300,
        "legend": {
         "tracegroupgap": 0
        },
        "margin": {
         "t": 60
        },
        "template": {
         "data": {
          "bar": [
           {
            "error_x": {
             "color": "#2a3f5f"
            },
            "error_y": {
             "color": "#2a3f5f"
            },
            "marker": {
             "line": {
              "color": "#E5ECF6",
              "width": 0.5
             },
             "pattern": {
              "fillmode": "overlay",
              "size": 10,
              "solidity": 0.2
             }
            },
            "type": "bar"
           }
          ],
          "barpolar": [
           {
            "marker": {
             "line": {
              "color": "#E5ECF6",
              "width": 0.5
             },
             "pattern": {
              "fillmode": "overlay",
              "size": 10,
              "solidity": 0.2
             }
            },
            "type": "barpolar"
           }
          ],
          "carpet": [
           {
            "aaxis": {
             "endlinecolor": "#2a3f5f",
             "gridcolor": "white",
             "linecolor": "white",
             "minorgridcolor": "white",
             "startlinecolor": "#2a3f5f"
            },
            "baxis": {
             "endlinecolor": "#2a3f5f",
             "gridcolor": "white",
             "linecolor": "white",
             "minorgridcolor": "white",
             "startlinecolor": "#2a3f5f"
            },
            "type": "carpet"
           }
          ],
          "choropleth": [
           {
            "colorbar": {
             "outlinewidth": 0,
             "ticks": ""
            },
            "type": "choropleth"
           }
          ],
          "contour": [
           {
            "colorbar": {
             "outlinewidth": 0,
             "ticks": ""
            },
            "colorscale": [
             [
              0,
              "#0d0887"
             ],
             [
              0.1111111111111111,
              "#46039f"
             ],
             [
              0.2222222222222222,
              "#7201a8"
             ],
             [
              0.3333333333333333,
              "#9c179e"
             ],
             [
              0.4444444444444444,
              "#bd3786"
             ],
             [
              0.5555555555555556,
              "#d8576b"
             ],
             [
              0.6666666666666666,
              "#ed7953"
             ],
             [
              0.7777777777777778,
              "#fb9f3a"
             ],
             [
              0.8888888888888888,
              "#fdca26"
             ],
             [
              1,
              "#f0f921"
             ]
            ],
            "type": "contour"
           }
          ],
          "contourcarpet": [
           {
            "colorbar": {
             "outlinewidth": 0,
             "ticks": ""
            },
            "type": "contourcarpet"
           }
          ],
          "heatmap": [
           {
            "colorbar": {
             "outlinewidth": 0,
             "ticks": ""
            },
            "colorscale": [
             [
              0,
              "#0d0887"
             ],
             [
              0.1111111111111111,
              "#46039f"
             ],
             [
              0.2222222222222222,
              "#7201a8"
             ],
             [
              0.3333333333333333,
              "#9c179e"
             ],
             [
              0.4444444444444444,
              "#bd3786"
             ],
             [
              0.5555555555555556,
              "#d8576b"
             ],
             [
              0.6666666666666666,
              "#ed7953"
             ],
             [
              0.7777777777777778,
              "#fb9f3a"
             ],
             [
              0.8888888888888888,
              "#fdca26"
             ],
             [
              1,
              "#f0f921"
             ]
            ],
            "type": "heatmap"
           }
          ],
          "heatmapgl": [
           {
            "colorbar": {
             "outlinewidth": 0,
             "ticks": ""
            },
            "colorscale": [
             [
              0,
              "#0d0887"
             ],
             [
              0.1111111111111111,
              "#46039f"
             ],
             [
              0.2222222222222222,
              "#7201a8"
             ],
             [
              0.3333333333333333,
              "#9c179e"
             ],
             [
              0.4444444444444444,
              "#bd3786"
             ],
             [
              0.5555555555555556,
              "#d8576b"
             ],
             [
              0.6666666666666666,
              "#ed7953"
             ],
             [
              0.7777777777777778,
              "#fb9f3a"
             ],
             [
              0.8888888888888888,
              "#fdca26"
             ],
             [
              1,
              "#f0f921"
             ]
            ],
            "type": "heatmapgl"
           }
          ],
          "histogram": [
           {
            "marker": {
             "pattern": {
              "fillmode": "overlay",
              "size": 10,
              "solidity": 0.2
             }
            },
            "type": "histogram"
           }
          ],
          "histogram2d": [
           {
            "colorbar": {
             "outlinewidth": 0,
             "ticks": ""
            },
            "colorscale": [
             [
              0,
              "#0d0887"
             ],
             [
              0.1111111111111111,
              "#46039f"
             ],
             [
              0.2222222222222222,
              "#7201a8"
             ],
             [
              0.3333333333333333,
              "#9c179e"
             ],
             [
              0.4444444444444444,
              "#bd3786"
             ],
             [
              0.5555555555555556,
              "#d8576b"
             ],
             [
              0.6666666666666666,
              "#ed7953"
             ],
             [
              0.7777777777777778,
              "#fb9f3a"
             ],
             [
              0.8888888888888888,
              "#fdca26"
             ],
             [
              1,
              "#f0f921"
             ]
            ],
            "type": "histogram2d"
           }
          ],
          "histogram2dcontour": [
           {
            "colorbar": {
             "outlinewidth": 0,
             "ticks": ""
            },
            "colorscale": [
             [
              0,
              "#0d0887"
             ],
             [
              0.1111111111111111,
              "#46039f"
             ],
             [
              0.2222222222222222,
              "#7201a8"
             ],
             [
              0.3333333333333333,
              "#9c179e"
             ],
             [
              0.4444444444444444,
              "#bd3786"
             ],
             [
              0.5555555555555556,
              "#d8576b"
             ],
             [
              0.6666666666666666,
              "#ed7953"
             ],
             [
              0.7777777777777778,
              "#fb9f3a"
             ],
             [
              0.8888888888888888,
              "#fdca26"
             ],
             [
              1,
              "#f0f921"
             ]
            ],
            "type": "histogram2dcontour"
           }
          ],
          "mesh3d": [
           {
            "colorbar": {
             "outlinewidth": 0,
             "ticks": ""
            },
            "type": "mesh3d"
           }
          ],
          "parcoords": [
           {
            "line": {
             "colorbar": {
              "outlinewidth": 0,
              "ticks": ""
             }
            },
            "type": "parcoords"
           }
          ],
          "pie": [
           {
            "automargin": true,
            "type": "pie"
           }
          ],
          "scatter": [
           {
            "fillpattern": {
             "fillmode": "overlay",
             "size": 10,
             "solidity": 0.2
            },
            "type": "scatter"
           }
          ],
          "scatter3d": [
           {
            "line": {
             "colorbar": {
              "outlinewidth": 0,
              "ticks": ""
             }
            },
            "marker": {
             "colorbar": {
              "outlinewidth": 0,
              "ticks": ""
             }
            },
            "type": "scatter3d"
           }
          ],
          "scattercarpet": [
           {
            "marker": {
             "colorbar": {
              "outlinewidth": 0,
              "ticks": ""
             }
            },
            "type": "scattercarpet"
           }
          ],
          "scattergeo": [
           {
            "marker": {
             "colorbar": {
              "outlinewidth": 0,
              "ticks": ""
             }
            },
            "type": "scattergeo"
           }
          ],
          "scattergl": [
           {
            "marker": {
             "colorbar": {
              "outlinewidth": 0,
              "ticks": ""
             }
            },
            "type": "scattergl"
           }
          ],
          "scattermapbox": [
           {
            "marker": {
             "colorbar": {
              "outlinewidth": 0,
              "ticks": ""
             }
            },
            "type": "scattermapbox"
           }
          ],
          "scatterpolar": [
           {
            "marker": {
             "colorbar": {
              "outlinewidth": 0,
              "ticks": ""
             }
            },
            "type": "scatterpolar"
           }
          ],
          "scatterpolargl": [
           {
            "marker": {
             "colorbar": {
              "outlinewidth": 0,
              "ticks": ""
             }
            },
            "type": "scatterpolargl"
           }
          ],
          "scatterternary": [
           {
            "marker": {
             "colorbar": {
              "outlinewidth": 0,
              "ticks": ""
             }
            },
            "type": "scatterternary"
           }
          ],
          "surface": [
           {
            "colorbar": {
             "outlinewidth": 0,
             "ticks": ""
            },
            "colorscale": [
             [
              0,
              "#0d0887"
             ],
             [
              0.1111111111111111,
              "#46039f"
             ],
             [
              0.2222222222222222,
              "#7201a8"
             ],
             [
              0.3333333333333333,
              "#9c179e"
             ],
             [
              0.4444444444444444,
              "#bd3786"
             ],
             [
              0.5555555555555556,
              "#d8576b"
             ],
             [
              0.6666666666666666,
              "#ed7953"
             ],
             [
              0.7777777777777778,
              "#fb9f3a"
             ],
             [
              0.8888888888888888,
              "#fdca26"
             ],
             [
              1,
              "#f0f921"
             ]
            ],
            "type": "surface"
           }
          ],
          "table": [
           {
            "cells": {
             "fill": {
              "color": "#EBF0F8"
             },
             "line": {
              "color": "white"
             }
            },
            "header": {
             "fill": {
              "color": "#C8D4E3"
             },
             "line": {
              "color": "white"
             }
            },
            "type": "table"
           }
          ]
         },
         "layout": {
          "annotationdefaults": {
           "arrowcolor": "#2a3f5f",
           "arrowhead": 0,
           "arrowwidth": 1
          },
          "autotypenumbers": "strict",
          "coloraxis": {
           "colorbar": {
            "outlinewidth": 0,
            "ticks": ""
           }
          },
          "colorscale": {
           "diverging": [
            [
             0,
             "#8e0152"
            ],
            [
             0.1,
             "#c51b7d"
            ],
            [
             0.2,
             "#de77ae"
            ],
            [
             0.3,
             "#f1b6da"
            ],
            [
             0.4,
             "#fde0ef"
            ],
            [
             0.5,
             "#f7f7f7"
            ],
            [
             0.6,
             "#e6f5d0"
            ],
            [
             0.7,
             "#b8e186"
            ],
            [
             0.8,
             "#7fbc41"
            ],
            [
             0.9,
             "#4d9221"
            ],
            [
             1,
             "#276419"
            ]
           ],
           "sequential": [
            [
             0,
             "#0d0887"
            ],
            [
             0.1111111111111111,
             "#46039f"
            ],
            [
             0.2222222222222222,
             "#7201a8"
            ],
            [
             0.3333333333333333,
             "#9c179e"
            ],
            [
             0.4444444444444444,
             "#bd3786"
            ],
            [
             0.5555555555555556,
             "#d8576b"
            ],
            [
             0.6666666666666666,
             "#ed7953"
            ],
            [
             0.7777777777777778,
             "#fb9f3a"
            ],
            [
             0.8888888888888888,
             "#fdca26"
            ],
            [
             1,
             "#f0f921"
            ]
           ],
           "sequentialminus": [
            [
             0,
             "#0d0887"
            ],
            [
             0.1111111111111111,
             "#46039f"
            ],
            [
             0.2222222222222222,
             "#7201a8"
            ],
            [
             0.3333333333333333,
             "#9c179e"
            ],
            [
             0.4444444444444444,
             "#bd3786"
            ],
            [
             0.5555555555555556,
             "#d8576b"
            ],
            [
             0.6666666666666666,
             "#ed7953"
            ],
            [
             0.7777777777777778,
             "#fb9f3a"
            ],
            [
             0.8888888888888888,
             "#fdca26"
            ],
            [
             1,
             "#f0f921"
            ]
           ]
          },
          "colorway": [
           "#636efa",
           "#EF553B",
           "#00cc96",
           "#ab63fa",
           "#FFA15A",
           "#19d3f3",
           "#FF6692",
           "#B6E880",
           "#FF97FF",
           "#FECB52"
          ],
          "font": {
           "color": "#2a3f5f"
          },
          "geo": {
           "bgcolor": "white",
           "lakecolor": "white",
           "landcolor": "#E5ECF6",
           "showlakes": true,
           "showland": true,
           "subunitcolor": "white"
          },
          "hoverlabel": {
           "align": "left"
          },
          "hovermode": "closest",
          "mapbox": {
           "style": "light"
          },
          "paper_bgcolor": "white",
          "plot_bgcolor": "#E5ECF6",
          "polar": {
           "angularaxis": {
            "gridcolor": "white",
            "linecolor": "white",
            "ticks": ""
           },
           "bgcolor": "#E5ECF6",
           "radialaxis": {
            "gridcolor": "white",
            "linecolor": "white",
            "ticks": ""
           }
          },
          "scene": {
           "xaxis": {
            "backgroundcolor": "#E5ECF6",
            "gridcolor": "white",
            "gridwidth": 2,
            "linecolor": "white",
            "showbackground": true,
            "ticks": "",
            "zerolinecolor": "white"
           },
           "yaxis": {
            "backgroundcolor": "#E5ECF6",
            "gridcolor": "white",
            "gridwidth": 2,
            "linecolor": "white",
            "showbackground": true,
            "ticks": "",
            "zerolinecolor": "white"
           },
           "zaxis": {
            "backgroundcolor": "#E5ECF6",
            "gridcolor": "white",
            "gridwidth": 2,
            "linecolor": "white",
            "showbackground": true,
            "ticks": "",
            "zerolinecolor": "white"
           }
          },
          "shapedefaults": {
           "line": {
            "color": "#2a3f5f"
           }
          },
          "ternary": {
           "aaxis": {
            "gridcolor": "white",
            "linecolor": "white",
            "ticks": ""
           },
           "baxis": {
            "gridcolor": "white",
            "linecolor": "white",
            "ticks": ""
           },
           "bgcolor": "#E5ECF6",
           "caxis": {
            "gridcolor": "white",
            "linecolor": "white",
            "ticks": ""
           }
          },
          "title": {
           "x": 0.05
          },
          "xaxis": {
           "automargin": true,
           "gridcolor": "white",
           "linecolor": "white",
           "ticks": "",
           "title": {
            "standoff": 15
           },
           "zerolinecolor": "white",
           "zerolinewidth": 2
          },
          "yaxis": {
           "automargin": true,
           "gridcolor": "white",
           "linecolor": "white",
           "ticks": "",
           "title": {
            "standoff": 15
           },
           "zerolinecolor": "white",
           "zerolinewidth": 2
          }
         }
        },
        "xaxis": {
         "anchor": "y",
         "domain": [
          0,
          1
         ],
         "title": {
          "text": "Taxa de crescimento efetivo"
         }
        },
        "yaxis": {
         "anchor": "x",
         "domain": [
          0,
          1
         ],
         "showgrid": false,
         "showticklabels": false,
         "title": {
          "text": "y"
         }
        }
       }
      }
     },
     "metadata": {},
     "output_type": "display_data"
    },
    {
     "name": "stdout",
     "output_type": "stream",
     "text": [
      "taxa_crescimento\n",
      "0    127\n",
      "1    148\n",
      "2     33\n",
      "Name: count, dtype: int64\n",
      "File saved to csv_files/5_Taxa_crescimento.csv\n"
     ]
    }
   ],
   "source": [
    "clustered_df = aplicar_kmeans(df_taxa_crescimento, 3, nome_cluster='taxa_crescimento')\n",
    "save_clustered_df_to_csv(clustered_df, \"csv_files/\", \"5_Taxa_crescimento.csv\")"
   ]
  }
 ],
 "metadata": {
  "kernelspec": {
   "display_name": "base",
   "language": "python",
   "name": "python3"
  },
  "language_info": {
   "codemirror_mode": {
    "name": "ipython",
    "version": 3
   },
   "file_extension": ".py",
   "mimetype": "text/x-python",
   "name": "python",
   "nbconvert_exporter": "python",
   "pygments_lexer": "ipython3",
   "version": "3.11.5"
  }
 },
 "nbformat": 4,
 "nbformat_minor": 5
}
