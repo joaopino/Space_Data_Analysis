{
 "cells": [
  {
   "cell_type": "markdown",
   "id": "27b50d18",
   "metadata": {},
   "source": [
    "# Análise da Educação"
   ]
  },
  {
   "cell_type": "markdown",
   "id": "327805dd",
   "metadata": {},
   "source": [
    "### Initial Setup"
   ]
  },
  {
   "cell_type": "code",
   "execution_count": 2,
   "id": "b6ecba96",
   "metadata": {},
   "outputs": [],
   "source": [
    "\n",
    "from auxiliary.auxiliary_funcs import processar_ficheiro,carregar_municipios,aplicar_kmeans,elbow_rule, save_clustered_df_to_csv,filter_for_only_municipalities\n",
    "data_path ='../data/dados_municipio/Educação (6)/'"
   ]
  },
  {
   "cell_type": "code",
   "execution_count": null,
   "id": "47b5fa39",
   "metadata": {},
   "outputs": [],
   "source": []
  },
  {
   "cell_type": "markdown",
   "id": "aac87fe1",
   "metadata": {},
   "source": [
    "## Clusterings and Analysis"
   ]
  },
  {
   "cell_type": "markdown",
   "id": "16aa5074",
   "metadata": {},
   "source": [
    "### Alunos matriculados no ensino não superior em ofertas de educação e formação"
   ]
  },
  {
   "cell_type": "code",
   "execution_count": 3,
   "id": "6e0c99cf",
   "metadata": {},
   "outputs": [
    {
     "data": {
      "text/html": [
       "<div>\n",
       "<style scoped>\n",
       "    .dataframe tbody tr th:only-of-type {\n",
       "        vertical-align: middle;\n",
       "    }\n",
       "\n",
       "    .dataframe tbody tr th {\n",
       "        vertical-align: top;\n",
       "    }\n",
       "\n",
       "    .dataframe thead th {\n",
       "        text-align: right;\n",
       "    }\n",
       "</style>\n",
       "<table border=\"1\" class=\"dataframe\">\n",
       "  <thead>\n",
       "    <tr style=\"text-align: right;\">\n",
       "      <th></th>\n",
       "      <th>local</th>\n",
       "      <th>codigo</th>\n",
       "      <th>Total</th>\n",
       "      <th>Ensino recorrente</th>\n",
       "      <th>Cursos de educação e formação de adultos</th>\n",
       "      <th>Sistema de reconhecimento, validação e certificação de competências</th>\n",
       "    </tr>\n",
       "  </thead>\n",
       "  <tbody>\n",
       "    <tr>\n",
       "      <th>4</th>\n",
       "      <td>Arcos de Valdevez</td>\n",
       "      <td>1111601</td>\n",
       "      <td>100.0</td>\n",
       "      <td>0.0</td>\n",
       "      <td>50.0</td>\n",
       "      <td>47.0</td>\n",
       "    </tr>\n",
       "    <tr>\n",
       "      <th>5</th>\n",
       "      <td>Caminha</td>\n",
       "      <td>1111602</td>\n",
       "      <td>36.0</td>\n",
       "      <td>0.0</td>\n",
       "      <td>0.0</td>\n",
       "      <td>36.0</td>\n",
       "    </tr>\n",
       "    <tr>\n",
       "      <th>6</th>\n",
       "      <td>Melgaço</td>\n",
       "      <td>1111603</td>\n",
       "      <td>0.0</td>\n",
       "      <td>0.0</td>\n",
       "      <td>0.0</td>\n",
       "      <td>0.0</td>\n",
       "    </tr>\n",
       "    <tr>\n",
       "      <th>7</th>\n",
       "      <td>Monção</td>\n",
       "      <td>1111604</td>\n",
       "      <td>113.0</td>\n",
       "      <td>0.0</td>\n",
       "      <td>43.0</td>\n",
       "      <td>70.0</td>\n",
       "    </tr>\n",
       "    <tr>\n",
       "      <th>8</th>\n",
       "      <td>Paredes de Coura</td>\n",
       "      <td>1111605</td>\n",
       "      <td>16.0</td>\n",
       "      <td>0.0</td>\n",
       "      <td>16.0</td>\n",
       "      <td>0.0</td>\n",
       "    </tr>\n",
       "    <tr>\n",
       "      <th>...</th>\n",
       "      <td>...</td>\n",
       "      <td>...</td>\n",
       "      <td>...</td>\n",
       "      <td>...</td>\n",
       "      <td>...</td>\n",
       "      <td>...</td>\n",
       "    </tr>\n",
       "    <tr>\n",
       "      <th>339</th>\n",
       "      <td>Porto Santo</td>\n",
       "      <td>3003201</td>\n",
       "      <td>78.0</td>\n",
       "      <td>43.0</td>\n",
       "      <td>35.0</td>\n",
       "      <td>0.0</td>\n",
       "    </tr>\n",
       "    <tr>\n",
       "      <th>340</th>\n",
       "      <td>Ribeira Brava</td>\n",
       "      <td>3003107</td>\n",
       "      <td>67.0</td>\n",
       "      <td>15.0</td>\n",
       "      <td>38.0</td>\n",
       "      <td>0.0</td>\n",
       "    </tr>\n",
       "    <tr>\n",
       "      <th>341</th>\n",
       "      <td>Santa Cruz</td>\n",
       "      <td>3003108</td>\n",
       "      <td>167.0</td>\n",
       "      <td>0.0</td>\n",
       "      <td>167.0</td>\n",
       "      <td>0.0</td>\n",
       "    </tr>\n",
       "    <tr>\n",
       "      <th>342</th>\n",
       "      <td>Santana</td>\n",
       "      <td>3003109</td>\n",
       "      <td>44.0</td>\n",
       "      <td>44.0</td>\n",
       "      <td>0.0</td>\n",
       "      <td>0.0</td>\n",
       "    </tr>\n",
       "    <tr>\n",
       "      <th>343</th>\n",
       "      <td>São Vicente</td>\n",
       "      <td>3003110</td>\n",
       "      <td>0.0</td>\n",
       "      <td>0.0</td>\n",
       "      <td>0.0</td>\n",
       "      <td>0.0</td>\n",
       "    </tr>\n",
       "  </tbody>\n",
       "</table>\n",
       "<p>308 rows × 6 columns</p>\n",
       "</div>"
      ],
      "text/plain": [
       "                 local   codigo  Total  Ensino recorrente  \\\n",
       "4    Arcos de Valdevez  1111601  100.0                0.0   \n",
       "5              Caminha  1111602   36.0                0.0   \n",
       "6              Melgaço  1111603    0.0                0.0   \n",
       "7               Monção  1111604  113.0                0.0   \n",
       "8     Paredes de Coura  1111605   16.0                0.0   \n",
       "..                 ...      ...    ...                ...   \n",
       "339        Porto Santo  3003201   78.0               43.0   \n",
       "340      Ribeira Brava  3003107   67.0               15.0   \n",
       "341         Santa Cruz  3003108  167.0                0.0   \n",
       "342            Santana  3003109   44.0               44.0   \n",
       "343        São Vicente  3003110    0.0                0.0   \n",
       "\n",
       "     Cursos de educação e formação de adultos  \\\n",
       "4                                        50.0   \n",
       "5                                         0.0   \n",
       "6                                         0.0   \n",
       "7                                        43.0   \n",
       "8                                        16.0   \n",
       "..                                        ...   \n",
       "339                                      35.0   \n",
       "340                                      38.0   \n",
       "341                                     167.0   \n",
       "342                                       0.0   \n",
       "343                                       0.0   \n",
       "\n",
       "     Sistema de reconhecimento, validação e certificação de competências  \n",
       "4                                                 47.0                    \n",
       "5                                                 36.0                    \n",
       "6                                                  0.0                    \n",
       "7                                                 70.0                    \n",
       "8                                                  0.0                    \n",
       "..                                                 ...                    \n",
       "339                                                0.0                    \n",
       "340                                                0.0                    \n",
       "341                                                0.0                    \n",
       "342                                                0.0                    \n",
       "343                                                0.0                    \n",
       "\n",
       "[308 rows x 6 columns]"
      ]
     },
     "execution_count": 3,
     "metadata": {},
     "output_type": "execute_result"
    }
   ],
   "source": [
    "original_df = processar_ficheiro(data_path+'Alunos matriculados no ensino não superior em ofertas de educação e formação.xls',4,padding_left=1)\n",
    "only_municipalities_df = carregar_municipios(original_df)\n",
    "only_municipalities_df"
   ]
  },
  {
   "cell_type": "code",
   "execution_count": 4,
   "id": "3fe0728e",
   "metadata": {},
   "outputs": [
    {
     "data": {
      "application/vnd.plotly.v1+json": {
       "config": {
        "plotlyServerURL": "https://plot.ly"
       },
       "data": [
        {
         "customdata": [
          [
           "Arcos de Valdevez",
           "1111601",
           100
          ],
          [
           "Caminha",
           "1111602",
           36
          ],
          [
           "Melgaço",
           "1111603",
           0
          ],
          [
           "Monção",
           "1111604",
           113
          ],
          [
           "Paredes de Coura",
           "1111605",
           16
          ],
          [
           "Ponte da Barca",
           "1111606",
           179
          ],
          [
           "Ponte de Lima",
           "1111607",
           218
          ],
          [
           "Valença",
           "1111608",
           74
          ],
          [
           "Viana do Castelo",
           "1111609",
           525
          ],
          [
           "Vila Nova de Cerveira",
           "1111610",
           0
          ],
          [
           "Amares",
           "1120301",
           88
          ],
          [
           "Barcelos",
           "1120302",
           644
          ],
          [
           "Braga",
           "1120303",
           1252
          ],
          [
           "Esposende",
           "1120306",
           146
          ],
          [
           "Terras de Bouro",
           "1120310",
           0
          ],
          [
           "Vila Verde",
           "1120313",
           362
          ],
          [
           "Cabeceiras de Basto",
           "1190304",
           98
          ],
          [
           "Fafe",
           "1190307",
           227
          ],
          [
           "Guimarães",
           "1190308",
           564
          ],
          [
           "Mondim de Basto",
           "1191705",
           0
          ],
          [
           "Póvoa de Lanhoso",
           "1190309",
           188
          ],
          [
           "Vieira do Minho",
           "1190311",
           14
          ],
          [
           "Vila Nova de Famalicão",
           "1190312",
           715
          ],
          [
           "Vizela",
           "1190314",
           328
          ],
          [
           "Arouca",
           "11A0104",
           168
          ],
          [
           "Espinho",
           "11A0107",
           343
          ],
          [
           "Gondomar",
           "11A1304",
           687
          ],
          [
           "Maia",
           "11A1306",
           516
          ],
          [
           "Matosinhos",
           "11A1308",
           1781
          ],
          [
           "Oliveira de Azeméis",
           "11A0113",
           261
          ],
          [
           "Paredes",
           "11A1310",
           813
          ],
          [
           "Porto",
           "11A1312",
           2525
          ],
          [
           "Póvoa de Varzim",
           "11A1313",
           346
          ],
          [
           "Santa Maria da Feira",
           "11A0109",
           1646
          ],
          [
           "Santo Tirso",
           "11A1314",
           296
          ],
          [
           "São João da Madeira",
           "11A0116",
           334
          ],
          [
           "Trofa",
           "11A1318",
           163
          ],
          [
           "Vale de Cambra",
           "11A0119",
           41
          ],
          [
           "Valongo",
           "11A1315",
           480
          ],
          [
           "Vila do Conde",
           "11A1316",
           196
          ],
          [
           "Vila Nova de Gaia",
           "11A1317",
           1811
          ],
          [
           "Boticas",
           "11B1702",
           0
          ],
          [
           "Chaves",
           "11B1703",
           466
          ],
          [
           "Montalegre",
           "11B1706",
           0
          ],
          [
           "Ribeira de Pena",
           "11B1709",
           0
          ],
          [
           "Valpaços",
           "11B1712",
           73
          ],
          [
           "Vila Pouca de Aguiar",
           "11B1713",
           55
          ],
          [
           "Amarante",
           "11C1301",
           308
          ],
          [
           "Baião",
           "11C1302",
           96
          ],
          [
           "Castelo de Paiva",
           "11C0106",
           352
          ],
          [
           "Celorico de Basto",
           "11C0305",
           71
          ],
          [
           "Cinfães",
           "11C1804",
           229
          ],
          [
           "Felgueiras",
           "11C1303",
           540
          ],
          [
           "Lousada",
           "11C1305",
           329
          ],
          [
           "Marco de Canaveses",
           "11C1307",
           367
          ],
          [
           "Paços de Ferreira",
           "11C1309",
           702
          ],
          [
           "Penafiel",
           "11C1311",
           965
          ],
          [
           "Resende",
           "11C1813",
           48
          ],
          [
           "Alijó",
           "11D1701",
           48
          ],
          [
           "Armamar",
           "11D1801",
           0
          ],
          [
           "Carrazeda de Ansiães",
           "11D0403",
           0
          ],
          [
           "Freixo de Espada à Cinta",
           "11D0404",
           0
          ],
          [
           "Lamego",
           "11D1805",
           324
          ],
          [
           "Mesão Frio",
           "11D1704",
           0
          ],
          [
           "Moimenta da Beira",
           "11D1807",
           179
          ],
          [
           "Murça",
           "11D1707",
           0
          ],
          [
           "Penedono",
           "11D1812",
           0
          ],
          [
           "Peso da Régua",
           "11D1708",
           77
          ],
          [
           "Sabrosa",
           "11D1710",
           0
          ],
          [
           "Santa Marta de Penaguião",
           "11D1711",
           0
          ],
          [
           "São João da Pesqueira",
           "11D1815",
           116
          ],
          [
           "Sernancelhe",
           "11D1818",
           0
          ],
          [
           "Tabuaço",
           "11D1819",
           0
          ],
          [
           "Tarouca",
           "11D1820",
           0
          ],
          [
           "Torre de Moncorvo",
           "11D0409",
           0
          ],
          [
           "Vila Nova de Foz Côa",
           "11D0914",
           0
          ],
          [
           "Vila Real",
           "11D1714",
           592
          ],
          [
           "Alfândega da Fé",
           "11E0401",
           0
          ],
          [
           "Bragança",
           "11E0402",
           559
          ],
          [
           "Macedo de Cavaleiros",
           "11E0405",
           254
          ],
          [
           "Miranda do Douro",
           "11E0406",
           0
          ],
          [
           "Mirandela",
           "11E0407",
           594
          ],
          [
           "Mogadouro",
           "11E0408",
           282
          ],
          [
           "Vila Flor",
           "11E0410",
           0
          ],
          [
           "Vimioso",
           "11E0411",
           0
          ],
          [
           "Vinhais",
           "11E0412",
           0
          ],
          [
           "Alcobaça",
           "16B1001",
           477
          ],
          [
           "Alenquer",
           "16B1101",
           222
          ],
          [
           "Arruda dos Vinhos",
           "16B1102",
           0
          ],
          [
           "Bombarral",
           "16B1005",
           121
          ],
          [
           "Cadaval",
           "16B1104",
           93
          ],
          [
           "Caldas da Rainha",
           "16B1006",
           497
          ],
          [
           "Lourinhã",
           "16B1108",
           190
          ],
          [
           "Nazaré",
           "16B1011",
           57
          ],
          [
           "Óbidos",
           "16B1012",
           0
          ],
          [
           "Peniche",
           "16B1014",
           137
          ],
          [
           "Sobral de Monte Agraço",
           "16B1112",
           34
          ],
          [
           "Torres Vedras",
           "16B1113",
           209
          ],
          [
           "Águeda",
           "16D0101",
           625
          ],
          [
           "Albergaria-a-Velha",
           "16D0102",
           127
          ],
          [
           "Anadia",
           "16D0103",
           82
          ],
          [
           "Aveiro",
           "16D0105",
           1236
          ],
          [
           "Estarreja",
           "16D0108",
           203
          ],
          [
           "Ílhavo",
           "16D0110",
           206
          ],
          [
           "Murtosa",
           "16D0112",
           29
          ],
          [
           "Oliveira do Bairro",
           "16D0114",
           0
          ],
          [
           "Ovar",
           "16D0115",
           614
          ],
          [
           "Sever do Vouga",
           "16D0117",
           102
          ],
          [
           "Vagos",
           "16D0118",
           99
          ],
          [
           "Arganil",
           "16E0601",
           238
          ],
          [
           "Cantanhede",
           "16E0602",
           102
          ],
          [
           "Coimbra",
           "16E0603",
           1751
          ],
          [
           "Condeixa-a-Nova",
           "16E0604",
           0
          ],
          [
           "Figueira da Foz",
           "16E0605",
           340
          ],
          [
           "Góis",
           "16E0606",
           0
          ],
          [
           "Lousã",
           "16E0607",
           240
          ],
          [
           "Mealhada",
           "16E0111",
           77
          ],
          [
           "Mira",
           "16E0608",
           15
          ],
          [
           "Miranda do Corvo",
           "16E0609",
           27
          ],
          [
           "Montemor-o-Velho",
           "16E0610",
           58
          ],
          [
           "Mortágua",
           "16E1808",
           0
          ],
          [
           "Oliveira do Hospital",
           "16E0611",
           162
          ],
          [
           "Pampilhosa da Serra",
           "16E0612",
           0
          ],
          [
           "Penacova",
           "16E0613",
           183
          ],
          [
           "Penela",
           "16E0614",
           0
          ],
          [
           "Soure",
           "16E0615",
           135
          ],
          [
           "Tábua",
           "16E0616",
           53
          ],
          [
           "Vila Nova de Poiares",
           "16E0617",
           83
          ],
          [
           "Alvaiázere",
           "16F1002",
           61
          ],
          [
           "Ansião",
           "16F1003",
           91
          ],
          [
           "Batalha",
           "16F1004",
           117
          ],
          [
           "Castanheira de Pêra",
           "16F1007",
           0
          ],
          [
           "Figueiró dos Vinhos",
           "16F1008",
           16
          ],
          [
           "Leiria",
           "16F1009",
           807
          ],
          [
           "Marinha Grande",
           "16F1010",
           303
          ],
          [
           "Pedrógão Grande",
           "16F1013",
           57
          ],
          [
           "Pombal",
           "16F1015",
           272
          ],
          [
           "Porto de Mós",
           "16F1016",
           0
          ],
          [
           "Aguiar da Beira",
           "16G0901",
           0
          ],
          [
           "Carregal do Sal",
           "16G1802",
           41
          ],
          [
           "Castro Daire",
           "16G1803",
           133
          ],
          [
           "Mangualde",
           "16G1806",
           259
          ],
          [
           "Nelas",
           "16G1809",
           13
          ],
          [
           "Oliveira de Frades",
           "16G1810",
           16
          ],
          [
           "Penalva do Castelo",
           "16G1811",
           0
          ],
          [
           "Santa Comba Dão",
           "16G1814",
           14
          ],
          [
           "São Pedro do Sul",
           "16G1816",
           263
          ],
          [
           "Sátão",
           "16G1817",
           0
          ],
          [
           "Tondela",
           "16G1821",
           107
          ],
          [
           "Vila Nova de Paiva",
           "16G1822",
           16
          ],
          [
           "Viseu",
           "16G1823",
           1057
          ],
          [
           "Vouzela",
           "16G1824",
           0
          ],
          [
           "Castelo Branco",
           "16H0502",
           308
          ],
          [
           "Idanha-a-Nova",
           "16H0505",
           58
          ],
          [
           "Oleiros",
           "16H0506",
           0
          ],
          [
           "Penamacor",
           "16H0507",
           0
          ],
          [
           "Proença-a-Nova",
           "16H0508",
           0
          ],
          [
           "Vila Velha de Ródão",
           "16H0511",
           0
          ],
          [
           "Abrantes",
           "16I1401",
           312
          ],
          [
           "Alcanena",
           "16I1402",
           135
          ],
          [
           "Constância",
           "16I1408",
           0
          ],
          [
           "Entroncamento",
           "16I1410",
           221
          ],
          [
           "Ferreira do Zêzere",
           "16I1411",
           0
          ],
          [
           "Mação",
           "16I1413",
           0
          ],
          [
           "Ourém",
           "16I1421",
           281
          ],
          [
           "Sardoal",
           "16I1417",
           0
          ],
          [
           "Sertã",
           "16I0509",
           83
          ],
          [
           "Tomar",
           "16I1418",
           615
          ],
          [
           "Torres Novas",
           "16I1419",
           228
          ],
          [
           "Vila de Rei",
           "16I0510",
           0
          ],
          [
           "Vila Nova da Barquinha",
           "16I1420",
           0
          ],
          [
           "Almeida",
           "16J0902",
           0
          ],
          [
           "Belmonte",
           "16J0501",
           37
          ],
          [
           "Celorico da Beira",
           "16J0903",
           23
          ],
          [
           "Covilhã",
           "16J0503",
           420
          ],
          [
           "Figueira de Castelo Rodrigo",
           "16J0904",
           0
          ],
          [
           "Fornos de Algodres",
           "16J0905",
           10
          ],
          [
           "Fundão",
           "16J0504",
           117
          ],
          [
           "Gouveia",
           "16J0906",
           0
          ],
          [
           "Guarda",
           "16J0907",
           446
          ],
          [
           "Manteigas",
           "16J0908",
           0
          ],
          [
           "Mêda",
           "16J0909",
           0
          ],
          [
           "Pinhel",
           "16J0910",
           12
          ],
          [
           "Sabugal",
           "16J0911",
           19
          ],
          [
           "Seia",
           "16J0912",
           164
          ],
          [
           "Trancoso",
           "16J0913",
           29
          ],
          [
           "Alcochete",
           "1701502",
           40
          ],
          [
           "Almada",
           "1701503",
           796
          ],
          [
           "Amadora",
           "1701115",
           1580
          ],
          [
           "Barreiro",
           "1701504",
           680
          ],
          [
           "Cascais",
           "1701105",
           1166
          ],
          [
           "Lisboa",
           "1701106",
           4352
          ],
          [
           "Loures",
           "1701107",
           766
          ],
          [
           "Mafra",
           "1701109",
           311
          ],
          [
           "Moita",
           "1701506",
           553
          ],
          [
           "Montijo",
           "1701507",
           308
          ],
          [
           "Odivelas",
           "1701116",
           917
          ],
          [
           "Oeiras",
           "1701110",
           460
          ],
          [
           "Palmela",
           "1701508",
           149
          ],
          [
           "Seixal",
           "1701510",
           1856
          ],
          [
           "Sesimbra",
           "1701511",
           131
          ],
          [
           "Setúbal",
           "1701512",
           1170
          ],
          [
           "Sintra",
           "1701111",
           2985
          ],
          [
           "Vila Franca de Xira",
           "1701114",
           1618
          ],
          [
           "Alcácer do Sal",
           "1811501",
           0
          ],
          [
           "Grândola",
           "1811505",
           136
          ],
          [
           "Odemira",
           "1810211",
           76
          ],
          [
           "Santiago do Cacém",
           "1811509",
           314
          ],
          [
           "Sines",
           "1811513",
           121
          ],
          [
           "Aljustrel",
           "1840201",
           127
          ],
          [
           "Almodôvar",
           "1840202",
           68
          ],
          [
           "Alvito",
           "1840203",
           0
          ],
          [
           "Barrancos",
           "1840204",
           0
          ],
          [
           "Beja",
           "1840205",
           585
          ],
          [
           "Castro Verde",
           "1840206",
           0
          ],
          [
           "Cuba",
           "1840207",
           0
          ],
          [
           "Ferreira do Alentejo",
           "1840208",
           16
          ],
          [
           "Mértola",
           "1840209",
           45
          ],
          [
           "Moura",
           "1840210",
           88
          ],
          [
           "Ourique",
           "1840212",
           0
          ],
          [
           "Serpa",
           "1840213",
           102
          ],
          [
           "Vidigueira",
           "1840214",
           12
          ],
          [
           "Almeirim",
           "1851403",
           0
          ],
          [
           "Alpiarça",
           "1851404",
           0
          ],
          [
           "Azambuja",
           "1851103",
           421
          ],
          [
           "Benavente",
           "1851405",
           69
          ],
          [
           "Cartaxo",
           "1851406",
           141
          ],
          [
           "Chamusca",
           "1851407",
           0
          ],
          [
           "Coruche",
           "1851409",
           60
          ],
          [
           "Golegã",
           "1851412",
           0
          ],
          [
           "Rio Maior",
           "1851414",
           247
          ],
          [
           "Salvaterra de Magos",
           "1851415",
           376
          ],
          [
           "Santarém",
           "1851416",
           964
          ],
          [
           "Alter do Chão",
           "1861201",
           0
          ],
          [
           "Arronches",
           "1861202",
           0
          ],
          [
           "Avis",
           "1861203",
           28
          ],
          [
           "Campo Maior",
           "1861204",
           135
          ],
          [
           "Castelo de Vide",
           "1861205",
           0
          ],
          [
           "Crato",
           "1861206",
           15
          ],
          [
           "Elvas",
           "1861207",
           202
          ],
          [
           "Fronteira",
           "1861208",
           0
          ],
          [
           "Gavião",
           "1861209",
           0
          ],
          [
           "Marvão",
           "1861210",
           0
          ],
          [
           "Monforte",
           "1861211",
           0
          ],
          [
           "Nisa",
           "1861212",
           15
          ],
          [
           "Ponte de Sor",
           "1861213",
           101
          ],
          [
           "Portalegre",
           "1861214",
           291
          ],
          [
           "Sousel",
           "1861215",
           47
          ],
          [
           "Alandroal",
           "1870701",
           0
          ],
          [
           "Arraiolos",
           "1870702",
           16
          ],
          [
           "Borba",
           "1870703",
           0
          ],
          [
           "Estremoz",
           "1870704",
           162
          ],
          [
           "Évora",
           "1870705",
           619
          ],
          [
           "Montemor-o-Novo",
           "1870706",
           146
          ],
          [
           "Mora",
           "1870707",
           0
          ],
          [
           "Mourão",
           "1870708",
           33
          ],
          [
           "Portel",
           "1870709",
           0
          ],
          [
           "Redondo",
           "1870710",
           16
          ],
          [
           "Reguengos de Monsaraz",
           "1870711",
           144
          ],
          [
           "Vendas Novas",
           "1870712",
           65
          ],
          [
           "Viana do Alentejo",
           "1870713",
           0
          ],
          [
           "Vila Viçosa",
           "1870714",
           53
          ],
          [
           "Albufeira",
           "1500801",
           199
          ],
          [
           "Alcoutim",
           "1500802",
           0
          ],
          [
           "Aljezur",
           "1500803",
           0
          ],
          [
           "Castro Marim",
           "1500804",
           0
          ],
          [
           "Faro",
           "1500805",
           512
          ],
          [
           "Lagoa",
           "1500806",
           62
          ],
          [
           "Lagos",
           "1500807",
           177
          ],
          [
           "Loulé",
           "1500808",
           428
          ],
          [
           "Monchique",
           "1500809",
           0
          ],
          [
           "Olhão",
           "1500810",
           208
          ],
          [
           "Portimão",
           "1500811",
           361
          ],
          [
           "São Brás de Alportel",
           "1500812",
           0
          ],
          [
           "Silves",
           "1500813",
           157
          ],
          [
           "Tavira",
           "1500814",
           58
          ],
          [
           "Vila do Bispo",
           "1500815",
           0
          ],
          [
           "Vila Real de Santo António",
           "1500816",
           157
          ],
          [
           "Angra do Heroísmo",
           "2004301",
           149
          ],
          [
           "Calheta",
           "2004501",
           1
          ],
          [
           "Corvo",
           "2004901",
           0
          ],
          [
           "Horta",
           "2004701",
           20
          ],
          [
           "Lagoa",
           "2004201",
           68
          ],
          [
           "Lajes das Flores",
           "2004801",
           3
          ],
          [
           "Lajes do Pico",
           "2004601",
           8
          ],
          [
           "Madalena",
           "2004602",
           10
          ],
          [
           "Nordeste",
           "2004202",
           2
          ],
          [
           "Ponta Delgada",
           "2004203",
           144
          ],
          [
           "Povoação",
           "2004204",
           16
          ],
          [
           "Ribeira Grande",
           "2004205",
           81
          ],
          [
           "Santa Cruz da Graciosa",
           "2004401",
           4
          ],
          [
           "Santa Cruz das Flores",
           "2004802",
           6
          ],
          [
           "São Roque do Pico",
           "2004603",
           4
          ],
          [
           "Velas",
           "2004502",
           4
          ],
          [
           "Vila da Praia da Vitória",
           "2004302",
           108
          ],
          [
           "Vila do Porto",
           "2004101",
           13
          ],
          [
           "Vila Franca do Campo",
           "2004206",
           6
          ],
          [
           "Calheta",
           "3003101",
           122
          ],
          [
           "Câmara de Lobos",
           "3003102",
           278
          ],
          [
           "Funchal",
           "3003103",
           1312
          ],
          [
           "Machico",
           "3003104",
           171
          ],
          [
           "Ponta do Sol",
           "3003105",
           101
          ],
          [
           "Porto Moniz",
           "3003106",
           0
          ],
          [
           "Porto Santo",
           "3003201",
           78
          ],
          [
           "Ribeira Brava",
           "3003107",
           67
          ],
          [
           "Santa Cruz",
           "3003108",
           167
          ],
          [
           "Santana",
           "3003109",
           44
          ],
          [
           "São Vicente",
           "3003110",
           0
          ]
         ],
         "hovertemplate": "valor=%{x}<br>y=%{y}<br>local=%{customdata[0]}<br>codigo=%{customdata[1]}<br>Total=%{customdata[2]}<br>matriculados_ensino_nao_superior=%{marker.color}<extra></extra>",
         "legendgroup": "",
         "marker": {
          "color": {
           "bdata": "AAAAAAAAAAAAAAAAAQAAAAAAAAAAAAAAAAAAAAEAAQEAAQAAAAAAAAEAAAAAAAAAAAAAAAAAAAABAAAAAAAAAAAAAAAAAAAAAAAAAAAAAAAAAAAAAAAAAAAAAAAAAAAAAAAAAAABAAAAAAAAAAAAAQAAAAAAAAAAAAAAAAAAAAAAAAAAAAEAAAAAAAAAAAAAAAAAAAAAAQAAAAAAAAAAAAAAAAAAAAAAAAAAAAAAAAAAAAAAAAAAAAAAAAABAAECAAAAAAEAAAEAAQEBAAAAAAAAAAAAAAAAAAAAAAAAAAAAAAAAAAAAAAEAAAAAAAAAAAAAAAAAAAAAAAAAAAAAAAAAAAAAAAAAAAAAAAAAAAAAAAAAAAAAAAAAAAAAAAAAAAAAAAAAAAAAAAABAAAAAAAAAAA=",
           "dtype": "i1"
          },
          "coloraxis": "coloraxis",
          "size": 10,
          "symbol": "circle"
         },
         "mode": "markers",
         "name": "",
         "orientation": "v",
         "showlegend": false,
         "type": "scatter",
         "x": {
          "bdata": "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",
          "dtype": "f8"
         },
         "xaxis": "x",
         "y": {
          "bdata": "AAAAAAAAAAAAAAAAAAAAAAAAAAAAAAAAAAAAAAAAAAAAAAAAAAAAAAAAAAAAAAAAAAAAAAAAAAAAAAAAAAAAAAAAAAAAAAAAAAAAAAAAAAAAAAAAAAAAAAAAAAAAAAAAAAAAAAAAAAAAAAAAAAAAAAAAAAAAAAAAAAAAAAAAAAAAAAAAAAAAAAAAAAAAAAAAAAAAAAAAAAAAAAAAAAAAAAAAAAAAAAAAAAAAAAAAAAAAAAAAAAAAAAAAAAAAAAAAAAAAAAAAAAAAAAAAAAAAAAAAAAAAAAAAAAAAAAAAAAAAAAAAAAAAAAAAAAAAAAAAAAAAAAAAAAAAAAAAAAAAAAAAAAAAAAAAAAAAAAAAAAAAAAAAAAAAAAAAAAAAAAAAAAAAAAAAAAAAAAAAAAAAAAAAAAA=",
          "dtype": "i1"
         },
         "yaxis": "y"
        }
       ],
       "layout": {
        "coloraxis": {
         "colorbar": {
          "title": {
           "text": "matriculados_ensino_nao_superior"
          }
         },
         "colorscale": [
          [
           0,
           "#440154"
          ],
          [
           0.1111111111111111,
           "#482878"
          ],
          [
           0.2222222222222222,
           "#3e4989"
          ],
          [
           0.3333333333333333,
           "#31688e"
          ],
          [
           0.4444444444444444,
           "#26828e"
          ],
          [
           0.5555555555555556,
           "#1f9e89"
          ],
          [
           0.6666666666666666,
           "#35b779"
          ],
          [
           0.7777777777777778,
           "#6ece58"
          ],
          [
           0.8888888888888888,
           "#b5de2b"
          ],
          [
           1,
           "#fde725"
          ]
         ]
        },
        "height": 300,
        "legend": {
         "tracegroupgap": 0
        },
        "margin": {
         "t": 60
        },
        "template": {
         "data": {
          "bar": [
           {
            "error_x": {
             "color": "#2a3f5f"
            },
            "error_y": {
             "color": "#2a3f5f"
            },
            "marker": {
             "line": {
              "color": "#E5ECF6",
              "width": 0.5
             },
             "pattern": {
              "fillmode": "overlay",
              "size": 10,
              "solidity": 0.2
             }
            },
            "type": "bar"
           }
          ],
          "barpolar": [
           {
            "marker": {
             "line": {
              "color": "#E5ECF6",
              "width": 0.5
             },
             "pattern": {
              "fillmode": "overlay",
              "size": 10,
              "solidity": 0.2
             }
            },
            "type": "barpolar"
           }
          ],
          "carpet": [
           {
            "aaxis": {
             "endlinecolor": "#2a3f5f",
             "gridcolor": "white",
             "linecolor": "white",
             "minorgridcolor": "white",
             "startlinecolor": "#2a3f5f"
            },
            "baxis": {
             "endlinecolor": "#2a3f5f",
             "gridcolor": "white",
             "linecolor": "white",
             "minorgridcolor": "white",
             "startlinecolor": "#2a3f5f"
            },
            "type": "carpet"
           }
          ],
          "choropleth": [
           {
            "colorbar": {
             "outlinewidth": 0,
             "ticks": ""
            },
            "type": "choropleth"
           }
          ],
          "contour": [
           {
            "colorbar": {
             "outlinewidth": 0,
             "ticks": ""
            },
            "colorscale": [
             [
              0,
              "#0d0887"
             ],
             [
              0.1111111111111111,
              "#46039f"
             ],
             [
              0.2222222222222222,
              "#7201a8"
             ],
             [
              0.3333333333333333,
              "#9c179e"
             ],
             [
              0.4444444444444444,
              "#bd3786"
             ],
             [
              0.5555555555555556,
              "#d8576b"
             ],
             [
              0.6666666666666666,
              "#ed7953"
             ],
             [
              0.7777777777777778,
              "#fb9f3a"
             ],
             [
              0.8888888888888888,
              "#fdca26"
             ],
             [
              1,
              "#f0f921"
             ]
            ],
            "type": "contour"
           }
          ],
          "contourcarpet": [
           {
            "colorbar": {
             "outlinewidth": 0,
             "ticks": ""
            },
            "type": "contourcarpet"
           }
          ],
          "heatmap": [
           {
            "colorbar": {
             "outlinewidth": 0,
             "ticks": ""
            },
            "colorscale": [
             [
              0,
              "#0d0887"
             ],
             [
              0.1111111111111111,
              "#46039f"
             ],
             [
              0.2222222222222222,
              "#7201a8"
             ],
             [
              0.3333333333333333,
              "#9c179e"
             ],
             [
              0.4444444444444444,
              "#bd3786"
             ],
             [
              0.5555555555555556,
              "#d8576b"
             ],
             [
              0.6666666666666666,
              "#ed7953"
             ],
             [
              0.7777777777777778,
              "#fb9f3a"
             ],
             [
              0.8888888888888888,
              "#fdca26"
             ],
             [
              1,
              "#f0f921"
             ]
            ],
            "type": "heatmap"
           }
          ],
          "histogram": [
           {
            "marker": {
             "pattern": {
              "fillmode": "overlay",
              "size": 10,
              "solidity": 0.2
             }
            },
            "type": "histogram"
           }
          ],
          "histogram2d": [
           {
            "colorbar": {
             "outlinewidth": 0,
             "ticks": ""
            },
            "colorscale": [
             [
              0,
              "#0d0887"
             ],
             [
              0.1111111111111111,
              "#46039f"
             ],
             [
              0.2222222222222222,
              "#7201a8"
             ],
             [
              0.3333333333333333,
              "#9c179e"
             ],
             [
              0.4444444444444444,
              "#bd3786"
             ],
             [
              0.5555555555555556,
              "#d8576b"
             ],
             [
              0.6666666666666666,
              "#ed7953"
             ],
             [
              0.7777777777777778,
              "#fb9f3a"
             ],
             [
              0.8888888888888888,
              "#fdca26"
             ],
             [
              1,
              "#f0f921"
             ]
            ],
            "type": "histogram2d"
           }
          ],
          "histogram2dcontour": [
           {
            "colorbar": {
             "outlinewidth": 0,
             "ticks": ""
            },
            "colorscale": [
             [
              0,
              "#0d0887"
             ],
             [
              0.1111111111111111,
              "#46039f"
             ],
             [
              0.2222222222222222,
              "#7201a8"
             ],
             [
              0.3333333333333333,
              "#9c179e"
             ],
             [
              0.4444444444444444,
              "#bd3786"
             ],
             [
              0.5555555555555556,
              "#d8576b"
             ],
             [
              0.6666666666666666,
              "#ed7953"
             ],
             [
              0.7777777777777778,
              "#fb9f3a"
             ],
             [
              0.8888888888888888,
              "#fdca26"
             ],
             [
              1,
              "#f0f921"
             ]
            ],
            "type": "histogram2dcontour"
           }
          ],
          "mesh3d": [
           {
            "colorbar": {
             "outlinewidth": 0,
             "ticks": ""
            },
            "type": "mesh3d"
           }
          ],
          "parcoords": [
           {
            "line": {
             "colorbar": {
              "outlinewidth": 0,
              "ticks": ""
             }
            },
            "type": "parcoords"
           }
          ],
          "pie": [
           {
            "automargin": true,
            "type": "pie"
           }
          ],
          "scatter": [
           {
            "fillpattern": {
             "fillmode": "overlay",
             "size": 10,
             "solidity": 0.2
            },
            "type": "scatter"
           }
          ],
          "scatter3d": [
           {
            "line": {
             "colorbar": {
              "outlinewidth": 0,
              "ticks": ""
             }
            },
            "marker": {
             "colorbar": {
              "outlinewidth": 0,
              "ticks": ""
             }
            },
            "type": "scatter3d"
           }
          ],
          "scattercarpet": [
           {
            "marker": {
             "colorbar": {
              "outlinewidth": 0,
              "ticks": ""
             }
            },
            "type": "scattercarpet"
           }
          ],
          "scattergeo": [
           {
            "marker": {
             "colorbar": {
              "outlinewidth": 0,
              "ticks": ""
             }
            },
            "type": "scattergeo"
           }
          ],
          "scattergl": [
           {
            "marker": {
             "colorbar": {
              "outlinewidth": 0,
              "ticks": ""
             }
            },
            "type": "scattergl"
           }
          ],
          "scattermap": [
           {
            "marker": {
             "colorbar": {
              "outlinewidth": 0,
              "ticks": ""
             }
            },
            "type": "scattermap"
           }
          ],
          "scattermapbox": [
           {
            "marker": {
             "colorbar": {
              "outlinewidth": 0,
              "ticks": ""
             }
            },
            "type": "scattermapbox"
           }
          ],
          "scatterpolar": [
           {
            "marker": {
             "colorbar": {
              "outlinewidth": 0,
              "ticks": ""
             }
            },
            "type": "scatterpolar"
           }
          ],
          "scatterpolargl": [
           {
            "marker": {
             "colorbar": {
              "outlinewidth": 0,
              "ticks": ""
             }
            },
            "type": "scatterpolargl"
           }
          ],
          "scatterternary": [
           {
            "marker": {
             "colorbar": {
              "outlinewidth": 0,
              "ticks": ""
             }
            },
            "type": "scatterternary"
           }
          ],
          "surface": [
           {
            "colorbar": {
             "outlinewidth": 0,
             "ticks": ""
            },
            "colorscale": [
             [
              0,
              "#0d0887"
             ],
             [
              0.1111111111111111,
              "#46039f"
             ],
             [
              0.2222222222222222,
              "#7201a8"
             ],
             [
              0.3333333333333333,
              "#9c179e"
             ],
             [
              0.4444444444444444,
              "#bd3786"
             ],
             [
              0.5555555555555556,
              "#d8576b"
             ],
             [
              0.6666666666666666,
              "#ed7953"
             ],
             [
              0.7777777777777778,
              "#fb9f3a"
             ],
             [
              0.8888888888888888,
              "#fdca26"
             ],
             [
              1,
              "#f0f921"
             ]
            ],
            "type": "surface"
           }
          ],
          "table": [
           {
            "cells": {
             "fill": {
              "color": "#EBF0F8"
             },
             "line": {
              "color": "white"
             }
            },
            "header": {
             "fill": {
              "color": "#C8D4E3"
             },
             "line": {
              "color": "white"
             }
            },
            "type": "table"
           }
          ]
         },
         "layout": {
          "annotationdefaults": {
           "arrowcolor": "#2a3f5f",
           "arrowhead": 0,
           "arrowwidth": 1
          },
          "autotypenumbers": "strict",
          "coloraxis": {
           "colorbar": {
            "outlinewidth": 0,
            "ticks": ""
           }
          },
          "colorscale": {
           "diverging": [
            [
             0,
             "#8e0152"
            ],
            [
             0.1,
             "#c51b7d"
            ],
            [
             0.2,
             "#de77ae"
            ],
            [
             0.3,
             "#f1b6da"
            ],
            [
             0.4,
             "#fde0ef"
            ],
            [
             0.5,
             "#f7f7f7"
            ],
            [
             0.6,
             "#e6f5d0"
            ],
            [
             0.7,
             "#b8e186"
            ],
            [
             0.8,
             "#7fbc41"
            ],
            [
             0.9,
             "#4d9221"
            ],
            [
             1,
             "#276419"
            ]
           ],
           "sequential": [
            [
             0,
             "#0d0887"
            ],
            [
             0.1111111111111111,
             "#46039f"
            ],
            [
             0.2222222222222222,
             "#7201a8"
            ],
            [
             0.3333333333333333,
             "#9c179e"
            ],
            [
             0.4444444444444444,
             "#bd3786"
            ],
            [
             0.5555555555555556,
             "#d8576b"
            ],
            [
             0.6666666666666666,
             "#ed7953"
            ],
            [
             0.7777777777777778,
             "#fb9f3a"
            ],
            [
             0.8888888888888888,
             "#fdca26"
            ],
            [
             1,
             "#f0f921"
            ]
           ],
           "sequentialminus": [
            [
             0,
             "#0d0887"
            ],
            [
             0.1111111111111111,
             "#46039f"
            ],
            [
             0.2222222222222222,
             "#7201a8"
            ],
            [
             0.3333333333333333,
             "#9c179e"
            ],
            [
             0.4444444444444444,
             "#bd3786"
            ],
            [
             0.5555555555555556,
             "#d8576b"
            ],
            [
             0.6666666666666666,
             "#ed7953"
            ],
            [
             0.7777777777777778,
             "#fb9f3a"
            ],
            [
             0.8888888888888888,
             "#fdca26"
            ],
            [
             1,
             "#f0f921"
            ]
           ]
          },
          "colorway": [
           "#636efa",
           "#EF553B",
           "#00cc96",
           "#ab63fa",
           "#FFA15A",
           "#19d3f3",
           "#FF6692",
           "#B6E880",
           "#FF97FF",
           "#FECB52"
          ],
          "font": {
           "color": "#2a3f5f"
          },
          "geo": {
           "bgcolor": "white",
           "lakecolor": "white",
           "landcolor": "#E5ECF6",
           "showlakes": true,
           "showland": true,
           "subunitcolor": "white"
          },
          "hoverlabel": {
           "align": "left"
          },
          "hovermode": "closest",
          "mapbox": {
           "style": "light"
          },
          "paper_bgcolor": "white",
          "plot_bgcolor": "#E5ECF6",
          "polar": {
           "angularaxis": {
            "gridcolor": "white",
            "linecolor": "white",
            "ticks": ""
           },
           "bgcolor": "#E5ECF6",
           "radialaxis": {
            "gridcolor": "white",
            "linecolor": "white",
            "ticks": ""
           }
          },
          "scene": {
           "xaxis": {
            "backgroundcolor": "#E5ECF6",
            "gridcolor": "white",
            "gridwidth": 2,
            "linecolor": "white",
            "showbackground": true,
            "ticks": "",
            "zerolinecolor": "white"
           },
           "yaxis": {
            "backgroundcolor": "#E5ECF6",
            "gridcolor": "white",
            "gridwidth": 2,
            "linecolor": "white",
            "showbackground": true,
            "ticks": "",
            "zerolinecolor": "white"
           },
           "zaxis": {
            "backgroundcolor": "#E5ECF6",
            "gridcolor": "white",
            "gridwidth": 2,
            "linecolor": "white",
            "showbackground": true,
            "ticks": "",
            "zerolinecolor": "white"
           }
          },
          "shapedefaults": {
           "line": {
            "color": "#2a3f5f"
           }
          },
          "ternary": {
           "aaxis": {
            "gridcolor": "white",
            "linecolor": "white",
            "ticks": ""
           },
           "baxis": {
            "gridcolor": "white",
            "linecolor": "white",
            "ticks": ""
           },
           "bgcolor": "#E5ECF6",
           "caxis": {
            "gridcolor": "white",
            "linecolor": "white",
            "ticks": ""
           }
          },
          "title": {
           "x": 0.05
          },
          "xaxis": {
           "automargin": true,
           "gridcolor": "white",
           "linecolor": "white",
           "ticks": "",
           "title": {
            "standoff": 15
           },
           "zerolinecolor": "white",
           "zerolinewidth": 2
          },
          "yaxis": {
           "automargin": true,
           "gridcolor": "white",
           "linecolor": "white",
           "ticks": "",
           "title": {
            "standoff": 15
           },
           "zerolinecolor": "white",
           "zerolinewidth": 2
          }
         }
        },
        "xaxis": {
         "anchor": "y",
         "domain": [
          0,
          1
         ],
         "title": {
          "text": "Total"
         }
        },
        "yaxis": {
         "anchor": "x",
         "domain": [
          0,
          1
         ],
         "showgrid": false,
         "showticklabels": false,
         "title": {
          "text": "y"
         }
        }
       }
      }
     },
     "metadata": {},
     "output_type": "display_data"
    },
    {
     "name": "stdout",
     "output_type": "stream",
     "text": [
      "matriculados_ensino_nao_superior\n",
      "0    287\n",
      "1     20\n",
      "2      1\n",
      "Name: count, dtype: int64\n",
      "File saved to csv_files/1_Alunos matriculados no ensino não superior em ofertas de educação e formação.csv\n"
     ]
    }
   ],
   "source": [
    "clustered_df = aplicar_kmeans(only_municipalities_df,3,nome_cluster='matriculados_ensino_nao_superior')\n",
    "save_clustered_df_to_csv(clustered_df,\"csv_files/\", \"1_Alunos matriculados no ensino não superior em ofertas de educação e formação.csv\")"
   ]
  },
  {
   "cell_type": "markdown",
   "id": "edc6ca4b",
   "metadata": {},
   "source": [
    "### Num estabelecimentos de ensino não superior"
   ]
  },
  {
   "cell_type": "code",
   "execution_count": 5,
   "id": "bccfab45",
   "metadata": {},
   "outputs": [
    {
     "data": {
      "text/html": [
       "<div>\n",
       "<style scoped>\n",
       "    .dataframe tbody tr th:only-of-type {\n",
       "        vertical-align: middle;\n",
       "    }\n",
       "\n",
       "    .dataframe tbody tr th {\n",
       "        vertical-align: top;\n",
       "    }\n",
       "\n",
       "    .dataframe thead th {\n",
       "        text-align: right;\n",
       "    }\n",
       "</style>\n",
       "<table border=\"1\" class=\"dataframe\">\n",
       "  <thead>\n",
       "    <tr style=\"text-align: right;\">\n",
       "      <th></th>\n",
       "      <th>local</th>\n",
       "      <th>codigo</th>\n",
       "      <th>Total</th>\n",
       "      <th>Público</th>\n",
       "      <th>Privado</th>\n",
       "    </tr>\n",
       "  </thead>\n",
       "  <tbody>\n",
       "    <tr>\n",
       "      <th>4</th>\n",
       "      <td>Arcos de Valdevez</td>\n",
       "      <td>1111601</td>\n",
       "      <td>13.0</td>\n",
       "      <td>8.0</td>\n",
       "      <td>5.0</td>\n",
       "    </tr>\n",
       "    <tr>\n",
       "      <th>5</th>\n",
       "      <td>Caminha</td>\n",
       "      <td>1111602</td>\n",
       "      <td>19.0</td>\n",
       "      <td>14.0</td>\n",
       "      <td>5.0</td>\n",
       "    </tr>\n",
       "    <tr>\n",
       "      <th>6</th>\n",
       "      <td>Melgaço</td>\n",
       "      <td>1111603</td>\n",
       "      <td>4.0</td>\n",
       "      <td>3.0</td>\n",
       "      <td>1.0</td>\n",
       "    </tr>\n",
       "    <tr>\n",
       "      <th>7</th>\n",
       "      <td>Monção</td>\n",
       "      <td>1111604</td>\n",
       "      <td>10.0</td>\n",
       "      <td>7.0</td>\n",
       "      <td>3.0</td>\n",
       "    </tr>\n",
       "    <tr>\n",
       "      <th>8</th>\n",
       "      <td>Paredes de Coura</td>\n",
       "      <td>1111605</td>\n",
       "      <td>7.0</td>\n",
       "      <td>3.0</td>\n",
       "      <td>4.0</td>\n",
       "    </tr>\n",
       "    <tr>\n",
       "      <th>...</th>\n",
       "      <td>...</td>\n",
       "      <td>...</td>\n",
       "      <td>...</td>\n",
       "      <td>...</td>\n",
       "      <td>...</td>\n",
       "    </tr>\n",
       "    <tr>\n",
       "      <th>339</th>\n",
       "      <td>Porto Santo</td>\n",
       "      <td>3003201</td>\n",
       "      <td>2.0</td>\n",
       "      <td>1.0</td>\n",
       "      <td>1.0</td>\n",
       "    </tr>\n",
       "    <tr>\n",
       "      <th>340</th>\n",
       "      <td>Ribeira Brava</td>\n",
       "      <td>3003107</td>\n",
       "      <td>7.0</td>\n",
       "      <td>7.0</td>\n",
       "      <td>0.0</td>\n",
       "    </tr>\n",
       "    <tr>\n",
       "      <th>341</th>\n",
       "      <td>Santa Cruz</td>\n",
       "      <td>3003108</td>\n",
       "      <td>13.0</td>\n",
       "      <td>7.0</td>\n",
       "      <td>6.0</td>\n",
       "    </tr>\n",
       "    <tr>\n",
       "      <th>342</th>\n",
       "      <td>Santana</td>\n",
       "      <td>3003109</td>\n",
       "      <td>4.0</td>\n",
       "      <td>4.0</td>\n",
       "      <td>0.0</td>\n",
       "    </tr>\n",
       "    <tr>\n",
       "      <th>343</th>\n",
       "      <td>São Vicente</td>\n",
       "      <td>3003110</td>\n",
       "      <td>2.0</td>\n",
       "      <td>2.0</td>\n",
       "      <td>0.0</td>\n",
       "    </tr>\n",
       "  </tbody>\n",
       "</table>\n",
       "<p>308 rows × 5 columns</p>\n",
       "</div>"
      ],
      "text/plain": [
       "                 local   codigo  Total  Público  Privado\n",
       "4    Arcos de Valdevez  1111601   13.0      8.0      5.0\n",
       "5              Caminha  1111602   19.0     14.0      5.0\n",
       "6              Melgaço  1111603    4.0      3.0      1.0\n",
       "7               Monção  1111604   10.0      7.0      3.0\n",
       "8     Paredes de Coura  1111605    7.0      3.0      4.0\n",
       "..                 ...      ...    ...      ...      ...\n",
       "339        Porto Santo  3003201    2.0      1.0      1.0\n",
       "340      Ribeira Brava  3003107    7.0      7.0      0.0\n",
       "341         Santa Cruz  3003108   13.0      7.0      6.0\n",
       "342            Santana  3003109    4.0      4.0      0.0\n",
       "343        São Vicente  3003110    2.0      2.0      0.0\n",
       "\n",
       "[308 rows x 5 columns]"
      ]
     },
     "execution_count": 5,
     "metadata": {},
     "output_type": "execute_result"
    }
   ],
   "source": [
    "original_df = processar_ficheiro(data_path+'Num estabelecimentos de ensino não superior.xls',4,padding_left=1)\n",
    "only_municipalities_df = carregar_municipios(original_df)\n",
    "only_municipalities_df"
   ]
  },
  {
   "cell_type": "code",
   "execution_count": 6,
   "id": "f8a96c48",
   "metadata": {},
   "outputs": [
    {
     "data": {
      "application/vnd.plotly.v1+json": {
       "config": {
        "plotlyServerURL": "https://plot.ly"
       },
       "data": [
        {
         "customdata": [
          [
           "Arcos de Valdevez",
           "1111601",
           13
          ],
          [
           "Caminha",
           "1111602",
           19
          ],
          [
           "Melgaço",
           "1111603",
           4
          ],
          [
           "Monção",
           "1111604",
           10
          ],
          [
           "Paredes de Coura",
           "1111605",
           7
          ],
          [
           "Ponte da Barca",
           "1111606",
           6
          ],
          [
           "Ponte de Lima",
           "1111607",
           24
          ],
          [
           "Valença",
           "1111608",
           11
          ],
          [
           "Viana do Castelo",
           "1111609",
           68
          ],
          [
           "Vila Nova de Cerveira",
           "1111610",
           6
          ],
          [
           "Amares",
           "1120301",
           9
          ],
          [
           "Barcelos",
           "1120302",
           107
          ],
          [
           "Braga",
           "1120303",
           147
          ],
          [
           "Esposende",
           "1120306",
           32
          ],
          [
           "Terras de Bouro",
           "1120310",
           8
          ],
          [
           "Vila Verde",
           "1120313",
           40
          ],
          [
           "Cabeceiras de Basto",
           "1190304",
           12
          ],
          [
           "Fafe",
           "1190307",
           33
          ],
          [
           "Guimarães",
           "1190308",
           118
          ],
          [
           "Mondim de Basto",
           "1191705",
           6
          ],
          [
           "Póvoa de Lanhoso",
           "1190309",
           13
          ],
          [
           "Vieira do Minho",
           "1190311",
           6
          ],
          [
           "Vila Nova de Famalicão",
           "1190312",
           106
          ],
          [
           "Vizela",
           "1190314",
           15
          ],
          [
           "Arouca",
           "11A0104",
           16
          ],
          [
           "Espinho",
           "11A0107",
           18
          ],
          [
           "Gondomar",
           "11A1304",
           103
          ],
          [
           "Maia",
           "11A1306",
           79
          ],
          [
           "Matosinhos",
           "11A1308",
           89
          ],
          [
           "Oliveira de Azeméis",
           "11A0113",
           54
          ],
          [
           "Paredes",
           "11A1310",
           40
          ],
          [
           "Porto",
           "11A1312",
           192
          ],
          [
           "Póvoa de Varzim",
           "11A1313",
           50
          ],
          [
           "Santa Maria da Feira",
           "11A0109",
           114
          ],
          [
           "Santo Tirso",
           "11A1314",
           56
          ],
          [
           "São João da Madeira",
           "11A0116",
           21
          ],
          [
           "Trofa",
           "11A1318",
           25
          ],
          [
           "Vale de Cambra",
           "11A0119",
           16
          ],
          [
           "Valongo",
           "11A1315",
           57
          ],
          [
           "Vila do Conde",
           "11A1316",
           57
          ],
          [
           "Vila Nova de Gaia",
           "11A1317",
           191
          ],
          [
           "Boticas",
           "11B1702",
           4
          ],
          [
           "Chaves",
           "11B1703",
           25
          ],
          [
           "Montalegre",
           "11B1706",
           5
          ],
          [
           "Ribeira de Pena",
           "11B1709",
           6
          ],
          [
           "Valpaços",
           "11B1712",
           10
          ],
          [
           "Vila Pouca de Aguiar",
           "11B1713",
           10
          ],
          [
           "Amarante",
           "11C1301",
           36
          ],
          [
           "Baião",
           "11C1302",
           15
          ],
          [
           "Castelo de Paiva",
           "11C0106",
           24
          ],
          [
           "Celorico de Basto",
           "11C0305",
           20
          ],
          [
           "Cinfães",
           "11C1804",
           15
          ],
          [
           "Felgueiras",
           "11C1303",
           50
          ],
          [
           "Lousada",
           "11C1305",
           36
          ],
          [
           "Marco de Canaveses",
           "11C1307",
           56
          ],
          [
           "Paços de Ferreira",
           "11C1309",
           30
          ],
          [
           "Penafiel",
           "11C1311",
           57
          ],
          [
           "Resende",
           "11C1813",
           6
          ],
          [
           "Alijó",
           "11D1701",
           12
          ],
          [
           "Armamar",
           "11D1801",
           4
          ],
          [
           "Carrazeda de Ansiães",
           "11D0403",
           3
          ],
          [
           "Freixo de Espada à Cinta",
           "11D0404",
           5
          ],
          [
           "Lamego",
           "11D1805",
           15
          ],
          [
           "Mesão Frio",
           "11D1704",
           2
          ],
          [
           "Moimenta da Beira",
           "11D1807",
           7
          ],
          [
           "Murça",
           "11D1707",
           4
          ],
          [
           "Penedono",
           "11D1812",
           3
          ],
          [
           "Peso da Régua",
           "11D1708",
           11
          ],
          [
           "Sabrosa",
           "11D1710",
           5
          ],
          [
           "Santa Marta de Penaguião",
           "11D1711",
           8
          ],
          [
           "São João da Pesqueira",
           "11D1815",
           8
          ],
          [
           "Sernancelhe",
           "11D1818",
           4
          ],
          [
           "Tabuaço",
           "11D1819",
           1
          ],
          [
           "Tarouca",
           "11D1820",
           4
          ],
          [
           "Torre de Moncorvo",
           "11D0409",
           8
          ],
          [
           "Vila Nova de Foz Côa",
           "11D0914",
           2
          ],
          [
           "Vila Real",
           "11D1714",
           37
          ],
          [
           "Alfândega da Fé",
           "11E0401",
           4
          ],
          [
           "Bragança",
           "11E0402",
           30
          ],
          [
           "Macedo de Cavaleiros",
           "11E0405",
           8
          ],
          [
           "Miranda do Douro",
           "11E0406",
           7
          ],
          [
           "Mirandela",
           "11E0407",
           14
          ],
          [
           "Mogadouro",
           "11E0408",
           4
          ],
          [
           "Vila Flor",
           "11E0410",
           9
          ],
          [
           "Vimioso",
           "11E0411",
           2
          ],
          [
           "Vinhais",
           "11E0412",
           10
          ],
          [
           "Alcobaça",
           "16B1001",
           50
          ],
          [
           "Alenquer",
           "16B1101",
           35
          ],
          [
           "Arruda dos Vinhos",
           "16B1102",
           7
          ],
          [
           "Bombarral",
           "16B1005",
           7
          ],
          [
           "Cadaval",
           "16B1104",
           14
          ],
          [
           "Caldas da Rainha",
           "16B1006",
           50
          ],
          [
           "Lourinhã",
           "16B1108",
           23
          ],
          [
           "Nazaré",
           "16B1011",
           9
          ],
          [
           "Óbidos",
           "16B1012",
           15
          ],
          [
           "Peniche",
           "16B1014",
           30
          ],
          [
           "Sobral de Monte Agraço",
           "16B1112",
           7
          ],
          [
           "Torres Vedras",
           "16B1113",
           82
          ],
          [
           "Águeda",
           "16D0101",
           34
          ],
          [
           "Albergaria-a-Velha",
           "16D0102",
           32
          ],
          [
           "Anadia",
           "16D0103",
           31
          ],
          [
           "Aveiro",
           "16D0105",
           73
          ],
          [
           "Estarreja",
           "16D0108",
           16
          ],
          [
           "Ílhavo",
           "16D0110",
           34
          ],
          [
           "Murtosa",
           "16D0112",
           6
          ],
          [
           "Oliveira do Bairro",
           "16D0114",
           21
          ],
          [
           "Ovar",
           "16D0115",
           46
          ],
          [
           "Sever do Vouga",
           "16D0117",
           12
          ],
          [
           "Vagos",
           "16D0118",
           23
          ],
          [
           "Arganil",
           "16E0601",
           10
          ],
          [
           "Cantanhede",
           "16E0602",
           38
          ],
          [
           "Coimbra",
           "16E0603",
           132
          ],
          [
           "Condeixa-a-Nova",
           "16E0604",
           14
          ],
          [
           "Figueira da Foz",
           "16E0605",
           59
          ],
          [
           "Góis",
           "16E0606",
           4
          ],
          [
           "Lousã",
           "16E0607",
           12
          ],
          [
           "Mealhada",
           "16E0111",
           20
          ],
          [
           "Mira",
           "16E0608",
           13
          ],
          [
           "Miranda do Corvo",
           "16E0609",
           15
          ],
          [
           "Montemor-o-Velho",
           "16E0610",
           23
          ],
          [
           "Mortágua",
           "16E1808",
           4
          ],
          [
           "Oliveira do Hospital",
           "16E0611",
           25
          ],
          [
           "Pampilhosa da Serra",
           "16E0612",
           4
          ],
          [
           "Penacova",
           "16E0613",
           15
          ],
          [
           "Penela",
           "16E0614",
           4
          ],
          [
           "Soure",
           "16E0615",
           21
          ],
          [
           "Tábua",
           "16E0616",
           16
          ],
          [
           "Vila Nova de Poiares",
           "16E0617",
           6
          ],
          [
           "Alvaiázere",
           "16F1002",
           4
          ],
          [
           "Ansião",
           "16F1003",
           15
          ],
          [
           "Batalha",
           "16F1004",
           16
          ],
          [
           "Castanheira de Pêra",
           "16F1007",
           2
          ],
          [
           "Figueiró dos Vinhos",
           "16F1008",
           8
          ],
          [
           "Leiria",
           "16F1009",
           144
          ],
          [
           "Marinha Grande",
           "16F1010",
           36
          ],
          [
           "Pedrógão Grande",
           "16F1013",
           6
          ],
          [
           "Pombal",
           "16F1015",
           48
          ],
          [
           "Porto de Mós",
           "16F1016",
           26
          ],
          [
           "Aguiar da Beira",
           "16G0901",
           7
          ],
          [
           "Carregal do Sal",
           "16G1802",
           5
          ],
          [
           "Castro Daire",
           "16G1803",
           21
          ],
          [
           "Mangualde",
           "16G1806",
           19
          ],
          [
           "Nelas",
           "16G1809",
           25
          ],
          [
           "Oliveira de Frades",
           "16G1810",
           14
          ],
          [
           "Penalva do Castelo",
           "16G1811",
           6
          ],
          [
           "Santa Comba Dão",
           "16G1814",
           6
          ],
          [
           "São Pedro do Sul",
           "16G1816",
           17
          ],
          [
           "Sátão",
           "16G1817",
           13
          ],
          [
           "Tondela",
           "16G1821",
           38
          ],
          [
           "Vila Nova de Paiva",
           "16G1822",
           7
          ],
          [
           "Viseu",
           "16G1823",
           111
          ],
          [
           "Vouzela",
           "16G1824",
           13
          ],
          [
           "Castelo Branco",
           "16H0502",
           45
          ],
          [
           "Idanha-a-Nova",
           "16H0505",
           11
          ],
          [
           "Oleiros",
           "16H0506",
           5
          ],
          [
           "Penamacor",
           "16H0507",
           3
          ],
          [
           "Proença-a-Nova",
           "16H0508",
           4
          ],
          [
           "Vila Velha de Ródão",
           "16H0511",
           2
          ],
          [
           "Abrantes",
           "16I1401",
           25
          ],
          [
           "Alcanena",
           "16I1402",
           19
          ],
          [
           "Constância",
           "16I1408",
           4
          ],
          [
           "Entroncamento",
           "16I1410",
           14
          ],
          [
           "Ferreira do Zêzere",
           "16I1411",
           4
          ],
          [
           "Mação",
           "16I1413",
           3
          ],
          [
           "Ourém",
           "16I1421",
           40
          ],
          [
           "Sardoal",
           "16I1417",
           2
          ],
          [
           "Sertã",
           "16I0509",
           17
          ],
          [
           "Tomar",
           "16I1418",
           38
          ],
          [
           "Torres Novas",
           "16I1419",
           21
          ],
          [
           "Vila de Rei",
           "16I0510",
           3
          ],
          [
           "Vila Nova da Barquinha",
           "16I1420",
           8
          ],
          [
           "Almeida",
           "16J0902",
           2
          ],
          [
           "Belmonte",
           "16J0501",
           9
          ],
          [
           "Celorico da Beira",
           "16J0903",
           7
          ],
          [
           "Covilhã",
           "16J0503",
           57
          ],
          [
           "Figueira de Castelo Rodrigo",
           "16J0904",
           9
          ],
          [
           "Fornos de Algodres",
           "16J0905",
           6
          ],
          [
           "Fundão",
           "16J0504",
           39
          ],
          [
           "Gouveia",
           "16J0906",
           15
          ],
          [
           "Guarda",
           "16J0907",
           47
          ],
          [
           "Manteigas",
           "16J0908",
           4
          ],
          [
           "Mêda",
           "16J0909",
           3
          ],
          [
           "Pinhel",
           "16J0910",
           7
          ],
          [
           "Sabugal",
           "16J0911",
           13
          ],
          [
           "Seia",
           "16J0912",
           16
          ],
          [
           "Trancoso",
           "16J0913",
           9
          ],
          [
           "Alcochete",
           "1701502",
           14
          ],
          [
           "Almada",
           "1701503",
           120
          ],
          [
           "Amadora",
           "1701115",
           97
          ],
          [
           "Barreiro",
           "1701504",
           55
          ],
          [
           "Cascais",
           "1701105",
           149
          ],
          [
           "Lisboa",
           "1701106",
           386
          ],
          [
           "Loures",
           "1701107",
           129
          ],
          [
           "Mafra",
           "1701109",
           52
          ],
          [
           "Moita",
           "1701506",
           44
          ],
          [
           "Montijo",
           "1701507",
           46
          ],
          [
           "Odivelas",
           "1701116",
           93
          ],
          [
           "Oeiras",
           "1701110",
           111
          ],
          [
           "Palmela",
           "1701508",
           44
          ],
          [
           "Seixal",
           "1701510",
           100
          ],
          [
           "Sesimbra",
           "1701511",
           35
          ],
          [
           "Setúbal",
           "1701512",
           84
          ],
          [
           "Sintra",
           "1701111",
           229
          ],
          [
           "Vila Franca de Xira",
           "1701114",
           80
          ],
          [
           "Alcácer do Sal",
           "1811501",
           13
          ],
          [
           "Grândola",
           "1811505",
           15
          ],
          [
           "Odemira",
           "1810211",
           30
          ],
          [
           "Santiago do Cacém",
           "1811509",
           31
          ],
          [
           "Sines",
           "1811513",
           10
          ],
          [
           "Aljustrel",
           "1840201",
           9
          ],
          [
           "Almodôvar",
           "1840202",
           8
          ],
          [
           "Alvito",
           "1840203",
           3
          ],
          [
           "Barrancos",
           "1840204",
           2
          ],
          [
           "Beja",
           "1840205",
           28
          ],
          [
           "Castro Verde",
           "1840206",
           8
          ],
          [
           "Cuba",
           "1840207",
           7
          ],
          [
           "Ferreira do Alentejo",
           "1840208",
           10
          ],
          [
           "Mértola",
           "1840209",
           9
          ],
          [
           "Moura",
           "1840210",
           19
          ],
          [
           "Ourique",
           "1840212",
           6
          ],
          [
           "Serpa",
           "1840213",
           13
          ],
          [
           "Vidigueira",
           "1840214",
           6
          ],
          [
           "Almeirim",
           "1851403",
           17
          ],
          [
           "Alpiarça",
           "1851404",
           6
          ],
          [
           "Azambuja",
           "1851103",
           20
          ],
          [
           "Benavente",
           "1851405",
           21
          ],
          [
           "Cartaxo",
           "1851406",
           19
          ],
          [
           "Chamusca",
           "1851407",
           13
          ],
          [
           "Coruche",
           "1851409",
           20
          ],
          [
           "Golegã",
           "1851412",
           5
          ],
          [
           "Rio Maior",
           "1851414",
           13
          ],
          [
           "Salvaterra de Magos",
           "1851415",
           15
          ],
          [
           "Santarém",
           "1851416",
           59
          ],
          [
           "Alter do Chão",
           "1861201",
           4
          ],
          [
           "Arronches",
           "1861202",
           2
          ],
          [
           "Avis",
           "1861203",
           6
          ],
          [
           "Campo Maior",
           "1861204",
           4
          ],
          [
           "Castelo de Vide",
           "1861205",
           4
          ],
          [
           "Crato",
           "1861206",
           3
          ],
          [
           "Elvas",
           "1861207",
           24
          ],
          [
           "Fronteira",
           "1861208",
           3
          ],
          [
           "Gavião",
           "1861209",
           3
          ],
          [
           "Marvão",
           "1861210",
           2
          ],
          [
           "Monforte",
           "1861211",
           6
          ],
          [
           "Nisa",
           "1861212",
           3
          ],
          [
           "Ponte de Sor",
           "1861213",
           17
          ],
          [
           "Portalegre",
           "1861214",
           22
          ],
          [
           "Sousel",
           "1861215",
           6
          ],
          [
           "Alandroal",
           "1870701",
           4
          ],
          [
           "Arraiolos",
           "1870702",
           10
          ],
          [
           "Borba",
           "1870703",
           4
          ],
          [
           "Estremoz",
           "1870704",
           14
          ],
          [
           "Évora",
           "1870705",
           58
          ],
          [
           "Montemor-o-Novo",
           "1870706",
           18
          ],
          [
           "Mora",
           "1870707",
           7
          ],
          [
           "Mourão",
           "1870708",
           4
          ],
          [
           "Portel",
           "1870709",
           8
          ],
          [
           "Redondo",
           "1870710",
           3
          ],
          [
           "Reguengos de Monsaraz",
           "1870711",
           11
          ],
          [
           "Vendas Novas",
           "1870712",
           11
          ],
          [
           "Viana do Alentejo",
           "1870713",
           6
          ],
          [
           "Vila Viçosa",
           "1870714",
           11
          ],
          [
           "Albufeira",
           "1500801",
           30
          ],
          [
           "Alcoutim",
           "1500802",
           4
          ],
          [
           "Aljezur",
           "1500803",
           3
          ],
          [
           "Castro Marim",
           "1500804",
           7
          ],
          [
           "Faro",
           "1500805",
           51
          ],
          [
           "Lagoa",
           "1500806",
           20
          ],
          [
           "Lagos",
           "1500807",
           24
          ],
          [
           "Loulé",
           "1500808",
           56
          ],
          [
           "Monchique",
           "1500809",
           4
          ],
          [
           "Olhão",
           "1500810",
           30
          ],
          [
           "Portimão",
           "1500811",
           36
          ],
          [
           "São Brás de Alportel",
           "1500812",
           10
          ],
          [
           "Silves",
           "1500813",
           28
          ],
          [
           "Tavira",
           "1500814",
           23
          ],
          [
           "Vila do Bispo",
           "1500815",
           9
          ],
          [
           "Vila Real de Santo António",
           "1500816",
           11
          ],
          [
           "Angra do Heroísmo",
           "2004301",
           31
          ],
          [
           "Calheta",
           "2004501",
           4
          ],
          [
           "Corvo",
           "2004901",
           2
          ],
          [
           "Horta",
           "2004701",
           14
          ],
          [
           "Lagoa",
           "2004201",
           13
          ],
          [
           "Lajes das Flores",
           "2004801",
           1
          ],
          [
           "Lajes do Pico",
           "2004601",
           3
          ],
          [
           "Madalena",
           "2004602",
           9
          ],
          [
           "Nordeste",
           "2004202",
           6
          ],
          [
           "Ponta Delgada",
           "2004203",
           59
          ],
          [
           "Povoação",
           "2004204",
           10
          ],
          [
           "Ribeira Grande",
           "2004205",
           25
          ],
          [
           "Santa Cruz da Graciosa",
           "2004401",
           6
          ],
          [
           "Santa Cruz das Flores",
           "2004802",
           3
          ],
          [
           "São Roque do Pico",
           "2004603",
           3
          ],
          [
           "Velas",
           "2004502",
           6
          ],
          [
           "Vila da Praia da Vitória",
           "2004302",
           20
          ],
          [
           "Vila do Porto",
           "2004101",
           6
          ],
          [
           "Vila Franca do Campo",
           "2004206",
           8
          ],
          [
           "Calheta",
           "3003101",
           7
          ],
          [
           "Câmara de Lobos",
           "3003102",
           17
          ],
          [
           "Funchal",
           "3003103",
           69
          ],
          [
           "Machico",
           "3003104",
           8
          ],
          [
           "Ponta do Sol",
           "3003105",
           6
          ],
          [
           "Porto Moniz",
           "3003106",
           1
          ],
          [
           "Porto Santo",
           "3003201",
           2
          ],
          [
           "Ribeira Brava",
           "3003107",
           7
          ],
          [
           "Santa Cruz",
           "3003108",
           13
          ],
          [
           "Santana",
           "3003109",
           4
          ],
          [
           "São Vicente",
           "3003110",
           2
          ]
         ],
         "hovertemplate": "valor=%{x}<br>y=%{y}<br>local=%{customdata[0]}<br>codigo=%{customdata[1]}<br>Total=%{customdata[2]}<br>num_estabelecimentos_ensino_nao_superior=%{marker.color}<extra></extra>",
         "legendgroup": "",
         "marker": {
          "color": {
           "bdata": "AAAAAAAAAAABAAABAQAAAAAAAQAAAAEAAAABAQEBAAIBAQEAAAABAQIAAAAAAAAAAAAAAAEAAQABAAAAAAAAAAAAAAAAAAAAAAAAAAAAAAAAAAAAAAABAAAAAAEAAAAAAAEAAAABAAAAAAAAAAAAAQABAAAAAAAAAAAAAAAAAAAAAAAAAAEAAAEAAAAAAAAAAAAAAAAAAQAAAAAAAAAAAAAAAAAAAAAAAAAAAAAAAQAAAAAAAAAAAAAAAAEBAQECAQEAAAEBAAEAAQIBAAAAAAAAAAAAAAAAAAAAAAAAAAAAAAAAAAAAAAEAAAAAAAAAAAAAAAAAAAAAAAAAAQAAAAAAAAAAAAAAAAABAAABAAAAAAAAAAAAAAAAAAAAAAABAAAAAAAAAAAAAAABAAAAAAAAAAA=",
           "dtype": "i1"
          },
          "coloraxis": "coloraxis",
          "size": 10,
          "symbol": "circle"
         },
         "mode": "markers",
         "name": "",
         "orientation": "v",
         "showlegend": false,
         "type": "scatter",
         "x": {
          "bdata": "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",
          "dtype": "f8"
         },
         "xaxis": "x",
         "y": {
          "bdata": "AAAAAAAAAAAAAAAAAAAAAAAAAAAAAAAAAAAAAAAAAAAAAAAAAAAAAAAAAAAAAAAAAAAAAAAAAAAAAAAAAAAAAAAAAAAAAAAAAAAAAAAAAAAAAAAAAAAAAAAAAAAAAAAAAAAAAAAAAAAAAAAAAAAAAAAAAAAAAAAAAAAAAAAAAAAAAAAAAAAAAAAAAAAAAAAAAAAAAAAAAAAAAAAAAAAAAAAAAAAAAAAAAAAAAAAAAAAAAAAAAAAAAAAAAAAAAAAAAAAAAAAAAAAAAAAAAAAAAAAAAAAAAAAAAAAAAAAAAAAAAAAAAAAAAAAAAAAAAAAAAAAAAAAAAAAAAAAAAAAAAAAAAAAAAAAAAAAAAAAAAAAAAAAAAAAAAAAAAAAAAAAAAAAAAAAAAAAAAAAAAAAAAAAAAAA=",
          "dtype": "i1"
         },
         "yaxis": "y"
        }
       ],
       "layout": {
        "coloraxis": {
         "colorbar": {
          "title": {
           "text": "num_estabelecimentos_ensino_nao_superior"
          }
         },
         "colorscale": [
          [
           0,
           "#440154"
          ],
          [
           0.1111111111111111,
           "#482878"
          ],
          [
           0.2222222222222222,
           "#3e4989"
          ],
          [
           0.3333333333333333,
           "#31688e"
          ],
          [
           0.4444444444444444,
           "#26828e"
          ],
          [
           0.5555555555555556,
           "#1f9e89"
          ],
          [
           0.6666666666666666,
           "#35b779"
          ],
          [
           0.7777777777777778,
           "#6ece58"
          ],
          [
           0.8888888888888888,
           "#b5de2b"
          ],
          [
           1,
           "#fde725"
          ]
         ]
        },
        "height": 300,
        "legend": {
         "tracegroupgap": 0
        },
        "margin": {
         "t": 60
        },
        "template": {
         "data": {
          "bar": [
           {
            "error_x": {
             "color": "#2a3f5f"
            },
            "error_y": {
             "color": "#2a3f5f"
            },
            "marker": {
             "line": {
              "color": "#E5ECF6",
              "width": 0.5
             },
             "pattern": {
              "fillmode": "overlay",
              "size": 10,
              "solidity": 0.2
             }
            },
            "type": "bar"
           }
          ],
          "barpolar": [
           {
            "marker": {
             "line": {
              "color": "#E5ECF6",
              "width": 0.5
             },
             "pattern": {
              "fillmode": "overlay",
              "size": 10,
              "solidity": 0.2
             }
            },
            "type": "barpolar"
           }
          ],
          "carpet": [
           {
            "aaxis": {
             "endlinecolor": "#2a3f5f",
             "gridcolor": "white",
             "linecolor": "white",
             "minorgridcolor": "white",
             "startlinecolor": "#2a3f5f"
            },
            "baxis": {
             "endlinecolor": "#2a3f5f",
             "gridcolor": "white",
             "linecolor": "white",
             "minorgridcolor": "white",
             "startlinecolor": "#2a3f5f"
            },
            "type": "carpet"
           }
          ],
          "choropleth": [
           {
            "colorbar": {
             "outlinewidth": 0,
             "ticks": ""
            },
            "type": "choropleth"
           }
          ],
          "contour": [
           {
            "colorbar": {
             "outlinewidth": 0,
             "ticks": ""
            },
            "colorscale": [
             [
              0,
              "#0d0887"
             ],
             [
              0.1111111111111111,
              "#46039f"
             ],
             [
              0.2222222222222222,
              "#7201a8"
             ],
             [
              0.3333333333333333,
              "#9c179e"
             ],
             [
              0.4444444444444444,
              "#bd3786"
             ],
             [
              0.5555555555555556,
              "#d8576b"
             ],
             [
              0.6666666666666666,
              "#ed7953"
             ],
             [
              0.7777777777777778,
              "#fb9f3a"
             ],
             [
              0.8888888888888888,
              "#fdca26"
             ],
             [
              1,
              "#f0f921"
             ]
            ],
            "type": "contour"
           }
          ],
          "contourcarpet": [
           {
            "colorbar": {
             "outlinewidth": 0,
             "ticks": ""
            },
            "type": "contourcarpet"
           }
          ],
          "heatmap": [
           {
            "colorbar": {
             "outlinewidth": 0,
             "ticks": ""
            },
            "colorscale": [
             [
              0,
              "#0d0887"
             ],
             [
              0.1111111111111111,
              "#46039f"
             ],
             [
              0.2222222222222222,
              "#7201a8"
             ],
             [
              0.3333333333333333,
              "#9c179e"
             ],
             [
              0.4444444444444444,
              "#bd3786"
             ],
             [
              0.5555555555555556,
              "#d8576b"
             ],
             [
              0.6666666666666666,
              "#ed7953"
             ],
             [
              0.7777777777777778,
              "#fb9f3a"
             ],
             [
              0.8888888888888888,
              "#fdca26"
             ],
             [
              1,
              "#f0f921"
             ]
            ],
            "type": "heatmap"
           }
          ],
          "histogram": [
           {
            "marker": {
             "pattern": {
              "fillmode": "overlay",
              "size": 10,
              "solidity": 0.2
             }
            },
            "type": "histogram"
           }
          ],
          "histogram2d": [
           {
            "colorbar": {
             "outlinewidth": 0,
             "ticks": ""
            },
            "colorscale": [
             [
              0,
              "#0d0887"
             ],
             [
              0.1111111111111111,
              "#46039f"
             ],
             [
              0.2222222222222222,
              "#7201a8"
             ],
             [
              0.3333333333333333,
              "#9c179e"
             ],
             [
              0.4444444444444444,
              "#bd3786"
             ],
             [
              0.5555555555555556,
              "#d8576b"
             ],
             [
              0.6666666666666666,
              "#ed7953"
             ],
             [
              0.7777777777777778,
              "#fb9f3a"
             ],
             [
              0.8888888888888888,
              "#fdca26"
             ],
             [
              1,
              "#f0f921"
             ]
            ],
            "type": "histogram2d"
           }
          ],
          "histogram2dcontour": [
           {
            "colorbar": {
             "outlinewidth": 0,
             "ticks": ""
            },
            "colorscale": [
             [
              0,
              "#0d0887"
             ],
             [
              0.1111111111111111,
              "#46039f"
             ],
             [
              0.2222222222222222,
              "#7201a8"
             ],
             [
              0.3333333333333333,
              "#9c179e"
             ],
             [
              0.4444444444444444,
              "#bd3786"
             ],
             [
              0.5555555555555556,
              "#d8576b"
             ],
             [
              0.6666666666666666,
              "#ed7953"
             ],
             [
              0.7777777777777778,
              "#fb9f3a"
             ],
             [
              0.8888888888888888,
              "#fdca26"
             ],
             [
              1,
              "#f0f921"
             ]
            ],
            "type": "histogram2dcontour"
           }
          ],
          "mesh3d": [
           {
            "colorbar": {
             "outlinewidth": 0,
             "ticks": ""
            },
            "type": "mesh3d"
           }
          ],
          "parcoords": [
           {
            "line": {
             "colorbar": {
              "outlinewidth": 0,
              "ticks": ""
             }
            },
            "type": "parcoords"
           }
          ],
          "pie": [
           {
            "automargin": true,
            "type": "pie"
           }
          ],
          "scatter": [
           {
            "fillpattern": {
             "fillmode": "overlay",
             "size": 10,
             "solidity": 0.2
            },
            "type": "scatter"
           }
          ],
          "scatter3d": [
           {
            "line": {
             "colorbar": {
              "outlinewidth": 0,
              "ticks": ""
             }
            },
            "marker": {
             "colorbar": {
              "outlinewidth": 0,
              "ticks": ""
             }
            },
            "type": "scatter3d"
           }
          ],
          "scattercarpet": [
           {
            "marker": {
             "colorbar": {
              "outlinewidth": 0,
              "ticks": ""
             }
            },
            "type": "scattercarpet"
           }
          ],
          "scattergeo": [
           {
            "marker": {
             "colorbar": {
              "outlinewidth": 0,
              "ticks": ""
             }
            },
            "type": "scattergeo"
           }
          ],
          "scattergl": [
           {
            "marker": {
             "colorbar": {
              "outlinewidth": 0,
              "ticks": ""
             }
            },
            "type": "scattergl"
           }
          ],
          "scattermap": [
           {
            "marker": {
             "colorbar": {
              "outlinewidth": 0,
              "ticks": ""
             }
            },
            "type": "scattermap"
           }
          ],
          "scattermapbox": [
           {
            "marker": {
             "colorbar": {
              "outlinewidth": 0,
              "ticks": ""
             }
            },
            "type": "scattermapbox"
           }
          ],
          "scatterpolar": [
           {
            "marker": {
             "colorbar": {
              "outlinewidth": 0,
              "ticks": ""
             }
            },
            "type": "scatterpolar"
           }
          ],
          "scatterpolargl": [
           {
            "marker": {
             "colorbar": {
              "outlinewidth": 0,
              "ticks": ""
             }
            },
            "type": "scatterpolargl"
           }
          ],
          "scatterternary": [
           {
            "marker": {
             "colorbar": {
              "outlinewidth": 0,
              "ticks": ""
             }
            },
            "type": "scatterternary"
           }
          ],
          "surface": [
           {
            "colorbar": {
             "outlinewidth": 0,
             "ticks": ""
            },
            "colorscale": [
             [
              0,
              "#0d0887"
             ],
             [
              0.1111111111111111,
              "#46039f"
             ],
             [
              0.2222222222222222,
              "#7201a8"
             ],
             [
              0.3333333333333333,
              "#9c179e"
             ],
             [
              0.4444444444444444,
              "#bd3786"
             ],
             [
              0.5555555555555556,
              "#d8576b"
             ],
             [
              0.6666666666666666,
              "#ed7953"
             ],
             [
              0.7777777777777778,
              "#fb9f3a"
             ],
             [
              0.8888888888888888,
              "#fdca26"
             ],
             [
              1,
              "#f0f921"
             ]
            ],
            "type": "surface"
           }
          ],
          "table": [
           {
            "cells": {
             "fill": {
              "color": "#EBF0F8"
             },
             "line": {
              "color": "white"
             }
            },
            "header": {
             "fill": {
              "color": "#C8D4E3"
             },
             "line": {
              "color": "white"
             }
            },
            "type": "table"
           }
          ]
         },
         "layout": {
          "annotationdefaults": {
           "arrowcolor": "#2a3f5f",
           "arrowhead": 0,
           "arrowwidth": 1
          },
          "autotypenumbers": "strict",
          "coloraxis": {
           "colorbar": {
            "outlinewidth": 0,
            "ticks": ""
           }
          },
          "colorscale": {
           "diverging": [
            [
             0,
             "#8e0152"
            ],
            [
             0.1,
             "#c51b7d"
            ],
            [
             0.2,
             "#de77ae"
            ],
            [
             0.3,
             "#f1b6da"
            ],
            [
             0.4,
             "#fde0ef"
            ],
            [
             0.5,
             "#f7f7f7"
            ],
            [
             0.6,
             "#e6f5d0"
            ],
            [
             0.7,
             "#b8e186"
            ],
            [
             0.8,
             "#7fbc41"
            ],
            [
             0.9,
             "#4d9221"
            ],
            [
             1,
             "#276419"
            ]
           ],
           "sequential": [
            [
             0,
             "#0d0887"
            ],
            [
             0.1111111111111111,
             "#46039f"
            ],
            [
             0.2222222222222222,
             "#7201a8"
            ],
            [
             0.3333333333333333,
             "#9c179e"
            ],
            [
             0.4444444444444444,
             "#bd3786"
            ],
            [
             0.5555555555555556,
             "#d8576b"
            ],
            [
             0.6666666666666666,
             "#ed7953"
            ],
            [
             0.7777777777777778,
             "#fb9f3a"
            ],
            [
             0.8888888888888888,
             "#fdca26"
            ],
            [
             1,
             "#f0f921"
            ]
           ],
           "sequentialminus": [
            [
             0,
             "#0d0887"
            ],
            [
             0.1111111111111111,
             "#46039f"
            ],
            [
             0.2222222222222222,
             "#7201a8"
            ],
            [
             0.3333333333333333,
             "#9c179e"
            ],
            [
             0.4444444444444444,
             "#bd3786"
            ],
            [
             0.5555555555555556,
             "#d8576b"
            ],
            [
             0.6666666666666666,
             "#ed7953"
            ],
            [
             0.7777777777777778,
             "#fb9f3a"
            ],
            [
             0.8888888888888888,
             "#fdca26"
            ],
            [
             1,
             "#f0f921"
            ]
           ]
          },
          "colorway": [
           "#636efa",
           "#EF553B",
           "#00cc96",
           "#ab63fa",
           "#FFA15A",
           "#19d3f3",
           "#FF6692",
           "#B6E880",
           "#FF97FF",
           "#FECB52"
          ],
          "font": {
           "color": "#2a3f5f"
          },
          "geo": {
           "bgcolor": "white",
           "lakecolor": "white",
           "landcolor": "#E5ECF6",
           "showlakes": true,
           "showland": true,
           "subunitcolor": "white"
          },
          "hoverlabel": {
           "align": "left"
          },
          "hovermode": "closest",
          "mapbox": {
           "style": "light"
          },
          "paper_bgcolor": "white",
          "plot_bgcolor": "#E5ECF6",
          "polar": {
           "angularaxis": {
            "gridcolor": "white",
            "linecolor": "white",
            "ticks": ""
           },
           "bgcolor": "#E5ECF6",
           "radialaxis": {
            "gridcolor": "white",
            "linecolor": "white",
            "ticks": ""
           }
          },
          "scene": {
           "xaxis": {
            "backgroundcolor": "#E5ECF6",
            "gridcolor": "white",
            "gridwidth": 2,
            "linecolor": "white",
            "showbackground": true,
            "ticks": "",
            "zerolinecolor": "white"
           },
           "yaxis": {
            "backgroundcolor": "#E5ECF6",
            "gridcolor": "white",
            "gridwidth": 2,
            "linecolor": "white",
            "showbackground": true,
            "ticks": "",
            "zerolinecolor": "white"
           },
           "zaxis": {
            "backgroundcolor": "#E5ECF6",
            "gridcolor": "white",
            "gridwidth": 2,
            "linecolor": "white",
            "showbackground": true,
            "ticks": "",
            "zerolinecolor": "white"
           }
          },
          "shapedefaults": {
           "line": {
            "color": "#2a3f5f"
           }
          },
          "ternary": {
           "aaxis": {
            "gridcolor": "white",
            "linecolor": "white",
            "ticks": ""
           },
           "baxis": {
            "gridcolor": "white",
            "linecolor": "white",
            "ticks": ""
           },
           "bgcolor": "#E5ECF6",
           "caxis": {
            "gridcolor": "white",
            "linecolor": "white",
            "ticks": ""
           }
          },
          "title": {
           "x": 0.05
          },
          "xaxis": {
           "automargin": true,
           "gridcolor": "white",
           "linecolor": "white",
           "ticks": "",
           "title": {
            "standoff": 15
           },
           "zerolinecolor": "white",
           "zerolinewidth": 2
          },
          "yaxis": {
           "automargin": true,
           "gridcolor": "white",
           "linecolor": "white",
           "ticks": "",
           "title": {
            "standoff": 15
           },
           "zerolinecolor": "white",
           "zerolinewidth": 2
          }
         }
        },
        "xaxis": {
         "anchor": "y",
         "domain": [
          0,
          1
         ],
         "title": {
          "text": "Total"
         }
        },
        "yaxis": {
         "anchor": "x",
         "domain": [
          0,
          1
         ],
         "showgrid": false,
         "showticklabels": false,
         "title": {
          "text": "y"
         }
        }
       }
      }
     },
     "metadata": {},
     "output_type": "display_data"
    },
    {
     "name": "stdout",
     "output_type": "stream",
     "text": [
      "num_estabelecimentos_ensino_nao_superior\n",
      "0    260\n",
      "1     44\n",
      "2      4\n",
      "Name: count, dtype: int64\n",
      "File saved to csv_files/1_Num estabelecimentos de ensino não superior.csv\n"
     ]
    }
   ],
   "source": [
    "clustered_df = aplicar_kmeans(only_municipalities_df,3,nome_cluster='num_estabelecimentos_ensino_nao_superior')\n",
    "save_clustered_df_to_csv(clustered_df,\"csv_files/\", \"1_Num estabelecimentos de ensino não superior.csv\")"
   ]
  },
  {
   "cell_type": "markdown",
   "id": "3425cc2e",
   "metadata": {},
   "source": [
    "### Proporção da população residente com pelo menos o ensino secundário completo"
   ]
  },
  {
   "cell_type": "code",
   "execution_count": 7,
   "id": "c8f6616b",
   "metadata": {},
   "outputs": [
    {
     "data": {
      "text/html": [
       "<div>\n",
       "<style scoped>\n",
       "    .dataframe tbody tr th:only-of-type {\n",
       "        vertical-align: middle;\n",
       "    }\n",
       "\n",
       "    .dataframe tbody tr th {\n",
       "        vertical-align: top;\n",
       "    }\n",
       "\n",
       "    .dataframe thead th {\n",
       "        text-align: right;\n",
       "    }\n",
       "</style>\n",
       "<table border=\"1\" class=\"dataframe\">\n",
       "  <thead>\n",
       "    <tr style=\"text-align: right;\">\n",
       "      <th></th>\n",
       "      <th>local</th>\n",
       "      <th>codigo</th>\n",
       "      <th>HM</th>\n",
       "      <th>H</th>\n",
       "      <th>M</th>\n",
       "    </tr>\n",
       "  </thead>\n",
       "  <tbody>\n",
       "    <tr>\n",
       "      <th>4</th>\n",
       "      <td>Arcos de Valdevez</td>\n",
       "      <td>1111601</td>\n",
       "      <td>29.86</td>\n",
       "      <td>28.78</td>\n",
       "      <td>30.76</td>\n",
       "    </tr>\n",
       "    <tr>\n",
       "      <th>41</th>\n",
       "      <td>Caminha</td>\n",
       "      <td>1111602</td>\n",
       "      <td>41.61</td>\n",
       "      <td>40.72</td>\n",
       "      <td>42.35</td>\n",
       "    </tr>\n",
       "    <tr>\n",
       "      <th>56</th>\n",
       "      <td>Melgaço</td>\n",
       "      <td>1111603</td>\n",
       "      <td>27.47</td>\n",
       "      <td>27.01</td>\n",
       "      <td>27.83</td>\n",
       "    </tr>\n",
       "    <tr>\n",
       "      <th>70</th>\n",
       "      <td>Monção</td>\n",
       "      <td>1111604</td>\n",
       "      <td>34.89</td>\n",
       "      <td>33.99</td>\n",
       "      <td>35.63</td>\n",
       "    </tr>\n",
       "    <tr>\n",
       "      <th>95</th>\n",
       "      <td>Paredes de Coura</td>\n",
       "      <td>1111605</td>\n",
       "      <td>30.62</td>\n",
       "      <td>28.75</td>\n",
       "      <td>32.32</td>\n",
       "    </tr>\n",
       "    <tr>\n",
       "      <th>...</th>\n",
       "      <td>...</td>\n",
       "      <td>...</td>\n",
       "      <td>...</td>\n",
       "      <td>...</td>\n",
       "      <td>...</td>\n",
       "    </tr>\n",
       "    <tr>\n",
       "      <th>3412</th>\n",
       "      <td>Porto Santo</td>\n",
       "      <td>3003201</td>\n",
       "      <td>40.60</td>\n",
       "      <td>37.29</td>\n",
       "      <td>43.74</td>\n",
       "    </tr>\n",
       "    <tr>\n",
       "      <th>3414</th>\n",
       "      <td>Ribeira Brava</td>\n",
       "      <td>3003107</td>\n",
       "      <td>34.03</td>\n",
       "      <td>31.40</td>\n",
       "      <td>36.13</td>\n",
       "    </tr>\n",
       "    <tr>\n",
       "      <th>3419</th>\n",
       "      <td>Santa Cruz</td>\n",
       "      <td>3003108</td>\n",
       "      <td>48.37</td>\n",
       "      <td>44.21</td>\n",
       "      <td>52.06</td>\n",
       "    </tr>\n",
       "    <tr>\n",
       "      <th>3425</th>\n",
       "      <td>Santana</td>\n",
       "      <td>3003109</td>\n",
       "      <td>29.98</td>\n",
       "      <td>29.41</td>\n",
       "      <td>30.44</td>\n",
       "    </tr>\n",
       "    <tr>\n",
       "      <th>3432</th>\n",
       "      <td>São Vicente</td>\n",
       "      <td>3003110</td>\n",
       "      <td>29.74</td>\n",
       "      <td>27.34</td>\n",
       "      <td>31.72</td>\n",
       "    </tr>\n",
       "  </tbody>\n",
       "</table>\n",
       "<p>306 rows × 5 columns</p>\n",
       "</div>"
      ],
      "text/plain": [
       "                  local   codigo     HM      H      M\n",
       "4     Arcos de Valdevez  1111601  29.86  28.78  30.76\n",
       "41              Caminha  1111602  41.61  40.72  42.35\n",
       "56              Melgaço  1111603  27.47  27.01  27.83\n",
       "70               Monção  1111604  34.89  33.99  35.63\n",
       "95     Paredes de Coura  1111605  30.62  28.75  32.32\n",
       "...                 ...      ...    ...    ...    ...\n",
       "3412        Porto Santo  3003201  40.60  37.29  43.74\n",
       "3414      Ribeira Brava  3003107  34.03  31.40  36.13\n",
       "3419         Santa Cruz  3003108  48.37  44.21  52.06\n",
       "3425            Santana  3003109  29.98  29.41  30.44\n",
       "3432        São Vicente  3003110  29.74  27.34  31.72\n",
       "\n",
       "[306 rows x 5 columns]"
      ]
     },
     "execution_count": 7,
     "metadata": {},
     "output_type": "execute_result"
    }
   ],
   "source": [
    "original_df = processar_ficheiro(data_path+'Proporção da população residente com pelo menos o ensino secundário completo.xls',4,padding_left=0)\n",
    "only_municipalities_df = filter_for_only_municipalities(original_df)\n",
    "only_municipalities_df\n",
    "\n"
   ]
  },
  {
   "cell_type": "code",
   "execution_count": 8,
   "id": "e3481100",
   "metadata": {},
   "outputs": [
    {
     "data": {
      "application/vnd.plotly.v1+json": {
       "config": {
        "plotlyServerURL": "https://plot.ly"
       },
       "data": [
        {
         "customdata": [
          [
           "Arcos de Valdevez",
           "1111601",
           29.86
          ],
          [
           "Caminha",
           "1111602",
           41.61
          ],
          [
           "Melgaço",
           "1111603",
           27.47
          ],
          [
           "Monção",
           "1111604",
           34.89
          ],
          [
           "Paredes de Coura",
           "1111605",
           30.62
          ],
          [
           "Ponte da Barca",
           "1111606",
           33.32
          ],
          [
           "Ponte de Lima",
           "1111607",
           35.14
          ],
          [
           "Valença",
           "1111608",
           37.08
          ],
          [
           "Viana do Castelo",
           "1111609",
           44.22
          ],
          [
           "Vila Nova de Cerveira",
           "1111610",
           38.58
          ],
          [
           "Amares",
           "1120301",
           39.29
          ],
          [
           "Barcelos",
           "1120302",
           36.37
          ],
          [
           "Braga",
           "1120303",
           53.91
          ],
          [
           "Esposende",
           "1120306",
           43.17
          ],
          [
           "Terras de Bouro",
           "1120310",
           30.74
          ],
          [
           "Vila Verde",
           "1120313",
           36.86
          ],
          [
           "Cabeceiras de Basto",
           "1190304",
           33.32
          ],
          [
           "Fafe",
           "1190307",
           33.04
          ],
          [
           "Guimarães",
           "1190308",
           38
          ],
          [
           "Mondim de Basto",
           "1191705",
           28.7
          ],
          [
           "Póvoa de Lanhoso",
           "1190309",
           32.26
          ],
          [
           "Vieira do Minho",
           "1190311",
           29.78
          ],
          [
           "Vila Nova de Famalicão",
           "1190312",
           40.48
          ],
          [
           "Vizela",
           "1190314",
           33.6
          ],
          [
           "Arouca",
           "11A0104",
           31.66
          ],
          [
           "Espinho",
           "11A0107",
           42.78
          ],
          [
           "Gondomar",
           "11A1304",
           44.13
          ],
          [
           "Maia",
           "11A1306",
           53.42
          ],
          [
           "Matosinhos",
           "11A1308",
           50.32
          ],
          [
           "Oliveira de Azeméis",
           "11A0113",
           35.91
          ],
          [
           "Paredes",
           "11A1310",
           36.3
          ],
          [
           "Porto",
           "11A1312",
           58.36
          ],
          [
           "Póvoa de Varzim",
           "11A1313",
           42.46
          ],
          [
           "Santa Maria da Feira",
           "11A0109",
           39.45
          ],
          [
           "Santo Tirso",
           "11A1314",
           36.3
          ],
          [
           "São João da Madeira",
           "11A0116",
           44.95
          ],
          [
           "Trofa",
           "11A1318",
           39.2
          ],
          [
           "Vale de Cambra",
           "11A0119",
           35.93
          ],
          [
           "Valongo",
           "11A1315",
           45.11
          ],
          [
           "Vila do Conde",
           "11A1316",
           41.91
          ],
          [
           "Vila Nova de Gaia",
           "11A1317",
           47.74
          ],
          [
           "Boticas",
           "11B1702",
           24.02
          ],
          [
           "Chaves",
           "11B1703",
           37.62
          ],
          [
           "Montalegre",
           "11B1706",
           24.54
          ],
          [
           "Ribeira de Pena",
           "11B1709",
           25.91
          ],
          [
           "Valpaços",
           "11B1712",
           22.98
          ],
          [
           "Vila Pouca de Aguiar",
           "11B1713",
           27.59
          ],
          [
           "Amarante",
           "11C1301",
           35.17
          ],
          [
           "Baião",
           "11C1302",
           27.34
          ],
          [
           "Castelo de Paiva",
           "11C0106",
           30.16
          ],
          [
           "Celorico de Basto",
           "11C0305",
           30.23
          ],
          [
           "Cinfães",
           "11C1804",
           25.96
          ],
          [
           "Felgueiras",
           "11C1303",
           32
          ],
          [
           "Lousada",
           "11C1305",
           32.33
          ],
          [
           "Marco de Canaveses",
           "11C1307",
           32.1
          ],
          [
           "Paços de Ferreira",
           "11C1309",
           31.8
          ],
          [
           "Penafiel",
           "11C1311",
           35.76
          ],
          [
           "Resende",
           "11C1813",
           27.6
          ],
          [
           "Alijó",
           "11D1701",
           27.22
          ],
          [
           "Armamar",
           "11D1801",
           28.77
          ],
          [
           "Carrazeda de Ansiães",
           "11D0403",
           27.36
          ],
          [
           "Freixo de Espada à Cinta",
           "11D0404",
           25.44
          ],
          [
           "Lamego",
           "11D1805",
           38.25
          ],
          [
           "Mesão Frio",
           "11D1704",
           28.52
          ],
          [
           "Moimenta da Beira",
           "11D1807",
           32.46
          ],
          [
           "Murça",
           "11D1707",
           26.78
          ],
          [
           "Penedono",
           "11D1812",
           29.04
          ],
          [
           "Peso da Régua",
           "11D1708",
           36.01
          ],
          [
           "Sabrosa",
           "11D1710",
           28.07
          ],
          [
           "Santa Marta de Penaguião",
           "11D1711",
           27.89
          ],
          [
           "São João da Pesqueira",
           "11D1815",
           26.12
          ],
          [
           "Sernancelhe",
           "11D1818",
           29.12
          ],
          [
           "Tabuaço",
           "11D1819",
           26.1
          ],
          [
           "Tarouca",
           "11D1820",
           31.41
          ],
          [
           "Torre de Moncorvo",
           "11D0409",
           29.75
          ],
          [
           "Vila Nova de Foz Côa",
           "11D0914",
           29.18
          ],
          [
           "Vila Real",
           "11D1714",
           50.1
          ],
          [
           "Alfândega da Fé",
           "11E0401",
           30.61
          ],
          [
           "Bragança",
           "11E0402",
           48.75
          ],
          [
           "Macedo de Cavaleiros",
           "11E0405",
           33.41
          ],
          [
           "Miranda do Douro",
           "11E0406",
           33.42
          ],
          [
           "Mirandela",
           "11E0407",
           38.67
          ],
          [
           "Mogadouro",
           "11E0408",
           32.79
          ],
          [
           "Vila Flor",
           "11E0410",
           29.41
          ],
          [
           "Vimioso",
           "11E0411",
           25.21
          ],
          [
           "Vinhais",
           "11E0412",
           23.13
          ],
          [
           "Alcobaça",
           "16B1001",
           40.04
          ],
          [
           "Alenquer",
           "16B1101",
           43.5
          ],
          [
           "Arruda dos Vinhos",
           "16B1102",
           49.69
          ],
          [
           "Bombarral",
           "16B1005",
           38.26
          ],
          [
           "Cadaval",
           "16B1104",
           34.36
          ],
          [
           "Caldas da Rainha",
           "16B1006",
           46.69
          ],
          [
           "Lourinhã",
           "16B1108",
           39.13
          ],
          [
           "Nazaré",
           "16B1011",
           39.04
          ],
          [
           "Óbidos",
           "16B1012",
           41.29
          ],
          [
           "Peniche",
           "16B1014",
           38.15
          ],
          [
           "Sobral de Monte Agraço",
           "16B1112",
           41.16
          ],
          [
           "Torres Vedras",
           "16B1113",
           43.11
          ],
          [
           "Águeda",
           "16D0101",
           38.47
          ],
          [
           "Albergaria-a-Velha",
           "16D0102",
           38.82
          ],
          [
           "Anadia",
           "16D0103",
           38.17
          ],
          [
           "Aveiro",
           "16D0105",
           54.45
          ],
          [
           "Estarreja",
           "16D0108",
           37.03
          ],
          [
           "Ílhavo",
           "16D0110",
           46.54
          ],
          [
           "Murtosa",
           "16D0112",
           32.37
          ],
          [
           "Oliveira do Bairro",
           "16D0114",
           41.77
          ],
          [
           "Ovar",
           "16D0115",
           43.36
          ],
          [
           "Sever do Vouga",
           "16D0117",
           35.45
          ],
          [
           "Vagos",
           "16D0118",
           37.59
          ],
          [
           "Arganil",
           "16E0601",
           31.92
          ],
          [
           "Cantanhede",
           "16E0602",
           38.02
          ],
          [
           "Coimbra",
           "16E0603",
           58.68
          ],
          [
           "Condeixa-a-Nova",
           "16E0604",
           49.95
          ],
          [
           "Figueira da Foz",
           "16E0605",
           44.37
          ],
          [
           "Góis",
           "16E0606",
           29.76
          ],
          [
           "Lousã",
           "16E0607",
           44.69
          ],
          [
           "Mealhada",
           "16E0111",
           42.44
          ],
          [
           "Mira",
           "16E0608",
           38.57
          ],
          [
           "Miranda do Corvo",
           "16E0609",
           38.13
          ],
          [
           "Montemor-o-Velho",
           "16E0610",
           40.33
          ],
          [
           "Mortágua",
           "16E1808",
           30.3
          ],
          [
           "Oliveira do Hospital",
           "16E0611",
           33.92
          ],
          [
           "Pampilhosa da Serra",
           "16E0612",
           21.38
          ],
          [
           "Penacova",
           "16E0613",
           30.4
          ],
          [
           "Penela",
           "16E0614",
           34.7
          ],
          [
           "Soure",
           "16E0615",
           36.52
          ],
          [
           "Tábua",
           "16E0616",
           31.72
          ],
          [
           "Vila Nova de Poiares",
           "16E0617",
           36.09
          ],
          [
           "Alvaiázere",
           "16F1002",
           29.96
          ],
          [
           "Ansião",
           "16F1003",
           34.62
          ],
          [
           "Batalha",
           "16F1004",
           41.71
          ],
          [
           "Castanheira de Pêra",
           "16F1007",
           27.36
          ],
          [
           "Figueiró dos Vinhos",
           "16F1008",
           30.65
          ],
          [
           "Leiria",
           "16F1009",
           48.02
          ],
          [
           "Marinha Grande",
           "16F1010",
           45.89
          ],
          [
           "Pedrógão Grande",
           "16F1013",
           29.97
          ],
          [
           "Pombal",
           "16F1015",
           35.94
          ],
          [
           "Porto de Mós",
           "16F1016",
           38.18
          ],
          [
           "Aguiar da Beira",
           "16G0901",
           24.52
          ],
          [
           "Carregal do Sal",
           "16G1802",
           30.53
          ],
          [
           "Castro Daire",
           "16G1803",
           26.58
          ],
          [
           "Mangualde",
           "16G1806",
           33.64
          ],
          [
           "Nelas",
           "16G1809",
           34.97
          ],
          [
           "Oliveira de Frades",
           "16G1810",
           35.25
          ],
          [
           "Penalva do Castelo",
           "16G1811",
           25.47
          ],
          [
           "Santa Comba Dão",
           "16G1814",
           33.22
          ],
          [
           "São Pedro do Sul",
           "16G1816",
           31.5
          ],
          [
           "Sátão",
           "16G1817",
           32.11
          ],
          [
           "Tondela",
           "16G1821",
           33.45
          ],
          [
           "Vila Nova de Paiva",
           "16G1822",
           30.12
          ],
          [
           "Viseu",
           "16G1823",
           49.54
          ],
          [
           "Vouzela",
           "16G1824",
           32.33
          ],
          [
           "Castelo Branco",
           "16H0502",
           47.11
          ],
          [
           "Idanha-a-Nova",
           "16H0505",
           26.66
          ],
          [
           "Oleiros",
           "16H0506",
           25.18
          ],
          [
           "Penamacor",
           "16H0507",
           27.1
          ],
          [
           "Proença-a-Nova",
           "16H0508",
           32.49
          ],
          [
           "Vila Velha de Ródão",
           "16H0511",
           27.89
          ],
          [
           "Abrantes",
           "16I1401",
           37.88
          ],
          [
           "Alcanena",
           "16I1402",
           37.87
          ],
          [
           "Constância",
           "16I1408",
           41.85
          ],
          [
           "Entroncamento",
           "16I1410",
           53.97
          ],
          [
           "Ferreira do Zêzere",
           "16I1411",
           31.59
          ],
          [
           "Mação",
           "16I1413",
           29.58
          ],
          [
           "Ourém",
           "16I1421",
           39.03
          ],
          [
           "Sardoal",
           "16I1417",
           34.47
          ],
          [
           "Sertã",
           "16I0509",
           34.27
          ],
          [
           "Tomar",
           "16I1418",
           41.79
          ],
          [
           "Torres Novas",
           "16I1419",
           43.69
          ],
          [
           "Vila de Rei",
           "16I0510",
           30.37
          ],
          [
           "Vila Nova da Barquinha",
           "16I1420",
           43.82
          ],
          [
           "Almeida",
           "16J0902",
           28.12
          ],
          [
           "Belmonte",
           "16J0501",
           34.8
          ],
          [
           "Celorico da Beira",
           "16J0903",
           28.96
          ],
          [
           "Covilhã",
           "16J0503",
           43.4
          ],
          [
           "Figueira de Castelo Rodrigo",
           "16J0904",
           26.28
          ],
          [
           "Fornos de Algodres",
           "16J0905",
           27.45
          ],
          [
           "Fundão",
           "16J0504",
           35.89
          ],
          [
           "Gouveia",
           "16J0906",
           30.23
          ],
          [
           "Guarda",
           "16J0907",
           48.6
          ],
          [
           "Manteigas",
           "16J0908",
           30.33
          ],
          [
           "Mêda",
           "16J0909",
           26.16
          ],
          [
           "Pinhel",
           "16J0910",
           27.86
          ],
          [
           "Sabugal",
           "16J0911",
           26.81
          ],
          [
           "Seia",
           "16J0912",
           32.23
          ],
          [
           "Trancoso",
           "16J0913",
           30.84
          ],
          [
           "Alcochete",
           "1701502",
           57.52
          ],
          [
           "Almada",
           "1701503",
           53.91
          ],
          [
           "Amadora",
           "1701115",
           51.73
          ],
          [
           "Barreiro",
           "1701504",
           49.34
          ],
          [
           "Cascais",
           "1701105",
           62.92
          ],
          [
           "Lisboa",
           "1701106",
           64.87
          ],
          [
           "Loures",
           "1701107",
           49.97
          ],
          [
           "Mafra",
           "1701109",
           53.5
          ],
          [
           "Moita",
           "1701506",
           43.96
          ],
          [
           "Montijo",
           "1701507",
           52.29
          ],
          [
           "Odivelas",
           "1701116",
           52.97
          ],
          [
           "Oeiras",
           "1701110",
           66.35
          ],
          [
           "Palmela",
           "1701508",
           49.46
          ],
          [
           "Seixal",
           "1701510",
           51.95
          ],
          [
           "Sesimbra",
           "1701511",
           49.88
          ],
          [
           "Setúbal",
           "1701512",
           51
          ],
          [
           "Sintra",
           "1701111",
           53.87
          ],
          [
           "Vila Franca de Xira",
           "1701114",
           52.81
          ],
          [
           "Alcácer do Sal",
           "1811501",
           31.82
          ],
          [
           "Grândola",
           "1811505",
           36.67
          ],
          [
           "Odemira",
           "1810211",
           37.55
          ],
          [
           "Santiago do Cacém",
           "1811509",
           42.46
          ],
          [
           "Sines",
           "1811513",
           44.32
          ],
          [
           "Aljustrel",
           "1840201",
           33.47
          ],
          [
           "Almodôvar",
           "1840202",
           31.89
          ],
          [
           "Alvito",
           "1840203",
           34.7
          ],
          [
           "Barrancos",
           "1840204",
           37.25
          ],
          [
           "Beja",
           "1840205",
           47.79
          ],
          [
           "Castro Verde",
           "1840206",
           39.48
          ],
          [
           "Cuba",
           "1840207",
           37.68
          ],
          [
           "Ferreira do Alentejo",
           "1840208",
           32.35
          ],
          [
           "Mértola",
           "1840209",
           29.02
          ],
          [
           "Moura",
           "1840210",
           32.78
          ],
          [
           "Ourique",
           "1840212",
           31.62
          ],
          [
           "Serpa",
           "1840213",
           33.07
          ],
          [
           "Vidigueira",
           "1840214",
           35.13
          ],
          [
           "Almeirim",
           "1851403",
           39.46
          ],
          [
           "Alpiarça",
           "1851404",
           37.54
          ],
          [
           "Azambuja",
           "1851103",
           40.53
          ],
          [
           "Benavente",
           "1851405",
           44.38
          ],
          [
           "Cartaxo",
           "1851406",
           42.91
          ],
          [
           "Chamusca",
           "1851407",
           28.88
          ],
          [
           "Coruche",
           "1851409",
           30.54
          ],
          [
           "Golegã",
           "1851412",
           40.13
          ],
          [
           "Rio Maior",
           "1851414",
           39.89
          ],
          [
           "Salvaterra de Magos",
           "1851415",
           35.9
          ],
          [
           "Santarém",
           "1851416",
           46.62
          ],
          [
           "Alter do Chão",
           "1861201",
           31.09
          ],
          [
           "Arronches",
           "1861202",
           32.49
          ],
          [
           "Avis",
           "1861203",
           31.7
          ],
          [
           "Campo Maior",
           "1861204",
           39.72
          ],
          [
           "Castelo de Vide",
           "1861205",
           37.37
          ],
          [
           "Crato",
           "1861206",
           28.31
          ],
          [
           "Elvas",
           "1861207",
           42.66
          ],
          [
           "Fronteira",
           "1861208",
           34.05
          ],
          [
           "Gavião",
           "1861209",
           24.89
          ],
          [
           "Marvão",
           "1861210",
           30.47
          ],
          [
           "Monforte",
           "1861211",
           29.17
          ],
          [
           "Nisa",
           "1861212",
           30.36
          ],
          [
           "Ponte de Sor",
           "1861213",
           34.57
          ],
          [
           "Portalegre",
           "1861214",
           45.7
          ],
          [
           "Sousel",
           "1861215",
           32
          ],
          [
           "Alandroal",
           "1870701",
           27.87
          ],
          [
           "Arraiolos",
           "1870702",
           37.37
          ],
          [
           "Borba",
           "1870703",
           33.53
          ],
          [
           "Estremoz",
           "1870704",
           39.77
          ],
          [
           "Évora",
           "1870705",
           53.19
          ],
          [
           "Montemor-o-Novo",
           "1870706",
           37.28
          ],
          [
           "Mora",
           "1870707",
           27.97
          ],
          [
           "Mourão",
           "1870708",
           30.08
          ],
          [
           "Portel",
           "1870709",
           32.29
          ],
          [
           "Redondo",
           "1870710",
           34.02
          ],
          [
           "Reguengos de Monsaraz",
           "1870711",
           37.06
          ],
          [
           "Vendas Novas",
           "1870712",
           38.93
          ],
          [
           "Viana do Alentejo",
           "1870713",
           36.36
          ],
          [
           "Vila Viçosa",
           "1870714",
           38.58
          ],
          [
           "Albufeira",
           "1500801",
           47.75
          ],
          [
           "Alcoutim",
           "1500802",
           26.15
          ],
          [
           "Aljezur",
           "1500803",
           42.65
          ],
          [
           "Castro Marim",
           "1500804",
           36.04
          ],
          [
           "Faro",
           "1500805",
           54.44
          ],
          [
           "Lagoa",
           "2004201",
           43.02
          ],
          [
           "Lagos",
           "1500807",
           46.9
          ],
          [
           "Loulé",
           "1500808",
           45.32
          ],
          [
           "Monchique",
           "1500809",
           33.73
          ],
          [
           "Olhão",
           "1500810",
           43.22
          ],
          [
           "Portimão",
           "1500811",
           49.06
          ],
          [
           "São Brás de Alportel",
           "1500812",
           46.36
          ],
          [
           "Silves",
           "1500813",
           41
          ],
          [
           "Tavira",
           "1500814",
           43.16
          ],
          [
           "Vila do Bispo",
           "1500815",
           41.96
          ],
          [
           "Vila Real de Santo António",
           "1500816",
           39.81
          ],
          [
           "Angra do Heroísmo",
           "2004301",
           39.7
          ],
          [
           "Calheta",
           "3003101",
           27.69
          ],
          [
           "Corvo",
           "2004901",
           34.89
          ],
          [
           "Horta",
           "2004701",
           41.73
          ],
          [
           "Lajes das Flores",
           "2004801",
           31.96
          ],
          [
           "Lajes do Pico",
           "2004601",
           32.84
          ],
          [
           "Madalena",
           "2004602",
           37.06
          ],
          [
           "Nordeste",
           "2004202",
           27.83
          ],
          [
           "Ponta Delgada",
           "2004203",
           44.91
          ],
          [
           "Povoação",
           "2004204",
           29.79
          ],
          [
           "Ribeira Grande",
           "2004205",
           31.95
          ],
          [
           "Santa Cruz da Graciosa",
           "2004401",
           29.8
          ],
          [
           "Santa Cruz das Flores",
           "2004802",
           32.78
          ],
          [
           "São Roque do Pico",
           "2004603",
           37.05
          ],
          [
           "Velas",
           "2004502",
           33.62
          ],
          [
           "Vila da Praia da Vitória",
           "2004302",
           34.69
          ],
          [
           "Vila do Porto",
           "2004101",
           38.28
          ],
          [
           "Vila Franca do Campo",
           "2004206",
           29.76
          ],
          [
           "Câmara de Lobos",
           "3003102",
           31.13
          ],
          [
           "Funchal",
           "3003103",
           47.15
          ],
          [
           "Machico",
           "3003104",
           33.52
          ],
          [
           "Ponta do Sol",
           "3003105",
           33.07
          ],
          [
           "Porto Moniz",
           "3003106",
           28.19
          ],
          [
           "Porto Santo",
           "3003201",
           40.6
          ],
          [
           "Ribeira Brava",
           "3003107",
           34.03
          ],
          [
           "Santa Cruz",
           "3003108",
           48.37
          ],
          [
           "Santana",
           "3003109",
           29.98
          ],
          [
           "São Vicente",
           "3003110",
           29.74
          ]
         ],
         "hovertemplate": "valor=%{x}<br>y=%{y}<br>local=%{customdata[0]}<br>codigo=%{customdata[1]}<br>HM=%{customdata[2]}<br>ensino_secundario_completo=%{marker.color}<extra></extra>",
         "legendgroup": "",
         "marker": {
          "color": {
           "bdata": "AAEAAAAAAQEBAQEBAgEAAQAAAQAAAAEAAAEBAgIBAQIBAQEBAQEBAQIAAQAAAAABAAAAAAAAAAABAAAAAAABAAAAAAEAAAAAAAAAAAIAAgAAAQAAAAABAQIBAAIBAQEBAQEBAQECAQIAAQEBAQABAgIBAAEBAQEBAAAAAAABAAEAAAEAAAICAAEBAAAAAAEBAAAAAAAAAgACAAAAAAABAQECAAABAAABAQABAAAAAQAAAQACAAAAAAAAAgICAgICAgIBAgICAgICAgICAAEBAQEAAAABAgEBAAAAAAABAQEBAQEAAAEBAQIAAAABAQABAAAAAAAAAgAAAQABAgEAAAAAAQEBAQIAAQECAQIBAAECAgEBAQEBAAEBAAABAAEAAAAAAQAAAQAAAgAAAAEAAgAA",
           "dtype": "i1"
          },
          "coloraxis": "coloraxis",
          "size": 10,
          "symbol": "circle"
         },
         "mode": "markers",
         "name": "",
         "orientation": "v",
         "showlegend": false,
         "type": "scatter",
         "x": {
          "bdata": "0L24pDSN6798A0Mcsj3iP5C1/cnYbvK/hmY1gDnLz793v7VZ9Zbov0B9z+FeIty/SUCd54fly794TXZ8lMSSP10V+Setaew/Ha8fI7y6yT+fA+2xF2bSP+UcV2LBcbG/DdAXCVWLAEDThowUGVLoP4cr6zI8H+i/YYnsI15Wgb9Afc/hXiLcv1ragEEUUd6/eC3T3xWwwD9Tfy/jQwnwv9ku5Zy9MuK/G8s/aQXd678/z56ImqzbPyYgHoKp89m/lRLaXluJ5L/9JXpW/8zmP2sm4UriD+w/sQMpXB0RAEC2ZZnYzRf6P66Am7JEyb+//3kIwnags7/+4A02ROEEQMvwXUS8jeU/2TgJxFql0z//eQjCdqCzv7xuSSn+Qe8/uyW994Gy0T/5ZY0poym/v1GJV7Kf4e8/WHU9/QBp4z9Er5d3xxD1P1LEnVfeJ/m/fGGaky6HtT8Z2ebYdyT4vzl3IkYMefW/w5oLVasu+7+Wa5g2/DLyv1Gs0sDObcu/XXCrabKv8r/wS77D5WHqv00gyBcPHOq/EUO4CBtg9b8PGpwbJDbjvzYD7/Dm7OG/bknzJV/S4r9Ou+0Grv3jvw+kQhtAO8K/wPpPKv8t8r9XuhD9juvyvwPTaBqxzO+/tI4aUbil8r9KLm+HgWP2v7VTa3jHlcQ/SW5HwA5j8L+WjZOxM2vhv+kehBkNx/O/IQYhg1C/7r+k+1QFHau8v7BDA+mJQ/G/pjIbxlSd8b/FNTFEShD1v9L4mb5/b+6/bhfCXEQa9b8kHADFx4Llvxlw8rLz+uu/2q40K6Mz7r9ts1/KDqr5PyKhRnLvoOi/NjMsUJ0I9z9cn58nyW7bv/7bffbUWtu/BGt/l+chyz+8duaG9iHgv55oMPYqTu2/aFHxoT3W9r9M/syc1+P6v/o80RaiPtg/rZ05P1ab6T9XocXSh934P1LartqvvcQ/fCMY7CoH1L/8Z+Ft/QTzP3TO0J/UJtE/gPCg5T5z0D9JziYKb/7gPzARyKGzBsM/qljLyrt84D/XPCeBPBboP/rlOOq/A8g/vE50WYV4zT+KHk9mhFbDP4C2u1QFEgFAwofSQ4oQiT+Fy6K1KbryP5B8q47+xOG/GR5RpVPd4j9mRk3nqA/pPxzybwFkEMe/yzkFRryXtD9aJyPg9IXjv9I6WqTm/8A/S+6U+hQxBUD2FiESO1/5P0tOdphU/+w/bY5hmvnw6799g5Kqlz7uP3QtPBPIeeU/fyjcwNOSyT/1A0Hd4rbCP2NdpKdLgdo/qfTRazjW6b/BteVdI3XXv8EfUgLTTP6/DCQpdnNy6b9pMpxlvGDRv22q2rwLiam/nch0y35N5L8QkRzhliy6vy/tD69vKeu/Dk2q7l0A0r8d1OsRd6HiP7SOGlG4pfK/fRoDEAd56L+LBoTPdJz1P34lPpfpdfE/hwt/lnUf67++WAZl0tm+vyilkshsfsM/w7p38XEu+L9trs02wPDov4rvLA/SKvS/2xKXvdij2b9bMRlu9ovOvyZ3tq6LLsq/zduVYopU9r+DHiHN6Oncvy4t6Of8KOW/x2diDWXI4r8Ckhhj+B7bv5XSASbOieq/4ASHGrSS+D82A+/w5uzhv+Xqw3GB1vM/42jprOkC9L/no8rGNOX2v08EdpBrJ/O/mOjgZ0VN4b+mMhvGVJ3xv3C7UYlior0/9q3KxJFSvT9kK9hpJC3jP4wi8S1MmgBAOD7QCjLP5L9dbJFUj6TsvzItf7RKX9A/6r6kz6wr079gAUimwLrUv2jhctZH8eI/QF36EeZY6j8Gydu/YZDpv+DSVVGZ2uo/iA+Zq5gq8b82kUp6MpnQv2wTqEchD++/DM2QSZE36T94KKp/ecD0vzmXjuLSePK/ks3UHXM0wL9NIMgXDxzqv7+W7ZfJvfY/r08fIkq46b9ycg8TVvz0vyWF9OpLrPG/bMyq9BW487/X05fmq1Div+ZaQj13u+e/Fl4rMsAPBEAN0BcJVYsAQOaKf5wt1/w/QzTeJO8u+D+CXpImo1IJQI1XKVQDOQtAnfixKjVp+T8Ex0qNESUAQCYqQqlGZus/dDlYTIju/T/5MZaPv0H/Pwz1GeEoqgxAO35DuMtq+D8zPbmq7ET9PyQBJrxPPPk/O17XGwVr+z9j7obwWoEAQK4kD8vu8f4/+/fL1bnp47+NGwe1lC6gv2IE6TN5WLM/y/BdRLyN5T/+5aEdcs3sP2QL1QAQ99q/WMzVKeOj479pMpxlvGDRvwXrKlgE/KM/a+MBtbgp9T/Ggm5XN+HTP1yxxC4TZrc/3z/Nv/LY4b90yUK0RNPuv2RYd5/wK+C/OpkdwUOx5L9fkBuuNxXev+bG4ElwDcy/KPwq9U650z8n92FvqAizP+ifR35fENw/+i8HsU4J7T+Vm9WVsk7nP7ogLwzyXu+/xsw8Hsbm6L/uGgHRN/LYPx7L1jVTE9c/9EaRu4oMwL8qUuYXEuLyP1ZRHNcKwua/mOjgZ0VN4b/vi5b8cmHkv5XSmPIbwNU/BSrUxJZ3qz++rzjC0MvwvwWSry9GVeY/ksou37xx1r8BbP8q33X3v2n4MsqcLOm/gpDFQ5097r+xqmzYW5rpv6gdU+QiZNK/tcXdrSEX8T8PGpwbJDbjv08UrN5Op/G/BSrUxJZ3qz9sdwraVn/avz6jQejgI9Y/QeTPnX6v/z/kOlXz6NqlPwGs12NsdfG/P1lFiLax6r/biTJTzxTiv34UlHKZrda/oOM9WA5GkD/eF1uSgS/PPyAq3iaSwbG/Ha8fI7y6yT8YIOCDxBX1P0fjVx9TAfW/XrAeF0xL5j+007+3qru7vxR+l86GDwFA5U0PpHG85z9wqdJvv23zPx0GHduRWfA/9zRnA0Pw2L8g72CP+4PoP/zc8cxBo/c/j9yK2F5g8j8pfHqDNLrfPySl+/seSOg/rN0ReOOa4z+JsMissXPWP/hLVZAzmNU/RQPEuxkB8r+GZjWAOcvPv2yXDUNrteI/taDffQxe47/QHCQYKODfv6DjPVgORpA/pNfND0O78b8P6AXHFRrvP3PprlAL0+u/YIJwlgZo47/IBx44Ecnrv2RYd5/wK+C/dFtDjJYNjj+ImdofwcvZv8j1vZawdNG/rec1n4ANxT9tjmGa+fDrv7HK2HQimua/OK7lonXq8z+7OiwLS5Pav1+QG643Fd6/tvmdVa0H8b8v9zPWDJzcPy9RckGlmda/n3NrfQ1L9j/cKe59exXrv8RRg8vtBOy/",
          "dtype": "f8"
         },
         "xaxis": "x",
         "y": {
          "bdata": "AAAAAAAAAAAAAAAAAAAAAAAAAAAAAAAAAAAAAAAAAAAAAAAAAAAAAAAAAAAAAAAAAAAAAAAAAAAAAAAAAAAAAAAAAAAAAAAAAAAAAAAAAAAAAAAAAAAAAAAAAAAAAAAAAAAAAAAAAAAAAAAAAAAAAAAAAAAAAAAAAAAAAAAAAAAAAAAAAAAAAAAAAAAAAAAAAAAAAAAAAAAAAAAAAAAAAAAAAAAAAAAAAAAAAAAAAAAAAAAAAAAAAAAAAAAAAAAAAAAAAAAAAAAAAAAAAAAAAAAAAAAAAAAAAAAAAAAAAAAAAAAAAAAAAAAAAAAAAAAAAAAAAAAAAAAAAAAAAAAAAAAAAAAAAAAAAAAAAAAAAAAAAAAAAAAAAAAAAAAAAAAAAAAAAAAAAAAAAAAAAAAAAAAA",
          "dtype": "i1"
         },
         "yaxis": "y"
        }
       ],
       "layout": {
        "coloraxis": {
         "colorbar": {
          "title": {
           "text": "ensino_secundario_completo"
          }
         },
         "colorscale": [
          [
           0,
           "#440154"
          ],
          [
           0.1111111111111111,
           "#482878"
          ],
          [
           0.2222222222222222,
           "#3e4989"
          ],
          [
           0.3333333333333333,
           "#31688e"
          ],
          [
           0.4444444444444444,
           "#26828e"
          ],
          [
           0.5555555555555556,
           "#1f9e89"
          ],
          [
           0.6666666666666666,
           "#35b779"
          ],
          [
           0.7777777777777778,
           "#6ece58"
          ],
          [
           0.8888888888888888,
           "#b5de2b"
          ],
          [
           1,
           "#fde725"
          ]
         ]
        },
        "height": 300,
        "legend": {
         "tracegroupgap": 0
        },
        "margin": {
         "t": 60
        },
        "template": {
         "data": {
          "bar": [
           {
            "error_x": {
             "color": "#2a3f5f"
            },
            "error_y": {
             "color": "#2a3f5f"
            },
            "marker": {
             "line": {
              "color": "#E5ECF6",
              "width": 0.5
             },
             "pattern": {
              "fillmode": "overlay",
              "size": 10,
              "solidity": 0.2
             }
            },
            "type": "bar"
           }
          ],
          "barpolar": [
           {
            "marker": {
             "line": {
              "color": "#E5ECF6",
              "width": 0.5
             },
             "pattern": {
              "fillmode": "overlay",
              "size": 10,
              "solidity": 0.2
             }
            },
            "type": "barpolar"
           }
          ],
          "carpet": [
           {
            "aaxis": {
             "endlinecolor": "#2a3f5f",
             "gridcolor": "white",
             "linecolor": "white",
             "minorgridcolor": "white",
             "startlinecolor": "#2a3f5f"
            },
            "baxis": {
             "endlinecolor": "#2a3f5f",
             "gridcolor": "white",
             "linecolor": "white",
             "minorgridcolor": "white",
             "startlinecolor": "#2a3f5f"
            },
            "type": "carpet"
           }
          ],
          "choropleth": [
           {
            "colorbar": {
             "outlinewidth": 0,
             "ticks": ""
            },
            "type": "choropleth"
           }
          ],
          "contour": [
           {
            "colorbar": {
             "outlinewidth": 0,
             "ticks": ""
            },
            "colorscale": [
             [
              0,
              "#0d0887"
             ],
             [
              0.1111111111111111,
              "#46039f"
             ],
             [
              0.2222222222222222,
              "#7201a8"
             ],
             [
              0.3333333333333333,
              "#9c179e"
             ],
             [
              0.4444444444444444,
              "#bd3786"
             ],
             [
              0.5555555555555556,
              "#d8576b"
             ],
             [
              0.6666666666666666,
              "#ed7953"
             ],
             [
              0.7777777777777778,
              "#fb9f3a"
             ],
             [
              0.8888888888888888,
              "#fdca26"
             ],
             [
              1,
              "#f0f921"
             ]
            ],
            "type": "contour"
           }
          ],
          "contourcarpet": [
           {
            "colorbar": {
             "outlinewidth": 0,
             "ticks": ""
            },
            "type": "contourcarpet"
           }
          ],
          "heatmap": [
           {
            "colorbar": {
             "outlinewidth": 0,
             "ticks": ""
            },
            "colorscale": [
             [
              0,
              "#0d0887"
             ],
             [
              0.1111111111111111,
              "#46039f"
             ],
             [
              0.2222222222222222,
              "#7201a8"
             ],
             [
              0.3333333333333333,
              "#9c179e"
             ],
             [
              0.4444444444444444,
              "#bd3786"
             ],
             [
              0.5555555555555556,
              "#d8576b"
             ],
             [
              0.6666666666666666,
              "#ed7953"
             ],
             [
              0.7777777777777778,
              "#fb9f3a"
             ],
             [
              0.8888888888888888,
              "#fdca26"
             ],
             [
              1,
              "#f0f921"
             ]
            ],
            "type": "heatmap"
           }
          ],
          "histogram": [
           {
            "marker": {
             "pattern": {
              "fillmode": "overlay",
              "size": 10,
              "solidity": 0.2
             }
            },
            "type": "histogram"
           }
          ],
          "histogram2d": [
           {
            "colorbar": {
             "outlinewidth": 0,
             "ticks": ""
            },
            "colorscale": [
             [
              0,
              "#0d0887"
             ],
             [
              0.1111111111111111,
              "#46039f"
             ],
             [
              0.2222222222222222,
              "#7201a8"
             ],
             [
              0.3333333333333333,
              "#9c179e"
             ],
             [
              0.4444444444444444,
              "#bd3786"
             ],
             [
              0.5555555555555556,
              "#d8576b"
             ],
             [
              0.6666666666666666,
              "#ed7953"
             ],
             [
              0.7777777777777778,
              "#fb9f3a"
             ],
             [
              0.8888888888888888,
              "#fdca26"
             ],
             [
              1,
              "#f0f921"
             ]
            ],
            "type": "histogram2d"
           }
          ],
          "histogram2dcontour": [
           {
            "colorbar": {
             "outlinewidth": 0,
             "ticks": ""
            },
            "colorscale": [
             [
              0,
              "#0d0887"
             ],
             [
              0.1111111111111111,
              "#46039f"
             ],
             [
              0.2222222222222222,
              "#7201a8"
             ],
             [
              0.3333333333333333,
              "#9c179e"
             ],
             [
              0.4444444444444444,
              "#bd3786"
             ],
             [
              0.5555555555555556,
              "#d8576b"
             ],
             [
              0.6666666666666666,
              "#ed7953"
             ],
             [
              0.7777777777777778,
              "#fb9f3a"
             ],
             [
              0.8888888888888888,
              "#fdca26"
             ],
             [
              1,
              "#f0f921"
             ]
            ],
            "type": "histogram2dcontour"
           }
          ],
          "mesh3d": [
           {
            "colorbar": {
             "outlinewidth": 0,
             "ticks": ""
            },
            "type": "mesh3d"
           }
          ],
          "parcoords": [
           {
            "line": {
             "colorbar": {
              "outlinewidth": 0,
              "ticks": ""
             }
            },
            "type": "parcoords"
           }
          ],
          "pie": [
           {
            "automargin": true,
            "type": "pie"
           }
          ],
          "scatter": [
           {
            "fillpattern": {
             "fillmode": "overlay",
             "size": 10,
             "solidity": 0.2
            },
            "type": "scatter"
           }
          ],
          "scatter3d": [
           {
            "line": {
             "colorbar": {
              "outlinewidth": 0,
              "ticks": ""
             }
            },
            "marker": {
             "colorbar": {
              "outlinewidth": 0,
              "ticks": ""
             }
            },
            "type": "scatter3d"
           }
          ],
          "scattercarpet": [
           {
            "marker": {
             "colorbar": {
              "outlinewidth": 0,
              "ticks": ""
             }
            },
            "type": "scattercarpet"
           }
          ],
          "scattergeo": [
           {
            "marker": {
             "colorbar": {
              "outlinewidth": 0,
              "ticks": ""
             }
            },
            "type": "scattergeo"
           }
          ],
          "scattergl": [
           {
            "marker": {
             "colorbar": {
              "outlinewidth": 0,
              "ticks": ""
             }
            },
            "type": "scattergl"
           }
          ],
          "scattermap": [
           {
            "marker": {
             "colorbar": {
              "outlinewidth": 0,
              "ticks": ""
             }
            },
            "type": "scattermap"
           }
          ],
          "scattermapbox": [
           {
            "marker": {
             "colorbar": {
              "outlinewidth": 0,
              "ticks": ""
             }
            },
            "type": "scattermapbox"
           }
          ],
          "scatterpolar": [
           {
            "marker": {
             "colorbar": {
              "outlinewidth": 0,
              "ticks": ""
             }
            },
            "type": "scatterpolar"
           }
          ],
          "scatterpolargl": [
           {
            "marker": {
             "colorbar": {
              "outlinewidth": 0,
              "ticks": ""
             }
            },
            "type": "scatterpolargl"
           }
          ],
          "scatterternary": [
           {
            "marker": {
             "colorbar": {
              "outlinewidth": 0,
              "ticks": ""
             }
            },
            "type": "scatterternary"
           }
          ],
          "surface": [
           {
            "colorbar": {
             "outlinewidth": 0,
             "ticks": ""
            },
            "colorscale": [
             [
              0,
              "#0d0887"
             ],
             [
              0.1111111111111111,
              "#46039f"
             ],
             [
              0.2222222222222222,
              "#7201a8"
             ],
             [
              0.3333333333333333,
              "#9c179e"
             ],
             [
              0.4444444444444444,
              "#bd3786"
             ],
             [
              0.5555555555555556,
              "#d8576b"
             ],
             [
              0.6666666666666666,
              "#ed7953"
             ],
             [
              0.7777777777777778,
              "#fb9f3a"
             ],
             [
              0.8888888888888888,
              "#fdca26"
             ],
             [
              1,
              "#f0f921"
             ]
            ],
            "type": "surface"
           }
          ],
          "table": [
           {
            "cells": {
             "fill": {
              "color": "#EBF0F8"
             },
             "line": {
              "color": "white"
             }
            },
            "header": {
             "fill": {
              "color": "#C8D4E3"
             },
             "line": {
              "color": "white"
             }
            },
            "type": "table"
           }
          ]
         },
         "layout": {
          "annotationdefaults": {
           "arrowcolor": "#2a3f5f",
           "arrowhead": 0,
           "arrowwidth": 1
          },
          "autotypenumbers": "strict",
          "coloraxis": {
           "colorbar": {
            "outlinewidth": 0,
            "ticks": ""
           }
          },
          "colorscale": {
           "diverging": [
            [
             0,
             "#8e0152"
            ],
            [
             0.1,
             "#c51b7d"
            ],
            [
             0.2,
             "#de77ae"
            ],
            [
             0.3,
             "#f1b6da"
            ],
            [
             0.4,
             "#fde0ef"
            ],
            [
             0.5,
             "#f7f7f7"
            ],
            [
             0.6,
             "#e6f5d0"
            ],
            [
             0.7,
             "#b8e186"
            ],
            [
             0.8,
             "#7fbc41"
            ],
            [
             0.9,
             "#4d9221"
            ],
            [
             1,
             "#276419"
            ]
           ],
           "sequential": [
            [
             0,
             "#0d0887"
            ],
            [
             0.1111111111111111,
             "#46039f"
            ],
            [
             0.2222222222222222,
             "#7201a8"
            ],
            [
             0.3333333333333333,
             "#9c179e"
            ],
            [
             0.4444444444444444,
             "#bd3786"
            ],
            [
             0.5555555555555556,
             "#d8576b"
            ],
            [
             0.6666666666666666,
             "#ed7953"
            ],
            [
             0.7777777777777778,
             "#fb9f3a"
            ],
            [
             0.8888888888888888,
             "#fdca26"
            ],
            [
             1,
             "#f0f921"
            ]
           ],
           "sequentialminus": [
            [
             0,
             "#0d0887"
            ],
            [
             0.1111111111111111,
             "#46039f"
            ],
            [
             0.2222222222222222,
             "#7201a8"
            ],
            [
             0.3333333333333333,
             "#9c179e"
            ],
            [
             0.4444444444444444,
             "#bd3786"
            ],
            [
             0.5555555555555556,
             "#d8576b"
            ],
            [
             0.6666666666666666,
             "#ed7953"
            ],
            [
             0.7777777777777778,
             "#fb9f3a"
            ],
            [
             0.8888888888888888,
             "#fdca26"
            ],
            [
             1,
             "#f0f921"
            ]
           ]
          },
          "colorway": [
           "#636efa",
           "#EF553B",
           "#00cc96",
           "#ab63fa",
           "#FFA15A",
           "#19d3f3",
           "#FF6692",
           "#B6E880",
           "#FF97FF",
           "#FECB52"
          ],
          "font": {
           "color": "#2a3f5f"
          },
          "geo": {
           "bgcolor": "white",
           "lakecolor": "white",
           "landcolor": "#E5ECF6",
           "showlakes": true,
           "showland": true,
           "subunitcolor": "white"
          },
          "hoverlabel": {
           "align": "left"
          },
          "hovermode": "closest",
          "mapbox": {
           "style": "light"
          },
          "paper_bgcolor": "white",
          "plot_bgcolor": "#E5ECF6",
          "polar": {
           "angularaxis": {
            "gridcolor": "white",
            "linecolor": "white",
            "ticks": ""
           },
           "bgcolor": "#E5ECF6",
           "radialaxis": {
            "gridcolor": "white",
            "linecolor": "white",
            "ticks": ""
           }
          },
          "scene": {
           "xaxis": {
            "backgroundcolor": "#E5ECF6",
            "gridcolor": "white",
            "gridwidth": 2,
            "linecolor": "white",
            "showbackground": true,
            "ticks": "",
            "zerolinecolor": "white"
           },
           "yaxis": {
            "backgroundcolor": "#E5ECF6",
            "gridcolor": "white",
            "gridwidth": 2,
            "linecolor": "white",
            "showbackground": true,
            "ticks": "",
            "zerolinecolor": "white"
           },
           "zaxis": {
            "backgroundcolor": "#E5ECF6",
            "gridcolor": "white",
            "gridwidth": 2,
            "linecolor": "white",
            "showbackground": true,
            "ticks": "",
            "zerolinecolor": "white"
           }
          },
          "shapedefaults": {
           "line": {
            "color": "#2a3f5f"
           }
          },
          "ternary": {
           "aaxis": {
            "gridcolor": "white",
            "linecolor": "white",
            "ticks": ""
           },
           "baxis": {
            "gridcolor": "white",
            "linecolor": "white",
            "ticks": ""
           },
           "bgcolor": "#E5ECF6",
           "caxis": {
            "gridcolor": "white",
            "linecolor": "white",
            "ticks": ""
           }
          },
          "title": {
           "x": 0.05
          },
          "xaxis": {
           "automargin": true,
           "gridcolor": "white",
           "linecolor": "white",
           "ticks": "",
           "title": {
            "standoff": 15
           },
           "zerolinecolor": "white",
           "zerolinewidth": 2
          },
          "yaxis": {
           "automargin": true,
           "gridcolor": "white",
           "linecolor": "white",
           "ticks": "",
           "title": {
            "standoff": 15
           },
           "zerolinecolor": "white",
           "zerolinewidth": 2
          }
         }
        },
        "xaxis": {
         "anchor": "y",
         "domain": [
          0,
          1
         ],
         "title": {
          "text": "HM"
         }
        },
        "yaxis": {
         "anchor": "x",
         "domain": [
          0,
          1
         ],
         "showgrid": false,
         "showticklabels": false,
         "title": {
          "text": "y"
         }
        }
       }
      }
     },
     "metadata": {},
     "output_type": "display_data"
    },
    {
     "name": "stdout",
     "output_type": "stream",
     "text": [
      "ensino_secundario_completo\n",
      "0    146\n",
      "1    113\n",
      "2     47\n",
      "Name: count, dtype: int64\n",
      "File saved to csv_files/1_Proporção da população residente com pelo menos o ensino secundário completo.csv\n"
     ]
    }
   ],
   "source": [
    "clustered_df = aplicar_kmeans(only_municipalities_df,3,nome_cluster='ensino_secundario_completo')\n",
    "save_clustered_df_to_csv(clustered_df,\"csv_files/\", \"1_Proporção da população residente com pelo menos o ensino secundário completo.csv\")"
   ]
  },
  {
   "cell_type": "markdown",
   "id": "2e4be69a",
   "metadata": {},
   "source": [
    "### Taxa bruta de escolarização no ensino secundário"
   ]
  },
  {
   "cell_type": "code",
   "execution_count": 9,
   "id": "83413f69",
   "metadata": {},
   "outputs": [
    {
     "data": {
      "text/html": [
       "<div>\n",
       "<style scoped>\n",
       "    .dataframe tbody tr th:only-of-type {\n",
       "        vertical-align: middle;\n",
       "    }\n",
       "\n",
       "    .dataframe tbody tr th {\n",
       "        vertical-align: top;\n",
       "    }\n",
       "\n",
       "    .dataframe thead th {\n",
       "        text-align: right;\n",
       "    }\n",
       "</style>\n",
       "<table border=\"1\" class=\"dataframe\">\n",
       "  <thead>\n",
       "    <tr style=\"text-align: right;\">\n",
       "      <th></th>\n",
       "      <th>local</th>\n",
       "      <th>codigo</th>\n",
       "      <th>HM</th>\n",
       "      <th>H</th>\n",
       "      <th>M</th>\n",
       "    </tr>\n",
       "  </thead>\n",
       "  <tbody>\n",
       "    <tr>\n",
       "      <th>4</th>\n",
       "      <td>Arcos de Valdevez</td>\n",
       "      <td>1111601</td>\n",
       "      <td>123.8</td>\n",
       "      <td>135.1</td>\n",
       "      <td>113.5</td>\n",
       "    </tr>\n",
       "    <tr>\n",
       "      <th>5</th>\n",
       "      <td>Caminha</td>\n",
       "      <td>1111602</td>\n",
       "      <td>111.0</td>\n",
       "      <td>115.9</td>\n",
       "      <td>105.0</td>\n",
       "    </tr>\n",
       "    <tr>\n",
       "      <th>6</th>\n",
       "      <td>Melgaço</td>\n",
       "      <td>1111603</td>\n",
       "      <td>111.4</td>\n",
       "      <td>100.0</td>\n",
       "      <td>132.0</td>\n",
       "    </tr>\n",
       "    <tr>\n",
       "      <th>7</th>\n",
       "      <td>Monção</td>\n",
       "      <td>1111604</td>\n",
       "      <td>144.8</td>\n",
       "      <td>143.5</td>\n",
       "      <td>146.0</td>\n",
       "    </tr>\n",
       "    <tr>\n",
       "      <th>8</th>\n",
       "      <td>Paredes de Coura</td>\n",
       "      <td>1111605</td>\n",
       "      <td>96.7</td>\n",
       "      <td>112.9</td>\n",
       "      <td>81.9</td>\n",
       "    </tr>\n",
       "    <tr>\n",
       "      <th>...</th>\n",
       "      <td>...</td>\n",
       "      <td>...</td>\n",
       "      <td>...</td>\n",
       "      <td>...</td>\n",
       "      <td>...</td>\n",
       "    </tr>\n",
       "    <tr>\n",
       "      <th>339</th>\n",
       "      <td>Porto Santo</td>\n",
       "      <td>3003201</td>\n",
       "      <td>108.1</td>\n",
       "      <td>115.6</td>\n",
       "      <td>100.0</td>\n",
       "    </tr>\n",
       "    <tr>\n",
       "      <th>340</th>\n",
       "      <td>Ribeira Brava</td>\n",
       "      <td>3003107</td>\n",
       "      <td>87.4</td>\n",
       "      <td>90.0</td>\n",
       "      <td>84.4</td>\n",
       "    </tr>\n",
       "    <tr>\n",
       "      <th>341</th>\n",
       "      <td>Santa Cruz</td>\n",
       "      <td>3003108</td>\n",
       "      <td>20.9</td>\n",
       "      <td>21.0</td>\n",
       "      <td>20.7</td>\n",
       "    </tr>\n",
       "    <tr>\n",
       "      <th>342</th>\n",
       "      <td>Santana</td>\n",
       "      <td>3003109</td>\n",
       "      <td>97.5</td>\n",
       "      <td>97.4</td>\n",
       "      <td>97.7</td>\n",
       "    </tr>\n",
       "    <tr>\n",
       "      <th>343</th>\n",
       "      <td>São Vicente</td>\n",
       "      <td>3003110</td>\n",
       "      <td>79.2</td>\n",
       "      <td>93.8</td>\n",
       "      <td>63.5</td>\n",
       "    </tr>\n",
       "  </tbody>\n",
       "</table>\n",
       "<p>308 rows × 5 columns</p>\n",
       "</div>"
      ],
      "text/plain": [
       "                 local   codigo     HM      H      M\n",
       "4    Arcos de Valdevez  1111601  123.8  135.1  113.5\n",
       "5              Caminha  1111602  111.0  115.9  105.0\n",
       "6              Melgaço  1111603  111.4  100.0  132.0\n",
       "7               Monção  1111604  144.8  143.5  146.0\n",
       "8     Paredes de Coura  1111605   96.7  112.9   81.9\n",
       "..                 ...      ...    ...    ...    ...\n",
       "339        Porto Santo  3003201  108.1  115.6  100.0\n",
       "340      Ribeira Brava  3003107   87.4   90.0   84.4\n",
       "341         Santa Cruz  3003108   20.9   21.0   20.7\n",
       "342            Santana  3003109   97.5   97.4   97.7\n",
       "343        São Vicente  3003110   79.2   93.8   63.5\n",
       "\n",
       "[308 rows x 5 columns]"
      ]
     },
     "execution_count": 9,
     "metadata": {},
     "output_type": "execute_result"
    }
   ],
   "source": [
    "original_df = processar_ficheiro(data_path+'Taxa bruta de escolarização no ensino secundário.xls',4,padding_left=0)\n",
    "only_municipalities_df = carregar_municipios(original_df)\n",
    "only_municipalities_df"
   ]
  },
  {
   "cell_type": "code",
   "execution_count": 10,
   "id": "049ef8b1",
   "metadata": {},
   "outputs": [
    {
     "data": {
      "application/vnd.plotly.v1+json": {
       "config": {
        "plotlyServerURL": "https://plot.ly"
       },
       "data": [
        {
         "customdata": [
          [
           "Arcos de Valdevez",
           "1111601",
           123.8
          ],
          [
           "Caminha",
           "1111602",
           111
          ],
          [
           "Melgaço",
           "1111603",
           111.4
          ],
          [
           "Monção",
           "1111604",
           144.8
          ],
          [
           "Paredes de Coura",
           "1111605",
           96.7
          ],
          [
           "Ponte da Barca",
           "1111606",
           156.5
          ],
          [
           "Ponte de Lima",
           "1111607",
           125.7
          ],
          [
           "Valença",
           "1111608",
           95.4
          ],
          [
           "Viana do Castelo",
           "1111609",
           170
          ],
          [
           "Vila Nova de Cerveira",
           "1111610",
           73.2
          ],
          [
           "Amares",
           "1120301",
           105.2
          ],
          [
           "Barcelos",
           "1120302",
           113
          ],
          [
           "Braga",
           "1120303",
           148.5
          ],
          [
           "Esposende",
           "1120306",
           98.4
          ],
          [
           "Terras de Bouro",
           "1120310",
           46.4
          ],
          [
           "Vila Verde",
           "1120313",
           103.9
          ],
          [
           "Cabeceiras de Basto",
           "1190304",
           104.3
          ],
          [
           "Fafe",
           "1190307",
           113
          ],
          [
           "Guimarães",
           "1190308",
           111.6
          ],
          [
           "Mondim de Basto",
           "1191705",
           93
          ],
          [
           "Póvoa de Lanhoso",
           "1190309",
           112
          ],
          [
           "Vieira do Minho",
           "1190311",
           81.9
          ],
          [
           "Vila Nova de Famalicão",
           "1190312",
           117.9
          ],
          [
           "Vizela",
           "1190314",
           129.8
          ],
          [
           "Arouca",
           "11A0104",
           110.5
          ],
          [
           "Espinho",
           "11A0107",
           240.1
          ],
          [
           "Gondomar",
           "11A1304",
           87.4
          ],
          [
           "Maia",
           "11A1306",
           87.6
          ],
          [
           "Matosinhos",
           "11A1308",
           117.4
          ],
          [
           "Oliveira de Azeméis",
           "11A0113",
           103.8
          ],
          [
           "Paredes",
           "11A1310",
           89
          ],
          [
           "Porto",
           "11A1312",
           268.5
          ],
          [
           "Póvoa de Varzim",
           "11A1313",
           142.1
          ],
          [
           "Santa Maria da Feira",
           "11A0109",
           87.8
          ],
          [
           "Santo Tirso",
           "11A1314",
           161.6
          ],
          [
           "São João da Madeira",
           "11A0116",
           257.1
          ],
          [
           "Trofa",
           "11A1318",
           93.9
          ],
          [
           "Vale de Cambra",
           "11A0119",
           116.5
          ],
          [
           "Valongo",
           "11A1315",
           93.7
          ],
          [
           "Vila do Conde",
           "11A1316",
           83.6
          ],
          [
           "Vila Nova de Gaia",
           "11A1317",
           120.5
          ],
          [
           "Boticas",
           "11B1702",
           0
          ],
          [
           "Chaves",
           "11B1703",
           166.1
          ],
          [
           "Montalegre",
           "11B1706",
           99.4
          ],
          [
           "Ribeira de Pena",
           "11B1709",
           84.8
          ],
          [
           "Valpaços",
           "11B1712",
           77.6
          ],
          [
           "Vila Pouca de Aguiar",
           "11B1713",
           115.4
          ],
          [
           "Amarante",
           "11C1301",
           145.1
          ],
          [
           "Baião",
           "11C1302",
           93.2
          ],
          [
           "Castelo de Paiva",
           "11C0106",
           162.6
          ],
          [
           "Celorico de Basto",
           "11C0305",
           86.7
          ],
          [
           "Cinfães",
           "11C1804",
           125.8
          ],
          [
           "Felgueiras",
           "11C1303",
           133
          ],
          [
           "Lousada",
           "11C1305",
           100.9
          ],
          [
           "Marco de Canaveses",
           "11C1307",
           107.3
          ],
          [
           "Paços de Ferreira",
           "11C1309",
           122.4
          ],
          [
           "Penafiel",
           "11C1311",
           147.4
          ],
          [
           "Resende",
           "11C1813",
           109.3
          ],
          [
           "Alijó",
           "11D1701",
           88.7
          ],
          [
           "Armamar",
           "11D1801",
           63.6
          ],
          [
           "Carrazeda de Ansiães",
           "11D0403",
           95.5
          ],
          [
           "Freixo de Espada à Cinta",
           "11D0404",
           0
          ],
          [
           "Lamego",
           "11D1805",
           147.7
          ],
          [
           "Mesão Frio",
           "11D1704",
           126.3
          ],
          [
           "Moimenta da Beira",
           "11D1807",
           184.7
          ],
          [
           "Murça",
           "11D1707",
           177.1
          ],
          [
           "Penedono",
           "11D1812",
           0
          ],
          [
           "Peso da Régua",
           "11D1708",
           160.1
          ],
          [
           "Sabrosa",
           "11D1710",
           89.7
          ],
          [
           "Santa Marta de Penaguião",
           "11D1711",
           0
          ],
          [
           "São João da Pesqueira",
           "11D1815",
           166.8
          ],
          [
           "Sernancelhe",
           "11D1818",
           134.4
          ],
          [
           "Tabuaço",
           "11D1819",
           81.5
          ],
          [
           "Tarouca",
           "11D1820",
           80.5
          ],
          [
           "Torre de Moncorvo",
           "11D0409",
           87.8
          ],
          [
           "Vila Nova de Foz Côa",
           "11D0914",
           54.4
          ],
          [
           "Vila Real",
           "11D1714",
           164.2
          ],
          [
           "Alfândega da Fé",
           "11E0401",
           77.5
          ],
          [
           "Bragança",
           "11E0402",
           167
          ],
          [
           "Macedo de Cavaleiros",
           "11E0405",
           147.4
          ],
          [
           "Miranda do Douro",
           "11E0406",
           79
          ],
          [
           "Mirandela",
           "11E0407",
           227.3
          ],
          [
           "Mogadouro",
           "11E0408",
           192.3
          ],
          [
           "Vila Flor",
           "11E0410",
           75.4
          ],
          [
           "Vimioso",
           "11E0411",
           0
          ],
          [
           "Vinhais",
           "11E0412",
           63.9
          ],
          [
           "Alcobaça",
           "16B1001",
           122
          ],
          [
           "Alenquer",
           "16B1101",
           96.6
          ],
          [
           "Arruda dos Vinhos",
           "16B1102",
           131.4
          ],
          [
           "Bombarral",
           "16B1005",
           106.6
          ],
          [
           "Cadaval",
           "16B1104",
           67.2
          ],
          [
           "Caldas da Rainha",
           "16B1006",
           172.4
          ],
          [
           "Lourinhã",
           "16B1108",
           90.2
          ],
          [
           "Nazaré",
           "16B1011",
           103.3
          ],
          [
           "Óbidos",
           "16B1012",
           54.2
          ],
          [
           "Peniche",
           "16B1014",
           90.5
          ],
          [
           "Sobral de Monte Agraço",
           "16B1112",
           68.2
          ],
          [
           "Torres Vedras",
           "16B1113",
           138.8
          ],
          [
           "Águeda",
           "16D0101",
           129.6
          ],
          [
           "Albergaria-a-Velha",
           "16D0102",
           128
          ],
          [
           "Anadia",
           "16D0103",
           160
          ],
          [
           "Aveiro",
           "16D0105",
           176.3
          ],
          [
           "Estarreja",
           "16D0108",
           110.4
          ],
          [
           "Ílhavo",
           "16D0110",
           74.5
          ],
          [
           "Murtosa",
           "16D0112",
           42.5
          ],
          [
           "Oliveira do Bairro",
           "16D0114",
           86.3
          ],
          [
           "Ovar",
           "16D0115",
           106.3
          ],
          [
           "Sever do Vouga",
           "16D0117",
           190.2
          ],
          [
           "Vagos",
           "16D0118",
           125.5
          ],
          [
           "Arganil",
           "16E0601",
           198.3
          ],
          [
           "Cantanhede",
           "16E0602",
           106.2
          ],
          [
           "Coimbra",
           "16E0603",
           191.5
          ],
          [
           "Condeixa-a-Nova",
           "16E0604",
           71.1
          ],
          [
           "Figueira da Foz",
           "16E0605",
           129.6
          ],
          [
           "Góis",
           "16E0606",
           0
          ],
          [
           "Lousã",
           "16E0607",
           128.2
          ],
          [
           "Mealhada",
           "16E0111",
           108
          ],
          [
           "Mira",
           "16E0608",
           86.9
          ],
          [
           "Miranda do Corvo",
           "16E0609",
           70.8
          ],
          [
           "Montemor-o-Velho",
           "16E0610",
           70.6
          ],
          [
           "Mortágua",
           "16E1808",
           92.3
          ],
          [
           "Oliveira do Hospital",
           "16E0611",
           139.8
          ],
          [
           "Pampilhosa da Serra",
           "16E0612",
           56.5
          ],
          [
           "Penacova",
           "16E0613",
           166
          ],
          [
           "Penela",
           "16E0614",
           30.9
          ],
          [
           "Soure",
           "16E0615",
           105.3
          ],
          [
           "Tábua",
           "16E0616",
           100.3
          ],
          [
           "Vila Nova de Poiares",
           "16E0617",
           88.9
          ],
          [
           "Alvaiázere",
           "16F1002",
           106.7
          ],
          [
           "Ansião",
           "16F1003",
           172.9
          ],
          [
           "Batalha",
           "16F1004",
           99.4
          ],
          [
           "Castanheira de Pêra",
           "16F1007",
           0
          ],
          [
           "Figueiró dos Vinhos",
           "16F1008",
           107.9
          ],
          [
           "Leiria",
           "16F1009",
           115.4
          ],
          [
           "Marinha Grande",
           "16F1010",
           152
          ],
          [
           "Pedrógão Grande",
           "16F1013",
           232.1
          ],
          [
           "Pombal",
           "16F1015",
           141.1
          ],
          [
           "Porto de Mós",
           "16F1016",
           114.6
          ],
          [
           "Aguiar da Beira",
           "16G0901",
           102.9
          ],
          [
           "Carregal do Sal",
           "16G1802",
           92.4
          ],
          [
           "Castro Daire",
           "16G1803",
           135.9
          ],
          [
           "Mangualde",
           "16G1806",
           121.9
          ],
          [
           "Nelas",
           "16G1809",
           91.9
          ],
          [
           "Oliveira de Frades",
           "16G1810",
           90.2
          ],
          [
           "Penalva do Castelo",
           "16G1811",
           85.5
          ],
          [
           "Santa Comba Dão",
           "16G1814",
           85.7
          ],
          [
           "São Pedro do Sul",
           "16G1816",
           170.2
          ],
          [
           "Sátão",
           "16G1817",
           81.1
          ],
          [
           "Tondela",
           "16G1821",
           148.3
          ],
          [
           "Vila Nova de Paiva",
           "16G1822",
           89.8
          ],
          [
           "Viseu",
           "16G1823",
           151
          ],
          [
           "Vouzela",
           "16G1824",
           178.8
          ],
          [
           "Castelo Branco",
           "16H0502",
           141.1
          ],
          [
           "Idanha-a-Nova",
           "16H0505",
           128
          ],
          [
           "Oleiros",
           "16H0506",
           75
          ],
          [
           "Penamacor",
           "16H0507",
           71.6
          ],
          [
           "Proença-a-Nova",
           "16H0508",
           97.8
          ],
          [
           "Vila Velha de Ródão",
           "16H0511",
           0
          ],
          [
           "Abrantes",
           "16I1401",
           141.4
          ],
          [
           "Alcanena",
           "16I1402",
           115.4
          ],
          [
           "Constância",
           "16I1408",
           94.6
          ],
          [
           "Entroncamento",
           "16I1410",
           148.1
          ],
          [
           "Ferreira do Zêzere",
           "16I1411",
           52.3
          ],
          [
           "Mação",
           "16I1413",
           149.1
          ],
          [
           "Ourém",
           "16I1421",
           152.5
          ],
          [
           "Sardoal",
           "16I1417",
           118.5
          ],
          [
           "Sertã",
           "16I0509",
           146.2
          ],
          [
           "Tomar",
           "16I1418",
           173.2
          ],
          [
           "Torres Novas",
           "16I1419",
           124.9
          ],
          [
           "Vila de Rei",
           "16I0510",
           104.9
          ],
          [
           "Vila Nova da Barquinha",
           "16I1420",
           75
          ],
          [
           "Almeida",
           "16J0902",
           85.4
          ],
          [
           "Belmonte",
           "16J0501",
           58.7
          ],
          [
           "Celorico da Beira",
           "16J0903",
           88.6
          ],
          [
           "Covilhã",
           "16J0503",
           146.9
          ],
          [
           "Figueira de Castelo Rodrigo",
           "16J0904",
           66.9
          ],
          [
           "Fornos de Algodres",
           "16J0905",
           89.9
          ],
          [
           "Fundão",
           "16J0504",
           132.6
          ],
          [
           "Gouveia",
           "16J0906",
           118.3
          ],
          [
           "Guarda",
           "16J0907",
           140.9
          ],
          [
           "Manteigas",
           "16J0908",
           128.8
          ],
          [
           "Mêda",
           "16J0909",
           61.1
          ],
          [
           "Pinhel",
           "16J0910",
           109.8
          ],
          [
           "Sabugal",
           "16J0911",
           82.2
          ],
          [
           "Seia",
           "16J0912",
           139.9
          ],
          [
           "Trancoso",
           "16J0913",
           230.2
          ],
          [
           "Alcochete",
           "1701502",
           101.8
          ],
          [
           "Almada",
           "1701503",
           126.5
          ],
          [
           "Amadora",
           "1701115",
           123.8
          ],
          [
           "Barreiro",
           "1701504",
           150.1
          ],
          [
           "Cascais",
           "1701105",
           120.1
          ],
          [
           "Lisboa",
           "1701106",
           223.1
          ],
          [
           "Loures",
           "1701107",
           77.9
          ],
          [
           "Mafra",
           "1701109",
           99.7
          ],
          [
           "Moita",
           "1701506",
           86.2
          ],
          [
           "Montijo",
           "1701507",
           104
          ],
          [
           "Odivelas",
           "1701116",
           101.9
          ],
          [
           "Oeiras",
           "1701110",
           104.4
          ],
          [
           "Palmela",
           "1701508",
           118.6
          ],
          [
           "Seixal",
           "1701510",
           113.4
          ],
          [
           "Sesimbra",
           "1701511",
           85.8
          ],
          [
           "Setúbal",
           "1701512",
           131.3
          ],
          [
           "Sintra",
           "1701111",
           100
          ],
          [
           "Vila Franca de Xira",
           "1701114",
           123.2
          ],
          [
           "Alcácer do Sal",
           "1811501",
           83.4
          ],
          [
           "Grândola",
           "1811505",
           119.1
          ],
          [
           "Odemira",
           "1810211",
           133.8
          ],
          [
           "Santiago do Cacém",
           "1811509",
           124.1
          ],
          [
           "Sines",
           "1811513",
           158.9
          ],
          [
           "Aljustrel",
           "1840201",
           110.2
          ],
          [
           "Almodôvar",
           "1840202",
           117.3
          ],
          [
           "Alvito",
           "1840203",
           185.1
          ],
          [
           "Barrancos",
           "1840204",
           0
          ],
          [
           "Beja",
           "1840205",
           150.3
          ],
          [
           "Castro Verde",
           "1840206",
           87.3
          ],
          [
           "Cuba",
           "1840207",
           119.2
          ],
          [
           "Ferreira do Alentejo",
           "1840208",
           48.2
          ],
          [
           "Mértola",
           "1840209",
           170.6
          ],
          [
           "Moura",
           "1840210",
           116.8
          ],
          [
           "Ourique",
           "1840212",
           80.9
          ],
          [
           "Serpa",
           "1840213",
           140.3
          ],
          [
           "Vidigueira",
           "1840214",
           81.7
          ],
          [
           "Almeirim",
           "1851403",
           84.4
          ],
          [
           "Alpiarça",
           "1851404",
           76.5
          ],
          [
           "Azambuja",
           "1851103",
           95.8
          ],
          [
           "Benavente",
           "1851405",
           76.5
          ],
          [
           "Cartaxo",
           "1851406",
           96
          ],
          [
           "Chamusca",
           "1851407",
           48.2
          ],
          [
           "Coruche",
           "1851409",
           105.3
          ],
          [
           "Golegã",
           "1851412",
           73
          ],
          [
           "Rio Maior",
           "1851414",
           146.9
          ],
          [
           "Salvaterra de Magos",
           "1851415",
           162.8
          ],
          [
           "Santarém",
           "1851416",
           182.4
          ],
          [
           "Alter do Chão",
           "1861201",
           243.6
          ],
          [
           "Arronches",
           "1861202",
           11.1
          ],
          [
           "Avis",
           "1861203",
           12.6
          ],
          [
           "Campo Maior",
           "1861204",
           122.7
          ],
          [
           "Castelo de Vide",
           "1861205",
           0
          ],
          [
           "Crato",
           "1861206",
           84.1
          ],
          [
           "Elvas",
           "1861207",
           124.5
          ],
          [
           "Fronteira",
           "1861208",
           0
          ],
          [
           "Gavião",
           "1861209",
           45.5
          ],
          [
           "Marvão",
           "1861210",
           0
          ],
          [
           "Monforte",
           "1861211",
           0
          ],
          [
           "Nisa",
           "1861212",
           79
          ],
          [
           "Ponte de Sor",
           "1861213",
           134
          ],
          [
           "Portalegre",
           "1861214",
           203.3
          ],
          [
           "Sousel",
           "1861215",
           109.3
          ],
          [
           "Alandroal",
           "1870701",
           0
          ],
          [
           "Arraiolos",
           "1870702",
           80
          ],
          [
           "Borba",
           "1870703",
           0
          ],
          [
           "Estremoz",
           "1870704",
           174.7
          ],
          [
           "Évora",
           "1870705",
           170.8
          ],
          [
           "Montemor-o-Novo",
           "1870706",
           106.3
          ],
          [
           "Mora",
           "1870707",
           69.5
          ],
          [
           "Mourão",
           "1870708",
           0
          ],
          [
           "Portel",
           "1870709",
           2.3
          ],
          [
           "Redondo",
           "1870710",
           86.6
          ],
          [
           "Reguengos de Monsaraz",
           "1870711",
           161.2
          ],
          [
           "Vendas Novas",
           "1870712",
           152.7
          ],
          [
           "Viana do Alentejo",
           "1870713",
           108.2
          ],
          [
           "Vila Viçosa",
           "1870714",
           209
          ],
          [
           "Albufeira",
           "1500801",
           124.2
          ],
          [
           "Alcoutim",
           "1500802",
           0
          ],
          [
           "Aljezur",
           "1500803",
           0
          ],
          [
           "Castro Marim",
           "1500804",
           0
          ],
          [
           "Faro",
           "1500805",
           153.1
          ],
          [
           "Lagoa",
           "1500806",
           70.2
          ],
          [
           "Lagos",
           "1500807",
           144.2
          ],
          [
           "Loulé",
           "1500808",
           129.1
          ],
          [
           "Monchique",
           "1500809",
           0
          ],
          [
           "Olhão",
           "1500810",
           94.5
          ],
          [
           "Portimão",
           "1500811",
           163
          ],
          [
           "São Brás de Alportel",
           "1500812",
           105.3
          ],
          [
           "Silves",
           "1500813",
           102.1
          ],
          [
           "Tavira",
           "1500814",
           113.2
          ],
          [
           "Vila do Bispo",
           "1500815",
           0
          ],
          [
           "Vila Real de Santo António",
           "1500816",
           147.7
          ],
          [
           "Angra do Heroísmo",
           "2004301",
           106.8
          ],
          [
           "Calheta",
           "2004501",
           77.6
          ],
          [
           "Corvo",
           "2004901",
           45.5
          ],
          [
           "Horta",
           "2004701",
           102.4
          ],
          [
           "Lagoa",
           "2004201",
           87.8
          ],
          [
           "Lajes das Flores",
           "2004801",
           1.9
          ],
          [
           "Lajes do Pico",
           "2004601",
           85.5
          ],
          [
           "Madalena",
           "2004602",
           109.3
          ],
          [
           "Nordeste",
           "2004202",
           85.8
          ],
          [
           "Ponta Delgada",
           "2004203",
           135.3
          ],
          [
           "Povoação",
           "2004204",
           100.5
          ],
          [
           "Ribeira Grande",
           "2004205",
           59.2
          ],
          [
           "Santa Cruz da Graciosa",
           "2004401",
           98.2
          ],
          [
           "Santa Cruz das Flores",
           "2004802",
           135.2
          ],
          [
           "São Roque do Pico",
           "2004603",
           81.4
          ],
          [
           "Velas",
           "2004502",
           160.1
          ],
          [
           "Vila da Praia da Vitória",
           "2004302",
           122.4
          ],
          [
           "Vila do Porto",
           "2004101",
           98.9
          ],
          [
           "Vila Franca do Campo",
           "2004206",
           109.5
          ],
          [
           "Calheta",
           "3003101",
           92.6
          ],
          [
           "Câmara de Lobos",
           "3003102",
           22
          ],
          [
           "Funchal",
           "3003103",
           234.3
          ],
          [
           "Machico",
           "3003104",
           101.2
          ],
          [
           "Ponta do Sol",
           "3003105",
           72
          ],
          [
           "Porto Moniz",
           "3003106",
           83.3
          ],
          [
           "Porto Santo",
           "3003201",
           108.1
          ],
          [
           "Ribeira Brava",
           "3003107",
           87.4
          ],
          [
           "Santa Cruz",
           "3003108",
           20.9
          ],
          [
           "Santana",
           "3003109",
           97.5
          ],
          [
           "São Vicente",
           "3003110",
           79.2
          ]
         ],
         "hovertemplate": "valor=%{x}<br>y=%{y}<br>local=%{customdata[0]}<br>codigo=%{customdata[1]}<br>HM=%{customdata[2]}<br>taxa_bruta_escolarizacao_ensino_secundario=%{marker.color}<extra></extra>",
         "legendgroup": "",
         "marker": {
          "color": {
           "bdata": "AQEBAgECAQECAQEBAgEAAQEBAQEBAQEBAQIBAQEBAQICAQICAQEBAQEAAgEBAQECAQIBAQEBAQECAQEBAQACAQICAAIBAAIBAQEBAAIBAgIBAgIBAAEBAQEBAQIBAQABAQIBAQICAQEAAQECAQIBAgEBAAEBAQEBAQIAAgABAQEBAgEAAQECAgIBAQECAQEBAQECAQIBAgICAQEBAQACAQECAAICAQICAQEBAQEBAgEBAQECAQEBAQICAQEBAgECAQEBAQEBAQEBAQEBAQEBAQIBAQIAAgEBAAIBAQIBAQEBAQEAAQECAgICAAABAAEBAAAAAAEBAgEAAQACAgEBAAABAgIBAgEAAAACAQIBAAECAQEBAAIBAQABAQABAQECAQEBAgECAQEBAQACAQEBAQEAAQE=",
           "dtype": "i1"
          },
          "coloraxis": "coloraxis",
          "size": 10,
          "symbol": "circle"
         },
         "mode": "markers",
         "name": "",
         "orientation": "v",
         "showlegend": false,
         "type": "scatter",
         "x": {
          "bdata": "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",
          "dtype": "f8"
         },
         "xaxis": "x",
         "y": {
          "bdata": "AAAAAAAAAAAAAAAAAAAAAAAAAAAAAAAAAAAAAAAAAAAAAAAAAAAAAAAAAAAAAAAAAAAAAAAAAAAAAAAAAAAAAAAAAAAAAAAAAAAAAAAAAAAAAAAAAAAAAAAAAAAAAAAAAAAAAAAAAAAAAAAAAAAAAAAAAAAAAAAAAAAAAAAAAAAAAAAAAAAAAAAAAAAAAAAAAAAAAAAAAAAAAAAAAAAAAAAAAAAAAAAAAAAAAAAAAAAAAAAAAAAAAAAAAAAAAAAAAAAAAAAAAAAAAAAAAAAAAAAAAAAAAAAAAAAAAAAAAAAAAAAAAAAAAAAAAAAAAAAAAAAAAAAAAAAAAAAAAAAAAAAAAAAAAAAAAAAAAAAAAAAAAAAAAAAAAAAAAAAAAAAAAAAAAAAAAAAAAAAAAAAAAAAAAAA=",
          "dtype": "i1"
         },
         "yaxis": "y"
        }
       ],
       "layout": {
        "coloraxis": {
         "colorbar": {
          "title": {
           "text": "taxa_bruta_escolarizacao_ensino_secundario"
          }
         },
         "colorscale": [
          [
           0,
           "#440154"
          ],
          [
           0.1111111111111111,
           "#482878"
          ],
          [
           0.2222222222222222,
           "#3e4989"
          ],
          [
           0.3333333333333333,
           "#31688e"
          ],
          [
           0.4444444444444444,
           "#26828e"
          ],
          [
           0.5555555555555556,
           "#1f9e89"
          ],
          [
           0.6666666666666666,
           "#35b779"
          ],
          [
           0.7777777777777778,
           "#6ece58"
          ],
          [
           0.8888888888888888,
           "#b5de2b"
          ],
          [
           1,
           "#fde725"
          ]
         ]
        },
        "height": 300,
        "legend": {
         "tracegroupgap": 0
        },
        "margin": {
         "t": 60
        },
        "template": {
         "data": {
          "bar": [
           {
            "error_x": {
             "color": "#2a3f5f"
            },
            "error_y": {
             "color": "#2a3f5f"
            },
            "marker": {
             "line": {
              "color": "#E5ECF6",
              "width": 0.5
             },
             "pattern": {
              "fillmode": "overlay",
              "size": 10,
              "solidity": 0.2
             }
            },
            "type": "bar"
           }
          ],
          "barpolar": [
           {
            "marker": {
             "line": {
              "color": "#E5ECF6",
              "width": 0.5
             },
             "pattern": {
              "fillmode": "overlay",
              "size": 10,
              "solidity": 0.2
             }
            },
            "type": "barpolar"
           }
          ],
          "carpet": [
           {
            "aaxis": {
             "endlinecolor": "#2a3f5f",
             "gridcolor": "white",
             "linecolor": "white",
             "minorgridcolor": "white",
             "startlinecolor": "#2a3f5f"
            },
            "baxis": {
             "endlinecolor": "#2a3f5f",
             "gridcolor": "white",
             "linecolor": "white",
             "minorgridcolor": "white",
             "startlinecolor": "#2a3f5f"
            },
            "type": "carpet"
           }
          ],
          "choropleth": [
           {
            "colorbar": {
             "outlinewidth": 0,
             "ticks": ""
            },
            "type": "choropleth"
           }
          ],
          "contour": [
           {
            "colorbar": {
             "outlinewidth": 0,
             "ticks": ""
            },
            "colorscale": [
             [
              0,
              "#0d0887"
             ],
             [
              0.1111111111111111,
              "#46039f"
             ],
             [
              0.2222222222222222,
              "#7201a8"
             ],
             [
              0.3333333333333333,
              "#9c179e"
             ],
             [
              0.4444444444444444,
              "#bd3786"
             ],
             [
              0.5555555555555556,
              "#d8576b"
             ],
             [
              0.6666666666666666,
              "#ed7953"
             ],
             [
              0.7777777777777778,
              "#fb9f3a"
             ],
             [
              0.8888888888888888,
              "#fdca26"
             ],
             [
              1,
              "#f0f921"
             ]
            ],
            "type": "contour"
           }
          ],
          "contourcarpet": [
           {
            "colorbar": {
             "outlinewidth": 0,
             "ticks": ""
            },
            "type": "contourcarpet"
           }
          ],
          "heatmap": [
           {
            "colorbar": {
             "outlinewidth": 0,
             "ticks": ""
            },
            "colorscale": [
             [
              0,
              "#0d0887"
             ],
             [
              0.1111111111111111,
              "#46039f"
             ],
             [
              0.2222222222222222,
              "#7201a8"
             ],
             [
              0.3333333333333333,
              "#9c179e"
             ],
             [
              0.4444444444444444,
              "#bd3786"
             ],
             [
              0.5555555555555556,
              "#d8576b"
             ],
             [
              0.6666666666666666,
              "#ed7953"
             ],
             [
              0.7777777777777778,
              "#fb9f3a"
             ],
             [
              0.8888888888888888,
              "#fdca26"
             ],
             [
              1,
              "#f0f921"
             ]
            ],
            "type": "heatmap"
           }
          ],
          "histogram": [
           {
            "marker": {
             "pattern": {
              "fillmode": "overlay",
              "size": 10,
              "solidity": 0.2
             }
            },
            "type": "histogram"
           }
          ],
          "histogram2d": [
           {
            "colorbar": {
             "outlinewidth": 0,
             "ticks": ""
            },
            "colorscale": [
             [
              0,
              "#0d0887"
             ],
             [
              0.1111111111111111,
              "#46039f"
             ],
             [
              0.2222222222222222,
              "#7201a8"
             ],
             [
              0.3333333333333333,
              "#9c179e"
             ],
             [
              0.4444444444444444,
              "#bd3786"
             ],
             [
              0.5555555555555556,
              "#d8576b"
             ],
             [
              0.6666666666666666,
              "#ed7953"
             ],
             [
              0.7777777777777778,
              "#fb9f3a"
             ],
             [
              0.8888888888888888,
              "#fdca26"
             ],
             [
              1,
              "#f0f921"
             ]
            ],
            "type": "histogram2d"
           }
          ],
          "histogram2dcontour": [
           {
            "colorbar": {
             "outlinewidth": 0,
             "ticks": ""
            },
            "colorscale": [
             [
              0,
              "#0d0887"
             ],
             [
              0.1111111111111111,
              "#46039f"
             ],
             [
              0.2222222222222222,
              "#7201a8"
             ],
             [
              0.3333333333333333,
              "#9c179e"
             ],
             [
              0.4444444444444444,
              "#bd3786"
             ],
             [
              0.5555555555555556,
              "#d8576b"
             ],
             [
              0.6666666666666666,
              "#ed7953"
             ],
             [
              0.7777777777777778,
              "#fb9f3a"
             ],
             [
              0.8888888888888888,
              "#fdca26"
             ],
             [
              1,
              "#f0f921"
             ]
            ],
            "type": "histogram2dcontour"
           }
          ],
          "mesh3d": [
           {
            "colorbar": {
             "outlinewidth": 0,
             "ticks": ""
            },
            "type": "mesh3d"
           }
          ],
          "parcoords": [
           {
            "line": {
             "colorbar": {
              "outlinewidth": 0,
              "ticks": ""
             }
            },
            "type": "parcoords"
           }
          ],
          "pie": [
           {
            "automargin": true,
            "type": "pie"
           }
          ],
          "scatter": [
           {
            "fillpattern": {
             "fillmode": "overlay",
             "size": 10,
             "solidity": 0.2
            },
            "type": "scatter"
           }
          ],
          "scatter3d": [
           {
            "line": {
             "colorbar": {
              "outlinewidth": 0,
              "ticks": ""
             }
            },
            "marker": {
             "colorbar": {
              "outlinewidth": 0,
              "ticks": ""
             }
            },
            "type": "scatter3d"
           }
          ],
          "scattercarpet": [
           {
            "marker": {
             "colorbar": {
              "outlinewidth": 0,
              "ticks": ""
             }
            },
            "type": "scattercarpet"
           }
          ],
          "scattergeo": [
           {
            "marker": {
             "colorbar": {
              "outlinewidth": 0,
              "ticks": ""
             }
            },
            "type": "scattergeo"
           }
          ],
          "scattergl": [
           {
            "marker": {
             "colorbar": {
              "outlinewidth": 0,
              "ticks": ""
             }
            },
            "type": "scattergl"
           }
          ],
          "scattermap": [
           {
            "marker": {
             "colorbar": {
              "outlinewidth": 0,
              "ticks": ""
             }
            },
            "type": "scattermap"
           }
          ],
          "scattermapbox": [
           {
            "marker": {
             "colorbar": {
              "outlinewidth": 0,
              "ticks": ""
             }
            },
            "type": "scattermapbox"
           }
          ],
          "scatterpolar": [
           {
            "marker": {
             "colorbar": {
              "outlinewidth": 0,
              "ticks": ""
             }
            },
            "type": "scatterpolar"
           }
          ],
          "scatterpolargl": [
           {
            "marker": {
             "colorbar": {
              "outlinewidth": 0,
              "ticks": ""
             }
            },
            "type": "scatterpolargl"
           }
          ],
          "scatterternary": [
           {
            "marker": {
             "colorbar": {
              "outlinewidth": 0,
              "ticks": ""
             }
            },
            "type": "scatterternary"
           }
          ],
          "surface": [
           {
            "colorbar": {
             "outlinewidth": 0,
             "ticks": ""
            },
            "colorscale": [
             [
              0,
              "#0d0887"
             ],
             [
              0.1111111111111111,
              "#46039f"
             ],
             [
              0.2222222222222222,
              "#7201a8"
             ],
             [
              0.3333333333333333,
              "#9c179e"
             ],
             [
              0.4444444444444444,
              "#bd3786"
             ],
             [
              0.5555555555555556,
              "#d8576b"
             ],
             [
              0.6666666666666666,
              "#ed7953"
             ],
             [
              0.7777777777777778,
              "#fb9f3a"
             ],
             [
              0.8888888888888888,
              "#fdca26"
             ],
             [
              1,
              "#f0f921"
             ]
            ],
            "type": "surface"
           }
          ],
          "table": [
           {
            "cells": {
             "fill": {
              "color": "#EBF0F8"
             },
             "line": {
              "color": "white"
             }
            },
            "header": {
             "fill": {
              "color": "#C8D4E3"
             },
             "line": {
              "color": "white"
             }
            },
            "type": "table"
           }
          ]
         },
         "layout": {
          "annotationdefaults": {
           "arrowcolor": "#2a3f5f",
           "arrowhead": 0,
           "arrowwidth": 1
          },
          "autotypenumbers": "strict",
          "coloraxis": {
           "colorbar": {
            "outlinewidth": 0,
            "ticks": ""
           }
          },
          "colorscale": {
           "diverging": [
            [
             0,
             "#8e0152"
            ],
            [
             0.1,
             "#c51b7d"
            ],
            [
             0.2,
             "#de77ae"
            ],
            [
             0.3,
             "#f1b6da"
            ],
            [
             0.4,
             "#fde0ef"
            ],
            [
             0.5,
             "#f7f7f7"
            ],
            [
             0.6,
             "#e6f5d0"
            ],
            [
             0.7,
             "#b8e186"
            ],
            [
             0.8,
             "#7fbc41"
            ],
            [
             0.9,
             "#4d9221"
            ],
            [
             1,
             "#276419"
            ]
           ],
           "sequential": [
            [
             0,
             "#0d0887"
            ],
            [
             0.1111111111111111,
             "#46039f"
            ],
            [
             0.2222222222222222,
             "#7201a8"
            ],
            [
             0.3333333333333333,
             "#9c179e"
            ],
            [
             0.4444444444444444,
             "#bd3786"
            ],
            [
             0.5555555555555556,
             "#d8576b"
            ],
            [
             0.6666666666666666,
             "#ed7953"
            ],
            [
             0.7777777777777778,
             "#fb9f3a"
            ],
            [
             0.8888888888888888,
             "#fdca26"
            ],
            [
             1,
             "#f0f921"
            ]
           ],
           "sequentialminus": [
            [
             0,
             "#0d0887"
            ],
            [
             0.1111111111111111,
             "#46039f"
            ],
            [
             0.2222222222222222,
             "#7201a8"
            ],
            [
             0.3333333333333333,
             "#9c179e"
            ],
            [
             0.4444444444444444,
             "#bd3786"
            ],
            [
             0.5555555555555556,
             "#d8576b"
            ],
            [
             0.6666666666666666,
             "#ed7953"
            ],
            [
             0.7777777777777778,
             "#fb9f3a"
            ],
            [
             0.8888888888888888,
             "#fdca26"
            ],
            [
             1,
             "#f0f921"
            ]
           ]
          },
          "colorway": [
           "#636efa",
           "#EF553B",
           "#00cc96",
           "#ab63fa",
           "#FFA15A",
           "#19d3f3",
           "#FF6692",
           "#B6E880",
           "#FF97FF",
           "#FECB52"
          ],
          "font": {
           "color": "#2a3f5f"
          },
          "geo": {
           "bgcolor": "white",
           "lakecolor": "white",
           "landcolor": "#E5ECF6",
           "showlakes": true,
           "showland": true,
           "subunitcolor": "white"
          },
          "hoverlabel": {
           "align": "left"
          },
          "hovermode": "closest",
          "mapbox": {
           "style": "light"
          },
          "paper_bgcolor": "white",
          "plot_bgcolor": "#E5ECF6",
          "polar": {
           "angularaxis": {
            "gridcolor": "white",
            "linecolor": "white",
            "ticks": ""
           },
           "bgcolor": "#E5ECF6",
           "radialaxis": {
            "gridcolor": "white",
            "linecolor": "white",
            "ticks": ""
           }
          },
          "scene": {
           "xaxis": {
            "backgroundcolor": "#E5ECF6",
            "gridcolor": "white",
            "gridwidth": 2,
            "linecolor": "white",
            "showbackground": true,
            "ticks": "",
            "zerolinecolor": "white"
           },
           "yaxis": {
            "backgroundcolor": "#E5ECF6",
            "gridcolor": "white",
            "gridwidth": 2,
            "linecolor": "white",
            "showbackground": true,
            "ticks": "",
            "zerolinecolor": "white"
           },
           "zaxis": {
            "backgroundcolor": "#E5ECF6",
            "gridcolor": "white",
            "gridwidth": 2,
            "linecolor": "white",
            "showbackground": true,
            "ticks": "",
            "zerolinecolor": "white"
           }
          },
          "shapedefaults": {
           "line": {
            "color": "#2a3f5f"
           }
          },
          "ternary": {
           "aaxis": {
            "gridcolor": "white",
            "linecolor": "white",
            "ticks": ""
           },
           "baxis": {
            "gridcolor": "white",
            "linecolor": "white",
            "ticks": ""
           },
           "bgcolor": "#E5ECF6",
           "caxis": {
            "gridcolor": "white",
            "linecolor": "white",
            "ticks": ""
           }
          },
          "title": {
           "x": 0.05
          },
          "xaxis": {
           "automargin": true,
           "gridcolor": "white",
           "linecolor": "white",
           "ticks": "",
           "title": {
            "standoff": 15
           },
           "zerolinecolor": "white",
           "zerolinewidth": 2
          },
          "yaxis": {
           "automargin": true,
           "gridcolor": "white",
           "linecolor": "white",
           "ticks": "",
           "title": {
            "standoff": 15
           },
           "zerolinecolor": "white",
           "zerolinewidth": 2
          }
         }
        },
        "xaxis": {
         "anchor": "y",
         "domain": [
          0,
          1
         ],
         "title": {
          "text": "HM"
         }
        },
        "yaxis": {
         "anchor": "x",
         "domain": [
          0,
          1
         ],
         "showgrid": false,
         "showticklabels": false,
         "title": {
          "text": "y"
         }
        }
       }
      }
     },
     "metadata": {},
     "output_type": "display_data"
    },
    {
     "name": "stdout",
     "output_type": "stream",
     "text": [
      "taxa_bruta_escolarizacao_ensino_secundario\n",
      "0     38\n",
      "1    193\n",
      "2     77\n",
      "Name: count, dtype: int64\n",
      "File saved to csv_files/1_Taxa bruta de escolarização no ensino secundário.csv\n"
     ]
    }
   ],
   "source": [
    "clustered_df = aplicar_kmeans(only_municipalities_df,3,nome_cluster='taxa_bruta_escolarizacao_ensino_secundario')\n",
    "save_clustered_df_to_csv(clustered_df,\"csv_files/\", \"1_Taxa bruta de escolarização no ensino secundário.csv\")"
   ]
  },
  {
   "cell_type": "markdown",
   "id": "486d7907",
   "metadata": {},
   "source": [
    "###  Taxa de Analfabetismo"
   ]
  },
  {
   "cell_type": "code",
   "execution_count": 11,
   "id": "a839c4cd",
   "metadata": {},
   "outputs": [
    {
     "data": {
      "text/html": [
       "<div>\n",
       "<style scoped>\n",
       "    .dataframe tbody tr th:only-of-type {\n",
       "        vertical-align: middle;\n",
       "    }\n",
       "\n",
       "    .dataframe tbody tr th {\n",
       "        vertical-align: top;\n",
       "    }\n",
       "\n",
       "    .dataframe thead th {\n",
       "        text-align: right;\n",
       "    }\n",
       "</style>\n",
       "<table border=\"1\" class=\"dataframe\">\n",
       "  <thead>\n",
       "    <tr style=\"text-align: right;\">\n",
       "      <th></th>\n",
       "      <th>local</th>\n",
       "      <th>HM</th>\n",
       "      <th>codigo</th>\n",
       "      <th>H</th>\n",
       "      <th>M</th>\n",
       "    </tr>\n",
       "  </thead>\n",
       "  <tbody>\n",
       "    <tr>\n",
       "      <th>0</th>\n",
       "      <td>Águeda</td>\n",
       "      <td>2.59</td>\n",
       "      <td>16D0101</td>\n",
       "      <td>NaN</td>\n",
       "      <td>NaN</td>\n",
       "    </tr>\n",
       "    <tr>\n",
       "      <th>1</th>\n",
       "      <td>Albergaria-a-Velha</td>\n",
       "      <td>2.29</td>\n",
       "      <td>16D0102</td>\n",
       "      <td>NaN</td>\n",
       "      <td>NaN</td>\n",
       "    </tr>\n",
       "    <tr>\n",
       "      <th>2</th>\n",
       "      <td>Anadia</td>\n",
       "      <td>3.85</td>\n",
       "      <td>16D0103</td>\n",
       "      <td>NaN</td>\n",
       "      <td>NaN</td>\n",
       "    </tr>\n",
       "    <tr>\n",
       "      <th>3</th>\n",
       "      <td>Arouca</td>\n",
       "      <td>4.21</td>\n",
       "      <td>11A0104</td>\n",
       "      <td>NaN</td>\n",
       "      <td>NaN</td>\n",
       "    </tr>\n",
       "    <tr>\n",
       "      <th>4</th>\n",
       "      <td>Aveiro</td>\n",
       "      <td>1.67</td>\n",
       "      <td>16D0105</td>\n",
       "      <td>NaN</td>\n",
       "      <td>NaN</td>\n",
       "    </tr>\n",
       "    <tr>\n",
       "      <th>...</th>\n",
       "      <td>...</td>\n",
       "      <td>...</td>\n",
       "      <td>...</td>\n",
       "      <td>...</td>\n",
       "      <td>...</td>\n",
       "    </tr>\n",
       "    <tr>\n",
       "      <th>303</th>\n",
       "      <td>Pedrógão Grande</td>\n",
       "      <td>NaN</td>\n",
       "      <td>16F1013</td>\n",
       "      <td>NaN</td>\n",
       "      <td>NaN</td>\n",
       "    </tr>\n",
       "    <tr>\n",
       "      <th>304</th>\n",
       "      <td>Sátão</td>\n",
       "      <td>NaN</td>\n",
       "      <td>16G1817</td>\n",
       "      <td>NaN</td>\n",
       "      <td>NaN</td>\n",
       "    </tr>\n",
       "    <tr>\n",
       "      <th>305</th>\n",
       "      <td>Vila Velha de Ródão</td>\n",
       "      <td>NaN</td>\n",
       "      <td>16H0511</td>\n",
       "      <td>NaN</td>\n",
       "      <td>NaN</td>\n",
       "    </tr>\n",
       "    <tr>\n",
       "      <th>306</th>\n",
       "      <td>Vila Nova da Barquinha</td>\n",
       "      <td>NaN</td>\n",
       "      <td>16I1420</td>\n",
       "      <td>NaN</td>\n",
       "      <td>NaN</td>\n",
       "    </tr>\n",
       "    <tr>\n",
       "      <th>307</th>\n",
       "      <td>Vila da Praia da Vitória</td>\n",
       "      <td>NaN</td>\n",
       "      <td>2004302</td>\n",
       "      <td>NaN</td>\n",
       "      <td>NaN</td>\n",
       "    </tr>\n",
       "  </tbody>\n",
       "</table>\n",
       "<p>308 rows × 5 columns</p>\n",
       "</div>"
      ],
      "text/plain": [
       "                        local    HM   codigo   H   M\n",
       "0                      Águeda  2.59  16D0101 NaN NaN\n",
       "1          Albergaria-a-Velha  2.29  16D0102 NaN NaN\n",
       "2                      Anadia  3.85  16D0103 NaN NaN\n",
       "3                      Arouca  4.21  11A0104 NaN NaN\n",
       "4                      Aveiro  1.67  16D0105 NaN NaN\n",
       "..                        ...   ...      ...  ..  ..\n",
       "303           Pedrógão Grande   NaN  16F1013 NaN NaN\n",
       "304                     Sátão   NaN  16G1817 NaN NaN\n",
       "305       Vila Velha de Ródão   NaN  16H0511 NaN NaN\n",
       "306    Vila Nova da Barquinha   NaN  16I1420 NaN NaN\n",
       "307  Vila da Praia da Vitória   NaN  2004302 NaN NaN\n",
       "\n",
       "[308 rows x 5 columns]"
      ]
     },
     "execution_count": 11,
     "metadata": {},
     "output_type": "execute_result"
    }
   ],
   "source": [
    "'''\n",
    "This code block had to process directly the \"local\" and \"codigo\" attributes since they differed significantly from the other datasets.\n",
    "'''\n",
    "\n",
    "import pandas as pd\n",
    "import numpy as np\n",
    "\n",
    "translation_table = pd.read_excel('auxiliary/municipality_translation_table.xlsx')\n",
    "original_df = processar_ficheiro(data_path + 'taxa de analfabetismo.xls', 4, padding_left=0,padding_right=4)\n",
    "\n",
    "# Keep only rows where 'codigo' has exactly 5 characters\n",
    "original_df = original_df[original_df['codigo'].astype(str).str.len() == 5]\n",
    "\n",
    "# Merge\n",
    "merged_df = pd.merge(original_df, translation_table, on='local', how='inner')\n",
    "df = merged_df.drop_duplicates(subset=['local', 'codigo_y'])\n",
    "\n",
    "df = df.drop(columns=['codigo_x']).rename(columns={'codigo_y': 'codigo'})\n",
    "\n",
    "# Get the set of 'codigo' values from both dataframes\n",
    "codigo_df = set(df['codigo'])\n",
    "codigo_only_municipalities = set(only_municipalities_df['codigo'])\n",
    "codigo_in_only_municipalities_not_in_df = codigo_only_municipalities - codigo_df\n",
    "\n",
    "# Find the rows in only_municipalities_df that are missing in df\n",
    "missing_rows = only_municipalities_df[only_municipalities_df['codigo'].isin(codigo_in_only_municipalities_not_in_df)][['local', 'codigo']]\n",
    "\n",
    "# Add NaN values for the other columns\n",
    "missing_rows = missing_rows.assign(HM=np.nan, H=np.nan, M=np.nan)\n",
    "\n",
    "# Append the missing rows to df\n",
    "df = pd.concat([df, missing_rows], ignore_index=True)\n",
    "\n",
    "df"
   ]
  },
  {
   "cell_type": "code",
   "execution_count": 12,
   "id": "9603be4b",
   "metadata": {},
   "outputs": [
    {
     "data": {
      "application/vnd.plotly.v1+json": {
       "config": {
        "plotlyServerURL": "https://plot.ly"
       },
       "data": [
        {
         "customdata": [
          [
           "Arcos de Valdevez",
           "1111601",
           123.8
          ],
          [
           "Caminha",
           "1111602",
           111
          ],
          [
           "Melgaço",
           "1111603",
           111.4
          ],
          [
           "Monção",
           "1111604",
           144.8
          ],
          [
           "Paredes de Coura",
           "1111605",
           96.7
          ],
          [
           "Ponte da Barca",
           "1111606",
           156.5
          ],
          [
           "Ponte de Lima",
           "1111607",
           125.7
          ],
          [
           "Valença",
           "1111608",
           95.4
          ],
          [
           "Viana do Castelo",
           "1111609",
           170
          ],
          [
           "Vila Nova de Cerveira",
           "1111610",
           73.2
          ],
          [
           "Amares",
           "1120301",
           105.2
          ],
          [
           "Barcelos",
           "1120302",
           113
          ],
          [
           "Braga",
           "1120303",
           148.5
          ],
          [
           "Esposende",
           "1120306",
           98.4
          ],
          [
           "Terras de Bouro",
           "1120310",
           46.4
          ],
          [
           "Vila Verde",
           "1120313",
           103.9
          ],
          [
           "Cabeceiras de Basto",
           "1190304",
           104.3
          ],
          [
           "Fafe",
           "1190307",
           113
          ],
          [
           "Guimarães",
           "1190308",
           111.6
          ],
          [
           "Mondim de Basto",
           "1191705",
           93
          ],
          [
           "Póvoa de Lanhoso",
           "1190309",
           112
          ],
          [
           "Vieira do Minho",
           "1190311",
           81.9
          ],
          [
           "Vila Nova de Famalicão",
           "1190312",
           117.9
          ],
          [
           "Vizela",
           "1190314",
           129.8
          ],
          [
           "Arouca",
           "11A0104",
           110.5
          ],
          [
           "Espinho",
           "11A0107",
           240.1
          ],
          [
           "Gondomar",
           "11A1304",
           87.4
          ],
          [
           "Maia",
           "11A1306",
           87.6
          ],
          [
           "Matosinhos",
           "11A1308",
           117.4
          ],
          [
           "Oliveira de Azeméis",
           "11A0113",
           103.8
          ],
          [
           "Paredes",
           "11A1310",
           89
          ],
          [
           "Porto",
           "11A1312",
           268.5
          ],
          [
           "Póvoa de Varzim",
           "11A1313",
           142.1
          ],
          [
           "Santa Maria da Feira",
           "11A0109",
           87.8
          ],
          [
           "Santo Tirso",
           "11A1314",
           161.6
          ],
          [
           "São João da Madeira",
           "11A0116",
           257.1
          ],
          [
           "Trofa",
           "11A1318",
           93.9
          ],
          [
           "Vale de Cambra",
           "11A0119",
           116.5
          ],
          [
           "Valongo",
           "11A1315",
           93.7
          ],
          [
           "Vila do Conde",
           "11A1316",
           83.6
          ],
          [
           "Vila Nova de Gaia",
           "11A1317",
           120.5
          ],
          [
           "Boticas",
           "11B1702",
           0
          ],
          [
           "Chaves",
           "11B1703",
           166.1
          ],
          [
           "Montalegre",
           "11B1706",
           99.4
          ],
          [
           "Ribeira de Pena",
           "11B1709",
           84.8
          ],
          [
           "Valpaços",
           "11B1712",
           77.6
          ],
          [
           "Vila Pouca de Aguiar",
           "11B1713",
           115.4
          ],
          [
           "Amarante",
           "11C1301",
           145.1
          ],
          [
           "Baião",
           "11C1302",
           93.2
          ],
          [
           "Castelo de Paiva",
           "11C0106",
           162.6
          ],
          [
           "Celorico de Basto",
           "11C0305",
           86.7
          ],
          [
           "Cinfães",
           "11C1804",
           125.8
          ],
          [
           "Felgueiras",
           "11C1303",
           133
          ],
          [
           "Lousada",
           "11C1305",
           100.9
          ],
          [
           "Marco de Canaveses",
           "11C1307",
           107.3
          ],
          [
           "Paços de Ferreira",
           "11C1309",
           122.4
          ],
          [
           "Penafiel",
           "11C1311",
           147.4
          ],
          [
           "Resende",
           "11C1813",
           109.3
          ],
          [
           "Alijó",
           "11D1701",
           88.7
          ],
          [
           "Armamar",
           "11D1801",
           63.6
          ],
          [
           "Carrazeda de Ansiães",
           "11D0403",
           95.5
          ],
          [
           "Freixo de Espada à Cinta",
           "11D0404",
           0
          ],
          [
           "Lamego",
           "11D1805",
           147.7
          ],
          [
           "Mesão Frio",
           "11D1704",
           126.3
          ],
          [
           "Moimenta da Beira",
           "11D1807",
           184.7
          ],
          [
           "Murça",
           "11D1707",
           177.1
          ],
          [
           "Penedono",
           "11D1812",
           0
          ],
          [
           "Peso da Régua",
           "11D1708",
           160.1
          ],
          [
           "Sabrosa",
           "11D1710",
           89.7
          ],
          [
           "Santa Marta de Penaguião",
           "11D1711",
           0
          ],
          [
           "São João da Pesqueira",
           "11D1815",
           166.8
          ],
          [
           "Sernancelhe",
           "11D1818",
           134.4
          ],
          [
           "Tabuaço",
           "11D1819",
           81.5
          ],
          [
           "Tarouca",
           "11D1820",
           80.5
          ],
          [
           "Torre de Moncorvo",
           "11D0409",
           87.8
          ],
          [
           "Vila Nova de Foz Côa",
           "11D0914",
           54.4
          ],
          [
           "Vila Real",
           "11D1714",
           164.2
          ],
          [
           "Alfândega da Fé",
           "11E0401",
           77.5
          ],
          [
           "Bragança",
           "11E0402",
           167
          ],
          [
           "Macedo de Cavaleiros",
           "11E0405",
           147.4
          ],
          [
           "Miranda do Douro",
           "11E0406",
           79
          ],
          [
           "Mirandela",
           "11E0407",
           227.3
          ],
          [
           "Mogadouro",
           "11E0408",
           192.3
          ],
          [
           "Vila Flor",
           "11E0410",
           75.4
          ],
          [
           "Vimioso",
           "11E0411",
           0
          ],
          [
           "Vinhais",
           "11E0412",
           63.9
          ],
          [
           "Alcobaça",
           "16B1001",
           122
          ],
          [
           "Alenquer",
           "16B1101",
           96.6
          ],
          [
           "Arruda dos Vinhos",
           "16B1102",
           131.4
          ],
          [
           "Bombarral",
           "16B1005",
           106.6
          ],
          [
           "Cadaval",
           "16B1104",
           67.2
          ],
          [
           "Caldas da Rainha",
           "16B1006",
           172.4
          ],
          [
           "Lourinhã",
           "16B1108",
           90.2
          ],
          [
           "Nazaré",
           "16B1011",
           103.3
          ],
          [
           "Óbidos",
           "16B1012",
           54.2
          ],
          [
           "Peniche",
           "16B1014",
           90.5
          ],
          [
           "Sobral de Monte Agraço",
           "16B1112",
           68.2
          ],
          [
           "Torres Vedras",
           "16B1113",
           138.8
          ],
          [
           "Águeda",
           "16D0101",
           129.6
          ],
          [
           "Albergaria-a-Velha",
           "16D0102",
           128
          ],
          [
           "Anadia",
           "16D0103",
           160
          ],
          [
           "Aveiro",
           "16D0105",
           176.3
          ],
          [
           "Estarreja",
           "16D0108",
           110.4
          ],
          [
           "Ílhavo",
           "16D0110",
           74.5
          ],
          [
           "Murtosa",
           "16D0112",
           42.5
          ],
          [
           "Oliveira do Bairro",
           "16D0114",
           86.3
          ],
          [
           "Ovar",
           "16D0115",
           106.3
          ],
          [
           "Sever do Vouga",
           "16D0117",
           190.2
          ],
          [
           "Vagos",
           "16D0118",
           125.5
          ],
          [
           "Arganil",
           "16E0601",
           198.3
          ],
          [
           "Cantanhede",
           "16E0602",
           106.2
          ],
          [
           "Coimbra",
           "16E0603",
           191.5
          ],
          [
           "Condeixa-a-Nova",
           "16E0604",
           71.1
          ],
          [
           "Figueira da Foz",
           "16E0605",
           129.6
          ],
          [
           "Góis",
           "16E0606",
           0
          ],
          [
           "Lousã",
           "16E0607",
           128.2
          ],
          [
           "Mealhada",
           "16E0111",
           108
          ],
          [
           "Mira",
           "16E0608",
           86.9
          ],
          [
           "Miranda do Corvo",
           "16E0609",
           70.8
          ],
          [
           "Montemor-o-Velho",
           "16E0610",
           70.6
          ],
          [
           "Mortágua",
           "16E1808",
           92.3
          ],
          [
           "Oliveira do Hospital",
           "16E0611",
           139.8
          ],
          [
           "Pampilhosa da Serra",
           "16E0612",
           56.5
          ],
          [
           "Penacova",
           "16E0613",
           166
          ],
          [
           "Penela",
           "16E0614",
           30.9
          ],
          [
           "Soure",
           "16E0615",
           105.3
          ],
          [
           "Tábua",
           "16E0616",
           100.3
          ],
          [
           "Vila Nova de Poiares",
           "16E0617",
           88.9
          ],
          [
           "Alvaiázere",
           "16F1002",
           106.7
          ],
          [
           "Ansião",
           "16F1003",
           172.9
          ],
          [
           "Batalha",
           "16F1004",
           99.4
          ],
          [
           "Castanheira de Pêra",
           "16F1007",
           0
          ],
          [
           "Figueiró dos Vinhos",
           "16F1008",
           107.9
          ],
          [
           "Leiria",
           "16F1009",
           115.4
          ],
          [
           "Marinha Grande",
           "16F1010",
           152
          ],
          [
           "Pedrógão Grande",
           "16F1013",
           232.1
          ],
          [
           "Pombal",
           "16F1015",
           141.1
          ],
          [
           "Porto de Mós",
           "16F1016",
           114.6
          ],
          [
           "Aguiar da Beira",
           "16G0901",
           102.9
          ],
          [
           "Carregal do Sal",
           "16G1802",
           92.4
          ],
          [
           "Castro Daire",
           "16G1803",
           135.9
          ],
          [
           "Mangualde",
           "16G1806",
           121.9
          ],
          [
           "Nelas",
           "16G1809",
           91.9
          ],
          [
           "Oliveira de Frades",
           "16G1810",
           90.2
          ],
          [
           "Penalva do Castelo",
           "16G1811",
           85.5
          ],
          [
           "Santa Comba Dão",
           "16G1814",
           85.7
          ],
          [
           "São Pedro do Sul",
           "16G1816",
           170.2
          ],
          [
           "Sátão",
           "16G1817",
           81.1
          ],
          [
           "Tondela",
           "16G1821",
           148.3
          ],
          [
           "Vila Nova de Paiva",
           "16G1822",
           89.8
          ],
          [
           "Viseu",
           "16G1823",
           151
          ],
          [
           "Vouzela",
           "16G1824",
           178.8
          ],
          [
           "Castelo Branco",
           "16H0502",
           141.1
          ],
          [
           "Idanha-a-Nova",
           "16H0505",
           128
          ],
          [
           "Oleiros",
           "16H0506",
           75
          ],
          [
           "Penamacor",
           "16H0507",
           71.6
          ],
          [
           "Proença-a-Nova",
           "16H0508",
           97.8
          ],
          [
           "Vila Velha de Ródão",
           "16H0511",
           0
          ],
          [
           "Abrantes",
           "16I1401",
           141.4
          ],
          [
           "Alcanena",
           "16I1402",
           115.4
          ],
          [
           "Constância",
           "16I1408",
           94.6
          ],
          [
           "Entroncamento",
           "16I1410",
           148.1
          ],
          [
           "Ferreira do Zêzere",
           "16I1411",
           52.3
          ],
          [
           "Mação",
           "16I1413",
           149.1
          ],
          [
           "Ourém",
           "16I1421",
           152.5
          ],
          [
           "Sardoal",
           "16I1417",
           118.5
          ],
          [
           "Sertã",
           "16I0509",
           146.2
          ],
          [
           "Tomar",
           "16I1418",
           173.2
          ],
          [
           "Torres Novas",
           "16I1419",
           124.9
          ],
          [
           "Vila de Rei",
           "16I0510",
           104.9
          ],
          [
           "Vila Nova da Barquinha",
           "16I1420",
           75
          ],
          [
           "Almeida",
           "16J0902",
           85.4
          ],
          [
           "Belmonte",
           "16J0501",
           58.7
          ],
          [
           "Celorico da Beira",
           "16J0903",
           88.6
          ],
          [
           "Covilhã",
           "16J0503",
           146.9
          ],
          [
           "Figueira de Castelo Rodrigo",
           "16J0904",
           66.9
          ],
          [
           "Fornos de Algodres",
           "16J0905",
           89.9
          ],
          [
           "Fundão",
           "16J0504",
           132.6
          ],
          [
           "Gouveia",
           "16J0906",
           118.3
          ],
          [
           "Guarda",
           "16J0907",
           140.9
          ],
          [
           "Manteigas",
           "16J0908",
           128.8
          ],
          [
           "Mêda",
           "16J0909",
           61.1
          ],
          [
           "Pinhel",
           "16J0910",
           109.8
          ],
          [
           "Sabugal",
           "16J0911",
           82.2
          ],
          [
           "Seia",
           "16J0912",
           139.9
          ],
          [
           "Trancoso",
           "16J0913",
           230.2
          ],
          [
           "Alcochete",
           "1701502",
           101.8
          ],
          [
           "Almada",
           "1701503",
           126.5
          ],
          [
           "Amadora",
           "1701115",
           123.8
          ],
          [
           "Barreiro",
           "1701504",
           150.1
          ],
          [
           "Cascais",
           "1701105",
           120.1
          ],
          [
           "Lisboa",
           "1701106",
           223.1
          ],
          [
           "Loures",
           "1701107",
           77.9
          ],
          [
           "Mafra",
           "1701109",
           99.7
          ],
          [
           "Moita",
           "1701506",
           86.2
          ],
          [
           "Montijo",
           "1701507",
           104
          ],
          [
           "Odivelas",
           "1701116",
           101.9
          ],
          [
           "Oeiras",
           "1701110",
           104.4
          ],
          [
           "Palmela",
           "1701508",
           118.6
          ],
          [
           "Seixal",
           "1701510",
           113.4
          ],
          [
           "Sesimbra",
           "1701511",
           85.8
          ],
          [
           "Setúbal",
           "1701512",
           131.3
          ],
          [
           "Sintra",
           "1701111",
           100
          ],
          [
           "Vila Franca de Xira",
           "1701114",
           123.2
          ],
          [
           "Alcácer do Sal",
           "1811501",
           83.4
          ],
          [
           "Grândola",
           "1811505",
           119.1
          ],
          [
           "Odemira",
           "1810211",
           133.8
          ],
          [
           "Santiago do Cacém",
           "1811509",
           124.1
          ],
          [
           "Sines",
           "1811513",
           158.9
          ],
          [
           "Aljustrel",
           "1840201",
           110.2
          ],
          [
           "Almodôvar",
           "1840202",
           117.3
          ],
          [
           "Alvito",
           "1840203",
           185.1
          ],
          [
           "Barrancos",
           "1840204",
           0
          ],
          [
           "Beja",
           "1840205",
           150.3
          ],
          [
           "Castro Verde",
           "1840206",
           87.3
          ],
          [
           "Cuba",
           "1840207",
           119.2
          ],
          [
           "Ferreira do Alentejo",
           "1840208",
           48.2
          ],
          [
           "Mértola",
           "1840209",
           170.6
          ],
          [
           "Moura",
           "1840210",
           116.8
          ],
          [
           "Ourique",
           "1840212",
           80.9
          ],
          [
           "Serpa",
           "1840213",
           140.3
          ],
          [
           "Vidigueira",
           "1840214",
           81.7
          ],
          [
           "Almeirim",
           "1851403",
           84.4
          ],
          [
           "Alpiarça",
           "1851404",
           76.5
          ],
          [
           "Azambuja",
           "1851103",
           95.8
          ],
          [
           "Benavente",
           "1851405",
           76.5
          ],
          [
           "Cartaxo",
           "1851406",
           96
          ],
          [
           "Chamusca",
           "1851407",
           48.2
          ],
          [
           "Coruche",
           "1851409",
           105.3
          ],
          [
           "Golegã",
           "1851412",
           73
          ],
          [
           "Rio Maior",
           "1851414",
           146.9
          ],
          [
           "Salvaterra de Magos",
           "1851415",
           162.8
          ],
          [
           "Santarém",
           "1851416",
           182.4
          ],
          [
           "Alter do Chão",
           "1861201",
           243.6
          ],
          [
           "Arronches",
           "1861202",
           11.1
          ],
          [
           "Avis",
           "1861203",
           12.6
          ],
          [
           "Campo Maior",
           "1861204",
           122.7
          ],
          [
           "Castelo de Vide",
           "1861205",
           0
          ],
          [
           "Crato",
           "1861206",
           84.1
          ],
          [
           "Elvas",
           "1861207",
           124.5
          ],
          [
           "Fronteira",
           "1861208",
           0
          ],
          [
           "Gavião",
           "1861209",
           45.5
          ],
          [
           "Marvão",
           "1861210",
           0
          ],
          [
           "Monforte",
           "1861211",
           0
          ],
          [
           "Nisa",
           "1861212",
           79
          ],
          [
           "Ponte de Sor",
           "1861213",
           134
          ],
          [
           "Portalegre",
           "1861214",
           203.3
          ],
          [
           "Sousel",
           "1861215",
           109.3
          ],
          [
           "Alandroal",
           "1870701",
           0
          ],
          [
           "Arraiolos",
           "1870702",
           80
          ],
          [
           "Borba",
           "1870703",
           0
          ],
          [
           "Estremoz",
           "1870704",
           174.7
          ],
          [
           "Évora",
           "1870705",
           170.8
          ],
          [
           "Montemor-o-Novo",
           "1870706",
           106.3
          ],
          [
           "Mora",
           "1870707",
           69.5
          ],
          [
           "Mourão",
           "1870708",
           0
          ],
          [
           "Portel",
           "1870709",
           2.3
          ],
          [
           "Redondo",
           "1870710",
           86.6
          ],
          [
           "Reguengos de Monsaraz",
           "1870711",
           161.2
          ],
          [
           "Vendas Novas",
           "1870712",
           152.7
          ],
          [
           "Viana do Alentejo",
           "1870713",
           108.2
          ],
          [
           "Vila Viçosa",
           "1870714",
           209
          ],
          [
           "Albufeira",
           "1500801",
           124.2
          ],
          [
           "Alcoutim",
           "1500802",
           0
          ],
          [
           "Aljezur",
           "1500803",
           0
          ],
          [
           "Castro Marim",
           "1500804",
           0
          ],
          [
           "Faro",
           "1500805",
           153.1
          ],
          [
           "Lagoa",
           "1500806",
           70.2
          ],
          [
           "Lagos",
           "1500807",
           144.2
          ],
          [
           "Loulé",
           "1500808",
           129.1
          ],
          [
           "Monchique",
           "1500809",
           0
          ],
          [
           "Olhão",
           "1500810",
           94.5
          ],
          [
           "Portimão",
           "1500811",
           163
          ],
          [
           "São Brás de Alportel",
           "1500812",
           105.3
          ],
          [
           "Silves",
           "1500813",
           102.1
          ],
          [
           "Tavira",
           "1500814",
           113.2
          ],
          [
           "Vila do Bispo",
           "1500815",
           0
          ],
          [
           "Vila Real de Santo António",
           "1500816",
           147.7
          ],
          [
           "Angra do Heroísmo",
           "2004301",
           106.8
          ],
          [
           "Calheta",
           "2004501",
           77.6
          ],
          [
           "Corvo",
           "2004901",
           45.5
          ],
          [
           "Horta",
           "2004701",
           102.4
          ],
          [
           "Lagoa",
           "2004201",
           87.8
          ],
          [
           "Lajes das Flores",
           "2004801",
           1.9
          ],
          [
           "Lajes do Pico",
           "2004601",
           85.5
          ],
          [
           "Madalena",
           "2004602",
           109.3
          ],
          [
           "Nordeste",
           "2004202",
           85.8
          ],
          [
           "Ponta Delgada",
           "2004203",
           135.3
          ],
          [
           "Povoação",
           "2004204",
           100.5
          ],
          [
           "Ribeira Grande",
           "2004205",
           59.2
          ],
          [
           "Santa Cruz da Graciosa",
           "2004401",
           98.2
          ],
          [
           "Santa Cruz das Flores",
           "2004802",
           135.2
          ],
          [
           "São Roque do Pico",
           "2004603",
           81.4
          ],
          [
           "Velas",
           "2004502",
           160.1
          ],
          [
           "Vila da Praia da Vitória",
           "2004302",
           122.4
          ],
          [
           "Vila do Porto",
           "2004101",
           98.9
          ],
          [
           "Vila Franca do Campo",
           "2004206",
           109.5
          ],
          [
           "Calheta",
           "3003101",
           92.6
          ],
          [
           "Câmara de Lobos",
           "3003102",
           22
          ],
          [
           "Funchal",
           "3003103",
           234.3
          ],
          [
           "Machico",
           "3003104",
           101.2
          ],
          [
           "Ponta do Sol",
           "3003105",
           72
          ],
          [
           "Porto Moniz",
           "3003106",
           83.3
          ],
          [
           "Porto Santo",
           "3003201",
           108.1
          ],
          [
           "Ribeira Brava",
           "3003107",
           87.4
          ],
          [
           "Santa Cruz",
           "3003108",
           20.9
          ],
          [
           "Santana",
           "3003109",
           97.5
          ],
          [
           "São Vicente",
           "3003110",
           79.2
          ]
         ],
         "hovertemplate": "valor=%{x}<br>y=%{y}<br>local=%{customdata[0]}<br>codigo=%{customdata[1]}<br>HM=%{customdata[2]}<br>taxa_bruta_escolarizacao_ensino_secundario=%{marker.color}<extra></extra>",
         "legendgroup": "",
         "marker": {
          "color": {
           "bdata": "AQEBAgECAQECAQEBAgEAAQEBAQEBAQEBAQIBAQEBAQICAQICAQEBAQEAAgEBAQECAQIBAQEBAQECAQEBAQACAQICAAIBAAIBAQEBAAIBAgIBAgIBAAEBAQEBAQIBAQABAQIBAQICAQEAAQECAQIBAgEBAAEBAQEBAQIAAgABAQEBAgEAAQECAgIBAQECAQEBAQECAQIBAgICAQEBAQACAQECAAICAQICAQEBAQEBAgEBAQECAQEBAQICAQEBAgECAQEBAQEBAQEBAQEBAQEBAQIBAQIAAgEBAAIBAQIBAQEBAQEAAQECAgICAAABAAEBAAAAAAEBAgEAAQACAgEBAAABAgIBAgEAAAACAQIBAAECAQEBAAIBAQABAQABAQECAQEBAgECAQEBAQACAQEBAQEAAQE=",
           "dtype": "i1"
          },
          "coloraxis": "coloraxis",
          "size": 10,
          "symbol": "circle"
         },
         "mode": "markers",
         "name": "",
         "orientation": "v",
         "showlegend": false,
         "type": "scatter",
         "x": {
          "bdata": "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",
          "dtype": "f8"
         },
         "xaxis": "x",
         "y": {
          "bdata": "AAAAAAAAAAAAAAAAAAAAAAAAAAAAAAAAAAAAAAAAAAAAAAAAAAAAAAAAAAAAAAAAAAAAAAAAAAAAAAAAAAAAAAAAAAAAAAAAAAAAAAAAAAAAAAAAAAAAAAAAAAAAAAAAAAAAAAAAAAAAAAAAAAAAAAAAAAAAAAAAAAAAAAAAAAAAAAAAAAAAAAAAAAAAAAAAAAAAAAAAAAAAAAAAAAAAAAAAAAAAAAAAAAAAAAAAAAAAAAAAAAAAAAAAAAAAAAAAAAAAAAAAAAAAAAAAAAAAAAAAAAAAAAAAAAAAAAAAAAAAAAAAAAAAAAAAAAAAAAAAAAAAAAAAAAAAAAAAAAAAAAAAAAAAAAAAAAAAAAAAAAAAAAAAAAAAAAAAAAAAAAAAAAAAAAAAAAAAAAAAAAAAAAAAAAA=",
          "dtype": "i1"
         },
         "yaxis": "y"
        }
       ],
       "layout": {
        "coloraxis": {
         "colorbar": {
          "title": {
           "text": "taxa_bruta_escolarizacao_ensino_secundario"
          }
         },
         "colorscale": [
          [
           0,
           "#440154"
          ],
          [
           0.1111111111111111,
           "#482878"
          ],
          [
           0.2222222222222222,
           "#3e4989"
          ],
          [
           0.3333333333333333,
           "#31688e"
          ],
          [
           0.4444444444444444,
           "#26828e"
          ],
          [
           0.5555555555555556,
           "#1f9e89"
          ],
          [
           0.6666666666666666,
           "#35b779"
          ],
          [
           0.7777777777777778,
           "#6ece58"
          ],
          [
           0.8888888888888888,
           "#b5de2b"
          ],
          [
           1,
           "#fde725"
          ]
         ]
        },
        "height": 300,
        "legend": {
         "tracegroupgap": 0
        },
        "margin": {
         "t": 60
        },
        "template": {
         "data": {
          "bar": [
           {
            "error_x": {
             "color": "#2a3f5f"
            },
            "error_y": {
             "color": "#2a3f5f"
            },
            "marker": {
             "line": {
              "color": "#E5ECF6",
              "width": 0.5
             },
             "pattern": {
              "fillmode": "overlay",
              "size": 10,
              "solidity": 0.2
             }
            },
            "type": "bar"
           }
          ],
          "barpolar": [
           {
            "marker": {
             "line": {
              "color": "#E5ECF6",
              "width": 0.5
             },
             "pattern": {
              "fillmode": "overlay",
              "size": 10,
              "solidity": 0.2
             }
            },
            "type": "barpolar"
           }
          ],
          "carpet": [
           {
            "aaxis": {
             "endlinecolor": "#2a3f5f",
             "gridcolor": "white",
             "linecolor": "white",
             "minorgridcolor": "white",
             "startlinecolor": "#2a3f5f"
            },
            "baxis": {
             "endlinecolor": "#2a3f5f",
             "gridcolor": "white",
             "linecolor": "white",
             "minorgridcolor": "white",
             "startlinecolor": "#2a3f5f"
            },
            "type": "carpet"
           }
          ],
          "choropleth": [
           {
            "colorbar": {
             "outlinewidth": 0,
             "ticks": ""
            },
            "type": "choropleth"
           }
          ],
          "contour": [
           {
            "colorbar": {
             "outlinewidth": 0,
             "ticks": ""
            },
            "colorscale": [
             [
              0,
              "#0d0887"
             ],
             [
              0.1111111111111111,
              "#46039f"
             ],
             [
              0.2222222222222222,
              "#7201a8"
             ],
             [
              0.3333333333333333,
              "#9c179e"
             ],
             [
              0.4444444444444444,
              "#bd3786"
             ],
             [
              0.5555555555555556,
              "#d8576b"
             ],
             [
              0.6666666666666666,
              "#ed7953"
             ],
             [
              0.7777777777777778,
              "#fb9f3a"
             ],
             [
              0.8888888888888888,
              "#fdca26"
             ],
             [
              1,
              "#f0f921"
             ]
            ],
            "type": "contour"
           }
          ],
          "contourcarpet": [
           {
            "colorbar": {
             "outlinewidth": 0,
             "ticks": ""
            },
            "type": "contourcarpet"
           }
          ],
          "heatmap": [
           {
            "colorbar": {
             "outlinewidth": 0,
             "ticks": ""
            },
            "colorscale": [
             [
              0,
              "#0d0887"
             ],
             [
              0.1111111111111111,
              "#46039f"
             ],
             [
              0.2222222222222222,
              "#7201a8"
             ],
             [
              0.3333333333333333,
              "#9c179e"
             ],
             [
              0.4444444444444444,
              "#bd3786"
             ],
             [
              0.5555555555555556,
              "#d8576b"
             ],
             [
              0.6666666666666666,
              "#ed7953"
             ],
             [
              0.7777777777777778,
              "#fb9f3a"
             ],
             [
              0.8888888888888888,
              "#fdca26"
             ],
             [
              1,
              "#f0f921"
             ]
            ],
            "type": "heatmap"
           }
          ],
          "histogram": [
           {
            "marker": {
             "pattern": {
              "fillmode": "overlay",
              "size": 10,
              "solidity": 0.2
             }
            },
            "type": "histogram"
           }
          ],
          "histogram2d": [
           {
            "colorbar": {
             "outlinewidth": 0,
             "ticks": ""
            },
            "colorscale": [
             [
              0,
              "#0d0887"
             ],
             [
              0.1111111111111111,
              "#46039f"
             ],
             [
              0.2222222222222222,
              "#7201a8"
             ],
             [
              0.3333333333333333,
              "#9c179e"
             ],
             [
              0.4444444444444444,
              "#bd3786"
             ],
             [
              0.5555555555555556,
              "#d8576b"
             ],
             [
              0.6666666666666666,
              "#ed7953"
             ],
             [
              0.7777777777777778,
              "#fb9f3a"
             ],
             [
              0.8888888888888888,
              "#fdca26"
             ],
             [
              1,
              "#f0f921"
             ]
            ],
            "type": "histogram2d"
           }
          ],
          "histogram2dcontour": [
           {
            "colorbar": {
             "outlinewidth": 0,
             "ticks": ""
            },
            "colorscale": [
             [
              0,
              "#0d0887"
             ],
             [
              0.1111111111111111,
              "#46039f"
             ],
             [
              0.2222222222222222,
              "#7201a8"
             ],
             [
              0.3333333333333333,
              "#9c179e"
             ],
             [
              0.4444444444444444,
              "#bd3786"
             ],
             [
              0.5555555555555556,
              "#d8576b"
             ],
             [
              0.6666666666666666,
              "#ed7953"
             ],
             [
              0.7777777777777778,
              "#fb9f3a"
             ],
             [
              0.8888888888888888,
              "#fdca26"
             ],
             [
              1,
              "#f0f921"
             ]
            ],
            "type": "histogram2dcontour"
           }
          ],
          "mesh3d": [
           {
            "colorbar": {
             "outlinewidth": 0,
             "ticks": ""
            },
            "type": "mesh3d"
           }
          ],
          "parcoords": [
           {
            "line": {
             "colorbar": {
              "outlinewidth": 0,
              "ticks": ""
             }
            },
            "type": "parcoords"
           }
          ],
          "pie": [
           {
            "automargin": true,
            "type": "pie"
           }
          ],
          "scatter": [
           {
            "fillpattern": {
             "fillmode": "overlay",
             "size": 10,
             "solidity": 0.2
            },
            "type": "scatter"
           }
          ],
          "scatter3d": [
           {
            "line": {
             "colorbar": {
              "outlinewidth": 0,
              "ticks": ""
             }
            },
            "marker": {
             "colorbar": {
              "outlinewidth": 0,
              "ticks": ""
             }
            },
            "type": "scatter3d"
           }
          ],
          "scattercarpet": [
           {
            "marker": {
             "colorbar": {
              "outlinewidth": 0,
              "ticks": ""
             }
            },
            "type": "scattercarpet"
           }
          ],
          "scattergeo": [
           {
            "marker": {
             "colorbar": {
              "outlinewidth": 0,
              "ticks": ""
             }
            },
            "type": "scattergeo"
           }
          ],
          "scattergl": [
           {
            "marker": {
             "colorbar": {
              "outlinewidth": 0,
              "ticks": ""
             }
            },
            "type": "scattergl"
           }
          ],
          "scattermap": [
           {
            "marker": {
             "colorbar": {
              "outlinewidth": 0,
              "ticks": ""
             }
            },
            "type": "scattermap"
           }
          ],
          "scattermapbox": [
           {
            "marker": {
             "colorbar": {
              "outlinewidth": 0,
              "ticks": ""
             }
            },
            "type": "scattermapbox"
           }
          ],
          "scatterpolar": [
           {
            "marker": {
             "colorbar": {
              "outlinewidth": 0,
              "ticks": ""
             }
            },
            "type": "scatterpolar"
           }
          ],
          "scatterpolargl": [
           {
            "marker": {
             "colorbar": {
              "outlinewidth": 0,
              "ticks": ""
             }
            },
            "type": "scatterpolargl"
           }
          ],
          "scatterternary": [
           {
            "marker": {
             "colorbar": {
              "outlinewidth": 0,
              "ticks": ""
             }
            },
            "type": "scatterternary"
           }
          ],
          "surface": [
           {
            "colorbar": {
             "outlinewidth": 0,
             "ticks": ""
            },
            "colorscale": [
             [
              0,
              "#0d0887"
             ],
             [
              0.1111111111111111,
              "#46039f"
             ],
             [
              0.2222222222222222,
              "#7201a8"
             ],
             [
              0.3333333333333333,
              "#9c179e"
             ],
             [
              0.4444444444444444,
              "#bd3786"
             ],
             [
              0.5555555555555556,
              "#d8576b"
             ],
             [
              0.6666666666666666,
              "#ed7953"
             ],
             [
              0.7777777777777778,
              "#fb9f3a"
             ],
             [
              0.8888888888888888,
              "#fdca26"
             ],
             [
              1,
              "#f0f921"
             ]
            ],
            "type": "surface"
           }
          ],
          "table": [
           {
            "cells": {
             "fill": {
              "color": "#EBF0F8"
             },
             "line": {
              "color": "white"
             }
            },
            "header": {
             "fill": {
              "color": "#C8D4E3"
             },
             "line": {
              "color": "white"
             }
            },
            "type": "table"
           }
          ]
         },
         "layout": {
          "annotationdefaults": {
           "arrowcolor": "#2a3f5f",
           "arrowhead": 0,
           "arrowwidth": 1
          },
          "autotypenumbers": "strict",
          "coloraxis": {
           "colorbar": {
            "outlinewidth": 0,
            "ticks": ""
           }
          },
          "colorscale": {
           "diverging": [
            [
             0,
             "#8e0152"
            ],
            [
             0.1,
             "#c51b7d"
            ],
            [
             0.2,
             "#de77ae"
            ],
            [
             0.3,
             "#f1b6da"
            ],
            [
             0.4,
             "#fde0ef"
            ],
            [
             0.5,
             "#f7f7f7"
            ],
            [
             0.6,
             "#e6f5d0"
            ],
            [
             0.7,
             "#b8e186"
            ],
            [
             0.8,
             "#7fbc41"
            ],
            [
             0.9,
             "#4d9221"
            ],
            [
             1,
             "#276419"
            ]
           ],
           "sequential": [
            [
             0,
             "#0d0887"
            ],
            [
             0.1111111111111111,
             "#46039f"
            ],
            [
             0.2222222222222222,
             "#7201a8"
            ],
            [
             0.3333333333333333,
             "#9c179e"
            ],
            [
             0.4444444444444444,
             "#bd3786"
            ],
            [
             0.5555555555555556,
             "#d8576b"
            ],
            [
             0.6666666666666666,
             "#ed7953"
            ],
            [
             0.7777777777777778,
             "#fb9f3a"
            ],
            [
             0.8888888888888888,
             "#fdca26"
            ],
            [
             1,
             "#f0f921"
            ]
           ],
           "sequentialminus": [
            [
             0,
             "#0d0887"
            ],
            [
             0.1111111111111111,
             "#46039f"
            ],
            [
             0.2222222222222222,
             "#7201a8"
            ],
            [
             0.3333333333333333,
             "#9c179e"
            ],
            [
             0.4444444444444444,
             "#bd3786"
            ],
            [
             0.5555555555555556,
             "#d8576b"
            ],
            [
             0.6666666666666666,
             "#ed7953"
            ],
            [
             0.7777777777777778,
             "#fb9f3a"
            ],
            [
             0.8888888888888888,
             "#fdca26"
            ],
            [
             1,
             "#f0f921"
            ]
           ]
          },
          "colorway": [
           "#636efa",
           "#EF553B",
           "#00cc96",
           "#ab63fa",
           "#FFA15A",
           "#19d3f3",
           "#FF6692",
           "#B6E880",
           "#FF97FF",
           "#FECB52"
          ],
          "font": {
           "color": "#2a3f5f"
          },
          "geo": {
           "bgcolor": "white",
           "lakecolor": "white",
           "landcolor": "#E5ECF6",
           "showlakes": true,
           "showland": true,
           "subunitcolor": "white"
          },
          "hoverlabel": {
           "align": "left"
          },
          "hovermode": "closest",
          "mapbox": {
           "style": "light"
          },
          "paper_bgcolor": "white",
          "plot_bgcolor": "#E5ECF6",
          "polar": {
           "angularaxis": {
            "gridcolor": "white",
            "linecolor": "white",
            "ticks": ""
           },
           "bgcolor": "#E5ECF6",
           "radialaxis": {
            "gridcolor": "white",
            "linecolor": "white",
            "ticks": ""
           }
          },
          "scene": {
           "xaxis": {
            "backgroundcolor": "#E5ECF6",
            "gridcolor": "white",
            "gridwidth": 2,
            "linecolor": "white",
            "showbackground": true,
            "ticks": "",
            "zerolinecolor": "white"
           },
           "yaxis": {
            "backgroundcolor": "#E5ECF6",
            "gridcolor": "white",
            "gridwidth": 2,
            "linecolor": "white",
            "showbackground": true,
            "ticks": "",
            "zerolinecolor": "white"
           },
           "zaxis": {
            "backgroundcolor": "#E5ECF6",
            "gridcolor": "white",
            "gridwidth": 2,
            "linecolor": "white",
            "showbackground": true,
            "ticks": "",
            "zerolinecolor": "white"
           }
          },
          "shapedefaults": {
           "line": {
            "color": "#2a3f5f"
           }
          },
          "ternary": {
           "aaxis": {
            "gridcolor": "white",
            "linecolor": "white",
            "ticks": ""
           },
           "baxis": {
            "gridcolor": "white",
            "linecolor": "white",
            "ticks": ""
           },
           "bgcolor": "#E5ECF6",
           "caxis": {
            "gridcolor": "white",
            "linecolor": "white",
            "ticks": ""
           }
          },
          "title": {
           "x": 0.05
          },
          "xaxis": {
           "automargin": true,
           "gridcolor": "white",
           "linecolor": "white",
           "ticks": "",
           "title": {
            "standoff": 15
           },
           "zerolinecolor": "white",
           "zerolinewidth": 2
          },
          "yaxis": {
           "automargin": true,
           "gridcolor": "white",
           "linecolor": "white",
           "ticks": "",
           "title": {
            "standoff": 15
           },
           "zerolinecolor": "white",
           "zerolinewidth": 2
          }
         }
        },
        "xaxis": {
         "anchor": "y",
         "domain": [
          0,
          1
         ],
         "title": {
          "text": "HM"
         }
        },
        "yaxis": {
         "anchor": "x",
         "domain": [
          0,
          1
         ],
         "showgrid": false,
         "showticklabels": false,
         "title": {
          "text": "y"
         }
        }
       }
      }
     },
     "metadata": {},
     "output_type": "display_data"
    },
    {
     "name": "stdout",
     "output_type": "stream",
     "text": [
      "taxa_bruta_escolarizacao_ensino_secundario\n",
      "0     38\n",
      "1    193\n",
      "2     77\n",
      "Name: count, dtype: int64\n",
      "File saved to csv_files/1_Taxa bruta de escolarização no ensino secundário.csv\n"
     ]
    }
   ],
   "source": [
    "clustered_df = aplicar_kmeans(only_municipalities_df,3,nome_cluster='taxa_bruta_escolarizacao_ensino_secundario')\n",
    "save_clustered_df_to_csv(clustered_df,\"csv_files/\", \"1_Taxa bruta de escolarização no ensino secundário.csv\")"
   ]
  },
  {
   "cell_type": "markdown",
   "id": "fef6e067",
   "metadata": {},
   "source": [
    "### Taxa de retenção e desistência no ensino básico"
   ]
  },
  {
   "cell_type": "code",
   "execution_count": 13,
   "id": "8e7b3a63",
   "metadata": {},
   "outputs": [
    {
     "data": {
      "text/html": [
       "<div>\n",
       "<style scoped>\n",
       "    .dataframe tbody tr th:only-of-type {\n",
       "        vertical-align: middle;\n",
       "    }\n",
       "\n",
       "    .dataframe tbody tr th {\n",
       "        vertical-align: top;\n",
       "    }\n",
       "\n",
       "    .dataframe thead th {\n",
       "        text-align: right;\n",
       "    }\n",
       "</style>\n",
       "<table border=\"1\" class=\"dataframe\">\n",
       "  <thead>\n",
       "    <tr style=\"text-align: right;\">\n",
       "      <th></th>\n",
       "      <th>local</th>\n",
       "      <th>codigo</th>\n",
       "      <th>Ensino básico</th>\n",
       "      <th>1.º Ciclo</th>\n",
       "      <th>2.º Ciclo</th>\n",
       "      <th>3.º Ciclo</th>\n",
       "    </tr>\n",
       "  </thead>\n",
       "  <tbody>\n",
       "    <tr>\n",
       "      <th>4</th>\n",
       "      <td>Arcos de Valdevez</td>\n",
       "      <td>1111601</td>\n",
       "      <td>0.3</td>\n",
       "      <td>0.2</td>\n",
       "      <td>0.0</td>\n",
       "      <td>0.6</td>\n",
       "    </tr>\n",
       "    <tr>\n",
       "      <th>5</th>\n",
       "      <td>Caminha</td>\n",
       "      <td>1111602</td>\n",
       "      <td>1.2</td>\n",
       "      <td>1.2</td>\n",
       "      <td>0.4</td>\n",
       "      <td>1.6</td>\n",
       "    </tr>\n",
       "    <tr>\n",
       "      <th>6</th>\n",
       "      <td>Melgaço</td>\n",
       "      <td>1111603</td>\n",
       "      <td>1.1</td>\n",
       "      <td>1.2</td>\n",
       "      <td>0.0</td>\n",
       "      <td>1.8</td>\n",
       "    </tr>\n",
       "    <tr>\n",
       "      <th>7</th>\n",
       "      <td>Monção</td>\n",
       "      <td>1111604</td>\n",
       "      <td>0.7</td>\n",
       "      <td>1.0</td>\n",
       "      <td>1.0</td>\n",
       "      <td>0.2</td>\n",
       "    </tr>\n",
       "    <tr>\n",
       "      <th>8</th>\n",
       "      <td>Paredes de Coura</td>\n",
       "      <td>1111605</td>\n",
       "      <td>1.8</td>\n",
       "      <td>1.7</td>\n",
       "      <td>1.5</td>\n",
       "      <td>2.2</td>\n",
       "    </tr>\n",
       "    <tr>\n",
       "      <th>...</th>\n",
       "      <td>...</td>\n",
       "      <td>...</td>\n",
       "      <td>...</td>\n",
       "      <td>...</td>\n",
       "      <td>...</td>\n",
       "      <td>...</td>\n",
       "    </tr>\n",
       "    <tr>\n",
       "      <th>344</th>\n",
       "      <td>Porto Santo</td>\n",
       "      <td>3003201</td>\n",
       "      <td>4.0</td>\n",
       "      <td>0.6</td>\n",
       "      <td>2.0</td>\n",
       "      <td>9.0</td>\n",
       "    </tr>\n",
       "    <tr>\n",
       "      <th>345</th>\n",
       "      <td>Ribeira Brava</td>\n",
       "      <td>3003107</td>\n",
       "      <td>4.3</td>\n",
       "      <td>3.4</td>\n",
       "      <td>1.2</td>\n",
       "      <td>6.9</td>\n",
       "    </tr>\n",
       "    <tr>\n",
       "      <th>346</th>\n",
       "      <td>Santa Cruz</td>\n",
       "      <td>3003108</td>\n",
       "      <td>3.3</td>\n",
       "      <td>1.9</td>\n",
       "      <td>4.2</td>\n",
       "      <td>4.2</td>\n",
       "    </tr>\n",
       "    <tr>\n",
       "      <th>347</th>\n",
       "      <td>Santana</td>\n",
       "      <td>3003109</td>\n",
       "      <td>4.4</td>\n",
       "      <td>4.0</td>\n",
       "      <td>0.0</td>\n",
       "      <td>8.1</td>\n",
       "    </tr>\n",
       "    <tr>\n",
       "      <th>348</th>\n",
       "      <td>São Vicente</td>\n",
       "      <td>3003110</td>\n",
       "      <td>1.7</td>\n",
       "      <td>0.8</td>\n",
       "      <td>1.2</td>\n",
       "      <td>2.8</td>\n",
       "    </tr>\n",
       "  </tbody>\n",
       "</table>\n",
       "<p>308 rows × 6 columns</p>\n",
       "</div>"
      ],
      "text/plain": [
       "                 local   codigo  Ensino básico  1.º Ciclo  2.º Ciclo  \\\n",
       "4    Arcos de Valdevez  1111601            0.3        0.2        0.0   \n",
       "5              Caminha  1111602            1.2        1.2        0.4   \n",
       "6              Melgaço  1111603            1.1        1.2        0.0   \n",
       "7               Monção  1111604            0.7        1.0        1.0   \n",
       "8     Paredes de Coura  1111605            1.8        1.7        1.5   \n",
       "..                 ...      ...            ...        ...        ...   \n",
       "344        Porto Santo  3003201            4.0        0.6        2.0   \n",
       "345      Ribeira Brava  3003107            4.3        3.4        1.2   \n",
       "346         Santa Cruz  3003108            3.3        1.9        4.2   \n",
       "347            Santana  3003109            4.4        4.0        0.0   \n",
       "348        São Vicente  3003110            1.7        0.8        1.2   \n",
       "\n",
       "     3.º Ciclo  \n",
       "4          0.6  \n",
       "5          1.6  \n",
       "6          1.8  \n",
       "7          0.2  \n",
       "8          2.2  \n",
       "..         ...  \n",
       "344        9.0  \n",
       "345        6.9  \n",
       "346        4.2  \n",
       "347        8.1  \n",
       "348        2.8  \n",
       "\n",
       "[308 rows x 6 columns]"
      ]
     },
     "execution_count": 13,
     "metadata": {},
     "output_type": "execute_result"
    }
   ],
   "source": [
    "original_df = processar_ficheiro(data_path+'Taxa de retenção e desistência no ensino básico.xls',4,padding_left=0)\n",
    "only_municipalities_df = carregar_municipios(original_df)\n",
    "only_municipalities_df"
   ]
  },
  {
   "cell_type": "code",
   "execution_count": 14,
   "id": "3a213113",
   "metadata": {},
   "outputs": [
    {
     "data": {
      "application/vnd.plotly.v1+json": {
       "config": {
        "plotlyServerURL": "https://plot.ly"
       },
       "data": [
        {
         "customdata": [
          [
           "Arcos de Valdevez",
           "1111601",
           0.3
          ],
          [
           "Caminha",
           "1111602",
           1.2
          ],
          [
           "Melgaço",
           "1111603",
           1.1
          ],
          [
           "Monção",
           "1111604",
           0.7
          ],
          [
           "Paredes de Coura",
           "1111605",
           1.8
          ],
          [
           "Ponte da Barca",
           "1111606",
           0.4
          ],
          [
           "Ponte de Lima",
           "1111607",
           0
          ],
          [
           "Valença",
           "1111608",
           3.2
          ],
          [
           "Viana do Castelo",
           "1111609",
           1.3
          ],
          [
           "Vila Nova de Cerveira",
           "1111610",
           1.4
          ],
          [
           "Amares",
           "1120301",
           1.9
          ],
          [
           "Barcelos",
           "1120302",
           0.6
          ],
          [
           "Braga",
           "1120303",
           1.1
          ],
          [
           "Esposende",
           "1120306",
           0.8
          ],
          [
           "Terras de Bouro",
           "1120310",
           2.6
          ],
          [
           "Vila Verde",
           "1120313",
           1.7
          ],
          [
           "Fafe",
           "1130307",
           0.3
          ],
          [
           "Guimarães",
           "1130308",
           0.7
          ],
          [
           "Póvoa de Lanhoso",
           "1130309",
           0.8
          ],
          [
           "Santo Tirso",
           "1131314",
           1.6
          ],
          [
           "Trofa",
           "1131318",
           2.4
          ],
          [
           "Vieira do Minho",
           "1130311",
           1.8
          ],
          [
           "Vila Nova de Famalicão",
           "1130312",
           1.5
          ],
          [
           "Vizela",
           "1130314",
           1.2
          ],
          [
           "Espinho",
           "1140107",
           1.9
          ],
          [
           "Gondomar",
           "1141304",
           2.4
          ],
          [
           "Maia",
           "1141306",
           2
          ],
          [
           "Matosinhos",
           "1141308",
           2.4
          ],
          [
           "Porto",
           "1141312",
           2.8
          ],
          [
           "Póvoa de Varzim",
           "1141313",
           2
          ],
          [
           "Valongo",
           "1141315",
           2.3
          ],
          [
           "Vila do Conde",
           "1141316",
           1.9
          ],
          [
           "Vila Nova de Gaia",
           "1141317",
           2.6
          ],
          [
           "Amarante",
           "1151301",
           1
          ],
          [
           "Baião",
           "1151302",
           1
          ],
          [
           "Cabeceiras de Basto",
           "1150304",
           1.4
          ],
          [
           "Castelo de Paiva",
           "1150106",
           1.9
          ],
          [
           "Celorico de Basto",
           "1150305",
           0.3
          ],
          [
           "Cinfães",
           "1151804",
           2.3
          ],
          [
           "Felgueiras",
           "1151303",
           0.9
          ],
          [
           "Lousada",
           "1151305",
           1.5
          ],
          [
           "Marco de Canaveses",
           "1151307",
           1
          ],
          [
           "Mondim de Basto",
           "1151705",
           0.4
          ],
          [
           "Paços de Ferreira",
           "1151309",
           1.5
          ],
          [
           "Paredes",
           "1151310",
           1
          ],
          [
           "Penafiel",
           "1151311",
           1.2
          ],
          [
           "Resende",
           "1151813",
           2
          ],
          [
           "Ribeira de Pena",
           "1151709",
           2.4
          ],
          [
           "Arouca",
           "1160104",
           0.9
          ],
          [
           "Oliveira de Azeméis",
           "1160113",
           1.1
          ],
          [
           "Santa Maria da Feira",
           "1160109",
           1.3
          ],
          [
           "São João da Madeira",
           "1160116",
           0.9
          ],
          [
           "Vale de Cambra",
           "1160119",
           2.4
          ],
          [
           "Alijó",
           "1171701",
           2.3
          ],
          [
           "Armamar",
           "1171801",
           0.8
          ],
          [
           "Carrazeda de Ansiães",
           "1170403",
           1.2
          ],
          [
           "Freixo de Espada à Cinta",
           "1170404",
           5.9
          ],
          [
           "Lamego",
           "1171805",
           1.1
          ],
          [
           "Mesão Frio",
           "1171704",
           0
          ],
          [
           "Moimenta da Beira",
           "1171807",
           2
          ],
          [
           "Penedono",
           "1171812",
           2.4
          ],
          [
           "Peso da Régua",
           "1171708",
           3.9
          ],
          [
           "Sabrosa",
           "1171710",
           0.3
          ],
          [
           "Santa Marta de Penaguião",
           "1171711",
           0.7
          ],
          [
           "São João da Pesqueira",
           "1171815",
           6.1
          ],
          [
           "Sernancelhe",
           "1171818",
           0.3
          ],
          [
           "Tabuaço",
           "1171819",
           1.4
          ],
          [
           "Tarouca",
           "1171820",
           2.1
          ],
          [
           "Torre de Moncorvo",
           "1170409",
           5.8
          ],
          [
           "Vila Flor",
           "1170410",
           3.7
          ],
          [
           "Vila Nova de Foz Côa",
           "1170914",
           3.8
          ],
          [
           "Vila Real",
           "1171714",
           1.2
          ],
          [
           "Alfândega da Fé",
           "1180401",
           2.5
          ],
          [
           "Boticas",
           "1181702",
           1.1
          ],
          [
           "Bragança",
           "1180402",
           2.7
          ],
          [
           "Chaves",
           "1181703",
           2.1
          ],
          [
           "Macedo de Cavaleiros",
           "1180405",
           5.2
          ],
          [
           "Miranda do Douro",
           "1180406",
           1.1
          ],
          [
           "Mirandela",
           "1180407",
           2.8
          ],
          [
           "Mogadouro",
           "1180408",
           4.5
          ],
          [
           "Montalegre",
           "1181706",
           3
          ],
          [
           "Murça",
           "1181707",
           0.6
          ],
          [
           "Valpaços",
           "1181712",
           5.7
          ],
          [
           "Vila Pouca de Aguiar",
           "1181713",
           0.6
          ],
          [
           "Vimioso",
           "1180411",
           2.3
          ],
          [
           "Vinhais",
           "1180412",
           4.4
          ],
          [
           "Águeda",
           "1610101",
           1.6
          ],
          [
           "Albergaria-a-Velha",
           "1610102",
           1.6
          ],
          [
           "Anadia",
           "1610103",
           2.6
          ],
          [
           "Aveiro",
           "1610105",
           1.7
          ],
          [
           "Estarreja",
           "1610108",
           2.2
          ],
          [
           "Ílhavo",
           "1610110",
           2.9
          ],
          [
           "Mealhada",
           "1610111",
           2.3
          ],
          [
           "Murtosa",
           "1610112",
           5.3
          ],
          [
           "Oliveira do Bairro",
           "1610114",
           1.4
          ],
          [
           "Ovar",
           "1610115",
           3.4
          ],
          [
           "Sever do Vouga",
           "1610117",
           0.7
          ],
          [
           "Vagos",
           "1610118",
           2.3
          ],
          [
           "Cantanhede",
           "1620602",
           2.8
          ],
          [
           "Coimbra",
           "1620603",
           1.9
          ],
          [
           "Condeixa-a-Nova",
           "1620604",
           1.9
          ],
          [
           "Figueira da Foz",
           "1620605",
           1.5
          ],
          [
           "Mira",
           "1620608",
           2.5
          ],
          [
           "Montemor-o-Velho",
           "1620610",
           2
          ],
          [
           "Penacova",
           "1620613",
           1.9
          ],
          [
           "Soure",
           "1620615",
           0.7
          ],
          [
           "Batalha",
           "1631004",
           1.5
          ],
          [
           "Leiria",
           "1631009",
           2.3
          ],
          [
           "Marinha Grande",
           "1631010",
           1.7
          ],
          [
           "Pombal",
           "1631015",
           1.8
          ],
          [
           "Porto de Mós",
           "1631016",
           1.4
          ],
          [
           "Alvaiázere",
           "1641002",
           0.8
          ],
          [
           "Ansião",
           "1641003",
           0.9
          ],
          [
           "Arganil",
           "1640601",
           2.5
          ],
          [
           "Castanheira de Pêra",
           "1641007",
           1.9
          ],
          [
           "Figueiró dos Vinhos",
           "1641008",
           2
          ],
          [
           "Góis",
           "1640606",
           2.8
          ],
          [
           "Lousã",
           "1640607",
           3.3
          ],
          [
           "Miranda do Corvo",
           "1640609",
           1.7
          ],
          [
           "Oliveira do Hospital",
           "1640611",
           2.8
          ],
          [
           "Pampilhosa da Serra",
           "1640612",
           0.5
          ],
          [
           "Pedrógão Grande",
           "1641013",
           0.5
          ],
          [
           "Penela",
           "1640614",
           0.7
          ],
          [
           "Tábua",
           "1640616",
           3.2
          ],
          [
           "Vila Nova de Poiares",
           "1640617",
           0.6
          ],
          [
           "Aguiar da Beira",
           "1650901",
           3
          ],
          [
           "Carregal do Sal",
           "1651802",
           3.7
          ],
          [
           "Castro Daire",
           "1651803",
           1
          ],
          [
           "Mangualde",
           "1651806",
           2.9
          ],
          [
           "Mortágua",
           "1651808",
           0.3
          ],
          [
           "Nelas",
           "1651809",
           1.8
          ],
          [
           "Oliveira de Frades",
           "1651810",
           2.4
          ],
          [
           "Penalva do Castelo",
           "1651811",
           1
          ],
          [
           "Santa Comba Dão",
           "1651814",
           0.7
          ],
          [
           "São Pedro do Sul",
           "1651816",
           0.3
          ],
          [
           "Sátão",
           "1651817",
           1.7
          ],
          [
           "Tondela",
           "1651821",
           2.2
          ],
          [
           "Vila Nova de Paiva",
           "1651822",
           5
          ],
          [
           "Viseu",
           "1651823",
           2.1
          ],
          [
           "Vouzela",
           "1651824",
           1.9
          ],
          [
           "Mação",
           "1661413",
           2.6
          ],
          [
           "Oleiros",
           "1660506",
           4.3
          ],
          [
           "Proença-a-Nova",
           "1660508",
           1.9
          ],
          [
           "Sertã",
           "1660509",
           1.3
          ],
          [
           "Vila de Rei",
           "1660510",
           1
          ],
          [
           "Fornos de Algodres",
           "1670905",
           3.7
          ],
          [
           "Gouveia",
           "1670906",
           2.4
          ],
          [
           "Seia",
           "1670912",
           1.2
          ],
          [
           "Almeida",
           "1680902",
           1.5
          ],
          [
           "Celorico da Beira",
           "1680903",
           1.9
          ],
          [
           "Figueira de Castelo Rodrigo",
           "1680904",
           15
          ],
          [
           "Guarda",
           "1680907",
           4.8
          ],
          [
           "Manteigas",
           "1680908",
           1.4
          ],
          [
           "Mêda",
           "1680909",
           1.5
          ],
          [
           "Pinhel",
           "1680910",
           0.9
          ],
          [
           "Sabugal",
           "1680911",
           5.4
          ],
          [
           "Trancoso",
           "1680913",
           0.4
          ],
          [
           "Castelo Branco",
           "1690502",
           3.4
          ],
          [
           "Idanha-a-Nova",
           "1690505",
           9.6
          ],
          [
           "Penamacor",
           "1690507",
           3
          ],
          [
           "Vila Velha de Ródão",
           "1690511",
           7.7
          ],
          [
           "Belmonte",
           "16A0501",
           1.8
          ],
          [
           "Covilhã",
           "16A0503",
           2.9
          ],
          [
           "Fundão",
           "16A0504",
           4.5
          ],
          [
           "Alcobaça",
           "16B1001",
           2.9
          ],
          [
           "Alenquer",
           "16B1101",
           4.8
          ],
          [
           "Arruda dos Vinhos",
           "16B1102",
           3.4
          ],
          [
           "Bombarral",
           "16B1005",
           3.1
          ],
          [
           "Cadaval",
           "16B1104",
           3.2
          ],
          [
           "Caldas da Rainha",
           "16B1006",
           3.3
          ],
          [
           "Lourinhã",
           "16B1108",
           5.9
          ],
          [
           "Nazaré",
           "16B1011",
           0.6
          ],
          [
           "Óbidos",
           "16B1012",
           3.8
          ],
          [
           "Peniche",
           "16B1014",
           4.3
          ],
          [
           "Sobral de Monte Agraço",
           "16B1112",
           5.4
          ],
          [
           "Torres Vedras",
           "16B1113",
           3.1
          ],
          [
           "Abrantes",
           "16C1401",
           4.8
          ],
          [
           "Alcanena",
           "16C1402",
           0.2
          ],
          [
           "Constância",
           "16C1408",
           1.3
          ],
          [
           "Entroncamento",
           "16C1410",
           5.3
          ],
          [
           "Ferreira do Zêzere",
           "16C1411",
           2
          ],
          [
           "Ourém",
           "16C1421",
           1.6
          ],
          [
           "Sardoal",
           "16C1417",
           3.7
          ],
          [
           "Tomar",
           "16C1418",
           2.8
          ],
          [
           "Torres Novas",
           "16C1419",
           2.1
          ],
          [
           "Vila Nova da Barquinha",
           "16C1420",
           1.1
          ],
          [
           "Amadora",
           "1711115",
           7.1
          ],
          [
           "Cascais",
           "1711105",
           1.9
          ],
          [
           "Lisboa",
           "1711106",
           4.2
          ],
          [
           "Loures",
           "1711107",
           5.7
          ],
          [
           "Mafra",
           "1711109",
           3.4
          ],
          [
           "Odivelas",
           "1711116",
           4.4
          ],
          [
           "Oeiras",
           "1711110",
           2.4
          ],
          [
           "Sintra",
           "1711111",
           4.4
          ],
          [
           "Vila Franca de Xira",
           "1711114",
           3.6
          ],
          [
           "Alcochete",
           "1721502",
           0.5
          ],
          [
           "Almada",
           "1721503",
           4.6
          ],
          [
           "Barreiro",
           "1721504",
           3.7
          ],
          [
           "Moita",
           "1721506",
           5.3
          ],
          [
           "Montijo",
           "1721507",
           3.4
          ],
          [
           "Palmela",
           "1721508",
           2.8
          ],
          [
           "Seixal",
           "1721510",
           5
          ],
          [
           "Sesimbra",
           "1721511",
           2.2
          ],
          [
           "Setúbal",
           "1721512",
           5.8
          ],
          [
           "Alcácer do Sal",
           "1811501",
           2.8
          ],
          [
           "Grândola",
           "1811505",
           5.7
          ],
          [
           "Odemira",
           "1810211",
           6.2
          ],
          [
           "Santiago do Cacém",
           "1811509",
           4.1
          ],
          [
           "Sines",
           "1811513",
           3
          ],
          [
           "Alter do Chão",
           "1821201",
           8.5
          ],
          [
           "Arronches",
           "1821202",
           0.5
          ],
          [
           "Avis",
           "1821203",
           10.2
          ],
          [
           "Campo Maior",
           "1821204",
           5.7
          ],
          [
           "Castelo de Vide",
           "1821205",
           0
          ],
          [
           "Crato",
           "1821206",
           3.4
          ],
          [
           "Elvas",
           "1821207",
           5.5
          ],
          [
           "Fronteira",
           "1821208",
           2.8
          ],
          [
           "Gavião",
           "1821209",
           0
          ],
          [
           "Marvão",
           "1821210",
           0.7
          ],
          [
           "Monforte",
           "1821211",
           2.5
          ],
          [
           "Mora",
           "1820707",
           1.7
          ],
          [
           "Nisa",
           "1821212",
           2.4
          ],
          [
           "Ponte de Sor",
           "1821213",
           5.4
          ],
          [
           "Portalegre",
           "1821214",
           1.7
          ],
          [
           "Alandroal",
           "1830701",
           2.8
          ],
          [
           "Arraiolos",
           "1830702",
           4.2
          ],
          [
           "Borba",
           "1830703",
           4.7
          ],
          [
           "Estremoz",
           "1830704",
           4.4
          ],
          [
           "Évora",
           "1830705",
           1.6
          ],
          [
           "Montemor-o-Novo",
           "1830706",
           5.1
          ],
          [
           "Mourão",
           "1830708",
           14.5
          ],
          [
           "Portel",
           "1830709",
           2.5
          ],
          [
           "Redondo",
           "1830710",
           2.1
          ],
          [
           "Reguengos de Monsaraz",
           "1830711",
           7.3
          ],
          [
           "Sousel",
           "1831215",
           6.1
          ],
          [
           "Vendas Novas",
           "1830712",
           2.4
          ],
          [
           "Viana do Alentejo",
           "1830713",
           2.4
          ],
          [
           "Vila Viçosa",
           "1830714",
           2
          ],
          [
           "Aljustrel",
           "1840201",
           5.4
          ],
          [
           "Almodôvar",
           "1840202",
           1.6
          ],
          [
           "Alvito",
           "1840203",
           2.4
          ],
          [
           "Barrancos",
           "1840204",
           5.9
          ],
          [
           "Beja",
           "1840205",
           6.2
          ],
          [
           "Castro Verde",
           "1840206",
           2.4
          ],
          [
           "Cuba",
           "1840207",
           6.3
          ],
          [
           "Ferreira do Alentejo",
           "1840208",
           7
          ],
          [
           "Mértola",
           "1840209",
           2.5
          ],
          [
           "Moura",
           "1840210",
           8
          ],
          [
           "Ourique",
           "1840212",
           7.1
          ],
          [
           "Serpa",
           "1840213",
           7.5
          ],
          [
           "Vidigueira",
           "1840214",
           7.5
          ],
          [
           "Almeirim",
           "1851403",
           3.5
          ],
          [
           "Alpiarça",
           "1851404",
           1.2
          ],
          [
           "Azambuja",
           "1851103",
           2.9
          ],
          [
           "Benavente",
           "1851405",
           4.9
          ],
          [
           "Cartaxo",
           "1851406",
           4.3
          ],
          [
           "Chamusca",
           "1851407",
           1.6
          ],
          [
           "Coruche",
           "1851409",
           6.1
          ],
          [
           "Golegã",
           "1851412",
           4.8
          ],
          [
           "Rio Maior",
           "1851414",
           3.7
          ],
          [
           "Salvaterra de Magos",
           "1851415",
           3.5
          ],
          [
           "Santarém",
           "1851416",
           4.3
          ],
          [
           "Albufeira",
           "1500801",
           6.6
          ],
          [
           "Alcoutim",
           "1500802",
           0.8
          ],
          [
           "Aljezur",
           "1500803",
           3.9
          ],
          [
           "Castro Marim",
           "1500804",
           2.9
          ],
          [
           "Faro",
           "1500805",
           4.1
          ],
          [
           "Lagoa",
           "1500806",
           2.6
          ],
          [
           "Lagos",
           "1500807",
           3
          ],
          [
           "Loulé",
           "1500808",
           4.9
          ],
          [
           "Monchique",
           "1500809",
           6.9
          ],
          [
           "Olhão",
           "1500810",
           3.1
          ],
          [
           "Portimão",
           "1500811",
           4.2
          ],
          [
           "São Brás de Alportel",
           "1500812",
           1
          ],
          [
           "Silves",
           "1500813",
           6.4
          ],
          [
           "Tavira",
           "1500814",
           5.7
          ],
          [
           "Vila do Bispo",
           "1500815",
           3.4
          ],
          [
           "Vila Real de Santo António",
           "1500816",
           5.8
          ],
          [
           "Angra do Heroísmo",
           "2004301",
           5.4
          ],
          [
           "Calheta (R.A.A.)",
           "2004501",
           1.8
          ],
          [
           "Corvo",
           "2004901",
           0
          ],
          [
           "Horta",
           "2004701",
           5.4
          ],
          [
           "Lagoa (R.A.A)",
           "2004201",
           5.5
          ],
          [
           "Lajes das Flores",
           "2004801",
           1.9
          ],
          [
           "Lajes do Pico",
           "2004601",
           0.9
          ],
          [
           "Madalena",
           "2004602",
           5.4
          ],
          [
           "Nordeste",
           "2004202",
           3.5
          ],
          [
           "Ponta Delgada",
           "2004203",
           5.9
          ],
          [
           "Povoação",
           "2004204",
           9.5
          ],
          [
           "Ribeira Grande",
           "2004205",
           11.1
          ],
          [
           "Santa Cruz da Graciosa",
           "2004401",
           1.8
          ],
          [
           "Santa Cruz das Flores",
           "2004802",
           1.9
          ],
          [
           "São Roque do Pico",
           "2004603",
           0.8
          ],
          [
           "Velas",
           "2004502",
           7.9
          ],
          [
           "Vila da Praia da Vitória",
           "2004302",
           5.4
          ],
          [
           "Vila do Porto",
           "2004101",
           7
          ],
          [
           "Vila Franca do Campo",
           "2004206",
           4.5
          ],
          [
           "Calheta (R.A.M.)",
           "3003101",
           2.8
          ],
          [
           "Câmara de Lobos",
           "3003102",
           3.2
          ],
          [
           "Funchal",
           "3003103",
           2
          ],
          [
           "Machico",
           "3003104",
           3
          ],
          [
           "Ponta do Sol",
           "3003105",
           2.6
          ],
          [
           "Porto Moniz",
           "3003106",
           2.4
          ],
          [
           "Porto Santo",
           "3003201",
           4
          ],
          [
           "Ribeira Brava",
           "3003107",
           4.3
          ],
          [
           "Santa Cruz",
           "3003108",
           3.3
          ],
          [
           "Santana",
           "3003109",
           4.4
          ],
          [
           "São Vicente",
           "3003110",
           1.7
          ]
         ],
         "hovertemplate": "valor=%{x}<br>y=%{y}<br>local=%{customdata[0]}<br>codigo=%{customdata[1]}<br>Ensino básico=%{customdata[2]}<br>retencao_desistencia_ensino_basico=%{marker.color}<extra></extra>",
         "legendgroup": "",
         "marker": {
          "color": {
           "bdata": "AAAAAAAAAAAAAAAAAAAAAAAAAAAAAAAAAAAAAAAAAAAAAAAAAAAAAAAAAAAAAAAAAAAAAAAAAAABAAAAAAAAAAEAAAABAQAAAAAAAAEAAAEAAAEAAAEAAAAAAAAAAQAAAAAAAAAAAAAAAAAAAAAAAAAAAAAAAAAAAAAAAAAAAAAAAAAAAAAAAAABAAAAAQAAAAAAAAAAAgEAAAABAAABAAEAAAEAAQAAAAABAAEBAQABAAABAAABAAAAAQABAQABAAEAAAEAAQAAAQABAAEBAQABAAIBAAABAAAAAAAAAQAAAQEBAAECAAABAQAAAAEAAAEBAAEBAAEBAQEAAAABAQABAQEAAQEAAQABAAABAQABAAEBAAEBAAABAQAAAQABAQEAAAABAQEBAAAAAAAAAAEAAQA=",
           "dtype": "i1"
          },
          "coloraxis": "coloraxis",
          "size": 10,
          "symbol": "circle"
         },
         "mode": "markers",
         "name": "",
         "orientation": "v",
         "showlegend": false,
         "type": "scatter",
         "x": {
          "bdata": "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",
          "dtype": "f8"
         },
         "xaxis": "x",
         "y": {
          "bdata": "AAAAAAAAAAAAAAAAAAAAAAAAAAAAAAAAAAAAAAAAAAAAAAAAAAAAAAAAAAAAAAAAAAAAAAAAAAAAAAAAAAAAAAAAAAAAAAAAAAAAAAAAAAAAAAAAAAAAAAAAAAAAAAAAAAAAAAAAAAAAAAAAAAAAAAAAAAAAAAAAAAAAAAAAAAAAAAAAAAAAAAAAAAAAAAAAAAAAAAAAAAAAAAAAAAAAAAAAAAAAAAAAAAAAAAAAAAAAAAAAAAAAAAAAAAAAAAAAAAAAAAAAAAAAAAAAAAAAAAAAAAAAAAAAAAAAAAAAAAAAAAAAAAAAAAAAAAAAAAAAAAAAAAAAAAAAAAAAAAAAAAAAAAAAAAAAAAAAAAAAAAAAAAAAAAAAAAAAAAAAAAAAAAAAAAAAAAAAAAAAAAAAAAAAAAA=",
          "dtype": "i1"
         },
         "yaxis": "y"
        }
       ],
       "layout": {
        "coloraxis": {
         "colorbar": {
          "title": {
           "text": "retencao_desistencia_ensino_basico"
          }
         },
         "colorscale": [
          [
           0,
           "#440154"
          ],
          [
           0.1111111111111111,
           "#482878"
          ],
          [
           0.2222222222222222,
           "#3e4989"
          ],
          [
           0.3333333333333333,
           "#31688e"
          ],
          [
           0.4444444444444444,
           "#26828e"
          ],
          [
           0.5555555555555556,
           "#1f9e89"
          ],
          [
           0.6666666666666666,
           "#35b779"
          ],
          [
           0.7777777777777778,
           "#6ece58"
          ],
          [
           0.8888888888888888,
           "#b5de2b"
          ],
          [
           1,
           "#fde725"
          ]
         ]
        },
        "height": 300,
        "legend": {
         "tracegroupgap": 0
        },
        "margin": {
         "t": 60
        },
        "template": {
         "data": {
          "bar": [
           {
            "error_x": {
             "color": "#2a3f5f"
            },
            "error_y": {
             "color": "#2a3f5f"
            },
            "marker": {
             "line": {
              "color": "#E5ECF6",
              "width": 0.5
             },
             "pattern": {
              "fillmode": "overlay",
              "size": 10,
              "solidity": 0.2
             }
            },
            "type": "bar"
           }
          ],
          "barpolar": [
           {
            "marker": {
             "line": {
              "color": "#E5ECF6",
              "width": 0.5
             },
             "pattern": {
              "fillmode": "overlay",
              "size": 10,
              "solidity": 0.2
             }
            },
            "type": "barpolar"
           }
          ],
          "carpet": [
           {
            "aaxis": {
             "endlinecolor": "#2a3f5f",
             "gridcolor": "white",
             "linecolor": "white",
             "minorgridcolor": "white",
             "startlinecolor": "#2a3f5f"
            },
            "baxis": {
             "endlinecolor": "#2a3f5f",
             "gridcolor": "white",
             "linecolor": "white",
             "minorgridcolor": "white",
             "startlinecolor": "#2a3f5f"
            },
            "type": "carpet"
           }
          ],
          "choropleth": [
           {
            "colorbar": {
             "outlinewidth": 0,
             "ticks": ""
            },
            "type": "choropleth"
           }
          ],
          "contour": [
           {
            "colorbar": {
             "outlinewidth": 0,
             "ticks": ""
            },
            "colorscale": [
             [
              0,
              "#0d0887"
             ],
             [
              0.1111111111111111,
              "#46039f"
             ],
             [
              0.2222222222222222,
              "#7201a8"
             ],
             [
              0.3333333333333333,
              "#9c179e"
             ],
             [
              0.4444444444444444,
              "#bd3786"
             ],
             [
              0.5555555555555556,
              "#d8576b"
             ],
             [
              0.6666666666666666,
              "#ed7953"
             ],
             [
              0.7777777777777778,
              "#fb9f3a"
             ],
             [
              0.8888888888888888,
              "#fdca26"
             ],
             [
              1,
              "#f0f921"
             ]
            ],
            "type": "contour"
           }
          ],
          "contourcarpet": [
           {
            "colorbar": {
             "outlinewidth": 0,
             "ticks": ""
            },
            "type": "contourcarpet"
           }
          ],
          "heatmap": [
           {
            "colorbar": {
             "outlinewidth": 0,
             "ticks": ""
            },
            "colorscale": [
             [
              0,
              "#0d0887"
             ],
             [
              0.1111111111111111,
              "#46039f"
             ],
             [
              0.2222222222222222,
              "#7201a8"
             ],
             [
              0.3333333333333333,
              "#9c179e"
             ],
             [
              0.4444444444444444,
              "#bd3786"
             ],
             [
              0.5555555555555556,
              "#d8576b"
             ],
             [
              0.6666666666666666,
              "#ed7953"
             ],
             [
              0.7777777777777778,
              "#fb9f3a"
             ],
             [
              0.8888888888888888,
              "#fdca26"
             ],
             [
              1,
              "#f0f921"
             ]
            ],
            "type": "heatmap"
           }
          ],
          "histogram": [
           {
            "marker": {
             "pattern": {
              "fillmode": "overlay",
              "size": 10,
              "solidity": 0.2
             }
            },
            "type": "histogram"
           }
          ],
          "histogram2d": [
           {
            "colorbar": {
             "outlinewidth": 0,
             "ticks": ""
            },
            "colorscale": [
             [
              0,
              "#0d0887"
             ],
             [
              0.1111111111111111,
              "#46039f"
             ],
             [
              0.2222222222222222,
              "#7201a8"
             ],
             [
              0.3333333333333333,
              "#9c179e"
             ],
             [
              0.4444444444444444,
              "#bd3786"
             ],
             [
              0.5555555555555556,
              "#d8576b"
             ],
             [
              0.6666666666666666,
              "#ed7953"
             ],
             [
              0.7777777777777778,
              "#fb9f3a"
             ],
             [
              0.8888888888888888,
              "#fdca26"
             ],
             [
              1,
              "#f0f921"
             ]
            ],
            "type": "histogram2d"
           }
          ],
          "histogram2dcontour": [
           {
            "colorbar": {
             "outlinewidth": 0,
             "ticks": ""
            },
            "colorscale": [
             [
              0,
              "#0d0887"
             ],
             [
              0.1111111111111111,
              "#46039f"
             ],
             [
              0.2222222222222222,
              "#7201a8"
             ],
             [
              0.3333333333333333,
              "#9c179e"
             ],
             [
              0.4444444444444444,
              "#bd3786"
             ],
             [
              0.5555555555555556,
              "#d8576b"
             ],
             [
              0.6666666666666666,
              "#ed7953"
             ],
             [
              0.7777777777777778,
              "#fb9f3a"
             ],
             [
              0.8888888888888888,
              "#fdca26"
             ],
             [
              1,
              "#f0f921"
             ]
            ],
            "type": "histogram2dcontour"
           }
          ],
          "mesh3d": [
           {
            "colorbar": {
             "outlinewidth": 0,
             "ticks": ""
            },
            "type": "mesh3d"
           }
          ],
          "parcoords": [
           {
            "line": {
             "colorbar": {
              "outlinewidth": 0,
              "ticks": ""
             }
            },
            "type": "parcoords"
           }
          ],
          "pie": [
           {
            "automargin": true,
            "type": "pie"
           }
          ],
          "scatter": [
           {
            "fillpattern": {
             "fillmode": "overlay",
             "size": 10,
             "solidity": 0.2
            },
            "type": "scatter"
           }
          ],
          "scatter3d": [
           {
            "line": {
             "colorbar": {
              "outlinewidth": 0,
              "ticks": ""
             }
            },
            "marker": {
             "colorbar": {
              "outlinewidth": 0,
              "ticks": ""
             }
            },
            "type": "scatter3d"
           }
          ],
          "scattercarpet": [
           {
            "marker": {
             "colorbar": {
              "outlinewidth": 0,
              "ticks": ""
             }
            },
            "type": "scattercarpet"
           }
          ],
          "scattergeo": [
           {
            "marker": {
             "colorbar": {
              "outlinewidth": 0,
              "ticks": ""
             }
            },
            "type": "scattergeo"
           }
          ],
          "scattergl": [
           {
            "marker": {
             "colorbar": {
              "outlinewidth": 0,
              "ticks": ""
             }
            },
            "type": "scattergl"
           }
          ],
          "scattermap": [
           {
            "marker": {
             "colorbar": {
              "outlinewidth": 0,
              "ticks": ""
             }
            },
            "type": "scattermap"
           }
          ],
          "scattermapbox": [
           {
            "marker": {
             "colorbar": {
              "outlinewidth": 0,
              "ticks": ""
             }
            },
            "type": "scattermapbox"
           }
          ],
          "scatterpolar": [
           {
            "marker": {
             "colorbar": {
              "outlinewidth": 0,
              "ticks": ""
             }
            },
            "type": "scatterpolar"
           }
          ],
          "scatterpolargl": [
           {
            "marker": {
             "colorbar": {
              "outlinewidth": 0,
              "ticks": ""
             }
            },
            "type": "scatterpolargl"
           }
          ],
          "scatterternary": [
           {
            "marker": {
             "colorbar": {
              "outlinewidth": 0,
              "ticks": ""
             }
            },
            "type": "scatterternary"
           }
          ],
          "surface": [
           {
            "colorbar": {
             "outlinewidth": 0,
             "ticks": ""
            },
            "colorscale": [
             [
              0,
              "#0d0887"
             ],
             [
              0.1111111111111111,
              "#46039f"
             ],
             [
              0.2222222222222222,
              "#7201a8"
             ],
             [
              0.3333333333333333,
              "#9c179e"
             ],
             [
              0.4444444444444444,
              "#bd3786"
             ],
             [
              0.5555555555555556,
              "#d8576b"
             ],
             [
              0.6666666666666666,
              "#ed7953"
             ],
             [
              0.7777777777777778,
              "#fb9f3a"
             ],
             [
              0.8888888888888888,
              "#fdca26"
             ],
             [
              1,
              "#f0f921"
             ]
            ],
            "type": "surface"
           }
          ],
          "table": [
           {
            "cells": {
             "fill": {
              "color": "#EBF0F8"
             },
             "line": {
              "color": "white"
             }
            },
            "header": {
             "fill": {
              "color": "#C8D4E3"
             },
             "line": {
              "color": "white"
             }
            },
            "type": "table"
           }
          ]
         },
         "layout": {
          "annotationdefaults": {
           "arrowcolor": "#2a3f5f",
           "arrowhead": 0,
           "arrowwidth": 1
          },
          "autotypenumbers": "strict",
          "coloraxis": {
           "colorbar": {
            "outlinewidth": 0,
            "ticks": ""
           }
          },
          "colorscale": {
           "diverging": [
            [
             0,
             "#8e0152"
            ],
            [
             0.1,
             "#c51b7d"
            ],
            [
             0.2,
             "#de77ae"
            ],
            [
             0.3,
             "#f1b6da"
            ],
            [
             0.4,
             "#fde0ef"
            ],
            [
             0.5,
             "#f7f7f7"
            ],
            [
             0.6,
             "#e6f5d0"
            ],
            [
             0.7,
             "#b8e186"
            ],
            [
             0.8,
             "#7fbc41"
            ],
            [
             0.9,
             "#4d9221"
            ],
            [
             1,
             "#276419"
            ]
           ],
           "sequential": [
            [
             0,
             "#0d0887"
            ],
            [
             0.1111111111111111,
             "#46039f"
            ],
            [
             0.2222222222222222,
             "#7201a8"
            ],
            [
             0.3333333333333333,
             "#9c179e"
            ],
            [
             0.4444444444444444,
             "#bd3786"
            ],
            [
             0.5555555555555556,
             "#d8576b"
            ],
            [
             0.6666666666666666,
             "#ed7953"
            ],
            [
             0.7777777777777778,
             "#fb9f3a"
            ],
            [
             0.8888888888888888,
             "#fdca26"
            ],
            [
             1,
             "#f0f921"
            ]
           ],
           "sequentialminus": [
            [
             0,
             "#0d0887"
            ],
            [
             0.1111111111111111,
             "#46039f"
            ],
            [
             0.2222222222222222,
             "#7201a8"
            ],
            [
             0.3333333333333333,
             "#9c179e"
            ],
            [
             0.4444444444444444,
             "#bd3786"
            ],
            [
             0.5555555555555556,
             "#d8576b"
            ],
            [
             0.6666666666666666,
             "#ed7953"
            ],
            [
             0.7777777777777778,
             "#fb9f3a"
            ],
            [
             0.8888888888888888,
             "#fdca26"
            ],
            [
             1,
             "#f0f921"
            ]
           ]
          },
          "colorway": [
           "#636efa",
           "#EF553B",
           "#00cc96",
           "#ab63fa",
           "#FFA15A",
           "#19d3f3",
           "#FF6692",
           "#B6E880",
           "#FF97FF",
           "#FECB52"
          ],
          "font": {
           "color": "#2a3f5f"
          },
          "geo": {
           "bgcolor": "white",
           "lakecolor": "white",
           "landcolor": "#E5ECF6",
           "showlakes": true,
           "showland": true,
           "subunitcolor": "white"
          },
          "hoverlabel": {
           "align": "left"
          },
          "hovermode": "closest",
          "mapbox": {
           "style": "light"
          },
          "paper_bgcolor": "white",
          "plot_bgcolor": "#E5ECF6",
          "polar": {
           "angularaxis": {
            "gridcolor": "white",
            "linecolor": "white",
            "ticks": ""
           },
           "bgcolor": "#E5ECF6",
           "radialaxis": {
            "gridcolor": "white",
            "linecolor": "white",
            "ticks": ""
           }
          },
          "scene": {
           "xaxis": {
            "backgroundcolor": "#E5ECF6",
            "gridcolor": "white",
            "gridwidth": 2,
            "linecolor": "white",
            "showbackground": true,
            "ticks": "",
            "zerolinecolor": "white"
           },
           "yaxis": {
            "backgroundcolor": "#E5ECF6",
            "gridcolor": "white",
            "gridwidth": 2,
            "linecolor": "white",
            "showbackground": true,
            "ticks": "",
            "zerolinecolor": "white"
           },
           "zaxis": {
            "backgroundcolor": "#E5ECF6",
            "gridcolor": "white",
            "gridwidth": 2,
            "linecolor": "white",
            "showbackground": true,
            "ticks": "",
            "zerolinecolor": "white"
           }
          },
          "shapedefaults": {
           "line": {
            "color": "#2a3f5f"
           }
          },
          "ternary": {
           "aaxis": {
            "gridcolor": "white",
            "linecolor": "white",
            "ticks": ""
           },
           "baxis": {
            "gridcolor": "white",
            "linecolor": "white",
            "ticks": ""
           },
           "bgcolor": "#E5ECF6",
           "caxis": {
            "gridcolor": "white",
            "linecolor": "white",
            "ticks": ""
           }
          },
          "title": {
           "x": 0.05
          },
          "xaxis": {
           "automargin": true,
           "gridcolor": "white",
           "linecolor": "white",
           "ticks": "",
           "title": {
            "standoff": 15
           },
           "zerolinecolor": "white",
           "zerolinewidth": 2
          },
          "yaxis": {
           "automargin": true,
           "gridcolor": "white",
           "linecolor": "white",
           "ticks": "",
           "title": {
            "standoff": 15
           },
           "zerolinecolor": "white",
           "zerolinewidth": 2
          }
         }
        },
        "xaxis": {
         "anchor": "y",
         "domain": [
          0,
          1
         ],
         "title": {
          "text": "Ensino básico"
         }
        },
        "yaxis": {
         "anchor": "x",
         "domain": [
          0,
          1
         ],
         "showgrid": false,
         "showticklabels": false,
         "title": {
          "text": "y"
         }
        }
       }
      }
     },
     "metadata": {},
     "output_type": "display_data"
    },
    {
     "name": "stdout",
     "output_type": "stream",
     "text": [
      "retencao_desistencia_ensino_basico\n",
      "0    222\n",
      "1     83\n",
      "2      3\n",
      "Name: count, dtype: int64\n",
      "File saved to csv_files/1_Taxa de retenção e desistência no ensino básico.csv\n"
     ]
    }
   ],
   "source": [
    "clustered_df = aplicar_kmeans(only_municipalities_df,3,nome_cluster='retencao_desistencia_ensino_basico')\n",
    "\n",
    "save_clustered_df_to_csv(clustered_df,\"csv_files/\", \"1_Taxa de retenção e desistência no ensino básico.csv\")"
   ]
  },
  {
   "cell_type": "markdown",
   "id": "30fbf450",
   "metadata": {},
   "source": [
    "### Nível de Escolaridade Máxima"
   ]
  },
  {
   "cell_type": "code",
   "execution_count": 33,
   "id": "6e7e43ef",
   "metadata": {},
   "outputs": [
    {
     "data": {
      "text/html": [
       "<div>\n",
       "<style scoped>\n",
       "    .dataframe tbody tr th:only-of-type {\n",
       "        vertical-align: middle;\n",
       "    }\n",
       "\n",
       "    .dataframe tbody tr th {\n",
       "        vertical-align: top;\n",
       "    }\n",
       "\n",
       "    .dataframe thead th {\n",
       "        text-align: right;\n",
       "    }\n",
       "</style>\n",
       "<table border=\"1\" class=\"dataframe\">\n",
       "  <thead>\n",
       "    <tr style=\"text-align: right;\">\n",
       "      <th></th>\n",
       "      <th>local</th>\n",
       "      <th>codigo</th>\n",
       "      <th>Nível de escolaridade mais elevado completo</th>\n",
       "    </tr>\n",
       "  </thead>\n",
       "  <tbody>\n",
       "    <tr>\n",
       "      <th>6</th>\n",
       "      <td>Arcos de Valdevez</td>\n",
       "      <td>1111601</td>\n",
       "      <td>20718</td>\n",
       "    </tr>\n",
       "    <tr>\n",
       "      <th>7</th>\n",
       "      <td>Caminha</td>\n",
       "      <td>1111602</td>\n",
       "      <td>15797</td>\n",
       "    </tr>\n",
       "    <tr>\n",
       "      <th>8</th>\n",
       "      <td>Melgaço</td>\n",
       "      <td>1111603</td>\n",
       "      <td>7773</td>\n",
       "    </tr>\n",
       "    <tr>\n",
       "      <th>9</th>\n",
       "      <td>Monção</td>\n",
       "      <td>1111604</td>\n",
       "      <td>17816</td>\n",
       "    </tr>\n",
       "    <tr>\n",
       "      <th>10</th>\n",
       "      <td>Paredes de Coura</td>\n",
       "      <td>1111605</td>\n",
       "      <td>8632</td>\n",
       "    </tr>\n",
       "    <tr>\n",
       "      <th>...</th>\n",
       "      <td>...</td>\n",
       "      <td>...</td>\n",
       "      <td>...</td>\n",
       "    </tr>\n",
       "    <tr>\n",
       "      <th>361</th>\n",
       "      <td>Porto Santo</td>\n",
       "      <td>3003201</td>\n",
       "      <td>5149</td>\n",
       "    </tr>\n",
       "    <tr>\n",
       "      <th>362</th>\n",
       "      <td>Ribeira Brava</td>\n",
       "      <td>3003107</td>\n",
       "      <td>12680</td>\n",
       "    </tr>\n",
       "    <tr>\n",
       "      <th>363</th>\n",
       "      <td>Santa Cruz</td>\n",
       "      <td>3003108</td>\n",
       "      <td>42168</td>\n",
       "    </tr>\n",
       "    <tr>\n",
       "      <th>364</th>\n",
       "      <td>Santana</td>\n",
       "      <td>3003109</td>\n",
       "      <td>6553</td>\n",
       "    </tr>\n",
       "    <tr>\n",
       "      <th>365</th>\n",
       "      <td>São Vicente</td>\n",
       "      <td>3003110</td>\n",
       "      <td>4865</td>\n",
       "    </tr>\n",
       "  </tbody>\n",
       "</table>\n",
       "<p>308 rows × 3 columns</p>\n",
       "</div>"
      ],
      "text/plain": [
       "                 local   codigo Nível de escolaridade mais elevado completo\n",
       "6    Arcos de Valdevez  1111601                                       20718\n",
       "7              Caminha  1111602                                       15797\n",
       "8              Melgaço  1111603                                        7773\n",
       "9               Monção  1111604                                       17816\n",
       "10    Paredes de Coura  1111605                                        8632\n",
       "..                 ...      ...                                         ...\n",
       "361        Porto Santo  3003201                                        5149\n",
       "362      Ribeira Brava  3003107                                       12680\n",
       "363         Santa Cruz  3003108                                       42168\n",
       "364            Santana  3003109                                        6553\n",
       "365        São Vicente  3003110                                        4865\n",
       "\n",
       "[308 rows x 3 columns]"
      ]
     },
     "execution_count": 33,
     "metadata": {},
     "output_type": "execute_result"
    }
   ],
   "source": [
    "original_df = processar_ficheiro(data_path+'Nível de Escolaridade Máxima.xls',6,padding_left=1)\n",
    "original_df\n",
    "only_municipalities_df =filter_for_only_municipalities(original_df)  \n",
    "only_municipalities_df"
   ]
  },
  {
   "cell_type": "code",
   "execution_count": 34,
   "id": "e2c345df",
   "metadata": {},
   "outputs": [
    {
     "data": {
      "application/vnd.plotly.v1+json": {
       "config": {
        "plotlyServerURL": "https://plot.ly"
       },
       "data": [
        {
         "customdata": [
          [
           "Arcos de Valdevez",
           "1111601",
           20718
          ],
          [
           "Caminha",
           "1111602",
           15797
          ],
          [
           "Melgaço",
           "1111603",
           7773
          ],
          [
           "Monção",
           "1111604",
           17816
          ],
          [
           "Paredes de Coura",
           "1111605",
           8632
          ],
          [
           "Ponte da Barca",
           "1111606",
           11044
          ],
          [
           "Ponte de Lima",
           "1111607",
           41164
          ],
          [
           "Valença",
           "1111608",
           13623
          ],
          [
           "Viana do Castelo",
           "1111609",
           85778
          ],
          [
           "Vila Nova de Cerveira",
           "1111610",
           8921
          ],
          [
           "Amares",
           "1120301",
           18595
          ],
          [
           "Barcelos",
           "1120302",
           116752
          ],
          [
           "Braga",
           "1120303",
           193324
          ],
          [
           "Esposende",
           "1120306",
           35132
          ],
          [
           "Terras de Bouro",
           "1120310",
           6358
          ],
          [
           "Vila Verde",
           "1120313",
           46444
          ],
          [
           "Cabeceiras de Basto",
           "1190304",
           15558
          ],
          [
           "Fafe",
           "1190307",
           48497
          ],
          [
           "Guimarães",
           "1190308",
           156830
          ],
          [
           "Mondim de Basto",
           "1191705",
           6410
          ],
          [
           "Póvoa de Lanhoso",
           "1190309",
           21775
          ],
          [
           "Vieira do Minho",
           "1190311",
           11955
          ],
          [
           "Vila Nova de Famalicão",
           "1190312",
           133534
          ],
          [
           "Vizela",
           "1190314",
           23896
          ],
          [
           "Arouca",
           "11A0104",
           21146
          ],
          [
           "Espinho",
           "11A0107",
           31043
          ],
          [
           "Gondomar",
           "11A1304",
           164257
          ],
          [
           "Maia",
           "11A1306",
           134977
          ],
          [
           "Matosinhos",
           "11A1308",
           172557
          ],
          [
           "Oliveira de Azeméis",
           "11A0113",
           66175
          ],
          [
           "Paredes",
           "11A1310",
           84354
          ],
          [
           "Porto",
           "11A1312",
           231800
          ],
          [
           "Póvoa de Varzim",
           "11A1313",
           64255
          ],
          [
           "Santa Maria da Feira",
           "11A0109",
           136674
          ],
          [
           "Santo Tirso",
           "11A1314",
           67709
          ],
          [
           "São João da Madeira",
           "11A0116",
           22143
          ],
          [
           "Trofa",
           "11A1318",
           38548
          ],
          [
           "Vale de Cambra",
           "11A0119",
           21269
          ],
          [
           "Valongo",
           "11A1315",
           94672
          ],
          [
           "Vila do Conde",
           "11A1316",
           80825
          ],
          [
           "Vila Nova de Gaia",
           "11A1317",
           303824
          ],
          [
           "Boticas",
           "11B1702",
           5000
          ],
          [
           "Chaves",
           "11B1703",
           37590
          ],
          [
           "Montalegre",
           "11B1706",
           9261
          ],
          [
           "Ribeira de Pena",
           "11B1709",
           5884
          ],
          [
           "Valpaços",
           "11B1712",
           14701
          ],
          [
           "Vila Pouca de Aguiar",
           "11B1713",
           11812
          ],
          [
           "Amarante",
           "11C1301",
           52116
          ],
          [
           "Baião",
           "11C1302",
           17534
          ],
          [
           "Castelo de Paiva",
           "11C0106",
           15586
          ],
          [
           "Celorico de Basto",
           "11C0305",
           17643
          ],
          [
           "Cinfães",
           "11C1804",
           17730
          ],
          [
           "Felgueiras",
           "11C1303",
           55848
          ],
          [
           "Lousada",
           "11C1305",
           47364
          ],
          [
           "Marco de Canaveses",
           "11C1307",
           49541
          ],
          [
           "Paços de Ferreira",
           "11C1309",
           55595
          ],
          [
           "Penafiel",
           "11C1311",
           69629
          ],
          [
           "Resende",
           "11C1813",
           10051
          ],
          [
           "Alijó",
           "11D1701",
           10486
          ],
          [
           "Armamar",
           "11D1801",
           5678
          ],
          [
           "Carrazeda de Ansiães",
           "11D0403",
           5490
          ],
          [
           "Freixo de Espada à Cinta",
           "11D0404",
           3216
          ],
          [
           "Lamego",
           "11D1805",
           24312
          ],
          [
           "Mesão Frio",
           "11D1704",
           3547
          ],
          [
           "Moimenta da Beira",
           "11D1807",
           9410
          ],
          [
           "Murça",
           "11D1707",
           5245
          ],
          [
           "Penedono",
           "11D1812",
           2738
          ],
          [
           "Peso da Régua",
           "11D1708",
           14540
          ],
          [
           "Sabrosa",
           "11D1710",
           5548
          ],
          [
           "Santa Marta de Penaguião",
           "11D1711",
           6100
          ],
          [
           "São João da Pesqueira",
           "11D1815",
           6775
          ],
          [
           "Sernancelhe",
           "11D1818",
           5692
          ],
          [
           "Tabuaço",
           "11D1819",
           5034
          ],
          [
           "Tarouca",
           "11D1820",
           7363
          ],
          [
           "Torre de Moncorvo",
           "11D0409",
           6826
          ],
          [
           "Vila Nova de Foz Côa",
           "11D0914",
           6304
          ],
          [
           "Vila Real",
           "11D1714",
           49571
          ],
          [
           "Alfândega da Fé",
           "11E0401",
           4324
          ],
          [
           "Bragança",
           "11E0402",
           34582
          ],
          [
           "Macedo de Cavaleiros",
           "11E0405",
           14251
          ],
          [
           "Miranda do Douro",
           "11E0406",
           6463
          ],
          [
           "Mirandela",
           "11E0407",
           21384
          ],
          [
           "Mogadouro",
           "11E0408",
           8301
          ],
          [
           "Vila Flor",
           "11E0410",
           6050
          ],
          [
           "Vimioso",
           "11E0411",
           4149
          ],
          [
           "Vinhais",
           "11E0412",
           7768
          ],
          [
           "Águeda",
           "16D0101",
           46119
          ],
          [
           "Albergaria-a-Velha",
           "16D0102",
           24840
          ],
          [
           "Anadia",
           "16D0103",
           27532
          ],
          [
           "Aveiro",
           "16D0105",
           80954
          ],
          [
           "Estarreja",
           "16D0108",
           26213
          ],
          [
           "Ílhavo",
           "16D0110",
           39235
          ],
          [
           "Murtosa",
           "16D0112",
           10476
          ],
          [
           "Oliveira do Bairro",
           "16D0114",
           23132
          ],
          [
           "Ovar",
           "16D0115",
           54953
          ],
          [
           "Sever do Vouga",
           "16D0117",
           11063
          ],
          [
           "Vagos",
           "16D0118",
           22886
          ],
          [
           "Arganil",
           "16E0601",
           11065
          ],
          [
           "Cantanhede",
           "16E0602",
           34212
          ],
          [
           "Coimbra",
           "16E0603",
           140816
          ],
          [
           "Condeixa-a-Nova",
           "16E0604",
           16732
          ],
          [
           "Figueira da Foz",
           "16E0605",
           58951
          ],
          [
           "Góis",
           "16E0606",
           3811
          ],
          [
           "Lousã",
           "16E0607",
           17006
          ],
          [
           "Mealhada",
           "16E0111",
           19348
          ],
          [
           "Mira",
           "16E0608",
           12113
          ],
          [
           "Miranda do Corvo",
           "16E0609",
           12002
          ],
          [
           "Montemor-o-Velho",
           "16E0610",
           24571
          ],
          [
           "Mortágua",
           "16E1808",
           8963
          ],
          [
           "Oliveira do Hospital",
           "16E0611",
           19413
          ],
          [
           "Pampilhosa da Serra",
           "16E0612",
           4082
          ],
          [
           "Penacova",
           "16E0613",
           13113
          ],
          [
           "Penela",
           "16E0614",
           5440
          ],
          [
           "Soure",
           "16E0615",
           17261
          ],
          [
           "Tábua",
           "16E0616",
           11160
          ],
          [
           "Vila Nova de Poiares",
           "16E0617",
           6803
          ],
          [
           "Alvaiázere",
           "16F1002",
           6238
          ],
          [
           "Ansião",
           "16F1003",
           11642
          ],
          [
           "Batalha",
           "16F1004",
           15557
          ],
          [
           "Castanheira de Pêra",
           "16F1007",
           2645
          ],
          [
           "Figueiró dos Vinhos",
           "16F1008",
           5281
          ],
          [
           "Leiria",
           "16F1009",
           128603
          ],
          [
           "Marinha Grande",
           "16F1010",
           39024
          ],
          [
           "Pedrógão Grande",
           "16F1013",
           3390
          ],
          [
           "Pombal",
           "16F1015",
           51170
          ],
          [
           "Porto de Mós",
           "16F1016",
           23202
          ],
          [
           "Aguiar da Beira",
           "16G0901",
           5231
          ],
          [
           "Carregal do Sal",
           "16G1802",
           9038
          ],
          [
           "Castro Daire",
           "16G1803",
           13736
          ],
          [
           "Mangualde",
           "16G1806",
           18303
          ],
          [
           "Nelas",
           "16G1809",
           13119
          ],
          [
           "Oliveira de Frades",
           "16G1810",
           9506
          ],
          [
           "Penalva do Castelo",
           "16G1811",
           7333
          ],
          [
           "Santa Comba Dão",
           "16G1814",
           10641
          ],
          [
           "São Pedro do Sul",
           "16G1816",
           15137
          ],
          [
           "Sátão",
           "16G1817",
           11030
          ],
          [
           "Tondela",
           "16G1821",
           25910
          ],
          [
           "Vila Nova de Paiva",
           "16G1822",
           4662
          ],
          [
           "Viseu",
           "16G1823",
           99551
          ],
          [
           "Vouzela",
           "16G1824",
           9580
          ],
          [
           "Castelo Branco",
           "16H0502",
           52272
          ],
          [
           "Idanha-a-Nova",
           "16H0505",
           8355
          ],
          [
           "Oleiros",
           "16H0506",
           4904
          ],
          [
           "Penamacor",
           "16H0507",
           4768
          ],
          [
           "Proença-a-Nova",
           "16H0508",
           7167
          ],
          [
           "Sertã",
           "16I0509",
           14769
          ],
          [
           "Vila de Rei",
           "16I0510",
           3279
          ],
          [
           "Vila Velha de Ródão",
           "16H0511",
           3285
          ],
          [
           "Almeida",
           "16J0902",
           5887
          ],
          [
           "Belmonte",
           "16J0501",
           6205
          ],
          [
           "Celorico da Beira",
           "16J0903",
           6583
          ],
          [
           "Covilhã",
           "16J0503",
           46455
          ],
          [
           "Figueira de Castelo Rodrigo",
           "16J0904",
           5148
          ],
          [
           "Fornos de Algodres",
           "16J0905",
           4403
          ],
          [
           "Fundão",
           "16J0504",
           26503
          ],
          [
           "Gouveia",
           "16J0906",
           12222
          ],
          [
           "Guarda",
           "16J0907",
           40117
          ],
          [
           "Manteigas",
           "16J0908",
           2909
          ],
          [
           "Mêda",
           "16J0909",
           4630
          ],
          [
           "Pinhel",
           "16J0910",
           8092
          ],
          [
           "Sabugal",
           "16J0911",
           11280
          ],
          [
           "Seia",
           "16J0912",
           21755
          ],
          [
           "Trancoso",
           "16J0913",
           8413
          ],
          [
           "Alcobaça",
           "16B1001",
           54965
          ],
          [
           "Alenquer",
           "16B1101",
           44442
          ],
          [
           "Arruda dos Vinhos",
           "16B1102",
           13992
          ],
          [
           "Bombarral",
           "16B1005",
           12746
          ],
          [
           "Cadaval",
           "16B1104",
           13372
          ],
          [
           "Caldas da Rainha",
           "16B1006",
           50910
          ],
          [
           "Lourinhã",
           "16B1108",
           26240
          ],
          [
           "Nazaré",
           "16B1011",
           14881
          ],
          [
           "Óbidos",
           "16B1012",
           11922
          ],
          [
           "Peniche",
           "16B1014",
           26429
          ],
          [
           "Sobral de Monte Agraço",
           "16B1112",
           10540
          ],
          [
           "Torres Vedras",
           "16B1113",
           83072
          ],
          [
           "Abrantes",
           "16I1401",
           34329
          ],
          [
           "Alcanena",
           "16I1402",
           12472
          ],
          [
           "Constância",
           "16I1408",
           3798
          ],
          [
           "Entroncamento",
           "16I1410",
           20141
          ],
          [
           "Ferreira do Zêzere",
           "16I1411",
           7800
          ],
          [
           "Mação",
           "16I1413",
           6402
          ],
          [
           "Ourém",
           "16I1421",
           44538
          ],
          [
           "Sardoal",
           "16I1417",
           3513
          ],
          [
           "Tomar",
           "16I1418",
           36413
          ],
          [
           "Torres Novas",
           "16I1419",
           34111
          ],
          [
           "Vila Nova da Barquinha",
           "16I1420",
           7016
          ],
          [
           "Almeirim",
           "1851403",
           22012
          ],
          [
           "Alpiarça",
           "1851404",
           6975
          ],
          [
           "Azambuja",
           "1851103",
           21421
          ],
          [
           "Benavente",
           "1851405",
           29709
          ],
          [
           "Cartaxo",
           "1851406",
           23186
          ],
          [
           "Chamusca",
           "1851407",
           8530
          ],
          [
           "Coruche",
           "1851409",
           17355
          ],
          [
           "Golegã",
           "1851412",
           5400
          ],
          [
           "Rio Maior",
           "1851414",
           21004
          ],
          [
           "Salvaterra de Magos",
           "1851415",
           21607
          ],
          [
           "Santarém",
           "1851416",
           58662
          ],
          [
           "Amadora",
           "1701115",
           171454
          ],
          [
           "Cascais",
           "1701105",
           214124
          ],
          [
           "Lisboa",
           "1701106",
           545796
          ],
          [
           "Loures",
           "1701107",
           201590
          ],
          [
           "Mafra",
           "1701109",
           86515
          ],
          [
           "Odivelas",
           "1701116",
           148034
          ],
          [
           "Oeiras",
           "1701110",
           171658
          ],
          [
           "Sintra",
           "1701111",
           385606
          ],
          [
           "Vila Franca de Xira",
           "1701114",
           137529
          ],
          [
           "Alcochete",
           "1701502",
           19143
          ],
          [
           "Almada",
           "1701503",
           177238
          ],
          [
           "Barreiro",
           "1701504",
           78345
          ],
          [
           "Moita",
           "1701506",
           66255
          ],
          [
           "Montijo",
           "1701507",
           55682
          ],
          [
           "Palmela",
           "1701508",
           68852
          ],
          [
           "Seixal",
           "1701510",
           166507
          ],
          [
           "Sesimbra",
           "1701511",
           52384
          ],
          [
           "Setúbal",
           "1701512",
           123496
          ],
          [
           "Alcácer do Sal",
           "1811501",
           11112
          ],
          [
           "Grândola",
           "1811505",
           13822
          ],
          [
           "Odemira",
           "1810211",
           29538
          ],
          [
           "Santiago do Cacém",
           "1811509",
           27772
          ],
          [
           "Sines",
           "1811513",
           14198
          ],
          [
           "Aljustrel",
           "1840201",
           8874
          ],
          [
           "Almodôvar",
           "1840202",
           6712
          ],
          [
           "Alvito",
           "1840203",
           2280
          ],
          [
           "Barrancos",
           "1840204",
           1438
          ],
          [
           "Beja",
           "1840205",
           33394
          ],
          [
           "Castro Verde",
           "1840206",
           6873
          ],
          [
           "Cuba",
           "1840207",
           4373
          ],
          [
           "Ferreira do Alentejo",
           "1840208",
           7684
          ],
          [
           "Mértola",
           "1840209",
           6206
          ],
          [
           "Moura",
           "1840210",
           13258
          ],
          [
           "Ourique",
           "1840212",
           4839
          ],
          [
           "Serpa",
           "1840213",
           13757
          ],
          [
           "Vidigueira",
           "1840214",
           5175
          ],
          [
           "Alter do Chão",
           "1861201",
           3044
          ],
          [
           "Arronches",
           "1861202",
           2789
          ],
          [
           "Avis",
           "1861203",
           3812
          ],
          [
           "Campo Maior",
           "1861204",
           8042
          ],
          [
           "Castelo de Vide",
           "1861205",
           3116
          ],
          [
           "Crato",
           "1861206",
           3225
          ],
          [
           "Elvas",
           "1861207",
           20730
          ],
          [
           "Fronteira",
           "1861208",
           2858
          ],
          [
           "Gavião",
           "1861209",
           3394
          ],
          [
           "Marvão",
           "1861210",
           3021
          ],
          [
           "Monforte",
           "1861211",
           2992
          ],
          [
           "Nisa",
           "1861212",
           5952
          ],
          [
           "Ponte de Sor",
           "1861213",
           15248
          ],
          [
           "Portalegre",
           "1861214",
           22340
          ],
          [
           "Sousel",
           "1861215",
           4360
          ],
          [
           "Alandroal",
           "1870701",
           5014
          ],
          [
           "Arraiolos",
           "1870702",
           6606
          ],
          [
           "Borba",
           "1870703",
           6428
          ],
          [
           "Estremoz",
           "1870704",
           12680
          ],
          [
           "Évora",
           "1870705",
           53577
          ],
          [
           "Montemor-o-Novo",
           "1870706",
           15799
          ],
          [
           "Mora",
           "1870707",
           4135
          ],
          [
           "Mourão",
           "1870708",
           2351
          ],
          [
           "Portel",
           "1870709",
           5747
          ],
          [
           "Redondo",
           "1870710",
           6286
          ],
          [
           "Reguengos de Monsaraz",
           "1870711",
           9871
          ],
          [
           "Vendas Novas",
           "1870712",
           11245
          ],
          [
           "Viana do Alentejo",
           "1870713",
           5318
          ],
          [
           "Vila Viçosa",
           "1870714",
           7387
          ],
          [
           "Albufeira",
           "1500801",
           44164
          ],
          [
           "Alcoutim",
           "1500802",
           2523
          ],
          [
           "Aljezur",
           "1500803",
           6045
          ],
          [
           "Castro Marim",
           "1500804",
           6439
          ],
          [
           "Faro",
           "1500805",
           67622
          ],
          [
           "Lagoa",
           "2004201",
           23725
          ],
          [
           "Lagos",
           "1500807",
           33494
          ],
          [
           "Loulé",
           "1500808",
           72332
          ],
          [
           "Monchique",
           "1500809",
           5462
          ],
          [
           "Olhão",
           "1500810",
           44614
          ],
          [
           "Portimão",
           "1500811",
           59845
          ],
          [
           "São Brás de Alportel",
           "1500812",
           11248
          ],
          [
           "Silves",
           "1500813",
           37766
          ],
          [
           "Tavira",
           "1500814",
           27523
          ],
          [
           "Vila do Bispo",
           "1500815",
           5717
          ],
          [
           "Vila Real de Santo António",
           "1500816",
           18824
          ],
          [
           "Angra do Heroísmo",
           "2004301",
           33771
          ],
          [
           "Calheta (R.A.A.)",
           null,
           3437
          ],
          [
           "Corvo",
           "2004901",
           384
          ],
          [
           "Horta",
           "2004701",
           14331
          ],
          [
           "Lagoa (R.A.A.)",
           null,
           14189
          ],
          [
           "Lajes das Flores",
           "2004801",
           1408
          ],
          [
           "Lajes do Pico",
           "2004601",
           4340
          ],
          [
           "Madalena",
           "2004602",
           6319
          ],
          [
           "Nordeste",
           "2004202",
           4368
          ],
          [
           "Ponta Delgada",
           "2004203",
           67229
          ],
          [
           "Povoação",
           "2004204",
           5791
          ],
          [
           "Ribeira Grande",
           "2004205",
           31388
          ],
          [
           "Santa Cruz da Graciosa",
           "2004401",
           4090
          ],
          [
           "Santa Cruz das Flores",
           "2004802",
           2020
          ],
          [
           "São Roque do Pico",
           "2004603",
           3220
          ],
          [
           "Velas",
           "2004502",
           4936
          ],
          [
           "Vila da Praia da Vitória",
           "2004302",
           19463
          ],
          [
           "Vila do Porto",
           "2004101",
           5406
          ],
          [
           "Vila Franca do Campo",
           "2004206",
           10323
          ],
          [
           "Calheta (R.A.M.)",
           null,
           10915
          ],
          [
           "Câmara de Lobos",
           "3003102",
           32162
          ],
          [
           "Funchal",
           "3003103",
           105782
          ],
          [
           "Machico",
           "3003104",
           19593
          ],
          [
           "Ponta do Sol",
           "3003105",
           8360
          ],
          [
           "Porto Moniz",
           "3003106",
           2517
          ],
          [
           "Porto Santo",
           "3003201",
           5149
          ],
          [
           "Ribeira Brava",
           "3003107",
           12680
          ],
          [
           "Santa Cruz",
           "3003108",
           42168
          ],
          [
           "Santana",
           "3003109",
           6553
          ],
          [
           "São Vicente",
           "3003110",
           4865
          ]
         ],
         "hovertemplate": "valor=%{x}<br>y=%{y}<br>local=%{customdata[0]}<br>codigo=%{customdata[1]}<br>Nível de escolaridade mais elevado completo=%{customdata[2]}<br>nivel_maximo_escolaridade=%{marker.color}<extra></extra>",
         "legendgroup": "",
         "marker": {
          "color": {
           "bdata": "AAAAAAAAAAABAAABAQAAAAAAAQAAAAEAAAABAQEAAQEAAQAAAAABAQIAAAAAAAAAAAAAAAAAAAAAAAAAAAAAAAAAAAAAAAAAAAAAAAAAAAAAAAAAAAAAAAABAAAAAAAAAAAAAQAAAAAAAAAAAAAAAAAAAAAAAAAAAAEAAAAAAAAAAAAAAAAAAAAAAQAAAAAAAAAAAAAAAAAAAAAAAAAAAAAAAAAAAAAAAAAAAAAAAQAAAAAAAAAAAAAAAAAAAAAAAAAAAAABAQIBAQEBAgEAAQEAAAABAAEAAAAAAAAAAAAAAAAAAAAAAAAAAAAAAAAAAAAAAAAAAAAAAAAAAAAAAAAAAAAAAAAAAAAAAAAAAAAAAAAAAAAAAAAAAAAAAAAAAAAAAAAAAAAAAAABAAAAAAAAAAA=",
           "dtype": "i1"
          },
          "coloraxis": "coloraxis",
          "size": 10,
          "symbol": "circle"
         },
         "mode": "markers",
         "name": "",
         "orientation": "v",
         "showlegend": false,
         "type": "scatter",
         "x": {
          "bdata": "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",
          "dtype": "f8"
         },
         "xaxis": "x",
         "y": {
          "bdata": "AAAAAAAAAAAAAAAAAAAAAAAAAAAAAAAAAAAAAAAAAAAAAAAAAAAAAAAAAAAAAAAAAAAAAAAAAAAAAAAAAAAAAAAAAAAAAAAAAAAAAAAAAAAAAAAAAAAAAAAAAAAAAAAAAAAAAAAAAAAAAAAAAAAAAAAAAAAAAAAAAAAAAAAAAAAAAAAAAAAAAAAAAAAAAAAAAAAAAAAAAAAAAAAAAAAAAAAAAAAAAAAAAAAAAAAAAAAAAAAAAAAAAAAAAAAAAAAAAAAAAAAAAAAAAAAAAAAAAAAAAAAAAAAAAAAAAAAAAAAAAAAAAAAAAAAAAAAAAAAAAAAAAAAAAAAAAAAAAAAAAAAAAAAAAAAAAAAAAAAAAAAAAAAAAAAAAAAAAAAAAAAAAAAAAAAAAAAAAAAAAAAAAAAAAAA=",
          "dtype": "i1"
         },
         "yaxis": "y"
        }
       ],
       "layout": {
        "coloraxis": {
         "colorbar": {
          "title": {
           "text": "nivel_maximo_escolaridade"
          }
         },
         "colorscale": [
          [
           0,
           "#440154"
          ],
          [
           0.1111111111111111,
           "#482878"
          ],
          [
           0.2222222222222222,
           "#3e4989"
          ],
          [
           0.3333333333333333,
           "#31688e"
          ],
          [
           0.4444444444444444,
           "#26828e"
          ],
          [
           0.5555555555555556,
           "#1f9e89"
          ],
          [
           0.6666666666666666,
           "#35b779"
          ],
          [
           0.7777777777777778,
           "#6ece58"
          ],
          [
           0.8888888888888888,
           "#b5de2b"
          ],
          [
           1,
           "#fde725"
          ]
         ]
        },
        "height": 300,
        "legend": {
         "tracegroupgap": 0
        },
        "margin": {
         "t": 60
        },
        "template": {
         "data": {
          "bar": [
           {
            "error_x": {
             "color": "#2a3f5f"
            },
            "error_y": {
             "color": "#2a3f5f"
            },
            "marker": {
             "line": {
              "color": "#E5ECF6",
              "width": 0.5
             },
             "pattern": {
              "fillmode": "overlay",
              "size": 10,
              "solidity": 0.2
             }
            },
            "type": "bar"
           }
          ],
          "barpolar": [
           {
            "marker": {
             "line": {
              "color": "#E5ECF6",
              "width": 0.5
             },
             "pattern": {
              "fillmode": "overlay",
              "size": 10,
              "solidity": 0.2
             }
            },
            "type": "barpolar"
           }
          ],
          "carpet": [
           {
            "aaxis": {
             "endlinecolor": "#2a3f5f",
             "gridcolor": "white",
             "linecolor": "white",
             "minorgridcolor": "white",
             "startlinecolor": "#2a3f5f"
            },
            "baxis": {
             "endlinecolor": "#2a3f5f",
             "gridcolor": "white",
             "linecolor": "white",
             "minorgridcolor": "white",
             "startlinecolor": "#2a3f5f"
            },
            "type": "carpet"
           }
          ],
          "choropleth": [
           {
            "colorbar": {
             "outlinewidth": 0,
             "ticks": ""
            },
            "type": "choropleth"
           }
          ],
          "contour": [
           {
            "colorbar": {
             "outlinewidth": 0,
             "ticks": ""
            },
            "colorscale": [
             [
              0,
              "#0d0887"
             ],
             [
              0.1111111111111111,
              "#46039f"
             ],
             [
              0.2222222222222222,
              "#7201a8"
             ],
             [
              0.3333333333333333,
              "#9c179e"
             ],
             [
              0.4444444444444444,
              "#bd3786"
             ],
             [
              0.5555555555555556,
              "#d8576b"
             ],
             [
              0.6666666666666666,
              "#ed7953"
             ],
             [
              0.7777777777777778,
              "#fb9f3a"
             ],
             [
              0.8888888888888888,
              "#fdca26"
             ],
             [
              1,
              "#f0f921"
             ]
            ],
            "type": "contour"
           }
          ],
          "contourcarpet": [
           {
            "colorbar": {
             "outlinewidth": 0,
             "ticks": ""
            },
            "type": "contourcarpet"
           }
          ],
          "heatmap": [
           {
            "colorbar": {
             "outlinewidth": 0,
             "ticks": ""
            },
            "colorscale": [
             [
              0,
              "#0d0887"
             ],
             [
              0.1111111111111111,
              "#46039f"
             ],
             [
              0.2222222222222222,
              "#7201a8"
             ],
             [
              0.3333333333333333,
              "#9c179e"
             ],
             [
              0.4444444444444444,
              "#bd3786"
             ],
             [
              0.5555555555555556,
              "#d8576b"
             ],
             [
              0.6666666666666666,
              "#ed7953"
             ],
             [
              0.7777777777777778,
              "#fb9f3a"
             ],
             [
              0.8888888888888888,
              "#fdca26"
             ],
             [
              1,
              "#f0f921"
             ]
            ],
            "type": "heatmap"
           }
          ],
          "histogram": [
           {
            "marker": {
             "pattern": {
              "fillmode": "overlay",
              "size": 10,
              "solidity": 0.2
             }
            },
            "type": "histogram"
           }
          ],
          "histogram2d": [
           {
            "colorbar": {
             "outlinewidth": 0,
             "ticks": ""
            },
            "colorscale": [
             [
              0,
              "#0d0887"
             ],
             [
              0.1111111111111111,
              "#46039f"
             ],
             [
              0.2222222222222222,
              "#7201a8"
             ],
             [
              0.3333333333333333,
              "#9c179e"
             ],
             [
              0.4444444444444444,
              "#bd3786"
             ],
             [
              0.5555555555555556,
              "#d8576b"
             ],
             [
              0.6666666666666666,
              "#ed7953"
             ],
             [
              0.7777777777777778,
              "#fb9f3a"
             ],
             [
              0.8888888888888888,
              "#fdca26"
             ],
             [
              1,
              "#f0f921"
             ]
            ],
            "type": "histogram2d"
           }
          ],
          "histogram2dcontour": [
           {
            "colorbar": {
             "outlinewidth": 0,
             "ticks": ""
            },
            "colorscale": [
             [
              0,
              "#0d0887"
             ],
             [
              0.1111111111111111,
              "#46039f"
             ],
             [
              0.2222222222222222,
              "#7201a8"
             ],
             [
              0.3333333333333333,
              "#9c179e"
             ],
             [
              0.4444444444444444,
              "#bd3786"
             ],
             [
              0.5555555555555556,
              "#d8576b"
             ],
             [
              0.6666666666666666,
              "#ed7953"
             ],
             [
              0.7777777777777778,
              "#fb9f3a"
             ],
             [
              0.8888888888888888,
              "#fdca26"
             ],
             [
              1,
              "#f0f921"
             ]
            ],
            "type": "histogram2dcontour"
           }
          ],
          "mesh3d": [
           {
            "colorbar": {
             "outlinewidth": 0,
             "ticks": ""
            },
            "type": "mesh3d"
           }
          ],
          "parcoords": [
           {
            "line": {
             "colorbar": {
              "outlinewidth": 0,
              "ticks": ""
             }
            },
            "type": "parcoords"
           }
          ],
          "pie": [
           {
            "automargin": true,
            "type": "pie"
           }
          ],
          "scatter": [
           {
            "fillpattern": {
             "fillmode": "overlay",
             "size": 10,
             "solidity": 0.2
            },
            "type": "scatter"
           }
          ],
          "scatter3d": [
           {
            "line": {
             "colorbar": {
              "outlinewidth": 0,
              "ticks": ""
             }
            },
            "marker": {
             "colorbar": {
              "outlinewidth": 0,
              "ticks": ""
             }
            },
            "type": "scatter3d"
           }
          ],
          "scattercarpet": [
           {
            "marker": {
             "colorbar": {
              "outlinewidth": 0,
              "ticks": ""
             }
            },
            "type": "scattercarpet"
           }
          ],
          "scattergeo": [
           {
            "marker": {
             "colorbar": {
              "outlinewidth": 0,
              "ticks": ""
             }
            },
            "type": "scattergeo"
           }
          ],
          "scattergl": [
           {
            "marker": {
             "colorbar": {
              "outlinewidth": 0,
              "ticks": ""
             }
            },
            "type": "scattergl"
           }
          ],
          "scattermap": [
           {
            "marker": {
             "colorbar": {
              "outlinewidth": 0,
              "ticks": ""
             }
            },
            "type": "scattermap"
           }
          ],
          "scattermapbox": [
           {
            "marker": {
             "colorbar": {
              "outlinewidth": 0,
              "ticks": ""
             }
            },
            "type": "scattermapbox"
           }
          ],
          "scatterpolar": [
           {
            "marker": {
             "colorbar": {
              "outlinewidth": 0,
              "ticks": ""
             }
            },
            "type": "scatterpolar"
           }
          ],
          "scatterpolargl": [
           {
            "marker": {
             "colorbar": {
              "outlinewidth": 0,
              "ticks": ""
             }
            },
            "type": "scatterpolargl"
           }
          ],
          "scatterternary": [
           {
            "marker": {
             "colorbar": {
              "outlinewidth": 0,
              "ticks": ""
             }
            },
            "type": "scatterternary"
           }
          ],
          "surface": [
           {
            "colorbar": {
             "outlinewidth": 0,
             "ticks": ""
            },
            "colorscale": [
             [
              0,
              "#0d0887"
             ],
             [
              0.1111111111111111,
              "#46039f"
             ],
             [
              0.2222222222222222,
              "#7201a8"
             ],
             [
              0.3333333333333333,
              "#9c179e"
             ],
             [
              0.4444444444444444,
              "#bd3786"
             ],
             [
              0.5555555555555556,
              "#d8576b"
             ],
             [
              0.6666666666666666,
              "#ed7953"
             ],
             [
              0.7777777777777778,
              "#fb9f3a"
             ],
             [
              0.8888888888888888,
              "#fdca26"
             ],
             [
              1,
              "#f0f921"
             ]
            ],
            "type": "surface"
           }
          ],
          "table": [
           {
            "cells": {
             "fill": {
              "color": "#EBF0F8"
             },
             "line": {
              "color": "white"
             }
            },
            "header": {
             "fill": {
              "color": "#C8D4E3"
             },
             "line": {
              "color": "white"
             }
            },
            "type": "table"
           }
          ]
         },
         "layout": {
          "annotationdefaults": {
           "arrowcolor": "#2a3f5f",
           "arrowhead": 0,
           "arrowwidth": 1
          },
          "autotypenumbers": "strict",
          "coloraxis": {
           "colorbar": {
            "outlinewidth": 0,
            "ticks": ""
           }
          },
          "colorscale": {
           "diverging": [
            [
             0,
             "#8e0152"
            ],
            [
             0.1,
             "#c51b7d"
            ],
            [
             0.2,
             "#de77ae"
            ],
            [
             0.3,
             "#f1b6da"
            ],
            [
             0.4,
             "#fde0ef"
            ],
            [
             0.5,
             "#f7f7f7"
            ],
            [
             0.6,
             "#e6f5d0"
            ],
            [
             0.7,
             "#b8e186"
            ],
            [
             0.8,
             "#7fbc41"
            ],
            [
             0.9,
             "#4d9221"
            ],
            [
             1,
             "#276419"
            ]
           ],
           "sequential": [
            [
             0,
             "#0d0887"
            ],
            [
             0.1111111111111111,
             "#46039f"
            ],
            [
             0.2222222222222222,
             "#7201a8"
            ],
            [
             0.3333333333333333,
             "#9c179e"
            ],
            [
             0.4444444444444444,
             "#bd3786"
            ],
            [
             0.5555555555555556,
             "#d8576b"
            ],
            [
             0.6666666666666666,
             "#ed7953"
            ],
            [
             0.7777777777777778,
             "#fb9f3a"
            ],
            [
             0.8888888888888888,
             "#fdca26"
            ],
            [
             1,
             "#f0f921"
            ]
           ],
           "sequentialminus": [
            [
             0,
             "#0d0887"
            ],
            [
             0.1111111111111111,
             "#46039f"
            ],
            [
             0.2222222222222222,
             "#7201a8"
            ],
            [
             0.3333333333333333,
             "#9c179e"
            ],
            [
             0.4444444444444444,
             "#bd3786"
            ],
            [
             0.5555555555555556,
             "#d8576b"
            ],
            [
             0.6666666666666666,
             "#ed7953"
            ],
            [
             0.7777777777777778,
             "#fb9f3a"
            ],
            [
             0.8888888888888888,
             "#fdca26"
            ],
            [
             1,
             "#f0f921"
            ]
           ]
          },
          "colorway": [
           "#636efa",
           "#EF553B",
           "#00cc96",
           "#ab63fa",
           "#FFA15A",
           "#19d3f3",
           "#FF6692",
           "#B6E880",
           "#FF97FF",
           "#FECB52"
          ],
          "font": {
           "color": "#2a3f5f"
          },
          "geo": {
           "bgcolor": "white",
           "lakecolor": "white",
           "landcolor": "#E5ECF6",
           "showlakes": true,
           "showland": true,
           "subunitcolor": "white"
          },
          "hoverlabel": {
           "align": "left"
          },
          "hovermode": "closest",
          "mapbox": {
           "style": "light"
          },
          "paper_bgcolor": "white",
          "plot_bgcolor": "#E5ECF6",
          "polar": {
           "angularaxis": {
            "gridcolor": "white",
            "linecolor": "white",
            "ticks": ""
           },
           "bgcolor": "#E5ECF6",
           "radialaxis": {
            "gridcolor": "white",
            "linecolor": "white",
            "ticks": ""
           }
          },
          "scene": {
           "xaxis": {
            "backgroundcolor": "#E5ECF6",
            "gridcolor": "white",
            "gridwidth": 2,
            "linecolor": "white",
            "showbackground": true,
            "ticks": "",
            "zerolinecolor": "white"
           },
           "yaxis": {
            "backgroundcolor": "#E5ECF6",
            "gridcolor": "white",
            "gridwidth": 2,
            "linecolor": "white",
            "showbackground": true,
            "ticks": "",
            "zerolinecolor": "white"
           },
           "zaxis": {
            "backgroundcolor": "#E5ECF6",
            "gridcolor": "white",
            "gridwidth": 2,
            "linecolor": "white",
            "showbackground": true,
            "ticks": "",
            "zerolinecolor": "white"
           }
          },
          "shapedefaults": {
           "line": {
            "color": "#2a3f5f"
           }
          },
          "ternary": {
           "aaxis": {
            "gridcolor": "white",
            "linecolor": "white",
            "ticks": ""
           },
           "baxis": {
            "gridcolor": "white",
            "linecolor": "white",
            "ticks": ""
           },
           "bgcolor": "#E5ECF6",
           "caxis": {
            "gridcolor": "white",
            "linecolor": "white",
            "ticks": ""
           }
          },
          "title": {
           "x": 0.05
          },
          "xaxis": {
           "automargin": true,
           "gridcolor": "white",
           "linecolor": "white",
           "ticks": "",
           "title": {
            "standoff": 15
           },
           "zerolinecolor": "white",
           "zerolinewidth": 2
          },
          "yaxis": {
           "automargin": true,
           "gridcolor": "white",
           "linecolor": "white",
           "ticks": "",
           "title": {
            "standoff": 15
           },
           "zerolinecolor": "white",
           "zerolinewidth": 2
          }
         }
        },
        "xaxis": {
         "anchor": "y",
         "domain": [
          0,
          1
         ],
         "title": {
          "text": "Nível de escolaridade mais elevado completo"
         }
        },
        "yaxis": {
         "anchor": "x",
         "domain": [
          0,
          1
         ],
         "showgrid": false,
         "showticklabels": false,
         "title": {
          "text": "y"
         }
        }
       }
      }
     },
     "metadata": {},
     "output_type": "display_data"
    },
    {
     "name": "stdout",
     "output_type": "stream",
     "text": [
      "nivel_maximo_escolaridade\n",
      "0    275\n",
      "1     30\n",
      "2      3\n",
      "Name: count, dtype: int64\n",
      "File saved to csv_files/1_Nível de Escolaridade Máxima.csv\n"
     ]
    }
   ],
   "source": [
    "clustered_df = aplicar_kmeans(only_municipalities_df,3,nome_cluster='nivel_maximo_escolaridade')\n",
    "\n",
    "save_clustered_df_to_csv(clustered_df,\"csv_files/\", \"1_Nível de Escolaridade Máxima.csv\")"
   ]
  }
 ],
 "metadata": {
  "kernelspec": {
   "display_name": "ade_venv",
   "language": "python",
   "name": "python3"
  },
  "language_info": {
   "codemirror_mode": {
    "name": "ipython",
    "version": 3
   },
   "file_extension": ".py",
   "mimetype": "text/x-python",
   "name": "python",
   "nbconvert_exporter": "python",
   "pygments_lexer": "ipython3",
   "version": "3.13.0"
  }
 },
 "nbformat": 4,
 "nbformat_minor": 5
}
