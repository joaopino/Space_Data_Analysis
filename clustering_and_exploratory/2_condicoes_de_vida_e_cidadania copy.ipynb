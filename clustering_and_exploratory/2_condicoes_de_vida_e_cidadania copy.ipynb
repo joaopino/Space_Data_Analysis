{
 "cells": [
  {
   "cell_type": "markdown",
   "id": "27b50d18",
   "metadata": {},
   "source": [
    "# Análise das Condições e Vida e Cidadania"
   ]
  },
  {
   "cell_type": "markdown",
   "id": "327805dd",
   "metadata": {},
   "source": [
    "### Initial Setup"
   ]
  },
  {
   "cell_type": "code",
   "execution_count": 1,
   "id": "b6ecba96",
   "metadata": {},
   "outputs": [],
   "source": [
    "\n",
    "from auxiliary_funcs import processar_ficheiro,carregar_municipios,aplicar_kmeans,elbow_rule, save_clustered_df_to_csv\n",
    "data_path ='../data/dados_municipio/Condições de vida e cidadania (7)/'"
   ]
  },
  {
   "cell_type": "markdown",
   "id": "aac87fe1",
   "metadata": {},
   "source": [
    "## Clusterings and Analysis"
   ]
  },
  {
   "cell_type": "markdown",
   "id": "16aa5074",
   "metadata": {},
   "source": [
    "### Poder de compra per capita"
   ]
  },
  {
   "cell_type": "code",
   "execution_count": 2,
   "id": "6e0c99cf",
   "metadata": {},
   "outputs": [
    {
     "data": {
      "text/html": [
       "<div>\n",
       "<style scoped>\n",
       "    .dataframe tbody tr th:only-of-type {\n",
       "        vertical-align: middle;\n",
       "    }\n",
       "\n",
       "    .dataframe tbody tr th {\n",
       "        vertical-align: top;\n",
       "    }\n",
       "\n",
       "    .dataframe thead th {\n",
       "        text-align: right;\n",
       "    }\n",
       "</style>\n",
       "<table border=\"1\" class=\"dataframe\">\n",
       "  <thead>\n",
       "    <tr style=\"text-align: right;\">\n",
       "      <th></th>\n",
       "      <th>local</th>\n",
       "      <th>codigo</th>\n",
       "      <th>Poder de compra per capita</th>\n",
       "    </tr>\n",
       "  </thead>\n",
       "  <tbody>\n",
       "    <tr>\n",
       "      <th>4</th>\n",
       "      <td>Arcos de Valdevez</td>\n",
       "      <td>1111601</td>\n",
       "      <td>72.79</td>\n",
       "    </tr>\n",
       "    <tr>\n",
       "      <th>5</th>\n",
       "      <td>Caminha</td>\n",
       "      <td>1111602</td>\n",
       "      <td>86.45</td>\n",
       "    </tr>\n",
       "    <tr>\n",
       "      <th>6</th>\n",
       "      <td>Melgaço</td>\n",
       "      <td>1111603</td>\n",
       "      <td>64.01</td>\n",
       "    </tr>\n",
       "    <tr>\n",
       "      <th>7</th>\n",
       "      <td>Monção</td>\n",
       "      <td>1111604</td>\n",
       "      <td>75.06</td>\n",
       "    </tr>\n",
       "    <tr>\n",
       "      <th>8</th>\n",
       "      <td>Paredes de Coura</td>\n",
       "      <td>1111605</td>\n",
       "      <td>69.37</td>\n",
       "    </tr>\n",
       "    <tr>\n",
       "      <th>...</th>\n",
       "      <td>...</td>\n",
       "      <td>...</td>\n",
       "      <td>...</td>\n",
       "    </tr>\n",
       "    <tr>\n",
       "      <th>339</th>\n",
       "      <td>Porto Santo</td>\n",
       "      <td>3003201</td>\n",
       "      <td>97.51</td>\n",
       "    </tr>\n",
       "    <tr>\n",
       "      <th>340</th>\n",
       "      <td>Ribeira Brava</td>\n",
       "      <td>3003107</td>\n",
       "      <td>68.16</td>\n",
       "    </tr>\n",
       "    <tr>\n",
       "      <th>341</th>\n",
       "      <td>Santa Cruz</td>\n",
       "      <td>3003108</td>\n",
       "      <td>76.10</td>\n",
       "    </tr>\n",
       "    <tr>\n",
       "      <th>342</th>\n",
       "      <td>Santana</td>\n",
       "      <td>3003109</td>\n",
       "      <td>64.64</td>\n",
       "    </tr>\n",
       "    <tr>\n",
       "      <th>343</th>\n",
       "      <td>São Vicente</td>\n",
       "      <td>3003110</td>\n",
       "      <td>66.08</td>\n",
       "    </tr>\n",
       "  </tbody>\n",
       "</table>\n",
       "<p>308 rows × 3 columns</p>\n",
       "</div>"
      ],
      "text/plain": [
       "                 local   codigo  Poder de compra per capita\n",
       "4    Arcos de Valdevez  1111601                       72.79\n",
       "5              Caminha  1111602                       86.45\n",
       "6              Melgaço  1111603                       64.01\n",
       "7               Monção  1111604                       75.06\n",
       "8     Paredes de Coura  1111605                       69.37\n",
       "..                 ...      ...                         ...\n",
       "339        Porto Santo  3003201                       97.51\n",
       "340      Ribeira Brava  3003107                       68.16\n",
       "341         Santa Cruz  3003108                       76.10\n",
       "342            Santana  3003109                       64.64\n",
       "343        São Vicente  3003110                       66.08\n",
       "\n",
       "[308 rows x 3 columns]"
      ]
     },
     "execution_count": 2,
     "metadata": {},
     "output_type": "execute_result"
    }
   ],
   "source": [
    "original_df = processar_ficheiro(data_path+'Poder de compra per capita.xls',0,padding_left=0)\n",
    "only_municipalities_df = carregar_municipios(original_df)\n",
    "only_municipalities_df\n"
   ]
  },
  {
   "cell_type": "code",
   "execution_count": 3,
   "id": "3fe0728e",
   "metadata": {},
   "outputs": [
    {
     "data": {
      "application/vnd.plotly.v1+json": {
       "config": {
        "plotlyServerURL": "https://plot.ly"
       },
       "data": [
        {
         "customdata": [
          [
           "Arcos de Valdevez",
           "1111601",
           72.79
          ],
          [
           "Caminha",
           "1111602",
           86.45
          ],
          [
           "Melgaço",
           "1111603",
           64.01
          ],
          [
           "Monção",
           "1111604",
           75.06
          ],
          [
           "Paredes de Coura",
           "1111605",
           69.37
          ],
          [
           "Ponte da Barca",
           "1111606",
           67.15
          ],
          [
           "Ponte de Lima",
           "1111607",
           76.66
          ],
          [
           "Valença",
           "1111608",
           84.82
          ],
          [
           "Viana do Castelo",
           "1111609",
           92.08
          ],
          [
           "Vila Nova de Cerveira",
           "1111610",
           84.89
          ],
          [
           "Amares",
           "1120301",
           74.01
          ],
          [
           "Barcelos",
           "1120302",
           81.63
          ],
          [
           "Braga",
           "1120303",
           105.39
          ],
          [
           "Esposende",
           "1120306",
           86.82
          ],
          [
           "Terras de Bouro",
           "1120310",
           67.12
          ],
          [
           "Vila Verde",
           "1120313",
           74.23
          ],
          [
           "Cabeceiras de Basto",
           "1190304",
           69.02
          ],
          [
           "Fafe",
           "1190307",
           76.86
          ],
          [
           "Guimarães",
           "1190308",
           89.31
          ],
          [
           "Mondim de Basto",
           "1191705",
           64.63
          ],
          [
           "Póvoa de Lanhoso",
           "1190309",
           71.95
          ],
          [
           "Vieira do Minho",
           "1190311",
           67.5
          ],
          [
           "Vila Nova de Famalicão",
           "1190312",
           92.12
          ],
          [
           "Vizela",
           "1190314",
           81.44
          ],
          [
           "Arouca",
           "11A0104",
           74.31
          ],
          [
           "Espinho",
           "11A0107",
           95.89
          ],
          [
           "Gondomar",
           "11A1304",
           85.87
          ],
          [
           "Maia",
           "11A1306",
           108.68
          ],
          [
           "Matosinhos",
           "11A1308",
           118.06
          ],
          [
           "Oliveira de Azeméis",
           "11A0113",
           84.46
          ],
          [
           "Paredes",
           "11A1310",
           79.33
          ],
          [
           "Porto",
           "11A1312",
           147.63
          ],
          [
           "Póvoa de Varzim",
           "11A1313",
           94.48
          ],
          [
           "Santa Maria da Feira",
           "11A0109",
           88.4
          ],
          [
           "Santo Tirso",
           "11A1314",
           84.83
          ],
          [
           "São João da Madeira",
           "11A0116",
           116.73
          ],
          [
           "Trofa",
           "11A1318",
           93.07
          ],
          [
           "Vale de Cambra",
           "11A0119",
           87.83
          ],
          [
           "Valongo",
           "11A1315",
           92.74
          ],
          [
           "Vila do Conde",
           "11A1316",
           93.59
          ],
          [
           "Vila Nova de Gaia",
           "11A1317",
           100.98
          ],
          [
           "Boticas",
           "11B1702",
           65.8
          ],
          [
           "Chaves",
           "11B1703",
           82.47
          ],
          [
           "Montalegre",
           "11B1706",
           65.06
          ],
          [
           "Ribeira de Pena",
           "11B1709",
           65.78
          ],
          [
           "Valpaços",
           "11B1712",
           63.94
          ],
          [
           "Vila Pouca de Aguiar",
           "11B1713",
           70.25
          ],
          [
           "Amarante",
           "11C1301",
           75.34
          ],
          [
           "Baião",
           "11C1302",
           62.73
          ],
          [
           "Castelo de Paiva",
           "11C0106",
           70.62
          ],
          [
           "Celorico de Basto",
           "11C0305",
           63.27
          ],
          [
           "Cinfães",
           "11C1804",
           64.13
          ],
          [
           "Felgueiras",
           "11C1303",
           81.21
          ],
          [
           "Lousada",
           "11C1305",
           74.56
          ],
          [
           "Marco de Canaveses",
           "11C1307",
           75.5
          ],
          [
           "Paços de Ferreira",
           "11C1309",
           82.37
          ],
          [
           "Penafiel",
           "11C1311",
           80.36
          ],
          [
           "Resende",
           "11C1813",
           65.68
          ],
          [
           "Alijó",
           "11D1701",
           65.27
          ],
          [
           "Armamar",
           "11D1801",
           71.17
          ],
          [
           "Carrazeda de Ansiães",
           "11D0403",
           67.92
          ],
          [
           "Freixo de Espada à Cinta",
           "11D0404",
           68.26
          ],
          [
           "Lamego",
           "11D1805",
           83.6
          ],
          [
           "Mesão Frio",
           "11D1704",
           69.09
          ],
          [
           "Moimenta da Beira",
           "11D1807",
           72.76
          ],
          [
           "Murça",
           "11D1707",
           65.25
          ],
          [
           "Penedono",
           "11D1812",
           66.11
          ],
          [
           "Peso da Régua",
           "11D1708",
           84.76
          ],
          [
           "Sabrosa",
           "11D1710",
           67.4
          ],
          [
           "Santa Marta de Penaguião",
           "11D1711",
           64.39
          ],
          [
           "São João da Pesqueira",
           "11D1815",
           69.22
          ],
          [
           "Sernancelhe",
           "11D1818",
           64.26
          ],
          [
           "Tabuaço",
           "11D1819",
           64.11
          ],
          [
           "Tarouca",
           "11D1820",
           70.23
          ],
          [
           "Torre de Moncorvo",
           "11D0409",
           68.8
          ],
          [
           "Vila Nova de Foz Côa",
           "11D0914",
           71.96
          ],
          [
           "Vila Real",
           "11D1714",
           99.07
          ],
          [
           "Alfândega da Fé",
           "11E0401",
           68.27
          ],
          [
           "Bragança",
           "11E0402",
           95.89
          ],
          [
           "Macedo de Cavaleiros",
           "11E0405",
           76.79
          ],
          [
           "Miranda do Douro",
           "11E0406",
           75.24
          ],
          [
           "Mirandela",
           "11E0407",
           85.07
          ],
          [
           "Mogadouro",
           "11E0408",
           70.47
          ],
          [
           "Vila Flor",
           "11E0410",
           65.9
          ],
          [
           "Vimioso",
           "11E0411",
           63.16
          ],
          [
           "Vinhais",
           "11E0412",
           61.86
          ],
          [
           "Alcobaça",
           "16B1001",
           86.34
          ],
          [
           "Alenquer",
           "16B1101",
           88.75
          ],
          [
           "Arruda dos Vinhos",
           "16B1102",
           103.15
          ],
          [
           "Bombarral",
           "16B1005",
           85.27
          ],
          [
           "Cadaval",
           "16B1104",
           76.03
          ],
          [
           "Caldas da Rainha",
           "16B1006",
           98.79
          ],
          [
           "Lourinhã",
           "16B1108",
           85.34
          ],
          [
           "Nazaré",
           "16B1011",
           88.09
          ],
          [
           "Óbidos",
           "16B1012",
           81.32
          ],
          [
           "Peniche",
           "16B1014",
           87.72
          ],
          [
           "Sobral de Monte Agraço",
           "16B1112",
           85.81
          ],
          [
           "Torres Vedras",
           "16B1113",
           93.76
          ],
          [
           "Águeda",
           "16D0101",
           87.86
          ],
          [
           "Albergaria-a-Velha",
           "16D0102",
           85.42
          ],
          [
           "Anadia",
           "16D0103",
           81.99
          ],
          [
           "Aveiro",
           "16D0105",
           119.68
          ],
          [
           "Estarreja",
           "16D0108",
           86.21
          ],
          [
           "Ílhavo",
           "16D0110",
           87.92
          ],
          [
           "Murtosa",
           "16D0112",
           73.11
          ],
          [
           "Oliveira do Bairro",
           "16D0114",
           85.53
          ],
          [
           "Ovar",
           "16D0115",
           89.06
          ],
          [
           "Sever do Vouga",
           "16D0117",
           80.42
          ],
          [
           "Vagos",
           "16D0118",
           79.48
          ],
          [
           "Arganil",
           "16E0601",
           72.07
          ],
          [
           "Cantanhede",
           "16E0602",
           84.39
          ],
          [
           "Coimbra",
           "16E0603",
           119.76
          ],
          [
           "Condeixa-a-Nova",
           "16E0604",
           84.1
          ],
          [
           "Figueira da Foz",
           "16E0605",
           94.79
          ],
          [
           "Góis",
           "16E0606",
           68.33
          ],
          [
           "Lousã",
           "16E0607",
           84.39
          ],
          [
           "Mealhada",
           "16E0111",
           88.79
          ],
          [
           "Mira",
           "16E0608",
           77.08
          ],
          [
           "Miranda do Corvo",
           "16E0609",
           73.71
          ],
          [
           "Montemor-o-Velho",
           "16E0610",
           75.57
          ],
          [
           "Mortágua",
           "16E1808",
           80.18
          ],
          [
           "Oliveira do Hospital",
           "16E0611",
           75.1
          ],
          [
           "Pampilhosa da Serra",
           "16E0612",
           64.95
          ],
          [
           "Penacova",
           "16E0613",
           69.71
          ],
          [
           "Penela",
           "16E0614",
           77.5
          ],
          [
           "Soure",
           "16E0615",
           74.6
          ],
          [
           "Tábua",
           "16E0616",
           73.78
          ],
          [
           "Vila Nova de Poiares",
           "16E0617",
           77.8
          ],
          [
           "Alvaiázere",
           "16F1002",
           72.72
          ],
          [
           "Ansião",
           "16F1003",
           76.15
          ],
          [
           "Batalha",
           "16F1004",
           89.31
          ],
          [
           "Castanheira de Pêra",
           "16F1007",
           72.54
          ],
          [
           "Figueiró dos Vinhos",
           "16F1008",
           71.5
          ],
          [
           "Leiria",
           "16F1009",
           105.73
          ],
          [
           "Marinha Grande",
           "16F1010",
           92.69
          ],
          [
           "Pedrógão Grande",
           "16F1013",
           69.67
          ],
          [
           "Pombal",
           "16F1015",
           85.22
          ],
          [
           "Porto de Mós",
           "16F1016",
           82.41
          ],
          [
           "Aguiar da Beira",
           "16G0901",
           70.54
          ],
          [
           "Carregal do Sal",
           "16G1802",
           72.87
          ],
          [
           "Castro Daire",
           "16G1803",
           67.82
          ],
          [
           "Mangualde",
           "16G1806",
           85.37
          ],
          [
           "Nelas",
           "16G1809",
           79.33
          ],
          [
           "Oliveira de Frades",
           "16G1810",
           81.1
          ],
          [
           "Penalva do Castelo",
           "16G1811",
           65.75
          ],
          [
           "Santa Comba Dão",
           "16G1814",
           74.95
          ],
          [
           "São Pedro do Sul",
           "16G1816",
           73.71
          ],
          [
           "Sátão",
           "16G1817",
           70.36
          ],
          [
           "Tondela",
           "16G1821",
           79.77
          ],
          [
           "Vila Nova de Paiva",
           "16G1822",
           66.86
          ],
          [
           "Viseu",
           "16G1823",
           96.78
          ],
          [
           "Vouzela",
           "16G1824",
           68.94
          ],
          [
           "Castelo Branco",
           "16H0502",
           96.2
          ],
          [
           "Idanha-a-Nova",
           "16H0505",
           68.47
          ],
          [
           "Oleiros",
           "16H0506",
           66.59
          ],
          [
           "Penamacor",
           "16H0507",
           61.24
          ],
          [
           "Proença-a-Nova",
           "16H0508",
           74.77
          ],
          [
           "Vila Velha de Ródão",
           "16H0511",
           73.93
          ],
          [
           "Abrantes",
           "16I1401",
           88.48
          ],
          [
           "Alcanena",
           "16I1402",
           85.27
          ],
          [
           "Constância",
           "16I1408",
           84.96
          ],
          [
           "Entroncamento",
           "16I1410",
           99.08
          ],
          [
           "Ferreira do Zêzere",
           "16I1411",
           74.06
          ],
          [
           "Mação",
           "16I1413",
           71.47
          ],
          [
           "Ourém",
           "16I1421",
           86.61
          ],
          [
           "Sardoal",
           "16I1417",
           74.31
          ],
          [
           "Sertã",
           "16I0509",
           76.34
          ],
          [
           "Tomar",
           "16I1418",
           88.84
          ],
          [
           "Torres Novas",
           "16I1419",
           94.95
          ],
          [
           "Vila de Rei",
           "16I0510",
           67.42
          ],
          [
           "Vila Nova da Barquinha",
           "16I1420",
           77.18
          ],
          [
           "Almeida",
           "16J0902",
           72.86
          ],
          [
           "Belmonte",
           "16J0501",
           74.39
          ],
          [
           "Celorico da Beira",
           "16J0903",
           71.13
          ],
          [
           "Covilhã",
           "16J0503",
           86.9
          ],
          [
           "Figueira de Castelo Rodrigo",
           "16J0904",
           69.77
          ],
          [
           "Fornos de Algodres",
           "16J0905",
           64.69
          ],
          [
           "Fundão",
           "16J0504",
           79.83
          ],
          [
           "Gouveia",
           "16J0906",
           69.6
          ],
          [
           "Guarda",
           "16J0907",
           95.28
          ],
          [
           "Manteigas",
           "16J0908",
           71.56
          ],
          [
           "Mêda",
           "16J0909",
           68
          ],
          [
           "Pinhel",
           "16J0910",
           70.02
          ],
          [
           "Sabugal",
           "16J0911",
           64.06
          ],
          [
           "Seia",
           "16J0912",
           78.85
          ],
          [
           "Trancoso",
           "16J0913",
           71.35
          ],
          [
           "Alcochete",
           "1701502",
           118.86
          ],
          [
           "Almada",
           "1701503",
           104.49
          ],
          [
           "Amadora",
           "1701115",
           102.25
          ],
          [
           "Barreiro",
           "1701504",
           96.5
          ],
          [
           "Cascais",
           "1701105",
           121.83
          ],
          [
           "Lisboa",
           "1701106",
           186.34
          ],
          [
           "Loures",
           "1701107",
           102.3
          ],
          [
           "Mafra",
           "1701109",
           102.88
          ],
          [
           "Moita",
           "1701506",
           82.3
          ],
          [
           "Montijo",
           "1701507",
           102.53
          ],
          [
           "Odivelas",
           "1701116",
           94.74
          ],
          [
           "Oeiras",
           "1701110",
           165.5
          ],
          [
           "Palmela",
           "1701508",
           97.68
          ],
          [
           "Seixal",
           "1701510",
           95.99
          ],
          [
           "Sesimbra",
           "1701511",
           94.05
          ],
          [
           "Setúbal",
           "1701512",
           104.81
          ],
          [
           "Sintra",
           "1701111",
           97.85
          ],
          [
           "Vila Franca de Xira",
           "1701114",
           98.94
          ],
          [
           "Alcácer do Sal",
           "1811501",
           87.7
          ],
          [
           "Grândola",
           "1811505",
           95.38
          ],
          [
           "Odemira",
           "1810211",
           79.51
          ],
          [
           "Santiago do Cacém",
           "1811509",
           95.81
          ],
          [
           "Sines",
           "1811513",
           120.33
          ],
          [
           "Aljustrel",
           "1840201",
           84.21
          ],
          [
           "Almodôvar",
           "1840202",
           80.38
          ],
          [
           "Alvito",
           "1840203",
           72.37
          ],
          [
           "Barrancos",
           "1840204",
           67.19
          ],
          [
           "Beja",
           "1840205",
           101.74
          ],
          [
           "Castro Verde",
           "1840206",
           103.48
          ],
          [
           "Cuba",
           "1840207",
           73.66
          ],
          [
           "Ferreira do Alentejo",
           "1840208",
           74.93
          ],
          [
           "Mértola",
           "1840209",
           68.89
          ],
          [
           "Moura",
           "1840210",
           75.97
          ],
          [
           "Ourique",
           "1840212",
           75.6
          ],
          [
           "Serpa",
           "1840213",
           74.42
          ],
          [
           "Vidigueira",
           "1840214",
           79.42
          ],
          [
           "Almeirim",
           "1851403",
           88.28
          ],
          [
           "Alpiarça",
           "1851404",
           81.27
          ],
          [
           "Azambuja",
           "1851103",
           111.05
          ],
          [
           "Benavente",
           "1851405",
           96.67
          ],
          [
           "Cartaxo",
           "1851406",
           90.17
          ],
          [
           "Chamusca",
           "1851407",
           74.54
          ],
          [
           "Coruche",
           "1851409",
           78.02
          ],
          [
           "Golegã",
           "1851412",
           84.11
          ],
          [
           "Rio Maior",
           "1851414",
           89.83
          ],
          [
           "Salvaterra de Magos",
           "1851415",
           81.18
          ],
          [
           "Santarém",
           "1851416",
           99.48
          ],
          [
           "Alter do Chão",
           "1861201",
           73.57
          ],
          [
           "Arronches",
           "1861202",
           75.87
          ],
          [
           "Avis",
           "1861203",
           78.56
          ],
          [
           "Campo Maior",
           "1861204",
           90.58
          ],
          [
           "Castelo de Vide",
           "1861205",
           79.39
          ],
          [
           "Crato",
           "1861206",
           73.69
          ],
          [
           "Elvas",
           "1861207",
           90.03
          ],
          [
           "Fronteira",
           "1861208",
           76.22
          ],
          [
           "Gavião",
           "1861209",
           70.87
          ],
          [
           "Marvão",
           "1861210",
           69.31
          ],
          [
           "Monforte",
           "1861211",
           71.58
          ],
          [
           "Nisa",
           "1861212",
           76.37
          ],
          [
           "Ponte de Sor",
           "1861213",
           83.87
          ],
          [
           "Portalegre",
           "1861214",
           98.54
          ],
          [
           "Sousel",
           "1861215",
           72.89
          ],
          [
           "Alandroal",
           "1870701",
           69.78
          ],
          [
           "Arraiolos",
           "1870702",
           77.1
          ],
          [
           "Borba",
           "1870703",
           75.84
          ],
          [
           "Estremoz",
           "1870704",
           95.72
          ],
          [
           "Évora",
           "1870705",
           111.98
          ],
          [
           "Montemor-o-Novo",
           "1870706",
           88.63
          ],
          [
           "Mora",
           "1870707",
           80.19
          ],
          [
           "Mourão",
           "1870708",
           71.15
          ],
          [
           "Portel",
           "1870709",
           68.16
          ],
          [
           "Redondo",
           "1870710",
           74.11
          ],
          [
           "Reguengos de Monsaraz",
           "1870711",
           90.92
          ],
          [
           "Vendas Novas",
           "1870712",
           93.11
          ],
          [
           "Viana do Alentejo",
           "1870713",
           78.83
          ],
          [
           "Vila Viçosa",
           "1870714",
           82.79
          ],
          [
           "Albufeira",
           "1500801",
           107.03
          ],
          [
           "Alcoutim",
           "1500802",
           70.99
          ],
          [
           "Aljezur",
           "1500803",
           71.57
          ],
          [
           "Castro Marim",
           "1500804",
           81.16
          ],
          [
           "Faro",
           "1500805",
           116.01
          ],
          [
           "Lagoa",
           "1500806",
           91.4
          ],
          [
           "Lagos",
           "1500807",
           94.37
          ],
          [
           "Loulé",
           "1500808",
           115.41
          ],
          [
           "Monchique",
           "1500809",
           65.71
          ],
          [
           "Olhão",
           "1500810",
           84.47
          ],
          [
           "Portimão",
           "1500811",
           102.11
          ],
          [
           "São Brás de Alportel",
           "1500812",
           90.17
          ],
          [
           "Silves",
           "1500813",
           83.81
          ],
          [
           "Tavira",
           "1500814",
           93.74
          ],
          [
           "Vila do Bispo",
           "1500815",
           67.19
          ],
          [
           "Vila Real de Santo António",
           "1500816",
           93.83
          ],
          [
           "Angra do Heroísmo",
           "2004301",
           94.76
          ],
          [
           "Calheta",
           "2004501",
           72.34
          ],
          [
           "Corvo",
           "2004901",
           75.7
          ],
          [
           "Horta",
           "2004701",
           88.67
          ],
          [
           "Lagoa",
           "2004201",
           76.91
          ],
          [
           "Lajes das Flores",
           "2004801",
           82.57
          ],
          [
           "Lajes do Pico",
           "2004601",
           70.63
          ],
          [
           "Madalena",
           "2004602",
           84.76
          ],
          [
           "Nordeste",
           "2004202",
           63.9
          ],
          [
           "Ponta Delgada",
           "2004203",
           102.58
          ],
          [
           "Povoação",
           "2004204",
           67.05
          ],
          [
           "Ribeira Grande",
           "2004205",
           73.02
          ],
          [
           "Santa Cruz da Graciosa",
           "2004401",
           78.41
          ],
          [
           "Santa Cruz das Flores",
           "2004802",
           83.96
          ],
          [
           "São Roque do Pico",
           "2004603",
           80.25
          ],
          [
           "Velas",
           "2004502",
           87.75
          ],
          [
           "Vila da Praia da Vitória",
           "2004302",
           82.57
          ],
          [
           "Vila do Porto",
           "2004101",
           90.44
          ],
          [
           "Vila Franca do Campo",
           "2004206",
           70.64
          ],
          [
           "Calheta",
           "3003101",
           67.09
          ],
          [
           "Câmara de Lobos",
           "3003102",
           63.48
          ],
          [
           "Funchal",
           "3003103",
           109.59
          ],
          [
           "Machico",
           "3003104",
           77.02
          ],
          [
           "Ponta do Sol",
           "3003105",
           60.72
          ],
          [
           "Porto Moniz",
           "3003106",
           61.04
          ],
          [
           "Porto Santo",
           "3003201",
           97.51
          ],
          [
           "Ribeira Brava",
           "3003107",
           68.16
          ],
          [
           "Santa Cruz",
           "3003108",
           76.1
          ],
          [
           "Santana",
           "3003109",
           64.64
          ],
          [
           "São Vicente",
           "3003110",
           66.08
          ]
         ],
         "hovertemplate": "valor=%{x}<br>y=%{y}<br>local=%{customdata[0]}<br>codigo=%{customdata[1]}<br>Poder de compra per capita=%{customdata[2]}<br>poder_de_compra=%{marker.color}<extra></extra>",
         "legendgroup": "",
         "marker": {
          "color": {
           "bdata": "AAEAAAAAAAEBAQABAQEAAAAAAQAAAAEBAAEBAgIBAAIBAQECAQEBAQEAAQAAAAAAAAAAAAEAAAEAAAAAAAABAAAAAAEAAAAAAAAAAAEAAQAAAQAAAAABAQEBAAEBAQEBAQEBAQECAQEAAQEAAAABAgEBAAEBAAAAAAAAAAAAAAAAAAEAAAEBAAEBAAAAAQAAAAAAAAAAAQABAAAAAAABAQEBAAABAAABAQAAAAAAAQAAAAABAAAAAAAAAgEBAQICAQEBAQECAQEBAQEBAQEAAQIBAAAAAQEAAAAAAAAAAQECAQEAAAEBAAEAAAABAAABAAAAAAABAQAAAAABAgEAAAAAAQEAAQEAAAACAQECAAEBAQEBAAEBAAABAAEAAQABAAAAAQABAQEAAAACAAAAAQAAAAA=",
           "dtype": "i1"
          },
          "coloraxis": "coloraxis",
          "size": 10,
          "symbol": "circle"
         },
         "mode": "markers",
         "name": "",
         "orientation": "v",
         "showlegend": false,
         "type": "scatter",
         "x": {
          "bdata": "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",
          "dtype": "f8"
         },
         "xaxis": "x",
         "y": {
          "bdata": "AAAAAAAAAAAAAAAAAAAAAAAAAAAAAAAAAAAAAAAAAAAAAAAAAAAAAAAAAAAAAAAAAAAAAAAAAAAAAAAAAAAAAAAAAAAAAAAAAAAAAAAAAAAAAAAAAAAAAAAAAAAAAAAAAAAAAAAAAAAAAAAAAAAAAAAAAAAAAAAAAAAAAAAAAAAAAAAAAAAAAAAAAAAAAAAAAAAAAAAAAAAAAAAAAAAAAAAAAAAAAAAAAAAAAAAAAAAAAAAAAAAAAAAAAAAAAAAAAAAAAAAAAAAAAAAAAAAAAAAAAAAAAAAAAAAAAAAAAAAAAAAAAAAAAAAAAAAAAAAAAAAAAAAAAAAAAAAAAAAAAAAAAAAAAAAAAAAAAAAAAAAAAAAAAAAAAAAAAAAAAAAAAAAAAAAAAAAAAAAAAAAAAAAAAAA=",
          "dtype": "i1"
         },
         "yaxis": "y"
        }
       ],
       "layout": {
        "coloraxis": {
         "colorbar": {
          "title": {
           "text": "poder_de_compra"
          }
         },
         "colorscale": [
          [
           0,
           "#440154"
          ],
          [
           0.1111111111111111,
           "#482878"
          ],
          [
           0.2222222222222222,
           "#3e4989"
          ],
          [
           0.3333333333333333,
           "#31688e"
          ],
          [
           0.4444444444444444,
           "#26828e"
          ],
          [
           0.5555555555555556,
           "#1f9e89"
          ],
          [
           0.6666666666666666,
           "#35b779"
          ],
          [
           0.7777777777777778,
           "#6ece58"
          ],
          [
           0.8888888888888888,
           "#b5de2b"
          ],
          [
           1,
           "#fde725"
          ]
         ]
        },
        "height": 300,
        "legend": {
         "tracegroupgap": 0
        },
        "margin": {
         "t": 60
        },
        "template": {
         "data": {
          "bar": [
           {
            "error_x": {
             "color": "#2a3f5f"
            },
            "error_y": {
             "color": "#2a3f5f"
            },
            "marker": {
             "line": {
              "color": "#E5ECF6",
              "width": 0.5
             },
             "pattern": {
              "fillmode": "overlay",
              "size": 10,
              "solidity": 0.2
             }
            },
            "type": "bar"
           }
          ],
          "barpolar": [
           {
            "marker": {
             "line": {
              "color": "#E5ECF6",
              "width": 0.5
             },
             "pattern": {
              "fillmode": "overlay",
              "size": 10,
              "solidity": 0.2
             }
            },
            "type": "barpolar"
           }
          ],
          "carpet": [
           {
            "aaxis": {
             "endlinecolor": "#2a3f5f",
             "gridcolor": "white",
             "linecolor": "white",
             "minorgridcolor": "white",
             "startlinecolor": "#2a3f5f"
            },
            "baxis": {
             "endlinecolor": "#2a3f5f",
             "gridcolor": "white",
             "linecolor": "white",
             "minorgridcolor": "white",
             "startlinecolor": "#2a3f5f"
            },
            "type": "carpet"
           }
          ],
          "choropleth": [
           {
            "colorbar": {
             "outlinewidth": 0,
             "ticks": ""
            },
            "type": "choropleth"
           }
          ],
          "contour": [
           {
            "colorbar": {
             "outlinewidth": 0,
             "ticks": ""
            },
            "colorscale": [
             [
              0,
              "#0d0887"
             ],
             [
              0.1111111111111111,
              "#46039f"
             ],
             [
              0.2222222222222222,
              "#7201a8"
             ],
             [
              0.3333333333333333,
              "#9c179e"
             ],
             [
              0.4444444444444444,
              "#bd3786"
             ],
             [
              0.5555555555555556,
              "#d8576b"
             ],
             [
              0.6666666666666666,
              "#ed7953"
             ],
             [
              0.7777777777777778,
              "#fb9f3a"
             ],
             [
              0.8888888888888888,
              "#fdca26"
             ],
             [
              1,
              "#f0f921"
             ]
            ],
            "type": "contour"
           }
          ],
          "contourcarpet": [
           {
            "colorbar": {
             "outlinewidth": 0,
             "ticks": ""
            },
            "type": "contourcarpet"
           }
          ],
          "heatmap": [
           {
            "colorbar": {
             "outlinewidth": 0,
             "ticks": ""
            },
            "colorscale": [
             [
              0,
              "#0d0887"
             ],
             [
              0.1111111111111111,
              "#46039f"
             ],
             [
              0.2222222222222222,
              "#7201a8"
             ],
             [
              0.3333333333333333,
              "#9c179e"
             ],
             [
              0.4444444444444444,
              "#bd3786"
             ],
             [
              0.5555555555555556,
              "#d8576b"
             ],
             [
              0.6666666666666666,
              "#ed7953"
             ],
             [
              0.7777777777777778,
              "#fb9f3a"
             ],
             [
              0.8888888888888888,
              "#fdca26"
             ],
             [
              1,
              "#f0f921"
             ]
            ],
            "type": "heatmap"
           }
          ],
          "histogram": [
           {
            "marker": {
             "pattern": {
              "fillmode": "overlay",
              "size": 10,
              "solidity": 0.2
             }
            },
            "type": "histogram"
           }
          ],
          "histogram2d": [
           {
            "colorbar": {
             "outlinewidth": 0,
             "ticks": ""
            },
            "colorscale": [
             [
              0,
              "#0d0887"
             ],
             [
              0.1111111111111111,
              "#46039f"
             ],
             [
              0.2222222222222222,
              "#7201a8"
             ],
             [
              0.3333333333333333,
              "#9c179e"
             ],
             [
              0.4444444444444444,
              "#bd3786"
             ],
             [
              0.5555555555555556,
              "#d8576b"
             ],
             [
              0.6666666666666666,
              "#ed7953"
             ],
             [
              0.7777777777777778,
              "#fb9f3a"
             ],
             [
              0.8888888888888888,
              "#fdca26"
             ],
             [
              1,
              "#f0f921"
             ]
            ],
            "type": "histogram2d"
           }
          ],
          "histogram2dcontour": [
           {
            "colorbar": {
             "outlinewidth": 0,
             "ticks": ""
            },
            "colorscale": [
             [
              0,
              "#0d0887"
             ],
             [
              0.1111111111111111,
              "#46039f"
             ],
             [
              0.2222222222222222,
              "#7201a8"
             ],
             [
              0.3333333333333333,
              "#9c179e"
             ],
             [
              0.4444444444444444,
              "#bd3786"
             ],
             [
              0.5555555555555556,
              "#d8576b"
             ],
             [
              0.6666666666666666,
              "#ed7953"
             ],
             [
              0.7777777777777778,
              "#fb9f3a"
             ],
             [
              0.8888888888888888,
              "#fdca26"
             ],
             [
              1,
              "#f0f921"
             ]
            ],
            "type": "histogram2dcontour"
           }
          ],
          "mesh3d": [
           {
            "colorbar": {
             "outlinewidth": 0,
             "ticks": ""
            },
            "type": "mesh3d"
           }
          ],
          "parcoords": [
           {
            "line": {
             "colorbar": {
              "outlinewidth": 0,
              "ticks": ""
             }
            },
            "type": "parcoords"
           }
          ],
          "pie": [
           {
            "automargin": true,
            "type": "pie"
           }
          ],
          "scatter": [
           {
            "fillpattern": {
             "fillmode": "overlay",
             "size": 10,
             "solidity": 0.2
            },
            "type": "scatter"
           }
          ],
          "scatter3d": [
           {
            "line": {
             "colorbar": {
              "outlinewidth": 0,
              "ticks": ""
             }
            },
            "marker": {
             "colorbar": {
              "outlinewidth": 0,
              "ticks": ""
             }
            },
            "type": "scatter3d"
           }
          ],
          "scattercarpet": [
           {
            "marker": {
             "colorbar": {
              "outlinewidth": 0,
              "ticks": ""
             }
            },
            "type": "scattercarpet"
           }
          ],
          "scattergeo": [
           {
            "marker": {
             "colorbar": {
              "outlinewidth": 0,
              "ticks": ""
             }
            },
            "type": "scattergeo"
           }
          ],
          "scattergl": [
           {
            "marker": {
             "colorbar": {
              "outlinewidth": 0,
              "ticks": ""
             }
            },
            "type": "scattergl"
           }
          ],
          "scattermap": [
           {
            "marker": {
             "colorbar": {
              "outlinewidth": 0,
              "ticks": ""
             }
            },
            "type": "scattermap"
           }
          ],
          "scattermapbox": [
           {
            "marker": {
             "colorbar": {
              "outlinewidth": 0,
              "ticks": ""
             }
            },
            "type": "scattermapbox"
           }
          ],
          "scatterpolar": [
           {
            "marker": {
             "colorbar": {
              "outlinewidth": 0,
              "ticks": ""
             }
            },
            "type": "scatterpolar"
           }
          ],
          "scatterpolargl": [
           {
            "marker": {
             "colorbar": {
              "outlinewidth": 0,
              "ticks": ""
             }
            },
            "type": "scatterpolargl"
           }
          ],
          "scatterternary": [
           {
            "marker": {
             "colorbar": {
              "outlinewidth": 0,
              "ticks": ""
             }
            },
            "type": "scatterternary"
           }
          ],
          "surface": [
           {
            "colorbar": {
             "outlinewidth": 0,
             "ticks": ""
            },
            "colorscale": [
             [
              0,
              "#0d0887"
             ],
             [
              0.1111111111111111,
              "#46039f"
             ],
             [
              0.2222222222222222,
              "#7201a8"
             ],
             [
              0.3333333333333333,
              "#9c179e"
             ],
             [
              0.4444444444444444,
              "#bd3786"
             ],
             [
              0.5555555555555556,
              "#d8576b"
             ],
             [
              0.6666666666666666,
              "#ed7953"
             ],
             [
              0.7777777777777778,
              "#fb9f3a"
             ],
             [
              0.8888888888888888,
              "#fdca26"
             ],
             [
              1,
              "#f0f921"
             ]
            ],
            "type": "surface"
           }
          ],
          "table": [
           {
            "cells": {
             "fill": {
              "color": "#EBF0F8"
             },
             "line": {
              "color": "white"
             }
            },
            "header": {
             "fill": {
              "color": "#C8D4E3"
             },
             "line": {
              "color": "white"
             }
            },
            "type": "table"
           }
          ]
         },
         "layout": {
          "annotationdefaults": {
           "arrowcolor": "#2a3f5f",
           "arrowhead": 0,
           "arrowwidth": 1
          },
          "autotypenumbers": "strict",
          "coloraxis": {
           "colorbar": {
            "outlinewidth": 0,
            "ticks": ""
           }
          },
          "colorscale": {
           "diverging": [
            [
             0,
             "#8e0152"
            ],
            [
             0.1,
             "#c51b7d"
            ],
            [
             0.2,
             "#de77ae"
            ],
            [
             0.3,
             "#f1b6da"
            ],
            [
             0.4,
             "#fde0ef"
            ],
            [
             0.5,
             "#f7f7f7"
            ],
            [
             0.6,
             "#e6f5d0"
            ],
            [
             0.7,
             "#b8e186"
            ],
            [
             0.8,
             "#7fbc41"
            ],
            [
             0.9,
             "#4d9221"
            ],
            [
             1,
             "#276419"
            ]
           ],
           "sequential": [
            [
             0,
             "#0d0887"
            ],
            [
             0.1111111111111111,
             "#46039f"
            ],
            [
             0.2222222222222222,
             "#7201a8"
            ],
            [
             0.3333333333333333,
             "#9c179e"
            ],
            [
             0.4444444444444444,
             "#bd3786"
            ],
            [
             0.5555555555555556,
             "#d8576b"
            ],
            [
             0.6666666666666666,
             "#ed7953"
            ],
            [
             0.7777777777777778,
             "#fb9f3a"
            ],
            [
             0.8888888888888888,
             "#fdca26"
            ],
            [
             1,
             "#f0f921"
            ]
           ],
           "sequentialminus": [
            [
             0,
             "#0d0887"
            ],
            [
             0.1111111111111111,
             "#46039f"
            ],
            [
             0.2222222222222222,
             "#7201a8"
            ],
            [
             0.3333333333333333,
             "#9c179e"
            ],
            [
             0.4444444444444444,
             "#bd3786"
            ],
            [
             0.5555555555555556,
             "#d8576b"
            ],
            [
             0.6666666666666666,
             "#ed7953"
            ],
            [
             0.7777777777777778,
             "#fb9f3a"
            ],
            [
             0.8888888888888888,
             "#fdca26"
            ],
            [
             1,
             "#f0f921"
            ]
           ]
          },
          "colorway": [
           "#636efa",
           "#EF553B",
           "#00cc96",
           "#ab63fa",
           "#FFA15A",
           "#19d3f3",
           "#FF6692",
           "#B6E880",
           "#FF97FF",
           "#FECB52"
          ],
          "font": {
           "color": "#2a3f5f"
          },
          "geo": {
           "bgcolor": "white",
           "lakecolor": "white",
           "landcolor": "#E5ECF6",
           "showlakes": true,
           "showland": true,
           "subunitcolor": "white"
          },
          "hoverlabel": {
           "align": "left"
          },
          "hovermode": "closest",
          "mapbox": {
           "style": "light"
          },
          "paper_bgcolor": "white",
          "plot_bgcolor": "#E5ECF6",
          "polar": {
           "angularaxis": {
            "gridcolor": "white",
            "linecolor": "white",
            "ticks": ""
           },
           "bgcolor": "#E5ECF6",
           "radialaxis": {
            "gridcolor": "white",
            "linecolor": "white",
            "ticks": ""
           }
          },
          "scene": {
           "xaxis": {
            "backgroundcolor": "#E5ECF6",
            "gridcolor": "white",
            "gridwidth": 2,
            "linecolor": "white",
            "showbackground": true,
            "ticks": "",
            "zerolinecolor": "white"
           },
           "yaxis": {
            "backgroundcolor": "#E5ECF6",
            "gridcolor": "white",
            "gridwidth": 2,
            "linecolor": "white",
            "showbackground": true,
            "ticks": "",
            "zerolinecolor": "white"
           },
           "zaxis": {
            "backgroundcolor": "#E5ECF6",
            "gridcolor": "white",
            "gridwidth": 2,
            "linecolor": "white",
            "showbackground": true,
            "ticks": "",
            "zerolinecolor": "white"
           }
          },
          "shapedefaults": {
           "line": {
            "color": "#2a3f5f"
           }
          },
          "ternary": {
           "aaxis": {
            "gridcolor": "white",
            "linecolor": "white",
            "ticks": ""
           },
           "baxis": {
            "gridcolor": "white",
            "linecolor": "white",
            "ticks": ""
           },
           "bgcolor": "#E5ECF6",
           "caxis": {
            "gridcolor": "white",
            "linecolor": "white",
            "ticks": ""
           }
          },
          "title": {
           "x": 0.05
          },
          "xaxis": {
           "automargin": true,
           "gridcolor": "white",
           "linecolor": "white",
           "ticks": "",
           "title": {
            "standoff": 15
           },
           "zerolinecolor": "white",
           "zerolinewidth": 2
          },
          "yaxis": {
           "automargin": true,
           "gridcolor": "white",
           "linecolor": "white",
           "ticks": "",
           "title": {
            "standoff": 15
           },
           "zerolinecolor": "white",
           "zerolinewidth": 2
          }
         }
        },
        "xaxis": {
         "anchor": "y",
         "domain": [
          0,
          1
         ],
         "title": {
          "text": "Poder de compra per capita"
         }
        },
        "yaxis": {
         "anchor": "x",
         "domain": [
          0,
          1
         ],
         "showgrid": false,
         "showticklabels": false,
         "title": {
          "text": "y"
         }
        }
       }
      }
     },
     "metadata": {},
     "output_type": "display_data"
    },
    {
     "name": "stdout",
     "output_type": "stream",
     "text": [
      "poder_de_compra\n",
      "0    168\n",
      "1    124\n",
      "2     16\n",
      "Name: count, dtype: int64\n",
      "File saved to csv_files/2_Poder de compra per capita.csv\n"
     ]
    }
   ],
   "source": [
    "clustered_df = aplicar_kmeans(only_municipalities_df,3,nome_cluster='poder_de_compra')\n",
    "save_clustered_df_to_csv(clustered_df,\"csv_files/\", \"2_Poder de compra per capita.csv\")"
   ]
  },
  {
   "cell_type": "markdown",
   "id": "57aea695",
   "metadata": {},
   "source": [
    "### População inscrita nas eleições para as Assembleias Municipais"
   ]
  },
  {
   "cell_type": "code",
   "execution_count": 4,
   "id": "1794ec15",
   "metadata": {},
   "outputs": [
    {
     "data": {
      "text/html": [
       "<div>\n",
       "<style scoped>\n",
       "    .dataframe tbody tr th:only-of-type {\n",
       "        vertical-align: middle;\n",
       "    }\n",
       "\n",
       "    .dataframe tbody tr th {\n",
       "        vertical-align: top;\n",
       "    }\n",
       "\n",
       "    .dataframe thead th {\n",
       "        text-align: right;\n",
       "    }\n",
       "</style>\n",
       "<table border=\"1\" class=\"dataframe\">\n",
       "  <thead>\n",
       "    <tr style=\"text-align: right;\">\n",
       "      <th></th>\n",
       "      <th>local</th>\n",
       "      <th>codigo</th>\n",
       "      <th>População inscrita nas eleições para as Assembleias Municipais</th>\n",
       "    </tr>\n",
       "  </thead>\n",
       "  <tbody>\n",
       "    <tr>\n",
       "      <th>4</th>\n",
       "      <td>Arcos de Valdevez</td>\n",
       "      <td>1111601</td>\n",
       "      <td>24703.0</td>\n",
       "    </tr>\n",
       "    <tr>\n",
       "      <th>5</th>\n",
       "      <td>Caminha</td>\n",
       "      <td>1111602</td>\n",
       "      <td>16131.0</td>\n",
       "    </tr>\n",
       "    <tr>\n",
       "      <th>6</th>\n",
       "      <td>Melgaço</td>\n",
       "      <td>1111603</td>\n",
       "      <td>10024.0</td>\n",
       "    </tr>\n",
       "    <tr>\n",
       "      <th>7</th>\n",
       "      <td>Monção</td>\n",
       "      <td>1111604</td>\n",
       "      <td>19361.0</td>\n",
       "    </tr>\n",
       "    <tr>\n",
       "      <th>8</th>\n",
       "      <td>Paredes de Coura</td>\n",
       "      <td>1111605</td>\n",
       "      <td>8597.0</td>\n",
       "    </tr>\n",
       "    <tr>\n",
       "      <th>...</th>\n",
       "      <td>...</td>\n",
       "      <td>...</td>\n",
       "      <td>...</td>\n",
       "    </tr>\n",
       "    <tr>\n",
       "      <th>342</th>\n",
       "      <td>Ribeira Brava</td>\n",
       "      <td>3003107</td>\n",
       "      <td>14021.0</td>\n",
       "    </tr>\n",
       "    <tr>\n",
       "      <th>343</th>\n",
       "      <td>Santa Cruz</td>\n",
       "      <td>3003108</td>\n",
       "      <td>40013.0</td>\n",
       "    </tr>\n",
       "    <tr>\n",
       "      <th>344</th>\n",
       "      <td>Santana</td>\n",
       "      <td>3003109</td>\n",
       "      <td>7467.0</td>\n",
       "    </tr>\n",
       "    <tr>\n",
       "      <th>345</th>\n",
       "      <td>São Vicente</td>\n",
       "      <td>3003110</td>\n",
       "      <td>5988.0</td>\n",
       "    </tr>\n",
       "    <tr>\n",
       "      <th>346</th>\n",
       "      <td>Porto Santo</td>\n",
       "      <td>3003201</td>\n",
       "      <td>5236.0</td>\n",
       "    </tr>\n",
       "  </tbody>\n",
       "</table>\n",
       "<p>308 rows × 3 columns</p>\n",
       "</div>"
      ],
      "text/plain": [
       "                 local   codigo  \\\n",
       "4    Arcos de Valdevez  1111601   \n",
       "5              Caminha  1111602   \n",
       "6              Melgaço  1111603   \n",
       "7               Monção  1111604   \n",
       "8     Paredes de Coura  1111605   \n",
       "..                 ...      ...   \n",
       "342      Ribeira Brava  3003107   \n",
       "343         Santa Cruz  3003108   \n",
       "344            Santana  3003109   \n",
       "345        São Vicente  3003110   \n",
       "346        Porto Santo  3003201   \n",
       "\n",
       "     População inscrita nas eleições para as Assembleias Municipais  \n",
       "4                                              24703.0               \n",
       "5                                              16131.0               \n",
       "6                                              10024.0               \n",
       "7                                              19361.0               \n",
       "8                                               8597.0               \n",
       "..                                                 ...               \n",
       "342                                            14021.0               \n",
       "343                                            40013.0               \n",
       "344                                             7467.0               \n",
       "345                                             5988.0               \n",
       "346                                             5236.0               \n",
       "\n",
       "[308 rows x 3 columns]"
      ]
     },
     "execution_count": 4,
     "metadata": {},
     "output_type": "execute_result"
    }
   ],
   "source": [
    "original_df = processar_ficheiro(data_path+'População inscrita nas eleições para as Assembleias Municipais.xls',0,padding_left=0)\n",
    "only_municipalities_df = carregar_municipios(original_df)\n",
    "only_municipalities_df\n"
   ]
  },
  {
   "cell_type": "code",
   "execution_count": 5,
   "id": "0abacc74",
   "metadata": {},
   "outputs": [
    {
     "data": {
      "application/vnd.plotly.v1+json": {
       "config": {
        "plotlyServerURL": "https://plot.ly"
       },
       "data": [
        {
         "customdata": [
          [
           "Arcos de Valdevez",
           "1111601",
           24703
          ],
          [
           "Caminha",
           "1111602",
           16131
          ],
          [
           "Melgaço",
           "1111603",
           10024
          ],
          [
           "Monção",
           "1111604",
           19361
          ],
          [
           "Paredes de Coura",
           "1111605",
           8597
          ],
          [
           "Ponte da Barca",
           "1111606",
           12983
          ],
          [
           "Ponte de Lima",
           "1111607",
           40597
          ],
          [
           "Valença",
           "1111608",
           12981
          ],
          [
           "Viana do Castelo",
           "1111609",
           82728
          ],
          [
           "Vila Nova de Cerveira",
           "1111610",
           8430
          ],
          [
           "Amares",
           "1120301",
           17408
          ],
          [
           "Barcelos",
           "1120302",
           106239
          ],
          [
           "Braga",
           "1120303",
           166180
          ],
          [
           "Esposende",
           "1120306",
           32934
          ],
          [
           "Terras de Bouro",
           "1120310",
           6656
          ],
          [
           "Vila Verde",
           "1120313",
           44022
          ],
          [
           "Cabeceiras de Basto",
           "1190304",
           16917
          ],
          [
           "Fafe",
           "1190307",
           49633
          ],
          [
           "Guimarães",
           "1190308",
           142954
          ],
          [
           "Mondim de Basto",
           "1191705",
           7749
          ],
          [
           "Póvoa de Lanhoso",
           "1190309",
           21834
          ],
          [
           "Vieira do Minho",
           "1190311",
           12527
          ],
          [
           "Vila Nova de Famalicão",
           "1190312",
           119499
          ],
          [
           "Vizela",
           "1190314",
           21415
          ],
          [
           "Arouca",
           "11A0104",
           19803
          ],
          [
           "Espinho",
           "11A0107",
           29730
          ],
          [
           "Gondomar",
           "11A1304",
           146210
          ],
          [
           "Maia",
           "11A1306",
           116981
          ],
          [
           "Matosinhos",
           "11A1308",
           151342
          ],
          [
           "Oliveira de Azeméis",
           "11A0113",
           60365
          ],
          [
           "Paredes",
           "11A1310",
           74295
          ],
          [
           "Porto",
           "11A1312",
           207129
          ],
          [
           "Póvoa de Varzim",
           "11A1313",
           60162
          ],
          [
           "Santa Maria da Feira",
           "11A0109",
           125645
          ],
          [
           "Santo Tirso",
           "11A1314",
           61979
          ],
          [
           "São João da Madeira",
           "11A0116",
           19801
          ],
          [
           "Trofa",
           "11A1318",
           33834
          ],
          [
           "Vale de Cambra",
           "11A0119",
           20221
          ],
          [
           "Valongo",
           "11A1315",
           84294
          ],
          [
           "Vila do Conde",
           "11A1316",
           71769
          ],
          [
           "Vila Nova de Gaia",
           "11A1317",
           267468
          ],
          [
           "Boticas",
           "11B1702",
           7727
          ],
          [
           "Chaves",
           "11B1703",
           42890
          ],
          [
           "Montalegre",
           "11B1706",
           13793
          ],
          [
           "Ribeira de Pena",
           "11B1709",
           8503
          ],
          [
           "Valpaços",
           "11B1712",
           18846
          ],
          [
           "Vila Pouca de Aguiar",
           "11B1713",
           14351
          ],
          [
           "Amarante",
           "11C1301",
           50101
          ],
          [
           "Baião",
           "11C1302",
           16830
          ],
          [
           "Castelo de Paiva",
           "11C0106",
           14042
          ],
          [
           "Celorico de Basto",
           "11C0305",
           17560
          ],
          [
           "Cinfães",
           "11C1804",
           16356
          ],
          [
           "Felgueiras",
           "11C1303",
           51721
          ],
          [
           "Lousada",
           "11C1305",
           41453
          ],
          [
           "Marco de Canaveses",
           "11C1307",
           45388
          ],
          [
           "Paços de Ferreira",
           "11C1309",
           48816
          ],
          [
           "Penafiel",
           "11C1311",
           61944
          ],
          [
           "Resende",
           "11C1813",
           10138
          ],
          [
           "Alijó",
           "11D1701",
           11427
          ],
          [
           "Armamar",
           "11D1801",
           5854
          ],
          [
           "Carrazeda de Ansiães",
           "11D0403",
           6086
          ],
          [
           "Freixo de Espada à Cinta",
           "11D0404",
           3224
          ],
          [
           "Lamego",
           "11D1805",
           23603
          ],
          [
           "Mesão Frio",
           "11D1704",
           3634
          ],
          [
           "Moimenta da Beira",
           "11D1807",
           10194
          ],
          [
           "Murça",
           "11D1707",
           6367
          ],
          [
           "Penedono",
           "11D1812",
           2921
          ],
          [
           "Peso da Régua",
           "11D1708",
           15291
          ],
          [
           "Sabrosa",
           "11D1710",
           6245
          ],
          [
           "Santa Marta de Penaguião",
           "11D1711",
           7203
          ],
          [
           "São João da Pesqueira",
           "11D1815",
           6625
          ],
          [
           "Sernancelhe",
           "11D1818",
           5266
          ],
          [
           "Tabuaço",
           "11D1819",
           4826
          ],
          [
           "Tarouca",
           "11D1820",
           7159
          ],
          [
           "Torre de Moncorvo",
           "11D0409",
           7970
          ],
          [
           "Vila Nova de Foz Côa",
           "11D0914",
           7088
          ],
          [
           "Vila Real",
           "11D1714",
           49701
          ],
          [
           "Alfândega da Fé",
           "11E0401",
           5483
          ],
          [
           "Bragança",
           "11E0402",
           35426
          ],
          [
           "Macedo de Cavaleiros",
           "11E0405",
           17651
          ],
          [
           "Miranda do Douro",
           "11E0406",
           7376
          ],
          [
           "Mirandela",
           "11E0407",
           22885
          ],
          [
           "Mogadouro",
           "11E0408",
           10129
          ],
          [
           "Vila Flor",
           "11E0410",
           6813
          ],
          [
           "Vimioso",
           "11E0411",
           5495
          ],
          [
           "Vinhais",
           "11E0412",
           9900
          ],
          [
           "Águeda",
           "1910101",
           42315
          ],
          [
           "Albergaria-a-Velha",
           "1910102",
           22446
          ],
          [
           "Anadia",
           "1910103",
           26075
          ],
          [
           "Aveiro",
           "1910105",
           70541
          ],
          [
           "Estarreja",
           "1910108",
           23945
          ],
          [
           "Ílhavo",
           "1910110",
           35973
          ],
          [
           "Murtosa",
           "1910112",
           9916
          ],
          [
           "Oliveira do Bairro",
           "1910114",
           20864
          ],
          [
           "Ovar",
           "1910115",
           50703
          ],
          [
           "Sever do Vouga",
           "1910117",
           10586
          ],
          [
           "Vagos",
           "1910118",
           21958
          ],
          [
           "Arganil",
           "1920601",
           10171
          ],
          [
           "Cantanhede",
           "1920602",
           34515
          ],
          [
           "Coimbra",
           "1920603",
           126293
          ],
          [
           "Condeixa-a-Nova",
           "1920604",
           14387
          ],
          [
           "Figueira da Foz",
           "1920605",
           54922
          ],
          [
           "Góis",
           "1920606",
           3445
          ],
          [
           "Lousã",
           "1920607",
           15264
          ],
          [
           "Mealhada",
           "1920111",
           17933
          ],
          [
           "Mira",
           "1920608",
           12764
          ],
          [
           "Miranda do Corvo",
           "1920609",
           10842
          ],
          [
           "Montemor-o-Velho",
           "1920610",
           21699
          ],
          [
           "Mortágua",
           "1921808",
           8480
          ],
          [
           "Oliveira do Hospital",
           "1920611",
           17589
          ],
          [
           "Pampilhosa da Serra",
           "1920612",
           3474
          ],
          [
           "Penacova",
           "1920613",
           13375
          ],
          [
           "Penela",
           "1920614",
           4736
          ],
          [
           "Soure",
           "1920615",
           16192
          ],
          [
           "Tábua",
           "1920616",
           10216
          ],
          [
           "Vila Nova de Poiares",
           "1920617",
           6200
          ],
          [
           "Alvaiázere",
           "1931002",
           5923
          ],
          [
           "Ansião",
           "1931003",
           11103
          ],
          [
           "Batalha",
           "1931004",
           13989
          ],
          [
           "Castanheira de Pêra",
           "1931007",
           2545
          ],
          [
           "Figueiró dos Vinhos",
           "1931008",
           5270
          ],
          [
           "Leiria",
           "1931009",
           113419
          ],
          [
           "Marinha Grande",
           "1931010",
           34341
          ],
          [
           "Pedrógão Grande",
           "1931013",
           3094
          ],
          [
           "Pombal",
           "1931015",
           49036
          ],
          [
           "Porto de Mós",
           "1931016",
           20749
          ],
          [
           "Aguiar da Beira",
           "1940901",
           5979
          ],
          [
           "Carregal do Sal",
           "1941802",
           9033
          ],
          [
           "Castro Daire",
           "1941803",
           13942
          ],
          [
           "Mangualde",
           "1941806",
           17888
          ],
          [
           "Nelas",
           "1941809",
           12539
          ],
          [
           "Oliveira de Frades",
           "1941810",
           8710
          ],
          [
           "Penalva do Castelo",
           "1941811",
           7448
          ],
          [
           "Santa Comba Dão",
           "1941814",
           10307
          ],
          [
           "São Pedro do Sul",
           "1941816",
           14934
          ],
          [
           "Sátão",
           "1941817",
           12767
          ],
          [
           "Tondela",
           "1941821",
           24874
          ],
          [
           "Vila Nova de Paiva",
           "1941822",
           5971
          ],
          [
           "Viseu",
           "1941823",
           92444
          ],
          [
           "Vouzela",
           "1941824",
           8999
          ],
          [
           "Castelo Branco",
           "1950502",
           48441
          ],
          [
           "Idanha-a-Nova",
           "1950505",
           8005
          ],
          [
           "Oleiros",
           "1950506",
           4682
          ],
          [
           "Penamacor",
           "1950507",
           4337
          ],
          [
           "Proença-a-Nova",
           "1950508",
           6817
          ],
          [
           "Sertã",
           "1950509",
           13305
          ],
          [
           "Vila de Rei",
           "1950510",
           2752
          ],
          [
           "Vila Velha de Ródão",
           "1950511",
           2809
          ],
          [
           "Almeida",
           "1960902",
           6738
          ],
          [
           "Belmonte",
           "1960501",
           6077
          ],
          [
           "Celorico da Beira",
           "1960903",
           7386
          ],
          [
           "Covilhã",
           "1960503",
           44115
          ],
          [
           "Figueira de Castelo Rodrigo",
           "1960904",
           5395
          ],
          [
           "Fornos de Algodres",
           "1960905",
           4399
          ],
          [
           "Fundão",
           "1960504",
           25436
          ],
          [
           "Gouveia",
           "1960906",
           12471
          ],
          [
           "Guarda",
           "1960907",
           37390
          ],
          [
           "Manteigas",
           "1960908",
           3125
          ],
          [
           "Mêda",
           "1960909",
           5165
          ],
          [
           "Pinhel",
           "1960910",
           8967
          ],
          [
           "Sabugal",
           "1960911",
           12572
          ],
          [
           "Seia",
           "1960912",
           21227
          ],
          [
           "Trancoso",
           "1960913",
           8844
          ],
          [
           "Alcobaça",
           "1D11001",
           48605
          ],
          [
           "Alenquer",
           "1D11101",
           36794
          ],
          [
           "Arruda dos Vinhos",
           "1D11102",
           11434
          ],
          [
           "Bombarral",
           "1D11005",
           11208
          ],
          [
           "Cadaval",
           "1D11104",
           11944
          ],
          [
           "Caldas da Rainha",
           "1D11006",
           45524
          ],
          [
           "Lourinhã",
           "1D11108",
           23260
          ],
          [
           "Nazaré",
           "1D11011",
           14217
          ],
          [
           "Óbidos",
           "1D11012",
           10563
          ],
          [
           "Peniche",
           "1D11014",
           24331
          ],
          [
           "Sobral de Monte Agraço",
           "1D11112",
           8569
          ],
          [
           "Torres Vedras",
           "1D11113",
           69477
          ],
          [
           "Abrantes",
           "1D21401",
           31591
          ],
          [
           "Alcanena",
           "1D21402",
           11733
          ],
          [
           "Constância",
           "1D21408",
           3320
          ],
          [
           "Entroncamento",
           "1D21410",
           17012
          ],
          [
           "Ferreira do Zêzere",
           "1D21411",
           6961
          ],
          [
           "Mação",
           "1D21413",
           5866
          ],
          [
           "Ourém",
           "1D21421",
           40870
          ],
          [
           "Sardoal",
           "1D21417",
           3201
          ],
          [
           "Tomar",
           "1D21418",
           33892
          ],
          [
           "Torres Novas",
           "1D21419",
           30795
          ],
          [
           "Vila Nova da Barquinha",
           "1D21420",
           6236
          ],
          [
           "Almeirim",
           "1D31403",
           19605
          ],
          [
           "Alpiarça",
           "1D31404",
           6268
          ],
          [
           "Azambuja",
           "1D31103",
           17597
          ],
          [
           "Benavente",
           "1D31405",
           24411
          ],
          [
           "Cartaxo",
           "1D31406",
           20643
          ],
          [
           "Chamusca",
           "1D31407",
           7667
          ],
          [
           "Coruche",
           "1D31409",
           15845
          ],
          [
           "Golegã",
           "1D31412",
           4866
          ],
          [
           "Rio Maior",
           "1D31414",
           17739
          ],
          [
           "Salvaterra de Magos",
           "1D31415",
           18992
          ],
          [
           "Santarém",
           "1D31416",
           50899
          ],
          [
           "Amadora",
           "1A01115",
           145310
          ],
          [
           "Cascais",
           "1A01105",
           179237
          ],
          [
           "Lisboa",
           "1A01106",
           476750
          ],
          [
           "Loures",
           "1A01107",
           169257
          ],
          [
           "Mafra",
           "1A01109",
           67939
          ],
          [
           "Odivelas",
           "1A01116",
           126833
          ],
          [
           "Oeiras",
           "1A01110",
           147343
          ],
          [
           "Sintra",
           "1A01111",
           323280
          ],
          [
           "Vila Franca de Xira",
           "1A01114",
           113975
          ],
          [
           "Alcochete",
           "1B01502",
           15263
          ],
          [
           "Almada",
           "1B01503",
           151953
          ],
          [
           "Barreiro",
           "1B01504",
           68267
          ],
          [
           "Moita",
           "1B01506",
           58407
          ],
          [
           "Montijo",
           "1B01507",
           43810
          ],
          [
           "Palmela",
           "1B01508",
           56024
          ],
          [
           "Seixal",
           "1B01510",
           142900
          ],
          [
           "Sesimbra",
           "1B01511",
           45135
          ],
          [
           "Setúbal",
           "1B01512",
           105651
          ],
          [
           "Alcácer do Sal",
           "1C11501",
           10139
          ],
          [
           "Grândola",
           "1C11505",
           11936
          ],
          [
           "Odemira",
           "1C10211",
           20351
          ],
          [
           "Santiago do Cacém",
           "1C11509",
           24215
          ],
          [
           "Sines",
           "1C11513",
           12170
          ],
          [
           "Aljustrel",
           "1C20201",
           7930
          ],
          [
           "Almodôvar",
           "1C20202",
           6167
          ],
          [
           "Alvito",
           "1C20203",
           1908
          ],
          [
           "Barrancos",
           "1C20204",
           1310
          ],
          [
           "Beja",
           "1C20205",
           28777
          ],
          [
           "Castro Verde",
           "1C20206",
           6074
          ],
          [
           "Cuba",
           "1C20207",
           3677
          ],
          [
           "Ferreira do Alentejo",
           "1C20208",
           6399
          ],
          [
           "Mértola",
           "1C20209",
           5853
          ],
          [
           "Moura",
           "1C20210",
           12022
          ],
          [
           "Ourique",
           "1C20212",
           4295
          ],
          [
           "Serpa",
           "1C20213",
           12488
          ],
          [
           "Vidigueira",
           "1C20214",
           4669
          ],
          [
           "Alter do Chão",
           "1C31201",
           2699
          ],
          [
           "Arronches",
           "1C31202",
           2526
          ],
          [
           "Avis",
           "1C31203",
           3433
          ],
          [
           "Campo Maior",
           "1C31204",
           7054
          ],
          [
           "Castelo de Vide",
           "1C31205",
           2684
          ],
          [
           "Crato",
           "1C31206",
           2974
          ],
          [
           "Elvas",
           "1C31207",
           18781
          ],
          [
           "Fronteira",
           "1C31208",
           2617
          ],
          [
           "Gavião",
           "1C31209",
           3200
          ],
          [
           "Marvão",
           "1C31210",
           2725
          ],
          [
           "Monforte",
           "1C31211",
           2557
          ],
          [
           "Nisa",
           "1C31212",
           5694
          ],
          [
           "Ponte de Sor",
           "1C31213",
           13857
          ],
          [
           "Portalegre",
           "1C31214",
           20033
          ],
          [
           "Sousel",
           "1C31215",
           3895
          ],
          [
           "Alandroal",
           "1C40701",
           4512
          ],
          [
           "Arraiolos",
           "1C40702",
           5835
          ],
          [
           "Borba",
           "1C40703",
           5841
          ],
          [
           "Estremoz",
           "1C40704",
           11263
          ],
          [
           "Évora",
           "1C40705",
           46895
          ],
          [
           "Montemor-o-Novo",
           "1C40706",
           13816
          ],
          [
           "Mora",
           "1C40707",
           3965
          ],
          [
           "Mourão",
           "1C40708",
           2171
          ],
          [
           "Portel",
           "1C40709",
           5091
          ],
          [
           "Redondo",
           "1C40710",
           5645
          ],
          [
           "Reguengos de Monsaraz",
           "1C40711",
           8866
          ],
          [
           "Vendas Novas",
           "1C40712",
           9993
          ],
          [
           "Viana do Alentejo",
           "1C40713",
           4629
          ],
          [
           "Vila Viçosa",
           "1C40714",
           6675
          ],
          [
           "Albufeira",
           "1500801",
           36383
          ],
          [
           "Alcoutim",
           "1500802",
           2430
          ],
          [
           "Aljezur",
           "1500803",
           4298
          ],
          [
           "Castro Marim",
           "1500804",
           5849
          ],
          [
           "Faro",
           "1500805",
           56855
          ],
          [
           "Lagoa",
           "1500806",
           19185
          ],
          [
           "Lagos",
           "1500807",
           24774
          ],
          [
           "Loulé",
           "1500808",
           61795
          ],
          [
           "Monchique",
           "1500809",
           4631
          ],
          [
           "Olhão",
           "1500810",
           37810
          ],
          [
           "Portimão",
           "1500811",
           50212
          ],
          [
           "São Brás de Alportel",
           "1500812",
           9398
          ],
          [
           "Silves",
           "1500813",
           30958
          ],
          [
           "Tavira",
           "1500814",
           22273
          ],
          [
           "Vila do Bispo",
           "1500815",
           4193
          ],
          [
           "Vila Real de Santo António",
           "1500816",
           16970
          ],
          [
           "Angra do Heroísmo",
           "2004301",
           33236
          ],
          [
           "Calheta (R.A.A.)",
           "2004501",
           3712
          ],
          [
           "Corvo",
           "2004901",
           350
          ],
          [
           "Horta",
           "2004701",
           13044
          ],
          [
           "Lagoa (R.A.A.)",
           "2004201",
           12908
          ],
          [
           "Lajes das Flores",
           "2004801",
           1284
          ],
          [
           "Lajes do Pico",
           "2004601",
           4469
          ],
          [
           "Madalena",
           "2004602",
           5962
          ],
          [
           "Nordeste",
           "2004202",
           4753
          ],
          [
           "Ponta Delgada",
           "2004203",
           65200
          ],
          [
           "Povoação",
           "2004204",
           6353
          ],
          [
           "Ribeira Grande",
           "2004205",
           28616
          ],
          [
           "Santa Cruz da Graciosa",
           "2004401",
           3922
          ],
          [
           "Santa Cruz das Flores",
           "2004802",
           1831
          ],
          [
           "São Roque do Pico",
           "2004603",
           3235
          ],
          [
           "Velas",
           "2004502",
           4969
          ],
          [
           "Vila da Praia da Vitória",
           "2004302",
           19367
          ],
          [
           "Vila do Porto",
           "2004101",
           5397
          ],
          [
           "Vila Franca do Campo",
           "2004206",
           10457
          ],
          [
           "Calheta (R.A.M.)",
           "3003101",
           12329
          ],
          [
           "Câmara de Lobos",
           "3003102",
           32693
          ],
          [
           "Funchal",
           "3003103",
           106357
          ],
          [
           "Machico",
           "3003104",
           20560
          ],
          [
           "Ponta do Sol",
           "3003105",
           9909
          ],
          [
           "Porto Moniz",
           "3003106",
           3052
          ],
          [
           "Ribeira Brava",
           "3003107",
           14021
          ],
          [
           "Santa Cruz",
           "3003108",
           40013
          ],
          [
           "Santana",
           "3003109",
           7467
          ],
          [
           "São Vicente",
           "3003110",
           5988
          ],
          [
           "Porto Santo",
           "3003201",
           5236
          ]
         ],
         "hovertemplate": "valor=%{x}<br>y=%{y}<br>local=%{customdata[0]}<br>codigo=%{customdata[1]}<br>População inscrita nas eleições para as Assembleias Municipais=%{customdata[2]}<br>pop_inscrita_eleicoes_assembleias_municipais=%{marker.color}<extra></extra>",
         "legendgroup": "",
         "marker": {
          "color": {
           "bdata": "AAAAAAAAAQABAAABAgAAAQABAgAAAAEAAAACAQIBAQIBAQEAAAABAQIAAQAAAAABAAAAAAEBAQEBAAAAAAAAAAAAAAAAAAAAAAAAAAEAAAAAAAAAAAABAAABAAAAAAEAAAAAAQABAAAAAAAAAAAAAAAAAAAAAAAAAAEAAAEAAAAAAAAAAAAAAAAAAQABAAAAAAAAAAAAAAEAAAAAAAAAAAAAAAEAAAAAAQAAAAAAAQAAAAAAAAEAAAAAAAAAAAAAAAAAAAECAgICAQECAgEAAgEBAQECAQEAAAAAAAAAAAAAAAAAAAAAAAAAAAAAAAAAAAAAAAAAAAAAAAAAAQAAAAAAAAAAAAAAAAABAAABAAABAAAAAAAAAAAAAAAAAAABAAAAAAAAAAAAAAABAAAAAAEAAAA=",
           "dtype": "i1"
          },
          "coloraxis": "coloraxis",
          "size": 10,
          "symbol": "circle"
         },
         "mode": "markers",
         "name": "",
         "orientation": "v",
         "showlegend": false,
         "type": "scatter",
         "x": {
          "bdata": "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",
          "dtype": "f8"
         },
         "xaxis": "x",
         "y": {
          "bdata": "AAAAAAAAAAAAAAAAAAAAAAAAAAAAAAAAAAAAAAAAAAAAAAAAAAAAAAAAAAAAAAAAAAAAAAAAAAAAAAAAAAAAAAAAAAAAAAAAAAAAAAAAAAAAAAAAAAAAAAAAAAAAAAAAAAAAAAAAAAAAAAAAAAAAAAAAAAAAAAAAAAAAAAAAAAAAAAAAAAAAAAAAAAAAAAAAAAAAAAAAAAAAAAAAAAAAAAAAAAAAAAAAAAAAAAAAAAAAAAAAAAAAAAAAAAAAAAAAAAAAAAAAAAAAAAAAAAAAAAAAAAAAAAAAAAAAAAAAAAAAAAAAAAAAAAAAAAAAAAAAAAAAAAAAAAAAAAAAAAAAAAAAAAAAAAAAAAAAAAAAAAAAAAAAAAAAAAAAAAAAAAAAAAAAAAAAAAAAAAAAAAAAAAAAAAA=",
          "dtype": "i1"
         },
         "yaxis": "y"
        }
       ],
       "layout": {
        "coloraxis": {
         "colorbar": {
          "title": {
           "text": "pop_inscrita_eleicoes_assembleias_municipais"
          }
         },
         "colorscale": [
          [
           0,
           "#440154"
          ],
          [
           0.1111111111111111,
           "#482878"
          ],
          [
           0.2222222222222222,
           "#3e4989"
          ],
          [
           0.3333333333333333,
           "#31688e"
          ],
          [
           0.4444444444444444,
           "#26828e"
          ],
          [
           0.5555555555555556,
           "#1f9e89"
          ],
          [
           0.6666666666666666,
           "#35b779"
          ],
          [
           0.7777777777777778,
           "#6ece58"
          ],
          [
           0.8888888888888888,
           "#b5de2b"
          ],
          [
           1,
           "#fde725"
          ]
         ]
        },
        "height": 300,
        "legend": {
         "tracegroupgap": 0
        },
        "margin": {
         "t": 60
        },
        "template": {
         "data": {
          "bar": [
           {
            "error_x": {
             "color": "#2a3f5f"
            },
            "error_y": {
             "color": "#2a3f5f"
            },
            "marker": {
             "line": {
              "color": "#E5ECF6",
              "width": 0.5
             },
             "pattern": {
              "fillmode": "overlay",
              "size": 10,
              "solidity": 0.2
             }
            },
            "type": "bar"
           }
          ],
          "barpolar": [
           {
            "marker": {
             "line": {
              "color": "#E5ECF6",
              "width": 0.5
             },
             "pattern": {
              "fillmode": "overlay",
              "size": 10,
              "solidity": 0.2
             }
            },
            "type": "barpolar"
           }
          ],
          "carpet": [
           {
            "aaxis": {
             "endlinecolor": "#2a3f5f",
             "gridcolor": "white",
             "linecolor": "white",
             "minorgridcolor": "white",
             "startlinecolor": "#2a3f5f"
            },
            "baxis": {
             "endlinecolor": "#2a3f5f",
             "gridcolor": "white",
             "linecolor": "white",
             "minorgridcolor": "white",
             "startlinecolor": "#2a3f5f"
            },
            "type": "carpet"
           }
          ],
          "choropleth": [
           {
            "colorbar": {
             "outlinewidth": 0,
             "ticks": ""
            },
            "type": "choropleth"
           }
          ],
          "contour": [
           {
            "colorbar": {
             "outlinewidth": 0,
             "ticks": ""
            },
            "colorscale": [
             [
              0,
              "#0d0887"
             ],
             [
              0.1111111111111111,
              "#46039f"
             ],
             [
              0.2222222222222222,
              "#7201a8"
             ],
             [
              0.3333333333333333,
              "#9c179e"
             ],
             [
              0.4444444444444444,
              "#bd3786"
             ],
             [
              0.5555555555555556,
              "#d8576b"
             ],
             [
              0.6666666666666666,
              "#ed7953"
             ],
             [
              0.7777777777777778,
              "#fb9f3a"
             ],
             [
              0.8888888888888888,
              "#fdca26"
             ],
             [
              1,
              "#f0f921"
             ]
            ],
            "type": "contour"
           }
          ],
          "contourcarpet": [
           {
            "colorbar": {
             "outlinewidth": 0,
             "ticks": ""
            },
            "type": "contourcarpet"
           }
          ],
          "heatmap": [
           {
            "colorbar": {
             "outlinewidth": 0,
             "ticks": ""
            },
            "colorscale": [
             [
              0,
              "#0d0887"
             ],
             [
              0.1111111111111111,
              "#46039f"
             ],
             [
              0.2222222222222222,
              "#7201a8"
             ],
             [
              0.3333333333333333,
              "#9c179e"
             ],
             [
              0.4444444444444444,
              "#bd3786"
             ],
             [
              0.5555555555555556,
              "#d8576b"
             ],
             [
              0.6666666666666666,
              "#ed7953"
             ],
             [
              0.7777777777777778,
              "#fb9f3a"
             ],
             [
              0.8888888888888888,
              "#fdca26"
             ],
             [
              1,
              "#f0f921"
             ]
            ],
            "type": "heatmap"
           }
          ],
          "histogram": [
           {
            "marker": {
             "pattern": {
              "fillmode": "overlay",
              "size": 10,
              "solidity": 0.2
             }
            },
            "type": "histogram"
           }
          ],
          "histogram2d": [
           {
            "colorbar": {
             "outlinewidth": 0,
             "ticks": ""
            },
            "colorscale": [
             [
              0,
              "#0d0887"
             ],
             [
              0.1111111111111111,
              "#46039f"
             ],
             [
              0.2222222222222222,
              "#7201a8"
             ],
             [
              0.3333333333333333,
              "#9c179e"
             ],
             [
              0.4444444444444444,
              "#bd3786"
             ],
             [
              0.5555555555555556,
              "#d8576b"
             ],
             [
              0.6666666666666666,
              "#ed7953"
             ],
             [
              0.7777777777777778,
              "#fb9f3a"
             ],
             [
              0.8888888888888888,
              "#fdca26"
             ],
             [
              1,
              "#f0f921"
             ]
            ],
            "type": "histogram2d"
           }
          ],
          "histogram2dcontour": [
           {
            "colorbar": {
             "outlinewidth": 0,
             "ticks": ""
            },
            "colorscale": [
             [
              0,
              "#0d0887"
             ],
             [
              0.1111111111111111,
              "#46039f"
             ],
             [
              0.2222222222222222,
              "#7201a8"
             ],
             [
              0.3333333333333333,
              "#9c179e"
             ],
             [
              0.4444444444444444,
              "#bd3786"
             ],
             [
              0.5555555555555556,
              "#d8576b"
             ],
             [
              0.6666666666666666,
              "#ed7953"
             ],
             [
              0.7777777777777778,
              "#fb9f3a"
             ],
             [
              0.8888888888888888,
              "#fdca26"
             ],
             [
              1,
              "#f0f921"
             ]
            ],
            "type": "histogram2dcontour"
           }
          ],
          "mesh3d": [
           {
            "colorbar": {
             "outlinewidth": 0,
             "ticks": ""
            },
            "type": "mesh3d"
           }
          ],
          "parcoords": [
           {
            "line": {
             "colorbar": {
              "outlinewidth": 0,
              "ticks": ""
             }
            },
            "type": "parcoords"
           }
          ],
          "pie": [
           {
            "automargin": true,
            "type": "pie"
           }
          ],
          "scatter": [
           {
            "fillpattern": {
             "fillmode": "overlay",
             "size": 10,
             "solidity": 0.2
            },
            "type": "scatter"
           }
          ],
          "scatter3d": [
           {
            "line": {
             "colorbar": {
              "outlinewidth": 0,
              "ticks": ""
             }
            },
            "marker": {
             "colorbar": {
              "outlinewidth": 0,
              "ticks": ""
             }
            },
            "type": "scatter3d"
           }
          ],
          "scattercarpet": [
           {
            "marker": {
             "colorbar": {
              "outlinewidth": 0,
              "ticks": ""
             }
            },
            "type": "scattercarpet"
           }
          ],
          "scattergeo": [
           {
            "marker": {
             "colorbar": {
              "outlinewidth": 0,
              "ticks": ""
             }
            },
            "type": "scattergeo"
           }
          ],
          "scattergl": [
           {
            "marker": {
             "colorbar": {
              "outlinewidth": 0,
              "ticks": ""
             }
            },
            "type": "scattergl"
           }
          ],
          "scattermap": [
           {
            "marker": {
             "colorbar": {
              "outlinewidth": 0,
              "ticks": ""
             }
            },
            "type": "scattermap"
           }
          ],
          "scattermapbox": [
           {
            "marker": {
             "colorbar": {
              "outlinewidth": 0,
              "ticks": ""
             }
            },
            "type": "scattermapbox"
           }
          ],
          "scatterpolar": [
           {
            "marker": {
             "colorbar": {
              "outlinewidth": 0,
              "ticks": ""
             }
            },
            "type": "scatterpolar"
           }
          ],
          "scatterpolargl": [
           {
            "marker": {
             "colorbar": {
              "outlinewidth": 0,
              "ticks": ""
             }
            },
            "type": "scatterpolargl"
           }
          ],
          "scatterternary": [
           {
            "marker": {
             "colorbar": {
              "outlinewidth": 0,
              "ticks": ""
             }
            },
            "type": "scatterternary"
           }
          ],
          "surface": [
           {
            "colorbar": {
             "outlinewidth": 0,
             "ticks": ""
            },
            "colorscale": [
             [
              0,
              "#0d0887"
             ],
             [
              0.1111111111111111,
              "#46039f"
             ],
             [
              0.2222222222222222,
              "#7201a8"
             ],
             [
              0.3333333333333333,
              "#9c179e"
             ],
             [
              0.4444444444444444,
              "#bd3786"
             ],
             [
              0.5555555555555556,
              "#d8576b"
             ],
             [
              0.6666666666666666,
              "#ed7953"
             ],
             [
              0.7777777777777778,
              "#fb9f3a"
             ],
             [
              0.8888888888888888,
              "#fdca26"
             ],
             [
              1,
              "#f0f921"
             ]
            ],
            "type": "surface"
           }
          ],
          "table": [
           {
            "cells": {
             "fill": {
              "color": "#EBF0F8"
             },
             "line": {
              "color": "white"
             }
            },
            "header": {
             "fill": {
              "color": "#C8D4E3"
             },
             "line": {
              "color": "white"
             }
            },
            "type": "table"
           }
          ]
         },
         "layout": {
          "annotationdefaults": {
           "arrowcolor": "#2a3f5f",
           "arrowhead": 0,
           "arrowwidth": 1
          },
          "autotypenumbers": "strict",
          "coloraxis": {
           "colorbar": {
            "outlinewidth": 0,
            "ticks": ""
           }
          },
          "colorscale": {
           "diverging": [
            [
             0,
             "#8e0152"
            ],
            [
             0.1,
             "#c51b7d"
            ],
            [
             0.2,
             "#de77ae"
            ],
            [
             0.3,
             "#f1b6da"
            ],
            [
             0.4,
             "#fde0ef"
            ],
            [
             0.5,
             "#f7f7f7"
            ],
            [
             0.6,
             "#e6f5d0"
            ],
            [
             0.7,
             "#b8e186"
            ],
            [
             0.8,
             "#7fbc41"
            ],
            [
             0.9,
             "#4d9221"
            ],
            [
             1,
             "#276419"
            ]
           ],
           "sequential": [
            [
             0,
             "#0d0887"
            ],
            [
             0.1111111111111111,
             "#46039f"
            ],
            [
             0.2222222222222222,
             "#7201a8"
            ],
            [
             0.3333333333333333,
             "#9c179e"
            ],
            [
             0.4444444444444444,
             "#bd3786"
            ],
            [
             0.5555555555555556,
             "#d8576b"
            ],
            [
             0.6666666666666666,
             "#ed7953"
            ],
            [
             0.7777777777777778,
             "#fb9f3a"
            ],
            [
             0.8888888888888888,
             "#fdca26"
            ],
            [
             1,
             "#f0f921"
            ]
           ],
           "sequentialminus": [
            [
             0,
             "#0d0887"
            ],
            [
             0.1111111111111111,
             "#46039f"
            ],
            [
             0.2222222222222222,
             "#7201a8"
            ],
            [
             0.3333333333333333,
             "#9c179e"
            ],
            [
             0.4444444444444444,
             "#bd3786"
            ],
            [
             0.5555555555555556,
             "#d8576b"
            ],
            [
             0.6666666666666666,
             "#ed7953"
            ],
            [
             0.7777777777777778,
             "#fb9f3a"
            ],
            [
             0.8888888888888888,
             "#fdca26"
            ],
            [
             1,
             "#f0f921"
            ]
           ]
          },
          "colorway": [
           "#636efa",
           "#EF553B",
           "#00cc96",
           "#ab63fa",
           "#FFA15A",
           "#19d3f3",
           "#FF6692",
           "#B6E880",
           "#FF97FF",
           "#FECB52"
          ],
          "font": {
           "color": "#2a3f5f"
          },
          "geo": {
           "bgcolor": "white",
           "lakecolor": "white",
           "landcolor": "#E5ECF6",
           "showlakes": true,
           "showland": true,
           "subunitcolor": "white"
          },
          "hoverlabel": {
           "align": "left"
          },
          "hovermode": "closest",
          "mapbox": {
           "style": "light"
          },
          "paper_bgcolor": "white",
          "plot_bgcolor": "#E5ECF6",
          "polar": {
           "angularaxis": {
            "gridcolor": "white",
            "linecolor": "white",
            "ticks": ""
           },
           "bgcolor": "#E5ECF6",
           "radialaxis": {
            "gridcolor": "white",
            "linecolor": "white",
            "ticks": ""
           }
          },
          "scene": {
           "xaxis": {
            "backgroundcolor": "#E5ECF6",
            "gridcolor": "white",
            "gridwidth": 2,
            "linecolor": "white",
            "showbackground": true,
            "ticks": "",
            "zerolinecolor": "white"
           },
           "yaxis": {
            "backgroundcolor": "#E5ECF6",
            "gridcolor": "white",
            "gridwidth": 2,
            "linecolor": "white",
            "showbackground": true,
            "ticks": "",
            "zerolinecolor": "white"
           },
           "zaxis": {
            "backgroundcolor": "#E5ECF6",
            "gridcolor": "white",
            "gridwidth": 2,
            "linecolor": "white",
            "showbackground": true,
            "ticks": "",
            "zerolinecolor": "white"
           }
          },
          "shapedefaults": {
           "line": {
            "color": "#2a3f5f"
           }
          },
          "ternary": {
           "aaxis": {
            "gridcolor": "white",
            "linecolor": "white",
            "ticks": ""
           },
           "baxis": {
            "gridcolor": "white",
            "linecolor": "white",
            "ticks": ""
           },
           "bgcolor": "#E5ECF6",
           "caxis": {
            "gridcolor": "white",
            "linecolor": "white",
            "ticks": ""
           }
          },
          "title": {
           "x": 0.05
          },
          "xaxis": {
           "automargin": true,
           "gridcolor": "white",
           "linecolor": "white",
           "ticks": "",
           "title": {
            "standoff": 15
           },
           "zerolinecolor": "white",
           "zerolinewidth": 2
          },
          "yaxis": {
           "automargin": true,
           "gridcolor": "white",
           "linecolor": "white",
           "ticks": "",
           "title": {
            "standoff": 15
           },
           "zerolinecolor": "white",
           "zerolinewidth": 2
          }
         }
        },
        "xaxis": {
         "anchor": "y",
         "domain": [
          0,
          1
         ],
         "title": {
          "text": "População inscrita nas eleições para as Assembleias Municipais"
         }
        },
        "yaxis": {
         "anchor": "x",
         "domain": [
          0,
          1
         ],
         "showgrid": false,
         "showticklabels": false,
         "title": {
          "text": "y"
         }
        }
       }
      }
     },
     "metadata": {},
     "output_type": "display_data"
    },
    {
     "name": "stdout",
     "output_type": "stream",
     "text": [
      "pop_inscrita_eleicoes_assembleias_municipais\n",
      "0    241\n",
      "1     53\n",
      "2     14\n",
      "Name: count, dtype: int64\n",
      "File saved to csv_files/2_População inscrita nas eleições para as Assembleias Municipais.csv\n"
     ]
    }
   ],
   "source": [
    "clustered_df = aplicar_kmeans(only_municipalities_df,3,nome_cluster='pop_inscrita_eleicoes_assembleias_municipais')\n",
    "save_clustered_df_to_csv(clustered_df,\"csv_files/\", \"2_População inscrita nas eleições para as Assembleias Municipais.csv\")"
   ]
  },
  {
   "cell_type": "markdown",
   "id": "16850368",
   "metadata": {},
   "source": [
    "### Proporção de votos do partido:coligação mais votado nas eleições para as Câmaras Municipais"
   ]
  },
  {
   "cell_type": "code",
   "execution_count": 6,
   "id": "707da5fc",
   "metadata": {},
   "outputs": [
    {
     "data": {
      "text/html": [
       "<div>\n",
       "<style scoped>\n",
       "    .dataframe tbody tr th:only-of-type {\n",
       "        vertical-align: middle;\n",
       "    }\n",
       "\n",
       "    .dataframe tbody tr th {\n",
       "        vertical-align: top;\n",
       "    }\n",
       "\n",
       "    .dataframe thead th {\n",
       "        text-align: right;\n",
       "    }\n",
       "</style>\n",
       "<table border=\"1\" class=\"dataframe\">\n",
       "  <thead>\n",
       "    <tr style=\"text-align: right;\">\n",
       "      <th></th>\n",
       "      <th>local</th>\n",
       "      <th>codigo</th>\n",
       "      <th>Proporção de votos do partido/coligação mais votado nas eleições para as Câmaras Municipais</th>\n",
       "    </tr>\n",
       "  </thead>\n",
       "  <tbody>\n",
       "    <tr>\n",
       "      <th>4</th>\n",
       "      <td>Arcos de Valdevez</td>\n",
       "      <td>1111601</td>\n",
       "      <td>58.3</td>\n",
       "    </tr>\n",
       "    <tr>\n",
       "      <th>5</th>\n",
       "      <td>Caminha</td>\n",
       "      <td>1111602</td>\n",
       "      <td>46.8</td>\n",
       "    </tr>\n",
       "    <tr>\n",
       "      <th>6</th>\n",
       "      <td>Melgaço</td>\n",
       "      <td>1111603</td>\n",
       "      <td>54.2</td>\n",
       "    </tr>\n",
       "    <tr>\n",
       "      <th>7</th>\n",
       "      <td>Monção</td>\n",
       "      <td>1111604</td>\n",
       "      <td>62.3</td>\n",
       "    </tr>\n",
       "    <tr>\n",
       "      <th>8</th>\n",
       "      <td>Paredes de Coura</td>\n",
       "      <td>1111605</td>\n",
       "      <td>65.8</td>\n",
       "    </tr>\n",
       "    <tr>\n",
       "      <th>...</th>\n",
       "      <td>...</td>\n",
       "      <td>...</td>\n",
       "      <td>...</td>\n",
       "    </tr>\n",
       "    <tr>\n",
       "      <th>342</th>\n",
       "      <td>Ribeira Brava</td>\n",
       "      <td>3003107</td>\n",
       "      <td>63.2</td>\n",
       "    </tr>\n",
       "    <tr>\n",
       "      <th>343</th>\n",
       "      <td>Santa Cruz</td>\n",
       "      <td>3003108</td>\n",
       "      <td>54.1</td>\n",
       "    </tr>\n",
       "    <tr>\n",
       "      <th>344</th>\n",
       "      <td>Santana</td>\n",
       "      <td>3003109</td>\n",
       "      <td>58.1</td>\n",
       "    </tr>\n",
       "    <tr>\n",
       "      <th>345</th>\n",
       "      <td>São Vicente</td>\n",
       "      <td>3003110</td>\n",
       "      <td>70.5</td>\n",
       "    </tr>\n",
       "    <tr>\n",
       "      <th>346</th>\n",
       "      <td>Porto Santo</td>\n",
       "      <td>3003201</td>\n",
       "      <td>50.9</td>\n",
       "    </tr>\n",
       "  </tbody>\n",
       "</table>\n",
       "<p>308 rows × 3 columns</p>\n",
       "</div>"
      ],
      "text/plain": [
       "                 local   codigo  \\\n",
       "4    Arcos de Valdevez  1111601   \n",
       "5              Caminha  1111602   \n",
       "6              Melgaço  1111603   \n",
       "7               Monção  1111604   \n",
       "8     Paredes de Coura  1111605   \n",
       "..                 ...      ...   \n",
       "342      Ribeira Brava  3003107   \n",
       "343         Santa Cruz  3003108   \n",
       "344            Santana  3003109   \n",
       "345        São Vicente  3003110   \n",
       "346        Porto Santo  3003201   \n",
       "\n",
       "     Proporção de votos do partido/coligação mais votado nas eleições para as Câmaras Municipais  \n",
       "4                                                 58.3                                            \n",
       "5                                                 46.8                                            \n",
       "6                                                 54.2                                            \n",
       "7                                                 62.3                                            \n",
       "8                                                 65.8                                            \n",
       "..                                                 ...                                            \n",
       "342                                               63.2                                            \n",
       "343                                               54.1                                            \n",
       "344                                               58.1                                            \n",
       "345                                               70.5                                            \n",
       "346                                               50.9                                            \n",
       "\n",
       "[308 rows x 3 columns]"
      ]
     },
     "execution_count": 6,
     "metadata": {},
     "output_type": "execute_result"
    }
   ],
   "source": [
    "original_df = processar_ficheiro(data_path+'Proporção de votos do partido:coligação mais votado nas eleições para as Câmaras Municipais.xls',0,padding_left=0)\n",
    "only_municipalities_df = carregar_municipios(original_df)\n",
    "only_municipalities_df\n"
   ]
  },
  {
   "cell_type": "code",
   "execution_count": 7,
   "id": "b96cbb39",
   "metadata": {},
   "outputs": [
    {
     "data": {
      "application/vnd.plotly.v1+json": {
       "config": {
        "plotlyServerURL": "https://plot.ly"
       },
       "data": [
        {
         "customdata": [
          [
           "Arcos de Valdevez",
           "1111601",
           58.3
          ],
          [
           "Caminha",
           "1111602",
           46.8
          ],
          [
           "Melgaço",
           "1111603",
           54.2
          ],
          [
           "Monção",
           "1111604",
           62.3
          ],
          [
           "Paredes de Coura",
           "1111605",
           65.8
          ],
          [
           "Ponte da Barca",
           "1111606",
           46.6
          ],
          [
           "Ponte de Lima",
           "1111607",
           43.4
          ],
          [
           "Valença",
           "1111608",
           40
          ],
          [
           "Viana do Castelo",
           "1111609",
           45.1
          ],
          [
           "Vila Nova de Cerveira",
           "1111610",
           50.8
          ],
          [
           "Amares",
           "1120301",
           51.9
          ],
          [
           "Barcelos",
           "1120302",
           45.4
          ],
          [
           "Braga",
           "1120303",
           42.9
          ],
          [
           "Esposende",
           "1120306",
           58.4
          ],
          [
           "Terras de Bouro",
           "1120310",
           76.1
          ],
          [
           "Vila Verde",
           "1120313",
           53.8
          ],
          [
           "Cabeceiras de Basto",
           "1190304",
           42.1
          ],
          [
           "Fafe",
           "1190307",
           53.8
          ],
          [
           "Guimarães",
           "1190308",
           48.1
          ],
          [
           "Mondim de Basto",
           "1191705",
           48.9
          ],
          [
           "Póvoa de Lanhoso",
           "1190309",
           47.9
          ],
          [
           "Vieira do Minho",
           "1190311",
           57.4
          ],
          [
           "Vila Nova de Famalicão",
           "1190312",
           52.9
          ],
          [
           "Vizela",
           "1190314",
           74.1
          ],
          [
           "Arouca",
           "11A0104",
           50.3
          ],
          [
           "Espinho",
           "11A0107",
           40.2
          ],
          [
           "Gondomar",
           "11A1304",
           46.9
          ],
          [
           "Maia",
           "11A1306",
           40.4
          ],
          [
           "Matosinhos",
           "11A1308",
           43.6
          ],
          [
           "Oliveira de Azeméis",
           "11A0113",
           54.9
          ],
          [
           "Paredes",
           "11A1310",
           62.4
          ],
          [
           "Porto",
           "11A1312",
           40.7
          ],
          [
           "Póvoa de Varzim",
           "11A1313",
           51.7
          ],
          [
           "Santa Maria da Feira",
           "11A0109",
           48.9
          ],
          [
           "Santo Tirso",
           "11A1314",
           60.4
          ],
          [
           "São João da Madeira",
           "11A0116",
           51.6
          ],
          [
           "Trofa",
           "11A1318",
           56.5
          ],
          [
           "Vale de Cambra",
           "11A0119",
           58.2
          ],
          [
           "Valongo",
           "11A1315",
           50.1
          ],
          [
           "Vila do Conde",
           "11A1316",
           42.4
          ],
          [
           "Vila Nova de Gaia",
           "11A1317",
           57.8
          ],
          [
           "Boticas",
           "11B1702",
           73.5
          ],
          [
           "Chaves",
           "11B1703",
           54.6
          ],
          [
           "Montalegre",
           "11B1706",
           51.2
          ],
          [
           "Ribeira de Pena",
           "11B1709",
           55
          ],
          [
           "Valpaços",
           "11B1712",
           73.8
          ],
          [
           "Vila Pouca de Aguiar",
           "11B1713",
           64.9
          ],
          [
           "Amarante",
           "11C1301",
           52.5
          ],
          [
           "Baião",
           "11C1302",
           60.8
          ],
          [
           "Castelo de Paiva",
           "11C0106",
           40
          ],
          [
           "Celorico de Basto",
           "11C0305",
           44.8
          ],
          [
           "Cinfães",
           "11C1804",
           61.9
          ],
          [
           "Felgueiras",
           "11C1303",
           67.9
          ],
          [
           "Lousada",
           "11C1305",
           58.8
          ],
          [
           "Marco de Canaveses",
           "11C1307",
           59
          ],
          [
           "Paços de Ferreira",
           "11C1309",
           55.8
          ],
          [
           "Penafiel",
           "11C1311",
           60.5
          ],
          [
           "Resende",
           "11C1813",
           49
          ],
          [
           "Alijó",
           "11D1701",
           60
          ],
          [
           "Armamar",
           "11D1801",
           56.9
          ],
          [
           "Carrazeda de Ansiães",
           "11D0403",
           59.7
          ],
          [
           "Freixo de Espada à Cinta",
           "11D0404",
           63
          ],
          [
           "Lamego",
           "11D1805",
           45.3
          ],
          [
           "Mesão Frio",
           "11D1704",
           48.6
          ],
          [
           "Moimenta da Beira",
           "11D1807",
           54.6
          ],
          [
           "Murça",
           "11D1707",
           57
          ],
          [
           "Penedono",
           "11D1812",
           48.3
          ],
          [
           "Peso da Régua",
           "11D1708",
           53.7
          ],
          [
           "Sabrosa",
           "11D1710",
           28.9
          ],
          [
           "Santa Marta de Penaguião",
           "11D1711",
           57.3
          ],
          [
           "São João da Pesqueira",
           "11D1815",
           58.5
          ],
          [
           "Sernancelhe",
           "11D1818",
           81.9
          ],
          [
           "Tabuaço",
           "11D1819",
           69.9
          ],
          [
           "Tarouca",
           "11D1820",
           59.7
          ],
          [
           "Torre de Moncorvo",
           "11D0409",
           52.1
          ],
          [
           "Vila Nova de Foz Côa",
           "11D0914",
           51.3
          ],
          [
           "Vila Real",
           "11D1714",
           58.4
          ],
          [
           "Alfândega da Fé",
           "11E0401",
           51.7
          ],
          [
           "Bragança",
           "11E0402",
           57.5
          ],
          [
           "Macedo de Cavaleiros",
           "11E0405",
           48.5
          ],
          [
           "Miranda do Douro",
           "11E0406",
           54.1
          ],
          [
           "Mirandela",
           "11E0407",
           51.9
          ],
          [
           "Mogadouro",
           "11E0408",
           48.7
          ],
          [
           "Vila Flor",
           "11E0410",
           53.8
          ],
          [
           "Vimioso",
           "11E0411",
           63.4
          ],
          [
           "Vinhais",
           "11E0412",
           50.7
          ],
          [
           "Águeda",
           "1910101",
           44.8
          ],
          [
           "Albergaria-a-Velha",
           "1910102",
           59.7
          ],
          [
           "Anadia",
           "1910103",
           45.3
          ],
          [
           "Aveiro",
           "1910105",
           51.3
          ],
          [
           "Estarreja",
           "1910108",
           52.3
          ],
          [
           "Ílhavo",
           "1910110",
           33.5
          ],
          [
           "Murtosa",
           "1910112",
           71.1
          ],
          [
           "Oliveira do Bairro",
           "1910114",
           45.6
          ],
          [
           "Ovar",
           "1910115",
           57
          ],
          [
           "Sever do Vouga",
           "1910117",
           43.5
          ],
          [
           "Vagos",
           "1910118",
           60.7
          ],
          [
           "Arganil",
           "1920601",
           59.3
          ],
          [
           "Cantanhede",
           "1920602",
           55.3
          ],
          [
           "Coimbra",
           "1920603",
           43.9
          ],
          [
           "Condeixa-a-Nova",
           "1920604",
           44
          ],
          [
           "Figueira da Foz",
           "1920605",
           40.4
          ],
          [
           "Góis",
           "1920606",
           40.4
          ],
          [
           "Lousã",
           "1920607",
           52.9
          ],
          [
           "Mealhada",
           "1920111",
           37.8
          ],
          [
           "Mira",
           "1920608",
           59.1
          ],
          [
           "Miranda do Corvo",
           "1920609",
           45.4
          ],
          [
           "Montemor-o-Velho",
           "1920610",
           50.6
          ],
          [
           "Mortágua",
           "1921808",
           61.9
          ],
          [
           "Oliveira do Hospital",
           "1920611",
           56.2
          ],
          [
           "Pampilhosa da Serra",
           "1920612",
           61.2
          ],
          [
           "Penacova",
           "1920613",
           46.4
          ],
          [
           "Penela",
           "1920614",
           56.7
          ],
          [
           "Soure",
           "1920615",
           45
          ],
          [
           "Tábua",
           "1920616",
           52.5
          ],
          [
           "Vila Nova de Poiares",
           "1920617",
           59.3
          ],
          [
           "Alvaiázere",
           "1931002",
           40.7
          ],
          [
           "Ansião",
           "1931003",
           48
          ],
          [
           "Batalha",
           "1931004",
           46.5
          ],
          [
           "Castanheira de Pêra",
           "1931007",
           40
          ],
          [
           "Figueiró dos Vinhos",
           "1931008",
           43.6
          ],
          [
           "Leiria",
           "1931009",
           52.5
          ],
          [
           "Marinha Grande",
           "1931010",
           38.3
          ],
          [
           "Pedrógão Grande",
           "1931013",
           52.6
          ],
          [
           "Pombal",
           "1931015",
           61.1
          ],
          [
           "Porto de Mós",
           "1931016",
           55.9
          ],
          [
           "Aguiar da Beira",
           "1940901",
           52.2
          ],
          [
           "Carregal do Sal",
           "1941802",
           51.4
          ],
          [
           "Castro Daire",
           "1941803",
           61.6
          ],
          [
           "Mangualde",
           "1941806",
           54.8
          ],
          [
           "Nelas",
           "1941809",
           52.3
          ],
          [
           "Oliveira de Frades",
           "1941810",
           45.4
          ],
          [
           "Penalva do Castelo",
           "1941811",
           56.7
          ],
          [
           "Santa Comba Dão",
           "1941814",
           52.8
          ],
          [
           "São Pedro do Sul",
           "1941816",
           59.6
          ],
          [
           "Sátão",
           "1941817",
           48
          ],
          [
           "Tondela",
           "1941821",
           44.9
          ],
          [
           "Vila Nova de Paiva",
           "1941822",
           43.6
          ],
          [
           "Viseu",
           "1941823",
           46.7
          ],
          [
           "Vouzela",
           "1941824",
           59.1
          ],
          [
           "Castelo Branco",
           "1950502",
           36
          ],
          [
           "Idanha-a-Nova",
           "1950505",
           53.7
          ],
          [
           "Oleiros",
           "1950506",
           51.3
          ],
          [
           "Penamacor",
           "1950507",
           57.5
          ],
          [
           "Proença-a-Nova",
           "1950508",
           64.6
          ],
          [
           "Sertã",
           "1950509",
           47.7
          ],
          [
           "Vila de Rei",
           "1950510",
           61.3
          ],
          [
           "Vila Velha de Ródão",
           "1950511",
           73.7
          ],
          [
           "Almeida",
           "1960902",
           49.7
          ],
          [
           "Belmonte",
           "1960501",
           41.6
          ],
          [
           "Celorico da Beira",
           "1960903",
           56.2
          ],
          [
           "Covilhã",
           "1960503",
           46.2
          ],
          [
           "Figueira de Castelo Rodrigo",
           "1960904",
           47.6
          ],
          [
           "Fornos de Algodres",
           "1960905",
           60.3
          ],
          [
           "Fundão",
           "1960504",
           56.7
          ],
          [
           "Gouveia",
           "1960906",
           50.1
          ],
          [
           "Guarda",
           "1960907",
           36.2
          ],
          [
           "Manteigas",
           "1960908",
           34.1
          ],
          [
           "Mêda",
           "1960909",
           49.8
          ],
          [
           "Pinhel",
           "1960910",
           66.6
          ],
          [
           "Sabugal",
           "1960911",
           47.1
          ],
          [
           "Seia",
           "1960912",
           43.7
          ],
          [
           "Trancoso",
           "1960913",
           59.7
          ],
          [
           "Alcobaça",
           "1D11001",
           43.2
          ],
          [
           "Alenquer",
           "1D11101",
           42.4
          ],
          [
           "Arruda dos Vinhos",
           "1D11102",
           65
          ],
          [
           "Bombarral",
           "1D11005",
           41.1
          ],
          [
           "Cadaval",
           "1D11104",
           52.2
          ],
          [
           "Caldas da Rainha",
           "1D11006",
           40.7
          ],
          [
           "Lourinhã",
           "1D11108",
           45.2
          ],
          [
           "Nazaré",
           "1D11011",
           44.9
          ],
          [
           "Óbidos",
           "1D11012",
           45.2
          ],
          [
           "Peniche",
           "1D11014",
           30
          ],
          [
           "Sobral de Monte Agraço",
           "1D11112",
           42.9
          ],
          [
           "Torres Vedras",
           "1D11113",
           40
          ],
          [
           "Abrantes",
           "1D21401",
           55.8
          ],
          [
           "Alcanena",
           "1D21402",
           46.5
          ],
          [
           "Constância",
           "1D21408",
           58.7
          ],
          [
           "Entroncamento",
           "1D21410",
           32.4
          ],
          [
           "Ferreira do Zêzere",
           "1D21411",
           56.9
          ],
          [
           "Mação",
           "1D21413",
           63.3
          ],
          [
           "Ourém",
           "1D21421",
           62.8
          ],
          [
           "Sardoal",
           "1D21417",
           45.2
          ],
          [
           "Tomar",
           "1D21418",
           39.7
          ],
          [
           "Torres Novas",
           "1D21419",
           45.3
          ],
          [
           "Vila Nova da Barquinha",
           "1D21420",
           55
          ],
          [
           "Almeirim",
           "1D31403",
           68.3
          ],
          [
           "Alpiarça",
           "1D31404",
           43.3
          ],
          [
           "Azambuja",
           "1D31103",
           39.8
          ],
          [
           "Benavente",
           "1D31405",
           33
          ],
          [
           "Cartaxo",
           "1D31406",
           46.6
          ],
          [
           "Chamusca",
           "1D31407",
           44.3
          ],
          [
           "Coruche",
           "1D31409",
           50.5
          ],
          [
           "Golegã",
           "1D31412",
           47.8
          ],
          [
           "Rio Maior",
           "1D31414",
           57
          ],
          [
           "Salvaterra de Magos",
           "1D31415",
           49.6
          ],
          [
           "Santarém",
           "1D31416",
           37.4
          ],
          [
           "Amadora",
           "1A01115",
           43.9
          ],
          [
           "Cascais",
           "1A01105",
           52.5
          ],
          [
           "Lisboa",
           "1A01106",
           34.3
          ],
          [
           "Loures",
           "1A01107",
           31.5
          ],
          [
           "Mafra",
           "1A01109",
           57.4
          ],
          [
           "Odivelas",
           "1A01116",
           44.8
          ],
          [
           "Oeiras",
           "1A01110",
           50.9
          ],
          [
           "Sintra",
           "1A01111",
           35.3
          ],
          [
           "Vila Franca de Xira",
           "1A01114",
           39.6
          ],
          [
           "Alcochete",
           "1B01502",
           53
          ],
          [
           "Almada",
           "1B01503",
           39.9
          ],
          [
           "Barreiro",
           "1B01504",
           56.7
          ],
          [
           "Moita",
           "1B01506",
           37.6
          ],
          [
           "Montijo",
           "1B01507",
           29.5
          ],
          [
           "Palmela",
           "1B01508",
           31.4
          ],
          [
           "Seixal",
           "1B01510",
           37.7
          ],
          [
           "Sesimbra",
           "1B01511",
           34.3
          ],
          [
           "Setúbal",
           "1B01512",
           34.4
          ],
          [
           "Alcácer do Sal",
           "1C11501",
           48.1
          ],
          [
           "Grândola",
           "1C11505",
           44.5
          ],
          [
           "Odemira",
           "1C10211",
           46.7
          ],
          [
           "Santiago do Cacém",
           "1C11509",
           43.2
          ],
          [
           "Sines",
           "1C11513",
           50.2
          ],
          [
           "Aljustrel",
           "1C20201",
           47.5
          ],
          [
           "Almodôvar",
           "1C20202",
           70.8
          ],
          [
           "Alvito",
           "1C20203",
           49.7
          ],
          [
           "Barrancos",
           "1C20204",
           46.5
          ],
          [
           "Beja",
           "1C20205",
           39.1
          ],
          [
           "Castro Verde",
           "1C20206",
           58.4
          ],
          [
           "Cuba",
           "1C20207",
           56.1
          ],
          [
           "Ferreira do Alentejo",
           "1C20208",
           46
          ],
          [
           "Mértola",
           "1C20209",
           57.6
          ],
          [
           "Moura",
           "1C20210",
           40.3
          ],
          [
           "Ourique",
           "1C20212",
           53.1
          ],
          [
           "Serpa",
           "1C20213",
           43.1
          ],
          [
           "Vidigueira",
           "1C20214",
           48.6
          ],
          [
           "Alter do Chão",
           "1C31201",
           43.8
          ],
          [
           "Arronches",
           "1C31202",
           53.3
          ],
          [
           "Avis",
           "1C31203",
           54.9
          ],
          [
           "Campo Maior",
           "1C31204",
           52.4
          ],
          [
           "Castelo de Vide",
           "1C31205",
           50.4
          ],
          [
           "Crato",
           "1C31206",
           43.9
          ],
          [
           "Elvas",
           "1C31207",
           37.9
          ],
          [
           "Fronteira",
           "1C31208",
           58.1
          ],
          [
           "Gavião",
           "1C31209",
           47.2
          ],
          [
           "Marvão",
           "1C31210",
           48.2
          ],
          [
           "Monforte",
           "1C31211",
           62.4
          ],
          [
           "Nisa",
           "1C31212",
           54.4
          ],
          [
           "Ponte de Sor",
           "1C31213",
           64.1
          ],
          [
           "Portalegre",
           "1C31214",
           38.4
          ],
          [
           "Sousel",
           "1C31215",
           62.2
          ],
          [
           "Alandroal",
           "1C40701",
           57
          ],
          [
           "Arraiolos",
           "1C40702",
           59
          ],
          [
           "Borba",
           "1C40703",
           43
          ],
          [
           "Estremoz",
           "1C40704",
           35.3
          ],
          [
           "Évora",
           "1C40705",
           27.4
          ],
          [
           "Montemor-o-Novo",
           "1C40706",
           40.2
          ],
          [
           "Mora",
           "1C40707",
           48.1
          ],
          [
           "Mourão",
           "1C40708",
           47.1
          ],
          [
           "Portel",
           "1C40709",
           56.7
          ],
          [
           "Redondo",
           "1C40710",
           43.7
          ],
          [
           "Reguengos de Monsaraz",
           "1C40711",
           48.6
          ],
          [
           "Vendas Novas",
           "1C40712",
           41.5
          ],
          [
           "Viana do Alentejo",
           "1C40713",
           37.4
          ],
          [
           "Vila Viçosa",
           "1C40714",
           51.5
          ],
          [
           "Albufeira",
           "1500801",
           32
          ],
          [
           "Alcoutim",
           "1500802",
           55.1
          ],
          [
           "Aljezur",
           "1500803",
           44.7
          ],
          [
           "Castro Marim",
           "1500804",
           56.2
          ],
          [
           "Faro",
           "1500805",
           47.8
          ],
          [
           "Lagoa",
           "1500806",
           51.5
          ],
          [
           "Lagos",
           "1500807",
           53.5
          ],
          [
           "Loulé",
           "1500808",
           55.4
          ],
          [
           "Monchique",
           "1500809",
           49.6
          ],
          [
           "Olhão",
           "1500810",
           49.2
          ],
          [
           "Portimão",
           "1500811",
           39.9
          ],
          [
           "São Brás de Alportel",
           "1500812",
           58.6
          ],
          [
           "Silves",
           "1500813",
           43.1
          ],
          [
           "Tavira",
           "1500814",
           43.7
          ],
          [
           "Vila do Bispo",
           "1500815",
           33.1
          ],
          [
           "Vila Real de Santo António",
           "1500816",
           37.1
          ],
          [
           "Angra do Heroísmo",
           "2004301",
           52.9
          ],
          [
           "Calheta (R.A.A.)",
           "2004501",
           53.1
          ],
          [
           "Corvo",
           "2004901",
           59.7
          ],
          [
           "Horta",
           "2004701",
           47.8
          ],
          [
           "Lagoa (R.A.A.)",
           "2004201",
           62.6
          ],
          [
           "Lajes das Flores",
           "2004801",
           48.9
          ],
          [
           "Lajes do Pico",
           "2004601",
           56.2
          ],
          [
           "Madalena",
           "2004602",
           58.1
          ],
          [
           "Nordeste",
           "2004202",
           70
          ],
          [
           "Ponta Delgada",
           "2004203",
           48.8
          ],
          [
           "Povoação",
           "2004204",
           65.3
          ],
          [
           "Ribeira Grande",
           "2004205",
           61.4
          ],
          [
           "Santa Cruz da Graciosa",
           "2004401",
           57.2
          ],
          [
           "Santa Cruz das Flores",
           "2004802",
           61.8
          ],
          [
           "São Roque do Pico",
           "2004603",
           60.9
          ],
          [
           "Velas",
           "2004502",
           66.3
          ],
          [
           "Vila da Praia da Vitória",
           "2004302",
           43.9
          ],
          [
           "Vila do Porto",
           "2004101",
           57.2
          ],
          [
           "Vila Franca do Campo",
           "2004206",
           50.2
          ],
          [
           "Calheta (R.A.M.)",
           "3003101",
           71.6
          ],
          [
           "Câmara de Lobos",
           "3003102",
           60.2
          ],
          [
           "Funchal",
           "3003103",
           47
          ],
          [
           "Machico",
           "3003104",
           51.6
          ],
          [
           "Ponta do Sol",
           "3003105",
           54
          ],
          [
           "Porto Moniz",
           "3003106",
           54.7
          ],
          [
           "Ribeira Brava",
           "3003107",
           63.2
          ],
          [
           "Santa Cruz",
           "3003108",
           54.1
          ],
          [
           "Santana",
           "3003109",
           58.1
          ],
          [
           "São Vicente",
           "3003110",
           70.5
          ],
          [
           "Porto Santo",
           "3003201",
           50.9
          ]
         ],
         "hovertemplate": "valor=%{x}<br>y=%{y}<br>local=%{customdata[0]}<br>codigo=%{customdata[1]}<br>Proporção de votos do partido/coligação mais votado nas eleições para as Câmaras Municipais=%{customdata[2]}<br>votos_por_partido_ou_coligacao=%{marker.color}<extra></extra>",
         "legendgroup": "",
         "marker": {
          "color": {
           "bdata": "AgEBAgIBAAAAAQEAAAICAQABAQEBAgECAQABAAABAgABAQIBAgIBAAICAQEBAgIBAgAAAgICAgECAQICAgIAAQECAQEAAgICAgIBAQIBAgEBAQEBAgEAAgABAQACAAIAAgIBAAAAAAEAAgABAgECAQIAAQIAAQEAAAEAAQIBAQECAQEAAgECAQAAAQIAAQECAgECAgEAAQEBAgIBAAABAgEAAgAAAgABAAAAAAAAAAEBAgACAgIAAAABAgAAAAEAAQECAQAAAQAAAgABAAABAAIAAAAAAAABAAEAAQECAQEAAgEBAgABAAEAAQEBAQAAAgEBAgECAAICAgAAAAABAQIAAQAAAQABAAEBAQEBAQEAAgAAAAABAQIBAgEBAgIBAgICAgICAAIBAgIBAQEBAgECAgE=",
           "dtype": "i1"
          },
          "coloraxis": "coloraxis",
          "size": 10,
          "symbol": "circle"
         },
         "mode": "markers",
         "name": "",
         "orientation": "v",
         "showlegend": false,
         "type": "scatter",
         "x": {
          "bdata": "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",
          "dtype": "f8"
         },
         "xaxis": "x",
         "y": {
          "bdata": "AAAAAAAAAAAAAAAAAAAAAAAAAAAAAAAAAAAAAAAAAAAAAAAAAAAAAAAAAAAAAAAAAAAAAAAAAAAAAAAAAAAAAAAAAAAAAAAAAAAAAAAAAAAAAAAAAAAAAAAAAAAAAAAAAAAAAAAAAAAAAAAAAAAAAAAAAAAAAAAAAAAAAAAAAAAAAAAAAAAAAAAAAAAAAAAAAAAAAAAAAAAAAAAAAAAAAAAAAAAAAAAAAAAAAAAAAAAAAAAAAAAAAAAAAAAAAAAAAAAAAAAAAAAAAAAAAAAAAAAAAAAAAAAAAAAAAAAAAAAAAAAAAAAAAAAAAAAAAAAAAAAAAAAAAAAAAAAAAAAAAAAAAAAAAAAAAAAAAAAAAAAAAAAAAAAAAAAAAAAAAAAAAAAAAAAAAAAAAAAAAAAAAAAAAAA=",
          "dtype": "i1"
         },
         "yaxis": "y"
        }
       ],
       "layout": {
        "coloraxis": {
         "colorbar": {
          "title": {
           "text": "votos_por_partido_ou_coligacao"
          }
         },
         "colorscale": [
          [
           0,
           "#440154"
          ],
          [
           0.1111111111111111,
           "#482878"
          ],
          [
           0.2222222222222222,
           "#3e4989"
          ],
          [
           0.3333333333333333,
           "#31688e"
          ],
          [
           0.4444444444444444,
           "#26828e"
          ],
          [
           0.5555555555555556,
           "#1f9e89"
          ],
          [
           0.6666666666666666,
           "#35b779"
          ],
          [
           0.7777777777777778,
           "#6ece58"
          ],
          [
           0.8888888888888888,
           "#b5de2b"
          ],
          [
           1,
           "#fde725"
          ]
         ]
        },
        "height": 300,
        "legend": {
         "tracegroupgap": 0
        },
        "margin": {
         "t": 60
        },
        "template": {
         "data": {
          "bar": [
           {
            "error_x": {
             "color": "#2a3f5f"
            },
            "error_y": {
             "color": "#2a3f5f"
            },
            "marker": {
             "line": {
              "color": "#E5ECF6",
              "width": 0.5
             },
             "pattern": {
              "fillmode": "overlay",
              "size": 10,
              "solidity": 0.2
             }
            },
            "type": "bar"
           }
          ],
          "barpolar": [
           {
            "marker": {
             "line": {
              "color": "#E5ECF6",
              "width": 0.5
             },
             "pattern": {
              "fillmode": "overlay",
              "size": 10,
              "solidity": 0.2
             }
            },
            "type": "barpolar"
           }
          ],
          "carpet": [
           {
            "aaxis": {
             "endlinecolor": "#2a3f5f",
             "gridcolor": "white",
             "linecolor": "white",
             "minorgridcolor": "white",
             "startlinecolor": "#2a3f5f"
            },
            "baxis": {
             "endlinecolor": "#2a3f5f",
             "gridcolor": "white",
             "linecolor": "white",
             "minorgridcolor": "white",
             "startlinecolor": "#2a3f5f"
            },
            "type": "carpet"
           }
          ],
          "choropleth": [
           {
            "colorbar": {
             "outlinewidth": 0,
             "ticks": ""
            },
            "type": "choropleth"
           }
          ],
          "contour": [
           {
            "colorbar": {
             "outlinewidth": 0,
             "ticks": ""
            },
            "colorscale": [
             [
              0,
              "#0d0887"
             ],
             [
              0.1111111111111111,
              "#46039f"
             ],
             [
              0.2222222222222222,
              "#7201a8"
             ],
             [
              0.3333333333333333,
              "#9c179e"
             ],
             [
              0.4444444444444444,
              "#bd3786"
             ],
             [
              0.5555555555555556,
              "#d8576b"
             ],
             [
              0.6666666666666666,
              "#ed7953"
             ],
             [
              0.7777777777777778,
              "#fb9f3a"
             ],
             [
              0.8888888888888888,
              "#fdca26"
             ],
             [
              1,
              "#f0f921"
             ]
            ],
            "type": "contour"
           }
          ],
          "contourcarpet": [
           {
            "colorbar": {
             "outlinewidth": 0,
             "ticks": ""
            },
            "type": "contourcarpet"
           }
          ],
          "heatmap": [
           {
            "colorbar": {
             "outlinewidth": 0,
             "ticks": ""
            },
            "colorscale": [
             [
              0,
              "#0d0887"
             ],
             [
              0.1111111111111111,
              "#46039f"
             ],
             [
              0.2222222222222222,
              "#7201a8"
             ],
             [
              0.3333333333333333,
              "#9c179e"
             ],
             [
              0.4444444444444444,
              "#bd3786"
             ],
             [
              0.5555555555555556,
              "#d8576b"
             ],
             [
              0.6666666666666666,
              "#ed7953"
             ],
             [
              0.7777777777777778,
              "#fb9f3a"
             ],
             [
              0.8888888888888888,
              "#fdca26"
             ],
             [
              1,
              "#f0f921"
             ]
            ],
            "type": "heatmap"
           }
          ],
          "histogram": [
           {
            "marker": {
             "pattern": {
              "fillmode": "overlay",
              "size": 10,
              "solidity": 0.2
             }
            },
            "type": "histogram"
           }
          ],
          "histogram2d": [
           {
            "colorbar": {
             "outlinewidth": 0,
             "ticks": ""
            },
            "colorscale": [
             [
              0,
              "#0d0887"
             ],
             [
              0.1111111111111111,
              "#46039f"
             ],
             [
              0.2222222222222222,
              "#7201a8"
             ],
             [
              0.3333333333333333,
              "#9c179e"
             ],
             [
              0.4444444444444444,
              "#bd3786"
             ],
             [
              0.5555555555555556,
              "#d8576b"
             ],
             [
              0.6666666666666666,
              "#ed7953"
             ],
             [
              0.7777777777777778,
              "#fb9f3a"
             ],
             [
              0.8888888888888888,
              "#fdca26"
             ],
             [
              1,
              "#f0f921"
             ]
            ],
            "type": "histogram2d"
           }
          ],
          "histogram2dcontour": [
           {
            "colorbar": {
             "outlinewidth": 0,
             "ticks": ""
            },
            "colorscale": [
             [
              0,
              "#0d0887"
             ],
             [
              0.1111111111111111,
              "#46039f"
             ],
             [
              0.2222222222222222,
              "#7201a8"
             ],
             [
              0.3333333333333333,
              "#9c179e"
             ],
             [
              0.4444444444444444,
              "#bd3786"
             ],
             [
              0.5555555555555556,
              "#d8576b"
             ],
             [
              0.6666666666666666,
              "#ed7953"
             ],
             [
              0.7777777777777778,
              "#fb9f3a"
             ],
             [
              0.8888888888888888,
              "#fdca26"
             ],
             [
              1,
              "#f0f921"
             ]
            ],
            "type": "histogram2dcontour"
           }
          ],
          "mesh3d": [
           {
            "colorbar": {
             "outlinewidth": 0,
             "ticks": ""
            },
            "type": "mesh3d"
           }
          ],
          "parcoords": [
           {
            "line": {
             "colorbar": {
              "outlinewidth": 0,
              "ticks": ""
             }
            },
            "type": "parcoords"
           }
          ],
          "pie": [
           {
            "automargin": true,
            "type": "pie"
           }
          ],
          "scatter": [
           {
            "fillpattern": {
             "fillmode": "overlay",
             "size": 10,
             "solidity": 0.2
            },
            "type": "scatter"
           }
          ],
          "scatter3d": [
           {
            "line": {
             "colorbar": {
              "outlinewidth": 0,
              "ticks": ""
             }
            },
            "marker": {
             "colorbar": {
              "outlinewidth": 0,
              "ticks": ""
             }
            },
            "type": "scatter3d"
           }
          ],
          "scattercarpet": [
           {
            "marker": {
             "colorbar": {
              "outlinewidth": 0,
              "ticks": ""
             }
            },
            "type": "scattercarpet"
           }
          ],
          "scattergeo": [
           {
            "marker": {
             "colorbar": {
              "outlinewidth": 0,
              "ticks": ""
             }
            },
            "type": "scattergeo"
           }
          ],
          "scattergl": [
           {
            "marker": {
             "colorbar": {
              "outlinewidth": 0,
              "ticks": ""
             }
            },
            "type": "scattergl"
           }
          ],
          "scattermap": [
           {
            "marker": {
             "colorbar": {
              "outlinewidth": 0,
              "ticks": ""
             }
            },
            "type": "scattermap"
           }
          ],
          "scattermapbox": [
           {
            "marker": {
             "colorbar": {
              "outlinewidth": 0,
              "ticks": ""
             }
            },
            "type": "scattermapbox"
           }
          ],
          "scatterpolar": [
           {
            "marker": {
             "colorbar": {
              "outlinewidth": 0,
              "ticks": ""
             }
            },
            "type": "scatterpolar"
           }
          ],
          "scatterpolargl": [
           {
            "marker": {
             "colorbar": {
              "outlinewidth": 0,
              "ticks": ""
             }
            },
            "type": "scatterpolargl"
           }
          ],
          "scatterternary": [
           {
            "marker": {
             "colorbar": {
              "outlinewidth": 0,
              "ticks": ""
             }
            },
            "type": "scatterternary"
           }
          ],
          "surface": [
           {
            "colorbar": {
             "outlinewidth": 0,
             "ticks": ""
            },
            "colorscale": [
             [
              0,
              "#0d0887"
             ],
             [
              0.1111111111111111,
              "#46039f"
             ],
             [
              0.2222222222222222,
              "#7201a8"
             ],
             [
              0.3333333333333333,
              "#9c179e"
             ],
             [
              0.4444444444444444,
              "#bd3786"
             ],
             [
              0.5555555555555556,
              "#d8576b"
             ],
             [
              0.6666666666666666,
              "#ed7953"
             ],
             [
              0.7777777777777778,
              "#fb9f3a"
             ],
             [
              0.8888888888888888,
              "#fdca26"
             ],
             [
              1,
              "#f0f921"
             ]
            ],
            "type": "surface"
           }
          ],
          "table": [
           {
            "cells": {
             "fill": {
              "color": "#EBF0F8"
             },
             "line": {
              "color": "white"
             }
            },
            "header": {
             "fill": {
              "color": "#C8D4E3"
             },
             "line": {
              "color": "white"
             }
            },
            "type": "table"
           }
          ]
         },
         "layout": {
          "annotationdefaults": {
           "arrowcolor": "#2a3f5f",
           "arrowhead": 0,
           "arrowwidth": 1
          },
          "autotypenumbers": "strict",
          "coloraxis": {
           "colorbar": {
            "outlinewidth": 0,
            "ticks": ""
           }
          },
          "colorscale": {
           "diverging": [
            [
             0,
             "#8e0152"
            ],
            [
             0.1,
             "#c51b7d"
            ],
            [
             0.2,
             "#de77ae"
            ],
            [
             0.3,
             "#f1b6da"
            ],
            [
             0.4,
             "#fde0ef"
            ],
            [
             0.5,
             "#f7f7f7"
            ],
            [
             0.6,
             "#e6f5d0"
            ],
            [
             0.7,
             "#b8e186"
            ],
            [
             0.8,
             "#7fbc41"
            ],
            [
             0.9,
             "#4d9221"
            ],
            [
             1,
             "#276419"
            ]
           ],
           "sequential": [
            [
             0,
             "#0d0887"
            ],
            [
             0.1111111111111111,
             "#46039f"
            ],
            [
             0.2222222222222222,
             "#7201a8"
            ],
            [
             0.3333333333333333,
             "#9c179e"
            ],
            [
             0.4444444444444444,
             "#bd3786"
            ],
            [
             0.5555555555555556,
             "#d8576b"
            ],
            [
             0.6666666666666666,
             "#ed7953"
            ],
            [
             0.7777777777777778,
             "#fb9f3a"
            ],
            [
             0.8888888888888888,
             "#fdca26"
            ],
            [
             1,
             "#f0f921"
            ]
           ],
           "sequentialminus": [
            [
             0,
             "#0d0887"
            ],
            [
             0.1111111111111111,
             "#46039f"
            ],
            [
             0.2222222222222222,
             "#7201a8"
            ],
            [
             0.3333333333333333,
             "#9c179e"
            ],
            [
             0.4444444444444444,
             "#bd3786"
            ],
            [
             0.5555555555555556,
             "#d8576b"
            ],
            [
             0.6666666666666666,
             "#ed7953"
            ],
            [
             0.7777777777777778,
             "#fb9f3a"
            ],
            [
             0.8888888888888888,
             "#fdca26"
            ],
            [
             1,
             "#f0f921"
            ]
           ]
          },
          "colorway": [
           "#636efa",
           "#EF553B",
           "#00cc96",
           "#ab63fa",
           "#FFA15A",
           "#19d3f3",
           "#FF6692",
           "#B6E880",
           "#FF97FF",
           "#FECB52"
          ],
          "font": {
           "color": "#2a3f5f"
          },
          "geo": {
           "bgcolor": "white",
           "lakecolor": "white",
           "landcolor": "#E5ECF6",
           "showlakes": true,
           "showland": true,
           "subunitcolor": "white"
          },
          "hoverlabel": {
           "align": "left"
          },
          "hovermode": "closest",
          "mapbox": {
           "style": "light"
          },
          "paper_bgcolor": "white",
          "plot_bgcolor": "#E5ECF6",
          "polar": {
           "angularaxis": {
            "gridcolor": "white",
            "linecolor": "white",
            "ticks": ""
           },
           "bgcolor": "#E5ECF6",
           "radialaxis": {
            "gridcolor": "white",
            "linecolor": "white",
            "ticks": ""
           }
          },
          "scene": {
           "xaxis": {
            "backgroundcolor": "#E5ECF6",
            "gridcolor": "white",
            "gridwidth": 2,
            "linecolor": "white",
            "showbackground": true,
            "ticks": "",
            "zerolinecolor": "white"
           },
           "yaxis": {
            "backgroundcolor": "#E5ECF6",
            "gridcolor": "white",
            "gridwidth": 2,
            "linecolor": "white",
            "showbackground": true,
            "ticks": "",
            "zerolinecolor": "white"
           },
           "zaxis": {
            "backgroundcolor": "#E5ECF6",
            "gridcolor": "white",
            "gridwidth": 2,
            "linecolor": "white",
            "showbackground": true,
            "ticks": "",
            "zerolinecolor": "white"
           }
          },
          "shapedefaults": {
           "line": {
            "color": "#2a3f5f"
           }
          },
          "ternary": {
           "aaxis": {
            "gridcolor": "white",
            "linecolor": "white",
            "ticks": ""
           },
           "baxis": {
            "gridcolor": "white",
            "linecolor": "white",
            "ticks": ""
           },
           "bgcolor": "#E5ECF6",
           "caxis": {
            "gridcolor": "white",
            "linecolor": "white",
            "ticks": ""
           }
          },
          "title": {
           "x": 0.05
          },
          "xaxis": {
           "automargin": true,
           "gridcolor": "white",
           "linecolor": "white",
           "ticks": "",
           "title": {
            "standoff": 15
           },
           "zerolinecolor": "white",
           "zerolinewidth": 2
          },
          "yaxis": {
           "automargin": true,
           "gridcolor": "white",
           "linecolor": "white",
           "ticks": "",
           "title": {
            "standoff": 15
           },
           "zerolinecolor": "white",
           "zerolinewidth": 2
          }
         }
        },
        "xaxis": {
         "anchor": "y",
         "domain": [
          0,
          1
         ],
         "title": {
          "text": "Proporção de votos do partido/coligação mais votado nas eleições para as Câmaras Municipais"
         }
        },
        "yaxis": {
         "anchor": "x",
         "domain": [
          0,
          1
         ],
         "showgrid": false,
         "showticklabels": false,
         "title": {
          "text": "y"
         }
        }
       }
      }
     },
     "metadata": {},
     "output_type": "display_data"
    },
    {
     "name": "stdout",
     "output_type": "stream",
     "text": [
      "votos_por_partido_ou_coligacao\n",
      "0     95\n",
      "1    120\n",
      "2     93\n",
      "Name: count, dtype: int64\n",
      "File saved to csv_files/2_Proporção de votos do partido:coligação mais votado nas eleições para as Câmaras Municipais.csv\n"
     ]
    }
   ],
   "source": [
    "clustered_df = aplicar_kmeans(only_municipalities_df,3,nome_cluster='votos_por_partido_ou_coligacao')\n",
    "save_clustered_df_to_csv(clustered_df,\"csv_files/\", \"2_Proporção de votos do partido:coligação mais votado nas eleições para as Câmaras Municipais.csv\")"
   ]
  },
  {
   "cell_type": "markdown",
   "id": "39a3ab1c",
   "metadata": {},
   "source": [
    "### Proporção de votos nulos nas eleições para as Assembleias Municipais"
   ]
  },
  {
   "cell_type": "code",
   "execution_count": 8,
   "id": "83810e56",
   "metadata": {},
   "outputs": [
    {
     "data": {
      "text/html": [
       "<div>\n",
       "<style scoped>\n",
       "    .dataframe tbody tr th:only-of-type {\n",
       "        vertical-align: middle;\n",
       "    }\n",
       "\n",
       "    .dataframe tbody tr th {\n",
       "        vertical-align: top;\n",
       "    }\n",
       "\n",
       "    .dataframe thead th {\n",
       "        text-align: right;\n",
       "    }\n",
       "</style>\n",
       "<table border=\"1\" class=\"dataframe\">\n",
       "  <thead>\n",
       "    <tr style=\"text-align: right;\">\n",
       "      <th></th>\n",
       "      <th>local</th>\n",
       "      <th>codigo</th>\n",
       "      <th>Proporção de votos nulos nas eleições para as Assembleias Municipais</th>\n",
       "    </tr>\n",
       "  </thead>\n",
       "  <tbody>\n",
       "    <tr>\n",
       "      <th>4</th>\n",
       "      <td>Arcos de Valdevez</td>\n",
       "      <td>1111601</td>\n",
       "      <td>1.4</td>\n",
       "    </tr>\n",
       "    <tr>\n",
       "      <th>5</th>\n",
       "      <td>Caminha</td>\n",
       "      <td>1111602</td>\n",
       "      <td>1.5</td>\n",
       "    </tr>\n",
       "    <tr>\n",
       "      <th>6</th>\n",
       "      <td>Melgaço</td>\n",
       "      <td>1111603</td>\n",
       "      <td>1.5</td>\n",
       "    </tr>\n",
       "    <tr>\n",
       "      <th>7</th>\n",
       "      <td>Monção</td>\n",
       "      <td>1111604</td>\n",
       "      <td>1.7</td>\n",
       "    </tr>\n",
       "    <tr>\n",
       "      <th>8</th>\n",
       "      <td>Paredes de Coura</td>\n",
       "      <td>1111605</td>\n",
       "      <td>1.9</td>\n",
       "    </tr>\n",
       "    <tr>\n",
       "      <th>...</th>\n",
       "      <td>...</td>\n",
       "      <td>...</td>\n",
       "      <td>...</td>\n",
       "    </tr>\n",
       "    <tr>\n",
       "      <th>342</th>\n",
       "      <td>Ribeira Brava</td>\n",
       "      <td>3003107</td>\n",
       "      <td>3.2</td>\n",
       "    </tr>\n",
       "    <tr>\n",
       "      <th>343</th>\n",
       "      <td>Santa Cruz</td>\n",
       "      <td>3003108</td>\n",
       "      <td>1.8</td>\n",
       "    </tr>\n",
       "    <tr>\n",
       "      <th>344</th>\n",
       "      <td>Santana</td>\n",
       "      <td>3003109</td>\n",
       "      <td>2.2</td>\n",
       "    </tr>\n",
       "    <tr>\n",
       "      <th>345</th>\n",
       "      <td>São Vicente</td>\n",
       "      <td>3003110</td>\n",
       "      <td>3.6</td>\n",
       "    </tr>\n",
       "    <tr>\n",
       "      <th>346</th>\n",
       "      <td>Porto Santo</td>\n",
       "      <td>3003201</td>\n",
       "      <td>1.8</td>\n",
       "    </tr>\n",
       "  </tbody>\n",
       "</table>\n",
       "<p>308 rows × 3 columns</p>\n",
       "</div>"
      ],
      "text/plain": [
       "                 local   codigo  \\\n",
       "4    Arcos de Valdevez  1111601   \n",
       "5              Caminha  1111602   \n",
       "6              Melgaço  1111603   \n",
       "7               Monção  1111604   \n",
       "8     Paredes de Coura  1111605   \n",
       "..                 ...      ...   \n",
       "342      Ribeira Brava  3003107   \n",
       "343         Santa Cruz  3003108   \n",
       "344            Santana  3003109   \n",
       "345        São Vicente  3003110   \n",
       "346        Porto Santo  3003201   \n",
       "\n",
       "     Proporção de votos nulos nas eleições para as Assembleias Municipais  \n",
       "4                                                  1.4                     \n",
       "5                                                  1.5                     \n",
       "6                                                  1.5                     \n",
       "7                                                  1.7                     \n",
       "8                                                  1.9                     \n",
       "..                                                 ...                     \n",
       "342                                                3.2                     \n",
       "343                                                1.8                     \n",
       "344                                                2.2                     \n",
       "345                                                3.6                     \n",
       "346                                                1.8                     \n",
       "\n",
       "[308 rows x 3 columns]"
      ]
     },
     "execution_count": 8,
     "metadata": {},
     "output_type": "execute_result"
    }
   ],
   "source": [
    "original_df = processar_ficheiro(data_path+'Proporção de votos nulos nas eleições para as Assembleias Municipais.xls',0,padding_left=0)\n",
    "only_municipalities_df = carregar_municipios(original_df)\n",
    "only_municipalities_df\n"
   ]
  },
  {
   "cell_type": "code",
   "execution_count": 9,
   "id": "097888e0",
   "metadata": {},
   "outputs": [
    {
     "data": {
      "application/vnd.plotly.v1+json": {
       "config": {
        "plotlyServerURL": "https://plot.ly"
       },
       "data": [
        {
         "customdata": [
          [
           "Arcos de Valdevez",
           "1111601",
           1.4
          ],
          [
           "Caminha",
           "1111602",
           1.5
          ],
          [
           "Melgaço",
           "1111603",
           1.5
          ],
          [
           "Monção",
           "1111604",
           1.7
          ],
          [
           "Paredes de Coura",
           "1111605",
           1.9
          ],
          [
           "Ponte da Barca",
           "1111606",
           1.2
          ],
          [
           "Ponte de Lima",
           "1111607",
           1.6
          ],
          [
           "Valença",
           "1111608",
           1.5
          ],
          [
           "Viana do Castelo",
           "1111609",
           3
          ],
          [
           "Vila Nova de Cerveira",
           "1111610",
           1.1
          ],
          [
           "Amares",
           "1120301",
           1.9
          ],
          [
           "Barcelos",
           "1120302",
           1.6
          ],
          [
           "Braga",
           "1120303",
           1.4
          ],
          [
           "Esposende",
           "1120306",
           1.7
          ],
          [
           "Terras de Bouro",
           "1120310",
           1.7
          ],
          [
           "Vila Verde",
           "1120313",
           1.7
          ],
          [
           "Cabeceiras de Basto",
           "1190304",
           1.4
          ],
          [
           "Fafe",
           "1190307",
           1.9
          ],
          [
           "Guimarães",
           "1190308",
           0.9
          ],
          [
           "Mondim de Basto",
           "1191705",
           1.5
          ],
          [
           "Póvoa de Lanhoso",
           "1190309",
           0.9
          ],
          [
           "Vieira do Minho",
           "1190311",
           1.1
          ],
          [
           "Vila Nova de Famalicão",
           "1190312",
           1.2
          ],
          [
           "Vizela",
           "1190314",
           1.5
          ],
          [
           "Arouca",
           "11A0104",
           1.5
          ],
          [
           "Espinho",
           "11A0107",
           1.9
          ],
          [
           "Gondomar",
           "11A1304",
           2
          ],
          [
           "Maia",
           "11A1306",
           1.9
          ],
          [
           "Matosinhos",
           "11A1308",
           1.7
          ],
          [
           "Oliveira de Azeméis",
           "11A0113",
           1.8
          ],
          [
           "Paredes",
           "11A1310",
           1.8
          ],
          [
           "Porto",
           "11A1312",
           1.2
          ],
          [
           "Póvoa de Varzim",
           "11A1313",
           1.3
          ],
          [
           "Santa Maria da Feira",
           "11A0109",
           1.8
          ],
          [
           "Santo Tirso",
           "11A1314",
           1.6
          ],
          [
           "São João da Madeira",
           "11A0116",
           1.4
          ],
          [
           "Trofa",
           "11A1318",
           1.6
          ],
          [
           "Vale de Cambra",
           "11A0119",
           2.2
          ],
          [
           "Valongo",
           "11A1315",
           2.3
          ],
          [
           "Vila do Conde",
           "11A1316",
           1.1
          ],
          [
           "Vila Nova de Gaia",
           "11A1317",
           1.7
          ],
          [
           "Boticas",
           "11B1702",
           2.5
          ],
          [
           "Chaves",
           "11B1703",
           1.8
          ],
          [
           "Montalegre",
           "11B1706",
           1.6
          ],
          [
           "Ribeira de Pena",
           "11B1709",
           1.4
          ],
          [
           "Valpaços",
           "11B1712",
           2.6
          ],
          [
           "Vila Pouca de Aguiar",
           "11B1713",
           1.6
          ],
          [
           "Amarante",
           "11C1301",
           1.1
          ],
          [
           "Baião",
           "11C1302",
           1.5
          ],
          [
           "Castelo de Paiva",
           "11C0106",
           1.8
          ],
          [
           "Celorico de Basto",
           "11C0305",
           1.5
          ],
          [
           "Cinfães",
           "11C1804",
           1.9
          ],
          [
           "Felgueiras",
           "11C1303",
           1.4
          ],
          [
           "Lousada",
           "11C1305",
           1.1
          ],
          [
           "Marco de Canaveses",
           "11C1307",
           1.4
          ],
          [
           "Paços de Ferreira",
           "11C1309",
           1.3
          ],
          [
           "Penafiel",
           "11C1311",
           1.4
          ],
          [
           "Resende",
           "11C1813",
           1.7
          ],
          [
           "Alijó",
           "11D1701",
           3.6
          ],
          [
           "Armamar",
           "11D1801",
           3.3
          ],
          [
           "Carrazeda de Ansiães",
           "11D0403",
           3.4
          ],
          [
           "Freixo de Espada à Cinta",
           "11D0404",
           2
          ],
          [
           "Lamego",
           "11D1805",
           2
          ],
          [
           "Mesão Frio",
           "11D1704",
           1.7
          ],
          [
           "Moimenta da Beira",
           "11D1807",
           2.6
          ],
          [
           "Murça",
           "11D1707",
           2.1
          ],
          [
           "Penedono",
           "11D1812",
           3.1
          ],
          [
           "Peso da Régua",
           "11D1708",
           1.3
          ],
          [
           "Sabrosa",
           "11D1710",
           2.1
          ],
          [
           "Santa Marta de Penaguião",
           "11D1711",
           2.4
          ],
          [
           "São João da Pesqueira",
           "11D1815",
           2.2
          ],
          [
           "Sernancelhe",
           "11D1818",
           1.9
          ],
          [
           "Tabuaço",
           "11D1819",
           3.6
          ],
          [
           "Tarouca",
           "11D1820",
           2.3
          ],
          [
           "Torre de Moncorvo",
           "11D0409",
           1.5
          ],
          [
           "Vila Nova de Foz Côa",
           "11D0914",
           2.3
          ],
          [
           "Vila Real",
           "11D1714",
           1.4
          ],
          [
           "Alfândega da Fé",
           "11E0401",
           2.5
          ],
          [
           "Bragança",
           "11E0402",
           1.8
          ],
          [
           "Macedo de Cavaleiros",
           "11E0405",
           1.8
          ],
          [
           "Miranda do Douro",
           "11E0406",
           2.2
          ],
          [
           "Mirandela",
           "11E0407",
           1.9
          ],
          [
           "Mogadouro",
           "11E0408",
           2
          ],
          [
           "Vila Flor",
           "11E0410",
           1.7
          ],
          [
           "Vimioso",
           "11E0411",
           3.5
          ],
          [
           "Vinhais",
           "11E0412",
           1.6
          ],
          [
           "Águeda",
           "1910101",
           1.9
          ],
          [
           "Albergaria-a-Velha",
           "1910102",
           1.5
          ],
          [
           "Anadia",
           "1910103",
           2
          ],
          [
           "Aveiro",
           "1910105",
           1.8
          ],
          [
           "Estarreja",
           "1910108",
           2.4
          ],
          [
           "Ílhavo",
           "1910110",
           1.4
          ],
          [
           "Murtosa",
           "1910112",
           1.7
          ],
          [
           "Oliveira do Bairro",
           "1910114",
           1.7
          ],
          [
           "Ovar",
           "1910115",
           2.2
          ],
          [
           "Sever do Vouga",
           "1910117",
           1.7
          ],
          [
           "Vagos",
           "1910118",
           1.7
          ],
          [
           "Arganil",
           "1920601",
           2.4
          ],
          [
           "Cantanhede",
           "1920602",
           1.9
          ],
          [
           "Coimbra",
           "1920603",
           1.1
          ],
          [
           "Condeixa-a-Nova",
           "1920604",
           1.7
          ],
          [
           "Figueira da Foz",
           "1920605",
           1.6
          ],
          [
           "Góis",
           "1920606",
           2.1
          ],
          [
           "Lousã",
           "1920607",
           1.7
          ],
          [
           "Mealhada",
           "1920111",
           1.5
          ],
          [
           "Mira",
           "1920608",
           1.6
          ],
          [
           "Miranda do Corvo",
           "1920609",
           1.5
          ],
          [
           "Montemor-o-Velho",
           "1920610",
           1.4
          ],
          [
           "Mortágua",
           "1921808",
           1.6
          ],
          [
           "Oliveira do Hospital",
           "1920611",
           1.9
          ],
          [
           "Pampilhosa da Serra",
           "1920612",
           1.7
          ],
          [
           "Penacova",
           "1920613",
           1.4
          ],
          [
           "Penela",
           "1920614",
           1.7
          ],
          [
           "Soure",
           "1920615",
           2.1
          ],
          [
           "Tábua",
           "1920616",
           2.1
          ],
          [
           "Vila Nova de Poiares",
           "1920617",
           2.3
          ],
          [
           "Alvaiázere",
           "1931002",
           2
          ],
          [
           "Ansião",
           "1931003",
           1.4
          ],
          [
           "Batalha",
           "1931004",
           1.6
          ],
          [
           "Castanheira de Pêra",
           "1931007",
           2.5
          ],
          [
           "Figueiró dos Vinhos",
           "1931008",
           2.3
          ],
          [
           "Leiria",
           "1931009",
           2
          ],
          [
           "Marinha Grande",
           "1931010",
           1.7
          ],
          [
           "Pedrógão Grande",
           "1931013",
           2.1
          ],
          [
           "Pombal",
           "1931015",
           2.5
          ],
          [
           "Porto de Mós",
           "1931016",
           1.7
          ],
          [
           "Aguiar da Beira",
           "1940901",
           1.7
          ],
          [
           "Carregal do Sal",
           "1941802",
           2.1
          ],
          [
           "Castro Daire",
           "1941803",
           1.5
          ],
          [
           "Mangualde",
           "1941806",
           2.1
          ],
          [
           "Nelas",
           "1941809",
           2.4
          ],
          [
           "Oliveira de Frades",
           "1941810",
           2
          ],
          [
           "Penalva do Castelo",
           "1941811",
           2
          ],
          [
           "Santa Comba Dão",
           "1941814",
           1.8
          ],
          [
           "São Pedro do Sul",
           "1941816",
           1.9
          ],
          [
           "Sátão",
           "1941817",
           1.6
          ],
          [
           "Tondela",
           "1941821",
           1.5
          ],
          [
           "Vila Nova de Paiva",
           "1941822",
           1.9
          ],
          [
           "Viseu",
           "1941823",
           1.4
          ],
          [
           "Vouzela",
           "1941824",
           2
          ],
          [
           "Castelo Branco",
           "1950502",
           1.8
          ],
          [
           "Idanha-a-Nova",
           "1950505",
           2.4
          ],
          [
           "Oleiros",
           "1950506",
           2.7
          ],
          [
           "Penamacor",
           "1950507",
           2.7
          ],
          [
           "Proença-a-Nova",
           "1950508",
           3
          ],
          [
           "Sertã",
           "1950509",
           1.8
          ],
          [
           "Vila de Rei",
           "1950510",
           3.1
          ],
          [
           "Vila Velha de Ródão",
           "1950511",
           2.1
          ],
          [
           "Almeida",
           "1960902",
           2.5
          ],
          [
           "Belmonte",
           "1960501",
           2.4
          ],
          [
           "Celorico da Beira",
           "1960903",
           1.9
          ],
          [
           "Covilhã",
           "1960503",
           2.4
          ],
          [
           "Figueira de Castelo Rodrigo",
           "1960904",
           2.3
          ],
          [
           "Fornos de Algodres",
           "1960905",
           1.6
          ],
          [
           "Fundão",
           "1960504",
           2.5
          ],
          [
           "Gouveia",
           "1960906",
           2.4
          ],
          [
           "Guarda",
           "1960907",
           2
          ],
          [
           "Manteigas",
           "1960908",
           2.3
          ],
          [
           "Mêda",
           "1960909",
           3.1
          ],
          [
           "Pinhel",
           "1960910",
           2.9
          ],
          [
           "Sabugal",
           "1960911",
           1.9
          ],
          [
           "Seia",
           "1960912",
           2.1
          ],
          [
           "Trancoso",
           "1960913",
           2.4
          ],
          [
           "Alcobaça",
           "1D11001",
           2.7
          ],
          [
           "Alenquer",
           "1D11101",
           1.8
          ],
          [
           "Arruda dos Vinhos",
           "1D11102",
           1.4
          ],
          [
           "Bombarral",
           "1D11005",
           1.8
          ],
          [
           "Cadaval",
           "1D11104",
           2
          ],
          [
           "Caldas da Rainha",
           "1D11006",
           1.4
          ],
          [
           "Lourinhã",
           "1D11108",
           2.2
          ],
          [
           "Nazaré",
           "1D11011",
           2.2
          ],
          [
           "Óbidos",
           "1D11012",
           1.6
          ],
          [
           "Peniche",
           "1D11014",
           1.5
          ],
          [
           "Sobral de Monte Agraço",
           "1D11112",
           2.1
          ],
          [
           "Torres Vedras",
           "1D11113",
           1.8
          ],
          [
           "Abrantes",
           "1D21401",
           1.8
          ],
          [
           "Alcanena",
           "1D21402",
           2.1
          ],
          [
           "Constância",
           "1D21408",
           1.5
          ],
          [
           "Entroncamento",
           "1D21410",
           1.5
          ],
          [
           "Ferreira do Zêzere",
           "1D21411",
           2.2
          ],
          [
           "Mação",
           "1D21413",
           2.6
          ],
          [
           "Ourém",
           "1D21421",
           2.4
          ],
          [
           "Sardoal",
           "1D21417",
           2.2
          ],
          [
           "Tomar",
           "1D21418",
           2.1
          ],
          [
           "Torres Novas",
           "1D21419",
           1.6
          ],
          [
           "Vila Nova da Barquinha",
           "1D21420",
           2.1
          ],
          [
           "Almeirim",
           "1D31403",
           1.3
          ],
          [
           "Alpiarça",
           "1D31404",
           1.6
          ],
          [
           "Azambuja",
           "1D31103",
           2.4
          ],
          [
           "Benavente",
           "1D31405",
           2
          ],
          [
           "Cartaxo",
           "1D31406",
           1.4
          ],
          [
           "Chamusca",
           "1D31407",
           1.5
          ],
          [
           "Coruche",
           "1D31409",
           1.6
          ],
          [
           "Golegã",
           "1D31412",
           1.4
          ],
          [
           "Rio Maior",
           "1D31414",
           1.8
          ],
          [
           "Salvaterra de Magos",
           "1D31415",
           2.5
          ],
          [
           "Santarém",
           "1D31416",
           1.4
          ],
          [
           "Amadora",
           "1A01115",
           1.6
          ],
          [
           "Cascais",
           "1A01105",
           1.2
          ],
          [
           "Lisboa",
           "1A01106",
           1.1
          ],
          [
           "Loures",
           "1A01107",
           1.8
          ],
          [
           "Mafra",
           "1A01109",
           1.5
          ],
          [
           "Odivelas",
           "1A01116",
           2
          ],
          [
           "Oeiras",
           "1A01110",
           1.7
          ],
          [
           "Sintra",
           "1A01111",
           1.8
          ],
          [
           "Vila Franca de Xira",
           "1A01114",
           1.8
          ],
          [
           "Alcochete",
           "1B01502",
           1.5
          ],
          [
           "Almada",
           "1B01503",
           1.2
          ],
          [
           "Barreiro",
           "1B01504",
           1.2
          ],
          [
           "Moita",
           "1B01506",
           1.5
          ],
          [
           "Montijo",
           "1B01507",
           1.2
          ],
          [
           "Palmela",
           "1B01508",
           1.6
          ],
          [
           "Seixal",
           "1B01510",
           1.4
          ],
          [
           "Sesimbra",
           "1B01511",
           1.8
          ],
          [
           "Setúbal",
           "1B01512",
           1.3
          ],
          [
           "Alcácer do Sal",
           "1C11501",
           1.5
          ],
          [
           "Grândola",
           "1C11505",
           1.4
          ],
          [
           "Odemira",
           "1C10211",
           2.2
          ],
          [
           "Santiago do Cacém",
           "1C11509",
           1.3
          ],
          [
           "Sines",
           "1C11513",
           0.9
          ],
          [
           "Aljustrel",
           "1C20201",
           1.3
          ],
          [
           "Almodôvar",
           "1C20202",
           1.8
          ],
          [
           "Alvito",
           "1C20203",
           2.6
          ],
          [
           "Barrancos",
           "1C20204",
           1.7
          ],
          [
           "Beja",
           "1C20205",
           7.3
          ],
          [
           "Castro Verde",
           "1C20206",
           1.6
          ],
          [
           "Cuba",
           "1C20207",
           1.4
          ],
          [
           "Ferreira do Alentejo",
           "1C20208",
           1.7
          ],
          [
           "Mértola",
           "1C20209",
           1.9
          ],
          [
           "Moura",
           "1C20210",
           1
          ],
          [
           "Ourique",
           "1C20212",
           1.9
          ],
          [
           "Serpa",
           "1C20213",
           1.6
          ],
          [
           "Vidigueira",
           "1C20214",
           1.9
          ],
          [
           "Alter do Chão",
           "1C31201",
           1.5
          ],
          [
           "Arronches",
           "1C31202",
           1.1
          ],
          [
           "Avis",
           "1C31203",
           2.1
          ],
          [
           "Campo Maior",
           "1C31204",
           1.6
          ],
          [
           "Castelo de Vide",
           "1C31205",
           0.9
          ],
          [
           "Crato",
           "1C31206",
           1.1
          ],
          [
           "Elvas",
           "1C31207",
           1.6
          ],
          [
           "Fronteira",
           "1C31208",
           3.7
          ],
          [
           "Gavião",
           "1C31209",
           1.5
          ],
          [
           "Marvão",
           "1C31210",
           1.8
          ],
          [
           "Monforte",
           "1C31211",
           1.6
          ],
          [
           "Nisa",
           "1C31212",
           1.7
          ],
          [
           "Ponte de Sor",
           "1C31213",
           2.2
          ],
          [
           "Portalegre",
           "1C31214",
           0.9
          ],
          [
           "Sousel",
           "1C31215",
           2
          ],
          [
           "Alandroal",
           "1C40701",
           1.9
          ],
          [
           "Arraiolos",
           "1C40702",
           2.3
          ],
          [
           "Borba",
           "1C40703",
           1.6
          ],
          [
           "Estremoz",
           "1C40704",
           1.4
          ],
          [
           "Évora",
           "1C40705",
           1.3
          ],
          [
           "Montemor-o-Novo",
           "1C40706",
           1
          ],
          [
           "Mora",
           "1C40707",
           1.6
          ],
          [
           "Mourão",
           "1C40708",
           1.7
          ],
          [
           "Portel",
           "1C40709",
           1.1
          ],
          [
           "Redondo",
           "1C40710",
           1.5
          ],
          [
           "Reguengos de Monsaraz",
           "1C40711",
           1.4
          ],
          [
           "Vendas Novas",
           "1C40712",
           1.1
          ],
          [
           "Viana do Alentejo",
           "1C40713",
           1
          ],
          [
           "Vila Viçosa",
           "1C40714",
           1.9
          ],
          [
           "Albufeira",
           "1500801",
           1.2
          ],
          [
           "Alcoutim",
           "1500802",
           1.3
          ],
          [
           "Aljezur",
           "1500803",
           1.6
          ],
          [
           "Castro Marim",
           "1500804",
           1.2
          ],
          [
           "Faro",
           "1500805",
           1.2
          ],
          [
           "Lagoa",
           "1500806",
           1.4
          ],
          [
           "Lagos",
           "1500807",
           1.5
          ],
          [
           "Loulé",
           "1500808",
           1.7
          ],
          [
           "Monchique",
           "1500809",
           1.9
          ],
          [
           "Olhão",
           "1500810",
           1.5
          ],
          [
           "Portimão",
           "1500811",
           1.5
          ],
          [
           "São Brás de Alportel",
           "1500812",
           1.2
          ],
          [
           "Silves",
           "1500813",
           1.9
          ],
          [
           "Tavira",
           "1500814",
           1.2
          ],
          [
           "Vila do Bispo",
           "1500815",
           1.1
          ],
          [
           "Vila Real de Santo António",
           "1500816",
           1.4
          ],
          [
           "Angra do Heroísmo",
           "2004301",
           1.2
          ],
          [
           "Calheta (R.A.A.)",
           "2004501",
           0.8
          ],
          [
           "Corvo",
           "2004901",
           0
          ],
          [
           "Horta",
           "2004701",
           0.7
          ],
          [
           "Lagoa (R.A.A.)",
           "2004201",
           1.5
          ],
          [
           "Lajes das Flores",
           "2004801",
           1.6
          ],
          [
           "Lajes do Pico",
           "2004601",
           1.3
          ],
          [
           "Madalena",
           "2004602",
           0.6
          ],
          [
           "Nordeste",
           "2004202",
           1.6
          ],
          [
           "Ponta Delgada",
           "2004203",
           1.1
          ],
          [
           "Povoação",
           "2004204",
           1.2
          ],
          [
           "Ribeira Grande",
           "2004205",
           1.3
          ],
          [
           "Santa Cruz da Graciosa",
           "2004401",
           2.6
          ],
          [
           "Santa Cruz das Flores",
           "2004802",
           1.5
          ],
          [
           "São Roque do Pico",
           "2004603",
           1.5
          ],
          [
           "Velas",
           "2004502",
           1.5
          ],
          [
           "Vila da Praia da Vitória",
           "2004302",
           0.9
          ],
          [
           "Vila do Porto",
           "2004101",
           1
          ],
          [
           "Vila Franca do Campo",
           "2004206",
           1.5
          ],
          [
           "Calheta (R.A.M.)",
           "3003101",
           2.5
          ],
          [
           "Câmara de Lobos",
           "3003102",
           2.3
          ],
          [
           "Funchal",
           "3003103",
           2
          ],
          [
           "Machico",
           "3003104",
           2.1
          ],
          [
           "Ponta do Sol",
           "3003105",
           1.9
          ],
          [
           "Porto Moniz",
           "3003106",
           1.8
          ],
          [
           "Ribeira Brava",
           "3003107",
           3.2
          ],
          [
           "Santa Cruz",
           "3003108",
           1.8
          ],
          [
           "Santana",
           "3003109",
           2.2
          ],
          [
           "São Vicente",
           "3003110",
           3.6
          ],
          [
           "Porto Santo",
           "3003201",
           1.8
          ]
         ],
         "hovertemplate": "valor=%{x}<br>y=%{y}<br>local=%{customdata[0]}<br>codigo=%{customdata[1]}<br>Proporção de votos nulos nas eleições para as Assembleias Municipais=%{customdata[2]}<br>votos_nulos_assembleias_municipais=%{marker.color}<extra></extra>",
         "legendgroup": "",
         "marker": {
          "color": {
           "bdata": "AAAAAAEAAAACAAEAAAAAAAABAAAAAAAAAAEBAQAAAAAAAAAAAAEBAAABAAAAAQAAAAAAAQAAAAAAAAICAgEBAAEBAgABAQEBAgEAAQABAAABAQEAAgABAAEAAQAAAAEAAAEBAAAAAQAAAAAAAAEAAAABAQEBAAABAQEAAQEAAAEAAQEBAQABAAABAAEAAQEBAgACAQEBAQEBAAEBAQECAgEBAQEAAAABAAEBAAABAAABAAABAQEBAQABAAABAQAAAAAAAQAAAAAAAAEAAAAAAAAAAAAAAAAAAAEAAAAAAQACAAAAAQABAAEAAAEAAAAAAgAAAAABAAEBAQAAAAAAAAAAAAAAAQAAAAAAAAAAAQAAAAEAAAAAAAAAAAAAAAAAAAABAAAAAAAAAQEBAQEAAgABAgA=",
           "dtype": "i1"
          },
          "coloraxis": "coloraxis",
          "size": 10,
          "symbol": "circle"
         },
         "mode": "markers",
         "name": "",
         "orientation": "v",
         "showlegend": false,
         "type": "scatter",
         "x": {
          "bdata": "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",
          "dtype": "f8"
         },
         "xaxis": "x",
         "y": {
          "bdata": "AAAAAAAAAAAAAAAAAAAAAAAAAAAAAAAAAAAAAAAAAAAAAAAAAAAAAAAAAAAAAAAAAAAAAAAAAAAAAAAAAAAAAAAAAAAAAAAAAAAAAAAAAAAAAAAAAAAAAAAAAAAAAAAAAAAAAAAAAAAAAAAAAAAAAAAAAAAAAAAAAAAAAAAAAAAAAAAAAAAAAAAAAAAAAAAAAAAAAAAAAAAAAAAAAAAAAAAAAAAAAAAAAAAAAAAAAAAAAAAAAAAAAAAAAAAAAAAAAAAAAAAAAAAAAAAAAAAAAAAAAAAAAAAAAAAAAAAAAAAAAAAAAAAAAAAAAAAAAAAAAAAAAAAAAAAAAAAAAAAAAAAAAAAAAAAAAAAAAAAAAAAAAAAAAAAAAAAAAAAAAAAAAAAAAAAAAAAAAAAAAAAAAAAAAAA=",
          "dtype": "i1"
         },
         "yaxis": "y"
        }
       ],
       "layout": {
        "coloraxis": {
         "colorbar": {
          "title": {
           "text": "votos_nulos_assembleias_municipais"
          }
         },
         "colorscale": [
          [
           0,
           "#440154"
          ],
          [
           0.1111111111111111,
           "#482878"
          ],
          [
           0.2222222222222222,
           "#3e4989"
          ],
          [
           0.3333333333333333,
           "#31688e"
          ],
          [
           0.4444444444444444,
           "#26828e"
          ],
          [
           0.5555555555555556,
           "#1f9e89"
          ],
          [
           0.6666666666666666,
           "#35b779"
          ],
          [
           0.7777777777777778,
           "#6ece58"
          ],
          [
           0.8888888888888888,
           "#b5de2b"
          ],
          [
           1,
           "#fde725"
          ]
         ]
        },
        "height": 300,
        "legend": {
         "tracegroupgap": 0
        },
        "margin": {
         "t": 60
        },
        "template": {
         "data": {
          "bar": [
           {
            "error_x": {
             "color": "#2a3f5f"
            },
            "error_y": {
             "color": "#2a3f5f"
            },
            "marker": {
             "line": {
              "color": "#E5ECF6",
              "width": 0.5
             },
             "pattern": {
              "fillmode": "overlay",
              "size": 10,
              "solidity": 0.2
             }
            },
            "type": "bar"
           }
          ],
          "barpolar": [
           {
            "marker": {
             "line": {
              "color": "#E5ECF6",
              "width": 0.5
             },
             "pattern": {
              "fillmode": "overlay",
              "size": 10,
              "solidity": 0.2
             }
            },
            "type": "barpolar"
           }
          ],
          "carpet": [
           {
            "aaxis": {
             "endlinecolor": "#2a3f5f",
             "gridcolor": "white",
             "linecolor": "white",
             "minorgridcolor": "white",
             "startlinecolor": "#2a3f5f"
            },
            "baxis": {
             "endlinecolor": "#2a3f5f",
             "gridcolor": "white",
             "linecolor": "white",
             "minorgridcolor": "white",
             "startlinecolor": "#2a3f5f"
            },
            "type": "carpet"
           }
          ],
          "choropleth": [
           {
            "colorbar": {
             "outlinewidth": 0,
             "ticks": ""
            },
            "type": "choropleth"
           }
          ],
          "contour": [
           {
            "colorbar": {
             "outlinewidth": 0,
             "ticks": ""
            },
            "colorscale": [
             [
              0,
              "#0d0887"
             ],
             [
              0.1111111111111111,
              "#46039f"
             ],
             [
              0.2222222222222222,
              "#7201a8"
             ],
             [
              0.3333333333333333,
              "#9c179e"
             ],
             [
              0.4444444444444444,
              "#bd3786"
             ],
             [
              0.5555555555555556,
              "#d8576b"
             ],
             [
              0.6666666666666666,
              "#ed7953"
             ],
             [
              0.7777777777777778,
              "#fb9f3a"
             ],
             [
              0.8888888888888888,
              "#fdca26"
             ],
             [
              1,
              "#f0f921"
             ]
            ],
            "type": "contour"
           }
          ],
          "contourcarpet": [
           {
            "colorbar": {
             "outlinewidth": 0,
             "ticks": ""
            },
            "type": "contourcarpet"
           }
          ],
          "heatmap": [
           {
            "colorbar": {
             "outlinewidth": 0,
             "ticks": ""
            },
            "colorscale": [
             [
              0,
              "#0d0887"
             ],
             [
              0.1111111111111111,
              "#46039f"
             ],
             [
              0.2222222222222222,
              "#7201a8"
             ],
             [
              0.3333333333333333,
              "#9c179e"
             ],
             [
              0.4444444444444444,
              "#bd3786"
             ],
             [
              0.5555555555555556,
              "#d8576b"
             ],
             [
              0.6666666666666666,
              "#ed7953"
             ],
             [
              0.7777777777777778,
              "#fb9f3a"
             ],
             [
              0.8888888888888888,
              "#fdca26"
             ],
             [
              1,
              "#f0f921"
             ]
            ],
            "type": "heatmap"
           }
          ],
          "histogram": [
           {
            "marker": {
             "pattern": {
              "fillmode": "overlay",
              "size": 10,
              "solidity": 0.2
             }
            },
            "type": "histogram"
           }
          ],
          "histogram2d": [
           {
            "colorbar": {
             "outlinewidth": 0,
             "ticks": ""
            },
            "colorscale": [
             [
              0,
              "#0d0887"
             ],
             [
              0.1111111111111111,
              "#46039f"
             ],
             [
              0.2222222222222222,
              "#7201a8"
             ],
             [
              0.3333333333333333,
              "#9c179e"
             ],
             [
              0.4444444444444444,
              "#bd3786"
             ],
             [
              0.5555555555555556,
              "#d8576b"
             ],
             [
              0.6666666666666666,
              "#ed7953"
             ],
             [
              0.7777777777777778,
              "#fb9f3a"
             ],
             [
              0.8888888888888888,
              "#fdca26"
             ],
             [
              1,
              "#f0f921"
             ]
            ],
            "type": "histogram2d"
           }
          ],
          "histogram2dcontour": [
           {
            "colorbar": {
             "outlinewidth": 0,
             "ticks": ""
            },
            "colorscale": [
             [
              0,
              "#0d0887"
             ],
             [
              0.1111111111111111,
              "#46039f"
             ],
             [
              0.2222222222222222,
              "#7201a8"
             ],
             [
              0.3333333333333333,
              "#9c179e"
             ],
             [
              0.4444444444444444,
              "#bd3786"
             ],
             [
              0.5555555555555556,
              "#d8576b"
             ],
             [
              0.6666666666666666,
              "#ed7953"
             ],
             [
              0.7777777777777778,
              "#fb9f3a"
             ],
             [
              0.8888888888888888,
              "#fdca26"
             ],
             [
              1,
              "#f0f921"
             ]
            ],
            "type": "histogram2dcontour"
           }
          ],
          "mesh3d": [
           {
            "colorbar": {
             "outlinewidth": 0,
             "ticks": ""
            },
            "type": "mesh3d"
           }
          ],
          "parcoords": [
           {
            "line": {
             "colorbar": {
              "outlinewidth": 0,
              "ticks": ""
             }
            },
            "type": "parcoords"
           }
          ],
          "pie": [
           {
            "automargin": true,
            "type": "pie"
           }
          ],
          "scatter": [
           {
            "fillpattern": {
             "fillmode": "overlay",
             "size": 10,
             "solidity": 0.2
            },
            "type": "scatter"
           }
          ],
          "scatter3d": [
           {
            "line": {
             "colorbar": {
              "outlinewidth": 0,
              "ticks": ""
             }
            },
            "marker": {
             "colorbar": {
              "outlinewidth": 0,
              "ticks": ""
             }
            },
            "type": "scatter3d"
           }
          ],
          "scattercarpet": [
           {
            "marker": {
             "colorbar": {
              "outlinewidth": 0,
              "ticks": ""
             }
            },
            "type": "scattercarpet"
           }
          ],
          "scattergeo": [
           {
            "marker": {
             "colorbar": {
              "outlinewidth": 0,
              "ticks": ""
             }
            },
            "type": "scattergeo"
           }
          ],
          "scattergl": [
           {
            "marker": {
             "colorbar": {
              "outlinewidth": 0,
              "ticks": ""
             }
            },
            "type": "scattergl"
           }
          ],
          "scattermap": [
           {
            "marker": {
             "colorbar": {
              "outlinewidth": 0,
              "ticks": ""
             }
            },
            "type": "scattermap"
           }
          ],
          "scattermapbox": [
           {
            "marker": {
             "colorbar": {
              "outlinewidth": 0,
              "ticks": ""
             }
            },
            "type": "scattermapbox"
           }
          ],
          "scatterpolar": [
           {
            "marker": {
             "colorbar": {
              "outlinewidth": 0,
              "ticks": ""
             }
            },
            "type": "scatterpolar"
           }
          ],
          "scatterpolargl": [
           {
            "marker": {
             "colorbar": {
              "outlinewidth": 0,
              "ticks": ""
             }
            },
            "type": "scatterpolargl"
           }
          ],
          "scatterternary": [
           {
            "marker": {
             "colorbar": {
              "outlinewidth": 0,
              "ticks": ""
             }
            },
            "type": "scatterternary"
           }
          ],
          "surface": [
           {
            "colorbar": {
             "outlinewidth": 0,
             "ticks": ""
            },
            "colorscale": [
             [
              0,
              "#0d0887"
             ],
             [
              0.1111111111111111,
              "#46039f"
             ],
             [
              0.2222222222222222,
              "#7201a8"
             ],
             [
              0.3333333333333333,
              "#9c179e"
             ],
             [
              0.4444444444444444,
              "#bd3786"
             ],
             [
              0.5555555555555556,
              "#d8576b"
             ],
             [
              0.6666666666666666,
              "#ed7953"
             ],
             [
              0.7777777777777778,
              "#fb9f3a"
             ],
             [
              0.8888888888888888,
              "#fdca26"
             ],
             [
              1,
              "#f0f921"
             ]
            ],
            "type": "surface"
           }
          ],
          "table": [
           {
            "cells": {
             "fill": {
              "color": "#EBF0F8"
             },
             "line": {
              "color": "white"
             }
            },
            "header": {
             "fill": {
              "color": "#C8D4E3"
             },
             "line": {
              "color": "white"
             }
            },
            "type": "table"
           }
          ]
         },
         "layout": {
          "annotationdefaults": {
           "arrowcolor": "#2a3f5f",
           "arrowhead": 0,
           "arrowwidth": 1
          },
          "autotypenumbers": "strict",
          "coloraxis": {
           "colorbar": {
            "outlinewidth": 0,
            "ticks": ""
           }
          },
          "colorscale": {
           "diverging": [
            [
             0,
             "#8e0152"
            ],
            [
             0.1,
             "#c51b7d"
            ],
            [
             0.2,
             "#de77ae"
            ],
            [
             0.3,
             "#f1b6da"
            ],
            [
             0.4,
             "#fde0ef"
            ],
            [
             0.5,
             "#f7f7f7"
            ],
            [
             0.6,
             "#e6f5d0"
            ],
            [
             0.7,
             "#b8e186"
            ],
            [
             0.8,
             "#7fbc41"
            ],
            [
             0.9,
             "#4d9221"
            ],
            [
             1,
             "#276419"
            ]
           ],
           "sequential": [
            [
             0,
             "#0d0887"
            ],
            [
             0.1111111111111111,
             "#46039f"
            ],
            [
             0.2222222222222222,
             "#7201a8"
            ],
            [
             0.3333333333333333,
             "#9c179e"
            ],
            [
             0.4444444444444444,
             "#bd3786"
            ],
            [
             0.5555555555555556,
             "#d8576b"
            ],
            [
             0.6666666666666666,
             "#ed7953"
            ],
            [
             0.7777777777777778,
             "#fb9f3a"
            ],
            [
             0.8888888888888888,
             "#fdca26"
            ],
            [
             1,
             "#f0f921"
            ]
           ],
           "sequentialminus": [
            [
             0,
             "#0d0887"
            ],
            [
             0.1111111111111111,
             "#46039f"
            ],
            [
             0.2222222222222222,
             "#7201a8"
            ],
            [
             0.3333333333333333,
             "#9c179e"
            ],
            [
             0.4444444444444444,
             "#bd3786"
            ],
            [
             0.5555555555555556,
             "#d8576b"
            ],
            [
             0.6666666666666666,
             "#ed7953"
            ],
            [
             0.7777777777777778,
             "#fb9f3a"
            ],
            [
             0.8888888888888888,
             "#fdca26"
            ],
            [
             1,
             "#f0f921"
            ]
           ]
          },
          "colorway": [
           "#636efa",
           "#EF553B",
           "#00cc96",
           "#ab63fa",
           "#FFA15A",
           "#19d3f3",
           "#FF6692",
           "#B6E880",
           "#FF97FF",
           "#FECB52"
          ],
          "font": {
           "color": "#2a3f5f"
          },
          "geo": {
           "bgcolor": "white",
           "lakecolor": "white",
           "landcolor": "#E5ECF6",
           "showlakes": true,
           "showland": true,
           "subunitcolor": "white"
          },
          "hoverlabel": {
           "align": "left"
          },
          "hovermode": "closest",
          "mapbox": {
           "style": "light"
          },
          "paper_bgcolor": "white",
          "plot_bgcolor": "#E5ECF6",
          "polar": {
           "angularaxis": {
            "gridcolor": "white",
            "linecolor": "white",
            "ticks": ""
           },
           "bgcolor": "#E5ECF6",
           "radialaxis": {
            "gridcolor": "white",
            "linecolor": "white",
            "ticks": ""
           }
          },
          "scene": {
           "xaxis": {
            "backgroundcolor": "#E5ECF6",
            "gridcolor": "white",
            "gridwidth": 2,
            "linecolor": "white",
            "showbackground": true,
            "ticks": "",
            "zerolinecolor": "white"
           },
           "yaxis": {
            "backgroundcolor": "#E5ECF6",
            "gridcolor": "white",
            "gridwidth": 2,
            "linecolor": "white",
            "showbackground": true,
            "ticks": "",
            "zerolinecolor": "white"
           },
           "zaxis": {
            "backgroundcolor": "#E5ECF6",
            "gridcolor": "white",
            "gridwidth": 2,
            "linecolor": "white",
            "showbackground": true,
            "ticks": "",
            "zerolinecolor": "white"
           }
          },
          "shapedefaults": {
           "line": {
            "color": "#2a3f5f"
           }
          },
          "ternary": {
           "aaxis": {
            "gridcolor": "white",
            "linecolor": "white",
            "ticks": ""
           },
           "baxis": {
            "gridcolor": "white",
            "linecolor": "white",
            "ticks": ""
           },
           "bgcolor": "#E5ECF6",
           "caxis": {
            "gridcolor": "white",
            "linecolor": "white",
            "ticks": ""
           }
          },
          "title": {
           "x": 0.05
          },
          "xaxis": {
           "automargin": true,
           "gridcolor": "white",
           "linecolor": "white",
           "ticks": "",
           "title": {
            "standoff": 15
           },
           "zerolinecolor": "white",
           "zerolinewidth": 2
          },
          "yaxis": {
           "automargin": true,
           "gridcolor": "white",
           "linecolor": "white",
           "ticks": "",
           "title": {
            "standoff": 15
           },
           "zerolinecolor": "white",
           "zerolinewidth": 2
          }
         }
        },
        "xaxis": {
         "anchor": "y",
         "domain": [
          0,
          1
         ],
         "title": {
          "text": "Proporção de votos nulos nas eleições para as Assembleias Municipais"
         }
        },
        "yaxis": {
         "anchor": "x",
         "domain": [
          0,
          1
         ],
         "showgrid": false,
         "showticklabels": false,
         "title": {
          "text": "y"
         }
        }
       }
      }
     },
     "metadata": {},
     "output_type": "display_data"
    },
    {
     "name": "stdout",
     "output_type": "stream",
     "text": [
      "votos_nulos_assembleias_municipais\n",
      "0    191\n",
      "1    102\n",
      "2     15\n",
      "Name: count, dtype: int64\n",
      "File saved to csv_files/2_Proporção de votos nulos nas eleições para as Assembleias Municipais.csv\n"
     ]
    }
   ],
   "source": [
    "clustered_df = aplicar_kmeans(only_municipalities_df,3,nome_cluster='votos_nulos_assembleias_municipais')\n",
    "save_clustered_df_to_csv(clustered_df,\"csv_files/\", \"2_Proporção de votos nulos nas eleições para as Assembleias Municipais.csv\")"
   ]
  },
  {
   "cell_type": "markdown",
   "id": "e8a5bd78",
   "metadata": {},
   "source": [
    "### Rendimento bruto declarado por habitante"
   ]
  },
  {
   "cell_type": "code",
   "execution_count": 10,
   "id": "fc8c0d7d",
   "metadata": {},
   "outputs": [
    {
     "data": {
      "text/html": [
       "<div>\n",
       "<style scoped>\n",
       "    .dataframe tbody tr th:only-of-type {\n",
       "        vertical-align: middle;\n",
       "    }\n",
       "\n",
       "    .dataframe tbody tr th {\n",
       "        vertical-align: top;\n",
       "    }\n",
       "\n",
       "    .dataframe thead th {\n",
       "        text-align: right;\n",
       "    }\n",
       "</style>\n",
       "<table border=\"1\" class=\"dataframe\">\n",
       "  <thead>\n",
       "    <tr style=\"text-align: right;\">\n",
       "      <th></th>\n",
       "      <th>local</th>\n",
       "      <th>codigo</th>\n",
       "      <th>Rendimento bruto declarado por habitante</th>\n",
       "    </tr>\n",
       "  </thead>\n",
       "  <tbody>\n",
       "    <tr>\n",
       "      <th>4</th>\n",
       "      <td>Arcos de Valdevez</td>\n",
       "      <td>1111601</td>\n",
       "      <td>7928.0</td>\n",
       "    </tr>\n",
       "    <tr>\n",
       "      <th>5</th>\n",
       "      <td>Caminha</td>\n",
       "      <td>1111602</td>\n",
       "      <td>10017.0</td>\n",
       "    </tr>\n",
       "    <tr>\n",
       "      <th>6</th>\n",
       "      <td>Melgaço</td>\n",
       "      <td>1111603</td>\n",
       "      <td>7847.0</td>\n",
       "    </tr>\n",
       "    <tr>\n",
       "      <th>7</th>\n",
       "      <td>Monção</td>\n",
       "      <td>1111604</td>\n",
       "      <td>8348.0</td>\n",
       "    </tr>\n",
       "    <tr>\n",
       "      <th>8</th>\n",
       "      <td>Paredes de Coura</td>\n",
       "      <td>1111605</td>\n",
       "      <td>8083.0</td>\n",
       "    </tr>\n",
       "    <tr>\n",
       "      <th>...</th>\n",
       "      <td>...</td>\n",
       "      <td>...</td>\n",
       "      <td>...</td>\n",
       "    </tr>\n",
       "    <tr>\n",
       "      <th>342</th>\n",
       "      <td>Ribeira Brava</td>\n",
       "      <td>3003107</td>\n",
       "      <td>7196.0</td>\n",
       "    </tr>\n",
       "    <tr>\n",
       "      <th>343</th>\n",
       "      <td>Santa Cruz</td>\n",
       "      <td>3003108</td>\n",
       "      <td>9976.0</td>\n",
       "    </tr>\n",
       "    <tr>\n",
       "      <th>344</th>\n",
       "      <td>Santana</td>\n",
       "      <td>3003109</td>\n",
       "      <td>7363.0</td>\n",
       "    </tr>\n",
       "    <tr>\n",
       "      <th>345</th>\n",
       "      <td>São Vicente</td>\n",
       "      <td>3003110</td>\n",
       "      <td>7000.0</td>\n",
       "    </tr>\n",
       "    <tr>\n",
       "      <th>346</th>\n",
       "      <td>Porto Santo</td>\n",
       "      <td>3003201</td>\n",
       "      <td>14233.0</td>\n",
       "    </tr>\n",
       "  </tbody>\n",
       "</table>\n",
       "<p>308 rows × 3 columns</p>\n",
       "</div>"
      ],
      "text/plain": [
       "                 local   codigo  Rendimento bruto declarado por habitante\n",
       "4    Arcos de Valdevez  1111601                                    7928.0\n",
       "5              Caminha  1111602                                   10017.0\n",
       "6              Melgaço  1111603                                    7847.0\n",
       "7               Monção  1111604                                    8348.0\n",
       "8     Paredes de Coura  1111605                                    8083.0\n",
       "..                 ...      ...                                       ...\n",
       "342      Ribeira Brava  3003107                                    7196.0\n",
       "343         Santa Cruz  3003108                                    9976.0\n",
       "344            Santana  3003109                                    7363.0\n",
       "345        São Vicente  3003110                                    7000.0\n",
       "346        Porto Santo  3003201                                   14233.0\n",
       "\n",
       "[308 rows x 3 columns]"
      ]
     },
     "execution_count": 10,
     "metadata": {},
     "output_type": "execute_result"
    }
   ],
   "source": [
    "original_df = processar_ficheiro(data_path+'Rendimento bruto declarado por habitante.xls',0,padding_left=0)\n",
    "only_municipalities_df = carregar_municipios(original_df)\n",
    "only_municipalities_df\n"
   ]
  },
  {
   "cell_type": "code",
   "execution_count": 11,
   "id": "8974248d",
   "metadata": {},
   "outputs": [
    {
     "data": {
      "application/vnd.plotly.v1+json": {
       "config": {
        "plotlyServerURL": "https://plot.ly"
       },
       "data": [
        {
         "customdata": [
          [
           "Arcos de Valdevez",
           "1111601",
           7928
          ],
          [
           "Caminha",
           "1111602",
           10017
          ],
          [
           "Melgaço",
           "1111603",
           7847
          ],
          [
           "Monção",
           "1111604",
           8348
          ],
          [
           "Paredes de Coura",
           "1111605",
           8083
          ],
          [
           "Ponte da Barca",
           "1111606",
           7830
          ],
          [
           "Ponte de Lima",
           "1111607",
           8519
          ],
          [
           "Valença",
           "1111608",
           8749
          ],
          [
           "Viana do Castelo",
           "1111609",
           10681
          ],
          [
           "Vila Nova de Cerveira",
           "1111610",
           9417
          ],
          [
           "Amares",
           "1120301",
           8526
          ],
          [
           "Barcelos",
           "1120302",
           8891
          ],
          [
           "Braga",
           "1120303",
           11407
          ],
          [
           "Esposende",
           "1120306",
           10063
          ],
          [
           "Terras de Bouro",
           "1120310",
           7637
          ],
          [
           "Vila Verde",
           "1120313",
           8044
          ],
          [
           "Cabeceiras de Basto",
           "1190304",
           7224
          ],
          [
           "Fafe",
           "1190307",
           8683
          ],
          [
           "Guimarães",
           "1190308",
           10113
          ],
          [
           "Mondim de Basto",
           "1191705",
           7022
          ],
          [
           "Póvoa de Lanhoso",
           "1190309",
           7500
          ],
          [
           "Vieira do Minho",
           "1190311",
           7382
          ],
          [
           "Vila Nova de Famalicão",
           "1190312",
           10378
          ],
          [
           "Vizela",
           "1190314",
           9311
          ],
          [
           "Arouca",
           "11A0104",
           8341
          ],
          [
           "Espinho",
           "11A0107",
           10955
          ],
          [
           "Gondomar",
           "11A1304",
           10012
          ],
          [
           "Maia",
           "11A1306",
           12155
          ],
          [
           "Matosinhos",
           "11A1308",
           12504
          ],
          [
           "Oliveira de Azeméis",
           "11A0113",
           10287
          ],
          [
           "Paredes",
           "11A1310",
           8205
          ],
          [
           "Porto",
           "11A1312",
           14938
          ],
          [
           "Póvoa de Varzim",
           "11A1313",
           10001
          ],
          [
           "Santa Maria da Feira",
           "11A0109",
           9900
          ],
          [
           "Santo Tirso",
           "11A1314",
           10093
          ],
          [
           "São João da Madeira",
           "11A0116",
           10611
          ],
          [
           "Trofa",
           "11A1318",
           10010
          ],
          [
           "Vale de Cambra",
           "11A0119",
           10375
          ],
          [
           "Valongo",
           "11A1315",
           10056
          ],
          [
           "Vila do Conde",
           "11A1316",
           10632
          ],
          [
           "Vila Nova de Gaia",
           "11A1317",
           11145
          ],
          [
           "Boticas",
           "11B1702",
           6901
          ],
          [
           "Chaves",
           "11B1703",
           8925
          ],
          [
           "Montalegre",
           "11B1706",
           7155
          ],
          [
           "Ribeira de Pena",
           "11B1709",
           7032
          ],
          [
           "Valpaços",
           "11B1712",
           6481
          ],
          [
           "Vila Pouca de Aguiar",
           "11B1713",
           7506
          ],
          [
           "Amarante",
           "11C1301",
           7999
          ],
          [
           "Baião",
           "11C1302",
           6813
          ],
          [
           "Castelo de Paiva",
           "11C0106",
           7665
          ],
          [
           "Celorico de Basto",
           "11C0305",
           6658
          ],
          [
           "Cinfães",
           "11C1804",
           6363
          ],
          [
           "Felgueiras",
           "11C1303",
           8524
          ],
          [
           "Lousada",
           "11C1305",
           8110
          ],
          [
           "Marco de Canaveses",
           "11C1307",
           7292
          ],
          [
           "Paços de Ferreira",
           "11C1309",
           8103
          ],
          [
           "Penafiel",
           "11C1311",
           8315
          ],
          [
           "Resende",
           "11C1813",
           6355
          ],
          [
           "Alijó",
           "11D1701",
           7300
          ],
          [
           "Armamar",
           "11D1801",
           6701
          ],
          [
           "Carrazeda de Ansiães",
           "11D0403",
           7218
          ],
          [
           "Freixo de Espada à Cinta",
           "11D0404",
           7736
          ],
          [
           "Lamego",
           "11D1805",
           9023
          ],
          [
           "Mesão Frio",
           "11D1704",
           7341
          ],
          [
           "Moimenta da Beira",
           "11D1807",
           7281
          ],
          [
           "Murça",
           "11D1707",
           7176
          ],
          [
           "Penedono",
           "11D1812",
           6824
          ],
          [
           "Peso da Régua",
           "11D1708",
           8473
          ],
          [
           "Sabrosa",
           "11D1710",
           7857
          ],
          [
           "Santa Marta de Penaguião",
           "11D1711",
           7472
          ],
          [
           "São João da Pesqueira",
           "11D1815",
           7169
          ],
          [
           "Sernancelhe",
           "11D1818",
           6197
          ],
          [
           "Tabuaço",
           "11D1819",
           6270
          ],
          [
           "Tarouca",
           "11D1820",
           6881
          ],
          [
           "Torre de Moncorvo",
           "11D0409",
           7902
          ],
          [
           "Vila Nova de Foz Côa",
           "11D0914",
           7778
          ],
          [
           "Vila Real",
           "11D1714",
           10914
          ],
          [
           "Alfândega da Fé",
           "11E0401",
           7795
          ],
          [
           "Bragança",
           "11E0402",
           10557
          ],
          [
           "Macedo de Cavaleiros",
           "11E0405",
           7952
          ],
          [
           "Miranda do Douro",
           "11E0406",
           9118
          ],
          [
           "Mirandela",
           "11E0407",
           8909
          ],
          [
           "Mogadouro",
           "11E0408",
           8241
          ],
          [
           "Vila Flor",
           "11E0410",
           7216
          ],
          [
           "Vimioso",
           "11E0411",
           7520
          ],
          [
           "Vinhais",
           "11E0412",
           7294
          ],
          [
           "Águeda",
           "1910101",
           10438
          ],
          [
           "Albergaria-a-Velha",
           "1910102",
           9871
          ],
          [
           "Anadia",
           "1910103",
           10228
          ],
          [
           "Aveiro",
           "1910105",
           12656
          ],
          [
           "Estarreja",
           "1910108",
           9942
          ],
          [
           "Ílhavo",
           "1910110",
           11130
          ],
          [
           "Murtosa",
           "1910112",
           8181
          ],
          [
           "Oliveira do Bairro",
           "1910114",
           9432
          ],
          [
           "Ovar",
           "1910115",
           10756
          ],
          [
           "Sever do Vouga",
           "1910117",
           9506
          ],
          [
           "Vagos",
           "1910118",
           8836
          ],
          [
           "Arganil",
           "1920601",
           8012
          ],
          [
           "Cantanhede",
           "1920602",
           9401
          ],
          [
           "Coimbra",
           "1920603",
           14255
          ],
          [
           "Condeixa-a-Nova",
           "1920604",
           11213
          ],
          [
           "Figueira da Foz",
           "1920605",
           11632
          ],
          [
           "Góis",
           "1920606",
           8403
          ],
          [
           "Lousã",
           "1920607",
           9668
          ],
          [
           "Mealhada",
           "1920111",
           10526
          ],
          [
           "Mira",
           "1920608",
           9326
          ],
          [
           "Miranda do Corvo",
           "1920609",
           8966
          ],
          [
           "Montemor-o-Velho",
           "1920610",
           10021
          ],
          [
           "Mortágua",
           "1921808",
           9027
          ],
          [
           "Oliveira do Hospital",
           "1920611",
           8223
          ],
          [
           "Pampilhosa da Serra",
           "1920612",
           6948
          ],
          [
           "Penacova",
           "1920613",
           8704
          ],
          [
           "Penela",
           "1920614",
           8623
          ],
          [
           "Soure",
           "1920615",
           9935
          ],
          [
           "Tábua",
           "1920616",
           7993
          ],
          [
           "Vila Nova de Poiares",
           "1920617",
           8744
          ],
          [
           "Alvaiázere",
           "1931002",
           7798
          ],
          [
           "Ansião",
           "1931003",
           8472
          ],
          [
           "Batalha",
           "1931004",
           10270
          ],
          [
           "Castanheira de Pêra",
           "1931007",
           8287
          ],
          [
           "Figueiró dos Vinhos",
           "1931008",
           8565
          ],
          [
           "Leiria",
           "1931009",
           11502
          ],
          [
           "Marinha Grande",
           "1931010",
           11398
          ],
          [
           "Pedrógão Grande",
           "1931013",
           8187
          ],
          [
           "Pombal",
           "1931015",
           9293
          ],
          [
           "Porto de Mós",
           "1931016",
           9733
          ],
          [
           "Aguiar da Beira",
           "1940901",
           7071
          ],
          [
           "Carregal do Sal",
           "1941802",
           8120
          ],
          [
           "Castro Daire",
           "1941803",
           6799
          ],
          [
           "Mangualde",
           "1941806",
           9000
          ],
          [
           "Nelas",
           "1941809",
           9223
          ],
          [
           "Oliveira de Frades",
           "1941810",
           8689
          ],
          [
           "Penalva do Castelo",
           "1941811",
           7374
          ],
          [
           "Santa Comba Dão",
           "1941814",
           8645
          ],
          [
           "São Pedro do Sul",
           "1941816",
           8163
          ],
          [
           "Sátão",
           "1941817",
           8069
          ],
          [
           "Tondela",
           "1941821",
           8964
          ],
          [
           "Vila Nova de Paiva",
           "1941822",
           7073
          ],
          [
           "Viseu",
           "1941823",
           10954
          ],
          [
           "Vouzela",
           "1941824",
           8057
          ],
          [
           "Castelo Branco",
           "1950502",
           11147
          ],
          [
           "Idanha-a-Nova",
           "1950505",
           8151
          ],
          [
           "Oleiros",
           "1950506",
           8000
          ],
          [
           "Penamacor",
           "1950507",
           7433
          ],
          [
           "Proença-a-Nova",
           "1950508",
           8496
          ],
          [
           "Sertã",
           "1950509",
           7833
          ],
          [
           "Vila de Rei",
           "1950510",
           7847
          ],
          [
           "Vila Velha de Ródão",
           "1950511",
           9007
          ],
          [
           "Almeida",
           "1960902",
           9386
          ],
          [
           "Belmonte",
           "1960501",
           8164
          ],
          [
           "Celorico da Beira",
           "1960903",
           8036
          ],
          [
           "Covilhã",
           "1960503",
           10249
          ],
          [
           "Figueira de Castelo Rodrigo",
           "1960904",
           8069
          ],
          [
           "Fornos de Algodres",
           "1960905",
           7157
          ],
          [
           "Fundão",
           "1960504",
           9118
          ],
          [
           "Gouveia",
           "1960906",
           8106
          ],
          [
           "Guarda",
           "1960907",
           10969
          ],
          [
           "Manteigas",
           "1960908",
           8646
          ],
          [
           "Mêda",
           "1960909",
           7501
          ],
          [
           "Pinhel",
           "1960910",
           8530
          ],
          [
           "Sabugal",
           "1960911",
           7442
          ],
          [
           "Seia",
           "1960912",
           8845
          ],
          [
           "Trancoso",
           "1960913",
           7938
          ],
          [
           "Alcobaça",
           "1D11001",
           9759
          ],
          [
           "Alenquer",
           "1D11101",
           10194
          ],
          [
           "Arruda dos Vinhos",
           "1D11102",
           12319
          ],
          [
           "Bombarral",
           "1D11005",
           9117
          ],
          [
           "Cadaval",
           "1D11104",
           8923
          ],
          [
           "Caldas da Rainha",
           "1D11006",
           10535
          ],
          [
           "Lourinhã",
           "1D11108",
           9698
          ],
          [
           "Nazaré",
           "1D11011",
           9586
          ],
          [
           "Óbidos",
           "1D11012",
           9856
          ],
          [
           "Peniche",
           "1D11014",
           9787
          ],
          [
           "Sobral de Monte Agraço",
           "1D11112",
           10018
          ],
          [
           "Torres Vedras",
           "1D11113",
           10622
          ],
          [
           "Abrantes",
           "1D21401",
           10030
          ],
          [
           "Alcanena",
           "1D21402",
           9360
          ],
          [
           "Constância",
           "1D21408",
           10356
          ],
          [
           "Entroncamento",
           "1D21410",
           11357
          ],
          [
           "Ferreira do Zêzere",
           "1D21411",
           8261
          ],
          [
           "Mação",
           "1D21413",
           8721
          ],
          [
           "Ourém",
           "1D21421",
           9188
          ],
          [
           "Sardoal",
           "1D21417",
           9385
          ],
          [
           "Tomar",
           "1D21418",
           10178
          ],
          [
           "Torres Novas",
           "1D21419",
           10750
          ],
          [
           "Vila Nova da Barquinha",
           "1D21420",
           10898
          ],
          [
           "Almeirim",
           "1D31403",
           9229
          ],
          [
           "Alpiarça",
           "1D31404",
           9348
          ],
          [
           "Azambuja",
           "1D31103",
           9621
          ],
          [
           "Benavente",
           "1D31405",
           10403
          ],
          [
           "Cartaxo",
           "1D31406",
           10775
          ],
          [
           "Chamusca",
           "1D31407",
           8669
          ],
          [
           "Coruche",
           "1D31409",
           9340
          ],
          [
           "Golegã",
           "1D31412",
           10322
          ],
          [
           "Rio Maior",
           "1D31414",
           9560
          ],
          [
           "Salvaterra de Magos",
           "1D31415",
           9671
          ],
          [
           "Santarém",
           "1D31416",
           11136
          ],
          [
           "Amadora",
           "1A01115",
           11197
          ],
          [
           "Cascais",
           "1A01105",
           14877
          ],
          [
           "Lisboa",
           "1A01106",
           18115
          ],
          [
           "Loures",
           "1A01107",
           11874
          ],
          [
           "Mafra",
           "1A01109",
           12238
          ],
          [
           "Odivelas",
           "1A01116",
           11995
          ],
          [
           "Oeiras",
           "1A01110",
           17045
          ],
          [
           "Sintra",
           "1A01111",
           11219
          ],
          [
           "Vila Franca de Xira",
           "1A01114",
           11749
          ],
          [
           "Alcochete",
           "1B01502",
           13516
          ],
          [
           "Almada",
           "1B01503",
           12497
          ],
          [
           "Barreiro",
           "1B01504",
           11567
          ],
          [
           "Moita",
           "1B01506",
           9724
          ],
          [
           "Montijo",
           "1B01507",
           11209
          ],
          [
           "Palmela",
           "1B01508",
           11455
          ],
          [
           "Seixal",
           "1B01510",
           11896
          ],
          [
           "Sesimbra",
           "1B01511",
           11552
          ],
          [
           "Setúbal",
           "1B01512",
           12248
          ],
          [
           "Alcácer do Sal",
           "1C11501",
           9896
          ],
          [
           "Grândola",
           "1C11505",
           10195
          ],
          [
           "Odemira",
           "1C10211",
           9141
          ],
          [
           "Santiago do Cacém",
           "1C11509",
           12329
          ],
          [
           "Sines",
           "1C11513",
           12470
          ],
          [
           "Aljustrel",
           "1C20201",
           10639
          ],
          [
           "Almodôvar",
           "1C20202",
           10570
          ],
          [
           "Alvito",
           "1C20203",
           8649
          ],
          [
           "Barrancos",
           "1C20204",
           7959
          ],
          [
           "Beja",
           "1C20205",
           11312
          ],
          [
           "Castro Verde",
           "1C20206",
           11602
          ],
          [
           "Cuba",
           "1C20207",
           9439
          ],
          [
           "Ferreira do Alentejo",
           "1C20208",
           8680
          ],
          [
           "Mértola",
           "1C20209",
           8258
          ],
          [
           "Moura",
           "1C20210",
           7679
          ],
          [
           "Ourique",
           "1C20212",
           9288
          ],
          [
           "Serpa",
           "1C20213",
           8295
          ],
          [
           "Vidigueira",
           "1C20214",
           8885
          ],
          [
           "Alter do Chão",
           "1C31201",
           9428
          ],
          [
           "Arronches",
           "1C31202",
           9515
          ],
          [
           "Avis",
           "1C31203",
           8713
          ],
          [
           "Campo Maior",
           "1C31204",
           9859
          ],
          [
           "Castelo de Vide",
           "1C31205",
           10028
          ],
          [
           "Crato",
           "1C31206",
           9330
          ],
          [
           "Elvas",
           "1C31207",
           9848
          ],
          [
           "Fronteira",
           "1C31208",
           9769
          ],
          [
           "Gavião",
           "1C31209",
           9219
          ],
          [
           "Marvão",
           "1C31210",
           8678
          ],
          [
           "Monforte",
           "1C31211",
           7925
          ],
          [
           "Nisa",
           "1C31212",
           10100
          ],
          [
           "Ponte de Sor",
           "1C31213",
           9024
          ],
          [
           "Portalegre",
           "1C31214",
           11779
          ],
          [
           "Sousel",
           "1C31215",
           8773
          ],
          [
           "Alandroal",
           "1C40701",
           8745
          ],
          [
           "Arraiolos",
           "1C40702",
           10163
          ],
          [
           "Borba",
           "1C40703",
           9251
          ],
          [
           "Estremoz",
           "1C40704",
           9931
          ],
          [
           "Évora",
           "1C40705",
           12642
          ],
          [
           "Montemor-o-Novo",
           "1C40706",
           9864
          ],
          [
           "Mora",
           "1C40707",
           9795
          ],
          [
           "Mourão",
           "1C40708",
           8448
          ],
          [
           "Portel",
           "1C40709",
           8059
          ],
          [
           "Redondo",
           "1C40710",
           8832
          ],
          [
           "Reguengos de Monsaraz",
           "1C40711",
           9805
          ],
          [
           "Vendas Novas",
           "1C40712",
           10525
          ],
          [
           "Viana do Alentejo",
           "1C40713",
           9190
          ],
          [
           "Vila Viçosa",
           "1C40714",
           10141
          ],
          [
           "Albufeira",
           "1500801",
           10760
          ],
          [
           "Alcoutim",
           "1500802",
           8940
          ],
          [
           "Aljezur",
           "1500803",
           8430
          ],
          [
           "Castro Marim",
           "1500804",
           9553
          ],
          [
           "Faro",
           "1500805",
           12492
          ],
          [
           "Lagoa",
           "1500806",
           10257
          ],
          [
           "Lagos",
           "1500807",
           10035
          ],
          [
           "Loulé",
           "1500808",
           11313
          ],
          [
           "Monchique",
           "1500809",
           7492
          ],
          [
           "Olhão",
           "1500810",
           9393
          ],
          [
           "Portimão",
           "1500811",
           10829
          ],
          [
           "São Brás de Alportel",
           "1500812",
           10243
          ],
          [
           "Silves",
           "1500813",
           9625
          ],
          [
           "Tavira",
           "1500814",
           9996
          ],
          [
           "Vila do Bispo",
           "1500815",
           9124
          ],
          [
           "Vila Real de Santo António",
           "1500816",
           9597
          ],
          [
           "Angra do Heroísmo",
           "2004301",
           11406
          ],
          [
           "Calheta (R.A.A.)",
           "2004501",
           8083
          ],
          [
           "Corvo",
           "2004901",
           11427
          ],
          [
           "Horta",
           "2004701",
           11445
          ],
          [
           "Lagoa (R.A.A.)",
           "2004201",
           9381
          ],
          [
           "Lajes das Flores",
           "2004801",
           9966
          ],
          [
           "Lajes do Pico",
           "2004601",
           9306
          ],
          [
           "Madalena",
           "2004602",
           9876
          ],
          [
           "Nordeste",
           "2004202",
           7478
          ],
          [
           "Ponta Delgada",
           "2004203",
           12384
          ],
          [
           "Povoação",
           "2004204",
           7283
          ],
          [
           "Ribeira Grande",
           "2004205",
           7882
          ],
          [
           "Santa Cruz da Graciosa",
           "2004401",
           9139
          ],
          [
           "Santa Cruz das Flores",
           "2004802",
           10590
          ],
          [
           "São Roque do Pico",
           "2004603",
           10690
          ],
          [
           "Velas",
           "2004502",
           9642
          ],
          [
           "Vila da Praia da Vitória",
           "2004302",
           10221
          ],
          [
           "Vila do Porto",
           "2004101",
           12686
          ],
          [
           "Vila Franca do Campo",
           "2004206",
           7604
          ],
          [
           "Calheta (R.A.M.)",
           "3003101",
           7392
          ],
          [
           "Câmara de Lobos",
           "3003102",
           6922
          ],
          [
           "Funchal",
           "3003103",
           12110
          ],
          [
           "Machico",
           "3003104",
           8500
          ],
          [
           "Ponta do Sol",
           "3003105",
           7081
          ],
          [
           "Porto Moniz",
           "3003106",
           7730
          ],
          [
           "Ribeira Brava",
           "3003107",
           7196
          ],
          [
           "Santa Cruz",
           "3003108",
           9976
          ],
          [
           "Santana",
           "3003109",
           7363
          ],
          [
           "São Vicente",
           "3003110",
           7000
          ],
          [
           "Porto Santo",
           "3003201",
           14233
          ]
         ],
         "hovertemplate": "valor=%{x}<br>y=%{y}<br>local=%{customdata[0]}<br>codigo=%{customdata[1]}<br>Rendimento bruto declarado por habitante=%{customdata[2]}<br>rendimento_bruto=%{marker.color}<extra></extra>",
         "legendgroup": "",
         "marker": {
          "color": {
           "bdata": "AAEAAAAAAAABAQABAgEAAAAAAQAAAAEBAAEBAgIBAAIBAQEBAQEBAQIAAQAAAAAAAAAAAAAAAAAAAAAAAAABAAAAAAAAAAAAAAAAAAEAAQABAQAAAAABAQECAQIAAQEBAQABAgICAAEBAQEBAQAAAAABAAAAAAEAAAICAAEBAAAAAQEAAAAAAAEAAQACAAAAAAAAAQEAAAEAAAEAAQAAAAABAAEBAgEBAQEBAQEBAQEBAQIAAAEBAQEBAQEBAQEAAQEBAQICAgICAgICAgICAgIBAgICAgIBAQECAgEBAAACAgEAAAABAAEBAQABAQEBAQEAAAEBAgAAAQEBAgEBAAABAQEBAQEBAAECAQECAAEBAQEBAQECAAICAQEBAQACAAABAQEBAQIAAAACAAAAAAEAAAI=",
           "dtype": "i1"
          },
          "coloraxis": "coloraxis",
          "size": 10,
          "symbol": "circle"
         },
         "mode": "markers",
         "name": "",
         "orientation": "v",
         "showlegend": false,
         "type": "scatter",
         "x": {
          "bdata": "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",
          "dtype": "f8"
         },
         "xaxis": "x",
         "y": {
          "bdata": "AAAAAAAAAAAAAAAAAAAAAAAAAAAAAAAAAAAAAAAAAAAAAAAAAAAAAAAAAAAAAAAAAAAAAAAAAAAAAAAAAAAAAAAAAAAAAAAAAAAAAAAAAAAAAAAAAAAAAAAAAAAAAAAAAAAAAAAAAAAAAAAAAAAAAAAAAAAAAAAAAAAAAAAAAAAAAAAAAAAAAAAAAAAAAAAAAAAAAAAAAAAAAAAAAAAAAAAAAAAAAAAAAAAAAAAAAAAAAAAAAAAAAAAAAAAAAAAAAAAAAAAAAAAAAAAAAAAAAAAAAAAAAAAAAAAAAAAAAAAAAAAAAAAAAAAAAAAAAAAAAAAAAAAAAAAAAAAAAAAAAAAAAAAAAAAAAAAAAAAAAAAAAAAAAAAAAAAAAAAAAAAAAAAAAAAAAAAAAAAAAAAAAAAAAAA=",
          "dtype": "i1"
         },
         "yaxis": "y"
        }
       ],
       "layout": {
        "coloraxis": {
         "colorbar": {
          "title": {
           "text": "rendimento_bruto"
          }
         },
         "colorscale": [
          [
           0,
           "#440154"
          ],
          [
           0.1111111111111111,
           "#482878"
          ],
          [
           0.2222222222222222,
           "#3e4989"
          ],
          [
           0.3333333333333333,
           "#31688e"
          ],
          [
           0.4444444444444444,
           "#26828e"
          ],
          [
           0.5555555555555556,
           "#1f9e89"
          ],
          [
           0.6666666666666666,
           "#35b779"
          ],
          [
           0.7777777777777778,
           "#6ece58"
          ],
          [
           0.8888888888888888,
           "#b5de2b"
          ],
          [
           1,
           "#fde725"
          ]
         ]
        },
        "height": 300,
        "legend": {
         "tracegroupgap": 0
        },
        "margin": {
         "t": 60
        },
        "template": {
         "data": {
          "bar": [
           {
            "error_x": {
             "color": "#2a3f5f"
            },
            "error_y": {
             "color": "#2a3f5f"
            },
            "marker": {
             "line": {
              "color": "#E5ECF6",
              "width": 0.5
             },
             "pattern": {
              "fillmode": "overlay",
              "size": 10,
              "solidity": 0.2
             }
            },
            "type": "bar"
           }
          ],
          "barpolar": [
           {
            "marker": {
             "line": {
              "color": "#E5ECF6",
              "width": 0.5
             },
             "pattern": {
              "fillmode": "overlay",
              "size": 10,
              "solidity": 0.2
             }
            },
            "type": "barpolar"
           }
          ],
          "carpet": [
           {
            "aaxis": {
             "endlinecolor": "#2a3f5f",
             "gridcolor": "white",
             "linecolor": "white",
             "minorgridcolor": "white",
             "startlinecolor": "#2a3f5f"
            },
            "baxis": {
             "endlinecolor": "#2a3f5f",
             "gridcolor": "white",
             "linecolor": "white",
             "minorgridcolor": "white",
             "startlinecolor": "#2a3f5f"
            },
            "type": "carpet"
           }
          ],
          "choropleth": [
           {
            "colorbar": {
             "outlinewidth": 0,
             "ticks": ""
            },
            "type": "choropleth"
           }
          ],
          "contour": [
           {
            "colorbar": {
             "outlinewidth": 0,
             "ticks": ""
            },
            "colorscale": [
             [
              0,
              "#0d0887"
             ],
             [
              0.1111111111111111,
              "#46039f"
             ],
             [
              0.2222222222222222,
              "#7201a8"
             ],
             [
              0.3333333333333333,
              "#9c179e"
             ],
             [
              0.4444444444444444,
              "#bd3786"
             ],
             [
              0.5555555555555556,
              "#d8576b"
             ],
             [
              0.6666666666666666,
              "#ed7953"
             ],
             [
              0.7777777777777778,
              "#fb9f3a"
             ],
             [
              0.8888888888888888,
              "#fdca26"
             ],
             [
              1,
              "#f0f921"
             ]
            ],
            "type": "contour"
           }
          ],
          "contourcarpet": [
           {
            "colorbar": {
             "outlinewidth": 0,
             "ticks": ""
            },
            "type": "contourcarpet"
           }
          ],
          "heatmap": [
           {
            "colorbar": {
             "outlinewidth": 0,
             "ticks": ""
            },
            "colorscale": [
             [
              0,
              "#0d0887"
             ],
             [
              0.1111111111111111,
              "#46039f"
             ],
             [
              0.2222222222222222,
              "#7201a8"
             ],
             [
              0.3333333333333333,
              "#9c179e"
             ],
             [
              0.4444444444444444,
              "#bd3786"
             ],
             [
              0.5555555555555556,
              "#d8576b"
             ],
             [
              0.6666666666666666,
              "#ed7953"
             ],
             [
              0.7777777777777778,
              "#fb9f3a"
             ],
             [
              0.8888888888888888,
              "#fdca26"
             ],
             [
              1,
              "#f0f921"
             ]
            ],
            "type": "heatmap"
           }
          ],
          "histogram": [
           {
            "marker": {
             "pattern": {
              "fillmode": "overlay",
              "size": 10,
              "solidity": 0.2
             }
            },
            "type": "histogram"
           }
          ],
          "histogram2d": [
           {
            "colorbar": {
             "outlinewidth": 0,
             "ticks": ""
            },
            "colorscale": [
             [
              0,
              "#0d0887"
             ],
             [
              0.1111111111111111,
              "#46039f"
             ],
             [
              0.2222222222222222,
              "#7201a8"
             ],
             [
              0.3333333333333333,
              "#9c179e"
             ],
             [
              0.4444444444444444,
              "#bd3786"
             ],
             [
              0.5555555555555556,
              "#d8576b"
             ],
             [
              0.6666666666666666,
              "#ed7953"
             ],
             [
              0.7777777777777778,
              "#fb9f3a"
             ],
             [
              0.8888888888888888,
              "#fdca26"
             ],
             [
              1,
              "#f0f921"
             ]
            ],
            "type": "histogram2d"
           }
          ],
          "histogram2dcontour": [
           {
            "colorbar": {
             "outlinewidth": 0,
             "ticks": ""
            },
            "colorscale": [
             [
              0,
              "#0d0887"
             ],
             [
              0.1111111111111111,
              "#46039f"
             ],
             [
              0.2222222222222222,
              "#7201a8"
             ],
             [
              0.3333333333333333,
              "#9c179e"
             ],
             [
              0.4444444444444444,
              "#bd3786"
             ],
             [
              0.5555555555555556,
              "#d8576b"
             ],
             [
              0.6666666666666666,
              "#ed7953"
             ],
             [
              0.7777777777777778,
              "#fb9f3a"
             ],
             [
              0.8888888888888888,
              "#fdca26"
             ],
             [
              1,
              "#f0f921"
             ]
            ],
            "type": "histogram2dcontour"
           }
          ],
          "mesh3d": [
           {
            "colorbar": {
             "outlinewidth": 0,
             "ticks": ""
            },
            "type": "mesh3d"
           }
          ],
          "parcoords": [
           {
            "line": {
             "colorbar": {
              "outlinewidth": 0,
              "ticks": ""
             }
            },
            "type": "parcoords"
           }
          ],
          "pie": [
           {
            "automargin": true,
            "type": "pie"
           }
          ],
          "scatter": [
           {
            "fillpattern": {
             "fillmode": "overlay",
             "size": 10,
             "solidity": 0.2
            },
            "type": "scatter"
           }
          ],
          "scatter3d": [
           {
            "line": {
             "colorbar": {
              "outlinewidth": 0,
              "ticks": ""
             }
            },
            "marker": {
             "colorbar": {
              "outlinewidth": 0,
              "ticks": ""
             }
            },
            "type": "scatter3d"
           }
          ],
          "scattercarpet": [
           {
            "marker": {
             "colorbar": {
              "outlinewidth": 0,
              "ticks": ""
             }
            },
            "type": "scattercarpet"
           }
          ],
          "scattergeo": [
           {
            "marker": {
             "colorbar": {
              "outlinewidth": 0,
              "ticks": ""
             }
            },
            "type": "scattergeo"
           }
          ],
          "scattergl": [
           {
            "marker": {
             "colorbar": {
              "outlinewidth": 0,
              "ticks": ""
             }
            },
            "type": "scattergl"
           }
          ],
          "scattermap": [
           {
            "marker": {
             "colorbar": {
              "outlinewidth": 0,
              "ticks": ""
             }
            },
            "type": "scattermap"
           }
          ],
          "scattermapbox": [
           {
            "marker": {
             "colorbar": {
              "outlinewidth": 0,
              "ticks": ""
             }
            },
            "type": "scattermapbox"
           }
          ],
          "scatterpolar": [
           {
            "marker": {
             "colorbar": {
              "outlinewidth": 0,
              "ticks": ""
             }
            },
            "type": "scatterpolar"
           }
          ],
          "scatterpolargl": [
           {
            "marker": {
             "colorbar": {
              "outlinewidth": 0,
              "ticks": ""
             }
            },
            "type": "scatterpolargl"
           }
          ],
          "scatterternary": [
           {
            "marker": {
             "colorbar": {
              "outlinewidth": 0,
              "ticks": ""
             }
            },
            "type": "scatterternary"
           }
          ],
          "surface": [
           {
            "colorbar": {
             "outlinewidth": 0,
             "ticks": ""
            },
            "colorscale": [
             [
              0,
              "#0d0887"
             ],
             [
              0.1111111111111111,
              "#46039f"
             ],
             [
              0.2222222222222222,
              "#7201a8"
             ],
             [
              0.3333333333333333,
              "#9c179e"
             ],
             [
              0.4444444444444444,
              "#bd3786"
             ],
             [
              0.5555555555555556,
              "#d8576b"
             ],
             [
              0.6666666666666666,
              "#ed7953"
             ],
             [
              0.7777777777777778,
              "#fb9f3a"
             ],
             [
              0.8888888888888888,
              "#fdca26"
             ],
             [
              1,
              "#f0f921"
             ]
            ],
            "type": "surface"
           }
          ],
          "table": [
           {
            "cells": {
             "fill": {
              "color": "#EBF0F8"
             },
             "line": {
              "color": "white"
             }
            },
            "header": {
             "fill": {
              "color": "#C8D4E3"
             },
             "line": {
              "color": "white"
             }
            },
            "type": "table"
           }
          ]
         },
         "layout": {
          "annotationdefaults": {
           "arrowcolor": "#2a3f5f",
           "arrowhead": 0,
           "arrowwidth": 1
          },
          "autotypenumbers": "strict",
          "coloraxis": {
           "colorbar": {
            "outlinewidth": 0,
            "ticks": ""
           }
          },
          "colorscale": {
           "diverging": [
            [
             0,
             "#8e0152"
            ],
            [
             0.1,
             "#c51b7d"
            ],
            [
             0.2,
             "#de77ae"
            ],
            [
             0.3,
             "#f1b6da"
            ],
            [
             0.4,
             "#fde0ef"
            ],
            [
             0.5,
             "#f7f7f7"
            ],
            [
             0.6,
             "#e6f5d0"
            ],
            [
             0.7,
             "#b8e186"
            ],
            [
             0.8,
             "#7fbc41"
            ],
            [
             0.9,
             "#4d9221"
            ],
            [
             1,
             "#276419"
            ]
           ],
           "sequential": [
            [
             0,
             "#0d0887"
            ],
            [
             0.1111111111111111,
             "#46039f"
            ],
            [
             0.2222222222222222,
             "#7201a8"
            ],
            [
             0.3333333333333333,
             "#9c179e"
            ],
            [
             0.4444444444444444,
             "#bd3786"
            ],
            [
             0.5555555555555556,
             "#d8576b"
            ],
            [
             0.6666666666666666,
             "#ed7953"
            ],
            [
             0.7777777777777778,
             "#fb9f3a"
            ],
            [
             0.8888888888888888,
             "#fdca26"
            ],
            [
             1,
             "#f0f921"
            ]
           ],
           "sequentialminus": [
            [
             0,
             "#0d0887"
            ],
            [
             0.1111111111111111,
             "#46039f"
            ],
            [
             0.2222222222222222,
             "#7201a8"
            ],
            [
             0.3333333333333333,
             "#9c179e"
            ],
            [
             0.4444444444444444,
             "#bd3786"
            ],
            [
             0.5555555555555556,
             "#d8576b"
            ],
            [
             0.6666666666666666,
             "#ed7953"
            ],
            [
             0.7777777777777778,
             "#fb9f3a"
            ],
            [
             0.8888888888888888,
             "#fdca26"
            ],
            [
             1,
             "#f0f921"
            ]
           ]
          },
          "colorway": [
           "#636efa",
           "#EF553B",
           "#00cc96",
           "#ab63fa",
           "#FFA15A",
           "#19d3f3",
           "#FF6692",
           "#B6E880",
           "#FF97FF",
           "#FECB52"
          ],
          "font": {
           "color": "#2a3f5f"
          },
          "geo": {
           "bgcolor": "white",
           "lakecolor": "white",
           "landcolor": "#E5ECF6",
           "showlakes": true,
           "showland": true,
           "subunitcolor": "white"
          },
          "hoverlabel": {
           "align": "left"
          },
          "hovermode": "closest",
          "mapbox": {
           "style": "light"
          },
          "paper_bgcolor": "white",
          "plot_bgcolor": "#E5ECF6",
          "polar": {
           "angularaxis": {
            "gridcolor": "white",
            "linecolor": "white",
            "ticks": ""
           },
           "bgcolor": "#E5ECF6",
           "radialaxis": {
            "gridcolor": "white",
            "linecolor": "white",
            "ticks": ""
           }
          },
          "scene": {
           "xaxis": {
            "backgroundcolor": "#E5ECF6",
            "gridcolor": "white",
            "gridwidth": 2,
            "linecolor": "white",
            "showbackground": true,
            "ticks": "",
            "zerolinecolor": "white"
           },
           "yaxis": {
            "backgroundcolor": "#E5ECF6",
            "gridcolor": "white",
            "gridwidth": 2,
            "linecolor": "white",
            "showbackground": true,
            "ticks": "",
            "zerolinecolor": "white"
           },
           "zaxis": {
            "backgroundcolor": "#E5ECF6",
            "gridcolor": "white",
            "gridwidth": 2,
            "linecolor": "white",
            "showbackground": true,
            "ticks": "",
            "zerolinecolor": "white"
           }
          },
          "shapedefaults": {
           "line": {
            "color": "#2a3f5f"
           }
          },
          "ternary": {
           "aaxis": {
            "gridcolor": "white",
            "linecolor": "white",
            "ticks": ""
           },
           "baxis": {
            "gridcolor": "white",
            "linecolor": "white",
            "ticks": ""
           },
           "bgcolor": "#E5ECF6",
           "caxis": {
            "gridcolor": "white",
            "linecolor": "white",
            "ticks": ""
           }
          },
          "title": {
           "x": 0.05
          },
          "xaxis": {
           "automargin": true,
           "gridcolor": "white",
           "linecolor": "white",
           "ticks": "",
           "title": {
            "standoff": 15
           },
           "zerolinecolor": "white",
           "zerolinewidth": 2
          },
          "yaxis": {
           "automargin": true,
           "gridcolor": "white",
           "linecolor": "white",
           "ticks": "",
           "title": {
            "standoff": 15
           },
           "zerolinecolor": "white",
           "zerolinewidth": 2
          }
         }
        },
        "xaxis": {
         "anchor": "y",
         "domain": [
          0,
          1
         ],
         "title": {
          "text": "Rendimento bruto declarado por habitante"
         }
        },
        "yaxis": {
         "anchor": "x",
         "domain": [
          0,
          1
         ],
         "showgrid": false,
         "showticklabels": false,
         "title": {
          "text": "y"
         }
        }
       }
      }
     },
     "metadata": {},
     "output_type": "display_data"
    },
    {
     "name": "stdout",
     "output_type": "stream",
     "text": [
      "rendimento_bruto\n",
      "0    127\n",
      "1    133\n",
      "2     48\n",
      "Name: count, dtype: int64\n",
      "File saved to csv_files/2_Rendimento bruto declarado por habitante.csv\n"
     ]
    }
   ],
   "source": [
    "clustered_df = aplicar_kmeans(only_municipalities_df,3,nome_cluster='rendimento_bruto')\n",
    "save_clustered_df_to_csv(clustered_df,\"csv_files/\", \"2_Rendimento bruto declarado por habitante.csv\")"
   ]
  },
  {
   "cell_type": "markdown",
   "id": "5a53a232",
   "metadata": {},
   "source": [
    "### Taxa de abstenção"
   ]
  },
  {
   "cell_type": "code",
   "execution_count": 12,
   "id": "de581164",
   "metadata": {},
   "outputs": [
    {
     "data": {
      "text/html": [
       "<div>\n",
       "<style scoped>\n",
       "    .dataframe tbody tr th:only-of-type {\n",
       "        vertical-align: middle;\n",
       "    }\n",
       "\n",
       "    .dataframe tbody tr th {\n",
       "        vertical-align: top;\n",
       "    }\n",
       "\n",
       "    .dataframe thead th {\n",
       "        text-align: right;\n",
       "    }\n",
       "</style>\n",
       "<table border=\"1\" class=\"dataframe\">\n",
       "  <thead>\n",
       "    <tr style=\"text-align: right;\">\n",
       "      <th></th>\n",
       "      <th>local</th>\n",
       "      <th>codigo</th>\n",
       "      <th>Taxa abstenção</th>\n",
       "    </tr>\n",
       "  </thead>\n",
       "  <tbody>\n",
       "    <tr>\n",
       "      <th>4</th>\n",
       "      <td>Arcos de Valdevez</td>\n",
       "      <td>1111601</td>\n",
       "      <td>42.9</td>\n",
       "    </tr>\n",
       "    <tr>\n",
       "      <th>5</th>\n",
       "      <td>Caminha</td>\n",
       "      <td>1111602</td>\n",
       "      <td>38.3</td>\n",
       "    </tr>\n",
       "    <tr>\n",
       "      <th>6</th>\n",
       "      <td>Melgaço</td>\n",
       "      <td>1111603</td>\n",
       "      <td>58.7</td>\n",
       "    </tr>\n",
       "    <tr>\n",
       "      <th>7</th>\n",
       "      <td>Monção</td>\n",
       "      <td>1111604</td>\n",
       "      <td>39.4</td>\n",
       "    </tr>\n",
       "    <tr>\n",
       "      <th>8</th>\n",
       "      <td>Paredes de Coura</td>\n",
       "      <td>1111605</td>\n",
       "      <td>41.1</td>\n",
       "    </tr>\n",
       "    <tr>\n",
       "      <th>...</th>\n",
       "      <td>...</td>\n",
       "      <td>...</td>\n",
       "      <td>...</td>\n",
       "    </tr>\n",
       "    <tr>\n",
       "      <th>342</th>\n",
       "      <td>Ribeira Brava</td>\n",
       "      <td>3003107</td>\n",
       "      <td>47.0</td>\n",
       "    </tr>\n",
       "    <tr>\n",
       "      <th>343</th>\n",
       "      <td>Santa Cruz</td>\n",
       "      <td>3003108</td>\n",
       "      <td>44.9</td>\n",
       "    </tr>\n",
       "    <tr>\n",
       "      <th>344</th>\n",
       "      <td>Santana</td>\n",
       "      <td>3003109</td>\n",
       "      <td>37.3</td>\n",
       "    </tr>\n",
       "    <tr>\n",
       "      <th>345</th>\n",
       "      <td>São Vicente</td>\n",
       "      <td>3003110</td>\n",
       "      <td>44.5</td>\n",
       "    </tr>\n",
       "    <tr>\n",
       "      <th>346</th>\n",
       "      <td>Porto Santo</td>\n",
       "      <td>3003201</td>\n",
       "      <td>30.9</td>\n",
       "    </tr>\n",
       "  </tbody>\n",
       "</table>\n",
       "<p>308 rows × 3 columns</p>\n",
       "</div>"
      ],
      "text/plain": [
       "                 local   codigo  Taxa abstenção\n",
       "4    Arcos de Valdevez  1111601            42.9\n",
       "5              Caminha  1111602            38.3\n",
       "6              Melgaço  1111603            58.7\n",
       "7               Monção  1111604            39.4\n",
       "8     Paredes de Coura  1111605            41.1\n",
       "..                 ...      ...             ...\n",
       "342      Ribeira Brava  3003107            47.0\n",
       "343         Santa Cruz  3003108            44.9\n",
       "344            Santana  3003109            37.3\n",
       "345        São Vicente  3003110            44.5\n",
       "346        Porto Santo  3003201            30.9\n",
       "\n",
       "[308 rows x 3 columns]"
      ]
     },
     "execution_count": 12,
     "metadata": {},
     "output_type": "execute_result"
    }
   ],
   "source": [
    "original_df = processar_ficheiro(data_path+'taxa de abstenção.xls',0,padding_left=0)\n",
    "only_municipalities_df = carregar_municipios(original_df)\n",
    "only_municipalities_df\n"
   ]
  },
  {
   "cell_type": "code",
   "execution_count": 13,
   "id": "26ed9fb8",
   "metadata": {},
   "outputs": [
    {
     "data": {
      "application/vnd.plotly.v1+json": {
       "config": {
        "plotlyServerURL": "https://plot.ly"
       },
       "data": [
        {
         "customdata": [
          [
           "Arcos de Valdevez",
           "1111601",
           42.9
          ],
          [
           "Caminha",
           "1111602",
           38.3
          ],
          [
           "Melgaço",
           "1111603",
           58.7
          ],
          [
           "Monção",
           "1111604",
           39.4
          ],
          [
           "Paredes de Coura",
           "1111605",
           41.1
          ],
          [
           "Ponte da Barca",
           "1111606",
           35.7
          ],
          [
           "Ponte de Lima",
           "1111607",
           32.4
          ],
          [
           "Valença",
           "1111608",
           34.1
          ],
          [
           "Viana do Castelo",
           "1111609",
           43.7
          ],
          [
           "Vila Nova de Cerveira",
           "1111610",
           28.5
          ],
          [
           "Amares",
           "1120301",
           35.9
          ],
          [
           "Barcelos",
           "1120302",
           30
          ],
          [
           "Braga",
           "1120303",
           43.1
          ],
          [
           "Esposende",
           "1120306",
           40.2
          ],
          [
           "Terras de Bouro",
           "1120310",
           31
          ],
          [
           "Vila Verde",
           "1120313",
           39
          ],
          [
           "Cabeceiras de Basto",
           "1190304",
           33.8
          ],
          [
           "Fafe",
           "1190307",
           39.1
          ],
          [
           "Guimarães",
           "1190308",
           36.4
          ],
          [
           "Mondim de Basto",
           "1191705",
           38.5
          ],
          [
           "Póvoa de Lanhoso",
           "1190309",
           29
          ],
          [
           "Vieira do Minho",
           "1190311",
           27.9
          ],
          [
           "Vila Nova de Famalicão",
           "1190312",
           36.5
          ],
          [
           "Vizela",
           "1190314",
           35.7
          ],
          [
           "Arouca",
           "11A0104",
           29.9
          ],
          [
           "Espinho",
           "11A0107",
           44.7
          ],
          [
           "Gondomar",
           "11A1304",
           51.2
          ],
          [
           "Maia",
           "11A1306",
           47.7
          ],
          [
           "Matosinhos",
           "11A1308",
           54
          ],
          [
           "Oliveira de Azeméis",
           "11A0113",
           46.5
          ],
          [
           "Paredes",
           "11A1310",
           33.9
          ],
          [
           "Porto",
           "11A1312",
           51.2
          ],
          [
           "Póvoa de Varzim",
           "11A1313",
           51.9
          ],
          [
           "Santa Maria da Feira",
           "11A0109",
           44.4
          ],
          [
           "Santo Tirso",
           "11A1314",
           42.7
          ],
          [
           "São João da Madeira",
           "11A0116",
           51
          ],
          [
           "Trofa",
           "11A1318",
           37.7
          ],
          [
           "Vale de Cambra",
           "11A0119",
           36.1
          ],
          [
           "Valongo",
           "11A1315",
           52.2
          ],
          [
           "Vila do Conde",
           "11A1316",
           39.6
          ],
          [
           "Vila Nova de Gaia",
           "11A1317",
           52.3
          ],
          [
           "Boticas",
           "11B1702",
           47.9
          ],
          [
           "Chaves",
           "11B1703",
           44.5
          ],
          [
           "Montalegre",
           "11B1706",
           45.6
          ],
          [
           "Ribeira de Pena",
           "11B1709",
           36.5
          ],
          [
           "Valpaços",
           "11B1712",
           47.1
          ],
          [
           "Vila Pouca de Aguiar",
           "11B1713",
           39
          ],
          [
           "Amarante",
           "11C1301",
           38.2
          ],
          [
           "Baião",
           "11C1302",
           32.3
          ],
          [
           "Castelo de Paiva",
           "11C0106",
           22.2
          ],
          [
           "Celorico de Basto",
           "11C0305",
           30
          ],
          [
           "Cinfães",
           "11C1804",
           33.8
          ],
          [
           "Felgueiras",
           "11C1303",
           37.1
          ],
          [
           "Lousada",
           "11C1305",
           32
          ],
          [
           "Marco de Canaveses",
           "11C1307",
           33.4
          ],
          [
           "Paços de Ferreira",
           "11C1309",
           34.3
          ],
          [
           "Penafiel",
           "11C1311",
           29.5
          ],
          [
           "Resende",
           "11C1813",
           26.6
          ],
          [
           "Alijó",
           "11D1701",
           35.2
          ],
          [
           "Armamar",
           "11D1801",
           33.7
          ],
          [
           "Carrazeda de Ansiães",
           "11D0403",
           36.1
          ],
          [
           "Freixo de Espada à Cinta",
           "11D0404",
           22.2
          ],
          [
           "Lamego",
           "11D1805",
           35.1
          ],
          [
           "Mesão Frio",
           "11D1704",
           28.8
          ],
          [
           "Moimenta da Beira",
           "11D1807",
           36.4
          ],
          [
           "Murça",
           "11D1707",
           38
          ],
          [
           "Penedono",
           "11D1812",
           33.1
          ],
          [
           "Peso da Régua",
           "11D1708",
           41.2
          ],
          [
           "Sabrosa",
           "11D1710",
           32.4
          ],
          [
           "Santa Marta de Penaguião",
           "11D1711",
           36.4
          ],
          [
           "São João da Pesqueira",
           "11D1815",
           30.9
          ],
          [
           "Sernancelhe",
           "11D1818",
           25.1
          ],
          [
           "Tabuaço",
           "11D1819",
           31.2
          ],
          [
           "Tarouca",
           "11D1820",
           37.4
          ],
          [
           "Torre de Moncorvo",
           "11D0409",
           30.6
          ],
          [
           "Vila Nova de Foz Côa",
           "11D0914",
           37.1
          ],
          [
           "Vila Real",
           "11D1714",
           39.8
          ],
          [
           "Alfândega da Fé",
           "11E0401",
           28.5
          ],
          [
           "Bragança",
           "11E0402",
           49.4
          ],
          [
           "Macedo de Cavaleiros",
           "11E0405",
           40.7
          ],
          [
           "Miranda do Douro",
           "11E0406",
           27.6
          ],
          [
           "Mirandela",
           "11E0407",
           37.8
          ],
          [
           "Mogadouro",
           "11E0408",
           31.9
          ],
          [
           "Vila Flor",
           "11E0410",
           32
          ],
          [
           "Vimioso",
           "11E0411",
           42
          ],
          [
           "Vinhais",
           "11E0412",
           31.8
          ],
          [
           "Águeda",
           "1910101",
           47.3
          ],
          [
           "Albergaria-a-Velha",
           "1910102",
           40.5
          ],
          [
           "Anadia",
           "1910103",
           47.3
          ],
          [
           "Aveiro",
           "1910105",
           51.5
          ],
          [
           "Estarreja",
           "1910108",
           52
          ],
          [
           "Ílhavo",
           "1910110",
           54.6
          ],
          [
           "Murtosa",
           "1910112",
           52.7
          ],
          [
           "Oliveira do Bairro",
           "1910114",
           47.6
          ],
          [
           "Ovar",
           "1910115",
           47
          ],
          [
           "Sever do Vouga",
           "1910117",
           30.3
          ],
          [
           "Vagos",
           "1910118",
           46.8
          ],
          [
           "Arganil",
           "1920601",
           38.3
          ],
          [
           "Cantanhede",
           "1920602",
           47.9
          ],
          [
           "Coimbra",
           "1920603",
           47.1
          ],
          [
           "Condeixa-a-Nova",
           "1920604",
           45.1
          ],
          [
           "Figueira da Foz",
           "1920605",
           43.5
          ],
          [
           "Góis",
           "1920606",
           26.6
          ],
          [
           "Lousã",
           "1920607",
           44.6
          ],
          [
           "Mealhada",
           "1920111",
           46.7
          ],
          [
           "Mira",
           "1920608",
           41.9
          ],
          [
           "Miranda do Corvo",
           "1920609",
           39.4
          ],
          [
           "Montemor-o-Velho",
           "1920610",
           38
          ],
          [
           "Mortágua",
           "1921808",
           38.5
          ],
          [
           "Oliveira do Hospital",
           "1920611",
           32.5
          ],
          [
           "Pampilhosa da Serra",
           "1920612",
           26.9
          ],
          [
           "Penacova",
           "1920613",
           37.7
          ],
          [
           "Penela",
           "1920614",
           31.2
          ],
          [
           "Soure",
           "1920615",
           42.9
          ],
          [
           "Tábua",
           "1920616",
           32.2
          ],
          [
           "Vila Nova de Poiares",
           "1920617",
           45
          ],
          [
           "Alvaiázere",
           "1931002",
           34.6
          ],
          [
           "Ansião",
           "1931003",
           35.3
          ],
          [
           "Batalha",
           "1931004",
           37.4
          ],
          [
           "Castanheira de Pêra",
           "1931007",
           26.6
          ],
          [
           "Figueiró dos Vinhos",
           "1931008",
           31.1
          ],
          [
           "Leiria",
           "1931009",
           46.8
          ],
          [
           "Marinha Grande",
           "1931010",
           51.3
          ],
          [
           "Pedrógão Grande",
           "1931013",
           33.4
          ],
          [
           "Pombal",
           "1931015",
           53.2
          ],
          [
           "Porto de Mós",
           "1931016",
           36.6
          ],
          [
           "Aguiar da Beira",
           "1940901",
           29.7
          ],
          [
           "Carregal do Sal",
           "1941802",
           38.2
          ],
          [
           "Castro Daire",
           "1941803",
           32.3
          ],
          [
           "Mangualde",
           "1941806",
           41.1
          ],
          [
           "Nelas",
           "1941809",
           38.9
          ],
          [
           "Oliveira de Frades",
           "1941810",
           30.6
          ],
          [
           "Penalva do Castelo",
           "1941811",
           31.5
          ],
          [
           "Santa Comba Dão",
           "1941814",
           38.9
          ],
          [
           "São Pedro do Sul",
           "1941816",
           32.7
          ],
          [
           "Sátão",
           "1941817",
           40.4
          ],
          [
           "Tondela",
           "1941821",
           36.6
          ],
          [
           "Vila Nova de Paiva",
           "1941822",
           45.5
          ],
          [
           "Viseu",
           "1941823",
           43.5
          ],
          [
           "Vouzela",
           "1941824",
           32.1
          ],
          [
           "Castelo Branco",
           "1950502",
           43.7
          ],
          [
           "Idanha-a-Nova",
           "1950505",
           34.1
          ],
          [
           "Oleiros",
           "1950506",
           26.7
          ],
          [
           "Penamacor",
           "1950507",
           27.2
          ],
          [
           "Proença-a-Nova",
           "1950508",
           36.1
          ],
          [
           "Sertã",
           "1950509",
           33
          ],
          [
           "Vila de Rei",
           "1950510",
           28.1
          ],
          [
           "Vila Velha de Ródão",
           "1950511",
           32
          ],
          [
           "Almeida",
           "1960902",
           37.8
          ],
          [
           "Belmonte",
           "1960501",
           40.1
          ],
          [
           "Celorico da Beira",
           "1960903",
           31.8
          ],
          [
           "Covilhã",
           "1960503",
           41.4
          ],
          [
           "Figueira de Castelo Rodrigo",
           "1960904",
           26.8
          ],
          [
           "Fornos de Algodres",
           "1960905",
           26.7
          ],
          [
           "Fundão",
           "1960504",
           43.3
          ],
          [
           "Gouveia",
           "1960906",
           43.7
          ],
          [
           "Guarda",
           "1960907",
           36.8
          ],
          [
           "Manteigas",
           "1960908",
           29
          ],
          [
           "Mêda",
           "1960909",
           33.3
          ],
          [
           "Pinhel",
           "1960910",
           39.3
          ],
          [
           "Sabugal",
           "1960911",
           42.5
          ],
          [
           "Seia",
           "1960912",
           39.4
          ],
          [
           "Trancoso",
           "1960913",
           34.5
          ],
          [
           "Alcobaça",
           "1D11001",
           43.2
          ],
          [
           "Alenquer",
           "1D11101",
           50.9
          ],
          [
           "Arruda dos Vinhos",
           "1D11102",
           39.7
          ],
          [
           "Bombarral",
           "1D11005",
           43.5
          ],
          [
           "Cadaval",
           "1D11104",
           43.6
          ],
          [
           "Caldas da Rainha",
           "1D11006",
           51.2
          ],
          [
           "Lourinhã",
           "1D11108",
           44.5
          ],
          [
           "Nazaré",
           "1D11011",
           55.4
          ],
          [
           "Óbidos",
           "1D11012",
           42.9
          ],
          [
           "Peniche",
           "1D11014",
           49.2
          ],
          [
           "Sobral de Monte Agraço",
           "1D11112",
           42.2
          ],
          [
           "Torres Vedras",
           "1D11113",
           45.1
          ],
          [
           "Abrantes",
           "1D21401",
           45.4
          ],
          [
           "Alcanena",
           "1D21402",
           42.2
          ],
          [
           "Constância",
           "1D21408",
           30.5
          ],
          [
           "Entroncamento",
           "1D21410",
           50.3
          ],
          [
           "Ferreira do Zêzere",
           "1D21411",
           28.7
          ],
          [
           "Mação",
           "1D21413",
           28.7
          ],
          [
           "Ourém",
           "1D21421",
           46.2
          ],
          [
           "Sardoal",
           "1D21417",
           27.5
          ],
          [
           "Tomar",
           "1D21418",
           46.8
          ],
          [
           "Torres Novas",
           "1D21419",
           43.6
          ],
          [
           "Vila Nova da Barquinha",
           "1D21420",
           48.3
          ],
          [
           "Almeirim",
           "1D31403",
           57.8
          ],
          [
           "Alpiarça",
           "1D31404",
           40.4
          ],
          [
           "Azambuja",
           "1D31103",
           47.5
          ],
          [
           "Benavente",
           "1D31405",
           55.4
          ],
          [
           "Cartaxo",
           "1D31406",
           47.5
          ],
          [
           "Chamusca",
           "1D31407",
           39.5
          ],
          [
           "Coruche",
           "1D31409",
           47.4
          ],
          [
           "Golegã",
           "1D31412",
           35.5
          ],
          [
           "Rio Maior",
           "1D31414",
           43.8
          ],
          [
           "Salvaterra de Magos",
           "1D31415",
           56.2
          ],
          [
           "Santarém",
           "1D31416",
           47.1
          ],
          [
           "Amadora",
           "1A01115",
           57.3
          ],
          [
           "Cascais",
           "1A01105",
           55.4
          ],
          [
           "Lisboa",
           "1A01106",
           49.1
          ],
          [
           "Loures",
           "1A01107",
           51.7
          ],
          [
           "Mafra",
           "1A01109",
           48
          ],
          [
           "Odivelas",
           "1A01116",
           56.6
          ],
          [
           "Oeiras",
           "1A01110",
           48.3
          ],
          [
           "Sintra",
           "1A01111",
           59.9
          ],
          [
           "Vila Franca de Xira",
           "1A01114",
           54.3
          ],
          [
           "Alcochete",
           "1B01502",
           41.5
          ],
          [
           "Almada",
           "1B01503",
           53.4
          ],
          [
           "Barreiro",
           "1B01504",
           49.4
          ],
          [
           "Moita",
           "1B01506",
           57.9
          ],
          [
           "Montijo",
           "1B01507",
           54.4
          ],
          [
           "Palmela",
           "1B01508",
           57.3
          ],
          [
           "Seixal",
           "1B01510",
           56.5
          ],
          [
           "Sesimbra",
           "1B01511",
           57.2
          ],
          [
           "Setúbal",
           "1B01512",
           57.9
          ],
          [
           "Alcácer do Sal",
           "1C11501",
           37.7
          ],
          [
           "Grândola",
           "1C11505",
           44.8
          ],
          [
           "Odemira",
           "1C10211",
           41.3
          ],
          [
           "Santiago do Cacém",
           "1C11509",
           48.1
          ],
          [
           "Sines",
           "1C11513",
           50.3
          ],
          [
           "Aljustrel",
           "1C20201",
           31.2
          ],
          [
           "Almodôvar",
           "1C20202",
           28
          ],
          [
           "Alvito",
           "1C20203",
           30.6
          ],
          [
           "Barrancos",
           "1C20204",
           23.7
          ],
          [
           "Beja",
           "1C20205",
           43.7
          ],
          [
           "Castro Verde",
           "1C20206",
           34.9
          ],
          [
           "Cuba",
           "1C20207",
           26.5
          ],
          [
           "Ferreira do Alentejo",
           "1C20208",
           43
          ],
          [
           "Mértola",
           "1C20209",
           27.4
          ],
          [
           "Moura",
           "1C20210",
           42
          ],
          [
           "Ourique",
           "1C20212",
           23.7
          ],
          [
           "Serpa",
           "1C20213",
           43.1
          ],
          [
           "Vidigueira",
           "1C20214",
           31.9
          ],
          [
           "Alter do Chão",
           "1C31201",
           27.6
          ],
          [
           "Arronches",
           "1C31202",
           22.8
          ],
          [
           "Avis",
           "1C31203",
           29.1
          ],
          [
           "Campo Maior",
           "1C31204",
           39.8
          ],
          [
           "Castelo de Vide",
           "1C31205",
           25.8
          ],
          [
           "Crato",
           "1C31206",
           22.8
          ],
          [
           "Elvas",
           "1C31207",
           45.1
          ],
          [
           "Fronteira",
           "1C31208",
           28.8
          ],
          [
           "Gavião",
           "1C31209",
           30.5
          ],
          [
           "Marvão",
           "1C31210",
           24.7
          ],
          [
           "Monforte",
           "1C31211",
           29.8
          ],
          [
           "Nisa",
           "1C31212",
           33.1
          ],
          [
           "Ponte de Sor",
           "1C31213",
           48.7
          ],
          [
           "Portalegre",
           "1C31214",
           35.1
          ],
          [
           "Sousel",
           "1C31215",
           27
          ],
          [
           "Alandroal",
           "1C40701",
           31.8
          ],
          [
           "Arraiolos",
           "1C40702",
           36.7
          ],
          [
           "Borba",
           "1C40703",
           37
          ],
          [
           "Estremoz",
           "1C40704",
           40.6
          ],
          [
           "Évora",
           "1C40705",
           50.2
          ],
          [
           "Montemor-o-Novo",
           "1C40706",
           38.5
          ],
          [
           "Mora",
           "1C40707",
           35.7
          ],
          [
           "Mourão",
           "1C40708",
           27.4
          ],
          [
           "Portel",
           "1C40709",
           29.2
          ],
          [
           "Redondo",
           "1C40710",
           38.1
          ],
          [
           "Reguengos de Monsaraz",
           "1C40711",
           42
          ],
          [
           "Vendas Novas",
           "1C40712",
           41.7
          ],
          [
           "Viana do Alentejo",
           "1C40713",
           34.2
          ],
          [
           "Vila Viçosa",
           "1C40714",
           35.6
          ],
          [
           "Albufeira",
           "1500801",
           57.5
          ],
          [
           "Alcoutim",
           "1500802",
           23
          ],
          [
           "Aljezur",
           "1500803",
           36.7
          ],
          [
           "Castro Marim",
           "1500804",
           42.4
          ],
          [
           "Faro",
           "1500805",
           55.1
          ],
          [
           "Lagoa",
           "1500806",
           50.5
          ],
          [
           "Lagos",
           "1500807",
           58.3
          ],
          [
           "Loulé",
           "1500808",
           59.6
          ],
          [
           "Monchique",
           "1500809",
           30.8
          ],
          [
           "Olhão",
           "1500810",
           59.1
          ],
          [
           "Portimão",
           "1500811",
           57
          ],
          [
           "São Brás de Alportel",
           "1500812",
           48
          ],
          [
           "Silves",
           "1500813",
           51.6
          ],
          [
           "Tavira",
           "1500814",
           45.8
          ],
          [
           "Vila do Bispo",
           "1500815",
           37.3
          ],
          [
           "Vila Real de Santo António",
           "1500816",
           44.8
          ],
          [
           "Angra do Heroísmo",
           "2004301",
           44.3
          ],
          [
           "Calheta (R.A.A.)",
           "2004501",
           36.9
          ],
          [
           "Corvo",
           "2004901",
           20.6
          ],
          [
           "Horta",
           "2004701",
           35.3
          ],
          [
           "Lagoa (R.A.A.)",
           "2004201",
           50.3
          ],
          [
           "Lajes das Flores",
           "2004801",
           22.7
          ],
          [
           "Lajes do Pico",
           "2004601",
           29.7
          ],
          [
           "Madalena",
           "2004602",
           34.9
          ],
          [
           "Nordeste",
           "2004202",
           36.4
          ],
          [
           "Ponta Delgada",
           "2004203",
           55.8
          ],
          [
           "Povoação",
           "2004204",
           37.9
          ],
          [
           "Ribeira Grande",
           "2004205",
           45.7
          ],
          [
           "Santa Cruz da Graciosa",
           "2004401",
           29
          ],
          [
           "Santa Cruz das Flores",
           "2004802",
           29.3
          ],
          [
           "São Roque do Pico",
           "2004603",
           29.9
          ],
          [
           "Velas",
           "2004502",
           37
          ],
          [
           "Vila da Praia da Vitória",
           "2004302",
           45.1
          ],
          [
           "Vila do Porto",
           "2004101",
           44
          ],
          [
           "Vila Franca do Campo",
           "2004206",
           45.9
          ],
          [
           "Calheta (R.A.M.)",
           "3003101",
           42.8
          ],
          [
           "Câmara de Lobos",
           "3003102",
           50
          ],
          [
           "Funchal",
           "3003103",
           46.3
          ],
          [
           "Machico",
           "3003104",
           44.4
          ],
          [
           "Ponta do Sol",
           "3003105",
           44.3
          ],
          [
           "Porto Moniz",
           "3003106",
           31.3
          ],
          [
           "Ribeira Brava",
           "3003107",
           47
          ],
          [
           "Santa Cruz",
           "3003108",
           44.9
          ],
          [
           "Santana",
           "3003109",
           37.3
          ],
          [
           "São Vicente",
           "3003110",
           44.5
          ],
          [
           "Porto Santo",
           "3003201",
           30.9
          ]
         ],
         "hovertemplate": "valor=%{x}<br>y=%{y}<br>local=%{customdata[0]}<br>codigo=%{customdata[1]}<br>Taxa abstenção=%{customdata[2]}<br>taxa_de_abstenção=%{marker.color}<extra></extra>",
         "legendgroup": "",
         "marker": {
          "color": {
           "bdata": "AQECAQEBAAABAAEAAQEAAQABAQEAAAEBAAECAgICAAICAQECAQECAQICAQEBAgEBAAAAAAEAAAAAAAEAAQABAAEBAAEAAQAAAAEAAQEAAgEAAQAAAQACAQICAgICAgIAAgECAgEBAAECAQEBAQAAAQABAAEAAQEAAAICAAIBAAEAAQEAAAEAAQEBAQABAAAAAQAAAAEBAAEAAAEBAQAAAQEBAAECAQEBAgECAQIBAQEBAAIAAAIAAgECAgECAgIBAgEBAgICAgICAgICAgIBAgICAgICAgIBAQECAgAAAAABAAABAAEAAQAAAAABAAABAAAAAAACAQAAAQEBAgEBAAABAQEAAQIAAQECAgICAAICAgIBAQEBAQABAgAAAAECAQEAAAABAQEBAQICAQEAAgEBAQA=",
           "dtype": "i1"
          },
          "coloraxis": "coloraxis",
          "size": 10,
          "symbol": "circle"
         },
         "mode": "markers",
         "name": "",
         "orientation": "v",
         "showlegend": false,
         "type": "scatter",
         "x": {
          "bdata": "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",
          "dtype": "f8"
         },
         "xaxis": "x",
         "y": {
          "bdata": "AAAAAAAAAAAAAAAAAAAAAAAAAAAAAAAAAAAAAAAAAAAAAAAAAAAAAAAAAAAAAAAAAAAAAAAAAAAAAAAAAAAAAAAAAAAAAAAAAAAAAAAAAAAAAAAAAAAAAAAAAAAAAAAAAAAAAAAAAAAAAAAAAAAAAAAAAAAAAAAAAAAAAAAAAAAAAAAAAAAAAAAAAAAAAAAAAAAAAAAAAAAAAAAAAAAAAAAAAAAAAAAAAAAAAAAAAAAAAAAAAAAAAAAAAAAAAAAAAAAAAAAAAAAAAAAAAAAAAAAAAAAAAAAAAAAAAAAAAAAAAAAAAAAAAAAAAAAAAAAAAAAAAAAAAAAAAAAAAAAAAAAAAAAAAAAAAAAAAAAAAAAAAAAAAAAAAAAAAAAAAAAAAAAAAAAAAAAAAAAAAAAAAAAAAAA=",
          "dtype": "i1"
         },
         "yaxis": "y"
        }
       ],
       "layout": {
        "coloraxis": {
         "colorbar": {
          "title": {
           "text": "taxa_de_abstenção"
          }
         },
         "colorscale": [
          [
           0,
           "#440154"
          ],
          [
           0.1111111111111111,
           "#482878"
          ],
          [
           0.2222222222222222,
           "#3e4989"
          ],
          [
           0.3333333333333333,
           "#31688e"
          ],
          [
           0.4444444444444444,
           "#26828e"
          ],
          [
           0.5555555555555556,
           "#1f9e89"
          ],
          [
           0.6666666666666666,
           "#35b779"
          ],
          [
           0.7777777777777778,
           "#6ece58"
          ],
          [
           0.8888888888888888,
           "#b5de2b"
          ],
          [
           1,
           "#fde725"
          ]
         ]
        },
        "height": 300,
        "legend": {
         "tracegroupgap": 0
        },
        "margin": {
         "t": 60
        },
        "template": {
         "data": {
          "bar": [
           {
            "error_x": {
             "color": "#2a3f5f"
            },
            "error_y": {
             "color": "#2a3f5f"
            },
            "marker": {
             "line": {
              "color": "#E5ECF6",
              "width": 0.5
             },
             "pattern": {
              "fillmode": "overlay",
              "size": 10,
              "solidity": 0.2
             }
            },
            "type": "bar"
           }
          ],
          "barpolar": [
           {
            "marker": {
             "line": {
              "color": "#E5ECF6",
              "width": 0.5
             },
             "pattern": {
              "fillmode": "overlay",
              "size": 10,
              "solidity": 0.2
             }
            },
            "type": "barpolar"
           }
          ],
          "carpet": [
           {
            "aaxis": {
             "endlinecolor": "#2a3f5f",
             "gridcolor": "white",
             "linecolor": "white",
             "minorgridcolor": "white",
             "startlinecolor": "#2a3f5f"
            },
            "baxis": {
             "endlinecolor": "#2a3f5f",
             "gridcolor": "white",
             "linecolor": "white",
             "minorgridcolor": "white",
             "startlinecolor": "#2a3f5f"
            },
            "type": "carpet"
           }
          ],
          "choropleth": [
           {
            "colorbar": {
             "outlinewidth": 0,
             "ticks": ""
            },
            "type": "choropleth"
           }
          ],
          "contour": [
           {
            "colorbar": {
             "outlinewidth": 0,
             "ticks": ""
            },
            "colorscale": [
             [
              0,
              "#0d0887"
             ],
             [
              0.1111111111111111,
              "#46039f"
             ],
             [
              0.2222222222222222,
              "#7201a8"
             ],
             [
              0.3333333333333333,
              "#9c179e"
             ],
             [
              0.4444444444444444,
              "#bd3786"
             ],
             [
              0.5555555555555556,
              "#d8576b"
             ],
             [
              0.6666666666666666,
              "#ed7953"
             ],
             [
              0.7777777777777778,
              "#fb9f3a"
             ],
             [
              0.8888888888888888,
              "#fdca26"
             ],
             [
              1,
              "#f0f921"
             ]
            ],
            "type": "contour"
           }
          ],
          "contourcarpet": [
           {
            "colorbar": {
             "outlinewidth": 0,
             "ticks": ""
            },
            "type": "contourcarpet"
           }
          ],
          "heatmap": [
           {
            "colorbar": {
             "outlinewidth": 0,
             "ticks": ""
            },
            "colorscale": [
             [
              0,
              "#0d0887"
             ],
             [
              0.1111111111111111,
              "#46039f"
             ],
             [
              0.2222222222222222,
              "#7201a8"
             ],
             [
              0.3333333333333333,
              "#9c179e"
             ],
             [
              0.4444444444444444,
              "#bd3786"
             ],
             [
              0.5555555555555556,
              "#d8576b"
             ],
             [
              0.6666666666666666,
              "#ed7953"
             ],
             [
              0.7777777777777778,
              "#fb9f3a"
             ],
             [
              0.8888888888888888,
              "#fdca26"
             ],
             [
              1,
              "#f0f921"
             ]
            ],
            "type": "heatmap"
           }
          ],
          "histogram": [
           {
            "marker": {
             "pattern": {
              "fillmode": "overlay",
              "size": 10,
              "solidity": 0.2
             }
            },
            "type": "histogram"
           }
          ],
          "histogram2d": [
           {
            "colorbar": {
             "outlinewidth": 0,
             "ticks": ""
            },
            "colorscale": [
             [
              0,
              "#0d0887"
             ],
             [
              0.1111111111111111,
              "#46039f"
             ],
             [
              0.2222222222222222,
              "#7201a8"
             ],
             [
              0.3333333333333333,
              "#9c179e"
             ],
             [
              0.4444444444444444,
              "#bd3786"
             ],
             [
              0.5555555555555556,
              "#d8576b"
             ],
             [
              0.6666666666666666,
              "#ed7953"
             ],
             [
              0.7777777777777778,
              "#fb9f3a"
             ],
             [
              0.8888888888888888,
              "#fdca26"
             ],
             [
              1,
              "#f0f921"
             ]
            ],
            "type": "histogram2d"
           }
          ],
          "histogram2dcontour": [
           {
            "colorbar": {
             "outlinewidth": 0,
             "ticks": ""
            },
            "colorscale": [
             [
              0,
              "#0d0887"
             ],
             [
              0.1111111111111111,
              "#46039f"
             ],
             [
              0.2222222222222222,
              "#7201a8"
             ],
             [
              0.3333333333333333,
              "#9c179e"
             ],
             [
              0.4444444444444444,
              "#bd3786"
             ],
             [
              0.5555555555555556,
              "#d8576b"
             ],
             [
              0.6666666666666666,
              "#ed7953"
             ],
             [
              0.7777777777777778,
              "#fb9f3a"
             ],
             [
              0.8888888888888888,
              "#fdca26"
             ],
             [
              1,
              "#f0f921"
             ]
            ],
            "type": "histogram2dcontour"
           }
          ],
          "mesh3d": [
           {
            "colorbar": {
             "outlinewidth": 0,
             "ticks": ""
            },
            "type": "mesh3d"
           }
          ],
          "parcoords": [
           {
            "line": {
             "colorbar": {
              "outlinewidth": 0,
              "ticks": ""
             }
            },
            "type": "parcoords"
           }
          ],
          "pie": [
           {
            "automargin": true,
            "type": "pie"
           }
          ],
          "scatter": [
           {
            "fillpattern": {
             "fillmode": "overlay",
             "size": 10,
             "solidity": 0.2
            },
            "type": "scatter"
           }
          ],
          "scatter3d": [
           {
            "line": {
             "colorbar": {
              "outlinewidth": 0,
              "ticks": ""
             }
            },
            "marker": {
             "colorbar": {
              "outlinewidth": 0,
              "ticks": ""
             }
            },
            "type": "scatter3d"
           }
          ],
          "scattercarpet": [
           {
            "marker": {
             "colorbar": {
              "outlinewidth": 0,
              "ticks": ""
             }
            },
            "type": "scattercarpet"
           }
          ],
          "scattergeo": [
           {
            "marker": {
             "colorbar": {
              "outlinewidth": 0,
              "ticks": ""
             }
            },
            "type": "scattergeo"
           }
          ],
          "scattergl": [
           {
            "marker": {
             "colorbar": {
              "outlinewidth": 0,
              "ticks": ""
             }
            },
            "type": "scattergl"
           }
          ],
          "scattermap": [
           {
            "marker": {
             "colorbar": {
              "outlinewidth": 0,
              "ticks": ""
             }
            },
            "type": "scattermap"
           }
          ],
          "scattermapbox": [
           {
            "marker": {
             "colorbar": {
              "outlinewidth": 0,
              "ticks": ""
             }
            },
            "type": "scattermapbox"
           }
          ],
          "scatterpolar": [
           {
            "marker": {
             "colorbar": {
              "outlinewidth": 0,
              "ticks": ""
             }
            },
            "type": "scatterpolar"
           }
          ],
          "scatterpolargl": [
           {
            "marker": {
             "colorbar": {
              "outlinewidth": 0,
              "ticks": ""
             }
            },
            "type": "scatterpolargl"
           }
          ],
          "scatterternary": [
           {
            "marker": {
             "colorbar": {
              "outlinewidth": 0,
              "ticks": ""
             }
            },
            "type": "scatterternary"
           }
          ],
          "surface": [
           {
            "colorbar": {
             "outlinewidth": 0,
             "ticks": ""
            },
            "colorscale": [
             [
              0,
              "#0d0887"
             ],
             [
              0.1111111111111111,
              "#46039f"
             ],
             [
              0.2222222222222222,
              "#7201a8"
             ],
             [
              0.3333333333333333,
              "#9c179e"
             ],
             [
              0.4444444444444444,
              "#bd3786"
             ],
             [
              0.5555555555555556,
              "#d8576b"
             ],
             [
              0.6666666666666666,
              "#ed7953"
             ],
             [
              0.7777777777777778,
              "#fb9f3a"
             ],
             [
              0.8888888888888888,
              "#fdca26"
             ],
             [
              1,
              "#f0f921"
             ]
            ],
            "type": "surface"
           }
          ],
          "table": [
           {
            "cells": {
             "fill": {
              "color": "#EBF0F8"
             },
             "line": {
              "color": "white"
             }
            },
            "header": {
             "fill": {
              "color": "#C8D4E3"
             },
             "line": {
              "color": "white"
             }
            },
            "type": "table"
           }
          ]
         },
         "layout": {
          "annotationdefaults": {
           "arrowcolor": "#2a3f5f",
           "arrowhead": 0,
           "arrowwidth": 1
          },
          "autotypenumbers": "strict",
          "coloraxis": {
           "colorbar": {
            "outlinewidth": 0,
            "ticks": ""
           }
          },
          "colorscale": {
           "diverging": [
            [
             0,
             "#8e0152"
            ],
            [
             0.1,
             "#c51b7d"
            ],
            [
             0.2,
             "#de77ae"
            ],
            [
             0.3,
             "#f1b6da"
            ],
            [
             0.4,
             "#fde0ef"
            ],
            [
             0.5,
             "#f7f7f7"
            ],
            [
             0.6,
             "#e6f5d0"
            ],
            [
             0.7,
             "#b8e186"
            ],
            [
             0.8,
             "#7fbc41"
            ],
            [
             0.9,
             "#4d9221"
            ],
            [
             1,
             "#276419"
            ]
           ],
           "sequential": [
            [
             0,
             "#0d0887"
            ],
            [
             0.1111111111111111,
             "#46039f"
            ],
            [
             0.2222222222222222,
             "#7201a8"
            ],
            [
             0.3333333333333333,
             "#9c179e"
            ],
            [
             0.4444444444444444,
             "#bd3786"
            ],
            [
             0.5555555555555556,
             "#d8576b"
            ],
            [
             0.6666666666666666,
             "#ed7953"
            ],
            [
             0.7777777777777778,
             "#fb9f3a"
            ],
            [
             0.8888888888888888,
             "#fdca26"
            ],
            [
             1,
             "#f0f921"
            ]
           ],
           "sequentialminus": [
            [
             0,
             "#0d0887"
            ],
            [
             0.1111111111111111,
             "#46039f"
            ],
            [
             0.2222222222222222,
             "#7201a8"
            ],
            [
             0.3333333333333333,
             "#9c179e"
            ],
            [
             0.4444444444444444,
             "#bd3786"
            ],
            [
             0.5555555555555556,
             "#d8576b"
            ],
            [
             0.6666666666666666,
             "#ed7953"
            ],
            [
             0.7777777777777778,
             "#fb9f3a"
            ],
            [
             0.8888888888888888,
             "#fdca26"
            ],
            [
             1,
             "#f0f921"
            ]
           ]
          },
          "colorway": [
           "#636efa",
           "#EF553B",
           "#00cc96",
           "#ab63fa",
           "#FFA15A",
           "#19d3f3",
           "#FF6692",
           "#B6E880",
           "#FF97FF",
           "#FECB52"
          ],
          "font": {
           "color": "#2a3f5f"
          },
          "geo": {
           "bgcolor": "white",
           "lakecolor": "white",
           "landcolor": "#E5ECF6",
           "showlakes": true,
           "showland": true,
           "subunitcolor": "white"
          },
          "hoverlabel": {
           "align": "left"
          },
          "hovermode": "closest",
          "mapbox": {
           "style": "light"
          },
          "paper_bgcolor": "white",
          "plot_bgcolor": "#E5ECF6",
          "polar": {
           "angularaxis": {
            "gridcolor": "white",
            "linecolor": "white",
            "ticks": ""
           },
           "bgcolor": "#E5ECF6",
           "radialaxis": {
            "gridcolor": "white",
            "linecolor": "white",
            "ticks": ""
           }
          },
          "scene": {
           "xaxis": {
            "backgroundcolor": "#E5ECF6",
            "gridcolor": "white",
            "gridwidth": 2,
            "linecolor": "white",
            "showbackground": true,
            "ticks": "",
            "zerolinecolor": "white"
           },
           "yaxis": {
            "backgroundcolor": "#E5ECF6",
            "gridcolor": "white",
            "gridwidth": 2,
            "linecolor": "white",
            "showbackground": true,
            "ticks": "",
            "zerolinecolor": "white"
           },
           "zaxis": {
            "backgroundcolor": "#E5ECF6",
            "gridcolor": "white",
            "gridwidth": 2,
            "linecolor": "white",
            "showbackground": true,
            "ticks": "",
            "zerolinecolor": "white"
           }
          },
          "shapedefaults": {
           "line": {
            "color": "#2a3f5f"
           }
          },
          "ternary": {
           "aaxis": {
            "gridcolor": "white",
            "linecolor": "white",
            "ticks": ""
           },
           "baxis": {
            "gridcolor": "white",
            "linecolor": "white",
            "ticks": ""
           },
           "bgcolor": "#E5ECF6",
           "caxis": {
            "gridcolor": "white",
            "linecolor": "white",
            "ticks": ""
           }
          },
          "title": {
           "x": 0.05
          },
          "xaxis": {
           "automargin": true,
           "gridcolor": "white",
           "linecolor": "white",
           "ticks": "",
           "title": {
            "standoff": 15
           },
           "zerolinecolor": "white",
           "zerolinewidth": 2
          },
          "yaxis": {
           "automargin": true,
           "gridcolor": "white",
           "linecolor": "white",
           "ticks": "",
           "title": {
            "standoff": 15
           },
           "zerolinecolor": "white",
           "zerolinewidth": 2
          }
         }
        },
        "xaxis": {
         "anchor": "y",
         "domain": [
          0,
          1
         ],
         "title": {
          "text": "Taxa abstenção"
         }
        },
        "yaxis": {
         "anchor": "x",
         "domain": [
          0,
          1
         ],
         "showgrid": false,
         "showticklabels": false,
         "title": {
          "text": "y"
         }
        }
       }
      }
     },
     "metadata": {},
     "output_type": "display_data"
    },
    {
     "name": "stdout",
     "output_type": "stream",
     "text": [
      "taxa_de_abstenção\n",
      "0    100\n",
      "1    130\n",
      "2     78\n",
      "Name: count, dtype: int64\n",
      "File saved to csv_files/2_Taxa de abstenção.csv\n"
     ]
    }
   ],
   "source": [
    "clustered_df = aplicar_kmeans(only_municipalities_df,3,nome_cluster='taxa_de_abstenção')\n",
    "save_clustered_df_to_csv(clustered_df,\"csv_files/\", \"2_Taxa de abstenção.csv\")"
   ]
  },
  {
   "cell_type": "markdown",
   "id": "47c7a52c",
   "metadata": {},
   "source": [
    "### Taxa de esforço do crédito para habitação permanente"
   ]
  },
  {
   "cell_type": "code",
   "execution_count": 14,
   "id": "9ebd2143",
   "metadata": {},
   "outputs": [
    {
     "data": {
      "text/html": [
       "<div>\n",
       "<style scoped>\n",
       "    .dataframe tbody tr th:only-of-type {\n",
       "        vertical-align: middle;\n",
       "    }\n",
       "\n",
       "    .dataframe tbody tr th {\n",
       "        vertical-align: top;\n",
       "    }\n",
       "\n",
       "    .dataframe thead th {\n",
       "        text-align: right;\n",
       "    }\n",
       "</style>\n",
       "<table border=\"1\" class=\"dataframe\">\n",
       "  <thead>\n",
       "    <tr style=\"text-align: right;\">\n",
       "      <th></th>\n",
       "      <th>local</th>\n",
       "      <th>codigo</th>\n",
       "      <th>Taxa de esforço do crédito para habitação permanente</th>\n",
       "    </tr>\n",
       "  </thead>\n",
       "  <tbody>\n",
       "    <tr>\n",
       "      <th>5</th>\n",
       "      <td>Arcos de Valdevez</td>\n",
       "      <td>1111601</td>\n",
       "      <td>10.21</td>\n",
       "    </tr>\n",
       "    <tr>\n",
       "      <th>6</th>\n",
       "      <td>Caminha</td>\n",
       "      <td>1111602</td>\n",
       "      <td>9.53</td>\n",
       "    </tr>\n",
       "    <tr>\n",
       "      <th>7</th>\n",
       "      <td>Melgaço</td>\n",
       "      <td>1111603</td>\n",
       "      <td>10.06</td>\n",
       "    </tr>\n",
       "    <tr>\n",
       "      <th>8</th>\n",
       "      <td>Monção</td>\n",
       "      <td>1111604</td>\n",
       "      <td>10.66</td>\n",
       "    </tr>\n",
       "    <tr>\n",
       "      <th>9</th>\n",
       "      <td>Paredes de Coura</td>\n",
       "      <td>1111605</td>\n",
       "      <td>8.84</td>\n",
       "    </tr>\n",
       "    <tr>\n",
       "      <th>...</th>\n",
       "      <td>...</td>\n",
       "      <td>...</td>\n",
       "      <td>...</td>\n",
       "    </tr>\n",
       "    <tr>\n",
       "      <th>343</th>\n",
       "      <td>Ribeira Brava</td>\n",
       "      <td>3003107</td>\n",
       "      <td>10.29</td>\n",
       "    </tr>\n",
       "    <tr>\n",
       "      <th>344</th>\n",
       "      <td>Santa Cruz</td>\n",
       "      <td>3003108</td>\n",
       "      <td>10.68</td>\n",
       "    </tr>\n",
       "    <tr>\n",
       "      <th>345</th>\n",
       "      <td>Santana</td>\n",
       "      <td>3003109</td>\n",
       "      <td>9.06</td>\n",
       "    </tr>\n",
       "    <tr>\n",
       "      <th>346</th>\n",
       "      <td>São Vicente</td>\n",
       "      <td>3003110</td>\n",
       "      <td>10.64</td>\n",
       "    </tr>\n",
       "    <tr>\n",
       "      <th>347</th>\n",
       "      <td>Porto Santo</td>\n",
       "      <td>3003201</td>\n",
       "      <td>9.21</td>\n",
       "    </tr>\n",
       "  </tbody>\n",
       "</table>\n",
       "<p>308 rows × 3 columns</p>\n",
       "</div>"
      ],
      "text/plain": [
       "                 local   codigo  \\\n",
       "5    Arcos de Valdevez  1111601   \n",
       "6              Caminha  1111602   \n",
       "7              Melgaço  1111603   \n",
       "8               Monção  1111604   \n",
       "9     Paredes de Coura  1111605   \n",
       "..                 ...      ...   \n",
       "343      Ribeira Brava  3003107   \n",
       "344         Santa Cruz  3003108   \n",
       "345            Santana  3003109   \n",
       "346        São Vicente  3003110   \n",
       "347        Porto Santo  3003201   \n",
       "\n",
       "    Taxa de esforço do crédito para habitação permanente  \n",
       "5                                                10.21    \n",
       "6                                                 9.53    \n",
       "7                                                10.06    \n",
       "8                                                10.66    \n",
       "9                                                 8.84    \n",
       "..                                                 ...    \n",
       "343                                              10.29    \n",
       "344                                              10.68    \n",
       "345                                               9.06    \n",
       "346                                              10.64    \n",
       "347                                               9.21    \n",
       "\n",
       "[308 rows x 3 columns]"
      ]
     },
     "execution_count": 14,
     "metadata": {},
     "output_type": "execute_result"
    }
   ],
   "source": [
    "original_df = processar_ficheiro(data_path+'Taxa de esforço do crédito para habitação permanente.xls',0,padding_left=0)\n",
    "only_municipalities_df = carregar_municipios(original_df)\n",
    "only_municipalities_df\n"
   ]
  },
  {
   "cell_type": "code",
   "execution_count": 15,
   "id": "e484d3f1",
   "metadata": {},
   "outputs": [
    {
     "data": {
      "application/vnd.plotly.v1+json": {
       "config": {
        "plotlyServerURL": "https://plot.ly"
       },
       "data": [
        {
         "customdata": [
          [
           "Arcos de Valdevez",
           "1111601",
           10.21
          ],
          [
           "Caminha",
           "1111602",
           9.53
          ],
          [
           "Melgaço",
           "1111603",
           10.06
          ],
          [
           "Monção",
           "1111604",
           10.66
          ],
          [
           "Paredes de Coura",
           "1111605",
           8.84
          ],
          [
           "Ponte da Barca",
           "1111606",
           10.81
          ],
          [
           "Ponte de Lima",
           "1111607",
           10.59
          ],
          [
           "Valença",
           "1111608",
           10.32
          ],
          [
           "Viana do Castelo",
           "1111609",
           9.99
          ],
          [
           "Vila Nova de Cerveira",
           "1111610",
           9.8
          ],
          [
           "Amares",
           "1120301",
           10.45
          ],
          [
           "Barcelos",
           "1120302",
           10.89
          ],
          [
           "Braga",
           "1120303",
           9.37
          ],
          [
           "Esposende",
           "1120306",
           10.67
          ],
          [
           "Terras de Bouro",
           "1120310",
           10.53
          ],
          [
           "Vila Verde",
           "1120313",
           10.93
          ],
          [
           "Cabeceiras de Basto",
           "1190304",
           11.16
          ],
          [
           "Fafe",
           "1190307",
           10.26
          ],
          [
           "Guimarães",
           "1190308",
           10.11
          ],
          [
           "Mondim de Basto",
           "1191705",
           10.39
          ],
          [
           "Póvoa de Lanhoso",
           "1190309",
           10.96
          ],
          [
           "Vieira do Minho",
           "1190311",
           10.54
          ],
          [
           "Vila Nova de Famalicão",
           "1190312",
           10.28
          ],
          [
           "Vizela",
           "1190314",
           10.66
          ],
          [
           "Arouca",
           "11A0104",
           10.18
          ],
          [
           "Espinho",
           "11A0107",
           9.22
          ],
          [
           "Gondomar",
           "11A1304",
           10.34
          ],
          [
           "Maia",
           "11A1306",
           9.55
          ],
          [
           "Matosinhos",
           "11A1308",
           9.66
          ],
          [
           "Oliveira de Azeméis",
           "11A0113",
           9.81
          ],
          [
           "Paredes",
           "11A1310",
           10.97
          ],
          [
           "Porto",
           "11A1312",
           8.67
          ],
          [
           "Póvoa de Varzim",
           "11A1313",
           10.98
          ],
          [
           "Santa Maria da Feira",
           "11A0109",
           10.14
          ],
          [
           "Santo Tirso",
           "11A1314",
           9.9
          ],
          [
           "São João da Madeira",
           "11A0116",
           9.31
          ],
          [
           "Trofa",
           "11A1318",
           10.14
          ],
          [
           "Vale de Cambra",
           "11A0119",
           8.77
          ],
          [
           "Valongo",
           "11A1315",
           10.15
          ],
          [
           "Vila do Conde",
           "11A1316",
           10.62
          ],
          [
           "Vila Nova de Gaia",
           "11A1317",
           9.95
          ],
          [
           "Boticas",
           "11B1702",
           9.27
          ],
          [
           "Chaves",
           "11B1703",
           9.77
          ],
          [
           "Montalegre",
           "11B1706",
           9.17
          ],
          [
           "Ribeira de Pena",
           "11B1709",
           9.56
          ],
          [
           "Valpaços",
           "11B1712",
           10.54
          ],
          [
           "Vila Pouca de Aguiar",
           "11B1713",
           9.97
          ],
          [
           "Amarante",
           "11C1301",
           10.74
          ],
          [
           "Baião",
           "11C1302",
           11.18
          ],
          [
           "Castelo de Paiva",
           "11C0106",
           10.08
          ],
          [
           "Celorico de Basto",
           "11C0305",
           10.74
          ],
          [
           "Cinfães",
           "11C1804",
           10.63
          ],
          [
           "Felgueiras",
           "11C1303",
           10.53
          ],
          [
           "Lousada",
           "11C1305",
           11.06
          ],
          [
           "Marco de Canaveses",
           "11C1307",
           11.6
          ],
          [
           "Paços de Ferreira",
           "11C1309",
           11.19
          ],
          [
           "Penafiel",
           "11C1311",
           10.65
          ],
          [
           "Resende",
           "11C1813",
           10.34
          ],
          [
           "Alijó",
           "11D1701",
           10.14
          ],
          [
           "Armamar",
           "11D1801",
           10.48
          ],
          [
           "Carrazeda de Ansiães",
           "11D0403",
           10.66
          ],
          [
           "Freixo de Espada à Cinta",
           "11D0404",
           8.36
          ],
          [
           "Lamego",
           "11D1805",
           9.17
          ],
          [
           "Mesão Frio",
           "11D1704",
           9.54
          ],
          [
           "Moimenta da Beira",
           "11D1807",
           10.69
          ],
          [
           "Murça",
           "11D1707",
           10.15
          ],
          [
           "Penedono",
           "11D1812",
           9.38
          ],
          [
           "Peso da Régua",
           "11D1708",
           10.04
          ],
          [
           "Sabrosa",
           "11D1710",
           9.17
          ],
          [
           "Santa Marta de Penaguião",
           "11D1711",
           10.58
          ],
          [
           "São João da Pesqueira",
           "11D1815",
           10.58
          ],
          [
           "Sernancelhe",
           "11D1818",
           10.51
          ],
          [
           "Tabuaço",
           "11D1819",
           9.81
          ],
          [
           "Tarouca",
           "11D1820",
           9.79
          ],
          [
           "Torre de Moncorvo",
           "11D0409",
           9.13
          ],
          [
           "Vila Nova de Foz Côa",
           "11D0914",
           10.33
          ],
          [
           "Vila Real",
           "11D1714",
           9.27
          ],
          [
           "Alfândega da Fé",
           "11E0401",
           10.5
          ],
          [
           "Bragança",
           "11E0402",
           8.95
          ],
          [
           "Macedo de Cavaleiros",
           "11E0405",
           9.82
          ],
          [
           "Miranda do Douro",
           "11E0406",
           9.43
          ],
          [
           "Mirandela",
           "11E0407",
           9.79
          ],
          [
           "Mogadouro",
           "11E0408",
           9.96
          ],
          [
           "Vila Flor",
           "11E0410",
           9.45
          ],
          [
           "Vimioso",
           "11E0411",
           9.47
          ],
          [
           "Vinhais",
           "11E0412",
           9.23
          ],
          [
           "Águeda",
           "1910101",
           10.03
          ],
          [
           "Albergaria-a-Velha",
           "1910102",
           9.67
          ],
          [
           "Anadia",
           "1910103",
           9.63
          ],
          [
           "Aveiro",
           "1910105",
           9.29
          ],
          [
           "Estarreja",
           "1910108",
           9.38
          ],
          [
           "Ílhavo",
           "1910110",
           9.86
          ],
          [
           "Murtosa",
           "1910112",
           9.63
          ],
          [
           "Oliveira do Bairro",
           "1910114",
           10.05
          ],
          [
           "Ovar",
           "1910115",
           9.64
          ],
          [
           "Sever do Vouga",
           "1910117",
           9.12
          ],
          [
           "Vagos",
           "1910118",
           10.33
          ],
          [
           "Arganil",
           "1920601",
           8.67
          ],
          [
           "Cantanhede",
           "1920602",
           9.8
          ],
          [
           "Coimbra",
           "1920603",
           9.06
          ],
          [
           "Condeixa-a-Nova",
           "1920604",
           8.74
          ],
          [
           "Figueira da Foz",
           "1920605",
           8.9
          ],
          [
           "Góis",
           "1920606",
           9.5
          ],
          [
           "Lousã",
           "1920607",
           9.13
          ],
          [
           "Mealhada",
           "1920111",
           9.34
          ],
          [
           "Mira",
           "1920608",
           9.52
          ],
          [
           "Miranda do Corvo",
           "1920609",
           9.14
          ],
          [
           "Montemor-o-Velho",
           "1920610",
           9.57
          ],
          [
           "Mortágua",
           "1921808",
           9.99
          ],
          [
           "Oliveira do Hospital",
           "1920611",
           9.54
          ],
          [
           "Pampilhosa da Serra",
           "1920612",
           9.52
          ],
          [
           "Penacova",
           "1920613",
           9.96
          ],
          [
           "Penela",
           "1920614",
           8.72
          ],
          [
           "Soure",
           "1920615",
           8.69
          ],
          [
           "Tábua",
           "1920616",
           9.46
          ],
          [
           "Vila Nova de Poiares",
           "1920617",
           9.7
          ],
          [
           "Alvaiázere",
           "1931002",
           9.69
          ],
          [
           "Ansião",
           "1931003",
           9.84
          ],
          [
           "Batalha",
           "1931004",
           10
          ],
          [
           "Castanheira de Pêra",
           "1931007",
           8.68
          ],
          [
           "Figueiró dos Vinhos",
           "1931008",
           9.15
          ],
          [
           "Leiria",
           "1931009",
           9.65
          ],
          [
           "Marinha Grande",
           "1931010",
           9.68
          ],
          [
           "Pedrógão Grande",
           "1931013",
           9.54
          ],
          [
           "Pombal",
           "1931015",
           10.34
          ],
          [
           "Porto de Mós",
           "1931016",
           9.94
          ],
          [
           "Aguiar da Beira",
           "1940901",
           10.08
          ],
          [
           "Carregal do Sal",
           "1941802",
           8.69
          ],
          [
           "Castro Daire",
           "1941803",
           10.19
          ],
          [
           "Mangualde",
           "1941806",
           9.46
          ],
          [
           "Nelas",
           "1941809",
           8.8
          ],
          [
           "Oliveira de Frades",
           "1941810",
           9.72
          ],
          [
           "Penalva do Castelo",
           "1941811",
           9.4
          ],
          [
           "Santa Comba Dão",
           "1941814",
           8.63
          ],
          [
           "São Pedro do Sul",
           "1941816",
           9.66
          ],
          [
           "Sátão",
           "1941817",
           10.02
          ],
          [
           "Tondela",
           "1941821",
           9.31
          ],
          [
           "Vila Nova de Paiva",
           "1941822",
           10.19
          ],
          [
           "Viseu",
           "1941823",
           9.34
          ],
          [
           "Vouzela",
           "1941824",
           8.92
          ],
          [
           "Castelo Branco",
           "1950502",
           9.13
          ],
          [
           "Idanha-a-Nova",
           "1950505",
           9.03
          ],
          [
           "Oleiros",
           "1950506",
           10.68
          ],
          [
           "Penamacor",
           "1950507",
           7.92
          ],
          [
           "Proença-a-Nova",
           "1950508",
           9.1
          ],
          [
           "Sertã",
           "1950509",
           10.36
          ],
          [
           "Vila de Rei",
           "1950510",
           10.09
          ],
          [
           "Vila Velha de Ródão",
           "1950511",
           9.79
          ],
          [
           "Almeida",
           "1960902",
           8.84
          ],
          [
           "Belmonte",
           "1960501",
           10.13
          ],
          [
           "Celorico da Beira",
           "1960903",
           9.15
          ],
          [
           "Covilhã",
           "1960503",
           9.03
          ],
          [
           "Figueira de Castelo Rodrigo",
           "1960904",
           9.05
          ],
          [
           "Fornos de Algodres",
           "1960905",
           9.86
          ],
          [
           "Fundão",
           "1960504",
           9.41
          ],
          [
           "Gouveia",
           "1960906",
           8.74
          ],
          [
           "Guarda",
           "1960907",
           8.63
          ],
          [
           "Manteigas",
           "1960908",
           8.25
          ],
          [
           "Mêda",
           "1960909",
           10.29
          ],
          [
           "Pinhel",
           "1960910",
           9.83
          ],
          [
           "Sabugal",
           "1960911",
           9.84
          ],
          [
           "Seia",
           "1960912",
           8.86
          ],
          [
           "Trancoso",
           "1960913",
           9.87
          ],
          [
           "Alcobaça",
           "1D11001",
           10.1
          ],
          [
           "Alenquer",
           "1D11101",
           10.16
          ],
          [
           "Arruda dos Vinhos",
           "1D11102",
           9.8
          ],
          [
           "Bombarral",
           "1D11005",
           9.94
          ],
          [
           "Cadaval",
           "1D11104",
           10.16
          ],
          [
           "Caldas da Rainha",
           "1D11006",
           10.11
          ],
          [
           "Lourinhã",
           "1D11108",
           10.41
          ],
          [
           "Nazaré",
           "1D11011",
           10.16
          ],
          [
           "Óbidos",
           "1D11012",
           10.27
          ],
          [
           "Peniche",
           "1D11014",
           10
          ],
          [
           "Sobral de Monte Agraço",
           "1D11112",
           10.62
          ],
          [
           "Torres Vedras",
           "1D11113",
           10.3
          ],
          [
           "Abrantes",
           "1D21401",
           8.57
          ],
          [
           "Alcanena",
           "1D21402",
           9.34
          ],
          [
           "Constância",
           "1D21408",
           8.27
          ],
          [
           "Entroncamento",
           "1D21410",
           8.66
          ],
          [
           "Ferreira do Zêzere",
           "1D21411",
           10.57
          ],
          [
           "Mação",
           "1D21413",
           9.57
          ],
          [
           "Ourém",
           "1D21421",
           9.93
          ],
          [
           "Sardoal",
           "1D21417",
           9.27
          ],
          [
           "Tomar",
           "1D21418",
           9.31
          ],
          [
           "Torres Novas",
           "1D21419",
           9.2
          ],
          [
           "Vila Nova da Barquinha",
           "1D21420",
           9.52
          ],
          [
           "Almeirim",
           "1D31403",
           9.74
          ],
          [
           "Alpiarça",
           "1D31404",
           9.32
          ],
          [
           "Azambuja",
           "1D31103",
           10.03
          ],
          [
           "Benavente",
           "1D31405",
           10.49
          ],
          [
           "Cartaxo",
           "1D31406",
           9.98
          ],
          [
           "Chamusca",
           "1D31407",
           9.27
          ],
          [
           "Coruche",
           "1D31409",
           9.53
          ],
          [
           "Golegã",
           "1D31412",
           8.84
          ],
          [
           "Rio Maior",
           "1D31414",
           9.61
          ],
          [
           "Salvaterra de Magos",
           "1D31415",
           10.91
          ],
          [
           "Santarém",
           "1D31416",
           8.99
          ],
          [
           "Amadora",
           "1A01115",
           9.98
          ],
          [
           "Cascais",
           "1A01105",
           9.9
          ],
          [
           "Lisboa",
           "1A01106",
           8.58
          ],
          [
           "Loures",
           "1A01107",
           10.01
          ],
          [
           "Mafra",
           "1A01109",
           10.47
          ],
          [
           "Odivelas",
           "1A01116",
           10.07
          ],
          [
           "Oeiras",
           "1A01110",
           9
          ],
          [
           "Sintra",
           "1A01111",
           10.26
          ],
          [
           "Vila Franca de Xira",
           "1A01114",
           9.88
          ],
          [
           "Alcochete",
           "1B01502",
           9.24
          ],
          [
           "Almada",
           "1B01503",
           9.81
          ],
          [
           "Barreiro",
           "1B01504",
           9.23
          ],
          [
           "Moita",
           "1B01506",
           9.51
          ],
          [
           "Montijo",
           "1B01507",
           10.14
          ],
          [
           "Palmela",
           "1B01508",
           9.99
          ],
          [
           "Seixal",
           "1B01510",
           10.44
          ],
          [
           "Sesimbra",
           "1B01511",
           10.88
          ],
          [
           "Setúbal",
           "1B01512",
           9.44
          ],
          [
           "Alcácer do Sal",
           "1C11501",
           8.82
          ],
          [
           "Grândola",
           "1C11505",
           9.81
          ],
          [
           "Odemira",
           "1C10211",
           9.7
          ],
          [
           "Santiago do Cacém",
           "1C11509",
           8.7
          ],
          [
           "Sines",
           "1C11513",
           9.47
          ],
          [
           "Aljustrel",
           "1C20201",
           7.29
          ],
          [
           "Almodôvar",
           "1C20202",
           7.36
          ],
          [
           "Alvito",
           "1C20203",
           8.64
          ],
          [
           "Barrancos",
           "1C20204",
           8.44
          ],
          [
           "Beja",
           "1C20205",
           8.92
          ],
          [
           "Castro Verde",
           "1C20206",
           7.81
          ],
          [
           "Cuba",
           "1C20207",
           8.82
          ],
          [
           "Ferreira do Alentejo",
           "1C20208",
           8.98
          ],
          [
           "Mértola",
           "1C20209",
           8.05
          ],
          [
           "Moura",
           "1C20210",
           8.74
          ],
          [
           "Ourique",
           "1C20212",
           8.53
          ],
          [
           "Serpa",
           "1C20213",
           9.02
          ],
          [
           "Vidigueira",
           "1C20214",
           9.27
          ],
          [
           "Alter do Chão",
           "1C31201",
           8.64
          ],
          [
           "Arronches",
           "1C31202",
           8.98
          ],
          [
           "Avis",
           "1C31203",
           9.62
          ],
          [
           "Campo Maior",
           "1C31204",
           8.44
          ],
          [
           "Castelo de Vide",
           "1C31205",
           8.09
          ],
          [
           "Crato",
           "1C31206",
           8.32
          ],
          [
           "Elvas",
           "1C31207",
           9.73
          ],
          [
           "Fronteira",
           "1C31208",
           7.69
          ],
          [
           "Gavião",
           "1C31209",
           8.82
          ],
          [
           "Marvão",
           "1C31210",
           9.46
          ],
          [
           "Monforte",
           "1C31211",
           8.6
          ],
          [
           "Nisa",
           "1C31212",
           8.37
          ],
          [
           "Ponte de Sor",
           "1C31213",
           9.34
          ],
          [
           "Portalegre",
           "1C31214",
           8.82
          ],
          [
           "Sousel",
           "1C31215",
           8.08
          ],
          [
           "Alandroal",
           "1C40701",
           9.04
          ],
          [
           "Arraiolos",
           "1C40702",
           9.17
          ],
          [
           "Borba",
           "1C40703",
           9.6
          ],
          [
           "Estremoz",
           "1C40704",
           9.04
          ],
          [
           "Évora",
           "1C40705",
           9.72
          ],
          [
           "Montemor-o-Novo",
           "1C40706",
           9.97
          ],
          [
           "Mora",
           "1C40707",
           9.09
          ],
          [
           "Mourão",
           "1C40708",
           7.93
          ],
          [
           "Portel",
           "1C40709",
           8.75
          ],
          [
           "Redondo",
           "1C40710",
           10.45
          ],
          [
           "Reguengos de Monsaraz",
           "1C40711",
           9.64
          ],
          [
           "Vendas Novas",
           "1C40712",
           9.7
          ],
          [
           "Viana do Alentejo",
           "1C40713",
           9.53
          ],
          [
           "Vila Viçosa",
           "1C40714",
           9.92
          ],
          [
           "Albufeira",
           "1500801",
           12.03
          ],
          [
           "Alcoutim",
           "1500802",
           8.09
          ],
          [
           "Aljezur",
           "1500803",
           11.45
          ],
          [
           "Castro Marim",
           "1500804",
           10.23
          ],
          [
           "Faro",
           "1500805",
           9.92
          ],
          [
           "Lagoa",
           "1500806",
           10.98
          ],
          [
           "Lagos",
           "1500807",
           11.68
          ],
          [
           "Loulé",
           "1500808",
           11.22
          ],
          [
           "Monchique",
           "1500809",
           10.09
          ],
          [
           "Olhão",
           "1500810",
           10.9
          ],
          [
           "Portimão",
           "1500811",
           11.13
          ],
          [
           "São Brás de Alportel",
           "1500812",
           10.44
          ],
          [
           "Silves",
           "1500813",
           11.34
          ],
          [
           "Tavira",
           "1500814",
           9.96
          ],
          [
           "Vila do Bispo",
           "1500815",
           10.15
          ],
          [
           "Vila Real de Santo António",
           "1500816",
           10.79
          ],
          [
           "Angra do Heroísmo",
           "2004301",
           9.17
          ],
          [
           "Calheta (R.A.A.)",
           "2004501",
           8.4
          ],
          [
           "Corvo",
           "2004901",
           8
          ],
          [
           "Horta",
           "2004701",
           8.61
          ],
          [
           "Lagoa (R.A.A.)",
           "2004201",
           9.58
          ],
          [
           "Lajes das Flores",
           "2004801",
           7.51
          ],
          [
           "Lajes do Pico",
           "2004601",
           8.53
          ],
          [
           "Madalena",
           "2004602",
           8.4
          ],
          [
           "Nordeste",
           "2004202",
           7.69
          ],
          [
           "Ponta Delgada",
           "2004203",
           9.3
          ],
          [
           "Povoação",
           "2004204",
           8.35
          ],
          [
           "Ribeira Grande",
           "2004205",
           9.9
          ],
          [
           "Santa Cruz da Graciosa",
           "2004401",
           7.25
          ],
          [
           "Santa Cruz das Flores",
           "2004802",
           7.92
          ],
          [
           "São Roque do Pico",
           "2004603",
           9.18
          ],
          [
           "Velas",
           "2004502",
           8
          ],
          [
           "Vila da Praia da Vitória",
           "2004302",
           9.05
          ],
          [
           "Vila do Porto",
           "2004101",
           6.98
          ],
          [
           "Vila Franca do Campo",
           "2004206",
           9.62
          ],
          [
           "Calheta (R.A.M.)",
           "3003101",
           9.45
          ],
          [
           "Câmara de Lobos",
           "3003102",
           11.31
          ],
          [
           "Funchal",
           "3003103",
           9.84
          ],
          [
           "Machico",
           "3003104",
           9.54
          ],
          [
           "Ponta do Sol",
           "3003105",
           9.67
          ],
          [
           "Porto Moniz",
           "3003106",
           9.55
          ],
          [
           "Ribeira Brava",
           "3003107",
           10.29
          ],
          [
           "Santa Cruz",
           "3003108",
           10.68
          ],
          [
           "Santana",
           "3003109",
           9.06
          ],
          [
           "São Vicente",
           "3003110",
           10.64
          ],
          [
           "Porto Santo",
           "3003201",
           9.21
          ]
         ],
         "hovertemplate": "valor=%{x}<br>y=%{y}<br>local=%{customdata[0]}<br>codigo=%{customdata[1]}<br>Taxa de esforço do crédito para habitação permanente=%{customdata[2]}<br>credito_habitacao_permanente=%{marker.color}<extra></extra>",
         "legendgroup": "",
         "marker": {
          "color": {
           "bdata": "AgECAgACAgIBAQICAQICAgICAgICAgICAgECAQEBAgACAgEBAgACAgEBAQEBAgECAgICAgICAgICAgICAgABAQICAQEBAgICAQEBAgECAAEBAQEBAQEBAQEBAQEBAgEBAgABAQAAAQEBAQEBAQEBAQAAAQEBAQEAAQEBAQIBAgACAQABAQABAQECAQABAQIAAQICAQACAQEBAQEAAAACAQEAAQICAQECAgICAgECAgABAAACAQEBAQEBAQEBAgEBAQABAgEBAQABAgIBAgEBAQEBAgECAgEAAQEAAQAAAAAAAAABAAAAAQEAAQEAAAABAAABAAABAAABAQEBAQEBAAACAQEBAQIAAgIBAgICAgICAgIBAgIBAAAAAQAAAAABAAEAAAEAAQABAQIBAQEBAgIBAgE=",
           "dtype": "i1"
          },
          "coloraxis": "coloraxis",
          "size": 10,
          "symbol": "circle"
         },
         "mode": "markers",
         "name": "",
         "orientation": "v",
         "showlegend": false,
         "type": "scatter",
         "x": {
          "bdata": "P0Cymusq5j/2TuDgICa8v9ag5rlmgOA/M4+KHj2V8z93TV5ZJ5Xtv+he8I5/avY/vKX0x8hC8j9h+a1holLqP9GbdRn8tts/LyF9SKy4yj+dpZE1wDvvPyVFwKhN7fc/qUW3Bvkf07/6i8ThlsXzPwy5mDSuIPE/PziotbSu+D8x7t0/xQb9PwAg9jptDug/l4AqWuhj4j9PzNkOi/fsP5wuVv/BP/k/0rXS9wdR8T8aE95H1M/oPzOPih49lfM/hVNWB9EI5T9VhE7IAnXev3vslW4JFOs/j7Wgeegatr//Jnp8m0WmP2MHTWJ6O8w/YyuQwhtw+T/974ijiQDyvykoyoV1oPk/UW2G7QKG4z/BD06lXOrUP0X4JlRjqNe/UW2G7QKG4z8yEEUDCB3wv95m+nO25uM/EJyiEdbT8j9Dz9XlX7HYP9PExof/rdq/R24N+0Ewxj/+IWsEAx7hvyfpAEZMFbO/0rXS9wdR8T+dtaX/LTTaP3F1WjgLGPU/vudRxnhn/T/wk87GzUHhP3F1WjgLGPU/4Jjc1C8E8z8MuZg0riDxP2cOmp9DI/s/P7DqZhmrAkCE5IuJ0pf9P22SUFvjZPM/e+yVbgkU6z9RbYbtAobjPyvJdmTtLvA/M4+KHj2V8z8sjI5HaNv3v/4hawQDHuG/joJArYQgub+HhThoSib0P95m+nO25uM/aVLP+ZFe0r9TW/1Z/33fP/4hawQDHuG/9qi6BG8S8j/2qLoEbxLyP3+/JK76v/A/YwdNYno7zD+vOq0u3jXJPzIIOx7RoOK/7vIh6FWz6j/TxMaH/63av7jC6uqgj/A/VZRiknBt6b+X7Rx8SL7NP88lj3IdL82/rzqtLt41yT+Dwr3yxnLZP2dZ7z6BKcq/s4xPC+Ujx787kWa7m7PdvzloFU2YvN4/z7+549NQrD89cu0ayY+AP5/e9m0xK9m/aVLP+ZFe0r8zQ65xwOTRPz1y7RrJj4A/SadyM7Mf4D+/6vVbVV6UP9IBr6SEAeO/7vIh6FWz6j/974ijiQDyvy8hfUisuMo/INtmy7lF5b+GBvNMFa7wvxZ0pjLyUOu/F9rfvXqbwr8yCDse0aDiv/ceby0uZNW/XhuAFL0rv7+lDseXHUDiv78cYRKwD7C/0Zt1Gfy22z+OgkCthCC5v14bgBS9K7+/g8K98sZy2T8TAGfTyA7xv3D2FB3Wn/G/53IfJbOmyL8gRbyMPjm3P7h4HFmiM7Q//1zeV/Jh0D/rjl0mY3jcPzbzTuAv0PG/GBVTEWrf4b8vjjoVYzqgP1CsfCUGLrE/joJArYQgub977JVuCRTrPync7dj479c/8JPOxs1B4T9w9hQd1p/xvxJNyo2EaeU/53IfJbOmyL+rMy5z9Rfvv4fe+/N2RL0/NWz/38Pb0L8X43Cw8MHyv/8menybRaY/H3UtQDH73T9F+CZUY6jXvxJNyo2EaeU/9x5vLS5k1b/8gL4li4/qvzIIOx7RoOK/2sfCXtRn5r/AiP6k8PXzPz3/wupqFQDA7PSWsevC47+V3317cNXrP32NQk2BouE/rzqtLt41yT93TV5ZJ5Xtv8RzEmdPJeM/GBVTEWrf4b/ax8Je1Gfmv63U2lFtpuW/M0OuccDk0T8beRfTXBrQv4YG80wVrvC/F+NwsPDB8r+9aAyrQ+/5v6cMUs6HMOk/y9PslRZBzz//XN5X8mHQP11adkzA0+y/TTaWfiem0j8Kh7bTNAPiP2tgbvppR+Q/LyF9SKy4yj8p3O3Y+O/XP2tgbvppR+Q/l4AqWuhj4j9pv8Eb8rjtP2tgbvppR+Q/jRlqwSBv6D/rjl0mY3jcPxCcohHW0/I/RwbGVDuR6T/Hz8xDC+Tzv/ceby0uZNW/MG+YJJCO+b/D7MJm4zDyvy+sgEEV4vE/vxxhErAPsL8P6QXMkS7XP9PExof/rdq/RfgmVGOo17+vah7i0Pffv14bgBS9K7+/q7udrdenwT8rBT9H/ObWvzloFU2YvN4/8sWwJ0df8D+3qI0MlfXaP9PExof/rdq/9k7g4CAmvL93TV5ZJ5Xtv/tYDx/6yY+/sj40LwFO+D8OrpJ4ournv7eojQyV9do/wQ9OpVzq1D8B05KAsbPzvwWCRTPKOd0/yph5Qif97z9jmlpAGuHgP4G0HvLuiee/ACD2Om0O6D+NKX6LjmfTPyGefq408ty/YwdNYno7zD87kWa7m7Pdv+PzD6SsGMG/UW2G7QKG4z/Rm3UZ/LbbPxCsHa8M2+4/X0iG5fO89z+bP79YT6zLv5FARmaOVu6/YwdNYno7zD8gRbyMPjm3P6n52ll8b/G/s4xPC+Ujx7/NmWVwdggGwBGlGkU8XwXAUOY27ZaR8r/vpb4tmlj2v/yAviWLj+q/h+2BnFgfAcCRQEZmjlbuv5unBv9VS+i/UiiU60a2/b+GBvNMFa7wv+vCtFBypfS/Z8E25YfI5r/TxMaH/63av1DmNu2WkfK/m6cG/1VL6L/t1kMIYnRuv++lvi2aWPa/ODWs3t/0/L9Gf3ZUz5z4v3fVzZMJJcA/M9rdL3NBAsCRQEZmjlbuv+dyHyWzpsi/dNke+v1S879mj1SEDqv3v/ceby0uZNW/kUBGZo5W7r/+MeahOSX9v03OTtggB+a//iFrBAMe4b8e3gbebfubv03OTtggB+a/h97783ZEvT+dtaX/LTTaP3nuCjifI+S/swFMEnz6/7+/CbmJu33wv52lkTXAO+8/v+r1W1VelD8gRbyMPjm3P/ZO4OAgJry/9fUdvypt1j8Ca0lMo7oGQDg1rN7f9Py/Zci3LnhAAUBZM5qnUuzmP/X1Hb8qbdY/KSjKhXWg+T9eo9JzgGwDQOHaOdPfKP4/fY1CTYGi4T/sQfprpx34P933L/a3dfw/EKwdrwzb7j8c2vh8ijYAQIPCvfLGctk/3mb6c7bm4z9RZXwIzAn2P/4hawQDHuG/CZmmOgEa9788GLa7B6j+v63c5DakIvO/r6CCvScUqr86vecMm/QDwOvCtFBypfS/CZmmOgEa978z2t0vc0ECwF/rDmHKadi/84jICsIL+L/BD06lXOrUP1yT2fYpaQbAPf/C6moVAMBxKPd9T73gvzwYtrsHqP6/rdTaUW2m5b/iZ2jC5fUIwO3WQwhidG6/Z1nvPoEpyr/lvUOwB9z/P/9c3lfyYdA/joJArYQgub/Pv7nj01CsP4+1oHnoGra/pwxSzocw6T/AiP6k8PXzPyDbZsu5ReW/ppUWmIk08z9vdzbVaTbfvw==",
          "dtype": "f8"
         },
         "xaxis": "x",
         "y": {
          "bdata": "AAAAAAAAAAAAAAAAAAAAAAAAAAAAAAAAAAAAAAAAAAAAAAAAAAAAAAAAAAAAAAAAAAAAAAAAAAAAAAAAAAAAAAAAAAAAAAAAAAAAAAAAAAAAAAAAAAAAAAAAAAAAAAAAAAAAAAAAAAAAAAAAAAAAAAAAAAAAAAAAAAAAAAAAAAAAAAAAAAAAAAAAAAAAAAAAAAAAAAAAAAAAAAAAAAAAAAAAAAAAAAAAAAAAAAAAAAAAAAAAAAAAAAAAAAAAAAAAAAAAAAAAAAAAAAAAAAAAAAAAAAAAAAAAAAAAAAAAAAAAAAAAAAAAAAAAAAAAAAAAAAAAAAAAAAAAAAAAAAAAAAAAAAAAAAAAAAAAAAAAAAAAAAAAAAAAAAAAAAAAAAAAAAAAAAAAAAAAAAAAAAAAAAAAAAA=",
          "dtype": "i1"
         },
         "yaxis": "y"
        }
       ],
       "layout": {
        "coloraxis": {
         "colorbar": {
          "title": {
           "text": "credito_habitacao_permanente"
          }
         },
         "colorscale": [
          [
           0,
           "#440154"
          ],
          [
           0.1111111111111111,
           "#482878"
          ],
          [
           0.2222222222222222,
           "#3e4989"
          ],
          [
           0.3333333333333333,
           "#31688e"
          ],
          [
           0.4444444444444444,
           "#26828e"
          ],
          [
           0.5555555555555556,
           "#1f9e89"
          ],
          [
           0.6666666666666666,
           "#35b779"
          ],
          [
           0.7777777777777778,
           "#6ece58"
          ],
          [
           0.8888888888888888,
           "#b5de2b"
          ],
          [
           1,
           "#fde725"
          ]
         ]
        },
        "height": 300,
        "legend": {
         "tracegroupgap": 0
        },
        "margin": {
         "t": 60
        },
        "template": {
         "data": {
          "bar": [
           {
            "error_x": {
             "color": "#2a3f5f"
            },
            "error_y": {
             "color": "#2a3f5f"
            },
            "marker": {
             "line": {
              "color": "#E5ECF6",
              "width": 0.5
             },
             "pattern": {
              "fillmode": "overlay",
              "size": 10,
              "solidity": 0.2
             }
            },
            "type": "bar"
           }
          ],
          "barpolar": [
           {
            "marker": {
             "line": {
              "color": "#E5ECF6",
              "width": 0.5
             },
             "pattern": {
              "fillmode": "overlay",
              "size": 10,
              "solidity": 0.2
             }
            },
            "type": "barpolar"
           }
          ],
          "carpet": [
           {
            "aaxis": {
             "endlinecolor": "#2a3f5f",
             "gridcolor": "white",
             "linecolor": "white",
             "minorgridcolor": "white",
             "startlinecolor": "#2a3f5f"
            },
            "baxis": {
             "endlinecolor": "#2a3f5f",
             "gridcolor": "white",
             "linecolor": "white",
             "minorgridcolor": "white",
             "startlinecolor": "#2a3f5f"
            },
            "type": "carpet"
           }
          ],
          "choropleth": [
           {
            "colorbar": {
             "outlinewidth": 0,
             "ticks": ""
            },
            "type": "choropleth"
           }
          ],
          "contour": [
           {
            "colorbar": {
             "outlinewidth": 0,
             "ticks": ""
            },
            "colorscale": [
             [
              0,
              "#0d0887"
             ],
             [
              0.1111111111111111,
              "#46039f"
             ],
             [
              0.2222222222222222,
              "#7201a8"
             ],
             [
              0.3333333333333333,
              "#9c179e"
             ],
             [
              0.4444444444444444,
              "#bd3786"
             ],
             [
              0.5555555555555556,
              "#d8576b"
             ],
             [
              0.6666666666666666,
              "#ed7953"
             ],
             [
              0.7777777777777778,
              "#fb9f3a"
             ],
             [
              0.8888888888888888,
              "#fdca26"
             ],
             [
              1,
              "#f0f921"
             ]
            ],
            "type": "contour"
           }
          ],
          "contourcarpet": [
           {
            "colorbar": {
             "outlinewidth": 0,
             "ticks": ""
            },
            "type": "contourcarpet"
           }
          ],
          "heatmap": [
           {
            "colorbar": {
             "outlinewidth": 0,
             "ticks": ""
            },
            "colorscale": [
             [
              0,
              "#0d0887"
             ],
             [
              0.1111111111111111,
              "#46039f"
             ],
             [
              0.2222222222222222,
              "#7201a8"
             ],
             [
              0.3333333333333333,
              "#9c179e"
             ],
             [
              0.4444444444444444,
              "#bd3786"
             ],
             [
              0.5555555555555556,
              "#d8576b"
             ],
             [
              0.6666666666666666,
              "#ed7953"
             ],
             [
              0.7777777777777778,
              "#fb9f3a"
             ],
             [
              0.8888888888888888,
              "#fdca26"
             ],
             [
              1,
              "#f0f921"
             ]
            ],
            "type": "heatmap"
           }
          ],
          "histogram": [
           {
            "marker": {
             "pattern": {
              "fillmode": "overlay",
              "size": 10,
              "solidity": 0.2
             }
            },
            "type": "histogram"
           }
          ],
          "histogram2d": [
           {
            "colorbar": {
             "outlinewidth": 0,
             "ticks": ""
            },
            "colorscale": [
             [
              0,
              "#0d0887"
             ],
             [
              0.1111111111111111,
              "#46039f"
             ],
             [
              0.2222222222222222,
              "#7201a8"
             ],
             [
              0.3333333333333333,
              "#9c179e"
             ],
             [
              0.4444444444444444,
              "#bd3786"
             ],
             [
              0.5555555555555556,
              "#d8576b"
             ],
             [
              0.6666666666666666,
              "#ed7953"
             ],
             [
              0.7777777777777778,
              "#fb9f3a"
             ],
             [
              0.8888888888888888,
              "#fdca26"
             ],
             [
              1,
              "#f0f921"
             ]
            ],
            "type": "histogram2d"
           }
          ],
          "histogram2dcontour": [
           {
            "colorbar": {
             "outlinewidth": 0,
             "ticks": ""
            },
            "colorscale": [
             [
              0,
              "#0d0887"
             ],
             [
              0.1111111111111111,
              "#46039f"
             ],
             [
              0.2222222222222222,
              "#7201a8"
             ],
             [
              0.3333333333333333,
              "#9c179e"
             ],
             [
              0.4444444444444444,
              "#bd3786"
             ],
             [
              0.5555555555555556,
              "#d8576b"
             ],
             [
              0.6666666666666666,
              "#ed7953"
             ],
             [
              0.7777777777777778,
              "#fb9f3a"
             ],
             [
              0.8888888888888888,
              "#fdca26"
             ],
             [
              1,
              "#f0f921"
             ]
            ],
            "type": "histogram2dcontour"
           }
          ],
          "mesh3d": [
           {
            "colorbar": {
             "outlinewidth": 0,
             "ticks": ""
            },
            "type": "mesh3d"
           }
          ],
          "parcoords": [
           {
            "line": {
             "colorbar": {
              "outlinewidth": 0,
              "ticks": ""
             }
            },
            "type": "parcoords"
           }
          ],
          "pie": [
           {
            "automargin": true,
            "type": "pie"
           }
          ],
          "scatter": [
           {
            "fillpattern": {
             "fillmode": "overlay",
             "size": 10,
             "solidity": 0.2
            },
            "type": "scatter"
           }
          ],
          "scatter3d": [
           {
            "line": {
             "colorbar": {
              "outlinewidth": 0,
              "ticks": ""
             }
            },
            "marker": {
             "colorbar": {
              "outlinewidth": 0,
              "ticks": ""
             }
            },
            "type": "scatter3d"
           }
          ],
          "scattercarpet": [
           {
            "marker": {
             "colorbar": {
              "outlinewidth": 0,
              "ticks": ""
             }
            },
            "type": "scattercarpet"
           }
          ],
          "scattergeo": [
           {
            "marker": {
             "colorbar": {
              "outlinewidth": 0,
              "ticks": ""
             }
            },
            "type": "scattergeo"
           }
          ],
          "scattergl": [
           {
            "marker": {
             "colorbar": {
              "outlinewidth": 0,
              "ticks": ""
             }
            },
            "type": "scattergl"
           }
          ],
          "scattermap": [
           {
            "marker": {
             "colorbar": {
              "outlinewidth": 0,
              "ticks": ""
             }
            },
            "type": "scattermap"
           }
          ],
          "scattermapbox": [
           {
            "marker": {
             "colorbar": {
              "outlinewidth": 0,
              "ticks": ""
             }
            },
            "type": "scattermapbox"
           }
          ],
          "scatterpolar": [
           {
            "marker": {
             "colorbar": {
              "outlinewidth": 0,
              "ticks": ""
             }
            },
            "type": "scatterpolar"
           }
          ],
          "scatterpolargl": [
           {
            "marker": {
             "colorbar": {
              "outlinewidth": 0,
              "ticks": ""
             }
            },
            "type": "scatterpolargl"
           }
          ],
          "scatterternary": [
           {
            "marker": {
             "colorbar": {
              "outlinewidth": 0,
              "ticks": ""
             }
            },
            "type": "scatterternary"
           }
          ],
          "surface": [
           {
            "colorbar": {
             "outlinewidth": 0,
             "ticks": ""
            },
            "colorscale": [
             [
              0,
              "#0d0887"
             ],
             [
              0.1111111111111111,
              "#46039f"
             ],
             [
              0.2222222222222222,
              "#7201a8"
             ],
             [
              0.3333333333333333,
              "#9c179e"
             ],
             [
              0.4444444444444444,
              "#bd3786"
             ],
             [
              0.5555555555555556,
              "#d8576b"
             ],
             [
              0.6666666666666666,
              "#ed7953"
             ],
             [
              0.7777777777777778,
              "#fb9f3a"
             ],
             [
              0.8888888888888888,
              "#fdca26"
             ],
             [
              1,
              "#f0f921"
             ]
            ],
            "type": "surface"
           }
          ],
          "table": [
           {
            "cells": {
             "fill": {
              "color": "#EBF0F8"
             },
             "line": {
              "color": "white"
             }
            },
            "header": {
             "fill": {
              "color": "#C8D4E3"
             },
             "line": {
              "color": "white"
             }
            },
            "type": "table"
           }
          ]
         },
         "layout": {
          "annotationdefaults": {
           "arrowcolor": "#2a3f5f",
           "arrowhead": 0,
           "arrowwidth": 1
          },
          "autotypenumbers": "strict",
          "coloraxis": {
           "colorbar": {
            "outlinewidth": 0,
            "ticks": ""
           }
          },
          "colorscale": {
           "diverging": [
            [
             0,
             "#8e0152"
            ],
            [
             0.1,
             "#c51b7d"
            ],
            [
             0.2,
             "#de77ae"
            ],
            [
             0.3,
             "#f1b6da"
            ],
            [
             0.4,
             "#fde0ef"
            ],
            [
             0.5,
             "#f7f7f7"
            ],
            [
             0.6,
             "#e6f5d0"
            ],
            [
             0.7,
             "#b8e186"
            ],
            [
             0.8,
             "#7fbc41"
            ],
            [
             0.9,
             "#4d9221"
            ],
            [
             1,
             "#276419"
            ]
           ],
           "sequential": [
            [
             0,
             "#0d0887"
            ],
            [
             0.1111111111111111,
             "#46039f"
            ],
            [
             0.2222222222222222,
             "#7201a8"
            ],
            [
             0.3333333333333333,
             "#9c179e"
            ],
            [
             0.4444444444444444,
             "#bd3786"
            ],
            [
             0.5555555555555556,
             "#d8576b"
            ],
            [
             0.6666666666666666,
             "#ed7953"
            ],
            [
             0.7777777777777778,
             "#fb9f3a"
            ],
            [
             0.8888888888888888,
             "#fdca26"
            ],
            [
             1,
             "#f0f921"
            ]
           ],
           "sequentialminus": [
            [
             0,
             "#0d0887"
            ],
            [
             0.1111111111111111,
             "#46039f"
            ],
            [
             0.2222222222222222,
             "#7201a8"
            ],
            [
             0.3333333333333333,
             "#9c179e"
            ],
            [
             0.4444444444444444,
             "#bd3786"
            ],
            [
             0.5555555555555556,
             "#d8576b"
            ],
            [
             0.6666666666666666,
             "#ed7953"
            ],
            [
             0.7777777777777778,
             "#fb9f3a"
            ],
            [
             0.8888888888888888,
             "#fdca26"
            ],
            [
             1,
             "#f0f921"
            ]
           ]
          },
          "colorway": [
           "#636efa",
           "#EF553B",
           "#00cc96",
           "#ab63fa",
           "#FFA15A",
           "#19d3f3",
           "#FF6692",
           "#B6E880",
           "#FF97FF",
           "#FECB52"
          ],
          "font": {
           "color": "#2a3f5f"
          },
          "geo": {
           "bgcolor": "white",
           "lakecolor": "white",
           "landcolor": "#E5ECF6",
           "showlakes": true,
           "showland": true,
           "subunitcolor": "white"
          },
          "hoverlabel": {
           "align": "left"
          },
          "hovermode": "closest",
          "mapbox": {
           "style": "light"
          },
          "paper_bgcolor": "white",
          "plot_bgcolor": "#E5ECF6",
          "polar": {
           "angularaxis": {
            "gridcolor": "white",
            "linecolor": "white",
            "ticks": ""
           },
           "bgcolor": "#E5ECF6",
           "radialaxis": {
            "gridcolor": "white",
            "linecolor": "white",
            "ticks": ""
           }
          },
          "scene": {
           "xaxis": {
            "backgroundcolor": "#E5ECF6",
            "gridcolor": "white",
            "gridwidth": 2,
            "linecolor": "white",
            "showbackground": true,
            "ticks": "",
            "zerolinecolor": "white"
           },
           "yaxis": {
            "backgroundcolor": "#E5ECF6",
            "gridcolor": "white",
            "gridwidth": 2,
            "linecolor": "white",
            "showbackground": true,
            "ticks": "",
            "zerolinecolor": "white"
           },
           "zaxis": {
            "backgroundcolor": "#E5ECF6",
            "gridcolor": "white",
            "gridwidth": 2,
            "linecolor": "white",
            "showbackground": true,
            "ticks": "",
            "zerolinecolor": "white"
           }
          },
          "shapedefaults": {
           "line": {
            "color": "#2a3f5f"
           }
          },
          "ternary": {
           "aaxis": {
            "gridcolor": "white",
            "linecolor": "white",
            "ticks": ""
           },
           "baxis": {
            "gridcolor": "white",
            "linecolor": "white",
            "ticks": ""
           },
           "bgcolor": "#E5ECF6",
           "caxis": {
            "gridcolor": "white",
            "linecolor": "white",
            "ticks": ""
           }
          },
          "title": {
           "x": 0.05
          },
          "xaxis": {
           "automargin": true,
           "gridcolor": "white",
           "linecolor": "white",
           "ticks": "",
           "title": {
            "standoff": 15
           },
           "zerolinecolor": "white",
           "zerolinewidth": 2
          },
          "yaxis": {
           "automargin": true,
           "gridcolor": "white",
           "linecolor": "white",
           "ticks": "",
           "title": {
            "standoff": 15
           },
           "zerolinecolor": "white",
           "zerolinewidth": 2
          }
         }
        },
        "xaxis": {
         "anchor": "y",
         "domain": [
          0,
          1
         ],
         "title": {
          "text": "Taxa de esforço do crédito para habitação permanente"
         }
        },
        "yaxis": {
         "anchor": "x",
         "domain": [
          0,
          1
         ],
         "showgrid": false,
         "showticklabels": false,
         "title": {
          "text": "y"
         }
        }
       }
      }
     },
     "metadata": {},
     "output_type": "display_data"
    },
    {
     "name": "stdout",
     "output_type": "stream",
     "text": [
      "credito_habitacao_permanente\n",
      "0     63\n",
      "1    149\n",
      "2     96\n",
      "Name: count, dtype: int64\n",
      "File saved to csv_files/2_Taxa de esforço do crédito para habitação permanente.csv\n"
     ]
    }
   ],
   "source": [
    "clustered_df = aplicar_kmeans(only_municipalities_df,3,nome_cluster='credito_habitacao_permanente')\n",
    "save_clustered_df_to_csv(clustered_df,\"csv_files/\", \"2_Taxa de esforço do crédito para habitação permanente.csv\")"
   ]
  }
 ],
 "metadata": {
  "kernelspec": {
   "display_name": "ade_venv",
   "language": "python",
   "name": "python3"
  },
  "language_info": {
   "codemirror_mode": {
    "name": "ipython",
    "version": 3
   },
   "file_extension": ".py",
   "mimetype": "text/x-python",
   "name": "python",
   "nbconvert_exporter": "python",
   "pygments_lexer": "ipython3",
   "version": "3.13.0"
  }
 },
 "nbformat": 4,
 "nbformat_minor": 5
}
