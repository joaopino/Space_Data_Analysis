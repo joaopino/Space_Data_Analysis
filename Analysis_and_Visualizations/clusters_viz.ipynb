{
 "cells": [
  {
   "cell_type": "markdown",
   "id": "dd334ef5",
   "metadata": {},
   "source": [
    "## Visualization for the clusters for every municipaliy"
   ]
  },
  {
   "cell_type": "markdown",
   "id": "10b102e9",
   "metadata": {},
   "source": [
    "### Iniatilizations"
   ]
  },
  {
   "cell_type": "code",
   "execution_count": null,
   "id": "8076a48e",
   "metadata": {},
   "outputs": [],
   "source": [
    "import geopandas as gpd\n",
    "import pandas as pd\n",
    "import plotly.express as px\n",
    "import pyproj\n",
    "\n",
    "dataset_path = '../data/final_dataset.csv'\n",
    "geojson_path = '../data/geojson_files/ContinenteConcelhos.geojson'\n",
    "\n"
   ]
  },
  {
   "cell_type": "markdown",
   "id": "79efa8ba",
   "metadata": {},
   "source": [
    "## Geodata preparations"
   ]
  },
  {
   "cell_type": "code",
   "execution_count": null,
   "id": "705b31f9",
   "metadata": {},
   "outputs": [],
   "source": [
    "gdf = gpd.read_file(geojson_path)\n",
    "\n",
    "print(\"Columns:\", gdf.columns.tolist())\n",
    "print(\"CRS:\", gdf.crs)\n",
    "print(\"Number of features:\", len(gdf))\n",
    "print(\"Geometry type:\", gdf.geom_type.unique())\n",
    "gdf.head()"
   ]
  },
  {
   "cell_type": "code",
   "execution_count": null,
   "id": "89368dd8",
   "metadata": {},
   "outputs": [],
   "source": [
    "gdf.to_crs(pyproj.CRS.from_epsg(4326), inplace=True)\n",
    "\n",
    "fig = px.choropleth(gdf, geojson=gdf.geometry, locations=gdf.index)\n",
    "fig.update_geos(fitbounds=\"locations\", visible=False)\n",
    "\n",
    "fig.update_traces(hovertemplate='%{customdata[0]}<extra></extra>', customdata=gdf[['Concelho']].values)\n"
   ]
  },
  {
   "cell_type": "code",
   "execution_count": null,
   "id": "c0f8fa10",
   "metadata": {},
   "outputs": [],
   "source": [
    "df_clusters = pd.read_csv(dataset_path)[\"local\"]\n",
    "df_geodata = gdf[\"Concelho\"]\n",
    "\n",
    "common_values = set(df_geodata.str.upper()).intersection(set(df_clusters.str.upper()))\n",
    "print(\"Number of common values:\", len(common_values))\n",
    "print(\"Common values:\", common_values)\n",
    "\n",
    "not_in_geodata = set(df_clusters.str.upper()) - common_values\n",
    "not_in_clusters = set(df_geodata.str.upper()) - common_values\n",
    "\n",
    "print(\"Values in dataset but not in geojson:\", not_in_geodata)\n",
    "print(\"Values in geojson but not in dataset:\", not_in_clusters) ##Left out shoudld be in Azores or Madeira"
   ]
  },
  {
   "cell_type": "code",
   "execution_count": null,
   "id": "5f85aa05",
   "metadata": {},
   "outputs": [],
   "source": [
    "df_dataset = pd.read_csv(dataset_path)\n",
    "\n",
    "clusters_df = pd.merge(\n",
    "    gdf,\n",
    "    df_dataset,\n",
    "    left_on=gdf['Concelho'].str.upper(),\n",
    "    right_on=df_dataset['local'].str.upper(),\n",
    "    how='inner'\n",
    ")\n",
    "clusters_df\n"
   ]
  }
 ],
 "metadata": {
  "kernelspec": {
   "display_name": "ade_venv",
   "language": "python",
   "name": "python3"
  },
  "language_info": {
   "codemirror_mode": {
    "name": "ipython",
    "version": 3
   },
   "file_extension": ".py",
   "mimetype": "text/x-python",
   "name": "python",
   "nbconvert_exporter": "python",
   "pygments_lexer": "ipython3",
   "version": "3.13.0"
  }
 },
 "nbformat": 4,
 "nbformat_minor": 5
}
