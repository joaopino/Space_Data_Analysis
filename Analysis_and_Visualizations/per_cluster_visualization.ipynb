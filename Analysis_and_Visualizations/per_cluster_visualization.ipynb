{
 "cells": [
  {
   "cell_type": "markdown",
   "id": "dd334ef5",
   "metadata": {},
   "source": [
    "## Visualization of clusters per attribute\n",
    "\n",
    "This notebook intends to aid the analysis per attribute for every municipality"
   ]
  },
  {
   "cell_type": "markdown",
   "id": "10b102e9",
   "metadata": {},
   "source": [
    "## Iniatilizations"
   ]
  },
  {
   "cell_type": "code",
   "execution_count": null,
   "id": "8076a48e",
   "metadata": {},
   "outputs": [],
   "source": [
    "from IPython.display import Image, display\n",
    "from map_vizualization import add_geodata, plot_map,analyse_geodata, saves_pic_of_clusters_analysis\n",
    "\n",
    "dataset_path = '../data/final_dataset.csv'\n",
    "geojson_path = '../data/geojson_files/ContinenteConcelhos.geojson'\n",
    "\n",
    "#Import dataset\n",
    "dataframe = add_geodata(geojson_path, dataset_path)"
   ]
  },
  {
   "cell_type": "markdown",
   "id": "61b707e0",
   "metadata": {},
   "source": [
    "### Dictionary to choose which attribute to analyse"
   ]
  },
  {
   "cell_type": "code",
   "execution_count": null,
   "id": "e13bf375",
   "metadata": {
    "vscode": {
     "languageId": "shellscript"
    }
   },
   "outputs": [],
   "source": [
    "attributes_dict = {\n",
    "    1: \"ensino_secundario_completo\",\n",
    "    2: \"total_medio_pensoes\",\n",
    "    3: \"Edificios Concluidos\",\n",
    "    4: \"beneficiarios_rsi_por_100hab\",\n",
    "    5: \"Vendas\",\n",
    "    6: \"taxa_criminalidade\",\n",
    "    7: \"retencao_desistencia_ensino_basico\",\n",
    "    8: \"num_pedidos_residencia\",\n",
    "    9: \"empregada_por_conta_outrem_com_ensino_superior\",\n",
    "    10: \"taxa_bruta_escolarizacao_ensino_secundario\",\n",
    "    11: \"Densidade_alojamentos\",\n",
    "    12: \"ganho_mensal\",\n",
    "    13: \"taxa_crescimento\",\n",
    "    14: \"Duracao_sub_desemprego\",\n",
    "    15: \"Estabelecimentos\",\n",
    "    16: \"saldo_migratorio\",\n",
    "    17: \"votos_por_partido_ou_coligacao_x\",\n",
    "    18: \"populacao_ativa\",\n",
    "    19: \"votos_por_partido_ou_coligacao_y\",\n",
    "    20: \"saldo_natural\",\n",
    "    21: \"residente_empregada_estudante\",\n",
    "    22: \"beneficiarios_abono_familia\",\n",
    "    23: \"valor_rsi\",\n",
    "    24: \"num_estabelecimentos_ensino_nao_superior\",\n",
    "    25: \"num_crimes_municipios\",\n",
    "    26: \"Idade_População\",\n",
    "    27: \"taxa_de_abstenção\",\n",
    "    28: \"Volume de negócios\",\n",
    "    29: \"poder_de_compra\",\n",
    "    30: \"Sessões de espetáculos ao vivo\",\n",
    "    31: \"Pessoal ao serviço dos estabelecimentos \",\n",
    "    32: \"nivel_maximo_escolaridade\",\n",
    "    33: \"pop_empregada_outrem_escalão\",\n",
    "    34: \"Rendas\",\n",
    "    35: \"Bens imóveis\",\n",
    "    36: \"Valor médio dos bilhetes vendidos\",\n",
    "    37: \"Alojamentos\",\n",
    "    38: \"taxa_emprego\",\n",
    "    39: \"credito_habitacao_permanente\",\n",
    "    40: \"votos_nulos_assembleias_municipais\",\n",
    "    41: \"pop_inscrita_eleicoes_assembleias_municipais\",\n",
    "    42: \"Despesas em bibliotecas e arquivos\",\n",
    "    43: \"Índice De Renovação\",\n",
    "    44: \"Densidade_População\",\n",
    "    45: \"Num_Beneficiarios_sub_desemprego\",\n",
    "    46: \"rendimento_bruto\",\n",
    "    47: \"matriculados_ensino_nao_superior\",\n",
    "}\n"
   ]
  },
  {
   "cell_type": "markdown",
   "id": "d44d5ab2",
   "metadata": {},
   "source": [
    "## Configurations"
   ]
  },
  {
   "cell_type": "code",
   "execution_count": null,
   "id": "50d48684",
   "metadata": {},
   "outputs": [],
   "source": [
    "attribute = attributes_dict[26]\n",
    "print(f\"Attribute: {attribute}\")\n",
    "\n",
    "color_map = {\n",
    "    \"0.0\": \"#FFFFCC\",  \n",
    "    \"1.0\": \"#FFFF33\",  \n",
    "    \"2.0\": \"#FFCC00\",\n",
    "}"
   ]
  },
  {
   "cell_type": "markdown",
   "id": "13d203bb",
   "metadata": {},
   "source": [
    "### Display the map"
   ]
  },
  {
   "cell_type": "code",
   "execution_count": null,
   "id": "83201afe",
   "metadata": {},
   "outputs": [],
   "source": [
    "image_path = 'attribute_cluster_analysis/'+attribute+\".png\"  # Replace with your actual image path\n",
    "display(Image(filename=image_path))\n"
   ]
  },
  {
   "cell_type": "markdown",
   "id": "4ed9d2b3",
   "metadata": {},
   "source": [
    "### Display histogram with distribution"
   ]
  },
  {
   "cell_type": "code",
   "execution_count": null,
   "id": "b134a8ae",
   "metadata": {},
   "outputs": [],
   "source": [
    "import matplotlib.pyplot as plt\n",
    "plt.figure(figsize=(8, 5))\n",
    "data = dataframe[attribute].dropna()\n",
    "plt.hist(data, bins=10, color='#FFCC00', edgecolor='black')\n",
    "plt.xlabel(attribute)\n",
    "plt.ylabel('Number of Occurrences')\n",
    "plt.grid(axis='y', alpha=0.3)\n",
    "plt.show()"
   ]
  },
  {
   "cell_type": "markdown",
   "id": "09d4a4a0",
   "metadata": {},
   "source": [
    "## If Necessary, plots maps"
   ]
  },
  {
   "cell_type": "code",
   "execution_count": null,
   "id": "2aabaf64",
   "metadata": {},
   "outputs": [],
   "source": [
    "#plot_map(dataframe,attribute, color_map)x"
   ]
  }
 ],
 "metadata": {
  "kernelspec": {
   "display_name": "ade_venv",
   "language": "python",
   "name": "python3"
  },
  "language_info": {
   "codemirror_mode": {
    "name": "ipython",
    "version": 3
   },
   "file_extension": ".py",
   "mimetype": "text/x-python",
   "name": "python",
   "nbconvert_exporter": "python",
   "pygments_lexer": "ipython3",
   "version": "3.13.0"
  }
 },
 "nbformat": 4,
 "nbformat_minor": 5
}
