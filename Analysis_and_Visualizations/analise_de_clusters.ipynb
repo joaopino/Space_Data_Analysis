{
 "cells": [
  {
   "cell_type": "code",
   "execution_count": null,
   "id": "f7567d40",
   "metadata": {},
   "outputs": [],
   "source": [
    "import pandas as pd\n",
    "from aux_analysis import plot_correlacoes_interativas, analisar_variaveis_por_cluster,kmeans,top_correlations,drop_low_correlation_vars,clustering\n",
    "from map_vizualization import add_geodata, plot_map,analyse_geodata, saves_pic_of_clusters_analysis\n",
    "\n",
    "geojson_path = '../data/geojson_files/ContinenteConcelhos.geojson'"
   ]
  },
  {
   "cell_type": "code",
   "execution_count": null,
   "id": "3649469e",
   "metadata": {},
   "outputs": [],
   "source": [
    "df = pd.read_csv('../data/final_dataset.csv')\n",
    "df.head(2)"
   ]
  },
  {
   "cell_type": "code",
   "execution_count": null,
   "id": "47501759",
   "metadata": {},
   "outputs": [],
   "source": [
    "#plot_correlacoes_interativas(df_bruto)"
   ]
  },
  {
   "cell_type": "code",
   "execution_count": null,
   "id": "4f4ecd01",
   "metadata": {},
   "outputs": [],
   "source": [
    "plot_correlacoes_interativas(df)"
   ]
  },
  {
   "cell_type": "code",
   "execution_count": null,
   "id": "016a0ab5",
   "metadata": {},
   "outputs": [],
   "source": [
    "df_filtrado, removidas = drop_low_correlation_vars(df, 0.4)\n",
    "print(\"Variáveis eliminadas:\", removidas)\n",
    "\n",
    "plot_correlacoes_interativas(df_filtrado)"
   ]
  },
  {
   "cell_type": "code",
   "execution_count": null,
   "id": "1f2924fe",
   "metadata": {},
   "outputs": [],
   "source": [
    "top_corr_df = top_correlations(df_filtrado)\n",
    "#print(top_corr_df.head())\n",
    "#top_corr_df.to_csv('ver_correlacoes.csv')\n"
   ]
  },
  {
   "cell_type": "markdown",
   "id": "dc6e991d",
   "metadata": {},
   "source": [
    "# Relações entre variáveis"
   ]
  },
  {
   "cell_type": "code",
   "execution_count": null,
   "id": "d90e94c9",
   "metadata": {},
   "outputs": [],
   "source": [
    "features = ['num_pedidos_residencia', 'num_crimes_municipios']\n",
    "path_crimes_pedidos_resi ='../data/relacao_crimes_pedidos_resi.csv'\n",
    "resultado = kmeans(df,features,x_axis=features[0],y_axis=features[1],n_clusters=4,path =path_crimes_pedidos_resi)"
   ]
  },
  {
   "cell_type": "code",
   "execution_count": null,
   "id": "979a4a59",
   "metadata": {},
   "outputs": [],
   "source": [
    "features = ['saldo_migratorio','num_crimes_municipios']\n",
    "path_crimes_saldo_migratorio ='../data/relacao_crimes_saldo_migratorio'\n",
    "resultado = kmeans(df,features,x_axis=features[0],y_axis=features[1],n_clusters=3,path = path_crimes_saldo_migratorio)"
   ]
  },
  {
   "cell_type": "code",
   "execution_count": null,
   "id": "003bb90f",
   "metadata": {},
   "outputs": [],
   "source": [
    "features = ['poder_de_compra','taxa_de_abstenção']\n",
    "path_abstencao_poder_compra ='../data/relacao_abstencao_poder_compra.csv'\n",
    "resultado = kmeans(df,features,x_axis=features[0],y_axis=features[1],n_clusters=4,path =path_abstencao_poder_compra)"
   ]
  },
  {
   "cell_type": "code",
   "execution_count": null,
   "id": "4f19afe3",
   "metadata": {},
   "outputs": [],
   "source": [
    "features = ['poder_de_compra','taxa_emprego']\n",
    "path_emprego_poder_compra='../data/relacao_emprego_poder_compra.csv'\n",
    "resultado = kmeans(df,features,x_axis=features[0],y_axis=features[1],n_clusters=4,path =path_emprego_poder_compra)"
   ]
  },
  {
   "cell_type": "code",
   "execution_count": null,
   "id": "31662a66",
   "metadata": {},
   "outputs": [],
   "source": [
    "features = ['valor_rsi','rendimento_bruto']\n",
    "path_rendimento_rsi ='../data/relacao_rendimento_rsi.csv'\n",
    "resultado = kmeans(df,features,x_axis=features[0],y_axis=features[1],n_clusters=4,path =path_rendimento_rsi)"
   ]
  },
  {
   "cell_type": "code",
   "execution_count": null,
   "id": "a169ae1e",
   "metadata": {},
   "outputs": [],
   "source": [
    "features = ['poder_de_compra','ganho_mensal']\n",
    "path_ganho_mensal_poder_compra ='../data/relacao_ganho_mensal_poder_compra.csv'\n",
    "resultado = kmeans(df,features,x_axis=features[0],y_axis=features[1],n_clusters=4,path =path_ganho_mensal_poder_compra)"
   ]
  },
  {
   "cell_type": "code",
   "execution_count": null,
   "id": "d34d04c4",
   "metadata": {},
   "outputs": [],
   "source": [
    "features = ['Densidade_População','populacao_ativa']\n",
    "path_densidade_pop_e_pop_ativa='../data/relacao_densidade_pop_e_pop_ativa'\n",
    "resultado = kmeans(df,features,x_axis=features[0],y_axis=features[1],n_clusters=4,path =path_densidade_pop_e_pop_ativa)"
   ]
  },
  {
   "cell_type": "code",
   "execution_count": null,
   "id": "d9499588",
   "metadata": {},
   "outputs": [],
   "source": [
    "features = ['ensino_secundario_completo','populacao_ativa']\n",
    "path_ensino_pop_ativa ='../data/relacao_ensino_pop_ativa.csv'\n",
    "resultado = kmeans(df,features,x_axis=features[0],y_axis=features[1],n_clusters=4,path =path_ensino_pop_ativa)"
   ]
  },
  {
   "cell_type": "code",
   "execution_count": null,
   "id": "3f1cafd1",
   "metadata": {},
   "outputs": [],
   "source": [
    "features = ['valor_rsi','ensino_secundario_completo']\n",
    "path_ensino_rsi ='../data/relacao_ensino_rsi.csv'\n",
    "resultado = kmeans(df,features,x_axis=features[0],y_axis=features[1],n_clusters=4,path =path_ensino_rsi)"
   ]
  },
  {
   "cell_type": "markdown",
   "id": "511db50e",
   "metadata": {},
   "source": [
    "# Clustering"
   ]
  },
  {
   "cell_type": "markdown",
   "id": "dcf033c2",
   "metadata": {},
   "source": [
    "## Cluster Vulnerabilidade Social"
   ]
  },
  {
   "cell_type": "code",
   "execution_count": null,
   "id": "a4486480",
   "metadata": {},
   "outputs": [],
   "source": [
    "path_cluster_vulnerabilidade_social = '../data/cluster_vulnerabilidade_social'\n",
    "\n",
    "vars_vulnerabilidade_social=[\n",
    "    'valor_rsi',\n",
    "    'beneficiarios_abono_familia',\n",
    "    'taxa_criminalidade',\n",
    "    'saldo_migratorio',\n",
    "    'num_pedidos_residencia'\n",
    "    ]\n",
    "\n",
    "resultado_vulnerabilidade_social= clustering(\n",
    "    df=df,\n",
    "    variaveis=vars_vulnerabilidade_social,\n",
    "    nome = 'cluster_vulnerabilidade_social',\n",
    "    n_clusters=3,\n",
    "    path = path_cluster_vulnerabilidade_social\n",
    ")\n",
    "\n",
    "\n",
    "analisar_variaveis_por_cluster(\n",
    "    df=resultado_vulnerabilidade_social,\n",
    "    cluster_col='cluster_vulnerabilidade_social',\n",
    "    variaveis=vars_vulnerabilidade_social,\n",
    "    incluir_coluna_extra='local'\n",
    ")\n"
   ]
  },
  {
   "cell_type": "code",
   "execution_count": null,
   "id": "a546da32",
   "metadata": {},
   "outputs": [],
   "source": [
    "dataframe = add_geodata(geojson_path, path_cluster_vulnerabilidade_social)\n",
    "color_map = {\n",
    "    \"0.0\": \"#FFFFCC\",  \n",
    "    \"1.0\": \"#FFFF33\",  \n",
    "    \"2.0\": \"#FFCC00\",\n",
    "}\n",
    "plot_map(dataframe,'cluster_vulnerabilidade_social', color_map)"
   ]
  },
  {
   "cell_type": "markdown",
   "id": "7a7e2b54",
   "metadata": {},
   "source": [
    "## Cluster Fatores Económicos"
   ]
  },
  {
   "cell_type": "code",
   "execution_count": null,
   "id": "e74e2d2d",
   "metadata": {},
   "outputs": [],
   "source": [
    "path_cluster_economia = '../data/cluster_economia.csv'\n",
    "\n",
    "variaveis_economicas = [\n",
    "    'Volume de negócios',\n",
    "    'rendimento_bruto',\n",
    "    'ganho_mensal',\n",
    "    'poder_de_compra',\n",
    "    'taxa_emprego',\n",
    "    'populacao_ativa'\n",
    "]\n",
    "\n",
    "resultado_economia = clustering(\n",
    "    df=df,\n",
    "    variaveis=variaveis_economicas,\n",
    "    n_clusters=3,\n",
    "    nome = 'cluster_economia',\n",
    "    path = path_cluster_economia\n",
    ")\n",
    "\n",
    "analisar_variaveis_por_cluster(\n",
    "    df=resultado_economia,\n",
    "    cluster_col='cluster_economia',\n",
    "    variaveis=variaveis_economicas,\n",
    "    incluir_coluna_extra='local'\n",
    ")\n"
   ]
  },
  {
   "cell_type": "code",
   "execution_count": null,
   "id": "0a3e1541",
   "metadata": {},
   "outputs": [],
   "source": [
    "df[variaveis_economicas].isna().sum().sort_values(ascending=False)"
   ]
  },
  {
   "cell_type": "code",
   "execution_count": null,
   "id": "b8daae83",
   "metadata": {},
   "outputs": [],
   "source": [
    "'''dataframe = add_geodata(geojson_path, path_cluster_economia)\n",
    "color_map = {\n",
    "    \"0.0\": \"#FFFFCC\",  \n",
    "    \"1.0\": \"#FFFF33\",  \n",
    "    \"2.0\": \"#FFCC00\",\n",
    "}\n",
    "plot_map(dataframe,'cluster_economia', color_map)'''"
   ]
  }
 ],
 "metadata": {
  "kernelspec": {
   "display_name": "base",
   "language": "python",
   "name": "python3"
  },
  "language_info": {
   "codemirror_mode": {
    "name": "ipython",
    "version": 3
   },
   "file_extension": ".py",
   "mimetype": "text/x-python",
   "name": "python",
   "nbconvert_exporter": "python",
   "pygments_lexer": "ipython3",
   "version": "3.11.5"
  }
 },
 "nbformat": 4,
 "nbformat_minor": 5
}
