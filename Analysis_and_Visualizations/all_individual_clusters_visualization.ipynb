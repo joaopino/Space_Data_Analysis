{
 "cells": [
  {
   "cell_type": "markdown",
   "id": "dd334ef5",
   "metadata": {},
   "source": [
    "## Visualization for the clusters for every municipaliy"
   ]
  },
  {
   "cell_type": "markdown",
   "id": "10b102e9",
   "metadata": {},
   "source": [
    "### Iniatilizations"
   ]
  },
  {
   "cell_type": "code",
   "execution_count": null,
   "id": "8076a48e",
   "metadata": {},
   "outputs": [],
   "source": [
    "\n",
    "import geopandas as gpd\n",
    "import pandas as pd\n",
    "\n",
    "from map_vizualization import add_geodata, plot_map,analyse_geodata, saves_pic_of_clusters_analysis\n",
    "\n",
    "dataset_path = '../data/final_dataset.csv'\n",
    "geojson_path = '../data/geojson_files/ContinenteConcelhos.geojson'\n"
   ]
  },
  {
   "cell_type": "markdown",
   "id": "79efa8ba",
   "metadata": {},
   "source": [
    "## Geodata preparations"
   ]
  },
  {
   "cell_type": "markdown",
   "id": "8ce4a207",
   "metadata": {},
   "source": [
    "### Add the geodata to the dataset data"
   ]
  },
  {
   "cell_type": "code",
   "execution_count": null,
   "id": "9a801a32",
   "metadata": {},
   "outputs": [],
   "source": [
    "dataframe = add_geodata(geojson_path, dataset_path)\n",
    "#analyse_geodata(geojson_path)\n",
    "dataframe"
   ]
  },
  {
   "cell_type": "markdown",
   "id": "36d0fcc4",
   "metadata": {},
   "source": [
    "## Visualizations"
   ]
  },
  {
   "cell_type": "markdown",
   "id": "13d203bb",
   "metadata": {},
   "source": [
    "### Singular visualization"
   ]
  },
  {
   "cell_type": "code",
   "execution_count": null,
   "id": "1db02a33",
   "metadata": {},
   "outputs": [],
   "source": [
    "color_map = {\n",
    "    \"0.0\": \"#FFFFCC\",  \n",
    "    \"1.0\": \"#FFFF33\",  \n",
    "    \"2.0\": \"#FFCC00\",\n",
    "      \n",
    "}\n",
    "plot_map(dataframe,\"nivel_maximo_escolaridade\", color_map)"
   ]
  },
  {
   "cell_type": "markdown",
   "id": "4ed9d2b3",
   "metadata": {},
   "source": [
    "### Run and save multiple visualizations"
   ]
  },
  {
   "cell_type": "code",
   "execution_count": null,
   "id": "86257b82",
   "metadata": {},
   "outputs": [],
   "source": [
    "saves_pic_of_clusters_analysis(dataframe, \"nivel_maximo_escolaridade\", color_map, \"nivel_maximo_escolaridade\", \"attribute_cluster_analysis/\",False)"
   ]
  },
  {
   "cell_type": "code",
   "execution_count": null,
   "id": "328a908d",
   "metadata": {},
   "outputs": [],
   "source": [
    "# for attribute in  dataframe.columns.tolist()[13:]:\n",
    "#     saves_pic_of_clusters_analysis(dataframe, attribute, color_map, attribute, \"attribute_cluster_analysis/\",False)"
   ]
  }
 ],
 "metadata": {
  "kernelspec": {
   "display_name": "ade_venv",
   "language": "python",
   "name": "python3"
  },
  "language_info": {
   "codemirror_mode": {
    "name": "ipython",
    "version": 3
   },
   "file_extension": ".py",
   "mimetype": "text/x-python",
   "name": "python",
   "nbconvert_exporter": "python",
   "pygments_lexer": "ipython3",
   "version": "3.13.0"
  }
 },
 "nbformat": 4,
 "nbformat_minor": 5
}
